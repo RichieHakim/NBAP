{
 "cells": [
  {
   "cell_type": "code",
   "execution_count": 1,
   "id": "a288bb6d",
   "metadata": {},
   "outputs": [
    {
     "data": {
      "text/html": [
       "<style>.container {width:95% !important; }</style>"
      ],
      "text/plain": [
       "<IPython.core.display.HTML object>"
      ]
     },
     "metadata": {},
     "output_type": "display_data"
    },
    {
     "name": "stdout",
     "output_type": "stream",
     "text": [
      "Conda Environment: rapids-0.19\n"
     ]
    }
   ],
   "source": [
    "# widen jupyter notebook window\n",
    "from IPython.core.display import display, HTML\n",
    "display(HTML(\"<style>.container {width:95% !important; }</style>\"))\n",
    "\n",
    "# check environment\n",
    "import os\n",
    "print(f'Conda Environment: ' + os.environ['CONDA_DEFAULT_ENV'])"
   ]
  },
  {
   "cell_type": "code",
   "execution_count": 2,
   "id": "f35f5f77",
   "metadata": {},
   "outputs": [],
   "source": [
    "import matplotlib.pyplot as plt\n",
    "\n",
    "import numpy as np\n",
    "import torch\n",
    "\n",
    "import scipy.io\n",
    "import scipy.interpolate\n",
    "\n",
    "import sklearn\n",
    "\n",
    "from tqdm.notebook import tqdm\n",
    "\n",
    "import copy\n",
    "import time\n",
    "import gc\n",
    "from pathlib import Path"
   ]
  },
  {
   "cell_type": "code",
   "execution_count": 4,
   "id": "58550fa5",
   "metadata": {},
   "outputs": [
    {
     "name": "stdout",
     "output_type": "stream",
     "text": [
      "The autoreload extension is already loaded. To reload it, use:\n",
      "  %reload_ext autoreload\n"
     ]
    }
   ],
   "source": [
    "import sys\n",
    "sys.path.append(\"/n/data1/hms/neurobio/sabatini/rich/github_repos/\")\n",
    "# sys.path.append(\"/media/rich/Home_Linux_partition/github_repos/\")\n",
    "\n",
    "%load_ext autoreload\n",
    "%autoreload 2\n",
    "from basic_neural_processing_modules import *"
   ]
  },
  {
   "cell_type": "code",
   "execution_count": 9,
   "id": "470a4b79",
   "metadata": {},
   "outputs": [],
   "source": [
    "# dir_allExpDirs = Path('/n/data1/hms/neurobio/sabatini/rich/data/res2p/round_5_experiments/mouse_2_6/scanimage/').resolve()\n",
    "dir_allExpDirs = Path('/media/rich/bigSSD/res2p/scanimage data/round 5 experiments/mouse 2_6/just_stat_files').resolve()\n",
    "\n",
    "dir_allNeuralData = Path('/media/rich/bigSSD/analysis_data/mouse 2_6/cascade_output').resolve()"
   ]
  },
  {
   "cell_type": "markdown",
   "id": "6c06f604",
   "metadata": {},
   "source": [
    "import experiment files"
   ]
  },
  {
   "cell_type": "code",
   "execution_count": 6,
   "id": "646abfc1",
   "metadata": {},
   "outputs": [],
   "source": [
    "paths_exp = path_helpers.get_numeric_contents(dir_allExpDirs, sort=True)[0]\n",
    "del paths_exp[0:2]\n",
    "del paths_exp[-1]"
   ]
  },
  {
   "cell_type": "code",
   "execution_count": 8,
   "id": "2260b12b",
   "metadata": {
    "scrolled": true
   },
   "outputs": [],
   "source": [
    "expParams = [ scipy.io.loadmat(path / \"expParams.mat\", simplify_cells=True)['expParams'] for path in paths_exp ]\n",
    "trialStuff = [ scipy.io.loadmat(path / \"analysis_lastNight/trialStuff.mat\", simplify_cells=True)['trialStuff'] for path in paths_exp ]\n",
    "loggers = [scipy.io.loadmat(path / \"logger_aligned.mat\", simplify_cells=True)['logger_aligned'] for path in paths_exp ]\n",
    "# logger = [ scipy.io.loadmat(path / \"logger.mat\", simplify_cells=True)['logger'] for path in paths_exp ]"
   ]
  },
  {
   "cell_type": "markdown",
   "id": "291d109c",
   "metadata": {},
   "source": [
    "import neural data"
   ]
  },
  {
   "cell_type": "code",
   "execution_count": 10,
   "id": "4e6f270d",
   "metadata": {},
   "outputs": [],
   "source": [
    "paths_ND = path_helpers.get_numeric_contents(dir_allNeuralData, sort=True)[0]\n",
    "del paths_ND[0]"
   ]
  },
  {
   "cell_type": "code",
   "execution_count": 11,
   "id": "85dad2c0",
   "metadata": {
    "scrolled": true
   },
   "outputs": [],
   "source": [
    "neuralData = [ np.load(path) for path in paths_ND]"
   ]
  },
  {
   "cell_type": "code",
   "execution_count": 12,
   "id": "20ee4e82",
   "metadata": {},
   "outputs": [
    {
     "data": {
      "text/plain": [
       "[(108000, 33),\n",
       " (108000, 33),\n",
       " (108000, 33),\n",
       " (108000, 33),\n",
       " (108000, 33),\n",
       " (108000, 33),\n",
       " (108000, 33)]"
      ]
     },
     "execution_count": 12,
     "metadata": {},
     "output_type": "execute_result"
    }
   ],
   "source": [
    "[loggers[ii]['timeSeries'].shape for ii in range(len(loggers))]"
   ]
  },
  {
   "cell_type": "code",
   "execution_count": 14,
   "id": "26c6c53b",
   "metadata": {},
   "outputs": [
    {
     "data": {
      "text/plain": [
       "8"
      ]
     },
     "execution_count": 14,
     "metadata": {},
     "output_type": "execute_result"
    }
   ],
   "source": [
    "len(neuralData)"
   ]
  },
  {
   "cell_type": "code",
   "execution_count": null,
   "id": "183d813b",
   "metadata": {},
   "outputs": [],
   "source": []
  },
  {
   "cell_type": "code",
   "execution_count": 6,
   "id": "ff4c4c7f",
   "metadata": {},
   "outputs": [
    {
     "data": {
      "text/plain": [
       "array([1, 1, 1, 1, 1, 1, 1, 1, 1, 1, 1, 3, 1, 1, 2, 1, 1, 1, 1, 1, 1, 1,\n",
       "       1, 1, 1, 2, 1, 1, 1, 1, 1, 1, 1, 3, 1, 1, 1, 1, 1, 1, 1, 1, 1, 1,\n",
       "       1, 1, 1, 1, 1, 1, 1, 1, 1, 1, 1, 1, 1, 3, 1, 2, 2, 1, 1, 3, 1, 1,\n",
       "       1, 1, 1, 1, 1, 1, 1, 1, 1, 1, 1, 1, 1, 1, 1, 3, 2, 1, 1, 1, 1, 1,\n",
       "       1, 1, 1, 1, 1, 1, 1, 1, 1, 1, 1, 1, 1, 1, 1, 2, 1, 1, 1, 1, 1, 1,\n",
       "       3, 1, 1, 1, 1, 1, 1, 1, 1, 1, 2, 1, 1, 1, 1, 1, 1, 1, 1, 1, 3, 1,\n",
       "       1, 1, 1, 1, 1, 1, 1, 1, 1, 1, 1, 1, 1, 1, 1, 1, 3, 1, 1, 1, 1, 1,\n",
       "       1, 1, 1, 1, 1, 2, 1, 2, 3, 1, 1, 1, 1, 1, 1, 1, 1, 1, 1, 1, 1, 1,\n",
       "       1, 1, 1, 1, 2, 1, 1, 1, 1, 1, 1, 1, 1, 1, 3, 1, 1, 1, 1, 1, 1, 1,\n",
       "       1, 1, 1, 1, 1, 1, 1, 1, 1, 1, 1, 1, 1, 1, 3, 1, 2, 1, 1, 1, 1, 1,\n",
       "       1, 1, 1, 1, 2, 1, 1, 1, 1, 1, 3, 1, 1, 1, 1, 1, 1, 1, 1, 1, 1, 1,\n",
       "       1, 3, 1, 1, 2, 1, 1, 1, 1, 1, 1, 1, 1, 1, 1, 1, 1, 1, 1, 1, 1, 1,\n",
       "       2, 1, 1, 1, 1, 1, 1, 1, 1, 3, 1, 1, 1, 1, 1, 1, 1, 1, 1, 1, 1, 1,\n",
       "       1, 1, 1, 1, 1, 3, 1, 1, 1, 1, 1, 1, 1, 2, 1, 1, 1, 1, 1, 1, 2, 1,\n",
       "       1, 1, 1, 1, 1, 1, 1, 1, 1, 3, 1, 1, 1, 1, 1, 1, 1, 1, 1, 1, 3, 1,\n",
       "       1, 1, 1, 1, 1, 1, 1, 1, 2, 1, 1, 1, 1, 1, 1, 1, 1, 1, 1, 2, 1, 1,\n",
       "       1, 1, 1, 1, 1, 1, 1, 3, 1, 1, 1, 1, 1, 1, 2, 1, 3, 1, 1, 1, 1, 1,\n",
       "       1, 1, 1, 1, 1, 1, 3, 1, 1, 2, 1, 1, 1, 1, 1, 1, 1, 1, 1, 1, 1, 1,\n",
       "       1, 1, 1, 1, 1, 1, 1, 1, 1, 3, 1, 1, 1, 1, 1, 1, 1, 1, 1, 1, 1, 1,\n",
       "       1, 2, 1, 1, 1, 1, 2, 1, 1, 1, 1, 1, 1, 3, 1, 1, 1, 1, 1, 1, 1, 1,\n",
       "       3, 1, 1, 1, 1, 1, 1, 1, 1, 1, 1, 1, 2, 1, 1, 1, 1, 1, 1, 1, 1, 1,\n",
       "       1, 1, 1, 1, 1, 1, 1, 1, 1, 2, 1, 1, 1, 3, 1, 1, 1, 1, 3, 1, 1, 1,\n",
       "       2, 1, 1, 1, 1, 1, 1, 1, 1, 1, 1, 1, 1, 1, 1, 1], dtype=uint8)"
      ]
     },
     "execution_count": 6,
     "metadata": {},
     "output_type": "execute_result"
    }
   ],
   "source": [
    "trialStuff['condTrials']"
   ]
  },
  {
   "cell_type": "code",
   "execution_count": 25,
   "id": "f0ca5fdb",
   "metadata": {},
   "outputs": [
    {
     "data": {
      "text/plain": [
       "dict_keys(['timeSeries', 'timers', 'decoder', 'motionCorrection', 'trials'])"
      ]
     },
     "execution_count": 25,
     "metadata": {},
     "output_type": "execute_result"
    }
   ],
   "source": [
    "logger.keys()"
   ]
  },
  {
   "cell_type": "code",
   "execution_count": 12,
   "id": "c2a4a7c1",
   "metadata": {},
   "outputs": [],
   "source": [
    "trialNums = [ logger['timeSeries'][:,28] for logger in loggers ]\n",
    "trialStarts_bool = [ np.diff(ii) for ii in trialNums ]"
   ]
  },
  {
   "cell_type": "code",
   "execution_count": 67,
   "id": "3be149c8",
   "metadata": {},
   "outputs": [
    {
     "data": {
      "image/png": "[encoded data removed]",
      "text/plain": [
       "<Figure size 432x288 with 1 Axes>"
      ]
     },
     "metadata": {
      "needs_background": "light"
     },
     "output_type": "display_data"
    }
   ],
   "source": [
    "%matplotlib inline\n",
    "plt.figure()\n",
    "# plt.plot(logger[0]['timeSeries'][:,28]);\n",
    "plt.plot(np.diff(logger[0]['timeSeries'][:,28]));\n",
    "# plt.ylim(0,200)"
   ]
  },
  {
   "cell_type": "code",
   "execution_count": 50,
   "id": "243793d4",
   "metadata": {},
   "outputs": [
    {
     "data": {
      "text/plain": [
       "3"
      ]
     },
     "execution_count": 50,
     "metadata": {},
     "output_type": "execute_result"
    }
   ],
   "source": [
    "3"
   ]
  },
  {
   "cell_type": "code",
   "execution_count": 47,
   "id": "df50cea4",
   "metadata": {},
   "outputs": [
    {
     "data": {
      "text/plain": [
       "array(['NumOfRewardsAcquired', 'NumOfTimeouts', 'image_hash', 'trialNum',\n",
       "       'fakeFeedback_inUse'], dtype=object)"
      ]
     },
     "execution_count": 47,
     "metadata": {},
     "output_type": "execute_result"
    }
   ],
   "source": [
    "expParams['loggerNames']['timeSeries'][25:30]"
   ]
  },
  {
   "cell_type": "code",
   "execution_count": 9,
   "id": "4012ea7e",
   "metadata": {},
   "outputs": [
    {
     "data": {
      "text/plain": [
       "{'frameRate': 30,\n",
       " 'duration_session': 108000,\n",
       " 'duration_trial': 20,\n",
       " 'win_smooth': 4,\n",
       " 'duration_threshold': 0.066,\n",
       " 'threshold_value': 1.35,\n",
       " 'range_cursor': array([-1.35,  1.35]),\n",
       " 'range_freqOutput': array([ 1000, 18000], dtype=uint16),\n",
       " 'voltage_at_threshold': 3.1,\n",
       " 'duration_timeout': 4,\n",
       " 'numCells': 1005,\n",
       " 'directory': 'D:\\\\RH_local\\\\data\\\\scanimage data\\\\round 5 experiments\\\\mouse 2_6\\\\20210410',\n",
       " 'duration_rollingStats': 1800,\n",
       " 'subSampleFactor_runningVals': 1,\n",
       " 'threshold_quiescence': 0,\n",
       " 'duration_rewardTone': 1.5,\n",
       " 'duration_ITI_success': 1,\n",
       " 'duration_rewardDelivery': 0.2,\n",
       " 'reward_duration': 50,\n",
       " 'reward_delay': 0,\n",
       " 'LED_duration': 0.2,\n",
       " 'LED_ramp_duration': 0.1,\n",
       " 'numFramesToAvgForMotionCorr': 10,\n",
       " 'image_hash_function': 'hash = sum(sum(image,1).^2)',\n",
       " 'loggerNames': {'timeSeries': array(['counter_frameNum', 'CS_quiescence', 'ET_trialStart', 'CE_trial',\n",
       "         'soundVolume', 'counter_trialIdx', 'CS_threshold',\n",
       "         'ET_rewardToneHold', 'CE_rewardToneHold', 'counter_rewardToneHold',\n",
       "         'frequencyOverride', 'ET_rewardDelivery', 'CE_rewardDelivery',\n",
       "         'counter_rewardDelivery', 'ET_ITI_successful', 'CE_ITI_successful',\n",
       "         'counter_ITI_successful', 'ET_waitForBaseline',\n",
       "         'CE_waitForBaseline', 'ET_timeout', 'CE_timeout',\n",
       "         'counter_timeout', 'CE_waitForBaseline', 'CE_buildingUpStats',\n",
       "         'CE_experimentRunning', 'NumOfRewardsAcquired', 'NumOfTimeouts',\n",
       "         'image_hash', 'trialNum', 'fakeFeedback_inUse',\n",
       "         'trialType_cursorOn', 'trialType_feedbackLinked',\n",
       "         'trialType_rewardOn'], dtype=object),\n",
       "  'timers': array(['time_now', 'tic_toc'], dtype=object),\n",
       "  'decoder': array(['cursor_brain', 'cursor_brain_raw', 'cursor_output',\n",
       "         'freqToOutput', 'voltage_cursorCurrentPos'], dtype=object),\n",
       "  'motionCorrection': array(['xShift', 'yShift', 'MC_correlation'], dtype=object),\n",
       "  'trials': array(['trialNum_trialStart', 'time_now_trialStart',\n",
       "         'counter_frameNum_trialStart', 'trialType_cursorOn',\n",
       "         'trialType_feedbackLinked', 'trialType_rewardOn',\n",
       "         'trialNum_trialEnd', 'time_now_trialEnd',\n",
       "         'counter_frameNum_trialEnd', 'success_outcome'], dtype=object)},\n",
       " 'baselineStuff': {'cellNumsToUse': array([   1,    2,    3, ..., 4806, 4838, 4869], dtype=uint16),\n",
       "  'directory': 'D:\\\\RH_local\\\\data\\\\scanimage data\\\\round 5 experiments\\\\mouse 2_6\\\\20210410\\\\baseline',\n",
       "  'file_baseName': 'file_000',\n",
       "  'frames_totalExpected': 4000,\n",
       "  'frames_perFile': 1000,\n",
       "  'Fs_frameRate': 30,\n",
       "  'MC': {'meanIm': array([[0.99569964, 1.45385379, 0.91730069, ..., 1.03738009, 1.02712537,\n",
       "           0.71915316],\n",
       "          [0.67747271, 0.67714191, 0.84915647, ..., 1.31194178, 0.69136619,\n",
       "           1.02944095],\n",
       "          [0.9047304 , 1.21567979, 1.11015547, ..., 0.39166391, 0.49321866,\n",
       "           0.90836917],\n",
       "          ...,\n",
       "          [0.64538538, 0.69897453, 0.53754548, ..., 0.20377109, 0.98577572,\n",
       "           1.1075091 ],\n",
       "          [0.67548793, 0.93516374, 0.76877274, ..., 0.6185908 , 0.69897453,\n",
       "           0.79093616],\n",
       "          [0.6066821 , 0.66291763, 1.24082038, ..., 1.09063844, 0.94971882,\n",
       "           0.76083361]]),\n",
       "   'meanImForMC_crop': array([[ 71.55706 ,  70.25339 ,  67.30996 , ..., 214.17102 , 212.69037 ,\n",
       "           204.02249 ],\n",
       "          [ 70.11049 ,  65.79788 ,  64.70195 , ..., 237.36322 , 224.66357 ,\n",
       "           201.24611 ],\n",
       "          [ 68.84453 ,  66.690704,  60.43566 , ..., 247.21866 , 195.73636 ,\n",
       "           177.0086  ],\n",
       "          ...,\n",
       "          [197.09692 , 163.94608 , 148.57162 , ...,  90.06881 ,  98.49289 ,\n",
       "           134.10255 ],\n",
       "          [177.60072 , 151.02382 , 146.0569  , ..., 118.33014 , 120.95964 ,\n",
       "           133.70857 ],\n",
       "          [154.4188  , 151.60834 , 144.78664 , ..., 124.50215 , 134.24611 ,\n",
       "           152.131   ]], dtype=float32),\n",
       "   'meanImForMC_crop_conjFFT_shift': array([[ 1247.1162    +0.j      ,  -234.41223 -193.8999j  ,\n",
       "             141.05237-1431.7051j  , ...,  1753.3635  -814.7915j  ,\n",
       "             141.05237+1431.7051j  ,  -234.41223 +193.8999j  ],\n",
       "          [ -858.0935   -17.334229j,  -248.37585 +907.227j   ,\n",
       "            -723.924  -1156.3616j  , ...,  -233.98572-1070.0146j  ,\n",
       "            -781.38684+1379.273j   ,  -366.00568 -943.9606j  ],\n",
       "          [ -452.96143-1825.94j    ,   210.9002  +117.53003j ,\n",
       "           -1086.4596  -893.66174j , ...,  1786.3391 -1517.3127j  ,\n",
       "            -701.2503  -176.58292j ,  -242.43561+1362.2465j  ],\n",
       "          ...,\n",
       "          [  147.91455 +844.35767j , -1082.278   +116.11168j ,\n",
       "            1715.5032  -387.14038j , ...,   514.38007-1443.8945j  ,\n",
       "            -548.48584+1197.6382j  ,  -395.4912 -1366.979j   ],\n",
       "          [ -452.96143+1825.94j    ,  -242.43561-1362.2465j  ,\n",
       "            -701.2503  +176.58292j , ...,  1546.33    -245.78473j ,\n",
       "           -1086.4596  +893.66174j ,   210.9002  -117.53003j ],\n",
       "          [ -858.0935   +17.334229j,  -366.00568 +943.9606j  ,\n",
       "            -781.38684-1379.273j   , ...,   131.48767 +195.94617j ,\n",
       "            -723.924  +1156.3616j  ,  -248.37585 -907.227j   ]],\n",
       "         dtype=complex64),\n",
       "   'refIm_crop_conjFFT_shift_centerIdx': array([128, 128], dtype=uint8),\n",
       "   'indRange_y_crop': array([129, 384], dtype=uint16),\n",
       "   'indRange_x_crop': array([385, 640], dtype=uint16)},\n",
       "  'ROIs': {'idxBounds_ROI': array([array([[251, 460],\n",
       "          [263, 470]], dtype=int32),\n",
       "          array([[502, 394],\n",
       "          [513, 410]], dtype=int32),\n",
       "          array([[635, 159],\n",
       "          [648, 168]], dtype=int32), ...,\n",
       "          array([[ 94, 140],\n",
       "          [103, 147]], dtype=int32),\n",
       "          array([[385, 330],\n",
       "          [396, 338]], dtype=int32),\n",
       "          array([[656, 114],\n",
       "          [669, 124]], dtype=int32)], dtype=object),\n",
       "   'mask_center': array([array([257, 465], dtype=uint16), array([507.5, 402. ]),\n",
       "          array([641.5, 163.5]), ..., array([ 98.5, 143.5]),\n",
       "          array([390.5, 334. ]), array([662.5, 119. ])], dtype=object),\n",
       "   'spatial_footprints_tall': array([[1.00000000e+00, 2.51000000e+02, 4.65000000e+02, 1.42632541e-03],\n",
       "          [1.00000000e+00, 2.51000000e+02, 4.66000000e+02, 1.63104141e-03],\n",
       "          [1.00000000e+00, 2.51000000e+02, 4.67000000e+02, 1.50617934e-03],\n",
       "          ...,\n",
       "          [           nan,            nan,            nan,            nan],\n",
       "          [           nan,            nan,            nan,            nan],\n",
       "          [           nan,            nan,            nan,            nan]]),\n",
       "   'spatial_footprints_tall_warped': array([[1.00000000e+00, 2.49000000e+02, 4.66000000e+02, 6.08480848e-05],\n",
       "          [1.00000000e+00, 2.49000000e+02, 4.67000000e+02, 6.15311142e-04],\n",
       "          [1.00000000e+00, 2.49000000e+02, 4.68000000e+02, 7.24502123e-04],\n",
       "          ...,\n",
       "          [           nan,            nan,            nan,            nan],\n",
       "          [           nan,            nan,            nan,            nan],\n",
       "          [           nan,            nan,            nan,            nan]]),\n",
       "   'spatial_footprints_tall_weighted': array([[  1., 251., 465.,  -0.],\n",
       "          [  1., 251., 466.,  -0.],\n",
       "          [  1., 251., 467.,  -0.],\n",
       "          ...,\n",
       "          [ nan,  nan,  nan,  nan],\n",
       "          [ nan,  nan,  nan,  nan],\n",
       "          [ nan,  nan,  nan,  nan]]),\n",
       "   'spatial_footprints_tall_warped_weighted': array([[  1., 249., 466.,  -0.],\n",
       "          [  1., 249., 467.,  -0.],\n",
       "          [  1., 249., 468.,  -0.],\n",
       "          ...,\n",
       "          [ nan,  nan,  nan,  nan],\n",
       "          [ nan,  nan,  nan,  nan],\n",
       "          [ nan,  nan,  nan,  nan]]),\n",
       "   'spatial_footprints_all': array([[0., 0., 0., ..., 0., 0., 0.],\n",
       "          [0., 0., 0., ..., 0., 0., 0.],\n",
       "          [0., 0., 0., ..., 0., 0., 0.],\n",
       "          ...,\n",
       "          [0., 0., 0., ..., 0., 0., 0.],\n",
       "          [0., 0., 0., ..., 0., 0., 0.],\n",
       "          [0., 0., 0., ..., 0., 0., 0.]]),\n",
       "   'spatial_footprints_warped_all': array([[0., 0., 0., ..., 0., 0., 0.],\n",
       "          [0., 0., 0., ..., 0., 0., 0.],\n",
       "          [0., 0., 0., ..., 0., 0., 0.],\n",
       "          ...,\n",
       "          [0., 0., 0., ..., 0., 0., 0.],\n",
       "          [0., 0., 0., ..., 0., 0., 0.],\n",
       "          [0., 0., 0., ..., 0., 0., 0.]]),\n",
       "   'spatial_footprints_warped_weighted_all': array([[0., 0., 0., ..., 0., 0., 0.],\n",
       "          [0., 0., 0., ..., 0., 0., 0.],\n",
       "          [0., 0., 0., ..., 0., 0., 0.],\n",
       "          ...,\n",
       "          [0., 0., 0., ..., 0., 0., 0.],\n",
       "          [0., 0., 0., ..., 0., 0., 0.],\n",
       "          [0., 0., 0., ..., 0., 0., 0.]]),\n",
       "   'SPT_idxNaN': array([0, 0, 0, ..., 1, 1, 1], dtype=uint8),\n",
       "   'SPT_warped_idxNaN': array([0, 0, 0, ..., 1, 1, 1], dtype=uint8),\n",
       "   'cell_size_max': 180,\n",
       "   'num_cells': 1005,\n",
       "   'cellWeightings': array([-0., -0.,  0., ...,  0.,  0.,  0.]),\n",
       "   'cellWeightings_tall': array([-0., -0., -0., ...,  0.,  0.,  0.]),\n",
       "   'cellWeightings_tall_warped': array([-0., -0., -0., ...,  0.,  0.,  0.])},\n",
       "  'framesForMeanImForMC': array([], dtype=uint8)}}"
      ]
     },
     "execution_count": 9,
     "metadata": {},
     "output_type": "execute_result"
    }
   ],
   "source": [
    "expParams"
   ]
  },
  {
   "cell_type": "code",
   "execution_count": null,
   "id": "896d0d5b",
   "metadata": {},
   "outputs": [],
   "source": []
  },
  {
   "cell_type": "code",
   "execution_count": null,
   "id": "b5fc3531",
   "metadata": {},
   "outputs": [],
   "source": []
  }
 ],
 "metadata": {
  "kernelspec": {
   "display_name": "Python 3 (ipykernel)",
   "language": "python",
   "name": "python3"
  },
  "language_info": {
   "codemirror_mode": {
    "name": "ipython",
    "version": 3
   },
   "file_extension": ".py",
   "mimetype": "text/x-python",
   "name": "python",
   "nbconvert_exporter": "python",
   "pygments_lexer": "ipython3",
   "version": "3.8.12"
  }
 },
 "nbformat": 4,
 "nbformat_minor": 5
}
