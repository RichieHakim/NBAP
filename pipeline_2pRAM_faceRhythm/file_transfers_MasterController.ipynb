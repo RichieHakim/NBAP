{
 "cells": [
  {
   "cell_type": "code",
   "execution_count": 1,
   "id": "cdcc6e17",
   "metadata": {},
   "outputs": [
    {
     "data": {
      "text/html": [
       "<style>.container {width:95% !important; }</style>"
      ],
      "text/plain": [
       "<IPython.core.display.HTML object>"
      ]
     },
     "metadata": {},
     "output_type": "display_data"
    }
   ],
   "source": [
    "# ALWAYS RUN THIS CELL\n",
    "# widen jupyter notebook window\n",
    "from IPython.display import display, HTML\n",
    "display(HTML(\"<style>.container {width:95% !important; }</style>\"))"
   ]
  },
  {
   "cell_type": "code",
   "execution_count": 2,
   "id": "4946a824",
   "metadata": {},
   "outputs": [],
   "source": [
    "import os\n",
    "from pathlib import Path\n",
    "\n",
    "import paramiko\n",
    "from scp import SCPClient\n",
    "\n",
    "import getpass\n",
    "import gc\n",
    "import time"
   ]
  },
  {
   "cell_type": "code",
   "execution_count": 3,
   "id": "5b0d60e1",
   "metadata": {},
   "outputs": [],
   "source": [
    "dir_github = '/media/rich/Home_Linux_partition/github_repos/'\n",
    "import sys\n",
    "sys.path.append(dir_github)\n",
    "\n",
    "%load_ext autoreload\n",
    "%autoreload 2\n",
    "from basic_neural_processing_modules import server"
   ]
  },
  {
   "cell_type": "markdown",
   "id": "c7552f37",
   "metadata": {},
   "source": [
    "----\n",
    "# ==== Optional ====\n",
    "### transfer raw data from local machine to `MICROSCOPE`"
   ]
  },
  {
   "cell_type": "code",
   "execution_count": 4,
   "id": "e7307e35",
   "metadata": {},
   "outputs": [
    {
     "name": "stdout",
     "output_type": "stream",
     "text": [
      "Username: rh183\n",
      "Password: ········\n"
     ]
    }
   ],
   "source": [
    "remote_host_transfer = \"transfer.rc.hms.harvard.edu\"\n",
    "remote_host_compute = \"o2.hms.harvard.edu\"\n",
    "username = input('Username: ')\n",
    "pw = server.pw_encode(getpass.getpass(prompt='Password: '))"
   ]
  },
  {
   "cell_type": "code",
   "execution_count": 13,
   "id": "b842577f",
   "metadata": {},
   "outputs": [],
   "source": [
    "sftp = server.sftp_interface(hostname=\"transfer.rc.hms.harvard.edu\", port=22)\n",
    "sftp.connect(username=username, password=server.pw_decode(pw))"
   ]
  },
  {
   "cell_type": "code",
   "execution_count": 7,
   "id": "1b6db1f0",
   "metadata": {},
   "outputs": [
    {
     "name": "stderr",
     "output_type": "stream",
     "text": [
      "Exception ignored in: <function ssh_interface.__del__ at 0x7ff7b4093310>\n",
      "Traceback (most recent call last):\n",
      "  File \"/media/rich/Home_Linux_partition/github_repos/basic_neural_processing_modules/server.py\", line 370, in __del__\n",
      "    self.ssh.close()\n",
      "AttributeError: 'ssh_interface' object has no attribute 'ssh'\n"
     ]
    },
    {
     "name": "stdout",
     "output_type": "stream",
     "text": [
      "Duo two-factor login for rh183\n",
      "\n",
      "Enter a passcode or select one of the following options:\n",
      "\n",
      " 1. Duo Push to XXX-XXX-4151\n",
      " 2. Phone call to XXX-XXX-4151\n",
      " 3. SMS passcodes to XXX-XXX-4151\n",
      "\n",
      "Passcode or option (1-3): \n",
      "1\n",
      "\n",
      "\n",
      "\n",
      "Pushed a login request to your device...\n",
      "\n",
      "Success. Logging you in...\n",
      "Welcome to O2 (Orchestra 2)!\n",
      "\u001b[32m\n",
      "   ___    ____\n",
      "  / _ \\  |___ \\\n",
      " | | | |   __) |\n",
      " | |_| |  / __/\n",
      "  \\___/  |_____|\n",
      "\n",
      "\u001b[0m\n",
      "You've landed on \u001b[33mtransfer03\u001b[0m which is a\n",
      "\u001b[33m4\u001b[0m core system with \u001b[33m7.62 GiB\u001b[0m memory\n",
      "running kernel \u001b[33m3.10.0\u001b[0m born on \u001b[33m2020-07-31\u001b[0m\n",
      "\n",
      "==== O2 ===================================================================\n",
      "\n",
      "  \u001b[31mNews (Jan 3 2022)\u001b[0m\n",
      "  \u001b[37m\n",
      "\n",
      "  +-------------------------------------------------------------------------------+\n",
      "  | ##################### RC Core launched in July 2021 ######################### |\n",
      "  |                                                                               |\n",
      "  | Since July 2021, researchers whose PI does not have a primary or secondary    |\n",
      "  | faculty appointment in an HMS Basic or Social Science Department will incur   |\n",
      "  | charges to their lab for O2 usage. Details at: it.hms.harvard.edu/rc/core     |\n",
      "  +-------------------------------------------------------------------------------+\n",
      "\n",
      "  ------------------------------\n",
      "  Contact HMS Research Computing:\n",
      "\n",
      "  E-mail      rchelp@hms.harvard.edu\n",
      "  Web         it.hms.harvard.edu/rc\n",
      "  Twitter     @hms_rc\n",
      "\n",
      "===========================================================================\n",
      "\n",
      "\u001b[0m\n",
      "\n",
      "(base) [rh183@transfer03 ~]$ \n"
     ]
    }
   ],
   "source": [
    "## initialize ssh_transfer\n",
    "ssh_t = server.ssh_interface(\n",
    "    nbytes_toReceive=20000,\n",
    "    recv_timeout=1,\n",
    "    verbose=True,\n",
    ")\n",
    "ssh_t.o2_connect(\n",
    "    hostname=remote_host_transfer,\n",
    "    username=username,\n",
    "    password=server.pw_decode(pw),\n",
    "    passcode_method=1,\n",
    "    verbose=1,\n",
    "    skip_passcode=False,    \n",
    ")"
   ]
  },
  {
   "cell_type": "code",
   "execution_count": 16,
   "id": "5ffcbded",
   "metadata": {},
   "outputs": [
    {
     "data": {
      "text/plain": [
       "[[[True, True], [True, True], [True, True], [True, True], [True, True]],\n",
       " [[True, True], [True, True], [True, True], [True, True], [True, True]],\n",
       " [[True, True], [True, True], [True, True], [True, True], [True, True]],\n",
       " [[True, True], [True, True], [True, True], [True, True], [True, True]]]"
      ]
     },
     "execution_count": 16,
     "metadata": {},
     "output_type": "execute_result"
    }
   ],
   "source": [
    "## make directory structure on MICROSCOPE\n",
    "animals = ['AEG21', 'AEG22']\n",
    "dates = ['2022_05_13', '2022_05_14', '2022_05_16', '2022_05_17', '2022_05_18']\n",
    "methods = ['clean_traces', 'ROI_classification_logisticRegression', 'spike_inference', 'suite2p']\n",
    "\n",
    "[[[sftp.mkdir_p(str(Path('/n/files/Neurobio/MICROSCOPE/Rich/analysis_data/face_rhythm_paper/fig_4_2pRAM/') / animal / date / method)) for animal in animals] for date in dates] for method in methods]"
   ]
  },
  {
   "cell_type": "code",
   "execution_count": 25,
   "id": "4be3ad5b",
   "metadata": {},
   "outputs": [
    {
     "data": {
      "text/plain": [
       "[[[True, True], [True, True], [True, True], [True, True], [True, True]],\n",
       " [[True, True], [True, True], [True, True], [True, True], [True, True]],\n",
       " [[True, True], [True, True], [True, True], [True, True], [True, True]],\n",
       " [[True, True], [True, True], [True, True], [True, True], [True, True]]]"
      ]
     },
     "execution_count": 25,
     "metadata": {},
     "output_type": "execute_result"
    }
   ],
   "source": [
    "## make directory structure on MICROSCOPE\n",
    "animals = ['AEG21', 'AEG22']\n",
    "dates = ['2022_05_13', '2022_05_14', '2022_05_16', '2022_05_17', '2022_05_18']\n",
    "methods_MICROSCOPE = ['clean_traces', 'ROI_classification_logisticRegression', 'spike_inference', 'suite2p_output']\n",
    "methods_o2 = ['cleanTraces', 'classify_rois', 'spike_inference', 'suite2p_output']\n",
    "\n",
    "[[[sftp.mkdir_p(str(Path('/n/files/Neurobio/MICROSCOPE/Rich/analysis_data/face_rhythm_paper/fig_4_2pRAM/') / animal / date / method)) for animal in animals] for date in dates] for method in methods_MICROSCOPE]"
   ]
  },
  {
   "cell_type": "code",
   "execution_count": 26,
   "id": "630156b1",
   "metadata": {
    "scrolled": false
   },
   "outputs": [
    {
     "name": "stdout",
     "output_type": "stream",
     "text": [
      "sis_data/face_rhythm_paper/fig_4_2pRAM/AEG21/2022_05_13/suite2p_outputRich/analy \n",
      "t\n",
      "_data/face_rhythm_paper/fig_4_2pRAM/AEG22/2022_05_13/clean_tracesE/Rich/analysis \n",
      "s\n",
      "icRegression_rhythm_paper/fig_4_2pRAM/AEG22/2022_05_13/ROI_classification_logist \n",
      "n\n",
      "ysis_data/face_rhythm_paper/fig_4_2pRAM/AEG22/2022_05_13/spike_inferenceich/anal \n",
      "sis_data/face_rhythm_paper/fig_4_2pRAM/AEG22/2022_05_13/suite2p_outputRich/analy \n",
      "_data/face_rhythm_paper/fig_4_2pRAM/AEG21/2022_05_14/clean_tracesE/Rich/analysis \n",
      "icRegression_rhythm_paper/fig_4_2pRAM/AEG21/2022_05_14/ROI_classification_logist \n",
      "ysis_data/face_rhythm_paper/fig_4_2pRAM/AEG21/2022_05_14/spike_inferenceich/anal \n",
      "sis_data/face_rhythm_paper/fig_4_2pRAM/AEG21/2022_05_14/suite2p_outputRich/analy \n",
      "_data/face_rhythm_paper/fig_4_2pRAM/AEG22/2022_05_14/clean_tracesE/Rich/analysis \n",
      "icRegression_rhythm_paper/fig_4_2pRAM/AEG22/2022_05_14/ROI_classification_logist \n",
      "ysis_data/face_rhythm_paper/fig_4_2pRAM/AEG22/2022_05_14/spike_inferenceich/anal \n",
      "sis_data/face_rhythm_paper/fig_4_2pRAM/AEG22/2022_05_14/suite2p_outputRich/analy \n",
      "_data/face_rhythm_paper/fig_4_2pRAM/AEG21/2022_05_16/clean_tracesE/Rich/analysis \n",
      "icRegression_rhythm_paper/fig_4_2pRAM/AEG21/2022_05_16/ROI_classification_logist \n",
      "ysis_data/face_rhythm_paper/fig_4_2pRAM/AEG21/2022_05_16/spike_inferenceich/anal \n",
      "sis_data/face_rhythm_paper/fig_4_2pRAM/AEG21/2022_05_16/suite2p_outputRich/analy \n",
      "_data/face_rhythm_paper/fig_4_2pRAM/AEG22/2022_05_16/clean_tracesE/Rich/analysis \n",
      "is_data/face_rhythm_paper/fig_4_2pRAM/AEG22/2022_05_1obio/MICROSCOPE/Rich/analys \n",
      "ysis_data/face_rhythm_paper/fig_4_2pRAM/AEG22/2022_05_16/spike_inferenceich/anal \n",
      "sis_data/face_rhythm_paper/fig_4_2pRAM/AEG22/2022_05_16/suite2p_outputRich/analy \n",
      "_data/face_rhythm_paper/fig_4_2pRAM/AEG21/2022_05_17/clean_tracesE/Rich/analysis \n",
      "icRegression_rhythm_paper/fig_4_2pRAM/AEG21/2022_05_17/ROI_classification_logist \n",
      "_data/face_rhythm_paper/fig_4_2pRAM/AEG21/2022_05_13/clean_tracesE/Rich/analysis \n",
      "_data/face_rhythm_paper/fig_4_2pRAM/AEG21/2022_05_13/clean_tracesE/Rich/analysis \n",
      "cp: cannot create directory ‘/n/files/Neurobio/MICROSCOPE/Rich/analysis_data/face_rhythm_paper/fig_4_2pRAM/AEG21/2022_05_13/clean_traces’: No such file or directory\n",
      "_data/face_rhythm_paper/fig_4_2pRAM/AEG21/2022_05_13/clean_tracesE/Rich/analysis \n",
      "cp: cannot create directory ‘/n/files/Neurobio/MICROSCOPE/Rich/analysis_data/face_rhythm_paper/fig_4_2pRAM/AEG21/2022_05_13/clean_traces’: No such file or directory\n",
      "(base) [rh183@transfer03 ~]$ \n",
      "icRegression_rhythm_paper/fig_4_2pRAM/AEG21/2022_05_13/ROI_classification_logist \n",
      "cp: cannot create directory ‘/n/files/Neurobio/MICROSCOPE/Rich/analysis_data/face_rhythm_paper/fig_4_2pRAM/AEG21/2022_05_13/ROI_classification_logisticRegression’: No such file or directory\n",
      "(base) [rh183@transfer03 ~]$ \n",
      "ysis_data/face_rhythm_paper/fig_4_2pRAM/AEG21/2022_05_13/spike_inferenceich/anal \n",
      "(base) [rh183@transfer03 ~]$ \n",
      "sis_data/face_rhythm_paper/fig_4_2pRAM/AEG21/2022_05_13/suite2p_outputRich/analy \n",
      "(base) [rh183@transfer03 ~]$ \n",
      "_data/face_rhythm_paper/fig_4_2pRAM/AEG22/2022_05_13/clean_tracesE/Rich/analysis \n",
      "(base) [rh183@transfer03 ~]$ \n",
      "icRegression_rhythm_paper/fig_4_2pRAM/AEG22/2022_05_13/ROI_classification_logist \n",
      "(base) [rh183@transfer03 ~]$ \n",
      "ysis_data/face_rhythm_paper/fig_4_2pRAM/AEG22/2022_05_13/spike_inferenceich/anal \n",
      "(base) [rh183@transfer03 ~]$ \n",
      "sis_data/face_rhythm_paper/fig_4_2pRAM/AEG22/2022_05_13/suite2p_outputRich/analy \n",
      "(base) [rh183@transfer03 ~]$ \n",
      "_data/face_rhythm_paper/fig_4_2pRAM/AEG21/2022_05_14/clean_tracesE/Rich/analysis \n",
      "(base) [rh183@transfer03 ~]$ \n",
      "icRegression_rhythm_paper/fig_4_2pRAM/AEG21/2022_05_14/ROI_classification_logist \n",
      "(base) [rh183@transfer03 ~]$ \n",
      "ysis_data/face_rhythm_paper/fig_4_2pRAM/AEG21/2022_05_14/spike_inferenceich/anal \n",
      "(base) [rh183@transfer03 ~]$ \n",
      "sis_data/face_rhythm_paper/fig_4_2pRAM/AEG21/2022_05_14/suite2p_outputRich/analy \n",
      "(base) [rh183@transfer03 ~]$ \n",
      "_data/face_rhythm_paper/fig_4_2pRAM/AEG22/2022_05_14/clean_tracesE/Rich/analysis \n",
      "(base) [rh183@transfer03 ~]$ \n",
      "icRegression_rhythm_paper/fig_4_2pRAM/AEG22/2022_05_14/ROI_classification_logist \n",
      "(base) [rh183@transfer03 ~]$ \n",
      "ysis_data/face_rhythm_paper/fig_4_2pRAM/AEG22/2022_05_14/spike_inferenceich/anal \n",
      "(base) [rh183@transfer03 ~]$ \n",
      "sis_data/face_rhythm_paper/fig_4_2pRAM/AEG22/2022_05_14/suite2p_outputRich/analy \n",
      "(base) [rh183@transfer03 ~]$ \n",
      "_data/face_rhythm_paper/fig_4_2pRAM/AEG21/2022_05_16/clean_tracesE/Rich/analysis \n",
      "(base) [rh183@transfer03 ~]$ \n",
      "icRegression_rhythm_paper/fig_4_2pRAM/AEG21/2022_05_16/ROI_classification_logist \n",
      "(base) [rh183@transfer03 ~]$ \n",
      "ysis_data/face_rhythm_paper/fig_4_2pRAM/AEG21/2022_05_16/spike_inferenceich/anal \n",
      "(base) [rh183@transfer03 ~]$ \n",
      "sis_data/face_rhythm_paper/fig_4_2pRAM/AEG21/2022_05_16/suite2p_outputRich/analy \n",
      "(base) [rh183@transfer03 ~]$ \n",
      "_data/face_rhythm_paper/fig_4_2pRAM/AEG22/2022_05_16/clean_tracesE/Rich/analysis \n",
      "(base) [rh183@transfer03 ~]$ \n",
      "icRegression_rhythm_paper/fig_4_2pRAM/AEG22/2022_05_16/ROI_classification_logist \n",
      "(base) [rh183@transfer03 ~]$ \n",
      "ysis_data/face_rhythm_paper/fig_4_2pRAM/AEG22/2022_05_16/spike_inferenceich/anal \n",
      "(base) [rh183@transfer03 ~]$ \n",
      "sis_data/face_rhythm_paper/fig_4_2pRAM/AEG22/2022_05_16/suite2p_outputRich/analy \n",
      "(base) [rh183@transfer03 ~]$ \n",
      "_data/face_rhythm_paper/fig_4_2pRAM/AEG21/2022_05_17/clean_tracesE/Rich/analysis \n",
      "(base) [rh183@transfer03 ~]$ \n",
      "icRegression_rhythm_paper/fig_4_2pRAM/AEG21/2022_05_17/ROI_classification_logist \n",
      "(base) [rh183@transfer03 ~]$ \n",
      "ysis_data/face_rhythm_paper/fig_4_2pRAM/AEG21/2022_05_17/spike_inferenceich/anal \n",
      "(base) [rh183@transfer03 ~]$ \n",
      "sis_data/face_rhythm_paper/fig_4_2pRAM/AEG21/2022_05_17/suite2p_outputRich/analy \n",
      "(base) [rh183@transfer03 ~]$ \n",
      "_data/face_rhythm_paper/fig_4_2pRAM/AEG22/2022_05_17/clean_tracesE/Rich/analysis \n",
      "(base) [rh183@transfer03 ~]$ \n",
      "icRegression_rhythm_paper/fig_4_2pRAM/AEG22/2022_05_17/ROI_classification_logist \n",
      "(base) [rh183@transfer03 ~]$ \n",
      "ysis_data/face_rhythm_paper/fig_4_2pRAM/AEG22/2022_05_17/spike_inferenceich/anal \n",
      "(base) [rh183@transfer03 ~]$ \n",
      "sis_data/face_rhythm_paper/fig_4_2pRAM/AEG22/2022_05_17/suite2p_outputRich/analy \n",
      "(base) [rh183@transfer03 ~]$ \n",
      "_data/face_rhythm_paper/fig_4_2pRAM/AEG21/2022_05_18/clean_tracesE/Rich/analysis \n",
      "(base) [rh183@transfer03 ~]$ \n",
      "icRegression_rhythm_paper/fig_4_2pRAM/AEG21/2022_05_18/ROI_classification_logist \n",
      "(base) [rh183@transfer03 ~]$ \n",
      "ysis_data/face_rhythm_paper/fig_4_2pRAM/AEG21/2022_05_18/spike_inferenceich/anal \n",
      "(base) [rh183@transfer03 ~]$ \n",
      "sis_data/face_rhythm_paper/fig_4_2pRAM/AEG21/2022_05_18/suite2p_outputRich/analy \n",
      "(base) [rh183@transfer03 ~]$ \n",
      "_data/face_rhythm_paper/fig_4_2pRAM/AEG22/2022_05_18/clean_tracesE/Rich/analysis \n",
      "(base) [rh183@transfer03 ~]$ \n",
      "icRegression_rhythm_paper/fig_4_2pRAM/AEG22/2022_05_18/ROI_classification_logist \n",
      "(base) [rh183@transfer03 ~]$ \n",
      "ysis_data/face_rhythm_paper/fig_4_2pRAM/AEG22/2022_05_18/spike_inferenceich/anal \n",
      "(base) [rh183@transfer03 ~]$ \n",
      "sis_data/face_rhythm_paper/fig_4_2pRAM/AEG22/2022_05_18/suite2p_outputRich/analy \n",
      "(base) [rh183@transfer03 ~]$ \n"
     ]
    },
    {
     "data": {
      "text/plain": [
       "[[['(base) [rh183@transfer03 ~]$ cp -r /n/data1/hms/neurobio/sabatini/rich/analysis/ \\rsuite2p_output/AEG21/2022_05_13/jobNum_0 /n/files/Neurobio/MICROSCOPE/Rich/analy \\rsis_data/face_rhythm_paper/fig_4_2pRAM/AEG21/2022_05_13/suite2p_output\\r\\nt\\r\\n(base) [rh183@transfer03 ~]$ cp -r /n/data1/hms/neurobio/sabatini/rich/analysis/ \\rcleanTraces/AEG22/2022_05_13/jobNum_0 /n/files/Neurobio/MICROSCOPE/Rich/analysis \\r_data/face_rhythm_paper/fig_4_2pRAM/AEG22/2022_05_13/clean_traces\\r\\ns\\r\\n(base) [rh183@transfer03 ~]$ cp -r /n/data1/hms/neurobio/sabatini/rich/analysis/ \\rclassify_rois/AEG22/2022_05_13/jobNum_0 /n/files/Neurobio/MICROSCOPE/Rich/analys \\ris_data/face_rhythm_paper/fig_4_2pRAM/AEG22/2022_05_13/ROI_classification_logist \\ricRegression\\r\\nn\\r\\n(base) [rh183@transfer03 ~]$ cp -r /n/data1/hms/neurobio/sabatini/rich/analysis/ \\rspike_inference/AEG22/2022_05_13/jobNum_0 /n/files/Neurobio/MICROSCOPE/Rich/anal \\rysis_data/face_rhythm_paper/fig_4_2pRAM/AEG22/2022_05_13/spike_inference\\r\\n(base) [rh183@transfer03 ~]$ cp -r /n/data1/hms/neurobio/sabatini/rich/analysis/ \\rsuite2p_output/AEG22/2022_05_13/jobNum_0 /n/files/Neurobio/MICROSCOPE/Rich/analy \\rsis_data/face_rhythm_paper/fig_4_2pRAM/AEG22/2022_05_13/suite2p_output\\r\\n(base) [rh183@transfer03 ~]$ cp -r /n/data1/hms/neurobio/sabatini/rich/analysis/ \\rcleanTraces/AEG21/2022_05_14/jobNum_0 /n/files/Neurobio/MICROSCOPE/Rich/analysis \\r_data/face_rhythm_paper/fig_4_2pRAM/AEG21/2022_05_14/clean_traces\\r\\n(base) [rh183@transfer03 ~]$ cp -r /n/data1/hms/neurobio/sabatini/rich/analysis/ \\rclassify_rois/AEG21/2022_05_14/jobNum_0 /n/files/Neurobio/MICROSCOPE/Rich/analys \\ris_data/face_rhythm_paper/fig_4_2pRAM/AEG21/2022_05_14/ROI_classification_logist \\ricRegression\\r\\n(base) [rh183@transfer03 ~]$ cp -r /n/data1/hms/neurobio/sabatini/rich/analysis/ \\rspike_inference/AEG21/2022_05_14/jobNum_0 /n/files/Neurobio/MICROSCOPE/Rich/anal \\rysis_data/face_rhythm_paper/fig_4_2pRAM/AEG21/2022_05_14/spike_inference\\r\\n(base) [rh183@transfer03 ~]$ cp -r /n/data1/hms/neurobio/sabatini/rich/analysis/ \\rsuite2p_output/AEG21/2022_05_14/jobNum_0 /n/files/Neurobio/MICROSCOPE/Rich/analy \\rsis_data/face_rhythm_paper/fig_4_2pRAM/AEG21/2022_05_14/suite2p_output\\r\\n(base) [rh183@transfer03 ~]$ cp -r /n/data1/hms/neurobio/sabatini/rich/analysis/ \\rcleanTraces/AEG22/2022_05_14/jobNum_0 /n/files/Neurobio/MICROSCOPE/Rich/analysis \\r_data/face_rhythm_paper/fig_4_2pRAM/AEG22/2022_05_14/clean_traces\\r\\n(base) [rh183@transfer03 ~]$ cp -r /n/data1/hms/neurobio/sabatini/rich/analysis/ \\rclassify_rois/AEG22/2022_05_14/jobNum_0 /n/files/Neurobio/MICROSCOPE/Rich/analys \\ris_data/face_rhythm_paper/fig_4_2pRAM/AEG22/2022_05_14/ROI_classification_logist \\ricRegression\\r\\n(base) [rh183@transfer03 ~]$ cp -r /n/data1/hms/neurobio/sabatini/rich/analysis/ \\rspike_inference/AEG22/2022_05_14/jobNum_0 /n/files/Neurobio/MICROSCOPE/Rich/anal \\rysis_data/face_rhythm_paper/fig_4_2pRAM/AEG22/2022_05_14/spike_inference\\r\\n(base) [rh183@transfer03 ~]$ cp -r /n/data1/hms/neurobio/sabatini/rich/analysis/ \\rsuite2p_output/AEG22/2022_05_14/jobNum_0 /n/files/Neurobio/MICROSCOPE/Rich/analy \\rsis_data/face_rhythm_paper/fig_4_2pRAM/AEG22/2022_05_14/suite2p_output\\r\\n(base) [rh183@transfer03 ~]$ cp -r /n/data1/hms/neurobio/sabatini/rich/analysis/ \\rcleanTraces/AEG21/2022_05_16/jobNum_0 /n/files/Neurobio/MICROSCOPE/Rich/analysis \\r_data/face_rhythm_paper/fig_4_2pRAM/AEG21/2022_05_16/clean_traces\\r\\n(base) [rh183@transfer03 ~]$ cp -r /n/data1/hms/neurobio/sabatini/rich/analysis/ \\rclassify_rois/AEG21/2022_05_16/jobNum_0 /n/files/Neurobio/MICROSCOPE/Rich/analys \\ris_data/face_rhythm_paper/fig_4_2pRAM/AEG21/2022_05_16/ROI_classification_logist \\ricRegression\\r\\n(base) [rh183@transfer03 ~]$ cp -r /n/data1/hms/neurobio/sabatini/rich/analysis/ \\rspike_inference/AEG21/2022_05_16/jobNum_0 /n/files/Neurobio/MICROSCOPE/Rich/anal \\rysis_data/face_rhythm_paper/fig_4_2pRAM/AEG21/2022_05_16/spike_inference\\r\\n(base) [rh183@transfer03 ~]$ cp -r /n/data1/hms/neurobio/sabatini/rich/analysis/ \\rsuite2p_output/AEG21/2022_05_16/jobNum_0 /n/files/Neurobio/MICROSCOPE/Rich/analy \\rsis_data/face_rhythm_paper/fig_4_2pRAM/AEG21/2022_05_16/suite2p_output\\r\\n(base) [rh183@transfer03 ~]$ cp -r /n/data1/hms/neurobio/sabatini/rich/analysis/ \\rcleanTraces/AEG22/2022_05_16/jobNum_0 /n/files/Neurobio/MICROSCOPE/Rich/analysis \\r_data/face_rhythm_paper/fig_4_2pRAM/AEG22/2022_05_16/clean_traces\\r\\n(base) [rh183@transfer03 ~]$ cp -r /n/data1/hms/neurobio/sabatini/rich/analysis/ \\rclassify_rois/AEG22/2022_05_16/jobNum_0 /n/files/Neurobio/MICROSCOPE/Rich/analys \\ris_data/face_rhythm_paper/fig_4_2pRAM/AEG22/2022_05_1\\r\\n(base) [rh183@transfer03 ~]$ cp -r /n/data1/hms/neurobio/sabatini/rich/analysis/ \\rspike_inference/AEG22/2022_05_16/jobNum_0 /n/files/Neurobio/MICROSCOPE/Rich/anal \\rysis_data/face_rhythm_paper/fig_4_2pRAM/AEG22/2022_05_16/spike_inference\\r\\n(base) [rh183@transfer03 ~]$ cp -r /n/data1/hms/neurobio/sabatini/rich/analysis/ \\rsuite2p_output/AEG22/2022_05_16/jobNum_0 /n/files/Neurobio/MICROSCOPE/Rich/analy \\rsis_data/face_rhythm_paper/fig_4_2pRAM/AEG22/2022_05_16/suite2p_output\\r\\n(base) [rh183@transfer03 ~]$ cp -r /n/data1/hms/neurobio/sabatini/rich/analysis/ \\rcleanTraces/AEG21/2022_05_17/jobNum_0 /n/files/Neurobio/MICROSCOPE/Rich/analysis \\r_data/face_rhythm_paper/fig_4_2pRAM/AEG21/2022_05_17/clean_traces\\r\\n(base) [rh183@transfer03 ~]$ cp -r /n/data1/hms/neurobio/sabatini/rich/analysis/ \\rclassify_rois/AEG21/2022_05_17/jobNum_0 /n/files/Neurobio/MICROSCOPE/Rich/analys \\ris_data/face_rhythm_paper/fig_4_2pRAM/AEG21/2022_05_17/ROI_classification_logist \\ricRegression\\r\\n(base) [rh183@transfer03 ~]$ cp -r /n/data1/hms/neurobio/sabatini/rich/analysis/ \\rcleanTraces/AEG21/2022_05_13/jobNum_0 /n/files/Neurobio/MICROSCOPE/Rich/analysis \\r_data/face_rhythm_paper/fig_4_2pRAM/AEG21/2022_05_13/clean_traces\\r\\n(base) [rh183@transfer03 ~]$ cp -r /n/data1/hms/neurobio/sabatini/rich/analysis/ \\rcleanTraces/AEG21/2022_05_13/jobNum_0 /n/files/Neurobio/MICROSCOPE/Rich/analysis \\r_data/face_rhythm_paper/fig_4_2pRAM/AEG21/2022_05_13/clean_traces\\r\\ncp: cannot create directory ‘/n/files/Neurobio/MICROSCOPE/Rich/analysis_data/face_rhythm_paper/fig_4_2pRAM/AEG21/2022_05_13/clean_traces’: No such file or directory\\r\\n(base) [rh183@transfer03 ~]$ cp -r /n/data1/hms/neurobio/sabatini/rich/analysis/ \\rcleanTraces/AEG21/2022_05_13/jobNum_0 /n/files/Neurobio/MICROSCOPE/Rich/analysis \\r_data/face_rhythm_paper/fig_4_2pRAM/AEG21/2022_05_13/clean_traces\\r\\ncp: cannot create directory ‘/n/files/Neurobio/MICROSCOPE/Rich/analysis_data/face_rhythm_paper/fig_4_2pRAM/AEG21/2022_05_13/clean_traces’: No such file or directory\\r\\n(base) [rh183@transfer03 ~]$ ',\n",
       "   'cp -r /n/data1/hms/neurobio/sabatini/rich/analysis/ \\rclassify_rois/AEG21/2022_05_13/jobNum_0 /n/files/Neurobio/MICROSCOPE/Rich/analys \\ris_data/face_rhythm_paper/fig_4_2pRAM/AEG21/2022_05_13/ROI_classification_logist \\ricRegression\\r\\ncp: cannot create directory ‘/n/files/Neurobio/MICROSCOPE/Rich/analysis_data/face_rhythm_paper/fig_4_2pRAM/AEG21/2022_05_13/ROI_classification_logisticRegression’: No such file or directory\\r\\n(base) [rh183@transfer03 ~]$ ',\n",
       "   'cp -r /n/data1/hms/neurobio/sabatini/rich/analysis/ \\rspike_inference/AEG21/2022_05_13/jobNum_0 /n/files/Neurobio/MICROSCOPE/Rich/anal \\rysis_data/face_rhythm_paper/fig_4_2pRAM/AEG21/2022_05_13/spike_inference\\r\\n(base) [rh183@transfer03 ~]$ ',\n",
       "   'cp -r /n/data1/hms/neurobio/sabatini/rich/analysis/ \\rsuite2p_output/AEG21/2022_05_13/jobNum_0 /n/files/Neurobio/MICROSCOPE/Rich/analy \\rsis_data/face_rhythm_paper/fig_4_2pRAM/AEG21/2022_05_13/suite2p_output\\r\\n(base) [rh183@transfer03 ~]$ '],\n",
       "  ['cp -r /n/data1/hms/neurobio/sabatini/rich/analysis/ \\rcleanTraces/AEG22/2022_05_13/jobNum_0 /n/files/Neurobio/MICROSCOPE/Rich/analysis \\r_data/face_rhythm_paper/fig_4_2pRAM/AEG22/2022_05_13/clean_traces\\r\\n(base) [rh183@transfer03 ~]$ ',\n",
       "   'cp -r /n/data1/hms/neurobio/sabatini/rich/analysis/ \\rclassify_rois/AEG22/2022_05_13/jobNum_0 /n/files/Neurobio/MICROSCOPE/Rich/analys \\ris_data/face_rhythm_paper/fig_4_2pRAM/AEG22/2022_05_13/ROI_classification_logist \\ricRegression\\r\\n(base) [rh183@transfer03 ~]$ ',\n",
       "   'cp -r /n/data1/hms/neurobio/sabatini/rich/analysis/ \\rspike_inference/AEG22/2022_05_13/jobNum_0 /n/files/Neurobio/MICROSCOPE/Rich/anal \\rysis_data/face_rhythm_paper/fig_4_2pRAM/AEG22/2022_05_13/spike_inference\\r\\n(base) [rh183@transfer03 ~]$ ',\n",
       "   'cp -r /n/data1/hms/neurobio/sabatini/rich/analysis/ \\rsuite2p_output/AEG22/2022_05_13/jobNum_0 /n/files/Neurobio/MICROSCOPE/Rich/analy \\rsis_data/face_rhythm_paper/fig_4_2pRAM/AEG22/2022_05_13/suite2p_output\\r\\n(base) [rh183@transfer03 ~]$ ']],\n",
       " [['cp -r /n/data1/hms/neurobio/sabatini/rich/analysis/ \\rcleanTraces/AEG21/2022_05_14/jobNum_0 /n/files/Neurobio/MICROSCOPE/Rich/analysis \\r_data/face_rhythm_paper/fig_4_2pRAM/AEG21/2022_05_14/clean_traces\\r\\n(base) [rh183@transfer03 ~]$ ',\n",
       "   'cp -r /n/data1/hms/neurobio/sabatini/rich/analysis/ \\rclassify_rois/AEG21/2022_05_14/jobNum_0 /n/files/Neurobio/MICROSCOPE/Rich/analys \\ris_data/face_rhythm_paper/fig_4_2pRAM/AEG21/2022_05_14/ROI_classification_logist \\ricRegression\\r\\n(base) [rh183@transfer03 ~]$ ',\n",
       "   'cp -r /n/data1/hms/neurobio/sabatini/rich/analysis/ \\rspike_inference/AEG21/2022_05_14/jobNum_0 /n/files/Neurobio/MICROSCOPE/Rich/anal \\rysis_data/face_rhythm_paper/fig_4_2pRAM/AEG21/2022_05_14/spike_inference\\r\\n(base) [rh183@transfer03 ~]$ ',\n",
       "   'cp -r /n/data1/hms/neurobio/sabatini/rich/analysis/ \\rsuite2p_output/AEG21/2022_05_14/jobNum_0 /n/files/Neurobio/MICROSCOPE/Rich/analy \\rsis_data/face_rhythm_paper/fig_4_2pRAM/AEG21/2022_05_14/suite2p_output\\r\\n(base) [rh183@transfer03 ~]$ '],\n",
       "  ['cp -r /n/data1/hms/neurobio/sabatini/rich/analysis/ \\rcleanTraces/AEG22/2022_05_14/jobNum_0 /n/files/Neurobio/MICROSCOPE/Rich/analysis \\r_data/face_rhythm_paper/fig_4_2pRAM/AEG22/2022_05_14/clean_traces\\r\\n(base) [rh183@transfer03 ~]$ ',\n",
       "   'cp -r /n/data1/hms/neurobio/sabatini/rich/analysis/ \\rclassify_rois/AEG22/2022_05_14/jobNum_0 /n/files/Neurobio/MICROSCOPE/Rich/analys \\ris_data/face_rhythm_paper/fig_4_2pRAM/AEG22/2022_05_14/ROI_classification_logist \\ricRegression\\r\\n(base) [rh183@transfer03 ~]$ ',\n",
       "   'cp -r /n/data1/hms/neurobio/sabatini/rich/analysis/ \\rspike_inference/AEG22/2022_05_14/jobNum_0 /n/files/Neurobio/MICROSCOPE/Rich/anal \\rysis_data/face_rhythm_paper/fig_4_2pRAM/AEG22/2022_05_14/spike_inference\\r\\n(base) [rh183@transfer03 ~]$ ',\n",
       "   'cp -r /n/data1/hms/neurobio/sabatini/rich/analysis/ \\rsuite2p_output/AEG22/2022_05_14/jobNum_0 /n/files/Neurobio/MICROSCOPE/Rich/analy \\rsis_data/face_rhythm_paper/fig_4_2pRAM/AEG22/2022_05_14/suite2p_output\\r\\n(base) [rh183@transfer03 ~]$ ']],\n",
       " [['cp -r /n/data1/hms/neurobio/sabatini/rich/analysis/ \\rcleanTraces/AEG21/2022_05_16/jobNum_0 /n/files/Neurobio/MICROSCOPE/Rich/analysis \\r_data/face_rhythm_paper/fig_4_2pRAM/AEG21/2022_05_16/clean_traces\\r\\n(base) [rh183@transfer03 ~]$ ',\n",
       "   'cp -r /n/data1/hms/neurobio/sabatini/rich/analysis/ \\rclassify_rois/AEG21/2022_05_16/jobNum_0 /n/files/Neurobio/MICROSCOPE/Rich/analys \\ris_data/face_rhythm_paper/fig_4_2pRAM/AEG21/2022_05_16/ROI_classification_logist \\ricRegression\\r\\n(base) [rh183@transfer03 ~]$ ',\n",
       "   'cp -r /n/data1/hms/neurobio/sabatini/rich/analysis/ \\rspike_inference/AEG21/2022_05_16/jobNum_0 /n/files/Neurobio/MICROSCOPE/Rich/anal \\rysis_data/face_rhythm_paper/fig_4_2pRAM/AEG21/2022_05_16/spike_inference\\r\\n(base) [rh183@transfer03 ~]$ ',\n",
       "   'cp -r /n/data1/hms/neurobio/sabatini/rich/analysis/ \\rsuite2p_output/AEG21/2022_05_16/jobNum_0 /n/files/Neurobio/MICROSCOPE/Rich/analy \\rsis_data/face_rhythm_paper/fig_4_2pRAM/AEG21/2022_05_16/suite2p_output\\r\\n(base) [rh183@transfer03 ~]$ '],\n",
       "  ['cp -r /n/data1/hms/neurobio/sabatini/rich/analysis/ \\rcleanTraces/AEG22/2022_05_16/jobNum_0 /n/files/Neurobio/MICROSCOPE/Rich/analysis \\r_data/face_rhythm_paper/fig_4_2pRAM/AEG22/2022_05_16/clean_traces\\r\\n(base) [rh183@transfer03 ~]$ ',\n",
       "   'cp -r /n/data1/hms/neurobio/sabatini/rich/analysis/ \\rclassify_rois/AEG22/2022_05_16/jobNum_0 /n/files/Neurobio/MICROSCOPE/Rich/analys \\ris_data/face_rhythm_paper/fig_4_2pRAM/AEG22/2022_05_16/ROI_classification_logist \\ricRegression\\r\\n(base) [rh183@transfer03 ~]$ ',\n",
       "   'cp -r /n/data1/hms/neurobio/sabatini/rich/analysis/ \\rspike_inference/AEG22/2022_05_16/jobNum_0 /n/files/Neurobio/MICROSCOPE/Rich/anal \\rysis_data/face_rhythm_paper/fig_4_2pRAM/AEG22/2022_05_16/spike_inference\\r\\n(base) [rh183@transfer03 ~]$ ',\n",
       "   'cp -r /n/data1/hms/neurobio/sabatini/rich/analysis/ \\rsuite2p_output/AEG22/2022_05_16/jobNum_0 /n/files/Neurobio/MICROSCOPE/Rich/analy \\rsis_data/face_rhythm_paper/fig_4_2pRAM/AEG22/2022_05_16/suite2p_output\\r\\n(base) [rh183@transfer03 ~]$ ']],\n",
       " [['cp -r /n/data1/hms/neurobio/sabatini/rich/analysis/ \\rcleanTraces/AEG21/2022_05_17/jobNum_0 /n/files/Neurobio/MICROSCOPE/Rich/analysis \\r_data/face_rhythm_paper/fig_4_2pRAM/AEG21/2022_05_17/clean_traces\\r\\n(base) [rh183@transfer03 ~]$ ',\n",
       "   'cp -r /n/data1/hms/neurobio/sabatini/rich/analysis/ \\rclassify_rois/AEG21/2022_05_17/jobNum_0 /n/files/Neurobio/MICROSCOPE/Rich/analys \\ris_data/face_rhythm_paper/fig_4_2pRAM/AEG21/2022_05_17/ROI_classification_logist \\ricRegression\\r\\n(base) [rh183@transfer03 ~]$ ',\n",
       "   'cp -r /n/data1/hms/neurobio/sabatini/rich/analysis/ \\rspike_inference/AEG21/2022_05_17/jobNum_0 /n/files/Neurobio/MICROSCOPE/Rich/anal \\rysis_data/face_rhythm_paper/fig_4_2pRAM/AEG21/2022_05_17/spike_inference\\r\\n(base) [rh183@transfer03 ~]$ ',\n",
       "   'cp -r /n/data1/hms/neurobio/sabatini/rich/analysis/ \\rsuite2p_output/AEG21/2022_05_17/jobNum_0 /n/files/Neurobio/MICROSCOPE/Rich/analy \\rsis_data/face_rhythm_paper/fig_4_2pRAM/AEG21/2022_05_17/suite2p_output\\r\\n(base) [rh183@transfer03 ~]$ '],\n",
       "  ['cp -r /n/data1/hms/neurobio/sabatini/rich/analysis/ \\rcleanTraces/AEG22/2022_05_17/jobNum_0 /n/files/Neurobio/MICROSCOPE/Rich/analysis \\r_data/face_rhythm_paper/fig_4_2pRAM/AEG22/2022_05_17/clean_traces\\r\\n(base) [rh183@transfer03 ~]$ ',\n",
       "   'cp -r /n/data1/hms/neurobio/sabatini/rich/analysis/ \\rclassify_rois/AEG22/2022_05_17/jobNum_0 /n/files/Neurobio/MICROSCOPE/Rich/analys \\ris_data/face_rhythm_paper/fig_4_2pRAM/AEG22/2022_05_17/ROI_classification_logist \\ricRegression\\r\\n(base) [rh183@transfer03 ~]$ ',\n",
       "   'cp -r /n/data1/hms/neurobio/sabatini/rich/analysis/ \\rspike_inference/AEG22/2022_05_17/jobNum_0 /n/files/Neurobio/MICROSCOPE/Rich/anal \\rysis_data/face_rhythm_paper/fig_4_2pRAM/AEG22/2022_05_17/spike_inference\\r\\n(base) [rh183@transfer03 ~]$ ',\n",
       "   'cp -r /n/data1/hms/neurobio/sabatini/rich/analysis/ \\rsuite2p_output/AEG22/2022_05_17/jobNum_0 /n/files/Neurobio/MICROSCOPE/Rich/analy \\rsis_data/face_rhythm_paper/fig_4_2pRAM/AEG22/2022_05_17/suite2p_output\\r\\n(base) [rh183@transfer03 ~]$ ']],\n",
       " [['cp -r /n/data1/hms/neurobio/sabatini/rich/analysis/ \\rcleanTraces/AEG21/2022_05_18/jobNum_0 /n/files/Neurobio/MICROSCOPE/Rich/analysis \\r_data/face_rhythm_paper/fig_4_2pRAM/AEG21/2022_05_18/clean_traces\\r\\n(base) [rh183@transfer03 ~]$ ',\n",
       "   'cp -r /n/data1/hms/neurobio/sabatini/rich/analysis/ \\rclassify_rois/AEG21/2022_05_18/jobNum_0 /n/files/Neurobio/MICROSCOPE/Rich/analys \\ris_data/face_rhythm_paper/fig_4_2pRAM/AEG21/2022_05_18/ROI_classification_logist \\ricRegression\\r\\n(base) [rh183@transfer03 ~]$ ',\n",
       "   'cp -r /n/data1/hms/neurobio/sabatini/rich/analysis/ \\rspike_inference/AEG21/2022_05_18/jobNum_0 /n/files/Neurobio/MICROSCOPE/Rich/anal \\rysis_data/face_rhythm_paper/fig_4_2pRAM/AEG21/2022_05_18/spike_inference\\r\\n(base) [rh183@transfer03 ~]$ ',\n",
       "   'cp -r /n/data1/hms/neurobio/sabatini/rich/analysis/ \\rsuite2p_output/AEG21/2022_05_18/jobNum_0 /n/files/Neurobio/MICROSCOPE/Rich/analy \\rsis_data/face_rhythm_paper/fig_4_2pRAM/AEG21/2022_05_18/suite2p_output\\r\\n(base) [rh183@transfer03 ~]$ '],\n",
       "  ['cp -r /n/data1/hms/neurobio/sabatini/rich/analysis/ \\rcleanTraces/AEG22/2022_05_18/jobNum_0 /n/files/Neurobio/MICROSCOPE/Rich/analysis \\r_data/face_rhythm_paper/fig_4_2pRAM/AEG22/2022_05_18/clean_traces\\r\\n(base) [rh183@transfer03 ~]$ ',\n",
       "   'cp -r /n/data1/hms/neurobio/sabatini/rich/analysis/ \\rclassify_rois/AEG22/2022_05_18/jobNum_0 /n/files/Neurobio/MICROSCOPE/Rich/analys \\ris_data/face_rhythm_paper/fig_4_2pRAM/AEG22/2022_05_18/ROI_classification_logist \\ricRegression\\r\\n(base) [rh183@transfer03 ~]$ ',\n",
       "   'cp -r /n/data1/hms/neurobio/sabatini/rich/analysis/ \\rspike_inference/AEG22/2022_05_18/jobNum_0 /n/files/Neurobio/MICROSCOPE/Rich/anal \\rysis_data/face_rhythm_paper/fig_4_2pRAM/AEG22/2022_05_18/spike_inference\\r\\n(base) [rh183@transfer03 ~]$ ',\n",
       "   'cp -r /n/data1/hms/neurobio/sabatini/rich/analysis/ \\rsuite2p_output/AEG22/2022_05_18/jobNum_0 /n/files/Neurobio/MICROSCOPE/Rich/analy \\rsis_data/face_rhythm_paper/fig_4_2pRAM/AEG22/2022_05_18/suite2p_output\\r\\n(base) [rh183@transfer03 ~]$ ']]]"
      ]
     },
     "execution_count": 26,
     "metadata": {},
     "output_type": "execute_result"
    }
   ],
   "source": [
    "## Define directories for where the local data is and the remote directory where the contents of that folder should be copied to (MICROSCOPE)\n",
    "dir_data_o2 = '/n/data1/hms/neurobio/sabatini/rich/analysis/'\n",
    "dir_data_MICROSCOPE = '/n/files/Neurobio/MICROSCOPE/Rich/analysis_data/face_rhythm_paper/fig_4_2pRAM'  ## contents of dir_data_local will be dumped into dir_data_MICROSCOPE\n",
    "\n",
    "[[[ssh_t.send_receive(f\"cp -r {str(Path(dir_data_o2) / method_o2 / animal / date / 'jobNum_0/.')} {str(Path(dir_data_MICROSCOPE) / animal / date / method_MICROSCOPE)}\", timeout=30, post_send_wait_t=10) for method_o2,method_MICROSCOPE in zip(methods_o2, methods_MICROSCOPE)] for animal in animals] for date in dates]"
   ]
  },
  {
   "cell_type": "code",
   "execution_count": null,
   "id": "01e67ccd",
   "metadata": {},
   "outputs": [],
   "source": []
  },
  {
   "cell_type": "code",
   "execution_count": null,
   "id": "afd5ae25",
   "metadata": {},
   "outputs": [],
   "source": []
  },
  {
   "cell_type": "code",
   "execution_count": null,
   "id": "976f1de6",
   "metadata": {},
   "outputs": [],
   "source": []
  },
  {
   "cell_type": "code",
   "execution_count": null,
   "id": "e5f48ff1",
   "metadata": {},
   "outputs": [],
   "source": []
  },
  {
   "cell_type": "code",
   "execution_count": null,
   "id": "2718e0f3",
   "metadata": {},
   "outputs": [],
   "source": []
  },
  {
   "cell_type": "code",
   "execution_count": null,
   "id": "2f9757be",
   "metadata": {},
   "outputs": [],
   "source": []
  },
  {
   "cell_type": "code",
   "execution_count": null,
   "id": "7f39c853",
   "metadata": {},
   "outputs": [],
   "source": []
  },
  {
   "cell_type": "code",
   "execution_count": null,
   "id": "45bccc10",
   "metadata": {},
   "outputs": [],
   "source": []
  },
  {
   "cell_type": "code",
   "execution_count": null,
   "id": "9a30ca57",
   "metadata": {},
   "outputs": [],
   "source": []
  },
  {
   "cell_type": "code",
   "execution_count": null,
   "id": "03de9a76",
   "metadata": {},
   "outputs": [],
   "source": []
  },
  {
   "cell_type": "code",
   "execution_count": null,
   "id": "e26ab44e",
   "metadata": {},
   "outputs": [],
   "source": []
  },
  {
   "cell_type": "code",
   "execution_count": null,
   "id": "114cd7a7",
   "metadata": {},
   "outputs": [],
   "source": []
  },
  {
   "cell_type": "code",
   "execution_count": null,
   "id": "2eb9106f",
   "metadata": {},
   "outputs": [],
   "source": []
  },
  {
   "cell_type": "code",
   "execution_count": null,
   "id": "08612715",
   "metadata": {},
   "outputs": [],
   "source": []
  },
  {
   "cell_type": "code",
   "execution_count": null,
   "id": "73f65b38",
   "metadata": {},
   "outputs": [],
   "source": []
  },
  {
   "cell_type": "code",
   "execution_count": null,
   "id": "a45d12bf",
   "metadata": {},
   "outputs": [],
   "source": []
  },
  {
   "cell_type": "code",
   "execution_count": null,
   "id": "aae0a8af",
   "metadata": {},
   "outputs": [],
   "source": []
  },
  {
   "cell_type": "code",
   "execution_count": null,
   "id": "11ff22ea",
   "metadata": {},
   "outputs": [],
   "source": []
  },
  {
   "cell_type": "code",
   "execution_count": null,
   "id": "00cf197f",
   "metadata": {},
   "outputs": [],
   "source": []
  },
  {
   "cell_type": "code",
   "execution_count": null,
   "id": "bea9308f",
   "metadata": {},
   "outputs": [],
   "source": []
  },
  {
   "cell_type": "code",
   "execution_count": null,
   "id": "dd04c787",
   "metadata": {},
   "outputs": [],
   "source": []
  },
  {
   "cell_type": "code",
   "execution_count": null,
   "id": "fcff89e8",
   "metadata": {},
   "outputs": [],
   "source": []
  }
 ],
 "metadata": {
  "kernelspec": {
   "display_name": "Python 3 (ipykernel)",
   "language": "python",
   "name": "python3"
  },
  "language_info": {
   "codemirror_mode": {
    "name": "ipython",
    "version": 3
   },
   "file_extension": ".py",
   "mimetype": "text/x-python",
   "name": "python",
   "nbconvert_exporter": "python",
   "pygments_lexer": "ipython3",
   "version": "3.8.12"
  }
 },
 "nbformat": 4,
 "nbformat_minor": 5
}
