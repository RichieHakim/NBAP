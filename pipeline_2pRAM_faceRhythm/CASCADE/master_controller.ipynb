{
 "cells": [
  {
   "cell_type": "markdown",
   "id": "27269ba8",
   "metadata": {},
   "source": [
    "# MASTER CONTROLLER: CASCADE"
   ]
  },
  {
   "cell_type": "code",
   "execution_count": 1,
   "id": "eb297901",
   "metadata": {},
   "outputs": [
    {
     "data": {
      "text/html": [
       "<style>.container {width:95% !important; }</style>"
      ],
      "text/plain": [
       "<IPython.core.display.HTML object>"
      ]
     },
     "metadata": {},
     "output_type": "display_data"
    }
   ],
   "source": [
    "# ALWAYS RUN THIS CELL\n",
    "# widen jupyter notebook window\n",
    "from IPython.display import display, HTML\n",
    "display(HTML(\"<style>.container {width:95% !important; }</style>\"))"
   ]
  },
  {
   "cell_type": "code",
   "execution_count": 2,
   "id": "47fe1e80",
   "metadata": {},
   "outputs": [],
   "source": [
    "import os\n",
    "from pathlib import Path\n",
    "\n",
    "import paramiko\n",
    "\n",
    "import getpass\n",
    "import gc\n",
    "import time"
   ]
  },
  {
   "cell_type": "code",
   "execution_count": 3,
   "id": "bcbe9934",
   "metadata": {},
   "outputs": [],
   "source": [
    "# dir_github = '/media/rich/Home_Linux_partition/github_repos/'\n",
    "# import sys\n",
    "# sys.path.append(dir_github)\n",
    "\n",
    "# # %load_ext autoreload\n",
    "# # %autoreload 2\n",
    "# # from s2p_on_o2 import util"
   ]
  },
  {
   "cell_type": "code",
   "execution_count": 4,
   "id": "974445f8",
   "metadata": {},
   "outputs": [],
   "source": [
    "# paramiko.util.log_to_file(\"paramiko.log\")"
   ]
  },
  {
   "cell_type": "code",
   "execution_count": 5,
   "id": "371a81cf",
   "metadata": {},
   "outputs": [],
   "source": [
    "from bnpm import server"
   ]
  },
  {
   "cell_type": "code",
   "execution_count": null,
   "id": "6612dd5d",
   "metadata": {},
   "outputs": [],
   "source": []
  },
  {
   "cell_type": "markdown",
   "id": "a59717a3",
   "metadata": {},
   "source": [
    "----\n",
    "# ==== Optional ====\n",
    "### transfer raw data from local machine to `MICROSCOPE`"
   ]
  },
  {
   "cell_type": "code",
   "execution_count": 19,
   "id": "9796b799",
   "metadata": {},
   "outputs": [
    {
     "name": "stdout",
     "output_type": "stream",
     "text": [
      "contents of    /media/rich/bigSSD/tmp_data/    will be copied to    /n/files/Neurobio/MICROSCOPE/Rich/data/test\n"
     ]
    }
   ],
   "source": [
    "## Define directories for where the local data is and the remote directory where the contents of that folder should be copied to (MICROSCOPE)\n",
    "dir_data_local = '/media/rich/bigSSD/tmp_data/'\n",
    "dir_data_MICROSCOPE = '/n/files/Neurobio/MICROSCOPE/Rich/data/test'  ## contents of dir_data_local will be dumped into dir_data_MICROSCOPE\n",
    "\n",
    "print(f'contents of    {dir_data_local}    will be copied to    {dir_data_MICROSCOPE}')"
   ]
  },
  {
   "cell_type": "code",
   "execution_count": 8,
   "id": "5c361769",
   "metadata": {},
   "outputs": [
    {
     "name": "stdout",
     "output_type": "stream",
     "text": [
      "Username: rh183\n",
      "Password: ········\n"
     ]
    }
   ],
   "source": [
    "remote_host_transfer = \"transfer.rc.hms.harvard.edu\"\n",
    "remote_host_compute = \"o2.hms.harvard.edu\"\n",
    "username = input('Username: ')\n",
    "pw = server.pw_encode(getpass.getpass(prompt='Password: '))"
   ]
  },
  {
   "cell_type": "markdown",
   "id": "60e56e5a",
   "metadata": {},
   "source": [
    "## Prepare `sftp` and `ssh` objects"
   ]
  },
  {
   "cell_type": "code",
   "execution_count": 11,
   "id": "7600dff8",
   "metadata": {},
   "outputs": [],
   "source": [
    "sftp = server.sftp_interface(hostname=\"transfer.rc.hms.harvard.edu\", port=22)\n",
    "sftp.connect(username=username, password=server.pw_decode(pw))"
   ]
  },
  {
   "cell_type": "code",
   "execution_count": null,
   "id": "ff1c87a6",
   "metadata": {},
   "outputs": [],
   "source": [
    "# sftp.mkdir_safe(dir_data_remote)\n",
    "sftp.put_dir(dir_data_local, dir_data_MICROSCOPE)"
   ]
  },
  {
   "cell_type": "code",
   "execution_count": null,
   "id": "1358265a",
   "metadata": {},
   "outputs": [],
   "source": []
  },
  {
   "cell_type": "markdown",
   "id": "6114afcd",
   "metadata": {},
   "source": [
    "------------\n",
    "# ==== Start ===="
   ]
  },
  {
   "cell_type": "markdown",
   "id": "ae33b435",
   "metadata": {},
   "source": [
    "## Prepare username + password"
   ]
  },
  {
   "cell_type": "code",
   "execution_count": 7,
   "id": "2519dbd0",
   "metadata": {},
   "outputs": [
    {
     "name": "stdout",
     "output_type": "stream",
     "text": [
      "Username: rh183\n",
      "Password: ········\n"
     ]
    }
   ],
   "source": [
    "remote_host_transfer = \"transfer.rc.hms.harvard.edu\"\n",
    "remote_host_compute = \"o2.hms.harvard.edu\"\n",
    "username = input('Username: ')\n",
    "pw = server.pw_encode(getpass.getpass(prompt='Password: '))"
   ]
  },
  {
   "cell_type": "markdown",
   "id": "5cbb7d5b",
   "metadata": {},
   "source": [
    "## Prepare `sftp` and `ssh` objects"
   ]
  },
  {
   "cell_type": "code",
   "execution_count": 9,
   "id": "f8dd7849",
   "metadata": {},
   "outputs": [],
   "source": [
    "sftp = server.sftp_interface(hostname=\"transfer.rc.hms.harvard.edu\", port=22)\n",
    "sftp.connect(username=username, password=server.pw_decode(pw))"
   ]
  },
  {
   "cell_type": "code",
   "execution_count": 12,
   "id": "fdf1e2ba",
   "metadata": {},
   "outputs": [
    {
     "name": "stderr",
     "output_type": "stream",
     "text": [
      "Oops, unhandled type 3 ('unimplemented')\n"
     ]
    },
    {
     "name": "stdout",
     "output_type": "stream",
     "text": [
      "Duo two-factor login for rh183\n",
      "\n",
      "Enter a passcode or select one of the following options:\n",
      "\n",
      " 1. Duo Push to XXX-XXX-4151\n",
      " 2. Phone call to XXX-XXX-4151\n",
      " 3. SMS passcodes to XXX-XXX-4151\n",
      "\n",
      "Passcode or option (1-3): \n",
      "1\n",
      "\n",
      "\n",
      "\n",
      "Pushed a login request to your device...\n",
      "\n",
      "Success. Logging you in...\n",
      "Welcome to O2 (Orchestra 2)!\n",
      "\u001b[32m\n",
      "   ___    ____\n",
      "  / _ \\  |___ \\\n",
      " | | | |   __) |\n",
      " | |_| |  / __/\n",
      "  \\___/  |_____|\n",
      "\n",
      "\u001b[0m\n",
      "You've landed on \u001b[33mtransfer05\u001b[0m which is a\n",
      "\u001b[33m4\u001b[0m core system with \u001b[33m7.62 GiB\u001b[0m memory\n",
      "running kernel \u001b[33m3.10.0\u001b[0m born on \u001b[33m2020-07-28\u001b[0m\n",
      "\n",
      "==== O2 ===================================================================\n",
      "\n",
      "  \u001b[31mNews (Sep 8 2022)\u001b[0m\n",
      "  \u001b[37m\n",
      "\n",
      "  +-------------------------------------------------------------------------------+\n",
      "  | ###################### Try out the new O2 Portal! ########################### |\n",
      "  |                                                                               |\n",
      "  | * Access O2 via the web! Just point your web browser to                       |\n",
      "  |   o2portal.rc.hms.harvard.edu and login with your O2 credentials.             |\n",
      "  |                                                                               |\n",
      "  | * Graphical interface for file browsing, editing, and transfer                |\n",
      "  |   (with only 1 DUO 2-factor check per session)                                |\n",
      "  |                                                                               |\n",
      "  | * Better support for graphical applications, with no x11 forwarding needed.   |\n",
      "  |   includes: MATLAB, RStudio, Jupyter, and IGV                                 |\n",
      "  |                                                                               |\n",
      "  | * Open multiple O2 terminals or even a full Linux desktop in your browser.    |\n",
      "  |                                                                               |\n",
      "  | * More info on the O2 wiki:                                                   |\n",
      "  |   https://harvardmed.atlassian.net/wiki/spaces/O2/pages/2230583317/O2Portal   |\n",
      "  +-------------------------------------------------------------------------------+\n",
      "\n",
      "  ------------------------------\n",
      "  Contact HMS Research Computing:\n",
      "\n",
      "  E-mail      rchelp@hms.harvard.edu\n",
      "  Web         it.hms.harvard.edu/rc\n",
      "  Twitter     @hms_rc\n",
      "\n",
      "===========================================================================\n",
      "\n",
      "\u001b[0m\n",
      "\n",
      "(base) [rh183@transfer05 ~]$ \n"
     ]
    }
   ],
   "source": [
    "## initialize ssh_transfer\n",
    "ssh_t = server.ssh_interface(\n",
    "    nbytes_toReceive=20000,\n",
    "    recv_timeout=1,\n",
    "    verbose=True,\n",
    ")\n",
    "ssh_t.o2_connect(\n",
    "    hostname=remote_host_transfer,\n",
    "    username=username,\n",
    "    password=server.pw_decode(pw),\n",
    "    passcode_method=1,\n",
    "    verbose=1,\n",
    "    skip_passcode=False,    \n",
    ")"
   ]
  },
  {
   "cell_type": "code",
   "execution_count": 13,
   "id": "fa578dd5",
   "metadata": {},
   "outputs": [
    {
     "name": "stdout",
     "output_type": "stream",
     "text": [
      "Duo two-factor login for rh183\n",
      "\n",
      "Enter a passcode or select one of the following options:\n",
      "\n",
      " 1. Duo Push to XXX-XXX-4151\n",
      " 2. Phone call to XXX-XXX-4151\n",
      " 3. SMS passcodes to XXX-XXX-4151\n",
      "\n",
      "Passcode or option (1-3): \n",
      "1\n",
      "\n",
      "\n",
      "\n",
      "Pushed a login request to your device...\n",
      "\n",
      "Success. Logging you in...\n",
      "Welcome to O2 (Orchestra 2)!\n",
      "\u001b[32m\n",
      "   ___    ____\n",
      "  / _ \\  |___ \\\n",
      " | | | |   __) |\n",
      " | |_| |  / __/\n",
      "  \\___/  |_____|\n",
      "\n",
      "\u001b[0m\n",
      "You've landed on \u001b[33mlogin06\u001b[0m which is a\n",
      "\u001b[33m8\u001b[0m core system with \u001b[33m15.49 GiB\u001b[0m memory\n",
      "running kernel \u001b[33m3.10.0\u001b[0m born on \u001b[33m2020-07-07\u001b[0m\n",
      "\n",
      "==== O2 ===================================================================\n",
      "\n",
      "  \u001b[31mNews (Sep 8 2022)\u001b[0m\n",
      "  \u001b[37m\n",
      "\n",
      "  +-------------------------------------------------------------------------------+\n",
      "  | ###################### Try out the new O2 Portal! ########################### |\n",
      "  |                                                                               |\n",
      "  | * Access O2 via the web! Just point your web browser to                       |\n",
      "  |   o2portal.rc.hms.harvard.edu and login with your O2 credentials.             |\n",
      "  |                                                                               |\n",
      "  | * Graphical interface for file browsing, editing, and transfer                |\n",
      "  |   (with only 1 DUO 2-factor check per session)                                |\n",
      "  |                                                                               |\n",
      "  | * Better support for graphical applications, with no x11 forwarding needed.   |\n",
      "  |   includes: MATLAB, RStudio, Jupyter, and IGV                                 |\n",
      "  |                                                                               |\n",
      "  | * Open multiple O2 terminals or even a full Linux desktop in your browser.    |\n",
      "  |                                                                               |\n",
      "  | * More info on the O2 wiki:                                                   |\n",
      "  |   https://harvardmed.atlassian.net/wiki/spaces/O2/pages/2230583317/O2Portal   |\n",
      "  +-------------------------------------------------------------------------------+\n",
      "\n",
      "  ------------------------------\n",
      "  Contact HMS Research Computing:\n",
      "\n",
      "  E-mail      rchelp@hms.harvard.edu\n",
      "  Web         it.hms.harvard.edu/rc\n",
      "  Twitter     @hms_rc\n",
      "\n",
      "===========================================================================\n",
      "\n",
      "\u001b[0m\n",
      "\n",
      "(base) [rh183@login06 ~]$ \n"
     ]
    }
   ],
   "source": [
    "## initialize ssh_compute\n",
    "ssh_c = server.ssh_interface(\n",
    "    nbytes_toReceive=20000,\n",
    "    recv_timeout=1,\n",
    "    verbose=True,\n",
    ")\n",
    "ssh_c.o2_connect(\n",
    "    hostname=remote_host_compute,\n",
    "    username=username,\n",
    "    password=server.pw_decode(pw),\n",
    "    passcode_method=1,\n",
    "    verbose=1,\n",
    "    skip_passcode=False,    \n",
    ")"
   ]
  },
  {
   "cell_type": "markdown",
   "id": "0cd3c682",
   "metadata": {},
   "source": [
    "## Pull/update repo"
   ]
  },
  {
   "cell_type": "code",
   "execution_count": 14,
   "id": "2edc3771",
   "metadata": {},
   "outputs": [
    {
     "name": "stdout",
     "output_type": "stream",
     "text": [
      "cd /n/data1/hms/neurobio/sabatini/rich/github_repos/NB \r",
      "AP\r\n",
      "\n",
      "git pull\r\n",
      "(base) [rh183@login06 NBAP]$ git pull\r\n",
      "\n"
     ]
    }
   ],
   "source": [
    "ssh_c.send('cd /n/data1/hms/neurobio/sabatini/rich/github_repos/NBAP')\n",
    "ssh_c.send('git pull')\n",
    "\n",
    "ssh_c.expect(str_success=f'[{username}');"
   ]
  },
  {
   "cell_type": "markdown",
   "id": "c9ee91f6",
   "metadata": {},
   "source": [
    "## Activate environment"
   ]
  },
  {
   "cell_type": "code",
   "execution_count": 15,
   "id": "902c4841",
   "metadata": {},
   "outputs": [
    {
     "name": "stdout",
     "output_type": "stream",
     "text": [
      "remote: Enumerating objects: 36, done.\u001b[K\r\n",
      "remote: Counting objects:   5% (1/18)\u001b[K\r",
      "remote: Counting objects:  11% (2/18)\u001b[K\r",
      "remote: Counting objects:  16% (3/18)\u001b[K\r",
      "remote: Counting objects:  22% (4/18)\u001b[K\r",
      "remote: Counting objects:  27% (5/18)\u001b[K\r",
      "remote: Counting objects:  33% (6/18)\u001b[K\r",
      "remote: Counting objects:  38% (7/18)\u001b[K\r",
      "remote: Counting objects:  44% (8/18)\u001b[K\r",
      "remote: Counting objects:  50% (9/18)\u001b[K\r",
      "remote: Counting objects:  55% (10/18)\u001b[K\r",
      "remote: Counting objects:  61% (11/18)\u001b[K\r",
      "remote: Counting objects:  66% (12/18)\u001b[K\r",
      "remote: Counting objects:  72% (13/18)\u001b[K\r",
      "remote: Counting objects:  77% (14/18)\u001b[K\r",
      "remote: Counting objects:  83% (15/18)\u001b[K\r",
      "remote: Counting objects:  88% (16/18)\u001b[K\r",
      "remote: Counting objects:  94% (17/18)\u001b[K\r",
      "remote: Counting objects: 100% (18/18)\u001b[K\r",
      "remote: Counting objects: 100% (18/18), done.\u001b[K\r\n",
      "remote: Compressing objects:  16% (1/6)\u001b[K\r",
      "remote: Compressing objects:  33% (2/6)\u001b[K\r",
      "remote: Compressing objects:  50% (3/6)\u001b[K\r",
      "remote: Compressing objects:  66% (4/6)\u001b[K\r",
      "remote: Compressing objects:  83% (5/6)\u001b[K\r",
      "remote: Compressing objects: 100% (6/6)\u001b[K\r",
      "remote: Compressing objects: 100% (6/6), done.\u001b[K\r\n",
      "Unpacking objects:   2% (1/36)   \r",
      "Unpacking objects:   5% (2/36)   \r",
      "Unpacking objects:   8% (3/36)   \r",
      "Unpacking objects:  11% (4/36)   \r",
      "Unpacking objects:  13% (5/36)   \r",
      "Unpacking objects:  16% (6/36)   \r",
      "Unpacking objects:  19% (7/36)   \r",
      "Unpacking objects:  22% (8/36)   \r",
      "Unpacking objects:  25% (9/36)   \r",
      "Unpacking objects:  27% (10/36)   \r",
      "Unpacking objects:  30% (11/36)   \r",
      "Unpacking objects:  33% (12/36)   \r",
      "Unpacking objects:  36% (13/36)   \r",
      "Unpacking objects:  38% (14/36)   \r",
      "Unpacking objects:  41% (15/36)   \r",
      "Unpacking objects:  44% (16/36)   \r",
      "Unpacking objects:  47% (17/36)   \r",
      "Unpacking objects:  50% (18/36)   \r",
      "Unpacking objects:  52% (19/36)   \r",
      "Unpacking objects:  55% (20/36)   \r",
      "Unpacking objects:  58% (21/36)   \r",
      "Unpacking objects:  61% (22/36)   \r",
      "Unpacking objects:  63% (23/36)   \r",
      "Unpacking objects:  66% (24/36)   \r",
      "Unpacking objects:  69% (25/36)   \r",
      "Unpacking objects:  72% (26/36)   \r",
      "Unpacking objects:  75% (27/36)   \r",
      "Unpacking objects:  77% (28/36)   \r",
      "Unpacking objects:  80% (29/36)   \r",
      "Unpacking objects:  83% (30/36)   \r",
      "Unpacking objects:  86% (31/36)   \r",
      "Unpacking objects:  88% (32/36)   \r",
      "Unpacking objects:  91% (33/36)   \r",
      "remote: Total 36 (delta 12), reused 16 (delta 12), pack-reused 18\u001b[K\r\n",
      "Unpacking objects:  94% (34/36)   \r",
      "Unpacking objects:  97% (35/36)   \r",
      "Unpacking objects: 100% (36/36)   \r",
      "Unpacking objects: 100% (36/36), done.\r\n",
      "From https://github.com/RichieHakim/NBAP\r\n",
      "   f2476a4..a3f9d66  main       -> origin/main\r\n",
      "Updating f2476a4..a3f9d66\r\n",
      "Fast-forward\r\n",
      " .../analysis_BMI_rewards-checkpoint.ipynb          |  1796 ++\r\n",
      " .../master_controller-checkpoint.ipynb             |   107 +-\r\n",
      " .../CASCADE/master_controller.ipynb                |   107 +-\r\n",
      " ...is_BMI_activityVectorAlignment-checkpoint.ipynb | 19149 ++++++++++++++++++\r\n",
      " pipeline_res2p_BMI/CASCADE/dispatcher.py           |     5 +-\r\n",
      " pipeline_res2p_BMI/CASCADE/master_controller.ipynb |   151 +-\r\n",
      " .../analysis_BMI_activityVectorAlignment.ipynb     | 19156 +++++++++++++++++++\r\n",
      " pipeline_res2p_BMI/analysis_BMI_rewards.ipynb      |  1796 ++\r\n",
      " 8 files changed, 42143 insertions(+), 124 deletions(-)\r\n",
      " create mode 100644 .ipynb_checkpoints/analysis_BMI_rewards-checkpoint.ipynb\r\n",
      " create mode 100644 pipeline_res2p_BMI/.ipynb_checkpoints/analysis_BMI_activityVectorAlignment-checkpoint.ipynb\r\n",
      " create mode 100644 pipeline_res2p_BMI/analysis_BMI_activityVectorAlignment.ipynb\r\n",
      " create mode 100644 pipeline_res2p_BMI/analysis_BMI_rewards.ipynb\r\n",
      "(base) [rh183@login06 NBAP]$ \n"
     ]
    }
   ],
   "source": [
    "ssh_c.send('source activate Cascade')\n",
    "ssh_c.expect(str_success=f'[{username}');"
   ]
  },
  {
   "cell_type": "markdown",
   "id": "558a1158",
   "metadata": {},
   "source": [
    "## Prepare directories"
   ]
  },
  {
   "cell_type": "code",
   "execution_count": 194,
   "id": "97ffab65",
   "metadata": {},
   "outputs": [],
   "source": [
    "import numpy as np\n",
    "\n",
    "mouse_name = 'mouse_1511L'\n",
    "date = '20230112'\n",
    "\n",
    "name_slurm = mouse_name + '_' + date[-2:]\n",
    "\n",
    "# dir_motionData_MICROSCOPE = (Path('/n/files/Neurobio/MICROSCOPE/Ally/Mesoscope') / mouse_name / date).as_posix()\n",
    "# dir_s2p_MICROSCOPE = (Path('/n/files/Neurobio/MICROSCOPE/Ally/Mesoscope') / mouse_name / date / 'suite2p_o2_output/jobNum_0/suite2p').as_posix()\n",
    "dir_s2p = str((Path('/n/data1/hms/neurobio/sabatini/gyu/analysis/suite2p_output/') / mouse_name / date / 'scanimage_data' / 'exp' / 'jobNum_0' / 'suite2p' / 'plane0'))\n",
    "# dir_s2p = str((Path('/n/data1/hms/neurobio/sabatini/gyu/analysis/suite2p_output/') / mouse_name / date / 'scanimage_data' / 'exp' / 'plane0'))\n",
    "\n",
    "# dir_data_remote = (Path('/n/data1/hms/neurobio/sabatini/rich/data/2pRAM') / mouse_name / date).as_posix()\n",
    "\n",
    "dir_saveOutputs = (Path('/n/data1/hms/neurobio/sabatini/rich/analysis/spike_inference') / mouse_name / date).as_posix()\n",
    "\n",
    "# fileList = sftp.sftp.listdir(dir_motionData)\n",
    "# fileName = sorted(np.array(fileList)[np.array([('Motion' in file)*('.csv' in file) for file in fileList], dtype=np.bool8)])[-1]\n",
    "# path_motionData_MICROSCOPE = str(Path(dir_motionData) / fileName)\n",
    "\n",
    "name_job = 'jobNum_'\n",
    "\n",
    "\n",
    "# path_motionData_MICROSCOPE = (Path(dir_motionData_MICROSCOPE) / fileName).as_posix()\n",
    "\n",
    "# path_dispatcher_local = Path(r'C:\\Users\\scanimage\\github_repos\\s2p_on_o2').resolve() / 'dispatcher.py'  ## path to the dispatcher.py file on local computer\n",
    "path_dispatcher_local = Path(r'/media/rich/Home_Linux_partition/github_repos/NBAP/pipeline_res2p_BMI/CASCADE/').resolve() / 'dispatcher.py'  ## path to the dispatcher.py file on local computer\n",
    "path_dispatcher_remote = (Path(dir_saveOutputs) / 'dispatcher.py').as_posix()  ## path to where you want the dispatcher.py file to be copied onto the server\n",
    "path_script_remote = Path(r'/n/data1/hms/neurobio/sabatini/rich/github_repos/NBAP/pipeline_res2p_BMI/CASCADE/run_cascade.py').as_posix()  ## path to a copy of the remote_run_s2p.py file within the s2p_on_o2 repo on the server\n",
    "\n",
    "# print(f'contents of    {dir_motionData_MICROSCOPE}   and   {dir_s2p_MICROSCOPE}    will be copied to    {dir_data_remote}')"
   ]
  },
  {
   "cell_type": "markdown",
   "id": "31ce097b",
   "metadata": {},
   "source": [
    "## Prepare commands"
   ]
  },
  {
   "cell_type": "code",
   "execution_count": 195,
   "id": "784052a0",
   "metadata": {},
   "outputs": [
    {
     "data": {
      "text/plain": [
       "{'dispatch_s2p': 'python /n/data1/hms/neurobio/sabatini/rich/analysis/spike_inference/mouse_1511L/20230112/dispatcher.py /n/data1/hms/neurobio/sabatini/rich/analysis/spike_inference/mouse_1511L/20230112 /n/data1/hms/neurobio/sabatini/rich/github_repos/NBAP/pipeline_res2p_BMI/CASCADE/run_cascade.py jobNum_ mouse_1511L_12 /n/data1/hms/neurobio/sabatini/gyu/analysis/suite2p_output/mouse_1511L/20230112/scanimage_data/exp/jobNum_0/suite2p/plane0'}"
      ]
     },
     "metadata": {},
     "output_type": "display_data"
    }
   ],
   "source": [
    "## Expectation for dispatch args: \n",
    "# path_selfScript = args[0] = path_dispatcher_remote\n",
    "# dir_save = args[1] = dir_S2pOutput_remote\n",
    "# path_script = args[2] = path_s2pScript_remote\n",
    "# name_job = args[3] = name_job\n",
    "# dir_fastDisk = args[4] = dir_fastDisk_remote\n",
    "# name_slurm = args[5] = name_slurm\n",
    "# dir_data = args[6] = dir_data_remote\n",
    "\n",
    "\n",
    "prompt_snip = f'[{username}'\n",
    "\n",
    "commands = {\n",
    "#     'make_dir': f\"mkdir -p {dir_data_remote}\",\n",
    "#     'copy_motionData': f\"cp -r {path_motionData_MICROSCOPE} {dir_data_remote}\",\n",
    "#     'copy_s2p': f\"cp -r {dir_s2p_MICROSCOPE} {dir_data_remote}\",\n",
    "    'dispatch_s2p': f\"python {str(path_dispatcher_remote)} {dir_saveOutputs} {path_script_remote} {name_job} {name_slurm} {dir_s2p}\"  ## dispatcher expecting these args as inputs\n",
    "}\n",
    "display(commands)"
   ]
  },
  {
   "cell_type": "markdown",
   "id": "f62cb3b7",
   "metadata": {},
   "source": [
    "## Upload `dispatcher.py` file"
   ]
  },
  {
   "cell_type": "code",
   "execution_count": 196,
   "id": "e3e04b05",
   "metadata": {},
   "outputs": [],
   "source": [
    "sftp.mkdir_p(Path(path_dispatcher_remote).parent.as_posix())\n",
    "sftp.sftp.put(str(path_dispatcher_local), str(path_dispatcher_remote));"
   ]
  },
  {
   "cell_type": "markdown",
   "id": "809516d0",
   "metadata": {},
   "source": [
    "## Copy data from `MICROSCOPE` to `data1`"
   ]
  },
  {
   "cell_type": "raw",
   "id": "babd3f34",
   "metadata": {},
   "source": [
    "ssh_t.send_receive(commands['make_dir']);\n",
    "\n",
    "ssh_t.send(commands['copy_motionData']);\n",
    "ssh_t.send(commands['copy_s2p'])"
   ]
  },
  {
   "cell_type": "raw",
   "id": "88b8eaf4",
   "metadata": {},
   "source": [
    "ssh_t.expect(str_success=f'[{username}', recv_timeout=0.3, total_timeout=60*15, sleep_time=0.1, verbose=True);"
   ]
  },
  {
   "cell_type": "markdown",
   "id": "c89ee6cc",
   "metadata": {},
   "source": [
    "## Dispatch `remote_run_s2p.py`"
   ]
  },
  {
   "cell_type": "code",
   "execution_count": 197,
   "id": "92bb7e72",
   "metadata": {},
   "outputs": [
    {
     "data": {
      "text/plain": [
       "'python /n/data1/hms/neurobio/sabatini/rich/analysis/spike_inference/mouse_1511L/20230112/dispatcher.py /n/data1/hms/neurobio/sabatini/rich/analysis/spike_inference/mouse_1511L/20230112 /n/data1/hms/neurobio/sabatini/rich/github_repos/NBAP/pipeline_res2p_BMI/CASCADE/run_cascade.py jobNum_ mouse_1511L_12 /n/data1/hms/neurobio/sabatini/gyu/analysis/suite2p_output/mouse_1511L/20230112/scanimage_data/exp/jobNum_0/suite2p/plane0'"
      ]
     },
     "execution_count": 197,
     "metadata": {},
     "output_type": "execute_result"
    }
   ],
   "source": [
    "commands['dispatch_s2p']"
   ]
  },
  {
   "cell_type": "code",
   "execution_count": 198,
   "id": "50fa1ec8",
   "metadata": {},
   "outputs": [
    {
     "name": "stdout",
     "output_type": "stream",
     "text": [
      "_1511L/20230112/scanimage_data/exp/jobNum_0/suite2p/plane0s/suite2p_output/mouse \n",
      "\n",
      "/n/data1/hms/neurobio/sabatini/rich/analysis/spike_inference/mouse_1511L/20230112/dispatcher.py /n/data1/hms/neurobio/sabatini/rich/analysis/spike_inference/mouse_1511L/20230112 /n/data1/hms/neurobio/sabatini/rich/github_repos/NBAP/pipeline_res2p_BMI/CASCADE/run_cascade.py jobNum_ /n/data1/hms/neurobio/sabatini/gyu/analysis/suite2p_output/mouse_1511L/20230112/scanimage_data/exp/jobNum_0/suite2p/plane0\n",
      "Submitting job: jobNum_ 0\n",
      "\n",
      "Submitted batch job 1847282\n",
      "\n",
      "(Cascade) [rh183@login06 NBAP]$ \n"
     ]
    }
   ],
   "source": [
    "ssh_c.send(commands['dispatch_s2p']);\n",
    "\n",
    "ssh_c.expect(str_success=prompt_snip);"
   ]
  },
  {
   "cell_type": "markdown",
   "id": "5f77e2c2",
   "metadata": {},
   "source": [
    "### check on job"
   ]
  },
  {
   "cell_type": "code",
   "execution_count": 203,
   "id": "25e01375",
   "metadata": {
    "scrolled": false
   },
   "outputs": [
    {
     "name": "stdout",
     "output_type": "stream",
     "text": [
      "squeue -u rh183 --Format=jobid,name,partition,st \r",
      "ate,timeused,starttime,timelimit,reasonlist,minmemory,mincpus,gres\r\n",
      "JOBID               NAME                PARTITION           STATE               TIME                START_TIME          TIME_LIMIT          NODELIST(REASON)    MIN_MEMORY          MIN_CPUS            TRES_PER_NODE       \r\n",
      "1847282             mouse_1511L_12      short               RUNNING             15:34               2023-01-23T03:40:07 4:00:00             compute-a-17-121    32G                 20                  N/A                 \r\n",
      "(Cascade) [rh183@login06 NBAP]$ \n"
     ]
    }
   ],
   "source": [
    "ssh_c.send(cmd=f'squeue -u {username} --Format=jobid,name,partition,state,timeused,starttime,timelimit,reasonlist,minmemory,mincpus,gres');\n",
    "ssh_c.expect(str_success=f\"[{username}\", total_timeout=10);"
   ]
  },
  {
   "cell_type": "code",
   "execution_count": null,
   "id": "d917cc31",
   "metadata": {},
   "outputs": [],
   "source": []
  },
  {
   "cell_type": "code",
   "execution_count": null,
   "id": "c350c088",
   "metadata": {},
   "outputs": [],
   "source": []
  },
  {
   "cell_type": "code",
   "execution_count": null,
   "id": "6426fe45",
   "metadata": {},
   "outputs": [],
   "source": []
  },
  {
   "cell_type": "code",
   "execution_count": null,
   "id": "b44689ac",
   "metadata": {},
   "outputs": [],
   "source": []
  },
  {
   "cell_type": "code",
   "execution_count": null,
   "id": "939f8b8e",
   "metadata": {},
   "outputs": [],
   "source": []
  },
  {
   "cell_type": "code",
   "execution_count": null,
   "id": "d7011243",
   "metadata": {},
   "outputs": [],
   "source": []
  },
  {
   "cell_type": "code",
   "execution_count": null,
   "id": "11d9c633",
   "metadata": {},
   "outputs": [],
   "source": []
  },
  {
   "cell_type": "code",
   "execution_count": null,
   "id": "e4f142ec",
   "metadata": {},
   "outputs": [],
   "source": []
  },
  {
   "cell_type": "code",
   "execution_count": null,
   "id": "65409c90",
   "metadata": {},
   "outputs": [],
   "source": []
  },
  {
   "cell_type": "code",
   "execution_count": null,
   "id": "bb5043b2",
   "metadata": {},
   "outputs": [],
   "source": []
  },
  {
   "cell_type": "code",
   "execution_count": 208,
   "id": "7271df90",
   "metadata": {},
   "outputs": [],
   "source": [
    "## I think this code block caused an out of memory error on a few of my jobs... not sure why\n",
    "\n",
    "# ssh_c.send(cmd=f\"cat {(Path(dir_S2pOutput_remote) / (name_job+'0') / 'print*').as_posix()}\")\n",
    "# ssh_c.expect(str_success=f\"[{username}\", total_timeout=1);"
   ]
  },
  {
   "cell_type": "code",
   "execution_count": null,
   "id": "7170d6ca",
   "metadata": {},
   "outputs": [],
   "source": [
    "ssh_c.send(cmd=f\"cat {(Path(dir_S2pOutput_remote) / (name_job+'0') / 'print*').as_posix()}\")\n",
    "ssh_c.expect(str_success=f\"RUN COMPLETE\", recv_timeout=0.3, total_timeout=60*60*10, sleep_time=0.1, verbose=False);\n",
    "\n",
    "print(f'RUN COMPLETE!!!     {time.ctime()}')"
   ]
  },
  {
   "cell_type": "raw",
   "id": "77c4ebea",
   "metadata": {},
   "source": [
    ",timelimit,reasonlist,minmemory,mincpus,gres\n",
    "JOBID               NAME                PARTITION           STATE               TIME                START_TIME          TIME_LIMIT          NODELIST(REASON)    MIN_MEMORY          MIN_CPUS            TRES_PER_NODE       \n",
    "814398              rh_20221014         gpu_requeue         RUNNING             9:47                2023-01-08T23:01:57 3:30:00             compute-gc-17-245   48G                 20                  gres:gpu:rtx6000:1  \n",
    "814346              mouse_B_02          short               PENDING             0:00                2023-01-08T23:11:43 3:00:00             (Resources)         32G                 20                  N/A                 \n",
    "814348              mouse_B_03          short               PENDING             0:00                2023-01-09T00:18:13 3:00:00             (Priority)          32G                 20                  N/A                 \n",
    "814349              mouse_B_04          short               PENDING             0:00                2023-01-09T01:21:25 3:00:00             (Priority)          32G                 20                  N/A                 \n",
    "814351              mouse_B_05          short               PENDING             0:00                2023-01-09T01:21:25 3:00:00             (Priority)          32G                 20                  N/A                 \n",
    "814352              mouse_B_06          short               PENDING             0:00                2023-01-09T02:10:00 3:00:00             (Priority)          32G                 20                  N/A                 \n",
    "814355              mouse_g1_10         short               PENDING             0:00                2023-01-09T03:10:00 3:00:00             (Priority)          32G                 20                  N/A                 \n",
    "814356              mouse_g1_11         short               PENDING             0:00                2023-01-09T03:31:25 3:00:00             (Priority)          32G                 20                  N/A                 \n",
    "814357              mouse_g1_12         short               PENDING             0:00                2023-01-09T03:31:25 3:00:00             (Priority)          32G                 20                  N/A                 \n",
    "814359              mouse_g1_13         short               PENDING             0:00                2023-01-09T03:31:25 3:00:00             (Priority)          32G                 20                  N/A                 \n",
    "814360              mouse_g1_14         short               PENDING             0:00                2023-01-09T03:31:25 3:00:00             (Priority)          32G                 20                  N/A                 \n",
    "814361              mouse_g1_15         short               PENDING             0:00                N/A                 3:00:00             (Priority)          32G                 20                  N/A                 \n",
    "814362              mouse_g1_16         short               PENDING             0:00                N/A                 3:00:00             (Priority)          32G                 20                  N/A                 \n",
    "814427              mouse_g2FB_17       short               PENDING             0:00                N/A                 3:00:00             (None)              32G                 20                  N/A                 \n",
    "814426              mouse_g2FB_16       short               PENDING             0:00                N/A                 3:00:00             (Priority)          32G                 20                  N/A                 \n",
    "814423              mouse_g2FB_15       short               PENDING             0:00                N/A                 3:00:00             (Priority)          32G                 20                  N/A                 \n",
    "814422              mouse_g2FB_14       short               PENDING             0:00                N/A                 3:00:00             (Priority)          32G                 20                  N/A                 \n",
    "814420              mouse_g2FB_13       short               PENDING             0:00                N/A                 3:00:00             (Priority)          32G                 20                  N/A                 \n",
    "814418              mouse_g2FB_12       short               PENDING             0:00                N/A                 3:00:00             (Priority)          32G                 20                  N/A                 \n",
    "814417              mouse_g2FB_11       short               PENDING             0:00                N/A                 3:00:00             (Priority)          32G                 20                  N/A                 \n",
    "813740              mouse_B_20          short               RUNNING             1:30:09             2023-01-08T21:41:35 3:30:00             compute-a-16-48     32G                 20                  N/A                 \n",
    "813788              mouse_B_21          short               RUNNING             1:13:17             2023-01-08T21:58:27 3:30:00             compute-a-16-146    32G                 20                  N/A                 \n",
    "813790              mouse_B_22          short               RUNNING             57:08               2023-01-08T22:14:36 3:30:00             compute-a-17-81     32G                 20                  N/A                 \n",
    "813791              mouse_B_23          short               RUNNING             50:10               2023-01-08T22:21:34 3:30:00             compute-a-17-107    32G                 20                  N/A                 \n",
    "813792              mouse_B_24          short               RUNNING             34:34               2023-01-08T22:37:10 3:30:00             compute-a-17-143    32G                 20                  N/A                 \n",
    "813793              mouse_B_25          short               RUNNING             29:27               2023-01-08T22:42:17 3:30:00             compute-e-16-193    32G                 20                  N/A                 \n",
    "813794              mouse_B_26          short               RUNNING             28:19               2023-01-08T22:43:25 3:30:00             compute-a-17-129    32G                 20                  N/A                 \n",
    "813797              mouse_B_28          short               RUNNING             27:17               2023-01-08T22:44:27 3:30:00             compute-a-16-84     32G                 20                  N/A                 \n",
    "814340              mouse_B_29          short               RUNNING             12:46               2023-01-08T22:58:58 3:00:00             compute-a-16-166    32G                 20                  N/A                 \n",
    "814341              mouse_B_30          short               RUNNING             6:23                2023-01-08T23:05:21 3:00:00             compute-a-16-163    32G                 20                  N/A                 \n",
    "814343              mouse_B_31          short               RUNNING             6:16                2023-01-08T23:05:28 3:00:00             compute-a-17-68     32G                 20                  N/A                 \n",
    "814345              mouse_B_01          short               RUNNING             2:52                2023-01-08T23:08:52 3:00:00             compute-a-16-61     32G                 20                  N/A                 \n",
    "(Cascade) [rh183@login04 NBAP]$ \n",
    "\n"
   ]
  },
  {
   "cell_type": "markdown",
   "id": "33600579",
   "metadata": {},
   "source": [
    "## Clean up"
   ]
  },
  {
   "cell_type": "code",
   "execution_count": null,
   "id": "b31f6bcb",
   "metadata": {},
   "outputs": [],
   "source": [
    "## delete password\n",
    "del pw\n",
    "gc.collect()\n",
    "\n",
    "## close sftp\n",
    "if sftp: sftp.close()\n",
    "if transport: transport.close()\n",
    "del sftp\n",
    "del transport\n",
    "    \n",
    "## close ssh\n",
    "ssh_t.close()\n",
    "del ssh_t\n",
    "ssh_c.close()\n",
    "del ssh_c\n",
    "gc.collect()"
   ]
  },
  {
   "cell_type": "code",
   "execution_count": null,
   "id": "211f8398",
   "metadata": {},
   "outputs": [],
   "source": []
  },
  {
   "cell_type": "code",
   "execution_count": null,
   "id": "b1e29db0",
   "metadata": {},
   "outputs": [],
   "source": []
  },
  {
   "cell_type": "markdown",
   "id": "bc0f7b70",
   "metadata": {},
   "source": [
    "----\n",
    "# ==== Optional ====\n",
    "### transfer s2p outputs back from `data1` to `MICROSCOPE`"
   ]
  },
  {
   "cell_type": "markdown",
   "id": "ee823e31",
   "metadata": {},
   "source": [
    "## Prepare username + password"
   ]
  },
  {
   "cell_type": "code",
   "execution_count": 5,
   "id": "bc43abdd",
   "metadata": {},
   "outputs": [
    {
     "name": "stdout",
     "output_type": "stream",
     "text": [
      "Username: rh183\n",
      "Password: ········\n"
     ]
    }
   ],
   "source": [
    "remote_host_transfer = \"transfer.rc.hms.harvard.edu\"\n",
    "remote_host_compute = \"o2.hms.harvard.edu\"\n",
    "username = input('Username: ')\n",
    "pw = util.pw_encode(getpass.getpass(prompt='Password: '))"
   ]
  },
  {
   "cell_type": "markdown",
   "id": "d8d54f22",
   "metadata": {},
   "source": [
    "## Prepare `ssh` object"
   ]
  },
  {
   "cell_type": "code",
   "execution_count": null,
   "id": "38d10e50",
   "metadata": {},
   "outputs": [],
   "source": [
    "## initialize ssh_transfer\n",
    "ssh_t = util.ssh_interface(\n",
    "    nbytes_toReceive=4096,\n",
    "    recv_timeout=1,\n",
    "    verbose=True,\n",
    ")\n",
    "ssh_t.o2_connect(\n",
    "    hostname=remote_host_transfer,\n",
    "    username=username,\n",
    "    password=util.pw_decode(pw),\n",
    "    passcode_method=1,\n",
    "    verbose=1,\n",
    "    skip_passcode=False,\n",
    ")"
   ]
  },
  {
   "cell_type": "code",
   "execution_count": 274,
   "id": "4a74693f",
   "metadata": {},
   "outputs": [
    {
     "name": "stdout",
     "output_type": "stream",
     "text": [
      "contents of    /n/data1/hms/neurobio/sabatini/rich/analysis/suite2p_output/AEG21/2022_05_14    will be copied to    /n/files/Neurobio/MICROSCOPE/Ally/Mesoscope/AEG21/2022_05_14/suite2p_o2_output\n"
     ]
    }
   ],
   "source": [
    "dir_S2pOutput_remote = dir_S2pOutput_remote  ## from above\n",
    "dir_s2pOutput_MICROSCOPE = (Path(dir_data_MICROSCOPE) / 'suite2p_o2_output').as_posix()  ## from above\n",
    "print(f'contents of    {dir_S2pOutput_remote}    will be copied to    {dir_s2pOutput_MICROSCOPE}')"
   ]
  },
  {
   "cell_type": "code",
   "execution_count": 275,
   "id": "53d3fc7d",
   "metadata": {},
   "outputs": [
    {
     "data": {
      "text/plain": [
       "{'make_dir': 'mkdir -p /n/files/Neurobio/MICROSCOPE/Ally/Mesoscope/AEG21/2022_05_14/suite2p_o2_output',\n",
       " 'copy_s2p': 'cp -r /n/data1/hms/neurobio/sabatini/rich/analysis/suite2p_output/AEG21/2022_05_14/. /n/files/Neurobio/MICROSCOPE/Ally/Mesoscope/AEG21/2022_05_14/suite2p_o2_output'}"
      ]
     },
     "metadata": {},
     "output_type": "display_data"
    }
   ],
   "source": [
    "commands = {\n",
    "    'make_dir': f\"mkdir -p {dir_s2pOutput_MICROSCOPE}\",\n",
    "    'copy_s2p': f\"cp -r {(Path(dir_S2pOutput_remote)).as_posix()}/. {dir_s2pOutput_MICROSCOPE}\",\n",
    "}\n",
    "display(commands)"
   ]
  },
  {
   "cell_type": "code",
   "execution_count": 276,
   "id": "0d9854ac",
   "metadata": {},
   "outputs": [
    {
     "name": "stdout",
     "output_type": "stream",
     "text": [
      "mkdir -p /n/files/Neurobio/MICROSCOPE/Ally/Mesoscop \r",
      "e/AEG21/2022_05_14/suite2p_o2_output\r\n",
      "\n"
     ]
    }
   ],
   "source": [
    "ssh_t.send_receive(commands['make_dir']);"
   ]
  },
  {
   "cell_type": "code",
   "execution_count": 277,
   "id": "728e4e88",
   "metadata": {},
   "outputs": [
    {
     "name": "stdout",
     "output_type": "stream",
     "text": [
      "(base) [rh183@transfer03 ~]$ \n"
     ]
    }
   ],
   "source": [
    "ssh_t.send(commands['copy_s2p'])\n",
    "ssh_t.expect(str_success=f'[{username}', total_timeout=120, verbose=True);"
   ]
  },
  {
   "cell_type": "code",
   "execution_count": null,
   "id": "2d0f096e",
   "metadata": {},
   "outputs": [],
   "source": []
  },
  {
   "cell_type": "markdown",
   "id": "0097eadc",
   "metadata": {},
   "source": [
    "## Clean up"
   ]
  },
  {
   "cell_type": "code",
   "execution_count": null,
   "id": "b01e88d4",
   "metadata": {},
   "outputs": [],
   "source": [
    "## delete password\n",
    "del pw\n",
    "gc.collect()\n",
    "    \n",
    "## close ssh\n",
    "ssh_t.close()\n",
    "del ssh_t\n",
    "gc.collect()"
   ]
  },
  {
   "cell_type": "code",
   "execution_count": null,
   "id": "cc4d73d5",
   "metadata": {},
   "outputs": [],
   "source": []
  },
  {
   "cell_type": "markdown",
   "id": "607fe8d3",
   "metadata": {},
   "source": [
    "----\n",
    "# ==== Optional ====\n",
    "### transfer s2p outputs from `MICROSCOPE` to local machine"
   ]
  },
  {
   "cell_type": "code",
   "execution_count": 39,
   "id": "f443018b",
   "metadata": {},
   "outputs": [
    {
     "name": "stdout",
     "output_type": "stream",
     "text": [
      "contents of    /n/files/Neurobio/MICROSCOPE/Rich/data/test/suite2p_o2_output    will be copied to    /media/rich/bigSSD/tmp_data/suite2p_o2_output\n"
     ]
    }
   ],
   "source": [
    "dir_s2pOutput_MICROSCOPE = dir_s2pOutput_MICROSCOPE  ## from above\n",
    "dir_s2pOutput_local = str(Path(dir_data_local).resolve() / 'suite2p_o2_output')\n",
    "print(f'contents of    {dir_s2pOutput_MICROSCOPE}    will be copied to    {dir_s2pOutput_local}')"
   ]
  },
  {
   "cell_type": "code",
   "execution_count": 57,
   "id": "6721d7c7",
   "metadata": {},
   "outputs": [
    {
     "name": "stdout",
     "output_type": "stream",
     "text": [
      "Username: rh183\n",
      "Password: ········\n"
     ]
    }
   ],
   "source": [
    "remote_host_transfer = \"transfer.rc.hms.harvard.edu\"\n",
    "remote_host_compute = \"o2.hms.harvard.edu\"\n",
    "username = input('Username: ')\n",
    "pw = util.pw_encode(getpass.getpass(prompt='Password: '))"
   ]
  },
  {
   "cell_type": "markdown",
   "id": "055b0c6c",
   "metadata": {},
   "source": [
    "## Prepare `sftp` and `ssh` objects"
   ]
  },
  {
   "cell_type": "code",
   "execution_count": 40,
   "id": "b91b33b2",
   "metadata": {},
   "outputs": [],
   "source": [
    "sftp = util.sftp_interface(hostname=\"transfer.rc.hms.harvard.edu\", port=22)\n",
    "sftp.connect(username=username, password=util.pw_decode(pw))"
   ]
  },
  {
   "cell_type": "code",
   "execution_count": 41,
   "id": "c0e3af30",
   "metadata": {},
   "outputs": [
    {
     "name": "stdout",
     "output_type": "stream",
     "text": [
      "downloading /n/files/Neurobio/MICROSCOPE/Rich/data/test/suite2p_o2_output/jobNum_0/params.json   to   /media/rich/bigSSD/tmp_data/suite2p_o2_output/jobNum_0/params.json\n",
      "downloading /n/files/Neurobio/MICROSCOPE/Rich/data/test/suite2p_o2_output/jobNum_0/print_log_53419173.log   to   /media/rich/bigSSD/tmp_data/suite2p_o2_output/jobNum_0/print_log_53419173.log\n",
      "downloading /n/files/Neurobio/MICROSCOPE/Rich/data/test/suite2p_o2_output/jobNum_0/batch_run_output.png   to   /media/rich/bigSSD/tmp_data/suite2p_o2_output/jobNum_0/batch_run_output.png\n",
      "downloading /n/files/Neurobio/MICROSCOPE/Rich/data/test/suite2p_o2_output/jobNum_0/log.txt   to   /media/rich/bigSSD/tmp_data/suite2p_o2_output/jobNum_0/log.txt\n",
      "downloading /n/files/Neurobio/MICROSCOPE/Rich/data/test/suite2p_o2_output/jobNum_0/sbatch_config.sh   to   /media/rich/bigSSD/tmp_data/suite2p_o2_output/jobNum_0/sbatch_config.sh\n",
      "downloading /n/files/Neurobio/MICROSCOPE/Rich/data/test/suite2p_o2_output/jobNum_0/remote_run_s2p.py   to   /media/rich/bigSSD/tmp_data/suite2p_o2_output/jobNum_0/remote_run_s2p.py\n",
      "downloading /n/files/Neurobio/MICROSCOPE/Rich/data/test/suite2p_o2_output/jobNum_0/suite2p/plane0/spks.npy   to   /media/rich/bigSSD/tmp_data/suite2p_o2_output/jobNum_0/suite2p/plane0/spks.npy\n",
      "downloading /n/files/Neurobio/MICROSCOPE/Rich/data/test/suite2p_o2_output/jobNum_0/suite2p/plane0/stat.npy   to   /media/rich/bigSSD/tmp_data/suite2p_o2_output/jobNum_0/suite2p/plane0/stat.npy\n",
      "downloading /n/files/Neurobio/MICROSCOPE/Rich/data/test/suite2p_o2_output/jobNum_0/suite2p/plane0/Fneu.npy   to   /media/rich/bigSSD/tmp_data/suite2p_o2_output/jobNum_0/suite2p/plane0/Fneu.npy\n",
      "downloading /n/files/Neurobio/MICROSCOPE/Rich/data/test/suite2p_o2_output/jobNum_0/suite2p/plane0/iscell.npy   to   /media/rich/bigSSD/tmp_data/suite2p_o2_output/jobNum_0/suite2p/plane0/iscell.npy\n",
      "downloading /n/files/Neurobio/MICROSCOPE/Rich/data/test/suite2p_o2_output/jobNum_0/suite2p/plane0/F.npy   to   /media/rich/bigSSD/tmp_data/suite2p_o2_output/jobNum_0/suite2p/plane0/F.npy\n",
      "downloading /n/files/Neurobio/MICROSCOPE/Rich/data/test/suite2p_o2_output/jobNum_0/suite2p/plane0/ops.npy   to   /media/rich/bigSSD/tmp_data/suite2p_o2_output/jobNum_0/suite2p/plane0/ops.npy\n",
      "downloading /n/files/Neurobio/MICROSCOPE/Rich/data/test/suite2p_o2_output/notes.txt   to   /media/rich/bigSSD/tmp_data/suite2p_o2_output/notes.txt\n",
      "downloading /n/files/Neurobio/MICROSCOPE/Rich/data/test/suite2p_o2_output/remote_run_s2p.py   to   /media/rich/bigSSD/tmp_data/suite2p_o2_output/remote_run_s2p.py\n"
     ]
    }
   ],
   "source": [
    "sftp.get_dir(dir_s2pOutput_MICROSCOPE, dir_s2pOutput_local)"
   ]
  },
  {
   "cell_type": "markdown",
   "id": "4254abee",
   "metadata": {},
   "source": [
    "## Clean up"
   ]
  },
  {
   "cell_type": "code",
   "execution_count": 43,
   "id": "0e42b263",
   "metadata": {},
   "outputs": [],
   "source": [
    "## delete password\n",
    "del pw\n",
    "gc.collect()\n",
    "\n",
    "## close sftp\n",
    "sftp.close()\n",
    "del sftp"
   ]
  },
  {
   "cell_type": "code",
   "execution_count": 42,
   "id": "5059b009",
   "metadata": {},
   "outputs": [],
   "source": [
    "ssh_t.close()\n",
    "ssh_c.close()"
   ]
  },
  {
   "cell_type": "code",
   "execution_count": null,
   "id": "a2ee21fd",
   "metadata": {},
   "outputs": [],
   "source": []
  },
  {
   "cell_type": "code",
   "execution_count": null,
   "id": "388fbb4e",
   "metadata": {},
   "outputs": [],
   "source": []
  }
 ],
 "metadata": {
  "kernelspec": {
   "display_name": "Python 3 (ipykernel)",
   "language": "python",
   "name": "python3"
  },
  "language_info": {
   "codemirror_mode": {
    "name": "ipython",
    "version": 3
   },
   "file_extension": ".py",
   "mimetype": "text/x-python",
   "name": "python",
   "nbconvert_exporter": "python",
   "pygments_lexer": "ipython3",
   "version": "3.9.13"
  }
 },
 "nbformat": 4,
 "nbformat_minor": 5
}
