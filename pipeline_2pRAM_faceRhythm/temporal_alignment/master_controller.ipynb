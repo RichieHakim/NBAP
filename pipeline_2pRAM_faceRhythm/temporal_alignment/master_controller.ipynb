{
 "cells": [
  {
   "cell_type": "code",
   "execution_count": 1,
   "id": "eb297901",
   "metadata": {},
   "outputs": [
    {
     "data": {
      "text/html": [
       "<style>.container {width:95% !important; }</style>"
      ],
      "text/plain": [
       "<IPython.core.display.HTML object>"
      ]
     },
     "metadata": {},
     "output_type": "display_data"
    }
   ],
   "source": [
    "# ALWAYS RUN THIS CELL\n",
    "# widen jupyter notebook window\n",
    "from IPython.display import display, HTML\n",
    "display(HTML(\"<style>.container {width:95% !important; }</style>\"))"
   ]
  },
  {
   "cell_type": "code",
   "execution_count": 2,
   "id": "47fe1e80",
   "metadata": {},
   "outputs": [],
   "source": [
    "import os\n",
    "from pathlib import Path\n",
    "\n",
    "import paramiko\n",
    "from scp import SCPClient\n",
    "\n",
    "import getpass\n",
    "import gc\n",
    "import time"
   ]
  },
  {
   "cell_type": "code",
   "execution_count": 3,
   "id": "bcbe9934",
   "metadata": {},
   "outputs": [],
   "source": [
    "dir_github = '/media/rich/Home_Linux_partition/github_repos/'\n",
    "import sys\n",
    "sys.path.append(dir_github)\n",
    "\n",
    "%load_ext autoreload\n",
    "%autoreload 2\n",
    "from basic_neural_processing_modules import server"
   ]
  },
  {
   "cell_type": "code",
   "execution_count": 4,
   "id": "974445f8",
   "metadata": {},
   "outputs": [],
   "source": [
    "# paramiko.server.log_to_file(\"paramiko.log\")"
   ]
  },
  {
   "cell_type": "code",
   "execution_count": null,
   "id": "6612dd5d",
   "metadata": {},
   "outputs": [],
   "source": []
  },
  {
   "cell_type": "markdown",
   "id": "a59717a3",
   "metadata": {},
   "source": [
    "----\n",
    "# ==== Optional ====\n",
    "### transfer raw data from local machine to `MICROSCOPE`"
   ]
  },
  {
   "cell_type": "code",
   "execution_count": 19,
   "id": "9796b799",
   "metadata": {},
   "outputs": [
    {
     "name": "stdout",
     "output_type": "stream",
     "text": [
      "contents of    /media/rich/bigSSD/tmp_data/    will be copied to    /n/files/Neurobio/MICROSCOPE/Rich/data/test\n"
     ]
    }
   ],
   "source": [
    "## Define directories for where the local data is and the remote directory where the contents of that folder should be copied to (MICROSCOPE)\n",
    "dir_data_local = '/media/rich/bigSSD/tmp_data/'\n",
    "dir_data_MICROSCOPE = '/n/files/Neurobio/MICROSCOPE/Rich/data/test'  ## contents of dir_data_local will be dumped into dir_data_MICROSCOPE\n",
    "\n",
    "print(f'contents of    {dir_data_local}    will be copied to    {dir_data_MICROSCOPE}')"
   ]
  },
  {
   "cell_type": "code",
   "execution_count": 20,
   "id": "5c361769",
   "metadata": {},
   "outputs": [
    {
     "name": "stdout",
     "output_type": "stream",
     "text": [
      "Username: rh183\n",
      "Password: ········\n"
     ]
    }
   ],
   "source": [
    "remote_host_transfer = \"transfer.rc.hms.harvard.edu\"\n",
    "remote_host_compute = \"o2.hms.harvard.edu\"\n",
    "username = input('Username: ')\n",
    "pw = server.pw_encode(getpass.getpass(prompt='Password: '))"
   ]
  },
  {
   "cell_type": "markdown",
   "id": "60e56e5a",
   "metadata": {},
   "source": [
    "## Prepare `sftp` and `ssh` objects"
   ]
  },
  {
   "cell_type": "code",
   "execution_count": null,
   "id": "7600dff8",
   "metadata": {},
   "outputs": [],
   "source": [
    "sftp = server.sftp_interface(hostname=\"transfer.rc.hms.harvard.edu\", port=22)\n",
    "sftp.connect(username=username, password=server.pw_decode(pw))"
   ]
  },
  {
   "cell_type": "code",
   "execution_count": 30,
   "id": "ff1c87a6",
   "metadata": {},
   "outputs": [
    {
     "name": "stdout",
     "output_type": "stream",
     "text": [
      "uploading /media/rich/bigSSD/tmp_data/day0_00001_00001.tif   to   /n/files/Neurobio/MICROSCOPE/Rich/data/test/day0_00001_00001.tif\n",
      "uploading /media/rich/bigSSD/tmp_data/day0_00001_00002.tif   to   /n/files/Neurobio/MICROSCOPE/Rich/data/test/day0_00001_00002.tif\n"
     ]
    }
   ],
   "source": [
    "# sftp.mkdir_safe(dir_data_remote)\n",
    "sftp.put_dir(dir_data_local, dir_data_MICROSCOPE)"
   ]
  },
  {
   "cell_type": "code",
   "execution_count": null,
   "id": "1358265a",
   "metadata": {},
   "outputs": [],
   "source": []
  },
  {
   "cell_type": "markdown",
   "id": "6114afcd",
   "metadata": {},
   "source": [
    "------------\n",
    "# ==== Start ===="
   ]
  },
  {
   "cell_type": "markdown",
   "id": "ae33b435",
   "metadata": {},
   "source": [
    "## Prepare username + password"
   ]
  },
  {
   "cell_type": "code",
   "execution_count": 5,
   "id": "ae639cd0",
   "metadata": {},
   "outputs": [
    {
     "name": "stdout",
     "output_type": "stream",
     "text": [
      "O2 Username: rh183\n"
     ]
    }
   ],
   "source": [
    "remote_host_compute = \"o2.hms.harvard.edu\"\n",
    "remote_host_transfer = \"transfer.rc.hms.harvard.edu\"\n",
    "username = input('O2 Username: ')\n",
    "\n",
    "use_localSshKey = True\n",
    "\n",
    "pw = server.pw_encode(getpass.getpass(prompt='Password: ')) if use_localSshKey==False else None\n",
    "\n",
    "path_sshKey = '/home/rich/.ssh/id_rsa' if use_localSshKey else None"
   ]
  },
  {
   "cell_type": "markdown",
   "id": "5cbb7d5b",
   "metadata": {},
   "source": [
    "## Prepare `sftp` and `ssh` objects"
   ]
  },
  {
   "cell_type": "code",
   "execution_count": 6,
   "id": "7107a3e0",
   "metadata": {
    "scrolled": false
   },
   "outputs": [],
   "source": [
    "## initialize ssh_compute\n",
    "ssh_t = server.ssh_interface(\n",
    "    nbytes_toReceive=20000,\n",
    "    recv_timeout=1,\n",
    "    verbose=True,\n",
    ")\n",
    "ssh_t.o2_connect(\n",
    "    hostname=remote_host_transfer,\n",
    "    username=username,\n",
    "    password=server.pw_decode(pw),\n",
    "    key_filename=path_sshKey,\n",
    "    look_for_keys=False,\n",
    "    passcode_method=1,\n",
    "    verbose=0,\n",
    "    skip_passcode=False,    \n",
    ")"
   ]
  },
  {
   "cell_type": "code",
   "execution_count": 7,
   "id": "c79a51ff",
   "metadata": {},
   "outputs": [],
   "source": [
    "sftp = server.sftp_interface(ssh_client=ssh_t.client)"
   ]
  },
  {
   "cell_type": "code",
   "execution_count": 8,
   "id": "0afa03fa",
   "metadata": {
    "scrolled": true
   },
   "outputs": [],
   "source": [
    "## initialize ssh_compute\n",
    "ssh_c = server.ssh_interface(\n",
    "    nbytes_toReceive=20000,\n",
    "    recv_timeout=1,\n",
    "    verbose=True,\n",
    ")\n",
    "ssh_c.o2_connect(\n",
    "    hostname=remote_host_compute,\n",
    "    username=username,\n",
    "    password=server.pw_decode(pw),\n",
    "    key_filename=path_sshKey,\n",
    "    look_for_keys=False,\n",
    "    passcode_method=1,\n",
    "    verbose=0,\n",
    "    skip_passcode=False,    \n",
    ")"
   ]
  },
  {
   "cell_type": "markdown",
   "id": "0cd3c682",
   "metadata": {},
   "source": [
    "## Pull/update repo"
   ]
  },
  {
   "cell_type": "code",
   "execution_count": 10,
   "id": "2edc3771",
   "metadata": {},
   "outputs": [
    {
     "name": "stdout",
     "output_type": "stream",
     "text": [
      "remote: Enumerating objects: 21, done.\u001b[K\r\n",
      "remote: Counting objects:   4% (1/21)\u001b[K\r",
      "remote: Counting objects:   9% (2/21)\u001b[K\r",
      "remote: Counting objects:  14% (3/21)\u001b[K\r",
      "remote: Counting objects:  19% (4/21)\u001b[K\r",
      "remote: Counting objects:  23% (5/21)\u001b[K\r",
      "remote: Counting objects:  28% (6/21)\u001b[K\r",
      "remote: Counting objects:  33% (7/21)\u001b[K\r",
      "remote: Counting objects:  38% (8/21)\u001b[K\r",
      "remote: Counting objects:  42% (9/21)\u001b[K\r",
      "remote: Counting objects:  47% (10/21)\u001b[K\r",
      "remote: Counting objects:  52% (11/21)\u001b[K\r",
      "remote: Counting objects:  57% (12/21)\u001b[K\r",
      "remote: Counting objects:  61% (13/21)\u001b[K\r",
      "remote: Counting objects:  66% (14/21)\u001b[K\r",
      "remote: Counting objects:  71% (15/21)\u001b[K\r",
      "remote: Counting objects:  76% (16/21)\u001b[K\r",
      "remote: Counting objects:  80% (17/21)\u001b[K\r",
      "remote: Counting objects:  85% (18/21)\u001b[K\r",
      "remote: Counting objects:  90% (19/21)\u001b[K\r",
      "remote: Counting objects:  95% (20/21)\u001b[K\r",
      "remote: Counting objects: 100% (21/21)\u001b[K\r",
      "remote: Counting objects: 100% (21/21), done.\u001b[K\r\n",
      "remote: Compressing objects: 100% (1/1)\u001b[K\r",
      "remote: Compressing objects: 100% (1/1), done.\u001b[K\r\n",
      "remote: Total 11 (delta 10), reused 11 (delta 10), pack-reused 0\u001b[K\r\n",
      "Unpacking objects:   9% (1/11)   \r",
      "Unpacking objects:  18% (2/11)   \r",
      "Unpacking objects:  27% (3/11)   \r",
      "Unpacking objects:  36% (4/11)   \r",
      "Unpacking objects:  45% (5/11)   \r",
      "Unpacking objects:  54% (6/11)   \r",
      "Unpacking objects:  63% (7/11)   \r",
      "Unpacking objects:  72% (8/11)   \r",
      "Unpacking objects:  81% (9/11)   \r",
      "Unpacking objects:  90% (10/11)   \r",
      "Unpacking objects: 100% (11/11)   \r",
      "Unpacking objects: 100% (11/11), done.\r\n",
      "From https://github.com/RichieHakim/NBAP\r\n",
      "   be9b69a..38f9080  main       -> origin/main\r\n",
      "Updating be9b69a..38f9080\r\n",
      "Fast-forward\r\n",
      " .../clean_traces/clean_traces.py                   |   3 +-\r\n",
      " .../temporal_alignment-checkpoint.ipynb            | 158 +-----\r\n",
      " .../temporal_alignment/dispatcher.py               |  14 -\r\n",
      " .../temporal_alignment/master_controller.ipynb     | 603 ++++++++++++++++-----\r\n",
      " .../temporal_alignment/temporal_alignment.ipynb    | 233 --------\r\n",
      " .../temporal_alignment/temporal_alignment.py       |   2 +-\r\n",
      " 6 files changed, 461 insertions(+), 552 deletions(-)\r\n",
      "(base) [rh183@login05 NBAP]$ \n"
     ]
    }
   ],
   "source": [
    "ssh_c.send('cd /n/data1/hms/neurobio/sabatini/rich/github_repos/NBAP')\n",
    "ssh_c.send('git pull')\n",
    "\n",
    "ssh_c.expect(str_success=f'[{username}');"
   ]
  },
  {
   "cell_type": "markdown",
   "id": "115fc63d",
   "metadata": {},
   "source": [
    "## Activate environment"
   ]
  },
  {
   "cell_type": "code",
   "execution_count": 11,
   "id": "9ba6d8c3",
   "metadata": {},
   "outputs": [
    {
     "name": "stdout",
     "output_type": "stream",
     "text": [
      "virtual_envs/fr_venvta1/hms/neurobio/sabatini/rich/ \n",
      "\n",
      " /n/data1/hms/neurobio/sabatini/rich/virtual_envs/fr_venv) [rh183@login05 NBAP]$ \n"
     ]
    }
   ],
   "source": [
    "name_env = '/n/data1/hms/neurobio/sabatini/rich/virtual_envs/fr_venv'\n",
    "\n",
    "ssh_c.send_receive('')\n",
    "ssh_c.send(f'conda activate {name_env}')\n",
    "ssh_c.expect(str_success=f'[{username}', total_timeout=2);\n",
    "ssh_c.send_receive('');"
   ]
  },
  {
   "cell_type": "markdown",
   "id": "558a1158",
   "metadata": {},
   "source": [
    "## Prepare directories"
   ]
  },
  {
   "cell_type": "code",
   "execution_count": 12,
   "id": "db7a78f2",
   "metadata": {},
   "outputs": [],
   "source": [
    "import numpy as np\n",
    "\n",
    "mouse_name = 'AEG22'\n",
    "date = '2022_05_16'\n",
    "\n",
    "name_slurm = mouse_name + '_' + date[-2:]\n",
    "\n",
    "dir_s2p = (Path('/n/data1/hms/neurobio/sabatini/rich/analysis/suite2p_output/') / mouse_name / date / 'jobNum_0' / 'suite2p' / 'plane0').as_posix()\n",
    "dir_ws = (Path('/n/data1/hms/neurobio/sabatini/rich/data/2pRAM/') / mouse_name / date / 'wavesurfer').as_posix()\n",
    "dir_camera = (Path('/n/data1/hms/neurobio/sabatini/rich/data/2pRAM') / mouse_name / date / 'camera').as_posix()\n",
    "dir_nwb = (Path('/n/data1/hms/neurobio/sabatini/rich/analysis/faceRhythm') / mouse_name / date / 'jobNum_0' / 'batchRun' / 'data').as_posix()"
   ]
  },
  {
   "cell_type": "code",
   "execution_count": 13,
   "id": "61227f18",
   "metadata": {},
   "outputs": [
    {
     "name": "stdout",
     "output_type": "stream",
     "text": [
      "/n/data1/hms/neurobio/sabatini/rich/data/2pRAM/AEG22/2022_05_16/wavesurfer/AEG22_2022-05-16_0001.h5\n"
     ]
    }
   ],
   "source": [
    "path_ws = sftp.search_recursive(\n",
    "    path=dir_ws,\n",
    "    search_pattern_re='h5'\n",
    ")[-1]"
   ]
  },
  {
   "cell_type": "code",
   "execution_count": 14,
   "id": "4ea37f3e",
   "metadata": {},
   "outputs": [
    {
     "data": {
      "text/plain": [
       "'/n/data1/hms/neurobio/sabatini/rich/data/2pRAM/AEG22/2022_05_16/camera/20220516AEG22_csv32022-05-16T18_01_41.csv'"
      ]
     },
     "execution_count": 14,
     "metadata": {},
     "output_type": "execute_result"
    }
   ],
   "source": [
    "path_cameraCSV = np.sort(np.array(sftp.search_recursive(\n",
    "    path=dir_camera,\n",
    "    search_pattern_re='csv',\n",
    "    verbose=False\n",
    ")))[-1]\n",
    "path_cameraCSV"
   ]
  },
  {
   "cell_type": "code",
   "execution_count": 15,
   "id": "72ca5e1e",
   "metadata": {},
   "outputs": [
    {
     "name": "stdout",
     "output_type": "stream",
     "text": [
      "/n/data1/hms/neurobio/sabatini/rich/analysis/faceRhythm/AEG22/2022_05_16/jobNum_0/batchRun/data/session_batch.nwb\n"
     ]
    }
   ],
   "source": [
    "path_nwb = sftp.search_recursive(\n",
    "    path=dir_nwb,\n",
    "    search_pattern_re='nwb'\n",
    ")[-1]"
   ]
  },
  {
   "cell_type": "code",
   "execution_count": 16,
   "id": "97ffab65",
   "metadata": {
    "scrolled": false
   },
   "outputs": [],
   "source": [
    "dir_saveOutputs = (Path('/n/data1/hms/neurobio/sabatini/rich/analysis/temporal_alignment') / mouse_name / date).as_posix()\n",
    "\n",
    "name_job = 'jobNum_'\n",
    "\n",
    "\n",
    "# path_dispatcher_local = Path(r'C:\\Users\\scanimage\\github_repos\\s2p_on_o2').resolve() / 'dispatcher.py'  ## path to the dispatcher.py file on local computer\n",
    "path_dispatcher_local = Path(r'/media/rich/Home_Linux_partition/github_repos/NBAP/pipeline_2pRAM_faceRhythm/temporal_alignment/').resolve() / 'dispatcher.py'  ## path to the dispatcher.py file on local computer\n",
    "path_dispatcher_remote = (Path(dir_saveOutputs) / 'dispatcher.py').as_posix()  ## path to where you want the dispatcher.py file to be copied onto the server\n",
    "path_script_remote = Path(r'/n/data1/hms/neurobio/sabatini/rich/github_repos/NBAP/pipeline_2pRAM_faceRhythm/temporal_alignment/temporal_alignment_justTemplates.py').as_posix()  ## path to a copy of the remote_run_s2p.py file within the s2p_on_o2 repo on the server\n"
   ]
  },
  {
   "cell_type": "markdown",
   "id": "31ce097b",
   "metadata": {},
   "source": [
    "## Prepare commands"
   ]
  },
  {
   "cell_type": "code",
   "execution_count": 17,
   "id": "784052a0",
   "metadata": {},
   "outputs": [
    {
     "data": {
      "text/plain": [
       "{'make_dir': 'mkdir -p /n/data1/hms/neurobio/sabatini/rich/analysis/temporal_alignment/AEG22/2022_05_16',\n",
       " 'dispatch_s2p': 'python /n/data1/hms/neurobio/sabatini/rich/analysis/temporal_alignment/AEG22/2022_05_16/dispatcher.py /n/data1/hms/neurobio/sabatini/rich/github_repos/NBAP/pipeline_2pRAM_faceRhythm/temporal_alignment/temporal_alignment_justTemplates.py /n/data1/hms/neurobio/sabatini/rich/analysis/temporal_alignment/AEG22/2022_05_16 /n/data1/hms/neurobio/sabatini/rich/analysis/suite2p_output/AEG22/2022_05_16/jobNum_0/suite2p/plane0 /n/data1/hms/neurobio/sabatini/rich/data/2pRAM/AEG22/2022_05_16/wavesurfer/AEG22_2022-05-16_0001.h5 /n/data1/hms/neurobio/sabatini/rich/data/2pRAM/AEG22/2022_05_16/camera/20220516AEG22_csv32022-05-16T18_01_41.csv /n/data1/hms/neurobio/sabatini/rich/analysis/faceRhythm/AEG22/2022_05_16/jobNum_0/batchRun/data/session_batch.nwb jobNum_ AEG22_16 /n/data1/hms/neurobio/sabatini/rich/virtual_envs/fr_venv'}"
      ]
     },
     "metadata": {},
     "output_type": "display_data"
    }
   ],
   "source": [
    "## Expectation for dispatch args: \n",
    "# path_selfScript = args[0] = path_dispatcher_remote\n",
    "# dir_save = args[1] = dir_S2pOutput_remote\n",
    "# path_script = args[2] = path_s2pScript_remote\n",
    "# name_job = args[3] = name_job\n",
    "# dir_fastDisk = args[4] = dir_fastDisk_remote\n",
    "# name_slurm = args[5] = name_slurm\n",
    "# dir_data = args[6] = dir_data_remote\n",
    "\n",
    "\n",
    "prompt_snip = f'[{username}'\n",
    "\n",
    "commands = {\n",
    "    'make_dir': f\"mkdir -p {dir_saveOutputs}\",\n",
    "    'dispatch_s2p': f\"python {str(path_dispatcher_remote)} {path_script_remote} {dir_saveOutputs} {dir_s2p} {path_ws} {path_cameraCSV} {path_nwb} {name_job} {name_slurm} {name_env}\"  ## dispatcher expecting these args as inputs\n",
    "}\n",
    "display(commands)"
   ]
  },
  {
   "cell_type": "markdown",
   "id": "f62cb3b7",
   "metadata": {},
   "source": [
    "## Upload `dispatcher.py` file"
   ]
  },
  {
   "cell_type": "code",
   "execution_count": 18,
   "id": "e3e04b05",
   "metadata": {},
   "outputs": [],
   "source": [
    "sftp.mkdir_p(Path(path_dispatcher_remote).parent.as_posix())\n",
    "sftp.sftp.put(str(path_dispatcher_local), str(path_dispatcher_remote));"
   ]
  },
  {
   "cell_type": "markdown",
   "id": "809516d0",
   "metadata": {},
   "source": [
    "## Copy data from `MICROSCOPE` to `data1`"
   ]
  },
  {
   "cell_type": "raw",
   "id": "29b7055a",
   "metadata": {},
   "source": [
    "ssh_t.send_receive(commands['make_dir']);\n",
    "\n",
    "ssh_t.send(commands['copy_motionData']);\n",
    "ssh_t.send(commands['copy_s2p'])"
   ]
  },
  {
   "cell_type": "raw",
   "id": "83cd0a75",
   "metadata": {},
   "source": [
    "ssh_t.expect(str_success=f'[{username}', recv_timeout=0.3, total_timeout=60*15, sleep_time=0.1, verbose=True);"
   ]
  },
  {
   "cell_type": "markdown",
   "id": "c89ee6cc",
   "metadata": {},
   "source": [
    "## Dispatch `remote_run_s2p.py`"
   ]
  },
  {
   "cell_type": "code",
   "execution_count": 19,
   "id": "41c870b8",
   "metadata": {},
   "outputs": [
    {
     "name": "stdout",
     "output_type": "stream",
     "text": [
      "/data1/hmAM_faceRhythm/temporal_alignment/temporal_alignment_justTemplates.py /n \n",
      "virtual_envs/fr_venvch.nwb jobNum_ AEG22_16 /n/data1/hms/neurobio/sabatini/rich/ \n",
      "\n",
      "dispatcher environment: /n/data1/hms/neurobio/sabatini/rich/virtual_envs/fr_venv\n",
      "\n",
      "/n/data1/hms/neurobio/sabatini/rich/analysis/temporal_alignment/AEG22/2022_05_16/dispatcher.py /n/data1/hms/neurobio/sabatini/rich/github_repos/NBAP/pipeline_2pRAM_faceRhythm/temporal_alignment/temporal_alignment_justTemplates.py /n/data1/hms/neurobio/sabatini/rich/analysis/temporal_alignment/AEG22/2022_05_16 /n/data1/hms/neurobio/sabatini/rich/analysis/suite2p_output/AEG22/2022_05_16/jobNum_0/suite2p/plane0 /n/data1/hms/neurobio/sabatini/rich/data/2pRAM/AEG22/2022_05_16/wavesurfer/AEG22_2022-05-16_0001.h5 /n/data1/hms/neurobio/sabatini/rich/data/2pRAM/AEG22/2022_05_16/camera/20220516AEG22_csv32022-05-16T18_01_41.csv /n/data1/hms/neurobio/sabatini/rich/analysis/faceRhythm/AEG22/2022_05_16/jobNum_0/batchRun/data/session_batch.nwb jobNum_ AEG22_16 /n/data1/hms/neurobio/sabatini/rich/virtual_envs/fr_venv\n",
      "\n",
      "Copying /n/data1/hms/neurobio/sabatini/rich/github_repos/NBAP/pipeline_2pRAM_faceRhythm/temporal_alignment/temporal_alignment_justTemplates.py to /n/data1/hms/neurobio/sabatini/rich/analysis/temporal_alignment/AEG22/2022_05_16/temporal_alignment_justTemplates.py\n",
      "Traceback (most recent call last):\n",
      "  File \"/n/data1/hms/neurobio/sabatini/rich/analysis/temporal_alignment/AEG22/2022_05_16/dispatcher.py\", line 88, in <module>\n",
      "    shutil.copy2(path_script, str(Path(dir_save) / Path(path_script).name));\n",
      "  File \"/n/data1/hms/neurobio/sabatini/rich/virtual_envs/fr_venv/lib/python3.8/shutil.py\", line 435, in copy2\n",
      "    copyfile(src, dst, follow_symlinks=follow_symlinks)\n",
      "  File \"/n/data1/hms/neurobio/sabatini/rich/virtual_envs/fr_venv/lib/python3.8/shutil.py\", line 264, in copyfile\n",
      "    with open(src, 'rb') as fsrc, open(dst, 'wb') as fdst:\n",
      "FileNotFoundError: [Errno 2] No such file or directory: '/n/data1/hms/neurobio/sabatini/rich/github_repos/NBAP/pipeline_2pRAM_faceRhythm/temporal_alignment/temporal_alignment_justTemplates.py'\n",
      " /n/data1/hms/neurobio/sabatini/rich/virtual_envs/fr_venv) [rh183@login05 NBAP]$ \n"
     ]
    }
   ],
   "source": [
    "ssh_c.send(commands['dispatch_s2p']);\n",
    "\n",
    "ssh_c.expect(str_success=prompt_snip);"
   ]
  },
  {
   "cell_type": "markdown",
   "id": "e6ea7494",
   "metadata": {},
   "source": [
    "### check on job"
   ]
  },
  {
   "cell_type": "code",
   "execution_count": 81,
   "id": "25e01375",
   "metadata": {
    "scrolled": true
   },
   "outputs": [
    {
     "name": "stdout",
     "output_type": "stream",
     "text": [
      "r_venvch.nwb jobNum_ AEG22_16 /n/data1/hms/neurobio/sabatini/rich/virtual_envs/f \n",
      "\n",
      "squeue -u rh183 --Format=jobid,name,partition,state,timeused,starttime,timelimit,reasonlist,minmemory,mincpus,gres\n",
      "dispatcher environment: /n/data1/hms/neurobio/sabatini/rich/virtual_envs/fr_venv\n",
      "\n",
      "/n/data1/hms/neurobio/sabatini/rich/analysis/temporal_alignment/AEG22/2022_05_16/dispatcher.py /n/data1/hms/neurobio/sabatini/rich/github_repos/NBAP/pipeline_2pRAM_faceRhythm/temporal_alignment/temporal_alignment.py /n/data1/hms/neurobio/sabatini/rich/analysis/temporal_alignment/AEG22/2022_05_16 /n/data1/hms/neurobio/sabatini/rich/analysis/suite2p_output/AEG22/2022_05_16/jobNum_0/suite2p/plane0 /n/data1/hms/neurobio/sabatini/rich/data/2pRAM/AEG22/2022_05_16/wavesurfer/AEG22_2022-05-16_0001.h5 /n/data1/hms/neurobio/sabatini/rich/data/2pRAM/AEG22/2022_05_16/camera/20220516AEG22_csv32022-05-16T18_01_41.csv /n/data1/hms/neurobio/sabatini/rich/analysis/faceRhythm/AEG22/2022_05_16/jobNum_0/batchRun/data/session_batch.nwb jobNum_ AEG22_16 /n/data1/hms/neurobio/sabatini/rich/virtual_envs/fr_venv\n",
      "\n",
      "Copying /n/data1/hms/neurobio/sabatini/rich/github_repos/NBAP/pipeline_2pRAM_faceRhythm/temporal_alignment/temporal_alignment.py to /n/data1/hms/neurobio/sabatini/rich/analysis/temporal_alignment/AEG22/2022_05_16/temporal_alignment.py\n",
      "Submitting job: jobNum_ 0\n",
      "\n",
      "sbatch: Setting QOS to gpuquad_qos\n",
      "Submitted batch job 54644589\n",
      "\n",
      "t,reasonlist,minmemory,mincpus,grese,partition,state,timeused,starttime,timelimi \n",
      "\n"
     ]
    }
   ],
   "source": [
    "ssh_c.send(cmd=f'squeue -u {username} --Format=jobid,name,partition,state,timeused,starttime,timelimit,reasonlist,minmemory,mincpus,gres');\n",
    "ssh_c.expect(str_success=f\"[{username}\", total_timeout=3);"
   ]
  },
  {
   "cell_type": "code",
   "execution_count": null,
   "id": "f14fa28b",
   "metadata": {},
   "outputs": [],
   "source": []
  },
  {
   "cell_type": "code",
   "execution_count": 340,
   "id": "90f66b59",
   "metadata": {},
   "outputs": [],
   "source": [
    "## I think this code block caused an out of memory error on a few of my jobs... not sure why\n",
    "\n",
    "# ssh_c.send(cmd=f\"cat {(Path(dir_S2pOutput_remote) / (name_job+'0') / 'print*').as_posix()}\")\n",
    "# ssh_c.expect(str_success=f\"[{username}\", total_timeout=1);"
   ]
  },
  {
   "cell_type": "code",
   "execution_count": 27,
   "id": "c99f5ab7",
   "metadata": {
    "scrolled": true
   },
   "outputs": [
    {
     "name": "stdout",
     "output_type": "stream",
     "text": [
      "RUN COMPLETE!!!     Tue May 17 14:52:20 2022\n"
     ]
    }
   ],
   "source": [
    "ssh_c.send(cmd=f\"cat {(Path(dir_S2pOutput_remote) / (name_job+'0') / 'print*').as_posix()}\")\n",
    "ssh_c.expect(str_success=f\"RUN COMPLETE\", recv_timeout=0.3, total_timeout=60*60*10, sleep_time=0.1, verbose=False);\n",
    "\n",
    "print(f'RUN COMPLETE!!!     {time.ctime()}')"
   ]
  },
  {
   "cell_type": "markdown",
   "id": "33600579",
   "metadata": {},
   "source": [
    "## Clean up"
   ]
  },
  {
   "cell_type": "code",
   "execution_count": null,
   "id": "b31f6bcb",
   "metadata": {},
   "outputs": [],
   "source": [
    "## delete password\n",
    "del pw\n",
    "gc.collect()\n",
    "\n",
    "## close sftp\n",
    "if sftp: sftp.close()\n",
    "if transport: transport.close()\n",
    "del sftp\n",
    "del transport\n",
    "    \n",
    "## close ssh\n",
    "ssh_t.close()\n",
    "del ssh_t\n",
    "ssh_c.close()\n",
    "del ssh_c\n",
    "gc.collect()"
   ]
  },
  {
   "cell_type": "code",
   "execution_count": null,
   "id": "211f8398",
   "metadata": {},
   "outputs": [],
   "source": []
  },
  {
   "cell_type": "code",
   "execution_count": null,
   "id": "b1e29db0",
   "metadata": {},
   "outputs": [],
   "source": []
  },
  {
   "cell_type": "markdown",
   "id": "bc0f7b70",
   "metadata": {},
   "source": [
    "----\n",
    "# ==== Optional ====\n",
    "### transfer s2p outputs back from `data1` to `MICROSCOPE`"
   ]
  },
  {
   "cell_type": "code",
   "execution_count": 44,
   "id": "40c283a9",
   "metadata": {},
   "outputs": [],
   "source": [
    "def transfer(dir_from, dir_to, sftp, ssh_t, str_expect='[rh183', verbose=1, timeout_cp=10):\n",
    "    \"\"\"\n",
    "    Makes a directory\n",
    "    Transfers\n",
    "    Checks to make sure the transfer worked\n",
    "    \"\"\"\n",
    "    ssh_t.receive(timeout=0.1, verbose=False, throw_error=False) ## clean any lingering receives\n",
    "    \n",
    "    sftp.mkdir_p(dir_to)\n",
    "\n",
    "    if verbose>1:\n",
    "        print(f'copy starting,         time: {time.ctime()}, dir:{dir_from}')\n",
    "    ssh_t.send(f\"rsync -av {dir_from}/ {dir_to}/\")\n",
    "    test = ssh_t.expect(str_expect, verbose=1, total_timeout=timeout_cp)  ## wait for copy to end\n",
    "    if test[0] is None:\n",
    "        print('copy expect timed out')\n",
    "    elif 'No such file or directory' in test[0]:\n",
    "        print(f'copy failed: {test[0]}')\n",
    "    elif test[1]==False:\n",
    "        if verbose>0:\n",
    "            print(f'Post copy expect timed out. time: {time.ctime()}, dir: {dir_from}')\n",
    "    else:\n",
    "        if verbose>1:\n",
    "            print(f'copy expect completed. time: {time.ctime()}, dir: {dir_from}')\n",
    "\n",
    "    ssh_t.receive(timeout=0.1, verbose=False, throw_error=False) ## clean any lingering receives"
   ]
  },
  {
   "cell_type": "code",
   "execution_count": 45,
   "id": "14122d2e",
   "metadata": {},
   "outputs": [],
   "source": [
    "## make directory structure on MICROSCOPE\n",
    "animals = ['AEG21', 'AEG22']\n",
    "dates = ['2022_05_13', '2022_05_14', '2022_05_16', '2022_05_17', '2022_05_18']"
   ]
  },
  {
   "cell_type": "code",
   "execution_count": 47,
   "id": "3f84599b",
   "metadata": {},
   "outputs": [
    {
     "name": "stdout",
     "output_type": "stream",
     "text": [
      "copy starting,         time: Tue Jun  7 04:46:53 2022, dir:/n/data1/hms/neurobio/sabatini/rich/analysis/temporal_alignment/AEG21/2022_05_13/jobNum_0\n",
      "ent/analysis_data/face_rhythm_paper/fig_4_2pRAM/AEG21/2022_05_13/temporal_alignm \n",
      "\n",
      "sending incremental file list\n",
      "rsync: chgrp \"/n/files/Neurobio/MICROSCOPE/Rich/analysis_data/face_rhythm_paper/fig_4_2pRAM/AEG21/2022_05_13/temporal_alignment/.\" failed: Operation not permitted (1)\n",
      "./\n",
      "SxxNorm_idxS2p.npy\n",
      "\n",
      "params.json\n",
      "positionsCDR_idxS2p.npy\n",
      "\n",
      "print_log_54442334.log\n",
      "\n",
      "sbatch_config.sh\n",
      "temporal_alignment.py\n",
      "ws_signals_aligned_to_SI.h5\n",
      "\n",
      "rsync: chgrp \"/n/files/Neurobio/MICROSCOPE/Rich/analysis_data/face_rhythm_paper/fig_4_2pRAM/AEG21/2022_05_13/temporal_alignment/.SxxNorm_idxS2p.npy.VF5XUp\" failed: Operation not permitted (1)\n",
      "\n",
      "rsync: chgrp \"/n/files/Neurobio/MICROSCOPE/Rich/analysis_data/face_rhythm_paper/fig_4_2pRAM/AEG21/2022_05_13/temporal_alignment/.params.json.ecvQtU\" failed: Operation not permitted (1)\n",
      "rsync: chgrp \"/n/files/Neurobio/MICROSCOPE/Rich/analysis_data/face_rhythm_paper/fig_4_2pRAM/AEG21/2022_05_13/temporal_alignment/.positionsCDR_idxS2p.npy.AhMZ4o\" failed: Operation not permitted (1)\n",
      "rsync: chgrp \"/n/files/Neurobio/MICROSCOPE/Rich/analysis_data/face_rhythm_paper/fig_4_2pRAM/AEG21/2022_05_13/temporal_alignment/.print_log_54442334.log.phO1qW\" failed: Operation not permitted (1)\n",
      "rsync: chgrp \"/n/files/Neurobio/MICROSCOPE/Rich/analysis_data/face_rhythm_paper/fig_4_2pRAM/AEG21/2022_05_13/temporal_alignment/.sbatch_config.sh.rPAtOt\" failed: Operation not permitted (1)\n",
      "rsync: chgrp \"/n/files/Neurobio/MICROSCOPE/Rich/analysis_data/face_rhythm_paper/fig_4_2pRAM/AEG21/2022_05_13/temporal_alignment/.temporal_alignment.py.UQmgd1\" failed: Operation not permitted (1)\n",
      "rsync: chgrp \"/n/files/Neurobio/MICROSCOPE/Rich/analysis_data/face_rhythm_paper/fig_4_2pRAM/AEG21/2022_05_13/temporal_alignment/.ws_signals_aligned_to_SI.h5.NvYnDy\" failed: Operation not permitted (1)\n",
      "\n",
      "sent 7,596,683,076 bytes  received 1,707 bytes  159,930,205.96 bytes/sec\n",
      "total size is 7,594,828,278  speedup is 1.00\n",
      "rsync error: some files/attrs were not transferred (see previous errors) (code 23) at main.c(1179) [sender=3.1.2]\n",
      "(base) [rh183@transfer03 ~]$ \n",
      "copy expect completed. time: Tue Jun  7 04:47:40 2022, dir: /n/data1/hms/neurobio/sabatini/rich/analysis/temporal_alignment/AEG21/2022_05_13/jobNum_0\n",
      "copy starting,         time: Tue Jun  7 04:47:41 2022, dir:/n/data1/hms/neurobio/sabatini/rich/analysis/temporal_alignment/AEG21/2022_05_14/jobNum_0\n",
      "ent/analysis_data/face_rhythm_paper/fig_4_2pRAM/AEG21/2022_05_14/temporal_alignm \n",
      "\n",
      "sending incremental file list\n",
      "rsync: chgrp \"/n/files/Neurobio/MICROSCOPE/Rich/analysis_data/face_rhythm_paper/fig_4_2pRAM/AEG21/2022_05_14/temporal_alignment/.\" failed: Operation not permitted (1)\n",
      "./\n",
      "SxxNorm_idxS2p.npy\n",
      "\n",
      "params.json\n",
      "\n",
      "positionsCDR_idxS2p.npy\n",
      "\n",
      "print_log_54442369.log\n",
      "\n",
      "sbatch_config.sh\n",
      "temporal_alignment.py\n",
      "ws_signals_aligned_to_SI.h5\n",
      "\n",
      "rsync: chgrp \"/n/files/Neurobio/MICROSCOPE/Rich/analysis_data/face_rhythm_paper/fig_4_2pRAM/AEG21/2022_05_14/temporal_alignment/.SxxNorm_idxS2p.npy.B100F1\" failed: Operation not permitted (1)\n",
      "\n",
      "rsync: chgrp \"/n/files/Neurobio/MICROSCOPE/Rich/analysis_data/face_rhythm_paper/fig_4_2pRAM/AEG21/2022_05_14/temporal_alignment/.params.json.y4zD19\" failed: Operation not permitted (1)\n",
      "rsync: chgrp \"/n/files/Neurobio/MICROSCOPE/Rich/analysis_data/face_rhythm_paper/fig_4_2pRAM/AEG21/2022_05_14/temporal_alignment/.positionsCDR_idxS2p.npy.unXUqi\" failed: Operation not permitted (1)\n",
      "rsync: chgrp \"/n/files/Neurobio/MICROSCOPE/Rich/analysis_data/face_rhythm_paper/fig_4_2pRAM/AEG21/2022_05_14/temporal_alignment/.print_log_54442369.log.i1q9ut\" failed: Operation not permitted (1)\n",
      "rsync: chgrp \"/n/files/Neurobio/MICROSCOPE/Rich/analysis_data/face_rhythm_paper/fig_4_2pRAM/AEG21/2022_05_14/temporal_alignment/.sbatch_config.sh.jW4cBE\" failed: Operation not permitted (1)\n",
      "rsync: chgrp \"/n/files/Neurobio/MICROSCOPE/Rich/analysis_data/face_rhythm_paper/fig_4_2pRAM/AEG21/2022_05_14/temporal_alignment/.temporal_alignment.py.AyQzIP\" failed: Operation not permitted (1)\n",
      "rsync: chgrp \"/n/files/Neurobio/MICROSCOPE/Rich/analysis_data/face_rhythm_paper/fig_4_2pRAM/AEG21/2022_05_14/temporal_alignment/.ws_signals_aligned_to_SI.h5.vHNiR0\" failed: Operation not permitted (1)\n",
      "\n",
      "sent 7,596,683,375 bytes  received 1,707 bytes  66,346,594.60 bytes/sec\n",
      "total size is 7,594,828,577  speedup is 1.00\n",
      "rsync error: some files/attrs were not transferred (see previous errors) (code 23) at main.c(1179) [sender=3.1.2]\n",
      "(base) [rh183@transfer03 ~]$ \n",
      "copy expect completed. time: Tue Jun  7 04:49:35 2022, dir: /n/data1/hms/neurobio/sabatini/rich/analysis/temporal_alignment/AEG21/2022_05_14/jobNum_0\n",
      "copy starting,         time: Tue Jun  7 04:49:35 2022, dir:/n/data1/hms/neurobio/sabatini/rich/analysis/temporal_alignment/AEG21/2022_05_16/jobNum_0\n",
      "ent/analysis_data/face_rhythm_paper/fig_4_2pRAM/AEG21/2022_05_16/temporal_alignm \n",
      "\n",
      "sending incremental file list\n",
      "rsync: chgrp \"/n/files/Neurobio/MICROSCOPE/Rich/analysis_data/face_rhythm_paper/fig_4_2pRAM/AEG21/2022_05_16/temporal_alignment/.\" failed: Operation not permitted (1)\n",
      "./\n",
      "SxxNorm_idxS2p.npy\n",
      "\n",
      "params.json\n",
      "\n",
      "positionsCDR_idxS2p.npy\n",
      "\n",
      "print_log_54442338.log\n",
      "\n",
      "sbatch_config.sh\n",
      "temporal_alignment.py\n",
      "ws_signals_aligned_to_SI.h5\n",
      "\n",
      "rsync: chgrp \"/n/files/Neurobio/MICROSCOPE/Rich/analysis_data/face_rhythm_paper/fig_4_2pRAM/AEG21/2022_05_16/temporal_alignment/.SxxNorm_idxS2p.npy.DkGiuo\" failed: Operation not permitted (1)\n",
      "\n",
      "rsync: chgrp \"/n/files/Neurobio/MICROSCOPE/Rich/analysis_data/face_rhythm_paper/fig_4_2pRAM/AEG21/2022_05_16/temporal_alignment/.params.json.7eypZw\" failed: Operation not permitted (1)\n",
      "rsync: chgrp \"/n/files/Neurobio/MICROSCOPE/Rich/analysis_data/face_rhythm_paper/fig_4_2pRAM/AEG21/2022_05_16/temporal_alignment/.positionsCDR_idxS2p.npy.fw0FQF\" failed: Operation not permitted (1)\n",
      "rsync: chgrp \"/n/files/Neurobio/MICROSCOPE/Rich/analysis_data/face_rhythm_paper/fig_4_2pRAM/AEG21/2022_05_16/temporal_alignment/.print_log_54442338.log.N1NajR\" failed: Operation not permitted (1)\n",
      "rsync: chgrp \"/n/files/Neurobio/MICROSCOPE/Rich/analysis_data/face_rhythm_paper/fig_4_2pRAM/AEG21/2022_05_16/temporal_alignment/.sbatch_config.sh.JJo0M2\" failed: Operation not permitted (1)\n",
      "rsync: chgrp \"/n/files/Neurobio/MICROSCOPE/Rich/analysis_data/face_rhythm_paper/fig_4_2pRAM/AEG21/2022_05_16/temporal_alignment/.temporal_alignment.py.zsa6he\" failed: Operation not permitted (1)\n",
      "rsync: chgrp \"/n/files/Neurobio/MICROSCOPE/Rich/analysis_data/face_rhythm_paper/fig_4_2pRAM/AEG21/2022_05_16/temporal_alignment/.ws_signals_aligned_to_SI.h5.6VJxOp\" failed: Operation not permitted (1)\n",
      "\n",
      "sent 7,596,684,063 bytes  received 1,707 bytes  150,429,421.19 bytes/sec\n",
      "total size is 7,594,829,268  speedup is 1.00\n",
      "rsync error: some files/attrs were not transferred (see previous errors) (code 23) at main.c(1179) [sender=3.1.2]\n",
      "(base) [rh183@transfer03 ~]$ \n",
      "copy expect completed. time: Tue Jun  7 04:50:25 2022, dir: /n/data1/hms/neurobio/sabatini/rich/analysis/temporal_alignment/AEG21/2022_05_16/jobNum_0\n",
      "copy starting,         time: Tue Jun  7 04:50:25 2022, dir:/n/data1/hms/neurobio/sabatini/rich/analysis/temporal_alignment/AEG21/2022_05_17/jobNum_0\n",
      "ent/analysis_data/face_rhythm_paper/fig_4_2pRAM/AEG21/2022_05_17/temporal_alignm \n",
      "\n",
      "sending incremental file list\n",
      "rsync: chgrp \"/n/files/Neurobio/MICROSCOPE/Rich/analysis_data/face_rhythm_paper/fig_4_2pRAM/AEG21/2022_05_17/temporal_alignment/.\" failed: Operation not permitted (1)\n",
      "./\n",
      "SxxNorm_idxS2p.npy\n",
      "\n",
      "params.json\n",
      "\n",
      "positionsCDR_idxS2p.npy\n",
      "\n",
      "print_log_54442339.log\n",
      "\n",
      "sbatch_config.sh\n",
      "temporal_alignment.py\n",
      "ws_signals_aligned_to_SI.h5\n",
      "\n",
      "rsync: chgrp \"/n/files/Neurobio/MICROSCOPE/Rich/analysis_data/face_rhythm_paper/fig_4_2pRAM/AEG21/2022_05_17/temporal_alignment/.SxxNorm_idxS2p.npy.dE8OoX\" failed: Operation not permitted (1)\n",
      "rsync: chgrp \"/n/files/Neurobio/MICROSCOPE/Rich/analysis_data/face_rhythm_paper/fig_4_2pRAM/AEG21/2022_05_17/temporal_alignment/.params.json.uq7qP6\" failed: Operation not permitted (1)\n",
      "rsync: chgrp \"/n/files/Neurobio/MICROSCOPE/Rich/analysis_data/face_rhythm_paper/fig_4_2pRAM/AEG21/2022_05_17/temporal_alignment/.positionsCDR_idxS2p.npy.5Mfeig\" failed: Operation not permitted (1)\n",
      "rsync: chgrp \"/n/files/Neurobio/MICROSCOPE/Rich/analysis_data/face_rhythm_paper/fig_4_2pRAM/AEG21/2022_05_17/temporal_alignment/.print_log_54442339.log.znW70x\" failed: Operation not permitted (1)\n",
      "rsync: chgrp \"/n/files/Neurobio/MICROSCOPE/Rich/analysis_data/face_rhythm_paper/fig_4_2pRAM/AEG21/2022_05_17/temporal_alignment/.sbatch_config.sh.HV2rLP\" failed: Operation not permitted (1)\n",
      "rsync: chgrp \"/n/files/Neurobio/MICROSCOPE/Rich/analysis_data/face_rhythm_paper/fig_4_2pRAM/AEG21/2022_05_17/temporal_alignment/.temporal_alignment.py.B272w7\" failed: Operation not permitted (1)\n",
      "rsync: chgrp \"/n/files/Neurobio/MICROSCOPE/Rich/analysis_data/face_rhythm_paper/fig_4_2pRAM/AEG21/2022_05_17/temporal_alignment/.ws_signals_aligned_to_SI.h5.7Nd1jp\" failed: Operation not permitted (1)\n",
      "\n",
      "\n",
      "sent 7,596,684,740 bytes  received 1,707 bytes  147,508,474.70 bytes/sec\n",
      "total size is 7,594,829,945  speedup is 1.00\n",
      "rsync error: some files/attrs were not transferred (see previous errors) (code 23) at main.c(1179) [sender=3.1.2]\n",
      "(base) [rh183@transfer03 ~]$ \n",
      "copy expect completed. time: Tue Jun  7 04:51:17 2022, dir: /n/data1/hms/neurobio/sabatini/rich/analysis/temporal_alignment/AEG21/2022_05_17/jobNum_0\n"
     ]
    },
    {
     "name": "stdout",
     "output_type": "stream",
     "text": [
      "copy starting,         time: Tue Jun  7 04:51:17 2022, dir:/n/data1/hms/neurobio/sabatini/rich/analysis/temporal_alignment/AEG21/2022_05_18/jobNum_0\n",
      "ent/analysis_data/face_rhythm_paper/fig_4_2pRAM/AEG21/2022_05_18/temporal_alignm \n",
      "\n",
      "sending incremental file list\n",
      "rsync: chgrp \"/n/files/Neurobio/MICROSCOPE/Rich/analysis_data/face_rhythm_paper/fig_4_2pRAM/AEG21/2022_05_18/temporal_alignment/.\" failed: Operation not permitted (1)\n",
      "./\n",
      "SxxNorm_idxS2p.npy\n",
      "\n",
      "params.json\n",
      "\n",
      "positionsCDR_idxS2p.npy\n",
      "\n",
      "print_log_54442340.log\n",
      "sbatch_config.sh\n",
      "\n",
      "temporal_alignment.py\n",
      "ws_signals_aligned_to_SI.h5\n",
      "\n",
      "rsync: chgrp \"/n/files/Neurobio/MICROSCOPE/Rich/analysis_data/face_rhythm_paper/fig_4_2pRAM/AEG21/2022_05_18/temporal_alignment/.SxxNorm_idxS2p.npy.2ey290\" failed: Operation not permitted (1)\n",
      "\n",
      "rsync: chgrp \"/n/files/Neurobio/MICROSCOPE/Rich/analysis_data/face_rhythm_paper/fig_4_2pRAM/AEG21/2022_05_18/temporal_alignment/.params.json.1B0g6b\" failed: Operation not permitted (1)\n",
      "rsync: chgrp \"/n/files/Neurobio/MICROSCOPE/Rich/analysis_data/face_rhythm_paper/fig_4_2pRAM/AEG21/2022_05_18/temporal_alignment/.positionsCDR_idxS2p.npy.zUWP3m\" failed: Operation not permitted (1)\n",
      "\n",
      "rsync: chgrp \"/n/files/Neurobio/MICROSCOPE/Rich/analysis_data/face_rhythm_paper/fig_4_2pRAM/AEG21/2022_05_18/temporal_alignment/.print_log_54442340.log.nvYnBA\" failed: Operation not permitted (1)\n",
      "rsync: chgrp \"/n/files/Neurobio/MICROSCOPE/Rich/analysis_data/face_rhythm_paper/fig_4_2pRAM/AEG21/2022_05_18/temporal_alignment/.sbatch_config.sh.wWlpaO\" failed: Operation not permitted (1)\n",
      "rsync: chgrp \"/n/files/Neurobio/MICROSCOPE/Rich/analysis_data/face_rhythm_paper/fig_4_2pRAM/AEG21/2022_05_18/temporal_alignment/.temporal_alignment.py.REtFK1\" failed: Operation not permitted (1)\n",
      "rsync: chgrp \"/n/files/Neurobio/MICROSCOPE/Rich/analysis_data/face_rhythm_paper/fig_4_2pRAM/AEG21/2022_05_18/temporal_alignment/.ws_signals_aligned_to_SI.h5.cBNI3f\" failed: Operation not permitted (1)\n",
      "\n",
      "sent 7,596,683,171 bytes  received 1,707 bytes  153,468,381.37 bytes/sec\n",
      "total size is 7,594,828,373  speedup is 1.00\n",
      "rsync error: some files/attrs were not transferred (see previous errors) (code 23) at main.c(1179) [sender=3.1.2]\n",
      "(base) [rh183@transfer03 ~]$ \n",
      "copy expect completed. time: Tue Jun  7 04:52:06 2022, dir: /n/data1/hms/neurobio/sabatini/rich/analysis/temporal_alignment/AEG21/2022_05_18/jobNum_0\n",
      "copy starting,         time: Tue Jun  7 04:52:06 2022, dir:/n/data1/hms/neurobio/sabatini/rich/analysis/temporal_alignment/AEG22/2022_05_13/jobNum_0\n",
      "ent/analysis_data/face_rhythm_paper/fig_4_2pRAM/AEG22/2022_05_13/temporal_alignm \n",
      "\n",
      "sending incremental file list\n",
      "rsync: chgrp \"/n/files/Neurobio/MICROSCOPE/Rich/analysis_data/face_rhythm_paper/fig_4_2pRAM/AEG22/2022_05_13/temporal_alignment/.\" failed: Operation not permitted (1)\n",
      "./\n",
      "SxxNorm_idxS2p.npy\n",
      "\n",
      "params.json\n",
      "\n",
      "positionsCDR_idxS2p.npy\n",
      "\n",
      "print_log_54442341.log\n",
      "sbatch_config.sh\n",
      "temporal_alignment.py\n",
      "ws_signals_aligned_to_SI.h5\n",
      "\n",
      "rsync: chgrp \"/n/files/Neurobio/MICROSCOPE/Rich/analysis_data/face_rhythm_paper/fig_4_2pRAM/AEG22/2022_05_13/temporal_alignment/.SxxNorm_idxS2p.npy.g7fMNj\" failed: Operation not permitted (1)\n",
      "\n",
      "rsync: chgrp \"/n/files/Neurobio/MICROSCOPE/Rich/analysis_data/face_rhythm_paper/fig_4_2pRAM/AEG22/2022_05_13/temporal_alignment/.params.json.e5Yt2x\" failed: Operation not permitted (1)\n",
      "rsync: chgrp \"/n/files/Neurobio/MICROSCOPE/Rich/analysis_data/face_rhythm_paper/fig_4_2pRAM/AEG22/2022_05_13/temporal_alignment/.positionsCDR_idxS2p.npy.aky5iM\" failed: Operation not permitted (1)\n",
      "rsync: chgrp \"/n/files/Neurobio/MICROSCOPE/Rich/analysis_data/face_rhythm_paper/fig_4_2pRAM/AEG22/2022_05_13/temporal_alignment/.print_log_54442341.log.wDxvf3\" failed: Operation not permitted (1)\n",
      "rsync: chgrp \"/n/files/Neurobio/MICROSCOPE/Rich/analysis_data/face_rhythm_paper/fig_4_2pRAM/AEG22/2022_05_13/temporal_alignment/.sbatch_config.sh.sqZgdk\" failed: Operation not permitted (1)\n",
      "rsync: chgrp \"/n/files/Neurobio/MICROSCOPE/Rich/analysis_data/face_rhythm_paper/fig_4_2pRAM/AEG22/2022_05_13/temporal_alignment/.temporal_alignment.py.C1glcB\" failed: Operation not permitted (1)\n",
      "rsync: chgrp \"/n/files/Neurobio/MICROSCOPE/Rich/analysis_data/face_rhythm_paper/fig_4_2pRAM/AEG22/2022_05_13/temporal_alignment/.ws_signals_aligned_to_SI.h5.mIjNcS\" failed: Operation not permitted (1)\n",
      "\n",
      "sent 7,849,583,844 bytes  received 1,707 bytes  158,577,485.88 bytes/sec\n",
      "total size is 7,847,667,317  speedup is 1.00\n",
      "rsync error: some files/attrs were not transferred (see previous errors) (code 23) at main.c(1179) [sender=3.1.2]\n",
      "(base) [rh183@transfer03 ~]$ \n",
      "copy expect completed. time: Tue Jun  7 04:52:55 2022, dir: /n/data1/hms/neurobio/sabatini/rich/analysis/temporal_alignment/AEG22/2022_05_13/jobNum_0\n",
      "copy starting,         time: Tue Jun  7 04:52:56 2022, dir:/n/data1/hms/neurobio/sabatini/rich/analysis/temporal_alignment/AEG22/2022_05_14/jobNum_0\n",
      "ent/analysis_data/face_rhythm_paper/fig_4_2pRAM/AEG22/2022_05_14/temporal_alignm \n",
      "\n",
      "sending incremental file list\n",
      "rsync: chgrp \"/n/files/Neurobio/MICROSCOPE/Rich/analysis_data/face_rhythm_paper/fig_4_2pRAM/AEG22/2022_05_14/temporal_alignment/.\" failed: Operation not permitted (1)\n",
      "./\n",
      "SxxNorm_idxS2p.npy\n",
      "\n",
      "params.json\n",
      "positionsCDR_idxS2p.npy\n",
      "\n",
      "print_log_54442342.log\n",
      "\n",
      "sbatch_config.sh\n",
      "temporal_alignment.py\n",
      "ws_signals_aligned_to_SI.h5\n",
      "\n",
      "rsync: chgrp \"/n/files/Neurobio/MICROSCOPE/Rich/analysis_data/face_rhythm_paper/fig_4_2pRAM/AEG22/2022_05_14/temporal_alignment/.SxxNorm_idxS2p.npy.X2ajjw\" failed: Operation not permitted (1)\n",
      "\n",
      "rsync: chgrp \"/n/files/Neurobio/MICROSCOPE/Rich/analysis_data/face_rhythm_paper/fig_4_2pRAM/AEG22/2022_05_14/temporal_alignment/.params.json.8I1d7I\" failed: Operation not permitted (1)\n",
      "rsync: chgrp \"/n/files/Neurobio/MICROSCOPE/Rich/analysis_data/face_rhythm_paper/fig_4_2pRAM/AEG22/2022_05_14/temporal_alignment/.positionsCDR_idxS2p.npy.qBlL0V\" failed: Operation not permitted (1)\n",
      "rsync: chgrp \"/n/files/Neurobio/MICROSCOPE/Rich/analysis_data/face_rhythm_paper/fig_4_2pRAM/AEG22/2022_05_14/temporal_alignment/.print_log_54442342.log.8TaFHb\" failed: Operation not permitted (1)\n",
      "rsync: chgrp \"/n/files/Neurobio/MICROSCOPE/Rich/analysis_data/face_rhythm_paper/fig_4_2pRAM/AEG22/2022_05_14/temporal_alignment/.sbatch_config.sh.YMcWpr\" failed: Operation not permitted (1)\n",
      "rsync: chgrp \"/n/files/Neurobio/MICROSCOPE/Rich/analysis_data/face_rhythm_paper/fig_4_2pRAM/AEG22/2022_05_14/temporal_alignment/.temporal_alignment.py.x8Vr9G\" failed: Operation not permitted (1)\n",
      "rsync: chgrp \"/n/files/Neurobio/MICROSCOPE/Rich/analysis_data/face_rhythm_paper/fig_4_2pRAM/AEG22/2022_05_14/temporal_alignment/.ws_signals_aligned_to_SI.h5.gKUtWW\" failed: Operation not permitted (1)\n",
      "\n",
      "sent 7,849,585,622 bytes  received 1,707 bytes  161,847,161.42 bytes/sec\n",
      "total size is 7,847,669,093  speedup is 1.00\n",
      "rsync error: some files/attrs were not transferred (see previous errors) (code 23) at main.c(1179) [sender=3.1.2]\n",
      "(base) [rh183@transfer03 ~]$ \n",
      "copy expect completed. time: Tue Jun  7 04:53:44 2022, dir: /n/data1/hms/neurobio/sabatini/rich/analysis/temporal_alignment/AEG22/2022_05_14/jobNum_0\n",
      "copy starting,         time: Tue Jun  7 04:53:45 2022, dir:/n/data1/hms/neurobio/sabatini/rich/analysis/temporal_alignment/AEG22/2022_05_16/jobNum_0\n",
      "ent/analysis_data/face_rhythm_paper/fig_4_2pRAM/AEG22/2022_05_16/temporal_alignm \n",
      "\n",
      "sending incremental file list\n",
      "rsync: chgrp \"/n/files/Neurobio/MICROSCOPE/Rich/analysis_data/face_rhythm_paper/fig_4_2pRAM/AEG22/2022_05_16/temporal_alignment/.\" failed: Operation not permitted (1)\n",
      "./\n",
      "params.json\n",
      "print_log_54442343.log\n",
      "sbatch_config.sh\n",
      "temporal_alignment.py\n",
      "\n",
      "rsync: chgrp \"/n/files/Neurobio/MICROSCOPE/Rich/analysis_data/face_rhythm_paper/fig_4_2pRAM/AEG22/2022_05_16/temporal_alignment/.params.json.20GLVv\" failed: Operation not permitted (1)\n",
      "rsync: chgrp \"/n/files/Neurobio/MICROSCOPE/Rich/analysis_data/face_rhythm_paper/fig_4_2pRAM/AEG22/2022_05_16/temporal_alignment/.print_log_54442343.log.Lqe16M\" failed: Operation not permitted (1)\n",
      "rsync: chgrp \"/n/files/Neurobio/MICROSCOPE/Rich/analysis_data/face_rhythm_paper/fig_4_2pRAM/AEG22/2022_05_16/temporal_alignment/.sbatch_config.sh.RkRal4\" failed: Operation not permitted (1)\n",
      "rsync: chgrp \"/n/files/Neurobio/MICROSCOPE/Rich/analysis_data/face_rhythm_paper/fig_4_2pRAM/AEG22/2022_05_16/temporal_alignment/.temporal_alignment.py.JC2WEl\" failed: Operation not permitted (1)\n",
      "\n",
      "sent 15,455 bytes  received 1,048 bytes  33,006.00 bytes/sec\n",
      "total size is 15,085  speedup is 0.91\n",
      "rsync error: some files/attrs were not transferred (see previous errors) (code 23) at main.c(1179) [sender=3.1.2]\n",
      "(base) [rh183@transfer03 ~]$ \n",
      "copy expect completed. time: Tue Jun  7 04:53:45 2022, dir: /n/data1/hms/neurobio/sabatini/rich/analysis/temporal_alignment/AEG22/2022_05_16/jobNum_0\n"
     ]
    },
    {
     "name": "stdout",
     "output_type": "stream",
     "text": [
      "copy starting,         time: Tue Jun  7 04:53:45 2022, dir:/n/data1/hms/neurobio/sabatini/rich/analysis/temporal_alignment/AEG22/2022_05_17/jobNum_0\n",
      "ent/analysis_data/face_rhythm_paper/fig_4_2pRAM/AEG22/2022_05_17/temporal_alignm \n",
      "\n",
      "sending incremental file list\n",
      "rsync: chgrp \"/n/files/Neurobio/MICROSCOPE/Rich/analysis_data/face_rhythm_paper/fig_4_2pRAM/AEG22/2022_05_17/temporal_alignment/.\" failed: Operation not permitted (1)\n",
      "./\n",
      "SxxNorm_idxS2p.npy\n",
      "\n",
      "params.json\n",
      "positionsCDR_idxS2p.npy\n",
      "\n",
      "print_log_54442344.log\n",
      "\n",
      "sbatch_config.sh\n",
      "temporal_alignment.py\n",
      "ws_signals_aligned_to_SI.h5\n",
      "\n",
      "rsync: chgrp \"/n/files/Neurobio/MICROSCOPE/Rich/analysis_data/face_rhythm_paper/fig_4_2pRAM/AEG22/2022_05_17/temporal_alignment/.SxxNorm_idxS2p.npy.b0nHwc\" failed: Operation not permitted (1)\n",
      "\n",
      "rsync: chgrp \"/n/files/Neurobio/MICROSCOPE/Rich/analysis_data/face_rhythm_paper/fig_4_2pRAM/AEG22/2022_05_17/temporal_alignment/.params.json.GOudjw\" failed: Operation not permitted (1)\n",
      "rsync: chgrp \"/n/files/Neurobio/MICROSCOPE/Rich/analysis_data/face_rhythm_paper/fig_4_2pRAM/AEG22/2022_05_17/temporal_alignment/.positionsCDR_idxS2p.npy.1iYX9P\" failed: Operation not permitted (1)\n",
      "rsync: chgrp \"/n/files/Neurobio/MICROSCOPE/Rich/analysis_data/face_rhythm_paper/fig_4_2pRAM/AEG22/2022_05_17/temporal_alignment/.print_log_54442344.log.IqtOAc\" failed: Operation not permitted (1)\n",
      "rsync: chgrp \"/n/files/Neurobio/MICROSCOPE/Rich/analysis_data/face_rhythm_paper/fig_4_2pRAM/AEG22/2022_05_17/temporal_alignment/.sbatch_config.sh.zUb22y\" failed: Operation not permitted (1)\n",
      "rsync: chgrp \"/n/files/Neurobio/MICROSCOPE/Rich/analysis_data/face_rhythm_paper/fig_4_2pRAM/AEG22/2022_05_17/temporal_alignment/.temporal_alignment.py.QVYxwV\" failed: Operation not permitted (1)\n",
      "rsync: chgrp \"/n/files/Neurobio/MICROSCOPE/Rich/analysis_data/face_rhythm_paper/fig_4_2pRAM/AEG22/2022_05_17/temporal_alignment/.ws_signals_aligned_to_SI.h5.0flm1h\" failed: Operation not permitted (1)\n",
      "\n",
      "sent 7,849,584,545 bytes  received 1,707 bytes  44,726,987.19 bytes/sec\n",
      "total size is 7,847,668,018  speedup is 1.00\n",
      "rsync error: some files/attrs were not transferred (see previous errors) (code 23) at main.c(1179) [sender=3.1.2]\n",
      "(base) [rh183@transfer03 ~]$ \n",
      "copy expect completed. time: Tue Jun  7 04:56:40 2022, dir: /n/data1/hms/neurobio/sabatini/rich/analysis/temporal_alignment/AEG22/2022_05_17/jobNum_0\n",
      "copy starting,         time: Tue Jun  7 04:56:40 2022, dir:/n/data1/hms/neurobio/sabatini/rich/analysis/temporal_alignment/AEG22/2022_05_18/jobNum_0\n",
      "ich/analysis_data/face_rhythm_paper/fig_4_2pRAM/AEG22/2022_05_18/temporal_aOPE/R \n",
      "ent/m \n",
      "sending incremental file list\n",
      "rsync: chgrp \"/n/files/Neurobio/MICROSCOPE/Rich/analysis_data/face_rhythm_paper/fig_4_2pRAM/AEG22/2022_05_18/temporal_alignment/.\" failed: Operation not permitted (1)\n",
      "./\n",
      "SxxNorm_idxS2p.npy\n",
      "\n",
      "params.json\n",
      "\n",
      "positionsCDR_idxS2p.npy\n",
      "\n",
      "print_log_54442345.log\n",
      "\n",
      "sbatch_config.sh\n",
      "temporal_alignment.py\n",
      "ws_signals_aligned_to_SI.h5\n",
      "\n",
      "rsync: chgrp \"/n/files/Neurobio/MICROSCOPE/Rich/analysis_data/face_rhythm_paper/fig_4_2pRAM/AEG22/2022_05_18/temporal_alignment/.SxxNorm_idxS2p.npy.qDAkYq\" failed: Operation not permitted (1)\n",
      "\n",
      "rsync: chgrp \"/n/files/Neurobio/MICROSCOPE/Rich/analysis_data/face_rhythm_paper/fig_4_2pRAM/AEG22/2022_05_18/temporal_alignment/.params.json.kg0dgJ\" failed: Operation not permitted (1)\n",
      "rsync: chgrp \"/n/files/Neurobio/MICROSCOPE/Rich/analysis_data/face_rhythm_paper/fig_4_2pRAM/AEG22/2022_05_18/temporal_alignment/.positionsCDR_idxS2p.npy.im1gu7\" failed: Operation not permitted (1)\n",
      "rsync: chgrp \"/n/files/Neurobio/MICROSCOPE/Rich/analysis_data/face_rhythm_paper/fig_4_2pRAM/AEG22/2022_05_18/temporal_alignment/.print_log_54442345.log.Qdvwny\" failed: Operation not permitted (1)\n",
      "rsync: chgrp \"/n/files/Neurobio/MICROSCOPE/Rich/analysis_data/face_rhythm_paper/fig_4_2pRAM/AEG22/2022_05_18/temporal_alignment/.sbatch_config.sh.vOU7hZ\" failed: Operation not permitted (1)\n",
      "rsync: chgrp \"/n/files/Neurobio/MICROSCOPE/Rich/analysis_data/face_rhythm_paper/fig_4_2pRAM/AEG22/2022_05_18/temporal_alignment/.temporal_alignment.py.xB2Vdq\" failed: Operation not permitted (1)\n",
      "rsync: chgrp \"/n/files/Neurobio/MICROSCOPE/Rich/analysis_data/face_rhythm_paper/fig_4_2pRAM/AEG22/2022_05_18/temporal_alignment/.ws_signals_aligned_to_SI.h5.qh58aR\" failed: Operation not permitted (1)\n",
      "\n",
      "sent 7,596,683,274 bytes  received 1,707 bytes  147,508,446.23 bytes/sec\n",
      "total size is 7,594,828,478  speedup is 1.00\n",
      "rsync error: some files/attrs were not transferred (see previous errors) (code 23) at main.c(1179) [sender=3.1.2]\n",
      "(base) [rh183@transfer03 ~]$ \n",
      "copy expect completed. time: Tue Jun  7 04:57:31 2022, dir: /n/data1/hms/neurobio/sabatini/rich/analysis/temporal_alignment/AEG22/2022_05_18/jobNum_0\n"
     ]
    }
   ],
   "source": [
    "## Define directories for where the local data is and the remote directory where the contents of that folder should be copied to (MICROSCOPE)\n",
    "\n",
    "dir_data_from = '/n/data1/hms/neurobio/sabatini/rich/analysis/temporal_alignment'\n",
    "dir_data_to = '/n/files/Neurobio/MICROSCOPE/Rich/analysis_data/face_rhythm_paper/fig_4_2pRAM'  ## contents of dir_data_local will be dumped into dir_data_MICROSCOPE\n",
    "\n",
    "\n",
    "[[transfer(\n",
    "    dir_from=str(Path(dir_data_from) / animal / date / 'jobNum_0'),\n",
    "    dir_to=str(Path(dir_data_to) / animal / date / 'temporal_alignment'),\n",
    "    sftp=sftp,\n",
    "    ssh_t=ssh_t,\n",
    "    str_expect='[rh183',\n",
    "    verbose=2,\n",
    "    timeout_cp=60*60*4,\n",
    ") for date in dates] for animal in animals];"
   ]
  },
  {
   "cell_type": "markdown",
   "id": "ee823e31",
   "metadata": {},
   "source": [
    "## Prepare username + password"
   ]
  },
  {
   "cell_type": "code",
   "execution_count": 5,
   "id": "bc43abdd",
   "metadata": {},
   "outputs": [
    {
     "name": "stdout",
     "output_type": "stream",
     "text": [
      "Username: rh183\n",
      "Password: ········\n"
     ]
    }
   ],
   "source": [
    "remote_host_transfer = \"transfer.rc.hms.harvard.edu\"\n",
    "remote_host_compute = \"o2.hms.harvard.edu\"\n",
    "username = input('Username: ')\n",
    "pw = server.pw_encode(getpass.getpass(prompt='Password: '))"
   ]
  },
  {
   "cell_type": "markdown",
   "id": "d8d54f22",
   "metadata": {},
   "source": [
    "## Prepare `ssh` object"
   ]
  },
  {
   "cell_type": "code",
   "execution_count": null,
   "id": "38d10e50",
   "metadata": {},
   "outputs": [],
   "source": [
    "## initialize ssh_transfer\n",
    "ssh_t = server.ssh_interface(\n",
    "    nbytes_toReceive=4096,\n",
    "    recv_timeout=1,\n",
    "    verbose=True,\n",
    ")\n",
    "ssh_t.o2_connect(\n",
    "    hostname=remote_host_transfer,\n",
    "    username=username,\n",
    "    password=server.pw_decode(pw),\n",
    "    passcode_method=1,\n",
    "    verbose=1,\n",
    "    skip_passcode=False,\n",
    ")"
   ]
  },
  {
   "cell_type": "code",
   "execution_count": 274,
   "id": "4a74693f",
   "metadata": {},
   "outputs": [
    {
     "name": "stdout",
     "output_type": "stream",
     "text": [
      "contents of    /n/data1/hms/neurobio/sabatini/rich/analysis/suite2p_output/AEG21/2022_05_14    will be copied to    /n/files/Neurobio/MICROSCOPE/Ally/Mesoscope/AEG21/2022_05_14/suite2p_o2_output\n"
     ]
    }
   ],
   "source": [
    "dir_S2pOutput_remote = dir_S2pOutput_remote  ## from above\n",
    "dir_s2pOutput_MICROSCOPE = (Path(dir_data_MICROSCOPE) / 'suite2p_o2_output').as_posix()  ## from above\n",
    "print(f'contents of    {dir_S2pOutput_remote}    will be copied to    {dir_s2pOutput_MICROSCOPE}')"
   ]
  },
  {
   "cell_type": "code",
   "execution_count": 275,
   "id": "53d3fc7d",
   "metadata": {},
   "outputs": [
    {
     "data": {
      "text/plain": [
       "{'make_dir': 'mkdir -p /n/files/Neurobio/MICROSCOPE/Ally/Mesoscope/AEG21/2022_05_14/suite2p_o2_output',\n",
       " 'copy_s2p': 'cp -r /n/data1/hms/neurobio/sabatini/rich/analysis/suite2p_output/AEG21/2022_05_14/. /n/files/Neurobio/MICROSCOPE/Ally/Mesoscope/AEG21/2022_05_14/suite2p_o2_output'}"
      ]
     },
     "metadata": {},
     "output_type": "display_data"
    }
   ],
   "source": [
    "commands = {\n",
    "    'make_dir': f\"mkdir -p {dir_s2pOutput_MICROSCOPE}\",\n",
    "    'copy_s2p': f\"cp -r {(Path(dir_S2pOutput_remote)).as_posix()}/. {dir_s2pOutput_MICROSCOPE}\",\n",
    "}\n",
    "display(commands)"
   ]
  },
  {
   "cell_type": "code",
   "execution_count": 276,
   "id": "0d9854ac",
   "metadata": {},
   "outputs": [
    {
     "name": "stdout",
     "output_type": "stream",
     "text": [
      "mkdir -p /n/files/Neurobio/MICROSCOPE/Ally/Mesoscop \r",
      "e/AEG21/2022_05_14/suite2p_o2_output\r\n",
      "\n"
     ]
    }
   ],
   "source": [
    "ssh_t.send_receive(commands['make_dir']);"
   ]
  },
  {
   "cell_type": "code",
   "execution_count": 277,
   "id": "728e4e88",
   "metadata": {},
   "outputs": [
    {
     "name": "stdout",
     "output_type": "stream",
     "text": [
      "(base) [rh183@transfer03 ~]$ \n"
     ]
    }
   ],
   "source": [
    "ssh_t.send(commands['copy_s2p'])\n",
    "ssh_t.expect(str_success=f'[{username}', total_timeout=120, verbose=True);"
   ]
  },
  {
   "cell_type": "code",
   "execution_count": null,
   "id": "2d0f096e",
   "metadata": {},
   "outputs": [],
   "source": []
  },
  {
   "cell_type": "markdown",
   "id": "0097eadc",
   "metadata": {},
   "source": [
    "## Clean up"
   ]
  },
  {
   "cell_type": "code",
   "execution_count": null,
   "id": "b01e88d4",
   "metadata": {},
   "outputs": [],
   "source": [
    "## delete password\n",
    "del pw\n",
    "gc.collect()\n",
    "    \n",
    "## close ssh\n",
    "ssh_t.close()\n",
    "del ssh_t\n",
    "gc.collect()"
   ]
  },
  {
   "cell_type": "code",
   "execution_count": null,
   "id": "cc4d73d5",
   "metadata": {},
   "outputs": [],
   "source": []
  },
  {
   "cell_type": "markdown",
   "id": "607fe8d3",
   "metadata": {},
   "source": [
    "----\n",
    "# ==== Optional ====\n",
    "### transfer s2p outputs from `MICROSCOPE` to local machine"
   ]
  },
  {
   "cell_type": "code",
   "execution_count": 39,
   "id": "f443018b",
   "metadata": {},
   "outputs": [
    {
     "name": "stdout",
     "output_type": "stream",
     "text": [
      "contents of    /n/files/Neurobio/MICROSCOPE/Rich/data/test/suite2p_o2_output    will be copied to    /media/rich/bigSSD/tmp_data/suite2p_o2_output\n"
     ]
    }
   ],
   "source": [
    "dir_s2pOutput_MICROSCOPE = dir_s2pOutput_MICROSCOPE  ## from above\n",
    "dir_s2pOutput_local = str(Path(dir_data_local).resolve() / 'suite2p_o2_output')\n",
    "print(f'contents of    {dir_s2pOutput_MICROSCOPE}    will be copied to    {dir_s2pOutput_local}')"
   ]
  },
  {
   "cell_type": "code",
   "execution_count": 57,
   "id": "6721d7c7",
   "metadata": {},
   "outputs": [
    {
     "name": "stdout",
     "output_type": "stream",
     "text": [
      "Username: rh183\n",
      "Password: ········\n"
     ]
    }
   ],
   "source": [
    "remote_host_transfer = \"transfer.rc.hms.harvard.edu\"\n",
    "remote_host_compute = \"o2.hms.harvard.edu\"\n",
    "username = input('Username: ')\n",
    "pw = server.pw_encode(getpass.getpass(prompt='Password: '))"
   ]
  },
  {
   "cell_type": "markdown",
   "id": "055b0c6c",
   "metadata": {},
   "source": [
    "## Prepare `sftp` and `ssh` objects"
   ]
  },
  {
   "cell_type": "code",
   "execution_count": 40,
   "id": "b91b33b2",
   "metadata": {},
   "outputs": [],
   "source": [
    "sftp = server.sftp_interface(hostname=\"transfer.rc.hms.harvard.edu\", port=22)\n",
    "sftp.connect(username=username, password=server.pw_decode(pw))"
   ]
  },
  {
   "cell_type": "code",
   "execution_count": 41,
   "id": "c0e3af30",
   "metadata": {},
   "outputs": [
    {
     "name": "stdout",
     "output_type": "stream",
     "text": [
      "downloading /n/files/Neurobio/MICROSCOPE/Rich/data/test/suite2p_o2_output/jobNum_0/params.json   to   /media/rich/bigSSD/tmp_data/suite2p_o2_output/jobNum_0/params.json\n",
      "downloading /n/files/Neurobio/MICROSCOPE/Rich/data/test/suite2p_o2_output/jobNum_0/print_log_53419173.log   to   /media/rich/bigSSD/tmp_data/suite2p_o2_output/jobNum_0/print_log_53419173.log\n",
      "downloading /n/files/Neurobio/MICROSCOPE/Rich/data/test/suite2p_o2_output/jobNum_0/batch_run_output.png   to   /media/rich/bigSSD/tmp_data/suite2p_o2_output/jobNum_0/batch_run_output.png\n",
      "downloading /n/files/Neurobio/MICROSCOPE/Rich/data/test/suite2p_o2_output/jobNum_0/log.txt   to   /media/rich/bigSSD/tmp_data/suite2p_o2_output/jobNum_0/log.txt\n",
      "downloading /n/files/Neurobio/MICROSCOPE/Rich/data/test/suite2p_o2_output/jobNum_0/sbatch_config.sh   to   /media/rich/bigSSD/tmp_data/suite2p_o2_output/jobNum_0/sbatch_config.sh\n",
      "downloading /n/files/Neurobio/MICROSCOPE/Rich/data/test/suite2p_o2_output/jobNum_0/remote_run_s2p.py   to   /media/rich/bigSSD/tmp_data/suite2p_o2_output/jobNum_0/remote_run_s2p.py\n",
      "downloading /n/files/Neurobio/MICROSCOPE/Rich/data/test/suite2p_o2_output/jobNum_0/suite2p/plane0/spks.npy   to   /media/rich/bigSSD/tmp_data/suite2p_o2_output/jobNum_0/suite2p/plane0/spks.npy\n",
      "downloading /n/files/Neurobio/MICROSCOPE/Rich/data/test/suite2p_o2_output/jobNum_0/suite2p/plane0/stat.npy   to   /media/rich/bigSSD/tmp_data/suite2p_o2_output/jobNum_0/suite2p/plane0/stat.npy\n",
      "downloading /n/files/Neurobio/MICROSCOPE/Rich/data/test/suite2p_o2_output/jobNum_0/suite2p/plane0/Fneu.npy   to   /media/rich/bigSSD/tmp_data/suite2p_o2_output/jobNum_0/suite2p/plane0/Fneu.npy\n",
      "downloading /n/files/Neurobio/MICROSCOPE/Rich/data/test/suite2p_o2_output/jobNum_0/suite2p/plane0/iscell.npy   to   /media/rich/bigSSD/tmp_data/suite2p_o2_output/jobNum_0/suite2p/plane0/iscell.npy\n",
      "downloading /n/files/Neurobio/MICROSCOPE/Rich/data/test/suite2p_o2_output/jobNum_0/suite2p/plane0/F.npy   to   /media/rich/bigSSD/tmp_data/suite2p_o2_output/jobNum_0/suite2p/plane0/F.npy\n",
      "downloading /n/files/Neurobio/MICROSCOPE/Rich/data/test/suite2p_o2_output/jobNum_0/suite2p/plane0/ops.npy   to   /media/rich/bigSSD/tmp_data/suite2p_o2_output/jobNum_0/suite2p/plane0/ops.npy\n",
      "downloading /n/files/Neurobio/MICROSCOPE/Rich/data/test/suite2p_o2_output/notes.txt   to   /media/rich/bigSSD/tmp_data/suite2p_o2_output/notes.txt\n",
      "downloading /n/files/Neurobio/MICROSCOPE/Rich/data/test/suite2p_o2_output/remote_run_s2p.py   to   /media/rich/bigSSD/tmp_data/suite2p_o2_output/remote_run_s2p.py\n"
     ]
    }
   ],
   "source": [
    "sftp.get_dir(dir_s2pOutput_MICROSCOPE, dir_s2pOutput_local)"
   ]
  },
  {
   "cell_type": "markdown",
   "id": "4254abee",
   "metadata": {},
   "source": [
    "## Clean up"
   ]
  },
  {
   "cell_type": "code",
   "execution_count": 43,
   "id": "0e42b263",
   "metadata": {},
   "outputs": [],
   "source": [
    "## delete password\n",
    "del pw\n",
    "gc.collect()\n",
    "\n",
    "## close sftp\n",
    "sftp.close()\n",
    "del sftp"
   ]
  },
  {
   "cell_type": "code",
   "execution_count": 42,
   "id": "5059b009",
   "metadata": {},
   "outputs": [],
   "source": [
    "ssh_t.close()\n",
    "ssh_c.close()"
   ]
  },
  {
   "cell_type": "code",
   "execution_count": null,
   "id": "a2ee21fd",
   "metadata": {},
   "outputs": [],
   "source": []
  },
  {
   "cell_type": "code",
   "execution_count": null,
   "id": "9c0db4ae",
   "metadata": {},
   "outputs": [],
   "source": []
  },
  {
   "cell_type": "code",
   "execution_count": null,
   "id": "3e673763",
   "metadata": {},
   "outputs": [],
   "source": []
  },
  {
   "cell_type": "code",
   "execution_count": null,
   "id": "d7575950",
   "metadata": {},
   "outputs": [],
   "source": []
  },
  {
   "cell_type": "code",
   "execution_count": null,
   "id": "4f702071",
   "metadata": {},
   "outputs": [],
   "source": []
  },
  {
   "cell_type": "code",
   "execution_count": null,
   "id": "7cf7b838",
   "metadata": {},
   "outputs": [],
   "source": []
  },
  {
   "cell_type": "code",
   "execution_count": null,
   "id": "7cf6e7dd",
   "metadata": {},
   "outputs": [],
   "source": []
  },
  {
   "cell_type": "code",
   "execution_count": null,
   "id": "34451e6d",
   "metadata": {},
   "outputs": [],
   "source": []
  },
  {
   "cell_type": "code",
   "execution_count": null,
   "id": "45582dd6",
   "metadata": {},
   "outputs": [],
   "source": []
  },
  {
   "cell_type": "code",
   "execution_count": null,
   "id": "919ece3c",
   "metadata": {},
   "outputs": [],
   "source": []
  },
  {
   "cell_type": "code",
   "execution_count": null,
   "id": "869b3089",
   "metadata": {},
   "outputs": [],
   "source": []
  },
  {
   "cell_type": "code",
   "execution_count": null,
   "id": "3e9bf45e",
   "metadata": {},
   "outputs": [],
   "source": []
  },
  {
   "cell_type": "code",
   "execution_count": null,
   "id": "c42bfd2d",
   "metadata": {},
   "outputs": [],
   "source": []
  },
  {
   "cell_type": "code",
   "execution_count": null,
   "id": "f01dbe72",
   "metadata": {},
   "outputs": [],
   "source": []
  },
  {
   "cell_type": "code",
   "execution_count": null,
   "id": "388fbb4e",
   "metadata": {},
   "outputs": [],
   "source": []
  }
 ],
 "metadata": {
  "kernelspec": {
   "display_name": "Python 3 (ipykernel)",
   "language": "python",
   "name": "python3"
  },
  "language_info": {
   "codemirror_mode": {
    "name": "ipython",
    "version": 3
   },
   "file_extension": ".py",
   "mimetype": "text/x-python",
   "name": "python",
   "nbconvert_exporter": "python",
   "pygments_lexer": "ipython3",
   "version": "3.8.12"
  }
 },
 "nbformat": 4,
 "nbformat_minor": 5
}
