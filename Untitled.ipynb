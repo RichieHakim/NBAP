{
 "cells": [
  {
   "cell_type": "code",
   "execution_count": 1,
   "id": "620cb351",
   "metadata": {},
   "outputs": [],
   "source": [
    "%load_ext autoreload\n",
    "%autoreload 2\n",
    "\n",
    "import bnpm"
   ]
  },
  {
   "cell_type": "code",
   "execution_count": 4,
   "id": "e4241ba7",
   "metadata": {},
   "outputs": [
    {
     "name": "stdout",
     "output_type": "stream",
     "text": [
      "Python version: 3.11.3 (main, May 15 2023, 15:45:52) [GCC 11.2.0]\n",
      "PyTorch version: 2.0.1+cu117\n",
      "CUDA version: cannot be directly found with python function. Use `nvcc --version` in terminal or `! nvcc --version in notebook\n",
      "CUDNN version: 8500\n",
      "Devices:\n",
      "index, name, driver_version, memory.total [MiB], memory.used [MiB], memory.free [MiB]\n",
      "0, NVIDIA GeForce RTX 3090, 525.125.06, 24576 MiB, 1235 MiB, 22991 MiB\n",
      "Available torch cuda devices  1\n",
      "Current torch cuda device  0\n"
     ]
    }
   ],
   "source": [
    "bnpm.torch_helpers.show_torch_cuda_info()"
   ]
  },
  {
   "cell_type": "code",
   "execution_count": null,
   "id": "c00a8f92",
   "metadata": {},
   "outputs": [],
   "source": []
  },
  {
   "cell_type": "code",
   "execution_count": 5,
   "id": "88b93215",
   "metadata": {},
   "outputs": [],
   "source": [
    "import roicat"
   ]
  },
  {
   "cell_type": "code",
   "execution_count": 1,
   "id": "3e88cce4",
   "metadata": {},
   "outputs": [],
   "source": [
    "import hdbscan"
   ]
  },
  {
   "cell_type": "code",
   "execution_count": 5,
   "id": "3d43f2e1",
   "metadata": {},
   "outputs": [
    {
     "data": {
      "text/plain": [
       "True"
      ]
     },
     "execution_count": 5,
     "metadata": {},
     "output_type": "execute_result"
    }
   ],
   "source": [
    "{'hi': 1} == {'hi': 1}"
   ]
  }
 ],
 "metadata": {
  "kernelspec": {
   "display_name": "Python 3 (ipykernel)",
   "language": "python",
   "name": "python3"
  },
  "language_info": {
   "codemirror_mode": {
    "name": "ipython",
    "version": 3
   },
   "file_extension": ".py",
   "mimetype": "text/x-python",
   "name": "python",
   "nbconvert_exporter": "python",
   "pygments_lexer": "ipython3",
   "version": "3.11.3"
  }
 },
 "nbformat": 4,
 "nbformat_minor": 5
}
