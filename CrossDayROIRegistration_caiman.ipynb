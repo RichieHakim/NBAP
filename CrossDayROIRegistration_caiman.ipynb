{
 "cells": [
  {
   "cell_type": "markdown",
   "id": "714393e9",
   "metadata": {},
   "source": [
    "You probably need around >=25GB for a session with ~4800 ROIs and a FOV=(512,1024)"
   ]
  },
  {
   "cell_type": "code",
   "execution_count": 1,
   "id": "92846ae4",
   "metadata": {},
   "outputs": [
    {
     "data": {
      "text/html": [
       "<style>.container {width:95% !important; }</style>"
      ],
      "text/plain": [
       "<IPython.core.display.HTML object>"
      ]
     },
     "metadata": {},
     "output_type": "display_data"
    },
    {
     "name": "stdout",
     "output_type": "stream",
     "text": [
      "Conda Environment: fr_env\n"
     ]
    }
   ],
   "source": [
    "# widen jupyter notebook window\n",
    "from IPython.core.display import display, HTML\n",
    "display(HTML(\"<style>.container {width:95% !important; }</style>\"))\n",
    "\n",
    "# check environment\n",
    "import os\n",
    "print(f'Conda Environment: ' + os.environ['CONDA_DEFAULT_ENV'])"
   ]
  },
  {
   "cell_type": "code",
   "execution_count": 2,
   "id": "c4eb1fa5",
   "metadata": {},
   "outputs": [],
   "source": [
    "from pathlib import Path\n",
    "import scipy.io\n",
    "import scipy.sparse\n",
    "import matplotlib.pyplot as plt\n",
    "import numpy as np\n",
    "import gc"
   ]
  },
  {
   "cell_type": "code",
   "execution_count": 3,
   "id": "62b420ad",
   "metadata": {},
   "outputs": [],
   "source": [
    "import sys\n",
    "sys.path.append(\"/n/data1/hms/neurobio/sabatini/rich/github_repos/\")\n",
    "\n",
    "%load_ext autoreload\n",
    "%autoreload 2\n",
    "from basic_neural_processing_modules import *"
   ]
  },
  {
   "cell_type": "code",
   "execution_count": 4,
   "id": "a658b23d",
   "metadata": {},
   "outputs": [],
   "source": [
    "dir_allOuterFolders = Path(\"/n/data1/hms/neurobio/sabatini/rich/data/res2p/round_5_experiments/mouse_2_6/scanimage/\")\n",
    "pathSuffixToStat = \"exp/suite2p/plane0/stat.npy\"\n",
    "paths_allOuterFolders, pathContents, pathNumerics = path_helpers.get_numeric_contents(dir_allOuterFolders, sort=True)\n",
    "\n",
    "paths_allOuterFolders = paths_allOuterFolders[2:-1]\n",
    "pathContents = pathContents[2:-1]\n",
    "pathNumerics = pathNumerics[2:-1]\n",
    "\n",
    "# paths_allOuterFolders = paths_allOuterFolders[2:3]\n",
    "# pathContents = pathContents[2:3]\n",
    "# pathNumerics = pathNumerics[2:3]"
   ]
  },
  {
   "cell_type": "code",
   "execution_count": 5,
   "id": "ce526e1c",
   "metadata": {},
   "outputs": [],
   "source": [
    "paths_allStat = [path / pathSuffixToStat for path in paths_allOuterFolders]"
   ]
  },
  {
   "cell_type": "markdown",
   "id": "b3f07b47",
   "metadata": {},
   "source": [
    "## Make spatial_footprints\n",
    "Make a lazy list of all the spatial_footprints"
   ]
  },
  {
   "cell_type": "code",
   "execution_count": 41,
   "id": "6d7c3260",
   "metadata": {},
   "outputs": [],
   "source": [
    "sf_all = ca2p_preprocessing.import_and_convert_to_CellReg_spatialFootprints(paths_allStat, frame_height=512, frame_width=1024)"
   ]
  },
  {
   "cell_type": "markdown",
   "id": "20470934",
   "metadata": {},
   "source": [
    "## Save spatial_footprints as sparse matrices\n",
    "I hate this code, but it's necessary to remain low(ish) memory when saving"
   ]
  },
  {
   "cell_type": "code",
   "execution_count": 6,
   "id": "464d91ec",
   "metadata": {},
   "outputs": [],
   "source": [
    "save_dir = Path('/n/data1/hms/neurobio/sabatini/rich/analysis/mouse_2_6/neural_data/spatialFootprint_forCellReg/').resolve()\n",
    "save_filePrefix = 'sf_sparse'"
   ]
  },
  {
   "cell_type": "code",
   "execution_count": null,
   "id": "f2e51131",
   "metadata": {},
   "outputs": [],
   "source": [
    "sf_sparse = [scipy.sparse.csc.csc_matrix(sf_all[ii].reshape(sf_all[ii].shape[0],-1).T) for ii in range(len(sf_all))]"
   ]
  },
  {
   "cell_type": "code",
   "execution_count": 7,
   "id": "4fcc8792",
   "metadata": {},
   "outputs": [],
   "source": [
    "def sparse_memory_usage(mat):\n",
    "    try:\n",
    "        return mat.data.nbytes + mat.indptr.nbytes + mat.indices.nbytes\n",
    "    except AttributeError:\n",
    "        return -1"
   ]
  },
  {
   "cell_type": "code",
   "execution_count": 32,
   "id": "87ae8477",
   "metadata": {},
   "outputs": [],
   "source": [
    "[scipy.sparse.save_npz(save_dir / f'{save_filePrefix}_{ii}.npz', sf_sparse[ii], compressed=True) for ii in range(len(sf_all))];"
   ]
  },
  {
   "cell_type": "markdown",
   "id": "a29f54e3",
   "metadata": {},
   "source": [
    "save all the shapes of the matrices in a separate file"
   ]
  },
  {
   "cell_type": "code",
   "execution_count": null,
   "id": "39bdf1ff",
   "metadata": {},
   "outputs": [],
   "source": [
    "np.save(save_dir / 'sf_SHAPES.npy', np.array([sfs.shape for sfs in sf_all]))"
   ]
  },
  {
   "cell_type": "code",
   "execution_count": 7,
   "id": "2831e0a3",
   "metadata": {},
   "outputs": [],
   "source": [
    "sf_sparse = [scipy.sparse.load_npz(save_dir / f'{save_filePrefix}_{ii}.npz') for ii in range(8)]"
   ]
  },
  {
   "cell_type": "code",
   "execution_count": 9,
   "id": "20b88753",
   "metadata": {},
   "outputs": [
    {
     "data": {
      "text/plain": [
       "(524288, 4885)"
      ]
     },
     "execution_count": 9,
     "metadata": {},
     "output_type": "execute_result"
    }
   ],
   "source": [
    "sf_sparse[0].T.shape"
   ]
  },
  {
   "cell_type": "code",
   "execution_count": 13,
   "id": "b856aaba",
   "metadata": {},
   "outputs": [],
   "source": [
    "%autoreload 2\n",
    "from NBAP import caiman_multiday_roi_registration"
   ]
  },
  {
   "cell_type": "code",
   "execution_count": 35,
   "id": "415e2e52",
   "metadata": {},
   "outputs": [],
   "source": [
    "sf_sparse2 = [sfs[:10].T for sfs in sf_sparse]"
   ]
  },
  {
   "cell_type": "code",
   "execution_count": null,
   "id": "342cf492",
   "metadata": {},
   "outputs": [],
   "source": [
    "test = caiman_multiday_roi_registration.register_multisession(sf_sparse2, (512, 1024))"
   ]
  },
  {
   "cell_type": "code",
   "execution_count": 22,
   "id": "4cf4e3f2",
   "metadata": {},
   "outputs": [],
   "source": [
    "A_union, assignments, matchings = test"
   ]
  },
  {
   "cell_type": "code",
   "execution_count": 24,
   "id": "f99c81d0",
   "metadata": {},
   "outputs": [
    {
     "data": {
      "text/plain": [
       "(524288, 38)"
      ]
     },
     "execution_count": 24,
     "metadata": {},
     "output_type": "execute_result"
    }
   ],
   "source": [
    "A_union.shape"
   ]
  },
  {
   "cell_type": "code",
   "execution_count": 39,
   "id": "70b947d8",
   "metadata": {},
   "outputs": [
    {
     "data": {
      "text/plain": [
       "array([[ 0.,  4.,  3.,  4., nan, nan, nan, nan],\n",
       "       [ 1., nan, nan, nan,  0.,  1., nan, nan],\n",
       "       [ 2., nan, nan, nan, nan, nan, nan, nan],\n",
       "       [ 3., nan, nan, nan, nan, nan, nan, nan],\n",
       "       [ 4., nan, nan, nan, nan, nan, nan, nan],\n",
       "       [ 5., nan, nan, nan, nan, nan, nan, nan],\n",
       "       [ 6., nan, nan, nan, nan, nan, nan, nan],\n",
       "       [ 7., nan, nan,  6.,  3., nan, nan, nan],\n",
       "       [ 8., nan, nan, nan, nan, nan, nan, nan],\n",
       "       [ 9., nan, nan, nan, nan, nan, nan, nan],\n",
       "       [nan,  0.,  0.,  0., nan, nan,  3.,  4.],\n",
       "       [nan,  1.,  2., nan, nan,  3.,  1.,  0.],\n",
       "       [nan,  2., nan,  3., nan, nan, nan, nan],\n",
       "       [nan,  3.,  5.,  8., nan, nan, nan, nan],\n",
       "       [nan,  5., nan, nan, nan, nan, nan, nan],\n",
       "       [nan,  6., nan, nan, nan, nan,  4.,  1.],\n",
       "       [nan,  7., nan, nan, nan, nan, nan, nan],\n",
       "       [nan,  8., nan, nan,  4., nan, nan, nan],\n",
       "       [nan,  9.,  9., nan, nan, nan, nan, nan],\n",
       "       [nan, nan,  1., nan, nan,  2., nan, nan],\n",
       "       [nan, nan,  4.,  2., nan, nan, nan, nan],\n",
       "       [nan, nan,  6.,  5.,  2.,  6., nan, nan],\n",
       "       [nan, nan,  7.,  7., nan, nan, nan, nan],\n",
       "       [nan, nan,  8.,  1.,  1., nan,  8.,  6.],\n",
       "       [nan, nan, nan,  9., nan, nan, nan, nan],\n",
       "       [nan, nan, nan, nan,  5.,  4., nan, nan],\n",
       "       [nan, nan, nan, nan,  6., nan, nan, nan],\n",
       "       [nan, nan, nan, nan,  7.,  7.,  7.,  8.],\n",
       "       [nan, nan, nan, nan,  8., nan, nan, nan],\n",
       "       [nan, nan, nan, nan,  9., nan, nan, nan],\n",
       "       [nan, nan, nan, nan, nan,  0.,  0.,  7.],\n",
       "       [nan, nan, nan, nan, nan,  5.,  2., nan],\n",
       "       [nan, nan, nan, nan, nan,  8., nan, nan],\n",
       "       [nan, nan, nan, nan, nan,  9.,  6., nan],\n",
       "       [nan, nan, nan, nan, nan, nan,  5.,  3.],\n",
       "       [nan, nan, nan, nan, nan, nan,  9.,  5.],\n",
       "       [nan, nan, nan, nan, nan, nan, nan,  2.],\n",
       "       [nan, nan, nan, nan, nan, nan, nan,  9.]])"
      ]
     },
     "execution_count": 39,
     "metadata": {},
     "output_type": "execute_result"
    }
   ],
   "source": [
    "assignments"
   ]
  },
  {
   "cell_type": "code",
   "execution_count": 32,
   "id": "a2830b7c",
   "metadata": {},
   "outputs": [
    {
     "data": {
      "text/plain": [
       "[[0, 1, 2, 3, 4, 5, 6, 7, 8, 9],\n",
       " [10, 11, 12, 13, 0, 14, 15, 16, 17, 18],\n",
       " [10, 19, 11, 0, 20, 13, 21, 22, 23, 18],\n",
       " [10, 23, 20, 12, 0, 21, 7, 22, 13, 24],\n",
       " [1, 23, 21, 7, 17, 25, 26, 27, 28, 29],\n",
       " [30, 1, 19, 11, 25, 31, 21, 27, 32, 33],\n",
       " [30, 11, 31, 10, 15, 34, 33, 27, 23, 35],\n",
       " [11, 15, 36, 34, 10, 35, 23, 30, 27, 37]]"
      ]
     },
     "execution_count": 32,
     "metadata": {},
     "output_type": "execute_result"
    }
   ],
   "source": [
    "matchings"
   ]
  },
  {
   "cell_type": "code",
   "execution_count": 42,
   "id": "e72cafb8",
   "metadata": {},
   "outputs": [
    {
     "data": {
      "text/plain": [
       "<matplotlib.image.AxesImage at 0x7fbf0d9cadc0>"
      ]
     },
     "execution_count": 42,
     "metadata": {},
     "output_type": "execute_result"
    },
    {
     "data": {
      "image/png": "[encoded data removed]",
      "text/plain": [
       "<Figure size 432x288 with 1 Axes>"
      ]
     },
     "metadata": {
      "needs_background": "light"
     },
     "output_type": "display_data"
    }
   ],
   "source": [
    "plt.figure()\n",
    "plt.imshow(sf_all[0][0])"
   ]
  },
  {
   "cell_type": "code",
   "execution_count": 48,
   "id": "1a4c1ff3",
   "metadata": {},
   "outputs": [
    {
     "data": {
      "text/plain": [
       "<matplotlib.image.AxesImage at 0x7fbf0ec6ef40>"
      ]
     },
     "execution_count": 48,
     "metadata": {},
     "output_type": "execute_result"
    },
    {
     "data": {
      "image/png": "[encoded data removed]",
      "text/plain": [
       "<Figure size 432x288 with 1 Axes>"
      ]
     },
     "metadata": {
      "needs_background": "light"
     },
     "output_type": "display_data"
    }
   ],
   "source": [
    "plt.figure()\n",
    "plt.imshow(sf_all[3][4])"
   ]
  },
  {
   "cell_type": "code",
   "execution_count": null,
   "id": "814b97fd",
   "metadata": {},
   "outputs": [],
   "source": []
  }
 ],
 "metadata": {
  "kernelspec": {
   "display_name": "Python 3 (ipykernel)",
   "language": "python",
   "name": "python3"
  },
  "language_info": {
   "codemirror_mode": {
    "name": "ipython",
    "version": 3
   },
   "file_extension": ".py",
   "mimetype": "text/x-python",
   "name": "python",
   "nbconvert_exporter": "python",
   "pygments_lexer": "ipython3",
   "version": "3.8.12"
  }
 },
 "nbformat": 4,
 "nbformat_minor": 5
}
