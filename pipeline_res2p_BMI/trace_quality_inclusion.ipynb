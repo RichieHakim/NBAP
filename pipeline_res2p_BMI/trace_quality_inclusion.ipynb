{
 "cells": [
  {
   "cell_type": "code",
   "execution_count": 1,
   "id": "9b64a15e",
   "metadata": {},
   "outputs": [
    {
     "data": {
      "text/html": [
       "<style>.container { width:95% !important; }</style>"
      ],
      "text/plain": [
       "<IPython.core.display.HTML object>"
      ]
     },
     "metadata": {},
     "output_type": "display_data"
    }
   ],
   "source": [
    "from IPython.display import display, HTML\n",
    "display(HTML(\"<style>.container { width:95% !important; }</style>\"))"
   ]
  },
  {
   "cell_type": "code",
   "execution_count": 2,
   "id": "f4e46adb",
   "metadata": {},
   "outputs": [],
   "source": [
    "from pathlib import Path\n",
    "import copy\n",
    "\n",
    "import numpy as np\n",
    "import scipy.sparse\n",
    "import matplotlib.pyplot as plt\n",
    "from tqdm import tqdm"
   ]
  },
  {
   "cell_type": "code",
   "execution_count": 3,
   "id": "0f5b3134",
   "metadata": {},
   "outputs": [],
   "source": [
    "dir_s2p_outer         = Path(r'/media/rich/bigSSD/downloads_tmp/tmp_data/mouse_0322R/statFiles/').resolve()"
   ]
  },
  {
   "cell_type": "code",
   "execution_count": 4,
   "id": "a7ce187c",
   "metadata": {},
   "outputs": [],
   "source": [
    "# import sys\n",
    "# sys.path.append(str(dir_github))\n",
    "\n",
    "%load_ext autoreload\n",
    "%autoreload 2\n",
    "\n",
    "# from basic_neural_processing_modules import ca2p_preprocessing, file_helpers\n",
    "from bnpm import ca2p_preprocessing, file_helpers, path_helpers\n",
    "import bnpm.path_helpers, bnpm.file_helpers"
   ]
  },
  {
   "cell_type": "code",
   "execution_count": 5,
   "id": "25ce97e6",
   "metadata": {},
   "outputs": [
    {
     "name": "stdout",
     "output_type": "stream",
     "text": [
      "The autoreload extension is already loaded. To reload it, use:\n",
      "  %reload_ext autoreload\n"
     ]
    }
   ],
   "source": [
    "%load_ext autoreload\n",
    "%autoreload 2\n",
    "import roicat\n"
   ]
  },
  {
   "cell_type": "code",
   "execution_count": 6,
   "id": "8c8d5b2e",
   "metadata": {},
   "outputs": [],
   "source": [
    "paths_tmp = bnpm.path_helpers.find_paths(\n",
    "    dir_outer=dir_s2p_outer,\n",
    "    reMatch='stat.npy',\n",
    "    depth=4,\n",
    ")"
   ]
  },
  {
   "cell_type": "code",
   "execution_count": 7,
   "id": "2edcc1ee",
   "metadata": {},
   "outputs": [],
   "source": [
    "dates_of_files = [Path(d).parent.name for d in paths_tmp]"
   ]
  },
  {
   "cell_type": "code",
   "execution_count": 8,
   "id": "31fb127c",
   "metadata": {},
   "outputs": [],
   "source": [
    "dirs_s2p_all = {d: str(Path(p).resolve().parent) for d, p in zip(dates_of_files, paths_tmp)}"
   ]
  },
  {
   "cell_type": "code",
   "execution_count": 9,
   "id": "4daaa109",
   "metadata": {},
   "outputs": [],
   "source": [
    "paths_s2p = {fn: {d: str(Path(p) / fn) for d, p in dirs_s2p_all.items()} for fn in ['stat.npy', 'ops.npy', 'F.npy', 'Fneu.npy']}"
   ]
  },
  {
   "cell_type": "code",
   "execution_count": null,
   "id": "e2c07ce6",
   "metadata": {},
   "outputs": [],
   "source": []
  },
  {
   "cell_type": "code",
   "execution_count": 10,
   "id": "da30bc83",
   "metadata": {},
   "outputs": [
    {
     "data": {
      "text/plain": [
       "{'20230419': '/media/rich/bigSSD/downloads_tmp/tmp_data/mouse_0322R/statFiles/20230419',\n",
       " '20230420': '/media/rich/bigSSD/downloads_tmp/tmp_data/mouse_0322R/statFiles/20230420',\n",
       " '20230424': '/media/rich/bigSSD/downloads_tmp/tmp_data/mouse_0322R/statFiles/20230424',\n",
       " '20230425': '/media/rich/bigSSD/downloads_tmp/tmp_data/mouse_0322R/statFiles/20230425',\n",
       " '20230426': '/media/rich/bigSSD/downloads_tmp/tmp_data/mouse_0322R/statFiles/20230426',\n",
       " '20230427': '/media/rich/bigSSD/downloads_tmp/tmp_data/mouse_0322R/statFiles/20230427',\n",
       " '20230428': '/media/rich/bigSSD/downloads_tmp/tmp_data/mouse_0322R/statFiles/20230428',\n",
       " '20230429': '/media/rich/bigSSD/downloads_tmp/tmp_data/mouse_0322R/statFiles/20230429',\n",
       " '20230430': '/media/rich/bigSSD/downloads_tmp/tmp_data/mouse_0322R/statFiles/20230430',\n",
       " '20230501': '/media/rich/bigSSD/downloads_tmp/tmp_data/mouse_0322R/statFiles/20230501',\n",
       " '20230502': '/media/rich/bigSSD/downloads_tmp/tmp_data/mouse_0322R/statFiles/20230502',\n",
       " '20230503': '/media/rich/bigSSD/downloads_tmp/tmp_data/mouse_0322R/statFiles/20230503',\n",
       " '20230504': '/media/rich/bigSSD/downloads_tmp/tmp_data/mouse_0322R/statFiles/20230504',\n",
       " '20230505': '/media/rich/bigSSD/downloads_tmp/tmp_data/mouse_0322R/statFiles/20230505',\n",
       " '20230506': '/media/rich/bigSSD/downloads_tmp/tmp_data/mouse_0322R/statFiles/20230506',\n",
       " '20230507': '/media/rich/bigSSD/downloads_tmp/tmp_data/mouse_0322R/statFiles/20230507',\n",
       " '20230508': '/media/rich/bigSSD/downloads_tmp/tmp_data/mouse_0322R/statFiles/20230508',\n",
       " '20230509': '/media/rich/bigSSD/downloads_tmp/tmp_data/mouse_0322R/statFiles/20230509'}"
      ]
     },
     "execution_count": 10,
     "metadata": {},
     "output_type": "execute_result"
    }
   ],
   "source": [
    "dirs_s2p_all"
   ]
  },
  {
   "cell_type": "code",
   "execution_count": 11,
   "id": "3c29f426",
   "metadata": {},
   "outputs": [
    {
     "name": "stdout",
     "output_type": "stream",
     "text": [
      "iscell.npy not found in /media/rich/bigSSD/downloads_tmp/tmp_data/mouse_0322R/statFiles/20230419\n",
      "iscell.npy not found in /media/rich/bigSSD/downloads_tmp/tmp_data/mouse_0322R/statFiles/20230420\n",
      "iscell.npy not found in /media/rich/bigSSD/downloads_tmp/tmp_data/mouse_0322R/statFiles/20230426\n",
      "iscell.npy not found in /media/rich/bigSSD/downloads_tmp/tmp_data/mouse_0322R/statFiles/20230427\n",
      "iscell.npy not found in /media/rich/bigSSD/downloads_tmp/tmp_data/mouse_0322R/statFiles/20230428\n",
      "iscell.npy not found in /media/rich/bigSSD/downloads_tmp/tmp_data/mouse_0322R/statFiles/20230429\n",
      "iscell.npy not found in /media/rich/bigSSD/downloads_tmp/tmp_data/mouse_0322R/statFiles/20230430\n",
      "iscell.npy not found in /media/rich/bigSSD/downloads_tmp/tmp_data/mouse_0322R/statFiles/20230501\n",
      "iscell.npy not found in /media/rich/bigSSD/downloads_tmp/tmp_data/mouse_0322R/statFiles/20230502\n",
      "iscell.npy not found in /media/rich/bigSSD/downloads_tmp/tmp_data/mouse_0322R/statFiles/20230503\n",
      "iscell.npy not found in /media/rich/bigSSD/downloads_tmp/tmp_data/mouse_0322R/statFiles/20230504\n",
      "iscell.npy not found in /media/rich/bigSSD/downloads_tmp/tmp_data/mouse_0322R/statFiles/20230505\n",
      "iscell.npy not found in /media/rich/bigSSD/downloads_tmp/tmp_data/mouse_0322R/statFiles/20230506\n",
      "iscell.npy not found in /media/rich/bigSSD/downloads_tmp/tmp_data/mouse_0322R/statFiles/20230507\n",
      "iscell.npy not found in /media/rich/bigSSD/downloads_tmp/tmp_data/mouse_0322R/statFiles/20230508\n",
      "iscell.npy not found in /media/rich/bigSSD/downloads_tmp/tmp_data/mouse_0322R/statFiles/20230509\n"
     ]
    }
   ],
   "source": [
    "## == IMPORT DATA ==\n",
    "data_s2p_all = {d: ca2p_preprocessing.import_s2p(p) for d, p in dirs_s2p_all.items()}"
   ]
  },
  {
   "cell_type": "code",
   "execution_count": 12,
   "id": "5184925b",
   "metadata": {},
   "outputs": [],
   "source": [
    "data_s2p_all = {d: {\n",
    "    'F': s[0], \n",
    "    'Fneu': s[1], \n",
    "    'iscell': s[2], \n",
    "    'ops': s[3], \n",
    "    'spks': s[4], \n",
    "    'stat': s[5]\n",
    "} for d, s in data_s2p_all.items()}"
   ]
  },
  {
   "cell_type": "code",
   "execution_count": 20,
   "id": "a813ffa7",
   "metadata": {
    "scrolled": true
   },
   "outputs": [
    {
     "name": "stderr",
     "output_type": "stream",
     "text": [
      "\r",
      "  0%|                                                    | 0/18 [00:00<?, ?it/s]"
     ]
    },
    {
     "name": "stdout",
     "output_type": "stream",
     "text": [
      "Calculated dFoF. Total elapsed time: 0.81 seconds\n"
     ]
    },
    {
     "name": "stderr",
     "output_type": "stream",
     "text": [
      "\n",
      "  0%|                                                    | 0/36 [00:00<?, ?it/s]\u001b[A\n",
      "  3%|█▏                                          | 1/36 [00:19<11:09, 19.14s/it]\u001b[A\n",
      "  6%|██▍                                         | 2/36 [00:19<04:31,  8.00s/it]\u001b[A\n",
      "  8%|███▋                                        | 3/36 [00:20<02:34,  4.68s/it]\u001b[A\n",
      " 14%|██████                                      | 5/36 [00:20<01:10,  2.27s/it]\u001b[A\n",
      " 17%|███████▎                                    | 6/36 [00:21<00:50,  1.68s/it]\u001b[A\n",
      " 39%|████████████████▋                          | 14/36 [00:21<00:08,  2.49it/s]\u001b[A\n",
      " 50%|█████████████████████▌                     | 18/36 [00:21<00:05,  3.43it/s]\u001b[A\n",
      " 58%|█████████████████████████                  | 21/36 [00:21<00:03,  4.24it/s]\u001b[A\n",
      " 64%|███████████████████████████▍               | 23/36 [00:22<00:02,  4.35it/s]\u001b[A\n",
      " 78%|█████████████████████████████████▍         | 28/36 [00:22<00:01,  6.80it/s]\u001b[A\n",
      "100%|███████████████████████████████████████████| 36/36 [00:22<00:00,  1.58it/s]\u001b[A\n"
     ]
    },
    {
     "name": "stdout",
     "output_type": "stream",
     "text": [
      "Calculated dFoF. Total elapsed time: 35.44 seconds\n"
     ]
    },
    {
     "name": "stderr",
     "output_type": "stream",
     "text": [
      "\r",
      "  6%|██▍                                         | 1/18 [00:42<12:06, 42.74s/it]"
     ]
    },
    {
     "name": "stdout",
     "output_type": "stream",
     "text": [
      "ROIs excluded: 634 / 2413\n",
      "ROIs included: 1779 / 2413\n",
      "Calculated dFoF. Total elapsed time: 0.83 seconds\n"
     ]
    },
    {
     "name": "stderr",
     "output_type": "stream",
     "text": [
      "\n",
      "  0%|                                                    | 0/36 [00:00<?, ?it/s]\u001b[A\n",
      "  3%|█▏                                          | 1/36 [00:19<11:10, 19.17s/it]\u001b[A\n",
      "  6%|██▍                                         | 2/36 [00:20<04:46,  8.44s/it]\u001b[A\n",
      "  8%|███▋                                        | 3/36 [00:21<02:47,  5.09s/it]\u001b[A\n",
      " 28%|███████████▉                               | 10/36 [00:21<00:24,  1.04it/s]\u001b[A\n",
      " 31%|█████████████▏                             | 11/36 [00:23<00:26,  1.05s/it]\u001b[A\n",
      " 58%|█████████████████████████                  | 21/36 [00:23<00:05,  2.72it/s]\u001b[A\n",
      " 64%|███████████████████████████▍               | 23/36 [00:23<00:04,  2.91it/s]\u001b[A\n",
      "100%|███████████████████████████████████████████| 36/36 [00:24<00:00,  1.50it/s]\u001b[A\n"
     ]
    },
    {
     "name": "stdout",
     "output_type": "stream",
     "text": [
      "Calculated dFoF. Total elapsed time: 36.68 seconds\n"
     ]
    },
    {
     "name": "stderr",
     "output_type": "stream",
     "text": [
      "\r",
      " 11%|████▉                                       | 2/18 [01:26<11:31, 43.20s/it]"
     ]
    },
    {
     "name": "stdout",
     "output_type": "stream",
     "text": [
      "ROIs excluded: 594 / 2431\n",
      "ROIs included: 1837 / 2431\n",
      "Calculated dFoF. Total elapsed time: 0.87 seconds\n"
     ]
    },
    {
     "name": "stderr",
     "output_type": "stream",
     "text": [
      "\n",
      "  0%|                                                    | 0/36 [00:00<?, ?it/s]\u001b[A\n",
      "  3%|█▏                                          | 1/36 [00:20<11:48, 20.25s/it]\u001b[A\n",
      "  6%|██▍                                         | 2/36 [00:21<05:06,  9.03s/it]\u001b[A\n",
      " 14%|██████                                      | 5/36 [00:23<01:33,  3.01s/it]\u001b[A\n",
      " 67%|████████████████████████████▋              | 24/36 [00:23<00:05,  2.38it/s]\u001b[A\n",
      " 75%|████████████████████████████████▎          | 27/36 [00:24<00:03,  2.62it/s]\u001b[A\n",
      "100%|███████████████████████████████████████████| 36/36 [00:24<00:00,  1.47it/s]\u001b[A\n"
     ]
    },
    {
     "name": "stdout",
     "output_type": "stream",
     "text": [
      "Calculated dFoF. Total elapsed time: 37.5 seconds\n"
     ]
    },
    {
     "name": "stderr",
     "output_type": "stream",
     "text": [
      "\r",
      " 17%|███████▎                                    | 3/18 [02:15<11:27, 45.84s/it]"
     ]
    },
    {
     "name": "stdout",
     "output_type": "stream",
     "text": [
      "ROIs excluded: 735 / 2576\n",
      "ROIs included: 1841 / 2576\n",
      "Calculated dFoF. Total elapsed time: 0.82 seconds\n"
     ]
    },
    {
     "name": "stderr",
     "output_type": "stream",
     "text": [
      "\n",
      "  0%|                                                    | 0/36 [00:00<?, ?it/s]\u001b[A\n",
      "  3%|█▏                                          | 1/36 [00:18<10:46, 18.48s/it]\u001b[A\n",
      "  6%|██▍                                         | 2/36 [00:19<04:35,  8.11s/it]\u001b[A\n",
      "  8%|███▋                                        | 3/36 [00:19<02:27,  4.48s/it]\u001b[A\n",
      " 11%|████▉                                       | 4/36 [00:21<01:50,  3.45s/it]\u001b[A\n",
      " 39%|████████████████▋                          | 14/36 [00:21<00:11,  1.89it/s]\u001b[A\n",
      " 50%|█████████████████████▌                     | 18/36 [00:22<00:07,  2.26it/s]\u001b[A\n",
      " 64%|███████████████████████████▍               | 23/36 [00:23<00:04,  3.12it/s]\u001b[A\n",
      "100%|███████████████████████████████████████████| 36/36 [00:23<00:00,  1.54it/s]\u001b[A\n"
     ]
    },
    {
     "name": "stdout",
     "output_type": "stream",
     "text": [
      "Calculated dFoF. Total elapsed time: 37.42 seconds\n"
     ]
    },
    {
     "name": "stderr",
     "output_type": "stream",
     "text": [
      "\r",
      " 22%|█████████▊                                  | 4/18 [03:03<10:54, 46.73s/it]"
     ]
    },
    {
     "name": "stdout",
     "output_type": "stream",
     "text": [
      "ROIs excluded: 657 / 2464\n",
      "ROIs included: 1807 / 2464\n",
      "Calculated dFoF. Total elapsed time: 0.77 seconds\n"
     ]
    },
    {
     "name": "stderr",
     "output_type": "stream",
     "text": [
      "\n",
      "  0%|                                                    | 0/36 [00:00<?, ?it/s]\u001b[A\n",
      "  3%|█▏                                          | 1/36 [00:18<10:47, 18.50s/it]\u001b[A\n",
      " 11%|████▉                                       | 4/36 [00:18<01:56,  3.63s/it]\u001b[A\n",
      " 19%|████████▌                                   | 7/36 [00:20<00:54,  1.89s/it]\u001b[A\n",
      " 22%|█████████▊                                  | 8/36 [00:21<00:48,  1.74s/it]\u001b[A\n",
      " 36%|███████████████▌                           | 13/36 [00:21<00:16,  1.38it/s]\u001b[A\n",
      " 50%|█████████████████████▌                     | 18/36 [00:21<00:07,  2.28it/s]\u001b[A\n",
      " 64%|███████████████████████████▍               | 23/36 [00:22<00:04,  3.17it/s]\u001b[A\n",
      "100%|███████████████████████████████████████████| 36/36 [00:22<00:00,  1.59it/s]\u001b[A\n"
     ]
    },
    {
     "name": "stdout",
     "output_type": "stream",
     "text": [
      "Calculated dFoF. Total elapsed time: 37.67 seconds\n"
     ]
    },
    {
     "name": "stderr",
     "output_type": "stream",
     "text": [
      "\r",
      " 28%|████████████▏                               | 5/18 [03:50<10:11, 47.06s/it]"
     ]
    },
    {
     "name": "stdout",
     "output_type": "stream",
     "text": [
      "ROIs excluded: 901 / 2297\n",
      "ROIs included: 1396 / 2297\n",
      "Calculated dFoF. Total elapsed time: 0.8 seconds\n"
     ]
    },
    {
     "name": "stderr",
     "output_type": "stream",
     "text": [
      "\n",
      "  0%|                                                    | 0/36 [00:00<?, ?it/s]\u001b[A\n",
      "  3%|█▏                                          | 1/36 [00:18<10:36, 18.18s/it]\u001b[A\n",
      "  8%|███▋                                        | 3/36 [00:18<02:42,  4.91s/it]\u001b[A\n",
      " 14%|██████                                      | 5/36 [00:18<01:15,  2.43s/it]\u001b[A\n",
      " 17%|███████▎                                    | 6/36 [00:19<00:58,  1.94s/it]\u001b[A\n",
      " 33%|██████████████▎                            | 12/36 [00:20<00:15,  1.53it/s]\u001b[A\n",
      " 36%|███████████████▌                           | 13/36 [00:22<00:19,  1.17it/s]\u001b[A\n",
      " 64%|███████████████████████████▍               | 23/36 [00:22<00:03,  3.45it/s]\u001b[A\n",
      " 78%|█████████████████████████████████▍         | 28/36 [00:22<00:01,  4.89it/s]\u001b[A\n",
      "100%|███████████████████████████████████████████| 36/36 [00:22<00:00,  1.60it/s]\u001b[A\n"
     ]
    },
    {
     "name": "stdout",
     "output_type": "stream",
     "text": [
      "Calculated dFoF. Total elapsed time: 38.29 seconds\n"
     ]
    },
    {
     "name": "stderr",
     "output_type": "stream",
     "text": [
      "\r",
      " 33%|██████████████▋                             | 6/18 [04:39<09:28, 47.39s/it]"
     ]
    },
    {
     "name": "stdout",
     "output_type": "stream",
     "text": [
      "ROIs excluded: 627 / 2314\n",
      "ROIs included: 1687 / 2314\n",
      "Calculated dFoF. Total elapsed time: 0.89 seconds\n"
     ]
    },
    {
     "name": "stderr",
     "output_type": "stream",
     "text": [
      "\n",
      "  0%|                                                    | 0/36 [00:00<?, ?it/s]\u001b[A\n",
      "  3%|█▏                                          | 1/36 [00:19<11:06, 19.03s/it]\u001b[A\n",
      "  6%|██▍                                         | 2/36 [00:19<04:43,  8.34s/it]\u001b[A\n",
      "  8%|███▋                                        | 3/36 [00:20<02:31,  4.60s/it]\u001b[A\n",
      " 14%|██████                                      | 5/36 [00:20<01:03,  2.04s/it]\u001b[A\n",
      " 17%|███████▎                                    | 6/36 [00:21<00:55,  1.86s/it]\u001b[A\n",
      " 22%|█████████▊                                  | 8/36 [00:22<00:31,  1.14s/it]\u001b[A\n",
      " 44%|███████████████████                        | 16/36 [00:22<00:07,  2.68it/s]\u001b[A\n",
      " 58%|█████████████████████████                  | 21/36 [00:23<00:04,  3.40it/s]\u001b[A\n",
      "100%|███████████████████████████████████████████| 36/36 [00:23<00:00,  1.51it/s]\u001b[A\n"
     ]
    },
    {
     "name": "stdout",
     "output_type": "stream",
     "text": [
      "Calculated dFoF. Total elapsed time: 39.19 seconds\n"
     ]
    },
    {
     "name": "stderr",
     "output_type": "stream",
     "text": [
      "\r",
      " 39%|█████████████████                           | 7/18 [05:30<08:55, 48.71s/it]"
     ]
    },
    {
     "name": "stdout",
     "output_type": "stream",
     "text": [
      "ROIs excluded: 763 / 2603\n",
      "ROIs included: 1840 / 2603\n",
      "Calculated dFoF. Total elapsed time: 0.95 seconds\n"
     ]
    },
    {
     "name": "stderr",
     "output_type": "stream",
     "text": [
      "\n",
      "  0%|                                                    | 0/36 [00:00<?, ?it/s]\u001b[A\n",
      "  3%|█▏                                          | 1/36 [00:19<11:18, 19.38s/it]\u001b[A\n",
      "  6%|██▍                                         | 2/36 [00:20<04:55,  8.70s/it]\u001b[A\n",
      "  8%|███▋                                        | 3/36 [00:21<02:47,  5.07s/it]\u001b[A\n",
      " 14%|██████                                      | 5/36 [00:22<01:14,  2.41s/it]\u001b[A\n",
      " 17%|███████▎                                    | 6/36 [00:23<01:00,  2.01s/it]\u001b[A\n",
      " 28%|███████████▉                               | 10/36 [00:24<00:24,  1.06it/s]\u001b[A\n",
      " 44%|███████████████████                        | 16/36 [00:24<00:08,  2.39it/s]\u001b[A\n",
      " 50%|█████████████████████▌                     | 18/36 [00:24<00:06,  2.82it/s]\u001b[A\n",
      " 56%|███████████████████████▉                   | 20/36 [00:24<00:04,  3.50it/s]\u001b[A\n",
      " 61%|██████████████████████████▎                | 22/36 [00:25<00:04,  3.50it/s]\u001b[A\n",
      " 75%|████████████████████████████████▎          | 27/36 [00:25<00:01,  6.20it/s]\u001b[A\n",
      " 83%|███████████████████████████████████▊       | 30/36 [00:25<00:00,  7.32it/s]\u001b[A\n",
      " 89%|██████████████████████████████████████▏    | 32/36 [00:26<00:00,  7.02it/s]\u001b[A\n",
      "100%|███████████████████████████████████████████| 36/36 [00:26<00:00,  1.38it/s]\u001b[A\n"
     ]
    },
    {
     "name": "stdout",
     "output_type": "stream",
     "text": [
      "Calculated dFoF. Total elapsed time: 39.77 seconds\n"
     ]
    },
    {
     "name": "stderr",
     "output_type": "stream",
     "text": [
      "\r",
      " 44%|███████████████████▌                        | 8/18 [06:22<08:17, 49.75s/it]"
     ]
    },
    {
     "name": "stdout",
     "output_type": "stream",
     "text": [
      "ROIs excluded: 791 / 2785\n",
      "ROIs included: 1994 / 2785\n",
      "Calculated dFoF. Total elapsed time: 0.89 seconds\n"
     ]
    },
    {
     "name": "stderr",
     "output_type": "stream",
     "text": [
      "\n",
      "  0%|                                                    | 0/36 [00:00<?, ?it/s]\u001b[A\n",
      "  3%|█▏                                          | 1/36 [00:19<11:06, 19.05s/it]\u001b[A\n",
      "  6%|██▍                                         | 2/36 [00:20<05:04,  8.95s/it]\u001b[A\n",
      " 19%|████████▌                                   | 7/36 [00:21<00:50,  1.74s/it]\u001b[A\n",
      " 28%|███████████▉                               | 10/36 [00:22<00:32,  1.25s/it]\u001b[A\n",
      " 33%|██████████████▎                            | 12/36 [00:23<00:24,  1.01s/it]\u001b[A\n",
      " 58%|█████████████████████████                  | 21/36 [00:23<00:05,  2.71it/s]\u001b[A\n",
      " 72%|███████████████████████████████            | 26/36 [00:23<00:02,  3.88it/s]\u001b[A\n",
      " 83%|███████████████████████████████████▊       | 30/36 [00:24<00:01,  4.55it/s]\u001b[A\n",
      "100%|███████████████████████████████████████████| 36/36 [00:24<00:00,  1.47it/s]\u001b[A\n"
     ]
    },
    {
     "name": "stdout",
     "output_type": "stream",
     "text": [
      "Calculated dFoF. Total elapsed time: 39.26 seconds\n"
     ]
    },
    {
     "name": "stderr",
     "output_type": "stream",
     "text": [
      "\r",
      " 50%|██████████████████████                      | 9/18 [07:13<07:31, 50.15s/it]"
     ]
    },
    {
     "name": "stdout",
     "output_type": "stream",
     "text": [
      "ROIs excluded: 822 / 2659\n",
      "ROIs included: 1837 / 2659\n",
      "Calculated dFoF. Total elapsed time: 0.95 seconds\n"
     ]
    },
    {
     "name": "stderr",
     "output_type": "stream",
     "text": [
      "\n",
      "  0%|                                                    | 0/36 [00:00<?, ?it/s]\u001b[A\n",
      "  3%|█▏                                          | 1/36 [00:22<12:56, 22.18s/it]\u001b[A\n",
      " 11%|████▉                                       | 4/36 [00:22<02:21,  4.41s/it]\u001b[A\n",
      " 25%|███████████                                 | 9/36 [00:23<00:42,  1.58s/it]\u001b[A\n",
      " 44%|███████████████████                        | 16/36 [00:23<00:14,  1.39it/s]\u001b[A\n",
      " 50%|█████████████████████▌                     | 18/36 [00:24<00:11,  1.63it/s]\u001b[A\n",
      "100%|███████████████████████████████████████████| 36/36 [00:25<00:00,  1.42it/s]\u001b[A\n"
     ]
    },
    {
     "name": "stdout",
     "output_type": "stream",
     "text": [
      "Calculated dFoF. Total elapsed time: 40.12 seconds\n"
     ]
    },
    {
     "name": "stderr",
     "output_type": "stream",
     "text": [
      "\r",
      " 56%|███████████████████████▉                   | 10/18 [08:05<06:46, 50.84s/it]"
     ]
    },
    {
     "name": "stdout",
     "output_type": "stream",
     "text": [
      "ROIs excluded: 809 / 2774\n",
      "ROIs included: 1965 / 2774\n",
      "Calculated dFoF. Total elapsed time: 0.81 seconds\n"
     ]
    },
    {
     "name": "stderr",
     "output_type": "stream",
     "text": [
      "\n",
      "  0%|                                                    | 0/36 [00:00<?, ?it/s]\u001b[A\n",
      "  3%|█▏                                          | 1/36 [00:16<09:50, 16.88s/it]\u001b[A\n",
      "  6%|██▍                                         | 2/36 [00:17<04:06,  7.26s/it]\u001b[A\n",
      "  8%|███▋                                        | 3/36 [00:17<02:18,  4.18s/it]\u001b[A\n",
      " 11%|████▉                                       | 4/36 [00:18<01:24,  2.63s/it]\u001b[A\n",
      " 14%|██████                                      | 5/36 [00:18<00:57,  1.85s/it]\u001b[A\n",
      " 25%|███████████                                 | 9/36 [00:18<00:16,  1.61it/s]\u001b[A\n",
      " 31%|█████████████▏                             | 11/36 [00:18<00:11,  2.20it/s]\u001b[A\n",
      " 36%|███████████████▌                           | 13/36 [00:19<00:09,  2.36it/s]\u001b[A\n",
      " 42%|█████████████████▉                         | 15/36 [00:19<00:06,  3.03it/s]\u001b[A\n",
      " 72%|███████████████████████████████            | 26/36 [00:20<00:01,  7.91it/s]\u001b[A\n",
      " 78%|█████████████████████████████████▍         | 28/36 [00:20<00:00,  8.39it/s]\u001b[A\n",
      "100%|███████████████████████████████████████████| 36/36 [00:20<00:00,  1.73it/s]\u001b[A\n"
     ]
    },
    {
     "name": "stdout",
     "output_type": "stream",
     "text": [
      "Calculated dFoF. Total elapsed time: 34.92 seconds\n"
     ]
    },
    {
     "name": "stderr",
     "output_type": "stream",
     "text": [
      "\r",
      " 61%|██████████████████████████▎                | 11/18 [08:50<05:43, 49.05s/it]"
     ]
    },
    {
     "name": "stdout",
     "output_type": "stream",
     "text": [
      "ROIs excluded: 716 / 2382\n",
      "ROIs included: 1666 / 2382\n",
      "Calculated dFoF. Total elapsed time: 0.8 seconds\n"
     ]
    },
    {
     "name": "stderr",
     "output_type": "stream",
     "text": [
      "\n",
      "  0%|                                                    | 0/36 [00:00<?, ?it/s]\u001b[A\n",
      "  3%|█▏                                          | 1/36 [00:17<10:29, 17.98s/it]\u001b[A\n",
      " 14%|██████                                      | 5/36 [00:18<01:25,  2.75s/it]\u001b[A\n",
      " 19%|████████▌                                   | 7/36 [00:18<00:50,  1.73s/it]\u001b[A\n",
      " 25%|███████████                                 | 9/36 [00:18<00:31,  1.18s/it]\u001b[A\n",
      " 31%|█████████████▏                             | 11/36 [00:18<00:20,  1.22it/s]\u001b[A\n",
      " 36%|███████████████▌                           | 13/36 [00:19<00:13,  1.74it/s]\u001b[A\n",
      " 42%|█████████████████▉                         | 15/36 [00:19<00:09,  2.11it/s]\u001b[A\n",
      " 50%|█████████████████████▌                     | 18/36 [00:19<00:06,  2.97it/s]\u001b[A\n",
      " 69%|█████████████████████████████▊             | 25/36 [00:20<00:01,  5.69it/s]\u001b[A\n",
      "100%|███████████████████████████████████████████| 36/36 [00:20<00:00,  1.73it/s]\u001b[A\n"
     ]
    },
    {
     "name": "stdout",
     "output_type": "stream",
     "text": [
      "Calculated dFoF. Total elapsed time: 32.88 seconds\n"
     ]
    },
    {
     "name": "stderr",
     "output_type": "stream",
     "text": [
      "\r",
      " 67%|████████████████████████████▋              | 12/18 [09:34<04:44, 47.42s/it]"
     ]
    },
    {
     "name": "stdout",
     "output_type": "stream",
     "text": [
      "ROIs excluded: 647 / 2380\n",
      "ROIs included: 1733 / 2380\n",
      "Calculated dFoF. Total elapsed time: 0.79 seconds\n"
     ]
    },
    {
     "name": "stderr",
     "output_type": "stream",
     "text": [
      "\n",
      "  0%|                                                    | 0/36 [00:00<?, ?it/s]\u001b[A\n",
      "  3%|█▏                                          | 1/36 [00:17<10:20, 17.74s/it]\u001b[A\n",
      "  8%|███▋                                        | 3/36 [00:18<02:37,  4.78s/it]\u001b[A\n",
      " 11%|████▉                                       | 4/36 [00:18<01:44,  3.25s/it]\u001b[A\n",
      " 19%|████████▌                                   | 7/36 [00:18<00:38,  1.33s/it]\u001b[A\n",
      " 25%|███████████                                 | 9/36 [00:18<00:23,  1.15it/s]\u001b[A\n",
      " 31%|█████████████▏                             | 11/36 [00:19<00:17,  1.46it/s]\u001b[A\n",
      " 39%|████████████████▋                          | 14/36 [00:20<00:10,  2.02it/s]\u001b[A\n",
      " 58%|█████████████████████████                  | 21/36 [00:21<00:04,  3.60it/s]\u001b[A\n",
      "100%|███████████████████████████████████████████| 36/36 [00:21<00:00,  1.70it/s]\u001b[A\n"
     ]
    },
    {
     "name": "stdout",
     "output_type": "stream",
     "text": [
      "Calculated dFoF. Total elapsed time: 33.51 seconds\n"
     ]
    },
    {
     "name": "stderr",
     "output_type": "stream",
     "text": [
      "\r",
      " 72%|███████████████████████████████            | 13/18 [10:18<03:51, 46.34s/it]"
     ]
    },
    {
     "name": "stdout",
     "output_type": "stream",
     "text": [
      "ROIs excluded: 670 / 2406\n",
      "ROIs included: 1736 / 2406\n",
      "Calculated dFoF. Total elapsed time: 0.83 seconds\n"
     ]
    },
    {
     "name": "stderr",
     "output_type": "stream",
     "text": [
      "\n",
      "  0%|                                                    | 0/36 [00:00<?, ?it/s]\u001b[A\n",
      "  3%|█▏                                          | 1/36 [00:18<10:36, 18.19s/it]\u001b[A\n",
      "  8%|███▋                                        | 3/36 [00:18<02:42,  4.94s/it]\u001b[A\n",
      " 11%|████▉                                       | 4/36 [00:19<01:45,  3.31s/it]\u001b[A\n",
      " 14%|██████                                      | 5/36 [00:20<01:20,  2.60s/it]\u001b[A\n",
      " 33%|██████████████▎                            | 12/36 [00:20<00:14,  1.62it/s]\u001b[A\n",
      " 42%|█████████████████▉                         | 15/36 [00:20<00:10,  2.07it/s]\u001b[A\n",
      " 53%|██████████████████████▋                    | 19/36 [00:21<00:05,  3.16it/s]\u001b[A\n",
      " 61%|██████████████████████████▎                | 22/36 [00:21<00:03,  4.12it/s]\u001b[A\n",
      " 67%|████████████████████████████▋              | 24/36 [00:21<00:02,  4.78it/s]\u001b[A\n",
      " 72%|███████████████████████████████            | 26/36 [00:21<00:01,  5.00it/s]\u001b[A\n",
      "100%|███████████████████████████████████████████| 36/36 [00:22<00:00,  1.62it/s]\u001b[A\n"
     ]
    },
    {
     "name": "stdout",
     "output_type": "stream",
     "text": [
      "Calculated dFoF. Total elapsed time: 34.75 seconds\n"
     ]
    },
    {
     "name": "stderr",
     "output_type": "stream",
     "text": [
      "\r",
      " 78%|█████████████████████████████████▍         | 14/18 [11:03<03:04, 46.11s/it]"
     ]
    },
    {
     "name": "stdout",
     "output_type": "stream",
     "text": [
      "ROIs excluded: 674 / 2538\n",
      "ROIs included: 1864 / 2538\n",
      "Calculated dFoF. Total elapsed time: 0.75 seconds\n"
     ]
    },
    {
     "name": "stderr",
     "output_type": "stream",
     "text": [
      "\n",
      "  0%|                                                    | 0/36 [00:00<?, ?it/s]\u001b[A\n",
      "  3%|█▏                                          | 1/36 [00:16<09:48, 16.80s/it]\u001b[A\n",
      " 14%|██████                                      | 5/36 [00:17<01:21,  2.63s/it]\u001b[A\n",
      " 19%|████████▌                                   | 7/36 [00:17<00:48,  1.66s/it]\u001b[A\n",
      " 25%|███████████                                 | 9/36 [00:18<00:31,  1.17s/it]\u001b[A\n",
      " 31%|█████████████▏                             | 11/36 [00:18<00:20,  1.25it/s]\u001b[A\n",
      " 36%|███████████████▌                           | 13/36 [00:19<00:18,  1.25it/s]\u001b[A\n",
      " 42%|█████████████████▉                         | 15/36 [00:20<00:12,  1.65it/s]\u001b[A\n",
      " 64%|███████████████████████████▍               | 23/36 [00:20<00:03,  4.25it/s]\u001b[A\n",
      " 83%|███████████████████████████████████▊       | 30/36 [00:20<00:00,  6.20it/s]\u001b[A\n",
      "100%|███████████████████████████████████████████| 36/36 [00:20<00:00,  1.72it/s]\u001b[A\n"
     ]
    },
    {
     "name": "stdout",
     "output_type": "stream",
     "text": [
      "Calculated dFoF. Total elapsed time: 32.94 seconds\n"
     ]
    },
    {
     "name": "stderr",
     "output_type": "stream",
     "text": [
      "\r",
      " 83%|███████████████████████████████████▊       | 15/18 [11:46<02:14, 44.99s/it]"
     ]
    },
    {
     "name": "stdout",
     "output_type": "stream",
     "text": [
      "ROIs excluded: 744 / 2237\n",
      "ROIs included: 1493 / 2237\n",
      "Calculated dFoF. Total elapsed time: 0.79 seconds\n"
     ]
    },
    {
     "name": "stderr",
     "output_type": "stream",
     "text": [
      "\n",
      "  0%|                                                    | 0/36 [00:00<?, ?it/s]\u001b[A\n",
      "  3%|█▏                                          | 1/36 [00:17<10:19, 17.70s/it]\u001b[A\n",
      "  8%|███▋                                        | 3/36 [00:18<02:42,  4.93s/it]\u001b[A\n",
      " 17%|███████▎                                    | 6/36 [00:18<00:58,  1.94s/it]\u001b[A\n",
      " 22%|█████████▊                                  | 8/36 [00:19<00:37,  1.33s/it]\u001b[A\n",
      " 25%|███████████                                 | 9/36 [00:20<00:34,  1.27s/it]\u001b[A\n",
      " 42%|█████████████████▉                         | 15/36 [00:20<00:09,  2.14it/s]\u001b[A\n",
      " 50%|█████████████████████▌                     | 18/36 [00:20<00:06,  2.83it/s]\u001b[A\n",
      " 61%|██████████████████████████▎                | 22/36 [00:21<00:03,  3.71it/s]\u001b[A\n",
      " 67%|████████████████████████████▋              | 24/36 [00:21<00:02,  4.47it/s]\u001b[A\n",
      " 75%|████████████████████████████████▎          | 27/36 [00:21<00:01,  4.83it/s]\u001b[A\n",
      "100%|███████████████████████████████████████████| 36/36 [00:22<00:00,  1.63it/s]\u001b[A\n"
     ]
    },
    {
     "name": "stdout",
     "output_type": "stream",
     "text": [
      "Calculated dFoF. Total elapsed time: 35.11 seconds\n"
     ]
    },
    {
     "name": "stderr",
     "output_type": "stream",
     "text": [
      "\r",
      " 89%|██████████████████████████████████████▏    | 16/18 [12:31<01:30, 45.07s/it]"
     ]
    },
    {
     "name": "stdout",
     "output_type": "stream",
     "text": [
      "ROIs excluded: 705 / 2464\n",
      "ROIs included: 1759 / 2464\n",
      "Calculated dFoF. Total elapsed time: 0.72 seconds\n"
     ]
    },
    {
     "name": "stderr",
     "output_type": "stream",
     "text": [
      "\n",
      "  0%|                                                    | 0/36 [00:00<?, ?it/s]\u001b[A\n",
      "  3%|█▏                                          | 1/36 [00:17<10:25, 17.89s/it]\u001b[A\n",
      " 25%|███████████                                 | 9/36 [00:17<00:39,  1.45s/it]\u001b[A\n",
      " 47%|████████████████████▎                      | 17/36 [00:18<00:13,  1.43it/s]\u001b[A\n",
      " 58%|█████████████████████████                  | 21/36 [00:19<00:07,  1.92it/s]\u001b[A\n",
      " 67%|████████████████████████████▋              | 24/36 [00:19<00:04,  2.42it/s]\u001b[A\n",
      "100%|███████████████████████████████████████████| 36/36 [00:19<00:00,  1.80it/s]\u001b[A\n"
     ]
    },
    {
     "name": "stdout",
     "output_type": "stream",
     "text": [
      "Calculated dFoF. Total elapsed time: 33.58 seconds\n"
     ]
    },
    {
     "name": "stderr",
     "output_type": "stream",
     "text": [
      "\r",
      " 94%|████████████████████████████████████████▌  | 17/18 [13:14<00:44, 44.44s/it]"
     ]
    },
    {
     "name": "stdout",
     "output_type": "stream",
     "text": [
      "ROIs excluded: 765 / 2241\n",
      "ROIs included: 1476 / 2241\n",
      "Calculated dFoF. Total elapsed time: 0.8 seconds\n"
     ]
    },
    {
     "name": "stderr",
     "output_type": "stream",
     "text": [
      "\n",
      "  0%|                                                    | 0/36 [00:00<?, ?it/s]\u001b[A\n",
      "  3%|█▏                                          | 1/36 [00:18<10:33, 18.11s/it]\u001b[A\n",
      "  6%|██▍                                         | 2/36 [00:19<04:40,  8.26s/it]\u001b[A\n",
      " 33%|██████████████▎                            | 12/36 [00:19<00:21,  1.11it/s]\u001b[A\n",
      " 44%|███████████████████                        | 16/36 [00:20<00:12,  1.60it/s]\u001b[A\n",
      " 50%|█████████████████████▌                     | 18/36 [00:20<00:09,  1.84it/s]\u001b[A\n",
      " 56%|███████████████████████▉                   | 20/36 [00:20<00:07,  2.18it/s]\u001b[A\n",
      " 61%|██████████████████████████▎                | 22/36 [00:20<00:05,  2.71it/s]\u001b[A\n",
      " 67%|████████████████████████████▋              | 24/36 [00:21<00:03,  3.38it/s]\u001b[A\n",
      " 83%|███████████████████████████████████▊       | 30/36 [00:21<00:00,  6.40it/s]\u001b[A\n",
      "100%|███████████████████████████████████████████| 36/36 [00:21<00:00,  1.68it/s]\u001b[A\n"
     ]
    },
    {
     "name": "stdout",
     "output_type": "stream",
     "text": [
      "Calculated dFoF. Total elapsed time: 35.27 seconds\n"
     ]
    },
    {
     "name": "stderr",
     "output_type": "stream",
     "text": [
      "100%|███████████████████████████████████████████| 18/18 [14:01<00:00, 46.73s/it]"
     ]
    },
    {
     "name": "stdout",
     "output_type": "stream",
     "text": [
      "ROIs excluded: 664 / 2455\n",
      "ROIs included: 1791 / 2455\n"
     ]
    },
    {
     "name": "stderr",
     "output_type": "stream",
     "text": [
      "\n"
     ]
    },
    {
     "data": {
      "image/png": "[encoded data removed]",
      "text/plain": [
       "<Figure size 700x1000 with 8 Axes>"
      ]
     },
     "metadata": {},
     "output_type": "display_data"
    },
    {
     "data": {
      "image/png": "[encoded data removed]",
      "text/plain": [
       "<Figure size 640x480 with 1 Axes>"
      ]
     },
     "metadata": {},
     "output_type": "display_data"
    }
   ],
   "source": [
    "results = {}\n",
    "\n",
    "for date, data in tqdm(data_s2p_all.items()):\n",
    "    F, Fneu, ops, stat = data['F'], data['Fneu'], data['ops'], data['stat']\n",
    "    \n",
    "    n_frames, n_rois = F.shape[1], F.shape[0]\n",
    "    Fs = ops['fs']\n",
    "\n",
    "    # channelOffset_correction = 0\n",
    "    percentile_baseline = 30\n",
    "    neuropil_fraction=0.7\n",
    "\n",
    "    dFoF , dF , F_neuSub , F_baseline = ca2p_preprocessing.make_dFoF(\n",
    "        F=F,\n",
    "        Fneu=Fneu,\n",
    "        neuropil_fraction=neuropil_fraction,\n",
    "        percentile_baseline=percentile_baseline,\n",
    "        rolling_percentile_window=None,\n",
    "        multicore_pref=True,\n",
    "        verbose=True\n",
    "    )\n",
    "\n",
    "    dFoF_params = {\n",
    "        \"channelOffset_correction\": 0,\n",
    "        \"percentile_baseline\": percentile_baseline,\n",
    "        \"neuropil_fraction\": neuropil_fraction,\n",
    "    }\n",
    "\n",
    "    # dFoF with reduced percentile for baseline\n",
    "    channelOffset_correction = 0\n",
    "    percentile_baseline = 30\n",
    "    neuropil_fraction = 0.7\n",
    "    win_rolling_percentile = 15*60*30\n",
    "\n",
    "    dFoF_rollingPtile, dF_rollingPtile, F_neuSub_rollingPtile, F_baseline_rollingPtile = ca2p_preprocessing.make_dFoF(\n",
    "        F=F,\n",
    "        Fneu=Fneu,\n",
    "        neuropil_fraction=neuropil_fraction,\n",
    "        percentile_baseline=percentile_baseline,\n",
    "        rolling_percentile_window=win_rolling_percentile,\n",
    "        multicore_pref=True,\n",
    "        verbose=True\n",
    "    )\n",
    "    # # Threshold for nonnegativity\n",
    "    # dFoF_z = dFoF / np.std(dFoF,axis=1,keepdims=True)\n",
    "\n",
    "    dFoF_params = {\n",
    "        \"channelOffset_correction\": 0,\n",
    "        \"percentile_baseline\": percentile_baseline,\n",
    "        \"neuropil_fraction\": neuropil_fraction,\n",
    "    }\n",
    "\n",
    "    %matplotlib inline\n",
    "\n",
    "    # thresh = {\n",
    "    #     'var_ratio': 0.4,\n",
    "    #     'EV_F_by_Fneu': 0.5,\n",
    "    #     'base_FneuSub': 200,\n",
    "    #     'base_F': 100,\n",
    "    #     'peter_noise_levels': 5,\n",
    "    #     'rich_nsr': 7,\n",
    "    #     'max_dFoF': 10,\n",
    "    #     'baseline_var': 0.0003,\n",
    "    # }\n",
    "\n",
    "    thresh = {\n",
    "        'var_ratio__Fneu_over_F': (0, 0.75),\n",
    "        'EV__F_by_Fneu': (0, 0.75),\n",
    "        'base_FneuSub': (100, 2000),\n",
    "        'base_F': (200, 3500),\n",
    "        'nsr_autoregressive': (0, 10),\n",
    "        'noise_derivMAD': (0, 0.04),\n",
    "        'max_dFoF': (0.75, 15),\n",
    "        'baseline_var': (0, 0.02),\n",
    "    }\n",
    "\n",
    "    tqm, iscell_tqm = ca2p_preprocessing.trace_quality_metrics(\n",
    "        F=F,\n",
    "        Fneu=Fneu,\n",
    "        dFoF=dFoF_rollingPtile,\n",
    "        F_neuSub=F_neuSub,\n",
    "        F_baseline_roll=F_baseline_rollingPtile,\n",
    "        percentile_baseline=percentile_baseline,\n",
    "        window_rolling_baseline=win_rolling_percentile,\n",
    "        Fs=Fs,\n",
    "        plot_pref=True,\n",
    "        thresh=thresh,\n",
    "    )\n",
    "    idxROI_tqm_toInclude = np.where(iscell_tqm)[0]\n",
    "    idxROI_tqm_toExclude = np.where(~iscell_tqm)[0]\n",
    "    \n",
    "    results[date] = {\n",
    "        'tqm': tqm,\n",
    "        'iscell_tqm': iscell_tqm,\n",
    "    }"
   ]
  },
  {
   "cell_type": "code",
   "execution_count": null,
   "id": "89c3e44d",
   "metadata": {},
   "outputs": [],
   "source": [
    "file_helpers.pickle_save(\n",
    "    obj={\n",
    "        \"tqm\": tqm,\n",
    "        \"iscell_tqm\": iscell_tqm,\n",
    "        \"dFoF_params\": dFoF_params\n",
    "    },\n",
    "    filepath=str(Path(r'/media/rich/bigSSD/analysis_data/BMI/trace_quality_posthoc/mouse_0322R/').resolve() / 'trace_quality_posthoc.pkl'),\n",
    "    mkdir=True,\n",
    "    allow_overwrite=False,\n",
    ")\n",
    "\n",
    "# np.save(\n",
    "#     file= dir_save / 'iscell_NN_tqm.npy',\n",
    "#     arr=iscell_new\n",
    "# )"
   ]
  },
  {
   "cell_type": "code",
   "execution_count": null,
   "id": "c1b64cf7",
   "metadata": {},
   "outputs": [],
   "source": []
  },
  {
   "cell_type": "code",
   "execution_count": null,
   "id": "96455568",
   "metadata": {},
   "outputs": [],
   "source": []
  },
  {
   "cell_type": "code",
   "execution_count": null,
   "id": "89ba5eaf",
   "metadata": {},
   "outputs": [],
   "source": []
  }
 ],
 "metadata": {
  "kernelspec": {
   "display_name": "Python 3 (ipykernel)",
   "language": "python",
   "name": "python3"
  },
  "language_info": {
   "codemirror_mode": {
    "name": "ipython",
    "version": 3
   },
   "file_extension": ".py",
   "mimetype": "text/x-python",
   "name": "python",
   "nbconvert_exporter": "python",
   "pygments_lexer": "ipython3",
   "version": "3.9.13"
  }
 },
 "nbformat": 4,
 "nbformat_minor": 5
}
