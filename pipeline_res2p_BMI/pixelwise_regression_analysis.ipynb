{
 "cells": [
  {
   "cell_type": "code",
   "execution_count": 1,
   "id": "985c6fd5",
   "metadata": {},
   "outputs": [
    {
     "data": {
      "text/html": [
       "<style>.container {width:95% !important; }</style>"
      ],
      "text/plain": [
       "<IPython.core.display.HTML object>"
      ]
     },
     "metadata": {},
     "output_type": "display_data"
    },
    {
     "name": "stdout",
     "output_type": "stream",
     "text": [
      "Conda Environment: ROICaT\n",
      "python version: 3.9.13\n"
     ]
    }
   ],
   "source": [
    "# widen jupyter notebook window\n",
    "from IPython.display import display, HTML\n",
    "display(HTML(\"<style>.container {width:95% !important; }</style>\"))\n",
    "\n",
    "# check environment\n",
    "import os\n",
    "print(f'Conda Environment: ' + os.environ['CONDA_DEFAULT_ENV'])\n",
    "\n",
    "from platform import python_version\n",
    "print(f'python version: {python_version()}')"
   ]
  },
  {
   "cell_type": "code",
   "execution_count": 2,
   "id": "b878d4f6",
   "metadata": {},
   "outputs": [],
   "source": [
    "# import pprint\n",
    "from pathlib import Path\n",
    "# import re\n",
    "from functools import partial\n",
    "import gc\n",
    "\n",
    "# import natsort\n",
    "import matplotlib.pyplot as plt\n",
    "from tqdm import tqdm"
   ]
  },
  {
   "cell_type": "code",
   "execution_count": 3,
   "id": "2402aadc",
   "metadata": {},
   "outputs": [],
   "source": [
    "# import itertools\n",
    "# import datetime\n",
    "\n",
    "import scipy.io\n",
    "import pandas as pd\n",
    "import numpy as np\n",
    "# import matplotlib as mpl\n",
    "import torch"
   ]
  },
  {
   "cell_type": "code",
   "execution_count": 4,
   "id": "3ef8d6cc",
   "metadata": {},
   "outputs": [],
   "source": [
    "%load_ext autoreload\n",
    "%autoreload 2\n",
    "import bnpm\n",
    "import bnpm.video\n",
    "import bnpm.server\n",
    "import bnpm.plotting_helpers\n",
    "import bnpm.file_helpers\n",
    "import bnpm.path_helpers\n",
    "import bnpm.indexing\n",
    "import bnpm.timeSeries\n",
    "import bnpm.decomposition\n",
    "\n",
    "import bnpm.parallel_helpers"
   ]
  },
  {
   "cell_type": "code",
   "execution_count": 5,
   "id": "5f361bd1",
   "metadata": {},
   "outputs": [],
   "source": [
    "mouse = 'mouse_1511L'\n",
    "cage = 'BMI_cage_1511_4'"
   ]
  },
  {
   "cell_type": "code",
   "execution_count": 18,
   "id": "c9499e1a",
   "metadata": {},
   "outputs": [],
   "source": [
    "## mouse_1511L\n",
    "\n",
    "dates_toUse = [\n",
    "#     '20230111',\n",
    "    '20230112',\n",
    "    '20230113',\n",
    "    '20230114',\n",
    "    '20230115',\n",
    "    '20230116',\n",
    "    '20230117',\n",
    "    '20230118',\n",
    "    '20230119',\n",
    "]"
   ]
  },
  {
   "cell_type": "code",
   "execution_count": 19,
   "id": "f6eebc87",
   "metadata": {},
   "outputs": [],
   "source": [
    "date = '20230119'"
   ]
  },
  {
   "cell_type": "code",
   "execution_count": 20,
   "id": "2dfa757f",
   "metadata": {},
   "outputs": [],
   "source": [
    "Fs = 30"
   ]
  },
  {
   "cell_type": "code",
   "execution_count": 21,
   "id": "82d486ca",
   "metadata": {},
   "outputs": [
    {
     "data": {
      "text/plain": [
       "['/media/rich/bigSSD/downloads_tmp/tmp_data/mouse_1511L/loggers/20230112/logger_aligned.mat',\n",
       " '/media/rich/bigSSD/downloads_tmp/tmp_data/mouse_1511L/loggers/20230113/logger_aligned.mat',\n",
       " '/media/rich/bigSSD/downloads_tmp/tmp_data/mouse_1511L/loggers/20230114/logger_aligned.mat',\n",
       " '/media/rich/bigSSD/downloads_tmp/tmp_data/mouse_1511L/loggers/20230115/logger_aligned.mat',\n",
       " '/media/rich/bigSSD/downloads_tmp/tmp_data/mouse_1511L/loggers/20230116/logger_aligned.mat',\n",
       " '/media/rich/bigSSD/downloads_tmp/tmp_data/mouse_1511L/loggers/20230117/logger_aligned.mat',\n",
       " '/media/rich/bigSSD/downloads_tmp/tmp_data/mouse_1511L/loggers/20230118/logger_aligned.mat',\n",
       " '/media/rich/bigSSD/downloads_tmp/tmp_data/mouse_1511L/loggers/20230119/logger_aligned.mat']"
      ]
     },
     "metadata": {},
     "output_type": "display_data"
    }
   ],
   "source": [
    "paths_local_loggerAligned = bnpm.path_helpers.find_paths(\n",
    "    dir_outer=f'/media/rich/bigSSD/downloads_tmp/tmp_data/{mouse}/loggers/',\n",
    "    reMatch='logger_aligned.mat',\n",
    "    depth=2\n",
    ")\n",
    "paths_local_loggerAligned = [p for p in paths_local_loggerAligned if Path(p).parent.name in dates_toUse]\n",
    "display(paths_local_loggerAligned)\n",
    "\n",
    "load_loggerAligned = lambda path: {Path(path).parent.name: scipy.io.loadmat(file_name=path, simplify_cells=True)['logger_aligned']}\n",
    "\n",
    "loggerAligned_objs = {}\n",
    "[loggerAligned_objs.update(load_loggerAligned(path)) for path in paths_local_loggerAligned];"
   ]
  },
  {
   "cell_type": "code",
   "execution_count": 22,
   "id": "f88bd36a",
   "metadata": {},
   "outputs": [
    {
     "data": {
      "text/plain": [
       "['/media/rich/bigSSD/downloads_tmp/tmp_data/mouse_1511L/loggers/20230112/expParams.mat',\n",
       " '/media/rich/bigSSD/downloads_tmp/tmp_data/mouse_1511L/loggers/20230113/expParams.mat',\n",
       " '/media/rich/bigSSD/downloads_tmp/tmp_data/mouse_1511L/loggers/20230114/expParams.mat',\n",
       " '/media/rich/bigSSD/downloads_tmp/tmp_data/mouse_1511L/loggers/20230115/expParams.mat',\n",
       " '/media/rich/bigSSD/downloads_tmp/tmp_data/mouse_1511L/loggers/20230116/expParams.mat',\n",
       " '/media/rich/bigSSD/downloads_tmp/tmp_data/mouse_1511L/loggers/20230117/expParams.mat',\n",
       " '/media/rich/bigSSD/downloads_tmp/tmp_data/mouse_1511L/loggers/20230118/expParams.mat',\n",
       " '/media/rich/bigSSD/downloads_tmp/tmp_data/mouse_1511L/loggers/20230119/expParams.mat']"
      ]
     },
     "metadata": {},
     "output_type": "display_data"
    }
   ],
   "source": [
    "paths_local_expParams = bnpm.path_helpers.find_paths(\n",
    "    dir_outer=f'/media/rich/bigSSD/downloads_tmp/tmp_data/{mouse}/loggers/',\n",
    "    reMatch='expParams.mat',\n",
    "    depth=2\n",
    ")\n",
    "paths_local_expParams = [p for p in paths_local_expParams if Path(p).parent.name in dates_toUse]\n",
    "display(paths_local_expParams)\n",
    "\n",
    "load_expParams = lambda path: {Path(path).parent.name: scipy.io.loadmat(file_name=path, simplify_cells=True)['expParams']}\n",
    "\n",
    "expParams_objs = {}\n",
    "[expParams_objs.update(load_expParams(path)) for path in paths_local_expParams];"
   ]
  },
  {
   "cell_type": "code",
   "execution_count": 23,
   "id": "69ff7c4b",
   "metadata": {},
   "outputs": [],
   "source": [
    "loggerAligned_dfs = {\n",
    "    date: {\n",
    "        key_outer: pd.DataFrame(\n",
    "            data=loggerAligned_objs[date][key_outer][:, :len(expParams_objs[date]['loggerNames'][key_outer])], \n",
    "            columns=expParams_objs[date]['loggerNames'][key_outer],\n",
    "        ) for key_outer in expParams_objs[date]['loggerNames'].keys()\n",
    "    } for date in expParams_objs.keys()\n",
    "}"
   ]
  },
  {
   "cell_type": "code",
   "execution_count": 24,
   "id": "8501c905",
   "metadata": {},
   "outputs": [],
   "source": [
    "# n_sessions = len(loggerAligned_dfs)\n",
    "\n",
    "# trials_duration_frame = []\n",
    "# trials_duration_nowTime = []\n",
    "# trials_success = []\n",
    "# trials_type_111 = []\n",
    "\n",
    "# for logger_df in loggerAligned_dfs.values():\n",
    "#     ## pull out frames of start and end. -1 to account for matlab 1-indexing\n",
    "#     frame_start__idx_logger = logger_df['trials']['counter_frameNum_trialStart'].to_numpy() - 1\n",
    "#     frame_end__idx_logger = logger_df['trials']['counter_frameNum_trialEnd'].to_numpy() - 1   \n",
    "    \n",
    "#     ## pull out durations using time\n",
    "#     time_start__idx_logger = logger_df['trials']['time_now_trialStart'].to_numpy()\n",
    "#     time_end__idx_logger = logger_df['trials']['time_now_trialEnd'].to_numpy()\n",
    "#     trials_duration_nowTime.append((time_end__idx_logger - time_start__idx_logger))\n",
    "\n",
    "#     ## pull out whether the outcome was a success\n",
    "#     trials_success.append(logger_df['trials']['success_outcome'] == 1)\n",
    "    \n",
    "#     ## pull out whether the trial type was a standard trial with feedback, reward, and cursor all one (1 1 1)\n",
    "#     trials_type_111.append((logger_df['trials']['trialType_cursorOn'] == 1) * (logger_df['trials']['trialType_feedbackLinked'] == 1) * (logger_df['trials']['trialType_rewardOn'] == 1))\n",
    "    "
   ]
  },
  {
   "cell_type": "code",
   "execution_count": 25,
   "id": "4373b48c",
   "metadata": {},
   "outputs": [],
   "source": [
    "def get_frames_111_success(logger):\n",
    "    frames_trialEnds   = logger['trials']['counter_frameNum_trialEnd'].to_numpy()\n",
    "    frames_trialStarts = logger['trials']['counter_frameNum_trialStart'].to_numpy()\n",
    "\n",
    "    type_111_success = (logger['trials']['trialType_cursorOn'] * logger['trials']['trialType_feedbackLinked'] * logger['trials']['trialType_rewardOn'] * logger['trials']['success_outcome']).to_numpy()\n",
    "    framesEnd_111_success = frames_trialEnds[type_111_success[:len(frames_trialEnds)].astype(bool)]\n",
    "    framesStart_111_success = frames_trialStarts[type_111_success[:len(frames_trialStarts)].astype(bool)]\n",
    "    \n",
    "    out = {\n",
    "        'trialNum': logger['trials']['trialNum_trialStart'],\n",
    "        'frames_start': framesStart_111_success,\n",
    "        'frames_end': framesEnd_111_success,\n",
    "        'duration': logger['trials']['counter_frameNum_trialEnd'] - logger['trials']['counter_frameNum_trialStart'],\n",
    "    }\n",
    "    \n",
    "    return out\n",
    "\n",
    "trials_111_success = {date: get_frames_111_success(logger) for date, logger in loggerAligned_dfs.items()}"
   ]
  },
  {
   "cell_type": "code",
   "execution_count": null,
   "id": "22db1ade",
   "metadata": {},
   "outputs": [],
   "source": []
  },
  {
   "cell_type": "code",
   "execution_count": null,
   "id": "bbf40d8a",
   "metadata": {},
   "outputs": [],
   "source": []
  },
  {
   "cell_type": "code",
   "execution_count": 26,
   "id": "017338ff",
   "metadata": {},
   "outputs": [],
   "source": [
    "import ScanImageTiffReader"
   ]
  },
  {
   "cell_type": "code",
   "execution_count": 27,
   "id": "6a50a90b",
   "metadata": {},
   "outputs": [
    {
     "data": {
      "text/plain": [
       "['/media/rich/bigSSD/downloads_tmp/tmp_data/mouse_1511L/tmp_scanimage/20230119/exp/exp_00001_00001.tif',\n",
       " '/media/rich/bigSSD/downloads_tmp/tmp_data/mouse_1511L/tmp_scanimage/20230119/exp/exp_00001_00002.tif',\n",
       " '/media/rich/bigSSD/downloads_tmp/tmp_data/mouse_1511L/tmp_scanimage/20230119/exp/exp_00001_00003.tif',\n",
       " '/media/rich/bigSSD/downloads_tmp/tmp_data/mouse_1511L/tmp_scanimage/20230119/exp/exp_00001_00004.tif',\n",
       " '/media/rich/bigSSD/downloads_tmp/tmp_data/mouse_1511L/tmp_scanimage/20230119/exp/exp_00001_00005.tif',\n",
       " '/media/rich/bigSSD/downloads_tmp/tmp_data/mouse_1511L/tmp_scanimage/20230119/exp/exp_00001_00006.tif',\n",
       " '/media/rich/bigSSD/downloads_tmp/tmp_data/mouse_1511L/tmp_scanimage/20230119/exp/exp_00001_00007.tif',\n",
       " '/media/rich/bigSSD/downloads_tmp/tmp_data/mouse_1511L/tmp_scanimage/20230119/exp/exp_00001_00008.tif',\n",
       " '/media/rich/bigSSD/downloads_tmp/tmp_data/mouse_1511L/tmp_scanimage/20230119/exp/exp_00001_00009.tif',\n",
       " '/media/rich/bigSSD/downloads_tmp/tmp_data/mouse_1511L/tmp_scanimage/20230119/exp/exp_00001_00010.tif',\n",
       " '/media/rich/bigSSD/downloads_tmp/tmp_data/mouse_1511L/tmp_scanimage/20230119/exp/exp_00001_00011.tif',\n",
       " '/media/rich/bigSSD/downloads_tmp/tmp_data/mouse_1511L/tmp_scanimage/20230119/exp/exp_00001_00012.tif',\n",
       " '/media/rich/bigSSD/downloads_tmp/tmp_data/mouse_1511L/tmp_scanimage/20230119/exp/exp_00001_00013.tif',\n",
       " '/media/rich/bigSSD/downloads_tmp/tmp_data/mouse_1511L/tmp_scanimage/20230119/exp/exp_00001_00014.tif',\n",
       " '/media/rich/bigSSD/downloads_tmp/tmp_data/mouse_1511L/tmp_scanimage/20230119/exp/exp_00001_00015.tif',\n",
       " '/media/rich/bigSSD/downloads_tmp/tmp_data/mouse_1511L/tmp_scanimage/20230119/exp/exp_00001_00016.tif',\n",
       " '/media/rich/bigSSD/downloads_tmp/tmp_data/mouse_1511L/tmp_scanimage/20230119/exp/exp_00001_00017.tif',\n",
       " '/media/rich/bigSSD/downloads_tmp/tmp_data/mouse_1511L/tmp_scanimage/20230119/exp/exp_00001_00018.tif',\n",
       " '/media/rich/bigSSD/downloads_tmp/tmp_data/mouse_1511L/tmp_scanimage/20230119/exp/exp_00001_00019.tif',\n",
       " '/media/rich/bigSSD/downloads_tmp/tmp_data/mouse_1511L/tmp_scanimage/20230119/exp/exp_00001_00020.tif',\n",
       " '/media/rich/bigSSD/downloads_tmp/tmp_data/mouse_1511L/tmp_scanimage/20230119/exp/exp_00001_00021.tif',\n",
       " '/media/rich/bigSSD/downloads_tmp/tmp_data/mouse_1511L/tmp_scanimage/20230119/exp/exp_00001_00022.tif',\n",
       " '/media/rich/bigSSD/downloads_tmp/tmp_data/mouse_1511L/tmp_scanimage/20230119/exp/exp_00001_00023.tif',\n",
       " '/media/rich/bigSSD/downloads_tmp/tmp_data/mouse_1511L/tmp_scanimage/20230119/exp/exp_00001_00024.tif',\n",
       " '/media/rich/bigSSD/downloads_tmp/tmp_data/mouse_1511L/tmp_scanimage/20230119/exp/exp_00001_00025.tif',\n",
       " '/media/rich/bigSSD/downloads_tmp/tmp_data/mouse_1511L/tmp_scanimage/20230119/exp/exp_00001_00026.tif',\n",
       " '/media/rich/bigSSD/downloads_tmp/tmp_data/mouse_1511L/tmp_scanimage/20230119/exp/exp_00001_00027.tif',\n",
       " '/media/rich/bigSSD/downloads_tmp/tmp_data/mouse_1511L/tmp_scanimage/20230119/exp/exp_00001_00028.tif',\n",
       " '/media/rich/bigSSD/downloads_tmp/tmp_data/mouse_1511L/tmp_scanimage/20230119/exp/exp_00001_00029.tif',\n",
       " '/media/rich/bigSSD/downloads_tmp/tmp_data/mouse_1511L/tmp_scanimage/20230119/exp/exp_00001_00030.tif',\n",
       " '/media/rich/bigSSD/downloads_tmp/tmp_data/mouse_1511L/tmp_scanimage/20230119/exp/exp_00001_00031.tif',\n",
       " '/media/rich/bigSSD/downloads_tmp/tmp_data/mouse_1511L/tmp_scanimage/20230119/exp/exp_00001_00032.tif',\n",
       " '/media/rich/bigSSD/downloads_tmp/tmp_data/mouse_1511L/tmp_scanimage/20230119/exp/exp_00001_00033.tif',\n",
       " '/media/rich/bigSSD/downloads_tmp/tmp_data/mouse_1511L/tmp_scanimage/20230119/exp/exp_00001_00034.tif',\n",
       " '/media/rich/bigSSD/downloads_tmp/tmp_data/mouse_1511L/tmp_scanimage/20230119/exp/exp_00001_00035.tif',\n",
       " '/media/rich/bigSSD/downloads_tmp/tmp_data/mouse_1511L/tmp_scanimage/20230119/exp/exp_00001_00036.tif',\n",
       " '/media/rich/bigSSD/downloads_tmp/tmp_data/mouse_1511L/tmp_scanimage/20230119/exp/exp_00001_00037.tif',\n",
       " '/media/rich/bigSSD/downloads_tmp/tmp_data/mouse_1511L/tmp_scanimage/20230119/exp/exp_00001_00038.tif',\n",
       " '/media/rich/bigSSD/downloads_tmp/tmp_data/mouse_1511L/tmp_scanimage/20230119/exp/exp_00001_00039.tif',\n",
       " '/media/rich/bigSSD/downloads_tmp/tmp_data/mouse_1511L/tmp_scanimage/20230119/exp/exp_00001_00040.tif',\n",
       " '/media/rich/bigSSD/downloads_tmp/tmp_data/mouse_1511L/tmp_scanimage/20230119/exp/exp_00001_00041.tif',\n",
       " '/media/rich/bigSSD/downloads_tmp/tmp_data/mouse_1511L/tmp_scanimage/20230119/exp/exp_00001_00042.tif',\n",
       " '/media/rich/bigSSD/downloads_tmp/tmp_data/mouse_1511L/tmp_scanimage/20230119/exp/exp_00001_00043.tif',\n",
       " '/media/rich/bigSSD/downloads_tmp/tmp_data/mouse_1511L/tmp_scanimage/20230119/exp/exp_00001_00044.tif',\n",
       " '/media/rich/bigSSD/downloads_tmp/tmp_data/mouse_1511L/tmp_scanimage/20230119/exp/exp_00001_00045.tif',\n",
       " '/media/rich/bigSSD/downloads_tmp/tmp_data/mouse_1511L/tmp_scanimage/20230119/exp/exp_00001_00046.tif',\n",
       " '/media/rich/bigSSD/downloads_tmp/tmp_data/mouse_1511L/tmp_scanimage/20230119/exp/exp_00001_00047.tif',\n",
       " '/media/rich/bigSSD/downloads_tmp/tmp_data/mouse_1511L/tmp_scanimage/20230119/exp/exp_00001_00048.tif',\n",
       " '/media/rich/bigSSD/downloads_tmp/tmp_data/mouse_1511L/tmp_scanimage/20230119/exp/exp_00001_00049.tif',\n",
       " '/media/rich/bigSSD/downloads_tmp/tmp_data/mouse_1511L/tmp_scanimage/20230119/exp/exp_00001_00050.tif',\n",
       " '/media/rich/bigSSD/downloads_tmp/tmp_data/mouse_1511L/tmp_scanimage/20230119/exp/exp_00001_00051.tif',\n",
       " '/media/rich/bigSSD/downloads_tmp/tmp_data/mouse_1511L/tmp_scanimage/20230119/exp/exp_00001_00052.tif',\n",
       " '/media/rich/bigSSD/downloads_tmp/tmp_data/mouse_1511L/tmp_scanimage/20230119/exp/exp_00001_00053.tif',\n",
       " '/media/rich/bigSSD/downloads_tmp/tmp_data/mouse_1511L/tmp_scanimage/20230119/exp/exp_00001_00054.tif',\n",
       " '/media/rich/bigSSD/downloads_tmp/tmp_data/mouse_1511L/tmp_scanimage/20230119/exp/exp_00001_00055.tif',\n",
       " '/media/rich/bigSSD/downloads_tmp/tmp_data/mouse_1511L/tmp_scanimage/20230119/exp/exp_00001_00056.tif',\n",
       " '/media/rich/bigSSD/downloads_tmp/tmp_data/mouse_1511L/tmp_scanimage/20230119/exp/exp_00001_00057.tif',\n",
       " '/media/rich/bigSSD/downloads_tmp/tmp_data/mouse_1511L/tmp_scanimage/20230119/exp/exp_00001_00058.tif',\n",
       " '/media/rich/bigSSD/downloads_tmp/tmp_data/mouse_1511L/tmp_scanimage/20230119/exp/exp_00001_00059.tif',\n",
       " '/media/rich/bigSSD/downloads_tmp/tmp_data/mouse_1511L/tmp_scanimage/20230119/exp/exp_00001_00060.tif',\n",
       " '/media/rich/bigSSD/downloads_tmp/tmp_data/mouse_1511L/tmp_scanimage/20230119/exp/exp_00001_00061.tif',\n",
       " '/media/rich/bigSSD/downloads_tmp/tmp_data/mouse_1511L/tmp_scanimage/20230119/exp/exp_00001_00062.tif',\n",
       " '/media/rich/bigSSD/downloads_tmp/tmp_data/mouse_1511L/tmp_scanimage/20230119/exp/exp_00001_00063.tif',\n",
       " '/media/rich/bigSSD/downloads_tmp/tmp_data/mouse_1511L/tmp_scanimage/20230119/exp/exp_00001_00064.tif',\n",
       " '/media/rich/bigSSD/downloads_tmp/tmp_data/mouse_1511L/tmp_scanimage/20230119/exp/exp_00001_00065.tif',\n",
       " '/media/rich/bigSSD/downloads_tmp/tmp_data/mouse_1511L/tmp_scanimage/20230119/exp/exp_00001_00066.tif',\n",
       " '/media/rich/bigSSD/downloads_tmp/tmp_data/mouse_1511L/tmp_scanimage/20230119/exp/exp_00001_00067.tif',\n",
       " '/media/rich/bigSSD/downloads_tmp/tmp_data/mouse_1511L/tmp_scanimage/20230119/exp/exp_00001_00068.tif',\n",
       " '/media/rich/bigSSD/downloads_tmp/tmp_data/mouse_1511L/tmp_scanimage/20230119/exp/exp_00001_00069.tif',\n",
       " '/media/rich/bigSSD/downloads_tmp/tmp_data/mouse_1511L/tmp_scanimage/20230119/exp/exp_00001_00070.tif',\n",
       " '/media/rich/bigSSD/downloads_tmp/tmp_data/mouse_1511L/tmp_scanimage/20230119/exp/exp_00001_00071.tif',\n",
       " '/media/rich/bigSSD/downloads_tmp/tmp_data/mouse_1511L/tmp_scanimage/20230119/exp/exp_00001_00072.tif',\n",
       " '/media/rich/bigSSD/downloads_tmp/tmp_data/mouse_1511L/tmp_scanimage/20230119/exp/exp_00001_00073.tif',\n",
       " '/media/rich/bigSSD/downloads_tmp/tmp_data/mouse_1511L/tmp_scanimage/20230119/exp/exp_00001_00074.tif',\n",
       " '/media/rich/bigSSD/downloads_tmp/tmp_data/mouse_1511L/tmp_scanimage/20230119/exp/exp_00001_00075.tif',\n",
       " '/media/rich/bigSSD/downloads_tmp/tmp_data/mouse_1511L/tmp_scanimage/20230119/exp/exp_00001_00076.tif',\n",
       " '/media/rich/bigSSD/downloads_tmp/tmp_data/mouse_1511L/tmp_scanimage/20230119/exp/exp_00001_00077.tif',\n",
       " '/media/rich/bigSSD/downloads_tmp/tmp_data/mouse_1511L/tmp_scanimage/20230119/exp/exp_00001_00078.tif',\n",
       " '/media/rich/bigSSD/downloads_tmp/tmp_data/mouse_1511L/tmp_scanimage/20230119/exp/exp_00001_00079.tif',\n",
       " '/media/rich/bigSSD/downloads_tmp/tmp_data/mouse_1511L/tmp_scanimage/20230119/exp/exp_00001_00080.tif',\n",
       " '/media/rich/bigSSD/downloads_tmp/tmp_data/mouse_1511L/tmp_scanimage/20230119/exp/exp_00001_00081.tif',\n",
       " '/media/rich/bigSSD/downloads_tmp/tmp_data/mouse_1511L/tmp_scanimage/20230119/exp/exp_00001_00082.tif',\n",
       " '/media/rich/bigSSD/downloads_tmp/tmp_data/mouse_1511L/tmp_scanimage/20230119/exp/exp_00001_00083.tif',\n",
       " '/media/rich/bigSSD/downloads_tmp/tmp_data/mouse_1511L/tmp_scanimage/20230119/exp/exp_00001_00084.tif',\n",
       " '/media/rich/bigSSD/downloads_tmp/tmp_data/mouse_1511L/tmp_scanimage/20230119/exp/exp_00001_00085.tif',\n",
       " '/media/rich/bigSSD/downloads_tmp/tmp_data/mouse_1511L/tmp_scanimage/20230119/exp/exp_00001_00086.tif',\n",
       " '/media/rich/bigSSD/downloads_tmp/tmp_data/mouse_1511L/tmp_scanimage/20230119/exp/exp_00001_00087.tif',\n",
       " '/media/rich/bigSSD/downloads_tmp/tmp_data/mouse_1511L/tmp_scanimage/20230119/exp/exp_00001_00088.tif',\n",
       " '/media/rich/bigSSD/downloads_tmp/tmp_data/mouse_1511L/tmp_scanimage/20230119/exp/exp_00001_00089.tif',\n",
       " '/media/rich/bigSSD/downloads_tmp/tmp_data/mouse_1511L/tmp_scanimage/20230119/exp/exp_00001_00090.tif',\n",
       " '/media/rich/bigSSD/downloads_tmp/tmp_data/mouse_1511L/tmp_scanimage/20230119/exp/exp_00001_00091.tif',\n",
       " '/media/rich/bigSSD/downloads_tmp/tmp_data/mouse_1511L/tmp_scanimage/20230119/exp/exp_00001_00092.tif',\n",
       " '/media/rich/bigSSD/downloads_tmp/tmp_data/mouse_1511L/tmp_scanimage/20230119/exp/exp_00001_00093.tif',\n",
       " '/media/rich/bigSSD/downloads_tmp/tmp_data/mouse_1511L/tmp_scanimage/20230119/exp/exp_00001_00094.tif',\n",
       " '/media/rich/bigSSD/downloads_tmp/tmp_data/mouse_1511L/tmp_scanimage/20230119/exp/exp_00001_00095.tif',\n",
       " '/media/rich/bigSSD/downloads_tmp/tmp_data/mouse_1511L/tmp_scanimage/20230119/exp/exp_00001_00096.tif',\n",
       " '/media/rich/bigSSD/downloads_tmp/tmp_data/mouse_1511L/tmp_scanimage/20230119/exp/exp_00001_00097.tif',\n",
       " '/media/rich/bigSSD/downloads_tmp/tmp_data/mouse_1511L/tmp_scanimage/20230119/exp/exp_00001_00098.tif',\n",
       " '/media/rich/bigSSD/downloads_tmp/tmp_data/mouse_1511L/tmp_scanimage/20230119/exp/exp_00001_00099.tif',\n",
       " '/media/rich/bigSSD/downloads_tmp/tmp_data/mouse_1511L/tmp_scanimage/20230119/exp/exp_00001_00100.tif',\n",
       " '/media/rich/bigSSD/downloads_tmp/tmp_data/mouse_1511L/tmp_scanimage/20230119/exp/exp_00001_00101.tif',\n",
       " '/media/rich/bigSSD/downloads_tmp/tmp_data/mouse_1511L/tmp_scanimage/20230119/exp/exp_00001_00102.tif',\n",
       " '/media/rich/bigSSD/downloads_tmp/tmp_data/mouse_1511L/tmp_scanimage/20230119/exp/exp_00001_00103.tif',\n",
       " '/media/rich/bigSSD/downloads_tmp/tmp_data/mouse_1511L/tmp_scanimage/20230119/exp/exp_00001_00104.tif',\n",
       " '/media/rich/bigSSD/downloads_tmp/tmp_data/mouse_1511L/tmp_scanimage/20230119/exp/exp_00001_00105.tif',\n",
       " '/media/rich/bigSSD/downloads_tmp/tmp_data/mouse_1511L/tmp_scanimage/20230119/exp/exp_00001_00106.tif',\n",
       " '/media/rich/bigSSD/downloads_tmp/tmp_data/mouse_1511L/tmp_scanimage/20230119/exp/exp_00001_00107.tif',\n",
       " '/media/rich/bigSSD/downloads_tmp/tmp_data/mouse_1511L/tmp_scanimage/20230119/exp/exp_00001_00108.tif']"
      ]
     },
     "metadata": {},
     "output_type": "display_data"
    }
   ],
   "source": [
    "paths_videos = bnpm.path_helpers.find_paths(str(Path('/media/rich/bigSSD/downloads_tmp/tmp_data/mouse_1511L/tmp_scanimage/') / date), reMatch='exp_', depth=2)[:]\n",
    "# paths_videos = bnpm.path_helpers.find_paths('/media/rich/bigHDD/mouse_1511L/20230119/', reMatch='exp_', depth=2)[:]\n",
    "\n",
    "display(paths_videos)"
   ]
  },
  {
   "cell_type": "code",
   "execution_count": 28,
   "id": "eb5112ce",
   "metadata": {},
   "outputs": [],
   "source": [
    "triggers_start = trials_111_success[date]['frames_start']\n",
    "triggers_end = trials_111_success[date]['frames_end']"
   ]
  },
  {
   "cell_type": "code",
   "execution_count": 29,
   "id": "e468acdf",
   "metadata": {},
   "outputs": [],
   "source": [
    "frames_trs = np.cumsum([0] + [1000 for t in paths_videos])"
   ]
  },
  {
   "cell_type": "code",
   "execution_count": 30,
   "id": "14a5ecc9",
   "metadata": {},
   "outputs": [],
   "source": [
    "xShifts = np.nan_to_num(loggerAligned_dfs[date]['motionCorrection']['xShift'].to_numpy()).astype(int)\n",
    "yShifts = np.nan_to_num(loggerAligned_dfs[date]['motionCorrection']['yShift'].to_numpy()).astype(int)\n",
    "\n",
    "xShifts_blocks = list(bnpm.indexing.make_batches(xShifts, batch_size=1000))\n",
    "yShifts_blocks = list(bnpm.indexing.make_batches(yShifts, batch_size=1000))"
   ]
  },
  {
   "cell_type": "code",
   "execution_count": 31,
   "id": "cf9a1c1d",
   "metadata": {},
   "outputs": [
    {
     "name": "stderr",
     "output_type": "stream",
     "text": [
      "100%|████████████████████████████████████████████████████████████████████████████| 108/108 [11:47<00:00,  6.55s/it]\n"
     ]
    }
   ],
   "source": [
    "def get_frames(path, xs=None, ys=None):\n",
    "    tr = ScanImageTiffReader.ScanImageTiffReader(path)\n",
    "#     if xs is not None:\n",
    "#         f = bnpm.image_processing.apply_shifts_along_axis(tr.data(), xShifts=xs, yShifts=ys, workers=1)\n",
    "#     else:\n",
    "    f = tr.data()\n",
    "    tr.close()\n",
    "    del tr\n",
    "    gc.collect()\n",
    "    gc.collect()\n",
    "#     return f\n",
    "    return bnpm.image_processing.bin_array(f, [1,2,2], function=partial(np.mean, dtype=f.dtype))\n",
    "frames = bnpm.parallel_helpers.map_parallel(get_frames, [paths_videos[:], xShifts_blocks[:], yShifts_blocks[:]], workers=-1, method='multithreading')\n",
    "# frames = []\n",
    "# for ii, (tr,x,y) in tqdm(enumerate(zip(paths_videos, xShifts_blocks, yShifts_blocks)), total=len(paths_videos)):\n",
    "#     frames.append(get_frames(tr, x, y))\n",
    "#     if ii >= 75:\n",
    "#         break"
   ]
  },
  {
   "cell_type": "code",
   "execution_count": 32,
   "id": "fc5ff78b",
   "metadata": {},
   "outputs": [],
   "source": [
    "frames_cat = torch.cat([torch.as_tensor(f, dtype=torch.int16) for f in frames[:]], dim=0)"
   ]
  },
  {
   "cell_type": "code",
   "execution_count": null,
   "id": "94b4459a",
   "metadata": {},
   "outputs": [],
   "source": [
    "del frames\n",
    "gc.collect()"
   ]
  },
  {
   "cell_type": "code",
   "execution_count": 34,
   "id": "3fb50441",
   "metadata": {},
   "outputs": [],
   "source": [
    "FOV_baseline = bnpm.timeSeries.rolling_percentile_pd(frames_cat[np.linspace(0,108000,1000, endpoint=False, dtype=np.int64)].numpy().reshape(1000, frames_cat.shape[1]*frames_cat.shape[2]).T, ptile=30, window=100).T.reshape(1000, frames_cat.shape[1], frames_cat.shape[2])"
   ]
  },
  {
   "cell_type": "code",
   "execution_count": 35,
   "id": "a3b0d40c",
   "metadata": {},
   "outputs": [
    {
     "ename": "IndexError",
     "evalue": "only integers, slices (`:`), ellipsis (`...`), numpy.newaxis (`None`) and integer or boolean arrays are valid indices",
     "output_type": "error",
     "traceback": [
      "\u001b[0;31m---------------------------------------------------------------------------\u001b[0m",
      "\u001b[0;31mIndexError\u001b[0m                                Traceback (most recent call last)",
      "Cell \u001b[0;32mIn [35], line 1\u001b[0m\n\u001b[0;32m----> 1\u001b[0m FOV_decoder \u001b[38;5;241m=\u001b[39m \u001b[43mexpParams_objs\u001b[49m\u001b[43m[\u001b[49m\u001b[43mdate\u001b[49m\u001b[43m]\u001b[49m\u001b[43m[\u001b[49m\u001b[38;5;124;43m'\u001b[39;49m\u001b[38;5;124;43mbaselineStuff\u001b[39;49m\u001b[38;5;124;43m'\u001b[39;49m\u001b[43m]\u001b[49m\u001b[43m[\u001b[49m\u001b[38;5;124;43m'\u001b[39;49m\u001b[38;5;124;43mROIs\u001b[39;49m\u001b[38;5;124;43m'\u001b[39;49m\u001b[43m]\u001b[49m[\u001b[38;5;124m'\u001b[39m\u001b[38;5;124mcellWeightings\u001b[39m\u001b[38;5;124m'\u001b[39m]\n",
      "\u001b[0;31mIndexError\u001b[0m: only integers, slices (`:`), ellipsis (`...`), numpy.newaxis (`None`) and integer or boolean arrays are valid indices"
     ]
    }
   ],
   "source": [
    "FOV_decoder = expParams_objs[date]['baselineStuff']['ROIs']['cellWeightings']"
   ]
  },
  {
   "cell_type": "code",
   "execution_count": null,
   "id": "e2b2d5e4",
   "metadata": {},
   "outputs": [],
   "source": [
    "FOV_baseline_interp = torch.nn.functional.interpolate(torch.as_tensor(FOV_baseline, dtype=torch.float32).permute(1,2,0), scale_factor=108, mode='linear').permute(2,0,1).type(torch.int16).numpy()"
   ]
  },
  {
   "cell_type": "code",
   "execution_count": null,
   "id": "3531a3e9",
   "metadata": {},
   "outputs": [],
   "source": [
    "frames_df = (torch.as_tensor(frames_cat) - torch.as_tensor(FOV_baseline_interp)).numpy()"
   ]
  },
  {
   "cell_type": "code",
   "execution_count": null,
   "id": "f6551cbe",
   "metadata": {},
   "outputs": [],
   "source": [
    "# del FOV_baseline_interp\n",
    "gc.collect()"
   ]
  },
  {
   "cell_type": "code",
   "execution_count": null,
   "id": "d7e0d703",
   "metadata": {
    "scrolled": true
   },
   "outputs": [],
   "source": [
    "bnpm.plotting_helpers.display_toggle_image_stack(frames_df)"
   ]
  },
  {
   "cell_type": "code",
   "execution_count": null,
   "id": "a98a647b",
   "metadata": {},
   "outputs": [],
   "source": [
    "et_traces_start = bnpm.timeSeries.event_triggered_traces(frames_df, triggers_start[:], win_bounds=[-10,0], dim=0)[0].mean(-1).astype(np.int16)\n",
    "et_traces_end   = bnpm.timeSeries.event_triggered_traces(frames_df, triggers_end[:], win_bounds=[-10,0], dim=0)[0].mean(-1).astype(np.int16)"
   ]
  },
  {
   "cell_type": "code",
   "execution_count": null,
   "id": "113c479d",
   "metadata": {},
   "outputs": [],
   "source": [
    "import sklearn\n",
    "\n",
    "lr = sklearn.linear_model.LogisticRegression(\n",
    "    penalty='none',\n",
    "    dual=False, \n",
    "    tol=0.0001, \n",
    "    C=0.1, \n",
    "    fit_intercept=True, \n",
    "    intercept_scaling=1, \n",
    "    class_weight=None, \n",
    "    random_state=None, \n",
    "    solver='lbfgs', \n",
    "    max_iter=100, \n",
    "    multi_class='auto', \n",
    "    verbose=0, \n",
    "    warm_start=False, \n",
    "    n_jobs=None, \n",
    "    l1_ratio=None\n",
    ")\n"
   ]
  },
  {
   "cell_type": "code",
   "execution_count": null,
   "id": "c16706c1",
   "metadata": {},
   "outputs": [],
   "source": [
    "import scipy.stats"
   ]
  },
  {
   "cell_type": "code",
   "execution_count": null,
   "id": "49f48578",
   "metadata": {},
   "outputs": [],
   "source": [
    "X = np.concatenate((et_traces_end.transpose(2,0,1).reshape(et_traces_end.shape[2], -1), et_traces_start.transpose(2,0,1).reshape(et_traces_start.shape[2], -1)), axis=0)\n",
    "# X = scipy.stats.zscore(X, axis=0)\n",
    "y = np.concatenate((np.ones(et_traces_end.shape[2]), np.zeros(et_traces_start.shape[2]))).astype(np.int64)\n",
    "lr.fit(X, y)\n",
    "lr.fit(X=scipy.stats.zscore(X, axis=0), y=y)"
   ]
  },
  {
   "cell_type": "code",
   "execution_count": null,
   "id": "742471ce",
   "metadata": {},
   "outputs": [],
   "source": [
    "import bnpm.similarity\n",
    "sim_cov = bnpm.similarity.pairwise_similarity(v1=X, v2=y[:,None], method='cov')\n",
    "sim_cc  = bnpm.similarity.pairwise_similarity(v1=X, v2=y[:,None], method='pearson')"
   ]
  },
  {
   "cell_type": "code",
   "execution_count": null,
   "id": "fa45e02d",
   "metadata": {},
   "outputs": [],
   "source": [
    "coef_cov = sim_cov.squeeze().reshape(256, 512)\n",
    "coef_cc  =  sim_cc.squeeze().reshape(256, 512)"
   ]
  },
  {
   "cell_type": "code",
   "execution_count": null,
   "id": "3716877e",
   "metadata": {},
   "outputs": [],
   "source": [
    "coef_lr = lr.coef_.squeeze().reshape(256, 512)"
   ]
  },
  {
   "cell_type": "code",
   "execution_count": null,
   "id": "e3b926db",
   "metadata": {},
   "outputs": [],
   "source": [
    "plt.figure()\n",
    "plt.imshow(coef_cov, cmap='bwr')\n",
    "plt.colorbar()"
   ]
  },
  {
   "cell_type": "code",
   "execution_count": null,
   "id": "1d6c9f76",
   "metadata": {},
   "outputs": [],
   "source": [
    "plt.figure()\n",
    "plt.imshow(coef_cc, cmap='bwr')\n",
    "plt.colorbar()"
   ]
  },
  {
   "cell_type": "code",
   "execution_count": null,
   "id": "385b7009",
   "metadata": {},
   "outputs": [],
   "source": [
    "plt.figure()\n",
    "plt.imshow(coef_lr, cmap='bwr')\n",
    "plt.colorbar()"
   ]
  },
  {
   "cell_type": "raw",
   "id": "7be8c3c2",
   "metadata": {},
   "source": [
    "plt.figure()\n",
    "plt.imshow(bnpm.image_processing.stack_to_RGB([FOV_decoder*10, coef_rs*0.01, FOV_decoder * coef_rs*1]))"
   ]
  },
  {
   "cell_type": "code",
   "execution_count": null,
   "id": "a86aa3b4",
   "metadata": {},
   "outputs": [],
   "source": []
  },
  {
   "cell_type": "code",
   "execution_count": null,
   "id": "57e4d851",
   "metadata": {},
   "outputs": [],
   "source": [
    "bnpm.file_helpers.pickle_save(\n",
    "    obj={\n",
    "        'date': date,\n",
    "        'mouse': mouse,\n",
    "        'cage': cage,\n",
    "        'FOV_decoder': FOV_decoder,\n",
    "        'coef_cov': coef_cov,\n",
    "        'coef_lr': coef_lr,\n",
    "        'coef_cc': coef_cc,\n",
    "        'et_traces_end': et_traces_end,\n",
    "        'et_traces_start': et_traces_start,\n",
    "        'X': X,\n",
    "        'y': y,\n",
    "    },\n",
    "    path_save=f'/home/rich/Desktop/pixelwise/pix_{date}.pkl',\n",
    "    mkdir=True,\n",
    ")"
   ]
  },
  {
   "cell_type": "code",
   "execution_count": null,
   "id": "e816ea52",
   "metadata": {},
   "outputs": [],
   "source": []
  },
  {
   "cell_type": "raw",
   "id": "b2326b8c",
   "metadata": {},
   "source": [
    "test = {date: bnpm.file_helpers.pickle_load(\n",
    "    filename=f'/home/rich/Desktop/pixelwise/pix_{date}.pkl'\n",
    ") for date in dates_toUse}"
   ]
  },
  {
   "cell_type": "raw",
   "id": "37f29beb",
   "metadata": {},
   "source": [
    "[(plt.figure(figsize=(20,10)), plt.imshow(test[date]['coef_lr'], cmap='viridis'), plt.colorbar()) for date in dates_toUse];"
   ]
  },
  {
   "cell_type": "code",
   "execution_count": null,
   "id": "e49bb4c0",
   "metadata": {},
   "outputs": [],
   "source": []
  },
  {
   "cell_type": "code",
   "execution_count": null,
   "id": "e4343085",
   "metadata": {},
   "outputs": [],
   "source": []
  },
  {
   "cell_type": "code",
   "execution_count": null,
   "id": "620310c6",
   "metadata": {},
   "outputs": [],
   "source": []
  },
  {
   "cell_type": "code",
   "execution_count": null,
   "id": "bb781936",
   "metadata": {},
   "outputs": [],
   "source": []
  },
  {
   "cell_type": "code",
   "execution_count": null,
   "id": "d42ca849",
   "metadata": {},
   "outputs": [],
   "source": []
  },
  {
   "cell_type": "code",
   "execution_count": null,
   "id": "79673c4c",
   "metadata": {},
   "outputs": [],
   "source": []
  },
  {
   "cell_type": "code",
   "execution_count": null,
   "id": "7951a156",
   "metadata": {},
   "outputs": [],
   "source": []
  },
  {
   "cell_type": "code",
   "execution_count": null,
   "id": "60cba9e5",
   "metadata": {},
   "outputs": [],
   "source": []
  },
  {
   "cell_type": "code",
   "execution_count": null,
   "id": "7370b10d",
   "metadata": {},
   "outputs": [],
   "source": []
  },
  {
   "cell_type": "code",
   "execution_count": null,
   "id": "8c6b1de7",
   "metadata": {},
   "outputs": [],
   "source": []
  }
 ],
 "metadata": {
  "kernelspec": {
   "display_name": "Python 3 (ipykernel)",
   "language": "python",
   "name": "python3"
  },
  "language_info": {
   "codemirror_mode": {
    "name": "ipython",
    "version": 3
   },
   "file_extension": ".py",
   "mimetype": "text/x-python",
   "name": "python",
   "nbconvert_exporter": "python",
   "pygments_lexer": "ipython3",
   "version": "3.9.13"
  }
 },
 "nbformat": 4,
 "nbformat_minor": 5
}
