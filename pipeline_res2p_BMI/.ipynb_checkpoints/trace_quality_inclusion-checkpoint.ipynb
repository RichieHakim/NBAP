{
 "cells": [
  {
   "cell_type": "code",
   "execution_count": 1,
   "id": "9b64a15e",
   "metadata": {},
   "outputs": [
    {
     "data": {
      "text/html": [
       "<style>.container { width:95% !important; }</style>"
      ],
      "text/plain": [
       "<IPython.core.display.HTML object>"
      ]
     },
     "metadata": {},
     "output_type": "display_data"
    }
   ],
   "source": [
    "from IPython.display import display, HTML\n",
    "display(HTML(\"<style>.container { width:95% !important; }</style>\"))"
   ]
  },
  {
   "cell_type": "code",
   "execution_count": 2,
   "id": "f4e46adb",
   "metadata": {},
   "outputs": [],
   "source": [
    "from pathlib import Path\n",
    "import copy\n",
    "\n",
    "import numpy as np\n",
    "import scipy.sparse\n",
    "import matplotlib.pyplot as plt\n",
    "from tqdm import tqdm"
   ]
  },
  {
   "cell_type": "code",
   "execution_count": 3,
   "id": "0f5b3134",
   "metadata": {},
   "outputs": [],
   "source": [
    "dir_s2p_outer         = Path(r'/media/rich/bigSSD/downloads_tmp/tmp_data/mouse_0322R/statFiles/').resolve()"
   ]
  },
  {
   "cell_type": "code",
   "execution_count": 4,
   "id": "a7ce187c",
   "metadata": {},
   "outputs": [],
   "source": [
    "# import sys\n",
    "# sys.path.append(str(dir_github))\n",
    "\n",
    "%load_ext autoreload\n",
    "%autoreload 2\n",
    "\n",
    "# from basic_neural_processing_modules import ca2p_preprocessing, file_helpers\n",
    "from bnpm import ca2p_preprocessing, file_helpers, path_helpers\n",
    "import bnpm.path_helpers, bnpm.file_helpers"
   ]
  },
  {
   "cell_type": "code",
   "execution_count": 5,
   "id": "29c6a96a",
   "metadata": {},
   "outputs": [
    {
     "name": "stdout",
     "output_type": "stream",
     "text": [
      "The autoreload extension is already loaded. To reload it, use:\n",
      "  %reload_ext autoreload\n"
     ]
    }
   ],
   "source": [
    "%load_ext autoreload\n",
    "%autoreload 2\n",
    "import roicat\n"
   ]
  },
  {
   "cell_type": "code",
   "execution_count": 6,
   "id": "389aa22f",
   "metadata": {},
   "outputs": [],
   "source": [
    "paths_tmp = bnpm.path_helpers.find_paths(\n",
    "    dir_outer=dir_s2p_outer,\n",
    "    reMatch='stat.npy',\n",
    "    depth=4,\n",
    ")"
   ]
  },
  {
   "cell_type": "code",
   "execution_count": 7,
   "id": "366d9f8b",
   "metadata": {},
   "outputs": [],
   "source": [
    "dates_of_files = [Path(d).parent.name for d in paths_tmp]"
   ]
  },
  {
   "cell_type": "code",
   "execution_count": 8,
   "id": "7a4a88d7",
   "metadata": {},
   "outputs": [],
   "source": [
    "dirs_s2p_all = {d: str(Path(p).resolve().parent) for d, p in zip(dates_of_files, paths_tmp)}"
   ]
  },
  {
   "cell_type": "code",
   "execution_count": 9,
   "id": "9786fead",
   "metadata": {},
   "outputs": [],
   "source": [
    "paths_s2p = {fn: {d: str(Path(p) / fn) for d, p in dirs_s2p_all.items()} for fn in ['stat.npy', 'ops.npy', 'F.npy', 'Fneu.npy']}"
   ]
  },
  {
   "cell_type": "code",
   "execution_count": null,
   "id": "6ccccd5d",
   "metadata": {},
   "outputs": [],
   "source": []
  },
  {
   "cell_type": "code",
   "execution_count": 10,
   "id": "b83e4373",
   "metadata": {},
   "outputs": [
    {
     "data": {
      "text/plain": [
       "{'20230419': '/media/rich/bigSSD/downloads_tmp/tmp_data/mouse_0322R/statFiles/20230419',\n",
       " '20230420': '/media/rich/bigSSD/downloads_tmp/tmp_data/mouse_0322R/statFiles/20230420',\n",
       " '20230424': '/media/rich/bigSSD/downloads_tmp/tmp_data/mouse_0322R/statFiles/20230424',\n",
       " '20230425': '/media/rich/bigSSD/downloads_tmp/tmp_data/mouse_0322R/statFiles/20230425',\n",
       " '20230426': '/media/rich/bigSSD/downloads_tmp/tmp_data/mouse_0322R/statFiles/20230426',\n",
       " '20230427': '/media/rich/bigSSD/downloads_tmp/tmp_data/mouse_0322R/statFiles/20230427',\n",
       " '20230428': '/media/rich/bigSSD/downloads_tmp/tmp_data/mouse_0322R/statFiles/20230428',\n",
       " '20230429': '/media/rich/bigSSD/downloads_tmp/tmp_data/mouse_0322R/statFiles/20230429',\n",
       " '20230430': '/media/rich/bigSSD/downloads_tmp/tmp_data/mouse_0322R/statFiles/20230430',\n",
       " '20230501': '/media/rich/bigSSD/downloads_tmp/tmp_data/mouse_0322R/statFiles/20230501',\n",
       " '20230502': '/media/rich/bigSSD/downloads_tmp/tmp_data/mouse_0322R/statFiles/20230502',\n",
       " '20230503': '/media/rich/bigSSD/downloads_tmp/tmp_data/mouse_0322R/statFiles/20230503',\n",
       " '20230504': '/media/rich/bigSSD/downloads_tmp/tmp_data/mouse_0322R/statFiles/20230504',\n",
       " '20230505': '/media/rich/bigSSD/downloads_tmp/tmp_data/mouse_0322R/statFiles/20230505',\n",
       " '20230506': '/media/rich/bigSSD/downloads_tmp/tmp_data/mouse_0322R/statFiles/20230506',\n",
       " '20230507': '/media/rich/bigSSD/downloads_tmp/tmp_data/mouse_0322R/statFiles/20230507',\n",
       " '20230508': '/media/rich/bigSSD/downloads_tmp/tmp_data/mouse_0322R/statFiles/20230508',\n",
       " '20230509': '/media/rich/bigSSD/downloads_tmp/tmp_data/mouse_0322R/statFiles/20230509'}"
      ]
     },
     "execution_count": 10,
     "metadata": {},
     "output_type": "execute_result"
    }
   ],
   "source": [
    "dirs_s2p_all"
   ]
  },
  {
   "cell_type": "code",
   "execution_count": 11,
   "id": "63ea574a",
   "metadata": {},
   "outputs": [
    {
     "name": "stdout",
     "output_type": "stream",
     "text": [
      "iscell.npy not found in /media/rich/bigSSD/downloads_tmp/tmp_data/mouse_0322R/statFiles/20230419\n",
      "iscell.npy not found in /media/rich/bigSSD/downloads_tmp/tmp_data/mouse_0322R/statFiles/20230420\n",
      "iscell.npy not found in /media/rich/bigSSD/downloads_tmp/tmp_data/mouse_0322R/statFiles/20230426\n",
      "iscell.npy not found in /media/rich/bigSSD/downloads_tmp/tmp_data/mouse_0322R/statFiles/20230427\n",
      "iscell.npy not found in /media/rich/bigSSD/downloads_tmp/tmp_data/mouse_0322R/statFiles/20230428\n",
      "iscell.npy not found in /media/rich/bigSSD/downloads_tmp/tmp_data/mouse_0322R/statFiles/20230429\n",
      "iscell.npy not found in /media/rich/bigSSD/downloads_tmp/tmp_data/mouse_0322R/statFiles/20230430\n",
      "iscell.npy not found in /media/rich/bigSSD/downloads_tmp/tmp_data/mouse_0322R/statFiles/20230501\n",
      "iscell.npy not found in /media/rich/bigSSD/downloads_tmp/tmp_data/mouse_0322R/statFiles/20230502\n",
      "iscell.npy not found in /media/rich/bigSSD/downloads_tmp/tmp_data/mouse_0322R/statFiles/20230503\n",
      "iscell.npy not found in /media/rich/bigSSD/downloads_tmp/tmp_data/mouse_0322R/statFiles/20230504\n",
      "iscell.npy not found in /media/rich/bigSSD/downloads_tmp/tmp_data/mouse_0322R/statFiles/20230505\n",
      "iscell.npy not found in /media/rich/bigSSD/downloads_tmp/tmp_data/mouse_0322R/statFiles/20230506\n",
      "iscell.npy not found in /media/rich/bigSSD/downloads_tmp/tmp_data/mouse_0322R/statFiles/20230507\n",
      "iscell.npy not found in /media/rich/bigSSD/downloads_tmp/tmp_data/mouse_0322R/statFiles/20230508\n",
      "iscell.npy not found in /media/rich/bigSSD/downloads_tmp/tmp_data/mouse_0322R/statFiles/20230509\n"
     ]
    }
   ],
   "source": [
    "## == IMPORT DATA ==\n",
    "data_s2p_all = {d: ca2p_preprocessing.import_s2p(p) for d, p in dirs_s2p_all.items()}"
   ]
  },
  {
   "cell_type": "code",
   "execution_count": 12,
   "id": "0b75697d",
   "metadata": {},
   "outputs": [],
   "source": [
    "data_s2p_all = {d: {\n",
    "    'F': s[0], \n",
    "    'Fneu': s[1], \n",
    "    'iscell': s[2], \n",
    "    'ops': s[3], \n",
    "    'spks': s[4], \n",
    "    'stat': s[5]\n",
    "} for d, s in data_s2p_all.items()}"
   ]
  },
  {
   "cell_type": "code",
   "execution_count": 18,
   "id": "a813ffa7",
   "metadata": {
    "scrolled": false
   },
   "outputs": [
    {
     "name": "stderr",
     "output_type": "stream",
     "text": [
      "\r",
      "  0%|                                                    | 0/18 [00:00<?, ?it/s]"
     ]
    },
    {
     "name": "stdout",
     "output_type": "stream",
     "text": [
      "Calculated dFoF. Total elapsed time: 0.78 seconds\n"
     ]
    },
    {
     "name": "stderr",
     "output_type": "stream",
     "text": [
      "\n",
      "  0%|                                                    | 0/36 [00:00<?, ?it/s]\u001b[A\n",
      "  3%|█▏                                          | 1/36 [00:17<10:00, 17.16s/it]\u001b[A\n",
      "  6%|██▍                                         | 2/36 [00:17<04:11,  7.41s/it]\u001b[A\n",
      "  8%|███▋                                        | 3/36 [00:18<02:22,  4.31s/it]\u001b[A\n",
      " 19%|████████▌                                   | 7/36 [00:18<00:35,  1.22s/it]\u001b[A\n",
      " 25%|███████████                                 | 9/36 [00:18<00:22,  1.21it/s]\u001b[A\n",
      " 31%|█████████████▏                             | 11/36 [00:20<00:19,  1.27it/s]\u001b[A\n",
      " 50%|█████████████████████▌                     | 18/36 [00:20<00:05,  3.05it/s]\u001b[A\n",
      " 56%|███████████████████████▉                   | 20/36 [00:21<00:05,  3.00it/s]\u001b[A\n",
      " 72%|███████████████████████████████            | 26/36 [00:21<00:02,  4.77it/s]\u001b[A\n",
      "100%|███████████████████████████████████████████| 36/36 [00:21<00:00,  1.67it/s]\u001b[A\n"
     ]
    },
    {
     "name": "stdout",
     "output_type": "stream",
     "text": [
      "Calculated dFoF. Total elapsed time: 31.68 seconds\n"
     ]
    },
    {
     "name": "stderr",
     "output_type": "stream",
     "text": [
      "  0%|                                                    | 0/18 [00:36<?, ?it/s]\n"
     ]
    },
    {
     "ename": "TypeError",
     "evalue": "'float' object is not subscriptable",
     "output_type": "error",
     "traceback": [
      "\u001b[0;31m---------------------------------------------------------------------------\u001b[0m",
      "\u001b[0;31mTypeError\u001b[0m                                 Traceback (most recent call last)",
      "Cell \u001b[0;32mIn [18], line 77\u001b[0m\n\u001b[1;32m     55\u001b[0m \u001b[38;5;66;03m# thresh = {\u001b[39;00m\n\u001b[1;32m     56\u001b[0m \u001b[38;5;66;03m#     'var_ratio': 0.4,\u001b[39;00m\n\u001b[1;32m     57\u001b[0m \u001b[38;5;66;03m#     'EV_F_by_Fneu': 0.5,\u001b[39;00m\n\u001b[0;32m   (...)\u001b[0m\n\u001b[1;32m     63\u001b[0m \u001b[38;5;66;03m#     'baseline_var': 0.0003,\u001b[39;00m\n\u001b[1;32m     64\u001b[0m \u001b[38;5;66;03m# }\u001b[39;00m\n\u001b[1;32m     66\u001b[0m thresh \u001b[38;5;241m=\u001b[39m {\n\u001b[1;32m     67\u001b[0m     \u001b[38;5;124m'\u001b[39m\u001b[38;5;124mvar_ratio__Fneu_over_F\u001b[39m\u001b[38;5;124m'\u001b[39m: \u001b[38;5;241m0.5\u001b[39m,\n\u001b[1;32m     68\u001b[0m     \u001b[38;5;124m'\u001b[39m\u001b[38;5;124mEV__F_by_Fneu\u001b[39m\u001b[38;5;124m'\u001b[39m: \u001b[38;5;241m0.5\u001b[39m,\n\u001b[0;32m   (...)\u001b[0m\n\u001b[1;32m     74\u001b[0m     \u001b[38;5;124m'\u001b[39m\u001b[38;5;124mbaseline_var\u001b[39m\u001b[38;5;124m'\u001b[39m: \u001b[38;5;241m0.01\u001b[39m,\n\u001b[1;32m     75\u001b[0m } \n\u001b[0;32m---> 77\u001b[0m tqm, iscell_tqm \u001b[38;5;241m=\u001b[39m \u001b[43mca2p_preprocessing\u001b[49m\u001b[38;5;241;43m.\u001b[39;49m\u001b[43mtrace_quality_metrics\u001b[49m\u001b[43m(\u001b[49m\n\u001b[1;32m     78\u001b[0m \u001b[43m    \u001b[49m\u001b[43mF\u001b[49m\u001b[38;5;241;43m=\u001b[39;49m\u001b[43mF\u001b[49m\u001b[43m,\u001b[49m\n\u001b[1;32m     79\u001b[0m \u001b[43m    \u001b[49m\u001b[43mFneu\u001b[49m\u001b[38;5;241;43m=\u001b[39;49m\u001b[43mFneu\u001b[49m\u001b[43m,\u001b[49m\n\u001b[1;32m     80\u001b[0m \u001b[43m    \u001b[49m\u001b[43mdFoF\u001b[49m\u001b[38;5;241;43m=\u001b[39;49m\u001b[43mdFoF_rollingPtile\u001b[49m\u001b[43m,\u001b[49m\n\u001b[1;32m     81\u001b[0m \u001b[43m    \u001b[49m\u001b[43mF_neuSub\u001b[49m\u001b[38;5;241;43m=\u001b[39;49m\u001b[43mF_neuSub\u001b[49m\u001b[43m,\u001b[49m\n\u001b[1;32m     82\u001b[0m \u001b[43m    \u001b[49m\u001b[43mF_baseline_roll\u001b[49m\u001b[38;5;241;43m=\u001b[39;49m\u001b[43mF_baseline_rollingPtile\u001b[49m\u001b[43m,\u001b[49m\n\u001b[1;32m     83\u001b[0m \u001b[43m    \u001b[49m\u001b[43mpercentile_baseline\u001b[49m\u001b[38;5;241;43m=\u001b[39;49m\u001b[43mpercentile_baseline\u001b[49m\u001b[43m,\u001b[49m\n\u001b[1;32m     84\u001b[0m \u001b[43m    \u001b[49m\u001b[43mwindow_rolling_baseline\u001b[49m\u001b[38;5;241;43m=\u001b[39;49m\u001b[43mwin_rolling_percentile\u001b[49m\u001b[43m,\u001b[49m\n\u001b[1;32m     85\u001b[0m \u001b[43m    \u001b[49m\u001b[43mFs\u001b[49m\u001b[38;5;241;43m=\u001b[39;49m\u001b[43mFs\u001b[49m\u001b[43m,\u001b[49m\n\u001b[1;32m     86\u001b[0m \u001b[43m    \u001b[49m\u001b[43mplot_pref\u001b[49m\u001b[38;5;241;43m=\u001b[39;49m\u001b[38;5;28;43;01mTrue\u001b[39;49;00m\u001b[43m,\u001b[49m\n\u001b[1;32m     87\u001b[0m \u001b[43m    \u001b[49m\u001b[43mthresh\u001b[49m\u001b[38;5;241;43m=\u001b[39;49m\u001b[43mthresh\u001b[49m\u001b[43m,\u001b[49m\n\u001b[1;32m     88\u001b[0m \u001b[43m\u001b[49m\u001b[43m)\u001b[49m\n\u001b[1;32m     89\u001b[0m idxROI_tqm_toInclude \u001b[38;5;241m=\u001b[39m np\u001b[38;5;241m.\u001b[39mwhere(iscell_tqm)[\u001b[38;5;241m0\u001b[39m]\n\u001b[1;32m     90\u001b[0m idxROI_tqm_toExclude \u001b[38;5;241m=\u001b[39m np\u001b[38;5;241m.\u001b[39mwhere(\u001b[38;5;241m~\u001b[39miscell_tqm)[\u001b[38;5;241m0\u001b[39m]\n",
      "File \u001b[0;32m/media/rich/Home_Linux_partition/github_repos/basic_neural_processing_modules/bnpm/ca2p_preprocessing.py:485\u001b[0m, in \u001b[0;36mtrace_quality_metrics\u001b[0;34m(F, Fneu, dFoF, F_neuSub, F_baseline_roll, percentile_baseline, window_rolling_baseline, Fs, plot_pref, thresh, device)\u001b[0m\n\u001b[1;32m    483\u001b[0m classifications \u001b[38;5;241m=\u001b[39m \u001b[38;5;28mdict\u001b[39m()\n\u001b[1;32m    484\u001b[0m \u001b[38;5;28;01mfor\u001b[39;00m ii, met \u001b[38;5;129;01min\u001b[39;00m \u001b[38;5;28menumerate\u001b[39m(metrics):\n\u001b[0;32m--> 485\u001b[0m     to_exclude \u001b[38;5;241m=\u001b[39m (metrics[met] \u001b[38;5;241m<\u001b[39m \u001b[43mthresh\u001b[49m\u001b[43m[\u001b[49m\u001b[43mmet\u001b[49m\u001b[43m]\u001b[49m\u001b[43m[\u001b[49m\u001b[38;5;241;43m0\u001b[39;49m\u001b[43m]\u001b[49m) \u001b[38;5;241m+\u001b[39m (thresh[met][\u001b[38;5;241m1\u001b[39m] \u001b[38;5;241m<\u001b[39m metrics[met]) \u001b[38;5;241m+\u001b[39m np\u001b[38;5;241m.\u001b[39misnan(metrics[met]) \u001b[38;5;66;03m# note that if NaN then excluded\u001b[39;00m\n\u001b[1;32m    486\u001b[0m     classifications[met] \u001b[38;5;241m=\u001b[39m np\u001b[38;5;241m.\u001b[39mlogical_not(to_exclude)\n\u001b[1;32m    487\u001b[0m     good_ROIs[to_exclude] \u001b[38;5;241m=\u001b[39m \u001b[38;5;28;01mFalse\u001b[39;00m\n",
      "\u001b[0;31mTypeError\u001b[0m: 'float' object is not subscriptable"
     ]
    }
   ],
   "source": [
    "results = {}\n",
    "\n",
    "for date, data in tqdm(data_s2p_all.items()):\n",
    "    F, Fneu, ops, stat = data['F'], data['Fneu'], data['ops'], data['stat']\n",
    "    \n",
    "    n_frames, n_rois = F.shape[1], F.shape[0]\n",
    "    Fs = ops['fs']\n",
    "\n",
    "    # channelOffset_correction = 0\n",
    "    percentile_baseline = 30\n",
    "    neuropil_fraction=0.7\n",
    "\n",
    "    dFoF , dF , F_neuSub , F_baseline = ca2p_preprocessing.make_dFoF(\n",
    "        F=F,\n",
    "        Fneu=Fneu,\n",
    "        neuropil_fraction=neuropil_fraction,\n",
    "        percentile_baseline=percentile_baseline,\n",
    "        rolling_percentile_window=None,\n",
    "        multicore_pref=True,\n",
    "        verbose=True\n",
    "    )\n",
    "\n",
    "    dFoF_params = {\n",
    "        \"channelOffset_correction\": 0,\n",
    "        \"percentile_baseline\": percentile_baseline,\n",
    "        \"neuropil_fraction\": neuropil_fraction,\n",
    "    }\n",
    "\n",
    "    # dFoF with reduced percentile for baseline\n",
    "    channelOffset_correction = 0\n",
    "    percentile_baseline = 30\n",
    "    neuropil_fraction = 0.7\n",
    "    win_rolling_percentile = 15*60*30\n",
    "\n",
    "    dFoF_rollingPtile, dF_rollingPtile, F_neuSub_rollingPtile, F_baseline_rollingPtile = ca2p_preprocessing.make_dFoF(\n",
    "        F=F,\n",
    "        Fneu=Fneu,\n",
    "        neuropil_fraction=neuropil_fraction,\n",
    "        percentile_baseline=percentile_baseline,\n",
    "        rolling_percentile_window=win_rolling_percentile,\n",
    "        multicore_pref=True,\n",
    "        verbose=True\n",
    "    )\n",
    "    # # Threshold for nonnegativity\n",
    "    # dFoF_z = dFoF / np.std(dFoF,axis=1,keepdims=True)\n",
    "\n",
    "    dFoF_params = {\n",
    "        \"channelOffset_correction\": 0,\n",
    "        \"percentile_baseline\": percentile_baseline,\n",
    "        \"neuropil_fraction\": neuropil_fraction,\n",
    "    }\n",
    "\n",
    "    %matplotlib notebook\n",
    "\n",
    "    # thresh = {\n",
    "    #     'var_ratio': 0.4,\n",
    "    #     'EV_F_by_Fneu': 0.5,\n",
    "    #     'base_FneuSub': 200,\n",
    "    #     'base_F': 100,\n",
    "    #     'peter_noise_levels': 5,\n",
    "    #     'rich_nsr': 7,\n",
    "    #     'max_dFoF': 10,\n",
    "    #     'baseline_var': 0.0003,\n",
    "    # }\n",
    "\n",
    "    thresh = {\n",
    "        'var_ratio__Fneu_over_F': (0, 0.5),\n",
    "        'EV__F_by_Fneu': (0, 0.7),\n",
    "        'base_FneuSub': (100, 2000),\n",
    "        'base_F': (200, 3500),\n",
    "        'nsr_autoregressive': (0, 6),\n",
    "        'noise_derivMAD': (0, 0.015),\n",
    "        'max_dFoF': (0.75, 10),\n",
    "        'baseline_var': (0, 0.015),\n",
    "    }\n",
    "\n",
    "    tqm, iscell_tqm = ca2p_preprocessing.trace_quality_metrics(\n",
    "        F=F,\n",
    "        Fneu=Fneu,\n",
    "        dFoF=dFoF_rollingPtile,\n",
    "        F_neuSub=F_neuSub,\n",
    "        F_baseline_roll=F_baseline_rollingPtile,\n",
    "        percentile_baseline=percentile_baseline,\n",
    "        window_rolling_baseline=win_rolling_percentile,\n",
    "        Fs=Fs,\n",
    "        plot_pref=True,\n",
    "        thresh=thresh,\n",
    "    )\n",
    "    idxROI_tqm_toInclude = np.where(iscell_tqm)[0]\n",
    "    idxROI_tqm_toExclude = np.where(~iscell_tqm)[0]\n",
    "    \n",
    "    results[date] = {\n",
    "        'tqm': tqm,\n",
    "        'iscell_tqm': iscell_tqm,\n",
    "    }"
   ]
  },
  {
   "cell_type": "code",
   "execution_count": 16,
   "id": "dc428b2b",
   "metadata": {},
   "outputs": [],
   "source": [
    "iscell_new = copy.copy(iscell)\n",
    "iscell_new[iscell_new] = iscell_tqm"
   ]
  },
  {
   "cell_type": "code",
   "execution_count": 17,
   "id": "ad844a33",
   "metadata": {},
   "outputs": [],
   "source": [
    "file_helpers.pickle_save(\n",
    "    obj={\n",
    "        \"tqm\": tqm,\n",
    "        \"iscell_tqm\": iscell_tqm,\n",
    "        \"dFoF_params\": dFoF_params\n",
    "    },\n",
    "    path_save=dir_save / 'trace_quality.pkl'\n",
    ")\n",
    "\n",
    "np.save(\n",
    "    file= dir_save / 'iscell_NN_tqm.npy',\n",
    "    arr=iscell_new\n",
    ")"
   ]
  },
  {
   "cell_type": "code",
   "execution_count": null,
   "id": "c1b64cf7",
   "metadata": {},
   "outputs": [],
   "source": []
  },
  {
   "cell_type": "code",
   "execution_count": null,
   "id": "96455568",
   "metadata": {},
   "outputs": [],
   "source": []
  },
  {
   "cell_type": "code",
   "execution_count": null,
   "id": "89ba5eaf",
   "metadata": {},
   "outputs": [],
   "source": []
  }
 ],
 "metadata": {
  "kernelspec": {
   "display_name": "Python 3 (ipykernel)",
   "language": "python",
   "name": "python3"
  },
  "language_info": {
   "codemirror_mode": {
    "name": "ipython",
    "version": 3
   },
   "file_extension": ".py",
   "mimetype": "text/x-python",
   "name": "python",
   "nbconvert_exporter": "python",
   "pygments_lexer": "ipython3",
   "version": "3.9.13"
  }
 },
 "nbformat": 4,
 "nbformat_minor": 5
}
