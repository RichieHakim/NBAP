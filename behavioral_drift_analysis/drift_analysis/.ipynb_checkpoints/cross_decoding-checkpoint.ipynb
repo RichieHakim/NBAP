{
 "cells": [
  {
   "cell_type": "code",
   "execution_count": 1,
   "id": "eb615f81-8421-41b8-a86c-bebead4185fe",
   "metadata": {},
   "outputs": [
    {
     "data": {
      "text/html": [
       "<style>:root { --jp-notebook-max-width: 100% !important; }</style>"
      ],
      "text/plain": [
       "<IPython.core.display.HTML object>"
      ]
     },
     "metadata": {},
     "output_type": "display_data"
    },
    {
     "data": {
      "text/html": [
       "<style>.container {width:100% !important; }</style>"
      ],
      "text/plain": [
       "<IPython.core.display.HTML object>"
      ]
     },
     "metadata": {},
     "output_type": "display_data"
    },
    {
     "name": "stdout",
     "output_type": "stream",
     "text": [
      "Conda Environment: roicat\n"
     ]
    }
   ],
   "source": [
    "from IPython.display import display, HTML\n",
    "display(HTML(\"<style>:root { --jp-notebook-max-width: 100% !important; }</style>\"))\n",
    "display(HTML(\"<style>.container {width:100% !important; }</style>\"))\n",
    "\n",
    "# check environment\n",
    "import os\n",
    "print(f'Conda Environment: ' + os.environ['CONDA_DEFAULT_ENV'])"
   ]
  },
  {
   "cell_type": "code",
   "execution_count": 2,
   "id": "369693ec-5bab-4ca6-94d0-42fa2a23892a",
   "metadata": {},
   "outputs": [],
   "source": [
    "from pathlib import Path\n",
    "import copy\n",
    "import functools\n",
    "import gc\n",
    "\n",
    "import numpy as np\n",
    "import matplotlib.pyplot as plt\n",
    "import pandas as pd\n",
    "from tqdm import tqdm\n",
    "import natsort\n",
    "import sklearn\n",
    "import torch\n"
   ]
  },
  {
   "cell_type": "code",
   "execution_count": 3,
   "id": "cf497d98-39dd-4041-a6b0-f24e5177dad2",
   "metadata": {},
   "outputs": [],
   "source": [
    "%load_ext autoreload\n",
    "%autoreload 2\n",
    "import bnpm"
   ]
  },
  {
   "cell_type": "code",
   "execution_count": null,
   "id": "b57383bc-8d55-4d81-974b-4bdbe526cc42",
   "metadata": {},
   "outputs": [],
   "source": []
  },
  {
   "cell_type": "code",
   "execution_count": 4,
   "id": "73371ad5-3c4c-4a14-b3f3-df0962ef909c",
   "metadata": {},
   "outputs": [],
   "source": [
    "mouse = 'mouse_0322R'"
   ]
  },
  {
   "cell_type": "code",
   "execution_count": 5,
   "id": "24ce3c3a-3e08-47b3-abb5-94af5e8266ae",
   "metadata": {},
   "outputs": [],
   "source": [
    "dir_dFoF = f'/media/rich/bigSSD/analysis_data/face_rhythm/{mouse}/dFoF_aligned/'\n",
    "\n",
    "if mouse == 'mouse_0322R':\n",
    "    ## mouse_0322R\n",
    "    dates_toExclude = [\n",
    "        '20230507',\n",
    "        '20230515',\n",
    "    ]\n",
    "\n",
    "elif mouse == 'mouse_0403L':\n",
    "    ## mouse_0403L\n",
    "    dates_toExclude = [\n",
    "        '20230719',\n",
    "    ]\n",
    "\n",
    "elif mouse == 'mouse_0322N':\n",
    "    # 0322N\n",
    "    dates_toExclude = []\n",
    "\n",
    "\n",
    "else:\n",
    "    dates_toExclude = []"
   ]
  },
  {
   "cell_type": "code",
   "execution_count": 7,
   "id": "6b45f4bf",
   "metadata": {},
   "outputs": [],
   "source": [
    "dir_tca = f'/media/rich/bigSSD/analysis_data/face_rhythm/{mouse}/ws_and_tca__idx_SI/'"
   ]
  },
  {
   "cell_type": "code",
   "execution_count": null,
   "id": "23ce5834",
   "metadata": {},
   "outputs": [],
   "source": []
  },
  {
   "cell_type": "code",
   "execution_count": 8,
   "id": "42d9786c-a05f-4748-b9f3-8f1303a70d52",
   "metadata": {},
   "outputs": [],
   "source": [
    "paths_dFoF = bnpm.path_helpers.find_paths(\n",
    "    dir_outer=dir_dFoF,\n",
    "    reMatch='dFoF_aligned.*npy',\n",
    "    depth=4,\n",
    "    natsorted=True,\n",
    ")"
   ]
  },
  {
   "cell_type": "code",
   "execution_count": 9,
   "id": "9f47660a",
   "metadata": {},
   "outputs": [
    {
     "data": {
      "text/plain": [
       "['/media/rich/bigSSD/analysis_data/face_rhythm/mouse_0322R/dFoF_aligned/20230424/dFoF_aligned .npy',\n",
       " '/media/rich/bigSSD/analysis_data/face_rhythm/mouse_0322R/dFoF_aligned/20230425/dFoF_aligned .npy',\n",
       " '/media/rich/bigSSD/analysis_data/face_rhythm/mouse_0322R/dFoF_aligned/20230426/dFoF_aligned .npy',\n",
       " '/media/rich/bigSSD/analysis_data/face_rhythm/mouse_0322R/dFoF_aligned/20230427/dFoF_aligned .npy',\n",
       " '/media/rich/bigSSD/analysis_data/face_rhythm/mouse_0322R/dFoF_aligned/20230428/dFoF_aligned .npy',\n",
       " '/media/rich/bigSSD/analysis_data/face_rhythm/mouse_0322R/dFoF_aligned/20230429/dFoF_aligned .npy',\n",
       " '/media/rich/bigSSD/analysis_data/face_rhythm/mouse_0322R/dFoF_aligned/20230430/dFoF_aligned .npy',\n",
       " '/media/rich/bigSSD/analysis_data/face_rhythm/mouse_0322R/dFoF_aligned/20230501/dFoF_aligned .npy',\n",
       " '/media/rich/bigSSD/analysis_data/face_rhythm/mouse_0322R/dFoF_aligned/20230502/dFoF_aligned .npy',\n",
       " '/media/rich/bigSSD/analysis_data/face_rhythm/mouse_0322R/dFoF_aligned/20230503/dFoF_aligned .npy',\n",
       " '/media/rich/bigSSD/analysis_data/face_rhythm/mouse_0322R/dFoF_aligned/20230504/dFoF_aligned .npy',\n",
       " '/media/rich/bigSSD/analysis_data/face_rhythm/mouse_0322R/dFoF_aligned/20230505/dFoF_aligned .npy',\n",
       " '/media/rich/bigSSD/analysis_data/face_rhythm/mouse_0322R/dFoF_aligned/20230506/dFoF_aligned .npy',\n",
       " '/media/rich/bigSSD/analysis_data/face_rhythm/mouse_0322R/dFoF_aligned/20230507/dFoF_aligned .npy',\n",
       " '/media/rich/bigSSD/analysis_data/face_rhythm/mouse_0322R/dFoF_aligned/20230508/dFoF_aligned .npy',\n",
       " '/media/rich/bigSSD/analysis_data/face_rhythm/mouse_0322R/dFoF_aligned/20230509/dFoF_aligned .npy',\n",
       " '/media/rich/bigSSD/analysis_data/face_rhythm/mouse_0322R/dFoF_aligned/20230511/dFoF_aligned .npy',\n",
       " '/media/rich/bigSSD/analysis_data/face_rhythm/mouse_0322R/dFoF_aligned/20230512/dFoF_aligned .npy',\n",
       " '/media/rich/bigSSD/analysis_data/face_rhythm/mouse_0322R/dFoF_aligned/20230513/dFoF_aligned .npy',\n",
       " '/media/rich/bigSSD/analysis_data/face_rhythm/mouse_0322R/dFoF_aligned/20230514/dFoF_aligned .npy',\n",
       " '/media/rich/bigSSD/analysis_data/face_rhythm/mouse_0322R/dFoF_aligned/20230515/dFoF_aligned .npy',\n",
       " '/media/rich/bigSSD/analysis_data/face_rhythm/mouse_0322R/dFoF_aligned/20230516/dFoF_aligned .npy',\n",
       " '/media/rich/bigSSD/analysis_data/face_rhythm/mouse_0322R/dFoF_aligned/20230517/dFoF_aligned .npy',\n",
       " '/media/rich/bigSSD/analysis_data/face_rhythm/mouse_0322R/dFoF_aligned/20230518/dFoF_aligned .npy',\n",
       " '/media/rich/bigSSD/analysis_data/face_rhythm/mouse_0322R/dFoF_aligned/20230519/dFoF_aligned .npy',\n",
       " '/media/rich/bigSSD/analysis_data/face_rhythm/mouse_0322R/dFoF_aligned/20230520/dFoF_aligned .npy',\n",
       " '/media/rich/bigSSD/analysis_data/face_rhythm/mouse_0322R/dFoF_aligned/20230521/dFoF_aligned .npy',\n",
       " '/media/rich/bigSSD/analysis_data/face_rhythm/mouse_0322R/dFoF_aligned/20230522/dFoF_aligned .npy',\n",
       " '/media/rich/bigSSD/analysis_data/face_rhythm/mouse_0322R/dFoF_aligned/20230523/dFoF_aligned .npy',\n",
       " '/media/rich/bigSSD/analysis_data/face_rhythm/mouse_0322R/dFoF_aligned/20230524/dFoF_aligned .npy',\n",
       " '/media/rich/bigSSD/analysis_data/face_rhythm/mouse_0322R/dFoF_aligned/20230525/dFoF_aligned .npy',\n",
       " '/media/rich/bigSSD/analysis_data/face_rhythm/mouse_0322R/dFoF_aligned/20230526/dFoF_aligned .npy',\n",
       " '/media/rich/bigSSD/analysis_data/face_rhythm/mouse_0322R/dFoF_aligned/20230527/dFoF_aligned .npy',\n",
       " '/media/rich/bigSSD/analysis_data/face_rhythm/mouse_0322R/dFoF_aligned/20230530/dFoF_aligned .npy',\n",
       " '/media/rich/bigSSD/analysis_data/face_rhythm/mouse_0322R/dFoF_aligned/20230531/dFoF_aligned .npy',\n",
       " '/media/rich/bigSSD/analysis_data/face_rhythm/mouse_0322R/dFoF_aligned/weights_remixed.npy']"
      ]
     },
     "execution_count": 9,
     "metadata": {},
     "output_type": "execute_result"
    }
   ],
   "source": [
    "paths_dFoF"
   ]
  },
  {
   "cell_type": "code",
   "execution_count": 10,
   "id": "e1096fee-93aa-4c56-92e0-8ae7b8da2f72",
   "metadata": {},
   "outputs": [],
   "source": [
    "dates_dFoF = [Path(p).parts[-2] for p in paths_dFoF]"
   ]
  },
  {
   "cell_type": "code",
   "execution_count": 11,
   "id": "a62c0bf3-44cd-4f3b-83de-201f04bdd3be",
   "metadata": {},
   "outputs": [],
   "source": [
    "# display(dates)\n",
    "# display(paths_dFoF)"
   ]
  },
  {
   "cell_type": "code",
   "execution_count": 12,
   "id": "38e91a31-2146-417b-aed6-2137f03c35ac",
   "metadata": {},
   "outputs": [],
   "source": [
    "dFoFs = {d: np.load(p, mmap_mode='r') for d, p in zip(dates_dFoF, paths_dFoF)}"
   ]
  },
  {
   "cell_type": "code",
   "execution_count": 13,
   "id": "7e8c1b48",
   "metadata": {},
   "outputs": [],
   "source": [
    "for date in dates_toExclude:\n",
    "    try:\n",
    "        dFoFs.pop(date)\n",
    "    except:\n",
    "        print(f'failed to exclude date: {date}')"
   ]
  },
  {
   "cell_type": "code",
   "execution_count": null,
   "id": "68ee2d77-f21f-42d7-ac4a-c2f297d5c714",
   "metadata": {},
   "outputs": [],
   "source": []
  },
  {
   "cell_type": "code",
   "execution_count": null,
   "id": "ad785dcc-fe9a-4f70-9db3-0f3d25ff7a17",
   "metadata": {},
   "outputs": [],
   "source": []
  },
  {
   "cell_type": "code",
   "execution_count": 14,
   "id": "039eed44-24bf-4ac8-9648-3304e73245a9",
   "metadata": {},
   "outputs": [
    {
     "name": "stdout",
     "output_type": "stream",
     "text": [
      "/media/rich/bigSSD/analysis_data/face_rhythm/mouse_0322R/ws_and_tca__idx_SI/20230424/tca_idxSI.npy\n",
      "/media/rich/bigSSD/analysis_data/face_rhythm/mouse_0322R/ws_and_tca__idx_SI/20230425/tca_idxSI.npy\n",
      "/media/rich/bigSSD/analysis_data/face_rhythm/mouse_0322R/ws_and_tca__idx_SI/20230426/tca_idxSI.npy\n",
      "/media/rich/bigSSD/analysis_data/face_rhythm/mouse_0322R/ws_and_tca__idx_SI/20230427/tca_idxSI.npy\n",
      "/media/rich/bigSSD/analysis_data/face_rhythm/mouse_0322R/ws_and_tca__idx_SI/20230428/tca_idxSI.npy\n",
      "/media/rich/bigSSD/analysis_data/face_rhythm/mouse_0322R/ws_and_tca__idx_SI/20230430/tca_idxSI.npy\n",
      "/media/rich/bigSSD/analysis_data/face_rhythm/mouse_0322R/ws_and_tca__idx_SI/20230501/tca_idxSI.npy\n",
      "/media/rich/bigSSD/analysis_data/face_rhythm/mouse_0322R/ws_and_tca__idx_SI/20230502/tca_idxSI.npy\n",
      "/media/rich/bigSSD/analysis_data/face_rhythm/mouse_0322R/ws_and_tca__idx_SI/20230503/tca_idxSI.npy\n",
      "/media/rich/bigSSD/analysis_data/face_rhythm/mouse_0322R/ws_and_tca__idx_SI/20230504/tca_idxSI.npy\n",
      "/media/rich/bigSSD/analysis_data/face_rhythm/mouse_0322R/ws_and_tca__idx_SI/20230505/tca_idxSI.npy\n",
      "/media/rich/bigSSD/analysis_data/face_rhythm/mouse_0322R/ws_and_tca__idx_SI/20230506/tca_idxSI.npy\n",
      "/media/rich/bigSSD/analysis_data/face_rhythm/mouse_0322R/ws_and_tca__idx_SI/20230507/tca_idxSI.npy\n",
      "/media/rich/bigSSD/analysis_data/face_rhythm/mouse_0322R/ws_and_tca__idx_SI/20230508/tca_idxSI.npy\n",
      "/media/rich/bigSSD/analysis_data/face_rhythm/mouse_0322R/ws_and_tca__idx_SI/20230509/tca_idxSI.npy\n",
      "/media/rich/bigSSD/analysis_data/face_rhythm/mouse_0322R/ws_and_tca__idx_SI/20230511/tca_idxSI.npy\n",
      "/media/rich/bigSSD/analysis_data/face_rhythm/mouse_0322R/ws_and_tca__idx_SI/20230512/tca_idxSI.npy\n",
      "/media/rich/bigSSD/analysis_data/face_rhythm/mouse_0322R/ws_and_tca__idx_SI/20230513/tca_idxSI.npy\n",
      "/media/rich/bigSSD/analysis_data/face_rhythm/mouse_0322R/ws_and_tca__idx_SI/20230514/tca_idxSI.npy\n",
      "/media/rich/bigSSD/analysis_data/face_rhythm/mouse_0322R/ws_and_tca__idx_SI/20230515/tca_idxSI.npy\n",
      "/media/rich/bigSSD/analysis_data/face_rhythm/mouse_0322R/ws_and_tca__idx_SI/20230516/tca_idxSI.npy\n",
      "/media/rich/bigSSD/analysis_data/face_rhythm/mouse_0322R/ws_and_tca__idx_SI/20230517/tca_idxSI.npy\n",
      "/media/rich/bigSSD/analysis_data/face_rhythm/mouse_0322R/ws_and_tca__idx_SI/20230518/tca_idxSI.npy\n",
      "/media/rich/bigSSD/analysis_data/face_rhythm/mouse_0322R/ws_and_tca__idx_SI/20230519/tca_idxSI.npy\n",
      "/media/rich/bigSSD/analysis_data/face_rhythm/mouse_0322R/ws_and_tca__idx_SI/20230520/tca_idxSI.npy\n",
      "/media/rich/bigSSD/analysis_data/face_rhythm/mouse_0322R/ws_and_tca__idx_SI/20230521/tca_idxSI.npy\n",
      "/media/rich/bigSSD/analysis_data/face_rhythm/mouse_0322R/ws_and_tca__idx_SI/20230522/tca_idxSI.npy\n",
      "/media/rich/bigSSD/analysis_data/face_rhythm/mouse_0322R/ws_and_tca__idx_SI/20230523/tca_idxSI.npy\n",
      "/media/rich/bigSSD/analysis_data/face_rhythm/mouse_0322R/ws_and_tca__idx_SI/20230524/tca_idxSI.npy\n",
      "/media/rich/bigSSD/analysis_data/face_rhythm/mouse_0322R/ws_and_tca__idx_SI/20230525/tca_idxSI.npy\n",
      "/media/rich/bigSSD/analysis_data/face_rhythm/mouse_0322R/ws_and_tca__idx_SI/20230526/tca_idxSI.npy\n",
      "/media/rich/bigSSD/analysis_data/face_rhythm/mouse_0322R/ws_and_tca__idx_SI/20230527/tca_idxSI.npy\n",
      "/media/rich/bigSSD/analysis_data/face_rhythm/mouse_0322R/ws_and_tca__idx_SI/20230530/tca_idxSI.npy\n",
      "/media/rich/bigSSD/analysis_data/face_rhythm/mouse_0322R/ws_and_tca__idx_SI/20230531/tca_idxSI.npy\n"
     ]
    }
   ],
   "source": [
    "paths_tca = bnpm.path_helpers.find_paths(\n",
    "    dir_outer=dir_tca,\n",
    "    reMatch='tca.*npy',\n",
    "    depth=4,\n",
    "    natsorted=True,\n",
    "    verbose=True,\n",
    ")\n",
    "\n",
    "dates_tca = [Path(p).parts[-2] for p in paths_tca]"
   ]
  },
  {
   "cell_type": "code",
   "execution_count": 15,
   "id": "3497f8c6-79cd-4b5f-bd7e-65405cedd105",
   "metadata": {},
   "outputs": [],
   "source": [
    "tcas = {d: np.load(p, mmap_mode='r') for d, p in zip(dates_tca, paths_tca)}"
   ]
  },
  {
   "cell_type": "code",
   "execution_count": null,
   "id": "af71b83a",
   "metadata": {},
   "outputs": [],
   "source": []
  },
  {
   "cell_type": "code",
   "execution_count": 16,
   "id": "7d717882-9689-4f16-8f20-843c95d1b8fc",
   "metadata": {},
   "outputs": [],
   "source": [
    "def prep_array_for_regression(arr, mean_sub=False, std_div=False, device='cpu'):\n",
    "    out = torch.as_tensor(arr, dtype=torch.float32, device=device)\n",
    "    if mean_sub:\n",
    "        out = out - torch.nanmean(out, dim=1, keepdim=True)\n",
    "    out = torch.nan_to_num(out, nan=0.0)\n",
    "    if std_div:\n",
    "        out = out / out.std(1, keepdim=True)\n",
    "    return out"
   ]
  },
  {
   "cell_type": "code",
   "execution_count": null,
   "id": "741474f1",
   "metadata": {},
   "outputs": [],
   "source": []
  },
  {
   "cell_type": "code",
   "execution_count": 17,
   "id": "481e3034",
   "metadata": {},
   "outputs": [
    {
     "name": "stdout",
     "output_type": "stream",
     "text": [
      "devices available: [_CudaDeviceProperties(name='NVIDIA GeForce RTX 3090', major=8, minor=6, total_memory=24226MB, multi_processor_count=82)]\n",
      "Using device: 'cuda:0': _CudaDeviceProperties(name='NVIDIA GeForce RTX 3090', major=8, minor=6, total_memory=24226MB, multi_processor_count=82)\n"
     ]
    }
   ],
   "source": [
    "DEVICE_regression = bnpm.torch_helpers.set_device(use_GPU=True)"
   ]
  },
  {
   "cell_type": "code",
   "execution_count": 18,
   "id": "ef9060a8",
   "metadata": {},
   "outputs": [],
   "source": [
    "automodel_partial = functools.partial(\n",
    "    bnpm.automatic_regression.Auto_RidgeRegression,\n",
    "    params_RidgeRegression={\n",
    "#         'alpha': [1e-1, 1e6],\n",
    "        'alpha': 10**3.5,\n",
    "        'fit_intercept': False,\n",
    "#         'max_iter': 1000,\n",
    "#         'tol': 0.0001,\n",
    "#         'solver': 'cholesky',\n",
    "#         'positive': False,\n",
    "    },\n",
    "    n_startup=36*1,\n",
    "    kwargs_convergence={\n",
    "        'n_patience': 36*1,\n",
    "        'tol_frac': 0.01,\n",
    "#         'max_trials': 100,\n",
    "        'max_trials': 1,\n",
    "        'max_duration': 60*10,\n",
    "    }, \n",
    "#     n_repeats=100,\n",
    "    n_repeats=1,\n",
    "    fn_reduce_repeats=torch.median,\n",
    "    n_jobs_optuna=1,\n",
    "    penalty_testTrainRatio=1e0,\n",
    "    test_size=0.3,\n",
    "    verbose=False,\n",
    "    use_rich_method=True,\n",
    ")"
   ]
  },
  {
   "cell_type": "code",
   "execution_count": null,
   "id": "e3ab33bb",
   "metadata": {},
   "outputs": [],
   "source": []
  },
  {
   "cell_type": "code",
   "execution_count": null,
   "id": "9b52e997",
   "metadata": {},
   "outputs": [],
   "source": []
  },
  {
   "cell_type": "code",
   "execution_count": null,
   "id": "22b2d13d",
   "metadata": {
    "scrolled": true
   },
   "outputs": [
    {
     "name": "stdout",
     "output_type": "stream",
     "text": [
      "devices available: [_CudaDeviceProperties(name='NVIDIA GeForce RTX 3090', major=8, minor=6, total_memory=24226MB, multi_processor_count=82)]\n",
      "Using device: 'cuda:0': _CudaDeviceProperties(name='NVIDIA GeForce RTX 3090', major=8, minor=6, total_memory=24226MB, multi_processor_count=82)\n"
     ]
    },
    {
     "name": "stderr",
     "output_type": "stream",
     "text": [
      "  0%|                                                                                                                                                                                                               | 0/34 [00:00<?, ?it/s]"
     ]
    }
   ],
   "source": [
    "DEVICE_regression = bnpm.torch_helpers.set_device(use_GPU=True)\n",
    "\n",
    "n_splits = 100\n",
    "test_size = 0.3\n",
    "\n",
    "# automodels = {}\n",
    "models = {}\n",
    "alphas = {}\n",
    "evrs_date = {}\n",
    "for date in tqdm(tcas.keys()):\n",
    "    if date not in dFoFs:\n",
    "        continue\n",
    "        \n",
    "    dfof = prep_array_for_regression(dFoFs[date], mean_sub=True, std_div=False, device=DEVICE_regression)\n",
    "    tca  = prep_array_for_regression(tcas[date], mean_sub=True, std_div=True, device=DEVICE_regression)\n",
    "\n",
    "    cv = sklearn.model_selection.GroupShuffleSplit(n_splits=1, test_size=test_size)\n",
    "    cv.split = functools.partial(cv.split, groups=bnpm.cross_validation.make_groups(n_samples=dfof.T.shape[0], group_size=30*60*2))\n",
    "    \n",
    "    alphas[date] = []\n",
    "#     automodels[date] = []\n",
    "    models[date] = []\n",
    "    for i_tca, t in enumerate(tca.T):\n",
    "        automodel = automodel_partial(\n",
    "            X=dfof.T,\n",
    "            y=t[:,None],\n",
    "            cv=cv,\n",
    "        )\n",
    "        automodel.fit()\n",
    "#         automodel.plot_param_curve('alpha')\n",
    "        \n",
    "#         automodels[date].append(copy.deepcopy(automodel.numpy()))\n",
    "        models[date].append(automodel.model_best.numpy())\n",
    "    \n",
    "        alphas[date].append(automodel.model_best.alpha)\n",
    "        \n",
    "    evrs_tca = []\n",
    "    for i_tca, t in enumerate(tca.T):\n",
    "        model = bnpm.linear_regression.Ridge(alpha=alphas[date][i_tca], fit_intercept=False)\n",
    "        evrs_splits = []\n",
    "        for i_split in range(n_splits):\n",
    "            idx_train, idx_test = next(cv.split(np.arange(dfof.T.shape[0])))\n",
    "            model.fit(\n",
    "                X=dfof.T[idx_train, :], \n",
    "                y=t[idx_train, None],\n",
    "            )\n",
    "            y_rec = model.predict(X=dfof.T[idx_test, :])\n",
    "            v1_orth, EVR, _, _ = bnpm.similarity.orthogonalize(\n",
    "                v1=t[idx_test, None],\n",
    "                v2=y_rec,\n",
    "                method='OLS',\n",
    "                device=DEVICE_regression,\n",
    "            )\n",
    "#             evr_tmp = model.score(\n",
    "#                 X=dfof.T[idx_test, :],\n",
    "#                 y=t[idx_test, None],\n",
    "#             )\n",
    "            evrs_splits.append(EVR[0].cpu().numpy())\n",
    "        evrs_tca.append(np.stack(evrs_splits))\n",
    "    evrs_date[date] = np.stack(evrs_tca, axis=0)\n",
    "    "
   ]
  },
  {
   "cell_type": "markdown",
   "id": "b350daf8-81a3-4f0a-aeeb-813b2ad94a0b",
   "metadata": {},
   "source": [
    "cross-model"
   ]
  },
  {
   "cell_type": "code",
   "execution_count": null,
   "id": "03a8c438-9c8b-43db-8cb6-ed6aa4a8cbb7",
   "metadata": {},
   "outputs": [],
   "source": [
    "def dict_to_numpy(d):\n",
    "    out = {}\n",
    "    for key, val in d.items():\n",
    "        if isinstance(val, dict):\n",
    "            out[key] = dict_to_numpy(val)\n",
    "        elif isinstance(val, torch.Tensor):\n",
    "            out[key] = val.cpu().numpy()\n",
    "        elif isinstance(val, np.ndarray):\n",
    "            out[key] = val\n",
    "        else:\n",
    "            out[key] = val\n",
    "\n",
    "    return out"
   ]
  },
  {
   "cell_type": "code",
   "execution_count": null,
   "id": "23e843b3",
   "metadata": {},
   "outputs": [],
   "source": [
    "crossmodel_outs = np.zeros((len(models), len(models)), dtype=object)\n",
    "for ii, date_i in tqdm(enumerate(list(models.keys()))):\n",
    "    dfof_i = prep_array_for_regression(dFoFs[date_i], mean_sub=True, std_div=False, device=DEVICE_regression)\n",
    "    tca_i  = prep_array_for_regression(tcas[date_i], mean_sub=True, std_div=True, device=DEVICE_regression)\n",
    "    \n",
    "    for jj, date_j in enumerate(models.keys()):\n",
    "        thetas = np.concatenate([m.numpy().coef_ for m in models[date_j]], axis=1)\n",
    "        biases = np.concatenate([m.numpy().intercept_ for m in models[date_j]])\n",
    "        y_rec = np.concatenate([m.to(DEVICE_regression).predict(X=dfof_i.T).cpu().numpy() for m in models[date_j]], axis=1)\n",
    "    \n",
    "        v1_orth, EVR, EVR_total_weighted, EVR_total_unweighted = bnpm.similarity.pairwise_orthogonalization_torch(\n",
    "            v1=tca_i,\n",
    "            v2=y_rec,\n",
    "            center=True,\n",
    "            device=DEVICE_regression,\n",
    "        )\n",
    "    \n",
    "        crossmodel_outs[ii, jj] = {}\n",
    "        crossmodel_outs[ii, jj]['thetas'] = thetas\n",
    "#         crossmodel_outs[ii, jj]['y_recs'] = y_rec\n",
    "        crossmodel_outs[ii, jj]['biases'] = biases\n",
    "        crossmodel_outs[ii, jj]['orthogonalization'] = {\n",
    "#             'v1_orth': v1_orth, \n",
    "            'EVR': EVR, \n",
    "            'EVR_total_weighted': EVR_total_weighted, \n",
    "            'EVR_total_unweighted': EVR_total_unweighted, \n",
    "        }\n",
    "        crossmodel_outs[ii, jj] = dict_to_numpy(crossmodel_outs[ii, jj])\n",
    "\n",
    "[[m.numpy() for m in ms] for ms in models.values()];"
   ]
  },
  {
   "cell_type": "code",
   "execution_count": null,
   "id": "86925303-d1b6-45b0-b539-b0dded355bdc",
   "metadata": {},
   "outputs": [],
   "source": [
    "rank = crossmodel_outs[0,0]['thetas'].shape[1]"
   ]
  },
  {
   "cell_type": "code",
   "execution_count": null,
   "id": "6e8a873b-bd60-4b55-ab77-81ed8df124dc",
   "metadata": {},
   "outputs": [],
   "source": [
    "EVRs = np.zeros(tuple(crossmodel_outs.shape) + (rank,), dtype=np.float32)\n",
    "for ii in range(EVRs.shape[0]):\n",
    "    for jj in range(EVRs.shape[1]):\n",
    "        EVRs[ii,jj] = crossmodel_outs[ii,jj]['orthogonalization']['EVR']\n",
    "        # test2[ii,jj] = crossmodel_outs[ii,jj]['orthogonalization']['EVR'][3]"
   ]
  },
  {
   "cell_type": "code",
   "execution_count": null,
   "id": "5c6e2500",
   "metadata": {},
   "outputs": [],
   "source": [
    "EVRs[range(EVRs.shape[0]), range(EVRs.shape[1]), :] = np.array([e.mean(1) for e in evrs_date.values()])"
   ]
  },
  {
   "cell_type": "code",
   "execution_count": null,
   "id": "d9a9db5f-98ae-4d8d-9d47-274196dc8317",
   "metadata": {},
   "outputs": [],
   "source": [
    "make_symmetric = lambda x: (x + x.transpose(1,0,2))/2\n",
    "\n",
    "EVRs_symm = make_symmetric(EVRs)"
   ]
  },
  {
   "cell_type": "code",
   "execution_count": null,
   "id": "f752e54d",
   "metadata": {},
   "outputs": [],
   "source": [
    "%matplotlib inline\n",
    "figsaver = bnpm.plotting_helpers.Figure_Saver(\n",
    "    dir_save=f'/media/rich/bigSSD/analysis_data/face_rhythm/{mouse}/drift/ims',\n",
    "    format_save=['png'],\n",
    "    overwrite=True,\n",
    ")"
   ]
  },
  {
   "cell_type": "code",
   "execution_count": null,
   "id": "99e91df5",
   "metadata": {},
   "outputs": [],
   "source": [
    "fig = plt.figure()\n",
    "plt.imshow(EVRs.mean(2), clim=[0,1])\n",
    "plt.xticks(np.arange(EVRs.shape[0]), labels=models.keys(), rotation=90);\n",
    "plt.yticks(np.arange(EVRs.shape[0]), labels=models.keys(), rotation=0);\n",
    "figsaver(fig, name_file='EVRs_raw')\n"
   ]
  },
  {
   "cell_type": "code",
   "execution_count": null,
   "id": "fbec9110",
   "metadata": {},
   "outputs": [],
   "source": [
    "plt.figure()\n",
    "plt.imshow(EVRs_symm.mean(2))"
   ]
  },
  {
   "cell_type": "code",
   "execution_count": null,
   "id": "ee01e42b",
   "metadata": {},
   "outputs": [],
   "source": [
    "plt.figure()\n",
    "plt.imshow(EVRs_symm.mean(2) / EVRs_symm.mean(2).diagonal(offset=0)[None,:])"
   ]
  },
  {
   "cell_type": "code",
   "execution_count": null,
   "id": "1acf6d7a-257b-4b4d-b78b-39f98220b8f6",
   "metadata": {},
   "outputs": [],
   "source": [
    "EVRs_norm = EVRs_symm / EVRs_symm.diagonal(offset=0).T[:,None]"
   ]
  },
  {
   "cell_type": "code",
   "execution_count": null,
   "id": "dd74cef9-efe0-4a52-9318-6a1876beaccf",
   "metadata": {},
   "outputs": [],
   "source": [
    "EVRs_norm[range(EVRs_norm.shape[0]), range(EVRs_norm.shape[0]), :] = 0"
   ]
  },
  {
   "cell_type": "code",
   "execution_count": null,
   "id": "c5c2b3db",
   "metadata": {},
   "outputs": [],
   "source": [
    "%matplotlib inline\n",
    "fig = plt.figure()\n",
    "plt.imshow(EVRs_norm.mean(2))\n",
    "plt.xticks(np.arange(EVRs_norm.shape[0]), labels=models.keys(), rotation=90);\n",
    "plt.yticks(np.arange(EVRs_norm.shape[0]), labels=models.keys(), rotation=0);\n",
    "figsaver(fig, name_file='EVRs_norm')"
   ]
  },
  {
   "cell_type": "code",
   "execution_count": null,
   "id": "9cd087ef",
   "metadata": {},
   "outputs": [],
   "source": [
    "%matplotlib inline\n",
    "\n",
    "for ii in range(EVRs_norm.shape[2]):\n",
    "    fig = plt.figure()\n",
    "    plt.imshow(EVRs_norm[:,:,ii])\n",
    "    plt.xticks(np.arange(EVRs_norm.shape[0]), labels=models.keys(), rotation=90);\n",
    "    plt.yticks(np.arange(EVRs_norm.shape[0]), labels=models.keys(), rotation=0);\n",
    "    figsaver(fig, name_file=f'factors/factor_{ii}')"
   ]
  },
  {
   "cell_type": "code",
   "execution_count": null,
   "id": "731ea9c6",
   "metadata": {},
   "outputs": [],
   "source": []
  },
  {
   "cell_type": "code",
   "execution_count": null,
   "id": "dc13e194-4112-4bc0-af1e-dc28a6356e8b",
   "metadata": {},
   "outputs": [],
   "source": [
    "normalizer_2d = np.logical_not(np.eye(EVRs_norm.shape[0]))"
   ]
  },
  {
   "cell_type": "code",
   "execution_count": null,
   "id": "2b3a0b1f-a9fb-4028-bf52-8a196d82b1c1",
   "metadata": {},
   "outputs": [],
   "source": [
    "plt.figure()\n",
    "plt.imshow(normalizer_2d)"
   ]
  },
  {
   "cell_type": "code",
   "execution_count": null,
   "id": "f8ef64f0-5507-43ac-bff5-1a9b20f26dc7",
   "metadata": {},
   "outputs": [],
   "source": [
    "import scipy.signal"
   ]
  },
  {
   "cell_type": "code",
   "execution_count": null,
   "id": "7c3c02f3-ec7e-4001-8c30-5697093acd24",
   "metadata": {},
   "outputs": [],
   "source": [
    "gaus_2d = bnpm.featurization.gaussian_kernel_2D(\n",
    "    image_size=(11,11),\n",
    "    sig=1.5,\n",
    ")\n",
    "gaus_2d = gaus_2d / gaus_2d.sum()\n",
    "    "
   ]
  },
  {
   "cell_type": "code",
   "execution_count": null,
   "id": "e7f02876-70fd-4136-9d5c-b3a7624fb1dc",
   "metadata": {},
   "outputs": [],
   "source": [
    "EVRs_norm_conv = np.stack([scipy.signal.convolve2d(e, gaus_2d, mode='same', boundary='symm') for e in EVRs_norm.transpose(2,0,1)], axis=-1)"
   ]
  },
  {
   "cell_type": "code",
   "execution_count": null,
   "id": "6a216842-ae42-4a7b-bce5-5842e603dbe5",
   "metadata": {},
   "outputs": [],
   "source": [
    "normalizer_conv = scipy.signal.convolve2d(normalizer_2d, gaus_2d, mode='same', boundary='symm')"
   ]
  },
  {
   "cell_type": "code",
   "execution_count": null,
   "id": "73f30cb3-9e6f-4506-a789-4b9ea57beeb8",
   "metadata": {},
   "outputs": [],
   "source": [
    "normalizer_conv.shape"
   ]
  },
  {
   "cell_type": "code",
   "execution_count": null,
   "id": "236bc0b6-8dbd-4692-b850-182ce7acfd02",
   "metadata": {},
   "outputs": [],
   "source": [
    "EVRs_norm_conv_normd = EVRs_norm_conv / normalizer_conv[:,:,None]"
   ]
  },
  {
   "cell_type": "code",
   "execution_count": null,
   "id": "fe0d3973-96cc-4d96-8e62-c6c3554c80cb",
   "metadata": {},
   "outputs": [],
   "source": [
    "fig = plt.figure()\n",
    "plt.imshow(EVRs_norm_conv_normd.mean(2), clim=[None,None])\n",
    "figsaver(fig, name_file='EVRs_conv')"
   ]
  },
  {
   "cell_type": "code",
   "execution_count": null,
   "id": "98685831",
   "metadata": {},
   "outputs": [],
   "source": []
  },
  {
   "cell_type": "code",
   "execution_count": null,
   "id": "1907608a",
   "metadata": {},
   "outputs": [],
   "source": [
    "results = {\n",
    "    'dir_dFoF': dir_dFoF,\n",
    "    'dir_tca': dir_tca,\n",
    "    'cv_test_size': cv.test_size,\n",
    "    'automodel_params_RidgeRegression': automodel_partial.keywords['params_RidgeRegression'],\n",
    "    'cv_n_splits': n_splits,\n",
    "    'device': DEVICE_regression,\n",
    "    'models': {key: [m.__dict__ for m in md] for key, md in models.items()},\n",
    "    'evrs_date': evrs_date,\n",
    "    'crossmodel_outs': crossmodel_outs,\n",
    "    'rank': rank,\n",
    "    'EVRs': EVRs,\n",
    "    'EVRs_norm': EVRs_norm,\n",
    "    'EVRs_norm_conv_normd': EVRs_norm_conv_normd,\n",
    "}"
   ]
  },
  {
   "cell_type": "code",
   "execution_count": null,
   "id": "ffe75a61",
   "metadata": {},
   "outputs": [],
   "source": [
    "bnpm.file_helpers.pickle_save(\n",
    "    obj=results,\n",
    "    filepath=f'/media/rich/bigSSD/analysis_data/face_rhythm/{mouse}/drift/decoding_drift.pkl',\n",
    "    mode='wb',\n",
    "    mkdir=True,\n",
    ")"
   ]
  },
  {
   "cell_type": "code",
   "execution_count": null,
   "id": "cd92e247-74c3-4c24-b025-89765ff655f6",
   "metadata": {},
   "outputs": [],
   "source": []
  },
  {
   "cell_type": "code",
   "execution_count": null,
   "id": "81e47636-b451-4d54-9713-78f7cbbfbccd",
   "metadata": {},
   "outputs": [],
   "source": []
  },
  {
   "cell_type": "code",
   "execution_count": null,
   "id": "8f728bf9-84f5-4ce8-a08f-b71eab3aa1d2",
   "metadata": {},
   "outputs": [],
   "source": []
  },
  {
   "cell_type": "code",
   "execution_count": null,
   "id": "4a9942fe-993e-4e9f-ba5e-577e20e81d53",
   "metadata": {},
   "outputs": [],
   "source": []
  },
  {
   "cell_type": "code",
   "execution_count": null,
   "id": "b8641a87-abbf-4db7-adba-a14f616b9309",
   "metadata": {},
   "outputs": [],
   "source": []
  },
  {
   "cell_type": "code",
   "execution_count": null,
   "id": "2d540e00-d4b8-4a0f-a6ff-78f6e1896224",
   "metadata": {},
   "outputs": [],
   "source": []
  },
  {
   "cell_type": "code",
   "execution_count": null,
   "id": "b21a6c1f-4438-4450-a9e8-858c86327771",
   "metadata": {},
   "outputs": [],
   "source": []
  },
  {
   "cell_type": "code",
   "execution_count": null,
   "id": "724b33d1-c178-42fe-af86-e622b0087c9a",
   "metadata": {},
   "outputs": [],
   "source": []
  }
 ],
 "metadata": {
  "kernelspec": {
   "display_name": "Python 3 (ipykernel)",
   "language": "python",
   "name": "python3"
  },
  "language_info": {
   "codemirror_mode": {
    "name": "ipython",
    "version": 3
   },
   "file_extension": ".py",
   "mimetype": "text/x-python",
   "name": "python",
   "nbconvert_exporter": "python",
   "pygments_lexer": "ipython3",
   "version": "3.11.3"
  }
 },
 "nbformat": 4,
 "nbformat_minor": 5
}
