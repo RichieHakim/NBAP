{
 "cells": [
  {
   "cell_type": "code",
   "execution_count": 1,
   "id": "eb297901",
   "metadata": {},
   "outputs": [
    {
     "data": {
      "text/html": [
       "<style>.container {width:95% !important; }</style>"
      ],
      "text/plain": [
       "<IPython.core.display.HTML object>"
      ]
     },
     "metadata": {},
     "output_type": "display_data"
    },
    {
     "data": {
      "text/html": [
       "<style>:root { --jp-notebook-max-width: 100% !important; }</style>"
      ],
      "text/plain": [
       "<IPython.core.display.HTML object>"
      ]
     },
     "metadata": {},
     "output_type": "display_data"
    }
   ],
   "source": [
    "# widen jupyter notebook window\n",
    "from IPython.display import display, HTML\n",
    "display(HTML(\"<style>.container {width:95% !important; }</style>\"))\n",
    "display(HTML(\"<style>:root { --jp-notebook-max-width: 100% !important; }</style>\"))"
   ]
  },
  {
   "cell_type": "markdown",
   "id": "e7ca9401",
   "metadata": {},
   "source": [
    "This requires having `bnpm`. Get it with `pip install bnpm` or here: https://github.com/RichieHakim/basic_neural_processing_modules"
   ]
  },
  {
   "cell_type": "code",
   "execution_count": 2,
   "id": "b083639c",
   "metadata": {},
   "outputs": [],
   "source": [
    "%load_ext autoreload\n",
    "%autoreload 2\n",
    "from bnpm import server\n",
    "import bnpm"
   ]
  },
  {
   "cell_type": "code",
   "execution_count": 3,
   "id": "47fe1e80",
   "metadata": {},
   "outputs": [],
   "source": [
    "import os\n",
    "from pathlib import Path\n",
    "import functools\n",
    "import tempfile\n",
    "import getpass\n",
    "import gc"
   ]
  },
  {
   "cell_type": "code",
   "execution_count": 4,
   "id": "4b3fddce-51cc-49ef-8d84-4a881acc0c43",
   "metadata": {},
   "outputs": [],
   "source": [
    "from tqdm import tqdm\n",
    "import numpy as np\n",
    "import natsort"
   ]
  },
  {
   "cell_type": "markdown",
   "id": "6114afcd",
   "metadata": {},
   "source": [
    "------------\n",
    "# ==== Start ===="
   ]
  },
  {
   "cell_type": "markdown",
   "id": "ae33b435",
   "metadata": {},
   "source": [
    "## Prepare username + password"
   ]
  },
  {
   "cell_type": "code",
   "execution_count": 8,
   "id": "af73363a",
   "metadata": {},
   "outputs": [
    {
     "name": "stdout",
     "output_type": "stream",
     "text": [
      "Username: rh183\n",
      "Password: ········\n"
     ]
    }
   ],
   "source": [
    "remote_host_transfer = \"transfer.rc.hms.harvard.edu\"\n",
    "remote_host_compute = \"o2.hms.harvard.edu\"\n",
    "username = input('Username: ')\n",
    "\n",
    "use_localSshKey = False\n",
    "\n",
    "pw = server.pw_encode(getpass.getpass(prompt='Password: ')) if use_localSshKey==False else None\n",
    "\n",
    "path_sshKey = '/home/rich/.ssh/id_rsa' if use_localSshKey else None"
   ]
  },
  {
   "cell_type": "markdown",
   "id": "c539c815",
   "metadata": {},
   "source": [
    "## Prepare `sftp` and `ssh` objects"
   ]
  },
  {
   "cell_type": "code",
   "execution_count": 6,
   "id": "702eba22",
   "metadata": {},
   "outputs": [],
   "source": [
    "## initialize ssh_transfer\n",
    "ssh_t = server.ssh_interface(\n",
    "    nbytes_toReceive=20000,\n",
    "    recv_timeout=1,\n",
    "    verbose=True,\n",
    ")"
   ]
  },
  {
   "cell_type": "code",
   "execution_count": 7,
   "id": "fdf1e2ba",
   "metadata": {
    "scrolled": true
   },
   "outputs": [],
   "source": [
    "ssh_t.o2_connect(\n",
    "    hostname=remote_host_transfer,\n",
    "    username=username,\n",
    "    password=server.pw_decode(pw),\n",
    "    key_filename=path_sshKey,\n",
    "    look_for_keys=False,\n",
    "    passcode_method=1,\n",
    "    verbose=0,\n",
    "    skip_passcode=False,    \n",
    ")"
   ]
  },
  {
   "cell_type": "code",
   "execution_count": 8,
   "id": "fa578dd5",
   "metadata": {},
   "outputs": [],
   "source": [
    "# ## initialize ssh_compute\n",
    "# ssh_c = server.ssh_interface(\n",
    "#     nbytes_toReceive=20000,\n",
    "#     recv_timeout=1,\n",
    "#     verbose=True,\n",
    "# )\n",
    "# ssh_c.o2_connect(\n",
    "#     hostname=remote_host_compute,\n",
    "#     username=username,\n",
    "#     password=server.pw_decode(pw),\n",
    "#     key_filename=path_sshKey,\n",
    "#     look_for_keys=False,\n",
    "#     passcode_method=1,\n",
    "#     verbose=0,\n",
    "#     skip_passcode=False,    \n",
    "# )"
   ]
  },
  {
   "cell_type": "code",
   "execution_count": 9,
   "id": "daea3d7a",
   "metadata": {},
   "outputs": [],
   "source": [
    "sftp = server.sftp_interface(ssh_client=ssh_t.client)"
   ]
  },
  {
   "cell_type": "code",
   "execution_count": 10,
   "id": "21af2f06",
   "metadata": {},
   "outputs": [],
   "source": [
    "prompt_snip = f'[{username}'"
   ]
  },
  {
   "cell_type": "code",
   "execution_count": 11,
   "id": "6d8554e7",
   "metadata": {},
   "outputs": [],
   "source": [
    "# send_expect = functools.partial(ssh_c.send_expect, str_success=prompt_snip)"
   ]
  },
  {
   "cell_type": "code",
   "execution_count": null,
   "id": "06f78ed9-095e-4ab1-a776-080d0ab03844",
   "metadata": {},
   "outputs": [],
   "source": []
  },
  {
   "cell_type": "code",
   "execution_count": 12,
   "id": "fb23b9a0",
   "metadata": {},
   "outputs": [],
   "source": [
    "cage = 'cage_0403'\n",
    "mouse = 'mouse_0403R'"
   ]
  },
  {
   "cell_type": "markdown",
   "id": "813123b7-071f-419c-885a-954ba78ae030",
   "metadata": {},
   "source": [
    "# Download stat and ops files"
   ]
  },
  {
   "cell_type": "code",
   "execution_count": 87,
   "id": "c0c8cdc3-6553-4d12-bf8c-27cc5a113ea3",
   "metadata": {},
   "outputs": [
    {
     "name": "stdout",
     "output_type": "stream",
     "text": [
      "/n/data1/hms/neurobio/sabatini/gyu/analysis/suite2p_output/mouse_0916N/20231205/scanimage_data/exp/jobNum_0/suite2p/plane0/stat.npy\n",
      "/n/data1/hms/neurobio/sabatini/gyu/analysis/suite2p_output/mouse_0916N/20231029/scanimage_data/exp/jobNum_0/suite2p/plane0/stat.npy\n",
      "/n/data1/hms/neurobio/sabatini/gyu/analysis/suite2p_output/mouse_0916N/20231127/scanimage_data/exp/jobNum_0/suite2p/plane0/stat.npy\n",
      "/n/data1/hms/neurobio/sabatini/gyu/analysis/suite2p_output/mouse_0916N/20231024/scanimage_data/exp/jobNum_0/suite2p/plane0/stat.npy\n",
      "/n/data1/hms/neurobio/sabatini/gyu/analysis/suite2p_output/mouse_0916N/20231021/scanimage_data/exp/jobNum_0/suite2p/plane0/stat.npy\n",
      "/n/data1/hms/neurobio/sabatini/gyu/analysis/suite2p_output/mouse_0916N/20231025/scanimage_data/exp/jobNum_0/suite2p/plane0/stat.npy\n",
      "/n/data1/hms/neurobio/sabatini/gyu/analysis/suite2p_output/mouse_0916N/20231106/scanimage_data/exp/jobNum_0/suite2p/plane0/stat.npy\n",
      "/n/data1/hms/neurobio/sabatini/gyu/analysis/suite2p_output/mouse_0916N/20231129/scanimage_data/exp/jobNum_0/suite2p/plane0/stat.npy\n",
      "/n/data1/hms/neurobio/sabatini/gyu/analysis/suite2p_output/mouse_0916N/20231023/scanimage_data/exp/jobNum_0/suite2p/plane0/stat.npy\n",
      "/n/data1/hms/neurobio/sabatini/gyu/analysis/suite2p_output/mouse_0916N/20231022/scanimage_data/exp/jobNum_0/suite2p/plane0/stat.npy\n",
      "/n/data1/hms/neurobio/sabatini/gyu/analysis/suite2p_output/mouse_0916N/20231031/scanimage_data/exp/jobNum_0/suite2p/plane0/stat.npy\n",
      "/n/data1/hms/neurobio/sabatini/gyu/analysis/suite2p_output/mouse_0916N/20231027/scanimage_data/exp/jobNum_0/suite2p/plane0/stat.npy\n",
      "/n/data1/hms/neurobio/sabatini/gyu/analysis/suite2p_output/mouse_0916N/20231102/scanimage_data/exp/jobNum_0/suite2p/plane0/stat.npy\n",
      "/n/data1/hms/neurobio/sabatini/gyu/analysis/suite2p_output/mouse_0916N/20231105/scanimage_data/exp/jobNum_0/suite2p/plane0/stat.npy\n",
      "/n/data1/hms/neurobio/sabatini/gyu/analysis/suite2p_output/mouse_0916N/20231026/scanimage_data/exp/jobNum_0/suite2p/plane0/stat.npy\n",
      "/n/data1/hms/neurobio/sabatini/gyu/analysis/suite2p_output/mouse_0916N/20231207/scanimage_data/exp/jobNum_0/suite2p/plane0/stat.npy\n",
      "/n/data1/hms/neurobio/sabatini/gyu/analysis/suite2p_output/mouse_0916N/20231208/scanimage_data/exp/jobNum_0/suite2p/plane0/stat.npy\n",
      "/n/data1/hms/neurobio/sabatini/gyu/analysis/suite2p_output/mouse_0916N/20231130/scanimage_data/exp/jobNum_0/suite2p/plane0/stat.npy\n",
      "/n/data1/hms/neurobio/sabatini/gyu/analysis/suite2p_output/mouse_0916N/20231209/scanimage_data/exp/jobNum_0/suite2p/plane0/stat.npy\n",
      "/n/data1/hms/neurobio/sabatini/gyu/analysis/suite2p_output/mouse_0916N/20231201/scanimage_data/exp/jobNum_0/suite2p/plane0/stat.npy\n",
      "/n/data1/hms/neurobio/sabatini/gyu/analysis/suite2p_output/mouse_0916N/20231028/scanimage_data/exp/jobNum_0/suite2p/plane0/stat.npy\n",
      "/n/data1/hms/neurobio/sabatini/gyu/analysis/suite2p_output/mouse_0916N/20231128/scanimage_data/exp/jobNum_0/suite2p/plane0/stat.npy\n",
      "/n/data1/hms/neurobio/sabatini/gyu/analysis/suite2p_output/mouse_0916N/20231104/scanimage_data/exp/jobNum_0/suite2p/plane0/stat.npy\n",
      "/n/data1/hms/neurobio/sabatini/gyu/analysis/suite2p_output/mouse_0916N/20231203/scanimage_data/exp/jobNum_0/suite2p/plane0/stat.npy\n",
      "/n/data1/hms/neurobio/sabatini/gyu/analysis/suite2p_output/mouse_0916N/20231204/scanimage_data/exp/jobNum_0/suite2p/plane0/stat.npy\n",
      "/n/data1/hms/neurobio/sabatini/gyu/analysis/suite2p_output/mouse_0916N/20231030/scanimage_data/exp/jobNum_0/suite2p/plane0/stat.npy\n",
      "/n/data1/hms/neurobio/sabatini/gyu/analysis/suite2p_output/mouse_0916N/20231103/scanimage_data/exp/jobNum_0/suite2p/plane0/stat.npy\n",
      "/n/data1/hms/neurobio/sabatini/gyu/analysis/suite2p_output/mouse_0916N/20231210/scanimage_data/exp/jobNum_0/suite2p/plane0/stat.npy\n",
      "/n/data1/hms/neurobio/sabatini/gyu/analysis/suite2p_output/mouse_0916N/20231202/scanimage_data/exp/jobNum_0/suite2p/plane0/stat.npy\n",
      "/n/data1/hms/neurobio/sabatini/gyu/analysis/suite2p_output/mouse_0916N/20231101/scanimage_data/exp/jobNum_0/suite2p/plane0/stat.npy\n"
     ]
    }
   ],
   "source": [
    "paths_found = natsort.natsorted(sftp.search_recursive(\n",
    "    path=f'/n/data1/hms/neurobio/sabatini/gyu/analysis/suite2p_output/{mouse}/',\n",
    "    search_pattern_re='stat.*npy',\n",
    "    max_depth=7,\n",
    "    find_folders=False,\n",
    "    find_files=True,\n",
    "    verbose=True,\n",
    "))"
   ]
  },
  {
   "cell_type": "code",
   "execution_count": 88,
   "id": "68a55e82-df7b-4f6b-a994-4dd91aa52d4a",
   "metadata": {},
   "outputs": [],
   "source": [
    "paths_found = [p for p in paths_found if 'exp' in p]"
   ]
  },
  {
   "cell_type": "code",
   "execution_count": 89,
   "id": "67b871e4",
   "metadata": {},
   "outputs": [
    {
     "data": {
      "text/plain": [
       "['20231021',\n",
       " '20231022',\n",
       " '20231023',\n",
       " '20231024',\n",
       " '20231025',\n",
       " '20231026',\n",
       " '20231027',\n",
       " '20231028',\n",
       " '20231029',\n",
       " '20231030',\n",
       " '20231031',\n",
       " '20231101',\n",
       " '20231102',\n",
       " '20231103',\n",
       " '20231104',\n",
       " '20231105',\n",
       " '20231106',\n",
       " '20231127',\n",
       " '20231128',\n",
       " '20231129',\n",
       " '20231130',\n",
       " '20231201',\n",
       " '20231202',\n",
       " '20231203',\n",
       " '20231204',\n",
       " '20231205',\n",
       " '20231207',\n",
       " '20231208',\n",
       " '20231209',\n",
       " '20231210']"
      ]
     },
     "execution_count": 89,
     "metadata": {},
     "output_type": "execute_result"
    }
   ],
   "source": [
    "dates_toUse = natsort.natsorted([Path(p).parts[-7] for p in paths_found])\n",
    "dates_toUse"
   ]
  },
  {
   "cell_type": "code",
   "execution_count": 84,
   "id": "010544df-1077-4680-ba9b-f4f810be70b6",
   "metadata": {
    "scrolled": true
   },
   "outputs": [
    {
     "name": "stderr",
     "output_type": "stream",
     "text": [
      "100%|█████████████████████████████████████████████████████████████████████▉| 16.5M/16.5M [00:00<00:00, 43.4Mb/s]\n",
      "100%|█████████████████████████████████████████████████████████████████████▉| 18.1M/18.1M [00:00<00:00, 51.5Mb/s]\n",
      "100%|█████████████████████████████████████████████████████████████████████▉| 16.4M/16.4M [00:00<00:00, 49.5Mb/s]\n",
      "100%|█████████████████████████████████████████████████████████████████████▉| 18.4M/18.4M [00:00<00:00, 52.1Mb/s]\n",
      "100%|█████████████████████████████████████████████████████████████████████▉| 18.5M/18.5M [00:00<00:00, 48.9Mb/s]\n",
      "100%|█████████████████████████████████████████████████████████████████████▉| 18.2M/18.2M [00:00<00:00, 32.7Mb/s]\n"
     ]
    }
   ],
   "source": [
    "[sftp.get(str(Path(p).parent / 'stat.npy'), str(Path(f'/media/rich/bigSSD/analysis_data/face_rhythm/{mouse}/stat_and_ops') / Path(p).parts[-7] / 'stat.npy')) for p in paths_found[:]];"
   ]
  },
  {
   "cell_type": "code",
   "execution_count": 90,
   "id": "10fda52e-dfc3-435a-8d63-c405233dee4a",
   "metadata": {
    "scrolled": true
   },
   "outputs": [
    {
     "name": "stderr",
     "output_type": "stream",
     "text": [
      "100%|███████████████████████████████████████████████████████████████████████▉| 232M/232M [00:03<00:00, 59.7Mb/s]\n",
      "100%|███████████████████████████████████████████████████████████████████████▉| 232M/232M [00:03<00:00, 63.6Mb/s]\n",
      "100%|███████████████████████████████████████████████████████████████████████▉| 231M/231M [00:03<00:00, 63.3Mb/s]\n",
      "100%|███████████████████████████████████████████████████████████████████████▉| 230M/230M [00:03<00:00, 61.9Mb/s]\n",
      "100%|███████████████████████████████████████████████████████████████████████▉| 229M/229M [00:03<00:00, 61.9Mb/s]\n",
      "100%|███████████████████████████████████████████████████████████████████████▉| 230M/230M [00:04<00:00, 54.2Mb/s]\n",
      "100%|███████████████████████████████████████████████████████████████████████▉| 230M/230M [00:03<00:00, 63.2Mb/s]\n",
      "100%|███████████████████████████████████████████████████████████████████████▉| 232M/232M [00:03<00:00, 62.7Mb/s]\n",
      "100%|███████████████████████████████████████████████████████████████████████▉| 230M/230M [00:03<00:00, 63.1Mb/s]\n",
      "100%|███████████████████████████████████████████████████████████████████████▉| 231M/231M [00:03<00:00, 58.2Mb/s]\n",
      "100%|███████████████████████████████████████████████████████████████████████▉| 229M/229M [00:03<00:00, 63.1Mb/s]\n",
      "100%|███████████████████████████████████████████████████████████████████████▉| 229M/229M [00:05<00:00, 43.3Mb/s]\n",
      "100%|███████████████████████████████████████████████████████████████████████▉| 230M/230M [00:04<00:00, 55.4Mb/s]\n",
      "100%|███████████████████████████████████████████████████████████████████████▉| 229M/229M [00:04<00:00, 53.6Mb/s]\n",
      "100%|███████████████████████████████████████████████████████████████████████▉| 228M/228M [00:03<00:00, 62.4Mb/s]\n",
      "100%|███████████████████████████████████████████████████████████████████████▉| 229M/229M [00:04<00:00, 53.8Mb/s]\n",
      "100%|███████████████████████████████████████████████████████████████████████▉| 229M/229M [00:04<00:00, 47.1Mb/s]\n",
      "100%|███████████████████████████████████████████████████████████████████████▉| 228M/228M [00:06<00:00, 37.5Mb/s]\n",
      "100%|███████████████████████████████████████████████████████████████████████▉| 229M/229M [00:08<00:00, 25.6Mb/s]\n",
      "100%|███████████████████████████████████████████████████████████████████████▉| 228M/228M [00:08<00:00, 27.0Mb/s]\n",
      "100%|███████████████████████████████████████████████████████████████████████▉| 229M/229M [00:08<00:00, 25.5Mb/s]\n",
      "100%|███████████████████████████████████████████████████████████████████████▉| 227M/227M [00:06<00:00, 32.5Mb/s]\n",
      "100%|███████████████████████████████████████████████████████████████████████▉| 230M/230M [00:07<00:00, 29.7Mb/s]\n",
      "100%|███████████████████████████████████████████████████████████████████████▉| 259M/259M [00:08<00:00, 29.1Mb/s]\n",
      "100%|███████████████████████████████████████████████████████████████████████▉| 261M/261M [00:08<00:00, 30.0Mb/s]\n",
      "100%|███████████████████████████████████████████████████████████████████████▉| 261M/261M [00:10<00:00, 26.0Mb/s]\n",
      "100%|███████████████████████████████████████████████████████████████████████▉| 260M/260M [00:10<00:00, 25.0Mb/s]\n",
      "100%|███████████████████████████████████████████████████████████████████████▉| 246M/246M [00:09<00:00, 26.7Mb/s]\n",
      "100%|███████████████████████████████████████████████████████████████████████▉| 244M/244M [00:09<00:00, 25.9Mb/s]\n",
      "100%|███████████████████████████████████████████████████████████████████████▉| 275M/275M [00:09<00:00, 28.1Mb/s]\n"
     ]
    }
   ],
   "source": [
    "[sftp.get(str(Path(p).parent / 'ops.npy'), str(Path(f'/media/rich/bigSSD/analysis_data/face_rhythm/{mouse}/stat_and_ops') / Path(p).parts[-7] / 'ops.npy')) for p in paths_found[:]];"
   ]
  },
  {
   "cell_type": "code",
   "execution_count": null,
   "id": "4e1295be-d324-40e3-8dc9-c3995933267a",
   "metadata": {},
   "outputs": [],
   "source": []
  },
  {
   "cell_type": "code",
   "execution_count": null,
   "id": "2999fb00-611b-4f2a-b680-a4c2e5bd7db2",
   "metadata": {},
   "outputs": [],
   "source": []
  },
  {
   "cell_type": "markdown",
   "id": "c181b7a8-eba3-4252-908b-9a0849d7c618",
   "metadata": {},
   "source": [
    "# Download logger files"
   ]
  },
  {
   "cell_type": "code",
   "execution_count": 14,
   "id": "8f160e06",
   "metadata": {},
   "outputs": [
    {
     "name": "stdout",
     "output_type": "stream",
     "text": [
      "/n/files/Neurobio/MICROSCOPE/Gyu/BMI_data/cage_0403/mouse_0403R/20230708/analysis_data/logger.mat\n",
      "/n/files/Neurobio/MICROSCOPE/Gyu/BMI_data/cage_0403/mouse_0403R/20230709/analysis_data/logger.mat\n",
      "/n/files/Neurobio/MICROSCOPE/Gyu/BMI_data/cage_0403/mouse_0403R/20230702/analysis_data/logger.mat\n",
      "/n/files/Neurobio/MICROSCOPE/Gyu/BMI_data/cage_0403/mouse_0403R/20230703/analysis_data/logger.mat\n",
      "/n/files/Neurobio/MICROSCOPE/Gyu/BMI_data/cage_0403/mouse_0403R/20230707/analysis_data/logger.mat\n",
      "/n/files/Neurobio/MICROSCOPE/Gyu/BMI_data/cage_0403/mouse_0403R/20230706/analysis_data/logger.mat\n"
     ]
    }
   ],
   "source": [
    "paths_found = natsort.natsorted(sftp.search_recursive(\n",
    "    path=f'/n/files/Neurobio/MICROSCOPE/Gyu/BMI_data/{cage}/{mouse}/',\n",
    "    search_pattern_re='logger\\.mat',\n",
    "    max_depth=7,\n",
    "    find_folders=False,\n",
    "    find_files=True,\n",
    "    verbose=True,\n",
    "))"
   ]
  },
  {
   "cell_type": "code",
   "execution_count": 15,
   "id": "6b810c93-7529-4b04-843f-4047e2dd4e66",
   "metadata": {},
   "outputs": [
    {
     "data": {
      "text/plain": [
       "['20230702', '20230703', '20230706', '20230707', '20230708', '20230709']"
      ]
     },
     "execution_count": 15,
     "metadata": {},
     "output_type": "execute_result"
    }
   ],
   "source": [
    "dates_toUse = natsort.natsorted([Path(p).parts[-3] for p in paths_found])\n",
    "dates_toUse"
   ]
  },
  {
   "cell_type": "code",
   "execution_count": 16,
   "id": "73cc00e4-5aa2-4eae-8950-8a1d2fb34f60",
   "metadata": {
    "scrolled": true
   },
   "outputs": [
    {
     "name": "stderr",
     "output_type": "stream",
     "text": [
      "100%|█████████████████████████████████████████████████████████████████████▉| 4.69M/4.69M [00:00<00:00, 17.3Mb/s]\n",
      "100%|█████████████████████████████████████████████████████████████████████▊| 4.65M/4.67M [00:00<00:00, 19.9Mb/s]\n",
      "100%|█████████████████████████████████████████████████████████████████████▉| 9.54M/9.55M [00:00<00:00, 26.0Mb/s]\n",
      "100%|█████████████████████████████████████████████████████████████████████▉| 7.50M/7.51M [00:00<00:00, 24.9Mb/s]\n",
      "100%|█████████████████████████████████████████████████████████████████████▊| 10.6M/10.6M [00:00<00:00, 28.6Mb/s]\n",
      "100%|█████████████████████████████████████████████████████████████████████▊| 10.6M/10.6M [00:00<00:00, 30.3Mb/s]\n"
     ]
    }
   ],
   "source": [
    "[sftp.get(str(Path(p).parent / 'logger.mat'), str(Path(f'/media/rich/bigSSD/analysis_data/face_rhythm/{mouse}/loggers') / date / 'logger.mat')) for date, p in zip(dates_toUse, paths_found)];"
   ]
  },
  {
   "cell_type": "code",
   "execution_count": 17,
   "id": "d2d04d61-b22e-48a0-b351-01d67f1f9677",
   "metadata": {
    "scrolled": false
   },
   "outputs": [
    {
     "name": "stderr",
     "output_type": "stream",
     "text": [
      " 95%|██████████████████████████████████████████████████████████████████▊   | 65.5k/68.6k [00:00<00:00, 1.15Mb/s]\n",
      " 95%|██████████████████████████████████████████████████████████████████▊   | 65.5k/68.6k [00:00<00:00, 1.07Mb/s]\n",
      " 99%|█████████████████████████████████████████████████████████████████████▌| 5.24M/5.27M [00:00<00:00, 25.0Mb/s]\n",
      "100%|█████████████████████████████████████████████████████████████████████▊| 5.37M/5.39M [00:00<00:00, 24.9Mb/s]\n",
      " 99%|█████████████████████████████████████████████████████████████████████▌| 5.34M/5.37M [00:00<00:00, 25.0Mb/s]\n",
      "100%|█████████████████████████████████████████████████████████████████████▊| 5.21M/5.22M [00:00<00:00, 25.7Mb/s]\n"
     ]
    }
   ],
   "source": [
    "[sftp.get(str(Path(p).parent / 'expParams.mat'), str(Path(f'/media/rich/bigSSD/analysis_data/face_rhythm/{mouse}/loggers') / date / 'expParams.mat')) for date, p in zip(dates_toUse, paths_found)];"
   ]
  },
  {
   "cell_type": "code",
   "execution_count": null,
   "id": "32d48bc9-3135-4506-bbdc-bdeae5cdd328",
   "metadata": {},
   "outputs": [],
   "source": []
  },
  {
   "cell_type": "markdown",
   "id": "ef934a83-e3e4-4bdc-b898-ca7607c001be",
   "metadata": {},
   "source": [
    "# Download wavesurfer files"
   ]
  },
  {
   "cell_type": "code",
   "execution_count": 64,
   "id": "bb2de0c6-a350-41c4-b34b-e3f2a3303e47",
   "metadata": {},
   "outputs": [
    {
     "name": "stdout",
     "output_type": "stream",
     "text": [
      "/n/files/Neurobio/MICROSCOPE/Gyu/BMI_data/cage_0403/mouse_0403R/20230708/wavesurfer_data/exp_0001.h5\n",
      "/n/files/Neurobio/MICROSCOPE/Gyu/BMI_data/cage_0403/mouse_0403R/20230709/wavesurfer_data/exp_0001.h5\n",
      "/n/files/Neurobio/MICROSCOPE/Gyu/BMI_data/cage_0403/mouse_0403R/20230702/wavesurfer_data/exp_0001.h5\n",
      "/n/files/Neurobio/MICROSCOPE/Gyu/BMI_data/cage_0403/mouse_0403R/20230703/wavesurfer_data/exp_0001.h5\n",
      "/n/files/Neurobio/MICROSCOPE/Gyu/BMI_data/cage_0403/mouse_0403R/20230707/wavesurfer_data/exp_0001.h5\n",
      "/n/files/Neurobio/MICROSCOPE/Gyu/BMI_data/cage_0403/mouse_0403R/20230706/wavesurfer_data/exp_0001.h5\n"
     ]
    }
   ],
   "source": [
    "paths_files_remote = sftp.search_recursive(\n",
    "    path=f'/n/files/Neurobio/MICROSCOPE/Gyu/BMI_data/{cage}/{mouse}/',\n",
    "    search_pattern_re=r'.*exp.*h5',\n",
    "    max_depth=6,\n",
    "    find_files=True,\n",
    "    find_folders=False,\n",
    "    verbose=True,\n",
    ")\n",
    "\n",
    "paths_files_remote = natsort.natsorted(paths_files_remote)"
   ]
  },
  {
   "cell_type": "code",
   "execution_count": 65,
   "id": "9904a6aa-375c-4827-b676-55bb195cda56",
   "metadata": {},
   "outputs": [],
   "source": [
    "dates_files_remote = [Path(p).parent.parent.name for p in paths_files_remote]"
   ]
  },
  {
   "cell_type": "code",
   "execution_count": 66,
   "id": "3aa95e07-f73e-48c9-99f1-f0282be8bb1c",
   "metadata": {},
   "outputs": [
    {
     "data": {
      "text/plain": [
       "['20230702', '20230703', '20230706', '20230707', '20230708', '20230709']"
      ]
     },
     "execution_count": 66,
     "metadata": {},
     "output_type": "execute_result"
    }
   ],
   "source": [
    "dates_files_remote"
   ]
  },
  {
   "cell_type": "code",
   "execution_count": 67,
   "id": "fa8f2f34-6a29-4ef9-8cb9-e33771b41aa1",
   "metadata": {},
   "outputs": [],
   "source": [
    "directory_local_save = f'/media/rich/bigSSD/analysis_data/face_rhythm/{mouse}/wavesurfer_files/'"
   ]
  },
  {
   "cell_type": "code",
   "execution_count": 68,
   "id": "6b75bba8-d286-4830-b7f9-95e38431aace",
   "metadata": {},
   "outputs": [
    {
     "name": "stderr",
     "output_type": "stream",
     "text": [
      "100%|█████████████████████████████████████████████████████████████████████▉| 50.7M/50.7M [00:00<00:00, 50.9Mb/s]\n",
      "100%|█████████████████████████████████████████████████████████████████████▉| 50.7M/50.7M [00:00<00:00, 56.4Mb/s]\n",
      "100%|█████████████████████████████████████████████████████████████████████▉| 50.7M/50.7M [00:00<00:00, 58.8Mb/s]\n",
      "100%|█████████████████████████████████████████████████████████████████████▉| 50.7M/50.7M [00:00<00:00, 60.9Mb/s]\n",
      "100%|█████████████████████████████████████████████████████████████████████▉| 50.7M/50.7M [00:00<00:00, 53.2Mb/s]\n",
      "100%|█████████████████████████████████████████████████████████████████████▉| 50.7M/50.7M [00:00<00:00, 56.5Mb/s]\n"
     ]
    },
    {
     "data": {
      "text/plain": [
       "[None, None, None, None, None, None]"
      ]
     },
     "execution_count": 68,
     "metadata": {},
     "output_type": "execute_result"
    }
   ],
   "source": [
    "[sftp.get(remotepath=p_r, localpath=str(Path(directory_local_save) / date / Path(p_r).name)) for p_r, date in zip(paths_files_remote, dates_files_remote)]"
   ]
  },
  {
   "cell_type": "code",
   "execution_count": null,
   "id": "d95bd730",
   "metadata": {},
   "outputs": [],
   "source": []
  },
  {
   "cell_type": "markdown",
   "id": "aa9efe38-41ed-4978-beff-6a0abbf7a3ea",
   "metadata": {},
   "source": [
    "# Download camera CSV files"
   ]
  },
  {
   "cell_type": "code",
   "execution_count": 44,
   "id": "b2dabe8c-c962-4726-a0aa-4b2d51675df4",
   "metadata": {},
   "outputs": [
    {
     "name": "stdout",
     "output_type": "stream",
     "text": [
      "/n/files/Neurobio/MICROSCOPE/Gyu/BMI_data/cage_0403/mouse_0403R/20230708/camera_data/exp/cam4/times_cam42023-07-08T12_17_59.csv\n",
      "/n/files/Neurobio/MICROSCOPE/Gyu/BMI_data/cage_0403/mouse_0403R/20230709/camera_data/exp/cam4/times_cam42023-07-09T12_19_41.csv\n",
      "/n/files/Neurobio/MICROSCOPE/Gyu/BMI_data/cage_0403/mouse_0403R/20230702/camera_data/exp/cam4/times_cam42023-07-02T14_46_44.csv\n",
      "/n/files/Neurobio/MICROSCOPE/Gyu/BMI_data/cage_0403/mouse_0403R/20230703/camera_data/exp/cam4/times_cam42023-07-03T11_31_50.csv\n",
      "/n/files/Neurobio/MICROSCOPE/Gyu/BMI_data/cage_0403/mouse_0403R/20230707/camera_data/exp/cam4/times_cam42023-07-07T12_09_12.csv\n",
      "/n/files/Neurobio/MICROSCOPE/Gyu/BMI_data/cage_0403/mouse_0403R/20230706/camera_data/exp/cam4/times_cam42023-07-06T13_45_36.csv\n"
     ]
    }
   ],
   "source": [
    "paths_csvs_remote = sftp.search_recursive(\n",
    "    path=f'/n/files/Neurobio/MICROSCOPE/Gyu/BMI_data/{cage}/{mouse}/',\n",
    "    search_pattern_re=r'.*cam4.*csv',\n",
    "    max_depth=6,\n",
    "    find_files=True,\n",
    "    find_folders=False,\n",
    "    verbose=True,\n",
    ")\n",
    "\n",
    "paths_csvs_remote = natsort.natsorted(paths_csvs_remote)"
   ]
  },
  {
   "cell_type": "code",
   "execution_count": 45,
   "id": "e7a5181b-8b14-49ca-ba45-253faf7d465e",
   "metadata": {},
   "outputs": [],
   "source": [
    "dates_csvs_remote = [Path(p).parent.parent.parent.parent.name for p in paths_csvs_remote]"
   ]
  },
  {
   "cell_type": "code",
   "execution_count": 46,
   "id": "1455ee50-9279-4260-adef-dd09126cf0eb",
   "metadata": {},
   "outputs": [],
   "source": [
    "directory_local_save = f'/media/rich/bigSSD/analysis_data/face_rhythm/{mouse}/cam4_CSVs/'"
   ]
  },
  {
   "cell_type": "code",
   "execution_count": 47,
   "id": "cb52e5f9-7d9e-4330-90cd-d88b0e7122ef",
   "metadata": {},
   "outputs": [
    {
     "name": "stderr",
     "output_type": "stream",
     "text": [
      "100%|█████████████████████████████████████████████████████████████████████▉| 31.1M/31.1M [00:01<00:00, 31.0Mb/s]\n",
      "100%|█████████████████████████████████████████████████████████████████████▉| 34.8M/34.8M [00:00<00:00, 35.1Mb/s]\n",
      "100%|█████████████████████████████████████████████████████████████████████▉| 31.2M/31.2M [00:00<00:00, 39.4Mb/s]\n",
      "100%|█████████████████████████████████████████████████████████████████████▉| 31.1M/31.1M [00:00<00:00, 42.7Mb/s]\n",
      "100%|█████████████████████████████████████████████████████████████████████▉| 31.1M/31.1M [00:00<00:00, 31.3Mb/s]\n",
      "100%|█████████████████████████████████████████████████████████████████████▉| 31.2M/31.3M [00:01<00:00, 29.5Mb/s]\n"
     ]
    }
   ],
   "source": [
    "[sftp.get(remotepath=p_r, localpath=str(Path(directory_local_save) / date / Path(p_r).name)) for p_r, date in zip(paths_csvs_remote, dates_csvs_remote)];"
   ]
  },
  {
   "cell_type": "code",
   "execution_count": null,
   "id": "77ee13e0-0f67-4162-b679-2f3b824dae85",
   "metadata": {},
   "outputs": [],
   "source": []
  },
  {
   "cell_type": "markdown",
   "id": "0289626a-4cfc-4497-a27f-0c3bcac4d507",
   "metadata": {},
   "source": [
    "# Download face-rhythm files"
   ]
  },
  {
   "cell_type": "code",
   "execution_count": 13,
   "id": "1480a835",
   "metadata": {},
   "outputs": [
    {
     "name": "stdout",
     "output_type": "stream",
     "text": [
      "/n/data1/hms/neurobio/sabatini/rich/analysis/faceRhythm/mouse_0403R/run_20240131/20230708/jobNum_0/analysis_files/VQT_Analyzer.h5\n",
      "/n/data1/hms/neurobio/sabatini/rich/analysis/faceRhythm/mouse_0403R/run_20240131/20230709/jobNum_0/analysis_files/VQT_Analyzer.h5\n",
      "/n/data1/hms/neurobio/sabatini/rich/analysis/faceRhythm/mouse_0403R/run_20240131/20230702/jobNum_0/analysis_files/VQT_Analyzer.h5\n",
      "/n/data1/hms/neurobio/sabatini/rich/analysis/faceRhythm/mouse_0403R/run_20240131/20230707/jobNum_0/analysis_files/VQT_Analyzer.h5\n",
      "/n/data1/hms/neurobio/sabatini/rich/analysis/faceRhythm/mouse_0403R/run_20240131/20230706/jobNum_0/analysis_files/VQT_Analyzer.h5\n"
     ]
    }
   ],
   "source": [
    "paths_fr_remote = natsort.natsorted(sftp.search_recursive(\n",
    "    path=f'/n/data1/hms/neurobio/sabatini/rich/analysis/faceRhythm/{mouse}/',\n",
    "    search_pattern_re=r'VQT_Analyzer.h5',\n",
    "    max_depth=6,\n",
    "    find_files=True,\n",
    "    find_folders=False,\n",
    "    verbose=True,\n",
    "))"
   ]
  },
  {
   "cell_type": "code",
   "execution_count": 14,
   "id": "344c757b-f0ec-4f66-9b10-52f735842a0b",
   "metadata": {},
   "outputs": [
    {
     "data": {
      "text/plain": [
       "['20230702', '20230706', '20230707', '20230708', '20230709']"
      ]
     },
     "execution_count": 14,
     "metadata": {},
     "output_type": "execute_result"
    }
   ],
   "source": [
    "dates_fr_remote = [Path(p).parts[-4] for p in paths_fr_remote]\n",
    "dates_fr_remote"
   ]
  },
  {
   "cell_type": "code",
   "execution_count": 15,
   "id": "ab7e4b5f-5631-41c6-a869-1bb8a8976a4f",
   "metadata": {},
   "outputs": [
    {
     "data": {
      "text/plain": [
       "['/n/data1/hms/neurobio/sabatini/rich/analysis/faceRhythm/mouse_0403R/run_20240131/20230702',\n",
       " '/n/data1/hms/neurobio/sabatini/rich/analysis/faceRhythm/mouse_0403R/run_20240131/20230706',\n",
       " '/n/data1/hms/neurobio/sabatini/rich/analysis/faceRhythm/mouse_0403R/run_20240131/20230707',\n",
       " '/n/data1/hms/neurobio/sabatini/rich/analysis/faceRhythm/mouse_0403R/run_20240131/20230708',\n",
       " '/n/data1/hms/neurobio/sabatini/rich/analysis/faceRhythm/mouse_0403R/run_20240131/20230709']"
      ]
     },
     "execution_count": 15,
     "metadata": {},
     "output_type": "execute_result"
    }
   ],
   "source": [
    "dirsToDownload_fr_remote = [str(Path(p).parent.parent.parent) for p in paths_fr_remote]\n",
    "dirsToDownload_fr_remote"
   ]
  },
  {
   "cell_type": "code",
   "execution_count": 16,
   "id": "a2557c05-177d-4ded-8afc-882153e073a1",
   "metadata": {},
   "outputs": [],
   "source": [
    "directory_local_save = f'/media/rich/bigSSD/analysis_data/face_rhythm/{mouse}/fr_run/'"
   ]
  },
  {
   "cell_type": "code",
   "execution_count": 17,
   "id": "10d275ff-3f60-4cfe-830b-c1990b029bd4",
   "metadata": {},
   "outputs": [
    {
     "data": {
      "text/plain": [
       "'/media/rich/bigSSD/analysis_data/face_rhythm/mouse_0403R/fr_run/'"
      ]
     },
     "execution_count": 17,
     "metadata": {},
     "output_type": "execute_result"
    }
   ],
   "source": [
    "directory_local_save"
   ]
  },
  {
   "cell_type": "code",
   "execution_count": 18,
   "id": "4ee64ebf-4908-4571-864b-f97e84d4f4db",
   "metadata": {
    "scrolled": true
   },
   "outputs": [
    {
     "name": "stdout",
     "output_type": "stream",
     "text": [
      "downloading /n/data1/hms/neurobio/sabatini/rich/analysis/faceRhythm/mouse_0403R/run_20240131/20230708/parameters_batch.json   to   /media/rich/bigSSD/analysis_data/face_rhythm/mouse_0403R/fr_run/run_20240131/20230708/parameters_batch.json\n"
     ]
    },
    {
     "name": "stderr",
     "output_type": "stream",
     "text": [
      "0.00b [00:00, ?b/s]\n"
     ]
    },
    {
     "name": "stdout",
     "output_type": "stream",
     "text": [
      "downloading /n/data1/hms/neurobio/sabatini/rich/analysis/faceRhythm/mouse_0403R/run_20240131/20230708/jobNum_0/params.json   to   /media/rich/bigSSD/analysis_data/face_rhythm/mouse_0403R/fr_run/run_20240131/20230708/jobNum_0/params.json\n"
     ]
    },
    {
     "name": "stderr",
     "output_type": "stream",
     "text": [
      "0.00b [00:00, ?b/s]\n"
     ]
    },
    {
     "name": "stdout",
     "output_type": "stream",
     "text": [
      "downloading /n/data1/hms/neurobio/sabatini/rich/analysis/faceRhythm/mouse_0403R/run_20240131/20230708/jobNum_0/config.yaml   to   /media/rich/bigSSD/analysis_data/face_rhythm/mouse_0403R/fr_run/run_20240131/20230708/jobNum_0/config.yaml\n"
     ]
    },
    {
     "name": "stderr",
     "output_type": "stream",
     "text": [
      "0.00b [00:00, ?b/s]\n"
     ]
    },
    {
     "name": "stdout",
     "output_type": "stream",
     "text": [
      "downloading /n/data1/hms/neurobio/sabatini/rich/analysis/faceRhythm/mouse_0403R/run_20240131/20230708/jobNum_0/print_log_31167783.log   to   /media/rich/bigSSD/analysis_data/face_rhythm/mouse_0403R/fr_run/run_20240131/20230708/jobNum_0/print_log_31167783.log\n"
     ]
    },
    {
     "name": "stderr",
     "output_type": "stream",
     "text": [
      "0.00b [00:00, ?b/s]\n"
     ]
    },
    {
     "name": "stdout",
     "output_type": "stream",
     "text": [
      "downloading /n/data1/hms/neurobio/sabatini/rich/analysis/faceRhythm/mouse_0403R/run_20240131/20230708/jobNum_0/analysis_files/ROIs.h5   to   /media/rich/bigSSD/analysis_data/face_rhythm/mouse_0403R/fr_run/run_20240131/20230708/jobNum_0/analysis_files/ROIs.h5\n"
     ]
    },
    {
     "name": "stderr",
     "output_type": "stream",
     "text": [
      "0.00b [00:00, ?b/s]\n"
     ]
    },
    {
     "name": "stdout",
     "output_type": "stream",
     "text": [
      "downloading /n/data1/hms/neurobio/sabatini/rich/analysis/faceRhythm/mouse_0403R/run_20240131/20230708/jobNum_0/analysis_files/TCA.h5   to   /media/rich/bigSSD/analysis_data/face_rhythm/mouse_0403R/fr_run/run_20240131/20230708/jobNum_0/analysis_files/TCA.h5\n"
     ]
    },
    {
     "name": "stderr",
     "output_type": "stream",
     "text": [
      "0.00b [00:00, ?b/s]\n"
     ]
    },
    {
     "name": "stdout",
     "output_type": "stream",
     "text": [
      "downloading /n/data1/hms/neurobio/sabatini/rich/analysis/faceRhythm/mouse_0403R/run_20240131/20230708/jobNum_0/analysis_files/PointTracker.h5   to   /media/rich/bigSSD/analysis_data/face_rhythm/mouse_0403R/fr_run/run_20240131/20230708/jobNum_0/analysis_files/PointTracker.h5\n"
     ]
    },
    {
     "name": "stderr",
     "output_type": "stream",
     "text": [
      "0.00b [00:52, ?b/s]\n"
     ]
    },
    {
     "name": "stdout",
     "output_type": "stream",
     "text": [
      "downloading /n/data1/hms/neurobio/sabatini/rich/analysis/faceRhythm/mouse_0403R/run_20240131/20230708/jobNum_0/analysis_files/VQT_Analyzer.h5   to   /media/rich/bigSSD/analysis_data/face_rhythm/mouse_0403R/fr_run/run_20240131/20230708/jobNum_0/analysis_files/VQT_Analyzer.h5\n"
     ]
    },
    {
     "name": "stderr",
     "output_type": "stream",
     "text": [
      "0.00b [01:38, ?b/s]\n"
     ]
    },
    {
     "name": "stdout",
     "output_type": "stream",
     "text": [
      "downloading /n/data1/hms/neurobio/sabatini/rich/analysis/faceRhythm/mouse_0403R/run_20240131/20230708/jobNum_0/analysis_files/Dataset_videos.h5   to   /media/rich/bigSSD/analysis_data/face_rhythm/mouse_0403R/fr_run/run_20240131/20230708/jobNum_0/analysis_files/Dataset_videos.h5\n"
     ]
    },
    {
     "name": "stderr",
     "output_type": "stream",
     "text": [
      "0.00b [00:00, ?b/s]\n"
     ]
    },
    {
     "name": "stdout",
     "output_type": "stream",
     "text": [
      "downloading /n/data1/hms/neurobio/sabatini/rich/analysis/faceRhythm/mouse_0403R/run_20240131/20230708/jobNum_0/run_info.json   to   /media/rich/bigSSD/analysis_data/face_rhythm/mouse_0403R/fr_run/run_20240131/20230708/jobNum_0/run_info.json\n"
     ]
    },
    {
     "name": "stderr",
     "output_type": "stream",
     "text": [
      "0.00b [00:00, ?b/s]\n"
     ]
    },
    {
     "name": "stdout",
     "output_type": "stream",
     "text": [
      "downloading /n/data1/hms/neurobio/sabatini/rich/analysis/faceRhythm/mouse_0403R/run_20240131/20230708/jobNum_0/sbatch_config.sh   to   /media/rich/bigSSD/analysis_data/face_rhythm/mouse_0403R/fr_run/run_20240131/20230708/jobNum_0/sbatch_config.sh\n"
     ]
    },
    {
     "name": "stderr",
     "output_type": "stream",
     "text": [
      "0.00b [00:00, ?b/s]\n"
     ]
    },
    {
     "name": "stdout",
     "output_type": "stream",
     "text": [
      "downloading /n/data1/hms/neurobio/sabatini/rich/analysis/faceRhythm/mouse_0403R/run_20240131/20230708/jobNum_0/run_pipeline_basic.py   to   /media/rich/bigSSD/analysis_data/face_rhythm/mouse_0403R/fr_run/run_20240131/20230708/jobNum_0/run_pipeline_basic.py\n"
     ]
    },
    {
     "name": "stderr",
     "output_type": "stream",
     "text": [
      "0.00b [00:00, ?b/s]\n"
     ]
    },
    {
     "name": "stdout",
     "output_type": "stream",
     "text": [
      "downloading /n/data1/hms/neurobio/sabatini/rich/analysis/faceRhythm/mouse_0403R/run_20240131/20230708/dispatcher.py   to   /media/rich/bigSSD/analysis_data/face_rhythm/mouse_0403R/fr_run/run_20240131/20230708/dispatcher.py\n"
     ]
    },
    {
     "name": "stderr",
     "output_type": "stream",
     "text": [
      "0.00b [00:00, ?b/s]\n"
     ]
    },
    {
     "name": "stdout",
     "output_type": "stream",
     "text": [
      "downloading /n/data1/hms/neurobio/sabatini/rich/analysis/faceRhythm/mouse_0403R/run_20240131/20230708/notes.txt   to   /media/rich/bigSSD/analysis_data/face_rhythm/mouse_0403R/fr_run/run_20240131/20230708/notes.txt\n"
     ]
    },
    {
     "name": "stderr",
     "output_type": "stream",
     "text": [
      "0.00b [00:00, ?b/s]\n"
     ]
    },
    {
     "name": "stdout",
     "output_type": "stream",
     "text": [
      "downloading /n/data1/hms/neurobio/sabatini/rich/analysis/faceRhythm/mouse_0403R/run_20240131/20230708/run_pipeline_basic.py   to   /media/rich/bigSSD/analysis_data/face_rhythm/mouse_0403R/fr_run/run_20240131/20230708/run_pipeline_basic.py\n"
     ]
    },
    {
     "name": "stderr",
     "output_type": "stream",
     "text": [
      "0.00b [00:00, ?b/s]\n"
     ]
    },
    {
     "name": "stdout",
     "output_type": "stream",
     "text": [
      "downloading /n/data1/hms/neurobio/sabatini/rich/analysis/faceRhythm/mouse_0403R/run_20240131/20230709/parameters_batch.json   to   /media/rich/bigSSD/analysis_data/face_rhythm/mouse_0403R/fr_run/run_20240131/20230709/parameters_batch.json\n"
     ]
    },
    {
     "name": "stderr",
     "output_type": "stream",
     "text": [
      "0.00b [00:00, ?b/s]\n"
     ]
    },
    {
     "name": "stdout",
     "output_type": "stream",
     "text": [
      "downloading /n/data1/hms/neurobio/sabatini/rich/analysis/faceRhythm/mouse_0403R/run_20240131/20230709/jobNum_0/params.json   to   /media/rich/bigSSD/analysis_data/face_rhythm/mouse_0403R/fr_run/run_20240131/20230709/jobNum_0/params.json\n"
     ]
    },
    {
     "name": "stderr",
     "output_type": "stream",
     "text": [
      "0.00b [00:00, ?b/s]\n"
     ]
    },
    {
     "name": "stdout",
     "output_type": "stream",
     "text": [
      "downloading /n/data1/hms/neurobio/sabatini/rich/analysis/faceRhythm/mouse_0403R/run_20240131/20230709/jobNum_0/config.yaml   to   /media/rich/bigSSD/analysis_data/face_rhythm/mouse_0403R/fr_run/run_20240131/20230709/jobNum_0/config.yaml\n"
     ]
    },
    {
     "name": "stderr",
     "output_type": "stream",
     "text": [
      "0.00b [00:00, ?b/s]\n"
     ]
    },
    {
     "name": "stdout",
     "output_type": "stream",
     "text": [
      "downloading /n/data1/hms/neurobio/sabatini/rich/analysis/faceRhythm/mouse_0403R/run_20240131/20230709/jobNum_0/print_log_31167785.log   to   /media/rich/bigSSD/analysis_data/face_rhythm/mouse_0403R/fr_run/run_20240131/20230709/jobNum_0/print_log_31167785.log\n"
     ]
    },
    {
     "name": "stderr",
     "output_type": "stream",
     "text": [
      "0.00b [00:00, ?b/s]\n"
     ]
    },
    {
     "name": "stdout",
     "output_type": "stream",
     "text": [
      "downloading /n/data1/hms/neurobio/sabatini/rich/analysis/faceRhythm/mouse_0403R/run_20240131/20230709/jobNum_0/analysis_files/ROIs.h5   to   /media/rich/bigSSD/analysis_data/face_rhythm/mouse_0403R/fr_run/run_20240131/20230709/jobNum_0/analysis_files/ROIs.h5\n"
     ]
    },
    {
     "name": "stderr",
     "output_type": "stream",
     "text": [
      "0.00b [00:00, ?b/s]\n"
     ]
    },
    {
     "name": "stdout",
     "output_type": "stream",
     "text": [
      "downloading /n/data1/hms/neurobio/sabatini/rich/analysis/faceRhythm/mouse_0403R/run_20240131/20230709/jobNum_0/analysis_files/TCA.h5   to   /media/rich/bigSSD/analysis_data/face_rhythm/mouse_0403R/fr_run/run_20240131/20230709/jobNum_0/analysis_files/TCA.h5\n"
     ]
    },
    {
     "name": "stderr",
     "output_type": "stream",
     "text": [
      "0.00b [00:00, ?b/s]\n"
     ]
    },
    {
     "name": "stdout",
     "output_type": "stream",
     "text": [
      "downloading /n/data1/hms/neurobio/sabatini/rich/analysis/faceRhythm/mouse_0403R/run_20240131/20230709/jobNum_0/analysis_files/PointTracker.h5   to   /media/rich/bigSSD/analysis_data/face_rhythm/mouse_0403R/fr_run/run_20240131/20230709/jobNum_0/analysis_files/PointTracker.h5\n"
     ]
    },
    {
     "name": "stderr",
     "output_type": "stream",
     "text": [
      "0.00b [01:46, ?b/s]\n"
     ]
    },
    {
     "name": "stdout",
     "output_type": "stream",
     "text": [
      "downloading /n/data1/hms/neurobio/sabatini/rich/analysis/faceRhythm/mouse_0403R/run_20240131/20230709/jobNum_0/analysis_files/VQT_Analyzer.h5   to   /media/rich/bigSSD/analysis_data/face_rhythm/mouse_0403R/fr_run/run_20240131/20230709/jobNum_0/analysis_files/VQT_Analyzer.h5\n"
     ]
    },
    {
     "name": "stderr",
     "output_type": "stream",
     "text": [
      "0.00b [01:46, ?b/s]\n"
     ]
    },
    {
     "name": "stdout",
     "output_type": "stream",
     "text": [
      "downloading /n/data1/hms/neurobio/sabatini/rich/analysis/faceRhythm/mouse_0403R/run_20240131/20230709/jobNum_0/analysis_files/Dataset_videos.h5   to   /media/rich/bigSSD/analysis_data/face_rhythm/mouse_0403R/fr_run/run_20240131/20230709/jobNum_0/analysis_files/Dataset_videos.h5\n"
     ]
    },
    {
     "name": "stderr",
     "output_type": "stream",
     "text": [
      "0.00b [00:00, ?b/s]\n"
     ]
    },
    {
     "name": "stdout",
     "output_type": "stream",
     "text": [
      "downloading /n/data1/hms/neurobio/sabatini/rich/analysis/faceRhythm/mouse_0403R/run_20240131/20230709/jobNum_0/run_info.json   to   /media/rich/bigSSD/analysis_data/face_rhythm/mouse_0403R/fr_run/run_20240131/20230709/jobNum_0/run_info.json\n"
     ]
    },
    {
     "name": "stderr",
     "output_type": "stream",
     "text": [
      "0.00b [00:00, ?b/s]\n"
     ]
    },
    {
     "name": "stdout",
     "output_type": "stream",
     "text": [
      "downloading /n/data1/hms/neurobio/sabatini/rich/analysis/faceRhythm/mouse_0403R/run_20240131/20230709/jobNum_0/sbatch_config.sh   to   /media/rich/bigSSD/analysis_data/face_rhythm/mouse_0403R/fr_run/run_20240131/20230709/jobNum_0/sbatch_config.sh\n"
     ]
    },
    {
     "name": "stderr",
     "output_type": "stream",
     "text": [
      "0.00b [00:00, ?b/s]\n"
     ]
    },
    {
     "name": "stdout",
     "output_type": "stream",
     "text": [
      "downloading /n/data1/hms/neurobio/sabatini/rich/analysis/faceRhythm/mouse_0403R/run_20240131/20230709/jobNum_0/run_pipeline_basic.py   to   /media/rich/bigSSD/analysis_data/face_rhythm/mouse_0403R/fr_run/run_20240131/20230709/jobNum_0/run_pipeline_basic.py\n"
     ]
    },
    {
     "name": "stderr",
     "output_type": "stream",
     "text": [
      "0.00b [00:00, ?b/s]\n"
     ]
    },
    {
     "name": "stdout",
     "output_type": "stream",
     "text": [
      "downloading /n/data1/hms/neurobio/sabatini/rich/analysis/faceRhythm/mouse_0403R/run_20240131/20230709/dispatcher.py   to   /media/rich/bigSSD/analysis_data/face_rhythm/mouse_0403R/fr_run/run_20240131/20230709/dispatcher.py\n"
     ]
    },
    {
     "name": "stderr",
     "output_type": "stream",
     "text": [
      "0.00b [00:00, ?b/s]\n"
     ]
    },
    {
     "name": "stdout",
     "output_type": "stream",
     "text": [
      "downloading /n/data1/hms/neurobio/sabatini/rich/analysis/faceRhythm/mouse_0403R/run_20240131/20230709/notes.txt   to   /media/rich/bigSSD/analysis_data/face_rhythm/mouse_0403R/fr_run/run_20240131/20230709/notes.txt\n"
     ]
    },
    {
     "name": "stderr",
     "output_type": "stream",
     "text": [
      "0.00b [00:00, ?b/s]\n"
     ]
    },
    {
     "name": "stdout",
     "output_type": "stream",
     "text": [
      "downloading /n/data1/hms/neurobio/sabatini/rich/analysis/faceRhythm/mouse_0403R/run_20240131/20230709/run_pipeline_basic.py   to   /media/rich/bigSSD/analysis_data/face_rhythm/mouse_0403R/fr_run/run_20240131/20230709/run_pipeline_basic.py\n"
     ]
    },
    {
     "name": "stderr",
     "output_type": "stream",
     "text": [
      "0.00b [00:00, ?b/s]\n"
     ]
    },
    {
     "name": "stdout",
     "output_type": "stream",
     "text": [
      "downloading /n/data1/hms/neurobio/sabatini/rich/analysis/faceRhythm/mouse_0403R/run_20240131/20230702/parameters_batch.json   to   /media/rich/bigSSD/analysis_data/face_rhythm/mouse_0403R/fr_run/run_20240131/20230702/parameters_batch.json\n"
     ]
    },
    {
     "name": "stderr",
     "output_type": "stream",
     "text": [
      "0.00b [00:00, ?b/s]\n"
     ]
    },
    {
     "name": "stdout",
     "output_type": "stream",
     "text": [
      "downloading /n/data1/hms/neurobio/sabatini/rich/analysis/faceRhythm/mouse_0403R/run_20240131/20230702/jobNum_0/params.json   to   /media/rich/bigSSD/analysis_data/face_rhythm/mouse_0403R/fr_run/run_20240131/20230702/jobNum_0/params.json\n"
     ]
    },
    {
     "name": "stderr",
     "output_type": "stream",
     "text": [
      "0.00b [00:00, ?b/s]\n"
     ]
    },
    {
     "name": "stdout",
     "output_type": "stream",
     "text": [
      "downloading /n/data1/hms/neurobio/sabatini/rich/analysis/faceRhythm/mouse_0403R/run_20240131/20230702/jobNum_0/config.yaml   to   /media/rich/bigSSD/analysis_data/face_rhythm/mouse_0403R/fr_run/run_20240131/20230702/jobNum_0/config.yaml\n"
     ]
    },
    {
     "name": "stderr",
     "output_type": "stream",
     "text": [
      "0.00b [00:00, ?b/s]\n"
     ]
    },
    {
     "name": "stdout",
     "output_type": "stream",
     "text": [
      "downloading /n/data1/hms/neurobio/sabatini/rich/analysis/faceRhythm/mouse_0403R/run_20240131/20230702/jobNum_0/analysis_files/ROIs.h5   to   /media/rich/bigSSD/analysis_data/face_rhythm/mouse_0403R/fr_run/run_20240131/20230702/jobNum_0/analysis_files/ROIs.h5\n"
     ]
    },
    {
     "name": "stderr",
     "output_type": "stream",
     "text": [
      "0.00b [00:00, ?b/s]\n"
     ]
    },
    {
     "name": "stdout",
     "output_type": "stream",
     "text": [
      "downloading /n/data1/hms/neurobio/sabatini/rich/analysis/faceRhythm/mouse_0403R/run_20240131/20230702/jobNum_0/analysis_files/TCA.h5   to   /media/rich/bigSSD/analysis_data/face_rhythm/mouse_0403R/fr_run/run_20240131/20230702/jobNum_0/analysis_files/TCA.h5\n"
     ]
    },
    {
     "name": "stderr",
     "output_type": "stream",
     "text": [
      "0.00b [00:00, ?b/s]\n"
     ]
    },
    {
     "name": "stdout",
     "output_type": "stream",
     "text": [
      "downloading /n/data1/hms/neurobio/sabatini/rich/analysis/faceRhythm/mouse_0403R/run_20240131/20230702/jobNum_0/analysis_files/PointTracker.h5   to   /media/rich/bigSSD/analysis_data/face_rhythm/mouse_0403R/fr_run/run_20240131/20230702/jobNum_0/analysis_files/PointTracker.h5\n"
     ]
    },
    {
     "name": "stderr",
     "output_type": "stream",
     "text": [
      "0.00b [00:51, ?b/s]\n"
     ]
    },
    {
     "name": "stdout",
     "output_type": "stream",
     "text": [
      "downloading /n/data1/hms/neurobio/sabatini/rich/analysis/faceRhythm/mouse_0403R/run_20240131/20230702/jobNum_0/analysis_files/VQT_Analyzer.h5   to   /media/rich/bigSSD/analysis_data/face_rhythm/mouse_0403R/fr_run/run_20240131/20230702/jobNum_0/analysis_files/VQT_Analyzer.h5\n"
     ]
    },
    {
     "name": "stderr",
     "output_type": "stream",
     "text": [
      "0.00b [01:32, ?b/s]\n"
     ]
    },
    {
     "name": "stdout",
     "output_type": "stream",
     "text": [
      "downloading /n/data1/hms/neurobio/sabatini/rich/analysis/faceRhythm/mouse_0403R/run_20240131/20230702/jobNum_0/analysis_files/Dataset_videos.h5   to   /media/rich/bigSSD/analysis_data/face_rhythm/mouse_0403R/fr_run/run_20240131/20230702/jobNum_0/analysis_files/Dataset_videos.h5\n"
     ]
    },
    {
     "name": "stderr",
     "output_type": "stream",
     "text": [
      "0.00b [00:00, ?b/s]\n"
     ]
    },
    {
     "name": "stdout",
     "output_type": "stream",
     "text": [
      "downloading /n/data1/hms/neurobio/sabatini/rich/analysis/faceRhythm/mouse_0403R/run_20240131/20230702/jobNum_0/run_info.json   to   /media/rich/bigSSD/analysis_data/face_rhythm/mouse_0403R/fr_run/run_20240131/20230702/jobNum_0/run_info.json\n"
     ]
    },
    {
     "name": "stderr",
     "output_type": "stream",
     "text": [
      "0.00b [00:00, ?b/s]\n"
     ]
    },
    {
     "name": "stdout",
     "output_type": "stream",
     "text": [
      "downloading /n/data1/hms/neurobio/sabatini/rich/analysis/faceRhythm/mouse_0403R/run_20240131/20230702/jobNum_0/print_log_31167771.log   to   /media/rich/bigSSD/analysis_data/face_rhythm/mouse_0403R/fr_run/run_20240131/20230702/jobNum_0/print_log_31167771.log\n"
     ]
    },
    {
     "name": "stderr",
     "output_type": "stream",
     "text": [
      "0.00b [00:00, ?b/s]\n"
     ]
    },
    {
     "name": "stdout",
     "output_type": "stream",
     "text": [
      "downloading /n/data1/hms/neurobio/sabatini/rich/analysis/faceRhythm/mouse_0403R/run_20240131/20230702/jobNum_0/sbatch_config.sh   to   /media/rich/bigSSD/analysis_data/face_rhythm/mouse_0403R/fr_run/run_20240131/20230702/jobNum_0/sbatch_config.sh\n"
     ]
    },
    {
     "name": "stderr",
     "output_type": "stream",
     "text": [
      "0.00b [00:00, ?b/s]\n"
     ]
    },
    {
     "name": "stdout",
     "output_type": "stream",
     "text": [
      "downloading /n/data1/hms/neurobio/sabatini/rich/analysis/faceRhythm/mouse_0403R/run_20240131/20230702/jobNum_0/run_pipeline_basic.py   to   /media/rich/bigSSD/analysis_data/face_rhythm/mouse_0403R/fr_run/run_20240131/20230702/jobNum_0/run_pipeline_basic.py\n"
     ]
    },
    {
     "name": "stderr",
     "output_type": "stream",
     "text": [
      "0.00b [00:00, ?b/s]\n"
     ]
    },
    {
     "name": "stdout",
     "output_type": "stream",
     "text": [
      "downloading /n/data1/hms/neurobio/sabatini/rich/analysis/faceRhythm/mouse_0403R/run_20240131/20230702/dispatcher.py   to   /media/rich/bigSSD/analysis_data/face_rhythm/mouse_0403R/fr_run/run_20240131/20230702/dispatcher.py\n"
     ]
    },
    {
     "name": "stderr",
     "output_type": "stream",
     "text": [
      "0.00b [00:00, ?b/s]\n"
     ]
    },
    {
     "name": "stdout",
     "output_type": "stream",
     "text": [
      "downloading /n/data1/hms/neurobio/sabatini/rich/analysis/faceRhythm/mouse_0403R/run_20240131/20230702/notes.txt   to   /media/rich/bigSSD/analysis_data/face_rhythm/mouse_0403R/fr_run/run_20240131/20230702/notes.txt\n"
     ]
    },
    {
     "name": "stderr",
     "output_type": "stream",
     "text": [
      "0.00b [00:00, ?b/s]\n"
     ]
    },
    {
     "name": "stdout",
     "output_type": "stream",
     "text": [
      "downloading /n/data1/hms/neurobio/sabatini/rich/analysis/faceRhythm/mouse_0403R/run_20240131/20230702/run_pipeline_basic.py   to   /media/rich/bigSSD/analysis_data/face_rhythm/mouse_0403R/fr_run/run_20240131/20230702/run_pipeline_basic.py\n"
     ]
    },
    {
     "name": "stderr",
     "output_type": "stream",
     "text": [
      "0.00b [00:00, ?b/s]\n"
     ]
    },
    {
     "name": "stdout",
     "output_type": "stream",
     "text": [
      "downloading /n/data1/hms/neurobio/sabatini/rich/analysis/faceRhythm/mouse_0403R/run_20240131/20230703/parameters_batch.json   to   /media/rich/bigSSD/analysis_data/face_rhythm/mouse_0403R/fr_run/run_20240131/20230703/parameters_batch.json\n"
     ]
    },
    {
     "name": "stderr",
     "output_type": "stream",
     "text": [
      "0.00b [00:00, ?b/s]\n"
     ]
    },
    {
     "name": "stdout",
     "output_type": "stream",
     "text": [
      "downloading /n/data1/hms/neurobio/sabatini/rich/analysis/faceRhythm/mouse_0403R/run_20240131/20230703/jobNum_0/params.json   to   /media/rich/bigSSD/analysis_data/face_rhythm/mouse_0403R/fr_run/run_20240131/20230703/jobNum_0/params.json\n"
     ]
    },
    {
     "name": "stderr",
     "output_type": "stream",
     "text": [
      "0.00b [00:00, ?b/s]\n"
     ]
    },
    {
     "name": "stdout",
     "output_type": "stream",
     "text": [
      "downloading /n/data1/hms/neurobio/sabatini/rich/analysis/faceRhythm/mouse_0403R/run_20240131/20230703/jobNum_0/config.yaml   to   /media/rich/bigSSD/analysis_data/face_rhythm/mouse_0403R/fr_run/run_20240131/20230703/jobNum_0/config.yaml\n"
     ]
    },
    {
     "name": "stderr",
     "output_type": "stream",
     "text": [
      "0.00b [00:00, ?b/s]\n"
     ]
    },
    {
     "name": "stdout",
     "output_type": "stream",
     "text": [
      "downloading /n/data1/hms/neurobio/sabatini/rich/analysis/faceRhythm/mouse_0403R/run_20240131/20230703/jobNum_0/print_log_31167774.log   to   /media/rich/bigSSD/analysis_data/face_rhythm/mouse_0403R/fr_run/run_20240131/20230703/jobNum_0/print_log_31167774.log\n"
     ]
    },
    {
     "name": "stderr",
     "output_type": "stream",
     "text": [
      "0.00b [00:00, ?b/s]\n"
     ]
    },
    {
     "name": "stdout",
     "output_type": "stream",
     "text": [
      "downloading /n/data1/hms/neurobio/sabatini/rich/analysis/faceRhythm/mouse_0403R/run_20240131/20230703/jobNum_0/analysis_files/ROIs.h5   to   /media/rich/bigSSD/analysis_data/face_rhythm/mouse_0403R/fr_run/run_20240131/20230703/jobNum_0/analysis_files/ROIs.h5\n"
     ]
    },
    {
     "name": "stderr",
     "output_type": "stream",
     "text": [
      "0.00b [00:00, ?b/s]\n"
     ]
    },
    {
     "name": "stdout",
     "output_type": "stream",
     "text": [
      "downloading /n/data1/hms/neurobio/sabatini/rich/analysis/faceRhythm/mouse_0403R/run_20240131/20230703/jobNum_0/analysis_files/Dataset_videos.h5   to   /media/rich/bigSSD/analysis_data/face_rhythm/mouse_0403R/fr_run/run_20240131/20230703/jobNum_0/analysis_files/Dataset_videos.h5\n"
     ]
    },
    {
     "name": "stderr",
     "output_type": "stream",
     "text": [
      "0.00b [00:00, ?b/s]\n"
     ]
    },
    {
     "name": "stdout",
     "output_type": "stream",
     "text": [
      "downloading /n/data1/hms/neurobio/sabatini/rich/analysis/faceRhythm/mouse_0403R/run_20240131/20230703/jobNum_0/run_info.json   to   /media/rich/bigSSD/analysis_data/face_rhythm/mouse_0403R/fr_run/run_20240131/20230703/jobNum_0/run_info.json\n"
     ]
    },
    {
     "name": "stderr",
     "output_type": "stream",
     "text": [
      "0.00b [00:00, ?b/s]\n"
     ]
    },
    {
     "name": "stdout",
     "output_type": "stream",
     "text": [
      "downloading /n/data1/hms/neurobio/sabatini/rich/analysis/faceRhythm/mouse_0403R/run_20240131/20230703/jobNum_0/sbatch_config.sh   to   /media/rich/bigSSD/analysis_data/face_rhythm/mouse_0403R/fr_run/run_20240131/20230703/jobNum_0/sbatch_config.sh\n"
     ]
    },
    {
     "name": "stderr",
     "output_type": "stream",
     "text": [
      "0.00b [00:00, ?b/s]\n"
     ]
    },
    {
     "name": "stdout",
     "output_type": "stream",
     "text": [
      "downloading /n/data1/hms/neurobio/sabatini/rich/analysis/faceRhythm/mouse_0403R/run_20240131/20230703/jobNum_0/run_pipeline_basic.py   to   /media/rich/bigSSD/analysis_data/face_rhythm/mouse_0403R/fr_run/run_20240131/20230703/jobNum_0/run_pipeline_basic.py\n"
     ]
    },
    {
     "name": "stderr",
     "output_type": "stream",
     "text": [
      "0.00b [00:00, ?b/s]\n"
     ]
    },
    {
     "name": "stdout",
     "output_type": "stream",
     "text": [
      "downloading /n/data1/hms/neurobio/sabatini/rich/analysis/faceRhythm/mouse_0403R/run_20240131/20230703/dispatcher.py   to   /media/rich/bigSSD/analysis_data/face_rhythm/mouse_0403R/fr_run/run_20240131/20230703/dispatcher.py\n"
     ]
    },
    {
     "name": "stderr",
     "output_type": "stream",
     "text": [
      "0.00b [00:00, ?b/s]\n"
     ]
    },
    {
     "name": "stdout",
     "output_type": "stream",
     "text": [
      "downloading /n/data1/hms/neurobio/sabatini/rich/analysis/faceRhythm/mouse_0403R/run_20240131/20230703/notes.txt   to   /media/rich/bigSSD/analysis_data/face_rhythm/mouse_0403R/fr_run/run_20240131/20230703/notes.txt\n"
     ]
    },
    {
     "name": "stderr",
     "output_type": "stream",
     "text": [
      "0.00b [00:00, ?b/s]\n"
     ]
    },
    {
     "name": "stdout",
     "output_type": "stream",
     "text": [
      "downloading /n/data1/hms/neurobio/sabatini/rich/analysis/faceRhythm/mouse_0403R/run_20240131/20230703/run_pipeline_basic.py   to   /media/rich/bigSSD/analysis_data/face_rhythm/mouse_0403R/fr_run/run_20240131/20230703/run_pipeline_basic.py\n"
     ]
    },
    {
     "name": "stderr",
     "output_type": "stream",
     "text": [
      "0.00b [00:00, ?b/s]\n"
     ]
    },
    {
     "name": "stdout",
     "output_type": "stream",
     "text": [
      "downloading /n/data1/hms/neurobio/sabatini/rich/analysis/faceRhythm/mouse_0403R/run_20240131/ROIs_prealigned/mouse_face_points_matched.gif   to   /media/rich/bigSSD/analysis_data/face_rhythm/mouse_0403R/fr_run/run_20240131/ROIs_prealigned/mouse_face_points_matched.gif\n"
     ]
    },
    {
     "name": "stderr",
     "output_type": "stream",
     "text": [
      "0.00b [00:00, ?b/s]\n"
     ]
    },
    {
     "name": "stdout",
     "output_type": "stream",
     "text": [
      "downloading /n/data1/hms/neurobio/sabatini/rich/analysis/faceRhythm/mouse_0403R/run_20240131/ROIs_prealigned/20230708/ROIs.h5   to   /media/rich/bigSSD/analysis_data/face_rhythm/mouse_0403R/fr_run/run_20240131/ROIs_prealigned/20230708/ROIs.h5\n"
     ]
    },
    {
     "name": "stderr",
     "output_type": "stream",
     "text": [
      "0.00b [00:00, ?b/s]\n"
     ]
    },
    {
     "name": "stdout",
     "output_type": "stream",
     "text": [
      "downloading /n/data1/hms/neurobio/sabatini/rich/analysis/faceRhythm/mouse_0403R/run_20240131/ROIs_prealigned/20230709/ROIs.h5   to   /media/rich/bigSSD/analysis_data/face_rhythm/mouse_0403R/fr_run/run_20240131/ROIs_prealigned/20230709/ROIs.h5\n"
     ]
    },
    {
     "name": "stderr",
     "output_type": "stream",
     "text": [
      "0.00b [00:00, ?b/s]\n"
     ]
    },
    {
     "name": "stdout",
     "output_type": "stream",
     "text": [
      "downloading /n/data1/hms/neurobio/sabatini/rich/analysis/faceRhythm/mouse_0403R/run_20240131/ROIs_prealigned/20230702/ROIs.h5   to   /media/rich/bigSSD/analysis_data/face_rhythm/mouse_0403R/fr_run/run_20240131/ROIs_prealigned/20230702/ROIs.h5\n"
     ]
    },
    {
     "name": "stderr",
     "output_type": "stream",
     "text": [
      "0.00b [00:00, ?b/s]\n"
     ]
    },
    {
     "name": "stdout",
     "output_type": "stream",
     "text": [
      "downloading /n/data1/hms/neurobio/sabatini/rich/analysis/faceRhythm/mouse_0403R/run_20240131/ROIs_prealigned/20230703/ROIs.h5   to   /media/rich/bigSSD/analysis_data/face_rhythm/mouse_0403R/fr_run/run_20240131/ROIs_prealigned/20230703/ROIs.h5\n"
     ]
    },
    {
     "name": "stderr",
     "output_type": "stream",
     "text": [
      "0.00b [00:00, ?b/s]\n"
     ]
    },
    {
     "name": "stdout",
     "output_type": "stream",
     "text": [
      "downloading /n/data1/hms/neurobio/sabatini/rich/analysis/faceRhythm/mouse_0403R/run_20240131/ROIs_prealigned/mouse_face_matched.gif   to   /media/rich/bigSSD/analysis_data/face_rhythm/mouse_0403R/fr_run/run_20240131/ROIs_prealigned/mouse_face_matched.gif\n"
     ]
    },
    {
     "name": "stderr",
     "output_type": "stream",
     "text": [
      "0.00b [00:00, ?b/s]\n"
     ]
    },
    {
     "name": "stdout",
     "output_type": "stream",
     "text": [
      "downloading /n/data1/hms/neurobio/sabatini/rich/analysis/faceRhythm/mouse_0403R/run_20240131/ROIs_prealigned/20230707/ROIs.h5   to   /media/rich/bigSSD/analysis_data/face_rhythm/mouse_0403R/fr_run/run_20240131/ROIs_prealigned/20230707/ROIs.h5\n"
     ]
    },
    {
     "name": "stderr",
     "output_type": "stream",
     "text": [
      "0.00b [00:00, ?b/s]\n"
     ]
    },
    {
     "name": "stdout",
     "output_type": "stream",
     "text": [
      "downloading /n/data1/hms/neurobio/sabatini/rich/analysis/faceRhythm/mouse_0403R/run_20240131/ROIs_prealigned/20230706/ROIs.h5   to   /media/rich/bigSSD/analysis_data/face_rhythm/mouse_0403R/fr_run/run_20240131/ROIs_prealigned/20230706/ROIs.h5\n"
     ]
    },
    {
     "name": "stderr",
     "output_type": "stream",
     "text": [
      "0.00b [00:00, ?b/s]\n"
     ]
    },
    {
     "name": "stdout",
     "output_type": "stream",
     "text": [
      "downloading /n/data1/hms/neurobio/sabatini/rich/analysis/faceRhythm/mouse_0403R/run_20240131/20230707/parameters_batch.json   to   /media/rich/bigSSD/analysis_data/face_rhythm/mouse_0403R/fr_run/run_20240131/20230707/parameters_batch.json\n"
     ]
    },
    {
     "name": "stderr",
     "output_type": "stream",
     "text": [
      "0.00b [00:00, ?b/s]\n"
     ]
    },
    {
     "name": "stdout",
     "output_type": "stream",
     "text": [
      "downloading /n/data1/hms/neurobio/sabatini/rich/analysis/faceRhythm/mouse_0403R/run_20240131/20230707/jobNum_0/print_log_31167779.log   to   /media/rich/bigSSD/analysis_data/face_rhythm/mouse_0403R/fr_run/run_20240131/20230707/jobNum_0/print_log_31167779.log\n"
     ]
    },
    {
     "name": "stderr",
     "output_type": "stream",
     "text": [
      "0.00b [00:00, ?b/s]\n"
     ]
    },
    {
     "name": "stdout",
     "output_type": "stream",
     "text": [
      "downloading /n/data1/hms/neurobio/sabatini/rich/analysis/faceRhythm/mouse_0403R/run_20240131/20230707/jobNum_0/params.json   to   /media/rich/bigSSD/analysis_data/face_rhythm/mouse_0403R/fr_run/run_20240131/20230707/jobNum_0/params.json\n"
     ]
    },
    {
     "name": "stderr",
     "output_type": "stream",
     "text": [
      "0.00b [00:00, ?b/s]\n"
     ]
    },
    {
     "name": "stdout",
     "output_type": "stream",
     "text": [
      "downloading /n/data1/hms/neurobio/sabatini/rich/analysis/faceRhythm/mouse_0403R/run_20240131/20230707/jobNum_0/config.yaml   to   /media/rich/bigSSD/analysis_data/face_rhythm/mouse_0403R/fr_run/run_20240131/20230707/jobNum_0/config.yaml\n"
     ]
    },
    {
     "name": "stderr",
     "output_type": "stream",
     "text": [
      "0.00b [00:00, ?b/s]\n"
     ]
    },
    {
     "name": "stdout",
     "output_type": "stream",
     "text": [
      "downloading /n/data1/hms/neurobio/sabatini/rich/analysis/faceRhythm/mouse_0403R/run_20240131/20230707/jobNum_0/analysis_files/ROIs.h5   to   /media/rich/bigSSD/analysis_data/face_rhythm/mouse_0403R/fr_run/run_20240131/20230707/jobNum_0/analysis_files/ROIs.h5\n"
     ]
    },
    {
     "name": "stderr",
     "output_type": "stream",
     "text": [
      "0.00b [00:00, ?b/s]"
     ]
    },
    {
     "name": "stdout",
     "output_type": "stream",
     "text": [
      "downloading /n/data1/hms/neurobio/sabatini/rich/analysis/faceRhythm/mouse_0403R/run_20240131/20230707/jobNum_0/analysis_files/PointTracker.h5   to   /media/rich/bigSSD/analysis_data/face_rhythm/mouse_0403R/fr_run/run_20240131/20230707/jobNum_0/analysis_files/PointTracker.h5\n"
     ]
    },
    {
     "name": "stderr",
     "output_type": "stream",
     "text": [
      "\n",
      "0.00b [00:53, ?b/s]\n"
     ]
    },
    {
     "name": "stdout",
     "output_type": "stream",
     "text": [
      "downloading /n/data1/hms/neurobio/sabatini/rich/analysis/faceRhythm/mouse_0403R/run_20240131/20230707/jobNum_0/analysis_files/VQT_Analyzer.h5   to   /media/rich/bigSSD/analysis_data/face_rhythm/mouse_0403R/fr_run/run_20240131/20230707/jobNum_0/analysis_files/VQT_Analyzer.h5\n"
     ]
    },
    {
     "name": "stderr",
     "output_type": "stream",
     "text": [
      "0.00b [01:36, ?b/s]\n"
     ]
    },
    {
     "name": "stdout",
     "output_type": "stream",
     "text": [
      "downloading /n/data1/hms/neurobio/sabatini/rich/analysis/faceRhythm/mouse_0403R/run_20240131/20230707/jobNum_0/analysis_files/Dataset_videos.h5   to   /media/rich/bigSSD/analysis_data/face_rhythm/mouse_0403R/fr_run/run_20240131/20230707/jobNum_0/analysis_files/Dataset_videos.h5\n"
     ]
    },
    {
     "name": "stderr",
     "output_type": "stream",
     "text": [
      "0.00b [00:00, ?b/s]\n"
     ]
    },
    {
     "name": "stdout",
     "output_type": "stream",
     "text": [
      "downloading /n/data1/hms/neurobio/sabatini/rich/analysis/faceRhythm/mouse_0403R/run_20240131/20230707/jobNum_0/run_info.json   to   /media/rich/bigSSD/analysis_data/face_rhythm/mouse_0403R/fr_run/run_20240131/20230707/jobNum_0/run_info.json\n"
     ]
    },
    {
     "name": "stderr",
     "output_type": "stream",
     "text": [
      "0.00b [00:00, ?b/s]\n"
     ]
    },
    {
     "name": "stdout",
     "output_type": "stream",
     "text": [
      "downloading /n/data1/hms/neurobio/sabatini/rich/analysis/faceRhythm/mouse_0403R/run_20240131/20230707/jobNum_0/sbatch_config.sh   to   /media/rich/bigSSD/analysis_data/face_rhythm/mouse_0403R/fr_run/run_20240131/20230707/jobNum_0/sbatch_config.sh\n"
     ]
    },
    {
     "name": "stderr",
     "output_type": "stream",
     "text": [
      "0.00b [00:00, ?b/s]\n"
     ]
    },
    {
     "name": "stdout",
     "output_type": "stream",
     "text": [
      "downloading /n/data1/hms/neurobio/sabatini/rich/analysis/faceRhythm/mouse_0403R/run_20240131/20230707/jobNum_0/run_pipeline_basic.py   to   /media/rich/bigSSD/analysis_data/face_rhythm/mouse_0403R/fr_run/run_20240131/20230707/jobNum_0/run_pipeline_basic.py\n"
     ]
    },
    {
     "name": "stderr",
     "output_type": "stream",
     "text": [
      "0.00b [00:00, ?b/s]\n"
     ]
    },
    {
     "name": "stdout",
     "output_type": "stream",
     "text": [
      "downloading /n/data1/hms/neurobio/sabatini/rich/analysis/faceRhythm/mouse_0403R/run_20240131/20230707/dispatcher.py   to   /media/rich/bigSSD/analysis_data/face_rhythm/mouse_0403R/fr_run/run_20240131/20230707/dispatcher.py\n"
     ]
    },
    {
     "name": "stderr",
     "output_type": "stream",
     "text": [
      "0.00b [00:00, ?b/s]\n"
     ]
    },
    {
     "name": "stdout",
     "output_type": "stream",
     "text": [
      "downloading /n/data1/hms/neurobio/sabatini/rich/analysis/faceRhythm/mouse_0403R/run_20240131/20230707/notes.txt   to   /media/rich/bigSSD/analysis_data/face_rhythm/mouse_0403R/fr_run/run_20240131/20230707/notes.txt\n"
     ]
    },
    {
     "name": "stderr",
     "output_type": "stream",
     "text": [
      "0.00b [00:00, ?b/s]\n"
     ]
    },
    {
     "name": "stdout",
     "output_type": "stream",
     "text": [
      "downloading /n/data1/hms/neurobio/sabatini/rich/analysis/faceRhythm/mouse_0403R/run_20240131/20230707/run_pipeline_basic.py   to   /media/rich/bigSSD/analysis_data/face_rhythm/mouse_0403R/fr_run/run_20240131/20230707/run_pipeline_basic.py\n"
     ]
    },
    {
     "name": "stderr",
     "output_type": "stream",
     "text": [
      "0.00b [00:00, ?b/s]\n"
     ]
    },
    {
     "name": "stdout",
     "output_type": "stream",
     "text": [
      "downloading /n/data1/hms/neurobio/sabatini/rich/analysis/faceRhythm/mouse_0403R/run_20240131/20230706/parameters_batch.json   to   /media/rich/bigSSD/analysis_data/face_rhythm/mouse_0403R/fr_run/run_20240131/20230706/parameters_batch.json\n"
     ]
    },
    {
     "name": "stderr",
     "output_type": "stream",
     "text": [
      "0.00b [00:00, ?b/s]\n"
     ]
    },
    {
     "name": "stdout",
     "output_type": "stream",
     "text": [
      "downloading /n/data1/hms/neurobio/sabatini/rich/analysis/faceRhythm/mouse_0403R/run_20240131/20230706/jobNum_0/params.json   to   /media/rich/bigSSD/analysis_data/face_rhythm/mouse_0403R/fr_run/run_20240131/20230706/jobNum_0/params.json\n"
     ]
    },
    {
     "name": "stderr",
     "output_type": "stream",
     "text": [
      "0.00b [00:00, ?b/s]\n"
     ]
    },
    {
     "name": "stdout",
     "output_type": "stream",
     "text": [
      "downloading /n/data1/hms/neurobio/sabatini/rich/analysis/faceRhythm/mouse_0403R/run_20240131/20230706/jobNum_0/config.yaml   to   /media/rich/bigSSD/analysis_data/face_rhythm/mouse_0403R/fr_run/run_20240131/20230706/jobNum_0/config.yaml\n"
     ]
    },
    {
     "name": "stderr",
     "output_type": "stream",
     "text": [
      "0.00b [00:00, ?b/s]\n"
     ]
    },
    {
     "name": "stdout",
     "output_type": "stream",
     "text": [
      "downloading /n/data1/hms/neurobio/sabatini/rich/analysis/faceRhythm/mouse_0403R/run_20240131/20230706/jobNum_0/analysis_files/ROIs.h5   to   /media/rich/bigSSD/analysis_data/face_rhythm/mouse_0403R/fr_run/run_20240131/20230706/jobNum_0/analysis_files/ROIs.h5\n"
     ]
    },
    {
     "name": "stderr",
     "output_type": "stream",
     "text": [
      "0.00b [00:00, ?b/s]\n"
     ]
    },
    {
     "name": "stdout",
     "output_type": "stream",
     "text": [
      "downloading /n/data1/hms/neurobio/sabatini/rich/analysis/faceRhythm/mouse_0403R/run_20240131/20230706/jobNum_0/analysis_files/TCA.h5   to   /media/rich/bigSSD/analysis_data/face_rhythm/mouse_0403R/fr_run/run_20240131/20230706/jobNum_0/analysis_files/TCA.h5\n"
     ]
    },
    {
     "name": "stderr",
     "output_type": "stream",
     "text": [
      "0.00b [00:00, ?b/s]\n"
     ]
    },
    {
     "name": "stdout",
     "output_type": "stream",
     "text": [
      "downloading /n/data1/hms/neurobio/sabatini/rich/analysis/faceRhythm/mouse_0403R/run_20240131/20230706/jobNum_0/analysis_files/PointTracker.h5   to   /media/rich/bigSSD/analysis_data/face_rhythm/mouse_0403R/fr_run/run_20240131/20230706/jobNum_0/analysis_files/PointTracker.h5\n"
     ]
    },
    {
     "name": "stderr",
     "output_type": "stream",
     "text": [
      "0.00b [00:52, ?b/s]\n"
     ]
    },
    {
     "name": "stdout",
     "output_type": "stream",
     "text": [
      "downloading /n/data1/hms/neurobio/sabatini/rich/analysis/faceRhythm/mouse_0403R/run_20240131/20230706/jobNum_0/analysis_files/VQT_Analyzer.h5   to   /media/rich/bigSSD/analysis_data/face_rhythm/mouse_0403R/fr_run/run_20240131/20230706/jobNum_0/analysis_files/VQT_Analyzer.h5\n"
     ]
    },
    {
     "name": "stderr",
     "output_type": "stream",
     "text": [
      "0.00b [01:33, ?b/s]\n"
     ]
    },
    {
     "name": "stdout",
     "output_type": "stream",
     "text": [
      "downloading /n/data1/hms/neurobio/sabatini/rich/analysis/faceRhythm/mouse_0403R/run_20240131/20230706/jobNum_0/analysis_files/Dataset_videos.h5   to   /media/rich/bigSSD/analysis_data/face_rhythm/mouse_0403R/fr_run/run_20240131/20230706/jobNum_0/analysis_files/Dataset_videos.h5\n"
     ]
    },
    {
     "name": "stderr",
     "output_type": "stream",
     "text": [
      "0.00b [00:00, ?b/s]\n"
     ]
    },
    {
     "name": "stdout",
     "output_type": "stream",
     "text": [
      "downloading /n/data1/hms/neurobio/sabatini/rich/analysis/faceRhythm/mouse_0403R/run_20240131/20230706/jobNum_0/run_info.json   to   /media/rich/bigSSD/analysis_data/face_rhythm/mouse_0403R/fr_run/run_20240131/20230706/jobNum_0/run_info.json\n"
     ]
    },
    {
     "name": "stderr",
     "output_type": "stream",
     "text": [
      "0.00b [00:00, ?b/s]\n"
     ]
    },
    {
     "name": "stdout",
     "output_type": "stream",
     "text": [
      "downloading /n/data1/hms/neurobio/sabatini/rich/analysis/faceRhythm/mouse_0403R/run_20240131/20230706/jobNum_0/sbatch_config.sh   to   /media/rich/bigSSD/analysis_data/face_rhythm/mouse_0403R/fr_run/run_20240131/20230706/jobNum_0/sbatch_config.sh\n"
     ]
    },
    {
     "name": "stderr",
     "output_type": "stream",
     "text": [
      "0.00b [00:00, ?b/s]\n"
     ]
    },
    {
     "name": "stdout",
     "output_type": "stream",
     "text": [
      "downloading /n/data1/hms/neurobio/sabatini/rich/analysis/faceRhythm/mouse_0403R/run_20240131/20230706/jobNum_0/print_log_31167777.log   to   /media/rich/bigSSD/analysis_data/face_rhythm/mouse_0403R/fr_run/run_20240131/20230706/jobNum_0/print_log_31167777.log\n"
     ]
    },
    {
     "name": "stderr",
     "output_type": "stream",
     "text": [
      "0.00b [00:00, ?b/s]\n"
     ]
    },
    {
     "name": "stdout",
     "output_type": "stream",
     "text": [
      "downloading /n/data1/hms/neurobio/sabatini/rich/analysis/faceRhythm/mouse_0403R/run_20240131/20230706/jobNum_0/run_pipeline_basic.py   to   /media/rich/bigSSD/analysis_data/face_rhythm/mouse_0403R/fr_run/run_20240131/20230706/jobNum_0/run_pipeline_basic.py\n"
     ]
    },
    {
     "name": "stderr",
     "output_type": "stream",
     "text": [
      "0.00b [00:00, ?b/s]\n"
     ]
    },
    {
     "name": "stdout",
     "output_type": "stream",
     "text": [
      "downloading /n/data1/hms/neurobio/sabatini/rich/analysis/faceRhythm/mouse_0403R/run_20240131/20230706/dispatcher.py   to   /media/rich/bigSSD/analysis_data/face_rhythm/mouse_0403R/fr_run/run_20240131/20230706/dispatcher.py\n"
     ]
    },
    {
     "name": "stderr",
     "output_type": "stream",
     "text": [
      "0.00b [00:00, ?b/s]\n"
     ]
    },
    {
     "name": "stdout",
     "output_type": "stream",
     "text": [
      "downloading /n/data1/hms/neurobio/sabatini/rich/analysis/faceRhythm/mouse_0403R/run_20240131/20230706/notes.txt   to   /media/rich/bigSSD/analysis_data/face_rhythm/mouse_0403R/fr_run/run_20240131/20230706/notes.txt\n"
     ]
    },
    {
     "name": "stderr",
     "output_type": "stream",
     "text": [
      "0.00b [00:00, ?b/s]\n"
     ]
    },
    {
     "name": "stdout",
     "output_type": "stream",
     "text": [
      "downloading /n/data1/hms/neurobio/sabatini/rich/analysis/faceRhythm/mouse_0403R/run_20240131/20230706/run_pipeline_basic.py   to   /media/rich/bigSSD/analysis_data/face_rhythm/mouse_0403R/fr_run/run_20240131/20230706/run_pipeline_basic.py\n"
     ]
    },
    {
     "name": "stderr",
     "output_type": "stream",
     "text": [
      "0.00b [00:00, ?b/s]\n"
     ]
    }
   ],
   "source": [
    "sftp.get_dir(source=f'/n/data1/hms/neurobio/sabatini/rich/analysis/faceRhythm/{mouse}/', target=directory_local_save)"
   ]
  },
  {
   "cell_type": "markdown",
   "id": "ac56010b",
   "metadata": {},
   "source": [
    "##### "
   ]
  },
  {
   "cell_type": "code",
   "execution_count": null,
   "id": "bf6dd342-0122-427c-8774-2efe0f036557",
   "metadata": {},
   "outputs": [],
   "source": []
  },
  {
   "cell_type": "markdown",
   "id": "738e1682",
   "metadata": {},
   "source": [
    "# Upload eye laser masks"
   ]
  },
  {
   "cell_type": "code",
   "execution_count": 19,
   "id": "d9d7c0e0",
   "metadata": {},
   "outputs": [
    {
     "name": "stdout",
     "output_type": "stream",
     "text": [
      "uploading /media/rich/bigSSD/analysis_data/face_rhythm/mouse_0403R/eye_laser_trace_extraction/20230702/mask_cam42023-07-02T14_46_45.npy   to   /n/data1/hms/neurobio/sabatini/rich/analysis/eye_laser_trace_extraction/mouse_0403R/masks/20230702/mask_cam42023-07-02T14_46_45.npy\n",
      "uploading /media/rich/bigSSD/analysis_data/face_rhythm/mouse_0403R/eye_laser_trace_extraction/20230703/mask_cam42023-07-03T11_31_50.npy   to   /n/data1/hms/neurobio/sabatini/rich/analysis/eye_laser_trace_extraction/mouse_0403R/masks/20230703/mask_cam42023-07-03T11_31_50.npy\n",
      "uploading /media/rich/bigSSD/analysis_data/face_rhythm/mouse_0403R/eye_laser_trace_extraction/20230706/mask_cam42023-07-06T13_45_37.npy   to   /n/data1/hms/neurobio/sabatini/rich/analysis/eye_laser_trace_extraction/mouse_0403R/masks/20230706/mask_cam42023-07-06T13_45_37.npy\n",
      "uploading /media/rich/bigSSD/analysis_data/face_rhythm/mouse_0403R/eye_laser_trace_extraction/20230707/mask_cam42023-07-07T12_09_13.npy   to   /n/data1/hms/neurobio/sabatini/rich/analysis/eye_laser_trace_extraction/mouse_0403R/masks/20230707/mask_cam42023-07-07T12_09_13.npy\n",
      "uploading /media/rich/bigSSD/analysis_data/face_rhythm/mouse_0403R/eye_laser_trace_extraction/20230708/mask_cam42023-07-08T12_17_59.npy   to   /n/data1/hms/neurobio/sabatini/rich/analysis/eye_laser_trace_extraction/mouse_0403R/masks/20230708/mask_cam42023-07-08T12_17_59.npy\n",
      "uploading /media/rich/bigSSD/analysis_data/face_rhythm/mouse_0403R/eye_laser_trace_extraction/20230709/mask_cam42023-07-09T12_19_41.npy   to   /n/data1/hms/neurobio/sabatini/rich/analysis/eye_laser_trace_extraction/mouse_0403R/masks/20230709/mask_cam42023-07-09T12_19_41.npy\n",
      "uploading /media/rich/bigSSD/analysis_data/face_rhythm/mouse_0403R/eye_laser_trace_extraction/images.pkl   to   /n/data1/hms/neurobio/sabatini/rich/analysis/eye_laser_trace_extraction/mouse_0403R/masks/images.pkl\n"
     ]
    }
   ],
   "source": [
    "sftp.put_dir(\n",
    "    source=f'/media/rich/bigSSD/analysis_data/face_rhythm/{mouse}/eye_laser_trace_extraction/',\n",
    "    target=f'/n/data1/hms/neurobio/sabatini/rich/analysis/eye_laser_trace_extraction/{mouse}/masks',\n",
    ")"
   ]
  },
  {
   "cell_type": "markdown",
   "id": "e2ec861b",
   "metadata": {},
   "source": [
    "# Download eye laser traces"
   ]
  },
  {
   "cell_type": "code",
   "execution_count": 31,
   "id": "13043ac7",
   "metadata": {},
   "outputs": [
    {
     "name": "stdout",
     "output_type": "stream",
     "text": [
      "downloading /n/data1/hms/neurobio/sabatini/rich/analysis/eye_laser_trace_extraction/mouse_0403R/20230708/parameters_batch.json   to   /media/rich/bigSSD/analysis_data/face_rhythm/mouse_0403R/eye_laser_trace_extraction/traces/20230708/parameters_batch.json\n"
     ]
    },
    {
     "name": "stderr",
     "output_type": "stream",
     "text": [
      "0.00b [00:00, ?b/s]\n"
     ]
    },
    {
     "name": "stdout",
     "output_type": "stream",
     "text": [
      "downloading /n/data1/hms/neurobio/sabatini/rich/analysis/eye_laser_trace_extraction/mouse_0403R/20230708/extract_eye_brightness_trace.py   to   /media/rich/bigSSD/analysis_data/face_rhythm/mouse_0403R/eye_laser_trace_extraction/traces/20230708/extract_eye_brightness_trace.py\n"
     ]
    },
    {
     "name": "stderr",
     "output_type": "stream",
     "text": [
      "0.00b [00:00, ?b/s]\n"
     ]
    },
    {
     "name": "stdout",
     "output_type": "stream",
     "text": [
      "downloading /n/data1/hms/neurobio/sabatini/rich/analysis/eye_laser_trace_extraction/mouse_0403R/20230708/jobNum_0/params.json   to   /media/rich/bigSSD/analysis_data/face_rhythm/mouse_0403R/eye_laser_trace_extraction/traces/20230708/jobNum_0/params.json\n"
     ]
    },
    {
     "name": "stderr",
     "output_type": "stream",
     "text": [
      "0.00b [00:00, ?b/s]\n"
     ]
    },
    {
     "name": "stdout",
     "output_type": "stream",
     "text": [
      "downloading /n/data1/hms/neurobio/sabatini/rich/analysis/eye_laser_trace_extraction/mouse_0403R/20230708/jobNum_0/extract_eye_brightness_trace.py   to   /media/rich/bigSSD/analysis_data/face_rhythm/mouse_0403R/eye_laser_trace_extraction/traces/20230708/jobNum_0/extract_eye_brightness_trace.py\n"
     ]
    },
    {
     "name": "stderr",
     "output_type": "stream",
     "text": [
      "0.00b [00:00, ?b/s]\n"
     ]
    },
    {
     "name": "stdout",
     "output_type": "stream",
     "text": [
      "downloading /n/data1/hms/neurobio/sabatini/rich/analysis/eye_laser_trace_extraction/mouse_0403R/20230708/jobNum_0/idx_eye_laser.pkl   to   /media/rich/bigSSD/analysis_data/face_rhythm/mouse_0403R/eye_laser_trace_extraction/traces/20230708/jobNum_0/idx_eye_laser.pkl\n"
     ]
    },
    {
     "name": "stderr",
     "output_type": "stream",
     "text": [
      "0.00b [00:00, ?b/s]\n"
     ]
    },
    {
     "name": "stdout",
     "output_type": "stream",
     "text": [
      "downloading /n/data1/hms/neurobio/sabatini/rich/analysis/eye_laser_trace_extraction/mouse_0403R/20230708/jobNum_0/print_log_31498768.log   to   /media/rich/bigSSD/analysis_data/face_rhythm/mouse_0403R/eye_laser_trace_extraction/traces/20230708/jobNum_0/print_log_31498768.log\n"
     ]
    },
    {
     "name": "stderr",
     "output_type": "stream",
     "text": [
      "0.00b [00:00, ?b/s]\n"
     ]
    },
    {
     "name": "stdout",
     "output_type": "stream",
     "text": [
      "downloading /n/data1/hms/neurobio/sabatini/rich/analysis/eye_laser_trace_extraction/mouse_0403R/20230708/jobNum_0/sbatch_config.sh   to   /media/rich/bigSSD/analysis_data/face_rhythm/mouse_0403R/eye_laser_trace_extraction/traces/20230708/jobNum_0/sbatch_config.sh\n"
     ]
    },
    {
     "name": "stderr",
     "output_type": "stream",
     "text": [
      "0.00b [00:00, ?b/s]\n"
     ]
    },
    {
     "name": "stdout",
     "output_type": "stream",
     "text": [
      "downloading /n/data1/hms/neurobio/sabatini/rich/analysis/eye_laser_trace_extraction/mouse_0403R/20230708/jobNum_0/print_log_31499375.log   to   /media/rich/bigSSD/analysis_data/face_rhythm/mouse_0403R/eye_laser_trace_extraction/traces/20230708/jobNum_0/print_log_31499375.log\n"
     ]
    },
    {
     "name": "stderr",
     "output_type": "stream",
     "text": [
      "0.00b [00:00, ?b/s]\n"
     ]
    },
    {
     "name": "stdout",
     "output_type": "stream",
     "text": [
      "downloading /n/data1/hms/neurobio/sabatini/rich/analysis/eye_laser_trace_extraction/mouse_0403R/20230708/dispatcher.py   to   /media/rich/bigSSD/analysis_data/face_rhythm/mouse_0403R/eye_laser_trace_extraction/traces/20230708/dispatcher.py\n"
     ]
    },
    {
     "name": "stderr",
     "output_type": "stream",
     "text": [
      "0.00b [00:00, ?b/s]\n"
     ]
    },
    {
     "name": "stdout",
     "output_type": "stream",
     "text": [
      "downloading /n/data1/hms/neurobio/sabatini/rich/analysis/eye_laser_trace_extraction/mouse_0403R/20230708/notes.txt   to   /media/rich/bigSSD/analysis_data/face_rhythm/mouse_0403R/eye_laser_trace_extraction/traces/20230708/notes.txt\n"
     ]
    },
    {
     "name": "stderr",
     "output_type": "stream",
     "text": [
      "0.00b [00:00, ?b/s]\n"
     ]
    },
    {
     "name": "stdout",
     "output_type": "stream",
     "text": [
      "downloading /n/data1/hms/neurobio/sabatini/rich/analysis/eye_laser_trace_extraction/mouse_0403R/20230709/parameters_batch.json   to   /media/rich/bigSSD/analysis_data/face_rhythm/mouse_0403R/eye_laser_trace_extraction/traces/20230709/parameters_batch.json\n"
     ]
    },
    {
     "name": "stderr",
     "output_type": "stream",
     "text": [
      "0.00b [00:00, ?b/s]\n"
     ]
    },
    {
     "name": "stdout",
     "output_type": "stream",
     "text": [
      "downloading /n/data1/hms/neurobio/sabatini/rich/analysis/eye_laser_trace_extraction/mouse_0403R/20230709/extract_eye_brightness_trace.py   to   /media/rich/bigSSD/analysis_data/face_rhythm/mouse_0403R/eye_laser_trace_extraction/traces/20230709/extract_eye_brightness_trace.py\n"
     ]
    },
    {
     "name": "stderr",
     "output_type": "stream",
     "text": [
      "0.00b [00:00, ?b/s]\n"
     ]
    },
    {
     "name": "stdout",
     "output_type": "stream",
     "text": [
      "downloading /n/data1/hms/neurobio/sabatini/rich/analysis/eye_laser_trace_extraction/mouse_0403R/20230709/jobNum_0/print_log_31498829.log   to   /media/rich/bigSSD/analysis_data/face_rhythm/mouse_0403R/eye_laser_trace_extraction/traces/20230709/jobNum_0/print_log_31498829.log\n"
     ]
    },
    {
     "name": "stderr",
     "output_type": "stream",
     "text": [
      "0.00b [00:00, ?b/s]\n"
     ]
    },
    {
     "name": "stdout",
     "output_type": "stream",
     "text": [
      "downloading /n/data1/hms/neurobio/sabatini/rich/analysis/eye_laser_trace_extraction/mouse_0403R/20230709/jobNum_0/params.json   to   /media/rich/bigSSD/analysis_data/face_rhythm/mouse_0403R/eye_laser_trace_extraction/traces/20230709/jobNum_0/params.json\n"
     ]
    },
    {
     "name": "stderr",
     "output_type": "stream",
     "text": [
      "0.00b [00:00, ?b/s]\n"
     ]
    },
    {
     "name": "stdout",
     "output_type": "stream",
     "text": [
      "downloading /n/data1/hms/neurobio/sabatini/rich/analysis/eye_laser_trace_extraction/mouse_0403R/20230709/jobNum_0/extract_eye_brightness_trace.py   to   /media/rich/bigSSD/analysis_data/face_rhythm/mouse_0403R/eye_laser_trace_extraction/traces/20230709/jobNum_0/extract_eye_brightness_trace.py\n"
     ]
    },
    {
     "name": "stderr",
     "output_type": "stream",
     "text": [
      "0.00b [00:00, ?b/s]\n"
     ]
    },
    {
     "name": "stdout",
     "output_type": "stream",
     "text": [
      "downloading /n/data1/hms/neurobio/sabatini/rich/analysis/eye_laser_trace_extraction/mouse_0403R/20230709/jobNum_0/idx_eye_laser.pkl   to   /media/rich/bigSSD/analysis_data/face_rhythm/mouse_0403R/eye_laser_trace_extraction/traces/20230709/jobNum_0/idx_eye_laser.pkl\n"
     ]
    },
    {
     "name": "stderr",
     "output_type": "stream",
     "text": [
      "0.00b [00:00, ?b/s]\n"
     ]
    },
    {
     "name": "stdout",
     "output_type": "stream",
     "text": [
      "downloading /n/data1/hms/neurobio/sabatini/rich/analysis/eye_laser_trace_extraction/mouse_0403R/20230709/jobNum_0/print_log_31499378.log   to   /media/rich/bigSSD/analysis_data/face_rhythm/mouse_0403R/eye_laser_trace_extraction/traces/20230709/jobNum_0/print_log_31499378.log\n"
     ]
    },
    {
     "name": "stderr",
     "output_type": "stream",
     "text": [
      "0.00b [00:00, ?b/s]\n"
     ]
    },
    {
     "name": "stdout",
     "output_type": "stream",
     "text": [
      "downloading /n/data1/hms/neurobio/sabatini/rich/analysis/eye_laser_trace_extraction/mouse_0403R/20230709/jobNum_0/sbatch_config.sh   to   /media/rich/bigSSD/analysis_data/face_rhythm/mouse_0403R/eye_laser_trace_extraction/traces/20230709/jobNum_0/sbatch_config.sh\n"
     ]
    },
    {
     "name": "stderr",
     "output_type": "stream",
     "text": [
      "0.00b [00:00, ?b/s]\n"
     ]
    },
    {
     "name": "stdout",
     "output_type": "stream",
     "text": [
      "downloading /n/data1/hms/neurobio/sabatini/rich/analysis/eye_laser_trace_extraction/mouse_0403R/20230709/dispatcher.py   to   /media/rich/bigSSD/analysis_data/face_rhythm/mouse_0403R/eye_laser_trace_extraction/traces/20230709/dispatcher.py\n"
     ]
    },
    {
     "name": "stderr",
     "output_type": "stream",
     "text": [
      "0.00b [00:00, ?b/s]\n"
     ]
    },
    {
     "name": "stdout",
     "output_type": "stream",
     "text": [
      "downloading /n/data1/hms/neurobio/sabatini/rich/analysis/eye_laser_trace_extraction/mouse_0403R/20230709/notes.txt   to   /media/rich/bigSSD/analysis_data/face_rhythm/mouse_0403R/eye_laser_trace_extraction/traces/20230709/notes.txt\n"
     ]
    },
    {
     "name": "stderr",
     "output_type": "stream",
     "text": [
      "0.00b [00:00, ?b/s]\n"
     ]
    },
    {
     "name": "stdout",
     "output_type": "stream",
     "text": [
      "downloading /n/data1/hms/neurobio/sabatini/rich/analysis/eye_laser_trace_extraction/mouse_0403R/20230702/parameters_batch.json   to   /media/rich/bigSSD/analysis_data/face_rhythm/mouse_0403R/eye_laser_trace_extraction/traces/20230702/parameters_batch.json\n"
     ]
    },
    {
     "name": "stderr",
     "output_type": "stream",
     "text": [
      "0.00b [00:00, ?b/s]\n"
     ]
    },
    {
     "name": "stdout",
     "output_type": "stream",
     "text": [
      "downloading /n/data1/hms/neurobio/sabatini/rich/analysis/eye_laser_trace_extraction/mouse_0403R/20230702/extract_eye_brightness_trace.py   to   /media/rich/bigSSD/analysis_data/face_rhythm/mouse_0403R/eye_laser_trace_extraction/traces/20230702/extract_eye_brightness_trace.py\n"
     ]
    },
    {
     "name": "stderr",
     "output_type": "stream",
     "text": [
      "0.00b [00:00, ?b/s]\n"
     ]
    },
    {
     "name": "stdout",
     "output_type": "stream",
     "text": [
      "downloading /n/data1/hms/neurobio/sabatini/rich/analysis/eye_laser_trace_extraction/mouse_0403R/20230702/jobNum_0/params.json   to   /media/rich/bigSSD/analysis_data/face_rhythm/mouse_0403R/eye_laser_trace_extraction/traces/20230702/jobNum_0/params.json\n"
     ]
    },
    {
     "name": "stderr",
     "output_type": "stream",
     "text": [
      "0.00b [00:00, ?b/s]\n"
     ]
    },
    {
     "name": "stdout",
     "output_type": "stream",
     "text": [
      "downloading /n/data1/hms/neurobio/sabatini/rich/analysis/eye_laser_trace_extraction/mouse_0403R/20230702/jobNum_0/print_log_31498551.log   to   /media/rich/bigSSD/analysis_data/face_rhythm/mouse_0403R/eye_laser_trace_extraction/traces/20230702/jobNum_0/print_log_31498551.log\n"
     ]
    },
    {
     "name": "stderr",
     "output_type": "stream",
     "text": [
      "0.00b [00:00, ?b/s]\n"
     ]
    },
    {
     "name": "stdout",
     "output_type": "stream",
     "text": [
      "downloading /n/data1/hms/neurobio/sabatini/rich/analysis/eye_laser_trace_extraction/mouse_0403R/20230702/jobNum_0/extract_eye_brightness_trace.py   to   /media/rich/bigSSD/analysis_data/face_rhythm/mouse_0403R/eye_laser_trace_extraction/traces/20230702/jobNum_0/extract_eye_brightness_trace.py\n"
     ]
    },
    {
     "name": "stderr",
     "output_type": "stream",
     "text": [
      "0.00b [00:00, ?b/s]\n"
     ]
    },
    {
     "name": "stdout",
     "output_type": "stream",
     "text": [
      "downloading /n/data1/hms/neurobio/sabatini/rich/analysis/eye_laser_trace_extraction/mouse_0403R/20230702/jobNum_0/print_log_31499357.log   to   /media/rich/bigSSD/analysis_data/face_rhythm/mouse_0403R/eye_laser_trace_extraction/traces/20230702/jobNum_0/print_log_31499357.log\n"
     ]
    },
    {
     "name": "stderr",
     "output_type": "stream",
     "text": [
      "0.00b [00:00, ?b/s]\n"
     ]
    },
    {
     "name": "stdout",
     "output_type": "stream",
     "text": [
      "downloading /n/data1/hms/neurobio/sabatini/rich/analysis/eye_laser_trace_extraction/mouse_0403R/20230702/jobNum_0/idx_eye_laser.pkl   to   /media/rich/bigSSD/analysis_data/face_rhythm/mouse_0403R/eye_laser_trace_extraction/traces/20230702/jobNum_0/idx_eye_laser.pkl\n"
     ]
    },
    {
     "name": "stderr",
     "output_type": "stream",
     "text": [
      "0.00b [00:00, ?b/s]\n"
     ]
    },
    {
     "name": "stdout",
     "output_type": "stream",
     "text": [
      "downloading /n/data1/hms/neurobio/sabatini/rich/analysis/eye_laser_trace_extraction/mouse_0403R/20230702/jobNum_0/sbatch_config.sh   to   /media/rich/bigSSD/analysis_data/face_rhythm/mouse_0403R/eye_laser_trace_extraction/traces/20230702/jobNum_0/sbatch_config.sh\n"
     ]
    },
    {
     "name": "stderr",
     "output_type": "stream",
     "text": [
      "0.00b [00:00, ?b/s]\n"
     ]
    },
    {
     "name": "stdout",
     "output_type": "stream",
     "text": [
      "downloading /n/data1/hms/neurobio/sabatini/rich/analysis/eye_laser_trace_extraction/mouse_0403R/20230702/dispatcher.py   to   /media/rich/bigSSD/analysis_data/face_rhythm/mouse_0403R/eye_laser_trace_extraction/traces/20230702/dispatcher.py\n"
     ]
    },
    {
     "name": "stderr",
     "output_type": "stream",
     "text": [
      "0.00b [00:00, ?b/s]\n"
     ]
    },
    {
     "name": "stdout",
     "output_type": "stream",
     "text": [
      "downloading /n/data1/hms/neurobio/sabatini/rich/analysis/eye_laser_trace_extraction/mouse_0403R/20230702/notes.txt   to   /media/rich/bigSSD/analysis_data/face_rhythm/mouse_0403R/eye_laser_trace_extraction/traces/20230702/notes.txt\n"
     ]
    },
    {
     "name": "stderr",
     "output_type": "stream",
     "text": [
      "0.00b [00:00, ?b/s]\n"
     ]
    },
    {
     "name": "stdout",
     "output_type": "stream",
     "text": [
      "downloading /n/data1/hms/neurobio/sabatini/rich/analysis/eye_laser_trace_extraction/mouse_0403R/20230703/parameters_batch.json   to   /media/rich/bigSSD/analysis_data/face_rhythm/mouse_0403R/eye_laser_trace_extraction/traces/20230703/parameters_batch.json\n"
     ]
    },
    {
     "name": "stderr",
     "output_type": "stream",
     "text": [
      "0.00b [00:00, ?b/s]\n"
     ]
    },
    {
     "name": "stdout",
     "output_type": "stream",
     "text": [
      "downloading /n/data1/hms/neurobio/sabatini/rich/analysis/eye_laser_trace_extraction/mouse_0403R/20230703/extract_eye_brightness_trace.py   to   /media/rich/bigSSD/analysis_data/face_rhythm/mouse_0403R/eye_laser_trace_extraction/traces/20230703/extract_eye_brightness_trace.py\n"
     ]
    },
    {
     "name": "stderr",
     "output_type": "stream",
     "text": [
      "0.00b [00:00, ?b/s]\n"
     ]
    },
    {
     "name": "stdout",
     "output_type": "stream",
     "text": [
      "downloading /n/data1/hms/neurobio/sabatini/rich/analysis/eye_laser_trace_extraction/mouse_0403R/20230703/jobNum_0/params.json   to   /media/rich/bigSSD/analysis_data/face_rhythm/mouse_0403R/eye_laser_trace_extraction/traces/20230703/jobNum_0/params.json\n"
     ]
    },
    {
     "name": "stderr",
     "output_type": "stream",
     "text": [
      "0.00b [00:00, ?b/s]\n"
     ]
    },
    {
     "name": "stdout",
     "output_type": "stream",
     "text": [
      "downloading /n/data1/hms/neurobio/sabatini/rich/analysis/eye_laser_trace_extraction/mouse_0403R/20230703/jobNum_0/extract_eye_brightness_trace.py   to   /media/rich/bigSSD/analysis_data/face_rhythm/mouse_0403R/eye_laser_trace_extraction/traces/20230703/jobNum_0/extract_eye_brightness_trace.py\n"
     ]
    },
    {
     "name": "stderr",
     "output_type": "stream",
     "text": [
      "0.00b [00:00, ?b/s]\n"
     ]
    },
    {
     "name": "stdout",
     "output_type": "stream",
     "text": [
      "downloading /n/data1/hms/neurobio/sabatini/rich/analysis/eye_laser_trace_extraction/mouse_0403R/20230703/jobNum_0/idx_eye_laser.pkl   to   /media/rich/bigSSD/analysis_data/face_rhythm/mouse_0403R/eye_laser_trace_extraction/traces/20230703/jobNum_0/idx_eye_laser.pkl\n"
     ]
    },
    {
     "name": "stderr",
     "output_type": "stream",
     "text": [
      "0.00b [00:00, ?b/s]\n"
     ]
    },
    {
     "name": "stdout",
     "output_type": "stream",
     "text": [
      "downloading /n/data1/hms/neurobio/sabatini/rich/analysis/eye_laser_trace_extraction/mouse_0403R/20230703/jobNum_0/print_log_31499360.log   to   /media/rich/bigSSD/analysis_data/face_rhythm/mouse_0403R/eye_laser_trace_extraction/traces/20230703/jobNum_0/print_log_31499360.log\n"
     ]
    },
    {
     "name": "stderr",
     "output_type": "stream",
     "text": [
      "0.00b [00:00, ?b/s]\n"
     ]
    },
    {
     "name": "stdout",
     "output_type": "stream",
     "text": [
      "downloading /n/data1/hms/neurobio/sabatini/rich/analysis/eye_laser_trace_extraction/mouse_0403R/20230703/jobNum_0/print_log_31498585.log   to   /media/rich/bigSSD/analysis_data/face_rhythm/mouse_0403R/eye_laser_trace_extraction/traces/20230703/jobNum_0/print_log_31498585.log\n"
     ]
    },
    {
     "name": "stderr",
     "output_type": "stream",
     "text": [
      "0.00b [00:00, ?b/s]\n"
     ]
    },
    {
     "name": "stdout",
     "output_type": "stream",
     "text": [
      "downloading /n/data1/hms/neurobio/sabatini/rich/analysis/eye_laser_trace_extraction/mouse_0403R/20230703/jobNum_0/sbatch_config.sh   to   /media/rich/bigSSD/analysis_data/face_rhythm/mouse_0403R/eye_laser_trace_extraction/traces/20230703/jobNum_0/sbatch_config.sh\n"
     ]
    },
    {
     "name": "stderr",
     "output_type": "stream",
     "text": [
      "0.00b [00:00, ?b/s]\n"
     ]
    },
    {
     "name": "stdout",
     "output_type": "stream",
     "text": [
      "downloading /n/data1/hms/neurobio/sabatini/rich/analysis/eye_laser_trace_extraction/mouse_0403R/20230703/dispatcher.py   to   /media/rich/bigSSD/analysis_data/face_rhythm/mouse_0403R/eye_laser_trace_extraction/traces/20230703/dispatcher.py\n"
     ]
    },
    {
     "name": "stderr",
     "output_type": "stream",
     "text": [
      "0.00b [00:00, ?b/s]\n"
     ]
    },
    {
     "name": "stdout",
     "output_type": "stream",
     "text": [
      "downloading /n/data1/hms/neurobio/sabatini/rich/analysis/eye_laser_trace_extraction/mouse_0403R/20230703/notes.txt   to   /media/rich/bigSSD/analysis_data/face_rhythm/mouse_0403R/eye_laser_trace_extraction/traces/20230703/notes.txt\n"
     ]
    },
    {
     "name": "stderr",
     "output_type": "stream",
     "text": [
      "0.00b [00:00, ?b/s]\n"
     ]
    },
    {
     "name": "stdout",
     "output_type": "stream",
     "text": [
      "downloading /n/data1/hms/neurobio/sabatini/rich/analysis/eye_laser_trace_extraction/mouse_0403R/20230707/parameters_batch.json   to   /media/rich/bigSSD/analysis_data/face_rhythm/mouse_0403R/eye_laser_trace_extraction/traces/20230707/parameters_batch.json\n"
     ]
    },
    {
     "name": "stderr",
     "output_type": "stream",
     "text": [
      "0.00b [00:00, ?b/s]\n"
     ]
    },
    {
     "name": "stdout",
     "output_type": "stream",
     "text": [
      "downloading /n/data1/hms/neurobio/sabatini/rich/analysis/eye_laser_trace_extraction/mouse_0403R/20230707/extract_eye_brightness_trace.py   to   /media/rich/bigSSD/analysis_data/face_rhythm/mouse_0403R/eye_laser_trace_extraction/traces/20230707/extract_eye_brightness_trace.py\n"
     ]
    },
    {
     "name": "stderr",
     "output_type": "stream",
     "text": [
      "0.00b [00:00, ?b/s]\n"
     ]
    },
    {
     "name": "stdout",
     "output_type": "stream",
     "text": [
      "downloading /n/data1/hms/neurobio/sabatini/rich/analysis/eye_laser_trace_extraction/mouse_0403R/20230707/jobNum_0/params.json   to   /media/rich/bigSSD/analysis_data/face_rhythm/mouse_0403R/eye_laser_trace_extraction/traces/20230707/jobNum_0/params.json\n"
     ]
    },
    {
     "name": "stderr",
     "output_type": "stream",
     "text": [
      "0.00b [00:00, ?b/s]\n"
     ]
    },
    {
     "name": "stdout",
     "output_type": "stream",
     "text": [
      "downloading /n/data1/hms/neurobio/sabatini/rich/analysis/eye_laser_trace_extraction/mouse_0403R/20230707/jobNum_0/extract_eye_brightness_trace.py   to   /media/rich/bigSSD/analysis_data/face_rhythm/mouse_0403R/eye_laser_trace_extraction/traces/20230707/jobNum_0/extract_eye_brightness_trace.py\n"
     ]
    },
    {
     "name": "stderr",
     "output_type": "stream",
     "text": [
      "0.00b [00:00, ?b/s]\n"
     ]
    },
    {
     "name": "stdout",
     "output_type": "stream",
     "text": [
      "downloading /n/data1/hms/neurobio/sabatini/rich/analysis/eye_laser_trace_extraction/mouse_0403R/20230707/jobNum_0/idx_eye_laser.pkl   to   /media/rich/bigSSD/analysis_data/face_rhythm/mouse_0403R/eye_laser_trace_extraction/traces/20230707/jobNum_0/idx_eye_laser.pkl\n"
     ]
    },
    {
     "name": "stderr",
     "output_type": "stream",
     "text": [
      "0.00b [00:00, ?b/s]\n"
     ]
    },
    {
     "name": "stdout",
     "output_type": "stream",
     "text": [
      "downloading /n/data1/hms/neurobio/sabatini/rich/analysis/eye_laser_trace_extraction/mouse_0403R/20230707/jobNum_0/sbatch_config.sh   to   /media/rich/bigSSD/analysis_data/face_rhythm/mouse_0403R/eye_laser_trace_extraction/traces/20230707/jobNum_0/sbatch_config.sh\n"
     ]
    },
    {
     "name": "stderr",
     "output_type": "stream",
     "text": [
      "0.00b [00:00, ?b/s]\n"
     ]
    },
    {
     "name": "stdout",
     "output_type": "stream",
     "text": [
      "downloading /n/data1/hms/neurobio/sabatini/rich/analysis/eye_laser_trace_extraction/mouse_0403R/20230707/jobNum_0/print_log_31498707.log   to   /media/rich/bigSSD/analysis_data/face_rhythm/mouse_0403R/eye_laser_trace_extraction/traces/20230707/jobNum_0/print_log_31498707.log\n"
     ]
    },
    {
     "name": "stderr",
     "output_type": "stream",
     "text": [
      "0.00b [00:00, ?b/s]\n"
     ]
    },
    {
     "name": "stdout",
     "output_type": "stream",
     "text": [
      "downloading /n/data1/hms/neurobio/sabatini/rich/analysis/eye_laser_trace_extraction/mouse_0403R/20230707/jobNum_0/print_log_31499370.log   to   /media/rich/bigSSD/analysis_data/face_rhythm/mouse_0403R/eye_laser_trace_extraction/traces/20230707/jobNum_0/print_log_31499370.log\n"
     ]
    },
    {
     "name": "stderr",
     "output_type": "stream",
     "text": [
      "0.00b [00:00, ?b/s]\n"
     ]
    },
    {
     "name": "stdout",
     "output_type": "stream",
     "text": [
      "downloading /n/data1/hms/neurobio/sabatini/rich/analysis/eye_laser_trace_extraction/mouse_0403R/20230707/dispatcher.py   to   /media/rich/bigSSD/analysis_data/face_rhythm/mouse_0403R/eye_laser_trace_extraction/traces/20230707/dispatcher.py\n"
     ]
    },
    {
     "name": "stderr",
     "output_type": "stream",
     "text": [
      "0.00b [00:00, ?b/s]\n"
     ]
    },
    {
     "name": "stdout",
     "output_type": "stream",
     "text": [
      "downloading /n/data1/hms/neurobio/sabatini/rich/analysis/eye_laser_trace_extraction/mouse_0403R/20230707/notes.txt   to   /media/rich/bigSSD/analysis_data/face_rhythm/mouse_0403R/eye_laser_trace_extraction/traces/20230707/notes.txt\n"
     ]
    },
    {
     "name": "stderr",
     "output_type": "stream",
     "text": [
      "0.00b [00:00, ?b/s]\n"
     ]
    },
    {
     "name": "stdout",
     "output_type": "stream",
     "text": [
      "downloading /n/data1/hms/neurobio/sabatini/rich/analysis/eye_laser_trace_extraction/mouse_0403R/20230706/parameters_batch.json   to   /media/rich/bigSSD/analysis_data/face_rhythm/mouse_0403R/eye_laser_trace_extraction/traces/20230706/parameters_batch.json\n"
     ]
    },
    {
     "name": "stderr",
     "output_type": "stream",
     "text": [
      "0.00b [00:00, ?b/s]\n"
     ]
    },
    {
     "name": "stdout",
     "output_type": "stream",
     "text": [
      "downloading /n/data1/hms/neurobio/sabatini/rich/analysis/eye_laser_trace_extraction/mouse_0403R/20230706/extract_eye_brightness_trace.py   to   /media/rich/bigSSD/analysis_data/face_rhythm/mouse_0403R/eye_laser_trace_extraction/traces/20230706/extract_eye_brightness_trace.py\n"
     ]
    },
    {
     "name": "stderr",
     "output_type": "stream",
     "text": [
      "0.00b [00:00, ?b/s]\n"
     ]
    },
    {
     "name": "stdout",
     "output_type": "stream",
     "text": [
      "downloading /n/data1/hms/neurobio/sabatini/rich/analysis/eye_laser_trace_extraction/mouse_0403R/20230706/jobNum_0/params.json   to   /media/rich/bigSSD/analysis_data/face_rhythm/mouse_0403R/eye_laser_trace_extraction/traces/20230706/jobNum_0/params.json\n"
     ]
    },
    {
     "name": "stderr",
     "output_type": "stream",
     "text": [
      "0.00b [00:00, ?b/s]\n"
     ]
    },
    {
     "name": "stdout",
     "output_type": "stream",
     "text": [
      "downloading /n/data1/hms/neurobio/sabatini/rich/analysis/eye_laser_trace_extraction/mouse_0403R/20230706/jobNum_0/print_log_31499368.log   to   /media/rich/bigSSD/analysis_data/face_rhythm/mouse_0403R/eye_laser_trace_extraction/traces/20230706/jobNum_0/print_log_31499368.log\n"
     ]
    },
    {
     "name": "stderr",
     "output_type": "stream",
     "text": [
      "0.00b [00:00, ?b/s]\n"
     ]
    },
    {
     "name": "stdout",
     "output_type": "stream",
     "text": [
      "downloading /n/data1/hms/neurobio/sabatini/rich/analysis/eye_laser_trace_extraction/mouse_0403R/20230706/jobNum_0/extract_eye_brightness_trace.py   to   /media/rich/bigSSD/analysis_data/face_rhythm/mouse_0403R/eye_laser_trace_extraction/traces/20230706/jobNum_0/extract_eye_brightness_trace.py\n"
     ]
    },
    {
     "name": "stderr",
     "output_type": "stream",
     "text": [
      "0.00b [00:00, ?b/s]\n"
     ]
    },
    {
     "name": "stdout",
     "output_type": "stream",
     "text": [
      "downloading /n/data1/hms/neurobio/sabatini/rich/analysis/eye_laser_trace_extraction/mouse_0403R/20230706/jobNum_0/idx_eye_laser.pkl   to   /media/rich/bigSSD/analysis_data/face_rhythm/mouse_0403R/eye_laser_trace_extraction/traces/20230706/jobNum_0/idx_eye_laser.pkl\n"
     ]
    },
    {
     "name": "stderr",
     "output_type": "stream",
     "text": [
      "0.00b [00:00, ?b/s]\n"
     ]
    },
    {
     "name": "stdout",
     "output_type": "stream",
     "text": [
      "downloading /n/data1/hms/neurobio/sabatini/rich/analysis/eye_laser_trace_extraction/mouse_0403R/20230706/jobNum_0/print_log_31498644.log   to   /media/rich/bigSSD/analysis_data/face_rhythm/mouse_0403R/eye_laser_trace_extraction/traces/20230706/jobNum_0/print_log_31498644.log\n"
     ]
    },
    {
     "name": "stderr",
     "output_type": "stream",
     "text": [
      "0.00b [00:00, ?b/s]\n"
     ]
    },
    {
     "name": "stdout",
     "output_type": "stream",
     "text": [
      "downloading /n/data1/hms/neurobio/sabatini/rich/analysis/eye_laser_trace_extraction/mouse_0403R/20230706/jobNum_0/sbatch_config.sh   to   /media/rich/bigSSD/analysis_data/face_rhythm/mouse_0403R/eye_laser_trace_extraction/traces/20230706/jobNum_0/sbatch_config.sh\n"
     ]
    },
    {
     "name": "stderr",
     "output_type": "stream",
     "text": [
      "0.00b [00:00, ?b/s]\n"
     ]
    },
    {
     "name": "stdout",
     "output_type": "stream",
     "text": [
      "downloading /n/data1/hms/neurobio/sabatini/rich/analysis/eye_laser_trace_extraction/mouse_0403R/20230706/dispatcher.py   to   /media/rich/bigSSD/analysis_data/face_rhythm/mouse_0403R/eye_laser_trace_extraction/traces/20230706/dispatcher.py\n"
     ]
    },
    {
     "name": "stderr",
     "output_type": "stream",
     "text": [
      "0.00b [00:00, ?b/s]\n"
     ]
    },
    {
     "name": "stdout",
     "output_type": "stream",
     "text": [
      "downloading /n/data1/hms/neurobio/sabatini/rich/analysis/eye_laser_trace_extraction/mouse_0403R/20230706/notes.txt   to   /media/rich/bigSSD/analysis_data/face_rhythm/mouse_0403R/eye_laser_trace_extraction/traces/20230706/notes.txt\n"
     ]
    },
    {
     "name": "stderr",
     "output_type": "stream",
     "text": [
      "0.00b [00:00, ?b/s]\n"
     ]
    },
    {
     "name": "stdout",
     "output_type": "stream",
     "text": [
      "downloading /n/data1/hms/neurobio/sabatini/rich/analysis/eye_laser_trace_extraction/mouse_0403R/masks/20230708/mask_cam42023-07-08T12_17_59.npy   to   /media/rich/bigSSD/analysis_data/face_rhythm/mouse_0403R/eye_laser_trace_extraction/traces/masks/20230708/mask_cam42023-07-08T12_17_59.npy\n"
     ]
    },
    {
     "name": "stderr",
     "output_type": "stream",
     "text": [
      "0.00b [00:00, ?b/s]\n"
     ]
    },
    {
     "name": "stdout",
     "output_type": "stream",
     "text": [
      "downloading /n/data1/hms/neurobio/sabatini/rich/analysis/eye_laser_trace_extraction/mouse_0403R/masks/20230709/mask_cam42023-07-09T12_19_41.npy   to   /media/rich/bigSSD/analysis_data/face_rhythm/mouse_0403R/eye_laser_trace_extraction/traces/masks/20230709/mask_cam42023-07-09T12_19_41.npy\n"
     ]
    },
    {
     "name": "stderr",
     "output_type": "stream",
     "text": [
      "0.00b [00:00, ?b/s]\n"
     ]
    },
    {
     "name": "stdout",
     "output_type": "stream",
     "text": [
      "downloading /n/data1/hms/neurobio/sabatini/rich/analysis/eye_laser_trace_extraction/mouse_0403R/masks/20230702/mask_cam42023-07-02T14_46_45.npy   to   /media/rich/bigSSD/analysis_data/face_rhythm/mouse_0403R/eye_laser_trace_extraction/traces/masks/20230702/mask_cam42023-07-02T14_46_45.npy\n"
     ]
    },
    {
     "name": "stderr",
     "output_type": "stream",
     "text": [
      "0.00b [00:00, ?b/s]\n"
     ]
    },
    {
     "name": "stdout",
     "output_type": "stream",
     "text": [
      "downloading /n/data1/hms/neurobio/sabatini/rich/analysis/eye_laser_trace_extraction/mouse_0403R/masks/20230703/mask_cam42023-07-03T11_31_50.npy   to   /media/rich/bigSSD/analysis_data/face_rhythm/mouse_0403R/eye_laser_trace_extraction/traces/masks/20230703/mask_cam42023-07-03T11_31_50.npy\n"
     ]
    },
    {
     "name": "stderr",
     "output_type": "stream",
     "text": [
      "0.00b [00:00, ?b/s]\n"
     ]
    },
    {
     "name": "stdout",
     "output_type": "stream",
     "text": [
      "downloading /n/data1/hms/neurobio/sabatini/rich/analysis/eye_laser_trace_extraction/mouse_0403R/masks/images.pkl   to   /media/rich/bigSSD/analysis_data/face_rhythm/mouse_0403R/eye_laser_trace_extraction/traces/masks/images.pkl\n"
     ]
    },
    {
     "name": "stderr",
     "output_type": "stream",
     "text": [
      "0.00b [00:00, ?b/s]\n"
     ]
    },
    {
     "name": "stdout",
     "output_type": "stream",
     "text": [
      "downloading /n/data1/hms/neurobio/sabatini/rich/analysis/eye_laser_trace_extraction/mouse_0403R/masks/20230707/mask_cam42023-07-07T12_09_13.npy   to   /media/rich/bigSSD/analysis_data/face_rhythm/mouse_0403R/eye_laser_trace_extraction/traces/masks/20230707/mask_cam42023-07-07T12_09_13.npy\n"
     ]
    },
    {
     "name": "stderr",
     "output_type": "stream",
     "text": [
      "0.00b [00:00, ?b/s]\n"
     ]
    },
    {
     "name": "stdout",
     "output_type": "stream",
     "text": [
      "downloading /n/data1/hms/neurobio/sabatini/rich/analysis/eye_laser_trace_extraction/mouse_0403R/masks/20230706/mask_cam42023-07-06T13_45_37.npy   to   /media/rich/bigSSD/analysis_data/face_rhythm/mouse_0403R/eye_laser_trace_extraction/traces/masks/20230706/mask_cam42023-07-06T13_45_37.npy\n"
     ]
    },
    {
     "name": "stderr",
     "output_type": "stream",
     "text": [
      "0.00b [00:00, ?b/s]\n"
     ]
    }
   ],
   "source": [
    "sftp.get_dir(\n",
    "    source=f'/n/data1/hms/neurobio/sabatini/rich/analysis/eye_laser_trace_extraction/{mouse}',\n",
    "    target=f'/media/rich/bigSSD/analysis_data/face_rhythm/{mouse}/eye_laser_trace_extraction/traces',\n",
    ")"
   ]
  },
  {
   "cell_type": "code",
   "execution_count": null,
   "id": "46fd709d",
   "metadata": {},
   "outputs": [],
   "source": []
  },
  {
   "cell_type": "code",
   "execution_count": null,
   "id": "d569a84c",
   "metadata": {},
   "outputs": [],
   "source": []
  },
  {
   "cell_type": "markdown",
   "id": "b96e1f7f-1357-424d-a617-cf31f3c34451",
   "metadata": {},
   "source": [
    "# Download dFoF and tqm files"
   ]
  },
  {
   "cell_type": "code",
   "execution_count": 29,
   "id": "f5d90000-ea5e-450d-a21b-0a45a4b84aad",
   "metadata": {},
   "outputs": [],
   "source": [
    "dir_dFoF_and_tqm_remote = f'/n/data1/hms/neurobio/sabatini/rich/analysis/make_dFoF_and_tqm/{mouse}'\n",
    "directory_local_save = f'/media/rich/bigSSD/analysis_data/face_rhythm/{mouse}/dFoF_and_tqm/'"
   ]
  },
  {
   "cell_type": "code",
   "execution_count": 30,
   "id": "7fc46b8b",
   "metadata": {},
   "outputs": [
    {
     "name": "stdout",
     "output_type": "stream",
     "text": [
      "downloading /n/data1/hms/neurobio/sabatini/rich/analysis/make_dFoF_and_tqm/mouse_0403R/20230708/parameters_batch.json   to   /media/rich/bigSSD/analysis_data/face_rhythm/mouse_0403R/dFoF_and_tqm/20230708/parameters_batch.json\n"
     ]
    },
    {
     "name": "stderr",
     "output_type": "stream",
     "text": [
      "0.00b [00:00, ?b/s]\n"
     ]
    },
    {
     "name": "stdout",
     "output_type": "stream",
     "text": [
      "downloading /n/data1/hms/neurobio/sabatini/rich/analysis/make_dFoF_and_tqm/mouse_0403R/20230708/jobNum_0/tqm.pkl   to   /media/rich/bigSSD/analysis_data/face_rhythm/mouse_0403R/dFoF_and_tqm/20230708/jobNum_0/tqm.pkl\n"
     ]
    },
    {
     "name": "stderr",
     "output_type": "stream",
     "text": [
      "0.00b [00:00, ?b/s]\n"
     ]
    },
    {
     "name": "stdout",
     "output_type": "stream",
     "text": [
      "downloading /n/data1/hms/neurobio/sabatini/rich/analysis/make_dFoF_and_tqm/mouse_0403R/20230708/jobNum_0/params.json   to   /media/rich/bigSSD/analysis_data/face_rhythm/mouse_0403R/dFoF_and_tqm/20230708/jobNum_0/params.json\n"
     ]
    },
    {
     "name": "stderr",
     "output_type": "stream",
     "text": [
      "0.00b [00:00, ?b/s]\n"
     ]
    },
    {
     "name": "stdout",
     "output_type": "stream",
     "text": [
      "downloading /n/data1/hms/neurobio/sabatini/rich/analysis/make_dFoF_and_tqm/mouse_0403R/20230708/jobNum_0/dFoF.npy   to   /media/rich/bigSSD/analysis_data/face_rhythm/mouse_0403R/dFoF_and_tqm/20230708/jobNum_0/dFoF.npy\n"
     ]
    },
    {
     "name": "stderr",
     "output_type": "stream",
     "text": [
      "0.00b [00:13, ?b/s]\n"
     ]
    },
    {
     "name": "stdout",
     "output_type": "stream",
     "text": [
      "downloading /n/data1/hms/neurobio/sabatini/rich/analysis/make_dFoF_and_tqm/mouse_0403R/20230708/jobNum_0/print_log_31500440.log   to   /media/rich/bigSSD/analysis_data/face_rhythm/mouse_0403R/dFoF_and_tqm/20230708/jobNum_0/print_log_31500440.log\n"
     ]
    },
    {
     "name": "stderr",
     "output_type": "stream",
     "text": [
      "0.00b [00:00, ?b/s]\n"
     ]
    },
    {
     "name": "stdout",
     "output_type": "stream",
     "text": [
      "downloading /n/data1/hms/neurobio/sabatini/rich/analysis/make_dFoF_and_tqm/mouse_0403R/20230708/jobNum_0/make_dFoF_and_tqm.py   to   /media/rich/bigSSD/analysis_data/face_rhythm/mouse_0403R/dFoF_and_tqm/20230708/jobNum_0/make_dFoF_and_tqm.py\n"
     ]
    },
    {
     "name": "stderr",
     "output_type": "stream",
     "text": [
      "0.00b [00:00, ?b/s]\n"
     ]
    },
    {
     "name": "stdout",
     "output_type": "stream",
     "text": [
      "downloading /n/data1/hms/neurobio/sabatini/rich/analysis/make_dFoF_and_tqm/mouse_0403R/20230708/jobNum_0/iscell_tqm.npy   to   /media/rich/bigSSD/analysis_data/face_rhythm/mouse_0403R/dFoF_and_tqm/20230708/jobNum_0/iscell_tqm.npy\n"
     ]
    },
    {
     "name": "stderr",
     "output_type": "stream",
     "text": [
      "0.00b [00:00, ?b/s]\n"
     ]
    },
    {
     "name": "stdout",
     "output_type": "stream",
     "text": [
      "downloading /n/data1/hms/neurobio/sabatini/rich/analysis/make_dFoF_and_tqm/mouse_0403R/20230708/jobNum_0/sbatch_config.sh   to   /media/rich/bigSSD/analysis_data/face_rhythm/mouse_0403R/dFoF_and_tqm/20230708/jobNum_0/sbatch_config.sh\n"
     ]
    },
    {
     "name": "stderr",
     "output_type": "stream",
     "text": [
      "0.00b [00:00, ?b/s]\n"
     ]
    },
    {
     "name": "stdout",
     "output_type": "stream",
     "text": [
      "downloading /n/data1/hms/neurobio/sabatini/rich/analysis/make_dFoF_and_tqm/mouse_0403R/20230708/make_dFoF_and_tqm.py   to   /media/rich/bigSSD/analysis_data/face_rhythm/mouse_0403R/dFoF_and_tqm/20230708/make_dFoF_and_tqm.py\n"
     ]
    },
    {
     "name": "stderr",
     "output_type": "stream",
     "text": [
      "0.00b [00:00, ?b/s]\n"
     ]
    },
    {
     "name": "stdout",
     "output_type": "stream",
     "text": [
      "downloading /n/data1/hms/neurobio/sabatini/rich/analysis/make_dFoF_and_tqm/mouse_0403R/20230708/dispatcher.py   to   /media/rich/bigSSD/analysis_data/face_rhythm/mouse_0403R/dFoF_and_tqm/20230708/dispatcher.py\n"
     ]
    },
    {
     "name": "stderr",
     "output_type": "stream",
     "text": [
      "0.00b [00:00, ?b/s]\n"
     ]
    },
    {
     "name": "stdout",
     "output_type": "stream",
     "text": [
      "downloading /n/data1/hms/neurobio/sabatini/rich/analysis/make_dFoF_and_tqm/mouse_0403R/20230708/notes.txt   to   /media/rich/bigSSD/analysis_data/face_rhythm/mouse_0403R/dFoF_and_tqm/20230708/notes.txt\n"
     ]
    },
    {
     "name": "stderr",
     "output_type": "stream",
     "text": [
      "0.00b [00:00, ?b/s]\n"
     ]
    },
    {
     "name": "stdout",
     "output_type": "stream",
     "text": [
      "downloading /n/data1/hms/neurobio/sabatini/rich/analysis/make_dFoF_and_tqm/mouse_0403R/20230709/parameters_batch.json   to   /media/rich/bigSSD/analysis_data/face_rhythm/mouse_0403R/dFoF_and_tqm/20230709/parameters_batch.json\n"
     ]
    },
    {
     "name": "stderr",
     "output_type": "stream",
     "text": [
      "0.00b [00:00, ?b/s]\n"
     ]
    },
    {
     "name": "stdout",
     "output_type": "stream",
     "text": [
      "downloading /n/data1/hms/neurobio/sabatini/rich/analysis/make_dFoF_and_tqm/mouse_0403R/20230709/jobNum_0/tqm.pkl   to   /media/rich/bigSSD/analysis_data/face_rhythm/mouse_0403R/dFoF_and_tqm/20230709/jobNum_0/tqm.pkl\n"
     ]
    },
    {
     "name": "stderr",
     "output_type": "stream",
     "text": [
      "0.00b [00:00, ?b/s]\n"
     ]
    },
    {
     "name": "stdout",
     "output_type": "stream",
     "text": [
      "downloading /n/data1/hms/neurobio/sabatini/rich/analysis/make_dFoF_and_tqm/mouse_0403R/20230709/jobNum_0/params.json   to   /media/rich/bigSSD/analysis_data/face_rhythm/mouse_0403R/dFoF_and_tqm/20230709/jobNum_0/params.json\n"
     ]
    },
    {
     "name": "stderr",
     "output_type": "stream",
     "text": [
      "0.00b [00:00, ?b/s]\n"
     ]
    },
    {
     "name": "stdout",
     "output_type": "stream",
     "text": [
      "downloading /n/data1/hms/neurobio/sabatini/rich/analysis/make_dFoF_and_tqm/mouse_0403R/20230709/jobNum_0/dFoF.npy   to   /media/rich/bigSSD/analysis_data/face_rhythm/mouse_0403R/dFoF_and_tqm/20230709/jobNum_0/dFoF.npy\n"
     ]
    },
    {
     "name": "stderr",
     "output_type": "stream",
     "text": [
      "0.00b [00:13, ?b/s]\n"
     ]
    },
    {
     "name": "stdout",
     "output_type": "stream",
     "text": [
      "downloading /n/data1/hms/neurobio/sabatini/rich/analysis/make_dFoF_and_tqm/mouse_0403R/20230709/jobNum_0/make_dFoF_and_tqm.py   to   /media/rich/bigSSD/analysis_data/face_rhythm/mouse_0403R/dFoF_and_tqm/20230709/jobNum_0/make_dFoF_and_tqm.py\n"
     ]
    },
    {
     "name": "stderr",
     "output_type": "stream",
     "text": [
      "0.00b [00:00, ?b/s]\n"
     ]
    },
    {
     "name": "stdout",
     "output_type": "stream",
     "text": [
      "downloading /n/data1/hms/neurobio/sabatini/rich/analysis/make_dFoF_and_tqm/mouse_0403R/20230709/jobNum_0/print_log_31500441.log   to   /media/rich/bigSSD/analysis_data/face_rhythm/mouse_0403R/dFoF_and_tqm/20230709/jobNum_0/print_log_31500441.log\n"
     ]
    },
    {
     "name": "stderr",
     "output_type": "stream",
     "text": [
      "0.00b [00:00, ?b/s]\n"
     ]
    },
    {
     "name": "stdout",
     "output_type": "stream",
     "text": [
      "downloading /n/data1/hms/neurobio/sabatini/rich/analysis/make_dFoF_and_tqm/mouse_0403R/20230709/jobNum_0/iscell_tqm.npy   to   /media/rich/bigSSD/analysis_data/face_rhythm/mouse_0403R/dFoF_and_tqm/20230709/jobNum_0/iscell_tqm.npy\n"
     ]
    },
    {
     "name": "stderr",
     "output_type": "stream",
     "text": [
      "0.00b [00:00, ?b/s]\n"
     ]
    },
    {
     "name": "stdout",
     "output_type": "stream",
     "text": [
      "downloading /n/data1/hms/neurobio/sabatini/rich/analysis/make_dFoF_and_tqm/mouse_0403R/20230709/jobNum_0/sbatch_config.sh   to   /media/rich/bigSSD/analysis_data/face_rhythm/mouse_0403R/dFoF_and_tqm/20230709/jobNum_0/sbatch_config.sh\n"
     ]
    },
    {
     "name": "stderr",
     "output_type": "stream",
     "text": [
      "0.00b [00:00, ?b/s]\n"
     ]
    },
    {
     "name": "stdout",
     "output_type": "stream",
     "text": [
      "downloading /n/data1/hms/neurobio/sabatini/rich/analysis/make_dFoF_and_tqm/mouse_0403R/20230709/make_dFoF_and_tqm.py   to   /media/rich/bigSSD/analysis_data/face_rhythm/mouse_0403R/dFoF_and_tqm/20230709/make_dFoF_and_tqm.py\n"
     ]
    },
    {
     "name": "stderr",
     "output_type": "stream",
     "text": [
      "0.00b [00:00, ?b/s]\n"
     ]
    },
    {
     "name": "stdout",
     "output_type": "stream",
     "text": [
      "downloading /n/data1/hms/neurobio/sabatini/rich/analysis/make_dFoF_and_tqm/mouse_0403R/20230709/dispatcher.py   to   /media/rich/bigSSD/analysis_data/face_rhythm/mouse_0403R/dFoF_and_tqm/20230709/dispatcher.py\n"
     ]
    },
    {
     "name": "stderr",
     "output_type": "stream",
     "text": [
      "0.00b [00:00, ?b/s]\n"
     ]
    },
    {
     "name": "stdout",
     "output_type": "stream",
     "text": [
      "downloading /n/data1/hms/neurobio/sabatini/rich/analysis/make_dFoF_and_tqm/mouse_0403R/20230709/notes.txt   to   /media/rich/bigSSD/analysis_data/face_rhythm/mouse_0403R/dFoF_and_tqm/20230709/notes.txt\n"
     ]
    },
    {
     "name": "stderr",
     "output_type": "stream",
     "text": [
      "0.00b [00:00, ?b/s]\n"
     ]
    },
    {
     "name": "stdout",
     "output_type": "stream",
     "text": [
      "downloading /n/data1/hms/neurobio/sabatini/rich/analysis/make_dFoF_and_tqm/mouse_0403R/20230702/parameters_batch.json   to   /media/rich/bigSSD/analysis_data/face_rhythm/mouse_0403R/dFoF_and_tqm/20230702/parameters_batch.json\n"
     ]
    },
    {
     "name": "stderr",
     "output_type": "stream",
     "text": [
      "0.00b [00:00, ?b/s]\n"
     ]
    },
    {
     "name": "stdout",
     "output_type": "stream",
     "text": [
      "downloading /n/data1/hms/neurobio/sabatini/rich/analysis/make_dFoF_and_tqm/mouse_0403R/20230702/jobNum_0/tqm.pkl   to   /media/rich/bigSSD/analysis_data/face_rhythm/mouse_0403R/dFoF_and_tqm/20230702/jobNum_0/tqm.pkl\n"
     ]
    },
    {
     "name": "stderr",
     "output_type": "stream",
     "text": [
      "0.00b [00:00, ?b/s]\n"
     ]
    },
    {
     "name": "stdout",
     "output_type": "stream",
     "text": [
      "downloading /n/data1/hms/neurobio/sabatini/rich/analysis/make_dFoF_and_tqm/mouse_0403R/20230702/jobNum_0/params.json   to   /media/rich/bigSSD/analysis_data/face_rhythm/mouse_0403R/dFoF_and_tqm/20230702/jobNum_0/params.json\n"
     ]
    },
    {
     "name": "stderr",
     "output_type": "stream",
     "text": [
      "0.00b [00:00, ?b/s]\n"
     ]
    },
    {
     "name": "stdout",
     "output_type": "stream",
     "text": [
      "downloading /n/data1/hms/neurobio/sabatini/rich/analysis/make_dFoF_and_tqm/mouse_0403R/20230702/jobNum_0/dFoF.npy   to   /media/rich/bigSSD/analysis_data/face_rhythm/mouse_0403R/dFoF_and_tqm/20230702/jobNum_0/dFoF.npy\n"
     ]
    },
    {
     "name": "stderr",
     "output_type": "stream",
     "text": [
      "0.00b [00:12, ?b/s]\n"
     ]
    },
    {
     "name": "stdout",
     "output_type": "stream",
     "text": [
      "downloading /n/data1/hms/neurobio/sabatini/rich/analysis/make_dFoF_and_tqm/mouse_0403R/20230702/jobNum_0/print_log_31500433.log   to   /media/rich/bigSSD/analysis_data/face_rhythm/mouse_0403R/dFoF_and_tqm/20230702/jobNum_0/print_log_31500433.log\n"
     ]
    },
    {
     "name": "stderr",
     "output_type": "stream",
     "text": [
      "0.00b [00:00, ?b/s]\n"
     ]
    },
    {
     "name": "stdout",
     "output_type": "stream",
     "text": [
      "downloading /n/data1/hms/neurobio/sabatini/rich/analysis/make_dFoF_and_tqm/mouse_0403R/20230702/jobNum_0/make_dFoF_and_tqm.py   to   /media/rich/bigSSD/analysis_data/face_rhythm/mouse_0403R/dFoF_and_tqm/20230702/jobNum_0/make_dFoF_and_tqm.py\n"
     ]
    },
    {
     "name": "stderr",
     "output_type": "stream",
     "text": [
      "0.00b [00:00, ?b/s]\n"
     ]
    },
    {
     "name": "stdout",
     "output_type": "stream",
     "text": [
      "downloading /n/data1/hms/neurobio/sabatini/rich/analysis/make_dFoF_and_tqm/mouse_0403R/20230702/jobNum_0/iscell_tqm.npy   to   /media/rich/bigSSD/analysis_data/face_rhythm/mouse_0403R/dFoF_and_tqm/20230702/jobNum_0/iscell_tqm.npy\n"
     ]
    },
    {
     "name": "stderr",
     "output_type": "stream",
     "text": [
      "0.00b [00:00, ?b/s]\n"
     ]
    },
    {
     "name": "stdout",
     "output_type": "stream",
     "text": [
      "downloading /n/data1/hms/neurobio/sabatini/rich/analysis/make_dFoF_and_tqm/mouse_0403R/20230702/jobNum_0/sbatch_config.sh   to   /media/rich/bigSSD/analysis_data/face_rhythm/mouse_0403R/dFoF_and_tqm/20230702/jobNum_0/sbatch_config.sh\n"
     ]
    },
    {
     "name": "stderr",
     "output_type": "stream",
     "text": [
      "0.00b [00:00, ?b/s]\n"
     ]
    },
    {
     "name": "stdout",
     "output_type": "stream",
     "text": [
      "downloading /n/data1/hms/neurobio/sabatini/rich/analysis/make_dFoF_and_tqm/mouse_0403R/20230702/make_dFoF_and_tqm.py   to   /media/rich/bigSSD/analysis_data/face_rhythm/mouse_0403R/dFoF_and_tqm/20230702/make_dFoF_and_tqm.py\n"
     ]
    },
    {
     "name": "stderr",
     "output_type": "stream",
     "text": [
      "0.00b [00:00, ?b/s]\n"
     ]
    },
    {
     "name": "stdout",
     "output_type": "stream",
     "text": [
      "downloading /n/data1/hms/neurobio/sabatini/rich/analysis/make_dFoF_and_tqm/mouse_0403R/20230702/dispatcher.py   to   /media/rich/bigSSD/analysis_data/face_rhythm/mouse_0403R/dFoF_and_tqm/20230702/dispatcher.py\n"
     ]
    },
    {
     "name": "stderr",
     "output_type": "stream",
     "text": [
      "0.00b [00:00, ?b/s]\n"
     ]
    },
    {
     "name": "stdout",
     "output_type": "stream",
     "text": [
      "downloading /n/data1/hms/neurobio/sabatini/rich/analysis/make_dFoF_and_tqm/mouse_0403R/20230702/notes.txt   to   /media/rich/bigSSD/analysis_data/face_rhythm/mouse_0403R/dFoF_and_tqm/20230702/notes.txt\n"
     ]
    },
    {
     "name": "stderr",
     "output_type": "stream",
     "text": [
      "0.00b [00:00, ?b/s]\n"
     ]
    },
    {
     "name": "stdout",
     "output_type": "stream",
     "text": [
      "downloading /n/data1/hms/neurobio/sabatini/rich/analysis/make_dFoF_and_tqm/mouse_0403R/20230703/parameters_batch.json   to   /media/rich/bigSSD/analysis_data/face_rhythm/mouse_0403R/dFoF_and_tqm/20230703/parameters_batch.json\n"
     ]
    },
    {
     "name": "stderr",
     "output_type": "stream",
     "text": [
      "0.00b [00:00, ?b/s]\n"
     ]
    },
    {
     "name": "stdout",
     "output_type": "stream",
     "text": [
      "downloading /n/data1/hms/neurobio/sabatini/rich/analysis/make_dFoF_and_tqm/mouse_0403R/20230703/jobNum_0/tqm.pkl   to   /media/rich/bigSSD/analysis_data/face_rhythm/mouse_0403R/dFoF_and_tqm/20230703/jobNum_0/tqm.pkl\n"
     ]
    },
    {
     "name": "stderr",
     "output_type": "stream",
     "text": [
      "0.00b [00:00, ?b/s]\n"
     ]
    },
    {
     "name": "stdout",
     "output_type": "stream",
     "text": [
      "downloading /n/data1/hms/neurobio/sabatini/rich/analysis/make_dFoF_and_tqm/mouse_0403R/20230703/jobNum_0/params.json   to   /media/rich/bigSSD/analysis_data/face_rhythm/mouse_0403R/dFoF_and_tqm/20230703/jobNum_0/params.json\n"
     ]
    },
    {
     "name": "stderr",
     "output_type": "stream",
     "text": [
      "0.00b [00:00, ?b/s]\n"
     ]
    },
    {
     "name": "stdout",
     "output_type": "stream",
     "text": [
      "downloading /n/data1/hms/neurobio/sabatini/rich/analysis/make_dFoF_and_tqm/mouse_0403R/20230703/jobNum_0/dFoF.npy   to   /media/rich/bigSSD/analysis_data/face_rhythm/mouse_0403R/dFoF_and_tqm/20230703/jobNum_0/dFoF.npy\n"
     ]
    },
    {
     "name": "stderr",
     "output_type": "stream",
     "text": [
      "0.00b [00:13, ?b/s]\n"
     ]
    },
    {
     "name": "stdout",
     "output_type": "stream",
     "text": [
      "downloading /n/data1/hms/neurobio/sabatini/rich/analysis/make_dFoF_and_tqm/mouse_0403R/20230703/jobNum_0/make_dFoF_and_tqm.py   to   /media/rich/bigSSD/analysis_data/face_rhythm/mouse_0403R/dFoF_and_tqm/20230703/jobNum_0/make_dFoF_and_tqm.py\n"
     ]
    },
    {
     "name": "stderr",
     "output_type": "stream",
     "text": [
      "0.00b [00:00, ?b/s]\n"
     ]
    },
    {
     "name": "stdout",
     "output_type": "stream",
     "text": [
      "downloading /n/data1/hms/neurobio/sabatini/rich/analysis/make_dFoF_and_tqm/mouse_0403R/20230703/jobNum_0/iscell_tqm.npy   to   /media/rich/bigSSD/analysis_data/face_rhythm/mouse_0403R/dFoF_and_tqm/20230703/jobNum_0/iscell_tqm.npy\n"
     ]
    },
    {
     "name": "stderr",
     "output_type": "stream",
     "text": [
      "0.00b [00:00, ?b/s]\n"
     ]
    },
    {
     "name": "stdout",
     "output_type": "stream",
     "text": [
      "downloading /n/data1/hms/neurobio/sabatini/rich/analysis/make_dFoF_and_tqm/mouse_0403R/20230703/jobNum_0/sbatch_config.sh   to   /media/rich/bigSSD/analysis_data/face_rhythm/mouse_0403R/dFoF_and_tqm/20230703/jobNum_0/sbatch_config.sh\n"
     ]
    },
    {
     "name": "stderr",
     "output_type": "stream",
     "text": [
      "0.00b [00:00, ?b/s]\n"
     ]
    },
    {
     "name": "stdout",
     "output_type": "stream",
     "text": [
      "downloading /n/data1/hms/neurobio/sabatini/rich/analysis/make_dFoF_and_tqm/mouse_0403R/20230703/jobNum_0/print_log_31500435.log   to   /media/rich/bigSSD/analysis_data/face_rhythm/mouse_0403R/dFoF_and_tqm/20230703/jobNum_0/print_log_31500435.log\n"
     ]
    },
    {
     "name": "stderr",
     "output_type": "stream",
     "text": [
      "0.00b [00:00, ?b/s]\n"
     ]
    },
    {
     "name": "stdout",
     "output_type": "stream",
     "text": [
      "downloading /n/data1/hms/neurobio/sabatini/rich/analysis/make_dFoF_and_tqm/mouse_0403R/20230703/make_dFoF_and_tqm.py   to   /media/rich/bigSSD/analysis_data/face_rhythm/mouse_0403R/dFoF_and_tqm/20230703/make_dFoF_and_tqm.py\n"
     ]
    },
    {
     "name": "stderr",
     "output_type": "stream",
     "text": [
      "0.00b [00:00, ?b/s]\n"
     ]
    },
    {
     "name": "stdout",
     "output_type": "stream",
     "text": [
      "downloading /n/data1/hms/neurobio/sabatini/rich/analysis/make_dFoF_and_tqm/mouse_0403R/20230703/dispatcher.py   to   /media/rich/bigSSD/analysis_data/face_rhythm/mouse_0403R/dFoF_and_tqm/20230703/dispatcher.py\n"
     ]
    },
    {
     "name": "stderr",
     "output_type": "stream",
     "text": [
      "0.00b [00:00, ?b/s]\n"
     ]
    },
    {
     "name": "stdout",
     "output_type": "stream",
     "text": [
      "downloading /n/data1/hms/neurobio/sabatini/rich/analysis/make_dFoF_and_tqm/mouse_0403R/20230703/notes.txt   to   /media/rich/bigSSD/analysis_data/face_rhythm/mouse_0403R/dFoF_and_tqm/20230703/notes.txt\n"
     ]
    },
    {
     "name": "stderr",
     "output_type": "stream",
     "text": [
      "0.00b [00:00, ?b/s]\n"
     ]
    },
    {
     "name": "stdout",
     "output_type": "stream",
     "text": [
      "downloading /n/data1/hms/neurobio/sabatini/rich/analysis/make_dFoF_and_tqm/mouse_0403R/20230707/parameters_batch.json   to   /media/rich/bigSSD/analysis_data/face_rhythm/mouse_0403R/dFoF_and_tqm/20230707/parameters_batch.json\n"
     ]
    },
    {
     "name": "stderr",
     "output_type": "stream",
     "text": [
      "0.00b [00:00, ?b/s]\n"
     ]
    },
    {
     "name": "stdout",
     "output_type": "stream",
     "text": [
      "downloading /n/data1/hms/neurobio/sabatini/rich/analysis/make_dFoF_and_tqm/mouse_0403R/20230707/jobNum_0/tqm.pkl   to   /media/rich/bigSSD/analysis_data/face_rhythm/mouse_0403R/dFoF_and_tqm/20230707/jobNum_0/tqm.pkl\n"
     ]
    },
    {
     "name": "stderr",
     "output_type": "stream",
     "text": [
      "0.00b [00:00, ?b/s]\n"
     ]
    },
    {
     "name": "stdout",
     "output_type": "stream",
     "text": [
      "downloading /n/data1/hms/neurobio/sabatini/rich/analysis/make_dFoF_and_tqm/mouse_0403R/20230707/jobNum_0/params.json   to   /media/rich/bigSSD/analysis_data/face_rhythm/mouse_0403R/dFoF_and_tqm/20230707/jobNum_0/params.json\n"
     ]
    },
    {
     "name": "stderr",
     "output_type": "stream",
     "text": [
      "0.00b [00:00, ?b/s]\n"
     ]
    },
    {
     "name": "stdout",
     "output_type": "stream",
     "text": [
      "downloading /n/data1/hms/neurobio/sabatini/rich/analysis/make_dFoF_and_tqm/mouse_0403R/20230707/jobNum_0/dFoF.npy   to   /media/rich/bigSSD/analysis_data/face_rhythm/mouse_0403R/dFoF_and_tqm/20230707/jobNum_0/dFoF.npy\n"
     ]
    },
    {
     "name": "stderr",
     "output_type": "stream",
     "text": [
      "0.00b [00:13, ?b/s]\n"
     ]
    },
    {
     "name": "stdout",
     "output_type": "stream",
     "text": [
      "downloading /n/data1/hms/neurobio/sabatini/rich/analysis/make_dFoF_and_tqm/mouse_0403R/20230707/jobNum_0/print_log_31500438.log   to   /media/rich/bigSSD/analysis_data/face_rhythm/mouse_0403R/dFoF_and_tqm/20230707/jobNum_0/print_log_31500438.log\n"
     ]
    },
    {
     "name": "stderr",
     "output_type": "stream",
     "text": [
      "0.00b [00:00, ?b/s]\n"
     ]
    },
    {
     "name": "stdout",
     "output_type": "stream",
     "text": [
      "downloading /n/data1/hms/neurobio/sabatini/rich/analysis/make_dFoF_and_tqm/mouse_0403R/20230707/jobNum_0/make_dFoF_and_tqm.py   to   /media/rich/bigSSD/analysis_data/face_rhythm/mouse_0403R/dFoF_and_tqm/20230707/jobNum_0/make_dFoF_and_tqm.py\n"
     ]
    },
    {
     "name": "stderr",
     "output_type": "stream",
     "text": [
      "0.00b [00:00, ?b/s]\n"
     ]
    },
    {
     "name": "stdout",
     "output_type": "stream",
     "text": [
      "downloading /n/data1/hms/neurobio/sabatini/rich/analysis/make_dFoF_and_tqm/mouse_0403R/20230707/jobNum_0/iscell_tqm.npy   to   /media/rich/bigSSD/analysis_data/face_rhythm/mouse_0403R/dFoF_and_tqm/20230707/jobNum_0/iscell_tqm.npy\n"
     ]
    },
    {
     "name": "stderr",
     "output_type": "stream",
     "text": [
      "0.00b [00:00, ?b/s]\n"
     ]
    },
    {
     "name": "stdout",
     "output_type": "stream",
     "text": [
      "downloading /n/data1/hms/neurobio/sabatini/rich/analysis/make_dFoF_and_tqm/mouse_0403R/20230707/jobNum_0/sbatch_config.sh   to   /media/rich/bigSSD/analysis_data/face_rhythm/mouse_0403R/dFoF_and_tqm/20230707/jobNum_0/sbatch_config.sh\n"
     ]
    },
    {
     "name": "stderr",
     "output_type": "stream",
     "text": [
      "0.00b [00:00, ?b/s]\n"
     ]
    },
    {
     "name": "stdout",
     "output_type": "stream",
     "text": [
      "downloading /n/data1/hms/neurobio/sabatini/rich/analysis/make_dFoF_and_tqm/mouse_0403R/20230707/make_dFoF_and_tqm.py   to   /media/rich/bigSSD/analysis_data/face_rhythm/mouse_0403R/dFoF_and_tqm/20230707/make_dFoF_and_tqm.py\n"
     ]
    },
    {
     "name": "stderr",
     "output_type": "stream",
     "text": [
      "0.00b [00:00, ?b/s]\n"
     ]
    },
    {
     "name": "stdout",
     "output_type": "stream",
     "text": [
      "downloading /n/data1/hms/neurobio/sabatini/rich/analysis/make_dFoF_and_tqm/mouse_0403R/20230707/dispatcher.py   to   /media/rich/bigSSD/analysis_data/face_rhythm/mouse_0403R/dFoF_and_tqm/20230707/dispatcher.py\n"
     ]
    },
    {
     "name": "stderr",
     "output_type": "stream",
     "text": [
      "0.00b [00:00, ?b/s]\n"
     ]
    },
    {
     "name": "stdout",
     "output_type": "stream",
     "text": [
      "downloading /n/data1/hms/neurobio/sabatini/rich/analysis/make_dFoF_and_tqm/mouse_0403R/20230707/notes.txt   to   /media/rich/bigSSD/analysis_data/face_rhythm/mouse_0403R/dFoF_and_tqm/20230707/notes.txt\n"
     ]
    },
    {
     "name": "stderr",
     "output_type": "stream",
     "text": [
      "0.00b [00:00, ?b/s]\n"
     ]
    },
    {
     "name": "stdout",
     "output_type": "stream",
     "text": [
      "downloading /n/data1/hms/neurobio/sabatini/rich/analysis/make_dFoF_and_tqm/mouse_0403R/20230706/parameters_batch.json   to   /media/rich/bigSSD/analysis_data/face_rhythm/mouse_0403R/dFoF_and_tqm/20230706/parameters_batch.json\n"
     ]
    },
    {
     "name": "stderr",
     "output_type": "stream",
     "text": [
      "0.00b [00:00, ?b/s]\n"
     ]
    },
    {
     "name": "stdout",
     "output_type": "stream",
     "text": [
      "downloading /n/data1/hms/neurobio/sabatini/rich/analysis/make_dFoF_and_tqm/mouse_0403R/20230706/jobNum_0/print_log_31500436.log   to   /media/rich/bigSSD/analysis_data/face_rhythm/mouse_0403R/dFoF_and_tqm/20230706/jobNum_0/print_log_31500436.log\n"
     ]
    },
    {
     "name": "stderr",
     "output_type": "stream",
     "text": [
      "0.00b [00:00, ?b/s]\n"
     ]
    },
    {
     "name": "stdout",
     "output_type": "stream",
     "text": [
      "downloading /n/data1/hms/neurobio/sabatini/rich/analysis/make_dFoF_and_tqm/mouse_0403R/20230706/jobNum_0/tqm.pkl   to   /media/rich/bigSSD/analysis_data/face_rhythm/mouse_0403R/dFoF_and_tqm/20230706/jobNum_0/tqm.pkl\n"
     ]
    },
    {
     "name": "stderr",
     "output_type": "stream",
     "text": [
      "0.00b [00:00, ?b/s]\n"
     ]
    },
    {
     "name": "stdout",
     "output_type": "stream",
     "text": [
      "downloading /n/data1/hms/neurobio/sabatini/rich/analysis/make_dFoF_and_tqm/mouse_0403R/20230706/jobNum_0/params.json   to   /media/rich/bigSSD/analysis_data/face_rhythm/mouse_0403R/dFoF_and_tqm/20230706/jobNum_0/params.json\n"
     ]
    },
    {
     "name": "stderr",
     "output_type": "stream",
     "text": [
      "0.00b [00:00, ?b/s]\n"
     ]
    },
    {
     "name": "stdout",
     "output_type": "stream",
     "text": [
      "downloading /n/data1/hms/neurobio/sabatini/rich/analysis/make_dFoF_and_tqm/mouse_0403R/20230706/jobNum_0/dFoF.npy   to   /media/rich/bigSSD/analysis_data/face_rhythm/mouse_0403R/dFoF_and_tqm/20230706/jobNum_0/dFoF.npy\n"
     ]
    },
    {
     "name": "stderr",
     "output_type": "stream",
     "text": [
      "0.00b [00:12, ?b/s]\n"
     ]
    },
    {
     "name": "stdout",
     "output_type": "stream",
     "text": [
      "downloading /n/data1/hms/neurobio/sabatini/rich/analysis/make_dFoF_and_tqm/mouse_0403R/20230706/jobNum_0/make_dFoF_and_tqm.py   to   /media/rich/bigSSD/analysis_data/face_rhythm/mouse_0403R/dFoF_and_tqm/20230706/jobNum_0/make_dFoF_and_tqm.py\n"
     ]
    },
    {
     "name": "stderr",
     "output_type": "stream",
     "text": [
      "0.00b [00:00, ?b/s]\n"
     ]
    },
    {
     "name": "stdout",
     "output_type": "stream",
     "text": [
      "downloading /n/data1/hms/neurobio/sabatini/rich/analysis/make_dFoF_and_tqm/mouse_0403R/20230706/jobNum_0/iscell_tqm.npy   to   /media/rich/bigSSD/analysis_data/face_rhythm/mouse_0403R/dFoF_and_tqm/20230706/jobNum_0/iscell_tqm.npy\n"
     ]
    },
    {
     "name": "stderr",
     "output_type": "stream",
     "text": [
      "0.00b [00:00, ?b/s]\n"
     ]
    },
    {
     "name": "stdout",
     "output_type": "stream",
     "text": [
      "downloading /n/data1/hms/neurobio/sabatini/rich/analysis/make_dFoF_and_tqm/mouse_0403R/20230706/jobNum_0/sbatch_config.sh   to   /media/rich/bigSSD/analysis_data/face_rhythm/mouse_0403R/dFoF_and_tqm/20230706/jobNum_0/sbatch_config.sh\n"
     ]
    },
    {
     "name": "stderr",
     "output_type": "stream",
     "text": [
      "0.00b [00:00, ?b/s]\n"
     ]
    },
    {
     "name": "stdout",
     "output_type": "stream",
     "text": [
      "downloading /n/data1/hms/neurobio/sabatini/rich/analysis/make_dFoF_and_tqm/mouse_0403R/20230706/make_dFoF_and_tqm.py   to   /media/rich/bigSSD/analysis_data/face_rhythm/mouse_0403R/dFoF_and_tqm/20230706/make_dFoF_and_tqm.py\n"
     ]
    },
    {
     "name": "stderr",
     "output_type": "stream",
     "text": [
      "0.00b [00:00, ?b/s]\n"
     ]
    },
    {
     "name": "stdout",
     "output_type": "stream",
     "text": [
      "downloading /n/data1/hms/neurobio/sabatini/rich/analysis/make_dFoF_and_tqm/mouse_0403R/20230706/dispatcher.py   to   /media/rich/bigSSD/analysis_data/face_rhythm/mouse_0403R/dFoF_and_tqm/20230706/dispatcher.py\n"
     ]
    },
    {
     "name": "stderr",
     "output_type": "stream",
     "text": [
      "0.00b [00:00, ?b/s]\n"
     ]
    },
    {
     "name": "stdout",
     "output_type": "stream",
     "text": [
      "downloading /n/data1/hms/neurobio/sabatini/rich/analysis/make_dFoF_and_tqm/mouse_0403R/20230706/notes.txt   to   /media/rich/bigSSD/analysis_data/face_rhythm/mouse_0403R/dFoF_and_tqm/20230706/notes.txt\n"
     ]
    },
    {
     "name": "stderr",
     "output_type": "stream",
     "text": [
      "0.00b [00:00, ?b/s]\n"
     ]
    }
   ],
   "source": [
    "sftp.get_dir(source=dir_dFoF_and_tqm_remote, target=directory_local_save)"
   ]
  },
  {
   "cell_type": "code",
   "execution_count": null,
   "id": "0530ca3a",
   "metadata": {},
   "outputs": [],
   "source": []
  },
  {
   "cell_type": "code",
   "execution_count": null,
   "id": "a63a4cb7",
   "metadata": {},
   "outputs": [],
   "source": []
  },
  {
   "cell_type": "code",
   "execution_count": null,
   "id": "ab91f04e-1e72-4b5c-ac56-f46890fd1516",
   "metadata": {},
   "outputs": [],
   "source": [
    "paths_dFoF_remote = natsort.natsorted(sftp.search_recursive(\n",
    "    path=f'/n/data1/hms/neurobio/sabatini/rich/analysis/make_dFoF_and_tqm/{mouse}',\n",
    "    search_pattern_re=r'dFoF.npy',\n",
    "    max_depth=6,\n",
    "    find_files=True,\n",
    "    find_folders=False,\n",
    "    verbose=True,\n",
    "))"
   ]
  },
  {
   "cell_type": "code",
   "execution_count": 42,
   "id": "cbe06c45-54dc-442f-a321-7d407e0e56e3",
   "metadata": {},
   "outputs": [],
   "source": [
    "dates_dFoF_remote = [Path(p).parts[-3] for p in paths_dFoF_remote]"
   ]
  },
  {
   "cell_type": "code",
   "execution_count": 43,
   "id": "c5a002c3-88b1-4cab-8619-2440bbcc1b05",
   "metadata": {},
   "outputs": [
    {
     "data": {
      "text/plain": [
       "['20230419',\n",
       " '20230420',\n",
       " '20230424',\n",
       " '20230425',\n",
       " '20230426',\n",
       " '20230427',\n",
       " '20230428',\n",
       " '20230429',\n",
       " '20230430',\n",
       " '20230501',\n",
       " '20230502',\n",
       " '20230503',\n",
       " '20230504',\n",
       " '20230505',\n",
       " '20230506',\n",
       " '20230507',\n",
       " '20230508',\n",
       " '20230509',\n",
       " '20230511',\n",
       " '20230512',\n",
       " '20230513',\n",
       " '20230514',\n",
       " '20230515',\n",
       " '20230516',\n",
       " '20230517',\n",
       " '20230518',\n",
       " '20230519',\n",
       " '20230520',\n",
       " '20230521',\n",
       " '20230522',\n",
       " '20230523',\n",
       " '20230524',\n",
       " '20230525',\n",
       " '20230526',\n",
       " '20230527',\n",
       " '20230530',\n",
       " '20230531']"
      ]
     },
     "execution_count": 43,
     "metadata": {},
     "output_type": "execute_result"
    }
   ],
   "source": [
    "dates_dFoF_remote"
   ]
  },
  {
   "cell_type": "code",
   "execution_count": 44,
   "id": "22f095cc-8fd9-4a43-b46d-61c7af6eb868",
   "metadata": {},
   "outputs": [],
   "source": [
    "directory_local_save = f'/media/rich/bigSSD/analysis_data/face_rhythm/{mouse}/dFoF_and_tqm/'"
   ]
  },
  {
   "cell_type": "code",
   "execution_count": null,
   "id": "8f54f4d0-fc0f-4dab-b42a-25f3ba2bb2b3",
   "metadata": {},
   "outputs": [],
   "source": [
    "[sftp.get(remotepath=p_r, localpath=str(Path(directory_local_save) / date / Path(p_r).name)) for p_r, date in zip(paths_csvs_remote, dates_dFoF_remote)];"
   ]
  },
  {
   "cell_type": "code",
   "execution_count": null,
   "id": "3bae1996-2180-44d3-8115-4ebbba48d88b",
   "metadata": {},
   "outputs": [],
   "source": [
    "[sftp.get(remotepath=str(Path(p_r).parent / 'iscell_tqm.npy'), localpath=str(Path(directory_local_save) / date / 'iscell_tqm.npy')) for p_r, date in zip(paths_csvs_remote, dates_dFoF_remote)];"
   ]
  },
  {
   "cell_type": "markdown",
   "id": "77a223a2-17d0-4ef6-a7ec-bc74d4467c6f",
   "metadata": {},
   "source": [
    "## Clean up"
   ]
  },
  {
   "cell_type": "code",
   "execution_count": null,
   "id": "b31f6bcb",
   "metadata": {},
   "outputs": [],
   "source": [
    "## delete password\n",
    "del pw\n",
    "gc.collect()\n",
    "\n",
    "## close sftp\n",
    "if sftp: sftp.close()\n",
    "if transport: transport.close()\n",
    "del sftp\n",
    "del transport\n",
    "    \n",
    "## close ssh\n",
    "ssh_t.close()\n",
    "del ssh_t\n",
    "ssh_c.close()\n",
    "del ssh_c\n",
    "gc.collect()"
   ]
  },
  {
   "cell_type": "code",
   "execution_count": null,
   "id": "b1e29db0",
   "metadata": {},
   "outputs": [],
   "source": []
  },
  {
   "cell_type": "code",
   "execution_count": null,
   "id": "a2ee21fd",
   "metadata": {},
   "outputs": [],
   "source": []
  }
 ],
 "metadata": {
  "kernelspec": {
   "display_name": "Python 3 (ipykernel)",
   "language": "python",
   "name": "python3"
  },
  "language_info": {
   "codemirror_mode": {
    "name": "ipython",
    "version": 3
   },
   "file_extension": ".py",
   "mimetype": "text/x-python",
   "name": "python",
   "nbconvert_exporter": "python",
   "pygments_lexer": "ipython3",
   "version": "3.9.16"
  }
 },
 "nbformat": 4,
 "nbformat_minor": 5
}
