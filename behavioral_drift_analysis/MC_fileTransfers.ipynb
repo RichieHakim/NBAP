{
 "cells": [
  {
   "cell_type": "code",
   "execution_count": 1,
   "id": "eb297901",
   "metadata": {},
   "outputs": [
    {
     "data": {
      "text/html": [
       "<style>.container {width:95% !important; }</style>"
      ],
      "text/plain": [
       "<IPython.core.display.HTML object>"
      ]
     },
     "metadata": {},
     "output_type": "display_data"
    },
    {
     "data": {
      "text/html": [
       "<style>:root { --jp-notebook-max-width: 100% !important; }</style>"
      ],
      "text/plain": [
       "<IPython.core.display.HTML object>"
      ]
     },
     "metadata": {},
     "output_type": "display_data"
    }
   ],
   "source": [
    "# widen jupyter notebook window\n",
    "from IPython.display import display, HTML\n",
    "display(HTML(\"<style>.container {width:95% !important; }</style>\"))\n",
    "display(HTML(\"<style>:root { --jp-notebook-max-width: 100% !important; }</style>\"))"
   ]
  },
  {
   "cell_type": "markdown",
   "id": "e7ca9401",
   "metadata": {},
   "source": [
    "This requires having `bnpm`. Get it with `pip install bnpm` or here: https://github.com/RichieHakim/basic_neural_processing_modules"
   ]
  },
  {
   "cell_type": "code",
   "execution_count": 2,
   "id": "b083639c",
   "metadata": {},
   "outputs": [],
   "source": [
    "%load_ext autoreload\n",
    "%autoreload 2\n",
    "from bnpm import server\n",
    "import bnpm"
   ]
  },
  {
   "cell_type": "code",
   "execution_count": 3,
   "id": "47fe1e80",
   "metadata": {},
   "outputs": [],
   "source": [
    "import os\n",
    "from pathlib import Path\n",
    "import functools\n",
    "import tempfile\n",
    "import getpass\n",
    "import gc"
   ]
  },
  {
   "cell_type": "code",
   "execution_count": 4,
   "id": "4b3fddce-51cc-49ef-8d84-4a881acc0c43",
   "metadata": {},
   "outputs": [],
   "source": [
    "from tqdm import tqdm\n",
    "import numpy as np\n",
    "import natsort"
   ]
  },
  {
   "cell_type": "markdown",
   "id": "6114afcd",
   "metadata": {},
   "source": [
    "------------\n",
    "# ==== Start ===="
   ]
  },
  {
   "cell_type": "markdown",
   "id": "ae33b435",
   "metadata": {},
   "source": [
    "## Prepare username + password"
   ]
  },
  {
   "cell_type": "code",
   "execution_count": 5,
   "id": "af73363a",
   "metadata": {},
   "outputs": [
    {
     "name": "stdout",
     "output_type": "stream",
     "text": [
      "Username: rh183\n",
      "Password: ········\n"
     ]
    }
   ],
   "source": [
    "remote_host_transfer = \"transfer.rc.hms.harvard.edu\"\n",
    "remote_host_compute = \"o2.hms.harvard.edu\"\n",
    "username = input('Username: ')\n",
    "\n",
    "use_localSshKey = False\n",
    "\n",
    "pw = server.pw_encode(getpass.getpass(prompt='Password: ')) if use_localSshKey==False else None\n",
    "\n",
    "path_sshKey = '/home/rich/.ssh/id_rsa' if use_localSshKey else None"
   ]
  },
  {
   "cell_type": "markdown",
   "id": "c539c815",
   "metadata": {},
   "source": [
    "## Prepare `sftp` and `ssh` objects"
   ]
  },
  {
   "cell_type": "code",
   "execution_count": 6,
   "id": "702eba22",
   "metadata": {},
   "outputs": [],
   "source": [
    "## initialize ssh_transfer\n",
    "ssh_t = server.ssh_interface(\n",
    "    nbytes_toReceive=20000,\n",
    "    recv_timeout=1,\n",
    "    verbose=True,\n",
    ")"
   ]
  },
  {
   "cell_type": "code",
   "execution_count": 7,
   "id": "fdf1e2ba",
   "metadata": {
    "scrolled": true
   },
   "outputs": [],
   "source": [
    "ssh_t.o2_connect(\n",
    "    hostname=remote_host_transfer,\n",
    "    username=username,\n",
    "    password=server.pw_decode(pw),\n",
    "    key_filename=path_sshKey,\n",
    "    look_for_keys=False,\n",
    "    passcode_method=1,\n",
    "    verbose=0,\n",
    "    skip_passcode=False,    \n",
    ")"
   ]
  },
  {
   "cell_type": "code",
   "execution_count": 8,
   "id": "fa578dd5",
   "metadata": {},
   "outputs": [],
   "source": [
    "# ## initialize ssh_compute\n",
    "# ssh_c = server.ssh_interface(\n",
    "#     nbytes_toReceive=20000,\n",
    "#     recv_timeout=1,\n",
    "#     verbose=True,\n",
    "# )\n",
    "# ssh_c.o2_connect(\n",
    "#     hostname=remote_host_compute,\n",
    "#     username=username,\n",
    "#     password=server.pw_decode(pw),\n",
    "#     key_filename=path_sshKey,\n",
    "#     look_for_keys=False,\n",
    "#     passcode_method=1,\n",
    "#     verbose=0,\n",
    "#     skip_passcode=False,    \n",
    "# )"
   ]
  },
  {
   "cell_type": "code",
   "execution_count": 9,
   "id": "daea3d7a",
   "metadata": {},
   "outputs": [],
   "source": [
    "sftp = server.sftp_interface(ssh_client=ssh_t.client)"
   ]
  },
  {
   "cell_type": "code",
   "execution_count": 10,
   "id": "21af2f06",
   "metadata": {},
   "outputs": [],
   "source": [
    "prompt_snip = f'[{username}'"
   ]
  },
  {
   "cell_type": "code",
   "execution_count": 11,
   "id": "6d8554e7",
   "metadata": {},
   "outputs": [],
   "source": [
    "# send_expect = functools.partial(ssh_c.send_expect, str_success=prompt_snip)"
   ]
  },
  {
   "cell_type": "code",
   "execution_count": null,
   "id": "06f78ed9-095e-4ab1-a776-080d0ab03844",
   "metadata": {},
   "outputs": [],
   "source": []
  },
  {
   "cell_type": "markdown",
   "id": "813123b7-071f-419c-885a-954ba78ae030",
   "metadata": {},
   "source": [
    "# Download stat and ops files"
   ]
  },
  {
   "cell_type": "code",
   "execution_count": 13,
   "id": "c0c8cdc3-6553-4d12-bf8c-27cc5a113ea3",
   "metadata": {},
   "outputs": [
    {
     "name": "stdout",
     "output_type": "stream",
     "text": [
      "/n/data1/hms/neurobio/sabatini/gyu/analysis/suite2p_output/mouse_0403L/20230804/scanimage_data/exp/jobNum_0/suite2p/plane0/stat.npy\n",
      "/n/data1/hms/neurobio/sabatini/gyu/analysis/suite2p_output/mouse_0403L/20230726/scanimage_data/exp/jobNum_0/suite2p/plane0/stat.npy\n",
      "/n/data1/hms/neurobio/sabatini/gyu/analysis/suite2p_output/mouse_0403L/20230708/scanimage_data/exp/jobNum_0/suite2p/plane0/stat.npy\n",
      "/n/data1/hms/neurobio/sabatini/gyu/analysis/suite2p_output/mouse_0403L/20230808/scanimage_data/exp/jobNum_0/suite2p/plane0/stat.npy\n",
      "/n/data1/hms/neurobio/sabatini/gyu/analysis/suite2p_output/mouse_0403L/20230711/scanimage_data/exp/jobNum_0/suite2p/plane0/stat.npy\n",
      "/n/data1/hms/neurobio/sabatini/gyu/analysis/suite2p_output/mouse_0403L/20230725/scanimage_data/exp/jobNum_0/suite2p/plane0/stat.npy\n",
      "/n/data1/hms/neurobio/sabatini/gyu/analysis/suite2p_output/mouse_0403L/20230721/scanimage_data/exp/jobNum_0/suite2p/plane0/stat.npy\n",
      "/n/data1/hms/neurobio/sabatini/gyu/analysis/suite2p_output/mouse_0403L/20230722/scanimage_data/exp/jobNum_0/suite2p/plane0/stat.npy\n",
      "/n/data1/hms/neurobio/sabatini/gyu/analysis/suite2p_output/mouse_0403L/20230717/scanimage_data/exp/jobNum_0/suite2p/plane0/stat.npy\n",
      "/n/data1/hms/neurobio/sabatini/gyu/analysis/suite2p_output/mouse_0403L/20230806/scanimage_data/exp/jobNum_0/suite2p/plane0/stat.npy\n",
      "/n/data1/hms/neurobio/sabatini/gyu/analysis/suite2p_output/mouse_0403L/20230718/scanimage_data/exp/jobNum_0/suite2p/plane0/stat.npy\n",
      "/n/data1/hms/neurobio/sabatini/gyu/analysis/suite2p_output/mouse_0403L/20230709/scanimage_data/exp/jobNum_0/suite2p/plane0/stat.npy\n",
      "/n/data1/hms/neurobio/sabatini/gyu/analysis/suite2p_output/mouse_0403L/20230713/scanimage_data/exp/jobNum_0/suite2p/plane0/stat.npy\n",
      "/n/data1/hms/neurobio/sabatini/gyu/analysis/suite2p_output/mouse_0403L/20230727/scanimage_data/exp/jobNum_0/suite2p/plane0/stat.npy\n",
      "/n/data1/hms/neurobio/sabatini/gyu/analysis/suite2p_output/mouse_0403L/20230702/scanimage_data/exp/jobNum_0/suite2p/plane0/stat.npy\n",
      "/n/data1/hms/neurobio/sabatini/gyu/analysis/suite2p_output/mouse_0403L/20230702/scanimage_data/zstack/jobNum_0/suite2p/plane0/stat.npy\n",
      "/n/data1/hms/neurobio/sabatini/gyu/analysis/suite2p_output/mouse_0403L/20230728/scanimage_data/exp/jobNum_0/suite2p/plane0/stat.npy\n",
      "/n/data1/hms/neurobio/sabatini/gyu/analysis/suite2p_output/mouse_0403L/20230703/scanimage_data/exp/jobNum_0/suite2p/plane0/stat.npy\n",
      "/n/data1/hms/neurobio/sabatini/gyu/analysis/suite2p_output/mouse_0403L/20230801/scanimage_data/exp/jobNum_0/suite2p/plane0/stat.npy\n",
      "/n/data1/hms/neurobio/sabatini/gyu/analysis/suite2p_output/mouse_0403L/20230731/scanimage_data/exp/jobNum_0/suite2p/plane0/stat.npy\n",
      "/n/data1/hms/neurobio/sabatini/gyu/analysis/suite2p_output/mouse_0403L/20230724/scanimage_data/exp/jobNum_0/suite2p/plane0/stat.npy\n",
      "/n/data1/hms/neurobio/sabatini/gyu/analysis/suite2p_output/mouse_0403L/20230710/scanimage_data/exp/jobNum_0/suite2p/plane0/stat.npy\n",
      "/n/data1/hms/neurobio/sabatini/gyu/analysis/suite2p_output/mouse_0403L/20230723/scanimage_data/exp/jobNum_0/suite2p/plane0/stat.npy\n",
      "/n/data1/hms/neurobio/sabatini/gyu/analysis/suite2p_output/mouse_0403L/20230716/scanimage_data/exp/jobNum_0/suite2p/plane0/stat.npy\n",
      "/n/data1/hms/neurobio/sabatini/gyu/analysis/suite2p_output/mouse_0403L/20230705/scanimage_data/exp/jobNum_0/suite2p/plane0/stat.npy\n",
      "/n/data1/hms/neurobio/sabatini/gyu/analysis/suite2p_output/mouse_0403L/20230720/scanimage_data/exp/jobNum_0/suite2p/plane0/stat.npy\n",
      "/n/data1/hms/neurobio/sabatini/gyu/analysis/suite2p_output/mouse_0403L/20230707/scanimage_data/exp/jobNum_0/suite2p/plane0/stat.npy\n",
      "/n/data1/hms/neurobio/sabatini/gyu/analysis/suite2p_output/mouse_0403L/20230719/scanimage_data/exp/jobNum_0/suite2p/plane0/stat.npy\n",
      "/n/data1/hms/neurobio/sabatini/gyu/analysis/suite2p_output/mouse_0403L/20230802/scanimage_data/exp/jobNum_0/suite2p/plane0/stat.npy\n",
      "/n/data1/hms/neurobio/sabatini/gyu/analysis/suite2p_output/mouse_0403L/20230715/scanimage_data/exp/jobNum_0/suite2p/plane0/stat.npy\n",
      "/n/data1/hms/neurobio/sabatini/gyu/analysis/suite2p_output/mouse_0403L/20230730/scanimage_data/exp/jobNum_0/suite2p/plane0/stat.npy\n",
      "/n/data1/hms/neurobio/sabatini/gyu/analysis/suite2p_output/mouse_0403L/20230805/scanimage_data/exp/jobNum_0/suite2p/plane0/stat.npy\n",
      "/n/data1/hms/neurobio/sabatini/gyu/analysis/suite2p_output/mouse_0403L/20230706/scanimage_data/exp/jobNum_0/suite2p/plane0/stat.npy\n",
      "/n/data1/hms/neurobio/sabatini/gyu/analysis/suite2p_output/mouse_0403L/20230807/scanimage_data/exp/jobNum_0/suite2p/plane0/stat.npy\n",
      "/n/data1/hms/neurobio/sabatini/gyu/analysis/suite2p_output/mouse_0403L/20230803/scanimage_data/exp/jobNum_0/suite2p/plane0/stat.npy\n",
      "/n/data1/hms/neurobio/sabatini/gyu/analysis/suite2p_output/mouse_0403L/20230712/scanimage_data/exp/jobNum_0/suite2p/plane0/stat.npy\n",
      "/n/data1/hms/neurobio/sabatini/gyu/analysis/suite2p_output/mouse_0403L/20230714/scanimage_data/exp/jobNum_0/suite2p/plane0/stat.npy\n",
      "/n/data1/hms/neurobio/sabatini/gyu/analysis/suite2p_output/mouse_0403L/20230729/scanimage_data/exp/jobNum_0/suite2p/plane0/stat.npy\n"
     ]
    }
   ],
   "source": [
    "paths_found = natsort.natsorted(sftp.search_recursive(\n",
    "    path='/n/data1/hms/neurobio/sabatini/gyu/analysis/suite2p_output/mouse_0403L/',\n",
    "    search_pattern_re='stat.*npy',\n",
    "    max_depth=7,\n",
    "    find_folders=False,\n",
    "    find_files=True,\n",
    "    verbose=True,\n",
    "))"
   ]
  },
  {
   "cell_type": "code",
   "execution_count": 14,
   "id": "68a55e82-df7b-4f6b-a994-4dd91aa52d4a",
   "metadata": {},
   "outputs": [],
   "source": [
    "paths_found = [p for p in paths_found if 'exp' in p]"
   ]
  },
  {
   "cell_type": "code",
   "execution_count": 15,
   "id": "67b871e4",
   "metadata": {},
   "outputs": [
    {
     "data": {
      "text/plain": [
       "['20230702',\n",
       " '20230703',\n",
       " '20230705',\n",
       " '20230706',\n",
       " '20230707',\n",
       " '20230708',\n",
       " '20230709',\n",
       " '20230710',\n",
       " '20230711',\n",
       " '20230712',\n",
       " '20230713',\n",
       " '20230714',\n",
       " '20230715',\n",
       " '20230716',\n",
       " '20230717',\n",
       " '20230718',\n",
       " '20230719',\n",
       " '20230720',\n",
       " '20230721',\n",
       " '20230722',\n",
       " '20230723',\n",
       " '20230724',\n",
       " '20230725',\n",
       " '20230726',\n",
       " '20230727',\n",
       " '20230728',\n",
       " '20230729',\n",
       " '20230730',\n",
       " '20230731',\n",
       " '20230801',\n",
       " '20230802',\n",
       " '20230803',\n",
       " '20230804',\n",
       " '20230805',\n",
       " '20230806',\n",
       " '20230807',\n",
       " '20230808']"
      ]
     },
     "execution_count": 15,
     "metadata": {},
     "output_type": "execute_result"
    }
   ],
   "source": [
    "dates_toUse = natsort.natsorted([Path(p).parts[-7] for p in paths_found])\n",
    "dates_toUse"
   ]
  },
  {
   "cell_type": "code",
   "execution_count": 16,
   "id": "010544df-1077-4680-ba9b-f4f810be70b6",
   "metadata": {
    "scrolled": true
   },
   "outputs": [
    {
     "name": "stderr",
     "output_type": "stream",
     "text": [
      "100%|█████████████████████████████████████▉| 26.6M/26.6M [00:00<00:00, 41.4Mb/s]\n",
      "100%|█████████████████████████████████████▉| 26.4M/26.4M [00:00<00:00, 47.5Mb/s]\n",
      "100%|█████████████████████████████████████▉| 25.8M/25.8M [00:00<00:00, 50.2Mb/s]\n",
      "100%|█████████████████████████████████████▉| 25.7M/25.7M [00:00<00:00, 45.5Mb/s]\n",
      "100%|█████████████████████████████████████▉| 26.2M/26.2M [00:00<00:00, 47.7Mb/s]\n",
      "100%|█████████████████████████████████████▉| 26.2M/26.2M [00:00<00:00, 40.8Mb/s]\n",
      "100%|█████████████████████████████████████▉| 25.7M/25.8M [00:00<00:00, 46.1Mb/s]\n",
      "100%|█████████████████████████████████████▉| 25.7M/25.7M [00:00<00:00, 48.4Mb/s]\n",
      "100%|█████████████████████████████████████▉| 25.9M/25.9M [00:00<00:00, 49.7Mb/s]\n",
      "100%|█████████████████████████████████████▉| 26.4M/26.5M [00:00<00:00, 50.7Mb/s]\n",
      "100%|█████████████████████████████████████▉| 26.7M/26.7M [00:00<00:00, 52.1Mb/s]\n",
      "100%|█████████████████████████████████████▉| 26.2M/26.3M [00:00<00:00, 51.0Mb/s]\n",
      "100%|█████████████████████████████████████▉| 26.4M/26.4M [00:00<00:00, 50.9Mb/s]\n",
      "100%|█████████████████████████████████████▉| 26.4M/26.5M [00:00<00:00, 52.2Mb/s]\n",
      "100%|█████████████████████████████████████▉| 27.0M/27.0M [00:00<00:00, 51.6Mb/s]\n",
      "100%|█████████████████████████████████████▉| 26.2M/26.2M [00:00<00:00, 45.7Mb/s]\n",
      "100%|█████████████████████████████████████▉| 25.7M/25.7M [00:00<00:00, 53.5Mb/s]\n",
      "100%|█████████████████████████████████████▉| 26.0M/26.0M [00:00<00:00, 51.7Mb/s]\n",
      "100%|█████████████████████████████████████▉| 26.2M/26.2M [00:00<00:00, 55.3Mb/s]\n",
      "100%|█████████████████████████████████████▉| 26.6M/26.7M [00:00<00:00, 50.7Mb/s]\n",
      "100%|█████████████████████████████████████▉| 19.0M/19.0M [00:00<00:00, 43.4Mb/s]\n",
      "100%|█████████████████████████████████████▉| 19.3M/19.3M [00:00<00:00, 48.3Mb/s]\n",
      "100%|█████████████████████████████████████▉| 20.6M/20.7M [00:00<00:00, 47.4Mb/s]\n",
      "100%|█████████████████████████████████████▉| 20.1M/20.1M [00:00<00:00, 48.3Mb/s]\n",
      "100%|█████████████████████████████████████▉| 21.1M/21.1M [00:00<00:00, 48.8Mb/s]\n",
      "100%|█████████████████████████████████████▉| 20.6M/20.6M [00:00<00:00, 48.8Mb/s]\n",
      "100%|█████████████████████████████████████▉| 19.4M/19.4M [00:00<00:00, 47.6Mb/s]\n",
      "100%|█████████████████████████████████████▉| 21.2M/21.2M [00:00<00:00, 43.9Mb/s]\n",
      "100%|█████████████████████████████████████▉| 20.0M/20.0M [00:00<00:00, 50.3Mb/s]\n",
      "100%|█████████████████████████████████████▉| 20.8M/20.9M [00:00<00:00, 50.4Mb/s]\n",
      "100%|█████████████████████████████████████▉| 21.1M/21.1M [00:00<00:00, 44.1Mb/s]\n",
      "100%|█████████████████████████████████████▉| 20.3M/20.3M [00:00<00:00, 50.2Mb/s]\n",
      "100%|█████████████████████████████████████▉| 21.9M/21.9M [00:00<00:00, 44.6Mb/s]\n",
      "100%|█████████████████████████████████████▉| 21.2M/21.2M [00:00<00:00, 49.3Mb/s]\n",
      "100%|█████████████████████████████████████▉| 20.3M/20.3M [00:00<00:00, 51.1Mb/s]\n"
     ]
    }
   ],
   "source": [
    "[sftp.get(str(Path(p).parent / 'stat.npy'), str(Path(r'/media/rich/bigSSD/analysis_data/face_rhythm/mouse_0403L/stat_and_ops') / Path(p).parts[-7] / 'stat.npy')) for p in paths_found[2:]];"
   ]
  },
  {
   "cell_type": "code",
   "execution_count": 17,
   "id": "10fda52e-dfc3-435a-8d63-c405233dee4a",
   "metadata": {
    "scrolled": true
   },
   "outputs": [
    {
     "name": "stderr",
     "output_type": "stream",
     "text": [
      "100%|███████████████████████████████████████▉| 231M/231M [00:03<00:00, 60.8Mb/s]\n",
      "100%|███████████████████████████████████████▉| 231M/231M [00:05<00:00, 42.6Mb/s]\n",
      "100%|███████████████████████████████████████▉| 231M/231M [00:03<00:00, 57.8Mb/s]\n",
      "100%|███████████████████████████████████████▉| 231M/231M [00:04<00:00, 54.7Mb/s]\n",
      "100%|███████████████████████████████████████▉| 231M/231M [00:05<00:00, 41.6Mb/s]\n",
      "100%|███████████████████████████████████████▉| 231M/231M [00:04<00:00, 56.9Mb/s]\n",
      "100%|███████████████████████████████████████▉| 230M/230M [00:04<00:00, 56.7Mb/s]\n",
      "100%|███████████████████████████████████████▉| 230M/230M [00:04<00:00, 54.1Mb/s]\n",
      "100%|███████████████████████████████████████▉| 229M/229M [00:04<00:00, 57.2Mb/s]\n",
      "100%|███████████████████████████████████████▉| 230M/230M [00:04<00:00, 56.7Mb/s]\n",
      "100%|███████████████████████████████████████▉| 230M/230M [00:04<00:00, 56.6Mb/s]\n",
      "100%|███████████████████████████████████████▉| 228M/228M [00:03<00:00, 57.3Mb/s]\n",
      "100%|███████████████████████████████████████▉| 229M/229M [00:04<00:00, 55.1Mb/s]\n",
      "100%|███████████████████████████████████████▉| 230M/230M [00:04<00:00, 57.0Mb/s]\n",
      "100%|███████████████████████████████████████▉| 230M/230M [00:03<00:00, 58.2Mb/s]\n",
      "100%|███████████████████████████████████████▉| 228M/228M [00:04<00:00, 56.8Mb/s]\n",
      "100%|███████████████████████████████████████▉| 227M/227M [00:03<00:00, 56.7Mb/s]\n",
      "100%|███████████████████████████████████████▉| 231M/231M [00:05<00:00, 45.9Mb/s]\n",
      "100%|███████████████████████████████████████▉| 230M/230M [00:04<00:00, 55.0Mb/s]\n",
      "100%|███████████████████████████████████████▉| 228M/228M [00:04<00:00, 45.7Mb/s]\n",
      "100%|███████████████████████████████████████▉| 261M/261M [00:04<00:00, 57.6Mb/s]\n",
      "100%|███████████████████████████████████████▉| 261M/261M [00:04<00:00, 56.0Mb/s]\n",
      "100%|███████████████████████████████████████▉| 262M/262M [00:04<00:00, 57.2Mb/s]\n",
      "100%|███████████████████████████████████████▉| 261M/261M [00:04<00:00, 56.6Mb/s]\n",
      "100%|███████████████████████████████████████▉| 261M/261M [00:04<00:00, 57.4Mb/s]\n",
      "100%|███████████████████████████████████████▉| 260M/260M [00:04<00:00, 56.9Mb/s]\n",
      "100%|███████████████████████████████████████▉| 256M/256M [00:04<00:00, 56.8Mb/s]\n",
      "100%|███████████████████████████████████████▉| 261M/261M [00:04<00:00, 55.8Mb/s]\n",
      "100%|███████████████████████████████████████▉| 261M/261M [00:04<00:00, 52.6Mb/s]\n",
      "100%|███████████████████████████████████████▉| 262M/262M [00:04<00:00, 56.8Mb/s]\n",
      "100%|███████████████████████████████████████▉| 261M/261M [00:04<00:00, 57.1Mb/s]\n",
      "100%|███████████████████████████████████████▉| 261M/261M [00:04<00:00, 57.6Mb/s]\n",
      "100%|███████████████████████████████████████▉| 261M/261M [00:04<00:00, 55.2Mb/s]\n",
      "100%|███████████████████████████████████████▉| 262M/262M [00:05<00:00, 50.9Mb/s]\n",
      "100%|███████████████████████████████████████▉| 261M/261M [00:04<00:00, 57.6Mb/s]\n"
     ]
    }
   ],
   "source": [
    "[sftp.get(str(Path(p).parent / 'ops.npy'), str(Path(r'/media/rich/bigSSD/analysis_data/face_rhythm/mouse_0403L/stat_and_ops') / Path(p).parts[-7] / 'ops.npy')) for p in paths_found[2:]];"
   ]
  },
  {
   "cell_type": "code",
   "execution_count": null,
   "id": "4e1295be-d324-40e3-8dc9-c3995933267a",
   "metadata": {},
   "outputs": [],
   "source": []
  },
  {
   "cell_type": "code",
   "execution_count": null,
   "id": "2999fb00-611b-4f2a-b680-a4c2e5bd7db2",
   "metadata": {},
   "outputs": [],
   "source": []
  },
  {
   "cell_type": "markdown",
   "id": "c181b7a8-eba3-4252-908b-9a0849d7c618",
   "metadata": {},
   "source": [
    "# Download logger files"
   ]
  },
  {
   "cell_type": "code",
   "execution_count": 18,
   "id": "2123b1d3-ab96-4d7a-a3d3-cb6d92ed9798",
   "metadata": {},
   "outputs": [
    {
     "name": "stdout",
     "output_type": "stream",
     "text": [
      "/n/files/Neurobio/MICROSCOPE/Gyu/BMI_data/cage_0403/mouse_0403L/20230804/analysis_data/logger.mat\n",
      "/n/files/Neurobio/MICROSCOPE/Gyu/BMI_data/cage_0403/mouse_0403L/20230810/analysis_data/logger.mat\n",
      "/n/files/Neurobio/MICROSCOPE/Gyu/BMI_data/cage_0403/mouse_0403L/20230726/analysis_data/logger.mat\n",
      "/n/files/Neurobio/MICROSCOPE/Gyu/BMI_data/cage_0403/mouse_0403L/20230708/analysis_data/logger.mat\n",
      "/n/files/Neurobio/MICROSCOPE/Gyu/BMI_data/cage_0403/mouse_0403L/20230808/analysis_data/logger.mat\n",
      "/n/files/Neurobio/MICROSCOPE/Gyu/BMI_data/cage_0403/mouse_0403L/20230711/analysis_data/logger.mat\n",
      "/n/files/Neurobio/MICROSCOPE/Gyu/BMI_data/cage_0403/mouse_0403L/20230725/analysis_data/logger.mat\n",
      "/n/files/Neurobio/MICROSCOPE/Gyu/BMI_data/cage_0403/mouse_0403L/20230721/analysis_data/logger.mat\n",
      "/n/files/Neurobio/MICROSCOPE/Gyu/BMI_data/cage_0403/mouse_0403L/20230722/analysis_data/logger.mat\n",
      "/n/files/Neurobio/MICROSCOPE/Gyu/BMI_data/cage_0403/mouse_0403L/20230717/analysis_data/logger.mat\n",
      "/n/files/Neurobio/MICROSCOPE/Gyu/BMI_data/cage_0403/mouse_0403L/20230806/analysis_data/logger.mat\n",
      "/n/files/Neurobio/MICROSCOPE/Gyu/BMI_data/cage_0403/mouse_0403L/20230718/analysis_data/logger.mat\n",
      "/n/files/Neurobio/MICROSCOPE/Gyu/BMI_data/cage_0403/mouse_0403L/20230709/analysis_data/logger.mat\n",
      "/n/files/Neurobio/MICROSCOPE/Gyu/BMI_data/cage_0403/mouse_0403L/20230713/analysis_data/logger.mat\n",
      "/n/files/Neurobio/MICROSCOPE/Gyu/BMI_data/cage_0403/mouse_0403L/20230727/analysis_data/logger.mat\n",
      "/n/files/Neurobio/MICROSCOPE/Gyu/BMI_data/cage_0403/mouse_0403L/20230702/analysis_data/logger.mat\n",
      "/n/files/Neurobio/MICROSCOPE/Gyu/BMI_data/cage_0403/mouse_0403L/20230728/analysis_data/logger.mat\n",
      "/n/files/Neurobio/MICROSCOPE/Gyu/BMI_data/cage_0403/mouse_0403L/20230703/analysis_data/logger.mat\n",
      "/n/files/Neurobio/MICROSCOPE/Gyu/BMI_data/cage_0403/mouse_0403L/20230801/analysis_data/logger.mat\n",
      "/n/files/Neurobio/MICROSCOPE/Gyu/BMI_data/cage_0403/mouse_0403L/20230731/analysis_data/logger.mat\n",
      "/n/files/Neurobio/MICROSCOPE/Gyu/BMI_data/cage_0403/mouse_0403L/20230724/analysis_data/logger.mat\n",
      "/n/files/Neurobio/MICROSCOPE/Gyu/BMI_data/cage_0403/mouse_0403L/20230710/analysis_data/logger.mat\n",
      "/n/files/Neurobio/MICROSCOPE/Gyu/BMI_data/cage_0403/mouse_0403L/20230723/analysis_data/logger.mat\n",
      "/n/files/Neurobio/MICROSCOPE/Gyu/BMI_data/cage_0403/mouse_0403L/20230716/analysis_data/logger.mat\n",
      "/n/files/Neurobio/MICROSCOPE/Gyu/BMI_data/cage_0403/mouse_0403L/20230705/analysis_data/logger.mat\n",
      "/n/files/Neurobio/MICROSCOPE/Gyu/BMI_data/cage_0403/mouse_0403L/20230720/analysis_data/logger.mat\n",
      "/n/files/Neurobio/MICROSCOPE/Gyu/BMI_data/cage_0403/mouse_0403L/20230707/analysis_data/logger.mat\n",
      "/n/files/Neurobio/MICROSCOPE/Gyu/BMI_data/cage_0403/mouse_0403L/20230719/analysis_data/logger.mat\n",
      "/n/files/Neurobio/MICROSCOPE/Gyu/BMI_data/cage_0403/mouse_0403L/20230811/analysis_data/logger.mat\n",
      "/n/files/Neurobio/MICROSCOPE/Gyu/BMI_data/cage_0403/mouse_0403L/20230802/analysis_data/logger.mat\n",
      "/n/files/Neurobio/MICROSCOPE/Gyu/BMI_data/cage_0403/mouse_0403L/20230715/analysis_data/logger.mat\n",
      "/n/files/Neurobio/MICROSCOPE/Gyu/BMI_data/cage_0403/mouse_0403L/20230730/analysis_data/logger.mat\n",
      "/n/files/Neurobio/MICROSCOPE/Gyu/BMI_data/cage_0403/mouse_0403L/20230809/analysis_data/logger.mat\n",
      "/n/files/Neurobio/MICROSCOPE/Gyu/BMI_data/cage_0403/mouse_0403L/20230805/analysis_data/logger.mat\n",
      "/n/files/Neurobio/MICROSCOPE/Gyu/BMI_data/cage_0403/mouse_0403L/20230706/analysis_data/logger.mat\n",
      "/n/files/Neurobio/MICROSCOPE/Gyu/BMI_data/cage_0403/mouse_0403L/20230807/analysis_data/logger.mat\n",
      "/n/files/Neurobio/MICROSCOPE/Gyu/BMI_data/cage_0403/mouse_0403L/20230803/analysis_data/logger.mat\n",
      "/n/files/Neurobio/MICROSCOPE/Gyu/BMI_data/cage_0403/mouse_0403L/20230712/analysis_data/logger.mat\n",
      "/n/files/Neurobio/MICROSCOPE/Gyu/BMI_data/cage_0403/mouse_0403L/20230714/analysis_data/logger.mat\n",
      "/n/files/Neurobio/MICROSCOPE/Gyu/BMI_data/cage_0403/mouse_0403L/20230729/analysis_data/logger.mat\n"
     ]
    }
   ],
   "source": [
    "paths_found = natsort.natsorted(sftp.search_recursive(\n",
    "    path='/n/files/Neurobio/MICROSCOPE/Gyu/BMI_data/cage_0403/mouse_0403L/',\n",
    "    search_pattern_re='logger\\.mat',\n",
    "    max_depth=7,\n",
    "    find_folders=False,\n",
    "    find_files=True,\n",
    "    verbose=True,\n",
    "))"
   ]
  },
  {
   "cell_type": "code",
   "execution_count": 19,
   "id": "6b810c93-7529-4b04-843f-4047e2dd4e66",
   "metadata": {},
   "outputs": [
    {
     "data": {
      "text/plain": [
       "['20230702',\n",
       " '20230703',\n",
       " '20230705',\n",
       " '20230706',\n",
       " '20230707',\n",
       " '20230708',\n",
       " '20230709',\n",
       " '20230710',\n",
       " '20230711',\n",
       " '20230712',\n",
       " '20230713',\n",
       " '20230714',\n",
       " '20230715',\n",
       " '20230716',\n",
       " '20230717',\n",
       " '20230718',\n",
       " '20230719',\n",
       " '20230720',\n",
       " '20230721',\n",
       " '20230722',\n",
       " '20230723',\n",
       " '20230724',\n",
       " '20230725',\n",
       " '20230726',\n",
       " '20230727',\n",
       " '20230728',\n",
       " '20230729',\n",
       " '20230730',\n",
       " '20230731',\n",
       " '20230801',\n",
       " '20230802',\n",
       " '20230803',\n",
       " '20230804',\n",
       " '20230805',\n",
       " '20230806',\n",
       " '20230807',\n",
       " '20230808',\n",
       " '20230809',\n",
       " '20230810',\n",
       " '20230811']"
      ]
     },
     "execution_count": 19,
     "metadata": {},
     "output_type": "execute_result"
    }
   ],
   "source": [
    "dates_toUse = natsort.natsorted([Path(p).parts[-3] for p in paths_found])\n",
    "dates_toUse"
   ]
  },
  {
   "cell_type": "code",
   "execution_count": 20,
   "id": "73cc00e4-5aa2-4eae-8950-8a1d2fb34f60",
   "metadata": {
    "scrolled": true
   },
   "outputs": [
    {
     "name": "stderr",
     "output_type": "stream",
     "text": [
      "100%|█████████████████████████████████████▉| 4.82M/4.82M [00:00<00:00, 7.40Mb/s]\n",
      "100%|█████████████████████████████████████▉| 4.82M/4.82M [00:00<00:00, 6.43Mb/s]\n",
      "100%|█████████████████████████████████████▉| 13.4M/13.5M [00:02<00:00, 5.51Mb/s]\n",
      "100%|█████████████████████████████████████▉| 13.5M/13.5M [00:08<00:00, 1.60Mb/s]\n",
      "100%|██████████████████████████████████████▉| 13.5M/13.5M [00:15<00:00, 896kb/s]\n",
      "100%|█████████████████████████████████████▉| 12.2M/12.2M [00:09<00:00, 1.26Mb/s]\n",
      "100%|█████████████████████████████████████▉| 11.3M/11.3M [00:10<00:00, 1.05Mb/s]\n",
      "100%|█████████████████████████████████████▉| 8.65M/8.67M [00:07<00:00, 1.18Mb/s]\n",
      "100%|█████████████████████████████████████▉| 10.3M/10.3M [00:00<00:00, 27.7Mb/s]\n",
      "100%|█████████████████████████████████████▉| 11.8M/11.8M [00:00<00:00, 13.0Mb/s]\n",
      "100%|█████████████████████████████████████▉| 13.5M/13.6M [00:00<00:00, 33.7Mb/s]\n",
      "100%|█████████████████████████████████████▉| 13.6M/13.6M [00:00<00:00, 31.7Mb/s]\n",
      "100%|█████████████████████████████████████▉| 12.0M/12.0M [00:00<00:00, 34.4Mb/s]\n",
      "100%|█████████████████████████████████████▉| 10.6M/10.6M [00:00<00:00, 21.2Mb/s]\n",
      "100%|█████████████████████████████████████▉| 13.6M/13.6M [00:00<00:00, 36.1Mb/s]\n",
      "100%|█████████████████████████████████████▉| 12.4M/12.4M [00:00<00:00, 33.6Mb/s]\n",
      "100%|█████████████████████████████████████▉| 13.5M/13.5M [00:00<00:00, 35.5Mb/s]\n",
      "100%|█████████████████████████████████████▉| 13.5M/13.6M [00:00<00:00, 25.7Mb/s]\n",
      "100%|█████████████████████████████████████▉| 11.8M/11.8M [00:00<00:00, 30.5Mb/s]\n",
      "100%|█████████████████████████████████████▉| 13.5M/13.5M [00:00<00:00, 15.2Mb/s]\n",
      "100%|█████████████████████████████████████▉| 13.5M/13.5M [00:00<00:00, 34.7Mb/s]\n",
      "100%|█████████████████████████████████████▉| 9.60M/9.62M [00:00<00:00, 19.4Mb/s]\n",
      "100%|█████████████████████████████████████▉| 17.9M/17.9M [00:00<00:00, 34.2Mb/s]\n",
      "100%|█████████████████████████████████████▉| 18.1M/18.1M [00:00<00:00, 29.3Mb/s]\n",
      "100%|█████████████████████████████████████▉| 15.6M/15.6M [00:00<00:00, 23.6Mb/s]\n",
      "100%|█████████████████████████████████████▉| 13.6M/13.6M [00:00<00:00, 28.5Mb/s]\n",
      "100%|█████████████████████████████████████▉| 15.3M/15.3M [00:00<00:00, 34.1Mb/s]\n",
      "100%|█████████████████████████████████████▉| 13.9M/13.9M [00:00<00:00, 29.5Mb/s]\n",
      "100%|█████████████████████████████████████▉| 12.4M/12.4M [00:00<00:00, 31.8Mb/s]\n",
      "100%|█████████████████████████████████████▉| 14.4M/14.4M [00:00<00:00, 35.8Mb/s]\n",
      "100%|█████████████████████████████████████▉| 14.4M/14.4M [00:00<00:00, 34.5Mb/s]\n",
      "100%|█████████████████████████████████████▉| 15.1M/15.1M [00:00<00:00, 41.1Mb/s]\n",
      "100%|█████████████████████████████████████▉| 18.1M/18.1M [00:00<00:00, 21.5Mb/s]\n",
      "100%|█████████████████████████████████████▉| 14.5M/14.5M [00:00<00:00, 30.6Mb/s]\n",
      "100%|█████████████████████████████████████▉| 14.5M/14.6M [00:00<00:00, 37.0Mb/s]\n",
      "100%|█████████████████████████████████████▉| 15.9M/15.9M [00:01<00:00, 12.7Mb/s]\n",
      "100%|█████████████████████████████████████▉| 17.1M/17.1M [00:00<00:00, 34.7Mb/s]\n",
      "100%|█████████████████████████████████████▉| 18.1M/18.1M [00:00<00:00, 40.1Mb/s]\n",
      "100%|█████████████████████████████████████▉| 15.7M/15.7M [00:00<00:00, 26.2Mb/s]\n",
      "100%|█████████████████████████████████████▉| 18.1M/18.1M [00:00<00:00, 35.8Mb/s]\n"
     ]
    }
   ],
   "source": [
    "[sftp.get(str(Path(p).parent / 'logger.mat'), str(Path(r'/media/rich/bigSSD/analysis_data/face_rhythm/mouse_0403L/loggers') / date / 'logger.mat')) for date, p in zip(dates_toUse, paths_found)];"
   ]
  },
  {
   "cell_type": "code",
   "execution_count": 21,
   "id": "d2d04d61-b22e-48a0-b351-01d67f1f9677",
   "metadata": {
    "scrolled": true
   },
   "outputs": [
    {
     "name": "stderr",
     "output_type": "stream",
     "text": [
      " 95%|█████████████████████████████████████▏ | 65.5k/68.6k [00:00<00:00, 985kb/s]\n",
      " 95%|█████████████████████████████████████▏ | 65.5k/68.6k [00:00<00:00, 590kb/s]\n",
      "100%|█████████████████████████████████████▊| 9.08M/9.11M [00:00<00:00, 27.1Mb/s]\n",
      "100%|█████████████████████████████████████▉| 9.24M/9.27M [00:00<00:00, 29.1Mb/s]\n",
      "100%|█████████████████████████████████████▉| 8.68M/8.70M [00:02<00:00, 3.36Mb/s]\n",
      "100%|█████████████████████████████████████▉| 9.11M/9.11M [00:00<00:00, 28.0Mb/s]\n",
      "100%|█████████████████████████████████████▉| 9.01M/9.02M [00:04<00:00, 2.23Mb/s]\n",
      "100%|█████████████████████████████████████▉| 8.91M/8.91M [00:01<00:00, 5.61Mb/s]\n",
      "100%|█████████████████████████████████████▊| 8.59M/8.62M [00:00<00:00, 9.72Mb/s]\n",
      "100%|█████████████████████████████████████▉| 8.75M/8.76M [00:00<00:00, 29.6Mb/s]\n",
      "100%|█████████████████████████████████████▉| 8.78M/8.78M [00:00<00:00, 26.1Mb/s]\n",
      "100%|█████████████████████████████████████▉| 9.01M/9.03M [00:00<00:00, 28.2Mb/s]\n",
      "100%|█████████████████████████████████████▉| 8.55M/8.56M [00:00<00:00, 28.4Mb/s]\n",
      "100%|█████████████████████████████████████▉| 9.11M/9.12M [00:00<00:00, 31.0Mb/s]\n",
      "100%|█████████████████████████████████████▉| 8.95M/8.97M [00:00<00:00, 18.8Mb/s]\n",
      "100%|█████████████████████████████████████▉| 8.91M/8.91M [00:00<00:00, 31.0Mb/s]\n",
      "100%|█████████████████████████████████████▉| 8.88M/8.89M [00:00<00:00, 30.7Mb/s]\n",
      "100%|█████████████████████████████████████▉| 8.85M/8.87M [00:00<00:00, 26.4Mb/s]\n",
      "100%|█████████████████████████████████████▉| 8.81M/8.82M [00:00<00:00, 28.6Mb/s]\n",
      "100%|█████████████████████████████████████▉| 9.21M/9.22M [00:00<00:00, 25.5Mb/s]\n",
      "100%|█████████████████████████████████████▉| 9.14M/9.15M [00:00<00:00, 27.4Mb/s]\n",
      "100%|█████████████████████████████████████▉| 8.85M/8.85M [00:00<00:00, 21.5Mb/s]\n",
      "100%|█████████████████████████████████████▉| 9.18M/9.20M [00:00<00:00, 24.7Mb/s]\n",
      "100%|█████████████████████████████████████▉| 9.11M/9.11M [00:00<00:00, 20.9Mb/s]\n",
      "100%|█████████████████████████████████████▉| 8.91M/8.93M [00:00<00:00, 23.2Mb/s]\n",
      "100%|█████████████████████████████████████▉| 8.72M/8.73M [00:00<00:00, 19.7Mb/s]\n",
      "100%|█████████████████████████████████████▊| 8.81M/8.84M [00:00<00:00, 27.1Mb/s]\n",
      "100%|█████████████████████████████████████▊| 8.65M/8.68M [00:00<00:00, 27.9Mb/s]\n",
      "100%|█████████████████████████████████████▉| 8.98M/8.98M [00:00<00:00, 28.5Mb/s]\n",
      "100%|█████████████████████████████████████▉| 8.88M/8.89M [00:00<00:00, 26.2Mb/s]\n",
      "100%|█████████████████████████████████████▊| 9.04M/9.08M [00:00<00:00, 28.3Mb/s]\n",
      "100%|█████████████████████████████████████▊| 8.88M/8.91M [00:00<00:00, 26.4Mb/s]\n",
      "100%|█████████████████████████████████████▉| 8.91M/8.93M [00:00<00:00, 28.9Mb/s]\n",
      "100%|█████████████████████████████████████▉| 8.95M/8.95M [00:00<00:00, 26.2Mb/s]\n",
      "100%|█████████████████████████████████████▊| 8.88M/8.91M [00:00<00:00, 26.2Mb/s]\n",
      "100%|█████████████████████████████████████▉| 8.91M/8.91M [00:00<00:00, 23.8Mb/s]\n",
      "100%|█████████████████████████████████████▉| 8.68M/8.70M [00:00<00:00, 23.5Mb/s]\n",
      "100%|█████████████████████████████████████▉| 8.95M/8.97M [00:00<00:00, 28.5Mb/s]\n",
      "100%|█████████████████████████████████████▉| 8.88M/8.89M [00:00<00:00, 29.5Mb/s]\n",
      "100%|█████████████████████████████████████▉| 8.49M/8.51M [00:00<00:00, 26.3Mb/s]\n"
     ]
    }
   ],
   "source": [
    "[sftp.get(str(Path(p).parent / 'expParams.mat'), str(Path(r'/media/rich/bigSSD/analysis_data/face_rhythm/mouse_0403L/loggers') / date / 'expParams.mat')) for date, p in zip(dates_toUse, paths_found)];"
   ]
  },
  {
   "cell_type": "code",
   "execution_count": null,
   "id": "32d48bc9-3135-4506-bbdc-bdeae5cdd328",
   "metadata": {},
   "outputs": [],
   "source": []
  },
  {
   "cell_type": "markdown",
   "id": "ef934a83-e3e4-4bdc-b898-ca7607c001be",
   "metadata": {},
   "source": [
    "# Download wavesurfer files"
   ]
  },
  {
   "cell_type": "code",
   "execution_count": 22,
   "id": "bb2de0c6-a350-41c4-b34b-e3f2a3303e47",
   "metadata": {},
   "outputs": [
    {
     "name": "stdout",
     "output_type": "stream",
     "text": [
      "/n/files/Neurobio/MICROSCOPE/Gyu/BMI_data/cage_0403/mouse_0403L/20230804/wavesurfer_data/exp_0001.h5\n",
      "/n/files/Neurobio/MICROSCOPE/Gyu/BMI_data/cage_0403/mouse_0403L/20230810/wavesurfer_data/exp_0001.h5\n",
      "/n/files/Neurobio/MICROSCOPE/Gyu/BMI_data/cage_0403/mouse_0403L/20230726/wavesurfer_data/exp_0001.h5\n",
      "/n/files/Neurobio/MICROSCOPE/Gyu/BMI_data/cage_0403/mouse_0403L/20230708/wavesurfer_data/exp_0001.h5\n",
      "/n/files/Neurobio/MICROSCOPE/Gyu/BMI_data/cage_0403/mouse_0403L/20230808/wavesurfer_data/exp_0001.h5\n",
      "/n/files/Neurobio/MICROSCOPE/Gyu/BMI_data/cage_0403/mouse_0403L/20230711/wavesurfer_data/exp_0001.h5\n",
      "/n/files/Neurobio/MICROSCOPE/Gyu/BMI_data/cage_0403/mouse_0403L/20230725/wavesurfer_data/exp_0001.h5\n",
      "/n/files/Neurobio/MICROSCOPE/Gyu/BMI_data/cage_0403/mouse_0403L/20230721/wavesurfer_data/exp_0001.h5\n",
      "/n/files/Neurobio/MICROSCOPE/Gyu/BMI_data/cage_0403/mouse_0403L/20230722/wavesurfer_data/exp_0001.h5\n",
      "/n/files/Neurobio/MICROSCOPE/Gyu/BMI_data/cage_0403/mouse_0403L/20230717/wavesurfer_data/exp_0001.h5\n",
      "/n/files/Neurobio/MICROSCOPE/Gyu/BMI_data/cage_0403/mouse_0403L/20230806/wavesurfer_data/exp_0001.h5\n",
      "/n/files/Neurobio/MICROSCOPE/Gyu/BMI_data/cage_0403/mouse_0403L/20230718/wavesurfer_data/exp_0001.h5\n",
      "/n/files/Neurobio/MICROSCOPE/Gyu/BMI_data/cage_0403/mouse_0403L/20230709/wavesurfer_data/exp_0001.h5\n",
      "/n/files/Neurobio/MICROSCOPE/Gyu/BMI_data/cage_0403/mouse_0403L/20230713/wavesurfer_data/exp_0001.h5\n",
      "/n/files/Neurobio/MICROSCOPE/Gyu/BMI_data/cage_0403/mouse_0403L/20230727/wavesurfer_data/exp_0001.h5\n",
      "/n/files/Neurobio/MICROSCOPE/Gyu/BMI_data/cage_0403/mouse_0403L/20230702/wavesurfer_data/exp_0001.h5\n",
      "/n/files/Neurobio/MICROSCOPE/Gyu/BMI_data/cage_0403/mouse_0403L/20230728/wavesurfer_data/exp_0001.h5\n",
      "/n/files/Neurobio/MICROSCOPE/Gyu/BMI_data/cage_0403/mouse_0403L/20230703/wavesurfer_data/exp_0001.h5\n",
      "/n/files/Neurobio/MICROSCOPE/Gyu/BMI_data/cage_0403/mouse_0403L/20230801/wavesurfer_data/exp_0001.h5\n",
      "/n/files/Neurobio/MICROSCOPE/Gyu/BMI_data/cage_0403/mouse_0403L/20230731/wavesurfer_data/exp_0001.h5\n",
      "/n/files/Neurobio/MICROSCOPE/Gyu/BMI_data/cage_0403/mouse_0403L/20230724/wavesurfer_data/exp_0001.h5\n",
      "/n/files/Neurobio/MICROSCOPE/Gyu/BMI_data/cage_0403/mouse_0403L/20230710/wavesurfer_data/exp_0001.h5\n",
      "/n/files/Neurobio/MICROSCOPE/Gyu/BMI_data/cage_0403/mouse_0403L/20230723/wavesurfer_data/exp_0001.h5\n",
      "/n/files/Neurobio/MICROSCOPE/Gyu/BMI_data/cage_0403/mouse_0403L/20230716/wavesurfer_data/exp_0001.h5\n",
      "/n/files/Neurobio/MICROSCOPE/Gyu/BMI_data/cage_0403/mouse_0403L/20230705/wavesurfer_data/exp_0001.h5\n",
      "/n/files/Neurobio/MICROSCOPE/Gyu/BMI_data/cage_0403/mouse_0403L/20230720/wavesurfer_data/exp_0001.h5\n",
      "/n/files/Neurobio/MICROSCOPE/Gyu/BMI_data/cage_0403/mouse_0403L/20230707/wavesurfer_data/exp_0001.h5\n",
      "/n/files/Neurobio/MICROSCOPE/Gyu/BMI_data/cage_0403/mouse_0403L/20230719/wavesurfer_data/exp_0001.h5\n",
      "/n/files/Neurobio/MICROSCOPE/Gyu/BMI_data/cage_0403/mouse_0403L/20230811/wavesurfer_data/exp_0001.h5\n",
      "/n/files/Neurobio/MICROSCOPE/Gyu/BMI_data/cage_0403/mouse_0403L/20230802/wavesurfer_data/exp_0001.h5\n",
      "/n/files/Neurobio/MICROSCOPE/Gyu/BMI_data/cage_0403/mouse_0403L/20230715/wavesurfer_data/exp_0001.h5\n",
      "/n/files/Neurobio/MICROSCOPE/Gyu/BMI_data/cage_0403/mouse_0403L/20230730/wavesurfer_data/exp_0001.h5\n",
      "/n/files/Neurobio/MICROSCOPE/Gyu/BMI_data/cage_0403/mouse_0403L/20230809/wavesurfer_data/exp_0001.h5\n",
      "/n/files/Neurobio/MICROSCOPE/Gyu/BMI_data/cage_0403/mouse_0403L/20230805/wavesurfer_data/exp_0001.h5\n",
      "/n/files/Neurobio/MICROSCOPE/Gyu/BMI_data/cage_0403/mouse_0403L/20230706/wavesurfer_data/exp_0001.h5\n",
      "/n/files/Neurobio/MICROSCOPE/Gyu/BMI_data/cage_0403/mouse_0403L/20230807/wavesurfer_data/exp_0001.h5\n",
      "/n/files/Neurobio/MICROSCOPE/Gyu/BMI_data/cage_0403/mouse_0403L/20230803/wavesurfer_data/exp_0001.h5\n",
      "/n/files/Neurobio/MICROSCOPE/Gyu/BMI_data/cage_0403/mouse_0403L/20230712/wavesurfer_data/exp_0001.h5\n",
      "/n/files/Neurobio/MICROSCOPE/Gyu/BMI_data/cage_0403/mouse_0403L/20230714/wavesurfer_data/exp_0001.h5\n",
      "/n/files/Neurobio/MICROSCOPE/Gyu/BMI_data/cage_0403/mouse_0403L/20230729/wavesurfer_data/exp_0001.h5\n"
     ]
    }
   ],
   "source": [
    "paths_files_remote = sftp.search_recursive(\n",
    "    path=r'/n/files/Neurobio/MICROSCOPE/Gyu/BMI_data/cage_0403/mouse_0403L/',\n",
    "    search_pattern_re=r'.*exp.*h5',\n",
    "    max_depth=6,\n",
    "    find_files=True,\n",
    "    find_folders=False,\n",
    "    verbose=True,\n",
    ")\n",
    "\n",
    "paths_files_remote = natsort.natsorted(paths_files_remote)"
   ]
  },
  {
   "cell_type": "code",
   "execution_count": 23,
   "id": "9904a6aa-375c-4827-b676-55bb195cda56",
   "metadata": {},
   "outputs": [],
   "source": [
    "dates_files_remote = [Path(p).parent.parent.name for p in paths_files_remote]"
   ]
  },
  {
   "cell_type": "code",
   "execution_count": 24,
   "id": "3aa95e07-f73e-48c9-99f1-f0282be8bb1c",
   "metadata": {},
   "outputs": [
    {
     "data": {
      "text/plain": [
       "['20230702',\n",
       " '20230703',\n",
       " '20230705',\n",
       " '20230706',\n",
       " '20230707',\n",
       " '20230708',\n",
       " '20230709',\n",
       " '20230710',\n",
       " '20230711',\n",
       " '20230712',\n",
       " '20230713',\n",
       " '20230714',\n",
       " '20230715',\n",
       " '20230716',\n",
       " '20230717',\n",
       " '20230718',\n",
       " '20230719',\n",
       " '20230720',\n",
       " '20230721',\n",
       " '20230722',\n",
       " '20230723',\n",
       " '20230724',\n",
       " '20230725',\n",
       " '20230726',\n",
       " '20230727',\n",
       " '20230728',\n",
       " '20230729',\n",
       " '20230730',\n",
       " '20230731',\n",
       " '20230801',\n",
       " '20230802',\n",
       " '20230803',\n",
       " '20230804',\n",
       " '20230805',\n",
       " '20230806',\n",
       " '20230807',\n",
       " '20230808',\n",
       " '20230809',\n",
       " '20230810',\n",
       " '20230811']"
      ]
     },
     "execution_count": 24,
     "metadata": {},
     "output_type": "execute_result"
    }
   ],
   "source": [
    "dates_files_remote"
   ]
  },
  {
   "cell_type": "code",
   "execution_count": 25,
   "id": "fa8f2f34-6a29-4ef9-8cb9-e33771b41aa1",
   "metadata": {},
   "outputs": [],
   "source": [
    "directory_local_save = r'/media/rich/bigSSD/analysis_data/face_rhythm/mouse_0403L/wavesurfer_files/'"
   ]
  },
  {
   "cell_type": "code",
   "execution_count": 26,
   "id": "6b75bba8-d286-4830-b7f9-95e38431aace",
   "metadata": {},
   "outputs": [
    {
     "name": "stderr",
     "output_type": "stream",
     "text": [
      "100%|█████████████████████████████████████▉| 50.7M/50.7M [00:04<00:00, 12.4Mb/s]\n",
      "100%|█████████████████████████████████████▉| 50.7M/50.7M [00:01<00:00, 28.4Mb/s]\n",
      "100%|█████████████████████████████████████▉| 50.7M/50.7M [00:01<00:00, 31.9Mb/s]\n",
      "100%|█████████████████████████████████████▉| 50.7M/50.7M [00:01<00:00, 37.9Mb/s]\n",
      "100%|█████████████████████████████████████▉| 50.7M/50.7M [00:01<00:00, 26.4Mb/s]\n",
      "100%|█████████████████████████████████████▉| 50.7M/50.7M [00:05<00:00, 8.49Mb/s]\n",
      "100%|█████████████████████████████████████▉| 50.7M/50.7M [00:05<00:00, 9.19Mb/s]\n",
      "100%|█████████████████████████████████████▉| 50.7M/50.7M [00:01<00:00, 29.3Mb/s]\n",
      "100%|█████████████████████████████████████▉| 50.7M/50.7M [00:01<00:00, 26.7Mb/s]\n",
      "100%|█████████████████████████████████████▉| 50.7M/50.7M [00:01<00:00, 29.7Mb/s]\n",
      "100%|█████████████████████████████████████▉| 50.7M/50.7M [00:01<00:00, 28.6Mb/s]\n",
      "100%|█████████████████████████████████████▉| 50.7M/50.7M [00:02<00:00, 23.8Mb/s]\n",
      "100%|█████████████████████████████████████▉| 50.7M/50.7M [00:01<00:00, 29.2Mb/s]\n",
      "100%|█████████████████████████████████████▉| 50.7M/50.7M [00:01<00:00, 29.3Mb/s]\n",
      "100%|█████████████████████████████████████▉| 50.7M/50.7M [00:02<00:00, 23.4Mb/s]\n",
      "100%|█████████████████████████████████████▉| 50.7M/50.7M [00:02<00:00, 24.1Mb/s]\n",
      "100%|█████████████████████████████████████▉| 50.7M/50.7M [00:02<00:00, 23.5Mb/s]\n",
      "100%|█████████████████████████████████████▉| 50.7M/50.7M [00:02<00:00, 22.4Mb/s]\n",
      "100%|█████████████████████████████████████▉| 50.7M/50.7M [00:01<00:00, 28.4Mb/s]\n",
      "100%|█████████████████████████████████████▉| 50.7M/50.7M [00:01<00:00, 26.7Mb/s]\n",
      "100%|█████████████████████████████████████▉| 50.7M/50.7M [00:01<00:00, 30.2Mb/s]\n",
      "100%|█████████████████████████████████████▉| 50.7M/50.7M [00:01<00:00, 30.4Mb/s]\n",
      "100%|█████████████████████████████████████▉| 67.5M/67.5M [00:02<00:00, 33.6Mb/s]\n",
      "100%|█████████████████████████████████████▉| 67.5M/67.5M [00:01<00:00, 38.6Mb/s]\n",
      "100%|███████████████████████████████████████▉| 135M/135M [00:04<00:00, 32.0Mb/s]\n",
      "100%|█████████████████████████████████████▉| 67.5M/67.5M [00:02<00:00, 24.1Mb/s]\n",
      "100%|█████████████████████████████████████▉| 67.5M/67.5M [00:01<00:00, 45.4Mb/s]\n",
      "100%|█████████████████████████████████████▉| 67.5M/67.5M [00:01<00:00, 44.4Mb/s]\n",
      "100%|█████████████████████████████████████▉| 67.5M/67.5M [00:02<00:00, 31.2Mb/s]\n",
      "100%|█████████████████████████████████████▉| 67.5M/67.5M [00:01<00:00, 35.0Mb/s]\n",
      "100%|█████████████████████████████████████▉| 67.5M/67.5M [00:01<00:00, 40.8Mb/s]\n",
      "100%|█████████████████████████████████████▉| 67.5M/67.5M [00:01<00:00, 34.6Mb/s]\n",
      "100%|█████████████████████████████████████▉| 67.5M/67.5M [00:02<00:00, 23.1Mb/s]\n",
      "100%|█████████████████████████████████████▉| 67.5M/67.5M [00:01<00:00, 46.8Mb/s]\n",
      "100%|█████████████████████████████████████▉| 67.5M/67.5M [00:02<00:00, 29.3Mb/s]\n",
      "100%|█████████████████████████████████████▉| 67.5M/67.5M [00:01<00:00, 49.4Mb/s]\n",
      "100%|█████████████████████████████████████▉| 67.5M/67.5M [00:01<00:00, 36.2Mb/s]\n",
      "100%|█████████████████████████████████████▉| 67.5M/67.5M [00:01<00:00, 48.6Mb/s]\n",
      "100%|█████████████████████████████████████▉| 67.5M/67.5M [00:01<00:00, 49.1Mb/s]\n",
      "100%|█████████████████████████████████████▉| 67.5M/67.5M [00:02<00:00, 27.7Mb/s]\n"
     ]
    },
    {
     "data": {
      "text/plain": [
       "[None,\n",
       " None,\n",
       " None,\n",
       " None,\n",
       " None,\n",
       " None,\n",
       " None,\n",
       " None,\n",
       " None,\n",
       " None,\n",
       " None,\n",
       " None,\n",
       " None,\n",
       " None,\n",
       " None,\n",
       " None,\n",
       " None,\n",
       " None,\n",
       " None,\n",
       " None,\n",
       " None,\n",
       " None,\n",
       " None,\n",
       " None,\n",
       " None,\n",
       " None,\n",
       " None,\n",
       " None,\n",
       " None,\n",
       " None,\n",
       " None,\n",
       " None,\n",
       " None,\n",
       " None,\n",
       " None,\n",
       " None,\n",
       " None,\n",
       " None,\n",
       " None,\n",
       " None]"
      ]
     },
     "execution_count": 26,
     "metadata": {},
     "output_type": "execute_result"
    }
   ],
   "source": [
    "[sftp.get(remotepath=p_r, localpath=str(Path(directory_local_save) / date / Path(p_r).name)) for p_r, date in zip(paths_files_remote, dates_files_remote)]"
   ]
  },
  {
   "cell_type": "markdown",
   "id": "aa9efe38-41ed-4978-beff-6a0abbf7a3ea",
   "metadata": {},
   "source": [
    "# Download camera CSV files"
   ]
  },
  {
   "cell_type": "code",
   "execution_count": 27,
   "id": "b2dabe8c-c962-4726-a0aa-4b2d51675df4",
   "metadata": {},
   "outputs": [
    {
     "name": "stdout",
     "output_type": "stream",
     "text": [
      "/n/files/Neurobio/MICROSCOPE/Gyu/BMI_data/cage_0403/mouse_0403L/20230804/camera_data/exp/cam4/times_cam42023-08-04T12_06_21.csv\n",
      "/n/files/Neurobio/MICROSCOPE/Gyu/BMI_data/cage_0403/mouse_0403L/20230726/camera_data/exp/cam4/times_cam42023-07-26T11_49_44.csv\n",
      "/n/files/Neurobio/MICROSCOPE/Gyu/BMI_data/cage_0403/mouse_0403L/20230708/camera_data/exp/cam4/times_cam42023-07-08T10_28_33.csv\n",
      "/n/files/Neurobio/MICROSCOPE/Gyu/BMI_data/cage_0403/mouse_0403L/20230808/camera_data/exp/cam4/times_cam42023-08-08T13_36_08.csv\n",
      "/n/files/Neurobio/MICROSCOPE/Gyu/BMI_data/cage_0403/mouse_0403L/20230711/camera_data/exp/cam4/times_cam42023-07-11T10_48_34.csv\n",
      "/n/files/Neurobio/MICROSCOPE/Gyu/BMI_data/cage_0403/mouse_0403L/20230725/camera_data/exp/cam4/times_cam42023-07-25T11_19_04.csv\n",
      "/n/files/Neurobio/MICROSCOPE/Gyu/BMI_data/cage_0403/mouse_0403L/20230721/camera_data/exp/cam4/times_cam42023-07-21T11_21_03.csv\n",
      "/n/files/Neurobio/MICROSCOPE/Gyu/BMI_data/cage_0403/mouse_0403L/20230722/camera_data/exp/cam4/times_cam42023-07-22T10_31_49.csv\n",
      "/n/files/Neurobio/MICROSCOPE/Gyu/BMI_data/cage_0403/mouse_0403L/20230717/camera_data/exp/cam4/times_cam42023-07-17T10_33_46.csv\n",
      "/n/files/Neurobio/MICROSCOPE/Gyu/BMI_data/cage_0403/mouse_0403L/20230806/camera_data/exp/cam4/times_cam42023-08-06T13_36_27.csv\n",
      "/n/files/Neurobio/MICROSCOPE/Gyu/BMI_data/cage_0403/mouse_0403L/20230718/camera_data/exp/cam4/times_cam42023-07-18T10_16_19.csv\n",
      "/n/files/Neurobio/MICROSCOPE/Gyu/BMI_data/cage_0403/mouse_0403L/20230709/camera_data/exp/cam4/times_cam42023-07-09T10_22_38.csv\n",
      "/n/files/Neurobio/MICROSCOPE/Gyu/BMI_data/cage_0403/mouse_0403L/20230713/camera_data/exp/cam4/times_cam42023-07-13T10_26_06.csv\n",
      "/n/files/Neurobio/MICROSCOPE/Gyu/BMI_data/cage_0403/mouse_0403L/20230727/camera_data/exp/cam4/times_cam42023-07-27T11_48_33.csv\n",
      "/n/files/Neurobio/MICROSCOPE/Gyu/BMI_data/cage_0403/mouse_0403L/20230728/camera_data/exp/cam4/times_cam42023-07-28T12_10_17.csv\n",
      "/n/files/Neurobio/MICROSCOPE/Gyu/BMI_data/cage_0403/mouse_0403L/20230703/camera_data/exp/cam4/times_cam42023-07-03T09_49_20.csv\n",
      "/n/files/Neurobio/MICROSCOPE/Gyu/BMI_data/cage_0403/mouse_0403L/20230801/camera_data/exp/cam4/times_cam42023-08-01T11_34_58.csv\n",
      "/n/files/Neurobio/MICROSCOPE/Gyu/BMI_data/cage_0403/mouse_0403L/20230731/camera_data/exp/cam4/times_cam42023-07-31T11_41_19.csv\n",
      "/n/files/Neurobio/MICROSCOPE/Gyu/BMI_data/cage_0403/mouse_0403L/20230724/camera_data/exp/cam4/times_cam42023-07-24T10_50_52.csv\n",
      "/n/files/Neurobio/MICROSCOPE/Gyu/BMI_data/cage_0403/mouse_0403L/20230710/camera_data/exp/cam4/times_cam42023-07-10T10_46_20.csv\n",
      "/n/files/Neurobio/MICROSCOPE/Gyu/BMI_data/cage_0403/mouse_0403L/20230723/camera_data/exp/cam4/times_cam42023-07-23T10_44_37.csv\n",
      "/n/files/Neurobio/MICROSCOPE/Gyu/BMI_data/cage_0403/mouse_0403L/20230716/camera_data/exp/cam4/times_cam42023-07-16T10_13_49.csv\n",
      "/n/files/Neurobio/MICROSCOPE/Gyu/BMI_data/cage_0403/mouse_0403L/20230705/camera_data/exp/cam4/times_cam42023-07-05T12_45_33.csv\n",
      "/n/files/Neurobio/MICROSCOPE/Gyu/BMI_data/cage_0403/mouse_0403L/20230720/camera_data/exp/cam4/times_cam42023-07-20T10_38_17.csv\n",
      "/n/files/Neurobio/MICROSCOPE/Gyu/BMI_data/cage_0403/mouse_0403L/20230707/camera_data/exp/cam4/times_cam42023-07-07T10_15_25.csv\n",
      "/n/files/Neurobio/MICROSCOPE/Gyu/BMI_data/cage_0403/mouse_0403L/20230719/camera_data/exp/cam4/times_cam42023-07-19T10_11_01.csv\n",
      "/n/files/Neurobio/MICROSCOPE/Gyu/BMI_data/cage_0403/mouse_0403L/20230811/camera_data/exp/cam4/times_cam42023-08-11T12_38_36.csv\n",
      "/n/files/Neurobio/MICROSCOPE/Gyu/BMI_data/cage_0403/mouse_0403L/20230802/camera_data/exp/cam4/times_cam42023-08-02T11_42_58.csv\n",
      "/n/files/Neurobio/MICROSCOPE/Gyu/BMI_data/cage_0403/mouse_0403L/20230715/camera_data/exp/cam4/times_cam42023-07-15T10_59_35.csv\n",
      "/n/files/Neurobio/MICROSCOPE/Gyu/BMI_data/cage_0403/mouse_0403L/20230730/camera_data/exp/cam4/times_cam42023-07-30T11_53_14.csv\n",
      "/n/files/Neurobio/MICROSCOPE/Gyu/BMI_data/cage_0403/mouse_0403L/20230809/camera_data/exp/cam4/times_cam42023-08-09T11_53_04.csv\n",
      "/n/files/Neurobio/MICROSCOPE/Gyu/BMI_data/cage_0403/mouse_0403L/20230805/camera_data/exp/cam4/times_cam42023-08-05T13_21_51.csv\n",
      "/n/files/Neurobio/MICROSCOPE/Gyu/BMI_data/cage_0403/mouse_0403L/20230706/camera_data/exp/cam4/times_cam42023-07-06T11_48_27.csv\n",
      "/n/files/Neurobio/MICROSCOPE/Gyu/BMI_data/cage_0403/mouse_0403L/20230807/camera_data/exp/cam4/times_cam42023-08-07T12_12_08.csv\n",
      "/n/files/Neurobio/MICROSCOPE/Gyu/BMI_data/cage_0403/mouse_0403L/20230803/camera_data/exp/cam4/times_cam42023-08-03T12_08_29.csv\n",
      "/n/files/Neurobio/MICROSCOPE/Gyu/BMI_data/cage_0403/mouse_0403L/20230712/camera_data/exp/cam4/times_cam42023-07-12T10_29_25.csv\n",
      "/n/files/Neurobio/MICROSCOPE/Gyu/BMI_data/cage_0403/mouse_0403L/20230714/camera_data/exp/cam4/times_cam42023-07-14T10_11_14.csv\n",
      "/n/files/Neurobio/MICROSCOPE/Gyu/BMI_data/cage_0403/mouse_0403L/20230729/camera_data/exp/cam4/times_cam42023-07-29T12_21_10.csv\n"
     ]
    }
   ],
   "source": [
    "paths_csvs_remote = sftp.search_recursive(\n",
    "    path=r'/n/files/Neurobio/MICROSCOPE/Gyu/BMI_data/cage_0403/mouse_0403L/',\n",
    "    search_pattern_re=r'.*cam4.*csv',\n",
    "    max_depth=6,\n",
    "    find_files=True,\n",
    "    find_folders=False,\n",
    "    verbose=True,\n",
    ")\n",
    "\n",
    "paths_csvs_remote = natsort.natsorted(paths_csvs_remote)"
   ]
  },
  {
   "cell_type": "code",
   "execution_count": 28,
   "id": "e7a5181b-8b14-49ca-ba45-253faf7d465e",
   "metadata": {},
   "outputs": [],
   "source": [
    "dates_csvs_remote = [Path(p).parent.parent.parent.parent.name for p in paths_csvs_remote]"
   ]
  },
  {
   "cell_type": "code",
   "execution_count": 29,
   "id": "1455ee50-9279-4260-adef-dd09126cf0eb",
   "metadata": {},
   "outputs": [],
   "source": [
    "directory_local_save = r'/media/rich/bigSSD/analysis_data/face_rhythm/mouse_0403L/cam4_CSVs/'"
   ]
  },
  {
   "cell_type": "code",
   "execution_count": 30,
   "id": "cb52e5f9-7d9e-4330-90cd-d88b0e7122ef",
   "metadata": {},
   "outputs": [
    {
     "name": "stderr",
     "output_type": "stream",
     "text": [
      "100%|█████████████████████████████████████▉| 31.1M/31.1M [00:00<00:00, 44.8Mb/s]\n",
      "100%|█████████████████████████████████████▉| 31.2M/31.2M [00:00<00:00, 48.7Mb/s]\n",
      "100%|█████████████████████████████████████▉| 33.1M/33.2M [00:00<00:00, 52.5Mb/s]\n",
      "100%|█████████████████████████████████████▉| 31.1M/31.1M [00:00<00:00, 46.9Mb/s]\n",
      "100%|█████████████████████████████████████▉| 31.1M/31.2M [00:00<00:00, 39.0Mb/s]\n",
      "100%|█████████████████████████████████████▉| 31.2M/31.2M [00:00<00:00, 37.6Mb/s]\n",
      "100%|█████████████████████████████████████▉| 31.1M/31.1M [00:00<00:00, 47.9Mb/s]\n",
      "100%|█████████████████████████████████████▉| 31.1M/31.1M [00:00<00:00, 44.7Mb/s]\n",
      "100%|█████████████████████████████████████▉| 31.1M/31.1M [00:00<00:00, 45.5Mb/s]\n",
      "100%|█████████████████████████████████████▉| 31.2M/31.2M [00:00<00:00, 45.4Mb/s]\n",
      "100%|█████████████████████████████████████▉| 31.0M/31.1M [00:00<00:00, 44.0Mb/s]\n",
      "100%|█████████████████████████████████████▉| 31.1M/31.1M [00:00<00:00, 46.1Mb/s]\n",
      "100%|█████████████████████████████████████▉| 31.1M/31.1M [00:00<00:00, 44.8Mb/s]\n",
      "100%|█████████████████████████████████████▉| 31.2M/31.2M [00:00<00:00, 45.6Mb/s]\n",
      "100%|█████████████████████████████████████▉| 31.0M/31.1M [00:00<00:00, 44.9Mb/s]\n",
      "100%|█████████████████████████████████████▉| 31.1M/31.1M [00:00<00:00, 37.9Mb/s]\n",
      "100%|█████████████████████████████████████▉| 31.1M/31.1M [00:00<00:00, 41.5Mb/s]\n",
      "100%|█████████████████████████████████████▉| 31.1M/31.1M [00:00<00:00, 38.6Mb/s]\n",
      "100%|█████████████████████████████████████▉| 31.6M/31.6M [00:00<00:00, 34.3Mb/s]\n",
      "100%|█████████████████████████████████████▉| 31.1M/31.1M [00:00<00:00, 35.6Mb/s]\n",
      "100%|█████████████████████████████████████▉| 34.0M/34.0M [00:00<00:00, 45.6Mb/s]\n",
      "100%|█████████████████████████████████████▉| 41.5M/41.5M [00:00<00:00, 44.7Mb/s]\n",
      "100%|█████████████████████████████████████▉| 39.8M/39.8M [00:01<00:00, 38.0Mb/s]\n",
      "100%|█████████████████████████████████████▉| 41.4M/41.4M [00:00<00:00, 44.2Mb/s]\n",
      "100%|█████████████████████████████████████▉| 40.4M/40.4M [00:00<00:00, 47.3Mb/s]\n",
      "100%|█████████████████████████████████████▉| 40.2M/40.3M [00:00<00:00, 49.4Mb/s]\n",
      "100%|█████████████████████████████████████▉| 40.3M/40.4M [00:00<00:00, 49.5Mb/s]\n",
      "100%|█████████████████████████████████████▉| 40.2M/40.2M [00:00<00:00, 44.7Mb/s]\n",
      "100%|█████████████████████████████████████▉| 40.6M/40.6M [00:00<00:00, 43.7Mb/s]\n",
      "100%|█████████████████████████████████████▉| 40.2M/40.2M [00:00<00:00, 49.5Mb/s]\n",
      "100%|█████████████████████████████████████▉| 40.2M/40.2M [00:00<00:00, 45.3Mb/s]\n",
      "100%|█████████████████████████████████████▉| 40.2M/40.2M [00:00<00:00, 47.8Mb/s]\n",
      "100%|█████████████████████████████████████▉| 40.7M/40.7M [00:00<00:00, 47.1Mb/s]\n",
      "100%|█████████████████████████████████████▉| 40.8M/40.8M [00:00<00:00, 45.4Mb/s]\n",
      "100%|█████████████████████████████████████▉| 41.1M/41.1M [00:00<00:00, 45.2Mb/s]\n",
      "100%|█████████████████████████████████████▉| 40.8M/40.8M [00:00<00:00, 45.0Mb/s]\n",
      "100%|█████████████████████████████████████▉| 40.8M/40.8M [00:00<00:00, 45.7Mb/s]\n",
      "100%|█████████████████████████████████████▉| 40.8M/40.8M [00:00<00:00, 46.5Mb/s]\n"
     ]
    },
    {
     "data": {
      "text/plain": [
       "[None,\n",
       " None,\n",
       " None,\n",
       " None,\n",
       " None,\n",
       " None,\n",
       " None,\n",
       " None,\n",
       " None,\n",
       " None,\n",
       " None,\n",
       " None,\n",
       " None,\n",
       " None,\n",
       " None,\n",
       " None,\n",
       " None,\n",
       " None,\n",
       " None,\n",
       " None,\n",
       " None,\n",
       " None,\n",
       " None,\n",
       " None,\n",
       " None,\n",
       " None,\n",
       " None,\n",
       " None,\n",
       " None,\n",
       " None,\n",
       " None,\n",
       " None,\n",
       " None,\n",
       " None,\n",
       " None,\n",
       " None,\n",
       " None,\n",
       " None]"
      ]
     },
     "execution_count": 30,
     "metadata": {},
     "output_type": "execute_result"
    }
   ],
   "source": [
    "[sftp.get(remotepath=p_r, localpath=str(Path(directory_local_save) / date / Path(p_r).name)) for p_r, date in zip(paths_csvs_remote, dates_csvs_remote)];"
   ]
  },
  {
   "cell_type": "code",
   "execution_count": null,
   "id": "77ee13e0-0f67-4162-b679-2f3b824dae85",
   "metadata": {},
   "outputs": [],
   "source": []
  },
  {
   "cell_type": "markdown",
   "id": "0289626a-4cfc-4497-a27f-0c3bcac4d507",
   "metadata": {},
   "source": [
    "# Download face-rhythm files"
   ]
  },
  {
   "cell_type": "code",
   "execution_count": 42,
   "id": "7d53c9cf-9aa2-402d-bd6f-a93a63da3d84",
   "metadata": {},
   "outputs": [
    {
     "name": "stdout",
     "output_type": "stream",
     "text": [
      "/n/data1/hms/neurobio/sabatini/rich/analysis/faceRhythm/mouse_0403L/run_20230903/20230804/jobNum_0/analysis_files/VQT_Analyzer.h5\n",
      "/n/data1/hms/neurobio/sabatini/rich/analysis/faceRhythm/mouse_0403L/run_20230903/20230726/jobNum_0/analysis_files/VQT_Analyzer.h5\n",
      "/n/data1/hms/neurobio/sabatini/rich/analysis/faceRhythm/mouse_0403L/run_20230903/20230708/jobNum_0/analysis_files/VQT_Analyzer.h5\n",
      "/n/data1/hms/neurobio/sabatini/rich/analysis/faceRhythm/mouse_0403L/run_20230903/20230808/jobNum_0/analysis_files/VQT_Analyzer.h5\n",
      "/n/data1/hms/neurobio/sabatini/rich/analysis/faceRhythm/mouse_0403L/run_20230903/20230711/jobNum_0/analysis_files/VQT_Analyzer.h5\n",
      "/n/data1/hms/neurobio/sabatini/rich/analysis/faceRhythm/mouse_0403L/run_20230903/20230725/jobNum_0/analysis_files/VQT_Analyzer.h5\n",
      "/n/data1/hms/neurobio/sabatini/rich/analysis/faceRhythm/mouse_0403L/run_20230903/20230721/jobNum_0/analysis_files/VQT_Analyzer.h5\n",
      "/n/data1/hms/neurobio/sabatini/rich/analysis/faceRhythm/mouse_0403L/run_20230903/20230722/jobNum_0/analysis_files/VQT_Analyzer.h5\n",
      "/n/data1/hms/neurobio/sabatini/rich/analysis/faceRhythm/mouse_0403L/run_20230903/20230717/jobNum_0/analysis_files/VQT_Analyzer.h5\n",
      "/n/data1/hms/neurobio/sabatini/rich/analysis/faceRhythm/mouse_0403L/run_20230903/20230806/jobNum_0/analysis_files/VQT_Analyzer.h5\n",
      "/n/data1/hms/neurobio/sabatini/rich/analysis/faceRhythm/mouse_0403L/run_20230903/20230718/jobNum_0/analysis_files/VQT_Analyzer.h5\n",
      "/n/data1/hms/neurobio/sabatini/rich/analysis/faceRhythm/mouse_0403L/run_20230903/20230709/jobNum_0/analysis_files/VQT_Analyzer.h5\n",
      "/n/data1/hms/neurobio/sabatini/rich/analysis/faceRhythm/mouse_0403L/run_20230903/20230713/jobNum_0/analysis_files/VQT_Analyzer.h5\n",
      "/n/data1/hms/neurobio/sabatini/rich/analysis/faceRhythm/mouse_0403L/run_20230903/20230727/jobNum_0/analysis_files/VQT_Analyzer.h5\n",
      "/n/data1/hms/neurobio/sabatini/rich/analysis/faceRhythm/mouse_0403L/run_20230903/20230728/jobNum_0/analysis_files/VQT_Analyzer.h5\n",
      "/n/data1/hms/neurobio/sabatini/rich/analysis/faceRhythm/mouse_0403L/run_20230903/20230703/jobNum_0/analysis_files/VQT_Analyzer.h5\n",
      "/n/data1/hms/neurobio/sabatini/rich/analysis/faceRhythm/mouse_0403L/run_20230903/20230801/jobNum_0/analysis_files/VQT_Analyzer.h5\n",
      "/n/data1/hms/neurobio/sabatini/rich/analysis/faceRhythm/mouse_0403L/run_20230903/20230731/jobNum_0/analysis_files/VQT_Analyzer.h5\n",
      "/n/data1/hms/neurobio/sabatini/rich/analysis/faceRhythm/mouse_0403L/run_20230903/20230724/jobNum_0/analysis_files/VQT_Analyzer.h5\n",
      "/n/data1/hms/neurobio/sabatini/rich/analysis/faceRhythm/mouse_0403L/run_20230903/20230710/jobNum_0/analysis_files/VQT_Analyzer.h5\n",
      "/n/data1/hms/neurobio/sabatini/rich/analysis/faceRhythm/mouse_0403L/run_20230903/20230723/jobNum_0/analysis_files/VQT_Analyzer.h5\n",
      "/n/data1/hms/neurobio/sabatini/rich/analysis/faceRhythm/mouse_0403L/run_20230903/20230716/jobNum_0/analysis_files/VQT_Analyzer.h5\n",
      "/n/data1/hms/neurobio/sabatini/rich/analysis/faceRhythm/mouse_0403L/run_20230903/20230705/jobNum_0/analysis_files/VQT_Analyzer.h5\n",
      "/n/data1/hms/neurobio/sabatini/rich/analysis/faceRhythm/mouse_0403L/run_20230903/20230720/jobNum_0/analysis_files/VQT_Analyzer.h5\n",
      "/n/data1/hms/neurobio/sabatini/rich/analysis/faceRhythm/mouse_0403L/run_20230903/20230707/jobNum_0/analysis_files/VQT_Analyzer.h5\n",
      "/n/data1/hms/neurobio/sabatini/rich/analysis/faceRhythm/mouse_0403L/run_20230903/20230719/jobNum_0/analysis_files/VQT_Analyzer.h5\n",
      "/n/data1/hms/neurobio/sabatini/rich/analysis/faceRhythm/mouse_0403L/run_20230903/20230811/jobNum_0/analysis_files/VQT_Analyzer.h5\n",
      "/n/data1/hms/neurobio/sabatini/rich/analysis/faceRhythm/mouse_0403L/run_20230903/20230802/jobNum_0/analysis_files/VQT_Analyzer.h5\n",
      "/n/data1/hms/neurobio/sabatini/rich/analysis/faceRhythm/mouse_0403L/run_20230903/20230715/jobNum_0/analysis_files/VQT_Analyzer.h5\n",
      "/n/data1/hms/neurobio/sabatini/rich/analysis/faceRhythm/mouse_0403L/run_20230903/20230730/jobNum_0/analysis_files/VQT_Analyzer.h5\n",
      "/n/data1/hms/neurobio/sabatini/rich/analysis/faceRhythm/mouse_0403L/run_20230903/20230809/jobNum_0/analysis_files/VQT_Analyzer.h5\n",
      "/n/data1/hms/neurobio/sabatini/rich/analysis/faceRhythm/mouse_0403L/run_20230903/20230805/jobNum_0/analysis_files/VQT_Analyzer.h5\n",
      "/n/data1/hms/neurobio/sabatini/rich/analysis/faceRhythm/mouse_0403L/run_20230903/20230706/jobNum_0/analysis_files/VQT_Analyzer.h5\n",
      "/n/data1/hms/neurobio/sabatini/rich/analysis/faceRhythm/mouse_0403L/run_20230903/20230807/jobNum_0/analysis_files/VQT_Analyzer.h5\n",
      "/n/data1/hms/neurobio/sabatini/rich/analysis/faceRhythm/mouse_0403L/run_20230903/20230803/jobNum_0/analysis_files/VQT_Analyzer.h5\n",
      "/n/data1/hms/neurobio/sabatini/rich/analysis/faceRhythm/mouse_0403L/run_20230903/20230712/jobNum_0/analysis_files/VQT_Analyzer.h5\n",
      "/n/data1/hms/neurobio/sabatini/rich/analysis/faceRhythm/mouse_0403L/run_20230903/20230714/jobNum_0/analysis_files/VQT_Analyzer.h5\n",
      "/n/data1/hms/neurobio/sabatini/rich/analysis/faceRhythm/mouse_0403L/run_20230903/20230729/jobNum_0/analysis_files/VQT_Analyzer.h5\n"
     ]
    }
   ],
   "source": [
    "paths_fr_remote = natsort.natsorted(sftp.search_recursive(\n",
    "    path=r'/n/data1/hms/neurobio/sabatini/rich/analysis/faceRhythm/mouse_0403L/run_20230903',\n",
    "    search_pattern_re=r'VQT_Analyzer.h5',\n",
    "    max_depth=6,\n",
    "    find_files=True,\n",
    "    find_folders=False,\n",
    "    verbose=True,\n",
    "))"
   ]
  },
  {
   "cell_type": "code",
   "execution_count": 32,
   "id": "344c757b-f0ec-4f66-9b10-52f735842a0b",
   "metadata": {},
   "outputs": [
    {
     "data": {
      "text/plain": [
       "['20230703',\n",
       " '20230705',\n",
       " '20230706',\n",
       " '20230707',\n",
       " '20230708',\n",
       " '20230709',\n",
       " '20230710',\n",
       " '20230711',\n",
       " '20230712',\n",
       " '20230713',\n",
       " '20230714',\n",
       " '20230715',\n",
       " '20230716',\n",
       " '20230717',\n",
       " '20230718',\n",
       " '20230719',\n",
       " '20230720',\n",
       " '20230721',\n",
       " '20230722',\n",
       " '20230723',\n",
       " '20230724']"
      ]
     },
     "execution_count": 32,
     "metadata": {},
     "output_type": "execute_result"
    }
   ],
   "source": [
    "dates_fr_remote = [Path(p).parts[-4] for p in paths_fr_remote]\n",
    "dates_fr_remote"
   ]
  },
  {
   "cell_type": "code",
   "execution_count": 33,
   "id": "ab7e4b5f-5631-41c6-a869-1bb8a8976a4f",
   "metadata": {},
   "outputs": [
    {
     "data": {
      "text/plain": [
       "['/n/data1/hms/neurobio/sabatini/rich/analysis/faceRhythm/mouse_0403L/run_20230903/20230703',\n",
       " '/n/data1/hms/neurobio/sabatini/rich/analysis/faceRhythm/mouse_0403L/run_20230903/20230705',\n",
       " '/n/data1/hms/neurobio/sabatini/rich/analysis/faceRhythm/mouse_0403L/run_20230903/20230706',\n",
       " '/n/data1/hms/neurobio/sabatini/rich/analysis/faceRhythm/mouse_0403L/run_20230903/20230707',\n",
       " '/n/data1/hms/neurobio/sabatini/rich/analysis/faceRhythm/mouse_0403L/run_20230903/20230708',\n",
       " '/n/data1/hms/neurobio/sabatini/rich/analysis/faceRhythm/mouse_0403L/run_20230903/20230709',\n",
       " '/n/data1/hms/neurobio/sabatini/rich/analysis/faceRhythm/mouse_0403L/run_20230903/20230710',\n",
       " '/n/data1/hms/neurobio/sabatini/rich/analysis/faceRhythm/mouse_0403L/run_20230903/20230711',\n",
       " '/n/data1/hms/neurobio/sabatini/rich/analysis/faceRhythm/mouse_0403L/run_20230903/20230712',\n",
       " '/n/data1/hms/neurobio/sabatini/rich/analysis/faceRhythm/mouse_0403L/run_20230903/20230713',\n",
       " '/n/data1/hms/neurobio/sabatini/rich/analysis/faceRhythm/mouse_0403L/run_20230903/20230714',\n",
       " '/n/data1/hms/neurobio/sabatini/rich/analysis/faceRhythm/mouse_0403L/run_20230903/20230715',\n",
       " '/n/data1/hms/neurobio/sabatini/rich/analysis/faceRhythm/mouse_0403L/run_20230903/20230716',\n",
       " '/n/data1/hms/neurobio/sabatini/rich/analysis/faceRhythm/mouse_0403L/run_20230903/20230717',\n",
       " '/n/data1/hms/neurobio/sabatini/rich/analysis/faceRhythm/mouse_0403L/run_20230903/20230718',\n",
       " '/n/data1/hms/neurobio/sabatini/rich/analysis/faceRhythm/mouse_0403L/run_20230903/20230719',\n",
       " '/n/data1/hms/neurobio/sabatini/rich/analysis/faceRhythm/mouse_0403L/run_20230903/20230720',\n",
       " '/n/data1/hms/neurobio/sabatini/rich/analysis/faceRhythm/mouse_0403L/run_20230903/20230721',\n",
       " '/n/data1/hms/neurobio/sabatini/rich/analysis/faceRhythm/mouse_0403L/run_20230903/20230722',\n",
       " '/n/data1/hms/neurobio/sabatini/rich/analysis/faceRhythm/mouse_0403L/run_20230903/20230723',\n",
       " '/n/data1/hms/neurobio/sabatini/rich/analysis/faceRhythm/mouse_0403L/run_20230903/20230724']"
      ]
     },
     "execution_count": 33,
     "metadata": {},
     "output_type": "execute_result"
    }
   ],
   "source": [
    "dirsToDownload_fr_remote = [str(Path(p).parent.parent.parent) for p in paths_fr_remote]\n",
    "dirsToDownload_fr_remote"
   ]
  },
  {
   "cell_type": "code",
   "execution_count": 43,
   "id": "a2557c05-177d-4ded-8afc-882153e073a1",
   "metadata": {},
   "outputs": [],
   "source": [
    "directory_local_save = r'/media/rich/bigSSD/analysis_data/face_rhythm/mouse_0403L/fr_run/run_20230903'"
   ]
  },
  {
   "cell_type": "code",
   "execution_count": 44,
   "id": "10d275ff-3f60-4cfe-830b-c1990b029bd4",
   "metadata": {},
   "outputs": [
    {
     "data": {
      "text/plain": [
       "'/media/rich/bigSSD/analysis_data/face_rhythm/mouse_0403L/fr_run/run_20230903'"
      ]
     },
     "execution_count": 44,
     "metadata": {},
     "output_type": "execute_result"
    }
   ],
   "source": [
    "directory_local_save"
   ]
  },
  {
   "cell_type": "code",
   "execution_count": 45,
   "id": "4ee64ebf-4908-4571-864b-f97e84d4f4db",
   "metadata": {
    "scrolled": true
   },
   "outputs": [
    {
     "name": "stdout",
     "output_type": "stream",
     "text": [
      "downloading /n/data1/hms/neurobio/sabatini/rich/analysis/faceRhythm/mouse_0403L/run_20230903/20230804/parameters_batch.json   to   /media/rich/bigSSD/analysis_data/face_rhythm/mouse_0403L/fr_run/run_20230903/20230804/parameters_batch.json\n"
     ]
    },
    {
     "name": "stderr",
     "output_type": "stream",
     "text": [
      "0.00b [00:00, ?b/s]\n"
     ]
    },
    {
     "name": "stdout",
     "output_type": "stream",
     "text": [
      "downloading /n/data1/hms/neurobio/sabatini/rich/analysis/faceRhythm/mouse_0403L/run_20230903/20230804/jobNum_0/params.json   to   /media/rich/bigSSD/analysis_data/face_rhythm/mouse_0403L/fr_run/run_20230903/20230804/jobNum_0/params.json\n"
     ]
    },
    {
     "name": "stderr",
     "output_type": "stream",
     "text": [
      "0.00b [00:00, ?b/s]\n"
     ]
    },
    {
     "name": "stdout",
     "output_type": "stream",
     "text": [
      "downloading /n/data1/hms/neurobio/sabatini/rich/analysis/faceRhythm/mouse_0403L/run_20230903/20230804/jobNum_0/config.yaml   to   /media/rich/bigSSD/analysis_data/face_rhythm/mouse_0403L/fr_run/run_20230903/20230804/jobNum_0/config.yaml\n"
     ]
    },
    {
     "name": "stderr",
     "output_type": "stream",
     "text": [
      "0.00b [00:00, ?b/s]\n"
     ]
    },
    {
     "name": "stdout",
     "output_type": "stream",
     "text": [
      "downloading /n/data1/hms/neurobio/sabatini/rich/analysis/faceRhythm/mouse_0403L/run_20230903/20230804/jobNum_0/print_log_16850875.log   to   /media/rich/bigSSD/analysis_data/face_rhythm/mouse_0403L/fr_run/run_20230903/20230804/jobNum_0/print_log_16850875.log\n"
     ]
    },
    {
     "name": "stderr",
     "output_type": "stream",
     "text": [
      "0.00b [00:00, ?b/s]\n"
     ]
    },
    {
     "name": "stdout",
     "output_type": "stream",
     "text": [
      "downloading /n/data1/hms/neurobio/sabatini/rich/analysis/faceRhythm/mouse_0403L/run_20230903/20230804/jobNum_0/cpu_tracker.csv   to   /media/rich/bigSSD/analysis_data/face_rhythm/mouse_0403L/fr_run/run_20230903/20230804/jobNum_0/cpu_tracker.csv\n"
     ]
    },
    {
     "name": "stderr",
     "output_type": "stream",
     "text": [
      "0.00b [00:00, ?b/s]\n"
     ]
    },
    {
     "name": "stdout",
     "output_type": "stream",
     "text": [
      "downloading /n/data1/hms/neurobio/sabatini/rich/analysis/faceRhythm/mouse_0403L/run_20230903/20230804/jobNum_0/analysis_files/ROIs.h5   to   /media/rich/bigSSD/analysis_data/face_rhythm/mouse_0403L/fr_run/run_20230903/20230804/jobNum_0/analysis_files/ROIs.h5\n"
     ]
    },
    {
     "name": "stderr",
     "output_type": "stream",
     "text": [
      "0.00b [00:00, ?b/s]\n"
     ]
    },
    {
     "name": "stdout",
     "output_type": "stream",
     "text": [
      "downloading /n/data1/hms/neurobio/sabatini/rich/analysis/faceRhythm/mouse_0403L/run_20230903/20230804/jobNum_0/analysis_files/TCA.h5   to   /media/rich/bigSSD/analysis_data/face_rhythm/mouse_0403L/fr_run/run_20230903/20230804/jobNum_0/analysis_files/TCA.h5\n"
     ]
    },
    {
     "name": "stderr",
     "output_type": "stream",
     "text": [
      "0.00b [00:00, ?b/s]\n"
     ]
    },
    {
     "name": "stdout",
     "output_type": "stream",
     "text": [
      "downloading /n/data1/hms/neurobio/sabatini/rich/analysis/faceRhythm/mouse_0403L/run_20230903/20230804/jobNum_0/analysis_files/PointTracker.h5   to   /media/rich/bigSSD/analysis_data/face_rhythm/mouse_0403L/fr_run/run_20230903/20230804/jobNum_0/analysis_files/PointTracker.h5\n"
     ]
    },
    {
     "name": "stderr",
     "output_type": "stream",
     "text": [
      "0.00b [01:30, ?b/s]\n"
     ]
    },
    {
     "name": "stdout",
     "output_type": "stream",
     "text": [
      "downloading /n/data1/hms/neurobio/sabatini/rich/analysis/faceRhythm/mouse_0403L/run_20230903/20230804/jobNum_0/analysis_files/VQT_Analyzer.h5   to   /media/rich/bigSSD/analysis_data/face_rhythm/mouse_0403L/fr_run/run_20230903/20230804/jobNum_0/analysis_files/VQT_Analyzer.h5\n"
     ]
    },
    {
     "name": "stderr",
     "output_type": "stream",
     "text": [
      "0.00b [02:47, ?b/s]\n"
     ]
    },
    {
     "name": "stdout",
     "output_type": "stream",
     "text": [
      "downloading /n/data1/hms/neurobio/sabatini/rich/analysis/faceRhythm/mouse_0403L/run_20230903/20230804/jobNum_0/analysis_files/Dataset_videos.h5   to   /media/rich/bigSSD/analysis_data/face_rhythm/mouse_0403L/fr_run/run_20230903/20230804/jobNum_0/analysis_files/Dataset_videos.h5\n"
     ]
    },
    {
     "name": "stderr",
     "output_type": "stream",
     "text": [
      "0.00b [00:00, ?b/s]\n"
     ]
    },
    {
     "name": "stdout",
     "output_type": "stream",
     "text": [
      "downloading /n/data1/hms/neurobio/sabatini/rich/analysis/faceRhythm/mouse_0403L/run_20230903/20230804/jobNum_0/pipeline_basic.py   to   /media/rich/bigSSD/analysis_data/face_rhythm/mouse_0403L/fr_run/run_20230903/20230804/jobNum_0/pipeline_basic.py\n"
     ]
    },
    {
     "name": "stderr",
     "output_type": "stream",
     "text": [
      "0.00b [00:00, ?b/s]\n"
     ]
    },
    {
     "name": "stdout",
     "output_type": "stream",
     "text": [
      "downloading /n/data1/hms/neurobio/sabatini/rich/analysis/faceRhythm/mouse_0403L/run_20230903/20230804/jobNum_0/print_log_16790825.log   to   /media/rich/bigSSD/analysis_data/face_rhythm/mouse_0403L/fr_run/run_20230903/20230804/jobNum_0/print_log_16790825.log\n"
     ]
    },
    {
     "name": "stderr",
     "output_type": "stream",
     "text": [
      "0.00b [00:00, ?b/s]\n"
     ]
    },
    {
     "name": "stdout",
     "output_type": "stream",
     "text": [
      "downloading /n/data1/hms/neurobio/sabatini/rich/analysis/faceRhythm/mouse_0403L/run_20230903/20230804/jobNum_0/run_info.json   to   /media/rich/bigSSD/analysis_data/face_rhythm/mouse_0403L/fr_run/run_20230903/20230804/jobNum_0/run_info.json\n"
     ]
    },
    {
     "name": "stderr",
     "output_type": "stream",
     "text": [
      "0.00b [00:00, ?b/s]\n"
     ]
    },
    {
     "name": "stdout",
     "output_type": "stream",
     "text": [
      "downloading /n/data1/hms/neurobio/sabatini/rich/analysis/faceRhythm/mouse_0403L/run_20230903/20230804/jobNum_0/sbatch_config.sh   to   /media/rich/bigSSD/analysis_data/face_rhythm/mouse_0403L/fr_run/run_20230903/20230804/jobNum_0/sbatch_config.sh\n"
     ]
    },
    {
     "name": "stderr",
     "output_type": "stream",
     "text": [
      "0.00b [00:00, ?b/s]\n"
     ]
    },
    {
     "name": "stdout",
     "output_type": "stream",
     "text": [
      "downloading /n/data1/hms/neurobio/sabatini/rich/analysis/faceRhythm/mouse_0403L/run_20230903/20230804/pipeline_basic.py   to   /media/rich/bigSSD/analysis_data/face_rhythm/mouse_0403L/fr_run/run_20230903/20230804/pipeline_basic.py\n"
     ]
    },
    {
     "name": "stderr",
     "output_type": "stream",
     "text": [
      "0.00b [00:00, ?b/s]\n"
     ]
    },
    {
     "name": "stdout",
     "output_type": "stream",
     "text": [
      "downloading /n/data1/hms/neurobio/sabatini/rich/analysis/faceRhythm/mouse_0403L/run_20230903/20230804/dispatcher.py   to   /media/rich/bigSSD/analysis_data/face_rhythm/mouse_0403L/fr_run/run_20230903/20230804/dispatcher.py\n"
     ]
    },
    {
     "name": "stderr",
     "output_type": "stream",
     "text": [
      "0.00b [00:00, ?b/s]\n"
     ]
    },
    {
     "name": "stdout",
     "output_type": "stream",
     "text": [
      "downloading /n/data1/hms/neurobio/sabatini/rich/analysis/faceRhythm/mouse_0403L/run_20230903/20230804/notes.txt   to   /media/rich/bigSSD/analysis_data/face_rhythm/mouse_0403L/fr_run/run_20230903/20230804/notes.txt\n"
     ]
    },
    {
     "name": "stderr",
     "output_type": "stream",
     "text": [
      "0.00b [00:00, ?b/s]\n"
     ]
    },
    {
     "name": "stdout",
     "output_type": "stream",
     "text": [
      "downloading /n/data1/hms/neurobio/sabatini/rich/analysis/faceRhythm/mouse_0403L/run_20230903/20230726/parameters_batch.json   to   /media/rich/bigSSD/analysis_data/face_rhythm/mouse_0403L/fr_run/run_20230903/20230726/parameters_batch.json\n"
     ]
    },
    {
     "name": "stderr",
     "output_type": "stream",
     "text": [
      "0.00b [00:00, ?b/s]\n"
     ]
    },
    {
     "name": "stdout",
     "output_type": "stream",
     "text": [
      "downloading /n/data1/hms/neurobio/sabatini/rich/analysis/faceRhythm/mouse_0403L/run_20230903/20230726/jobNum_0/params.json   to   /media/rich/bigSSD/analysis_data/face_rhythm/mouse_0403L/fr_run/run_20230903/20230726/jobNum_0/params.json\n"
     ]
    },
    {
     "name": "stderr",
     "output_type": "stream",
     "text": [
      "0.00b [00:00, ?b/s]\n"
     ]
    },
    {
     "name": "stdout",
     "output_type": "stream",
     "text": [
      "downloading /n/data1/hms/neurobio/sabatini/rich/analysis/faceRhythm/mouse_0403L/run_20230903/20230726/jobNum_0/config.yaml   to   /media/rich/bigSSD/analysis_data/face_rhythm/mouse_0403L/fr_run/run_20230903/20230726/jobNum_0/config.yaml\n"
     ]
    },
    {
     "name": "stderr",
     "output_type": "stream",
     "text": [
      "0.00b [00:00, ?b/s]\n"
     ]
    },
    {
     "name": "stdout",
     "output_type": "stream",
     "text": [
      "downloading /n/data1/hms/neurobio/sabatini/rich/analysis/faceRhythm/mouse_0403L/run_20230903/20230726/jobNum_0/print_log_16790810.log   to   /media/rich/bigSSD/analysis_data/face_rhythm/mouse_0403L/fr_run/run_20230903/20230726/jobNum_0/print_log_16790810.log\n"
     ]
    },
    {
     "name": "stderr",
     "output_type": "stream",
     "text": [
      "0.00b [00:00, ?b/s]\n"
     ]
    },
    {
     "name": "stdout",
     "output_type": "stream",
     "text": [
      "downloading /n/data1/hms/neurobio/sabatini/rich/analysis/faceRhythm/mouse_0403L/run_20230903/20230726/jobNum_0/cpu_tracker.csv   to   /media/rich/bigSSD/analysis_data/face_rhythm/mouse_0403L/fr_run/run_20230903/20230726/jobNum_0/cpu_tracker.csv\n"
     ]
    },
    {
     "name": "stderr",
     "output_type": "stream",
     "text": [
      "0.00b [00:00, ?b/s]\n"
     ]
    },
    {
     "name": "stdout",
     "output_type": "stream",
     "text": [
      "downloading /n/data1/hms/neurobio/sabatini/rich/analysis/faceRhythm/mouse_0403L/run_20230903/20230726/jobNum_0/analysis_files/ROIs.h5   to   /media/rich/bigSSD/analysis_data/face_rhythm/mouse_0403L/fr_run/run_20230903/20230726/jobNum_0/analysis_files/ROIs.h5\n"
     ]
    },
    {
     "name": "stderr",
     "output_type": "stream",
     "text": [
      "0.00b [00:00, ?b/s]\n"
     ]
    },
    {
     "name": "stdout",
     "output_type": "stream",
     "text": [
      "downloading /n/data1/hms/neurobio/sabatini/rich/analysis/faceRhythm/mouse_0403L/run_20230903/20230726/jobNum_0/analysis_files/TCA.h5   to   /media/rich/bigSSD/analysis_data/face_rhythm/mouse_0403L/fr_run/run_20230903/20230726/jobNum_0/analysis_files/TCA.h5\n"
     ]
    },
    {
     "name": "stderr",
     "output_type": "stream",
     "text": [
      "0.00b [00:00, ?b/s]\n"
     ]
    },
    {
     "name": "stdout",
     "output_type": "stream",
     "text": [
      "downloading /n/data1/hms/neurobio/sabatini/rich/analysis/faceRhythm/mouse_0403L/run_20230903/20230726/jobNum_0/analysis_files/PointTracker.h5   to   /media/rich/bigSSD/analysis_data/face_rhythm/mouse_0403L/fr_run/run_20230903/20230726/jobNum_0/analysis_files/PointTracker.h5\n"
     ]
    },
    {
     "name": "stderr",
     "output_type": "stream",
     "text": [
      "0.00b [01:18, ?b/s]\n"
     ]
    },
    {
     "name": "stdout",
     "output_type": "stream",
     "text": [
      "downloading /n/data1/hms/neurobio/sabatini/rich/analysis/faceRhythm/mouse_0403L/run_20230903/20230726/jobNum_0/analysis_files/VQT_Analyzer.h5   to   /media/rich/bigSSD/analysis_data/face_rhythm/mouse_0403L/fr_run/run_20230903/20230726/jobNum_0/analysis_files/VQT_Analyzer.h5\n"
     ]
    },
    {
     "name": "stderr",
     "output_type": "stream",
     "text": [
      "0.00b [02:44, ?b/s]\n"
     ]
    },
    {
     "name": "stdout",
     "output_type": "stream",
     "text": [
      "downloading /n/data1/hms/neurobio/sabatini/rich/analysis/faceRhythm/mouse_0403L/run_20230903/20230726/jobNum_0/analysis_files/Dataset_videos.h5   to   /media/rich/bigSSD/analysis_data/face_rhythm/mouse_0403L/fr_run/run_20230903/20230726/jobNum_0/analysis_files/Dataset_videos.h5\n"
     ]
    },
    {
     "name": "stderr",
     "output_type": "stream",
     "text": [
      "0.00b [00:00, ?b/s]\n"
     ]
    },
    {
     "name": "stdout",
     "output_type": "stream",
     "text": [
      "downloading /n/data1/hms/neurobio/sabatini/rich/analysis/faceRhythm/mouse_0403L/run_20230903/20230726/jobNum_0/pipeline_basic.py   to   /media/rich/bigSSD/analysis_data/face_rhythm/mouse_0403L/fr_run/run_20230903/20230726/jobNum_0/pipeline_basic.py\n"
     ]
    },
    {
     "name": "stderr",
     "output_type": "stream",
     "text": [
      "0.00b [00:00, ?b/s]\n"
     ]
    },
    {
     "name": "stdout",
     "output_type": "stream",
     "text": [
      "downloading /n/data1/hms/neurobio/sabatini/rich/analysis/faceRhythm/mouse_0403L/run_20230903/20230726/jobNum_0/print_log_16850831.log   to   /media/rich/bigSSD/analysis_data/face_rhythm/mouse_0403L/fr_run/run_20230903/20230726/jobNum_0/print_log_16850831.log\n"
     ]
    },
    {
     "name": "stderr",
     "output_type": "stream",
     "text": [
      "0.00b [00:00, ?b/s]\n"
     ]
    },
    {
     "name": "stdout",
     "output_type": "stream",
     "text": [
      "downloading /n/data1/hms/neurobio/sabatini/rich/analysis/faceRhythm/mouse_0403L/run_20230903/20230726/jobNum_0/run_info.json   to   /media/rich/bigSSD/analysis_data/face_rhythm/mouse_0403L/fr_run/run_20230903/20230726/jobNum_0/run_info.json\n"
     ]
    },
    {
     "name": "stderr",
     "output_type": "stream",
     "text": [
      "0.00b [00:00, ?b/s]\n"
     ]
    },
    {
     "name": "stdout",
     "output_type": "stream",
     "text": [
      "downloading /n/data1/hms/neurobio/sabatini/rich/analysis/faceRhythm/mouse_0403L/run_20230903/20230726/jobNum_0/sbatch_config.sh   to   /media/rich/bigSSD/analysis_data/face_rhythm/mouse_0403L/fr_run/run_20230903/20230726/jobNum_0/sbatch_config.sh\n"
     ]
    },
    {
     "name": "stderr",
     "output_type": "stream",
     "text": [
      "0.00b [00:00, ?b/s]\n"
     ]
    },
    {
     "name": "stdout",
     "output_type": "stream",
     "text": [
      "downloading /n/data1/hms/neurobio/sabatini/rich/analysis/faceRhythm/mouse_0403L/run_20230903/20230726/pipeline_basic.py   to   /media/rich/bigSSD/analysis_data/face_rhythm/mouse_0403L/fr_run/run_20230903/20230726/pipeline_basic.py\n"
     ]
    },
    {
     "name": "stderr",
     "output_type": "stream",
     "text": [
      "0.00b [00:00, ?b/s]\n"
     ]
    },
    {
     "name": "stdout",
     "output_type": "stream",
     "text": [
      "downloading /n/data1/hms/neurobio/sabatini/rich/analysis/faceRhythm/mouse_0403L/run_20230903/20230726/dispatcher.py   to   /media/rich/bigSSD/analysis_data/face_rhythm/mouse_0403L/fr_run/run_20230903/20230726/dispatcher.py\n"
     ]
    },
    {
     "name": "stderr",
     "output_type": "stream",
     "text": [
      "0.00b [00:00, ?b/s]\n"
     ]
    },
    {
     "name": "stdout",
     "output_type": "stream",
     "text": [
      "downloading /n/data1/hms/neurobio/sabatini/rich/analysis/faceRhythm/mouse_0403L/run_20230903/20230726/notes.txt   to   /media/rich/bigSSD/analysis_data/face_rhythm/mouse_0403L/fr_run/run_20230903/20230726/notes.txt\n"
     ]
    },
    {
     "name": "stderr",
     "output_type": "stream",
     "text": [
      "0.00b [00:00, ?b/s]\n"
     ]
    },
    {
     "name": "stdout",
     "output_type": "stream",
     "text": [
      "downloading /n/data1/hms/neurobio/sabatini/rich/analysis/faceRhythm/mouse_0403L/run_20230903/20230708/parameters_batch.json   to   /media/rich/bigSSD/analysis_data/face_rhythm/mouse_0403L/fr_run/run_20230903/20230708/parameters_batch.json\n"
     ]
    },
    {
     "name": "stderr",
     "output_type": "stream",
     "text": [
      "0.00b [00:00, ?b/s]\n"
     ]
    },
    {
     "name": "stdout",
     "output_type": "stream",
     "text": [
      "downloading /n/data1/hms/neurobio/sabatini/rich/analysis/faceRhythm/mouse_0403L/run_20230903/20230708/jobNum_0/params.json   to   /media/rich/bigSSD/analysis_data/face_rhythm/mouse_0403L/fr_run/run_20230903/20230708/jobNum_0/params.json\n"
     ]
    },
    {
     "name": "stderr",
     "output_type": "stream",
     "text": [
      "0.00b [00:00, ?b/s]\n"
     ]
    },
    {
     "name": "stdout",
     "output_type": "stream",
     "text": [
      "downloading /n/data1/hms/neurobio/sabatini/rich/analysis/faceRhythm/mouse_0403L/run_20230903/20230708/jobNum_0/config.yaml   to   /media/rich/bigSSD/analysis_data/face_rhythm/mouse_0403L/fr_run/run_20230903/20230708/jobNum_0/config.yaml\n"
     ]
    },
    {
     "name": "stderr",
     "output_type": "stream",
     "text": [
      "0.00b [00:00, ?b/s]\n"
     ]
    },
    {
     "name": "stdout",
     "output_type": "stream",
     "text": [
      "downloading /n/data1/hms/neurobio/sabatini/rich/analysis/faceRhythm/mouse_0403L/run_20230903/20230708/jobNum_0/cpu_tracker.csv   to   /media/rich/bigSSD/analysis_data/face_rhythm/mouse_0403L/fr_run/run_20230903/20230708/jobNum_0/cpu_tracker.csv\n"
     ]
    },
    {
     "name": "stderr",
     "output_type": "stream",
     "text": [
      "0.00b [00:00, ?b/s]\n"
     ]
    },
    {
     "name": "stdout",
     "output_type": "stream",
     "text": [
      "downloading /n/data1/hms/neurobio/sabatini/rich/analysis/faceRhythm/mouse_0403L/run_20230903/20230708/jobNum_0/print_log_16753675.log   to   /media/rich/bigSSD/analysis_data/face_rhythm/mouse_0403L/fr_run/run_20230903/20230708/jobNum_0/print_log_16753675.log\n"
     ]
    },
    {
     "name": "stderr",
     "output_type": "stream",
     "text": [
      "0.00b [00:00, ?b/s]\n"
     ]
    },
    {
     "name": "stdout",
     "output_type": "stream",
     "text": [
      "downloading /n/data1/hms/neurobio/sabatini/rich/analysis/faceRhythm/mouse_0403L/run_20230903/20230708/jobNum_0/analysis_files/ROIs.h5   to   /media/rich/bigSSD/analysis_data/face_rhythm/mouse_0403L/fr_run/run_20230903/20230708/jobNum_0/analysis_files/ROIs.h5\n"
     ]
    },
    {
     "name": "stderr",
     "output_type": "stream",
     "text": [
      "0.00b [00:00, ?b/s]\n"
     ]
    },
    {
     "name": "stdout",
     "output_type": "stream",
     "text": [
      "downloading /n/data1/hms/neurobio/sabatini/rich/analysis/faceRhythm/mouse_0403L/run_20230903/20230708/jobNum_0/analysis_files/TCA.h5   to   /media/rich/bigSSD/analysis_data/face_rhythm/mouse_0403L/fr_run/run_20230903/20230708/jobNum_0/analysis_files/TCA.h5\n"
     ]
    },
    {
     "name": "stderr",
     "output_type": "stream",
     "text": [
      "0.00b [00:00, ?b/s]\n"
     ]
    },
    {
     "name": "stdout",
     "output_type": "stream",
     "text": [
      "downloading /n/data1/hms/neurobio/sabatini/rich/analysis/faceRhythm/mouse_0403L/run_20230903/20230708/jobNum_0/analysis_files/PointTracker.h5   to   /media/rich/bigSSD/analysis_data/face_rhythm/mouse_0403L/fr_run/run_20230903/20230708/jobNum_0/analysis_files/PointTracker.h5\n"
     ]
    },
    {
     "name": "stderr",
     "output_type": "stream",
     "text": [
      "0.00b [01:06, ?b/s]\n"
     ]
    },
    {
     "name": "stdout",
     "output_type": "stream",
     "text": [
      "downloading /n/data1/hms/neurobio/sabatini/rich/analysis/faceRhythm/mouse_0403L/run_20230903/20230708/jobNum_0/analysis_files/VQT_Analyzer.h5   to   /media/rich/bigSSD/analysis_data/face_rhythm/mouse_0403L/fr_run/run_20230903/20230708/jobNum_0/analysis_files/VQT_Analyzer.h5\n"
     ]
    },
    {
     "name": "stderr",
     "output_type": "stream",
     "text": [
      "0.00b [01:44, ?b/s]\n"
     ]
    },
    {
     "name": "stdout",
     "output_type": "stream",
     "text": [
      "downloading /n/data1/hms/neurobio/sabatini/rich/analysis/faceRhythm/mouse_0403L/run_20230903/20230708/jobNum_0/analysis_files/Dataset_videos.h5   to   /media/rich/bigSSD/analysis_data/face_rhythm/mouse_0403L/fr_run/run_20230903/20230708/jobNum_0/analysis_files/Dataset_videos.h5\n"
     ]
    },
    {
     "name": "stderr",
     "output_type": "stream",
     "text": [
      "0.00b [00:00, ?b/s]\n"
     ]
    },
    {
     "name": "stdout",
     "output_type": "stream",
     "text": [
      "downloading /n/data1/hms/neurobio/sabatini/rich/analysis/faceRhythm/mouse_0403L/run_20230903/20230708/jobNum_0/pipeline_basic.py   to   /media/rich/bigSSD/analysis_data/face_rhythm/mouse_0403L/fr_run/run_20230903/20230708/jobNum_0/pipeline_basic.py\n"
     ]
    },
    {
     "name": "stderr",
     "output_type": "stream",
     "text": [
      "0.00b [00:00, ?b/s]\n"
     ]
    },
    {
     "name": "stdout",
     "output_type": "stream",
     "text": [
      "downloading /n/data1/hms/neurobio/sabatini/rich/analysis/faceRhythm/mouse_0403L/run_20230903/20230708/jobNum_0/run_info.json   to   /media/rich/bigSSD/analysis_data/face_rhythm/mouse_0403L/fr_run/run_20230903/20230708/jobNum_0/run_info.json\n"
     ]
    },
    {
     "name": "stderr",
     "output_type": "stream",
     "text": [
      "0.00b [00:00, ?b/s]\n"
     ]
    },
    {
     "name": "stdout",
     "output_type": "stream",
     "text": [
      "downloading /n/data1/hms/neurobio/sabatini/rich/analysis/faceRhythm/mouse_0403L/run_20230903/20230708/jobNum_0/sbatch_config.sh   to   /media/rich/bigSSD/analysis_data/face_rhythm/mouse_0403L/fr_run/run_20230903/20230708/jobNum_0/sbatch_config.sh\n"
     ]
    },
    {
     "name": "stderr",
     "output_type": "stream",
     "text": [
      "0.00b [00:00, ?b/s]\n"
     ]
    },
    {
     "name": "stdout",
     "output_type": "stream",
     "text": [
      "downloading /n/data1/hms/neurobio/sabatini/rich/analysis/faceRhythm/mouse_0403L/run_20230903/20230708/pipeline_basic.py   to   /media/rich/bigSSD/analysis_data/face_rhythm/mouse_0403L/fr_run/run_20230903/20230708/pipeline_basic.py\n"
     ]
    },
    {
     "name": "stderr",
     "output_type": "stream",
     "text": [
      "0.00b [00:00, ?b/s]\n"
     ]
    },
    {
     "name": "stdout",
     "output_type": "stream",
     "text": [
      "downloading /n/data1/hms/neurobio/sabatini/rich/analysis/faceRhythm/mouse_0403L/run_20230903/20230708/dispatcher.py   to   /media/rich/bigSSD/analysis_data/face_rhythm/mouse_0403L/fr_run/run_20230903/20230708/dispatcher.py\n"
     ]
    },
    {
     "name": "stderr",
     "output_type": "stream",
     "text": [
      "0.00b [00:00, ?b/s]\n"
     ]
    },
    {
     "name": "stdout",
     "output_type": "stream",
     "text": [
      "downloading /n/data1/hms/neurobio/sabatini/rich/analysis/faceRhythm/mouse_0403L/run_20230903/20230708/notes.txt   to   /media/rich/bigSSD/analysis_data/face_rhythm/mouse_0403L/fr_run/run_20230903/20230708/notes.txt\n"
     ]
    },
    {
     "name": "stderr",
     "output_type": "stream",
     "text": [
      "0.00b [00:00, ?b/s]\n"
     ]
    },
    {
     "name": "stdout",
     "output_type": "stream",
     "text": [
      "downloading /n/data1/hms/neurobio/sabatini/rich/analysis/faceRhythm/mouse_0403L/run_20230903/20230808/parameters_batch.json   to   /media/rich/bigSSD/analysis_data/face_rhythm/mouse_0403L/fr_run/run_20230903/20230808/parameters_batch.json\n"
     ]
    },
    {
     "name": "stderr",
     "output_type": "stream",
     "text": [
      "0.00b [00:00, ?b/s]\n"
     ]
    },
    {
     "name": "stdout",
     "output_type": "stream",
     "text": [
      "downloading /n/data1/hms/neurobio/sabatini/rich/analysis/faceRhythm/mouse_0403L/run_20230903/20230808/jobNum_0/params.json   to   /media/rich/bigSSD/analysis_data/face_rhythm/mouse_0403L/fr_run/run_20230903/20230808/jobNum_0/params.json\n"
     ]
    },
    {
     "name": "stderr",
     "output_type": "stream",
     "text": [
      "0.00b [00:00, ?b/s]\n"
     ]
    },
    {
     "name": "stdout",
     "output_type": "stream",
     "text": [
      "downloading /n/data1/hms/neurobio/sabatini/rich/analysis/faceRhythm/mouse_0403L/run_20230903/20230808/jobNum_0/config.yaml   to   /media/rich/bigSSD/analysis_data/face_rhythm/mouse_0403L/fr_run/run_20230903/20230808/jobNum_0/config.yaml\n"
     ]
    },
    {
     "name": "stderr",
     "output_type": "stream",
     "text": [
      "0.00b [00:00, ?b/s]\n"
     ]
    },
    {
     "name": "stdout",
     "output_type": "stream",
     "text": [
      "downloading /n/data1/hms/neurobio/sabatini/rich/analysis/faceRhythm/mouse_0403L/run_20230903/20230808/jobNum_0/cpu_tracker.csv   to   /media/rich/bigSSD/analysis_data/face_rhythm/mouse_0403L/fr_run/run_20230903/20230808/jobNum_0/cpu_tracker.csv\n"
     ]
    },
    {
     "name": "stderr",
     "output_type": "stream",
     "text": [
      "0.00b [00:00, ?b/s]\n"
     ]
    },
    {
     "name": "stdout",
     "output_type": "stream",
     "text": [
      "downloading /n/data1/hms/neurobio/sabatini/rich/analysis/faceRhythm/mouse_0403L/run_20230903/20230808/jobNum_0/print_log_16790851.log   to   /media/rich/bigSSD/analysis_data/face_rhythm/mouse_0403L/fr_run/run_20230903/20230808/jobNum_0/print_log_16790851.log\n"
     ]
    },
    {
     "name": "stderr",
     "output_type": "stream",
     "text": [
      "0.00b [00:00, ?b/s]\n"
     ]
    },
    {
     "name": "stdout",
     "output_type": "stream",
     "text": [
      "downloading /n/data1/hms/neurobio/sabatini/rich/analysis/faceRhythm/mouse_0403L/run_20230903/20230808/jobNum_0/print_log_16850893.log   to   /media/rich/bigSSD/analysis_data/face_rhythm/mouse_0403L/fr_run/run_20230903/20230808/jobNum_0/print_log_16850893.log\n"
     ]
    },
    {
     "name": "stderr",
     "output_type": "stream",
     "text": [
      "0.00b [00:00, ?b/s]\n"
     ]
    },
    {
     "name": "stdout",
     "output_type": "stream",
     "text": [
      "downloading /n/data1/hms/neurobio/sabatini/rich/analysis/faceRhythm/mouse_0403L/run_20230903/20230808/jobNum_0/analysis_files/ROIs.h5   to   /media/rich/bigSSD/analysis_data/face_rhythm/mouse_0403L/fr_run/run_20230903/20230808/jobNum_0/analysis_files/ROIs.h5\n"
     ]
    },
    {
     "name": "stderr",
     "output_type": "stream",
     "text": [
      "0.00b [00:00, ?b/s]\n"
     ]
    },
    {
     "name": "stdout",
     "output_type": "stream",
     "text": [
      "downloading /n/data1/hms/neurobio/sabatini/rich/analysis/faceRhythm/mouse_0403L/run_20230903/20230808/jobNum_0/analysis_files/TCA.h5   to   /media/rich/bigSSD/analysis_data/face_rhythm/mouse_0403L/fr_run/run_20230903/20230808/jobNum_0/analysis_files/TCA.h5\n"
     ]
    },
    {
     "name": "stderr",
     "output_type": "stream",
     "text": [
      "0.00b [00:00, ?b/s]\n"
     ]
    },
    {
     "name": "stdout",
     "output_type": "stream",
     "text": [
      "downloading /n/data1/hms/neurobio/sabatini/rich/analysis/faceRhythm/mouse_0403L/run_20230903/20230808/jobNum_0/analysis_files/PointTracker.h5   to   /media/rich/bigSSD/analysis_data/face_rhythm/mouse_0403L/fr_run/run_20230903/20230808/jobNum_0/analysis_files/PointTracker.h5\n"
     ]
    },
    {
     "name": "stderr",
     "output_type": "stream",
     "text": [
      "0.00b [01:19, ?b/s]\n"
     ]
    },
    {
     "name": "stdout",
     "output_type": "stream",
     "text": [
      "downloading /n/data1/hms/neurobio/sabatini/rich/analysis/faceRhythm/mouse_0403L/run_20230903/20230808/jobNum_0/analysis_files/VQT_Analyzer.h5   to   /media/rich/bigSSD/analysis_data/face_rhythm/mouse_0403L/fr_run/run_20230903/20230808/jobNum_0/analysis_files/VQT_Analyzer.h5\n"
     ]
    },
    {
     "name": "stderr",
     "output_type": "stream",
     "text": [
      "0.00b [02:36, ?b/s]\n"
     ]
    },
    {
     "name": "stdout",
     "output_type": "stream",
     "text": [
      "downloading /n/data1/hms/neurobio/sabatini/rich/analysis/faceRhythm/mouse_0403L/run_20230903/20230808/jobNum_0/analysis_files/Dataset_videos.h5   to   /media/rich/bigSSD/analysis_data/face_rhythm/mouse_0403L/fr_run/run_20230903/20230808/jobNum_0/analysis_files/Dataset_videos.h5\n"
     ]
    },
    {
     "name": "stderr",
     "output_type": "stream",
     "text": [
      "0.00b [00:00, ?b/s]\n"
     ]
    },
    {
     "name": "stdout",
     "output_type": "stream",
     "text": [
      "downloading /n/data1/hms/neurobio/sabatini/rich/analysis/faceRhythm/mouse_0403L/run_20230903/20230808/jobNum_0/pipeline_basic.py   to   /media/rich/bigSSD/analysis_data/face_rhythm/mouse_0403L/fr_run/run_20230903/20230808/jobNum_0/pipeline_basic.py\n"
     ]
    },
    {
     "name": "stderr",
     "output_type": "stream",
     "text": [
      "0.00b [00:00, ?b/s]\n"
     ]
    },
    {
     "name": "stdout",
     "output_type": "stream",
     "text": [
      "downloading /n/data1/hms/neurobio/sabatini/rich/analysis/faceRhythm/mouse_0403L/run_20230903/20230808/jobNum_0/run_info.json   to   /media/rich/bigSSD/analysis_data/face_rhythm/mouse_0403L/fr_run/run_20230903/20230808/jobNum_0/run_info.json\n"
     ]
    },
    {
     "name": "stderr",
     "output_type": "stream",
     "text": [
      "0.00b [00:00, ?b/s]\n"
     ]
    },
    {
     "name": "stdout",
     "output_type": "stream",
     "text": [
      "downloading /n/data1/hms/neurobio/sabatini/rich/analysis/faceRhythm/mouse_0403L/run_20230903/20230808/jobNum_0/sbatch_config.sh   to   /media/rich/bigSSD/analysis_data/face_rhythm/mouse_0403L/fr_run/run_20230903/20230808/jobNum_0/sbatch_config.sh\n"
     ]
    },
    {
     "name": "stderr",
     "output_type": "stream",
     "text": [
      "0.00b [00:00, ?b/s]\n"
     ]
    },
    {
     "name": "stdout",
     "output_type": "stream",
     "text": [
      "downloading /n/data1/hms/neurobio/sabatini/rich/analysis/faceRhythm/mouse_0403L/run_20230903/20230808/pipeline_basic.py   to   /media/rich/bigSSD/analysis_data/face_rhythm/mouse_0403L/fr_run/run_20230903/20230808/pipeline_basic.py\n"
     ]
    },
    {
     "name": "stderr",
     "output_type": "stream",
     "text": [
      "0.00b [00:00, ?b/s]\n"
     ]
    },
    {
     "name": "stdout",
     "output_type": "stream",
     "text": [
      "downloading /n/data1/hms/neurobio/sabatini/rich/analysis/faceRhythm/mouse_0403L/run_20230903/20230808/dispatcher.py   to   /media/rich/bigSSD/analysis_data/face_rhythm/mouse_0403L/fr_run/run_20230903/20230808/dispatcher.py\n"
     ]
    },
    {
     "name": "stderr",
     "output_type": "stream",
     "text": [
      "0.00b [00:00, ?b/s]\n"
     ]
    },
    {
     "name": "stdout",
     "output_type": "stream",
     "text": [
      "downloading /n/data1/hms/neurobio/sabatini/rich/analysis/faceRhythm/mouse_0403L/run_20230903/20230808/notes.txt   to   /media/rich/bigSSD/analysis_data/face_rhythm/mouse_0403L/fr_run/run_20230903/20230808/notes.txt\n"
     ]
    },
    {
     "name": "stderr",
     "output_type": "stream",
     "text": [
      "0.00b [00:00, ?b/s]\n"
     ]
    },
    {
     "name": "stdout",
     "output_type": "stream",
     "text": [
      "downloading /n/data1/hms/neurobio/sabatini/rich/analysis/faceRhythm/mouse_0403L/run_20230903/20230711/parameters_batch.json   to   /media/rich/bigSSD/analysis_data/face_rhythm/mouse_0403L/fr_run/run_20230903/20230711/parameters_batch.json\n"
     ]
    },
    {
     "name": "stderr",
     "output_type": "stream",
     "text": [
      "0.00b [00:00, ?b/s]\n"
     ]
    },
    {
     "name": "stdout",
     "output_type": "stream",
     "text": [
      "downloading /n/data1/hms/neurobio/sabatini/rich/analysis/faceRhythm/mouse_0403L/run_20230903/20230711/jobNum_0/params.json   to   /media/rich/bigSSD/analysis_data/face_rhythm/mouse_0403L/fr_run/run_20230903/20230711/jobNum_0/params.json\n"
     ]
    },
    {
     "name": "stderr",
     "output_type": "stream",
     "text": [
      "0.00b [00:00, ?b/s]\n"
     ]
    },
    {
     "name": "stdout",
     "output_type": "stream",
     "text": [
      "downloading /n/data1/hms/neurobio/sabatini/rich/analysis/faceRhythm/mouse_0403L/run_20230903/20230711/jobNum_0/config.yaml   to   /media/rich/bigSSD/analysis_data/face_rhythm/mouse_0403L/fr_run/run_20230903/20230711/jobNum_0/config.yaml\n"
     ]
    },
    {
     "name": "stderr",
     "output_type": "stream",
     "text": [
      "0.00b [00:00, ?b/s]\n"
     ]
    },
    {
     "name": "stdout",
     "output_type": "stream",
     "text": [
      "downloading /n/data1/hms/neurobio/sabatini/rich/analysis/faceRhythm/mouse_0403L/run_20230903/20230711/jobNum_0/cpu_tracker.csv   to   /media/rich/bigSSD/analysis_data/face_rhythm/mouse_0403L/fr_run/run_20230903/20230711/jobNum_0/cpu_tracker.csv\n"
     ]
    },
    {
     "name": "stderr",
     "output_type": "stream",
     "text": [
      "0.00b [00:00, ?b/s]\n"
     ]
    },
    {
     "name": "stdout",
     "output_type": "stream",
     "text": [
      "downloading /n/data1/hms/neurobio/sabatini/rich/analysis/faceRhythm/mouse_0403L/run_20230903/20230711/jobNum_0/print_log_16789991.log   to   /media/rich/bigSSD/analysis_data/face_rhythm/mouse_0403L/fr_run/run_20230903/20230711/jobNum_0/print_log_16789991.log\n"
     ]
    },
    {
     "name": "stderr",
     "output_type": "stream",
     "text": [
      "0.00b [00:00, ?b/s]\n"
     ]
    },
    {
     "name": "stdout",
     "output_type": "stream",
     "text": [
      "downloading /n/data1/hms/neurobio/sabatini/rich/analysis/faceRhythm/mouse_0403L/run_20230903/20230711/jobNum_0/analysis_files/ROIs.h5   to   /media/rich/bigSSD/analysis_data/face_rhythm/mouse_0403L/fr_run/run_20230903/20230711/jobNum_0/analysis_files/ROIs.h5\n"
     ]
    },
    {
     "name": "stderr",
     "output_type": "stream",
     "text": [
      "0.00b [00:00, ?b/s]\n"
     ]
    },
    {
     "name": "stdout",
     "output_type": "stream",
     "text": [
      "downloading /n/data1/hms/neurobio/sabatini/rich/analysis/faceRhythm/mouse_0403L/run_20230903/20230711/jobNum_0/analysis_files/TCA.h5   to   /media/rich/bigSSD/analysis_data/face_rhythm/mouse_0403L/fr_run/run_20230903/20230711/jobNum_0/analysis_files/TCA.h5\n"
     ]
    },
    {
     "name": "stderr",
     "output_type": "stream",
     "text": [
      "0.00b [00:00, ?b/s]\n"
     ]
    },
    {
     "name": "stdout",
     "output_type": "stream",
     "text": [
      "downloading /n/data1/hms/neurobio/sabatini/rich/analysis/faceRhythm/mouse_0403L/run_20230903/20230711/jobNum_0/analysis_files/PointTracker.h5   to   /media/rich/bigSSD/analysis_data/face_rhythm/mouse_0403L/fr_run/run_20230903/20230711/jobNum_0/analysis_files/PointTracker.h5\n"
     ]
    },
    {
     "name": "stderr",
     "output_type": "stream",
     "text": [
      "0.00b [00:54, ?b/s]\n"
     ]
    },
    {
     "name": "stdout",
     "output_type": "stream",
     "text": [
      "downloading /n/data1/hms/neurobio/sabatini/rich/analysis/faceRhythm/mouse_0403L/run_20230903/20230711/jobNum_0/analysis_files/VQT_Analyzer.h5   to   /media/rich/bigSSD/analysis_data/face_rhythm/mouse_0403L/fr_run/run_20230903/20230711/jobNum_0/analysis_files/VQT_Analyzer.h5\n"
     ]
    },
    {
     "name": "stderr",
     "output_type": "stream",
     "text": [
      "0.00b [01:35, ?b/s]\n"
     ]
    },
    {
     "name": "stdout",
     "output_type": "stream",
     "text": [
      "downloading /n/data1/hms/neurobio/sabatini/rich/analysis/faceRhythm/mouse_0403L/run_20230903/20230711/jobNum_0/analysis_files/Dataset_videos.h5   to   /media/rich/bigSSD/analysis_data/face_rhythm/mouse_0403L/fr_run/run_20230903/20230711/jobNum_0/analysis_files/Dataset_videos.h5\n"
     ]
    },
    {
     "name": "stderr",
     "output_type": "stream",
     "text": [
      "0.00b [00:00, ?b/s]\n"
     ]
    },
    {
     "name": "stdout",
     "output_type": "stream",
     "text": [
      "downloading /n/data1/hms/neurobio/sabatini/rich/analysis/faceRhythm/mouse_0403L/run_20230903/20230711/jobNum_0/pipeline_basic.py   to   /media/rich/bigSSD/analysis_data/face_rhythm/mouse_0403L/fr_run/run_20230903/20230711/jobNum_0/pipeline_basic.py\n"
     ]
    },
    {
     "name": "stderr",
     "output_type": "stream",
     "text": [
      "0.00b [00:00, ?b/s]\n"
     ]
    },
    {
     "name": "stdout",
     "output_type": "stream",
     "text": [
      "downloading /n/data1/hms/neurobio/sabatini/rich/analysis/faceRhythm/mouse_0403L/run_20230903/20230711/jobNum_0/run_info.json   to   /media/rich/bigSSD/analysis_data/face_rhythm/mouse_0403L/fr_run/run_20230903/20230711/jobNum_0/run_info.json\n"
     ]
    },
    {
     "name": "stderr",
     "output_type": "stream",
     "text": [
      "0.00b [00:00, ?b/s]\n"
     ]
    },
    {
     "name": "stdout",
     "output_type": "stream",
     "text": [
      "downloading /n/data1/hms/neurobio/sabatini/rich/analysis/faceRhythm/mouse_0403L/run_20230903/20230711/jobNum_0/sbatch_config.sh   to   /media/rich/bigSSD/analysis_data/face_rhythm/mouse_0403L/fr_run/run_20230903/20230711/jobNum_0/sbatch_config.sh\n"
     ]
    },
    {
     "name": "stderr",
     "output_type": "stream",
     "text": [
      "0.00b [00:00, ?b/s]\n"
     ]
    },
    {
     "name": "stdout",
     "output_type": "stream",
     "text": [
      "downloading /n/data1/hms/neurobio/sabatini/rich/analysis/faceRhythm/mouse_0403L/run_20230903/20230711/pipeline_basic.py   to   /media/rich/bigSSD/analysis_data/face_rhythm/mouse_0403L/fr_run/run_20230903/20230711/pipeline_basic.py\n"
     ]
    },
    {
     "name": "stderr",
     "output_type": "stream",
     "text": [
      "0.00b [00:00, ?b/s]\n"
     ]
    },
    {
     "name": "stdout",
     "output_type": "stream",
     "text": [
      "downloading /n/data1/hms/neurobio/sabatini/rich/analysis/faceRhythm/mouse_0403L/run_20230903/20230711/dispatcher.py   to   /media/rich/bigSSD/analysis_data/face_rhythm/mouse_0403L/fr_run/run_20230903/20230711/dispatcher.py\n"
     ]
    },
    {
     "name": "stderr",
     "output_type": "stream",
     "text": [
      "0.00b [00:00, ?b/s]\n"
     ]
    },
    {
     "name": "stdout",
     "output_type": "stream",
     "text": [
      "downloading /n/data1/hms/neurobio/sabatini/rich/analysis/faceRhythm/mouse_0403L/run_20230903/20230711/notes.txt   to   /media/rich/bigSSD/analysis_data/face_rhythm/mouse_0403L/fr_run/run_20230903/20230711/notes.txt\n"
     ]
    },
    {
     "name": "stderr",
     "output_type": "stream",
     "text": [
      "0.00b [00:00, ?b/s]\n"
     ]
    },
    {
     "name": "stdout",
     "output_type": "stream",
     "text": [
      "downloading /n/data1/hms/neurobio/sabatini/rich/analysis/faceRhythm/mouse_0403L/run_20230903/20230725/parameters_batch.json   to   /media/rich/bigSSD/analysis_data/face_rhythm/mouse_0403L/fr_run/run_20230903/20230725/parameters_batch.json\n"
     ]
    },
    {
     "name": "stderr",
     "output_type": "stream",
     "text": [
      "0.00b [00:00, ?b/s]\n"
     ]
    },
    {
     "name": "stdout",
     "output_type": "stream",
     "text": [
      "downloading /n/data1/hms/neurobio/sabatini/rich/analysis/faceRhythm/mouse_0403L/run_20230903/20230725/jobNum_0/params.json   to   /media/rich/bigSSD/analysis_data/face_rhythm/mouse_0403L/fr_run/run_20230903/20230725/jobNum_0/params.json\n"
     ]
    },
    {
     "name": "stderr",
     "output_type": "stream",
     "text": [
      "0.00b [00:00, ?b/s]\n"
     ]
    },
    {
     "name": "stdout",
     "output_type": "stream",
     "text": [
      "downloading /n/data1/hms/neurobio/sabatini/rich/analysis/faceRhythm/mouse_0403L/run_20230903/20230725/jobNum_0/config.yaml   to   /media/rich/bigSSD/analysis_data/face_rhythm/mouse_0403L/fr_run/run_20230903/20230725/jobNum_0/config.yaml\n"
     ]
    },
    {
     "name": "stderr",
     "output_type": "stream",
     "text": [
      "0.00b [00:00, ?b/s]\n"
     ]
    },
    {
     "name": "stdout",
     "output_type": "stream",
     "text": [
      "downloading /n/data1/hms/neurobio/sabatini/rich/analysis/faceRhythm/mouse_0403L/run_20230903/20230725/jobNum_0/cpu_tracker.csv   to   /media/rich/bigSSD/analysis_data/face_rhythm/mouse_0403L/fr_run/run_20230903/20230725/jobNum_0/cpu_tracker.csv\n"
     ]
    },
    {
     "name": "stderr",
     "output_type": "stream",
     "text": [
      "0.00b [00:00, ?b/s]\n"
     ]
    },
    {
     "name": "stdout",
     "output_type": "stream",
     "text": [
      "downloading /n/data1/hms/neurobio/sabatini/rich/analysis/faceRhythm/mouse_0403L/run_20230903/20230725/jobNum_0/print_log_16850180.log   to   /media/rich/bigSSD/analysis_data/face_rhythm/mouse_0403L/fr_run/run_20230903/20230725/jobNum_0/print_log_16850180.log\n"
     ]
    },
    {
     "name": "stderr",
     "output_type": "stream",
     "text": [
      "0.00b [00:00, ?b/s]\n"
     ]
    },
    {
     "name": "stdout",
     "output_type": "stream",
     "text": [
      "downloading /n/data1/hms/neurobio/sabatini/rich/analysis/faceRhythm/mouse_0403L/run_20230903/20230725/jobNum_0/print_log_16790809.log   to   /media/rich/bigSSD/analysis_data/face_rhythm/mouse_0403L/fr_run/run_20230903/20230725/jobNum_0/print_log_16790809.log\n"
     ]
    },
    {
     "name": "stderr",
     "output_type": "stream",
     "text": [
      "0.00b [00:00, ?b/s]\n"
     ]
    },
    {
     "name": "stdout",
     "output_type": "stream",
     "text": [
      "downloading /n/data1/hms/neurobio/sabatini/rich/analysis/faceRhythm/mouse_0403L/run_20230903/20230725/jobNum_0/analysis_files/ROIs.h5   to   /media/rich/bigSSD/analysis_data/face_rhythm/mouse_0403L/fr_run/run_20230903/20230725/jobNum_0/analysis_files/ROIs.h5\n"
     ]
    },
    {
     "name": "stderr",
     "output_type": "stream",
     "text": [
      "0.00b [00:00, ?b/s]\n"
     ]
    },
    {
     "name": "stdout",
     "output_type": "stream",
     "text": [
      "downloading /n/data1/hms/neurobio/sabatini/rich/analysis/faceRhythm/mouse_0403L/run_20230903/20230725/jobNum_0/analysis_files/TCA.h5   to   /media/rich/bigSSD/analysis_data/face_rhythm/mouse_0403L/fr_run/run_20230903/20230725/jobNum_0/analysis_files/TCA.h5\n"
     ]
    },
    {
     "name": "stderr",
     "output_type": "stream",
     "text": [
      "0.00b [00:00, ?b/s]\n"
     ]
    },
    {
     "name": "stdout",
     "output_type": "stream",
     "text": [
      "downloading /n/data1/hms/neurobio/sabatini/rich/analysis/faceRhythm/mouse_0403L/run_20230903/20230725/jobNum_0/analysis_files/PointTracker.h5   to   /media/rich/bigSSD/analysis_data/face_rhythm/mouse_0403L/fr_run/run_20230903/20230725/jobNum_0/analysis_files/PointTracker.h5\n"
     ]
    },
    {
     "name": "stderr",
     "output_type": "stream",
     "text": [
      "0.00b [01:17, ?b/s]\n"
     ]
    },
    {
     "name": "stdout",
     "output_type": "stream",
     "text": [
      "downloading /n/data1/hms/neurobio/sabatini/rich/analysis/faceRhythm/mouse_0403L/run_20230903/20230725/jobNum_0/analysis_files/VQT_Analyzer.h5   to   /media/rich/bigSSD/analysis_data/face_rhythm/mouse_0403L/fr_run/run_20230903/20230725/jobNum_0/analysis_files/VQT_Analyzer.h5\n"
     ]
    },
    {
     "name": "stderr",
     "output_type": "stream",
     "text": [
      "0.00b [02:39, ?b/s]\n"
     ]
    },
    {
     "name": "stdout",
     "output_type": "stream",
     "text": [
      "downloading /n/data1/hms/neurobio/sabatini/rich/analysis/faceRhythm/mouse_0403L/run_20230903/20230725/jobNum_0/analysis_files/Dataset_videos.h5   to   /media/rich/bigSSD/analysis_data/face_rhythm/mouse_0403L/fr_run/run_20230903/20230725/jobNum_0/analysis_files/Dataset_videos.h5\n"
     ]
    },
    {
     "name": "stderr",
     "output_type": "stream",
     "text": [
      "0.00b [00:00, ?b/s]\n"
     ]
    },
    {
     "name": "stdout",
     "output_type": "stream",
     "text": [
      "downloading /n/data1/hms/neurobio/sabatini/rich/analysis/faceRhythm/mouse_0403L/run_20230903/20230725/jobNum_0/pipeline_basic.py   to   /media/rich/bigSSD/analysis_data/face_rhythm/mouse_0403L/fr_run/run_20230903/20230725/jobNum_0/pipeline_basic.py\n"
     ]
    },
    {
     "name": "stderr",
     "output_type": "stream",
     "text": [
      "0.00b [00:00, ?b/s]\n"
     ]
    },
    {
     "name": "stdout",
     "output_type": "stream",
     "text": [
      "downloading /n/data1/hms/neurobio/sabatini/rich/analysis/faceRhythm/mouse_0403L/run_20230903/20230725/jobNum_0/run_info.json   to   /media/rich/bigSSD/analysis_data/face_rhythm/mouse_0403L/fr_run/run_20230903/20230725/jobNum_0/run_info.json\n"
     ]
    },
    {
     "name": "stderr",
     "output_type": "stream",
     "text": [
      "0.00b [00:00, ?b/s]\n"
     ]
    },
    {
     "name": "stdout",
     "output_type": "stream",
     "text": [
      "downloading /n/data1/hms/neurobio/sabatini/rich/analysis/faceRhythm/mouse_0403L/run_20230903/20230725/jobNum_0/sbatch_config.sh   to   /media/rich/bigSSD/analysis_data/face_rhythm/mouse_0403L/fr_run/run_20230903/20230725/jobNum_0/sbatch_config.sh\n"
     ]
    },
    {
     "name": "stderr",
     "output_type": "stream",
     "text": [
      "0.00b [00:00, ?b/s]\n"
     ]
    },
    {
     "name": "stdout",
     "output_type": "stream",
     "text": [
      "downloading /n/data1/hms/neurobio/sabatini/rich/analysis/faceRhythm/mouse_0403L/run_20230903/20230725/pipeline_basic.py   to   /media/rich/bigSSD/analysis_data/face_rhythm/mouse_0403L/fr_run/run_20230903/20230725/pipeline_basic.py\n"
     ]
    },
    {
     "name": "stderr",
     "output_type": "stream",
     "text": [
      "0.00b [00:00, ?b/s]\n"
     ]
    },
    {
     "name": "stdout",
     "output_type": "stream",
     "text": [
      "downloading /n/data1/hms/neurobio/sabatini/rich/analysis/faceRhythm/mouse_0403L/run_20230903/20230725/dispatcher.py   to   /media/rich/bigSSD/analysis_data/face_rhythm/mouse_0403L/fr_run/run_20230903/20230725/dispatcher.py\n"
     ]
    },
    {
     "name": "stderr",
     "output_type": "stream",
     "text": [
      "0.00b [00:00, ?b/s]\n"
     ]
    },
    {
     "name": "stdout",
     "output_type": "stream",
     "text": [
      "downloading /n/data1/hms/neurobio/sabatini/rich/analysis/faceRhythm/mouse_0403L/run_20230903/20230725/notes.txt   to   /media/rich/bigSSD/analysis_data/face_rhythm/mouse_0403L/fr_run/run_20230903/20230725/notes.txt\n"
     ]
    },
    {
     "name": "stderr",
     "output_type": "stream",
     "text": [
      "0.00b [00:00, ?b/s]\n"
     ]
    },
    {
     "name": "stdout",
     "output_type": "stream",
     "text": [
      "downloading /n/data1/hms/neurobio/sabatini/rich/analysis/faceRhythm/mouse_0403L/run_20230903/20230721/parameters_batch.json   to   /media/rich/bigSSD/analysis_data/face_rhythm/mouse_0403L/fr_run/run_20230903/20230721/parameters_batch.json\n"
     ]
    },
    {
     "name": "stderr",
     "output_type": "stream",
     "text": [
      "0.00b [00:00, ?b/s]\n"
     ]
    },
    {
     "name": "stdout",
     "output_type": "stream",
     "text": [
      "downloading /n/data1/hms/neurobio/sabatini/rich/analysis/faceRhythm/mouse_0403L/run_20230903/20230721/jobNum_0/params.json   to   /media/rich/bigSSD/analysis_data/face_rhythm/mouse_0403L/fr_run/run_20230903/20230721/jobNum_0/params.json\n"
     ]
    },
    {
     "name": "stderr",
     "output_type": "stream",
     "text": [
      "0.00b [00:00, ?b/s]\n"
     ]
    },
    {
     "name": "stdout",
     "output_type": "stream",
     "text": [
      "downloading /n/data1/hms/neurobio/sabatini/rich/analysis/faceRhythm/mouse_0403L/run_20230903/20230721/jobNum_0/config.yaml   to   /media/rich/bigSSD/analysis_data/face_rhythm/mouse_0403L/fr_run/run_20230903/20230721/jobNum_0/config.yaml\n"
     ]
    },
    {
     "name": "stderr",
     "output_type": "stream",
     "text": [
      "0.00b [00:00, ?b/s]\n"
     ]
    },
    {
     "name": "stdout",
     "output_type": "stream",
     "text": [
      "downloading /n/data1/hms/neurobio/sabatini/rich/analysis/faceRhythm/mouse_0403L/run_20230903/20230721/jobNum_0/print_log_16790218.log   to   /media/rich/bigSSD/analysis_data/face_rhythm/mouse_0403L/fr_run/run_20230903/20230721/jobNum_0/print_log_16790218.log\n"
     ]
    },
    {
     "name": "stderr",
     "output_type": "stream",
     "text": [
      "0.00b [00:00, ?b/s]\n"
     ]
    },
    {
     "name": "stdout",
     "output_type": "stream",
     "text": [
      "downloading /n/data1/hms/neurobio/sabatini/rich/analysis/faceRhythm/mouse_0403L/run_20230903/20230721/jobNum_0/cpu_tracker.csv   to   /media/rich/bigSSD/analysis_data/face_rhythm/mouse_0403L/fr_run/run_20230903/20230721/jobNum_0/cpu_tracker.csv\n"
     ]
    },
    {
     "name": "stderr",
     "output_type": "stream",
     "text": [
      "0.00b [00:00, ?b/s]\n"
     ]
    },
    {
     "name": "stdout",
     "output_type": "stream",
     "text": [
      "downloading /n/data1/hms/neurobio/sabatini/rich/analysis/faceRhythm/mouse_0403L/run_20230903/20230721/jobNum_0/analysis_files/ROIs.h5   to   /media/rich/bigSSD/analysis_data/face_rhythm/mouse_0403L/fr_run/run_20230903/20230721/jobNum_0/analysis_files/ROIs.h5\n"
     ]
    },
    {
     "name": "stderr",
     "output_type": "stream",
     "text": [
      "0.00b [00:00, ?b/s]\n"
     ]
    },
    {
     "name": "stdout",
     "output_type": "stream",
     "text": [
      "downloading /n/data1/hms/neurobio/sabatini/rich/analysis/faceRhythm/mouse_0403L/run_20230903/20230721/jobNum_0/analysis_files/TCA.h5   to   /media/rich/bigSSD/analysis_data/face_rhythm/mouse_0403L/fr_run/run_20230903/20230721/jobNum_0/analysis_files/TCA.h5\n"
     ]
    },
    {
     "name": "stderr",
     "output_type": "stream",
     "text": [
      "0.00b [00:00, ?b/s]\n"
     ]
    },
    {
     "name": "stdout",
     "output_type": "stream",
     "text": [
      "downloading /n/data1/hms/neurobio/sabatini/rich/analysis/faceRhythm/mouse_0403L/run_20230903/20230721/jobNum_0/analysis_files/PointTracker.h5   to   /media/rich/bigSSD/analysis_data/face_rhythm/mouse_0403L/fr_run/run_20230903/20230721/jobNum_0/analysis_files/PointTracker.h5\n"
     ]
    },
    {
     "name": "stderr",
     "output_type": "stream",
     "text": [
      "0.00b [00:59, ?b/s]\n"
     ]
    },
    {
     "name": "stdout",
     "output_type": "stream",
     "text": [
      "downloading /n/data1/hms/neurobio/sabatini/rich/analysis/faceRhythm/mouse_0403L/run_20230903/20230721/jobNum_0/analysis_files/VQT_Analyzer.h5   to   /media/rich/bigSSD/analysis_data/face_rhythm/mouse_0403L/fr_run/run_20230903/20230721/jobNum_0/analysis_files/VQT_Analyzer.h5\n"
     ]
    },
    {
     "name": "stderr",
     "output_type": "stream",
     "text": [
      "0.00b [01:47, ?b/s]\n"
     ]
    },
    {
     "name": "stdout",
     "output_type": "stream",
     "text": [
      "downloading /n/data1/hms/neurobio/sabatini/rich/analysis/faceRhythm/mouse_0403L/run_20230903/20230721/jobNum_0/analysis_files/Dataset_videos.h5   to   /media/rich/bigSSD/analysis_data/face_rhythm/mouse_0403L/fr_run/run_20230903/20230721/jobNum_0/analysis_files/Dataset_videos.h5\n"
     ]
    },
    {
     "name": "stderr",
     "output_type": "stream",
     "text": [
      "0.00b [00:00, ?b/s]\n"
     ]
    },
    {
     "name": "stdout",
     "output_type": "stream",
     "text": [
      "downloading /n/data1/hms/neurobio/sabatini/rich/analysis/faceRhythm/mouse_0403L/run_20230903/20230721/jobNum_0/pipeline_basic.py   to   /media/rich/bigSSD/analysis_data/face_rhythm/mouse_0403L/fr_run/run_20230903/20230721/jobNum_0/pipeline_basic.py\n"
     ]
    },
    {
     "name": "stderr",
     "output_type": "stream",
     "text": [
      "0.00b [00:00, ?b/s]\n"
     ]
    },
    {
     "name": "stdout",
     "output_type": "stream",
     "text": [
      "downloading /n/data1/hms/neurobio/sabatini/rich/analysis/faceRhythm/mouse_0403L/run_20230903/20230721/jobNum_0/run_info.json   to   /media/rich/bigSSD/analysis_data/face_rhythm/mouse_0403L/fr_run/run_20230903/20230721/jobNum_0/run_info.json\n"
     ]
    },
    {
     "name": "stderr",
     "output_type": "stream",
     "text": [
      "0.00b [00:00, ?b/s]\n"
     ]
    },
    {
     "name": "stdout",
     "output_type": "stream",
     "text": [
      "downloading /n/data1/hms/neurobio/sabatini/rich/analysis/faceRhythm/mouse_0403L/run_20230903/20230721/jobNum_0/sbatch_config.sh   to   /media/rich/bigSSD/analysis_data/face_rhythm/mouse_0403L/fr_run/run_20230903/20230721/jobNum_0/sbatch_config.sh\n"
     ]
    },
    {
     "name": "stderr",
     "output_type": "stream",
     "text": [
      "0.00b [00:00, ?b/s]\n"
     ]
    },
    {
     "name": "stdout",
     "output_type": "stream",
     "text": [
      "downloading /n/data1/hms/neurobio/sabatini/rich/analysis/faceRhythm/mouse_0403L/run_20230903/20230721/pipeline_basic.py   to   /media/rich/bigSSD/analysis_data/face_rhythm/mouse_0403L/fr_run/run_20230903/20230721/pipeline_basic.py\n"
     ]
    },
    {
     "name": "stderr",
     "output_type": "stream",
     "text": [
      "0.00b [00:00, ?b/s]\n"
     ]
    },
    {
     "name": "stdout",
     "output_type": "stream",
     "text": [
      "downloading /n/data1/hms/neurobio/sabatini/rich/analysis/faceRhythm/mouse_0403L/run_20230903/20230721/dispatcher.py   to   /media/rich/bigSSD/analysis_data/face_rhythm/mouse_0403L/fr_run/run_20230903/20230721/dispatcher.py\n"
     ]
    },
    {
     "name": "stderr",
     "output_type": "stream",
     "text": [
      "0.00b [00:00, ?b/s]\n"
     ]
    },
    {
     "name": "stdout",
     "output_type": "stream",
     "text": [
      "downloading /n/data1/hms/neurobio/sabatini/rich/analysis/faceRhythm/mouse_0403L/run_20230903/20230721/notes.txt   to   /media/rich/bigSSD/analysis_data/face_rhythm/mouse_0403L/fr_run/run_20230903/20230721/notes.txt\n"
     ]
    },
    {
     "name": "stderr",
     "output_type": "stream",
     "text": [
      "0.00b [00:00, ?b/s]\n"
     ]
    },
    {
     "name": "stdout",
     "output_type": "stream",
     "text": [
      "downloading /n/data1/hms/neurobio/sabatini/rich/analysis/faceRhythm/mouse_0403L/run_20230903/20230722/parameters_batch.json   to   /media/rich/bigSSD/analysis_data/face_rhythm/mouse_0403L/fr_run/run_20230903/20230722/parameters_batch.json\n"
     ]
    },
    {
     "name": "stderr",
     "output_type": "stream",
     "text": [
      "0.00b [00:01, ?b/s]\n"
     ]
    },
    {
     "name": "stdout",
     "output_type": "stream",
     "text": [
      "downloading /n/data1/hms/neurobio/sabatini/rich/analysis/faceRhythm/mouse_0403L/run_20230903/20230722/jobNum_0/params.json   to   /media/rich/bigSSD/analysis_data/face_rhythm/mouse_0403L/fr_run/run_20230903/20230722/jobNum_0/params.json\n"
     ]
    },
    {
     "name": "stderr",
     "output_type": "stream",
     "text": [
      "0.00b [00:00, ?b/s]\n"
     ]
    },
    {
     "name": "stdout",
     "output_type": "stream",
     "text": [
      "downloading /n/data1/hms/neurobio/sabatini/rich/analysis/faceRhythm/mouse_0403L/run_20230903/20230722/jobNum_0/config.yaml   to   /media/rich/bigSSD/analysis_data/face_rhythm/mouse_0403L/fr_run/run_20230903/20230722/jobNum_0/config.yaml\n"
     ]
    },
    {
     "name": "stderr",
     "output_type": "stream",
     "text": [
      "0.00b [00:00, ?b/s]\n"
     ]
    },
    {
     "name": "stdout",
     "output_type": "stream",
     "text": [
      "downloading /n/data1/hms/neurobio/sabatini/rich/analysis/faceRhythm/mouse_0403L/run_20230903/20230722/jobNum_0/cpu_tracker.csv   to   /media/rich/bigSSD/analysis_data/face_rhythm/mouse_0403L/fr_run/run_20230903/20230722/jobNum_0/cpu_tracker.csv\n"
     ]
    },
    {
     "name": "stderr",
     "output_type": "stream",
     "text": [
      "0.00b [00:00, ?b/s]\n"
     ]
    },
    {
     "name": "stdout",
     "output_type": "stream",
     "text": [
      "downloading /n/data1/hms/neurobio/sabatini/rich/analysis/faceRhythm/mouse_0403L/run_20230903/20230722/jobNum_0/print_log_16790219.log   to   /media/rich/bigSSD/analysis_data/face_rhythm/mouse_0403L/fr_run/run_20230903/20230722/jobNum_0/print_log_16790219.log\n"
     ]
    },
    {
     "name": "stderr",
     "output_type": "stream",
     "text": [
      "0.00b [00:00, ?b/s]\n"
     ]
    },
    {
     "name": "stdout",
     "output_type": "stream",
     "text": [
      "downloading /n/data1/hms/neurobio/sabatini/rich/analysis/faceRhythm/mouse_0403L/run_20230903/20230722/jobNum_0/analysis_files/ROIs.h5   to   /media/rich/bigSSD/analysis_data/face_rhythm/mouse_0403L/fr_run/run_20230903/20230722/jobNum_0/analysis_files/ROIs.h5\n"
     ]
    },
    {
     "name": "stderr",
     "output_type": "stream",
     "text": [
      "0.00b [00:00, ?b/s]\n"
     ]
    },
    {
     "name": "stdout",
     "output_type": "stream",
     "text": [
      "downloading /n/data1/hms/neurobio/sabatini/rich/analysis/faceRhythm/mouse_0403L/run_20230903/20230722/jobNum_0/analysis_files/TCA.h5   to   /media/rich/bigSSD/analysis_data/face_rhythm/mouse_0403L/fr_run/run_20230903/20230722/jobNum_0/analysis_files/TCA.h5\n"
     ]
    },
    {
     "name": "stderr",
     "output_type": "stream",
     "text": [
      "0.00b [00:00, ?b/s]\n"
     ]
    },
    {
     "name": "stdout",
     "output_type": "stream",
     "text": [
      "downloading /n/data1/hms/neurobio/sabatini/rich/analysis/faceRhythm/mouse_0403L/run_20230903/20230722/jobNum_0/analysis_files/PointTracker.h5   to   /media/rich/bigSSD/analysis_data/face_rhythm/mouse_0403L/fr_run/run_20230903/20230722/jobNum_0/analysis_files/PointTracker.h5\n"
     ]
    },
    {
     "name": "stderr",
     "output_type": "stream",
     "text": [
      "0.00b [00:54, ?b/s]\n"
     ]
    },
    {
     "name": "stdout",
     "output_type": "stream",
     "text": [
      "downloading /n/data1/hms/neurobio/sabatini/rich/analysis/faceRhythm/mouse_0403L/run_20230903/20230722/jobNum_0/analysis_files/VQT_Analyzer.h5   to   /media/rich/bigSSD/analysis_data/face_rhythm/mouse_0403L/fr_run/run_20230903/20230722/jobNum_0/analysis_files/VQT_Analyzer.h5\n"
     ]
    },
    {
     "name": "stderr",
     "output_type": "stream",
     "text": [
      "0.00b [01:52, ?b/s]\n"
     ]
    },
    {
     "name": "stdout",
     "output_type": "stream",
     "text": [
      "downloading /n/data1/hms/neurobio/sabatini/rich/analysis/faceRhythm/mouse_0403L/run_20230903/20230722/jobNum_0/analysis_files/Dataset_videos.h5   to   /media/rich/bigSSD/analysis_data/face_rhythm/mouse_0403L/fr_run/run_20230903/20230722/jobNum_0/analysis_files/Dataset_videos.h5\n"
     ]
    },
    {
     "name": "stderr",
     "output_type": "stream",
     "text": [
      "0.00b [00:00, ?b/s]\n"
     ]
    },
    {
     "name": "stdout",
     "output_type": "stream",
     "text": [
      "downloading /n/data1/hms/neurobio/sabatini/rich/analysis/faceRhythm/mouse_0403L/run_20230903/20230722/jobNum_0/pipeline_basic.py   to   /media/rich/bigSSD/analysis_data/face_rhythm/mouse_0403L/fr_run/run_20230903/20230722/jobNum_0/pipeline_basic.py\n"
     ]
    },
    {
     "name": "stderr",
     "output_type": "stream",
     "text": [
      "0.00b [00:00, ?b/s]\n"
     ]
    },
    {
     "name": "stdout",
     "output_type": "stream",
     "text": [
      "downloading /n/data1/hms/neurobio/sabatini/rich/analysis/faceRhythm/mouse_0403L/run_20230903/20230722/jobNum_0/run_info.json   to   /media/rich/bigSSD/analysis_data/face_rhythm/mouse_0403L/fr_run/run_20230903/20230722/jobNum_0/run_info.json\n"
     ]
    },
    {
     "name": "stderr",
     "output_type": "stream",
     "text": [
      "0.00b [00:00, ?b/s]\n"
     ]
    },
    {
     "name": "stdout",
     "output_type": "stream",
     "text": [
      "downloading /n/data1/hms/neurobio/sabatini/rich/analysis/faceRhythm/mouse_0403L/run_20230903/20230722/jobNum_0/sbatch_config.sh   to   /media/rich/bigSSD/analysis_data/face_rhythm/mouse_0403L/fr_run/run_20230903/20230722/jobNum_0/sbatch_config.sh\n"
     ]
    },
    {
     "name": "stderr",
     "output_type": "stream",
     "text": [
      "0.00b [00:00, ?b/s]\n"
     ]
    },
    {
     "name": "stdout",
     "output_type": "stream",
     "text": [
      "downloading /n/data1/hms/neurobio/sabatini/rich/analysis/faceRhythm/mouse_0403L/run_20230903/20230722/pipeline_basic.py   to   /media/rich/bigSSD/analysis_data/face_rhythm/mouse_0403L/fr_run/run_20230903/20230722/pipeline_basic.py\n"
     ]
    },
    {
     "name": "stderr",
     "output_type": "stream",
     "text": [
      "0.00b [00:00, ?b/s]\n"
     ]
    },
    {
     "name": "stdout",
     "output_type": "stream",
     "text": [
      "downloading /n/data1/hms/neurobio/sabatini/rich/analysis/faceRhythm/mouse_0403L/run_20230903/20230722/dispatcher.py   to   /media/rich/bigSSD/analysis_data/face_rhythm/mouse_0403L/fr_run/run_20230903/20230722/dispatcher.py\n"
     ]
    },
    {
     "name": "stderr",
     "output_type": "stream",
     "text": [
      "0.00b [00:00, ?b/s]\n"
     ]
    },
    {
     "name": "stdout",
     "output_type": "stream",
     "text": [
      "downloading /n/data1/hms/neurobio/sabatini/rich/analysis/faceRhythm/mouse_0403L/run_20230903/20230722/notes.txt   to   /media/rich/bigSSD/analysis_data/face_rhythm/mouse_0403L/fr_run/run_20230903/20230722/notes.txt\n"
     ]
    },
    {
     "name": "stderr",
     "output_type": "stream",
     "text": [
      "0.00b [00:00, ?b/s]\n"
     ]
    },
    {
     "name": "stdout",
     "output_type": "stream",
     "text": [
      "downloading /n/data1/hms/neurobio/sabatini/rich/analysis/faceRhythm/mouse_0403L/run_20230903/20230717/parameters_batch.json   to   /media/rich/bigSSD/analysis_data/face_rhythm/mouse_0403L/fr_run/run_20230903/20230717/parameters_batch.json\n"
     ]
    },
    {
     "name": "stderr",
     "output_type": "stream",
     "text": [
      "0.00b [00:00, ?b/s]\n"
     ]
    },
    {
     "name": "stdout",
     "output_type": "stream",
     "text": [
      "downloading /n/data1/hms/neurobio/sabatini/rich/analysis/faceRhythm/mouse_0403L/run_20230903/20230717/jobNum_0/print_log_16790213.log   to   /media/rich/bigSSD/analysis_data/face_rhythm/mouse_0403L/fr_run/run_20230903/20230717/jobNum_0/print_log_16790213.log\n"
     ]
    },
    {
     "name": "stderr",
     "output_type": "stream",
     "text": [
      "0.00b [00:00, ?b/s]\n"
     ]
    },
    {
     "name": "stdout",
     "output_type": "stream",
     "text": [
      "downloading /n/data1/hms/neurobio/sabatini/rich/analysis/faceRhythm/mouse_0403L/run_20230903/20230717/jobNum_0/params.json   to   /media/rich/bigSSD/analysis_data/face_rhythm/mouse_0403L/fr_run/run_20230903/20230717/jobNum_0/params.json\n"
     ]
    },
    {
     "name": "stderr",
     "output_type": "stream",
     "text": [
      "0.00b [00:00, ?b/s]\n"
     ]
    },
    {
     "name": "stdout",
     "output_type": "stream",
     "text": [
      "downloading /n/data1/hms/neurobio/sabatini/rich/analysis/faceRhythm/mouse_0403L/run_20230903/20230717/jobNum_0/config.yaml   to   /media/rich/bigSSD/analysis_data/face_rhythm/mouse_0403L/fr_run/run_20230903/20230717/jobNum_0/config.yaml\n"
     ]
    },
    {
     "name": "stderr",
     "output_type": "stream",
     "text": [
      "0.00b [00:00, ?b/s]\n"
     ]
    },
    {
     "name": "stdout",
     "output_type": "stream",
     "text": [
      "downloading /n/data1/hms/neurobio/sabatini/rich/analysis/faceRhythm/mouse_0403L/run_20230903/20230717/jobNum_0/cpu_tracker.csv   to   /media/rich/bigSSD/analysis_data/face_rhythm/mouse_0403L/fr_run/run_20230903/20230717/jobNum_0/cpu_tracker.csv\n"
     ]
    },
    {
     "name": "stderr",
     "output_type": "stream",
     "text": [
      "0.00b [00:00, ?b/s]\n"
     ]
    },
    {
     "name": "stdout",
     "output_type": "stream",
     "text": [
      "downloading /n/data1/hms/neurobio/sabatini/rich/analysis/faceRhythm/mouse_0403L/run_20230903/20230717/jobNum_0/analysis_files/ROIs.h5   to   /media/rich/bigSSD/analysis_data/face_rhythm/mouse_0403L/fr_run/run_20230903/20230717/jobNum_0/analysis_files/ROIs.h5\n"
     ]
    },
    {
     "name": "stderr",
     "output_type": "stream",
     "text": [
      "0.00b [00:00, ?b/s]\n"
     ]
    },
    {
     "name": "stdout",
     "output_type": "stream",
     "text": [
      "downloading /n/data1/hms/neurobio/sabatini/rich/analysis/faceRhythm/mouse_0403L/run_20230903/20230717/jobNum_0/analysis_files/TCA.h5   to   /media/rich/bigSSD/analysis_data/face_rhythm/mouse_0403L/fr_run/run_20230903/20230717/jobNum_0/analysis_files/TCA.h5\n"
     ]
    },
    {
     "name": "stderr",
     "output_type": "stream",
     "text": [
      "0.00b [00:00, ?b/s]\n"
     ]
    },
    {
     "name": "stdout",
     "output_type": "stream",
     "text": [
      "downloading /n/data1/hms/neurobio/sabatini/rich/analysis/faceRhythm/mouse_0403L/run_20230903/20230717/jobNum_0/analysis_files/PointTracker.h5   to   /media/rich/bigSSD/analysis_data/face_rhythm/mouse_0403L/fr_run/run_20230903/20230717/jobNum_0/analysis_files/PointTracker.h5\n"
     ]
    },
    {
     "name": "stderr",
     "output_type": "stream",
     "text": [
      "0.00b [01:01, ?b/s]\n"
     ]
    },
    {
     "name": "stdout",
     "output_type": "stream",
     "text": [
      "downloading /n/data1/hms/neurobio/sabatini/rich/analysis/faceRhythm/mouse_0403L/run_20230903/20230717/jobNum_0/analysis_files/VQT_Analyzer.h5   to   /media/rich/bigSSD/analysis_data/face_rhythm/mouse_0403L/fr_run/run_20230903/20230717/jobNum_0/analysis_files/VQT_Analyzer.h5\n"
     ]
    },
    {
     "name": "stderr",
     "output_type": "stream",
     "text": [
      "0.00b [01:42, ?b/s]\n"
     ]
    },
    {
     "name": "stdout",
     "output_type": "stream",
     "text": [
      "downloading /n/data1/hms/neurobio/sabatini/rich/analysis/faceRhythm/mouse_0403L/run_20230903/20230717/jobNum_0/analysis_files/Dataset_videos.h5   to   /media/rich/bigSSD/analysis_data/face_rhythm/mouse_0403L/fr_run/run_20230903/20230717/jobNum_0/analysis_files/Dataset_videos.h5\n"
     ]
    },
    {
     "name": "stderr",
     "output_type": "stream",
     "text": [
      "0.00b [00:00, ?b/s]\n"
     ]
    },
    {
     "name": "stdout",
     "output_type": "stream",
     "text": [
      "downloading /n/data1/hms/neurobio/sabatini/rich/analysis/faceRhythm/mouse_0403L/run_20230903/20230717/jobNum_0/pipeline_basic.py   to   /media/rich/bigSSD/analysis_data/face_rhythm/mouse_0403L/fr_run/run_20230903/20230717/jobNum_0/pipeline_basic.py\n"
     ]
    },
    {
     "name": "stderr",
     "output_type": "stream",
     "text": [
      "0.00b [00:00, ?b/s]\n"
     ]
    },
    {
     "name": "stdout",
     "output_type": "stream",
     "text": [
      "downloading /n/data1/hms/neurobio/sabatini/rich/analysis/faceRhythm/mouse_0403L/run_20230903/20230717/jobNum_0/run_info.json   to   /media/rich/bigSSD/analysis_data/face_rhythm/mouse_0403L/fr_run/run_20230903/20230717/jobNum_0/run_info.json\n"
     ]
    },
    {
     "name": "stderr",
     "output_type": "stream",
     "text": [
      "0.00b [00:00, ?b/s]\n"
     ]
    },
    {
     "name": "stdout",
     "output_type": "stream",
     "text": [
      "downloading /n/data1/hms/neurobio/sabatini/rich/analysis/faceRhythm/mouse_0403L/run_20230903/20230717/jobNum_0/sbatch_config.sh   to   /media/rich/bigSSD/analysis_data/face_rhythm/mouse_0403L/fr_run/run_20230903/20230717/jobNum_0/sbatch_config.sh\n"
     ]
    },
    {
     "name": "stderr",
     "output_type": "stream",
     "text": [
      "0.00b [00:00, ?b/s]\n"
     ]
    },
    {
     "name": "stdout",
     "output_type": "stream",
     "text": [
      "downloading /n/data1/hms/neurobio/sabatini/rich/analysis/faceRhythm/mouse_0403L/run_20230903/20230717/pipeline_basic.py   to   /media/rich/bigSSD/analysis_data/face_rhythm/mouse_0403L/fr_run/run_20230903/20230717/pipeline_basic.py\n"
     ]
    },
    {
     "name": "stderr",
     "output_type": "stream",
     "text": [
      "0.00b [00:00, ?b/s]\n"
     ]
    },
    {
     "name": "stdout",
     "output_type": "stream",
     "text": [
      "downloading /n/data1/hms/neurobio/sabatini/rich/analysis/faceRhythm/mouse_0403L/run_20230903/20230717/dispatcher.py   to   /media/rich/bigSSD/analysis_data/face_rhythm/mouse_0403L/fr_run/run_20230903/20230717/dispatcher.py\n"
     ]
    },
    {
     "name": "stderr",
     "output_type": "stream",
     "text": [
      "0.00b [00:00, ?b/s]\n"
     ]
    },
    {
     "name": "stdout",
     "output_type": "stream",
     "text": [
      "downloading /n/data1/hms/neurobio/sabatini/rich/analysis/faceRhythm/mouse_0403L/run_20230903/20230717/notes.txt   to   /media/rich/bigSSD/analysis_data/face_rhythm/mouse_0403L/fr_run/run_20230903/20230717/notes.txt\n"
     ]
    },
    {
     "name": "stderr",
     "output_type": "stream",
     "text": [
      "0.00b [00:00, ?b/s]\n"
     ]
    },
    {
     "name": "stdout",
     "output_type": "stream",
     "text": [
      "downloading /n/data1/hms/neurobio/sabatini/rich/analysis/faceRhythm/mouse_0403L/run_20230903/20230806/parameters_batch.json   to   /media/rich/bigSSD/analysis_data/face_rhythm/mouse_0403L/fr_run/run_20230903/20230806/parameters_batch.json\n"
     ]
    },
    {
     "name": "stderr",
     "output_type": "stream",
     "text": [
      "0.00b [00:00, ?b/s]\n"
     ]
    },
    {
     "name": "stdout",
     "output_type": "stream",
     "text": [
      "downloading /n/data1/hms/neurobio/sabatini/rich/analysis/faceRhythm/mouse_0403L/run_20230903/20230806/jobNum_0/params.json   to   /media/rich/bigSSD/analysis_data/face_rhythm/mouse_0403L/fr_run/run_20230903/20230806/jobNum_0/params.json\n"
     ]
    },
    {
     "name": "stderr",
     "output_type": "stream",
     "text": [
      "0.00b [00:00, ?b/s]\n"
     ]
    },
    {
     "name": "stdout",
     "output_type": "stream",
     "text": [
      "downloading /n/data1/hms/neurobio/sabatini/rich/analysis/faceRhythm/mouse_0403L/run_20230903/20230806/jobNum_0/config.yaml   to   /media/rich/bigSSD/analysis_data/face_rhythm/mouse_0403L/fr_run/run_20230903/20230806/jobNum_0/config.yaml\n"
     ]
    },
    {
     "name": "stderr",
     "output_type": "stream",
     "text": [
      "0.00b [00:00, ?b/s]\n"
     ]
    },
    {
     "name": "stdout",
     "output_type": "stream",
     "text": [
      "downloading /n/data1/hms/neurobio/sabatini/rich/analysis/faceRhythm/mouse_0403L/run_20230903/20230806/jobNum_0/print_log_16790843.log   to   /media/rich/bigSSD/analysis_data/face_rhythm/mouse_0403L/fr_run/run_20230903/20230806/jobNum_0/print_log_16790843.log\n"
     ]
    },
    {
     "name": "stderr",
     "output_type": "stream",
     "text": [
      "0.00b [00:00, ?b/s]\n"
     ]
    },
    {
     "name": "stdout",
     "output_type": "stream",
     "text": [
      "downloading /n/data1/hms/neurobio/sabatini/rich/analysis/faceRhythm/mouse_0403L/run_20230903/20230806/jobNum_0/cpu_tracker.csv   to   /media/rich/bigSSD/analysis_data/face_rhythm/mouse_0403L/fr_run/run_20230903/20230806/jobNum_0/cpu_tracker.csv\n"
     ]
    },
    {
     "name": "stderr",
     "output_type": "stream",
     "text": [
      "0.00b [00:01, ?b/s]\n"
     ]
    },
    {
     "name": "stdout",
     "output_type": "stream",
     "text": [
      "downloading /n/data1/hms/neurobio/sabatini/rich/analysis/faceRhythm/mouse_0403L/run_20230903/20230806/jobNum_0/print_log_16850878.log   to   /media/rich/bigSSD/analysis_data/face_rhythm/mouse_0403L/fr_run/run_20230903/20230806/jobNum_0/print_log_16850878.log\n"
     ]
    },
    {
     "name": "stderr",
     "output_type": "stream",
     "text": [
      "0.00b [00:00, ?b/s]\n"
     ]
    },
    {
     "name": "stdout",
     "output_type": "stream",
     "text": [
      "downloading /n/data1/hms/neurobio/sabatini/rich/analysis/faceRhythm/mouse_0403L/run_20230903/20230806/jobNum_0/analysis_files/ROIs.h5   to   /media/rich/bigSSD/analysis_data/face_rhythm/mouse_0403L/fr_run/run_20230903/20230806/jobNum_0/analysis_files/ROIs.h5\n"
     ]
    },
    {
     "name": "stderr",
     "output_type": "stream",
     "text": [
      "0.00b [00:00, ?b/s]\n"
     ]
    },
    {
     "name": "stdout",
     "output_type": "stream",
     "text": [
      "downloading /n/data1/hms/neurobio/sabatini/rich/analysis/faceRhythm/mouse_0403L/run_20230903/20230806/jobNum_0/analysis_files/TCA.h5   to   /media/rich/bigSSD/analysis_data/face_rhythm/mouse_0403L/fr_run/run_20230903/20230806/jobNum_0/analysis_files/TCA.h5\n"
     ]
    },
    {
     "name": "stderr",
     "output_type": "stream",
     "text": [
      "0.00b [00:00, ?b/s]\n"
     ]
    },
    {
     "name": "stdout",
     "output_type": "stream",
     "text": [
      "downloading /n/data1/hms/neurobio/sabatini/rich/analysis/faceRhythm/mouse_0403L/run_20230903/20230806/jobNum_0/analysis_files/PointTracker.h5   to   /media/rich/bigSSD/analysis_data/face_rhythm/mouse_0403L/fr_run/run_20230903/20230806/jobNum_0/analysis_files/PointTracker.h5\n"
     ]
    },
    {
     "name": "stderr",
     "output_type": "stream",
     "text": [
      "0.00b [01:12, ?b/s]\n"
     ]
    },
    {
     "name": "stdout",
     "output_type": "stream",
     "text": [
      "downloading /n/data1/hms/neurobio/sabatini/rich/analysis/faceRhythm/mouse_0403L/run_20230903/20230806/jobNum_0/analysis_files/VQT_Analyzer.h5   to   /media/rich/bigSSD/analysis_data/face_rhythm/mouse_0403L/fr_run/run_20230903/20230806/jobNum_0/analysis_files/VQT_Analyzer.h5\n"
     ]
    },
    {
     "name": "stderr",
     "output_type": "stream",
     "text": [
      "0.00b [02:17, ?b/s]\n"
     ]
    },
    {
     "name": "stdout",
     "output_type": "stream",
     "text": [
      "downloading /n/data1/hms/neurobio/sabatini/rich/analysis/faceRhythm/mouse_0403L/run_20230903/20230806/jobNum_0/analysis_files/Dataset_videos.h5   to   /media/rich/bigSSD/analysis_data/face_rhythm/mouse_0403L/fr_run/run_20230903/20230806/jobNum_0/analysis_files/Dataset_videos.h5\n"
     ]
    },
    {
     "name": "stderr",
     "output_type": "stream",
     "text": [
      "0.00b [00:00, ?b/s]\n"
     ]
    },
    {
     "name": "stdout",
     "output_type": "stream",
     "text": [
      "downloading /n/data1/hms/neurobio/sabatini/rich/analysis/faceRhythm/mouse_0403L/run_20230903/20230806/jobNum_0/pipeline_basic.py   to   /media/rich/bigSSD/analysis_data/face_rhythm/mouse_0403L/fr_run/run_20230903/20230806/jobNum_0/pipeline_basic.py\n"
     ]
    },
    {
     "name": "stderr",
     "output_type": "stream",
     "text": [
      "0.00b [00:00, ?b/s]\n"
     ]
    },
    {
     "name": "stdout",
     "output_type": "stream",
     "text": [
      "downloading /n/data1/hms/neurobio/sabatini/rich/analysis/faceRhythm/mouse_0403L/run_20230903/20230806/jobNum_0/run_info.json   to   /media/rich/bigSSD/analysis_data/face_rhythm/mouse_0403L/fr_run/run_20230903/20230806/jobNum_0/run_info.json\n"
     ]
    },
    {
     "name": "stderr",
     "output_type": "stream",
     "text": [
      "0.00b [00:00, ?b/s]\n"
     ]
    },
    {
     "name": "stdout",
     "output_type": "stream",
     "text": [
      "downloading /n/data1/hms/neurobio/sabatini/rich/analysis/faceRhythm/mouse_0403L/run_20230903/20230806/jobNum_0/sbatch_config.sh   to   /media/rich/bigSSD/analysis_data/face_rhythm/mouse_0403L/fr_run/run_20230903/20230806/jobNum_0/sbatch_config.sh\n"
     ]
    },
    {
     "name": "stderr",
     "output_type": "stream",
     "text": [
      "0.00b [00:00, ?b/s]\n"
     ]
    },
    {
     "name": "stdout",
     "output_type": "stream",
     "text": [
      "downloading /n/data1/hms/neurobio/sabatini/rich/analysis/faceRhythm/mouse_0403L/run_20230903/20230806/pipeline_basic.py   to   /media/rich/bigSSD/analysis_data/face_rhythm/mouse_0403L/fr_run/run_20230903/20230806/pipeline_basic.py\n"
     ]
    },
    {
     "name": "stderr",
     "output_type": "stream",
     "text": [
      "0.00b [00:00, ?b/s]\n"
     ]
    },
    {
     "name": "stdout",
     "output_type": "stream",
     "text": [
      "downloading /n/data1/hms/neurobio/sabatini/rich/analysis/faceRhythm/mouse_0403L/run_20230903/20230806/dispatcher.py   to   /media/rich/bigSSD/analysis_data/face_rhythm/mouse_0403L/fr_run/run_20230903/20230806/dispatcher.py\n"
     ]
    },
    {
     "name": "stderr",
     "output_type": "stream",
     "text": [
      "0.00b [00:00, ?b/s]\n"
     ]
    },
    {
     "name": "stdout",
     "output_type": "stream",
     "text": [
      "downloading /n/data1/hms/neurobio/sabatini/rich/analysis/faceRhythm/mouse_0403L/run_20230903/20230806/notes.txt   to   /media/rich/bigSSD/analysis_data/face_rhythm/mouse_0403L/fr_run/run_20230903/20230806/notes.txt\n"
     ]
    },
    {
     "name": "stderr",
     "output_type": "stream",
     "text": [
      "0.00b [00:00, ?b/s]\n"
     ]
    },
    {
     "name": "stdout",
     "output_type": "stream",
     "text": [
      "downloading /n/data1/hms/neurobio/sabatini/rich/analysis/faceRhythm/mouse_0403L/run_20230903/20230718/parameters_batch.json   to   /media/rich/bigSSD/analysis_data/face_rhythm/mouse_0403L/fr_run/run_20230903/20230718/parameters_batch.json\n"
     ]
    },
    {
     "name": "stderr",
     "output_type": "stream",
     "text": [
      "0.00b [00:00, ?b/s]\n"
     ]
    },
    {
     "name": "stdout",
     "output_type": "stream",
     "text": [
      "downloading /n/data1/hms/neurobio/sabatini/rich/analysis/faceRhythm/mouse_0403L/run_20230903/20230718/jobNum_0/params.json   to   /media/rich/bigSSD/analysis_data/face_rhythm/mouse_0403L/fr_run/run_20230903/20230718/jobNum_0/params.json\n"
     ]
    },
    {
     "name": "stderr",
     "output_type": "stream",
     "text": [
      "0.00b [00:00, ?b/s]\n"
     ]
    },
    {
     "name": "stdout",
     "output_type": "stream",
     "text": [
      "downloading /n/data1/hms/neurobio/sabatini/rich/analysis/faceRhythm/mouse_0403L/run_20230903/20230718/jobNum_0/config.yaml   to   /media/rich/bigSSD/analysis_data/face_rhythm/mouse_0403L/fr_run/run_20230903/20230718/jobNum_0/config.yaml\n"
     ]
    },
    {
     "name": "stderr",
     "output_type": "stream",
     "text": [
      "0.00b [00:00, ?b/s]\n"
     ]
    },
    {
     "name": "stdout",
     "output_type": "stream",
     "text": [
      "downloading /n/data1/hms/neurobio/sabatini/rich/analysis/faceRhythm/mouse_0403L/run_20230903/20230718/jobNum_0/cpu_tracker.csv   to   /media/rich/bigSSD/analysis_data/face_rhythm/mouse_0403L/fr_run/run_20230903/20230718/jobNum_0/cpu_tracker.csv\n"
     ]
    },
    {
     "name": "stderr",
     "output_type": "stream",
     "text": [
      "0.00b [00:00, ?b/s]\n"
     ]
    },
    {
     "name": "stdout",
     "output_type": "stream",
     "text": [
      "downloading /n/data1/hms/neurobio/sabatini/rich/analysis/faceRhythm/mouse_0403L/run_20230903/20230718/jobNum_0/print_log_16790215.log   to   /media/rich/bigSSD/analysis_data/face_rhythm/mouse_0403L/fr_run/run_20230903/20230718/jobNum_0/print_log_16790215.log\n"
     ]
    },
    {
     "name": "stderr",
     "output_type": "stream",
     "text": [
      "0.00b [00:00, ?b/s]\n"
     ]
    },
    {
     "name": "stdout",
     "output_type": "stream",
     "text": [
      "downloading /n/data1/hms/neurobio/sabatini/rich/analysis/faceRhythm/mouse_0403L/run_20230903/20230718/jobNum_0/analysis_files/ROIs.h5   to   /media/rich/bigSSD/analysis_data/face_rhythm/mouse_0403L/fr_run/run_20230903/20230718/jobNum_0/analysis_files/ROIs.h5\n"
     ]
    },
    {
     "name": "stderr",
     "output_type": "stream",
     "text": [
      "0.00b [00:00, ?b/s]\n"
     ]
    },
    {
     "name": "stdout",
     "output_type": "stream",
     "text": [
      "downloading /n/data1/hms/neurobio/sabatini/rich/analysis/faceRhythm/mouse_0403L/run_20230903/20230718/jobNum_0/analysis_files/TCA.h5   to   /media/rich/bigSSD/analysis_data/face_rhythm/mouse_0403L/fr_run/run_20230903/20230718/jobNum_0/analysis_files/TCA.h5\n"
     ]
    },
    {
     "name": "stderr",
     "output_type": "stream",
     "text": [
      "0.00b [00:00, ?b/s]\n"
     ]
    },
    {
     "name": "stdout",
     "output_type": "stream",
     "text": [
      "downloading /n/data1/hms/neurobio/sabatini/rich/analysis/faceRhythm/mouse_0403L/run_20230903/20230718/jobNum_0/analysis_files/PointTracker.h5   to   /media/rich/bigSSD/analysis_data/face_rhythm/mouse_0403L/fr_run/run_20230903/20230718/jobNum_0/analysis_files/PointTracker.h5\n"
     ]
    },
    {
     "name": "stderr",
     "output_type": "stream",
     "text": [
      "0.00b [00:56, ?b/s]\n"
     ]
    },
    {
     "name": "stdout",
     "output_type": "stream",
     "text": [
      "downloading /n/data1/hms/neurobio/sabatini/rich/analysis/faceRhythm/mouse_0403L/run_20230903/20230718/jobNum_0/analysis_files/VQT_Analyzer.h5   to   /media/rich/bigSSD/analysis_data/face_rhythm/mouse_0403L/fr_run/run_20230903/20230718/jobNum_0/analysis_files/VQT_Analyzer.h5\n"
     ]
    },
    {
     "name": "stderr",
     "output_type": "stream",
     "text": [
      "0.00b [01:42, ?b/s]\n"
     ]
    },
    {
     "name": "stdout",
     "output_type": "stream",
     "text": [
      "downloading /n/data1/hms/neurobio/sabatini/rich/analysis/faceRhythm/mouse_0403L/run_20230903/20230718/jobNum_0/analysis_files/Dataset_videos.h5   to   /media/rich/bigSSD/analysis_data/face_rhythm/mouse_0403L/fr_run/run_20230903/20230718/jobNum_0/analysis_files/Dataset_videos.h5\n"
     ]
    },
    {
     "name": "stderr",
     "output_type": "stream",
     "text": [
      "0.00b [00:00, ?b/s]\n"
     ]
    },
    {
     "name": "stdout",
     "output_type": "stream",
     "text": [
      "downloading /n/data1/hms/neurobio/sabatini/rich/analysis/faceRhythm/mouse_0403L/run_20230903/20230718/jobNum_0/pipeline_basic.py   to   /media/rich/bigSSD/analysis_data/face_rhythm/mouse_0403L/fr_run/run_20230903/20230718/jobNum_0/pipeline_basic.py\n"
     ]
    },
    {
     "name": "stderr",
     "output_type": "stream",
     "text": [
      "0.00b [00:00, ?b/s]\n"
     ]
    },
    {
     "name": "stdout",
     "output_type": "stream",
     "text": [
      "downloading /n/data1/hms/neurobio/sabatini/rich/analysis/faceRhythm/mouse_0403L/run_20230903/20230718/jobNum_0/run_info.json   to   /media/rich/bigSSD/analysis_data/face_rhythm/mouse_0403L/fr_run/run_20230903/20230718/jobNum_0/run_info.json\n"
     ]
    },
    {
     "name": "stderr",
     "output_type": "stream",
     "text": [
      "0.00b [00:00, ?b/s]\n"
     ]
    },
    {
     "name": "stdout",
     "output_type": "stream",
     "text": [
      "downloading /n/data1/hms/neurobio/sabatini/rich/analysis/faceRhythm/mouse_0403L/run_20230903/20230718/jobNum_0/sbatch_config.sh   to   /media/rich/bigSSD/analysis_data/face_rhythm/mouse_0403L/fr_run/run_20230903/20230718/jobNum_0/sbatch_config.sh\n"
     ]
    },
    {
     "name": "stderr",
     "output_type": "stream",
     "text": [
      "0.00b [00:00, ?b/s]\n"
     ]
    },
    {
     "name": "stdout",
     "output_type": "stream",
     "text": [
      "downloading /n/data1/hms/neurobio/sabatini/rich/analysis/faceRhythm/mouse_0403L/run_20230903/20230718/pipeline_basic.py   to   /media/rich/bigSSD/analysis_data/face_rhythm/mouse_0403L/fr_run/run_20230903/20230718/pipeline_basic.py\n"
     ]
    },
    {
     "name": "stderr",
     "output_type": "stream",
     "text": [
      "0.00b [00:00, ?b/s]\n"
     ]
    },
    {
     "name": "stdout",
     "output_type": "stream",
     "text": [
      "downloading /n/data1/hms/neurobio/sabatini/rich/analysis/faceRhythm/mouse_0403L/run_20230903/20230718/dispatcher.py   to   /media/rich/bigSSD/analysis_data/face_rhythm/mouse_0403L/fr_run/run_20230903/20230718/dispatcher.py\n"
     ]
    },
    {
     "name": "stderr",
     "output_type": "stream",
     "text": [
      "0.00b [00:00, ?b/s]\n"
     ]
    },
    {
     "name": "stdout",
     "output_type": "stream",
     "text": [
      "downloading /n/data1/hms/neurobio/sabatini/rich/analysis/faceRhythm/mouse_0403L/run_20230903/20230718/notes.txt   to   /media/rich/bigSSD/analysis_data/face_rhythm/mouse_0403L/fr_run/run_20230903/20230718/notes.txt\n"
     ]
    },
    {
     "name": "stderr",
     "output_type": "stream",
     "text": [
      "0.00b [00:00, ?b/s]\n"
     ]
    },
    {
     "name": "stdout",
     "output_type": "stream",
     "text": [
      "downloading /n/data1/hms/neurobio/sabatini/rich/analysis/faceRhythm/mouse_0403L/run_20230903/20230709/parameters_batch.json   to   /media/rich/bigSSD/analysis_data/face_rhythm/mouse_0403L/fr_run/run_20230903/20230709/parameters_batch.json\n"
     ]
    },
    {
     "name": "stderr",
     "output_type": "stream",
     "text": [
      "0.00b [00:00, ?b/s]\n"
     ]
    },
    {
     "name": "stdout",
     "output_type": "stream",
     "text": [
      "downloading /n/data1/hms/neurobio/sabatini/rich/analysis/faceRhythm/mouse_0403L/run_20230903/20230709/jobNum_0/params.json   to   /media/rich/bigSSD/analysis_data/face_rhythm/mouse_0403L/fr_run/run_20230903/20230709/jobNum_0/params.json\n"
     ]
    },
    {
     "name": "stderr",
     "output_type": "stream",
     "text": [
      "0.00b [00:00, ?b/s]\n"
     ]
    },
    {
     "name": "stdout",
     "output_type": "stream",
     "text": [
      "downloading /n/data1/hms/neurobio/sabatini/rich/analysis/faceRhythm/mouse_0403L/run_20230903/20230709/jobNum_0/config.yaml   to   /media/rich/bigSSD/analysis_data/face_rhythm/mouse_0403L/fr_run/run_20230903/20230709/jobNum_0/config.yaml\n"
     ]
    },
    {
     "name": "stderr",
     "output_type": "stream",
     "text": [
      "0.00b [00:00, ?b/s]\n"
     ]
    },
    {
     "name": "stdout",
     "output_type": "stream",
     "text": [
      "downloading /n/data1/hms/neurobio/sabatini/rich/analysis/faceRhythm/mouse_0403L/run_20230903/20230709/jobNum_0/print_log_16753681.log   to   /media/rich/bigSSD/analysis_data/face_rhythm/mouse_0403L/fr_run/run_20230903/20230709/jobNum_0/print_log_16753681.log\n"
     ]
    },
    {
     "name": "stderr",
     "output_type": "stream",
     "text": [
      "0.00b [00:00, ?b/s]\n"
     ]
    },
    {
     "name": "stdout",
     "output_type": "stream",
     "text": [
      "downloading /n/data1/hms/neurobio/sabatini/rich/analysis/faceRhythm/mouse_0403L/run_20230903/20230709/jobNum_0/cpu_tracker.csv   to   /media/rich/bigSSD/analysis_data/face_rhythm/mouse_0403L/fr_run/run_20230903/20230709/jobNum_0/cpu_tracker.csv\n"
     ]
    },
    {
     "name": "stderr",
     "output_type": "stream",
     "text": [
      "0.00b [00:00, ?b/s]\n"
     ]
    },
    {
     "name": "stdout",
     "output_type": "stream",
     "text": [
      "downloading /n/data1/hms/neurobio/sabatini/rich/analysis/faceRhythm/mouse_0403L/run_20230903/20230709/jobNum_0/analysis_files/ROIs.h5   to   /media/rich/bigSSD/analysis_data/face_rhythm/mouse_0403L/fr_run/run_20230903/20230709/jobNum_0/analysis_files/ROIs.h5\n"
     ]
    },
    {
     "name": "stderr",
     "output_type": "stream",
     "text": [
      "0.00b [00:00, ?b/s]\n"
     ]
    },
    {
     "name": "stdout",
     "output_type": "stream",
     "text": [
      "downloading /n/data1/hms/neurobio/sabatini/rich/analysis/faceRhythm/mouse_0403L/run_20230903/20230709/jobNum_0/analysis_files/TCA.h5   to   /media/rich/bigSSD/analysis_data/face_rhythm/mouse_0403L/fr_run/run_20230903/20230709/jobNum_0/analysis_files/TCA.h5\n"
     ]
    },
    {
     "name": "stderr",
     "output_type": "stream",
     "text": [
      "0.00b [00:00, ?b/s]\n"
     ]
    },
    {
     "name": "stdout",
     "output_type": "stream",
     "text": [
      "downloading /n/data1/hms/neurobio/sabatini/rich/analysis/faceRhythm/mouse_0403L/run_20230903/20230709/jobNum_0/analysis_files/PointTracker.h5   to   /media/rich/bigSSD/analysis_data/face_rhythm/mouse_0403L/fr_run/run_20230903/20230709/jobNum_0/analysis_files/PointTracker.h5\n"
     ]
    },
    {
     "name": "stderr",
     "output_type": "stream",
     "text": [
      "0.00b [01:01, ?b/s]\n"
     ]
    },
    {
     "name": "stdout",
     "output_type": "stream",
     "text": [
      "downloading /n/data1/hms/neurobio/sabatini/rich/analysis/faceRhythm/mouse_0403L/run_20230903/20230709/jobNum_0/analysis_files/VQT_Analyzer.h5   to   /media/rich/bigSSD/analysis_data/face_rhythm/mouse_0403L/fr_run/run_20230903/20230709/jobNum_0/analysis_files/VQT_Analyzer.h5\n"
     ]
    },
    {
     "name": "stderr",
     "output_type": "stream",
     "text": [
      "0.00b [01:51, ?b/s]\n"
     ]
    },
    {
     "name": "stdout",
     "output_type": "stream",
     "text": [
      "downloading /n/data1/hms/neurobio/sabatini/rich/analysis/faceRhythm/mouse_0403L/run_20230903/20230709/jobNum_0/analysis_files/Dataset_videos.h5   to   /media/rich/bigSSD/analysis_data/face_rhythm/mouse_0403L/fr_run/run_20230903/20230709/jobNum_0/analysis_files/Dataset_videos.h5\n"
     ]
    },
    {
     "name": "stderr",
     "output_type": "stream",
     "text": [
      "0.00b [00:00, ?b/s]\n"
     ]
    },
    {
     "name": "stdout",
     "output_type": "stream",
     "text": [
      "downloading /n/data1/hms/neurobio/sabatini/rich/analysis/faceRhythm/mouse_0403L/run_20230903/20230709/jobNum_0/pipeline_basic.py   to   /media/rich/bigSSD/analysis_data/face_rhythm/mouse_0403L/fr_run/run_20230903/20230709/jobNum_0/pipeline_basic.py\n"
     ]
    },
    {
     "name": "stderr",
     "output_type": "stream",
     "text": [
      "0.00b [00:00, ?b/s]\n"
     ]
    },
    {
     "name": "stdout",
     "output_type": "stream",
     "text": [
      "downloading /n/data1/hms/neurobio/sabatini/rich/analysis/faceRhythm/mouse_0403L/run_20230903/20230709/jobNum_0/run_info.json   to   /media/rich/bigSSD/analysis_data/face_rhythm/mouse_0403L/fr_run/run_20230903/20230709/jobNum_0/run_info.json\n"
     ]
    },
    {
     "name": "stderr",
     "output_type": "stream",
     "text": [
      "0.00b [00:00, ?b/s]\n"
     ]
    },
    {
     "name": "stdout",
     "output_type": "stream",
     "text": [
      "downloading /n/data1/hms/neurobio/sabatini/rich/analysis/faceRhythm/mouse_0403L/run_20230903/20230709/jobNum_0/sbatch_config.sh   to   /media/rich/bigSSD/analysis_data/face_rhythm/mouse_0403L/fr_run/run_20230903/20230709/jobNum_0/sbatch_config.sh\n"
     ]
    },
    {
     "name": "stderr",
     "output_type": "stream",
     "text": [
      "0.00b [00:00, ?b/s]\n"
     ]
    },
    {
     "name": "stdout",
     "output_type": "stream",
     "text": [
      "downloading /n/data1/hms/neurobio/sabatini/rich/analysis/faceRhythm/mouse_0403L/run_20230903/20230709/pipeline_basic.py   to   /media/rich/bigSSD/analysis_data/face_rhythm/mouse_0403L/fr_run/run_20230903/20230709/pipeline_basic.py\n"
     ]
    },
    {
     "name": "stderr",
     "output_type": "stream",
     "text": [
      "0.00b [00:00, ?b/s]\n"
     ]
    },
    {
     "name": "stdout",
     "output_type": "stream",
     "text": [
      "downloading /n/data1/hms/neurobio/sabatini/rich/analysis/faceRhythm/mouse_0403L/run_20230903/20230709/dispatcher.py   to   /media/rich/bigSSD/analysis_data/face_rhythm/mouse_0403L/fr_run/run_20230903/20230709/dispatcher.py\n"
     ]
    },
    {
     "name": "stderr",
     "output_type": "stream",
     "text": [
      "0.00b [00:00, ?b/s]\n"
     ]
    },
    {
     "name": "stdout",
     "output_type": "stream",
     "text": [
      "downloading /n/data1/hms/neurobio/sabatini/rich/analysis/faceRhythm/mouse_0403L/run_20230903/20230709/notes.txt   to   /media/rich/bigSSD/analysis_data/face_rhythm/mouse_0403L/fr_run/run_20230903/20230709/notes.txt\n"
     ]
    },
    {
     "name": "stderr",
     "output_type": "stream",
     "text": [
      "0.00b [00:00, ?b/s]\n"
     ]
    },
    {
     "name": "stdout",
     "output_type": "stream",
     "text": [
      "downloading /n/data1/hms/neurobio/sabatini/rich/analysis/faceRhythm/mouse_0403L/run_20230903/20230713/parameters_batch.json   to   /media/rich/bigSSD/analysis_data/face_rhythm/mouse_0403L/fr_run/run_20230903/20230713/parameters_batch.json\n"
     ]
    },
    {
     "name": "stderr",
     "output_type": "stream",
     "text": [
      "0.00b [00:00, ?b/s]\n"
     ]
    },
    {
     "name": "stdout",
     "output_type": "stream",
     "text": [
      "downloading /n/data1/hms/neurobio/sabatini/rich/analysis/faceRhythm/mouse_0403L/run_20230903/20230713/jobNum_0/params.json   to   /media/rich/bigSSD/analysis_data/face_rhythm/mouse_0403L/fr_run/run_20230903/20230713/jobNum_0/params.json\n"
     ]
    },
    {
     "name": "stderr",
     "output_type": "stream",
     "text": [
      "0.00b [00:00, ?b/s]\n"
     ]
    },
    {
     "name": "stdout",
     "output_type": "stream",
     "text": [
      "downloading /n/data1/hms/neurobio/sabatini/rich/analysis/faceRhythm/mouse_0403L/run_20230903/20230713/jobNum_0/config.yaml   to   /media/rich/bigSSD/analysis_data/face_rhythm/mouse_0403L/fr_run/run_20230903/20230713/jobNum_0/config.yaml\n"
     ]
    },
    {
     "name": "stderr",
     "output_type": "stream",
     "text": [
      "0.00b [00:00, ?b/s]\n"
     ]
    },
    {
     "name": "stdout",
     "output_type": "stream",
     "text": [
      "downloading /n/data1/hms/neurobio/sabatini/rich/analysis/faceRhythm/mouse_0403L/run_20230903/20230713/jobNum_0/cpu_tracker.csv   to   /media/rich/bigSSD/analysis_data/face_rhythm/mouse_0403L/fr_run/run_20230903/20230713/jobNum_0/cpu_tracker.csv\n"
     ]
    },
    {
     "name": "stderr",
     "output_type": "stream",
     "text": [
      "0.00b [00:00, ?b/s]\n"
     ]
    },
    {
     "name": "stdout",
     "output_type": "stream",
     "text": [
      "downloading /n/data1/hms/neurobio/sabatini/rich/analysis/faceRhythm/mouse_0403L/run_20230903/20230713/jobNum_0/print_log_16789998.log   to   /media/rich/bigSSD/analysis_data/face_rhythm/mouse_0403L/fr_run/run_20230903/20230713/jobNum_0/print_log_16789998.log\n"
     ]
    },
    {
     "name": "stderr",
     "output_type": "stream",
     "text": [
      "0.00b [00:00, ?b/s]\n"
     ]
    },
    {
     "name": "stdout",
     "output_type": "stream",
     "text": [
      "downloading /n/data1/hms/neurobio/sabatini/rich/analysis/faceRhythm/mouse_0403L/run_20230903/20230713/jobNum_0/analysis_files/ROIs.h5   to   /media/rich/bigSSD/analysis_data/face_rhythm/mouse_0403L/fr_run/run_20230903/20230713/jobNum_0/analysis_files/ROIs.h5\n"
     ]
    },
    {
     "name": "stderr",
     "output_type": "stream",
     "text": [
      "0.00b [00:00, ?b/s]\n"
     ]
    },
    {
     "name": "stdout",
     "output_type": "stream",
     "text": [
      "downloading /n/data1/hms/neurobio/sabatini/rich/analysis/faceRhythm/mouse_0403L/run_20230903/20230713/jobNum_0/analysis_files/TCA.h5   to   /media/rich/bigSSD/analysis_data/face_rhythm/mouse_0403L/fr_run/run_20230903/20230713/jobNum_0/analysis_files/TCA.h5\n"
     ]
    },
    {
     "name": "stderr",
     "output_type": "stream",
     "text": [
      "0.00b [00:00, ?b/s]\n"
     ]
    },
    {
     "name": "stdout",
     "output_type": "stream",
     "text": [
      "downloading /n/data1/hms/neurobio/sabatini/rich/analysis/faceRhythm/mouse_0403L/run_20230903/20230713/jobNum_0/analysis_files/PointTracker.h5   to   /media/rich/bigSSD/analysis_data/face_rhythm/mouse_0403L/fr_run/run_20230903/20230713/jobNum_0/analysis_files/PointTracker.h5\n"
     ]
    },
    {
     "name": "stderr",
     "output_type": "stream",
     "text": [
      "0.00b [00:57, ?b/s]\n"
     ]
    },
    {
     "name": "stdout",
     "output_type": "stream",
     "text": [
      "downloading /n/data1/hms/neurobio/sabatini/rich/analysis/faceRhythm/mouse_0403L/run_20230903/20230713/jobNum_0/analysis_files/VQT_Analyzer.h5   to   /media/rich/bigSSD/analysis_data/face_rhythm/mouse_0403L/fr_run/run_20230903/20230713/jobNum_0/analysis_files/VQT_Analyzer.h5\n"
     ]
    },
    {
     "name": "stderr",
     "output_type": "stream",
     "text": [
      "0.00b [01:49, ?b/s]\n"
     ]
    },
    {
     "name": "stdout",
     "output_type": "stream",
     "text": [
      "downloading /n/data1/hms/neurobio/sabatini/rich/analysis/faceRhythm/mouse_0403L/run_20230903/20230713/jobNum_0/analysis_files/Dataset_videos.h5   to   /media/rich/bigSSD/analysis_data/face_rhythm/mouse_0403L/fr_run/run_20230903/20230713/jobNum_0/analysis_files/Dataset_videos.h5\n"
     ]
    },
    {
     "name": "stderr",
     "output_type": "stream",
     "text": [
      "0.00b [00:00, ?b/s]\n"
     ]
    },
    {
     "name": "stdout",
     "output_type": "stream",
     "text": [
      "downloading /n/data1/hms/neurobio/sabatini/rich/analysis/faceRhythm/mouse_0403L/run_20230903/20230713/jobNum_0/pipeline_basic.py   to   /media/rich/bigSSD/analysis_data/face_rhythm/mouse_0403L/fr_run/run_20230903/20230713/jobNum_0/pipeline_basic.py\n"
     ]
    },
    {
     "name": "stderr",
     "output_type": "stream",
     "text": [
      "0.00b [00:00, ?b/s]\n"
     ]
    },
    {
     "name": "stdout",
     "output_type": "stream",
     "text": [
      "downloading /n/data1/hms/neurobio/sabatini/rich/analysis/faceRhythm/mouse_0403L/run_20230903/20230713/jobNum_0/run_info.json   to   /media/rich/bigSSD/analysis_data/face_rhythm/mouse_0403L/fr_run/run_20230903/20230713/jobNum_0/run_info.json\n"
     ]
    },
    {
     "name": "stderr",
     "output_type": "stream",
     "text": [
      "0.00b [00:00, ?b/s]\n"
     ]
    },
    {
     "name": "stdout",
     "output_type": "stream",
     "text": [
      "downloading /n/data1/hms/neurobio/sabatini/rich/analysis/faceRhythm/mouse_0403L/run_20230903/20230713/jobNum_0/sbatch_config.sh   to   /media/rich/bigSSD/analysis_data/face_rhythm/mouse_0403L/fr_run/run_20230903/20230713/jobNum_0/sbatch_config.sh\n"
     ]
    },
    {
     "name": "stderr",
     "output_type": "stream",
     "text": [
      "0.00b [00:00, ?b/s]\n"
     ]
    },
    {
     "name": "stdout",
     "output_type": "stream",
     "text": [
      "downloading /n/data1/hms/neurobio/sabatini/rich/analysis/faceRhythm/mouse_0403L/run_20230903/20230713/pipeline_basic.py   to   /media/rich/bigSSD/analysis_data/face_rhythm/mouse_0403L/fr_run/run_20230903/20230713/pipeline_basic.py\n"
     ]
    },
    {
     "name": "stderr",
     "output_type": "stream",
     "text": [
      "0.00b [00:00, ?b/s]\n"
     ]
    },
    {
     "name": "stdout",
     "output_type": "stream",
     "text": [
      "downloading /n/data1/hms/neurobio/sabatini/rich/analysis/faceRhythm/mouse_0403L/run_20230903/20230713/dispatcher.py   to   /media/rich/bigSSD/analysis_data/face_rhythm/mouse_0403L/fr_run/run_20230903/20230713/dispatcher.py\n"
     ]
    },
    {
     "name": "stderr",
     "output_type": "stream",
     "text": [
      "0.00b [00:00, ?b/s]\n"
     ]
    },
    {
     "name": "stdout",
     "output_type": "stream",
     "text": [
      "downloading /n/data1/hms/neurobio/sabatini/rich/analysis/faceRhythm/mouse_0403L/run_20230903/20230713/notes.txt   to   /media/rich/bigSSD/analysis_data/face_rhythm/mouse_0403L/fr_run/run_20230903/20230713/notes.txt\n"
     ]
    },
    {
     "name": "stderr",
     "output_type": "stream",
     "text": [
      "0.00b [00:00, ?b/s]\n"
     ]
    },
    {
     "name": "stdout",
     "output_type": "stream",
     "text": [
      "downloading /n/data1/hms/neurobio/sabatini/rich/analysis/faceRhythm/mouse_0403L/run_20230903/20230727/parameters_batch.json   to   /media/rich/bigSSD/analysis_data/face_rhythm/mouse_0403L/fr_run/run_20230903/20230727/parameters_batch.json\n"
     ]
    },
    {
     "name": "stderr",
     "output_type": "stream",
     "text": [
      "0.00b [00:00, ?b/s]\n"
     ]
    },
    {
     "name": "stdout",
     "output_type": "stream",
     "text": [
      "downloading /n/data1/hms/neurobio/sabatini/rich/analysis/faceRhythm/mouse_0403L/run_20230903/20230727/jobNum_0/print_log_16850832.log   to   /media/rich/bigSSD/analysis_data/face_rhythm/mouse_0403L/fr_run/run_20230903/20230727/jobNum_0/print_log_16850832.log\n"
     ]
    },
    {
     "name": "stderr",
     "output_type": "stream",
     "text": [
      "0.00b [00:00, ?b/s]\n"
     ]
    },
    {
     "name": "stdout",
     "output_type": "stream",
     "text": [
      "downloading /n/data1/hms/neurobio/sabatini/rich/analysis/faceRhythm/mouse_0403L/run_20230903/20230727/jobNum_0/params.json   to   /media/rich/bigSSD/analysis_data/face_rhythm/mouse_0403L/fr_run/run_20230903/20230727/jobNum_0/params.json\n"
     ]
    },
    {
     "name": "stderr",
     "output_type": "stream",
     "text": [
      "0.00b [00:00, ?b/s]\n"
     ]
    },
    {
     "name": "stdout",
     "output_type": "stream",
     "text": [
      "downloading /n/data1/hms/neurobio/sabatini/rich/analysis/faceRhythm/mouse_0403L/run_20230903/20230727/jobNum_0/config.yaml   to   /media/rich/bigSSD/analysis_data/face_rhythm/mouse_0403L/fr_run/run_20230903/20230727/jobNum_0/config.yaml\n"
     ]
    },
    {
     "name": "stderr",
     "output_type": "stream",
     "text": [
      "0.00b [00:00, ?b/s]\n"
     ]
    },
    {
     "name": "stdout",
     "output_type": "stream",
     "text": [
      "downloading /n/data1/hms/neurobio/sabatini/rich/analysis/faceRhythm/mouse_0403L/run_20230903/20230727/jobNum_0/cpu_tracker.csv   to   /media/rich/bigSSD/analysis_data/face_rhythm/mouse_0403L/fr_run/run_20230903/20230727/jobNum_0/cpu_tracker.csv\n"
     ]
    },
    {
     "name": "stderr",
     "output_type": "stream",
     "text": [
      "0.00b [00:00, ?b/s]\n"
     ]
    },
    {
     "name": "stdout",
     "output_type": "stream",
     "text": [
      "downloading /n/data1/hms/neurobio/sabatini/rich/analysis/faceRhythm/mouse_0403L/run_20230903/20230727/jobNum_0/print_log_16790811.log   to   /media/rich/bigSSD/analysis_data/face_rhythm/mouse_0403L/fr_run/run_20230903/20230727/jobNum_0/print_log_16790811.log\n"
     ]
    },
    {
     "name": "stderr",
     "output_type": "stream",
     "text": [
      "0.00b [00:00, ?b/s]\n"
     ]
    },
    {
     "name": "stdout",
     "output_type": "stream",
     "text": [
      "downloading /n/data1/hms/neurobio/sabatini/rich/analysis/faceRhythm/mouse_0403L/run_20230903/20230727/jobNum_0/analysis_files/ROIs.h5   to   /media/rich/bigSSD/analysis_data/face_rhythm/mouse_0403L/fr_run/run_20230903/20230727/jobNum_0/analysis_files/ROIs.h5\n"
     ]
    },
    {
     "name": "stderr",
     "output_type": "stream",
     "text": [
      "0.00b [00:00, ?b/s]\n"
     ]
    },
    {
     "name": "stdout",
     "output_type": "stream",
     "text": [
      "downloading /n/data1/hms/neurobio/sabatini/rich/analysis/faceRhythm/mouse_0403L/run_20230903/20230727/jobNum_0/analysis_files/TCA.h5   to   /media/rich/bigSSD/analysis_data/face_rhythm/mouse_0403L/fr_run/run_20230903/20230727/jobNum_0/analysis_files/TCA.h5\n"
     ]
    },
    {
     "name": "stderr",
     "output_type": "stream",
     "text": [
      "0.00b [00:00, ?b/s]\n"
     ]
    },
    {
     "name": "stdout",
     "output_type": "stream",
     "text": [
      "downloading /n/data1/hms/neurobio/sabatini/rich/analysis/faceRhythm/mouse_0403L/run_20230903/20230727/jobNum_0/analysis_files/PointTracker.h5   to   /media/rich/bigSSD/analysis_data/face_rhythm/mouse_0403L/fr_run/run_20230903/20230727/jobNum_0/analysis_files/PointTracker.h5\n"
     ]
    },
    {
     "name": "stderr",
     "output_type": "stream",
     "text": [
      "0.00b [01:17, ?b/s]\n"
     ]
    },
    {
     "name": "stdout",
     "output_type": "stream",
     "text": [
      "downloading /n/data1/hms/neurobio/sabatini/rich/analysis/faceRhythm/mouse_0403L/run_20230903/20230727/jobNum_0/analysis_files/VQT_Analyzer.h5   to   /media/rich/bigSSD/analysis_data/face_rhythm/mouse_0403L/fr_run/run_20230903/20230727/jobNum_0/analysis_files/VQT_Analyzer.h5\n"
     ]
    },
    {
     "name": "stderr",
     "output_type": "stream",
     "text": [
      "0.00b [02:19, ?b/s]\n"
     ]
    },
    {
     "name": "stdout",
     "output_type": "stream",
     "text": [
      "downloading /n/data1/hms/neurobio/sabatini/rich/analysis/faceRhythm/mouse_0403L/run_20230903/20230727/jobNum_0/analysis_files/Dataset_videos.h5   to   /media/rich/bigSSD/analysis_data/face_rhythm/mouse_0403L/fr_run/run_20230903/20230727/jobNum_0/analysis_files/Dataset_videos.h5\n"
     ]
    },
    {
     "name": "stderr",
     "output_type": "stream",
     "text": [
      "0.00b [00:00, ?b/s]\n"
     ]
    },
    {
     "name": "stdout",
     "output_type": "stream",
     "text": [
      "downloading /n/data1/hms/neurobio/sabatini/rich/analysis/faceRhythm/mouse_0403L/run_20230903/20230727/jobNum_0/pipeline_basic.py   to   /media/rich/bigSSD/analysis_data/face_rhythm/mouse_0403L/fr_run/run_20230903/20230727/jobNum_0/pipeline_basic.py\n"
     ]
    },
    {
     "name": "stderr",
     "output_type": "stream",
     "text": [
      "0.00b [00:00, ?b/s]\n"
     ]
    },
    {
     "name": "stdout",
     "output_type": "stream",
     "text": [
      "downloading /n/data1/hms/neurobio/sabatini/rich/analysis/faceRhythm/mouse_0403L/run_20230903/20230727/jobNum_0/run_info.json   to   /media/rich/bigSSD/analysis_data/face_rhythm/mouse_0403L/fr_run/run_20230903/20230727/jobNum_0/run_info.json\n"
     ]
    },
    {
     "name": "stderr",
     "output_type": "stream",
     "text": [
      "0.00b [00:00, ?b/s]\n"
     ]
    },
    {
     "name": "stdout",
     "output_type": "stream",
     "text": [
      "downloading /n/data1/hms/neurobio/sabatini/rich/analysis/faceRhythm/mouse_0403L/run_20230903/20230727/jobNum_0/sbatch_config.sh   to   /media/rich/bigSSD/analysis_data/face_rhythm/mouse_0403L/fr_run/run_20230903/20230727/jobNum_0/sbatch_config.sh\n"
     ]
    },
    {
     "name": "stderr",
     "output_type": "stream",
     "text": [
      "0.00b [00:00, ?b/s]\n"
     ]
    },
    {
     "name": "stdout",
     "output_type": "stream",
     "text": [
      "downloading /n/data1/hms/neurobio/sabatini/rich/analysis/faceRhythm/mouse_0403L/run_20230903/20230727/pipeline_basic.py   to   /media/rich/bigSSD/analysis_data/face_rhythm/mouse_0403L/fr_run/run_20230903/20230727/pipeline_basic.py\n"
     ]
    },
    {
     "name": "stderr",
     "output_type": "stream",
     "text": [
      "0.00b [00:00, ?b/s]\n"
     ]
    },
    {
     "name": "stdout",
     "output_type": "stream",
     "text": [
      "downloading /n/data1/hms/neurobio/sabatini/rich/analysis/faceRhythm/mouse_0403L/run_20230903/20230727/dispatcher.py   to   /media/rich/bigSSD/analysis_data/face_rhythm/mouse_0403L/fr_run/run_20230903/20230727/dispatcher.py\n"
     ]
    },
    {
     "name": "stderr",
     "output_type": "stream",
     "text": [
      "0.00b [00:00, ?b/s]\n"
     ]
    },
    {
     "name": "stdout",
     "output_type": "stream",
     "text": [
      "downloading /n/data1/hms/neurobio/sabatini/rich/analysis/faceRhythm/mouse_0403L/run_20230903/20230727/notes.txt   to   /media/rich/bigSSD/analysis_data/face_rhythm/mouse_0403L/fr_run/run_20230903/20230727/notes.txt\n"
     ]
    },
    {
     "name": "stderr",
     "output_type": "stream",
     "text": [
      "0.00b [00:00, ?b/s]\n"
     ]
    },
    {
     "name": "stdout",
     "output_type": "stream",
     "text": [
      "downloading /n/data1/hms/neurobio/sabatini/rich/analysis/faceRhythm/mouse_0403L/run_20230903/20230728/parameters_batch.json   to   /media/rich/bigSSD/analysis_data/face_rhythm/mouse_0403L/fr_run/run_20230903/20230728/parameters_batch.json\n"
     ]
    },
    {
     "name": "stderr",
     "output_type": "stream",
     "text": [
      "0.00b [00:00, ?b/s]\n"
     ]
    },
    {
     "name": "stdout",
     "output_type": "stream",
     "text": [
      "downloading /n/data1/hms/neurobio/sabatini/rich/analysis/faceRhythm/mouse_0403L/run_20230903/20230728/jobNum_0/params.json   to   /media/rich/bigSSD/analysis_data/face_rhythm/mouse_0403L/fr_run/run_20230903/20230728/jobNum_0/params.json\n"
     ]
    },
    {
     "name": "stderr",
     "output_type": "stream",
     "text": [
      "0.00b [00:00, ?b/s]\n"
     ]
    },
    {
     "name": "stdout",
     "output_type": "stream",
     "text": [
      "downloading /n/data1/hms/neurobio/sabatini/rich/analysis/faceRhythm/mouse_0403L/run_20230903/20230728/jobNum_0/config.yaml   to   /media/rich/bigSSD/analysis_data/face_rhythm/mouse_0403L/fr_run/run_20230903/20230728/jobNum_0/config.yaml\n"
     ]
    },
    {
     "name": "stderr",
     "output_type": "stream",
     "text": [
      "0.00b [00:00, ?b/s]\n"
     ]
    },
    {
     "name": "stdout",
     "output_type": "stream",
     "text": [
      "downloading /n/data1/hms/neurobio/sabatini/rich/analysis/faceRhythm/mouse_0403L/run_20230903/20230728/jobNum_0/print_log_16790814.log   to   /media/rich/bigSSD/analysis_data/face_rhythm/mouse_0403L/fr_run/run_20230903/20230728/jobNum_0/print_log_16790814.log\n"
     ]
    },
    {
     "name": "stderr",
     "output_type": "stream",
     "text": [
      "0.00b [00:00, ?b/s]\n"
     ]
    },
    {
     "name": "stdout",
     "output_type": "stream",
     "text": [
      "downloading /n/data1/hms/neurobio/sabatini/rich/analysis/faceRhythm/mouse_0403L/run_20230903/20230728/jobNum_0/cpu_tracker.csv   to   /media/rich/bigSSD/analysis_data/face_rhythm/mouse_0403L/fr_run/run_20230903/20230728/jobNum_0/cpu_tracker.csv\n"
     ]
    },
    {
     "name": "stderr",
     "output_type": "stream",
     "text": [
      "0.00b [00:00, ?b/s]\n"
     ]
    },
    {
     "name": "stdout",
     "output_type": "stream",
     "text": [
      "downloading /n/data1/hms/neurobio/sabatini/rich/analysis/faceRhythm/mouse_0403L/run_20230903/20230728/jobNum_0/print_log_16850834.log   to   /media/rich/bigSSD/analysis_data/face_rhythm/mouse_0403L/fr_run/run_20230903/20230728/jobNum_0/print_log_16850834.log\n"
     ]
    },
    {
     "name": "stderr",
     "output_type": "stream",
     "text": [
      "0.00b [00:00, ?b/s]\n"
     ]
    },
    {
     "name": "stdout",
     "output_type": "stream",
     "text": [
      "downloading /n/data1/hms/neurobio/sabatini/rich/analysis/faceRhythm/mouse_0403L/run_20230903/20230728/jobNum_0/analysis_files/ROIs.h5   to   /media/rich/bigSSD/analysis_data/face_rhythm/mouse_0403L/fr_run/run_20230903/20230728/jobNum_0/analysis_files/ROIs.h5\n"
     ]
    },
    {
     "name": "stderr",
     "output_type": "stream",
     "text": [
      "0.00b [00:00, ?b/s]\n"
     ]
    },
    {
     "name": "stdout",
     "output_type": "stream",
     "text": [
      "downloading /n/data1/hms/neurobio/sabatini/rich/analysis/faceRhythm/mouse_0403L/run_20230903/20230728/jobNum_0/analysis_files/TCA.h5   to   /media/rich/bigSSD/analysis_data/face_rhythm/mouse_0403L/fr_run/run_20230903/20230728/jobNum_0/analysis_files/TCA.h5\n"
     ]
    },
    {
     "name": "stderr",
     "output_type": "stream",
     "text": [
      "0.00b [00:00, ?b/s]\n"
     ]
    },
    {
     "name": "stdout",
     "output_type": "stream",
     "text": [
      "downloading /n/data1/hms/neurobio/sabatini/rich/analysis/faceRhythm/mouse_0403L/run_20230903/20230728/jobNum_0/analysis_files/PointTracker.h5   to   /media/rich/bigSSD/analysis_data/face_rhythm/mouse_0403L/fr_run/run_20230903/20230728/jobNum_0/analysis_files/PointTracker.h5\n"
     ]
    },
    {
     "name": "stderr",
     "output_type": "stream",
     "text": [
      "0.00b [01:14, ?b/s]\n"
     ]
    },
    {
     "name": "stdout",
     "output_type": "stream",
     "text": [
      "downloading /n/data1/hms/neurobio/sabatini/rich/analysis/faceRhythm/mouse_0403L/run_20230903/20230728/jobNum_0/analysis_files/VQT_Analyzer.h5   to   /media/rich/bigSSD/analysis_data/face_rhythm/mouse_0403L/fr_run/run_20230903/20230728/jobNum_0/analysis_files/VQT_Analyzer.h5\n"
     ]
    },
    {
     "name": "stderr",
     "output_type": "stream",
     "text": [
      "0.00b [02:17, ?b/s]\n"
     ]
    },
    {
     "name": "stdout",
     "output_type": "stream",
     "text": [
      "downloading /n/data1/hms/neurobio/sabatini/rich/analysis/faceRhythm/mouse_0403L/run_20230903/20230728/jobNum_0/analysis_files/Dataset_videos.h5   to   /media/rich/bigSSD/analysis_data/face_rhythm/mouse_0403L/fr_run/run_20230903/20230728/jobNum_0/analysis_files/Dataset_videos.h5\n"
     ]
    },
    {
     "name": "stderr",
     "output_type": "stream",
     "text": [
      "0.00b [00:00, ?b/s]\n"
     ]
    },
    {
     "name": "stdout",
     "output_type": "stream",
     "text": [
      "downloading /n/data1/hms/neurobio/sabatini/rich/analysis/faceRhythm/mouse_0403L/run_20230903/20230728/jobNum_0/pipeline_basic.py   to   /media/rich/bigSSD/analysis_data/face_rhythm/mouse_0403L/fr_run/run_20230903/20230728/jobNum_0/pipeline_basic.py\n"
     ]
    },
    {
     "name": "stderr",
     "output_type": "stream",
     "text": [
      "0.00b [00:00, ?b/s]\n"
     ]
    },
    {
     "name": "stdout",
     "output_type": "stream",
     "text": [
      "downloading /n/data1/hms/neurobio/sabatini/rich/analysis/faceRhythm/mouse_0403L/run_20230903/20230728/jobNum_0/run_info.json   to   /media/rich/bigSSD/analysis_data/face_rhythm/mouse_0403L/fr_run/run_20230903/20230728/jobNum_0/run_info.json\n"
     ]
    },
    {
     "name": "stderr",
     "output_type": "stream",
     "text": [
      "0.00b [00:00, ?b/s]\n"
     ]
    },
    {
     "name": "stdout",
     "output_type": "stream",
     "text": [
      "downloading /n/data1/hms/neurobio/sabatini/rich/analysis/faceRhythm/mouse_0403L/run_20230903/20230728/jobNum_0/sbatch_config.sh   to   /media/rich/bigSSD/analysis_data/face_rhythm/mouse_0403L/fr_run/run_20230903/20230728/jobNum_0/sbatch_config.sh\n"
     ]
    },
    {
     "name": "stderr",
     "output_type": "stream",
     "text": [
      "0.00b [00:00, ?b/s]\n"
     ]
    },
    {
     "name": "stdout",
     "output_type": "stream",
     "text": [
      "downloading /n/data1/hms/neurobio/sabatini/rich/analysis/faceRhythm/mouse_0403L/run_20230903/20230728/pipeline_basic.py   to   /media/rich/bigSSD/analysis_data/face_rhythm/mouse_0403L/fr_run/run_20230903/20230728/pipeline_basic.py\n"
     ]
    },
    {
     "name": "stderr",
     "output_type": "stream",
     "text": [
      "0.00b [00:00, ?b/s]\n"
     ]
    },
    {
     "name": "stdout",
     "output_type": "stream",
     "text": [
      "downloading /n/data1/hms/neurobio/sabatini/rich/analysis/faceRhythm/mouse_0403L/run_20230903/20230728/dispatcher.py   to   /media/rich/bigSSD/analysis_data/face_rhythm/mouse_0403L/fr_run/run_20230903/20230728/dispatcher.py\n"
     ]
    },
    {
     "name": "stderr",
     "output_type": "stream",
     "text": [
      "0.00b [00:00, ?b/s]\n"
     ]
    },
    {
     "name": "stdout",
     "output_type": "stream",
     "text": [
      "downloading /n/data1/hms/neurobio/sabatini/rich/analysis/faceRhythm/mouse_0403L/run_20230903/20230728/notes.txt   to   /media/rich/bigSSD/analysis_data/face_rhythm/mouse_0403L/fr_run/run_20230903/20230728/notes.txt\n"
     ]
    },
    {
     "name": "stderr",
     "output_type": "stream",
     "text": [
      "0.00b [00:00, ?b/s]\n"
     ]
    },
    {
     "name": "stdout",
     "output_type": "stream",
     "text": [
      "downloading /n/data1/hms/neurobio/sabatini/rich/analysis/faceRhythm/mouse_0403L/run_20230903/20230703/parameters_batch.json   to   /media/rich/bigSSD/analysis_data/face_rhythm/mouse_0403L/fr_run/run_20230903/20230703/parameters_batch.json\n"
     ]
    },
    {
     "name": "stderr",
     "output_type": "stream",
     "text": [
      "0.00b [00:00, ?b/s]\n"
     ]
    },
    {
     "name": "stdout",
     "output_type": "stream",
     "text": [
      "downloading /n/data1/hms/neurobio/sabatini/rich/analysis/faceRhythm/mouse_0403L/run_20230903/20230703/jobNum_0/params.json   to   /media/rich/bigSSD/analysis_data/face_rhythm/mouse_0403L/fr_run/run_20230903/20230703/jobNum_0/params.json\n"
     ]
    },
    {
     "name": "stderr",
     "output_type": "stream",
     "text": [
      "0.00b [00:00, ?b/s]\n"
     ]
    },
    {
     "name": "stdout",
     "output_type": "stream",
     "text": [
      "downloading /n/data1/hms/neurobio/sabatini/rich/analysis/faceRhythm/mouse_0403L/run_20230903/20230703/jobNum_0/config.yaml   to   /media/rich/bigSSD/analysis_data/face_rhythm/mouse_0403L/fr_run/run_20230903/20230703/jobNum_0/config.yaml\n"
     ]
    },
    {
     "name": "stderr",
     "output_type": "stream",
     "text": [
      "0.00b [00:00, ?b/s]\n"
     ]
    },
    {
     "name": "stdout",
     "output_type": "stream",
     "text": [
      "downloading /n/data1/hms/neurobio/sabatini/rich/analysis/faceRhythm/mouse_0403L/run_20230903/20230703/jobNum_0/cpu_tracker.csv   to   /media/rich/bigSSD/analysis_data/face_rhythm/mouse_0403L/fr_run/run_20230903/20230703/jobNum_0/cpu_tracker.csv\n"
     ]
    },
    {
     "name": "stderr",
     "output_type": "stream",
     "text": [
      "0.00b [00:01, ?b/s]\n"
     ]
    },
    {
     "name": "stdout",
     "output_type": "stream",
     "text": [
      "downloading /n/data1/hms/neurobio/sabatini/rich/analysis/faceRhythm/mouse_0403L/run_20230903/20230703/jobNum_0/print_log_16753655.log   to   /media/rich/bigSSD/analysis_data/face_rhythm/mouse_0403L/fr_run/run_20230903/20230703/jobNum_0/print_log_16753655.log\n"
     ]
    },
    {
     "name": "stderr",
     "output_type": "stream",
     "text": [
      "0.00b [00:00, ?b/s]\n"
     ]
    },
    {
     "name": "stdout",
     "output_type": "stream",
     "text": [
      "downloading /n/data1/hms/neurobio/sabatini/rich/analysis/faceRhythm/mouse_0403L/run_20230903/20230703/jobNum_0/analysis_files/ROIs.h5   to   /media/rich/bigSSD/analysis_data/face_rhythm/mouse_0403L/fr_run/run_20230903/20230703/jobNum_0/analysis_files/ROIs.h5\n"
     ]
    },
    {
     "name": "stderr",
     "output_type": "stream",
     "text": [
      "0.00b [00:00, ?b/s]\n"
     ]
    },
    {
     "name": "stdout",
     "output_type": "stream",
     "text": [
      "downloading /n/data1/hms/neurobio/sabatini/rich/analysis/faceRhythm/mouse_0403L/run_20230903/20230703/jobNum_0/analysis_files/TCA.h5   to   /media/rich/bigSSD/analysis_data/face_rhythm/mouse_0403L/fr_run/run_20230903/20230703/jobNum_0/analysis_files/TCA.h5\n"
     ]
    },
    {
     "name": "stderr",
     "output_type": "stream",
     "text": [
      "0.00b [00:00, ?b/s]\n"
     ]
    },
    {
     "name": "stdout",
     "output_type": "stream",
     "text": [
      "downloading /n/data1/hms/neurobio/sabatini/rich/analysis/faceRhythm/mouse_0403L/run_20230903/20230703/jobNum_0/analysis_files/PointTracker.h5   to   /media/rich/bigSSD/analysis_data/face_rhythm/mouse_0403L/fr_run/run_20230903/20230703/jobNum_0/analysis_files/PointTracker.h5\n"
     ]
    },
    {
     "name": "stderr",
     "output_type": "stream",
     "text": [
      "0.00b [00:57, ?b/s]\n"
     ]
    },
    {
     "name": "stdout",
     "output_type": "stream",
     "text": [
      "downloading /n/data1/hms/neurobio/sabatini/rich/analysis/faceRhythm/mouse_0403L/run_20230903/20230703/jobNum_0/analysis_files/VQT_Analyzer.h5   to   /media/rich/bigSSD/analysis_data/face_rhythm/mouse_0403L/fr_run/run_20230903/20230703/jobNum_0/analysis_files/VQT_Analyzer.h5\n"
     ]
    },
    {
     "name": "stderr",
     "output_type": "stream",
     "text": [
      "0.00b [01:50, ?b/s]\n"
     ]
    },
    {
     "name": "stdout",
     "output_type": "stream",
     "text": [
      "downloading /n/data1/hms/neurobio/sabatini/rich/analysis/faceRhythm/mouse_0403L/run_20230903/20230703/jobNum_0/analysis_files/Dataset_videos.h5   to   /media/rich/bigSSD/analysis_data/face_rhythm/mouse_0403L/fr_run/run_20230903/20230703/jobNum_0/analysis_files/Dataset_videos.h5\n"
     ]
    },
    {
     "name": "stderr",
     "output_type": "stream",
     "text": [
      "0.00b [00:00, ?b/s]\n"
     ]
    },
    {
     "name": "stdout",
     "output_type": "stream",
     "text": [
      "downloading /n/data1/hms/neurobio/sabatini/rich/analysis/faceRhythm/mouse_0403L/run_20230903/20230703/jobNum_0/pipeline_basic.py   to   /media/rich/bigSSD/analysis_data/face_rhythm/mouse_0403L/fr_run/run_20230903/20230703/jobNum_0/pipeline_basic.py\n"
     ]
    },
    {
     "name": "stderr",
     "output_type": "stream",
     "text": [
      "0.00b [00:00, ?b/s]\n"
     ]
    },
    {
     "name": "stdout",
     "output_type": "stream",
     "text": [
      "downloading /n/data1/hms/neurobio/sabatini/rich/analysis/faceRhythm/mouse_0403L/run_20230903/20230703/jobNum_0/run_info.json   to   /media/rich/bigSSD/analysis_data/face_rhythm/mouse_0403L/fr_run/run_20230903/20230703/jobNum_0/run_info.json\n"
     ]
    },
    {
     "name": "stderr",
     "output_type": "stream",
     "text": [
      "0.00b [00:00, ?b/s]\n"
     ]
    },
    {
     "name": "stdout",
     "output_type": "stream",
     "text": [
      "downloading /n/data1/hms/neurobio/sabatini/rich/analysis/faceRhythm/mouse_0403L/run_20230903/20230703/jobNum_0/sbatch_config.sh   to   /media/rich/bigSSD/analysis_data/face_rhythm/mouse_0403L/fr_run/run_20230903/20230703/jobNum_0/sbatch_config.sh\n"
     ]
    },
    {
     "name": "stderr",
     "output_type": "stream",
     "text": [
      "0.00b [00:00, ?b/s]\n"
     ]
    },
    {
     "name": "stdout",
     "output_type": "stream",
     "text": [
      "downloading /n/data1/hms/neurobio/sabatini/rich/analysis/faceRhythm/mouse_0403L/run_20230903/20230703/pipeline_basic.py   to   /media/rich/bigSSD/analysis_data/face_rhythm/mouse_0403L/fr_run/run_20230903/20230703/pipeline_basic.py\n"
     ]
    },
    {
     "name": "stderr",
     "output_type": "stream",
     "text": [
      "0.00b [00:00, ?b/s]\n"
     ]
    },
    {
     "name": "stdout",
     "output_type": "stream",
     "text": [
      "downloading /n/data1/hms/neurobio/sabatini/rich/analysis/faceRhythm/mouse_0403L/run_20230903/20230703/dispatcher.py   to   /media/rich/bigSSD/analysis_data/face_rhythm/mouse_0403L/fr_run/run_20230903/20230703/dispatcher.py\n"
     ]
    },
    {
     "name": "stderr",
     "output_type": "stream",
     "text": [
      "0.00b [00:00, ?b/s]\n"
     ]
    },
    {
     "name": "stdout",
     "output_type": "stream",
     "text": [
      "downloading /n/data1/hms/neurobio/sabatini/rich/analysis/faceRhythm/mouse_0403L/run_20230903/20230703/notes.txt   to   /media/rich/bigSSD/analysis_data/face_rhythm/mouse_0403L/fr_run/run_20230903/20230703/notes.txt\n"
     ]
    },
    {
     "name": "stderr",
     "output_type": "stream",
     "text": [
      "0.00b [00:00, ?b/s]\n"
     ]
    },
    {
     "name": "stdout",
     "output_type": "stream",
     "text": [
      "downloading /n/data1/hms/neurobio/sabatini/rich/analysis/faceRhythm/mouse_0403L/run_20230903/20230801/parameters_batch.json   to   /media/rich/bigSSD/analysis_data/face_rhythm/mouse_0403L/fr_run/run_20230903/20230801/parameters_batch.json\n"
     ]
    },
    {
     "name": "stderr",
     "output_type": "stream",
     "text": [
      "0.00b [00:00, ?b/s]\n"
     ]
    },
    {
     "name": "stdout",
     "output_type": "stream",
     "text": [
      "downloading /n/data1/hms/neurobio/sabatini/rich/analysis/faceRhythm/mouse_0403L/run_20230903/20230801/jobNum_0/params.json   to   /media/rich/bigSSD/analysis_data/face_rhythm/mouse_0403L/fr_run/run_20230903/20230801/jobNum_0/params.json\n"
     ]
    },
    {
     "name": "stderr",
     "output_type": "stream",
     "text": [
      "0.00b [00:00, ?b/s]\n"
     ]
    },
    {
     "name": "stdout",
     "output_type": "stream",
     "text": [
      "downloading /n/data1/hms/neurobio/sabatini/rich/analysis/faceRhythm/mouse_0403L/run_20230903/20230801/jobNum_0/config.yaml   to   /media/rich/bigSSD/analysis_data/face_rhythm/mouse_0403L/fr_run/run_20230903/20230801/jobNum_0/config.yaml\n"
     ]
    },
    {
     "name": "stderr",
     "output_type": "stream",
     "text": [
      "0.00b [00:00, ?b/s]\n"
     ]
    },
    {
     "name": "stdout",
     "output_type": "stream",
     "text": [
      "downloading /n/data1/hms/neurobio/sabatini/rich/analysis/faceRhythm/mouse_0403L/run_20230903/20230801/jobNum_0/cpu_tracker.csv   to   /media/rich/bigSSD/analysis_data/face_rhythm/mouse_0403L/fr_run/run_20230903/20230801/jobNum_0/cpu_tracker.csv\n"
     ]
    },
    {
     "name": "stderr",
     "output_type": "stream",
     "text": [
      "0.00b [00:00, ?b/s]\n"
     ]
    },
    {
     "name": "stdout",
     "output_type": "stream",
     "text": [
      "downloading /n/data1/hms/neurobio/sabatini/rich/analysis/faceRhythm/mouse_0403L/run_20230903/20230801/jobNum_0/print_log_16790821.log   to   /media/rich/bigSSD/analysis_data/face_rhythm/mouse_0403L/fr_run/run_20230903/20230801/jobNum_0/print_log_16790821.log\n"
     ]
    },
    {
     "name": "stderr",
     "output_type": "stream",
     "text": [
      "0.00b [00:00, ?b/s]\n"
     ]
    },
    {
     "name": "stdout",
     "output_type": "stream",
     "text": [
      "downloading /n/data1/hms/neurobio/sabatini/rich/analysis/faceRhythm/mouse_0403L/run_20230903/20230801/jobNum_0/analysis_files/ROIs.h5   to   /media/rich/bigSSD/analysis_data/face_rhythm/mouse_0403L/fr_run/run_20230903/20230801/jobNum_0/analysis_files/ROIs.h5\n"
     ]
    },
    {
     "name": "stderr",
     "output_type": "stream",
     "text": [
      "0.00b [00:00, ?b/s]\n"
     ]
    },
    {
     "name": "stdout",
     "output_type": "stream",
     "text": [
      "downloading /n/data1/hms/neurobio/sabatini/rich/analysis/faceRhythm/mouse_0403L/run_20230903/20230801/jobNum_0/analysis_files/TCA.h5   to   /media/rich/bigSSD/analysis_data/face_rhythm/mouse_0403L/fr_run/run_20230903/20230801/jobNum_0/analysis_files/TCA.h5\n"
     ]
    },
    {
     "name": "stderr",
     "output_type": "stream",
     "text": [
      "0.00b [00:00, ?b/s]\n"
     ]
    },
    {
     "name": "stdout",
     "output_type": "stream",
     "text": [
      "downloading /n/data1/hms/neurobio/sabatini/rich/analysis/faceRhythm/mouse_0403L/run_20230903/20230801/jobNum_0/analysis_files/PointTracker.h5   to   /media/rich/bigSSD/analysis_data/face_rhythm/mouse_0403L/fr_run/run_20230903/20230801/jobNum_0/analysis_files/PointTracker.h5\n"
     ]
    },
    {
     "name": "stderr",
     "output_type": "stream",
     "text": [
      "0.00b [01:18, ?b/s]\n"
     ]
    },
    {
     "name": "stdout",
     "output_type": "stream",
     "text": [
      "downloading /n/data1/hms/neurobio/sabatini/rich/analysis/faceRhythm/mouse_0403L/run_20230903/20230801/jobNum_0/analysis_files/VQT_Analyzer.h5   to   /media/rich/bigSSD/analysis_data/face_rhythm/mouse_0403L/fr_run/run_20230903/20230801/jobNum_0/analysis_files/VQT_Analyzer.h5\n"
     ]
    },
    {
     "name": "stderr",
     "output_type": "stream",
     "text": [
      "0.00b [02:13, ?b/s]\n"
     ]
    },
    {
     "name": "stdout",
     "output_type": "stream",
     "text": [
      "downloading /n/data1/hms/neurobio/sabatini/rich/analysis/faceRhythm/mouse_0403L/run_20230903/20230801/jobNum_0/analysis_files/Dataset_videos.h5   to   /media/rich/bigSSD/analysis_data/face_rhythm/mouse_0403L/fr_run/run_20230903/20230801/jobNum_0/analysis_files/Dataset_videos.h5\n"
     ]
    },
    {
     "name": "stderr",
     "output_type": "stream",
     "text": [
      "0.00b [00:00, ?b/s]\n"
     ]
    },
    {
     "name": "stdout",
     "output_type": "stream",
     "text": [
      "downloading /n/data1/hms/neurobio/sabatini/rich/analysis/faceRhythm/mouse_0403L/run_20230903/20230801/jobNum_0/pipeline_basic.py   to   /media/rich/bigSSD/analysis_data/face_rhythm/mouse_0403L/fr_run/run_20230903/20230801/jobNum_0/pipeline_basic.py\n"
     ]
    },
    {
     "name": "stderr",
     "output_type": "stream",
     "text": [
      "0.00b [00:00, ?b/s]\n"
     ]
    },
    {
     "name": "stdout",
     "output_type": "stream",
     "text": [
      "downloading /n/data1/hms/neurobio/sabatini/rich/analysis/faceRhythm/mouse_0403L/run_20230903/20230801/jobNum_0/run_info.json   to   /media/rich/bigSSD/analysis_data/face_rhythm/mouse_0403L/fr_run/run_20230903/20230801/jobNum_0/run_info.json\n"
     ]
    },
    {
     "name": "stderr",
     "output_type": "stream",
     "text": [
      "0.00b [00:00, ?b/s]\n"
     ]
    },
    {
     "name": "stdout",
     "output_type": "stream",
     "text": [
      "downloading /n/data1/hms/neurobio/sabatini/rich/analysis/faceRhythm/mouse_0403L/run_20230903/20230801/jobNum_0/print_log_16850856.log   to   /media/rich/bigSSD/analysis_data/face_rhythm/mouse_0403L/fr_run/run_20230903/20230801/jobNum_0/print_log_16850856.log\n"
     ]
    },
    {
     "name": "stderr",
     "output_type": "stream",
     "text": [
      "0.00b [00:00, ?b/s]\n"
     ]
    },
    {
     "name": "stdout",
     "output_type": "stream",
     "text": [
      "downloading /n/data1/hms/neurobio/sabatini/rich/analysis/faceRhythm/mouse_0403L/run_20230903/20230801/jobNum_0/sbatch_config.sh   to   /media/rich/bigSSD/analysis_data/face_rhythm/mouse_0403L/fr_run/run_20230903/20230801/jobNum_0/sbatch_config.sh\n"
     ]
    },
    {
     "name": "stderr",
     "output_type": "stream",
     "text": [
      "0.00b [00:00, ?b/s]\n"
     ]
    },
    {
     "name": "stdout",
     "output_type": "stream",
     "text": [
      "downloading /n/data1/hms/neurobio/sabatini/rich/analysis/faceRhythm/mouse_0403L/run_20230903/20230801/pipeline_basic.py   to   /media/rich/bigSSD/analysis_data/face_rhythm/mouse_0403L/fr_run/run_20230903/20230801/pipeline_basic.py\n"
     ]
    },
    {
     "name": "stderr",
     "output_type": "stream",
     "text": [
      "0.00b [00:00, ?b/s]\n"
     ]
    },
    {
     "name": "stdout",
     "output_type": "stream",
     "text": [
      "downloading /n/data1/hms/neurobio/sabatini/rich/analysis/faceRhythm/mouse_0403L/run_20230903/20230801/dispatcher.py   to   /media/rich/bigSSD/analysis_data/face_rhythm/mouse_0403L/fr_run/run_20230903/20230801/dispatcher.py\n"
     ]
    },
    {
     "name": "stderr",
     "output_type": "stream",
     "text": [
      "0.00b [00:00, ?b/s]\n"
     ]
    },
    {
     "name": "stdout",
     "output_type": "stream",
     "text": [
      "downloading /n/data1/hms/neurobio/sabatini/rich/analysis/faceRhythm/mouse_0403L/run_20230903/20230801/notes.txt   to   /media/rich/bigSSD/analysis_data/face_rhythm/mouse_0403L/fr_run/run_20230903/20230801/notes.txt\n"
     ]
    },
    {
     "name": "stderr",
     "output_type": "stream",
     "text": [
      "0.00b [00:00, ?b/s]\n"
     ]
    },
    {
     "name": "stdout",
     "output_type": "stream",
     "text": [
      "downloading /n/data1/hms/neurobio/sabatini/rich/analysis/faceRhythm/mouse_0403L/run_20230903/20230731/parameters_batch.json   to   /media/rich/bigSSD/analysis_data/face_rhythm/mouse_0403L/fr_run/run_20230903/20230731/parameters_batch.json\n"
     ]
    },
    {
     "name": "stderr",
     "output_type": "stream",
     "text": [
      "0.00b [00:00, ?b/s]\n"
     ]
    },
    {
     "name": "stdout",
     "output_type": "stream",
     "text": [
      "downloading /n/data1/hms/neurobio/sabatini/rich/analysis/faceRhythm/mouse_0403L/run_20230903/20230731/jobNum_0/print_log_16790820.log   to   /media/rich/bigSSD/analysis_data/face_rhythm/mouse_0403L/fr_run/run_20230903/20230731/jobNum_0/print_log_16790820.log\n"
     ]
    },
    {
     "name": "stderr",
     "output_type": "stream",
     "text": [
      "0.00b [00:00, ?b/s]\n"
     ]
    },
    {
     "name": "stdout",
     "output_type": "stream",
     "text": [
      "downloading /n/data1/hms/neurobio/sabatini/rich/analysis/faceRhythm/mouse_0403L/run_20230903/20230731/jobNum_0/params.json   to   /media/rich/bigSSD/analysis_data/face_rhythm/mouse_0403L/fr_run/run_20230903/20230731/jobNum_0/params.json\n"
     ]
    },
    {
     "name": "stderr",
     "output_type": "stream",
     "text": [
      "0.00b [00:00, ?b/s]\n"
     ]
    },
    {
     "name": "stdout",
     "output_type": "stream",
     "text": [
      "downloading /n/data1/hms/neurobio/sabatini/rich/analysis/faceRhythm/mouse_0403L/run_20230903/20230731/jobNum_0/config.yaml   to   /media/rich/bigSSD/analysis_data/face_rhythm/mouse_0403L/fr_run/run_20230903/20230731/jobNum_0/config.yaml\n"
     ]
    },
    {
     "name": "stderr",
     "output_type": "stream",
     "text": [
      "0.00b [00:00, ?b/s]\n"
     ]
    },
    {
     "name": "stdout",
     "output_type": "stream",
     "text": [
      "downloading /n/data1/hms/neurobio/sabatini/rich/analysis/faceRhythm/mouse_0403L/run_20230903/20230731/jobNum_0/cpu_tracker.csv   to   /media/rich/bigSSD/analysis_data/face_rhythm/mouse_0403L/fr_run/run_20230903/20230731/jobNum_0/cpu_tracker.csv\n"
     ]
    },
    {
     "name": "stderr",
     "output_type": "stream",
     "text": [
      "0.00b [00:00, ?b/s]\n"
     ]
    },
    {
     "name": "stdout",
     "output_type": "stream",
     "text": [
      "downloading /n/data1/hms/neurobio/sabatini/rich/analysis/faceRhythm/mouse_0403L/run_20230903/20230731/jobNum_0/print_log_16850850.log   to   /media/rich/bigSSD/analysis_data/face_rhythm/mouse_0403L/fr_run/run_20230903/20230731/jobNum_0/print_log_16850850.log\n"
     ]
    },
    {
     "name": "stderr",
     "output_type": "stream",
     "text": [
      "0.00b [00:00, ?b/s]\n"
     ]
    },
    {
     "name": "stdout",
     "output_type": "stream",
     "text": [
      "downloading /n/data1/hms/neurobio/sabatini/rich/analysis/faceRhythm/mouse_0403L/run_20230903/20230731/jobNum_0/analysis_files/ROIs.h5   to   /media/rich/bigSSD/analysis_data/face_rhythm/mouse_0403L/fr_run/run_20230903/20230731/jobNum_0/analysis_files/ROIs.h5\n"
     ]
    },
    {
     "name": "stderr",
     "output_type": "stream",
     "text": [
      "0.00b [00:00, ?b/s]\n"
     ]
    },
    {
     "name": "stdout",
     "output_type": "stream",
     "text": [
      "downloading /n/data1/hms/neurobio/sabatini/rich/analysis/faceRhythm/mouse_0403L/run_20230903/20230731/jobNum_0/analysis_files/TCA.h5   to   /media/rich/bigSSD/analysis_data/face_rhythm/mouse_0403L/fr_run/run_20230903/20230731/jobNum_0/analysis_files/TCA.h5\n"
     ]
    },
    {
     "name": "stderr",
     "output_type": "stream",
     "text": [
      "0.00b [00:00, ?b/s]\n"
     ]
    },
    {
     "name": "stdout",
     "output_type": "stream",
     "text": [
      "downloading /n/data1/hms/neurobio/sabatini/rich/analysis/faceRhythm/mouse_0403L/run_20230903/20230731/jobNum_0/analysis_files/PointTracker.h5   to   /media/rich/bigSSD/analysis_data/face_rhythm/mouse_0403L/fr_run/run_20230903/20230731/jobNum_0/analysis_files/PointTracker.h5\n"
     ]
    },
    {
     "name": "stderr",
     "output_type": "stream",
     "text": [
      "0.00b [01:22, ?b/s]\n"
     ]
    },
    {
     "name": "stdout",
     "output_type": "stream",
     "text": [
      "downloading /n/data1/hms/neurobio/sabatini/rich/analysis/faceRhythm/mouse_0403L/run_20230903/20230731/jobNum_0/analysis_files/VQT_Analyzer.h5   to   /media/rich/bigSSD/analysis_data/face_rhythm/mouse_0403L/fr_run/run_20230903/20230731/jobNum_0/analysis_files/VQT_Analyzer.h5\n"
     ]
    },
    {
     "name": "stderr",
     "output_type": "stream",
     "text": [
      "0.00b [02:19, ?b/s]\n"
     ]
    },
    {
     "name": "stdout",
     "output_type": "stream",
     "text": [
      "downloading /n/data1/hms/neurobio/sabatini/rich/analysis/faceRhythm/mouse_0403L/run_20230903/20230731/jobNum_0/analysis_files/Dataset_videos.h5   to   /media/rich/bigSSD/analysis_data/face_rhythm/mouse_0403L/fr_run/run_20230903/20230731/jobNum_0/analysis_files/Dataset_videos.h5\n"
     ]
    },
    {
     "name": "stderr",
     "output_type": "stream",
     "text": [
      "0.00b [00:00, ?b/s]\n"
     ]
    },
    {
     "name": "stdout",
     "output_type": "stream",
     "text": [
      "downloading /n/data1/hms/neurobio/sabatini/rich/analysis/faceRhythm/mouse_0403L/run_20230903/20230731/jobNum_0/pipeline_basic.py   to   /media/rich/bigSSD/analysis_data/face_rhythm/mouse_0403L/fr_run/run_20230903/20230731/jobNum_0/pipeline_basic.py\n"
     ]
    },
    {
     "name": "stderr",
     "output_type": "stream",
     "text": [
      "0.00b [00:00, ?b/s]\n"
     ]
    },
    {
     "name": "stdout",
     "output_type": "stream",
     "text": [
      "downloading /n/data1/hms/neurobio/sabatini/rich/analysis/faceRhythm/mouse_0403L/run_20230903/20230731/jobNum_0/run_info.json   to   /media/rich/bigSSD/analysis_data/face_rhythm/mouse_0403L/fr_run/run_20230903/20230731/jobNum_0/run_info.json\n"
     ]
    },
    {
     "name": "stderr",
     "output_type": "stream",
     "text": [
      "0.00b [00:00, ?b/s]\n"
     ]
    },
    {
     "name": "stdout",
     "output_type": "stream",
     "text": [
      "downloading /n/data1/hms/neurobio/sabatini/rich/analysis/faceRhythm/mouse_0403L/run_20230903/20230731/jobNum_0/sbatch_config.sh   to   /media/rich/bigSSD/analysis_data/face_rhythm/mouse_0403L/fr_run/run_20230903/20230731/jobNum_0/sbatch_config.sh\n"
     ]
    },
    {
     "name": "stderr",
     "output_type": "stream",
     "text": [
      "0.00b [00:00, ?b/s]\n"
     ]
    },
    {
     "name": "stdout",
     "output_type": "stream",
     "text": [
      "downloading /n/data1/hms/neurobio/sabatini/rich/analysis/faceRhythm/mouse_0403L/run_20230903/20230731/pipeline_basic.py   to   /media/rich/bigSSD/analysis_data/face_rhythm/mouse_0403L/fr_run/run_20230903/20230731/pipeline_basic.py\n"
     ]
    },
    {
     "name": "stderr",
     "output_type": "stream",
     "text": [
      "0.00b [00:00, ?b/s]\n"
     ]
    },
    {
     "name": "stdout",
     "output_type": "stream",
     "text": [
      "downloading /n/data1/hms/neurobio/sabatini/rich/analysis/faceRhythm/mouse_0403L/run_20230903/20230731/dispatcher.py   to   /media/rich/bigSSD/analysis_data/face_rhythm/mouse_0403L/fr_run/run_20230903/20230731/dispatcher.py\n"
     ]
    },
    {
     "name": "stderr",
     "output_type": "stream",
     "text": [
      "0.00b [00:00, ?b/s]\n"
     ]
    },
    {
     "name": "stdout",
     "output_type": "stream",
     "text": [
      "downloading /n/data1/hms/neurobio/sabatini/rich/analysis/faceRhythm/mouse_0403L/run_20230903/20230731/notes.txt   to   /media/rich/bigSSD/analysis_data/face_rhythm/mouse_0403L/fr_run/run_20230903/20230731/notes.txt\n"
     ]
    },
    {
     "name": "stderr",
     "output_type": "stream",
     "text": [
      "0.00b [00:00, ?b/s]\n"
     ]
    },
    {
     "name": "stdout",
     "output_type": "stream",
     "text": [
      "downloading /n/data1/hms/neurobio/sabatini/rich/analysis/faceRhythm/mouse_0403L/run_20230903/20230724/parameters_batch.json   to   /media/rich/bigSSD/analysis_data/face_rhythm/mouse_0403L/fr_run/run_20230903/20230724/parameters_batch.json\n"
     ]
    },
    {
     "name": "stderr",
     "output_type": "stream",
     "text": [
      "0.00b [00:00, ?b/s]\n"
     ]
    },
    {
     "name": "stdout",
     "output_type": "stream",
     "text": [
      "downloading /n/data1/hms/neurobio/sabatini/rich/analysis/faceRhythm/mouse_0403L/run_20230903/20230724/jobNum_0/params.json   to   /media/rich/bigSSD/analysis_data/face_rhythm/mouse_0403L/fr_run/run_20230903/20230724/jobNum_0/params.json\n"
     ]
    },
    {
     "name": "stderr",
     "output_type": "stream",
     "text": [
      "0.00b [00:00, ?b/s]\n"
     ]
    },
    {
     "name": "stdout",
     "output_type": "stream",
     "text": [
      "downloading /n/data1/hms/neurobio/sabatini/rich/analysis/faceRhythm/mouse_0403L/run_20230903/20230724/jobNum_0/config.yaml   to   /media/rich/bigSSD/analysis_data/face_rhythm/mouse_0403L/fr_run/run_20230903/20230724/jobNum_0/config.yaml\n"
     ]
    },
    {
     "name": "stderr",
     "output_type": "stream",
     "text": [
      "0.00b [00:00, ?b/s]\n"
     ]
    },
    {
     "name": "stdout",
     "output_type": "stream",
     "text": [
      "downloading /n/data1/hms/neurobio/sabatini/rich/analysis/faceRhythm/mouse_0403L/run_20230903/20230724/jobNum_0/cpu_tracker.csv   to   /media/rich/bigSSD/analysis_data/face_rhythm/mouse_0403L/fr_run/run_20230903/20230724/jobNum_0/cpu_tracker.csv\n"
     ]
    },
    {
     "name": "stderr",
     "output_type": "stream",
     "text": [
      "0.00b [00:00, ?b/s]\n"
     ]
    },
    {
     "name": "stdout",
     "output_type": "stream",
     "text": [
      "downloading /n/data1/hms/neurobio/sabatini/rich/analysis/faceRhythm/mouse_0403L/run_20230903/20230724/jobNum_0/print_log_16790808.log   to   /media/rich/bigSSD/analysis_data/face_rhythm/mouse_0403L/fr_run/run_20230903/20230724/jobNum_0/print_log_16790808.log\n"
     ]
    },
    {
     "name": "stderr",
     "output_type": "stream",
     "text": [
      "0.00b [00:00, ?b/s]\n"
     ]
    },
    {
     "name": "stdout",
     "output_type": "stream",
     "text": [
      "downloading /n/data1/hms/neurobio/sabatini/rich/analysis/faceRhythm/mouse_0403L/run_20230903/20230724/jobNum_0/print_log_16850167.log   to   /media/rich/bigSSD/analysis_data/face_rhythm/mouse_0403L/fr_run/run_20230903/20230724/jobNum_0/print_log_16850167.log\n"
     ]
    },
    {
     "name": "stderr",
     "output_type": "stream",
     "text": [
      "0.00b [00:00, ?b/s]\n"
     ]
    },
    {
     "name": "stdout",
     "output_type": "stream",
     "text": [
      "downloading /n/data1/hms/neurobio/sabatini/rich/analysis/faceRhythm/mouse_0403L/run_20230903/20230724/jobNum_0/analysis_files/ROIs.h5   to   /media/rich/bigSSD/analysis_data/face_rhythm/mouse_0403L/fr_run/run_20230903/20230724/jobNum_0/analysis_files/ROIs.h5\n"
     ]
    },
    {
     "name": "stderr",
     "output_type": "stream",
     "text": [
      "0.00b [00:00, ?b/s]\n"
     ]
    },
    {
     "name": "stdout",
     "output_type": "stream",
     "text": [
      "downloading /n/data1/hms/neurobio/sabatini/rich/analysis/faceRhythm/mouse_0403L/run_20230903/20230724/jobNum_0/analysis_files/TCA.h5   to   /media/rich/bigSSD/analysis_data/face_rhythm/mouse_0403L/fr_run/run_20230903/20230724/jobNum_0/analysis_files/TCA.h5\n"
     ]
    },
    {
     "name": "stderr",
     "output_type": "stream",
     "text": [
      "0.00b [00:00, ?b/s]\n"
     ]
    },
    {
     "name": "stdout",
     "output_type": "stream",
     "text": [
      "downloading /n/data1/hms/neurobio/sabatini/rich/analysis/faceRhythm/mouse_0403L/run_20230903/20230724/jobNum_0/analysis_files/PointTracker.h5   to   /media/rich/bigSSD/analysis_data/face_rhythm/mouse_0403L/fr_run/run_20230903/20230724/jobNum_0/analysis_files/PointTracker.h5\n"
     ]
    },
    {
     "name": "stderr",
     "output_type": "stream",
     "text": [
      "0.00b [01:02, ?b/s]\n"
     ]
    },
    {
     "name": "stdout",
     "output_type": "stream",
     "text": [
      "downloading /n/data1/hms/neurobio/sabatini/rich/analysis/faceRhythm/mouse_0403L/run_20230903/20230724/jobNum_0/analysis_files/VQT_Analyzer.h5   to   /media/rich/bigSSD/analysis_data/face_rhythm/mouse_0403L/fr_run/run_20230903/20230724/jobNum_0/analysis_files/VQT_Analyzer.h5\n"
     ]
    },
    {
     "name": "stderr",
     "output_type": "stream",
     "text": [
      "0.00b [01:55, ?b/s]\n"
     ]
    },
    {
     "name": "stdout",
     "output_type": "stream",
     "text": [
      "downloading /n/data1/hms/neurobio/sabatini/rich/analysis/faceRhythm/mouse_0403L/run_20230903/20230724/jobNum_0/analysis_files/Dataset_videos.h5   to   /media/rich/bigSSD/analysis_data/face_rhythm/mouse_0403L/fr_run/run_20230903/20230724/jobNum_0/analysis_files/Dataset_videos.h5\n"
     ]
    },
    {
     "name": "stderr",
     "output_type": "stream",
     "text": [
      "0.00b [00:00, ?b/s]\n"
     ]
    },
    {
     "name": "stdout",
     "output_type": "stream",
     "text": [
      "downloading /n/data1/hms/neurobio/sabatini/rich/analysis/faceRhythm/mouse_0403L/run_20230903/20230724/jobNum_0/pipeline_basic.py   to   /media/rich/bigSSD/analysis_data/face_rhythm/mouse_0403L/fr_run/run_20230903/20230724/jobNum_0/pipeline_basic.py\n"
     ]
    },
    {
     "name": "stderr",
     "output_type": "stream",
     "text": [
      "0.00b [00:00, ?b/s]\n"
     ]
    },
    {
     "name": "stdout",
     "output_type": "stream",
     "text": [
      "downloading /n/data1/hms/neurobio/sabatini/rich/analysis/faceRhythm/mouse_0403L/run_20230903/20230724/jobNum_0/run_info.json   to   /media/rich/bigSSD/analysis_data/face_rhythm/mouse_0403L/fr_run/run_20230903/20230724/jobNum_0/run_info.json\n"
     ]
    },
    {
     "name": "stderr",
     "output_type": "stream",
     "text": [
      "0.00b [00:00, ?b/s]\n"
     ]
    },
    {
     "name": "stdout",
     "output_type": "stream",
     "text": [
      "downloading /n/data1/hms/neurobio/sabatini/rich/analysis/faceRhythm/mouse_0403L/run_20230903/20230724/jobNum_0/sbatch_config.sh   to   /media/rich/bigSSD/analysis_data/face_rhythm/mouse_0403L/fr_run/run_20230903/20230724/jobNum_0/sbatch_config.sh\n"
     ]
    },
    {
     "name": "stderr",
     "output_type": "stream",
     "text": [
      "0.00b [00:00, ?b/s]\n"
     ]
    },
    {
     "name": "stdout",
     "output_type": "stream",
     "text": [
      "downloading /n/data1/hms/neurobio/sabatini/rich/analysis/faceRhythm/mouse_0403L/run_20230903/20230724/pipeline_basic.py   to   /media/rich/bigSSD/analysis_data/face_rhythm/mouse_0403L/fr_run/run_20230903/20230724/pipeline_basic.py\n"
     ]
    },
    {
     "name": "stderr",
     "output_type": "stream",
     "text": [
      "0.00b [00:00, ?b/s]\n"
     ]
    },
    {
     "name": "stdout",
     "output_type": "stream",
     "text": [
      "downloading /n/data1/hms/neurobio/sabatini/rich/analysis/faceRhythm/mouse_0403L/run_20230903/20230724/dispatcher.py   to   /media/rich/bigSSD/analysis_data/face_rhythm/mouse_0403L/fr_run/run_20230903/20230724/dispatcher.py\n"
     ]
    },
    {
     "name": "stderr",
     "output_type": "stream",
     "text": [
      "0.00b [00:00, ?b/s]\n"
     ]
    },
    {
     "name": "stdout",
     "output_type": "stream",
     "text": [
      "downloading /n/data1/hms/neurobio/sabatini/rich/analysis/faceRhythm/mouse_0403L/run_20230903/20230724/notes.txt   to   /media/rich/bigSSD/analysis_data/face_rhythm/mouse_0403L/fr_run/run_20230903/20230724/notes.txt\n"
     ]
    },
    {
     "name": "stderr",
     "output_type": "stream",
     "text": [
      "0.00b [00:00, ?b/s]\n"
     ]
    },
    {
     "name": "stdout",
     "output_type": "stream",
     "text": [
      "downloading /n/data1/hms/neurobio/sabatini/rich/analysis/faceRhythm/mouse_0403L/run_20230903/20230710/parameters_batch.json   to   /media/rich/bigSSD/analysis_data/face_rhythm/mouse_0403L/fr_run/run_20230903/20230710/parameters_batch.json\n"
     ]
    },
    {
     "name": "stderr",
     "output_type": "stream",
     "text": [
      "0.00b [00:00, ?b/s]\n"
     ]
    },
    {
     "name": "stdout",
     "output_type": "stream",
     "text": [
      "downloading /n/data1/hms/neurobio/sabatini/rich/analysis/faceRhythm/mouse_0403L/run_20230903/20230710/jobNum_0/params.json   to   /media/rich/bigSSD/analysis_data/face_rhythm/mouse_0403L/fr_run/run_20230903/20230710/jobNum_0/params.json\n"
     ]
    },
    {
     "name": "stderr",
     "output_type": "stream",
     "text": [
      "0.00b [00:00, ?b/s]\n"
     ]
    },
    {
     "name": "stdout",
     "output_type": "stream",
     "text": [
      "downloading /n/data1/hms/neurobio/sabatini/rich/analysis/faceRhythm/mouse_0403L/run_20230903/20230710/jobNum_0/config.yaml   to   /media/rich/bigSSD/analysis_data/face_rhythm/mouse_0403L/fr_run/run_20230903/20230710/jobNum_0/config.yaml\n"
     ]
    },
    {
     "name": "stderr",
     "output_type": "stream",
     "text": [
      "0.00b [00:00, ?b/s]\n"
     ]
    },
    {
     "name": "stdout",
     "output_type": "stream",
     "text": [
      "downloading /n/data1/hms/neurobio/sabatini/rich/analysis/faceRhythm/mouse_0403L/run_20230903/20230710/jobNum_0/cpu_tracker.csv   to   /media/rich/bigSSD/analysis_data/face_rhythm/mouse_0403L/fr_run/run_20230903/20230710/jobNum_0/cpu_tracker.csv\n"
     ]
    },
    {
     "name": "stderr",
     "output_type": "stream",
     "text": [
      "0.00b [00:00, ?b/s]\n"
     ]
    },
    {
     "name": "stdout",
     "output_type": "stream",
     "text": [
      "downloading /n/data1/hms/neurobio/sabatini/rich/analysis/faceRhythm/mouse_0403L/run_20230903/20230710/jobNum_0/print_log_16789990.log   to   /media/rich/bigSSD/analysis_data/face_rhythm/mouse_0403L/fr_run/run_20230903/20230710/jobNum_0/print_log_16789990.log\n"
     ]
    },
    {
     "name": "stderr",
     "output_type": "stream",
     "text": [
      "0.00b [00:00, ?b/s]\n"
     ]
    },
    {
     "name": "stdout",
     "output_type": "stream",
     "text": [
      "downloading /n/data1/hms/neurobio/sabatini/rich/analysis/faceRhythm/mouse_0403L/run_20230903/20230710/jobNum_0/analysis_files/ROIs.h5   to   /media/rich/bigSSD/analysis_data/face_rhythm/mouse_0403L/fr_run/run_20230903/20230710/jobNum_0/analysis_files/ROIs.h5\n"
     ]
    },
    {
     "name": "stderr",
     "output_type": "stream",
     "text": [
      "0.00b [00:00, ?b/s]\n"
     ]
    },
    {
     "name": "stdout",
     "output_type": "stream",
     "text": [
      "downloading /n/data1/hms/neurobio/sabatini/rich/analysis/faceRhythm/mouse_0403L/run_20230903/20230710/jobNum_0/analysis_files/TCA.h5   to   /media/rich/bigSSD/analysis_data/face_rhythm/mouse_0403L/fr_run/run_20230903/20230710/jobNum_0/analysis_files/TCA.h5\n"
     ]
    },
    {
     "name": "stderr",
     "output_type": "stream",
     "text": [
      "0.00b [00:00, ?b/s]\n"
     ]
    },
    {
     "name": "stdout",
     "output_type": "stream",
     "text": [
      "downloading /n/data1/hms/neurobio/sabatini/rich/analysis/faceRhythm/mouse_0403L/run_20230903/20230710/jobNum_0/analysis_files/PointTracker.h5   to   /media/rich/bigSSD/analysis_data/face_rhythm/mouse_0403L/fr_run/run_20230903/20230710/jobNum_0/analysis_files/PointTracker.h5\n"
     ]
    },
    {
     "name": "stderr",
     "output_type": "stream",
     "text": [
      "0.00b [00:57, ?b/s]\n"
     ]
    },
    {
     "name": "stdout",
     "output_type": "stream",
     "text": [
      "downloading /n/data1/hms/neurobio/sabatini/rich/analysis/faceRhythm/mouse_0403L/run_20230903/20230710/jobNum_0/analysis_files/VQT_Analyzer.h5   to   /media/rich/bigSSD/analysis_data/face_rhythm/mouse_0403L/fr_run/run_20230903/20230710/jobNum_0/analysis_files/VQT_Analyzer.h5\n"
     ]
    },
    {
     "name": "stderr",
     "output_type": "stream",
     "text": [
      "0.00b [01:43, ?b/s]\n"
     ]
    },
    {
     "name": "stdout",
     "output_type": "stream",
     "text": [
      "downloading /n/data1/hms/neurobio/sabatini/rich/analysis/faceRhythm/mouse_0403L/run_20230903/20230710/jobNum_0/analysis_files/Dataset_videos.h5   to   /media/rich/bigSSD/analysis_data/face_rhythm/mouse_0403L/fr_run/run_20230903/20230710/jobNum_0/analysis_files/Dataset_videos.h5\n"
     ]
    },
    {
     "name": "stderr",
     "output_type": "stream",
     "text": [
      "0.00b [00:00, ?b/s]\n"
     ]
    },
    {
     "name": "stdout",
     "output_type": "stream",
     "text": [
      "downloading /n/data1/hms/neurobio/sabatini/rich/analysis/faceRhythm/mouse_0403L/run_20230903/20230710/jobNum_0/pipeline_basic.py   to   /media/rich/bigSSD/analysis_data/face_rhythm/mouse_0403L/fr_run/run_20230903/20230710/jobNum_0/pipeline_basic.py\n"
     ]
    },
    {
     "name": "stderr",
     "output_type": "stream",
     "text": [
      "0.00b [00:00, ?b/s]\n"
     ]
    },
    {
     "name": "stdout",
     "output_type": "stream",
     "text": [
      "downloading /n/data1/hms/neurobio/sabatini/rich/analysis/faceRhythm/mouse_0403L/run_20230903/20230710/jobNum_0/run_info.json   to   /media/rich/bigSSD/analysis_data/face_rhythm/mouse_0403L/fr_run/run_20230903/20230710/jobNum_0/run_info.json\n"
     ]
    },
    {
     "name": "stderr",
     "output_type": "stream",
     "text": [
      "0.00b [00:00, ?b/s]\n"
     ]
    },
    {
     "name": "stdout",
     "output_type": "stream",
     "text": [
      "downloading /n/data1/hms/neurobio/sabatini/rich/analysis/faceRhythm/mouse_0403L/run_20230903/20230710/jobNum_0/sbatch_config.sh   to   /media/rich/bigSSD/analysis_data/face_rhythm/mouse_0403L/fr_run/run_20230903/20230710/jobNum_0/sbatch_config.sh\n"
     ]
    },
    {
     "name": "stderr",
     "output_type": "stream",
     "text": [
      "0.00b [00:00, ?b/s]\n"
     ]
    },
    {
     "name": "stdout",
     "output_type": "stream",
     "text": [
      "downloading /n/data1/hms/neurobio/sabatini/rich/analysis/faceRhythm/mouse_0403L/run_20230903/20230710/pipeline_basic.py   to   /media/rich/bigSSD/analysis_data/face_rhythm/mouse_0403L/fr_run/run_20230903/20230710/pipeline_basic.py\n"
     ]
    },
    {
     "name": "stderr",
     "output_type": "stream",
     "text": [
      "0.00b [00:00, ?b/s]\n"
     ]
    },
    {
     "name": "stdout",
     "output_type": "stream",
     "text": [
      "downloading /n/data1/hms/neurobio/sabatini/rich/analysis/faceRhythm/mouse_0403L/run_20230903/20230710/dispatcher.py   to   /media/rich/bigSSD/analysis_data/face_rhythm/mouse_0403L/fr_run/run_20230903/20230710/dispatcher.py\n"
     ]
    },
    {
     "name": "stderr",
     "output_type": "stream",
     "text": [
      "0.00b [00:00, ?b/s]\n"
     ]
    },
    {
     "name": "stdout",
     "output_type": "stream",
     "text": [
      "downloading /n/data1/hms/neurobio/sabatini/rich/analysis/faceRhythm/mouse_0403L/run_20230903/20230710/notes.txt   to   /media/rich/bigSSD/analysis_data/face_rhythm/mouse_0403L/fr_run/run_20230903/20230710/notes.txt\n"
     ]
    },
    {
     "name": "stderr",
     "output_type": "stream",
     "text": [
      "0.00b [00:00, ?b/s]\n"
     ]
    },
    {
     "name": "stdout",
     "output_type": "stream",
     "text": [
      "downloading /n/data1/hms/neurobio/sabatini/rich/analysis/faceRhythm/mouse_0403L/run_20230903/20230723/parameters_batch.json   to   /media/rich/bigSSD/analysis_data/face_rhythm/mouse_0403L/fr_run/run_20230903/20230723/parameters_batch.json\n"
     ]
    },
    {
     "name": "stderr",
     "output_type": "stream",
     "text": [
      "0.00b [00:00, ?b/s]\n"
     ]
    },
    {
     "name": "stdout",
     "output_type": "stream",
     "text": [
      "downloading /n/data1/hms/neurobio/sabatini/rich/analysis/faceRhythm/mouse_0403L/run_20230903/20230723/jobNum_0/params.json   to   /media/rich/bigSSD/analysis_data/face_rhythm/mouse_0403L/fr_run/run_20230903/20230723/jobNum_0/params.json\n"
     ]
    },
    {
     "name": "stderr",
     "output_type": "stream",
     "text": [
      "0.00b [00:00, ?b/s]\n"
     ]
    },
    {
     "name": "stdout",
     "output_type": "stream",
     "text": [
      "downloading /n/data1/hms/neurobio/sabatini/rich/analysis/faceRhythm/mouse_0403L/run_20230903/20230723/jobNum_0/config.yaml   to   /media/rich/bigSSD/analysis_data/face_rhythm/mouse_0403L/fr_run/run_20230903/20230723/jobNum_0/config.yaml\n"
     ]
    },
    {
     "name": "stderr",
     "output_type": "stream",
     "text": [
      "0.00b [00:00, ?b/s]\n"
     ]
    },
    {
     "name": "stdout",
     "output_type": "stream",
     "text": [
      "downloading /n/data1/hms/neurobio/sabatini/rich/analysis/faceRhythm/mouse_0403L/run_20230903/20230723/jobNum_0/cpu_tracker.csv   to   /media/rich/bigSSD/analysis_data/face_rhythm/mouse_0403L/fr_run/run_20230903/20230723/jobNum_0/cpu_tracker.csv\n"
     ]
    },
    {
     "name": "stderr",
     "output_type": "stream",
     "text": [
      "0.00b [00:00, ?b/s]\n"
     ]
    },
    {
     "name": "stdout",
     "output_type": "stream",
     "text": [
      "downloading /n/data1/hms/neurobio/sabatini/rich/analysis/faceRhythm/mouse_0403L/run_20230903/20230723/jobNum_0/analysis_files/ROIs.h5   to   /media/rich/bigSSD/analysis_data/face_rhythm/mouse_0403L/fr_run/run_20230903/20230723/jobNum_0/analysis_files/ROIs.h5\n"
     ]
    },
    {
     "name": "stderr",
     "output_type": "stream",
     "text": [
      "0.00b [00:00, ?b/s]\n"
     ]
    },
    {
     "name": "stdout",
     "output_type": "stream",
     "text": [
      "downloading /n/data1/hms/neurobio/sabatini/rich/analysis/faceRhythm/mouse_0403L/run_20230903/20230723/jobNum_0/analysis_files/TCA.h5   to   /media/rich/bigSSD/analysis_data/face_rhythm/mouse_0403L/fr_run/run_20230903/20230723/jobNum_0/analysis_files/TCA.h5\n"
     ]
    },
    {
     "name": "stderr",
     "output_type": "stream",
     "text": [
      "0.00b [00:00, ?b/s]\n"
     ]
    },
    {
     "name": "stdout",
     "output_type": "stream",
     "text": [
      "downloading /n/data1/hms/neurobio/sabatini/rich/analysis/faceRhythm/mouse_0403L/run_20230903/20230723/jobNum_0/analysis_files/PointTracker.h5   to   /media/rich/bigSSD/analysis_data/face_rhythm/mouse_0403L/fr_run/run_20230903/20230723/jobNum_0/analysis_files/PointTracker.h5\n"
     ]
    },
    {
     "name": "stderr",
     "output_type": "stream",
     "text": [
      "0.00b [01:02, ?b/s]\n"
     ]
    },
    {
     "name": "stdout",
     "output_type": "stream",
     "text": [
      "downloading /n/data1/hms/neurobio/sabatini/rich/analysis/faceRhythm/mouse_0403L/run_20230903/20230723/jobNum_0/analysis_files/VQT_Analyzer.h5   to   /media/rich/bigSSD/analysis_data/face_rhythm/mouse_0403L/fr_run/run_20230903/20230723/jobNum_0/analysis_files/VQT_Analyzer.h5\n"
     ]
    },
    {
     "name": "stderr",
     "output_type": "stream",
     "text": [
      "0.00b [01:46, ?b/s]\n"
     ]
    },
    {
     "name": "stdout",
     "output_type": "stream",
     "text": [
      "downloading /n/data1/hms/neurobio/sabatini/rich/analysis/faceRhythm/mouse_0403L/run_20230903/20230723/jobNum_0/analysis_files/Dataset_videos.h5   to   /media/rich/bigSSD/analysis_data/face_rhythm/mouse_0403L/fr_run/run_20230903/20230723/jobNum_0/analysis_files/Dataset_videos.h5\n"
     ]
    },
    {
     "name": "stderr",
     "output_type": "stream",
     "text": [
      "0.00b [00:00, ?b/s]\n"
     ]
    },
    {
     "name": "stdout",
     "output_type": "stream",
     "text": [
      "downloading /n/data1/hms/neurobio/sabatini/rich/analysis/faceRhythm/mouse_0403L/run_20230903/20230723/jobNum_0/pipeline_basic.py   to   /media/rich/bigSSD/analysis_data/face_rhythm/mouse_0403L/fr_run/run_20230903/20230723/jobNum_0/pipeline_basic.py\n"
     ]
    },
    {
     "name": "stderr",
     "output_type": "stream",
     "text": [
      "0.00b [00:00, ?b/s]\n"
     ]
    },
    {
     "name": "stdout",
     "output_type": "stream",
     "text": [
      "downloading /n/data1/hms/neurobio/sabatini/rich/analysis/faceRhythm/mouse_0403L/run_20230903/20230723/jobNum_0/run_info.json   to   /media/rich/bigSSD/analysis_data/face_rhythm/mouse_0403L/fr_run/run_20230903/20230723/jobNum_0/run_info.json\n"
     ]
    },
    {
     "name": "stderr",
     "output_type": "stream",
     "text": [
      "0.00b [00:00, ?b/s]\n"
     ]
    },
    {
     "name": "stdout",
     "output_type": "stream",
     "text": [
      "downloading /n/data1/hms/neurobio/sabatini/rich/analysis/faceRhythm/mouse_0403L/run_20230903/20230723/jobNum_0/sbatch_config.sh   to   /media/rich/bigSSD/analysis_data/face_rhythm/mouse_0403L/fr_run/run_20230903/20230723/jobNum_0/sbatch_config.sh\n"
     ]
    },
    {
     "name": "stderr",
     "output_type": "stream",
     "text": [
      "0.00b [00:00, ?b/s]\n"
     ]
    },
    {
     "name": "stdout",
     "output_type": "stream",
     "text": [
      "downloading /n/data1/hms/neurobio/sabatini/rich/analysis/faceRhythm/mouse_0403L/run_20230903/20230723/jobNum_0/print_log_16790220.log   to   /media/rich/bigSSD/analysis_data/face_rhythm/mouse_0403L/fr_run/run_20230903/20230723/jobNum_0/print_log_16790220.log\n"
     ]
    },
    {
     "name": "stderr",
     "output_type": "stream",
     "text": [
      "0.00b [00:00, ?b/s]\n"
     ]
    },
    {
     "name": "stdout",
     "output_type": "stream",
     "text": [
      "downloading /n/data1/hms/neurobio/sabatini/rich/analysis/faceRhythm/mouse_0403L/run_20230903/20230723/pipeline_basic.py   to   /media/rich/bigSSD/analysis_data/face_rhythm/mouse_0403L/fr_run/run_20230903/20230723/pipeline_basic.py\n"
     ]
    },
    {
     "name": "stderr",
     "output_type": "stream",
     "text": [
      "0.00b [00:00, ?b/s]\n"
     ]
    },
    {
     "name": "stdout",
     "output_type": "stream",
     "text": [
      "downloading /n/data1/hms/neurobio/sabatini/rich/analysis/faceRhythm/mouse_0403L/run_20230903/20230723/dispatcher.py   to   /media/rich/bigSSD/analysis_data/face_rhythm/mouse_0403L/fr_run/run_20230903/20230723/dispatcher.py\n"
     ]
    },
    {
     "name": "stderr",
     "output_type": "stream",
     "text": [
      "0.00b [00:00, ?b/s]\n"
     ]
    },
    {
     "name": "stdout",
     "output_type": "stream",
     "text": [
      "downloading /n/data1/hms/neurobio/sabatini/rich/analysis/faceRhythm/mouse_0403L/run_20230903/20230723/notes.txt   to   /media/rich/bigSSD/analysis_data/face_rhythm/mouse_0403L/fr_run/run_20230903/20230723/notes.txt\n"
     ]
    },
    {
     "name": "stderr",
     "output_type": "stream",
     "text": [
      "0.00b [00:00, ?b/s]\n"
     ]
    },
    {
     "name": "stdout",
     "output_type": "stream",
     "text": [
      "downloading /n/data1/hms/neurobio/sabatini/rich/analysis/faceRhythm/mouse_0403L/run_20230903/20230716/parameters_batch.json   to   /media/rich/bigSSD/analysis_data/face_rhythm/mouse_0403L/fr_run/run_20230903/20230716/parameters_batch.json\n"
     ]
    },
    {
     "name": "stderr",
     "output_type": "stream",
     "text": [
      "0.00b [00:00, ?b/s]\n"
     ]
    },
    {
     "name": "stdout",
     "output_type": "stream",
     "text": [
      "downloading /n/data1/hms/neurobio/sabatini/rich/analysis/faceRhythm/mouse_0403L/run_20230903/20230716/jobNum_0/params.json   to   /media/rich/bigSSD/analysis_data/face_rhythm/mouse_0403L/fr_run/run_20230903/20230716/jobNum_0/params.json\n"
     ]
    },
    {
     "name": "stderr",
     "output_type": "stream",
     "text": [
      "0.00b [00:00, ?b/s]\n"
     ]
    },
    {
     "name": "stdout",
     "output_type": "stream",
     "text": [
      "downloading /n/data1/hms/neurobio/sabatini/rich/analysis/faceRhythm/mouse_0403L/run_20230903/20230716/jobNum_0/config.yaml   to   /media/rich/bigSSD/analysis_data/face_rhythm/mouse_0403L/fr_run/run_20230903/20230716/jobNum_0/config.yaml\n"
     ]
    },
    {
     "name": "stderr",
     "output_type": "stream",
     "text": [
      "0.00b [00:00, ?b/s]\n"
     ]
    },
    {
     "name": "stdout",
     "output_type": "stream",
     "text": [
      "downloading /n/data1/hms/neurobio/sabatini/rich/analysis/faceRhythm/mouse_0403L/run_20230903/20230716/jobNum_0/print_log_16790212.log   to   /media/rich/bigSSD/analysis_data/face_rhythm/mouse_0403L/fr_run/run_20230903/20230716/jobNum_0/print_log_16790212.log\n"
     ]
    },
    {
     "name": "stderr",
     "output_type": "stream",
     "text": [
      "0.00b [00:00, ?b/s]\n"
     ]
    },
    {
     "name": "stdout",
     "output_type": "stream",
     "text": [
      "downloading /n/data1/hms/neurobio/sabatini/rich/analysis/faceRhythm/mouse_0403L/run_20230903/20230716/jobNum_0/cpu_tracker.csv   to   /media/rich/bigSSD/analysis_data/face_rhythm/mouse_0403L/fr_run/run_20230903/20230716/jobNum_0/cpu_tracker.csv\n"
     ]
    },
    {
     "name": "stderr",
     "output_type": "stream",
     "text": [
      "0.00b [00:00, ?b/s]\n"
     ]
    },
    {
     "name": "stdout",
     "output_type": "stream",
     "text": [
      "downloading /n/data1/hms/neurobio/sabatini/rich/analysis/faceRhythm/mouse_0403L/run_20230903/20230716/jobNum_0/analysis_files/ROIs.h5   to   /media/rich/bigSSD/analysis_data/face_rhythm/mouse_0403L/fr_run/run_20230903/20230716/jobNum_0/analysis_files/ROIs.h5\n"
     ]
    },
    {
     "name": "stderr",
     "output_type": "stream",
     "text": [
      "0.00b [00:00, ?b/s]\n"
     ]
    },
    {
     "name": "stdout",
     "output_type": "stream",
     "text": [
      "downloading /n/data1/hms/neurobio/sabatini/rich/analysis/faceRhythm/mouse_0403L/run_20230903/20230716/jobNum_0/analysis_files/TCA.h5   to   /media/rich/bigSSD/analysis_data/face_rhythm/mouse_0403L/fr_run/run_20230903/20230716/jobNum_0/analysis_files/TCA.h5\n"
     ]
    },
    {
     "name": "stderr",
     "output_type": "stream",
     "text": [
      "0.00b [00:00, ?b/s]\n"
     ]
    },
    {
     "name": "stdout",
     "output_type": "stream",
     "text": [
      "downloading /n/data1/hms/neurobio/sabatini/rich/analysis/faceRhythm/mouse_0403L/run_20230903/20230716/jobNum_0/analysis_files/PointTracker.h5   to   /media/rich/bigSSD/analysis_data/face_rhythm/mouse_0403L/fr_run/run_20230903/20230716/jobNum_0/analysis_files/PointTracker.h5\n"
     ]
    },
    {
     "name": "stderr",
     "output_type": "stream",
     "text": [
      "0.00b [00:55, ?b/s]\n"
     ]
    },
    {
     "name": "stdout",
     "output_type": "stream",
     "text": [
      "downloading /n/data1/hms/neurobio/sabatini/rich/analysis/faceRhythm/mouse_0403L/run_20230903/20230716/jobNum_0/analysis_files/VQT_Analyzer.h5   to   /media/rich/bigSSD/analysis_data/face_rhythm/mouse_0403L/fr_run/run_20230903/20230716/jobNum_0/analysis_files/VQT_Analyzer.h5\n"
     ]
    },
    {
     "name": "stderr",
     "output_type": "stream",
     "text": [
      "0.00b [01:51, ?b/s]\n"
     ]
    },
    {
     "name": "stdout",
     "output_type": "stream",
     "text": [
      "downloading /n/data1/hms/neurobio/sabatini/rich/analysis/faceRhythm/mouse_0403L/run_20230903/20230716/jobNum_0/analysis_files/Dataset_videos.h5   to   /media/rich/bigSSD/analysis_data/face_rhythm/mouse_0403L/fr_run/run_20230903/20230716/jobNum_0/analysis_files/Dataset_videos.h5\n"
     ]
    },
    {
     "name": "stderr",
     "output_type": "stream",
     "text": [
      "0.00b [00:00, ?b/s]\n"
     ]
    },
    {
     "name": "stdout",
     "output_type": "stream",
     "text": [
      "downloading /n/data1/hms/neurobio/sabatini/rich/analysis/faceRhythm/mouse_0403L/run_20230903/20230716/jobNum_0/pipeline_basic.py   to   /media/rich/bigSSD/analysis_data/face_rhythm/mouse_0403L/fr_run/run_20230903/20230716/jobNum_0/pipeline_basic.py\n"
     ]
    },
    {
     "name": "stderr",
     "output_type": "stream",
     "text": [
      "0.00b [00:00, ?b/s]\n"
     ]
    },
    {
     "name": "stdout",
     "output_type": "stream",
     "text": [
      "downloading /n/data1/hms/neurobio/sabatini/rich/analysis/faceRhythm/mouse_0403L/run_20230903/20230716/jobNum_0/run_info.json   to   /media/rich/bigSSD/analysis_data/face_rhythm/mouse_0403L/fr_run/run_20230903/20230716/jobNum_0/run_info.json\n"
     ]
    },
    {
     "name": "stderr",
     "output_type": "stream",
     "text": [
      "0.00b [00:00, ?b/s]\n"
     ]
    },
    {
     "name": "stdout",
     "output_type": "stream",
     "text": [
      "downloading /n/data1/hms/neurobio/sabatini/rich/analysis/faceRhythm/mouse_0403L/run_20230903/20230716/jobNum_0/sbatch_config.sh   to   /media/rich/bigSSD/analysis_data/face_rhythm/mouse_0403L/fr_run/run_20230903/20230716/jobNum_0/sbatch_config.sh\n"
     ]
    },
    {
     "name": "stderr",
     "output_type": "stream",
     "text": [
      "0.00b [00:00, ?b/s]\n"
     ]
    },
    {
     "name": "stdout",
     "output_type": "stream",
     "text": [
      "downloading /n/data1/hms/neurobio/sabatini/rich/analysis/faceRhythm/mouse_0403L/run_20230903/20230716/pipeline_basic.py   to   /media/rich/bigSSD/analysis_data/face_rhythm/mouse_0403L/fr_run/run_20230903/20230716/pipeline_basic.py\n"
     ]
    },
    {
     "name": "stderr",
     "output_type": "stream",
     "text": [
      "0.00b [00:00, ?b/s]\n"
     ]
    },
    {
     "name": "stdout",
     "output_type": "stream",
     "text": [
      "downloading /n/data1/hms/neurobio/sabatini/rich/analysis/faceRhythm/mouse_0403L/run_20230903/20230716/dispatcher.py   to   /media/rich/bigSSD/analysis_data/face_rhythm/mouse_0403L/fr_run/run_20230903/20230716/dispatcher.py\n"
     ]
    },
    {
     "name": "stderr",
     "output_type": "stream",
     "text": [
      "0.00b [00:00, ?b/s]\n"
     ]
    },
    {
     "name": "stdout",
     "output_type": "stream",
     "text": [
      "downloading /n/data1/hms/neurobio/sabatini/rich/analysis/faceRhythm/mouse_0403L/run_20230903/20230716/notes.txt   to   /media/rich/bigSSD/analysis_data/face_rhythm/mouse_0403L/fr_run/run_20230903/20230716/notes.txt\n"
     ]
    },
    {
     "name": "stderr",
     "output_type": "stream",
     "text": [
      "0.00b [00:00, ?b/s]\n"
     ]
    },
    {
     "name": "stdout",
     "output_type": "stream",
     "text": [
      "downloading /n/data1/hms/neurobio/sabatini/rich/analysis/faceRhythm/mouse_0403L/run_20230903/20230705/parameters_batch.json   to   /media/rich/bigSSD/analysis_data/face_rhythm/mouse_0403L/fr_run/run_20230903/20230705/parameters_batch.json\n"
     ]
    },
    {
     "name": "stderr",
     "output_type": "stream",
     "text": [
      "0.00b [00:00, ?b/s]\n"
     ]
    },
    {
     "name": "stdout",
     "output_type": "stream",
     "text": [
      "downloading /n/data1/hms/neurobio/sabatini/rich/analysis/faceRhythm/mouse_0403L/run_20230903/20230705/jobNum_0/print_log_16753661.log   to   /media/rich/bigSSD/analysis_data/face_rhythm/mouse_0403L/fr_run/run_20230903/20230705/jobNum_0/print_log_16753661.log\n"
     ]
    },
    {
     "name": "stderr",
     "output_type": "stream",
     "text": [
      "0.00b [00:00, ?b/s]\n"
     ]
    },
    {
     "name": "stdout",
     "output_type": "stream",
     "text": [
      "downloading /n/data1/hms/neurobio/sabatini/rich/analysis/faceRhythm/mouse_0403L/run_20230903/20230705/jobNum_0/params.json   to   /media/rich/bigSSD/analysis_data/face_rhythm/mouse_0403L/fr_run/run_20230903/20230705/jobNum_0/params.json\n"
     ]
    },
    {
     "name": "stderr",
     "output_type": "stream",
     "text": [
      "0.00b [00:00, ?b/s]\n"
     ]
    },
    {
     "name": "stdout",
     "output_type": "stream",
     "text": [
      "downloading /n/data1/hms/neurobio/sabatini/rich/analysis/faceRhythm/mouse_0403L/run_20230903/20230705/jobNum_0/config.yaml   to   /media/rich/bigSSD/analysis_data/face_rhythm/mouse_0403L/fr_run/run_20230903/20230705/jobNum_0/config.yaml\n"
     ]
    },
    {
     "name": "stderr",
     "output_type": "stream",
     "text": [
      "0.00b [00:00, ?b/s]\n"
     ]
    },
    {
     "name": "stdout",
     "output_type": "stream",
     "text": [
      "downloading /n/data1/hms/neurobio/sabatini/rich/analysis/faceRhythm/mouse_0403L/run_20230903/20230705/jobNum_0/cpu_tracker.csv   to   /media/rich/bigSSD/analysis_data/face_rhythm/mouse_0403L/fr_run/run_20230903/20230705/jobNum_0/cpu_tracker.csv\n"
     ]
    },
    {
     "name": "stderr",
     "output_type": "stream",
     "text": [
      "0.00b [00:00, ?b/s]\n"
     ]
    },
    {
     "name": "stdout",
     "output_type": "stream",
     "text": [
      "downloading /n/data1/hms/neurobio/sabatini/rich/analysis/faceRhythm/mouse_0403L/run_20230903/20230705/jobNum_0/analysis_files/ROIs.h5   to   /media/rich/bigSSD/analysis_data/face_rhythm/mouse_0403L/fr_run/run_20230903/20230705/jobNum_0/analysis_files/ROIs.h5\n"
     ]
    },
    {
     "name": "stderr",
     "output_type": "stream",
     "text": [
      "0.00b [00:00, ?b/s]\n"
     ]
    },
    {
     "name": "stdout",
     "output_type": "stream",
     "text": [
      "downloading /n/data1/hms/neurobio/sabatini/rich/analysis/faceRhythm/mouse_0403L/run_20230903/20230705/jobNum_0/analysis_files/TCA.h5   to   /media/rich/bigSSD/analysis_data/face_rhythm/mouse_0403L/fr_run/run_20230903/20230705/jobNum_0/analysis_files/TCA.h5\n"
     ]
    },
    {
     "name": "stderr",
     "output_type": "stream",
     "text": [
      "0.00b [00:00, ?b/s]\n"
     ]
    },
    {
     "name": "stdout",
     "output_type": "stream",
     "text": [
      "downloading /n/data1/hms/neurobio/sabatini/rich/analysis/faceRhythm/mouse_0403L/run_20230903/20230705/jobNum_0/analysis_files/PointTracker.h5   to   /media/rich/bigSSD/analysis_data/face_rhythm/mouse_0403L/fr_run/run_20230903/20230705/jobNum_0/analysis_files/PointTracker.h5\n"
     ]
    },
    {
     "name": "stderr",
     "output_type": "stream",
     "text": [
      "0.00b [00:59, ?b/s]\n"
     ]
    },
    {
     "name": "stdout",
     "output_type": "stream",
     "text": [
      "downloading /n/data1/hms/neurobio/sabatini/rich/analysis/faceRhythm/mouse_0403L/run_20230903/20230705/jobNum_0/analysis_files/VQT_Analyzer.h5   to   /media/rich/bigSSD/analysis_data/face_rhythm/mouse_0403L/fr_run/run_20230903/20230705/jobNum_0/analysis_files/VQT_Analyzer.h5\n"
     ]
    },
    {
     "name": "stderr",
     "output_type": "stream",
     "text": [
      "0.00b [01:40, ?b/s]\n"
     ]
    },
    {
     "name": "stdout",
     "output_type": "stream",
     "text": [
      "downloading /n/data1/hms/neurobio/sabatini/rich/analysis/faceRhythm/mouse_0403L/run_20230903/20230705/jobNum_0/analysis_files/Dataset_videos.h5   to   /media/rich/bigSSD/analysis_data/face_rhythm/mouse_0403L/fr_run/run_20230903/20230705/jobNum_0/analysis_files/Dataset_videos.h5\n"
     ]
    },
    {
     "name": "stderr",
     "output_type": "stream",
     "text": [
      "0.00b [00:00, ?b/s]\n"
     ]
    },
    {
     "name": "stdout",
     "output_type": "stream",
     "text": [
      "downloading /n/data1/hms/neurobio/sabatini/rich/analysis/faceRhythm/mouse_0403L/run_20230903/20230705/jobNum_0/pipeline_basic.py   to   /media/rich/bigSSD/analysis_data/face_rhythm/mouse_0403L/fr_run/run_20230903/20230705/jobNum_0/pipeline_basic.py\n"
     ]
    },
    {
     "name": "stderr",
     "output_type": "stream",
     "text": [
      "0.00b [00:00, ?b/s]\n"
     ]
    },
    {
     "name": "stdout",
     "output_type": "stream",
     "text": [
      "downloading /n/data1/hms/neurobio/sabatini/rich/analysis/faceRhythm/mouse_0403L/run_20230903/20230705/jobNum_0/run_info.json   to   /media/rich/bigSSD/analysis_data/face_rhythm/mouse_0403L/fr_run/run_20230903/20230705/jobNum_0/run_info.json\n"
     ]
    },
    {
     "name": "stderr",
     "output_type": "stream",
     "text": [
      "0.00b [00:00, ?b/s]\n"
     ]
    },
    {
     "name": "stdout",
     "output_type": "stream",
     "text": [
      "downloading /n/data1/hms/neurobio/sabatini/rich/analysis/faceRhythm/mouse_0403L/run_20230903/20230705/jobNum_0/sbatch_config.sh   to   /media/rich/bigSSD/analysis_data/face_rhythm/mouse_0403L/fr_run/run_20230903/20230705/jobNum_0/sbatch_config.sh\n"
     ]
    },
    {
     "name": "stderr",
     "output_type": "stream",
     "text": [
      "0.00b [00:00, ?b/s]\n"
     ]
    },
    {
     "name": "stdout",
     "output_type": "stream",
     "text": [
      "downloading /n/data1/hms/neurobio/sabatini/rich/analysis/faceRhythm/mouse_0403L/run_20230903/20230705/pipeline_basic.py   to   /media/rich/bigSSD/analysis_data/face_rhythm/mouse_0403L/fr_run/run_20230903/20230705/pipeline_basic.py\n"
     ]
    },
    {
     "name": "stderr",
     "output_type": "stream",
     "text": [
      "0.00b [00:00, ?b/s]\n"
     ]
    },
    {
     "name": "stdout",
     "output_type": "stream",
     "text": [
      "downloading /n/data1/hms/neurobio/sabatini/rich/analysis/faceRhythm/mouse_0403L/run_20230903/20230705/dispatcher.py   to   /media/rich/bigSSD/analysis_data/face_rhythm/mouse_0403L/fr_run/run_20230903/20230705/dispatcher.py\n"
     ]
    },
    {
     "name": "stderr",
     "output_type": "stream",
     "text": [
      "0.00b [00:00, ?b/s]\n"
     ]
    },
    {
     "name": "stdout",
     "output_type": "stream",
     "text": [
      "downloading /n/data1/hms/neurobio/sabatini/rich/analysis/faceRhythm/mouse_0403L/run_20230903/20230705/notes.txt   to   /media/rich/bigSSD/analysis_data/face_rhythm/mouse_0403L/fr_run/run_20230903/20230705/notes.txt\n"
     ]
    },
    {
     "name": "stderr",
     "output_type": "stream",
     "text": [
      "0.00b [00:00, ?b/s]\n"
     ]
    },
    {
     "name": "stdout",
     "output_type": "stream",
     "text": [
      "downloading /n/data1/hms/neurobio/sabatini/rich/analysis/faceRhythm/mouse_0403L/run_20230903/ROIs_prealigned/20230804/ROIs.h5   to   /media/rich/bigSSD/analysis_data/face_rhythm/mouse_0403L/fr_run/run_20230903/ROIs_prealigned/20230804/ROIs.h5\n"
     ]
    },
    {
     "name": "stderr",
     "output_type": "stream",
     "text": [
      "0.00b [00:00, ?b/s]\n"
     ]
    },
    {
     "name": "stdout",
     "output_type": "stream",
     "text": [
      "downloading /n/data1/hms/neurobio/sabatini/rich/analysis/faceRhythm/mouse_0403L/run_20230903/ROIs_prealigned/mouse_face_points_matched.gif   to   /media/rich/bigSSD/analysis_data/face_rhythm/mouse_0403L/fr_run/run_20230903/ROIs_prealigned/mouse_face_points_matched.gif\n"
     ]
    },
    {
     "name": "stderr",
     "output_type": "stream",
     "text": [
      "0.00b [00:00, ?b/s]\n"
     ]
    },
    {
     "name": "stdout",
     "output_type": "stream",
     "text": [
      "downloading /n/data1/hms/neurobio/sabatini/rich/analysis/faceRhythm/mouse_0403L/run_20230903/ROIs_prealigned/20230726/ROIs.h5   to   /media/rich/bigSSD/analysis_data/face_rhythm/mouse_0403L/fr_run/run_20230903/ROIs_prealigned/20230726/ROIs.h5\n"
     ]
    },
    {
     "name": "stderr",
     "output_type": "stream",
     "text": [
      "0.00b [00:00, ?b/s]\n"
     ]
    },
    {
     "name": "stdout",
     "output_type": "stream",
     "text": [
      "downloading /n/data1/hms/neurobio/sabatini/rich/analysis/faceRhythm/mouse_0403L/run_20230903/ROIs_prealigned/20230708/ROIs.h5   to   /media/rich/bigSSD/analysis_data/face_rhythm/mouse_0403L/fr_run/run_20230903/ROIs_prealigned/20230708/ROIs.h5\n"
     ]
    },
    {
     "name": "stderr",
     "output_type": "stream",
     "text": [
      "0.00b [00:00, ?b/s]\n"
     ]
    },
    {
     "name": "stdout",
     "output_type": "stream",
     "text": [
      "downloading /n/data1/hms/neurobio/sabatini/rich/analysis/faceRhythm/mouse_0403L/run_20230903/ROIs_prealigned/20230808/ROIs.h5   to   /media/rich/bigSSD/analysis_data/face_rhythm/mouse_0403L/fr_run/run_20230903/ROIs_prealigned/20230808/ROIs.h5\n"
     ]
    },
    {
     "name": "stderr",
     "output_type": "stream",
     "text": [
      "0.00b [00:00, ?b/s]\n"
     ]
    },
    {
     "name": "stdout",
     "output_type": "stream",
     "text": [
      "downloading /n/data1/hms/neurobio/sabatini/rich/analysis/faceRhythm/mouse_0403L/run_20230903/ROIs_prealigned/20230711/ROIs.h5   to   /media/rich/bigSSD/analysis_data/face_rhythm/mouse_0403L/fr_run/run_20230903/ROIs_prealigned/20230711/ROIs.h5\n"
     ]
    },
    {
     "name": "stderr",
     "output_type": "stream",
     "text": [
      "0.00b [00:00, ?b/s]\n"
     ]
    },
    {
     "name": "stdout",
     "output_type": "stream",
     "text": [
      "downloading /n/data1/hms/neurobio/sabatini/rich/analysis/faceRhythm/mouse_0403L/run_20230903/ROIs_prealigned/20230725/ROIs.h5   to   /media/rich/bigSSD/analysis_data/face_rhythm/mouse_0403L/fr_run/run_20230903/ROIs_prealigned/20230725/ROIs.h5\n"
     ]
    },
    {
     "name": "stderr",
     "output_type": "stream",
     "text": [
      "0.00b [00:00, ?b/s]\n"
     ]
    },
    {
     "name": "stdout",
     "output_type": "stream",
     "text": [
      "downloading /n/data1/hms/neurobio/sabatini/rich/analysis/faceRhythm/mouse_0403L/run_20230903/ROIs_prealigned/20230721/ROIs.h5   to   /media/rich/bigSSD/analysis_data/face_rhythm/mouse_0403L/fr_run/run_20230903/ROIs_prealigned/20230721/ROIs.h5\n"
     ]
    },
    {
     "name": "stderr",
     "output_type": "stream",
     "text": [
      "0.00b [00:00, ?b/s]\n"
     ]
    },
    {
     "name": "stdout",
     "output_type": "stream",
     "text": [
      "downloading /n/data1/hms/neurobio/sabatini/rich/analysis/faceRhythm/mouse_0403L/run_20230903/ROIs_prealigned/20230722/ROIs.h5   to   /media/rich/bigSSD/analysis_data/face_rhythm/mouse_0403L/fr_run/run_20230903/ROIs_prealigned/20230722/ROIs.h5\n"
     ]
    },
    {
     "name": "stderr",
     "output_type": "stream",
     "text": [
      "0.00b [00:00, ?b/s]\n"
     ]
    },
    {
     "name": "stdout",
     "output_type": "stream",
     "text": [
      "downloading /n/data1/hms/neurobio/sabatini/rich/analysis/faceRhythm/mouse_0403L/run_20230903/ROIs_prealigned/20230717/ROIs.h5   to   /media/rich/bigSSD/analysis_data/face_rhythm/mouse_0403L/fr_run/run_20230903/ROIs_prealigned/20230717/ROIs.h5\n"
     ]
    },
    {
     "name": "stderr",
     "output_type": "stream",
     "text": [
      "0.00b [00:00, ?b/s]\n"
     ]
    },
    {
     "name": "stdout",
     "output_type": "stream",
     "text": [
      "downloading /n/data1/hms/neurobio/sabatini/rich/analysis/faceRhythm/mouse_0403L/run_20230903/ROIs_prealigned/20230806/ROIs.h5   to   /media/rich/bigSSD/analysis_data/face_rhythm/mouse_0403L/fr_run/run_20230903/ROIs_prealigned/20230806/ROIs.h5\n"
     ]
    },
    {
     "name": "stderr",
     "output_type": "stream",
     "text": [
      "0.00b [00:00, ?b/s]\n"
     ]
    },
    {
     "name": "stdout",
     "output_type": "stream",
     "text": [
      "downloading /n/data1/hms/neurobio/sabatini/rich/analysis/faceRhythm/mouse_0403L/run_20230903/ROIs_prealigned/20230718/ROIs.h5   to   /media/rich/bigSSD/analysis_data/face_rhythm/mouse_0403L/fr_run/run_20230903/ROIs_prealigned/20230718/ROIs.h5\n"
     ]
    },
    {
     "name": "stderr",
     "output_type": "stream",
     "text": [
      "0.00b [00:00, ?b/s]\n"
     ]
    },
    {
     "name": "stdout",
     "output_type": "stream",
     "text": [
      "downloading /n/data1/hms/neurobio/sabatini/rich/analysis/faceRhythm/mouse_0403L/run_20230903/ROIs_prealigned/20230709/ROIs.h5   to   /media/rich/bigSSD/analysis_data/face_rhythm/mouse_0403L/fr_run/run_20230903/ROIs_prealigned/20230709/ROIs.h5\n"
     ]
    },
    {
     "name": "stderr",
     "output_type": "stream",
     "text": [
      "0.00b [00:00, ?b/s]\n"
     ]
    },
    {
     "name": "stdout",
     "output_type": "stream",
     "text": [
      "downloading /n/data1/hms/neurobio/sabatini/rich/analysis/faceRhythm/mouse_0403L/run_20230903/ROIs_prealigned/20230713/ROIs.h5   to   /media/rich/bigSSD/analysis_data/face_rhythm/mouse_0403L/fr_run/run_20230903/ROIs_prealigned/20230713/ROIs.h5\n"
     ]
    },
    {
     "name": "stderr",
     "output_type": "stream",
     "text": [
      "0.00b [00:00, ?b/s]\n"
     ]
    },
    {
     "name": "stdout",
     "output_type": "stream",
     "text": [
      "downloading /n/data1/hms/neurobio/sabatini/rich/analysis/faceRhythm/mouse_0403L/run_20230903/ROIs_prealigned/20230727/ROIs.h5   to   /media/rich/bigSSD/analysis_data/face_rhythm/mouse_0403L/fr_run/run_20230903/ROIs_prealigned/20230727/ROIs.h5\n"
     ]
    },
    {
     "name": "stderr",
     "output_type": "stream",
     "text": [
      "0.00b [00:00, ?b/s]\n"
     ]
    },
    {
     "name": "stdout",
     "output_type": "stream",
     "text": [
      "downloading /n/data1/hms/neurobio/sabatini/rich/analysis/faceRhythm/mouse_0403L/run_20230903/ROIs_prealigned/20230728/ROIs.h5   to   /media/rich/bigSSD/analysis_data/face_rhythm/mouse_0403L/fr_run/run_20230903/ROIs_prealigned/20230728/ROIs.h5\n"
     ]
    },
    {
     "name": "stderr",
     "output_type": "stream",
     "text": [
      "0.00b [00:00, ?b/s]\n"
     ]
    },
    {
     "name": "stdout",
     "output_type": "stream",
     "text": [
      "downloading /n/data1/hms/neurobio/sabatini/rich/analysis/faceRhythm/mouse_0403L/run_20230903/ROIs_prealigned/20230703/ROIs.h5   to   /media/rich/bigSSD/analysis_data/face_rhythm/mouse_0403L/fr_run/run_20230903/ROIs_prealigned/20230703/ROIs.h5\n"
     ]
    },
    {
     "name": "stderr",
     "output_type": "stream",
     "text": [
      "0.00b [00:00, ?b/s]\n"
     ]
    },
    {
     "name": "stdout",
     "output_type": "stream",
     "text": [
      "downloading /n/data1/hms/neurobio/sabatini/rich/analysis/faceRhythm/mouse_0403L/run_20230903/ROIs_prealigned/20230801/ROIs.h5   to   /media/rich/bigSSD/analysis_data/face_rhythm/mouse_0403L/fr_run/run_20230903/ROIs_prealigned/20230801/ROIs.h5\n"
     ]
    },
    {
     "name": "stderr",
     "output_type": "stream",
     "text": [
      "0.00b [00:00, ?b/s]\n"
     ]
    },
    {
     "name": "stdout",
     "output_type": "stream",
     "text": [
      "downloading /n/data1/hms/neurobio/sabatini/rich/analysis/faceRhythm/mouse_0403L/run_20230903/ROIs_prealigned/20230731/ROIs.h5   to   /media/rich/bigSSD/analysis_data/face_rhythm/mouse_0403L/fr_run/run_20230903/ROIs_prealigned/20230731/ROIs.h5\n"
     ]
    },
    {
     "name": "stderr",
     "output_type": "stream",
     "text": [
      "0.00b [00:00, ?b/s]\n"
     ]
    },
    {
     "name": "stdout",
     "output_type": "stream",
     "text": [
      "downloading /n/data1/hms/neurobio/sabatini/rich/analysis/faceRhythm/mouse_0403L/run_20230903/ROIs_prealigned/20230724/ROIs.h5   to   /media/rich/bigSSD/analysis_data/face_rhythm/mouse_0403L/fr_run/run_20230903/ROIs_prealigned/20230724/ROIs.h5\n"
     ]
    },
    {
     "name": "stderr",
     "output_type": "stream",
     "text": [
      "0.00b [00:00, ?b/s]\n"
     ]
    },
    {
     "name": "stdout",
     "output_type": "stream",
     "text": [
      "downloading /n/data1/hms/neurobio/sabatini/rich/analysis/faceRhythm/mouse_0403L/run_20230903/ROIs_prealigned/20230710/ROIs.h5   to   /media/rich/bigSSD/analysis_data/face_rhythm/mouse_0403L/fr_run/run_20230903/ROIs_prealigned/20230710/ROIs.h5\n"
     ]
    },
    {
     "name": "stderr",
     "output_type": "stream",
     "text": [
      "0.00b [00:00, ?b/s]\n"
     ]
    },
    {
     "name": "stdout",
     "output_type": "stream",
     "text": [
      "downloading /n/data1/hms/neurobio/sabatini/rich/analysis/faceRhythm/mouse_0403L/run_20230903/ROIs_prealigned/20230723/ROIs.h5   to   /media/rich/bigSSD/analysis_data/face_rhythm/mouse_0403L/fr_run/run_20230903/ROIs_prealigned/20230723/ROIs.h5\n"
     ]
    },
    {
     "name": "stderr",
     "output_type": "stream",
     "text": [
      "0.00b [00:00, ?b/s]\n"
     ]
    },
    {
     "name": "stdout",
     "output_type": "stream",
     "text": [
      "downloading /n/data1/hms/neurobio/sabatini/rich/analysis/faceRhythm/mouse_0403L/run_20230903/ROIs_prealigned/20230716/ROIs.h5   to   /media/rich/bigSSD/analysis_data/face_rhythm/mouse_0403L/fr_run/run_20230903/ROIs_prealigned/20230716/ROIs.h5\n"
     ]
    },
    {
     "name": "stderr",
     "output_type": "stream",
     "text": [
      "0.00b [00:00, ?b/s]\n"
     ]
    },
    {
     "name": "stdout",
     "output_type": "stream",
     "text": [
      "downloading /n/data1/hms/neurobio/sabatini/rich/analysis/faceRhythm/mouse_0403L/run_20230903/ROIs_prealigned/20230705/ROIs.h5   to   /media/rich/bigSSD/analysis_data/face_rhythm/mouse_0403L/fr_run/run_20230903/ROIs_prealigned/20230705/ROIs.h5\n"
     ]
    },
    {
     "name": "stderr",
     "output_type": "stream",
     "text": [
      "0.00b [00:00, ?b/s]\n"
     ]
    },
    {
     "name": "stdout",
     "output_type": "stream",
     "text": [
      "downloading /n/data1/hms/neurobio/sabatini/rich/analysis/faceRhythm/mouse_0403L/run_20230903/ROIs_prealigned/mouse_face_matched.gif   to   /media/rich/bigSSD/analysis_data/face_rhythm/mouse_0403L/fr_run/run_20230903/ROIs_prealigned/mouse_face_matched.gif\n"
     ]
    },
    {
     "name": "stderr",
     "output_type": "stream",
     "text": [
      "0.00b [00:00, ?b/s]\n"
     ]
    },
    {
     "name": "stdout",
     "output_type": "stream",
     "text": [
      "downloading /n/data1/hms/neurobio/sabatini/rich/analysis/faceRhythm/mouse_0403L/run_20230903/ROIs_prealigned/20230720/ROIs.h5   to   /media/rich/bigSSD/analysis_data/face_rhythm/mouse_0403L/fr_run/run_20230903/ROIs_prealigned/20230720/ROIs.h5\n"
     ]
    },
    {
     "name": "stderr",
     "output_type": "stream",
     "text": [
      "0.00b [00:00, ?b/s]\n"
     ]
    },
    {
     "name": "stdout",
     "output_type": "stream",
     "text": [
      "downloading /n/data1/hms/neurobio/sabatini/rich/analysis/faceRhythm/mouse_0403L/run_20230903/ROIs_prealigned/20230707/ROIs.h5   to   /media/rich/bigSSD/analysis_data/face_rhythm/mouse_0403L/fr_run/run_20230903/ROIs_prealigned/20230707/ROIs.h5\n"
     ]
    },
    {
     "name": "stderr",
     "output_type": "stream",
     "text": [
      "0.00b [00:00, ?b/s]\n"
     ]
    },
    {
     "name": "stdout",
     "output_type": "stream",
     "text": [
      "downloading /n/data1/hms/neurobio/sabatini/rich/analysis/faceRhythm/mouse_0403L/run_20230903/ROIs_prealigned/20230719/ROIs.h5   to   /media/rich/bigSSD/analysis_data/face_rhythm/mouse_0403L/fr_run/run_20230903/ROIs_prealigned/20230719/ROIs.h5\n"
     ]
    },
    {
     "name": "stderr",
     "output_type": "stream",
     "text": [
      "0.00b [00:00, ?b/s]\n"
     ]
    },
    {
     "name": "stdout",
     "output_type": "stream",
     "text": [
      "downloading /n/data1/hms/neurobio/sabatini/rich/analysis/faceRhythm/mouse_0403L/run_20230903/ROIs_prealigned/20230811/ROIs.h5   to   /media/rich/bigSSD/analysis_data/face_rhythm/mouse_0403L/fr_run/run_20230903/ROIs_prealigned/20230811/ROIs.h5\n"
     ]
    },
    {
     "name": "stderr",
     "output_type": "stream",
     "text": [
      "0.00b [00:00, ?b/s]\n"
     ]
    },
    {
     "name": "stdout",
     "output_type": "stream",
     "text": [
      "downloading /n/data1/hms/neurobio/sabatini/rich/analysis/faceRhythm/mouse_0403L/run_20230903/ROIs_prealigned/20230802/ROIs.h5   to   /media/rich/bigSSD/analysis_data/face_rhythm/mouse_0403L/fr_run/run_20230903/ROIs_prealigned/20230802/ROIs.h5\n"
     ]
    },
    {
     "name": "stderr",
     "output_type": "stream",
     "text": [
      "0.00b [00:00, ?b/s]\n"
     ]
    },
    {
     "name": "stdout",
     "output_type": "stream",
     "text": [
      "downloading /n/data1/hms/neurobio/sabatini/rich/analysis/faceRhythm/mouse_0403L/run_20230903/ROIs_prealigned/20230715/ROIs.h5   to   /media/rich/bigSSD/analysis_data/face_rhythm/mouse_0403L/fr_run/run_20230903/ROIs_prealigned/20230715/ROIs.h5\n"
     ]
    },
    {
     "name": "stderr",
     "output_type": "stream",
     "text": [
      "0.00b [00:00, ?b/s]\n"
     ]
    },
    {
     "name": "stdout",
     "output_type": "stream",
     "text": [
      "downloading /n/data1/hms/neurobio/sabatini/rich/analysis/faceRhythm/mouse_0403L/run_20230903/ROIs_prealigned/20230730/ROIs.h5   to   /media/rich/bigSSD/analysis_data/face_rhythm/mouse_0403L/fr_run/run_20230903/ROIs_prealigned/20230730/ROIs.h5\n"
     ]
    },
    {
     "name": "stderr",
     "output_type": "stream",
     "text": [
      "0.00b [00:00, ?b/s]\n"
     ]
    },
    {
     "name": "stdout",
     "output_type": "stream",
     "text": [
      "downloading /n/data1/hms/neurobio/sabatini/rich/analysis/faceRhythm/mouse_0403L/run_20230903/ROIs_prealigned/20230809/ROIs.h5   to   /media/rich/bigSSD/analysis_data/face_rhythm/mouse_0403L/fr_run/run_20230903/ROIs_prealigned/20230809/ROIs.h5\n"
     ]
    },
    {
     "name": "stderr",
     "output_type": "stream",
     "text": [
      "0.00b [00:00, ?b/s]\n"
     ]
    },
    {
     "name": "stdout",
     "output_type": "stream",
     "text": [
      "downloading /n/data1/hms/neurobio/sabatini/rich/analysis/faceRhythm/mouse_0403L/run_20230903/ROIs_prealigned/20230805/ROIs.h5   to   /media/rich/bigSSD/analysis_data/face_rhythm/mouse_0403L/fr_run/run_20230903/ROIs_prealigned/20230805/ROIs.h5\n"
     ]
    },
    {
     "name": "stderr",
     "output_type": "stream",
     "text": [
      "0.00b [00:00, ?b/s]\n"
     ]
    },
    {
     "name": "stdout",
     "output_type": "stream",
     "text": [
      "downloading /n/data1/hms/neurobio/sabatini/rich/analysis/faceRhythm/mouse_0403L/run_20230903/ROIs_prealigned/20230706/ROIs.h5   to   /media/rich/bigSSD/analysis_data/face_rhythm/mouse_0403L/fr_run/run_20230903/ROIs_prealigned/20230706/ROIs.h5\n"
     ]
    },
    {
     "name": "stderr",
     "output_type": "stream",
     "text": [
      "0.00b [00:00, ?b/s]\n"
     ]
    },
    {
     "name": "stdout",
     "output_type": "stream",
     "text": [
      "downloading /n/data1/hms/neurobio/sabatini/rich/analysis/faceRhythm/mouse_0403L/run_20230903/ROIs_prealigned/20230807/ROIs.h5   to   /media/rich/bigSSD/analysis_data/face_rhythm/mouse_0403L/fr_run/run_20230903/ROIs_prealigned/20230807/ROIs.h5\n"
     ]
    },
    {
     "name": "stderr",
     "output_type": "stream",
     "text": [
      "0.00b [00:00, ?b/s]\n"
     ]
    },
    {
     "name": "stdout",
     "output_type": "stream",
     "text": [
      "downloading /n/data1/hms/neurobio/sabatini/rich/analysis/faceRhythm/mouse_0403L/run_20230903/ROIs_prealigned/20230803/ROIs.h5   to   /media/rich/bigSSD/analysis_data/face_rhythm/mouse_0403L/fr_run/run_20230903/ROIs_prealigned/20230803/ROIs.h5\n"
     ]
    },
    {
     "name": "stderr",
     "output_type": "stream",
     "text": [
      "0.00b [00:00, ?b/s]\n"
     ]
    },
    {
     "name": "stdout",
     "output_type": "stream",
     "text": [
      "downloading /n/data1/hms/neurobio/sabatini/rich/analysis/faceRhythm/mouse_0403L/run_20230903/ROIs_prealigned/20230712/ROIs.h5   to   /media/rich/bigSSD/analysis_data/face_rhythm/mouse_0403L/fr_run/run_20230903/ROIs_prealigned/20230712/ROIs.h5\n"
     ]
    },
    {
     "name": "stderr",
     "output_type": "stream",
     "text": [
      "0.00b [00:00, ?b/s]\n"
     ]
    },
    {
     "name": "stdout",
     "output_type": "stream",
     "text": [
      "downloading /n/data1/hms/neurobio/sabatini/rich/analysis/faceRhythm/mouse_0403L/run_20230903/ROIs_prealigned/20230714/ROIs.h5   to   /media/rich/bigSSD/analysis_data/face_rhythm/mouse_0403L/fr_run/run_20230903/ROIs_prealigned/20230714/ROIs.h5\n"
     ]
    },
    {
     "name": "stderr",
     "output_type": "stream",
     "text": [
      "0.00b [00:00, ?b/s]\n"
     ]
    },
    {
     "name": "stdout",
     "output_type": "stream",
     "text": [
      "downloading /n/data1/hms/neurobio/sabatini/rich/analysis/faceRhythm/mouse_0403L/run_20230903/ROIs_prealigned/20230729/ROIs.h5   to   /media/rich/bigSSD/analysis_data/face_rhythm/mouse_0403L/fr_run/run_20230903/ROIs_prealigned/20230729/ROIs.h5\n"
     ]
    },
    {
     "name": "stderr",
     "output_type": "stream",
     "text": [
      "0.00b [00:00, ?b/s]\n"
     ]
    },
    {
     "name": "stdout",
     "output_type": "stream",
     "text": [
      "downloading /n/data1/hms/neurobio/sabatini/rich/analysis/faceRhythm/mouse_0403L/run_20230903/20230720/parameters_batch.json   to   /media/rich/bigSSD/analysis_data/face_rhythm/mouse_0403L/fr_run/run_20230903/20230720/parameters_batch.json\n"
     ]
    },
    {
     "name": "stderr",
     "output_type": "stream",
     "text": [
      "0.00b [00:00, ?b/s]\n"
     ]
    },
    {
     "name": "stdout",
     "output_type": "stream",
     "text": [
      "downloading /n/data1/hms/neurobio/sabatini/rich/analysis/faceRhythm/mouse_0403L/run_20230903/20230720/jobNum_0/params.json   to   /media/rich/bigSSD/analysis_data/face_rhythm/mouse_0403L/fr_run/run_20230903/20230720/jobNum_0/params.json\n"
     ]
    },
    {
     "name": "stderr",
     "output_type": "stream",
     "text": [
      "0.00b [00:00, ?b/s]\n"
     ]
    },
    {
     "name": "stdout",
     "output_type": "stream",
     "text": [
      "downloading /n/data1/hms/neurobio/sabatini/rich/analysis/faceRhythm/mouse_0403L/run_20230903/20230720/jobNum_0/config.yaml   to   /media/rich/bigSSD/analysis_data/face_rhythm/mouse_0403L/fr_run/run_20230903/20230720/jobNum_0/config.yaml\n"
     ]
    },
    {
     "name": "stderr",
     "output_type": "stream",
     "text": [
      "0.00b [00:00, ?b/s]\n"
     ]
    },
    {
     "name": "stdout",
     "output_type": "stream",
     "text": [
      "downloading /n/data1/hms/neurobio/sabatini/rich/analysis/faceRhythm/mouse_0403L/run_20230903/20230720/jobNum_0/cpu_tracker.csv   to   /media/rich/bigSSD/analysis_data/face_rhythm/mouse_0403L/fr_run/run_20230903/20230720/jobNum_0/cpu_tracker.csv\n"
     ]
    },
    {
     "name": "stderr",
     "output_type": "stream",
     "text": [
      "0.00b [00:00, ?b/s]\n"
     ]
    },
    {
     "name": "stdout",
     "output_type": "stream",
     "text": [
      "downloading /n/data1/hms/neurobio/sabatini/rich/analysis/faceRhythm/mouse_0403L/run_20230903/20230720/jobNum_0/print_log_16790217.log   to   /media/rich/bigSSD/analysis_data/face_rhythm/mouse_0403L/fr_run/run_20230903/20230720/jobNum_0/print_log_16790217.log\n"
     ]
    },
    {
     "name": "stderr",
     "output_type": "stream",
     "text": [
      "0.00b [00:00, ?b/s]\n"
     ]
    },
    {
     "name": "stdout",
     "output_type": "stream",
     "text": [
      "downloading /n/data1/hms/neurobio/sabatini/rich/analysis/faceRhythm/mouse_0403L/run_20230903/20230720/jobNum_0/analysis_files/ROIs.h5   to   /media/rich/bigSSD/analysis_data/face_rhythm/mouse_0403L/fr_run/run_20230903/20230720/jobNum_0/analysis_files/ROIs.h5\n"
     ]
    },
    {
     "name": "stderr",
     "output_type": "stream",
     "text": [
      "0.00b [00:00, ?b/s]\n"
     ]
    },
    {
     "name": "stdout",
     "output_type": "stream",
     "text": [
      "downloading /n/data1/hms/neurobio/sabatini/rich/analysis/faceRhythm/mouse_0403L/run_20230903/20230720/jobNum_0/analysis_files/TCA.h5   to   /media/rich/bigSSD/analysis_data/face_rhythm/mouse_0403L/fr_run/run_20230903/20230720/jobNum_0/analysis_files/TCA.h5\n"
     ]
    },
    {
     "name": "stderr",
     "output_type": "stream",
     "text": [
      "0.00b [00:00, ?b/s]\n"
     ]
    },
    {
     "name": "stdout",
     "output_type": "stream",
     "text": [
      "downloading /n/data1/hms/neurobio/sabatini/rich/analysis/faceRhythm/mouse_0403L/run_20230903/20230720/jobNum_0/analysis_files/PointTracker.h5   to   /media/rich/bigSSD/analysis_data/face_rhythm/mouse_0403L/fr_run/run_20230903/20230720/jobNum_0/analysis_files/PointTracker.h5\n"
     ]
    },
    {
     "name": "stderr",
     "output_type": "stream",
     "text": [
      "0.00b [00:56, ?b/s]\n"
     ]
    },
    {
     "name": "stdout",
     "output_type": "stream",
     "text": [
      "downloading /n/data1/hms/neurobio/sabatini/rich/analysis/faceRhythm/mouse_0403L/run_20230903/20230720/jobNum_0/analysis_files/VQT_Analyzer.h5   to   /media/rich/bigSSD/analysis_data/face_rhythm/mouse_0403L/fr_run/run_20230903/20230720/jobNum_0/analysis_files/VQT_Analyzer.h5\n"
     ]
    },
    {
     "name": "stderr",
     "output_type": "stream",
     "text": [
      "0.00b [01:39, ?b/s]\n"
     ]
    },
    {
     "name": "stdout",
     "output_type": "stream",
     "text": [
      "downloading /n/data1/hms/neurobio/sabatini/rich/analysis/faceRhythm/mouse_0403L/run_20230903/20230720/jobNum_0/analysis_files/Dataset_videos.h5   to   /media/rich/bigSSD/analysis_data/face_rhythm/mouse_0403L/fr_run/run_20230903/20230720/jobNum_0/analysis_files/Dataset_videos.h5\n"
     ]
    },
    {
     "name": "stderr",
     "output_type": "stream",
     "text": [
      "0.00b [00:00, ?b/s]\n"
     ]
    },
    {
     "name": "stdout",
     "output_type": "stream",
     "text": [
      "downloading /n/data1/hms/neurobio/sabatini/rich/analysis/faceRhythm/mouse_0403L/run_20230903/20230720/jobNum_0/pipeline_basic.py   to   /media/rich/bigSSD/analysis_data/face_rhythm/mouse_0403L/fr_run/run_20230903/20230720/jobNum_0/pipeline_basic.py\n"
     ]
    },
    {
     "name": "stderr",
     "output_type": "stream",
     "text": [
      "0.00b [00:00, ?b/s]\n"
     ]
    },
    {
     "name": "stdout",
     "output_type": "stream",
     "text": [
      "downloading /n/data1/hms/neurobio/sabatini/rich/analysis/faceRhythm/mouse_0403L/run_20230903/20230720/jobNum_0/run_info.json   to   /media/rich/bigSSD/analysis_data/face_rhythm/mouse_0403L/fr_run/run_20230903/20230720/jobNum_0/run_info.json\n"
     ]
    },
    {
     "name": "stderr",
     "output_type": "stream",
     "text": [
      "0.00b [00:00, ?b/s]\n"
     ]
    },
    {
     "name": "stdout",
     "output_type": "stream",
     "text": [
      "downloading /n/data1/hms/neurobio/sabatini/rich/analysis/faceRhythm/mouse_0403L/run_20230903/20230720/jobNum_0/sbatch_config.sh   to   /media/rich/bigSSD/analysis_data/face_rhythm/mouse_0403L/fr_run/run_20230903/20230720/jobNum_0/sbatch_config.sh\n"
     ]
    },
    {
     "name": "stderr",
     "output_type": "stream",
     "text": [
      "0.00b [00:00, ?b/s]\n"
     ]
    },
    {
     "name": "stdout",
     "output_type": "stream",
     "text": [
      "downloading /n/data1/hms/neurobio/sabatini/rich/analysis/faceRhythm/mouse_0403L/run_20230903/20230720/pipeline_basic.py   to   /media/rich/bigSSD/analysis_data/face_rhythm/mouse_0403L/fr_run/run_20230903/20230720/pipeline_basic.py\n"
     ]
    },
    {
     "name": "stderr",
     "output_type": "stream",
     "text": [
      "0.00b [00:00, ?b/s]\n"
     ]
    },
    {
     "name": "stdout",
     "output_type": "stream",
     "text": [
      "downloading /n/data1/hms/neurobio/sabatini/rich/analysis/faceRhythm/mouse_0403L/run_20230903/20230720/dispatcher.py   to   /media/rich/bigSSD/analysis_data/face_rhythm/mouse_0403L/fr_run/run_20230903/20230720/dispatcher.py\n"
     ]
    },
    {
     "name": "stderr",
     "output_type": "stream",
     "text": [
      "0.00b [00:00, ?b/s]\n"
     ]
    },
    {
     "name": "stdout",
     "output_type": "stream",
     "text": [
      "downloading /n/data1/hms/neurobio/sabatini/rich/analysis/faceRhythm/mouse_0403L/run_20230903/20230720/notes.txt   to   /media/rich/bigSSD/analysis_data/face_rhythm/mouse_0403L/fr_run/run_20230903/20230720/notes.txt\n"
     ]
    },
    {
     "name": "stderr",
     "output_type": "stream",
     "text": [
      "0.00b [00:00, ?b/s]\n"
     ]
    },
    {
     "name": "stdout",
     "output_type": "stream",
     "text": [
      "downloading /n/data1/hms/neurobio/sabatini/rich/analysis/faceRhythm/mouse_0403L/run_20230903/20230707/parameters_batch.json   to   /media/rich/bigSSD/analysis_data/face_rhythm/mouse_0403L/fr_run/run_20230903/20230707/parameters_batch.json\n"
     ]
    },
    {
     "name": "stderr",
     "output_type": "stream",
     "text": [
      "0.00b [00:00, ?b/s]\n"
     ]
    },
    {
     "name": "stdout",
     "output_type": "stream",
     "text": [
      "downloading /n/data1/hms/neurobio/sabatini/rich/analysis/faceRhythm/mouse_0403L/run_20230903/20230707/jobNum_0/params.json   to   /media/rich/bigSSD/analysis_data/face_rhythm/mouse_0403L/fr_run/run_20230903/20230707/jobNum_0/params.json\n"
     ]
    },
    {
     "name": "stderr",
     "output_type": "stream",
     "text": [
      "0.00b [00:00, ?b/s]\n"
     ]
    },
    {
     "name": "stdout",
     "output_type": "stream",
     "text": [
      "downloading /n/data1/hms/neurobio/sabatini/rich/analysis/faceRhythm/mouse_0403L/run_20230903/20230707/jobNum_0/config.yaml   to   /media/rich/bigSSD/analysis_data/face_rhythm/mouse_0403L/fr_run/run_20230903/20230707/jobNum_0/config.yaml\n"
     ]
    },
    {
     "name": "stderr",
     "output_type": "stream",
     "text": [
      "0.00b [00:00, ?b/s]\n"
     ]
    },
    {
     "name": "stdout",
     "output_type": "stream",
     "text": [
      "downloading /n/data1/hms/neurobio/sabatini/rich/analysis/faceRhythm/mouse_0403L/run_20230903/20230707/jobNum_0/print_log_16753672.log   to   /media/rich/bigSSD/analysis_data/face_rhythm/mouse_0403L/fr_run/run_20230903/20230707/jobNum_0/print_log_16753672.log\n"
     ]
    },
    {
     "name": "stderr",
     "output_type": "stream",
     "text": [
      "0.00b [00:00, ?b/s]\n"
     ]
    },
    {
     "name": "stdout",
     "output_type": "stream",
     "text": [
      "downloading /n/data1/hms/neurobio/sabatini/rich/analysis/faceRhythm/mouse_0403L/run_20230903/20230707/jobNum_0/cpu_tracker.csv   to   /media/rich/bigSSD/analysis_data/face_rhythm/mouse_0403L/fr_run/run_20230903/20230707/jobNum_0/cpu_tracker.csv\n"
     ]
    },
    {
     "name": "stderr",
     "output_type": "stream",
     "text": [
      "0.00b [00:00, ?b/s]\n"
     ]
    },
    {
     "name": "stdout",
     "output_type": "stream",
     "text": [
      "downloading /n/data1/hms/neurobio/sabatini/rich/analysis/faceRhythm/mouse_0403L/run_20230903/20230707/jobNum_0/analysis_files/ROIs.h5   to   /media/rich/bigSSD/analysis_data/face_rhythm/mouse_0403L/fr_run/run_20230903/20230707/jobNum_0/analysis_files/ROIs.h5\n"
     ]
    },
    {
     "name": "stderr",
     "output_type": "stream",
     "text": [
      "0.00b [00:01, ?b/s]\n"
     ]
    },
    {
     "name": "stdout",
     "output_type": "stream",
     "text": [
      "downloading /n/data1/hms/neurobio/sabatini/rich/analysis/faceRhythm/mouse_0403L/run_20230903/20230707/jobNum_0/analysis_files/TCA.h5   to   /media/rich/bigSSD/analysis_data/face_rhythm/mouse_0403L/fr_run/run_20230903/20230707/jobNum_0/analysis_files/TCA.h5\n"
     ]
    },
    {
     "name": "stderr",
     "output_type": "stream",
     "text": [
      "0.00b [00:00, ?b/s]\n"
     ]
    },
    {
     "name": "stdout",
     "output_type": "stream",
     "text": [
      "downloading /n/data1/hms/neurobio/sabatini/rich/analysis/faceRhythm/mouse_0403L/run_20230903/20230707/jobNum_0/analysis_files/PointTracker.h5   to   /media/rich/bigSSD/analysis_data/face_rhythm/mouse_0403L/fr_run/run_20230903/20230707/jobNum_0/analysis_files/PointTracker.h5\n"
     ]
    },
    {
     "name": "stderr",
     "output_type": "stream",
     "text": [
      "0.00b [00:59, ?b/s]\n"
     ]
    },
    {
     "name": "stdout",
     "output_type": "stream",
     "text": [
      "downloading /n/data1/hms/neurobio/sabatini/rich/analysis/faceRhythm/mouse_0403L/run_20230903/20230707/jobNum_0/analysis_files/VQT_Analyzer.h5   to   /media/rich/bigSSD/analysis_data/face_rhythm/mouse_0403L/fr_run/run_20230903/20230707/jobNum_0/analysis_files/VQT_Analyzer.h5\n"
     ]
    },
    {
     "name": "stderr",
     "output_type": "stream",
     "text": [
      "0.00b [01:45, ?b/s]\n"
     ]
    },
    {
     "name": "stdout",
     "output_type": "stream",
     "text": [
      "downloading /n/data1/hms/neurobio/sabatini/rich/analysis/faceRhythm/mouse_0403L/run_20230903/20230707/jobNum_0/analysis_files/Dataset_videos.h5   to   /media/rich/bigSSD/analysis_data/face_rhythm/mouse_0403L/fr_run/run_20230903/20230707/jobNum_0/analysis_files/Dataset_videos.h5\n"
     ]
    },
    {
     "name": "stderr",
     "output_type": "stream",
     "text": [
      "0.00b [00:00, ?b/s]\n"
     ]
    },
    {
     "name": "stdout",
     "output_type": "stream",
     "text": [
      "downloading /n/data1/hms/neurobio/sabatini/rich/analysis/faceRhythm/mouse_0403L/run_20230903/20230707/jobNum_0/pipeline_basic.py   to   /media/rich/bigSSD/analysis_data/face_rhythm/mouse_0403L/fr_run/run_20230903/20230707/jobNum_0/pipeline_basic.py\n"
     ]
    },
    {
     "name": "stderr",
     "output_type": "stream",
     "text": [
      "0.00b [00:00, ?b/s]\n"
     ]
    },
    {
     "name": "stdout",
     "output_type": "stream",
     "text": [
      "downloading /n/data1/hms/neurobio/sabatini/rich/analysis/faceRhythm/mouse_0403L/run_20230903/20230707/jobNum_0/run_info.json   to   /media/rich/bigSSD/analysis_data/face_rhythm/mouse_0403L/fr_run/run_20230903/20230707/jobNum_0/run_info.json\n"
     ]
    },
    {
     "name": "stderr",
     "output_type": "stream",
     "text": [
      "0.00b [00:00, ?b/s]\n"
     ]
    },
    {
     "name": "stdout",
     "output_type": "stream",
     "text": [
      "downloading /n/data1/hms/neurobio/sabatini/rich/analysis/faceRhythm/mouse_0403L/run_20230903/20230707/jobNum_0/sbatch_config.sh   to   /media/rich/bigSSD/analysis_data/face_rhythm/mouse_0403L/fr_run/run_20230903/20230707/jobNum_0/sbatch_config.sh\n"
     ]
    },
    {
     "name": "stderr",
     "output_type": "stream",
     "text": [
      "0.00b [00:00, ?b/s]\n"
     ]
    },
    {
     "name": "stdout",
     "output_type": "stream",
     "text": [
      "downloading /n/data1/hms/neurobio/sabatini/rich/analysis/faceRhythm/mouse_0403L/run_20230903/20230707/pipeline_basic.py   to   /media/rich/bigSSD/analysis_data/face_rhythm/mouse_0403L/fr_run/run_20230903/20230707/pipeline_basic.py\n"
     ]
    },
    {
     "name": "stderr",
     "output_type": "stream",
     "text": [
      "0.00b [00:00, ?b/s]\n"
     ]
    },
    {
     "name": "stdout",
     "output_type": "stream",
     "text": [
      "downloading /n/data1/hms/neurobio/sabatini/rich/analysis/faceRhythm/mouse_0403L/run_20230903/20230707/dispatcher.py   to   /media/rich/bigSSD/analysis_data/face_rhythm/mouse_0403L/fr_run/run_20230903/20230707/dispatcher.py\n"
     ]
    },
    {
     "name": "stderr",
     "output_type": "stream",
     "text": [
      "0.00b [00:00, ?b/s]\n"
     ]
    },
    {
     "name": "stdout",
     "output_type": "stream",
     "text": [
      "downloading /n/data1/hms/neurobio/sabatini/rich/analysis/faceRhythm/mouse_0403L/run_20230903/20230707/notes.txt   to   /media/rich/bigSSD/analysis_data/face_rhythm/mouse_0403L/fr_run/run_20230903/20230707/notes.txt\n"
     ]
    },
    {
     "name": "stderr",
     "output_type": "stream",
     "text": [
      "0.00b [00:00, ?b/s]\n"
     ]
    },
    {
     "name": "stdout",
     "output_type": "stream",
     "text": [
      "downloading /n/data1/hms/neurobio/sabatini/rich/analysis/faceRhythm/mouse_0403L/run_20230903/20230719/parameters_batch.json   to   /media/rich/bigSSD/analysis_data/face_rhythm/mouse_0403L/fr_run/run_20230903/20230719/parameters_batch.json\n"
     ]
    },
    {
     "name": "stderr",
     "output_type": "stream",
     "text": [
      "0.00b [00:00, ?b/s]\n"
     ]
    },
    {
     "name": "stdout",
     "output_type": "stream",
     "text": [
      "downloading /n/data1/hms/neurobio/sabatini/rich/analysis/faceRhythm/mouse_0403L/run_20230903/20230719/jobNum_0/params.json   to   /media/rich/bigSSD/analysis_data/face_rhythm/mouse_0403L/fr_run/run_20230903/20230719/jobNum_0/params.json\n"
     ]
    },
    {
     "name": "stderr",
     "output_type": "stream",
     "text": [
      "0.00b [00:00, ?b/s]\n"
     ]
    },
    {
     "name": "stdout",
     "output_type": "stream",
     "text": [
      "downloading /n/data1/hms/neurobio/sabatini/rich/analysis/faceRhythm/mouse_0403L/run_20230903/20230719/jobNum_0/config.yaml   to   /media/rich/bigSSD/analysis_data/face_rhythm/mouse_0403L/fr_run/run_20230903/20230719/jobNum_0/config.yaml\n"
     ]
    },
    {
     "name": "stderr",
     "output_type": "stream",
     "text": [
      "0.00b [00:00, ?b/s]\n"
     ]
    },
    {
     "name": "stdout",
     "output_type": "stream",
     "text": [
      "downloading /n/data1/hms/neurobio/sabatini/rich/analysis/faceRhythm/mouse_0403L/run_20230903/20230719/jobNum_0/cpu_tracker.csv   to   /media/rich/bigSSD/analysis_data/face_rhythm/mouse_0403L/fr_run/run_20230903/20230719/jobNum_0/cpu_tracker.csv\n"
     ]
    },
    {
     "name": "stderr",
     "output_type": "stream",
     "text": [
      "0.00b [00:00, ?b/s]\n"
     ]
    },
    {
     "name": "stdout",
     "output_type": "stream",
     "text": [
      "downloading /n/data1/hms/neurobio/sabatini/rich/analysis/faceRhythm/mouse_0403L/run_20230903/20230719/jobNum_0/analysis_files/ROIs.h5   to   /media/rich/bigSSD/analysis_data/face_rhythm/mouse_0403L/fr_run/run_20230903/20230719/jobNum_0/analysis_files/ROIs.h5\n"
     ]
    },
    {
     "name": "stderr",
     "output_type": "stream",
     "text": [
      "0.00b [00:00, ?b/s]\n"
     ]
    },
    {
     "name": "stdout",
     "output_type": "stream",
     "text": [
      "downloading /n/data1/hms/neurobio/sabatini/rich/analysis/faceRhythm/mouse_0403L/run_20230903/20230719/jobNum_0/analysis_files/TCA.h5   to   /media/rich/bigSSD/analysis_data/face_rhythm/mouse_0403L/fr_run/run_20230903/20230719/jobNum_0/analysis_files/TCA.h5\n"
     ]
    },
    {
     "name": "stderr",
     "output_type": "stream",
     "text": [
      "0.00b [00:00, ?b/s]\n"
     ]
    },
    {
     "name": "stdout",
     "output_type": "stream",
     "text": [
      "downloading /n/data1/hms/neurobio/sabatini/rich/analysis/faceRhythm/mouse_0403L/run_20230903/20230719/jobNum_0/analysis_files/PointTracker.h5   to   /media/rich/bigSSD/analysis_data/face_rhythm/mouse_0403L/fr_run/run_20230903/20230719/jobNum_0/analysis_files/PointTracker.h5\n"
     ]
    },
    {
     "name": "stderr",
     "output_type": "stream",
     "text": [
      "0.00b [01:07, ?b/s]\n"
     ]
    },
    {
     "name": "stdout",
     "output_type": "stream",
     "text": [
      "downloading /n/data1/hms/neurobio/sabatini/rich/analysis/faceRhythm/mouse_0403L/run_20230903/20230719/jobNum_0/analysis_files/VQT_Analyzer.h5   to   /media/rich/bigSSD/analysis_data/face_rhythm/mouse_0403L/fr_run/run_20230903/20230719/jobNum_0/analysis_files/VQT_Analyzer.h5\n"
     ]
    },
    {
     "name": "stderr",
     "output_type": "stream",
     "text": [
      "0.00b [01:58, ?b/s]\n"
     ]
    },
    {
     "name": "stdout",
     "output_type": "stream",
     "text": [
      "downloading /n/data1/hms/neurobio/sabatini/rich/analysis/faceRhythm/mouse_0403L/run_20230903/20230719/jobNum_0/analysis_files/Dataset_videos.h5   to   /media/rich/bigSSD/analysis_data/face_rhythm/mouse_0403L/fr_run/run_20230903/20230719/jobNum_0/analysis_files/Dataset_videos.h5\n"
     ]
    },
    {
     "name": "stderr",
     "output_type": "stream",
     "text": [
      "0.00b [00:01, ?b/s]\n"
     ]
    },
    {
     "name": "stdout",
     "output_type": "stream",
     "text": [
      "downloading /n/data1/hms/neurobio/sabatini/rich/analysis/faceRhythm/mouse_0403L/run_20230903/20230719/jobNum_0/pipeline_basic.py   to   /media/rich/bigSSD/analysis_data/face_rhythm/mouse_0403L/fr_run/run_20230903/20230719/jobNum_0/pipeline_basic.py\n"
     ]
    },
    {
     "name": "stderr",
     "output_type": "stream",
     "text": [
      "0.00b [00:00, ?b/s]\n"
     ]
    },
    {
     "name": "stdout",
     "output_type": "stream",
     "text": [
      "downloading /n/data1/hms/neurobio/sabatini/rich/analysis/faceRhythm/mouse_0403L/run_20230903/20230719/jobNum_0/run_info.json   to   /media/rich/bigSSD/analysis_data/face_rhythm/mouse_0403L/fr_run/run_20230903/20230719/jobNum_0/run_info.json\n"
     ]
    },
    {
     "name": "stderr",
     "output_type": "stream",
     "text": [
      "0.00b [00:00, ?b/s]\n"
     ]
    },
    {
     "name": "stdout",
     "output_type": "stream",
     "text": [
      "downloading /n/data1/hms/neurobio/sabatini/rich/analysis/faceRhythm/mouse_0403L/run_20230903/20230719/jobNum_0/sbatch_config.sh   to   /media/rich/bigSSD/analysis_data/face_rhythm/mouse_0403L/fr_run/run_20230903/20230719/jobNum_0/sbatch_config.sh\n"
     ]
    },
    {
     "name": "stderr",
     "output_type": "stream",
     "text": [
      "0.00b [00:00, ?b/s]\n"
     ]
    },
    {
     "name": "stdout",
     "output_type": "stream",
     "text": [
      "downloading /n/data1/hms/neurobio/sabatini/rich/analysis/faceRhythm/mouse_0403L/run_20230903/20230719/jobNum_0/print_log_16790216.log   to   /media/rich/bigSSD/analysis_data/face_rhythm/mouse_0403L/fr_run/run_20230903/20230719/jobNum_0/print_log_16790216.log\n"
     ]
    },
    {
     "name": "stderr",
     "output_type": "stream",
     "text": [
      "0.00b [00:00, ?b/s]\n"
     ]
    },
    {
     "name": "stdout",
     "output_type": "stream",
     "text": [
      "downloading /n/data1/hms/neurobio/sabatini/rich/analysis/faceRhythm/mouse_0403L/run_20230903/20230719/pipeline_basic.py   to   /media/rich/bigSSD/analysis_data/face_rhythm/mouse_0403L/fr_run/run_20230903/20230719/pipeline_basic.py\n"
     ]
    },
    {
     "name": "stderr",
     "output_type": "stream",
     "text": [
      "0.00b [00:00, ?b/s]\n"
     ]
    },
    {
     "name": "stdout",
     "output_type": "stream",
     "text": [
      "downloading /n/data1/hms/neurobio/sabatini/rich/analysis/faceRhythm/mouse_0403L/run_20230903/20230719/dispatcher.py   to   /media/rich/bigSSD/analysis_data/face_rhythm/mouse_0403L/fr_run/run_20230903/20230719/dispatcher.py\n"
     ]
    },
    {
     "name": "stderr",
     "output_type": "stream",
     "text": [
      "0.00b [00:00, ?b/s]\n"
     ]
    },
    {
     "name": "stdout",
     "output_type": "stream",
     "text": [
      "downloading /n/data1/hms/neurobio/sabatini/rich/analysis/faceRhythm/mouse_0403L/run_20230903/20230719/notes.txt   to   /media/rich/bigSSD/analysis_data/face_rhythm/mouse_0403L/fr_run/run_20230903/20230719/notes.txt\n"
     ]
    },
    {
     "name": "stderr",
     "output_type": "stream",
     "text": [
      "0.00b [00:00, ?b/s]\n"
     ]
    },
    {
     "name": "stdout",
     "output_type": "stream",
     "text": [
      "downloading /n/data1/hms/neurobio/sabatini/rich/analysis/faceRhythm/mouse_0403L/run_20230903/20230811/parameters_batch.json   to   /media/rich/bigSSD/analysis_data/face_rhythm/mouse_0403L/fr_run/run_20230903/20230811/parameters_batch.json\n"
     ]
    },
    {
     "name": "stderr",
     "output_type": "stream",
     "text": [
      "0.00b [00:00, ?b/s]\n"
     ]
    },
    {
     "name": "stdout",
     "output_type": "stream",
     "text": [
      "downloading /n/data1/hms/neurobio/sabatini/rich/analysis/faceRhythm/mouse_0403L/run_20230903/20230811/jobNum_0/print_log_16790854.log   to   /media/rich/bigSSD/analysis_data/face_rhythm/mouse_0403L/fr_run/run_20230903/20230811/jobNum_0/print_log_16790854.log\n"
     ]
    },
    {
     "name": "stderr",
     "output_type": "stream",
     "text": [
      "0.00b [00:00, ?b/s]\n"
     ]
    },
    {
     "name": "stdout",
     "output_type": "stream",
     "text": [
      "downloading /n/data1/hms/neurobio/sabatini/rich/analysis/faceRhythm/mouse_0403L/run_20230903/20230811/jobNum_0/params.json   to   /media/rich/bigSSD/analysis_data/face_rhythm/mouse_0403L/fr_run/run_20230903/20230811/jobNum_0/params.json\n"
     ]
    },
    {
     "name": "stderr",
     "output_type": "stream",
     "text": [
      "0.00b [00:00, ?b/s]\n"
     ]
    },
    {
     "name": "stdout",
     "output_type": "stream",
     "text": [
      "downloading /n/data1/hms/neurobio/sabatini/rich/analysis/faceRhythm/mouse_0403L/run_20230903/20230811/jobNum_0/config.yaml   to   /media/rich/bigSSD/analysis_data/face_rhythm/mouse_0403L/fr_run/run_20230903/20230811/jobNum_0/config.yaml\n"
     ]
    },
    {
     "name": "stderr",
     "output_type": "stream",
     "text": [
      "0.00b [00:00, ?b/s]\n"
     ]
    },
    {
     "name": "stdout",
     "output_type": "stream",
     "text": [
      "downloading /n/data1/hms/neurobio/sabatini/rich/analysis/faceRhythm/mouse_0403L/run_20230903/20230811/jobNum_0/print_log_16850913.log   to   /media/rich/bigSSD/analysis_data/face_rhythm/mouse_0403L/fr_run/run_20230903/20230811/jobNum_0/print_log_16850913.log\n"
     ]
    },
    {
     "name": "stderr",
     "output_type": "stream",
     "text": [
      "0.00b [00:00, ?b/s]\n"
     ]
    },
    {
     "name": "stdout",
     "output_type": "stream",
     "text": [
      "downloading /n/data1/hms/neurobio/sabatini/rich/analysis/faceRhythm/mouse_0403L/run_20230903/20230811/jobNum_0/cpu_tracker.csv   to   /media/rich/bigSSD/analysis_data/face_rhythm/mouse_0403L/fr_run/run_20230903/20230811/jobNum_0/cpu_tracker.csv\n"
     ]
    },
    {
     "name": "stderr",
     "output_type": "stream",
     "text": [
      "0.00b [00:00, ?b/s]\n"
     ]
    },
    {
     "name": "stdout",
     "output_type": "stream",
     "text": [
      "downloading /n/data1/hms/neurobio/sabatini/rich/analysis/faceRhythm/mouse_0403L/run_20230903/20230811/jobNum_0/analysis_files/ROIs.h5   to   /media/rich/bigSSD/analysis_data/face_rhythm/mouse_0403L/fr_run/run_20230903/20230811/jobNum_0/analysis_files/ROIs.h5\n"
     ]
    },
    {
     "name": "stderr",
     "output_type": "stream",
     "text": [
      "0.00b [00:00, ?b/s]\n"
     ]
    },
    {
     "name": "stdout",
     "output_type": "stream",
     "text": [
      "downloading /n/data1/hms/neurobio/sabatini/rich/analysis/faceRhythm/mouse_0403L/run_20230903/20230811/jobNum_0/analysis_files/TCA.h5   to   /media/rich/bigSSD/analysis_data/face_rhythm/mouse_0403L/fr_run/run_20230903/20230811/jobNum_0/analysis_files/TCA.h5\n"
     ]
    },
    {
     "name": "stderr",
     "output_type": "stream",
     "text": [
      "0.00b [00:00, ?b/s]\n"
     ]
    },
    {
     "name": "stdout",
     "output_type": "stream",
     "text": [
      "downloading /n/data1/hms/neurobio/sabatini/rich/analysis/faceRhythm/mouse_0403L/run_20230903/20230811/jobNum_0/analysis_files/PointTracker.h5   to   /media/rich/bigSSD/analysis_data/face_rhythm/mouse_0403L/fr_run/run_20230903/20230811/jobNum_0/analysis_files/PointTracker.h5\n"
     ]
    },
    {
     "name": "stderr",
     "output_type": "stream",
     "text": [
      "0.00b [01:25, ?b/s]\n"
     ]
    },
    {
     "name": "stdout",
     "output_type": "stream",
     "text": [
      "downloading /n/data1/hms/neurobio/sabatini/rich/analysis/faceRhythm/mouse_0403L/run_20230903/20230811/jobNum_0/analysis_files/VQT_Analyzer.h5   to   /media/rich/bigSSD/analysis_data/face_rhythm/mouse_0403L/fr_run/run_20230903/20230811/jobNum_0/analysis_files/VQT_Analyzer.h5\n"
     ]
    },
    {
     "name": "stderr",
     "output_type": "stream",
     "text": [
      "0.00b [02:21, ?b/s]\n"
     ]
    },
    {
     "name": "stdout",
     "output_type": "stream",
     "text": [
      "downloading /n/data1/hms/neurobio/sabatini/rich/analysis/faceRhythm/mouse_0403L/run_20230903/20230811/jobNum_0/analysis_files/Dataset_videos.h5   to   /media/rich/bigSSD/analysis_data/face_rhythm/mouse_0403L/fr_run/run_20230903/20230811/jobNum_0/analysis_files/Dataset_videos.h5\n"
     ]
    },
    {
     "name": "stderr",
     "output_type": "stream",
     "text": [
      "0.00b [00:00, ?b/s]\n"
     ]
    },
    {
     "name": "stdout",
     "output_type": "stream",
     "text": [
      "downloading /n/data1/hms/neurobio/sabatini/rich/analysis/faceRhythm/mouse_0403L/run_20230903/20230811/jobNum_0/pipeline_basic.py   to   /media/rich/bigSSD/analysis_data/face_rhythm/mouse_0403L/fr_run/run_20230903/20230811/jobNum_0/pipeline_basic.py\n"
     ]
    },
    {
     "name": "stderr",
     "output_type": "stream",
     "text": [
      "0.00b [00:00, ?b/s]\n"
     ]
    },
    {
     "name": "stdout",
     "output_type": "stream",
     "text": [
      "downloading /n/data1/hms/neurobio/sabatini/rich/analysis/faceRhythm/mouse_0403L/run_20230903/20230811/jobNum_0/run_info.json   to   /media/rich/bigSSD/analysis_data/face_rhythm/mouse_0403L/fr_run/run_20230903/20230811/jobNum_0/run_info.json\n"
     ]
    },
    {
     "name": "stderr",
     "output_type": "stream",
     "text": [
      "0.00b [00:00, ?b/s]\n"
     ]
    },
    {
     "name": "stdout",
     "output_type": "stream",
     "text": [
      "downloading /n/data1/hms/neurobio/sabatini/rich/analysis/faceRhythm/mouse_0403L/run_20230903/20230811/jobNum_0/sbatch_config.sh   to   /media/rich/bigSSD/analysis_data/face_rhythm/mouse_0403L/fr_run/run_20230903/20230811/jobNum_0/sbatch_config.sh\n"
     ]
    },
    {
     "name": "stderr",
     "output_type": "stream",
     "text": [
      "0.00b [00:00, ?b/s]\n"
     ]
    },
    {
     "name": "stdout",
     "output_type": "stream",
     "text": [
      "downloading /n/data1/hms/neurobio/sabatini/rich/analysis/faceRhythm/mouse_0403L/run_20230903/20230811/pipeline_basic.py   to   /media/rich/bigSSD/analysis_data/face_rhythm/mouse_0403L/fr_run/run_20230903/20230811/pipeline_basic.py\n"
     ]
    },
    {
     "name": "stderr",
     "output_type": "stream",
     "text": [
      "0.00b [00:00, ?b/s]\n"
     ]
    },
    {
     "name": "stdout",
     "output_type": "stream",
     "text": [
      "downloading /n/data1/hms/neurobio/sabatini/rich/analysis/faceRhythm/mouse_0403L/run_20230903/20230811/dispatcher.py   to   /media/rich/bigSSD/analysis_data/face_rhythm/mouse_0403L/fr_run/run_20230903/20230811/dispatcher.py\n"
     ]
    },
    {
     "name": "stderr",
     "output_type": "stream",
     "text": [
      "0.00b [00:00, ?b/s]\n"
     ]
    },
    {
     "name": "stdout",
     "output_type": "stream",
     "text": [
      "downloading /n/data1/hms/neurobio/sabatini/rich/analysis/faceRhythm/mouse_0403L/run_20230903/20230811/notes.txt   to   /media/rich/bigSSD/analysis_data/face_rhythm/mouse_0403L/fr_run/run_20230903/20230811/notes.txt\n"
     ]
    },
    {
     "name": "stderr",
     "output_type": "stream",
     "text": [
      "0.00b [00:00, ?b/s]\n"
     ]
    },
    {
     "name": "stdout",
     "output_type": "stream",
     "text": [
      "downloading /n/data1/hms/neurobio/sabatini/rich/analysis/faceRhythm/mouse_0403L/run_20230903/20230802/parameters_batch.json   to   /media/rich/bigSSD/analysis_data/face_rhythm/mouse_0403L/fr_run/run_20230903/20230802/parameters_batch.json\n"
     ]
    },
    {
     "name": "stderr",
     "output_type": "stream",
     "text": [
      "0.00b [00:00, ?b/s]\n"
     ]
    },
    {
     "name": "stdout",
     "output_type": "stream",
     "text": [
      "downloading /n/data1/hms/neurobio/sabatini/rich/analysis/faceRhythm/mouse_0403L/run_20230903/20230802/jobNum_0/params.json   to   /media/rich/bigSSD/analysis_data/face_rhythm/mouse_0403L/fr_run/run_20230903/20230802/jobNum_0/params.json\n"
     ]
    },
    {
     "name": "stderr",
     "output_type": "stream",
     "text": [
      "0.00b [00:00, ?b/s]\n"
     ]
    },
    {
     "name": "stdout",
     "output_type": "stream",
     "text": [
      "downloading /n/data1/hms/neurobio/sabatini/rich/analysis/faceRhythm/mouse_0403L/run_20230903/20230802/jobNum_0/config.yaml   to   /media/rich/bigSSD/analysis_data/face_rhythm/mouse_0403L/fr_run/run_20230903/20230802/jobNum_0/config.yaml\n"
     ]
    },
    {
     "name": "stderr",
     "output_type": "stream",
     "text": [
      "0.00b [00:00, ?b/s]\n"
     ]
    },
    {
     "name": "stdout",
     "output_type": "stream",
     "text": [
      "downloading /n/data1/hms/neurobio/sabatini/rich/analysis/faceRhythm/mouse_0403L/run_20230903/20230802/jobNum_0/cpu_tracker.csv   to   /media/rich/bigSSD/analysis_data/face_rhythm/mouse_0403L/fr_run/run_20230903/20230802/jobNum_0/cpu_tracker.csv\n"
     ]
    },
    {
     "name": "stderr",
     "output_type": "stream",
     "text": [
      "0.00b [00:00, ?b/s]\n"
     ]
    },
    {
     "name": "stdout",
     "output_type": "stream",
     "text": [
      "downloading /n/data1/hms/neurobio/sabatini/rich/analysis/faceRhythm/mouse_0403L/run_20230903/20230802/jobNum_0/print_log_16790822.log   to   /media/rich/bigSSD/analysis_data/face_rhythm/mouse_0403L/fr_run/run_20230903/20230802/jobNum_0/print_log_16790822.log\n"
     ]
    },
    {
     "name": "stderr",
     "output_type": "stream",
     "text": [
      "0.00b [00:00, ?b/s]\n"
     ]
    },
    {
     "name": "stdout",
     "output_type": "stream",
     "text": [
      "downloading /n/data1/hms/neurobio/sabatini/rich/analysis/faceRhythm/mouse_0403L/run_20230903/20230802/jobNum_0/analysis_files/ROIs.h5   to   /media/rich/bigSSD/analysis_data/face_rhythm/mouse_0403L/fr_run/run_20230903/20230802/jobNum_0/analysis_files/ROIs.h5\n"
     ]
    },
    {
     "name": "stderr",
     "output_type": "stream",
     "text": [
      "0.00b [00:00, ?b/s]\n"
     ]
    },
    {
     "name": "stdout",
     "output_type": "stream",
     "text": [
      "downloading /n/data1/hms/neurobio/sabatini/rich/analysis/faceRhythm/mouse_0403L/run_20230903/20230802/jobNum_0/analysis_files/TCA.h5   to   /media/rich/bigSSD/analysis_data/face_rhythm/mouse_0403L/fr_run/run_20230903/20230802/jobNum_0/analysis_files/TCA.h5\n"
     ]
    },
    {
     "name": "stderr",
     "output_type": "stream",
     "text": [
      "0.00b [00:00, ?b/s]\n"
     ]
    },
    {
     "name": "stdout",
     "output_type": "stream",
     "text": [
      "downloading /n/data1/hms/neurobio/sabatini/rich/analysis/faceRhythm/mouse_0403L/run_20230903/20230802/jobNum_0/analysis_files/PointTracker.h5   to   /media/rich/bigSSD/analysis_data/face_rhythm/mouse_0403L/fr_run/run_20230903/20230802/jobNum_0/analysis_files/PointTracker.h5\n"
     ]
    },
    {
     "name": "stderr",
     "output_type": "stream",
     "text": [
      "0.00b [01:15, ?b/s]\n"
     ]
    },
    {
     "name": "stdout",
     "output_type": "stream",
     "text": [
      "downloading /n/data1/hms/neurobio/sabatini/rich/analysis/faceRhythm/mouse_0403L/run_20230903/20230802/jobNum_0/analysis_files/VQT_Analyzer.h5   to   /media/rich/bigSSD/analysis_data/face_rhythm/mouse_0403L/fr_run/run_20230903/20230802/jobNum_0/analysis_files/VQT_Analyzer.h5\n"
     ]
    },
    {
     "name": "stderr",
     "output_type": "stream",
     "text": [
      "0.00b [02:38, ?b/s]\n"
     ]
    },
    {
     "name": "stdout",
     "output_type": "stream",
     "text": [
      "downloading /n/data1/hms/neurobio/sabatini/rich/analysis/faceRhythm/mouse_0403L/run_20230903/20230802/jobNum_0/analysis_files/Dataset_videos.h5   to   /media/rich/bigSSD/analysis_data/face_rhythm/mouse_0403L/fr_run/run_20230903/20230802/jobNum_0/analysis_files/Dataset_videos.h5\n"
     ]
    },
    {
     "name": "stderr",
     "output_type": "stream",
     "text": [
      "0.00b [00:00, ?b/s]\n"
     ]
    },
    {
     "name": "stdout",
     "output_type": "stream",
     "text": [
      "downloading /n/data1/hms/neurobio/sabatini/rich/analysis/faceRhythm/mouse_0403L/run_20230903/20230802/jobNum_0/pipeline_basic.py   to   /media/rich/bigSSD/analysis_data/face_rhythm/mouse_0403L/fr_run/run_20230903/20230802/jobNum_0/pipeline_basic.py\n"
     ]
    },
    {
     "name": "stderr",
     "output_type": "stream",
     "text": [
      "0.00b [00:00, ?b/s]\n"
     ]
    },
    {
     "name": "stdout",
     "output_type": "stream",
     "text": [
      "downloading /n/data1/hms/neurobio/sabatini/rich/analysis/faceRhythm/mouse_0403L/run_20230903/20230802/jobNum_0/run_info.json   to   /media/rich/bigSSD/analysis_data/face_rhythm/mouse_0403L/fr_run/run_20230903/20230802/jobNum_0/run_info.json\n"
     ]
    },
    {
     "name": "stderr",
     "output_type": "stream",
     "text": [
      "0.00b [00:00, ?b/s]\n"
     ]
    },
    {
     "name": "stdout",
     "output_type": "stream",
     "text": [
      "downloading /n/data1/hms/neurobio/sabatini/rich/analysis/faceRhythm/mouse_0403L/run_20230903/20230802/jobNum_0/sbatch_config.sh   to   /media/rich/bigSSD/analysis_data/face_rhythm/mouse_0403L/fr_run/run_20230903/20230802/jobNum_0/sbatch_config.sh\n"
     ]
    },
    {
     "name": "stderr",
     "output_type": "stream",
     "text": [
      "0.00b [00:00, ?b/s]\n"
     ]
    },
    {
     "name": "stdout",
     "output_type": "stream",
     "text": [
      "downloading /n/data1/hms/neurobio/sabatini/rich/analysis/faceRhythm/mouse_0403L/run_20230903/20230802/jobNum_0/print_log_16850863.log   to   /media/rich/bigSSD/analysis_data/face_rhythm/mouse_0403L/fr_run/run_20230903/20230802/jobNum_0/print_log_16850863.log\n"
     ]
    },
    {
     "name": "stderr",
     "output_type": "stream",
     "text": [
      "0.00b [00:00, ?b/s]\n"
     ]
    },
    {
     "name": "stdout",
     "output_type": "stream",
     "text": [
      "downloading /n/data1/hms/neurobio/sabatini/rich/analysis/faceRhythm/mouse_0403L/run_20230903/20230802/pipeline_basic.py   to   /media/rich/bigSSD/analysis_data/face_rhythm/mouse_0403L/fr_run/run_20230903/20230802/pipeline_basic.py\n"
     ]
    },
    {
     "name": "stderr",
     "output_type": "stream",
     "text": [
      "0.00b [00:00, ?b/s]\n"
     ]
    },
    {
     "name": "stdout",
     "output_type": "stream",
     "text": [
      "downloading /n/data1/hms/neurobio/sabatini/rich/analysis/faceRhythm/mouse_0403L/run_20230903/20230802/dispatcher.py   to   /media/rich/bigSSD/analysis_data/face_rhythm/mouse_0403L/fr_run/run_20230903/20230802/dispatcher.py\n"
     ]
    },
    {
     "name": "stderr",
     "output_type": "stream",
     "text": [
      "0.00b [00:00, ?b/s]\n"
     ]
    },
    {
     "name": "stdout",
     "output_type": "stream",
     "text": [
      "downloading /n/data1/hms/neurobio/sabatini/rich/analysis/faceRhythm/mouse_0403L/run_20230903/20230802/notes.txt   to   /media/rich/bigSSD/analysis_data/face_rhythm/mouse_0403L/fr_run/run_20230903/20230802/notes.txt\n"
     ]
    },
    {
     "name": "stderr",
     "output_type": "stream",
     "text": [
      "0.00b [00:00, ?b/s]\n"
     ]
    },
    {
     "name": "stdout",
     "output_type": "stream",
     "text": [
      "downloading /n/data1/hms/neurobio/sabatini/rich/analysis/faceRhythm/mouse_0403L/run_20230903/20230715/parameters_batch.json   to   /media/rich/bigSSD/analysis_data/face_rhythm/mouse_0403L/fr_run/run_20230903/20230715/parameters_batch.json\n"
     ]
    },
    {
     "name": "stderr",
     "output_type": "stream",
     "text": [
      "0.00b [00:00, ?b/s]\n"
     ]
    },
    {
     "name": "stdout",
     "output_type": "stream",
     "text": [
      "downloading /n/data1/hms/neurobio/sabatini/rich/analysis/faceRhythm/mouse_0403L/run_20230903/20230715/jobNum_0/params.json   to   /media/rich/bigSSD/analysis_data/face_rhythm/mouse_0403L/fr_run/run_20230903/20230715/jobNum_0/params.json\n"
     ]
    },
    {
     "name": "stderr",
     "output_type": "stream",
     "text": [
      "0.00b [00:00, ?b/s]\n"
     ]
    },
    {
     "name": "stdout",
     "output_type": "stream",
     "text": [
      "downloading /n/data1/hms/neurobio/sabatini/rich/analysis/faceRhythm/mouse_0403L/run_20230903/20230715/jobNum_0/config.yaml   to   /media/rich/bigSSD/analysis_data/face_rhythm/mouse_0403L/fr_run/run_20230903/20230715/jobNum_0/config.yaml\n"
     ]
    },
    {
     "name": "stderr",
     "output_type": "stream",
     "text": [
      "0.00b [00:00, ?b/s]\n"
     ]
    },
    {
     "name": "stdout",
     "output_type": "stream",
     "text": [
      "downloading /n/data1/hms/neurobio/sabatini/rich/analysis/faceRhythm/mouse_0403L/run_20230903/20230715/jobNum_0/cpu_tracker.csv   to   /media/rich/bigSSD/analysis_data/face_rhythm/mouse_0403L/fr_run/run_20230903/20230715/jobNum_0/cpu_tracker.csv\n"
     ]
    },
    {
     "name": "stderr",
     "output_type": "stream",
     "text": [
      "0.00b [00:00, ?b/s]\n"
     ]
    },
    {
     "name": "stdout",
     "output_type": "stream",
     "text": [
      "downloading /n/data1/hms/neurobio/sabatini/rich/analysis/faceRhythm/mouse_0403L/run_20230903/20230715/jobNum_0/analysis_files/ROIs.h5   to   /media/rich/bigSSD/analysis_data/face_rhythm/mouse_0403L/fr_run/run_20230903/20230715/jobNum_0/analysis_files/ROIs.h5\n"
     ]
    },
    {
     "name": "stderr",
     "output_type": "stream",
     "text": [
      "0.00b [00:00, ?b/s]\n"
     ]
    },
    {
     "name": "stdout",
     "output_type": "stream",
     "text": [
      "downloading /n/data1/hms/neurobio/sabatini/rich/analysis/faceRhythm/mouse_0403L/run_20230903/20230715/jobNum_0/analysis_files/TCA.h5   to   /media/rich/bigSSD/analysis_data/face_rhythm/mouse_0403L/fr_run/run_20230903/20230715/jobNum_0/analysis_files/TCA.h5\n"
     ]
    },
    {
     "name": "stderr",
     "output_type": "stream",
     "text": [
      "0.00b [00:00, ?b/s]\n"
     ]
    },
    {
     "name": "stdout",
     "output_type": "stream",
     "text": [
      "downloading /n/data1/hms/neurobio/sabatini/rich/analysis/faceRhythm/mouse_0403L/run_20230903/20230715/jobNum_0/analysis_files/PointTracker.h5   to   /media/rich/bigSSD/analysis_data/face_rhythm/mouse_0403L/fr_run/run_20230903/20230715/jobNum_0/analysis_files/PointTracker.h5\n"
     ]
    },
    {
     "name": "stderr",
     "output_type": "stream",
     "text": [
      "0.00b [00:57, ?b/s]\n"
     ]
    },
    {
     "name": "stdout",
     "output_type": "stream",
     "text": [
      "downloading /n/data1/hms/neurobio/sabatini/rich/analysis/faceRhythm/mouse_0403L/run_20230903/20230715/jobNum_0/analysis_files/VQT_Analyzer.h5   to   /media/rich/bigSSD/analysis_data/face_rhythm/mouse_0403L/fr_run/run_20230903/20230715/jobNum_0/analysis_files/VQT_Analyzer.h5\n"
     ]
    },
    {
     "name": "stderr",
     "output_type": "stream",
     "text": [
      "0.00b [01:50, ?b/s]\n"
     ]
    },
    {
     "name": "stdout",
     "output_type": "stream",
     "text": [
      "downloading /n/data1/hms/neurobio/sabatini/rich/analysis/faceRhythm/mouse_0403L/run_20230903/20230715/jobNum_0/analysis_files/Dataset_videos.h5   to   /media/rich/bigSSD/analysis_data/face_rhythm/mouse_0403L/fr_run/run_20230903/20230715/jobNum_0/analysis_files/Dataset_videos.h5\n"
     ]
    },
    {
     "name": "stderr",
     "output_type": "stream",
     "text": [
      "0.00b [00:00, ?b/s]\n"
     ]
    },
    {
     "name": "stdout",
     "output_type": "stream",
     "text": [
      "downloading /n/data1/hms/neurobio/sabatini/rich/analysis/faceRhythm/mouse_0403L/run_20230903/20230715/jobNum_0/pipeline_basic.py   to   /media/rich/bigSSD/analysis_data/face_rhythm/mouse_0403L/fr_run/run_20230903/20230715/jobNum_0/pipeline_basic.py\n"
     ]
    },
    {
     "name": "stderr",
     "output_type": "stream",
     "text": [
      "0.00b [00:00, ?b/s]\n"
     ]
    },
    {
     "name": "stdout",
     "output_type": "stream",
     "text": [
      "downloading /n/data1/hms/neurobio/sabatini/rich/analysis/faceRhythm/mouse_0403L/run_20230903/20230715/jobNum_0/print_log_16790203.log   to   /media/rich/bigSSD/analysis_data/face_rhythm/mouse_0403L/fr_run/run_20230903/20230715/jobNum_0/print_log_16790203.log\n"
     ]
    },
    {
     "name": "stderr",
     "output_type": "stream",
     "text": [
      "0.00b [00:00, ?b/s]\n"
     ]
    },
    {
     "name": "stdout",
     "output_type": "stream",
     "text": [
      "downloading /n/data1/hms/neurobio/sabatini/rich/analysis/faceRhythm/mouse_0403L/run_20230903/20230715/jobNum_0/run_info.json   to   /media/rich/bigSSD/analysis_data/face_rhythm/mouse_0403L/fr_run/run_20230903/20230715/jobNum_0/run_info.json\n"
     ]
    },
    {
     "name": "stderr",
     "output_type": "stream",
     "text": [
      "0.00b [00:00, ?b/s]\n"
     ]
    },
    {
     "name": "stdout",
     "output_type": "stream",
     "text": [
      "downloading /n/data1/hms/neurobio/sabatini/rich/analysis/faceRhythm/mouse_0403L/run_20230903/20230715/jobNum_0/sbatch_config.sh   to   /media/rich/bigSSD/analysis_data/face_rhythm/mouse_0403L/fr_run/run_20230903/20230715/jobNum_0/sbatch_config.sh\n"
     ]
    },
    {
     "name": "stderr",
     "output_type": "stream",
     "text": [
      "0.00b [00:00, ?b/s]\n"
     ]
    },
    {
     "name": "stdout",
     "output_type": "stream",
     "text": [
      "downloading /n/data1/hms/neurobio/sabatini/rich/analysis/faceRhythm/mouse_0403L/run_20230903/20230715/pipeline_basic.py   to   /media/rich/bigSSD/analysis_data/face_rhythm/mouse_0403L/fr_run/run_20230903/20230715/pipeline_basic.py\n"
     ]
    },
    {
     "name": "stderr",
     "output_type": "stream",
     "text": [
      "0.00b [00:00, ?b/s]\n"
     ]
    },
    {
     "name": "stdout",
     "output_type": "stream",
     "text": [
      "downloading /n/data1/hms/neurobio/sabatini/rich/analysis/faceRhythm/mouse_0403L/run_20230903/20230715/dispatcher.py   to   /media/rich/bigSSD/analysis_data/face_rhythm/mouse_0403L/fr_run/run_20230903/20230715/dispatcher.py\n"
     ]
    },
    {
     "name": "stderr",
     "output_type": "stream",
     "text": [
      "0.00b [00:00, ?b/s]\n"
     ]
    },
    {
     "name": "stdout",
     "output_type": "stream",
     "text": [
      "downloading /n/data1/hms/neurobio/sabatini/rich/analysis/faceRhythm/mouse_0403L/run_20230903/20230715/notes.txt   to   /media/rich/bigSSD/analysis_data/face_rhythm/mouse_0403L/fr_run/run_20230903/20230715/notes.txt\n"
     ]
    },
    {
     "name": "stderr",
     "output_type": "stream",
     "text": [
      "0.00b [00:00, ?b/s]\n"
     ]
    },
    {
     "name": "stdout",
     "output_type": "stream",
     "text": [
      "downloading /n/data1/hms/neurobio/sabatini/rich/analysis/faceRhythm/mouse_0403L/run_20230903/20230730/parameters_batch.json   to   /media/rich/bigSSD/analysis_data/face_rhythm/mouse_0403L/fr_run/run_20230903/20230730/parameters_batch.json\n"
     ]
    },
    {
     "name": "stderr",
     "output_type": "stream",
     "text": [
      "0.00b [00:00, ?b/s]\n"
     ]
    },
    {
     "name": "stdout",
     "output_type": "stream",
     "text": [
      "downloading /n/data1/hms/neurobio/sabatini/rich/analysis/faceRhythm/mouse_0403L/run_20230903/20230730/jobNum_0/params.json   to   /media/rich/bigSSD/analysis_data/face_rhythm/mouse_0403L/fr_run/run_20230903/20230730/jobNum_0/params.json\n"
     ]
    },
    {
     "name": "stderr",
     "output_type": "stream",
     "text": [
      "0.00b [00:00, ?b/s]\n"
     ]
    },
    {
     "name": "stdout",
     "output_type": "stream",
     "text": [
      "downloading /n/data1/hms/neurobio/sabatini/rich/analysis/faceRhythm/mouse_0403L/run_20230903/20230730/jobNum_0/config.yaml   to   /media/rich/bigSSD/analysis_data/face_rhythm/mouse_0403L/fr_run/run_20230903/20230730/jobNum_0/config.yaml\n"
     ]
    },
    {
     "name": "stderr",
     "output_type": "stream",
     "text": [
      "0.00b [00:00, ?b/s]\n"
     ]
    },
    {
     "name": "stdout",
     "output_type": "stream",
     "text": [
      "downloading /n/data1/hms/neurobio/sabatini/rich/analysis/faceRhythm/mouse_0403L/run_20230903/20230730/jobNum_0/cpu_tracker.csv   to   /media/rich/bigSSD/analysis_data/face_rhythm/mouse_0403L/fr_run/run_20230903/20230730/jobNum_0/cpu_tracker.csv\n"
     ]
    },
    {
     "name": "stderr",
     "output_type": "stream",
     "text": [
      "0.00b [00:00, ?b/s]\n"
     ]
    },
    {
     "name": "stdout",
     "output_type": "stream",
     "text": [
      "downloading /n/data1/hms/neurobio/sabatini/rich/analysis/faceRhythm/mouse_0403L/run_20230903/20230730/jobNum_0/print_log_16790819.log   to   /media/rich/bigSSD/analysis_data/face_rhythm/mouse_0403L/fr_run/run_20230903/20230730/jobNum_0/print_log_16790819.log\n"
     ]
    },
    {
     "name": "stderr",
     "output_type": "stream",
     "text": [
      "0.00b [00:00, ?b/s]\n"
     ]
    },
    {
     "name": "stdout",
     "output_type": "stream",
     "text": [
      "downloading /n/data1/hms/neurobio/sabatini/rich/analysis/faceRhythm/mouse_0403L/run_20230903/20230730/jobNum_0/analysis_files/ROIs.h5   to   /media/rich/bigSSD/analysis_data/face_rhythm/mouse_0403L/fr_run/run_20230903/20230730/jobNum_0/analysis_files/ROIs.h5\n"
     ]
    },
    {
     "name": "stderr",
     "output_type": "stream",
     "text": [
      "0.00b [00:00, ?b/s]\n"
     ]
    },
    {
     "name": "stdout",
     "output_type": "stream",
     "text": [
      "downloading /n/data1/hms/neurobio/sabatini/rich/analysis/faceRhythm/mouse_0403L/run_20230903/20230730/jobNum_0/analysis_files/TCA.h5   to   /media/rich/bigSSD/analysis_data/face_rhythm/mouse_0403L/fr_run/run_20230903/20230730/jobNum_0/analysis_files/TCA.h5\n"
     ]
    },
    {
     "name": "stderr",
     "output_type": "stream",
     "text": [
      "0.00b [00:00, ?b/s]\n"
     ]
    },
    {
     "name": "stdout",
     "output_type": "stream",
     "text": [
      "downloading /n/data1/hms/neurobio/sabatini/rich/analysis/faceRhythm/mouse_0403L/run_20230903/20230730/jobNum_0/analysis_files/PointTracker.h5   to   /media/rich/bigSSD/analysis_data/face_rhythm/mouse_0403L/fr_run/run_20230903/20230730/jobNum_0/analysis_files/PointTracker.h5\n"
     ]
    },
    {
     "name": "stderr",
     "output_type": "stream",
     "text": [
      "0.00b [01:21, ?b/s]\n"
     ]
    },
    {
     "name": "stdout",
     "output_type": "stream",
     "text": [
      "downloading /n/data1/hms/neurobio/sabatini/rich/analysis/faceRhythm/mouse_0403L/run_20230903/20230730/jobNum_0/analysis_files/VQT_Analyzer.h5   to   /media/rich/bigSSD/analysis_data/face_rhythm/mouse_0403L/fr_run/run_20230903/20230730/jobNum_0/analysis_files/VQT_Analyzer.h5\n"
     ]
    },
    {
     "name": "stderr",
     "output_type": "stream",
     "text": [
      "0.00b [02:22, ?b/s]\n"
     ]
    },
    {
     "name": "stdout",
     "output_type": "stream",
     "text": [
      "downloading /n/data1/hms/neurobio/sabatini/rich/analysis/faceRhythm/mouse_0403L/run_20230903/20230730/jobNum_0/analysis_files/Dataset_videos.h5   to   /media/rich/bigSSD/analysis_data/face_rhythm/mouse_0403L/fr_run/run_20230903/20230730/jobNum_0/analysis_files/Dataset_videos.h5\n"
     ]
    },
    {
     "name": "stderr",
     "output_type": "stream",
     "text": [
      "0.00b [00:00, ?b/s]\n"
     ]
    },
    {
     "name": "stdout",
     "output_type": "stream",
     "text": [
      "downloading /n/data1/hms/neurobio/sabatini/rich/analysis/faceRhythm/mouse_0403L/run_20230903/20230730/jobNum_0/pipeline_basic.py   to   /media/rich/bigSSD/analysis_data/face_rhythm/mouse_0403L/fr_run/run_20230903/20230730/jobNum_0/pipeline_basic.py\n"
     ]
    },
    {
     "name": "stderr",
     "output_type": "stream",
     "text": [
      "0.00b [00:00, ?b/s]\n"
     ]
    },
    {
     "name": "stdout",
     "output_type": "stream",
     "text": [
      "downloading /n/data1/hms/neurobio/sabatini/rich/analysis/faceRhythm/mouse_0403L/run_20230903/20230730/jobNum_0/print_log_16850846.log   to   /media/rich/bigSSD/analysis_data/face_rhythm/mouse_0403L/fr_run/run_20230903/20230730/jobNum_0/print_log_16850846.log\n"
     ]
    },
    {
     "name": "stderr",
     "output_type": "stream",
     "text": [
      "0.00b [00:00, ?b/s]\n"
     ]
    },
    {
     "name": "stdout",
     "output_type": "stream",
     "text": [
      "downloading /n/data1/hms/neurobio/sabatini/rich/analysis/faceRhythm/mouse_0403L/run_20230903/20230730/jobNum_0/run_info.json   to   /media/rich/bigSSD/analysis_data/face_rhythm/mouse_0403L/fr_run/run_20230903/20230730/jobNum_0/run_info.json\n"
     ]
    },
    {
     "name": "stderr",
     "output_type": "stream",
     "text": [
      "0.00b [00:00, ?b/s]\n"
     ]
    },
    {
     "name": "stdout",
     "output_type": "stream",
     "text": [
      "downloading /n/data1/hms/neurobio/sabatini/rich/analysis/faceRhythm/mouse_0403L/run_20230903/20230730/jobNum_0/sbatch_config.sh   to   /media/rich/bigSSD/analysis_data/face_rhythm/mouse_0403L/fr_run/run_20230903/20230730/jobNum_0/sbatch_config.sh\n"
     ]
    },
    {
     "name": "stderr",
     "output_type": "stream",
     "text": [
      "0.00b [00:00, ?b/s]\n"
     ]
    },
    {
     "name": "stdout",
     "output_type": "stream",
     "text": [
      "downloading /n/data1/hms/neurobio/sabatini/rich/analysis/faceRhythm/mouse_0403L/run_20230903/20230730/pipeline_basic.py   to   /media/rich/bigSSD/analysis_data/face_rhythm/mouse_0403L/fr_run/run_20230903/20230730/pipeline_basic.py\n"
     ]
    },
    {
     "name": "stderr",
     "output_type": "stream",
     "text": [
      "0.00b [00:00, ?b/s]\n"
     ]
    },
    {
     "name": "stdout",
     "output_type": "stream",
     "text": [
      "downloading /n/data1/hms/neurobio/sabatini/rich/analysis/faceRhythm/mouse_0403L/run_20230903/20230730/dispatcher.py   to   /media/rich/bigSSD/analysis_data/face_rhythm/mouse_0403L/fr_run/run_20230903/20230730/dispatcher.py\n"
     ]
    },
    {
     "name": "stderr",
     "output_type": "stream",
     "text": [
      "0.00b [00:00, ?b/s]\n"
     ]
    },
    {
     "name": "stdout",
     "output_type": "stream",
     "text": [
      "downloading /n/data1/hms/neurobio/sabatini/rich/analysis/faceRhythm/mouse_0403L/run_20230903/20230730/notes.txt   to   /media/rich/bigSSD/analysis_data/face_rhythm/mouse_0403L/fr_run/run_20230903/20230730/notes.txt\n"
     ]
    },
    {
     "name": "stderr",
     "output_type": "stream",
     "text": [
      "0.00b [00:00, ?b/s]\n"
     ]
    },
    {
     "name": "stdout",
     "output_type": "stream",
     "text": [
      "downloading /n/data1/hms/neurobio/sabatini/rich/analysis/faceRhythm/mouse_0403L/run_20230903/20230809/parameters_batch.json   to   /media/rich/bigSSD/analysis_data/face_rhythm/mouse_0403L/fr_run/run_20230903/20230809/parameters_batch.json\n"
     ]
    },
    {
     "name": "stderr",
     "output_type": "stream",
     "text": [
      "0.00b [00:00, ?b/s]\n"
     ]
    },
    {
     "name": "stdout",
     "output_type": "stream",
     "text": [
      "downloading /n/data1/hms/neurobio/sabatini/rich/analysis/faceRhythm/mouse_0403L/run_20230903/20230809/jobNum_0/params.json   to   /media/rich/bigSSD/analysis_data/face_rhythm/mouse_0403L/fr_run/run_20230903/20230809/jobNum_0/params.json\n"
     ]
    },
    {
     "name": "stderr",
     "output_type": "stream",
     "text": [
      "0.00b [00:00, ?b/s]\n"
     ]
    },
    {
     "name": "stdout",
     "output_type": "stream",
     "text": [
      "downloading /n/data1/hms/neurobio/sabatini/rich/analysis/faceRhythm/mouse_0403L/run_20230903/20230809/jobNum_0/config.yaml   to   /media/rich/bigSSD/analysis_data/face_rhythm/mouse_0403L/fr_run/run_20230903/20230809/jobNum_0/config.yaml\n"
     ]
    },
    {
     "name": "stderr",
     "output_type": "stream",
     "text": [
      "0.00b [00:00, ?b/s]\n"
     ]
    },
    {
     "name": "stdout",
     "output_type": "stream",
     "text": [
      "downloading /n/data1/hms/neurobio/sabatini/rich/analysis/faceRhythm/mouse_0403L/run_20230903/20230809/jobNum_0/cpu_tracker.csv   to   /media/rich/bigSSD/analysis_data/face_rhythm/mouse_0403L/fr_run/run_20230903/20230809/jobNum_0/cpu_tracker.csv\n"
     ]
    },
    {
     "name": "stderr",
     "output_type": "stream",
     "text": [
      "0.00b [00:00, ?b/s]\n"
     ]
    },
    {
     "name": "stdout",
     "output_type": "stream",
     "text": [
      "downloading /n/data1/hms/neurobio/sabatini/rich/analysis/faceRhythm/mouse_0403L/run_20230903/20230809/jobNum_0/print_log_16850905.log   to   /media/rich/bigSSD/analysis_data/face_rhythm/mouse_0403L/fr_run/run_20230903/20230809/jobNum_0/print_log_16850905.log\n"
     ]
    },
    {
     "name": "stderr",
     "output_type": "stream",
     "text": [
      "0.00b [00:00, ?b/s]\n"
     ]
    },
    {
     "name": "stdout",
     "output_type": "stream",
     "text": [
      "downloading /n/data1/hms/neurobio/sabatini/rich/analysis/faceRhythm/mouse_0403L/run_20230903/20230809/jobNum_0/print_log_16790852.log   to   /media/rich/bigSSD/analysis_data/face_rhythm/mouse_0403L/fr_run/run_20230903/20230809/jobNum_0/print_log_16790852.log\n"
     ]
    },
    {
     "name": "stderr",
     "output_type": "stream",
     "text": [
      "0.00b [00:00, ?b/s]\n"
     ]
    },
    {
     "name": "stdout",
     "output_type": "stream",
     "text": [
      "downloading /n/data1/hms/neurobio/sabatini/rich/analysis/faceRhythm/mouse_0403L/run_20230903/20230809/jobNum_0/analysis_files/ROIs.h5   to   /media/rich/bigSSD/analysis_data/face_rhythm/mouse_0403L/fr_run/run_20230903/20230809/jobNum_0/analysis_files/ROIs.h5\n"
     ]
    },
    {
     "name": "stderr",
     "output_type": "stream",
     "text": [
      "0.00b [00:00, ?b/s]\n"
     ]
    },
    {
     "name": "stdout",
     "output_type": "stream",
     "text": [
      "downloading /n/data1/hms/neurobio/sabatini/rich/analysis/faceRhythm/mouse_0403L/run_20230903/20230809/jobNum_0/analysis_files/TCA.h5   to   /media/rich/bigSSD/analysis_data/face_rhythm/mouse_0403L/fr_run/run_20230903/20230809/jobNum_0/analysis_files/TCA.h5\n"
     ]
    },
    {
     "name": "stderr",
     "output_type": "stream",
     "text": [
      "0.00b [00:00, ?b/s]\n"
     ]
    },
    {
     "name": "stdout",
     "output_type": "stream",
     "text": [
      "downloading /n/data1/hms/neurobio/sabatini/rich/analysis/faceRhythm/mouse_0403L/run_20230903/20230809/jobNum_0/analysis_files/PointTracker.h5   to   /media/rich/bigSSD/analysis_data/face_rhythm/mouse_0403L/fr_run/run_20230903/20230809/jobNum_0/analysis_files/PointTracker.h5\n"
     ]
    },
    {
     "name": "stderr",
     "output_type": "stream",
     "text": [
      "0.00b [01:20, ?b/s]\n"
     ]
    },
    {
     "name": "stdout",
     "output_type": "stream",
     "text": [
      "downloading /n/data1/hms/neurobio/sabatini/rich/analysis/faceRhythm/mouse_0403L/run_20230903/20230809/jobNum_0/analysis_files/VQT_Analyzer.h5   to   /media/rich/bigSSD/analysis_data/face_rhythm/mouse_0403L/fr_run/run_20230903/20230809/jobNum_0/analysis_files/VQT_Analyzer.h5\n"
     ]
    },
    {
     "name": "stderr",
     "output_type": "stream",
     "text": [
      "0.00b [02:22, ?b/s]\n"
     ]
    },
    {
     "name": "stdout",
     "output_type": "stream",
     "text": [
      "downloading /n/data1/hms/neurobio/sabatini/rich/analysis/faceRhythm/mouse_0403L/run_20230903/20230809/jobNum_0/analysis_files/Dataset_videos.h5   to   /media/rich/bigSSD/analysis_data/face_rhythm/mouse_0403L/fr_run/run_20230903/20230809/jobNum_0/analysis_files/Dataset_videos.h5\n"
     ]
    },
    {
     "name": "stderr",
     "output_type": "stream",
     "text": [
      "0.00b [00:00, ?b/s]\n"
     ]
    },
    {
     "name": "stdout",
     "output_type": "stream",
     "text": [
      "downloading /n/data1/hms/neurobio/sabatini/rich/analysis/faceRhythm/mouse_0403L/run_20230903/20230809/jobNum_0/pipeline_basic.py   to   /media/rich/bigSSD/analysis_data/face_rhythm/mouse_0403L/fr_run/run_20230903/20230809/jobNum_0/pipeline_basic.py\n"
     ]
    },
    {
     "name": "stderr",
     "output_type": "stream",
     "text": [
      "0.00b [00:00, ?b/s]\n"
     ]
    },
    {
     "name": "stdout",
     "output_type": "stream",
     "text": [
      "downloading /n/data1/hms/neurobio/sabatini/rich/analysis/faceRhythm/mouse_0403L/run_20230903/20230809/jobNum_0/run_info.json   to   /media/rich/bigSSD/analysis_data/face_rhythm/mouse_0403L/fr_run/run_20230903/20230809/jobNum_0/run_info.json\n"
     ]
    },
    {
     "name": "stderr",
     "output_type": "stream",
     "text": [
      "0.00b [00:00, ?b/s]\n"
     ]
    },
    {
     "name": "stdout",
     "output_type": "stream",
     "text": [
      "downloading /n/data1/hms/neurobio/sabatini/rich/analysis/faceRhythm/mouse_0403L/run_20230903/20230809/jobNum_0/sbatch_config.sh   to   /media/rich/bigSSD/analysis_data/face_rhythm/mouse_0403L/fr_run/run_20230903/20230809/jobNum_0/sbatch_config.sh\n"
     ]
    },
    {
     "name": "stderr",
     "output_type": "stream",
     "text": [
      "0.00b [00:00, ?b/s]\n"
     ]
    },
    {
     "name": "stdout",
     "output_type": "stream",
     "text": [
      "downloading /n/data1/hms/neurobio/sabatini/rich/analysis/faceRhythm/mouse_0403L/run_20230903/20230809/pipeline_basic.py   to   /media/rich/bigSSD/analysis_data/face_rhythm/mouse_0403L/fr_run/run_20230903/20230809/pipeline_basic.py\n"
     ]
    },
    {
     "name": "stderr",
     "output_type": "stream",
     "text": [
      "0.00b [00:00, ?b/s]\n"
     ]
    },
    {
     "name": "stdout",
     "output_type": "stream",
     "text": [
      "downloading /n/data1/hms/neurobio/sabatini/rich/analysis/faceRhythm/mouse_0403L/run_20230903/20230809/dispatcher.py   to   /media/rich/bigSSD/analysis_data/face_rhythm/mouse_0403L/fr_run/run_20230903/20230809/dispatcher.py\n"
     ]
    },
    {
     "name": "stderr",
     "output_type": "stream",
     "text": [
      "0.00b [00:00, ?b/s]\n"
     ]
    },
    {
     "name": "stdout",
     "output_type": "stream",
     "text": [
      "downloading /n/data1/hms/neurobio/sabatini/rich/analysis/faceRhythm/mouse_0403L/run_20230903/20230809/notes.txt   to   /media/rich/bigSSD/analysis_data/face_rhythm/mouse_0403L/fr_run/run_20230903/20230809/notes.txt\n"
     ]
    },
    {
     "name": "stderr",
     "output_type": "stream",
     "text": [
      "0.00b [00:00, ?b/s]\n"
     ]
    },
    {
     "name": "stdout",
     "output_type": "stream",
     "text": [
      "downloading /n/data1/hms/neurobio/sabatini/rich/analysis/faceRhythm/mouse_0403L/run_20230903/20230805/parameters_batch.json   to   /media/rich/bigSSD/analysis_data/face_rhythm/mouse_0403L/fr_run/run_20230903/20230805/parameters_batch.json\n"
     ]
    },
    {
     "name": "stderr",
     "output_type": "stream",
     "text": [
      "0.00b [00:00, ?b/s]\n"
     ]
    },
    {
     "name": "stdout",
     "output_type": "stream",
     "text": [
      "downloading /n/data1/hms/neurobio/sabatini/rich/analysis/faceRhythm/mouse_0403L/run_20230903/20230805/jobNum_0/params.json   to   /media/rich/bigSSD/analysis_data/face_rhythm/mouse_0403L/fr_run/run_20230903/20230805/jobNum_0/params.json\n"
     ]
    },
    {
     "name": "stderr",
     "output_type": "stream",
     "text": [
      "0.00b [00:00, ?b/s]\n"
     ]
    },
    {
     "name": "stdout",
     "output_type": "stream",
     "text": [
      "downloading /n/data1/hms/neurobio/sabatini/rich/analysis/faceRhythm/mouse_0403L/run_20230903/20230805/jobNum_0/config.yaml   to   /media/rich/bigSSD/analysis_data/face_rhythm/mouse_0403L/fr_run/run_20230903/20230805/jobNum_0/config.yaml\n"
     ]
    },
    {
     "name": "stderr",
     "output_type": "stream",
     "text": [
      "0.00b [00:00, ?b/s]\n"
     ]
    },
    {
     "name": "stdout",
     "output_type": "stream",
     "text": [
      "downloading /n/data1/hms/neurobio/sabatini/rich/analysis/faceRhythm/mouse_0403L/run_20230903/20230805/jobNum_0/cpu_tracker.csv   to   /media/rich/bigSSD/analysis_data/face_rhythm/mouse_0403L/fr_run/run_20230903/20230805/jobNum_0/cpu_tracker.csv\n"
     ]
    },
    {
     "name": "stderr",
     "output_type": "stream",
     "text": [
      "0.00b [00:00, ?b/s]\n"
     ]
    },
    {
     "name": "stdout",
     "output_type": "stream",
     "text": [
      "downloading /n/data1/hms/neurobio/sabatini/rich/analysis/faceRhythm/mouse_0403L/run_20230903/20230805/jobNum_0/print_log_16790836.log   to   /media/rich/bigSSD/analysis_data/face_rhythm/mouse_0403L/fr_run/run_20230903/20230805/jobNum_0/print_log_16790836.log\n"
     ]
    },
    {
     "name": "stderr",
     "output_type": "stream",
     "text": [
      "0.00b [00:00, ?b/s]\n"
     ]
    },
    {
     "name": "stdout",
     "output_type": "stream",
     "text": [
      "downloading /n/data1/hms/neurobio/sabatini/rich/analysis/faceRhythm/mouse_0403L/run_20230903/20230805/jobNum_0/analysis_files/ROIs.h5   to   /media/rich/bigSSD/analysis_data/face_rhythm/mouse_0403L/fr_run/run_20230903/20230805/jobNum_0/analysis_files/ROIs.h5\n"
     ]
    },
    {
     "name": "stderr",
     "output_type": "stream",
     "text": [
      "0.00b [00:00, ?b/s]\n"
     ]
    },
    {
     "name": "stdout",
     "output_type": "stream",
     "text": [
      "downloading /n/data1/hms/neurobio/sabatini/rich/analysis/faceRhythm/mouse_0403L/run_20230903/20230805/jobNum_0/analysis_files/TCA.h5   to   /media/rich/bigSSD/analysis_data/face_rhythm/mouse_0403L/fr_run/run_20230903/20230805/jobNum_0/analysis_files/TCA.h5\n"
     ]
    },
    {
     "name": "stderr",
     "output_type": "stream",
     "text": [
      "0.00b [00:00, ?b/s]\n"
     ]
    },
    {
     "name": "stdout",
     "output_type": "stream",
     "text": [
      "downloading /n/data1/hms/neurobio/sabatini/rich/analysis/faceRhythm/mouse_0403L/run_20230903/20230805/jobNum_0/analysis_files/PointTracker.h5   to   /media/rich/bigSSD/analysis_data/face_rhythm/mouse_0403L/fr_run/run_20230903/20230805/jobNum_0/analysis_files/PointTracker.h5\n"
     ]
    },
    {
     "name": "stderr",
     "output_type": "stream",
     "text": [
      "0.00b [01:20, ?b/s]\n"
     ]
    },
    {
     "name": "stdout",
     "output_type": "stream",
     "text": [
      "downloading /n/data1/hms/neurobio/sabatini/rich/analysis/faceRhythm/mouse_0403L/run_20230903/20230805/jobNum_0/analysis_files/VQT_Analyzer.h5   to   /media/rich/bigSSD/analysis_data/face_rhythm/mouse_0403L/fr_run/run_20230903/20230805/jobNum_0/analysis_files/VQT_Analyzer.h5\n"
     ]
    },
    {
     "name": "stderr",
     "output_type": "stream",
     "text": [
      "0.00b [02:34, ?b/s]\n"
     ]
    },
    {
     "name": "stdout",
     "output_type": "stream",
     "text": [
      "downloading /n/data1/hms/neurobio/sabatini/rich/analysis/faceRhythm/mouse_0403L/run_20230903/20230805/jobNum_0/analysis_files/Dataset_videos.h5   to   /media/rich/bigSSD/analysis_data/face_rhythm/mouse_0403L/fr_run/run_20230903/20230805/jobNum_0/analysis_files/Dataset_videos.h5\n"
     ]
    },
    {
     "name": "stderr",
     "output_type": "stream",
     "text": [
      "0.00b [00:00, ?b/s]\n"
     ]
    },
    {
     "name": "stdout",
     "output_type": "stream",
     "text": [
      "downloading /n/data1/hms/neurobio/sabatini/rich/analysis/faceRhythm/mouse_0403L/run_20230903/20230805/jobNum_0/pipeline_basic.py   to   /media/rich/bigSSD/analysis_data/face_rhythm/mouse_0403L/fr_run/run_20230903/20230805/jobNum_0/pipeline_basic.py\n"
     ]
    },
    {
     "name": "stderr",
     "output_type": "stream",
     "text": [
      "0.00b [00:00, ?b/s]\n"
     ]
    },
    {
     "name": "stdout",
     "output_type": "stream",
     "text": [
      "downloading /n/data1/hms/neurobio/sabatini/rich/analysis/faceRhythm/mouse_0403L/run_20230903/20230805/jobNum_0/run_info.json   to   /media/rich/bigSSD/analysis_data/face_rhythm/mouse_0403L/fr_run/run_20230903/20230805/jobNum_0/run_info.json\n"
     ]
    },
    {
     "name": "stderr",
     "output_type": "stream",
     "text": [
      "0.00b [00:00, ?b/s]\n"
     ]
    },
    {
     "name": "stdout",
     "output_type": "stream",
     "text": [
      "downloading /n/data1/hms/neurobio/sabatini/rich/analysis/faceRhythm/mouse_0403L/run_20230903/20230805/jobNum_0/sbatch_config.sh   to   /media/rich/bigSSD/analysis_data/face_rhythm/mouse_0403L/fr_run/run_20230903/20230805/jobNum_0/sbatch_config.sh\n"
     ]
    },
    {
     "name": "stderr",
     "output_type": "stream",
     "text": [
      "0.00b [00:00, ?b/s]\n"
     ]
    },
    {
     "name": "stdout",
     "output_type": "stream",
     "text": [
      "downloading /n/data1/hms/neurobio/sabatini/rich/analysis/faceRhythm/mouse_0403L/run_20230903/20230805/jobNum_0/print_log_16850877.log   to   /media/rich/bigSSD/analysis_data/face_rhythm/mouse_0403L/fr_run/run_20230903/20230805/jobNum_0/print_log_16850877.log\n"
     ]
    },
    {
     "name": "stderr",
     "output_type": "stream",
     "text": [
      "0.00b [00:00, ?b/s]\n"
     ]
    },
    {
     "name": "stdout",
     "output_type": "stream",
     "text": [
      "downloading /n/data1/hms/neurobio/sabatini/rich/analysis/faceRhythm/mouse_0403L/run_20230903/20230805/pipeline_basic.py   to   /media/rich/bigSSD/analysis_data/face_rhythm/mouse_0403L/fr_run/run_20230903/20230805/pipeline_basic.py\n"
     ]
    },
    {
     "name": "stderr",
     "output_type": "stream",
     "text": [
      "0.00b [00:00, ?b/s]\n"
     ]
    },
    {
     "name": "stdout",
     "output_type": "stream",
     "text": [
      "downloading /n/data1/hms/neurobio/sabatini/rich/analysis/faceRhythm/mouse_0403L/run_20230903/20230805/dispatcher.py   to   /media/rich/bigSSD/analysis_data/face_rhythm/mouse_0403L/fr_run/run_20230903/20230805/dispatcher.py\n"
     ]
    },
    {
     "name": "stderr",
     "output_type": "stream",
     "text": [
      "0.00b [00:00, ?b/s]\n"
     ]
    },
    {
     "name": "stdout",
     "output_type": "stream",
     "text": [
      "downloading /n/data1/hms/neurobio/sabatini/rich/analysis/faceRhythm/mouse_0403L/run_20230903/20230805/notes.txt   to   /media/rich/bigSSD/analysis_data/face_rhythm/mouse_0403L/fr_run/run_20230903/20230805/notes.txt\n"
     ]
    },
    {
     "name": "stderr",
     "output_type": "stream",
     "text": [
      "0.00b [00:00, ?b/s]\n"
     ]
    },
    {
     "name": "stdout",
     "output_type": "stream",
     "text": [
      "downloading /n/data1/hms/neurobio/sabatini/rich/analysis/faceRhythm/mouse_0403L/run_20230903/20230706/parameters_batch.json   to   /media/rich/bigSSD/analysis_data/face_rhythm/mouse_0403L/fr_run/run_20230903/20230706/parameters_batch.json\n"
     ]
    },
    {
     "name": "stderr",
     "output_type": "stream",
     "text": [
      "0.00b [00:00, ?b/s]\n"
     ]
    },
    {
     "name": "stdout",
     "output_type": "stream",
     "text": [
      "downloading /n/data1/hms/neurobio/sabatini/rich/analysis/faceRhythm/mouse_0403L/run_20230903/20230706/jobNum_0/params.json   to   /media/rich/bigSSD/analysis_data/face_rhythm/mouse_0403L/fr_run/run_20230903/20230706/jobNum_0/params.json\n"
     ]
    },
    {
     "name": "stderr",
     "output_type": "stream",
     "text": [
      "0.00b [00:00, ?b/s]\n"
     ]
    },
    {
     "name": "stdout",
     "output_type": "stream",
     "text": [
      "downloading /n/data1/hms/neurobio/sabatini/rich/analysis/faceRhythm/mouse_0403L/run_20230903/20230706/jobNum_0/config.yaml   to   /media/rich/bigSSD/analysis_data/face_rhythm/mouse_0403L/fr_run/run_20230903/20230706/jobNum_0/config.yaml\n"
     ]
    },
    {
     "name": "stderr",
     "output_type": "stream",
     "text": [
      "0.00b [00:00, ?b/s]\n"
     ]
    },
    {
     "name": "stdout",
     "output_type": "stream",
     "text": [
      "downloading /n/data1/hms/neurobio/sabatini/rich/analysis/faceRhythm/mouse_0403L/run_20230903/20230706/jobNum_0/print_log_16753670.log   to   /media/rich/bigSSD/analysis_data/face_rhythm/mouse_0403L/fr_run/run_20230903/20230706/jobNum_0/print_log_16753670.log\n"
     ]
    },
    {
     "name": "stderr",
     "output_type": "stream",
     "text": [
      "0.00b [00:00, ?b/s]\n"
     ]
    },
    {
     "name": "stdout",
     "output_type": "stream",
     "text": [
      "downloading /n/data1/hms/neurobio/sabatini/rich/analysis/faceRhythm/mouse_0403L/run_20230903/20230706/jobNum_0/cpu_tracker.csv   to   /media/rich/bigSSD/analysis_data/face_rhythm/mouse_0403L/fr_run/run_20230903/20230706/jobNum_0/cpu_tracker.csv\n"
     ]
    },
    {
     "name": "stderr",
     "output_type": "stream",
     "text": [
      "0.00b [00:00, ?b/s]\n"
     ]
    },
    {
     "name": "stdout",
     "output_type": "stream",
     "text": [
      "downloading /n/data1/hms/neurobio/sabatini/rich/analysis/faceRhythm/mouse_0403L/run_20230903/20230706/jobNum_0/analysis_files/ROIs.h5   to   /media/rich/bigSSD/analysis_data/face_rhythm/mouse_0403L/fr_run/run_20230903/20230706/jobNum_0/analysis_files/ROIs.h5\n"
     ]
    },
    {
     "name": "stderr",
     "output_type": "stream",
     "text": [
      "0.00b [00:00, ?b/s]\n"
     ]
    },
    {
     "name": "stdout",
     "output_type": "stream",
     "text": [
      "downloading /n/data1/hms/neurobio/sabatini/rich/analysis/faceRhythm/mouse_0403L/run_20230903/20230706/jobNum_0/analysis_files/TCA.h5   to   /media/rich/bigSSD/analysis_data/face_rhythm/mouse_0403L/fr_run/run_20230903/20230706/jobNum_0/analysis_files/TCA.h5\n"
     ]
    },
    {
     "name": "stderr",
     "output_type": "stream",
     "text": [
      "0.00b [00:00, ?b/s]\n"
     ]
    },
    {
     "name": "stdout",
     "output_type": "stream",
     "text": [
      "downloading /n/data1/hms/neurobio/sabatini/rich/analysis/faceRhythm/mouse_0403L/run_20230903/20230706/jobNum_0/analysis_files/PointTracker.h5   to   /media/rich/bigSSD/analysis_data/face_rhythm/mouse_0403L/fr_run/run_20230903/20230706/jobNum_0/analysis_files/PointTracker.h5\n"
     ]
    },
    {
     "name": "stderr",
     "output_type": "stream",
     "text": [
      "0.00b [01:00, ?b/s]\n"
     ]
    },
    {
     "name": "stdout",
     "output_type": "stream",
     "text": [
      "downloading /n/data1/hms/neurobio/sabatini/rich/analysis/faceRhythm/mouse_0403L/run_20230903/20230706/jobNum_0/analysis_files/VQT_Analyzer.h5   to   /media/rich/bigSSD/analysis_data/face_rhythm/mouse_0403L/fr_run/run_20230903/20230706/jobNum_0/analysis_files/VQT_Analyzer.h5\n"
     ]
    },
    {
     "name": "stderr",
     "output_type": "stream",
     "text": [
      "0.00b [01:51, ?b/s]\n"
     ]
    },
    {
     "name": "stdout",
     "output_type": "stream",
     "text": [
      "downloading /n/data1/hms/neurobio/sabatini/rich/analysis/faceRhythm/mouse_0403L/run_20230903/20230706/jobNum_0/analysis_files/Dataset_videos.h5   to   /media/rich/bigSSD/analysis_data/face_rhythm/mouse_0403L/fr_run/run_20230903/20230706/jobNum_0/analysis_files/Dataset_videos.h5\n"
     ]
    },
    {
     "name": "stderr",
     "output_type": "stream",
     "text": [
      "0.00b [00:00, ?b/s]\n"
     ]
    },
    {
     "name": "stdout",
     "output_type": "stream",
     "text": [
      "downloading /n/data1/hms/neurobio/sabatini/rich/analysis/faceRhythm/mouse_0403L/run_20230903/20230706/jobNum_0/pipeline_basic.py   to   /media/rich/bigSSD/analysis_data/face_rhythm/mouse_0403L/fr_run/run_20230903/20230706/jobNum_0/pipeline_basic.py\n"
     ]
    },
    {
     "name": "stderr",
     "output_type": "stream",
     "text": [
      "0.00b [00:00, ?b/s]\n"
     ]
    },
    {
     "name": "stdout",
     "output_type": "stream",
     "text": [
      "downloading /n/data1/hms/neurobio/sabatini/rich/analysis/faceRhythm/mouse_0403L/run_20230903/20230706/jobNum_0/run_info.json   to   /media/rich/bigSSD/analysis_data/face_rhythm/mouse_0403L/fr_run/run_20230903/20230706/jobNum_0/run_info.json\n"
     ]
    },
    {
     "name": "stderr",
     "output_type": "stream",
     "text": [
      "0.00b [00:00, ?b/s]\n"
     ]
    },
    {
     "name": "stdout",
     "output_type": "stream",
     "text": [
      "downloading /n/data1/hms/neurobio/sabatini/rich/analysis/faceRhythm/mouse_0403L/run_20230903/20230706/jobNum_0/sbatch_config.sh   to   /media/rich/bigSSD/analysis_data/face_rhythm/mouse_0403L/fr_run/run_20230903/20230706/jobNum_0/sbatch_config.sh\n"
     ]
    },
    {
     "name": "stderr",
     "output_type": "stream",
     "text": [
      "0.00b [00:00, ?b/s]\n"
     ]
    },
    {
     "name": "stdout",
     "output_type": "stream",
     "text": [
      "downloading /n/data1/hms/neurobio/sabatini/rich/analysis/faceRhythm/mouse_0403L/run_20230903/20230706/pipeline_basic.py   to   /media/rich/bigSSD/analysis_data/face_rhythm/mouse_0403L/fr_run/run_20230903/20230706/pipeline_basic.py\n"
     ]
    },
    {
     "name": "stderr",
     "output_type": "stream",
     "text": [
      "0.00b [00:00, ?b/s]\n"
     ]
    },
    {
     "name": "stdout",
     "output_type": "stream",
     "text": [
      "downloading /n/data1/hms/neurobio/sabatini/rich/analysis/faceRhythm/mouse_0403L/run_20230903/20230706/dispatcher.py   to   /media/rich/bigSSD/analysis_data/face_rhythm/mouse_0403L/fr_run/run_20230903/20230706/dispatcher.py\n"
     ]
    },
    {
     "name": "stderr",
     "output_type": "stream",
     "text": [
      "0.00b [00:00, ?b/s]\n"
     ]
    },
    {
     "name": "stdout",
     "output_type": "stream",
     "text": [
      "downloading /n/data1/hms/neurobio/sabatini/rich/analysis/faceRhythm/mouse_0403L/run_20230903/20230706/notes.txt   to   /media/rich/bigSSD/analysis_data/face_rhythm/mouse_0403L/fr_run/run_20230903/20230706/notes.txt\n"
     ]
    },
    {
     "name": "stderr",
     "output_type": "stream",
     "text": [
      "0.00b [00:00, ?b/s]\n"
     ]
    },
    {
     "name": "stdout",
     "output_type": "stream",
     "text": [
      "downloading /n/data1/hms/neurobio/sabatini/rich/analysis/faceRhythm/mouse_0403L/run_20230903/20230807/parameters_batch.json   to   /media/rich/bigSSD/analysis_data/face_rhythm/mouse_0403L/fr_run/run_20230903/20230807/parameters_batch.json\n"
     ]
    },
    {
     "name": "stderr",
     "output_type": "stream",
     "text": [
      "0.00b [00:00, ?b/s]\n"
     ]
    },
    {
     "name": "stdout",
     "output_type": "stream",
     "text": [
      "downloading /n/data1/hms/neurobio/sabatini/rich/analysis/faceRhythm/mouse_0403L/run_20230903/20230807/jobNum_0/params.json   to   /media/rich/bigSSD/analysis_data/face_rhythm/mouse_0403L/fr_run/run_20230903/20230807/jobNum_0/params.json\n"
     ]
    },
    {
     "name": "stderr",
     "output_type": "stream",
     "text": [
      "0.00b [00:00, ?b/s]\n"
     ]
    },
    {
     "name": "stdout",
     "output_type": "stream",
     "text": [
      "downloading /n/data1/hms/neurobio/sabatini/rich/analysis/faceRhythm/mouse_0403L/run_20230903/20230807/jobNum_0/config.yaml   to   /media/rich/bigSSD/analysis_data/face_rhythm/mouse_0403L/fr_run/run_20230903/20230807/jobNum_0/config.yaml\n"
     ]
    },
    {
     "name": "stderr",
     "output_type": "stream",
     "text": [
      "0.00b [00:00, ?b/s]\n"
     ]
    },
    {
     "name": "stdout",
     "output_type": "stream",
     "text": [
      "downloading /n/data1/hms/neurobio/sabatini/rich/analysis/faceRhythm/mouse_0403L/run_20230903/20230807/jobNum_0/cpu_tracker.csv   to   /media/rich/bigSSD/analysis_data/face_rhythm/mouse_0403L/fr_run/run_20230903/20230807/jobNum_0/cpu_tracker.csv\n"
     ]
    },
    {
     "name": "stderr",
     "output_type": "stream",
     "text": [
      "0.00b [00:01, ?b/s]\n"
     ]
    },
    {
     "name": "stdout",
     "output_type": "stream",
     "text": [
      "downloading /n/data1/hms/neurobio/sabatini/rich/analysis/faceRhythm/mouse_0403L/run_20230903/20230807/jobNum_0/print_log_16790844.log   to   /media/rich/bigSSD/analysis_data/face_rhythm/mouse_0403L/fr_run/run_20230903/20230807/jobNum_0/print_log_16790844.log\n"
     ]
    },
    {
     "name": "stderr",
     "output_type": "stream",
     "text": [
      "0.00b [00:00, ?b/s]\n"
     ]
    },
    {
     "name": "stdout",
     "output_type": "stream",
     "text": [
      "downloading /n/data1/hms/neurobio/sabatini/rich/analysis/faceRhythm/mouse_0403L/run_20230903/20230807/jobNum_0/analysis_files/ROIs.h5   to   /media/rich/bigSSD/analysis_data/face_rhythm/mouse_0403L/fr_run/run_20230903/20230807/jobNum_0/analysis_files/ROIs.h5\n"
     ]
    },
    {
     "name": "stderr",
     "output_type": "stream",
     "text": [
      "0.00b [00:00, ?b/s]\n"
     ]
    },
    {
     "name": "stdout",
     "output_type": "stream",
     "text": [
      "downloading /n/data1/hms/neurobio/sabatini/rich/analysis/faceRhythm/mouse_0403L/run_20230903/20230807/jobNum_0/analysis_files/TCA.h5   to   /media/rich/bigSSD/analysis_data/face_rhythm/mouse_0403L/fr_run/run_20230903/20230807/jobNum_0/analysis_files/TCA.h5\n"
     ]
    },
    {
     "name": "stderr",
     "output_type": "stream",
     "text": [
      "0.00b [00:00, ?b/s]\n"
     ]
    },
    {
     "name": "stdout",
     "output_type": "stream",
     "text": [
      "downloading /n/data1/hms/neurobio/sabatini/rich/analysis/faceRhythm/mouse_0403L/run_20230903/20230807/jobNum_0/analysis_files/PointTracker.h5   to   /media/rich/bigSSD/analysis_data/face_rhythm/mouse_0403L/fr_run/run_20230903/20230807/jobNum_0/analysis_files/PointTracker.h5\n"
     ]
    },
    {
     "name": "stderr",
     "output_type": "stream",
     "text": [
      "0.00b [01:12, ?b/s]\n"
     ]
    },
    {
     "name": "stdout",
     "output_type": "stream",
     "text": [
      "downloading /n/data1/hms/neurobio/sabatini/rich/analysis/faceRhythm/mouse_0403L/run_20230903/20230807/jobNum_0/analysis_files/VQT_Analyzer.h5   to   /media/rich/bigSSD/analysis_data/face_rhythm/mouse_0403L/fr_run/run_20230903/20230807/jobNum_0/analysis_files/VQT_Analyzer.h5\n"
     ]
    },
    {
     "name": "stderr",
     "output_type": "stream",
     "text": [
      "0.00b [02:16, ?b/s]\n"
     ]
    },
    {
     "name": "stdout",
     "output_type": "stream",
     "text": [
      "downloading /n/data1/hms/neurobio/sabatini/rich/analysis/faceRhythm/mouse_0403L/run_20230903/20230807/jobNum_0/analysis_files/Dataset_videos.h5   to   /media/rich/bigSSD/analysis_data/face_rhythm/mouse_0403L/fr_run/run_20230903/20230807/jobNum_0/analysis_files/Dataset_videos.h5\n"
     ]
    },
    {
     "name": "stderr",
     "output_type": "stream",
     "text": [
      "0.00b [00:00, ?b/s]\n"
     ]
    },
    {
     "name": "stdout",
     "output_type": "stream",
     "text": [
      "downloading /n/data1/hms/neurobio/sabatini/rich/analysis/faceRhythm/mouse_0403L/run_20230903/20230807/jobNum_0/pipeline_basic.py   to   /media/rich/bigSSD/analysis_data/face_rhythm/mouse_0403L/fr_run/run_20230903/20230807/jobNum_0/pipeline_basic.py\n"
     ]
    },
    {
     "name": "stderr",
     "output_type": "stream",
     "text": [
      "0.00b [00:00, ?b/s]\n"
     ]
    },
    {
     "name": "stdout",
     "output_type": "stream",
     "text": [
      "downloading /n/data1/hms/neurobio/sabatini/rich/analysis/faceRhythm/mouse_0403L/run_20230903/20230807/jobNum_0/run_info.json   to   /media/rich/bigSSD/analysis_data/face_rhythm/mouse_0403L/fr_run/run_20230903/20230807/jobNum_0/run_info.json\n"
     ]
    },
    {
     "name": "stderr",
     "output_type": "stream",
     "text": [
      "0.00b [00:00, ?b/s]\n"
     ]
    },
    {
     "name": "stdout",
     "output_type": "stream",
     "text": [
      "downloading /n/data1/hms/neurobio/sabatini/rich/analysis/faceRhythm/mouse_0403L/run_20230903/20230807/jobNum_0/sbatch_config.sh   to   /media/rich/bigSSD/analysis_data/face_rhythm/mouse_0403L/fr_run/run_20230903/20230807/jobNum_0/sbatch_config.sh\n"
     ]
    },
    {
     "name": "stderr",
     "output_type": "stream",
     "text": [
      "0.00b [00:00, ?b/s]\n"
     ]
    },
    {
     "name": "stdout",
     "output_type": "stream",
     "text": [
      "downloading /n/data1/hms/neurobio/sabatini/rich/analysis/faceRhythm/mouse_0403L/run_20230903/20230807/jobNum_0/print_log_16850883.log   to   /media/rich/bigSSD/analysis_data/face_rhythm/mouse_0403L/fr_run/run_20230903/20230807/jobNum_0/print_log_16850883.log\n"
     ]
    },
    {
     "name": "stderr",
     "output_type": "stream",
     "text": [
      "0.00b [00:00, ?b/s]\n"
     ]
    },
    {
     "name": "stdout",
     "output_type": "stream",
     "text": [
      "downloading /n/data1/hms/neurobio/sabatini/rich/analysis/faceRhythm/mouse_0403L/run_20230903/20230807/pipeline_basic.py   to   /media/rich/bigSSD/analysis_data/face_rhythm/mouse_0403L/fr_run/run_20230903/20230807/pipeline_basic.py\n"
     ]
    },
    {
     "name": "stderr",
     "output_type": "stream",
     "text": [
      "0.00b [00:00, ?b/s]\n"
     ]
    },
    {
     "name": "stdout",
     "output_type": "stream",
     "text": [
      "downloading /n/data1/hms/neurobio/sabatini/rich/analysis/faceRhythm/mouse_0403L/run_20230903/20230807/dispatcher.py   to   /media/rich/bigSSD/analysis_data/face_rhythm/mouse_0403L/fr_run/run_20230903/20230807/dispatcher.py\n"
     ]
    },
    {
     "name": "stderr",
     "output_type": "stream",
     "text": [
      "0.00b [00:00, ?b/s]\n"
     ]
    },
    {
     "name": "stdout",
     "output_type": "stream",
     "text": [
      "downloading /n/data1/hms/neurobio/sabatini/rich/analysis/faceRhythm/mouse_0403L/run_20230903/20230807/notes.txt   to   /media/rich/bigSSD/analysis_data/face_rhythm/mouse_0403L/fr_run/run_20230903/20230807/notes.txt\n"
     ]
    },
    {
     "name": "stderr",
     "output_type": "stream",
     "text": [
      "0.00b [00:00, ?b/s]\n"
     ]
    },
    {
     "name": "stdout",
     "output_type": "stream",
     "text": [
      "downloading /n/data1/hms/neurobio/sabatini/rich/analysis/faceRhythm/mouse_0403L/run_20230903/20230803/parameters_batch.json   to   /media/rich/bigSSD/analysis_data/face_rhythm/mouse_0403L/fr_run/run_20230903/20230803/parameters_batch.json\n"
     ]
    },
    {
     "name": "stderr",
     "output_type": "stream",
     "text": [
      "0.00b [00:00, ?b/s]\n"
     ]
    },
    {
     "name": "stdout",
     "output_type": "stream",
     "text": [
      "downloading /n/data1/hms/neurobio/sabatini/rich/analysis/faceRhythm/mouse_0403L/run_20230903/20230803/jobNum_0/params.json   to   /media/rich/bigSSD/analysis_data/face_rhythm/mouse_0403L/fr_run/run_20230903/20230803/jobNum_0/params.json\n"
     ]
    },
    {
     "name": "stderr",
     "output_type": "stream",
     "text": [
      "0.00b [00:00, ?b/s]\n"
     ]
    },
    {
     "name": "stdout",
     "output_type": "stream",
     "text": [
      "downloading /n/data1/hms/neurobio/sabatini/rich/analysis/faceRhythm/mouse_0403L/run_20230903/20230803/jobNum_0/print_log_16850870.log   to   /media/rich/bigSSD/analysis_data/face_rhythm/mouse_0403L/fr_run/run_20230903/20230803/jobNum_0/print_log_16850870.log\n"
     ]
    },
    {
     "name": "stderr",
     "output_type": "stream",
     "text": [
      "0.00b [00:00, ?b/s]\n"
     ]
    },
    {
     "name": "stdout",
     "output_type": "stream",
     "text": [
      "downloading /n/data1/hms/neurobio/sabatini/rich/analysis/faceRhythm/mouse_0403L/run_20230903/20230803/jobNum_0/config.yaml   to   /media/rich/bigSSD/analysis_data/face_rhythm/mouse_0403L/fr_run/run_20230903/20230803/jobNum_0/config.yaml\n"
     ]
    },
    {
     "name": "stderr",
     "output_type": "stream",
     "text": [
      "0.00b [00:00, ?b/s]\n"
     ]
    },
    {
     "name": "stdout",
     "output_type": "stream",
     "text": [
      "downloading /n/data1/hms/neurobio/sabatini/rich/analysis/faceRhythm/mouse_0403L/run_20230903/20230803/jobNum_0/cpu_tracker.csv   to   /media/rich/bigSSD/analysis_data/face_rhythm/mouse_0403L/fr_run/run_20230903/20230803/jobNum_0/cpu_tracker.csv\n"
     ]
    },
    {
     "name": "stderr",
     "output_type": "stream",
     "text": [
      "0.00b [00:00, ?b/s]\n"
     ]
    },
    {
     "name": "stdout",
     "output_type": "stream",
     "text": [
      "downloading /n/data1/hms/neurobio/sabatini/rich/analysis/faceRhythm/mouse_0403L/run_20230903/20230803/jobNum_0/print_log_16790824.log   to   /media/rich/bigSSD/analysis_data/face_rhythm/mouse_0403L/fr_run/run_20230903/20230803/jobNum_0/print_log_16790824.log\n"
     ]
    },
    {
     "name": "stderr",
     "output_type": "stream",
     "text": [
      "0.00b [00:00, ?b/s]\n"
     ]
    },
    {
     "name": "stdout",
     "output_type": "stream",
     "text": [
      "downloading /n/data1/hms/neurobio/sabatini/rich/analysis/faceRhythm/mouse_0403L/run_20230903/20230803/jobNum_0/analysis_files/ROIs.h5   to   /media/rich/bigSSD/analysis_data/face_rhythm/mouse_0403L/fr_run/run_20230903/20230803/jobNum_0/analysis_files/ROIs.h5\n"
     ]
    },
    {
     "name": "stderr",
     "output_type": "stream",
     "text": [
      "0.00b [00:00, ?b/s]\n"
     ]
    },
    {
     "name": "stdout",
     "output_type": "stream",
     "text": [
      "downloading /n/data1/hms/neurobio/sabatini/rich/analysis/faceRhythm/mouse_0403L/run_20230903/20230803/jobNum_0/analysis_files/TCA.h5   to   /media/rich/bigSSD/analysis_data/face_rhythm/mouse_0403L/fr_run/run_20230903/20230803/jobNum_0/analysis_files/TCA.h5\n"
     ]
    },
    {
     "name": "stderr",
     "output_type": "stream",
     "text": [
      "0.00b [00:00, ?b/s]\n"
     ]
    },
    {
     "name": "stdout",
     "output_type": "stream",
     "text": [
      "downloading /n/data1/hms/neurobio/sabatini/rich/analysis/faceRhythm/mouse_0403L/run_20230903/20230803/jobNum_0/analysis_files/PointTracker.h5   to   /media/rich/bigSSD/analysis_data/face_rhythm/mouse_0403L/fr_run/run_20230903/20230803/jobNum_0/analysis_files/PointTracker.h5\n"
     ]
    },
    {
     "name": "stderr",
     "output_type": "stream",
     "text": [
      "0.00b [01:11, ?b/s]\n"
     ]
    },
    {
     "name": "stdout",
     "output_type": "stream",
     "text": [
      "downloading /n/data1/hms/neurobio/sabatini/rich/analysis/faceRhythm/mouse_0403L/run_20230903/20230803/jobNum_0/analysis_files/VQT_Analyzer.h5   to   /media/rich/bigSSD/analysis_data/face_rhythm/mouse_0403L/fr_run/run_20230903/20230803/jobNum_0/analysis_files/VQT_Analyzer.h5\n"
     ]
    },
    {
     "name": "stderr",
     "output_type": "stream",
     "text": [
      "0.00b [02:15, ?b/s]\n"
     ]
    },
    {
     "name": "stdout",
     "output_type": "stream",
     "text": [
      "downloading /n/data1/hms/neurobio/sabatini/rich/analysis/faceRhythm/mouse_0403L/run_20230903/20230803/jobNum_0/analysis_files/Dataset_videos.h5   to   /media/rich/bigSSD/analysis_data/face_rhythm/mouse_0403L/fr_run/run_20230903/20230803/jobNum_0/analysis_files/Dataset_videos.h5\n"
     ]
    },
    {
     "name": "stderr",
     "output_type": "stream",
     "text": [
      "0.00b [00:00, ?b/s]\n"
     ]
    },
    {
     "name": "stdout",
     "output_type": "stream",
     "text": [
      "downloading /n/data1/hms/neurobio/sabatini/rich/analysis/faceRhythm/mouse_0403L/run_20230903/20230803/jobNum_0/pipeline_basic.py   to   /media/rich/bigSSD/analysis_data/face_rhythm/mouse_0403L/fr_run/run_20230903/20230803/jobNum_0/pipeline_basic.py\n"
     ]
    },
    {
     "name": "stderr",
     "output_type": "stream",
     "text": [
      "0.00b [00:00, ?b/s]\n"
     ]
    },
    {
     "name": "stdout",
     "output_type": "stream",
     "text": [
      "downloading /n/data1/hms/neurobio/sabatini/rich/analysis/faceRhythm/mouse_0403L/run_20230903/20230803/jobNum_0/run_info.json   to   /media/rich/bigSSD/analysis_data/face_rhythm/mouse_0403L/fr_run/run_20230903/20230803/jobNum_0/run_info.json\n"
     ]
    },
    {
     "name": "stderr",
     "output_type": "stream",
     "text": [
      "0.00b [00:00, ?b/s]\n"
     ]
    },
    {
     "name": "stdout",
     "output_type": "stream",
     "text": [
      "downloading /n/data1/hms/neurobio/sabatini/rich/analysis/faceRhythm/mouse_0403L/run_20230903/20230803/jobNum_0/sbatch_config.sh   to   /media/rich/bigSSD/analysis_data/face_rhythm/mouse_0403L/fr_run/run_20230903/20230803/jobNum_0/sbatch_config.sh\n"
     ]
    },
    {
     "name": "stderr",
     "output_type": "stream",
     "text": [
      "0.00b [00:00, ?b/s]\n"
     ]
    },
    {
     "name": "stdout",
     "output_type": "stream",
     "text": [
      "downloading /n/data1/hms/neurobio/sabatini/rich/analysis/faceRhythm/mouse_0403L/run_20230903/20230803/pipeline_basic.py   to   /media/rich/bigSSD/analysis_data/face_rhythm/mouse_0403L/fr_run/run_20230903/20230803/pipeline_basic.py\n"
     ]
    },
    {
     "name": "stderr",
     "output_type": "stream",
     "text": [
      "0.00b [00:00, ?b/s]\n"
     ]
    },
    {
     "name": "stdout",
     "output_type": "stream",
     "text": [
      "downloading /n/data1/hms/neurobio/sabatini/rich/analysis/faceRhythm/mouse_0403L/run_20230903/20230803/dispatcher.py   to   /media/rich/bigSSD/analysis_data/face_rhythm/mouse_0403L/fr_run/run_20230903/20230803/dispatcher.py\n"
     ]
    },
    {
     "name": "stderr",
     "output_type": "stream",
     "text": [
      "0.00b [00:00, ?b/s]\n"
     ]
    },
    {
     "name": "stdout",
     "output_type": "stream",
     "text": [
      "downloading /n/data1/hms/neurobio/sabatini/rich/analysis/faceRhythm/mouse_0403L/run_20230903/20230803/notes.txt   to   /media/rich/bigSSD/analysis_data/face_rhythm/mouse_0403L/fr_run/run_20230903/20230803/notes.txt\n"
     ]
    },
    {
     "name": "stderr",
     "output_type": "stream",
     "text": [
      "0.00b [00:00, ?b/s]\n"
     ]
    },
    {
     "name": "stdout",
     "output_type": "stream",
     "text": [
      "downloading /n/data1/hms/neurobio/sabatini/rich/analysis/faceRhythm/mouse_0403L/run_20230903/20230712/parameters_batch.json   to   /media/rich/bigSSD/analysis_data/face_rhythm/mouse_0403L/fr_run/run_20230903/20230712/parameters_batch.json\n"
     ]
    },
    {
     "name": "stderr",
     "output_type": "stream",
     "text": [
      "0.00b [00:00, ?b/s]\n"
     ]
    },
    {
     "name": "stdout",
     "output_type": "stream",
     "text": [
      "downloading /n/data1/hms/neurobio/sabatini/rich/analysis/faceRhythm/mouse_0403L/run_20230903/20230712/jobNum_0/params.json   to   /media/rich/bigSSD/analysis_data/face_rhythm/mouse_0403L/fr_run/run_20230903/20230712/jobNum_0/params.json\n"
     ]
    },
    {
     "name": "stderr",
     "output_type": "stream",
     "text": [
      "0.00b [00:00, ?b/s]\n"
     ]
    },
    {
     "name": "stdout",
     "output_type": "stream",
     "text": [
      "downloading /n/data1/hms/neurobio/sabatini/rich/analysis/faceRhythm/mouse_0403L/run_20230903/20230712/jobNum_0/config.yaml   to   /media/rich/bigSSD/analysis_data/face_rhythm/mouse_0403L/fr_run/run_20230903/20230712/jobNum_0/config.yaml\n"
     ]
    },
    {
     "name": "stderr",
     "output_type": "stream",
     "text": [
      "0.00b [00:00, ?b/s]\n"
     ]
    },
    {
     "name": "stdout",
     "output_type": "stream",
     "text": [
      "downloading /n/data1/hms/neurobio/sabatini/rich/analysis/faceRhythm/mouse_0403L/run_20230903/20230712/jobNum_0/cpu_tracker.csv   to   /media/rich/bigSSD/analysis_data/face_rhythm/mouse_0403L/fr_run/run_20230903/20230712/jobNum_0/cpu_tracker.csv\n"
     ]
    },
    {
     "name": "stderr",
     "output_type": "stream",
     "text": [
      "0.00b [00:00, ?b/s]\n"
     ]
    },
    {
     "name": "stdout",
     "output_type": "stream",
     "text": [
      "downloading /n/data1/hms/neurobio/sabatini/rich/analysis/faceRhythm/mouse_0403L/run_20230903/20230712/jobNum_0/analysis_files/ROIs.h5   to   /media/rich/bigSSD/analysis_data/face_rhythm/mouse_0403L/fr_run/run_20230903/20230712/jobNum_0/analysis_files/ROIs.h5\n"
     ]
    },
    {
     "name": "stderr",
     "output_type": "stream",
     "text": [
      "0.00b [00:00, ?b/s]\n"
     ]
    },
    {
     "name": "stdout",
     "output_type": "stream",
     "text": [
      "downloading /n/data1/hms/neurobio/sabatini/rich/analysis/faceRhythm/mouse_0403L/run_20230903/20230712/jobNum_0/analysis_files/TCA.h5   to   /media/rich/bigSSD/analysis_data/face_rhythm/mouse_0403L/fr_run/run_20230903/20230712/jobNum_0/analysis_files/TCA.h5\n"
     ]
    },
    {
     "name": "stderr",
     "output_type": "stream",
     "text": [
      "0.00b [00:00, ?b/s]\n"
     ]
    },
    {
     "name": "stdout",
     "output_type": "stream",
     "text": [
      "downloading /n/data1/hms/neurobio/sabatini/rich/analysis/faceRhythm/mouse_0403L/run_20230903/20230712/jobNum_0/analysis_files/PointTracker.h5   to   /media/rich/bigSSD/analysis_data/face_rhythm/mouse_0403L/fr_run/run_20230903/20230712/jobNum_0/analysis_files/PointTracker.h5\n"
     ]
    },
    {
     "name": "stderr",
     "output_type": "stream",
     "text": [
      "0.00b [00:57, ?b/s]\n"
     ]
    },
    {
     "name": "stdout",
     "output_type": "stream",
     "text": [
      "downloading /n/data1/hms/neurobio/sabatini/rich/analysis/faceRhythm/mouse_0403L/run_20230903/20230712/jobNum_0/analysis_files/VQT_Analyzer.h5   to   /media/rich/bigSSD/analysis_data/face_rhythm/mouse_0403L/fr_run/run_20230903/20230712/jobNum_0/analysis_files/VQT_Analyzer.h5\n"
     ]
    },
    {
     "name": "stderr",
     "output_type": "stream",
     "text": [
      "0.00b [01:42, ?b/s]\n"
     ]
    },
    {
     "name": "stdout",
     "output_type": "stream",
     "text": [
      "downloading /n/data1/hms/neurobio/sabatini/rich/analysis/faceRhythm/mouse_0403L/run_20230903/20230712/jobNum_0/analysis_files/Dataset_videos.h5   to   /media/rich/bigSSD/analysis_data/face_rhythm/mouse_0403L/fr_run/run_20230903/20230712/jobNum_0/analysis_files/Dataset_videos.h5\n"
     ]
    },
    {
     "name": "stderr",
     "output_type": "stream",
     "text": [
      "0.00b [00:00, ?b/s]\n"
     ]
    },
    {
     "name": "stdout",
     "output_type": "stream",
     "text": [
      "downloading /n/data1/hms/neurobio/sabatini/rich/analysis/faceRhythm/mouse_0403L/run_20230903/20230712/jobNum_0/pipeline_basic.py   to   /media/rich/bigSSD/analysis_data/face_rhythm/mouse_0403L/fr_run/run_20230903/20230712/jobNum_0/pipeline_basic.py\n"
     ]
    },
    {
     "name": "stderr",
     "output_type": "stream",
     "text": [
      "0.00b [00:00, ?b/s]\n"
     ]
    },
    {
     "name": "stdout",
     "output_type": "stream",
     "text": [
      "downloading /n/data1/hms/neurobio/sabatini/rich/analysis/faceRhythm/mouse_0403L/run_20230903/20230712/jobNum_0/print_log_16789994.log   to   /media/rich/bigSSD/analysis_data/face_rhythm/mouse_0403L/fr_run/run_20230903/20230712/jobNum_0/print_log_16789994.log\n"
     ]
    },
    {
     "name": "stderr",
     "output_type": "stream",
     "text": [
      "0.00b [00:00, ?b/s]\n"
     ]
    },
    {
     "name": "stdout",
     "output_type": "stream",
     "text": [
      "downloading /n/data1/hms/neurobio/sabatini/rich/analysis/faceRhythm/mouse_0403L/run_20230903/20230712/jobNum_0/run_info.json   to   /media/rich/bigSSD/analysis_data/face_rhythm/mouse_0403L/fr_run/run_20230903/20230712/jobNum_0/run_info.json\n"
     ]
    },
    {
     "name": "stderr",
     "output_type": "stream",
     "text": [
      "0.00b [00:00, ?b/s]\n"
     ]
    },
    {
     "name": "stdout",
     "output_type": "stream",
     "text": [
      "downloading /n/data1/hms/neurobio/sabatini/rich/analysis/faceRhythm/mouse_0403L/run_20230903/20230712/jobNum_0/sbatch_config.sh   to   /media/rich/bigSSD/analysis_data/face_rhythm/mouse_0403L/fr_run/run_20230903/20230712/jobNum_0/sbatch_config.sh\n"
     ]
    },
    {
     "name": "stderr",
     "output_type": "stream",
     "text": [
      "0.00b [00:00, ?b/s]\n"
     ]
    },
    {
     "name": "stdout",
     "output_type": "stream",
     "text": [
      "downloading /n/data1/hms/neurobio/sabatini/rich/analysis/faceRhythm/mouse_0403L/run_20230903/20230712/pipeline_basic.py   to   /media/rich/bigSSD/analysis_data/face_rhythm/mouse_0403L/fr_run/run_20230903/20230712/pipeline_basic.py\n"
     ]
    },
    {
     "name": "stderr",
     "output_type": "stream",
     "text": [
      "0.00b [00:00, ?b/s]\n"
     ]
    },
    {
     "name": "stdout",
     "output_type": "stream",
     "text": [
      "downloading /n/data1/hms/neurobio/sabatini/rich/analysis/faceRhythm/mouse_0403L/run_20230903/20230712/dispatcher.py   to   /media/rich/bigSSD/analysis_data/face_rhythm/mouse_0403L/fr_run/run_20230903/20230712/dispatcher.py\n"
     ]
    },
    {
     "name": "stderr",
     "output_type": "stream",
     "text": [
      "0.00b [00:00, ?b/s]\n"
     ]
    },
    {
     "name": "stdout",
     "output_type": "stream",
     "text": [
      "downloading /n/data1/hms/neurobio/sabatini/rich/analysis/faceRhythm/mouse_0403L/run_20230903/20230712/notes.txt   to   /media/rich/bigSSD/analysis_data/face_rhythm/mouse_0403L/fr_run/run_20230903/20230712/notes.txt\n"
     ]
    },
    {
     "name": "stderr",
     "output_type": "stream",
     "text": [
      "0.00b [00:00, ?b/s]\n"
     ]
    },
    {
     "name": "stdout",
     "output_type": "stream",
     "text": [
      "downloading /n/data1/hms/neurobio/sabatini/rich/analysis/faceRhythm/mouse_0403L/run_20230903/20230714/parameters_batch.json   to   /media/rich/bigSSD/analysis_data/face_rhythm/mouse_0403L/fr_run/run_20230903/20230714/parameters_batch.json\n"
     ]
    },
    {
     "name": "stderr",
     "output_type": "stream",
     "text": [
      "0.00b [00:00, ?b/s]\n"
     ]
    },
    {
     "name": "stdout",
     "output_type": "stream",
     "text": [
      "downloading /n/data1/hms/neurobio/sabatini/rich/analysis/faceRhythm/mouse_0403L/run_20230903/20230714/jobNum_0/params.json   to   /media/rich/bigSSD/analysis_data/face_rhythm/mouse_0403L/fr_run/run_20230903/20230714/jobNum_0/params.json\n"
     ]
    },
    {
     "name": "stderr",
     "output_type": "stream",
     "text": [
      "0.00b [00:00, ?b/s]\n"
     ]
    },
    {
     "name": "stdout",
     "output_type": "stream",
     "text": [
      "downloading /n/data1/hms/neurobio/sabatini/rich/analysis/faceRhythm/mouse_0403L/run_20230903/20230714/jobNum_0/config.yaml   to   /media/rich/bigSSD/analysis_data/face_rhythm/mouse_0403L/fr_run/run_20230903/20230714/jobNum_0/config.yaml\n"
     ]
    },
    {
     "name": "stderr",
     "output_type": "stream",
     "text": [
      "0.00b [00:00, ?b/s]\n"
     ]
    },
    {
     "name": "stdout",
     "output_type": "stream",
     "text": [
      "downloading /n/data1/hms/neurobio/sabatini/rich/analysis/faceRhythm/mouse_0403L/run_20230903/20230714/jobNum_0/cpu_tracker.csv   to   /media/rich/bigSSD/analysis_data/face_rhythm/mouse_0403L/fr_run/run_20230903/20230714/jobNum_0/cpu_tracker.csv\n"
     ]
    },
    {
     "name": "stderr",
     "output_type": "stream",
     "text": [
      "0.00b [00:00, ?b/s]\n"
     ]
    },
    {
     "name": "stdout",
     "output_type": "stream",
     "text": [
      "downloading /n/data1/hms/neurobio/sabatini/rich/analysis/faceRhythm/mouse_0403L/run_20230903/20230714/jobNum_0/print_log_16790196.log   to   /media/rich/bigSSD/analysis_data/face_rhythm/mouse_0403L/fr_run/run_20230903/20230714/jobNum_0/print_log_16790196.log\n"
     ]
    },
    {
     "name": "stderr",
     "output_type": "stream",
     "text": [
      "0.00b [00:00, ?b/s]\n"
     ]
    },
    {
     "name": "stdout",
     "output_type": "stream",
     "text": [
      "downloading /n/data1/hms/neurobio/sabatini/rich/analysis/faceRhythm/mouse_0403L/run_20230903/20230714/jobNum_0/analysis_files/ROIs.h5   to   /media/rich/bigSSD/analysis_data/face_rhythm/mouse_0403L/fr_run/run_20230903/20230714/jobNum_0/analysis_files/ROIs.h5\n"
     ]
    },
    {
     "name": "stderr",
     "output_type": "stream",
     "text": [
      "0.00b [00:00, ?b/s]\n"
     ]
    },
    {
     "name": "stdout",
     "output_type": "stream",
     "text": [
      "downloading /n/data1/hms/neurobio/sabatini/rich/analysis/faceRhythm/mouse_0403L/run_20230903/20230714/jobNum_0/analysis_files/TCA.h5   to   /media/rich/bigSSD/analysis_data/face_rhythm/mouse_0403L/fr_run/run_20230903/20230714/jobNum_0/analysis_files/TCA.h5\n"
     ]
    },
    {
     "name": "stderr",
     "output_type": "stream",
     "text": [
      "0.00b [00:00, ?b/s]\n"
     ]
    },
    {
     "name": "stdout",
     "output_type": "stream",
     "text": [
      "downloading /n/data1/hms/neurobio/sabatini/rich/analysis/faceRhythm/mouse_0403L/run_20230903/20230714/jobNum_0/analysis_files/PointTracker.h5   to   /media/rich/bigSSD/analysis_data/face_rhythm/mouse_0403L/fr_run/run_20230903/20230714/jobNum_0/analysis_files/PointTracker.h5\n"
     ]
    },
    {
     "name": "stderr",
     "output_type": "stream",
     "text": [
      "0.00b [00:58, ?b/s]\n"
     ]
    },
    {
     "name": "stdout",
     "output_type": "stream",
     "text": [
      "downloading /n/data1/hms/neurobio/sabatini/rich/analysis/faceRhythm/mouse_0403L/run_20230903/20230714/jobNum_0/analysis_files/VQT_Analyzer.h5   to   /media/rich/bigSSD/analysis_data/face_rhythm/mouse_0403L/fr_run/run_20230903/20230714/jobNum_0/analysis_files/VQT_Analyzer.h5\n"
     ]
    },
    {
     "name": "stderr",
     "output_type": "stream",
     "text": [
      "0.00b [01:43, ?b/s]\n"
     ]
    },
    {
     "name": "stdout",
     "output_type": "stream",
     "text": [
      "downloading /n/data1/hms/neurobio/sabatini/rich/analysis/faceRhythm/mouse_0403L/run_20230903/20230714/jobNum_0/analysis_files/Dataset_videos.h5   to   /media/rich/bigSSD/analysis_data/face_rhythm/mouse_0403L/fr_run/run_20230903/20230714/jobNum_0/analysis_files/Dataset_videos.h5\n"
     ]
    },
    {
     "name": "stderr",
     "output_type": "stream",
     "text": [
      "0.00b [00:00, ?b/s]\n"
     ]
    },
    {
     "name": "stdout",
     "output_type": "stream",
     "text": [
      "downloading /n/data1/hms/neurobio/sabatini/rich/analysis/faceRhythm/mouse_0403L/run_20230903/20230714/jobNum_0/pipeline_basic.py   to   /media/rich/bigSSD/analysis_data/face_rhythm/mouse_0403L/fr_run/run_20230903/20230714/jobNum_0/pipeline_basic.py\n"
     ]
    },
    {
     "name": "stderr",
     "output_type": "stream",
     "text": [
      "0.00b [00:00, ?b/s]\n"
     ]
    },
    {
     "name": "stdout",
     "output_type": "stream",
     "text": [
      "downloading /n/data1/hms/neurobio/sabatini/rich/analysis/faceRhythm/mouse_0403L/run_20230903/20230714/jobNum_0/run_info.json   to   /media/rich/bigSSD/analysis_data/face_rhythm/mouse_0403L/fr_run/run_20230903/20230714/jobNum_0/run_info.json\n"
     ]
    },
    {
     "name": "stderr",
     "output_type": "stream",
     "text": [
      "0.00b [00:00, ?b/s]\n"
     ]
    },
    {
     "name": "stdout",
     "output_type": "stream",
     "text": [
      "downloading /n/data1/hms/neurobio/sabatini/rich/analysis/faceRhythm/mouse_0403L/run_20230903/20230714/jobNum_0/sbatch_config.sh   to   /media/rich/bigSSD/analysis_data/face_rhythm/mouse_0403L/fr_run/run_20230903/20230714/jobNum_0/sbatch_config.sh\n"
     ]
    },
    {
     "name": "stderr",
     "output_type": "stream",
     "text": [
      "0.00b [00:00, ?b/s]\n"
     ]
    },
    {
     "name": "stdout",
     "output_type": "stream",
     "text": [
      "downloading /n/data1/hms/neurobio/sabatini/rich/analysis/faceRhythm/mouse_0403L/run_20230903/20230714/pipeline_basic.py   to   /media/rich/bigSSD/analysis_data/face_rhythm/mouse_0403L/fr_run/run_20230903/20230714/pipeline_basic.py\n"
     ]
    },
    {
     "name": "stderr",
     "output_type": "stream",
     "text": [
      "0.00b [00:00, ?b/s]\n"
     ]
    },
    {
     "name": "stdout",
     "output_type": "stream",
     "text": [
      "downloading /n/data1/hms/neurobio/sabatini/rich/analysis/faceRhythm/mouse_0403L/run_20230903/20230714/dispatcher.py   to   /media/rich/bigSSD/analysis_data/face_rhythm/mouse_0403L/fr_run/run_20230903/20230714/dispatcher.py\n"
     ]
    },
    {
     "name": "stderr",
     "output_type": "stream",
     "text": [
      "0.00b [00:00, ?b/s]\n"
     ]
    },
    {
     "name": "stdout",
     "output_type": "stream",
     "text": [
      "downloading /n/data1/hms/neurobio/sabatini/rich/analysis/faceRhythm/mouse_0403L/run_20230903/20230714/notes.txt   to   /media/rich/bigSSD/analysis_data/face_rhythm/mouse_0403L/fr_run/run_20230903/20230714/notes.txt\n"
     ]
    },
    {
     "name": "stderr",
     "output_type": "stream",
     "text": [
      "0.00b [00:00, ?b/s]\n"
     ]
    },
    {
     "name": "stdout",
     "output_type": "stream",
     "text": [
      "downloading /n/data1/hms/neurobio/sabatini/rich/analysis/faceRhythm/mouse_0403L/run_20230903/20230729/parameters_batch.json   to   /media/rich/bigSSD/analysis_data/face_rhythm/mouse_0403L/fr_run/run_20230903/20230729/parameters_batch.json\n"
     ]
    },
    {
     "name": "stderr",
     "output_type": "stream",
     "text": [
      "0.00b [00:00, ?b/s]\n"
     ]
    },
    {
     "name": "stdout",
     "output_type": "stream",
     "text": [
      "downloading /n/data1/hms/neurobio/sabatini/rich/analysis/faceRhythm/mouse_0403L/run_20230903/20230729/jobNum_0/params.json   to   /media/rich/bigSSD/analysis_data/face_rhythm/mouse_0403L/fr_run/run_20230903/20230729/jobNum_0/params.json\n"
     ]
    },
    {
     "name": "stderr",
     "output_type": "stream",
     "text": [
      "0.00b [00:00, ?b/s]\n"
     ]
    },
    {
     "name": "stdout",
     "output_type": "stream",
     "text": [
      "downloading /n/data1/hms/neurobio/sabatini/rich/analysis/faceRhythm/mouse_0403L/run_20230903/20230729/jobNum_0/config.yaml   to   /media/rich/bigSSD/analysis_data/face_rhythm/mouse_0403L/fr_run/run_20230903/20230729/jobNum_0/config.yaml\n"
     ]
    },
    {
     "name": "stderr",
     "output_type": "stream",
     "text": [
      "0.00b [00:00, ?b/s]\n"
     ]
    },
    {
     "name": "stdout",
     "output_type": "stream",
     "text": [
      "downloading /n/data1/hms/neurobio/sabatini/rich/analysis/faceRhythm/mouse_0403L/run_20230903/20230729/jobNum_0/print_log_16790818.log   to   /media/rich/bigSSD/analysis_data/face_rhythm/mouse_0403L/fr_run/run_20230903/20230729/jobNum_0/print_log_16790818.log\n"
     ]
    },
    {
     "name": "stderr",
     "output_type": "stream",
     "text": [
      "0.00b [00:00, ?b/s]\n"
     ]
    },
    {
     "name": "stdout",
     "output_type": "stream",
     "text": [
      "downloading /n/data1/hms/neurobio/sabatini/rich/analysis/faceRhythm/mouse_0403L/run_20230903/20230729/jobNum_0/print_log_16850840.log   to   /media/rich/bigSSD/analysis_data/face_rhythm/mouse_0403L/fr_run/run_20230903/20230729/jobNum_0/print_log_16850840.log\n"
     ]
    },
    {
     "name": "stderr",
     "output_type": "stream",
     "text": [
      "0.00b [00:00, ?b/s]\n"
     ]
    },
    {
     "name": "stdout",
     "output_type": "stream",
     "text": [
      "downloading /n/data1/hms/neurobio/sabatini/rich/analysis/faceRhythm/mouse_0403L/run_20230903/20230729/jobNum_0/cpu_tracker.csv   to   /media/rich/bigSSD/analysis_data/face_rhythm/mouse_0403L/fr_run/run_20230903/20230729/jobNum_0/cpu_tracker.csv\n"
     ]
    },
    {
     "name": "stderr",
     "output_type": "stream",
     "text": [
      "0.00b [00:00, ?b/s]\n"
     ]
    },
    {
     "name": "stdout",
     "output_type": "stream",
     "text": [
      "downloading /n/data1/hms/neurobio/sabatini/rich/analysis/faceRhythm/mouse_0403L/run_20230903/20230729/jobNum_0/analysis_files/ROIs.h5   to   /media/rich/bigSSD/analysis_data/face_rhythm/mouse_0403L/fr_run/run_20230903/20230729/jobNum_0/analysis_files/ROIs.h5\n"
     ]
    },
    {
     "name": "stderr",
     "output_type": "stream",
     "text": [
      "0.00b [00:00, ?b/s]\n"
     ]
    },
    {
     "name": "stdout",
     "output_type": "stream",
     "text": [
      "downloading /n/data1/hms/neurobio/sabatini/rich/analysis/faceRhythm/mouse_0403L/run_20230903/20230729/jobNum_0/analysis_files/TCA.h5   to   /media/rich/bigSSD/analysis_data/face_rhythm/mouse_0403L/fr_run/run_20230903/20230729/jobNum_0/analysis_files/TCA.h5\n"
     ]
    },
    {
     "name": "stderr",
     "output_type": "stream",
     "text": [
      "0.00b [00:00, ?b/s]\n"
     ]
    },
    {
     "name": "stdout",
     "output_type": "stream",
     "text": [
      "downloading /n/data1/hms/neurobio/sabatini/rich/analysis/faceRhythm/mouse_0403L/run_20230903/20230729/jobNum_0/analysis_files/PointTracker.h5   to   /media/rich/bigSSD/analysis_data/face_rhythm/mouse_0403L/fr_run/run_20230903/20230729/jobNum_0/analysis_files/PointTracker.h5\n"
     ]
    },
    {
     "name": "stderr",
     "output_type": "stream",
     "text": [
      "0.00b [01:22, ?b/s]\n"
     ]
    },
    {
     "name": "stdout",
     "output_type": "stream",
     "text": [
      "downloading /n/data1/hms/neurobio/sabatini/rich/analysis/faceRhythm/mouse_0403L/run_20230903/20230729/jobNum_0/analysis_files/VQT_Analyzer.h5   to   /media/rich/bigSSD/analysis_data/face_rhythm/mouse_0403L/fr_run/run_20230903/20230729/jobNum_0/analysis_files/VQT_Analyzer.h5\n"
     ]
    },
    {
     "name": "stderr",
     "output_type": "stream",
     "text": [
      "0.00b [02:27, ?b/s]\n"
     ]
    },
    {
     "name": "stdout",
     "output_type": "stream",
     "text": [
      "downloading /n/data1/hms/neurobio/sabatini/rich/analysis/faceRhythm/mouse_0403L/run_20230903/20230729/jobNum_0/analysis_files/Dataset_videos.h5   to   /media/rich/bigSSD/analysis_data/face_rhythm/mouse_0403L/fr_run/run_20230903/20230729/jobNum_0/analysis_files/Dataset_videos.h5\n"
     ]
    },
    {
     "name": "stderr",
     "output_type": "stream",
     "text": [
      "0.00b [00:00, ?b/s]\n"
     ]
    },
    {
     "name": "stdout",
     "output_type": "stream",
     "text": [
      "downloading /n/data1/hms/neurobio/sabatini/rich/analysis/faceRhythm/mouse_0403L/run_20230903/20230729/jobNum_0/pipeline_basic.py   to   /media/rich/bigSSD/analysis_data/face_rhythm/mouse_0403L/fr_run/run_20230903/20230729/jobNum_0/pipeline_basic.py\n"
     ]
    },
    {
     "name": "stderr",
     "output_type": "stream",
     "text": [
      "0.00b [00:00, ?b/s]\n"
     ]
    },
    {
     "name": "stdout",
     "output_type": "stream",
     "text": [
      "downloading /n/data1/hms/neurobio/sabatini/rich/analysis/faceRhythm/mouse_0403L/run_20230903/20230729/jobNum_0/run_info.json   to   /media/rich/bigSSD/analysis_data/face_rhythm/mouse_0403L/fr_run/run_20230903/20230729/jobNum_0/run_info.json\n"
     ]
    },
    {
     "name": "stderr",
     "output_type": "stream",
     "text": [
      "0.00b [00:00, ?b/s]\n"
     ]
    },
    {
     "name": "stdout",
     "output_type": "stream",
     "text": [
      "downloading /n/data1/hms/neurobio/sabatini/rich/analysis/faceRhythm/mouse_0403L/run_20230903/20230729/jobNum_0/sbatch_config.sh   to   /media/rich/bigSSD/analysis_data/face_rhythm/mouse_0403L/fr_run/run_20230903/20230729/jobNum_0/sbatch_config.sh\n"
     ]
    },
    {
     "name": "stderr",
     "output_type": "stream",
     "text": [
      "0.00b [00:00, ?b/s]\n"
     ]
    },
    {
     "name": "stdout",
     "output_type": "stream",
     "text": [
      "downloading /n/data1/hms/neurobio/sabatini/rich/analysis/faceRhythm/mouse_0403L/run_20230903/20230729/pipeline_basic.py   to   /media/rich/bigSSD/analysis_data/face_rhythm/mouse_0403L/fr_run/run_20230903/20230729/pipeline_basic.py\n"
     ]
    },
    {
     "name": "stderr",
     "output_type": "stream",
     "text": [
      "0.00b [00:00, ?b/s]\n"
     ]
    },
    {
     "name": "stdout",
     "output_type": "stream",
     "text": [
      "downloading /n/data1/hms/neurobio/sabatini/rich/analysis/faceRhythm/mouse_0403L/run_20230903/20230729/dispatcher.py   to   /media/rich/bigSSD/analysis_data/face_rhythm/mouse_0403L/fr_run/run_20230903/20230729/dispatcher.py\n"
     ]
    },
    {
     "name": "stderr",
     "output_type": "stream",
     "text": [
      "0.00b [00:00, ?b/s]\n"
     ]
    },
    {
     "name": "stdout",
     "output_type": "stream",
     "text": [
      "downloading /n/data1/hms/neurobio/sabatini/rich/analysis/faceRhythm/mouse_0403L/run_20230903/20230729/notes.txt   to   /media/rich/bigSSD/analysis_data/face_rhythm/mouse_0403L/fr_run/run_20230903/20230729/notes.txt\n"
     ]
    },
    {
     "name": "stderr",
     "output_type": "stream",
     "text": [
      "0.00b [00:00, ?b/s]\n"
     ]
    }
   ],
   "source": [
    "sftp.get_dir(source=r'/n/data1/hms/neurobio/sabatini/rich/analysis/faceRhythm/mouse_0403L/run_20230903', target=directory_local_save)"
   ]
  },
  {
   "cell_type": "markdown",
   "id": "ac56010b",
   "metadata": {},
   "source": [
    "##### "
   ]
  },
  {
   "cell_type": "code",
   "execution_count": null,
   "id": "bf6dd342-0122-427c-8774-2efe0f036557",
   "metadata": {},
   "outputs": [],
   "source": []
  },
  {
   "cell_type": "markdown",
   "id": "b96e1f7f-1357-424d-a617-cf31f3c34451",
   "metadata": {},
   "source": [
    "# Download dFoF and tqm files"
   ]
  },
  {
   "cell_type": "code",
   "execution_count": 40,
   "id": "f5d90000-ea5e-450d-a21b-0a45a4b84aad",
   "metadata": {},
   "outputs": [],
   "source": [
    "dir_dFoF_and_tqm_remote = r'/n/data1/hms/neurobio/sabatini/rich/analysis/make_dFoF_and_tqm/mouse_0403L'\n",
    "directory_local_save = r'/media/rich/bigSSD/analysis_data/face_rhythm/mouse_0403L/dFoF_and_tqm/'"
   ]
  },
  {
   "cell_type": "code",
   "execution_count": 41,
   "id": "7562e2ca-ca0a-44e7-9347-c74d3534709b",
   "metadata": {
    "scrolled": true
   },
   "outputs": [
    {
     "name": "stdout",
     "output_type": "stream",
     "text": [
      "downloading /n/data1/hms/neurobio/sabatini/rich/analysis/make_dFoF_and_tqm/mouse_0403L/20230804/parameters_batch.json   to   /media/rich/bigSSD/analysis_data/face_rhythm/mouse_0403L/dFoF_and_tqm/20230804/parameters_batch.json\n"
     ]
    },
    {
     "name": "stderr",
     "output_type": "stream",
     "text": [
      "0.00b [00:00, ?b/s]\n"
     ]
    },
    {
     "name": "stdout",
     "output_type": "stream",
     "text": [
      "downloading /n/data1/hms/neurobio/sabatini/rich/analysis/make_dFoF_and_tqm/mouse_0403L/20230804/jobNum_0/print_log_16805961.log   to   /media/rich/bigSSD/analysis_data/face_rhythm/mouse_0403L/dFoF_and_tqm/20230804/jobNum_0/print_log_16805961.log\n"
     ]
    },
    {
     "name": "stderr",
     "output_type": "stream",
     "text": [
      "0.00b [00:00, ?b/s]\n"
     ]
    },
    {
     "name": "stdout",
     "output_type": "stream",
     "text": [
      "downloading /n/data1/hms/neurobio/sabatini/rich/analysis/make_dFoF_and_tqm/mouse_0403L/20230804/jobNum_0/tqm.pkl   to   /media/rich/bigSSD/analysis_data/face_rhythm/mouse_0403L/dFoF_and_tqm/20230804/jobNum_0/tqm.pkl\n"
     ]
    },
    {
     "name": "stderr",
     "output_type": "stream",
     "text": [
      "0.00b [00:00, ?b/s]\n"
     ]
    },
    {
     "name": "stdout",
     "output_type": "stream",
     "text": [
      "downloading /n/data1/hms/neurobio/sabatini/rich/analysis/make_dFoF_and_tqm/mouse_0403L/20230804/jobNum_0/params.json   to   /media/rich/bigSSD/analysis_data/face_rhythm/mouse_0403L/dFoF_and_tqm/20230804/jobNum_0/params.json\n"
     ]
    },
    {
     "name": "stderr",
     "output_type": "stream",
     "text": [
      "0.00b [00:00, ?b/s]\n"
     ]
    },
    {
     "name": "stdout",
     "output_type": "stream",
     "text": [
      "downloading /n/data1/hms/neurobio/sabatini/rich/analysis/make_dFoF_and_tqm/mouse_0403L/20230804/jobNum_0/dFoF.npy   to   /media/rich/bigSSD/analysis_data/face_rhythm/mouse_0403L/dFoF_and_tqm/20230804/jobNum_0/dFoF.npy\n"
     ]
    },
    {
     "name": "stderr",
     "output_type": "stream",
     "text": [
      "0.00b [00:25, ?b/s]\n"
     ]
    },
    {
     "name": "stdout",
     "output_type": "stream",
     "text": [
      "downloading /n/data1/hms/neurobio/sabatini/rich/analysis/make_dFoF_and_tqm/mouse_0403L/20230804/jobNum_0/make_dFoF_and_tqm.py   to   /media/rich/bigSSD/analysis_data/face_rhythm/mouse_0403L/dFoF_and_tqm/20230804/jobNum_0/make_dFoF_and_tqm.py\n"
     ]
    },
    {
     "name": "stderr",
     "output_type": "stream",
     "text": [
      "0.00b [00:00, ?b/s]\n"
     ]
    },
    {
     "name": "stdout",
     "output_type": "stream",
     "text": [
      "downloading /n/data1/hms/neurobio/sabatini/rich/analysis/make_dFoF_and_tqm/mouse_0403L/20230804/jobNum_0/iscell_tqm.npy   to   /media/rich/bigSSD/analysis_data/face_rhythm/mouse_0403L/dFoF_and_tqm/20230804/jobNum_0/iscell_tqm.npy\n"
     ]
    },
    {
     "name": "stderr",
     "output_type": "stream",
     "text": [
      "0.00b [00:00, ?b/s]\n"
     ]
    },
    {
     "name": "stdout",
     "output_type": "stream",
     "text": [
      "downloading /n/data1/hms/neurobio/sabatini/rich/analysis/make_dFoF_and_tqm/mouse_0403L/20230804/jobNum_0/sbatch_config.sh   to   /media/rich/bigSSD/analysis_data/face_rhythm/mouse_0403L/dFoF_and_tqm/20230804/jobNum_0/sbatch_config.sh\n"
     ]
    },
    {
     "name": "stderr",
     "output_type": "stream",
     "text": [
      "0.00b [00:00, ?b/s]\n"
     ]
    },
    {
     "name": "stdout",
     "output_type": "stream",
     "text": [
      "downloading /n/data1/hms/neurobio/sabatini/rich/analysis/make_dFoF_and_tqm/mouse_0403L/20230804/make_dFoF_and_tqm.py   to   /media/rich/bigSSD/analysis_data/face_rhythm/mouse_0403L/dFoF_and_tqm/20230804/make_dFoF_and_tqm.py\n"
     ]
    },
    {
     "name": "stderr",
     "output_type": "stream",
     "text": [
      "0.00b [00:00, ?b/s]\n"
     ]
    },
    {
     "name": "stdout",
     "output_type": "stream",
     "text": [
      "downloading /n/data1/hms/neurobio/sabatini/rich/analysis/make_dFoF_and_tqm/mouse_0403L/20230804/dispatcher.py   to   /media/rich/bigSSD/analysis_data/face_rhythm/mouse_0403L/dFoF_and_tqm/20230804/dispatcher.py\n"
     ]
    },
    {
     "name": "stderr",
     "output_type": "stream",
     "text": [
      "0.00b [00:00, ?b/s]\n"
     ]
    },
    {
     "name": "stdout",
     "output_type": "stream",
     "text": [
      "downloading /n/data1/hms/neurobio/sabatini/rich/analysis/make_dFoF_and_tqm/mouse_0403L/20230804/notes.txt   to   /media/rich/bigSSD/analysis_data/face_rhythm/mouse_0403L/dFoF_and_tqm/20230804/notes.txt\n"
     ]
    },
    {
     "name": "stderr",
     "output_type": "stream",
     "text": [
      "0.00b [00:00, ?b/s]\n"
     ]
    },
    {
     "name": "stdout",
     "output_type": "stream",
     "text": [
      "downloading /n/data1/hms/neurobio/sabatini/rich/analysis/make_dFoF_and_tqm/mouse_0403L/20230726/parameters_batch.json   to   /media/rich/bigSSD/analysis_data/face_rhythm/mouse_0403L/dFoF_and_tqm/20230726/parameters_batch.json\n"
     ]
    },
    {
     "name": "stderr",
     "output_type": "stream",
     "text": [
      "0.00b [00:00, ?b/s]\n"
     ]
    },
    {
     "name": "stdout",
     "output_type": "stream",
     "text": [
      "downloading /n/data1/hms/neurobio/sabatini/rich/analysis/make_dFoF_and_tqm/mouse_0403L/20230726/jobNum_0/tqm.pkl   to   /media/rich/bigSSD/analysis_data/face_rhythm/mouse_0403L/dFoF_and_tqm/20230726/jobNum_0/tqm.pkl\n"
     ]
    },
    {
     "name": "stderr",
     "output_type": "stream",
     "text": [
      "0.00b [00:00, ?b/s]\n"
     ]
    },
    {
     "name": "stdout",
     "output_type": "stream",
     "text": [
      "downloading /n/data1/hms/neurobio/sabatini/rich/analysis/make_dFoF_and_tqm/mouse_0403L/20230726/jobNum_0/params.json   to   /media/rich/bigSSD/analysis_data/face_rhythm/mouse_0403L/dFoF_and_tqm/20230726/jobNum_0/params.json\n"
     ]
    },
    {
     "name": "stderr",
     "output_type": "stream",
     "text": [
      "0.00b [00:00, ?b/s]\n"
     ]
    },
    {
     "name": "stdout",
     "output_type": "stream",
     "text": [
      "downloading /n/data1/hms/neurobio/sabatini/rich/analysis/make_dFoF_and_tqm/mouse_0403L/20230726/jobNum_0/dFoF.npy   to   /media/rich/bigSSD/analysis_data/face_rhythm/mouse_0403L/dFoF_and_tqm/20230726/jobNum_0/dFoF.npy\n"
     ]
    },
    {
     "name": "stderr",
     "output_type": "stream",
     "text": [
      "0.00b [00:26, ?b/s]\n"
     ]
    },
    {
     "name": "stdout",
     "output_type": "stream",
     "text": [
      "downloading /n/data1/hms/neurobio/sabatini/rich/analysis/make_dFoF_and_tqm/mouse_0403L/20230726/jobNum_0/print_log_16805893.log   to   /media/rich/bigSSD/analysis_data/face_rhythm/mouse_0403L/dFoF_and_tqm/20230726/jobNum_0/print_log_16805893.log\n"
     ]
    },
    {
     "name": "stderr",
     "output_type": "stream",
     "text": [
      "0.00b [00:00, ?b/s]\n"
     ]
    },
    {
     "name": "stdout",
     "output_type": "stream",
     "text": [
      "downloading /n/data1/hms/neurobio/sabatini/rich/analysis/make_dFoF_and_tqm/mouse_0403L/20230726/jobNum_0/make_dFoF_and_tqm.py   to   /media/rich/bigSSD/analysis_data/face_rhythm/mouse_0403L/dFoF_and_tqm/20230726/jobNum_0/make_dFoF_and_tqm.py\n"
     ]
    },
    {
     "name": "stderr",
     "output_type": "stream",
     "text": [
      "0.00b [00:00, ?b/s]\n"
     ]
    },
    {
     "name": "stdout",
     "output_type": "stream",
     "text": [
      "downloading /n/data1/hms/neurobio/sabatini/rich/analysis/make_dFoF_and_tqm/mouse_0403L/20230726/jobNum_0/iscell_tqm.npy   to   /media/rich/bigSSD/analysis_data/face_rhythm/mouse_0403L/dFoF_and_tqm/20230726/jobNum_0/iscell_tqm.npy\n"
     ]
    },
    {
     "name": "stderr",
     "output_type": "stream",
     "text": [
      "0.00b [00:00, ?b/s]\n"
     ]
    },
    {
     "name": "stdout",
     "output_type": "stream",
     "text": [
      "downloading /n/data1/hms/neurobio/sabatini/rich/analysis/make_dFoF_and_tqm/mouse_0403L/20230726/jobNum_0/sbatch_config.sh   to   /media/rich/bigSSD/analysis_data/face_rhythm/mouse_0403L/dFoF_and_tqm/20230726/jobNum_0/sbatch_config.sh\n"
     ]
    },
    {
     "name": "stderr",
     "output_type": "stream",
     "text": [
      "0.00b [00:00, ?b/s]\n"
     ]
    },
    {
     "name": "stdout",
     "output_type": "stream",
     "text": [
      "downloading /n/data1/hms/neurobio/sabatini/rich/analysis/make_dFoF_and_tqm/mouse_0403L/20230726/make_dFoF_and_tqm.py   to   /media/rich/bigSSD/analysis_data/face_rhythm/mouse_0403L/dFoF_and_tqm/20230726/make_dFoF_and_tqm.py\n"
     ]
    },
    {
     "name": "stderr",
     "output_type": "stream",
     "text": [
      "0.00b [00:00, ?b/s]\n"
     ]
    },
    {
     "name": "stdout",
     "output_type": "stream",
     "text": [
      "downloading /n/data1/hms/neurobio/sabatini/rich/analysis/make_dFoF_and_tqm/mouse_0403L/20230726/dispatcher.py   to   /media/rich/bigSSD/analysis_data/face_rhythm/mouse_0403L/dFoF_and_tqm/20230726/dispatcher.py\n"
     ]
    },
    {
     "name": "stderr",
     "output_type": "stream",
     "text": [
      "0.00b [00:00, ?b/s]\n"
     ]
    },
    {
     "name": "stdout",
     "output_type": "stream",
     "text": [
      "downloading /n/data1/hms/neurobio/sabatini/rich/analysis/make_dFoF_and_tqm/mouse_0403L/20230726/notes.txt   to   /media/rich/bigSSD/analysis_data/face_rhythm/mouse_0403L/dFoF_and_tqm/20230726/notes.txt\n"
     ]
    },
    {
     "name": "stderr",
     "output_type": "stream",
     "text": [
      "0.00b [00:00, ?b/s]\n"
     ]
    },
    {
     "name": "stdout",
     "output_type": "stream",
     "text": [
      "downloading /n/data1/hms/neurobio/sabatini/rich/analysis/make_dFoF_and_tqm/mouse_0403L/20230708/parameters_batch.json   to   /media/rich/bigSSD/analysis_data/face_rhythm/mouse_0403L/dFoF_and_tqm/20230708/parameters_batch.json\n"
     ]
    },
    {
     "name": "stderr",
     "output_type": "stream",
     "text": [
      "0.00b [00:00, ?b/s]\n"
     ]
    },
    {
     "name": "stdout",
     "output_type": "stream",
     "text": [
      "downloading /n/data1/hms/neurobio/sabatini/rich/analysis/make_dFoF_and_tqm/mouse_0403L/20230708/jobNum_0/tqm.pkl   to   /media/rich/bigSSD/analysis_data/face_rhythm/mouse_0403L/dFoF_and_tqm/20230708/jobNum_0/tqm.pkl\n"
     ]
    },
    {
     "name": "stderr",
     "output_type": "stream",
     "text": [
      "0.00b [00:00, ?b/s]\n"
     ]
    },
    {
     "name": "stdout",
     "output_type": "stream",
     "text": [
      "downloading /n/data1/hms/neurobio/sabatini/rich/analysis/make_dFoF_and_tqm/mouse_0403L/20230708/jobNum_0/params.json   to   /media/rich/bigSSD/analysis_data/face_rhythm/mouse_0403L/dFoF_and_tqm/20230708/jobNum_0/params.json\n"
     ]
    },
    {
     "name": "stderr",
     "output_type": "stream",
     "text": [
      "0.00b [00:00, ?b/s]\n"
     ]
    },
    {
     "name": "stdout",
     "output_type": "stream",
     "text": [
      "downloading /n/data1/hms/neurobio/sabatini/rich/analysis/make_dFoF_and_tqm/mouse_0403L/20230708/jobNum_0/dFoF.npy   to   /media/rich/bigSSD/analysis_data/face_rhythm/mouse_0403L/dFoF_and_tqm/20230708/jobNum_0/dFoF.npy\n"
     ]
    },
    {
     "name": "stderr",
     "output_type": "stream",
     "text": [
      "0.00b [00:22, ?b/s]\n"
     ]
    },
    {
     "name": "stdout",
     "output_type": "stream",
     "text": [
      "downloading /n/data1/hms/neurobio/sabatini/rich/analysis/make_dFoF_and_tqm/mouse_0403L/20230708/jobNum_0/print_log_16805777.log   to   /media/rich/bigSSD/analysis_data/face_rhythm/mouse_0403L/dFoF_and_tqm/20230708/jobNum_0/print_log_16805777.log\n"
     ]
    },
    {
     "name": "stderr",
     "output_type": "stream",
     "text": [
      "0.00b [00:00, ?b/s]\n"
     ]
    },
    {
     "name": "stdout",
     "output_type": "stream",
     "text": [
      "downloading /n/data1/hms/neurobio/sabatini/rich/analysis/make_dFoF_and_tqm/mouse_0403L/20230708/jobNum_0/make_dFoF_and_tqm.py   to   /media/rich/bigSSD/analysis_data/face_rhythm/mouse_0403L/dFoF_and_tqm/20230708/jobNum_0/make_dFoF_and_tqm.py\n"
     ]
    },
    {
     "name": "stderr",
     "output_type": "stream",
     "text": [
      "0.00b [00:00, ?b/s]\n"
     ]
    },
    {
     "name": "stdout",
     "output_type": "stream",
     "text": [
      "downloading /n/data1/hms/neurobio/sabatini/rich/analysis/make_dFoF_and_tqm/mouse_0403L/20230708/jobNum_0/iscell_tqm.npy   to   /media/rich/bigSSD/analysis_data/face_rhythm/mouse_0403L/dFoF_and_tqm/20230708/jobNum_0/iscell_tqm.npy\n"
     ]
    },
    {
     "name": "stderr",
     "output_type": "stream",
     "text": [
      "0.00b [00:00, ?b/s]\n"
     ]
    },
    {
     "name": "stdout",
     "output_type": "stream",
     "text": [
      "downloading /n/data1/hms/neurobio/sabatini/rich/analysis/make_dFoF_and_tqm/mouse_0403L/20230708/jobNum_0/sbatch_config.sh   to   /media/rich/bigSSD/analysis_data/face_rhythm/mouse_0403L/dFoF_and_tqm/20230708/jobNum_0/sbatch_config.sh\n"
     ]
    },
    {
     "name": "stderr",
     "output_type": "stream",
     "text": [
      "0.00b [00:00, ?b/s]\n"
     ]
    },
    {
     "name": "stdout",
     "output_type": "stream",
     "text": [
      "downloading /n/data1/hms/neurobio/sabatini/rich/analysis/make_dFoF_and_tqm/mouse_0403L/20230708/make_dFoF_and_tqm.py   to   /media/rich/bigSSD/analysis_data/face_rhythm/mouse_0403L/dFoF_and_tqm/20230708/make_dFoF_and_tqm.py\n"
     ]
    },
    {
     "name": "stderr",
     "output_type": "stream",
     "text": [
      "0.00b [00:00, ?b/s]\n"
     ]
    },
    {
     "name": "stdout",
     "output_type": "stream",
     "text": [
      "downloading /n/data1/hms/neurobio/sabatini/rich/analysis/make_dFoF_and_tqm/mouse_0403L/20230708/dispatcher.py   to   /media/rich/bigSSD/analysis_data/face_rhythm/mouse_0403L/dFoF_and_tqm/20230708/dispatcher.py\n"
     ]
    },
    {
     "name": "stderr",
     "output_type": "stream",
     "text": [
      "0.00b [00:00, ?b/s]\n"
     ]
    },
    {
     "name": "stdout",
     "output_type": "stream",
     "text": [
      "downloading /n/data1/hms/neurobio/sabatini/rich/analysis/make_dFoF_and_tqm/mouse_0403L/20230708/notes.txt   to   /media/rich/bigSSD/analysis_data/face_rhythm/mouse_0403L/dFoF_and_tqm/20230708/notes.txt\n"
     ]
    },
    {
     "name": "stderr",
     "output_type": "stream",
     "text": [
      "0.00b [00:00, ?b/s]\n"
     ]
    },
    {
     "name": "stdout",
     "output_type": "stream",
     "text": [
      "downloading /n/data1/hms/neurobio/sabatini/rich/analysis/make_dFoF_and_tqm/mouse_0403L/20230808/parameters_batch.json   to   /media/rich/bigSSD/analysis_data/face_rhythm/mouse_0403L/dFoF_and_tqm/20230808/parameters_batch.json\n"
     ]
    },
    {
     "name": "stderr",
     "output_type": "stream",
     "text": [
      "0.00b [00:00, ?b/s]\n"
     ]
    },
    {
     "name": "stdout",
     "output_type": "stream",
     "text": [
      "downloading /n/data1/hms/neurobio/sabatini/rich/analysis/make_dFoF_and_tqm/mouse_0403L/20230808/jobNum_0/tqm.pkl   to   /media/rich/bigSSD/analysis_data/face_rhythm/mouse_0403L/dFoF_and_tqm/20230808/jobNum_0/tqm.pkl\n"
     ]
    },
    {
     "name": "stderr",
     "output_type": "stream",
     "text": [
      "0.00b [00:00, ?b/s]\n"
     ]
    },
    {
     "name": "stdout",
     "output_type": "stream",
     "text": [
      "downloading /n/data1/hms/neurobio/sabatini/rich/analysis/make_dFoF_and_tqm/mouse_0403L/20230808/jobNum_0/params.json   to   /media/rich/bigSSD/analysis_data/face_rhythm/mouse_0403L/dFoF_and_tqm/20230808/jobNum_0/params.json\n"
     ]
    },
    {
     "name": "stderr",
     "output_type": "stream",
     "text": [
      "0.00b [00:00, ?b/s]\n"
     ]
    },
    {
     "name": "stdout",
     "output_type": "stream",
     "text": [
      "downloading /n/data1/hms/neurobio/sabatini/rich/analysis/make_dFoF_and_tqm/mouse_0403L/20230808/jobNum_0/dFoF.npy   to   /media/rich/bigSSD/analysis_data/face_rhythm/mouse_0403L/dFoF_and_tqm/20230808/jobNum_0/dFoF.npy\n"
     ]
    },
    {
     "name": "stderr",
     "output_type": "stream",
     "text": [
      "0.00b [00:30, ?b/s]\n"
     ]
    },
    {
     "name": "stdout",
     "output_type": "stream",
     "text": [
      "downloading /n/data1/hms/neurobio/sabatini/rich/analysis/make_dFoF_and_tqm/mouse_0403L/20230808/jobNum_0/make_dFoF_and_tqm.py   to   /media/rich/bigSSD/analysis_data/face_rhythm/mouse_0403L/dFoF_and_tqm/20230808/jobNum_0/make_dFoF_and_tqm.py\n"
     ]
    },
    {
     "name": "stderr",
     "output_type": "stream",
     "text": [
      "0.00b [00:00, ?b/s]\n"
     ]
    },
    {
     "name": "stdout",
     "output_type": "stream",
     "text": [
      "downloading /n/data1/hms/neurobio/sabatini/rich/analysis/make_dFoF_and_tqm/mouse_0403L/20230808/jobNum_0/iscell_tqm.npy   to   /media/rich/bigSSD/analysis_data/face_rhythm/mouse_0403L/dFoF_and_tqm/20230808/jobNum_0/iscell_tqm.npy\n"
     ]
    },
    {
     "name": "stderr",
     "output_type": "stream",
     "text": [
      "0.00b [00:00, ?b/s]\n"
     ]
    },
    {
     "name": "stdout",
     "output_type": "stream",
     "text": [
      "downloading /n/data1/hms/neurobio/sabatini/rich/analysis/make_dFoF_and_tqm/mouse_0403L/20230808/jobNum_0/print_log_16805976.log   to   /media/rich/bigSSD/analysis_data/face_rhythm/mouse_0403L/dFoF_and_tqm/20230808/jobNum_0/print_log_16805976.log\n"
     ]
    },
    {
     "name": "stderr",
     "output_type": "stream",
     "text": [
      "0.00b [00:00, ?b/s]\n"
     ]
    },
    {
     "name": "stdout",
     "output_type": "stream",
     "text": [
      "downloading /n/data1/hms/neurobio/sabatini/rich/analysis/make_dFoF_and_tqm/mouse_0403L/20230808/jobNum_0/sbatch_config.sh   to   /media/rich/bigSSD/analysis_data/face_rhythm/mouse_0403L/dFoF_and_tqm/20230808/jobNum_0/sbatch_config.sh\n"
     ]
    },
    {
     "name": "stderr",
     "output_type": "stream",
     "text": [
      "0.00b [00:00, ?b/s]\n"
     ]
    },
    {
     "name": "stdout",
     "output_type": "stream",
     "text": [
      "downloading /n/data1/hms/neurobio/sabatini/rich/analysis/make_dFoF_and_tqm/mouse_0403L/20230808/make_dFoF_and_tqm.py   to   /media/rich/bigSSD/analysis_data/face_rhythm/mouse_0403L/dFoF_and_tqm/20230808/make_dFoF_and_tqm.py\n"
     ]
    },
    {
     "name": "stderr",
     "output_type": "stream",
     "text": [
      "0.00b [00:00, ?b/s]\n"
     ]
    },
    {
     "name": "stdout",
     "output_type": "stream",
     "text": [
      "downloading /n/data1/hms/neurobio/sabatini/rich/analysis/make_dFoF_and_tqm/mouse_0403L/20230808/dispatcher.py   to   /media/rich/bigSSD/analysis_data/face_rhythm/mouse_0403L/dFoF_and_tqm/20230808/dispatcher.py\n"
     ]
    },
    {
     "name": "stderr",
     "output_type": "stream",
     "text": [
      "0.00b [00:00, ?b/s]\n"
     ]
    },
    {
     "name": "stdout",
     "output_type": "stream",
     "text": [
      "downloading /n/data1/hms/neurobio/sabatini/rich/analysis/make_dFoF_and_tqm/mouse_0403L/20230808/notes.txt   to   /media/rich/bigSSD/analysis_data/face_rhythm/mouse_0403L/dFoF_and_tqm/20230808/notes.txt\n"
     ]
    },
    {
     "name": "stderr",
     "output_type": "stream",
     "text": [
      "0.00b [00:00, ?b/s]\n"
     ]
    },
    {
     "name": "stdout",
     "output_type": "stream",
     "text": [
      "downloading /n/data1/hms/neurobio/sabatini/rich/analysis/make_dFoF_and_tqm/mouse_0403L/20230711/parameters_batch.json   to   /media/rich/bigSSD/analysis_data/face_rhythm/mouse_0403L/dFoF_and_tqm/20230711/parameters_batch.json\n"
     ]
    },
    {
     "name": "stderr",
     "output_type": "stream",
     "text": [
      "0.00b [00:00, ?b/s]\n"
     ]
    },
    {
     "name": "stdout",
     "output_type": "stream",
     "text": [
      "downloading /n/data1/hms/neurobio/sabatini/rich/analysis/make_dFoF_and_tqm/mouse_0403L/20230711/jobNum_0/tqm.pkl   to   /media/rich/bigSSD/analysis_data/face_rhythm/mouse_0403L/dFoF_and_tqm/20230711/jobNum_0/tqm.pkl\n"
     ]
    },
    {
     "name": "stderr",
     "output_type": "stream",
     "text": [
      "0.00b [00:00, ?b/s]\n"
     ]
    },
    {
     "name": "stdout",
     "output_type": "stream",
     "text": [
      "downloading /n/data1/hms/neurobio/sabatini/rich/analysis/make_dFoF_and_tqm/mouse_0403L/20230711/jobNum_0/params.json   to   /media/rich/bigSSD/analysis_data/face_rhythm/mouse_0403L/dFoF_and_tqm/20230711/jobNum_0/params.json\n"
     ]
    },
    {
     "name": "stderr",
     "output_type": "stream",
     "text": [
      "0.00b [00:00, ?b/s]"
     ]
    },
    {
     "name": "stdout",
     "output_type": "stream",
     "text": [
      "downloading /n/data1/hms/neurobio/sabatini/rich/analysis/make_dFoF_and_tqm/mouse_0403L/20230711/jobNum_0/dFoF.npy   to   /media/rich/bigSSD/analysis_data/face_rhythm/mouse_0403L/dFoF_and_tqm/20230711/jobNum_0/dFoF.npy"
     ]
    },
    {
     "name": "stderr",
     "output_type": "stream",
     "text": [
      "\n"
     ]
    },
    {
     "name": "stdout",
     "output_type": "stream",
     "text": [
      "\n"
     ]
    },
    {
     "name": "stderr",
     "output_type": "stream",
     "text": [
      "0.00b [00:24, ?b/s]\n"
     ]
    },
    {
     "name": "stdout",
     "output_type": "stream",
     "text": [
      "downloading /n/data1/hms/neurobio/sabatini/rich/analysis/make_dFoF_and_tqm/mouse_0403L/20230711/jobNum_0/make_dFoF_and_tqm.py   to   /media/rich/bigSSD/analysis_data/face_rhythm/mouse_0403L/dFoF_and_tqm/20230711/jobNum_0/make_dFoF_and_tqm.py\n"
     ]
    },
    {
     "name": "stderr",
     "output_type": "stream",
     "text": [
      "0.00b [00:00, ?b/s]\n"
     ]
    },
    {
     "name": "stdout",
     "output_type": "stream",
     "text": [
      "downloading /n/data1/hms/neurobio/sabatini/rich/analysis/make_dFoF_and_tqm/mouse_0403L/20230711/jobNum_0/print_log_16805789.log   to   /media/rich/bigSSD/analysis_data/face_rhythm/mouse_0403L/dFoF_and_tqm/20230711/jobNum_0/print_log_16805789.log\n"
     ]
    },
    {
     "name": "stderr",
     "output_type": "stream",
     "text": [
      "0.00b [00:00, ?b/s]\n"
     ]
    },
    {
     "name": "stdout",
     "output_type": "stream",
     "text": [
      "downloading /n/data1/hms/neurobio/sabatini/rich/analysis/make_dFoF_and_tqm/mouse_0403L/20230711/jobNum_0/iscell_tqm.npy   to   /media/rich/bigSSD/analysis_data/face_rhythm/mouse_0403L/dFoF_and_tqm/20230711/jobNum_0/iscell_tqm.npy\n"
     ]
    },
    {
     "name": "stderr",
     "output_type": "stream",
     "text": [
      "0.00b [00:00, ?b/s]\n"
     ]
    },
    {
     "name": "stdout",
     "output_type": "stream",
     "text": [
      "downloading /n/data1/hms/neurobio/sabatini/rich/analysis/make_dFoF_and_tqm/mouse_0403L/20230711/jobNum_0/sbatch_config.sh   to   /media/rich/bigSSD/analysis_data/face_rhythm/mouse_0403L/dFoF_and_tqm/20230711/jobNum_0/sbatch_config.sh\n"
     ]
    },
    {
     "name": "stderr",
     "output_type": "stream",
     "text": [
      "0.00b [00:00, ?b/s]\n"
     ]
    },
    {
     "name": "stdout",
     "output_type": "stream",
     "text": [
      "downloading /n/data1/hms/neurobio/sabatini/rich/analysis/make_dFoF_and_tqm/mouse_0403L/20230711/make_dFoF_and_tqm.py   to   /media/rich/bigSSD/analysis_data/face_rhythm/mouse_0403L/dFoF_and_tqm/20230711/make_dFoF_and_tqm.py\n"
     ]
    },
    {
     "name": "stderr",
     "output_type": "stream",
     "text": [
      "0.00b [00:00, ?b/s]\n"
     ]
    },
    {
     "name": "stdout",
     "output_type": "stream",
     "text": [
      "downloading /n/data1/hms/neurobio/sabatini/rich/analysis/make_dFoF_and_tqm/mouse_0403L/20230711/dispatcher.py   to   /media/rich/bigSSD/analysis_data/face_rhythm/mouse_0403L/dFoF_and_tqm/20230711/dispatcher.py\n"
     ]
    },
    {
     "name": "stderr",
     "output_type": "stream",
     "text": [
      "0.00b [00:00, ?b/s]\n"
     ]
    },
    {
     "name": "stdout",
     "output_type": "stream",
     "text": [
      "downloading /n/data1/hms/neurobio/sabatini/rich/analysis/make_dFoF_and_tqm/mouse_0403L/20230711/notes.txt   to   /media/rich/bigSSD/analysis_data/face_rhythm/mouse_0403L/dFoF_and_tqm/20230711/notes.txt\n"
     ]
    },
    {
     "name": "stderr",
     "output_type": "stream",
     "text": [
      "0.00b [00:00, ?b/s]\n"
     ]
    },
    {
     "name": "stdout",
     "output_type": "stream",
     "text": [
      "downloading /n/data1/hms/neurobio/sabatini/rich/analysis/make_dFoF_and_tqm/mouse_0403L/20230725/parameters_batch.json   to   /media/rich/bigSSD/analysis_data/face_rhythm/mouse_0403L/dFoF_and_tqm/20230725/parameters_batch.json\n"
     ]
    },
    {
     "name": "stderr",
     "output_type": "stream",
     "text": [
      "0.00b [00:00, ?b/s]\n"
     ]
    },
    {
     "name": "stdout",
     "output_type": "stream",
     "text": [
      "downloading /n/data1/hms/neurobio/sabatini/rich/analysis/make_dFoF_and_tqm/mouse_0403L/20230725/jobNum_0/tqm.pkl   to   /media/rich/bigSSD/analysis_data/face_rhythm/mouse_0403L/dFoF_and_tqm/20230725/jobNum_0/tqm.pkl\n"
     ]
    },
    {
     "name": "stderr",
     "output_type": "stream",
     "text": [
      "0.00b [00:00, ?b/s]\n"
     ]
    },
    {
     "name": "stdout",
     "output_type": "stream",
     "text": [
      "downloading /n/data1/hms/neurobio/sabatini/rich/analysis/make_dFoF_and_tqm/mouse_0403L/20230725/jobNum_0/params.json   to   /media/rich/bigSSD/analysis_data/face_rhythm/mouse_0403L/dFoF_and_tqm/20230725/jobNum_0/params.json\n"
     ]
    },
    {
     "name": "stderr",
     "output_type": "stream",
     "text": [
      "0.00b [00:00, ?b/s]\n"
     ]
    },
    {
     "name": "stdout",
     "output_type": "stream",
     "text": [
      "downloading /n/data1/hms/neurobio/sabatini/rich/analysis/make_dFoF_and_tqm/mouse_0403L/20230725/jobNum_0/dFoF.npy   to   /media/rich/bigSSD/analysis_data/face_rhythm/mouse_0403L/dFoF_and_tqm/20230725/jobNum_0/dFoF.npy\n"
     ]
    },
    {
     "name": "stderr",
     "output_type": "stream",
     "text": [
      "0.00b [00:30, ?b/s]\n"
     ]
    },
    {
     "name": "stdout",
     "output_type": "stream",
     "text": [
      "downloading /n/data1/hms/neurobio/sabatini/rich/analysis/make_dFoF_and_tqm/mouse_0403L/20230725/jobNum_0/print_log_16805890.log   to   /media/rich/bigSSD/analysis_data/face_rhythm/mouse_0403L/dFoF_and_tqm/20230725/jobNum_0/print_log_16805890.log\n"
     ]
    },
    {
     "name": "stderr",
     "output_type": "stream",
     "text": [
      "0.00b [00:00, ?b/s]\n"
     ]
    },
    {
     "name": "stdout",
     "output_type": "stream",
     "text": [
      "downloading /n/data1/hms/neurobio/sabatini/rich/analysis/make_dFoF_and_tqm/mouse_0403L/20230725/jobNum_0/make_dFoF_and_tqm.py   to   /media/rich/bigSSD/analysis_data/face_rhythm/mouse_0403L/dFoF_and_tqm/20230725/jobNum_0/make_dFoF_and_tqm.py\n"
     ]
    },
    {
     "name": "stderr",
     "output_type": "stream",
     "text": [
      "0.00b [00:00, ?b/s]\n"
     ]
    },
    {
     "name": "stdout",
     "output_type": "stream",
     "text": [
      "downloading /n/data1/hms/neurobio/sabatini/rich/analysis/make_dFoF_and_tqm/mouse_0403L/20230725/jobNum_0/iscell_tqm.npy   to   /media/rich/bigSSD/analysis_data/face_rhythm/mouse_0403L/dFoF_and_tqm/20230725/jobNum_0/iscell_tqm.npy\n"
     ]
    },
    {
     "name": "stderr",
     "output_type": "stream",
     "text": [
      "0.00b [00:00, ?b/s]\n"
     ]
    },
    {
     "name": "stdout",
     "output_type": "stream",
     "text": [
      "downloading /n/data1/hms/neurobio/sabatini/rich/analysis/make_dFoF_and_tqm/mouse_0403L/20230725/jobNum_0/sbatch_config.sh   to   /media/rich/bigSSD/analysis_data/face_rhythm/mouse_0403L/dFoF_and_tqm/20230725/jobNum_0/sbatch_config.sh\n"
     ]
    },
    {
     "name": "stderr",
     "output_type": "stream",
     "text": [
      "0.00b [00:00, ?b/s]\n"
     ]
    },
    {
     "name": "stdout",
     "output_type": "stream",
     "text": [
      "downloading /n/data1/hms/neurobio/sabatini/rich/analysis/make_dFoF_and_tqm/mouse_0403L/20230725/make_dFoF_and_tqm.py   to   /media/rich/bigSSD/analysis_data/face_rhythm/mouse_0403L/dFoF_and_tqm/20230725/make_dFoF_and_tqm.py\n"
     ]
    },
    {
     "name": "stderr",
     "output_type": "stream",
     "text": [
      "0.00b [00:00, ?b/s]\n"
     ]
    },
    {
     "name": "stdout",
     "output_type": "stream",
     "text": [
      "downloading /n/data1/hms/neurobio/sabatini/rich/analysis/make_dFoF_and_tqm/mouse_0403L/20230725/dispatcher.py   to   /media/rich/bigSSD/analysis_data/face_rhythm/mouse_0403L/dFoF_and_tqm/20230725/dispatcher.py\n"
     ]
    },
    {
     "name": "stderr",
     "output_type": "stream",
     "text": [
      "0.00b [00:00, ?b/s]\n"
     ]
    },
    {
     "name": "stdout",
     "output_type": "stream",
     "text": [
      "downloading /n/data1/hms/neurobio/sabatini/rich/analysis/make_dFoF_and_tqm/mouse_0403L/20230725/notes.txt   to   /media/rich/bigSSD/analysis_data/face_rhythm/mouse_0403L/dFoF_and_tqm/20230725/notes.txt\n"
     ]
    },
    {
     "name": "stderr",
     "output_type": "stream",
     "text": [
      "0.00b [00:00, ?b/s]\n"
     ]
    },
    {
     "name": "stdout",
     "output_type": "stream",
     "text": [
      "downloading /n/data1/hms/neurobio/sabatini/rich/analysis/make_dFoF_and_tqm/mouse_0403L/20230721/parameters_batch.json   to   /media/rich/bigSSD/analysis_data/face_rhythm/mouse_0403L/dFoF_and_tqm/20230721/parameters_batch.json\n"
     ]
    },
    {
     "name": "stderr",
     "output_type": "stream",
     "text": [
      "0.00b [00:00, ?b/s]\n"
     ]
    },
    {
     "name": "stdout",
     "output_type": "stream",
     "text": [
      "downloading /n/data1/hms/neurobio/sabatini/rich/analysis/make_dFoF_and_tqm/mouse_0403L/20230721/jobNum_0/tqm.pkl   to   /media/rich/bigSSD/analysis_data/face_rhythm/mouse_0403L/dFoF_and_tqm/20230721/jobNum_0/tqm.pkl\n"
     ]
    },
    {
     "name": "stderr",
     "output_type": "stream",
     "text": [
      "0.00b [00:00, ?b/s]\n"
     ]
    },
    {
     "name": "stdout",
     "output_type": "stream",
     "text": [
      "downloading /n/data1/hms/neurobio/sabatini/rich/analysis/make_dFoF_and_tqm/mouse_0403L/20230721/jobNum_0/params.json   to   /media/rich/bigSSD/analysis_data/face_rhythm/mouse_0403L/dFoF_and_tqm/20230721/jobNum_0/params.json\n"
     ]
    },
    {
     "name": "stderr",
     "output_type": "stream",
     "text": [
      "0.00b [00:00, ?b/s]\n"
     ]
    },
    {
     "name": "stdout",
     "output_type": "stream",
     "text": [
      "downloading /n/data1/hms/neurobio/sabatini/rich/analysis/make_dFoF_and_tqm/mouse_0403L/20230721/jobNum_0/dFoF.npy   to   /media/rich/bigSSD/analysis_data/face_rhythm/mouse_0403L/dFoF_and_tqm/20230721/jobNum_0/dFoF.npy\n"
     ]
    },
    {
     "name": "stderr",
     "output_type": "stream",
     "text": [
      "0.00b [00:26, ?b/s]\n"
     ]
    },
    {
     "name": "stdout",
     "output_type": "stream",
     "text": [
      "downloading /n/data1/hms/neurobio/sabatini/rich/analysis/make_dFoF_and_tqm/mouse_0403L/20230721/jobNum_0/print_log_16805860.log   to   /media/rich/bigSSD/analysis_data/face_rhythm/mouse_0403L/dFoF_and_tqm/20230721/jobNum_0/print_log_16805860.log\n"
     ]
    },
    {
     "name": "stderr",
     "output_type": "stream",
     "text": [
      "0.00b [00:00, ?b/s]\n"
     ]
    },
    {
     "name": "stdout",
     "output_type": "stream",
     "text": [
      "downloading /n/data1/hms/neurobio/sabatini/rich/analysis/make_dFoF_and_tqm/mouse_0403L/20230721/jobNum_0/make_dFoF_and_tqm.py   to   /media/rich/bigSSD/analysis_data/face_rhythm/mouse_0403L/dFoF_and_tqm/20230721/jobNum_0/make_dFoF_and_tqm.py\n"
     ]
    },
    {
     "name": "stderr",
     "output_type": "stream",
     "text": [
      "0.00b [00:00, ?b/s]\n"
     ]
    },
    {
     "name": "stdout",
     "output_type": "stream",
     "text": [
      "downloading /n/data1/hms/neurobio/sabatini/rich/analysis/make_dFoF_and_tqm/mouse_0403L/20230721/jobNum_0/iscell_tqm.npy   to   /media/rich/bigSSD/analysis_data/face_rhythm/mouse_0403L/dFoF_and_tqm/20230721/jobNum_0/iscell_tqm.npy\n"
     ]
    },
    {
     "name": "stderr",
     "output_type": "stream",
     "text": [
      "0.00b [00:00, ?b/s]\n"
     ]
    },
    {
     "name": "stdout",
     "output_type": "stream",
     "text": [
      "downloading /n/data1/hms/neurobio/sabatini/rich/analysis/make_dFoF_and_tqm/mouse_0403L/20230721/jobNum_0/sbatch_config.sh   to   /media/rich/bigSSD/analysis_data/face_rhythm/mouse_0403L/dFoF_and_tqm/20230721/jobNum_0/sbatch_config.sh\n"
     ]
    },
    {
     "name": "stderr",
     "output_type": "stream",
     "text": [
      "0.00b [00:00, ?b/s]\n"
     ]
    },
    {
     "name": "stdout",
     "output_type": "stream",
     "text": [
      "downloading /n/data1/hms/neurobio/sabatini/rich/analysis/make_dFoF_and_tqm/mouse_0403L/20230721/make_dFoF_and_tqm.py   to   /media/rich/bigSSD/analysis_data/face_rhythm/mouse_0403L/dFoF_and_tqm/20230721/make_dFoF_and_tqm.py\n"
     ]
    },
    {
     "name": "stderr",
     "output_type": "stream",
     "text": [
      "0.00b [00:00, ?b/s]\n"
     ]
    },
    {
     "name": "stdout",
     "output_type": "stream",
     "text": [
      "downloading /n/data1/hms/neurobio/sabatini/rich/analysis/make_dFoF_and_tqm/mouse_0403L/20230721/dispatcher.py   to   /media/rich/bigSSD/analysis_data/face_rhythm/mouse_0403L/dFoF_and_tqm/20230721/dispatcher.py\n"
     ]
    },
    {
     "name": "stderr",
     "output_type": "stream",
     "text": [
      "0.00b [00:00, ?b/s]\n"
     ]
    },
    {
     "name": "stdout",
     "output_type": "stream",
     "text": [
      "downloading /n/data1/hms/neurobio/sabatini/rich/analysis/make_dFoF_and_tqm/mouse_0403L/20230721/notes.txt   to   /media/rich/bigSSD/analysis_data/face_rhythm/mouse_0403L/dFoF_and_tqm/20230721/notes.txt\n"
     ]
    },
    {
     "name": "stderr",
     "output_type": "stream",
     "text": [
      "0.00b [00:00, ?b/s]\n"
     ]
    },
    {
     "name": "stdout",
     "output_type": "stream",
     "text": [
      "downloading /n/data1/hms/neurobio/sabatini/rich/analysis/make_dFoF_and_tqm/mouse_0403L/20230722/parameters_batch.json   to   /media/rich/bigSSD/analysis_data/face_rhythm/mouse_0403L/dFoF_and_tqm/20230722/parameters_batch.json\n"
     ]
    },
    {
     "name": "stderr",
     "output_type": "stream",
     "text": [
      "0.00b [00:00, ?b/s]\n"
     ]
    },
    {
     "name": "stdout",
     "output_type": "stream",
     "text": [
      "downloading /n/data1/hms/neurobio/sabatini/rich/analysis/make_dFoF_and_tqm/mouse_0403L/20230722/jobNum_0/tqm.pkl   to   /media/rich/bigSSD/analysis_data/face_rhythm/mouse_0403L/dFoF_and_tqm/20230722/jobNum_0/tqm.pkl\n"
     ]
    },
    {
     "name": "stderr",
     "output_type": "stream",
     "text": [
      "0.00b [00:00, ?b/s]\n"
     ]
    },
    {
     "name": "stdout",
     "output_type": "stream",
     "text": [
      "downloading /n/data1/hms/neurobio/sabatini/rich/analysis/make_dFoF_and_tqm/mouse_0403L/20230722/jobNum_0/params.json   to   /media/rich/bigSSD/analysis_data/face_rhythm/mouse_0403L/dFoF_and_tqm/20230722/jobNum_0/params.json\n"
     ]
    },
    {
     "name": "stderr",
     "output_type": "stream",
     "text": [
      "0.00b [00:00, ?b/s]\n"
     ]
    },
    {
     "name": "stdout",
     "output_type": "stream",
     "text": [
      "downloading /n/data1/hms/neurobio/sabatini/rich/analysis/make_dFoF_and_tqm/mouse_0403L/20230722/jobNum_0/dFoF.npy   to   /media/rich/bigSSD/analysis_data/face_rhythm/mouse_0403L/dFoF_and_tqm/20230722/jobNum_0/dFoF.npy\n"
     ]
    },
    {
     "name": "stderr",
     "output_type": "stream",
     "text": [
      "0.00b [00:23, ?b/s]\n"
     ]
    },
    {
     "name": "stdout",
     "output_type": "stream",
     "text": [
      "downloading /n/data1/hms/neurobio/sabatini/rich/analysis/make_dFoF_and_tqm/mouse_0403L/20230722/jobNum_0/print_log_16805861.log   to   /media/rich/bigSSD/analysis_data/face_rhythm/mouse_0403L/dFoF_and_tqm/20230722/jobNum_0/print_log_16805861.log\n"
     ]
    },
    {
     "name": "stderr",
     "output_type": "stream",
     "text": [
      "0.00b [00:00, ?b/s]\n"
     ]
    },
    {
     "name": "stdout",
     "output_type": "stream",
     "text": [
      "downloading /n/data1/hms/neurobio/sabatini/rich/analysis/make_dFoF_and_tqm/mouse_0403L/20230722/jobNum_0/make_dFoF_and_tqm.py   to   /media/rich/bigSSD/analysis_data/face_rhythm/mouse_0403L/dFoF_and_tqm/20230722/jobNum_0/make_dFoF_and_tqm.py\n"
     ]
    },
    {
     "name": "stderr",
     "output_type": "stream",
     "text": [
      "0.00b [00:00, ?b/s]\n"
     ]
    },
    {
     "name": "stdout",
     "output_type": "stream",
     "text": [
      "downloading /n/data1/hms/neurobio/sabatini/rich/analysis/make_dFoF_and_tqm/mouse_0403L/20230722/jobNum_0/iscell_tqm.npy   to   /media/rich/bigSSD/analysis_data/face_rhythm/mouse_0403L/dFoF_and_tqm/20230722/jobNum_0/iscell_tqm.npy\n"
     ]
    },
    {
     "name": "stderr",
     "output_type": "stream",
     "text": [
      "0.00b [00:00, ?b/s]\n"
     ]
    },
    {
     "name": "stdout",
     "output_type": "stream",
     "text": [
      "downloading /n/data1/hms/neurobio/sabatini/rich/analysis/make_dFoF_and_tqm/mouse_0403L/20230722/jobNum_0/sbatch_config.sh   to   /media/rich/bigSSD/analysis_data/face_rhythm/mouse_0403L/dFoF_and_tqm/20230722/jobNum_0/sbatch_config.sh\n"
     ]
    },
    {
     "name": "stderr",
     "output_type": "stream",
     "text": [
      "0.00b [00:00, ?b/s]\n"
     ]
    },
    {
     "name": "stdout",
     "output_type": "stream",
     "text": [
      "downloading /n/data1/hms/neurobio/sabatini/rich/analysis/make_dFoF_and_tqm/mouse_0403L/20230722/make_dFoF_and_tqm.py   to   /media/rich/bigSSD/analysis_data/face_rhythm/mouse_0403L/dFoF_and_tqm/20230722/make_dFoF_and_tqm.py\n"
     ]
    },
    {
     "name": "stderr",
     "output_type": "stream",
     "text": [
      "0.00b [00:00, ?b/s]\n"
     ]
    },
    {
     "name": "stdout",
     "output_type": "stream",
     "text": [
      "downloading /n/data1/hms/neurobio/sabatini/rich/analysis/make_dFoF_and_tqm/mouse_0403L/20230722/dispatcher.py   to   /media/rich/bigSSD/analysis_data/face_rhythm/mouse_0403L/dFoF_and_tqm/20230722/dispatcher.py\n"
     ]
    },
    {
     "name": "stderr",
     "output_type": "stream",
     "text": [
      "0.00b [00:00, ?b/s]\n"
     ]
    },
    {
     "name": "stdout",
     "output_type": "stream",
     "text": [
      "downloading /n/data1/hms/neurobio/sabatini/rich/analysis/make_dFoF_and_tqm/mouse_0403L/20230722/notes.txt   to   /media/rich/bigSSD/analysis_data/face_rhythm/mouse_0403L/dFoF_and_tqm/20230722/notes.txt\n"
     ]
    },
    {
     "name": "stderr",
     "output_type": "stream",
     "text": [
      "0.00b [00:00, ?b/s]\n"
     ]
    },
    {
     "name": "stdout",
     "output_type": "stream",
     "text": [
      "downloading /n/data1/hms/neurobio/sabatini/rich/analysis/make_dFoF_and_tqm/mouse_0403L/20230717/parameters_batch.json   to   /media/rich/bigSSD/analysis_data/face_rhythm/mouse_0403L/dFoF_and_tqm/20230717/parameters_batch.json\n"
     ]
    },
    {
     "name": "stderr",
     "output_type": "stream",
     "text": [
      "0.00b [00:00, ?b/s]\n"
     ]
    },
    {
     "name": "stdout",
     "output_type": "stream",
     "text": [
      "downloading /n/data1/hms/neurobio/sabatini/rich/analysis/make_dFoF_and_tqm/mouse_0403L/20230717/jobNum_0/tqm.pkl   to   /media/rich/bigSSD/analysis_data/face_rhythm/mouse_0403L/dFoF_and_tqm/20230717/jobNum_0/tqm.pkl\n"
     ]
    },
    {
     "name": "stderr",
     "output_type": "stream",
     "text": [
      "0.00b [00:00, ?b/s]\n"
     ]
    },
    {
     "name": "stdout",
     "output_type": "stream",
     "text": [
      "downloading /n/data1/hms/neurobio/sabatini/rich/analysis/make_dFoF_and_tqm/mouse_0403L/20230717/jobNum_0/params.json   to   /media/rich/bigSSD/analysis_data/face_rhythm/mouse_0403L/dFoF_and_tqm/20230717/jobNum_0/params.json\n"
     ]
    },
    {
     "name": "stderr",
     "output_type": "stream",
     "text": [
      "0.00b [00:00, ?b/s]\n"
     ]
    },
    {
     "name": "stdout",
     "output_type": "stream",
     "text": [
      "downloading /n/data1/hms/neurobio/sabatini/rich/analysis/make_dFoF_and_tqm/mouse_0403L/20230717/jobNum_0/dFoF.npy   to   /media/rich/bigSSD/analysis_data/face_rhythm/mouse_0403L/dFoF_and_tqm/20230717/jobNum_0/dFoF.npy\n"
     ]
    },
    {
     "name": "stderr",
     "output_type": "stream",
     "text": [
      "0.00b [00:25, ?b/s]\n"
     ]
    },
    {
     "name": "stdout",
     "output_type": "stream",
     "text": [
      "downloading /n/data1/hms/neurobio/sabatini/rich/analysis/make_dFoF_and_tqm/mouse_0403L/20230717/jobNum_0/make_dFoF_and_tqm.py   to   /media/rich/bigSSD/analysis_data/face_rhythm/mouse_0403L/dFoF_and_tqm/20230717/jobNum_0/make_dFoF_and_tqm.py\n"
     ]
    },
    {
     "name": "stderr",
     "output_type": "stream",
     "text": [
      "0.00b [00:00, ?b/s]\n"
     ]
    },
    {
     "name": "stdout",
     "output_type": "stream",
     "text": [
      "downloading /n/data1/hms/neurobio/sabatini/rich/analysis/make_dFoF_and_tqm/mouse_0403L/20230717/jobNum_0/iscell_tqm.npy   to   /media/rich/bigSSD/analysis_data/face_rhythm/mouse_0403L/dFoF_and_tqm/20230717/jobNum_0/iscell_tqm.npy\n"
     ]
    },
    {
     "name": "stderr",
     "output_type": "stream",
     "text": [
      "0.00b [00:00, ?b/s]\n"
     ]
    },
    {
     "name": "stdout",
     "output_type": "stream",
     "text": [
      "downloading /n/data1/hms/neurobio/sabatini/rich/analysis/make_dFoF_and_tqm/mouse_0403L/20230717/jobNum_0/sbatch_config.sh   to   /media/rich/bigSSD/analysis_data/face_rhythm/mouse_0403L/dFoF_and_tqm/20230717/jobNum_0/sbatch_config.sh\n"
     ]
    },
    {
     "name": "stderr",
     "output_type": "stream",
     "text": [
      "0.00b [00:00, ?b/s]\n"
     ]
    },
    {
     "name": "stdout",
     "output_type": "stream",
     "text": [
      "downloading /n/data1/hms/neurobio/sabatini/rich/analysis/make_dFoF_and_tqm/mouse_0403L/20230717/jobNum_0/print_log_16805839.log   to   /media/rich/bigSSD/analysis_data/face_rhythm/mouse_0403L/dFoF_and_tqm/20230717/jobNum_0/print_log_16805839.log\n"
     ]
    },
    {
     "name": "stderr",
     "output_type": "stream",
     "text": [
      "0.00b [00:00, ?b/s]\n"
     ]
    },
    {
     "name": "stdout",
     "output_type": "stream",
     "text": [
      "downloading /n/data1/hms/neurobio/sabatini/rich/analysis/make_dFoF_and_tqm/mouse_0403L/20230717/make_dFoF_and_tqm.py   to   /media/rich/bigSSD/analysis_data/face_rhythm/mouse_0403L/dFoF_and_tqm/20230717/make_dFoF_and_tqm.py\n"
     ]
    },
    {
     "name": "stderr",
     "output_type": "stream",
     "text": [
      "0.00b [00:00, ?b/s]\n"
     ]
    },
    {
     "name": "stdout",
     "output_type": "stream",
     "text": [
      "downloading /n/data1/hms/neurobio/sabatini/rich/analysis/make_dFoF_and_tqm/mouse_0403L/20230717/dispatcher.py   to   /media/rich/bigSSD/analysis_data/face_rhythm/mouse_0403L/dFoF_and_tqm/20230717/dispatcher.py\n"
     ]
    },
    {
     "name": "stderr",
     "output_type": "stream",
     "text": [
      "0.00b [00:00, ?b/s]\n"
     ]
    },
    {
     "name": "stdout",
     "output_type": "stream",
     "text": [
      "downloading /n/data1/hms/neurobio/sabatini/rich/analysis/make_dFoF_and_tqm/mouse_0403L/20230717/notes.txt   to   /media/rich/bigSSD/analysis_data/face_rhythm/mouse_0403L/dFoF_and_tqm/20230717/notes.txt\n"
     ]
    },
    {
     "name": "stderr",
     "output_type": "stream",
     "text": [
      "0.00b [00:00, ?b/s]\n"
     ]
    },
    {
     "name": "stdout",
     "output_type": "stream",
     "text": [
      "downloading /n/data1/hms/neurobio/sabatini/rich/analysis/make_dFoF_and_tqm/mouse_0403L/20230806/parameters_batch.json   to   /media/rich/bigSSD/analysis_data/face_rhythm/mouse_0403L/dFoF_and_tqm/20230806/parameters_batch.json\n"
     ]
    },
    {
     "name": "stderr",
     "output_type": "stream",
     "text": [
      "0.00b [00:00, ?b/s]\n"
     ]
    },
    {
     "name": "stdout",
     "output_type": "stream",
     "text": [
      "downloading /n/data1/hms/neurobio/sabatini/rich/analysis/make_dFoF_and_tqm/mouse_0403L/20230806/jobNum_0/tqm.pkl   to   /media/rich/bigSSD/analysis_data/face_rhythm/mouse_0403L/dFoF_and_tqm/20230806/jobNum_0/tqm.pkl\n"
     ]
    },
    {
     "name": "stderr",
     "output_type": "stream",
     "text": [
      "0.00b [00:00, ?b/s]\n"
     ]
    },
    {
     "name": "stdout",
     "output_type": "stream",
     "text": [
      "downloading /n/data1/hms/neurobio/sabatini/rich/analysis/make_dFoF_and_tqm/mouse_0403L/20230806/jobNum_0/params.json   to   /media/rich/bigSSD/analysis_data/face_rhythm/mouse_0403L/dFoF_and_tqm/20230806/jobNum_0/params.json\n"
     ]
    },
    {
     "name": "stderr",
     "output_type": "stream",
     "text": [
      "0.00b [00:00, ?b/s]\n"
     ]
    },
    {
     "name": "stdout",
     "output_type": "stream",
     "text": [
      "downloading /n/data1/hms/neurobio/sabatini/rich/analysis/make_dFoF_and_tqm/mouse_0403L/20230806/jobNum_0/dFoF.npy   to   /media/rich/bigSSD/analysis_data/face_rhythm/mouse_0403L/dFoF_and_tqm/20230806/jobNum_0/dFoF.npy\n"
     ]
    },
    {
     "name": "stderr",
     "output_type": "stream",
     "text": [
      "0.00b [00:28, ?b/s]\n"
     ]
    },
    {
     "name": "stdout",
     "output_type": "stream",
     "text": [
      "downloading /n/data1/hms/neurobio/sabatini/rich/analysis/make_dFoF_and_tqm/mouse_0403L/20230806/jobNum_0/print_log_16805967.log   to   /media/rich/bigSSD/analysis_data/face_rhythm/mouse_0403L/dFoF_and_tqm/20230806/jobNum_0/print_log_16805967.log\n"
     ]
    },
    {
     "name": "stderr",
     "output_type": "stream",
     "text": [
      "0.00b [00:00, ?b/s]\n"
     ]
    },
    {
     "name": "stdout",
     "output_type": "stream",
     "text": [
      "downloading /n/data1/hms/neurobio/sabatini/rich/analysis/make_dFoF_and_tqm/mouse_0403L/20230806/jobNum_0/make_dFoF_and_tqm.py   to   /media/rich/bigSSD/analysis_data/face_rhythm/mouse_0403L/dFoF_and_tqm/20230806/jobNum_0/make_dFoF_and_tqm.py\n"
     ]
    },
    {
     "name": "stderr",
     "output_type": "stream",
     "text": [
      "0.00b [00:00, ?b/s]\n"
     ]
    },
    {
     "name": "stdout",
     "output_type": "stream",
     "text": [
      "downloading /n/data1/hms/neurobio/sabatini/rich/analysis/make_dFoF_and_tqm/mouse_0403L/20230806/jobNum_0/iscell_tqm.npy   to   /media/rich/bigSSD/analysis_data/face_rhythm/mouse_0403L/dFoF_and_tqm/20230806/jobNum_0/iscell_tqm.npy\n"
     ]
    },
    {
     "name": "stderr",
     "output_type": "stream",
     "text": [
      "0.00b [00:00, ?b/s]\n"
     ]
    },
    {
     "name": "stdout",
     "output_type": "stream",
     "text": [
      "downloading /n/data1/hms/neurobio/sabatini/rich/analysis/make_dFoF_and_tqm/mouse_0403L/20230806/jobNum_0/sbatch_config.sh   to   /media/rich/bigSSD/analysis_data/face_rhythm/mouse_0403L/dFoF_and_tqm/20230806/jobNum_0/sbatch_config.sh\n"
     ]
    },
    {
     "name": "stderr",
     "output_type": "stream",
     "text": [
      "0.00b [00:00, ?b/s]\n"
     ]
    },
    {
     "name": "stdout",
     "output_type": "stream",
     "text": [
      "downloading /n/data1/hms/neurobio/sabatini/rich/analysis/make_dFoF_and_tqm/mouse_0403L/20230806/make_dFoF_and_tqm.py   to   /media/rich/bigSSD/analysis_data/face_rhythm/mouse_0403L/dFoF_and_tqm/20230806/make_dFoF_and_tqm.py\n"
     ]
    },
    {
     "name": "stderr",
     "output_type": "stream",
     "text": [
      "0.00b [00:00, ?b/s]\n"
     ]
    },
    {
     "name": "stdout",
     "output_type": "stream",
     "text": [
      "downloading /n/data1/hms/neurobio/sabatini/rich/analysis/make_dFoF_and_tqm/mouse_0403L/20230806/dispatcher.py   to   /media/rich/bigSSD/analysis_data/face_rhythm/mouse_0403L/dFoF_and_tqm/20230806/dispatcher.py\n"
     ]
    },
    {
     "name": "stderr",
     "output_type": "stream",
     "text": [
      "0.00b [00:00, ?b/s]\n"
     ]
    },
    {
     "name": "stdout",
     "output_type": "stream",
     "text": [
      "downloading /n/data1/hms/neurobio/sabatini/rich/analysis/make_dFoF_and_tqm/mouse_0403L/20230806/notes.txt   to   /media/rich/bigSSD/analysis_data/face_rhythm/mouse_0403L/dFoF_and_tqm/20230806/notes.txt\n"
     ]
    },
    {
     "name": "stderr",
     "output_type": "stream",
     "text": [
      "0.00b [00:00, ?b/s]\n"
     ]
    },
    {
     "name": "stdout",
     "output_type": "stream",
     "text": [
      "downloading /n/data1/hms/neurobio/sabatini/rich/analysis/make_dFoF_and_tqm/mouse_0403L/20230718/parameters_batch.json   to   /media/rich/bigSSD/analysis_data/face_rhythm/mouse_0403L/dFoF_and_tqm/20230718/parameters_batch.json\n"
     ]
    },
    {
     "name": "stderr",
     "output_type": "stream",
     "text": [
      "0.00b [00:00, ?b/s]\n"
     ]
    },
    {
     "name": "stdout",
     "output_type": "stream",
     "text": [
      "downloading /n/data1/hms/neurobio/sabatini/rich/analysis/make_dFoF_and_tqm/mouse_0403L/20230718/jobNum_0/tqm.pkl   to   /media/rich/bigSSD/analysis_data/face_rhythm/mouse_0403L/dFoF_and_tqm/20230718/jobNum_0/tqm.pkl\n"
     ]
    },
    {
     "name": "stderr",
     "output_type": "stream",
     "text": [
      "0.00b [00:00, ?b/s]\n"
     ]
    },
    {
     "name": "stdout",
     "output_type": "stream",
     "text": [
      "downloading /n/data1/hms/neurobio/sabatini/rich/analysis/make_dFoF_and_tqm/mouse_0403L/20230718/jobNum_0/params.json   to   /media/rich/bigSSD/analysis_data/face_rhythm/mouse_0403L/dFoF_and_tqm/20230718/jobNum_0/params.json\n"
     ]
    },
    {
     "name": "stderr",
     "output_type": "stream",
     "text": [
      "0.00b [00:00, ?b/s]\n"
     ]
    },
    {
     "name": "stdout",
     "output_type": "stream",
     "text": [
      "downloading /n/data1/hms/neurobio/sabatini/rich/analysis/make_dFoF_and_tqm/mouse_0403L/20230718/jobNum_0/dFoF.npy   to   /media/rich/bigSSD/analysis_data/face_rhythm/mouse_0403L/dFoF_and_tqm/20230718/jobNum_0/dFoF.npy\n"
     ]
    },
    {
     "name": "stderr",
     "output_type": "stream",
     "text": [
      "0.00b [00:24, ?b/s]\n"
     ]
    },
    {
     "name": "stdout",
     "output_type": "stream",
     "text": [
      "downloading /n/data1/hms/neurobio/sabatini/rich/analysis/make_dFoF_and_tqm/mouse_0403L/20230718/jobNum_0/make_dFoF_and_tqm.py   to   /media/rich/bigSSD/analysis_data/face_rhythm/mouse_0403L/dFoF_and_tqm/20230718/jobNum_0/make_dFoF_and_tqm.py\n"
     ]
    },
    {
     "name": "stderr",
     "output_type": "stream",
     "text": [
      "0.00b [00:00, ?b/s]\n"
     ]
    },
    {
     "name": "stdout",
     "output_type": "stream",
     "text": [
      "downloading /n/data1/hms/neurobio/sabatini/rich/analysis/make_dFoF_and_tqm/mouse_0403L/20230718/jobNum_0/iscell_tqm.npy   to   /media/rich/bigSSD/analysis_data/face_rhythm/mouse_0403L/dFoF_and_tqm/20230718/jobNum_0/iscell_tqm.npy\n"
     ]
    },
    {
     "name": "stderr",
     "output_type": "stream",
     "text": [
      "0.00b [00:00, ?b/s]\n"
     ]
    },
    {
     "name": "stdout",
     "output_type": "stream",
     "text": [
      "downloading /n/data1/hms/neurobio/sabatini/rich/analysis/make_dFoF_and_tqm/mouse_0403L/20230718/jobNum_0/sbatch_config.sh   to   /media/rich/bigSSD/analysis_data/face_rhythm/mouse_0403L/dFoF_and_tqm/20230718/jobNum_0/sbatch_config.sh\n"
     ]
    },
    {
     "name": "stderr",
     "output_type": "stream",
     "text": [
      "0.00b [00:00, ?b/s]\n"
     ]
    },
    {
     "name": "stdout",
     "output_type": "stream",
     "text": [
      "downloading /n/data1/hms/neurobio/sabatini/rich/analysis/make_dFoF_and_tqm/mouse_0403L/20230718/jobNum_0/print_log_16805843.log   to   /media/rich/bigSSD/analysis_data/face_rhythm/mouse_0403L/dFoF_and_tqm/20230718/jobNum_0/print_log_16805843.log\n"
     ]
    },
    {
     "name": "stderr",
     "output_type": "stream",
     "text": [
      "0.00b [00:00, ?b/s]\n"
     ]
    },
    {
     "name": "stdout",
     "output_type": "stream",
     "text": [
      "downloading /n/data1/hms/neurobio/sabatini/rich/analysis/make_dFoF_and_tqm/mouse_0403L/20230718/make_dFoF_and_tqm.py   to   /media/rich/bigSSD/analysis_data/face_rhythm/mouse_0403L/dFoF_and_tqm/20230718/make_dFoF_and_tqm.py\n"
     ]
    },
    {
     "name": "stderr",
     "output_type": "stream",
     "text": [
      "0.00b [00:00, ?b/s]\n"
     ]
    },
    {
     "name": "stdout",
     "output_type": "stream",
     "text": [
      "downloading /n/data1/hms/neurobio/sabatini/rich/analysis/make_dFoF_and_tqm/mouse_0403L/20230718/dispatcher.py   to   /media/rich/bigSSD/analysis_data/face_rhythm/mouse_0403L/dFoF_and_tqm/20230718/dispatcher.py\n"
     ]
    },
    {
     "name": "stderr",
     "output_type": "stream",
     "text": [
      "0.00b [00:00, ?b/s]\n"
     ]
    },
    {
     "name": "stdout",
     "output_type": "stream",
     "text": [
      "downloading /n/data1/hms/neurobio/sabatini/rich/analysis/make_dFoF_and_tqm/mouse_0403L/20230718/notes.txt   to   /media/rich/bigSSD/analysis_data/face_rhythm/mouse_0403L/dFoF_and_tqm/20230718/notes.txt\n"
     ]
    },
    {
     "name": "stderr",
     "output_type": "stream",
     "text": [
      "0.00b [00:00, ?b/s]\n"
     ]
    },
    {
     "name": "stdout",
     "output_type": "stream",
     "text": [
      "downloading /n/data1/hms/neurobio/sabatini/rich/analysis/make_dFoF_and_tqm/mouse_0403L/20230709/parameters_batch.json   to   /media/rich/bigSSD/analysis_data/face_rhythm/mouse_0403L/dFoF_and_tqm/20230709/parameters_batch.json\n"
     ]
    },
    {
     "name": "stderr",
     "output_type": "stream",
     "text": [
      "0.00b [00:00, ?b/s]\n"
     ]
    },
    {
     "name": "stdout",
     "output_type": "stream",
     "text": [
      "downloading /n/data1/hms/neurobio/sabatini/rich/analysis/make_dFoF_and_tqm/mouse_0403L/20230709/jobNum_0/tqm.pkl   to   /media/rich/bigSSD/analysis_data/face_rhythm/mouse_0403L/dFoF_and_tqm/20230709/jobNum_0/tqm.pkl\n"
     ]
    },
    {
     "name": "stderr",
     "output_type": "stream",
     "text": [
      "0.00b [00:00, ?b/s]\n"
     ]
    },
    {
     "name": "stdout",
     "output_type": "stream",
     "text": [
      "downloading /n/data1/hms/neurobio/sabatini/rich/analysis/make_dFoF_and_tqm/mouse_0403L/20230709/jobNum_0/params.json   to   /media/rich/bigSSD/analysis_data/face_rhythm/mouse_0403L/dFoF_and_tqm/20230709/jobNum_0/params.json\n"
     ]
    },
    {
     "name": "stderr",
     "output_type": "stream",
     "text": [
      "0.00b [00:00, ?b/s]\n"
     ]
    },
    {
     "name": "stdout",
     "output_type": "stream",
     "text": [
      "downloading /n/data1/hms/neurobio/sabatini/rich/analysis/make_dFoF_and_tqm/mouse_0403L/20230709/jobNum_0/dFoF.npy   to   /media/rich/bigSSD/analysis_data/face_rhythm/mouse_0403L/dFoF_and_tqm/20230709/jobNum_0/dFoF.npy\n"
     ]
    },
    {
     "name": "stderr",
     "output_type": "stream",
     "text": [
      "0.00b [00:33, ?b/s]\n"
     ]
    },
    {
     "name": "stdout",
     "output_type": "stream",
     "text": [
      "downloading /n/data1/hms/neurobio/sabatini/rich/analysis/make_dFoF_and_tqm/mouse_0403L/20230709/jobNum_0/print_log_16805779.log   to   /media/rich/bigSSD/analysis_data/face_rhythm/mouse_0403L/dFoF_and_tqm/20230709/jobNum_0/print_log_16805779.log\n"
     ]
    },
    {
     "name": "stderr",
     "output_type": "stream",
     "text": [
      "0.00b [00:00, ?b/s]\n"
     ]
    },
    {
     "name": "stdout",
     "output_type": "stream",
     "text": [
      "downloading /n/data1/hms/neurobio/sabatini/rich/analysis/make_dFoF_and_tqm/mouse_0403L/20230709/jobNum_0/make_dFoF_and_tqm.py   to   /media/rich/bigSSD/analysis_data/face_rhythm/mouse_0403L/dFoF_and_tqm/20230709/jobNum_0/make_dFoF_and_tqm.py\n"
     ]
    },
    {
     "name": "stderr",
     "output_type": "stream",
     "text": [
      "0.00b [00:00, ?b/s]\n"
     ]
    },
    {
     "name": "stdout",
     "output_type": "stream",
     "text": [
      "downloading /n/data1/hms/neurobio/sabatini/rich/analysis/make_dFoF_and_tqm/mouse_0403L/20230709/jobNum_0/iscell_tqm.npy   to   /media/rich/bigSSD/analysis_data/face_rhythm/mouse_0403L/dFoF_and_tqm/20230709/jobNum_0/iscell_tqm.npy\n"
     ]
    },
    {
     "name": "stderr",
     "output_type": "stream",
     "text": [
      "0.00b [00:00, ?b/s]\n"
     ]
    },
    {
     "name": "stdout",
     "output_type": "stream",
     "text": [
      "downloading /n/data1/hms/neurobio/sabatini/rich/analysis/make_dFoF_and_tqm/mouse_0403L/20230709/jobNum_0/sbatch_config.sh   to   /media/rich/bigSSD/analysis_data/face_rhythm/mouse_0403L/dFoF_and_tqm/20230709/jobNum_0/sbatch_config.sh\n"
     ]
    },
    {
     "name": "stderr",
     "output_type": "stream",
     "text": [
      "0.00b [00:00, ?b/s]\n"
     ]
    },
    {
     "name": "stdout",
     "output_type": "stream",
     "text": [
      "downloading /n/data1/hms/neurobio/sabatini/rich/analysis/make_dFoF_and_tqm/mouse_0403L/20230709/make_dFoF_and_tqm.py   to   /media/rich/bigSSD/analysis_data/face_rhythm/mouse_0403L/dFoF_and_tqm/20230709/make_dFoF_and_tqm.py\n"
     ]
    },
    {
     "name": "stderr",
     "output_type": "stream",
     "text": [
      "0.00b [00:00, ?b/s]\n"
     ]
    },
    {
     "name": "stdout",
     "output_type": "stream",
     "text": [
      "downloading /n/data1/hms/neurobio/sabatini/rich/analysis/make_dFoF_and_tqm/mouse_0403L/20230709/dispatcher.py   to   /media/rich/bigSSD/analysis_data/face_rhythm/mouse_0403L/dFoF_and_tqm/20230709/dispatcher.py\n"
     ]
    },
    {
     "name": "stderr",
     "output_type": "stream",
     "text": [
      "0.00b [00:00, ?b/s]\n"
     ]
    },
    {
     "name": "stdout",
     "output_type": "stream",
     "text": [
      "downloading /n/data1/hms/neurobio/sabatini/rich/analysis/make_dFoF_and_tqm/mouse_0403L/20230709/notes.txt   to   /media/rich/bigSSD/analysis_data/face_rhythm/mouse_0403L/dFoF_and_tqm/20230709/notes.txt\n"
     ]
    },
    {
     "name": "stderr",
     "output_type": "stream",
     "text": [
      "0.00b [00:00, ?b/s]\n"
     ]
    },
    {
     "name": "stdout",
     "output_type": "stream",
     "text": [
      "downloading /n/data1/hms/neurobio/sabatini/rich/analysis/make_dFoF_and_tqm/mouse_0403L/20230713/parameters_batch.json   to   /media/rich/bigSSD/analysis_data/face_rhythm/mouse_0403L/dFoF_and_tqm/20230713/parameters_batch.json\n"
     ]
    },
    {
     "name": "stderr",
     "output_type": "stream",
     "text": [
      "0.00b [00:00, ?b/s]\n"
     ]
    },
    {
     "name": "stdout",
     "output_type": "stream",
     "text": [
      "downloading /n/data1/hms/neurobio/sabatini/rich/analysis/make_dFoF_and_tqm/mouse_0403L/20230713/jobNum_0/tqm.pkl   to   /media/rich/bigSSD/analysis_data/face_rhythm/mouse_0403L/dFoF_and_tqm/20230713/jobNum_0/tqm.pkl\n"
     ]
    },
    {
     "name": "stderr",
     "output_type": "stream",
     "text": [
      "0.00b [00:00, ?b/s]\n"
     ]
    },
    {
     "name": "stdout",
     "output_type": "stream",
     "text": [
      "downloading /n/data1/hms/neurobio/sabatini/rich/analysis/make_dFoF_and_tqm/mouse_0403L/20230713/jobNum_0/params.json   to   /media/rich/bigSSD/analysis_data/face_rhythm/mouse_0403L/dFoF_and_tqm/20230713/jobNum_0/params.json\n"
     ]
    },
    {
     "name": "stderr",
     "output_type": "stream",
     "text": [
      "0.00b [00:00, ?b/s]\n"
     ]
    },
    {
     "name": "stdout",
     "output_type": "stream",
     "text": [
      "downloading /n/data1/hms/neurobio/sabatini/rich/analysis/make_dFoF_and_tqm/mouse_0403L/20230713/jobNum_0/dFoF.npy   to   /media/rich/bigSSD/analysis_data/face_rhythm/mouse_0403L/dFoF_and_tqm/20230713/jobNum_0/dFoF.npy\n"
     ]
    },
    {
     "name": "stderr",
     "output_type": "stream",
     "text": [
      "0.00b [00:26, ?b/s]\n"
     ]
    },
    {
     "name": "stdout",
     "output_type": "stream",
     "text": [
      "downloading /n/data1/hms/neurobio/sabatini/rich/analysis/make_dFoF_and_tqm/mouse_0403L/20230713/jobNum_0/make_dFoF_and_tqm.py   to   /media/rich/bigSSD/analysis_data/face_rhythm/mouse_0403L/dFoF_and_tqm/20230713/jobNum_0/make_dFoF_and_tqm.py\n"
     ]
    },
    {
     "name": "stderr",
     "output_type": "stream",
     "text": [
      "0.00b [00:00, ?b/s]\n"
     ]
    },
    {
     "name": "stdout",
     "output_type": "stream",
     "text": [
      "downloading /n/data1/hms/neurobio/sabatini/rich/analysis/make_dFoF_and_tqm/mouse_0403L/20230713/jobNum_0/iscell_tqm.npy   to   /media/rich/bigSSD/analysis_data/face_rhythm/mouse_0403L/dFoF_and_tqm/20230713/jobNum_0/iscell_tqm.npy\n"
     ]
    },
    {
     "name": "stderr",
     "output_type": "stream",
     "text": [
      "0.00b [00:00, ?b/s]\n"
     ]
    },
    {
     "name": "stdout",
     "output_type": "stream",
     "text": [
      "downloading /n/data1/hms/neurobio/sabatini/rich/analysis/make_dFoF_and_tqm/mouse_0403L/20230713/jobNum_0/sbatch_config.sh   to   /media/rich/bigSSD/analysis_data/face_rhythm/mouse_0403L/dFoF_and_tqm/20230713/jobNum_0/sbatch_config.sh\n"
     ]
    },
    {
     "name": "stderr",
     "output_type": "stream",
     "text": [
      "0.00b [00:00, ?b/s]\n"
     ]
    },
    {
     "name": "stdout",
     "output_type": "stream",
     "text": [
      "downloading /n/data1/hms/neurobio/sabatini/rich/analysis/make_dFoF_and_tqm/mouse_0403L/20230713/jobNum_0/print_log_16805811.log   to   /media/rich/bigSSD/analysis_data/face_rhythm/mouse_0403L/dFoF_and_tqm/20230713/jobNum_0/print_log_16805811.log\n"
     ]
    },
    {
     "name": "stderr",
     "output_type": "stream",
     "text": [
      "0.00b [00:00, ?b/s]\n"
     ]
    },
    {
     "name": "stdout",
     "output_type": "stream",
     "text": [
      "downloading /n/data1/hms/neurobio/sabatini/rich/analysis/make_dFoF_and_tqm/mouse_0403L/20230713/make_dFoF_and_tqm.py   to   /media/rich/bigSSD/analysis_data/face_rhythm/mouse_0403L/dFoF_and_tqm/20230713/make_dFoF_and_tqm.py\n"
     ]
    },
    {
     "name": "stderr",
     "output_type": "stream",
     "text": [
      "0.00b [00:00, ?b/s]\n"
     ]
    },
    {
     "name": "stdout",
     "output_type": "stream",
     "text": [
      "downloading /n/data1/hms/neurobio/sabatini/rich/analysis/make_dFoF_and_tqm/mouse_0403L/20230713/dispatcher.py   to   /media/rich/bigSSD/analysis_data/face_rhythm/mouse_0403L/dFoF_and_tqm/20230713/dispatcher.py\n"
     ]
    },
    {
     "name": "stderr",
     "output_type": "stream",
     "text": [
      "0.00b [00:00, ?b/s]\n"
     ]
    },
    {
     "name": "stdout",
     "output_type": "stream",
     "text": [
      "downloading /n/data1/hms/neurobio/sabatini/rich/analysis/make_dFoF_and_tqm/mouse_0403L/20230713/notes.txt   to   /media/rich/bigSSD/analysis_data/face_rhythm/mouse_0403L/dFoF_and_tqm/20230713/notes.txt\n"
     ]
    },
    {
     "name": "stderr",
     "output_type": "stream",
     "text": [
      "0.00b [00:00, ?b/s]\n"
     ]
    },
    {
     "name": "stdout",
     "output_type": "stream",
     "text": [
      "downloading /n/data1/hms/neurobio/sabatini/rich/analysis/make_dFoF_and_tqm/mouse_0403L/20230727/parameters_batch.json   to   /media/rich/bigSSD/analysis_data/face_rhythm/mouse_0403L/dFoF_and_tqm/20230727/parameters_batch.json\n"
     ]
    },
    {
     "name": "stderr",
     "output_type": "stream",
     "text": [
      "0.00b [00:00, ?b/s]\n"
     ]
    },
    {
     "name": "stdout",
     "output_type": "stream",
     "text": [
      "downloading /n/data1/hms/neurobio/sabatini/rich/analysis/make_dFoF_and_tqm/mouse_0403L/20230727/jobNum_0/tqm.pkl   to   /media/rich/bigSSD/analysis_data/face_rhythm/mouse_0403L/dFoF_and_tqm/20230727/jobNum_0/tqm.pkl\n"
     ]
    },
    {
     "name": "stderr",
     "output_type": "stream",
     "text": [
      "0.00b [00:00, ?b/s]\n"
     ]
    },
    {
     "name": "stdout",
     "output_type": "stream",
     "text": [
      "downloading /n/data1/hms/neurobio/sabatini/rich/analysis/make_dFoF_and_tqm/mouse_0403L/20230727/jobNum_0/params.json   to   /media/rich/bigSSD/analysis_data/face_rhythm/mouse_0403L/dFoF_and_tqm/20230727/jobNum_0/params.json\n"
     ]
    },
    {
     "name": "stderr",
     "output_type": "stream",
     "text": [
      "0.00b [00:00, ?b/s]\n"
     ]
    },
    {
     "name": "stdout",
     "output_type": "stream",
     "text": [
      "downloading /n/data1/hms/neurobio/sabatini/rich/analysis/make_dFoF_and_tqm/mouse_0403L/20230727/jobNum_0/dFoF.npy   to   /media/rich/bigSSD/analysis_data/face_rhythm/mouse_0403L/dFoF_and_tqm/20230727/jobNum_0/dFoF.npy\n"
     ]
    },
    {
     "name": "stderr",
     "output_type": "stream",
     "text": [
      "0.00b [00:28, ?b/s]\n"
     ]
    },
    {
     "name": "stdout",
     "output_type": "stream",
     "text": [
      "downloading /n/data1/hms/neurobio/sabatini/rich/analysis/make_dFoF_and_tqm/mouse_0403L/20230727/jobNum_0/print_log_16805896.log   to   /media/rich/bigSSD/analysis_data/face_rhythm/mouse_0403L/dFoF_and_tqm/20230727/jobNum_0/print_log_16805896.log\n"
     ]
    },
    {
     "name": "stderr",
     "output_type": "stream",
     "text": [
      "0.00b [00:00, ?b/s]\n"
     ]
    },
    {
     "name": "stdout",
     "output_type": "stream",
     "text": [
      "downloading /n/data1/hms/neurobio/sabatini/rich/analysis/make_dFoF_and_tqm/mouse_0403L/20230727/jobNum_0/make_dFoF_and_tqm.py   to   /media/rich/bigSSD/analysis_data/face_rhythm/mouse_0403L/dFoF_and_tqm/20230727/jobNum_0/make_dFoF_and_tqm.py\n"
     ]
    },
    {
     "name": "stderr",
     "output_type": "stream",
     "text": [
      "0.00b [00:00, ?b/s]\n"
     ]
    },
    {
     "name": "stdout",
     "output_type": "stream",
     "text": [
      "downloading /n/data1/hms/neurobio/sabatini/rich/analysis/make_dFoF_and_tqm/mouse_0403L/20230727/jobNum_0/iscell_tqm.npy   to   /media/rich/bigSSD/analysis_data/face_rhythm/mouse_0403L/dFoF_and_tqm/20230727/jobNum_0/iscell_tqm.npy\n"
     ]
    },
    {
     "name": "stderr",
     "output_type": "stream",
     "text": [
      "0.00b [00:00, ?b/s]\n"
     ]
    },
    {
     "name": "stdout",
     "output_type": "stream",
     "text": [
      "downloading /n/data1/hms/neurobio/sabatini/rich/analysis/make_dFoF_and_tqm/mouse_0403L/20230727/jobNum_0/sbatch_config.sh   to   /media/rich/bigSSD/analysis_data/face_rhythm/mouse_0403L/dFoF_and_tqm/20230727/jobNum_0/sbatch_config.sh\n"
     ]
    },
    {
     "name": "stderr",
     "output_type": "stream",
     "text": [
      "0.00b [00:00, ?b/s]\n"
     ]
    },
    {
     "name": "stdout",
     "output_type": "stream",
     "text": [
      "downloading /n/data1/hms/neurobio/sabatini/rich/analysis/make_dFoF_and_tqm/mouse_0403L/20230727/make_dFoF_and_tqm.py   to   /media/rich/bigSSD/analysis_data/face_rhythm/mouse_0403L/dFoF_and_tqm/20230727/make_dFoF_and_tqm.py\n"
     ]
    },
    {
     "name": "stderr",
     "output_type": "stream",
     "text": [
      "0.00b [00:00, ?b/s]\n"
     ]
    },
    {
     "name": "stdout",
     "output_type": "stream",
     "text": [
      "downloading /n/data1/hms/neurobio/sabatini/rich/analysis/make_dFoF_and_tqm/mouse_0403L/20230727/dispatcher.py   to   /media/rich/bigSSD/analysis_data/face_rhythm/mouse_0403L/dFoF_and_tqm/20230727/dispatcher.py\n"
     ]
    },
    {
     "name": "stderr",
     "output_type": "stream",
     "text": [
      "0.00b [00:00, ?b/s]\n"
     ]
    },
    {
     "name": "stdout",
     "output_type": "stream",
     "text": [
      "downloading /n/data1/hms/neurobio/sabatini/rich/analysis/make_dFoF_and_tqm/mouse_0403L/20230727/notes.txt   to   /media/rich/bigSSD/analysis_data/face_rhythm/mouse_0403L/dFoF_and_tqm/20230727/notes.txt\n"
     ]
    },
    {
     "name": "stderr",
     "output_type": "stream",
     "text": [
      "0.00b [00:00, ?b/s]\n"
     ]
    },
    {
     "name": "stdout",
     "output_type": "stream",
     "text": [
      "downloading /n/data1/hms/neurobio/sabatini/rich/analysis/make_dFoF_and_tqm/mouse_0403L/20230702/parameters_batch.json   to   /media/rich/bigSSD/analysis_data/face_rhythm/mouse_0403L/dFoF_and_tqm/20230702/parameters_batch.json\n"
     ]
    },
    {
     "name": "stderr",
     "output_type": "stream",
     "text": [
      "0.00b [00:00, ?b/s]\n"
     ]
    },
    {
     "name": "stdout",
     "output_type": "stream",
     "text": [
      "downloading /n/data1/hms/neurobio/sabatini/rich/analysis/make_dFoF_and_tqm/mouse_0403L/20230702/jobNum_0/tqm.pkl   to   /media/rich/bigSSD/analysis_data/face_rhythm/mouse_0403L/dFoF_and_tqm/20230702/jobNum_0/tqm.pkl\n"
     ]
    },
    {
     "name": "stderr",
     "output_type": "stream",
     "text": [
      "0.00b [00:00, ?b/s]\n"
     ]
    },
    {
     "name": "stdout",
     "output_type": "stream",
     "text": [
      "downloading /n/data1/hms/neurobio/sabatini/rich/analysis/make_dFoF_and_tqm/mouse_0403L/20230702/jobNum_0/params.json   to   /media/rich/bigSSD/analysis_data/face_rhythm/mouse_0403L/dFoF_and_tqm/20230702/jobNum_0/params.json\n"
     ]
    },
    {
     "name": "stderr",
     "output_type": "stream",
     "text": [
      "0.00b [00:00, ?b/s]\n"
     ]
    },
    {
     "name": "stdout",
     "output_type": "stream",
     "text": [
      "downloading /n/data1/hms/neurobio/sabatini/rich/analysis/make_dFoF_and_tqm/mouse_0403L/20230702/jobNum_0/dFoF.npy   to   /media/rich/bigSSD/analysis_data/face_rhythm/mouse_0403L/dFoF_and_tqm/20230702/jobNum_0/dFoF.npy\n"
     ]
    },
    {
     "name": "stderr",
     "output_type": "stream",
     "text": [
      "0.00b [00:25, ?b/s]\n"
     ]
    },
    {
     "name": "stdout",
     "output_type": "stream",
     "text": [
      "downloading /n/data1/hms/neurobio/sabatini/rich/analysis/make_dFoF_and_tqm/mouse_0403L/20230702/jobNum_0/make_dFoF_and_tqm.py   to   /media/rich/bigSSD/analysis_data/face_rhythm/mouse_0403L/dFoF_and_tqm/20230702/jobNum_0/make_dFoF_and_tqm.py\n"
     ]
    },
    {
     "name": "stderr",
     "output_type": "stream",
     "text": [
      "0.00b [00:00, ?b/s]\n"
     ]
    },
    {
     "name": "stdout",
     "output_type": "stream",
     "text": [
      "downloading /n/data1/hms/neurobio/sabatini/rich/analysis/make_dFoF_and_tqm/mouse_0403L/20230702/jobNum_0/iscell_tqm.npy   to   /media/rich/bigSSD/analysis_data/face_rhythm/mouse_0403L/dFoF_and_tqm/20230702/jobNum_0/iscell_tqm.npy\n"
     ]
    },
    {
     "name": "stderr",
     "output_type": "stream",
     "text": [
      "0.00b [00:00, ?b/s]\n"
     ]
    },
    {
     "name": "stdout",
     "output_type": "stream",
     "text": [
      "downloading /n/data1/hms/neurobio/sabatini/rich/analysis/make_dFoF_and_tqm/mouse_0403L/20230702/jobNum_0/print_log_16805736.log   to   /media/rich/bigSSD/analysis_data/face_rhythm/mouse_0403L/dFoF_and_tqm/20230702/jobNum_0/print_log_16805736.log\n"
     ]
    },
    {
     "name": "stderr",
     "output_type": "stream",
     "text": [
      "0.00b [00:00, ?b/s]\n"
     ]
    },
    {
     "name": "stdout",
     "output_type": "stream",
     "text": [
      "downloading /n/data1/hms/neurobio/sabatini/rich/analysis/make_dFoF_and_tqm/mouse_0403L/20230702/jobNum_0/sbatch_config.sh   to   /media/rich/bigSSD/analysis_data/face_rhythm/mouse_0403L/dFoF_and_tqm/20230702/jobNum_0/sbatch_config.sh\n"
     ]
    },
    {
     "name": "stderr",
     "output_type": "stream",
     "text": [
      "0.00b [00:00, ?b/s]\n"
     ]
    },
    {
     "name": "stdout",
     "output_type": "stream",
     "text": [
      "downloading /n/data1/hms/neurobio/sabatini/rich/analysis/make_dFoF_and_tqm/mouse_0403L/20230702/make_dFoF_and_tqm.py   to   /media/rich/bigSSD/analysis_data/face_rhythm/mouse_0403L/dFoF_and_tqm/20230702/make_dFoF_and_tqm.py\n"
     ]
    },
    {
     "name": "stderr",
     "output_type": "stream",
     "text": [
      "0.00b [00:00, ?b/s]\n"
     ]
    },
    {
     "name": "stdout",
     "output_type": "stream",
     "text": [
      "downloading /n/data1/hms/neurobio/sabatini/rich/analysis/make_dFoF_and_tqm/mouse_0403L/20230702/dispatcher.py   to   /media/rich/bigSSD/analysis_data/face_rhythm/mouse_0403L/dFoF_and_tqm/20230702/dispatcher.py\n"
     ]
    },
    {
     "name": "stderr",
     "output_type": "stream",
     "text": [
      "0.00b [00:00, ?b/s]\n"
     ]
    },
    {
     "name": "stdout",
     "output_type": "stream",
     "text": [
      "downloading /n/data1/hms/neurobio/sabatini/rich/analysis/make_dFoF_and_tqm/mouse_0403L/20230702/notes.txt   to   /media/rich/bigSSD/analysis_data/face_rhythm/mouse_0403L/dFoF_and_tqm/20230702/notes.txt\n"
     ]
    },
    {
     "name": "stderr",
     "output_type": "stream",
     "text": [
      "0.00b [00:00, ?b/s]\n"
     ]
    },
    {
     "name": "stdout",
     "output_type": "stream",
     "text": [
      "downloading /n/data1/hms/neurobio/sabatini/rich/analysis/make_dFoF_and_tqm/mouse_0403L/20230728/parameters_batch.json   to   /media/rich/bigSSD/analysis_data/face_rhythm/mouse_0403L/dFoF_and_tqm/20230728/parameters_batch.json\n"
     ]
    },
    {
     "name": "stderr",
     "output_type": "stream",
     "text": [
      "0.00b [00:00, ?b/s]\n"
     ]
    },
    {
     "name": "stdout",
     "output_type": "stream",
     "text": [
      "downloading /n/data1/hms/neurobio/sabatini/rich/analysis/make_dFoF_and_tqm/mouse_0403L/20230728/jobNum_0/tqm.pkl   to   /media/rich/bigSSD/analysis_data/face_rhythm/mouse_0403L/dFoF_and_tqm/20230728/jobNum_0/tqm.pkl\n"
     ]
    },
    {
     "name": "stderr",
     "output_type": "stream",
     "text": [
      "0.00b [00:00, ?b/s]\n"
     ]
    },
    {
     "name": "stdout",
     "output_type": "stream",
     "text": [
      "downloading /n/data1/hms/neurobio/sabatini/rich/analysis/make_dFoF_and_tqm/mouse_0403L/20230728/jobNum_0/params.json   to   /media/rich/bigSSD/analysis_data/face_rhythm/mouse_0403L/dFoF_and_tqm/20230728/jobNum_0/params.json\n"
     ]
    },
    {
     "name": "stderr",
     "output_type": "stream",
     "text": [
      "0.00b [00:00, ?b/s]\n"
     ]
    },
    {
     "name": "stdout",
     "output_type": "stream",
     "text": [
      "downloading /n/data1/hms/neurobio/sabatini/rich/analysis/make_dFoF_and_tqm/mouse_0403L/20230728/jobNum_0/dFoF.npy   to   /media/rich/bigSSD/analysis_data/face_rhythm/mouse_0403L/dFoF_and_tqm/20230728/jobNum_0/dFoF.npy\n"
     ]
    },
    {
     "name": "stderr",
     "output_type": "stream",
     "text": [
      "0.00b [00:25, ?b/s]\n"
     ]
    },
    {
     "name": "stdout",
     "output_type": "stream",
     "text": [
      "downloading /n/data1/hms/neurobio/sabatini/rich/analysis/make_dFoF_and_tqm/mouse_0403L/20230728/jobNum_0/make_dFoF_and_tqm.py   to   /media/rich/bigSSD/analysis_data/face_rhythm/mouse_0403L/dFoF_and_tqm/20230728/jobNum_0/make_dFoF_and_tqm.py\n"
     ]
    },
    {
     "name": "stderr",
     "output_type": "stream",
     "text": [
      "0.00b [00:00, ?b/s]\n"
     ]
    },
    {
     "name": "stdout",
     "output_type": "stream",
     "text": [
      "downloading /n/data1/hms/neurobio/sabatini/rich/analysis/make_dFoF_and_tqm/mouse_0403L/20230728/jobNum_0/print_log_16805918.log   to   /media/rich/bigSSD/analysis_data/face_rhythm/mouse_0403L/dFoF_and_tqm/20230728/jobNum_0/print_log_16805918.log\n"
     ]
    },
    {
     "name": "stderr",
     "output_type": "stream",
     "text": [
      "0.00b [00:00, ?b/s]\n"
     ]
    },
    {
     "name": "stdout",
     "output_type": "stream",
     "text": [
      "downloading /n/data1/hms/neurobio/sabatini/rich/analysis/make_dFoF_and_tqm/mouse_0403L/20230728/jobNum_0/iscell_tqm.npy   to   /media/rich/bigSSD/analysis_data/face_rhythm/mouse_0403L/dFoF_and_tqm/20230728/jobNum_0/iscell_tqm.npy\n"
     ]
    },
    {
     "name": "stderr",
     "output_type": "stream",
     "text": [
      "0.00b [00:00, ?b/s]\n"
     ]
    },
    {
     "name": "stdout",
     "output_type": "stream",
     "text": [
      "downloading /n/data1/hms/neurobio/sabatini/rich/analysis/make_dFoF_and_tqm/mouse_0403L/20230728/jobNum_0/sbatch_config.sh   to   /media/rich/bigSSD/analysis_data/face_rhythm/mouse_0403L/dFoF_and_tqm/20230728/jobNum_0/sbatch_config.sh\n"
     ]
    },
    {
     "name": "stderr",
     "output_type": "stream",
     "text": [
      "0.00b [00:00, ?b/s]\n"
     ]
    },
    {
     "name": "stdout",
     "output_type": "stream",
     "text": [
      "downloading /n/data1/hms/neurobio/sabatini/rich/analysis/make_dFoF_and_tqm/mouse_0403L/20230728/make_dFoF_and_tqm.py   to   /media/rich/bigSSD/analysis_data/face_rhythm/mouse_0403L/dFoF_and_tqm/20230728/make_dFoF_and_tqm.py\n"
     ]
    },
    {
     "name": "stderr",
     "output_type": "stream",
     "text": [
      "0.00b [00:00, ?b/s]\n"
     ]
    },
    {
     "name": "stdout",
     "output_type": "stream",
     "text": [
      "downloading /n/data1/hms/neurobio/sabatini/rich/analysis/make_dFoF_and_tqm/mouse_0403L/20230728/dispatcher.py   to   /media/rich/bigSSD/analysis_data/face_rhythm/mouse_0403L/dFoF_and_tqm/20230728/dispatcher.py\n"
     ]
    },
    {
     "name": "stderr",
     "output_type": "stream",
     "text": [
      "0.00b [00:00, ?b/s]\n"
     ]
    },
    {
     "name": "stdout",
     "output_type": "stream",
     "text": [
      "downloading /n/data1/hms/neurobio/sabatini/rich/analysis/make_dFoF_and_tqm/mouse_0403L/20230728/notes.txt   to   /media/rich/bigSSD/analysis_data/face_rhythm/mouse_0403L/dFoF_and_tqm/20230728/notes.txt\n"
     ]
    },
    {
     "name": "stderr",
     "output_type": "stream",
     "text": [
      "0.00b [00:00, ?b/s]\n"
     ]
    },
    {
     "name": "stdout",
     "output_type": "stream",
     "text": [
      "downloading /n/data1/hms/neurobio/sabatini/rich/analysis/make_dFoF_and_tqm/mouse_0403L/20230703/parameters_batch.json   to   /media/rich/bigSSD/analysis_data/face_rhythm/mouse_0403L/dFoF_and_tqm/20230703/parameters_batch.json\n"
     ]
    },
    {
     "name": "stderr",
     "output_type": "stream",
     "text": [
      "0.00b [00:00, ?b/s]\n"
     ]
    },
    {
     "name": "stdout",
     "output_type": "stream",
     "text": [
      "downloading /n/data1/hms/neurobio/sabatini/rich/analysis/make_dFoF_and_tqm/mouse_0403L/20230703/jobNum_0/tqm.pkl   to   /media/rich/bigSSD/analysis_data/face_rhythm/mouse_0403L/dFoF_and_tqm/20230703/jobNum_0/tqm.pkl\n"
     ]
    },
    {
     "name": "stderr",
     "output_type": "stream",
     "text": [
      "0.00b [00:00, ?b/s]\n"
     ]
    },
    {
     "name": "stdout",
     "output_type": "stream",
     "text": [
      "downloading /n/data1/hms/neurobio/sabatini/rich/analysis/make_dFoF_and_tqm/mouse_0403L/20230703/jobNum_0/params.json   to   /media/rich/bigSSD/analysis_data/face_rhythm/mouse_0403L/dFoF_and_tqm/20230703/jobNum_0/params.json\n"
     ]
    },
    {
     "name": "stderr",
     "output_type": "stream",
     "text": [
      "0.00b [00:00, ?b/s]\n"
     ]
    },
    {
     "name": "stdout",
     "output_type": "stream",
     "text": [
      "downloading /n/data1/hms/neurobio/sabatini/rich/analysis/make_dFoF_and_tqm/mouse_0403L/20230703/jobNum_0/dFoF.npy   to   /media/rich/bigSSD/analysis_data/face_rhythm/mouse_0403L/dFoF_and_tqm/20230703/jobNum_0/dFoF.npy\n"
     ]
    },
    {
     "name": "stderr",
     "output_type": "stream",
     "text": [
      "0.00b [00:23, ?b/s]\n"
     ]
    },
    {
     "name": "stdout",
     "output_type": "stream",
     "text": [
      "downloading /n/data1/hms/neurobio/sabatini/rich/analysis/make_dFoF_and_tqm/mouse_0403L/20230703/jobNum_0/print_log_16805739.log   to   /media/rich/bigSSD/analysis_data/face_rhythm/mouse_0403L/dFoF_and_tqm/20230703/jobNum_0/print_log_16805739.log\n"
     ]
    },
    {
     "name": "stderr",
     "output_type": "stream",
     "text": [
      "0.00b [00:00, ?b/s]\n"
     ]
    },
    {
     "name": "stdout",
     "output_type": "stream",
     "text": [
      "downloading /n/data1/hms/neurobio/sabatini/rich/analysis/make_dFoF_and_tqm/mouse_0403L/20230703/jobNum_0/make_dFoF_and_tqm.py   to   /media/rich/bigSSD/analysis_data/face_rhythm/mouse_0403L/dFoF_and_tqm/20230703/jobNum_0/make_dFoF_and_tqm.py\n"
     ]
    },
    {
     "name": "stderr",
     "output_type": "stream",
     "text": [
      "0.00b [00:00, ?b/s]\n"
     ]
    },
    {
     "name": "stdout",
     "output_type": "stream",
     "text": [
      "downloading /n/data1/hms/neurobio/sabatini/rich/analysis/make_dFoF_and_tqm/mouse_0403L/20230703/jobNum_0/iscell_tqm.npy   to   /media/rich/bigSSD/analysis_data/face_rhythm/mouse_0403L/dFoF_and_tqm/20230703/jobNum_0/iscell_tqm.npy\n"
     ]
    },
    {
     "name": "stderr",
     "output_type": "stream",
     "text": [
      "0.00b [00:00, ?b/s]\n"
     ]
    },
    {
     "name": "stdout",
     "output_type": "stream",
     "text": [
      "downloading /n/data1/hms/neurobio/sabatini/rich/analysis/make_dFoF_and_tqm/mouse_0403L/20230703/jobNum_0/sbatch_config.sh   to   /media/rich/bigSSD/analysis_data/face_rhythm/mouse_0403L/dFoF_and_tqm/20230703/jobNum_0/sbatch_config.sh\n"
     ]
    },
    {
     "name": "stderr",
     "output_type": "stream",
     "text": [
      "0.00b [00:00, ?b/s]\n"
     ]
    },
    {
     "name": "stdout",
     "output_type": "stream",
     "text": [
      "downloading /n/data1/hms/neurobio/sabatini/rich/analysis/make_dFoF_and_tqm/mouse_0403L/20230703/make_dFoF_and_tqm.py   to   /media/rich/bigSSD/analysis_data/face_rhythm/mouse_0403L/dFoF_and_tqm/20230703/make_dFoF_and_tqm.py\n"
     ]
    },
    {
     "name": "stderr",
     "output_type": "stream",
     "text": [
      "0.00b [00:00, ?b/s]\n"
     ]
    },
    {
     "name": "stdout",
     "output_type": "stream",
     "text": [
      "downloading /n/data1/hms/neurobio/sabatini/rich/analysis/make_dFoF_and_tqm/mouse_0403L/20230703/dispatcher.py   to   /media/rich/bigSSD/analysis_data/face_rhythm/mouse_0403L/dFoF_and_tqm/20230703/dispatcher.py\n"
     ]
    },
    {
     "name": "stderr",
     "output_type": "stream",
     "text": [
      "0.00b [00:00, ?b/s]\n"
     ]
    },
    {
     "name": "stdout",
     "output_type": "stream",
     "text": [
      "downloading /n/data1/hms/neurobio/sabatini/rich/analysis/make_dFoF_and_tqm/mouse_0403L/20230703/notes.txt   to   /media/rich/bigSSD/analysis_data/face_rhythm/mouse_0403L/dFoF_and_tqm/20230703/notes.txt\n"
     ]
    },
    {
     "name": "stderr",
     "output_type": "stream",
     "text": [
      "0.00b [00:00, ?b/s]\n"
     ]
    },
    {
     "name": "stdout",
     "output_type": "stream",
     "text": [
      "downloading /n/data1/hms/neurobio/sabatini/rich/analysis/make_dFoF_and_tqm/mouse_0403L/20230801/parameters_batch.json   to   /media/rich/bigSSD/analysis_data/face_rhythm/mouse_0403L/dFoF_and_tqm/20230801/parameters_batch.json\n"
     ]
    },
    {
     "name": "stderr",
     "output_type": "stream",
     "text": [
      "0.00b [00:00, ?b/s]\n"
     ]
    },
    {
     "name": "stdout",
     "output_type": "stream",
     "text": [
      "downloading /n/data1/hms/neurobio/sabatini/rich/analysis/make_dFoF_and_tqm/mouse_0403L/20230801/jobNum_0/tqm.pkl   to   /media/rich/bigSSD/analysis_data/face_rhythm/mouse_0403L/dFoF_and_tqm/20230801/jobNum_0/tqm.pkl\n"
     ]
    },
    {
     "name": "stderr",
     "output_type": "stream",
     "text": [
      "0.00b [00:00, ?b/s]\n"
     ]
    },
    {
     "name": "stdout",
     "output_type": "stream",
     "text": [
      "downloading /n/data1/hms/neurobio/sabatini/rich/analysis/make_dFoF_and_tqm/mouse_0403L/20230801/jobNum_0/params.json   to   /media/rich/bigSSD/analysis_data/face_rhythm/mouse_0403L/dFoF_and_tqm/20230801/jobNum_0/params.json\n"
     ]
    },
    {
     "name": "stderr",
     "output_type": "stream",
     "text": [
      "0.00b [00:00, ?b/s]\n"
     ]
    },
    {
     "name": "stdout",
     "output_type": "stream",
     "text": [
      "downloading /n/data1/hms/neurobio/sabatini/rich/analysis/make_dFoF_and_tqm/mouse_0403L/20230801/jobNum_0/dFoF.npy   to   /media/rich/bigSSD/analysis_data/face_rhythm/mouse_0403L/dFoF_and_tqm/20230801/jobNum_0/dFoF.npy\n"
     ]
    },
    {
     "name": "stderr",
     "output_type": "stream",
     "text": [
      "0.00b [00:29, ?b/s]\n"
     ]
    },
    {
     "name": "stdout",
     "output_type": "stream",
     "text": [
      "downloading /n/data1/hms/neurobio/sabatini/rich/analysis/make_dFoF_and_tqm/mouse_0403L/20230801/jobNum_0/make_dFoF_and_tqm.py   to   /media/rich/bigSSD/analysis_data/face_rhythm/mouse_0403L/dFoF_and_tqm/20230801/jobNum_0/make_dFoF_and_tqm.py\n"
     ]
    },
    {
     "name": "stderr",
     "output_type": "stream",
     "text": [
      "0.00b [00:00, ?b/s]\n"
     ]
    },
    {
     "name": "stdout",
     "output_type": "stream",
     "text": [
      "downloading /n/data1/hms/neurobio/sabatini/rich/analysis/make_dFoF_and_tqm/mouse_0403L/20230801/jobNum_0/iscell_tqm.npy   to   /media/rich/bigSSD/analysis_data/face_rhythm/mouse_0403L/dFoF_and_tqm/20230801/jobNum_0/iscell_tqm.npy\n"
     ]
    },
    {
     "name": "stderr",
     "output_type": "stream",
     "text": [
      "0.00b [00:00, ?b/s]\n"
     ]
    },
    {
     "name": "stdout",
     "output_type": "stream",
     "text": [
      "downloading /n/data1/hms/neurobio/sabatini/rich/analysis/make_dFoF_and_tqm/mouse_0403L/20230801/jobNum_0/sbatch_config.sh   to   /media/rich/bigSSD/analysis_data/face_rhythm/mouse_0403L/dFoF_and_tqm/20230801/jobNum_0/sbatch_config.sh\n"
     ]
    },
    {
     "name": "stderr",
     "output_type": "stream",
     "text": [
      "0.00b [00:00, ?b/s]\n"
     ]
    },
    {
     "name": "stdout",
     "output_type": "stream",
     "text": [
      "downloading /n/data1/hms/neurobio/sabatini/rich/analysis/make_dFoF_and_tqm/mouse_0403L/20230801/jobNum_0/print_log_16805933.log   to   /media/rich/bigSSD/analysis_data/face_rhythm/mouse_0403L/dFoF_and_tqm/20230801/jobNum_0/print_log_16805933.log\n"
     ]
    },
    {
     "name": "stderr",
     "output_type": "stream",
     "text": [
      "0.00b [00:00, ?b/s]\n"
     ]
    },
    {
     "name": "stdout",
     "output_type": "stream",
     "text": [
      "downloading /n/data1/hms/neurobio/sabatini/rich/analysis/make_dFoF_and_tqm/mouse_0403L/20230801/make_dFoF_and_tqm.py   to   /media/rich/bigSSD/analysis_data/face_rhythm/mouse_0403L/dFoF_and_tqm/20230801/make_dFoF_and_tqm.py\n"
     ]
    },
    {
     "name": "stderr",
     "output_type": "stream",
     "text": [
      "0.00b [00:00, ?b/s]\n"
     ]
    },
    {
     "name": "stdout",
     "output_type": "stream",
     "text": [
      "downloading /n/data1/hms/neurobio/sabatini/rich/analysis/make_dFoF_and_tqm/mouse_0403L/20230801/dispatcher.py   to   /media/rich/bigSSD/analysis_data/face_rhythm/mouse_0403L/dFoF_and_tqm/20230801/dispatcher.py\n"
     ]
    },
    {
     "name": "stderr",
     "output_type": "stream",
     "text": [
      "0.00b [00:00, ?b/s]\n"
     ]
    },
    {
     "name": "stdout",
     "output_type": "stream",
     "text": [
      "downloading /n/data1/hms/neurobio/sabatini/rich/analysis/make_dFoF_and_tqm/mouse_0403L/20230801/notes.txt   to   /media/rich/bigSSD/analysis_data/face_rhythm/mouse_0403L/dFoF_and_tqm/20230801/notes.txt\n"
     ]
    },
    {
     "name": "stderr",
     "output_type": "stream",
     "text": [
      "0.00b [00:00, ?b/s]\n"
     ]
    },
    {
     "name": "stdout",
     "output_type": "stream",
     "text": [
      "downloading /n/data1/hms/neurobio/sabatini/rich/analysis/make_dFoF_and_tqm/mouse_0403L/20230731/parameters_batch.json   to   /media/rich/bigSSD/analysis_data/face_rhythm/mouse_0403L/dFoF_and_tqm/20230731/parameters_batch.json\n"
     ]
    },
    {
     "name": "stderr",
     "output_type": "stream",
     "text": [
      "0.00b [00:00, ?b/s]\n"
     ]
    },
    {
     "name": "stdout",
     "output_type": "stream",
     "text": [
      "downloading /n/data1/hms/neurobio/sabatini/rich/analysis/make_dFoF_and_tqm/mouse_0403L/20230731/jobNum_0/print_log_16805924.log   to   /media/rich/bigSSD/analysis_data/face_rhythm/mouse_0403L/dFoF_and_tqm/20230731/jobNum_0/print_log_16805924.log\n"
     ]
    },
    {
     "name": "stderr",
     "output_type": "stream",
     "text": [
      "0.00b [00:00, ?b/s]\n"
     ]
    },
    {
     "name": "stdout",
     "output_type": "stream",
     "text": [
      "downloading /n/data1/hms/neurobio/sabatini/rich/analysis/make_dFoF_and_tqm/mouse_0403L/20230731/jobNum_0/tqm.pkl   to   /media/rich/bigSSD/analysis_data/face_rhythm/mouse_0403L/dFoF_and_tqm/20230731/jobNum_0/tqm.pkl\n"
     ]
    },
    {
     "name": "stderr",
     "output_type": "stream",
     "text": [
      "0.00b [00:00, ?b/s]\n"
     ]
    },
    {
     "name": "stdout",
     "output_type": "stream",
     "text": [
      "downloading /n/data1/hms/neurobio/sabatini/rich/analysis/make_dFoF_and_tqm/mouse_0403L/20230731/jobNum_0/params.json   to   /media/rich/bigSSD/analysis_data/face_rhythm/mouse_0403L/dFoF_and_tqm/20230731/jobNum_0/params.json\n"
     ]
    },
    {
     "name": "stderr",
     "output_type": "stream",
     "text": [
      "0.00b [00:00, ?b/s]\n"
     ]
    },
    {
     "name": "stdout",
     "output_type": "stream",
     "text": [
      "downloading /n/data1/hms/neurobio/sabatini/rich/analysis/make_dFoF_and_tqm/mouse_0403L/20230731/jobNum_0/dFoF.npy   to   /media/rich/bigSSD/analysis_data/face_rhythm/mouse_0403L/dFoF_and_tqm/20230731/jobNum_0/dFoF.npy\n"
     ]
    },
    {
     "name": "stderr",
     "output_type": "stream",
     "text": [
      "0.00b [00:26, ?b/s]\n"
     ]
    },
    {
     "name": "stdout",
     "output_type": "stream",
     "text": [
      "downloading /n/data1/hms/neurobio/sabatini/rich/analysis/make_dFoF_and_tqm/mouse_0403L/20230731/jobNum_0/make_dFoF_and_tqm.py   to   /media/rich/bigSSD/analysis_data/face_rhythm/mouse_0403L/dFoF_and_tqm/20230731/jobNum_0/make_dFoF_and_tqm.py\n"
     ]
    },
    {
     "name": "stderr",
     "output_type": "stream",
     "text": [
      "0.00b [00:00, ?b/s]\n"
     ]
    },
    {
     "name": "stdout",
     "output_type": "stream",
     "text": [
      "downloading /n/data1/hms/neurobio/sabatini/rich/analysis/make_dFoF_and_tqm/mouse_0403L/20230731/jobNum_0/iscell_tqm.npy   to   /media/rich/bigSSD/analysis_data/face_rhythm/mouse_0403L/dFoF_and_tqm/20230731/jobNum_0/iscell_tqm.npy\n"
     ]
    },
    {
     "name": "stderr",
     "output_type": "stream",
     "text": [
      "0.00b [00:00, ?b/s]\n"
     ]
    },
    {
     "name": "stdout",
     "output_type": "stream",
     "text": [
      "downloading /n/data1/hms/neurobio/sabatini/rich/analysis/make_dFoF_and_tqm/mouse_0403L/20230731/jobNum_0/sbatch_config.sh   to   /media/rich/bigSSD/analysis_data/face_rhythm/mouse_0403L/dFoF_and_tqm/20230731/jobNum_0/sbatch_config.sh\n"
     ]
    },
    {
     "name": "stderr",
     "output_type": "stream",
     "text": [
      "0.00b [00:00, ?b/s]\n"
     ]
    },
    {
     "name": "stdout",
     "output_type": "stream",
     "text": [
      "downloading /n/data1/hms/neurobio/sabatini/rich/analysis/make_dFoF_and_tqm/mouse_0403L/20230731/make_dFoF_and_tqm.py   to   /media/rich/bigSSD/analysis_data/face_rhythm/mouse_0403L/dFoF_and_tqm/20230731/make_dFoF_and_tqm.py\n"
     ]
    },
    {
     "name": "stderr",
     "output_type": "stream",
     "text": [
      "0.00b [00:00, ?b/s]\n"
     ]
    },
    {
     "name": "stdout",
     "output_type": "stream",
     "text": [
      "downloading /n/data1/hms/neurobio/sabatini/rich/analysis/make_dFoF_and_tqm/mouse_0403L/20230731/dispatcher.py   to   /media/rich/bigSSD/analysis_data/face_rhythm/mouse_0403L/dFoF_and_tqm/20230731/dispatcher.py\n"
     ]
    },
    {
     "name": "stderr",
     "output_type": "stream",
     "text": [
      "0.00b [00:00, ?b/s]\n"
     ]
    },
    {
     "name": "stdout",
     "output_type": "stream",
     "text": [
      "downloading /n/data1/hms/neurobio/sabatini/rich/analysis/make_dFoF_and_tqm/mouse_0403L/20230731/notes.txt   to   /media/rich/bigSSD/analysis_data/face_rhythm/mouse_0403L/dFoF_and_tqm/20230731/notes.txt\n"
     ]
    },
    {
     "name": "stderr",
     "output_type": "stream",
     "text": [
      "0.00b [00:00, ?b/s]\n"
     ]
    },
    {
     "name": "stdout",
     "output_type": "stream",
     "text": [
      "downloading /n/data1/hms/neurobio/sabatini/rich/analysis/make_dFoF_and_tqm/mouse_0403L/20230724/parameters_batch.json   to   /media/rich/bigSSD/analysis_data/face_rhythm/mouse_0403L/dFoF_and_tqm/20230724/parameters_batch.json\n"
     ]
    },
    {
     "name": "stderr",
     "output_type": "stream",
     "text": [
      "0.00b [00:00, ?b/s]\n"
     ]
    },
    {
     "name": "stdout",
     "output_type": "stream",
     "text": [
      "downloading /n/data1/hms/neurobio/sabatini/rich/analysis/make_dFoF_and_tqm/mouse_0403L/20230724/jobNum_0/tqm.pkl   to   /media/rich/bigSSD/analysis_data/face_rhythm/mouse_0403L/dFoF_and_tqm/20230724/jobNum_0/tqm.pkl\n"
     ]
    },
    {
     "name": "stderr",
     "output_type": "stream",
     "text": [
      "0.00b [00:00, ?b/s]\n"
     ]
    },
    {
     "name": "stdout",
     "output_type": "stream",
     "text": [
      "downloading /n/data1/hms/neurobio/sabatini/rich/analysis/make_dFoF_and_tqm/mouse_0403L/20230724/jobNum_0/params.json   to   /media/rich/bigSSD/analysis_data/face_rhythm/mouse_0403L/dFoF_and_tqm/20230724/jobNum_0/params.json\n"
     ]
    },
    {
     "name": "stderr",
     "output_type": "stream",
     "text": [
      "0.00b [00:00, ?b/s]\n"
     ]
    },
    {
     "name": "stdout",
     "output_type": "stream",
     "text": [
      "downloading /n/data1/hms/neurobio/sabatini/rich/analysis/make_dFoF_and_tqm/mouse_0403L/20230724/jobNum_0/dFoF.npy   to   /media/rich/bigSSD/analysis_data/face_rhythm/mouse_0403L/dFoF_and_tqm/20230724/jobNum_0/dFoF.npy\n"
     ]
    },
    {
     "name": "stderr",
     "output_type": "stream",
     "text": [
      "0.00b [00:27, ?b/s]\n"
     ]
    },
    {
     "name": "stdout",
     "output_type": "stream",
     "text": [
      "downloading /n/data1/hms/neurobio/sabatini/rich/analysis/make_dFoF_and_tqm/mouse_0403L/20230724/jobNum_0/make_dFoF_and_tqm.py   to   /media/rich/bigSSD/analysis_data/face_rhythm/mouse_0403L/dFoF_and_tqm/20230724/jobNum_0/make_dFoF_and_tqm.py\n"
     ]
    },
    {
     "name": "stderr",
     "output_type": "stream",
     "text": [
      "0.00b [00:00, ?b/s]\n"
     ]
    },
    {
     "name": "stdout",
     "output_type": "stream",
     "text": [
      "downloading /n/data1/hms/neurobio/sabatini/rich/analysis/make_dFoF_and_tqm/mouse_0403L/20230724/jobNum_0/iscell_tqm.npy   to   /media/rich/bigSSD/analysis_data/face_rhythm/mouse_0403L/dFoF_and_tqm/20230724/jobNum_0/iscell_tqm.npy\n"
     ]
    },
    {
     "name": "stderr",
     "output_type": "stream",
     "text": [
      "0.00b [00:00, ?b/s]\n"
     ]
    },
    {
     "name": "stdout",
     "output_type": "stream",
     "text": [
      "downloading /n/data1/hms/neurobio/sabatini/rich/analysis/make_dFoF_and_tqm/mouse_0403L/20230724/jobNum_0/sbatch_config.sh   to   /media/rich/bigSSD/analysis_data/face_rhythm/mouse_0403L/dFoF_and_tqm/20230724/jobNum_0/sbatch_config.sh\n"
     ]
    },
    {
     "name": "stderr",
     "output_type": "stream",
     "text": [
      "0.00b [00:00, ?b/s]\n"
     ]
    },
    {
     "name": "stdout",
     "output_type": "stream",
     "text": [
      "downloading /n/data1/hms/neurobio/sabatini/rich/analysis/make_dFoF_and_tqm/mouse_0403L/20230724/jobNum_0/print_log_16805875.log   to   /media/rich/bigSSD/analysis_data/face_rhythm/mouse_0403L/dFoF_and_tqm/20230724/jobNum_0/print_log_16805875.log\n"
     ]
    },
    {
     "name": "stderr",
     "output_type": "stream",
     "text": [
      "0.00b [00:00, ?b/s]\n"
     ]
    },
    {
     "name": "stdout",
     "output_type": "stream",
     "text": [
      "downloading /n/data1/hms/neurobio/sabatini/rich/analysis/make_dFoF_and_tqm/mouse_0403L/20230724/make_dFoF_and_tqm.py   to   /media/rich/bigSSD/analysis_data/face_rhythm/mouse_0403L/dFoF_and_tqm/20230724/make_dFoF_and_tqm.py\n"
     ]
    },
    {
     "name": "stderr",
     "output_type": "stream",
     "text": [
      "0.00b [00:00, ?b/s]\n"
     ]
    },
    {
     "name": "stdout",
     "output_type": "stream",
     "text": [
      "downloading /n/data1/hms/neurobio/sabatini/rich/analysis/make_dFoF_and_tqm/mouse_0403L/20230724/dispatcher.py   to   /media/rich/bigSSD/analysis_data/face_rhythm/mouse_0403L/dFoF_and_tqm/20230724/dispatcher.py\n"
     ]
    },
    {
     "name": "stderr",
     "output_type": "stream",
     "text": [
      "0.00b [00:00, ?b/s]\n"
     ]
    },
    {
     "name": "stdout",
     "output_type": "stream",
     "text": [
      "downloading /n/data1/hms/neurobio/sabatini/rich/analysis/make_dFoF_and_tqm/mouse_0403L/20230724/notes.txt   to   /media/rich/bigSSD/analysis_data/face_rhythm/mouse_0403L/dFoF_and_tqm/20230724/notes.txt\n"
     ]
    },
    {
     "name": "stderr",
     "output_type": "stream",
     "text": [
      "0.00b [00:00, ?b/s]\n"
     ]
    },
    {
     "name": "stdout",
     "output_type": "stream",
     "text": [
      "downloading /n/data1/hms/neurobio/sabatini/rich/analysis/make_dFoF_and_tqm/mouse_0403L/20230710/parameters_batch.json   to   /media/rich/bigSSD/analysis_data/face_rhythm/mouse_0403L/dFoF_and_tqm/20230710/parameters_batch.json\n"
     ]
    },
    {
     "name": "stderr",
     "output_type": "stream",
     "text": [
      "0.00b [00:00, ?b/s]\n"
     ]
    },
    {
     "name": "stdout",
     "output_type": "stream",
     "text": [
      "downloading /n/data1/hms/neurobio/sabatini/rich/analysis/make_dFoF_and_tqm/mouse_0403L/20230710/jobNum_0/tqm.pkl   to   /media/rich/bigSSD/analysis_data/face_rhythm/mouse_0403L/dFoF_and_tqm/20230710/jobNum_0/tqm.pkl\n"
     ]
    },
    {
     "name": "stderr",
     "output_type": "stream",
     "text": [
      "0.00b [00:00, ?b/s]\n"
     ]
    },
    {
     "name": "stdout",
     "output_type": "stream",
     "text": [
      "downloading /n/data1/hms/neurobio/sabatini/rich/analysis/make_dFoF_and_tqm/mouse_0403L/20230710/jobNum_0/params.json   to   /media/rich/bigSSD/analysis_data/face_rhythm/mouse_0403L/dFoF_and_tqm/20230710/jobNum_0/params.json\n"
     ]
    },
    {
     "name": "stderr",
     "output_type": "stream",
     "text": [
      "0.00b [00:00, ?b/s]\n"
     ]
    },
    {
     "name": "stdout",
     "output_type": "stream",
     "text": [
      "downloading /n/data1/hms/neurobio/sabatini/rich/analysis/make_dFoF_and_tqm/mouse_0403L/20230710/jobNum_0/dFoF.npy   to   /media/rich/bigSSD/analysis_data/face_rhythm/mouse_0403L/dFoF_and_tqm/20230710/jobNum_0/dFoF.npy\n"
     ]
    },
    {
     "name": "stderr",
     "output_type": "stream",
     "text": [
      "0.00b [00:24, ?b/s]\n"
     ]
    },
    {
     "name": "stdout",
     "output_type": "stream",
     "text": [
      "downloading /n/data1/hms/neurobio/sabatini/rich/analysis/make_dFoF_and_tqm/mouse_0403L/20230710/jobNum_0/print_log_16805781.log   to   /media/rich/bigSSD/analysis_data/face_rhythm/mouse_0403L/dFoF_and_tqm/20230710/jobNum_0/print_log_16805781.log\n"
     ]
    },
    {
     "name": "stderr",
     "output_type": "stream",
     "text": [
      "0.00b [00:00, ?b/s]\n"
     ]
    },
    {
     "name": "stdout",
     "output_type": "stream",
     "text": [
      "downloading /n/data1/hms/neurobio/sabatini/rich/analysis/make_dFoF_and_tqm/mouse_0403L/20230710/jobNum_0/make_dFoF_and_tqm.py   to   /media/rich/bigSSD/analysis_data/face_rhythm/mouse_0403L/dFoF_and_tqm/20230710/jobNum_0/make_dFoF_and_tqm.py\n"
     ]
    },
    {
     "name": "stderr",
     "output_type": "stream",
     "text": [
      "0.00b [00:00, ?b/s]\n"
     ]
    },
    {
     "name": "stdout",
     "output_type": "stream",
     "text": [
      "downloading /n/data1/hms/neurobio/sabatini/rich/analysis/make_dFoF_and_tqm/mouse_0403L/20230710/jobNum_0/iscell_tqm.npy   to   /media/rich/bigSSD/analysis_data/face_rhythm/mouse_0403L/dFoF_and_tqm/20230710/jobNum_0/iscell_tqm.npy\n"
     ]
    },
    {
     "name": "stderr",
     "output_type": "stream",
     "text": [
      "0.00b [00:00, ?b/s]\n"
     ]
    },
    {
     "name": "stdout",
     "output_type": "stream",
     "text": [
      "downloading /n/data1/hms/neurobio/sabatini/rich/analysis/make_dFoF_and_tqm/mouse_0403L/20230710/jobNum_0/sbatch_config.sh   to   /media/rich/bigSSD/analysis_data/face_rhythm/mouse_0403L/dFoF_and_tqm/20230710/jobNum_0/sbatch_config.sh\n"
     ]
    },
    {
     "name": "stderr",
     "output_type": "stream",
     "text": [
      "0.00b [00:00, ?b/s]\n"
     ]
    },
    {
     "name": "stdout",
     "output_type": "stream",
     "text": [
      "downloading /n/data1/hms/neurobio/sabatini/rich/analysis/make_dFoF_and_tqm/mouse_0403L/20230710/make_dFoF_and_tqm.py   to   /media/rich/bigSSD/analysis_data/face_rhythm/mouse_0403L/dFoF_and_tqm/20230710/make_dFoF_and_tqm.py\n"
     ]
    },
    {
     "name": "stderr",
     "output_type": "stream",
     "text": [
      "0.00b [00:00, ?b/s]\n"
     ]
    },
    {
     "name": "stdout",
     "output_type": "stream",
     "text": [
      "downloading /n/data1/hms/neurobio/sabatini/rich/analysis/make_dFoF_and_tqm/mouse_0403L/20230710/dispatcher.py   to   /media/rich/bigSSD/analysis_data/face_rhythm/mouse_0403L/dFoF_and_tqm/20230710/dispatcher.py\n"
     ]
    },
    {
     "name": "stderr",
     "output_type": "stream",
     "text": [
      "0.00b [00:00, ?b/s]\n"
     ]
    },
    {
     "name": "stdout",
     "output_type": "stream",
     "text": [
      "downloading /n/data1/hms/neurobio/sabatini/rich/analysis/make_dFoF_and_tqm/mouse_0403L/20230710/notes.txt   to   /media/rich/bigSSD/analysis_data/face_rhythm/mouse_0403L/dFoF_and_tqm/20230710/notes.txt\n"
     ]
    },
    {
     "name": "stderr",
     "output_type": "stream",
     "text": [
      "0.00b [00:00, ?b/s]\n"
     ]
    },
    {
     "name": "stdout",
     "output_type": "stream",
     "text": [
      "downloading /n/data1/hms/neurobio/sabatini/rich/analysis/make_dFoF_and_tqm/mouse_0403L/20230723/parameters_batch.json   to   /media/rich/bigSSD/analysis_data/face_rhythm/mouse_0403L/dFoF_and_tqm/20230723/parameters_batch.json\n"
     ]
    },
    {
     "name": "stderr",
     "output_type": "stream",
     "text": [
      "0.00b [00:00, ?b/s]\n"
     ]
    },
    {
     "name": "stdout",
     "output_type": "stream",
     "text": [
      "downloading /n/data1/hms/neurobio/sabatini/rich/analysis/make_dFoF_and_tqm/mouse_0403L/20230723/jobNum_0/tqm.pkl   to   /media/rich/bigSSD/analysis_data/face_rhythm/mouse_0403L/dFoF_and_tqm/20230723/jobNum_0/tqm.pkl\n"
     ]
    },
    {
     "name": "stderr",
     "output_type": "stream",
     "text": [
      "0.00b [00:00, ?b/s]\n"
     ]
    },
    {
     "name": "stdout",
     "output_type": "stream",
     "text": [
      "downloading /n/data1/hms/neurobio/sabatini/rich/analysis/make_dFoF_and_tqm/mouse_0403L/20230723/jobNum_0/params.json   to   /media/rich/bigSSD/analysis_data/face_rhythm/mouse_0403L/dFoF_and_tqm/20230723/jobNum_0/params.json\n"
     ]
    },
    {
     "name": "stderr",
     "output_type": "stream",
     "text": [
      "0.00b [00:00, ?b/s]\n"
     ]
    },
    {
     "name": "stdout",
     "output_type": "stream",
     "text": [
      "downloading /n/data1/hms/neurobio/sabatini/rich/analysis/make_dFoF_and_tqm/mouse_0403L/20230723/jobNum_0/dFoF.npy   to   /media/rich/bigSSD/analysis_data/face_rhythm/mouse_0403L/dFoF_and_tqm/20230723/jobNum_0/dFoF.npy\n"
     ]
    },
    {
     "name": "stderr",
     "output_type": "stream",
     "text": [
      "0.00b [00:29, ?b/s]\n"
     ]
    },
    {
     "name": "stdout",
     "output_type": "stream",
     "text": [
      "downloading /n/data1/hms/neurobio/sabatini/rich/analysis/make_dFoF_and_tqm/mouse_0403L/20230723/jobNum_0/print_log_16805865.log   to   /media/rich/bigSSD/analysis_data/face_rhythm/mouse_0403L/dFoF_and_tqm/20230723/jobNum_0/print_log_16805865.log\n"
     ]
    },
    {
     "name": "stderr",
     "output_type": "stream",
     "text": [
      "0.00b [00:00, ?b/s]\n"
     ]
    },
    {
     "name": "stdout",
     "output_type": "stream",
     "text": [
      "downloading /n/data1/hms/neurobio/sabatini/rich/analysis/make_dFoF_and_tqm/mouse_0403L/20230723/jobNum_0/make_dFoF_and_tqm.py   to   /media/rich/bigSSD/analysis_data/face_rhythm/mouse_0403L/dFoF_and_tqm/20230723/jobNum_0/make_dFoF_and_tqm.py\n"
     ]
    },
    {
     "name": "stderr",
     "output_type": "stream",
     "text": [
      "0.00b [00:00, ?b/s]\n"
     ]
    },
    {
     "name": "stdout",
     "output_type": "stream",
     "text": [
      "downloading /n/data1/hms/neurobio/sabatini/rich/analysis/make_dFoF_and_tqm/mouse_0403L/20230723/jobNum_0/iscell_tqm.npy   to   /media/rich/bigSSD/analysis_data/face_rhythm/mouse_0403L/dFoF_and_tqm/20230723/jobNum_0/iscell_tqm.npy\n"
     ]
    },
    {
     "name": "stderr",
     "output_type": "stream",
     "text": [
      "0.00b [00:00, ?b/s]\n"
     ]
    },
    {
     "name": "stdout",
     "output_type": "stream",
     "text": [
      "downloading /n/data1/hms/neurobio/sabatini/rich/analysis/make_dFoF_and_tqm/mouse_0403L/20230723/jobNum_0/sbatch_config.sh   to   /media/rich/bigSSD/analysis_data/face_rhythm/mouse_0403L/dFoF_and_tqm/20230723/jobNum_0/sbatch_config.sh\n"
     ]
    },
    {
     "name": "stderr",
     "output_type": "stream",
     "text": [
      "0.00b [00:00, ?b/s]\n"
     ]
    },
    {
     "name": "stdout",
     "output_type": "stream",
     "text": [
      "downloading /n/data1/hms/neurobio/sabatini/rich/analysis/make_dFoF_and_tqm/mouse_0403L/20230723/make_dFoF_and_tqm.py   to   /media/rich/bigSSD/analysis_data/face_rhythm/mouse_0403L/dFoF_and_tqm/20230723/make_dFoF_and_tqm.py\n"
     ]
    },
    {
     "name": "stderr",
     "output_type": "stream",
     "text": [
      "0.00b [00:00, ?b/s]\n"
     ]
    },
    {
     "name": "stdout",
     "output_type": "stream",
     "text": [
      "downloading /n/data1/hms/neurobio/sabatini/rich/analysis/make_dFoF_and_tqm/mouse_0403L/20230723/dispatcher.py   to   /media/rich/bigSSD/analysis_data/face_rhythm/mouse_0403L/dFoF_and_tqm/20230723/dispatcher.py\n"
     ]
    },
    {
     "name": "stderr",
     "output_type": "stream",
     "text": [
      "0.00b [00:00, ?b/s]\n"
     ]
    },
    {
     "name": "stdout",
     "output_type": "stream",
     "text": [
      "downloading /n/data1/hms/neurobio/sabatini/rich/analysis/make_dFoF_and_tqm/mouse_0403L/20230723/notes.txt   to   /media/rich/bigSSD/analysis_data/face_rhythm/mouse_0403L/dFoF_and_tqm/20230723/notes.txt\n"
     ]
    },
    {
     "name": "stderr",
     "output_type": "stream",
     "text": [
      "0.00b [00:00, ?b/s]\n"
     ]
    },
    {
     "name": "stdout",
     "output_type": "stream",
     "text": [
      "downloading /n/data1/hms/neurobio/sabatini/rich/analysis/make_dFoF_and_tqm/mouse_0403L/20230716/parameters_batch.json   to   /media/rich/bigSSD/analysis_data/face_rhythm/mouse_0403L/dFoF_and_tqm/20230716/parameters_batch.json\n"
     ]
    },
    {
     "name": "stderr",
     "output_type": "stream",
     "text": [
      "0.00b [00:00, ?b/s]\n"
     ]
    },
    {
     "name": "stdout",
     "output_type": "stream",
     "text": [
      "downloading /n/data1/hms/neurobio/sabatini/rich/analysis/make_dFoF_and_tqm/mouse_0403L/20230716/jobNum_0/tqm.pkl   to   /media/rich/bigSSD/analysis_data/face_rhythm/mouse_0403L/dFoF_and_tqm/20230716/jobNum_0/tqm.pkl\n"
     ]
    },
    {
     "name": "stderr",
     "output_type": "stream",
     "text": [
      "0.00b [00:00, ?b/s]\n"
     ]
    },
    {
     "name": "stdout",
     "output_type": "stream",
     "text": [
      "downloading /n/data1/hms/neurobio/sabatini/rich/analysis/make_dFoF_and_tqm/mouse_0403L/20230716/jobNum_0/params.json   to   /media/rich/bigSSD/analysis_data/face_rhythm/mouse_0403L/dFoF_and_tqm/20230716/jobNum_0/params.json\n"
     ]
    },
    {
     "name": "stderr",
     "output_type": "stream",
     "text": [
      "0.00b [00:00, ?b/s]\n"
     ]
    },
    {
     "name": "stdout",
     "output_type": "stream",
     "text": [
      "downloading /n/data1/hms/neurobio/sabatini/rich/analysis/make_dFoF_and_tqm/mouse_0403L/20230716/jobNum_0/dFoF.npy   to   /media/rich/bigSSD/analysis_data/face_rhythm/mouse_0403L/dFoF_and_tqm/20230716/jobNum_0/dFoF.npy\n"
     ]
    },
    {
     "name": "stderr",
     "output_type": "stream",
     "text": [
      "0.00b [00:34, ?b/s]\n"
     ]
    },
    {
     "name": "stdout",
     "output_type": "stream",
     "text": [
      "downloading /n/data1/hms/neurobio/sabatini/rich/analysis/make_dFoF_and_tqm/mouse_0403L/20230716/jobNum_0/print_log_16805837.log   to   /media/rich/bigSSD/analysis_data/face_rhythm/mouse_0403L/dFoF_and_tqm/20230716/jobNum_0/print_log_16805837.log\n"
     ]
    },
    {
     "name": "stderr",
     "output_type": "stream",
     "text": [
      "0.00b [00:00, ?b/s]\n"
     ]
    },
    {
     "name": "stdout",
     "output_type": "stream",
     "text": [
      "downloading /n/data1/hms/neurobio/sabatini/rich/analysis/make_dFoF_and_tqm/mouse_0403L/20230716/jobNum_0/make_dFoF_and_tqm.py   to   /media/rich/bigSSD/analysis_data/face_rhythm/mouse_0403L/dFoF_and_tqm/20230716/jobNum_0/make_dFoF_and_tqm.py\n"
     ]
    },
    {
     "name": "stderr",
     "output_type": "stream",
     "text": [
      "0.00b [00:00, ?b/s]\n"
     ]
    },
    {
     "name": "stdout",
     "output_type": "stream",
     "text": [
      "downloading /n/data1/hms/neurobio/sabatini/rich/analysis/make_dFoF_and_tqm/mouse_0403L/20230716/jobNum_0/iscell_tqm.npy   to   /media/rich/bigSSD/analysis_data/face_rhythm/mouse_0403L/dFoF_and_tqm/20230716/jobNum_0/iscell_tqm.npy\n"
     ]
    },
    {
     "name": "stderr",
     "output_type": "stream",
     "text": [
      "0.00b [00:00, ?b/s]\n"
     ]
    },
    {
     "name": "stdout",
     "output_type": "stream",
     "text": [
      "downloading /n/data1/hms/neurobio/sabatini/rich/analysis/make_dFoF_and_tqm/mouse_0403L/20230716/jobNum_0/sbatch_config.sh   to   /media/rich/bigSSD/analysis_data/face_rhythm/mouse_0403L/dFoF_and_tqm/20230716/jobNum_0/sbatch_config.sh\n"
     ]
    },
    {
     "name": "stderr",
     "output_type": "stream",
     "text": [
      "0.00b [00:00, ?b/s]\n"
     ]
    },
    {
     "name": "stdout",
     "output_type": "stream",
     "text": [
      "downloading /n/data1/hms/neurobio/sabatini/rich/analysis/make_dFoF_and_tqm/mouse_0403L/20230716/make_dFoF_and_tqm.py   to   /media/rich/bigSSD/analysis_data/face_rhythm/mouse_0403L/dFoF_and_tqm/20230716/make_dFoF_and_tqm.py\n"
     ]
    },
    {
     "name": "stderr",
     "output_type": "stream",
     "text": [
      "0.00b [00:00, ?b/s]\n"
     ]
    },
    {
     "name": "stdout",
     "output_type": "stream",
     "text": [
      "downloading /n/data1/hms/neurobio/sabatini/rich/analysis/make_dFoF_and_tqm/mouse_0403L/20230716/dispatcher.py   to   /media/rich/bigSSD/analysis_data/face_rhythm/mouse_0403L/dFoF_and_tqm/20230716/dispatcher.py\n"
     ]
    },
    {
     "name": "stderr",
     "output_type": "stream",
     "text": [
      "0.00b [00:00, ?b/s]\n"
     ]
    },
    {
     "name": "stdout",
     "output_type": "stream",
     "text": [
      "downloading /n/data1/hms/neurobio/sabatini/rich/analysis/make_dFoF_and_tqm/mouse_0403L/20230716/notes.txt   to   /media/rich/bigSSD/analysis_data/face_rhythm/mouse_0403L/dFoF_and_tqm/20230716/notes.txt\n"
     ]
    },
    {
     "name": "stderr",
     "output_type": "stream",
     "text": [
      "0.00b [00:00, ?b/s]\n"
     ]
    },
    {
     "name": "stdout",
     "output_type": "stream",
     "text": [
      "downloading /n/data1/hms/neurobio/sabatini/rich/analysis/make_dFoF_and_tqm/mouse_0403L/20230705/parameters_batch.json   to   /media/rich/bigSSD/analysis_data/face_rhythm/mouse_0403L/dFoF_and_tqm/20230705/parameters_batch.json\n"
     ]
    },
    {
     "name": "stderr",
     "output_type": "stream",
     "text": [
      "0.00b [00:00, ?b/s]\n"
     ]
    },
    {
     "name": "stdout",
     "output_type": "stream",
     "text": [
      "downloading /n/data1/hms/neurobio/sabatini/rich/analysis/make_dFoF_and_tqm/mouse_0403L/20230705/jobNum_0/print_log_16805748.log   to   /media/rich/bigSSD/analysis_data/face_rhythm/mouse_0403L/dFoF_and_tqm/20230705/jobNum_0/print_log_16805748.log\n"
     ]
    },
    {
     "name": "stderr",
     "output_type": "stream",
     "text": [
      "0.00b [00:00, ?b/s]\n"
     ]
    },
    {
     "name": "stdout",
     "output_type": "stream",
     "text": [
      "downloading /n/data1/hms/neurobio/sabatini/rich/analysis/make_dFoF_and_tqm/mouse_0403L/20230705/jobNum_0/tqm.pkl   to   /media/rich/bigSSD/analysis_data/face_rhythm/mouse_0403L/dFoF_and_tqm/20230705/jobNum_0/tqm.pkl\n"
     ]
    },
    {
     "name": "stderr",
     "output_type": "stream",
     "text": [
      "0.00b [00:00, ?b/s]\n"
     ]
    },
    {
     "name": "stdout",
     "output_type": "stream",
     "text": [
      "downloading /n/data1/hms/neurobio/sabatini/rich/analysis/make_dFoF_and_tqm/mouse_0403L/20230705/jobNum_0/params.json   to   /media/rich/bigSSD/analysis_data/face_rhythm/mouse_0403L/dFoF_and_tqm/20230705/jobNum_0/params.json\n"
     ]
    },
    {
     "name": "stderr",
     "output_type": "stream",
     "text": [
      "0.00b [00:00, ?b/s]\n"
     ]
    },
    {
     "name": "stdout",
     "output_type": "stream",
     "text": [
      "downloading /n/data1/hms/neurobio/sabatini/rich/analysis/make_dFoF_and_tqm/mouse_0403L/20230705/jobNum_0/dFoF.npy   to   /media/rich/bigSSD/analysis_data/face_rhythm/mouse_0403L/dFoF_and_tqm/20230705/jobNum_0/dFoF.npy\n"
     ]
    },
    {
     "name": "stderr",
     "output_type": "stream",
     "text": [
      "0.00b [00:28, ?b/s]\n"
     ]
    },
    {
     "name": "stdout",
     "output_type": "stream",
     "text": [
      "downloading /n/data1/hms/neurobio/sabatini/rich/analysis/make_dFoF_and_tqm/mouse_0403L/20230705/jobNum_0/make_dFoF_and_tqm.py   to   /media/rich/bigSSD/analysis_data/face_rhythm/mouse_0403L/dFoF_and_tqm/20230705/jobNum_0/make_dFoF_and_tqm.py\n"
     ]
    },
    {
     "name": "stderr",
     "output_type": "stream",
     "text": [
      "0.00b [00:00, ?b/s]\n"
     ]
    },
    {
     "name": "stdout",
     "output_type": "stream",
     "text": [
      "downloading /n/data1/hms/neurobio/sabatini/rich/analysis/make_dFoF_and_tqm/mouse_0403L/20230705/jobNum_0/iscell_tqm.npy   to   /media/rich/bigSSD/analysis_data/face_rhythm/mouse_0403L/dFoF_and_tqm/20230705/jobNum_0/iscell_tqm.npy\n"
     ]
    },
    {
     "name": "stderr",
     "output_type": "stream",
     "text": [
      "0.00b [00:00, ?b/s]\n"
     ]
    },
    {
     "name": "stdout",
     "output_type": "stream",
     "text": [
      "downloading /n/data1/hms/neurobio/sabatini/rich/analysis/make_dFoF_and_tqm/mouse_0403L/20230705/jobNum_0/sbatch_config.sh   to   /media/rich/bigSSD/analysis_data/face_rhythm/mouse_0403L/dFoF_and_tqm/20230705/jobNum_0/sbatch_config.sh\n"
     ]
    },
    {
     "name": "stderr",
     "output_type": "stream",
     "text": [
      "0.00b [00:00, ?b/s]\n"
     ]
    },
    {
     "name": "stdout",
     "output_type": "stream",
     "text": [
      "downloading /n/data1/hms/neurobio/sabatini/rich/analysis/make_dFoF_and_tqm/mouse_0403L/20230705/make_dFoF_and_tqm.py   to   /media/rich/bigSSD/analysis_data/face_rhythm/mouse_0403L/dFoF_and_tqm/20230705/make_dFoF_and_tqm.py\n"
     ]
    },
    {
     "name": "stderr",
     "output_type": "stream",
     "text": [
      "0.00b [00:00, ?b/s]\n"
     ]
    },
    {
     "name": "stdout",
     "output_type": "stream",
     "text": [
      "downloading /n/data1/hms/neurobio/sabatini/rich/analysis/make_dFoF_and_tqm/mouse_0403L/20230705/dispatcher.py   to   /media/rich/bigSSD/analysis_data/face_rhythm/mouse_0403L/dFoF_and_tqm/20230705/dispatcher.py\n"
     ]
    },
    {
     "name": "stderr",
     "output_type": "stream",
     "text": [
      "0.00b [00:00, ?b/s]\n"
     ]
    },
    {
     "name": "stdout",
     "output_type": "stream",
     "text": [
      "downloading /n/data1/hms/neurobio/sabatini/rich/analysis/make_dFoF_and_tqm/mouse_0403L/20230705/notes.txt   to   /media/rich/bigSSD/analysis_data/face_rhythm/mouse_0403L/dFoF_and_tqm/20230705/notes.txt\n"
     ]
    },
    {
     "name": "stderr",
     "output_type": "stream",
     "text": [
      "0.00b [00:00, ?b/s]\n"
     ]
    },
    {
     "name": "stdout",
     "output_type": "stream",
     "text": [
      "downloading /n/data1/hms/neurobio/sabatini/rich/analysis/make_dFoF_and_tqm/mouse_0403L/20230720/parameters_batch.json   to   /media/rich/bigSSD/analysis_data/face_rhythm/mouse_0403L/dFoF_and_tqm/20230720/parameters_batch.json\n"
     ]
    },
    {
     "name": "stderr",
     "output_type": "stream",
     "text": [
      "0.00b [00:00, ?b/s]\n"
     ]
    },
    {
     "name": "stdout",
     "output_type": "stream",
     "text": [
      "downloading /n/data1/hms/neurobio/sabatini/rich/analysis/make_dFoF_and_tqm/mouse_0403L/20230720/jobNum_0/tqm.pkl   to   /media/rich/bigSSD/analysis_data/face_rhythm/mouse_0403L/dFoF_and_tqm/20230720/jobNum_0/tqm.pkl\n"
     ]
    },
    {
     "name": "stderr",
     "output_type": "stream",
     "text": [
      "0.00b [00:00, ?b/s]\n"
     ]
    },
    {
     "name": "stdout",
     "output_type": "stream",
     "text": [
      "downloading /n/data1/hms/neurobio/sabatini/rich/analysis/make_dFoF_and_tqm/mouse_0403L/20230720/jobNum_0/params.json   to   /media/rich/bigSSD/analysis_data/face_rhythm/mouse_0403L/dFoF_and_tqm/20230720/jobNum_0/params.json\n"
     ]
    },
    {
     "name": "stderr",
     "output_type": "stream",
     "text": [
      "0.00b [00:00, ?b/s]\n"
     ]
    },
    {
     "name": "stdout",
     "output_type": "stream",
     "text": [
      "downloading /n/data1/hms/neurobio/sabatini/rich/analysis/make_dFoF_and_tqm/mouse_0403L/20230720/jobNum_0/dFoF.npy   to   /media/rich/bigSSD/analysis_data/face_rhythm/mouse_0403L/dFoF_and_tqm/20230720/jobNum_0/dFoF.npy\n"
     ]
    },
    {
     "name": "stderr",
     "output_type": "stream",
     "text": [
      "0.00b [00:28, ?b/s]\n"
     ]
    },
    {
     "name": "stdout",
     "output_type": "stream",
     "text": [
      "downloading /n/data1/hms/neurobio/sabatini/rich/analysis/make_dFoF_and_tqm/mouse_0403L/20230720/jobNum_0/print_log_16805850.log   to   /media/rich/bigSSD/analysis_data/face_rhythm/mouse_0403L/dFoF_and_tqm/20230720/jobNum_0/print_log_16805850.log\n"
     ]
    },
    {
     "name": "stderr",
     "output_type": "stream",
     "text": [
      "0.00b [00:00, ?b/s]\n"
     ]
    },
    {
     "name": "stdout",
     "output_type": "stream",
     "text": [
      "downloading /n/data1/hms/neurobio/sabatini/rich/analysis/make_dFoF_and_tqm/mouse_0403L/20230720/jobNum_0/make_dFoF_and_tqm.py   to   /media/rich/bigSSD/analysis_data/face_rhythm/mouse_0403L/dFoF_and_tqm/20230720/jobNum_0/make_dFoF_and_tqm.py\n"
     ]
    },
    {
     "name": "stderr",
     "output_type": "stream",
     "text": [
      "0.00b [00:00, ?b/s]\n"
     ]
    },
    {
     "name": "stdout",
     "output_type": "stream",
     "text": [
      "downloading /n/data1/hms/neurobio/sabatini/rich/analysis/make_dFoF_and_tqm/mouse_0403L/20230720/jobNum_0/iscell_tqm.npy   to   /media/rich/bigSSD/analysis_data/face_rhythm/mouse_0403L/dFoF_and_tqm/20230720/jobNum_0/iscell_tqm.npy\n"
     ]
    },
    {
     "name": "stderr",
     "output_type": "stream",
     "text": [
      "0.00b [00:00, ?b/s]\n"
     ]
    },
    {
     "name": "stdout",
     "output_type": "stream",
     "text": [
      "downloading /n/data1/hms/neurobio/sabatini/rich/analysis/make_dFoF_and_tqm/mouse_0403L/20230720/jobNum_0/sbatch_config.sh   to   /media/rich/bigSSD/analysis_data/face_rhythm/mouse_0403L/dFoF_and_tqm/20230720/jobNum_0/sbatch_config.sh\n"
     ]
    },
    {
     "name": "stderr",
     "output_type": "stream",
     "text": [
      "0.00b [00:00, ?b/s]\n"
     ]
    },
    {
     "name": "stdout",
     "output_type": "stream",
     "text": [
      "downloading /n/data1/hms/neurobio/sabatini/rich/analysis/make_dFoF_and_tqm/mouse_0403L/20230720/make_dFoF_and_tqm.py   to   /media/rich/bigSSD/analysis_data/face_rhythm/mouse_0403L/dFoF_and_tqm/20230720/make_dFoF_and_tqm.py\n"
     ]
    },
    {
     "name": "stderr",
     "output_type": "stream",
     "text": [
      "0.00b [00:00, ?b/s]\n"
     ]
    },
    {
     "name": "stdout",
     "output_type": "stream",
     "text": [
      "downloading /n/data1/hms/neurobio/sabatini/rich/analysis/make_dFoF_and_tqm/mouse_0403L/20230720/dispatcher.py   to   /media/rich/bigSSD/analysis_data/face_rhythm/mouse_0403L/dFoF_and_tqm/20230720/dispatcher.py\n"
     ]
    },
    {
     "name": "stderr",
     "output_type": "stream",
     "text": [
      "0.00b [00:00, ?b/s]\n"
     ]
    },
    {
     "name": "stdout",
     "output_type": "stream",
     "text": [
      "downloading /n/data1/hms/neurobio/sabatini/rich/analysis/make_dFoF_and_tqm/mouse_0403L/20230720/notes.txt   to   /media/rich/bigSSD/analysis_data/face_rhythm/mouse_0403L/dFoF_and_tqm/20230720/notes.txt\n"
     ]
    },
    {
     "name": "stderr",
     "output_type": "stream",
     "text": [
      "0.00b [00:00, ?b/s]\n"
     ]
    },
    {
     "name": "stdout",
     "output_type": "stream",
     "text": [
      "downloading /n/data1/hms/neurobio/sabatini/rich/analysis/make_dFoF_and_tqm/mouse_0403L/20230707/parameters_batch.json   to   /media/rich/bigSSD/analysis_data/face_rhythm/mouse_0403L/dFoF_and_tqm/20230707/parameters_batch.json\n"
     ]
    },
    {
     "name": "stderr",
     "output_type": "stream",
     "text": [
      "0.00b [00:00, ?b/s]\n"
     ]
    },
    {
     "name": "stdout",
     "output_type": "stream",
     "text": [
      "downloading /n/data1/hms/neurobio/sabatini/rich/analysis/make_dFoF_and_tqm/mouse_0403L/20230707/jobNum_0/tqm.pkl   to   /media/rich/bigSSD/analysis_data/face_rhythm/mouse_0403L/dFoF_and_tqm/20230707/jobNum_0/tqm.pkl\n"
     ]
    },
    {
     "name": "stderr",
     "output_type": "stream",
     "text": [
      "0.00b [00:00, ?b/s]\n"
     ]
    },
    {
     "name": "stdout",
     "output_type": "stream",
     "text": [
      "downloading /n/data1/hms/neurobio/sabatini/rich/analysis/make_dFoF_and_tqm/mouse_0403L/20230707/jobNum_0/params.json   to   /media/rich/bigSSD/analysis_data/face_rhythm/mouse_0403L/dFoF_and_tqm/20230707/jobNum_0/params.json\n"
     ]
    },
    {
     "name": "stderr",
     "output_type": "stream",
     "text": [
      "0.00b [00:00, ?b/s]\n"
     ]
    },
    {
     "name": "stdout",
     "output_type": "stream",
     "text": [
      "downloading /n/data1/hms/neurobio/sabatini/rich/analysis/make_dFoF_and_tqm/mouse_0403L/20230707/jobNum_0/dFoF.npy   to   /media/rich/bigSSD/analysis_data/face_rhythm/mouse_0403L/dFoF_and_tqm/20230707/jobNum_0/dFoF.npy\n"
     ]
    },
    {
     "name": "stderr",
     "output_type": "stream",
     "text": [
      "0.00b [00:27, ?b/s]\n"
     ]
    },
    {
     "name": "stdout",
     "output_type": "stream",
     "text": [
      "downloading /n/data1/hms/neurobio/sabatini/rich/analysis/make_dFoF_and_tqm/mouse_0403L/20230707/jobNum_0/print_log_16805757.log   to   /media/rich/bigSSD/analysis_data/face_rhythm/mouse_0403L/dFoF_and_tqm/20230707/jobNum_0/print_log_16805757.log\n"
     ]
    },
    {
     "name": "stderr",
     "output_type": "stream",
     "text": [
      "0.00b [00:00, ?b/s]\n"
     ]
    },
    {
     "name": "stdout",
     "output_type": "stream",
     "text": [
      "downloading /n/data1/hms/neurobio/sabatini/rich/analysis/make_dFoF_and_tqm/mouse_0403L/20230707/jobNum_0/make_dFoF_and_tqm.py   to   /media/rich/bigSSD/analysis_data/face_rhythm/mouse_0403L/dFoF_and_tqm/20230707/jobNum_0/make_dFoF_and_tqm.py\n"
     ]
    },
    {
     "name": "stderr",
     "output_type": "stream",
     "text": [
      "0.00b [00:00, ?b/s]\n"
     ]
    },
    {
     "name": "stdout",
     "output_type": "stream",
     "text": [
      "downloading /n/data1/hms/neurobio/sabatini/rich/analysis/make_dFoF_and_tqm/mouse_0403L/20230707/jobNum_0/iscell_tqm.npy   to   /media/rich/bigSSD/analysis_data/face_rhythm/mouse_0403L/dFoF_and_tqm/20230707/jobNum_0/iscell_tqm.npy\n"
     ]
    },
    {
     "name": "stderr",
     "output_type": "stream",
     "text": [
      "0.00b [00:00, ?b/s]\n"
     ]
    },
    {
     "name": "stdout",
     "output_type": "stream",
     "text": [
      "downloading /n/data1/hms/neurobio/sabatini/rich/analysis/make_dFoF_and_tqm/mouse_0403L/20230707/jobNum_0/sbatch_config.sh   to   /media/rich/bigSSD/analysis_data/face_rhythm/mouse_0403L/dFoF_and_tqm/20230707/jobNum_0/sbatch_config.sh\n"
     ]
    },
    {
     "name": "stderr",
     "output_type": "stream",
     "text": [
      "0.00b [00:00, ?b/s]\n"
     ]
    },
    {
     "name": "stdout",
     "output_type": "stream",
     "text": [
      "downloading /n/data1/hms/neurobio/sabatini/rich/analysis/make_dFoF_and_tqm/mouse_0403L/20230707/make_dFoF_and_tqm.py   to   /media/rich/bigSSD/analysis_data/face_rhythm/mouse_0403L/dFoF_and_tqm/20230707/make_dFoF_and_tqm.py\n"
     ]
    },
    {
     "name": "stderr",
     "output_type": "stream",
     "text": [
      "0.00b [00:00, ?b/s]\n"
     ]
    },
    {
     "name": "stdout",
     "output_type": "stream",
     "text": [
      "downloading /n/data1/hms/neurobio/sabatini/rich/analysis/make_dFoF_and_tqm/mouse_0403L/20230707/dispatcher.py   to   /media/rich/bigSSD/analysis_data/face_rhythm/mouse_0403L/dFoF_and_tqm/20230707/dispatcher.py\n"
     ]
    },
    {
     "name": "stderr",
     "output_type": "stream",
     "text": [
      "0.00b [00:00, ?b/s]\n"
     ]
    },
    {
     "name": "stdout",
     "output_type": "stream",
     "text": [
      "downloading /n/data1/hms/neurobio/sabatini/rich/analysis/make_dFoF_and_tqm/mouse_0403L/20230707/notes.txt   to   /media/rich/bigSSD/analysis_data/face_rhythm/mouse_0403L/dFoF_and_tqm/20230707/notes.txt\n"
     ]
    },
    {
     "name": "stderr",
     "output_type": "stream",
     "text": [
      "0.00b [00:00, ?b/s]\n"
     ]
    },
    {
     "name": "stdout",
     "output_type": "stream",
     "text": [
      "downloading /n/data1/hms/neurobio/sabatini/rich/analysis/make_dFoF_and_tqm/mouse_0403L/20230719/parameters_batch.json   to   /media/rich/bigSSD/analysis_data/face_rhythm/mouse_0403L/dFoF_and_tqm/20230719/parameters_batch.json\n"
     ]
    },
    {
     "name": "stderr",
     "output_type": "stream",
     "text": [
      "0.00b [00:00, ?b/s]\n"
     ]
    },
    {
     "name": "stdout",
     "output_type": "stream",
     "text": [
      "downloading /n/data1/hms/neurobio/sabatini/rich/analysis/make_dFoF_and_tqm/mouse_0403L/20230719/jobNum_0/tqm.pkl   to   /media/rich/bigSSD/analysis_data/face_rhythm/mouse_0403L/dFoF_and_tqm/20230719/jobNum_0/tqm.pkl\n"
     ]
    },
    {
     "name": "stderr",
     "output_type": "stream",
     "text": [
      "0.00b [00:00, ?b/s]\n"
     ]
    },
    {
     "name": "stdout",
     "output_type": "stream",
     "text": [
      "downloading /n/data1/hms/neurobio/sabatini/rich/analysis/make_dFoF_and_tqm/mouse_0403L/20230719/jobNum_0/params.json   to   /media/rich/bigSSD/analysis_data/face_rhythm/mouse_0403L/dFoF_and_tqm/20230719/jobNum_0/params.json\n"
     ]
    },
    {
     "name": "stderr",
     "output_type": "stream",
     "text": [
      "0.00b [00:00, ?b/s]\n"
     ]
    },
    {
     "name": "stdout",
     "output_type": "stream",
     "text": [
      "downloading /n/data1/hms/neurobio/sabatini/rich/analysis/make_dFoF_and_tqm/mouse_0403L/20230719/jobNum_0/dFoF.npy   to   /media/rich/bigSSD/analysis_data/face_rhythm/mouse_0403L/dFoF_and_tqm/20230719/jobNum_0/dFoF.npy\n"
     ]
    },
    {
     "name": "stderr",
     "output_type": "stream",
     "text": [
      "0.00b [00:24, ?b/s]\n"
     ]
    },
    {
     "name": "stdout",
     "output_type": "stream",
     "text": [
      "downloading /n/data1/hms/neurobio/sabatini/rich/analysis/make_dFoF_and_tqm/mouse_0403L/20230719/jobNum_0/print_log_16805846.log   to   /media/rich/bigSSD/analysis_data/face_rhythm/mouse_0403L/dFoF_and_tqm/20230719/jobNum_0/print_log_16805846.log\n"
     ]
    },
    {
     "name": "stderr",
     "output_type": "stream",
     "text": [
      "0.00b [00:00, ?b/s]\n"
     ]
    },
    {
     "name": "stdout",
     "output_type": "stream",
     "text": [
      "downloading /n/data1/hms/neurobio/sabatini/rich/analysis/make_dFoF_and_tqm/mouse_0403L/20230719/jobNum_0/make_dFoF_and_tqm.py   to   /media/rich/bigSSD/analysis_data/face_rhythm/mouse_0403L/dFoF_and_tqm/20230719/jobNum_0/make_dFoF_and_tqm.py\n"
     ]
    },
    {
     "name": "stderr",
     "output_type": "stream",
     "text": [
      "0.00b [00:00, ?b/s]\n"
     ]
    },
    {
     "name": "stdout",
     "output_type": "stream",
     "text": [
      "downloading /n/data1/hms/neurobio/sabatini/rich/analysis/make_dFoF_and_tqm/mouse_0403L/20230719/jobNum_0/iscell_tqm.npy   to   /media/rich/bigSSD/analysis_data/face_rhythm/mouse_0403L/dFoF_and_tqm/20230719/jobNum_0/iscell_tqm.npy\n"
     ]
    },
    {
     "name": "stderr",
     "output_type": "stream",
     "text": [
      "0.00b [00:00, ?b/s]\n"
     ]
    },
    {
     "name": "stdout",
     "output_type": "stream",
     "text": [
      "downloading /n/data1/hms/neurobio/sabatini/rich/analysis/make_dFoF_and_tqm/mouse_0403L/20230719/jobNum_0/sbatch_config.sh   to   /media/rich/bigSSD/analysis_data/face_rhythm/mouse_0403L/dFoF_and_tqm/20230719/jobNum_0/sbatch_config.sh\n"
     ]
    },
    {
     "name": "stderr",
     "output_type": "stream",
     "text": [
      "0.00b [00:00, ?b/s]\n"
     ]
    },
    {
     "name": "stdout",
     "output_type": "stream",
     "text": [
      "downloading /n/data1/hms/neurobio/sabatini/rich/analysis/make_dFoF_and_tqm/mouse_0403L/20230719/make_dFoF_and_tqm.py   to   /media/rich/bigSSD/analysis_data/face_rhythm/mouse_0403L/dFoF_and_tqm/20230719/make_dFoF_and_tqm.py\n"
     ]
    },
    {
     "name": "stderr",
     "output_type": "stream",
     "text": [
      "0.00b [00:00, ?b/s]\n"
     ]
    },
    {
     "name": "stdout",
     "output_type": "stream",
     "text": [
      "downloading /n/data1/hms/neurobio/sabatini/rich/analysis/make_dFoF_and_tqm/mouse_0403L/20230719/dispatcher.py   to   /media/rich/bigSSD/analysis_data/face_rhythm/mouse_0403L/dFoF_and_tqm/20230719/dispatcher.py\n"
     ]
    },
    {
     "name": "stderr",
     "output_type": "stream",
     "text": [
      "0.00b [00:00, ?b/s]\n"
     ]
    },
    {
     "name": "stdout",
     "output_type": "stream",
     "text": [
      "downloading /n/data1/hms/neurobio/sabatini/rich/analysis/make_dFoF_and_tqm/mouse_0403L/20230719/notes.txt   to   /media/rich/bigSSD/analysis_data/face_rhythm/mouse_0403L/dFoF_and_tqm/20230719/notes.txt\n"
     ]
    },
    {
     "name": "stderr",
     "output_type": "stream",
     "text": [
      "0.00b [00:00, ?b/s]\n"
     ]
    },
    {
     "name": "stdout",
     "output_type": "stream",
     "text": [
      "downloading /n/data1/hms/neurobio/sabatini/rich/analysis/make_dFoF_and_tqm/mouse_0403L/20230802/parameters_batch.json   to   /media/rich/bigSSD/analysis_data/face_rhythm/mouse_0403L/dFoF_and_tqm/20230802/parameters_batch.json\n"
     ]
    },
    {
     "name": "stderr",
     "output_type": "stream",
     "text": [
      "0.00b [00:00, ?b/s]\n"
     ]
    },
    {
     "name": "stdout",
     "output_type": "stream",
     "text": [
      "downloading /n/data1/hms/neurobio/sabatini/rich/analysis/make_dFoF_and_tqm/mouse_0403L/20230802/jobNum_0/tqm.pkl   to   /media/rich/bigSSD/analysis_data/face_rhythm/mouse_0403L/dFoF_and_tqm/20230802/jobNum_0/tqm.pkl\n"
     ]
    },
    {
     "name": "stderr",
     "output_type": "stream",
     "text": [
      "0.00b [00:00, ?b/s]\n"
     ]
    },
    {
     "name": "stdout",
     "output_type": "stream",
     "text": [
      "downloading /n/data1/hms/neurobio/sabatini/rich/analysis/make_dFoF_and_tqm/mouse_0403L/20230802/jobNum_0/params.json   to   /media/rich/bigSSD/analysis_data/face_rhythm/mouse_0403L/dFoF_and_tqm/20230802/jobNum_0/params.json\n"
     ]
    },
    {
     "name": "stderr",
     "output_type": "stream",
     "text": [
      "0.00b [00:00, ?b/s]\n"
     ]
    },
    {
     "name": "stdout",
     "output_type": "stream",
     "text": [
      "downloading /n/data1/hms/neurobio/sabatini/rich/analysis/make_dFoF_and_tqm/mouse_0403L/20230802/jobNum_0/dFoF.npy   to   /media/rich/bigSSD/analysis_data/face_rhythm/mouse_0403L/dFoF_and_tqm/20230802/jobNum_0/dFoF.npy\n"
     ]
    },
    {
     "name": "stderr",
     "output_type": "stream",
     "text": [
      "0.00b [00:23, ?b/s]\n"
     ]
    },
    {
     "name": "stdout",
     "output_type": "stream",
     "text": [
      "downloading /n/data1/hms/neurobio/sabatini/rich/analysis/make_dFoF_and_tqm/mouse_0403L/20230802/jobNum_0/print_log_16805936.log   to   /media/rich/bigSSD/analysis_data/face_rhythm/mouse_0403L/dFoF_and_tqm/20230802/jobNum_0/print_log_16805936.log\n"
     ]
    },
    {
     "name": "stderr",
     "output_type": "stream",
     "text": [
      "0.00b [00:00, ?b/s]\n"
     ]
    },
    {
     "name": "stdout",
     "output_type": "stream",
     "text": [
      "downloading /n/data1/hms/neurobio/sabatini/rich/analysis/make_dFoF_and_tqm/mouse_0403L/20230802/jobNum_0/make_dFoF_and_tqm.py   to   /media/rich/bigSSD/analysis_data/face_rhythm/mouse_0403L/dFoF_and_tqm/20230802/jobNum_0/make_dFoF_and_tqm.py\n"
     ]
    },
    {
     "name": "stderr",
     "output_type": "stream",
     "text": [
      "0.00b [00:00, ?b/s]\n"
     ]
    },
    {
     "name": "stdout",
     "output_type": "stream",
     "text": [
      "downloading /n/data1/hms/neurobio/sabatini/rich/analysis/make_dFoF_and_tqm/mouse_0403L/20230802/jobNum_0/iscell_tqm.npy   to   /media/rich/bigSSD/analysis_data/face_rhythm/mouse_0403L/dFoF_and_tqm/20230802/jobNum_0/iscell_tqm.npy\n"
     ]
    },
    {
     "name": "stderr",
     "output_type": "stream",
     "text": [
      "0.00b [00:00, ?b/s]\n"
     ]
    },
    {
     "name": "stdout",
     "output_type": "stream",
     "text": [
      "downloading /n/data1/hms/neurobio/sabatini/rich/analysis/make_dFoF_and_tqm/mouse_0403L/20230802/jobNum_0/sbatch_config.sh   to   /media/rich/bigSSD/analysis_data/face_rhythm/mouse_0403L/dFoF_and_tqm/20230802/jobNum_0/sbatch_config.sh\n"
     ]
    },
    {
     "name": "stderr",
     "output_type": "stream",
     "text": [
      "0.00b [00:00, ?b/s]\n"
     ]
    },
    {
     "name": "stdout",
     "output_type": "stream",
     "text": [
      "downloading /n/data1/hms/neurobio/sabatini/rich/analysis/make_dFoF_and_tqm/mouse_0403L/20230802/make_dFoF_and_tqm.py   to   /media/rich/bigSSD/analysis_data/face_rhythm/mouse_0403L/dFoF_and_tqm/20230802/make_dFoF_and_tqm.py\n"
     ]
    },
    {
     "name": "stderr",
     "output_type": "stream",
     "text": [
      "0.00b [00:00, ?b/s]\n"
     ]
    },
    {
     "name": "stdout",
     "output_type": "stream",
     "text": [
      "downloading /n/data1/hms/neurobio/sabatini/rich/analysis/make_dFoF_and_tqm/mouse_0403L/20230802/dispatcher.py   to   /media/rich/bigSSD/analysis_data/face_rhythm/mouse_0403L/dFoF_and_tqm/20230802/dispatcher.py\n"
     ]
    },
    {
     "name": "stderr",
     "output_type": "stream",
     "text": [
      "0.00b [00:00, ?b/s]\n"
     ]
    },
    {
     "name": "stdout",
     "output_type": "stream",
     "text": [
      "downloading /n/data1/hms/neurobio/sabatini/rich/analysis/make_dFoF_and_tqm/mouse_0403L/20230802/notes.txt   to   /media/rich/bigSSD/analysis_data/face_rhythm/mouse_0403L/dFoF_and_tqm/20230802/notes.txt\n"
     ]
    },
    {
     "name": "stderr",
     "output_type": "stream",
     "text": [
      "0.00b [00:00, ?b/s]\n"
     ]
    },
    {
     "name": "stdout",
     "output_type": "stream",
     "text": [
      "downloading /n/data1/hms/neurobio/sabatini/rich/analysis/make_dFoF_and_tqm/mouse_0403L/20230715/parameters_batch.json   to   /media/rich/bigSSD/analysis_data/face_rhythm/mouse_0403L/dFoF_and_tqm/20230715/parameters_batch.json\n"
     ]
    },
    {
     "name": "stderr",
     "output_type": "stream",
     "text": [
      "0.00b [00:00, ?b/s]\n"
     ]
    },
    {
     "name": "stdout",
     "output_type": "stream",
     "text": [
      "downloading /n/data1/hms/neurobio/sabatini/rich/analysis/make_dFoF_and_tqm/mouse_0403L/20230715/jobNum_0/tqm.pkl   to   /media/rich/bigSSD/analysis_data/face_rhythm/mouse_0403L/dFoF_and_tqm/20230715/jobNum_0/tqm.pkl\n"
     ]
    },
    {
     "name": "stderr",
     "output_type": "stream",
     "text": [
      "0.00b [00:00, ?b/s]\n"
     ]
    },
    {
     "name": "stdout",
     "output_type": "stream",
     "text": [
      "downloading /n/data1/hms/neurobio/sabatini/rich/analysis/make_dFoF_and_tqm/mouse_0403L/20230715/jobNum_0/params.json   to   /media/rich/bigSSD/analysis_data/face_rhythm/mouse_0403L/dFoF_and_tqm/20230715/jobNum_0/params.json\n"
     ]
    },
    {
     "name": "stderr",
     "output_type": "stream",
     "text": [
      "0.00b [00:00, ?b/s]\n"
     ]
    },
    {
     "name": "stdout",
     "output_type": "stream",
     "text": [
      "downloading /n/data1/hms/neurobio/sabatini/rich/analysis/make_dFoF_and_tqm/mouse_0403L/20230715/jobNum_0/dFoF.npy   to   /media/rich/bigSSD/analysis_data/face_rhythm/mouse_0403L/dFoF_and_tqm/20230715/jobNum_0/dFoF.npy\n"
     ]
    },
    {
     "name": "stderr",
     "output_type": "stream",
     "text": [
      "0.00b [00:31, ?b/s]\n"
     ]
    },
    {
     "name": "stdout",
     "output_type": "stream",
     "text": [
      "downloading /n/data1/hms/neurobio/sabatini/rich/analysis/make_dFoF_and_tqm/mouse_0403L/20230715/jobNum_0/make_dFoF_and_tqm.py   to   /media/rich/bigSSD/analysis_data/face_rhythm/mouse_0403L/dFoF_and_tqm/20230715/jobNum_0/make_dFoF_and_tqm.py\n"
     ]
    },
    {
     "name": "stderr",
     "output_type": "stream",
     "text": [
      "0.00b [00:00, ?b/s]\n"
     ]
    },
    {
     "name": "stdout",
     "output_type": "stream",
     "text": [
      "downloading /n/data1/hms/neurobio/sabatini/rich/analysis/make_dFoF_and_tqm/mouse_0403L/20230715/jobNum_0/iscell_tqm.npy   to   /media/rich/bigSSD/analysis_data/face_rhythm/mouse_0403L/dFoF_and_tqm/20230715/jobNum_0/iscell_tqm.npy\n"
     ]
    },
    {
     "name": "stderr",
     "output_type": "stream",
     "text": [
      "0.00b [00:00, ?b/s]\n"
     ]
    },
    {
     "name": "stdout",
     "output_type": "stream",
     "text": [
      "downloading /n/data1/hms/neurobio/sabatini/rich/analysis/make_dFoF_and_tqm/mouse_0403L/20230715/jobNum_0/print_log_16805816.log   to   /media/rich/bigSSD/analysis_data/face_rhythm/mouse_0403L/dFoF_and_tqm/20230715/jobNum_0/print_log_16805816.log\n"
     ]
    },
    {
     "name": "stderr",
     "output_type": "stream",
     "text": [
      "0.00b [00:00, ?b/s]\n"
     ]
    },
    {
     "name": "stdout",
     "output_type": "stream",
     "text": [
      "downloading /n/data1/hms/neurobio/sabatini/rich/analysis/make_dFoF_and_tqm/mouse_0403L/20230715/jobNum_0/sbatch_config.sh   to   /media/rich/bigSSD/analysis_data/face_rhythm/mouse_0403L/dFoF_and_tqm/20230715/jobNum_0/sbatch_config.sh\n"
     ]
    },
    {
     "name": "stderr",
     "output_type": "stream",
     "text": [
      "0.00b [00:00, ?b/s]\n"
     ]
    },
    {
     "name": "stdout",
     "output_type": "stream",
     "text": [
      "downloading /n/data1/hms/neurobio/sabatini/rich/analysis/make_dFoF_and_tqm/mouse_0403L/20230715/make_dFoF_and_tqm.py   to   /media/rich/bigSSD/analysis_data/face_rhythm/mouse_0403L/dFoF_and_tqm/20230715/make_dFoF_and_tqm.py\n"
     ]
    },
    {
     "name": "stderr",
     "output_type": "stream",
     "text": [
      "0.00b [00:00, ?b/s]\n"
     ]
    },
    {
     "name": "stdout",
     "output_type": "stream",
     "text": [
      "downloading /n/data1/hms/neurobio/sabatini/rich/analysis/make_dFoF_and_tqm/mouse_0403L/20230715/dispatcher.py   to   /media/rich/bigSSD/analysis_data/face_rhythm/mouse_0403L/dFoF_and_tqm/20230715/dispatcher.py\n"
     ]
    },
    {
     "name": "stderr",
     "output_type": "stream",
     "text": [
      "0.00b [00:00, ?b/s]\n"
     ]
    },
    {
     "name": "stdout",
     "output_type": "stream",
     "text": [
      "downloading /n/data1/hms/neurobio/sabatini/rich/analysis/make_dFoF_and_tqm/mouse_0403L/20230715/notes.txt   to   /media/rich/bigSSD/analysis_data/face_rhythm/mouse_0403L/dFoF_and_tqm/20230715/notes.txt\n"
     ]
    },
    {
     "name": "stderr",
     "output_type": "stream",
     "text": [
      "0.00b [00:00, ?b/s]\n"
     ]
    },
    {
     "name": "stdout",
     "output_type": "stream",
     "text": [
      "downloading /n/data1/hms/neurobio/sabatini/rich/analysis/make_dFoF_and_tqm/mouse_0403L/20230730/parameters_batch.json   to   /media/rich/bigSSD/analysis_data/face_rhythm/mouse_0403L/dFoF_and_tqm/20230730/parameters_batch.json\n"
     ]
    },
    {
     "name": "stderr",
     "output_type": "stream",
     "text": [
      "0.00b [00:00, ?b/s]\n"
     ]
    },
    {
     "name": "stdout",
     "output_type": "stream",
     "text": [
      "downloading /n/data1/hms/neurobio/sabatini/rich/analysis/make_dFoF_and_tqm/mouse_0403L/20230730/jobNum_0/tqm.pkl   to   /media/rich/bigSSD/analysis_data/face_rhythm/mouse_0403L/dFoF_and_tqm/20230730/jobNum_0/tqm.pkl\n"
     ]
    },
    {
     "name": "stderr",
     "output_type": "stream",
     "text": [
      "0.00b [00:00, ?b/s]\n"
     ]
    },
    {
     "name": "stdout",
     "output_type": "stream",
     "text": [
      "downloading /n/data1/hms/neurobio/sabatini/rich/analysis/make_dFoF_and_tqm/mouse_0403L/20230730/jobNum_0/params.json   to   /media/rich/bigSSD/analysis_data/face_rhythm/mouse_0403L/dFoF_and_tqm/20230730/jobNum_0/params.json\n"
     ]
    },
    {
     "name": "stderr",
     "output_type": "stream",
     "text": [
      "0.00b [00:00, ?b/s]\n"
     ]
    },
    {
     "name": "stdout",
     "output_type": "stream",
     "text": [
      "downloading /n/data1/hms/neurobio/sabatini/rich/analysis/make_dFoF_and_tqm/mouse_0403L/20230730/jobNum_0/dFoF.npy   to   /media/rich/bigSSD/analysis_data/face_rhythm/mouse_0403L/dFoF_and_tqm/20230730/jobNum_0/dFoF.npy\n"
     ]
    },
    {
     "name": "stderr",
     "output_type": "stream",
     "text": [
      "0.00b [00:27, ?b/s]\n"
     ]
    },
    {
     "name": "stdout",
     "output_type": "stream",
     "text": [
      "downloading /n/data1/hms/neurobio/sabatini/rich/analysis/make_dFoF_and_tqm/mouse_0403L/20230730/jobNum_0/make_dFoF_and_tqm.py   to   /media/rich/bigSSD/analysis_data/face_rhythm/mouse_0403L/dFoF_and_tqm/20230730/jobNum_0/make_dFoF_and_tqm.py\n"
     ]
    },
    {
     "name": "stderr",
     "output_type": "stream",
     "text": [
      "0.00b [00:00, ?b/s]\n"
     ]
    },
    {
     "name": "stdout",
     "output_type": "stream",
     "text": [
      "downloading /n/data1/hms/neurobio/sabatini/rich/analysis/make_dFoF_and_tqm/mouse_0403L/20230730/jobNum_0/iscell_tqm.npy   to   /media/rich/bigSSD/analysis_data/face_rhythm/mouse_0403L/dFoF_and_tqm/20230730/jobNum_0/iscell_tqm.npy\n"
     ]
    },
    {
     "name": "stderr",
     "output_type": "stream",
     "text": [
      "0.00b [00:00, ?b/s]\n"
     ]
    },
    {
     "name": "stdout",
     "output_type": "stream",
     "text": [
      "downloading /n/data1/hms/neurobio/sabatini/rich/analysis/make_dFoF_and_tqm/mouse_0403L/20230730/jobNum_0/sbatch_config.sh   to   /media/rich/bigSSD/analysis_data/face_rhythm/mouse_0403L/dFoF_and_tqm/20230730/jobNum_0/sbatch_config.sh\n"
     ]
    },
    {
     "name": "stderr",
     "output_type": "stream",
     "text": [
      "0.00b [00:00, ?b/s]\n"
     ]
    },
    {
     "name": "stdout",
     "output_type": "stream",
     "text": [
      "downloading /n/data1/hms/neurobio/sabatini/rich/analysis/make_dFoF_and_tqm/mouse_0403L/20230730/jobNum_0/print_log_16805922.log   to   /media/rich/bigSSD/analysis_data/face_rhythm/mouse_0403L/dFoF_and_tqm/20230730/jobNum_0/print_log_16805922.log\n"
     ]
    },
    {
     "name": "stderr",
     "output_type": "stream",
     "text": [
      "0.00b [00:00, ?b/s]\n"
     ]
    },
    {
     "name": "stdout",
     "output_type": "stream",
     "text": [
      "downloading /n/data1/hms/neurobio/sabatini/rich/analysis/make_dFoF_and_tqm/mouse_0403L/20230730/make_dFoF_and_tqm.py   to   /media/rich/bigSSD/analysis_data/face_rhythm/mouse_0403L/dFoF_and_tqm/20230730/make_dFoF_and_tqm.py\n"
     ]
    },
    {
     "name": "stderr",
     "output_type": "stream",
     "text": [
      "0.00b [00:00, ?b/s]\n"
     ]
    },
    {
     "name": "stdout",
     "output_type": "stream",
     "text": [
      "downloading /n/data1/hms/neurobio/sabatini/rich/analysis/make_dFoF_and_tqm/mouse_0403L/20230730/dispatcher.py   to   /media/rich/bigSSD/analysis_data/face_rhythm/mouse_0403L/dFoF_and_tqm/20230730/dispatcher.py\n"
     ]
    },
    {
     "name": "stderr",
     "output_type": "stream",
     "text": [
      "0.00b [00:00, ?b/s]\n"
     ]
    },
    {
     "name": "stdout",
     "output_type": "stream",
     "text": [
      "downloading /n/data1/hms/neurobio/sabatini/rich/analysis/make_dFoF_and_tqm/mouse_0403L/20230730/notes.txt   to   /media/rich/bigSSD/analysis_data/face_rhythm/mouse_0403L/dFoF_and_tqm/20230730/notes.txt\n"
     ]
    },
    {
     "name": "stderr",
     "output_type": "stream",
     "text": [
      "0.00b [00:00, ?b/s]\n"
     ]
    },
    {
     "name": "stdout",
     "output_type": "stream",
     "text": [
      "downloading /n/data1/hms/neurobio/sabatini/rich/analysis/make_dFoF_and_tqm/mouse_0403L/20230805/parameters_batch.json   to   /media/rich/bigSSD/analysis_data/face_rhythm/mouse_0403L/dFoF_and_tqm/20230805/parameters_batch.json\n"
     ]
    },
    {
     "name": "stderr",
     "output_type": "stream",
     "text": [
      "0.00b [00:00, ?b/s]\n"
     ]
    },
    {
     "name": "stdout",
     "output_type": "stream",
     "text": [
      "downloading /n/data1/hms/neurobio/sabatini/rich/analysis/make_dFoF_and_tqm/mouse_0403L/20230805/jobNum_0/tqm.pkl   to   /media/rich/bigSSD/analysis_data/face_rhythm/mouse_0403L/dFoF_and_tqm/20230805/jobNum_0/tqm.pkl\n"
     ]
    },
    {
     "name": "stderr",
     "output_type": "stream",
     "text": [
      "0.00b [00:00, ?b/s]\n"
     ]
    },
    {
     "name": "stdout",
     "output_type": "stream",
     "text": [
      "downloading /n/data1/hms/neurobio/sabatini/rich/analysis/make_dFoF_and_tqm/mouse_0403L/20230805/jobNum_0/params.json   to   /media/rich/bigSSD/analysis_data/face_rhythm/mouse_0403L/dFoF_and_tqm/20230805/jobNum_0/params.json\n"
     ]
    },
    {
     "name": "stderr",
     "output_type": "stream",
     "text": [
      "0.00b [00:00, ?b/s]\n"
     ]
    },
    {
     "name": "stdout",
     "output_type": "stream",
     "text": [
      "downloading /n/data1/hms/neurobio/sabatini/rich/analysis/make_dFoF_and_tqm/mouse_0403L/20230805/jobNum_0/dFoF.npy   to   /media/rich/bigSSD/analysis_data/face_rhythm/mouse_0403L/dFoF_and_tqm/20230805/jobNum_0/dFoF.npy\n"
     ]
    },
    {
     "name": "stderr",
     "output_type": "stream",
     "text": [
      "0.00b [00:23, ?b/s]\n"
     ]
    },
    {
     "name": "stdout",
     "output_type": "stream",
     "text": [
      "downloading /n/data1/hms/neurobio/sabatini/rich/analysis/make_dFoF_and_tqm/mouse_0403L/20230805/jobNum_0/print_log_16805963.log   to   /media/rich/bigSSD/analysis_data/face_rhythm/mouse_0403L/dFoF_and_tqm/20230805/jobNum_0/print_log_16805963.log\n"
     ]
    },
    {
     "name": "stderr",
     "output_type": "stream",
     "text": [
      "0.00b [00:00, ?b/s]\n"
     ]
    },
    {
     "name": "stdout",
     "output_type": "stream",
     "text": [
      "downloading /n/data1/hms/neurobio/sabatini/rich/analysis/make_dFoF_and_tqm/mouse_0403L/20230805/jobNum_0/make_dFoF_and_tqm.py   to   /media/rich/bigSSD/analysis_data/face_rhythm/mouse_0403L/dFoF_and_tqm/20230805/jobNum_0/make_dFoF_and_tqm.py\n"
     ]
    },
    {
     "name": "stderr",
     "output_type": "stream",
     "text": [
      "0.00b [00:00, ?b/s]\n"
     ]
    },
    {
     "name": "stdout",
     "output_type": "stream",
     "text": [
      "downloading /n/data1/hms/neurobio/sabatini/rich/analysis/make_dFoF_and_tqm/mouse_0403L/20230805/jobNum_0/iscell_tqm.npy   to   /media/rich/bigSSD/analysis_data/face_rhythm/mouse_0403L/dFoF_and_tqm/20230805/jobNum_0/iscell_tqm.npy\n"
     ]
    },
    {
     "name": "stderr",
     "output_type": "stream",
     "text": [
      "0.00b [00:00, ?b/s]\n"
     ]
    },
    {
     "name": "stdout",
     "output_type": "stream",
     "text": [
      "downloading /n/data1/hms/neurobio/sabatini/rich/analysis/make_dFoF_and_tqm/mouse_0403L/20230805/jobNum_0/sbatch_config.sh   to   /media/rich/bigSSD/analysis_data/face_rhythm/mouse_0403L/dFoF_and_tqm/20230805/jobNum_0/sbatch_config.sh\n"
     ]
    },
    {
     "name": "stderr",
     "output_type": "stream",
     "text": [
      "0.00b [00:00, ?b/s]\n"
     ]
    },
    {
     "name": "stdout",
     "output_type": "stream",
     "text": [
      "downloading /n/data1/hms/neurobio/sabatini/rich/analysis/make_dFoF_and_tqm/mouse_0403L/20230805/make_dFoF_and_tqm.py   to   /media/rich/bigSSD/analysis_data/face_rhythm/mouse_0403L/dFoF_and_tqm/20230805/make_dFoF_and_tqm.py\n"
     ]
    },
    {
     "name": "stderr",
     "output_type": "stream",
     "text": [
      "0.00b [00:00, ?b/s]\n"
     ]
    },
    {
     "name": "stdout",
     "output_type": "stream",
     "text": [
      "downloading /n/data1/hms/neurobio/sabatini/rich/analysis/make_dFoF_and_tqm/mouse_0403L/20230805/dispatcher.py   to   /media/rich/bigSSD/analysis_data/face_rhythm/mouse_0403L/dFoF_and_tqm/20230805/dispatcher.py\n"
     ]
    },
    {
     "name": "stderr",
     "output_type": "stream",
     "text": [
      "0.00b [00:00, ?b/s]\n"
     ]
    },
    {
     "name": "stdout",
     "output_type": "stream",
     "text": [
      "downloading /n/data1/hms/neurobio/sabatini/rich/analysis/make_dFoF_and_tqm/mouse_0403L/20230805/notes.txt   to   /media/rich/bigSSD/analysis_data/face_rhythm/mouse_0403L/dFoF_and_tqm/20230805/notes.txt\n"
     ]
    },
    {
     "name": "stderr",
     "output_type": "stream",
     "text": [
      "0.00b [00:00, ?b/s]\n"
     ]
    },
    {
     "name": "stdout",
     "output_type": "stream",
     "text": [
      "downloading /n/data1/hms/neurobio/sabatini/rich/analysis/make_dFoF_and_tqm/mouse_0403L/20230706/parameters_batch.json   to   /media/rich/bigSSD/analysis_data/face_rhythm/mouse_0403L/dFoF_and_tqm/20230706/parameters_batch.json\n"
     ]
    },
    {
     "name": "stderr",
     "output_type": "stream",
     "text": [
      "0.00b [00:00, ?b/s]\n"
     ]
    },
    {
     "name": "stdout",
     "output_type": "stream",
     "text": [
      "downloading /n/data1/hms/neurobio/sabatini/rich/analysis/make_dFoF_and_tqm/mouse_0403L/20230706/jobNum_0/tqm.pkl   to   /media/rich/bigSSD/analysis_data/face_rhythm/mouse_0403L/dFoF_and_tqm/20230706/jobNum_0/tqm.pkl\n"
     ]
    },
    {
     "name": "stderr",
     "output_type": "stream",
     "text": [
      "0.00b [00:00, ?b/s]\n"
     ]
    },
    {
     "name": "stdout",
     "output_type": "stream",
     "text": [
      "downloading /n/data1/hms/neurobio/sabatini/rich/analysis/make_dFoF_and_tqm/mouse_0403L/20230706/jobNum_0/params.json   to   /media/rich/bigSSD/analysis_data/face_rhythm/mouse_0403L/dFoF_and_tqm/20230706/jobNum_0/params.json\n"
     ]
    },
    {
     "name": "stderr",
     "output_type": "stream",
     "text": [
      "0.00b [00:00, ?b/s]\n"
     ]
    },
    {
     "name": "stdout",
     "output_type": "stream",
     "text": [
      "downloading /n/data1/hms/neurobio/sabatini/rich/analysis/make_dFoF_and_tqm/mouse_0403L/20230706/jobNum_0/dFoF.npy   to   /media/rich/bigSSD/analysis_data/face_rhythm/mouse_0403L/dFoF_and_tqm/20230706/jobNum_0/dFoF.npy\n"
     ]
    },
    {
     "name": "stderr",
     "output_type": "stream",
     "text": [
      "0.00b [00:33, ?b/s]\n"
     ]
    },
    {
     "name": "stdout",
     "output_type": "stream",
     "text": [
      "downloading /n/data1/hms/neurobio/sabatini/rich/analysis/make_dFoF_and_tqm/mouse_0403L/20230706/jobNum_0/print_log_16805751.log   to   /media/rich/bigSSD/analysis_data/face_rhythm/mouse_0403L/dFoF_and_tqm/20230706/jobNum_0/print_log_16805751.log\n"
     ]
    },
    {
     "name": "stderr",
     "output_type": "stream",
     "text": [
      "0.00b [00:00, ?b/s]\n"
     ]
    },
    {
     "name": "stdout",
     "output_type": "stream",
     "text": [
      "downloading /n/data1/hms/neurobio/sabatini/rich/analysis/make_dFoF_and_tqm/mouse_0403L/20230706/jobNum_0/make_dFoF_and_tqm.py   to   /media/rich/bigSSD/analysis_data/face_rhythm/mouse_0403L/dFoF_and_tqm/20230706/jobNum_0/make_dFoF_and_tqm.py\n"
     ]
    },
    {
     "name": "stderr",
     "output_type": "stream",
     "text": [
      "0.00b [00:00, ?b/s]\n"
     ]
    },
    {
     "name": "stdout",
     "output_type": "stream",
     "text": [
      "downloading /n/data1/hms/neurobio/sabatini/rich/analysis/make_dFoF_and_tqm/mouse_0403L/20230706/jobNum_0/iscell_tqm.npy   to   /media/rich/bigSSD/analysis_data/face_rhythm/mouse_0403L/dFoF_and_tqm/20230706/jobNum_0/iscell_tqm.npy\n"
     ]
    },
    {
     "name": "stderr",
     "output_type": "stream",
     "text": [
      "0.00b [00:00, ?b/s]\n"
     ]
    },
    {
     "name": "stdout",
     "output_type": "stream",
     "text": [
      "downloading /n/data1/hms/neurobio/sabatini/rich/analysis/make_dFoF_and_tqm/mouse_0403L/20230706/jobNum_0/sbatch_config.sh   to   /media/rich/bigSSD/analysis_data/face_rhythm/mouse_0403L/dFoF_and_tqm/20230706/jobNum_0/sbatch_config.sh\n"
     ]
    },
    {
     "name": "stderr",
     "output_type": "stream",
     "text": [
      "0.00b [00:00, ?b/s]\n"
     ]
    },
    {
     "name": "stdout",
     "output_type": "stream",
     "text": [
      "downloading /n/data1/hms/neurobio/sabatini/rich/analysis/make_dFoF_and_tqm/mouse_0403L/20230706/make_dFoF_and_tqm.py   to   /media/rich/bigSSD/analysis_data/face_rhythm/mouse_0403L/dFoF_and_tqm/20230706/make_dFoF_and_tqm.py\n"
     ]
    },
    {
     "name": "stderr",
     "output_type": "stream",
     "text": [
      "0.00b [00:00, ?b/s]\n"
     ]
    },
    {
     "name": "stdout",
     "output_type": "stream",
     "text": [
      "downloading /n/data1/hms/neurobio/sabatini/rich/analysis/make_dFoF_and_tqm/mouse_0403L/20230706/dispatcher.py   to   /media/rich/bigSSD/analysis_data/face_rhythm/mouse_0403L/dFoF_and_tqm/20230706/dispatcher.py\n"
     ]
    },
    {
     "name": "stderr",
     "output_type": "stream",
     "text": [
      "0.00b [00:00, ?b/s]\n"
     ]
    },
    {
     "name": "stdout",
     "output_type": "stream",
     "text": [
      "downloading /n/data1/hms/neurobio/sabatini/rich/analysis/make_dFoF_and_tqm/mouse_0403L/20230706/notes.txt   to   /media/rich/bigSSD/analysis_data/face_rhythm/mouse_0403L/dFoF_and_tqm/20230706/notes.txt\n"
     ]
    },
    {
     "name": "stderr",
     "output_type": "stream",
     "text": [
      "0.00b [00:00, ?b/s]\n"
     ]
    },
    {
     "name": "stdout",
     "output_type": "stream",
     "text": [
      "downloading /n/data1/hms/neurobio/sabatini/rich/analysis/make_dFoF_and_tqm/mouse_0403L/20230807/parameters_batch.json   to   /media/rich/bigSSD/analysis_data/face_rhythm/mouse_0403L/dFoF_and_tqm/20230807/parameters_batch.json\n"
     ]
    },
    {
     "name": "stderr",
     "output_type": "stream",
     "text": [
      "0.00b [00:00, ?b/s]\n"
     ]
    },
    {
     "name": "stdout",
     "output_type": "stream",
     "text": [
      "downloading /n/data1/hms/neurobio/sabatini/rich/analysis/make_dFoF_and_tqm/mouse_0403L/20230807/jobNum_0/tqm.pkl   to   /media/rich/bigSSD/analysis_data/face_rhythm/mouse_0403L/dFoF_and_tqm/20230807/jobNum_0/tqm.pkl\n"
     ]
    },
    {
     "name": "stderr",
     "output_type": "stream",
     "text": [
      "0.00b [00:00, ?b/s]\n"
     ]
    },
    {
     "name": "stdout",
     "output_type": "stream",
     "text": [
      "downloading /n/data1/hms/neurobio/sabatini/rich/analysis/make_dFoF_and_tqm/mouse_0403L/20230807/jobNum_0/params.json   to   /media/rich/bigSSD/analysis_data/face_rhythm/mouse_0403L/dFoF_and_tqm/20230807/jobNum_0/params.json\n"
     ]
    },
    {
     "name": "stderr",
     "output_type": "stream",
     "text": [
      "0.00b [00:00, ?b/s]\n"
     ]
    },
    {
     "name": "stdout",
     "output_type": "stream",
     "text": [
      "downloading /n/data1/hms/neurobio/sabatini/rich/analysis/make_dFoF_and_tqm/mouse_0403L/20230807/jobNum_0/dFoF.npy   to   /media/rich/bigSSD/analysis_data/face_rhythm/mouse_0403L/dFoF_and_tqm/20230807/jobNum_0/dFoF.npy\n"
     ]
    },
    {
     "name": "stderr",
     "output_type": "stream",
     "text": [
      "0.00b [00:27, ?b/s]\n"
     ]
    },
    {
     "name": "stdout",
     "output_type": "stream",
     "text": [
      "downloading /n/data1/hms/neurobio/sabatini/rich/analysis/make_dFoF_and_tqm/mouse_0403L/20230807/jobNum_0/print_log_16805975.log   to   /media/rich/bigSSD/analysis_data/face_rhythm/mouse_0403L/dFoF_and_tqm/20230807/jobNum_0/print_log_16805975.log\n"
     ]
    },
    {
     "name": "stderr",
     "output_type": "stream",
     "text": [
      "0.00b [00:00, ?b/s]\n"
     ]
    },
    {
     "name": "stdout",
     "output_type": "stream",
     "text": [
      "downloading /n/data1/hms/neurobio/sabatini/rich/analysis/make_dFoF_and_tqm/mouse_0403L/20230807/jobNum_0/make_dFoF_and_tqm.py   to   /media/rich/bigSSD/analysis_data/face_rhythm/mouse_0403L/dFoF_and_tqm/20230807/jobNum_0/make_dFoF_and_tqm.py\n"
     ]
    },
    {
     "name": "stderr",
     "output_type": "stream",
     "text": [
      "0.00b [00:00, ?b/s]\n"
     ]
    },
    {
     "name": "stdout",
     "output_type": "stream",
     "text": [
      "downloading /n/data1/hms/neurobio/sabatini/rich/analysis/make_dFoF_and_tqm/mouse_0403L/20230807/jobNum_0/iscell_tqm.npy   to   /media/rich/bigSSD/analysis_data/face_rhythm/mouse_0403L/dFoF_and_tqm/20230807/jobNum_0/iscell_tqm.npy\n"
     ]
    },
    {
     "name": "stderr",
     "output_type": "stream",
     "text": [
      "0.00b [00:00, ?b/s]\n"
     ]
    },
    {
     "name": "stdout",
     "output_type": "stream",
     "text": [
      "downloading /n/data1/hms/neurobio/sabatini/rich/analysis/make_dFoF_and_tqm/mouse_0403L/20230807/jobNum_0/sbatch_config.sh   to   /media/rich/bigSSD/analysis_data/face_rhythm/mouse_0403L/dFoF_and_tqm/20230807/jobNum_0/sbatch_config.sh\n"
     ]
    },
    {
     "name": "stderr",
     "output_type": "stream",
     "text": [
      "0.00b [00:00, ?b/s]\n"
     ]
    },
    {
     "name": "stdout",
     "output_type": "stream",
     "text": [
      "downloading /n/data1/hms/neurobio/sabatini/rich/analysis/make_dFoF_and_tqm/mouse_0403L/20230807/make_dFoF_and_tqm.py   to   /media/rich/bigSSD/analysis_data/face_rhythm/mouse_0403L/dFoF_and_tqm/20230807/make_dFoF_and_tqm.py\n"
     ]
    },
    {
     "name": "stderr",
     "output_type": "stream",
     "text": [
      "0.00b [00:00, ?b/s]\n"
     ]
    },
    {
     "name": "stdout",
     "output_type": "stream",
     "text": [
      "downloading /n/data1/hms/neurobio/sabatini/rich/analysis/make_dFoF_and_tqm/mouse_0403L/20230807/dispatcher.py   to   /media/rich/bigSSD/analysis_data/face_rhythm/mouse_0403L/dFoF_and_tqm/20230807/dispatcher.py\n"
     ]
    },
    {
     "name": "stderr",
     "output_type": "stream",
     "text": [
      "0.00b [00:00, ?b/s]\n"
     ]
    },
    {
     "name": "stdout",
     "output_type": "stream",
     "text": [
      "downloading /n/data1/hms/neurobio/sabatini/rich/analysis/make_dFoF_and_tqm/mouse_0403L/20230807/notes.txt   to   /media/rich/bigSSD/analysis_data/face_rhythm/mouse_0403L/dFoF_and_tqm/20230807/notes.txt\n"
     ]
    },
    {
     "name": "stderr",
     "output_type": "stream",
     "text": [
      "0.00b [00:00, ?b/s]\n"
     ]
    },
    {
     "name": "stdout",
     "output_type": "stream",
     "text": [
      "downloading /n/data1/hms/neurobio/sabatini/rich/analysis/make_dFoF_and_tqm/mouse_0403L/20230803/parameters_batch.json   to   /media/rich/bigSSD/analysis_data/face_rhythm/mouse_0403L/dFoF_and_tqm/20230803/parameters_batch.json\n"
     ]
    },
    {
     "name": "stderr",
     "output_type": "stream",
     "text": [
      "0.00b [00:00, ?b/s]\n"
     ]
    },
    {
     "name": "stdout",
     "output_type": "stream",
     "text": [
      "downloading /n/data1/hms/neurobio/sabatini/rich/analysis/make_dFoF_and_tqm/mouse_0403L/20230803/jobNum_0/tqm.pkl   to   /media/rich/bigSSD/analysis_data/face_rhythm/mouse_0403L/dFoF_and_tqm/20230803/jobNum_0/tqm.pkl\n"
     ]
    },
    {
     "name": "stderr",
     "output_type": "stream",
     "text": [
      "0.00b [00:00, ?b/s]\n"
     ]
    },
    {
     "name": "stdout",
     "output_type": "stream",
     "text": [
      "downloading /n/data1/hms/neurobio/sabatini/rich/analysis/make_dFoF_and_tqm/mouse_0403L/20230803/jobNum_0/print_log_16805951.log   to   /media/rich/bigSSD/analysis_data/face_rhythm/mouse_0403L/dFoF_and_tqm/20230803/jobNum_0/print_log_16805951.log\n"
     ]
    },
    {
     "name": "stderr",
     "output_type": "stream",
     "text": [
      "0.00b [00:00, ?b/s]\n"
     ]
    },
    {
     "name": "stdout",
     "output_type": "stream",
     "text": [
      "downloading /n/data1/hms/neurobio/sabatini/rich/analysis/make_dFoF_and_tqm/mouse_0403L/20230803/jobNum_0/params.json   to   /media/rich/bigSSD/analysis_data/face_rhythm/mouse_0403L/dFoF_and_tqm/20230803/jobNum_0/params.json\n"
     ]
    },
    {
     "name": "stderr",
     "output_type": "stream",
     "text": [
      "0.00b [00:00, ?b/s]\n"
     ]
    },
    {
     "name": "stdout",
     "output_type": "stream",
     "text": [
      "downloading /n/data1/hms/neurobio/sabatini/rich/analysis/make_dFoF_and_tqm/mouse_0403L/20230803/jobNum_0/dFoF.npy   to   /media/rich/bigSSD/analysis_data/face_rhythm/mouse_0403L/dFoF_and_tqm/20230803/jobNum_0/dFoF.npy\n"
     ]
    },
    {
     "name": "stderr",
     "output_type": "stream",
     "text": [
      "0.00b [00:26, ?b/s]\n"
     ]
    },
    {
     "name": "stdout",
     "output_type": "stream",
     "text": [
      "downloading /n/data1/hms/neurobio/sabatini/rich/analysis/make_dFoF_and_tqm/mouse_0403L/20230803/jobNum_0/make_dFoF_and_tqm.py   to   /media/rich/bigSSD/analysis_data/face_rhythm/mouse_0403L/dFoF_and_tqm/20230803/jobNum_0/make_dFoF_and_tqm.py\n"
     ]
    },
    {
     "name": "stderr",
     "output_type": "stream",
     "text": [
      "0.00b [00:00, ?b/s]\n"
     ]
    },
    {
     "name": "stdout",
     "output_type": "stream",
     "text": [
      "downloading /n/data1/hms/neurobio/sabatini/rich/analysis/make_dFoF_and_tqm/mouse_0403L/20230803/jobNum_0/iscell_tqm.npy   to   /media/rich/bigSSD/analysis_data/face_rhythm/mouse_0403L/dFoF_and_tqm/20230803/jobNum_0/iscell_tqm.npy\n"
     ]
    },
    {
     "name": "stderr",
     "output_type": "stream",
     "text": [
      "0.00b [00:00, ?b/s]\n"
     ]
    },
    {
     "name": "stdout",
     "output_type": "stream",
     "text": [
      "downloading /n/data1/hms/neurobio/sabatini/rich/analysis/make_dFoF_and_tqm/mouse_0403L/20230803/jobNum_0/sbatch_config.sh   to   /media/rich/bigSSD/analysis_data/face_rhythm/mouse_0403L/dFoF_and_tqm/20230803/jobNum_0/sbatch_config.sh\n"
     ]
    },
    {
     "name": "stderr",
     "output_type": "stream",
     "text": [
      "0.00b [00:00, ?b/s]\n"
     ]
    },
    {
     "name": "stdout",
     "output_type": "stream",
     "text": [
      "downloading /n/data1/hms/neurobio/sabatini/rich/analysis/make_dFoF_and_tqm/mouse_0403L/20230803/make_dFoF_and_tqm.py   to   /media/rich/bigSSD/analysis_data/face_rhythm/mouse_0403L/dFoF_and_tqm/20230803/make_dFoF_and_tqm.py\n"
     ]
    },
    {
     "name": "stderr",
     "output_type": "stream",
     "text": [
      "0.00b [00:00, ?b/s]\n"
     ]
    },
    {
     "name": "stdout",
     "output_type": "stream",
     "text": [
      "downloading /n/data1/hms/neurobio/sabatini/rich/analysis/make_dFoF_and_tqm/mouse_0403L/20230803/dispatcher.py   to   /media/rich/bigSSD/analysis_data/face_rhythm/mouse_0403L/dFoF_and_tqm/20230803/dispatcher.py\n"
     ]
    },
    {
     "name": "stderr",
     "output_type": "stream",
     "text": [
      "0.00b [00:00, ?b/s]\n"
     ]
    },
    {
     "name": "stdout",
     "output_type": "stream",
     "text": [
      "downloading /n/data1/hms/neurobio/sabatini/rich/analysis/make_dFoF_and_tqm/mouse_0403L/20230803/notes.txt   to   /media/rich/bigSSD/analysis_data/face_rhythm/mouse_0403L/dFoF_and_tqm/20230803/notes.txt\n"
     ]
    },
    {
     "name": "stderr",
     "output_type": "stream",
     "text": [
      "0.00b [00:00, ?b/s]\n"
     ]
    },
    {
     "name": "stdout",
     "output_type": "stream",
     "text": [
      "downloading /n/data1/hms/neurobio/sabatini/rich/analysis/make_dFoF_and_tqm/mouse_0403L/20230712/parameters_batch.json   to   /media/rich/bigSSD/analysis_data/face_rhythm/mouse_0403L/dFoF_and_tqm/20230712/parameters_batch.json\n"
     ]
    },
    {
     "name": "stderr",
     "output_type": "stream",
     "text": [
      "0.00b [00:00, ?b/s]\n"
     ]
    },
    {
     "name": "stdout",
     "output_type": "stream",
     "text": [
      "downloading /n/data1/hms/neurobio/sabatini/rich/analysis/make_dFoF_and_tqm/mouse_0403L/20230712/jobNum_0/tqm.pkl   to   /media/rich/bigSSD/analysis_data/face_rhythm/mouse_0403L/dFoF_and_tqm/20230712/jobNum_0/tqm.pkl\n"
     ]
    },
    {
     "name": "stderr",
     "output_type": "stream",
     "text": [
      "0.00b [00:00, ?b/s]\n"
     ]
    },
    {
     "name": "stdout",
     "output_type": "stream",
     "text": [
      "downloading /n/data1/hms/neurobio/sabatini/rich/analysis/make_dFoF_and_tqm/mouse_0403L/20230712/jobNum_0/params.json   to   /media/rich/bigSSD/analysis_data/face_rhythm/mouse_0403L/dFoF_and_tqm/20230712/jobNum_0/params.json\n"
     ]
    },
    {
     "name": "stderr",
     "output_type": "stream",
     "text": [
      "0.00b [00:00, ?b/s]\n"
     ]
    },
    {
     "name": "stdout",
     "output_type": "stream",
     "text": [
      "downloading /n/data1/hms/neurobio/sabatini/rich/analysis/make_dFoF_and_tqm/mouse_0403L/20230712/jobNum_0/dFoF.npy   to   /media/rich/bigSSD/analysis_data/face_rhythm/mouse_0403L/dFoF_and_tqm/20230712/jobNum_0/dFoF.npy\n"
     ]
    },
    {
     "name": "stderr",
     "output_type": "stream",
     "text": [
      "0.00b [00:25, ?b/s]\n"
     ]
    },
    {
     "name": "stdout",
     "output_type": "stream",
     "text": [
      "downloading /n/data1/hms/neurobio/sabatini/rich/analysis/make_dFoF_and_tqm/mouse_0403L/20230712/jobNum_0/print_log_16805796.log   to   /media/rich/bigSSD/analysis_data/face_rhythm/mouse_0403L/dFoF_and_tqm/20230712/jobNum_0/print_log_16805796.log\n"
     ]
    },
    {
     "name": "stderr",
     "output_type": "stream",
     "text": [
      "0.00b [00:00, ?b/s]\n"
     ]
    },
    {
     "name": "stdout",
     "output_type": "stream",
     "text": [
      "downloading /n/data1/hms/neurobio/sabatini/rich/analysis/make_dFoF_and_tqm/mouse_0403L/20230712/jobNum_0/make_dFoF_and_tqm.py   to   /media/rich/bigSSD/analysis_data/face_rhythm/mouse_0403L/dFoF_and_tqm/20230712/jobNum_0/make_dFoF_and_tqm.py\n"
     ]
    },
    {
     "name": "stderr",
     "output_type": "stream",
     "text": [
      "0.00b [00:00, ?b/s]\n"
     ]
    },
    {
     "name": "stdout",
     "output_type": "stream",
     "text": [
      "downloading /n/data1/hms/neurobio/sabatini/rich/analysis/make_dFoF_and_tqm/mouse_0403L/20230712/jobNum_0/iscell_tqm.npy   to   /media/rich/bigSSD/analysis_data/face_rhythm/mouse_0403L/dFoF_and_tqm/20230712/jobNum_0/iscell_tqm.npy\n"
     ]
    },
    {
     "name": "stderr",
     "output_type": "stream",
     "text": [
      "0.00b [00:00, ?b/s]\n"
     ]
    },
    {
     "name": "stdout",
     "output_type": "stream",
     "text": [
      "downloading /n/data1/hms/neurobio/sabatini/rich/analysis/make_dFoF_and_tqm/mouse_0403L/20230712/jobNum_0/sbatch_config.sh   to   /media/rich/bigSSD/analysis_data/face_rhythm/mouse_0403L/dFoF_and_tqm/20230712/jobNum_0/sbatch_config.sh\n"
     ]
    },
    {
     "name": "stderr",
     "output_type": "stream",
     "text": [
      "0.00b [00:00, ?b/s]\n"
     ]
    },
    {
     "name": "stdout",
     "output_type": "stream",
     "text": [
      "downloading /n/data1/hms/neurobio/sabatini/rich/analysis/make_dFoF_and_tqm/mouse_0403L/20230712/make_dFoF_and_tqm.py   to   /media/rich/bigSSD/analysis_data/face_rhythm/mouse_0403L/dFoF_and_tqm/20230712/make_dFoF_and_tqm.py\n"
     ]
    },
    {
     "name": "stderr",
     "output_type": "stream",
     "text": [
      "0.00b [00:00, ?b/s]\n"
     ]
    },
    {
     "name": "stdout",
     "output_type": "stream",
     "text": [
      "downloading /n/data1/hms/neurobio/sabatini/rich/analysis/make_dFoF_and_tqm/mouse_0403L/20230712/dispatcher.py   to   /media/rich/bigSSD/analysis_data/face_rhythm/mouse_0403L/dFoF_and_tqm/20230712/dispatcher.py\n"
     ]
    },
    {
     "name": "stderr",
     "output_type": "stream",
     "text": [
      "0.00b [00:00, ?b/s]\n"
     ]
    },
    {
     "name": "stdout",
     "output_type": "stream",
     "text": [
      "downloading /n/data1/hms/neurobio/sabatini/rich/analysis/make_dFoF_and_tqm/mouse_0403L/20230712/notes.txt   to   /media/rich/bigSSD/analysis_data/face_rhythm/mouse_0403L/dFoF_and_tqm/20230712/notes.txt\n"
     ]
    },
    {
     "name": "stderr",
     "output_type": "stream",
     "text": [
      "0.00b [00:00, ?b/s]\n"
     ]
    },
    {
     "name": "stdout",
     "output_type": "stream",
     "text": [
      "downloading /n/data1/hms/neurobio/sabatini/rich/analysis/make_dFoF_and_tqm/mouse_0403L/20230714/parameters_batch.json   to   /media/rich/bigSSD/analysis_data/face_rhythm/mouse_0403L/dFoF_and_tqm/20230714/parameters_batch.json\n"
     ]
    },
    {
     "name": "stderr",
     "output_type": "stream",
     "text": [
      "0.00b [00:00, ?b/s]\n"
     ]
    },
    {
     "name": "stdout",
     "output_type": "stream",
     "text": [
      "downloading /n/data1/hms/neurobio/sabatini/rich/analysis/make_dFoF_and_tqm/mouse_0403L/20230714/jobNum_0/tqm.pkl   to   /media/rich/bigSSD/analysis_data/face_rhythm/mouse_0403L/dFoF_and_tqm/20230714/jobNum_0/tqm.pkl\n"
     ]
    },
    {
     "name": "stderr",
     "output_type": "stream",
     "text": [
      "0.00b [00:00, ?b/s]\n"
     ]
    },
    {
     "name": "stdout",
     "output_type": "stream",
     "text": [
      "downloading /n/data1/hms/neurobio/sabatini/rich/analysis/make_dFoF_and_tqm/mouse_0403L/20230714/jobNum_0/params.json   to   /media/rich/bigSSD/analysis_data/face_rhythm/mouse_0403L/dFoF_and_tqm/20230714/jobNum_0/params.json\n"
     ]
    },
    {
     "name": "stderr",
     "output_type": "stream",
     "text": [
      "0.00b [00:00, ?b/s]\n"
     ]
    },
    {
     "name": "stdout",
     "output_type": "stream",
     "text": [
      "downloading /n/data1/hms/neurobio/sabatini/rich/analysis/make_dFoF_and_tqm/mouse_0403L/20230714/jobNum_0/dFoF.npy   to   /media/rich/bigSSD/analysis_data/face_rhythm/mouse_0403L/dFoF_and_tqm/20230714/jobNum_0/dFoF.npy\n"
     ]
    },
    {
     "name": "stderr",
     "output_type": "stream",
     "text": [
      "0.00b [00:27, ?b/s]\n"
     ]
    },
    {
     "name": "stdout",
     "output_type": "stream",
     "text": [
      "downloading /n/data1/hms/neurobio/sabatini/rich/analysis/make_dFoF_and_tqm/mouse_0403L/20230714/jobNum_0/make_dFoF_and_tqm.py   to   /media/rich/bigSSD/analysis_data/face_rhythm/mouse_0403L/dFoF_and_tqm/20230714/jobNum_0/make_dFoF_and_tqm.py\n"
     ]
    },
    {
     "name": "stderr",
     "output_type": "stream",
     "text": [
      "0.00b [00:00, ?b/s]\n"
     ]
    },
    {
     "name": "stdout",
     "output_type": "stream",
     "text": [
      "downloading /n/data1/hms/neurobio/sabatini/rich/analysis/make_dFoF_and_tqm/mouse_0403L/20230714/jobNum_0/iscell_tqm.npy   to   /media/rich/bigSSD/analysis_data/face_rhythm/mouse_0403L/dFoF_and_tqm/20230714/jobNum_0/iscell_tqm.npy\n"
     ]
    },
    {
     "name": "stderr",
     "output_type": "stream",
     "text": [
      "0.00b [00:00, ?b/s]\n"
     ]
    },
    {
     "name": "stdout",
     "output_type": "stream",
     "text": [
      "downloading /n/data1/hms/neurobio/sabatini/rich/analysis/make_dFoF_and_tqm/mouse_0403L/20230714/jobNum_0/sbatch_config.sh   to   /media/rich/bigSSD/analysis_data/face_rhythm/mouse_0403L/dFoF_and_tqm/20230714/jobNum_0/sbatch_config.sh\n"
     ]
    },
    {
     "name": "stderr",
     "output_type": "stream",
     "text": [
      "0.00b [00:00, ?b/s]\n"
     ]
    },
    {
     "name": "stdout",
     "output_type": "stream",
     "text": [
      "downloading /n/data1/hms/neurobio/sabatini/rich/analysis/make_dFoF_and_tqm/mouse_0403L/20230714/jobNum_0/print_log_16805814.log   to   /media/rich/bigSSD/analysis_data/face_rhythm/mouse_0403L/dFoF_and_tqm/20230714/jobNum_0/print_log_16805814.log\n"
     ]
    },
    {
     "name": "stderr",
     "output_type": "stream",
     "text": [
      "0.00b [00:00, ?b/s]\n"
     ]
    },
    {
     "name": "stdout",
     "output_type": "stream",
     "text": [
      "downloading /n/data1/hms/neurobio/sabatini/rich/analysis/make_dFoF_and_tqm/mouse_0403L/20230714/make_dFoF_and_tqm.py   to   /media/rich/bigSSD/analysis_data/face_rhythm/mouse_0403L/dFoF_and_tqm/20230714/make_dFoF_and_tqm.py\n"
     ]
    },
    {
     "name": "stderr",
     "output_type": "stream",
     "text": [
      "0.00b [00:00, ?b/s]\n"
     ]
    },
    {
     "name": "stdout",
     "output_type": "stream",
     "text": [
      "downloading /n/data1/hms/neurobio/sabatini/rich/analysis/make_dFoF_and_tqm/mouse_0403L/20230714/dispatcher.py   to   /media/rich/bigSSD/analysis_data/face_rhythm/mouse_0403L/dFoF_and_tqm/20230714/dispatcher.py\n"
     ]
    },
    {
     "name": "stderr",
     "output_type": "stream",
     "text": [
      "0.00b [00:00, ?b/s]\n"
     ]
    },
    {
     "name": "stdout",
     "output_type": "stream",
     "text": [
      "downloading /n/data1/hms/neurobio/sabatini/rich/analysis/make_dFoF_and_tqm/mouse_0403L/20230714/notes.txt   to   /media/rich/bigSSD/analysis_data/face_rhythm/mouse_0403L/dFoF_and_tqm/20230714/notes.txt\n"
     ]
    },
    {
     "name": "stderr",
     "output_type": "stream",
     "text": [
      "0.00b [00:00, ?b/s]\n"
     ]
    },
    {
     "name": "stdout",
     "output_type": "stream",
     "text": [
      "downloading /n/data1/hms/neurobio/sabatini/rich/analysis/make_dFoF_and_tqm/mouse_0403L/20230729/parameters_batch.json   to   /media/rich/bigSSD/analysis_data/face_rhythm/mouse_0403L/dFoF_and_tqm/20230729/parameters_batch.json\n"
     ]
    },
    {
     "name": "stderr",
     "output_type": "stream",
     "text": [
      "0.00b [00:00, ?b/s]\n"
     ]
    },
    {
     "name": "stdout",
     "output_type": "stream",
     "text": [
      "downloading /n/data1/hms/neurobio/sabatini/rich/analysis/make_dFoF_and_tqm/mouse_0403L/20230729/jobNum_0/tqm.pkl   to   /media/rich/bigSSD/analysis_data/face_rhythm/mouse_0403L/dFoF_and_tqm/20230729/jobNum_0/tqm.pkl\n"
     ]
    },
    {
     "name": "stderr",
     "output_type": "stream",
     "text": [
      "0.00b [00:00, ?b/s]\n"
     ]
    },
    {
     "name": "stdout",
     "output_type": "stream",
     "text": [
      "downloading /n/data1/hms/neurobio/sabatini/rich/analysis/make_dFoF_and_tqm/mouse_0403L/20230729/jobNum_0/params.json   to   /media/rich/bigSSD/analysis_data/face_rhythm/mouse_0403L/dFoF_and_tqm/20230729/jobNum_0/params.json\n"
     ]
    },
    {
     "name": "stderr",
     "output_type": "stream",
     "text": [
      "0.00b [00:00, ?b/s]\n"
     ]
    },
    {
     "name": "stdout",
     "output_type": "stream",
     "text": [
      "downloading /n/data1/hms/neurobio/sabatini/rich/analysis/make_dFoF_and_tqm/mouse_0403L/20230729/jobNum_0/dFoF.npy   to   /media/rich/bigSSD/analysis_data/face_rhythm/mouse_0403L/dFoF_and_tqm/20230729/jobNum_0/dFoF.npy\n"
     ]
    },
    {
     "name": "stderr",
     "output_type": "stream",
     "text": [
      "0.00b [00:32, ?b/s]\n"
     ]
    },
    {
     "name": "stdout",
     "output_type": "stream",
     "text": [
      "downloading /n/data1/hms/neurobio/sabatini/rich/analysis/make_dFoF_and_tqm/mouse_0403L/20230729/jobNum_0/print_log_16805920.log   to   /media/rich/bigSSD/analysis_data/face_rhythm/mouse_0403L/dFoF_and_tqm/20230729/jobNum_0/print_log_16805920.log\n"
     ]
    },
    {
     "name": "stderr",
     "output_type": "stream",
     "text": [
      "0.00b [00:00, ?b/s]\n"
     ]
    },
    {
     "name": "stdout",
     "output_type": "stream",
     "text": [
      "downloading /n/data1/hms/neurobio/sabatini/rich/analysis/make_dFoF_and_tqm/mouse_0403L/20230729/jobNum_0/make_dFoF_and_tqm.py   to   /media/rich/bigSSD/analysis_data/face_rhythm/mouse_0403L/dFoF_and_tqm/20230729/jobNum_0/make_dFoF_and_tqm.py\n"
     ]
    },
    {
     "name": "stderr",
     "output_type": "stream",
     "text": [
      "0.00b [00:00, ?b/s]\n"
     ]
    },
    {
     "name": "stdout",
     "output_type": "stream",
     "text": [
      "downloading /n/data1/hms/neurobio/sabatini/rich/analysis/make_dFoF_and_tqm/mouse_0403L/20230729/jobNum_0/iscell_tqm.npy   to   /media/rich/bigSSD/analysis_data/face_rhythm/mouse_0403L/dFoF_and_tqm/20230729/jobNum_0/iscell_tqm.npy\n"
     ]
    },
    {
     "name": "stderr",
     "output_type": "stream",
     "text": [
      "0.00b [00:00, ?b/s]\n"
     ]
    },
    {
     "name": "stdout",
     "output_type": "stream",
     "text": [
      "downloading /n/data1/hms/neurobio/sabatini/rich/analysis/make_dFoF_and_tqm/mouse_0403L/20230729/jobNum_0/sbatch_config.sh   to   /media/rich/bigSSD/analysis_data/face_rhythm/mouse_0403L/dFoF_and_tqm/20230729/jobNum_0/sbatch_config.sh\n"
     ]
    },
    {
     "name": "stderr",
     "output_type": "stream",
     "text": [
      "0.00b [00:00, ?b/s]\n"
     ]
    },
    {
     "name": "stdout",
     "output_type": "stream",
     "text": [
      "downloading /n/data1/hms/neurobio/sabatini/rich/analysis/make_dFoF_and_tqm/mouse_0403L/20230729/make_dFoF_and_tqm.py   to   /media/rich/bigSSD/analysis_data/face_rhythm/mouse_0403L/dFoF_and_tqm/20230729/make_dFoF_and_tqm.py\n"
     ]
    },
    {
     "name": "stderr",
     "output_type": "stream",
     "text": [
      "0.00b [00:00, ?b/s]\n"
     ]
    },
    {
     "name": "stdout",
     "output_type": "stream",
     "text": [
      "downloading /n/data1/hms/neurobio/sabatini/rich/analysis/make_dFoF_and_tqm/mouse_0403L/20230729/dispatcher.py   to   /media/rich/bigSSD/analysis_data/face_rhythm/mouse_0403L/dFoF_and_tqm/20230729/dispatcher.py\n"
     ]
    },
    {
     "name": "stderr",
     "output_type": "stream",
     "text": [
      "0.00b [00:00, ?b/s]\n"
     ]
    },
    {
     "name": "stdout",
     "output_type": "stream",
     "text": [
      "downloading /n/data1/hms/neurobio/sabatini/rich/analysis/make_dFoF_and_tqm/mouse_0403L/20230729/notes.txt   to   /media/rich/bigSSD/analysis_data/face_rhythm/mouse_0403L/dFoF_and_tqm/20230729/notes.txt\n"
     ]
    },
    {
     "name": "stderr",
     "output_type": "stream",
     "text": [
      "0.00b [00:00, ?b/s]\n"
     ]
    }
   ],
   "source": [
    "sftp.get_dir(source=dir_dFoF_and_tqm_remote, target=directory_local_save)"
   ]
  },
  {
   "cell_type": "code",
   "execution_count": null,
   "id": "d651c49d-0e56-4deb-a3a6-adb3e4003488",
   "metadata": {},
   "outputs": [],
   "source": []
  },
  {
   "cell_type": "code",
   "execution_count": null,
   "id": "ab91f04e-1e72-4b5c-ac56-f46890fd1516",
   "metadata": {},
   "outputs": [],
   "source": [
    "paths_dFoF_remote = natsort.natsorted(sftp.search_recursive(\n",
    "    path=r'/n/data1/hms/neurobio/sabatini/rich/analysis/make_dFoF_and_tqm/mouse_0322R',\n",
    "    search_pattern_re=r'dFoF.npy',\n",
    "    max_depth=6,\n",
    "    find_files=True,\n",
    "    find_folders=False,\n",
    "    verbose=True,\n",
    "))"
   ]
  },
  {
   "cell_type": "code",
   "execution_count": 42,
   "id": "cbe06c45-54dc-442f-a321-7d407e0e56e3",
   "metadata": {},
   "outputs": [],
   "source": [
    "dates_dFoF_remote = [Path(p).parts[-3] for p in paths_dFoF_remote]"
   ]
  },
  {
   "cell_type": "code",
   "execution_count": 43,
   "id": "c5a002c3-88b1-4cab-8619-2440bbcc1b05",
   "metadata": {},
   "outputs": [
    {
     "data": {
      "text/plain": [
       "['20230419',\n",
       " '20230420',\n",
       " '20230424',\n",
       " '20230425',\n",
       " '20230426',\n",
       " '20230427',\n",
       " '20230428',\n",
       " '20230429',\n",
       " '20230430',\n",
       " '20230501',\n",
       " '20230502',\n",
       " '20230503',\n",
       " '20230504',\n",
       " '20230505',\n",
       " '20230506',\n",
       " '20230507',\n",
       " '20230508',\n",
       " '20230509',\n",
       " '20230511',\n",
       " '20230512',\n",
       " '20230513',\n",
       " '20230514',\n",
       " '20230515',\n",
       " '20230516',\n",
       " '20230517',\n",
       " '20230518',\n",
       " '20230519',\n",
       " '20230520',\n",
       " '20230521',\n",
       " '20230522',\n",
       " '20230523',\n",
       " '20230524',\n",
       " '20230525',\n",
       " '20230526',\n",
       " '20230527',\n",
       " '20230530',\n",
       " '20230531']"
      ]
     },
     "execution_count": 43,
     "metadata": {},
     "output_type": "execute_result"
    }
   ],
   "source": [
    "dates_dFoF_remote"
   ]
  },
  {
   "cell_type": "code",
   "execution_count": 44,
   "id": "22f095cc-8fd9-4a43-b46d-61c7af6eb868",
   "metadata": {},
   "outputs": [],
   "source": [
    "directory_local_save = r'/media/rich/bigSSD/analysis_data/face_rhythm/mouse_0322R/dFoF_and_tqm/'"
   ]
  },
  {
   "cell_type": "code",
   "execution_count": null,
   "id": "8f54f4d0-fc0f-4dab-b42a-25f3ba2bb2b3",
   "metadata": {},
   "outputs": [],
   "source": [
    "[sftp.get(remotepath=p_r, localpath=str(Path(directory_local_save) / date / Path(p_r).name)) for p_r, date in zip(paths_csvs_remote, dates_dFoF_remote)];"
   ]
  },
  {
   "cell_type": "code",
   "execution_count": null,
   "id": "3bae1996-2180-44d3-8115-4ebbba48d88b",
   "metadata": {},
   "outputs": [],
   "source": [
    "[sftp.get(remotepath=str(Path(p_r).parent / 'iscell_tqm.npy'), localpath=str(Path(directory_local_save) / date / 'iscell_tqm.npy')) for p_r, date in zip(paths_csvs_remote, dates_dFoF_remote)];"
   ]
  },
  {
   "cell_type": "markdown",
   "id": "77a223a2-17d0-4ef6-a7ec-bc74d4467c6f",
   "metadata": {},
   "source": [
    "## Clean up"
   ]
  },
  {
   "cell_type": "code",
   "execution_count": null,
   "id": "b31f6bcb",
   "metadata": {},
   "outputs": [],
   "source": [
    "## delete password\n",
    "del pw\n",
    "gc.collect()\n",
    "\n",
    "## close sftp\n",
    "if sftp: sftp.close()\n",
    "if transport: transport.close()\n",
    "del sftp\n",
    "del transport\n",
    "    \n",
    "## close ssh\n",
    "ssh_t.close()\n",
    "del ssh_t\n",
    "ssh_c.close()\n",
    "del ssh_c\n",
    "gc.collect()"
   ]
  },
  {
   "cell_type": "code",
   "execution_count": null,
   "id": "b1e29db0",
   "metadata": {},
   "outputs": [],
   "source": []
  },
  {
   "cell_type": "code",
   "execution_count": null,
   "id": "a2ee21fd",
   "metadata": {},
   "outputs": [],
   "source": []
  }
 ],
 "metadata": {
  "kernelspec": {
   "display_name": "Python 3 (ipykernel)",
   "language": "python",
   "name": "python3"
  },
  "language_info": {
   "codemirror_mode": {
    "name": "ipython",
    "version": 3
   },
   "file_extension": ".py",
   "mimetype": "text/x-python",
   "name": "python",
   "nbconvert_exporter": "python",
   "pygments_lexer": "ipython3",
   "version": "3.11.3"
  }
 },
 "nbformat": 4,
 "nbformat_minor": 5
}
