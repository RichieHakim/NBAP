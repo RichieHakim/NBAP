{
 "cells": [
  {
   "cell_type": "code",
   "execution_count": 49,
   "id": "76245f30-a992-4056-ba23-78ce5f994204",
   "metadata": {},
   "outputs": [
    {
     "data": {
      "text/html": [
       "<style>:root { --jp-notebook-max-width: 100% !important; }</style>"
      ],
      "text/plain": [
       "<IPython.core.display.HTML object>"
      ]
     },
     "metadata": {},
     "output_type": "display_data"
    },
    {
     "name": "stdout",
     "output_type": "stream",
     "text": [
      "Conda Environment: roicat\n"
     ]
    }
   ],
   "source": [
    "from IPython.display import display, HTML\n",
    "display(HTML(\"<style>:root { --jp-notebook-max-width: 100% !important; }</style>\"))\n",
    "\n",
    "# check environment\n",
    "import os\n",
    "print(f'Conda Environment: ' + os.environ['CONDA_DEFAULT_ENV'])"
   ]
  },
  {
   "cell_type": "code",
   "execution_count": 3,
   "id": "7e1f7eb1-e0a2-48c6-9dd9-1304089b1c18",
   "metadata": {},
   "outputs": [],
   "source": [
    "from pathlib import Path\n",
    "\n",
    "import numpy as np\n",
    "import matplotlib.pyplot as plt"
   ]
  },
  {
   "cell_type": "code",
   "execution_count": 4,
   "id": "822a3031-bf8f-4f41-b2a7-210d8242a065",
   "metadata": {},
   "outputs": [],
   "source": [
    "%load_ext autoreload\n",
    "%autoreload 2\n",
    "import bnpm"
   ]
  },
  {
   "cell_type": "code",
   "execution_count": 5,
   "id": "e6e41775-a56a-491e-bd02-03cfe02cb714",
   "metadata": {},
   "outputs": [
    {
     "name": "stdout",
     "output_type": "stream",
     "text": [
      "The autoreload extension is already loaded. To reload it, use:\n",
      "  %reload_ext autoreload\n"
     ]
    }
   ],
   "source": [
    "%load_ext autoreload\n",
    "%autoreload 2\n",
    "import roicat"
   ]
  },
  {
   "cell_type": "markdown",
   "id": "2b4c977e-4324-4922-bb67-b39e799f5c68",
   "metadata": {},
   "source": [
    "set general parameters"
   ]
  },
  {
   "cell_type": "code",
   "execution_count": 6,
   "id": "ed42fc8e-7769-4c87-a134-1ef69f506771",
   "metadata": {},
   "outputs": [],
   "source": [
    "path_tracking_results = r'/media/rich/bigSSD/analysis_data/face_rhythm/mouse_0322N/stat_and_ops.ROICaT.tracking.results.pkl'"
   ]
  },
  {
   "cell_type": "code",
   "execution_count": 7,
   "id": "638b2da4-a067-4ceb-9d29-7820ad3c01f8",
   "metadata": {},
   "outputs": [],
   "source": [
    "tracking_results = bnpm.file_helpers.pickle_load(path_tracking_results)"
   ]
  },
  {
   "cell_type": "code",
   "execution_count": 8,
   "id": "e66c7304-bcc9-4502-8205-2412f67196ce",
   "metadata": {},
   "outputs": [],
   "source": [
    "dates = [Path(p).parts[-2] for p in tracking_results['input_data']['paths_stat']]\n",
    "labels = {d: l for d, l in zip(dates, tracking_results['clusters']['labels_bySession'])}"
   ]
  },
  {
   "cell_type": "code",
   "execution_count": null,
   "id": "db8e746f-6f17-4353-a477-e66beb9f446e",
   "metadata": {},
   "outputs": [],
   "source": []
  },
  {
   "cell_type": "code",
   "execution_count": 9,
   "id": "65fb983e-a45e-4467-be97-52a469d88826",
   "metadata": {},
   "outputs": [],
   "source": [
    "path_classification_results = r'/media/rich/bigSSD/analysis_data/face_rhythm/mouse_0322N/mouse_0322N.ROICaT.classification_drawn.results.pkl'\n",
    "classification_results = bnpm.file_helpers.pickle_load(path_classification_results)"
   ]
  },
  {
   "cell_type": "code",
   "execution_count": 21,
   "id": "f1b5db19-08d0-40c1-b158-23465c3762e2",
   "metadata": {},
   "outputs": [],
   "source": [
    "iscells_classification = classification_results['preds']"
   ]
  },
  {
   "cell_type": "code",
   "execution_count": null,
   "id": "e3bb7fa6-18c9-49f1-aa4d-a8c53f4bd417",
   "metadata": {},
   "outputs": [],
   "source": []
  },
  {
   "cell_type": "code",
   "execution_count": 23,
   "id": "86a79474-871f-487c-9558-a82085f2c7d9",
   "metadata": {},
   "outputs": [],
   "source": [
    "iscells_tqm = {date: np.load(Path(r'/media/rich/bigSSD/analysis_data/face_rhythm/mouse_0322N/dFoF_and_tqm/') / date / 'jobNum_0' / 'iscell_tqm.npy', mmap_mode='r') for date in labels.keys()}"
   ]
  },
  {
   "cell_type": "code",
   "execution_count": 29,
   "id": "6fc424ee-24a8-4b8a-8533-9dbd905ef86c",
   "metadata": {},
   "outputs": [],
   "source": [
    "assert all([ic_tqm.shape[0] == ic_c.shape[0] for ic_tqm, ic_c in zip(iscells_tqm.values(), iscells_classification)])"
   ]
  },
  {
   "cell_type": "code",
   "execution_count": 33,
   "id": "ff243b24-2adb-4853-9668-090662debd65",
   "metadata": {},
   "outputs": [],
   "source": [
    "iscells_final = {date: ic_tqm * ic_c for (date, ic_tqm), ic_c in zip(iscells_tqm.items(), iscells_classification)}"
   ]
  },
  {
   "cell_type": "code",
   "execution_count": null,
   "id": "17cb74db-ca71-4968-beaa-92a918ed5eac",
   "metadata": {},
   "outputs": [],
   "source": []
  },
  {
   "cell_type": "code",
   "execution_count": 11,
   "id": "79ae1c03-0fe8-4ea6-a836-9888c238798a",
   "metadata": {},
   "outputs": [
    {
     "data": {
      "image/png": "[encoded data removed]",
      "text/plain": [
       "<Figure size 640x480 with 1 Axes>"
      ]
     },
     "metadata": {},
     "output_type": "display_data"
    }
   ],
   "source": [
    "plt.figure()\n",
    "plt.hist(tracking_results['quality_metrics']['cluster_silhouette'], 100);"
   ]
  },
  {
   "cell_type": "code",
   "execution_count": 35,
   "id": "1ff2bc6d-ddaf-4c74-b0de-503d0b7b9d4f",
   "metadata": {},
   "outputs": [],
   "source": [
    "labels_unique = np.unique(tracking_results['clusters']['labels'])\n",
    "iscell_trackingQualityMetrics = tracking_results['quality_metrics']['cluster_silhouette'] > 0.0\n",
    "assert len(labels_unique == iscell_trackingQualityMetrics)\n",
    "\n",
    "labels_badQuality = labels_unique[~iscell_trackingQualityMetrics]"
   ]
  },
  {
   "cell_type": "code",
   "execution_count": 36,
   "id": "b187be78-0bd4-4e7b-a254-cb6bf7ebafd5",
   "metadata": {},
   "outputs": [],
   "source": [
    "labels_processed = [np.array(l, dtype=np.int64) for date, l in labels.items()]"
   ]
  },
  {
   "cell_type": "code",
   "execution_count": 37,
   "id": "0e214931-dfe5-45ba-8e23-d1768c49ee8f",
   "metadata": {},
   "outputs": [],
   "source": [
    "def find_and_replace_values(arr, vals_find, val_replace):\n",
    "    arr_out = arr.copy()\n",
    "    arr_out[np.isin(arr_out, vals_find)] = val_replace\n",
    "    return arr_out"
   ]
  },
  {
   "cell_type": "code",
   "execution_count": 38,
   "id": "31973922-756f-466e-95e9-b27f1c37e227",
   "metadata": {},
   "outputs": [],
   "source": [
    "labels_processed = [find_and_replace_values(l, vals_find=labels_badQuality, val_replace=-1) for l in labels_processed]                                            "
   ]
  },
  {
   "cell_type": "code",
   "execution_count": 39,
   "id": "921039e2-5fba-4489-990a-c449930ddf5c",
   "metadata": {},
   "outputs": [],
   "source": [
    "labels_processed = roicat.util.mask_UCIDs_with_iscell(\n",
    "    ucids=labels_processed,\n",
    "    iscell=list(iscells_final.values()),\n",
    ")"
   ]
  },
  {
   "cell_type": "code",
   "execution_count": 40,
   "id": "b057278e-50ec-48bd-b228-dda4d4a4db04",
   "metadata": {},
   "outputs": [
    {
     "name": "stdout",
     "output_type": "stream",
     "text": [
      "INFO: 70.05% of UCIDs in first session appear in at least 10 sessions.\n"
     ]
    }
   ],
   "source": [
    "labels_processed = roicat.util.discard_UCIDs_with_fewer_matches(\n",
    "    ucids=labels_processed,\n",
    "    n_sesh_thresh=10,\n",
    ")"
   ]
  },
  {
   "cell_type": "code",
   "execution_count": 41,
   "id": "cf710a36-f24f-46ed-a8f5-b5fd5a3abc7a",
   "metadata": {},
   "outputs": [],
   "source": [
    "labels_processed = roicat.util.squeeze_UCID_labels(\n",
    "    ucids=labels_processed,\n",
    ")"
   ]
  },
  {
   "cell_type": "markdown",
   "id": "d70b694b-ae8a-4b2b-9625-c87c6aabbd36",
   "metadata": {},
   "source": [
    "get dFoF"
   ]
  },
  {
   "cell_type": "code",
   "execution_count": 42,
   "id": "ae44dc05-177f-4742-aa6b-2eb3eb5cba66",
   "metadata": {},
   "outputs": [],
   "source": [
    "dFoFs = {date: np.load(Path(r'/media/rich/bigSSD/analysis_data/face_rhythm/mouse_0322N/dFoF_and_tqm/') / date / 'jobNum_0' / 'dFoF.npy', mmap_mode='r') for date in labels.keys()}"
   ]
  },
  {
   "cell_type": "code",
   "execution_count": 43,
   "id": "197f5dae-19b9-4e5f-a652-7204d7ab8f70",
   "metadata": {},
   "outputs": [],
   "source": [
    "dFoF_aligned = roicat.util.match_arrays_with_ucids(\n",
    "    arrays=list(dFoFs.values()),\n",
    "    ucids=labels_processed,\n",
    "    squeeze=True,\n",
    ")"
   ]
  },
  {
   "cell_type": "code",
   "execution_count": null,
   "id": "353d6470-17a0-4129-a761-de4c6711da70",
   "metadata": {},
   "outputs": [],
   "source": []
  },
  {
   "cell_type": "markdown",
   "id": "a9d2fd53-4e1f-450d-9470-9b7b4e13b775",
   "metadata": {},
   "source": [
    "save aligned dF/F arrays"
   ]
  },
  {
   "cell_type": "code",
   "execution_count": 47,
   "id": "bb1092b0-fae1-49e5-a216-f7ed19bb0f60",
   "metadata": {},
   "outputs": [],
   "source": [
    "dir_save = r'/media/rich/bigSSD/analysis_data/face_rhythm/mouse_0322N/dFoF_aligned/'"
   ]
  },
  {
   "cell_type": "code",
   "execution_count": 48,
   "id": "1dd52ad9-8a4c-4ab8-9e78-2bf0007fcda9",
   "metadata": {},
   "outputs": [],
   "source": [
    "for d, dfof in zip(dates, dFoF_aligned):\n",
    "    path = str(Path(dir_save).resolve() / d / 'dFoF_aligned.npy')\n",
    "    Path(path).parent.mkdir(parents=True, exist_ok=True)\n",
    "    np.save(path, dfof.astype(np.float32))"
   ]
  },
  {
   "cell_type": "code",
   "execution_count": null,
   "id": "8b3382f7-8336-44c1-af92-d116cdfb17ef",
   "metadata": {},
   "outputs": [],
   "source": []
  },
  {
   "cell_type": "code",
   "execution_count": null,
   "id": "c8fbc358-fb83-480e-9185-5a745cba63fd",
   "metadata": {},
   "outputs": [],
   "source": []
  },
  {
   "cell_type": "code",
   "execution_count": null,
   "id": "57b5c92e-9ab8-467e-bcdd-db7df8c1bcd2",
   "metadata": {},
   "outputs": [],
   "source": []
  },
  {
   "cell_type": "code",
   "execution_count": null,
   "id": "b9a5d43d-f877-4ded-bba7-0b05def2ce79",
   "metadata": {},
   "outputs": [],
   "source": []
  },
  {
   "cell_type": "code",
   "execution_count": null,
   "id": "e673a7ec-2034-4657-9721-4e1cd0664237",
   "metadata": {},
   "outputs": [],
   "source": []
  },
  {
   "cell_type": "code",
   "execution_count": null,
   "id": "834b6282-fac3-4387-afe7-927c7cb20717",
   "metadata": {},
   "outputs": [],
   "source": []
  },
  {
   "cell_type": "code",
   "execution_count": null,
   "id": "bd082252-4cd9-426f-90a0-caeab723fb17",
   "metadata": {},
   "outputs": [],
   "source": []
  },
  {
   "cell_type": "code",
   "execution_count": null,
   "id": "8f0237b4-9807-4942-8433-6c0ac340344d",
   "metadata": {},
   "outputs": [],
   "source": []
  },
  {
   "cell_type": "code",
   "execution_count": null,
   "id": "d9ffe4ba-441d-41fe-a0b3-cb29d63ffea2",
   "metadata": {},
   "outputs": [],
   "source": []
  },
  {
   "cell_type": "code",
   "execution_count": null,
   "id": "6e2fddc8-268a-4568-afa5-c3d9b426ee11",
   "metadata": {},
   "outputs": [],
   "source": []
  },
  {
   "cell_type": "code",
   "execution_count": null,
   "id": "7336213d-2044-4ab4-aade-8a06d70af57e",
   "metadata": {},
   "outputs": [],
   "source": []
  },
  {
   "cell_type": "code",
   "execution_count": null,
   "id": "ff31bbe6-e819-4ba1-bc57-c2ce290575e7",
   "metadata": {},
   "outputs": [],
   "source": []
  }
 ],
 "metadata": {
  "kernelspec": {
   "display_name": "Python 3 (ipykernel)",
   "language": "python",
   "name": "python3"
  },
  "language_info": {
   "codemirror_mode": {
    "name": "ipython",
    "version": 3
   },
   "file_extension": ".py",
   "mimetype": "text/x-python",
   "name": "python",
   "nbconvert_exporter": "python",
   "pygments_lexer": "ipython3",
   "version": "3.11.3"
  }
 },
 "nbformat": 4,
 "nbformat_minor": 5
}
