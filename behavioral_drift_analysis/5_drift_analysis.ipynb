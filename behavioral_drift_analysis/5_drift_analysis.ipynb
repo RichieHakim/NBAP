{
 "cells": [
  {
   "cell_type": "code",
   "execution_count": 1,
   "id": "76245f30-a992-4056-ba23-78ce5f994204",
   "metadata": {},
   "outputs": [
    {
     "data": {
      "text/html": [
       "<style>:root { --jp-notebook-max-width: 100% !important; }</style>"
      ],
      "text/plain": [
       "<IPython.core.display.HTML object>"
      ]
     },
     "metadata": {},
     "output_type": "display_data"
    },
    {
     "name": "stdout",
     "output_type": "stream",
     "text": [
      "Conda Environment: roicat\n"
     ]
    }
   ],
   "source": [
    "from IPython.display import display, HTML\n",
    "display(HTML(\"<style>:root { --jp-notebook-max-width: 100% !important; }</style>\"))\n",
    "\n",
    "# check environment\n",
    "import os\n",
    "print(f'Conda Environment: ' + os.environ['CONDA_DEFAULT_ENV'])"
   ]
  },
  {
   "cell_type": "code",
   "execution_count": 8,
   "id": "7e1f7eb1-e0a2-48c6-9dd9-1304089b1c18",
   "metadata": {},
   "outputs": [],
   "source": [
    "from pathlib import Path\n",
    "\n",
    "import numpy as np\n",
    "import matplotlib.pyplot as plt"
   ]
  },
  {
   "cell_type": "code",
   "execution_count": 3,
   "id": "822a3031-bf8f-4f41-b2a7-210d8242a065",
   "metadata": {},
   "outputs": [],
   "source": [
    "%load_ext autoreload\n",
    "%autoreload 2\n",
    "import bnpm"
   ]
  },
  {
   "cell_type": "code",
   "execution_count": 4,
   "id": "e6e41775-a56a-491e-bd02-03cfe02cb714",
   "metadata": {},
   "outputs": [
    {
     "name": "stdout",
     "output_type": "stream",
     "text": [
      "The autoreload extension is already loaded. To reload it, use:\n",
      "  %reload_ext autoreload\n"
     ]
    }
   ],
   "source": [
    "%load_ext autoreload\n",
    "%autoreload 2\n",
    "import roicat"
   ]
  },
  {
   "cell_type": "markdown",
   "id": "2b4c977e-4324-4922-bb67-b39e799f5c68",
   "metadata": {},
   "source": [
    "set general parameters"
   ]
  },
  {
   "cell_type": "code",
   "execution_count": 16,
   "id": "ed42fc8e-7769-4c87-a134-1ef69f506771",
   "metadata": {},
   "outputs": [],
   "source": [
    "path_tracking_results = r'/media/rich/bigSSD/analysis_data/face_rhythm/mouse_0322N/stat_and_ops.ROICaT.tracking.results.pkl'"
   ]
  },
  {
   "cell_type": "code",
   "execution_count": 17,
   "id": "638b2da4-a067-4ceb-9d29-7820ad3c01f8",
   "metadata": {},
   "outputs": [],
   "source": [
    "tracking_results = bnpm.file_helpers.pickle_load(path_tracking_results)"
   ]
  },
  {
   "cell_type": "code",
   "execution_count": 27,
   "id": "e66c7304-bcc9-4502-8205-2412f67196ce",
   "metadata": {},
   "outputs": [],
   "source": [
    "labels = {Path(p).parts[-2]: l for p, l in zip(tracking_results['input_data']['paths_stat'], tracking_results['clusters']['labels_bySession'])}"
   ]
  },
  {
   "cell_type": "code",
   "execution_count": 43,
   "id": "da628b5d-68e6-4327-b879-bd3509002fd5",
   "metadata": {},
   "outputs": [
    {
     "data": {
      "text/plain": [
       "True"
      ]
     },
     "execution_count": 43,
     "metadata": {},
     "output_type": "execute_result"
    }
   ],
   "source": [
    "np.isinf(-np.inf)"
   ]
  },
  {
   "cell_type": "code",
   "execution_count": 28,
   "id": "fd57bb84-0bd8-4c45-b2c3-2e98c2dc2e5a",
   "metadata": {},
   "outputs": [
    {
     "data": {
      "text/plain": [
       "{'20230430': array([3489, 4000, 3393, ..., 4251,   -1,   -1]),\n",
       " '20230501': array([3489, 3393, 3285, ..., 7028, 5655, 6468]),\n",
       " '20230502': array([3285, 3393, 3461, ..., 6717, 6462, 6562]),\n",
       " '20230503': array([3285, 3384, 3393, ..., 6414, 5898,   -1]),\n",
       " '20230504': array([3393, 7566, 3384, ..., 6740,   -1,   -1]),\n",
       " '20230505': array([5496, 3318, 3371, ..., 6344, 5077,   -1]),\n",
       " '20230506': array([7566, 3393, 3318, ...,  183, 7492, 4869]),\n",
       " '20230507': array([7566, 3384, 3285, ..., 6330, 7254,   -1]),\n",
       " '20230508': array([7566, 4783, 3409, ...,   -1, 5947, 1873]),\n",
       " '20230509': array([7566, 4783, 3393, ..., 4746, 6757, 1757]),\n",
       " '20230510': array([3409, 7566, 1472, ..., 4571, 6528, 5945]),\n",
       " '20230511': array([3409, 1472, 3347, ...,   -1,   -1, 5781]),\n",
       " '20230512': array([7566, 1472, 1058, ..., 7192, 5703, 5815]),\n",
       " '20230513': array([1472, 3347, 7590, ..., 1943, 4962,  424]),\n",
       " '20230514': array([7566, 3347, 3535, ...,  365,   -1,   -1]),\n",
       " '20230515': array([7694, 3524, 5750, ..., 1754, 4867,   -1]),\n",
       " '20230516': array([3524, 7568, 3338, ..., 7683,   -1, 5352]),\n",
       " '20230517': array([4830, 3524, 3461, ..., 5095, 6165,   -1]),\n",
       " '20230518': array([7568, 3347, 4830, ...,   -1, 2401, 3262]),\n",
       " '20230520': array([4830, 3524, 3347, ..., 6143,   -1, 6286]),\n",
       " '20230521': array([3524, 3535, 1011, ..., 2194, 4844, 6226]),\n",
       " '20230522': array([3318, 3393, 3338, ..., 7908,   -1, 1810]),\n",
       " '20230523': array([3338, 3318, 5748, ..., 2725,   -1, 3053]),\n",
       " '20230524': array([ 740, 5748, 3318, ...,   -1,   -1,   -1]),\n",
       " '20230525': array([  56, 5748, 3338, ...,   -1, 1877,   -1]),\n",
       " '20230526': array([5748, 1470,  796, ..., 5205, 2404, 5517]),\n",
       " '20230527': array([4485, 5628, 4816, ..., 3594,   -1,   -1]),\n",
       " '20230528': array([  56, 4783, 1470, ..., 4528, 5902,   -1]),\n",
       " '20230529': array([  -1, 6334, 1822, ...,   -1,   -1, 4292]),\n",
       " '20230530': array([7473, 4639, 3524, ...,   -1,  808,   -1]),\n",
       " '20230531': array([ 872,  936, 1470, ...,   -1, 1810, 5996]),\n",
       " '20230601': array([7473,   -1,   -1, ..., 4148,   -1, 6490])}"
      ]
     },
     "execution_count": 28,
     "metadata": {},
     "output_type": "execute_result"
    }
   ],
   "source": [
    "labels"
   ]
  },
  {
   "cell_type": "markdown",
   "id": "d70b694b-ae8a-4b2b-9625-c87c6aabbd36",
   "metadata": {},
   "source": [
    "get dFoF"
   ]
  },
  {
   "cell_type": "code",
   "execution_count": 29,
   "id": "94773d89-1e8a-4c4f-8465-052b7b3b40f3",
   "metadata": {},
   "outputs": [],
   "source": [
    "date = '20230430'"
   ]
  },
  {
   "cell_type": "code",
   "execution_count": 38,
   "id": "40020d80-f66c-49b0-8bd9-e9599e2a25ea",
   "metadata": {},
   "outputs": [],
   "source": [
    "dFoF = np.load(Path(r'/media/rich/bigSSD/analysis_data/face_rhythm/mouse_0322N/dFoF_and_tqm/') / date / 'jobNum_0' / 'dFoF.npy', mmap_mode='r')"
   ]
  },
  {
   "cell_type": "code",
   "execution_count": 47,
   "id": "ae44dc05-177f-4742-aa6b-2eb3eb5cba66",
   "metadata": {},
   "outputs": [],
   "source": [
    "dFoFs = {date: np.load(Path(r'/media/rich/bigSSD/analysis_data/face_rhythm/mouse_0322N/dFoF_and_tqm/') / date / 'jobNum_0' / 'dFoF.npy', mmap_mode='r') for date in list(labels.keys())[12:]}"
   ]
  },
  {
   "cell_type": "code",
   "execution_count": null,
   "id": "197f5dae-19b9-4e5f-a652-7204d7ab8f70",
   "metadata": {},
   "outputs": [],
   "source": [
    "roicat.util.match_arrays_with_ucids(\n",
    "    arrays="
   ]
  },
  {
   "cell_type": "code",
   "execution_count": 30,
   "id": "7363c2a4-8552-439d-8a78-1cdf99f8cf1e",
   "metadata": {},
   "outputs": [
    {
     "data": {
      "text/plain": [
       "(3352,)"
      ]
     },
     "execution_count": 30,
     "metadata": {},
     "output_type": "execute_result"
    }
   ],
   "source": [
    "labels['20230430'].shape"
   ]
  },
  {
   "cell_type": "code",
   "execution_count": null,
   "id": "a18705e5-060a-49ae-8604-e4a102976acd",
   "metadata": {},
   "outputs": [],
   "source": [
    "dFoF_aligned = "
   ]
  },
  {
   "cell_type": "code",
   "execution_count": null,
   "id": "353d6470-17a0-4129-a761-de4c6711da70",
   "metadata": {},
   "outputs": [],
   "source": []
  },
  {
   "cell_type": "code",
   "execution_count": null,
   "id": "d9ffe4ba-441d-41fe-a0b3-cb29d63ffea2",
   "metadata": {},
   "outputs": [],
   "source": []
  },
  {
   "cell_type": "code",
   "execution_count": null,
   "id": "6e2fddc8-268a-4568-afa5-c3d9b426ee11",
   "metadata": {},
   "outputs": [],
   "source": []
  },
  {
   "cell_type": "code",
   "execution_count": null,
   "id": "7336213d-2044-4ab4-aade-8a06d70af57e",
   "metadata": {},
   "outputs": [],
   "source": []
  },
  {
   "cell_type": "code",
   "execution_count": null,
   "id": "ff31bbe6-e819-4ba1-bc57-c2ce290575e7",
   "metadata": {},
   "outputs": [],
   "source": []
  },
  {
   "cell_type": "code",
   "execution_count": null,
   "id": "6c356802-8839-4c2f-900f-e954e46b2658",
   "metadata": {},
   "outputs": [],
   "source": [
    "roicat.util.mask_UCIDs_with_iscell"
   ]
  }
 ],
 "metadata": {
  "kernelspec": {
   "display_name": "Python 3 (ipykernel)",
   "language": "python",
   "name": "python3"
  },
  "language_info": {
   "codemirror_mode": {
    "name": "ipython",
    "version": 3
   },
   "file_extension": ".py",
   "mimetype": "text/x-python",
   "name": "python",
   "nbconvert_exporter": "python",
   "pygments_lexer": "ipython3",
   "version": "3.11.3"
  }
 },
 "nbformat": 4,
 "nbformat_minor": 5
}
