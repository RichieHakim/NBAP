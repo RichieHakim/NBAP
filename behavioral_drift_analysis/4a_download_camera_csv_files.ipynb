{
 "cells": [
  {
   "cell_type": "code",
   "execution_count": 1,
   "id": "e33154b8",
   "metadata": {},
   "outputs": [
    {
     "data": {
      "text/html": [
       "<style>.container {width:100% !important; }</style>"
      ],
      "text/plain": [
       "<IPython.core.display.HTML object>"
      ]
     },
     "metadata": {},
     "output_type": "display_data"
    },
    {
     "name": "stdout",
     "output_type": "stream",
     "text": [
      "Conda Environment: roicat\n"
     ]
    }
   ],
   "source": [
    "# widen jupyter notebook window\n",
    "from IPython.display import display, HTML\n",
    "display(HTML(\"<style>.container {width:100% !important; }</style>\"))\n",
    "\n",
    "# check environment\n",
    "import os\n",
    "print(f'Conda Environment: ' + os.environ['CONDA_DEFAULT_ENV'])"
   ]
  },
  {
   "cell_type": "code",
   "execution_count": 2,
   "id": "006cb1c4",
   "metadata": {},
   "outputs": [],
   "source": [
    "from pathlib import Path\n",
    "\n",
    "import natsort"
   ]
  },
  {
   "cell_type": "code",
   "execution_count": 3,
   "id": "d16ef8d6",
   "metadata": {},
   "outputs": [],
   "source": [
    "%load_ext autoreload\n",
    "%autoreload 2\n",
    "import bnpm"
   ]
  },
  {
   "cell_type": "code",
   "execution_count": null,
   "id": "81540e2b",
   "metadata": {},
   "outputs": [],
   "source": [
    "ssh_t = bnpm.server.ssh_interface()"
   ]
  },
  {
   "cell_type": "code",
   "execution_count": null,
   "id": "fde5c617",
   "metadata": {},
   "outputs": [],
   "source": [
    "ssh_t.o2_connect(password='')"
   ]
  },
  {
   "cell_type": "code",
   "execution_count": null,
   "id": "537b64fe",
   "metadata": {},
   "outputs": [],
   "source": [
    "sftp_t = bnpm.server.sftp_interface(ssh_client=ssh_t)"
   ]
  },
  {
   "cell_type": "code",
   "execution_count": null,
   "id": "2ec57ddd",
   "metadata": {},
   "outputs": [],
   "source": [
    "paths_csvs_remote = sftp_t.search_recursive(\n",
    "    path=r'/n/files/Neurobio/MICROSCOPE/Gyu/BMI_data/cage_0322/mouse_0322N/',\n",
    "    search_pattern_re=r'.*cam4.*csv',\n",
    "    max_depth=6,\n",
    "    find_files=True,\n",
    "    find_folders=False,\n",
    "    verbose=True,\n",
    ")\n",
    "\n",
    "paths_csvs_remote = natsort.natsorted(paths_csvs_remote)"
   ]
  },
  {
   "cell_type": "code",
   "execution_count": null,
   "id": "c62bbab9",
   "metadata": {},
   "outputs": [],
   "source": [
    "dates_csvs_remote = [Path(p).parent.parent.parent.parent.name for p in paths_csvs_remote]"
   ]
  },
  {
   "cell_type": "code",
   "execution_count": null,
   "id": "47384411",
   "metadata": {},
   "outputs": [],
   "source": [
    "directory_local_save = r'/media/rich/bigSSD/analysis_data/face_rhythm/mouse_0322N/cam4_CSVs/'"
   ]
  },
  {
   "cell_type": "code",
   "execution_count": null,
   "id": "a1edce65",
   "metadata": {},
   "outputs": [],
   "source": [
    "[sftp_t.get(remotepath=p_r, localpath=str(Path(directory_local_save) / date / Path(p_r).name)) for p_r, date in zip(paths_csvs_remote, dates_csvs_remote)]"
   ]
  },
  {
   "cell_type": "code",
   "execution_count": null,
   "id": "fc18f00e",
   "metadata": {},
   "outputs": [],
   "source": []
  }
 ],
 "metadata": {
  "kernelspec": {
   "display_name": "Python 3 (ipykernel)",
   "language": "python",
   "name": "python3"
  },
  "language_info": {
   "codemirror_mode": {
    "name": "ipython",
    "version": 3
   },
   "file_extension": ".py",
   "mimetype": "text/x-python",
   "name": "python",
   "nbconvert_exporter": "python",
   "pygments_lexer": "ipython3",
   "version": "3.11.3"
  }
 },
 "nbformat": 4,
 "nbformat_minor": 5
}
