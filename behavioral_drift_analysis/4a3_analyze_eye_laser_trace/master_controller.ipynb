{
 "cells": [
  {
   "cell_type": "code",
   "execution_count": 1,
   "id": "eb297901",
   "metadata": {},
   "outputs": [
    {
     "data": {
      "text/html": [
       "<style>.container {width:95% !important; }</style>"
      ],
      "text/plain": [
       "<IPython.core.display.HTML object>"
      ]
     },
     "metadata": {},
     "output_type": "display_data"
    }
   ],
   "source": [
    "# ALWAYS RUN THIS CELL\n",
    "# widen jupyter notebook window\n",
    "from IPython.display import display, HTML\n",
    "display(HTML(\"<style>.container {width:95% !important; }</style>\"))"
   ]
  },
  {
   "cell_type": "markdown",
   "id": "e7ca9401",
   "metadata": {},
   "source": [
    "This requires having `bnpm`. Get it with `pip install bnpm` or here: https://github.com/RichieHakim/basic_neural_processing_modules"
   ]
  },
  {
   "cell_type": "code",
   "execution_count": 2,
   "id": "b083639c",
   "metadata": {},
   "outputs": [],
   "source": [
    "%load_ext autoreload\n",
    "%autoreload 2\n",
    "from bnpm import server\n",
    "import bnpm"
   ]
  },
  {
   "cell_type": "code",
   "execution_count": 3,
   "id": "47fe1e80",
   "metadata": {},
   "outputs": [],
   "source": [
    "import os\n",
    "from pathlib import Path\n",
    "import functools\n",
    "import tempfile\n",
    "import getpass\n",
    "import gc"
   ]
  },
  {
   "cell_type": "code",
   "execution_count": 4,
   "id": "5393e061",
   "metadata": {},
   "outputs": [],
   "source": [
    "import numpy as np\n",
    "import natsort"
   ]
  },
  {
   "cell_type": "markdown",
   "id": "6114afcd",
   "metadata": {},
   "source": [
    "------------\n",
    "# ==== Start ===="
   ]
  },
  {
   "cell_type": "markdown",
   "id": "ae33b435",
   "metadata": {},
   "source": [
    "## Prepare username + password"
   ]
  },
  {
   "cell_type": "code",
   "execution_count": 5,
   "id": "af73363a",
   "metadata": {},
   "outputs": [
    {
     "name": "stdin",
     "output_type": "stream",
     "text": [
      "Username:  rh183\n",
      "Password:  ········\n"
     ]
    }
   ],
   "source": [
    "remote_host_transfer = \"transfer.rc.hms.harvard.edu\"\n",
    "remote_host_compute = \"o2.hms.harvard.edu\"\n",
    "username = input('Username: ')\n",
    "\n",
    "use_localSshKey = False\n",
    "\n",
    "pw = server.pw_encode(getpass.getpass(prompt='Password: ')) if use_localSshKey==False else None\n",
    "\n",
    "path_sshKey = '/home/rich/.ssh/id_rsa' if use_localSshKey else None"
   ]
  },
  {
   "cell_type": "markdown",
   "id": "c539c815",
   "metadata": {},
   "source": [
    "## Prepare `sftp` and `ssh` objects"
   ]
  },
  {
   "cell_type": "code",
   "execution_count": 6,
   "id": "702eba22",
   "metadata": {},
   "outputs": [],
   "source": [
    "## initialize ssh_transfer\n",
    "ssh_t = server.ssh_interface(\n",
    "    nbytes_toReceive=20000,\n",
    "    recv_timeout=1,\n",
    "    verbose=True,\n",
    ")"
   ]
  },
  {
   "cell_type": "code",
   "execution_count": 7,
   "id": "fdf1e2ba",
   "metadata": {
    "scrolled": true
   },
   "outputs": [],
   "source": [
    "ssh_t.o2_connect(\n",
    "    hostname=remote_host_transfer,\n",
    "    username=username,\n",
    "    password=server.pw_decode(pw),\n",
    "    key_filename=path_sshKey,\n",
    "    look_for_keys=False,\n",
    "    passcode_method=1,\n",
    "    verbose=0,\n",
    "    skip_passcode=False,    \n",
    ")"
   ]
  },
  {
   "cell_type": "code",
   "execution_count": 8,
   "id": "fa578dd5",
   "metadata": {},
   "outputs": [],
   "source": [
    "## initialize ssh_compute\n",
    "ssh_c = server.ssh_interface(\n",
    "    nbytes_toReceive=20000,\n",
    "    recv_timeout=1,\n",
    "    verbose=True,\n",
    ")\n",
    "ssh_c.o2_connect(\n",
    "    hostname=remote_host_compute,\n",
    "    username=username,\n",
    "    password=server.pw_decode(pw),\n",
    "    key_filename=path_sshKey,\n",
    "    look_for_keys=False,\n",
    "    passcode_method=1,\n",
    "    verbose=0,\n",
    "    skip_passcode=False,    \n",
    ")"
   ]
  },
  {
   "cell_type": "code",
   "execution_count": 9,
   "id": "daea3d7a",
   "metadata": {},
   "outputs": [],
   "source": [
    "sftp = server.sftp_interface(ssh_client=ssh_t.client)"
   ]
  },
  {
   "cell_type": "code",
   "execution_count": 10,
   "id": "21af2f06",
   "metadata": {},
   "outputs": [],
   "source": [
    "prompt_snip = f'[{username}'"
   ]
  },
  {
   "cell_type": "code",
   "execution_count": 11,
   "id": "6d8554e7",
   "metadata": {},
   "outputs": [],
   "source": [
    "send_expect = functools.partial(ssh_c.send_expect, str_success=prompt_snip)"
   ]
  },
  {
   "cell_type": "markdown",
   "id": "ccf6e180",
   "metadata": {},
   "source": [
    "# Batch run"
   ]
  },
  {
   "cell_type": "code",
   "execution_count": 12,
   "id": "3d4b6a6d",
   "metadata": {},
   "outputs": [
    {
     "name": "stdout",
     "output_type": "stream",
     "text": [
      "/n/data1/hms/neurobio/sabatini/rich/data/res2p/round_7_experiments/mouse_0403L/camera_data/20230804/cam42023-08-04T12_06_21.avi\n",
      "/n/data1/hms/neurobio/sabatini/rich/data/res2p/round_7_experiments/mouse_0403L/camera_data/20230726/cam42023-07-26T11_49_44.avi\n",
      "/n/data1/hms/neurobio/sabatini/rich/data/res2p/round_7_experiments/mouse_0403L/camera_data/20230708/cam42023-07-08T10_28_34.avi\n",
      "/n/data1/hms/neurobio/sabatini/rich/data/res2p/round_7_experiments/mouse_0403L/camera_data/20230808/cam42023-08-08T13_36_08.avi\n",
      "/n/data1/hms/neurobio/sabatini/rich/data/res2p/round_7_experiments/mouse_0403L/camera_data/20230711/cam42023-07-11T10_48_34.avi\n",
      "/n/data1/hms/neurobio/sabatini/rich/data/res2p/round_7_experiments/mouse_0403L/camera_data/20230725/cam42023-07-25T11_19_05.avi\n",
      "/n/data1/hms/neurobio/sabatini/rich/data/res2p/round_7_experiments/mouse_0403L/camera_data/20230721/cam42023-07-21T11_21_03.avi\n",
      "/n/data1/hms/neurobio/sabatini/rich/data/res2p/round_7_experiments/mouse_0403L/camera_data/20230722/cam42023-07-22T10_31_50.avi\n",
      "/n/data1/hms/neurobio/sabatini/rich/data/res2p/round_7_experiments/mouse_0403L/camera_data/20230717/cam42023-07-17T10_33_46.avi\n",
      "/n/data1/hms/neurobio/sabatini/rich/data/res2p/round_7_experiments/mouse_0403L/camera_data/20230806/cam42023-08-06T13_36_28.avi\n",
      "/n/data1/hms/neurobio/sabatini/rich/data/res2p/round_7_experiments/mouse_0403L/camera_data/20230718/cam42023-07-18T10_16_20.avi\n",
      "/n/data1/hms/neurobio/sabatini/rich/data/res2p/round_7_experiments/mouse_0403L/camera_data/20230709/cam42023-07-09T10_22_38.avi\n",
      "/n/data1/hms/neurobio/sabatini/rich/data/res2p/round_7_experiments/mouse_0403L/camera_data/20230713/cam42023-07-13T10_26_06.avi\n",
      "/n/data1/hms/neurobio/sabatini/rich/data/res2p/round_7_experiments/mouse_0403L/camera_data/20230727/cam42023-07-27T11_48_34.avi\n",
      "/n/data1/hms/neurobio/sabatini/rich/data/res2p/round_7_experiments/mouse_0403L/camera_data/20230728/cam42023-07-28T12_10_17.avi\n",
      "/n/data1/hms/neurobio/sabatini/rich/data/res2p/round_7_experiments/mouse_0403L/camera_data/20230703/cam42023-07-03T09_49_20.avi\n",
      "/n/data1/hms/neurobio/sabatini/rich/data/res2p/round_7_experiments/mouse_0403L/camera_data/20230801/cam42023-08-01T11_34_58.avi\n",
      "/n/data1/hms/neurobio/sabatini/rich/data/res2p/round_7_experiments/mouse_0403L/camera_data/20230731/cam42023-07-31T11_41_20.avi\n",
      "/n/data1/hms/neurobio/sabatini/rich/data/res2p/round_7_experiments/mouse_0403L/camera_data/20230724/cam42023-07-24T10_50_53.avi\n",
      "/n/data1/hms/neurobio/sabatini/rich/data/res2p/round_7_experiments/mouse_0403L/camera_data/20230710/cam42023-07-10T10_46_20.avi\n",
      "/n/data1/hms/neurobio/sabatini/rich/data/res2p/round_7_experiments/mouse_0403L/camera_data/20230723/cam42023-07-23T10_44_38.avi\n",
      "/n/data1/hms/neurobio/sabatini/rich/data/res2p/round_7_experiments/mouse_0403L/camera_data/20230716/cam42023-07-16T10_13_50.avi\n",
      "/n/data1/hms/neurobio/sabatini/rich/data/res2p/round_7_experiments/mouse_0403L/camera_data/20230705/cam42023-07-05T12_45_33.avi\n",
      "/n/data1/hms/neurobio/sabatini/rich/data/res2p/round_7_experiments/mouse_0403L/camera_data/20230720/cam42023-07-20T10_38_17.avi\n",
      "/n/data1/hms/neurobio/sabatini/rich/data/res2p/round_7_experiments/mouse_0403L/camera_data/20230707/cam42023-07-07T10_15_25.avi\n",
      "/n/data1/hms/neurobio/sabatini/rich/data/res2p/round_7_experiments/mouse_0403L/camera_data/20230719/cam42023-07-19T10_11_02.avi\n",
      "/n/data1/hms/neurobio/sabatini/rich/data/res2p/round_7_experiments/mouse_0403L/camera_data/20230811/cam42023-08-11T12_38_36.avi\n",
      "/n/data1/hms/neurobio/sabatini/rich/data/res2p/round_7_experiments/mouse_0403L/camera_data/20230802/cam42023-08-02T11_42_59.avi\n",
      "/n/data1/hms/neurobio/sabatini/rich/data/res2p/round_7_experiments/mouse_0403L/camera_data/20230715/cam42023-07-15T10_59_35.avi\n",
      "/n/data1/hms/neurobio/sabatini/rich/data/res2p/round_7_experiments/mouse_0403L/camera_data/20230730/cam42023-07-30T11_53_14.avi\n",
      "/n/data1/hms/neurobio/sabatini/rich/data/res2p/round_7_experiments/mouse_0403L/camera_data/20230809/cam42023-08-09T11_53_04.avi\n",
      "/n/data1/hms/neurobio/sabatini/rich/data/res2p/round_7_experiments/mouse_0403L/camera_data/20230805/cam42023-08-05T13_21_52.avi\n",
      "/n/data1/hms/neurobio/sabatini/rich/data/res2p/round_7_experiments/mouse_0403L/camera_data/20230706/cam42023-07-06T11_48_27.avi\n",
      "/n/data1/hms/neurobio/sabatini/rich/data/res2p/round_7_experiments/mouse_0403L/camera_data/20230807/cam42023-08-07T12_12_09.avi\n",
      "/n/data1/hms/neurobio/sabatini/rich/data/res2p/round_7_experiments/mouse_0403L/camera_data/20230803/cam42023-08-03T12_08_29.avi\n",
      "/n/data1/hms/neurobio/sabatini/rich/data/res2p/round_7_experiments/mouse_0403L/camera_data/20230712/cam42023-07-12T10_29_25.avi\n",
      "/n/data1/hms/neurobio/sabatini/rich/data/res2p/round_7_experiments/mouse_0403L/camera_data/20230714/cam42023-07-14T10_11_15.avi\n",
      "/n/data1/hms/neurobio/sabatini/rich/data/res2p/round_7_experiments/mouse_0403L/camera_data/20230729/cam42023-07-29T12_21_10.avi\n"
     ]
    }
   ],
   "source": [
    "paths_found = natsort.natsorted(sftp.search_recursive(\n",
    "    path='/n/data1/hms/neurobio/sabatini/rich/data/res2p/round_7_experiments/mouse_0403L/',\n",
    "    search_pattern_re='cam4.*avi',\n",
    "    max_depth=5,\n",
    "    find_folders=False,\n",
    "    find_files=True,\n",
    "    verbose=True,\n",
    "))"
   ]
  },
  {
   "cell_type": "code",
   "execution_count": 13,
   "id": "67b871e4",
   "metadata": {},
   "outputs": [
    {
     "data": {
      "text/plain": [
       "['20230703',\n",
       " '20230705',\n",
       " '20230706',\n",
       " '20230707',\n",
       " '20230708',\n",
       " '20230709',\n",
       " '20230710',\n",
       " '20230711',\n",
       " '20230712',\n",
       " '20230713',\n",
       " '20230714',\n",
       " '20230715',\n",
       " '20230716',\n",
       " '20230717',\n",
       " '20230718',\n",
       " '20230719',\n",
       " '20230720',\n",
       " '20230721',\n",
       " '20230722',\n",
       " '20230723',\n",
       " '20230724',\n",
       " '20230725',\n",
       " '20230726',\n",
       " '20230727',\n",
       " '20230728',\n",
       " '20230729',\n",
       " '20230730',\n",
       " '20230731',\n",
       " '20230801',\n",
       " '20230802',\n",
       " '20230803',\n",
       " '20230804',\n",
       " '20230805',\n",
       " '20230806',\n",
       " '20230807',\n",
       " '20230808',\n",
       " '20230809',\n",
       " '20230811']"
      ]
     },
     "execution_count": 13,
     "metadata": {},
     "output_type": "execute_result"
    }
   ],
   "source": [
    "dates_toUse = natsort.natsorted([Path(p).parts[-2] for p in paths_found])\n",
    "dates_toUse"
   ]
  },
  {
   "cell_type": "raw",
   "id": "174d1b98",
   "metadata": {},
   "source": [
    "dates_toUse = [\n",
    "    '20230430',\n",
    "#     '20230501',\n",
    "#     '20230502',\n",
    "#     '20230503',\n",
    "#     '20230504',\n",
    "#     '20230505',\n",
    "#     '20230506',\n",
    "#     '20230507',\n",
    "#     '20230508',\n",
    "#     '20230509',\n",
    "#     '20230510',\n",
    "#     '20230511',\n",
    "#     '20230512',\n",
    "#     '20230514',\n",
    "#     '20230515',\n",
    "#     '20230516',\n",
    "#     '20230517',\n",
    "#     '20230518',\n",
    "#     '20230519',\n",
    "#     '20230520',\n",
    "#     '20230521',\n",
    "#     '20230522',\n",
    "#     '20230523',\n",
    "#     '20230524',\n",
    "#     '20230525',\n",
    "#     '20230526',\n",
    "#     '20230527',\n",
    "#     '20230528',\n",
    "#     '20230529',\n",
    "#     '20230530',\n",
    "#     '20230531',\n",
    "#     '20230601',\n",
    "]"
   ]
  },
  {
   "cell_type": "code",
   "execution_count": 14,
   "id": "a47ac9c3",
   "metadata": {},
   "outputs": [],
   "source": [
    "paths_vids = {d: v for d, v in zip(dates_toUse, paths_found)}"
   ]
  },
  {
   "cell_type": "markdown",
   "id": "f7e4fe93",
   "metadata": {},
   "source": [
    "## Start a small interactive node"
   ]
  },
  {
   "cell_type": "code",
   "execution_count": 15,
   "id": "55034700",
   "metadata": {},
   "outputs": [
    {
     "name": "stdout",
     "output_type": "stream",
     "text": [
      "bash --pty -p interactive -t 0-00:30:00 --mem=4G /bin/ \n",
      "\n",
      "srun: job 17016374 queued and waiting for resources\n",
      "\n",
      "srun: job 17016374 has been allocated resources\n",
      "\n",
      "(base) [rh183@compute-a-16-171 ~]$ \n"
     ]
    }
   ],
   "source": [
    "send_expect(f'srun --pty -p interactive -t 0-00:30:00 --mem=4G /bin/bash');"
   ]
  },
  {
   "cell_type": "markdown",
   "id": "0cd3c682",
   "metadata": {},
   "source": [
    "## Pull/update repo"
   ]
  },
  {
   "cell_type": "code",
   "execution_count": 33,
   "id": "7c1dd354",
   "metadata": {},
   "outputs": [
    {
     "name": "stdout",
     "output_type": "stream",
     "text": [
      "AP]$ ata1/hms/neurobio/sabatini/rich/virtual_envs/FR) [rh183@compute-a-16-170 NBA\n",
      "cd /n/data1/hms/neurobio/sabatini/rich/github_repos/NBAP\n",
      "AP]$ ata1/hms/neurobio/sabatini/rich/virtual_envs/FR) [rh183@compute-a-16-170 NBA\n"
     ]
    }
   ],
   "source": [
    "send_expect('cd /n/data1/hms/neurobio/sabatini/rich/github_repos/NBAP')\n",
    "send_expect('git pull');"
   ]
  },
  {
   "cell_type": "markdown",
   "id": "4ef493c1",
   "metadata": {},
   "source": [
    "## Activate environment"
   ]
  },
  {
   "cell_type": "code",
   "execution_count": null,
   "id": "ea3f49ea-1686-4695-8268-4dda10073b7f",
   "metadata": {},
   "outputs": [],
   "source": [
    "name_env = '/n/data1/hms/neurobio/sabatini/rich/virtual_envs/FR'\n",
    "\n",
    "send_expect(f'conda activate {name_env}');"
   ]
  },
  {
   "cell_type": "markdown",
   "id": "31ce097b",
   "metadata": {},
   "source": [
    "## Prepare commands"
   ]
  },
  {
   "cell_type": "code",
   "execution_count": 30,
   "id": "f1cd3212-42f6-4b56-9cea-3bb6f31d8b9e",
   "metadata": {},
   "outputs": [],
   "source": [
    "duration_sessions = {date: 60*60 if float(date) < float(20230725) else 80*60 for date in dates_toUse}"
   ]
  },
  {
   "cell_type": "code",
   "execution_count": 36,
   "id": "90bfacae",
   "metadata": {},
   "outputs": [
    {
     "data": {
      "text/plain": [
       "{'dispatch': '    python3     /n/data1/hms/neurobio/sabatini/rich/analysis/eye_laser_trace_extraction/mouse_0403L/20230706/dispatcher.py     /n/data1/hms/neurobio/sabatini/rich/github_repos/NBAP/behavioral_drift_analysis/4a3_analyze_eye_laser_trace/extract_eye_brightness_trace.py     /n/data1/hms/neurobio/sabatini/rich/analysis/eye_laser_trace_extraction/mouse_0403L/20230706     /n/data1/hms/neurobio/sabatini/rich/data/res2p/round_7_experiments/mouse_0403L/camera_data/20230706/cam42023-07-06T11_48_27.avi     /n/data1/hms/neurobio/sabatini/rich/analysis/eye_laser_trace_extraction/mouse_0403L/20230706/mask_cam42023-07-06T11_48_27.npy     jobNum_     03L_0706     /n/data1/hms/neurobio/sabatini/rich/virtual_envs/FR    3599    '}"
      ]
     },
     "metadata": {},
     "output_type": "display_data"
    },
    {
     "name": "stdout",
     "output_type": "stream",
     "text": [
      "AP]$ lsa1/hms/neurobio/sabatini/rich/virtual_envs/FR) [rh183@compute-a-16-170 NBA\n",
      "align_data.py\n",
      "\u001b[0m\u001b[01;34mbehavioral_drift_analysis\u001b[0m\n",
      "BMI_sham_analysis.ipynb\n",
      "caiman_multiday_roi_registration.py\n",
      "cascade_multiday-Copy1.ipynb\n",
      "cascade_multiday.ipynb\n",
      "compare_independent_NMF_models.ipynb\n",
      "from__FR_TCA__to__s2p.ipynb\n",
      "helpers.py\n",
      "import_data.py\n",
      "LICENSE\n",
      "makeAlignmentTemplates.ipynb\n",
      "\u001b[34;42mpipeline_2pRAM_faceRhythm\u001b[0m\n",
      "\u001b[34;42mpipeline_res2p_BMI\u001b[0m\n",
      "\u001b[34;42m__pycache__\u001b[0m\n",
      "README.md\n",
      "regression_between_neurons_and_faceFactors.ipynb\n",
      "Untitled.ipynb\n",
      "AP]$ ata1/hms/neurobio/sabatini/rich/virtual_envs/FR) [rh183@compute-a-16-170 NBA\n"
     ]
    },
    {
     "data": {
      "text/plain": [
       "{'dispatch': '    python3     /n/data1/hms/neurobio/sabatini/rich/analysis/eye_laser_trace_extraction/mouse_0403L/20230707/dispatcher.py     /n/data1/hms/neurobio/sabatini/rich/github_repos/NBAP/behavioral_drift_analysis/4a3_analyze_eye_laser_trace/extract_eye_brightness_trace.py     /n/data1/hms/neurobio/sabatini/rich/analysis/eye_laser_trace_extraction/mouse_0403L/20230707     /n/data1/hms/neurobio/sabatini/rich/data/res2p/round_7_experiments/mouse_0403L/camera_data/20230707/cam42023-07-07T10_15_25.avi     /n/data1/hms/neurobio/sabatini/rich/analysis/eye_laser_trace_extraction/mouse_0403L/20230707/mask_cam42023-07-07T10_15_25.npy     jobNum_     03L_0707     /n/data1/hms/neurobio/sabatini/rich/virtual_envs/FR    3599    '}"
      ]
     },
     "metadata": {},
     "output_type": "display_data"
    },
    {
     "name": "stdout",
     "output_type": "stream",
     "text": [
      "       03L_0706     /n/data1/hms/neurobio/sabatini/rich/virtual_envs/FR    3599  \n",
      "\n",
      "    python3     /n/data1/hms/neurobio/sabatini/rich/analysis/eye_laser_trace_extraction/mouse_0403L/20230707/dispatcher.py     /n/data1/hms/neurobio/sabatini/rich/github_repos/NBAP/behavioral_drift_analysis/4a3_analyze_eye_laser_trace/extract_eye_brightness_trace.py     /n/data1/hms/neurobio/sabatini/rich/analysis/eye_laser_trace_extraction/mouse_0403L/20230707     /n/data1/hms/neurobio/sabatini/rich/data/res2p/round_7_experiments/mouse_0403L/camera_data/20230707/cam42023-07-07T10_15_25.avi     /n/data1/hms/neurobio/sabatini/rich/analysis/eye_laser_trace_extraction/mouse_0403L/20230707/mask_cam42023-07-07T10_15_25.npy     jobNum_     03L_0707     /n/data1/hms/neurobio/sabatini/rich/virtual_envs/FR    3599    \n",
      "\n",
      "dispatcher environment: /n/data1/hms/neurobio/sabatini/rich/virtual_envs/FR\n",
      "\n",
      "\n",
      "Copying /n/data1/hms/neurobio/sabatini/rich/github_repos/NBAP/behavioral_drift_analysis/4a3_analyze_eye_laser_trace/extract_eye_brightness_trace.py to /n/data1/hms/neurobio/sabatini/rich/analysis/eye_laser_trace_extraction/mouse_0403L/20230706/extract_eye_brightness_trace.py\n",
      "\n",
      "Submitting job: jobNum_ 0\n",
      "\n",
      "Submitted batch job 17011169\n",
      "\n",
      "AP]$ ata1/hms/neurobio/sabatini/rich/virtual_envs/FR) [rh183@compute-a-16-170 NBA\n"
     ]
    },
    {
     "data": {
      "text/plain": [
       "{'dispatch': '    python3     /n/data1/hms/neurobio/sabatini/rich/analysis/eye_laser_trace_extraction/mouse_0403L/20230708/dispatcher.py     /n/data1/hms/neurobio/sabatini/rich/github_repos/NBAP/behavioral_drift_analysis/4a3_analyze_eye_laser_trace/extract_eye_brightness_trace.py     /n/data1/hms/neurobio/sabatini/rich/analysis/eye_laser_trace_extraction/mouse_0403L/20230708     /n/data1/hms/neurobio/sabatini/rich/data/res2p/round_7_experiments/mouse_0403L/camera_data/20230708/cam42023-07-08T10_28_34.avi     /n/data1/hms/neurobio/sabatini/rich/analysis/eye_laser_trace_extraction/mouse_0403L/20230708/mask_cam42023-07-08T10_28_34.npy     jobNum_     03L_0708     /n/data1/hms/neurobio/sabatini/rich/virtual_envs/FR    3599    '}"
      ]
     },
     "metadata": {},
     "output_type": "display_data"
    },
    {
     "name": "stdout",
     "output_type": "stream",
     "text": [
      "       03L_0707     /n/data1/hms/neurobio/sabatini/rich/virtual_envs/FR    3599  \n",
      "dispatcher environment: /n/data1/hms/neurobio/sabatini/rich/virtual_envs/FR\n",
      "\n",
      "    python3     /n/data1/hms/neurobio/sabatini/rich/analysis/eye_laser_trace_extraction/mouse_0403L/20230708/dispatcher.py     /n/data1/hms/neurobio/sabatini/rich/github_repos/NBAP/behavioral_drift_analysis/4a3_analyze_eye_laser_trace/extract_eye_brightness_trace.py     /n/data1/hms/neurobio/sabatini/rich/analysis/eye_laser_trace_extraction/mouse_0403L/20230708     /n/data1/hms/neurobio/sabatini/rich/data/res2p/round_7_experiments/mouse_0403L/camera_data/20230708/cam42023-07-08T10_28_34.avi     /n/data1/hms/neurobio/sabatini/rich/analysis/eye_laser_trace_extraction/mouse_0403L/20230708/mask_cam42023-07-08T10_28_34.npy     jobNum_     03L_0708     /n/data1/hms/neurobio/sabatini/rich/virtual_envs/FR    3599    \n",
      "\n",
      "Copying /n/data1/hms/neurobio/sabatini/rich/github_repos/NBAP/behavioral_drift_analysis/4a3_analyze_eye_laser_trace/extract_eye_brightness_trace.py to /n/data1/hms/neurobio/sabatini/rich/analysis/eye_laser_trace_extraction/mouse_0403L/20230707/extract_eye_brightness_trace.py\n",
      "\n",
      "Submitting job: jobNum_ 0\n",
      "Submitted batch job 17011210\n",
      "\n",
      "AP]$     pyms/neurobio/sabatini/rich/virtual_envs/FR) [rh183@compute-a-16-170 NBA\n"
     ]
    },
    {
     "data": {
      "text/plain": [
       "{'dispatch': '    python3     /n/data1/hms/neurobio/sabatini/rich/analysis/eye_laser_trace_extraction/mouse_0403L/20230709/dispatcher.py     /n/data1/hms/neurobio/sabatini/rich/github_repos/NBAP/behavioral_drift_analysis/4a3_analyze_eye_laser_trace/extract_eye_brightness_trace.py     /n/data1/hms/neurobio/sabatini/rich/analysis/eye_laser_trace_extraction/mouse_0403L/20230709     /n/data1/hms/neurobio/sabatini/rich/data/res2p/round_7_experiments/mouse_0403L/camera_data/20230709/cam42023-07-09T10_22_38.avi     /n/data1/hms/neurobio/sabatini/rich/analysis/eye_laser_trace_extraction/mouse_0403L/20230709/mask_cam42023-07-09T10_22_38.npy     jobNum_     03L_0709     /n/data1/hms/neurobio/sabatini/rich/virtual_envs/FR    3599    '}"
      ]
     },
     "metadata": {},
     "output_type": "display_data"
    },
    {
     "name": "stdout",
     "output_type": "stream",
     "text": [
      "       03L_0708     /n/data1/hms/neurobio/sabatini/rich/virtual_envs/FR    3599  \n",
      "dispatcher environment: /n/data1/hms/neurobio/sabatini/rich/virtual_envs/FR\n",
      "\n",
      "    python3     /n/data1/hms/neurobio/sabatini/rich/analysis/eye_laser_trace_extraction/mouse_0403L/20230709/dispatcher.py     /n/data1/hms/neurobio/sabatini/rich/github_repos/NBAP/behavioral_drift_analysis/4a3_analyze_eye_laser_trace/extract_eye_brightness_trace.py     /n/data1/hms/neurobio/sabatini/rich/analysis/eye_laser_trace_extraction/mouse_0403L/20230709     /n/data1/hms/neurobio/sabatini/rich/data/res2p/round_7_experiments/mouse_0403L/camera_data/20230709/cam42023-07-09T10_22_38.avi     /n/data1/hms/neurobio/sabatini/rich/analysis/eye_laser_trace_extraction/mouse_0403L/20230709/mask_cam42023-07-09T10_22_38.npy     jobNum_     03L_0709     /n/data1/hms/neurobio/sabatini/rich/virtual_envs/FR    3599    \n",
      "\n",
      "Copying /n/data1/hms/neurobio/sabatini/rich/github_repos/NBAP/behavioral_drift_analysis/4a3_analyze_eye_laser_trace/extract_eye_brightness_trace.py to /n/data1/hms/neurobio/sabatini/rich/analysis/eye_laser_trace_extraction/mouse_0403L/20230708/extract_eye_brightness_trace.py\n",
      "\n",
      "Submitting job: jobNum_ 0\n",
      "\n",
      "Submitted batch job 17011238\n",
      "\n",
      "3-07-09T10_22_38.avi     /n/data1/hms/neurobio/sabatini/ricdata/20230709/cam4202 \n"
     ]
    },
    {
     "data": {
      "text/plain": [
       "{'dispatch': '    python3     /n/data1/hms/neurobio/sabatini/rich/analysis/eye_laser_trace_extraction/mouse_0403L/20230710/dispatcher.py     /n/data1/hms/neurobio/sabatini/rich/github_repos/NBAP/behavioral_drift_analysis/4a3_analyze_eye_laser_trace/extract_eye_brightness_trace.py     /n/data1/hms/neurobio/sabatini/rich/analysis/eye_laser_trace_extraction/mouse_0403L/20230710     /n/data1/hms/neurobio/sabatini/rich/data/res2p/round_7_experiments/mouse_0403L/camera_data/20230710/cam42023-07-10T10_46_20.avi     /n/data1/hms/neurobio/sabatini/rich/analysis/eye_laser_trace_extraction/mouse_0403L/20230710/mask_cam42023-07-10T10_46_20.npy     jobNum_     03L_0710     /n/data1/hms/neurobio/sabatini/rich/virtual_envs/FR    3599    '}"
      ]
     },
     "metadata": {},
     "output_type": "display_data"
    },
    {
     "name": "stdout",
     "output_type": "stream",
     "text": [
      "       03L_0709     /n/data1/hms/neurobio/sabatini/rich/virtual_envs/FR    3599  \n",
      "dispatcher environment: /n/data1/hms/neurobio/sabatini/rich/virtual_envs/FR\n",
      "\n",
      "    python3     /n/data1/hms/neurobio/sabatini/rich/analysis/eye_laser_trace_extraction/mouse_0403L/20230710/dispatcher.py     /n/data1/hms/neurobio/sabatini/rich/github_repos/NBAP/behavioral_drift_analysis/4a3_analyze_eye_laser_trace/extract_eye_brightness_trace.py     /n/data1/hms/neurobio/sabatini/rich/analysis/eye_laser_trace_extraction/mouse_0403L/20230710     /n/data1/hms/neurobio/sabatini/rich/data/res2p/round_7_experiments/mouse_0403L/camera_data/20230710/cam42023-07-10T10_46_20.avi     /n/data1/hms/neurobio/sabatini/rich/analysis/eye_laser_trace_extraction/mouse_0403L/20230710/mask_cam42023-07-10T10_46_20.npy     jobNum_     03L_0710     /n/data1/hms/neurobio/sabatini/rich/virtual_envs/FR    3599    \n",
      "\n",
      "Copying /n/data1/hms/neurobio/sabatini/rich/github_repos/NBAP/behavioral_drift_analysis/4a3_analyze_eye_laser_trace/extract_eye_brightness_trace.py to /n/data1/hms/neurobio/sabatini/rich/analysis/eye_laser_trace_extraction/mouse_0403L/20230709/extract_eye_brightness_trace.py\n",
      "\n",
      "Submitting job: jobNum_ 0\n",
      "\n",
      "Submitted batch job 17011259\n",
      "\n",
      "AP]$     pyts/neurobio/sabatini/rich/virtual_envs/FR) [rh183@compute-a-16-170 NBA\n"
     ]
    },
    {
     "data": {
      "text/plain": [
       "{'dispatch': '    python3     /n/data1/hms/neurobio/sabatini/rich/analysis/eye_laser_trace_extraction/mouse_0403L/20230711/dispatcher.py     /n/data1/hms/neurobio/sabatini/rich/github_repos/NBAP/behavioral_drift_analysis/4a3_analyze_eye_laser_trace/extract_eye_brightness_trace.py     /n/data1/hms/neurobio/sabatini/rich/analysis/eye_laser_trace_extraction/mouse_0403L/20230711     /n/data1/hms/neurobio/sabatini/rich/data/res2p/round_7_experiments/mouse_0403L/camera_data/20230711/cam42023-07-11T10_48_34.avi     /n/data1/hms/neurobio/sabatini/rich/analysis/eye_laser_trace_extraction/mouse_0403L/20230711/mask_cam42023-07-11T10_48_34.npy     jobNum_     03L_0711     /n/data1/hms/neurobio/sabatini/rich/virtual_envs/FR    3599    '}"
      ]
     },
     "metadata": {},
     "output_type": "display_data"
    },
    {
     "name": "stdout",
     "output_type": "stream",
     "text": [
      "       03L_0710     /n/data1/hms/neurobio/sabatini/rich/virtual_envs/FR    3599  \n",
      "\n",
      "    python3     /n/data1/hms/neurobio/sabatini/rich/analysis/eye_laser_trace_extraction/mouse_0403L/20230711/dispatcher.py     /n/data1/hms/neurobio/sabatini/rich/github_repos/NBAP/behavioral_drift_analysis/4a3_analyze_eye_laser_trace/extract_eye_brightness_trace.py     /n/data1/hms/neurobio/sabatini/rich/analysis/eye_laser_trace_extraction/mouse_0403L/20230711     /n/data1/hms/neurobio/sabatini/rich/data/res2p/round_7_experiments/mouse_0403L/camera_data/20230711/cam42023-07-11T10_48_34.avi     /n/data1/hms/neurobio/sabatini/rich/analysis/eye_laser_trace_extraction/mouse_0403L/20230711/mask_cam42023-07-11T10_48_34.npy     jobNum_     03L_0711     /n/data1/hms/neurobio/sabatini/rich/virtual_envs/FR    3599    \n",
      "dispatcher environment: /n/data1/hms/neurobio/sabatini/rich/virtual_envs/FR\n",
      "\n",
      "Copying /n/data1/hms/neurobio/sabatini/rich/github_repos/NBAP/behavioral_drift_analysis/4a3_analyze_eye_laser_trace/extract_eye_brightness_trace.py to /n/data1/hms/neurobio/sabatini/rich/analysis/eye_laser_trace_extraction/mouse_0403L/20230710/extract_eye_brightness_trace.py\n",
      "\n",
      "Submitting job: jobNum_ 0\n",
      "\n",
      "Submitted batch job 17011273\n",
      "\n",
      "AP]$     python3     /n/dattini/rich/virtual_envs/FR) [rh183@compute-a-16-170 NBA\n"
     ]
    },
    {
     "data": {
      "text/plain": [
       "{'dispatch': '    python3     /n/data1/hms/neurobio/sabatini/rich/analysis/eye_laser_trace_extraction/mouse_0403L/20230712/dispatcher.py     /n/data1/hms/neurobio/sabatini/rich/github_repos/NBAP/behavioral_drift_analysis/4a3_analyze_eye_laser_trace/extract_eye_brightness_trace.py     /n/data1/hms/neurobio/sabatini/rich/analysis/eye_laser_trace_extraction/mouse_0403L/20230712     /n/data1/hms/neurobio/sabatini/rich/data/res2p/round_7_experiments/mouse_0403L/camera_data/20230712/cam42023-07-12T10_29_25.avi     /n/data1/hms/neurobio/sabatini/rich/analysis/eye_laser_trace_extraction/mouse_0403L/20230712/mask_cam42023-07-12T10_29_25.npy     jobNum_     03L_0712     /n/data1/hms/neurobio/sabatini/rich/virtual_envs/FR    3599    '}"
      ]
     },
     "metadata": {},
     "output_type": "display_data"
    },
    {
     "name": "stdout",
     "output_type": "stream",
     "text": [
      "       03L_0711     /n/data1/hms/neurobio/sabatini/rich/virtual_envs/FR    3599  \n",
      "dispatcher environment: /n/data1/hms/neurobio/sabatini/rich/virtual_envs/FR\n",
      "\n",
      "    python3     /n/data1/hms/neurobio/sabatini/rich/analysis/eye_laser_trace_extraction/mouse_0403L/20230712/dispatcher.py     /n/data1/hms/neurobio/sabatini/rich/github_repos/NBAP/behavioral_drift_analysis/4a3_analyze_eye_laser_trace/extract_eye_brightness_trace.py     /n/data1/hms/neurobio/sabatini/rich/analysis/eye_laser_trace_extraction/mouse_0403L/20230712     /n/data1/hms/neurobio/sabatini/rich/data/res2p/round_7_experiments/mouse_0403L/camera_data/20230712/cam42023-07-12T10_29_25.avi     /n/data1/hms/neurobio/sabatini/rich/analysis/eye_laser_trace_extraction/mouse_0403L/20230712/mask_cam42023-07-12T10_29_25.npy     jobNum_     03L_0712     /n/data1/hms/neurobio/sabatini/rich/virtual_envs/FR    3599    \n",
      "\n",
      "Copying /n/data1/hms/neurobio/sabatini/rich/github_repos/NBAP/behavioral_drift_analysis/4a3_analyze_eye_laser_trace/extract_eye_brightness_trace.py to /n/data1/hms/neurobio/sabatini/rich/analysis/eye_laser_trace_extraction/mouse_0403L/20230711/extract_eye_brightness_trace.py\n",
      "\n",
      "\n",
      "Submitting job: jobNum_ 0\n",
      "\n",
      "Submitted batch job 17011279\n",
      "\n",
      "\n",
      "AP]$     pyts/neurobio/sabatini/rich/virtual_envs/FR) [rh183@compute-a-16-170 NBA\n"
     ]
    },
    {
     "data": {
      "text/plain": [
       "{'dispatch': '    python3     /n/data1/hms/neurobio/sabatini/rich/analysis/eye_laser_trace_extraction/mouse_0403L/20230713/dispatcher.py     /n/data1/hms/neurobio/sabatini/rich/github_repos/NBAP/behavioral_drift_analysis/4a3_analyze_eye_laser_trace/extract_eye_brightness_trace.py     /n/data1/hms/neurobio/sabatini/rich/analysis/eye_laser_trace_extraction/mouse_0403L/20230713     /n/data1/hms/neurobio/sabatini/rich/data/res2p/round_7_experiments/mouse_0403L/camera_data/20230713/cam42023-07-13T10_26_06.avi     /n/data1/hms/neurobio/sabatini/rich/analysis/eye_laser_trace_extraction/mouse_0403L/20230713/mask_cam42023-07-13T10_26_06.npy     jobNum_     03L_0713     /n/data1/hms/neurobio/sabatini/rich/virtual_envs/FR    3599    '}"
      ]
     },
     "metadata": {},
     "output_type": "display_data"
    },
    {
     "name": "stdout",
     "output_type": "stream",
     "text": [
      "       03L_0712     /n/data1/hms/neurobio/sabatini/rich/virtual_envs/FR    3599  \n",
      "dispatcher environment: /n/data1/hms/neurobio/sabatini/rich/virtual_envs/FR\n",
      "\n",
      "    python3     /n/data1/hms/neurobio/sabatini/rich/analysis/eye_laser_trace_extraction/mouse_0403L/20230713/dispatcher.py     /n/data1/hms/neurobio/sabatini/rich/github_repos/NBAP/behavioral_drift_analysis/4a3_analyze_eye_laser_trace/extract_eye_brightness_trace.py     /n/data1/hms/neurobio/sabatini/rich/analysis/eye_laser_trace_extraction/mouse_0403L/20230713     /n/data1/hms/neurobio/sabatini/rich/data/res2p/round_7_experiments/mouse_0403L/camera_data/20230713/cam42023-07-13T10_26_06.avi     /n/data1/hms/neurobio/sabatini/rich/analysis/eye_laser_trace_extraction/mouse_0403L/20230713/mask_cam42023-07-13T10_26_06.npy     jobNum_     03L_0713     /n/data1/hms/neurobio/sabatini/rich/virtual_envs/FR    3599    \n",
      "\n",
      "Copying /n/data1/hms/neurobio/sabatini/rich/github_repos/NBAP/behavioral_drift_analysis/4a3_analyze_eye_laser_trace/extract_eye_brightness_trace.py to /n/data1/hms/neurobio/sabatini/rich/analysis/eye_laser_trace_extraction/mouse_0403L/20230712/extract_eye_brightness_trace.py\n",
      "Submitting job: jobNum_ 0\n",
      "\n",
      "Submitted batch job 17011282\n",
      "\n",
      "3-07-13T10_26_06.avi     /n/data1/hms/neurobio/sabatini/rich/analysis713/cam4202 \n"
     ]
    },
    {
     "data": {
      "text/plain": [
       "{'dispatch': '    python3     /n/data1/hms/neurobio/sabatini/rich/analysis/eye_laser_trace_extraction/mouse_0403L/20230714/dispatcher.py     /n/data1/hms/neurobio/sabatini/rich/github_repos/NBAP/behavioral_drift_analysis/4a3_analyze_eye_laser_trace/extract_eye_brightness_trace.py     /n/data1/hms/neurobio/sabatini/rich/analysis/eye_laser_trace_extraction/mouse_0403L/20230714     /n/data1/hms/neurobio/sabatini/rich/data/res2p/round_7_experiments/mouse_0403L/camera_data/20230714/cam42023-07-14T10_11_15.avi     /n/data1/hms/neurobio/sabatini/rich/analysis/eye_laser_trace_extraction/mouse_0403L/20230714/mask_cam42023-07-14T10_11_15.npy     jobNum_     03L_0714     /n/data1/hms/neurobio/sabatini/rich/virtual_envs/FR    3599    '}"
      ]
     },
     "metadata": {},
     "output_type": "display_data"
    },
    {
     "name": "stdout",
     "output_type": "stream",
     "text": [
      "       03L_0713     /n/data1/hms/neurobio/sabatini/rich/virtual_envs/FR    3599  \n",
      "dispatcher environment: /n/data1/hms/neurobio/sabatini/rich/virtual_envs/FR\n",
      "\n",
      "    python3     /n/data1/hms/neurobio/sabatini/rich/analysis/eye_laser_trace_extraction/mouse_0403L/20230714/dispatcher.py     /n/data1/hms/neurobio/sabatini/rich/github_repos/NBAP/behavioral_drift_analysis/4a3_analyze_eye_laser_trace/extract_eye_brightness_trace.py     /n/data1/hms/neurobio/sabatini/rich/analysis/eye_laser_trace_extraction/mouse_0403L/20230714     /n/data1/hms/neurobio/sabatini/rich/data/res2p/round_7_experiments/mouse_0403L/camera_data/20230714/cam42023-07-14T10_11_15.avi     /n/data1/hms/neurobio/sabatini/rich/analysis/eye_laser_trace_extraction/mouse_0403L/20230714/mask_cam42023-07-14T10_11_15.npy     jobNum_     03L_0714     /n/data1/hms/neurobio/sabatini/rich/virtual_envs/FR    3599    \n",
      "\n",
      "Copying /n/data1/hms/neurobio/sabatini/rich/github_repos/NBAP/behavioral_drift_analysis/4a3_analyze_eye_laser_trace/extract_eye_brightness_trace.py to /n/data1/hms/neurobio/sabatini/rich/analysis/eye_laser_trace_extraction/mouse_0403L/20230713/extract_eye_brightness_trace.py\n",
      "\n",
      "Submitting job: jobNum_ 0\n",
      "\n",
      "Submitted batch job 17011297\n",
      "\n",
      "\n",
      "AP]$ ata1/hms/neurobio/sabatini/rich/virtual_envs/FR) [rh183@compute-a-16-170 NBA\n"
     ]
    },
    {
     "data": {
      "text/plain": [
       "{'dispatch': '    python3     /n/data1/hms/neurobio/sabatini/rich/analysis/eye_laser_trace_extraction/mouse_0403L/20230715/dispatcher.py     /n/data1/hms/neurobio/sabatini/rich/github_repos/NBAP/behavioral_drift_analysis/4a3_analyze_eye_laser_trace/extract_eye_brightness_trace.py     /n/data1/hms/neurobio/sabatini/rich/analysis/eye_laser_trace_extraction/mouse_0403L/20230715     /n/data1/hms/neurobio/sabatini/rich/data/res2p/round_7_experiments/mouse_0403L/camera_data/20230715/cam42023-07-15T10_59_35.avi     /n/data1/hms/neurobio/sabatini/rich/analysis/eye_laser_trace_extraction/mouse_0403L/20230715/mask_cam42023-07-15T10_59_35.npy     jobNum_     03L_0715     /n/data1/hms/neurobio/sabatini/rich/virtual_envs/FR    3599    '}"
      ]
     },
     "metadata": {},
     "output_type": "display_data"
    },
    {
     "name": "stdout",
     "output_type": "stream",
     "text": [
      "       03L_0714     /n/data1/hms/neurobio/sabatini/rich/virtual_envs/FR    3599  \n",
      "dispatcher environment: /n/data1/hms/neurobio/sabatini/rich/virtual_envs/FR\n",
      "\n",
      "    python3     /n/data1/hms/neurobio/sabatini/rich/analysis/eye_laser_trace_extraction/mouse_0403L/20230715/dispatcher.py     /n/data1/hms/neurobio/sabatini/rich/github_repos/NBAP/behavioral_drift_analysis/4a3_analyze_eye_laser_trace/extract_eye_brightness_trace.py     /n/data1/hms/neurobio/sabatini/rich/analysis/eye_laser_trace_extraction/mouse_0403L/20230715     /n/data1/hms/neurobio/sabatini/rich/data/res2p/round_7_experiments/mouse_0403L/camera_data/20230715/cam42023-07-15T10_59_35.avi     /n/data1/hms/neurobio/sabatini/rich/analysis/eye_laser_trace_extraction/mouse_0403L/20230715/mask_cam42023-07-15T10_59_35.npy     jobNum_     03L_0715     /n/data1/hms/neurobio/sabatini/rich/virtual_envs/FR    3599    \n",
      "\n",
      "Copying /n/data1/hms/neurobio/sabatini/rich/github_repos/NBAP/behavioral_drift_analysis/4a3_analyze_eye_laser_trace/extract_eye_brightness_trace.py to /n/data1/hms/neurobio/sabatini/rich/analysis/eye_laser_trace_extraction/mouse_0403L/20230714/extract_eye_brightness_trace.py\n",
      "Submitting job: jobNum_ 0\n",
      "\n",
      "Submitted batch job 17011307\n",
      "\n",
      "       03L_0715     /n/data1/hms/neurobio/sabatini/rich/virtual_envs/FR    3599  \n",
      "\n"
     ]
    },
    {
     "data": {
      "text/plain": [
       "{'dispatch': '    python3     /n/data1/hms/neurobio/sabatini/rich/analysis/eye_laser_trace_extraction/mouse_0403L/20230716/dispatcher.py     /n/data1/hms/neurobio/sabatini/rich/github_repos/NBAP/behavioral_drift_analysis/4a3_analyze_eye_laser_trace/extract_eye_brightness_trace.py     /n/data1/hms/neurobio/sabatini/rich/analysis/eye_laser_trace_extraction/mouse_0403L/20230716     /n/data1/hms/neurobio/sabatini/rich/data/res2p/round_7_experiments/mouse_0403L/camera_data/20230716/cam42023-07-16T10_13_50.avi     /n/data1/hms/neurobio/sabatini/rich/analysis/eye_laser_trace_extraction/mouse_0403L/20230716/mask_cam42023-07-16T10_13_50.npy     jobNum_     03L_0716     /n/data1/hms/neurobio/sabatini/rich/virtual_envs/FR    3599    '}"
      ]
     },
     "metadata": {},
     "output_type": "display_data"
    },
    {
     "name": "stdout",
     "output_type": "stream",
     "text": [
      "dispatcher environment: /n/data1/hms/neurobio/sabatini/rich/virtual_envs/FR\n",
      "\n",
      "    python3     /n/data1/hms/neurobio/sabatini/rich/analysis/eye_laser_trace_extraction/mouse_0403L/20230716/dispatcher.py     /n/data1/hms/neurobio/sabatini/rich/github_repos/NBAP/behavioral_drift_analysis/4a3_analyze_eye_laser_trace/extract_eye_brightness_trace.py     /n/data1/hms/neurobio/sabatini/rich/analysis/eye_laser_trace_extraction/mouse_0403L/20230716     /n/data1/hms/neurobio/sabatini/rich/data/res2p/round_7_experiments/mouse_0403L/camera_data/20230716/cam42023-07-16T10_13_50.avi     /n/data1/hms/neurobio/sabatini/rich/analysis/eye_laser_trace_extraction/mouse_0403L/20230716/mask_cam42023-07-16T10_13_50.npy     jobNum_     03L_0716     /n/data1/hms/neurobio/sabatini/rich/virtual_envs/FR    3599    \n",
      "\n",
      "Copying /n/data1/hms/neurobio/sabatini/rich/github_repos/NBAP/behavioral_drift_analysis/4a3_analyze_eye_laser_trace/extract_eye_brightness_trace.py to /n/data1/hms/neurobio/sabatini/rich/analysis/eye_laser_trace_extraction/mouse_0403L/20230715/extract_eye_brightness_trace.py\n",
      "\n",
      "Submitting job: jobNum_ 0\n",
      "\n",
      "Submitted batch job 17011325\n",
      "\n",
      "\n",
      "AP]$     pyms/neurobio/sabatini/rich/virtual_envs/FR) [rh183@compute-a-16-170 NBA\n"
     ]
    },
    {
     "data": {
      "text/plain": [
       "{'dispatch': '    python3     /n/data1/hms/neurobio/sabatini/rich/analysis/eye_laser_trace_extraction/mouse_0403L/20230717/dispatcher.py     /n/data1/hms/neurobio/sabatini/rich/github_repos/NBAP/behavioral_drift_analysis/4a3_analyze_eye_laser_trace/extract_eye_brightness_trace.py     /n/data1/hms/neurobio/sabatini/rich/analysis/eye_laser_trace_extraction/mouse_0403L/20230717     /n/data1/hms/neurobio/sabatini/rich/data/res2p/round_7_experiments/mouse_0403L/camera_data/20230717/cam42023-07-17T10_33_46.avi     /n/data1/hms/neurobio/sabatini/rich/analysis/eye_laser_trace_extraction/mouse_0403L/20230717/mask_cam42023-07-17T10_33_46.npy     jobNum_     03L_0717     /n/data1/hms/neurobio/sabatini/rich/virtual_envs/FR    3599    '}"
      ]
     },
     "metadata": {},
     "output_type": "display_data"
    },
    {
     "name": "stdout",
     "output_type": "stream",
     "text": [
      "       03L_0716     /n/data1/hms/neurobio/sabatini/rich/virtual_envs/FR    3599  \n",
      "dispatcher environment: /n/data1/hms/neurobio/sabatini/rich/virtual_envs/FR\n",
      "\n",
      "    python3     /n/data1/hms/neurobio/sabatini/rich/analysis/eye_laser_trace_extraction/mouse_0403L/20230717/dispatcher.py     /n/data1/hms/neurobio/sabatini/rich/github_repos/NBAP/behavioral_drift_analysis/4a3_analyze_eye_laser_trace/extract_eye_brightness_trace.py     /n/data1/hms/neurobio/sabatini/rich/analysis/eye_laser_trace_extraction/mouse_0403L/20230717     /n/data1/hms/neurobio/sabatini/rich/data/res2p/round_7_experiments/mouse_0403L/camera_data/20230717/cam42023-07-17T10_33_46.avi     /n/data1/hms/neurobio/sabatini/rich/analysis/eye_laser_trace_extraction/mouse_0403L/20230717/mask_cam42023-07-17T10_33_46.npy     jobNum_     03L_0717     /n/data1/hms/neurobio/sabatini/rich/virtual_envs/FR    3599    \n",
      "\n",
      "Copying /n/data1/hms/neurobio/sabatini/rich/github_repos/NBAP/behavioral_drift_analysis/4a3_analyze_eye_laser_trace/extract_eye_brightness_trace.py to /n/data1/hms/neurobio/sabatini/rich/analysis/eye_laser_trace_extraction/mouse_0403L/20230716/extract_eye_brightness_trace.py\n",
      "\n",
      "Submitting job: jobNum_ 0\n",
      "\n",
      "Submitted batch job 17011327\n",
      "\n",
      "       03L_0717     /n/data1/hms/neurobio/sabatini/rich/virtual_envs/FR    3599  \n",
      "\n"
     ]
    },
    {
     "data": {
      "text/plain": [
       "{'dispatch': '    python3     /n/data1/hms/neurobio/sabatini/rich/analysis/eye_laser_trace_extraction/mouse_0403L/20230718/dispatcher.py     /n/data1/hms/neurobio/sabatini/rich/github_repos/NBAP/behavioral_drift_analysis/4a3_analyze_eye_laser_trace/extract_eye_brightness_trace.py     /n/data1/hms/neurobio/sabatini/rich/analysis/eye_laser_trace_extraction/mouse_0403L/20230718     /n/data1/hms/neurobio/sabatini/rich/data/res2p/round_7_experiments/mouse_0403L/camera_data/20230718/cam42023-07-18T10_16_20.avi     /n/data1/hms/neurobio/sabatini/rich/analysis/eye_laser_trace_extraction/mouse_0403L/20230718/mask_cam42023-07-18T10_16_20.npy     jobNum_     03L_0718     /n/data1/hms/neurobio/sabatini/rich/virtual_envs/FR    3599    '}"
      ]
     },
     "metadata": {},
     "output_type": "display_data"
    },
    {
     "name": "stdout",
     "output_type": "stream",
     "text": [
      "    python3     /n/data1/hms/neurobio/sabatini/rich/analysis/eye_laser_trace_extraction/mouse_0403L/20230718/dispatcher.py     /n/data1/hms/neurobio/sabatini/rich/github_repos/NBAP/behavioral_drift_analysis/4a3_analyze_eye_laser_trace/extract_eye_brightness_trace.py     /n/data1/hms/neurobio/sabatini/rich/analysis/eye_laser_trace_extraction/mouse_0403L/20230718     /n/data1/hms/neurobio/sabatini/rich/data/res2p/round_7_experiments/mouse_0403L/camera_data/20230718/cam42023-07-18T10_16_20.avi     /n/data1/hms/neurobio/sabatini/rich/analysis/eye_laser_trace_extraction/mouse_0403L/20230718/mask_cam42023-07-18T10_16_20.npy     jobNum_     03L_0718     /n/data1/hms/neurobio/sabatini/rich/virtual_envs/FR    3599    \n",
      "\n",
      "dispatcher environment: /n/data1/hms/neurobio/sabatini/rich/virtual_envs/FR\n",
      "\n",
      "Copying /n/data1/hms/neurobio/sabatini/rich/github_repos/NBAP/behavioral_drift_analysis/4a3_analyze_eye_laser_trace/extract_eye_brightness_trace.py to /n/data1/hms/neurobio/sabatini/rich/analysis/eye_laser_trace_extraction/mouse_0403L/20230717/extract_eye_brightness_trace.py\n",
      "Submitting job: jobNum_ 0\n",
      "\n",
      "Submitted batch job 17011339\n",
      "\n",
      "trace_extraction/mvi     /n/data1/hms/neurobio/sabatini/rich/analysis/eye_laser_ \n"
     ]
    },
    {
     "data": {
      "text/plain": [
       "{'dispatch': '    python3     /n/data1/hms/neurobio/sabatini/rich/analysis/eye_laser_trace_extraction/mouse_0403L/20230719/dispatcher.py     /n/data1/hms/neurobio/sabatini/rich/github_repos/NBAP/behavioral_drift_analysis/4a3_analyze_eye_laser_trace/extract_eye_brightness_trace.py     /n/data1/hms/neurobio/sabatini/rich/analysis/eye_laser_trace_extraction/mouse_0403L/20230719     /n/data1/hms/neurobio/sabatini/rich/data/res2p/round_7_experiments/mouse_0403L/camera_data/20230719/cam42023-07-19T10_11_02.avi     /n/data1/hms/neurobio/sabatini/rich/analysis/eye_laser_trace_extraction/mouse_0403L/20230719/mask_cam42023-07-19T10_11_02.npy     jobNum_     03L_0719     /n/data1/hms/neurobio/sabatini/rich/virtual_envs/FR    3599    '}"
      ]
     },
     "metadata": {},
     "output_type": "display_data"
    },
    {
     "name": "stdout",
     "output_type": "stream",
     "text": [
      "       03L_0718     /n/data1/hms/neurobio/sabatini/rich/virtual_envs/FR    3599  \n",
      "dispatcher environment: /n/data1/hms/neurobio/sabatini/rich/virtual_envs/FR\n",
      "\n",
      "    python3     /n/data1/hms/neurobio/sabatini/rich/analysis/eye_laser_trace_extraction/mouse_0403L/20230719/dispatcher.py     /n/data1/hms/neurobio/sabatini/rich/github_repos/NBAP/behavioral_drift_analysis/4a3_analyze_eye_laser_trace/extract_eye_brightness_trace.py     /n/data1/hms/neurobio/sabatini/rich/analysis/eye_laser_trace_extraction/mouse_0403L/20230719     /n/data1/hms/neurobio/sabatini/rich/data/res2p/round_7_experiments/mouse_0403L/camera_data/20230719/cam42023-07-19T10_11_02.avi     /n/data1/hms/neurobio/sabatini/rich/analysis/eye_laser_trace_extraction/mouse_0403L/20230719/mask_cam42023-07-19T10_11_02.npy     jobNum_     03L_0719     /n/data1/hms/neurobio/sabatini/rich/virtual_envs/FR    3599    \n",
      "\n",
      "Copying /n/data1/hms/neurobio/sabatini/rich/github_repos/NBAP/behavioral_drift_analysis/4a3_analyze_eye_laser_trace/extract_eye_brightness_trace.py to /n/data1/hms/neurobio/sabatini/rich/analysis/eye_laser_trace_extraction/mouse_0403L/20230718/extract_eye_brightness_trace.py\n",
      "\n",
      "Submitting job: jobNum_ 0\n",
      "\n",
      "Submitted batch job 17011348\n",
      "\n",
      "AP]$ ata1/hms/neurobio/sabatini/rich/virtual_envs/FR) [rh183@compute-a-16-170 NBA\n"
     ]
    },
    {
     "data": {
      "text/plain": [
       "{'dispatch': '    python3     /n/data1/hms/neurobio/sabatini/rich/analysis/eye_laser_trace_extraction/mouse_0403L/20230720/dispatcher.py     /n/data1/hms/neurobio/sabatini/rich/github_repos/NBAP/behavioral_drift_analysis/4a3_analyze_eye_laser_trace/extract_eye_brightness_trace.py     /n/data1/hms/neurobio/sabatini/rich/analysis/eye_laser_trace_extraction/mouse_0403L/20230720     /n/data1/hms/neurobio/sabatini/rich/data/res2p/round_7_experiments/mouse_0403L/camera_data/20230720/cam42023-07-20T10_38_17.avi     /n/data1/hms/neurobio/sabatini/rich/analysis/eye_laser_trace_extraction/mouse_0403L/20230720/mask_cam42023-07-20T10_38_17.npy     jobNum_     03L_0720     /n/data1/hms/neurobio/sabatini/rich/virtual_envs/FR    3599    '}"
      ]
     },
     "metadata": {},
     "output_type": "display_data"
    },
    {
     "name": "stdout",
     "output_type": "stream",
     "text": [
      "       03L_0719     /n/data1/hms/neurobio/sabatini/rich/virtual_envs/FR    3599  \n",
      "dispatcher environment: /n/data1/hms/neurobio/sabatini/rich/virtual_envs/FR\n",
      "\n",
      "    python3     /n/data1/hms/neurobio/sabatini/rich/analysis/eye_laser_trace_extraction/mouse_0403L/20230720/dispatcher.py     /n/data1/hms/neurobio/sabatini/rich/github_repos/NBAP/behavioral_drift_analysis/4a3_analyze_eye_laser_trace/extract_eye_brightness_trace.py     /n/data1/hms/neurobio/sabatini/rich/analysis/eye_laser_trace_extraction/mouse_0403L/20230720     /n/data1/hms/neurobio/sabatini/rich/data/res2p/round_7_experiments/mouse_0403L/camera_data/20230720/cam42023-07-20T10_38_17.avi     /n/data1/hms/neurobio/sabatini/rich/analysis/eye_laser_trace_extraction/mouse_0403L/20230720/mask_cam42023-07-20T10_38_17.npy     jobNum_     03L_0720     /n/data1/hms/neurobio/sabatini/rich/virtual_envs/FR    3599    \n",
      "\n",
      "Copying /n/data1/hms/neurobio/sabatini/rich/github_repos/NBAP/behavioral_drift_analysis/4a3_analyze_eye_laser_trace/extract_eye_brightness_trace.py to /n/data1/hms/neurobio/sabatini/rich/analysis/eye_laser_trace_extraction/mouse_0403L/20230719/extract_eye_brightness_trace.py\n",
      "\n",
      "Submitting job: jobNum_ 0\n",
      "\n",
      "Submitted batch job 17011358\n",
      "\n",
      "       03L_0720     /n/data1/hms/neurobio/sabatini/rich/virtual_envs/FR    3599  \n",
      "\n"
     ]
    },
    {
     "data": {
      "text/plain": [
       "{'dispatch': '    python3     /n/data1/hms/neurobio/sabatini/rich/analysis/eye_laser_trace_extraction/mouse_0403L/20230721/dispatcher.py     /n/data1/hms/neurobio/sabatini/rich/github_repos/NBAP/behavioral_drift_analysis/4a3_analyze_eye_laser_trace/extract_eye_brightness_trace.py     /n/data1/hms/neurobio/sabatini/rich/analysis/eye_laser_trace_extraction/mouse_0403L/20230721     /n/data1/hms/neurobio/sabatini/rich/data/res2p/round_7_experiments/mouse_0403L/camera_data/20230721/cam42023-07-21T11_21_03.avi     /n/data1/hms/neurobio/sabatini/rich/analysis/eye_laser_trace_extraction/mouse_0403L/20230721/mask_cam42023-07-21T11_21_03.npy     jobNum_     03L_0721     /n/data1/hms/neurobio/sabatini/rich/virtual_envs/FR    3599    '}"
      ]
     },
     "metadata": {},
     "output_type": "display_data"
    },
    {
     "name": "stdout",
     "output_type": "stream",
     "text": [
      "dispatcher environment: /n/data1/hms/neurobio/sabatini/rich/virtual_envs/FR\n",
      "\n",
      "    python3     /n/data1/hms/neurobio/sabatini/rich/analysis/eye_laser_trace_extraction/mouse_0403L/20230721/dispatcher.py     /n/data1/hms/neurobio/sabatini/rich/github_repos/NBAP/behavioral_drift_analysis/4a3_analyze_eye_laser_trace/extract_eye_brightness_trace.py     /n/data1/hms/neurobio/sabatini/rich/analysis/eye_laser_trace_extraction/mouse_0403L/20230721     /n/data1/hms/neurobio/sabatini/rich/data/res2p/round_7_experiments/mouse_0403L/camera_data/20230721/cam42023-07-21T11_21_03.avi     /n/data1/hms/neurobio/sabatini/rich/analysis/eye_laser_trace_extraction/mouse_0403L/20230721/mask_cam42023-07-21T11_21_03.npy     jobNum_     03L_0721     /n/data1/hms/neurobio/sabatini/rich/virtual_envs/FR    3599    \n",
      "\n",
      "Copying /n/data1/hms/neurobio/sabatini/rich/github_repos/NBAP/behavioral_drift_analysis/4a3_analyze_eye_laser_trace/extract_eye_brightness_trace.py to /n/data1/hms/neurobio/sabatini/rich/analysis/eye_laser_trace_extraction/mouse_0403L/20230720/extract_eye_brightness_trace.py\n",
      "\n",
      "Submitting job: jobNum_ 0\n",
      "\n",
      "Submitted batch job 17011368\n",
      "\n",
      "AP]$     python3     /nsabatini/rich/virtual_envs/FR) [rh183@compute-a-16-170 NBA\n"
     ]
    },
    {
     "data": {
      "text/plain": [
       "{'dispatch': '    python3     /n/data1/hms/neurobio/sabatini/rich/analysis/eye_laser_trace_extraction/mouse_0403L/20230722/dispatcher.py     /n/data1/hms/neurobio/sabatini/rich/github_repos/NBAP/behavioral_drift_analysis/4a3_analyze_eye_laser_trace/extract_eye_brightness_trace.py     /n/data1/hms/neurobio/sabatini/rich/analysis/eye_laser_trace_extraction/mouse_0403L/20230722     /n/data1/hms/neurobio/sabatini/rich/data/res2p/round_7_experiments/mouse_0403L/camera_data/20230722/cam42023-07-22T10_31_50.avi     /n/data1/hms/neurobio/sabatini/rich/analysis/eye_laser_trace_extraction/mouse_0403L/20230722/mask_cam42023-07-22T10_31_50.npy     jobNum_     03L_0722     /n/data1/hms/neurobio/sabatini/rich/virtual_envs/FR    3599    '}"
      ]
     },
     "metadata": {},
     "output_type": "display_data"
    },
    {
     "name": "stdout",
     "output_type": "stream",
     "text": [
      "       03L_0721     /n/data1/hms/neurobio/sabatini/rich/virtual_envs/FR    3599  \n",
      "\n",
      "    python3     /n/data1/hms/neurobio/sabatini/rich/analysis/eye_laser_trace_extraction/mouse_0403L/20230722/dispatcher.py     /n/data1/hms/neurobio/sabatini/rich/github_repos/NBAP/behavioral_drift_analysis/4a3_analyze_eye_laser_trace/extract_eye_brightness_trace.py     /n/data1/hms/neurobio/sabatini/rich/analysis/eye_laser_trace_extraction/mouse_0403L/20230722     /n/data1/hms/neurobio/sabatini/rich/data/res2p/round_7_experiments/mouse_0403L/camera_data/20230722/cam42023-07-22T10_31_50.avi     /n/data1/hms/neurobio/sabatini/rich/analysis/eye_laser_trace_extraction/mouse_0403L/20230722/mask_cam42023-07-22T10_31_50.npy     jobNum_     03L_0722     /n/data1/hms/neurobio/sabatini/rich/virtual_envs/FR    3599    \n",
      "\n",
      "dispatcher environment: /n/data1/hms/neurobio/sabatini/rich/virtual_envs/FR\n",
      "\n",
      "Copying /n/data1/hms/neurobio/sabatini/rich/github_repos/NBAP/behavioral_drift_analysis/4a3_analyze_eye_laser_trace/extract_eye_brightness_trace.py to /n/data1/hms/neurobio/sabatini/rich/analysis/eye_laser_trace_extraction/mouse_0403L/20230721/extract_eye_brightness_trace.py\n",
      "\n",
      "Submitting job: jobNum_ 0\n",
      "\n",
      "Submitted batch job 17011392\n",
      "\n",
      "\n",
      "AP]$     pythoneurobio/sabatini/rich/virtual_envs/FR) [rh183@compute-a-16-170 NBA\n"
     ]
    },
    {
     "data": {
      "text/plain": [
       "{'dispatch': '    python3     /n/data1/hms/neurobio/sabatini/rich/analysis/eye_laser_trace_extraction/mouse_0403L/20230723/dispatcher.py     /n/data1/hms/neurobio/sabatini/rich/github_repos/NBAP/behavioral_drift_analysis/4a3_analyze_eye_laser_trace/extract_eye_brightness_trace.py     /n/data1/hms/neurobio/sabatini/rich/analysis/eye_laser_trace_extraction/mouse_0403L/20230723     /n/data1/hms/neurobio/sabatini/rich/data/res2p/round_7_experiments/mouse_0403L/camera_data/20230723/cam42023-07-23T10_44_38.avi     /n/data1/hms/neurobio/sabatini/rich/analysis/eye_laser_trace_extraction/mouse_0403L/20230723/mask_cam42023-07-23T10_44_38.npy     jobNum_     03L_0723     /n/data1/hms/neurobio/sabatini/rich/virtual_envs/FR    3599    '}"
      ]
     },
     "metadata": {},
     "output_type": "display_data"
    },
    {
     "name": "stdout",
     "output_type": "stream",
     "text": [
      "       03L_0722     /n/data1/hms/neurobio/sabatini/rich/virtual_envs/FR    3599  \n",
      "dispatcher environment: /n/data1/hms/neurobio/sabatini/rich/virtual_envs/FR\n",
      "\n",
      "    python3     /n/data1/hms/neurobio/sabatini/rich/analysis/eye_laser_trace_extraction/mouse_0403L/20230723/dispatcher.py     /n/data1/hms/neurobio/sabatini/rich/github_repos/NBAP/behavioral_drift_analysis/4a3_analyze_eye_laser_trace/extract_eye_brightness_trace.py     /n/data1/hms/neurobio/sabatini/rich/analysis/eye_laser_trace_extraction/mouse_0403L/20230723     /n/data1/hms/neurobio/sabatini/rich/data/res2p/round_7_experiments/mouse_0403L/camera_data/20230723/cam42023-07-23T10_44_38.avi     /n/data1/hms/neurobio/sabatini/rich/analysis/eye_laser_trace_extraction/mouse_0403L/20230723/mask_cam42023-07-23T10_44_38.npy     jobNum_     03L_0723     /n/data1/hms/neurobio/sabatini/rich/virtual_envs/FR    3599    \n",
      "\n",
      "Copying /n/data1/hms/neurobio/sabatini/rich/github_repos/NBAP/behavioral_drift_analysis/4a3_analyze_eye_laser_trace/extract_eye_brightness_trace.py to /n/data1/hms/neurobio/sabatini/rich/analysis/eye_laser_trace_extraction/mouse_0403L/20230722/extract_eye_brightness_trace.py\n",
      "Submitting job: jobNum_ 0\n",
      "\n",
      "Submitted batch job 17011410\n",
      "\n",
      "       03L_0723     /n/data1/hms/neurobio/sabatini/rich/virtual_envs/FR    3599  \n",
      "\n"
     ]
    },
    {
     "data": {
      "text/plain": [
       "{'dispatch': '    python3     /n/data1/hms/neurobio/sabatini/rich/analysis/eye_laser_trace_extraction/mouse_0403L/20230724/dispatcher.py     /n/data1/hms/neurobio/sabatini/rich/github_repos/NBAP/behavioral_drift_analysis/4a3_analyze_eye_laser_trace/extract_eye_brightness_trace.py     /n/data1/hms/neurobio/sabatini/rich/analysis/eye_laser_trace_extraction/mouse_0403L/20230724     /n/data1/hms/neurobio/sabatini/rich/data/res2p/round_7_experiments/mouse_0403L/camera_data/20230724/cam42023-07-24T10_50_53.avi     /n/data1/hms/neurobio/sabatini/rich/analysis/eye_laser_trace_extraction/mouse_0403L/20230724/mask_cam42023-07-24T10_50_53.npy     jobNum_     03L_0724     /n/data1/hms/neurobio/sabatini/rich/virtual_envs/FR    3599    '}"
      ]
     },
     "metadata": {},
     "output_type": "display_data"
    },
    {
     "name": "stdout",
     "output_type": "stream",
     "text": [
      "dispatcher environment: /n/data1/hms/neurobio/sabatini/rich/virtual_envs/FR\n",
      "\n",
      "    python3     /n/data1/hms/neurobio/sabatini/rich/analysis/eye_laser_trace_extraction/mouse_0403L/20230724/dispatcher.py     /n/data1/hms/neurobio/sabatini/rich/github_repos/NBAP/behavioral_drift_analysis/4a3_analyze_eye_laser_trace/extract_eye_brightness_trace.py     /n/data1/hms/neurobio/sabatini/rich/analysis/eye_laser_trace_extraction/mouse_0403L/20230724     /n/data1/hms/neurobio/sabatini/rich/data/res2p/round_7_experiments/mouse_0403L/camera_data/20230724/cam42023-07-24T10_50_53.avi     /n/data1/hms/neurobio/sabatini/rich/analysis/eye_laser_trace_extraction/mouse_0403L/20230724/mask_cam42023-07-24T10_50_53.npy     jobNum_     03L_0724     /n/data1/hms/neurobio/sabatini/rich/virtual_envs/FR    3599    \n",
      "\n",
      "Copying /n/data1/hms/neurobio/sabatini/rich/github_repos/NBAP/behavioral_drift_analysis/4a3_analyze_eye_laser_trace/extract_eye_brightness_trace.py to /n/data1/hms/neurobio/sabatini/rich/analysis/eye_laser_trace_extraction/mouse_0403L/20230723/extract_eye_brightness_trace.py\n",
      "\n",
      "Submitting job: jobNum_ 0\n",
      "\n",
      "Submitted batch job 17011422\n",
      "\n",
      "AP]$     pyms/neurobio/sabatini/rich/virtual_envs/FR) [rh183@compute-a-16-170 NBA\n"
     ]
    },
    {
     "data": {
      "text/plain": [
       "{'dispatch': '    python3     /n/data1/hms/neurobio/sabatini/rich/analysis/eye_laser_trace_extraction/mouse_0403L/20230725/dispatcher.py     /n/data1/hms/neurobio/sabatini/rich/github_repos/NBAP/behavioral_drift_analysis/4a3_analyze_eye_laser_trace/extract_eye_brightness_trace.py     /n/data1/hms/neurobio/sabatini/rich/analysis/eye_laser_trace_extraction/mouse_0403L/20230725     /n/data1/hms/neurobio/sabatini/rich/data/res2p/round_7_experiments/mouse_0403L/camera_data/20230725/cam42023-07-25T11_19_05.avi     /n/data1/hms/neurobio/sabatini/rich/analysis/eye_laser_trace_extraction/mouse_0403L/20230725/mask_cam42023-07-25T11_19_05.npy     jobNum_     03L_0725     /n/data1/hms/neurobio/sabatini/rich/virtual_envs/FR    4799    '}"
      ]
     },
     "metadata": {},
     "output_type": "display_data"
    },
    {
     "name": "stdout",
     "output_type": "stream",
     "text": [
      "       03L_0724     /n/data1/hms/neurobio/sabatini/rich/virtual_envs/FR    3599  \n",
      "dispatcher environment: /n/data1/hms/neurobio/sabatini/rich/virtual_envs/FR\n",
      "\n",
      "    python3     /n/data1/hms/neurobio/sabatini/rich/analysis/eye_laser_trace_extraction/mouse_0403L/20230725/dispatcher.py     /n/data1/hms/neurobio/sabatini/rich/github_repos/NBAP/behavioral_drift_analysis/4a3_analyze_eye_laser_trace/extract_eye_brightness_trace.py     /n/data1/hms/neurobio/sabatini/rich/analysis/eye_laser_trace_extraction/mouse_0403L/20230725     /n/data1/hms/neurobio/sabatini/rich/data/res2p/round_7_experiments/mouse_0403L/camera_data/20230725/cam42023-07-25T11_19_05.avi     /n/data1/hms/neurobio/sabatini/rich/analysis/eye_laser_trace_extraction/mouse_0403L/20230725/mask_cam42023-07-25T11_19_05.npy     jobNum_     03L_0725     /n/data1/hms/neurobio/sabatini/rich/virtual_envs/FR    4799    \n",
      "\n",
      "Copying /n/data1/hms/neurobio/sabatini/rich/github_repos/NBAP/behavioral_drift_analysis/4a3_analyze_eye_laser_trace/extract_eye_brightness_trace.py to /n/data1/hms/neurobio/sabatini/rich/analysis/eye_laser_trace_extraction/mouse_0403L/20230724/extract_eye_brightness_trace.py\n",
      "\n",
      "Submitting job: jobNum_ 0\n",
      "\n",
      "Submitted batch job 17011436\n",
      "\n",
      "\n",
      "AP]$     python3     //sabatini/rich/virtual_envs/FR) [rh183@compute-a-16-170 NBA\n"
     ]
    },
    {
     "data": {
      "text/plain": [
       "{'dispatch': '    python3     /n/data1/hms/neurobio/sabatini/rich/analysis/eye_laser_trace_extraction/mouse_0403L/20230726/dispatcher.py     /n/data1/hms/neurobio/sabatini/rich/github_repos/NBAP/behavioral_drift_analysis/4a3_analyze_eye_laser_trace/extract_eye_brightness_trace.py     /n/data1/hms/neurobio/sabatini/rich/analysis/eye_laser_trace_extraction/mouse_0403L/20230726     /n/data1/hms/neurobio/sabatini/rich/data/res2p/round_7_experiments/mouse_0403L/camera_data/20230726/cam42023-07-26T11_49_44.avi     /n/data1/hms/neurobio/sabatini/rich/analysis/eye_laser_trace_extraction/mouse_0403L/20230726/mask_cam42023-07-26T11_49_44.npy     jobNum_     03L_0726     /n/data1/hms/neurobio/sabatini/rich/virtual_envs/FR    4799    '}"
      ]
     },
     "metadata": {},
     "output_type": "display_data"
    },
    {
     "name": "stdout",
     "output_type": "stream",
     "text": [
      "       03L_0725     /n/data1/hms/neurobio/sabatini/rich/virtual_envs/FR    4799  \n",
      "dispatcher environment: /n/data1/hms/neurobio/sabatini/rich/virtual_envs/FR\n",
      "\n",
      "    python3     /n/data1/hms/neurobio/sabatini/rich/analysis/eye_laser_trace_extraction/mouse_0403L/20230726/dispatcher.py     /n/data1/hms/neurobio/sabatini/rich/github_repos/NBAP/behavioral_drift_analysis/4a3_analyze_eye_laser_trace/extract_eye_brightness_trace.py     /n/data1/hms/neurobio/sabatini/rich/analysis/eye_laser_trace_extraction/mouse_0403L/20230726     /n/data1/hms/neurobio/sabatini/rich/data/res2p/round_7_experiments/mouse_0403L/camera_data/20230726/cam42023-07-26T11_49_44.avi     /n/data1/hms/neurobio/sabatini/rich/analysis/eye_laser_trace_extraction/mouse_0403L/20230726/mask_cam42023-07-26T11_49_44.npy     jobNum_     03L_0726     /n/data1/hms/neurobio/sabatini/rich/virtual_envs/FR    4799    \n",
      "\n",
      "Copying /n/data1/hms/neurobio/sabatini/rich/github_repos/NBAP/behavioral_drift_analysis/4a3_analyze_eye_laser_trace/extract_eye_brightness_trace.py to /n/data1/hms/neurobio/sabatini/rich/analysis/eye_laser_trace_extraction/mouse_0403L/20230725/extract_eye_brightness_trace.py\n",
      "\n",
      "Submitting job: jobNum_ 0\n",
      "\n",
      "Submitted batch job 17011445\n",
      "\n",
      "\n",
      "AP]$ ata1/hms/neurobio/sabatini/rich/virtual_envs/FR) [rh183@compute-a-16-170 NBA\n"
     ]
    },
    {
     "data": {
      "text/plain": [
       "{'dispatch': '    python3     /n/data1/hms/neurobio/sabatini/rich/analysis/eye_laser_trace_extraction/mouse_0403L/20230727/dispatcher.py     /n/data1/hms/neurobio/sabatini/rich/github_repos/NBAP/behavioral_drift_analysis/4a3_analyze_eye_laser_trace/extract_eye_brightness_trace.py     /n/data1/hms/neurobio/sabatini/rich/analysis/eye_laser_trace_extraction/mouse_0403L/20230727     /n/data1/hms/neurobio/sabatini/rich/data/res2p/round_7_experiments/mouse_0403L/camera_data/20230727/cam42023-07-27T11_48_34.avi     /n/data1/hms/neurobio/sabatini/rich/analysis/eye_laser_trace_extraction/mouse_0403L/20230727/mask_cam42023-07-27T11_48_34.npy     jobNum_     03L_0727     /n/data1/hms/neurobio/sabatini/rich/virtual_envs/FR    4799    '}"
      ]
     },
     "metadata": {},
     "output_type": "display_data"
    },
    {
     "name": "stdout",
     "output_type": "stream",
     "text": [
      "       03L_0726     /n/data1/hms/neurobio/sabatini/rich/virtual_envs/FR    4799  \n",
      "dispatcher environment: /n/data1/hms/neurobio/sabatini/rich/virtual_envs/FR\n",
      "\n",
      "    python3     /n/data1/hms/neurobio/sabatini/rich/analysis/eye_laser_trace_extraction/mouse_0403L/20230727/dispatcher.py     /n/data1/hms/neurobio/sabatini/rich/github_repos/NBAP/behavioral_drift_analysis/4a3_analyze_eye_laser_trace/extract_eye_brightness_trace.py     /n/data1/hms/neurobio/sabatini/rich/analysis/eye_laser_trace_extraction/mouse_0403L/20230727     /n/data1/hms/neurobio/sabatini/rich/data/res2p/round_7_experiments/mouse_0403L/camera_data/20230727/cam42023-07-27T11_48_34.avi     /n/data1/hms/neurobio/sabatini/rich/analysis/eye_laser_trace_extraction/mouse_0403L/20230727/mask_cam42023-07-27T11_48_34.npy     jobNum_     03L_0727     /n/data1/hms/neurobio/sabatini/rich/virtual_envs/FR    4799    \n",
      "\n",
      "Copying /n/data1/hms/neurobio/sabatini/rich/github_repos/NBAP/behavioral_drift_analysis/4a3_analyze_eye_laser_trace/extract_eye_brightness_trace.py to /n/data1/hms/neurobio/sabatini/rich/analysis/eye_laser_trace_extraction/mouse_0403L/20230726/extract_eye_brightness_trace.py\n",
      "Submitting job: jobNum_ 0\n",
      "\n",
      "Submitted batch job 17011463\n",
      "\n",
      "AP]$     python3     /nsabatini/rich/virtual_envs/FR) [rh183@compute-a-16-170 NBA\n"
     ]
    },
    {
     "data": {
      "text/plain": [
       "{'dispatch': '    python3     /n/data1/hms/neurobio/sabatini/rich/analysis/eye_laser_trace_extraction/mouse_0403L/20230728/dispatcher.py     /n/data1/hms/neurobio/sabatini/rich/github_repos/NBAP/behavioral_drift_analysis/4a3_analyze_eye_laser_trace/extract_eye_brightness_trace.py     /n/data1/hms/neurobio/sabatini/rich/analysis/eye_laser_trace_extraction/mouse_0403L/20230728     /n/data1/hms/neurobio/sabatini/rich/data/res2p/round_7_experiments/mouse_0403L/camera_data/20230728/cam42023-07-28T12_10_17.avi     /n/data1/hms/neurobio/sabatini/rich/analysis/eye_laser_trace_extraction/mouse_0403L/20230728/mask_cam42023-07-28T12_10_17.npy     jobNum_     03L_0728     /n/data1/hms/neurobio/sabatini/rich/virtual_envs/FR    4799    '}"
      ]
     },
     "metadata": {},
     "output_type": "display_data"
    },
    {
     "name": "stdout",
     "output_type": "stream",
     "text": [
      "       03L_0727     /n/data1/hms/neurobio/sabatini/rich/virtual_envs/FR    4799  \n",
      "dispatcher environment: /n/data1/hms/neurobio/sabatini/rich/virtual_envs/FR\n",
      "\n",
      "    python3     /n/data1/hms/neurobio/sabatini/rich/analysis/eye_laser_trace_extraction/mouse_0403L/20230728/dispatcher.py     /n/data1/hms/neurobio/sabatini/rich/github_repos/NBAP/behavioral_drift_analysis/4a3_analyze_eye_laser_trace/extract_eye_brightness_trace.py     /n/data1/hms/neurobio/sabatini/rich/analysis/eye_laser_trace_extraction/mouse_0403L/20230728     /n/data1/hms/neurobio/sabatini/rich/data/res2p/round_7_experiments/mouse_0403L/camera_data/20230728/cam42023-07-28T12_10_17.avi     /n/data1/hms/neurobio/sabatini/rich/analysis/eye_laser_trace_extraction/mouse_0403L/20230728/mask_cam42023-07-28T12_10_17.npy     jobNum_     03L_0728     /n/data1/hms/neurobio/sabatini/rich/virtual_envs/FR    4799    \n",
      "\n",
      "Copying /n/data1/hms/neurobio/sabatini/rich/github_repos/NBAP/behavioral_drift_analysis/4a3_analyze_eye_laser_trace/extract_eye_brightness_trace.py to /n/data1/hms/neurobio/sabatini/rich/analysis/eye_laser_trace_extraction/mouse_0403L/20230727/extract_eye_brightness_trace.py\n",
      "\n",
      "Submitting job: jobNum_ 0\n",
      "Submitted batch job 17011483\n",
      "\n",
      "       03L_0728     /n/data1/hms/neurobio/sabatini/rich/virtual_envs/FR    4799  \n",
      "\n"
     ]
    },
    {
     "data": {
      "text/plain": [
       "{'dispatch': '    python3     /n/data1/hms/neurobio/sabatini/rich/analysis/eye_laser_trace_extraction/mouse_0403L/20230729/dispatcher.py     /n/data1/hms/neurobio/sabatini/rich/github_repos/NBAP/behavioral_drift_analysis/4a3_analyze_eye_laser_trace/extract_eye_brightness_trace.py     /n/data1/hms/neurobio/sabatini/rich/analysis/eye_laser_trace_extraction/mouse_0403L/20230729     /n/data1/hms/neurobio/sabatini/rich/data/res2p/round_7_experiments/mouse_0403L/camera_data/20230729/cam42023-07-29T12_21_10.avi     /n/data1/hms/neurobio/sabatini/rich/analysis/eye_laser_trace_extraction/mouse_0403L/20230729/mask_cam42023-07-29T12_21_10.npy     jobNum_     03L_0729     /n/data1/hms/neurobio/sabatini/rich/virtual_envs/FR    4799    '}"
      ]
     },
     "metadata": {},
     "output_type": "display_data"
    },
    {
     "name": "stdout",
     "output_type": "stream",
     "text": [
      "dispatcher environment: /n/data1/hms/neurobio/sabatini/rich/virtual_envs/FR\n",
      "\n",
      "    python3     /n/data1/hms/neurobio/sabatini/rich/analysis/eye_laser_trace_extraction/mouse_0403L/20230729/dispatcher.py     /n/data1/hms/neurobio/sabatini/rich/github_repos/NBAP/behavioral_drift_analysis/4a3_analyze_eye_laser_trace/extract_eye_brightness_trace.py     /n/data1/hms/neurobio/sabatini/rich/analysis/eye_laser_trace_extraction/mouse_0403L/20230729     /n/data1/hms/neurobio/sabatini/rich/data/res2p/round_7_experiments/mouse_0403L/camera_data/20230729/cam42023-07-29T12_21_10.avi     /n/data1/hms/neurobio/sabatini/rich/analysis/eye_laser_trace_extraction/mouse_0403L/20230729/mask_cam42023-07-29T12_21_10.npy     jobNum_     03L_0729     /n/data1/hms/neurobio/sabatini/rich/virtual_envs/FR    4799    \n",
      "\n",
      "Copying /n/data1/hms/neurobio/sabatini/rich/github_repos/NBAP/behavioral_drift_analysis/4a3_analyze_eye_laser_trace/extract_eye_brightness_trace.py to /n/data1/hms/neurobio/sabatini/rich/analysis/eye_laser_trace_extraction/mouse_0403L/20230728/extract_eye_brightness_trace.py\n",
      "\n",
      "Submitting job: jobNum_ 0\n",
      "\n",
      "Submitted batch job 17011495\n",
      "\n",
      "       03L_0729     /n/data1/hms/neurobio/sabatini/rich/virtual_envs/FR    4799  \n",
      "\n"
     ]
    },
    {
     "data": {
      "text/plain": [
       "{'dispatch': '    python3     /n/data1/hms/neurobio/sabatini/rich/analysis/eye_laser_trace_extraction/mouse_0403L/20230730/dispatcher.py     /n/data1/hms/neurobio/sabatini/rich/github_repos/NBAP/behavioral_drift_analysis/4a3_analyze_eye_laser_trace/extract_eye_brightness_trace.py     /n/data1/hms/neurobio/sabatini/rich/analysis/eye_laser_trace_extraction/mouse_0403L/20230730     /n/data1/hms/neurobio/sabatini/rich/data/res2p/round_7_experiments/mouse_0403L/camera_data/20230730/cam42023-07-30T11_53_14.avi     /n/data1/hms/neurobio/sabatini/rich/analysis/eye_laser_trace_extraction/mouse_0403L/20230730/mask_cam42023-07-30T11_53_14.npy     jobNum_     03L_0730     /n/data1/hms/neurobio/sabatini/rich/virtual_envs/FR    4799    '}"
      ]
     },
     "metadata": {},
     "output_type": "display_data"
    },
    {
     "name": "stdout",
     "output_type": "stream",
     "text": [
      "dispatcher environment: /n/data1/hms/neurobio/sabatini/rich/virtual_envs/FR\n",
      "\n",
      "    python3     /n/data1/hms/neurobio/sabatini/rich/analysis/eye_laser_trace_extraction/mouse_0403L/20230730/dispatcher.py     /n/data1/hms/neurobio/sabatini/rich/github_repos/NBAP/behavioral_drift_analysis/4a3_analyze_eye_laser_trace/extract_eye_brightness_trace.py     /n/data1/hms/neurobio/sabatini/rich/analysis/eye_laser_trace_extraction/mouse_0403L/20230730     /n/data1/hms/neurobio/sabatini/rich/data/res2p/round_7_experiments/mouse_0403L/camera_data/20230730/cam42023-07-30T11_53_14.avi     /n/data1/hms/neurobio/sabatini/rich/analysis/eye_laser_trace_extraction/mouse_0403L/20230730/mask_cam42023-07-30T11_53_14.npy     jobNum_     03L_0730     /n/data1/hms/neurobio/sabatini/rich/virtual_envs/FR    4799    \n",
      "\n",
      "Copying /n/data1/hms/neurobio/sabatini/rich/github_repos/NBAP/behavioral_drift_analysis/4a3_analyze_eye_laser_trace/extract_eye_brightness_trace.py to /n/data1/hms/neurobio/sabatini/rich/analysis/eye_laser_trace_extraction/mouse_0403L/20230729/extract_eye_brightness_trace.py\n",
      "\n",
      "Submitting job: jobNum_ 0\n",
      "\n",
      "Submitted batch job 17011508\n",
      "\n",
      "AP]$ ata1/hms/neurobio/sabatini/rich/virtual_envs/FR) [rh183@compute-a-16-170 NBA\n"
     ]
    },
    {
     "data": {
      "text/plain": [
       "{'dispatch': '    python3     /n/data1/hms/neurobio/sabatini/rich/analysis/eye_laser_trace_extraction/mouse_0403L/20230731/dispatcher.py     /n/data1/hms/neurobio/sabatini/rich/github_repos/NBAP/behavioral_drift_analysis/4a3_analyze_eye_laser_trace/extract_eye_brightness_trace.py     /n/data1/hms/neurobio/sabatini/rich/analysis/eye_laser_trace_extraction/mouse_0403L/20230731     /n/data1/hms/neurobio/sabatini/rich/data/res2p/round_7_experiments/mouse_0403L/camera_data/20230731/cam42023-07-31T11_41_20.avi     /n/data1/hms/neurobio/sabatini/rich/analysis/eye_laser_trace_extraction/mouse_0403L/20230731/mask_cam42023-07-31T11_41_20.npy     jobNum_     03L_0731     /n/data1/hms/neurobio/sabatini/rich/virtual_envs/FR    4799    '}"
      ]
     },
     "metadata": {},
     "output_type": "display_data"
    },
    {
     "name": "stdout",
     "output_type": "stream",
     "text": [
      "       03L_0730     /n/data1/hms/neurobio/sabatini/rich/virtual_envs/FR    4799  \n",
      "\n",
      "    python3     /n/data1/hms/neurobio/sabatini/rich/analysis/eye_laser_trace_extraction/mouse_0403L/20230731/dispatcher.py     /n/data1/hms/neurobio/sabatini/rich/github_repos/NBAP/behavioral_drift_analysis/4a3_analyze_eye_laser_trace/extract_eye_brightness_trace.py     /n/data1/hms/neurobio/sabatini/rich/analysis/eye_laser_trace_extraction/mouse_0403L/20230731     /n/data1/hms/neurobio/sabatini/rich/data/res2p/round_7_experiments/mouse_0403L/camera_data/20230731/cam42023-07-31T11_41_20.avi     /n/data1/hms/neurobio/sabatini/rich/analysis/eye_laser_trace_extraction/mouse_0403L/20230731/mask_cam42023-07-31T11_41_20.npy     jobNum_     03L_0731     /n/data1/hms/neurobio/sabatini/rich/virtual_envs/FR    4799    \n",
      "\n",
      "dispatcher environment: /n/data1/hms/neurobio/sabatini/rich/virtual_envs/FR\n",
      "\n",
      "Copying /n/data1/hms/neurobio/sabatini/rich/github_repos/NBAP/behavioral_drift_analysis/4a3_analyze_eye_laser_trace/extract_eye_brightness_trace.py to /n/data1/hms/neurobio/sabatini/rich/analysis/eye_laser_trace_extraction/mouse_0403L/20230730/extract_eye_brightness_trace.py\n",
      "\n",
      "Submitting job: jobNum_ 0\n",
      "\n",
      "\n",
      "Submitted batch job 17011530\n",
      "\n",
      "trace_extraction/mou     /n/data1/hms/neurobio/sabatini/rich/analysis/eye_laser_ \n"
     ]
    },
    {
     "data": {
      "text/plain": [
       "{'dispatch': '    python3     /n/data1/hms/neurobio/sabatini/rich/analysis/eye_laser_trace_extraction/mouse_0403L/20230801/dispatcher.py     /n/data1/hms/neurobio/sabatini/rich/github_repos/NBAP/behavioral_drift_analysis/4a3_analyze_eye_laser_trace/extract_eye_brightness_trace.py     /n/data1/hms/neurobio/sabatini/rich/analysis/eye_laser_trace_extraction/mouse_0403L/20230801     /n/data1/hms/neurobio/sabatini/rich/data/res2p/round_7_experiments/mouse_0403L/camera_data/20230801/cam42023-08-01T11_34_58.avi     /n/data1/hms/neurobio/sabatini/rich/analysis/eye_laser_trace_extraction/mouse_0403L/20230801/mask_cam42023-08-01T11_34_58.npy     jobNum_     03L_0801     /n/data1/hms/neurobio/sabatini/rich/virtual_envs/FR    4799    '}"
      ]
     },
     "metadata": {},
     "output_type": "display_data"
    },
    {
     "name": "stdout",
     "output_type": "stream",
     "text": [
      "       03L_0731     /n/data1/hms/neurobio/sabatini/rich/virtual_envs/FR    4799  \n",
      "dispatcher environment: /n/data1/hms/neurobio/sabatini/rich/virtual_envs/FR\n",
      "\n",
      "    python3     /n/data1/hms/neurobio/sabatini/rich/analysis/eye_laser_trace_extraction/mouse_0403L/20230801/dispatcher.py     /n/data1/hms/neurobio/sabatini/rich/github_repos/NBAP/behavioral_drift_analysis/4a3_analyze_eye_laser_trace/extract_eye_brightness_trace.py     /n/data1/hms/neurobio/sabatini/rich/analysis/eye_laser_trace_extraction/mouse_0403L/20230801     /n/data1/hms/neurobio/sabatini/rich/data/res2p/round_7_experiments/mouse_0403L/camera_data/20230801/cam42023-08-01T11_34_58.avi     /n/data1/hms/neurobio/sabatini/rich/analysis/eye_laser_trace_extraction/mouse_0403L/20230801/mask_cam42023-08-01T11_34_58.npy     jobNum_     03L_0801     /n/data1/hms/neurobio/sabatini/rich/virtual_envs/FR    4799    \n",
      "\n",
      "Copying /n/data1/hms/neurobio/sabatini/rich/github_repos/NBAP/behavioral_drift_analysis/4a3_analyze_eye_laser_trace/extract_eye_brightness_trace.py to /n/data1/hms/neurobio/sabatini/rich/analysis/eye_laser_trace_extraction/mouse_0403L/20230731/extract_eye_brightness_trace.py\n",
      "\n",
      "Submitting job: jobNum_ 0\n",
      "\n",
      "Submitted batch job 17011535\n",
      "\n",
      "       03L_0801     /n/data1/hms/neurobio/sabatini/rich/virtual_envs/FR    4799  \n",
      "\n"
     ]
    },
    {
     "data": {
      "text/plain": [
       "{'dispatch': '    python3     /n/data1/hms/neurobio/sabatini/rich/analysis/eye_laser_trace_extraction/mouse_0403L/20230802/dispatcher.py     /n/data1/hms/neurobio/sabatini/rich/github_repos/NBAP/behavioral_drift_analysis/4a3_analyze_eye_laser_trace/extract_eye_brightness_trace.py     /n/data1/hms/neurobio/sabatini/rich/analysis/eye_laser_trace_extraction/mouse_0403L/20230802     /n/data1/hms/neurobio/sabatini/rich/data/res2p/round_7_experiments/mouse_0403L/camera_data/20230802/cam42023-08-02T11_42_59.avi     /n/data1/hms/neurobio/sabatini/rich/analysis/eye_laser_trace_extraction/mouse_0403L/20230802/mask_cam42023-08-02T11_42_59.npy     jobNum_     03L_0802     /n/data1/hms/neurobio/sabatini/rich/virtual_envs/FR    4799    '}"
      ]
     },
     "metadata": {},
     "output_type": "display_data"
    },
    {
     "name": "stdout",
     "output_type": "stream",
     "text": [
      "dispatcher environment: /n/data1/hms/neurobio/sabatini/rich/virtual_envs/FR\n",
      "\n",
      "    python3     /n/data1/hms/neurobio/sabatini/rich/analysis/eye_laser_trace_extraction/mouse_0403L/20230802/dispatcher.py     /n/data1/hms/neurobio/sabatini/rich/github_repos/NBAP/behavioral_drift_analysis/4a3_analyze_eye_laser_trace/extract_eye_brightness_trace.py     /n/data1/hms/neurobio/sabatini/rich/analysis/eye_laser_trace_extraction/mouse_0403L/20230802     /n/data1/hms/neurobio/sabatini/rich/data/res2p/round_7_experiments/mouse_0403L/camera_data/20230802/cam42023-08-02T11_42_59.avi     /n/data1/hms/neurobio/sabatini/rich/analysis/eye_laser_trace_extraction/mouse_0403L/20230802/mask_cam42023-08-02T11_42_59.npy     jobNum_     03L_0802     /n/data1/hms/neurobio/sabatini/rich/virtual_envs/FR    4799    \n",
      "\n",
      "Copying /n/data1/hms/neurobio/sabatini/rich/github_repos/NBAP/behavioral_drift_analysis/4a3_analyze_eye_laser_trace/extract_eye_brightness_trace.py to /n/data1/hms/neurobio/sabatini/rich/analysis/eye_laser_trace_extraction/mouse_0403L/20230801/extract_eye_brightness_trace.py\n",
      "\n",
      "\n",
      "Submitting job: jobNum_ 0\n",
      "\n",
      "Submitted batch job 17011544\n",
      "\n",
      "AP]$ ata1/hms/neurobio/sabatini/rich/virtual_envs/FR) [rh183@compute-a-16-170 NBA\n"
     ]
    },
    {
     "data": {
      "text/plain": [
       "{'dispatch': '    python3     /n/data1/hms/neurobio/sabatini/rich/analysis/eye_laser_trace_extraction/mouse_0403L/20230803/dispatcher.py     /n/data1/hms/neurobio/sabatini/rich/github_repos/NBAP/behavioral_drift_analysis/4a3_analyze_eye_laser_trace/extract_eye_brightness_trace.py     /n/data1/hms/neurobio/sabatini/rich/analysis/eye_laser_trace_extraction/mouse_0403L/20230803     /n/data1/hms/neurobio/sabatini/rich/data/res2p/round_7_experiments/mouse_0403L/camera_data/20230803/cam42023-08-03T12_08_29.avi     /n/data1/hms/neurobio/sabatini/rich/analysis/eye_laser_trace_extraction/mouse_0403L/20230803/mask_cam42023-08-03T12_08_29.npy     jobNum_     03L_0803     /n/data1/hms/neurobio/sabatini/rich/virtual_envs/FR    4799    '}"
      ]
     },
     "metadata": {},
     "output_type": "display_data"
    },
    {
     "name": "stdout",
     "output_type": "stream",
     "text": [
      "       03L_0802     /n/data1/hms/neurobio/sabatini/rich/virtual_envs/FR    4799  \n",
      "\n",
      "    python3     /n/data1/hms/neurobio/sabatini/rich/analysis/eye_laser_trace_extraction/mouse_0403L/20230803/dispatcher.py     /n/data1/hms/neurobio/sabatini/rich/github_repos/NBAP/behavioral_drift_analysis/4a3_analyze_eye_laser_trace/extract_eye_brightness_trace.py     /n/data1/hms/neurobio/sabatini/rich/analysis/eye_laser_trace_extraction/mouse_0403L/20230803     /n/data1/hms/neurobio/sabatini/rich/data/res2p/round_7_experiments/mouse_0403L/camera_data/20230803/cam42023-08-03T12_08_29.avi     /n/data1/hms/neurobio/sabatini/rich/analysis/eye_laser_trace_extraction/mouse_0403L/20230803/mask_cam42023-08-03T12_08_29.npy     jobNum_     03L_0803     /n/data1/hms/neurobio/sabatini/rich/virtual_envs/FR    4799    \n",
      "dispatcher environment: /n/data1/hms/neurobio/sabatini/rich/virtual_envs/FR\n",
      "\n",
      "Copying /n/data1/hms/neurobio/sabatini/rich/github_repos/NBAP/behavioral_drift_analysis/4a3_analyze_eye_laser_trace/extract_eye_brightness_trace.py to /n/data1/hms/neurobio/sabatini/rich/analysis/eye_laser_trace_extraction/mouse_0403L/20230802/extract_eye_brightness_trace.py\n",
      "\n",
      "Submitting job: jobNum_ 0\n",
      "\n",
      "Submitted batch job 17011550\n",
      "\n",
      "m_     03L_0tion/mouse_0403L/20230803/mask_cam42023-08-03T12_08_29.npy     jobNu \n"
     ]
    },
    {
     "data": {
      "text/plain": [
       "{'dispatch': '    python3     /n/data1/hms/neurobio/sabatini/rich/analysis/eye_laser_trace_extraction/mouse_0403L/20230804/dispatcher.py     /n/data1/hms/neurobio/sabatini/rich/github_repos/NBAP/behavioral_drift_analysis/4a3_analyze_eye_laser_trace/extract_eye_brightness_trace.py     /n/data1/hms/neurobio/sabatini/rich/analysis/eye_laser_trace_extraction/mouse_0403L/20230804     /n/data1/hms/neurobio/sabatini/rich/data/res2p/round_7_experiments/mouse_0403L/camera_data/20230804/cam42023-08-04T12_06_21.avi     /n/data1/hms/neurobio/sabatini/rich/analysis/eye_laser_trace_extraction/mouse_0403L/20230804/mask_cam42023-08-04T12_06_21.npy     jobNum_     03L_0804     /n/data1/hms/neurobio/sabatini/rich/virtual_envs/FR    4799    '}"
      ]
     },
     "metadata": {},
     "output_type": "display_data"
    },
    {
     "name": "stdout",
     "output_type": "stream",
     "text": [
      "        /n/data1/hms/neurobio/sabatini/rich/virtual_envs/FR    4799  \n",
      "\n",
      "    python3     /n/data1/hms/neurobio/sabatini/rich/analysis/eye_laser_trace_extraction/mouse_0403L/20230804/dispatcher.py     /n/data1/hms/neurobio/sabatini/rich/github_repos/NBAP/behavioral_drift_analysis/4a3_analyze_eye_laser_trace/extract_eye_brightness_trace.py     /n/data1/hms/neurobio/sabatini/rich/analysis/eye_laser_trace_extraction/mouse_0403L/20230804     /n/data1/hms/neurobio/sabatini/rich/data/res2p/round_7_experiments/mouse_0403L/camera_data/20230804/cam42023-08-04T12_06_21.avi     /n/data1/hms/neurobio/sabatini/rich/analysis/eye_laser_trace_extraction/mouse_0403L/20230804/mask_cam42023-08-04T12_06_21.npy     jobNum_     03L_0804     /n/data1/hms/neurobio/sabatini/rich/virtual_envs/FR    4799    \n",
      "\n",
      "dispatcher environment: /n/data1/hms/neurobio/sabatini/rich/virtual_envs/FR\n",
      "\n",
      "Copying /n/data1/hms/neurobio/sabatini/rich/github_repos/NBAP/behavioral_drift_analysis/4a3_analyze_eye_laser_trace/extract_eye_brightness_trace.py to /n/data1/hms/neurobio/sabatini/rich/analysis/eye_laser_trace_extraction/mouse_0403L/20230803/extract_eye_brightness_trace.py\n",
      "\n",
      "Submitting job: jobNum_ 0\n",
      "\n",
      "Submitted batch job 17011559\n",
      "\n",
      "       03L_0804     /n/data1/hms/neurobio/sabatini/rich/virtual_envs/FR    4799  \n",
      "\n"
     ]
    },
    {
     "data": {
      "text/plain": [
       "{'dispatch': '    python3     /n/data1/hms/neurobio/sabatini/rich/analysis/eye_laser_trace_extraction/mouse_0403L/20230805/dispatcher.py     /n/data1/hms/neurobio/sabatini/rich/github_repos/NBAP/behavioral_drift_analysis/4a3_analyze_eye_laser_trace/extract_eye_brightness_trace.py     /n/data1/hms/neurobio/sabatini/rich/analysis/eye_laser_trace_extraction/mouse_0403L/20230805     /n/data1/hms/neurobio/sabatini/rich/data/res2p/round_7_experiments/mouse_0403L/camera_data/20230805/cam42023-08-05T13_21_52.avi     /n/data1/hms/neurobio/sabatini/rich/analysis/eye_laser_trace_extraction/mouse_0403L/20230805/mask_cam42023-08-05T13_21_52.npy     jobNum_     03L_0805     /n/data1/hms/neurobio/sabatini/rich/virtual_envs/FR    4799    '}"
      ]
     },
     "metadata": {},
     "output_type": "display_data"
    },
    {
     "name": "stdout",
     "output_type": "stream",
     "text": [
      "    python3     /n/data1/hms/neurobio/sabatini/rich/analysis/eye_laser_trace_extraction/mouse_0403L/20230805/dispatcher.py     /n/data1/hms/neurobio/sabatini/rich/github_repos/NBAP/behavioral_drift_analysis/4a3_analyze_eye_laser_trace/extract_eye_brightness_trace.py     /n/data1/hms/neurobio/sabatini/rich/analysis/eye_laser_trace_extraction/mouse_0403L/20230805     /n/data1/hms/neurobio/sabatini/rich/data/res2p/round_7_experiments/mouse_0403L/camera_data/20230805/cam42023-08-05T13_21_52.avi     /n/data1/hms/neurobio/sabatini/rich/analysis/eye_laser_trace_extraction/mouse_0403L/20230805/mask_cam42023-08-05T13_21_52.npy     jobNum_     03L_0805     /n/data1/hms/neurobio/sabatini/rich/virtual_envs/FR    4799    \n",
      "\n",
      "dispatcher environment: /n/data1/hms/neurobio/sabatini/rich/virtual_envs/FR\n",
      "\n",
      "Copying /n/data1/hms/neurobio/sabatini/rich/github_repos/NBAP/behavioral_drift_analysis/4a3_analyze_eye_laser_trace/extract_eye_brightness_trace.py to /n/data1/hms/neurobio/sabatini/rich/analysis/eye_laser_trace_extraction/mouse_0403L/20230804/extract_eye_brightness_trace.py\n",
      "\n",
      "Submitting job: jobNum_ 0\n",
      "\n",
      "Submitted batch job 17011566\n",
      "\n",
      "\n",
      "AP]$ ata1/hms/neurobio/sabatini/rich/virtual_envs/FR) [rh183@compute-a-16-170 NBA\n"
     ]
    },
    {
     "data": {
      "text/plain": [
       "{'dispatch': '    python3     /n/data1/hms/neurobio/sabatini/rich/analysis/eye_laser_trace_extraction/mouse_0403L/20230806/dispatcher.py     /n/data1/hms/neurobio/sabatini/rich/github_repos/NBAP/behavioral_drift_analysis/4a3_analyze_eye_laser_trace/extract_eye_brightness_trace.py     /n/data1/hms/neurobio/sabatini/rich/analysis/eye_laser_trace_extraction/mouse_0403L/20230806     /n/data1/hms/neurobio/sabatini/rich/data/res2p/round_7_experiments/mouse_0403L/camera_data/20230806/cam42023-08-06T13_36_28.avi     /n/data1/hms/neurobio/sabatini/rich/analysis/eye_laser_trace_extraction/mouse_0403L/20230806/mask_cam42023-08-06T13_36_28.npy     jobNum_     03L_0806     /n/data1/hms/neurobio/sabatini/rich/virtual_envs/FR    4799    '}"
      ]
     },
     "metadata": {},
     "output_type": "display_data"
    },
    {
     "name": "stdout",
     "output_type": "stream",
     "text": [
      "       03L_0805     /n/data1/hms/neurobio/sabatini/rich/virtual_envs/FR    4799  \n",
      "dispatcher environment: /n/data1/hms/neurobio/sabatini/rich/virtual_envs/FR\n",
      "\n",
      "    python3     /n/data1/hms/neurobio/sabatini/rich/analysis/eye_laser_trace_extraction/mouse_0403L/20230806/dispatcher.py     /n/data1/hms/neurobio/sabatini/rich/github_repos/NBAP/behavioral_drift_analysis/4a3_analyze_eye_laser_trace/extract_eye_brightness_trace.py     /n/data1/hms/neurobio/sabatini/rich/analysis/eye_laser_trace_extraction/mouse_0403L/20230806     /n/data1/hms/neurobio/sabatini/rich/data/res2p/round_7_experiments/mouse_0403L/camera_data/20230806/cam42023-08-06T13_36_28.avi     /n/data1/hms/neurobio/sabatini/rich/analysis/eye_laser_trace_extraction/mouse_0403L/20230806/mask_cam42023-08-06T13_36_28.npy     jobNum_     03L_0806     /n/data1/hms/neurobio/sabatini/rich/virtual_envs/FR    4799    \n",
      "\n",
      "Copying /n/data1/hms/neurobio/sabatini/rich/github_repos/NBAP/behavioral_drift_analysis/4a3_analyze_eye_laser_trace/extract_eye_brightness_trace.py to /n/data1/hms/neurobio/sabatini/rich/analysis/eye_laser_trace_extraction/mouse_0403L/20230805/extract_eye_brightness_trace.py\n",
      "\n",
      "Submitting job: jobNum_ 0\n",
      "\n",
      "Submitted batch job 17011575\n",
      "\n",
      "AP]$ ata1/hms/neurobio/sabatini/rich/virtual_envs/FR) [rh183@compute-a-16-170 NBA\n"
     ]
    },
    {
     "data": {
      "text/plain": [
       "{'dispatch': '    python3     /n/data1/hms/neurobio/sabatini/rich/analysis/eye_laser_trace_extraction/mouse_0403L/20230807/dispatcher.py     /n/data1/hms/neurobio/sabatini/rich/github_repos/NBAP/behavioral_drift_analysis/4a3_analyze_eye_laser_trace/extract_eye_brightness_trace.py     /n/data1/hms/neurobio/sabatini/rich/analysis/eye_laser_trace_extraction/mouse_0403L/20230807     /n/data1/hms/neurobio/sabatini/rich/data/res2p/round_7_experiments/mouse_0403L/camera_data/20230807/cam42023-08-07T12_12_09.avi     /n/data1/hms/neurobio/sabatini/rich/analysis/eye_laser_trace_extraction/mouse_0403L/20230807/mask_cam42023-08-07T12_12_09.npy     jobNum_     03L_0807     /n/data1/hms/neurobio/sabatini/rich/virtual_envs/FR    4799    '}"
      ]
     },
     "metadata": {},
     "output_type": "display_data"
    },
    {
     "name": "stdout",
     "output_type": "stream",
     "text": [
      "       03L_0806     /n/data1/hms/neurobio/sabatini/rich/virtual_envs/FR    4799  \n",
      "dispatcher environment: /n/data1/hms/neurobio/sabatini/rich/virtual_envs/FR\n",
      "\n",
      "    python3     /n/data1/hms/neurobio/sabatini/rich/analysis/eye_laser_trace_extraction/mouse_0403L/20230807/dispatcher.py     /n/data1/hms/neurobio/sabatini/rich/github_repos/NBAP/behavioral_drift_analysis/4a3_analyze_eye_laser_trace/extract_eye_brightness_trace.py     /n/data1/hms/neurobio/sabatini/rich/analysis/eye_laser_trace_extraction/mouse_0403L/20230807     /n/data1/hms/neurobio/sabatini/rich/data/res2p/round_7_experiments/mouse_0403L/camera_data/20230807/cam42023-08-07T12_12_09.avi     /n/data1/hms/neurobio/sabatini/rich/analysis/eye_laser_trace_extraction/mouse_0403L/20230807/mask_cam42023-08-07T12_12_09.npy     jobNum_     03L_0807     /n/data1/hms/neurobio/sabatini/rich/virtual_envs/FR    4799    \n",
      "\n",
      "Copying /n/data1/hms/neurobio/sabatini/rich/github_repos/NBAP/behavioral_drift_analysis/4a3_analyze_eye_laser_trace/extract_eye_brightness_trace.py to /n/data1/hms/neurobio/sabatini/rich/analysis/eye_laser_trace_extraction/mouse_0403L/20230806/extract_eye_brightness_trace.py\n",
      "\n",
      "Submitting job: jobNum_ 0\n",
      "\n",
      "Submitted batch job 17011590\n",
      "\n",
      "AP]$     phms/neurobio/sabatini/rich/virtual_envs/FR) [rh183@compute-a-16-170 NBA\n"
     ]
    },
    {
     "data": {
      "text/plain": [
       "{'dispatch': '    python3     /n/data1/hms/neurobio/sabatini/rich/analysis/eye_laser_trace_extraction/mouse_0403L/20230808/dispatcher.py     /n/data1/hms/neurobio/sabatini/rich/github_repos/NBAP/behavioral_drift_analysis/4a3_analyze_eye_laser_trace/extract_eye_brightness_trace.py     /n/data1/hms/neurobio/sabatini/rich/analysis/eye_laser_trace_extraction/mouse_0403L/20230808     /n/data1/hms/neurobio/sabatini/rich/data/res2p/round_7_experiments/mouse_0403L/camera_data/20230808/cam42023-08-08T13_36_08.avi     /n/data1/hms/neurobio/sabatini/rich/analysis/eye_laser_trace_extraction/mouse_0403L/20230808/mask_cam42023-08-08T13_36_08.npy     jobNum_     03L_0808     /n/data1/hms/neurobio/sabatini/rich/virtual_envs/FR    4799    '}"
      ]
     },
     "metadata": {},
     "output_type": "display_data"
    },
    {
     "name": "stdout",
     "output_type": "stream",
     "text": [
      "       03L_0807     /n/data1/hms/neurobio/sabatini/rich/virtual_envs/FR    4799  \n",
      "\n",
      "    python3     /n/data1/hms/neurobio/sabatini/rich/analysis/eye_laser_trace_extraction/mouse_0403L/20230808/dispatcher.py     /n/data1/hms/neurobio/sabatini/rich/github_repos/NBAP/behavioral_drift_analysis/4a3_analyze_eye_laser_trace/extract_eye_brightness_trace.py     /n/data1/hms/neurobio/sabatini/rich/analysis/eye_laser_trace_extraction/mouse_0403L/20230808     /n/data1/hms/neurobio/sabatini/rich/data/res2p/round_7_experiments/mouse_0403L/camera_data/20230808/cam42023-08-08T13_36_08.avi     /n/data1/hms/neurobio/sabatini/rich/analysis/eye_laser_trace_extraction/mouse_0403L/20230808/mask_cam42023-08-08T13_36_08.npy     jobNum_     03L_0808     /n/data1/hms/neurobio/sabatini/rich/virtual_envs/FR    4799    \n",
      "dispatcher environment: /n/data1/hms/neurobio/sabatini/rich/virtual_envs/FR\n",
      "\n",
      "Copying /n/data1/hms/neurobio/sabatini/rich/github_repos/NBAP/behavioral_drift_analysis/4a3_analyze_eye_laser_trace/extract_eye_brightness_trace.py to /n/data1/hms/neurobio/sabatini/rich/analysis/eye_laser_trace_extraction/mouse_0403L/20230807/extract_eye_brightness_trace.py\n",
      "\n",
      "Submitting job: jobNum_ 0\n",
      "\n",
      "Submitted batch job 17011603\n",
      "\n",
      "AP]$ ata1/hms/neurobio/sabatini/rich/virtual_envs/FR) [rh183@compute-a-16-170 NBA\n"
     ]
    },
    {
     "data": {
      "text/plain": [
       "{'dispatch': '    python3     /n/data1/hms/neurobio/sabatini/rich/analysis/eye_laser_trace_extraction/mouse_0403L/20230809/dispatcher.py     /n/data1/hms/neurobio/sabatini/rich/github_repos/NBAP/behavioral_drift_analysis/4a3_analyze_eye_laser_trace/extract_eye_brightness_trace.py     /n/data1/hms/neurobio/sabatini/rich/analysis/eye_laser_trace_extraction/mouse_0403L/20230809     /n/data1/hms/neurobio/sabatini/rich/data/res2p/round_7_experiments/mouse_0403L/camera_data/20230809/cam42023-08-09T11_53_04.avi     /n/data1/hms/neurobio/sabatini/rich/analysis/eye_laser_trace_extraction/mouse_0403L/20230809/mask_cam42023-08-09T11_53_04.npy     jobNum_     03L_0809     /n/data1/hms/neurobio/sabatini/rich/virtual_envs/FR    4799    '}"
      ]
     },
     "metadata": {},
     "output_type": "display_data"
    },
    {
     "name": "stdout",
     "output_type": "stream",
     "text": [
      "       03L_0808     /n/data1/hms/neurobio/sabatini/rich/virtual_envs/FR    4799  \n",
      "\n",
      "    python3     /n/data1/hms/neurobio/sabatini/rich/analysis/eye_laser_trace_extraction/mouse_0403L/20230809/dispatcher.py     /n/data1/hms/neurobio/sabatini/rich/github_repos/NBAP/behavioral_drift_analysis/4a3_analyze_eye_laser_trace/extract_eye_brightness_trace.py     /n/data1/hms/neurobio/sabatini/rich/analysis/eye_laser_trace_extraction/mouse_0403L/20230809     /n/data1/hms/neurobio/sabatini/rich/data/res2p/round_7_experiments/mouse_0403L/camera_data/20230809/cam42023-08-09T11_53_04.avi     /n/data1/hms/neurobio/sabatini/rich/analysis/eye_laser_trace_extraction/mouse_0403L/20230809/mask_cam42023-08-09T11_53_04.npy     jobNum_     03L_0809     /n/data1/hms/neurobio/sabatini/rich/virtual_envs/FR    4799    \n",
      "\n",
      "dispatcher environment: /n/data1/hms/neurobio/sabatini/rich/virtual_envs/FR\n",
      "\n",
      "\n",
      "Copying /n/data1/hms/neurobio/sabatini/rich/github_repos/NBAP/behavioral_drift_analysis/4a3_analyze_eye_laser_trace/extract_eye_brightness_trace.py to /n/data1/hms/neurobio/sabatini/rich/analysis/eye_laser_trace_extraction/mouse_0403L/20230808/extract_eye_brightness_trace.py\n",
      "\n",
      "Submitting job: jobNum_ 0\n",
      "\n",
      "Submitted batch job 17011616\n",
      "\n",
      "AP]$ ata1/hms/neurobio/sabatini/rich/virtual_envs/FR) [rh183@compute-a-16-170 NBA\n"
     ]
    },
    {
     "data": {
      "text/plain": [
       "{'dispatch': '    python3     /n/data1/hms/neurobio/sabatini/rich/analysis/eye_laser_trace_extraction/mouse_0403L/20230811/dispatcher.py     /n/data1/hms/neurobio/sabatini/rich/github_repos/NBAP/behavioral_drift_analysis/4a3_analyze_eye_laser_trace/extract_eye_brightness_trace.py     /n/data1/hms/neurobio/sabatini/rich/analysis/eye_laser_trace_extraction/mouse_0403L/20230811     /n/data1/hms/neurobio/sabatini/rich/data/res2p/round_7_experiments/mouse_0403L/camera_data/20230811/cam42023-08-11T12_38_36.avi     /n/data1/hms/neurobio/sabatini/rich/analysis/eye_laser_trace_extraction/mouse_0403L/20230811/mask_cam42023-08-11T12_38_36.npy     jobNum_     03L_0811     /n/data1/hms/neurobio/sabatini/rich/virtual_envs/FR    4799    '}"
      ]
     },
     "metadata": {},
     "output_type": "display_data"
    },
    {
     "name": "stdout",
     "output_type": "stream",
     "text": [
      "       03L_0809     /n/data1/hms/neurobio/sabatini/rich/virtual_envs/FR    4799  \n",
      "dispatcher environment: /n/data1/hms/neurobio/sabatini/rich/virtual_envs/FR\n",
      "\n",
      "    python3     /n/data1/hms/neurobio/sabatini/rich/analysis/eye_laser_trace_extraction/mouse_0403L/20230811/dispatcher.py     /n/data1/hms/neurobio/sabatini/rich/github_repos/NBAP/behavioral_drift_analysis/4a3_analyze_eye_laser_trace/extract_eye_brightness_trace.py     /n/data1/hms/neurobio/sabatini/rich/analysis/eye_laser_trace_extraction/mouse_0403L/20230811     /n/data1/hms/neurobio/sabatini/rich/data/res2p/round_7_experiments/mouse_0403L/camera_data/20230811/cam42023-08-11T12_38_36.avi     /n/data1/hms/neurobio/sabatini/rich/analysis/eye_laser_trace_extraction/mouse_0403L/20230811/mask_cam42023-08-11T12_38_36.npy     jobNum_     03L_0811     /n/data1/hms/neurobio/sabatini/rich/virtual_envs/FR    4799    \n",
      "\n",
      "Copying /n/data1/hms/neurobio/sabatini/rich/github_repos/NBAP/behavioral_drift_analysis/4a3_analyze_eye_laser_trace/extract_eye_brightness_trace.py to /n/data1/hms/neurobio/sabatini/rich/analysis/eye_laser_trace_extraction/mouse_0403L/20230809/extract_eye_brightness_trace.py\n",
      "\n",
      "Submitting job: jobNum_ 0\n",
      "\n",
      "\n",
      "Submitted batch job 17011634\n",
      "\n",
      "AP]$ ata1/hms/neurobio/sabatini/rich/virtual_envs/FR) [rh183@compute-a-16-170 NBA\n"
     ]
    }
   ],
   "source": [
    "for path_vid in paths_found[2:]:\n",
    "\n",
    "    mouse = Path(path_vid).parts[-4]\n",
    "    date = Path(path_vid).parts[-2]\n",
    "    \n",
    "    name_slurm = mouse[-3:] + '_' + date[-4:]\n",
    "\n",
    "    path_vid = path_vid\n",
    "    path_mask = str(Path('/n/data1/hms/neurobio/sabatini/rich/analysis/eye_laser_trace_extraction') / mouse / date / ('mask_' + Path(path_vid).stem + '.npy') )\n",
    "\n",
    "    dir_saveOutputs = str(Path('/n/data1/hms/neurobio/sabatini/rich/analysis/eye_laser_trace_extraction') / mouse / date )\n",
    "\n",
    "    name_job = 'jobNum_'\n",
    "\n",
    "\n",
    "    path_script_remote      = str(Path(r'/n/data1/hms/neurobio/sabatini/rich/github_repos/NBAP/behavioral_drift_analysis/4a3_analyze_eye_laser_trace/extract_eye_brightness_trace.py'))  ## path to a copy of the script (.py) file to run within the repo on the server\n",
    "\n",
    "    path_dispatcher_local   = str(Path(r'/media/rich/Home_Linux_partition/github_repos/NBAP/behavioral_drift_analysis/4a3_analyze_eye_laser_trace/').resolve() / 'dispatcher.py')  ## path to the dispatcher.py file on local computer\n",
    "    path_dispatcher_remote  = (Path(dir_saveOutputs) / 'dispatcher.py').as_posix()  ## path to where you want the dispatcher.py file to be copied onto the server\n",
    "\n",
    "    ## Expectation for dispatch args: \n",
    "    # path_script, dir_save, dir_videos, dir_ROIs, name_job, name_slurm, name_env\n",
    "\n",
    "    time_fastForward = duration_sessions[date] - 1\n",
    "    \n",
    "    commands = {\n",
    "    #     'make_dir': f\"mkdir -p {dir_data_remote}\",\n",
    "    #     'copy': f\"cp -r {dir_s2p_MICROSCOPE} {dir_data_remote}\",\n",
    "    #     'dispatch': f\"python {str(path_dispatcher_remote)} {dir_saveOutputs} {path_script_remote} {name_job} {name_slurm} {dir_videos}\",  ## dispatcher expecting these args as inputs\n",
    "    'dispatch': f\"\\\n",
    "    python3 \\\n",
    "    {path_dispatcher_remote} \\\n",
    "    {path_script_remote} \\\n",
    "    {dir_saveOutputs} \\\n",
    "    {path_vid} \\\n",
    "    {path_mask} \\\n",
    "    {name_job} \\\n",
    "    {name_slurm} \\\n",
    "    {name_env}\\\n",
    "    {time_fastForward}\\\n",
    "    \",\n",
    "    }\n",
    "    display(commands)\n",
    "    \n",
    "    sftp.mkdir_p(str(Path(path_dispatcher_remote).parent))\n",
    "    sftp.sftp.put(str(path_dispatcher_local), str(path_dispatcher_remote));\n",
    "    \n",
    "    send_expect(commands['dispatch']);"
   ]
  },
  {
   "cell_type": "markdown",
   "id": "9feac88c",
   "metadata": {},
   "source": [
    "### check on job"
   ]
  },
  {
   "cell_type": "raw",
   "id": "fb31fbe8",
   "metadata": {
    "scrolled": true
   },
   "source": [
    "ssh_c.send_expect(f'squeue -u {username} --Format=jobid,name,partition,state,timeused,starttime,timelimit,reasonlist,minmemory,mincpus,gres');"
   ]
  },
  {
   "cell_type": "code",
   "execution_count": null,
   "id": "b5133530",
   "metadata": {},
   "outputs": [],
   "source": []
  },
  {
   "cell_type": "markdown",
   "id": "442ab705",
   "metadata": {},
   "source": [
    "### Check if it worked"
   ]
  },
  {
   "cell_type": "code",
   "execution_count": 85,
   "id": "cc4de36b",
   "metadata": {},
   "outputs": [
    {
     "name": "stdout",
     "output_type": "stream",
     "text": [
      "/n/data1/hms/neurobio/sabatini/rich/analysis/eye_laser_trace_extraction/mouse_0322R/20230531/jobNum_0/idx_eye_laser.pkl\n",
      "/n/data1/hms/neurobio/sabatini/rich/analysis/eye_laser_trace_extraction/mouse_0322R/20230420/jobNum_0/idx_eye_laser.pkl\n",
      "/n/data1/hms/neurobio/sabatini/rich/analysis/eye_laser_trace_extraction/mouse_0322R/20230523/jobNum_0/idx_eye_laser.pkl\n",
      "/n/data1/hms/neurobio/sabatini/rich/analysis/eye_laser_trace_extraction/mouse_0322R/20230517/jobNum_0/idx_eye_laser.pkl\n",
      "/n/data1/hms/neurobio/sabatini/rich/analysis/eye_laser_trace_extraction/mouse_0322R/20230515/jobNum_0/idx_eye_laser.pkl\n",
      "/n/data1/hms/neurobio/sabatini/rich/analysis/eye_laser_trace_extraction/mouse_0322R/20230430/jobNum_0/idx_eye_laser.pkl\n",
      "/n/data1/hms/neurobio/sabatini/rich/analysis/eye_laser_trace_extraction/mouse_0322R/20230512/jobNum_0/idx_eye_laser.pkl\n",
      "/n/data1/hms/neurobio/sabatini/rich/analysis/eye_laser_trace_extraction/mouse_0322R/20230511/jobNum_0/idx_eye_laser.pkl\n",
      "/n/data1/hms/neurobio/sabatini/rich/analysis/eye_laser_trace_extraction/mouse_0322R/20230514/jobNum_0/idx_eye_laser.pkl\n",
      "/n/data1/hms/neurobio/sabatini/rich/analysis/eye_laser_trace_extraction/mouse_0322R/20230504/jobNum_0/idx_eye_laser.pkl\n",
      "/n/data1/hms/neurobio/sabatini/rich/analysis/eye_laser_trace_extraction/mouse_0322R/20230507/jobNum_0/idx_eye_laser.pkl\n",
      "/n/data1/hms/neurobio/sabatini/rich/analysis/eye_laser_trace_extraction/mouse_0322R/20230513/jobNum_0/idx_eye_laser.pkl\n",
      "/n/data1/hms/neurobio/sabatini/rich/analysis/eye_laser_trace_extraction/mouse_0322R/20230525/jobNum_0/idx_eye_laser.pkl\n",
      "/n/data1/hms/neurobio/sabatini/rich/analysis/eye_laser_trace_extraction/mouse_0322R/20230522/jobNum_0/idx_eye_laser.pkl\n",
      "/n/data1/hms/neurobio/sabatini/rich/analysis/eye_laser_trace_extraction/mouse_0322R/20230526/jobNum_0/idx_eye_laser.pkl\n",
      "/n/data1/hms/neurobio/sabatini/rich/analysis/eye_laser_trace_extraction/mouse_0322R/20230424/jobNum_0/idx_eye_laser.pkl\n",
      "/n/data1/hms/neurobio/sabatini/rich/analysis/eye_laser_trace_extraction/mouse_0322R/20230426/jobNum_0/idx_eye_laser.pkl\n",
      "/n/data1/hms/neurobio/sabatini/rich/analysis/eye_laser_trace_extraction/mouse_0322R/20230521/jobNum_0/idx_eye_laser.pkl\n",
      "/n/data1/hms/neurobio/sabatini/rich/analysis/eye_laser_trace_extraction/mouse_0322R/20230518/jobNum_0/idx_eye_laser.pkl\n",
      "/n/data1/hms/neurobio/sabatini/rich/analysis/eye_laser_trace_extraction/mouse_0322R/20230530/jobNum_0/idx_eye_laser.pkl\n",
      "/n/data1/hms/neurobio/sabatini/rich/analysis/eye_laser_trace_extraction/mouse_0322R/20230520/jobNum_0/idx_eye_laser.pkl\n",
      "/n/data1/hms/neurobio/sabatini/rich/analysis/eye_laser_trace_extraction/mouse_0322R/20230508/jobNum_0/idx_eye_laser.pkl\n",
      "/n/data1/hms/neurobio/sabatini/rich/analysis/eye_laser_trace_extraction/mouse_0322R/20230428/jobNum_0/idx_eye_laser.pkl\n",
      "/n/data1/hms/neurobio/sabatini/rich/analysis/eye_laser_trace_extraction/mouse_0322R/20230506/jobNum_0/idx_eye_laser.pkl\n",
      "/n/data1/hms/neurobio/sabatini/rich/analysis/eye_laser_trace_extraction/mouse_0322R/20230527/jobNum_0/idx_eye_laser.pkl\n",
      "/n/data1/hms/neurobio/sabatini/rich/analysis/eye_laser_trace_extraction/mouse_0322R/20230425/jobNum_0/idx_eye_laser.pkl\n",
      "/n/data1/hms/neurobio/sabatini/rich/analysis/eye_laser_trace_extraction/mouse_0322R/20230419/jobNum_0/idx_eye_laser.pkl\n",
      "/n/data1/hms/neurobio/sabatini/rich/analysis/eye_laser_trace_extraction/mouse_0322R/20230519/jobNum_0/idx_eye_laser.pkl\n",
      "/n/data1/hms/neurobio/sabatini/rich/analysis/eye_laser_trace_extraction/mouse_0322R/20230429/jobNum_0/idx_eye_laser.pkl\n",
      "/n/data1/hms/neurobio/sabatini/rich/analysis/eye_laser_trace_extraction/mouse_0322R/20230501/jobNum_0/idx_eye_laser.pkl\n",
      "/n/data1/hms/neurobio/sabatini/rich/analysis/eye_laser_trace_extraction/mouse_0322R/20230505/jobNum_0/idx_eye_laser.pkl\n",
      "/n/data1/hms/neurobio/sabatini/rich/analysis/eye_laser_trace_extraction/mouse_0322R/20230427/jobNum_0/idx_eye_laser.pkl\n",
      "/n/data1/hms/neurobio/sabatini/rich/analysis/eye_laser_trace_extraction/mouse_0322R/20230516/jobNum_0/idx_eye_laser.pkl\n",
      "/n/data1/hms/neurobio/sabatini/rich/analysis/eye_laser_trace_extraction/mouse_0322R/20230509/jobNum_0/idx_eye_laser.pkl\n",
      "/n/data1/hms/neurobio/sabatini/rich/analysis/eye_laser_trace_extraction/mouse_0322R/20230503/jobNum_0/idx_eye_laser.pkl\n",
      "/n/data1/hms/neurobio/sabatini/rich/analysis/eye_laser_trace_extraction/mouse_0322R/20230524/jobNum_0/idx_eye_laser.pkl\n",
      "/n/data1/hms/neurobio/sabatini/rich/analysis/eye_laser_trace_extraction/mouse_0322R/20230502/jobNum_0/idx_eye_laser.pkl\n"
     ]
    },
    {
     "data": {
      "text/plain": [
       "['/n/data1/hms/neurobio/sabatini/rich/analysis/eye_laser_trace_extraction/mouse_0322R/20230419/jobNum_0/idx_eye_laser.pkl',\n",
       " '/n/data1/hms/neurobio/sabatini/rich/analysis/eye_laser_trace_extraction/mouse_0322R/20230420/jobNum_0/idx_eye_laser.pkl',\n",
       " '/n/data1/hms/neurobio/sabatini/rich/analysis/eye_laser_trace_extraction/mouse_0322R/20230424/jobNum_0/idx_eye_laser.pkl',\n",
       " '/n/data1/hms/neurobio/sabatini/rich/analysis/eye_laser_trace_extraction/mouse_0322R/20230425/jobNum_0/idx_eye_laser.pkl',\n",
       " '/n/data1/hms/neurobio/sabatini/rich/analysis/eye_laser_trace_extraction/mouse_0322R/20230426/jobNum_0/idx_eye_laser.pkl',\n",
       " '/n/data1/hms/neurobio/sabatini/rich/analysis/eye_laser_trace_extraction/mouse_0322R/20230427/jobNum_0/idx_eye_laser.pkl',\n",
       " '/n/data1/hms/neurobio/sabatini/rich/analysis/eye_laser_trace_extraction/mouse_0322R/20230428/jobNum_0/idx_eye_laser.pkl',\n",
       " '/n/data1/hms/neurobio/sabatini/rich/analysis/eye_laser_trace_extraction/mouse_0322R/20230429/jobNum_0/idx_eye_laser.pkl',\n",
       " '/n/data1/hms/neurobio/sabatini/rich/analysis/eye_laser_trace_extraction/mouse_0322R/20230430/jobNum_0/idx_eye_laser.pkl',\n",
       " '/n/data1/hms/neurobio/sabatini/rich/analysis/eye_laser_trace_extraction/mouse_0322R/20230501/jobNum_0/idx_eye_laser.pkl',\n",
       " '/n/data1/hms/neurobio/sabatini/rich/analysis/eye_laser_trace_extraction/mouse_0322R/20230502/jobNum_0/idx_eye_laser.pkl',\n",
       " '/n/data1/hms/neurobio/sabatini/rich/analysis/eye_laser_trace_extraction/mouse_0322R/20230503/jobNum_0/idx_eye_laser.pkl',\n",
       " '/n/data1/hms/neurobio/sabatini/rich/analysis/eye_laser_trace_extraction/mouse_0322R/20230504/jobNum_0/idx_eye_laser.pkl',\n",
       " '/n/data1/hms/neurobio/sabatini/rich/analysis/eye_laser_trace_extraction/mouse_0322R/20230505/jobNum_0/idx_eye_laser.pkl',\n",
       " '/n/data1/hms/neurobio/sabatini/rich/analysis/eye_laser_trace_extraction/mouse_0322R/20230506/jobNum_0/idx_eye_laser.pkl',\n",
       " '/n/data1/hms/neurobio/sabatini/rich/analysis/eye_laser_trace_extraction/mouse_0322R/20230507/jobNum_0/idx_eye_laser.pkl',\n",
       " '/n/data1/hms/neurobio/sabatini/rich/analysis/eye_laser_trace_extraction/mouse_0322R/20230508/jobNum_0/idx_eye_laser.pkl',\n",
       " '/n/data1/hms/neurobio/sabatini/rich/analysis/eye_laser_trace_extraction/mouse_0322R/20230509/jobNum_0/idx_eye_laser.pkl',\n",
       " '/n/data1/hms/neurobio/sabatini/rich/analysis/eye_laser_trace_extraction/mouse_0322R/20230511/jobNum_0/idx_eye_laser.pkl',\n",
       " '/n/data1/hms/neurobio/sabatini/rich/analysis/eye_laser_trace_extraction/mouse_0322R/20230512/jobNum_0/idx_eye_laser.pkl',\n",
       " '/n/data1/hms/neurobio/sabatini/rich/analysis/eye_laser_trace_extraction/mouse_0322R/20230513/jobNum_0/idx_eye_laser.pkl',\n",
       " '/n/data1/hms/neurobio/sabatini/rich/analysis/eye_laser_trace_extraction/mouse_0322R/20230514/jobNum_0/idx_eye_laser.pkl',\n",
       " '/n/data1/hms/neurobio/sabatini/rich/analysis/eye_laser_trace_extraction/mouse_0322R/20230515/jobNum_0/idx_eye_laser.pkl',\n",
       " '/n/data1/hms/neurobio/sabatini/rich/analysis/eye_laser_trace_extraction/mouse_0322R/20230516/jobNum_0/idx_eye_laser.pkl',\n",
       " '/n/data1/hms/neurobio/sabatini/rich/analysis/eye_laser_trace_extraction/mouse_0322R/20230517/jobNum_0/idx_eye_laser.pkl',\n",
       " '/n/data1/hms/neurobio/sabatini/rich/analysis/eye_laser_trace_extraction/mouse_0322R/20230518/jobNum_0/idx_eye_laser.pkl',\n",
       " '/n/data1/hms/neurobio/sabatini/rich/analysis/eye_laser_trace_extraction/mouse_0322R/20230519/jobNum_0/idx_eye_laser.pkl',\n",
       " '/n/data1/hms/neurobio/sabatini/rich/analysis/eye_laser_trace_extraction/mouse_0322R/20230520/jobNum_0/idx_eye_laser.pkl',\n",
       " '/n/data1/hms/neurobio/sabatini/rich/analysis/eye_laser_trace_extraction/mouse_0322R/20230521/jobNum_0/idx_eye_laser.pkl',\n",
       " '/n/data1/hms/neurobio/sabatini/rich/analysis/eye_laser_trace_extraction/mouse_0322R/20230522/jobNum_0/idx_eye_laser.pkl',\n",
       " '/n/data1/hms/neurobio/sabatini/rich/analysis/eye_laser_trace_extraction/mouse_0322R/20230523/jobNum_0/idx_eye_laser.pkl',\n",
       " '/n/data1/hms/neurobio/sabatini/rich/analysis/eye_laser_trace_extraction/mouse_0322R/20230524/jobNum_0/idx_eye_laser.pkl',\n",
       " '/n/data1/hms/neurobio/sabatini/rich/analysis/eye_laser_trace_extraction/mouse_0322R/20230525/jobNum_0/idx_eye_laser.pkl',\n",
       " '/n/data1/hms/neurobio/sabatini/rich/analysis/eye_laser_trace_extraction/mouse_0322R/20230526/jobNum_0/idx_eye_laser.pkl',\n",
       " '/n/data1/hms/neurobio/sabatini/rich/analysis/eye_laser_trace_extraction/mouse_0322R/20230527/jobNum_0/idx_eye_laser.pkl',\n",
       " '/n/data1/hms/neurobio/sabatini/rich/analysis/eye_laser_trace_extraction/mouse_0322R/20230530/jobNum_0/idx_eye_laser.pkl',\n",
       " '/n/data1/hms/neurobio/sabatini/rich/analysis/eye_laser_trace_extraction/mouse_0322R/20230531/jobNum_0/idx_eye_laser.pkl']"
      ]
     },
     "metadata": {},
     "output_type": "display_data"
    }
   ],
   "source": [
    "test = natsort.natsorted(sftp.search_recursive(\n",
    "    path=r'/n/data1/hms/neurobio/sabatini/rich/analysis/eye_laser_trace_extraction/mouse_0322R',\n",
    "    search_pattern_re=r'idx_eye_laser.pkl',\n",
    "))\n",
    "display(test)"
   ]
  },
  {
   "cell_type": "code",
   "execution_count": 86,
   "id": "085cfdd0",
   "metadata": {},
   "outputs": [
    {
     "data": {
      "text/plain": [
       "37"
      ]
     },
     "execution_count": 86,
     "metadata": {},
     "output_type": "execute_result"
    }
   ],
   "source": [
    "len(test)"
   ]
  },
  {
   "cell_type": "code",
   "execution_count": 73,
   "id": "369a6d09",
   "metadata": {},
   "outputs": [
    {
     "data": {
      "text/plain": [
       "38"
      ]
     },
     "execution_count": 73,
     "metadata": {},
     "output_type": "execute_result"
    }
   ],
   "source": [
    "len(paths_found)"
   ]
  },
  {
   "cell_type": "markdown",
   "id": "33600579",
   "metadata": {},
   "source": [
    "## Clean up"
   ]
  },
  {
   "cell_type": "code",
   "execution_count": null,
   "id": "b31f6bcb",
   "metadata": {},
   "outputs": [],
   "source": [
    "## delete password\n",
    "del pw\n",
    "gc.collect()\n",
    "\n",
    "## close sftp\n",
    "if sftp: sftp.close()\n",
    "if transport: transport.close()\n",
    "del sftp\n",
    "del transport\n",
    "    \n",
    "## close ssh\n",
    "ssh_t.close()\n",
    "del ssh_t\n",
    "ssh_c.close()\n",
    "del ssh_c\n",
    "gc.collect()"
   ]
  },
  {
   "cell_type": "code",
   "execution_count": null,
   "id": "b1e29db0",
   "metadata": {},
   "outputs": [],
   "source": []
  },
  {
   "cell_type": "code",
   "execution_count": null,
   "id": "a2ee21fd",
   "metadata": {},
   "outputs": [],
   "source": []
  }
 ],
 "metadata": {
  "kernelspec": {
   "display_name": "Python 3 (ipykernel)",
   "language": "python",
   "name": "python3"
  },
  "language_info": {
   "codemirror_mode": {
    "name": "ipython",
    "version": 3
   },
   "file_extension": ".py",
   "mimetype": "text/x-python",
   "name": "python",
   "nbconvert_exporter": "python",
   "pygments_lexer": "ipython3",
   "version": "3.11.3"
  }
 },
 "nbformat": 4,
 "nbformat_minor": 5
}
