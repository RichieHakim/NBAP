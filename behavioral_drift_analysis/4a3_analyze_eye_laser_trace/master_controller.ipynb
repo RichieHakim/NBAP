{
 "cells": [
  {
   "cell_type": "code",
   "execution_count": 21,
   "id": "eb297901",
   "metadata": {},
   "outputs": [
    {
     "data": {
      "text/html": [
       "<style>:root { --jp-notebook-max-width: 100% !important; }</style>"
      ],
      "text/plain": [
       "<IPython.core.display.HTML object>"
      ]
     },
     "metadata": {},
     "output_type": "display_data"
    },
    {
     "data": {
      "text/html": [
       "<style>.container {width:100% !important; }</style>"
      ],
      "text/plain": [
       "<IPython.core.display.HTML object>"
      ]
     },
     "metadata": {},
     "output_type": "display_data"
    },
    {
     "name": "stdout",
     "output_type": "stream",
     "text": [
      "Conda Environment: roicat\n"
     ]
    }
   ],
   "source": [
    "# widen jupyter notebook window\n",
    "from IPython.display import display, HTML\n",
    "display(HTML(\"<style>:root { --jp-notebook-max-width: 100% !important; }</style>\"))\n",
    "display(HTML(\"<style>.container {width:100% !important; }</style>\"))\n",
    "\n",
    "# check environment\n",
    "import os\n",
    "print(f'Conda Environment: ' + os.environ['CONDA_DEFAULT_ENV'])"
   ]
  },
  {
   "cell_type": "markdown",
   "id": "e7ca9401",
   "metadata": {},
   "source": [
    "This requires having `bnpm`. Get it with `pip install bnpm` or here: https://github.com/RichieHakim/basic_neural_processing_modules"
   ]
  },
  {
   "cell_type": "code",
   "execution_count": 2,
   "id": "b083639c",
   "metadata": {},
   "outputs": [
    {
     "name": "stderr",
     "output_type": "stream",
     "text": [
      "QObject::moveToThread: Current thread (0x1bcbc90) is not the object's thread (0x1deb370).\n",
      "Cannot move to target thread (0x1bcbc90)\n",
      "\n",
      "QObject::moveToThread: Current thread (0x1bcbc90) is not the object's thread (0x1deb370).\n",
      "Cannot move to target thread (0x1bcbc90)\n",
      "\n",
      "QObject::moveToThread: Current thread (0x1bcbc90) is not the object's thread (0x1deb370).\n",
      "Cannot move to target thread (0x1bcbc90)\n",
      "\n",
      "QObject::moveToThread: Current thread (0x1bcbc90) is not the object's thread (0x1deb370).\n",
      "Cannot move to target thread (0x1bcbc90)\n",
      "\n",
      "QObject::moveToThread: Current thread (0x1bcbc90) is not the object's thread (0x1deb370).\n",
      "Cannot move to target thread (0x1bcbc90)\n",
      "\n",
      "QObject::moveToThread: Current thread (0x1bcbc90) is not the object's thread (0x1deb370).\n",
      "Cannot move to target thread (0x1bcbc90)\n",
      "\n",
      "QObject::moveToThread: Current thread (0x1bcbc90) is not the object's thread (0x1deb370).\n",
      "Cannot move to target thread (0x1bcbc90)\n",
      "\n",
      "QObject::moveToThread: Current thread (0x1bcbc90) is not the object's thread (0x1deb370).\n",
      "Cannot move to target thread (0x1bcbc90)\n",
      "\n",
      "QObject::moveToThread: Current thread (0x1bcbc90) is not the object's thread (0x1deb370).\n",
      "Cannot move to target thread (0x1bcbc90)\n",
      "\n",
      "QObject::moveToThread: Current thread (0x1bcbc90) is not the object's thread (0x1deb370).\n",
      "Cannot move to target thread (0x1bcbc90)\n",
      "\n",
      "QObject::moveToThread: Current thread (0x1bcbc90) is not the object's thread (0x1deb370).\n",
      "Cannot move to target thread (0x1bcbc90)\n",
      "\n",
      "QObject::moveToThread: Current thread (0x1bcbc90) is not the object's thread (0x1deb370).\n",
      "Cannot move to target thread (0x1bcbc90)\n",
      "\n",
      "QObject::moveToThread: Current thread (0x1bcbc90) is not the object's thread (0x1deb370).\n",
      "Cannot move to target thread (0x1bcbc90)\n",
      "\n",
      "QObject::moveToThread: Current thread (0x1bcbc90) is not the object's thread (0x1deb370).\n",
      "Cannot move to target thread (0x1bcbc90)\n",
      "\n",
      "QObject::moveToThread: Current thread (0x1bcbc90) is not the object's thread (0x1deb370).\n",
      "Cannot move to target thread (0x1bcbc90)\n",
      "\n",
      "QObject::moveToThread: Current thread (0x1bcbc90) is not the object's thread (0x1deb370).\n",
      "Cannot move to target thread (0x1bcbc90)\n",
      "\n",
      "QObject::moveToThread: Current thread (0x1bcbc90) is not the object's thread (0x1deb370).\n",
      "Cannot move to target thread (0x1bcbc90)\n",
      "\n",
      "QObject::moveToThread: Current thread (0x1bcbc90) is not the object's thread (0x1deb370).\n",
      "Cannot move to target thread (0x1bcbc90)\n",
      "\n",
      "QObject::moveToThread: Current thread (0x1bcbc90) is not the object's thread (0x1deb370).\n",
      "Cannot move to target thread (0x1bcbc90)\n",
      "\n",
      "QObject::moveToThread: Current thread (0x1bcbc90) is not the object's thread (0x1deb370).\n",
      "Cannot move to target thread (0x1bcbc90)\n",
      "\n",
      "QObject::moveToThread: Current thread (0x1bcbc90) is not the object's thread (0x1deb370).\n",
      "Cannot move to target thread (0x1bcbc90)\n",
      "\n",
      "QObject::moveToThread: Current thread (0x1bcbc90) is not the object's thread (0x1deb370).\n",
      "Cannot move to target thread (0x1bcbc90)\n",
      "\n",
      "QObject::moveToThread: Current thread (0x1bcbc90) is not the object's thread (0x1deb370).\n",
      "Cannot move to target thread (0x1bcbc90)\n",
      "\n",
      "QObject::moveToThread: Current thread (0x1bcbc90) is not the object's thread (0x1deb370).\n",
      "Cannot move to target thread (0x1bcbc90)\n",
      "\n",
      "QObject::moveToThread: Current thread (0x1bcbc90) is not the object's thread (0x1deb370).\n",
      "Cannot move to target thread (0x1bcbc90)\n",
      "\n",
      "QObject::moveToThread: Current thread (0x1bcbc90) is not the object's thread (0x1deb370).\n",
      "Cannot move to target thread (0x1bcbc90)\n",
      "\n",
      "QObject::moveToThread: Current thread (0x1bcbc90) is not the object's thread (0x1deb370).\n",
      "Cannot move to target thread (0x1bcbc90)\n",
      "\n",
      "QObject::moveToThread: Current thread (0x1bcbc90) is not the object's thread (0x1deb370).\n",
      "Cannot move to target thread (0x1bcbc90)\n",
      "\n",
      "QObject::moveToThread: Current thread (0x1bcbc90) is not the object's thread (0x1deb370).\n",
      "Cannot move to target thread (0x1bcbc90)\n",
      "\n",
      "QObject::moveToThread: Current thread (0x1bcbc90) is not the object's thread (0x1deb370).\n",
      "Cannot move to target thread (0x1bcbc90)\n",
      "\n",
      "QObject::moveToThread: Current thread (0x1bcbc90) is not the object's thread (0x1deb370).\n",
      "Cannot move to target thread (0x1bcbc90)\n",
      "\n",
      "QObject::moveToThread: Current thread (0x1bcbc90) is not the object's thread (0x1deb370).\n",
      "Cannot move to target thread (0x1bcbc90)\n",
      "\n",
      "QObject::moveToThread: Current thread (0x1bcbc90) is not the object's thread (0x1deb370).\n",
      "Cannot move to target thread (0x1bcbc90)\n",
      "\n",
      "QObject::moveToThread: Current thread (0x1bcbc90) is not the object's thread (0x1deb370).\n",
      "Cannot move to target thread (0x1bcbc90)\n",
      "\n",
      "QObject::moveToThread: Current thread (0x1bcbc90) is not the object's thread (0x1deb370).\n",
      "Cannot move to target thread (0x1bcbc90)\n",
      "\n",
      "QObject::moveToThread: Current thread (0x1bcbc90) is not the object's thread (0x1deb370).\n",
      "Cannot move to target thread (0x1bcbc90)\n",
      "\n",
      "QObject::moveToThread: Current thread (0x1bcbc90) is not the object's thread (0x1deb370).\n",
      "Cannot move to target thread (0x1bcbc90)\n",
      "\n",
      "QObject::moveToThread: Current thread (0x1bcbc90) is not the object's thread (0x1deb370).\n",
      "Cannot move to target thread (0x1bcbc90)\n",
      "\n",
      "QObject::moveToThread: Current thread (0x1bcbc90) is not the object's thread (0x1deb370).\n",
      "Cannot move to target thread (0x1bcbc90)\n",
      "\n",
      "QObject::moveToThread: Current thread (0x1bcbc90) is not the object's thread (0x1deb370).\n",
      "Cannot move to target thread (0x1bcbc90)\n",
      "\n",
      "QObject::moveToThread: Current thread (0x1bcbc90) is not the object's thread (0x1deb370).\n",
      "Cannot move to target thread (0x1bcbc90)\n",
      "\n",
      "QObject::moveToThread: Current thread (0x1bcbc90) is not the object's thread (0x1deb370).\n",
      "Cannot move to target thread (0x1bcbc90)\n",
      "\n",
      "QObject::moveToThread: Current thread (0x1bcbc90) is not the object's thread (0x1deb370).\n",
      "Cannot move to target thread (0x1bcbc90)\n",
      "\n",
      "QObject::moveToThread: Current thread (0x1bcbc90) is not the object's thread (0x1deb370).\n",
      "Cannot move to target thread (0x1bcbc90)\n",
      "\n",
      "QObject::moveToThread: Current thread (0x1bcbc90) is not the object's thread (0x1deb370).\n",
      "Cannot move to target thread (0x1bcbc90)\n",
      "\n",
      "QObject::moveToThread: Current thread (0x1bcbc90) is not the object's thread (0x1deb370).\n",
      "Cannot move to target thread (0x1bcbc90)\n",
      "\n",
      "QObject::moveToThread: Current thread (0x1bcbc90) is not the object's thread (0x1deb370).\n",
      "Cannot move to target thread (0x1bcbc90)\n",
      "\n",
      "QObject::moveToThread: Current thread (0x1bcbc90) is not the object's thread (0x1deb370).\n",
      "Cannot move to target thread (0x1bcbc90)\n",
      "\n",
      "QObject::moveToThread: Current thread (0x1bcbc90) is not the object's thread (0x1deb370).\n",
      "Cannot move to target thread (0x1bcbc90)\n",
      "\n",
      "QObject::moveToThread: Current thread (0x1bcbc90) is not the object's thread (0x1deb370).\n",
      "Cannot move to target thread (0x1bcbc90)\n",
      "\n",
      "QObject::moveToThread: Current thread (0x1bcbc90) is not the object's thread (0x1deb370).\n",
      "Cannot move to target thread (0x1bcbc90)\n",
      "\n",
      "QObject::moveToThread: Current thread (0x1bcbc90) is not the object's thread (0x1deb370).\n",
      "Cannot move to target thread (0x1bcbc90)\n",
      "\n",
      "QObject::moveToThread: Current thread (0x1bcbc90) is not the object's thread (0x1deb370).\n",
      "Cannot move to target thread (0x1bcbc90)\n",
      "\n",
      "QObject::moveToThread: Current thread (0x1bcbc90) is not the object's thread (0x1deb370).\n",
      "Cannot move to target thread (0x1bcbc90)\n",
      "\n",
      "QObject::moveToThread: Current thread (0x1bcbc90) is not the object's thread (0x1deb370).\n",
      "Cannot move to target thread (0x1bcbc90)\n",
      "\n",
      "QObject::moveToThread: Current thread (0x1bcbc90) is not the object's thread (0x1deb370).\n",
      "Cannot move to target thread (0x1bcbc90)\n",
      "\n",
      "QObject::moveToThread: Current thread (0x1bcbc90) is not the object's thread (0x1deb370).\n",
      "Cannot move to target thread (0x1bcbc90)\n",
      "\n",
      "QObject::moveToThread: Current thread (0x1bcbc90) is not the object's thread (0x1deb370).\n",
      "Cannot move to target thread (0x1bcbc90)\n",
      "\n",
      "QObject::moveToThread: Current thread (0x1bcbc90) is not the object's thread (0x1deb370).\n",
      "Cannot move to target thread (0x1bcbc90)\n",
      "\n",
      "QObject::moveToThread: Current thread (0x1bcbc90) is not the object's thread (0x1deb370).\n",
      "Cannot move to target thread (0x1bcbc90)\n",
      "\n",
      "QObject::moveToThread: Current thread (0x1bcbc90) is not the object's thread (0x1deb370).\n",
      "Cannot move to target thread (0x1bcbc90)\n",
      "\n",
      "QObject::moveToThread: Current thread (0x1bcbc90) is not the object's thread (0x1deb370).\n",
      "Cannot move to target thread (0x1bcbc90)\n",
      "\n",
      "QObject::moveToThread: Current thread (0x1bcbc90) is not the object's thread (0x1deb370).\n",
      "Cannot move to target thread (0x1bcbc90)\n",
      "\n",
      "QObject::moveToThread: Current thread (0x1bcbc90) is not the object's thread (0x1deb370).\n",
      "Cannot move to target thread (0x1bcbc90)\n",
      "\n",
      "QObject::moveToThread: Current thread (0x1bcbc90) is not the object's thread (0x1deb370).\n",
      "Cannot move to target thread (0x1bcbc90)\n",
      "\n",
      "QObject::moveToThread: Current thread (0x1bcbc90) is not the object's thread (0x1deb370).\n",
      "Cannot move to target thread (0x1bcbc90)\n",
      "\n",
      "QObject::moveToThread: Current thread (0x1bcbc90) is not the object's thread (0x1deb370).\n",
      "Cannot move to target thread (0x1bcbc90)\n",
      "\n",
      "QObject::moveToThread: Current thread (0x1bcbc90) is not the object's thread (0x1deb370).\n",
      "Cannot move to target thread (0x1bcbc90)\n",
      "\n",
      "QObject::moveToThread: Current thread (0x1bcbc90) is not the object's thread (0x1deb370).\n",
      "Cannot move to target thread (0x1bcbc90)\n",
      "\n",
      "QObject::moveToThread: Current thread (0x1bcbc90) is not the object's thread (0x1deb370).\n",
      "Cannot move to target thread (0x1bcbc90)\n",
      "\n",
      "QObject::moveToThread: Current thread (0x1bcbc90) is not the object's thread (0x1deb370).\n",
      "Cannot move to target thread (0x1bcbc90)\n",
      "\n",
      "QObject::moveToThread: Current thread (0x1bcbc90) is not the object's thread (0x1deb370).\n",
      "Cannot move to target thread (0x1bcbc90)\n",
      "\n",
      "QObject::moveToThread: Current thread (0x1bcbc90) is not the object's thread (0x1deb370).\n",
      "Cannot move to target thread (0x1bcbc90)\n",
      "\n",
      "QObject::moveToThread: Current thread (0x1bcbc90) is not the object's thread (0x1deb370).\n",
      "Cannot move to target thread (0x1bcbc90)\n",
      "\n",
      "QObject::moveToThread: Current thread (0x1bcbc90) is not the object's thread (0x1deb370).\n",
      "Cannot move to target thread (0x1bcbc90)\n",
      "\n",
      "QObject::moveToThread: Current thread (0x1bcbc90) is not the object's thread (0x1deb370).\n",
      "Cannot move to target thread (0x1bcbc90)\n",
      "\n",
      "QObject::moveToThread: Current thread (0x1bcbc90) is not the object's thread (0x1deb370).\n",
      "Cannot move to target thread (0x1bcbc90)\n",
      "\n",
      "QObject::moveToThread: Current thread (0x1bcbc90) is not the object's thread (0x1deb370).\n",
      "Cannot move to target thread (0x1bcbc90)\n",
      "\n",
      "QObject::moveToThread: Current thread (0x1bcbc90) is not the object's thread (0x1deb370).\n",
      "Cannot move to target thread (0x1bcbc90)\n",
      "\n",
      "QObject::moveToThread: Current thread (0x1bcbc90) is not the object's thread (0x1deb370).\n",
      "Cannot move to target thread (0x1bcbc90)\n",
      "\n",
      "QObject::moveToThread: Current thread (0x1bcbc90) is not the object's thread (0x1deb370).\n",
      "Cannot move to target thread (0x1bcbc90)\n",
      "\n",
      "QObject::moveToThread: Current thread (0x1bcbc90) is not the object's thread (0x1deb370).\n",
      "Cannot move to target thread (0x1bcbc90)\n",
      "\n",
      "QObject::moveToThread: Current thread (0x1bcbc90) is not the object's thread (0x1deb370).\n",
      "Cannot move to target thread (0x1bcbc90)\n",
      "\n",
      "QObject::moveToThread: Current thread (0x1bcbc90) is not the object's thread (0x1deb370).\n",
      "Cannot move to target thread (0x1bcbc90)\n",
      "\n",
      "QObject::moveToThread: Current thread (0x1bcbc90) is not the object's thread (0x1deb370).\n",
      "Cannot move to target thread (0x1bcbc90)\n",
      "\n",
      "QObject::moveToThread: Current thread (0x1bcbc90) is not the object's thread (0x1deb370).\n",
      "Cannot move to target thread (0x1bcbc90)\n",
      "\n",
      "QObject::moveToThread: Current thread (0x1bcbc90) is not the object's thread (0x1deb370).\n",
      "Cannot move to target thread (0x1bcbc90)\n",
      "\n",
      "QObject::moveToThread: Current thread (0x1bcbc90) is not the object's thread (0x1deb370).\n",
      "Cannot move to target thread (0x1bcbc90)\n",
      "\n",
      "QObject::moveToThread: Current thread (0x1bcbc90) is not the object's thread (0x1deb370).\n",
      "Cannot move to target thread (0x1bcbc90)\n",
      "\n",
      "QObject::moveToThread: Current thread (0x1bcbc90) is not the object's thread (0x1deb370).\n",
      "Cannot move to target thread (0x1bcbc90)\n",
      "\n",
      "QObject::moveToThread: Current thread (0x1bcbc90) is not the object's thread (0x1deb370).\n",
      "Cannot move to target thread (0x1bcbc90)\n",
      "\n",
      "QObject::moveToThread: Current thread (0x1bcbc90) is not the object's thread (0x1deb370).\n",
      "Cannot move to target thread (0x1bcbc90)\n",
      "\n",
      "QObject::moveToThread: Current thread (0x1bcbc90) is not the object's thread (0x1deb370).\n",
      "Cannot move to target thread (0x1bcbc90)\n",
      "\n",
      "QObject::moveToThread: Current thread (0x1bcbc90) is not the object's thread (0x1deb370).\n",
      "Cannot move to target thread (0x1bcbc90)\n",
      "\n",
      "QObject::moveToThread: Current thread (0x1bcbc90) is not the object's thread (0x1deb370).\n",
      "Cannot move to target thread (0x1bcbc90)\n",
      "\n",
      "QObject::moveToThread: Current thread (0x1bcbc90) is not the object's thread (0x1deb370).\n",
      "Cannot move to target thread (0x1bcbc90)\n",
      "\n",
      "QObject::moveToThread: Current thread (0x1bcbc90) is not the object's thread (0x1deb370).\n",
      "Cannot move to target thread (0x1bcbc90)\n",
      "\n",
      "QObject::moveToThread: Current thread (0x1bcbc90) is not the object's thread (0x1deb370).\n",
      "Cannot move to target thread (0x1bcbc90)\n",
      "\n",
      "QObject::moveToThread: Current thread (0x1bcbc90) is not the object's thread (0x1deb370).\n",
      "Cannot move to target thread (0x1bcbc90)\n",
      "\n",
      "QObject::moveToThread: Current thread (0x1bcbc90) is not the object's thread (0x1deb370).\n",
      "Cannot move to target thread (0x1bcbc90)\n",
      "\n",
      "QObject::moveToThread: Current thread (0x1bcbc90) is not the object's thread (0x1deb370).\n",
      "Cannot move to target thread (0x1bcbc90)\n",
      "\n",
      "QObject::moveToThread: Current thread (0x1bcbc90) is not the object's thread (0x1deb370).\n",
      "Cannot move to target thread (0x1bcbc90)\n",
      "\n",
      "QObject::moveToThread: Current thread (0x1bcbc90) is not the object's thread (0x1deb370).\n",
      "Cannot move to target thread (0x1bcbc90)\n",
      "\n",
      "QObject::moveToThread: Current thread (0x1bcbc90) is not the object's thread (0x1deb370).\n",
      "Cannot move to target thread (0x1bcbc90)\n",
      "\n",
      "QObject::moveToThread: Current thread (0x1bcbc90) is not the object's thread (0x1deb370).\n",
      "Cannot move to target thread (0x1bcbc90)\n",
      "\n",
      "QObject::moveToThread: Current thread (0x1bcbc90) is not the object's thread (0x1deb370).\n",
      "Cannot move to target thread (0x1bcbc90)\n",
      "\n",
      "QObject::moveToThread: Current thread (0x1bcbc90) is not the object's thread (0x1deb370).\n",
      "Cannot move to target thread (0x1bcbc90)\n",
      "\n",
      "QObject::moveToThread: Current thread (0x1bcbc90) is not the object's thread (0x1deb370).\n",
      "Cannot move to target thread (0x1bcbc90)\n",
      "\n",
      "QObject::moveToThread: Current thread (0x1bcbc90) is not the object's thread (0x1deb370).\n",
      "Cannot move to target thread (0x1bcbc90)\n",
      "\n",
      "QObject::moveToThread: Current thread (0x1bcbc90) is not the object's thread (0x1deb370).\n",
      "Cannot move to target thread (0x1bcbc90)\n",
      "\n",
      "QObject::moveToThread: Current thread (0x1bcbc90) is not the object's thread (0x1deb370).\n",
      "Cannot move to target thread (0x1bcbc90)\n",
      "\n",
      "QObject::moveToThread: Current thread (0x1bcbc90) is not the object's thread (0x1deb370).\n",
      "Cannot move to target thread (0x1bcbc90)\n",
      "\n",
      "QObject::moveToThread: Current thread (0x1bcbc90) is not the object's thread (0x1deb370).\n",
      "Cannot move to target thread (0x1bcbc90)\n",
      "\n",
      "QObject::moveToThread: Current thread (0x1bcbc90) is not the object's thread (0x1deb370).\n",
      "Cannot move to target thread (0x1bcbc90)\n",
      "\n",
      "QObject::moveToThread: Current thread (0x1bcbc90) is not the object's thread (0x1deb370).\n",
      "Cannot move to target thread (0x1bcbc90)\n",
      "\n",
      "QObject::moveToThread: Current thread (0x1bcbc90) is not the object's thread (0x1deb370).\n",
      "Cannot move to target thread (0x1bcbc90)\n",
      "\n",
      "QObject::moveToThread: Current thread (0x1bcbc90) is not the object's thread (0x1deb370).\n",
      "Cannot move to target thread (0x1bcbc90)\n",
      "\n",
      "QObject::moveToThread: Current thread (0x1bcbc90) is not the object's thread (0x1deb370).\n",
      "Cannot move to target thread (0x1bcbc90)\n",
      "\n",
      "QObject::moveToThread: Current thread (0x1bcbc90) is not the object's thread (0x1deb370).\n",
      "Cannot move to target thread (0x1bcbc90)\n",
      "\n",
      "QObject::moveToThread: Current thread (0x1bcbc90) is not the object's thread (0x1deb370).\n",
      "Cannot move to target thread (0x1bcbc90)\n",
      "\n",
      "QObject::moveToThread: Current thread (0x1bcbc90) is not the object's thread (0x1deb370).\n",
      "Cannot move to target thread (0x1bcbc90)\n",
      "\n",
      "QObject::moveToThread: Current thread (0x1bcbc90) is not the object's thread (0x1deb370).\n",
      "Cannot move to target thread (0x1bcbc90)\n",
      "\n",
      "QObject::moveToThread: Current thread (0x1bcbc90) is not the object's thread (0x1deb370).\n",
      "Cannot move to target thread (0x1bcbc90)\n",
      "\n",
      "QObject::moveToThread: Current thread (0x1bcbc90) is not the object's thread (0x1deb370).\n",
      "Cannot move to target thread (0x1bcbc90)\n",
      "\n",
      "QObject::moveToThread: Current thread (0x1bcbc90) is not the object's thread (0x1deb370).\n",
      "Cannot move to target thread (0x1bcbc90)\n",
      "\n",
      "QObject::moveToThread: Current thread (0x1bcbc90) is not the object's thread (0x1deb370).\n",
      "Cannot move to target thread (0x1bcbc90)\n",
      "\n",
      "QObject::moveToThread: Current thread (0x1bcbc90) is not the object's thread (0x1deb370).\n",
      "Cannot move to target thread (0x1bcbc90)\n",
      "\n",
      "QObject::moveToThread: Current thread (0x1bcbc90) is not the object's thread (0x1deb370).\n",
      "Cannot move to target thread (0x1bcbc90)\n",
      "\n",
      "QObject::moveToThread: Current thread (0x1bcbc90) is not the object's thread (0x1deb370).\n",
      "Cannot move to target thread (0x1bcbc90)\n",
      "\n",
      "QObject::moveToThread: Current thread (0x1bcbc90) is not the object's thread (0x1deb370).\n",
      "Cannot move to target thread (0x1bcbc90)\n",
      "\n"
     ]
    }
   ],
   "source": [
    "%load_ext autoreload\n",
    "%autoreload 2\n",
    "from bnpm import server\n",
    "import bnpm"
   ]
  },
  {
   "cell_type": "code",
   "execution_count": 3,
   "id": "47fe1e80",
   "metadata": {},
   "outputs": [],
   "source": [
    "import os\n",
    "from pathlib import Path\n",
    "import functools\n",
    "import tempfile\n",
    "import getpass\n",
    "import gc"
   ]
  },
  {
   "cell_type": "code",
   "execution_count": 4,
   "id": "5393e061",
   "metadata": {},
   "outputs": [],
   "source": [
    "import numpy as np\n",
    "import natsort"
   ]
  },
  {
   "cell_type": "markdown",
   "id": "6114afcd",
   "metadata": {},
   "source": [
    "------------\n",
    "# ==== Start ===="
   ]
  },
  {
   "cell_type": "markdown",
   "id": "ae33b435",
   "metadata": {},
   "source": [
    "## Prepare username + password"
   ]
  },
  {
   "cell_type": "code",
   "execution_count": 5,
   "id": "af73363a",
   "metadata": {},
   "outputs": [
    {
     "name": "stdin",
     "output_type": "stream",
     "text": [
      "Username:  rh183\n",
      "Password:  ········\n"
     ]
    }
   ],
   "source": [
    "remote_host_transfer = \"transfer.rc.hms.harvard.edu\"\n",
    "remote_host_compute = \"o2.hms.harvard.edu\"\n",
    "username = input('Username: ')\n",
    "\n",
    "use_localSshKey = False\n",
    "\n",
    "pw = server.pw_encode(getpass.getpass(prompt='Password: ')) if use_localSshKey==False else None\n",
    "\n",
    "path_sshKey = '/home/rich/.ssh/id_rsa' if use_localSshKey else None"
   ]
  },
  {
   "cell_type": "markdown",
   "id": "c539c815",
   "metadata": {},
   "source": [
    "## Prepare `sftp` and `ssh` objects"
   ]
  },
  {
   "cell_type": "code",
   "execution_count": 6,
   "id": "702eba22",
   "metadata": {},
   "outputs": [],
   "source": [
    "## initialize ssh_transfer\n",
    "ssh_t = server.ssh_interface(\n",
    "    nbytes_toReceive=20000,\n",
    "    recv_timeout=1,\n",
    "    verbose=True,\n",
    ")"
   ]
  },
  {
   "cell_type": "code",
   "execution_count": 7,
   "id": "fdf1e2ba",
   "metadata": {
    "scrolled": true
   },
   "outputs": [],
   "source": [
    "ssh_t.o2_connect(\n",
    "    hostname=remote_host_transfer,\n",
    "    username=username,\n",
    "    password=server.pw_decode(pw),\n",
    "    key_filename=path_sshKey,\n",
    "    look_for_keys=False,\n",
    "    passcode_method=1,\n",
    "    verbose=0,\n",
    "    skip_passcode=False,    \n",
    ")"
   ]
  },
  {
   "cell_type": "code",
   "execution_count": 8,
   "id": "fa578dd5",
   "metadata": {},
   "outputs": [],
   "source": [
    "## initialize ssh_compute\n",
    "ssh_c = server.ssh_interface(\n",
    "    nbytes_toReceive=20000,\n",
    "    recv_timeout=1,\n",
    "    verbose=True,\n",
    ")\n",
    "ssh_c.o2_connect(\n",
    "    hostname=remote_host_compute,\n",
    "    username=username,\n",
    "    password=server.pw_decode(pw),\n",
    "    key_filename=path_sshKey,\n",
    "    look_for_keys=False,\n",
    "    passcode_method=1,\n",
    "    verbose=0,\n",
    "    skip_passcode=False,    \n",
    ")"
   ]
  },
  {
   "cell_type": "code",
   "execution_count": 9,
   "id": "daea3d7a",
   "metadata": {},
   "outputs": [],
   "source": [
    "sftp = server.sftp_interface(ssh_client=ssh_t.client)"
   ]
  },
  {
   "cell_type": "code",
   "execution_count": 10,
   "id": "21af2f06",
   "metadata": {},
   "outputs": [],
   "source": [
    "prompt_snip = f'[{username}'"
   ]
  },
  {
   "cell_type": "code",
   "execution_count": 11,
   "id": "6d8554e7",
   "metadata": {},
   "outputs": [],
   "source": [
    "send_expect = functools.partial(ssh_c.send_expect, str_success=prompt_snip)"
   ]
  },
  {
   "cell_type": "markdown",
   "id": "ccf6e180",
   "metadata": {},
   "source": [
    "# Batch run"
   ]
  },
  {
   "cell_type": "code",
   "execution_count": 12,
   "id": "c6a48cc9-d484-48ec-b00f-050e8a97dd16",
   "metadata": {},
   "outputs": [],
   "source": [
    "mouse = 'mouse_0403R'"
   ]
  },
  {
   "cell_type": "code",
   "execution_count": 13,
   "id": "3d4b6a6d",
   "metadata": {},
   "outputs": [
    {
     "name": "stdout",
     "output_type": "stream",
     "text": [
      "/n/data1/hms/neurobio/sabatini/rich/data/res2p/round_7_experiments/mouse_0403R/camera_data/20230708/cam42023-07-08T12_17_59.avi\n",
      "/n/data1/hms/neurobio/sabatini/rich/data/res2p/round_7_experiments/mouse_0403R/camera_data/20230709/cam42023-07-09T12_19_41.avi\n",
      "/n/data1/hms/neurobio/sabatini/rich/data/res2p/round_7_experiments/mouse_0403R/camera_data/20230702/cam42023-07-02T14_46_45.avi\n",
      "/n/data1/hms/neurobio/sabatini/rich/data/res2p/round_7_experiments/mouse_0403R/camera_data/20230703/cam42023-07-03T11_31_50.avi\n",
      "/n/data1/hms/neurobio/sabatini/rich/data/res2p/round_7_experiments/mouse_0403R/camera_data/20230707/cam42023-07-07T12_09_13.avi\n",
      "/n/data1/hms/neurobio/sabatini/rich/data/res2p/round_7_experiments/mouse_0403R/camera_data/20230706/cam42023-07-06T13_45_37.avi\n"
     ]
    }
   ],
   "source": [
    "paths_found = natsort.natsorted(sftp.search_recursive(\n",
    "    path=f'/n/data1/hms/neurobio/sabatini/rich/data/res2p/round_7_experiments/{mouse}/',\n",
    "    search_pattern_re='cam4.*avi',\n",
    "    max_depth=5,\n",
    "    find_folders=False,\n",
    "    find_files=True,\n",
    "    verbose=True,\n",
    "))"
   ]
  },
  {
   "cell_type": "code",
   "execution_count": 14,
   "id": "67b871e4",
   "metadata": {},
   "outputs": [
    {
     "data": {
      "text/plain": [
       "['20230702', '20230703', '20230706', '20230707', '20230708', '20230709']"
      ]
     },
     "execution_count": 14,
     "metadata": {},
     "output_type": "execute_result"
    }
   ],
   "source": [
    "dates_toUse = natsort.natsorted([Path(p).parts[-2] for p in paths_found])\n",
    "dates_toUse"
   ]
  },
  {
   "cell_type": "raw",
   "id": "174d1b98",
   "metadata": {},
   "source": [
    "dates_toUse = [\n",
    "    '20230430',\n",
    "#     '20230501',\n",
    "#     '20230502',\n",
    "#     '20230503',\n",
    "#     '20230504',\n",
    "#     '20230505',\n",
    "#     '20230506',\n",
    "#     '20230507',\n",
    "#     '20230508',\n",
    "#     '20230509',\n",
    "#     '20230510',\n",
    "#     '20230511',\n",
    "#     '20230512',\n",
    "#     '20230514',\n",
    "#     '20230515',\n",
    "#     '20230516',\n",
    "#     '20230517',\n",
    "#     '20230518',\n",
    "#     '20230519',\n",
    "#     '20230520',\n",
    "#     '20230521',\n",
    "#     '20230522',\n",
    "#     '20230523',\n",
    "#     '20230524',\n",
    "#     '20230525',\n",
    "#     '20230526',\n",
    "#     '20230527',\n",
    "#     '20230528',\n",
    "#     '20230529',\n",
    "#     '20230530',\n",
    "#     '20230531',\n",
    "#     '20230601',\n",
    "]"
   ]
  },
  {
   "cell_type": "code",
   "execution_count": 15,
   "id": "a47ac9c3",
   "metadata": {},
   "outputs": [],
   "source": [
    "paths_vids = {d: v for d, v in zip(dates_toUse, paths_found)}"
   ]
  },
  {
   "cell_type": "markdown",
   "id": "f7e4fe93",
   "metadata": {},
   "source": [
    "## Start a small interactive node"
   ]
  },
  {
   "cell_type": "code",
   "execution_count": 16,
   "id": "55034700",
   "metadata": {},
   "outputs": [
    {
     "name": "stdout",
     "output_type": "stream",
     "text": [
      "bash --pty -p interactive -t 0-00:30:00 --mem=4G /bin/ \n",
      "\n",
      "srun: job 31497834 queued and waiting for resources\n",
      "\n"
     ]
    }
   ],
   "source": [
    "send_expect(f'srun --pty -p interactive -t 0-00:30:00 --mem=4G /bin/bash');"
   ]
  },
  {
   "cell_type": "markdown",
   "id": "0cd3c682",
   "metadata": {},
   "source": [
    "## Pull/update repo"
   ]
  },
  {
   "cell_type": "code",
   "execution_count": 17,
   "id": "7c1dd354",
   "metadata": {},
   "outputs": [
    {
     "name": "stdout",
     "output_type": "stream",
     "text": [
      "cd /n/data1/hms/neurobio/sabatini/rich/github_repos/NBAP\n",
      "\n",
      "git pull\n",
      "\n",
      "srun: job 31497834 has been allocated resources\n",
      "\n",
      "cd /n/data1/hms/neurobio/sabatini/rich/github_repos/NBAP\n",
      "git pull\n",
      "\n",
      "(base) [rh183@compute-a-16-170 ~]$ \n"
     ]
    }
   ],
   "source": [
    "send_expect('cd /n/data1/hms/neurobio/sabatini/rich/github_repos/NBAP')\n",
    "send_expect('git pull');"
   ]
  },
  {
   "cell_type": "markdown",
   "id": "4ef493c1",
   "metadata": {},
   "source": [
    "## Activate environment"
   ]
  },
  {
   "cell_type": "code",
   "execution_count": 18,
   "id": "ea3f49ea-1686-4695-8268-4dda10073b7f",
   "metadata": {},
   "outputs": [
    {
     "name": "stdout",
     "output_type": "stream",
     "text": [
      "_repos/NBAP/hms/neurobio/sabatini/rich/github \n",
      "(base) [rh183@compute-a-16-170 NBAP]$ git pull\n",
      "\n"
     ]
    }
   ],
   "source": [
    "name_env = '/n/data1/hms/neurobio/sabatini/rich/virtual_envs/FR'\n",
    "\n",
    "send_expect(f'conda activate {name_env}');"
   ]
  },
  {
   "cell_type": "markdown",
   "id": "31ce097b",
   "metadata": {},
   "source": [
    "## Prepare commands"
   ]
  },
  {
   "cell_type": "code",
   "execution_count": 19,
   "id": "c060c0ba-f2ca-4bc6-b8df-be7863fbd027",
   "metadata": {},
   "outputs": [],
   "source": [
    "# duration_sessions = {date: 60*60 if float(date) < float(20230725) else 80*60 for date in dates_toUse}\n",
    "\n",
    "duration_sessions = {date: 60*60 for date in dates_toUse}"
   ]
  },
  {
   "cell_type": "code",
   "execution_count": 26,
   "id": "90bfacae",
   "metadata": {
    "scrolled": true
   },
   "outputs": [
    {
     "data": {
      "text/plain": [
       "{'dispatch': '    python3     /n/data1/hms/neurobio/sabatini/rich/analysis/eye_laser_trace_extraction/mouse_0403R/20230702/dispatcher.py     /n/data1/hms/neurobio/sabatini/rich/github_repos/NBAP/behavioral_drift_analysis/4a3_analyze_eye_laser_trace/extract_eye_brightness_trace.py     /n/data1/hms/neurobio/sabatini/rich/analysis/eye_laser_trace_extraction/mouse_0403R/20230702     /n/data1/hms/neurobio/sabatini/rich/data/res2p/round_7_experiments/mouse_0403R/camera_data/20230702/cam42023-07-02T14_46_45.avi     /n/data1/hms/neurobio/sabatini/rich/analysis/eye_laser_trace_extraction/mouse_0403R/masks/20230702/mask_cam42023-07-02T14_46_45.npy     jobNum_     03R_0702     /n/data1/hms/neurobio/sabatini/rich/virtual_envs/FR    3599    '}"
      ]
     },
     "metadata": {},
     "output_type": "display_data"
    },
    {
     "name": "stdout",
     "output_type": "stream",
     "text": [
      " 3599        03R_0709     /n/data1/hms/neurobio/sabatini/rich/virtual_envs/FR    \n",
      "dispatcher environment: /n/data1/hms/neurobio/sabatini/rich/virtual_envs/FR\n",
      "Copying /n/data1/hms/neurobio/sabatini/rich/github_repos/NBAP/behavioral_drift_analysis/4a3_analyze_eye_laser_trace/extract_eye_brightness_trace.py to /n/data1/hms/neurobio/sabatini/rich/analysis/eye_laser_trace_extraction/mouse_0403R/20230709/extract_eye_brightness_trace.py\n",
      "Submitting job: jobNum_ 0\n",
      "Submitted batch job 31498829\n",
      "AP]$ ata1/hms/neurobio/sabatini/rich/virtual_envs/FR) [rh183@compute-a-16-170 NBA\n"
     ]
    },
    {
     "data": {
      "text/plain": [
       "{'dispatch': '    python3     /n/data1/hms/neurobio/sabatini/rich/analysis/eye_laser_trace_extraction/mouse_0403R/20230703/dispatcher.py     /n/data1/hms/neurobio/sabatini/rich/github_repos/NBAP/behavioral_drift_analysis/4a3_analyze_eye_laser_trace/extract_eye_brightness_trace.py     /n/data1/hms/neurobio/sabatini/rich/analysis/eye_laser_trace_extraction/mouse_0403R/20230703     /n/data1/hms/neurobio/sabatini/rich/data/res2p/round_7_experiments/mouse_0403R/camera_data/20230703/cam42023-07-03T11_31_50.avi     /n/data1/hms/neurobio/sabatini/rich/analysis/eye_laser_trace_extraction/mouse_0403R/masks/20230703/mask_cam42023-07-03T11_31_50.npy     jobNum_     03R_0703     /n/data1/hms/neurobio/sabatini/rich/virtual_envs/FR    3599    '}"
      ]
     },
     "metadata": {},
     "output_type": "display_data"
    },
    {
     "name": "stdout",
     "output_type": "stream",
     "text": [
      " 3599        03R_0702     /n/data1/hms/neurobio/sabatini/rich/virtual_envs/FR    \n",
      "\n",
      "dispatcher environment: /n/data1/hms/neurobio/sabatini/rich/virtual_envs/FR\n",
      "    python3     /n/data1/hms/neurobio/sabatini/rich/analysis/eye_laser_trace_extraction/mouse_0403R/20230703/dispatcher.py     /n/data1/hms/neurobio/sabatini/rich/github_repos/NBAP/behavioral_drift_analysis/4a3_analyze_eye_laser_trace/extract_eye_brightness_trace.py     /n/data1/hms/neurobio/sabatini/rich/analysis/eye_laser_trace_extraction/mouse_0403R/20230703     /n/data1/hms/neurobio/sabatini/rich/data/res2p/round_7_experiments/mouse_0403R/camera_data/20230703/cam42023-07-03T11_31_50.avi     /n/data1/hms/neurobio/sabatini/rich/analysis/eye_laser_trace_extraction/mouse_0403R/masks/20230703/mask_cam42023-07-03T11_31_50.npy     jobNum_     03R_0703     /n/data1/hms/neurobio/sabatini/rich/virtual_envs/FR    3599    \n",
      "\n",
      "Copying /n/data1/hms/neurobio/sabatini/rich/github_repos/NBAP/behavioral_drift_analysis/4a3_analyze_eye_laser_trace/extract_eye_brightness_trace.py to /n/data1/hms/neurobio/sabatini/rich/analysis/eye_laser_trace_extraction/mouse_0403R/20230702/extract_eye_brightness_trace.py\n",
      "\n",
      "Submitting job: jobNum_ 0\n",
      "Submitted batch job 31499357\n",
      "\n",
      " 3599        03R_0703     /n/data1/hms/neurobio/sabatini/rich/virtual_envs/FR    \n",
      "\n"
     ]
    },
    {
     "data": {
      "text/plain": [
       "{'dispatch': '    python3     /n/data1/hms/neurobio/sabatini/rich/analysis/eye_laser_trace_extraction/mouse_0403R/20230706/dispatcher.py     /n/data1/hms/neurobio/sabatini/rich/github_repos/NBAP/behavioral_drift_analysis/4a3_analyze_eye_laser_trace/extract_eye_brightness_trace.py     /n/data1/hms/neurobio/sabatini/rich/analysis/eye_laser_trace_extraction/mouse_0403R/20230706     /n/data1/hms/neurobio/sabatini/rich/data/res2p/round_7_experiments/mouse_0403R/camera_data/20230706/cam42023-07-06T13_45_37.avi     /n/data1/hms/neurobio/sabatini/rich/analysis/eye_laser_trace_extraction/mouse_0403R/masks/20230706/mask_cam42023-07-06T13_45_37.npy     jobNum_     03R_0706     /n/data1/hms/neurobio/sabatini/rich/virtual_envs/FR    3599    '}"
      ]
     },
     "metadata": {},
     "output_type": "display_data"
    },
    {
     "name": "stdout",
     "output_type": "stream",
     "text": [
      "dispatcher environment: /n/data1/hms/neurobio/sabatini/rich/virtual_envs/FR\n",
      "\n",
      "    python3     /n/data1/hms/neurobio/sabatini/rich/analysis/eye_laser_trace_extraction/mouse_0403R/20230706/dispatcher.py     /n/data1/hms/neurobio/sabatini/rich/github_repos/NBAP/behavioral_drift_analysis/4a3_analyze_eye_laser_trace/extract_eye_brightness_trace.py     /n/data1/hms/neurobio/sabatini/rich/analysis/eye_laser_trace_extraction/mouse_0403R/20230706     /n/data1/hms/neurobio/sabatini/rich/data/res2p/round_7_experiments/mouse_0403R/camera_data/20230706/cam42023-07-06T13_45_37.avi     /n/data1/hms/neurobio/sabatini/rich/analysis/eye_laser_trace_extraction/mouse_0403R/masks/20230706/mask_cam42023-07-06T13_45_37.npy     jobNum_     03R_0706     /n/data1/hms/neurobio/sabatini/rich/virtual_envs/FR    3599    \n",
      "\n",
      "Copying /n/data1/hms/neurobio/sabatini/rich/github_repos/NBAP/behavioral_drift_analysis/4a3_analyze_eye_laser_trace/extract_eye_brightness_trace.py to /n/data1/hms/neurobio/sabatini/rich/analysis/eye_laser_trace_extraction/mouse_0403R/20230703/extract_eye_brightness_trace.py\n",
      "Submitting job: jobNum_ 0\n",
      "Submitted batch job 31499360\n",
      "\n",
      " jobNum_     03R_0706     /n/data1/hms/neurobio/sabatini/rich/vir3_45_37.npy     \n"
     ]
    },
    {
     "data": {
      "text/plain": [
       "{'dispatch': '    python3     /n/data1/hms/neurobio/sabatini/rich/analysis/eye_laser_trace_extraction/mouse_0403R/20230707/dispatcher.py     /n/data1/hms/neurobio/sabatini/rich/github_repos/NBAP/behavioral_drift_analysis/4a3_analyze_eye_laser_trace/extract_eye_brightness_trace.py     /n/data1/hms/neurobio/sabatini/rich/analysis/eye_laser_trace_extraction/mouse_0403R/20230707     /n/data1/hms/neurobio/sabatini/rich/data/res2p/round_7_experiments/mouse_0403R/camera_data/20230707/cam42023-07-07T12_09_13.avi     /n/data1/hms/neurobio/sabatini/rich/analysis/eye_laser_trace_extraction/mouse_0403R/masks/20230707/mask_cam42023-07-07T12_09_13.npy     jobNum_     03R_0707     /n/data1/hms/neurobio/sabatini/rich/virtual_envs/FR    3599    '}"
      ]
     },
     "metadata": {},
     "output_type": "display_data"
    },
    {
     "name": "stdout",
     "output_type": "stream",
     "text": [
      " 3599    /FR    \n",
      "dispatcher environment: /n/data1/hms/neurobio/sabatini/rich/virtual_envs/FR\n",
      "\n",
      "    python3     /n/data1/hms/neurobio/sabatini/rich/analysis/eye_laser_trace_extraction/mouse_0403R/20230707/dispatcher.py     /n/data1/hms/neurobio/sabatini/rich/github_repos/NBAP/behavioral_drift_analysis/4a3_analyze_eye_laser_trace/extract_eye_brightness_trace.py     /n/data1/hms/neurobio/sabatini/rich/analysis/eye_laser_trace_extraction/mouse_0403R/20230707     /n/data1/hms/neurobio/sabatini/rich/data/res2p/round_7_experiments/mouse_0403R/camera_data/20230707/cam42023-07-07T12_09_13.avi     /n/data1/hms/neurobio/sabatini/rich/analysis/eye_laser_trace_extraction/mouse_0403R/masks/20230707/mask_cam42023-07-07T12_09_13.npy     jobNum_     03R_0707     /n/data1/hms/neurobio/sabatini/rich/virtual_envs/FR    3599    \n",
      "\n",
      "Copying /n/data1/hms/neurobio/sabatini/rich/github_repos/NBAP/behavioral_drift_analysis/4a3_analyze_eye_laser_trace/extract_eye_brightness_trace.py to /n/data1/hms/neurobio/sabatini/rich/analysis/eye_laser_trace_extraction/mouse_0403R/20230706/extract_eye_brightness_trace.py\n",
      "\n",
      "Submitting job: jobNum_ 0\n",
      "Submitted batch job 31499368\n",
      "\n",
      "AP]$     phms/neurobio/sabatini/rich/virtual_envs/FR) [rh183@compute-a-16-170 NBA\n"
     ]
    },
    {
     "data": {
      "text/plain": [
       "{'dispatch': '    python3     /n/data1/hms/neurobio/sabatini/rich/analysis/eye_laser_trace_extraction/mouse_0403R/20230708/dispatcher.py     /n/data1/hms/neurobio/sabatini/rich/github_repos/NBAP/behavioral_drift_analysis/4a3_analyze_eye_laser_trace/extract_eye_brightness_trace.py     /n/data1/hms/neurobio/sabatini/rich/analysis/eye_laser_trace_extraction/mouse_0403R/20230708     /n/data1/hms/neurobio/sabatini/rich/data/res2p/round_7_experiments/mouse_0403R/camera_data/20230708/cam42023-07-08T12_17_59.avi     /n/data1/hms/neurobio/sabatini/rich/analysis/eye_laser_trace_extraction/mouse_0403R/masks/20230708/mask_cam42023-07-08T12_17_59.npy     jobNum_     03R_0708     /n/data1/hms/neurobio/sabatini/rich/virtual_envs/FR    3599    '}"
      ]
     },
     "metadata": {},
     "output_type": "display_data"
    },
    {
     "name": "stdout",
     "output_type": "stream",
     "text": [
      " 3599        03R_0707     /n/data1/hms/neurobio/sabatini/rich/virtual_envs/FR    \n",
      "dispatcher environment: /n/data1/hms/neurobio/sabatini/rich/virtual_envs/FR\n",
      "\n",
      "    python3     /n/data1/hms/neurobio/sabatini/rich/analysis/eye_laser_trace_extraction/mouse_0403R/20230708/dispatcher.py     /n/data1/hms/neurobio/sabatini/rich/github_repos/NBAP/behavioral_drift_analysis/4a3_analyze_eye_laser_trace/extract_eye_brightness_trace.py     /n/data1/hms/neurobio/sabatini/rich/analysis/eye_laser_trace_extraction/mouse_0403R/20230708     /n/data1/hms/neurobio/sabatini/rich/data/res2p/round_7_experiments/mouse_0403R/camera_data/20230708/cam42023-07-08T12_17_59.avi     /n/data1/hms/neurobio/sabatini/rich/analysis/eye_laser_trace_extraction/mouse_0403R/masks/20230708/mask_cam42023-07-08T12_17_59.npy     jobNum_     03R_0708     /n/data1/hms/neurobio/sabatini/rich/virtual_envs/FR    3599    \n",
      "\n",
      "Copying /n/data1/hms/neurobio/sabatini/rich/github_repos/NBAP/behavioral_drift_analysis/4a3_analyze_eye_laser_trace/extract_eye_brightness_trace.py to /n/data1/hms/neurobio/sabatini/rich/analysis/eye_laser_trace_extraction/mouse_0403R/20230707/extract_eye_brightness_trace.py\n",
      "Submitting job: jobNum_ 0\n",
      "\n",
      "Submitted batch job 31499370\n",
      "\n",
      "\n",
      " 3599        03R_0708     /n/data1/hms/neurobio/sabatini/rich/virtual_envs/FR    \n",
      "\n"
     ]
    },
    {
     "data": {
      "text/plain": [
       "{'dispatch': '    python3     /n/data1/hms/neurobio/sabatini/rich/analysis/eye_laser_trace_extraction/mouse_0403R/20230709/dispatcher.py     /n/data1/hms/neurobio/sabatini/rich/github_repos/NBAP/behavioral_drift_analysis/4a3_analyze_eye_laser_trace/extract_eye_brightness_trace.py     /n/data1/hms/neurobio/sabatini/rich/analysis/eye_laser_trace_extraction/mouse_0403R/20230709     /n/data1/hms/neurobio/sabatini/rich/data/res2p/round_7_experiments/mouse_0403R/camera_data/20230709/cam42023-07-09T12_19_41.avi     /n/data1/hms/neurobio/sabatini/rich/analysis/eye_laser_trace_extraction/mouse_0403R/masks/20230709/mask_cam42023-07-09T12_19_41.npy     jobNum_     03R_0709     /n/data1/hms/neurobio/sabatini/rich/virtual_envs/FR    3599    '}"
      ]
     },
     "metadata": {},
     "output_type": "display_data"
    },
    {
     "name": "stdout",
     "output_type": "stream",
     "text": [
      "dispatcher environment: /n/data1/hms/neurobio/sabatini/rich/virtual_envs/FR\n",
      "\n",
      "    python3     /n/data1/hms/neurobio/sabatini/rich/analysis/eye_laser_trace_extraction/mouse_0403R/20230709/dispatcher.py     /n/data1/hms/neurobio/sabatini/rich/github_repos/NBAP/behavioral_drift_analysis/4a3_analyze_eye_laser_trace/extract_eye_brightness_trace.py     /n/data1/hms/neurobio/sabatini/rich/analysis/eye_laser_trace_extraction/mouse_0403R/20230709     /n/data1/hms/neurobio/sabatini/rich/data/res2p/round_7_experiments/mouse_0403R/camera_data/20230709/cam42023-07-09T12_19_41.avi     /n/data1/hms/neurobio/sabatini/rich/analysis/eye_laser_trace_extraction/mouse_0403R/masks/20230709/mask_cam42023-07-09T12_19_41.npy     jobNum_     03R_0709     /n/data1/hms/neurobio/sabatini/rich/virtual_envs/FR    3599    \n",
      "\n",
      "Copying /n/data1/hms/neurobio/sabatini/rich/github_repos/NBAP/behavioral_drift_analysis/4a3_analyze_eye_laser_trace/extract_eye_brightness_trace.py to /n/data1/hms/neurobio/sabatini/rich/analysis/eye_laser_trace_extraction/mouse_0403R/20230708/extract_eye_brightness_trace.py\n",
      "\n",
      "Submitting job: jobNum_ 0\n",
      "Submitted batch job 31499375\n",
      "\n",
      "AP]$     python3     /n/data1/hms/neurobio/sabatini/) [rh183@compute-a-16-170 NBA\n"
     ]
    }
   ],
   "source": [
    "for path_vid in paths_found[:]:\n",
    "\n",
    "    mouse = Path(path_vid).parts[-4]\n",
    "    date = Path(path_vid).parts[-2]\n",
    "    \n",
    "    name_slurm = mouse[-3:] + '_' + date[-4:]\n",
    "\n",
    "    path_vid = path_vid\n",
    "    path_mask = str(Path('/n/data1/hms/neurobio/sabatini/rich/analysis/eye_laser_trace_extraction') / mouse / 'masks' / date / ('mask_' + Path(path_vid).stem + '.npy') )\n",
    "\n",
    "    dir_saveOutputs = str(Path('/n/data1/hms/neurobio/sabatini/rich/analysis/eye_laser_trace_extraction') / mouse / date )\n",
    "\n",
    "    name_job = 'jobNum_'\n",
    "\n",
    "\n",
    "    path_script_remote      = str(Path(r'/n/data1/hms/neurobio/sabatini/rich/github_repos/NBAP/behavioral_drift_analysis/4a3_analyze_eye_laser_trace/extract_eye_brightness_trace.py'))  ## path to a copy of the script (.py) file to run within the repo on the server\n",
    "\n",
    "    path_dispatcher_local   = str(Path(r'/media/rich/Home_Linux_partition/github_repos/NBAP/behavioral_drift_analysis/4a3_analyze_eye_laser_trace/').resolve() / 'dispatcher.py')  ## path to the dispatcher.py file on local computer\n",
    "    path_dispatcher_remote  = (Path(dir_saveOutputs) / 'dispatcher.py').as_posix()  ## path to where you want the dispatcher.py file to be copied onto the server\n",
    "\n",
    "    ## Expectation for dispatch args: \n",
    "    # path_script, dir_save, dir_videos, dir_ROIs, name_job, name_slurm, name_env\n",
    "\n",
    "    time_fastForward = duration_sessions[date] - 1\n",
    "    \n",
    "    commands = {\n",
    "    #     'make_dir': f\"mkdir -p {dir_data_remote}\",\n",
    "    #     'copy': f\"cp -r {dir_s2p_MICROSCOPE} {dir_data_remote}\",\n",
    "    #     'dispatch': f\"python {str(path_dispatcher_remote)} {dir_saveOutputs} {path_script_remote} {name_job} {name_slurm} {dir_videos}\",  ## dispatcher expecting these args as inputs\n",
    "    'dispatch': f\"\\\n",
    "    python3 \\\n",
    "    {path_dispatcher_remote} \\\n",
    "    {path_script_remote} \\\n",
    "    {dir_saveOutputs} \\\n",
    "    {path_vid} \\\n",
    "    {path_mask} \\\n",
    "    {name_job} \\\n",
    "    {name_slurm} \\\n",
    "    {name_env}\\\n",
    "    {time_fastForward}\\\n",
    "    \",\n",
    "    }\n",
    "    display(commands)\n",
    "    \n",
    "    sftp.mkdir_p(str(Path(path_dispatcher_remote).parent))\n",
    "    sftp.sftp.put(str(path_dispatcher_local), str(path_dispatcher_remote));\n",
    "    \n",
    "    send_expect(commands['dispatch']);"
   ]
  },
  {
   "cell_type": "markdown",
   "id": "9feac88c",
   "metadata": {},
   "source": [
    "### check on job"
   ]
  },
  {
   "cell_type": "raw",
   "id": "fb31fbe8",
   "metadata": {
    "scrolled": true
   },
   "source": [
    "ssh_c.send_expect(f'squeue -u {username} --Format=jobid,name,partition,state,timeused,starttime,timelimit,reasonlist,minmemory,mincpus,gres');"
   ]
  },
  {
   "cell_type": "code",
   "execution_count": null,
   "id": "b5133530",
   "metadata": {},
   "outputs": [],
   "source": []
  },
  {
   "cell_type": "markdown",
   "id": "442ab705",
   "metadata": {},
   "source": [
    "### Check if it worked"
   ]
  },
  {
   "cell_type": "code",
   "execution_count": 27,
   "id": "cc4de36b",
   "metadata": {},
   "outputs": [
    {
     "name": "stdout",
     "output_type": "stream",
     "text": [
      "/n/data1/hms/neurobio/sabatini/rich/analysis/eye_laser_trace_extraction/mouse_0403R/20230708/jobNum_0/idx_eye_laser.pkl\n",
      "/n/data1/hms/neurobio/sabatini/rich/analysis/eye_laser_trace_extraction/mouse_0403R/20230709/jobNum_0/idx_eye_laser.pkl\n",
      "/n/data1/hms/neurobio/sabatini/rich/analysis/eye_laser_trace_extraction/mouse_0403R/20230702/jobNum_0/idx_eye_laser.pkl\n",
      "/n/data1/hms/neurobio/sabatini/rich/analysis/eye_laser_trace_extraction/mouse_0403R/20230707/jobNum_0/idx_eye_laser.pkl\n",
      "/n/data1/hms/neurobio/sabatini/rich/analysis/eye_laser_trace_extraction/mouse_0403R/20230706/jobNum_0/idx_eye_laser.pkl\n"
     ]
    },
    {
     "data": {
      "text/plain": [
       "['/n/data1/hms/neurobio/sabatini/rich/analysis/eye_laser_trace_extraction/mouse_0403R/20230702/jobNum_0/idx_eye_laser.pkl',\n",
       " '/n/data1/hms/neurobio/sabatini/rich/analysis/eye_laser_trace_extraction/mouse_0403R/20230706/jobNum_0/idx_eye_laser.pkl',\n",
       " '/n/data1/hms/neurobio/sabatini/rich/analysis/eye_laser_trace_extraction/mouse_0403R/20230707/jobNum_0/idx_eye_laser.pkl',\n",
       " '/n/data1/hms/neurobio/sabatini/rich/analysis/eye_laser_trace_extraction/mouse_0403R/20230708/jobNum_0/idx_eye_laser.pkl',\n",
       " '/n/data1/hms/neurobio/sabatini/rich/analysis/eye_laser_trace_extraction/mouse_0403R/20230709/jobNum_0/idx_eye_laser.pkl']"
      ]
     },
     "metadata": {},
     "output_type": "display_data"
    }
   ],
   "source": [
    "test = natsort.natsorted(sftp.search_recursive(\n",
    "    path=f'/n/data1/hms/neurobio/sabatini/rich/analysis/eye_laser_trace_extraction/{mouse}',\n",
    "    search_pattern_re=r'idx_eye_laser.pkl',\n",
    "))\n",
    "display(test)"
   ]
  },
  {
   "cell_type": "markdown",
   "id": "33600579",
   "metadata": {},
   "source": [
    "## Clean up"
   ]
  },
  {
   "cell_type": "code",
   "execution_count": null,
   "id": "b31f6bcb",
   "metadata": {},
   "outputs": [],
   "source": [
    "## delete password\n",
    "del pw\n",
    "gc.collect()\n",
    "\n",
    "## close sftp\n",
    "if sftp: sftp.close()\n",
    "if transport: transport.close()\n",
    "del sftp\n",
    "del transport\n",
    "    \n",
    "## close ssh\n",
    "ssh_t.close()\n",
    "del ssh_t\n",
    "ssh_c.close()\n",
    "del ssh_c\n",
    "gc.collect()"
   ]
  },
  {
   "cell_type": "code",
   "execution_count": null,
   "id": "b1e29db0",
   "metadata": {},
   "outputs": [],
   "source": []
  },
  {
   "cell_type": "code",
   "execution_count": null,
   "id": "a2ee21fd",
   "metadata": {},
   "outputs": [],
   "source": []
  }
 ],
 "metadata": {
  "kernelspec": {
   "display_name": "Python 3 (ipykernel)",
   "language": "python",
   "name": "python3"
  },
  "language_info": {
   "codemirror_mode": {
    "name": "ipython",
    "version": 3
   },
   "file_extension": ".py",
   "mimetype": "text/x-python",
   "name": "python",
   "nbconvert_exporter": "python",
   "pygments_lexer": "ipython3",
   "version": "3.9.16"
  }
 },
 "nbformat": 4,
 "nbformat_minor": 5
}
