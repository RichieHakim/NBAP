{
 "cells": [
  {
   "cell_type": "code",
   "execution_count": 1,
   "id": "eb615f81-8421-41b8-a86c-bebead4185fe",
   "metadata": {},
   "outputs": [
    {
     "data": {
      "text/html": [
       "<style>:root { --jp-notebook-max-width: 100% !important; }</style>"
      ],
      "text/plain": [
       "<IPython.core.display.HTML object>"
      ]
     },
     "metadata": {},
     "output_type": "display_data"
    },
    {
     "data": {
      "text/html": [
       "<style>.container {width:100% !important; }</style>"
      ],
      "text/plain": [
       "<IPython.core.display.HTML object>"
      ]
     },
     "metadata": {},
     "output_type": "display_data"
    },
    {
     "name": "stdout",
     "output_type": "stream",
     "text": [
      "Conda Environment: roicat\n"
     ]
    }
   ],
   "source": [
    "from IPython.display import display, HTML\n",
    "display(HTML(\"<style>:root { --jp-notebook-max-width: 100% !important; }</style>\"))\n",
    "display(HTML(\"<style>.container {width:100% !important; }</style>\"))\n",
    "\n",
    "# check environment\n",
    "import os\n",
    "print(f'Conda Environment: ' + os.environ['CONDA_DEFAULT_ENV'])"
   ]
  },
  {
   "cell_type": "code",
   "execution_count": 2,
   "id": "369693ec-5bab-4ca6-94d0-42fa2a23892a",
   "metadata": {},
   "outputs": [],
   "source": [
    "from pathlib import Path\n",
    "import copy\n",
    "import functools\n",
    "import gc\n",
    "\n",
    "import numpy as np\n",
    "import matplotlib.pyplot as plt\n",
    "import pandas as pd\n",
    "from tqdm import tqdm\n",
    "import natsort\n",
    "import sklearn\n",
    "import torch\n"
   ]
  },
  {
   "cell_type": "code",
   "execution_count": 3,
   "id": "cf497d98-39dd-4041-a6b0-f24e5177dad2",
   "metadata": {},
   "outputs": [],
   "source": [
    "%load_ext autoreload\n",
    "%autoreload 2\n",
    "import bnpm"
   ]
  },
  {
   "cell_type": "code",
   "execution_count": 4,
   "id": "8a866569",
   "metadata": {},
   "outputs": [],
   "source": [
    "paths_elt = bnpm.path_helpers.find_paths(\n",
    "    dir_outer=r'/media/rich/bigSSD/analysis_data/face_rhythm/mouse_0322N/eye_laser_trace_extraction/',\n",
    "    reMatch='idx_eye_laser\\.pkl',\n",
    "    depth=8,\n",
    "    natsorted=True,\n",
    ")"
   ]
  },
  {
   "cell_type": "code",
   "execution_count": 5,
   "id": "da7be43e",
   "metadata": {},
   "outputs": [
    {
     "data": {
      "text/plain": [
       "['/media/rich/bigSSD/analysis_data/face_rhythm/mouse_0322N/eye_laser_trace_extraction/20230430/jobNum_0/idx_eye_laser.pkl',\n",
       " '/media/rich/bigSSD/analysis_data/face_rhythm/mouse_0322N/eye_laser_trace_extraction/20230501/jobNum_0/idx_eye_laser.pkl',\n",
       " '/media/rich/bigSSD/analysis_data/face_rhythm/mouse_0322N/eye_laser_trace_extraction/20230502/jobNum_0/idx_eye_laser.pkl',\n",
       " '/media/rich/bigSSD/analysis_data/face_rhythm/mouse_0322N/eye_laser_trace_extraction/20230503/jobNum_0/idx_eye_laser.pkl',\n",
       " '/media/rich/bigSSD/analysis_data/face_rhythm/mouse_0322N/eye_laser_trace_extraction/20230504/jobNum_0/idx_eye_laser.pkl',\n",
       " '/media/rich/bigSSD/analysis_data/face_rhythm/mouse_0322N/eye_laser_trace_extraction/20230505/jobNum_0/idx_eye_laser.pkl',\n",
       " '/media/rich/bigSSD/analysis_data/face_rhythm/mouse_0322N/eye_laser_trace_extraction/20230506/jobNum_0/idx_eye_laser.pkl',\n",
       " '/media/rich/bigSSD/analysis_data/face_rhythm/mouse_0322N/eye_laser_trace_extraction/20230507/jobNum_0/idx_eye_laser.pkl',\n",
       " '/media/rich/bigSSD/analysis_data/face_rhythm/mouse_0322N/eye_laser_trace_extraction/20230508/jobNum_0/idx_eye_laser.pkl',\n",
       " '/media/rich/bigSSD/analysis_data/face_rhythm/mouse_0322N/eye_laser_trace_extraction/20230509/jobNum_0/idx_eye_laser.pkl',\n",
       " '/media/rich/bigSSD/analysis_data/face_rhythm/mouse_0322N/eye_laser_trace_extraction/20230510/jobNum_0/idx_eye_laser.pkl',\n",
       " '/media/rich/bigSSD/analysis_data/face_rhythm/mouse_0322N/eye_laser_trace_extraction/20230511/jobNum_0/idx_eye_laser.pkl',\n",
       " '/media/rich/bigSSD/analysis_data/face_rhythm/mouse_0322N/eye_laser_trace_extraction/20230512/jobNum_0/idx_eye_laser.pkl',\n",
       " '/media/rich/bigSSD/analysis_data/face_rhythm/mouse_0322N/eye_laser_trace_extraction/20230514/jobNum_0/idx_eye_laser.pkl',\n",
       " '/media/rich/bigSSD/analysis_data/face_rhythm/mouse_0322N/eye_laser_trace_extraction/20230515/jobNum_0/idx_eye_laser.pkl',\n",
       " '/media/rich/bigSSD/analysis_data/face_rhythm/mouse_0322N/eye_laser_trace_extraction/20230516/jobNum_0/idx_eye_laser.pkl',\n",
       " '/media/rich/bigSSD/analysis_data/face_rhythm/mouse_0322N/eye_laser_trace_extraction/20230517/jobNum_0/idx_eye_laser.pkl',\n",
       " '/media/rich/bigSSD/analysis_data/face_rhythm/mouse_0322N/eye_laser_trace_extraction/20230518/jobNum_0/idx_eye_laser.pkl',\n",
       " '/media/rich/bigSSD/analysis_data/face_rhythm/mouse_0322N/eye_laser_trace_extraction/20230519/jobNum_0/idx_eye_laser.pkl',\n",
       " '/media/rich/bigSSD/analysis_data/face_rhythm/mouse_0322N/eye_laser_trace_extraction/20230520/jobNum_0/idx_eye_laser.pkl',\n",
       " '/media/rich/bigSSD/analysis_data/face_rhythm/mouse_0322N/eye_laser_trace_extraction/20230521/jobNum_0/idx_eye_laser.pkl',\n",
       " '/media/rich/bigSSD/analysis_data/face_rhythm/mouse_0322N/eye_laser_trace_extraction/20230522/jobNum_0/idx_eye_laser.pkl',\n",
       " '/media/rich/bigSSD/analysis_data/face_rhythm/mouse_0322N/eye_laser_trace_extraction/20230523/jobNum_0/idx_eye_laser.pkl',\n",
       " '/media/rich/bigSSD/analysis_data/face_rhythm/mouse_0322N/eye_laser_trace_extraction/20230524/jobNum_0/idx_eye_laser.pkl',\n",
       " '/media/rich/bigSSD/analysis_data/face_rhythm/mouse_0322N/eye_laser_trace_extraction/20230525/jobNum_0/idx_eye_laser.pkl',\n",
       " '/media/rich/bigSSD/analysis_data/face_rhythm/mouse_0322N/eye_laser_trace_extraction/20230526/jobNum_0/idx_eye_laser.pkl',\n",
       " '/media/rich/bigSSD/analysis_data/face_rhythm/mouse_0322N/eye_laser_trace_extraction/20230527/jobNum_0/idx_eye_laser.pkl',\n",
       " '/media/rich/bigSSD/analysis_data/face_rhythm/mouse_0322N/eye_laser_trace_extraction/20230528/jobNum_0/idx_eye_laser.pkl',\n",
       " '/media/rich/bigSSD/analysis_data/face_rhythm/mouse_0322N/eye_laser_trace_extraction/20230529/jobNum_0/idx_eye_laser.pkl',\n",
       " '/media/rich/bigSSD/analysis_data/face_rhythm/mouse_0322N/eye_laser_trace_extraction/20230530/jobNum_0/idx_eye_laser.pkl',\n",
       " '/media/rich/bigSSD/analysis_data/face_rhythm/mouse_0322N/eye_laser_trace_extraction/20230531/jobNum_0/idx_eye_laser.pkl',\n",
       " '/media/rich/bigSSD/analysis_data/face_rhythm/mouse_0322N/eye_laser_trace_extraction/20230601/jobNum_0/idx_eye_laser.pkl']"
      ]
     },
     "execution_count": 5,
     "metadata": {},
     "output_type": "execute_result"
    }
   ],
   "source": [
    "paths_elt"
   ]
  },
  {
   "cell_type": "code",
   "execution_count": 6,
   "id": "886a9c58",
   "metadata": {},
   "outputs": [],
   "source": [
    "elts = {Path(p).parts[-3]: bnpm.file_helpers.pickle_load(p) for p in paths_elt}"
   ]
  },
  {
   "cell_type": "code",
   "execution_count": 7,
   "id": "96ac80bb",
   "metadata": {},
   "outputs": [],
   "source": [
    "elts2 = copy.deepcopy(elts)"
   ]
  },
  {
   "cell_type": "code",
   "execution_count": 8,
   "id": "ef9f5da7-967c-42f2-99cd-005feeb86add",
   "metadata": {},
   "outputs": [],
   "source": [
    "%matplotlib widget"
   ]
  },
  {
   "cell_type": "code",
   "execution_count": null,
   "id": "ef687ec9-5f9b-43e8-9233-6c1d67f3033c",
   "metadata": {},
   "outputs": [],
   "source": []
  },
  {
   "cell_type": "raw",
   "id": "66bd5e9b-c0e7-4272-ac95-c365dc6285b5",
   "metadata": {},
   "source": [
    "%matplotlib inline"
   ]
  },
  {
   "cell_type": "code",
   "execution_count": 12,
   "id": "914dea39",
   "metadata": {},
   "outputs": [
    {
     "ename": "KeyError",
     "evalue": "'idx_fastForward'",
     "output_type": "error",
     "traceback": [
      "\u001b[0;31m---------------------------------------------------------------------------\u001b[0m",
      "\u001b[0;31mKeyError\u001b[0m                                  Traceback (most recent call last)",
      "Cell \u001b[0;32mIn[12], line 4\u001b[0m\n\u001b[1;32m      1\u001b[0m \u001b[38;5;28;01mfor\u001b[39;00m date \u001b[38;5;129;01min\u001b[39;00m elts\u001b[38;5;241m.\u001b[39mkeys():\n\u001b[1;32m      2\u001b[0m \n\u001b[1;32m      3\u001b[0m     \u001b[38;5;66;03m# try:\u001b[39;00m\n\u001b[0;32m----> 4\u001b[0m     idx_fastForward \u001b[38;5;241m=\u001b[39m \u001b[43melts\u001b[49m\u001b[43m[\u001b[49m\u001b[43mdate\u001b[49m\u001b[43m]\u001b[49m\u001b[43m[\u001b[49m\u001b[38;5;124;43m'\u001b[39;49m\u001b[38;5;124;43midx_fastForward\u001b[39;49m\u001b[38;5;124;43m'\u001b[39;49m\u001b[43m]\u001b[49m\n\u001b[1;32m      5\u001b[0m     fps \u001b[38;5;241m=\u001b[39m elts[date][\u001b[38;5;124m'\u001b[39m\u001b[38;5;124mfps\u001b[39m\u001b[38;5;124m'\u001b[39m]\n\u001b[1;32m      6\u001b[0m     trace_start \u001b[38;5;241m=\u001b[39m elts[date][\u001b[38;5;124m'\u001b[39m\u001b[38;5;124mtrace_start\u001b[39m\u001b[38;5;124m'\u001b[39m]\u001b[38;5;241m.\u001b[39mclone()\n",
      "\u001b[0;31mKeyError\u001b[0m: 'idx_fastForward'"
     ]
    }
   ],
   "source": [
    "for date in elts.keys():\n",
    "\n",
    "    try:\n",
    "        idx_fastForward = elts[date]['idx_fastForward']\n",
    "        fps = elts[date]['fps']\n",
    "        trace_start = elts[date]['trace_start'].clone()\n",
    "        trace_end = elts[date]['trace_end'].clone()\n",
    "        idx_start = elts[date]['idx_start']\n",
    "        idx_end = elts[date]['idx_end']\n",
    "    \n",
    "        duration_start_end = (idx_end - idx_start) / fps\n",
    "    \n",
    "        print(date, duration_start_end/60)\n",
    "        \n",
    "        %matplotlib widget\n",
    "        plt.figure()\n",
    "        plt.plot(trace_start)\n",
    "        plt.plot(idx_start, trace_start[idx_start], 'r.')\n",
    "    #     plt.plot(vqt(trace_start)[0][0][0])\n",
    "        plt.title(date)\n",
    "        \n",
    "        plt.figure()\n",
    "        plt.plot(trace_end)\n",
    "        plt.plot(idx_end - idx_fastForward, trace_end[idx_end - idx_fastForward], 'r.')\n",
    "    #     plt.plot(vqt(trace_end)[0][0][0])\n",
    "        plt.title(date)\n",
    "\n",
    "    except:\n",
    "        None"
   ]
  },
  {
   "cell_type": "code",
   "execution_count": null,
   "id": "210b3cec-bec2-4faf-807f-53c828fd82dd",
   "metadata": {},
   "outputs": [],
   "source": [
    "elts['20230419']['idx_fastForward'"
   ]
  },
  {
   "cell_type": "code",
   "execution_count": 25,
   "id": "7bc9b4b2-6354-417a-9496-29c02fc781d4",
   "metadata": {},
   "outputs": [],
   "source": [
    "# ## mouse_0322R\n",
    "# 20230419 end: 1969\n",
    "# 20230429 end: 1636\n",
    "\n",
    "idx_start_end_manuallyCorrected = {\n",
    "    '20230419': {'end': 1969 + elts['20230419']['idx_fastForward']},\n",
    "    '20230429': {'end': 1636 + elts['20230429']['idx_fastForward']},\n",
    "}"
   ]
  },
  {
   "cell_type": "code",
   "execution_count": 26,
   "id": "60580825-8834-476f-a98c-d84a831dea03",
   "metadata": {},
   "outputs": [],
   "source": [
    "# ## mouse_0403L\n",
    "# 710 start: 781\n",
    "# 720 start: 686\n",
    "# 724 end: 1269 + 431880\n",
    "# 727 end: 1466 + 575880\n",
    "# 728 start: 913\n",
    "# 806 end: 1135 + 575880\n",
    "\n",
    "# idx_start_end_manuallyCorrected = {\n",
    "#     '20230710': {'start': 781},\n",
    "#     '20230720': {'start': 686},\n",
    "#     '20230724': {'end': 1269 + 431880},\n",
    "#     '20230727': {'end': 1466 + 575880},\n",
    "#     '20230728': {'start': 913},\n",
    "#     '20230806': {'end': 1135 + 575880},\n",
    "# }"
   ]
  },
  {
   "cell_type": "code",
   "execution_count": 27,
   "id": "5880aa72",
   "metadata": {},
   "outputs": [],
   "source": [
    "for date in idx_start_end_manuallyCorrected.keys():\n",
    "    if 'start' in idx_start_end_manuallyCorrected[date]:\n",
    "        elts2[date]['idx_start'] = idx_start_end_manuallyCorrected[date]['start']\n",
    "    if 'end' in idx_start_end_manuallyCorrected[date]:\n",
    "        elts2[date]['idx_end'] = idx_start_end_manuallyCorrected[date]['end']"
   ]
  },
  {
   "cell_type": "code",
   "execution_count": 28,
   "id": "a263412d",
   "metadata": {},
   "outputs": [],
   "source": [
    "dir_save = r'/media/rich/bigSSD/analysis_data/face_rhythm/mouse_0322R/eye_laser_trace_extraction/traces'\n",
    "[bnpm.file_helpers.pickle_save(obj=elts2[date], filepath=str(Path(dir_save) / date / 'idx_eye_laser_manuallyCorrected.pkl')) for date in elts2.keys()];"
   ]
  },
  {
   "cell_type": "code",
   "execution_count": null,
   "id": "cd92e247-74c3-4c24-b025-89765ff655f6",
   "metadata": {},
   "outputs": [],
   "source": []
  },
  {
   "cell_type": "code",
   "execution_count": null,
   "id": "81e47636-b451-4d54-9713-78f7cbbfbccd",
   "metadata": {},
   "outputs": [],
   "source": []
  },
  {
   "cell_type": "code",
   "execution_count": 29,
   "id": "c960b709",
   "metadata": {
    "scrolled": true
   },
   "outputs": [
    {
     "name": "stdout",
     "output_type": "stream",
     "text": [
      "20230419 60.05375\n",
      "20230420 60.053888888888885\n",
      "20230424 60.04222222222222\n",
      "20230425 60.03638888888889\n",
      "20230426 60.04486111111111\n",
      "20230427 60.03736111111111\n",
      "20230428 60.03736111111111\n",
      "20230429 60.03944444444445\n",
      "20230430 60.034444444444446\n",
      "20230501 60.041805555555555\n",
      "20230502 60.03486111111111\n",
      "20230503 60.04361111111111\n",
      "20230504 60.03638888888889\n",
      "20230505 60.04361111111111\n",
      "20230506 60.031388888888884\n",
      "20230508 60.03305555555555\n",
      "20230509 59.98930555555555\n",
      "20230511 60.04152777777778\n",
      "20230512 60.034444444444446\n",
      "20230513 60.04041666666667\n",
      "20230514 60.03055555555556\n",
      "20230515 59.25138888888889\n",
      "20230516 60.03416666666667\n",
      "20230517 60.03347222222222\n",
      "20230518 60.044583333333335\n",
      "20230519 60.0375\n",
      "20230520 60.03208333333334\n",
      "20230521 60.03069444444444\n",
      "20230522 60.034305555555555\n",
      "20230523 60.03125\n",
      "20230524 60.03097222222222\n",
      "20230525 60.03333333333333\n",
      "20230526 60.03625\n",
      "20230527 60.03055555555556\n",
      "20230530 60.02902777777778\n",
      "20230531 60.02597222222222\n"
     ]
    }
   ],
   "source": [
    "for date in elts2.keys():\n",
    "\n",
    "    try:\n",
    "        idx_fastForward = elts2[date]['idx_fastForward']\n",
    "        fps = elts2[date]['fps']\n",
    "        trace_start = elts2[date]['trace_start'].clone()\n",
    "        trace_end = elts2[date]['trace_end'].clone()\n",
    "        idx_start = elts2[date]['idx_start']\n",
    "        idx_end = elts2[date]['idx_end']\n",
    "    \n",
    "        duration_start_end = (idx_end - idx_start) / fps\n",
    "    \n",
    "        print(date, duration_start_end/60)\n",
    "        \n",
    "    #     %matplotlib widget\n",
    "    #     plt.figure()\n",
    "    #     plt.plot(trace_start)\n",
    "    #     plt.plot(idx_start, trace_start[idx_start], 'r.')\n",
    "    # #     plt.plot(vqt(trace_start)[0][0][0])\n",
    "    #     plt.title(date)\n",
    "        \n",
    "    #     plt.figure()\n",
    "    #     plt.plot(trace_end)\n",
    "    #     plt.plot(idx_end - idx_fastForward, trace_end[idx_end - idx_fastForward], 'r.')\n",
    "    # #     plt.plot(vqt(trace_end)[0][0][0])\n",
    "    #     plt.title(date)\n",
    "\n",
    "    except:\n",
    "        None"
   ]
  },
  {
   "cell_type": "code",
   "execution_count": null,
   "id": "add407ee-ef89-457e-bb99-0edc0c7c83d5",
   "metadata": {},
   "outputs": [],
   "source": []
  }
 ],
 "metadata": {
  "kernelspec": {
   "display_name": "Python 3 (ipykernel)",
   "language": "python",
   "name": "python3"
  },
  "language_info": {
   "codemirror_mode": {
    "name": "ipython",
    "version": 3
   },
   "file_extension": ".py",
   "mimetype": "text/x-python",
   "name": "python",
   "nbconvert_exporter": "python",
   "pygments_lexer": "ipython3",
   "version": "3.11.3"
  }
 },
 "nbformat": 4,
 "nbformat_minor": 5
}
