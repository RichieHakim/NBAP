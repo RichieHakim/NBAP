{
 "cells": [
  {
   "cell_type": "code",
   "execution_count": 1,
   "id": "eb297901",
   "metadata": {},
   "outputs": [
    {
     "data": {
      "text/html": [
       "<style>.container {width:95% !important; }</style>"
      ],
      "text/plain": [
       "<IPython.core.display.HTML object>"
      ]
     },
     "metadata": {},
     "output_type": "display_data"
    },
    {
     "data": {
      "text/html": [
       "<style>:root { --jp-notebook-max-width: 100% !important; }</style>"
      ],
      "text/plain": [
       "<IPython.core.display.HTML object>"
      ]
     },
     "metadata": {},
     "output_type": "display_data"
    }
   ],
   "source": [
    "# widen jupyter notebook window\n",
    "from IPython.display import display, HTML\n",
    "display(HTML(\"<style>.container {width:95% !important; }</style>\"))\n",
    "display(HTML(\"<style>:root { --jp-notebook-max-width: 100% !important; }</style>\"))"
   ]
  },
  {
   "cell_type": "markdown",
   "id": "e7ca9401",
   "metadata": {},
   "source": [
    "This requires having `bnpm`. Get it with `pip install bnpm` or here: https://github.com/RichieHakim/basic_neural_processing_modules"
   ]
  },
  {
   "cell_type": "code",
   "execution_count": 2,
   "id": "b083639c",
   "metadata": {},
   "outputs": [
    {
     "name": "stderr",
     "output_type": "stream",
     "text": [
      "QObject::moveToThread: Current thread (0x1381e10) is not the object's thread (0x1d2ea80).\n",
      "Cannot move to target thread (0x1381e10)\n",
      "\n",
      "QObject::moveToThread: Current thread (0x1381e10) is not the object's thread (0x1d2ea80).\n",
      "Cannot move to target thread (0x1381e10)\n",
      "\n",
      "QObject::moveToThread: Current thread (0x1381e10) is not the object's thread (0x1d2ea80).\n",
      "Cannot move to target thread (0x1381e10)\n",
      "\n",
      "QObject::moveToThread: Current thread (0x1381e10) is not the object's thread (0x1d2ea80).\n",
      "Cannot move to target thread (0x1381e10)\n",
      "\n",
      "QObject::moveToThread: Current thread (0x1381e10) is not the object's thread (0x1d2ea80).\n",
      "Cannot move to target thread (0x1381e10)\n",
      "\n",
      "QObject::moveToThread: Current thread (0x1381e10) is not the object's thread (0x1d2ea80).\n",
      "Cannot move to target thread (0x1381e10)\n",
      "\n",
      "QObject::moveToThread: Current thread (0x1381e10) is not the object's thread (0x1d2ea80).\n",
      "Cannot move to target thread (0x1381e10)\n",
      "\n",
      "QObject::moveToThread: Current thread (0x1381e10) is not the object's thread (0x1d2ea80).\n",
      "Cannot move to target thread (0x1381e10)\n",
      "\n",
      "QObject::moveToThread: Current thread (0x1381e10) is not the object's thread (0x1d2ea80).\n",
      "Cannot move to target thread (0x1381e10)\n",
      "\n",
      "QObject::moveToThread: Current thread (0x1381e10) is not the object's thread (0x1d2ea80).\n",
      "Cannot move to target thread (0x1381e10)\n",
      "\n",
      "QObject::moveToThread: Current thread (0x1381e10) is not the object's thread (0x1d2ea80).\n",
      "Cannot move to target thread (0x1381e10)\n",
      "\n",
      "QObject::moveToThread: Current thread (0x1381e10) is not the object's thread (0x1d2ea80).\n",
      "Cannot move to target thread (0x1381e10)\n",
      "\n",
      "QObject::moveToThread: Current thread (0x1381e10) is not the object's thread (0x1d2ea80).\n",
      "Cannot move to target thread (0x1381e10)\n",
      "\n",
      "QObject::moveToThread: Current thread (0x1381e10) is not the object's thread (0x1d2ea80).\n",
      "Cannot move to target thread (0x1381e10)\n",
      "\n",
      "QObject::moveToThread: Current thread (0x1381e10) is not the object's thread (0x1d2ea80).\n",
      "Cannot move to target thread (0x1381e10)\n",
      "\n",
      "QObject::moveToThread: Current thread (0x1381e10) is not the object's thread (0x1d2ea80).\n",
      "Cannot move to target thread (0x1381e10)\n",
      "\n",
      "QObject::moveToThread: Current thread (0x1381e10) is not the object's thread (0x1d2ea80).\n",
      "Cannot move to target thread (0x1381e10)\n",
      "\n",
      "QObject::moveToThread: Current thread (0x1381e10) is not the object's thread (0x1d2ea80).\n",
      "Cannot move to target thread (0x1381e10)\n",
      "\n",
      "QObject::moveToThread: Current thread (0x1381e10) is not the object's thread (0x1d2ea80).\n",
      "Cannot move to target thread (0x1381e10)\n",
      "\n",
      "QObject::moveToThread: Current thread (0x1381e10) is not the object's thread (0x1d2ea80).\n",
      "Cannot move to target thread (0x1381e10)\n",
      "\n",
      "QObject::moveToThread: Current thread (0x1381e10) is not the object's thread (0x1d2ea80).\n",
      "Cannot move to target thread (0x1381e10)\n",
      "\n",
      "QObject::moveToThread: Current thread (0x1381e10) is not the object's thread (0x1d2ea80).\n",
      "Cannot move to target thread (0x1381e10)\n",
      "\n",
      "QObject::moveToThread: Current thread (0x1381e10) is not the object's thread (0x1d2ea80).\n",
      "Cannot move to target thread (0x1381e10)\n",
      "\n",
      "QObject::moveToThread: Current thread (0x1381e10) is not the object's thread (0x1d2ea80).\n",
      "Cannot move to target thread (0x1381e10)\n",
      "\n",
      "QObject::moveToThread: Current thread (0x1381e10) is not the object's thread (0x1d2ea80).\n",
      "Cannot move to target thread (0x1381e10)\n",
      "\n",
      "QObject::moveToThread: Current thread (0x1381e10) is not the object's thread (0x1d2ea80).\n",
      "Cannot move to target thread (0x1381e10)\n",
      "\n",
      "QObject::moveToThread: Current thread (0x1381e10) is not the object's thread (0x1d2ea80).\n",
      "Cannot move to target thread (0x1381e10)\n",
      "\n",
      "QObject::moveToThread: Current thread (0x1381e10) is not the object's thread (0x1d2ea80).\n",
      "Cannot move to target thread (0x1381e10)\n",
      "\n",
      "QObject::moveToThread: Current thread (0x1381e10) is not the object's thread (0x1d2ea80).\n",
      "Cannot move to target thread (0x1381e10)\n",
      "\n",
      "QObject::moveToThread: Current thread (0x1381e10) is not the object's thread (0x1d2ea80).\n",
      "Cannot move to target thread (0x1381e10)\n",
      "\n",
      "QObject::moveToThread: Current thread (0x1381e10) is not the object's thread (0x1d2ea80).\n",
      "Cannot move to target thread (0x1381e10)\n",
      "\n",
      "QObject::moveToThread: Current thread (0x1381e10) is not the object's thread (0x1d2ea80).\n",
      "Cannot move to target thread (0x1381e10)\n",
      "\n",
      "QObject::moveToThread: Current thread (0x1381e10) is not the object's thread (0x1d2ea80).\n",
      "Cannot move to target thread (0x1381e10)\n",
      "\n",
      "QObject::moveToThread: Current thread (0x1381e10) is not the object's thread (0x1d2ea80).\n",
      "Cannot move to target thread (0x1381e10)\n",
      "\n",
      "QObject::moveToThread: Current thread (0x1381e10) is not the object's thread (0x1d2ea80).\n",
      "Cannot move to target thread (0x1381e10)\n",
      "\n",
      "QObject::moveToThread: Current thread (0x1381e10) is not the object's thread (0x1d2ea80).\n",
      "Cannot move to target thread (0x1381e10)\n",
      "\n",
      "QObject::moveToThread: Current thread (0x1381e10) is not the object's thread (0x1d2ea80).\n",
      "Cannot move to target thread (0x1381e10)\n",
      "\n",
      "QObject::moveToThread: Current thread (0x1381e10) is not the object's thread (0x1d2ea80).\n",
      "Cannot move to target thread (0x1381e10)\n",
      "\n",
      "QObject::moveToThread: Current thread (0x1381e10) is not the object's thread (0x1d2ea80).\n",
      "Cannot move to target thread (0x1381e10)\n",
      "\n",
      "QObject::moveToThread: Current thread (0x1381e10) is not the object's thread (0x1d2ea80).\n",
      "Cannot move to target thread (0x1381e10)\n",
      "\n",
      "QObject::moveToThread: Current thread (0x1381e10) is not the object's thread (0x1d2ea80).\n",
      "Cannot move to target thread (0x1381e10)\n",
      "\n",
      "QObject::moveToThread: Current thread (0x1381e10) is not the object's thread (0x1d2ea80).\n",
      "Cannot move to target thread (0x1381e10)\n",
      "\n",
      "QObject::moveToThread: Current thread (0x1381e10) is not the object's thread (0x1d2ea80).\n",
      "Cannot move to target thread (0x1381e10)\n",
      "\n",
      "QObject::moveToThread: Current thread (0x1381e10) is not the object's thread (0x1d2ea80).\n",
      "Cannot move to target thread (0x1381e10)\n",
      "\n",
      "QObject::moveToThread: Current thread (0x1381e10) is not the object's thread (0x1d2ea80).\n",
      "Cannot move to target thread (0x1381e10)\n",
      "\n",
      "QObject::moveToThread: Current thread (0x1381e10) is not the object's thread (0x1d2ea80).\n",
      "Cannot move to target thread (0x1381e10)\n",
      "\n",
      "QObject::moveToThread: Current thread (0x1381e10) is not the object's thread (0x1d2ea80).\n",
      "Cannot move to target thread (0x1381e10)\n",
      "\n",
      "QObject::moveToThread: Current thread (0x1381e10) is not the object's thread (0x1d2ea80).\n",
      "Cannot move to target thread (0x1381e10)\n",
      "\n",
      "QObject::moveToThread: Current thread (0x1381e10) is not the object's thread (0x1d2ea80).\n",
      "Cannot move to target thread (0x1381e10)\n",
      "\n",
      "QObject::moveToThread: Current thread (0x1381e10) is not the object's thread (0x1d2ea80).\n",
      "Cannot move to target thread (0x1381e10)\n",
      "\n",
      "QObject::moveToThread: Current thread (0x1381e10) is not the object's thread (0x1d2ea80).\n",
      "Cannot move to target thread (0x1381e10)\n",
      "\n",
      "QObject::moveToThread: Current thread (0x1381e10) is not the object's thread (0x1d2ea80).\n",
      "Cannot move to target thread (0x1381e10)\n",
      "\n",
      "QObject::moveToThread: Current thread (0x1381e10) is not the object's thread (0x1d2ea80).\n",
      "Cannot move to target thread (0x1381e10)\n",
      "\n",
      "QObject::moveToThread: Current thread (0x1381e10) is not the object's thread (0x1d2ea80).\n",
      "Cannot move to target thread (0x1381e10)\n",
      "\n",
      "QObject::moveToThread: Current thread (0x1381e10) is not the object's thread (0x1d2ea80).\n",
      "Cannot move to target thread (0x1381e10)\n",
      "\n",
      "QObject::moveToThread: Current thread (0x1381e10) is not the object's thread (0x1d2ea80).\n",
      "Cannot move to target thread (0x1381e10)\n",
      "\n",
      "QObject::moveToThread: Current thread (0x1381e10) is not the object's thread (0x1d2ea80).\n",
      "Cannot move to target thread (0x1381e10)\n",
      "\n",
      "QObject::moveToThread: Current thread (0x1381e10) is not the object's thread (0x1d2ea80).\n",
      "Cannot move to target thread (0x1381e10)\n",
      "\n",
      "QObject::moveToThread: Current thread (0x1381e10) is not the object's thread (0x1d2ea80).\n",
      "Cannot move to target thread (0x1381e10)\n",
      "\n",
      "QObject::moveToThread: Current thread (0x1381e10) is not the object's thread (0x1d2ea80).\n",
      "Cannot move to target thread (0x1381e10)\n",
      "\n",
      "QObject::moveToThread: Current thread (0x1381e10) is not the object's thread (0x1d2ea80).\n",
      "Cannot move to target thread (0x1381e10)\n",
      "\n",
      "QObject::moveToThread: Current thread (0x1381e10) is not the object's thread (0x1d2ea80).\n",
      "Cannot move to target thread (0x1381e10)\n",
      "\n",
      "QObject::moveToThread: Current thread (0x1381e10) is not the object's thread (0x1d2ea80).\n",
      "Cannot move to target thread (0x1381e10)\n",
      "\n",
      "QObject::moveToThread: Current thread (0x1381e10) is not the object's thread (0x1d2ea80).\n",
      "Cannot move to target thread (0x1381e10)\n",
      "\n",
      "QObject::moveToThread: Current thread (0x1381e10) is not the object's thread (0x1d2ea80).\n",
      "Cannot move to target thread (0x1381e10)\n",
      "\n",
      "QObject::moveToThread: Current thread (0x1381e10) is not the object's thread (0x1d2ea80).\n",
      "Cannot move to target thread (0x1381e10)\n",
      "\n",
      "QObject::moveToThread: Current thread (0x1381e10) is not the object's thread (0x1d2ea80).\n",
      "Cannot move to target thread (0x1381e10)\n",
      "\n",
      "QObject::moveToThread: Current thread (0x1381e10) is not the object's thread (0x1d2ea80).\n",
      "Cannot move to target thread (0x1381e10)\n",
      "\n",
      "QObject::moveToThread: Current thread (0x1381e10) is not the object's thread (0x1d2ea80).\n",
      "Cannot move to target thread (0x1381e10)\n",
      "\n",
      "QObject::moveToThread: Current thread (0x1381e10) is not the object's thread (0x1d2ea80).\n",
      "Cannot move to target thread (0x1381e10)\n",
      "\n",
      "QObject::moveToThread: Current thread (0x1381e10) is not the object's thread (0x1d2ea80).\n",
      "Cannot move to target thread (0x1381e10)\n",
      "\n",
      "QObject::moveToThread: Current thread (0x1381e10) is not the object's thread (0x1d2ea80).\n",
      "Cannot move to target thread (0x1381e10)\n",
      "\n",
      "QObject::moveToThread: Current thread (0x1381e10) is not the object's thread (0x1d2ea80).\n",
      "Cannot move to target thread (0x1381e10)\n",
      "\n",
      "QObject::moveToThread: Current thread (0x1381e10) is not the object's thread (0x1d2ea80).\n",
      "Cannot move to target thread (0x1381e10)\n",
      "\n",
      "QObject::moveToThread: Current thread (0x1381e10) is not the object's thread (0x1d2ea80).\n",
      "Cannot move to target thread (0x1381e10)\n",
      "\n",
      "QObject::moveToThread: Current thread (0x1381e10) is not the object's thread (0x1d2ea80).\n",
      "Cannot move to target thread (0x1381e10)\n",
      "\n",
      "QObject::moveToThread: Current thread (0x1381e10) is not the object's thread (0x1d2ea80).\n",
      "Cannot move to target thread (0x1381e10)\n",
      "\n",
      "QObject::moveToThread: Current thread (0x1381e10) is not the object's thread (0x1d2ea80).\n",
      "Cannot move to target thread (0x1381e10)\n",
      "\n",
      "QObject::moveToThread: Current thread (0x1381e10) is not the object's thread (0x1d2ea80).\n",
      "Cannot move to target thread (0x1381e10)\n",
      "\n",
      "QObject::moveToThread: Current thread (0x1381e10) is not the object's thread (0x1d2ea80).\n",
      "Cannot move to target thread (0x1381e10)\n",
      "\n",
      "QObject::moveToThread: Current thread (0x1381e10) is not the object's thread (0x1d2ea80).\n",
      "Cannot move to target thread (0x1381e10)\n",
      "\n",
      "QObject::moveToThread: Current thread (0x1381e10) is not the object's thread (0x1d2ea80).\n",
      "Cannot move to target thread (0x1381e10)\n",
      "\n",
      "QObject::moveToThread: Current thread (0x1381e10) is not the object's thread (0x1d2ea80).\n",
      "Cannot move to target thread (0x1381e10)\n",
      "\n",
      "QObject::moveToThread: Current thread (0x1381e10) is not the object's thread (0x1d2ea80).\n",
      "Cannot move to target thread (0x1381e10)\n",
      "\n",
      "QObject::moveToThread: Current thread (0x1381e10) is not the object's thread (0x1d2ea80).\n",
      "Cannot move to target thread (0x1381e10)\n",
      "\n",
      "QObject::moveToThread: Current thread (0x1381e10) is not the object's thread (0x1d2ea80).\n",
      "Cannot move to target thread (0x1381e10)\n",
      "\n",
      "QObject::moveToThread: Current thread (0x1381e10) is not the object's thread (0x1d2ea80).\n",
      "Cannot move to target thread (0x1381e10)\n",
      "\n",
      "QObject::moveToThread: Current thread (0x1381e10) is not the object's thread (0x1d2ea80).\n",
      "Cannot move to target thread (0x1381e10)\n",
      "\n",
      "QObject::moveToThread: Current thread (0x1381e10) is not the object's thread (0x1d2ea80).\n",
      "Cannot move to target thread (0x1381e10)\n",
      "\n",
      "QObject::moveToThread: Current thread (0x1381e10) is not the object's thread (0x1d2ea80).\n",
      "Cannot move to target thread (0x1381e10)\n",
      "\n",
      "QObject::moveToThread: Current thread (0x1381e10) is not the object's thread (0x1d2ea80).\n",
      "Cannot move to target thread (0x1381e10)\n",
      "\n",
      "QObject::moveToThread: Current thread (0x1381e10) is not the object's thread (0x1d2ea80).\n",
      "Cannot move to target thread (0x1381e10)\n",
      "\n",
      "QObject::moveToThread: Current thread (0x1381e10) is not the object's thread (0x1d2ea80).\n",
      "Cannot move to target thread (0x1381e10)\n",
      "\n",
      "QObject::moveToThread: Current thread (0x1381e10) is not the object's thread (0x1d2ea80).\n",
      "Cannot move to target thread (0x1381e10)\n",
      "\n",
      "QObject::moveToThread: Current thread (0x1381e10) is not the object's thread (0x1d2ea80).\n",
      "Cannot move to target thread (0x1381e10)\n",
      "\n",
      "QObject::moveToThread: Current thread (0x1381e10) is not the object's thread (0x1d2ea80).\n",
      "Cannot move to target thread (0x1381e10)\n",
      "\n",
      "QObject::moveToThread: Current thread (0x1381e10) is not the object's thread (0x1d2ea80).\n",
      "Cannot move to target thread (0x1381e10)\n",
      "\n",
      "QObject::moveToThread: Current thread (0x1381e10) is not the object's thread (0x1d2ea80).\n",
      "Cannot move to target thread (0x1381e10)\n",
      "\n",
      "QObject::moveToThread: Current thread (0x1381e10) is not the object's thread (0x1d2ea80).\n",
      "Cannot move to target thread (0x1381e10)\n",
      "\n",
      "QObject::moveToThread: Current thread (0x1381e10) is not the object's thread (0x1d2ea80).\n",
      "Cannot move to target thread (0x1381e10)\n",
      "\n",
      "QObject::moveToThread: Current thread (0x1381e10) is not the object's thread (0x1d2ea80).\n",
      "Cannot move to target thread (0x1381e10)\n",
      "\n",
      "QObject::moveToThread: Current thread (0x1381e10) is not the object's thread (0x1d2ea80).\n",
      "Cannot move to target thread (0x1381e10)\n",
      "\n",
      "QObject::moveToThread: Current thread (0x1381e10) is not the object's thread (0x1d2ea80).\n",
      "Cannot move to target thread (0x1381e10)\n",
      "\n",
      "QObject::moveToThread: Current thread (0x1381e10) is not the object's thread (0x1d2ea80).\n",
      "Cannot move to target thread (0x1381e10)\n",
      "\n",
      "QObject::moveToThread: Current thread (0x1381e10) is not the object's thread (0x1d2ea80).\n",
      "Cannot move to target thread (0x1381e10)\n",
      "\n",
      "QObject::moveToThread: Current thread (0x1381e10) is not the object's thread (0x1d2ea80).\n",
      "Cannot move to target thread (0x1381e10)\n",
      "\n",
      "QObject::moveToThread: Current thread (0x1381e10) is not the object's thread (0x1d2ea80).\n",
      "Cannot move to target thread (0x1381e10)\n",
      "\n",
      "QObject::moveToThread: Current thread (0x1381e10) is not the object's thread (0x1d2ea80).\n",
      "Cannot move to target thread (0x1381e10)\n",
      "\n",
      "QObject::moveToThread: Current thread (0x1381e10) is not the object's thread (0x1d2ea80).\n",
      "Cannot move to target thread (0x1381e10)\n",
      "\n",
      "QObject::moveToThread: Current thread (0x1381e10) is not the object's thread (0x1d2ea80).\n",
      "Cannot move to target thread (0x1381e10)\n",
      "\n",
      "QObject::moveToThread: Current thread (0x1381e10) is not the object's thread (0x1d2ea80).\n",
      "Cannot move to target thread (0x1381e10)\n",
      "\n",
      "QObject::moveToThread: Current thread (0x1381e10) is not the object's thread (0x1d2ea80).\n",
      "Cannot move to target thread (0x1381e10)\n",
      "\n",
      "QObject::moveToThread: Current thread (0x1381e10) is not the object's thread (0x1d2ea80).\n",
      "Cannot move to target thread (0x1381e10)\n",
      "\n",
      "QObject::moveToThread: Current thread (0x1381e10) is not the object's thread (0x1d2ea80).\n",
      "Cannot move to target thread (0x1381e10)\n",
      "\n",
      "QObject::moveToThread: Current thread (0x1381e10) is not the object's thread (0x1d2ea80).\n",
      "Cannot move to target thread (0x1381e10)\n",
      "\n",
      "QObject::moveToThread: Current thread (0x1381e10) is not the object's thread (0x1d2ea80).\n",
      "Cannot move to target thread (0x1381e10)\n",
      "\n",
      "QObject::moveToThread: Current thread (0x1381e10) is not the object's thread (0x1d2ea80).\n",
      "Cannot move to target thread (0x1381e10)\n",
      "\n",
      "QObject::moveToThread: Current thread (0x1381e10) is not the object's thread (0x1d2ea80).\n",
      "Cannot move to target thread (0x1381e10)\n",
      "\n",
      "QObject::moveToThread: Current thread (0x1381e10) is not the object's thread (0x1d2ea80).\n",
      "Cannot move to target thread (0x1381e10)\n",
      "\n",
      "QObject::moveToThread: Current thread (0x1381e10) is not the object's thread (0x1d2ea80).\n",
      "Cannot move to target thread (0x1381e10)\n",
      "\n",
      "QObject::moveToThread: Current thread (0x1381e10) is not the object's thread (0x1d2ea80).\n",
      "Cannot move to target thread (0x1381e10)\n",
      "\n",
      "QObject::moveToThread: Current thread (0x1381e10) is not the object's thread (0x1d2ea80).\n",
      "Cannot move to target thread (0x1381e10)\n",
      "\n",
      "QObject::moveToThread: Current thread (0x1381e10) is not the object's thread (0x1d2ea80).\n",
      "Cannot move to target thread (0x1381e10)\n",
      "\n",
      "QObject::moveToThread: Current thread (0x1381e10) is not the object's thread (0x1d2ea80).\n",
      "Cannot move to target thread (0x1381e10)\n",
      "\n",
      "QObject::moveToThread: Current thread (0x1381e10) is not the object's thread (0x1d2ea80).\n",
      "Cannot move to target thread (0x1381e10)\n",
      "\n",
      "QObject::moveToThread: Current thread (0x1381e10) is not the object's thread (0x1d2ea80).\n",
      "Cannot move to target thread (0x1381e10)\n",
      "\n",
      "QObject::moveToThread: Current thread (0x1381e10) is not the object's thread (0x1d2ea80).\n",
      "Cannot move to target thread (0x1381e10)\n",
      "\n",
      "QObject::moveToThread: Current thread (0x1381e10) is not the object's thread (0x1d2ea80).\n",
      "Cannot move to target thread (0x1381e10)\n",
      "\n",
      "QObject::moveToThread: Current thread (0x1381e10) is not the object's thread (0x1d2ea80).\n",
      "Cannot move to target thread (0x1381e10)\n",
      "\n",
      "QObject::moveToThread: Current thread (0x1381e10) is not the object's thread (0x1d2ea80).\n",
      "Cannot move to target thread (0x1381e10)\n",
      "\n"
     ]
    }
   ],
   "source": [
    "%load_ext autoreload\n",
    "%autoreload 2\n",
    "from bnpm import server"
   ]
  },
  {
   "cell_type": "code",
   "execution_count": 3,
   "id": "47fe1e80",
   "metadata": {},
   "outputs": [],
   "source": [
    "import os\n",
    "from pathlib import Path\n",
    "import functools\n",
    "import tempfile\n",
    "import getpass\n",
    "import gc"
   ]
  },
  {
   "cell_type": "code",
   "execution_count": 4,
   "id": "5393e061",
   "metadata": {},
   "outputs": [],
   "source": [
    "import numpy as np\n",
    "import natsort"
   ]
  },
  {
   "cell_type": "markdown",
   "id": "6114afcd",
   "metadata": {},
   "source": [
    "------------\n",
    "# ==== Start ===="
   ]
  },
  {
   "cell_type": "markdown",
   "id": "ae33b435",
   "metadata": {},
   "source": [
    "## Prepare username + password"
   ]
  },
  {
   "cell_type": "code",
   "execution_count": 5,
   "id": "af73363a",
   "metadata": {},
   "outputs": [
    {
     "name": "stdin",
     "output_type": "stream",
     "text": [
      "Username:  rh183\n",
      "Password:  ········\n"
     ]
    }
   ],
   "source": [
    "remote_host_transfer = \"transfer.rc.hms.harvard.edu\"\n",
    "remote_host_compute = \"o2.hms.harvard.edu\"\n",
    "username = input('Username: ')\n",
    "\n",
    "use_localSshKey = False\n",
    "\n",
    "pw = server.pw_encode(getpass.getpass(prompt='Password: ')) if use_localSshKey==False else None\n",
    "\n",
    "path_sshKey = '/home/rich/.ssh/id_rsa' if use_localSshKey else None"
   ]
  },
  {
   "cell_type": "markdown",
   "id": "e0943efb",
   "metadata": {},
   "source": [
    "## Prepare `sftp` and `ssh` objects"
   ]
  },
  {
   "cell_type": "code",
   "execution_count": 6,
   "id": "702eba22",
   "metadata": {},
   "outputs": [],
   "source": [
    "## initialize ssh_transfer\n",
    "ssh_t = server.ssh_interface(\n",
    "    nbytes_toReceive=20000,\n",
    "    recv_timeout=1,\n",
    "    verbose=True,\n",
    ")"
   ]
  },
  {
   "cell_type": "code",
   "execution_count": 7,
   "id": "fdf1e2ba",
   "metadata": {
    "scrolled": true
   },
   "outputs": [],
   "source": [
    "ssh_t.o2_connect(\n",
    "    hostname=remote_host_transfer,\n",
    "    username=username,\n",
    "    password=server.pw_decode(pw),\n",
    "    key_filename=path_sshKey,\n",
    "    look_for_keys=False,\n",
    "    passcode_method=1,\n",
    "    verbose=0,\n",
    "    skip_passcode=False,    \n",
    ")"
   ]
  },
  {
   "cell_type": "code",
   "execution_count": 8,
   "id": "fa578dd5",
   "metadata": {},
   "outputs": [],
   "source": [
    "## initialize ssh_compute\n",
    "ssh_c = server.ssh_interface(\n",
    "    nbytes_toReceive=20000,\n",
    "    recv_timeout=1,\n",
    "    verbose=True,\n",
    ")\n",
    "ssh_c.o2_connect(\n",
    "    hostname=remote_host_compute,\n",
    "    username=username,\n",
    "    password=server.pw_decode(pw),\n",
    "    key_filename=path_sshKey,\n",
    "    look_for_keys=False,\n",
    "    passcode_method=1,\n",
    "    verbose=0,\n",
    "    skip_passcode=False,    \n",
    ")"
   ]
  },
  {
   "cell_type": "code",
   "execution_count": 9,
   "id": "daea3d7a",
   "metadata": {},
   "outputs": [],
   "source": [
    "sftp = server.sftp_interface(ssh_client=ssh_t.client)"
   ]
  },
  {
   "cell_type": "code",
   "execution_count": 10,
   "id": "21af2f06",
   "metadata": {},
   "outputs": [],
   "source": [
    "prompt_snip = f'[{username}'"
   ]
  },
  {
   "cell_type": "code",
   "execution_count": 11,
   "id": "6d8554e7",
   "metadata": {},
   "outputs": [],
   "source": [
    "send_expect = functools.partial(ssh_c.send_expect, str_success=prompt_snip)"
   ]
  },
  {
   "cell_type": "markdown",
   "id": "ccf6e180",
   "metadata": {},
   "source": [
    "# Batch run"
   ]
  },
  {
   "cell_type": "code",
   "execution_count": 12,
   "id": "8583ba3d-d1b2-49c2-b682-33c7614dbc84",
   "metadata": {},
   "outputs": [],
   "source": [
    "mouse = 'mouse_0403R'"
   ]
  },
  {
   "cell_type": "code",
   "execution_count": 13,
   "id": "3d4b6a6d",
   "metadata": {},
   "outputs": [
    {
     "name": "stdout",
     "output_type": "stream",
     "text": [
      "/n/data1/hms/neurobio/sabatini/gyu/analysis/suite2p_output/mouse_0403R/20230708/scanimage_data/exp\n",
      "/n/data1/hms/neurobio/sabatini/gyu/analysis/suite2p_output/mouse_0403R/20230709/scanimage_data/exp\n",
      "/n/data1/hms/neurobio/sabatini/gyu/analysis/suite2p_output/mouse_0403R/20230702/scanimage_data/exp\n",
      "/n/data1/hms/neurobio/sabatini/gyu/analysis/suite2p_output/mouse_0403R/20230703/scanimage_data/exp\n",
      "/n/data1/hms/neurobio/sabatini/gyu/analysis/suite2p_output/mouse_0403R/20230707/scanimage_data/exp\n",
      "/n/data1/hms/neurobio/sabatini/gyu/analysis/suite2p_output/mouse_0403R/20230706/scanimage_data/exp\n"
     ]
    }
   ],
   "source": [
    "paths_found = natsort.natsorted(sftp.search_recursive(\n",
    "    path=f'/n/data1/hms/neurobio/sabatini/gyu/analysis/suite2p_output/{mouse}/',\n",
    "    search_pattern_re='exp',\n",
    "    max_depth=5,\n",
    "    find_folders=True,\n",
    "    find_files=False,\n",
    "    verbose=True,\n",
    "))"
   ]
  },
  {
   "cell_type": "code",
   "execution_count": 14,
   "id": "67b871e4",
   "metadata": {},
   "outputs": [
    {
     "data": {
      "text/plain": [
       "['20230702', '20230703', '20230706', '20230707', '20230708', '20230709']"
      ]
     },
     "execution_count": 14,
     "metadata": {},
     "output_type": "execute_result"
    }
   ],
   "source": [
    "dates_toUse = natsort.natsorted([Path(p).parts[-3] for p in paths_found])\n",
    "dates_toUse"
   ]
  },
  {
   "cell_type": "raw",
   "id": "2dd9b6e2-a105-4a6e-8ee2-327ea9127c25",
   "metadata": {},
   "source": [
    "dates_toUse = [\n",
    "#     '20230430',\n",
    "#     '20230501',\n",
    "#     '20230502',\n",
    "    '20230503',\n",
    "#     '20230504',\n",
    "    '20230505',\n",
    "    '20230506',\n",
    "#     '20230507',\n",
    "#     '20230508',\n",
    "#     '20230509',\n",
    "    '20230510',\n",
    "#     '20230511',\n",
    "    '20230512',\n",
    "#     '20230514',\n",
    "#     '20230515',\n",
    "    '20230516',\n",
    "#     '20230517',\n",
    "#     '20230518',\n",
    "#     '20230519',\n",
    "#     '20230520',\n",
    "#     '20230521',\n",
    "#     '20230522',\n",
    "    '20230523',\n",
    "    '20230524',\n",
    "    '20230525',\n",
    "    '20230526',\n",
    "#     '20230527',\n",
    "#     '20230528',\n",
    "#     '20230529',\n",
    "    '20230530',\n",
    "#     '20230531',\n",
    "#     '20230601',\n",
    "]"
   ]
  },
  {
   "cell_type": "markdown",
   "id": "f7e4fe93",
   "metadata": {},
   "source": [
    "## Start a small interactive node"
   ]
  },
  {
   "cell_type": "code",
   "execution_count": 15,
   "id": "85a44698-1283-42b6-bfc2-c829dfd999ec",
   "metadata": {},
   "outputs": [
    {
     "name": "stdout",
     "output_type": "stream",
     "text": [
      "bash --pty -p interactive -t 0-00:30:00 --mem=2G /bin/ \n",
      "\n",
      "srun: job 31500428 queued and waiting for resources\n",
      "\n",
      "srun: job 31500428 has been allocated resources\n",
      "\n",
      "(base) [rh183@compute-a-16-163 ~]$ \n"
     ]
    }
   ],
   "source": [
    "send_expect(f'srun --pty -p interactive -t 0-00:30:00 --mem=2G /bin/bash');"
   ]
  },
  {
   "cell_type": "markdown",
   "id": "0cd3c682",
   "metadata": {},
   "source": [
    "## Pull/update repo"
   ]
  },
  {
   "cell_type": "code",
   "execution_count": 16,
   "id": "b0ae3514",
   "metadata": {},
   "outputs": [
    {
     "name": "stdout",
     "output_type": "stream",
     "text": [
      "c\n",
      "_repos/NBAPhms/neurobio/sabatini/rich/github \n",
      "(base) [rh183@compute-a-16-163 NBAP]$ \n",
      "g\n",
      "it pull\n",
      "\n",
      "Already up-to-date.\n",
      "\n",
      "(base) [rh183@compute-a-16-163 NBAP]$ \n"
     ]
    }
   ],
   "source": [
    "send_expect('cd /n/data1/hms/neurobio/sabatini/rich/github_repos/NBAP')\n",
    "send_expect('git pull');"
   ]
  },
  {
   "cell_type": "markdown",
   "id": "4ef493c1",
   "metadata": {},
   "source": [
    "## Activate environment"
   ]
  },
  {
   "cell_type": "code",
   "execution_count": 17,
   "id": "be246a7a",
   "metadata": {},
   "outputs": [
    {
     "name": "stdout",
     "output_type": "stream",
     "text": [
      "con\n",
      "ini/rich/virtual_envs/FR/neurobio/sabat \n",
      "\n",
      "AP]$ ata1/hms/neurobio/sabatini/rich/virtual_envs/FR) [rh183@compute-a-16-163 NBA\n"
     ]
    }
   ],
   "source": [
    "name_env = '/n/data1/hms/neurobio/sabatini/rich/virtual_envs/FR'\n",
    "\n",
    "send_expect(f'conda activate {name_env}');"
   ]
  },
  {
   "cell_type": "markdown",
   "id": "31ce097b",
   "metadata": {},
   "source": [
    "## Prepare commands"
   ]
  },
  {
   "cell_type": "code",
   "execution_count": 17,
   "id": "15b9b098",
   "metadata": {},
   "outputs": [
    {
     "name": "stdout",
     "output_type": "stream",
     "text": [
      "pip \n",
      "install bnpm[core_cv2Headless] face_rhythm[all_cv2Headless] --upgrade\n",
      "\n",
      "Requirement already satisfied: bnpm[core_cv2Headless] in /n/data1/hms/neurobio/sabatini/rich/virtual_envs/FR/lib/python3.9/site-packages (0.3.4)\n",
      "\n",
      "Collecting bnpm[core_cv2Headless]\n",
      "\n",
      "  Downloading bnpm-0.3.5-py3-none-any.whl (195 kB)\n",
      "\u001b[2K     \u001b[90m━━━━━━━━━━━━━━━━━━━━━━━━━━━━━━━━━━━━━━━\u001b[0m \u001b[32m195.6/195.6 kB\u001b[0m \u001b[31m6.4 MB/s\u001b[0m eta \u001b[36m0:00:00\u001b[0m\n",
      "\u001b[?25hRequirement already satisfied: face_rhythm[all_cv2Headless] in /n/data1/hms/neurobio/sabatini/rich/virtual_envs/FR/lib/python3.9/site-packages (0.2.3)\n",
      "\n",
      "Requirement already satisfied: numpy in /n/data1/hms/neurobio/sabatini/rich/virtual_envs/FR/lib/python3.9/site-packages (from bnpm[core_cv2Headless]) (1.26.3)\n",
      "\n",
      "Requirement already satisfied: scipy in /n/data1/hms/neurobio/sabatini/rich/virtual_envs/FR/lib/python3.9/site-packages (from bnpm[core_cv2Headless]) (1.11.1)\n",
      "Requirement already satisfied: kornia in /n/data1/hms/neurobio/sabatini/rich/virtual_envs/FR/lib/python3.9/site-packages (from bnpm[core_cv2Headless]) (0.7.1)\n",
      "Requirement already satisfied: matplotlib in /n/data1/hms/neurobio/sabatini/rich/virtual_envs/FR/lib/python3.9/site-packages (from bnpm[core_cv2Headless]) (3.7.1)\n",
      "Requirement already satisfied: numba in /n/data1/hms/neurobio/sabatini/rich/virtual_envs/FR/lib/python3.9/site-packages (from bnpm[core_cv2Headless]) (0.59.0)\n",
      "Requirement already satisfied: scikit-learn in /n/data1/hms/neurobio/sabatini/rich/virtual_envs/FR/lib/python3.9/site-packages (from bnpm[core_cv2Headless]) (1.4.0)\n",
      "Requirement already satisfied: tqdm in /n/data1/hms/neurobio/sabatini/rich/virtual_envs/FR/lib/python3.9/site-packages (from bnpm[core_cv2Headless]) (4.65.0)\n",
      "Requirement already satisfied: h5py in /n/data1/hms/neurobio/sabatini/rich/virtual_envs/FR/lib/python3.9/site-packages (from bnpm[core_cv2Headless]) (3.9.0)\n",
      "Requirement already satisfied: opencv-contrib-python-headless in /n/data1/hms/neurobio/sabatini/rich/virtual_envs/FR/lib/python3.9/site-packages (from bnpm[core_cv2Headless]) (4.9.0.80)\n",
      "Requirement already satisfied: optuna in /n/data1/hms/neurobio/sabatini/rich/virtual_envs/FR/lib/python3.9/site-packages (from bnpm[core_cv2Headless]) (3.5.0)\n",
      "Requirement already satisfied: sparse in /n/data1/hms/neurobio/sabatini/rich/virtual_envs/FR/lib/python3.9/site-packages (from bnpm[core_cv2Headless]) (0.14.0)\n",
      "Requirement already satisfied: natsort in /n/data1/hms/neurobio/sabatini/rich/virtual_envs/FR/lib/python3.9/site-packages (from bnpm[core_cv2Headless]) (8.4.0)\n",
      "Requirement already satisfied: paramiko in /n/data1/hms/neurobio/sabatini/rich/virtual_envs/FR/lib/python3.9/site-packages (from bnpm[core_cv2Headless]) (3.2.0)\n",
      "Requirement already satisfied: pandas in /n/data1/hms/neurobio/sabatini/rich/virtual_envs/FR/lib/python3.9/site-packages (from bnpm[core_cv2Headless]) (2.0.3)\n",
      "Requirement already satisfied: psutil in /n/data1/hms/neurobio/sabatini/rich/virtual_envs/FR/lib/python3.9/site-packages (from bnpm[core_cv2Headless]) (5.9.5)\n",
      "Requirement already satisfied: pytest in /n/data1/hms/neurobio/sabatini/rich/virtual_envs/FR/lib/python3.9/site-packages (from bnpm[core_cv2Headless]) (7.4.0)\n",
      "Requirement already satisfied: PyYAML in /n/data1/hms/neurobio/sabatini/rich/virtual_envs/FR/lib/python3.9/site-packages (from bnpm[core_cv2Headless]) (5.4.1)\n",
      "Requirement already satisfied: torch in /n/data1/hms/neurobio/sabatini/rich/virtual_envs/FR/lib/python3.9/site-packages (from bnpm[core_cv2Headless]) (2.0.1)\n",
      "Requirement already satisfied: torchvision in /n/data1/hms/neurobio/sabatini/rich/virtual_envs/FR/lib/python3.9/site-packages (from bnpm[core_cv2Headless]) (0.15.2)\n",
      "Requirement already satisfied: torchaudio in /n/data1/hms/neurobio/sabatini/rich/virtual_envs/FR/lib/python3.9/site-packages (from bnpm[core_cv2Headless]) (2.0.2)\n",
      "Requirement already satisfied: ipywidgets in /n/data1/hms/neurobio/sabatini/rich/virtual_envs/FR/lib/python3.9/site-packages (from bnpm[core_cv2Headless]) (8.0.6)\n",
      "Requirement already satisfied: eva-decord in /n/data1/hms/neurobio/sabatini/rich/virtual_envs/FR/lib/python3.9/site-packages (from bnpm[core_cv2Headless]) (0.6.1)\n",
      "\n",
      "Requirement already satisfied: jupyter in /n/data1/hms/neurobio/sabatini/rich/virtual_envs/FR/lib/python3.9/site-packages (from face_rhythm[all_cv2Headless]) (1.0.0)\n",
      "Requirement already satisfied: notebook<7 in /n/data1/hms/neurobio/sabatini/rich/virtual_envs/FR/lib/python3.9/site-packages (from face_rhythm[all_cv2Headless]) (6.5.6)\n",
      "Requirement already satisfied: tensorly==0.8.1 in /n/data1/hms/neurobio/sabatini/rich/virtual_envs/FR/lib/python3.9/site-packages (from face_rhythm[all_cv2Headless]) (0.8.1)\n",
      "Requirement already satisfied: scikit-image in /n/data1/hms/neurobio/sabatini/rich/virtual_envs/FR/lib/python3.9/site-packages (from face_rhythm[all_cv2Headless]) (0.21.0)\n",
      "Requirement already satisfied: Pillow in /n/data1/hms/neurobio/sabatini/rich/virtual_envs/FR/lib/python3.9/site-packages (from face_rhythm[all_cv2Headless]) (10.0.0)\n",
      "Requirement already satisfied: tables in /n/data1/hms/neurobio/sabatini/rich/virtual_envs/FR/lib/python3.9/site-packages (from face_rhythm[all_cv2Headless]) (3.8.0)\n",
      "Requirement already satisfied: einops in /n/data1/hms/neurobio/sabatini/rich/virtual_envs/FR/lib/python3.9/site-packages (from face_rhythm[all_cv2Headless]) (0.6.1)\n",
      "Requirement already satisfied: nvidia-ml-py3 in /n/data1/hms/neurobio/sabatini/rich/virtual_envs/FR/lib/python3.9/site-packages (from face_rhythm[all_cv2Headless]) (7.352.0)\n",
      "Requirement already satisfied: py-cpuinfo in /n/data1/hms/neurobio/sabatini/rich/virtual_envs/FR/lib/python3.9/site-packages (from face_rhythm[all_cv2Headless]) (9.0.0)\n",
      "Requirement already satisfied: GPUtil in /n/data1/hms/neurobio/sabatini/rich/virtual_envs/FR/lib/python3.9/site-packages (from face_rhythm[all_cv2Headless]) (1.4.0)\n",
      "\n",
      "Requirement already satisfied: joblib>=1.2.0 in /n/data1/hms/neurobio/sabatini/rich/virtual_envs/FR/lib/python3.9/site-packages (from scikit-learn->bnpm[core_cv2Headless]) (1.3.1)\n",
      "Requirement already satisfied: threadpoolctl>=2.0.0 in /n/data1/hms/neurobio/sabatini/rich/virtual_envs/FR/lib/python3.9/site-packages (from scikit-learn->bnpm[core_cv2Headless]) (3.1.0)\n",
      "Requirement already satisfied: jinja2 in /n/data1/hms/neurobio/sabatini/rich/virtual_envs/FR/lib/python3.9/site-packages (from notebook<7->face_rhythm[all_cv2Headless]) (3.1.2)\n",
      "Requirement already satisfied: tornado>=6.1 in /n/data1/hms/neurobio/sabatini/rich/virtual_envs/FR/lib/python3.9/site-packages (from notebook<7->face_rhythm[all_cv2Headless]) (6.3.2)\n",
      "Requirement already satisfied: pyzmq<25,>=17 in /n/data1/hms/neurobio/sabatini/rich/virtual_envs/FR/lib/python3.9/site-packages (from notebook<7->face_rhythm[all_cv2Headless]) (24.0.1)\n",
      "Requirement already satisfied: argon2-cffi in /n/data1/hms/neurobio/sabatini/rich/virtual_envs/FR/lib/python3.9/site-packages (from notebook<7->face_rhythm[all_cv2Headless]) (21.3.0)\n",
      "Requirement already satisfied: traitlets>=4.2.1 in /n/data1/hms/neurobio/sabatini/rich/virtual_envs/FR/lib/python3.9/site-packages (from notebook<7->face_rhythm[all_cv2Headless]) (5.9.0)\n",
      "Requirement already satisfied: jupyter-core>=4.6.1 in /n/data1/hms/neurobio/sabatini/rich/virtual_envs/FR/lib/python3.9/site-packages (from notebook<7->face_rhythm[all_cv2Headless]) (5.3.1)\n",
      "Requirement already satisfied: jupyter-client<8,>=5.3.4 in /n/data1/hms/neurobio/sabatini/rich/virtual_envs/FR/lib/python3.9/site-packages (from notebook<7->face_rhythm[all_cv2Headless]) (7.4.9)\n",
      "Requirement already satisfied: ipython-genutils in /n/data1/hms/neurobio/sabatini/rich/virtual_envs/FR/lib/python3.9/site-packages (from notebook<7->face_rhythm[all_cv2Headless]) (0.2.0)\n",
      "Requirement already satisfied: nbformat in /n/data1/hms/neurobio/sabatini/rich/virtual_envs/FR/lib/python3.9/site-packages (from notebook<7->face_rhythm[all_cv2Headless]) (5.9.0)\n",
      "Requirement already satisfied: nbconvert>=5 in /n/data1/hms/neurobio/sabatini/rich/virtual_envs/FR/lib/python3.9/site-packages (from notebook<7->face_rhythm[all_cv2Headless]) (7.6.0)\n",
      "Requirement already satisfied: nest-asyncio>=1.5 in /n/data1/hms/neurobio/sabatini/rich/virtual_envs/FR/lib/python3.9/site-packages (from notebook<7->face_rhythm[all_cv2Headless]) (1.5.6)\n",
      "Requirement already satisfied: ipykernel in /n/data1/hms/neurobio/sabatini/rich/virtual_envs/FR/lib/python3.9/site-packages (from notebook<7->face_rhythm[all_cv2Headless]) (6.23.3)\n",
      "Requirement already satisfied: Send2Trash>=1.8.0 in /n/data1/hms/neurobio/sabatini/rich/virtual_envs/FR/lib/python3.9/site-packages (from notebook<7->face_rhythm[all_cv2Headless]) (1.8.2)\n",
      "Requirement already satisfied: terminado>=0.8.3 in /n/data1/hms/neurobio/sabatini/rich/virtual_envs/FR/lib/python3.9/site-packages (from notebook<7->face_rhythm[all_cv2Headless]) (0.17.1)\n",
      "Requirement already satisfied: prometheus-client in /n/data1/hms/neurobio/sabatini/rich/virtual_envs/FR/lib/python3.9/site-packages (from notebook<7->face_rhythm[all_cv2Headless]) (0.17.0)\n",
      "Requirement already satisfied: nbclassic>=0.4.7 in /n/data1/hms/neurobio/sabatini/rich/virtual_envs/FR/lib/python3.9/site-packages (from notebook<7->face_rhythm[all_cv2Headless]) (1.0.0)\n",
      "\n",
      "Requirement already satisfied: ipython>=6.1.0 in /n/data1/hms/neurobio/sabatini/rich/virtual_envs/FR/lib/python3.9/site-packages (from ipywidgets->bnpm[core_cv2Headless]) (8.14.0)\n",
      "Requirement already satisfied: widgetsnbextension~=4.0.7 in /n/data1/hms/neurobio/sabatini/rich/virtual_envs/FR/lib/python3.9/site-packages (from ipywidgets->bnpm[core_cv2Headless]) (4.0.7)\n",
      "Requirement already satisfied: jupyterlab-widgets~=3.0.7 in /n/data1/hms/neurobio/sabatini/rich/virtual_envs/FR/lib/python3.9/site-packages (from ipywidgets->bnpm[core_cv2Headless]) (3.0.7)\n",
      "Requirement already satisfied: qtconsole in /n/data1/hms/neurobio/sabatini/rich/virtual_envs/FR/lib/python3.9/site-packages (from jupyter->face_rhythm[all_cv2Headless]) (5.5.1)\n",
      "Requirement already satisfied: jupyter-console in /n/data1/hms/neurobio/sabatini/rich/virtual_envs/FR/lib/python3.9/site-packages (from jupyter->face_rhythm[all_cv2Headless]) (6.6.3)\n",
      "\n",
      "Requirement already satisfied: packaging in /n/data1/hms/neurobio/sabatini/rich/virtual_envs/FR/lib/python3.9/site-packages (from kornia->bnpm[core_cv2Headless]) (23.1)\n",
      "Requirement already satisfied: filelock in /n/data1/hms/neurobio/sabatini/rich/virtual_envs/FR/lib/python3.9/site-packages (from torch->bnpm[core_cv2Headless]) (3.12.2)\n",
      "Requirement already satisfied: typing-extensions in /n/data1/hms/neurobio/sabatini/rich/virtual_envs/FR/lib/python3.9/site-packages (from torch->bnpm[core_cv2Headless]) (4.7.0)\n",
      "Requirement already satisfied: sympy in /n/data1/hms/neurobio/sabatini/rich/virtual_envs/FR/lib/python3.9/site-packages (from torch->bnpm[core_cv2Headless]) (1.12)\n",
      "Requirement already satisfied: networkx in /n/data1/hms/neurobio/sabatini/rich/virtual_envs/FR/lib/python3.9/site-packages (from torch->bnpm[core_cv2Headless]) (3.1)\n",
      "Requirement already satisfied: nvidia-cuda-nvrtc-cu11==11.7.99 in /n/data1/hms/neurobio/sabatini/rich/virtual_envs/FR/lib/python3.9/site-packages (from torch->bnpm[core_cv2Headless]) (11.7.99)\n",
      "Requirement already satisfied: nvidia-cuda-runtime-cu11==11.7.99 in /n/data1/hms/neurobio/sabatini/rich/virtual_envs/FR/lib/python3.9/site-packages (from torch->bnpm[core_cv2Headless]) (11.7.99)\n",
      "Requirement already satisfied: nvidia-cuda-cupti-cu11==11.7.101 in /n/data1/hms/neurobio/sabatini/rich/virtual_envs/FR/lib/python3.9/site-packages (from torch->bnpm[core_cv2Headless]) (11.7.101)\n",
      "Requirement already satisfied: nvidia-cudnn-cu11==8.5.0.96 in /n/data1/hms/neurobio/sabatini/rich/virtual_envs/FR/lib/python3.9/site-packages (from torch->bnpm[core_cv2Headless]) (8.5.0.96)\n",
      "Requirement already satisfied: nvidia-cublas-cu11==11.10.3.66 in /n/data1/hms/neurobio/sabatini/rich/virtual_envs/FR/lib/python3.9/site-packages (from torch->bnpm[core_cv2Headless]) (11.10.3.66)\n",
      "Requirement already satisfied: nvidia-cufft-cu11==10.9.0.58 in /n/data1/hms/neurobio/sabatini/rich/virtual_envs/FR/lib/python3.9/site-packages (from torch->bnpm[core_cv2Headless]) (10.9.0.58)\n",
      "Requirement already satisfied: nvidia-curand-cu11==10.2.10.91 in /n/data1/hms/neurobio/sabatini/rich/virtual_envs/FR/lib/python3.9/site-packages (from torch->bnpm[core_cv2Headless]) (10.2.10.91)\n",
      "Requirement already satisfied: nvidia-cusolver-cu11==11.4.0.1 in /n/data1/hms/neurobio/sabatini/rich/virtual_envs/FR/lib/python3.9/site-packages (from torch->bnpm[core_cv2Headless]) (11.4.0.1)\n",
      "Requirement already satisfied: nvidia-cusparse-cu11==11.7.4.91 in /n/data1/hms/neurobio/sabatini/rich/virtual_envs/FR/lib/python3.9/site-packages (from torch->bnpm[core_cv2Headless]) (11.7.4.91)\n",
      "Requirement already satisfied: nvidia-nccl-cu11==2.14.3 in /n/data1/hms/neurobio/sabatini/rich/virtual_envs/FR/lib/python3.9/site-packages (from torch->bnpm[core_cv2Headless]) (2.14.3)\n",
      "Requirement already satisfied: nvidia-nvtx-cu11==11.7.91 in /n/data1/hms/neurobio/sabatini/rich/virtual_envs/FR/lib/python3.9/site-packages (from torch->bnpm[core_cv2Headless]) (11.7.91)\n",
      "Requirement already satisfied: triton==2.0.0 in /n/data1/hms/neurobio/sabatini/rich/virtual_envs/FR/lib/python3.9/site-packages (from torch->bnpm[core_cv2Headless]) (2.0.0)\n",
      "\n"
     ]
    },
    {
     "name": "stdout",
     "output_type": "stream",
     "text": [
      "Requirement already satisfied: setuptools in /n/data1/hms/neurobio/sabatini/rich/virtual_envs/FR/lib/python3.9/site-packages (from nvidia-cublas-cu11==11.10.3.66->torch->bnpm[core_cv2Headless]) (68.0.0)\n",
      "Requirement already satisfied: wheel in /n/data1/hms/neurobio/sabatini/rich/virtual_envs/FR/lib/python3.9/site-packages (from nvidia-cublas-cu11==11.10.3.66->torch->bnpm[core_cv2Headless]) (0.40.0)\n",
      "Requirement already satisfied: cmake in /n/data1/hms/neurobio/sabatini/rich/virtual_envs/FR/lib/python3.9/site-packages (from triton==2.0.0->torch->bnpm[core_cv2Headless]) (3.26.4)\n",
      "Requirement already satisfied: lit in /n/data1/hms/neurobio/sabatini/rich/virtual_envs/FR/lib/python3.9/site-packages (from triton==2.0.0->torch->bnpm[core_cv2Headless]) (16.0.6)\n",
      "Requirement already satisfied: contourpy>=1.0.1 in /n/data1/hms/neurobio/sabatini/rich/virtual_envs/FR/lib/python3.9/site-packages (from matplotlib->bnpm[core_cv2Headless]) (1.1.0)\n",
      "Requirement already satisfied: cycler>=0.10 in /n/data1/hms/neurobio/sabatini/rich/virtual_envs/FR/lib/python3.9/site-packages (from matplotlib->bnpm[core_cv2Headless]) (0.11.0)\n",
      "Requirement already satisfied: fonttools>=4.22.0 in /n/data1/hms/neurobio/sabatini/rich/virtual_envs/FR/lib/python3.9/site-packages (from matplotlib->bnpm[core_cv2Headless]) (4.40.0)\n",
      "Requirement already satisfied: kiwisolver>=1.0.1 in /n/data1/hms/neurobio/sabatini/rich/virtual_envs/FR/lib/python3.9/site-packages (from matplotlib->bnpm[core_cv2Headless]) (1.4.4)\n",
      "Requirement already satisfied: pyparsing>=2.3.1 in /n/data1/hms/neurobio/sabatini/rich/virtual_envs/FR/lib/python3.9/site-packages (from matplotlib->bnpm[core_cv2Headless]) (3.1.0)\n",
      "Requirement already satisfied: python-dateutil>=2.7 in /n/data1/hms/neurobio/sabatini/rich/virtual_envs/FR/lib/python3.9/site-packages (from matplotlib->bnpm[core_cv2Headless]) (2.8.2)\n",
      "Requirement already satisfied: importlib-resources>=3.2.0 in /n/data1/hms/neurobio/sabatini/rich/virtual_envs/FR/lib/python3.9/site-packages (from matplotlib->bnpm[core_cv2Headless]) (5.12.0)\n",
      "\n",
      "Requirement already satisfied: llvmlite<0.43,>=0.42.0dev0 in /n/data1/hms/neurobio/sabatini/rich/virtual_envs/FR/lib/python3.9/site-packages (from numba->bnpm[core_cv2Headless]) (0.42.0)\n",
      "\n",
      "Requirement already satisfied: alembic>=1.5.0 in /n/data1/hms/neurobio/sabatini/rich/virtual_envs/FR/lib/python3.9/site-packages (from optuna->bnpm[core_cv2Headless]) (1.13.1)\n",
      "Requirement already satisfied: colorlog in /n/data1/hms/neurobio/sabatini/rich/virtual_envs/FR/lib/python3.9/site-packages (from optuna->bnpm[core_cv2Headless]) (6.8.2)\n",
      "Requirement already satisfied: sqlalchemy>=1.3.0 in /n/data1/hms/neurobio/sabatini/rich/virtual_envs/FR/lib/python3.9/site-packages (from optuna->bnpm[core_cv2Headless]) (2.0.25)\n",
      "\n",
      "Requirement already satisfied: pytz>=2020.1 in /n/data1/hms/neurobio/sabatini/rich/virtual_envs/FR/lib/python3.9/site-packages (from pandas->bnpm[core_cv2Headless]) (2023.3)\n",
      "Requirement already satisfied: tzdata>=2022.1 in /n/data1/hms/neurobio/sabatini/rich/virtual_envs/FR/lib/python3.9/site-packages (from pandas->bnpm[core_cv2Headless]) (2023.3)\n",
      "Requirement already satisfied: bcrypt>=3.2 in /n/data1/hms/neurobio/sabatini/rich/virtual_envs/FR/lib/python3.9/site-packages (from paramiko->bnpm[core_cv2Headless]) (4.0.1)\n",
      "Requirement already satisfied: cryptography>=3.3 in /n/data1/hms/neurobio/sabatini/rich/virtual_envs/FR/lib/python3.9/site-packages (from paramiko->bnpm[core_cv2Headless]) (41.0.2)\n",
      "Requirement already satisfied: pynacl>=1.5 in /n/data1/hms/neurobio/sabatini/rich/virtual_envs/FR/lib/python3.9/site-packages (from paramiko->bnpm[core_cv2Headless]) (1.5.0)\n",
      "Requirement already satisfied: iniconfig in /n/data1/hms/neurobio/sabatini/rich/virtual_envs/FR/lib/python3.9/site-packages (from pytest->bnpm[core_cv2Headless]) (2.0.0)\n",
      "Requirement already satisfied: pluggy<2.0,>=0.12 in /n/data1/hms/neurobio/sabatini/rich/virtual_envs/FR/lib/python3.9/site-packages (from pytest->bnpm[core_cv2Headless]) (1.2.0)\n",
      "Requirement already satisfied: exceptiongroup>=1.0.0rc8 in /n/data1/hms/neurobio/sabatini/rich/virtual_envs/FR/lib/python3.9/site-packages (from pytest->bnpm[core_cv2Headless]) (1.1.1)\n",
      "\n",
      "Requirement already satisfied: tomli>=1.0.0 in /n/data1/hms/neurobio/sabatini/rich/virtual_envs/FR/lib/python3.9/site-packages (from pytest->bnpm[core_cv2Headless]) (2.0.1)\n",
      "Requirement already satisfied: imageio>=2.27 in /n/data1/hms/neurobio/sabatini/rich/virtual_envs/FR/lib/python3.9/site-packages (from scikit-image->face_rhythm[all_cv2Headless]) (2.31.1)\n",
      "Requirement already satisfied: tifffile>=2022.8.12 in /n/data1/hms/neurobio/sabatini/rich/virtual_envs/FR/lib/python3.9/site-packages (from scikit-image->face_rhythm[all_cv2Headless]) (2023.4.12)\n",
      "\n",
      "Requirement already satisfied: PyWavelets>=1.1.1 in /n/data1/hms/neurobio/sabatini/rich/virtual_envs/FR/lib/python3.9/site-packages (from scikit-image->face_rhythm[all_cv2Headless]) (1.4.1)\n",
      "Requirement already satisfied: lazy_loader>=0.2 in /n/data1/hms/neurobio/sabatini/rich/virtual_envs/FR/lib/python3.9/site-packages (from scikit-image->face_rhythm[all_cv2Headless]) (0.3)\n",
      "Requirement already satisfied: cython>=0.29.21 in /n/data1/hms/neurobio/sabatini/rich/virtual_envs/FR/lib/python3.9/site-packages (from tables->face_rhythm[all_cv2Headless]) (0.29.35)\n",
      "Requirement already satisfied: numexpr>=2.6.2 in /n/data1/hms/neurobio/sabatini/rich/virtual_envs/FR/lib/python3.9/site-packages (from tables->face_rhythm[all_cv2Headless]) (2.8.4)\n",
      "Requirement already satisfied: blosc2~=2.0.0 in /n/data1/hms/neurobio/sabatini/rich/virtual_envs/FR/lib/python3.9/site-packages (from tables->face_rhythm[all_cv2Headless]) (2.0.0)\n",
      "Requirement already satisfied: requests in /n/data1/hms/neurobio/sabatini/rich/virtual_envs/FR/lib/python3.9/site-packages (from torchvision->bnpm[core_cv2Headless]) (2.31.0)\n",
      "\n",
      "Requirement already satisfied: Mako in /n/data1/hms/neurobio/sabatini/rich/virtual_envs/FR/lib/python3.9/site-packages (from alembic>=1.5.0->optuna->bnpm[core_cv2Headless]) (1.3.2)\n",
      "Requirement already satisfied: msgpack in /n/data1/hms/neurobio/sabatini/rich/virtual_envs/FR/lib/python3.9/site-packages (from blosc2~=2.0.0->tables->face_rhythm[all_cv2Headless]) (1.0.5)\n",
      "Requirement already satisfied: cffi>=1.12 in /n/data1/hms/neurobio/sabatini/rich/virtual_envs/FR/lib/python3.9/site-packages (from cryptography>=3.3->paramiko->bnpm[core_cv2Headless]) (1.15.1)\n",
      "\n",
      "Requirement already satisfied: zipp>=3.1.0 in /n/data1/hms/neurobio/sabatini/rich/virtual_envs/FR/lib/python3.9/site-packages (from importlib-resources>=3.2.0->matplotlib->bnpm[core_cv2Headless]) (3.15.0)\n",
      "\n",
      "Requirement already satisfied: comm>=0.1.1 in /n/data1/hms/neurobio/sabatini/rich/virtual_envs/FR/lib/python3.9/site-packages (from ipykernel->notebook<7->face_rhythm[all_cv2Headless]) (0.1.3)\n",
      "Requirement already satisfied: debugpy>=1.6.5 in /n/data1/hms/neurobio/sabatini/rich/virtual_envs/FR/lib/python3.9/site-packages (from ipykernel->notebook<7->face_rhythm[all_cv2Headless]) (1.6.7)\n",
      "Requirement already satisfied: matplotlib-inline>=0.1 in /n/data1/hms/neurobio/sabatini/rich/virtual_envs/FR/lib/python3.9/site-packages (from ipykernel->notebook<7->face_rhythm[all_cv2Headless]) (0.1.6)\n",
      "\n",
      "Requirement already satisfied: backcall in /n/data1/hms/neurobio/sabatini/rich/virtual_envs/FR/lib/python3.9/site-packages (from ipython>=6.1.0->ipywidgets->bnpm[core_cv2Headless]) (0.2.0)\n",
      "Requirement already satisfied: decorator in /n/data1/hms/neurobio/sabatini/rich/virtual_envs/FR/lib/python3.9/site-packages (from ipython>=6.1.0->ipywidgets->bnpm[core_cv2Headless]) (5.1.1)\n",
      "Requirement already satisfied: jedi>=0.16 in /n/data1/hms/neurobio/sabatini/rich/virtual_envs/FR/lib/python3.9/site-packages (from ipython>=6.1.0->ipywidgets->bnpm[core_cv2Headless]) (0.18.2)\n",
      "Requirement already satisfied: pickleshare in /n/data1/hms/neurobio/sabatini/rich/virtual_envs/FR/lib/python3.9/site-packages (from ipython>=6.1.0->ipywidgets->bnpm[core_cv2Headless]) (0.7.5)\n",
      "Requirement already satisfied: prompt-toolkit!=3.0.37,<3.1.0,>=3.0.30 in /n/data1/hms/neurobio/sabatini/rich/virtual_envs/FR/lib/python3.9/site-packages (from ipython>=6.1.0->ipywidgets->bnpm[core_cv2Headless]) (3.0.38)\n",
      "Requirement already satisfied: pygments>=2.4.0 in /n/data1/hms/neurobio/sabatini/rich/virtual_envs/FR/lib/python3.9/site-packages (from ipython>=6.1.0->ipywidgets->bnpm[core_cv2Headless]) (2.15.1)\n",
      "Requirement already satisfied: stack-data in /n/data1/hms/neurobio/sabatini/rich/virtual_envs/FR/lib/python3.9/site-packages (from ipython>=6.1.0->ipywidgets->bnpm[core_cv2Headless]) (0.6.2)\n",
      "Requirement already satisfied: pexpect>4.3 in /n/data1/hms/neurobio/sabatini/rich/virtual_envs/FR/lib/python3.9/site-packages (from ipython>=6.1.0->ipywidgets->bnpm[core_cv2Headless]) (4.8.0)\n",
      "Requirement already satisfied: entrypoints in /n/data1/hms/neurobio/sabatini/rich/virtual_envs/FR/lib/python3.9/site-packages (from jupyter-client<8,>=5.3.4->notebook<7->face_rhythm[all_cv2Headless]) (0.4)\n",
      "Requirement already satisfied: platformdirs>=2.5 in /n/data1/hms/neurobio/sabatini/rich/virtual_envs/FR/lib/python3.9/site-packages (from jupyter-core>=4.6.1->notebook<7->face_rhythm[all_cv2Headless]) (3.8.0)\n",
      "\n",
      "Requirement already satisfied: jupyter-server>=1.8 in /n/data1/hms/neurobio/sabatini/rich/virtual_envs/FR/lib/python3.9/site-packages (from nbclassic>=0.4.7->notebook<7->face_rhythm[all_cv2Headless]) (2.7.0)\n",
      "Requirement already satisfied: notebook-shim>=0.2.3 in /n/data1/hms/neurobio/sabatini/rich/virtual_envs/FR/lib/python3.9/site-packages (from nbclassic>=0.4.7->notebook<7->face_rhythm[all_cv2Headless]) (0.2.3)\n",
      "\n"
     ]
    },
    {
     "name": "stdout",
     "output_type": "stream",
     "text": [
      "Requirement already satisfied: beautifulsoup4 in /n/data1/hms/neurobio/sabatini/rich/virtual_envs/FR/lib/python3.9/site-packages (from nbconvert>=5->notebook<7->face_rhythm[all_cv2Headless]) (4.12.2)\n",
      "Requirement already satisfied: bleach!=5.0.0 in /n/data1/hms/neurobio/sabatini/rich/virtual_envs/FR/lib/python3.9/site-packages (from nbconvert>=5->notebook<7->face_rhythm[all_cv2Headless]) (6.0.0)\n",
      "Requirement already satisfied: defusedxml in /n/data1/hms/neurobio/sabatini/rich/virtual_envs/FR/lib/python3.9/site-packages (from nbconvert>=5->notebook<7->face_rhythm[all_cv2Headless]) (0.7.1)\n",
      "Requirement already satisfied: importlib-metadata>=3.6 in /n/data1/hms/neurobio/sabatini/rich/virtual_envs/FR/lib/python3.9/site-packages (from nbconvert>=5->notebook<7->face_rhythm[all_cv2Headless]) (6.7.0)\n",
      "Requirement already satisfied: jupyterlab-pygments in /n/data1/hms/neurobio/sabatini/rich/virtual_envs/FR/lib/python3.9/site-packages (from nbconvert>=5->notebook<7->face_rhythm[all_cv2Headless]) (0.2.2)\n",
      "Requirement already satisfied: markupsafe>=2.0 in /n/data1/hms/neurobio/sabatini/rich/virtual_envs/FR/lib/python3.9/site-packages (from nbconvert>=5->notebook<7->face_rhythm[all_cv2Headless]) (2.1.3)\n",
      "Requirement already satisfied: mistune<4,>=2.0.3 in /n/data1/hms/neurobio/sabatini/rich/virtual_envs/FR/lib/python3.9/site-packages (from nbconvert>=5->notebook<7->face_rhythm[all_cv2Headless]) (3.0.1)\n",
      "Requirement already satisfied: nbclient>=0.5.0 in /n/data1/hms/neurobio/sabatini/rich/virtual_envs/FR/lib/python3.9/site-packages (from nbconvert>=5->notebook<7->face_rhythm[all_cv2Headless]) (0.8.0)\n",
      "Requirement already satisfied: pandocfilters>=1.4.1 in /n/data1/hms/neurobio/sabatini/rich/virtual_envs/FR/lib/python3.9/site-packages (from nbconvert>=5->notebook<7->face_rhythm[all_cv2Headless]) (1.5.0)\n",
      "Requirement already satisfied: tinycss2 in /n/data1/hms/neurobio/sabatini/rich/virtual_envs/FR/lib/python3.9/site-packages (from nbconvert>=5->notebook<7->face_rhythm[all_cv2Headless]) (1.2.1)\n",
      "Requirement already satisfied: fastjsonschema in /n/data1/hms/neurobio/sabatini/rich/virtual_envs/FR/lib/python3.9/site-packages (from nbformat->notebook<7->face_rhythm[all_cv2Headless]) (2.17.1)\n",
      "Requirement already satisfied: jsonschema>=2.6 in /n/data1/hms/neurobio/sabatini/rich/virtual_envs/FR/lib/python3.9/site-packages (from nbformat->notebook<7->face_rhythm[all_cv2Headless]) (4.17.3)\n",
      "\n",
      "Requirement already satisfied: six>=1.5 in /n/data1/hms/neurobio/sabatini/rich/virtual_envs/FR/lib/python3.9/site-packages (from python-dateutil>=2.7->matplotlib->bnpm[core_cv2Headless]) (1.16.0)\n",
      "\n",
      "Requirement already satisfied: greenlet!=0.4.17 in /n/data1/hms/neurobio/sabatini/rich/virtual_envs/FR/lib/python3.9/site-packages (from sqlalchemy>=1.3.0->optuna->bnpm[core_cv2Headless]) (3.0.3)\n",
      "\n",
      "Requirement already satisfied: ptyprocess in /n/data1/hms/neurobio/sabatini/rich/virtual_envs/FR/lib/python3.9/site-packages (from terminado>=0.8.3->notebook<7->face_rhythm[all_cv2Headless]) (0.7.0)\n",
      "\n",
      "Requirement already satisfied: argon2-cffi-bindings in /n/data1/hms/neurobio/sabatini/rich/virtual_envs/FR/lib/python3.9/site-packages (from argon2-cffi->notebook<7->face_rhythm[all_cv2Headless]) (21.2.0)\n",
      "\n",
      "Requirement already satisfied: qtpy>=2.4.0 in /n/data1/hms/neurobio/sabatini/rich/virtual_envs/FR/lib/python3.9/site-packages (from qtconsole->jupyter->face_rhythm[all_cv2Headless]) (2.4.1)\n",
      "\n",
      "Requirement already satisfied: charset-normalizer<4,>=2 in /n/data1/hms/neurobio/sabatini/rich/virtual_envs/FR/lib/python3.9/site-packages (from requests->torchvision->bnpm[core_cv2Headless]) (3.1.0)\n",
      "Requirement already satisfied: idna<4,>=2.5 in /n/data1/hms/neurobio/sabatini/rich/virtual_envs/FR/lib/python3.9/site-packages (from requests->torchvision->bnpm[core_cv2Headless]) (3.4)\n",
      "Requirement already satisfied: urllib3<3,>=1.21.1 in /n/data1/hms/neurobio/sabatini/rich/virtual_envs/FR/lib/python3.9/site-packages (from requests->torchvision->bnpm[core_cv2Headless]) (2.0.3)\n",
      "Requirement already satisfied: certifi>=2017.4.17 in /n/data1/hms/neurobio/sabatini/rich/virtual_envs/FR/lib/python3.9/site-packages (from requests->torchvision->bnpm[core_cv2Headless]) (2023.5.7)\n",
      "Requirement already satisfied: mpmath>=0.19 in /n/data1/hms/neurobio/sabatini/rich/virtual_envs/FR/lib/python3.9/site-packages (from sympy->torch->bnpm[core_cv2Headless]) (1.3.0)\n",
      "Requirement already satisfied: webencodings in /n/data1/hms/neurobio/sabatini/rich/virtual_envs/FR/lib/python3.9/site-packages (from bleach!=5.0.0->nbconvert>=5->notebook<7->face_rhythm[all_cv2Headless]) (0.5.1)\n",
      "\n",
      "Requirement already satisfied: pycparser in /n/data1/hms/neurobio/sabatini/rich/virtual_envs/FR/lib/python3.9/site-packages (from cffi>=1.12->cryptography>=3.3->paramiko->bnpm[core_cv2Headless]) (2.21)\n",
      "\n",
      "Requirement already satisfied: parso<0.9.0,>=0.8.0 in /n/data1/hms/neurobio/sabatini/rich/virtual_envs/FR/lib/python3.9/site-packages (from jedi>=0.16->ipython>=6.1.0->ipywidgets->bnpm[core_cv2Headless]) (0.8.3)\n",
      "\n",
      "Requirement already satisfied: attrs>=17.4.0 in /n/data1/hms/neurobio/sabatini/rich/virtual_envs/FR/lib/python3.9/site-packages (from jsonschema>=2.6->nbformat->notebook<7->face_rhythm[all_cv2Headless]) (23.1.0)\n",
      "Requirement already satisfied: pyrsistent!=0.17.0,!=0.17.1,!=0.17.2,>=0.14.0 in /n/data1/hms/neurobio/sabatini/rich/virtual_envs/FR/lib/python3.9/site-packages (from jsonschema>=2.6->nbformat->notebook<7->face_rhythm[all_cv2Headless]) (0.19.3)\n",
      "Requirement already satisfied: anyio>=3.1.0 in /n/data1/hms/neurobio/sabatini/rich/virtual_envs/FR/lib/python3.9/site-packages (from jupyter-server>=1.8->nbclassic>=0.4.7->notebook<7->face_rhythm[all_cv2Headless]) (3.7.0)\n",
      "Requirement already satisfied: jupyter-events>=0.6.0 in /n/data1/hms/neurobio/sabatini/rich/virtual_envs/FR/lib/python3.9/site-packages (from jupyter-server>=1.8->nbclassic>=0.4.7->notebook<7->face_rhythm[all_cv2Headless]) (0.6.3)\n",
      "Requirement already satisfied: jupyter-server-terminals in /n/data1/hms/neurobio/sabatini/rich/virtual_envs/FR/lib/python3.9/site-packages (from jupyter-server>=1.8->nbclassic>=0.4.7->notebook<7->face_rhythm[all_cv2Headless]) (0.4.4)\n",
      "Requirement already satisfied: overrides in /n/data1/hms/neurobio/sabatini/rich/virtual_envs/FR/lib/python3.9/site-packages (from jupyter-server>=1.8->nbclassic>=0.4.7->notebook<7->face_rhythm[all_cv2Headless]) (7.3.1)\n",
      "\n",
      "Requirement already satisfied: websocket-client in /n/data1/hms/neurobio/sabatini/rich/virtual_envs/FR/lib/python3.9/site-packages (from jupyter-server>=1.8->nbclassic>=0.4.7->notebook<7->face_rhythm[all_cv2Headless]) (1.6.1)\n",
      "\n",
      "Requirement already satisfied: wcwidth in /n/data1/hms/neurobio/sabatini/rich/virtual_envs/FR/lib/python3.9/site-packages (from prompt-toolkit!=3.0.37,<3.1.0,>=3.0.30->ipython>=6.1.0->ipywidgets->bnpm[core_cv2Headless]) (0.2.6)\n",
      "\n",
      "Requirement already satisfied: soupsieve>1.2 in /n/data1/hms/neurobio/sabatini/rich/virtual_envs/FR/lib/python3.9/site-packages (from beautifulsoup4->nbconvert>=5->notebook<7->face_rhythm[all_cv2Headless]) (2.4.1)\n",
      "\n",
      "Requirement already satisfied: executing>=1.2.0 in /n/data1/hms/neurobio/sabatini/rich/virtual_envs/FR/lib/python3.9/site-packages (from stack-data->ipython>=6.1.0->ipywidgets->bnpm[core_cv2Headless]) (1.2.0)\n",
      "\n",
      "Requirement already satisfied: asttokens>=2.1.0 in /n/data1/hms/neurobio/sabatini/rich/virtual_envs/FR/lib/python3.9/site-packages (from stack-data->ipython>=6.1.0->ipywidgets->bnpm[core_cv2Headless]) (2.2.1)\n",
      "Requirement already satisfied: pure-eval in /n/data1/hms/neurobio/sabatini/rich/virtual_envs/FR/lib/python3.9/site-packages (from stack-data->ipython>=6.1.0->ipywidgets->bnpm[core_cv2Headless]) (0.2.2)\n",
      "\n",
      "Requirement already satisfied: sniffio>=1.1 in /n/data1/hms/neurobio/sabatini/rich/virtual_envs/FR/lib/python3.9/site-packages (from anyio>=3.1.0->jupyter-server>=1.8->nbclassic>=0.4.7->notebook<7->face_rhythm[all_cv2Headless]) (1.3.0)\n",
      "\n",
      "Requirement already satisfied: python-json-logger>=2.0.4 in /n/data1/hms/neurobio/sabatini/rich/virtual_envs/FR/lib/python3.9/site-packages (from jupyter-events>=0.6.0->jupyter-server>=1.8->nbclassic>=0.4.7->notebook<7->face_rhythm[all_cv2Headless]) (2.0.7)\n",
      "Requirement already satisfied: rfc3339-validator in /n/data1/hms/neurobio/sabatini/rich/virtual_envs/FR/lib/python3.9/site-packages (from jupyter-events>=0.6.0->jupyter-server>=1.8->nbclassic>=0.4.7->notebook<7->face_rhythm[all_cv2Headless]) (0.1.4)\n",
      "Requirement already satisfied: rfc3986-validator>=0.1.1 in /n/data1/hms/neurobio/sabatini/rich/virtual_envs/FR/lib/python3.9/site-packages (from jupyter-events>=0.6.0->jupyter-server>=1.8->nbclassic>=0.4.7->notebook<7->face_rhythm[all_cv2Headless]) (0.1.1)\n",
      "\n"
     ]
    },
    {
     "name": "stdout",
     "output_type": "stream",
     "text": [
      "Requirement already satisfied: fqdn in /n/data1/hms/neurobio/sabatini/rich/virtual_envs/FR/lib/python3.9/site-packages (from jsonschema>=2.6->nbformat->notebook<7->face_rhythm[all_cv2Headless]) (1.5.1)\n",
      "\n",
      "Requirement already satisfied: isoduration in /n/data1/hms/neurobio/sabatini/rich/virtual_envs/FR/lib/python3.9/site-packages (from jsonschema>=2.6->nbformat->notebook<7->face_rhythm[all_cv2Headless]) (20.11.0)\n",
      "Requirement already satisfied: jsonpointer>1.13 in /n/data1/hms/neurobio/sabatini/rich/virtual_envs/FR/lib/python3.9/site-packages (from jsonschema>=2.6->nbformat->notebook<7->face_rhythm[all_cv2Headless]) (2.4)\n",
      "Requirement already satisfied: uri-template in /n/data1/hms/neurobio/sabatini/rich/virtual_envs/FR/lib/python3.9/site-packages (from jsonschema>=2.6->nbformat->notebook<7->face_rhythm[all_cv2Headless]) (1.3.0)\n",
      "Requirement already satisfied: webcolors>=1.11 in /n/data1/hms/neurobio/sabatini/rich/virtual_envs/FR/lib/python3.9/site-packages (from jsonschema>=2.6->nbformat->notebook<7->face_rhythm[all_cv2Headless]) (1.13)\n",
      "\n",
      "Requirement already satisfied: arrow>=0.15.0 in /n/data1/hms/neurobio/sabatini/rich/virtual_envs/FR/lib/python3.9/site-packages (from isoduration->jsonschema>=2.6->nbformat->notebook<7->face_rhythm[all_cv2Headless]) (1.2.3)\n",
      "\n",
      "Installing collected packages: bnpm\n",
      "\n",
      "  Attempting uninstall: bnpm\n",
      "    Found existing installation: bnpm 0.3.4\n",
      "    Uninstalling bnpm-0.3.4:\n",
      "      Successfully uninstalled bnpm-0.3.4\n",
      "\n",
      "Successfully installed bnpm-0.3.5\n",
      "\n",
      "AP]$ ata1/hms/neurobio/sabatini/rich/virtual_envs/FR) [rh183@compute-a-16-164 NBA\n"
     ]
    },
    {
     "data": {
      "text/plain": [
       "('(/n/data1/hms/neurobio/sabatini/rich/virtual_envs/FR) [rh183@compute-a-16-164 NBA\\rAP]$ ',\n",
       " True)"
      ]
     },
     "execution_count": 17,
     "metadata": {},
     "output_type": "execute_result"
    }
   ],
   "source": [
    "send_expect('pip install bnpm[core_cv2Headless] face_rhythm[all_cv2Headless] --upgrade')"
   ]
  },
  {
   "cell_type": "code",
   "execution_count": 18,
   "id": "bea9dd44",
   "metadata": {},
   "outputs": [
    {
     "data": {
      "text/plain": [
       "{'dispatch': '    python3     /n/data1/hms/neurobio/sabatini/rich/analysis/make_dFoF_and_tqm/mouse_0403R/20230702/dispatcher.py     /n/data1/hms/neurobio/sabatini/rich/github_repos/NBAP/behavioral_drift_analysis/5a_make_dFoF_and_tqm/make_dFoF_and_tqm.py     /n/data1/hms/neurobio/sabatini/rich/analysis/make_dFoF_and_tqm/mouse_0403R/20230702     /n/data1/hms/neurobio/sabatini/gyu/analysis/suite2p_output/mouse_0403R/20230702/scanimage_data/exp/jobNum_0/suite2p/plane0     jobNum_     03R_0702     /n/data1/hms/neurobio/sabatini/rich/virtual_envs/FR'}"
      ]
     },
     "metadata": {},
     "output_type": "display_data"
    },
    {
     "name": "stdout",
     "output_type": "stream",
     "text": [
      "tqm/mouse_0403R/20230702/dispatcher.py abatini/rich/analysis/make_dFoF_and_ \n",
      "0702     /n/data1/hms/neurobio/sabatini/rich/virtual_envs/FR    jobNum_     03R_ \n",
      "\n",
      "dispatcher environment: /n/data1/hms/neurobio/sabatini/rich/virtual_envs/FR\n",
      "\n",
      "\n",
      "Copying /n/data1/hms/neurobio/sabatini/rich/github_repos/NBAP/behavioral_drift_analysis/5a_make_dFoF_and_tqm/make_dFoF_and_tqm.py to /n/data1/hms/neurobio/sabatini/rich/analysis/make_dFoF_and_tqm/mouse_0403R/20230702/make_dFoF_and_tqm.py\n",
      "\n",
      "Submitting job: jobNum_ 0\n",
      "\n",
      "Submitted batch job 31500433\n",
      "\n",
      "AP]$ ata1/hms/neurobio/sabatini/rich/virtual_envs/FR) [rh183@compute-a-16-163 NBA\n"
     ]
    },
    {
     "data": {
      "text/plain": [
       "{'dispatch': '    python3     /n/data1/hms/neurobio/sabatini/rich/analysis/make_dFoF_and_tqm/mouse_0403R/20230703/dispatcher.py     /n/data1/hms/neurobio/sabatini/rich/github_repos/NBAP/behavioral_drift_analysis/5a_make_dFoF_and_tqm/make_dFoF_and_tqm.py     /n/data1/hms/neurobio/sabatini/rich/analysis/make_dFoF_and_tqm/mouse_0403R/20230703     /n/data1/hms/neurobio/sabatini/gyu/analysis/suite2p_output/mouse_0403R/20230703/scanimage_data/exp/jobNum_0/suite2p/plane0     jobNum_     03R_0703     /n/data1/hms/neurobio/sabatini/rich/virtual_envs/FR'}"
      ]
     },
     "metadata": {},
     "output_type": "display_data"
    },
    {
     "name": "stdout",
     "output_type": "stream",
     "text": [
      " \n",
      "0703     /n/data1/hms/neurobio/sabatini/rich/virtual_envs/FR    jobNum_     03R_ \n",
      "\n",
      "dispatcher environment: /n/data1/hms/neurobio/sabatini/rich/virtual_envs/FR\n",
      "\n",
      "Copying /n/data1/hms/neurobio/sabatini/rich/github_repos/NBAP/behavioral_drift_analysis/5a_make_dFoF_and_tqm/make_dFoF_and_tqm.py to /n/data1/hms/neurobio/sabatini/rich/analysis/make_dFoF_and_tqm/mouse_0403R/20230703/make_dFoF_and_tqm.py\n",
      "\n",
      "Submitting job: jobNum_ 0\n",
      "Submitted batch job 31500435\n",
      "\n",
      "AP]$ ata1/hms/neurobio/sabatini/rich/virtual_envs/FR) [rh183@compute-a-16-163 NBA\n"
     ]
    },
    {
     "data": {
      "text/plain": [
       "{'dispatch': '    python3     /n/data1/hms/neurobio/sabatini/rich/analysis/make_dFoF_and_tqm/mouse_0403R/20230706/dispatcher.py     /n/data1/hms/neurobio/sabatini/rich/github_repos/NBAP/behavioral_drift_analysis/5a_make_dFoF_and_tqm/make_dFoF_and_tqm.py     /n/data1/hms/neurobio/sabatini/rich/analysis/make_dFoF_and_tqm/mouse_0403R/20230706     /n/data1/hms/neurobio/sabatini/gyu/analysis/suite2p_output/mouse_0403R/20230706/scanimage_data/exp/jobNum_0/suite2p/plane0     jobNum_     03R_0706     /n/data1/hms/neurobio/sabatini/rich/virtual_envs/FR'}"
      ]
     },
     "metadata": {},
     "output_type": "display_data"
    },
    {
     "name": "stdout",
     "output_type": "stream",
     "text": [
      "ithub_repos/NBAP/0230706/dispatcher.py     /n/data1/hms/neurobio/sabatini/rich/g \n",
      "0706     /n/data1/hms/neurobio/sabatini/rich/virtual_envs/FR    jobNum_     03R_ \n",
      "dispatcher environment: /n/data1/hms/neurobio/sabatini/rich/virtual_envs/FR\n",
      "\n",
      "Copying /n/data1/hms/neurobio/sabatini/rich/github_repos/NBAP/behavioral_drift_analysis/5a_make_dFoF_and_tqm/make_dFoF_and_tqm.py to /n/data1/hms/neurobio/sabatini/rich/analysis/make_dFoF_and_tqm/mouse_0403R/20230706/make_dFoF_and_tqm.py\n",
      "\n",
      "Submitting job: jobNum_ 0\n",
      "\n",
      "Submitted batch job 31500436\n",
      "\n",
      "AP]$ ata1/hms/neurobio/sabatini/rich/virtual_envs/FR) [rh183@compute-a-16-163 NBA\n"
     ]
    },
    {
     "data": {
      "text/plain": [
       "{'dispatch': '    python3     /n/data1/hms/neurobio/sabatini/rich/analysis/make_dFoF_and_tqm/mouse_0403R/20230707/dispatcher.py     /n/data1/hms/neurobio/sabatini/rich/github_repos/NBAP/behavioral_drift_analysis/5a_make_dFoF_and_tqm/make_dFoF_and_tqm.py     /n/data1/hms/neurobio/sabatini/rich/analysis/make_dFoF_and_tqm/mouse_0403R/20230707     /n/data1/hms/neurobio/sabatini/gyu/analysis/suite2p_output/mouse_0403R/20230707/scanimage_data/exp/jobNum_0/suite2p/plane0     jobNum_     03R_0707     /n/data1/hms/neurobio/sabatini/rich/virtual_envs/FR'}"
      ]
     },
     "metadata": {},
     "output_type": "display_data"
    },
    {
     "name": "stdout",
     "output_type": "stream",
     "text": [
      "    p\n",
      "0707     /n/data1/hms/neurobio/sabatini/rich/virtual_envs/FR    jobNum_     03R_ \n",
      "\n",
      "dispatcher environment: /n/data1/hms/neurobio/sabatini/rich/virtual_envs/FR\n",
      "\n",
      "Copying /n/data1/hms/neurobio/sabatini/rich/github_repos/NBAP/behavioral_drift_analysis/5a_make_dFoF_and_tqm/make_dFoF_and_tqm.py to /n/data1/hms/neurobio/sabatini/rich/analysis/make_dFoF_and_tqm/mouse_0403R/20230707/make_dFoF_and_tqm.py\n",
      "\n",
      "Submitting job: jobNum_ 0\n",
      "\n",
      "Submitted batch job 31500438\n",
      "\n",
      "AP]$ ata1/hms/neurobio/sabatini/rich/virtual_envs/FR) [rh183@compute-a-16-163 NBA\n"
     ]
    },
    {
     "data": {
      "text/plain": [
       "{'dispatch': '    python3     /n/data1/hms/neurobio/sabatini/rich/analysis/make_dFoF_and_tqm/mouse_0403R/20230708/dispatcher.py     /n/data1/hms/neurobio/sabatini/rich/github_repos/NBAP/behavioral_drift_analysis/5a_make_dFoF_and_tqm/make_dFoF_and_tqm.py     /n/data1/hms/neurobio/sabatini/rich/analysis/make_dFoF_and_tqm/mouse_0403R/20230708     /n/data1/hms/neurobio/sabatini/gyu/analysis/suite2p_output/mouse_0403R/20230708/scanimage_data/exp/jobNum_0/suite2p/plane0     jobNum_     03R_0708     /n/data1/hms/neurobio/sabatini/rich/virtual_envs/FR'}"
      ]
     },
     "metadata": {},
     "output_type": "display_data"
    },
    {
     "name": "stdout",
     "output_type": "stream",
     "text": [
      "   \n",
      "0708     /n/data1/hms/neurobio/sabatini/rich/virtual_envs/FR    jobNum_     03R_ \n",
      "\n",
      "dispatcher environment: /n/data1/hms/neurobio/sabatini/rich/virtual_envs/FR\n",
      "\n",
      "Copying /n/data1/hms/neurobio/sabatini/rich/github_repos/NBAP/behavioral_drift_analysis/5a_make_dFoF_and_tqm/make_dFoF_and_tqm.py to /n/data1/hms/neurobio/sabatini/rich/analysis/make_dFoF_and_tqm/mouse_0403R/20230708/make_dFoF_and_tqm.py\n",
      "\n",
      "Submitting job: jobNum_ 0\n",
      "Submitted batch job 31500440\n",
      "\n",
      "AP]$ ata1/hms/neurobio/sabatini/rich/virtual_envs/FR) [rh183@compute-a-16-163 NBA\n"
     ]
    },
    {
     "data": {
      "text/plain": [
       "{'dispatch': '    python3     /n/data1/hms/neurobio/sabatini/rich/analysis/make_dFoF_and_tqm/mouse_0403R/20230709/dispatcher.py     /n/data1/hms/neurobio/sabatini/rich/github_repos/NBAP/behavioral_drift_analysis/5a_make_dFoF_and_tqm/make_dFoF_and_tqm.py     /n/data1/hms/neurobio/sabatini/rich/analysis/make_dFoF_and_tqm/mouse_0403R/20230709     /n/data1/hms/neurobio/sabatini/gyu/analysis/suite2p_output/mouse_0403R/20230709/scanimage_data/exp/jobNum_0/suite2p/plane0     jobNum_     03R_0709     /n/data1/hms/neurobio/sabatini/rich/virtual_envs/FR'}"
      ]
     },
     "metadata": {},
     "output_type": "display_data"
    },
    {
     "name": "stdout",
     "output_type": "stream",
     "text": [
      " \n",
      "0709     /n/data1/hms/neurobio/sabatini/rich/virtual_envs/FR    jobNum_     03R_ \n",
      "\n",
      "dispatcher environment: /n/data1/hms/neurobio/sabatini/rich/virtual_envs/FR\n",
      "\n",
      "Copying /n/data1/hms/neurobio/sabatini/rich/github_repos/NBAP/behavioral_drift_analysis/5a_make_dFoF_and_tqm/make_dFoF_and_tqm.py to /n/data1/hms/neurobio/sabatini/rich/analysis/make_dFoF_and_tqm/mouse_0403R/20230709/make_dFoF_and_tqm.py\n",
      "\n",
      "Submitting job: jobNum_ 0\n",
      "Submitted batch job 31500441\n",
      "\n",
      "AP]$ ata1/hms/neurobio/sabatini/rich/virtual_envs/FR) [rh183@compute-a-16-163 NBA\n"
     ]
    }
   ],
   "source": [
    "for date in dates_toUse:\n",
    "# for date in ['20230419']:\n",
    "\n",
    "    # mouse = 'mouse_0916N'\n",
    "    # date = '20230501'\n",
    "\n",
    "    name_slurm = mouse[-3:] + '_' + date[-4:]\n",
    "\n",
    "    dir_s2p       = str(Path('/n/data1/hms/neurobio/sabatini/gyu/analysis/suite2p_output') / mouse / date / 'scanimage_data' / 'exp' / 'jobNum_0' / 'suite2p' / 'plane0' )\n",
    "\n",
    "    dir_saveOutputs = str(Path('/n/data1/hms/neurobio/sabatini/rich/analysis/make_dFoF_and_tqm') / mouse / date )\n",
    "\n",
    "\n",
    "    name_job = 'jobNum_'\n",
    "\n",
    "\n",
    "    path_script_remote      = str(Path(r'/n/data1/hms/neurobio/sabatini/rich/github_repos/NBAP/behavioral_drift_analysis/5a_make_dFoF_and_tqm/make_dFoF_and_tqm.py'))  ## path to a copy of the script (.py) file to run within the repo on the server\n",
    "\n",
    "    path_dispatcher_local   = str(Path(r'/media/rich/Home_Linux_partition/github_repos/NBAP/behavioral_drift_analysis/5a_make_dFoF_and_tqm/dispatcher.py'))  ## path to the dispatcher.py file on local computer\n",
    "    path_dispatcher_remote  = (Path(dir_saveOutputs) / 'dispatcher.py').as_posix()  ## path to where you want the dispatcher.py file to be copied onto the server\n",
    "\n",
    "    ## Expectation for dispatch args: \n",
    "    # path_script, dir_save, dir_videos, dir_ROIs, name_job, name_slurm, name_env\n",
    "\n",
    "\n",
    "    commands = {\n",
    "    #     'make_dir': f\"mkdir -p {dir_data_remote}\",\n",
    "    #     'copy': f\"cp -r {dir_s2p_MICROSCOPE} {dir_data_remote}\",\n",
    "    #     'dispatch': f\"python {str(path_dispatcher_remote)} {dir_saveOutputs} {path_script_remote} {name_job} {name_slurm} {dir_videos}\",  ## dispatcher expecting these args as inputs\n",
    "    'dispatch': f\"\\\n",
    "    python3 \\\n",
    "    {path_dispatcher_remote} \\\n",
    "    {path_script_remote} \\\n",
    "    {dir_saveOutputs} \\\n",
    "    {dir_s2p} \\\n",
    "    {name_job} \\\n",
    "    {name_slurm} \\\n",
    "    {name_env}\",\n",
    "    }\n",
    "    display(commands)\n",
    "    \n",
    "    sftp.mkdir_p(str(Path(path_dispatcher_remote).parent))\n",
    "    sftp.sftp.put(str(path_dispatcher_local), str(path_dispatcher_remote));\n",
    "    \n",
    "    send_expect(commands['dispatch']);"
   ]
  },
  {
   "cell_type": "markdown",
   "id": "9feac88c",
   "metadata": {},
   "source": [
    "### check on job"
   ]
  },
  {
   "cell_type": "raw",
   "id": "fb31fbe8",
   "metadata": {
    "scrolled": true
   },
   "source": [
    "ssh_c.send_expect(f'squeue -u {username} --Format=jobid,name,partition,state,timeused,starttime,timelimit,reasonlist,minmemory,mincpus,gres');"
   ]
  },
  {
   "cell_type": "code",
   "execution_count": null,
   "id": "b5133530",
   "metadata": {},
   "outputs": [],
   "source": []
  },
  {
   "cell_type": "markdown",
   "id": "442ab705",
   "metadata": {},
   "source": [
    "### Check if it worked"
   ]
  },
  {
   "cell_type": "code",
   "execution_count": 19,
   "id": "e376282a",
   "metadata": {},
   "outputs": [
    {
     "name": "stdout",
     "output_type": "stream",
     "text": [
      "/n/data1/hms/neurobio/sabatini/rich/analysis/make_dFoF_and_tqm/mouse_0916N/20231205/jobNum_0/dFoF.npy\n",
      "/n/data1/hms/neurobio/sabatini/rich/analysis/make_dFoF_and_tqm/mouse_0916N/20231029/jobNum_0/dFoF.npy\n",
      "/n/data1/hms/neurobio/sabatini/rich/analysis/make_dFoF_and_tqm/mouse_0916N/20231127/jobNum_0/dFoF.npy\n",
      "/n/data1/hms/neurobio/sabatini/rich/analysis/make_dFoF_and_tqm/mouse_0916N/20231024/jobNum_0/dFoF.npy\n",
      "/n/data1/hms/neurobio/sabatini/rich/analysis/make_dFoF_and_tqm/mouse_0916N/20231021/jobNum_0/dFoF.npy\n",
      "/n/data1/hms/neurobio/sabatini/rich/analysis/make_dFoF_and_tqm/mouse_0916N/20231025/jobNum_0/dFoF.npy\n",
      "/n/data1/hms/neurobio/sabatini/rich/analysis/make_dFoF_and_tqm/mouse_0916N/20231106/jobNum_0/dFoF.npy\n",
      "/n/data1/hms/neurobio/sabatini/rich/analysis/make_dFoF_and_tqm/mouse_0916N/20231129/jobNum_0/dFoF.npy\n",
      "/n/data1/hms/neurobio/sabatini/rich/analysis/make_dFoF_and_tqm/mouse_0916N/20231023/jobNum_0/dFoF.npy\n",
      "/n/data1/hms/neurobio/sabatini/rich/analysis/make_dFoF_and_tqm/mouse_0916N/20231022/jobNum_0/dFoF.npy\n",
      "/n/data1/hms/neurobio/sabatini/rich/analysis/make_dFoF_and_tqm/mouse_0916N/20231031/jobNum_0/dFoF.npy\n",
      "/n/data1/hms/neurobio/sabatini/rich/analysis/make_dFoF_and_tqm/mouse_0916N/20231027/jobNum_0/dFoF.npy\n",
      "/n/data1/hms/neurobio/sabatini/rich/analysis/make_dFoF_and_tqm/mouse_0916N/20231102/jobNum_0/dFoF.npy\n",
      "/n/data1/hms/neurobio/sabatini/rich/analysis/make_dFoF_and_tqm/mouse_0916N/20231105/jobNum_0/dFoF.npy\n",
      "/n/data1/hms/neurobio/sabatini/rich/analysis/make_dFoF_and_tqm/mouse_0916N/20231026/jobNum_0/dFoF.npy\n",
      "/n/data1/hms/neurobio/sabatini/rich/analysis/make_dFoF_and_tqm/mouse_0916N/20231207/jobNum_0/dFoF.npy\n",
      "/n/data1/hms/neurobio/sabatini/rich/analysis/make_dFoF_and_tqm/mouse_0916N/20231208/jobNum_0/dFoF.npy\n",
      "/n/data1/hms/neurobio/sabatini/rich/analysis/make_dFoF_and_tqm/mouse_0916N/20231130/jobNum_0/dFoF.npy\n",
      "/n/data1/hms/neurobio/sabatini/rich/analysis/make_dFoF_and_tqm/mouse_0916N/20231209/jobNum_0/dFoF.npy\n",
      "/n/data1/hms/neurobio/sabatini/rich/analysis/make_dFoF_and_tqm/mouse_0916N/20231201/jobNum_0/dFoF.npy\n",
      "/n/data1/hms/neurobio/sabatini/rich/analysis/make_dFoF_and_tqm/mouse_0916N/20231028/jobNum_0/dFoF.npy\n",
      "/n/data1/hms/neurobio/sabatini/rich/analysis/make_dFoF_and_tqm/mouse_0916N/20231128/jobNum_0/dFoF.npy\n",
      "/n/data1/hms/neurobio/sabatini/rich/analysis/make_dFoF_and_tqm/mouse_0916N/20231104/jobNum_0/dFoF.npy\n",
      "/n/data1/hms/neurobio/sabatini/rich/analysis/make_dFoF_and_tqm/mouse_0916N/20231203/jobNum_0/dFoF.npy\n",
      "/n/data1/hms/neurobio/sabatini/rich/analysis/make_dFoF_and_tqm/mouse_0916N/20231204/jobNum_0/dFoF.npy\n",
      "/n/data1/hms/neurobio/sabatini/rich/analysis/make_dFoF_and_tqm/mouse_0916N/20231030/jobNum_0/dFoF.npy\n",
      "/n/data1/hms/neurobio/sabatini/rich/analysis/make_dFoF_and_tqm/mouse_0916N/20231103/jobNum_0/dFoF.npy\n",
      "/n/data1/hms/neurobio/sabatini/rich/analysis/make_dFoF_and_tqm/mouse_0916N/20231210/jobNum_0/dFoF.npy\n",
      "/n/data1/hms/neurobio/sabatini/rich/analysis/make_dFoF_and_tqm/mouse_0916N/20231202/jobNum_0/dFoF.npy\n",
      "/n/data1/hms/neurobio/sabatini/rich/analysis/make_dFoF_and_tqm/mouse_0916N/20231101/jobNum_0/dFoF.npy\n"
     ]
    },
    {
     "data": {
      "text/plain": [
       "['/n/data1/hms/neurobio/sabatini/rich/analysis/make_dFoF_and_tqm/mouse_0916N/20231021/jobNum_0/dFoF.npy',\n",
       " '/n/data1/hms/neurobio/sabatini/rich/analysis/make_dFoF_and_tqm/mouse_0916N/20231022/jobNum_0/dFoF.npy',\n",
       " '/n/data1/hms/neurobio/sabatini/rich/analysis/make_dFoF_and_tqm/mouse_0916N/20231023/jobNum_0/dFoF.npy',\n",
       " '/n/data1/hms/neurobio/sabatini/rich/analysis/make_dFoF_and_tqm/mouse_0916N/20231024/jobNum_0/dFoF.npy',\n",
       " '/n/data1/hms/neurobio/sabatini/rich/analysis/make_dFoF_and_tqm/mouse_0916N/20231025/jobNum_0/dFoF.npy',\n",
       " '/n/data1/hms/neurobio/sabatini/rich/analysis/make_dFoF_and_tqm/mouse_0916N/20231026/jobNum_0/dFoF.npy',\n",
       " '/n/data1/hms/neurobio/sabatini/rich/analysis/make_dFoF_and_tqm/mouse_0916N/20231027/jobNum_0/dFoF.npy',\n",
       " '/n/data1/hms/neurobio/sabatini/rich/analysis/make_dFoF_and_tqm/mouse_0916N/20231028/jobNum_0/dFoF.npy',\n",
       " '/n/data1/hms/neurobio/sabatini/rich/analysis/make_dFoF_and_tqm/mouse_0916N/20231029/jobNum_0/dFoF.npy',\n",
       " '/n/data1/hms/neurobio/sabatini/rich/analysis/make_dFoF_and_tqm/mouse_0916N/20231030/jobNum_0/dFoF.npy',\n",
       " '/n/data1/hms/neurobio/sabatini/rich/analysis/make_dFoF_and_tqm/mouse_0916N/20231031/jobNum_0/dFoF.npy',\n",
       " '/n/data1/hms/neurobio/sabatini/rich/analysis/make_dFoF_and_tqm/mouse_0916N/20231101/jobNum_0/dFoF.npy',\n",
       " '/n/data1/hms/neurobio/sabatini/rich/analysis/make_dFoF_and_tqm/mouse_0916N/20231102/jobNum_0/dFoF.npy',\n",
       " '/n/data1/hms/neurobio/sabatini/rich/analysis/make_dFoF_and_tqm/mouse_0916N/20231103/jobNum_0/dFoF.npy',\n",
       " '/n/data1/hms/neurobio/sabatini/rich/analysis/make_dFoF_and_tqm/mouse_0916N/20231104/jobNum_0/dFoF.npy',\n",
       " '/n/data1/hms/neurobio/sabatini/rich/analysis/make_dFoF_and_tqm/mouse_0916N/20231105/jobNum_0/dFoF.npy',\n",
       " '/n/data1/hms/neurobio/sabatini/rich/analysis/make_dFoF_and_tqm/mouse_0916N/20231106/jobNum_0/dFoF.npy',\n",
       " '/n/data1/hms/neurobio/sabatini/rich/analysis/make_dFoF_and_tqm/mouse_0916N/20231127/jobNum_0/dFoF.npy',\n",
       " '/n/data1/hms/neurobio/sabatini/rich/analysis/make_dFoF_and_tqm/mouse_0916N/20231128/jobNum_0/dFoF.npy',\n",
       " '/n/data1/hms/neurobio/sabatini/rich/analysis/make_dFoF_and_tqm/mouse_0916N/20231129/jobNum_0/dFoF.npy',\n",
       " '/n/data1/hms/neurobio/sabatini/rich/analysis/make_dFoF_and_tqm/mouse_0916N/20231130/jobNum_0/dFoF.npy',\n",
       " '/n/data1/hms/neurobio/sabatini/rich/analysis/make_dFoF_and_tqm/mouse_0916N/20231201/jobNum_0/dFoF.npy',\n",
       " '/n/data1/hms/neurobio/sabatini/rich/analysis/make_dFoF_and_tqm/mouse_0916N/20231202/jobNum_0/dFoF.npy',\n",
       " '/n/data1/hms/neurobio/sabatini/rich/analysis/make_dFoF_and_tqm/mouse_0916N/20231203/jobNum_0/dFoF.npy',\n",
       " '/n/data1/hms/neurobio/sabatini/rich/analysis/make_dFoF_and_tqm/mouse_0916N/20231204/jobNum_0/dFoF.npy',\n",
       " '/n/data1/hms/neurobio/sabatini/rich/analysis/make_dFoF_and_tqm/mouse_0916N/20231205/jobNum_0/dFoF.npy',\n",
       " '/n/data1/hms/neurobio/sabatini/rich/analysis/make_dFoF_and_tqm/mouse_0916N/20231207/jobNum_0/dFoF.npy',\n",
       " '/n/data1/hms/neurobio/sabatini/rich/analysis/make_dFoF_and_tqm/mouse_0916N/20231208/jobNum_0/dFoF.npy',\n",
       " '/n/data1/hms/neurobio/sabatini/rich/analysis/make_dFoF_and_tqm/mouse_0916N/20231209/jobNum_0/dFoF.npy',\n",
       " '/n/data1/hms/neurobio/sabatini/rich/analysis/make_dFoF_and_tqm/mouse_0916N/20231210/jobNum_0/dFoF.npy']"
      ]
     },
     "execution_count": 19,
     "metadata": {},
     "output_type": "execute_result"
    }
   ],
   "source": [
    "paths_found = natsort.natsorted(sftp.search_recursive(\n",
    "    path='/n/data1/hms/neurobio/sabatini/rich/analysis/make_dFoF_and_tqm/mouse_0916N',\n",
    "    search_pattern_re='dFoF.npy',\n",
    "    max_depth=9,\n",
    "    find_folders=False,\n",
    "    find_files=True,\n",
    "))\n",
    "paths_found"
   ]
  },
  {
   "cell_type": "markdown",
   "id": "d80c5bd5",
   "metadata": {},
   "source": [
    "### Download results"
   ]
  },
  {
   "cell_type": "code",
   "execution_count": 20,
   "id": "c5ae1162",
   "metadata": {},
   "outputs": [],
   "source": [
    "dates = [Path(p).parts[-4] for p in paths_found]"
   ]
  },
  {
   "cell_type": "code",
   "execution_count": 21,
   "id": "7ba51bb2",
   "metadata": {},
   "outputs": [],
   "source": [
    "paths_download = {d: p for d,p in zip(dates, paths_found)}"
   ]
  },
  {
   "cell_type": "raw",
   "id": "acc2d4dd",
   "metadata": {},
   "source": [
    "directory_save = r'/media/rich/bigSSD/analysis_data/face_rhythm/mouse_0916N/tca_refit'"
   ]
  },
  {
   "cell_type": "raw",
   "id": "e411d300",
   "metadata": {},
   "source": [
    "[sftp.get(\n",
    "    remotepath=p,\n",
    "    localpath=str(Path(directory_save) / d / 'tca_refit.h5'),\n",
    "    mkdirs=True,\n",
    ") for d, p in paths_download.items()];"
   ]
  },
  {
   "cell_type": "code",
   "execution_count": 24,
   "id": "a8079984",
   "metadata": {},
   "outputs": [
    {
     "name": "stdout",
     "output_type": "stream",
     "text": [
      "downloading /n/data1/hms/neurobio/sabatini/rich/analysis/make_dFoF_and_tqm/mouse_0916N/20231205/parameters_batch.json   to   /media/rich/bigSSD/analysis_data/face_rhythm/mouse_0916N/dFoF_and_tqm/20231205/parameters_batch.json\n"
     ]
    },
    {
     "name": "stderr",
     "output_type": "stream",
     "text": [
      "0.00b [00:00, ?b/s]\n"
     ]
    },
    {
     "name": "stdout",
     "output_type": "stream",
     "text": [
      "downloading /n/data1/hms/neurobio/sabatini/rich/analysis/make_dFoF_and_tqm/mouse_0916N/20231205/jobNum_0/tqm.pkl   to   /media/rich/bigSSD/analysis_data/face_rhythm/mouse_0916N/dFoF_and_tqm/20231205/jobNum_0/tqm.pkl\n"
     ]
    },
    {
     "name": "stderr",
     "output_type": "stream",
     "text": [
      "0.00b [00:00, ?b/s]\n"
     ]
    },
    {
     "name": "stdout",
     "output_type": "stream",
     "text": [
      "downloading /n/data1/hms/neurobio/sabatini/rich/analysis/make_dFoF_and_tqm/mouse_0916N/20231205/jobNum_0/params.json   to   /media/rich/bigSSD/analysis_data/face_rhythm/mouse_0916N/dFoF_and_tqm/20231205/jobNum_0/params.json\n"
     ]
    },
    {
     "name": "stderr",
     "output_type": "stream",
     "text": [
      "0.00b [00:00, ?b/s]\n"
     ]
    },
    {
     "name": "stdout",
     "output_type": "stream",
     "text": [
      "downloading /n/data1/hms/neurobio/sabatini/rich/analysis/make_dFoF_and_tqm/mouse_0916N/20231205/jobNum_0/dFoF.npy   to   /media/rich/bigSSD/analysis_data/face_rhythm/mouse_0916N/dFoF_and_tqm/20231205/jobNum_0/dFoF.npy\n"
     ]
    },
    {
     "name": "stderr",
     "output_type": "stream",
     "text": [
      "0.00b [00:20, ?b/s]\n"
     ]
    },
    {
     "name": "stdout",
     "output_type": "stream",
     "text": [
      "downloading /n/data1/hms/neurobio/sabatini/rich/analysis/make_dFoF_and_tqm/mouse_0916N/20231205/jobNum_0/make_dFoF_and_tqm.py   to   /media/rich/bigSSD/analysis_data/face_rhythm/mouse_0916N/dFoF_and_tqm/20231205/jobNum_0/make_dFoF_and_tqm.py\n"
     ]
    },
    {
     "name": "stderr",
     "output_type": "stream",
     "text": [
      "0.00b [00:00, ?b/s]\n"
     ]
    },
    {
     "name": "stdout",
     "output_type": "stream",
     "text": [
      "downloading /n/data1/hms/neurobio/sabatini/rich/analysis/make_dFoF_and_tqm/mouse_0916N/20231205/jobNum_0/print_log_31448242.log   to   /media/rich/bigSSD/analysis_data/face_rhythm/mouse_0916N/dFoF_and_tqm/20231205/jobNum_0/print_log_31448242.log\n"
     ]
    },
    {
     "name": "stderr",
     "output_type": "stream",
     "text": [
      "0.00b [00:00, ?b/s]\n"
     ]
    },
    {
     "name": "stdout",
     "output_type": "stream",
     "text": [
      "downloading /n/data1/hms/neurobio/sabatini/rich/analysis/make_dFoF_and_tqm/mouse_0916N/20231205/jobNum_0/iscell_tqm.npy   to   /media/rich/bigSSD/analysis_data/face_rhythm/mouse_0916N/dFoF_and_tqm/20231205/jobNum_0/iscell_tqm.npy\n"
     ]
    },
    {
     "name": "stderr",
     "output_type": "stream",
     "text": [
      "0.00b [00:00, ?b/s]\n"
     ]
    },
    {
     "name": "stdout",
     "output_type": "stream",
     "text": [
      "downloading /n/data1/hms/neurobio/sabatini/rich/analysis/make_dFoF_and_tqm/mouse_0916N/20231205/jobNum_0/sbatch_config.sh   to   /media/rich/bigSSD/analysis_data/face_rhythm/mouse_0916N/dFoF_and_tqm/20231205/jobNum_0/sbatch_config.sh\n"
     ]
    },
    {
     "name": "stderr",
     "output_type": "stream",
     "text": [
      "0.00b [00:00, ?b/s]\n"
     ]
    },
    {
     "name": "stdout",
     "output_type": "stream",
     "text": [
      "downloading /n/data1/hms/neurobio/sabatini/rich/analysis/make_dFoF_and_tqm/mouse_0916N/20231205/jobNum_0/print_log_31449922.log   to   /media/rich/bigSSD/analysis_data/face_rhythm/mouse_0916N/dFoF_and_tqm/20231205/jobNum_0/print_log_31449922.log\n"
     ]
    },
    {
     "name": "stderr",
     "output_type": "stream",
     "text": [
      "0.00b [00:00, ?b/s]\n"
     ]
    },
    {
     "name": "stdout",
     "output_type": "stream",
     "text": [
      "downloading /n/data1/hms/neurobio/sabatini/rich/analysis/make_dFoF_and_tqm/mouse_0916N/20231205/make_dFoF_and_tqm.py   to   /media/rich/bigSSD/analysis_data/face_rhythm/mouse_0916N/dFoF_and_tqm/20231205/make_dFoF_and_tqm.py\n"
     ]
    },
    {
     "name": "stderr",
     "output_type": "stream",
     "text": [
      "0.00b [00:00, ?b/s]\n"
     ]
    },
    {
     "name": "stdout",
     "output_type": "stream",
     "text": [
      "downloading /n/data1/hms/neurobio/sabatini/rich/analysis/make_dFoF_and_tqm/mouse_0916N/20231205/dispatcher.py   to   /media/rich/bigSSD/analysis_data/face_rhythm/mouse_0916N/dFoF_and_tqm/20231205/dispatcher.py\n"
     ]
    },
    {
     "name": "stderr",
     "output_type": "stream",
     "text": [
      "0.00b [00:00, ?b/s]\n"
     ]
    },
    {
     "name": "stdout",
     "output_type": "stream",
     "text": [
      "downloading /n/data1/hms/neurobio/sabatini/rich/analysis/make_dFoF_and_tqm/mouse_0916N/20231205/notes.txt   to   /media/rich/bigSSD/analysis_data/face_rhythm/mouse_0916N/dFoF_and_tqm/20231205/notes.txt\n"
     ]
    },
    {
     "name": "stderr",
     "output_type": "stream",
     "text": [
      "0.00b [00:00, ?b/s]\n"
     ]
    },
    {
     "name": "stdout",
     "output_type": "stream",
     "text": [
      "downloading /n/data1/hms/neurobio/sabatini/rich/analysis/make_dFoF_and_tqm/mouse_0916N/20231029/parameters_batch.json   to   /media/rich/bigSSD/analysis_data/face_rhythm/mouse_0916N/dFoF_and_tqm/20231029/parameters_batch.json\n"
     ]
    },
    {
     "name": "stderr",
     "output_type": "stream",
     "text": [
      "0.00b [00:00, ?b/s]\n"
     ]
    },
    {
     "name": "stdout",
     "output_type": "stream",
     "text": [
      "downloading /n/data1/hms/neurobio/sabatini/rich/analysis/make_dFoF_and_tqm/mouse_0916N/20231029/jobNum_0/tqm.pkl   to   /media/rich/bigSSD/analysis_data/face_rhythm/mouse_0916N/dFoF_and_tqm/20231029/jobNum_0/tqm.pkl\n"
     ]
    },
    {
     "name": "stderr",
     "output_type": "stream",
     "text": [
      "0.00b [00:00, ?b/s]\n"
     ]
    },
    {
     "name": "stdout",
     "output_type": "stream",
     "text": [
      "downloading /n/data1/hms/neurobio/sabatini/rich/analysis/make_dFoF_and_tqm/mouse_0916N/20231029/jobNum_0/params.json   to   /media/rich/bigSSD/analysis_data/face_rhythm/mouse_0916N/dFoF_and_tqm/20231029/jobNum_0/params.json\n"
     ]
    },
    {
     "name": "stderr",
     "output_type": "stream",
     "text": [
      "0.00b [00:00, ?b/s]\n"
     ]
    },
    {
     "name": "stdout",
     "output_type": "stream",
     "text": [
      "downloading /n/data1/hms/neurobio/sabatini/rich/analysis/make_dFoF_and_tqm/mouse_0916N/20231029/jobNum_0/dFoF.npy   to   /media/rich/bigSSD/analysis_data/face_rhythm/mouse_0916N/dFoF_and_tqm/20231029/jobNum_0/dFoF.npy\n"
     ]
    },
    {
     "name": "stderr",
     "output_type": "stream",
     "text": [
      "0.00b [00:21, ?b/s]\n"
     ]
    },
    {
     "name": "stdout",
     "output_type": "stream",
     "text": [
      "downloading /n/data1/hms/neurobio/sabatini/rich/analysis/make_dFoF_and_tqm/mouse_0916N/20231029/jobNum_0/print_log_31449840.log   to   /media/rich/bigSSD/analysis_data/face_rhythm/mouse_0916N/dFoF_and_tqm/20231029/jobNum_0/print_log_31449840.log\n"
     ]
    },
    {
     "name": "stderr",
     "output_type": "stream",
     "text": [
      "0.00b [00:00, ?b/s]\n"
     ]
    },
    {
     "name": "stdout",
     "output_type": "stream",
     "text": [
      "downloading /n/data1/hms/neurobio/sabatini/rich/analysis/make_dFoF_and_tqm/mouse_0916N/20231029/jobNum_0/make_dFoF_and_tqm.py   to   /media/rich/bigSSD/analysis_data/face_rhythm/mouse_0916N/dFoF_and_tqm/20231029/jobNum_0/make_dFoF_and_tqm.py\n"
     ]
    },
    {
     "name": "stderr",
     "output_type": "stream",
     "text": [
      "0.00b [00:00, ?b/s]\n"
     ]
    },
    {
     "name": "stdout",
     "output_type": "stream",
     "text": [
      "downloading /n/data1/hms/neurobio/sabatini/rich/analysis/make_dFoF_and_tqm/mouse_0916N/20231029/jobNum_0/iscell_tqm.npy   to   /media/rich/bigSSD/analysis_data/face_rhythm/mouse_0916N/dFoF_and_tqm/20231029/jobNum_0/iscell_tqm.npy\n"
     ]
    },
    {
     "name": "stderr",
     "output_type": "stream",
     "text": [
      "0.00b [00:00, ?b/s]\n"
     ]
    },
    {
     "name": "stdout",
     "output_type": "stream",
     "text": [
      "downloading /n/data1/hms/neurobio/sabatini/rich/analysis/make_dFoF_and_tqm/mouse_0916N/20231029/jobNum_0/print_log_31448079.log   to   /media/rich/bigSSD/analysis_data/face_rhythm/mouse_0916N/dFoF_and_tqm/20231029/jobNum_0/print_log_31448079.log\n"
     ]
    },
    {
     "name": "stderr",
     "output_type": "stream",
     "text": [
      "0.00b [00:00, ?b/s]\n"
     ]
    },
    {
     "name": "stdout",
     "output_type": "stream",
     "text": [
      "downloading /n/data1/hms/neurobio/sabatini/rich/analysis/make_dFoF_and_tqm/mouse_0916N/20231029/jobNum_0/sbatch_config.sh   to   /media/rich/bigSSD/analysis_data/face_rhythm/mouse_0916N/dFoF_and_tqm/20231029/jobNum_0/sbatch_config.sh\n"
     ]
    },
    {
     "name": "stderr",
     "output_type": "stream",
     "text": [
      "0.00b [00:00, ?b/s]\n"
     ]
    },
    {
     "name": "stdout",
     "output_type": "stream",
     "text": [
      "downloading /n/data1/hms/neurobio/sabatini/rich/analysis/make_dFoF_and_tqm/mouse_0916N/20231029/make_dFoF_and_tqm.py   to   /media/rich/bigSSD/analysis_data/face_rhythm/mouse_0916N/dFoF_and_tqm/20231029/make_dFoF_and_tqm.py\n"
     ]
    },
    {
     "name": "stderr",
     "output_type": "stream",
     "text": [
      "0.00b [00:00, ?b/s]\n"
     ]
    },
    {
     "name": "stdout",
     "output_type": "stream",
     "text": [
      "downloading /n/data1/hms/neurobio/sabatini/rich/analysis/make_dFoF_and_tqm/mouse_0916N/20231029/dispatcher.py   to   /media/rich/bigSSD/analysis_data/face_rhythm/mouse_0916N/dFoF_and_tqm/20231029/dispatcher.py\n"
     ]
    },
    {
     "name": "stderr",
     "output_type": "stream",
     "text": [
      "0.00b [00:00, ?b/s]"
     ]
    },
    {
     "name": "stdout",
     "output_type": "stream",
     "text": [
      "downloading /n/data1/hms/neurobio/sabatini/rich/analysis/make_dFoF_and_tqm/mouse_0916N/20231029/notes.txt   to   /media/rich/bigSSD/analysis_data/face_rhythm/mouse_0916N/dFoF_and_tqm/20231029/notes.txt\n"
     ]
    },
    {
     "name": "stderr",
     "output_type": "stream",
     "text": [
      "\n",
      "0.00b [00:00, ?b/s]\n"
     ]
    },
    {
     "name": "stdout",
     "output_type": "stream",
     "text": [
      "downloading /n/data1/hms/neurobio/sabatini/rich/analysis/make_dFoF_and_tqm/mouse_0916N/20231127/parameters_batch.json   to   /media/rich/bigSSD/analysis_data/face_rhythm/mouse_0916N/dFoF_and_tqm/20231127/parameters_batch.json\n"
     ]
    },
    {
     "name": "stderr",
     "output_type": "stream",
     "text": [
      "0.00b [00:00, ?b/s]\n"
     ]
    },
    {
     "name": "stdout",
     "output_type": "stream",
     "text": [
      "downloading /n/data1/hms/neurobio/sabatini/rich/analysis/make_dFoF_and_tqm/mouse_0916N/20231127/jobNum_0/tqm.pkl   to   /media/rich/bigSSD/analysis_data/face_rhythm/mouse_0916N/dFoF_and_tqm/20231127/jobNum_0/tqm.pkl\n"
     ]
    },
    {
     "name": "stderr",
     "output_type": "stream",
     "text": [
      "0.00b [00:00, ?b/s]\n"
     ]
    },
    {
     "name": "stdout",
     "output_type": "stream",
     "text": [
      "downloading /n/data1/hms/neurobio/sabatini/rich/analysis/make_dFoF_and_tqm/mouse_0916N/20231127/jobNum_0/params.json   to   /media/rich/bigSSD/analysis_data/face_rhythm/mouse_0916N/dFoF_and_tqm/20231127/jobNum_0/params.json\n"
     ]
    },
    {
     "name": "stderr",
     "output_type": "stream",
     "text": [
      "0.00b [00:00, ?b/s]\n"
     ]
    },
    {
     "name": "stdout",
     "output_type": "stream",
     "text": [
      "downloading /n/data1/hms/neurobio/sabatini/rich/analysis/make_dFoF_and_tqm/mouse_0916N/20231127/jobNum_0/dFoF.npy   to   /media/rich/bigSSD/analysis_data/face_rhythm/mouse_0916N/dFoF_and_tqm/20231127/jobNum_0/dFoF.npy\n"
     ]
    },
    {
     "name": "stderr",
     "output_type": "stream",
     "text": [
      "0.00b [00:15, ?b/s]\n"
     ]
    },
    {
     "name": "stdout",
     "output_type": "stream",
     "text": [
      "downloading /n/data1/hms/neurobio/sabatini/rich/analysis/make_dFoF_and_tqm/mouse_0916N/20231127/jobNum_0/print_log_31448211.log   to   /media/rich/bigSSD/analysis_data/face_rhythm/mouse_0916N/dFoF_and_tqm/20231127/jobNum_0/print_log_31448211.log\n"
     ]
    },
    {
     "name": "stderr",
     "output_type": "stream",
     "text": [
      "0.00b [00:00, ?b/s]\n"
     ]
    },
    {
     "name": "stdout",
     "output_type": "stream",
     "text": [
      "downloading /n/data1/hms/neurobio/sabatini/rich/analysis/make_dFoF_and_tqm/mouse_0916N/20231127/jobNum_0/make_dFoF_and_tqm.py   to   /media/rich/bigSSD/analysis_data/face_rhythm/mouse_0916N/dFoF_and_tqm/20231127/jobNum_0/make_dFoF_and_tqm.py\n"
     ]
    },
    {
     "name": "stderr",
     "output_type": "stream",
     "text": [
      "0.00b [00:00, ?b/s]\n"
     ]
    },
    {
     "name": "stdout",
     "output_type": "stream",
     "text": [
      "downloading /n/data1/hms/neurobio/sabatini/rich/analysis/make_dFoF_and_tqm/mouse_0916N/20231127/jobNum_0/iscell_tqm.npy   to   /media/rich/bigSSD/analysis_data/face_rhythm/mouse_0916N/dFoF_and_tqm/20231127/jobNum_0/iscell_tqm.npy\n"
     ]
    },
    {
     "name": "stderr",
     "output_type": "stream",
     "text": [
      "0.00b [00:00, ?b/s]\n"
     ]
    },
    {
     "name": "stdout",
     "output_type": "stream",
     "text": [
      "downloading /n/data1/hms/neurobio/sabatini/rich/analysis/make_dFoF_and_tqm/mouse_0916N/20231127/jobNum_0/print_log_31449884.log   to   /media/rich/bigSSD/analysis_data/face_rhythm/mouse_0916N/dFoF_and_tqm/20231127/jobNum_0/print_log_31449884.log\n"
     ]
    },
    {
     "name": "stderr",
     "output_type": "stream",
     "text": [
      "0.00b [00:00, ?b/s]\n"
     ]
    },
    {
     "name": "stdout",
     "output_type": "stream",
     "text": [
      "downloading /n/data1/hms/neurobio/sabatini/rich/analysis/make_dFoF_and_tqm/mouse_0916N/20231127/jobNum_0/sbatch_config.sh   to   /media/rich/bigSSD/analysis_data/face_rhythm/mouse_0916N/dFoF_and_tqm/20231127/jobNum_0/sbatch_config.sh\n"
     ]
    },
    {
     "name": "stderr",
     "output_type": "stream",
     "text": [
      "0.00b [00:00, ?b/s]\n"
     ]
    },
    {
     "name": "stdout",
     "output_type": "stream",
     "text": [
      "downloading /n/data1/hms/neurobio/sabatini/rich/analysis/make_dFoF_and_tqm/mouse_0916N/20231127/make_dFoF_and_tqm.py   to   /media/rich/bigSSD/analysis_data/face_rhythm/mouse_0916N/dFoF_and_tqm/20231127/make_dFoF_and_tqm.py\n"
     ]
    },
    {
     "name": "stderr",
     "output_type": "stream",
     "text": [
      "0.00b [00:00, ?b/s]\n"
     ]
    },
    {
     "name": "stdout",
     "output_type": "stream",
     "text": [
      "downloading /n/data1/hms/neurobio/sabatini/rich/analysis/make_dFoF_and_tqm/mouse_0916N/20231127/dispatcher.py   to   /media/rich/bigSSD/analysis_data/face_rhythm/mouse_0916N/dFoF_and_tqm/20231127/dispatcher.py\n"
     ]
    },
    {
     "name": "stderr",
     "output_type": "stream",
     "text": [
      "0.00b [00:00, ?b/s]"
     ]
    },
    {
     "name": "stdout",
     "output_type": "stream",
     "text": [
      "downloading /n/data1/hms/neurobio/sabatini/rich/analysis/make_dFoF_and_tqm/mouse_0916N/20231127/notes.txt   to   /media/rich/bigSSD/analysis_data/face_rhythm/mouse_0916N/dFoF_and_tqm/20231127/notes.txt\n"
     ]
    },
    {
     "name": "stderr",
     "output_type": "stream",
     "text": [
      "\n",
      "0.00b [00:00, ?b/s]\n"
     ]
    },
    {
     "name": "stdout",
     "output_type": "stream",
     "text": [
      "downloading /n/data1/hms/neurobio/sabatini/rich/analysis/make_dFoF_and_tqm/mouse_0916N/20231024/parameters_batch.json   to   /media/rich/bigSSD/analysis_data/face_rhythm/mouse_0916N/dFoF_and_tqm/20231024/parameters_batch.json\n"
     ]
    },
    {
     "name": "stderr",
     "output_type": "stream",
     "text": [
      "0.00b [00:00, ?b/s]\n"
     ]
    },
    {
     "name": "stdout",
     "output_type": "stream",
     "text": [
      "downloading /n/data1/hms/neurobio/sabatini/rich/analysis/make_dFoF_and_tqm/mouse_0916N/20231024/jobNum_0/tqm.pkl   to   /media/rich/bigSSD/analysis_data/face_rhythm/mouse_0916N/dFoF_and_tqm/20231024/jobNum_0/tqm.pkl\n"
     ]
    },
    {
     "name": "stderr",
     "output_type": "stream",
     "text": [
      "0.00b [00:00, ?b/s]\n"
     ]
    },
    {
     "name": "stdout",
     "output_type": "stream",
     "text": [
      "downloading /n/data1/hms/neurobio/sabatini/rich/analysis/make_dFoF_and_tqm/mouse_0916N/20231024/jobNum_0/params.json   to   /media/rich/bigSSD/analysis_data/face_rhythm/mouse_0916N/dFoF_and_tqm/20231024/jobNum_0/params.json\n"
     ]
    },
    {
     "name": "stderr",
     "output_type": "stream",
     "text": [
      "0.00b [00:00, ?b/s]\n"
     ]
    },
    {
     "name": "stdout",
     "output_type": "stream",
     "text": [
      "downloading /n/data1/hms/neurobio/sabatini/rich/analysis/make_dFoF_and_tqm/mouse_0916N/20231024/jobNum_0/dFoF.npy   to   /media/rich/bigSSD/analysis_data/face_rhythm/mouse_0916N/dFoF_and_tqm/20231024/jobNum_0/dFoF.npy\n"
     ]
    },
    {
     "name": "stderr",
     "output_type": "stream",
     "text": [
      "0.00b [00:20, ?b/s]\n"
     ]
    },
    {
     "name": "stdout",
     "output_type": "stream",
     "text": [
      "downloading /n/data1/hms/neurobio/sabatini/rich/analysis/make_dFoF_and_tqm/mouse_0916N/20231024/jobNum_0/print_log_31449818.log   to   /media/rich/bigSSD/analysis_data/face_rhythm/mouse_0916N/dFoF_and_tqm/20231024/jobNum_0/print_log_31449818.log\n"
     ]
    },
    {
     "name": "stderr",
     "output_type": "stream",
     "text": [
      "0.00b [00:00, ?b/s]\n"
     ]
    },
    {
     "name": "stdout",
     "output_type": "stream",
     "text": [
      "downloading /n/data1/hms/neurobio/sabatini/rich/analysis/make_dFoF_and_tqm/mouse_0916N/20231024/jobNum_0/make_dFoF_and_tqm.py   to   /media/rich/bigSSD/analysis_data/face_rhythm/mouse_0916N/dFoF_and_tqm/20231024/jobNum_0/make_dFoF_and_tqm.py\n"
     ]
    },
    {
     "name": "stderr",
     "output_type": "stream",
     "text": [
      "0.00b [00:00, ?b/s]\n"
     ]
    },
    {
     "name": "stdout",
     "output_type": "stream",
     "text": [
      "downloading /n/data1/hms/neurobio/sabatini/rich/analysis/make_dFoF_and_tqm/mouse_0916N/20231024/jobNum_0/iscell_tqm.npy   to   /media/rich/bigSSD/analysis_data/face_rhythm/mouse_0916N/dFoF_and_tqm/20231024/jobNum_0/iscell_tqm.npy\n"
     ]
    },
    {
     "name": "stderr",
     "output_type": "stream",
     "text": [
      "0.00b [00:00, ?b/s]\n"
     ]
    },
    {
     "name": "stdout",
     "output_type": "stream",
     "text": [
      "downloading /n/data1/hms/neurobio/sabatini/rich/analysis/make_dFoF_and_tqm/mouse_0916N/20231024/jobNum_0/print_log_31448036.log   to   /media/rich/bigSSD/analysis_data/face_rhythm/mouse_0916N/dFoF_and_tqm/20231024/jobNum_0/print_log_31448036.log\n"
     ]
    },
    {
     "name": "stderr",
     "output_type": "stream",
     "text": [
      "0.00b [00:00, ?b/s]\n"
     ]
    },
    {
     "name": "stdout",
     "output_type": "stream",
     "text": [
      "downloading /n/data1/hms/neurobio/sabatini/rich/analysis/make_dFoF_and_tqm/mouse_0916N/20231024/jobNum_0/sbatch_config.sh   to   /media/rich/bigSSD/analysis_data/face_rhythm/mouse_0916N/dFoF_and_tqm/20231024/jobNum_0/sbatch_config.sh\n"
     ]
    },
    {
     "name": "stderr",
     "output_type": "stream",
     "text": [
      "0.00b [00:00, ?b/s]\n"
     ]
    },
    {
     "name": "stdout",
     "output_type": "stream",
     "text": [
      "downloading /n/data1/hms/neurobio/sabatini/rich/analysis/make_dFoF_and_tqm/mouse_0916N/20231024/make_dFoF_and_tqm.py   to   /media/rich/bigSSD/analysis_data/face_rhythm/mouse_0916N/dFoF_and_tqm/20231024/make_dFoF_and_tqm.py\n"
     ]
    },
    {
     "name": "stderr",
     "output_type": "stream",
     "text": [
      "0.00b [00:00, ?b/s]\n"
     ]
    },
    {
     "name": "stdout",
     "output_type": "stream",
     "text": [
      "downloading /n/data1/hms/neurobio/sabatini/rich/analysis/make_dFoF_and_tqm/mouse_0916N/20231024/dispatcher.py   to   /media/rich/bigSSD/analysis_data/face_rhythm/mouse_0916N/dFoF_and_tqm/20231024/dispatcher.py\n"
     ]
    },
    {
     "name": "stderr",
     "output_type": "stream",
     "text": [
      "0.00b [00:00, ?b/s]\n"
     ]
    },
    {
     "name": "stdout",
     "output_type": "stream",
     "text": [
      "downloading /n/data1/hms/neurobio/sabatini/rich/analysis/make_dFoF_and_tqm/mouse_0916N/20231024/notes.txt   to   /media/rich/bigSSD/analysis_data/face_rhythm/mouse_0916N/dFoF_and_tqm/20231024/notes.txt\n"
     ]
    },
    {
     "name": "stderr",
     "output_type": "stream",
     "text": [
      "0.00b [00:00, ?b/s]\n"
     ]
    },
    {
     "name": "stdout",
     "output_type": "stream",
     "text": [
      "downloading /n/data1/hms/neurobio/sabatini/rich/analysis/make_dFoF_and_tqm/mouse_0916N/20231021/parameters_batch.json   to   /media/rich/bigSSD/analysis_data/face_rhythm/mouse_0916N/dFoF_and_tqm/20231021/parameters_batch.json\n"
     ]
    },
    {
     "name": "stderr",
     "output_type": "stream",
     "text": [
      "0.00b [00:00, ?b/s]\n"
     ]
    },
    {
     "name": "stdout",
     "output_type": "stream",
     "text": [
      "downloading /n/data1/hms/neurobio/sabatini/rich/analysis/make_dFoF_and_tqm/mouse_0916N/20231021/jobNum_0/tqm.pkl   to   /media/rich/bigSSD/analysis_data/face_rhythm/mouse_0916N/dFoF_and_tqm/20231021/jobNum_0/tqm.pkl\n"
     ]
    },
    {
     "name": "stderr",
     "output_type": "stream",
     "text": [
      "0.00b [00:00, ?b/s]\n"
     ]
    },
    {
     "name": "stdout",
     "output_type": "stream",
     "text": [
      "downloading /n/data1/hms/neurobio/sabatini/rich/analysis/make_dFoF_and_tqm/mouse_0916N/20231021/jobNum_0/params.json   to   /media/rich/bigSSD/analysis_data/face_rhythm/mouse_0916N/dFoF_and_tqm/20231021/jobNum_0/params.json\n"
     ]
    },
    {
     "name": "stderr",
     "output_type": "stream",
     "text": [
      "0.00b [00:00, ?b/s]\n"
     ]
    },
    {
     "name": "stdout",
     "output_type": "stream",
     "text": [
      "downloading /n/data1/hms/neurobio/sabatini/rich/analysis/make_dFoF_and_tqm/mouse_0916N/20231021/jobNum_0/dFoF.npy   to   /media/rich/bigSSD/analysis_data/face_rhythm/mouse_0916N/dFoF_and_tqm/20231021/jobNum_0/dFoF.npy\n"
     ]
    },
    {
     "name": "stderr",
     "output_type": "stream",
     "text": [
      "0.00b [00:24, ?b/s]\n"
     ]
    },
    {
     "name": "stdout",
     "output_type": "stream",
     "text": [
      "downloading /n/data1/hms/neurobio/sabatini/rich/analysis/make_dFoF_and_tqm/mouse_0916N/20231021/jobNum_0/print_log_31448022.log   to   /media/rich/bigSSD/analysis_data/face_rhythm/mouse_0916N/dFoF_and_tqm/20231021/jobNum_0/print_log_31448022.log\n"
     ]
    },
    {
     "name": "stderr",
     "output_type": "stream",
     "text": [
      "0.00b [00:00, ?b/s]\n"
     ]
    },
    {
     "name": "stdout",
     "output_type": "stream",
     "text": [
      "downloading /n/data1/hms/neurobio/sabatini/rich/analysis/make_dFoF_and_tqm/mouse_0916N/20231021/jobNum_0/print_log_31449810.log   to   /media/rich/bigSSD/analysis_data/face_rhythm/mouse_0916N/dFoF_and_tqm/20231021/jobNum_0/print_log_31449810.log\n"
     ]
    },
    {
     "name": "stderr",
     "output_type": "stream",
     "text": [
      "0.00b [00:00, ?b/s]\n"
     ]
    },
    {
     "name": "stdout",
     "output_type": "stream",
     "text": [
      "downloading /n/data1/hms/neurobio/sabatini/rich/analysis/make_dFoF_and_tqm/mouse_0916N/20231021/jobNum_0/make_dFoF_and_tqm.py   to   /media/rich/bigSSD/analysis_data/face_rhythm/mouse_0916N/dFoF_and_tqm/20231021/jobNum_0/make_dFoF_and_tqm.py\n"
     ]
    },
    {
     "name": "stderr",
     "output_type": "stream",
     "text": [
      "0.00b [00:00, ?b/s]\n"
     ]
    },
    {
     "name": "stdout",
     "output_type": "stream",
     "text": [
      "downloading /n/data1/hms/neurobio/sabatini/rich/analysis/make_dFoF_and_tqm/mouse_0916N/20231021/jobNum_0/iscell_tqm.npy   to   /media/rich/bigSSD/analysis_data/face_rhythm/mouse_0916N/dFoF_and_tqm/20231021/jobNum_0/iscell_tqm.npy\n"
     ]
    },
    {
     "name": "stderr",
     "output_type": "stream",
     "text": [
      "0.00b [00:00, ?b/s]\n"
     ]
    },
    {
     "name": "stdout",
     "output_type": "stream",
     "text": [
      "downloading /n/data1/hms/neurobio/sabatini/rich/analysis/make_dFoF_and_tqm/mouse_0916N/20231021/jobNum_0/sbatch_config.sh   to   /media/rich/bigSSD/analysis_data/face_rhythm/mouse_0916N/dFoF_and_tqm/20231021/jobNum_0/sbatch_config.sh\n"
     ]
    },
    {
     "name": "stderr",
     "output_type": "stream",
     "text": [
      "0.00b [00:00, ?b/s]\n"
     ]
    },
    {
     "name": "stdout",
     "output_type": "stream",
     "text": [
      "downloading /n/data1/hms/neurobio/sabatini/rich/analysis/make_dFoF_and_tqm/mouse_0916N/20231021/make_dFoF_and_tqm.py   to   /media/rich/bigSSD/analysis_data/face_rhythm/mouse_0916N/dFoF_and_tqm/20231021/make_dFoF_and_tqm.py\n"
     ]
    },
    {
     "name": "stderr",
     "output_type": "stream",
     "text": [
      "0.00b [00:00, ?b/s]\n"
     ]
    },
    {
     "name": "stdout",
     "output_type": "stream",
     "text": [
      "downloading /n/data1/hms/neurobio/sabatini/rich/analysis/make_dFoF_and_tqm/mouse_0916N/20231021/dispatcher.py   to   /media/rich/bigSSD/analysis_data/face_rhythm/mouse_0916N/dFoF_and_tqm/20231021/dispatcher.py\n"
     ]
    },
    {
     "name": "stderr",
     "output_type": "stream",
     "text": [
      "0.00b [00:00, ?b/s]\n"
     ]
    },
    {
     "name": "stdout",
     "output_type": "stream",
     "text": [
      "downloading /n/data1/hms/neurobio/sabatini/rich/analysis/make_dFoF_and_tqm/mouse_0916N/20231021/notes.txt   to   /media/rich/bigSSD/analysis_data/face_rhythm/mouse_0916N/dFoF_and_tqm/20231021/notes.txt\n"
     ]
    },
    {
     "name": "stderr",
     "output_type": "stream",
     "text": [
      "0.00b [00:00, ?b/s]\n"
     ]
    },
    {
     "name": "stdout",
     "output_type": "stream",
     "text": [
      "downloading /n/data1/hms/neurobio/sabatini/rich/analysis/make_dFoF_and_tqm/mouse_0916N/20231025/parameters_batch.json   to   /media/rich/bigSSD/analysis_data/face_rhythm/mouse_0916N/dFoF_and_tqm/20231025/parameters_batch.json\n"
     ]
    },
    {
     "name": "stderr",
     "output_type": "stream",
     "text": [
      "0.00b [00:00, ?b/s]\n"
     ]
    },
    {
     "name": "stdout",
     "output_type": "stream",
     "text": [
      "downloading /n/data1/hms/neurobio/sabatini/rich/analysis/make_dFoF_and_tqm/mouse_0916N/20231025/jobNum_0/tqm.pkl   to   /media/rich/bigSSD/analysis_data/face_rhythm/mouse_0916N/dFoF_and_tqm/20231025/jobNum_0/tqm.pkl\n"
     ]
    },
    {
     "name": "stderr",
     "output_type": "stream",
     "text": [
      "0.00b [00:00, ?b/s]\n"
     ]
    },
    {
     "name": "stdout",
     "output_type": "stream",
     "text": [
      "downloading /n/data1/hms/neurobio/sabatini/rich/analysis/make_dFoF_and_tqm/mouse_0916N/20231025/jobNum_0/params.json   to   /media/rich/bigSSD/analysis_data/face_rhythm/mouse_0916N/dFoF_and_tqm/20231025/jobNum_0/params.json\n"
     ]
    },
    {
     "name": "stderr",
     "output_type": "stream",
     "text": [
      "0.00b [00:00, ?b/s]\n"
     ]
    },
    {
     "name": "stdout",
     "output_type": "stream",
     "text": [
      "downloading /n/data1/hms/neurobio/sabatini/rich/analysis/make_dFoF_and_tqm/mouse_0916N/20231025/jobNum_0/dFoF.npy   to   /media/rich/bigSSD/analysis_data/face_rhythm/mouse_0916N/dFoF_and_tqm/20231025/jobNum_0/dFoF.npy\n"
     ]
    },
    {
     "name": "stderr",
     "output_type": "stream",
     "text": [
      "0.00b [00:24, ?b/s]\n"
     ]
    },
    {
     "name": "stdout",
     "output_type": "stream",
     "text": [
      "downloading /n/data1/hms/neurobio/sabatini/rich/analysis/make_dFoF_and_tqm/mouse_0916N/20231025/jobNum_0/print_log_31448042.log   to   /media/rich/bigSSD/analysis_data/face_rhythm/mouse_0916N/dFoF_and_tqm/20231025/jobNum_0/print_log_31448042.log\n"
     ]
    },
    {
     "name": "stderr",
     "output_type": "stream",
     "text": [
      "0.00b [00:00, ?b/s]\n"
     ]
    },
    {
     "name": "stdout",
     "output_type": "stream",
     "text": [
      "downloading /n/data1/hms/neurobio/sabatini/rich/analysis/make_dFoF_and_tqm/mouse_0916N/20231025/jobNum_0/make_dFoF_and_tqm.py   to   /media/rich/bigSSD/analysis_data/face_rhythm/mouse_0916N/dFoF_and_tqm/20231025/jobNum_0/make_dFoF_and_tqm.py\n"
     ]
    },
    {
     "name": "stderr",
     "output_type": "stream",
     "text": [
      "0.00b [00:00, ?b/s]\n"
     ]
    },
    {
     "name": "stdout",
     "output_type": "stream",
     "text": [
      "downloading /n/data1/hms/neurobio/sabatini/rich/analysis/make_dFoF_and_tqm/mouse_0916N/20231025/jobNum_0/iscell_tqm.npy   to   /media/rich/bigSSD/analysis_data/face_rhythm/mouse_0916N/dFoF_and_tqm/20231025/jobNum_0/iscell_tqm.npy\n"
     ]
    },
    {
     "name": "stderr",
     "output_type": "stream",
     "text": [
      "0.00b [00:00, ?b/s]\n"
     ]
    },
    {
     "name": "stdout",
     "output_type": "stream",
     "text": [
      "downloading /n/data1/hms/neurobio/sabatini/rich/analysis/make_dFoF_and_tqm/mouse_0916N/20231025/jobNum_0/sbatch_config.sh   to   /media/rich/bigSSD/analysis_data/face_rhythm/mouse_0916N/dFoF_and_tqm/20231025/jobNum_0/sbatch_config.sh\n"
     ]
    },
    {
     "name": "stderr",
     "output_type": "stream",
     "text": [
      "0.00b [00:00, ?b/s]\n"
     ]
    },
    {
     "name": "stdout",
     "output_type": "stream",
     "text": [
      "downloading /n/data1/hms/neurobio/sabatini/rich/analysis/make_dFoF_and_tqm/mouse_0916N/20231025/jobNum_0/print_log_31449823.log   to   /media/rich/bigSSD/analysis_data/face_rhythm/mouse_0916N/dFoF_and_tqm/20231025/jobNum_0/print_log_31449823.log\n"
     ]
    },
    {
     "name": "stderr",
     "output_type": "stream",
     "text": [
      "0.00b [00:00, ?b/s]\n"
     ]
    },
    {
     "name": "stdout",
     "output_type": "stream",
     "text": [
      "downloading /n/data1/hms/neurobio/sabatini/rich/analysis/make_dFoF_and_tqm/mouse_0916N/20231025/make_dFoF_and_tqm.py   to   /media/rich/bigSSD/analysis_data/face_rhythm/mouse_0916N/dFoF_and_tqm/20231025/make_dFoF_and_tqm.py\n"
     ]
    },
    {
     "name": "stderr",
     "output_type": "stream",
     "text": [
      "0.00b [00:00, ?b/s]\n"
     ]
    },
    {
     "name": "stdout",
     "output_type": "stream",
     "text": [
      "downloading /n/data1/hms/neurobio/sabatini/rich/analysis/make_dFoF_and_tqm/mouse_0916N/20231025/dispatcher.py   to   /media/rich/bigSSD/analysis_data/face_rhythm/mouse_0916N/dFoF_and_tqm/20231025/dispatcher.py\n"
     ]
    },
    {
     "name": "stderr",
     "output_type": "stream",
     "text": [
      "0.00b [00:00, ?b/s]\n"
     ]
    },
    {
     "name": "stdout",
     "output_type": "stream",
     "text": [
      "downloading /n/data1/hms/neurobio/sabatini/rich/analysis/make_dFoF_and_tqm/mouse_0916N/20231025/notes.txt   to   /media/rich/bigSSD/analysis_data/face_rhythm/mouse_0916N/dFoF_and_tqm/20231025/notes.txt\n"
     ]
    },
    {
     "name": "stderr",
     "output_type": "stream",
     "text": [
      "0.00b [00:00, ?b/s]\n"
     ]
    },
    {
     "name": "stdout",
     "output_type": "stream",
     "text": [
      "downloading /n/data1/hms/neurobio/sabatini/rich/analysis/make_dFoF_and_tqm/mouse_0916N/20231106/parameters_batch.json   to   /media/rich/bigSSD/analysis_data/face_rhythm/mouse_0916N/dFoF_and_tqm/20231106/parameters_batch.json\n"
     ]
    },
    {
     "name": "stderr",
     "output_type": "stream",
     "text": [
      "0.00b [00:00, ?b/s]\n"
     ]
    },
    {
     "name": "stdout",
     "output_type": "stream",
     "text": [
      "downloading /n/data1/hms/neurobio/sabatini/rich/analysis/make_dFoF_and_tqm/mouse_0916N/20231106/jobNum_0/tqm.pkl   to   /media/rich/bigSSD/analysis_data/face_rhythm/mouse_0916N/dFoF_and_tqm/20231106/jobNum_0/tqm.pkl\n"
     ]
    },
    {
     "name": "stderr",
     "output_type": "stream",
     "text": [
      "0.00b [00:00, ?b/s]\n"
     ]
    },
    {
     "name": "stdout",
     "output_type": "stream",
     "text": [
      "downloading /n/data1/hms/neurobio/sabatini/rich/analysis/make_dFoF_and_tqm/mouse_0916N/20231106/jobNum_0/params.json   to   /media/rich/bigSSD/analysis_data/face_rhythm/mouse_0916N/dFoF_and_tqm/20231106/jobNum_0/params.json\n"
     ]
    },
    {
     "name": "stderr",
     "output_type": "stream",
     "text": [
      "0.00b [00:00, ?b/s]\n"
     ]
    },
    {
     "name": "stdout",
     "output_type": "stream",
     "text": [
      "downloading /n/data1/hms/neurobio/sabatini/rich/analysis/make_dFoF_and_tqm/mouse_0916N/20231106/jobNum_0/dFoF.npy   to   /media/rich/bigSSD/analysis_data/face_rhythm/mouse_0916N/dFoF_and_tqm/20231106/jobNum_0/dFoF.npy\n"
     ]
    },
    {
     "name": "stderr",
     "output_type": "stream",
     "text": [
      "0.00b [00:22, ?b/s]\n"
     ]
    },
    {
     "name": "stdout",
     "output_type": "stream",
     "text": [
      "downloading /n/data1/hms/neurobio/sabatini/rich/analysis/make_dFoF_and_tqm/mouse_0916N/20231106/jobNum_0/print_log_31448207.log   to   /media/rich/bigSSD/analysis_data/face_rhythm/mouse_0916N/dFoF_and_tqm/20231106/jobNum_0/print_log_31448207.log\n"
     ]
    },
    {
     "name": "stderr",
     "output_type": "stream",
     "text": [
      "0.00b [00:00, ?b/s]\n"
     ]
    },
    {
     "name": "stdout",
     "output_type": "stream",
     "text": [
      "downloading /n/data1/hms/neurobio/sabatini/rich/analysis/make_dFoF_and_tqm/mouse_0916N/20231106/jobNum_0/make_dFoF_and_tqm.py   to   /media/rich/bigSSD/analysis_data/face_rhythm/mouse_0916N/dFoF_and_tqm/20231106/jobNum_0/make_dFoF_and_tqm.py\n"
     ]
    },
    {
     "name": "stderr",
     "output_type": "stream",
     "text": [
      "0.00b [00:00, ?b/s]\n"
     ]
    },
    {
     "name": "stdout",
     "output_type": "stream",
     "text": [
      "downloading /n/data1/hms/neurobio/sabatini/rich/analysis/make_dFoF_and_tqm/mouse_0916N/20231106/jobNum_0/iscell_tqm.npy   to   /media/rich/bigSSD/analysis_data/face_rhythm/mouse_0916N/dFoF_and_tqm/20231106/jobNum_0/iscell_tqm.npy\n"
     ]
    },
    {
     "name": "stderr",
     "output_type": "stream",
     "text": [
      "0.00b [00:00, ?b/s]\n"
     ]
    },
    {
     "name": "stdout",
     "output_type": "stream",
     "text": [
      "downloading /n/data1/hms/neurobio/sabatini/rich/analysis/make_dFoF_and_tqm/mouse_0916N/20231106/jobNum_0/sbatch_config.sh   to   /media/rich/bigSSD/analysis_data/face_rhythm/mouse_0916N/dFoF_and_tqm/20231106/jobNum_0/sbatch_config.sh\n"
     ]
    },
    {
     "name": "stderr",
     "output_type": "stream",
     "text": [
      "0.00b [00:00, ?b/s]\n"
     ]
    },
    {
     "name": "stdout",
     "output_type": "stream",
     "text": [
      "downloading /n/data1/hms/neurobio/sabatini/rich/analysis/make_dFoF_and_tqm/mouse_0916N/20231106/jobNum_0/print_log_31449881.log   to   /media/rich/bigSSD/analysis_data/face_rhythm/mouse_0916N/dFoF_and_tqm/20231106/jobNum_0/print_log_31449881.log\n"
     ]
    },
    {
     "name": "stderr",
     "output_type": "stream",
     "text": [
      "0.00b [00:00, ?b/s]\n"
     ]
    },
    {
     "name": "stdout",
     "output_type": "stream",
     "text": [
      "downloading /n/data1/hms/neurobio/sabatini/rich/analysis/make_dFoF_and_tqm/mouse_0916N/20231106/make_dFoF_and_tqm.py   to   /media/rich/bigSSD/analysis_data/face_rhythm/mouse_0916N/dFoF_and_tqm/20231106/make_dFoF_and_tqm.py\n"
     ]
    },
    {
     "name": "stderr",
     "output_type": "stream",
     "text": [
      "0.00b [00:00, ?b/s]\n"
     ]
    },
    {
     "name": "stdout",
     "output_type": "stream",
     "text": [
      "downloading /n/data1/hms/neurobio/sabatini/rich/analysis/make_dFoF_and_tqm/mouse_0916N/20231106/dispatcher.py   to   /media/rich/bigSSD/analysis_data/face_rhythm/mouse_0916N/dFoF_and_tqm/20231106/dispatcher.py\n"
     ]
    },
    {
     "name": "stderr",
     "output_type": "stream",
     "text": [
      "0.00b [00:00, ?b/s]\n"
     ]
    },
    {
     "name": "stdout",
     "output_type": "stream",
     "text": [
      "downloading /n/data1/hms/neurobio/sabatini/rich/analysis/make_dFoF_and_tqm/mouse_0916N/20231106/notes.txt   to   /media/rich/bigSSD/analysis_data/face_rhythm/mouse_0916N/dFoF_and_tqm/20231106/notes.txt\n"
     ]
    },
    {
     "name": "stderr",
     "output_type": "stream",
     "text": [
      "0.00b [00:00, ?b/s]\n"
     ]
    },
    {
     "name": "stdout",
     "output_type": "stream",
     "text": [
      "downloading /n/data1/hms/neurobio/sabatini/rich/analysis/make_dFoF_and_tqm/mouse_0916N/20231129/parameters_batch.json   to   /media/rich/bigSSD/analysis_data/face_rhythm/mouse_0916N/dFoF_and_tqm/20231129/parameters_batch.json\n"
     ]
    },
    {
     "name": "stderr",
     "output_type": "stream",
     "text": [
      "0.00b [00:00, ?b/s]\n"
     ]
    },
    {
     "name": "stdout",
     "output_type": "stream",
     "text": [
      "downloading /n/data1/hms/neurobio/sabatini/rich/analysis/make_dFoF_and_tqm/mouse_0916N/20231129/jobNum_0/tqm.pkl   to   /media/rich/bigSSD/analysis_data/face_rhythm/mouse_0916N/dFoF_and_tqm/20231129/jobNum_0/tqm.pkl\n"
     ]
    },
    {
     "name": "stderr",
     "output_type": "stream",
     "text": [
      "0.00b [00:00, ?b/s]\n"
     ]
    },
    {
     "name": "stdout",
     "output_type": "stream",
     "text": [
      "downloading /n/data1/hms/neurobio/sabatini/rich/analysis/make_dFoF_and_tqm/mouse_0916N/20231129/jobNum_0/params.json   to   /media/rich/bigSSD/analysis_data/face_rhythm/mouse_0916N/dFoF_and_tqm/20231129/jobNum_0/params.json\n"
     ]
    },
    {
     "name": "stderr",
     "output_type": "stream",
     "text": [
      "0.00b [00:00, ?b/s]\n"
     ]
    },
    {
     "name": "stdout",
     "output_type": "stream",
     "text": [
      "downloading /n/data1/hms/neurobio/sabatini/rich/analysis/make_dFoF_and_tqm/mouse_0916N/20231129/jobNum_0/dFoF.npy   to   /media/rich/bigSSD/analysis_data/face_rhythm/mouse_0916N/dFoF_and_tqm/20231129/jobNum_0/dFoF.npy\n"
     ]
    },
    {
     "name": "stderr",
     "output_type": "stream",
     "text": [
      "0.00b [00:16, ?b/s]\n"
     ]
    },
    {
     "name": "stdout",
     "output_type": "stream",
     "text": [
      "downloading /n/data1/hms/neurobio/sabatini/rich/analysis/make_dFoF_and_tqm/mouse_0916N/20231129/jobNum_0/print_log_31448217.log   to   /media/rich/bigSSD/analysis_data/face_rhythm/mouse_0916N/dFoF_and_tqm/20231129/jobNum_0/print_log_31448217.log\n"
     ]
    },
    {
     "name": "stderr",
     "output_type": "stream",
     "text": [
      "0.00b [00:00, ?b/s]\n"
     ]
    },
    {
     "name": "stdout",
     "output_type": "stream",
     "text": [
      "downloading /n/data1/hms/neurobio/sabatini/rich/analysis/make_dFoF_and_tqm/mouse_0916N/20231129/jobNum_0/print_log_31449894.log   to   /media/rich/bigSSD/analysis_data/face_rhythm/mouse_0916N/dFoF_and_tqm/20231129/jobNum_0/print_log_31449894.log\n"
     ]
    },
    {
     "name": "stderr",
     "output_type": "stream",
     "text": [
      "0.00b [00:00, ?b/s]\n"
     ]
    },
    {
     "name": "stdout",
     "output_type": "stream",
     "text": [
      "downloading /n/data1/hms/neurobio/sabatini/rich/analysis/make_dFoF_and_tqm/mouse_0916N/20231129/jobNum_0/make_dFoF_and_tqm.py   to   /media/rich/bigSSD/analysis_data/face_rhythm/mouse_0916N/dFoF_and_tqm/20231129/jobNum_0/make_dFoF_and_tqm.py\n"
     ]
    },
    {
     "name": "stderr",
     "output_type": "stream",
     "text": [
      "0.00b [00:00, ?b/s]\n"
     ]
    },
    {
     "name": "stdout",
     "output_type": "stream",
     "text": [
      "downloading /n/data1/hms/neurobio/sabatini/rich/analysis/make_dFoF_and_tqm/mouse_0916N/20231129/jobNum_0/iscell_tqm.npy   to   /media/rich/bigSSD/analysis_data/face_rhythm/mouse_0916N/dFoF_and_tqm/20231129/jobNum_0/iscell_tqm.npy\n"
     ]
    },
    {
     "name": "stderr",
     "output_type": "stream",
     "text": [
      "0.00b [00:00, ?b/s]\n"
     ]
    },
    {
     "name": "stdout",
     "output_type": "stream",
     "text": [
      "downloading /n/data1/hms/neurobio/sabatini/rich/analysis/make_dFoF_and_tqm/mouse_0916N/20231129/jobNum_0/sbatch_config.sh   to   /media/rich/bigSSD/analysis_data/face_rhythm/mouse_0916N/dFoF_and_tqm/20231129/jobNum_0/sbatch_config.sh\n"
     ]
    },
    {
     "name": "stderr",
     "output_type": "stream",
     "text": [
      "0.00b [00:00, ?b/s]\n"
     ]
    },
    {
     "name": "stdout",
     "output_type": "stream",
     "text": [
      "downloading /n/data1/hms/neurobio/sabatini/rich/analysis/make_dFoF_and_tqm/mouse_0916N/20231129/make_dFoF_and_tqm.py   to   /media/rich/bigSSD/analysis_data/face_rhythm/mouse_0916N/dFoF_and_tqm/20231129/make_dFoF_and_tqm.py\n"
     ]
    },
    {
     "name": "stderr",
     "output_type": "stream",
     "text": [
      "0.00b [00:00, ?b/s]\n"
     ]
    },
    {
     "name": "stdout",
     "output_type": "stream",
     "text": [
      "downloading /n/data1/hms/neurobio/sabatini/rich/analysis/make_dFoF_and_tqm/mouse_0916N/20231129/dispatcher.py   to   /media/rich/bigSSD/analysis_data/face_rhythm/mouse_0916N/dFoF_and_tqm/20231129/dispatcher.py\n"
     ]
    },
    {
     "name": "stderr",
     "output_type": "stream",
     "text": [
      "0.00b [00:00, ?b/s]\n"
     ]
    },
    {
     "name": "stdout",
     "output_type": "stream",
     "text": [
      "downloading /n/data1/hms/neurobio/sabatini/rich/analysis/make_dFoF_and_tqm/mouse_0916N/20231129/notes.txt   to   /media/rich/bigSSD/analysis_data/face_rhythm/mouse_0916N/dFoF_and_tqm/20231129/notes.txt\n"
     ]
    },
    {
     "name": "stderr",
     "output_type": "stream",
     "text": [
      "0.00b [00:00, ?b/s]\n"
     ]
    },
    {
     "name": "stdout",
     "output_type": "stream",
     "text": [
      "downloading /n/data1/hms/neurobio/sabatini/rich/analysis/make_dFoF_and_tqm/mouse_0916N/20231023/parameters_batch.json   to   /media/rich/bigSSD/analysis_data/face_rhythm/mouse_0916N/dFoF_and_tqm/20231023/parameters_batch.json\n"
     ]
    },
    {
     "name": "stderr",
     "output_type": "stream",
     "text": [
      "0.00b [00:00, ?b/s]\n"
     ]
    },
    {
     "name": "stdout",
     "output_type": "stream",
     "text": [
      "downloading /n/data1/hms/neurobio/sabatini/rich/analysis/make_dFoF_and_tqm/mouse_0916N/20231023/jobNum_0/tqm.pkl   to   /media/rich/bigSSD/analysis_data/face_rhythm/mouse_0916N/dFoF_and_tqm/20231023/jobNum_0/tqm.pkl\n"
     ]
    },
    {
     "name": "stderr",
     "output_type": "stream",
     "text": [
      "0.00b [00:00, ?b/s]\n"
     ]
    },
    {
     "name": "stdout",
     "output_type": "stream",
     "text": [
      "downloading /n/data1/hms/neurobio/sabatini/rich/analysis/make_dFoF_and_tqm/mouse_0916N/20231023/jobNum_0/params.json   to   /media/rich/bigSSD/analysis_data/face_rhythm/mouse_0916N/dFoF_and_tqm/20231023/jobNum_0/params.json\n"
     ]
    },
    {
     "name": "stderr",
     "output_type": "stream",
     "text": [
      "0.00b [00:00, ?b/s]\n"
     ]
    },
    {
     "name": "stdout",
     "output_type": "stream",
     "text": [
      "downloading /n/data1/hms/neurobio/sabatini/rich/analysis/make_dFoF_and_tqm/mouse_0916N/20231023/jobNum_0/dFoF.npy   to   /media/rich/bigSSD/analysis_data/face_rhythm/mouse_0916N/dFoF_and_tqm/20231023/jobNum_0/dFoF.npy\n"
     ]
    },
    {
     "name": "stderr",
     "output_type": "stream",
     "text": [
      "0.00b [00:25, ?b/s]\n"
     ]
    },
    {
     "name": "stdout",
     "output_type": "stream",
     "text": [
      "downloading /n/data1/hms/neurobio/sabatini/rich/analysis/make_dFoF_and_tqm/mouse_0916N/20231023/jobNum_0/print_log_31448033.log   to   /media/rich/bigSSD/analysis_data/face_rhythm/mouse_0916N/dFoF_and_tqm/20231023/jobNum_0/print_log_31448033.log\n"
     ]
    },
    {
     "name": "stderr",
     "output_type": "stream",
     "text": [
      "0.00b [00:00, ?b/s]\n"
     ]
    },
    {
     "name": "stdout",
     "output_type": "stream",
     "text": [
      "downloading /n/data1/hms/neurobio/sabatini/rich/analysis/make_dFoF_and_tqm/mouse_0916N/20231023/jobNum_0/print_log_31449815.log   to   /media/rich/bigSSD/analysis_data/face_rhythm/mouse_0916N/dFoF_and_tqm/20231023/jobNum_0/print_log_31449815.log\n"
     ]
    },
    {
     "name": "stderr",
     "output_type": "stream",
     "text": [
      "0.00b [00:00, ?b/s]\n"
     ]
    },
    {
     "name": "stdout",
     "output_type": "stream",
     "text": [
      "downloading /n/data1/hms/neurobio/sabatini/rich/analysis/make_dFoF_and_tqm/mouse_0916N/20231023/jobNum_0/make_dFoF_and_tqm.py   to   /media/rich/bigSSD/analysis_data/face_rhythm/mouse_0916N/dFoF_and_tqm/20231023/jobNum_0/make_dFoF_and_tqm.py\n"
     ]
    },
    {
     "name": "stderr",
     "output_type": "stream",
     "text": [
      "0.00b [00:00, ?b/s]\n"
     ]
    },
    {
     "name": "stdout",
     "output_type": "stream",
     "text": [
      "downloading /n/data1/hms/neurobio/sabatini/rich/analysis/make_dFoF_and_tqm/mouse_0916N/20231023/jobNum_0/iscell_tqm.npy   to   /media/rich/bigSSD/analysis_data/face_rhythm/mouse_0916N/dFoF_and_tqm/20231023/jobNum_0/iscell_tqm.npy\n"
     ]
    },
    {
     "name": "stderr",
     "output_type": "stream",
     "text": [
      "0.00b [00:00, ?b/s]\n"
     ]
    },
    {
     "name": "stdout",
     "output_type": "stream",
     "text": [
      "downloading /n/data1/hms/neurobio/sabatini/rich/analysis/make_dFoF_and_tqm/mouse_0916N/20231023/jobNum_0/sbatch_config.sh   to   /media/rich/bigSSD/analysis_data/face_rhythm/mouse_0916N/dFoF_and_tqm/20231023/jobNum_0/sbatch_config.sh\n"
     ]
    },
    {
     "name": "stderr",
     "output_type": "stream",
     "text": [
      "0.00b [00:00, ?b/s]\n"
     ]
    },
    {
     "name": "stdout",
     "output_type": "stream",
     "text": [
      "downloading /n/data1/hms/neurobio/sabatini/rich/analysis/make_dFoF_and_tqm/mouse_0916N/20231023/make_dFoF_and_tqm.py   to   /media/rich/bigSSD/analysis_data/face_rhythm/mouse_0916N/dFoF_and_tqm/20231023/make_dFoF_and_tqm.py\n"
     ]
    },
    {
     "name": "stderr",
     "output_type": "stream",
     "text": [
      "0.00b [00:00, ?b/s]\n"
     ]
    },
    {
     "name": "stdout",
     "output_type": "stream",
     "text": [
      "downloading /n/data1/hms/neurobio/sabatini/rich/analysis/make_dFoF_and_tqm/mouse_0916N/20231023/dispatcher.py   to   /media/rich/bigSSD/analysis_data/face_rhythm/mouse_0916N/dFoF_and_tqm/20231023/dispatcher.py\n"
     ]
    },
    {
     "name": "stderr",
     "output_type": "stream",
     "text": [
      "0.00b [00:00, ?b/s]\n"
     ]
    },
    {
     "name": "stdout",
     "output_type": "stream",
     "text": [
      "downloading /n/data1/hms/neurobio/sabatini/rich/analysis/make_dFoF_and_tqm/mouse_0916N/20231023/notes.txt   to   /media/rich/bigSSD/analysis_data/face_rhythm/mouse_0916N/dFoF_and_tqm/20231023/notes.txt\n"
     ]
    },
    {
     "name": "stderr",
     "output_type": "stream",
     "text": [
      "0.00b [00:00, ?b/s]\n"
     ]
    },
    {
     "name": "stdout",
     "output_type": "stream",
     "text": [
      "downloading /n/data1/hms/neurobio/sabatini/rich/analysis/make_dFoF_and_tqm/mouse_0916N/20231022/parameters_batch.json   to   /media/rich/bigSSD/analysis_data/face_rhythm/mouse_0916N/dFoF_and_tqm/20231022/parameters_batch.json\n"
     ]
    },
    {
     "name": "stderr",
     "output_type": "stream",
     "text": [
      "0.00b [00:00, ?b/s]\n"
     ]
    },
    {
     "name": "stdout",
     "output_type": "stream",
     "text": [
      "downloading /n/data1/hms/neurobio/sabatini/rich/analysis/make_dFoF_and_tqm/mouse_0916N/20231022/jobNum_0/print_log_31448026.log   to   /media/rich/bigSSD/analysis_data/face_rhythm/mouse_0916N/dFoF_and_tqm/20231022/jobNum_0/print_log_31448026.log\n"
     ]
    },
    {
     "name": "stderr",
     "output_type": "stream",
     "text": [
      "0.00b [00:00, ?b/s]\n"
     ]
    },
    {
     "name": "stdout",
     "output_type": "stream",
     "text": [
      "downloading /n/data1/hms/neurobio/sabatini/rich/analysis/make_dFoF_and_tqm/mouse_0916N/20231022/jobNum_0/tqm.pkl   to   /media/rich/bigSSD/analysis_data/face_rhythm/mouse_0916N/dFoF_and_tqm/20231022/jobNum_0/tqm.pkl\n"
     ]
    },
    {
     "name": "stderr",
     "output_type": "stream",
     "text": [
      "0.00b [00:00, ?b/s]\n"
     ]
    },
    {
     "name": "stdout",
     "output_type": "stream",
     "text": [
      "downloading /n/data1/hms/neurobio/sabatini/rich/analysis/make_dFoF_and_tqm/mouse_0916N/20231022/jobNum_0/params.json   to   /media/rich/bigSSD/analysis_data/face_rhythm/mouse_0916N/dFoF_and_tqm/20231022/jobNum_0/params.json\n"
     ]
    },
    {
     "name": "stderr",
     "output_type": "stream",
     "text": [
      "0.00b [00:00, ?b/s]\n"
     ]
    },
    {
     "name": "stdout",
     "output_type": "stream",
     "text": [
      "downloading /n/data1/hms/neurobio/sabatini/rich/analysis/make_dFoF_and_tqm/mouse_0916N/20231022/jobNum_0/dFoF.npy   to   /media/rich/bigSSD/analysis_data/face_rhythm/mouse_0916N/dFoF_and_tqm/20231022/jobNum_0/dFoF.npy\n"
     ]
    },
    {
     "name": "stderr",
     "output_type": "stream",
     "text": [
      "0.00b [00:24, ?b/s]\n"
     ]
    },
    {
     "name": "stdout",
     "output_type": "stream",
     "text": [
      "downloading /n/data1/hms/neurobio/sabatini/rich/analysis/make_dFoF_and_tqm/mouse_0916N/20231022/jobNum_0/make_dFoF_and_tqm.py   to   /media/rich/bigSSD/analysis_data/face_rhythm/mouse_0916N/dFoF_and_tqm/20231022/jobNum_0/make_dFoF_and_tqm.py\n"
     ]
    },
    {
     "name": "stderr",
     "output_type": "stream",
     "text": [
      "0.00b [00:00, ?b/s]\n"
     ]
    },
    {
     "name": "stdout",
     "output_type": "stream",
     "text": [
      "downloading /n/data1/hms/neurobio/sabatini/rich/analysis/make_dFoF_and_tqm/mouse_0916N/20231022/jobNum_0/iscell_tqm.npy   to   /media/rich/bigSSD/analysis_data/face_rhythm/mouse_0916N/dFoF_and_tqm/20231022/jobNum_0/iscell_tqm.npy\n"
     ]
    },
    {
     "name": "stderr",
     "output_type": "stream",
     "text": [
      "0.00b [00:00, ?b/s]\n"
     ]
    },
    {
     "name": "stdout",
     "output_type": "stream",
     "text": [
      "downloading /n/data1/hms/neurobio/sabatini/rich/analysis/make_dFoF_and_tqm/mouse_0916N/20231022/jobNum_0/sbatch_config.sh   to   /media/rich/bigSSD/analysis_data/face_rhythm/mouse_0916N/dFoF_and_tqm/20231022/jobNum_0/sbatch_config.sh\n"
     ]
    },
    {
     "name": "stderr",
     "output_type": "stream",
     "text": [
      "0.00b [00:00, ?b/s]\n"
     ]
    },
    {
     "name": "stdout",
     "output_type": "stream",
     "text": [
      "downloading /n/data1/hms/neurobio/sabatini/rich/analysis/make_dFoF_and_tqm/mouse_0916N/20231022/jobNum_0/print_log_31449813.log   to   /media/rich/bigSSD/analysis_data/face_rhythm/mouse_0916N/dFoF_and_tqm/20231022/jobNum_0/print_log_31449813.log\n"
     ]
    },
    {
     "name": "stderr",
     "output_type": "stream",
     "text": [
      "0.00b [00:00, ?b/s]\n"
     ]
    },
    {
     "name": "stdout",
     "output_type": "stream",
     "text": [
      "downloading /n/data1/hms/neurobio/sabatini/rich/analysis/make_dFoF_and_tqm/mouse_0916N/20231022/make_dFoF_and_tqm.py   to   /media/rich/bigSSD/analysis_data/face_rhythm/mouse_0916N/dFoF_and_tqm/20231022/make_dFoF_and_tqm.py\n"
     ]
    },
    {
     "name": "stderr",
     "output_type": "stream",
     "text": [
      "0.00b [00:00, ?b/s]\n"
     ]
    },
    {
     "name": "stdout",
     "output_type": "stream",
     "text": [
      "downloading /n/data1/hms/neurobio/sabatini/rich/analysis/make_dFoF_and_tqm/mouse_0916N/20231022/dispatcher.py   to   /media/rich/bigSSD/analysis_data/face_rhythm/mouse_0916N/dFoF_and_tqm/20231022/dispatcher.py\n"
     ]
    },
    {
     "name": "stderr",
     "output_type": "stream",
     "text": [
      "0.00b [00:00, ?b/s]\n"
     ]
    },
    {
     "name": "stdout",
     "output_type": "stream",
     "text": [
      "downloading /n/data1/hms/neurobio/sabatini/rich/analysis/make_dFoF_and_tqm/mouse_0916N/20231022/notes.txt   to   /media/rich/bigSSD/analysis_data/face_rhythm/mouse_0916N/dFoF_and_tqm/20231022/notes.txt\n"
     ]
    },
    {
     "name": "stderr",
     "output_type": "stream",
     "text": [
      "0.00b [00:00, ?b/s]\n"
     ]
    },
    {
     "name": "stdout",
     "output_type": "stream",
     "text": [
      "downloading /n/data1/hms/neurobio/sabatini/rich/analysis/make_dFoF_and_tqm/mouse_0916N/20231031/parameters_batch.json   to   /media/rich/bigSSD/analysis_data/face_rhythm/mouse_0916N/dFoF_and_tqm/20231031/parameters_batch.json\n"
     ]
    },
    {
     "name": "stderr",
     "output_type": "stream",
     "text": [
      "0.00b [00:00, ?b/s]\n"
     ]
    },
    {
     "name": "stdout",
     "output_type": "stream",
     "text": [
      "downloading /n/data1/hms/neurobio/sabatini/rich/analysis/make_dFoF_and_tqm/mouse_0916N/20231031/jobNum_0/tqm.pkl   to   /media/rich/bigSSD/analysis_data/face_rhythm/mouse_0916N/dFoF_and_tqm/20231031/jobNum_0/tqm.pkl\n"
     ]
    },
    {
     "name": "stderr",
     "output_type": "stream",
     "text": [
      "0.00b [00:00, ?b/s]\n"
     ]
    },
    {
     "name": "stdout",
     "output_type": "stream",
     "text": [
      "downloading /n/data1/hms/neurobio/sabatini/rich/analysis/make_dFoF_and_tqm/mouse_0916N/20231031/jobNum_0/params.json   to   /media/rich/bigSSD/analysis_data/face_rhythm/mouse_0916N/dFoF_and_tqm/20231031/jobNum_0/params.json\n"
     ]
    },
    {
     "name": "stderr",
     "output_type": "stream",
     "text": [
      "0.00b [00:00, ?b/s]\n"
     ]
    },
    {
     "name": "stdout",
     "output_type": "stream",
     "text": [
      "downloading /n/data1/hms/neurobio/sabatini/rich/analysis/make_dFoF_and_tqm/mouse_0916N/20231031/jobNum_0/dFoF.npy   to   /media/rich/bigSSD/analysis_data/face_rhythm/mouse_0916N/dFoF_and_tqm/20231031/jobNum_0/dFoF.npy\n"
     ]
    },
    {
     "name": "stderr",
     "output_type": "stream",
     "text": [
      "0.00b [00:25, ?b/s]\n"
     ]
    },
    {
     "name": "stdout",
     "output_type": "stream",
     "text": [
      "downloading /n/data1/hms/neurobio/sabatini/rich/analysis/make_dFoF_and_tqm/mouse_0916N/20231031/jobNum_0/print_log_31449846.log   to   /media/rich/bigSSD/analysis_data/face_rhythm/mouse_0916N/dFoF_and_tqm/20231031/jobNum_0/print_log_31449846.log\n"
     ]
    },
    {
     "name": "stderr",
     "output_type": "stream",
     "text": [
      "0.00b [00:00, ?b/s]\n"
     ]
    },
    {
     "name": "stdout",
     "output_type": "stream",
     "text": [
      "downloading /n/data1/hms/neurobio/sabatini/rich/analysis/make_dFoF_and_tqm/mouse_0916N/20231031/jobNum_0/make_dFoF_and_tqm.py   to   /media/rich/bigSSD/analysis_data/face_rhythm/mouse_0916N/dFoF_and_tqm/20231031/jobNum_0/make_dFoF_and_tqm.py\n"
     ]
    },
    {
     "name": "stderr",
     "output_type": "stream",
     "text": [
      "0.00b [00:00, ?b/s]\n"
     ]
    },
    {
     "name": "stdout",
     "output_type": "stream",
     "text": [
      "downloading /n/data1/hms/neurobio/sabatini/rich/analysis/make_dFoF_and_tqm/mouse_0916N/20231031/jobNum_0/iscell_tqm.npy   to   /media/rich/bigSSD/analysis_data/face_rhythm/mouse_0916N/dFoF_and_tqm/20231031/jobNum_0/iscell_tqm.npy\n"
     ]
    },
    {
     "name": "stderr",
     "output_type": "stream",
     "text": [
      "0.00b [00:00, ?b/s]\n"
     ]
    },
    {
     "name": "stdout",
     "output_type": "stream",
     "text": [
      "downloading /n/data1/hms/neurobio/sabatini/rich/analysis/make_dFoF_and_tqm/mouse_0916N/20231031/jobNum_0/print_log_31448090.log   to   /media/rich/bigSSD/analysis_data/face_rhythm/mouse_0916N/dFoF_and_tqm/20231031/jobNum_0/print_log_31448090.log\n"
     ]
    },
    {
     "name": "stderr",
     "output_type": "stream",
     "text": [
      "0.00b [00:00, ?b/s]\n"
     ]
    },
    {
     "name": "stdout",
     "output_type": "stream",
     "text": [
      "downloading /n/data1/hms/neurobio/sabatini/rich/analysis/make_dFoF_and_tqm/mouse_0916N/20231031/jobNum_0/sbatch_config.sh   to   /media/rich/bigSSD/analysis_data/face_rhythm/mouse_0916N/dFoF_and_tqm/20231031/jobNum_0/sbatch_config.sh\n"
     ]
    },
    {
     "name": "stderr",
     "output_type": "stream",
     "text": [
      "0.00b [00:00, ?b/s]\n"
     ]
    },
    {
     "name": "stdout",
     "output_type": "stream",
     "text": [
      "downloading /n/data1/hms/neurobio/sabatini/rich/analysis/make_dFoF_and_tqm/mouse_0916N/20231031/make_dFoF_and_tqm.py   to   /media/rich/bigSSD/analysis_data/face_rhythm/mouse_0916N/dFoF_and_tqm/20231031/make_dFoF_and_tqm.py\n"
     ]
    },
    {
     "name": "stderr",
     "output_type": "stream",
     "text": [
      "0.00b [00:00, ?b/s]\n"
     ]
    },
    {
     "name": "stdout",
     "output_type": "stream",
     "text": [
      "downloading /n/data1/hms/neurobio/sabatini/rich/analysis/make_dFoF_and_tqm/mouse_0916N/20231031/dispatcher.py   to   /media/rich/bigSSD/analysis_data/face_rhythm/mouse_0916N/dFoF_and_tqm/20231031/dispatcher.py\n"
     ]
    },
    {
     "name": "stderr",
     "output_type": "stream",
     "text": [
      "0.00b [00:00, ?b/s]\n"
     ]
    },
    {
     "name": "stdout",
     "output_type": "stream",
     "text": [
      "downloading /n/data1/hms/neurobio/sabatini/rich/analysis/make_dFoF_and_tqm/mouse_0916N/20231031/notes.txt   to   /media/rich/bigSSD/analysis_data/face_rhythm/mouse_0916N/dFoF_and_tqm/20231031/notes.txt\n"
     ]
    },
    {
     "name": "stderr",
     "output_type": "stream",
     "text": [
      "0.00b [00:00, ?b/s]\n"
     ]
    },
    {
     "name": "stdout",
     "output_type": "stream",
     "text": [
      "downloading /n/data1/hms/neurobio/sabatini/rich/analysis/make_dFoF_and_tqm/mouse_0916N/20231027/parameters_batch.json   to   /media/rich/bigSSD/analysis_data/face_rhythm/mouse_0916N/dFoF_and_tqm/20231027/parameters_batch.json\n"
     ]
    },
    {
     "name": "stderr",
     "output_type": "stream",
     "text": [
      "0.00b [00:00, ?b/s]\n"
     ]
    },
    {
     "name": "stdout",
     "output_type": "stream",
     "text": [
      "downloading /n/data1/hms/neurobio/sabatini/rich/analysis/make_dFoF_and_tqm/mouse_0916N/20231027/jobNum_0/tqm.pkl   to   /media/rich/bigSSD/analysis_data/face_rhythm/mouse_0916N/dFoF_and_tqm/20231027/jobNum_0/tqm.pkl\n"
     ]
    },
    {
     "name": "stderr",
     "output_type": "stream",
     "text": [
      "0.00b [00:00, ?b/s]\n"
     ]
    },
    {
     "name": "stdout",
     "output_type": "stream",
     "text": [
      "downloading /n/data1/hms/neurobio/sabatini/rich/analysis/make_dFoF_and_tqm/mouse_0916N/20231027/jobNum_0/params.json   to   /media/rich/bigSSD/analysis_data/face_rhythm/mouse_0916N/dFoF_and_tqm/20231027/jobNum_0/params.json\n"
     ]
    },
    {
     "name": "stderr",
     "output_type": "stream",
     "text": [
      "0.00b [00:00, ?b/s]\n"
     ]
    },
    {
     "name": "stdout",
     "output_type": "stream",
     "text": [
      "downloading /n/data1/hms/neurobio/sabatini/rich/analysis/make_dFoF_and_tqm/mouse_0916N/20231027/jobNum_0/dFoF.npy   to   /media/rich/bigSSD/analysis_data/face_rhythm/mouse_0916N/dFoF_and_tqm/20231027/jobNum_0/dFoF.npy\n"
     ]
    },
    {
     "name": "stderr",
     "output_type": "stream",
     "text": [
      "0.00b [00:21, ?b/s]\n"
     ]
    },
    {
     "name": "stdout",
     "output_type": "stream",
     "text": [
      "downloading /n/data1/hms/neurobio/sabatini/rich/analysis/make_dFoF_and_tqm/mouse_0916N/20231027/jobNum_0/print_log_31448049.log   to   /media/rich/bigSSD/analysis_data/face_rhythm/mouse_0916N/dFoF_and_tqm/20231027/jobNum_0/print_log_31448049.log\n"
     ]
    },
    {
     "name": "stderr",
     "output_type": "stream",
     "text": [
      "0.00b [00:00, ?b/s]\n"
     ]
    },
    {
     "name": "stdout",
     "output_type": "stream",
     "text": [
      "downloading /n/data1/hms/neurobio/sabatini/rich/analysis/make_dFoF_and_tqm/mouse_0916N/20231027/jobNum_0/make_dFoF_and_tqm.py   to   /media/rich/bigSSD/analysis_data/face_rhythm/mouse_0916N/dFoF_and_tqm/20231027/jobNum_0/make_dFoF_and_tqm.py\n"
     ]
    },
    {
     "name": "stderr",
     "output_type": "stream",
     "text": [
      "0.00b [00:00, ?b/s]\n"
     ]
    },
    {
     "name": "stdout",
     "output_type": "stream",
     "text": [
      "downloading /n/data1/hms/neurobio/sabatini/rich/analysis/make_dFoF_and_tqm/mouse_0916N/20231027/jobNum_0/iscell_tqm.npy   to   /media/rich/bigSSD/analysis_data/face_rhythm/mouse_0916N/dFoF_and_tqm/20231027/jobNum_0/iscell_tqm.npy\n"
     ]
    },
    {
     "name": "stderr",
     "output_type": "stream",
     "text": [
      "0.00b [00:00, ?b/s]"
     ]
    },
    {
     "name": "stdout",
     "output_type": "stream",
     "text": [
      "downloading /n/data1/hms/neurobio/sabatini/rich/analysis/make_dFoF_and_tqm/mouse_0916N/20231027/jobNum_0/sbatch_config.sh   to   /media/rich/bigSSD/analysis_data/face_rhythm/mouse_0916N/dFoF_and_tqm/20231027/jobNum_0/sbatch_config.sh\n"
     ]
    },
    {
     "name": "stderr",
     "output_type": "stream",
     "text": [
      "\n",
      "0.00b [00:00, ?b/s]\n"
     ]
    },
    {
     "name": "stdout",
     "output_type": "stream",
     "text": [
      "downloading /n/data1/hms/neurobio/sabatini/rich/analysis/make_dFoF_and_tqm/mouse_0916N/20231027/jobNum_0/print_log_31449828.log   to   /media/rich/bigSSD/analysis_data/face_rhythm/mouse_0916N/dFoF_and_tqm/20231027/jobNum_0/print_log_31449828.log\n"
     ]
    },
    {
     "name": "stderr",
     "output_type": "stream",
     "text": [
      "0.00b [00:00, ?b/s]\n"
     ]
    },
    {
     "name": "stdout",
     "output_type": "stream",
     "text": [
      "downloading /n/data1/hms/neurobio/sabatini/rich/analysis/make_dFoF_and_tqm/mouse_0916N/20231027/make_dFoF_and_tqm.py   to   /media/rich/bigSSD/analysis_data/face_rhythm/mouse_0916N/dFoF_and_tqm/20231027/make_dFoF_and_tqm.py\n"
     ]
    },
    {
     "name": "stderr",
     "output_type": "stream",
     "text": [
      "0.00b [00:00, ?b/s]\n"
     ]
    },
    {
     "name": "stdout",
     "output_type": "stream",
     "text": [
      "downloading /n/data1/hms/neurobio/sabatini/rich/analysis/make_dFoF_and_tqm/mouse_0916N/20231027/dispatcher.py   to   /media/rich/bigSSD/analysis_data/face_rhythm/mouse_0916N/dFoF_and_tqm/20231027/dispatcher.py\n"
     ]
    },
    {
     "name": "stderr",
     "output_type": "stream",
     "text": [
      "0.00b [00:00, ?b/s]\n"
     ]
    },
    {
     "name": "stdout",
     "output_type": "stream",
     "text": [
      "downloading /n/data1/hms/neurobio/sabatini/rich/analysis/make_dFoF_and_tqm/mouse_0916N/20231027/notes.txt   to   /media/rich/bigSSD/analysis_data/face_rhythm/mouse_0916N/dFoF_and_tqm/20231027/notes.txt\n"
     ]
    },
    {
     "name": "stderr",
     "output_type": "stream",
     "text": [
      "0.00b [00:00, ?b/s]\n"
     ]
    },
    {
     "name": "stdout",
     "output_type": "stream",
     "text": [
      "downloading /n/data1/hms/neurobio/sabatini/rich/analysis/make_dFoF_and_tqm/mouse_0916N/20231102/parameters_batch.json   to   /media/rich/bigSSD/analysis_data/face_rhythm/mouse_0916N/dFoF_and_tqm/20231102/parameters_batch.json\n"
     ]
    },
    {
     "name": "stderr",
     "output_type": "stream",
     "text": [
      "0.00b [00:00, ?b/s]\n"
     ]
    },
    {
     "name": "stdout",
     "output_type": "stream",
     "text": [
      "downloading /n/data1/hms/neurobio/sabatini/rich/analysis/make_dFoF_and_tqm/mouse_0916N/20231102/jobNum_0/tqm.pkl   to   /media/rich/bigSSD/analysis_data/face_rhythm/mouse_0916N/dFoF_and_tqm/20231102/jobNum_0/tqm.pkl\n"
     ]
    },
    {
     "name": "stderr",
     "output_type": "stream",
     "text": [
      "0.00b [00:00, ?b/s]\n"
     ]
    },
    {
     "name": "stdout",
     "output_type": "stream",
     "text": [
      "downloading /n/data1/hms/neurobio/sabatini/rich/analysis/make_dFoF_and_tqm/mouse_0916N/20231102/jobNum_0/params.json   to   /media/rich/bigSSD/analysis_data/face_rhythm/mouse_0916N/dFoF_and_tqm/20231102/jobNum_0/params.json\n"
     ]
    },
    {
     "name": "stderr",
     "output_type": "stream",
     "text": [
      "0.00b [00:00, ?b/s]\n"
     ]
    },
    {
     "name": "stdout",
     "output_type": "stream",
     "text": [
      "downloading /n/data1/hms/neurobio/sabatini/rich/analysis/make_dFoF_and_tqm/mouse_0916N/20231102/jobNum_0/dFoF.npy   to   /media/rich/bigSSD/analysis_data/face_rhythm/mouse_0916N/dFoF_and_tqm/20231102/jobNum_0/dFoF.npy\n"
     ]
    },
    {
     "name": "stderr",
     "output_type": "stream",
     "text": [
      "0.00b [00:21, ?b/s]\n"
     ]
    },
    {
     "name": "stdout",
     "output_type": "stream",
     "text": [
      "downloading /n/data1/hms/neurobio/sabatini/rich/analysis/make_dFoF_and_tqm/mouse_0916N/20231102/jobNum_0/print_log_31449863.log   to   /media/rich/bigSSD/analysis_data/face_rhythm/mouse_0916N/dFoF_and_tqm/20231102/jobNum_0/print_log_31449863.log\n"
     ]
    },
    {
     "name": "stderr",
     "output_type": "stream",
     "text": [
      "0.00b [00:00, ?b/s]\n"
     ]
    },
    {
     "name": "stdout",
     "output_type": "stream",
     "text": [
      "downloading /n/data1/hms/neurobio/sabatini/rich/analysis/make_dFoF_and_tqm/mouse_0916N/20231102/jobNum_0/make_dFoF_and_tqm.py   to   /media/rich/bigSSD/analysis_data/face_rhythm/mouse_0916N/dFoF_and_tqm/20231102/jobNum_0/make_dFoF_and_tqm.py\n"
     ]
    },
    {
     "name": "stderr",
     "output_type": "stream",
     "text": [
      "0.00b [00:00, ?b/s]\n"
     ]
    },
    {
     "name": "stdout",
     "output_type": "stream",
     "text": [
      "downloading /n/data1/hms/neurobio/sabatini/rich/analysis/make_dFoF_and_tqm/mouse_0916N/20231102/jobNum_0/iscell_tqm.npy   to   /media/rich/bigSSD/analysis_data/face_rhythm/mouse_0916N/dFoF_and_tqm/20231102/jobNum_0/iscell_tqm.npy\n"
     ]
    },
    {
     "name": "stderr",
     "output_type": "stream",
     "text": [
      "0.00b [00:00, ?b/s]\n"
     ]
    },
    {
     "name": "stdout",
     "output_type": "stream",
     "text": [
      "downloading /n/data1/hms/neurobio/sabatini/rich/analysis/make_dFoF_and_tqm/mouse_0916N/20231102/jobNum_0/sbatch_config.sh   to   /media/rich/bigSSD/analysis_data/face_rhythm/mouse_0916N/dFoF_and_tqm/20231102/jobNum_0/sbatch_config.sh\n"
     ]
    },
    {
     "name": "stderr",
     "output_type": "stream",
     "text": [
      "0.00b [00:00, ?b/s]\n"
     ]
    },
    {
     "name": "stdout",
     "output_type": "stream",
     "text": [
      "downloading /n/data1/hms/neurobio/sabatini/rich/analysis/make_dFoF_and_tqm/mouse_0916N/20231102/jobNum_0/print_log_31448102.log   to   /media/rich/bigSSD/analysis_data/face_rhythm/mouse_0916N/dFoF_and_tqm/20231102/jobNum_0/print_log_31448102.log\n"
     ]
    },
    {
     "name": "stderr",
     "output_type": "stream",
     "text": [
      "0.00b [00:00, ?b/s]\n"
     ]
    },
    {
     "name": "stdout",
     "output_type": "stream",
     "text": [
      "downloading /n/data1/hms/neurobio/sabatini/rich/analysis/make_dFoF_and_tqm/mouse_0916N/20231102/make_dFoF_and_tqm.py   to   /media/rich/bigSSD/analysis_data/face_rhythm/mouse_0916N/dFoF_and_tqm/20231102/make_dFoF_and_tqm.py\n"
     ]
    },
    {
     "name": "stderr",
     "output_type": "stream",
     "text": [
      "0.00b [00:00, ?b/s]"
     ]
    },
    {
     "name": "stdout",
     "output_type": "stream",
     "text": [
      "downloading /n/data1/hms/neurobio/sabatini/rich/analysis/make_dFoF_and_tqm/mouse_0916N/20231102/dispatcher.py   to   /media/rich/bigSSD/analysis_data/face_rhythm/mouse_0916N/dFoF_and_tqm/20231102/dispatcher.py\n"
     ]
    },
    {
     "name": "stderr",
     "output_type": "stream",
     "text": [
      "\n",
      "0.00b [00:00, ?b/s]\n"
     ]
    },
    {
     "name": "stdout",
     "output_type": "stream",
     "text": [
      "downloading /n/data1/hms/neurobio/sabatini/rich/analysis/make_dFoF_and_tqm/mouse_0916N/20231102/notes.txt   to   /media/rich/bigSSD/analysis_data/face_rhythm/mouse_0916N/dFoF_and_tqm/20231102/notes.txt\n"
     ]
    },
    {
     "name": "stderr",
     "output_type": "stream",
     "text": [
      "0.00b [00:00, ?b/s]\n"
     ]
    },
    {
     "name": "stdout",
     "output_type": "stream",
     "text": [
      "downloading /n/data1/hms/neurobio/sabatini/rich/analysis/make_dFoF_and_tqm/mouse_0916N/20231105/parameters_batch.json   to   /media/rich/bigSSD/analysis_data/face_rhythm/mouse_0916N/dFoF_and_tqm/20231105/parameters_batch.json\n"
     ]
    },
    {
     "name": "stderr",
     "output_type": "stream",
     "text": [
      "0.00b [00:00, ?b/s]\n"
     ]
    },
    {
     "name": "stdout",
     "output_type": "stream",
     "text": [
      "downloading /n/data1/hms/neurobio/sabatini/rich/analysis/make_dFoF_and_tqm/mouse_0916N/20231105/jobNum_0/tqm.pkl   to   /media/rich/bigSSD/analysis_data/face_rhythm/mouse_0916N/dFoF_and_tqm/20231105/jobNum_0/tqm.pkl\n"
     ]
    },
    {
     "name": "stderr",
     "output_type": "stream",
     "text": [
      "0.00b [00:00, ?b/s]\n"
     ]
    },
    {
     "name": "stdout",
     "output_type": "stream",
     "text": [
      "downloading /n/data1/hms/neurobio/sabatini/rich/analysis/make_dFoF_and_tqm/mouse_0916N/20231105/jobNum_0/params.json   to   /media/rich/bigSSD/analysis_data/face_rhythm/mouse_0916N/dFoF_and_tqm/20231105/jobNum_0/params.json\n"
     ]
    },
    {
     "name": "stderr",
     "output_type": "stream",
     "text": [
      "0.00b [00:00, ?b/s]\n"
     ]
    },
    {
     "name": "stdout",
     "output_type": "stream",
     "text": [
      "downloading /n/data1/hms/neurobio/sabatini/rich/analysis/make_dFoF_and_tqm/mouse_0916N/20231105/jobNum_0/dFoF.npy   to   /media/rich/bigSSD/analysis_data/face_rhythm/mouse_0916N/dFoF_and_tqm/20231105/jobNum_0/dFoF.npy\n"
     ]
    },
    {
     "name": "stderr",
     "output_type": "stream",
     "text": [
      "0.00b [00:16, ?b/s]\n"
     ]
    },
    {
     "name": "stdout",
     "output_type": "stream",
     "text": [
      "downloading /n/data1/hms/neurobio/sabatini/rich/analysis/make_dFoF_and_tqm/mouse_0916N/20231105/jobNum_0/print_log_31449876.log   to   /media/rich/bigSSD/analysis_data/face_rhythm/mouse_0916N/dFoF_and_tqm/20231105/jobNum_0/print_log_31449876.log\n"
     ]
    },
    {
     "name": "stderr",
     "output_type": "stream",
     "text": [
      "0.00b [00:00, ?b/s]\n"
     ]
    },
    {
     "name": "stdout",
     "output_type": "stream",
     "text": [
      "downloading /n/data1/hms/neurobio/sabatini/rich/analysis/make_dFoF_and_tqm/mouse_0916N/20231105/jobNum_0/make_dFoF_and_tqm.py   to   /media/rich/bigSSD/analysis_data/face_rhythm/mouse_0916N/dFoF_and_tqm/20231105/jobNum_0/make_dFoF_and_tqm.py\n"
     ]
    },
    {
     "name": "stderr",
     "output_type": "stream",
     "text": [
      "0.00b [00:00, ?b/s]\n"
     ]
    },
    {
     "name": "stdout",
     "output_type": "stream",
     "text": [
      "downloading /n/data1/hms/neurobio/sabatini/rich/analysis/make_dFoF_and_tqm/mouse_0916N/20231105/jobNum_0/iscell_tqm.npy   to   /media/rich/bigSSD/analysis_data/face_rhythm/mouse_0916N/dFoF_and_tqm/20231105/jobNum_0/iscell_tqm.npy\n"
     ]
    },
    {
     "name": "stderr",
     "output_type": "stream",
     "text": [
      "0.00b [00:00, ?b/s]\n"
     ]
    },
    {
     "name": "stdout",
     "output_type": "stream",
     "text": [
      "downloading /n/data1/hms/neurobio/sabatini/rich/analysis/make_dFoF_and_tqm/mouse_0916N/20231105/jobNum_0/sbatch_config.sh   to   /media/rich/bigSSD/analysis_data/face_rhythm/mouse_0916N/dFoF_and_tqm/20231105/jobNum_0/sbatch_config.sh\n"
     ]
    },
    {
     "name": "stderr",
     "output_type": "stream",
     "text": [
      "0.00b [00:00, ?b/s]\n"
     ]
    },
    {
     "name": "stdout",
     "output_type": "stream",
     "text": [
      "downloading /n/data1/hms/neurobio/sabatini/rich/analysis/make_dFoF_and_tqm/mouse_0916N/20231105/jobNum_0/print_log_31448203.log   to   /media/rich/bigSSD/analysis_data/face_rhythm/mouse_0916N/dFoF_and_tqm/20231105/jobNum_0/print_log_31448203.log\n"
     ]
    },
    {
     "name": "stderr",
     "output_type": "stream",
     "text": [
      "0.00b [00:00, ?b/s]\n"
     ]
    },
    {
     "name": "stdout",
     "output_type": "stream",
     "text": [
      "downloading /n/data1/hms/neurobio/sabatini/rich/analysis/make_dFoF_and_tqm/mouse_0916N/20231105/make_dFoF_and_tqm.py   to   /media/rich/bigSSD/analysis_data/face_rhythm/mouse_0916N/dFoF_and_tqm/20231105/make_dFoF_and_tqm.py\n"
     ]
    },
    {
     "name": "stderr",
     "output_type": "stream",
     "text": [
      "0.00b [00:00, ?b/s]\n"
     ]
    },
    {
     "name": "stdout",
     "output_type": "stream",
     "text": [
      "downloading /n/data1/hms/neurobio/sabatini/rich/analysis/make_dFoF_and_tqm/mouse_0916N/20231105/dispatcher.py   to   /media/rich/bigSSD/analysis_data/face_rhythm/mouse_0916N/dFoF_and_tqm/20231105/dispatcher.py\n"
     ]
    },
    {
     "name": "stderr",
     "output_type": "stream",
     "text": [
      "0.00b [00:00, ?b/s]\n"
     ]
    },
    {
     "name": "stdout",
     "output_type": "stream",
     "text": [
      "downloading /n/data1/hms/neurobio/sabatini/rich/analysis/make_dFoF_and_tqm/mouse_0916N/20231105/notes.txt   to   /media/rich/bigSSD/analysis_data/face_rhythm/mouse_0916N/dFoF_and_tqm/20231105/notes.txt\n"
     ]
    },
    {
     "name": "stderr",
     "output_type": "stream",
     "text": [
      "0.00b [00:00, ?b/s]\n"
     ]
    },
    {
     "name": "stdout",
     "output_type": "stream",
     "text": [
      "downloading /n/data1/hms/neurobio/sabatini/rich/analysis/make_dFoF_and_tqm/mouse_0916N/20231026/parameters_batch.json   to   /media/rich/bigSSD/analysis_data/face_rhythm/mouse_0916N/dFoF_and_tqm/20231026/parameters_batch.json\n"
     ]
    },
    {
     "name": "stderr",
     "output_type": "stream",
     "text": [
      "0.00b [00:00, ?b/s]\n"
     ]
    },
    {
     "name": "stdout",
     "output_type": "stream",
     "text": [
      "downloading /n/data1/hms/neurobio/sabatini/rich/analysis/make_dFoF_and_tqm/mouse_0916N/20231026/jobNum_0/tqm.pkl   to   /media/rich/bigSSD/analysis_data/face_rhythm/mouse_0916N/dFoF_and_tqm/20231026/jobNum_0/tqm.pkl\n"
     ]
    },
    {
     "name": "stderr",
     "output_type": "stream",
     "text": [
      "0.00b [00:00, ?b/s]\n"
     ]
    },
    {
     "name": "stdout",
     "output_type": "stream",
     "text": [
      "downloading /n/data1/hms/neurobio/sabatini/rich/analysis/make_dFoF_and_tqm/mouse_0916N/20231026/jobNum_0/params.json   to   /media/rich/bigSSD/analysis_data/face_rhythm/mouse_0916N/dFoF_and_tqm/20231026/jobNum_0/params.json\n"
     ]
    },
    {
     "name": "stderr",
     "output_type": "stream",
     "text": [
      "0.00b [00:00, ?b/s]\n"
     ]
    },
    {
     "name": "stdout",
     "output_type": "stream",
     "text": [
      "downloading /n/data1/hms/neurobio/sabatini/rich/analysis/make_dFoF_and_tqm/mouse_0916N/20231026/jobNum_0/dFoF.npy   to   /media/rich/bigSSD/analysis_data/face_rhythm/mouse_0916N/dFoF_and_tqm/20231026/jobNum_0/dFoF.npy\n"
     ]
    },
    {
     "name": "stderr",
     "output_type": "stream",
     "text": [
      "0.00b [00:17, ?b/s]\n"
     ]
    },
    {
     "name": "stdout",
     "output_type": "stream",
     "text": [
      "downloading /n/data1/hms/neurobio/sabatini/rich/analysis/make_dFoF_and_tqm/mouse_0916N/20231026/jobNum_0/print_log_31448045.log   to   /media/rich/bigSSD/analysis_data/face_rhythm/mouse_0916N/dFoF_and_tqm/20231026/jobNum_0/print_log_31448045.log\n"
     ]
    },
    {
     "name": "stderr",
     "output_type": "stream",
     "text": [
      "0.00b [00:00, ?b/s]\n"
     ]
    },
    {
     "name": "stdout",
     "output_type": "stream",
     "text": [
      "downloading /n/data1/hms/neurobio/sabatini/rich/analysis/make_dFoF_and_tqm/mouse_0916N/20231026/jobNum_0/make_dFoF_and_tqm.py   to   /media/rich/bigSSD/analysis_data/face_rhythm/mouse_0916N/dFoF_and_tqm/20231026/jobNum_0/make_dFoF_and_tqm.py\n"
     ]
    },
    {
     "name": "stderr",
     "output_type": "stream",
     "text": [
      "0.00b [00:00, ?b/s]\n"
     ]
    },
    {
     "name": "stdout",
     "output_type": "stream",
     "text": [
      "downloading /n/data1/hms/neurobio/sabatini/rich/analysis/make_dFoF_and_tqm/mouse_0916N/20231026/jobNum_0/iscell_tqm.npy   to   /media/rich/bigSSD/analysis_data/face_rhythm/mouse_0916N/dFoF_and_tqm/20231026/jobNum_0/iscell_tqm.npy\n"
     ]
    },
    {
     "name": "stderr",
     "output_type": "stream",
     "text": [
      "0.00b [00:00, ?b/s]\n"
     ]
    },
    {
     "name": "stdout",
     "output_type": "stream",
     "text": [
      "downloading /n/data1/hms/neurobio/sabatini/rich/analysis/make_dFoF_and_tqm/mouse_0916N/20231026/jobNum_0/print_log_31449825.log   to   /media/rich/bigSSD/analysis_data/face_rhythm/mouse_0916N/dFoF_and_tqm/20231026/jobNum_0/print_log_31449825.log\n"
     ]
    },
    {
     "name": "stderr",
     "output_type": "stream",
     "text": [
      "0.00b [00:00, ?b/s]\n"
     ]
    },
    {
     "name": "stdout",
     "output_type": "stream",
     "text": [
      "downloading /n/data1/hms/neurobio/sabatini/rich/analysis/make_dFoF_and_tqm/mouse_0916N/20231026/jobNum_0/sbatch_config.sh   to   /media/rich/bigSSD/analysis_data/face_rhythm/mouse_0916N/dFoF_and_tqm/20231026/jobNum_0/sbatch_config.sh\n"
     ]
    },
    {
     "name": "stderr",
     "output_type": "stream",
     "text": [
      "0.00b [00:00, ?b/s]\n"
     ]
    },
    {
     "name": "stdout",
     "output_type": "stream",
     "text": [
      "downloading /n/data1/hms/neurobio/sabatini/rich/analysis/make_dFoF_and_tqm/mouse_0916N/20231026/make_dFoF_and_tqm.py   to   /media/rich/bigSSD/analysis_data/face_rhythm/mouse_0916N/dFoF_and_tqm/20231026/make_dFoF_and_tqm.py\n"
     ]
    },
    {
     "name": "stderr",
     "output_type": "stream",
     "text": [
      "0.00b [00:00, ?b/s]\n"
     ]
    },
    {
     "name": "stdout",
     "output_type": "stream",
     "text": [
      "downloading /n/data1/hms/neurobio/sabatini/rich/analysis/make_dFoF_and_tqm/mouse_0916N/20231026/dispatcher.py   to   /media/rich/bigSSD/analysis_data/face_rhythm/mouse_0916N/dFoF_and_tqm/20231026/dispatcher.py\n"
     ]
    },
    {
     "name": "stderr",
     "output_type": "stream",
     "text": [
      "0.00b [00:00, ?b/s]\n"
     ]
    },
    {
     "name": "stdout",
     "output_type": "stream",
     "text": [
      "downloading /n/data1/hms/neurobio/sabatini/rich/analysis/make_dFoF_and_tqm/mouse_0916N/20231026/notes.txt   to   /media/rich/bigSSD/analysis_data/face_rhythm/mouse_0916N/dFoF_and_tqm/20231026/notes.txt\n"
     ]
    },
    {
     "name": "stderr",
     "output_type": "stream",
     "text": [
      "0.00b [00:00, ?b/s]\n"
     ]
    },
    {
     "name": "stdout",
     "output_type": "stream",
     "text": [
      "downloading /n/data1/hms/neurobio/sabatini/rich/analysis/make_dFoF_and_tqm/mouse_0916N/20231207/parameters_batch.json   to   /media/rich/bigSSD/analysis_data/face_rhythm/mouse_0916N/dFoF_and_tqm/20231207/parameters_batch.json\n"
     ]
    },
    {
     "name": "stderr",
     "output_type": "stream",
     "text": [
      "0.00b [00:00, ?b/s]\n"
     ]
    },
    {
     "name": "stdout",
     "output_type": "stream",
     "text": [
      "downloading /n/data1/hms/neurobio/sabatini/rich/analysis/make_dFoF_and_tqm/mouse_0916N/20231207/jobNum_0/print_log_31448249.log   to   /media/rich/bigSSD/analysis_data/face_rhythm/mouse_0916N/dFoF_and_tqm/20231207/jobNum_0/print_log_31448249.log\n"
     ]
    },
    {
     "name": "stderr",
     "output_type": "stream",
     "text": [
      "0.00b [00:00, ?b/s]"
     ]
    },
    {
     "name": "stdout",
     "output_type": "stream",
     "text": [
      "downloading /n/data1/hms/neurobio/sabatini/rich/analysis/make_dFoF_and_tqm/mouse_0916N/20231207/jobNum_0/tqm.pkl   to   /media/rich/bigSSD/analysis_data/face_rhythm/mouse_0916N/dFoF_and_tqm/20231207/jobNum_0/tqm.pkl\n"
     ]
    },
    {
     "name": "stderr",
     "output_type": "stream",
     "text": [
      "\n",
      "0.00b [00:00, ?b/s]\n"
     ]
    },
    {
     "name": "stdout",
     "output_type": "stream",
     "text": [
      "downloading /n/data1/hms/neurobio/sabatini/rich/analysis/make_dFoF_and_tqm/mouse_0916N/20231207/jobNum_0/params.json   to   /media/rich/bigSSD/analysis_data/face_rhythm/mouse_0916N/dFoF_and_tqm/20231207/jobNum_0/params.json\n"
     ]
    },
    {
     "name": "stderr",
     "output_type": "stream",
     "text": [
      "0.00b [00:00, ?b/s]\n"
     ]
    },
    {
     "name": "stdout",
     "output_type": "stream",
     "text": [
      "downloading /n/data1/hms/neurobio/sabatini/rich/analysis/make_dFoF_and_tqm/mouse_0916N/20231207/jobNum_0/dFoF.npy   to   /media/rich/bigSSD/analysis_data/face_rhythm/mouse_0916N/dFoF_and_tqm/20231207/jobNum_0/dFoF.npy\n"
     ]
    },
    {
     "name": "stderr",
     "output_type": "stream",
     "text": [
      "0.00b [00:20, ?b/s]\n"
     ]
    },
    {
     "name": "stdout",
     "output_type": "stream",
     "text": [
      "downloading /n/data1/hms/neurobio/sabatini/rich/analysis/make_dFoF_and_tqm/mouse_0916N/20231207/jobNum_0/print_log_31449924.log   to   /media/rich/bigSSD/analysis_data/face_rhythm/mouse_0916N/dFoF_and_tqm/20231207/jobNum_0/print_log_31449924.log\n"
     ]
    },
    {
     "name": "stderr",
     "output_type": "stream",
     "text": [
      "0.00b [00:00, ?b/s]\n"
     ]
    },
    {
     "name": "stdout",
     "output_type": "stream",
     "text": [
      "downloading /n/data1/hms/neurobio/sabatini/rich/analysis/make_dFoF_and_tqm/mouse_0916N/20231207/jobNum_0/make_dFoF_and_tqm.py   to   /media/rich/bigSSD/analysis_data/face_rhythm/mouse_0916N/dFoF_and_tqm/20231207/jobNum_0/make_dFoF_and_tqm.py\n"
     ]
    },
    {
     "name": "stderr",
     "output_type": "stream",
     "text": [
      "0.00b [00:00, ?b/s]\n"
     ]
    },
    {
     "name": "stdout",
     "output_type": "stream",
     "text": [
      "downloading /n/data1/hms/neurobio/sabatini/rich/analysis/make_dFoF_and_tqm/mouse_0916N/20231207/jobNum_0/iscell_tqm.npy   to   /media/rich/bigSSD/analysis_data/face_rhythm/mouse_0916N/dFoF_and_tqm/20231207/jobNum_0/iscell_tqm.npy\n"
     ]
    },
    {
     "name": "stderr",
     "output_type": "stream",
     "text": [
      "0.00b [00:00, ?b/s]\n"
     ]
    },
    {
     "name": "stdout",
     "output_type": "stream",
     "text": [
      "downloading /n/data1/hms/neurobio/sabatini/rich/analysis/make_dFoF_and_tqm/mouse_0916N/20231207/jobNum_0/sbatch_config.sh   to   /media/rich/bigSSD/analysis_data/face_rhythm/mouse_0916N/dFoF_and_tqm/20231207/jobNum_0/sbatch_config.sh\n"
     ]
    },
    {
     "name": "stderr",
     "output_type": "stream",
     "text": [
      "0.00b [00:00, ?b/s]\n"
     ]
    },
    {
     "name": "stdout",
     "output_type": "stream",
     "text": [
      "downloading /n/data1/hms/neurobio/sabatini/rich/analysis/make_dFoF_and_tqm/mouse_0916N/20231207/make_dFoF_and_tqm.py   to   /media/rich/bigSSD/analysis_data/face_rhythm/mouse_0916N/dFoF_and_tqm/20231207/make_dFoF_and_tqm.py\n"
     ]
    },
    {
     "name": "stderr",
     "output_type": "stream",
     "text": [
      "0.00b [00:00, ?b/s]\n"
     ]
    },
    {
     "name": "stdout",
     "output_type": "stream",
     "text": [
      "downloading /n/data1/hms/neurobio/sabatini/rich/analysis/make_dFoF_and_tqm/mouse_0916N/20231207/dispatcher.py   to   /media/rich/bigSSD/analysis_data/face_rhythm/mouse_0916N/dFoF_and_tqm/20231207/dispatcher.py\n"
     ]
    },
    {
     "name": "stderr",
     "output_type": "stream",
     "text": [
      "0.00b [00:00, ?b/s]\n"
     ]
    },
    {
     "name": "stdout",
     "output_type": "stream",
     "text": [
      "downloading /n/data1/hms/neurobio/sabatini/rich/analysis/make_dFoF_and_tqm/mouse_0916N/20231207/notes.txt   to   /media/rich/bigSSD/analysis_data/face_rhythm/mouse_0916N/dFoF_and_tqm/20231207/notes.txt\n"
     ]
    },
    {
     "name": "stderr",
     "output_type": "stream",
     "text": [
      "0.00b [00:00, ?b/s]\n"
     ]
    },
    {
     "name": "stdout",
     "output_type": "stream",
     "text": [
      "downloading /n/data1/hms/neurobio/sabatini/rich/analysis/make_dFoF_and_tqm/mouse_0916N/20231208/parameters_batch.json   to   /media/rich/bigSSD/analysis_data/face_rhythm/mouse_0916N/dFoF_and_tqm/20231208/parameters_batch.json\n"
     ]
    },
    {
     "name": "stderr",
     "output_type": "stream",
     "text": [
      "0.00b [00:00, ?b/s]\n"
     ]
    },
    {
     "name": "stdout",
     "output_type": "stream",
     "text": [
      "downloading /n/data1/hms/neurobio/sabatini/rich/analysis/make_dFoF_and_tqm/mouse_0916N/20231208/jobNum_0/tqm.pkl   to   /media/rich/bigSSD/analysis_data/face_rhythm/mouse_0916N/dFoF_and_tqm/20231208/jobNum_0/tqm.pkl\n"
     ]
    },
    {
     "name": "stderr",
     "output_type": "stream",
     "text": [
      "0.00b [00:00, ?b/s]\n"
     ]
    },
    {
     "name": "stdout",
     "output_type": "stream",
     "text": [
      "downloading /n/data1/hms/neurobio/sabatini/rich/analysis/make_dFoF_and_tqm/mouse_0916N/20231208/jobNum_0/print_log_31449930.log   to   /media/rich/bigSSD/analysis_data/face_rhythm/mouse_0916N/dFoF_and_tqm/20231208/jobNum_0/print_log_31449930.log\n"
     ]
    },
    {
     "name": "stderr",
     "output_type": "stream",
     "text": [
      "0.00b [00:00, ?b/s]\n"
     ]
    },
    {
     "name": "stdout",
     "output_type": "stream",
     "text": [
      "downloading /n/data1/hms/neurobio/sabatini/rich/analysis/make_dFoF_and_tqm/mouse_0916N/20231208/jobNum_0/params.json   to   /media/rich/bigSSD/analysis_data/face_rhythm/mouse_0916N/dFoF_and_tqm/20231208/jobNum_0/params.json\n"
     ]
    },
    {
     "name": "stderr",
     "output_type": "stream",
     "text": [
      "0.00b [00:00, ?b/s]\n"
     ]
    },
    {
     "name": "stdout",
     "output_type": "stream",
     "text": [
      "downloading /n/data1/hms/neurobio/sabatini/rich/analysis/make_dFoF_and_tqm/mouse_0916N/20231208/jobNum_0/dFoF.npy   to   /media/rich/bigSSD/analysis_data/face_rhythm/mouse_0916N/dFoF_and_tqm/20231208/jobNum_0/dFoF.npy\n"
     ]
    },
    {
     "name": "stderr",
     "output_type": "stream",
     "text": [
      "0.00b [00:19, ?b/s]\n"
     ]
    },
    {
     "name": "stdout",
     "output_type": "stream",
     "text": [
      "downloading /n/data1/hms/neurobio/sabatini/rich/analysis/make_dFoF_and_tqm/mouse_0916N/20231208/jobNum_0/make_dFoF_and_tqm.py   to   /media/rich/bigSSD/analysis_data/face_rhythm/mouse_0916N/dFoF_and_tqm/20231208/jobNum_0/make_dFoF_and_tqm.py\n"
     ]
    },
    {
     "name": "stderr",
     "output_type": "stream",
     "text": [
      "0.00b [00:00, ?b/s]\n"
     ]
    },
    {
     "name": "stdout",
     "output_type": "stream",
     "text": [
      "downloading /n/data1/hms/neurobio/sabatini/rich/analysis/make_dFoF_and_tqm/mouse_0916N/20231208/jobNum_0/iscell_tqm.npy   to   /media/rich/bigSSD/analysis_data/face_rhythm/mouse_0916N/dFoF_and_tqm/20231208/jobNum_0/iscell_tqm.npy\n"
     ]
    },
    {
     "name": "stderr",
     "output_type": "stream",
     "text": [
      "0.00b [00:00, ?b/s]\n"
     ]
    },
    {
     "name": "stdout",
     "output_type": "stream",
     "text": [
      "downloading /n/data1/hms/neurobio/sabatini/rich/analysis/make_dFoF_and_tqm/mouse_0916N/20231208/jobNum_0/sbatch_config.sh   to   /media/rich/bigSSD/analysis_data/face_rhythm/mouse_0916N/dFoF_and_tqm/20231208/jobNum_0/sbatch_config.sh\n"
     ]
    },
    {
     "name": "stderr",
     "output_type": "stream",
     "text": [
      "0.00b [00:00, ?b/s]\n"
     ]
    },
    {
     "name": "stdout",
     "output_type": "stream",
     "text": [
      "downloading /n/data1/hms/neurobio/sabatini/rich/analysis/make_dFoF_and_tqm/mouse_0916N/20231208/jobNum_0/print_log_31448252.log   to   /media/rich/bigSSD/analysis_data/face_rhythm/mouse_0916N/dFoF_and_tqm/20231208/jobNum_0/print_log_31448252.log\n"
     ]
    },
    {
     "name": "stderr",
     "output_type": "stream",
     "text": [
      "0.00b [00:00, ?b/s]\n"
     ]
    },
    {
     "name": "stdout",
     "output_type": "stream",
     "text": [
      "downloading /n/data1/hms/neurobio/sabatini/rich/analysis/make_dFoF_and_tqm/mouse_0916N/20231208/make_dFoF_and_tqm.py   to   /media/rich/bigSSD/analysis_data/face_rhythm/mouse_0916N/dFoF_and_tqm/20231208/make_dFoF_and_tqm.py\n"
     ]
    },
    {
     "name": "stderr",
     "output_type": "stream",
     "text": [
      "0.00b [00:00, ?b/s]\n"
     ]
    },
    {
     "name": "stdout",
     "output_type": "stream",
     "text": [
      "downloading /n/data1/hms/neurobio/sabatini/rich/analysis/make_dFoF_and_tqm/mouse_0916N/20231208/dispatcher.py   to   /media/rich/bigSSD/analysis_data/face_rhythm/mouse_0916N/dFoF_and_tqm/20231208/dispatcher.py\n"
     ]
    },
    {
     "name": "stderr",
     "output_type": "stream",
     "text": [
      "0.00b [00:00, ?b/s]\n"
     ]
    },
    {
     "name": "stdout",
     "output_type": "stream",
     "text": [
      "downloading /n/data1/hms/neurobio/sabatini/rich/analysis/make_dFoF_and_tqm/mouse_0916N/20231208/notes.txt   to   /media/rich/bigSSD/analysis_data/face_rhythm/mouse_0916N/dFoF_and_tqm/20231208/notes.txt\n"
     ]
    },
    {
     "name": "stderr",
     "output_type": "stream",
     "text": [
      "0.00b [00:00, ?b/s]\n"
     ]
    },
    {
     "name": "stdout",
     "output_type": "stream",
     "text": [
      "downloading /n/data1/hms/neurobio/sabatini/rich/analysis/make_dFoF_and_tqm/mouse_0916N/20231130/parameters_batch.json   to   /media/rich/bigSSD/analysis_data/face_rhythm/mouse_0916N/dFoF_and_tqm/20231130/parameters_batch.json\n"
     ]
    },
    {
     "name": "stderr",
     "output_type": "stream",
     "text": [
      "0.00b [00:00, ?b/s]\n"
     ]
    },
    {
     "name": "stdout",
     "output_type": "stream",
     "text": [
      "downloading /n/data1/hms/neurobio/sabatini/rich/analysis/make_dFoF_and_tqm/mouse_0916N/20231130/jobNum_0/tqm.pkl   to   /media/rich/bigSSD/analysis_data/face_rhythm/mouse_0916N/dFoF_and_tqm/20231130/jobNum_0/tqm.pkl\n"
     ]
    },
    {
     "name": "stderr",
     "output_type": "stream",
     "text": [
      "0.00b [00:00, ?b/s]\n"
     ]
    },
    {
     "name": "stdout",
     "output_type": "stream",
     "text": [
      "downloading /n/data1/hms/neurobio/sabatini/rich/analysis/make_dFoF_and_tqm/mouse_0916N/20231130/jobNum_0/print_log_31448222.log   to   /media/rich/bigSSD/analysis_data/face_rhythm/mouse_0916N/dFoF_and_tqm/20231130/jobNum_0/print_log_31448222.log\n"
     ]
    },
    {
     "name": "stderr",
     "output_type": "stream",
     "text": [
      "0.00b [00:00, ?b/s]\n"
     ]
    },
    {
     "name": "stdout",
     "output_type": "stream",
     "text": [
      "downloading /n/data1/hms/neurobio/sabatini/rich/analysis/make_dFoF_and_tqm/mouse_0916N/20231130/jobNum_0/params.json   to   /media/rich/bigSSD/analysis_data/face_rhythm/mouse_0916N/dFoF_and_tqm/20231130/jobNum_0/params.json\n"
     ]
    },
    {
     "name": "stderr",
     "output_type": "stream",
     "text": [
      "0.00b [00:00, ?b/s]"
     ]
    },
    {
     "name": "stdout",
     "output_type": "stream",
     "text": [
      "downloading /n/data1/hms/neurobio/sabatini/rich/analysis/make_dFoF_and_tqm/mouse_0916N/20231130/jobNum_0/dFoF.npy   to   /media/rich/bigSSD/analysis_data/face_rhythm/mouse_0916N/dFoF_and_tqm/20231130/jobNum_0/dFoF.npy\n"
     ]
    },
    {
     "name": "stderr",
     "output_type": "stream",
     "text": [
      "\n",
      "0.00b [00:17, ?b/s]\n"
     ]
    },
    {
     "name": "stdout",
     "output_type": "stream",
     "text": [
      "downloading /n/data1/hms/neurobio/sabatini/rich/analysis/make_dFoF_and_tqm/mouse_0916N/20231130/jobNum_0/print_log_31449897.log   to   /media/rich/bigSSD/analysis_data/face_rhythm/mouse_0916N/dFoF_and_tqm/20231130/jobNum_0/print_log_31449897.log\n"
     ]
    },
    {
     "name": "stderr",
     "output_type": "stream",
     "text": [
      "0.00b [00:00, ?b/s]\n"
     ]
    },
    {
     "name": "stdout",
     "output_type": "stream",
     "text": [
      "downloading /n/data1/hms/neurobio/sabatini/rich/analysis/make_dFoF_and_tqm/mouse_0916N/20231130/jobNum_0/make_dFoF_and_tqm.py   to   /media/rich/bigSSD/analysis_data/face_rhythm/mouse_0916N/dFoF_and_tqm/20231130/jobNum_0/make_dFoF_and_tqm.py\n"
     ]
    },
    {
     "name": "stderr",
     "output_type": "stream",
     "text": [
      "0.00b [00:00, ?b/s]\n"
     ]
    },
    {
     "name": "stdout",
     "output_type": "stream",
     "text": [
      "downloading /n/data1/hms/neurobio/sabatini/rich/analysis/make_dFoF_and_tqm/mouse_0916N/20231130/jobNum_0/iscell_tqm.npy   to   /media/rich/bigSSD/analysis_data/face_rhythm/mouse_0916N/dFoF_and_tqm/20231130/jobNum_0/iscell_tqm.npy\n"
     ]
    },
    {
     "name": "stderr",
     "output_type": "stream",
     "text": [
      "0.00b [00:00, ?b/s]\n"
     ]
    },
    {
     "name": "stdout",
     "output_type": "stream",
     "text": [
      "downloading /n/data1/hms/neurobio/sabatini/rich/analysis/make_dFoF_and_tqm/mouse_0916N/20231130/jobNum_0/sbatch_config.sh   to   /media/rich/bigSSD/analysis_data/face_rhythm/mouse_0916N/dFoF_and_tqm/20231130/jobNum_0/sbatch_config.sh\n"
     ]
    },
    {
     "name": "stderr",
     "output_type": "stream",
     "text": [
      "0.00b [00:00, ?b/s]\n"
     ]
    },
    {
     "name": "stdout",
     "output_type": "stream",
     "text": [
      "downloading /n/data1/hms/neurobio/sabatini/rich/analysis/make_dFoF_and_tqm/mouse_0916N/20231130/make_dFoF_and_tqm.py   to   /media/rich/bigSSD/analysis_data/face_rhythm/mouse_0916N/dFoF_and_tqm/20231130/make_dFoF_and_tqm.py\n"
     ]
    },
    {
     "name": "stderr",
     "output_type": "stream",
     "text": [
      "0.00b [00:00, ?b/s]\n"
     ]
    },
    {
     "name": "stdout",
     "output_type": "stream",
     "text": [
      "downloading /n/data1/hms/neurobio/sabatini/rich/analysis/make_dFoF_and_tqm/mouse_0916N/20231130/dispatcher.py   to   /media/rich/bigSSD/analysis_data/face_rhythm/mouse_0916N/dFoF_and_tqm/20231130/dispatcher.py\n"
     ]
    },
    {
     "name": "stderr",
     "output_type": "stream",
     "text": [
      "0.00b [00:00, ?b/s]\n"
     ]
    },
    {
     "name": "stdout",
     "output_type": "stream",
     "text": [
      "downloading /n/data1/hms/neurobio/sabatini/rich/analysis/make_dFoF_and_tqm/mouse_0916N/20231130/notes.txt   to   /media/rich/bigSSD/analysis_data/face_rhythm/mouse_0916N/dFoF_and_tqm/20231130/notes.txt\n"
     ]
    },
    {
     "name": "stderr",
     "output_type": "stream",
     "text": [
      "0.00b [00:00, ?b/s]\n"
     ]
    },
    {
     "name": "stdout",
     "output_type": "stream",
     "text": [
      "downloading /n/data1/hms/neurobio/sabatini/rich/analysis/make_dFoF_and_tqm/mouse_0916N/20231209/parameters_batch.json   to   /media/rich/bigSSD/analysis_data/face_rhythm/mouse_0916N/dFoF_and_tqm/20231209/parameters_batch.json\n"
     ]
    },
    {
     "name": "stderr",
     "output_type": "stream",
     "text": [
      "0.00b [00:00, ?b/s]\n"
     ]
    },
    {
     "name": "stdout",
     "output_type": "stream",
     "text": [
      "downloading /n/data1/hms/neurobio/sabatini/rich/analysis/make_dFoF_and_tqm/mouse_0916N/20231209/jobNum_0/tqm.pkl   to   /media/rich/bigSSD/analysis_data/face_rhythm/mouse_0916N/dFoF_and_tqm/20231209/jobNum_0/tqm.pkl\n"
     ]
    },
    {
     "name": "stderr",
     "output_type": "stream",
     "text": [
      "0.00b [00:00, ?b/s]\n"
     ]
    },
    {
     "name": "stdout",
     "output_type": "stream",
     "text": [
      "downloading /n/data1/hms/neurobio/sabatini/rich/analysis/make_dFoF_and_tqm/mouse_0916N/20231209/jobNum_0/params.json   to   /media/rich/bigSSD/analysis_data/face_rhythm/mouse_0916N/dFoF_and_tqm/20231209/jobNum_0/params.json\n"
     ]
    },
    {
     "name": "stderr",
     "output_type": "stream",
     "text": [
      "0.00b [00:00, ?b/s]\n"
     ]
    },
    {
     "name": "stdout",
     "output_type": "stream",
     "text": [
      "downloading /n/data1/hms/neurobio/sabatini/rich/analysis/make_dFoF_and_tqm/mouse_0916N/20231209/jobNum_0/dFoF.npy   to   /media/rich/bigSSD/analysis_data/face_rhythm/mouse_0916N/dFoF_and_tqm/20231209/jobNum_0/dFoF.npy\n"
     ]
    },
    {
     "name": "stderr",
     "output_type": "stream",
     "text": [
      "0.00b [00:16, ?b/s]\n"
     ]
    },
    {
     "name": "stdout",
     "output_type": "stream",
     "text": [
      "downloading /n/data1/hms/neurobio/sabatini/rich/analysis/make_dFoF_and_tqm/mouse_0916N/20231209/jobNum_0/print_log_31449936.log   to   /media/rich/bigSSD/analysis_data/face_rhythm/mouse_0916N/dFoF_and_tqm/20231209/jobNum_0/print_log_31449936.log\n"
     ]
    },
    {
     "name": "stderr",
     "output_type": "stream",
     "text": [
      "0.00b [00:00, ?b/s]\n"
     ]
    },
    {
     "name": "stdout",
     "output_type": "stream",
     "text": [
      "downloading /n/data1/hms/neurobio/sabatini/rich/analysis/make_dFoF_and_tqm/mouse_0916N/20231209/jobNum_0/print_log_31448257.log   to   /media/rich/bigSSD/analysis_data/face_rhythm/mouse_0916N/dFoF_and_tqm/20231209/jobNum_0/print_log_31448257.log\n"
     ]
    },
    {
     "name": "stderr",
     "output_type": "stream",
     "text": [
      "0.00b [00:00, ?b/s]\n"
     ]
    },
    {
     "name": "stdout",
     "output_type": "stream",
     "text": [
      "downloading /n/data1/hms/neurobio/sabatini/rich/analysis/make_dFoF_and_tqm/mouse_0916N/20231209/jobNum_0/make_dFoF_and_tqm.py   to   /media/rich/bigSSD/analysis_data/face_rhythm/mouse_0916N/dFoF_and_tqm/20231209/jobNum_0/make_dFoF_and_tqm.py\n"
     ]
    },
    {
     "name": "stderr",
     "output_type": "stream",
     "text": [
      "0.00b [00:00, ?b/s]\n"
     ]
    },
    {
     "name": "stdout",
     "output_type": "stream",
     "text": [
      "downloading /n/data1/hms/neurobio/sabatini/rich/analysis/make_dFoF_and_tqm/mouse_0916N/20231209/jobNum_0/iscell_tqm.npy   to   /media/rich/bigSSD/analysis_data/face_rhythm/mouse_0916N/dFoF_and_tqm/20231209/jobNum_0/iscell_tqm.npy\n"
     ]
    },
    {
     "name": "stderr",
     "output_type": "stream",
     "text": [
      "0.00b [00:00, ?b/s]\n"
     ]
    },
    {
     "name": "stdout",
     "output_type": "stream",
     "text": [
      "downloading /n/data1/hms/neurobio/sabatini/rich/analysis/make_dFoF_and_tqm/mouse_0916N/20231209/jobNum_0/sbatch_config.sh   to   /media/rich/bigSSD/analysis_data/face_rhythm/mouse_0916N/dFoF_and_tqm/20231209/jobNum_0/sbatch_config.sh\n"
     ]
    },
    {
     "name": "stderr",
     "output_type": "stream",
     "text": [
      "0.00b [00:00, ?b/s]\n"
     ]
    },
    {
     "name": "stdout",
     "output_type": "stream",
     "text": [
      "downloading /n/data1/hms/neurobio/sabatini/rich/analysis/make_dFoF_and_tqm/mouse_0916N/20231209/make_dFoF_and_tqm.py   to   /media/rich/bigSSD/analysis_data/face_rhythm/mouse_0916N/dFoF_and_tqm/20231209/make_dFoF_and_tqm.py\n"
     ]
    },
    {
     "name": "stderr",
     "output_type": "stream",
     "text": [
      "0.00b [00:00, ?b/s]\n"
     ]
    },
    {
     "name": "stdout",
     "output_type": "stream",
     "text": [
      "downloading /n/data1/hms/neurobio/sabatini/rich/analysis/make_dFoF_and_tqm/mouse_0916N/20231209/dispatcher.py   to   /media/rich/bigSSD/analysis_data/face_rhythm/mouse_0916N/dFoF_and_tqm/20231209/dispatcher.py\n"
     ]
    },
    {
     "name": "stderr",
     "output_type": "stream",
     "text": [
      "0.00b [00:00, ?b/s]\n"
     ]
    },
    {
     "name": "stdout",
     "output_type": "stream",
     "text": [
      "downloading /n/data1/hms/neurobio/sabatini/rich/analysis/make_dFoF_and_tqm/mouse_0916N/20231209/notes.txt   to   /media/rich/bigSSD/analysis_data/face_rhythm/mouse_0916N/dFoF_and_tqm/20231209/notes.txt\n"
     ]
    },
    {
     "name": "stderr",
     "output_type": "stream",
     "text": [
      "0.00b [00:00, ?b/s]\n"
     ]
    },
    {
     "name": "stdout",
     "output_type": "stream",
     "text": [
      "downloading /n/data1/hms/neurobio/sabatini/rich/analysis/make_dFoF_and_tqm/mouse_0916N/20231201/parameters_batch.json   to   /media/rich/bigSSD/analysis_data/face_rhythm/mouse_0916N/dFoF_and_tqm/20231201/parameters_batch.json\n"
     ]
    },
    {
     "name": "stderr",
     "output_type": "stream",
     "text": [
      "0.00b [00:00, ?b/s]\n"
     ]
    },
    {
     "name": "stdout",
     "output_type": "stream",
     "text": [
      "downloading /n/data1/hms/neurobio/sabatini/rich/analysis/make_dFoF_and_tqm/mouse_0916N/20231201/jobNum_0/tqm.pkl   to   /media/rich/bigSSD/analysis_data/face_rhythm/mouse_0916N/dFoF_and_tqm/20231201/jobNum_0/tqm.pkl\n"
     ]
    },
    {
     "name": "stderr",
     "output_type": "stream",
     "text": [
      "0.00b [00:00, ?b/s]\n"
     ]
    },
    {
     "name": "stdout",
     "output_type": "stream",
     "text": [
      "downloading /n/data1/hms/neurobio/sabatini/rich/analysis/make_dFoF_and_tqm/mouse_0916N/20231201/jobNum_0/params.json   to   /media/rich/bigSSD/analysis_data/face_rhythm/mouse_0916N/dFoF_and_tqm/20231201/jobNum_0/params.json\n"
     ]
    },
    {
     "name": "stderr",
     "output_type": "stream",
     "text": [
      "0.00b [00:00, ?b/s]\n"
     ]
    },
    {
     "name": "stdout",
     "output_type": "stream",
     "text": [
      "downloading /n/data1/hms/neurobio/sabatini/rich/analysis/make_dFoF_and_tqm/mouse_0916N/20231201/jobNum_0/dFoF.npy   to   /media/rich/bigSSD/analysis_data/face_rhythm/mouse_0916N/dFoF_and_tqm/20231201/jobNum_0/dFoF.npy\n"
     ]
    },
    {
     "name": "stderr",
     "output_type": "stream",
     "text": [
      "0.00b [00:16, ?b/s]\n"
     ]
    },
    {
     "name": "stdout",
     "output_type": "stream",
     "text": [
      "downloading /n/data1/hms/neurobio/sabatini/rich/analysis/make_dFoF_and_tqm/mouse_0916N/20231201/jobNum_0/print_log_31448224.log   to   /media/rich/bigSSD/analysis_data/face_rhythm/mouse_0916N/dFoF_and_tqm/20231201/jobNum_0/print_log_31448224.log\n"
     ]
    },
    {
     "name": "stderr",
     "output_type": "stream",
     "text": [
      "0.00b [00:00, ?b/s]\n"
     ]
    },
    {
     "name": "stdout",
     "output_type": "stream",
     "text": [
      "downloading /n/data1/hms/neurobio/sabatini/rich/analysis/make_dFoF_and_tqm/mouse_0916N/20231201/jobNum_0/make_dFoF_and_tqm.py   to   /media/rich/bigSSD/analysis_data/face_rhythm/mouse_0916N/dFoF_and_tqm/20231201/jobNum_0/make_dFoF_and_tqm.py\n"
     ]
    },
    {
     "name": "stderr",
     "output_type": "stream",
     "text": [
      "0.00b [00:00, ?b/s]\n"
     ]
    },
    {
     "name": "stdout",
     "output_type": "stream",
     "text": [
      "downloading /n/data1/hms/neurobio/sabatini/rich/analysis/make_dFoF_and_tqm/mouse_0916N/20231201/jobNum_0/iscell_tqm.npy   to   /media/rich/bigSSD/analysis_data/face_rhythm/mouse_0916N/dFoF_and_tqm/20231201/jobNum_0/iscell_tqm.npy\n"
     ]
    },
    {
     "name": "stderr",
     "output_type": "stream",
     "text": [
      "0.00b [00:00, ?b/s]\n"
     ]
    },
    {
     "name": "stdout",
     "output_type": "stream",
     "text": [
      "downloading /n/data1/hms/neurobio/sabatini/rich/analysis/make_dFoF_and_tqm/mouse_0916N/20231201/jobNum_0/print_log_31449902.log   to   /media/rich/bigSSD/analysis_data/face_rhythm/mouse_0916N/dFoF_and_tqm/20231201/jobNum_0/print_log_31449902.log\n"
     ]
    },
    {
     "name": "stderr",
     "output_type": "stream",
     "text": [
      "0.00b [00:00, ?b/s]\n"
     ]
    },
    {
     "name": "stdout",
     "output_type": "stream",
     "text": [
      "downloading /n/data1/hms/neurobio/sabatini/rich/analysis/make_dFoF_and_tqm/mouse_0916N/20231201/jobNum_0/sbatch_config.sh   to   /media/rich/bigSSD/analysis_data/face_rhythm/mouse_0916N/dFoF_and_tqm/20231201/jobNum_0/sbatch_config.sh\n"
     ]
    },
    {
     "name": "stderr",
     "output_type": "stream",
     "text": [
      "0.00b [00:00, ?b/s]\n"
     ]
    },
    {
     "name": "stdout",
     "output_type": "stream",
     "text": [
      "downloading /n/data1/hms/neurobio/sabatini/rich/analysis/make_dFoF_and_tqm/mouse_0916N/20231201/make_dFoF_and_tqm.py   to   /media/rich/bigSSD/analysis_data/face_rhythm/mouse_0916N/dFoF_and_tqm/20231201/make_dFoF_and_tqm.py\n"
     ]
    },
    {
     "name": "stderr",
     "output_type": "stream",
     "text": [
      "0.00b [00:00, ?b/s]\n"
     ]
    },
    {
     "name": "stdout",
     "output_type": "stream",
     "text": [
      "downloading /n/data1/hms/neurobio/sabatini/rich/analysis/make_dFoF_and_tqm/mouse_0916N/20231201/dispatcher.py   to   /media/rich/bigSSD/analysis_data/face_rhythm/mouse_0916N/dFoF_and_tqm/20231201/dispatcher.py\n"
     ]
    },
    {
     "name": "stderr",
     "output_type": "stream",
     "text": [
      "0.00b [00:00, ?b/s]"
     ]
    },
    {
     "name": "stdout",
     "output_type": "stream",
     "text": [
      "downloading /n/data1/hms/neurobio/sabatini/rich/analysis/make_dFoF_and_tqm/mouse_0916N/20231201/notes.txt   to   /media/rich/bigSSD/analysis_data/face_rhythm/mouse_0916N/dFoF_and_tqm/20231201/notes.txt\n"
     ]
    },
    {
     "name": "stderr",
     "output_type": "stream",
     "text": [
      "\n",
      "0.00b [00:00, ?b/s]\n"
     ]
    },
    {
     "name": "stdout",
     "output_type": "stream",
     "text": [
      "downloading /n/data1/hms/neurobio/sabatini/rich/analysis/make_dFoF_and_tqm/mouse_0916N/20231028/parameters_batch.json   to   /media/rich/bigSSD/analysis_data/face_rhythm/mouse_0916N/dFoF_and_tqm/20231028/parameters_batch.json\n"
     ]
    },
    {
     "name": "stderr",
     "output_type": "stream",
     "text": [
      "0.00b [00:00, ?b/s]\n"
     ]
    },
    {
     "name": "stdout",
     "output_type": "stream",
     "text": [
      "downloading /n/data1/hms/neurobio/sabatini/rich/analysis/make_dFoF_and_tqm/mouse_0916N/20231028/jobNum_0/tqm.pkl   to   /media/rich/bigSSD/analysis_data/face_rhythm/mouse_0916N/dFoF_and_tqm/20231028/jobNum_0/tqm.pkl\n"
     ]
    },
    {
     "name": "stderr",
     "output_type": "stream",
     "text": [
      "0.00b [00:00, ?b/s]\n"
     ]
    },
    {
     "name": "stdout",
     "output_type": "stream",
     "text": [
      "downloading /n/data1/hms/neurobio/sabatini/rich/analysis/make_dFoF_and_tqm/mouse_0916N/20231028/jobNum_0/print_log_31449836.log   to   /media/rich/bigSSD/analysis_data/face_rhythm/mouse_0916N/dFoF_and_tqm/20231028/jobNum_0/print_log_31449836.log\n"
     ]
    },
    {
     "name": "stderr",
     "output_type": "stream",
     "text": [
      "0.00b [00:00, ?b/s]\n"
     ]
    },
    {
     "name": "stdout",
     "output_type": "stream",
     "text": [
      "downloading /n/data1/hms/neurobio/sabatini/rich/analysis/make_dFoF_and_tqm/mouse_0916N/20231028/jobNum_0/params.json   to   /media/rich/bigSSD/analysis_data/face_rhythm/mouse_0916N/dFoF_and_tqm/20231028/jobNum_0/params.json\n"
     ]
    },
    {
     "name": "stderr",
     "output_type": "stream",
     "text": [
      "0.00b [00:00, ?b/s]\n"
     ]
    },
    {
     "name": "stdout",
     "output_type": "stream",
     "text": [
      "downloading /n/data1/hms/neurobio/sabatini/rich/analysis/make_dFoF_and_tqm/mouse_0916N/20231028/jobNum_0/dFoF.npy   to   /media/rich/bigSSD/analysis_data/face_rhythm/mouse_0916N/dFoF_and_tqm/20231028/jobNum_0/dFoF.npy\n"
     ]
    },
    {
     "name": "stderr",
     "output_type": "stream",
     "text": [
      "0.00b [00:23, ?b/s]\n"
     ]
    },
    {
     "name": "stdout",
     "output_type": "stream",
     "text": [
      "downloading /n/data1/hms/neurobio/sabatini/rich/analysis/make_dFoF_and_tqm/mouse_0916N/20231028/jobNum_0/print_log_31448065.log   to   /media/rich/bigSSD/analysis_data/face_rhythm/mouse_0916N/dFoF_and_tqm/20231028/jobNum_0/print_log_31448065.log\n"
     ]
    },
    {
     "name": "stderr",
     "output_type": "stream",
     "text": [
      "0.00b [00:00, ?b/s]\n"
     ]
    },
    {
     "name": "stdout",
     "output_type": "stream",
     "text": [
      "downloading /n/data1/hms/neurobio/sabatini/rich/analysis/make_dFoF_and_tqm/mouse_0916N/20231028/jobNum_0/make_dFoF_and_tqm.py   to   /media/rich/bigSSD/analysis_data/face_rhythm/mouse_0916N/dFoF_and_tqm/20231028/jobNum_0/make_dFoF_and_tqm.py\n"
     ]
    },
    {
     "name": "stderr",
     "output_type": "stream",
     "text": [
      "0.00b [00:00, ?b/s]\n"
     ]
    },
    {
     "name": "stdout",
     "output_type": "stream",
     "text": [
      "downloading /n/data1/hms/neurobio/sabatini/rich/analysis/make_dFoF_and_tqm/mouse_0916N/20231028/jobNum_0/iscell_tqm.npy   to   /media/rich/bigSSD/analysis_data/face_rhythm/mouse_0916N/dFoF_and_tqm/20231028/jobNum_0/iscell_tqm.npy\n"
     ]
    },
    {
     "name": "stderr",
     "output_type": "stream",
     "text": [
      "0.00b [00:00, ?b/s]\n"
     ]
    },
    {
     "name": "stdout",
     "output_type": "stream",
     "text": [
      "downloading /n/data1/hms/neurobio/sabatini/rich/analysis/make_dFoF_and_tqm/mouse_0916N/20231028/jobNum_0/sbatch_config.sh   to   /media/rich/bigSSD/analysis_data/face_rhythm/mouse_0916N/dFoF_and_tqm/20231028/jobNum_0/sbatch_config.sh\n"
     ]
    },
    {
     "name": "stderr",
     "output_type": "stream",
     "text": [
      "0.00b [00:00, ?b/s]\n"
     ]
    },
    {
     "name": "stdout",
     "output_type": "stream",
     "text": [
      "downloading /n/data1/hms/neurobio/sabatini/rich/analysis/make_dFoF_and_tqm/mouse_0916N/20231028/make_dFoF_and_tqm.py   to   /media/rich/bigSSD/analysis_data/face_rhythm/mouse_0916N/dFoF_and_tqm/20231028/make_dFoF_and_tqm.py\n"
     ]
    },
    {
     "name": "stderr",
     "output_type": "stream",
     "text": [
      "0.00b [00:00, ?b/s]\n"
     ]
    },
    {
     "name": "stdout",
     "output_type": "stream",
     "text": [
      "downloading /n/data1/hms/neurobio/sabatini/rich/analysis/make_dFoF_and_tqm/mouse_0916N/20231028/dispatcher.py   to   /media/rich/bigSSD/analysis_data/face_rhythm/mouse_0916N/dFoF_and_tqm/20231028/dispatcher.py\n"
     ]
    },
    {
     "name": "stderr",
     "output_type": "stream",
     "text": [
      "0.00b [00:00, ?b/s]\n"
     ]
    },
    {
     "name": "stdout",
     "output_type": "stream",
     "text": [
      "downloading /n/data1/hms/neurobio/sabatini/rich/analysis/make_dFoF_and_tqm/mouse_0916N/20231028/notes.txt   to   /media/rich/bigSSD/analysis_data/face_rhythm/mouse_0916N/dFoF_and_tqm/20231028/notes.txt\n"
     ]
    },
    {
     "name": "stderr",
     "output_type": "stream",
     "text": [
      "0.00b [00:00, ?b/s]\n"
     ]
    },
    {
     "name": "stdout",
     "output_type": "stream",
     "text": [
      "downloading /n/data1/hms/neurobio/sabatini/rich/analysis/make_dFoF_and_tqm/mouse_0916N/20231128/parameters_batch.json   to   /media/rich/bigSSD/analysis_data/face_rhythm/mouse_0916N/dFoF_and_tqm/20231128/parameters_batch.json\n"
     ]
    },
    {
     "name": "stderr",
     "output_type": "stream",
     "text": [
      "0.00b [00:00, ?b/s]\n"
     ]
    },
    {
     "name": "stdout",
     "output_type": "stream",
     "text": [
      "downloading /n/data1/hms/neurobio/sabatini/rich/analysis/make_dFoF_and_tqm/mouse_0916N/20231128/jobNum_0/tqm.pkl   to   /media/rich/bigSSD/analysis_data/face_rhythm/mouse_0916N/dFoF_and_tqm/20231128/jobNum_0/tqm.pkl\n"
     ]
    },
    {
     "name": "stderr",
     "output_type": "stream",
     "text": [
      "0.00b [00:00, ?b/s]\n"
     ]
    },
    {
     "name": "stdout",
     "output_type": "stream",
     "text": [
      "downloading /n/data1/hms/neurobio/sabatini/rich/analysis/make_dFoF_and_tqm/mouse_0916N/20231128/jobNum_0/params.json   to   /media/rich/bigSSD/analysis_data/face_rhythm/mouse_0916N/dFoF_and_tqm/20231128/jobNum_0/params.json\n"
     ]
    },
    {
     "name": "stderr",
     "output_type": "stream",
     "text": [
      "0.00b [00:00, ?b/s]\n"
     ]
    },
    {
     "name": "stdout",
     "output_type": "stream",
     "text": [
      "downloading /n/data1/hms/neurobio/sabatini/rich/analysis/make_dFoF_and_tqm/mouse_0916N/20231128/jobNum_0/dFoF.npy   to   /media/rich/bigSSD/analysis_data/face_rhythm/mouse_0916N/dFoF_and_tqm/20231128/jobNum_0/dFoF.npy\n"
     ]
    },
    {
     "name": "stderr",
     "output_type": "stream",
     "text": [
      "0.00b [00:14, ?b/s]\n"
     ]
    },
    {
     "name": "stdout",
     "output_type": "stream",
     "text": [
      "downloading /n/data1/hms/neurobio/sabatini/rich/analysis/make_dFoF_and_tqm/mouse_0916N/20231128/jobNum_0/print_log_31448214.log   to   /media/rich/bigSSD/analysis_data/face_rhythm/mouse_0916N/dFoF_and_tqm/20231128/jobNum_0/print_log_31448214.log\n"
     ]
    },
    {
     "name": "stderr",
     "output_type": "stream",
     "text": [
      "0.00b [00:00, ?b/s]\n"
     ]
    },
    {
     "name": "stdout",
     "output_type": "stream",
     "text": [
      "downloading /n/data1/hms/neurobio/sabatini/rich/analysis/make_dFoF_and_tqm/mouse_0916N/20231128/jobNum_0/print_log_31449888.log   to   /media/rich/bigSSD/analysis_data/face_rhythm/mouse_0916N/dFoF_and_tqm/20231128/jobNum_0/print_log_31449888.log\n"
     ]
    },
    {
     "name": "stderr",
     "output_type": "stream",
     "text": [
      "0.00b [00:00, ?b/s]\n"
     ]
    },
    {
     "name": "stdout",
     "output_type": "stream",
     "text": [
      "downloading /n/data1/hms/neurobio/sabatini/rich/analysis/make_dFoF_and_tqm/mouse_0916N/20231128/jobNum_0/make_dFoF_and_tqm.py   to   /media/rich/bigSSD/analysis_data/face_rhythm/mouse_0916N/dFoF_and_tqm/20231128/jobNum_0/make_dFoF_and_tqm.py\n"
     ]
    },
    {
     "name": "stderr",
     "output_type": "stream",
     "text": [
      "0.00b [00:00, ?b/s]\n"
     ]
    },
    {
     "name": "stdout",
     "output_type": "stream",
     "text": [
      "downloading /n/data1/hms/neurobio/sabatini/rich/analysis/make_dFoF_and_tqm/mouse_0916N/20231128/jobNum_0/iscell_tqm.npy   to   /media/rich/bigSSD/analysis_data/face_rhythm/mouse_0916N/dFoF_and_tqm/20231128/jobNum_0/iscell_tqm.npy\n"
     ]
    },
    {
     "name": "stderr",
     "output_type": "stream",
     "text": [
      "0.00b [00:00, ?b/s]\n"
     ]
    },
    {
     "name": "stdout",
     "output_type": "stream",
     "text": [
      "downloading /n/data1/hms/neurobio/sabatini/rich/analysis/make_dFoF_and_tqm/mouse_0916N/20231128/jobNum_0/sbatch_config.sh   to   /media/rich/bigSSD/analysis_data/face_rhythm/mouse_0916N/dFoF_and_tqm/20231128/jobNum_0/sbatch_config.sh\n"
     ]
    },
    {
     "name": "stderr",
     "output_type": "stream",
     "text": [
      "0.00b [00:00, ?b/s]\n"
     ]
    },
    {
     "name": "stdout",
     "output_type": "stream",
     "text": [
      "downloading /n/data1/hms/neurobio/sabatini/rich/analysis/make_dFoF_and_tqm/mouse_0916N/20231128/make_dFoF_and_tqm.py   to   /media/rich/bigSSD/analysis_data/face_rhythm/mouse_0916N/dFoF_and_tqm/20231128/make_dFoF_and_tqm.py\n"
     ]
    },
    {
     "name": "stderr",
     "output_type": "stream",
     "text": [
      "0.00b [00:00, ?b/s]\n"
     ]
    },
    {
     "name": "stdout",
     "output_type": "stream",
     "text": [
      "downloading /n/data1/hms/neurobio/sabatini/rich/analysis/make_dFoF_and_tqm/mouse_0916N/20231128/dispatcher.py   to   /media/rich/bigSSD/analysis_data/face_rhythm/mouse_0916N/dFoF_and_tqm/20231128/dispatcher.py\n"
     ]
    },
    {
     "name": "stderr",
     "output_type": "stream",
     "text": [
      "0.00b [00:00, ?b/s]\n"
     ]
    },
    {
     "name": "stdout",
     "output_type": "stream",
     "text": [
      "downloading /n/data1/hms/neurobio/sabatini/rich/analysis/make_dFoF_and_tqm/mouse_0916N/20231128/notes.txt   to   /media/rich/bigSSD/analysis_data/face_rhythm/mouse_0916N/dFoF_and_tqm/20231128/notes.txt\n"
     ]
    },
    {
     "name": "stderr",
     "output_type": "stream",
     "text": [
      "0.00b [00:00, ?b/s]\n"
     ]
    },
    {
     "name": "stdout",
     "output_type": "stream",
     "text": [
      "downloading /n/data1/hms/neurobio/sabatini/rich/analysis/make_dFoF_and_tqm/mouse_0916N/20231104/parameters_batch.json   to   /media/rich/bigSSD/analysis_data/face_rhythm/mouse_0916N/dFoF_and_tqm/20231104/parameters_batch.json\n"
     ]
    },
    {
     "name": "stderr",
     "output_type": "stream",
     "text": [
      "0.00b [00:00, ?b/s]\n"
     ]
    },
    {
     "name": "stdout",
     "output_type": "stream",
     "text": [
      "downloading /n/data1/hms/neurobio/sabatini/rich/analysis/make_dFoF_and_tqm/mouse_0916N/20231104/jobNum_0/tqm.pkl   to   /media/rich/bigSSD/analysis_data/face_rhythm/mouse_0916N/dFoF_and_tqm/20231104/jobNum_0/tqm.pkl\n"
     ]
    },
    {
     "name": "stderr",
     "output_type": "stream",
     "text": [
      "0.00b [00:00, ?b/s]\n"
     ]
    },
    {
     "name": "stdout",
     "output_type": "stream",
     "text": [
      "downloading /n/data1/hms/neurobio/sabatini/rich/analysis/make_dFoF_and_tqm/mouse_0916N/20231104/jobNum_0/params.json   to   /media/rich/bigSSD/analysis_data/face_rhythm/mouse_0916N/dFoF_and_tqm/20231104/jobNum_0/params.json\n"
     ]
    },
    {
     "name": "stderr",
     "output_type": "stream",
     "text": [
      "0.00b [00:00, ?b/s]\n"
     ]
    },
    {
     "name": "stdout",
     "output_type": "stream",
     "text": [
      "downloading /n/data1/hms/neurobio/sabatini/rich/analysis/make_dFoF_and_tqm/mouse_0916N/20231104/jobNum_0/dFoF.npy   to   /media/rich/bigSSD/analysis_data/face_rhythm/mouse_0916N/dFoF_and_tqm/20231104/jobNum_0/dFoF.npy\n"
     ]
    },
    {
     "name": "stderr",
     "output_type": "stream",
     "text": [
      "0.00b [00:17, ?b/s]\n"
     ]
    },
    {
     "name": "stdout",
     "output_type": "stream",
     "text": [
      "downloading /n/data1/hms/neurobio/sabatini/rich/analysis/make_dFoF_and_tqm/mouse_0916N/20231104/jobNum_0/print_log_31448188.log   to   /media/rich/bigSSD/analysis_data/face_rhythm/mouse_0916N/dFoF_and_tqm/20231104/jobNum_0/print_log_31448188.log\n"
     ]
    },
    {
     "name": "stderr",
     "output_type": "stream",
     "text": [
      "0.00b [00:00, ?b/s]\n"
     ]
    },
    {
     "name": "stdout",
     "output_type": "stream",
     "text": [
      "downloading /n/data1/hms/neurobio/sabatini/rich/analysis/make_dFoF_and_tqm/mouse_0916N/20231104/jobNum_0/print_log_31449873.log   to   /media/rich/bigSSD/analysis_data/face_rhythm/mouse_0916N/dFoF_and_tqm/20231104/jobNum_0/print_log_31449873.log\n"
     ]
    },
    {
     "name": "stderr",
     "output_type": "stream",
     "text": [
      "0.00b [00:00, ?b/s]\n"
     ]
    },
    {
     "name": "stdout",
     "output_type": "stream",
     "text": [
      "downloading /n/data1/hms/neurobio/sabatini/rich/analysis/make_dFoF_and_tqm/mouse_0916N/20231104/jobNum_0/make_dFoF_and_tqm.py   to   /media/rich/bigSSD/analysis_data/face_rhythm/mouse_0916N/dFoF_and_tqm/20231104/jobNum_0/make_dFoF_and_tqm.py\n"
     ]
    },
    {
     "name": "stderr",
     "output_type": "stream",
     "text": [
      "0.00b [00:00, ?b/s]\n"
     ]
    },
    {
     "name": "stdout",
     "output_type": "stream",
     "text": [
      "downloading /n/data1/hms/neurobio/sabatini/rich/analysis/make_dFoF_and_tqm/mouse_0916N/20231104/jobNum_0/iscell_tqm.npy   to   /media/rich/bigSSD/analysis_data/face_rhythm/mouse_0916N/dFoF_and_tqm/20231104/jobNum_0/iscell_tqm.npy\n"
     ]
    },
    {
     "name": "stderr",
     "output_type": "stream",
     "text": [
      "0.00b [00:00, ?b/s]\n"
     ]
    },
    {
     "name": "stdout",
     "output_type": "stream",
     "text": [
      "downloading /n/data1/hms/neurobio/sabatini/rich/analysis/make_dFoF_and_tqm/mouse_0916N/20231104/jobNum_0/sbatch_config.sh   to   /media/rich/bigSSD/analysis_data/face_rhythm/mouse_0916N/dFoF_and_tqm/20231104/jobNum_0/sbatch_config.sh\n"
     ]
    },
    {
     "name": "stderr",
     "output_type": "stream",
     "text": [
      "0.00b [00:00, ?b/s]\n"
     ]
    },
    {
     "name": "stdout",
     "output_type": "stream",
     "text": [
      "downloading /n/data1/hms/neurobio/sabatini/rich/analysis/make_dFoF_and_tqm/mouse_0916N/20231104/make_dFoF_and_tqm.py   to   /media/rich/bigSSD/analysis_data/face_rhythm/mouse_0916N/dFoF_and_tqm/20231104/make_dFoF_and_tqm.py\n"
     ]
    },
    {
     "name": "stderr",
     "output_type": "stream",
     "text": [
      "0.00b [00:00, ?b/s]\n"
     ]
    },
    {
     "name": "stdout",
     "output_type": "stream",
     "text": [
      "downloading /n/data1/hms/neurobio/sabatini/rich/analysis/make_dFoF_and_tqm/mouse_0916N/20231104/dispatcher.py   to   /media/rich/bigSSD/analysis_data/face_rhythm/mouse_0916N/dFoF_and_tqm/20231104/dispatcher.py\n"
     ]
    },
    {
     "name": "stderr",
     "output_type": "stream",
     "text": [
      "0.00b [00:00, ?b/s]\n"
     ]
    },
    {
     "name": "stdout",
     "output_type": "stream",
     "text": [
      "downloading /n/data1/hms/neurobio/sabatini/rich/analysis/make_dFoF_and_tqm/mouse_0916N/20231104/notes.txt   to   /media/rich/bigSSD/analysis_data/face_rhythm/mouse_0916N/dFoF_and_tqm/20231104/notes.txt\n"
     ]
    },
    {
     "name": "stderr",
     "output_type": "stream",
     "text": [
      "0.00b [00:00, ?b/s]\n"
     ]
    },
    {
     "name": "stdout",
     "output_type": "stream",
     "text": [
      "downloading /n/data1/hms/neurobio/sabatini/rich/analysis/make_dFoF_and_tqm/mouse_0916N/20231203/parameters_batch.json   to   /media/rich/bigSSD/analysis_data/face_rhythm/mouse_0916N/dFoF_and_tqm/20231203/parameters_batch.json\n"
     ]
    },
    {
     "name": "stderr",
     "output_type": "stream",
     "text": [
      "0.00b [00:00, ?b/s]\n"
     ]
    },
    {
     "name": "stdout",
     "output_type": "stream",
     "text": [
      "downloading /n/data1/hms/neurobio/sabatini/rich/analysis/make_dFoF_and_tqm/mouse_0916N/20231203/jobNum_0/tqm.pkl   to   /media/rich/bigSSD/analysis_data/face_rhythm/mouse_0916N/dFoF_and_tqm/20231203/jobNum_0/tqm.pkl\n"
     ]
    },
    {
     "name": "stderr",
     "output_type": "stream",
     "text": [
      "0.00b [00:00, ?b/s]\n"
     ]
    },
    {
     "name": "stdout",
     "output_type": "stream",
     "text": [
      "downloading /n/data1/hms/neurobio/sabatini/rich/analysis/make_dFoF_and_tqm/mouse_0916N/20231203/jobNum_0/params.json   to   /media/rich/bigSSD/analysis_data/face_rhythm/mouse_0916N/dFoF_and_tqm/20231203/jobNum_0/params.json\n"
     ]
    },
    {
     "name": "stderr",
     "output_type": "stream",
     "text": [
      "0.00b [00:00, ?b/s]\n"
     ]
    },
    {
     "name": "stdout",
     "output_type": "stream",
     "text": [
      "downloading /n/data1/hms/neurobio/sabatini/rich/analysis/make_dFoF_and_tqm/mouse_0916N/20231203/jobNum_0/dFoF.npy   to   /media/rich/bigSSD/analysis_data/face_rhythm/mouse_0916N/dFoF_and_tqm/20231203/jobNum_0/dFoF.npy\n"
     ]
    },
    {
     "name": "stderr",
     "output_type": "stream",
     "text": [
      "0.00b [00:19, ?b/s]\n"
     ]
    },
    {
     "name": "stdout",
     "output_type": "stream",
     "text": [
      "downloading /n/data1/hms/neurobio/sabatini/rich/analysis/make_dFoF_and_tqm/mouse_0916N/20231203/jobNum_0/print_log_31449910.log   to   /media/rich/bigSSD/analysis_data/face_rhythm/mouse_0916N/dFoF_and_tqm/20231203/jobNum_0/print_log_31449910.log\n"
     ]
    },
    {
     "name": "stderr",
     "output_type": "stream",
     "text": [
      "0.00b [00:00, ?b/s]\n"
     ]
    },
    {
     "name": "stdout",
     "output_type": "stream",
     "text": [
      "downloading /n/data1/hms/neurobio/sabatini/rich/analysis/make_dFoF_and_tqm/mouse_0916N/20231203/jobNum_0/print_log_31448232.log   to   /media/rich/bigSSD/analysis_data/face_rhythm/mouse_0916N/dFoF_and_tqm/20231203/jobNum_0/print_log_31448232.log\n"
     ]
    },
    {
     "name": "stderr",
     "output_type": "stream",
     "text": [
      "0.00b [00:00, ?b/s]\n"
     ]
    },
    {
     "name": "stdout",
     "output_type": "stream",
     "text": [
      "downloading /n/data1/hms/neurobio/sabatini/rich/analysis/make_dFoF_and_tqm/mouse_0916N/20231203/jobNum_0/make_dFoF_and_tqm.py   to   /media/rich/bigSSD/analysis_data/face_rhythm/mouse_0916N/dFoF_and_tqm/20231203/jobNum_0/make_dFoF_and_tqm.py\n"
     ]
    },
    {
     "name": "stderr",
     "output_type": "stream",
     "text": [
      "0.00b [00:00, ?b/s]\n"
     ]
    },
    {
     "name": "stdout",
     "output_type": "stream",
     "text": [
      "downloading /n/data1/hms/neurobio/sabatini/rich/analysis/make_dFoF_and_tqm/mouse_0916N/20231203/jobNum_0/iscell_tqm.npy   to   /media/rich/bigSSD/analysis_data/face_rhythm/mouse_0916N/dFoF_and_tqm/20231203/jobNum_0/iscell_tqm.npy\n"
     ]
    },
    {
     "name": "stderr",
     "output_type": "stream",
     "text": [
      "0.00b [00:00, ?b/s]\n"
     ]
    },
    {
     "name": "stdout",
     "output_type": "stream",
     "text": [
      "downloading /n/data1/hms/neurobio/sabatini/rich/analysis/make_dFoF_and_tqm/mouse_0916N/20231203/jobNum_0/sbatch_config.sh   to   /media/rich/bigSSD/analysis_data/face_rhythm/mouse_0916N/dFoF_and_tqm/20231203/jobNum_0/sbatch_config.sh\n"
     ]
    },
    {
     "name": "stderr",
     "output_type": "stream",
     "text": [
      "0.00b [00:00, ?b/s]\n"
     ]
    },
    {
     "name": "stdout",
     "output_type": "stream",
     "text": [
      "downloading /n/data1/hms/neurobio/sabatini/rich/analysis/make_dFoF_and_tqm/mouse_0916N/20231203/make_dFoF_and_tqm.py   to   /media/rich/bigSSD/analysis_data/face_rhythm/mouse_0916N/dFoF_and_tqm/20231203/make_dFoF_and_tqm.py\n"
     ]
    },
    {
     "name": "stderr",
     "output_type": "stream",
     "text": [
      "0.00b [00:00, ?b/s]\n"
     ]
    },
    {
     "name": "stdout",
     "output_type": "stream",
     "text": [
      "downloading /n/data1/hms/neurobio/sabatini/rich/analysis/make_dFoF_and_tqm/mouse_0916N/20231203/dispatcher.py   to   /media/rich/bigSSD/analysis_data/face_rhythm/mouse_0916N/dFoF_and_tqm/20231203/dispatcher.py\n"
     ]
    },
    {
     "name": "stderr",
     "output_type": "stream",
     "text": [
      "0.00b [00:00, ?b/s]\n"
     ]
    },
    {
     "name": "stdout",
     "output_type": "stream",
     "text": [
      "downloading /n/data1/hms/neurobio/sabatini/rich/analysis/make_dFoF_and_tqm/mouse_0916N/20231203/notes.txt   to   /media/rich/bigSSD/analysis_data/face_rhythm/mouse_0916N/dFoF_and_tqm/20231203/notes.txt\n"
     ]
    },
    {
     "name": "stderr",
     "output_type": "stream",
     "text": [
      "0.00b [00:00, ?b/s]\n"
     ]
    },
    {
     "name": "stdout",
     "output_type": "stream",
     "text": [
      "downloading /n/data1/hms/neurobio/sabatini/rich/analysis/make_dFoF_and_tqm/mouse_0916N/20231204/parameters_batch.json   to   /media/rich/bigSSD/analysis_data/face_rhythm/mouse_0916N/dFoF_and_tqm/20231204/parameters_batch.json\n"
     ]
    },
    {
     "name": "stderr",
     "output_type": "stream",
     "text": [
      "0.00b [00:00, ?b/s]\n"
     ]
    },
    {
     "name": "stdout",
     "output_type": "stream",
     "text": [
      "downloading /n/data1/hms/neurobio/sabatini/rich/analysis/make_dFoF_and_tqm/mouse_0916N/20231204/jobNum_0/tqm.pkl   to   /media/rich/bigSSD/analysis_data/face_rhythm/mouse_0916N/dFoF_and_tqm/20231204/jobNum_0/tqm.pkl\n"
     ]
    },
    {
     "name": "stderr",
     "output_type": "stream",
     "text": [
      "0.00b [00:00, ?b/s]\n"
     ]
    },
    {
     "name": "stdout",
     "output_type": "stream",
     "text": [
      "downloading /n/data1/hms/neurobio/sabatini/rich/analysis/make_dFoF_and_tqm/mouse_0916N/20231204/jobNum_0/params.json   to   /media/rich/bigSSD/analysis_data/face_rhythm/mouse_0916N/dFoF_and_tqm/20231204/jobNum_0/params.json\n"
     ]
    },
    {
     "name": "stderr",
     "output_type": "stream",
     "text": [
      "0.00b [00:00, ?b/s]\n"
     ]
    },
    {
     "name": "stdout",
     "output_type": "stream",
     "text": [
      "downloading /n/data1/hms/neurobio/sabatini/rich/analysis/make_dFoF_and_tqm/mouse_0916N/20231204/jobNum_0/dFoF.npy   to   /media/rich/bigSSD/analysis_data/face_rhythm/mouse_0916N/dFoF_and_tqm/20231204/jobNum_0/dFoF.npy\n"
     ]
    },
    {
     "name": "stderr",
     "output_type": "stream",
     "text": [
      "0.00b [00:18, ?b/s]\n"
     ]
    },
    {
     "name": "stdout",
     "output_type": "stream",
     "text": [
      "downloading /n/data1/hms/neurobio/sabatini/rich/analysis/make_dFoF_and_tqm/mouse_0916N/20231204/jobNum_0/print_log_31449915.log   to   /media/rich/bigSSD/analysis_data/face_rhythm/mouse_0916N/dFoF_and_tqm/20231204/jobNum_0/print_log_31449915.log\n"
     ]
    },
    {
     "name": "stderr",
     "output_type": "stream",
     "text": [
      "0.00b [00:00, ?b/s]\n"
     ]
    },
    {
     "name": "stdout",
     "output_type": "stream",
     "text": [
      "downloading /n/data1/hms/neurobio/sabatini/rich/analysis/make_dFoF_and_tqm/mouse_0916N/20231204/jobNum_0/print_log_31448237.log   to   /media/rich/bigSSD/analysis_data/face_rhythm/mouse_0916N/dFoF_and_tqm/20231204/jobNum_0/print_log_31448237.log\n"
     ]
    },
    {
     "name": "stderr",
     "output_type": "stream",
     "text": [
      "0.00b [00:00, ?b/s]\n"
     ]
    },
    {
     "name": "stdout",
     "output_type": "stream",
     "text": [
      "downloading /n/data1/hms/neurobio/sabatini/rich/analysis/make_dFoF_and_tqm/mouse_0916N/20231204/jobNum_0/make_dFoF_and_tqm.py   to   /media/rich/bigSSD/analysis_data/face_rhythm/mouse_0916N/dFoF_and_tqm/20231204/jobNum_0/make_dFoF_and_tqm.py\n"
     ]
    },
    {
     "name": "stderr",
     "output_type": "stream",
     "text": [
      "0.00b [00:00, ?b/s]\n"
     ]
    },
    {
     "name": "stdout",
     "output_type": "stream",
     "text": [
      "downloading /n/data1/hms/neurobio/sabatini/rich/analysis/make_dFoF_and_tqm/mouse_0916N/20231204/jobNum_0/iscell_tqm.npy   to   /media/rich/bigSSD/analysis_data/face_rhythm/mouse_0916N/dFoF_and_tqm/20231204/jobNum_0/iscell_tqm.npy\n"
     ]
    },
    {
     "name": "stderr",
     "output_type": "stream",
     "text": [
      "0.00b [00:00, ?b/s]\n"
     ]
    },
    {
     "name": "stdout",
     "output_type": "stream",
     "text": [
      "downloading /n/data1/hms/neurobio/sabatini/rich/analysis/make_dFoF_and_tqm/mouse_0916N/20231204/jobNum_0/sbatch_config.sh   to   /media/rich/bigSSD/analysis_data/face_rhythm/mouse_0916N/dFoF_and_tqm/20231204/jobNum_0/sbatch_config.sh\n"
     ]
    },
    {
     "name": "stderr",
     "output_type": "stream",
     "text": [
      "0.00b [00:00, ?b/s]\n"
     ]
    },
    {
     "name": "stdout",
     "output_type": "stream",
     "text": [
      "downloading /n/data1/hms/neurobio/sabatini/rich/analysis/make_dFoF_and_tqm/mouse_0916N/20231204/make_dFoF_and_tqm.py   to   /media/rich/bigSSD/analysis_data/face_rhythm/mouse_0916N/dFoF_and_tqm/20231204/make_dFoF_and_tqm.py\n"
     ]
    },
    {
     "name": "stderr",
     "output_type": "stream",
     "text": [
      "0.00b [00:00, ?b/s]\n"
     ]
    },
    {
     "name": "stdout",
     "output_type": "stream",
     "text": [
      "downloading /n/data1/hms/neurobio/sabatini/rich/analysis/make_dFoF_and_tqm/mouse_0916N/20231204/dispatcher.py   to   /media/rich/bigSSD/analysis_data/face_rhythm/mouse_0916N/dFoF_and_tqm/20231204/dispatcher.py\n"
     ]
    },
    {
     "name": "stderr",
     "output_type": "stream",
     "text": [
      "0.00b [00:00, ?b/s]\n"
     ]
    },
    {
     "name": "stdout",
     "output_type": "stream",
     "text": [
      "downloading /n/data1/hms/neurobio/sabatini/rich/analysis/make_dFoF_and_tqm/mouse_0916N/20231204/notes.txt   to   /media/rich/bigSSD/analysis_data/face_rhythm/mouse_0916N/dFoF_and_tqm/20231204/notes.txt\n"
     ]
    },
    {
     "name": "stderr",
     "output_type": "stream",
     "text": [
      "0.00b [00:00, ?b/s]\n"
     ]
    },
    {
     "name": "stdout",
     "output_type": "stream",
     "text": [
      "downloading /n/data1/hms/neurobio/sabatini/rich/analysis/make_dFoF_and_tqm/mouse_0916N/20231030/parameters_batch.json   to   /media/rich/bigSSD/analysis_data/face_rhythm/mouse_0916N/dFoF_and_tqm/20231030/parameters_batch.json\n"
     ]
    },
    {
     "name": "stderr",
     "output_type": "stream",
     "text": [
      "0.00b [00:00, ?b/s]\n"
     ]
    },
    {
     "name": "stdout",
     "output_type": "stream",
     "text": [
      "downloading /n/data1/hms/neurobio/sabatini/rich/analysis/make_dFoF_and_tqm/mouse_0916N/20231030/jobNum_0/tqm.pkl   to   /media/rich/bigSSD/analysis_data/face_rhythm/mouse_0916N/dFoF_and_tqm/20231030/jobNum_0/tqm.pkl\n"
     ]
    },
    {
     "name": "stderr",
     "output_type": "stream",
     "text": [
      "0.00b [00:00, ?b/s]\n"
     ]
    },
    {
     "name": "stdout",
     "output_type": "stream",
     "text": [
      "downloading /n/data1/hms/neurobio/sabatini/rich/analysis/make_dFoF_and_tqm/mouse_0916N/20231030/jobNum_0/params.json   to   /media/rich/bigSSD/analysis_data/face_rhythm/mouse_0916N/dFoF_and_tqm/20231030/jobNum_0/params.json\n"
     ]
    },
    {
     "name": "stderr",
     "output_type": "stream",
     "text": [
      "0.00b [00:00, ?b/s]\n"
     ]
    },
    {
     "name": "stdout",
     "output_type": "stream",
     "text": [
      "downloading /n/data1/hms/neurobio/sabatini/rich/analysis/make_dFoF_and_tqm/mouse_0916N/20231030/jobNum_0/dFoF.npy   to   /media/rich/bigSSD/analysis_data/face_rhythm/mouse_0916N/dFoF_and_tqm/20231030/jobNum_0/dFoF.npy\n"
     ]
    },
    {
     "name": "stderr",
     "output_type": "stream",
     "text": [
      "0.00b [00:22, ?b/s]\n"
     ]
    },
    {
     "name": "stdout",
     "output_type": "stream",
     "text": [
      "downloading /n/data1/hms/neurobio/sabatini/rich/analysis/make_dFoF_and_tqm/mouse_0916N/20231030/jobNum_0/print_log_31449843.log   to   /media/rich/bigSSD/analysis_data/face_rhythm/mouse_0916N/dFoF_and_tqm/20231030/jobNum_0/print_log_31449843.log\n"
     ]
    },
    {
     "name": "stderr",
     "output_type": "stream",
     "text": [
      "0.00b [00:00, ?b/s]\n"
     ]
    },
    {
     "name": "stdout",
     "output_type": "stream",
     "text": [
      "downloading /n/data1/hms/neurobio/sabatini/rich/analysis/make_dFoF_and_tqm/mouse_0916N/20231030/jobNum_0/make_dFoF_and_tqm.py   to   /media/rich/bigSSD/analysis_data/face_rhythm/mouse_0916N/dFoF_and_tqm/20231030/jobNum_0/make_dFoF_and_tqm.py\n"
     ]
    },
    {
     "name": "stderr",
     "output_type": "stream",
     "text": [
      "0.00b [00:00, ?b/s]\n"
     ]
    },
    {
     "name": "stdout",
     "output_type": "stream",
     "text": [
      "downloading /n/data1/hms/neurobio/sabatini/rich/analysis/make_dFoF_and_tqm/mouse_0916N/20231030/jobNum_0/iscell_tqm.npy   to   /media/rich/bigSSD/analysis_data/face_rhythm/mouse_0916N/dFoF_and_tqm/20231030/jobNum_0/iscell_tqm.npy\n"
     ]
    },
    {
     "name": "stderr",
     "output_type": "stream",
     "text": [
      "0.00b [00:00, ?b/s]\n"
     ]
    },
    {
     "name": "stdout",
     "output_type": "stream",
     "text": [
      "downloading /n/data1/hms/neurobio/sabatini/rich/analysis/make_dFoF_and_tqm/mouse_0916N/20231030/jobNum_0/sbatch_config.sh   to   /media/rich/bigSSD/analysis_data/face_rhythm/mouse_0916N/dFoF_and_tqm/20231030/jobNum_0/sbatch_config.sh\n"
     ]
    },
    {
     "name": "stderr",
     "output_type": "stream",
     "text": [
      "0.00b [00:00, ?b/s]\n"
     ]
    },
    {
     "name": "stdout",
     "output_type": "stream",
     "text": [
      "downloading /n/data1/hms/neurobio/sabatini/rich/analysis/make_dFoF_and_tqm/mouse_0916N/20231030/jobNum_0/print_log_31448085.log   to   /media/rich/bigSSD/analysis_data/face_rhythm/mouse_0916N/dFoF_and_tqm/20231030/jobNum_0/print_log_31448085.log\n"
     ]
    },
    {
     "name": "stderr",
     "output_type": "stream",
     "text": [
      "0.00b [00:00, ?b/s]\n"
     ]
    },
    {
     "name": "stdout",
     "output_type": "stream",
     "text": [
      "downloading /n/data1/hms/neurobio/sabatini/rich/analysis/make_dFoF_and_tqm/mouse_0916N/20231030/make_dFoF_and_tqm.py   to   /media/rich/bigSSD/analysis_data/face_rhythm/mouse_0916N/dFoF_and_tqm/20231030/make_dFoF_and_tqm.py\n"
     ]
    },
    {
     "name": "stderr",
     "output_type": "stream",
     "text": [
      "0.00b [00:00, ?b/s]\n"
     ]
    },
    {
     "name": "stdout",
     "output_type": "stream",
     "text": [
      "downloading /n/data1/hms/neurobio/sabatini/rich/analysis/make_dFoF_and_tqm/mouse_0916N/20231030/dispatcher.py   to   /media/rich/bigSSD/analysis_data/face_rhythm/mouse_0916N/dFoF_and_tqm/20231030/dispatcher.py\n"
     ]
    },
    {
     "name": "stderr",
     "output_type": "stream",
     "text": [
      "0.00b [00:00, ?b/s]\n"
     ]
    },
    {
     "name": "stdout",
     "output_type": "stream",
     "text": [
      "downloading /n/data1/hms/neurobio/sabatini/rich/analysis/make_dFoF_and_tqm/mouse_0916N/20231030/notes.txt   to   /media/rich/bigSSD/analysis_data/face_rhythm/mouse_0916N/dFoF_and_tqm/20231030/notes.txt\n"
     ]
    },
    {
     "name": "stderr",
     "output_type": "stream",
     "text": [
      "0.00b [00:00, ?b/s]\n"
     ]
    },
    {
     "name": "stdout",
     "output_type": "stream",
     "text": [
      "downloading /n/data1/hms/neurobio/sabatini/rich/analysis/make_dFoF_and_tqm/mouse_0916N/20231103/parameters_batch.json   to   /media/rich/bigSSD/analysis_data/face_rhythm/mouse_0916N/dFoF_and_tqm/20231103/parameters_batch.json\n"
     ]
    },
    {
     "name": "stderr",
     "output_type": "stream",
     "text": [
      "0.00b [00:00, ?b/s]\n"
     ]
    },
    {
     "name": "stdout",
     "output_type": "stream",
     "text": [
      "downloading /n/data1/hms/neurobio/sabatini/rich/analysis/make_dFoF_and_tqm/mouse_0916N/20231103/jobNum_0/tqm.pkl   to   /media/rich/bigSSD/analysis_data/face_rhythm/mouse_0916N/dFoF_and_tqm/20231103/jobNum_0/tqm.pkl\n"
     ]
    },
    {
     "name": "stderr",
     "output_type": "stream",
     "text": [
      "0.00b [00:00, ?b/s]\n"
     ]
    },
    {
     "name": "stdout",
     "output_type": "stream",
     "text": [
      "downloading /n/data1/hms/neurobio/sabatini/rich/analysis/make_dFoF_and_tqm/mouse_0916N/20231103/jobNum_0/params.json   to   /media/rich/bigSSD/analysis_data/face_rhythm/mouse_0916N/dFoF_and_tqm/20231103/jobNum_0/params.json\n"
     ]
    },
    {
     "name": "stderr",
     "output_type": "stream",
     "text": [
      "0.00b [00:00, ?b/s]\n"
     ]
    },
    {
     "name": "stdout",
     "output_type": "stream",
     "text": [
      "downloading /n/data1/hms/neurobio/sabatini/rich/analysis/make_dFoF_and_tqm/mouse_0916N/20231103/jobNum_0/print_log_31448107.log   to   /media/rich/bigSSD/analysis_data/face_rhythm/mouse_0916N/dFoF_and_tqm/20231103/jobNum_0/print_log_31448107.log\n"
     ]
    },
    {
     "name": "stderr",
     "output_type": "stream",
     "text": [
      "0.00b [00:00, ?b/s]\n"
     ]
    },
    {
     "name": "stdout",
     "output_type": "stream",
     "text": [
      "downloading /n/data1/hms/neurobio/sabatini/rich/analysis/make_dFoF_and_tqm/mouse_0916N/20231103/jobNum_0/dFoF.npy   to   /media/rich/bigSSD/analysis_data/face_rhythm/mouse_0916N/dFoF_and_tqm/20231103/jobNum_0/dFoF.npy\n"
     ]
    },
    {
     "name": "stderr",
     "output_type": "stream",
     "text": [
      "0.00b [00:27, ?b/s]\n"
     ]
    },
    {
     "name": "stdout",
     "output_type": "stream",
     "text": [
      "downloading /n/data1/hms/neurobio/sabatini/rich/analysis/make_dFoF_and_tqm/mouse_0916N/20231103/jobNum_0/print_log_31449868.log   to   /media/rich/bigSSD/analysis_data/face_rhythm/mouse_0916N/dFoF_and_tqm/20231103/jobNum_0/print_log_31449868.log\n"
     ]
    },
    {
     "name": "stderr",
     "output_type": "stream",
     "text": [
      "0.00b [00:00, ?b/s]\n"
     ]
    },
    {
     "name": "stdout",
     "output_type": "stream",
     "text": [
      "downloading /n/data1/hms/neurobio/sabatini/rich/analysis/make_dFoF_and_tqm/mouse_0916N/20231103/jobNum_0/make_dFoF_and_tqm.py   to   /media/rich/bigSSD/analysis_data/face_rhythm/mouse_0916N/dFoF_and_tqm/20231103/jobNum_0/make_dFoF_and_tqm.py\n"
     ]
    },
    {
     "name": "stderr",
     "output_type": "stream",
     "text": [
      "0.00b [00:00, ?b/s]\n"
     ]
    },
    {
     "name": "stdout",
     "output_type": "stream",
     "text": [
      "downloading /n/data1/hms/neurobio/sabatini/rich/analysis/make_dFoF_and_tqm/mouse_0916N/20231103/jobNum_0/iscell_tqm.npy   to   /media/rich/bigSSD/analysis_data/face_rhythm/mouse_0916N/dFoF_and_tqm/20231103/jobNum_0/iscell_tqm.npy\n"
     ]
    },
    {
     "name": "stderr",
     "output_type": "stream",
     "text": [
      "0.00b [00:00, ?b/s]\n"
     ]
    },
    {
     "name": "stdout",
     "output_type": "stream",
     "text": [
      "downloading /n/data1/hms/neurobio/sabatini/rich/analysis/make_dFoF_and_tqm/mouse_0916N/20231103/jobNum_0/sbatch_config.sh   to   /media/rich/bigSSD/analysis_data/face_rhythm/mouse_0916N/dFoF_and_tqm/20231103/jobNum_0/sbatch_config.sh\n"
     ]
    },
    {
     "name": "stderr",
     "output_type": "stream",
     "text": [
      "0.00b [00:00, ?b/s]\n"
     ]
    },
    {
     "name": "stdout",
     "output_type": "stream",
     "text": [
      "downloading /n/data1/hms/neurobio/sabatini/rich/analysis/make_dFoF_and_tqm/mouse_0916N/20231103/make_dFoF_and_tqm.py   to   /media/rich/bigSSD/analysis_data/face_rhythm/mouse_0916N/dFoF_and_tqm/20231103/make_dFoF_and_tqm.py\n"
     ]
    },
    {
     "name": "stderr",
     "output_type": "stream",
     "text": [
      "0.00b [00:00, ?b/s]\n"
     ]
    },
    {
     "name": "stdout",
     "output_type": "stream",
     "text": [
      "downloading /n/data1/hms/neurobio/sabatini/rich/analysis/make_dFoF_and_tqm/mouse_0916N/20231103/dispatcher.py   to   /media/rich/bigSSD/analysis_data/face_rhythm/mouse_0916N/dFoF_and_tqm/20231103/dispatcher.py\n"
     ]
    },
    {
     "name": "stderr",
     "output_type": "stream",
     "text": [
      "0.00b [00:00, ?b/s]\n"
     ]
    },
    {
     "name": "stdout",
     "output_type": "stream",
     "text": [
      "downloading /n/data1/hms/neurobio/sabatini/rich/analysis/make_dFoF_and_tqm/mouse_0916N/20231103/notes.txt   to   /media/rich/bigSSD/analysis_data/face_rhythm/mouse_0916N/dFoF_and_tqm/20231103/notes.txt\n"
     ]
    },
    {
     "name": "stderr",
     "output_type": "stream",
     "text": [
      "0.00b [00:00, ?b/s]\n"
     ]
    },
    {
     "name": "stdout",
     "output_type": "stream",
     "text": [
      "downloading /n/data1/hms/neurobio/sabatini/rich/analysis/make_dFoF_and_tqm/mouse_0916N/20231210/parameters_batch.json   to   /media/rich/bigSSD/analysis_data/face_rhythm/mouse_0916N/dFoF_and_tqm/20231210/parameters_batch.json\n"
     ]
    },
    {
     "name": "stderr",
     "output_type": "stream",
     "text": [
      "0.00b [00:00, ?b/s]\n"
     ]
    },
    {
     "name": "stdout",
     "output_type": "stream",
     "text": [
      "downloading /n/data1/hms/neurobio/sabatini/rich/analysis/make_dFoF_and_tqm/mouse_0916N/20231210/jobNum_0/tqm.pkl   to   /media/rich/bigSSD/analysis_data/face_rhythm/mouse_0916N/dFoF_and_tqm/20231210/jobNum_0/tqm.pkl\n"
     ]
    },
    {
     "name": "stderr",
     "output_type": "stream",
     "text": [
      "0.00b [00:00, ?b/s]\n"
     ]
    },
    {
     "name": "stdout",
     "output_type": "stream",
     "text": [
      "downloading /n/data1/hms/neurobio/sabatini/rich/analysis/make_dFoF_and_tqm/mouse_0916N/20231210/jobNum_0/params.json   to   /media/rich/bigSSD/analysis_data/face_rhythm/mouse_0916N/dFoF_and_tqm/20231210/jobNum_0/params.json\n"
     ]
    },
    {
     "name": "stderr",
     "output_type": "stream",
     "text": [
      "0.00b [00:00, ?b/s]\n"
     ]
    },
    {
     "name": "stdout",
     "output_type": "stream",
     "text": [
      "downloading /n/data1/hms/neurobio/sabatini/rich/analysis/make_dFoF_and_tqm/mouse_0916N/20231210/jobNum_0/dFoF.npy   to   /media/rich/bigSSD/analysis_data/face_rhythm/mouse_0916N/dFoF_and_tqm/20231210/jobNum_0/dFoF.npy\n"
     ]
    },
    {
     "name": "stderr",
     "output_type": "stream",
     "text": [
      "0.00b [00:32, ?b/s]\n"
     ]
    },
    {
     "name": "stdout",
     "output_type": "stream",
     "text": [
      "downloading /n/data1/hms/neurobio/sabatini/rich/analysis/make_dFoF_and_tqm/mouse_0916N/20231210/jobNum_0/print_log_31448262.log   to   /media/rich/bigSSD/analysis_data/face_rhythm/mouse_0916N/dFoF_and_tqm/20231210/jobNum_0/print_log_31448262.log\n"
     ]
    },
    {
     "name": "stderr",
     "output_type": "stream",
     "text": [
      "0.00b [00:00, ?b/s]\n"
     ]
    },
    {
     "name": "stdout",
     "output_type": "stream",
     "text": [
      "downloading /n/data1/hms/neurobio/sabatini/rich/analysis/make_dFoF_and_tqm/mouse_0916N/20231210/jobNum_0/print_log_31449941.log   to   /media/rich/bigSSD/analysis_data/face_rhythm/mouse_0916N/dFoF_and_tqm/20231210/jobNum_0/print_log_31449941.log\n"
     ]
    },
    {
     "name": "stderr",
     "output_type": "stream",
     "text": [
      "0.00b [00:00, ?b/s]\n"
     ]
    },
    {
     "name": "stdout",
     "output_type": "stream",
     "text": [
      "downloading /n/data1/hms/neurobio/sabatini/rich/analysis/make_dFoF_and_tqm/mouse_0916N/20231210/jobNum_0/make_dFoF_and_tqm.py   to   /media/rich/bigSSD/analysis_data/face_rhythm/mouse_0916N/dFoF_and_tqm/20231210/jobNum_0/make_dFoF_and_tqm.py\n"
     ]
    },
    {
     "name": "stderr",
     "output_type": "stream",
     "text": [
      "0.00b [00:00, ?b/s]\n"
     ]
    },
    {
     "name": "stdout",
     "output_type": "stream",
     "text": [
      "downloading /n/data1/hms/neurobio/sabatini/rich/analysis/make_dFoF_and_tqm/mouse_0916N/20231210/jobNum_0/iscell_tqm.npy   to   /media/rich/bigSSD/analysis_data/face_rhythm/mouse_0916N/dFoF_and_tqm/20231210/jobNum_0/iscell_tqm.npy\n"
     ]
    },
    {
     "name": "stderr",
     "output_type": "stream",
     "text": [
      "0.00b [00:00, ?b/s]\n"
     ]
    },
    {
     "name": "stdout",
     "output_type": "stream",
     "text": [
      "downloading /n/data1/hms/neurobio/sabatini/rich/analysis/make_dFoF_and_tqm/mouse_0916N/20231210/jobNum_0/sbatch_config.sh   to   /media/rich/bigSSD/analysis_data/face_rhythm/mouse_0916N/dFoF_and_tqm/20231210/jobNum_0/sbatch_config.sh\n"
     ]
    },
    {
     "name": "stderr",
     "output_type": "stream",
     "text": [
      "0.00b [00:00, ?b/s]\n"
     ]
    },
    {
     "name": "stdout",
     "output_type": "stream",
     "text": [
      "downloading /n/data1/hms/neurobio/sabatini/rich/analysis/make_dFoF_and_tqm/mouse_0916N/20231210/make_dFoF_and_tqm.py   to   /media/rich/bigSSD/analysis_data/face_rhythm/mouse_0916N/dFoF_and_tqm/20231210/make_dFoF_and_tqm.py\n"
     ]
    },
    {
     "name": "stderr",
     "output_type": "stream",
     "text": [
      "0.00b [00:00, ?b/s]\n"
     ]
    },
    {
     "name": "stdout",
     "output_type": "stream",
     "text": [
      "downloading /n/data1/hms/neurobio/sabatini/rich/analysis/make_dFoF_and_tqm/mouse_0916N/20231210/dispatcher.py   to   /media/rich/bigSSD/analysis_data/face_rhythm/mouse_0916N/dFoF_and_tqm/20231210/dispatcher.py\n"
     ]
    },
    {
     "name": "stderr",
     "output_type": "stream",
     "text": [
      "0.00b [00:00, ?b/s]\n"
     ]
    },
    {
     "name": "stdout",
     "output_type": "stream",
     "text": [
      "downloading /n/data1/hms/neurobio/sabatini/rich/analysis/make_dFoF_and_tqm/mouse_0916N/20231210/notes.txt   to   /media/rich/bigSSD/analysis_data/face_rhythm/mouse_0916N/dFoF_and_tqm/20231210/notes.txt\n"
     ]
    },
    {
     "name": "stderr",
     "output_type": "stream",
     "text": [
      "0.00b [00:00, ?b/s]\n"
     ]
    },
    {
     "name": "stdout",
     "output_type": "stream",
     "text": [
      "downloading /n/data1/hms/neurobio/sabatini/rich/analysis/make_dFoF_and_tqm/mouse_0916N/20231202/parameters_batch.json   to   /media/rich/bigSSD/analysis_data/face_rhythm/mouse_0916N/dFoF_and_tqm/20231202/parameters_batch.json\n"
     ]
    },
    {
     "name": "stderr",
     "output_type": "stream",
     "text": [
      "0.00b [00:00, ?b/s]\n"
     ]
    },
    {
     "name": "stdout",
     "output_type": "stream",
     "text": [
      "downloading /n/data1/hms/neurobio/sabatini/rich/analysis/make_dFoF_and_tqm/mouse_0916N/20231202/jobNum_0/tqm.pkl   to   /media/rich/bigSSD/analysis_data/face_rhythm/mouse_0916N/dFoF_and_tqm/20231202/jobNum_0/tqm.pkl\n"
     ]
    },
    {
     "name": "stderr",
     "output_type": "stream",
     "text": [
      "0.00b [00:00, ?b/s]\n"
     ]
    },
    {
     "name": "stdout",
     "output_type": "stream",
     "text": [
      "downloading /n/data1/hms/neurobio/sabatini/rich/analysis/make_dFoF_and_tqm/mouse_0916N/20231202/jobNum_0/params.json   to   /media/rich/bigSSD/analysis_data/face_rhythm/mouse_0916N/dFoF_and_tqm/20231202/jobNum_0/params.json\n"
     ]
    },
    {
     "name": "stderr",
     "output_type": "stream",
     "text": [
      "0.00b [00:00, ?b/s]\n"
     ]
    },
    {
     "name": "stdout",
     "output_type": "stream",
     "text": [
      "downloading /n/data1/hms/neurobio/sabatini/rich/analysis/make_dFoF_and_tqm/mouse_0916N/20231202/jobNum_0/dFoF.npy   to   /media/rich/bigSSD/analysis_data/face_rhythm/mouse_0916N/dFoF_and_tqm/20231202/jobNum_0/dFoF.npy\n"
     ]
    },
    {
     "name": "stderr",
     "output_type": "stream",
     "text": [
      "0.00b [00:33, ?b/s]\n"
     ]
    },
    {
     "name": "stdout",
     "output_type": "stream",
     "text": [
      "downloading /n/data1/hms/neurobio/sabatini/rich/analysis/make_dFoF_and_tqm/mouse_0916N/20231202/jobNum_0/make_dFoF_and_tqm.py   to   /media/rich/bigSSD/analysis_data/face_rhythm/mouse_0916N/dFoF_and_tqm/20231202/jobNum_0/make_dFoF_and_tqm.py\n"
     ]
    },
    {
     "name": "stderr",
     "output_type": "stream",
     "text": [
      "0.00b [00:00, ?b/s]\n"
     ]
    },
    {
     "name": "stdout",
     "output_type": "stream",
     "text": [
      "downloading /n/data1/hms/neurobio/sabatini/rich/analysis/make_dFoF_and_tqm/mouse_0916N/20231202/jobNum_0/iscell_tqm.npy   to   /media/rich/bigSSD/analysis_data/face_rhythm/mouse_0916N/dFoF_and_tqm/20231202/jobNum_0/iscell_tqm.npy\n"
     ]
    },
    {
     "name": "stderr",
     "output_type": "stream",
     "text": [
      "0.00b [00:00, ?b/s]\n"
     ]
    },
    {
     "name": "stdout",
     "output_type": "stream",
     "text": [
      "downloading /n/data1/hms/neurobio/sabatini/rich/analysis/make_dFoF_and_tqm/mouse_0916N/20231202/jobNum_0/sbatch_config.sh   to   /media/rich/bigSSD/analysis_data/face_rhythm/mouse_0916N/dFoF_and_tqm/20231202/jobNum_0/sbatch_config.sh\n"
     ]
    },
    {
     "name": "stderr",
     "output_type": "stream",
     "text": [
      "0.00b [00:00, ?b/s]\n"
     ]
    },
    {
     "name": "stdout",
     "output_type": "stream",
     "text": [
      "downloading /n/data1/hms/neurobio/sabatini/rich/analysis/make_dFoF_and_tqm/mouse_0916N/20231202/jobNum_0/print_log_31449907.log   to   /media/rich/bigSSD/analysis_data/face_rhythm/mouse_0916N/dFoF_and_tqm/20231202/jobNum_0/print_log_31449907.log\n"
     ]
    },
    {
     "name": "stderr",
     "output_type": "stream",
     "text": [
      "0.00b [00:00, ?b/s]\n"
     ]
    },
    {
     "name": "stdout",
     "output_type": "stream",
     "text": [
      "downloading /n/data1/hms/neurobio/sabatini/rich/analysis/make_dFoF_and_tqm/mouse_0916N/20231202/jobNum_0/print_log_31448228.log   to   /media/rich/bigSSD/analysis_data/face_rhythm/mouse_0916N/dFoF_and_tqm/20231202/jobNum_0/print_log_31448228.log\n"
     ]
    },
    {
     "name": "stderr",
     "output_type": "stream",
     "text": [
      "0.00b [00:00, ?b/s]\n"
     ]
    },
    {
     "name": "stdout",
     "output_type": "stream",
     "text": [
      "downloading /n/data1/hms/neurobio/sabatini/rich/analysis/make_dFoF_and_tqm/mouse_0916N/20231202/make_dFoF_and_tqm.py   to   /media/rich/bigSSD/analysis_data/face_rhythm/mouse_0916N/dFoF_and_tqm/20231202/make_dFoF_and_tqm.py\n"
     ]
    },
    {
     "name": "stderr",
     "output_type": "stream",
     "text": [
      "0.00b [00:00, ?b/s]\n"
     ]
    },
    {
     "name": "stdout",
     "output_type": "stream",
     "text": [
      "downloading /n/data1/hms/neurobio/sabatini/rich/analysis/make_dFoF_and_tqm/mouse_0916N/20231202/dispatcher.py   to   /media/rich/bigSSD/analysis_data/face_rhythm/mouse_0916N/dFoF_and_tqm/20231202/dispatcher.py\n"
     ]
    },
    {
     "name": "stderr",
     "output_type": "stream",
     "text": [
      "0.00b [00:00, ?b/s]\n"
     ]
    },
    {
     "name": "stdout",
     "output_type": "stream",
     "text": [
      "downloading /n/data1/hms/neurobio/sabatini/rich/analysis/make_dFoF_and_tqm/mouse_0916N/20231202/notes.txt   to   /media/rich/bigSSD/analysis_data/face_rhythm/mouse_0916N/dFoF_and_tqm/20231202/notes.txt\n"
     ]
    },
    {
     "name": "stderr",
     "output_type": "stream",
     "text": [
      "0.00b [00:00, ?b/s]\n"
     ]
    },
    {
     "name": "stdout",
     "output_type": "stream",
     "text": [
      "downloading /n/data1/hms/neurobio/sabatini/rich/analysis/make_dFoF_and_tqm/mouse_0916N/20231101/parameters_batch.json   to   /media/rich/bigSSD/analysis_data/face_rhythm/mouse_0916N/dFoF_and_tqm/20231101/parameters_batch.json\n"
     ]
    },
    {
     "name": "stderr",
     "output_type": "stream",
     "text": [
      "0.00b [00:00, ?b/s]\n"
     ]
    },
    {
     "name": "stdout",
     "output_type": "stream",
     "text": [
      "downloading /n/data1/hms/neurobio/sabatini/rich/analysis/make_dFoF_and_tqm/mouse_0916N/20231101/jobNum_0/tqm.pkl   to   /media/rich/bigSSD/analysis_data/face_rhythm/mouse_0916N/dFoF_and_tqm/20231101/jobNum_0/tqm.pkl\n"
     ]
    },
    {
     "name": "stderr",
     "output_type": "stream",
     "text": [
      "0.00b [00:00, ?b/s]\n"
     ]
    },
    {
     "name": "stdout",
     "output_type": "stream",
     "text": [
      "downloading /n/data1/hms/neurobio/sabatini/rich/analysis/make_dFoF_and_tqm/mouse_0916N/20231101/jobNum_0/params.json   to   /media/rich/bigSSD/analysis_data/face_rhythm/mouse_0916N/dFoF_and_tqm/20231101/jobNum_0/params.json\n"
     ]
    },
    {
     "name": "stderr",
     "output_type": "stream",
     "text": [
      "0.00b [00:00, ?b/s]\n"
     ]
    },
    {
     "name": "stdout",
     "output_type": "stream",
     "text": [
      "downloading /n/data1/hms/neurobio/sabatini/rich/analysis/make_dFoF_and_tqm/mouse_0916N/20231101/jobNum_0/dFoF.npy   to   /media/rich/bigSSD/analysis_data/face_rhythm/mouse_0916N/dFoF_and_tqm/20231101/jobNum_0/dFoF.npy\n"
     ]
    },
    {
     "name": "stderr",
     "output_type": "stream",
     "text": [
      "0.00b [00:35, ?b/s]\n"
     ]
    },
    {
     "name": "stdout",
     "output_type": "stream",
     "text": [
      "downloading /n/data1/hms/neurobio/sabatini/rich/analysis/make_dFoF_and_tqm/mouse_0916N/20231101/jobNum_0/print_log_31448094.log   to   /media/rich/bigSSD/analysis_data/face_rhythm/mouse_0916N/dFoF_and_tqm/20231101/jobNum_0/print_log_31448094.log\n"
     ]
    },
    {
     "name": "stderr",
     "output_type": "stream",
     "text": [
      "0.00b [00:00, ?b/s]\n"
     ]
    },
    {
     "name": "stdout",
     "output_type": "stream",
     "text": [
      "downloading /n/data1/hms/neurobio/sabatini/rich/analysis/make_dFoF_and_tqm/mouse_0916N/20231101/jobNum_0/make_dFoF_and_tqm.py   to   /media/rich/bigSSD/analysis_data/face_rhythm/mouse_0916N/dFoF_and_tqm/20231101/jobNum_0/make_dFoF_and_tqm.py\n"
     ]
    },
    {
     "name": "stderr",
     "output_type": "stream",
     "text": [
      "0.00b [00:00, ?b/s]\n"
     ]
    },
    {
     "name": "stdout",
     "output_type": "stream",
     "text": [
      "downloading /n/data1/hms/neurobio/sabatini/rich/analysis/make_dFoF_and_tqm/mouse_0916N/20231101/jobNum_0/iscell_tqm.npy   to   /media/rich/bigSSD/analysis_data/face_rhythm/mouse_0916N/dFoF_and_tqm/20231101/jobNum_0/iscell_tqm.npy\n"
     ]
    },
    {
     "name": "stderr",
     "output_type": "stream",
     "text": [
      "0.00b [00:00, ?b/s]\n"
     ]
    },
    {
     "name": "stdout",
     "output_type": "stream",
     "text": [
      "downloading /n/data1/hms/neurobio/sabatini/rich/analysis/make_dFoF_and_tqm/mouse_0916N/20231101/jobNum_0/sbatch_config.sh   to   /media/rich/bigSSD/analysis_data/face_rhythm/mouse_0916N/dFoF_and_tqm/20231101/jobNum_0/sbatch_config.sh\n"
     ]
    },
    {
     "name": "stderr",
     "output_type": "stream",
     "text": [
      "0.00b [00:00, ?b/s]\n"
     ]
    },
    {
     "name": "stdout",
     "output_type": "stream",
     "text": [
      "downloading /n/data1/hms/neurobio/sabatini/rich/analysis/make_dFoF_and_tqm/mouse_0916N/20231101/jobNum_0/print_log_31449849.log   to   /media/rich/bigSSD/analysis_data/face_rhythm/mouse_0916N/dFoF_and_tqm/20231101/jobNum_0/print_log_31449849.log\n"
     ]
    },
    {
     "name": "stderr",
     "output_type": "stream",
     "text": [
      "0.00b [00:00, ?b/s]\n"
     ]
    },
    {
     "name": "stdout",
     "output_type": "stream",
     "text": [
      "downloading /n/data1/hms/neurobio/sabatini/rich/analysis/make_dFoF_and_tqm/mouse_0916N/20231101/make_dFoF_and_tqm.py   to   /media/rich/bigSSD/analysis_data/face_rhythm/mouse_0916N/dFoF_and_tqm/20231101/make_dFoF_and_tqm.py\n"
     ]
    },
    {
     "name": "stderr",
     "output_type": "stream",
     "text": [
      "0.00b [00:00, ?b/s]\n"
     ]
    },
    {
     "name": "stdout",
     "output_type": "stream",
     "text": [
      "downloading /n/data1/hms/neurobio/sabatini/rich/analysis/make_dFoF_and_tqm/mouse_0916N/20231101/dispatcher.py   to   /media/rich/bigSSD/analysis_data/face_rhythm/mouse_0916N/dFoF_and_tqm/20231101/dispatcher.py\n"
     ]
    },
    {
     "name": "stderr",
     "output_type": "stream",
     "text": [
      "0.00b [00:00, ?b/s]\n"
     ]
    },
    {
     "name": "stdout",
     "output_type": "stream",
     "text": [
      "downloading /n/data1/hms/neurobio/sabatini/rich/analysis/make_dFoF_and_tqm/mouse_0916N/20231101/notes.txt   to   /media/rich/bigSSD/analysis_data/face_rhythm/mouse_0916N/dFoF_and_tqm/20231101/notes.txt\n"
     ]
    },
    {
     "name": "stderr",
     "output_type": "stream",
     "text": [
      "0.00b [00:00, ?b/s]\n"
     ]
    }
   ],
   "source": [
    "sftp.get_dir(\n",
    "    source=r'/n/data1/hms/neurobio/sabatini/rich/analysis/make_dFoF_and_tqm/mouse_0916N/',\n",
    "    target=r'/media/rich/bigSSD/analysis_data/face_rhythm/mouse_0916N/dFoF_and_tqm/',\n",
    ")"
   ]
  },
  {
   "cell_type": "code",
   "execution_count": null,
   "id": "38d274fb",
   "metadata": {},
   "outputs": [],
   "source": []
  },
  {
   "cell_type": "markdown",
   "id": "33600579",
   "metadata": {},
   "source": [
    "## Clean up"
   ]
  },
  {
   "cell_type": "code",
   "execution_count": null,
   "id": "b31f6bcb",
   "metadata": {},
   "outputs": [],
   "source": [
    "## delete password\n",
    "del pw\n",
    "gc.collect()\n",
    "\n",
    "## close sftp\n",
    "if sftp: sftp.close()\n",
    "if transport: transport.close()\n",
    "del sftp\n",
    "del transport\n",
    "    \n",
    "## close ssh\n",
    "ssh_t.close()\n",
    "del ssh_t\n",
    "ssh_c.close()\n",
    "del ssh_c\n",
    "gc.collect()"
   ]
  },
  {
   "cell_type": "code",
   "execution_count": null,
   "id": "b1e29db0",
   "metadata": {},
   "outputs": [],
   "source": []
  },
  {
   "cell_type": "code",
   "execution_count": null,
   "id": "a2ee21fd",
   "metadata": {},
   "outputs": [],
   "source": []
  }
 ],
 "metadata": {
  "kernelspec": {
   "display_name": "Python 3 (ipykernel)",
   "language": "python",
   "name": "python3"
  },
  "language_info": {
   "codemirror_mode": {
    "name": "ipython",
    "version": 3
   },
   "file_extension": ".py",
   "mimetype": "text/x-python",
   "name": "python",
   "nbconvert_exporter": "python",
   "pygments_lexer": "ipython3",
   "version": "3.11.3"
  }
 },
 "nbformat": 4,
 "nbformat_minor": 5
}
