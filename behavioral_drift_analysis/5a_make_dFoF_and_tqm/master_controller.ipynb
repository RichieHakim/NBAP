{
 "cells": [
  {
   "cell_type": "code",
   "execution_count": 24,
   "id": "eb297901",
   "metadata": {},
   "outputs": [
    {
     "data": {
      "text/html": [
       "<style>.container {width:95% !important; }</style>"
      ],
      "text/plain": [
       "<IPython.core.display.HTML object>"
      ]
     },
     "metadata": {},
     "output_type": "display_data"
    },
    {
     "data": {
      "text/html": [
       "<style>:root { --jp-notebook-max-width: 100% !important; }</style>"
      ],
      "text/plain": [
       "<IPython.core.display.HTML object>"
      ]
     },
     "metadata": {},
     "output_type": "display_data"
    }
   ],
   "source": [
    "# ALWAYS RUN THIS CELL\n",
    "# widen jupyter notebook window\n",
    "from IPython.display import display, HTML\n",
    "display(HTML(\"<style>.container {width:95% !important; }</style>\"))\n",
    "\n",
    "from IPython.display import display, HTML\n",
    "display(HTML(\"<style>:root { --jp-notebook-max-width: 100% !important; }</style>\"))"
   ]
  },
  {
   "cell_type": "markdown",
   "id": "e7ca9401",
   "metadata": {},
   "source": [
    "This requires having `bnpm`. Get it with `pip install bnpm` or here: https://github.com/RichieHakim/basic_neural_processing_modules"
   ]
  },
  {
   "cell_type": "code",
   "execution_count": 2,
   "id": "b083639c",
   "metadata": {},
   "outputs": [],
   "source": [
    "%load_ext autoreload\n",
    "%autoreload 2\n",
    "from bnpm import server"
   ]
  },
  {
   "cell_type": "code",
   "execution_count": 3,
   "id": "47fe1e80",
   "metadata": {},
   "outputs": [],
   "source": [
    "import os\n",
    "from pathlib import Path\n",
    "import functools\n",
    "import tempfile\n",
    "import getpass\n",
    "import gc"
   ]
  },
  {
   "cell_type": "code",
   "execution_count": 4,
   "id": "5393e061",
   "metadata": {},
   "outputs": [],
   "source": [
    "import numpy as np\n",
    "import natsort"
   ]
  },
  {
   "cell_type": "markdown",
   "id": "6114afcd",
   "metadata": {},
   "source": [
    "------------\n",
    "# ==== Start ===="
   ]
  },
  {
   "cell_type": "markdown",
   "id": "ae33b435",
   "metadata": {},
   "source": [
    "## Prepare username + password"
   ]
  },
  {
   "cell_type": "code",
   "execution_count": 5,
   "id": "af73363a",
   "metadata": {},
   "outputs": [
    {
     "name": "stdin",
     "output_type": "stream",
     "text": [
      "Username:  rh183\n",
      "Password:  ········\n"
     ]
    }
   ],
   "source": [
    "remote_host_transfer = \"transfer.rc.hms.harvard.edu\"\n",
    "remote_host_compute = \"o2.hms.harvard.edu\"\n",
    "username = input('Username: ')\n",
    "\n",
    "use_localSshKey = False\n",
    "\n",
    "pw = server.pw_encode(getpass.getpass(prompt='Password: ')) if use_localSshKey==False else None\n",
    "\n",
    "path_sshKey = '/home/rich/.ssh/id_rsa' if use_localSshKey else None"
   ]
  },
  {
   "cell_type": "markdown",
   "id": "e0943efb",
   "metadata": {},
   "source": [
    "## Prepare `sftp` and `ssh` objects"
   ]
  },
  {
   "cell_type": "code",
   "execution_count": 6,
   "id": "702eba22",
   "metadata": {},
   "outputs": [],
   "source": [
    "## initialize ssh_transfer\n",
    "ssh_t = server.ssh_interface(\n",
    "    nbytes_toReceive=20000,\n",
    "    recv_timeout=1,\n",
    "    verbose=True,\n",
    ")"
   ]
  },
  {
   "cell_type": "code",
   "execution_count": 7,
   "id": "fdf1e2ba",
   "metadata": {
    "scrolled": true
   },
   "outputs": [],
   "source": [
    "ssh_t.o2_connect(\n",
    "    hostname=remote_host_transfer,\n",
    "    username=username,\n",
    "    password=server.pw_decode(pw),\n",
    "    key_filename=path_sshKey,\n",
    "    look_for_keys=False,\n",
    "    passcode_method=1,\n",
    "    verbose=0,\n",
    "    skip_passcode=False,    \n",
    ")"
   ]
  },
  {
   "cell_type": "code",
   "execution_count": 8,
   "id": "fa578dd5",
   "metadata": {},
   "outputs": [],
   "source": [
    "## initialize ssh_compute\n",
    "ssh_c = server.ssh_interface(\n",
    "    nbytes_toReceive=20000,\n",
    "    recv_timeout=1,\n",
    "    verbose=True,\n",
    ")\n",
    "ssh_c.o2_connect(\n",
    "    hostname=remote_host_compute,\n",
    "    username=username,\n",
    "    password=server.pw_decode(pw),\n",
    "    key_filename=path_sshKey,\n",
    "    look_for_keys=False,\n",
    "    passcode_method=1,\n",
    "    verbose=0,\n",
    "    skip_passcode=False,    \n",
    ")"
   ]
  },
  {
   "cell_type": "code",
   "execution_count": 9,
   "id": "daea3d7a",
   "metadata": {},
   "outputs": [],
   "source": [
    "sftp = server.sftp_interface(ssh_client=ssh_t.client)"
   ]
  },
  {
   "cell_type": "code",
   "execution_count": 10,
   "id": "21af2f06",
   "metadata": {},
   "outputs": [],
   "source": [
    "prompt_snip = f'[{username}'"
   ]
  },
  {
   "cell_type": "code",
   "execution_count": 11,
   "id": "6d8554e7",
   "metadata": {},
   "outputs": [],
   "source": [
    "send_expect = functools.partial(ssh_c.send_expect, str_success=prompt_snip)"
   ]
  },
  {
   "cell_type": "markdown",
   "id": "ccf6e180",
   "metadata": {},
   "source": [
    "# Batch run"
   ]
  },
  {
   "cell_type": "code",
   "execution_count": 15,
   "id": "3d4b6a6d",
   "metadata": {},
   "outputs": [
    {
     "name": "stdout",
     "output_type": "stream",
     "text": [
      "/n/data1/hms/neurobio/sabatini/gyu/analysis/suite2p_output/mouse_0322N/20230531/scanimage_data/exp\n",
      "/n/data1/hms/neurobio/sabatini/gyu/analysis/suite2p_output/mouse_0322N/20230523/scanimage_data/exp\n",
      "/n/data1/hms/neurobio/sabatini/gyu/analysis/suite2p_output/mouse_0322N/20230517/scanimage_data/exp\n",
      "/n/data1/hms/neurobio/sabatini/gyu/analysis/suite2p_output/mouse_0322N/20230515/scanimage_data/exp\n",
      "/n/data1/hms/neurobio/sabatini/gyu/analysis/suite2p_output/mouse_0322N/20230430/scanimage_data/exp\n",
      "/n/data1/hms/neurobio/sabatini/gyu/analysis/suite2p_output/mouse_0322N/20230528/scanimage_data/exp\n",
      "/n/data1/hms/neurobio/sabatini/gyu/analysis/suite2p_output/mouse_0322N/20230601/scanimage_data/exp\n",
      "/n/data1/hms/neurobio/sabatini/gyu/analysis/suite2p_output/mouse_0322N/20230512/scanimage_data/exp\n",
      "/n/data1/hms/neurobio/sabatini/gyu/analysis/suite2p_output/mouse_0322N/20230510/scanimage_data/exp\n",
      "/n/data1/hms/neurobio/sabatini/gyu/analysis/suite2p_output/mouse_0322N/20230511/scanimage_data/exp\n",
      "/n/data1/hms/neurobio/sabatini/gyu/analysis/suite2p_output/mouse_0322N/20230514/scanimage_data/exp\n",
      "/n/data1/hms/neurobio/sabatini/gyu/analysis/suite2p_output/mouse_0322N/20230504/scanimage_data/exp\n",
      "/n/data1/hms/neurobio/sabatini/gyu/analysis/suite2p_output/mouse_0322N/20230507/scanimage_data/exp\n",
      "/n/data1/hms/neurobio/sabatini/gyu/analysis/suite2p_output/mouse_0322N/20230513/scanimage_data/exp\n",
      "/n/data1/hms/neurobio/sabatini/gyu/analysis/suite2p_output/mouse_0322N/20230525/scanimage_data/exp\n",
      "/n/data1/hms/neurobio/sabatini/gyu/analysis/suite2p_output/mouse_0322N/20230522/scanimage_data/exp\n",
      "/n/data1/hms/neurobio/sabatini/gyu/analysis/suite2p_output/mouse_0322N/20230526/scanimage_data/exp\n",
      "/n/data1/hms/neurobio/sabatini/gyu/analysis/suite2p_output/mouse_0322N/20230521/scanimage_data/exp\n",
      "/n/data1/hms/neurobio/sabatini/gyu/analysis/suite2p_output/mouse_0322N/20230518/scanimage_data/exp\n",
      "/n/data1/hms/neurobio/sabatini/gyu/analysis/suite2p_output/mouse_0322N/20230530/scanimage_data/exp\n",
      "/n/data1/hms/neurobio/sabatini/gyu/analysis/suite2p_output/mouse_0322N/20230520/scanimage_data/exp\n",
      "/n/data1/hms/neurobio/sabatini/gyu/analysis/suite2p_output/mouse_0322N/20230508/scanimage_data/exp\n",
      "/n/data1/hms/neurobio/sabatini/gyu/analysis/suite2p_output/mouse_0322N/20230506/scanimage_data/exp\n",
      "/n/data1/hms/neurobio/sabatini/gyu/analysis/suite2p_output/mouse_0322N/20230527/scanimage_data/exp\n",
      "/n/data1/hms/neurobio/sabatini/gyu/analysis/suite2p_output/mouse_0322N/20230501/scanimage_data/exp\n",
      "/n/data1/hms/neurobio/sabatini/gyu/analysis/suite2p_output/mouse_0322N/20230505/scanimage_data/exp\n",
      "/n/data1/hms/neurobio/sabatini/gyu/analysis/suite2p_output/mouse_0322N/20230516/scanimage_data/exp\n",
      "/n/data1/hms/neurobio/sabatini/gyu/analysis/suite2p_output/mouse_0322N/20230509/scanimage_data/exp\n",
      "/n/data1/hms/neurobio/sabatini/gyu/analysis/suite2p_output/mouse_0322N/20230529/scanimage_data/exp\n",
      "/n/data1/hms/neurobio/sabatini/gyu/analysis/suite2p_output/mouse_0322N/20230503/scanimage_data/exp\n",
      "/n/data1/hms/neurobio/sabatini/gyu/analysis/suite2p_output/mouse_0322N/20230524/scanimage_data/exp\n",
      "/n/data1/hms/neurobio/sabatini/gyu/analysis/suite2p_output/mouse_0322N/20230502/scanimage_data/exp\n"
     ]
    }
   ],
   "source": [
    "paths_found = natsort.natsorted(sftp.search_recursive(\n",
    "    path='/n/data1/hms/neurobio/sabatini/gyu/analysis/suite2p_output/mouse_0322N/',\n",
    "    search_pattern_re='exp',\n",
    "    max_depth=5,\n",
    "    find_folders=True,\n",
    "    find_files=False,\n",
    "    verbose=True,\n",
    "))"
   ]
  },
  {
   "cell_type": "code",
   "execution_count": 18,
   "id": "67b871e4",
   "metadata": {},
   "outputs": [
    {
     "data": {
      "text/plain": [
       "['20230430',\n",
       " '20230501',\n",
       " '20230502',\n",
       " '20230503',\n",
       " '20230504',\n",
       " '20230505',\n",
       " '20230506',\n",
       " '20230507',\n",
       " '20230508',\n",
       " '20230509',\n",
       " '20230510',\n",
       " '20230511',\n",
       " '20230512',\n",
       " '20230513',\n",
       " '20230514',\n",
       " '20230515',\n",
       " '20230516',\n",
       " '20230517',\n",
       " '20230518',\n",
       " '20230520',\n",
       " '20230521',\n",
       " '20230522',\n",
       " '20230523',\n",
       " '20230524',\n",
       " '20230525',\n",
       " '20230526',\n",
       " '20230527',\n",
       " '20230528',\n",
       " '20230529',\n",
       " '20230530',\n",
       " '20230531',\n",
       " '20230601']"
      ]
     },
     "execution_count": 18,
     "metadata": {},
     "output_type": "execute_result"
    }
   ],
   "source": [
    "dates_toUse = natsort.natsorted([Path(p).parts[-3] for p in paths_found])\n",
    "dates_toUse"
   ]
  },
  {
   "cell_type": "raw",
   "id": "2dd9b6e2-a105-4a6e-8ee2-327ea9127c25",
   "metadata": {},
   "source": [
    "dates_toUse = [\n",
    "#     '20230430',\n",
    "#     '20230501',\n",
    "#     '20230502',\n",
    "    '20230503',\n",
    "#     '20230504',\n",
    "    '20230505',\n",
    "    '20230506',\n",
    "#     '20230507',\n",
    "#     '20230508',\n",
    "#     '20230509',\n",
    "    '20230510',\n",
    "#     '20230511',\n",
    "    '20230512',\n",
    "#     '20230514',\n",
    "#     '20230515',\n",
    "    '20230516',\n",
    "#     '20230517',\n",
    "#     '20230518',\n",
    "#     '20230519',\n",
    "#     '20230520',\n",
    "#     '20230521',\n",
    "#     '20230522',\n",
    "    '20230523',\n",
    "    '20230524',\n",
    "    '20230525',\n",
    "    '20230526',\n",
    "#     '20230527',\n",
    "#     '20230528',\n",
    "#     '20230529',\n",
    "    '20230530',\n",
    "#     '20230531',\n",
    "#     '20230601',\n",
    "]"
   ]
  },
  {
   "cell_type": "markdown",
   "id": "f7e4fe93",
   "metadata": {},
   "source": [
    "## Start a small interactive node"
   ]
  },
  {
   "cell_type": "code",
   "execution_count": 19,
   "id": "55034700",
   "metadata": {},
   "outputs": [
    {
     "name": "stdout",
     "output_type": "stream",
     "text": [
      "bash --pty -p interactive -t 0-00:30:00 --mem=4G /bin/ \n",
      "\n",
      "srun: job 14015582 queued and waiting for resources\n",
      "\n"
     ]
    }
   ],
   "source": [
    "send_expect(f'srun --pty -p interactive -t 0-00:30:00 --mem=4G /bin/bash');"
   ]
  },
  {
   "cell_type": "markdown",
   "id": "0cd3c682",
   "metadata": {},
   "source": [
    "## Pull/update repo"
   ]
  },
  {
   "cell_type": "code",
   "execution_count": null,
   "id": "79765dea-c31d-4314-9c66-4a9e724fbabd",
   "metadata": {},
   "outputs": [],
   "source": [
    "send_expect('cd /n/data1/hms/neurobio/sabatini/rich/github_repos/NBAP')\n",
    "send_expect('git pull');"
   ]
  },
  {
   "cell_type": "markdown",
   "id": "4ef493c1",
   "metadata": {},
   "source": [
    "## Activate environment"
   ]
  },
  {
   "cell_type": "code",
   "execution_count": 22,
   "id": "be246a7a",
   "metadata": {},
   "outputs": [
    {
     "name": "stdout",
     "output_type": "stream",
     "text": [
      "ini/rich/virtual_envs/FRhms/neurobio/sabat \n",
      "\n",
      "AP]$ ata1/hms/neurobio/sabatini/rich/virtual_envs/FR) [rh183@compute-a-16-169 NBA\n"
     ]
    }
   ],
   "source": [
    "name_env = '/n/data1/hms/neurobio/sabatini/rich/virtual_envs/FR'\n",
    "\n",
    "send_expect(f'conda activate {name_env}');"
   ]
  },
  {
   "cell_type": "markdown",
   "id": "31ce097b",
   "metadata": {},
   "source": [
    "## Prepare commands"
   ]
  },
  {
   "cell_type": "code",
   "execution_count": null,
   "id": "05fa3774-fe6f-402d-8e42-a0194567655a",
   "metadata": {},
   "outputs": [],
   "source": [
    "sftp://rh183@transfer.rc.hms.harvard.edu/n/data1/hms/neurobio/sabatini/gyu/analysis/suite2p_output/mouse_0322N/20230430/scanimage_data/exp/jobNum_0/suite2p"
   ]
  },
  {
   "cell_type": "code",
   "execution_count": 75,
   "id": "bea9dd44",
   "metadata": {},
   "outputs": [
    {
     "data": {
      "text/plain": [
       "{'dispatch': '    python3     /n/data1/hms/neurobio/sabatini/rich/analysis/faceRhythm/mouse_0322N/run_20230701/20230503/aligned_TCA/dispatcher.py     /n/data1/hms/neurobio/sabatini/rich/github_repos/NBAP/behavioral_drift_analysis/1_make_consistent_fr_factors.py     /n/data1/hms/neurobio/sabatini/rich/analysis/faceRhythm/mouse_0322N/run_20230701/20230503/aligned_TCA     /n/data1/hms/neurobio/sabatini/rich/analysis/faceRhythm/mouse_0322N/run_20230701/20230430/jobNum_0     /n/data1/hms/neurobio/sabatini/rich/analysis/faceRhythm/mouse_0322N/run_20230701/20230503/jobNum_0     jobNum_     mouse_0322N_0503     /n/data1/hms/neurobio/sabatini/rich/virtual_envs/FR'}"
      ]
     },
     "metadata": {},
     "output_type": "display_data"
    },
    {
     "name": "stdout",
     "output_type": "stream",
     "text": [
      "io/sabatini/rich/github_repos/NBAP/behavio/dispatcher.py     /n/data1/hms/neurob \n",
      "rtual_envs/FRum_     mouse_0322N_0503     /n/data1/hms/neurobio/sabatini/rich/vi \n",
      "\n",
      "dispatcher environment: /n/data1/hms/neurobio/sabatini/rich/virtual_envs/FR\n",
      "\n",
      "Copying /n/data1/hms/neurobio/sabatini/rich/github_repos/NBAP/behavioral_drift_analysis/1_make_consistent_fr_factors.py to /n/data1/hms/neurobio/sabatini/rich/analysis/faceRhythm/mouse_0322N/run_20230701/20230503/aligned_TCA/1_make_consistent_fr_factors.py\n",
      "\n",
      "\n",
      "Submitting job: jobNum_ 0\n",
      "\n",
      "Submitted batch job 12693890\n",
      "\n",
      "AP]$ ata1/hms/neurobio/sabatini/rich/virtual_envs/FR) [rh183@compute-a-16-161 NBA\n"
     ]
    },
    {
     "data": {
      "text/plain": [
       "{'dispatch': '    python3     /n/data1/hms/neurobio/sabatini/rich/analysis/faceRhythm/mouse_0322N/run_20230701/20230505/aligned_TCA/dispatcher.py     /n/data1/hms/neurobio/sabatini/rich/github_repos/NBAP/behavioral_drift_analysis/1_make_consistent_fr_factors.py     /n/data1/hms/neurobio/sabatini/rich/analysis/faceRhythm/mouse_0322N/run_20230701/20230505/aligned_TCA     /n/data1/hms/neurobio/sabatini/rich/analysis/faceRhythm/mouse_0322N/run_20230701/20230430/jobNum_0     /n/data1/hms/neurobio/sabatini/rich/analysis/faceRhythm/mouse_0322N/run_20230701/20230505/jobNum_0     jobNum_     mouse_0322N_0505     /n/data1/hms/neurobio/sabatini/rich/virtual_envs/FR'}"
      ]
     },
     "metadata": {},
     "output_type": "display_data"
    },
    {
     "name": "stdout",
     "output_type": "stream",
     "text": [
      "    pytho\n",
      "rtual_envs/FRum_     mouse_0322N_0505     /n/data1/hms/neurobio/sabatini/rich/vi \n",
      "\n",
      "dispatcher environment: /n/data1/hms/neurobio/sabatini/rich/virtual_envs/FR\n",
      "\n",
      "Copying /n/data1/hms/neurobio/sabatini/rich/github_repos/NBAP/behavioral_drift_analysis/1_make_consistent_fr_factors.py to /n/data1/hms/neurobio/sabatini/rich/analysis/faceRhythm/mouse_0322N/run_20230701/20230505/aligned_TCA/1_make_consistent_fr_factors.py\n",
      "Submitting job: jobNum_ 0\n",
      "\n",
      "Submitted batch job 12693891\n",
      "\n",
      "AP]$ ata1/hms/neurobio/sabatini/rich/virtual_envs/FR) [rh183@compute-a-16-161 NBA\n"
     ]
    },
    {
     "data": {
      "text/plain": [
       "{'dispatch': '    python3     /n/data1/hms/neurobio/sabatini/rich/analysis/faceRhythm/mouse_0322N/run_20230701/20230506/aligned_TCA/dispatcher.py     /n/data1/hms/neurobio/sabatini/rich/github_repos/NBAP/behavioral_drift_analysis/1_make_consistent_fr_factors.py     /n/data1/hms/neurobio/sabatini/rich/analysis/faceRhythm/mouse_0322N/run_20230701/20230506/aligned_TCA     /n/data1/hms/neurobio/sabatini/rich/analysis/faceRhythm/mouse_0322N/run_20230701/20230430/jobNum_0     /n/data1/hms/neurobio/sabatini/rich/analysis/faceRhythm/mouse_0322N/run_20230701/20230506/jobNum_0     jobNum_     mouse_0322N_0506     /n/data1/hms/neurobio/sabatini/rich/virtual_envs/FR'}"
      ]
     },
     "metadata": {},
     "output_type": "display_data"
    },
    {
     "name": "stdout",
     "output_type": "stream",
     "text": [
      "    p\n",
      "rtual_envs/FRum_     mouse_0322N_0506     /n/data1/hms/neurobio/sabatini/rich/vi \n",
      "\n",
      "dispatcher environment: /n/data1/hms/neurobio/sabatini/rich/virtual_envs/FR\n",
      "\n",
      "Copying /n/data1/hms/neurobio/sabatini/rich/github_repos/NBAP/behavioral_drift_analysis/1_make_consistent_fr_factors.py to /n/data1/hms/neurobio/sabatini/rich/analysis/faceRhythm/mouse_0322N/run_20230701/20230506/aligned_TCA/1_make_consistent_fr_factors.py\n",
      "\n",
      "Submitting job: jobNum_ 0\n",
      "\n",
      "Submitted batch job 12693892\n",
      "\n",
      "AP]$ ata1/hms/neurobio/sabatini/rich/virtual_envs/FR) [rh183@compute-a-16-161 NBA\n"
     ]
    },
    {
     "data": {
      "text/plain": [
       "{'dispatch': '    python3     /n/data1/hms/neurobio/sabatini/rich/analysis/faceRhythm/mouse_0322N/run_20230701/20230510/aligned_TCA/dispatcher.py     /n/data1/hms/neurobio/sabatini/rich/github_repos/NBAP/behavioral_drift_analysis/1_make_consistent_fr_factors.py     /n/data1/hms/neurobio/sabatini/rich/analysis/faceRhythm/mouse_0322N/run_20230701/20230510/aligned_TCA     /n/data1/hms/neurobio/sabatini/rich/analysis/faceRhythm/mouse_0322N/run_20230701/20230430/jobNum_0     /n/data1/hms/neurobio/sabatini/rich/analysis/faceRhythm/mouse_0322N/run_20230701/20230510/jobNum_0     jobNum_     mouse_0322N_0510     /n/data1/hms/neurobio/sabatini/rich/virtual_envs/FR'}"
      ]
     },
     "metadata": {},
     "output_type": "display_data"
    },
    {
     "name": "stdout",
     "output_type": "stream",
     "text": [
      " \n",
      "rtual_envs/FRum_     mouse_0322N_0510     /n/data1/hms/neurobio/sabatini/rich/vi \n",
      "\n",
      "dispatcher environment: /n/data1/hms/neurobio/sabatini/rich/virtual_envs/FR\n",
      "\n",
      "Copying /n/data1/hms/neurobio/sabatini/rich/github_repos/NBAP/behavioral_drift_analysis/1_make_consistent_fr_factors.py to /n/data1/hms/neurobio/sabatini/rich/analysis/faceRhythm/mouse_0322N/run_20230701/20230510/aligned_TCA/1_make_consistent_fr_factors.py\n",
      "\n",
      "Submitting job: jobNum_ 0\n",
      "\n",
      "Submitted batch job 12693893\n",
      "\n",
      "AP]$ ata1/hms/neurobio/sabatini/rich/virtual_envs/FR) [rh183@compute-a-16-161 NBA\n"
     ]
    },
    {
     "data": {
      "text/plain": [
       "{'dispatch': '    python3     /n/data1/hms/neurobio/sabatini/rich/analysis/faceRhythm/mouse_0322N/run_20230701/20230512/aligned_TCA/dispatcher.py     /n/data1/hms/neurobio/sabatini/rich/github_repos/NBAP/behavioral_drift_analysis/1_make_consistent_fr_factors.py     /n/data1/hms/neurobio/sabatini/rich/analysis/faceRhythm/mouse_0322N/run_20230701/20230512/aligned_TCA     /n/data1/hms/neurobio/sabatini/rich/analysis/faceRhythm/mouse_0322N/run_20230701/20230430/jobNum_0     /n/data1/hms/neurobio/sabatini/rich/analysis/faceRhythm/mouse_0322N/run_20230701/20230512/jobNum_0     jobNum_     mouse_0322N_0512     /n/data1/hms/neurobio/sabatini/rich/virtual_envs/FR'}"
      ]
     },
     "metadata": {},
     "output_type": "display_data"
    },
    {
     "name": "stdout",
     "output_type": "stream",
     "text": [
      "se_0322N/run_20230701/20230512/aligned_TCA/dispatchernalysis/faceRhythm/mou \n",
      "rtual_envs/FRum_     mouse_0322N_0512     /n/data1/hms/neurobio/sabatini/rich/vi \n",
      "\n",
      "dispatcher environment: /n/data1/hms/neurobio/sabatini/rich/virtual_envs/FR\n",
      "\n",
      "Copying /n/data1/hms/neurobio/sabatini/rich/github_repos/NBAP/behavioral_drift_analysis/1_make_consistent_fr_factors.py to /n/data1/hms/neurobio/sabatini/rich/analysis/faceRhythm/mouse_0322N/run_20230701/20230512/aligned_TCA/1_make_consistent_fr_factors.py\n",
      "\n",
      "Submitting job: jobNum_ 0\n",
      "\n",
      "Submitted batch job 12693894\n",
      "\n",
      "AP]$ ata1/hms/neurobio/sabatini/rich/virtual_envs/FR) [rh183@compute-a-16-161 NBA\n"
     ]
    },
    {
     "data": {
      "text/plain": [
       "{'dispatch': '    python3     /n/data1/hms/neurobio/sabatini/rich/analysis/faceRhythm/mouse_0322N/run_20230701/20230516/aligned_TCA/dispatcher.py     /n/data1/hms/neurobio/sabatini/rich/github_repos/NBAP/behavioral_drift_analysis/1_make_consistent_fr_factors.py     /n/data1/hms/neurobio/sabatini/rich/analysis/faceRhythm/mouse_0322N/run_20230701/20230516/aligned_TCA     /n/data1/hms/neurobio/sabatini/rich/analysis/faceRhythm/mouse_0322N/run_20230701/20230430/jobNum_0     /n/data1/hms/neurobio/sabatini/rich/analysis/faceRhythm/mouse_0322N/run_20230701/20230516/jobNum_0     jobNum_     mouse_0322N_0516     /n/data1/hms/neurobio/sabatini/rich/virtual_envs/FR'}"
      ]
     },
     "metadata": {},
     "output_type": "display_data"
    },
    {
     "name": "stdout",
     "output_type": "stream",
     "text": [
      " \n",
      "rtual_envs/FRum_     mouse_0322N_0516     /n/data1/hms/neurobio/sabatini/rich/vi \n",
      "\n",
      "dispatcher environment: /n/data1/hms/neurobio/sabatini/rich/virtual_envs/FR\n",
      "\n",
      "Copying /n/data1/hms/neurobio/sabatini/rich/github_repos/NBAP/behavioral_drift_analysis/1_make_consistent_fr_factors.py to /n/data1/hms/neurobio/sabatini/rich/analysis/faceRhythm/mouse_0322N/run_20230701/20230516/aligned_TCA/1_make_consistent_fr_factors.py\n",
      "\n",
      "Submitting job: jobNum_ 0\n",
      "\n",
      "Submitted batch job 12693896\n",
      "\n",
      "AP]$ ata1/hms/neurobio/sabatini/rich/virtual_envs/FR) [rh183@compute-a-16-161 NBA\n"
     ]
    },
    {
     "data": {
      "text/plain": [
       "{'dispatch': '    python3     /n/data1/hms/neurobio/sabatini/rich/analysis/faceRhythm/mouse_0322N/run_20230701/20230523/aligned_TCA/dispatcher.py     /n/data1/hms/neurobio/sabatini/rich/github_repos/NBAP/behavioral_drift_analysis/1_make_consistent_fr_factors.py     /n/data1/hms/neurobio/sabatini/rich/analysis/faceRhythm/mouse_0322N/run_20230701/20230523/aligned_TCA     /n/data1/hms/neurobio/sabatini/rich/analysis/faceRhythm/mouse_0322N/run_20230701/20230430/jobNum_0     /n/data1/hms/neurobio/sabatini/rich/analysis/faceRhythm/mouse_0322N/run_20230701/20230523/jobNum_0     jobNum_     mouse_0322N_0523     /n/data1/hms/neurobio/sabatini/rich/virtual_envs/FR'}"
      ]
     },
     "metadata": {},
     "output_type": "display_data"
    },
    {
     "name": "stdout",
     "output_type": "stream",
     "text": [
      " \n",
      "rtual_envs/FRum_     mouse_0322N_0523     /n/data1/hms/neurobio/sabatini/rich/vi \n",
      "\n",
      "dispatcher environment: /n/data1/hms/neurobio/sabatini/rich/virtual_envs/FR\n",
      "\n",
      "Copying /n/data1/hms/neurobio/sabatini/rich/github_repos/NBAP/behavioral_drift_analysis/1_make_consistent_fr_factors.py to /n/data1/hms/neurobio/sabatini/rich/analysis/faceRhythm/mouse_0322N/run_20230701/20230523/aligned_TCA/1_make_consistent_fr_factors.py\n",
      "\n",
      "Submitting job: jobNum_ 0\n",
      "\n",
      "Submitted batch job 12693897\n",
      "\n",
      "\n",
      "AP]$ ata1/hms/neurobio/sabatini/rich/virtual_envs/FR) [rh183@compute-a-16-161 NBA\n"
     ]
    },
    {
     "data": {
      "text/plain": [
       "{'dispatch': '    python3     /n/data1/hms/neurobio/sabatini/rich/analysis/faceRhythm/mouse_0322N/run_20230701/20230524/aligned_TCA/dispatcher.py     /n/data1/hms/neurobio/sabatini/rich/github_repos/NBAP/behavioral_drift_analysis/1_make_consistent_fr_factors.py     /n/data1/hms/neurobio/sabatini/rich/analysis/faceRhythm/mouse_0322N/run_20230701/20230524/aligned_TCA     /n/data1/hms/neurobio/sabatini/rich/analysis/faceRhythm/mouse_0322N/run_20230701/20230430/jobNum_0     /n/data1/hms/neurobio/sabatini/rich/analysis/faceRhythm/mouse_0322N/run_20230701/20230524/jobNum_0     jobNum_     mouse_0322N_0524     /n/data1/hms/neurobio/sabatini/rich/virtual_envs/FR'}"
      ]
     },
     "metadata": {},
     "output_type": "display_data"
    },
    {
     "name": "stdout",
     "output_type": "stream",
     "text": [
      "    \n",
      "rtual_envs/FRum_     mouse_0322N_0524     /n/data1/hms/neurobio/sabatini/rich/vi \n",
      "\n",
      "dispatcher environment: /n/data1/hms/neurobio/sabatini/rich/virtual_envs/FR\n",
      "\n",
      "Copying /n/data1/hms/neurobio/sabatini/rich/github_repos/NBAP/behavioral_drift_analysis/1_make_consistent_fr_factors.py to /n/data1/hms/neurobio/sabatini/rich/analysis/faceRhythm/mouse_0322N/run_20230701/20230524/aligned_TCA/1_make_consistent_fr_factors.py\n",
      "\n",
      "Submitting job: jobNum_ 0\n",
      "\n",
      "Submitted batch job 12693898\n",
      "\n",
      "\n",
      "AP]$ ata1/hms/neurobio/sabatini/rich/virtual_envs/FR) [rh183@compute-a-16-161 NBA\n"
     ]
    },
    {
     "data": {
      "text/plain": [
       "{'dispatch': '    python3     /n/data1/hms/neurobio/sabatini/rich/analysis/faceRhythm/mouse_0322N/run_20230701/20230525/aligned_TCA/dispatcher.py     /n/data1/hms/neurobio/sabatini/rich/github_repos/NBAP/behavioral_drift_analysis/1_make_consistent_fr_factors.py     /n/data1/hms/neurobio/sabatini/rich/analysis/faceRhythm/mouse_0322N/run_20230701/20230525/aligned_TCA     /n/data1/hms/neurobio/sabatini/rich/analysis/faceRhythm/mouse_0322N/run_20230701/20230430/jobNum_0     /n/data1/hms/neurobio/sabatini/rich/analysis/faceRhythm/mouse_0322N/run_20230701/20230525/jobNum_0     jobNum_     mouse_0322N_0525     /n/data1/hms/neurobio/sabatini/rich/virtual_envs/FR'}"
      ]
     },
     "metadata": {},
     "output_type": "display_data"
    },
    {
     "name": "stdout",
     "output_type": "stream",
     "text": [
      "    p\n",
      "rtual_envs/FRum_     mouse_0322N_0525     /n/data1/hms/neurobio/sabatini/rich/vi \n",
      "\n",
      "dispatcher environment: /n/data1/hms/neurobio/sabatini/rich/virtual_envs/FR\n",
      "\n",
      "Copying /n/data1/hms/neurobio/sabatini/rich/github_repos/NBAP/behavioral_drift_analysis/1_make_consistent_fr_factors.py to /n/data1/hms/neurobio/sabatini/rich/analysis/faceRhythm/mouse_0322N/run_20230701/20230525/aligned_TCA/1_make_consistent_fr_factors.py\n",
      "\n",
      "Submitting job: jobNum_ 0\n",
      "\n",
      "Submitted batch job 12693899\n",
      "\n",
      "AP]$ ata1/hms/neurobio/sabatini/rich/virtual_envs/FR) [rh183@compute-a-16-161 NBA\n"
     ]
    },
    {
     "data": {
      "text/plain": [
       "{'dispatch': '    python3     /n/data1/hms/neurobio/sabatini/rich/analysis/faceRhythm/mouse_0322N/run_20230701/20230526/aligned_TCA/dispatcher.py     /n/data1/hms/neurobio/sabatini/rich/github_repos/NBAP/behavioral_drift_analysis/1_make_consistent_fr_factors.py     /n/data1/hms/neurobio/sabatini/rich/analysis/faceRhythm/mouse_0322N/run_20230701/20230526/aligned_TCA     /n/data1/hms/neurobio/sabatini/rich/analysis/faceRhythm/mouse_0322N/run_20230701/20230430/jobNum_0     /n/data1/hms/neurobio/sabatini/rich/analysis/faceRhythm/mouse_0322N/run_20230701/20230526/jobNum_0     jobNum_     mouse_0322N_0526     /n/data1/hms/neurobio/sabatini/rich/virtual_envs/FR'}"
      ]
     },
     "metadata": {},
     "output_type": "display_data"
    },
    {
     "name": "stdout",
     "output_type": "stream",
     "text": [
      " \n",
      "rtual_envs/FRum_     mouse_0322N_0526     /n/data1/hms/neurobio/sabatini/rich/vi \n",
      "\n",
      "dispatcher environment: /n/data1/hms/neurobio/sabatini/rich/virtual_envs/FR\n",
      "\n",
      "Copying /n/data1/hms/neurobio/sabatini/rich/github_repos/NBAP/behavioral_drift_analysis/1_make_consistent_fr_factors.py to /n/data1/hms/neurobio/sabatini/rich/analysis/faceRhythm/mouse_0322N/run_20230701/20230526/aligned_TCA/1_make_consistent_fr_factors.py\n",
      "\n",
      "Submitting job: jobNum_ 0\n",
      "\n",
      "Submitted batch job 12693901\n",
      "\n",
      "AP]$ ata1/hms/neurobio/sabatini/rich/virtual_envs/FR) [rh183@compute-a-16-161 NBA\n"
     ]
    },
    {
     "data": {
      "text/plain": [
       "{'dispatch': '    python3     /n/data1/hms/neurobio/sabatini/rich/analysis/faceRhythm/mouse_0322N/run_20230701/20230530/aligned_TCA/dispatcher.py     /n/data1/hms/neurobio/sabatini/rich/github_repos/NBAP/behavioral_drift_analysis/1_make_consistent_fr_factors.py     /n/data1/hms/neurobio/sabatini/rich/analysis/faceRhythm/mouse_0322N/run_20230701/20230530/aligned_TCA     /n/data1/hms/neurobio/sabatini/rich/analysis/faceRhythm/mouse_0322N/run_20230701/20230430/jobNum_0     /n/data1/hms/neurobio/sabatini/rich/analysis/faceRhythm/mouse_0322N/run_20230701/20230530/jobNum_0     jobNum_     mouse_0322N_0530     /n/data1/hms/neurobio/sabatini/rich/virtual_envs/FR'}"
      ]
     },
     "metadata": {},
     "output_type": "display_data"
    },
    {
     "name": "stdout",
     "output_type": "stream",
     "text": [
      " \n",
      "rtual_envs/FRum_     mouse_0322N_0530     /n/data1/hms/neurobio/sabatini/rich/vi \n",
      "\n",
      "dispatcher environment: /n/data1/hms/neurobio/sabatini/rich/virtual_envs/FR\n",
      "\n",
      "Copying /n/data1/hms/neurobio/sabatini/rich/github_repos/NBAP/behavioral_drift_analysis/1_make_consistent_fr_factors.py to /n/data1/hms/neurobio/sabatini/rich/analysis/faceRhythm/mouse_0322N/run_20230701/20230530/aligned_TCA/1_make_consistent_fr_factors.py\n",
      "\n",
      "Submitting job: jobNum_ 0\n",
      "\n",
      "Submitted batch job 12693902\n",
      "\n",
      "AP]$ ata1/hms/neurobio/sabatini/rich/virtual_envs/FR) [rh183@compute-a-16-161 NBA\n"
     ]
    }
   ],
   "source": [
    "# for date in dates_toUse:\n",
    "for date in ['20230430']:\n",
    "\n",
    "    mouse = 'mouse_0322N'\n",
    "    # date = '20230501'\n",
    "\n",
    "    name_slurm = mouse + '_' + date[-4:]\n",
    "\n",
    "    dir_s2p       = str(Path('/n/data1/hms/neurobio/sabatini/gyu/analysis/suite2p_output') / mouse / date / 'scanimage_data' / 'exp' / 'jobNum_0' / 'suite2p' / 'plane0' )\n",
    "\n",
    "    dir_saveOutputs = str(Path('/n/data1/hms/neurobio/sabatini/rich/analysis/make_dFoF_and_tqm') / mouse / date )\n",
    "\n",
    "\n",
    "    name_job = 'jobNum_'\n",
    "\n",
    "\n",
    "    path_script_remote      = str(Path(r'/n/data1/hms/neurobio/sabatini/rich/github_repos/NBAP/behavioral_drift_analysis/1_make_consistent_fr_factors.py'))  ## path to a copy of the script (.py) file to run within the repo on the server\n",
    "\n",
    "    path_dispatcher_local   = str(Path(r'/media/rich/Home_Linux_partition/github_repos/NBAP/behavioral_drift_analysis/').resolve() / 'dispatcher.py')  ## path to the dispatcher.py file on local computer\n",
    "    path_dispatcher_remote  = (Path(dir_saveOutputs) / 'dispatcher.py').as_posix()  ## path to where you want the dispatcher.py file to be copied onto the server\n",
    "\n",
    "    ## Expectation for dispatch args: \n",
    "    # path_script, dir_save, dir_videos, dir_ROIs, name_job, name_slurm, name_env\n",
    "\n",
    "\n",
    "    commands = {\n",
    "    #     'make_dir': f\"mkdir -p {dir_data_remote}\",\n",
    "    #     'copy': f\"cp -r {dir_s2p_MICROSCOPE} {dir_data_remote}\",\n",
    "    #     'dispatch': f\"python {str(path_dispatcher_remote)} {dir_saveOutputs} {path_script_remote} {name_job} {name_slurm} {dir_videos}\",  ## dispatcher expecting these args as inputs\n",
    "    'dispatch': f\"\\\n",
    "    python3 \\\n",
    "    {path_dispatcher_remote} \\\n",
    "    {path_script_remote} \\\n",
    "    {dir_saveOutputs} \\\n",
    "    {dir_s2p} \\\n",
    "    {name_job} \\\n",
    "    {name_slurm} \\\n",
    "    {name_env}\",\n",
    "    }\n",
    "    display(commands)\n",
    "    \n",
    "    sftp.mkdir_p(str(Path(path_dispatcher_remote).parent))\n",
    "    sftp.sftp.put(str(path_dispatcher_local), str(path_dispatcher_remote));\n",
    "    \n",
    "    send_expect(commands['dispatch']);"
   ]
  },
  {
   "cell_type": "markdown",
   "id": "9feac88c",
   "metadata": {},
   "source": [
    "### check on job"
   ]
  },
  {
   "cell_type": "raw",
   "id": "fb31fbe8",
   "metadata": {
    "scrolled": true
   },
   "source": [
    "ssh_c.send_expect(f'squeue -u {username} --Format=jobid,name,partition,state,timeused,starttime,timelimit,reasonlist,minmemory,mincpus,gres');"
   ]
  },
  {
   "cell_type": "code",
   "execution_count": null,
   "id": "b5133530",
   "metadata": {},
   "outputs": [],
   "source": []
  },
  {
   "cell_type": "markdown",
   "id": "442ab705",
   "metadata": {},
   "source": [
    "### Check if it worked"
   ]
  },
  {
   "cell_type": "code",
   "execution_count": 76,
   "id": "e376282a",
   "metadata": {},
   "outputs": [
    {
     "name": "stdout",
     "output_type": "stream",
     "text": [
      "/n/data1/hms/neurobio/sabatini/rich/analysis/faceRhythm/mouse_0322N/run_20230701/20230531/aligned_TCA/jobNum_0/tca_refit.h5\n",
      "/n/data1/hms/neurobio/sabatini/rich/analysis/faceRhythm/mouse_0322N/run_20230701/20230523/aligned_TCA/jobNum_0/tca_refit.h5\n",
      "/n/data1/hms/neurobio/sabatini/rich/analysis/faceRhythm/mouse_0322N/run_20230701/20230517/aligned_TCA/jobNum_0/tca_refit.h5\n",
      "/n/data1/hms/neurobio/sabatini/rich/analysis/faceRhythm/mouse_0322N/run_20230701/20230515/aligned_TCA/jobNum_0/tca_refit.h5\n",
      "/n/data1/hms/neurobio/sabatini/rich/analysis/faceRhythm/mouse_0322N/run_20230701/20230430/aligned_TCA/jobNum_0/tca_refit.h5\n",
      "/n/data1/hms/neurobio/sabatini/rich/analysis/faceRhythm/mouse_0322N/run_20230701/20230528/aligned_TCA/jobNum_0/tca_refit.h5\n",
      "/n/data1/hms/neurobio/sabatini/rich/analysis/faceRhythm/mouse_0322N/run_20230701/20230601/aligned_TCA/jobNum_0/tca_refit.h5\n",
      "/n/data1/hms/neurobio/sabatini/rich/analysis/faceRhythm/mouse_0322N/run_20230701/20230512/aligned_TCA/jobNum_0/tca_refit.h5\n",
      "/n/data1/hms/neurobio/sabatini/rich/analysis/faceRhythm/mouse_0322N/run_20230701/20230510/aligned_TCA/jobNum_0/tca_refit.h5\n",
      "/n/data1/hms/neurobio/sabatini/rich/analysis/faceRhythm/mouse_0322N/run_20230701/20230511/aligned_TCA/jobNum_0/tca_refit.h5\n",
      "/n/data1/hms/neurobio/sabatini/rich/analysis/faceRhythm/mouse_0322N/run_20230701/20230514/aligned_TCA/jobNum_0/tca_refit.h5\n",
      "/n/data1/hms/neurobio/sabatini/rich/analysis/faceRhythm/mouse_0322N/run_20230701/20230504/aligned_TCA/jobNum_0/tca_refit.h5\n",
      "/n/data1/hms/neurobio/sabatini/rich/analysis/faceRhythm/mouse_0322N/run_20230701/20230507/aligned_TCA/jobNum_0/tca_refit.h5\n",
      "/n/data1/hms/neurobio/sabatini/rich/analysis/faceRhythm/mouse_0322N/run_20230701/20230525/aligned_TCA/jobNum_0/tca_refit.h5\n",
      "/n/data1/hms/neurobio/sabatini/rich/analysis/faceRhythm/mouse_0322N/run_20230701/20230522/aligned_TCA/jobNum_0/tca_refit.h5\n",
      "/n/data1/hms/neurobio/sabatini/rich/analysis/faceRhythm/mouse_0322N/run_20230701/20230526/aligned_TCA/jobNum_0/tca_refit.h5\n",
      "/n/data1/hms/neurobio/sabatini/rich/analysis/faceRhythm/mouse_0322N/run_20230701/20230521/aligned_TCA/jobNum_0/tca_refit.h5\n",
      "/n/data1/hms/neurobio/sabatini/rich/analysis/faceRhythm/mouse_0322N/run_20230701/20230518/aligned_TCA/jobNum_0/tca_refit.h5\n",
      "/n/data1/hms/neurobio/sabatini/rich/analysis/faceRhythm/mouse_0322N/run_20230701/20230530/aligned_TCA/jobNum_0/tca_refit.h5\n",
      "/n/data1/hms/neurobio/sabatini/rich/analysis/faceRhythm/mouse_0322N/run_20230701/20230520/aligned_TCA/jobNum_0/tca_refit.h5\n",
      "/n/data1/hms/neurobio/sabatini/rich/analysis/faceRhythm/mouse_0322N/run_20230701/20230508/aligned_TCA/jobNum_0/tca_refit.h5\n",
      "/n/data1/hms/neurobio/sabatini/rich/analysis/faceRhythm/mouse_0322N/run_20230701/20230506/aligned_TCA/jobNum_0/tca_refit.h5\n",
      "/n/data1/hms/neurobio/sabatini/rich/analysis/faceRhythm/mouse_0322N/run_20230701/20230527/aligned_TCA/jobNum_0/tca_refit.h5\n",
      "/n/data1/hms/neurobio/sabatini/rich/analysis/faceRhythm/mouse_0322N/run_20230701/20230519/aligned_TCA/jobNum_0/tca_refit.h5\n",
      "/n/data1/hms/neurobio/sabatini/rich/analysis/faceRhythm/mouse_0322N/run_20230701/20230501/aligned_TCA/jobNum_0/tca_refit.h5\n",
      "/n/data1/hms/neurobio/sabatini/rich/analysis/faceRhythm/mouse_0322N/run_20230701/20230505/aligned_TCA/jobNum_0/tca_refit.h5\n",
      "/n/data1/hms/neurobio/sabatini/rich/analysis/faceRhythm/mouse_0322N/run_20230701/20230516/aligned_TCA/jobNum_0/tca_refit.h5\n",
      "/n/data1/hms/neurobio/sabatini/rich/analysis/faceRhythm/mouse_0322N/run_20230701/20230509/aligned_TCA/jobNum_0/tca_refit.h5\n",
      "/n/data1/hms/neurobio/sabatini/rich/analysis/faceRhythm/mouse_0322N/run_20230701/20230529/aligned_TCA/jobNum_0/tca_refit.h5\n",
      "/n/data1/hms/neurobio/sabatini/rich/analysis/faceRhythm/mouse_0322N/run_20230701/20230503/aligned_TCA/jobNum_0/tca_refit.h5\n",
      "/n/data1/hms/neurobio/sabatini/rich/analysis/faceRhythm/mouse_0322N/run_20230701/20230524/aligned_TCA/jobNum_0/tca_refit.h5\n",
      "/n/data1/hms/neurobio/sabatini/rich/analysis/faceRhythm/mouse_0322N/run_20230701/20230502/aligned_TCA/jobNum_0/tca_refit.h5\n"
     ]
    }
   ],
   "source": [
    "paths_found = natsort.natsorted(sftp.search_recursive(\n",
    "    path='/n/data1/hms/neurobio/sabatini/rich/analysis/faceRhythm/mouse_0322N/run_20230701',\n",
    "    search_pattern_re='tca_refit.h5',\n",
    "    max_depth=5,\n",
    "    find_folders=False,\n",
    "    find_files=True,\n",
    "))\n",
    "paths_found"
   ]
  },
  {
   "cell_type": "markdown",
   "id": "d80c5bd5",
   "metadata": {},
   "source": [
    "### Download results"
   ]
  },
  {
   "cell_type": "code",
   "execution_count": 83,
   "id": "c5ae1162",
   "metadata": {},
   "outputs": [],
   "source": [
    "dates = [Path(p).parts[-4] for p in paths_found]"
   ]
  },
  {
   "cell_type": "code",
   "execution_count": 85,
   "id": "7ba51bb2",
   "metadata": {},
   "outputs": [],
   "source": [
    "paths_download = {d: p for d,p in zip(dates, paths_found)}"
   ]
  },
  {
   "cell_type": "code",
   "execution_count": 87,
   "id": "065808f2",
   "metadata": {},
   "outputs": [],
   "source": [
    "directory_save = r'/media/rich/bigSSD/analysis_data/face_rhythm/mouse_0322N/tca_refit'"
   ]
  },
  {
   "cell_type": "code",
   "execution_count": null,
   "id": "be3425cf",
   "metadata": {},
   "outputs": [],
   "source": [
    "[sftp.get(\n",
    "    remotepath=p,\n",
    "    localpath=str(Path(directory_save) / d / 'tca_refit.h5'),\n",
    "    mkdirs=True,\n",
    ") for d, p in paths_download.items()];"
   ]
  },
  {
   "cell_type": "code",
   "execution_count": 96,
   "id": "a8079984",
   "metadata": {},
   "outputs": [
    {
     "name": "stdout",
     "output_type": "stream",
     "text": [
      "downloading /n/data1/hms/neurobio/sabatini/rich/analysis/faceRhythm/mouse_0322N/run_20230701/20230531/parameters_batch.json   to   /media/rich/bigSSD/analysis_data/face_rhythm/mouse_0322N/run_20230701/20230531/parameters_batch.json\n",
      "downloading /n/data1/hms/neurobio/sabatini/rich/analysis/faceRhythm/mouse_0322N/run_20230701/20230531/jobNum_0/params.json   to   /media/rich/bigSSD/analysis_data/face_rhythm/mouse_0322N/run_20230701/20230531/jobNum_0/params.json\n",
      "downloading /n/data1/hms/neurobio/sabatini/rich/analysis/faceRhythm/mouse_0322N/run_20230701/20230531/jobNum_0/config.yaml   to   /media/rich/bigSSD/analysis_data/face_rhythm/mouse_0322N/run_20230701/20230531/jobNum_0/config.yaml\n",
      "downloading /n/data1/hms/neurobio/sabatini/rich/analysis/faceRhythm/mouse_0322N/run_20230701/20230531/jobNum_0/print_log_12089921.log   to   /media/rich/bigSSD/analysis_data/face_rhythm/mouse_0322N/run_20230701/20230531/jobNum_0/print_log_12089921.log\n",
      "downloading /n/data1/hms/neurobio/sabatini/rich/analysis/faceRhythm/mouse_0322N/run_20230701/20230531/jobNum_0/cpu_tracker.csv   to   /media/rich/bigSSD/analysis_data/face_rhythm/mouse_0322N/run_20230701/20230531/jobNum_0/cpu_tracker.csv\n",
      "downloading /n/data1/hms/neurobio/sabatini/rich/analysis/faceRhythm/mouse_0322N/run_20230701/20230531/jobNum_0/analysis_files/ROIs.h5   to   /media/rich/bigSSD/analysis_data/face_rhythm/mouse_0322N/run_20230701/20230531/jobNum_0/analysis_files/ROIs.h5\n",
      "downloading /n/data1/hms/neurobio/sabatini/rich/analysis/faceRhythm/mouse_0322N/run_20230701/20230531/jobNum_0/analysis_files/TCA.h5   to   /media/rich/bigSSD/analysis_data/face_rhythm/mouse_0322N/run_20230701/20230531/jobNum_0/analysis_files/TCA.h5\n",
      "downloading /n/data1/hms/neurobio/sabatini/rich/analysis/faceRhythm/mouse_0322N/run_20230701/20230531/jobNum_0/analysis_files/PointTracker.h5   to   /media/rich/bigSSD/analysis_data/face_rhythm/mouse_0322N/run_20230701/20230531/jobNum_0/analysis_files/PointTracker.h5\n",
      "downloading /n/data1/hms/neurobio/sabatini/rich/analysis/faceRhythm/mouse_0322N/run_20230701/20230531/jobNum_0/analysis_files/VQT_Analyzer.h5   to   /media/rich/bigSSD/analysis_data/face_rhythm/mouse_0322N/run_20230701/20230531/jobNum_0/analysis_files/VQT_Analyzer.h5\n",
      "downloading /n/data1/hms/neurobio/sabatini/rich/analysis/faceRhythm/mouse_0322N/run_20230701/20230531/jobNum_0/analysis_files/Dataset_videos.h5   to   /media/rich/bigSSD/analysis_data/face_rhythm/mouse_0322N/run_20230701/20230531/jobNum_0/analysis_files/Dataset_videos.h5\n",
      "downloading /n/data1/hms/neurobio/sabatini/rich/analysis/faceRhythm/mouse_0322N/run_20230701/20230531/jobNum_0/pipeline_basic.py   to   /media/rich/bigSSD/analysis_data/face_rhythm/mouse_0322N/run_20230701/20230531/jobNum_0/pipeline_basic.py\n",
      "downloading /n/data1/hms/neurobio/sabatini/rich/analysis/faceRhythm/mouse_0322N/run_20230701/20230531/jobNum_0/run_info.json   to   /media/rich/bigSSD/analysis_data/face_rhythm/mouse_0322N/run_20230701/20230531/jobNum_0/run_info.json\n",
      "downloading /n/data1/hms/neurobio/sabatini/rich/analysis/faceRhythm/mouse_0322N/run_20230701/20230531/jobNum_0/sbatch_config.sh   to   /media/rich/bigSSD/analysis_data/face_rhythm/mouse_0322N/run_20230701/20230531/jobNum_0/sbatch_config.sh\n",
      "downloading /n/data1/hms/neurobio/sabatini/rich/analysis/faceRhythm/mouse_0322N/run_20230701/20230531/jobNum_0/print_log_12079186.log   to   /media/rich/bigSSD/analysis_data/face_rhythm/mouse_0322N/run_20230701/20230531/jobNum_0/print_log_12079186.log\n",
      "downloading /n/data1/hms/neurobio/sabatini/rich/analysis/faceRhythm/mouse_0322N/run_20230701/20230531/aligned_TCA/parameters_batch.json   to   /media/rich/bigSSD/analysis_data/face_rhythm/mouse_0322N/run_20230701/20230531/aligned_TCA/parameters_batch.json\n",
      "downloading /n/data1/hms/neurobio/sabatini/rich/analysis/faceRhythm/mouse_0322N/run_20230701/20230531/aligned_TCA/jobNum_0/tca_refit.h5   to   /media/rich/bigSSD/analysis_data/face_rhythm/mouse_0322N/run_20230701/20230531/aligned_TCA/jobNum_0/tca_refit.h5\n",
      "downloading /n/data1/hms/neurobio/sabatini/rich/analysis/faceRhythm/mouse_0322N/run_20230701/20230531/aligned_TCA/jobNum_0/params.json   to   /media/rich/bigSSD/analysis_data/face_rhythm/mouse_0322N/run_20230701/20230531/aligned_TCA/jobNum_0/params.json\n",
      "downloading /n/data1/hms/neurobio/sabatini/rich/analysis/faceRhythm/mouse_0322N/run_20230701/20230531/aligned_TCA/jobNum_0/print_log_12685383.log   to   /media/rich/bigSSD/analysis_data/face_rhythm/mouse_0322N/run_20230701/20230531/aligned_TCA/jobNum_0/print_log_12685383.log\n",
      "downloading /n/data1/hms/neurobio/sabatini/rich/analysis/faceRhythm/mouse_0322N/run_20230701/20230531/aligned_TCA/jobNum_0/1_make_consistent_fr_factors.py   to   /media/rich/bigSSD/analysis_data/face_rhythm/mouse_0322N/run_20230701/20230531/aligned_TCA/jobNum_0/1_make_consistent_fr_factors.py\n",
      "downloading /n/data1/hms/neurobio/sabatini/rich/analysis/faceRhythm/mouse_0322N/run_20230701/20230531/aligned_TCA/jobNum_0/sbatch_config.sh   to   /media/rich/bigSSD/analysis_data/face_rhythm/mouse_0322N/run_20230701/20230531/aligned_TCA/jobNum_0/sbatch_config.sh\n",
      "downloading /n/data1/hms/neurobio/sabatini/rich/analysis/faceRhythm/mouse_0322N/run_20230701/20230531/aligned_TCA/1_make_consistent_fr_factors.py   to   /media/rich/bigSSD/analysis_data/face_rhythm/mouse_0322N/run_20230701/20230531/aligned_TCA/1_make_consistent_fr_factors.py\n",
      "downloading /n/data1/hms/neurobio/sabatini/rich/analysis/faceRhythm/mouse_0322N/run_20230701/20230531/aligned_TCA/dispatcher.py   to   /media/rich/bigSSD/analysis_data/face_rhythm/mouse_0322N/run_20230701/20230531/aligned_TCA/dispatcher.py\n",
      "downloading /n/data1/hms/neurobio/sabatini/rich/analysis/faceRhythm/mouse_0322N/run_20230701/20230531/aligned_TCA/notes.txt   to   /media/rich/bigSSD/analysis_data/face_rhythm/mouse_0322N/run_20230701/20230531/aligned_TCA/notes.txt\n",
      "downloading /n/data1/hms/neurobio/sabatini/rich/analysis/faceRhythm/mouse_0322N/run_20230701/20230531/pipeline_basic.py   to   /media/rich/bigSSD/analysis_data/face_rhythm/mouse_0322N/run_20230701/20230531/pipeline_basic.py\n",
      "downloading /n/data1/hms/neurobio/sabatini/rich/analysis/faceRhythm/mouse_0322N/run_20230701/20230531/dispatcher.py   to   /media/rich/bigSSD/analysis_data/face_rhythm/mouse_0322N/run_20230701/20230531/dispatcher.py\n",
      "downloading /n/data1/hms/neurobio/sabatini/rich/analysis/faceRhythm/mouse_0322N/run_20230701/20230531/notes.txt   to   /media/rich/bigSSD/analysis_data/face_rhythm/mouse_0322N/run_20230701/20230531/notes.txt\n",
      "downloading /n/data1/hms/neurobio/sabatini/rich/analysis/faceRhythm/mouse_0322N/run_20230701/20230523/parameters_batch.json   to   /media/rich/bigSSD/analysis_data/face_rhythm/mouse_0322N/run_20230701/20230523/parameters_batch.json\n",
      "downloading /n/data1/hms/neurobio/sabatini/rich/analysis/faceRhythm/mouse_0322N/run_20230701/20230523/jobNum_0/params.json   to   /media/rich/bigSSD/analysis_data/face_rhythm/mouse_0322N/run_20230701/20230523/jobNum_0/params.json\n",
      "downloading /n/data1/hms/neurobio/sabatini/rich/analysis/faceRhythm/mouse_0322N/run_20230701/20230523/jobNum_0/config.yaml   to   /media/rich/bigSSD/analysis_data/face_rhythm/mouse_0322N/run_20230701/20230523/jobNum_0/config.yaml\n",
      "downloading /n/data1/hms/neurobio/sabatini/rich/analysis/faceRhythm/mouse_0322N/run_20230701/20230523/jobNum_0/cpu_tracker.csv   to   /media/rich/bigSSD/analysis_data/face_rhythm/mouse_0322N/run_20230701/20230523/jobNum_0/cpu_tracker.csv\n",
      "downloading /n/data1/hms/neurobio/sabatini/rich/analysis/faceRhythm/mouse_0322N/run_20230701/20230523/jobNum_0/print_log_12079392.log   to   /media/rich/bigSSD/analysis_data/face_rhythm/mouse_0322N/run_20230701/20230523/jobNum_0/print_log_12079392.log\n",
      "downloading /n/data1/hms/neurobio/sabatini/rich/analysis/faceRhythm/mouse_0322N/run_20230701/20230523/jobNum_0/print_log_12020865.log   to   /media/rich/bigSSD/analysis_data/face_rhythm/mouse_0322N/run_20230701/20230523/jobNum_0/print_log_12020865.log\n",
      "downloading /n/data1/hms/neurobio/sabatini/rich/analysis/faceRhythm/mouse_0322N/run_20230701/20230523/jobNum_0/analysis_files/ROIs.h5   to   /media/rich/bigSSD/analysis_data/face_rhythm/mouse_0322N/run_20230701/20230523/jobNum_0/analysis_files/ROIs.h5\n",
      "downloading /n/data1/hms/neurobio/sabatini/rich/analysis/faceRhythm/mouse_0322N/run_20230701/20230523/jobNum_0/analysis_files/TCA.h5   to   /media/rich/bigSSD/analysis_data/face_rhythm/mouse_0322N/run_20230701/20230523/jobNum_0/analysis_files/TCA.h5\n",
      "downloading /n/data1/hms/neurobio/sabatini/rich/analysis/faceRhythm/mouse_0322N/run_20230701/20230523/jobNum_0/analysis_files/PointTracker.h5   to   /media/rich/bigSSD/analysis_data/face_rhythm/mouse_0322N/run_20230701/20230523/jobNum_0/analysis_files/PointTracker.h5\n"
     ]
    },
    {
     "name": "stdout",
     "output_type": "stream",
     "text": [
      "downloading /n/data1/hms/neurobio/sabatini/rich/analysis/faceRhythm/mouse_0322N/run_20230701/20230523/jobNum_0/analysis_files/VQT_Analyzer.h5   to   /media/rich/bigSSD/analysis_data/face_rhythm/mouse_0322N/run_20230701/20230523/jobNum_0/analysis_files/VQT_Analyzer.h5\n",
      "downloading /n/data1/hms/neurobio/sabatini/rich/analysis/faceRhythm/mouse_0322N/run_20230701/20230523/jobNum_0/analysis_files/Dataset_videos.h5   to   /media/rich/bigSSD/analysis_data/face_rhythm/mouse_0322N/run_20230701/20230523/jobNum_0/analysis_files/Dataset_videos.h5\n",
      "downloading /n/data1/hms/neurobio/sabatini/rich/analysis/faceRhythm/mouse_0322N/run_20230701/20230523/jobNum_0/pipeline_basic.py   to   /media/rich/bigSSD/analysis_data/face_rhythm/mouse_0322N/run_20230701/20230523/jobNum_0/pipeline_basic.py\n",
      "downloading /n/data1/hms/neurobio/sabatini/rich/analysis/faceRhythm/mouse_0322N/run_20230701/20230523/jobNum_0/run_info.json   to   /media/rich/bigSSD/analysis_data/face_rhythm/mouse_0322N/run_20230701/20230523/jobNum_0/run_info.json\n",
      "downloading /n/data1/hms/neurobio/sabatini/rich/analysis/faceRhythm/mouse_0322N/run_20230701/20230523/jobNum_0/sbatch_config.sh   to   /media/rich/bigSSD/analysis_data/face_rhythm/mouse_0322N/run_20230701/20230523/jobNum_0/sbatch_config.sh\n",
      "downloading /n/data1/hms/neurobio/sabatini/rich/analysis/faceRhythm/mouse_0322N/run_20230701/20230523/jobNum_0/print_log_12672995.log   to   /media/rich/bigSSD/analysis_data/face_rhythm/mouse_0322N/run_20230701/20230523/jobNum_0/print_log_12672995.log\n",
      "downloading /n/data1/hms/neurobio/sabatini/rich/analysis/faceRhythm/mouse_0322N/run_20230701/20230523/aligned_TCA/parameters_batch.json   to   /media/rich/bigSSD/analysis_data/face_rhythm/mouse_0322N/run_20230701/20230523/aligned_TCA/parameters_batch.json\n",
      "downloading /n/data1/hms/neurobio/sabatini/rich/analysis/faceRhythm/mouse_0322N/run_20230701/20230523/aligned_TCA/jobNum_0/tca_refit.h5   to   /media/rich/bigSSD/analysis_data/face_rhythm/mouse_0322N/run_20230701/20230523/aligned_TCA/jobNum_0/tca_refit.h5\n",
      "downloading /n/data1/hms/neurobio/sabatini/rich/analysis/faceRhythm/mouse_0322N/run_20230701/20230523/aligned_TCA/jobNum_0/params.json   to   /media/rich/bigSSD/analysis_data/face_rhythm/mouse_0322N/run_20230701/20230523/aligned_TCA/jobNum_0/params.json\n",
      "downloading /n/data1/hms/neurobio/sabatini/rich/analysis/faceRhythm/mouse_0322N/run_20230701/20230523/aligned_TCA/jobNum_0/print_log_12686268.log   to   /media/rich/bigSSD/analysis_data/face_rhythm/mouse_0322N/run_20230701/20230523/aligned_TCA/jobNum_0/print_log_12686268.log\n",
      "downloading /n/data1/hms/neurobio/sabatini/rich/analysis/faceRhythm/mouse_0322N/run_20230701/20230523/aligned_TCA/jobNum_0/1_make_consistent_fr_factors.py   to   /media/rich/bigSSD/analysis_data/face_rhythm/mouse_0322N/run_20230701/20230523/aligned_TCA/jobNum_0/1_make_consistent_fr_factors.py\n",
      "downloading /n/data1/hms/neurobio/sabatini/rich/analysis/faceRhythm/mouse_0322N/run_20230701/20230523/aligned_TCA/jobNum_0/print_log_12693897.log   to   /media/rich/bigSSD/analysis_data/face_rhythm/mouse_0322N/run_20230701/20230523/aligned_TCA/jobNum_0/print_log_12693897.log\n",
      "downloading /n/data1/hms/neurobio/sabatini/rich/analysis/faceRhythm/mouse_0322N/run_20230701/20230523/aligned_TCA/jobNum_0/print_log_12693368.log   to   /media/rich/bigSSD/analysis_data/face_rhythm/mouse_0322N/run_20230701/20230523/aligned_TCA/jobNum_0/print_log_12693368.log\n",
      "downloading /n/data1/hms/neurobio/sabatini/rich/analysis/faceRhythm/mouse_0322N/run_20230701/20230523/aligned_TCA/jobNum_0/sbatch_config.sh   to   /media/rich/bigSSD/analysis_data/face_rhythm/mouse_0322N/run_20230701/20230523/aligned_TCA/jobNum_0/sbatch_config.sh\n",
      "downloading /n/data1/hms/neurobio/sabatini/rich/analysis/faceRhythm/mouse_0322N/run_20230701/20230523/aligned_TCA/jobNum_0/print_log_12685338.log   to   /media/rich/bigSSD/analysis_data/face_rhythm/mouse_0322N/run_20230701/20230523/aligned_TCA/jobNum_0/print_log_12685338.log\n",
      "downloading /n/data1/hms/neurobio/sabatini/rich/analysis/faceRhythm/mouse_0322N/run_20230701/20230523/aligned_TCA/1_make_consistent_fr_factors.py   to   /media/rich/bigSSD/analysis_data/face_rhythm/mouse_0322N/run_20230701/20230523/aligned_TCA/1_make_consistent_fr_factors.py\n",
      "downloading /n/data1/hms/neurobio/sabatini/rich/analysis/faceRhythm/mouse_0322N/run_20230701/20230523/aligned_TCA/dispatcher.py   to   /media/rich/bigSSD/analysis_data/face_rhythm/mouse_0322N/run_20230701/20230523/aligned_TCA/dispatcher.py\n",
      "downloading /n/data1/hms/neurobio/sabatini/rich/analysis/faceRhythm/mouse_0322N/run_20230701/20230523/aligned_TCA/notes.txt   to   /media/rich/bigSSD/analysis_data/face_rhythm/mouse_0322N/run_20230701/20230523/aligned_TCA/notes.txt\n",
      "downloading /n/data1/hms/neurobio/sabatini/rich/analysis/faceRhythm/mouse_0322N/run_20230701/20230523/pipeline_basic.py   to   /media/rich/bigSSD/analysis_data/face_rhythm/mouse_0322N/run_20230701/20230523/pipeline_basic.py\n",
      "downloading /n/data1/hms/neurobio/sabatini/rich/analysis/faceRhythm/mouse_0322N/run_20230701/20230523/dispatcher.py   to   /media/rich/bigSSD/analysis_data/face_rhythm/mouse_0322N/run_20230701/20230523/dispatcher.py\n",
      "downloading /n/data1/hms/neurobio/sabatini/rich/analysis/faceRhythm/mouse_0322N/run_20230701/20230523/notes.txt   to   /media/rich/bigSSD/analysis_data/face_rhythm/mouse_0322N/run_20230701/20230523/notes.txt\n",
      "downloading /n/data1/hms/neurobio/sabatini/rich/analysis/faceRhythm/mouse_0322N/run_20230701/20230517/parameters_batch.json   to   /media/rich/bigSSD/analysis_data/face_rhythm/mouse_0322N/run_20230701/20230517/parameters_batch.json\n",
      "downloading /n/data1/hms/neurobio/sabatini/rich/analysis/faceRhythm/mouse_0322N/run_20230701/20230517/jobNum_0/print_log_12020808.log   to   /media/rich/bigSSD/analysis_data/face_rhythm/mouse_0322N/run_20230701/20230517/jobNum_0/print_log_12020808.log\n",
      "downloading /n/data1/hms/neurobio/sabatini/rich/analysis/faceRhythm/mouse_0322N/run_20230701/20230517/jobNum_0/params.json   to   /media/rich/bigSSD/analysis_data/face_rhythm/mouse_0322N/run_20230701/20230517/jobNum_0/params.json\n",
      "downloading /n/data1/hms/neurobio/sabatini/rich/analysis/faceRhythm/mouse_0322N/run_20230701/20230517/jobNum_0/config.yaml   to   /media/rich/bigSSD/analysis_data/face_rhythm/mouse_0322N/run_20230701/20230517/jobNum_0/config.yaml\n",
      "downloading /n/data1/hms/neurobio/sabatini/rich/analysis/faceRhythm/mouse_0322N/run_20230701/20230517/jobNum_0/cpu_tracker.csv   to   /media/rich/bigSSD/analysis_data/face_rhythm/mouse_0322N/run_20230701/20230517/jobNum_0/cpu_tracker.csv\n",
      "downloading /n/data1/hms/neurobio/sabatini/rich/analysis/faceRhythm/mouse_0322N/run_20230701/20230517/jobNum_0/print_log_12079298.log   to   /media/rich/bigSSD/analysis_data/face_rhythm/mouse_0322N/run_20230701/20230517/jobNum_0/print_log_12079298.log\n",
      "downloading /n/data1/hms/neurobio/sabatini/rich/analysis/faceRhythm/mouse_0322N/run_20230701/20230517/jobNum_0/analysis_files/ROIs.h5   to   /media/rich/bigSSD/analysis_data/face_rhythm/mouse_0322N/run_20230701/20230517/jobNum_0/analysis_files/ROIs.h5\n",
      "downloading /n/data1/hms/neurobio/sabatini/rich/analysis/faceRhythm/mouse_0322N/run_20230701/20230517/jobNum_0/analysis_files/TCA.h5   to   /media/rich/bigSSD/analysis_data/face_rhythm/mouse_0322N/run_20230701/20230517/jobNum_0/analysis_files/TCA.h5\n",
      "downloading /n/data1/hms/neurobio/sabatini/rich/analysis/faceRhythm/mouse_0322N/run_20230701/20230517/jobNum_0/analysis_files/PointTracker.h5   to   /media/rich/bigSSD/analysis_data/face_rhythm/mouse_0322N/run_20230701/20230517/jobNum_0/analysis_files/PointTracker.h5\n",
      "downloading /n/data1/hms/neurobio/sabatini/rich/analysis/faceRhythm/mouse_0322N/run_20230701/20230517/jobNum_0/analysis_files/VQT_Analyzer.h5   to   /media/rich/bigSSD/analysis_data/face_rhythm/mouse_0322N/run_20230701/20230517/jobNum_0/analysis_files/VQT_Analyzer.h5\n",
      "downloading /n/data1/hms/neurobio/sabatini/rich/analysis/faceRhythm/mouse_0322N/run_20230701/20230517/jobNum_0/analysis_files/Dataset_videos.h5   to   /media/rich/bigSSD/analysis_data/face_rhythm/mouse_0322N/run_20230701/20230517/jobNum_0/analysis_files/Dataset_videos.h5\n",
      "downloading /n/data1/hms/neurobio/sabatini/rich/analysis/faceRhythm/mouse_0322N/run_20230701/20230517/jobNum_0/pipeline_basic.py   to   /media/rich/bigSSD/analysis_data/face_rhythm/mouse_0322N/run_20230701/20230517/jobNum_0/pipeline_basic.py\n"
     ]
    },
    {
     "name": "stdout",
     "output_type": "stream",
     "text": [
      "downloading /n/data1/hms/neurobio/sabatini/rich/analysis/faceRhythm/mouse_0322N/run_20230701/20230517/jobNum_0/run_info.json   to   /media/rich/bigSSD/analysis_data/face_rhythm/mouse_0322N/run_20230701/20230517/jobNum_0/run_info.json\n",
      "downloading /n/data1/hms/neurobio/sabatini/rich/analysis/faceRhythm/mouse_0322N/run_20230701/20230517/jobNum_0/sbatch_config.sh   to   /media/rich/bigSSD/analysis_data/face_rhythm/mouse_0322N/run_20230701/20230517/jobNum_0/sbatch_config.sh\n",
      "downloading /n/data1/hms/neurobio/sabatini/rich/analysis/faceRhythm/mouse_0322N/run_20230701/20230517/aligned_TCA/parameters_batch.json   to   /media/rich/bigSSD/analysis_data/face_rhythm/mouse_0322N/run_20230701/20230517/aligned_TCA/parameters_batch.json\n",
      "downloading /n/data1/hms/neurobio/sabatini/rich/analysis/faceRhythm/mouse_0322N/run_20230701/20230517/aligned_TCA/jobNum_0/tca_refit.h5   to   /media/rich/bigSSD/analysis_data/face_rhythm/mouse_0322N/run_20230701/20230517/aligned_TCA/jobNum_0/tca_refit.h5\n",
      "downloading /n/data1/hms/neurobio/sabatini/rich/analysis/faceRhythm/mouse_0322N/run_20230701/20230517/aligned_TCA/jobNum_0/params.json   to   /media/rich/bigSSD/analysis_data/face_rhythm/mouse_0322N/run_20230701/20230517/aligned_TCA/jobNum_0/params.json\n",
      "downloading /n/data1/hms/neurobio/sabatini/rich/analysis/faceRhythm/mouse_0322N/run_20230701/20230517/aligned_TCA/jobNum_0/print_log_12685326.log   to   /media/rich/bigSSD/analysis_data/face_rhythm/mouse_0322N/run_20230701/20230517/aligned_TCA/jobNum_0/print_log_12685326.log\n",
      "downloading /n/data1/hms/neurobio/sabatini/rich/analysis/faceRhythm/mouse_0322N/run_20230701/20230517/aligned_TCA/jobNum_0/1_make_consistent_fr_factors.py   to   /media/rich/bigSSD/analysis_data/face_rhythm/mouse_0322N/run_20230701/20230517/aligned_TCA/jobNum_0/1_make_consistent_fr_factors.py\n",
      "downloading /n/data1/hms/neurobio/sabatini/rich/analysis/faceRhythm/mouse_0322N/run_20230701/20230517/aligned_TCA/jobNum_0/sbatch_config.sh   to   /media/rich/bigSSD/analysis_data/face_rhythm/mouse_0322N/run_20230701/20230517/aligned_TCA/jobNum_0/sbatch_config.sh\n",
      "downloading /n/data1/hms/neurobio/sabatini/rich/analysis/faceRhythm/mouse_0322N/run_20230701/20230517/aligned_TCA/1_make_consistent_fr_factors.py   to   /media/rich/bigSSD/analysis_data/face_rhythm/mouse_0322N/run_20230701/20230517/aligned_TCA/1_make_consistent_fr_factors.py\n",
      "downloading /n/data1/hms/neurobio/sabatini/rich/analysis/faceRhythm/mouse_0322N/run_20230701/20230517/aligned_TCA/dispatcher.py   to   /media/rich/bigSSD/analysis_data/face_rhythm/mouse_0322N/run_20230701/20230517/aligned_TCA/dispatcher.py\n",
      "downloading /n/data1/hms/neurobio/sabatini/rich/analysis/faceRhythm/mouse_0322N/run_20230701/20230517/aligned_TCA/notes.txt   to   /media/rich/bigSSD/analysis_data/face_rhythm/mouse_0322N/run_20230701/20230517/aligned_TCA/notes.txt\n",
      "downloading /n/data1/hms/neurobio/sabatini/rich/analysis/faceRhythm/mouse_0322N/run_20230701/20230517/pipeline_basic.py   to   /media/rich/bigSSD/analysis_data/face_rhythm/mouse_0322N/run_20230701/20230517/pipeline_basic.py\n",
      "downloading /n/data1/hms/neurobio/sabatini/rich/analysis/faceRhythm/mouse_0322N/run_20230701/20230517/dispatcher.py   to   /media/rich/bigSSD/analysis_data/face_rhythm/mouse_0322N/run_20230701/20230517/dispatcher.py\n",
      "downloading /n/data1/hms/neurobio/sabatini/rich/analysis/faceRhythm/mouse_0322N/run_20230701/20230517/notes.txt   to   /media/rich/bigSSD/analysis_data/face_rhythm/mouse_0322N/run_20230701/20230517/notes.txt\n",
      "downloading /n/data1/hms/neurobio/sabatini/rich/analysis/faceRhythm/mouse_0322N/run_20230701/20230515/parameters_batch.json   to   /media/rich/bigSSD/analysis_data/face_rhythm/mouse_0322N/run_20230701/20230515/parameters_batch.json\n",
      "downloading /n/data1/hms/neurobio/sabatini/rich/analysis/faceRhythm/mouse_0322N/run_20230701/20230515/jobNum_0/params.json   to   /media/rich/bigSSD/analysis_data/face_rhythm/mouse_0322N/run_20230701/20230515/jobNum_0/params.json\n",
      "downloading /n/data1/hms/neurobio/sabatini/rich/analysis/faceRhythm/mouse_0322N/run_20230701/20230515/jobNum_0/config.yaml   to   /media/rich/bigSSD/analysis_data/face_rhythm/mouse_0322N/run_20230701/20230515/jobNum_0/config.yaml\n",
      "downloading /n/data1/hms/neurobio/sabatini/rich/analysis/faceRhythm/mouse_0322N/run_20230701/20230515/jobNum_0/cpu_tracker.csv   to   /media/rich/bigSSD/analysis_data/face_rhythm/mouse_0322N/run_20230701/20230515/jobNum_0/cpu_tracker.csv\n",
      "downloading /n/data1/hms/neurobio/sabatini/rich/analysis/faceRhythm/mouse_0322N/run_20230701/20230515/jobNum_0/print_log_12079283.log   to   /media/rich/bigSSD/analysis_data/face_rhythm/mouse_0322N/run_20230701/20230515/jobNum_0/print_log_12079283.log\n",
      "downloading /n/data1/hms/neurobio/sabatini/rich/analysis/faceRhythm/mouse_0322N/run_20230701/20230515/jobNum_0/analysis_files/ROIs.h5   to   /media/rich/bigSSD/analysis_data/face_rhythm/mouse_0322N/run_20230701/20230515/jobNum_0/analysis_files/ROIs.h5\n",
      "downloading /n/data1/hms/neurobio/sabatini/rich/analysis/faceRhythm/mouse_0322N/run_20230701/20230515/jobNum_0/analysis_files/TCA.h5   to   /media/rich/bigSSD/analysis_data/face_rhythm/mouse_0322N/run_20230701/20230515/jobNum_0/analysis_files/TCA.h5\n",
      "downloading /n/data1/hms/neurobio/sabatini/rich/analysis/faceRhythm/mouse_0322N/run_20230701/20230515/jobNum_0/analysis_files/PointTracker.h5   to   /media/rich/bigSSD/analysis_data/face_rhythm/mouse_0322N/run_20230701/20230515/jobNum_0/analysis_files/PointTracker.h5\n",
      "downloading /n/data1/hms/neurobio/sabatini/rich/analysis/faceRhythm/mouse_0322N/run_20230701/20230515/jobNum_0/analysis_files/VQT_Analyzer.h5   to   /media/rich/bigSSD/analysis_data/face_rhythm/mouse_0322N/run_20230701/20230515/jobNum_0/analysis_files/VQT_Analyzer.h5\n",
      "downloading /n/data1/hms/neurobio/sabatini/rich/analysis/faceRhythm/mouse_0322N/run_20230701/20230515/jobNum_0/analysis_files/Dataset_videos.h5   to   /media/rich/bigSSD/analysis_data/face_rhythm/mouse_0322N/run_20230701/20230515/jobNum_0/analysis_files/Dataset_videos.h5\n",
      "downloading /n/data1/hms/neurobio/sabatini/rich/analysis/faceRhythm/mouse_0322N/run_20230701/20230515/jobNum_0/pipeline_basic.py   to   /media/rich/bigSSD/analysis_data/face_rhythm/mouse_0322N/run_20230701/20230515/jobNum_0/pipeline_basic.py\n",
      "downloading /n/data1/hms/neurobio/sabatini/rich/analysis/faceRhythm/mouse_0322N/run_20230701/20230515/jobNum_0/run_info.json   to   /media/rich/bigSSD/analysis_data/face_rhythm/mouse_0322N/run_20230701/20230515/jobNum_0/run_info.json\n",
      "downloading /n/data1/hms/neurobio/sabatini/rich/analysis/faceRhythm/mouse_0322N/run_20230701/20230515/jobNum_0/sbatch_config.sh   to   /media/rich/bigSSD/analysis_data/face_rhythm/mouse_0322N/run_20230701/20230515/jobNum_0/sbatch_config.sh\n",
      "downloading /n/data1/hms/neurobio/sabatini/rich/analysis/faceRhythm/mouse_0322N/run_20230701/20230515/jobNum_0/print_log_12020815.log   to   /media/rich/bigSSD/analysis_data/face_rhythm/mouse_0322N/run_20230701/20230515/jobNum_0/print_log_12020815.log\n",
      "downloading /n/data1/hms/neurobio/sabatini/rich/analysis/faceRhythm/mouse_0322N/run_20230701/20230515/aligned_TCA/parameters_batch.json   to   /media/rich/bigSSD/analysis_data/face_rhythm/mouse_0322N/run_20230701/20230515/aligned_TCA/parameters_batch.json\n",
      "downloading /n/data1/hms/neurobio/sabatini/rich/analysis/faceRhythm/mouse_0322N/run_20230701/20230515/aligned_TCA/jobNum_0/tca_refit.h5   to   /media/rich/bigSSD/analysis_data/face_rhythm/mouse_0322N/run_20230701/20230515/aligned_TCA/jobNum_0/tca_refit.h5\n",
      "downloading /n/data1/hms/neurobio/sabatini/rich/analysis/faceRhythm/mouse_0322N/run_20230701/20230515/aligned_TCA/jobNum_0/params.json   to   /media/rich/bigSSD/analysis_data/face_rhythm/mouse_0322N/run_20230701/20230515/aligned_TCA/jobNum_0/params.json\n",
      "downloading /n/data1/hms/neurobio/sabatini/rich/analysis/faceRhythm/mouse_0322N/run_20230701/20230515/aligned_TCA/jobNum_0/1_make_consistent_fr_factors.py   to   /media/rich/bigSSD/analysis_data/face_rhythm/mouse_0322N/run_20230701/20230515/aligned_TCA/jobNum_0/1_make_consistent_fr_factors.py\n",
      "downloading /n/data1/hms/neurobio/sabatini/rich/analysis/faceRhythm/mouse_0322N/run_20230701/20230515/aligned_TCA/jobNum_0/sbatch_config.sh   to   /media/rich/bigSSD/analysis_data/face_rhythm/mouse_0322N/run_20230701/20230515/aligned_TCA/jobNum_0/sbatch_config.sh\n"
     ]
    },
    {
     "name": "stdout",
     "output_type": "stream",
     "text": [
      "downloading /n/data1/hms/neurobio/sabatini/rich/analysis/faceRhythm/mouse_0322N/run_20230701/20230515/aligned_TCA/jobNum_0/print_log_12685323.log   to   /media/rich/bigSSD/analysis_data/face_rhythm/mouse_0322N/run_20230701/20230515/aligned_TCA/jobNum_0/print_log_12685323.log\n",
      "downloading /n/data1/hms/neurobio/sabatini/rich/analysis/faceRhythm/mouse_0322N/run_20230701/20230515/aligned_TCA/1_make_consistent_fr_factors.py   to   /media/rich/bigSSD/analysis_data/face_rhythm/mouse_0322N/run_20230701/20230515/aligned_TCA/1_make_consistent_fr_factors.py\n",
      "downloading /n/data1/hms/neurobio/sabatini/rich/analysis/faceRhythm/mouse_0322N/run_20230701/20230515/aligned_TCA/dispatcher.py   to   /media/rich/bigSSD/analysis_data/face_rhythm/mouse_0322N/run_20230701/20230515/aligned_TCA/dispatcher.py\n",
      "downloading /n/data1/hms/neurobio/sabatini/rich/analysis/faceRhythm/mouse_0322N/run_20230701/20230515/aligned_TCA/notes.txt   to   /media/rich/bigSSD/analysis_data/face_rhythm/mouse_0322N/run_20230701/20230515/aligned_TCA/notes.txt\n",
      "downloading /n/data1/hms/neurobio/sabatini/rich/analysis/faceRhythm/mouse_0322N/run_20230701/20230515/pipeline_basic.py   to   /media/rich/bigSSD/analysis_data/face_rhythm/mouse_0322N/run_20230701/20230515/pipeline_basic.py\n",
      "downloading /n/data1/hms/neurobio/sabatini/rich/analysis/faceRhythm/mouse_0322N/run_20230701/20230515/dispatcher.py   to   /media/rich/bigSSD/analysis_data/face_rhythm/mouse_0322N/run_20230701/20230515/dispatcher.py\n",
      "downloading /n/data1/hms/neurobio/sabatini/rich/analysis/faceRhythm/mouse_0322N/run_20230701/20230515/notes.txt   to   /media/rich/bigSSD/analysis_data/face_rhythm/mouse_0322N/run_20230701/20230515/notes.txt\n",
      "downloading /n/data1/hms/neurobio/sabatini/rich/analysis/faceRhythm/mouse_0322N/run_20230701/20230430/parameters_batch.json   to   /media/rich/bigSSD/analysis_data/face_rhythm/mouse_0322N/run_20230701/20230430/parameters_batch.json\n",
      "downloading /n/data1/hms/neurobio/sabatini/rich/analysis/faceRhythm/mouse_0322N/run_20230701/20230430/jobNum_0/params.json   to   /media/rich/bigSSD/analysis_data/face_rhythm/mouse_0322N/run_20230701/20230430/jobNum_0/params.json\n",
      "downloading /n/data1/hms/neurobio/sabatini/rich/analysis/faceRhythm/mouse_0322N/run_20230701/20230430/jobNum_0/config.yaml   to   /media/rich/bigSSD/analysis_data/face_rhythm/mouse_0322N/run_20230701/20230430/jobNum_0/config.yaml\n",
      "downloading /n/data1/hms/neurobio/sabatini/rich/analysis/faceRhythm/mouse_0322N/run_20230701/20230430/jobNum_0/cpu_tracker.csv   to   /media/rich/bigSSD/analysis_data/face_rhythm/mouse_0322N/run_20230701/20230430/jobNum_0/cpu_tracker.csv\n",
      "downloading /n/data1/hms/neurobio/sabatini/rich/analysis/faceRhythm/mouse_0322N/run_20230701/20230430/jobNum_0/analysis_files/ROIs.h5   to   /media/rich/bigSSD/analysis_data/face_rhythm/mouse_0322N/run_20230701/20230430/jobNum_0/analysis_files/ROIs.h5\n",
      "downloading /n/data1/hms/neurobio/sabatini/rich/analysis/faceRhythm/mouse_0322N/run_20230701/20230430/jobNum_0/analysis_files/TCA.h5   to   /media/rich/bigSSD/analysis_data/face_rhythm/mouse_0322N/run_20230701/20230430/jobNum_0/analysis_files/TCA.h5\n",
      "downloading /n/data1/hms/neurobio/sabatini/rich/analysis/faceRhythm/mouse_0322N/run_20230701/20230430/jobNum_0/analysis_files/PointTracker.h5   to   /media/rich/bigSSD/analysis_data/face_rhythm/mouse_0322N/run_20230701/20230430/jobNum_0/analysis_files/PointTracker.h5\n",
      "downloading /n/data1/hms/neurobio/sabatini/rich/analysis/faceRhythm/mouse_0322N/run_20230701/20230430/jobNum_0/analysis_files/VQT_Analyzer.h5   to   /media/rich/bigSSD/analysis_data/face_rhythm/mouse_0322N/run_20230701/20230430/jobNum_0/analysis_files/VQT_Analyzer.h5\n",
      "downloading /n/data1/hms/neurobio/sabatini/rich/analysis/faceRhythm/mouse_0322N/run_20230701/20230430/jobNum_0/analysis_files/Dataset_videos.h5   to   /media/rich/bigSSD/analysis_data/face_rhythm/mouse_0322N/run_20230701/20230430/jobNum_0/analysis_files/Dataset_videos.h5\n",
      "downloading /n/data1/hms/neurobio/sabatini/rich/analysis/faceRhythm/mouse_0322N/run_20230701/20230430/jobNum_0/pipeline_basic.py   to   /media/rich/bigSSD/analysis_data/face_rhythm/mouse_0322N/run_20230701/20230430/jobNum_0/pipeline_basic.py\n",
      "downloading /n/data1/hms/neurobio/sabatini/rich/analysis/faceRhythm/mouse_0322N/run_20230701/20230430/jobNum_0/run_info.json   to   /media/rich/bigSSD/analysis_data/face_rhythm/mouse_0322N/run_20230701/20230430/jobNum_0/run_info.json\n",
      "downloading /n/data1/hms/neurobio/sabatini/rich/analysis/faceRhythm/mouse_0322N/run_20230701/20230430/jobNum_0/sbatch_config.sh   to   /media/rich/bigSSD/analysis_data/face_rhythm/mouse_0322N/run_20230701/20230430/jobNum_0/sbatch_config.sh\n",
      "downloading /n/data1/hms/neurobio/sabatini/rich/analysis/faceRhythm/mouse_0322N/run_20230701/20230430/jobNum_0/print_log_12020994.log   to   /media/rich/bigSSD/analysis_data/face_rhythm/mouse_0322N/run_20230701/20230430/jobNum_0/print_log_12020994.log\n",
      "downloading /n/data1/hms/neurobio/sabatini/rich/analysis/faceRhythm/mouse_0322N/run_20230701/20230430/jobNum_0/print_log_12079556.log   to   /media/rich/bigSSD/analysis_data/face_rhythm/mouse_0322N/run_20230701/20230430/jobNum_0/print_log_12079556.log\n",
      "downloading /n/data1/hms/neurobio/sabatini/rich/analysis/faceRhythm/mouse_0322N/run_20230701/20230430/jobNum_0/print_log_12078565.log   to   /media/rich/bigSSD/analysis_data/face_rhythm/mouse_0322N/run_20230701/20230430/jobNum_0/print_log_12078565.log\n",
      "downloading /n/data1/hms/neurobio/sabatini/rich/analysis/faceRhythm/mouse_0322N/run_20230701/20230430/aligned_TCA/parameters_batch.json   to   /media/rich/bigSSD/analysis_data/face_rhythm/mouse_0322N/run_20230701/20230430/aligned_TCA/parameters_batch.json\n",
      "downloading /n/data1/hms/neurobio/sabatini/rich/analysis/faceRhythm/mouse_0322N/run_20230701/20230430/aligned_TCA/jobNum_0/tca_refit.h5   to   /media/rich/bigSSD/analysis_data/face_rhythm/mouse_0322N/run_20230701/20230430/aligned_TCA/jobNum_0/tca_refit.h5\n",
      "downloading /n/data1/hms/neurobio/sabatini/rich/analysis/faceRhythm/mouse_0322N/run_20230701/20230430/aligned_TCA/jobNum_0/params.json   to   /media/rich/bigSSD/analysis_data/face_rhythm/mouse_0322N/run_20230701/20230430/aligned_TCA/jobNum_0/params.json\n",
      "downloading /n/data1/hms/neurobio/sabatini/rich/analysis/faceRhythm/mouse_0322N/run_20230701/20230430/aligned_TCA/jobNum_0/print_log_12685194.log   to   /media/rich/bigSSD/analysis_data/face_rhythm/mouse_0322N/run_20230701/20230430/aligned_TCA/jobNum_0/print_log_12685194.log\n",
      "downloading /n/data1/hms/neurobio/sabatini/rich/analysis/faceRhythm/mouse_0322N/run_20230701/20230430/aligned_TCA/jobNum_0/1_make_consistent_fr_factors.py   to   /media/rich/bigSSD/analysis_data/face_rhythm/mouse_0322N/run_20230701/20230430/aligned_TCA/jobNum_0/1_make_consistent_fr_factors.py\n",
      "downloading /n/data1/hms/neurobio/sabatini/rich/analysis/faceRhythm/mouse_0322N/run_20230701/20230430/aligned_TCA/jobNum_0/sbatch_config.sh   to   /media/rich/bigSSD/analysis_data/face_rhythm/mouse_0322N/run_20230701/20230430/aligned_TCA/jobNum_0/sbatch_config.sh\n",
      "downloading /n/data1/hms/neurobio/sabatini/rich/analysis/faceRhythm/mouse_0322N/run_20230701/20230430/aligned_TCA/1_make_consistent_fr_factors.py   to   /media/rich/bigSSD/analysis_data/face_rhythm/mouse_0322N/run_20230701/20230430/aligned_TCA/1_make_consistent_fr_factors.py\n",
      "downloading /n/data1/hms/neurobio/sabatini/rich/analysis/faceRhythm/mouse_0322N/run_20230701/20230430/aligned_TCA/dispatcher.py   to   /media/rich/bigSSD/analysis_data/face_rhythm/mouse_0322N/run_20230701/20230430/aligned_TCA/dispatcher.py\n",
      "downloading /n/data1/hms/neurobio/sabatini/rich/analysis/faceRhythm/mouse_0322N/run_20230701/20230430/aligned_TCA/notes.txt   to   /media/rich/bigSSD/analysis_data/face_rhythm/mouse_0322N/run_20230701/20230430/aligned_TCA/notes.txt\n",
      "downloading /n/data1/hms/neurobio/sabatini/rich/analysis/faceRhythm/mouse_0322N/run_20230701/20230430/pipeline_basic.py   to   /media/rich/bigSSD/analysis_data/face_rhythm/mouse_0322N/run_20230701/20230430/pipeline_basic.py\n",
      "downloading /n/data1/hms/neurobio/sabatini/rich/analysis/faceRhythm/mouse_0322N/run_20230701/20230430/dispatcher.py   to   /media/rich/bigSSD/analysis_data/face_rhythm/mouse_0322N/run_20230701/20230430/dispatcher.py\n",
      "downloading /n/data1/hms/neurobio/sabatini/rich/analysis/faceRhythm/mouse_0322N/run_20230701/20230430/notes.txt   to   /media/rich/bigSSD/analysis_data/face_rhythm/mouse_0322N/run_20230701/20230430/notes.txt\n",
      "downloading /n/data1/hms/neurobio/sabatini/rich/analysis/faceRhythm/mouse_0322N/run_20230701/20230528/parameters_batch.json   to   /media/rich/bigSSD/analysis_data/face_rhythm/mouse_0322N/run_20230701/20230528/parameters_batch.json\n"
     ]
    },
    {
     "name": "stdout",
     "output_type": "stream",
     "text": [
      "downloading /n/data1/hms/neurobio/sabatini/rich/analysis/faceRhythm/mouse_0322N/run_20230701/20230528/jobNum_0/params.json   to   /media/rich/bigSSD/analysis_data/face_rhythm/mouse_0322N/run_20230701/20230528/jobNum_0/params.json\n",
      "downloading /n/data1/hms/neurobio/sabatini/rich/analysis/faceRhythm/mouse_0322N/run_20230701/20230528/jobNum_0/config.yaml   to   /media/rich/bigSSD/analysis_data/face_rhythm/mouse_0322N/run_20230701/20230528/jobNum_0/config.yaml\n",
      "downloading /n/data1/hms/neurobio/sabatini/rich/analysis/faceRhythm/mouse_0322N/run_20230701/20230528/jobNum_0/print_log_12021002.log   to   /media/rich/bigSSD/analysis_data/face_rhythm/mouse_0322N/run_20230701/20230528/jobNum_0/print_log_12021002.log\n",
      "downloading /n/data1/hms/neurobio/sabatini/rich/analysis/faceRhythm/mouse_0322N/run_20230701/20230528/jobNum_0/cpu_tracker.csv   to   /media/rich/bigSSD/analysis_data/face_rhythm/mouse_0322N/run_20230701/20230528/jobNum_0/cpu_tracker.csv\n",
      "downloading /n/data1/hms/neurobio/sabatini/rich/analysis/faceRhythm/mouse_0322N/run_20230701/20230528/jobNum_0/print_log_12079396.log   to   /media/rich/bigSSD/analysis_data/face_rhythm/mouse_0322N/run_20230701/20230528/jobNum_0/print_log_12079396.log\n",
      "downloading /n/data1/hms/neurobio/sabatini/rich/analysis/faceRhythm/mouse_0322N/run_20230701/20230528/jobNum_0/analysis_files/ROIs.h5   to   /media/rich/bigSSD/analysis_data/face_rhythm/mouse_0322N/run_20230701/20230528/jobNum_0/analysis_files/ROIs.h5\n",
      "downloading /n/data1/hms/neurobio/sabatini/rich/analysis/faceRhythm/mouse_0322N/run_20230701/20230528/jobNum_0/analysis_files/TCA.h5   to   /media/rich/bigSSD/analysis_data/face_rhythm/mouse_0322N/run_20230701/20230528/jobNum_0/analysis_files/TCA.h5\n",
      "downloading /n/data1/hms/neurobio/sabatini/rich/analysis/faceRhythm/mouse_0322N/run_20230701/20230528/jobNum_0/analysis_files/PointTracker.h5   to   /media/rich/bigSSD/analysis_data/face_rhythm/mouse_0322N/run_20230701/20230528/jobNum_0/analysis_files/PointTracker.h5\n",
      "downloading /n/data1/hms/neurobio/sabatini/rich/analysis/faceRhythm/mouse_0322N/run_20230701/20230528/jobNum_0/analysis_files/VQT_Analyzer.h5   to   /media/rich/bigSSD/analysis_data/face_rhythm/mouse_0322N/run_20230701/20230528/jobNum_0/analysis_files/VQT_Analyzer.h5\n",
      "downloading /n/data1/hms/neurobio/sabatini/rich/analysis/faceRhythm/mouse_0322N/run_20230701/20230528/jobNum_0/analysis_files/Dataset_videos.h5   to   /media/rich/bigSSD/analysis_data/face_rhythm/mouse_0322N/run_20230701/20230528/jobNum_0/analysis_files/Dataset_videos.h5\n",
      "downloading /n/data1/hms/neurobio/sabatini/rich/analysis/faceRhythm/mouse_0322N/run_20230701/20230528/jobNum_0/pipeline_basic.py   to   /media/rich/bigSSD/analysis_data/face_rhythm/mouse_0322N/run_20230701/20230528/jobNum_0/pipeline_basic.py\n",
      "downloading /n/data1/hms/neurobio/sabatini/rich/analysis/faceRhythm/mouse_0322N/run_20230701/20230528/jobNum_0/run_info.json   to   /media/rich/bigSSD/analysis_data/face_rhythm/mouse_0322N/run_20230701/20230528/jobNum_0/run_info.json\n",
      "downloading /n/data1/hms/neurobio/sabatini/rich/analysis/faceRhythm/mouse_0322N/run_20230701/20230528/jobNum_0/sbatch_config.sh   to   /media/rich/bigSSD/analysis_data/face_rhythm/mouse_0322N/run_20230701/20230528/jobNum_0/sbatch_config.sh\n",
      "downloading /n/data1/hms/neurobio/sabatini/rich/analysis/faceRhythm/mouse_0322N/run_20230701/20230528/aligned_TCA/parameters_batch.json   to   /media/rich/bigSSD/analysis_data/face_rhythm/mouse_0322N/run_20230701/20230528/aligned_TCA/parameters_batch.json\n",
      "downloading /n/data1/hms/neurobio/sabatini/rich/analysis/faceRhythm/mouse_0322N/run_20230701/20230528/aligned_TCA/jobNum_0/tca_refit.h5   to   /media/rich/bigSSD/analysis_data/face_rhythm/mouse_0322N/run_20230701/20230528/aligned_TCA/jobNum_0/tca_refit.h5\n",
      "downloading /n/data1/hms/neurobio/sabatini/rich/analysis/faceRhythm/mouse_0322N/run_20230701/20230528/aligned_TCA/jobNum_0/params.json   to   /media/rich/bigSSD/analysis_data/face_rhythm/mouse_0322N/run_20230701/20230528/aligned_TCA/jobNum_0/params.json\n",
      "downloading /n/data1/hms/neurobio/sabatini/rich/analysis/faceRhythm/mouse_0322N/run_20230701/20230528/aligned_TCA/jobNum_0/1_make_consistent_fr_factors.py   to   /media/rich/bigSSD/analysis_data/face_rhythm/mouse_0322N/run_20230701/20230528/aligned_TCA/jobNum_0/1_make_consistent_fr_factors.py\n",
      "downloading /n/data1/hms/neurobio/sabatini/rich/analysis/faceRhythm/mouse_0322N/run_20230701/20230528/aligned_TCA/jobNum_0/sbatch_config.sh   to   /media/rich/bigSSD/analysis_data/face_rhythm/mouse_0322N/run_20230701/20230528/aligned_TCA/jobNum_0/sbatch_config.sh\n",
      "downloading /n/data1/hms/neurobio/sabatini/rich/analysis/faceRhythm/mouse_0322N/run_20230701/20230528/aligned_TCA/jobNum_0/print_log_12685366.log   to   /media/rich/bigSSD/analysis_data/face_rhythm/mouse_0322N/run_20230701/20230528/aligned_TCA/jobNum_0/print_log_12685366.log\n",
      "downloading /n/data1/hms/neurobio/sabatini/rich/analysis/faceRhythm/mouse_0322N/run_20230701/20230528/aligned_TCA/1_make_consistent_fr_factors.py   to   /media/rich/bigSSD/analysis_data/face_rhythm/mouse_0322N/run_20230701/20230528/aligned_TCA/1_make_consistent_fr_factors.py\n",
      "downloading /n/data1/hms/neurobio/sabatini/rich/analysis/faceRhythm/mouse_0322N/run_20230701/20230528/aligned_TCA/dispatcher.py   to   /media/rich/bigSSD/analysis_data/face_rhythm/mouse_0322N/run_20230701/20230528/aligned_TCA/dispatcher.py\n",
      "downloading /n/data1/hms/neurobio/sabatini/rich/analysis/faceRhythm/mouse_0322N/run_20230701/20230528/aligned_TCA/notes.txt   to   /media/rich/bigSSD/analysis_data/face_rhythm/mouse_0322N/run_20230701/20230528/aligned_TCA/notes.txt\n",
      "downloading /n/data1/hms/neurobio/sabatini/rich/analysis/faceRhythm/mouse_0322N/run_20230701/20230528/pipeline_basic.py   to   /media/rich/bigSSD/analysis_data/face_rhythm/mouse_0322N/run_20230701/20230528/pipeline_basic.py\n",
      "downloading /n/data1/hms/neurobio/sabatini/rich/analysis/faceRhythm/mouse_0322N/run_20230701/20230528/dispatcher.py   to   /media/rich/bigSSD/analysis_data/face_rhythm/mouse_0322N/run_20230701/20230528/dispatcher.py\n",
      "downloading /n/data1/hms/neurobio/sabatini/rich/analysis/faceRhythm/mouse_0322N/run_20230701/20230528/notes.txt   to   /media/rich/bigSSD/analysis_data/face_rhythm/mouse_0322N/run_20230701/20230528/notes.txt\n",
      "downloading /n/data1/hms/neurobio/sabatini/rich/analysis/faceRhythm/mouse_0322N/run_20230701/20230601/parameters_batch.json   to   /media/rich/bigSSD/analysis_data/face_rhythm/mouse_0322N/run_20230701/20230601/parameters_batch.json\n",
      "downloading /n/data1/hms/neurobio/sabatini/rich/analysis/faceRhythm/mouse_0322N/run_20230701/20230601/jobNum_0/params.json   to   /media/rich/bigSSD/analysis_data/face_rhythm/mouse_0322N/run_20230701/20230601/jobNum_0/params.json\n",
      "downloading /n/data1/hms/neurobio/sabatini/rich/analysis/faceRhythm/mouse_0322N/run_20230701/20230601/jobNum_0/config.yaml   to   /media/rich/bigSSD/analysis_data/face_rhythm/mouse_0322N/run_20230701/20230601/jobNum_0/config.yaml\n",
      "downloading /n/data1/hms/neurobio/sabatini/rich/analysis/faceRhythm/mouse_0322N/run_20230701/20230601/jobNum_0/cpu_tracker.csv   to   /media/rich/bigSSD/analysis_data/face_rhythm/mouse_0322N/run_20230701/20230601/jobNum_0/cpu_tracker.csv\n",
      "downloading /n/data1/hms/neurobio/sabatini/rich/analysis/faceRhythm/mouse_0322N/run_20230701/20230601/jobNum_0/print_log_12020919.log   to   /media/rich/bigSSD/analysis_data/face_rhythm/mouse_0322N/run_20230701/20230601/jobNum_0/print_log_12020919.log\n",
      "downloading /n/data1/hms/neurobio/sabatini/rich/analysis/faceRhythm/mouse_0322N/run_20230701/20230601/jobNum_0/analysis_files/ROIs.h5   to   /media/rich/bigSSD/analysis_data/face_rhythm/mouse_0322N/run_20230701/20230601/jobNum_0/analysis_files/ROIs.h5\n",
      "downloading /n/data1/hms/neurobio/sabatini/rich/analysis/faceRhythm/mouse_0322N/run_20230701/20230601/jobNum_0/analysis_files/TCA.h5   to   /media/rich/bigSSD/analysis_data/face_rhythm/mouse_0322N/run_20230701/20230601/jobNum_0/analysis_files/TCA.h5\n",
      "downloading /n/data1/hms/neurobio/sabatini/rich/analysis/faceRhythm/mouse_0322N/run_20230701/20230601/jobNum_0/analysis_files/PointTracker.h5   to   /media/rich/bigSSD/analysis_data/face_rhythm/mouse_0322N/run_20230701/20230601/jobNum_0/analysis_files/PointTracker.h5\n",
      "downloading /n/data1/hms/neurobio/sabatini/rich/analysis/faceRhythm/mouse_0322N/run_20230701/20230601/jobNum_0/analysis_files/VQT_Analyzer.h5   to   /media/rich/bigSSD/analysis_data/face_rhythm/mouse_0322N/run_20230701/20230601/jobNum_0/analysis_files/VQT_Analyzer.h5\n"
     ]
    },
    {
     "name": "stdout",
     "output_type": "stream",
     "text": [
      "downloading /n/data1/hms/neurobio/sabatini/rich/analysis/faceRhythm/mouse_0322N/run_20230701/20230601/jobNum_0/analysis_files/Dataset_videos.h5   to   /media/rich/bigSSD/analysis_data/face_rhythm/mouse_0322N/run_20230701/20230601/jobNum_0/analysis_files/Dataset_videos.h5\n",
      "downloading /n/data1/hms/neurobio/sabatini/rich/analysis/faceRhythm/mouse_0322N/run_20230701/20230601/jobNum_0/pipeline_basic.py   to   /media/rich/bigSSD/analysis_data/face_rhythm/mouse_0322N/run_20230701/20230601/jobNum_0/pipeline_basic.py\n",
      "downloading /n/data1/hms/neurobio/sabatini/rich/analysis/faceRhythm/mouse_0322N/run_20230701/20230601/jobNum_0/run_info.json   to   /media/rich/bigSSD/analysis_data/face_rhythm/mouse_0322N/run_20230701/20230601/jobNum_0/run_info.json\n",
      "downloading /n/data1/hms/neurobio/sabatini/rich/analysis/faceRhythm/mouse_0322N/run_20230701/20230601/jobNum_0/print_log_12079387.log   to   /media/rich/bigSSD/analysis_data/face_rhythm/mouse_0322N/run_20230701/20230601/jobNum_0/print_log_12079387.log\n",
      "downloading /n/data1/hms/neurobio/sabatini/rich/analysis/faceRhythm/mouse_0322N/run_20230701/20230601/jobNum_0/sbatch_config.sh   to   /media/rich/bigSSD/analysis_data/face_rhythm/mouse_0322N/run_20230701/20230601/jobNum_0/sbatch_config.sh\n",
      "downloading /n/data1/hms/neurobio/sabatini/rich/analysis/faceRhythm/mouse_0322N/run_20230701/20230601/aligned_TCA/parameters_batch.json   to   /media/rich/bigSSD/analysis_data/face_rhythm/mouse_0322N/run_20230701/20230601/aligned_TCA/parameters_batch.json\n",
      "downloading /n/data1/hms/neurobio/sabatini/rich/analysis/faceRhythm/mouse_0322N/run_20230701/20230601/aligned_TCA/jobNum_0/tca_refit.h5   to   /media/rich/bigSSD/analysis_data/face_rhythm/mouse_0322N/run_20230701/20230601/aligned_TCA/jobNum_0/tca_refit.h5\n",
      "downloading /n/data1/hms/neurobio/sabatini/rich/analysis/faceRhythm/mouse_0322N/run_20230701/20230601/aligned_TCA/jobNum_0/params.json   to   /media/rich/bigSSD/analysis_data/face_rhythm/mouse_0322N/run_20230701/20230601/aligned_TCA/jobNum_0/params.json\n",
      "downloading /n/data1/hms/neurobio/sabatini/rich/analysis/faceRhythm/mouse_0322N/run_20230701/20230601/aligned_TCA/jobNum_0/1_make_consistent_fr_factors.py   to   /media/rich/bigSSD/analysis_data/face_rhythm/mouse_0322N/run_20230701/20230601/aligned_TCA/jobNum_0/1_make_consistent_fr_factors.py\n",
      "downloading /n/data1/hms/neurobio/sabatini/rich/analysis/faceRhythm/mouse_0322N/run_20230701/20230601/aligned_TCA/jobNum_0/sbatch_config.sh   to   /media/rich/bigSSD/analysis_data/face_rhythm/mouse_0322N/run_20230701/20230601/aligned_TCA/jobNum_0/sbatch_config.sh\n",
      "downloading /n/data1/hms/neurobio/sabatini/rich/analysis/faceRhythm/mouse_0322N/run_20230701/20230601/aligned_TCA/jobNum_0/print_log_12685388.log   to   /media/rich/bigSSD/analysis_data/face_rhythm/mouse_0322N/run_20230701/20230601/aligned_TCA/jobNum_0/print_log_12685388.log\n",
      "downloading /n/data1/hms/neurobio/sabatini/rich/analysis/faceRhythm/mouse_0322N/run_20230701/20230601/aligned_TCA/1_make_consistent_fr_factors.py   to   /media/rich/bigSSD/analysis_data/face_rhythm/mouse_0322N/run_20230701/20230601/aligned_TCA/1_make_consistent_fr_factors.py\n",
      "downloading /n/data1/hms/neurobio/sabatini/rich/analysis/faceRhythm/mouse_0322N/run_20230701/20230601/aligned_TCA/dispatcher.py   to   /media/rich/bigSSD/analysis_data/face_rhythm/mouse_0322N/run_20230701/20230601/aligned_TCA/dispatcher.py\n",
      "downloading /n/data1/hms/neurobio/sabatini/rich/analysis/faceRhythm/mouse_0322N/run_20230701/20230601/aligned_TCA/notes.txt   to   /media/rich/bigSSD/analysis_data/face_rhythm/mouse_0322N/run_20230701/20230601/aligned_TCA/notes.txt\n",
      "downloading /n/data1/hms/neurobio/sabatini/rich/analysis/faceRhythm/mouse_0322N/run_20230701/20230601/pipeline_basic.py   to   /media/rich/bigSSD/analysis_data/face_rhythm/mouse_0322N/run_20230701/20230601/pipeline_basic.py\n",
      "downloading /n/data1/hms/neurobio/sabatini/rich/analysis/faceRhythm/mouse_0322N/run_20230701/20230601/dispatcher.py   to   /media/rich/bigSSD/analysis_data/face_rhythm/mouse_0322N/run_20230701/20230601/dispatcher.py\n",
      "downloading /n/data1/hms/neurobio/sabatini/rich/analysis/faceRhythm/mouse_0322N/run_20230701/20230601/notes.txt   to   /media/rich/bigSSD/analysis_data/face_rhythm/mouse_0322N/run_20230701/20230601/notes.txt\n",
      "downloading /n/data1/hms/neurobio/sabatini/rich/analysis/faceRhythm/mouse_0322N/run_20230701/20230512/parameters_batch.json   to   /media/rich/bigSSD/analysis_data/face_rhythm/mouse_0322N/run_20230701/20230512/parameters_batch.json\n",
      "downloading /n/data1/hms/neurobio/sabatini/rich/analysis/faceRhythm/mouse_0322N/run_20230701/20230512/jobNum_0/print_log_12079380.log   to   /media/rich/bigSSD/analysis_data/face_rhythm/mouse_0322N/run_20230701/20230512/jobNum_0/print_log_12079380.log\n",
      "downloading /n/data1/hms/neurobio/sabatini/rich/analysis/faceRhythm/mouse_0322N/run_20230701/20230512/jobNum_0/params.json   to   /media/rich/bigSSD/analysis_data/face_rhythm/mouse_0322N/run_20230701/20230512/jobNum_0/params.json\n",
      "downloading /n/data1/hms/neurobio/sabatini/rich/analysis/faceRhythm/mouse_0322N/run_20230701/20230512/jobNum_0/config.yaml   to   /media/rich/bigSSD/analysis_data/face_rhythm/mouse_0322N/run_20230701/20230512/jobNum_0/config.yaml\n",
      "downloading /n/data1/hms/neurobio/sabatini/rich/analysis/faceRhythm/mouse_0322N/run_20230701/20230512/jobNum_0/cpu_tracker.csv   to   /media/rich/bigSSD/analysis_data/face_rhythm/mouse_0322N/run_20230701/20230512/jobNum_0/cpu_tracker.csv\n",
      "downloading /n/data1/hms/neurobio/sabatini/rich/analysis/faceRhythm/mouse_0322N/run_20230701/20230512/jobNum_0/print_log_12021005.log   to   /media/rich/bigSSD/analysis_data/face_rhythm/mouse_0322N/run_20230701/20230512/jobNum_0/print_log_12021005.log\n",
      "downloading /n/data1/hms/neurobio/sabatini/rich/analysis/faceRhythm/mouse_0322N/run_20230701/20230512/jobNum_0/analysis_files/ROIs.h5   to   /media/rich/bigSSD/analysis_data/face_rhythm/mouse_0322N/run_20230701/20230512/jobNum_0/analysis_files/ROIs.h5\n",
      "downloading /n/data1/hms/neurobio/sabatini/rich/analysis/faceRhythm/mouse_0322N/run_20230701/20230512/jobNum_0/analysis_files/TCA.h5   to   /media/rich/bigSSD/analysis_data/face_rhythm/mouse_0322N/run_20230701/20230512/jobNum_0/analysis_files/TCA.h5\n",
      "downloading /n/data1/hms/neurobio/sabatini/rich/analysis/faceRhythm/mouse_0322N/run_20230701/20230512/jobNum_0/analysis_files/PointTracker.h5   to   /media/rich/bigSSD/analysis_data/face_rhythm/mouse_0322N/run_20230701/20230512/jobNum_0/analysis_files/PointTracker.h5\n",
      "downloading /n/data1/hms/neurobio/sabatini/rich/analysis/faceRhythm/mouse_0322N/run_20230701/20230512/jobNum_0/analysis_files/VQT_Analyzer.h5   to   /media/rich/bigSSD/analysis_data/face_rhythm/mouse_0322N/run_20230701/20230512/jobNum_0/analysis_files/VQT_Analyzer.h5\n",
      "downloading /n/data1/hms/neurobio/sabatini/rich/analysis/faceRhythm/mouse_0322N/run_20230701/20230512/jobNum_0/analysis_files/Dataset_videos.h5   to   /media/rich/bigSSD/analysis_data/face_rhythm/mouse_0322N/run_20230701/20230512/jobNum_0/analysis_files/Dataset_videos.h5\n",
      "downloading /n/data1/hms/neurobio/sabatini/rich/analysis/faceRhythm/mouse_0322N/run_20230701/20230512/jobNum_0/pipeline_basic.py   to   /media/rich/bigSSD/analysis_data/face_rhythm/mouse_0322N/run_20230701/20230512/jobNum_0/pipeline_basic.py\n",
      "downloading /n/data1/hms/neurobio/sabatini/rich/analysis/faceRhythm/mouse_0322N/run_20230701/20230512/jobNum_0/run_info.json   to   /media/rich/bigSSD/analysis_data/face_rhythm/mouse_0322N/run_20230701/20230512/jobNum_0/run_info.json\n",
      "downloading /n/data1/hms/neurobio/sabatini/rich/analysis/faceRhythm/mouse_0322N/run_20230701/20230512/jobNum_0/sbatch_config.sh   to   /media/rich/bigSSD/analysis_data/face_rhythm/mouse_0322N/run_20230701/20230512/jobNum_0/sbatch_config.sh\n",
      "downloading /n/data1/hms/neurobio/sabatini/rich/analysis/faceRhythm/mouse_0322N/run_20230701/20230512/aligned_TCA/parameters_batch.json   to   /media/rich/bigSSD/analysis_data/face_rhythm/mouse_0322N/run_20230701/20230512/aligned_TCA/parameters_batch.json\n",
      "downloading /n/data1/hms/neurobio/sabatini/rich/analysis/faceRhythm/mouse_0322N/run_20230701/20230512/aligned_TCA/jobNum_0/print_log_12693894.log   to   /media/rich/bigSSD/analysis_data/face_rhythm/mouse_0322N/run_20230701/20230512/aligned_TCA/jobNum_0/print_log_12693894.log\n"
     ]
    },
    {
     "name": "stdout",
     "output_type": "stream",
     "text": [
      "downloading /n/data1/hms/neurobio/sabatini/rich/analysis/faceRhythm/mouse_0322N/run_20230701/20230512/aligned_TCA/jobNum_0/print_log_12685269.log   to   /media/rich/bigSSD/analysis_data/face_rhythm/mouse_0322N/run_20230701/20230512/aligned_TCA/jobNum_0/print_log_12685269.log\n",
      "downloading /n/data1/hms/neurobio/sabatini/rich/analysis/faceRhythm/mouse_0322N/run_20230701/20230512/aligned_TCA/jobNum_0/tca_refit.h5   to   /media/rich/bigSSD/analysis_data/face_rhythm/mouse_0322N/run_20230701/20230512/aligned_TCA/jobNum_0/tca_refit.h5\n",
      "downloading /n/data1/hms/neurobio/sabatini/rich/analysis/faceRhythm/mouse_0322N/run_20230701/20230512/aligned_TCA/jobNum_0/params.json   to   /media/rich/bigSSD/analysis_data/face_rhythm/mouse_0322N/run_20230701/20230512/aligned_TCA/jobNum_0/params.json\n",
      "downloading /n/data1/hms/neurobio/sabatini/rich/analysis/faceRhythm/mouse_0322N/run_20230701/20230512/aligned_TCA/jobNum_0/print_log_12693366.log   to   /media/rich/bigSSD/analysis_data/face_rhythm/mouse_0322N/run_20230701/20230512/aligned_TCA/jobNum_0/print_log_12693366.log\n",
      "downloading /n/data1/hms/neurobio/sabatini/rich/analysis/faceRhythm/mouse_0322N/run_20230701/20230512/aligned_TCA/jobNum_0/print_log_12686207.log   to   /media/rich/bigSSD/analysis_data/face_rhythm/mouse_0322N/run_20230701/20230512/aligned_TCA/jobNum_0/print_log_12686207.log\n",
      "downloading /n/data1/hms/neurobio/sabatini/rich/analysis/faceRhythm/mouse_0322N/run_20230701/20230512/aligned_TCA/jobNum_0/1_make_consistent_fr_factors.py   to   /media/rich/bigSSD/analysis_data/face_rhythm/mouse_0322N/run_20230701/20230512/aligned_TCA/jobNum_0/1_make_consistent_fr_factors.py\n",
      "downloading /n/data1/hms/neurobio/sabatini/rich/analysis/faceRhythm/mouse_0322N/run_20230701/20230512/aligned_TCA/jobNum_0/sbatch_config.sh   to   /media/rich/bigSSD/analysis_data/face_rhythm/mouse_0322N/run_20230701/20230512/aligned_TCA/jobNum_0/sbatch_config.sh\n",
      "downloading /n/data1/hms/neurobio/sabatini/rich/analysis/faceRhythm/mouse_0322N/run_20230701/20230512/aligned_TCA/1_make_consistent_fr_factors.py   to   /media/rich/bigSSD/analysis_data/face_rhythm/mouse_0322N/run_20230701/20230512/aligned_TCA/1_make_consistent_fr_factors.py\n",
      "downloading /n/data1/hms/neurobio/sabatini/rich/analysis/faceRhythm/mouse_0322N/run_20230701/20230512/aligned_TCA/dispatcher.py   to   /media/rich/bigSSD/analysis_data/face_rhythm/mouse_0322N/run_20230701/20230512/aligned_TCA/dispatcher.py\n",
      "downloading /n/data1/hms/neurobio/sabatini/rich/analysis/faceRhythm/mouse_0322N/run_20230701/20230512/aligned_TCA/notes.txt   to   /media/rich/bigSSD/analysis_data/face_rhythm/mouse_0322N/run_20230701/20230512/aligned_TCA/notes.txt\n",
      "downloading /n/data1/hms/neurobio/sabatini/rich/analysis/faceRhythm/mouse_0322N/run_20230701/20230512/pipeline_basic.py   to   /media/rich/bigSSD/analysis_data/face_rhythm/mouse_0322N/run_20230701/20230512/pipeline_basic.py\n",
      "downloading /n/data1/hms/neurobio/sabatini/rich/analysis/faceRhythm/mouse_0322N/run_20230701/20230512/dispatcher.py   to   /media/rich/bigSSD/analysis_data/face_rhythm/mouse_0322N/run_20230701/20230512/dispatcher.py\n",
      "downloading /n/data1/hms/neurobio/sabatini/rich/analysis/faceRhythm/mouse_0322N/run_20230701/20230512/notes.txt   to   /media/rich/bigSSD/analysis_data/face_rhythm/mouse_0322N/run_20230701/20230512/notes.txt\n",
      "downloading /n/data1/hms/neurobio/sabatini/rich/analysis/faceRhythm/mouse_0322N/run_20230701/20230510/parameters_batch.json   to   /media/rich/bigSSD/analysis_data/face_rhythm/mouse_0322N/run_20230701/20230510/parameters_batch.json\n",
      "downloading /n/data1/hms/neurobio/sabatini/rich/analysis/faceRhythm/mouse_0322N/run_20230701/20230510/jobNum_0/print_log_12021008.log   to   /media/rich/bigSSD/analysis_data/face_rhythm/mouse_0322N/run_20230701/20230510/jobNum_0/print_log_12021008.log\n",
      "downloading /n/data1/hms/neurobio/sabatini/rich/analysis/faceRhythm/mouse_0322N/run_20230701/20230510/jobNum_0/params.json   to   /media/rich/bigSSD/analysis_data/face_rhythm/mouse_0322N/run_20230701/20230510/jobNum_0/params.json\n",
      "downloading /n/data1/hms/neurobio/sabatini/rich/analysis/faceRhythm/mouse_0322N/run_20230701/20230510/jobNum_0/config.yaml   to   /media/rich/bigSSD/analysis_data/face_rhythm/mouse_0322N/run_20230701/20230510/jobNum_0/config.yaml\n",
      "downloading /n/data1/hms/neurobio/sabatini/rich/analysis/faceRhythm/mouse_0322N/run_20230701/20230510/jobNum_0/cpu_tracker.csv   to   /media/rich/bigSSD/analysis_data/face_rhythm/mouse_0322N/run_20230701/20230510/jobNum_0/cpu_tracker.csv\n",
      "downloading /n/data1/hms/neurobio/sabatini/rich/analysis/faceRhythm/mouse_0322N/run_20230701/20230510/jobNum_0/print_log_12079472.log   to   /media/rich/bigSSD/analysis_data/face_rhythm/mouse_0322N/run_20230701/20230510/jobNum_0/print_log_12079472.log\n",
      "downloading /n/data1/hms/neurobio/sabatini/rich/analysis/faceRhythm/mouse_0322N/run_20230701/20230510/jobNum_0/analysis_files/ROIs.h5   to   /media/rich/bigSSD/analysis_data/face_rhythm/mouse_0322N/run_20230701/20230510/jobNum_0/analysis_files/ROIs.h5\n",
      "downloading /n/data1/hms/neurobio/sabatini/rich/analysis/faceRhythm/mouse_0322N/run_20230701/20230510/jobNum_0/analysis_files/TCA.h5   to   /media/rich/bigSSD/analysis_data/face_rhythm/mouse_0322N/run_20230701/20230510/jobNum_0/analysis_files/TCA.h5\n",
      "downloading /n/data1/hms/neurobio/sabatini/rich/analysis/faceRhythm/mouse_0322N/run_20230701/20230510/jobNum_0/analysis_files/PointTracker.h5   to   /media/rich/bigSSD/analysis_data/face_rhythm/mouse_0322N/run_20230701/20230510/jobNum_0/analysis_files/PointTracker.h5\n",
      "downloading /n/data1/hms/neurobio/sabatini/rich/analysis/faceRhythm/mouse_0322N/run_20230701/20230510/jobNum_0/analysis_files/VQT_Analyzer.h5   to   /media/rich/bigSSD/analysis_data/face_rhythm/mouse_0322N/run_20230701/20230510/jobNum_0/analysis_files/VQT_Analyzer.h5\n",
      "downloading /n/data1/hms/neurobio/sabatini/rich/analysis/faceRhythm/mouse_0322N/run_20230701/20230510/jobNum_0/analysis_files/Dataset_videos.h5   to   /media/rich/bigSSD/analysis_data/face_rhythm/mouse_0322N/run_20230701/20230510/jobNum_0/analysis_files/Dataset_videos.h5\n",
      "downloading /n/data1/hms/neurobio/sabatini/rich/analysis/faceRhythm/mouse_0322N/run_20230701/20230510/jobNum_0/pipeline_basic.py   to   /media/rich/bigSSD/analysis_data/face_rhythm/mouse_0322N/run_20230701/20230510/jobNum_0/pipeline_basic.py\n",
      "downloading /n/data1/hms/neurobio/sabatini/rich/analysis/faceRhythm/mouse_0322N/run_20230701/20230510/jobNum_0/run_info.json   to   /media/rich/bigSSD/analysis_data/face_rhythm/mouse_0322N/run_20230701/20230510/jobNum_0/run_info.json\n",
      "downloading /n/data1/hms/neurobio/sabatini/rich/analysis/faceRhythm/mouse_0322N/run_20230701/20230510/jobNum_0/sbatch_config.sh   to   /media/rich/bigSSD/analysis_data/face_rhythm/mouse_0322N/run_20230701/20230510/jobNum_0/sbatch_config.sh\n",
      "downloading /n/data1/hms/neurobio/sabatini/rich/analysis/faceRhythm/mouse_0322N/run_20230701/20230510/aligned_TCA/parameters_batch.json   to   /media/rich/bigSSD/analysis_data/face_rhythm/mouse_0322N/run_20230701/20230510/aligned_TCA/parameters_batch.json\n",
      "downloading /n/data1/hms/neurobio/sabatini/rich/analysis/faceRhythm/mouse_0322N/run_20230701/20230510/aligned_TCA/jobNum_0/tca_refit.h5   to   /media/rich/bigSSD/analysis_data/face_rhythm/mouse_0322N/run_20230701/20230510/aligned_TCA/jobNum_0/tca_refit.h5\n",
      "downloading /n/data1/hms/neurobio/sabatini/rich/analysis/faceRhythm/mouse_0322N/run_20230701/20230510/aligned_TCA/jobNum_0/params.json   to   /media/rich/bigSSD/analysis_data/face_rhythm/mouse_0322N/run_20230701/20230510/aligned_TCA/jobNum_0/params.json\n",
      "downloading /n/data1/hms/neurobio/sabatini/rich/analysis/faceRhythm/mouse_0322N/run_20230701/20230510/aligned_TCA/jobNum_0/print_log_12693365.log   to   /media/rich/bigSSD/analysis_data/face_rhythm/mouse_0322N/run_20230701/20230510/aligned_TCA/jobNum_0/print_log_12693365.log\n",
      "downloading /n/data1/hms/neurobio/sabatini/rich/analysis/faceRhythm/mouse_0322N/run_20230701/20230510/aligned_TCA/jobNum_0/print_log_12685267.log   to   /media/rich/bigSSD/analysis_data/face_rhythm/mouse_0322N/run_20230701/20230510/aligned_TCA/jobNum_0/print_log_12685267.log\n",
      "downloading /n/data1/hms/neurobio/sabatini/rich/analysis/faceRhythm/mouse_0322N/run_20230701/20230510/aligned_TCA/jobNum_0/1_make_consistent_fr_factors.py   to   /media/rich/bigSSD/analysis_data/face_rhythm/mouse_0322N/run_20230701/20230510/aligned_TCA/jobNum_0/1_make_consistent_fr_factors.py\n",
      "downloading /n/data1/hms/neurobio/sabatini/rich/analysis/faceRhythm/mouse_0322N/run_20230701/20230510/aligned_TCA/jobNum_0/print_log_12686172.log   to   /media/rich/bigSSD/analysis_data/face_rhythm/mouse_0322N/run_20230701/20230510/aligned_TCA/jobNum_0/print_log_12686172.log\n",
      "downloading /n/data1/hms/neurobio/sabatini/rich/analysis/faceRhythm/mouse_0322N/run_20230701/20230510/aligned_TCA/jobNum_0/sbatch_config.sh   to   /media/rich/bigSSD/analysis_data/face_rhythm/mouse_0322N/run_20230701/20230510/aligned_TCA/jobNum_0/sbatch_config.sh\n"
     ]
    },
    {
     "name": "stdout",
     "output_type": "stream",
     "text": [
      "downloading /n/data1/hms/neurobio/sabatini/rich/analysis/faceRhythm/mouse_0322N/run_20230701/20230510/aligned_TCA/jobNum_0/print_log_12693893.log   to   /media/rich/bigSSD/analysis_data/face_rhythm/mouse_0322N/run_20230701/20230510/aligned_TCA/jobNum_0/print_log_12693893.log\n",
      "downloading /n/data1/hms/neurobio/sabatini/rich/analysis/faceRhythm/mouse_0322N/run_20230701/20230510/aligned_TCA/1_make_consistent_fr_factors.py   to   /media/rich/bigSSD/analysis_data/face_rhythm/mouse_0322N/run_20230701/20230510/aligned_TCA/1_make_consistent_fr_factors.py\n",
      "downloading /n/data1/hms/neurobio/sabatini/rich/analysis/faceRhythm/mouse_0322N/run_20230701/20230510/aligned_TCA/dispatcher.py   to   /media/rich/bigSSD/analysis_data/face_rhythm/mouse_0322N/run_20230701/20230510/aligned_TCA/dispatcher.py\n",
      "downloading /n/data1/hms/neurobio/sabatini/rich/analysis/faceRhythm/mouse_0322N/run_20230701/20230510/aligned_TCA/notes.txt   to   /media/rich/bigSSD/analysis_data/face_rhythm/mouse_0322N/run_20230701/20230510/aligned_TCA/notes.txt\n",
      "downloading /n/data1/hms/neurobio/sabatini/rich/analysis/faceRhythm/mouse_0322N/run_20230701/20230510/pipeline_basic.py   to   /media/rich/bigSSD/analysis_data/face_rhythm/mouse_0322N/run_20230701/20230510/pipeline_basic.py\n",
      "downloading /n/data1/hms/neurobio/sabatini/rich/analysis/faceRhythm/mouse_0322N/run_20230701/20230510/dispatcher.py   to   /media/rich/bigSSD/analysis_data/face_rhythm/mouse_0322N/run_20230701/20230510/dispatcher.py\n",
      "downloading /n/data1/hms/neurobio/sabatini/rich/analysis/faceRhythm/mouse_0322N/run_20230701/20230510/notes.txt   to   /media/rich/bigSSD/analysis_data/face_rhythm/mouse_0322N/run_20230701/20230510/notes.txt\n",
      "downloading /n/data1/hms/neurobio/sabatini/rich/analysis/faceRhythm/mouse_0322N/run_20230701/20230511/parameters_batch.json   to   /media/rich/bigSSD/analysis_data/face_rhythm/mouse_0322N/run_20230701/20230511/parameters_batch.json\n",
      "downloading /n/data1/hms/neurobio/sabatini/rich/analysis/faceRhythm/mouse_0322N/run_20230701/20230511/jobNum_0/params.json   to   /media/rich/bigSSD/analysis_data/face_rhythm/mouse_0322N/run_20230701/20230511/jobNum_0/params.json\n",
      "downloading /n/data1/hms/neurobio/sabatini/rich/analysis/faceRhythm/mouse_0322N/run_20230701/20230511/jobNum_0/config.yaml   to   /media/rich/bigSSD/analysis_data/face_rhythm/mouse_0322N/run_20230701/20230511/jobNum_0/config.yaml\n",
      "downloading /n/data1/hms/neurobio/sabatini/rich/analysis/faceRhythm/mouse_0322N/run_20230701/20230511/jobNum_0/cpu_tracker.csv   to   /media/rich/bigSSD/analysis_data/face_rhythm/mouse_0322N/run_20230701/20230511/jobNum_0/cpu_tracker.csv\n",
      "downloading /n/data1/hms/neurobio/sabatini/rich/analysis/faceRhythm/mouse_0322N/run_20230701/20230511/jobNum_0/print_log_12079479.log   to   /media/rich/bigSSD/analysis_data/face_rhythm/mouse_0322N/run_20230701/20230511/jobNum_0/print_log_12079479.log\n",
      "downloading /n/data1/hms/neurobio/sabatini/rich/analysis/faceRhythm/mouse_0322N/run_20230701/20230511/jobNum_0/analysis_files/ROIs.h5   to   /media/rich/bigSSD/analysis_data/face_rhythm/mouse_0322N/run_20230701/20230511/jobNum_0/analysis_files/ROIs.h5\n",
      "downloading /n/data1/hms/neurobio/sabatini/rich/analysis/faceRhythm/mouse_0322N/run_20230701/20230511/jobNum_0/analysis_files/TCA.h5   to   /media/rich/bigSSD/analysis_data/face_rhythm/mouse_0322N/run_20230701/20230511/jobNum_0/analysis_files/TCA.h5\n",
      "downloading /n/data1/hms/neurobio/sabatini/rich/analysis/faceRhythm/mouse_0322N/run_20230701/20230511/jobNum_0/analysis_files/PointTracker.h5   to   /media/rich/bigSSD/analysis_data/face_rhythm/mouse_0322N/run_20230701/20230511/jobNum_0/analysis_files/PointTracker.h5\n",
      "downloading /n/data1/hms/neurobio/sabatini/rich/analysis/faceRhythm/mouse_0322N/run_20230701/20230511/jobNum_0/analysis_files/VQT_Analyzer.h5   to   /media/rich/bigSSD/analysis_data/face_rhythm/mouse_0322N/run_20230701/20230511/jobNum_0/analysis_files/VQT_Analyzer.h5\n",
      "downloading /n/data1/hms/neurobio/sabatini/rich/analysis/faceRhythm/mouse_0322N/run_20230701/20230511/jobNum_0/analysis_files/Dataset_videos.h5   to   /media/rich/bigSSD/analysis_data/face_rhythm/mouse_0322N/run_20230701/20230511/jobNum_0/analysis_files/Dataset_videos.h5\n",
      "downloading /n/data1/hms/neurobio/sabatini/rich/analysis/faceRhythm/mouse_0322N/run_20230701/20230511/jobNum_0/pipeline_basic.py   to   /media/rich/bigSSD/analysis_data/face_rhythm/mouse_0322N/run_20230701/20230511/jobNum_0/pipeline_basic.py\n",
      "downloading /n/data1/hms/neurobio/sabatini/rich/analysis/faceRhythm/mouse_0322N/run_20230701/20230511/jobNum_0/print_log_12021009.log   to   /media/rich/bigSSD/analysis_data/face_rhythm/mouse_0322N/run_20230701/20230511/jobNum_0/print_log_12021009.log\n",
      "downloading /n/data1/hms/neurobio/sabatini/rich/analysis/faceRhythm/mouse_0322N/run_20230701/20230511/jobNum_0/run_info.json   to   /media/rich/bigSSD/analysis_data/face_rhythm/mouse_0322N/run_20230701/20230511/jobNum_0/run_info.json\n",
      "downloading /n/data1/hms/neurobio/sabatini/rich/analysis/faceRhythm/mouse_0322N/run_20230701/20230511/jobNum_0/sbatch_config.sh   to   /media/rich/bigSSD/analysis_data/face_rhythm/mouse_0322N/run_20230701/20230511/jobNum_0/sbatch_config.sh\n",
      "downloading /n/data1/hms/neurobio/sabatini/rich/analysis/faceRhythm/mouse_0322N/run_20230701/20230511/aligned_TCA/parameters_batch.json   to   /media/rich/bigSSD/analysis_data/face_rhythm/mouse_0322N/run_20230701/20230511/aligned_TCA/parameters_batch.json\n",
      "downloading /n/data1/hms/neurobio/sabatini/rich/analysis/faceRhythm/mouse_0322N/run_20230701/20230511/aligned_TCA/jobNum_0/tca_refit.h5   to   /media/rich/bigSSD/analysis_data/face_rhythm/mouse_0322N/run_20230701/20230511/aligned_TCA/jobNum_0/tca_refit.h5\n",
      "downloading /n/data1/hms/neurobio/sabatini/rich/analysis/faceRhythm/mouse_0322N/run_20230701/20230511/aligned_TCA/jobNum_0/print_log_12685268.log   to   /media/rich/bigSSD/analysis_data/face_rhythm/mouse_0322N/run_20230701/20230511/aligned_TCA/jobNum_0/print_log_12685268.log\n",
      "downloading /n/data1/hms/neurobio/sabatini/rich/analysis/faceRhythm/mouse_0322N/run_20230701/20230511/aligned_TCA/jobNum_0/params.json   to   /media/rich/bigSSD/analysis_data/face_rhythm/mouse_0322N/run_20230701/20230511/aligned_TCA/jobNum_0/params.json\n",
      "downloading /n/data1/hms/neurobio/sabatini/rich/analysis/faceRhythm/mouse_0322N/run_20230701/20230511/aligned_TCA/jobNum_0/1_make_consistent_fr_factors.py   to   /media/rich/bigSSD/analysis_data/face_rhythm/mouse_0322N/run_20230701/20230511/aligned_TCA/jobNum_0/1_make_consistent_fr_factors.py\n",
      "downloading /n/data1/hms/neurobio/sabatini/rich/analysis/faceRhythm/mouse_0322N/run_20230701/20230511/aligned_TCA/jobNum_0/sbatch_config.sh   to   /media/rich/bigSSD/analysis_data/face_rhythm/mouse_0322N/run_20230701/20230511/aligned_TCA/jobNum_0/sbatch_config.sh\n",
      "downloading /n/data1/hms/neurobio/sabatini/rich/analysis/faceRhythm/mouse_0322N/run_20230701/20230511/aligned_TCA/1_make_consistent_fr_factors.py   to   /media/rich/bigSSD/analysis_data/face_rhythm/mouse_0322N/run_20230701/20230511/aligned_TCA/1_make_consistent_fr_factors.py\n",
      "downloading /n/data1/hms/neurobio/sabatini/rich/analysis/faceRhythm/mouse_0322N/run_20230701/20230511/aligned_TCA/dispatcher.py   to   /media/rich/bigSSD/analysis_data/face_rhythm/mouse_0322N/run_20230701/20230511/aligned_TCA/dispatcher.py\n",
      "downloading /n/data1/hms/neurobio/sabatini/rich/analysis/faceRhythm/mouse_0322N/run_20230701/20230511/aligned_TCA/notes.txt   to   /media/rich/bigSSD/analysis_data/face_rhythm/mouse_0322N/run_20230701/20230511/aligned_TCA/notes.txt\n",
      "downloading /n/data1/hms/neurobio/sabatini/rich/analysis/faceRhythm/mouse_0322N/run_20230701/20230511/pipeline_basic.py   to   /media/rich/bigSSD/analysis_data/face_rhythm/mouse_0322N/run_20230701/20230511/pipeline_basic.py\n",
      "downloading /n/data1/hms/neurobio/sabatini/rich/analysis/faceRhythm/mouse_0322N/run_20230701/20230511/dispatcher.py   to   /media/rich/bigSSD/analysis_data/face_rhythm/mouse_0322N/run_20230701/20230511/dispatcher.py\n",
      "downloading /n/data1/hms/neurobio/sabatini/rich/analysis/faceRhythm/mouse_0322N/run_20230701/20230511/notes.txt   to   /media/rich/bigSSD/analysis_data/face_rhythm/mouse_0322N/run_20230701/20230511/notes.txt\n",
      "downloading /n/data1/hms/neurobio/sabatini/rich/analysis/faceRhythm/mouse_0322N/run_20230701/20230514/parameters_batch.json   to   /media/rich/bigSSD/analysis_data/face_rhythm/mouse_0322N/run_20230701/20230514/parameters_batch.json\n"
     ]
    },
    {
     "name": "stdout",
     "output_type": "stream",
     "text": [
      "downloading /n/data1/hms/neurobio/sabatini/rich/analysis/faceRhythm/mouse_0322N/run_20230701/20230514/jobNum_0/params.json   to   /media/rich/bigSSD/analysis_data/face_rhythm/mouse_0322N/run_20230701/20230514/jobNum_0/params.json\n",
      "downloading /n/data1/hms/neurobio/sabatini/rich/analysis/faceRhythm/mouse_0322N/run_20230701/20230514/jobNum_0/config.yaml   to   /media/rich/bigSSD/analysis_data/face_rhythm/mouse_0322N/run_20230701/20230514/jobNum_0/config.yaml\n",
      "downloading /n/data1/hms/neurobio/sabatini/rich/analysis/faceRhythm/mouse_0322N/run_20230701/20230514/jobNum_0/cpu_tracker.csv   to   /media/rich/bigSSD/analysis_data/face_rhythm/mouse_0322N/run_20230701/20230514/jobNum_0/cpu_tracker.csv\n",
      "downloading /n/data1/hms/neurobio/sabatini/rich/analysis/faceRhythm/mouse_0322N/run_20230701/20230514/jobNum_0/print_log_12021444.log   to   /media/rich/bigSSD/analysis_data/face_rhythm/mouse_0322N/run_20230701/20230514/jobNum_0/print_log_12021444.log\n",
      "downloading /n/data1/hms/neurobio/sabatini/rich/analysis/faceRhythm/mouse_0322N/run_20230701/20230514/jobNum_0/analysis_files/ROIs.h5   to   /media/rich/bigSSD/analysis_data/face_rhythm/mouse_0322N/run_20230701/20230514/jobNum_0/analysis_files/ROIs.h5\n",
      "downloading /n/data1/hms/neurobio/sabatini/rich/analysis/faceRhythm/mouse_0322N/run_20230701/20230514/jobNum_0/analysis_files/TCA.h5   to   /media/rich/bigSSD/analysis_data/face_rhythm/mouse_0322N/run_20230701/20230514/jobNum_0/analysis_files/TCA.h5\n",
      "downloading /n/data1/hms/neurobio/sabatini/rich/analysis/faceRhythm/mouse_0322N/run_20230701/20230514/jobNum_0/analysis_files/PointTracker.h5   to   /media/rich/bigSSD/analysis_data/face_rhythm/mouse_0322N/run_20230701/20230514/jobNum_0/analysis_files/PointTracker.h5\n",
      "downloading /n/data1/hms/neurobio/sabatini/rich/analysis/faceRhythm/mouse_0322N/run_20230701/20230514/jobNum_0/analysis_files/VQT_Analyzer.h5   to   /media/rich/bigSSD/analysis_data/face_rhythm/mouse_0322N/run_20230701/20230514/jobNum_0/analysis_files/VQT_Analyzer.h5\n",
      "downloading /n/data1/hms/neurobio/sabatini/rich/analysis/faceRhythm/mouse_0322N/run_20230701/20230514/jobNum_0/analysis_files/Dataset_videos.h5   to   /media/rich/bigSSD/analysis_data/face_rhythm/mouse_0322N/run_20230701/20230514/jobNum_0/analysis_files/Dataset_videos.h5\n",
      "downloading /n/data1/hms/neurobio/sabatini/rich/analysis/faceRhythm/mouse_0322N/run_20230701/20230514/jobNum_0/pipeline_basic.py   to   /media/rich/bigSSD/analysis_data/face_rhythm/mouse_0322N/run_20230701/20230514/jobNum_0/pipeline_basic.py\n",
      "downloading /n/data1/hms/neurobio/sabatini/rich/analysis/faceRhythm/mouse_0322N/run_20230701/20230514/jobNum_0/run_info.json   to   /media/rich/bigSSD/analysis_data/face_rhythm/mouse_0322N/run_20230701/20230514/jobNum_0/run_info.json\n",
      "downloading /n/data1/hms/neurobio/sabatini/rich/analysis/faceRhythm/mouse_0322N/run_20230701/20230514/jobNum_0/sbatch_config.sh   to   /media/rich/bigSSD/analysis_data/face_rhythm/mouse_0322N/run_20230701/20230514/jobNum_0/sbatch_config.sh\n",
      "downloading /n/data1/hms/neurobio/sabatini/rich/analysis/faceRhythm/mouse_0322N/run_20230701/20230514/jobNum_0/print_log_12079554.log   to   /media/rich/bigSSD/analysis_data/face_rhythm/mouse_0322N/run_20230701/20230514/jobNum_0/print_log_12079554.log\n",
      "downloading /n/data1/hms/neurobio/sabatini/rich/analysis/faceRhythm/mouse_0322N/run_20230701/20230514/aligned_TCA/parameters_batch.json   to   /media/rich/bigSSD/analysis_data/face_rhythm/mouse_0322N/run_20230701/20230514/aligned_TCA/parameters_batch.json\n",
      "downloading /n/data1/hms/neurobio/sabatini/rich/analysis/faceRhythm/mouse_0322N/run_20230701/20230514/aligned_TCA/jobNum_0/tca_refit.h5   to   /media/rich/bigSSD/analysis_data/face_rhythm/mouse_0322N/run_20230701/20230514/aligned_TCA/jobNum_0/tca_refit.h5\n",
      "downloading /n/data1/hms/neurobio/sabatini/rich/analysis/faceRhythm/mouse_0322N/run_20230701/20230514/aligned_TCA/jobNum_0/params.json   to   /media/rich/bigSSD/analysis_data/face_rhythm/mouse_0322N/run_20230701/20230514/aligned_TCA/jobNum_0/params.json\n",
      "downloading /n/data1/hms/neurobio/sabatini/rich/analysis/faceRhythm/mouse_0322N/run_20230701/20230514/aligned_TCA/jobNum_0/print_log_12685274.log   to   /media/rich/bigSSD/analysis_data/face_rhythm/mouse_0322N/run_20230701/20230514/aligned_TCA/jobNum_0/print_log_12685274.log\n",
      "downloading /n/data1/hms/neurobio/sabatini/rich/analysis/faceRhythm/mouse_0322N/run_20230701/20230514/aligned_TCA/jobNum_0/1_make_consistent_fr_factors.py   to   /media/rich/bigSSD/analysis_data/face_rhythm/mouse_0322N/run_20230701/20230514/aligned_TCA/jobNum_0/1_make_consistent_fr_factors.py\n",
      "downloading /n/data1/hms/neurobio/sabatini/rich/analysis/faceRhythm/mouse_0322N/run_20230701/20230514/aligned_TCA/jobNum_0/sbatch_config.sh   to   /media/rich/bigSSD/analysis_data/face_rhythm/mouse_0322N/run_20230701/20230514/aligned_TCA/jobNum_0/sbatch_config.sh\n",
      "downloading /n/data1/hms/neurobio/sabatini/rich/analysis/faceRhythm/mouse_0322N/run_20230701/20230514/aligned_TCA/1_make_consistent_fr_factors.py   to   /media/rich/bigSSD/analysis_data/face_rhythm/mouse_0322N/run_20230701/20230514/aligned_TCA/1_make_consistent_fr_factors.py\n",
      "downloading /n/data1/hms/neurobio/sabatini/rich/analysis/faceRhythm/mouse_0322N/run_20230701/20230514/aligned_TCA/dispatcher.py   to   /media/rich/bigSSD/analysis_data/face_rhythm/mouse_0322N/run_20230701/20230514/aligned_TCA/dispatcher.py\n",
      "downloading /n/data1/hms/neurobio/sabatini/rich/analysis/faceRhythm/mouse_0322N/run_20230701/20230514/aligned_TCA/notes.txt   to   /media/rich/bigSSD/analysis_data/face_rhythm/mouse_0322N/run_20230701/20230514/aligned_TCA/notes.txt\n",
      "downloading /n/data1/hms/neurobio/sabatini/rich/analysis/faceRhythm/mouse_0322N/run_20230701/20230514/pipeline_basic.py   to   /media/rich/bigSSD/analysis_data/face_rhythm/mouse_0322N/run_20230701/20230514/pipeline_basic.py\n",
      "downloading /n/data1/hms/neurobio/sabatini/rich/analysis/faceRhythm/mouse_0322N/run_20230701/20230514/dispatcher.py   to   /media/rich/bigSSD/analysis_data/face_rhythm/mouse_0322N/run_20230701/20230514/dispatcher.py\n",
      "downloading /n/data1/hms/neurobio/sabatini/rich/analysis/faceRhythm/mouse_0322N/run_20230701/20230514/notes.txt   to   /media/rich/bigSSD/analysis_data/face_rhythm/mouse_0322N/run_20230701/20230514/notes.txt\n",
      "downloading /n/data1/hms/neurobio/sabatini/rich/analysis/faceRhythm/mouse_0322N/run_20230701/20230504/parameters_batch.json   to   /media/rich/bigSSD/analysis_data/face_rhythm/mouse_0322N/run_20230701/20230504/parameters_batch.json\n",
      "downloading /n/data1/hms/neurobio/sabatini/rich/analysis/faceRhythm/mouse_0322N/run_20230701/20230504/jobNum_0/print_log_12079555.log   to   /media/rich/bigSSD/analysis_data/face_rhythm/mouse_0322N/run_20230701/20230504/jobNum_0/print_log_12079555.log\n",
      "downloading /n/data1/hms/neurobio/sabatini/rich/analysis/faceRhythm/mouse_0322N/run_20230701/20230504/jobNum_0/params.json   to   /media/rich/bigSSD/analysis_data/face_rhythm/mouse_0322N/run_20230701/20230504/jobNum_0/params.json\n",
      "downloading /n/data1/hms/neurobio/sabatini/rich/analysis/faceRhythm/mouse_0322N/run_20230701/20230504/jobNum_0/config.yaml   to   /media/rich/bigSSD/analysis_data/face_rhythm/mouse_0322N/run_20230701/20230504/jobNum_0/config.yaml\n",
      "downloading /n/data1/hms/neurobio/sabatini/rich/analysis/faceRhythm/mouse_0322N/run_20230701/20230504/jobNum_0/print_log_12021445.log   to   /media/rich/bigSSD/analysis_data/face_rhythm/mouse_0322N/run_20230701/20230504/jobNum_0/print_log_12021445.log\n",
      "downloading /n/data1/hms/neurobio/sabatini/rich/analysis/faceRhythm/mouse_0322N/run_20230701/20230504/jobNum_0/cpu_tracker.csv   to   /media/rich/bigSSD/analysis_data/face_rhythm/mouse_0322N/run_20230701/20230504/jobNum_0/cpu_tracker.csv\n",
      "downloading /n/data1/hms/neurobio/sabatini/rich/analysis/faceRhythm/mouse_0322N/run_20230701/20230504/jobNum_0/analysis_files/ROIs.h5   to   /media/rich/bigSSD/analysis_data/face_rhythm/mouse_0322N/run_20230701/20230504/jobNum_0/analysis_files/ROIs.h5\n",
      "downloading /n/data1/hms/neurobio/sabatini/rich/analysis/faceRhythm/mouse_0322N/run_20230701/20230504/jobNum_0/analysis_files/TCA.h5   to   /media/rich/bigSSD/analysis_data/face_rhythm/mouse_0322N/run_20230701/20230504/jobNum_0/analysis_files/TCA.h5\n",
      "downloading /n/data1/hms/neurobio/sabatini/rich/analysis/faceRhythm/mouse_0322N/run_20230701/20230504/jobNum_0/analysis_files/PointTracker.h5   to   /media/rich/bigSSD/analysis_data/face_rhythm/mouse_0322N/run_20230701/20230504/jobNum_0/analysis_files/PointTracker.h5\n"
     ]
    },
    {
     "name": "stdout",
     "output_type": "stream",
     "text": [
      "downloading /n/data1/hms/neurobio/sabatini/rich/analysis/faceRhythm/mouse_0322N/run_20230701/20230504/jobNum_0/analysis_files/VQT_Analyzer.h5   to   /media/rich/bigSSD/analysis_data/face_rhythm/mouse_0322N/run_20230701/20230504/jobNum_0/analysis_files/VQT_Analyzer.h5\n",
      "downloading /n/data1/hms/neurobio/sabatini/rich/analysis/faceRhythm/mouse_0322N/run_20230701/20230504/jobNum_0/analysis_files/Dataset_videos.h5   to   /media/rich/bigSSD/analysis_data/face_rhythm/mouse_0322N/run_20230701/20230504/jobNum_0/analysis_files/Dataset_videos.h5\n",
      "downloading /n/data1/hms/neurobio/sabatini/rich/analysis/faceRhythm/mouse_0322N/run_20230701/20230504/jobNum_0/pipeline_basic.py   to   /media/rich/bigSSD/analysis_data/face_rhythm/mouse_0322N/run_20230701/20230504/jobNum_0/pipeline_basic.py\n",
      "downloading /n/data1/hms/neurobio/sabatini/rich/analysis/faceRhythm/mouse_0322N/run_20230701/20230504/jobNum_0/run_info.json   to   /media/rich/bigSSD/analysis_data/face_rhythm/mouse_0322N/run_20230701/20230504/jobNum_0/run_info.json\n",
      "downloading /n/data1/hms/neurobio/sabatini/rich/analysis/faceRhythm/mouse_0322N/run_20230701/20230504/jobNum_0/sbatch_config.sh   to   /media/rich/bigSSD/analysis_data/face_rhythm/mouse_0322N/run_20230701/20230504/jobNum_0/sbatch_config.sh\n",
      "downloading /n/data1/hms/neurobio/sabatini/rich/analysis/faceRhythm/mouse_0322N/run_20230701/20230504/aligned_TCA/parameters_batch.json   to   /media/rich/bigSSD/analysis_data/face_rhythm/mouse_0322N/run_20230701/20230504/aligned_TCA/parameters_batch.json\n",
      "downloading /n/data1/hms/neurobio/sabatini/rich/analysis/faceRhythm/mouse_0322N/run_20230701/20230504/aligned_TCA/jobNum_0/tca_refit.h5   to   /media/rich/bigSSD/analysis_data/face_rhythm/mouse_0322N/run_20230701/20230504/aligned_TCA/jobNum_0/tca_refit.h5\n",
      "downloading /n/data1/hms/neurobio/sabatini/rich/analysis/faceRhythm/mouse_0322N/run_20230701/20230504/aligned_TCA/jobNum_0/params.json   to   /media/rich/bigSSD/analysis_data/face_rhythm/mouse_0322N/run_20230701/20230504/aligned_TCA/jobNum_0/params.json\n",
      "downloading /n/data1/hms/neurobio/sabatini/rich/analysis/faceRhythm/mouse_0322N/run_20230701/20230504/aligned_TCA/jobNum_0/print_log_12685244.log   to   /media/rich/bigSSD/analysis_data/face_rhythm/mouse_0322N/run_20230701/20230504/aligned_TCA/jobNum_0/print_log_12685244.log\n",
      "downloading /n/data1/hms/neurobio/sabatini/rich/analysis/faceRhythm/mouse_0322N/run_20230701/20230504/aligned_TCA/jobNum_0/1_make_consistent_fr_factors.py   to   /media/rich/bigSSD/analysis_data/face_rhythm/mouse_0322N/run_20230701/20230504/aligned_TCA/jobNum_0/1_make_consistent_fr_factors.py\n",
      "downloading /n/data1/hms/neurobio/sabatini/rich/analysis/faceRhythm/mouse_0322N/run_20230701/20230504/aligned_TCA/jobNum_0/sbatch_config.sh   to   /media/rich/bigSSD/analysis_data/face_rhythm/mouse_0322N/run_20230701/20230504/aligned_TCA/jobNum_0/sbatch_config.sh\n",
      "downloading /n/data1/hms/neurobio/sabatini/rich/analysis/faceRhythm/mouse_0322N/run_20230701/20230504/aligned_TCA/1_make_consistent_fr_factors.py   to   /media/rich/bigSSD/analysis_data/face_rhythm/mouse_0322N/run_20230701/20230504/aligned_TCA/1_make_consistent_fr_factors.py\n",
      "downloading /n/data1/hms/neurobio/sabatini/rich/analysis/faceRhythm/mouse_0322N/run_20230701/20230504/aligned_TCA/dispatcher.py   to   /media/rich/bigSSD/analysis_data/face_rhythm/mouse_0322N/run_20230701/20230504/aligned_TCA/dispatcher.py\n",
      "downloading /n/data1/hms/neurobio/sabatini/rich/analysis/faceRhythm/mouse_0322N/run_20230701/20230504/aligned_TCA/notes.txt   to   /media/rich/bigSSD/analysis_data/face_rhythm/mouse_0322N/run_20230701/20230504/aligned_TCA/notes.txt\n",
      "downloading /n/data1/hms/neurobio/sabatini/rich/analysis/faceRhythm/mouse_0322N/run_20230701/20230504/pipeline_basic.py   to   /media/rich/bigSSD/analysis_data/face_rhythm/mouse_0322N/run_20230701/20230504/pipeline_basic.py\n",
      "downloading /n/data1/hms/neurobio/sabatini/rich/analysis/faceRhythm/mouse_0322N/run_20230701/20230504/dispatcher.py   to   /media/rich/bigSSD/analysis_data/face_rhythm/mouse_0322N/run_20230701/20230504/dispatcher.py\n",
      "downloading /n/data1/hms/neurobio/sabatini/rich/analysis/faceRhythm/mouse_0322N/run_20230701/20230504/notes.txt   to   /media/rich/bigSSD/analysis_data/face_rhythm/mouse_0322N/run_20230701/20230504/notes.txt\n",
      "downloading /n/data1/hms/neurobio/sabatini/rich/analysis/faceRhythm/mouse_0322N/run_20230701/20230507/parameters_batch.json   to   /media/rich/bigSSD/analysis_data/face_rhythm/mouse_0322N/run_20230701/20230507/parameters_batch.json\n",
      "downloading /n/data1/hms/neurobio/sabatini/rich/analysis/faceRhythm/mouse_0322N/run_20230701/20230507/jobNum_0/print_log_12020809.log   to   /media/rich/bigSSD/analysis_data/face_rhythm/mouse_0322N/run_20230701/20230507/jobNum_0/print_log_12020809.log\n",
      "downloading /n/data1/hms/neurobio/sabatini/rich/analysis/faceRhythm/mouse_0322N/run_20230701/20230507/jobNum_0/params.json   to   /media/rich/bigSSD/analysis_data/face_rhythm/mouse_0322N/run_20230701/20230507/jobNum_0/params.json\n",
      "downloading /n/data1/hms/neurobio/sabatini/rich/analysis/faceRhythm/mouse_0322N/run_20230701/20230507/jobNum_0/print_log_12079312.log   to   /media/rich/bigSSD/analysis_data/face_rhythm/mouse_0322N/run_20230701/20230507/jobNum_0/print_log_12079312.log\n",
      "downloading /n/data1/hms/neurobio/sabatini/rich/analysis/faceRhythm/mouse_0322N/run_20230701/20230507/jobNum_0/config.yaml   to   /media/rich/bigSSD/analysis_data/face_rhythm/mouse_0322N/run_20230701/20230507/jobNum_0/config.yaml\n",
      "downloading /n/data1/hms/neurobio/sabatini/rich/analysis/faceRhythm/mouse_0322N/run_20230701/20230507/jobNum_0/cpu_tracker.csv   to   /media/rich/bigSSD/analysis_data/face_rhythm/mouse_0322N/run_20230701/20230507/jobNum_0/cpu_tracker.csv\n",
      "downloading /n/data1/hms/neurobio/sabatini/rich/analysis/faceRhythm/mouse_0322N/run_20230701/20230507/jobNum_0/analysis_files/ROIs.h5   to   /media/rich/bigSSD/analysis_data/face_rhythm/mouse_0322N/run_20230701/20230507/jobNum_0/analysis_files/ROIs.h5\n",
      "downloading /n/data1/hms/neurobio/sabatini/rich/analysis/faceRhythm/mouse_0322N/run_20230701/20230507/jobNum_0/analysis_files/TCA.h5   to   /media/rich/bigSSD/analysis_data/face_rhythm/mouse_0322N/run_20230701/20230507/jobNum_0/analysis_files/TCA.h5\n",
      "downloading /n/data1/hms/neurobio/sabatini/rich/analysis/faceRhythm/mouse_0322N/run_20230701/20230507/jobNum_0/analysis_files/PointTracker.h5   to   /media/rich/bigSSD/analysis_data/face_rhythm/mouse_0322N/run_20230701/20230507/jobNum_0/analysis_files/PointTracker.h5\n",
      "downloading /n/data1/hms/neurobio/sabatini/rich/analysis/faceRhythm/mouse_0322N/run_20230701/20230507/jobNum_0/analysis_files/VQT_Analyzer.h5   to   /media/rich/bigSSD/analysis_data/face_rhythm/mouse_0322N/run_20230701/20230507/jobNum_0/analysis_files/VQT_Analyzer.h5\n",
      "downloading /n/data1/hms/neurobio/sabatini/rich/analysis/faceRhythm/mouse_0322N/run_20230701/20230507/jobNum_0/analysis_files/Dataset_videos.h5   to   /media/rich/bigSSD/analysis_data/face_rhythm/mouse_0322N/run_20230701/20230507/jobNum_0/analysis_files/Dataset_videos.h5\n",
      "downloading /n/data1/hms/neurobio/sabatini/rich/analysis/faceRhythm/mouse_0322N/run_20230701/20230507/jobNum_0/pipeline_basic.py   to   /media/rich/bigSSD/analysis_data/face_rhythm/mouse_0322N/run_20230701/20230507/jobNum_0/pipeline_basic.py\n",
      "downloading /n/data1/hms/neurobio/sabatini/rich/analysis/faceRhythm/mouse_0322N/run_20230701/20230507/jobNum_0/run_info.json   to   /media/rich/bigSSD/analysis_data/face_rhythm/mouse_0322N/run_20230701/20230507/jobNum_0/run_info.json\n",
      "downloading /n/data1/hms/neurobio/sabatini/rich/analysis/faceRhythm/mouse_0322N/run_20230701/20230507/jobNum_0/sbatch_config.sh   to   /media/rich/bigSSD/analysis_data/face_rhythm/mouse_0322N/run_20230701/20230507/jobNum_0/sbatch_config.sh\n",
      "downloading /n/data1/hms/neurobio/sabatini/rich/analysis/faceRhythm/mouse_0322N/run_20230701/20230507/aligned_TCA/parameters_batch.json   to   /media/rich/bigSSD/analysis_data/face_rhythm/mouse_0322N/run_20230701/20230507/aligned_TCA/parameters_batch.json\n",
      "downloading /n/data1/hms/neurobio/sabatini/rich/analysis/faceRhythm/mouse_0322N/run_20230701/20230507/aligned_TCA/jobNum_0/tca_refit.h5   to   /media/rich/bigSSD/analysis_data/face_rhythm/mouse_0322N/run_20230701/20230507/aligned_TCA/jobNum_0/tca_refit.h5\n"
     ]
    },
    {
     "name": "stdout",
     "output_type": "stream",
     "text": [
      "downloading /n/data1/hms/neurobio/sabatini/rich/analysis/faceRhythm/mouse_0322N/run_20230701/20230507/aligned_TCA/jobNum_0/params.json   to   /media/rich/bigSSD/analysis_data/face_rhythm/mouse_0322N/run_20230701/20230507/aligned_TCA/jobNum_0/params.json\n",
      "downloading /n/data1/hms/neurobio/sabatini/rich/analysis/faceRhythm/mouse_0322N/run_20230701/20230507/aligned_TCA/jobNum_0/print_log_12685264.log   to   /media/rich/bigSSD/analysis_data/face_rhythm/mouse_0322N/run_20230701/20230507/aligned_TCA/jobNum_0/print_log_12685264.log\n",
      "downloading /n/data1/hms/neurobio/sabatini/rich/analysis/faceRhythm/mouse_0322N/run_20230701/20230507/aligned_TCA/jobNum_0/1_make_consistent_fr_factors.py   to   /media/rich/bigSSD/analysis_data/face_rhythm/mouse_0322N/run_20230701/20230507/aligned_TCA/jobNum_0/1_make_consistent_fr_factors.py\n",
      "downloading /n/data1/hms/neurobio/sabatini/rich/analysis/faceRhythm/mouse_0322N/run_20230701/20230507/aligned_TCA/jobNum_0/sbatch_config.sh   to   /media/rich/bigSSD/analysis_data/face_rhythm/mouse_0322N/run_20230701/20230507/aligned_TCA/jobNum_0/sbatch_config.sh\n",
      "downloading /n/data1/hms/neurobio/sabatini/rich/analysis/faceRhythm/mouse_0322N/run_20230701/20230507/aligned_TCA/1_make_consistent_fr_factors.py   to   /media/rich/bigSSD/analysis_data/face_rhythm/mouse_0322N/run_20230701/20230507/aligned_TCA/1_make_consistent_fr_factors.py\n",
      "downloading /n/data1/hms/neurobio/sabatini/rich/analysis/faceRhythm/mouse_0322N/run_20230701/20230507/aligned_TCA/dispatcher.py   to   /media/rich/bigSSD/analysis_data/face_rhythm/mouse_0322N/run_20230701/20230507/aligned_TCA/dispatcher.py\n",
      "downloading /n/data1/hms/neurobio/sabatini/rich/analysis/faceRhythm/mouse_0322N/run_20230701/20230507/aligned_TCA/notes.txt   to   /media/rich/bigSSD/analysis_data/face_rhythm/mouse_0322N/run_20230701/20230507/aligned_TCA/notes.txt\n",
      "downloading /n/data1/hms/neurobio/sabatini/rich/analysis/faceRhythm/mouse_0322N/run_20230701/20230507/pipeline_basic.py   to   /media/rich/bigSSD/analysis_data/face_rhythm/mouse_0322N/run_20230701/20230507/pipeline_basic.py\n",
      "downloading /n/data1/hms/neurobio/sabatini/rich/analysis/faceRhythm/mouse_0322N/run_20230701/20230507/dispatcher.py   to   /media/rich/bigSSD/analysis_data/face_rhythm/mouse_0322N/run_20230701/20230507/dispatcher.py\n",
      "downloading /n/data1/hms/neurobio/sabatini/rich/analysis/faceRhythm/mouse_0322N/run_20230701/20230507/notes.txt   to   /media/rich/bigSSD/analysis_data/face_rhythm/mouse_0322N/run_20230701/20230507/notes.txt\n",
      "downloading /n/data1/hms/neurobio/sabatini/rich/analysis/faceRhythm/mouse_0322N/run_20230701/20230525/parameters_batch.json   to   /media/rich/bigSSD/analysis_data/face_rhythm/mouse_0322N/run_20230701/20230525/parameters_batch.json\n",
      "downloading /n/data1/hms/neurobio/sabatini/rich/analysis/faceRhythm/mouse_0322N/run_20230701/20230525/jobNum_0/params.json   to   /media/rich/bigSSD/analysis_data/face_rhythm/mouse_0322N/run_20230701/20230525/jobNum_0/params.json\n",
      "downloading /n/data1/hms/neurobio/sabatini/rich/analysis/faceRhythm/mouse_0322N/run_20230701/20230525/jobNum_0/config.yaml   to   /media/rich/bigSSD/analysis_data/face_rhythm/mouse_0322N/run_20230701/20230525/jobNum_0/config.yaml\n",
      "downloading /n/data1/hms/neurobio/sabatini/rich/analysis/faceRhythm/mouse_0322N/run_20230701/20230525/jobNum_0/cpu_tracker.csv   to   /media/rich/bigSSD/analysis_data/face_rhythm/mouse_0322N/run_20230701/20230525/jobNum_0/cpu_tracker.csv\n",
      "downloading /n/data1/hms/neurobio/sabatini/rich/analysis/faceRhythm/mouse_0322N/run_20230701/20230525/jobNum_0/analysis_files/ROIs.h5   to   /media/rich/bigSSD/analysis_data/face_rhythm/mouse_0322N/run_20230701/20230525/jobNum_0/analysis_files/ROIs.h5\n",
      "downloading /n/data1/hms/neurobio/sabatini/rich/analysis/faceRhythm/mouse_0322N/run_20230701/20230525/jobNum_0/analysis_files/TCA.h5   to   /media/rich/bigSSD/analysis_data/face_rhythm/mouse_0322N/run_20230701/20230525/jobNum_0/analysis_files/TCA.h5\n",
      "downloading /n/data1/hms/neurobio/sabatini/rich/analysis/faceRhythm/mouse_0322N/run_20230701/20230525/jobNum_0/analysis_files/PointTracker.h5   to   /media/rich/bigSSD/analysis_data/face_rhythm/mouse_0322N/run_20230701/20230525/jobNum_0/analysis_files/PointTracker.h5\n",
      "downloading /n/data1/hms/neurobio/sabatini/rich/analysis/faceRhythm/mouse_0322N/run_20230701/20230525/jobNum_0/analysis_files/VQT_Analyzer.h5   to   /media/rich/bigSSD/analysis_data/face_rhythm/mouse_0322N/run_20230701/20230525/jobNum_0/analysis_files/VQT_Analyzer.h5\n",
      "downloading /n/data1/hms/neurobio/sabatini/rich/analysis/faceRhythm/mouse_0322N/run_20230701/20230525/jobNum_0/analysis_files/Dataset_videos.h5   to   /media/rich/bigSSD/analysis_data/face_rhythm/mouse_0322N/run_20230701/20230525/jobNum_0/analysis_files/Dataset_videos.h5\n",
      "downloading /n/data1/hms/neurobio/sabatini/rich/analysis/faceRhythm/mouse_0322N/run_20230701/20230525/jobNum_0/pipeline_basic.py   to   /media/rich/bigSSD/analysis_data/face_rhythm/mouse_0322N/run_20230701/20230525/jobNum_0/pipeline_basic.py\n",
      "downloading /n/data1/hms/neurobio/sabatini/rich/analysis/faceRhythm/mouse_0322N/run_20230701/20230525/jobNum_0/print_log_12021443.log   to   /media/rich/bigSSD/analysis_data/face_rhythm/mouse_0322N/run_20230701/20230525/jobNum_0/print_log_12021443.log\n",
      "downloading /n/data1/hms/neurobio/sabatini/rich/analysis/faceRhythm/mouse_0322N/run_20230701/20230525/jobNum_0/run_info.json   to   /media/rich/bigSSD/analysis_data/face_rhythm/mouse_0322N/run_20230701/20230525/jobNum_0/run_info.json\n",
      "downloading /n/data1/hms/neurobio/sabatini/rich/analysis/faceRhythm/mouse_0322N/run_20230701/20230525/jobNum_0/sbatch_config.sh   to   /media/rich/bigSSD/analysis_data/face_rhythm/mouse_0322N/run_20230701/20230525/jobNum_0/sbatch_config.sh\n",
      "downloading /n/data1/hms/neurobio/sabatini/rich/analysis/faceRhythm/mouse_0322N/run_20230701/20230525/jobNum_0/print_log_12079552.log   to   /media/rich/bigSSD/analysis_data/face_rhythm/mouse_0322N/run_20230701/20230525/jobNum_0/print_log_12079552.log\n",
      "downloading /n/data1/hms/neurobio/sabatini/rich/analysis/faceRhythm/mouse_0322N/run_20230701/20230525/aligned_TCA/parameters_batch.json   to   /media/rich/bigSSD/analysis_data/face_rhythm/mouse_0322N/run_20230701/20230525/aligned_TCA/parameters_batch.json\n",
      "downloading /n/data1/hms/neurobio/sabatini/rich/analysis/faceRhythm/mouse_0322N/run_20230701/20230525/aligned_TCA/jobNum_0/print_log_12693899.log   to   /media/rich/bigSSD/analysis_data/face_rhythm/mouse_0322N/run_20230701/20230525/aligned_TCA/jobNum_0/print_log_12693899.log\n",
      "downloading /n/data1/hms/neurobio/sabatini/rich/analysis/faceRhythm/mouse_0322N/run_20230701/20230525/aligned_TCA/jobNum_0/tca_refit.h5   to   /media/rich/bigSSD/analysis_data/face_rhythm/mouse_0322N/run_20230701/20230525/aligned_TCA/jobNum_0/tca_refit.h5\n",
      "downloading /n/data1/hms/neurobio/sabatini/rich/analysis/faceRhythm/mouse_0322N/run_20230701/20230525/aligned_TCA/jobNum_0/params.json   to   /media/rich/bigSSD/analysis_data/face_rhythm/mouse_0322N/run_20230701/20230525/aligned_TCA/jobNum_0/params.json\n",
      "downloading /n/data1/hms/neurobio/sabatini/rich/analysis/faceRhythm/mouse_0322N/run_20230701/20230525/aligned_TCA/jobNum_0/print_log_12693371.log   to   /media/rich/bigSSD/analysis_data/face_rhythm/mouse_0322N/run_20230701/20230525/aligned_TCA/jobNum_0/print_log_12693371.log\n",
      "downloading /n/data1/hms/neurobio/sabatini/rich/analysis/faceRhythm/mouse_0322N/run_20230701/20230525/aligned_TCA/jobNum_0/1_make_consistent_fr_factors.py   to   /media/rich/bigSSD/analysis_data/face_rhythm/mouse_0322N/run_20230701/20230525/aligned_TCA/jobNum_0/1_make_consistent_fr_factors.py\n",
      "downloading /n/data1/hms/neurobio/sabatini/rich/analysis/faceRhythm/mouse_0322N/run_20230701/20230525/aligned_TCA/jobNum_0/print_log_12686335.log   to   /media/rich/bigSSD/analysis_data/face_rhythm/mouse_0322N/run_20230701/20230525/aligned_TCA/jobNum_0/print_log_12686335.log\n",
      "downloading /n/data1/hms/neurobio/sabatini/rich/analysis/faceRhythm/mouse_0322N/run_20230701/20230525/aligned_TCA/jobNum_0/sbatch_config.sh   to   /media/rich/bigSSD/analysis_data/face_rhythm/mouse_0322N/run_20230701/20230525/aligned_TCA/jobNum_0/sbatch_config.sh\n",
      "downloading /n/data1/hms/neurobio/sabatini/rich/analysis/faceRhythm/mouse_0322N/run_20230701/20230525/aligned_TCA/jobNum_0/print_log_12685342.log   to   /media/rich/bigSSD/analysis_data/face_rhythm/mouse_0322N/run_20230701/20230525/aligned_TCA/jobNum_0/print_log_12685342.log\n",
      "downloading /n/data1/hms/neurobio/sabatini/rich/analysis/faceRhythm/mouse_0322N/run_20230701/20230525/aligned_TCA/1_make_consistent_fr_factors.py   to   /media/rich/bigSSD/analysis_data/face_rhythm/mouse_0322N/run_20230701/20230525/aligned_TCA/1_make_consistent_fr_factors.py\n"
     ]
    },
    {
     "name": "stdout",
     "output_type": "stream",
     "text": [
      "downloading /n/data1/hms/neurobio/sabatini/rich/analysis/faceRhythm/mouse_0322N/run_20230701/20230525/aligned_TCA/dispatcher.py   to   /media/rich/bigSSD/analysis_data/face_rhythm/mouse_0322N/run_20230701/20230525/aligned_TCA/dispatcher.py\n",
      "downloading /n/data1/hms/neurobio/sabatini/rich/analysis/faceRhythm/mouse_0322N/run_20230701/20230525/aligned_TCA/notes.txt   to   /media/rich/bigSSD/analysis_data/face_rhythm/mouse_0322N/run_20230701/20230525/aligned_TCA/notes.txt\n",
      "downloading /n/data1/hms/neurobio/sabatini/rich/analysis/faceRhythm/mouse_0322N/run_20230701/20230525/pipeline_basic.py   to   /media/rich/bigSSD/analysis_data/face_rhythm/mouse_0322N/run_20230701/20230525/pipeline_basic.py\n",
      "downloading /n/data1/hms/neurobio/sabatini/rich/analysis/faceRhythm/mouse_0322N/run_20230701/20230525/dispatcher.py   to   /media/rich/bigSSD/analysis_data/face_rhythm/mouse_0322N/run_20230701/20230525/dispatcher.py\n",
      "downloading /n/data1/hms/neurobio/sabatini/rich/analysis/faceRhythm/mouse_0322N/run_20230701/20230525/notes.txt   to   /media/rich/bigSSD/analysis_data/face_rhythm/mouse_0322N/run_20230701/20230525/notes.txt\n",
      "downloading /n/data1/hms/neurobio/sabatini/rich/analysis/faceRhythm/mouse_0322N/run_20230701/20230522/parameters_batch.json   to   /media/rich/bigSSD/analysis_data/face_rhythm/mouse_0322N/run_20230701/20230522/parameters_batch.json\n",
      "downloading /n/data1/hms/neurobio/sabatini/rich/analysis/faceRhythm/mouse_0322N/run_20230701/20230522/jobNum_0/print_log_12020861.log   to   /media/rich/bigSSD/analysis_data/face_rhythm/mouse_0322N/run_20230701/20230522/jobNum_0/print_log_12020861.log\n",
      "downloading /n/data1/hms/neurobio/sabatini/rich/analysis/faceRhythm/mouse_0322N/run_20230701/20230522/jobNum_0/params.json   to   /media/rich/bigSSD/analysis_data/face_rhythm/mouse_0322N/run_20230701/20230522/jobNum_0/params.json\n",
      "downloading /n/data1/hms/neurobio/sabatini/rich/analysis/faceRhythm/mouse_0322N/run_20230701/20230522/jobNum_0/config.yaml   to   /media/rich/bigSSD/analysis_data/face_rhythm/mouse_0322N/run_20230701/20230522/jobNum_0/config.yaml\n",
      "downloading /n/data1/hms/neurobio/sabatini/rich/analysis/faceRhythm/mouse_0322N/run_20230701/20230522/jobNum_0/print_log_12079297.log   to   /media/rich/bigSSD/analysis_data/face_rhythm/mouse_0322N/run_20230701/20230522/jobNum_0/print_log_12079297.log\n",
      "downloading /n/data1/hms/neurobio/sabatini/rich/analysis/faceRhythm/mouse_0322N/run_20230701/20230522/jobNum_0/cpu_tracker.csv   to   /media/rich/bigSSD/analysis_data/face_rhythm/mouse_0322N/run_20230701/20230522/jobNum_0/cpu_tracker.csv\n",
      "downloading /n/data1/hms/neurobio/sabatini/rich/analysis/faceRhythm/mouse_0322N/run_20230701/20230522/jobNum_0/analysis_files/ROIs.h5   to   /media/rich/bigSSD/analysis_data/face_rhythm/mouse_0322N/run_20230701/20230522/jobNum_0/analysis_files/ROIs.h5\n",
      "downloading /n/data1/hms/neurobio/sabatini/rich/analysis/faceRhythm/mouse_0322N/run_20230701/20230522/jobNum_0/analysis_files/TCA.h5   to   /media/rich/bigSSD/analysis_data/face_rhythm/mouse_0322N/run_20230701/20230522/jobNum_0/analysis_files/TCA.h5\n",
      "downloading /n/data1/hms/neurobio/sabatini/rich/analysis/faceRhythm/mouse_0322N/run_20230701/20230522/jobNum_0/analysis_files/PointTracker.h5   to   /media/rich/bigSSD/analysis_data/face_rhythm/mouse_0322N/run_20230701/20230522/jobNum_0/analysis_files/PointTracker.h5\n",
      "downloading /n/data1/hms/neurobio/sabatini/rich/analysis/faceRhythm/mouse_0322N/run_20230701/20230522/jobNum_0/analysis_files/VQT_Analyzer.h5   to   /media/rich/bigSSD/analysis_data/face_rhythm/mouse_0322N/run_20230701/20230522/jobNum_0/analysis_files/VQT_Analyzer.h5\n",
      "downloading /n/data1/hms/neurobio/sabatini/rich/analysis/faceRhythm/mouse_0322N/run_20230701/20230522/jobNum_0/analysis_files/Dataset_videos.h5   to   /media/rich/bigSSD/analysis_data/face_rhythm/mouse_0322N/run_20230701/20230522/jobNum_0/analysis_files/Dataset_videos.h5\n",
      "downloading /n/data1/hms/neurobio/sabatini/rich/analysis/faceRhythm/mouse_0322N/run_20230701/20230522/jobNum_0/pipeline_basic.py   to   /media/rich/bigSSD/analysis_data/face_rhythm/mouse_0322N/run_20230701/20230522/jobNum_0/pipeline_basic.py\n",
      "downloading /n/data1/hms/neurobio/sabatini/rich/analysis/faceRhythm/mouse_0322N/run_20230701/20230522/jobNum_0/run_info.json   to   /media/rich/bigSSD/analysis_data/face_rhythm/mouse_0322N/run_20230701/20230522/jobNum_0/run_info.json\n",
      "downloading /n/data1/hms/neurobio/sabatini/rich/analysis/faceRhythm/mouse_0322N/run_20230701/20230522/jobNum_0/sbatch_config.sh   to   /media/rich/bigSSD/analysis_data/face_rhythm/mouse_0322N/run_20230701/20230522/jobNum_0/sbatch_config.sh\n",
      "downloading /n/data1/hms/neurobio/sabatini/rich/analysis/faceRhythm/mouse_0322N/run_20230701/20230522/aligned_TCA/parameters_batch.json   to   /media/rich/bigSSD/analysis_data/face_rhythm/mouse_0322N/run_20230701/20230522/aligned_TCA/parameters_batch.json\n",
      "downloading /n/data1/hms/neurobio/sabatini/rich/analysis/faceRhythm/mouse_0322N/run_20230701/20230522/aligned_TCA/jobNum_0/tca_refit.h5   to   /media/rich/bigSSD/analysis_data/face_rhythm/mouse_0322N/run_20230701/20230522/aligned_TCA/jobNum_0/tca_refit.h5\n",
      "downloading /n/data1/hms/neurobio/sabatini/rich/analysis/faceRhythm/mouse_0322N/run_20230701/20230522/aligned_TCA/jobNum_0/params.json   to   /media/rich/bigSSD/analysis_data/face_rhythm/mouse_0322N/run_20230701/20230522/aligned_TCA/jobNum_0/params.json\n",
      "downloading /n/data1/hms/neurobio/sabatini/rich/analysis/faceRhythm/mouse_0322N/run_20230701/20230522/aligned_TCA/jobNum_0/1_make_consistent_fr_factors.py   to   /media/rich/bigSSD/analysis_data/face_rhythm/mouse_0322N/run_20230701/20230522/aligned_TCA/jobNum_0/1_make_consistent_fr_factors.py\n",
      "downloading /n/data1/hms/neurobio/sabatini/rich/analysis/faceRhythm/mouse_0322N/run_20230701/20230522/aligned_TCA/jobNum_0/sbatch_config.sh   to   /media/rich/bigSSD/analysis_data/face_rhythm/mouse_0322N/run_20230701/20230522/aligned_TCA/jobNum_0/sbatch_config.sh\n",
      "downloading /n/data1/hms/neurobio/sabatini/rich/analysis/faceRhythm/mouse_0322N/run_20230701/20230522/aligned_TCA/jobNum_0/print_log_12685333.log   to   /media/rich/bigSSD/analysis_data/face_rhythm/mouse_0322N/run_20230701/20230522/aligned_TCA/jobNum_0/print_log_12685333.log\n",
      "downloading /n/data1/hms/neurobio/sabatini/rich/analysis/faceRhythm/mouse_0322N/run_20230701/20230522/aligned_TCA/1_make_consistent_fr_factors.py   to   /media/rich/bigSSD/analysis_data/face_rhythm/mouse_0322N/run_20230701/20230522/aligned_TCA/1_make_consistent_fr_factors.py\n",
      "downloading /n/data1/hms/neurobio/sabatini/rich/analysis/faceRhythm/mouse_0322N/run_20230701/20230522/aligned_TCA/dispatcher.py   to   /media/rich/bigSSD/analysis_data/face_rhythm/mouse_0322N/run_20230701/20230522/aligned_TCA/dispatcher.py\n",
      "downloading /n/data1/hms/neurobio/sabatini/rich/analysis/faceRhythm/mouse_0322N/run_20230701/20230522/aligned_TCA/notes.txt   to   /media/rich/bigSSD/analysis_data/face_rhythm/mouse_0322N/run_20230701/20230522/aligned_TCA/notes.txt\n",
      "downloading /n/data1/hms/neurobio/sabatini/rich/analysis/faceRhythm/mouse_0322N/run_20230701/20230522/pipeline_basic.py   to   /media/rich/bigSSD/analysis_data/face_rhythm/mouse_0322N/run_20230701/20230522/pipeline_basic.py\n",
      "downloading /n/data1/hms/neurobio/sabatini/rich/analysis/faceRhythm/mouse_0322N/run_20230701/20230522/dispatcher.py   to   /media/rich/bigSSD/analysis_data/face_rhythm/mouse_0322N/run_20230701/20230522/dispatcher.py\n",
      "downloading /n/data1/hms/neurobio/sabatini/rich/analysis/faceRhythm/mouse_0322N/run_20230701/20230522/notes.txt   to   /media/rich/bigSSD/analysis_data/face_rhythm/mouse_0322N/run_20230701/20230522/notes.txt\n",
      "downloading /n/data1/hms/neurobio/sabatini/rich/analysis/faceRhythm/mouse_0322N/run_20230701/20230526/parameters_batch.json   to   /media/rich/bigSSD/analysis_data/face_rhythm/mouse_0322N/run_20230701/20230526/parameters_batch.json\n",
      "downloading /n/data1/hms/neurobio/sabatini/rich/analysis/faceRhythm/mouse_0322N/run_20230701/20230526/jobNum_0/params.json   to   /media/rich/bigSSD/analysis_data/face_rhythm/mouse_0322N/run_20230701/20230526/jobNum_0/params.json\n",
      "downloading /n/data1/hms/neurobio/sabatini/rich/analysis/faceRhythm/mouse_0322N/run_20230701/20230526/jobNum_0/config.yaml   to   /media/rich/bigSSD/analysis_data/face_rhythm/mouse_0322N/run_20230701/20230526/jobNum_0/config.yaml\n",
      "downloading /n/data1/hms/neurobio/sabatini/rich/analysis/faceRhythm/mouse_0322N/run_20230701/20230526/jobNum_0/cpu_tracker.csv   to   /media/rich/bigSSD/analysis_data/face_rhythm/mouse_0322N/run_20230701/20230526/jobNum_0/cpu_tracker.csv\n"
     ]
    },
    {
     "name": "stdout",
     "output_type": "stream",
     "text": [
      "downloading /n/data1/hms/neurobio/sabatini/rich/analysis/faceRhythm/mouse_0322N/run_20230701/20230526/jobNum_0/print_log_12079470.log   to   /media/rich/bigSSD/analysis_data/face_rhythm/mouse_0322N/run_20230701/20230526/jobNum_0/print_log_12079470.log\n",
      "downloading /n/data1/hms/neurobio/sabatini/rich/analysis/faceRhythm/mouse_0322N/run_20230701/20230526/jobNum_0/analysis_files/ROIs.h5   to   /media/rich/bigSSD/analysis_data/face_rhythm/mouse_0322N/run_20230701/20230526/jobNum_0/analysis_files/ROIs.h5\n",
      "downloading /n/data1/hms/neurobio/sabatini/rich/analysis/faceRhythm/mouse_0322N/run_20230701/20230526/jobNum_0/analysis_files/TCA.h5   to   /media/rich/bigSSD/analysis_data/face_rhythm/mouse_0322N/run_20230701/20230526/jobNum_0/analysis_files/TCA.h5\n",
      "downloading /n/data1/hms/neurobio/sabatini/rich/analysis/faceRhythm/mouse_0322N/run_20230701/20230526/jobNum_0/analysis_files/PointTracker.h5   to   /media/rich/bigSSD/analysis_data/face_rhythm/mouse_0322N/run_20230701/20230526/jobNum_0/analysis_files/PointTracker.h5\n",
      "downloading /n/data1/hms/neurobio/sabatini/rich/analysis/faceRhythm/mouse_0322N/run_20230701/20230526/jobNum_0/analysis_files/VQT_Analyzer.h5   to   /media/rich/bigSSD/analysis_data/face_rhythm/mouse_0322N/run_20230701/20230526/jobNum_0/analysis_files/VQT_Analyzer.h5\n",
      "downloading /n/data1/hms/neurobio/sabatini/rich/analysis/faceRhythm/mouse_0322N/run_20230701/20230526/jobNum_0/analysis_files/Dataset_videos.h5   to   /media/rich/bigSSD/analysis_data/face_rhythm/mouse_0322N/run_20230701/20230526/jobNum_0/analysis_files/Dataset_videos.h5\n",
      "downloading /n/data1/hms/neurobio/sabatini/rich/analysis/faceRhythm/mouse_0322N/run_20230701/20230526/jobNum_0/pipeline_basic.py   to   /media/rich/bigSSD/analysis_data/face_rhythm/mouse_0322N/run_20230701/20230526/jobNum_0/pipeline_basic.py\n",
      "downloading /n/data1/hms/neurobio/sabatini/rich/analysis/faceRhythm/mouse_0322N/run_20230701/20230526/jobNum_0/run_info.json   to   /media/rich/bigSSD/analysis_data/face_rhythm/mouse_0322N/run_20230701/20230526/jobNum_0/run_info.json\n",
      "downloading /n/data1/hms/neurobio/sabatini/rich/analysis/faceRhythm/mouse_0322N/run_20230701/20230526/jobNum_0/sbatch_config.sh   to   /media/rich/bigSSD/analysis_data/face_rhythm/mouse_0322N/run_20230701/20230526/jobNum_0/sbatch_config.sh\n",
      "downloading /n/data1/hms/neurobio/sabatini/rich/analysis/faceRhythm/mouse_0322N/run_20230701/20230526/jobNum_0/print_log_12021007.log   to   /media/rich/bigSSD/analysis_data/face_rhythm/mouse_0322N/run_20230701/20230526/jobNum_0/print_log_12021007.log\n",
      "downloading /n/data1/hms/neurobio/sabatini/rich/analysis/faceRhythm/mouse_0322N/run_20230701/20230526/aligned_TCA/parameters_batch.json   to   /media/rich/bigSSD/analysis_data/face_rhythm/mouse_0322N/run_20230701/20230526/aligned_TCA/parameters_batch.json\n",
      "downloading /n/data1/hms/neurobio/sabatini/rich/analysis/faceRhythm/mouse_0322N/run_20230701/20230526/aligned_TCA/jobNum_0/tca_refit.h5   to   /media/rich/bigSSD/analysis_data/face_rhythm/mouse_0322N/run_20230701/20230526/aligned_TCA/jobNum_0/tca_refit.h5\n",
      "downloading /n/data1/hms/neurobio/sabatini/rich/analysis/faceRhythm/mouse_0322N/run_20230701/20230526/aligned_TCA/jobNum_0/params.json   to   /media/rich/bigSSD/analysis_data/face_rhythm/mouse_0322N/run_20230701/20230526/aligned_TCA/jobNum_0/params.json\n",
      "downloading /n/data1/hms/neurobio/sabatini/rich/analysis/faceRhythm/mouse_0322N/run_20230701/20230526/aligned_TCA/jobNum_0/print_log_12693901.log   to   /media/rich/bigSSD/analysis_data/face_rhythm/mouse_0322N/run_20230701/20230526/aligned_TCA/jobNum_0/print_log_12693901.log\n",
      "downloading /n/data1/hms/neurobio/sabatini/rich/analysis/faceRhythm/mouse_0322N/run_20230701/20230526/aligned_TCA/jobNum_0/print_log_12693372.log   to   /media/rich/bigSSD/analysis_data/face_rhythm/mouse_0322N/run_20230701/20230526/aligned_TCA/jobNum_0/print_log_12693372.log\n",
      "downloading /n/data1/hms/neurobio/sabatini/rich/analysis/faceRhythm/mouse_0322N/run_20230701/20230526/aligned_TCA/jobNum_0/1_make_consistent_fr_factors.py   to   /media/rich/bigSSD/analysis_data/face_rhythm/mouse_0322N/run_20230701/20230526/aligned_TCA/jobNum_0/1_make_consistent_fr_factors.py\n",
      "downloading /n/data1/hms/neurobio/sabatini/rich/analysis/faceRhythm/mouse_0322N/run_20230701/20230526/aligned_TCA/jobNum_0/print_log_12685347.log   to   /media/rich/bigSSD/analysis_data/face_rhythm/mouse_0322N/run_20230701/20230526/aligned_TCA/jobNum_0/print_log_12685347.log\n",
      "downloading /n/data1/hms/neurobio/sabatini/rich/analysis/faceRhythm/mouse_0322N/run_20230701/20230526/aligned_TCA/jobNum_0/print_log_12686377.log   to   /media/rich/bigSSD/analysis_data/face_rhythm/mouse_0322N/run_20230701/20230526/aligned_TCA/jobNum_0/print_log_12686377.log\n",
      "downloading /n/data1/hms/neurobio/sabatini/rich/analysis/faceRhythm/mouse_0322N/run_20230701/20230526/aligned_TCA/jobNum_0/sbatch_config.sh   to   /media/rich/bigSSD/analysis_data/face_rhythm/mouse_0322N/run_20230701/20230526/aligned_TCA/jobNum_0/sbatch_config.sh\n",
      "downloading /n/data1/hms/neurobio/sabatini/rich/analysis/faceRhythm/mouse_0322N/run_20230701/20230526/aligned_TCA/1_make_consistent_fr_factors.py   to   /media/rich/bigSSD/analysis_data/face_rhythm/mouse_0322N/run_20230701/20230526/aligned_TCA/1_make_consistent_fr_factors.py\n",
      "downloading /n/data1/hms/neurobio/sabatini/rich/analysis/faceRhythm/mouse_0322N/run_20230701/20230526/aligned_TCA/dispatcher.py   to   /media/rich/bigSSD/analysis_data/face_rhythm/mouse_0322N/run_20230701/20230526/aligned_TCA/dispatcher.py\n",
      "downloading /n/data1/hms/neurobio/sabatini/rich/analysis/faceRhythm/mouse_0322N/run_20230701/20230526/aligned_TCA/notes.txt   to   /media/rich/bigSSD/analysis_data/face_rhythm/mouse_0322N/run_20230701/20230526/aligned_TCA/notes.txt\n",
      "downloading /n/data1/hms/neurobio/sabatini/rich/analysis/faceRhythm/mouse_0322N/run_20230701/20230526/pipeline_basic.py   to   /media/rich/bigSSD/analysis_data/face_rhythm/mouse_0322N/run_20230701/20230526/pipeline_basic.py\n",
      "downloading /n/data1/hms/neurobio/sabatini/rich/analysis/faceRhythm/mouse_0322N/run_20230701/20230526/dispatcher.py   to   /media/rich/bigSSD/analysis_data/face_rhythm/mouse_0322N/run_20230701/20230526/dispatcher.py\n",
      "downloading /n/data1/hms/neurobio/sabatini/rich/analysis/faceRhythm/mouse_0322N/run_20230701/20230526/notes.txt   to   /media/rich/bigSSD/analysis_data/face_rhythm/mouse_0322N/run_20230701/20230526/notes.txt\n",
      "downloading /n/data1/hms/neurobio/sabatini/rich/analysis/faceRhythm/mouse_0322N/run_20230701/20230521/parameters_batch.json   to   /media/rich/bigSSD/analysis_data/face_rhythm/mouse_0322N/run_20230701/20230521/parameters_batch.json\n",
      "downloading /n/data1/hms/neurobio/sabatini/rich/analysis/faceRhythm/mouse_0322N/run_20230701/20230521/jobNum_0/params.json   to   /media/rich/bigSSD/analysis_data/face_rhythm/mouse_0322N/run_20230701/20230521/jobNum_0/params.json\n",
      "downloading /n/data1/hms/neurobio/sabatini/rich/analysis/faceRhythm/mouse_0322N/run_20230701/20230521/jobNum_0/config.yaml   to   /media/rich/bigSSD/analysis_data/face_rhythm/mouse_0322N/run_20230701/20230521/jobNum_0/config.yaml\n",
      "downloading /n/data1/hms/neurobio/sabatini/rich/analysis/faceRhythm/mouse_0322N/run_20230701/20230521/jobNum_0/print_log_12020864.log   to   /media/rich/bigSSD/analysis_data/face_rhythm/mouse_0322N/run_20230701/20230521/jobNum_0/print_log_12020864.log\n",
      "downloading /n/data1/hms/neurobio/sabatini/rich/analysis/faceRhythm/mouse_0322N/run_20230701/20230521/jobNum_0/cpu_tracker.csv   to   /media/rich/bigSSD/analysis_data/face_rhythm/mouse_0322N/run_20230701/20230521/jobNum_0/cpu_tracker.csv\n",
      "downloading /n/data1/hms/neurobio/sabatini/rich/analysis/faceRhythm/mouse_0322N/run_20230701/20230521/jobNum_0/print_log_12079284.log   to   /media/rich/bigSSD/analysis_data/face_rhythm/mouse_0322N/run_20230701/20230521/jobNum_0/print_log_12079284.log\n",
      "downloading /n/data1/hms/neurobio/sabatini/rich/analysis/faceRhythm/mouse_0322N/run_20230701/20230521/jobNum_0/analysis_files/ROIs.h5   to   /media/rich/bigSSD/analysis_data/face_rhythm/mouse_0322N/run_20230701/20230521/jobNum_0/analysis_files/ROIs.h5\n",
      "downloading /n/data1/hms/neurobio/sabatini/rich/analysis/faceRhythm/mouse_0322N/run_20230701/20230521/jobNum_0/analysis_files/TCA.h5   to   /media/rich/bigSSD/analysis_data/face_rhythm/mouse_0322N/run_20230701/20230521/jobNum_0/analysis_files/TCA.h5\n",
      "downloading /n/data1/hms/neurobio/sabatini/rich/analysis/faceRhythm/mouse_0322N/run_20230701/20230521/jobNum_0/analysis_files/PointTracker.h5   to   /media/rich/bigSSD/analysis_data/face_rhythm/mouse_0322N/run_20230701/20230521/jobNum_0/analysis_files/PointTracker.h5\n"
     ]
    },
    {
     "name": "stdout",
     "output_type": "stream",
     "text": [
      "downloading /n/data1/hms/neurobio/sabatini/rich/analysis/faceRhythm/mouse_0322N/run_20230701/20230521/jobNum_0/analysis_files/VQT_Analyzer.h5   to   /media/rich/bigSSD/analysis_data/face_rhythm/mouse_0322N/run_20230701/20230521/jobNum_0/analysis_files/VQT_Analyzer.h5\n",
      "downloading /n/data1/hms/neurobio/sabatini/rich/analysis/faceRhythm/mouse_0322N/run_20230701/20230521/jobNum_0/analysis_files/Dataset_videos.h5   to   /media/rich/bigSSD/analysis_data/face_rhythm/mouse_0322N/run_20230701/20230521/jobNum_0/analysis_files/Dataset_videos.h5\n",
      "downloading /n/data1/hms/neurobio/sabatini/rich/analysis/faceRhythm/mouse_0322N/run_20230701/20230521/jobNum_0/pipeline_basic.py   to   /media/rich/bigSSD/analysis_data/face_rhythm/mouse_0322N/run_20230701/20230521/jobNum_0/pipeline_basic.py\n",
      "downloading /n/data1/hms/neurobio/sabatini/rich/analysis/faceRhythm/mouse_0322N/run_20230701/20230521/jobNum_0/run_info.json   to   /media/rich/bigSSD/analysis_data/face_rhythm/mouse_0322N/run_20230701/20230521/jobNum_0/run_info.json\n",
      "downloading /n/data1/hms/neurobio/sabatini/rich/analysis/faceRhythm/mouse_0322N/run_20230701/20230521/jobNum_0/sbatch_config.sh   to   /media/rich/bigSSD/analysis_data/face_rhythm/mouse_0322N/run_20230701/20230521/jobNum_0/sbatch_config.sh\n",
      "downloading /n/data1/hms/neurobio/sabatini/rich/analysis/faceRhythm/mouse_0322N/run_20230701/20230521/aligned_TCA/parameters_batch.json   to   /media/rich/bigSSD/analysis_data/face_rhythm/mouse_0322N/run_20230701/20230521/aligned_TCA/parameters_batch.json\n",
      "downloading /n/data1/hms/neurobio/sabatini/rich/analysis/faceRhythm/mouse_0322N/run_20230701/20230521/aligned_TCA/jobNum_0/tca_refit.h5   to   /media/rich/bigSSD/analysis_data/face_rhythm/mouse_0322N/run_20230701/20230521/aligned_TCA/jobNum_0/tca_refit.h5\n",
      "downloading /n/data1/hms/neurobio/sabatini/rich/analysis/faceRhythm/mouse_0322N/run_20230701/20230521/aligned_TCA/jobNum_0/params.json   to   /media/rich/bigSSD/analysis_data/face_rhythm/mouse_0322N/run_20230701/20230521/aligned_TCA/jobNum_0/params.json\n",
      "downloading /n/data1/hms/neurobio/sabatini/rich/analysis/faceRhythm/mouse_0322N/run_20230701/20230521/aligned_TCA/jobNum_0/1_make_consistent_fr_factors.py   to   /media/rich/bigSSD/analysis_data/face_rhythm/mouse_0322N/run_20230701/20230521/aligned_TCA/jobNum_0/1_make_consistent_fr_factors.py\n",
      "downloading /n/data1/hms/neurobio/sabatini/rich/analysis/faceRhythm/mouse_0322N/run_20230701/20230521/aligned_TCA/jobNum_0/print_log_12685332.log   to   /media/rich/bigSSD/analysis_data/face_rhythm/mouse_0322N/run_20230701/20230521/aligned_TCA/jobNum_0/print_log_12685332.log\n",
      "downloading /n/data1/hms/neurobio/sabatini/rich/analysis/faceRhythm/mouse_0322N/run_20230701/20230521/aligned_TCA/jobNum_0/sbatch_config.sh   to   /media/rich/bigSSD/analysis_data/face_rhythm/mouse_0322N/run_20230701/20230521/aligned_TCA/jobNum_0/sbatch_config.sh\n",
      "downloading /n/data1/hms/neurobio/sabatini/rich/analysis/faceRhythm/mouse_0322N/run_20230701/20230521/aligned_TCA/1_make_consistent_fr_factors.py   to   /media/rich/bigSSD/analysis_data/face_rhythm/mouse_0322N/run_20230701/20230521/aligned_TCA/1_make_consistent_fr_factors.py\n",
      "downloading /n/data1/hms/neurobio/sabatini/rich/analysis/faceRhythm/mouse_0322N/run_20230701/20230521/aligned_TCA/dispatcher.py   to   /media/rich/bigSSD/analysis_data/face_rhythm/mouse_0322N/run_20230701/20230521/aligned_TCA/dispatcher.py\n",
      "downloading /n/data1/hms/neurobio/sabatini/rich/analysis/faceRhythm/mouse_0322N/run_20230701/20230521/aligned_TCA/notes.txt   to   /media/rich/bigSSD/analysis_data/face_rhythm/mouse_0322N/run_20230701/20230521/aligned_TCA/notes.txt\n",
      "downloading /n/data1/hms/neurobio/sabatini/rich/analysis/faceRhythm/mouse_0322N/run_20230701/20230521/pipeline_basic.py   to   /media/rich/bigSSD/analysis_data/face_rhythm/mouse_0322N/run_20230701/20230521/pipeline_basic.py\n",
      "downloading /n/data1/hms/neurobio/sabatini/rich/analysis/faceRhythm/mouse_0322N/run_20230701/20230521/dispatcher.py   to   /media/rich/bigSSD/analysis_data/face_rhythm/mouse_0322N/run_20230701/20230521/dispatcher.py\n",
      "downloading /n/data1/hms/neurobio/sabatini/rich/analysis/faceRhythm/mouse_0322N/run_20230701/20230521/notes.txt   to   /media/rich/bigSSD/analysis_data/face_rhythm/mouse_0322N/run_20230701/20230521/notes.txt\n",
      "downloading /n/data1/hms/neurobio/sabatini/rich/analysis/faceRhythm/mouse_0322N/run_20230701/20230518/parameters_batch.json   to   /media/rich/bigSSD/analysis_data/face_rhythm/mouse_0322N/run_20230701/20230518/parameters_batch.json\n",
      "downloading /n/data1/hms/neurobio/sabatini/rich/analysis/faceRhythm/mouse_0322N/run_20230701/20230518/jobNum_0/params.json   to   /media/rich/bigSSD/analysis_data/face_rhythm/mouse_0322N/run_20230701/20230518/jobNum_0/params.json\n",
      "downloading /n/data1/hms/neurobio/sabatini/rich/analysis/faceRhythm/mouse_0322N/run_20230701/20230518/jobNum_0/config.yaml   to   /media/rich/bigSSD/analysis_data/face_rhythm/mouse_0322N/run_20230701/20230518/jobNum_0/config.yaml\n",
      "downloading /n/data1/hms/neurobio/sabatini/rich/analysis/faceRhythm/mouse_0322N/run_20230701/20230518/jobNum_0/cpu_tracker.csv   to   /media/rich/bigSSD/analysis_data/face_rhythm/mouse_0322N/run_20230701/20230518/jobNum_0/cpu_tracker.csv\n",
      "downloading /n/data1/hms/neurobio/sabatini/rich/analysis/faceRhythm/mouse_0322N/run_20230701/20230518/jobNum_0/print_log_12089823.log   to   /media/rich/bigSSD/analysis_data/face_rhythm/mouse_0322N/run_20230701/20230518/jobNum_0/print_log_12089823.log\n",
      "downloading /n/data1/hms/neurobio/sabatini/rich/analysis/faceRhythm/mouse_0322N/run_20230701/20230518/jobNum_0/analysis_files/ROIs.h5   to   /media/rich/bigSSD/analysis_data/face_rhythm/mouse_0322N/run_20230701/20230518/jobNum_0/analysis_files/ROIs.h5\n",
      "downloading /n/data1/hms/neurobio/sabatini/rich/analysis/faceRhythm/mouse_0322N/run_20230701/20230518/jobNum_0/analysis_files/TCA.h5   to   /media/rich/bigSSD/analysis_data/face_rhythm/mouse_0322N/run_20230701/20230518/jobNum_0/analysis_files/TCA.h5\n",
      "downloading /n/data1/hms/neurobio/sabatini/rich/analysis/faceRhythm/mouse_0322N/run_20230701/20230518/jobNum_0/analysis_files/PointTracker.h5   to   /media/rich/bigSSD/analysis_data/face_rhythm/mouse_0322N/run_20230701/20230518/jobNum_0/analysis_files/PointTracker.h5\n",
      "downloading /n/data1/hms/neurobio/sabatini/rich/analysis/faceRhythm/mouse_0322N/run_20230701/20230518/jobNum_0/analysis_files/VQT_Analyzer.h5   to   /media/rich/bigSSD/analysis_data/face_rhythm/mouse_0322N/run_20230701/20230518/jobNum_0/analysis_files/VQT_Analyzer.h5\n",
      "downloading /n/data1/hms/neurobio/sabatini/rich/analysis/faceRhythm/mouse_0322N/run_20230701/20230518/jobNum_0/analysis_files/Dataset_videos.h5   to   /media/rich/bigSSD/analysis_data/face_rhythm/mouse_0322N/run_20230701/20230518/jobNum_0/analysis_files/Dataset_videos.h5\n",
      "downloading /n/data1/hms/neurobio/sabatini/rich/analysis/faceRhythm/mouse_0322N/run_20230701/20230518/jobNum_0/pipeline_basic.py   to   /media/rich/bigSSD/analysis_data/face_rhythm/mouse_0322N/run_20230701/20230518/jobNum_0/pipeline_basic.py\n",
      "downloading /n/data1/hms/neurobio/sabatini/rich/analysis/faceRhythm/mouse_0322N/run_20230701/20230518/jobNum_0/print_log_12079184.log   to   /media/rich/bigSSD/analysis_data/face_rhythm/mouse_0322N/run_20230701/20230518/jobNum_0/print_log_12079184.log\n",
      "downloading /n/data1/hms/neurobio/sabatini/rich/analysis/faceRhythm/mouse_0322N/run_20230701/20230518/jobNum_0/run_info.json   to   /media/rich/bigSSD/analysis_data/face_rhythm/mouse_0322N/run_20230701/20230518/jobNum_0/run_info.json\n",
      "downloading /n/data1/hms/neurobio/sabatini/rich/analysis/faceRhythm/mouse_0322N/run_20230701/20230518/jobNum_0/sbatch_config.sh   to   /media/rich/bigSSD/analysis_data/face_rhythm/mouse_0322N/run_20230701/20230518/jobNum_0/sbatch_config.sh\n",
      "downloading /n/data1/hms/neurobio/sabatini/rich/analysis/faceRhythm/mouse_0322N/run_20230701/20230518/aligned_TCA/parameters_batch.json   to   /media/rich/bigSSD/analysis_data/face_rhythm/mouse_0322N/run_20230701/20230518/aligned_TCA/parameters_batch.json\n",
      "downloading /n/data1/hms/neurobio/sabatini/rich/analysis/faceRhythm/mouse_0322N/run_20230701/20230518/aligned_TCA/jobNum_0/tca_refit.h5   to   /media/rich/bigSSD/analysis_data/face_rhythm/mouse_0322N/run_20230701/20230518/aligned_TCA/jobNum_0/tca_refit.h5\n",
      "downloading /n/data1/hms/neurobio/sabatini/rich/analysis/faceRhythm/mouse_0322N/run_20230701/20230518/aligned_TCA/jobNum_0/params.json   to   /media/rich/bigSSD/analysis_data/face_rhythm/mouse_0322N/run_20230701/20230518/aligned_TCA/jobNum_0/params.json\n"
     ]
    },
    {
     "name": "stdout",
     "output_type": "stream",
     "text": [
      "downloading /n/data1/hms/neurobio/sabatini/rich/analysis/faceRhythm/mouse_0322N/run_20230701/20230518/aligned_TCA/jobNum_0/print_log_12685327.log   to   /media/rich/bigSSD/analysis_data/face_rhythm/mouse_0322N/run_20230701/20230518/aligned_TCA/jobNum_0/print_log_12685327.log\n",
      "downloading /n/data1/hms/neurobio/sabatini/rich/analysis/faceRhythm/mouse_0322N/run_20230701/20230518/aligned_TCA/jobNum_0/1_make_consistent_fr_factors.py   to   /media/rich/bigSSD/analysis_data/face_rhythm/mouse_0322N/run_20230701/20230518/aligned_TCA/jobNum_0/1_make_consistent_fr_factors.py\n",
      "downloading /n/data1/hms/neurobio/sabatini/rich/analysis/faceRhythm/mouse_0322N/run_20230701/20230518/aligned_TCA/jobNum_0/sbatch_config.sh   to   /media/rich/bigSSD/analysis_data/face_rhythm/mouse_0322N/run_20230701/20230518/aligned_TCA/jobNum_0/sbatch_config.sh\n",
      "downloading /n/data1/hms/neurobio/sabatini/rich/analysis/faceRhythm/mouse_0322N/run_20230701/20230518/aligned_TCA/1_make_consistent_fr_factors.py   to   /media/rich/bigSSD/analysis_data/face_rhythm/mouse_0322N/run_20230701/20230518/aligned_TCA/1_make_consistent_fr_factors.py\n",
      "downloading /n/data1/hms/neurobio/sabatini/rich/analysis/faceRhythm/mouse_0322N/run_20230701/20230518/aligned_TCA/dispatcher.py   to   /media/rich/bigSSD/analysis_data/face_rhythm/mouse_0322N/run_20230701/20230518/aligned_TCA/dispatcher.py\n",
      "downloading /n/data1/hms/neurobio/sabatini/rich/analysis/faceRhythm/mouse_0322N/run_20230701/20230518/aligned_TCA/notes.txt   to   /media/rich/bigSSD/analysis_data/face_rhythm/mouse_0322N/run_20230701/20230518/aligned_TCA/notes.txt\n",
      "downloading /n/data1/hms/neurobio/sabatini/rich/analysis/faceRhythm/mouse_0322N/run_20230701/20230518/pipeline_basic.py   to   /media/rich/bigSSD/analysis_data/face_rhythm/mouse_0322N/run_20230701/20230518/pipeline_basic.py\n",
      "downloading /n/data1/hms/neurobio/sabatini/rich/analysis/faceRhythm/mouse_0322N/run_20230701/20230518/dispatcher.py   to   /media/rich/bigSSD/analysis_data/face_rhythm/mouse_0322N/run_20230701/20230518/dispatcher.py\n",
      "downloading /n/data1/hms/neurobio/sabatini/rich/analysis/faceRhythm/mouse_0322N/run_20230701/20230518/notes.txt   to   /media/rich/bigSSD/analysis_data/face_rhythm/mouse_0322N/run_20230701/20230518/notes.txt\n",
      "downloading /n/data1/hms/neurobio/sabatini/rich/analysis/faceRhythm/mouse_0322N/run_20230701/20230530/parameters_batch.json   to   /media/rich/bigSSD/analysis_data/face_rhythm/mouse_0322N/run_20230701/20230530/parameters_batch.json\n",
      "downloading /n/data1/hms/neurobio/sabatini/rich/analysis/faceRhythm/mouse_0322N/run_20230701/20230530/jobNum_0/print_log_12021004.log   to   /media/rich/bigSSD/analysis_data/face_rhythm/mouse_0322N/run_20230701/20230530/jobNum_0/print_log_12021004.log\n",
      "downloading /n/data1/hms/neurobio/sabatini/rich/analysis/faceRhythm/mouse_0322N/run_20230701/20230530/jobNum_0/params.json   to   /media/rich/bigSSD/analysis_data/face_rhythm/mouse_0322N/run_20230701/20230530/jobNum_0/params.json\n",
      "downloading /n/data1/hms/neurobio/sabatini/rich/analysis/faceRhythm/mouse_0322N/run_20230701/20230530/jobNum_0/config.yaml   to   /media/rich/bigSSD/analysis_data/face_rhythm/mouse_0322N/run_20230701/20230530/jobNum_0/config.yaml\n",
      "downloading /n/data1/hms/neurobio/sabatini/rich/analysis/faceRhythm/mouse_0322N/run_20230701/20230530/jobNum_0/cpu_tracker.csv   to   /media/rich/bigSSD/analysis_data/face_rhythm/mouse_0322N/run_20230701/20230530/jobNum_0/cpu_tracker.csv\n",
      "downloading /n/data1/hms/neurobio/sabatini/rich/analysis/faceRhythm/mouse_0322N/run_20230701/20230530/jobNum_0/print_log_12079551.log   to   /media/rich/bigSSD/analysis_data/face_rhythm/mouse_0322N/run_20230701/20230530/jobNum_0/print_log_12079551.log\n",
      "downloading /n/data1/hms/neurobio/sabatini/rich/analysis/faceRhythm/mouse_0322N/run_20230701/20230530/jobNum_0/analysis_files/ROIs.h5   to   /media/rich/bigSSD/analysis_data/face_rhythm/mouse_0322N/run_20230701/20230530/jobNum_0/analysis_files/ROIs.h5\n",
      "downloading /n/data1/hms/neurobio/sabatini/rich/analysis/faceRhythm/mouse_0322N/run_20230701/20230530/jobNum_0/analysis_files/TCA.h5   to   /media/rich/bigSSD/analysis_data/face_rhythm/mouse_0322N/run_20230701/20230530/jobNum_0/analysis_files/TCA.h5\n",
      "downloading /n/data1/hms/neurobio/sabatini/rich/analysis/faceRhythm/mouse_0322N/run_20230701/20230530/jobNum_0/analysis_files/PointTracker.h5   to   /media/rich/bigSSD/analysis_data/face_rhythm/mouse_0322N/run_20230701/20230530/jobNum_0/analysis_files/PointTracker.h5\n",
      "downloading /n/data1/hms/neurobio/sabatini/rich/analysis/faceRhythm/mouse_0322N/run_20230701/20230530/jobNum_0/analysis_files/VQT_Analyzer.h5   to   /media/rich/bigSSD/analysis_data/face_rhythm/mouse_0322N/run_20230701/20230530/jobNum_0/analysis_files/VQT_Analyzer.h5\n",
      "downloading /n/data1/hms/neurobio/sabatini/rich/analysis/faceRhythm/mouse_0322N/run_20230701/20230530/jobNum_0/analysis_files/Dataset_videos.h5   to   /media/rich/bigSSD/analysis_data/face_rhythm/mouse_0322N/run_20230701/20230530/jobNum_0/analysis_files/Dataset_videos.h5\n",
      "downloading /n/data1/hms/neurobio/sabatini/rich/analysis/faceRhythm/mouse_0322N/run_20230701/20230530/jobNum_0/pipeline_basic.py   to   /media/rich/bigSSD/analysis_data/face_rhythm/mouse_0322N/run_20230701/20230530/jobNum_0/pipeline_basic.py\n",
      "downloading /n/data1/hms/neurobio/sabatini/rich/analysis/faceRhythm/mouse_0322N/run_20230701/20230530/jobNum_0/run_info.json   to   /media/rich/bigSSD/analysis_data/face_rhythm/mouse_0322N/run_20230701/20230530/jobNum_0/run_info.json\n",
      "downloading /n/data1/hms/neurobio/sabatini/rich/analysis/faceRhythm/mouse_0322N/run_20230701/20230530/jobNum_0/sbatch_config.sh   to   /media/rich/bigSSD/analysis_data/face_rhythm/mouse_0322N/run_20230701/20230530/jobNum_0/sbatch_config.sh\n",
      "downloading /n/data1/hms/neurobio/sabatini/rich/analysis/faceRhythm/mouse_0322N/run_20230701/20230530/aligned_TCA/parameters_batch.json   to   /media/rich/bigSSD/analysis_data/face_rhythm/mouse_0322N/run_20230701/20230530/aligned_TCA/parameters_batch.json\n",
      "downloading /n/data1/hms/neurobio/sabatini/rich/analysis/faceRhythm/mouse_0322N/run_20230701/20230530/aligned_TCA/jobNum_0/print_log_12693902.log   to   /media/rich/bigSSD/analysis_data/face_rhythm/mouse_0322N/run_20230701/20230530/aligned_TCA/jobNum_0/print_log_12693902.log\n",
      "downloading /n/data1/hms/neurobio/sabatini/rich/analysis/faceRhythm/mouse_0322N/run_20230701/20230530/aligned_TCA/jobNum_0/tca_refit.h5   to   /media/rich/bigSSD/analysis_data/face_rhythm/mouse_0322N/run_20230701/20230530/aligned_TCA/jobNum_0/tca_refit.h5\n",
      "downloading /n/data1/hms/neurobio/sabatini/rich/analysis/faceRhythm/mouse_0322N/run_20230701/20230530/aligned_TCA/jobNum_0/print_log_12693373.log   to   /media/rich/bigSSD/analysis_data/face_rhythm/mouse_0322N/run_20230701/20230530/aligned_TCA/jobNum_0/print_log_12693373.log\n",
      "downloading /n/data1/hms/neurobio/sabatini/rich/analysis/faceRhythm/mouse_0322N/run_20230701/20230530/aligned_TCA/jobNum_0/params.json   to   /media/rich/bigSSD/analysis_data/face_rhythm/mouse_0322N/run_20230701/20230530/aligned_TCA/jobNum_0/params.json\n",
      "downloading /n/data1/hms/neurobio/sabatini/rich/analysis/faceRhythm/mouse_0322N/run_20230701/20230530/aligned_TCA/jobNum_0/print_log_12686423.log   to   /media/rich/bigSSD/analysis_data/face_rhythm/mouse_0322N/run_20230701/20230530/aligned_TCA/jobNum_0/print_log_12686423.log\n",
      "downloading /n/data1/hms/neurobio/sabatini/rich/analysis/faceRhythm/mouse_0322N/run_20230701/20230530/aligned_TCA/jobNum_0/1_make_consistent_fr_factors.py   to   /media/rich/bigSSD/analysis_data/face_rhythm/mouse_0322N/run_20230701/20230530/aligned_TCA/jobNum_0/1_make_consistent_fr_factors.py\n",
      "downloading /n/data1/hms/neurobio/sabatini/rich/analysis/faceRhythm/mouse_0322N/run_20230701/20230530/aligned_TCA/jobNum_0/print_log_12685376.log   to   /media/rich/bigSSD/analysis_data/face_rhythm/mouse_0322N/run_20230701/20230530/aligned_TCA/jobNum_0/print_log_12685376.log\n",
      "downloading /n/data1/hms/neurobio/sabatini/rich/analysis/faceRhythm/mouse_0322N/run_20230701/20230530/aligned_TCA/jobNum_0/sbatch_config.sh   to   /media/rich/bigSSD/analysis_data/face_rhythm/mouse_0322N/run_20230701/20230530/aligned_TCA/jobNum_0/sbatch_config.sh\n",
      "downloading /n/data1/hms/neurobio/sabatini/rich/analysis/faceRhythm/mouse_0322N/run_20230701/20230530/aligned_TCA/1_make_consistent_fr_factors.py   to   /media/rich/bigSSD/analysis_data/face_rhythm/mouse_0322N/run_20230701/20230530/aligned_TCA/1_make_consistent_fr_factors.py\n"
     ]
    },
    {
     "name": "stdout",
     "output_type": "stream",
     "text": [
      "downloading /n/data1/hms/neurobio/sabatini/rich/analysis/faceRhythm/mouse_0322N/run_20230701/20230530/aligned_TCA/dispatcher.py   to   /media/rich/bigSSD/analysis_data/face_rhythm/mouse_0322N/run_20230701/20230530/aligned_TCA/dispatcher.py\n",
      "downloading /n/data1/hms/neurobio/sabatini/rich/analysis/faceRhythm/mouse_0322N/run_20230701/20230530/aligned_TCA/notes.txt   to   /media/rich/bigSSD/analysis_data/face_rhythm/mouse_0322N/run_20230701/20230530/aligned_TCA/notes.txt\n",
      "downloading /n/data1/hms/neurobio/sabatini/rich/analysis/faceRhythm/mouse_0322N/run_20230701/20230530/pipeline_basic.py   to   /media/rich/bigSSD/analysis_data/face_rhythm/mouse_0322N/run_20230701/20230530/pipeline_basic.py\n",
      "downloading /n/data1/hms/neurobio/sabatini/rich/analysis/faceRhythm/mouse_0322N/run_20230701/20230530/dispatcher.py   to   /media/rich/bigSSD/analysis_data/face_rhythm/mouse_0322N/run_20230701/20230530/dispatcher.py\n",
      "downloading /n/data1/hms/neurobio/sabatini/rich/analysis/faceRhythm/mouse_0322N/run_20230701/20230530/notes.txt   to   /media/rich/bigSSD/analysis_data/face_rhythm/mouse_0322N/run_20230701/20230530/notes.txt\n",
      "downloading /n/data1/hms/neurobio/sabatini/rich/analysis/faceRhythm/mouse_0322N/run_20230701/ROIs_prealigned/mouse_0322N__20230516/ROIs.h5   to   /media/rich/bigSSD/analysis_data/face_rhythm/mouse_0322N/run_20230701/ROIs_prealigned/mouse_0322N__20230516/ROIs.h5\n",
      "downloading /n/data1/hms/neurobio/sabatini/rich/analysis/faceRhythm/mouse_0322N/run_20230701/ROIs_prealigned/mouse_0322N__20230527/ROIs.h5   to   /media/rich/bigSSD/analysis_data/face_rhythm/mouse_0322N/run_20230701/ROIs_prealigned/mouse_0322N__20230527/ROIs.h5\n",
      "downloading /n/data1/hms/neurobio/sabatini/rich/analysis/faceRhythm/mouse_0322N/run_20230701/ROIs_prealigned/mouse_0322N__20230511/ROIs.h5   to   /media/rich/bigSSD/analysis_data/face_rhythm/mouse_0322N/run_20230701/ROIs_prealigned/mouse_0322N__20230511/ROIs.h5\n",
      "downloading /n/data1/hms/neurobio/sabatini/rich/analysis/faceRhythm/mouse_0322N/run_20230701/ROIs_prealigned/mouse_0322N__20230514/ROIs.h5   to   /media/rich/bigSSD/analysis_data/face_rhythm/mouse_0322N/run_20230701/ROIs_prealigned/mouse_0322N__20230514/ROIs.h5\n",
      "downloading /n/data1/hms/neurobio/sabatini/rich/analysis/faceRhythm/mouse_0322N/run_20230701/ROIs_prealigned/mouse_0322N__20230601/ROIs.h5   to   /media/rich/bigSSD/analysis_data/face_rhythm/mouse_0322N/run_20230701/ROIs_prealigned/mouse_0322N__20230601/ROIs.h5\n",
      "downloading /n/data1/hms/neurobio/sabatini/rich/analysis/faceRhythm/mouse_0322N/run_20230701/ROIs_prealigned/mouse_0322N__20230524/ROIs.h5   to   /media/rich/bigSSD/analysis_data/face_rhythm/mouse_0322N/run_20230701/ROIs_prealigned/mouse_0322N__20230524/ROIs.h5\n",
      "downloading /n/data1/hms/neurobio/sabatini/rich/analysis/faceRhythm/mouse_0322N/run_20230701/ROIs_prealigned/mouse_0322N__20230508/ROIs.h5   to   /media/rich/bigSSD/analysis_data/face_rhythm/mouse_0322N/run_20230701/ROIs_prealigned/mouse_0322N__20230508/ROIs.h5\n",
      "downloading /n/data1/hms/neurobio/sabatini/rich/analysis/faceRhythm/mouse_0322N/run_20230701/ROIs_prealigned/mouse_0322N__20230515/ROIs.h5   to   /media/rich/bigSSD/analysis_data/face_rhythm/mouse_0322N/run_20230701/ROIs_prealigned/mouse_0322N__20230515/ROIs.h5\n",
      "downloading /n/data1/hms/neurobio/sabatini/rich/analysis/faceRhythm/mouse_0322N/run_20230701/ROIs_prealigned/mouse_0322N__20230520/ROIs.h5   to   /media/rich/bigSSD/analysis_data/face_rhythm/mouse_0322N/run_20230701/ROIs_prealigned/mouse_0322N__20230520/ROIs.h5\n",
      "downloading /n/data1/hms/neurobio/sabatini/rich/analysis/faceRhythm/mouse_0322N/run_20230701/ROIs_prealigned/mouse_0322N__20230517/ROIs.h5   to   /media/rich/bigSSD/analysis_data/face_rhythm/mouse_0322N/run_20230701/ROIs_prealigned/mouse_0322N__20230517/ROIs.h5\n",
      "downloading /n/data1/hms/neurobio/sabatini/rich/analysis/faceRhythm/mouse_0322N/run_20230701/ROIs_prealigned/mouse_0322N__20230522/ROIs.h5   to   /media/rich/bigSSD/analysis_data/face_rhythm/mouse_0322N/run_20230701/ROIs_prealigned/mouse_0322N__20230522/ROIs.h5\n",
      "downloading /n/data1/hms/neurobio/sabatini/rich/analysis/faceRhythm/mouse_0322N/run_20230701/ROIs_prealigned/mouse_0322N__20230512/ROIs.h5   to   /media/rich/bigSSD/analysis_data/face_rhythm/mouse_0322N/run_20230701/ROIs_prealigned/mouse_0322N__20230512/ROIs.h5\n",
      "downloading /n/data1/hms/neurobio/sabatini/rich/analysis/faceRhythm/mouse_0322N/run_20230701/ROIs_prealigned/mouse_0322N__20230529/ROIs.h5   to   /media/rich/bigSSD/analysis_data/face_rhythm/mouse_0322N/run_20230701/ROIs_prealigned/mouse_0322N__20230529/ROIs.h5\n",
      "downloading /n/data1/hms/neurobio/sabatini/rich/analysis/faceRhythm/mouse_0322N/run_20230701/ROIs_prealigned/mouse_0322N__20230525/ROIs.h5   to   /media/rich/bigSSD/analysis_data/face_rhythm/mouse_0322N/run_20230701/ROIs_prealigned/mouse_0322N__20230525/ROIs.h5\n",
      "downloading /n/data1/hms/neurobio/sabatini/rich/analysis/faceRhythm/mouse_0322N/run_20230701/ROIs_prealigned/mouse_0322N__20230507/ROIs.h5   to   /media/rich/bigSSD/analysis_data/face_rhythm/mouse_0322N/run_20230701/ROIs_prealigned/mouse_0322N__20230507/ROIs.h5\n",
      "downloading /n/data1/hms/neurobio/sabatini/rich/analysis/faceRhythm/mouse_0322N/run_20230701/ROIs_prealigned/mouse_0322N__20230503/ROIs.h5   to   /media/rich/bigSSD/analysis_data/face_rhythm/mouse_0322N/run_20230701/ROIs_prealigned/mouse_0322N__20230503/ROIs.h5\n",
      "downloading /n/data1/hms/neurobio/sabatini/rich/analysis/faceRhythm/mouse_0322N/run_20230701/ROIs_prealigned/mouse_0322N__20230509/ROIs.h5   to   /media/rich/bigSSD/analysis_data/face_rhythm/mouse_0322N/run_20230701/ROIs_prealigned/mouse_0322N__20230509/ROIs.h5\n",
      "downloading /n/data1/hms/neurobio/sabatini/rich/analysis/faceRhythm/mouse_0322N/run_20230701/ROIs_prealigned/mouse_0322N__20230430/ROIs.h5   to   /media/rich/bigSSD/analysis_data/face_rhythm/mouse_0322N/run_20230701/ROIs_prealigned/mouse_0322N__20230430/ROIs.h5\n",
      "downloading /n/data1/hms/neurobio/sabatini/rich/analysis/faceRhythm/mouse_0322N/run_20230701/ROIs_prealigned/mouse_0322N__20230506/ROIs.h5   to   /media/rich/bigSSD/analysis_data/face_rhythm/mouse_0322N/run_20230701/ROIs_prealigned/mouse_0322N__20230506/ROIs.h5\n",
      "downloading /n/data1/hms/neurobio/sabatini/rich/analysis/faceRhythm/mouse_0322N/run_20230701/ROIs_prealigned/mouse_0322N__20230501/ROIs.h5   to   /media/rich/bigSSD/analysis_data/face_rhythm/mouse_0322N/run_20230701/ROIs_prealigned/mouse_0322N__20230501/ROIs.h5\n",
      "downloading /n/data1/hms/neurobio/sabatini/rich/analysis/faceRhythm/mouse_0322N/run_20230701/ROIs_prealigned/mouse_0322N__20230531/ROIs.h5   to   /media/rich/bigSSD/analysis_data/face_rhythm/mouse_0322N/run_20230701/ROIs_prealigned/mouse_0322N__20230531/ROIs.h5\n",
      "downloading /n/data1/hms/neurobio/sabatini/rich/analysis/faceRhythm/mouse_0322N/run_20230701/ROIs_prealigned/mouse_0322N__20230528/ROIs.h5   to   /media/rich/bigSSD/analysis_data/face_rhythm/mouse_0322N/run_20230701/ROIs_prealigned/mouse_0322N__20230528/ROIs.h5\n",
      "downloading /n/data1/hms/neurobio/sabatini/rich/analysis/faceRhythm/mouse_0322N/run_20230701/ROIs_prealigned/mouse_0322N__20230518/ROIs.h5   to   /media/rich/bigSSD/analysis_data/face_rhythm/mouse_0322N/run_20230701/ROIs_prealigned/mouse_0322N__20230518/ROIs.h5\n",
      "downloading /n/data1/hms/neurobio/sabatini/rich/analysis/faceRhythm/mouse_0322N/run_20230701/ROIs_prealigned/mouse_0322N__20230502/ROIs.h5   to   /media/rich/bigSSD/analysis_data/face_rhythm/mouse_0322N/run_20230701/ROIs_prealigned/mouse_0322N__20230502/ROIs.h5\n",
      "downloading /n/data1/hms/neurobio/sabatini/rich/analysis/faceRhythm/mouse_0322N/run_20230701/ROIs_prealigned/mouse_0322N__20230530/ROIs.h5   to   /media/rich/bigSSD/analysis_data/face_rhythm/mouse_0322N/run_20230701/ROIs_prealigned/mouse_0322N__20230530/ROIs.h5\n",
      "downloading /n/data1/hms/neurobio/sabatini/rich/analysis/faceRhythm/mouse_0322N/run_20230701/ROIs_prealigned/mouse_0322N__20230504/ROIs.h5   to   /media/rich/bigSSD/analysis_data/face_rhythm/mouse_0322N/run_20230701/ROIs_prealigned/mouse_0322N__20230504/ROIs.h5\n",
      "downloading /n/data1/hms/neurobio/sabatini/rich/analysis/faceRhythm/mouse_0322N/run_20230701/ROIs_prealigned/mouse_0322N__20230521/ROIs.h5   to   /media/rich/bigSSD/analysis_data/face_rhythm/mouse_0322N/run_20230701/ROIs_prealigned/mouse_0322N__20230521/ROIs.h5\n"
     ]
    },
    {
     "name": "stdout",
     "output_type": "stream",
     "text": [
      "downloading /n/data1/hms/neurobio/sabatini/rich/analysis/faceRhythm/mouse_0322N/run_20230701/ROIs_prealigned/mouse_0322N__20230505/ROIs.h5   to   /media/rich/bigSSD/analysis_data/face_rhythm/mouse_0322N/run_20230701/ROIs_prealigned/mouse_0322N__20230505/ROIs.h5\n",
      "downloading /n/data1/hms/neurobio/sabatini/rich/analysis/faceRhythm/mouse_0322N/run_20230701/ROIs_prealigned/mouse_0322N__20230519/ROIs.h5   to   /media/rich/bigSSD/analysis_data/face_rhythm/mouse_0322N/run_20230701/ROIs_prealigned/mouse_0322N__20230519/ROIs.h5\n",
      "downloading /n/data1/hms/neurobio/sabatini/rich/analysis/faceRhythm/mouse_0322N/run_20230701/ROIs_prealigned/mouse_0322N__20230510/ROIs.h5   to   /media/rich/bigSSD/analysis_data/face_rhythm/mouse_0322N/run_20230701/ROIs_prealigned/mouse_0322N__20230510/ROIs.h5\n",
      "downloading /n/data1/hms/neurobio/sabatini/rich/analysis/faceRhythm/mouse_0322N/run_20230701/ROIs_prealigned/mouse_0322N__20230523/ROIs.h5   to   /media/rich/bigSSD/analysis_data/face_rhythm/mouse_0322N/run_20230701/ROIs_prealigned/mouse_0322N__20230523/ROIs.h5\n",
      "downloading /n/data1/hms/neurobio/sabatini/rich/analysis/faceRhythm/mouse_0322N/run_20230701/ROIs_prealigned/mouse_0322N__20230526/ROIs.h5   to   /media/rich/bigSSD/analysis_data/face_rhythm/mouse_0322N/run_20230701/ROIs_prealigned/mouse_0322N__20230526/ROIs.h5\n",
      "downloading /n/data1/hms/neurobio/sabatini/rich/analysis/faceRhythm/mouse_0322N/run_20230701/20230520/parameters_batch.json   to   /media/rich/bigSSD/analysis_data/face_rhythm/mouse_0322N/run_20230701/20230520/parameters_batch.json\n",
      "downloading /n/data1/hms/neurobio/sabatini/rich/analysis/faceRhythm/mouse_0322N/run_20230701/20230520/jobNum_0/params.json   to   /media/rich/bigSSD/analysis_data/face_rhythm/mouse_0322N/run_20230701/20230520/jobNum_0/params.json\n",
      "downloading /n/data1/hms/neurobio/sabatini/rich/analysis/faceRhythm/mouse_0322N/run_20230701/20230520/jobNum_0/config.yaml   to   /media/rich/bigSSD/analysis_data/face_rhythm/mouse_0322N/run_20230701/20230520/jobNum_0/config.yaml\n",
      "downloading /n/data1/hms/neurobio/sabatini/rich/analysis/faceRhythm/mouse_0322N/run_20230701/20230520/jobNum_0/cpu_tracker.csv   to   /media/rich/bigSSD/analysis_data/face_rhythm/mouse_0322N/run_20230701/20230520/jobNum_0/cpu_tracker.csv\n",
      "downloading /n/data1/hms/neurobio/sabatini/rich/analysis/faceRhythm/mouse_0322N/run_20230701/20230520/jobNum_0/print_log_12079557.log   to   /media/rich/bigSSD/analysis_data/face_rhythm/mouse_0322N/run_20230701/20230520/jobNum_0/print_log_12079557.log\n",
      "downloading /n/data1/hms/neurobio/sabatini/rich/analysis/faceRhythm/mouse_0322N/run_20230701/20230520/jobNum_0/analysis_files/ROIs.h5   to   /media/rich/bigSSD/analysis_data/face_rhythm/mouse_0322N/run_20230701/20230520/jobNum_0/analysis_files/ROIs.h5\n",
      "downloading /n/data1/hms/neurobio/sabatini/rich/analysis/faceRhythm/mouse_0322N/run_20230701/20230520/jobNum_0/analysis_files/TCA.h5   to   /media/rich/bigSSD/analysis_data/face_rhythm/mouse_0322N/run_20230701/20230520/jobNum_0/analysis_files/TCA.h5\n",
      "downloading /n/data1/hms/neurobio/sabatini/rich/analysis/faceRhythm/mouse_0322N/run_20230701/20230520/jobNum_0/analysis_files/PointTracker.h5   to   /media/rich/bigSSD/analysis_data/face_rhythm/mouse_0322N/run_20230701/20230520/jobNum_0/analysis_files/PointTracker.h5\n",
      "downloading /n/data1/hms/neurobio/sabatini/rich/analysis/faceRhythm/mouse_0322N/run_20230701/20230520/jobNum_0/analysis_files/VQT_Analyzer.h5   to   /media/rich/bigSSD/analysis_data/face_rhythm/mouse_0322N/run_20230701/20230520/jobNum_0/analysis_files/VQT_Analyzer.h5\n",
      "downloading /n/data1/hms/neurobio/sabatini/rich/analysis/faceRhythm/mouse_0322N/run_20230701/20230520/jobNum_0/analysis_files/Dataset_videos.h5   to   /media/rich/bigSSD/analysis_data/face_rhythm/mouse_0322N/run_20230701/20230520/jobNum_0/analysis_files/Dataset_videos.h5\n",
      "downloading /n/data1/hms/neurobio/sabatini/rich/analysis/faceRhythm/mouse_0322N/run_20230701/20230520/jobNum_0/pipeline_basic.py   to   /media/rich/bigSSD/analysis_data/face_rhythm/mouse_0322N/run_20230701/20230520/jobNum_0/pipeline_basic.py\n",
      "downloading /n/data1/hms/neurobio/sabatini/rich/analysis/faceRhythm/mouse_0322N/run_20230701/20230520/jobNum_0/run_info.json   to   /media/rich/bigSSD/analysis_data/face_rhythm/mouse_0322N/run_20230701/20230520/jobNum_0/run_info.json\n",
      "downloading /n/data1/hms/neurobio/sabatini/rich/analysis/faceRhythm/mouse_0322N/run_20230701/20230520/jobNum_0/sbatch_config.sh   to   /media/rich/bigSSD/analysis_data/face_rhythm/mouse_0322N/run_20230701/20230520/jobNum_0/sbatch_config.sh\n",
      "downloading /n/data1/hms/neurobio/sabatini/rich/analysis/faceRhythm/mouse_0322N/run_20230701/20230520/jobNum_0/print_log_12021442.log   to   /media/rich/bigSSD/analysis_data/face_rhythm/mouse_0322N/run_20230701/20230520/jobNum_0/print_log_12021442.log\n",
      "downloading /n/data1/hms/neurobio/sabatini/rich/analysis/faceRhythm/mouse_0322N/run_20230701/20230520/aligned_TCA/parameters_batch.json   to   /media/rich/bigSSD/analysis_data/face_rhythm/mouse_0322N/run_20230701/20230520/aligned_TCA/parameters_batch.json\n",
      "downloading /n/data1/hms/neurobio/sabatini/rich/analysis/faceRhythm/mouse_0322N/run_20230701/20230520/aligned_TCA/jobNum_0/tca_refit.h5   to   /media/rich/bigSSD/analysis_data/face_rhythm/mouse_0322N/run_20230701/20230520/aligned_TCA/jobNum_0/tca_refit.h5\n",
      "downloading /n/data1/hms/neurobio/sabatini/rich/analysis/faceRhythm/mouse_0322N/run_20230701/20230520/aligned_TCA/jobNum_0/params.json   to   /media/rich/bigSSD/analysis_data/face_rhythm/mouse_0322N/run_20230701/20230520/aligned_TCA/jobNum_0/params.json\n",
      "downloading /n/data1/hms/neurobio/sabatini/rich/analysis/faceRhythm/mouse_0322N/run_20230701/20230520/aligned_TCA/jobNum_0/print_log_12685331.log   to   /media/rich/bigSSD/analysis_data/face_rhythm/mouse_0322N/run_20230701/20230520/aligned_TCA/jobNum_0/print_log_12685331.log\n",
      "downloading /n/data1/hms/neurobio/sabatini/rich/analysis/faceRhythm/mouse_0322N/run_20230701/20230520/aligned_TCA/jobNum_0/1_make_consistent_fr_factors.py   to   /media/rich/bigSSD/analysis_data/face_rhythm/mouse_0322N/run_20230701/20230520/aligned_TCA/jobNum_0/1_make_consistent_fr_factors.py\n",
      "downloading /n/data1/hms/neurobio/sabatini/rich/analysis/faceRhythm/mouse_0322N/run_20230701/20230520/aligned_TCA/jobNum_0/sbatch_config.sh   to   /media/rich/bigSSD/analysis_data/face_rhythm/mouse_0322N/run_20230701/20230520/aligned_TCA/jobNum_0/sbatch_config.sh\n",
      "downloading /n/data1/hms/neurobio/sabatini/rich/analysis/faceRhythm/mouse_0322N/run_20230701/20230520/aligned_TCA/1_make_consistent_fr_factors.py   to   /media/rich/bigSSD/analysis_data/face_rhythm/mouse_0322N/run_20230701/20230520/aligned_TCA/1_make_consistent_fr_factors.py\n",
      "downloading /n/data1/hms/neurobio/sabatini/rich/analysis/faceRhythm/mouse_0322N/run_20230701/20230520/aligned_TCA/dispatcher.py   to   /media/rich/bigSSD/analysis_data/face_rhythm/mouse_0322N/run_20230701/20230520/aligned_TCA/dispatcher.py\n",
      "downloading /n/data1/hms/neurobio/sabatini/rich/analysis/faceRhythm/mouse_0322N/run_20230701/20230520/aligned_TCA/notes.txt   to   /media/rich/bigSSD/analysis_data/face_rhythm/mouse_0322N/run_20230701/20230520/aligned_TCA/notes.txt\n",
      "downloading /n/data1/hms/neurobio/sabatini/rich/analysis/faceRhythm/mouse_0322N/run_20230701/20230520/pipeline_basic.py   to   /media/rich/bigSSD/analysis_data/face_rhythm/mouse_0322N/run_20230701/20230520/pipeline_basic.py\n",
      "downloading /n/data1/hms/neurobio/sabatini/rich/analysis/faceRhythm/mouse_0322N/run_20230701/20230520/dispatcher.py   to   /media/rich/bigSSD/analysis_data/face_rhythm/mouse_0322N/run_20230701/20230520/dispatcher.py\n",
      "downloading /n/data1/hms/neurobio/sabatini/rich/analysis/faceRhythm/mouse_0322N/run_20230701/20230520/notes.txt   to   /media/rich/bigSSD/analysis_data/face_rhythm/mouse_0322N/run_20230701/20230520/notes.txt\n",
      "downloading /n/data1/hms/neurobio/sabatini/rich/analysis/faceRhythm/mouse_0322N/run_20230701/20230508/parameters_batch.json   to   /media/rich/bigSSD/analysis_data/face_rhythm/mouse_0322N/run_20230701/20230508/parameters_batch.json\n",
      "downloading /n/data1/hms/neurobio/sabatini/rich/analysis/faceRhythm/mouse_0322N/run_20230701/20230508/jobNum_0/params.json   to   /media/rich/bigSSD/analysis_data/face_rhythm/mouse_0322N/run_20230701/20230508/jobNum_0/params.json\n"
     ]
    },
    {
     "name": "stdout",
     "output_type": "stream",
     "text": [
      "downloading /n/data1/hms/neurobio/sabatini/rich/analysis/faceRhythm/mouse_0322N/run_20230701/20230508/jobNum_0/config.yaml   to   /media/rich/bigSSD/analysis_data/face_rhythm/mouse_0322N/run_20230701/20230508/jobNum_0/config.yaml\n",
      "downloading /n/data1/hms/neurobio/sabatini/rich/analysis/faceRhythm/mouse_0322N/run_20230701/20230508/jobNum_0/cpu_tracker.csv   to   /media/rich/bigSSD/analysis_data/face_rhythm/mouse_0322N/run_20230701/20230508/jobNum_0/cpu_tracker.csv\n",
      "downloading /n/data1/hms/neurobio/sabatini/rich/analysis/faceRhythm/mouse_0322N/run_20230701/20230508/jobNum_0/print_log_12020810.log   to   /media/rich/bigSSD/analysis_data/face_rhythm/mouse_0322N/run_20230701/20230508/jobNum_0/print_log_12020810.log\n",
      "downloading /n/data1/hms/neurobio/sabatini/rich/analysis/faceRhythm/mouse_0322N/run_20230701/20230508/jobNum_0/print_log_12079300.log   to   /media/rich/bigSSD/analysis_data/face_rhythm/mouse_0322N/run_20230701/20230508/jobNum_0/print_log_12079300.log\n",
      "downloading /n/data1/hms/neurobio/sabatini/rich/analysis/faceRhythm/mouse_0322N/run_20230701/20230508/jobNum_0/analysis_files/ROIs.h5   to   /media/rich/bigSSD/analysis_data/face_rhythm/mouse_0322N/run_20230701/20230508/jobNum_0/analysis_files/ROIs.h5\n",
      "downloading /n/data1/hms/neurobio/sabatini/rich/analysis/faceRhythm/mouse_0322N/run_20230701/20230508/jobNum_0/analysis_files/TCA.h5   to   /media/rich/bigSSD/analysis_data/face_rhythm/mouse_0322N/run_20230701/20230508/jobNum_0/analysis_files/TCA.h5\n",
      "downloading /n/data1/hms/neurobio/sabatini/rich/analysis/faceRhythm/mouse_0322N/run_20230701/20230508/jobNum_0/analysis_files/PointTracker.h5   to   /media/rich/bigSSD/analysis_data/face_rhythm/mouse_0322N/run_20230701/20230508/jobNum_0/analysis_files/PointTracker.h5\n",
      "downloading /n/data1/hms/neurobio/sabatini/rich/analysis/faceRhythm/mouse_0322N/run_20230701/20230508/jobNum_0/analysis_files/VQT_Analyzer.h5   to   /media/rich/bigSSD/analysis_data/face_rhythm/mouse_0322N/run_20230701/20230508/jobNum_0/analysis_files/VQT_Analyzer.h5\n",
      "downloading /n/data1/hms/neurobio/sabatini/rich/analysis/faceRhythm/mouse_0322N/run_20230701/20230508/jobNum_0/analysis_files/Dataset_videos.h5   to   /media/rich/bigSSD/analysis_data/face_rhythm/mouse_0322N/run_20230701/20230508/jobNum_0/analysis_files/Dataset_videos.h5\n",
      "downloading /n/data1/hms/neurobio/sabatini/rich/analysis/faceRhythm/mouse_0322N/run_20230701/20230508/jobNum_0/pipeline_basic.py   to   /media/rich/bigSSD/analysis_data/face_rhythm/mouse_0322N/run_20230701/20230508/jobNum_0/pipeline_basic.py\n",
      "downloading /n/data1/hms/neurobio/sabatini/rich/analysis/faceRhythm/mouse_0322N/run_20230701/20230508/jobNum_0/run_info.json   to   /media/rich/bigSSD/analysis_data/face_rhythm/mouse_0322N/run_20230701/20230508/jobNum_0/run_info.json\n",
      "downloading /n/data1/hms/neurobio/sabatini/rich/analysis/faceRhythm/mouse_0322N/run_20230701/20230508/jobNum_0/sbatch_config.sh   to   /media/rich/bigSSD/analysis_data/face_rhythm/mouse_0322N/run_20230701/20230508/jobNum_0/sbatch_config.sh\n",
      "downloading /n/data1/hms/neurobio/sabatini/rich/analysis/faceRhythm/mouse_0322N/run_20230701/20230508/aligned_TCA/parameters_batch.json   to   /media/rich/bigSSD/analysis_data/face_rhythm/mouse_0322N/run_20230701/20230508/aligned_TCA/parameters_batch.json\n",
      "downloading /n/data1/hms/neurobio/sabatini/rich/analysis/faceRhythm/mouse_0322N/run_20230701/20230508/aligned_TCA/jobNum_0/tca_refit.h5   to   /media/rich/bigSSD/analysis_data/face_rhythm/mouse_0322N/run_20230701/20230508/aligned_TCA/jobNum_0/tca_refit.h5\n",
      "downloading /n/data1/hms/neurobio/sabatini/rich/analysis/faceRhythm/mouse_0322N/run_20230701/20230508/aligned_TCA/jobNum_0/params.json   to   /media/rich/bigSSD/analysis_data/face_rhythm/mouse_0322N/run_20230701/20230508/aligned_TCA/jobNum_0/params.json\n",
      "downloading /n/data1/hms/neurobio/sabatini/rich/analysis/faceRhythm/mouse_0322N/run_20230701/20230508/aligned_TCA/jobNum_0/print_log_12685265.log   to   /media/rich/bigSSD/analysis_data/face_rhythm/mouse_0322N/run_20230701/20230508/aligned_TCA/jobNum_0/print_log_12685265.log\n",
      "downloading /n/data1/hms/neurobio/sabatini/rich/analysis/faceRhythm/mouse_0322N/run_20230701/20230508/aligned_TCA/jobNum_0/1_make_consistent_fr_factors.py   to   /media/rich/bigSSD/analysis_data/face_rhythm/mouse_0322N/run_20230701/20230508/aligned_TCA/jobNum_0/1_make_consistent_fr_factors.py\n",
      "downloading /n/data1/hms/neurobio/sabatini/rich/analysis/faceRhythm/mouse_0322N/run_20230701/20230508/aligned_TCA/jobNum_0/sbatch_config.sh   to   /media/rich/bigSSD/analysis_data/face_rhythm/mouse_0322N/run_20230701/20230508/aligned_TCA/jobNum_0/sbatch_config.sh\n",
      "downloading /n/data1/hms/neurobio/sabatini/rich/analysis/faceRhythm/mouse_0322N/run_20230701/20230508/aligned_TCA/1_make_consistent_fr_factors.py   to   /media/rich/bigSSD/analysis_data/face_rhythm/mouse_0322N/run_20230701/20230508/aligned_TCA/1_make_consistent_fr_factors.py\n",
      "downloading /n/data1/hms/neurobio/sabatini/rich/analysis/faceRhythm/mouse_0322N/run_20230701/20230508/aligned_TCA/dispatcher.py   to   /media/rich/bigSSD/analysis_data/face_rhythm/mouse_0322N/run_20230701/20230508/aligned_TCA/dispatcher.py\n",
      "downloading /n/data1/hms/neurobio/sabatini/rich/analysis/faceRhythm/mouse_0322N/run_20230701/20230508/aligned_TCA/notes.txt   to   /media/rich/bigSSD/analysis_data/face_rhythm/mouse_0322N/run_20230701/20230508/aligned_TCA/notes.txt\n",
      "downloading /n/data1/hms/neurobio/sabatini/rich/analysis/faceRhythm/mouse_0322N/run_20230701/20230508/pipeline_basic.py   to   /media/rich/bigSSD/analysis_data/face_rhythm/mouse_0322N/run_20230701/20230508/pipeline_basic.py\n",
      "downloading /n/data1/hms/neurobio/sabatini/rich/analysis/faceRhythm/mouse_0322N/run_20230701/20230508/dispatcher.py   to   /media/rich/bigSSD/analysis_data/face_rhythm/mouse_0322N/run_20230701/20230508/dispatcher.py\n",
      "downloading /n/data1/hms/neurobio/sabatini/rich/analysis/faceRhythm/mouse_0322N/run_20230701/20230508/notes.txt   to   /media/rich/bigSSD/analysis_data/face_rhythm/mouse_0322N/run_20230701/20230508/notes.txt\n",
      "downloading /n/data1/hms/neurobio/sabatini/rich/analysis/faceRhythm/mouse_0322N/run_20230701/20230506/parameters_batch.json   to   /media/rich/bigSSD/analysis_data/face_rhythm/mouse_0322N/run_20230701/20230506/parameters_batch.json\n",
      "downloading /n/data1/hms/neurobio/sabatini/rich/analysis/faceRhythm/mouse_0322N/run_20230701/20230506/jobNum_0/params.json   to   /media/rich/bigSSD/analysis_data/face_rhythm/mouse_0322N/run_20230701/20230506/jobNum_0/params.json\n",
      "downloading /n/data1/hms/neurobio/sabatini/rich/analysis/faceRhythm/mouse_0322N/run_20230701/20230506/jobNum_0/print_log_12020811.log   to   /media/rich/bigSSD/analysis_data/face_rhythm/mouse_0322N/run_20230701/20230506/jobNum_0/print_log_12020811.log\n",
      "downloading /n/data1/hms/neurobio/sabatini/rich/analysis/faceRhythm/mouse_0322N/run_20230701/20230506/jobNum_0/config.yaml   to   /media/rich/bigSSD/analysis_data/face_rhythm/mouse_0322N/run_20230701/20230506/jobNum_0/config.yaml\n",
      "downloading /n/data1/hms/neurobio/sabatini/rich/analysis/faceRhythm/mouse_0322N/run_20230701/20230506/jobNum_0/print_log_12079302.log   to   /media/rich/bigSSD/analysis_data/face_rhythm/mouse_0322N/run_20230701/20230506/jobNum_0/print_log_12079302.log\n",
      "downloading /n/data1/hms/neurobio/sabatini/rich/analysis/faceRhythm/mouse_0322N/run_20230701/20230506/jobNum_0/cpu_tracker.csv   to   /media/rich/bigSSD/analysis_data/face_rhythm/mouse_0322N/run_20230701/20230506/jobNum_0/cpu_tracker.csv\n",
      "downloading /n/data1/hms/neurobio/sabatini/rich/analysis/faceRhythm/mouse_0322N/run_20230701/20230506/jobNum_0/analysis_files/ROIs.h5   to   /media/rich/bigSSD/analysis_data/face_rhythm/mouse_0322N/run_20230701/20230506/jobNum_0/analysis_files/ROIs.h5\n",
      "downloading /n/data1/hms/neurobio/sabatini/rich/analysis/faceRhythm/mouse_0322N/run_20230701/20230506/jobNum_0/analysis_files/TCA.h5   to   /media/rich/bigSSD/analysis_data/face_rhythm/mouse_0322N/run_20230701/20230506/jobNum_0/analysis_files/TCA.h5\n",
      "downloading /n/data1/hms/neurobio/sabatini/rich/analysis/faceRhythm/mouse_0322N/run_20230701/20230506/jobNum_0/analysis_files/PointTracker.h5   to   /media/rich/bigSSD/analysis_data/face_rhythm/mouse_0322N/run_20230701/20230506/jobNum_0/analysis_files/PointTracker.h5\n"
     ]
    },
    {
     "name": "stdout",
     "output_type": "stream",
     "text": [
      "downloading /n/data1/hms/neurobio/sabatini/rich/analysis/faceRhythm/mouse_0322N/run_20230701/20230506/jobNum_0/analysis_files/VQT_Analyzer.h5   to   /media/rich/bigSSD/analysis_data/face_rhythm/mouse_0322N/run_20230701/20230506/jobNum_0/analysis_files/VQT_Analyzer.h5\n",
      "downloading /n/data1/hms/neurobio/sabatini/rich/analysis/faceRhythm/mouse_0322N/run_20230701/20230506/jobNum_0/analysis_files/Dataset_videos.h5   to   /media/rich/bigSSD/analysis_data/face_rhythm/mouse_0322N/run_20230701/20230506/jobNum_0/analysis_files/Dataset_videos.h5\n",
      "downloading /n/data1/hms/neurobio/sabatini/rich/analysis/faceRhythm/mouse_0322N/run_20230701/20230506/jobNum_0/pipeline_basic.py   to   /media/rich/bigSSD/analysis_data/face_rhythm/mouse_0322N/run_20230701/20230506/jobNum_0/pipeline_basic.py\n",
      "downloading /n/data1/hms/neurobio/sabatini/rich/analysis/faceRhythm/mouse_0322N/run_20230701/20230506/jobNum_0/run_info.json   to   /media/rich/bigSSD/analysis_data/face_rhythm/mouse_0322N/run_20230701/20230506/jobNum_0/run_info.json\n",
      "downloading /n/data1/hms/neurobio/sabatini/rich/analysis/faceRhythm/mouse_0322N/run_20230701/20230506/jobNum_0/sbatch_config.sh   to   /media/rich/bigSSD/analysis_data/face_rhythm/mouse_0322N/run_20230701/20230506/jobNum_0/sbatch_config.sh\n",
      "downloading /n/data1/hms/neurobio/sabatini/rich/analysis/faceRhythm/mouse_0322N/run_20230701/20230506/aligned_TCA/parameters_batch.json   to   /media/rich/bigSSD/analysis_data/face_rhythm/mouse_0322N/run_20230701/20230506/aligned_TCA/parameters_batch.json\n",
      "downloading /n/data1/hms/neurobio/sabatini/rich/analysis/faceRhythm/mouse_0322N/run_20230701/20230506/aligned_TCA/jobNum_0/print_log_12685262.log   to   /media/rich/bigSSD/analysis_data/face_rhythm/mouse_0322N/run_20230701/20230506/aligned_TCA/jobNum_0/print_log_12685262.log\n",
      "downloading /n/data1/hms/neurobio/sabatini/rich/analysis/faceRhythm/mouse_0322N/run_20230701/20230506/aligned_TCA/jobNum_0/tca_refit.h5   to   /media/rich/bigSSD/analysis_data/face_rhythm/mouse_0322N/run_20230701/20230506/aligned_TCA/jobNum_0/tca_refit.h5\n",
      "downloading /n/data1/hms/neurobio/sabatini/rich/analysis/faceRhythm/mouse_0322N/run_20230701/20230506/aligned_TCA/jobNum_0/params.json   to   /media/rich/bigSSD/analysis_data/face_rhythm/mouse_0322N/run_20230701/20230506/aligned_TCA/jobNum_0/params.json\n",
      "downloading /n/data1/hms/neurobio/sabatini/rich/analysis/faceRhythm/mouse_0322N/run_20230701/20230506/aligned_TCA/jobNum_0/print_log_12693364.log   to   /media/rich/bigSSD/analysis_data/face_rhythm/mouse_0322N/run_20230701/20230506/aligned_TCA/jobNum_0/print_log_12693364.log\n",
      "downloading /n/data1/hms/neurobio/sabatini/rich/analysis/faceRhythm/mouse_0322N/run_20230701/20230506/aligned_TCA/jobNum_0/1_make_consistent_fr_factors.py   to   /media/rich/bigSSD/analysis_data/face_rhythm/mouse_0322N/run_20230701/20230506/aligned_TCA/jobNum_0/1_make_consistent_fr_factors.py\n",
      "downloading /n/data1/hms/neurobio/sabatini/rich/analysis/faceRhythm/mouse_0322N/run_20230701/20230506/aligned_TCA/jobNum_0/sbatch_config.sh   to   /media/rich/bigSSD/analysis_data/face_rhythm/mouse_0322N/run_20230701/20230506/aligned_TCA/jobNum_0/sbatch_config.sh\n",
      "downloading /n/data1/hms/neurobio/sabatini/rich/analysis/faceRhythm/mouse_0322N/run_20230701/20230506/aligned_TCA/jobNum_0/print_log_12686135.log   to   /media/rich/bigSSD/analysis_data/face_rhythm/mouse_0322N/run_20230701/20230506/aligned_TCA/jobNum_0/print_log_12686135.log\n",
      "downloading /n/data1/hms/neurobio/sabatini/rich/analysis/faceRhythm/mouse_0322N/run_20230701/20230506/aligned_TCA/jobNum_0/print_log_12693892.log   to   /media/rich/bigSSD/analysis_data/face_rhythm/mouse_0322N/run_20230701/20230506/aligned_TCA/jobNum_0/print_log_12693892.log\n",
      "downloading /n/data1/hms/neurobio/sabatini/rich/analysis/faceRhythm/mouse_0322N/run_20230701/20230506/aligned_TCA/1_make_consistent_fr_factors.py   to   /media/rich/bigSSD/analysis_data/face_rhythm/mouse_0322N/run_20230701/20230506/aligned_TCA/1_make_consistent_fr_factors.py\n",
      "downloading /n/data1/hms/neurobio/sabatini/rich/analysis/faceRhythm/mouse_0322N/run_20230701/20230506/aligned_TCA/dispatcher.py   to   /media/rich/bigSSD/analysis_data/face_rhythm/mouse_0322N/run_20230701/20230506/aligned_TCA/dispatcher.py\n",
      "downloading /n/data1/hms/neurobio/sabatini/rich/analysis/faceRhythm/mouse_0322N/run_20230701/20230506/aligned_TCA/notes.txt   to   /media/rich/bigSSD/analysis_data/face_rhythm/mouse_0322N/run_20230701/20230506/aligned_TCA/notes.txt\n",
      "downloading /n/data1/hms/neurobio/sabatini/rich/analysis/faceRhythm/mouse_0322N/run_20230701/20230506/pipeline_basic.py   to   /media/rich/bigSSD/analysis_data/face_rhythm/mouse_0322N/run_20230701/20230506/pipeline_basic.py\n",
      "downloading /n/data1/hms/neurobio/sabatini/rich/analysis/faceRhythm/mouse_0322N/run_20230701/20230506/dispatcher.py   to   /media/rich/bigSSD/analysis_data/face_rhythm/mouse_0322N/run_20230701/20230506/dispatcher.py\n",
      "downloading /n/data1/hms/neurobio/sabatini/rich/analysis/faceRhythm/mouse_0322N/run_20230701/20230506/notes.txt   to   /media/rich/bigSSD/analysis_data/face_rhythm/mouse_0322N/run_20230701/20230506/notes.txt\n",
      "downloading /n/data1/hms/neurobio/sabatini/rich/analysis/faceRhythm/mouse_0322N/run_20230701/20230527/parameters_batch.json   to   /media/rich/bigSSD/analysis_data/face_rhythm/mouse_0322N/run_20230701/20230527/parameters_batch.json\n",
      "downloading /n/data1/hms/neurobio/sabatini/rich/analysis/faceRhythm/mouse_0322N/run_20230701/20230527/jobNum_0/params.json   to   /media/rich/bigSSD/analysis_data/face_rhythm/mouse_0322N/run_20230701/20230527/jobNum_0/params.json\n",
      "downloading /n/data1/hms/neurobio/sabatini/rich/analysis/faceRhythm/mouse_0322N/run_20230701/20230527/jobNum_0/config.yaml   to   /media/rich/bigSSD/analysis_data/face_rhythm/mouse_0322N/run_20230701/20230527/jobNum_0/config.yaml\n",
      "downloading /n/data1/hms/neurobio/sabatini/rich/analysis/faceRhythm/mouse_0322N/run_20230701/20230527/jobNum_0/cpu_tracker.csv   to   /media/rich/bigSSD/analysis_data/face_rhythm/mouse_0322N/run_20230701/20230527/jobNum_0/cpu_tracker.csv\n",
      "downloading /n/data1/hms/neurobio/sabatini/rich/analysis/faceRhythm/mouse_0322N/run_20230701/20230527/jobNum_0/print_log_12079473.log   to   /media/rich/bigSSD/analysis_data/face_rhythm/mouse_0322N/run_20230701/20230527/jobNum_0/print_log_12079473.log\n",
      "downloading /n/data1/hms/neurobio/sabatini/rich/analysis/faceRhythm/mouse_0322N/run_20230701/20230527/jobNum_0/print_log_12021006.log   to   /media/rich/bigSSD/analysis_data/face_rhythm/mouse_0322N/run_20230701/20230527/jobNum_0/print_log_12021006.log\n",
      "downloading /n/data1/hms/neurobio/sabatini/rich/analysis/faceRhythm/mouse_0322N/run_20230701/20230527/jobNum_0/analysis_files/ROIs.h5   to   /media/rich/bigSSD/analysis_data/face_rhythm/mouse_0322N/run_20230701/20230527/jobNum_0/analysis_files/ROIs.h5\n",
      "downloading /n/data1/hms/neurobio/sabatini/rich/analysis/faceRhythm/mouse_0322N/run_20230701/20230527/jobNum_0/analysis_files/TCA.h5   to   /media/rich/bigSSD/analysis_data/face_rhythm/mouse_0322N/run_20230701/20230527/jobNum_0/analysis_files/TCA.h5\n",
      "downloading /n/data1/hms/neurobio/sabatini/rich/analysis/faceRhythm/mouse_0322N/run_20230701/20230527/jobNum_0/analysis_files/PointTracker.h5   to   /media/rich/bigSSD/analysis_data/face_rhythm/mouse_0322N/run_20230701/20230527/jobNum_0/analysis_files/PointTracker.h5\n",
      "downloading /n/data1/hms/neurobio/sabatini/rich/analysis/faceRhythm/mouse_0322N/run_20230701/20230527/jobNum_0/analysis_files/VQT_Analyzer.h5   to   /media/rich/bigSSD/analysis_data/face_rhythm/mouse_0322N/run_20230701/20230527/jobNum_0/analysis_files/VQT_Analyzer.h5\n",
      "downloading /n/data1/hms/neurobio/sabatini/rich/analysis/faceRhythm/mouse_0322N/run_20230701/20230527/jobNum_0/analysis_files/Dataset_videos.h5   to   /media/rich/bigSSD/analysis_data/face_rhythm/mouse_0322N/run_20230701/20230527/jobNum_0/analysis_files/Dataset_videos.h5\n",
      "downloading /n/data1/hms/neurobio/sabatini/rich/analysis/faceRhythm/mouse_0322N/run_20230701/20230527/jobNum_0/pipeline_basic.py   to   /media/rich/bigSSD/analysis_data/face_rhythm/mouse_0322N/run_20230701/20230527/jobNum_0/pipeline_basic.py\n",
      "downloading /n/data1/hms/neurobio/sabatini/rich/analysis/faceRhythm/mouse_0322N/run_20230701/20230527/jobNum_0/run_info.json   to   /media/rich/bigSSD/analysis_data/face_rhythm/mouse_0322N/run_20230701/20230527/jobNum_0/run_info.json\n",
      "downloading /n/data1/hms/neurobio/sabatini/rich/analysis/faceRhythm/mouse_0322N/run_20230701/20230527/jobNum_0/sbatch_config.sh   to   /media/rich/bigSSD/analysis_data/face_rhythm/mouse_0322N/run_20230701/20230527/jobNum_0/sbatch_config.sh\n"
     ]
    },
    {
     "name": "stdout",
     "output_type": "stream",
     "text": [
      "downloading /n/data1/hms/neurobio/sabatini/rich/analysis/faceRhythm/mouse_0322N/run_20230701/20230527/aligned_TCA/parameters_batch.json   to   /media/rich/bigSSD/analysis_data/face_rhythm/mouse_0322N/run_20230701/20230527/aligned_TCA/parameters_batch.json\n",
      "downloading /n/data1/hms/neurobio/sabatini/rich/analysis/faceRhythm/mouse_0322N/run_20230701/20230527/aligned_TCA/jobNum_0/tca_refit.h5   to   /media/rich/bigSSD/analysis_data/face_rhythm/mouse_0322N/run_20230701/20230527/aligned_TCA/jobNum_0/tca_refit.h5\n",
      "downloading /n/data1/hms/neurobio/sabatini/rich/analysis/faceRhythm/mouse_0322N/run_20230701/20230527/aligned_TCA/jobNum_0/params.json   to   /media/rich/bigSSD/analysis_data/face_rhythm/mouse_0322N/run_20230701/20230527/aligned_TCA/jobNum_0/params.json\n",
      "downloading /n/data1/hms/neurobio/sabatini/rich/analysis/faceRhythm/mouse_0322N/run_20230701/20230527/aligned_TCA/jobNum_0/1_make_consistent_fr_factors.py   to   /media/rich/bigSSD/analysis_data/face_rhythm/mouse_0322N/run_20230701/20230527/aligned_TCA/jobNum_0/1_make_consistent_fr_factors.py\n",
      "downloading /n/data1/hms/neurobio/sabatini/rich/analysis/faceRhythm/mouse_0322N/run_20230701/20230527/aligned_TCA/jobNum_0/sbatch_config.sh   to   /media/rich/bigSSD/analysis_data/face_rhythm/mouse_0322N/run_20230701/20230527/aligned_TCA/jobNum_0/sbatch_config.sh\n",
      "downloading /n/data1/hms/neurobio/sabatini/rich/analysis/faceRhythm/mouse_0322N/run_20230701/20230527/aligned_TCA/jobNum_0/print_log_12685355.log   to   /media/rich/bigSSD/analysis_data/face_rhythm/mouse_0322N/run_20230701/20230527/aligned_TCA/jobNum_0/print_log_12685355.log\n",
      "downloading /n/data1/hms/neurobio/sabatini/rich/analysis/faceRhythm/mouse_0322N/run_20230701/20230527/aligned_TCA/1_make_consistent_fr_factors.py   to   /media/rich/bigSSD/analysis_data/face_rhythm/mouse_0322N/run_20230701/20230527/aligned_TCA/1_make_consistent_fr_factors.py\n",
      "downloading /n/data1/hms/neurobio/sabatini/rich/analysis/faceRhythm/mouse_0322N/run_20230701/20230527/aligned_TCA/dispatcher.py   to   /media/rich/bigSSD/analysis_data/face_rhythm/mouse_0322N/run_20230701/20230527/aligned_TCA/dispatcher.py\n",
      "downloading /n/data1/hms/neurobio/sabatini/rich/analysis/faceRhythm/mouse_0322N/run_20230701/20230527/aligned_TCA/notes.txt   to   /media/rich/bigSSD/analysis_data/face_rhythm/mouse_0322N/run_20230701/20230527/aligned_TCA/notes.txt\n",
      "downloading /n/data1/hms/neurobio/sabatini/rich/analysis/faceRhythm/mouse_0322N/run_20230701/20230527/pipeline_basic.py   to   /media/rich/bigSSD/analysis_data/face_rhythm/mouse_0322N/run_20230701/20230527/pipeline_basic.py\n",
      "downloading /n/data1/hms/neurobio/sabatini/rich/analysis/faceRhythm/mouse_0322N/run_20230701/20230527/dispatcher.py   to   /media/rich/bigSSD/analysis_data/face_rhythm/mouse_0322N/run_20230701/20230527/dispatcher.py\n",
      "downloading /n/data1/hms/neurobio/sabatini/rich/analysis/faceRhythm/mouse_0322N/run_20230701/20230527/notes.txt   to   /media/rich/bigSSD/analysis_data/face_rhythm/mouse_0322N/run_20230701/20230527/notes.txt\n",
      "downloading /n/data1/hms/neurobio/sabatini/rich/analysis/faceRhythm/mouse_0322N/run_20230701/20230519/parameters_batch.json   to   /media/rich/bigSSD/analysis_data/face_rhythm/mouse_0322N/run_20230701/20230519/parameters_batch.json\n",
      "downloading /n/data1/hms/neurobio/sabatini/rich/analysis/faceRhythm/mouse_0322N/run_20230701/20230519/jobNum_0/print_log_12079296.log   to   /media/rich/bigSSD/analysis_data/face_rhythm/mouse_0322N/run_20230701/20230519/jobNum_0/print_log_12079296.log\n",
      "downloading /n/data1/hms/neurobio/sabatini/rich/analysis/faceRhythm/mouse_0322N/run_20230701/20230519/jobNum_0/params.json   to   /media/rich/bigSSD/analysis_data/face_rhythm/mouse_0322N/run_20230701/20230519/jobNum_0/params.json\n",
      "downloading /n/data1/hms/neurobio/sabatini/rich/analysis/faceRhythm/mouse_0322N/run_20230701/20230519/jobNum_0/config.yaml   to   /media/rich/bigSSD/analysis_data/face_rhythm/mouse_0322N/run_20230701/20230519/jobNum_0/config.yaml\n",
      "downloading /n/data1/hms/neurobio/sabatini/rich/analysis/faceRhythm/mouse_0322N/run_20230701/20230519/jobNum_0/cpu_tracker.csv   to   /media/rich/bigSSD/analysis_data/face_rhythm/mouse_0322N/run_20230701/20230519/jobNum_0/cpu_tracker.csv\n",
      "downloading /n/data1/hms/neurobio/sabatini/rich/analysis/faceRhythm/mouse_0322N/run_20230701/20230519/jobNum_0/analysis_files/ROIs.h5   to   /media/rich/bigSSD/analysis_data/face_rhythm/mouse_0322N/run_20230701/20230519/jobNum_0/analysis_files/ROIs.h5\n",
      "downloading /n/data1/hms/neurobio/sabatini/rich/analysis/faceRhythm/mouse_0322N/run_20230701/20230519/jobNum_0/analysis_files/TCA.h5   to   /media/rich/bigSSD/analysis_data/face_rhythm/mouse_0322N/run_20230701/20230519/jobNum_0/analysis_files/TCA.h5\n",
      "downloading /n/data1/hms/neurobio/sabatini/rich/analysis/faceRhythm/mouse_0322N/run_20230701/20230519/jobNum_0/analysis_files/PointTracker.h5   to   /media/rich/bigSSD/analysis_data/face_rhythm/mouse_0322N/run_20230701/20230519/jobNum_0/analysis_files/PointTracker.h5\n",
      "downloading /n/data1/hms/neurobio/sabatini/rich/analysis/faceRhythm/mouse_0322N/run_20230701/20230519/jobNum_0/analysis_files/VQT_Analyzer.h5   to   /media/rich/bigSSD/analysis_data/face_rhythm/mouse_0322N/run_20230701/20230519/jobNum_0/analysis_files/VQT_Analyzer.h5\n",
      "downloading /n/data1/hms/neurobio/sabatini/rich/analysis/faceRhythm/mouse_0322N/run_20230701/20230519/jobNum_0/analysis_files/Dataset_videos.h5   to   /media/rich/bigSSD/analysis_data/face_rhythm/mouse_0322N/run_20230701/20230519/jobNum_0/analysis_files/Dataset_videos.h5\n",
      "downloading /n/data1/hms/neurobio/sabatini/rich/analysis/faceRhythm/mouse_0322N/run_20230701/20230519/jobNum_0/pipeline_basic.py   to   /media/rich/bigSSD/analysis_data/face_rhythm/mouse_0322N/run_20230701/20230519/jobNum_0/pipeline_basic.py\n",
      "downloading /n/data1/hms/neurobio/sabatini/rich/analysis/faceRhythm/mouse_0322N/run_20230701/20230519/jobNum_0/run_info.json   to   /media/rich/bigSSD/analysis_data/face_rhythm/mouse_0322N/run_20230701/20230519/jobNum_0/run_info.json\n",
      "downloading /n/data1/hms/neurobio/sabatini/rich/analysis/faceRhythm/mouse_0322N/run_20230701/20230519/jobNum_0/sbatch_config.sh   to   /media/rich/bigSSD/analysis_data/face_rhythm/mouse_0322N/run_20230701/20230519/jobNum_0/sbatch_config.sh\n",
      "downloading /n/data1/hms/neurobio/sabatini/rich/analysis/faceRhythm/mouse_0322N/run_20230701/20230519/jobNum_0/print_log_12020862.log   to   /media/rich/bigSSD/analysis_data/face_rhythm/mouse_0322N/run_20230701/20230519/jobNum_0/print_log_12020862.log\n",
      "downloading /n/data1/hms/neurobio/sabatini/rich/analysis/faceRhythm/mouse_0322N/run_20230701/20230519/aligned_TCA/parameters_batch.json   to   /media/rich/bigSSD/analysis_data/face_rhythm/mouse_0322N/run_20230701/20230519/aligned_TCA/parameters_batch.json\n",
      "downloading /n/data1/hms/neurobio/sabatini/rich/analysis/faceRhythm/mouse_0322N/run_20230701/20230519/aligned_TCA/jobNum_0/tca_refit.h5   to   /media/rich/bigSSD/analysis_data/face_rhythm/mouse_0322N/run_20230701/20230519/aligned_TCA/jobNum_0/tca_refit.h5\n",
      "downloading /n/data1/hms/neurobio/sabatini/rich/analysis/faceRhythm/mouse_0322N/run_20230701/20230519/aligned_TCA/jobNum_0/params.json   to   /media/rich/bigSSD/analysis_data/face_rhythm/mouse_0322N/run_20230701/20230519/aligned_TCA/jobNum_0/params.json\n",
      "downloading /n/data1/hms/neurobio/sabatini/rich/analysis/faceRhythm/mouse_0322N/run_20230701/20230519/aligned_TCA/jobNum_0/1_make_consistent_fr_factors.py   to   /media/rich/bigSSD/analysis_data/face_rhythm/mouse_0322N/run_20230701/20230519/aligned_TCA/jobNum_0/1_make_consistent_fr_factors.py\n",
      "downloading /n/data1/hms/neurobio/sabatini/rich/analysis/faceRhythm/mouse_0322N/run_20230701/20230519/aligned_TCA/jobNum_0/print_log_12685329.log   to   /media/rich/bigSSD/analysis_data/face_rhythm/mouse_0322N/run_20230701/20230519/aligned_TCA/jobNum_0/print_log_12685329.log\n",
      "downloading /n/data1/hms/neurobio/sabatini/rich/analysis/faceRhythm/mouse_0322N/run_20230701/20230519/aligned_TCA/jobNum_0/sbatch_config.sh   to   /media/rich/bigSSD/analysis_data/face_rhythm/mouse_0322N/run_20230701/20230519/aligned_TCA/jobNum_0/sbatch_config.sh\n",
      "downloading /n/data1/hms/neurobio/sabatini/rich/analysis/faceRhythm/mouse_0322N/run_20230701/20230519/aligned_TCA/1_make_consistent_fr_factors.py   to   /media/rich/bigSSD/analysis_data/face_rhythm/mouse_0322N/run_20230701/20230519/aligned_TCA/1_make_consistent_fr_factors.py\n",
      "downloading /n/data1/hms/neurobio/sabatini/rich/analysis/faceRhythm/mouse_0322N/run_20230701/20230519/aligned_TCA/dispatcher.py   to   /media/rich/bigSSD/analysis_data/face_rhythm/mouse_0322N/run_20230701/20230519/aligned_TCA/dispatcher.py\n"
     ]
    },
    {
     "name": "stdout",
     "output_type": "stream",
     "text": [
      "downloading /n/data1/hms/neurobio/sabatini/rich/analysis/faceRhythm/mouse_0322N/run_20230701/20230519/aligned_TCA/notes.txt   to   /media/rich/bigSSD/analysis_data/face_rhythm/mouse_0322N/run_20230701/20230519/aligned_TCA/notes.txt\n",
      "downloading /n/data1/hms/neurobio/sabatini/rich/analysis/faceRhythm/mouse_0322N/run_20230701/20230519/pipeline_basic.py   to   /media/rich/bigSSD/analysis_data/face_rhythm/mouse_0322N/run_20230701/20230519/pipeline_basic.py\n",
      "downloading /n/data1/hms/neurobio/sabatini/rich/analysis/faceRhythm/mouse_0322N/run_20230701/20230519/dispatcher.py   to   /media/rich/bigSSD/analysis_data/face_rhythm/mouse_0322N/run_20230701/20230519/dispatcher.py\n",
      "downloading /n/data1/hms/neurobio/sabatini/rich/analysis/faceRhythm/mouse_0322N/run_20230701/20230519/notes.txt   to   /media/rich/bigSSD/analysis_data/face_rhythm/mouse_0322N/run_20230701/20230519/notes.txt\n",
      "downloading /n/data1/hms/neurobio/sabatini/rich/analysis/faceRhythm/mouse_0322N/run_20230701/20230501/parameters_batch.json   to   /media/rich/bigSSD/analysis_data/face_rhythm/mouse_0322N/run_20230701/20230501/parameters_batch.json\n",
      "downloading /n/data1/hms/neurobio/sabatini/rich/analysis/faceRhythm/mouse_0322N/run_20230701/20230501/jobNum_0/print_log_12079285.log   to   /media/rich/bigSSD/analysis_data/face_rhythm/mouse_0322N/run_20230701/20230501/jobNum_0/print_log_12079285.log\n",
      "downloading /n/data1/hms/neurobio/sabatini/rich/analysis/faceRhythm/mouse_0322N/run_20230701/20230501/jobNum_0/params.json   to   /media/rich/bigSSD/analysis_data/face_rhythm/mouse_0322N/run_20230701/20230501/jobNum_0/params.json\n",
      "downloading /n/data1/hms/neurobio/sabatini/rich/analysis/faceRhythm/mouse_0322N/run_20230701/20230501/jobNum_0/config.yaml   to   /media/rich/bigSSD/analysis_data/face_rhythm/mouse_0322N/run_20230701/20230501/jobNum_0/config.yaml\n",
      "downloading /n/data1/hms/neurobio/sabatini/rich/analysis/faceRhythm/mouse_0322N/run_20230701/20230501/jobNum_0/cpu_tracker.csv   to   /media/rich/bigSSD/analysis_data/face_rhythm/mouse_0322N/run_20230701/20230501/jobNum_0/cpu_tracker.csv\n",
      "downloading /n/data1/hms/neurobio/sabatini/rich/analysis/faceRhythm/mouse_0322N/run_20230701/20230501/jobNum_0/analysis_files/ROIs.h5   to   /media/rich/bigSSD/analysis_data/face_rhythm/mouse_0322N/run_20230701/20230501/jobNum_0/analysis_files/ROIs.h5\n",
      "downloading /n/data1/hms/neurobio/sabatini/rich/analysis/faceRhythm/mouse_0322N/run_20230701/20230501/jobNum_0/analysis_files/TCA.h5   to   /media/rich/bigSSD/analysis_data/face_rhythm/mouse_0322N/run_20230701/20230501/jobNum_0/analysis_files/TCA.h5\n",
      "downloading /n/data1/hms/neurobio/sabatini/rich/analysis/faceRhythm/mouse_0322N/run_20230701/20230501/jobNum_0/analysis_files/PointTracker.h5   to   /media/rich/bigSSD/analysis_data/face_rhythm/mouse_0322N/run_20230701/20230501/jobNum_0/analysis_files/PointTracker.h5\n",
      "downloading /n/data1/hms/neurobio/sabatini/rich/analysis/faceRhythm/mouse_0322N/run_20230701/20230501/jobNum_0/analysis_files/VQT_Analyzer.h5   to   /media/rich/bigSSD/analysis_data/face_rhythm/mouse_0322N/run_20230701/20230501/jobNum_0/analysis_files/VQT_Analyzer.h5\n",
      "downloading /n/data1/hms/neurobio/sabatini/rich/analysis/faceRhythm/mouse_0322N/run_20230701/20230501/jobNum_0/analysis_files/Dataset_videos.h5   to   /media/rich/bigSSD/analysis_data/face_rhythm/mouse_0322N/run_20230701/20230501/jobNum_0/analysis_files/Dataset_videos.h5\n",
      "downloading /n/data1/hms/neurobio/sabatini/rich/analysis/faceRhythm/mouse_0322N/run_20230701/20230501/jobNum_0/pipeline_basic.py   to   /media/rich/bigSSD/analysis_data/face_rhythm/mouse_0322N/run_20230701/20230501/jobNum_0/pipeline_basic.py\n",
      "downloading /n/data1/hms/neurobio/sabatini/rich/analysis/faceRhythm/mouse_0322N/run_20230701/20230501/jobNum_0/print_log_12020807.log   to   /media/rich/bigSSD/analysis_data/face_rhythm/mouse_0322N/run_20230701/20230501/jobNum_0/print_log_12020807.log\n",
      "downloading /n/data1/hms/neurobio/sabatini/rich/analysis/faceRhythm/mouse_0322N/run_20230701/20230501/jobNum_0/run_info.json   to   /media/rich/bigSSD/analysis_data/face_rhythm/mouse_0322N/run_20230701/20230501/jobNum_0/run_info.json\n",
      "downloading /n/data1/hms/neurobio/sabatini/rich/analysis/faceRhythm/mouse_0322N/run_20230701/20230501/jobNum_0/sbatch_config.sh   to   /media/rich/bigSSD/analysis_data/face_rhythm/mouse_0322N/run_20230701/20230501/jobNum_0/sbatch_config.sh\n",
      "downloading /n/data1/hms/neurobio/sabatini/rich/analysis/faceRhythm/mouse_0322N/run_20230701/20230501/aligned_TCA/parameters_batch.json   to   /media/rich/bigSSD/analysis_data/face_rhythm/mouse_0322N/run_20230701/20230501/aligned_TCA/parameters_batch.json\n",
      "downloading /n/data1/hms/neurobio/sabatini/rich/analysis/faceRhythm/mouse_0322N/run_20230701/20230501/aligned_TCA/jobNum_0/tca_refit.h5   to   /media/rich/bigSSD/analysis_data/face_rhythm/mouse_0322N/run_20230701/20230501/aligned_TCA/jobNum_0/tca_refit.h5\n",
      "downloading /n/data1/hms/neurobio/sabatini/rich/analysis/faceRhythm/mouse_0322N/run_20230701/20230501/aligned_TCA/jobNum_0/params.json   to   /media/rich/bigSSD/analysis_data/face_rhythm/mouse_0322N/run_20230701/20230501/aligned_TCA/jobNum_0/params.json\n",
      "downloading /n/data1/hms/neurobio/sabatini/rich/analysis/faceRhythm/mouse_0322N/run_20230701/20230501/aligned_TCA/jobNum_0/print_log_12684614.log   to   /media/rich/bigSSD/analysis_data/face_rhythm/mouse_0322N/run_20230701/20230501/aligned_TCA/jobNum_0/print_log_12684614.log\n",
      "downloading /n/data1/hms/neurobio/sabatini/rich/analysis/faceRhythm/mouse_0322N/run_20230701/20230501/aligned_TCA/jobNum_0/1_make_consistent_fr_factors.py   to   /media/rich/bigSSD/analysis_data/face_rhythm/mouse_0322N/run_20230701/20230501/aligned_TCA/jobNum_0/1_make_consistent_fr_factors.py\n",
      "downloading /n/data1/hms/neurobio/sabatini/rich/analysis/faceRhythm/mouse_0322N/run_20230701/20230501/aligned_TCA/jobNum_0/sbatch_config.sh   to   /media/rich/bigSSD/analysis_data/face_rhythm/mouse_0322N/run_20230701/20230501/aligned_TCA/jobNum_0/sbatch_config.sh\n",
      "downloading /n/data1/hms/neurobio/sabatini/rich/analysis/faceRhythm/mouse_0322N/run_20230701/20230501/aligned_TCA/1_make_consistent_fr_factors.py   to   /media/rich/bigSSD/analysis_data/face_rhythm/mouse_0322N/run_20230701/20230501/aligned_TCA/1_make_consistent_fr_factors.py\n",
      "downloading /n/data1/hms/neurobio/sabatini/rich/analysis/faceRhythm/mouse_0322N/run_20230701/20230501/aligned_TCA/dispatcher.py   to   /media/rich/bigSSD/analysis_data/face_rhythm/mouse_0322N/run_20230701/20230501/aligned_TCA/dispatcher.py\n",
      "downloading /n/data1/hms/neurobio/sabatini/rich/analysis/faceRhythm/mouse_0322N/run_20230701/20230501/aligned_TCA/notes.txt   to   /media/rich/bigSSD/analysis_data/face_rhythm/mouse_0322N/run_20230701/20230501/aligned_TCA/notes.txt\n",
      "downloading /n/data1/hms/neurobio/sabatini/rich/analysis/faceRhythm/mouse_0322N/run_20230701/20230501/pipeline_basic.py   to   /media/rich/bigSSD/analysis_data/face_rhythm/mouse_0322N/run_20230701/20230501/pipeline_basic.py\n",
      "downloading /n/data1/hms/neurobio/sabatini/rich/analysis/faceRhythm/mouse_0322N/run_20230701/20230501/dispatcher.py   to   /media/rich/bigSSD/analysis_data/face_rhythm/mouse_0322N/run_20230701/20230501/dispatcher.py\n",
      "downloading /n/data1/hms/neurobio/sabatini/rich/analysis/faceRhythm/mouse_0322N/run_20230701/20230501/notes.txt   to   /media/rich/bigSSD/analysis_data/face_rhythm/mouse_0322N/run_20230701/20230501/notes.txt\n",
      "downloading /n/data1/hms/neurobio/sabatini/rich/analysis/faceRhythm/mouse_0322N/run_20230701/20230505/parameters_batch.json   to   /media/rich/bigSSD/analysis_data/face_rhythm/mouse_0322N/run_20230701/20230505/parameters_batch.json\n",
      "downloading /n/data1/hms/neurobio/sabatini/rich/analysis/faceRhythm/mouse_0322N/run_20230701/20230505/jobNum_0/params.json   to   /media/rich/bigSSD/analysis_data/face_rhythm/mouse_0322N/run_20230701/20230505/jobNum_0/params.json\n",
      "downloading /n/data1/hms/neurobio/sabatini/rich/analysis/faceRhythm/mouse_0322N/run_20230701/20230505/jobNum_0/config.yaml   to   /media/rich/bigSSD/analysis_data/face_rhythm/mouse_0322N/run_20230701/20230505/jobNum_0/config.yaml\n",
      "downloading /n/data1/hms/neurobio/sabatini/rich/analysis/faceRhythm/mouse_0322N/run_20230701/20230505/jobNum_0/cpu_tracker.csv   to   /media/rich/bigSSD/analysis_data/face_rhythm/mouse_0322N/run_20230701/20230505/jobNum_0/cpu_tracker.csv\n"
     ]
    },
    {
     "name": "stdout",
     "output_type": "stream",
     "text": [
      "downloading /n/data1/hms/neurobio/sabatini/rich/analysis/faceRhythm/mouse_0322N/run_20230701/20230505/jobNum_0/analysis_files/ROIs.h5   to   /media/rich/bigSSD/analysis_data/face_rhythm/mouse_0322N/run_20230701/20230505/jobNum_0/analysis_files/ROIs.h5\n",
      "downloading /n/data1/hms/neurobio/sabatini/rich/analysis/faceRhythm/mouse_0322N/run_20230701/20230505/jobNum_0/analysis_files/TCA.h5   to   /media/rich/bigSSD/analysis_data/face_rhythm/mouse_0322N/run_20230701/20230505/jobNum_0/analysis_files/TCA.h5\n",
      "downloading /n/data1/hms/neurobio/sabatini/rich/analysis/faceRhythm/mouse_0322N/run_20230701/20230505/jobNum_0/analysis_files/PointTracker.h5   to   /media/rich/bigSSD/analysis_data/face_rhythm/mouse_0322N/run_20230701/20230505/jobNum_0/analysis_files/PointTracker.h5\n",
      "downloading /n/data1/hms/neurobio/sabatini/rich/analysis/faceRhythm/mouse_0322N/run_20230701/20230505/jobNum_0/analysis_files/VQT_Analyzer.h5   to   /media/rich/bigSSD/analysis_data/face_rhythm/mouse_0322N/run_20230701/20230505/jobNum_0/analysis_files/VQT_Analyzer.h5\n",
      "downloading /n/data1/hms/neurobio/sabatini/rich/analysis/faceRhythm/mouse_0322N/run_20230701/20230505/jobNum_0/analysis_files/Dataset_videos.h5   to   /media/rich/bigSSD/analysis_data/face_rhythm/mouse_0322N/run_20230701/20230505/jobNum_0/analysis_files/Dataset_videos.h5\n",
      "downloading /n/data1/hms/neurobio/sabatini/rich/analysis/faceRhythm/mouse_0322N/run_20230701/20230505/jobNum_0/pipeline_basic.py   to   /media/rich/bigSSD/analysis_data/face_rhythm/mouse_0322N/run_20230701/20230505/jobNum_0/pipeline_basic.py\n",
      "downloading /n/data1/hms/neurobio/sabatini/rich/analysis/faceRhythm/mouse_0322N/run_20230701/20230505/jobNum_0/run_info.json   to   /media/rich/bigSSD/analysis_data/face_rhythm/mouse_0322N/run_20230701/20230505/jobNum_0/run_info.json\n",
      "downloading /n/data1/hms/neurobio/sabatini/rich/analysis/faceRhythm/mouse_0322N/run_20230701/20230505/jobNum_0/sbatch_config.sh   to   /media/rich/bigSSD/analysis_data/face_rhythm/mouse_0322N/run_20230701/20230505/jobNum_0/sbatch_config.sh\n",
      "downloading /n/data1/hms/neurobio/sabatini/rich/analysis/faceRhythm/mouse_0322N/run_20230701/20230505/jobNum_0/print_log_12079478.log   to   /media/rich/bigSSD/analysis_data/face_rhythm/mouse_0322N/run_20230701/20230505/jobNum_0/print_log_12079478.log\n",
      "downloading /n/data1/hms/neurobio/sabatini/rich/analysis/faceRhythm/mouse_0322N/run_20230701/20230505/jobNum_0/print_log_12020995.log   to   /media/rich/bigSSD/analysis_data/face_rhythm/mouse_0322N/run_20230701/20230505/jobNum_0/print_log_12020995.log\n",
      "downloading /n/data1/hms/neurobio/sabatini/rich/analysis/faceRhythm/mouse_0322N/run_20230701/20230505/aligned_TCA/parameters_batch.json   to   /media/rich/bigSSD/analysis_data/face_rhythm/mouse_0322N/run_20230701/20230505/aligned_TCA/parameters_batch.json\n",
      "downloading /n/data1/hms/neurobio/sabatini/rich/analysis/faceRhythm/mouse_0322N/run_20230701/20230505/aligned_TCA/jobNum_0/tca_refit.h5   to   /media/rich/bigSSD/analysis_data/face_rhythm/mouse_0322N/run_20230701/20230505/aligned_TCA/jobNum_0/tca_refit.h5\n",
      "downloading /n/data1/hms/neurobio/sabatini/rich/analysis/faceRhythm/mouse_0322N/run_20230701/20230505/aligned_TCA/jobNum_0/params.json   to   /media/rich/bigSSD/analysis_data/face_rhythm/mouse_0322N/run_20230701/20230505/aligned_TCA/jobNum_0/params.json\n",
      "downloading /n/data1/hms/neurobio/sabatini/rich/analysis/faceRhythm/mouse_0322N/run_20230701/20230505/aligned_TCA/jobNum_0/print_log_12686103.log   to   /media/rich/bigSSD/analysis_data/face_rhythm/mouse_0322N/run_20230701/20230505/aligned_TCA/jobNum_0/print_log_12686103.log\n",
      "downloading /n/data1/hms/neurobio/sabatini/rich/analysis/faceRhythm/mouse_0322N/run_20230701/20230505/aligned_TCA/jobNum_0/print_log_12693312.log   to   /media/rich/bigSSD/analysis_data/face_rhythm/mouse_0322N/run_20230701/20230505/aligned_TCA/jobNum_0/print_log_12693312.log\n",
      "downloading /n/data1/hms/neurobio/sabatini/rich/analysis/faceRhythm/mouse_0322N/run_20230701/20230505/aligned_TCA/jobNum_0/print_log_12693891.log   to   /media/rich/bigSSD/analysis_data/face_rhythm/mouse_0322N/run_20230701/20230505/aligned_TCA/jobNum_0/print_log_12693891.log\n",
      "downloading /n/data1/hms/neurobio/sabatini/rich/analysis/faceRhythm/mouse_0322N/run_20230701/20230505/aligned_TCA/jobNum_0/1_make_consistent_fr_factors.py   to   /media/rich/bigSSD/analysis_data/face_rhythm/mouse_0322N/run_20230701/20230505/aligned_TCA/jobNum_0/1_make_consistent_fr_factors.py\n",
      "downloading /n/data1/hms/neurobio/sabatini/rich/analysis/faceRhythm/mouse_0322N/run_20230701/20230505/aligned_TCA/jobNum_0/print_log_12685253.log   to   /media/rich/bigSSD/analysis_data/face_rhythm/mouse_0322N/run_20230701/20230505/aligned_TCA/jobNum_0/print_log_12685253.log\n",
      "downloading /n/data1/hms/neurobio/sabatini/rich/analysis/faceRhythm/mouse_0322N/run_20230701/20230505/aligned_TCA/jobNum_0/sbatch_config.sh   to   /media/rich/bigSSD/analysis_data/face_rhythm/mouse_0322N/run_20230701/20230505/aligned_TCA/jobNum_0/sbatch_config.sh\n",
      "downloading /n/data1/hms/neurobio/sabatini/rich/analysis/faceRhythm/mouse_0322N/run_20230701/20230505/aligned_TCA/1_make_consistent_fr_factors.py   to   /media/rich/bigSSD/analysis_data/face_rhythm/mouse_0322N/run_20230701/20230505/aligned_TCA/1_make_consistent_fr_factors.py\n",
      "downloading /n/data1/hms/neurobio/sabatini/rich/analysis/faceRhythm/mouse_0322N/run_20230701/20230505/aligned_TCA/dispatcher.py   to   /media/rich/bigSSD/analysis_data/face_rhythm/mouse_0322N/run_20230701/20230505/aligned_TCA/dispatcher.py\n",
      "downloading /n/data1/hms/neurobio/sabatini/rich/analysis/faceRhythm/mouse_0322N/run_20230701/20230505/aligned_TCA/notes.txt   to   /media/rich/bigSSD/analysis_data/face_rhythm/mouse_0322N/run_20230701/20230505/aligned_TCA/notes.txt\n",
      "downloading /n/data1/hms/neurobio/sabatini/rich/analysis/faceRhythm/mouse_0322N/run_20230701/20230505/pipeline_basic.py   to   /media/rich/bigSSD/analysis_data/face_rhythm/mouse_0322N/run_20230701/20230505/pipeline_basic.py\n",
      "downloading /n/data1/hms/neurobio/sabatini/rich/analysis/faceRhythm/mouse_0322N/run_20230701/20230505/dispatcher.py   to   /media/rich/bigSSD/analysis_data/face_rhythm/mouse_0322N/run_20230701/20230505/dispatcher.py\n",
      "downloading /n/data1/hms/neurobio/sabatini/rich/analysis/faceRhythm/mouse_0322N/run_20230701/20230505/notes.txt   to   /media/rich/bigSSD/analysis_data/face_rhythm/mouse_0322N/run_20230701/20230505/notes.txt\n",
      "downloading /n/data1/hms/neurobio/sabatini/rich/analysis/faceRhythm/mouse_0322N/run_20230701/20230516/parameters_batch.json   to   /media/rich/bigSSD/analysis_data/face_rhythm/mouse_0322N/run_20230701/20230516/parameters_batch.json\n",
      "downloading /n/data1/hms/neurobio/sabatini/rich/analysis/faceRhythm/mouse_0322N/run_20230701/20230516/jobNum_0/params.json   to   /media/rich/bigSSD/analysis_data/face_rhythm/mouse_0322N/run_20230701/20230516/jobNum_0/params.json\n",
      "downloading /n/data1/hms/neurobio/sabatini/rich/analysis/faceRhythm/mouse_0322N/run_20230701/20230516/jobNum_0/config.yaml   to   /media/rich/bigSSD/analysis_data/face_rhythm/mouse_0322N/run_20230701/20230516/jobNum_0/config.yaml\n",
      "downloading /n/data1/hms/neurobio/sabatini/rich/analysis/faceRhythm/mouse_0322N/run_20230701/20230516/jobNum_0/cpu_tracker.csv   to   /media/rich/bigSSD/analysis_data/face_rhythm/mouse_0322N/run_20230701/20230516/jobNum_0/cpu_tracker.csv\n",
      "downloading /n/data1/hms/neurobio/sabatini/rich/analysis/faceRhythm/mouse_0322N/run_20230701/20230516/jobNum_0/print_log_12079399.log   to   /media/rich/bigSSD/analysis_data/face_rhythm/mouse_0322N/run_20230701/20230516/jobNum_0/print_log_12079399.log\n",
      "downloading /n/data1/hms/neurobio/sabatini/rich/analysis/faceRhythm/mouse_0322N/run_20230701/20230516/jobNum_0/analysis_files/ROIs.h5   to   /media/rich/bigSSD/analysis_data/face_rhythm/mouse_0322N/run_20230701/20230516/jobNum_0/analysis_files/ROIs.h5\n",
      "downloading /n/data1/hms/neurobio/sabatini/rich/analysis/faceRhythm/mouse_0322N/run_20230701/20230516/jobNum_0/analysis_files/TCA.h5   to   /media/rich/bigSSD/analysis_data/face_rhythm/mouse_0322N/run_20230701/20230516/jobNum_0/analysis_files/TCA.h5\n",
      "downloading /n/data1/hms/neurobio/sabatini/rich/analysis/faceRhythm/mouse_0322N/run_20230701/20230516/jobNum_0/analysis_files/PointTracker.h5   to   /media/rich/bigSSD/analysis_data/face_rhythm/mouse_0322N/run_20230701/20230516/jobNum_0/analysis_files/PointTracker.h5\n"
     ]
    },
    {
     "name": "stdout",
     "output_type": "stream",
     "text": [
      "downloading /n/data1/hms/neurobio/sabatini/rich/analysis/faceRhythm/mouse_0322N/run_20230701/20230516/jobNum_0/analysis_files/VQT_Analyzer.h5   to   /media/rich/bigSSD/analysis_data/face_rhythm/mouse_0322N/run_20230701/20230516/jobNum_0/analysis_files/VQT_Analyzer.h5\n",
      "downloading /n/data1/hms/neurobio/sabatini/rich/analysis/faceRhythm/mouse_0322N/run_20230701/20230516/jobNum_0/analysis_files/Dataset_videos.h5   to   /media/rich/bigSSD/analysis_data/face_rhythm/mouse_0322N/run_20230701/20230516/jobNum_0/analysis_files/Dataset_videos.h5\n",
      "downloading /n/data1/hms/neurobio/sabatini/rich/analysis/faceRhythm/mouse_0322N/run_20230701/20230516/jobNum_0/pipeline_basic.py   to   /media/rich/bigSSD/analysis_data/face_rhythm/mouse_0322N/run_20230701/20230516/jobNum_0/pipeline_basic.py\n",
      "downloading /n/data1/hms/neurobio/sabatini/rich/analysis/faceRhythm/mouse_0322N/run_20230701/20230516/jobNum_0/run_info.json   to   /media/rich/bigSSD/analysis_data/face_rhythm/mouse_0322N/run_20230701/20230516/jobNum_0/run_info.json\n",
      "downloading /n/data1/hms/neurobio/sabatini/rich/analysis/faceRhythm/mouse_0322N/run_20230701/20230516/jobNum_0/sbatch_config.sh   to   /media/rich/bigSSD/analysis_data/face_rhythm/mouse_0322N/run_20230701/20230516/jobNum_0/sbatch_config.sh\n",
      "downloading /n/data1/hms/neurobio/sabatini/rich/analysis/faceRhythm/mouse_0322N/run_20230701/20230516/jobNum_0/print_log_12021010.log   to   /media/rich/bigSSD/analysis_data/face_rhythm/mouse_0322N/run_20230701/20230516/jobNum_0/print_log_12021010.log\n",
      "downloading /n/data1/hms/neurobio/sabatini/rich/analysis/faceRhythm/mouse_0322N/run_20230701/20230516/aligned_TCA/parameters_batch.json   to   /media/rich/bigSSD/analysis_data/face_rhythm/mouse_0322N/run_20230701/20230516/aligned_TCA/parameters_batch.json\n",
      "downloading /n/data1/hms/neurobio/sabatini/rich/analysis/faceRhythm/mouse_0322N/run_20230701/20230516/aligned_TCA/jobNum_0/tca_refit.h5   to   /media/rich/bigSSD/analysis_data/face_rhythm/mouse_0322N/run_20230701/20230516/aligned_TCA/jobNum_0/tca_refit.h5\n",
      "downloading /n/data1/hms/neurobio/sabatini/rich/analysis/faceRhythm/mouse_0322N/run_20230701/20230516/aligned_TCA/jobNum_0/params.json   to   /media/rich/bigSSD/analysis_data/face_rhythm/mouse_0322N/run_20230701/20230516/aligned_TCA/jobNum_0/params.json\n",
      "downloading /n/data1/hms/neurobio/sabatini/rich/analysis/faceRhythm/mouse_0322N/run_20230701/20230516/aligned_TCA/jobNum_0/print_log_12686239.log   to   /media/rich/bigSSD/analysis_data/face_rhythm/mouse_0322N/run_20230701/20230516/aligned_TCA/jobNum_0/print_log_12686239.log\n",
      "downloading /n/data1/hms/neurobio/sabatini/rich/analysis/faceRhythm/mouse_0322N/run_20230701/20230516/aligned_TCA/jobNum_0/print_log_12685325.log   to   /media/rich/bigSSD/analysis_data/face_rhythm/mouse_0322N/run_20230701/20230516/aligned_TCA/jobNum_0/print_log_12685325.log\n",
      "downloading /n/data1/hms/neurobio/sabatini/rich/analysis/faceRhythm/mouse_0322N/run_20230701/20230516/aligned_TCA/jobNum_0/print_log_12693367.log   to   /media/rich/bigSSD/analysis_data/face_rhythm/mouse_0322N/run_20230701/20230516/aligned_TCA/jobNum_0/print_log_12693367.log\n",
      "downloading /n/data1/hms/neurobio/sabatini/rich/analysis/faceRhythm/mouse_0322N/run_20230701/20230516/aligned_TCA/jobNum_0/print_log_12693896.log   to   /media/rich/bigSSD/analysis_data/face_rhythm/mouse_0322N/run_20230701/20230516/aligned_TCA/jobNum_0/print_log_12693896.log\n",
      "downloading /n/data1/hms/neurobio/sabatini/rich/analysis/faceRhythm/mouse_0322N/run_20230701/20230516/aligned_TCA/jobNum_0/1_make_consistent_fr_factors.py   to   /media/rich/bigSSD/analysis_data/face_rhythm/mouse_0322N/run_20230701/20230516/aligned_TCA/jobNum_0/1_make_consistent_fr_factors.py\n",
      "downloading /n/data1/hms/neurobio/sabatini/rich/analysis/faceRhythm/mouse_0322N/run_20230701/20230516/aligned_TCA/jobNum_0/sbatch_config.sh   to   /media/rich/bigSSD/analysis_data/face_rhythm/mouse_0322N/run_20230701/20230516/aligned_TCA/jobNum_0/sbatch_config.sh\n",
      "downloading /n/data1/hms/neurobio/sabatini/rich/analysis/faceRhythm/mouse_0322N/run_20230701/20230516/aligned_TCA/1_make_consistent_fr_factors.py   to   /media/rich/bigSSD/analysis_data/face_rhythm/mouse_0322N/run_20230701/20230516/aligned_TCA/1_make_consistent_fr_factors.py\n",
      "downloading /n/data1/hms/neurobio/sabatini/rich/analysis/faceRhythm/mouse_0322N/run_20230701/20230516/aligned_TCA/dispatcher.py   to   /media/rich/bigSSD/analysis_data/face_rhythm/mouse_0322N/run_20230701/20230516/aligned_TCA/dispatcher.py\n",
      "downloading /n/data1/hms/neurobio/sabatini/rich/analysis/faceRhythm/mouse_0322N/run_20230701/20230516/aligned_TCA/notes.txt   to   /media/rich/bigSSD/analysis_data/face_rhythm/mouse_0322N/run_20230701/20230516/aligned_TCA/notes.txt\n",
      "downloading /n/data1/hms/neurobio/sabatini/rich/analysis/faceRhythm/mouse_0322N/run_20230701/20230516/pipeline_basic.py   to   /media/rich/bigSSD/analysis_data/face_rhythm/mouse_0322N/run_20230701/20230516/pipeline_basic.py\n",
      "downloading /n/data1/hms/neurobio/sabatini/rich/analysis/faceRhythm/mouse_0322N/run_20230701/20230516/dispatcher.py   to   /media/rich/bigSSD/analysis_data/face_rhythm/mouse_0322N/run_20230701/20230516/dispatcher.py\n",
      "downloading /n/data1/hms/neurobio/sabatini/rich/analysis/faceRhythm/mouse_0322N/run_20230701/20230516/notes.txt   to   /media/rich/bigSSD/analysis_data/face_rhythm/mouse_0322N/run_20230701/20230516/notes.txt\n",
      "downloading /n/data1/hms/neurobio/sabatini/rich/analysis/faceRhythm/mouse_0322N/run_20230701/20230509/parameters_batch.json   to   /media/rich/bigSSD/analysis_data/face_rhythm/mouse_0322N/run_20230701/20230509/parameters_batch.json\n",
      "downloading /n/data1/hms/neurobio/sabatini/rich/analysis/faceRhythm/mouse_0322N/run_20230701/20230509/jobNum_0/params.json   to   /media/rich/bigSSD/analysis_data/face_rhythm/mouse_0322N/run_20230701/20230509/jobNum_0/params.json\n",
      "downloading /n/data1/hms/neurobio/sabatini/rich/analysis/faceRhythm/mouse_0322N/run_20230701/20230509/jobNum_0/config.yaml   to   /media/rich/bigSSD/analysis_data/face_rhythm/mouse_0322N/run_20230701/20230509/jobNum_0/config.yaml\n",
      "downloading /n/data1/hms/neurobio/sabatini/rich/analysis/faceRhythm/mouse_0322N/run_20230701/20230509/jobNum_0/print_log_12089827.log   to   /media/rich/bigSSD/analysis_data/face_rhythm/mouse_0322N/run_20230701/20230509/jobNum_0/print_log_12089827.log\n",
      "downloading /n/data1/hms/neurobio/sabatini/rich/analysis/faceRhythm/mouse_0322N/run_20230701/20230509/jobNum_0/cpu_tracker.csv   to   /media/rich/bigSSD/analysis_data/face_rhythm/mouse_0322N/run_20230701/20230509/jobNum_0/cpu_tracker.csv\n",
      "downloading /n/data1/hms/neurobio/sabatini/rich/analysis/faceRhythm/mouse_0322N/run_20230701/20230509/jobNum_0/print_log_12079183.log   to   /media/rich/bigSSD/analysis_data/face_rhythm/mouse_0322N/run_20230701/20230509/jobNum_0/print_log_12079183.log\n",
      "downloading /n/data1/hms/neurobio/sabatini/rich/analysis/faceRhythm/mouse_0322N/run_20230701/20230509/jobNum_0/analysis_files/ROIs.h5   to   /media/rich/bigSSD/analysis_data/face_rhythm/mouse_0322N/run_20230701/20230509/jobNum_0/analysis_files/ROIs.h5\n",
      "downloading /n/data1/hms/neurobio/sabatini/rich/analysis/faceRhythm/mouse_0322N/run_20230701/20230509/jobNum_0/analysis_files/TCA.h5   to   /media/rich/bigSSD/analysis_data/face_rhythm/mouse_0322N/run_20230701/20230509/jobNum_0/analysis_files/TCA.h5\n",
      "downloading /n/data1/hms/neurobio/sabatini/rich/analysis/faceRhythm/mouse_0322N/run_20230701/20230509/jobNum_0/analysis_files/PointTracker.h5   to   /media/rich/bigSSD/analysis_data/face_rhythm/mouse_0322N/run_20230701/20230509/jobNum_0/analysis_files/PointTracker.h5\n",
      "downloading /n/data1/hms/neurobio/sabatini/rich/analysis/faceRhythm/mouse_0322N/run_20230701/20230509/jobNum_0/analysis_files/VQT_Analyzer.h5   to   /media/rich/bigSSD/analysis_data/face_rhythm/mouse_0322N/run_20230701/20230509/jobNum_0/analysis_files/VQT_Analyzer.h5\n",
      "downloading /n/data1/hms/neurobio/sabatini/rich/analysis/faceRhythm/mouse_0322N/run_20230701/20230509/jobNum_0/analysis_files/Dataset_videos.h5   to   /media/rich/bigSSD/analysis_data/face_rhythm/mouse_0322N/run_20230701/20230509/jobNum_0/analysis_files/Dataset_videos.h5\n",
      "downloading /n/data1/hms/neurobio/sabatini/rich/analysis/faceRhythm/mouse_0322N/run_20230701/20230509/jobNum_0/pipeline_basic.py   to   /media/rich/bigSSD/analysis_data/face_rhythm/mouse_0322N/run_20230701/20230509/jobNum_0/pipeline_basic.py\n"
     ]
    },
    {
     "name": "stdout",
     "output_type": "stream",
     "text": [
      "downloading /n/data1/hms/neurobio/sabatini/rich/analysis/faceRhythm/mouse_0322N/run_20230701/20230509/jobNum_0/run_info.json   to   /media/rich/bigSSD/analysis_data/face_rhythm/mouse_0322N/run_20230701/20230509/jobNum_0/run_info.json\n",
      "downloading /n/data1/hms/neurobio/sabatini/rich/analysis/faceRhythm/mouse_0322N/run_20230701/20230509/jobNum_0/sbatch_config.sh   to   /media/rich/bigSSD/analysis_data/face_rhythm/mouse_0322N/run_20230701/20230509/jobNum_0/sbatch_config.sh\n",
      "downloading /n/data1/hms/neurobio/sabatini/rich/analysis/faceRhythm/mouse_0322N/run_20230701/20230509/aligned_TCA/parameters_batch.json   to   /media/rich/bigSSD/analysis_data/face_rhythm/mouse_0322N/run_20230701/20230509/aligned_TCA/parameters_batch.json\n",
      "downloading /n/data1/hms/neurobio/sabatini/rich/analysis/faceRhythm/mouse_0322N/run_20230701/20230509/aligned_TCA/jobNum_0/tca_refit.h5   to   /media/rich/bigSSD/analysis_data/face_rhythm/mouse_0322N/run_20230701/20230509/aligned_TCA/jobNum_0/tca_refit.h5\n",
      "downloading /n/data1/hms/neurobio/sabatini/rich/analysis/faceRhythm/mouse_0322N/run_20230701/20230509/aligned_TCA/jobNum_0/params.json   to   /media/rich/bigSSD/analysis_data/face_rhythm/mouse_0322N/run_20230701/20230509/aligned_TCA/jobNum_0/params.json\n",
      "downloading /n/data1/hms/neurobio/sabatini/rich/analysis/faceRhythm/mouse_0322N/run_20230701/20230509/aligned_TCA/jobNum_0/1_make_consistent_fr_factors.py   to   /media/rich/bigSSD/analysis_data/face_rhythm/mouse_0322N/run_20230701/20230509/aligned_TCA/jobNum_0/1_make_consistent_fr_factors.py\n",
      "downloading /n/data1/hms/neurobio/sabatini/rich/analysis/faceRhythm/mouse_0322N/run_20230701/20230509/aligned_TCA/jobNum_0/sbatch_config.sh   to   /media/rich/bigSSD/analysis_data/face_rhythm/mouse_0322N/run_20230701/20230509/aligned_TCA/jobNum_0/sbatch_config.sh\n",
      "downloading /n/data1/hms/neurobio/sabatini/rich/analysis/faceRhythm/mouse_0322N/run_20230701/20230509/aligned_TCA/jobNum_0/print_log_12685266.log   to   /media/rich/bigSSD/analysis_data/face_rhythm/mouse_0322N/run_20230701/20230509/aligned_TCA/jobNum_0/print_log_12685266.log\n",
      "downloading /n/data1/hms/neurobio/sabatini/rich/analysis/faceRhythm/mouse_0322N/run_20230701/20230509/aligned_TCA/1_make_consistent_fr_factors.py   to   /media/rich/bigSSD/analysis_data/face_rhythm/mouse_0322N/run_20230701/20230509/aligned_TCA/1_make_consistent_fr_factors.py\n",
      "downloading /n/data1/hms/neurobio/sabatini/rich/analysis/faceRhythm/mouse_0322N/run_20230701/20230509/aligned_TCA/dispatcher.py   to   /media/rich/bigSSD/analysis_data/face_rhythm/mouse_0322N/run_20230701/20230509/aligned_TCA/dispatcher.py\n",
      "downloading /n/data1/hms/neurobio/sabatini/rich/analysis/faceRhythm/mouse_0322N/run_20230701/20230509/aligned_TCA/notes.txt   to   /media/rich/bigSSD/analysis_data/face_rhythm/mouse_0322N/run_20230701/20230509/aligned_TCA/notes.txt\n",
      "downloading /n/data1/hms/neurobio/sabatini/rich/analysis/faceRhythm/mouse_0322N/run_20230701/20230509/pipeline_basic.py   to   /media/rich/bigSSD/analysis_data/face_rhythm/mouse_0322N/run_20230701/20230509/pipeline_basic.py\n",
      "downloading /n/data1/hms/neurobio/sabatini/rich/analysis/faceRhythm/mouse_0322N/run_20230701/20230509/dispatcher.py   to   /media/rich/bigSSD/analysis_data/face_rhythm/mouse_0322N/run_20230701/20230509/dispatcher.py\n",
      "downloading /n/data1/hms/neurobio/sabatini/rich/analysis/faceRhythm/mouse_0322N/run_20230701/20230509/notes.txt   to   /media/rich/bigSSD/analysis_data/face_rhythm/mouse_0322N/run_20230701/20230509/notes.txt\n",
      "downloading /n/data1/hms/neurobio/sabatini/rich/analysis/faceRhythm/mouse_0322N/run_20230701/20230529/parameters_batch.json   to   /media/rich/bigSSD/analysis_data/face_rhythm/mouse_0322N/run_20230701/20230529/parameters_batch.json\n",
      "downloading /n/data1/hms/neurobio/sabatini/rich/analysis/faceRhythm/mouse_0322N/run_20230701/20230529/jobNum_0/print_log_12079395.log   to   /media/rich/bigSSD/analysis_data/face_rhythm/mouse_0322N/run_20230701/20230529/jobNum_0/print_log_12079395.log\n",
      "downloading /n/data1/hms/neurobio/sabatini/rich/analysis/faceRhythm/mouse_0322N/run_20230701/20230529/jobNum_0/params.json   to   /media/rich/bigSSD/analysis_data/face_rhythm/mouse_0322N/run_20230701/20230529/jobNum_0/params.json\n",
      "downloading /n/data1/hms/neurobio/sabatini/rich/analysis/faceRhythm/mouse_0322N/run_20230701/20230529/jobNum_0/print_log_12020925.log   to   /media/rich/bigSSD/analysis_data/face_rhythm/mouse_0322N/run_20230701/20230529/jobNum_0/print_log_12020925.log\n",
      "downloading /n/data1/hms/neurobio/sabatini/rich/analysis/faceRhythm/mouse_0322N/run_20230701/20230529/jobNum_0/config.yaml   to   /media/rich/bigSSD/analysis_data/face_rhythm/mouse_0322N/run_20230701/20230529/jobNum_0/config.yaml\n",
      "downloading /n/data1/hms/neurobio/sabatini/rich/analysis/faceRhythm/mouse_0322N/run_20230701/20230529/jobNum_0/cpu_tracker.csv   to   /media/rich/bigSSD/analysis_data/face_rhythm/mouse_0322N/run_20230701/20230529/jobNum_0/cpu_tracker.csv\n",
      "downloading /n/data1/hms/neurobio/sabatini/rich/analysis/faceRhythm/mouse_0322N/run_20230701/20230529/jobNum_0/analysis_files/ROIs.h5   to   /media/rich/bigSSD/analysis_data/face_rhythm/mouse_0322N/run_20230701/20230529/jobNum_0/analysis_files/ROIs.h5\n",
      "downloading /n/data1/hms/neurobio/sabatini/rich/analysis/faceRhythm/mouse_0322N/run_20230701/20230529/jobNum_0/analysis_files/TCA.h5   to   /media/rich/bigSSD/analysis_data/face_rhythm/mouse_0322N/run_20230701/20230529/jobNum_0/analysis_files/TCA.h5\n",
      "downloading /n/data1/hms/neurobio/sabatini/rich/analysis/faceRhythm/mouse_0322N/run_20230701/20230529/jobNum_0/analysis_files/PointTracker.h5   to   /media/rich/bigSSD/analysis_data/face_rhythm/mouse_0322N/run_20230701/20230529/jobNum_0/analysis_files/PointTracker.h5\n",
      "downloading /n/data1/hms/neurobio/sabatini/rich/analysis/faceRhythm/mouse_0322N/run_20230701/20230529/jobNum_0/analysis_files/VQT_Analyzer.h5   to   /media/rich/bigSSD/analysis_data/face_rhythm/mouse_0322N/run_20230701/20230529/jobNum_0/analysis_files/VQT_Analyzer.h5\n",
      "downloading /n/data1/hms/neurobio/sabatini/rich/analysis/faceRhythm/mouse_0322N/run_20230701/20230529/jobNum_0/analysis_files/Dataset_videos.h5   to   /media/rich/bigSSD/analysis_data/face_rhythm/mouse_0322N/run_20230701/20230529/jobNum_0/analysis_files/Dataset_videos.h5\n",
      "downloading /n/data1/hms/neurobio/sabatini/rich/analysis/faceRhythm/mouse_0322N/run_20230701/20230529/jobNum_0/pipeline_basic.py   to   /media/rich/bigSSD/analysis_data/face_rhythm/mouse_0322N/run_20230701/20230529/jobNum_0/pipeline_basic.py\n",
      "downloading /n/data1/hms/neurobio/sabatini/rich/analysis/faceRhythm/mouse_0322N/run_20230701/20230529/jobNum_0/run_info.json   to   /media/rich/bigSSD/analysis_data/face_rhythm/mouse_0322N/run_20230701/20230529/jobNum_0/run_info.json\n",
      "downloading /n/data1/hms/neurobio/sabatini/rich/analysis/faceRhythm/mouse_0322N/run_20230701/20230529/jobNum_0/sbatch_config.sh   to   /media/rich/bigSSD/analysis_data/face_rhythm/mouse_0322N/run_20230701/20230529/jobNum_0/sbatch_config.sh\n",
      "downloading /n/data1/hms/neurobio/sabatini/rich/analysis/faceRhythm/mouse_0322N/run_20230701/20230529/aligned_TCA/parameters_batch.json   to   /media/rich/bigSSD/analysis_data/face_rhythm/mouse_0322N/run_20230701/20230529/aligned_TCA/parameters_batch.json\n",
      "downloading /n/data1/hms/neurobio/sabatini/rich/analysis/faceRhythm/mouse_0322N/run_20230701/20230529/aligned_TCA/jobNum_0/print_log_12685371.log   to   /media/rich/bigSSD/analysis_data/face_rhythm/mouse_0322N/run_20230701/20230529/aligned_TCA/jobNum_0/print_log_12685371.log\n",
      "downloading /n/data1/hms/neurobio/sabatini/rich/analysis/faceRhythm/mouse_0322N/run_20230701/20230529/aligned_TCA/jobNum_0/tca_refit.h5   to   /media/rich/bigSSD/analysis_data/face_rhythm/mouse_0322N/run_20230701/20230529/aligned_TCA/jobNum_0/tca_refit.h5\n",
      "downloading /n/data1/hms/neurobio/sabatini/rich/analysis/faceRhythm/mouse_0322N/run_20230701/20230529/aligned_TCA/jobNum_0/params.json   to   /media/rich/bigSSD/analysis_data/face_rhythm/mouse_0322N/run_20230701/20230529/aligned_TCA/jobNum_0/params.json\n",
      "downloading /n/data1/hms/neurobio/sabatini/rich/analysis/faceRhythm/mouse_0322N/run_20230701/20230529/aligned_TCA/jobNum_0/1_make_consistent_fr_factors.py   to   /media/rich/bigSSD/analysis_data/face_rhythm/mouse_0322N/run_20230701/20230529/aligned_TCA/jobNum_0/1_make_consistent_fr_factors.py\n",
      "downloading /n/data1/hms/neurobio/sabatini/rich/analysis/faceRhythm/mouse_0322N/run_20230701/20230529/aligned_TCA/jobNum_0/sbatch_config.sh   to   /media/rich/bigSSD/analysis_data/face_rhythm/mouse_0322N/run_20230701/20230529/aligned_TCA/jobNum_0/sbatch_config.sh\n",
      "downloading /n/data1/hms/neurobio/sabatini/rich/analysis/faceRhythm/mouse_0322N/run_20230701/20230529/aligned_TCA/1_make_consistent_fr_factors.py   to   /media/rich/bigSSD/analysis_data/face_rhythm/mouse_0322N/run_20230701/20230529/aligned_TCA/1_make_consistent_fr_factors.py\n"
     ]
    },
    {
     "name": "stdout",
     "output_type": "stream",
     "text": [
      "downloading /n/data1/hms/neurobio/sabatini/rich/analysis/faceRhythm/mouse_0322N/run_20230701/20230529/aligned_TCA/dispatcher.py   to   /media/rich/bigSSD/analysis_data/face_rhythm/mouse_0322N/run_20230701/20230529/aligned_TCA/dispatcher.py\n",
      "downloading /n/data1/hms/neurobio/sabatini/rich/analysis/faceRhythm/mouse_0322N/run_20230701/20230529/aligned_TCA/notes.txt   to   /media/rich/bigSSD/analysis_data/face_rhythm/mouse_0322N/run_20230701/20230529/aligned_TCA/notes.txt\n",
      "downloading /n/data1/hms/neurobio/sabatini/rich/analysis/faceRhythm/mouse_0322N/run_20230701/20230529/pipeline_basic.py   to   /media/rich/bigSSD/analysis_data/face_rhythm/mouse_0322N/run_20230701/20230529/pipeline_basic.py\n",
      "downloading /n/data1/hms/neurobio/sabatini/rich/analysis/faceRhythm/mouse_0322N/run_20230701/20230529/dispatcher.py   to   /media/rich/bigSSD/analysis_data/face_rhythm/mouse_0322N/run_20230701/20230529/dispatcher.py\n",
      "downloading /n/data1/hms/neurobio/sabatini/rich/analysis/faceRhythm/mouse_0322N/run_20230701/20230529/notes.txt   to   /media/rich/bigSSD/analysis_data/face_rhythm/mouse_0322N/run_20230701/20230529/notes.txt\n",
      "downloading /n/data1/hms/neurobio/sabatini/rich/analysis/faceRhythm/mouse_0322N/run_20230701/20230503/parameters_batch.json   to   /media/rich/bigSSD/analysis_data/face_rhythm/mouse_0322N/run_20230701/20230503/parameters_batch.json\n",
      "downloading /n/data1/hms/neurobio/sabatini/rich/analysis/faceRhythm/mouse_0322N/run_20230701/20230503/jobNum_0/params.json   to   /media/rich/bigSSD/analysis_data/face_rhythm/mouse_0322N/run_20230701/20230503/jobNum_0/params.json\n",
      "downloading /n/data1/hms/neurobio/sabatini/rich/analysis/faceRhythm/mouse_0322N/run_20230701/20230503/jobNum_0/config.yaml   to   /media/rich/bigSSD/analysis_data/face_rhythm/mouse_0322N/run_20230701/20230503/jobNum_0/config.yaml\n",
      "downloading /n/data1/hms/neurobio/sabatini/rich/analysis/faceRhythm/mouse_0322N/run_20230701/20230503/jobNum_0/cpu_tracker.csv   to   /media/rich/bigSSD/analysis_data/face_rhythm/mouse_0322N/run_20230701/20230503/jobNum_0/cpu_tracker.csv\n",
      "downloading /n/data1/hms/neurobio/sabatini/rich/analysis/faceRhythm/mouse_0322N/run_20230701/20230503/jobNum_0/print_log_12020860.log   to   /media/rich/bigSSD/analysis_data/face_rhythm/mouse_0322N/run_20230701/20230503/jobNum_0/print_log_12020860.log\n",
      "downloading /n/data1/hms/neurobio/sabatini/rich/analysis/faceRhythm/mouse_0322N/run_20230701/20230503/jobNum_0/analysis_files/ROIs.h5   to   /media/rich/bigSSD/analysis_data/face_rhythm/mouse_0322N/run_20230701/20230503/jobNum_0/analysis_files/ROIs.h5\n",
      "downloading /n/data1/hms/neurobio/sabatini/rich/analysis/faceRhythm/mouse_0322N/run_20230701/20230503/jobNum_0/analysis_files/TCA.h5   to   /media/rich/bigSSD/analysis_data/face_rhythm/mouse_0322N/run_20230701/20230503/jobNum_0/analysis_files/TCA.h5\n",
      "downloading /n/data1/hms/neurobio/sabatini/rich/analysis/faceRhythm/mouse_0322N/run_20230701/20230503/jobNum_0/analysis_files/PointTracker.h5   to   /media/rich/bigSSD/analysis_data/face_rhythm/mouse_0322N/run_20230701/20230503/jobNum_0/analysis_files/PointTracker.h5\n",
      "downloading /n/data1/hms/neurobio/sabatini/rich/analysis/faceRhythm/mouse_0322N/run_20230701/20230503/jobNum_0/analysis_files/VQT_Analyzer.h5   to   /media/rich/bigSSD/analysis_data/face_rhythm/mouse_0322N/run_20230701/20230503/jobNum_0/analysis_files/VQT_Analyzer.h5\n",
      "downloading /n/data1/hms/neurobio/sabatini/rich/analysis/faceRhythm/mouse_0322N/run_20230701/20230503/jobNum_0/analysis_files/Dataset_videos.h5   to   /media/rich/bigSSD/analysis_data/face_rhythm/mouse_0322N/run_20230701/20230503/jobNum_0/analysis_files/Dataset_videos.h5\n",
      "downloading /n/data1/hms/neurobio/sabatini/rich/analysis/faceRhythm/mouse_0322N/run_20230701/20230503/jobNum_0/pipeline_basic.py   to   /media/rich/bigSSD/analysis_data/face_rhythm/mouse_0322N/run_20230701/20230503/jobNum_0/pipeline_basic.py\n",
      "downloading /n/data1/hms/neurobio/sabatini/rich/analysis/faceRhythm/mouse_0322N/run_20230701/20230503/jobNum_0/print_log_12079289.log   to   /media/rich/bigSSD/analysis_data/face_rhythm/mouse_0322N/run_20230701/20230503/jobNum_0/print_log_12079289.log\n",
      "downloading /n/data1/hms/neurobio/sabatini/rich/analysis/faceRhythm/mouse_0322N/run_20230701/20230503/jobNum_0/run_info.json   to   /media/rich/bigSSD/analysis_data/face_rhythm/mouse_0322N/run_20230701/20230503/jobNum_0/run_info.json\n",
      "downloading /n/data1/hms/neurobio/sabatini/rich/analysis/faceRhythm/mouse_0322N/run_20230701/20230503/jobNum_0/sbatch_config.sh   to   /media/rich/bigSSD/analysis_data/face_rhythm/mouse_0322N/run_20230701/20230503/jobNum_0/sbatch_config.sh\n",
      "downloading /n/data1/hms/neurobio/sabatini/rich/analysis/faceRhythm/mouse_0322N/run_20230701/20230503/aligned_TCA/parameters_batch.json   to   /media/rich/bigSSD/analysis_data/face_rhythm/mouse_0322N/run_20230701/20230503/aligned_TCA/parameters_batch.json\n",
      "downloading /n/data1/hms/neurobio/sabatini/rich/analysis/faceRhythm/mouse_0322N/run_20230701/20230503/aligned_TCA/jobNum_0/print_log_12693890.log   to   /media/rich/bigSSD/analysis_data/face_rhythm/mouse_0322N/run_20230701/20230503/aligned_TCA/jobNum_0/print_log_12693890.log\n",
      "downloading /n/data1/hms/neurobio/sabatini/rich/analysis/faceRhythm/mouse_0322N/run_20230701/20230503/aligned_TCA/jobNum_0/tca_refit.h5   to   /media/rich/bigSSD/analysis_data/face_rhythm/mouse_0322N/run_20230701/20230503/aligned_TCA/jobNum_0/tca_refit.h5\n",
      "downloading /n/data1/hms/neurobio/sabatini/rich/analysis/faceRhythm/mouse_0322N/run_20230701/20230503/aligned_TCA/jobNum_0/params.json   to   /media/rich/bigSSD/analysis_data/face_rhythm/mouse_0322N/run_20230701/20230503/aligned_TCA/jobNum_0/params.json\n",
      "downloading /n/data1/hms/neurobio/sabatini/rich/analysis/faceRhythm/mouse_0322N/run_20230701/20230503/aligned_TCA/jobNum_0/print_log_12685230.log   to   /media/rich/bigSSD/analysis_data/face_rhythm/mouse_0322N/run_20230701/20230503/aligned_TCA/jobNum_0/print_log_12685230.log\n",
      "downloading /n/data1/hms/neurobio/sabatini/rich/analysis/faceRhythm/mouse_0322N/run_20230701/20230503/aligned_TCA/jobNum_0/print_log_12693311.log   to   /media/rich/bigSSD/analysis_data/face_rhythm/mouse_0322N/run_20230701/20230503/aligned_TCA/jobNum_0/print_log_12693311.log\n",
      "downloading /n/data1/hms/neurobio/sabatini/rich/analysis/faceRhythm/mouse_0322N/run_20230701/20230503/aligned_TCA/jobNum_0/print_log_12686098.log   to   /media/rich/bigSSD/analysis_data/face_rhythm/mouse_0322N/run_20230701/20230503/aligned_TCA/jobNum_0/print_log_12686098.log\n",
      "downloading /n/data1/hms/neurobio/sabatini/rich/analysis/faceRhythm/mouse_0322N/run_20230701/20230503/aligned_TCA/jobNum_0/1_make_consistent_fr_factors.py   to   /media/rich/bigSSD/analysis_data/face_rhythm/mouse_0322N/run_20230701/20230503/aligned_TCA/jobNum_0/1_make_consistent_fr_factors.py\n",
      "downloading /n/data1/hms/neurobio/sabatini/rich/analysis/faceRhythm/mouse_0322N/run_20230701/20230503/aligned_TCA/jobNum_0/sbatch_config.sh   to   /media/rich/bigSSD/analysis_data/face_rhythm/mouse_0322N/run_20230701/20230503/aligned_TCA/jobNum_0/sbatch_config.sh\n",
      "downloading /n/data1/hms/neurobio/sabatini/rich/analysis/faceRhythm/mouse_0322N/run_20230701/20230503/aligned_TCA/1_make_consistent_fr_factors.py   to   /media/rich/bigSSD/analysis_data/face_rhythm/mouse_0322N/run_20230701/20230503/aligned_TCA/1_make_consistent_fr_factors.py\n",
      "downloading /n/data1/hms/neurobio/sabatini/rich/analysis/faceRhythm/mouse_0322N/run_20230701/20230503/aligned_TCA/dispatcher.py   to   /media/rich/bigSSD/analysis_data/face_rhythm/mouse_0322N/run_20230701/20230503/aligned_TCA/dispatcher.py\n",
      "downloading /n/data1/hms/neurobio/sabatini/rich/analysis/faceRhythm/mouse_0322N/run_20230701/20230503/aligned_TCA/notes.txt   to   /media/rich/bigSSD/analysis_data/face_rhythm/mouse_0322N/run_20230701/20230503/aligned_TCA/notes.txt\n",
      "downloading /n/data1/hms/neurobio/sabatini/rich/analysis/faceRhythm/mouse_0322N/run_20230701/20230503/pipeline_basic.py   to   /media/rich/bigSSD/analysis_data/face_rhythm/mouse_0322N/run_20230701/20230503/pipeline_basic.py\n",
      "downloading /n/data1/hms/neurobio/sabatini/rich/analysis/faceRhythm/mouse_0322N/run_20230701/20230503/dispatcher.py   to   /media/rich/bigSSD/analysis_data/face_rhythm/mouse_0322N/run_20230701/20230503/dispatcher.py\n"
     ]
    },
    {
     "name": "stdout",
     "output_type": "stream",
     "text": [
      "downloading /n/data1/hms/neurobio/sabatini/rich/analysis/faceRhythm/mouse_0322N/run_20230701/20230503/notes.txt   to   /media/rich/bigSSD/analysis_data/face_rhythm/mouse_0322N/run_20230701/20230503/notes.txt\n",
      "downloading /n/data1/hms/neurobio/sabatini/rich/analysis/faceRhythm/mouse_0322N/run_20230701/20230524/parameters_batch.json   to   /media/rich/bigSSD/analysis_data/face_rhythm/mouse_0322N/run_20230701/20230524/parameters_batch.json\n",
      "downloading /n/data1/hms/neurobio/sabatini/rich/analysis/faceRhythm/mouse_0322N/run_20230701/20230524/jobNum_0/params.json   to   /media/rich/bigSSD/analysis_data/face_rhythm/mouse_0322N/run_20230701/20230524/jobNum_0/params.json\n",
      "downloading /n/data1/hms/neurobio/sabatini/rich/analysis/faceRhythm/mouse_0322N/run_20230701/20230524/jobNum_0/config.yaml   to   /media/rich/bigSSD/analysis_data/face_rhythm/mouse_0322N/run_20230701/20230524/jobNum_0/config.yaml\n",
      "downloading /n/data1/hms/neurobio/sabatini/rich/analysis/faceRhythm/mouse_0322N/run_20230701/20230524/jobNum_0/cpu_tracker.csv   to   /media/rich/bigSSD/analysis_data/face_rhythm/mouse_0322N/run_20230701/20230524/jobNum_0/cpu_tracker.csv\n",
      "downloading /n/data1/hms/neurobio/sabatini/rich/analysis/faceRhythm/mouse_0322N/run_20230701/20230524/jobNum_0/print_log_12079301.log   to   /media/rich/bigSSD/analysis_data/face_rhythm/mouse_0322N/run_20230701/20230524/jobNum_0/print_log_12079301.log\n",
      "downloading /n/data1/hms/neurobio/sabatini/rich/analysis/faceRhythm/mouse_0322N/run_20230701/20230524/jobNum_0/analysis_files/ROIs.h5   to   /media/rich/bigSSD/analysis_data/face_rhythm/mouse_0322N/run_20230701/20230524/jobNum_0/analysis_files/ROIs.h5\n",
      "downloading /n/data1/hms/neurobio/sabatini/rich/analysis/faceRhythm/mouse_0322N/run_20230701/20230524/jobNum_0/analysis_files/TCA.h5   to   /media/rich/bigSSD/analysis_data/face_rhythm/mouse_0322N/run_20230701/20230524/jobNum_0/analysis_files/TCA.h5\n",
      "downloading /n/data1/hms/neurobio/sabatini/rich/analysis/faceRhythm/mouse_0322N/run_20230701/20230524/jobNum_0/analysis_files/PointTracker.h5   to   /media/rich/bigSSD/analysis_data/face_rhythm/mouse_0322N/run_20230701/20230524/jobNum_0/analysis_files/PointTracker.h5\n",
      "downloading /n/data1/hms/neurobio/sabatini/rich/analysis/faceRhythm/mouse_0322N/run_20230701/20230524/jobNum_0/analysis_files/VQT_Analyzer.h5   to   /media/rich/bigSSD/analysis_data/face_rhythm/mouse_0322N/run_20230701/20230524/jobNum_0/analysis_files/VQT_Analyzer.h5\n",
      "downloading /n/data1/hms/neurobio/sabatini/rich/analysis/faceRhythm/mouse_0322N/run_20230701/20230524/jobNum_0/analysis_files/Dataset_videos.h5   to   /media/rich/bigSSD/analysis_data/face_rhythm/mouse_0322N/run_20230701/20230524/jobNum_0/analysis_files/Dataset_videos.h5\n",
      "downloading /n/data1/hms/neurobio/sabatini/rich/analysis/faceRhythm/mouse_0322N/run_20230701/20230524/jobNum_0/pipeline_basic.py   to   /media/rich/bigSSD/analysis_data/face_rhythm/mouse_0322N/run_20230701/20230524/jobNum_0/pipeline_basic.py\n",
      "downloading /n/data1/hms/neurobio/sabatini/rich/analysis/faceRhythm/mouse_0322N/run_20230701/20230524/jobNum_0/print_log_12020863.log   to   /media/rich/bigSSD/analysis_data/face_rhythm/mouse_0322N/run_20230701/20230524/jobNum_0/print_log_12020863.log\n",
      "downloading /n/data1/hms/neurobio/sabatini/rich/analysis/faceRhythm/mouse_0322N/run_20230701/20230524/jobNum_0/run_info.json   to   /media/rich/bigSSD/analysis_data/face_rhythm/mouse_0322N/run_20230701/20230524/jobNum_0/run_info.json\n",
      "downloading /n/data1/hms/neurobio/sabatini/rich/analysis/faceRhythm/mouse_0322N/run_20230701/20230524/jobNum_0/sbatch_config.sh   to   /media/rich/bigSSD/analysis_data/face_rhythm/mouse_0322N/run_20230701/20230524/jobNum_0/sbatch_config.sh\n",
      "downloading /n/data1/hms/neurobio/sabatini/rich/analysis/faceRhythm/mouse_0322N/run_20230701/20230524/aligned_TCA/parameters_batch.json   to   /media/rich/bigSSD/analysis_data/face_rhythm/mouse_0322N/run_20230701/20230524/aligned_TCA/parameters_batch.json\n",
      "downloading /n/data1/hms/neurobio/sabatini/rich/analysis/faceRhythm/mouse_0322N/run_20230701/20230524/aligned_TCA/jobNum_0/tca_refit.h5   to   /media/rich/bigSSD/analysis_data/face_rhythm/mouse_0322N/run_20230701/20230524/aligned_TCA/jobNum_0/tca_refit.h5\n",
      "downloading /n/data1/hms/neurobio/sabatini/rich/analysis/faceRhythm/mouse_0322N/run_20230701/20230524/aligned_TCA/jobNum_0/params.json   to   /media/rich/bigSSD/analysis_data/face_rhythm/mouse_0322N/run_20230701/20230524/aligned_TCA/jobNum_0/params.json\n",
      "downloading /n/data1/hms/neurobio/sabatini/rich/analysis/faceRhythm/mouse_0322N/run_20230701/20230524/aligned_TCA/jobNum_0/print_log_12685339.log   to   /media/rich/bigSSD/analysis_data/face_rhythm/mouse_0322N/run_20230701/20230524/aligned_TCA/jobNum_0/print_log_12685339.log\n",
      "downloading /n/data1/hms/neurobio/sabatini/rich/analysis/faceRhythm/mouse_0322N/run_20230701/20230524/aligned_TCA/jobNum_0/print_log_12686297.log   to   /media/rich/bigSSD/analysis_data/face_rhythm/mouse_0322N/run_20230701/20230524/aligned_TCA/jobNum_0/print_log_12686297.log\n",
      "downloading /n/data1/hms/neurobio/sabatini/rich/analysis/faceRhythm/mouse_0322N/run_20230701/20230524/aligned_TCA/jobNum_0/print_log_12693898.log   to   /media/rich/bigSSD/analysis_data/face_rhythm/mouse_0322N/run_20230701/20230524/aligned_TCA/jobNum_0/print_log_12693898.log\n",
      "downloading /n/data1/hms/neurobio/sabatini/rich/analysis/faceRhythm/mouse_0322N/run_20230701/20230524/aligned_TCA/jobNum_0/1_make_consistent_fr_factors.py   to   /media/rich/bigSSD/analysis_data/face_rhythm/mouse_0322N/run_20230701/20230524/aligned_TCA/jobNum_0/1_make_consistent_fr_factors.py\n",
      "downloading /n/data1/hms/neurobio/sabatini/rich/analysis/faceRhythm/mouse_0322N/run_20230701/20230524/aligned_TCA/jobNum_0/sbatch_config.sh   to   /media/rich/bigSSD/analysis_data/face_rhythm/mouse_0322N/run_20230701/20230524/aligned_TCA/jobNum_0/sbatch_config.sh\n",
      "downloading /n/data1/hms/neurobio/sabatini/rich/analysis/faceRhythm/mouse_0322N/run_20230701/20230524/aligned_TCA/jobNum_0/print_log_12693370.log   to   /media/rich/bigSSD/analysis_data/face_rhythm/mouse_0322N/run_20230701/20230524/aligned_TCA/jobNum_0/print_log_12693370.log\n",
      "downloading /n/data1/hms/neurobio/sabatini/rich/analysis/faceRhythm/mouse_0322N/run_20230701/20230524/aligned_TCA/1_make_consistent_fr_factors.py   to   /media/rich/bigSSD/analysis_data/face_rhythm/mouse_0322N/run_20230701/20230524/aligned_TCA/1_make_consistent_fr_factors.py\n",
      "downloading /n/data1/hms/neurobio/sabatini/rich/analysis/faceRhythm/mouse_0322N/run_20230701/20230524/aligned_TCA/dispatcher.py   to   /media/rich/bigSSD/analysis_data/face_rhythm/mouse_0322N/run_20230701/20230524/aligned_TCA/dispatcher.py\n",
      "downloading /n/data1/hms/neurobio/sabatini/rich/analysis/faceRhythm/mouse_0322N/run_20230701/20230524/aligned_TCA/notes.txt   to   /media/rich/bigSSD/analysis_data/face_rhythm/mouse_0322N/run_20230701/20230524/aligned_TCA/notes.txt\n",
      "downloading /n/data1/hms/neurobio/sabatini/rich/analysis/faceRhythm/mouse_0322N/run_20230701/20230524/pipeline_basic.py   to   /media/rich/bigSSD/analysis_data/face_rhythm/mouse_0322N/run_20230701/20230524/pipeline_basic.py\n",
      "downloading /n/data1/hms/neurobio/sabatini/rich/analysis/faceRhythm/mouse_0322N/run_20230701/20230524/dispatcher.py   to   /media/rich/bigSSD/analysis_data/face_rhythm/mouse_0322N/run_20230701/20230524/dispatcher.py\n",
      "downloading /n/data1/hms/neurobio/sabatini/rich/analysis/faceRhythm/mouse_0322N/run_20230701/20230524/notes.txt   to   /media/rich/bigSSD/analysis_data/face_rhythm/mouse_0322N/run_20230701/20230524/notes.txt\n",
      "downloading /n/data1/hms/neurobio/sabatini/rich/analysis/faceRhythm/mouse_0322N/run_20230701/20230502/parameters_batch.json   to   /media/rich/bigSSD/analysis_data/face_rhythm/mouse_0322N/run_20230701/20230502/parameters_batch.json\n",
      "downloading /n/data1/hms/neurobio/sabatini/rich/analysis/faceRhythm/mouse_0322N/run_20230701/20230502/jobNum_0/params.json   to   /media/rich/bigSSD/analysis_data/face_rhythm/mouse_0322N/run_20230701/20230502/jobNum_0/params.json\n",
      "downloading /n/data1/hms/neurobio/sabatini/rich/analysis/faceRhythm/mouse_0322N/run_20230701/20230502/jobNum_0/config.yaml   to   /media/rich/bigSSD/analysis_data/face_rhythm/mouse_0322N/run_20230701/20230502/jobNum_0/config.yaml\n",
      "downloading /n/data1/hms/neurobio/sabatini/rich/analysis/faceRhythm/mouse_0322N/run_20230701/20230502/jobNum_0/print_log_12089825.log   to   /media/rich/bigSSD/analysis_data/face_rhythm/mouse_0322N/run_20230701/20230502/jobNum_0/print_log_12089825.log\n"
     ]
    },
    {
     "name": "stdout",
     "output_type": "stream",
     "text": [
      "downloading /n/data1/hms/neurobio/sabatini/rich/analysis/faceRhythm/mouse_0322N/run_20230701/20230502/jobNum_0/cpu_tracker.csv   to   /media/rich/bigSSD/analysis_data/face_rhythm/mouse_0322N/run_20230701/20230502/jobNum_0/cpu_tracker.csv\n",
      "downloading /n/data1/hms/neurobio/sabatini/rich/analysis/faceRhythm/mouse_0322N/run_20230701/20230502/jobNum_0/print_log_12079182.log   to   /media/rich/bigSSD/analysis_data/face_rhythm/mouse_0322N/run_20230701/20230502/jobNum_0/print_log_12079182.log\n",
      "downloading /n/data1/hms/neurobio/sabatini/rich/analysis/faceRhythm/mouse_0322N/run_20230701/20230502/jobNum_0/analysis_files/ROIs.h5   to   /media/rich/bigSSD/analysis_data/face_rhythm/mouse_0322N/run_20230701/20230502/jobNum_0/analysis_files/ROIs.h5\n",
      "downloading /n/data1/hms/neurobio/sabatini/rich/analysis/faceRhythm/mouse_0322N/run_20230701/20230502/jobNum_0/analysis_files/TCA.h5   to   /media/rich/bigSSD/analysis_data/face_rhythm/mouse_0322N/run_20230701/20230502/jobNum_0/analysis_files/TCA.h5\n",
      "downloading /n/data1/hms/neurobio/sabatini/rich/analysis/faceRhythm/mouse_0322N/run_20230701/20230502/jobNum_0/analysis_files/PointTracker.h5   to   /media/rich/bigSSD/analysis_data/face_rhythm/mouse_0322N/run_20230701/20230502/jobNum_0/analysis_files/PointTracker.h5\n",
      "downloading /n/data1/hms/neurobio/sabatini/rich/analysis/faceRhythm/mouse_0322N/run_20230701/20230502/jobNum_0/analysis_files/VQT_Analyzer.h5   to   /media/rich/bigSSD/analysis_data/face_rhythm/mouse_0322N/run_20230701/20230502/jobNum_0/analysis_files/VQT_Analyzer.h5\n",
      "downloading /n/data1/hms/neurobio/sabatini/rich/analysis/faceRhythm/mouse_0322N/run_20230701/20230502/jobNum_0/analysis_files/Dataset_videos.h5   to   /media/rich/bigSSD/analysis_data/face_rhythm/mouse_0322N/run_20230701/20230502/jobNum_0/analysis_files/Dataset_videos.h5\n",
      "downloading /n/data1/hms/neurobio/sabatini/rich/analysis/faceRhythm/mouse_0322N/run_20230701/20230502/jobNum_0/pipeline_basic.py   to   /media/rich/bigSSD/analysis_data/face_rhythm/mouse_0322N/run_20230701/20230502/jobNum_0/pipeline_basic.py\n",
      "downloading /n/data1/hms/neurobio/sabatini/rich/analysis/faceRhythm/mouse_0322N/run_20230701/20230502/jobNum_0/run_info.json   to   /media/rich/bigSSD/analysis_data/face_rhythm/mouse_0322N/run_20230701/20230502/jobNum_0/run_info.json\n",
      "downloading /n/data1/hms/neurobio/sabatini/rich/analysis/faceRhythm/mouse_0322N/run_20230701/20230502/jobNum_0/sbatch_config.sh   to   /media/rich/bigSSD/analysis_data/face_rhythm/mouse_0322N/run_20230701/20230502/jobNum_0/sbatch_config.sh\n",
      "downloading /n/data1/hms/neurobio/sabatini/rich/analysis/faceRhythm/mouse_0322N/run_20230701/20230502/aligned_TCA/parameters_batch.json   to   /media/rich/bigSSD/analysis_data/face_rhythm/mouse_0322N/run_20230701/20230502/aligned_TCA/parameters_batch.json\n",
      "downloading /n/data1/hms/neurobio/sabatini/rich/analysis/faceRhythm/mouse_0322N/run_20230701/20230502/aligned_TCA/jobNum_0/tca_refit.h5   to   /media/rich/bigSSD/analysis_data/face_rhythm/mouse_0322N/run_20230701/20230502/aligned_TCA/jobNum_0/tca_refit.h5\n",
      "downloading /n/data1/hms/neurobio/sabatini/rich/analysis/faceRhythm/mouse_0322N/run_20230701/20230502/aligned_TCA/jobNum_0/params.json   to   /media/rich/bigSSD/analysis_data/face_rhythm/mouse_0322N/run_20230701/20230502/aligned_TCA/jobNum_0/params.json\n",
      "downloading /n/data1/hms/neurobio/sabatini/rich/analysis/faceRhythm/mouse_0322N/run_20230701/20230502/aligned_TCA/jobNum_0/1_make_consistent_fr_factors.py   to   /media/rich/bigSSD/analysis_data/face_rhythm/mouse_0322N/run_20230701/20230502/aligned_TCA/jobNum_0/1_make_consistent_fr_factors.py\n",
      "downloading /n/data1/hms/neurobio/sabatini/rich/analysis/faceRhythm/mouse_0322N/run_20230701/20230502/aligned_TCA/jobNum_0/sbatch_config.sh   to   /media/rich/bigSSD/analysis_data/face_rhythm/mouse_0322N/run_20230701/20230502/aligned_TCA/jobNum_0/sbatch_config.sh\n",
      "downloading /n/data1/hms/neurobio/sabatini/rich/analysis/faceRhythm/mouse_0322N/run_20230701/20230502/aligned_TCA/jobNum_0/print_log_12685214.log   to   /media/rich/bigSSD/analysis_data/face_rhythm/mouse_0322N/run_20230701/20230502/aligned_TCA/jobNum_0/print_log_12685214.log\n",
      "downloading /n/data1/hms/neurobio/sabatini/rich/analysis/faceRhythm/mouse_0322N/run_20230701/20230502/aligned_TCA/1_make_consistent_fr_factors.py   to   /media/rich/bigSSD/analysis_data/face_rhythm/mouse_0322N/run_20230701/20230502/aligned_TCA/1_make_consistent_fr_factors.py\n",
      "downloading /n/data1/hms/neurobio/sabatini/rich/analysis/faceRhythm/mouse_0322N/run_20230701/20230502/aligned_TCA/dispatcher.py   to   /media/rich/bigSSD/analysis_data/face_rhythm/mouse_0322N/run_20230701/20230502/aligned_TCA/dispatcher.py\n",
      "downloading /n/data1/hms/neurobio/sabatini/rich/analysis/faceRhythm/mouse_0322N/run_20230701/20230502/aligned_TCA/notes.txt   to   /media/rich/bigSSD/analysis_data/face_rhythm/mouse_0322N/run_20230701/20230502/aligned_TCA/notes.txt\n",
      "downloading /n/data1/hms/neurobio/sabatini/rich/analysis/faceRhythm/mouse_0322N/run_20230701/20230502/pipeline_basic.py   to   /media/rich/bigSSD/analysis_data/face_rhythm/mouse_0322N/run_20230701/20230502/pipeline_basic.py\n",
      "downloading /n/data1/hms/neurobio/sabatini/rich/analysis/faceRhythm/mouse_0322N/run_20230701/20230502/dispatcher.py   to   /media/rich/bigSSD/analysis_data/face_rhythm/mouse_0322N/run_20230701/20230502/dispatcher.py\n",
      "downloading /n/data1/hms/neurobio/sabatini/rich/analysis/faceRhythm/mouse_0322N/run_20230701/20230502/notes.txt   to   /media/rich/bigSSD/analysis_data/face_rhythm/mouse_0322N/run_20230701/20230502/notes.txt\n"
     ]
    }
   ],
   "source": [
    "sftp.get_dir(\n",
    "    source=r'/n/data1/hms/neurobio/sabatini/rich/analysis/faceRhythm/mouse_0322N/run_20230701/',\n",
    "    target=r'/media/rich/bigSSD/analysis_data/face_rhythm/mouse_0322N/run_20230701/',\n",
    ")"
   ]
  },
  {
   "cell_type": "code",
   "execution_count": null,
   "id": "38d274fb",
   "metadata": {},
   "outputs": [],
   "source": []
  },
  {
   "cell_type": "markdown",
   "id": "33600579",
   "metadata": {},
   "source": [
    "## Clean up"
   ]
  },
  {
   "cell_type": "code",
   "execution_count": null,
   "id": "b31f6bcb",
   "metadata": {},
   "outputs": [],
   "source": [
    "## delete password\n",
    "del pw\n",
    "gc.collect()\n",
    "\n",
    "## close sftp\n",
    "if sftp: sftp.close()\n",
    "if transport: transport.close()\n",
    "del sftp\n",
    "del transport\n",
    "    \n",
    "## close ssh\n",
    "ssh_t.close()\n",
    "del ssh_t\n",
    "ssh_c.close()\n",
    "del ssh_c\n",
    "gc.collect()"
   ]
  },
  {
   "cell_type": "code",
   "execution_count": null,
   "id": "b1e29db0",
   "metadata": {},
   "outputs": [],
   "source": []
  },
  {
   "cell_type": "code",
   "execution_count": null,
   "id": "a2ee21fd",
   "metadata": {},
   "outputs": [],
   "source": []
  }
 ],
 "metadata": {
  "kernelspec": {
   "display_name": "Python 3 (ipykernel)",
   "language": "python",
   "name": "python3"
  },
  "language_info": {
   "codemirror_mode": {
    "name": "ipython",
    "version": 3
   },
   "file_extension": ".py",
   "mimetype": "text/x-python",
   "name": "python",
   "nbconvert_exporter": "python",
   "pygments_lexer": "ipython3",
   "version": "3.11.3"
  }
 },
 "nbformat": 4,
 "nbformat_minor": 5
}
