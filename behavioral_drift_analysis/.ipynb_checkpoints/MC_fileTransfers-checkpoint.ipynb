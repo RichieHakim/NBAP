{
 "cells": [
  {
   "cell_type": "code",
   "execution_count": 1,
   "id": "eb297901",
   "metadata": {},
   "outputs": [
    {
     "data": {
      "text/html": [
       "<style>.container {width:95% !important; }</style>"
      ],
      "text/plain": [
       "<IPython.core.display.HTML object>"
      ]
     },
     "metadata": {},
     "output_type": "display_data"
    },
    {
     "data": {
      "text/html": [
       "<style>:root { --jp-notebook-max-width: 100% !important; }</style>"
      ],
      "text/plain": [
       "<IPython.core.display.HTML object>"
      ]
     },
     "metadata": {},
     "output_type": "display_data"
    }
   ],
   "source": [
    "# widen jupyter notebook window\n",
    "from IPython.display import display, HTML\n",
    "display(HTML(\"<style>.container {width:95% !important; }</style>\"))\n",
    "display(HTML(\"<style>:root { --jp-notebook-max-width: 100% !important; }</style>\"))"
   ]
  },
  {
   "cell_type": "markdown",
   "id": "e7ca9401",
   "metadata": {},
   "source": [
    "This requires having `bnpm`. Get it with `pip install bnpm` or here: https://github.com/RichieHakim/basic_neural_processing_modules"
   ]
  },
  {
   "cell_type": "code",
   "execution_count": 2,
   "id": "b083639c",
   "metadata": {},
   "outputs": [],
   "source": [
    "%load_ext autoreload\n",
    "%autoreload 2\n",
    "from bnpm import server\n",
    "import bnpm"
   ]
  },
  {
   "cell_type": "code",
   "execution_count": 3,
   "id": "47fe1e80",
   "metadata": {},
   "outputs": [],
   "source": [
    "import os\n",
    "from pathlib import Path\n",
    "import functools\n",
    "import tempfile\n",
    "import getpass\n",
    "import gc"
   ]
  },
  {
   "cell_type": "code",
   "execution_count": 4,
   "id": "4b3fddce-51cc-49ef-8d84-4a881acc0c43",
   "metadata": {},
   "outputs": [],
   "source": [
    "from tqdm import tqdm\n",
    "import numpy as np\n",
    "import natsort"
   ]
  },
  {
   "cell_type": "markdown",
   "id": "6114afcd",
   "metadata": {},
   "source": [
    "------------\n",
    "# ==== Start ===="
   ]
  },
  {
   "cell_type": "markdown",
   "id": "ae33b435",
   "metadata": {},
   "source": [
    "## Prepare username + password"
   ]
  },
  {
   "cell_type": "code",
   "execution_count": 5,
   "id": "af73363a",
   "metadata": {},
   "outputs": [
    {
     "name": "stdout",
     "output_type": "stream",
     "text": [
      "Username: rh183\n",
      "Password: ········\n"
     ]
    }
   ],
   "source": [
    "remote_host_transfer = \"transfer.rc.hms.harvard.edu\"\n",
    "remote_host_compute = \"o2.hms.harvard.edu\"\n",
    "username = input('Username: ')\n",
    "\n",
    "use_localSshKey = False\n",
    "\n",
    "pw = server.pw_encode(getpass.getpass(prompt='Password: ')) if use_localSshKey==False else None\n",
    "\n",
    "path_sshKey = '/home/rich/.ssh/id_rsa' if use_localSshKey else None"
   ]
  },
  {
   "cell_type": "markdown",
   "id": "c539c815",
   "metadata": {},
   "source": [
    "## Prepare `sftp` and `ssh` objects"
   ]
  },
  {
   "cell_type": "code",
   "execution_count": 6,
   "id": "702eba22",
   "metadata": {},
   "outputs": [],
   "source": [
    "## initialize ssh_transfer\n",
    "ssh_t = server.ssh_interface(\n",
    "    nbytes_toReceive=20000,\n",
    "    recv_timeout=1,\n",
    "    verbose=True,\n",
    ")"
   ]
  },
  {
   "cell_type": "code",
   "execution_count": 7,
   "id": "fdf1e2ba",
   "metadata": {
    "scrolled": true
   },
   "outputs": [],
   "source": [
    "ssh_t.o2_connect(\n",
    "    hostname=remote_host_transfer,\n",
    "    username=username,\n",
    "    password=server.pw_decode(pw),\n",
    "    key_filename=path_sshKey,\n",
    "    look_for_keys=False,\n",
    "    passcode_method=1,\n",
    "    verbose=0,\n",
    "    skip_passcode=False,    \n",
    ")"
   ]
  },
  {
   "cell_type": "code",
   "execution_count": 8,
   "id": "fa578dd5",
   "metadata": {},
   "outputs": [],
   "source": [
    "# ## initialize ssh_compute\n",
    "# ssh_c = server.ssh_interface(\n",
    "#     nbytes_toReceive=20000,\n",
    "#     recv_timeout=1,\n",
    "#     verbose=True,\n",
    "# )\n",
    "# ssh_c.o2_connect(\n",
    "#     hostname=remote_host_compute,\n",
    "#     username=username,\n",
    "#     password=server.pw_decode(pw),\n",
    "#     key_filename=path_sshKey,\n",
    "#     look_for_keys=False,\n",
    "#     passcode_method=1,\n",
    "#     verbose=0,\n",
    "#     skip_passcode=False,    \n",
    "# )"
   ]
  },
  {
   "cell_type": "code",
   "execution_count": 9,
   "id": "daea3d7a",
   "metadata": {},
   "outputs": [],
   "source": [
    "sftp = server.sftp_interface(ssh_client=ssh_t.client)"
   ]
  },
  {
   "cell_type": "code",
   "execution_count": 10,
   "id": "21af2f06",
   "metadata": {},
   "outputs": [],
   "source": [
    "prompt_snip = f'[{username}'"
   ]
  },
  {
   "cell_type": "code",
   "execution_count": 11,
   "id": "6d8554e7",
   "metadata": {},
   "outputs": [],
   "source": [
    "# send_expect = functools.partial(ssh_c.send_expect, str_success=prompt_snip)"
   ]
  },
  {
   "cell_type": "code",
   "execution_count": null,
   "id": "06f78ed9-095e-4ab1-a776-080d0ab03844",
   "metadata": {},
   "outputs": [],
   "source": []
  },
  {
   "cell_type": "code",
   "execution_count": 13,
   "id": "f220acdb",
   "metadata": {},
   "outputs": [],
   "source": [
    "cage = 'cage_0403'\n",
    "mouse = 'mouse_0403R'"
   ]
  },
  {
   "cell_type": "markdown",
   "id": "813123b7-071f-419c-885a-954ba78ae030",
   "metadata": {},
   "source": [
    "# Download stat and ops files"
   ]
  },
  {
   "cell_type": "code",
   "execution_count": 87,
   "id": "c0c8cdc3-6553-4d12-bf8c-27cc5a113ea3",
   "metadata": {},
   "outputs": [
    {
     "name": "stdout",
     "output_type": "stream",
     "text": [
      "/n/data1/hms/neurobio/sabatini/gyu/analysis/suite2p_output/mouse_0916N/20231205/scanimage_data/exp/jobNum_0/suite2p/plane0/stat.npy\n",
      "/n/data1/hms/neurobio/sabatini/gyu/analysis/suite2p_output/mouse_0916N/20231029/scanimage_data/exp/jobNum_0/suite2p/plane0/stat.npy\n",
      "/n/data1/hms/neurobio/sabatini/gyu/analysis/suite2p_output/mouse_0916N/20231127/scanimage_data/exp/jobNum_0/suite2p/plane0/stat.npy\n",
      "/n/data1/hms/neurobio/sabatini/gyu/analysis/suite2p_output/mouse_0916N/20231024/scanimage_data/exp/jobNum_0/suite2p/plane0/stat.npy\n",
      "/n/data1/hms/neurobio/sabatini/gyu/analysis/suite2p_output/mouse_0916N/20231021/scanimage_data/exp/jobNum_0/suite2p/plane0/stat.npy\n",
      "/n/data1/hms/neurobio/sabatini/gyu/analysis/suite2p_output/mouse_0916N/20231025/scanimage_data/exp/jobNum_0/suite2p/plane0/stat.npy\n",
      "/n/data1/hms/neurobio/sabatini/gyu/analysis/suite2p_output/mouse_0916N/20231106/scanimage_data/exp/jobNum_0/suite2p/plane0/stat.npy\n",
      "/n/data1/hms/neurobio/sabatini/gyu/analysis/suite2p_output/mouse_0916N/20231129/scanimage_data/exp/jobNum_0/suite2p/plane0/stat.npy\n",
      "/n/data1/hms/neurobio/sabatini/gyu/analysis/suite2p_output/mouse_0916N/20231023/scanimage_data/exp/jobNum_0/suite2p/plane0/stat.npy\n",
      "/n/data1/hms/neurobio/sabatini/gyu/analysis/suite2p_output/mouse_0916N/20231022/scanimage_data/exp/jobNum_0/suite2p/plane0/stat.npy\n",
      "/n/data1/hms/neurobio/sabatini/gyu/analysis/suite2p_output/mouse_0916N/20231031/scanimage_data/exp/jobNum_0/suite2p/plane0/stat.npy\n",
      "/n/data1/hms/neurobio/sabatini/gyu/analysis/suite2p_output/mouse_0916N/20231027/scanimage_data/exp/jobNum_0/suite2p/plane0/stat.npy\n",
      "/n/data1/hms/neurobio/sabatini/gyu/analysis/suite2p_output/mouse_0916N/20231102/scanimage_data/exp/jobNum_0/suite2p/plane0/stat.npy\n",
      "/n/data1/hms/neurobio/sabatini/gyu/analysis/suite2p_output/mouse_0916N/20231105/scanimage_data/exp/jobNum_0/suite2p/plane0/stat.npy\n",
      "/n/data1/hms/neurobio/sabatini/gyu/analysis/suite2p_output/mouse_0916N/20231026/scanimage_data/exp/jobNum_0/suite2p/plane0/stat.npy\n",
      "/n/data1/hms/neurobio/sabatini/gyu/analysis/suite2p_output/mouse_0916N/20231207/scanimage_data/exp/jobNum_0/suite2p/plane0/stat.npy\n",
      "/n/data1/hms/neurobio/sabatini/gyu/analysis/suite2p_output/mouse_0916N/20231208/scanimage_data/exp/jobNum_0/suite2p/plane0/stat.npy\n",
      "/n/data1/hms/neurobio/sabatini/gyu/analysis/suite2p_output/mouse_0916N/20231130/scanimage_data/exp/jobNum_0/suite2p/plane0/stat.npy\n",
      "/n/data1/hms/neurobio/sabatini/gyu/analysis/suite2p_output/mouse_0916N/20231209/scanimage_data/exp/jobNum_0/suite2p/plane0/stat.npy\n",
      "/n/data1/hms/neurobio/sabatini/gyu/analysis/suite2p_output/mouse_0916N/20231201/scanimage_data/exp/jobNum_0/suite2p/plane0/stat.npy\n",
      "/n/data1/hms/neurobio/sabatini/gyu/analysis/suite2p_output/mouse_0916N/20231028/scanimage_data/exp/jobNum_0/suite2p/plane0/stat.npy\n",
      "/n/data1/hms/neurobio/sabatini/gyu/analysis/suite2p_output/mouse_0916N/20231128/scanimage_data/exp/jobNum_0/suite2p/plane0/stat.npy\n",
      "/n/data1/hms/neurobio/sabatini/gyu/analysis/suite2p_output/mouse_0916N/20231104/scanimage_data/exp/jobNum_0/suite2p/plane0/stat.npy\n",
      "/n/data1/hms/neurobio/sabatini/gyu/analysis/suite2p_output/mouse_0916N/20231203/scanimage_data/exp/jobNum_0/suite2p/plane0/stat.npy\n",
      "/n/data1/hms/neurobio/sabatini/gyu/analysis/suite2p_output/mouse_0916N/20231204/scanimage_data/exp/jobNum_0/suite2p/plane0/stat.npy\n",
      "/n/data1/hms/neurobio/sabatini/gyu/analysis/suite2p_output/mouse_0916N/20231030/scanimage_data/exp/jobNum_0/suite2p/plane0/stat.npy\n",
      "/n/data1/hms/neurobio/sabatini/gyu/analysis/suite2p_output/mouse_0916N/20231103/scanimage_data/exp/jobNum_0/suite2p/plane0/stat.npy\n",
      "/n/data1/hms/neurobio/sabatini/gyu/analysis/suite2p_output/mouse_0916N/20231210/scanimage_data/exp/jobNum_0/suite2p/plane0/stat.npy\n",
      "/n/data1/hms/neurobio/sabatini/gyu/analysis/suite2p_output/mouse_0916N/20231202/scanimage_data/exp/jobNum_0/suite2p/plane0/stat.npy\n",
      "/n/data1/hms/neurobio/sabatini/gyu/analysis/suite2p_output/mouse_0916N/20231101/scanimage_data/exp/jobNum_0/suite2p/plane0/stat.npy\n"
     ]
    }
   ],
   "source": [
    "paths_found = natsort.natsorted(sftp.search_recursive(\n",
    "    path=f'/n/data1/hms/neurobio/sabatini/gyu/analysis/suite2p_output/{mouse}/',\n",
    "    search_pattern_re='stat.*npy',\n",
    "    max_depth=7,\n",
    "    find_folders=False,\n",
    "    find_files=True,\n",
    "    verbose=True,\n",
    "))"
   ]
  },
  {
   "cell_type": "code",
   "execution_count": 88,
   "id": "68a55e82-df7b-4f6b-a994-4dd91aa52d4a",
   "metadata": {},
   "outputs": [],
   "source": [
    "paths_found = [p for p in paths_found if 'exp' in p]"
   ]
  },
  {
   "cell_type": "code",
   "execution_count": 89,
   "id": "67b871e4",
   "metadata": {},
   "outputs": [
    {
     "data": {
      "text/plain": [
       "['20231021',\n",
       " '20231022',\n",
       " '20231023',\n",
       " '20231024',\n",
       " '20231025',\n",
       " '20231026',\n",
       " '20231027',\n",
       " '20231028',\n",
       " '20231029',\n",
       " '20231030',\n",
       " '20231031',\n",
       " '20231101',\n",
       " '20231102',\n",
       " '20231103',\n",
       " '20231104',\n",
       " '20231105',\n",
       " '20231106',\n",
       " '20231127',\n",
       " '20231128',\n",
       " '20231129',\n",
       " '20231130',\n",
       " '20231201',\n",
       " '20231202',\n",
       " '20231203',\n",
       " '20231204',\n",
       " '20231205',\n",
       " '20231207',\n",
       " '20231208',\n",
       " '20231209',\n",
       " '20231210']"
      ]
     },
     "execution_count": 89,
     "metadata": {},
     "output_type": "execute_result"
    }
   ],
   "source": [
    "dates_toUse = natsort.natsorted([Path(p).parts[-7] for p in paths_found])\n",
    "dates_toUse"
   ]
  },
  {
   "cell_type": "code",
   "execution_count": 84,
   "id": "010544df-1077-4680-ba9b-f4f810be70b6",
   "metadata": {
    "scrolled": true
   },
   "outputs": [
    {
     "name": "stderr",
     "output_type": "stream",
     "text": [
      "100%|█████████████████████████████████████████████████████████████████████▉| 16.5M/16.5M [00:00<00:00, 43.4Mb/s]\n",
      "100%|█████████████████████████████████████████████████████████████████████▉| 18.1M/18.1M [00:00<00:00, 51.5Mb/s]\n",
      "100%|█████████████████████████████████████████████████████████████████████▉| 16.4M/16.4M [00:00<00:00, 49.5Mb/s]\n",
      "100%|█████████████████████████████████████████████████████████████████████▉| 18.4M/18.4M [00:00<00:00, 52.1Mb/s]\n",
      "100%|█████████████████████████████████████████████████████████████████████▉| 18.5M/18.5M [00:00<00:00, 48.9Mb/s]\n",
      "100%|█████████████████████████████████████████████████████████████████████▉| 18.2M/18.2M [00:00<00:00, 32.7Mb/s]\n"
     ]
    }
   ],
   "source": [
    "[sftp.get(str(Path(p).parent / 'stat.npy'), str(Path(f'/media/rich/bigSSD/analysis_data/face_rhythm/{mouse}/stat_and_ops') / Path(p).parts[-7] / 'stat.npy')) for p in paths_found[:]];"
   ]
  },
  {
   "cell_type": "code",
   "execution_count": 90,
   "id": "10fda52e-dfc3-435a-8d63-c405233dee4a",
   "metadata": {
    "scrolled": true
   },
   "outputs": [
    {
     "name": "stderr",
     "output_type": "stream",
     "text": [
      "100%|███████████████████████████████████████████████████████████████████████▉| 232M/232M [00:03<00:00, 59.7Mb/s]\n",
      "100%|███████████████████████████████████████████████████████████████████████▉| 232M/232M [00:03<00:00, 63.6Mb/s]\n",
      "100%|███████████████████████████████████████████████████████████████████████▉| 231M/231M [00:03<00:00, 63.3Mb/s]\n",
      "100%|███████████████████████████████████████████████████████████████████████▉| 230M/230M [00:03<00:00, 61.9Mb/s]\n",
      "100%|███████████████████████████████████████████████████████████████████████▉| 229M/229M [00:03<00:00, 61.9Mb/s]\n",
      "100%|███████████████████████████████████████████████████████████████████████▉| 230M/230M [00:04<00:00, 54.2Mb/s]\n",
      "100%|███████████████████████████████████████████████████████████████████████▉| 230M/230M [00:03<00:00, 63.2Mb/s]\n",
      "100%|███████████████████████████████████████████████████████████████████████▉| 232M/232M [00:03<00:00, 62.7Mb/s]\n",
      "100%|███████████████████████████████████████████████████████████████████████▉| 230M/230M [00:03<00:00, 63.1Mb/s]\n",
      "100%|███████████████████████████████████████████████████████████████████████▉| 231M/231M [00:03<00:00, 58.2Mb/s]\n",
      "100%|███████████████████████████████████████████████████████████████████████▉| 229M/229M [00:03<00:00, 63.1Mb/s]\n",
      "100%|███████████████████████████████████████████████████████████████████████▉| 229M/229M [00:05<00:00, 43.3Mb/s]\n",
      "100%|███████████████████████████████████████████████████████████████████████▉| 230M/230M [00:04<00:00, 55.4Mb/s]\n",
      "100%|███████████████████████████████████████████████████████████████████████▉| 229M/229M [00:04<00:00, 53.6Mb/s]\n",
      "100%|███████████████████████████████████████████████████████████████████████▉| 228M/228M [00:03<00:00, 62.4Mb/s]\n",
      "100%|███████████████████████████████████████████████████████████████████████▉| 229M/229M [00:04<00:00, 53.8Mb/s]\n",
      "100%|███████████████████████████████████████████████████████████████████████▉| 229M/229M [00:04<00:00, 47.1Mb/s]\n",
      "100%|███████████████████████████████████████████████████████████████████████▉| 228M/228M [00:06<00:00, 37.5Mb/s]\n",
      "100%|███████████████████████████████████████████████████████████████████████▉| 229M/229M [00:08<00:00, 25.6Mb/s]\n",
      "100%|███████████████████████████████████████████████████████████████████████▉| 228M/228M [00:08<00:00, 27.0Mb/s]\n",
      "100%|███████████████████████████████████████████████████████████████████████▉| 229M/229M [00:08<00:00, 25.5Mb/s]\n",
      "100%|███████████████████████████████████████████████████████████████████████▉| 227M/227M [00:06<00:00, 32.5Mb/s]\n",
      "100%|███████████████████████████████████████████████████████████████████████▉| 230M/230M [00:07<00:00, 29.7Mb/s]\n",
      "100%|███████████████████████████████████████████████████████████████████████▉| 259M/259M [00:08<00:00, 29.1Mb/s]\n",
      "100%|███████████████████████████████████████████████████████████████████████▉| 261M/261M [00:08<00:00, 30.0Mb/s]\n",
      "100%|███████████████████████████████████████████████████████████████████████▉| 261M/261M [00:10<00:00, 26.0Mb/s]\n",
      "100%|███████████████████████████████████████████████████████████████████████▉| 260M/260M [00:10<00:00, 25.0Mb/s]\n",
      "100%|███████████████████████████████████████████████████████████████████████▉| 246M/246M [00:09<00:00, 26.7Mb/s]\n",
      "100%|███████████████████████████████████████████████████████████████████████▉| 244M/244M [00:09<00:00, 25.9Mb/s]\n",
      "100%|███████████████████████████████████████████████████████████████████████▉| 275M/275M [00:09<00:00, 28.1Mb/s]\n"
     ]
    }
   ],
   "source": [
    "[sftp.get(str(Path(p).parent / 'ops.npy'), str(Path(f'/media/rich/bigSSD/analysis_data/face_rhythm/{mouse}/stat_and_ops') / Path(p).parts[-7] / 'ops.npy')) for p in paths_found[:]];"
   ]
  },
  {
   "cell_type": "code",
   "execution_count": null,
   "id": "4e1295be-d324-40e3-8dc9-c3995933267a",
   "metadata": {},
   "outputs": [],
   "source": []
  },
  {
   "cell_type": "code",
   "execution_count": null,
   "id": "2999fb00-611b-4f2a-b680-a4c2e5bd7db2",
   "metadata": {},
   "outputs": [],
   "source": []
  },
  {
   "cell_type": "markdown",
   "id": "c181b7a8-eba3-4252-908b-9a0849d7c618",
   "metadata": {},
   "source": [
    "# Download logger files"
   ]
  },
  {
   "cell_type": "code",
   "execution_count": 14,
   "id": "a8c77f17",
   "metadata": {},
   "outputs": [
    {
     "name": "stdout",
     "output_type": "stream",
     "text": [
      "/n/files/Neurobio/MICROSCOPE/Gyu/BMI_data/cage_0403/mouse_0403R/20230708/analysis_data/logger.mat\n",
      "/n/files/Neurobio/MICROSCOPE/Gyu/BMI_data/cage_0403/mouse_0403R/20230709/analysis_data/logger.mat\n",
      "/n/files/Neurobio/MICROSCOPE/Gyu/BMI_data/cage_0403/mouse_0403R/20230702/analysis_data/logger.mat\n",
      "/n/files/Neurobio/MICROSCOPE/Gyu/BMI_data/cage_0403/mouse_0403R/20230703/analysis_data/logger.mat\n",
      "/n/files/Neurobio/MICROSCOPE/Gyu/BMI_data/cage_0403/mouse_0403R/20230707/analysis_data/logger.mat\n",
      "/n/files/Neurobio/MICROSCOPE/Gyu/BMI_data/cage_0403/mouse_0403R/20230706/analysis_data/logger.mat\n"
     ]
    }
   ],
   "source": [
    "paths_found = natsort.natsorted(sftp.search_recursive(\n",
    "    path=f'/n/files/Neurobio/MICROSCOPE/Gyu/BMI_data/{cage}/{mouse}/',\n",
    "    search_pattern_re='logger\\.mat',\n",
    "    max_depth=7,\n",
    "    find_folders=False,\n",
    "    find_files=True,\n",
    "    verbose=True,\n",
    "))"
   ]
  },
  {
   "cell_type": "code",
   "execution_count": 15,
   "id": "6b810c93-7529-4b04-843f-4047e2dd4e66",
   "metadata": {},
   "outputs": [
    {
     "data": {
      "text/plain": [
       "['20230702', '20230703', '20230706', '20230707', '20230708', '20230709']"
      ]
     },
     "execution_count": 15,
     "metadata": {},
     "output_type": "execute_result"
    }
   ],
   "source": [
    "dates_toUse = natsort.natsorted([Path(p).parts[-3] for p in paths_found])\n",
    "dates_toUse"
   ]
  },
  {
   "cell_type": "code",
   "execution_count": 16,
   "id": "73cc00e4-5aa2-4eae-8950-8a1d2fb34f60",
   "metadata": {
    "scrolled": true
   },
   "outputs": [
    {
     "name": "stderr",
     "output_type": "stream",
     "text": [
      "100%|█████████████████████████████████████████████████████████████████████▉| 4.69M/4.69M [00:00<00:00, 17.3Mb/s]\n",
      "100%|█████████████████████████████████████████████████████████████████████▊| 4.65M/4.67M [00:00<00:00, 19.9Mb/s]\n",
      "100%|█████████████████████████████████████████████████████████████████████▉| 9.54M/9.55M [00:00<00:00, 26.0Mb/s]\n",
      "100%|█████████████████████████████████████████████████████████████████████▉| 7.50M/7.51M [00:00<00:00, 24.9Mb/s]\n",
      "100%|█████████████████████████████████████████████████████████████████████▊| 10.6M/10.6M [00:00<00:00, 28.6Mb/s]\n",
      "100%|█████████████████████████████████████████████████████████████████████▊| 10.6M/10.6M [00:00<00:00, 30.3Mb/s]\n"
     ]
    }
   ],
   "source": [
    "[sftp.get(str(Path(p).parent / 'logger.mat'), str(Path(f'/media/rich/bigSSD/analysis_data/face_rhythm/{mouse}/loggers') / date / 'logger.mat')) for date, p in zip(dates_toUse, paths_found)];"
   ]
  },
  {
   "cell_type": "code",
   "execution_count": 17,
   "id": "d2d04d61-b22e-48a0-b351-01d67f1f9677",
   "metadata": {
    "scrolled": false
   },
   "outputs": [
    {
     "name": "stderr",
     "output_type": "stream",
     "text": [
      " 95%|██████████████████████████████████████████████████████████████████▊   | 65.5k/68.6k [00:00<00:00, 1.15Mb/s]\n",
      " 95%|██████████████████████████████████████████████████████████████████▊   | 65.5k/68.6k [00:00<00:00, 1.07Mb/s]\n",
      " 99%|█████████████████████████████████████████████████████████████████████▌| 5.24M/5.27M [00:00<00:00, 25.0Mb/s]\n",
      "100%|█████████████████████████████████████████████████████████████████████▊| 5.37M/5.39M [00:00<00:00, 24.9Mb/s]\n",
      " 99%|█████████████████████████████████████████████████████████████████████▌| 5.34M/5.37M [00:00<00:00, 25.0Mb/s]\n",
      "100%|█████████████████████████████████████████████████████████████████████▊| 5.21M/5.22M [00:00<00:00, 25.7Mb/s]\n"
     ]
    }
   ],
   "source": [
    "[sftp.get(str(Path(p).parent / 'expParams.mat'), str(Path(f'/media/rich/bigSSD/analysis_data/face_rhythm/{mouse}/loggers') / date / 'expParams.mat')) for date, p in zip(dates_toUse, paths_found)];"
   ]
  },
  {
   "cell_type": "code",
   "execution_count": null,
   "id": "32d48bc9-3135-4506-bbdc-bdeae5cdd328",
   "metadata": {},
   "outputs": [],
   "source": []
  },
  {
   "cell_type": "markdown",
   "id": "ef934a83-e3e4-4bdc-b898-ca7607c001be",
   "metadata": {},
   "source": [
    "# Download wavesurfer files"
   ]
  },
  {
   "cell_type": "code",
   "execution_count": 64,
   "id": "bb2de0c6-a350-41c4-b34b-e3f2a3303e47",
   "metadata": {},
   "outputs": [
    {
     "name": "stdout",
     "output_type": "stream",
     "text": [
      "/n/files/Neurobio/MICROSCOPE/Gyu/BMI_data/cage_0403/mouse_0403R/20230708/wavesurfer_data/exp_0001.h5\n",
      "/n/files/Neurobio/MICROSCOPE/Gyu/BMI_data/cage_0403/mouse_0403R/20230709/wavesurfer_data/exp_0001.h5\n",
      "/n/files/Neurobio/MICROSCOPE/Gyu/BMI_data/cage_0403/mouse_0403R/20230702/wavesurfer_data/exp_0001.h5\n",
      "/n/files/Neurobio/MICROSCOPE/Gyu/BMI_data/cage_0403/mouse_0403R/20230703/wavesurfer_data/exp_0001.h5\n",
      "/n/files/Neurobio/MICROSCOPE/Gyu/BMI_data/cage_0403/mouse_0403R/20230707/wavesurfer_data/exp_0001.h5\n",
      "/n/files/Neurobio/MICROSCOPE/Gyu/BMI_data/cage_0403/mouse_0403R/20230706/wavesurfer_data/exp_0001.h5\n"
     ]
    }
   ],
   "source": [
    "paths_files_remote = sftp.search_recursive(\n",
    "    path=f'/n/files/Neurobio/MICROSCOPE/Gyu/BMI_data/{cage}/{mouse}/',\n",
    "    search_pattern_re=r'.*exp.*h5',\n",
    "    max_depth=6,\n",
    "    find_files=True,\n",
    "    find_folders=False,\n",
    "    verbose=True,\n",
    ")\n",
    "\n",
    "paths_files_remote = natsort.natsorted(paths_files_remote)"
   ]
  },
  {
   "cell_type": "code",
   "execution_count": 65,
   "id": "9904a6aa-375c-4827-b676-55bb195cda56",
   "metadata": {},
   "outputs": [],
   "source": [
    "dates_files_remote = [Path(p).parent.parent.name for p in paths_files_remote]"
   ]
  },
  {
   "cell_type": "code",
   "execution_count": 66,
   "id": "3aa95e07-f73e-48c9-99f1-f0282be8bb1c",
   "metadata": {},
   "outputs": [
    {
     "data": {
      "text/plain": [
       "['20230702', '20230703', '20230706', '20230707', '20230708', '20230709']"
      ]
     },
     "execution_count": 66,
     "metadata": {},
     "output_type": "execute_result"
    }
   ],
   "source": [
    "dates_files_remote"
   ]
  },
  {
   "cell_type": "code",
   "execution_count": 67,
   "id": "fa8f2f34-6a29-4ef9-8cb9-e33771b41aa1",
   "metadata": {},
   "outputs": [],
   "source": [
    "directory_local_save = f'/media/rich/bigSSD/analysis_data/face_rhythm/{mouse}/wavesurfer_files/'"
   ]
  },
  {
   "cell_type": "code",
   "execution_count": 68,
   "id": "6b75bba8-d286-4830-b7f9-95e38431aace",
   "metadata": {},
   "outputs": [
    {
     "name": "stderr",
     "output_type": "stream",
     "text": [
      "100%|█████████████████████████████████████████████████████████████████████▉| 50.7M/50.7M [00:00<00:00, 50.9Mb/s]\n",
      "100%|█████████████████████████████████████████████████████████████████████▉| 50.7M/50.7M [00:00<00:00, 56.4Mb/s]\n",
      "100%|█████████████████████████████████████████████████████████████████████▉| 50.7M/50.7M [00:00<00:00, 58.8Mb/s]\n",
      "100%|█████████████████████████████████████████████████████████████████████▉| 50.7M/50.7M [00:00<00:00, 60.9Mb/s]\n",
      "100%|█████████████████████████████████████████████████████████████████████▉| 50.7M/50.7M [00:00<00:00, 53.2Mb/s]\n",
      "100%|█████████████████████████████████████████████████████████████████████▉| 50.7M/50.7M [00:00<00:00, 56.5Mb/s]\n"
     ]
    },
    {
     "data": {
      "text/plain": [
       "[None, None, None, None, None, None]"
      ]
     },
     "execution_count": 68,
     "metadata": {},
     "output_type": "execute_result"
    }
   ],
   "source": [
    "[sftp.get(remotepath=p_r, localpath=str(Path(directory_local_save) / date / Path(p_r).name)) for p_r, date in zip(paths_files_remote, dates_files_remote)]"
   ]
  },
  {
   "cell_type": "code",
   "execution_count": null,
   "id": "ceee676e",
   "metadata": {},
   "outputs": [],
   "source": []
  },
  {
   "cell_type": "markdown",
   "id": "aa9efe38-41ed-4978-beff-6a0abbf7a3ea",
   "metadata": {},
   "source": [
    "# Download camera CSV files"
   ]
  },
  {
   "cell_type": "code",
   "execution_count": 44,
   "id": "b2dabe8c-c962-4726-a0aa-4b2d51675df4",
   "metadata": {},
   "outputs": [
    {
     "name": "stdout",
     "output_type": "stream",
     "text": [
      "/n/files/Neurobio/MICROSCOPE/Gyu/BMI_data/cage_0403/mouse_0403R/20230708/camera_data/exp/cam4/times_cam42023-07-08T12_17_59.csv\n",
      "/n/files/Neurobio/MICROSCOPE/Gyu/BMI_data/cage_0403/mouse_0403R/20230709/camera_data/exp/cam4/times_cam42023-07-09T12_19_41.csv\n",
      "/n/files/Neurobio/MICROSCOPE/Gyu/BMI_data/cage_0403/mouse_0403R/20230702/camera_data/exp/cam4/times_cam42023-07-02T14_46_44.csv\n",
      "/n/files/Neurobio/MICROSCOPE/Gyu/BMI_data/cage_0403/mouse_0403R/20230703/camera_data/exp/cam4/times_cam42023-07-03T11_31_50.csv\n",
      "/n/files/Neurobio/MICROSCOPE/Gyu/BMI_data/cage_0403/mouse_0403R/20230707/camera_data/exp/cam4/times_cam42023-07-07T12_09_12.csv\n",
      "/n/files/Neurobio/MICROSCOPE/Gyu/BMI_data/cage_0403/mouse_0403R/20230706/camera_data/exp/cam4/times_cam42023-07-06T13_45_36.csv\n"
     ]
    }
   ],
   "source": [
    "paths_csvs_remote = sftp.search_recursive(\n",
    "    path=f'/n/files/Neurobio/MICROSCOPE/Gyu/BMI_data/{cage}/{mouse}/',\n",
    "    search_pattern_re=r'.*cam4.*csv',\n",
    "    max_depth=6,\n",
    "    find_files=True,\n",
    "    find_folders=False,\n",
    "    verbose=True,\n",
    ")\n",
    "\n",
    "paths_csvs_remote = natsort.natsorted(paths_csvs_remote)"
   ]
  },
  {
   "cell_type": "code",
   "execution_count": 45,
   "id": "e7a5181b-8b14-49ca-ba45-253faf7d465e",
   "metadata": {},
   "outputs": [],
   "source": [
    "dates_csvs_remote = [Path(p).parent.parent.parent.parent.name for p in paths_csvs_remote]"
   ]
  },
  {
   "cell_type": "code",
   "execution_count": 46,
   "id": "1455ee50-9279-4260-adef-dd09126cf0eb",
   "metadata": {},
   "outputs": [],
   "source": [
    "directory_local_save = f'/media/rich/bigSSD/analysis_data/face_rhythm/{mouse}/cam4_CSVs/'"
   ]
  },
  {
   "cell_type": "code",
   "execution_count": 47,
   "id": "cb52e5f9-7d9e-4330-90cd-d88b0e7122ef",
   "metadata": {},
   "outputs": [
    {
     "name": "stderr",
     "output_type": "stream",
     "text": [
      "100%|█████████████████████████████████████████████████████████████████████▉| 31.1M/31.1M [00:01<00:00, 31.0Mb/s]\n",
      "100%|█████████████████████████████████████████████████████████████████████▉| 34.8M/34.8M [00:00<00:00, 35.1Mb/s]\n",
      "100%|█████████████████████████████████████████████████████████████████████▉| 31.2M/31.2M [00:00<00:00, 39.4Mb/s]\n",
      "100%|█████████████████████████████████████████████████████████████████████▉| 31.1M/31.1M [00:00<00:00, 42.7Mb/s]\n",
      "100%|█████████████████████████████████████████████████████████████████████▉| 31.1M/31.1M [00:00<00:00, 31.3Mb/s]\n",
      "100%|█████████████████████████████████████████████████████████████████████▉| 31.2M/31.3M [00:01<00:00, 29.5Mb/s]\n"
     ]
    }
   ],
   "source": [
    "[sftp.get(remotepath=p_r, localpath=str(Path(directory_local_save) / date / Path(p_r).name)) for p_r, date in zip(paths_csvs_remote, dates_csvs_remote)];"
   ]
  },
  {
   "cell_type": "code",
   "execution_count": null,
   "id": "77ee13e0-0f67-4162-b679-2f3b824dae85",
   "metadata": {},
   "outputs": [],
   "source": []
  },
  {
   "cell_type": "markdown",
   "id": "0289626a-4cfc-4497-a27f-0c3bcac4d507",
   "metadata": {},
   "source": [
    "# Download face-rhythm files"
   ]
  },
  {
   "cell_type": "code",
   "execution_count": 18,
   "id": "4e8b12df",
   "metadata": {},
   "outputs": [
    {
     "name": "stdout",
     "output_type": "stream",
     "text": [
      "/n/data1/hms/neurobio/sabatini/rich/analysis/faceRhythm/mouse_0403R/run_20240131/20230708/jobNum_0/analysis_files/VQT_Analyzer.h5\n",
      "/n/data1/hms/neurobio/sabatini/rich/analysis/faceRhythm/mouse_0403R/run_20240131/20230709/jobNum_0/analysis_files/VQT_Analyzer.h5\n",
      "/n/data1/hms/neurobio/sabatini/rich/analysis/faceRhythm/mouse_0403R/run_20240131/20230702/jobNum_0/analysis_files/VQT_Analyzer.h5\n",
      "/n/data1/hms/neurobio/sabatini/rich/analysis/faceRhythm/mouse_0403R/run_20240131/20230707/jobNum_0/analysis_files/VQT_Analyzer.h5\n",
      "/n/data1/hms/neurobio/sabatini/rich/analysis/faceRhythm/mouse_0403R/run_20240131/20230706/jobNum_0/analysis_files/VQT_Analyzer.h5\n"
     ]
    }
   ],
   "source": [
    "paths_fr_remote = natsort.natsorted(sftp.search_recursive(\n",
    "    path=f'/n/data1/hms/neurobio/sabatini/rich/analysis/faceRhythm/{mouse}/',\n",
    "    search_pattern_re=r'VQT_Analyzer.h5',\n",
    "    max_depth=6,\n",
    "    find_files=True,\n",
    "    find_folders=False,\n",
    "    verbose=True,\n",
    "))"
   ]
  },
  {
   "cell_type": "code",
   "execution_count": 19,
   "id": "344c757b-f0ec-4f66-9b10-52f735842a0b",
   "metadata": {},
   "outputs": [
    {
     "data": {
      "text/plain": [
       "['20230702', '20230706', '20230707', '20230708', '20230709']"
      ]
     },
     "execution_count": 19,
     "metadata": {},
     "output_type": "execute_result"
    }
   ],
   "source": [
    "dates_fr_remote = [Path(p).parts[-4] for p in paths_fr_remote]\n",
    "dates_fr_remote"
   ]
  },
  {
   "cell_type": "code",
   "execution_count": 20,
   "id": "ab7e4b5f-5631-41c6-a869-1bb8a8976a4f",
   "metadata": {},
   "outputs": [
    {
     "data": {
      "text/plain": [
       "['/n/data1/hms/neurobio/sabatini/rich/analysis/faceRhythm/mouse_0403R/run_20240131/20230702',\n",
       " '/n/data1/hms/neurobio/sabatini/rich/analysis/faceRhythm/mouse_0403R/run_20240131/20230706',\n",
       " '/n/data1/hms/neurobio/sabatini/rich/analysis/faceRhythm/mouse_0403R/run_20240131/20230707',\n",
       " '/n/data1/hms/neurobio/sabatini/rich/analysis/faceRhythm/mouse_0403R/run_20240131/20230708',\n",
       " '/n/data1/hms/neurobio/sabatini/rich/analysis/faceRhythm/mouse_0403R/run_20240131/20230709']"
      ]
     },
     "execution_count": 20,
     "metadata": {},
     "output_type": "execute_result"
    }
   ],
   "source": [
    "dirsToDownload_fr_remote = [str(Path(p).parent.parent.parent) for p in paths_fr_remote]\n",
    "dirsToDownload_fr_remote"
   ]
  },
  {
   "cell_type": "code",
   "execution_count": 21,
   "id": "a2557c05-177d-4ded-8afc-882153e073a1",
   "metadata": {},
   "outputs": [],
   "source": [
    "directory_local_save = f'/media/rich/bigSSD/analysis_data/face_rhythm/{mouse}/fr_run/'"
   ]
  },
  {
   "cell_type": "code",
   "execution_count": 22,
   "id": "10d275ff-3f60-4cfe-830b-c1990b029bd4",
   "metadata": {},
   "outputs": [
    {
     "data": {
      "text/plain": [
       "'/media/rich/bigSSD/analysis_data/face_rhythm/mouse_0403R/fr_run/run_20240131'"
      ]
     },
     "execution_count": 22,
     "metadata": {},
     "output_type": "execute_result"
    }
   ],
   "source": [
    "directory_local_save"
   ]
  },
  {
   "cell_type": "code",
   "execution_count": 25,
   "id": "4ee64ebf-4908-4571-864b-f97e84d4f4db",
   "metadata": {
    "scrolled": true
   },
   "outputs": [],
   "source": [
    "sftp.get_dir(source=f'/n/data1/hms/neurobio/sabatini/rich/analysis/faceRhythm/{mouse}/', target=directory_local_save)"
   ]
  },
  {
   "cell_type": "markdown",
   "id": "ac56010b",
   "metadata": {},
   "source": [
    "##### "
   ]
  },
  {
   "cell_type": "code",
   "execution_count": null,
   "id": "bf6dd342-0122-427c-8774-2efe0f036557",
   "metadata": {},
   "outputs": [],
   "source": []
  },
  {
   "cell_type": "markdown",
   "id": "7a8c86da",
   "metadata": {},
   "source": [
    "# Upload eye laser masks"
   ]
  },
  {
   "cell_type": "code",
   "execution_count": 70,
   "id": "994a61f5",
   "metadata": {},
   "outputs": [
    {
     "name": "stdout",
     "output_type": "stream",
     "text": [
      "uploading /media/rich/bigSSD/analysis_data/face_rhythm/mouse_0916N/eye_laser_trace_extraction/20231022/mask_cam42023-10-22T12_05_56.npy   to   /n/data1/hms/neurobio/sabatini/rich/analysis/eye_laser_trace_extraction/mouse_0916N/masks/20231022/mask_cam42023-10-22T12_05_56.npy\n",
      "uploading /media/rich/bigSSD/analysis_data/face_rhythm/mouse_0916N/eye_laser_trace_extraction/20231023/mask_cam42023-10-23T11_36_48.npy   to   /n/data1/hms/neurobio/sabatini/rich/analysis/eye_laser_trace_extraction/mouse_0916N/masks/20231023/mask_cam42023-10-23T11_36_48.npy\n",
      "uploading /media/rich/bigSSD/analysis_data/face_rhythm/mouse_0916N/eye_laser_trace_extraction/20231024/mask_cam42023-10-24T13_56_05.npy   to   /n/data1/hms/neurobio/sabatini/rich/analysis/eye_laser_trace_extraction/mouse_0916N/masks/20231024/mask_cam42023-10-24T13_56_05.npy\n",
      "uploading /media/rich/bigSSD/analysis_data/face_rhythm/mouse_0916N/eye_laser_trace_extraction/20231025/mask_cam42023-10-25T12_51_29.npy   to   /n/data1/hms/neurobio/sabatini/rich/analysis/eye_laser_trace_extraction/mouse_0916N/masks/20231025/mask_cam42023-10-25T12_51_29.npy\n",
      "uploading /media/rich/bigSSD/analysis_data/face_rhythm/mouse_0916N/eye_laser_trace_extraction/20231026/mask_cam42023-10-26T12_02_14.npy   to   /n/data1/hms/neurobio/sabatini/rich/analysis/eye_laser_trace_extraction/mouse_0916N/masks/20231026/mask_cam42023-10-26T12_02_14.npy\n",
      "uploading /media/rich/bigSSD/analysis_data/face_rhythm/mouse_0916N/eye_laser_trace_extraction/20231027/mask_cam42023-10-27T12_09_44.npy   to   /n/data1/hms/neurobio/sabatini/rich/analysis/eye_laser_trace_extraction/mouse_0916N/masks/20231027/mask_cam42023-10-27T12_09_44.npy\n",
      "uploading /media/rich/bigSSD/analysis_data/face_rhythm/mouse_0916N/eye_laser_trace_extraction/20231028/mask_cam42023-10-28T12_24_58.npy   to   /n/data1/hms/neurobio/sabatini/rich/analysis/eye_laser_trace_extraction/mouse_0916N/masks/20231028/mask_cam42023-10-28T12_24_58.npy\n",
      "uploading /media/rich/bigSSD/analysis_data/face_rhythm/mouse_0916N/eye_laser_trace_extraction/20231029/mask_cam42023-10-29T10_23_54.npy   to   /n/data1/hms/neurobio/sabatini/rich/analysis/eye_laser_trace_extraction/mouse_0916N/masks/20231029/mask_cam42023-10-29T10_23_54.npy\n",
      "uploading /media/rich/bigSSD/analysis_data/face_rhythm/mouse_0916N/eye_laser_trace_extraction/20231030/mask_cam42023-10-30T11_41_09.npy   to   /n/data1/hms/neurobio/sabatini/rich/analysis/eye_laser_trace_extraction/mouse_0916N/masks/20231030/mask_cam42023-10-30T11_41_09.npy\n",
      "uploading /media/rich/bigSSD/analysis_data/face_rhythm/mouse_0916N/eye_laser_trace_extraction/20231031/mask_cam42023-10-31T11_52_07.npy   to   /n/data1/hms/neurobio/sabatini/rich/analysis/eye_laser_trace_extraction/mouse_0916N/masks/20231031/mask_cam42023-10-31T11_52_07.npy\n",
      "uploading /media/rich/bigSSD/analysis_data/face_rhythm/mouse_0916N/eye_laser_trace_extraction/20231101/mask_cam42023-11-01T11_37_02.npy   to   /n/data1/hms/neurobio/sabatini/rich/analysis/eye_laser_trace_extraction/mouse_0916N/masks/20231101/mask_cam42023-11-01T11_37_02.npy\n",
      "uploading /media/rich/bigSSD/analysis_data/face_rhythm/mouse_0916N/eye_laser_trace_extraction/20231102/mask_cam42023-11-02T14_07_05.npy   to   /n/data1/hms/neurobio/sabatini/rich/analysis/eye_laser_trace_extraction/mouse_0916N/masks/20231102/mask_cam42023-11-02T14_07_05.npy\n",
      "uploading /media/rich/bigSSD/analysis_data/face_rhythm/mouse_0916N/eye_laser_trace_extraction/20231103/mask_cam42023-11-03T12_43_44.npy   to   /n/data1/hms/neurobio/sabatini/rich/analysis/eye_laser_trace_extraction/mouse_0916N/masks/20231103/mask_cam42023-11-03T12_43_44.npy\n",
      "uploading /media/rich/bigSSD/analysis_data/face_rhythm/mouse_0916N/eye_laser_trace_extraction/20231104/mask_cam42023-11-04T13_19_19.npy   to   /n/data1/hms/neurobio/sabatini/rich/analysis/eye_laser_trace_extraction/mouse_0916N/masks/20231104/mask_cam42023-11-04T13_19_19.npy\n",
      "uploading /media/rich/bigSSD/analysis_data/face_rhythm/mouse_0916N/eye_laser_trace_extraction/20231105/mask_cam42023-11-05T12_56_51.npy   to   /n/data1/hms/neurobio/sabatini/rich/analysis/eye_laser_trace_extraction/mouse_0916N/masks/20231105/mask_cam42023-11-05T12_56_51.npy\n",
      "uploading /media/rich/bigSSD/analysis_data/face_rhythm/mouse_0916N/eye_laser_trace_extraction/20231106/mask_cam42023-11-06T13_49_29.npy   to   /n/data1/hms/neurobio/sabatini/rich/analysis/eye_laser_trace_extraction/mouse_0916N/masks/20231106/mask_cam42023-11-06T13_49_29.npy\n",
      "uploading /media/rich/bigSSD/analysis_data/face_rhythm/mouse_0916N/eye_laser_trace_extraction/images.pkl   to   /n/data1/hms/neurobio/sabatini/rich/analysis/eye_laser_trace_extraction/mouse_0916N/masks/images.pkl\n"
     ]
    }
   ],
   "source": [
    "sftp.put_dir(\n",
    "    source=f'/media/rich/bigSSD/analysis_data/face_rhythm/mouse_0916N/eye_laser_trace_extraction/',\n",
    "    target=f'/n/data1/hms/neurobio/sabatini/rich/analysis/eye_laser_trace_extraction/mouse_0916N/masks',\n",
    ")"
   ]
  },
  {
   "cell_type": "markdown",
   "id": "f5d5b59b",
   "metadata": {},
   "source": [
    "# Download eye laser traces"
   ]
  },
  {
   "cell_type": "code",
   "execution_count": null,
   "id": "c841f343",
   "metadata": {},
   "outputs": [],
   "source": [
    "sftp://rh183@transfer.rc.hms.harvard.edu/n/data1/hms/neurobio/sabatini/rich/analysis/eye_laser_trace_extraction/mouse_0916N"
   ]
  },
  {
   "cell_type": "code",
   "execution_count": 71,
   "id": "23395096",
   "metadata": {},
   "outputs": [
    {
     "name": "stdout",
     "output_type": "stream",
     "text": [
      "downloading /n/data1/hms/neurobio/sabatini/rich/analysis/eye_laser_trace_extraction/mouse_0916N/20231029/parameters_batch.json   to   /media/rich/bigSSD/analysis_data/face_rhythm/mouse_0916N/eye_laser_trace_extraction/traces/20231029/parameters_batch.json\n"
     ]
    },
    {
     "name": "stderr",
     "output_type": "stream",
     "text": [
      "0.00b [00:00, ?b/s]\n"
     ]
    },
    {
     "name": "stdout",
     "output_type": "stream",
     "text": [
      "downloading /n/data1/hms/neurobio/sabatini/rich/analysis/eye_laser_trace_extraction/mouse_0916N/20231029/extract_eye_brightness_trace.py   to   /media/rich/bigSSD/analysis_data/face_rhythm/mouse_0916N/eye_laser_trace_extraction/traces/20231029/extract_eye_brightness_trace.py\n"
     ]
    },
    {
     "name": "stderr",
     "output_type": "stream",
     "text": [
      "0.00b [00:00, ?b/s]\n"
     ]
    },
    {
     "name": "stdout",
     "output_type": "stream",
     "text": [
      "downloading /n/data1/hms/neurobio/sabatini/rich/analysis/eye_laser_trace_extraction/mouse_0916N/20231029/jobNum_0/params.json   to   /media/rich/bigSSD/analysis_data/face_rhythm/mouse_0916N/eye_laser_trace_extraction/traces/20231029/jobNum_0/params.json\n"
     ]
    },
    {
     "name": "stderr",
     "output_type": "stream",
     "text": [
      "0.00b [00:00, ?b/s]\n"
     ]
    },
    {
     "name": "stdout",
     "output_type": "stream",
     "text": [
      "downloading /n/data1/hms/neurobio/sabatini/rich/analysis/eye_laser_trace_extraction/mouse_0916N/20231029/jobNum_0/extract_eye_brightness_trace.py   to   /media/rich/bigSSD/analysis_data/face_rhythm/mouse_0916N/eye_laser_trace_extraction/traces/20231029/jobNum_0/extract_eye_brightness_trace.py\n"
     ]
    },
    {
     "name": "stderr",
     "output_type": "stream",
     "text": [
      "0.00b [00:00, ?b/s]\n"
     ]
    },
    {
     "name": "stdout",
     "output_type": "stream",
     "text": [
      "downloading /n/data1/hms/neurobio/sabatini/rich/analysis/eye_laser_trace_extraction/mouse_0916N/20231029/jobNum_0/idx_eye_laser.pkl   to   /media/rich/bigSSD/analysis_data/face_rhythm/mouse_0916N/eye_laser_trace_extraction/traces/20231029/jobNum_0/idx_eye_laser.pkl\n"
     ]
    },
    {
     "name": "stderr",
     "output_type": "stream",
     "text": [
      "0.00b [00:00, ?b/s]\n"
     ]
    },
    {
     "name": "stdout",
     "output_type": "stream",
     "text": [
      "downloading /n/data1/hms/neurobio/sabatini/rich/analysis/eye_laser_trace_extraction/mouse_0916N/20231029/jobNum_0/sbatch_config.sh   to   /media/rich/bigSSD/analysis_data/face_rhythm/mouse_0916N/eye_laser_trace_extraction/traces/20231029/jobNum_0/sbatch_config.sh\n"
     ]
    },
    {
     "name": "stderr",
     "output_type": "stream",
     "text": [
      "0.00b [00:00, ?b/s]\n"
     ]
    },
    {
     "name": "stdout",
     "output_type": "stream",
     "text": [
      "downloading /n/data1/hms/neurobio/sabatini/rich/analysis/eye_laser_trace_extraction/mouse_0916N/20231029/jobNum_0/print_log_31459447.log   to   /media/rich/bigSSD/analysis_data/face_rhythm/mouse_0916N/eye_laser_trace_extraction/traces/20231029/jobNum_0/print_log_31459447.log\n"
     ]
    },
    {
     "name": "stderr",
     "output_type": "stream",
     "text": [
      "0.00b [00:00, ?b/s]\n"
     ]
    },
    {
     "name": "stdout",
     "output_type": "stream",
     "text": [
      "downloading /n/data1/hms/neurobio/sabatini/rich/analysis/eye_laser_trace_extraction/mouse_0916N/20231029/jobNum_0/print_log_31460588.log   to   /media/rich/bigSSD/analysis_data/face_rhythm/mouse_0916N/eye_laser_trace_extraction/traces/20231029/jobNum_0/print_log_31460588.log\n"
     ]
    },
    {
     "name": "stderr",
     "output_type": "stream",
     "text": [
      "0.00b [00:00, ?b/s]\n"
     ]
    },
    {
     "name": "stdout",
     "output_type": "stream",
     "text": [
      "downloading /n/data1/hms/neurobio/sabatini/rich/analysis/eye_laser_trace_extraction/mouse_0916N/20231029/dispatcher.py   to   /media/rich/bigSSD/analysis_data/face_rhythm/mouse_0916N/eye_laser_trace_extraction/traces/20231029/dispatcher.py\n"
     ]
    },
    {
     "name": "stderr",
     "output_type": "stream",
     "text": [
      "0.00b [00:00, ?b/s]\n"
     ]
    },
    {
     "name": "stdout",
     "output_type": "stream",
     "text": [
      "downloading /n/data1/hms/neurobio/sabatini/rich/analysis/eye_laser_trace_extraction/mouse_0916N/20231029/notes.txt   to   /media/rich/bigSSD/analysis_data/face_rhythm/mouse_0916N/eye_laser_trace_extraction/traces/20231029/notes.txt\n"
     ]
    },
    {
     "name": "stderr",
     "output_type": "stream",
     "text": [
      "0.00b [00:00, ?b/s]\n"
     ]
    },
    {
     "name": "stdout",
     "output_type": "stream",
     "text": [
      "downloading /n/data1/hms/neurobio/sabatini/rich/analysis/eye_laser_trace_extraction/mouse_0916N/20231024/parameters_batch.json   to   /media/rich/bigSSD/analysis_data/face_rhythm/mouse_0916N/eye_laser_trace_extraction/traces/20231024/parameters_batch.json\n"
     ]
    },
    {
     "name": "stderr",
     "output_type": "stream",
     "text": [
      "0.00b [00:00, ?b/s]\n"
     ]
    },
    {
     "name": "stdout",
     "output_type": "stream",
     "text": [
      "downloading /n/data1/hms/neurobio/sabatini/rich/analysis/eye_laser_trace_extraction/mouse_0916N/20231024/extract_eye_brightness_trace.py   to   /media/rich/bigSSD/analysis_data/face_rhythm/mouse_0916N/eye_laser_trace_extraction/traces/20231024/extract_eye_brightness_trace.py\n"
     ]
    },
    {
     "name": "stderr",
     "output_type": "stream",
     "text": [
      "0.00b [00:00, ?b/s]\n"
     ]
    },
    {
     "name": "stdout",
     "output_type": "stream",
     "text": [
      "downloading /n/data1/hms/neurobio/sabatini/rich/analysis/eye_laser_trace_extraction/mouse_0916N/20231024/jobNum_0/params.json   to   /media/rich/bigSSD/analysis_data/face_rhythm/mouse_0916N/eye_laser_trace_extraction/traces/20231024/jobNum_0/params.json\n"
     ]
    },
    {
     "name": "stderr",
     "output_type": "stream",
     "text": [
      "0.00b [00:00, ?b/s]\n"
     ]
    },
    {
     "name": "stdout",
     "output_type": "stream",
     "text": [
      "downloading /n/data1/hms/neurobio/sabatini/rich/analysis/eye_laser_trace_extraction/mouse_0916N/20231024/jobNum_0/extract_eye_brightness_trace.py   to   /media/rich/bigSSD/analysis_data/face_rhythm/mouse_0916N/eye_laser_trace_extraction/traces/20231024/jobNum_0/extract_eye_brightness_trace.py\n"
     ]
    },
    {
     "name": "stderr",
     "output_type": "stream",
     "text": [
      "0.00b [00:00, ?b/s]\n"
     ]
    },
    {
     "name": "stdout",
     "output_type": "stream",
     "text": [
      "downloading /n/data1/hms/neurobio/sabatini/rich/analysis/eye_laser_trace_extraction/mouse_0916N/20231024/jobNum_0/print_log_31459393.log   to   /media/rich/bigSSD/analysis_data/face_rhythm/mouse_0916N/eye_laser_trace_extraction/traces/20231024/jobNum_0/print_log_31459393.log\n"
     ]
    },
    {
     "name": "stderr",
     "output_type": "stream",
     "text": [
      "0.00b [00:00, ?b/s]\n"
     ]
    },
    {
     "name": "stdout",
     "output_type": "stream",
     "text": [
      "downloading /n/data1/hms/neurobio/sabatini/rich/analysis/eye_laser_trace_extraction/mouse_0916N/20231024/jobNum_0/idx_eye_laser.pkl   to   /media/rich/bigSSD/analysis_data/face_rhythm/mouse_0916N/eye_laser_trace_extraction/traces/20231024/jobNum_0/idx_eye_laser.pkl\n"
     ]
    },
    {
     "name": "stderr",
     "output_type": "stream",
     "text": [
      "0.00b [00:00, ?b/s]\n"
     ]
    },
    {
     "name": "stdout",
     "output_type": "stream",
     "text": [
      "downloading /n/data1/hms/neurobio/sabatini/rich/analysis/eye_laser_trace_extraction/mouse_0916N/20231024/jobNum_0/print_log_31460548.log   to   /media/rich/bigSSD/analysis_data/face_rhythm/mouse_0916N/eye_laser_trace_extraction/traces/20231024/jobNum_0/print_log_31460548.log\n"
     ]
    },
    {
     "name": "stderr",
     "output_type": "stream",
     "text": [
      "0.00b [00:00, ?b/s]\n"
     ]
    },
    {
     "name": "stdout",
     "output_type": "stream",
     "text": [
      "downloading /n/data1/hms/neurobio/sabatini/rich/analysis/eye_laser_trace_extraction/mouse_0916N/20231024/jobNum_0/sbatch_config.sh   to   /media/rich/bigSSD/analysis_data/face_rhythm/mouse_0916N/eye_laser_trace_extraction/traces/20231024/jobNum_0/sbatch_config.sh\n"
     ]
    },
    {
     "name": "stderr",
     "output_type": "stream",
     "text": [
      "0.00b [00:00, ?b/s]\n"
     ]
    },
    {
     "name": "stdout",
     "output_type": "stream",
     "text": [
      "downloading /n/data1/hms/neurobio/sabatini/rich/analysis/eye_laser_trace_extraction/mouse_0916N/20231024/dispatcher.py   to   /media/rich/bigSSD/analysis_data/face_rhythm/mouse_0916N/eye_laser_trace_extraction/traces/20231024/dispatcher.py\n"
     ]
    },
    {
     "name": "stderr",
     "output_type": "stream",
     "text": [
      "0.00b [00:00, ?b/s]\n"
     ]
    },
    {
     "name": "stdout",
     "output_type": "stream",
     "text": [
      "downloading /n/data1/hms/neurobio/sabatini/rich/analysis/eye_laser_trace_extraction/mouse_0916N/20231024/notes.txt   to   /media/rich/bigSSD/analysis_data/face_rhythm/mouse_0916N/eye_laser_trace_extraction/traces/20231024/notes.txt\n"
     ]
    },
    {
     "name": "stderr",
     "output_type": "stream",
     "text": [
      "0.00b [00:00, ?b/s]\n"
     ]
    },
    {
     "name": "stdout",
     "output_type": "stream",
     "text": [
      "downloading /n/data1/hms/neurobio/sabatini/rich/analysis/eye_laser_trace_extraction/mouse_0916N/20231025/parameters_batch.json   to   /media/rich/bigSSD/analysis_data/face_rhythm/mouse_0916N/eye_laser_trace_extraction/traces/20231025/parameters_batch.json\n"
     ]
    },
    {
     "name": "stderr",
     "output_type": "stream",
     "text": [
      "0.00b [00:00, ?b/s]\n"
     ]
    },
    {
     "name": "stdout",
     "output_type": "stream",
     "text": [
      "downloading /n/data1/hms/neurobio/sabatini/rich/analysis/eye_laser_trace_extraction/mouse_0916N/20231025/extract_eye_brightness_trace.py   to   /media/rich/bigSSD/analysis_data/face_rhythm/mouse_0916N/eye_laser_trace_extraction/traces/20231025/extract_eye_brightness_trace.py\n"
     ]
    },
    {
     "name": "stderr",
     "output_type": "stream",
     "text": [
      "0.00b [00:00, ?b/s]\n"
     ]
    },
    {
     "name": "stdout",
     "output_type": "stream",
     "text": [
      "downloading /n/data1/hms/neurobio/sabatini/rich/analysis/eye_laser_trace_extraction/mouse_0916N/20231025/jobNum_0/params.json   to   /media/rich/bigSSD/analysis_data/face_rhythm/mouse_0916N/eye_laser_trace_extraction/traces/20231025/jobNum_0/params.json\n"
     ]
    },
    {
     "name": "stderr",
     "output_type": "stream",
     "text": [
      "0.00b [00:00, ?b/s]\n"
     ]
    },
    {
     "name": "stdout",
     "output_type": "stream",
     "text": [
      "downloading /n/data1/hms/neurobio/sabatini/rich/analysis/eye_laser_trace_extraction/mouse_0916N/20231025/jobNum_0/print_log_31460553.log   to   /media/rich/bigSSD/analysis_data/face_rhythm/mouse_0916N/eye_laser_trace_extraction/traces/20231025/jobNum_0/print_log_31460553.log\n"
     ]
    },
    {
     "name": "stderr",
     "output_type": "stream",
     "text": [
      "0.00b [00:00, ?b/s]\n"
     ]
    },
    {
     "name": "stdout",
     "output_type": "stream",
     "text": [
      "downloading /n/data1/hms/neurobio/sabatini/rich/analysis/eye_laser_trace_extraction/mouse_0916N/20231025/jobNum_0/extract_eye_brightness_trace.py   to   /media/rich/bigSSD/analysis_data/face_rhythm/mouse_0916N/eye_laser_trace_extraction/traces/20231025/jobNum_0/extract_eye_brightness_trace.py\n"
     ]
    },
    {
     "name": "stderr",
     "output_type": "stream",
     "text": [
      "0.00b [00:00, ?b/s]\n"
     ]
    },
    {
     "name": "stdout",
     "output_type": "stream",
     "text": [
      "downloading /n/data1/hms/neurobio/sabatini/rich/analysis/eye_laser_trace_extraction/mouse_0916N/20231025/jobNum_0/idx_eye_laser.pkl   to   /media/rich/bigSSD/analysis_data/face_rhythm/mouse_0916N/eye_laser_trace_extraction/traces/20231025/jobNum_0/idx_eye_laser.pkl\n"
     ]
    },
    {
     "name": "stderr",
     "output_type": "stream",
     "text": [
      "0.00b [00:00, ?b/s]\n"
     ]
    },
    {
     "name": "stdout",
     "output_type": "stream",
     "text": [
      "downloading /n/data1/hms/neurobio/sabatini/rich/analysis/eye_laser_trace_extraction/mouse_0916N/20231025/jobNum_0/print_log_31459395.log   to   /media/rich/bigSSD/analysis_data/face_rhythm/mouse_0916N/eye_laser_trace_extraction/traces/20231025/jobNum_0/print_log_31459395.log\n"
     ]
    },
    {
     "name": "stderr",
     "output_type": "stream",
     "text": [
      "0.00b [00:00, ?b/s]\n"
     ]
    },
    {
     "name": "stdout",
     "output_type": "stream",
     "text": [
      "downloading /n/data1/hms/neurobio/sabatini/rich/analysis/eye_laser_trace_extraction/mouse_0916N/20231025/jobNum_0/sbatch_config.sh   to   /media/rich/bigSSD/analysis_data/face_rhythm/mouse_0916N/eye_laser_trace_extraction/traces/20231025/jobNum_0/sbatch_config.sh\n"
     ]
    },
    {
     "name": "stderr",
     "output_type": "stream",
     "text": [
      "0.00b [00:00, ?b/s]\n"
     ]
    },
    {
     "name": "stdout",
     "output_type": "stream",
     "text": [
      "downloading /n/data1/hms/neurobio/sabatini/rich/analysis/eye_laser_trace_extraction/mouse_0916N/20231025/dispatcher.py   to   /media/rich/bigSSD/analysis_data/face_rhythm/mouse_0916N/eye_laser_trace_extraction/traces/20231025/dispatcher.py\n"
     ]
    },
    {
     "name": "stderr",
     "output_type": "stream",
     "text": [
      "0.00b [00:00, ?b/s]\n"
     ]
    },
    {
     "name": "stdout",
     "output_type": "stream",
     "text": [
      "downloading /n/data1/hms/neurobio/sabatini/rich/analysis/eye_laser_trace_extraction/mouse_0916N/20231025/notes.txt   to   /media/rich/bigSSD/analysis_data/face_rhythm/mouse_0916N/eye_laser_trace_extraction/traces/20231025/notes.txt\n"
     ]
    },
    {
     "name": "stderr",
     "output_type": "stream",
     "text": [
      "0.00b [00:00, ?b/s]\n"
     ]
    },
    {
     "name": "stdout",
     "output_type": "stream",
     "text": [
      "downloading /n/data1/hms/neurobio/sabatini/rich/analysis/eye_laser_trace_extraction/mouse_0916N/20231106/parameters_batch.json   to   /media/rich/bigSSD/analysis_data/face_rhythm/mouse_0916N/eye_laser_trace_extraction/traces/20231106/parameters_batch.json\n"
     ]
    },
    {
     "name": "stderr",
     "output_type": "stream",
     "text": [
      "0.00b [00:00, ?b/s]\n"
     ]
    },
    {
     "name": "stdout",
     "output_type": "stream",
     "text": [
      "downloading /n/data1/hms/neurobio/sabatini/rich/analysis/eye_laser_trace_extraction/mouse_0916N/20231106/extract_eye_brightness_trace.py   to   /media/rich/bigSSD/analysis_data/face_rhythm/mouse_0916N/eye_laser_trace_extraction/traces/20231106/extract_eye_brightness_trace.py\n"
     ]
    },
    {
     "name": "stderr",
     "output_type": "stream",
     "text": [
      "0.00b [00:00, ?b/s]\n"
     ]
    },
    {
     "name": "stdout",
     "output_type": "stream",
     "text": [
      "downloading /n/data1/hms/neurobio/sabatini/rich/analysis/eye_laser_trace_extraction/mouse_0916N/20231106/jobNum_0/params.json   to   /media/rich/bigSSD/analysis_data/face_rhythm/mouse_0916N/eye_laser_trace_extraction/traces/20231106/jobNum_0/params.json\n"
     ]
    },
    {
     "name": "stderr",
     "output_type": "stream",
     "text": [
      "0.00b [00:00, ?b/s]\n"
     ]
    },
    {
     "name": "stdout",
     "output_type": "stream",
     "text": [
      "downloading /n/data1/hms/neurobio/sabatini/rich/analysis/eye_laser_trace_extraction/mouse_0916N/20231106/jobNum_0/extract_eye_brightness_trace.py   to   /media/rich/bigSSD/analysis_data/face_rhythm/mouse_0916N/eye_laser_trace_extraction/traces/20231106/jobNum_0/extract_eye_brightness_trace.py\n"
     ]
    },
    {
     "name": "stderr",
     "output_type": "stream",
     "text": [
      "0.00b [00:00, ?b/s]\n"
     ]
    },
    {
     "name": "stdout",
     "output_type": "stream",
     "text": [
      "downloading /n/data1/hms/neurobio/sabatini/rich/analysis/eye_laser_trace_extraction/mouse_0916N/20231106/jobNum_0/idx_eye_laser.pkl   to   /media/rich/bigSSD/analysis_data/face_rhythm/mouse_0916N/eye_laser_trace_extraction/traces/20231106/jobNum_0/idx_eye_laser.pkl\n"
     ]
    },
    {
     "name": "stderr",
     "output_type": "stream",
     "text": [
      "0.00b [00:00, ?b/s]\n"
     ]
    },
    {
     "name": "stdout",
     "output_type": "stream",
     "text": [
      "downloading /n/data1/hms/neurobio/sabatini/rich/analysis/eye_laser_trace_extraction/mouse_0916N/20231106/jobNum_0/print_log_31460645.log   to   /media/rich/bigSSD/analysis_data/face_rhythm/mouse_0916N/eye_laser_trace_extraction/traces/20231106/jobNum_0/print_log_31460645.log\n"
     ]
    },
    {
     "name": "stderr",
     "output_type": "stream",
     "text": [
      "0.00b [00:00, ?b/s]\n"
     ]
    },
    {
     "name": "stdout",
     "output_type": "stream",
     "text": [
      "downloading /n/data1/hms/neurobio/sabatini/rich/analysis/eye_laser_trace_extraction/mouse_0916N/20231106/jobNum_0/print_log_31459547.log   to   /media/rich/bigSSD/analysis_data/face_rhythm/mouse_0916N/eye_laser_trace_extraction/traces/20231106/jobNum_0/print_log_31459547.log\n"
     ]
    },
    {
     "name": "stderr",
     "output_type": "stream",
     "text": [
      "0.00b [00:00, ?b/s]\n"
     ]
    },
    {
     "name": "stdout",
     "output_type": "stream",
     "text": [
      "downloading /n/data1/hms/neurobio/sabatini/rich/analysis/eye_laser_trace_extraction/mouse_0916N/20231106/jobNum_0/sbatch_config.sh   to   /media/rich/bigSSD/analysis_data/face_rhythm/mouse_0916N/eye_laser_trace_extraction/traces/20231106/jobNum_0/sbatch_config.sh\n"
     ]
    },
    {
     "name": "stderr",
     "output_type": "stream",
     "text": [
      "0.00b [00:00, ?b/s]\n"
     ]
    },
    {
     "name": "stdout",
     "output_type": "stream",
     "text": [
      "downloading /n/data1/hms/neurobio/sabatini/rich/analysis/eye_laser_trace_extraction/mouse_0916N/20231106/dispatcher.py   to   /media/rich/bigSSD/analysis_data/face_rhythm/mouse_0916N/eye_laser_trace_extraction/traces/20231106/dispatcher.py\n"
     ]
    },
    {
     "name": "stderr",
     "output_type": "stream",
     "text": [
      "0.00b [00:00, ?b/s]\n"
     ]
    },
    {
     "name": "stdout",
     "output_type": "stream",
     "text": [
      "downloading /n/data1/hms/neurobio/sabatini/rich/analysis/eye_laser_trace_extraction/mouse_0916N/20231106/notes.txt   to   /media/rich/bigSSD/analysis_data/face_rhythm/mouse_0916N/eye_laser_trace_extraction/traces/20231106/notes.txt\n"
     ]
    },
    {
     "name": "stderr",
     "output_type": "stream",
     "text": [
      "0.00b [00:00, ?b/s]\n"
     ]
    },
    {
     "name": "stdout",
     "output_type": "stream",
     "text": [
      "downloading /n/data1/hms/neurobio/sabatini/rich/analysis/eye_laser_trace_extraction/mouse_0916N/20231023/parameters_batch.json   to   /media/rich/bigSSD/analysis_data/face_rhythm/mouse_0916N/eye_laser_trace_extraction/traces/20231023/parameters_batch.json\n"
     ]
    },
    {
     "name": "stderr",
     "output_type": "stream",
     "text": [
      "0.00b [00:00, ?b/s]\n"
     ]
    },
    {
     "name": "stdout",
     "output_type": "stream",
     "text": [
      "downloading /n/data1/hms/neurobio/sabatini/rich/analysis/eye_laser_trace_extraction/mouse_0916N/20231023/extract_eye_brightness_trace.py   to   /media/rich/bigSSD/analysis_data/face_rhythm/mouse_0916N/eye_laser_trace_extraction/traces/20231023/extract_eye_brightness_trace.py\n"
     ]
    },
    {
     "name": "stderr",
     "output_type": "stream",
     "text": [
      "0.00b [00:00, ?b/s]\n"
     ]
    },
    {
     "name": "stdout",
     "output_type": "stream",
     "text": [
      "downloading /n/data1/hms/neurobio/sabatini/rich/analysis/eye_laser_trace_extraction/mouse_0916N/20231023/jobNum_0/params.json   to   /media/rich/bigSSD/analysis_data/face_rhythm/mouse_0916N/eye_laser_trace_extraction/traces/20231023/jobNum_0/params.json\n"
     ]
    },
    {
     "name": "stderr",
     "output_type": "stream",
     "text": [
      "0.00b [00:00, ?b/s]\n"
     ]
    },
    {
     "name": "stdout",
     "output_type": "stream",
     "text": [
      "downloading /n/data1/hms/neurobio/sabatini/rich/analysis/eye_laser_trace_extraction/mouse_0916N/20231023/jobNum_0/extract_eye_brightness_trace.py   to   /media/rich/bigSSD/analysis_data/face_rhythm/mouse_0916N/eye_laser_trace_extraction/traces/20231023/jobNum_0/extract_eye_brightness_trace.py\n"
     ]
    },
    {
     "name": "stderr",
     "output_type": "stream",
     "text": [
      "0.00b [00:00, ?b/s]\n"
     ]
    },
    {
     "name": "stdout",
     "output_type": "stream",
     "text": [
      "downloading /n/data1/hms/neurobio/sabatini/rich/analysis/eye_laser_trace_extraction/mouse_0916N/20231023/jobNum_0/idx_eye_laser.pkl   to   /media/rich/bigSSD/analysis_data/face_rhythm/mouse_0916N/eye_laser_trace_extraction/traces/20231023/jobNum_0/idx_eye_laser.pkl\n"
     ]
    },
    {
     "name": "stderr",
     "output_type": "stream",
     "text": [
      "0.00b [00:00, ?b/s]\n"
     ]
    },
    {
     "name": "stdout",
     "output_type": "stream",
     "text": [
      "downloading /n/data1/hms/neurobio/sabatini/rich/analysis/eye_laser_trace_extraction/mouse_0916N/20231023/jobNum_0/print_log_31459390.log   to   /media/rich/bigSSD/analysis_data/face_rhythm/mouse_0916N/eye_laser_trace_extraction/traces/20231023/jobNum_0/print_log_31459390.log\n"
     ]
    },
    {
     "name": "stderr",
     "output_type": "stream",
     "text": [
      "0.00b [00:00, ?b/s]\n"
     ]
    },
    {
     "name": "stdout",
     "output_type": "stream",
     "text": [
      "downloading /n/data1/hms/neurobio/sabatini/rich/analysis/eye_laser_trace_extraction/mouse_0916N/20231023/jobNum_0/print_log_31460543.log   to   /media/rich/bigSSD/analysis_data/face_rhythm/mouse_0916N/eye_laser_trace_extraction/traces/20231023/jobNum_0/print_log_31460543.log\n"
     ]
    },
    {
     "name": "stderr",
     "output_type": "stream",
     "text": [
      "0.00b [00:00, ?b/s]\n"
     ]
    },
    {
     "name": "stdout",
     "output_type": "stream",
     "text": [
      "downloading /n/data1/hms/neurobio/sabatini/rich/analysis/eye_laser_trace_extraction/mouse_0916N/20231023/jobNum_0/sbatch_config.sh   to   /media/rich/bigSSD/analysis_data/face_rhythm/mouse_0916N/eye_laser_trace_extraction/traces/20231023/jobNum_0/sbatch_config.sh\n"
     ]
    },
    {
     "name": "stderr",
     "output_type": "stream",
     "text": [
      "0.00b [00:00, ?b/s]"
     ]
    },
    {
     "name": "stdout",
     "output_type": "stream",
     "text": [
      "downloading /n/data1/hms/neurobio/sabatini/rich/analysis/eye_laser_trace_extraction/mouse_0916N/20231023/dispatcher.py   to   /media/rich/bigSSD/analysis_data/face_rhythm/mouse_0916N/eye_laser_trace_extraction/traces/20231023/dispatcher.py\n"
     ]
    },
    {
     "name": "stderr",
     "output_type": "stream",
     "text": [
      "\n",
      "0.00b [00:00, ?b/s]\n"
     ]
    },
    {
     "name": "stdout",
     "output_type": "stream",
     "text": [
      "downloading /n/data1/hms/neurobio/sabatini/rich/analysis/eye_laser_trace_extraction/mouse_0916N/20231023/notes.txt   to   /media/rich/bigSSD/analysis_data/face_rhythm/mouse_0916N/eye_laser_trace_extraction/traces/20231023/notes.txt\n"
     ]
    },
    {
     "name": "stderr",
     "output_type": "stream",
     "text": [
      "0.00b [00:00, ?b/s]\n"
     ]
    },
    {
     "name": "stdout",
     "output_type": "stream",
     "text": [
      "downloading /n/data1/hms/neurobio/sabatini/rich/analysis/eye_laser_trace_extraction/mouse_0916N/20231022/parameters_batch.json   to   /media/rich/bigSSD/analysis_data/face_rhythm/mouse_0916N/eye_laser_trace_extraction/traces/20231022/parameters_batch.json\n"
     ]
    },
    {
     "name": "stderr",
     "output_type": "stream",
     "text": [
      "0.00b [00:00, ?b/s]\n"
     ]
    },
    {
     "name": "stdout",
     "output_type": "stream",
     "text": [
      "downloading /n/data1/hms/neurobio/sabatini/rich/analysis/eye_laser_trace_extraction/mouse_0916N/20231022/extract_eye_brightness_trace.py   to   /media/rich/bigSSD/analysis_data/face_rhythm/mouse_0916N/eye_laser_trace_extraction/traces/20231022/extract_eye_brightness_trace.py\n"
     ]
    },
    {
     "name": "stderr",
     "output_type": "stream",
     "text": [
      "0.00b [00:00, ?b/s]\n"
     ]
    },
    {
     "name": "stdout",
     "output_type": "stream",
     "text": [
      "downloading /n/data1/hms/neurobio/sabatini/rich/analysis/eye_laser_trace_extraction/mouse_0916N/20231022/jobNum_0/print_log_31460540.log   to   /media/rich/bigSSD/analysis_data/face_rhythm/mouse_0916N/eye_laser_trace_extraction/traces/20231022/jobNum_0/print_log_31460540.log\n"
     ]
    },
    {
     "name": "stderr",
     "output_type": "stream",
     "text": [
      "0.00b [00:00, ?b/s]\n"
     ]
    },
    {
     "name": "stdout",
     "output_type": "stream",
     "text": [
      "downloading /n/data1/hms/neurobio/sabatini/rich/analysis/eye_laser_trace_extraction/mouse_0916N/20231022/jobNum_0/params.json   to   /media/rich/bigSSD/analysis_data/face_rhythm/mouse_0916N/eye_laser_trace_extraction/traces/20231022/jobNum_0/params.json\n"
     ]
    },
    {
     "name": "stderr",
     "output_type": "stream",
     "text": [
      "0.00b [00:00, ?b/s]\n"
     ]
    },
    {
     "name": "stdout",
     "output_type": "stream",
     "text": [
      "downloading /n/data1/hms/neurobio/sabatini/rich/analysis/eye_laser_trace_extraction/mouse_0916N/20231022/jobNum_0/extract_eye_brightness_trace.py   to   /media/rich/bigSSD/analysis_data/face_rhythm/mouse_0916N/eye_laser_trace_extraction/traces/20231022/jobNum_0/extract_eye_brightness_trace.py\n"
     ]
    },
    {
     "name": "stderr",
     "output_type": "stream",
     "text": [
      "0.00b [00:00, ?b/s]\n"
     ]
    },
    {
     "name": "stdout",
     "output_type": "stream",
     "text": [
      "downloading /n/data1/hms/neurobio/sabatini/rich/analysis/eye_laser_trace_extraction/mouse_0916N/20231022/jobNum_0/idx_eye_laser.pkl   to   /media/rich/bigSSD/analysis_data/face_rhythm/mouse_0916N/eye_laser_trace_extraction/traces/20231022/jobNum_0/idx_eye_laser.pkl\n"
     ]
    },
    {
     "name": "stderr",
     "output_type": "stream",
     "text": [
      "0.00b [00:00, ?b/s]\n"
     ]
    },
    {
     "name": "stdout",
     "output_type": "stream",
     "text": [
      "downloading /n/data1/hms/neurobio/sabatini/rich/analysis/eye_laser_trace_extraction/mouse_0916N/20231022/jobNum_0/sbatch_config.sh   to   /media/rich/bigSSD/analysis_data/face_rhythm/mouse_0916N/eye_laser_trace_extraction/traces/20231022/jobNum_0/sbatch_config.sh\n"
     ]
    },
    {
     "name": "stderr",
     "output_type": "stream",
     "text": [
      "0.00b [00:00, ?b/s]\n"
     ]
    },
    {
     "name": "stdout",
     "output_type": "stream",
     "text": [
      "downloading /n/data1/hms/neurobio/sabatini/rich/analysis/eye_laser_trace_extraction/mouse_0916N/20231022/jobNum_0/print_log_31459386.log   to   /media/rich/bigSSD/analysis_data/face_rhythm/mouse_0916N/eye_laser_trace_extraction/traces/20231022/jobNum_0/print_log_31459386.log\n"
     ]
    },
    {
     "name": "stderr",
     "output_type": "stream",
     "text": [
      "0.00b [00:00, ?b/s]\n"
     ]
    },
    {
     "name": "stdout",
     "output_type": "stream",
     "text": [
      "downloading /n/data1/hms/neurobio/sabatini/rich/analysis/eye_laser_trace_extraction/mouse_0916N/20231022/dispatcher.py   to   /media/rich/bigSSD/analysis_data/face_rhythm/mouse_0916N/eye_laser_trace_extraction/traces/20231022/dispatcher.py\n"
     ]
    },
    {
     "name": "stderr",
     "output_type": "stream",
     "text": [
      "0.00b [00:00, ?b/s]\n"
     ]
    },
    {
     "name": "stdout",
     "output_type": "stream",
     "text": [
      "downloading /n/data1/hms/neurobio/sabatini/rich/analysis/eye_laser_trace_extraction/mouse_0916N/20231022/notes.txt   to   /media/rich/bigSSD/analysis_data/face_rhythm/mouse_0916N/eye_laser_trace_extraction/traces/20231022/notes.txt\n"
     ]
    },
    {
     "name": "stderr",
     "output_type": "stream",
     "text": [
      "0.00b [00:00, ?b/s]\n"
     ]
    },
    {
     "name": "stdout",
     "output_type": "stream",
     "text": [
      "downloading /n/data1/hms/neurobio/sabatini/rich/analysis/eye_laser_trace_extraction/mouse_0916N/20231031/parameters_batch.json   to   /media/rich/bigSSD/analysis_data/face_rhythm/mouse_0916N/eye_laser_trace_extraction/traces/20231031/parameters_batch.json\n"
     ]
    },
    {
     "name": "stderr",
     "output_type": "stream",
     "text": [
      "0.00b [00:00, ?b/s]\n"
     ]
    },
    {
     "name": "stdout",
     "output_type": "stream",
     "text": [
      "downloading /n/data1/hms/neurobio/sabatini/rich/analysis/eye_laser_trace_extraction/mouse_0916N/20231031/extract_eye_brightness_trace.py   to   /media/rich/bigSSD/analysis_data/face_rhythm/mouse_0916N/eye_laser_trace_extraction/traces/20231031/extract_eye_brightness_trace.py\n"
     ]
    },
    {
     "name": "stderr",
     "output_type": "stream",
     "text": [
      "0.00b [00:00, ?b/s]\n"
     ]
    },
    {
     "name": "stdout",
     "output_type": "stream",
     "text": [
      "downloading /n/data1/hms/neurobio/sabatini/rich/analysis/eye_laser_trace_extraction/mouse_0916N/20231031/jobNum_0/params.json   to   /media/rich/bigSSD/analysis_data/face_rhythm/mouse_0916N/eye_laser_trace_extraction/traces/20231031/jobNum_0/params.json\n"
     ]
    },
    {
     "name": "stderr",
     "output_type": "stream",
     "text": [
      "0.00b [00:00, ?b/s]\n"
     ]
    },
    {
     "name": "stdout",
     "output_type": "stream",
     "text": [
      "downloading /n/data1/hms/neurobio/sabatini/rich/analysis/eye_laser_trace_extraction/mouse_0916N/20231031/jobNum_0/print_log_31460595.log   to   /media/rich/bigSSD/analysis_data/face_rhythm/mouse_0916N/eye_laser_trace_extraction/traces/20231031/jobNum_0/print_log_31460595.log\n"
     ]
    },
    {
     "name": "stderr",
     "output_type": "stream",
     "text": [
      "0.00b [00:00, ?b/s]\n"
     ]
    },
    {
     "name": "stdout",
     "output_type": "stream",
     "text": [
      "downloading /n/data1/hms/neurobio/sabatini/rich/analysis/eye_laser_trace_extraction/mouse_0916N/20231031/jobNum_0/extract_eye_brightness_trace.py   to   /media/rich/bigSSD/analysis_data/face_rhythm/mouse_0916N/eye_laser_trace_extraction/traces/20231031/jobNum_0/extract_eye_brightness_trace.py\n"
     ]
    },
    {
     "name": "stderr",
     "output_type": "stream",
     "text": [
      "0.00b [00:00, ?b/s]\n"
     ]
    },
    {
     "name": "stdout",
     "output_type": "stream",
     "text": [
      "downloading /n/data1/hms/neurobio/sabatini/rich/analysis/eye_laser_trace_extraction/mouse_0916N/20231031/jobNum_0/print_log_31459470.log   to   /media/rich/bigSSD/analysis_data/face_rhythm/mouse_0916N/eye_laser_trace_extraction/traces/20231031/jobNum_0/print_log_31459470.log\n"
     ]
    },
    {
     "name": "stderr",
     "output_type": "stream",
     "text": [
      "0.00b [00:00, ?b/s]\n"
     ]
    },
    {
     "name": "stdout",
     "output_type": "stream",
     "text": [
      "downloading /n/data1/hms/neurobio/sabatini/rich/analysis/eye_laser_trace_extraction/mouse_0916N/20231031/jobNum_0/idx_eye_laser.pkl   to   /media/rich/bigSSD/analysis_data/face_rhythm/mouse_0916N/eye_laser_trace_extraction/traces/20231031/jobNum_0/idx_eye_laser.pkl\n"
     ]
    },
    {
     "name": "stderr",
     "output_type": "stream",
     "text": [
      "0.00b [00:00, ?b/s]\n"
     ]
    },
    {
     "name": "stdout",
     "output_type": "stream",
     "text": [
      "downloading /n/data1/hms/neurobio/sabatini/rich/analysis/eye_laser_trace_extraction/mouse_0916N/20231031/jobNum_0/sbatch_config.sh   to   /media/rich/bigSSD/analysis_data/face_rhythm/mouse_0916N/eye_laser_trace_extraction/traces/20231031/jobNum_0/sbatch_config.sh\n"
     ]
    },
    {
     "name": "stderr",
     "output_type": "stream",
     "text": [
      "0.00b [00:00, ?b/s]\n"
     ]
    },
    {
     "name": "stdout",
     "output_type": "stream",
     "text": [
      "downloading /n/data1/hms/neurobio/sabatini/rich/analysis/eye_laser_trace_extraction/mouse_0916N/20231031/dispatcher.py   to   /media/rich/bigSSD/analysis_data/face_rhythm/mouse_0916N/eye_laser_trace_extraction/traces/20231031/dispatcher.py\n"
     ]
    },
    {
     "name": "stderr",
     "output_type": "stream",
     "text": [
      "0.00b [00:00, ?b/s]\n"
     ]
    },
    {
     "name": "stdout",
     "output_type": "stream",
     "text": [
      "downloading /n/data1/hms/neurobio/sabatini/rich/analysis/eye_laser_trace_extraction/mouse_0916N/20231031/notes.txt   to   /media/rich/bigSSD/analysis_data/face_rhythm/mouse_0916N/eye_laser_trace_extraction/traces/20231031/notes.txt\n"
     ]
    },
    {
     "name": "stderr",
     "output_type": "stream",
     "text": [
      "0.00b [00:00, ?b/s]\n"
     ]
    },
    {
     "name": "stdout",
     "output_type": "stream",
     "text": [
      "downloading /n/data1/hms/neurobio/sabatini/rich/analysis/eye_laser_trace_extraction/mouse_0916N/20231027/parameters_batch.json   to   /media/rich/bigSSD/analysis_data/face_rhythm/mouse_0916N/eye_laser_trace_extraction/traces/20231027/parameters_batch.json\n"
     ]
    },
    {
     "name": "stderr",
     "output_type": "stream",
     "text": [
      "0.00b [00:00, ?b/s]\n"
     ]
    },
    {
     "name": "stdout",
     "output_type": "stream",
     "text": [
      "downloading /n/data1/hms/neurobio/sabatini/rich/analysis/eye_laser_trace_extraction/mouse_0916N/20231027/extract_eye_brightness_trace.py   to   /media/rich/bigSSD/analysis_data/face_rhythm/mouse_0916N/eye_laser_trace_extraction/traces/20231027/extract_eye_brightness_trace.py\n"
     ]
    },
    {
     "name": "stderr",
     "output_type": "stream",
     "text": [
      "0.00b [00:00, ?b/s]\n"
     ]
    },
    {
     "name": "stdout",
     "output_type": "stream",
     "text": [
      "downloading /n/data1/hms/neurobio/sabatini/rich/analysis/eye_laser_trace_extraction/mouse_0916N/20231027/jobNum_0/params.json   to   /media/rich/bigSSD/analysis_data/face_rhythm/mouse_0916N/eye_laser_trace_extraction/traces/20231027/jobNum_0/params.json\n"
     ]
    },
    {
     "name": "stderr",
     "output_type": "stream",
     "text": [
      "0.00b [00:00, ?b/s]\n"
     ]
    },
    {
     "name": "stdout",
     "output_type": "stream",
     "text": [
      "downloading /n/data1/hms/neurobio/sabatini/rich/analysis/eye_laser_trace_extraction/mouse_0916N/20231027/jobNum_0/extract_eye_brightness_trace.py   to   /media/rich/bigSSD/analysis_data/face_rhythm/mouse_0916N/eye_laser_trace_extraction/traces/20231027/jobNum_0/extract_eye_brightness_trace.py\n"
     ]
    },
    {
     "name": "stderr",
     "output_type": "stream",
     "text": [
      "0.00b [00:00, ?b/s]\n"
     ]
    },
    {
     "name": "stdout",
     "output_type": "stream",
     "text": [
      "downloading /n/data1/hms/neurobio/sabatini/rich/analysis/eye_laser_trace_extraction/mouse_0916N/20231027/jobNum_0/idx_eye_laser.pkl   to   /media/rich/bigSSD/analysis_data/face_rhythm/mouse_0916N/eye_laser_trace_extraction/traces/20231027/jobNum_0/idx_eye_laser.pkl\n"
     ]
    },
    {
     "name": "stderr",
     "output_type": "stream",
     "text": [
      "0.00b [00:00, ?b/s]\n"
     ]
    },
    {
     "name": "stdout",
     "output_type": "stream",
     "text": [
      "downloading /n/data1/hms/neurobio/sabatini/rich/analysis/eye_laser_trace_extraction/mouse_0916N/20231027/jobNum_0/print_log_31460563.log   to   /media/rich/bigSSD/analysis_data/face_rhythm/mouse_0916N/eye_laser_trace_extraction/traces/20231027/jobNum_0/print_log_31460563.log\n"
     ]
    },
    {
     "name": "stderr",
     "output_type": "stream",
     "text": [
      "0.00b [00:00, ?b/s]\n"
     ]
    },
    {
     "name": "stdout",
     "output_type": "stream",
     "text": [
      "downloading /n/data1/hms/neurobio/sabatini/rich/analysis/eye_laser_trace_extraction/mouse_0916N/20231027/jobNum_0/print_log_31459402.log   to   /media/rich/bigSSD/analysis_data/face_rhythm/mouse_0916N/eye_laser_trace_extraction/traces/20231027/jobNum_0/print_log_31459402.log\n"
     ]
    },
    {
     "name": "stderr",
     "output_type": "stream",
     "text": [
      "0.00b [00:00, ?b/s]\n"
     ]
    },
    {
     "name": "stdout",
     "output_type": "stream",
     "text": [
      "downloading /n/data1/hms/neurobio/sabatini/rich/analysis/eye_laser_trace_extraction/mouse_0916N/20231027/jobNum_0/sbatch_config.sh   to   /media/rich/bigSSD/analysis_data/face_rhythm/mouse_0916N/eye_laser_trace_extraction/traces/20231027/jobNum_0/sbatch_config.sh\n"
     ]
    },
    {
     "name": "stderr",
     "output_type": "stream",
     "text": [
      "0.00b [00:00, ?b/s]\n"
     ]
    },
    {
     "name": "stdout",
     "output_type": "stream",
     "text": [
      "downloading /n/data1/hms/neurobio/sabatini/rich/analysis/eye_laser_trace_extraction/mouse_0916N/20231027/dispatcher.py   to   /media/rich/bigSSD/analysis_data/face_rhythm/mouse_0916N/eye_laser_trace_extraction/traces/20231027/dispatcher.py\n"
     ]
    },
    {
     "name": "stderr",
     "output_type": "stream",
     "text": [
      "0.00b [00:00, ?b/s]\n"
     ]
    },
    {
     "name": "stdout",
     "output_type": "stream",
     "text": [
      "downloading /n/data1/hms/neurobio/sabatini/rich/analysis/eye_laser_trace_extraction/mouse_0916N/20231027/notes.txt   to   /media/rich/bigSSD/analysis_data/face_rhythm/mouse_0916N/eye_laser_trace_extraction/traces/20231027/notes.txt\n"
     ]
    },
    {
     "name": "stderr",
     "output_type": "stream",
     "text": [
      "0.00b [00:00, ?b/s]\n"
     ]
    },
    {
     "name": "stdout",
     "output_type": "stream",
     "text": [
      "downloading /n/data1/hms/neurobio/sabatini/rich/analysis/eye_laser_trace_extraction/mouse_0916N/20231102/parameters_batch.json   to   /media/rich/bigSSD/analysis_data/face_rhythm/mouse_0916N/eye_laser_trace_extraction/traces/20231102/parameters_batch.json\n"
     ]
    },
    {
     "name": "stderr",
     "output_type": "stream",
     "text": [
      "0.00b [00:00, ?b/s]\n"
     ]
    },
    {
     "name": "stdout",
     "output_type": "stream",
     "text": [
      "downloading /n/data1/hms/neurobio/sabatini/rich/analysis/eye_laser_trace_extraction/mouse_0916N/20231102/extract_eye_brightness_trace.py   to   /media/rich/bigSSD/analysis_data/face_rhythm/mouse_0916N/eye_laser_trace_extraction/traces/20231102/extract_eye_brightness_trace.py\n"
     ]
    },
    {
     "name": "stderr",
     "output_type": "stream",
     "text": [
      "0.00b [00:00, ?b/s]\n"
     ]
    },
    {
     "name": "stdout",
     "output_type": "stream",
     "text": [
      "downloading /n/data1/hms/neurobio/sabatini/rich/analysis/eye_laser_trace_extraction/mouse_0916N/20231102/jobNum_0/params.json   to   /media/rich/bigSSD/analysis_data/face_rhythm/mouse_0916N/eye_laser_trace_extraction/traces/20231102/jobNum_0/params.json\n"
     ]
    },
    {
     "name": "stderr",
     "output_type": "stream",
     "text": [
      "0.00b [00:00, ?b/s]\n"
     ]
    },
    {
     "name": "stdout",
     "output_type": "stream",
     "text": [
      "downloading /n/data1/hms/neurobio/sabatini/rich/analysis/eye_laser_trace_extraction/mouse_0916N/20231102/jobNum_0/print_log_31460612.log   to   /media/rich/bigSSD/analysis_data/face_rhythm/mouse_0916N/eye_laser_trace_extraction/traces/20231102/jobNum_0/print_log_31460612.log\n"
     ]
    },
    {
     "name": "stderr",
     "output_type": "stream",
     "text": [
      "0.00b [00:00, ?b/s]\n"
     ]
    },
    {
     "name": "stdout",
     "output_type": "stream",
     "text": [
      "downloading /n/data1/hms/neurobio/sabatini/rich/analysis/eye_laser_trace_extraction/mouse_0916N/20231102/jobNum_0/extract_eye_brightness_trace.py   to   /media/rich/bigSSD/analysis_data/face_rhythm/mouse_0916N/eye_laser_trace_extraction/traces/20231102/jobNum_0/extract_eye_brightness_trace.py\n"
     ]
    },
    {
     "name": "stderr",
     "output_type": "stream",
     "text": [
      "0.00b [00:00, ?b/s]\n"
     ]
    },
    {
     "name": "stdout",
     "output_type": "stream",
     "text": [
      "downloading /n/data1/hms/neurobio/sabatini/rich/analysis/eye_laser_trace_extraction/mouse_0916N/20231102/jobNum_0/idx_eye_laser.pkl   to   /media/rich/bigSSD/analysis_data/face_rhythm/mouse_0916N/eye_laser_trace_extraction/traces/20231102/jobNum_0/idx_eye_laser.pkl\n"
     ]
    },
    {
     "name": "stderr",
     "output_type": "stream",
     "text": [
      "0.00b [00:00, ?b/s]\n"
     ]
    },
    {
     "name": "stdout",
     "output_type": "stream",
     "text": [
      "downloading /n/data1/hms/neurobio/sabatini/rich/analysis/eye_laser_trace_extraction/mouse_0916N/20231102/jobNum_0/print_log_31459481.log   to   /media/rich/bigSSD/analysis_data/face_rhythm/mouse_0916N/eye_laser_trace_extraction/traces/20231102/jobNum_0/print_log_31459481.log\n"
     ]
    },
    {
     "name": "stderr",
     "output_type": "stream",
     "text": [
      "0.00b [00:00, ?b/s]\n"
     ]
    },
    {
     "name": "stdout",
     "output_type": "stream",
     "text": [
      "downloading /n/data1/hms/neurobio/sabatini/rich/analysis/eye_laser_trace_extraction/mouse_0916N/20231102/jobNum_0/sbatch_config.sh   to   /media/rich/bigSSD/analysis_data/face_rhythm/mouse_0916N/eye_laser_trace_extraction/traces/20231102/jobNum_0/sbatch_config.sh\n"
     ]
    },
    {
     "name": "stderr",
     "output_type": "stream",
     "text": [
      "0.00b [00:00, ?b/s]\n"
     ]
    },
    {
     "name": "stdout",
     "output_type": "stream",
     "text": [
      "downloading /n/data1/hms/neurobio/sabatini/rich/analysis/eye_laser_trace_extraction/mouse_0916N/20231102/dispatcher.py   to   /media/rich/bigSSD/analysis_data/face_rhythm/mouse_0916N/eye_laser_trace_extraction/traces/20231102/dispatcher.py\n"
     ]
    },
    {
     "name": "stderr",
     "output_type": "stream",
     "text": [
      "0.00b [00:00, ?b/s]\n"
     ]
    },
    {
     "name": "stdout",
     "output_type": "stream",
     "text": [
      "downloading /n/data1/hms/neurobio/sabatini/rich/analysis/eye_laser_trace_extraction/mouse_0916N/20231102/notes.txt   to   /media/rich/bigSSD/analysis_data/face_rhythm/mouse_0916N/eye_laser_trace_extraction/traces/20231102/notes.txt\n"
     ]
    },
    {
     "name": "stderr",
     "output_type": "stream",
     "text": [
      "0.00b [00:00, ?b/s]\n"
     ]
    },
    {
     "name": "stdout",
     "output_type": "stream",
     "text": [
      "downloading /n/data1/hms/neurobio/sabatini/rich/analysis/eye_laser_trace_extraction/mouse_0916N/20231105/parameters_batch.json   to   /media/rich/bigSSD/analysis_data/face_rhythm/mouse_0916N/eye_laser_trace_extraction/traces/20231105/parameters_batch.json\n"
     ]
    },
    {
     "name": "stderr",
     "output_type": "stream",
     "text": [
      "0.00b [00:00, ?b/s]\n"
     ]
    },
    {
     "name": "stdout",
     "output_type": "stream",
     "text": [
      "downloading /n/data1/hms/neurobio/sabatini/rich/analysis/eye_laser_trace_extraction/mouse_0916N/20231105/extract_eye_brightness_trace.py   to   /media/rich/bigSSD/analysis_data/face_rhythm/mouse_0916N/eye_laser_trace_extraction/traces/20231105/extract_eye_brightness_trace.py\n"
     ]
    },
    {
     "name": "stderr",
     "output_type": "stream",
     "text": [
      "0.00b [00:00, ?b/s]\n"
     ]
    },
    {
     "name": "stdout",
     "output_type": "stream",
     "text": [
      "downloading /n/data1/hms/neurobio/sabatini/rich/analysis/eye_laser_trace_extraction/mouse_0916N/20231105/jobNum_0/params.json   to   /media/rich/bigSSD/analysis_data/face_rhythm/mouse_0916N/eye_laser_trace_extraction/traces/20231105/jobNum_0/params.json\n"
     ]
    },
    {
     "name": "stderr",
     "output_type": "stream",
     "text": [
      "0.00b [00:00, ?b/s]\n"
     ]
    },
    {
     "name": "stdout",
     "output_type": "stream",
     "text": [
      "downloading /n/data1/hms/neurobio/sabatini/rich/analysis/eye_laser_trace_extraction/mouse_0916N/20231105/jobNum_0/print_log_31460638.log   to   /media/rich/bigSSD/analysis_data/face_rhythm/mouse_0916N/eye_laser_trace_extraction/traces/20231105/jobNum_0/print_log_31460638.log\n"
     ]
    },
    {
     "name": "stderr",
     "output_type": "stream",
     "text": [
      "0.00b [00:00, ?b/s]\n"
     ]
    },
    {
     "name": "stdout",
     "output_type": "stream",
     "text": [
      "downloading /n/data1/hms/neurobio/sabatini/rich/analysis/eye_laser_trace_extraction/mouse_0916N/20231105/jobNum_0/print_log_31459544.log   to   /media/rich/bigSSD/analysis_data/face_rhythm/mouse_0916N/eye_laser_trace_extraction/traces/20231105/jobNum_0/print_log_31459544.log\n"
     ]
    },
    {
     "name": "stderr",
     "output_type": "stream",
     "text": [
      "0.00b [00:00, ?b/s]\n"
     ]
    },
    {
     "name": "stdout",
     "output_type": "stream",
     "text": [
      "downloading /n/data1/hms/neurobio/sabatini/rich/analysis/eye_laser_trace_extraction/mouse_0916N/20231105/jobNum_0/extract_eye_brightness_trace.py   to   /media/rich/bigSSD/analysis_data/face_rhythm/mouse_0916N/eye_laser_trace_extraction/traces/20231105/jobNum_0/extract_eye_brightness_trace.py\n"
     ]
    },
    {
     "name": "stderr",
     "output_type": "stream",
     "text": [
      "0.00b [00:00, ?b/s]\n"
     ]
    },
    {
     "name": "stdout",
     "output_type": "stream",
     "text": [
      "downloading /n/data1/hms/neurobio/sabatini/rich/analysis/eye_laser_trace_extraction/mouse_0916N/20231105/jobNum_0/idx_eye_laser.pkl   to   /media/rich/bigSSD/analysis_data/face_rhythm/mouse_0916N/eye_laser_trace_extraction/traces/20231105/jobNum_0/idx_eye_laser.pkl\n"
     ]
    },
    {
     "name": "stderr",
     "output_type": "stream",
     "text": [
      "0.00b [00:00, ?b/s]\n"
     ]
    },
    {
     "name": "stdout",
     "output_type": "stream",
     "text": [
      "downloading /n/data1/hms/neurobio/sabatini/rich/analysis/eye_laser_trace_extraction/mouse_0916N/20231105/jobNum_0/sbatch_config.sh   to   /media/rich/bigSSD/analysis_data/face_rhythm/mouse_0916N/eye_laser_trace_extraction/traces/20231105/jobNum_0/sbatch_config.sh\n"
     ]
    },
    {
     "name": "stderr",
     "output_type": "stream",
     "text": [
      "0.00b [00:00, ?b/s]\n"
     ]
    },
    {
     "name": "stdout",
     "output_type": "stream",
     "text": [
      "downloading /n/data1/hms/neurobio/sabatini/rich/analysis/eye_laser_trace_extraction/mouse_0916N/20231105/dispatcher.py   to   /media/rich/bigSSD/analysis_data/face_rhythm/mouse_0916N/eye_laser_trace_extraction/traces/20231105/dispatcher.py\n"
     ]
    },
    {
     "name": "stderr",
     "output_type": "stream",
     "text": [
      "0.00b [00:00, ?b/s]\n"
     ]
    },
    {
     "name": "stdout",
     "output_type": "stream",
     "text": [
      "downloading /n/data1/hms/neurobio/sabatini/rich/analysis/eye_laser_trace_extraction/mouse_0916N/20231105/notes.txt   to   /media/rich/bigSSD/analysis_data/face_rhythm/mouse_0916N/eye_laser_trace_extraction/traces/20231105/notes.txt\n"
     ]
    },
    {
     "name": "stderr",
     "output_type": "stream",
     "text": [
      "0.00b [00:00, ?b/s]\n"
     ]
    },
    {
     "name": "stdout",
     "output_type": "stream",
     "text": [
      "downloading /n/data1/hms/neurobio/sabatini/rich/analysis/eye_laser_trace_extraction/mouse_0916N/20231026/parameters_batch.json   to   /media/rich/bigSSD/analysis_data/face_rhythm/mouse_0916N/eye_laser_trace_extraction/traces/20231026/parameters_batch.json\n"
     ]
    },
    {
     "name": "stderr",
     "output_type": "stream",
     "text": [
      "0.00b [00:00, ?b/s]\n"
     ]
    },
    {
     "name": "stdout",
     "output_type": "stream",
     "text": [
      "downloading /n/data1/hms/neurobio/sabatini/rich/analysis/eye_laser_trace_extraction/mouse_0916N/20231026/extract_eye_brightness_trace.py   to   /media/rich/bigSSD/analysis_data/face_rhythm/mouse_0916N/eye_laser_trace_extraction/traces/20231026/extract_eye_brightness_trace.py\n"
     ]
    },
    {
     "name": "stderr",
     "output_type": "stream",
     "text": [
      "0.00b [00:00, ?b/s]\n"
     ]
    },
    {
     "name": "stdout",
     "output_type": "stream",
     "text": [
      "downloading /n/data1/hms/neurobio/sabatini/rich/analysis/eye_laser_trace_extraction/mouse_0916N/20231026/jobNum_0/params.json   to   /media/rich/bigSSD/analysis_data/face_rhythm/mouse_0916N/eye_laser_trace_extraction/traces/20231026/jobNum_0/params.json\n"
     ]
    },
    {
     "name": "stderr",
     "output_type": "stream",
     "text": [
      "0.00b [00:00, ?b/s]\n"
     ]
    },
    {
     "name": "stdout",
     "output_type": "stream",
     "text": [
      "downloading /n/data1/hms/neurobio/sabatini/rich/analysis/eye_laser_trace_extraction/mouse_0916N/20231026/jobNum_0/extract_eye_brightness_trace.py   to   /media/rich/bigSSD/analysis_data/face_rhythm/mouse_0916N/eye_laser_trace_extraction/traces/20231026/jobNum_0/extract_eye_brightness_trace.py\n"
     ]
    },
    {
     "name": "stderr",
     "output_type": "stream",
     "text": [
      "0.00b [00:00, ?b/s]\n"
     ]
    },
    {
     "name": "stdout",
     "output_type": "stream",
     "text": [
      "downloading /n/data1/hms/neurobio/sabatini/rich/analysis/eye_laser_trace_extraction/mouse_0916N/20231026/jobNum_0/idx_eye_laser.pkl   to   /media/rich/bigSSD/analysis_data/face_rhythm/mouse_0916N/eye_laser_trace_extraction/traces/20231026/jobNum_0/idx_eye_laser.pkl\n"
     ]
    },
    {
     "name": "stderr",
     "output_type": "stream",
     "text": [
      "0.00b [00:00, ?b/s]\n"
     ]
    },
    {
     "name": "stdout",
     "output_type": "stream",
     "text": [
      "downloading /n/data1/hms/neurobio/sabatini/rich/analysis/eye_laser_trace_extraction/mouse_0916N/20231026/jobNum_0/print_log_31459398.log   to   /media/rich/bigSSD/analysis_data/face_rhythm/mouse_0916N/eye_laser_trace_extraction/traces/20231026/jobNum_0/print_log_31459398.log\n"
     ]
    },
    {
     "name": "stderr",
     "output_type": "stream",
     "text": [
      "0.00b [00:00, ?b/s]\n"
     ]
    },
    {
     "name": "stdout",
     "output_type": "stream",
     "text": [
      "downloading /n/data1/hms/neurobio/sabatini/rich/analysis/eye_laser_trace_extraction/mouse_0916N/20231026/jobNum_0/print_log_31460558.log   to   /media/rich/bigSSD/analysis_data/face_rhythm/mouse_0916N/eye_laser_trace_extraction/traces/20231026/jobNum_0/print_log_31460558.log\n"
     ]
    },
    {
     "name": "stderr",
     "output_type": "stream",
     "text": [
      "0.00b [00:00, ?b/s]\n"
     ]
    },
    {
     "name": "stdout",
     "output_type": "stream",
     "text": [
      "downloading /n/data1/hms/neurobio/sabatini/rich/analysis/eye_laser_trace_extraction/mouse_0916N/20231026/jobNum_0/sbatch_config.sh   to   /media/rich/bigSSD/analysis_data/face_rhythm/mouse_0916N/eye_laser_trace_extraction/traces/20231026/jobNum_0/sbatch_config.sh\n"
     ]
    },
    {
     "name": "stderr",
     "output_type": "stream",
     "text": [
      "0.00b [00:00, ?b/s]\n"
     ]
    },
    {
     "name": "stdout",
     "output_type": "stream",
     "text": [
      "downloading /n/data1/hms/neurobio/sabatini/rich/analysis/eye_laser_trace_extraction/mouse_0916N/20231026/dispatcher.py   to   /media/rich/bigSSD/analysis_data/face_rhythm/mouse_0916N/eye_laser_trace_extraction/traces/20231026/dispatcher.py\n"
     ]
    },
    {
     "name": "stderr",
     "output_type": "stream",
     "text": [
      "0.00b [00:00, ?b/s]\n"
     ]
    },
    {
     "name": "stdout",
     "output_type": "stream",
     "text": [
      "downloading /n/data1/hms/neurobio/sabatini/rich/analysis/eye_laser_trace_extraction/mouse_0916N/20231026/notes.txt   to   /media/rich/bigSSD/analysis_data/face_rhythm/mouse_0916N/eye_laser_trace_extraction/traces/20231026/notes.txt\n"
     ]
    },
    {
     "name": "stderr",
     "output_type": "stream",
     "text": [
      "0.00b [00:00, ?b/s]\n"
     ]
    },
    {
     "name": "stdout",
     "output_type": "stream",
     "text": [
      "downloading /n/data1/hms/neurobio/sabatini/rich/analysis/eye_laser_trace_extraction/mouse_0916N/20231028/parameters_batch.json   to   /media/rich/bigSSD/analysis_data/face_rhythm/mouse_0916N/eye_laser_trace_extraction/traces/20231028/parameters_batch.json\n"
     ]
    },
    {
     "name": "stderr",
     "output_type": "stream",
     "text": [
      "0.00b [00:00, ?b/s]\n"
     ]
    },
    {
     "name": "stdout",
     "output_type": "stream",
     "text": [
      "downloading /n/data1/hms/neurobio/sabatini/rich/analysis/eye_laser_trace_extraction/mouse_0916N/20231028/extract_eye_brightness_trace.py   to   /media/rich/bigSSD/analysis_data/face_rhythm/mouse_0916N/eye_laser_trace_extraction/traces/20231028/extract_eye_brightness_trace.py\n"
     ]
    },
    {
     "name": "stderr",
     "output_type": "stream",
     "text": [
      "0.00b [00:00, ?b/s]\n"
     ]
    },
    {
     "name": "stdout",
     "output_type": "stream",
     "text": [
      "downloading /n/data1/hms/neurobio/sabatini/rich/analysis/eye_laser_trace_extraction/mouse_0916N/20231028/jobNum_0/params.json   to   /media/rich/bigSSD/analysis_data/face_rhythm/mouse_0916N/eye_laser_trace_extraction/traces/20231028/jobNum_0/params.json\n"
     ]
    },
    {
     "name": "stderr",
     "output_type": "stream",
     "text": [
      "0.00b [00:00, ?b/s]\n"
     ]
    },
    {
     "name": "stdout",
     "output_type": "stream",
     "text": [
      "downloading /n/data1/hms/neurobio/sabatini/rich/analysis/eye_laser_trace_extraction/mouse_0916N/20231028/jobNum_0/extract_eye_brightness_trace.py   to   /media/rich/bigSSD/analysis_data/face_rhythm/mouse_0916N/eye_laser_trace_extraction/traces/20231028/jobNum_0/extract_eye_brightness_trace.py\n"
     ]
    },
    {
     "name": "stderr",
     "output_type": "stream",
     "text": [
      "0.00b [00:00, ?b/s]\n"
     ]
    },
    {
     "name": "stdout",
     "output_type": "stream",
     "text": [
      "downloading /n/data1/hms/neurobio/sabatini/rich/analysis/eye_laser_trace_extraction/mouse_0916N/20231028/jobNum_0/idx_eye_laser.pkl   to   /media/rich/bigSSD/analysis_data/face_rhythm/mouse_0916N/eye_laser_trace_extraction/traces/20231028/jobNum_0/idx_eye_laser.pkl\n"
     ]
    },
    {
     "name": "stderr",
     "output_type": "stream",
     "text": [
      "0.00b [00:00, ?b/s]\n"
     ]
    },
    {
     "name": "stdout",
     "output_type": "stream",
     "text": [
      "downloading /n/data1/hms/neurobio/sabatini/rich/analysis/eye_laser_trace_extraction/mouse_0916N/20231028/jobNum_0/sbatch_config.sh   to   /media/rich/bigSSD/analysis_data/face_rhythm/mouse_0916N/eye_laser_trace_extraction/traces/20231028/jobNum_0/sbatch_config.sh\n"
     ]
    },
    {
     "name": "stderr",
     "output_type": "stream",
     "text": [
      "0.00b [00:00, ?b/s]\n"
     ]
    },
    {
     "name": "stdout",
     "output_type": "stream",
     "text": [
      "downloading /n/data1/hms/neurobio/sabatini/rich/analysis/eye_laser_trace_extraction/mouse_0916N/20231028/jobNum_0/print_log_31460568.log   to   /media/rich/bigSSD/analysis_data/face_rhythm/mouse_0916N/eye_laser_trace_extraction/traces/20231028/jobNum_0/print_log_31460568.log\n"
     ]
    },
    {
     "name": "stderr",
     "output_type": "stream",
     "text": [
      "0.00b [00:00, ?b/s]\n"
     ]
    },
    {
     "name": "stdout",
     "output_type": "stream",
     "text": [
      "downloading /n/data1/hms/neurobio/sabatini/rich/analysis/eye_laser_trace_extraction/mouse_0916N/20231028/jobNum_0/print_log_31459407.log   to   /media/rich/bigSSD/analysis_data/face_rhythm/mouse_0916N/eye_laser_trace_extraction/traces/20231028/jobNum_0/print_log_31459407.log\n"
     ]
    },
    {
     "name": "stderr",
     "output_type": "stream",
     "text": [
      "0.00b [00:00, ?b/s]\n"
     ]
    },
    {
     "name": "stdout",
     "output_type": "stream",
     "text": [
      "downloading /n/data1/hms/neurobio/sabatini/rich/analysis/eye_laser_trace_extraction/mouse_0916N/20231028/dispatcher.py   to   /media/rich/bigSSD/analysis_data/face_rhythm/mouse_0916N/eye_laser_trace_extraction/traces/20231028/dispatcher.py\n"
     ]
    },
    {
     "name": "stderr",
     "output_type": "stream",
     "text": [
      "0.00b [00:00, ?b/s]\n"
     ]
    },
    {
     "name": "stdout",
     "output_type": "stream",
     "text": [
      "downloading /n/data1/hms/neurobio/sabatini/rich/analysis/eye_laser_trace_extraction/mouse_0916N/20231028/notes.txt   to   /media/rich/bigSSD/analysis_data/face_rhythm/mouse_0916N/eye_laser_trace_extraction/traces/20231028/notes.txt\n"
     ]
    },
    {
     "name": "stderr",
     "output_type": "stream",
     "text": [
      "0.00b [00:00, ?b/s]\n"
     ]
    },
    {
     "name": "stdout",
     "output_type": "stream",
     "text": [
      "downloading /n/data1/hms/neurobio/sabatini/rich/analysis/eye_laser_trace_extraction/mouse_0916N/20231104/parameters_batch.json   to   /media/rich/bigSSD/analysis_data/face_rhythm/mouse_0916N/eye_laser_trace_extraction/traces/20231104/parameters_batch.json\n"
     ]
    },
    {
     "name": "stderr",
     "output_type": "stream",
     "text": [
      "0.00b [00:00, ?b/s]\n"
     ]
    },
    {
     "name": "stdout",
     "output_type": "stream",
     "text": [
      "downloading /n/data1/hms/neurobio/sabatini/rich/analysis/eye_laser_trace_extraction/mouse_0916N/20231104/extract_eye_brightness_trace.py   to   /media/rich/bigSSD/analysis_data/face_rhythm/mouse_0916N/eye_laser_trace_extraction/traces/20231104/extract_eye_brightness_trace.py\n"
     ]
    },
    {
     "name": "stderr",
     "output_type": "stream",
     "text": [
      "0.00b [00:00, ?b/s]\n"
     ]
    },
    {
     "name": "stdout",
     "output_type": "stream",
     "text": [
      "downloading /n/data1/hms/neurobio/sabatini/rich/analysis/eye_laser_trace_extraction/mouse_0916N/20231104/jobNum_0/params.json   to   /media/rich/bigSSD/analysis_data/face_rhythm/mouse_0916N/eye_laser_trace_extraction/traces/20231104/jobNum_0/params.json\n"
     ]
    },
    {
     "name": "stderr",
     "output_type": "stream",
     "text": [
      "0.00b [00:00, ?b/s]\n"
     ]
    },
    {
     "name": "stdout",
     "output_type": "stream",
     "text": [
      "downloading /n/data1/hms/neurobio/sabatini/rich/analysis/eye_laser_trace_extraction/mouse_0916N/20231104/jobNum_0/extract_eye_brightness_trace.py   to   /media/rich/bigSSD/analysis_data/face_rhythm/mouse_0916N/eye_laser_trace_extraction/traces/20231104/jobNum_0/extract_eye_brightness_trace.py\n"
     ]
    },
    {
     "name": "stderr",
     "output_type": "stream",
     "text": [
      "0.00b [00:00, ?b/s]\n"
     ]
    },
    {
     "name": "stdout",
     "output_type": "stream",
     "text": [
      "downloading /n/data1/hms/neurobio/sabatini/rich/analysis/eye_laser_trace_extraction/mouse_0916N/20231104/jobNum_0/idx_eye_laser.pkl   to   /media/rich/bigSSD/analysis_data/face_rhythm/mouse_0916N/eye_laser_trace_extraction/traces/20231104/jobNum_0/idx_eye_laser.pkl\n"
     ]
    },
    {
     "name": "stderr",
     "output_type": "stream",
     "text": [
      "0.00b [00:00, ?b/s]\n"
     ]
    },
    {
     "name": "stdout",
     "output_type": "stream",
     "text": [
      "downloading /n/data1/hms/neurobio/sabatini/rich/analysis/eye_laser_trace_extraction/mouse_0916N/20231104/jobNum_0/print_log_31459509.log   to   /media/rich/bigSSD/analysis_data/face_rhythm/mouse_0916N/eye_laser_trace_extraction/traces/20231104/jobNum_0/print_log_31459509.log\n"
     ]
    },
    {
     "name": "stderr",
     "output_type": "stream",
     "text": [
      "0.00b [00:00, ?b/s]\n"
     ]
    },
    {
     "name": "stdout",
     "output_type": "stream",
     "text": [
      "downloading /n/data1/hms/neurobio/sabatini/rich/analysis/eye_laser_trace_extraction/mouse_0916N/20231104/jobNum_0/sbatch_config.sh   to   /media/rich/bigSSD/analysis_data/face_rhythm/mouse_0916N/eye_laser_trace_extraction/traces/20231104/jobNum_0/sbatch_config.sh\n"
     ]
    },
    {
     "name": "stderr",
     "output_type": "stream",
     "text": [
      "0.00b [00:00, ?b/s]\n"
     ]
    },
    {
     "name": "stdout",
     "output_type": "stream",
     "text": [
      "downloading /n/data1/hms/neurobio/sabatini/rich/analysis/eye_laser_trace_extraction/mouse_0916N/20231104/jobNum_0/print_log_31460637.log   to   /media/rich/bigSSD/analysis_data/face_rhythm/mouse_0916N/eye_laser_trace_extraction/traces/20231104/jobNum_0/print_log_31460637.log\n"
     ]
    },
    {
     "name": "stderr",
     "output_type": "stream",
     "text": [
      "0.00b [00:00, ?b/s]\n"
     ]
    },
    {
     "name": "stdout",
     "output_type": "stream",
     "text": [
      "downloading /n/data1/hms/neurobio/sabatini/rich/analysis/eye_laser_trace_extraction/mouse_0916N/20231104/dispatcher.py   to   /media/rich/bigSSD/analysis_data/face_rhythm/mouse_0916N/eye_laser_trace_extraction/traces/20231104/dispatcher.py\n"
     ]
    },
    {
     "name": "stderr",
     "output_type": "stream",
     "text": [
      "0.00b [00:00, ?b/s]\n"
     ]
    },
    {
     "name": "stdout",
     "output_type": "stream",
     "text": [
      "downloading /n/data1/hms/neurobio/sabatini/rich/analysis/eye_laser_trace_extraction/mouse_0916N/20231104/notes.txt   to   /media/rich/bigSSD/analysis_data/face_rhythm/mouse_0916N/eye_laser_trace_extraction/traces/20231104/notes.txt\n"
     ]
    },
    {
     "name": "stderr",
     "output_type": "stream",
     "text": [
      "0.00b [00:00, ?b/s]\n"
     ]
    },
    {
     "name": "stdout",
     "output_type": "stream",
     "text": [
      "downloading /n/data1/hms/neurobio/sabatini/rich/analysis/eye_laser_trace_extraction/mouse_0916N/20231030/parameters_batch.json   to   /media/rich/bigSSD/analysis_data/face_rhythm/mouse_0916N/eye_laser_trace_extraction/traces/20231030/parameters_batch.json\n"
     ]
    },
    {
     "name": "stderr",
     "output_type": "stream",
     "text": [
      "0.00b [00:00, ?b/s]\n"
     ]
    },
    {
     "name": "stdout",
     "output_type": "stream",
     "text": [
      "downloading /n/data1/hms/neurobio/sabatini/rich/analysis/eye_laser_trace_extraction/mouse_0916N/20231030/extract_eye_brightness_trace.py   to   /media/rich/bigSSD/analysis_data/face_rhythm/mouse_0916N/eye_laser_trace_extraction/traces/20231030/extract_eye_brightness_trace.py\n"
     ]
    },
    {
     "name": "stderr",
     "output_type": "stream",
     "text": [
      "0.00b [00:00, ?b/s]\n"
     ]
    },
    {
     "name": "stdout",
     "output_type": "stream",
     "text": [
      "downloading /n/data1/hms/neurobio/sabatini/rich/analysis/eye_laser_trace_extraction/mouse_0916N/20231030/jobNum_0/params.json   to   /media/rich/bigSSD/analysis_data/face_rhythm/mouse_0916N/eye_laser_trace_extraction/traces/20231030/jobNum_0/params.json\n"
     ]
    },
    {
     "name": "stderr",
     "output_type": "stream",
     "text": [
      "0.00b [00:00, ?b/s]\n"
     ]
    },
    {
     "name": "stdout",
     "output_type": "stream",
     "text": [
      "downloading /n/data1/hms/neurobio/sabatini/rich/analysis/eye_laser_trace_extraction/mouse_0916N/20231030/jobNum_0/print_log_31459469.log   to   /media/rich/bigSSD/analysis_data/face_rhythm/mouse_0916N/eye_laser_trace_extraction/traces/20231030/jobNum_0/print_log_31459469.log\n"
     ]
    },
    {
     "name": "stderr",
     "output_type": "stream",
     "text": [
      "0.00b [00:00, ?b/s]\n"
     ]
    },
    {
     "name": "stdout",
     "output_type": "stream",
     "text": [
      "downloading /n/data1/hms/neurobio/sabatini/rich/analysis/eye_laser_trace_extraction/mouse_0916N/20231030/jobNum_0/extract_eye_brightness_trace.py   to   /media/rich/bigSSD/analysis_data/face_rhythm/mouse_0916N/eye_laser_trace_extraction/traces/20231030/jobNum_0/extract_eye_brightness_trace.py\n"
     ]
    },
    {
     "name": "stderr",
     "output_type": "stream",
     "text": [
      "0.00b [00:00, ?b/s]\n"
     ]
    },
    {
     "name": "stdout",
     "output_type": "stream",
     "text": [
      "downloading /n/data1/hms/neurobio/sabatini/rich/analysis/eye_laser_trace_extraction/mouse_0916N/20231030/jobNum_0/idx_eye_laser.pkl   to   /media/rich/bigSSD/analysis_data/face_rhythm/mouse_0916N/eye_laser_trace_extraction/traces/20231030/jobNum_0/idx_eye_laser.pkl\n"
     ]
    },
    {
     "name": "stderr",
     "output_type": "stream",
     "text": [
      "0.00b [00:00, ?b/s]\n"
     ]
    },
    {
     "name": "stdout",
     "output_type": "stream",
     "text": [
      "downloading /n/data1/hms/neurobio/sabatini/rich/analysis/eye_laser_trace_extraction/mouse_0916N/20231030/jobNum_0/print_log_31460593.log   to   /media/rich/bigSSD/analysis_data/face_rhythm/mouse_0916N/eye_laser_trace_extraction/traces/20231030/jobNum_0/print_log_31460593.log\n"
     ]
    },
    {
     "name": "stderr",
     "output_type": "stream",
     "text": [
      "0.00b [00:00, ?b/s]\n"
     ]
    },
    {
     "name": "stdout",
     "output_type": "stream",
     "text": [
      "downloading /n/data1/hms/neurobio/sabatini/rich/analysis/eye_laser_trace_extraction/mouse_0916N/20231030/jobNum_0/sbatch_config.sh   to   /media/rich/bigSSD/analysis_data/face_rhythm/mouse_0916N/eye_laser_trace_extraction/traces/20231030/jobNum_0/sbatch_config.sh\n"
     ]
    },
    {
     "name": "stderr",
     "output_type": "stream",
     "text": [
      "0.00b [00:00, ?b/s]\n"
     ]
    },
    {
     "name": "stdout",
     "output_type": "stream",
     "text": [
      "downloading /n/data1/hms/neurobio/sabatini/rich/analysis/eye_laser_trace_extraction/mouse_0916N/20231030/dispatcher.py   to   /media/rich/bigSSD/analysis_data/face_rhythm/mouse_0916N/eye_laser_trace_extraction/traces/20231030/dispatcher.py\n"
     ]
    },
    {
     "name": "stderr",
     "output_type": "stream",
     "text": [
      "0.00b [00:00, ?b/s]\n"
     ]
    },
    {
     "name": "stdout",
     "output_type": "stream",
     "text": [
      "downloading /n/data1/hms/neurobio/sabatini/rich/analysis/eye_laser_trace_extraction/mouse_0916N/20231030/notes.txt   to   /media/rich/bigSSD/analysis_data/face_rhythm/mouse_0916N/eye_laser_trace_extraction/traces/20231030/notes.txt\n"
     ]
    },
    {
     "name": "stderr",
     "output_type": "stream",
     "text": [
      "0.00b [00:00, ?b/s]\n"
     ]
    },
    {
     "name": "stdout",
     "output_type": "stream",
     "text": [
      "downloading /n/data1/hms/neurobio/sabatini/rich/analysis/eye_laser_trace_extraction/mouse_0916N/20231103/parameters_batch.json   to   /media/rich/bigSSD/analysis_data/face_rhythm/mouse_0916N/eye_laser_trace_extraction/traces/20231103/parameters_batch.json\n"
     ]
    },
    {
     "name": "stderr",
     "output_type": "stream",
     "text": [
      "0.00b [00:00, ?b/s]\n"
     ]
    },
    {
     "name": "stdout",
     "output_type": "stream",
     "text": [
      "downloading /n/data1/hms/neurobio/sabatini/rich/analysis/eye_laser_trace_extraction/mouse_0916N/20231103/extract_eye_brightness_trace.py   to   /media/rich/bigSSD/analysis_data/face_rhythm/mouse_0916N/eye_laser_trace_extraction/traces/20231103/extract_eye_brightness_trace.py\n"
     ]
    },
    {
     "name": "stderr",
     "output_type": "stream",
     "text": [
      "0.00b [00:00, ?b/s]\n"
     ]
    },
    {
     "name": "stdout",
     "output_type": "stream",
     "text": [
      "downloading /n/data1/hms/neurobio/sabatini/rich/analysis/eye_laser_trace_extraction/mouse_0916N/20231103/jobNum_0/params.json   to   /media/rich/bigSSD/analysis_data/face_rhythm/mouse_0916N/eye_laser_trace_extraction/traces/20231103/jobNum_0/params.json\n"
     ]
    },
    {
     "name": "stderr",
     "output_type": "stream",
     "text": [
      "0.00b [00:00, ?b/s]\n"
     ]
    },
    {
     "name": "stdout",
     "output_type": "stream",
     "text": [
      "downloading /n/data1/hms/neurobio/sabatini/rich/analysis/eye_laser_trace_extraction/mouse_0916N/20231103/jobNum_0/print_log_31459496.log   to   /media/rich/bigSSD/analysis_data/face_rhythm/mouse_0916N/eye_laser_trace_extraction/traces/20231103/jobNum_0/print_log_31459496.log\n"
     ]
    },
    {
     "name": "stderr",
     "output_type": "stream",
     "text": [
      "0.00b [00:00, ?b/s]\n"
     ]
    },
    {
     "name": "stdout",
     "output_type": "stream",
     "text": [
      "downloading /n/data1/hms/neurobio/sabatini/rich/analysis/eye_laser_trace_extraction/mouse_0916N/20231103/jobNum_0/extract_eye_brightness_trace.py   to   /media/rich/bigSSD/analysis_data/face_rhythm/mouse_0916N/eye_laser_trace_extraction/traces/20231103/jobNum_0/extract_eye_brightness_trace.py\n"
     ]
    },
    {
     "name": "stderr",
     "output_type": "stream",
     "text": [
      "0.00b [00:00, ?b/s]\n"
     ]
    },
    {
     "name": "stdout",
     "output_type": "stream",
     "text": [
      "downloading /n/data1/hms/neurobio/sabatini/rich/analysis/eye_laser_trace_extraction/mouse_0916N/20231103/jobNum_0/idx_eye_laser.pkl   to   /media/rich/bigSSD/analysis_data/face_rhythm/mouse_0916N/eye_laser_trace_extraction/traces/20231103/jobNum_0/idx_eye_laser.pkl\n"
     ]
    },
    {
     "name": "stderr",
     "output_type": "stream",
     "text": [
      "0.00b [00:00, ?b/s]\n"
     ]
    },
    {
     "name": "stdout",
     "output_type": "stream",
     "text": [
      "downloading /n/data1/hms/neurobio/sabatini/rich/analysis/eye_laser_trace_extraction/mouse_0916N/20231103/jobNum_0/print_log_31460614.log   to   /media/rich/bigSSD/analysis_data/face_rhythm/mouse_0916N/eye_laser_trace_extraction/traces/20231103/jobNum_0/print_log_31460614.log\n"
     ]
    },
    {
     "name": "stderr",
     "output_type": "stream",
     "text": [
      "0.00b [00:00, ?b/s]\n"
     ]
    },
    {
     "name": "stdout",
     "output_type": "stream",
     "text": [
      "downloading /n/data1/hms/neurobio/sabatini/rich/analysis/eye_laser_trace_extraction/mouse_0916N/20231103/jobNum_0/sbatch_config.sh   to   /media/rich/bigSSD/analysis_data/face_rhythm/mouse_0916N/eye_laser_trace_extraction/traces/20231103/jobNum_0/sbatch_config.sh\n"
     ]
    },
    {
     "name": "stderr",
     "output_type": "stream",
     "text": [
      "0.00b [00:00, ?b/s]\n"
     ]
    },
    {
     "name": "stdout",
     "output_type": "stream",
     "text": [
      "downloading /n/data1/hms/neurobio/sabatini/rich/analysis/eye_laser_trace_extraction/mouse_0916N/20231103/dispatcher.py   to   /media/rich/bigSSD/analysis_data/face_rhythm/mouse_0916N/eye_laser_trace_extraction/traces/20231103/dispatcher.py\n"
     ]
    },
    {
     "name": "stderr",
     "output_type": "stream",
     "text": [
      "0.00b [00:00, ?b/s]\n"
     ]
    },
    {
     "name": "stdout",
     "output_type": "stream",
     "text": [
      "downloading /n/data1/hms/neurobio/sabatini/rich/analysis/eye_laser_trace_extraction/mouse_0916N/20231103/notes.txt   to   /media/rich/bigSSD/analysis_data/face_rhythm/mouse_0916N/eye_laser_trace_extraction/traces/20231103/notes.txt\n"
     ]
    },
    {
     "name": "stderr",
     "output_type": "stream",
     "text": [
      "0.00b [00:00, ?b/s]\n"
     ]
    },
    {
     "name": "stdout",
     "output_type": "stream",
     "text": [
      "downloading /n/data1/hms/neurobio/sabatini/rich/analysis/eye_laser_trace_extraction/mouse_0916N/20231101/parameters_batch.json   to   /media/rich/bigSSD/analysis_data/face_rhythm/mouse_0916N/eye_laser_trace_extraction/traces/20231101/parameters_batch.json\n"
     ]
    },
    {
     "name": "stderr",
     "output_type": "stream",
     "text": [
      "0.00b [00:00, ?b/s]\n"
     ]
    },
    {
     "name": "stdout",
     "output_type": "stream",
     "text": [
      "downloading /n/data1/hms/neurobio/sabatini/rich/analysis/eye_laser_trace_extraction/mouse_0916N/20231101/extract_eye_brightness_trace.py   to   /media/rich/bigSSD/analysis_data/face_rhythm/mouse_0916N/eye_laser_trace_extraction/traces/20231101/extract_eye_brightness_trace.py\n"
     ]
    },
    {
     "name": "stderr",
     "output_type": "stream",
     "text": [
      "0.00b [00:00, ?b/s]\n"
     ]
    },
    {
     "name": "stdout",
     "output_type": "stream",
     "text": [
      "downloading /n/data1/hms/neurobio/sabatini/rich/analysis/eye_laser_trace_extraction/mouse_0916N/20231101/jobNum_0/params.json   to   /media/rich/bigSSD/analysis_data/face_rhythm/mouse_0916N/eye_laser_trace_extraction/traces/20231101/jobNum_0/params.json\n"
     ]
    },
    {
     "name": "stderr",
     "output_type": "stream",
     "text": [
      "0.00b [00:00, ?b/s]\n"
     ]
    },
    {
     "name": "stdout",
     "output_type": "stream",
     "text": [
      "downloading /n/data1/hms/neurobio/sabatini/rich/analysis/eye_laser_trace_extraction/mouse_0916N/20231101/jobNum_0/extract_eye_brightness_trace.py   to   /media/rich/bigSSD/analysis_data/face_rhythm/mouse_0916N/eye_laser_trace_extraction/traces/20231101/jobNum_0/extract_eye_brightness_trace.py\n"
     ]
    },
    {
     "name": "stderr",
     "output_type": "stream",
     "text": [
      "0.00b [00:00, ?b/s]\n"
     ]
    },
    {
     "name": "stdout",
     "output_type": "stream",
     "text": [
      "downloading /n/data1/hms/neurobio/sabatini/rich/analysis/eye_laser_trace_extraction/mouse_0916N/20231101/jobNum_0/print_log_31459476.log   to   /media/rich/bigSSD/analysis_data/face_rhythm/mouse_0916N/eye_laser_trace_extraction/traces/20231101/jobNum_0/print_log_31459476.log\n"
     ]
    },
    {
     "name": "stderr",
     "output_type": "stream",
     "text": [
      "0.00b [00:00, ?b/s]\n"
     ]
    },
    {
     "name": "stdout",
     "output_type": "stream",
     "text": [
      "downloading /n/data1/hms/neurobio/sabatini/rich/analysis/eye_laser_trace_extraction/mouse_0916N/20231101/jobNum_0/idx_eye_laser.pkl   to   /media/rich/bigSSD/analysis_data/face_rhythm/mouse_0916N/eye_laser_trace_extraction/traces/20231101/jobNum_0/idx_eye_laser.pkl\n"
     ]
    },
    {
     "name": "stderr",
     "output_type": "stream",
     "text": [
      "0.00b [00:00, ?b/s]\n"
     ]
    },
    {
     "name": "stdout",
     "output_type": "stream",
     "text": [
      "downloading /n/data1/hms/neurobio/sabatini/rich/analysis/eye_laser_trace_extraction/mouse_0916N/20231101/jobNum_0/print_log_31460610.log   to   /media/rich/bigSSD/analysis_data/face_rhythm/mouse_0916N/eye_laser_trace_extraction/traces/20231101/jobNum_0/print_log_31460610.log\n"
     ]
    },
    {
     "name": "stderr",
     "output_type": "stream",
     "text": [
      "0.00b [00:00, ?b/s]\n"
     ]
    },
    {
     "name": "stdout",
     "output_type": "stream",
     "text": [
      "downloading /n/data1/hms/neurobio/sabatini/rich/analysis/eye_laser_trace_extraction/mouse_0916N/20231101/jobNum_0/sbatch_config.sh   to   /media/rich/bigSSD/analysis_data/face_rhythm/mouse_0916N/eye_laser_trace_extraction/traces/20231101/jobNum_0/sbatch_config.sh\n"
     ]
    },
    {
     "name": "stderr",
     "output_type": "stream",
     "text": [
      "0.00b [00:00, ?b/s]\n"
     ]
    },
    {
     "name": "stdout",
     "output_type": "stream",
     "text": [
      "downloading /n/data1/hms/neurobio/sabatini/rich/analysis/eye_laser_trace_extraction/mouse_0916N/20231101/dispatcher.py   to   /media/rich/bigSSD/analysis_data/face_rhythm/mouse_0916N/eye_laser_trace_extraction/traces/20231101/dispatcher.py\n"
     ]
    },
    {
     "name": "stderr",
     "output_type": "stream",
     "text": [
      "0.00b [00:00, ?b/s]\n"
     ]
    },
    {
     "name": "stdout",
     "output_type": "stream",
     "text": [
      "downloading /n/data1/hms/neurobio/sabatini/rich/analysis/eye_laser_trace_extraction/mouse_0916N/20231101/notes.txt   to   /media/rich/bigSSD/analysis_data/face_rhythm/mouse_0916N/eye_laser_trace_extraction/traces/20231101/notes.txt\n"
     ]
    },
    {
     "name": "stderr",
     "output_type": "stream",
     "text": [
      "0.00b [00:00, ?b/s]\n"
     ]
    },
    {
     "name": "stdout",
     "output_type": "stream",
     "text": [
      "downloading /n/data1/hms/neurobio/sabatini/rich/analysis/eye_laser_trace_extraction/mouse_0916N/masks/20231029/mask_cam42023-10-29T10_23_54.npy   to   /media/rich/bigSSD/analysis_data/face_rhythm/mouse_0916N/eye_laser_trace_extraction/traces/masks/20231029/mask_cam42023-10-29T10_23_54.npy\n"
     ]
    },
    {
     "name": "stderr",
     "output_type": "stream",
     "text": [
      "0.00b [00:00, ?b/s]\n"
     ]
    },
    {
     "name": "stdout",
     "output_type": "stream",
     "text": [
      "downloading /n/data1/hms/neurobio/sabatini/rich/analysis/eye_laser_trace_extraction/mouse_0916N/masks/20231024/mask_cam42023-10-24T13_56_05.npy   to   /media/rich/bigSSD/analysis_data/face_rhythm/mouse_0916N/eye_laser_trace_extraction/traces/masks/20231024/mask_cam42023-10-24T13_56_05.npy\n"
     ]
    },
    {
     "name": "stderr",
     "output_type": "stream",
     "text": [
      "0.00b [00:00, ?b/s]\n"
     ]
    },
    {
     "name": "stdout",
     "output_type": "stream",
     "text": [
      "downloading /n/data1/hms/neurobio/sabatini/rich/analysis/eye_laser_trace_extraction/mouse_0916N/masks/20231025/mask_cam42023-10-25T12_51_29.npy   to   /media/rich/bigSSD/analysis_data/face_rhythm/mouse_0916N/eye_laser_trace_extraction/traces/masks/20231025/mask_cam42023-10-25T12_51_29.npy\n"
     ]
    },
    {
     "name": "stderr",
     "output_type": "stream",
     "text": [
      "0.00b [00:00, ?b/s]\n"
     ]
    },
    {
     "name": "stdout",
     "output_type": "stream",
     "text": [
      "downloading /n/data1/hms/neurobio/sabatini/rich/analysis/eye_laser_trace_extraction/mouse_0916N/masks/20231106/mask_cam42023-11-06T13_49_29.npy   to   /media/rich/bigSSD/analysis_data/face_rhythm/mouse_0916N/eye_laser_trace_extraction/traces/masks/20231106/mask_cam42023-11-06T13_49_29.npy\n"
     ]
    },
    {
     "name": "stderr",
     "output_type": "stream",
     "text": [
      "0.00b [00:00, ?b/s]\n"
     ]
    },
    {
     "name": "stdout",
     "output_type": "stream",
     "text": [
      "downloading /n/data1/hms/neurobio/sabatini/rich/analysis/eye_laser_trace_extraction/mouse_0916N/masks/20231023/mask_cam42023-10-23T11_36_48.npy   to   /media/rich/bigSSD/analysis_data/face_rhythm/mouse_0916N/eye_laser_trace_extraction/traces/masks/20231023/mask_cam42023-10-23T11_36_48.npy\n"
     ]
    },
    {
     "name": "stderr",
     "output_type": "stream",
     "text": [
      "0.00b [00:00, ?b/s]\n"
     ]
    },
    {
     "name": "stdout",
     "output_type": "stream",
     "text": [
      "downloading /n/data1/hms/neurobio/sabatini/rich/analysis/eye_laser_trace_extraction/mouse_0916N/masks/20231022/mask_cam42023-10-22T12_05_56.npy   to   /media/rich/bigSSD/analysis_data/face_rhythm/mouse_0916N/eye_laser_trace_extraction/traces/masks/20231022/mask_cam42023-10-22T12_05_56.npy\n"
     ]
    },
    {
     "name": "stderr",
     "output_type": "stream",
     "text": [
      "0.00b [00:00, ?b/s]\n"
     ]
    },
    {
     "name": "stdout",
     "output_type": "stream",
     "text": [
      "downloading /n/data1/hms/neurobio/sabatini/rich/analysis/eye_laser_trace_extraction/mouse_0916N/masks/20231031/mask_cam42023-10-31T11_52_07.npy   to   /media/rich/bigSSD/analysis_data/face_rhythm/mouse_0916N/eye_laser_trace_extraction/traces/masks/20231031/mask_cam42023-10-31T11_52_07.npy\n"
     ]
    },
    {
     "name": "stderr",
     "output_type": "stream",
     "text": [
      "0.00b [00:00, ?b/s]\n"
     ]
    },
    {
     "name": "stdout",
     "output_type": "stream",
     "text": [
      "downloading /n/data1/hms/neurobio/sabatini/rich/analysis/eye_laser_trace_extraction/mouse_0916N/masks/20231027/mask_cam42023-10-27T12_09_44.npy   to   /media/rich/bigSSD/analysis_data/face_rhythm/mouse_0916N/eye_laser_trace_extraction/traces/masks/20231027/mask_cam42023-10-27T12_09_44.npy\n"
     ]
    },
    {
     "name": "stderr",
     "output_type": "stream",
     "text": [
      "0.00b [00:00, ?b/s]\n"
     ]
    },
    {
     "name": "stdout",
     "output_type": "stream",
     "text": [
      "downloading /n/data1/hms/neurobio/sabatini/rich/analysis/eye_laser_trace_extraction/mouse_0916N/masks/20231102/mask_cam42023-11-02T14_07_05.npy   to   /media/rich/bigSSD/analysis_data/face_rhythm/mouse_0916N/eye_laser_trace_extraction/traces/masks/20231102/mask_cam42023-11-02T14_07_05.npy\n"
     ]
    },
    {
     "name": "stderr",
     "output_type": "stream",
     "text": [
      "0.00b [00:00, ?b/s]\n"
     ]
    },
    {
     "name": "stdout",
     "output_type": "stream",
     "text": [
      "downloading /n/data1/hms/neurobio/sabatini/rich/analysis/eye_laser_trace_extraction/mouse_0916N/masks/20231105/mask_cam42023-11-05T12_56_51.npy   to   /media/rich/bigSSD/analysis_data/face_rhythm/mouse_0916N/eye_laser_trace_extraction/traces/masks/20231105/mask_cam42023-11-05T12_56_51.npy\n"
     ]
    },
    {
     "name": "stderr",
     "output_type": "stream",
     "text": [
      "0.00b [00:00, ?b/s]\n"
     ]
    },
    {
     "name": "stdout",
     "output_type": "stream",
     "text": [
      "downloading /n/data1/hms/neurobio/sabatini/rich/analysis/eye_laser_trace_extraction/mouse_0916N/masks/20231026/mask_cam42023-10-26T12_02_14.npy   to   /media/rich/bigSSD/analysis_data/face_rhythm/mouse_0916N/eye_laser_trace_extraction/traces/masks/20231026/mask_cam42023-10-26T12_02_14.npy\n"
     ]
    },
    {
     "name": "stderr",
     "output_type": "stream",
     "text": [
      "0.00b [00:00, ?b/s]\n"
     ]
    },
    {
     "name": "stdout",
     "output_type": "stream",
     "text": [
      "downloading /n/data1/hms/neurobio/sabatini/rich/analysis/eye_laser_trace_extraction/mouse_0916N/masks/images.pkl   to   /media/rich/bigSSD/analysis_data/face_rhythm/mouse_0916N/eye_laser_trace_extraction/traces/masks/images.pkl\n"
     ]
    },
    {
     "name": "stderr",
     "output_type": "stream",
     "text": [
      "0.00b [00:00, ?b/s]\n"
     ]
    },
    {
     "name": "stdout",
     "output_type": "stream",
     "text": [
      "downloading /n/data1/hms/neurobio/sabatini/rich/analysis/eye_laser_trace_extraction/mouse_0916N/masks/20231028/mask_cam42023-10-28T12_24_58.npy   to   /media/rich/bigSSD/analysis_data/face_rhythm/mouse_0916N/eye_laser_trace_extraction/traces/masks/20231028/mask_cam42023-10-28T12_24_58.npy\n"
     ]
    },
    {
     "name": "stderr",
     "output_type": "stream",
     "text": [
      "0.00b [00:00, ?b/s]\n"
     ]
    },
    {
     "name": "stdout",
     "output_type": "stream",
     "text": [
      "downloading /n/data1/hms/neurobio/sabatini/rich/analysis/eye_laser_trace_extraction/mouse_0916N/masks/20231104/mask_cam42023-11-04T13_19_19.npy   to   /media/rich/bigSSD/analysis_data/face_rhythm/mouse_0916N/eye_laser_trace_extraction/traces/masks/20231104/mask_cam42023-11-04T13_19_19.npy\n"
     ]
    },
    {
     "name": "stderr",
     "output_type": "stream",
     "text": [
      "0.00b [00:00, ?b/s]\n"
     ]
    },
    {
     "name": "stdout",
     "output_type": "stream",
     "text": [
      "downloading /n/data1/hms/neurobio/sabatini/rich/analysis/eye_laser_trace_extraction/mouse_0916N/masks/20231030/mask_cam42023-10-30T11_41_09.npy   to   /media/rich/bigSSD/analysis_data/face_rhythm/mouse_0916N/eye_laser_trace_extraction/traces/masks/20231030/mask_cam42023-10-30T11_41_09.npy\n"
     ]
    },
    {
     "name": "stderr",
     "output_type": "stream",
     "text": [
      "0.00b [00:00, ?b/s]\n"
     ]
    },
    {
     "name": "stdout",
     "output_type": "stream",
     "text": [
      "downloading /n/data1/hms/neurobio/sabatini/rich/analysis/eye_laser_trace_extraction/mouse_0916N/masks/20231103/mask_cam42023-11-03T12_43_44.npy   to   /media/rich/bigSSD/analysis_data/face_rhythm/mouse_0916N/eye_laser_trace_extraction/traces/masks/20231103/mask_cam42023-11-03T12_43_44.npy\n"
     ]
    },
    {
     "name": "stderr",
     "output_type": "stream",
     "text": [
      "0.00b [00:00, ?b/s]\n"
     ]
    },
    {
     "name": "stdout",
     "output_type": "stream",
     "text": [
      "downloading /n/data1/hms/neurobio/sabatini/rich/analysis/eye_laser_trace_extraction/mouse_0916N/masks/20231101/mask_cam42023-11-01T11_37_02.npy   to   /media/rich/bigSSD/analysis_data/face_rhythm/mouse_0916N/eye_laser_trace_extraction/traces/masks/20231101/mask_cam42023-11-01T11_37_02.npy\n"
     ]
    },
    {
     "name": "stderr",
     "output_type": "stream",
     "text": [
      "0.00b [00:00, ?b/s]\n"
     ]
    }
   ],
   "source": [
    "sftp.get_dir(\n",
    "    source=f'/n/data1/hms/neurobio/sabatini/rich/analysis/eye_laser_trace_extraction/mouse_0916N',\n",
    "    target=f'/media/rich/bigSSD/analysis_data/face_rhythm/mouse_0916N/eye_laser_trace_extraction/traces',\n",
    ")"
   ]
  },
  {
   "cell_type": "code",
   "execution_count": null,
   "id": "590444c9",
   "metadata": {},
   "outputs": [],
   "source": []
  },
  {
   "cell_type": "code",
   "execution_count": null,
   "id": "9844b3ad",
   "metadata": {},
   "outputs": [],
   "source": []
  },
  {
   "cell_type": "markdown",
   "id": "b96e1f7f-1357-424d-a617-cf31f3c34451",
   "metadata": {},
   "source": [
    "# Download dFoF and tqm files"
   ]
  },
  {
   "cell_type": "code",
   "execution_count": 40,
   "id": "f5d90000-ea5e-450d-a21b-0a45a4b84aad",
   "metadata": {},
   "outputs": [],
   "source": [
    "dir_dFoF_and_tqm_remote = f'/n/data1/hms/neurobio/sabatini/rich/analysis/make_dFoF_and_tqm/{mouse}'\n",
    "directory_local_save = f'/media/rich/bigSSD/analysis_data/face_rhythm/{mouse}/dFoF_and_tqm/'"
   ]
  },
  {
   "cell_type": "code",
   "execution_count": 41,
   "id": "7562e2ca-ca0a-44e7-9347-c74d3534709b",
   "metadata": {
    "scrolled": true
   },
   "outputs": [
    {
     "name": "stdout",
     "output_type": "stream",
     "text": [
      "downloading /n/data1/hms/neurobio/sabatini/rich/analysis/make_dFoF_and_tqm/mouse_0403L/20230804/parameters_batch.json   to   /media/rich/bigSSD/analysis_data/face_rhythm/mouse_0403L/dFoF_and_tqm/20230804/parameters_batch.json\n"
     ]
    },
    {
     "name": "stderr",
     "output_type": "stream",
     "text": [
      "0.00b [00:00, ?b/s]\n"
     ]
    },
    {
     "name": "stdout",
     "output_type": "stream",
     "text": [
      "downloading /n/data1/hms/neurobio/sabatini/rich/analysis/make_dFoF_and_tqm/mouse_0403L/20230804/jobNum_0/print_log_16805961.log   to   /media/rich/bigSSD/analysis_data/face_rhythm/mouse_0403L/dFoF_and_tqm/20230804/jobNum_0/print_log_16805961.log\n"
     ]
    },
    {
     "name": "stderr",
     "output_type": "stream",
     "text": [
      "0.00b [00:00, ?b/s]\n"
     ]
    },
    {
     "name": "stdout",
     "output_type": "stream",
     "text": [
      "downloading /n/data1/hms/neurobio/sabatini/rich/analysis/make_dFoF_and_tqm/mouse_0403L/20230804/jobNum_0/tqm.pkl   to   /media/rich/bigSSD/analysis_data/face_rhythm/mouse_0403L/dFoF_and_tqm/20230804/jobNum_0/tqm.pkl\n"
     ]
    },
    {
     "name": "stderr",
     "output_type": "stream",
     "text": [
      "0.00b [00:00, ?b/s]\n"
     ]
    },
    {
     "name": "stdout",
     "output_type": "stream",
     "text": [
      "downloading /n/data1/hms/neurobio/sabatini/rich/analysis/make_dFoF_and_tqm/mouse_0403L/20230804/jobNum_0/params.json   to   /media/rich/bigSSD/analysis_data/face_rhythm/mouse_0403L/dFoF_and_tqm/20230804/jobNum_0/params.json\n"
     ]
    },
    {
     "name": "stderr",
     "output_type": "stream",
     "text": [
      "0.00b [00:00, ?b/s]\n"
     ]
    },
    {
     "name": "stdout",
     "output_type": "stream",
     "text": [
      "downloading /n/data1/hms/neurobio/sabatini/rich/analysis/make_dFoF_and_tqm/mouse_0403L/20230804/jobNum_0/dFoF.npy   to   /media/rich/bigSSD/analysis_data/face_rhythm/mouse_0403L/dFoF_and_tqm/20230804/jobNum_0/dFoF.npy\n"
     ]
    },
    {
     "name": "stderr",
     "output_type": "stream",
     "text": [
      "0.00b [00:25, ?b/s]\n"
     ]
    },
    {
     "name": "stdout",
     "output_type": "stream",
     "text": [
      "downloading /n/data1/hms/neurobio/sabatini/rich/analysis/make_dFoF_and_tqm/mouse_0403L/20230804/jobNum_0/make_dFoF_and_tqm.py   to   /media/rich/bigSSD/analysis_data/face_rhythm/mouse_0403L/dFoF_and_tqm/20230804/jobNum_0/make_dFoF_and_tqm.py\n"
     ]
    },
    {
     "name": "stderr",
     "output_type": "stream",
     "text": [
      "0.00b [00:00, ?b/s]\n"
     ]
    },
    {
     "name": "stdout",
     "output_type": "stream",
     "text": [
      "downloading /n/data1/hms/neurobio/sabatini/rich/analysis/make_dFoF_and_tqm/mouse_0403L/20230804/jobNum_0/iscell_tqm.npy   to   /media/rich/bigSSD/analysis_data/face_rhythm/mouse_0403L/dFoF_and_tqm/20230804/jobNum_0/iscell_tqm.npy\n"
     ]
    },
    {
     "name": "stderr",
     "output_type": "stream",
     "text": [
      "0.00b [00:00, ?b/s]\n"
     ]
    },
    {
     "name": "stdout",
     "output_type": "stream",
     "text": [
      "downloading /n/data1/hms/neurobio/sabatini/rich/analysis/make_dFoF_and_tqm/mouse_0403L/20230804/jobNum_0/sbatch_config.sh   to   /media/rich/bigSSD/analysis_data/face_rhythm/mouse_0403L/dFoF_and_tqm/20230804/jobNum_0/sbatch_config.sh\n"
     ]
    },
    {
     "name": "stderr",
     "output_type": "stream",
     "text": [
      "0.00b [00:00, ?b/s]\n"
     ]
    },
    {
     "name": "stdout",
     "output_type": "stream",
     "text": [
      "downloading /n/data1/hms/neurobio/sabatini/rich/analysis/make_dFoF_and_tqm/mouse_0403L/20230804/make_dFoF_and_tqm.py   to   /media/rich/bigSSD/analysis_data/face_rhythm/mouse_0403L/dFoF_and_tqm/20230804/make_dFoF_and_tqm.py\n"
     ]
    },
    {
     "name": "stderr",
     "output_type": "stream",
     "text": [
      "0.00b [00:00, ?b/s]\n"
     ]
    },
    {
     "name": "stdout",
     "output_type": "stream",
     "text": [
      "downloading /n/data1/hms/neurobio/sabatini/rich/analysis/make_dFoF_and_tqm/mouse_0403L/20230804/dispatcher.py   to   /media/rich/bigSSD/analysis_data/face_rhythm/mouse_0403L/dFoF_and_tqm/20230804/dispatcher.py\n"
     ]
    },
    {
     "name": "stderr",
     "output_type": "stream",
     "text": [
      "0.00b [00:00, ?b/s]\n"
     ]
    },
    {
     "name": "stdout",
     "output_type": "stream",
     "text": [
      "downloading /n/data1/hms/neurobio/sabatini/rich/analysis/make_dFoF_and_tqm/mouse_0403L/20230804/notes.txt   to   /media/rich/bigSSD/analysis_data/face_rhythm/mouse_0403L/dFoF_and_tqm/20230804/notes.txt\n"
     ]
    },
    {
     "name": "stderr",
     "output_type": "stream",
     "text": [
      "0.00b [00:00, ?b/s]\n"
     ]
    },
    {
     "name": "stdout",
     "output_type": "stream",
     "text": [
      "downloading /n/data1/hms/neurobio/sabatini/rich/analysis/make_dFoF_and_tqm/mouse_0403L/20230726/parameters_batch.json   to   /media/rich/bigSSD/analysis_data/face_rhythm/mouse_0403L/dFoF_and_tqm/20230726/parameters_batch.json\n"
     ]
    },
    {
     "name": "stderr",
     "output_type": "stream",
     "text": [
      "0.00b [00:00, ?b/s]\n"
     ]
    },
    {
     "name": "stdout",
     "output_type": "stream",
     "text": [
      "downloading /n/data1/hms/neurobio/sabatini/rich/analysis/make_dFoF_and_tqm/mouse_0403L/20230726/jobNum_0/tqm.pkl   to   /media/rich/bigSSD/analysis_data/face_rhythm/mouse_0403L/dFoF_and_tqm/20230726/jobNum_0/tqm.pkl\n"
     ]
    },
    {
     "name": "stderr",
     "output_type": "stream",
     "text": [
      "0.00b [00:00, ?b/s]\n"
     ]
    },
    {
     "name": "stdout",
     "output_type": "stream",
     "text": [
      "downloading /n/data1/hms/neurobio/sabatini/rich/analysis/make_dFoF_and_tqm/mouse_0403L/20230726/jobNum_0/params.json   to   /media/rich/bigSSD/analysis_data/face_rhythm/mouse_0403L/dFoF_and_tqm/20230726/jobNum_0/params.json\n"
     ]
    },
    {
     "name": "stderr",
     "output_type": "stream",
     "text": [
      "0.00b [00:00, ?b/s]\n"
     ]
    },
    {
     "name": "stdout",
     "output_type": "stream",
     "text": [
      "downloading /n/data1/hms/neurobio/sabatini/rich/analysis/make_dFoF_and_tqm/mouse_0403L/20230726/jobNum_0/dFoF.npy   to   /media/rich/bigSSD/analysis_data/face_rhythm/mouse_0403L/dFoF_and_tqm/20230726/jobNum_0/dFoF.npy\n"
     ]
    },
    {
     "name": "stderr",
     "output_type": "stream",
     "text": [
      "0.00b [00:26, ?b/s]\n"
     ]
    },
    {
     "name": "stdout",
     "output_type": "stream",
     "text": [
      "downloading /n/data1/hms/neurobio/sabatini/rich/analysis/make_dFoF_and_tqm/mouse_0403L/20230726/jobNum_0/print_log_16805893.log   to   /media/rich/bigSSD/analysis_data/face_rhythm/mouse_0403L/dFoF_and_tqm/20230726/jobNum_0/print_log_16805893.log\n"
     ]
    },
    {
     "name": "stderr",
     "output_type": "stream",
     "text": [
      "0.00b [00:00, ?b/s]\n"
     ]
    },
    {
     "name": "stdout",
     "output_type": "stream",
     "text": [
      "downloading /n/data1/hms/neurobio/sabatini/rich/analysis/make_dFoF_and_tqm/mouse_0403L/20230726/jobNum_0/make_dFoF_and_tqm.py   to   /media/rich/bigSSD/analysis_data/face_rhythm/mouse_0403L/dFoF_and_tqm/20230726/jobNum_0/make_dFoF_and_tqm.py\n"
     ]
    },
    {
     "name": "stderr",
     "output_type": "stream",
     "text": [
      "0.00b [00:00, ?b/s]\n"
     ]
    },
    {
     "name": "stdout",
     "output_type": "stream",
     "text": [
      "downloading /n/data1/hms/neurobio/sabatini/rich/analysis/make_dFoF_and_tqm/mouse_0403L/20230726/jobNum_0/iscell_tqm.npy   to   /media/rich/bigSSD/analysis_data/face_rhythm/mouse_0403L/dFoF_and_tqm/20230726/jobNum_0/iscell_tqm.npy\n"
     ]
    },
    {
     "name": "stderr",
     "output_type": "stream",
     "text": [
      "0.00b [00:00, ?b/s]\n"
     ]
    },
    {
     "name": "stdout",
     "output_type": "stream",
     "text": [
      "downloading /n/data1/hms/neurobio/sabatini/rich/analysis/make_dFoF_and_tqm/mouse_0403L/20230726/jobNum_0/sbatch_config.sh   to   /media/rich/bigSSD/analysis_data/face_rhythm/mouse_0403L/dFoF_and_tqm/20230726/jobNum_0/sbatch_config.sh\n"
     ]
    },
    {
     "name": "stderr",
     "output_type": "stream",
     "text": [
      "0.00b [00:00, ?b/s]\n"
     ]
    },
    {
     "name": "stdout",
     "output_type": "stream",
     "text": [
      "downloading /n/data1/hms/neurobio/sabatini/rich/analysis/make_dFoF_and_tqm/mouse_0403L/20230726/make_dFoF_and_tqm.py   to   /media/rich/bigSSD/analysis_data/face_rhythm/mouse_0403L/dFoF_and_tqm/20230726/make_dFoF_and_tqm.py\n"
     ]
    },
    {
     "name": "stderr",
     "output_type": "stream",
     "text": [
      "0.00b [00:00, ?b/s]\n"
     ]
    },
    {
     "name": "stdout",
     "output_type": "stream",
     "text": [
      "downloading /n/data1/hms/neurobio/sabatini/rich/analysis/make_dFoF_and_tqm/mouse_0403L/20230726/dispatcher.py   to   /media/rich/bigSSD/analysis_data/face_rhythm/mouse_0403L/dFoF_and_tqm/20230726/dispatcher.py\n"
     ]
    },
    {
     "name": "stderr",
     "output_type": "stream",
     "text": [
      "0.00b [00:00, ?b/s]\n"
     ]
    },
    {
     "name": "stdout",
     "output_type": "stream",
     "text": [
      "downloading /n/data1/hms/neurobio/sabatini/rich/analysis/make_dFoF_and_tqm/mouse_0403L/20230726/notes.txt   to   /media/rich/bigSSD/analysis_data/face_rhythm/mouse_0403L/dFoF_and_tqm/20230726/notes.txt\n"
     ]
    },
    {
     "name": "stderr",
     "output_type": "stream",
     "text": [
      "0.00b [00:00, ?b/s]\n"
     ]
    },
    {
     "name": "stdout",
     "output_type": "stream",
     "text": [
      "downloading /n/data1/hms/neurobio/sabatini/rich/analysis/make_dFoF_and_tqm/mouse_0403L/20230708/parameters_batch.json   to   /media/rich/bigSSD/analysis_data/face_rhythm/mouse_0403L/dFoF_and_tqm/20230708/parameters_batch.json\n"
     ]
    },
    {
     "name": "stderr",
     "output_type": "stream",
     "text": [
      "0.00b [00:00, ?b/s]\n"
     ]
    },
    {
     "name": "stdout",
     "output_type": "stream",
     "text": [
      "downloading /n/data1/hms/neurobio/sabatini/rich/analysis/make_dFoF_and_tqm/mouse_0403L/20230708/jobNum_0/tqm.pkl   to   /media/rich/bigSSD/analysis_data/face_rhythm/mouse_0403L/dFoF_and_tqm/20230708/jobNum_0/tqm.pkl\n"
     ]
    },
    {
     "name": "stderr",
     "output_type": "stream",
     "text": [
      "0.00b [00:00, ?b/s]\n"
     ]
    },
    {
     "name": "stdout",
     "output_type": "stream",
     "text": [
      "downloading /n/data1/hms/neurobio/sabatini/rich/analysis/make_dFoF_and_tqm/mouse_0403L/20230708/jobNum_0/params.json   to   /media/rich/bigSSD/analysis_data/face_rhythm/mouse_0403L/dFoF_and_tqm/20230708/jobNum_0/params.json\n"
     ]
    },
    {
     "name": "stderr",
     "output_type": "stream",
     "text": [
      "0.00b [00:00, ?b/s]\n"
     ]
    },
    {
     "name": "stdout",
     "output_type": "stream",
     "text": [
      "downloading /n/data1/hms/neurobio/sabatini/rich/analysis/make_dFoF_and_tqm/mouse_0403L/20230708/jobNum_0/dFoF.npy   to   /media/rich/bigSSD/analysis_data/face_rhythm/mouse_0403L/dFoF_and_tqm/20230708/jobNum_0/dFoF.npy\n"
     ]
    },
    {
     "name": "stderr",
     "output_type": "stream",
     "text": [
      "0.00b [00:22, ?b/s]\n"
     ]
    },
    {
     "name": "stdout",
     "output_type": "stream",
     "text": [
      "downloading /n/data1/hms/neurobio/sabatini/rich/analysis/make_dFoF_and_tqm/mouse_0403L/20230708/jobNum_0/print_log_16805777.log   to   /media/rich/bigSSD/analysis_data/face_rhythm/mouse_0403L/dFoF_and_tqm/20230708/jobNum_0/print_log_16805777.log\n"
     ]
    },
    {
     "name": "stderr",
     "output_type": "stream",
     "text": [
      "0.00b [00:00, ?b/s]\n"
     ]
    },
    {
     "name": "stdout",
     "output_type": "stream",
     "text": [
      "downloading /n/data1/hms/neurobio/sabatini/rich/analysis/make_dFoF_and_tqm/mouse_0403L/20230708/jobNum_0/make_dFoF_and_tqm.py   to   /media/rich/bigSSD/analysis_data/face_rhythm/mouse_0403L/dFoF_and_tqm/20230708/jobNum_0/make_dFoF_and_tqm.py\n"
     ]
    },
    {
     "name": "stderr",
     "output_type": "stream",
     "text": [
      "0.00b [00:00, ?b/s]\n"
     ]
    },
    {
     "name": "stdout",
     "output_type": "stream",
     "text": [
      "downloading /n/data1/hms/neurobio/sabatini/rich/analysis/make_dFoF_and_tqm/mouse_0403L/20230708/jobNum_0/iscell_tqm.npy   to   /media/rich/bigSSD/analysis_data/face_rhythm/mouse_0403L/dFoF_and_tqm/20230708/jobNum_0/iscell_tqm.npy\n"
     ]
    },
    {
     "name": "stderr",
     "output_type": "stream",
     "text": [
      "0.00b [00:00, ?b/s]\n"
     ]
    },
    {
     "name": "stdout",
     "output_type": "stream",
     "text": [
      "downloading /n/data1/hms/neurobio/sabatini/rich/analysis/make_dFoF_and_tqm/mouse_0403L/20230708/jobNum_0/sbatch_config.sh   to   /media/rich/bigSSD/analysis_data/face_rhythm/mouse_0403L/dFoF_and_tqm/20230708/jobNum_0/sbatch_config.sh\n"
     ]
    },
    {
     "name": "stderr",
     "output_type": "stream",
     "text": [
      "0.00b [00:00, ?b/s]\n"
     ]
    },
    {
     "name": "stdout",
     "output_type": "stream",
     "text": [
      "downloading /n/data1/hms/neurobio/sabatini/rich/analysis/make_dFoF_and_tqm/mouse_0403L/20230708/make_dFoF_and_tqm.py   to   /media/rich/bigSSD/analysis_data/face_rhythm/mouse_0403L/dFoF_and_tqm/20230708/make_dFoF_and_tqm.py\n"
     ]
    },
    {
     "name": "stderr",
     "output_type": "stream",
     "text": [
      "0.00b [00:00, ?b/s]\n"
     ]
    },
    {
     "name": "stdout",
     "output_type": "stream",
     "text": [
      "downloading /n/data1/hms/neurobio/sabatini/rich/analysis/make_dFoF_and_tqm/mouse_0403L/20230708/dispatcher.py   to   /media/rich/bigSSD/analysis_data/face_rhythm/mouse_0403L/dFoF_and_tqm/20230708/dispatcher.py\n"
     ]
    },
    {
     "name": "stderr",
     "output_type": "stream",
     "text": [
      "0.00b [00:00, ?b/s]\n"
     ]
    },
    {
     "name": "stdout",
     "output_type": "stream",
     "text": [
      "downloading /n/data1/hms/neurobio/sabatini/rich/analysis/make_dFoF_and_tqm/mouse_0403L/20230708/notes.txt   to   /media/rich/bigSSD/analysis_data/face_rhythm/mouse_0403L/dFoF_and_tqm/20230708/notes.txt\n"
     ]
    },
    {
     "name": "stderr",
     "output_type": "stream",
     "text": [
      "0.00b [00:00, ?b/s]\n"
     ]
    },
    {
     "name": "stdout",
     "output_type": "stream",
     "text": [
      "downloading /n/data1/hms/neurobio/sabatini/rich/analysis/make_dFoF_and_tqm/mouse_0403L/20230808/parameters_batch.json   to   /media/rich/bigSSD/analysis_data/face_rhythm/mouse_0403L/dFoF_and_tqm/20230808/parameters_batch.json\n"
     ]
    },
    {
     "name": "stderr",
     "output_type": "stream",
     "text": [
      "0.00b [00:00, ?b/s]\n"
     ]
    },
    {
     "name": "stdout",
     "output_type": "stream",
     "text": [
      "downloading /n/data1/hms/neurobio/sabatini/rich/analysis/make_dFoF_and_tqm/mouse_0403L/20230808/jobNum_0/tqm.pkl   to   /media/rich/bigSSD/analysis_data/face_rhythm/mouse_0403L/dFoF_and_tqm/20230808/jobNum_0/tqm.pkl\n"
     ]
    },
    {
     "name": "stderr",
     "output_type": "stream",
     "text": [
      "0.00b [00:00, ?b/s]\n"
     ]
    },
    {
     "name": "stdout",
     "output_type": "stream",
     "text": [
      "downloading /n/data1/hms/neurobio/sabatini/rich/analysis/make_dFoF_and_tqm/mouse_0403L/20230808/jobNum_0/params.json   to   /media/rich/bigSSD/analysis_data/face_rhythm/mouse_0403L/dFoF_and_tqm/20230808/jobNum_0/params.json\n"
     ]
    },
    {
     "name": "stderr",
     "output_type": "stream",
     "text": [
      "0.00b [00:00, ?b/s]\n"
     ]
    },
    {
     "name": "stdout",
     "output_type": "stream",
     "text": [
      "downloading /n/data1/hms/neurobio/sabatini/rich/analysis/make_dFoF_and_tqm/mouse_0403L/20230808/jobNum_0/dFoF.npy   to   /media/rich/bigSSD/analysis_data/face_rhythm/mouse_0403L/dFoF_and_tqm/20230808/jobNum_0/dFoF.npy\n"
     ]
    },
    {
     "name": "stderr",
     "output_type": "stream",
     "text": [
      "0.00b [00:30, ?b/s]\n"
     ]
    },
    {
     "name": "stdout",
     "output_type": "stream",
     "text": [
      "downloading /n/data1/hms/neurobio/sabatini/rich/analysis/make_dFoF_and_tqm/mouse_0403L/20230808/jobNum_0/make_dFoF_and_tqm.py   to   /media/rich/bigSSD/analysis_data/face_rhythm/mouse_0403L/dFoF_and_tqm/20230808/jobNum_0/make_dFoF_and_tqm.py\n"
     ]
    },
    {
     "name": "stderr",
     "output_type": "stream",
     "text": [
      "0.00b [00:00, ?b/s]\n"
     ]
    },
    {
     "name": "stdout",
     "output_type": "stream",
     "text": [
      "downloading /n/data1/hms/neurobio/sabatini/rich/analysis/make_dFoF_and_tqm/mouse_0403L/20230808/jobNum_0/iscell_tqm.npy   to   /media/rich/bigSSD/analysis_data/face_rhythm/mouse_0403L/dFoF_and_tqm/20230808/jobNum_0/iscell_tqm.npy\n"
     ]
    },
    {
     "name": "stderr",
     "output_type": "stream",
     "text": [
      "0.00b [00:00, ?b/s]\n"
     ]
    },
    {
     "name": "stdout",
     "output_type": "stream",
     "text": [
      "downloading /n/data1/hms/neurobio/sabatini/rich/analysis/make_dFoF_and_tqm/mouse_0403L/20230808/jobNum_0/print_log_16805976.log   to   /media/rich/bigSSD/analysis_data/face_rhythm/mouse_0403L/dFoF_and_tqm/20230808/jobNum_0/print_log_16805976.log\n"
     ]
    },
    {
     "name": "stderr",
     "output_type": "stream",
     "text": [
      "0.00b [00:00, ?b/s]\n"
     ]
    },
    {
     "name": "stdout",
     "output_type": "stream",
     "text": [
      "downloading /n/data1/hms/neurobio/sabatini/rich/analysis/make_dFoF_and_tqm/mouse_0403L/20230808/jobNum_0/sbatch_config.sh   to   /media/rich/bigSSD/analysis_data/face_rhythm/mouse_0403L/dFoF_and_tqm/20230808/jobNum_0/sbatch_config.sh\n"
     ]
    },
    {
     "name": "stderr",
     "output_type": "stream",
     "text": [
      "0.00b [00:00, ?b/s]\n"
     ]
    },
    {
     "name": "stdout",
     "output_type": "stream",
     "text": [
      "downloading /n/data1/hms/neurobio/sabatini/rich/analysis/make_dFoF_and_tqm/mouse_0403L/20230808/make_dFoF_and_tqm.py   to   /media/rich/bigSSD/analysis_data/face_rhythm/mouse_0403L/dFoF_and_tqm/20230808/make_dFoF_and_tqm.py\n"
     ]
    },
    {
     "name": "stderr",
     "output_type": "stream",
     "text": [
      "0.00b [00:00, ?b/s]\n"
     ]
    },
    {
     "name": "stdout",
     "output_type": "stream",
     "text": [
      "downloading /n/data1/hms/neurobio/sabatini/rich/analysis/make_dFoF_and_tqm/mouse_0403L/20230808/dispatcher.py   to   /media/rich/bigSSD/analysis_data/face_rhythm/mouse_0403L/dFoF_and_tqm/20230808/dispatcher.py\n"
     ]
    },
    {
     "name": "stderr",
     "output_type": "stream",
     "text": [
      "0.00b [00:00, ?b/s]\n"
     ]
    },
    {
     "name": "stdout",
     "output_type": "stream",
     "text": [
      "downloading /n/data1/hms/neurobio/sabatini/rich/analysis/make_dFoF_and_tqm/mouse_0403L/20230808/notes.txt   to   /media/rich/bigSSD/analysis_data/face_rhythm/mouse_0403L/dFoF_and_tqm/20230808/notes.txt\n"
     ]
    },
    {
     "name": "stderr",
     "output_type": "stream",
     "text": [
      "0.00b [00:00, ?b/s]\n"
     ]
    },
    {
     "name": "stdout",
     "output_type": "stream",
     "text": [
      "downloading /n/data1/hms/neurobio/sabatini/rich/analysis/make_dFoF_and_tqm/mouse_0403L/20230711/parameters_batch.json   to   /media/rich/bigSSD/analysis_data/face_rhythm/mouse_0403L/dFoF_and_tqm/20230711/parameters_batch.json\n"
     ]
    },
    {
     "name": "stderr",
     "output_type": "stream",
     "text": [
      "0.00b [00:00, ?b/s]\n"
     ]
    },
    {
     "name": "stdout",
     "output_type": "stream",
     "text": [
      "downloading /n/data1/hms/neurobio/sabatini/rich/analysis/make_dFoF_and_tqm/mouse_0403L/20230711/jobNum_0/tqm.pkl   to   /media/rich/bigSSD/analysis_data/face_rhythm/mouse_0403L/dFoF_and_tqm/20230711/jobNum_0/tqm.pkl\n"
     ]
    },
    {
     "name": "stderr",
     "output_type": "stream",
     "text": [
      "0.00b [00:00, ?b/s]\n"
     ]
    },
    {
     "name": "stdout",
     "output_type": "stream",
     "text": [
      "downloading /n/data1/hms/neurobio/sabatini/rich/analysis/make_dFoF_and_tqm/mouse_0403L/20230711/jobNum_0/params.json   to   /media/rich/bigSSD/analysis_data/face_rhythm/mouse_0403L/dFoF_and_tqm/20230711/jobNum_0/params.json\n"
     ]
    },
    {
     "name": "stderr",
     "output_type": "stream",
     "text": [
      "0.00b [00:00, ?b/s]"
     ]
    },
    {
     "name": "stdout",
     "output_type": "stream",
     "text": [
      "downloading /n/data1/hms/neurobio/sabatini/rich/analysis/make_dFoF_and_tqm/mouse_0403L/20230711/jobNum_0/dFoF.npy   to   /media/rich/bigSSD/analysis_data/face_rhythm/mouse_0403L/dFoF_and_tqm/20230711/jobNum_0/dFoF.npy"
     ]
    },
    {
     "name": "stderr",
     "output_type": "stream",
     "text": [
      "\n"
     ]
    },
    {
     "name": "stdout",
     "output_type": "stream",
     "text": [
      "\n"
     ]
    },
    {
     "name": "stderr",
     "output_type": "stream",
     "text": [
      "0.00b [00:24, ?b/s]\n"
     ]
    },
    {
     "name": "stdout",
     "output_type": "stream",
     "text": [
      "downloading /n/data1/hms/neurobio/sabatini/rich/analysis/make_dFoF_and_tqm/mouse_0403L/20230711/jobNum_0/make_dFoF_and_tqm.py   to   /media/rich/bigSSD/analysis_data/face_rhythm/mouse_0403L/dFoF_and_tqm/20230711/jobNum_0/make_dFoF_and_tqm.py\n"
     ]
    },
    {
     "name": "stderr",
     "output_type": "stream",
     "text": [
      "0.00b [00:00, ?b/s]\n"
     ]
    },
    {
     "name": "stdout",
     "output_type": "stream",
     "text": [
      "downloading /n/data1/hms/neurobio/sabatini/rich/analysis/make_dFoF_and_tqm/mouse_0403L/20230711/jobNum_0/print_log_16805789.log   to   /media/rich/bigSSD/analysis_data/face_rhythm/mouse_0403L/dFoF_and_tqm/20230711/jobNum_0/print_log_16805789.log\n"
     ]
    },
    {
     "name": "stderr",
     "output_type": "stream",
     "text": [
      "0.00b [00:00, ?b/s]\n"
     ]
    },
    {
     "name": "stdout",
     "output_type": "stream",
     "text": [
      "downloading /n/data1/hms/neurobio/sabatini/rich/analysis/make_dFoF_and_tqm/mouse_0403L/20230711/jobNum_0/iscell_tqm.npy   to   /media/rich/bigSSD/analysis_data/face_rhythm/mouse_0403L/dFoF_and_tqm/20230711/jobNum_0/iscell_tqm.npy\n"
     ]
    },
    {
     "name": "stderr",
     "output_type": "stream",
     "text": [
      "0.00b [00:00, ?b/s]\n"
     ]
    },
    {
     "name": "stdout",
     "output_type": "stream",
     "text": [
      "downloading /n/data1/hms/neurobio/sabatini/rich/analysis/make_dFoF_and_tqm/mouse_0403L/20230711/jobNum_0/sbatch_config.sh   to   /media/rich/bigSSD/analysis_data/face_rhythm/mouse_0403L/dFoF_and_tqm/20230711/jobNum_0/sbatch_config.sh\n"
     ]
    },
    {
     "name": "stderr",
     "output_type": "stream",
     "text": [
      "0.00b [00:00, ?b/s]\n"
     ]
    },
    {
     "name": "stdout",
     "output_type": "stream",
     "text": [
      "downloading /n/data1/hms/neurobio/sabatini/rich/analysis/make_dFoF_and_tqm/mouse_0403L/20230711/make_dFoF_and_tqm.py   to   /media/rich/bigSSD/analysis_data/face_rhythm/mouse_0403L/dFoF_and_tqm/20230711/make_dFoF_and_tqm.py\n"
     ]
    },
    {
     "name": "stderr",
     "output_type": "stream",
     "text": [
      "0.00b [00:00, ?b/s]\n"
     ]
    },
    {
     "name": "stdout",
     "output_type": "stream",
     "text": [
      "downloading /n/data1/hms/neurobio/sabatini/rich/analysis/make_dFoF_and_tqm/mouse_0403L/20230711/dispatcher.py   to   /media/rich/bigSSD/analysis_data/face_rhythm/mouse_0403L/dFoF_and_tqm/20230711/dispatcher.py\n"
     ]
    },
    {
     "name": "stderr",
     "output_type": "stream",
     "text": [
      "0.00b [00:00, ?b/s]\n"
     ]
    },
    {
     "name": "stdout",
     "output_type": "stream",
     "text": [
      "downloading /n/data1/hms/neurobio/sabatini/rich/analysis/make_dFoF_and_tqm/mouse_0403L/20230711/notes.txt   to   /media/rich/bigSSD/analysis_data/face_rhythm/mouse_0403L/dFoF_and_tqm/20230711/notes.txt\n"
     ]
    },
    {
     "name": "stderr",
     "output_type": "stream",
     "text": [
      "0.00b [00:00, ?b/s]\n"
     ]
    },
    {
     "name": "stdout",
     "output_type": "stream",
     "text": [
      "downloading /n/data1/hms/neurobio/sabatini/rich/analysis/make_dFoF_and_tqm/mouse_0403L/20230725/parameters_batch.json   to   /media/rich/bigSSD/analysis_data/face_rhythm/mouse_0403L/dFoF_and_tqm/20230725/parameters_batch.json\n"
     ]
    },
    {
     "name": "stderr",
     "output_type": "stream",
     "text": [
      "0.00b [00:00, ?b/s]\n"
     ]
    },
    {
     "name": "stdout",
     "output_type": "stream",
     "text": [
      "downloading /n/data1/hms/neurobio/sabatini/rich/analysis/make_dFoF_and_tqm/mouse_0403L/20230725/jobNum_0/tqm.pkl   to   /media/rich/bigSSD/analysis_data/face_rhythm/mouse_0403L/dFoF_and_tqm/20230725/jobNum_0/tqm.pkl\n"
     ]
    },
    {
     "name": "stderr",
     "output_type": "stream",
     "text": [
      "0.00b [00:00, ?b/s]\n"
     ]
    },
    {
     "name": "stdout",
     "output_type": "stream",
     "text": [
      "downloading /n/data1/hms/neurobio/sabatini/rich/analysis/make_dFoF_and_tqm/mouse_0403L/20230725/jobNum_0/params.json   to   /media/rich/bigSSD/analysis_data/face_rhythm/mouse_0403L/dFoF_and_tqm/20230725/jobNum_0/params.json\n"
     ]
    },
    {
     "name": "stderr",
     "output_type": "stream",
     "text": [
      "0.00b [00:00, ?b/s]\n"
     ]
    },
    {
     "name": "stdout",
     "output_type": "stream",
     "text": [
      "downloading /n/data1/hms/neurobio/sabatini/rich/analysis/make_dFoF_and_tqm/mouse_0403L/20230725/jobNum_0/dFoF.npy   to   /media/rich/bigSSD/analysis_data/face_rhythm/mouse_0403L/dFoF_and_tqm/20230725/jobNum_0/dFoF.npy\n"
     ]
    },
    {
     "name": "stderr",
     "output_type": "stream",
     "text": [
      "0.00b [00:30, ?b/s]\n"
     ]
    },
    {
     "name": "stdout",
     "output_type": "stream",
     "text": [
      "downloading /n/data1/hms/neurobio/sabatini/rich/analysis/make_dFoF_and_tqm/mouse_0403L/20230725/jobNum_0/print_log_16805890.log   to   /media/rich/bigSSD/analysis_data/face_rhythm/mouse_0403L/dFoF_and_tqm/20230725/jobNum_0/print_log_16805890.log\n"
     ]
    },
    {
     "name": "stderr",
     "output_type": "stream",
     "text": [
      "0.00b [00:00, ?b/s]\n"
     ]
    },
    {
     "name": "stdout",
     "output_type": "stream",
     "text": [
      "downloading /n/data1/hms/neurobio/sabatini/rich/analysis/make_dFoF_and_tqm/mouse_0403L/20230725/jobNum_0/make_dFoF_and_tqm.py   to   /media/rich/bigSSD/analysis_data/face_rhythm/mouse_0403L/dFoF_and_tqm/20230725/jobNum_0/make_dFoF_and_tqm.py\n"
     ]
    },
    {
     "name": "stderr",
     "output_type": "stream",
     "text": [
      "0.00b [00:00, ?b/s]\n"
     ]
    },
    {
     "name": "stdout",
     "output_type": "stream",
     "text": [
      "downloading /n/data1/hms/neurobio/sabatini/rich/analysis/make_dFoF_and_tqm/mouse_0403L/20230725/jobNum_0/iscell_tqm.npy   to   /media/rich/bigSSD/analysis_data/face_rhythm/mouse_0403L/dFoF_and_tqm/20230725/jobNum_0/iscell_tqm.npy\n"
     ]
    },
    {
     "name": "stderr",
     "output_type": "stream",
     "text": [
      "0.00b [00:00, ?b/s]\n"
     ]
    },
    {
     "name": "stdout",
     "output_type": "stream",
     "text": [
      "downloading /n/data1/hms/neurobio/sabatini/rich/analysis/make_dFoF_and_tqm/mouse_0403L/20230725/jobNum_0/sbatch_config.sh   to   /media/rich/bigSSD/analysis_data/face_rhythm/mouse_0403L/dFoF_and_tqm/20230725/jobNum_0/sbatch_config.sh\n"
     ]
    },
    {
     "name": "stderr",
     "output_type": "stream",
     "text": [
      "0.00b [00:00, ?b/s]\n"
     ]
    },
    {
     "name": "stdout",
     "output_type": "stream",
     "text": [
      "downloading /n/data1/hms/neurobio/sabatini/rich/analysis/make_dFoF_and_tqm/mouse_0403L/20230725/make_dFoF_and_tqm.py   to   /media/rich/bigSSD/analysis_data/face_rhythm/mouse_0403L/dFoF_and_tqm/20230725/make_dFoF_and_tqm.py\n"
     ]
    },
    {
     "name": "stderr",
     "output_type": "stream",
     "text": [
      "0.00b [00:00, ?b/s]\n"
     ]
    },
    {
     "name": "stdout",
     "output_type": "stream",
     "text": [
      "downloading /n/data1/hms/neurobio/sabatini/rich/analysis/make_dFoF_and_tqm/mouse_0403L/20230725/dispatcher.py   to   /media/rich/bigSSD/analysis_data/face_rhythm/mouse_0403L/dFoF_and_tqm/20230725/dispatcher.py\n"
     ]
    },
    {
     "name": "stderr",
     "output_type": "stream",
     "text": [
      "0.00b [00:00, ?b/s]\n"
     ]
    },
    {
     "name": "stdout",
     "output_type": "stream",
     "text": [
      "downloading /n/data1/hms/neurobio/sabatini/rich/analysis/make_dFoF_and_tqm/mouse_0403L/20230725/notes.txt   to   /media/rich/bigSSD/analysis_data/face_rhythm/mouse_0403L/dFoF_and_tqm/20230725/notes.txt\n"
     ]
    },
    {
     "name": "stderr",
     "output_type": "stream",
     "text": [
      "0.00b [00:00, ?b/s]\n"
     ]
    },
    {
     "name": "stdout",
     "output_type": "stream",
     "text": [
      "downloading /n/data1/hms/neurobio/sabatini/rich/analysis/make_dFoF_and_tqm/mouse_0403L/20230721/parameters_batch.json   to   /media/rich/bigSSD/analysis_data/face_rhythm/mouse_0403L/dFoF_and_tqm/20230721/parameters_batch.json\n"
     ]
    },
    {
     "name": "stderr",
     "output_type": "stream",
     "text": [
      "0.00b [00:00, ?b/s]\n"
     ]
    },
    {
     "name": "stdout",
     "output_type": "stream",
     "text": [
      "downloading /n/data1/hms/neurobio/sabatini/rich/analysis/make_dFoF_and_tqm/mouse_0403L/20230721/jobNum_0/tqm.pkl   to   /media/rich/bigSSD/analysis_data/face_rhythm/mouse_0403L/dFoF_and_tqm/20230721/jobNum_0/tqm.pkl\n"
     ]
    },
    {
     "name": "stderr",
     "output_type": "stream",
     "text": [
      "0.00b [00:00, ?b/s]\n"
     ]
    },
    {
     "name": "stdout",
     "output_type": "stream",
     "text": [
      "downloading /n/data1/hms/neurobio/sabatini/rich/analysis/make_dFoF_and_tqm/mouse_0403L/20230721/jobNum_0/params.json   to   /media/rich/bigSSD/analysis_data/face_rhythm/mouse_0403L/dFoF_and_tqm/20230721/jobNum_0/params.json\n"
     ]
    },
    {
     "name": "stderr",
     "output_type": "stream",
     "text": [
      "0.00b [00:00, ?b/s]\n"
     ]
    },
    {
     "name": "stdout",
     "output_type": "stream",
     "text": [
      "downloading /n/data1/hms/neurobio/sabatini/rich/analysis/make_dFoF_and_tqm/mouse_0403L/20230721/jobNum_0/dFoF.npy   to   /media/rich/bigSSD/analysis_data/face_rhythm/mouse_0403L/dFoF_and_tqm/20230721/jobNum_0/dFoF.npy\n"
     ]
    },
    {
     "name": "stderr",
     "output_type": "stream",
     "text": [
      "0.00b [00:26, ?b/s]\n"
     ]
    },
    {
     "name": "stdout",
     "output_type": "stream",
     "text": [
      "downloading /n/data1/hms/neurobio/sabatini/rich/analysis/make_dFoF_and_tqm/mouse_0403L/20230721/jobNum_0/print_log_16805860.log   to   /media/rich/bigSSD/analysis_data/face_rhythm/mouse_0403L/dFoF_and_tqm/20230721/jobNum_0/print_log_16805860.log\n"
     ]
    },
    {
     "name": "stderr",
     "output_type": "stream",
     "text": [
      "0.00b [00:00, ?b/s]\n"
     ]
    },
    {
     "name": "stdout",
     "output_type": "stream",
     "text": [
      "downloading /n/data1/hms/neurobio/sabatini/rich/analysis/make_dFoF_and_tqm/mouse_0403L/20230721/jobNum_0/make_dFoF_and_tqm.py   to   /media/rich/bigSSD/analysis_data/face_rhythm/mouse_0403L/dFoF_and_tqm/20230721/jobNum_0/make_dFoF_and_tqm.py\n"
     ]
    },
    {
     "name": "stderr",
     "output_type": "stream",
     "text": [
      "0.00b [00:00, ?b/s]\n"
     ]
    },
    {
     "name": "stdout",
     "output_type": "stream",
     "text": [
      "downloading /n/data1/hms/neurobio/sabatini/rich/analysis/make_dFoF_and_tqm/mouse_0403L/20230721/jobNum_0/iscell_tqm.npy   to   /media/rich/bigSSD/analysis_data/face_rhythm/mouse_0403L/dFoF_and_tqm/20230721/jobNum_0/iscell_tqm.npy\n"
     ]
    },
    {
     "name": "stderr",
     "output_type": "stream",
     "text": [
      "0.00b [00:00, ?b/s]\n"
     ]
    },
    {
     "name": "stdout",
     "output_type": "stream",
     "text": [
      "downloading /n/data1/hms/neurobio/sabatini/rich/analysis/make_dFoF_and_tqm/mouse_0403L/20230721/jobNum_0/sbatch_config.sh   to   /media/rich/bigSSD/analysis_data/face_rhythm/mouse_0403L/dFoF_and_tqm/20230721/jobNum_0/sbatch_config.sh\n"
     ]
    },
    {
     "name": "stderr",
     "output_type": "stream",
     "text": [
      "0.00b [00:00, ?b/s]\n"
     ]
    },
    {
     "name": "stdout",
     "output_type": "stream",
     "text": [
      "downloading /n/data1/hms/neurobio/sabatini/rich/analysis/make_dFoF_and_tqm/mouse_0403L/20230721/make_dFoF_and_tqm.py   to   /media/rich/bigSSD/analysis_data/face_rhythm/mouse_0403L/dFoF_and_tqm/20230721/make_dFoF_and_tqm.py\n"
     ]
    },
    {
     "name": "stderr",
     "output_type": "stream",
     "text": [
      "0.00b [00:00, ?b/s]\n"
     ]
    },
    {
     "name": "stdout",
     "output_type": "stream",
     "text": [
      "downloading /n/data1/hms/neurobio/sabatini/rich/analysis/make_dFoF_and_tqm/mouse_0403L/20230721/dispatcher.py   to   /media/rich/bigSSD/analysis_data/face_rhythm/mouse_0403L/dFoF_and_tqm/20230721/dispatcher.py\n"
     ]
    },
    {
     "name": "stderr",
     "output_type": "stream",
     "text": [
      "0.00b [00:00, ?b/s]\n"
     ]
    },
    {
     "name": "stdout",
     "output_type": "stream",
     "text": [
      "downloading /n/data1/hms/neurobio/sabatini/rich/analysis/make_dFoF_and_tqm/mouse_0403L/20230721/notes.txt   to   /media/rich/bigSSD/analysis_data/face_rhythm/mouse_0403L/dFoF_and_tqm/20230721/notes.txt\n"
     ]
    },
    {
     "name": "stderr",
     "output_type": "stream",
     "text": [
      "0.00b [00:00, ?b/s]\n"
     ]
    },
    {
     "name": "stdout",
     "output_type": "stream",
     "text": [
      "downloading /n/data1/hms/neurobio/sabatini/rich/analysis/make_dFoF_and_tqm/mouse_0403L/20230722/parameters_batch.json   to   /media/rich/bigSSD/analysis_data/face_rhythm/mouse_0403L/dFoF_and_tqm/20230722/parameters_batch.json\n"
     ]
    },
    {
     "name": "stderr",
     "output_type": "stream",
     "text": [
      "0.00b [00:00, ?b/s]\n"
     ]
    },
    {
     "name": "stdout",
     "output_type": "stream",
     "text": [
      "downloading /n/data1/hms/neurobio/sabatini/rich/analysis/make_dFoF_and_tqm/mouse_0403L/20230722/jobNum_0/tqm.pkl   to   /media/rich/bigSSD/analysis_data/face_rhythm/mouse_0403L/dFoF_and_tqm/20230722/jobNum_0/tqm.pkl\n"
     ]
    },
    {
     "name": "stderr",
     "output_type": "stream",
     "text": [
      "0.00b [00:00, ?b/s]\n"
     ]
    },
    {
     "name": "stdout",
     "output_type": "stream",
     "text": [
      "downloading /n/data1/hms/neurobio/sabatini/rich/analysis/make_dFoF_and_tqm/mouse_0403L/20230722/jobNum_0/params.json   to   /media/rich/bigSSD/analysis_data/face_rhythm/mouse_0403L/dFoF_and_tqm/20230722/jobNum_0/params.json\n"
     ]
    },
    {
     "name": "stderr",
     "output_type": "stream",
     "text": [
      "0.00b [00:00, ?b/s]\n"
     ]
    },
    {
     "name": "stdout",
     "output_type": "stream",
     "text": [
      "downloading /n/data1/hms/neurobio/sabatini/rich/analysis/make_dFoF_and_tqm/mouse_0403L/20230722/jobNum_0/dFoF.npy   to   /media/rich/bigSSD/analysis_data/face_rhythm/mouse_0403L/dFoF_and_tqm/20230722/jobNum_0/dFoF.npy\n"
     ]
    },
    {
     "name": "stderr",
     "output_type": "stream",
     "text": [
      "0.00b [00:23, ?b/s]\n"
     ]
    },
    {
     "name": "stdout",
     "output_type": "stream",
     "text": [
      "downloading /n/data1/hms/neurobio/sabatini/rich/analysis/make_dFoF_and_tqm/mouse_0403L/20230722/jobNum_0/print_log_16805861.log   to   /media/rich/bigSSD/analysis_data/face_rhythm/mouse_0403L/dFoF_and_tqm/20230722/jobNum_0/print_log_16805861.log\n"
     ]
    },
    {
     "name": "stderr",
     "output_type": "stream",
     "text": [
      "0.00b [00:00, ?b/s]\n"
     ]
    },
    {
     "name": "stdout",
     "output_type": "stream",
     "text": [
      "downloading /n/data1/hms/neurobio/sabatini/rich/analysis/make_dFoF_and_tqm/mouse_0403L/20230722/jobNum_0/make_dFoF_and_tqm.py   to   /media/rich/bigSSD/analysis_data/face_rhythm/mouse_0403L/dFoF_and_tqm/20230722/jobNum_0/make_dFoF_and_tqm.py\n"
     ]
    },
    {
     "name": "stderr",
     "output_type": "stream",
     "text": [
      "0.00b [00:00, ?b/s]\n"
     ]
    },
    {
     "name": "stdout",
     "output_type": "stream",
     "text": [
      "downloading /n/data1/hms/neurobio/sabatini/rich/analysis/make_dFoF_and_tqm/mouse_0403L/20230722/jobNum_0/iscell_tqm.npy   to   /media/rich/bigSSD/analysis_data/face_rhythm/mouse_0403L/dFoF_and_tqm/20230722/jobNum_0/iscell_tqm.npy\n"
     ]
    },
    {
     "name": "stderr",
     "output_type": "stream",
     "text": [
      "0.00b [00:00, ?b/s]\n"
     ]
    },
    {
     "name": "stdout",
     "output_type": "stream",
     "text": [
      "downloading /n/data1/hms/neurobio/sabatini/rich/analysis/make_dFoF_and_tqm/mouse_0403L/20230722/jobNum_0/sbatch_config.sh   to   /media/rich/bigSSD/analysis_data/face_rhythm/mouse_0403L/dFoF_and_tqm/20230722/jobNum_0/sbatch_config.sh\n"
     ]
    },
    {
     "name": "stderr",
     "output_type": "stream",
     "text": [
      "0.00b [00:00, ?b/s]\n"
     ]
    },
    {
     "name": "stdout",
     "output_type": "stream",
     "text": [
      "downloading /n/data1/hms/neurobio/sabatini/rich/analysis/make_dFoF_and_tqm/mouse_0403L/20230722/make_dFoF_and_tqm.py   to   /media/rich/bigSSD/analysis_data/face_rhythm/mouse_0403L/dFoF_and_tqm/20230722/make_dFoF_and_tqm.py\n"
     ]
    },
    {
     "name": "stderr",
     "output_type": "stream",
     "text": [
      "0.00b [00:00, ?b/s]\n"
     ]
    },
    {
     "name": "stdout",
     "output_type": "stream",
     "text": [
      "downloading /n/data1/hms/neurobio/sabatini/rich/analysis/make_dFoF_and_tqm/mouse_0403L/20230722/dispatcher.py   to   /media/rich/bigSSD/analysis_data/face_rhythm/mouse_0403L/dFoF_and_tqm/20230722/dispatcher.py\n"
     ]
    },
    {
     "name": "stderr",
     "output_type": "stream",
     "text": [
      "0.00b [00:00, ?b/s]\n"
     ]
    },
    {
     "name": "stdout",
     "output_type": "stream",
     "text": [
      "downloading /n/data1/hms/neurobio/sabatini/rich/analysis/make_dFoF_and_tqm/mouse_0403L/20230722/notes.txt   to   /media/rich/bigSSD/analysis_data/face_rhythm/mouse_0403L/dFoF_and_tqm/20230722/notes.txt\n"
     ]
    },
    {
     "name": "stderr",
     "output_type": "stream",
     "text": [
      "0.00b [00:00, ?b/s]\n"
     ]
    },
    {
     "name": "stdout",
     "output_type": "stream",
     "text": [
      "downloading /n/data1/hms/neurobio/sabatini/rich/analysis/make_dFoF_and_tqm/mouse_0403L/20230717/parameters_batch.json   to   /media/rich/bigSSD/analysis_data/face_rhythm/mouse_0403L/dFoF_and_tqm/20230717/parameters_batch.json\n"
     ]
    },
    {
     "name": "stderr",
     "output_type": "stream",
     "text": [
      "0.00b [00:00, ?b/s]\n"
     ]
    },
    {
     "name": "stdout",
     "output_type": "stream",
     "text": [
      "downloading /n/data1/hms/neurobio/sabatini/rich/analysis/make_dFoF_and_tqm/mouse_0403L/20230717/jobNum_0/tqm.pkl   to   /media/rich/bigSSD/analysis_data/face_rhythm/mouse_0403L/dFoF_and_tqm/20230717/jobNum_0/tqm.pkl\n"
     ]
    },
    {
     "name": "stderr",
     "output_type": "stream",
     "text": [
      "0.00b [00:00, ?b/s]\n"
     ]
    },
    {
     "name": "stdout",
     "output_type": "stream",
     "text": [
      "downloading /n/data1/hms/neurobio/sabatini/rich/analysis/make_dFoF_and_tqm/mouse_0403L/20230717/jobNum_0/params.json   to   /media/rich/bigSSD/analysis_data/face_rhythm/mouse_0403L/dFoF_and_tqm/20230717/jobNum_0/params.json\n"
     ]
    },
    {
     "name": "stderr",
     "output_type": "stream",
     "text": [
      "0.00b [00:00, ?b/s]\n"
     ]
    },
    {
     "name": "stdout",
     "output_type": "stream",
     "text": [
      "downloading /n/data1/hms/neurobio/sabatini/rich/analysis/make_dFoF_and_tqm/mouse_0403L/20230717/jobNum_0/dFoF.npy   to   /media/rich/bigSSD/analysis_data/face_rhythm/mouse_0403L/dFoF_and_tqm/20230717/jobNum_0/dFoF.npy\n"
     ]
    },
    {
     "name": "stderr",
     "output_type": "stream",
     "text": [
      "0.00b [00:25, ?b/s]\n"
     ]
    },
    {
     "name": "stdout",
     "output_type": "stream",
     "text": [
      "downloading /n/data1/hms/neurobio/sabatini/rich/analysis/make_dFoF_and_tqm/mouse_0403L/20230717/jobNum_0/make_dFoF_and_tqm.py   to   /media/rich/bigSSD/analysis_data/face_rhythm/mouse_0403L/dFoF_and_tqm/20230717/jobNum_0/make_dFoF_and_tqm.py\n"
     ]
    },
    {
     "name": "stderr",
     "output_type": "stream",
     "text": [
      "0.00b [00:00, ?b/s]\n"
     ]
    },
    {
     "name": "stdout",
     "output_type": "stream",
     "text": [
      "downloading /n/data1/hms/neurobio/sabatini/rich/analysis/make_dFoF_and_tqm/mouse_0403L/20230717/jobNum_0/iscell_tqm.npy   to   /media/rich/bigSSD/analysis_data/face_rhythm/mouse_0403L/dFoF_and_tqm/20230717/jobNum_0/iscell_tqm.npy\n"
     ]
    },
    {
     "name": "stderr",
     "output_type": "stream",
     "text": [
      "0.00b [00:00, ?b/s]\n"
     ]
    },
    {
     "name": "stdout",
     "output_type": "stream",
     "text": [
      "downloading /n/data1/hms/neurobio/sabatini/rich/analysis/make_dFoF_and_tqm/mouse_0403L/20230717/jobNum_0/sbatch_config.sh   to   /media/rich/bigSSD/analysis_data/face_rhythm/mouse_0403L/dFoF_and_tqm/20230717/jobNum_0/sbatch_config.sh\n"
     ]
    },
    {
     "name": "stderr",
     "output_type": "stream",
     "text": [
      "0.00b [00:00, ?b/s]\n"
     ]
    },
    {
     "name": "stdout",
     "output_type": "stream",
     "text": [
      "downloading /n/data1/hms/neurobio/sabatini/rich/analysis/make_dFoF_and_tqm/mouse_0403L/20230717/jobNum_0/print_log_16805839.log   to   /media/rich/bigSSD/analysis_data/face_rhythm/mouse_0403L/dFoF_and_tqm/20230717/jobNum_0/print_log_16805839.log\n"
     ]
    },
    {
     "name": "stderr",
     "output_type": "stream",
     "text": [
      "0.00b [00:00, ?b/s]\n"
     ]
    },
    {
     "name": "stdout",
     "output_type": "stream",
     "text": [
      "downloading /n/data1/hms/neurobio/sabatini/rich/analysis/make_dFoF_and_tqm/mouse_0403L/20230717/make_dFoF_and_tqm.py   to   /media/rich/bigSSD/analysis_data/face_rhythm/mouse_0403L/dFoF_and_tqm/20230717/make_dFoF_and_tqm.py\n"
     ]
    },
    {
     "name": "stderr",
     "output_type": "stream",
     "text": [
      "0.00b [00:00, ?b/s]\n"
     ]
    },
    {
     "name": "stdout",
     "output_type": "stream",
     "text": [
      "downloading /n/data1/hms/neurobio/sabatini/rich/analysis/make_dFoF_and_tqm/mouse_0403L/20230717/dispatcher.py   to   /media/rich/bigSSD/analysis_data/face_rhythm/mouse_0403L/dFoF_and_tqm/20230717/dispatcher.py\n"
     ]
    },
    {
     "name": "stderr",
     "output_type": "stream",
     "text": [
      "0.00b [00:00, ?b/s]\n"
     ]
    },
    {
     "name": "stdout",
     "output_type": "stream",
     "text": [
      "downloading /n/data1/hms/neurobio/sabatini/rich/analysis/make_dFoF_and_tqm/mouse_0403L/20230717/notes.txt   to   /media/rich/bigSSD/analysis_data/face_rhythm/mouse_0403L/dFoF_and_tqm/20230717/notes.txt\n"
     ]
    },
    {
     "name": "stderr",
     "output_type": "stream",
     "text": [
      "0.00b [00:00, ?b/s]\n"
     ]
    },
    {
     "name": "stdout",
     "output_type": "stream",
     "text": [
      "downloading /n/data1/hms/neurobio/sabatini/rich/analysis/make_dFoF_and_tqm/mouse_0403L/20230806/parameters_batch.json   to   /media/rich/bigSSD/analysis_data/face_rhythm/mouse_0403L/dFoF_and_tqm/20230806/parameters_batch.json\n"
     ]
    },
    {
     "name": "stderr",
     "output_type": "stream",
     "text": [
      "0.00b [00:00, ?b/s]\n"
     ]
    },
    {
     "name": "stdout",
     "output_type": "stream",
     "text": [
      "downloading /n/data1/hms/neurobio/sabatini/rich/analysis/make_dFoF_and_tqm/mouse_0403L/20230806/jobNum_0/tqm.pkl   to   /media/rich/bigSSD/analysis_data/face_rhythm/mouse_0403L/dFoF_and_tqm/20230806/jobNum_0/tqm.pkl\n"
     ]
    },
    {
     "name": "stderr",
     "output_type": "stream",
     "text": [
      "0.00b [00:00, ?b/s]\n"
     ]
    },
    {
     "name": "stdout",
     "output_type": "stream",
     "text": [
      "downloading /n/data1/hms/neurobio/sabatini/rich/analysis/make_dFoF_and_tqm/mouse_0403L/20230806/jobNum_0/params.json   to   /media/rich/bigSSD/analysis_data/face_rhythm/mouse_0403L/dFoF_and_tqm/20230806/jobNum_0/params.json\n"
     ]
    },
    {
     "name": "stderr",
     "output_type": "stream",
     "text": [
      "0.00b [00:00, ?b/s]\n"
     ]
    },
    {
     "name": "stdout",
     "output_type": "stream",
     "text": [
      "downloading /n/data1/hms/neurobio/sabatini/rich/analysis/make_dFoF_and_tqm/mouse_0403L/20230806/jobNum_0/dFoF.npy   to   /media/rich/bigSSD/analysis_data/face_rhythm/mouse_0403L/dFoF_and_tqm/20230806/jobNum_0/dFoF.npy\n"
     ]
    },
    {
     "name": "stderr",
     "output_type": "stream",
     "text": [
      "0.00b [00:28, ?b/s]\n"
     ]
    },
    {
     "name": "stdout",
     "output_type": "stream",
     "text": [
      "downloading /n/data1/hms/neurobio/sabatini/rich/analysis/make_dFoF_and_tqm/mouse_0403L/20230806/jobNum_0/print_log_16805967.log   to   /media/rich/bigSSD/analysis_data/face_rhythm/mouse_0403L/dFoF_and_tqm/20230806/jobNum_0/print_log_16805967.log\n"
     ]
    },
    {
     "name": "stderr",
     "output_type": "stream",
     "text": [
      "0.00b [00:00, ?b/s]\n"
     ]
    },
    {
     "name": "stdout",
     "output_type": "stream",
     "text": [
      "downloading /n/data1/hms/neurobio/sabatini/rich/analysis/make_dFoF_and_tqm/mouse_0403L/20230806/jobNum_0/make_dFoF_and_tqm.py   to   /media/rich/bigSSD/analysis_data/face_rhythm/mouse_0403L/dFoF_and_tqm/20230806/jobNum_0/make_dFoF_and_tqm.py\n"
     ]
    },
    {
     "name": "stderr",
     "output_type": "stream",
     "text": [
      "0.00b [00:00, ?b/s]\n"
     ]
    },
    {
     "name": "stdout",
     "output_type": "stream",
     "text": [
      "downloading /n/data1/hms/neurobio/sabatini/rich/analysis/make_dFoF_and_tqm/mouse_0403L/20230806/jobNum_0/iscell_tqm.npy   to   /media/rich/bigSSD/analysis_data/face_rhythm/mouse_0403L/dFoF_and_tqm/20230806/jobNum_0/iscell_tqm.npy\n"
     ]
    },
    {
     "name": "stderr",
     "output_type": "stream",
     "text": [
      "0.00b [00:00, ?b/s]\n"
     ]
    },
    {
     "name": "stdout",
     "output_type": "stream",
     "text": [
      "downloading /n/data1/hms/neurobio/sabatini/rich/analysis/make_dFoF_and_tqm/mouse_0403L/20230806/jobNum_0/sbatch_config.sh   to   /media/rich/bigSSD/analysis_data/face_rhythm/mouse_0403L/dFoF_and_tqm/20230806/jobNum_0/sbatch_config.sh\n"
     ]
    },
    {
     "name": "stderr",
     "output_type": "stream",
     "text": [
      "0.00b [00:00, ?b/s]\n"
     ]
    },
    {
     "name": "stdout",
     "output_type": "stream",
     "text": [
      "downloading /n/data1/hms/neurobio/sabatini/rich/analysis/make_dFoF_and_tqm/mouse_0403L/20230806/make_dFoF_and_tqm.py   to   /media/rich/bigSSD/analysis_data/face_rhythm/mouse_0403L/dFoF_and_tqm/20230806/make_dFoF_and_tqm.py\n"
     ]
    },
    {
     "name": "stderr",
     "output_type": "stream",
     "text": [
      "0.00b [00:00, ?b/s]\n"
     ]
    },
    {
     "name": "stdout",
     "output_type": "stream",
     "text": [
      "downloading /n/data1/hms/neurobio/sabatini/rich/analysis/make_dFoF_and_tqm/mouse_0403L/20230806/dispatcher.py   to   /media/rich/bigSSD/analysis_data/face_rhythm/mouse_0403L/dFoF_and_tqm/20230806/dispatcher.py\n"
     ]
    },
    {
     "name": "stderr",
     "output_type": "stream",
     "text": [
      "0.00b [00:00, ?b/s]\n"
     ]
    },
    {
     "name": "stdout",
     "output_type": "stream",
     "text": [
      "downloading /n/data1/hms/neurobio/sabatini/rich/analysis/make_dFoF_and_tqm/mouse_0403L/20230806/notes.txt   to   /media/rich/bigSSD/analysis_data/face_rhythm/mouse_0403L/dFoF_and_tqm/20230806/notes.txt\n"
     ]
    },
    {
     "name": "stderr",
     "output_type": "stream",
     "text": [
      "0.00b [00:00, ?b/s]\n"
     ]
    },
    {
     "name": "stdout",
     "output_type": "stream",
     "text": [
      "downloading /n/data1/hms/neurobio/sabatini/rich/analysis/make_dFoF_and_tqm/mouse_0403L/20230718/parameters_batch.json   to   /media/rich/bigSSD/analysis_data/face_rhythm/mouse_0403L/dFoF_and_tqm/20230718/parameters_batch.json\n"
     ]
    },
    {
     "name": "stderr",
     "output_type": "stream",
     "text": [
      "0.00b [00:00, ?b/s]\n"
     ]
    },
    {
     "name": "stdout",
     "output_type": "stream",
     "text": [
      "downloading /n/data1/hms/neurobio/sabatini/rich/analysis/make_dFoF_and_tqm/mouse_0403L/20230718/jobNum_0/tqm.pkl   to   /media/rich/bigSSD/analysis_data/face_rhythm/mouse_0403L/dFoF_and_tqm/20230718/jobNum_0/tqm.pkl\n"
     ]
    },
    {
     "name": "stderr",
     "output_type": "stream",
     "text": [
      "0.00b [00:00, ?b/s]\n"
     ]
    },
    {
     "name": "stdout",
     "output_type": "stream",
     "text": [
      "downloading /n/data1/hms/neurobio/sabatini/rich/analysis/make_dFoF_and_tqm/mouse_0403L/20230718/jobNum_0/params.json   to   /media/rich/bigSSD/analysis_data/face_rhythm/mouse_0403L/dFoF_and_tqm/20230718/jobNum_0/params.json\n"
     ]
    },
    {
     "name": "stderr",
     "output_type": "stream",
     "text": [
      "0.00b [00:00, ?b/s]\n"
     ]
    },
    {
     "name": "stdout",
     "output_type": "stream",
     "text": [
      "downloading /n/data1/hms/neurobio/sabatini/rich/analysis/make_dFoF_and_tqm/mouse_0403L/20230718/jobNum_0/dFoF.npy   to   /media/rich/bigSSD/analysis_data/face_rhythm/mouse_0403L/dFoF_and_tqm/20230718/jobNum_0/dFoF.npy\n"
     ]
    },
    {
     "name": "stderr",
     "output_type": "stream",
     "text": [
      "0.00b [00:24, ?b/s]\n"
     ]
    },
    {
     "name": "stdout",
     "output_type": "stream",
     "text": [
      "downloading /n/data1/hms/neurobio/sabatini/rich/analysis/make_dFoF_and_tqm/mouse_0403L/20230718/jobNum_0/make_dFoF_and_tqm.py   to   /media/rich/bigSSD/analysis_data/face_rhythm/mouse_0403L/dFoF_and_tqm/20230718/jobNum_0/make_dFoF_and_tqm.py\n"
     ]
    },
    {
     "name": "stderr",
     "output_type": "stream",
     "text": [
      "0.00b [00:00, ?b/s]\n"
     ]
    },
    {
     "name": "stdout",
     "output_type": "stream",
     "text": [
      "downloading /n/data1/hms/neurobio/sabatini/rich/analysis/make_dFoF_and_tqm/mouse_0403L/20230718/jobNum_0/iscell_tqm.npy   to   /media/rich/bigSSD/analysis_data/face_rhythm/mouse_0403L/dFoF_and_tqm/20230718/jobNum_0/iscell_tqm.npy\n"
     ]
    },
    {
     "name": "stderr",
     "output_type": "stream",
     "text": [
      "0.00b [00:00, ?b/s]\n"
     ]
    },
    {
     "name": "stdout",
     "output_type": "stream",
     "text": [
      "downloading /n/data1/hms/neurobio/sabatini/rich/analysis/make_dFoF_and_tqm/mouse_0403L/20230718/jobNum_0/sbatch_config.sh   to   /media/rich/bigSSD/analysis_data/face_rhythm/mouse_0403L/dFoF_and_tqm/20230718/jobNum_0/sbatch_config.sh\n"
     ]
    },
    {
     "name": "stderr",
     "output_type": "stream",
     "text": [
      "0.00b [00:00, ?b/s]\n"
     ]
    },
    {
     "name": "stdout",
     "output_type": "stream",
     "text": [
      "downloading /n/data1/hms/neurobio/sabatini/rich/analysis/make_dFoF_and_tqm/mouse_0403L/20230718/jobNum_0/print_log_16805843.log   to   /media/rich/bigSSD/analysis_data/face_rhythm/mouse_0403L/dFoF_and_tqm/20230718/jobNum_0/print_log_16805843.log\n"
     ]
    },
    {
     "name": "stderr",
     "output_type": "stream",
     "text": [
      "0.00b [00:00, ?b/s]\n"
     ]
    },
    {
     "name": "stdout",
     "output_type": "stream",
     "text": [
      "downloading /n/data1/hms/neurobio/sabatini/rich/analysis/make_dFoF_and_tqm/mouse_0403L/20230718/make_dFoF_and_tqm.py   to   /media/rich/bigSSD/analysis_data/face_rhythm/mouse_0403L/dFoF_and_tqm/20230718/make_dFoF_and_tqm.py\n"
     ]
    },
    {
     "name": "stderr",
     "output_type": "stream",
     "text": [
      "0.00b [00:00, ?b/s]\n"
     ]
    },
    {
     "name": "stdout",
     "output_type": "stream",
     "text": [
      "downloading /n/data1/hms/neurobio/sabatini/rich/analysis/make_dFoF_and_tqm/mouse_0403L/20230718/dispatcher.py   to   /media/rich/bigSSD/analysis_data/face_rhythm/mouse_0403L/dFoF_and_tqm/20230718/dispatcher.py\n"
     ]
    },
    {
     "name": "stderr",
     "output_type": "stream",
     "text": [
      "0.00b [00:00, ?b/s]\n"
     ]
    },
    {
     "name": "stdout",
     "output_type": "stream",
     "text": [
      "downloading /n/data1/hms/neurobio/sabatini/rich/analysis/make_dFoF_and_tqm/mouse_0403L/20230718/notes.txt   to   /media/rich/bigSSD/analysis_data/face_rhythm/mouse_0403L/dFoF_and_tqm/20230718/notes.txt\n"
     ]
    },
    {
     "name": "stderr",
     "output_type": "stream",
     "text": [
      "0.00b [00:00, ?b/s]\n"
     ]
    },
    {
     "name": "stdout",
     "output_type": "stream",
     "text": [
      "downloading /n/data1/hms/neurobio/sabatini/rich/analysis/make_dFoF_and_tqm/mouse_0403L/20230709/parameters_batch.json   to   /media/rich/bigSSD/analysis_data/face_rhythm/mouse_0403L/dFoF_and_tqm/20230709/parameters_batch.json\n"
     ]
    },
    {
     "name": "stderr",
     "output_type": "stream",
     "text": [
      "0.00b [00:00, ?b/s]\n"
     ]
    },
    {
     "name": "stdout",
     "output_type": "stream",
     "text": [
      "downloading /n/data1/hms/neurobio/sabatini/rich/analysis/make_dFoF_and_tqm/mouse_0403L/20230709/jobNum_0/tqm.pkl   to   /media/rich/bigSSD/analysis_data/face_rhythm/mouse_0403L/dFoF_and_tqm/20230709/jobNum_0/tqm.pkl\n"
     ]
    },
    {
     "name": "stderr",
     "output_type": "stream",
     "text": [
      "0.00b [00:00, ?b/s]\n"
     ]
    },
    {
     "name": "stdout",
     "output_type": "stream",
     "text": [
      "downloading /n/data1/hms/neurobio/sabatini/rich/analysis/make_dFoF_and_tqm/mouse_0403L/20230709/jobNum_0/params.json   to   /media/rich/bigSSD/analysis_data/face_rhythm/mouse_0403L/dFoF_and_tqm/20230709/jobNum_0/params.json\n"
     ]
    },
    {
     "name": "stderr",
     "output_type": "stream",
     "text": [
      "0.00b [00:00, ?b/s]\n"
     ]
    },
    {
     "name": "stdout",
     "output_type": "stream",
     "text": [
      "downloading /n/data1/hms/neurobio/sabatini/rich/analysis/make_dFoF_and_tqm/mouse_0403L/20230709/jobNum_0/dFoF.npy   to   /media/rich/bigSSD/analysis_data/face_rhythm/mouse_0403L/dFoF_and_tqm/20230709/jobNum_0/dFoF.npy\n"
     ]
    },
    {
     "name": "stderr",
     "output_type": "stream",
     "text": [
      "0.00b [00:33, ?b/s]\n"
     ]
    },
    {
     "name": "stdout",
     "output_type": "stream",
     "text": [
      "downloading /n/data1/hms/neurobio/sabatini/rich/analysis/make_dFoF_and_tqm/mouse_0403L/20230709/jobNum_0/print_log_16805779.log   to   /media/rich/bigSSD/analysis_data/face_rhythm/mouse_0403L/dFoF_and_tqm/20230709/jobNum_0/print_log_16805779.log\n"
     ]
    },
    {
     "name": "stderr",
     "output_type": "stream",
     "text": [
      "0.00b [00:00, ?b/s]\n"
     ]
    },
    {
     "name": "stdout",
     "output_type": "stream",
     "text": [
      "downloading /n/data1/hms/neurobio/sabatini/rich/analysis/make_dFoF_and_tqm/mouse_0403L/20230709/jobNum_0/make_dFoF_and_tqm.py   to   /media/rich/bigSSD/analysis_data/face_rhythm/mouse_0403L/dFoF_and_tqm/20230709/jobNum_0/make_dFoF_and_tqm.py\n"
     ]
    },
    {
     "name": "stderr",
     "output_type": "stream",
     "text": [
      "0.00b [00:00, ?b/s]\n"
     ]
    },
    {
     "name": "stdout",
     "output_type": "stream",
     "text": [
      "downloading /n/data1/hms/neurobio/sabatini/rich/analysis/make_dFoF_and_tqm/mouse_0403L/20230709/jobNum_0/iscell_tqm.npy   to   /media/rich/bigSSD/analysis_data/face_rhythm/mouse_0403L/dFoF_and_tqm/20230709/jobNum_0/iscell_tqm.npy\n"
     ]
    },
    {
     "name": "stderr",
     "output_type": "stream",
     "text": [
      "0.00b [00:00, ?b/s]\n"
     ]
    },
    {
     "name": "stdout",
     "output_type": "stream",
     "text": [
      "downloading /n/data1/hms/neurobio/sabatini/rich/analysis/make_dFoF_and_tqm/mouse_0403L/20230709/jobNum_0/sbatch_config.sh   to   /media/rich/bigSSD/analysis_data/face_rhythm/mouse_0403L/dFoF_and_tqm/20230709/jobNum_0/sbatch_config.sh\n"
     ]
    },
    {
     "name": "stderr",
     "output_type": "stream",
     "text": [
      "0.00b [00:00, ?b/s]\n"
     ]
    },
    {
     "name": "stdout",
     "output_type": "stream",
     "text": [
      "downloading /n/data1/hms/neurobio/sabatini/rich/analysis/make_dFoF_and_tqm/mouse_0403L/20230709/make_dFoF_and_tqm.py   to   /media/rich/bigSSD/analysis_data/face_rhythm/mouse_0403L/dFoF_and_tqm/20230709/make_dFoF_and_tqm.py\n"
     ]
    },
    {
     "name": "stderr",
     "output_type": "stream",
     "text": [
      "0.00b [00:00, ?b/s]\n"
     ]
    },
    {
     "name": "stdout",
     "output_type": "stream",
     "text": [
      "downloading /n/data1/hms/neurobio/sabatini/rich/analysis/make_dFoF_and_tqm/mouse_0403L/20230709/dispatcher.py   to   /media/rich/bigSSD/analysis_data/face_rhythm/mouse_0403L/dFoF_and_tqm/20230709/dispatcher.py\n"
     ]
    },
    {
     "name": "stderr",
     "output_type": "stream",
     "text": [
      "0.00b [00:00, ?b/s]\n"
     ]
    },
    {
     "name": "stdout",
     "output_type": "stream",
     "text": [
      "downloading /n/data1/hms/neurobio/sabatini/rich/analysis/make_dFoF_and_tqm/mouse_0403L/20230709/notes.txt   to   /media/rich/bigSSD/analysis_data/face_rhythm/mouse_0403L/dFoF_and_tqm/20230709/notes.txt\n"
     ]
    },
    {
     "name": "stderr",
     "output_type": "stream",
     "text": [
      "0.00b [00:00, ?b/s]\n"
     ]
    },
    {
     "name": "stdout",
     "output_type": "stream",
     "text": [
      "downloading /n/data1/hms/neurobio/sabatini/rich/analysis/make_dFoF_and_tqm/mouse_0403L/20230713/parameters_batch.json   to   /media/rich/bigSSD/analysis_data/face_rhythm/mouse_0403L/dFoF_and_tqm/20230713/parameters_batch.json\n"
     ]
    },
    {
     "name": "stderr",
     "output_type": "stream",
     "text": [
      "0.00b [00:00, ?b/s]\n"
     ]
    },
    {
     "name": "stdout",
     "output_type": "stream",
     "text": [
      "downloading /n/data1/hms/neurobio/sabatini/rich/analysis/make_dFoF_and_tqm/mouse_0403L/20230713/jobNum_0/tqm.pkl   to   /media/rich/bigSSD/analysis_data/face_rhythm/mouse_0403L/dFoF_and_tqm/20230713/jobNum_0/tqm.pkl\n"
     ]
    },
    {
     "name": "stderr",
     "output_type": "stream",
     "text": [
      "0.00b [00:00, ?b/s]\n"
     ]
    },
    {
     "name": "stdout",
     "output_type": "stream",
     "text": [
      "downloading /n/data1/hms/neurobio/sabatini/rich/analysis/make_dFoF_and_tqm/mouse_0403L/20230713/jobNum_0/params.json   to   /media/rich/bigSSD/analysis_data/face_rhythm/mouse_0403L/dFoF_and_tqm/20230713/jobNum_0/params.json\n"
     ]
    },
    {
     "name": "stderr",
     "output_type": "stream",
     "text": [
      "0.00b [00:00, ?b/s]\n"
     ]
    },
    {
     "name": "stdout",
     "output_type": "stream",
     "text": [
      "downloading /n/data1/hms/neurobio/sabatini/rich/analysis/make_dFoF_and_tqm/mouse_0403L/20230713/jobNum_0/dFoF.npy   to   /media/rich/bigSSD/analysis_data/face_rhythm/mouse_0403L/dFoF_and_tqm/20230713/jobNum_0/dFoF.npy\n"
     ]
    },
    {
     "name": "stderr",
     "output_type": "stream",
     "text": [
      "0.00b [00:26, ?b/s]\n"
     ]
    },
    {
     "name": "stdout",
     "output_type": "stream",
     "text": [
      "downloading /n/data1/hms/neurobio/sabatini/rich/analysis/make_dFoF_and_tqm/mouse_0403L/20230713/jobNum_0/make_dFoF_and_tqm.py   to   /media/rich/bigSSD/analysis_data/face_rhythm/mouse_0403L/dFoF_and_tqm/20230713/jobNum_0/make_dFoF_and_tqm.py\n"
     ]
    },
    {
     "name": "stderr",
     "output_type": "stream",
     "text": [
      "0.00b [00:00, ?b/s]\n"
     ]
    },
    {
     "name": "stdout",
     "output_type": "stream",
     "text": [
      "downloading /n/data1/hms/neurobio/sabatini/rich/analysis/make_dFoF_and_tqm/mouse_0403L/20230713/jobNum_0/iscell_tqm.npy   to   /media/rich/bigSSD/analysis_data/face_rhythm/mouse_0403L/dFoF_and_tqm/20230713/jobNum_0/iscell_tqm.npy\n"
     ]
    },
    {
     "name": "stderr",
     "output_type": "stream",
     "text": [
      "0.00b [00:00, ?b/s]\n"
     ]
    },
    {
     "name": "stdout",
     "output_type": "stream",
     "text": [
      "downloading /n/data1/hms/neurobio/sabatini/rich/analysis/make_dFoF_and_tqm/mouse_0403L/20230713/jobNum_0/sbatch_config.sh   to   /media/rich/bigSSD/analysis_data/face_rhythm/mouse_0403L/dFoF_and_tqm/20230713/jobNum_0/sbatch_config.sh\n"
     ]
    },
    {
     "name": "stderr",
     "output_type": "stream",
     "text": [
      "0.00b [00:00, ?b/s]\n"
     ]
    },
    {
     "name": "stdout",
     "output_type": "stream",
     "text": [
      "downloading /n/data1/hms/neurobio/sabatini/rich/analysis/make_dFoF_and_tqm/mouse_0403L/20230713/jobNum_0/print_log_16805811.log   to   /media/rich/bigSSD/analysis_data/face_rhythm/mouse_0403L/dFoF_and_tqm/20230713/jobNum_0/print_log_16805811.log\n"
     ]
    },
    {
     "name": "stderr",
     "output_type": "stream",
     "text": [
      "0.00b [00:00, ?b/s]\n"
     ]
    },
    {
     "name": "stdout",
     "output_type": "stream",
     "text": [
      "downloading /n/data1/hms/neurobio/sabatini/rich/analysis/make_dFoF_and_tqm/mouse_0403L/20230713/make_dFoF_and_tqm.py   to   /media/rich/bigSSD/analysis_data/face_rhythm/mouse_0403L/dFoF_and_tqm/20230713/make_dFoF_and_tqm.py\n"
     ]
    },
    {
     "name": "stderr",
     "output_type": "stream",
     "text": [
      "0.00b [00:00, ?b/s]\n"
     ]
    },
    {
     "name": "stdout",
     "output_type": "stream",
     "text": [
      "downloading /n/data1/hms/neurobio/sabatini/rich/analysis/make_dFoF_and_tqm/mouse_0403L/20230713/dispatcher.py   to   /media/rich/bigSSD/analysis_data/face_rhythm/mouse_0403L/dFoF_and_tqm/20230713/dispatcher.py\n"
     ]
    },
    {
     "name": "stderr",
     "output_type": "stream",
     "text": [
      "0.00b [00:00, ?b/s]\n"
     ]
    },
    {
     "name": "stdout",
     "output_type": "stream",
     "text": [
      "downloading /n/data1/hms/neurobio/sabatini/rich/analysis/make_dFoF_and_tqm/mouse_0403L/20230713/notes.txt   to   /media/rich/bigSSD/analysis_data/face_rhythm/mouse_0403L/dFoF_and_tqm/20230713/notes.txt\n"
     ]
    },
    {
     "name": "stderr",
     "output_type": "stream",
     "text": [
      "0.00b [00:00, ?b/s]\n"
     ]
    },
    {
     "name": "stdout",
     "output_type": "stream",
     "text": [
      "downloading /n/data1/hms/neurobio/sabatini/rich/analysis/make_dFoF_and_tqm/mouse_0403L/20230727/parameters_batch.json   to   /media/rich/bigSSD/analysis_data/face_rhythm/mouse_0403L/dFoF_and_tqm/20230727/parameters_batch.json\n"
     ]
    },
    {
     "name": "stderr",
     "output_type": "stream",
     "text": [
      "0.00b [00:00, ?b/s]\n"
     ]
    },
    {
     "name": "stdout",
     "output_type": "stream",
     "text": [
      "downloading /n/data1/hms/neurobio/sabatini/rich/analysis/make_dFoF_and_tqm/mouse_0403L/20230727/jobNum_0/tqm.pkl   to   /media/rich/bigSSD/analysis_data/face_rhythm/mouse_0403L/dFoF_and_tqm/20230727/jobNum_0/tqm.pkl\n"
     ]
    },
    {
     "name": "stderr",
     "output_type": "stream",
     "text": [
      "0.00b [00:00, ?b/s]\n"
     ]
    },
    {
     "name": "stdout",
     "output_type": "stream",
     "text": [
      "downloading /n/data1/hms/neurobio/sabatini/rich/analysis/make_dFoF_and_tqm/mouse_0403L/20230727/jobNum_0/params.json   to   /media/rich/bigSSD/analysis_data/face_rhythm/mouse_0403L/dFoF_and_tqm/20230727/jobNum_0/params.json\n"
     ]
    },
    {
     "name": "stderr",
     "output_type": "stream",
     "text": [
      "0.00b [00:00, ?b/s]\n"
     ]
    },
    {
     "name": "stdout",
     "output_type": "stream",
     "text": [
      "downloading /n/data1/hms/neurobio/sabatini/rich/analysis/make_dFoF_and_tqm/mouse_0403L/20230727/jobNum_0/dFoF.npy   to   /media/rich/bigSSD/analysis_data/face_rhythm/mouse_0403L/dFoF_and_tqm/20230727/jobNum_0/dFoF.npy\n"
     ]
    },
    {
     "name": "stderr",
     "output_type": "stream",
     "text": [
      "0.00b [00:28, ?b/s]\n"
     ]
    },
    {
     "name": "stdout",
     "output_type": "stream",
     "text": [
      "downloading /n/data1/hms/neurobio/sabatini/rich/analysis/make_dFoF_and_tqm/mouse_0403L/20230727/jobNum_0/print_log_16805896.log   to   /media/rich/bigSSD/analysis_data/face_rhythm/mouse_0403L/dFoF_and_tqm/20230727/jobNum_0/print_log_16805896.log\n"
     ]
    },
    {
     "name": "stderr",
     "output_type": "stream",
     "text": [
      "0.00b [00:00, ?b/s]\n"
     ]
    },
    {
     "name": "stdout",
     "output_type": "stream",
     "text": [
      "downloading /n/data1/hms/neurobio/sabatini/rich/analysis/make_dFoF_and_tqm/mouse_0403L/20230727/jobNum_0/make_dFoF_and_tqm.py   to   /media/rich/bigSSD/analysis_data/face_rhythm/mouse_0403L/dFoF_and_tqm/20230727/jobNum_0/make_dFoF_and_tqm.py\n"
     ]
    },
    {
     "name": "stderr",
     "output_type": "stream",
     "text": [
      "0.00b [00:00, ?b/s]\n"
     ]
    },
    {
     "name": "stdout",
     "output_type": "stream",
     "text": [
      "downloading /n/data1/hms/neurobio/sabatini/rich/analysis/make_dFoF_and_tqm/mouse_0403L/20230727/jobNum_0/iscell_tqm.npy   to   /media/rich/bigSSD/analysis_data/face_rhythm/mouse_0403L/dFoF_and_tqm/20230727/jobNum_0/iscell_tqm.npy\n"
     ]
    },
    {
     "name": "stderr",
     "output_type": "stream",
     "text": [
      "0.00b [00:00, ?b/s]\n"
     ]
    },
    {
     "name": "stdout",
     "output_type": "stream",
     "text": [
      "downloading /n/data1/hms/neurobio/sabatini/rich/analysis/make_dFoF_and_tqm/mouse_0403L/20230727/jobNum_0/sbatch_config.sh   to   /media/rich/bigSSD/analysis_data/face_rhythm/mouse_0403L/dFoF_and_tqm/20230727/jobNum_0/sbatch_config.sh\n"
     ]
    },
    {
     "name": "stderr",
     "output_type": "stream",
     "text": [
      "0.00b [00:00, ?b/s]\n"
     ]
    },
    {
     "name": "stdout",
     "output_type": "stream",
     "text": [
      "downloading /n/data1/hms/neurobio/sabatini/rich/analysis/make_dFoF_and_tqm/mouse_0403L/20230727/make_dFoF_and_tqm.py   to   /media/rich/bigSSD/analysis_data/face_rhythm/mouse_0403L/dFoF_and_tqm/20230727/make_dFoF_and_tqm.py\n"
     ]
    },
    {
     "name": "stderr",
     "output_type": "stream",
     "text": [
      "0.00b [00:00, ?b/s]\n"
     ]
    },
    {
     "name": "stdout",
     "output_type": "stream",
     "text": [
      "downloading /n/data1/hms/neurobio/sabatini/rich/analysis/make_dFoF_and_tqm/mouse_0403L/20230727/dispatcher.py   to   /media/rich/bigSSD/analysis_data/face_rhythm/mouse_0403L/dFoF_and_tqm/20230727/dispatcher.py\n"
     ]
    },
    {
     "name": "stderr",
     "output_type": "stream",
     "text": [
      "0.00b [00:00, ?b/s]\n"
     ]
    },
    {
     "name": "stdout",
     "output_type": "stream",
     "text": [
      "downloading /n/data1/hms/neurobio/sabatini/rich/analysis/make_dFoF_and_tqm/mouse_0403L/20230727/notes.txt   to   /media/rich/bigSSD/analysis_data/face_rhythm/mouse_0403L/dFoF_and_tqm/20230727/notes.txt\n"
     ]
    },
    {
     "name": "stderr",
     "output_type": "stream",
     "text": [
      "0.00b [00:00, ?b/s]\n"
     ]
    },
    {
     "name": "stdout",
     "output_type": "stream",
     "text": [
      "downloading /n/data1/hms/neurobio/sabatini/rich/analysis/make_dFoF_and_tqm/mouse_0403L/20230702/parameters_batch.json   to   /media/rich/bigSSD/analysis_data/face_rhythm/mouse_0403L/dFoF_and_tqm/20230702/parameters_batch.json\n"
     ]
    },
    {
     "name": "stderr",
     "output_type": "stream",
     "text": [
      "0.00b [00:00, ?b/s]\n"
     ]
    },
    {
     "name": "stdout",
     "output_type": "stream",
     "text": [
      "downloading /n/data1/hms/neurobio/sabatini/rich/analysis/make_dFoF_and_tqm/mouse_0403L/20230702/jobNum_0/tqm.pkl   to   /media/rich/bigSSD/analysis_data/face_rhythm/mouse_0403L/dFoF_and_tqm/20230702/jobNum_0/tqm.pkl\n"
     ]
    },
    {
     "name": "stderr",
     "output_type": "stream",
     "text": [
      "0.00b [00:00, ?b/s]\n"
     ]
    },
    {
     "name": "stdout",
     "output_type": "stream",
     "text": [
      "downloading /n/data1/hms/neurobio/sabatini/rich/analysis/make_dFoF_and_tqm/mouse_0403L/20230702/jobNum_0/params.json   to   /media/rich/bigSSD/analysis_data/face_rhythm/mouse_0403L/dFoF_and_tqm/20230702/jobNum_0/params.json\n"
     ]
    },
    {
     "name": "stderr",
     "output_type": "stream",
     "text": [
      "0.00b [00:00, ?b/s]\n"
     ]
    },
    {
     "name": "stdout",
     "output_type": "stream",
     "text": [
      "downloading /n/data1/hms/neurobio/sabatini/rich/analysis/make_dFoF_and_tqm/mouse_0403L/20230702/jobNum_0/dFoF.npy   to   /media/rich/bigSSD/analysis_data/face_rhythm/mouse_0403L/dFoF_and_tqm/20230702/jobNum_0/dFoF.npy\n"
     ]
    },
    {
     "name": "stderr",
     "output_type": "stream",
     "text": [
      "0.00b [00:25, ?b/s]\n"
     ]
    },
    {
     "name": "stdout",
     "output_type": "stream",
     "text": [
      "downloading /n/data1/hms/neurobio/sabatini/rich/analysis/make_dFoF_and_tqm/mouse_0403L/20230702/jobNum_0/make_dFoF_and_tqm.py   to   /media/rich/bigSSD/analysis_data/face_rhythm/mouse_0403L/dFoF_and_tqm/20230702/jobNum_0/make_dFoF_and_tqm.py\n"
     ]
    },
    {
     "name": "stderr",
     "output_type": "stream",
     "text": [
      "0.00b [00:00, ?b/s]\n"
     ]
    },
    {
     "name": "stdout",
     "output_type": "stream",
     "text": [
      "downloading /n/data1/hms/neurobio/sabatini/rich/analysis/make_dFoF_and_tqm/mouse_0403L/20230702/jobNum_0/iscell_tqm.npy   to   /media/rich/bigSSD/analysis_data/face_rhythm/mouse_0403L/dFoF_and_tqm/20230702/jobNum_0/iscell_tqm.npy\n"
     ]
    },
    {
     "name": "stderr",
     "output_type": "stream",
     "text": [
      "0.00b [00:00, ?b/s]\n"
     ]
    },
    {
     "name": "stdout",
     "output_type": "stream",
     "text": [
      "downloading /n/data1/hms/neurobio/sabatini/rich/analysis/make_dFoF_and_tqm/mouse_0403L/20230702/jobNum_0/print_log_16805736.log   to   /media/rich/bigSSD/analysis_data/face_rhythm/mouse_0403L/dFoF_and_tqm/20230702/jobNum_0/print_log_16805736.log\n"
     ]
    },
    {
     "name": "stderr",
     "output_type": "stream",
     "text": [
      "0.00b [00:00, ?b/s]\n"
     ]
    },
    {
     "name": "stdout",
     "output_type": "stream",
     "text": [
      "downloading /n/data1/hms/neurobio/sabatini/rich/analysis/make_dFoF_and_tqm/mouse_0403L/20230702/jobNum_0/sbatch_config.sh   to   /media/rich/bigSSD/analysis_data/face_rhythm/mouse_0403L/dFoF_and_tqm/20230702/jobNum_0/sbatch_config.sh\n"
     ]
    },
    {
     "name": "stderr",
     "output_type": "stream",
     "text": [
      "0.00b [00:00, ?b/s]\n"
     ]
    },
    {
     "name": "stdout",
     "output_type": "stream",
     "text": [
      "downloading /n/data1/hms/neurobio/sabatini/rich/analysis/make_dFoF_and_tqm/mouse_0403L/20230702/make_dFoF_and_tqm.py   to   /media/rich/bigSSD/analysis_data/face_rhythm/mouse_0403L/dFoF_and_tqm/20230702/make_dFoF_and_tqm.py\n"
     ]
    },
    {
     "name": "stderr",
     "output_type": "stream",
     "text": [
      "0.00b [00:00, ?b/s]\n"
     ]
    },
    {
     "name": "stdout",
     "output_type": "stream",
     "text": [
      "downloading /n/data1/hms/neurobio/sabatini/rich/analysis/make_dFoF_and_tqm/mouse_0403L/20230702/dispatcher.py   to   /media/rich/bigSSD/analysis_data/face_rhythm/mouse_0403L/dFoF_and_tqm/20230702/dispatcher.py\n"
     ]
    },
    {
     "name": "stderr",
     "output_type": "stream",
     "text": [
      "0.00b [00:00, ?b/s]\n"
     ]
    },
    {
     "name": "stdout",
     "output_type": "stream",
     "text": [
      "downloading /n/data1/hms/neurobio/sabatini/rich/analysis/make_dFoF_and_tqm/mouse_0403L/20230702/notes.txt   to   /media/rich/bigSSD/analysis_data/face_rhythm/mouse_0403L/dFoF_and_tqm/20230702/notes.txt\n"
     ]
    },
    {
     "name": "stderr",
     "output_type": "stream",
     "text": [
      "0.00b [00:00, ?b/s]\n"
     ]
    },
    {
     "name": "stdout",
     "output_type": "stream",
     "text": [
      "downloading /n/data1/hms/neurobio/sabatini/rich/analysis/make_dFoF_and_tqm/mouse_0403L/20230728/parameters_batch.json   to   /media/rich/bigSSD/analysis_data/face_rhythm/mouse_0403L/dFoF_and_tqm/20230728/parameters_batch.json\n"
     ]
    },
    {
     "name": "stderr",
     "output_type": "stream",
     "text": [
      "0.00b [00:00, ?b/s]\n"
     ]
    },
    {
     "name": "stdout",
     "output_type": "stream",
     "text": [
      "downloading /n/data1/hms/neurobio/sabatini/rich/analysis/make_dFoF_and_tqm/mouse_0403L/20230728/jobNum_0/tqm.pkl   to   /media/rich/bigSSD/analysis_data/face_rhythm/mouse_0403L/dFoF_and_tqm/20230728/jobNum_0/tqm.pkl\n"
     ]
    },
    {
     "name": "stderr",
     "output_type": "stream",
     "text": [
      "0.00b [00:00, ?b/s]\n"
     ]
    },
    {
     "name": "stdout",
     "output_type": "stream",
     "text": [
      "downloading /n/data1/hms/neurobio/sabatini/rich/analysis/make_dFoF_and_tqm/mouse_0403L/20230728/jobNum_0/params.json   to   /media/rich/bigSSD/analysis_data/face_rhythm/mouse_0403L/dFoF_and_tqm/20230728/jobNum_0/params.json\n"
     ]
    },
    {
     "name": "stderr",
     "output_type": "stream",
     "text": [
      "0.00b [00:00, ?b/s]\n"
     ]
    },
    {
     "name": "stdout",
     "output_type": "stream",
     "text": [
      "downloading /n/data1/hms/neurobio/sabatini/rich/analysis/make_dFoF_and_tqm/mouse_0403L/20230728/jobNum_0/dFoF.npy   to   /media/rich/bigSSD/analysis_data/face_rhythm/mouse_0403L/dFoF_and_tqm/20230728/jobNum_0/dFoF.npy\n"
     ]
    },
    {
     "name": "stderr",
     "output_type": "stream",
     "text": [
      "0.00b [00:25, ?b/s]\n"
     ]
    },
    {
     "name": "stdout",
     "output_type": "stream",
     "text": [
      "downloading /n/data1/hms/neurobio/sabatini/rich/analysis/make_dFoF_and_tqm/mouse_0403L/20230728/jobNum_0/make_dFoF_and_tqm.py   to   /media/rich/bigSSD/analysis_data/face_rhythm/mouse_0403L/dFoF_and_tqm/20230728/jobNum_0/make_dFoF_and_tqm.py\n"
     ]
    },
    {
     "name": "stderr",
     "output_type": "stream",
     "text": [
      "0.00b [00:00, ?b/s]\n"
     ]
    },
    {
     "name": "stdout",
     "output_type": "stream",
     "text": [
      "downloading /n/data1/hms/neurobio/sabatini/rich/analysis/make_dFoF_and_tqm/mouse_0403L/20230728/jobNum_0/print_log_16805918.log   to   /media/rich/bigSSD/analysis_data/face_rhythm/mouse_0403L/dFoF_and_tqm/20230728/jobNum_0/print_log_16805918.log\n"
     ]
    },
    {
     "name": "stderr",
     "output_type": "stream",
     "text": [
      "0.00b [00:00, ?b/s]\n"
     ]
    },
    {
     "name": "stdout",
     "output_type": "stream",
     "text": [
      "downloading /n/data1/hms/neurobio/sabatini/rich/analysis/make_dFoF_and_tqm/mouse_0403L/20230728/jobNum_0/iscell_tqm.npy   to   /media/rich/bigSSD/analysis_data/face_rhythm/mouse_0403L/dFoF_and_tqm/20230728/jobNum_0/iscell_tqm.npy\n"
     ]
    },
    {
     "name": "stderr",
     "output_type": "stream",
     "text": [
      "0.00b [00:00, ?b/s]\n"
     ]
    },
    {
     "name": "stdout",
     "output_type": "stream",
     "text": [
      "downloading /n/data1/hms/neurobio/sabatini/rich/analysis/make_dFoF_and_tqm/mouse_0403L/20230728/jobNum_0/sbatch_config.sh   to   /media/rich/bigSSD/analysis_data/face_rhythm/mouse_0403L/dFoF_and_tqm/20230728/jobNum_0/sbatch_config.sh\n"
     ]
    },
    {
     "name": "stderr",
     "output_type": "stream",
     "text": [
      "0.00b [00:00, ?b/s]\n"
     ]
    },
    {
     "name": "stdout",
     "output_type": "stream",
     "text": [
      "downloading /n/data1/hms/neurobio/sabatini/rich/analysis/make_dFoF_and_tqm/mouse_0403L/20230728/make_dFoF_and_tqm.py   to   /media/rich/bigSSD/analysis_data/face_rhythm/mouse_0403L/dFoF_and_tqm/20230728/make_dFoF_and_tqm.py\n"
     ]
    },
    {
     "name": "stderr",
     "output_type": "stream",
     "text": [
      "0.00b [00:00, ?b/s]\n"
     ]
    },
    {
     "name": "stdout",
     "output_type": "stream",
     "text": [
      "downloading /n/data1/hms/neurobio/sabatini/rich/analysis/make_dFoF_and_tqm/mouse_0403L/20230728/dispatcher.py   to   /media/rich/bigSSD/analysis_data/face_rhythm/mouse_0403L/dFoF_and_tqm/20230728/dispatcher.py\n"
     ]
    },
    {
     "name": "stderr",
     "output_type": "stream",
     "text": [
      "0.00b [00:00, ?b/s]\n"
     ]
    },
    {
     "name": "stdout",
     "output_type": "stream",
     "text": [
      "downloading /n/data1/hms/neurobio/sabatini/rich/analysis/make_dFoF_and_tqm/mouse_0403L/20230728/notes.txt   to   /media/rich/bigSSD/analysis_data/face_rhythm/mouse_0403L/dFoF_and_tqm/20230728/notes.txt\n"
     ]
    },
    {
     "name": "stderr",
     "output_type": "stream",
     "text": [
      "0.00b [00:00, ?b/s]\n"
     ]
    },
    {
     "name": "stdout",
     "output_type": "stream",
     "text": [
      "downloading /n/data1/hms/neurobio/sabatini/rich/analysis/make_dFoF_and_tqm/mouse_0403L/20230703/parameters_batch.json   to   /media/rich/bigSSD/analysis_data/face_rhythm/mouse_0403L/dFoF_and_tqm/20230703/parameters_batch.json\n"
     ]
    },
    {
     "name": "stderr",
     "output_type": "stream",
     "text": [
      "0.00b [00:00, ?b/s]\n"
     ]
    },
    {
     "name": "stdout",
     "output_type": "stream",
     "text": [
      "downloading /n/data1/hms/neurobio/sabatini/rich/analysis/make_dFoF_and_tqm/mouse_0403L/20230703/jobNum_0/tqm.pkl   to   /media/rich/bigSSD/analysis_data/face_rhythm/mouse_0403L/dFoF_and_tqm/20230703/jobNum_0/tqm.pkl\n"
     ]
    },
    {
     "name": "stderr",
     "output_type": "stream",
     "text": [
      "0.00b [00:00, ?b/s]\n"
     ]
    },
    {
     "name": "stdout",
     "output_type": "stream",
     "text": [
      "downloading /n/data1/hms/neurobio/sabatini/rich/analysis/make_dFoF_and_tqm/mouse_0403L/20230703/jobNum_0/params.json   to   /media/rich/bigSSD/analysis_data/face_rhythm/mouse_0403L/dFoF_and_tqm/20230703/jobNum_0/params.json\n"
     ]
    },
    {
     "name": "stderr",
     "output_type": "stream",
     "text": [
      "0.00b [00:00, ?b/s]\n"
     ]
    },
    {
     "name": "stdout",
     "output_type": "stream",
     "text": [
      "downloading /n/data1/hms/neurobio/sabatini/rich/analysis/make_dFoF_and_tqm/mouse_0403L/20230703/jobNum_0/dFoF.npy   to   /media/rich/bigSSD/analysis_data/face_rhythm/mouse_0403L/dFoF_and_tqm/20230703/jobNum_0/dFoF.npy\n"
     ]
    },
    {
     "name": "stderr",
     "output_type": "stream",
     "text": [
      "0.00b [00:23, ?b/s]\n"
     ]
    },
    {
     "name": "stdout",
     "output_type": "stream",
     "text": [
      "downloading /n/data1/hms/neurobio/sabatini/rich/analysis/make_dFoF_and_tqm/mouse_0403L/20230703/jobNum_0/print_log_16805739.log   to   /media/rich/bigSSD/analysis_data/face_rhythm/mouse_0403L/dFoF_and_tqm/20230703/jobNum_0/print_log_16805739.log\n"
     ]
    },
    {
     "name": "stderr",
     "output_type": "stream",
     "text": [
      "0.00b [00:00, ?b/s]\n"
     ]
    },
    {
     "name": "stdout",
     "output_type": "stream",
     "text": [
      "downloading /n/data1/hms/neurobio/sabatini/rich/analysis/make_dFoF_and_tqm/mouse_0403L/20230703/jobNum_0/make_dFoF_and_tqm.py   to   /media/rich/bigSSD/analysis_data/face_rhythm/mouse_0403L/dFoF_and_tqm/20230703/jobNum_0/make_dFoF_and_tqm.py\n"
     ]
    },
    {
     "name": "stderr",
     "output_type": "stream",
     "text": [
      "0.00b [00:00, ?b/s]\n"
     ]
    },
    {
     "name": "stdout",
     "output_type": "stream",
     "text": [
      "downloading /n/data1/hms/neurobio/sabatini/rich/analysis/make_dFoF_and_tqm/mouse_0403L/20230703/jobNum_0/iscell_tqm.npy   to   /media/rich/bigSSD/analysis_data/face_rhythm/mouse_0403L/dFoF_and_tqm/20230703/jobNum_0/iscell_tqm.npy\n"
     ]
    },
    {
     "name": "stderr",
     "output_type": "stream",
     "text": [
      "0.00b [00:00, ?b/s]\n"
     ]
    },
    {
     "name": "stdout",
     "output_type": "stream",
     "text": [
      "downloading /n/data1/hms/neurobio/sabatini/rich/analysis/make_dFoF_and_tqm/mouse_0403L/20230703/jobNum_0/sbatch_config.sh   to   /media/rich/bigSSD/analysis_data/face_rhythm/mouse_0403L/dFoF_and_tqm/20230703/jobNum_0/sbatch_config.sh\n"
     ]
    },
    {
     "name": "stderr",
     "output_type": "stream",
     "text": [
      "0.00b [00:00, ?b/s]\n"
     ]
    },
    {
     "name": "stdout",
     "output_type": "stream",
     "text": [
      "downloading /n/data1/hms/neurobio/sabatini/rich/analysis/make_dFoF_and_tqm/mouse_0403L/20230703/make_dFoF_and_tqm.py   to   /media/rich/bigSSD/analysis_data/face_rhythm/mouse_0403L/dFoF_and_tqm/20230703/make_dFoF_and_tqm.py\n"
     ]
    },
    {
     "name": "stderr",
     "output_type": "stream",
     "text": [
      "0.00b [00:00, ?b/s]\n"
     ]
    },
    {
     "name": "stdout",
     "output_type": "stream",
     "text": [
      "downloading /n/data1/hms/neurobio/sabatini/rich/analysis/make_dFoF_and_tqm/mouse_0403L/20230703/dispatcher.py   to   /media/rich/bigSSD/analysis_data/face_rhythm/mouse_0403L/dFoF_and_tqm/20230703/dispatcher.py\n"
     ]
    },
    {
     "name": "stderr",
     "output_type": "stream",
     "text": [
      "0.00b [00:00, ?b/s]\n"
     ]
    },
    {
     "name": "stdout",
     "output_type": "stream",
     "text": [
      "downloading /n/data1/hms/neurobio/sabatini/rich/analysis/make_dFoF_and_tqm/mouse_0403L/20230703/notes.txt   to   /media/rich/bigSSD/analysis_data/face_rhythm/mouse_0403L/dFoF_and_tqm/20230703/notes.txt\n"
     ]
    },
    {
     "name": "stderr",
     "output_type": "stream",
     "text": [
      "0.00b [00:00, ?b/s]\n"
     ]
    },
    {
     "name": "stdout",
     "output_type": "stream",
     "text": [
      "downloading /n/data1/hms/neurobio/sabatini/rich/analysis/make_dFoF_and_tqm/mouse_0403L/20230801/parameters_batch.json   to   /media/rich/bigSSD/analysis_data/face_rhythm/mouse_0403L/dFoF_and_tqm/20230801/parameters_batch.json\n"
     ]
    },
    {
     "name": "stderr",
     "output_type": "stream",
     "text": [
      "0.00b [00:00, ?b/s]\n"
     ]
    },
    {
     "name": "stdout",
     "output_type": "stream",
     "text": [
      "downloading /n/data1/hms/neurobio/sabatini/rich/analysis/make_dFoF_and_tqm/mouse_0403L/20230801/jobNum_0/tqm.pkl   to   /media/rich/bigSSD/analysis_data/face_rhythm/mouse_0403L/dFoF_and_tqm/20230801/jobNum_0/tqm.pkl\n"
     ]
    },
    {
     "name": "stderr",
     "output_type": "stream",
     "text": [
      "0.00b [00:00, ?b/s]\n"
     ]
    },
    {
     "name": "stdout",
     "output_type": "stream",
     "text": [
      "downloading /n/data1/hms/neurobio/sabatini/rich/analysis/make_dFoF_and_tqm/mouse_0403L/20230801/jobNum_0/params.json   to   /media/rich/bigSSD/analysis_data/face_rhythm/mouse_0403L/dFoF_and_tqm/20230801/jobNum_0/params.json\n"
     ]
    },
    {
     "name": "stderr",
     "output_type": "stream",
     "text": [
      "0.00b [00:00, ?b/s]\n"
     ]
    },
    {
     "name": "stdout",
     "output_type": "stream",
     "text": [
      "downloading /n/data1/hms/neurobio/sabatini/rich/analysis/make_dFoF_and_tqm/mouse_0403L/20230801/jobNum_0/dFoF.npy   to   /media/rich/bigSSD/analysis_data/face_rhythm/mouse_0403L/dFoF_and_tqm/20230801/jobNum_0/dFoF.npy\n"
     ]
    },
    {
     "name": "stderr",
     "output_type": "stream",
     "text": [
      "0.00b [00:29, ?b/s]\n"
     ]
    },
    {
     "name": "stdout",
     "output_type": "stream",
     "text": [
      "downloading /n/data1/hms/neurobio/sabatini/rich/analysis/make_dFoF_and_tqm/mouse_0403L/20230801/jobNum_0/make_dFoF_and_tqm.py   to   /media/rich/bigSSD/analysis_data/face_rhythm/mouse_0403L/dFoF_and_tqm/20230801/jobNum_0/make_dFoF_and_tqm.py\n"
     ]
    },
    {
     "name": "stderr",
     "output_type": "stream",
     "text": [
      "0.00b [00:00, ?b/s]\n"
     ]
    },
    {
     "name": "stdout",
     "output_type": "stream",
     "text": [
      "downloading /n/data1/hms/neurobio/sabatini/rich/analysis/make_dFoF_and_tqm/mouse_0403L/20230801/jobNum_0/iscell_tqm.npy   to   /media/rich/bigSSD/analysis_data/face_rhythm/mouse_0403L/dFoF_and_tqm/20230801/jobNum_0/iscell_tqm.npy\n"
     ]
    },
    {
     "name": "stderr",
     "output_type": "stream",
     "text": [
      "0.00b [00:00, ?b/s]\n"
     ]
    },
    {
     "name": "stdout",
     "output_type": "stream",
     "text": [
      "downloading /n/data1/hms/neurobio/sabatini/rich/analysis/make_dFoF_and_tqm/mouse_0403L/20230801/jobNum_0/sbatch_config.sh   to   /media/rich/bigSSD/analysis_data/face_rhythm/mouse_0403L/dFoF_and_tqm/20230801/jobNum_0/sbatch_config.sh\n"
     ]
    },
    {
     "name": "stderr",
     "output_type": "stream",
     "text": [
      "0.00b [00:00, ?b/s]\n"
     ]
    },
    {
     "name": "stdout",
     "output_type": "stream",
     "text": [
      "downloading /n/data1/hms/neurobio/sabatini/rich/analysis/make_dFoF_and_tqm/mouse_0403L/20230801/jobNum_0/print_log_16805933.log   to   /media/rich/bigSSD/analysis_data/face_rhythm/mouse_0403L/dFoF_and_tqm/20230801/jobNum_0/print_log_16805933.log\n"
     ]
    },
    {
     "name": "stderr",
     "output_type": "stream",
     "text": [
      "0.00b [00:00, ?b/s]\n"
     ]
    },
    {
     "name": "stdout",
     "output_type": "stream",
     "text": [
      "downloading /n/data1/hms/neurobio/sabatini/rich/analysis/make_dFoF_and_tqm/mouse_0403L/20230801/make_dFoF_and_tqm.py   to   /media/rich/bigSSD/analysis_data/face_rhythm/mouse_0403L/dFoF_and_tqm/20230801/make_dFoF_and_tqm.py\n"
     ]
    },
    {
     "name": "stderr",
     "output_type": "stream",
     "text": [
      "0.00b [00:00, ?b/s]\n"
     ]
    },
    {
     "name": "stdout",
     "output_type": "stream",
     "text": [
      "downloading /n/data1/hms/neurobio/sabatini/rich/analysis/make_dFoF_and_tqm/mouse_0403L/20230801/dispatcher.py   to   /media/rich/bigSSD/analysis_data/face_rhythm/mouse_0403L/dFoF_and_tqm/20230801/dispatcher.py\n"
     ]
    },
    {
     "name": "stderr",
     "output_type": "stream",
     "text": [
      "0.00b [00:00, ?b/s]\n"
     ]
    },
    {
     "name": "stdout",
     "output_type": "stream",
     "text": [
      "downloading /n/data1/hms/neurobio/sabatini/rich/analysis/make_dFoF_and_tqm/mouse_0403L/20230801/notes.txt   to   /media/rich/bigSSD/analysis_data/face_rhythm/mouse_0403L/dFoF_and_tqm/20230801/notes.txt\n"
     ]
    },
    {
     "name": "stderr",
     "output_type": "stream",
     "text": [
      "0.00b [00:00, ?b/s]\n"
     ]
    },
    {
     "name": "stdout",
     "output_type": "stream",
     "text": [
      "downloading /n/data1/hms/neurobio/sabatini/rich/analysis/make_dFoF_and_tqm/mouse_0403L/20230731/parameters_batch.json   to   /media/rich/bigSSD/analysis_data/face_rhythm/mouse_0403L/dFoF_and_tqm/20230731/parameters_batch.json\n"
     ]
    },
    {
     "name": "stderr",
     "output_type": "stream",
     "text": [
      "0.00b [00:00, ?b/s]\n"
     ]
    },
    {
     "name": "stdout",
     "output_type": "stream",
     "text": [
      "downloading /n/data1/hms/neurobio/sabatini/rich/analysis/make_dFoF_and_tqm/mouse_0403L/20230731/jobNum_0/print_log_16805924.log   to   /media/rich/bigSSD/analysis_data/face_rhythm/mouse_0403L/dFoF_and_tqm/20230731/jobNum_0/print_log_16805924.log\n"
     ]
    },
    {
     "name": "stderr",
     "output_type": "stream",
     "text": [
      "0.00b [00:00, ?b/s]\n"
     ]
    },
    {
     "name": "stdout",
     "output_type": "stream",
     "text": [
      "downloading /n/data1/hms/neurobio/sabatini/rich/analysis/make_dFoF_and_tqm/mouse_0403L/20230731/jobNum_0/tqm.pkl   to   /media/rich/bigSSD/analysis_data/face_rhythm/mouse_0403L/dFoF_and_tqm/20230731/jobNum_0/tqm.pkl\n"
     ]
    },
    {
     "name": "stderr",
     "output_type": "stream",
     "text": [
      "0.00b [00:00, ?b/s]\n"
     ]
    },
    {
     "name": "stdout",
     "output_type": "stream",
     "text": [
      "downloading /n/data1/hms/neurobio/sabatini/rich/analysis/make_dFoF_and_tqm/mouse_0403L/20230731/jobNum_0/params.json   to   /media/rich/bigSSD/analysis_data/face_rhythm/mouse_0403L/dFoF_and_tqm/20230731/jobNum_0/params.json\n"
     ]
    },
    {
     "name": "stderr",
     "output_type": "stream",
     "text": [
      "0.00b [00:00, ?b/s]\n"
     ]
    },
    {
     "name": "stdout",
     "output_type": "stream",
     "text": [
      "downloading /n/data1/hms/neurobio/sabatini/rich/analysis/make_dFoF_and_tqm/mouse_0403L/20230731/jobNum_0/dFoF.npy   to   /media/rich/bigSSD/analysis_data/face_rhythm/mouse_0403L/dFoF_and_tqm/20230731/jobNum_0/dFoF.npy\n"
     ]
    },
    {
     "name": "stderr",
     "output_type": "stream",
     "text": [
      "0.00b [00:26, ?b/s]\n"
     ]
    },
    {
     "name": "stdout",
     "output_type": "stream",
     "text": [
      "downloading /n/data1/hms/neurobio/sabatini/rich/analysis/make_dFoF_and_tqm/mouse_0403L/20230731/jobNum_0/make_dFoF_and_tqm.py   to   /media/rich/bigSSD/analysis_data/face_rhythm/mouse_0403L/dFoF_and_tqm/20230731/jobNum_0/make_dFoF_and_tqm.py\n"
     ]
    },
    {
     "name": "stderr",
     "output_type": "stream",
     "text": [
      "0.00b [00:00, ?b/s]\n"
     ]
    },
    {
     "name": "stdout",
     "output_type": "stream",
     "text": [
      "downloading /n/data1/hms/neurobio/sabatini/rich/analysis/make_dFoF_and_tqm/mouse_0403L/20230731/jobNum_0/iscell_tqm.npy   to   /media/rich/bigSSD/analysis_data/face_rhythm/mouse_0403L/dFoF_and_tqm/20230731/jobNum_0/iscell_tqm.npy\n"
     ]
    },
    {
     "name": "stderr",
     "output_type": "stream",
     "text": [
      "0.00b [00:00, ?b/s]\n"
     ]
    },
    {
     "name": "stdout",
     "output_type": "stream",
     "text": [
      "downloading /n/data1/hms/neurobio/sabatini/rich/analysis/make_dFoF_and_tqm/mouse_0403L/20230731/jobNum_0/sbatch_config.sh   to   /media/rich/bigSSD/analysis_data/face_rhythm/mouse_0403L/dFoF_and_tqm/20230731/jobNum_0/sbatch_config.sh\n"
     ]
    },
    {
     "name": "stderr",
     "output_type": "stream",
     "text": [
      "0.00b [00:00, ?b/s]\n"
     ]
    },
    {
     "name": "stdout",
     "output_type": "stream",
     "text": [
      "downloading /n/data1/hms/neurobio/sabatini/rich/analysis/make_dFoF_and_tqm/mouse_0403L/20230731/make_dFoF_and_tqm.py   to   /media/rich/bigSSD/analysis_data/face_rhythm/mouse_0403L/dFoF_and_tqm/20230731/make_dFoF_and_tqm.py\n"
     ]
    },
    {
     "name": "stderr",
     "output_type": "stream",
     "text": [
      "0.00b [00:00, ?b/s]\n"
     ]
    },
    {
     "name": "stdout",
     "output_type": "stream",
     "text": [
      "downloading /n/data1/hms/neurobio/sabatini/rich/analysis/make_dFoF_and_tqm/mouse_0403L/20230731/dispatcher.py   to   /media/rich/bigSSD/analysis_data/face_rhythm/mouse_0403L/dFoF_and_tqm/20230731/dispatcher.py\n"
     ]
    },
    {
     "name": "stderr",
     "output_type": "stream",
     "text": [
      "0.00b [00:00, ?b/s]\n"
     ]
    },
    {
     "name": "stdout",
     "output_type": "stream",
     "text": [
      "downloading /n/data1/hms/neurobio/sabatini/rich/analysis/make_dFoF_and_tqm/mouse_0403L/20230731/notes.txt   to   /media/rich/bigSSD/analysis_data/face_rhythm/mouse_0403L/dFoF_and_tqm/20230731/notes.txt\n"
     ]
    },
    {
     "name": "stderr",
     "output_type": "stream",
     "text": [
      "0.00b [00:00, ?b/s]\n"
     ]
    },
    {
     "name": "stdout",
     "output_type": "stream",
     "text": [
      "downloading /n/data1/hms/neurobio/sabatini/rich/analysis/make_dFoF_and_tqm/mouse_0403L/20230724/parameters_batch.json   to   /media/rich/bigSSD/analysis_data/face_rhythm/mouse_0403L/dFoF_and_tqm/20230724/parameters_batch.json\n"
     ]
    },
    {
     "name": "stderr",
     "output_type": "stream",
     "text": [
      "0.00b [00:00, ?b/s]\n"
     ]
    },
    {
     "name": "stdout",
     "output_type": "stream",
     "text": [
      "downloading /n/data1/hms/neurobio/sabatini/rich/analysis/make_dFoF_and_tqm/mouse_0403L/20230724/jobNum_0/tqm.pkl   to   /media/rich/bigSSD/analysis_data/face_rhythm/mouse_0403L/dFoF_and_tqm/20230724/jobNum_0/tqm.pkl\n"
     ]
    },
    {
     "name": "stderr",
     "output_type": "stream",
     "text": [
      "0.00b [00:00, ?b/s]\n"
     ]
    },
    {
     "name": "stdout",
     "output_type": "stream",
     "text": [
      "downloading /n/data1/hms/neurobio/sabatini/rich/analysis/make_dFoF_and_tqm/mouse_0403L/20230724/jobNum_0/params.json   to   /media/rich/bigSSD/analysis_data/face_rhythm/mouse_0403L/dFoF_and_tqm/20230724/jobNum_0/params.json\n"
     ]
    },
    {
     "name": "stderr",
     "output_type": "stream",
     "text": [
      "0.00b [00:00, ?b/s]\n"
     ]
    },
    {
     "name": "stdout",
     "output_type": "stream",
     "text": [
      "downloading /n/data1/hms/neurobio/sabatini/rich/analysis/make_dFoF_and_tqm/mouse_0403L/20230724/jobNum_0/dFoF.npy   to   /media/rich/bigSSD/analysis_data/face_rhythm/mouse_0403L/dFoF_and_tqm/20230724/jobNum_0/dFoF.npy\n"
     ]
    },
    {
     "name": "stderr",
     "output_type": "stream",
     "text": [
      "0.00b [00:27, ?b/s]\n"
     ]
    },
    {
     "name": "stdout",
     "output_type": "stream",
     "text": [
      "downloading /n/data1/hms/neurobio/sabatini/rich/analysis/make_dFoF_and_tqm/mouse_0403L/20230724/jobNum_0/make_dFoF_and_tqm.py   to   /media/rich/bigSSD/analysis_data/face_rhythm/mouse_0403L/dFoF_and_tqm/20230724/jobNum_0/make_dFoF_and_tqm.py\n"
     ]
    },
    {
     "name": "stderr",
     "output_type": "stream",
     "text": [
      "0.00b [00:00, ?b/s]\n"
     ]
    },
    {
     "name": "stdout",
     "output_type": "stream",
     "text": [
      "downloading /n/data1/hms/neurobio/sabatini/rich/analysis/make_dFoF_and_tqm/mouse_0403L/20230724/jobNum_0/iscell_tqm.npy   to   /media/rich/bigSSD/analysis_data/face_rhythm/mouse_0403L/dFoF_and_tqm/20230724/jobNum_0/iscell_tqm.npy\n"
     ]
    },
    {
     "name": "stderr",
     "output_type": "stream",
     "text": [
      "0.00b [00:00, ?b/s]\n"
     ]
    },
    {
     "name": "stdout",
     "output_type": "stream",
     "text": [
      "downloading /n/data1/hms/neurobio/sabatini/rich/analysis/make_dFoF_and_tqm/mouse_0403L/20230724/jobNum_0/sbatch_config.sh   to   /media/rich/bigSSD/analysis_data/face_rhythm/mouse_0403L/dFoF_and_tqm/20230724/jobNum_0/sbatch_config.sh\n"
     ]
    },
    {
     "name": "stderr",
     "output_type": "stream",
     "text": [
      "0.00b [00:00, ?b/s]\n"
     ]
    },
    {
     "name": "stdout",
     "output_type": "stream",
     "text": [
      "downloading /n/data1/hms/neurobio/sabatini/rich/analysis/make_dFoF_and_tqm/mouse_0403L/20230724/jobNum_0/print_log_16805875.log   to   /media/rich/bigSSD/analysis_data/face_rhythm/mouse_0403L/dFoF_and_tqm/20230724/jobNum_0/print_log_16805875.log\n"
     ]
    },
    {
     "name": "stderr",
     "output_type": "stream",
     "text": [
      "0.00b [00:00, ?b/s]\n"
     ]
    },
    {
     "name": "stdout",
     "output_type": "stream",
     "text": [
      "downloading /n/data1/hms/neurobio/sabatini/rich/analysis/make_dFoF_and_tqm/mouse_0403L/20230724/make_dFoF_and_tqm.py   to   /media/rich/bigSSD/analysis_data/face_rhythm/mouse_0403L/dFoF_and_tqm/20230724/make_dFoF_and_tqm.py\n"
     ]
    },
    {
     "name": "stderr",
     "output_type": "stream",
     "text": [
      "0.00b [00:00, ?b/s]\n"
     ]
    },
    {
     "name": "stdout",
     "output_type": "stream",
     "text": [
      "downloading /n/data1/hms/neurobio/sabatini/rich/analysis/make_dFoF_and_tqm/mouse_0403L/20230724/dispatcher.py   to   /media/rich/bigSSD/analysis_data/face_rhythm/mouse_0403L/dFoF_and_tqm/20230724/dispatcher.py\n"
     ]
    },
    {
     "name": "stderr",
     "output_type": "stream",
     "text": [
      "0.00b [00:00, ?b/s]\n"
     ]
    },
    {
     "name": "stdout",
     "output_type": "stream",
     "text": [
      "downloading /n/data1/hms/neurobio/sabatini/rich/analysis/make_dFoF_and_tqm/mouse_0403L/20230724/notes.txt   to   /media/rich/bigSSD/analysis_data/face_rhythm/mouse_0403L/dFoF_and_tqm/20230724/notes.txt\n"
     ]
    },
    {
     "name": "stderr",
     "output_type": "stream",
     "text": [
      "0.00b [00:00, ?b/s]\n"
     ]
    },
    {
     "name": "stdout",
     "output_type": "stream",
     "text": [
      "downloading /n/data1/hms/neurobio/sabatini/rich/analysis/make_dFoF_and_tqm/mouse_0403L/20230710/parameters_batch.json   to   /media/rich/bigSSD/analysis_data/face_rhythm/mouse_0403L/dFoF_and_tqm/20230710/parameters_batch.json\n"
     ]
    },
    {
     "name": "stderr",
     "output_type": "stream",
     "text": [
      "0.00b [00:00, ?b/s]\n"
     ]
    },
    {
     "name": "stdout",
     "output_type": "stream",
     "text": [
      "downloading /n/data1/hms/neurobio/sabatini/rich/analysis/make_dFoF_and_tqm/mouse_0403L/20230710/jobNum_0/tqm.pkl   to   /media/rich/bigSSD/analysis_data/face_rhythm/mouse_0403L/dFoF_and_tqm/20230710/jobNum_0/tqm.pkl\n"
     ]
    },
    {
     "name": "stderr",
     "output_type": "stream",
     "text": [
      "0.00b [00:00, ?b/s]\n"
     ]
    },
    {
     "name": "stdout",
     "output_type": "stream",
     "text": [
      "downloading /n/data1/hms/neurobio/sabatini/rich/analysis/make_dFoF_and_tqm/mouse_0403L/20230710/jobNum_0/params.json   to   /media/rich/bigSSD/analysis_data/face_rhythm/mouse_0403L/dFoF_and_tqm/20230710/jobNum_0/params.json\n"
     ]
    },
    {
     "name": "stderr",
     "output_type": "stream",
     "text": [
      "0.00b [00:00, ?b/s]\n"
     ]
    },
    {
     "name": "stdout",
     "output_type": "stream",
     "text": [
      "downloading /n/data1/hms/neurobio/sabatini/rich/analysis/make_dFoF_and_tqm/mouse_0403L/20230710/jobNum_0/dFoF.npy   to   /media/rich/bigSSD/analysis_data/face_rhythm/mouse_0403L/dFoF_and_tqm/20230710/jobNum_0/dFoF.npy\n"
     ]
    },
    {
     "name": "stderr",
     "output_type": "stream",
     "text": [
      "0.00b [00:24, ?b/s]\n"
     ]
    },
    {
     "name": "stdout",
     "output_type": "stream",
     "text": [
      "downloading /n/data1/hms/neurobio/sabatini/rich/analysis/make_dFoF_and_tqm/mouse_0403L/20230710/jobNum_0/print_log_16805781.log   to   /media/rich/bigSSD/analysis_data/face_rhythm/mouse_0403L/dFoF_and_tqm/20230710/jobNum_0/print_log_16805781.log\n"
     ]
    },
    {
     "name": "stderr",
     "output_type": "stream",
     "text": [
      "0.00b [00:00, ?b/s]\n"
     ]
    },
    {
     "name": "stdout",
     "output_type": "stream",
     "text": [
      "downloading /n/data1/hms/neurobio/sabatini/rich/analysis/make_dFoF_and_tqm/mouse_0403L/20230710/jobNum_0/make_dFoF_and_tqm.py   to   /media/rich/bigSSD/analysis_data/face_rhythm/mouse_0403L/dFoF_and_tqm/20230710/jobNum_0/make_dFoF_and_tqm.py\n"
     ]
    },
    {
     "name": "stderr",
     "output_type": "stream",
     "text": [
      "0.00b [00:00, ?b/s]\n"
     ]
    },
    {
     "name": "stdout",
     "output_type": "stream",
     "text": [
      "downloading /n/data1/hms/neurobio/sabatini/rich/analysis/make_dFoF_and_tqm/mouse_0403L/20230710/jobNum_0/iscell_tqm.npy   to   /media/rich/bigSSD/analysis_data/face_rhythm/mouse_0403L/dFoF_and_tqm/20230710/jobNum_0/iscell_tqm.npy\n"
     ]
    },
    {
     "name": "stderr",
     "output_type": "stream",
     "text": [
      "0.00b [00:00, ?b/s]\n"
     ]
    },
    {
     "name": "stdout",
     "output_type": "stream",
     "text": [
      "downloading /n/data1/hms/neurobio/sabatini/rich/analysis/make_dFoF_and_tqm/mouse_0403L/20230710/jobNum_0/sbatch_config.sh   to   /media/rich/bigSSD/analysis_data/face_rhythm/mouse_0403L/dFoF_and_tqm/20230710/jobNum_0/sbatch_config.sh\n"
     ]
    },
    {
     "name": "stderr",
     "output_type": "stream",
     "text": [
      "0.00b [00:00, ?b/s]\n"
     ]
    },
    {
     "name": "stdout",
     "output_type": "stream",
     "text": [
      "downloading /n/data1/hms/neurobio/sabatini/rich/analysis/make_dFoF_and_tqm/mouse_0403L/20230710/make_dFoF_and_tqm.py   to   /media/rich/bigSSD/analysis_data/face_rhythm/mouse_0403L/dFoF_and_tqm/20230710/make_dFoF_and_tqm.py\n"
     ]
    },
    {
     "name": "stderr",
     "output_type": "stream",
     "text": [
      "0.00b [00:00, ?b/s]\n"
     ]
    },
    {
     "name": "stdout",
     "output_type": "stream",
     "text": [
      "downloading /n/data1/hms/neurobio/sabatini/rich/analysis/make_dFoF_and_tqm/mouse_0403L/20230710/dispatcher.py   to   /media/rich/bigSSD/analysis_data/face_rhythm/mouse_0403L/dFoF_and_tqm/20230710/dispatcher.py\n"
     ]
    },
    {
     "name": "stderr",
     "output_type": "stream",
     "text": [
      "0.00b [00:00, ?b/s]\n"
     ]
    },
    {
     "name": "stdout",
     "output_type": "stream",
     "text": [
      "downloading /n/data1/hms/neurobio/sabatini/rich/analysis/make_dFoF_and_tqm/mouse_0403L/20230710/notes.txt   to   /media/rich/bigSSD/analysis_data/face_rhythm/mouse_0403L/dFoF_and_tqm/20230710/notes.txt\n"
     ]
    },
    {
     "name": "stderr",
     "output_type": "stream",
     "text": [
      "0.00b [00:00, ?b/s]\n"
     ]
    },
    {
     "name": "stdout",
     "output_type": "stream",
     "text": [
      "downloading /n/data1/hms/neurobio/sabatini/rich/analysis/make_dFoF_and_tqm/mouse_0403L/20230723/parameters_batch.json   to   /media/rich/bigSSD/analysis_data/face_rhythm/mouse_0403L/dFoF_and_tqm/20230723/parameters_batch.json\n"
     ]
    },
    {
     "name": "stderr",
     "output_type": "stream",
     "text": [
      "0.00b [00:00, ?b/s]\n"
     ]
    },
    {
     "name": "stdout",
     "output_type": "stream",
     "text": [
      "downloading /n/data1/hms/neurobio/sabatini/rich/analysis/make_dFoF_and_tqm/mouse_0403L/20230723/jobNum_0/tqm.pkl   to   /media/rich/bigSSD/analysis_data/face_rhythm/mouse_0403L/dFoF_and_tqm/20230723/jobNum_0/tqm.pkl\n"
     ]
    },
    {
     "name": "stderr",
     "output_type": "stream",
     "text": [
      "0.00b [00:00, ?b/s]\n"
     ]
    },
    {
     "name": "stdout",
     "output_type": "stream",
     "text": [
      "downloading /n/data1/hms/neurobio/sabatini/rich/analysis/make_dFoF_and_tqm/mouse_0403L/20230723/jobNum_0/params.json   to   /media/rich/bigSSD/analysis_data/face_rhythm/mouse_0403L/dFoF_and_tqm/20230723/jobNum_0/params.json\n"
     ]
    },
    {
     "name": "stderr",
     "output_type": "stream",
     "text": [
      "0.00b [00:00, ?b/s]\n"
     ]
    },
    {
     "name": "stdout",
     "output_type": "stream",
     "text": [
      "downloading /n/data1/hms/neurobio/sabatini/rich/analysis/make_dFoF_and_tqm/mouse_0403L/20230723/jobNum_0/dFoF.npy   to   /media/rich/bigSSD/analysis_data/face_rhythm/mouse_0403L/dFoF_and_tqm/20230723/jobNum_0/dFoF.npy\n"
     ]
    },
    {
     "name": "stderr",
     "output_type": "stream",
     "text": [
      "0.00b [00:29, ?b/s]\n"
     ]
    },
    {
     "name": "stdout",
     "output_type": "stream",
     "text": [
      "downloading /n/data1/hms/neurobio/sabatini/rich/analysis/make_dFoF_and_tqm/mouse_0403L/20230723/jobNum_0/print_log_16805865.log   to   /media/rich/bigSSD/analysis_data/face_rhythm/mouse_0403L/dFoF_and_tqm/20230723/jobNum_0/print_log_16805865.log\n"
     ]
    },
    {
     "name": "stderr",
     "output_type": "stream",
     "text": [
      "0.00b [00:00, ?b/s]\n"
     ]
    },
    {
     "name": "stdout",
     "output_type": "stream",
     "text": [
      "downloading /n/data1/hms/neurobio/sabatini/rich/analysis/make_dFoF_and_tqm/mouse_0403L/20230723/jobNum_0/make_dFoF_and_tqm.py   to   /media/rich/bigSSD/analysis_data/face_rhythm/mouse_0403L/dFoF_and_tqm/20230723/jobNum_0/make_dFoF_and_tqm.py\n"
     ]
    },
    {
     "name": "stderr",
     "output_type": "stream",
     "text": [
      "0.00b [00:00, ?b/s]\n"
     ]
    },
    {
     "name": "stdout",
     "output_type": "stream",
     "text": [
      "downloading /n/data1/hms/neurobio/sabatini/rich/analysis/make_dFoF_and_tqm/mouse_0403L/20230723/jobNum_0/iscell_tqm.npy   to   /media/rich/bigSSD/analysis_data/face_rhythm/mouse_0403L/dFoF_and_tqm/20230723/jobNum_0/iscell_tqm.npy\n"
     ]
    },
    {
     "name": "stderr",
     "output_type": "stream",
     "text": [
      "0.00b [00:00, ?b/s]\n"
     ]
    },
    {
     "name": "stdout",
     "output_type": "stream",
     "text": [
      "downloading /n/data1/hms/neurobio/sabatini/rich/analysis/make_dFoF_and_tqm/mouse_0403L/20230723/jobNum_0/sbatch_config.sh   to   /media/rich/bigSSD/analysis_data/face_rhythm/mouse_0403L/dFoF_and_tqm/20230723/jobNum_0/sbatch_config.sh\n"
     ]
    },
    {
     "name": "stderr",
     "output_type": "stream",
     "text": [
      "0.00b [00:00, ?b/s]\n"
     ]
    },
    {
     "name": "stdout",
     "output_type": "stream",
     "text": [
      "downloading /n/data1/hms/neurobio/sabatini/rich/analysis/make_dFoF_and_tqm/mouse_0403L/20230723/make_dFoF_and_tqm.py   to   /media/rich/bigSSD/analysis_data/face_rhythm/mouse_0403L/dFoF_and_tqm/20230723/make_dFoF_and_tqm.py\n"
     ]
    },
    {
     "name": "stderr",
     "output_type": "stream",
     "text": [
      "0.00b [00:00, ?b/s]\n"
     ]
    },
    {
     "name": "stdout",
     "output_type": "stream",
     "text": [
      "downloading /n/data1/hms/neurobio/sabatini/rich/analysis/make_dFoF_and_tqm/mouse_0403L/20230723/dispatcher.py   to   /media/rich/bigSSD/analysis_data/face_rhythm/mouse_0403L/dFoF_and_tqm/20230723/dispatcher.py\n"
     ]
    },
    {
     "name": "stderr",
     "output_type": "stream",
     "text": [
      "0.00b [00:00, ?b/s]\n"
     ]
    },
    {
     "name": "stdout",
     "output_type": "stream",
     "text": [
      "downloading /n/data1/hms/neurobio/sabatini/rich/analysis/make_dFoF_and_tqm/mouse_0403L/20230723/notes.txt   to   /media/rich/bigSSD/analysis_data/face_rhythm/mouse_0403L/dFoF_and_tqm/20230723/notes.txt\n"
     ]
    },
    {
     "name": "stderr",
     "output_type": "stream",
     "text": [
      "0.00b [00:00, ?b/s]\n"
     ]
    },
    {
     "name": "stdout",
     "output_type": "stream",
     "text": [
      "downloading /n/data1/hms/neurobio/sabatini/rich/analysis/make_dFoF_and_tqm/mouse_0403L/20230716/parameters_batch.json   to   /media/rich/bigSSD/analysis_data/face_rhythm/mouse_0403L/dFoF_and_tqm/20230716/parameters_batch.json\n"
     ]
    },
    {
     "name": "stderr",
     "output_type": "stream",
     "text": [
      "0.00b [00:00, ?b/s]\n"
     ]
    },
    {
     "name": "stdout",
     "output_type": "stream",
     "text": [
      "downloading /n/data1/hms/neurobio/sabatini/rich/analysis/make_dFoF_and_tqm/mouse_0403L/20230716/jobNum_0/tqm.pkl   to   /media/rich/bigSSD/analysis_data/face_rhythm/mouse_0403L/dFoF_and_tqm/20230716/jobNum_0/tqm.pkl\n"
     ]
    },
    {
     "name": "stderr",
     "output_type": "stream",
     "text": [
      "0.00b [00:00, ?b/s]\n"
     ]
    },
    {
     "name": "stdout",
     "output_type": "stream",
     "text": [
      "downloading /n/data1/hms/neurobio/sabatini/rich/analysis/make_dFoF_and_tqm/mouse_0403L/20230716/jobNum_0/params.json   to   /media/rich/bigSSD/analysis_data/face_rhythm/mouse_0403L/dFoF_and_tqm/20230716/jobNum_0/params.json\n"
     ]
    },
    {
     "name": "stderr",
     "output_type": "stream",
     "text": [
      "0.00b [00:00, ?b/s]\n"
     ]
    },
    {
     "name": "stdout",
     "output_type": "stream",
     "text": [
      "downloading /n/data1/hms/neurobio/sabatini/rich/analysis/make_dFoF_and_tqm/mouse_0403L/20230716/jobNum_0/dFoF.npy   to   /media/rich/bigSSD/analysis_data/face_rhythm/mouse_0403L/dFoF_and_tqm/20230716/jobNum_0/dFoF.npy\n"
     ]
    },
    {
     "name": "stderr",
     "output_type": "stream",
     "text": [
      "0.00b [00:34, ?b/s]\n"
     ]
    },
    {
     "name": "stdout",
     "output_type": "stream",
     "text": [
      "downloading /n/data1/hms/neurobio/sabatini/rich/analysis/make_dFoF_and_tqm/mouse_0403L/20230716/jobNum_0/print_log_16805837.log   to   /media/rich/bigSSD/analysis_data/face_rhythm/mouse_0403L/dFoF_and_tqm/20230716/jobNum_0/print_log_16805837.log\n"
     ]
    },
    {
     "name": "stderr",
     "output_type": "stream",
     "text": [
      "0.00b [00:00, ?b/s]\n"
     ]
    },
    {
     "name": "stdout",
     "output_type": "stream",
     "text": [
      "downloading /n/data1/hms/neurobio/sabatini/rich/analysis/make_dFoF_and_tqm/mouse_0403L/20230716/jobNum_0/make_dFoF_and_tqm.py   to   /media/rich/bigSSD/analysis_data/face_rhythm/mouse_0403L/dFoF_and_tqm/20230716/jobNum_0/make_dFoF_and_tqm.py\n"
     ]
    },
    {
     "name": "stderr",
     "output_type": "stream",
     "text": [
      "0.00b [00:00, ?b/s]\n"
     ]
    },
    {
     "name": "stdout",
     "output_type": "stream",
     "text": [
      "downloading /n/data1/hms/neurobio/sabatini/rich/analysis/make_dFoF_and_tqm/mouse_0403L/20230716/jobNum_0/iscell_tqm.npy   to   /media/rich/bigSSD/analysis_data/face_rhythm/mouse_0403L/dFoF_and_tqm/20230716/jobNum_0/iscell_tqm.npy\n"
     ]
    },
    {
     "name": "stderr",
     "output_type": "stream",
     "text": [
      "0.00b [00:00, ?b/s]\n"
     ]
    },
    {
     "name": "stdout",
     "output_type": "stream",
     "text": [
      "downloading /n/data1/hms/neurobio/sabatini/rich/analysis/make_dFoF_and_tqm/mouse_0403L/20230716/jobNum_0/sbatch_config.sh   to   /media/rich/bigSSD/analysis_data/face_rhythm/mouse_0403L/dFoF_and_tqm/20230716/jobNum_0/sbatch_config.sh\n"
     ]
    },
    {
     "name": "stderr",
     "output_type": "stream",
     "text": [
      "0.00b [00:00, ?b/s]\n"
     ]
    },
    {
     "name": "stdout",
     "output_type": "stream",
     "text": [
      "downloading /n/data1/hms/neurobio/sabatini/rich/analysis/make_dFoF_and_tqm/mouse_0403L/20230716/make_dFoF_and_tqm.py   to   /media/rich/bigSSD/analysis_data/face_rhythm/mouse_0403L/dFoF_and_tqm/20230716/make_dFoF_and_tqm.py\n"
     ]
    },
    {
     "name": "stderr",
     "output_type": "stream",
     "text": [
      "0.00b [00:00, ?b/s]\n"
     ]
    },
    {
     "name": "stdout",
     "output_type": "stream",
     "text": [
      "downloading /n/data1/hms/neurobio/sabatini/rich/analysis/make_dFoF_and_tqm/mouse_0403L/20230716/dispatcher.py   to   /media/rich/bigSSD/analysis_data/face_rhythm/mouse_0403L/dFoF_and_tqm/20230716/dispatcher.py\n"
     ]
    },
    {
     "name": "stderr",
     "output_type": "stream",
     "text": [
      "0.00b [00:00, ?b/s]\n"
     ]
    },
    {
     "name": "stdout",
     "output_type": "stream",
     "text": [
      "downloading /n/data1/hms/neurobio/sabatini/rich/analysis/make_dFoF_and_tqm/mouse_0403L/20230716/notes.txt   to   /media/rich/bigSSD/analysis_data/face_rhythm/mouse_0403L/dFoF_and_tqm/20230716/notes.txt\n"
     ]
    },
    {
     "name": "stderr",
     "output_type": "stream",
     "text": [
      "0.00b [00:00, ?b/s]\n"
     ]
    },
    {
     "name": "stdout",
     "output_type": "stream",
     "text": [
      "downloading /n/data1/hms/neurobio/sabatini/rich/analysis/make_dFoF_and_tqm/mouse_0403L/20230705/parameters_batch.json   to   /media/rich/bigSSD/analysis_data/face_rhythm/mouse_0403L/dFoF_and_tqm/20230705/parameters_batch.json\n"
     ]
    },
    {
     "name": "stderr",
     "output_type": "stream",
     "text": [
      "0.00b [00:00, ?b/s]\n"
     ]
    },
    {
     "name": "stdout",
     "output_type": "stream",
     "text": [
      "downloading /n/data1/hms/neurobio/sabatini/rich/analysis/make_dFoF_and_tqm/mouse_0403L/20230705/jobNum_0/print_log_16805748.log   to   /media/rich/bigSSD/analysis_data/face_rhythm/mouse_0403L/dFoF_and_tqm/20230705/jobNum_0/print_log_16805748.log\n"
     ]
    },
    {
     "name": "stderr",
     "output_type": "stream",
     "text": [
      "0.00b [00:00, ?b/s]\n"
     ]
    },
    {
     "name": "stdout",
     "output_type": "stream",
     "text": [
      "downloading /n/data1/hms/neurobio/sabatini/rich/analysis/make_dFoF_and_tqm/mouse_0403L/20230705/jobNum_0/tqm.pkl   to   /media/rich/bigSSD/analysis_data/face_rhythm/mouse_0403L/dFoF_and_tqm/20230705/jobNum_0/tqm.pkl\n"
     ]
    },
    {
     "name": "stderr",
     "output_type": "stream",
     "text": [
      "0.00b [00:00, ?b/s]\n"
     ]
    },
    {
     "name": "stdout",
     "output_type": "stream",
     "text": [
      "downloading /n/data1/hms/neurobio/sabatini/rich/analysis/make_dFoF_and_tqm/mouse_0403L/20230705/jobNum_0/params.json   to   /media/rich/bigSSD/analysis_data/face_rhythm/mouse_0403L/dFoF_and_tqm/20230705/jobNum_0/params.json\n"
     ]
    },
    {
     "name": "stderr",
     "output_type": "stream",
     "text": [
      "0.00b [00:00, ?b/s]\n"
     ]
    },
    {
     "name": "stdout",
     "output_type": "stream",
     "text": [
      "downloading /n/data1/hms/neurobio/sabatini/rich/analysis/make_dFoF_and_tqm/mouse_0403L/20230705/jobNum_0/dFoF.npy   to   /media/rich/bigSSD/analysis_data/face_rhythm/mouse_0403L/dFoF_and_tqm/20230705/jobNum_0/dFoF.npy\n"
     ]
    },
    {
     "name": "stderr",
     "output_type": "stream",
     "text": [
      "0.00b [00:28, ?b/s]\n"
     ]
    },
    {
     "name": "stdout",
     "output_type": "stream",
     "text": [
      "downloading /n/data1/hms/neurobio/sabatini/rich/analysis/make_dFoF_and_tqm/mouse_0403L/20230705/jobNum_0/make_dFoF_and_tqm.py   to   /media/rich/bigSSD/analysis_data/face_rhythm/mouse_0403L/dFoF_and_tqm/20230705/jobNum_0/make_dFoF_and_tqm.py\n"
     ]
    },
    {
     "name": "stderr",
     "output_type": "stream",
     "text": [
      "0.00b [00:00, ?b/s]\n"
     ]
    },
    {
     "name": "stdout",
     "output_type": "stream",
     "text": [
      "downloading /n/data1/hms/neurobio/sabatini/rich/analysis/make_dFoF_and_tqm/mouse_0403L/20230705/jobNum_0/iscell_tqm.npy   to   /media/rich/bigSSD/analysis_data/face_rhythm/mouse_0403L/dFoF_and_tqm/20230705/jobNum_0/iscell_tqm.npy\n"
     ]
    },
    {
     "name": "stderr",
     "output_type": "stream",
     "text": [
      "0.00b [00:00, ?b/s]\n"
     ]
    },
    {
     "name": "stdout",
     "output_type": "stream",
     "text": [
      "downloading /n/data1/hms/neurobio/sabatini/rich/analysis/make_dFoF_and_tqm/mouse_0403L/20230705/jobNum_0/sbatch_config.sh   to   /media/rich/bigSSD/analysis_data/face_rhythm/mouse_0403L/dFoF_and_tqm/20230705/jobNum_0/sbatch_config.sh\n"
     ]
    },
    {
     "name": "stderr",
     "output_type": "stream",
     "text": [
      "0.00b [00:00, ?b/s]\n"
     ]
    },
    {
     "name": "stdout",
     "output_type": "stream",
     "text": [
      "downloading /n/data1/hms/neurobio/sabatini/rich/analysis/make_dFoF_and_tqm/mouse_0403L/20230705/make_dFoF_and_tqm.py   to   /media/rich/bigSSD/analysis_data/face_rhythm/mouse_0403L/dFoF_and_tqm/20230705/make_dFoF_and_tqm.py\n"
     ]
    },
    {
     "name": "stderr",
     "output_type": "stream",
     "text": [
      "0.00b [00:00, ?b/s]\n"
     ]
    },
    {
     "name": "stdout",
     "output_type": "stream",
     "text": [
      "downloading /n/data1/hms/neurobio/sabatini/rich/analysis/make_dFoF_and_tqm/mouse_0403L/20230705/dispatcher.py   to   /media/rich/bigSSD/analysis_data/face_rhythm/mouse_0403L/dFoF_and_tqm/20230705/dispatcher.py\n"
     ]
    },
    {
     "name": "stderr",
     "output_type": "stream",
     "text": [
      "0.00b [00:00, ?b/s]\n"
     ]
    },
    {
     "name": "stdout",
     "output_type": "stream",
     "text": [
      "downloading /n/data1/hms/neurobio/sabatini/rich/analysis/make_dFoF_and_tqm/mouse_0403L/20230705/notes.txt   to   /media/rich/bigSSD/analysis_data/face_rhythm/mouse_0403L/dFoF_and_tqm/20230705/notes.txt\n"
     ]
    },
    {
     "name": "stderr",
     "output_type": "stream",
     "text": [
      "0.00b [00:00, ?b/s]\n"
     ]
    },
    {
     "name": "stdout",
     "output_type": "stream",
     "text": [
      "downloading /n/data1/hms/neurobio/sabatini/rich/analysis/make_dFoF_and_tqm/mouse_0403L/20230720/parameters_batch.json   to   /media/rich/bigSSD/analysis_data/face_rhythm/mouse_0403L/dFoF_and_tqm/20230720/parameters_batch.json\n"
     ]
    },
    {
     "name": "stderr",
     "output_type": "stream",
     "text": [
      "0.00b [00:00, ?b/s]\n"
     ]
    },
    {
     "name": "stdout",
     "output_type": "stream",
     "text": [
      "downloading /n/data1/hms/neurobio/sabatini/rich/analysis/make_dFoF_and_tqm/mouse_0403L/20230720/jobNum_0/tqm.pkl   to   /media/rich/bigSSD/analysis_data/face_rhythm/mouse_0403L/dFoF_and_tqm/20230720/jobNum_0/tqm.pkl\n"
     ]
    },
    {
     "name": "stderr",
     "output_type": "stream",
     "text": [
      "0.00b [00:00, ?b/s]\n"
     ]
    },
    {
     "name": "stdout",
     "output_type": "stream",
     "text": [
      "downloading /n/data1/hms/neurobio/sabatini/rich/analysis/make_dFoF_and_tqm/mouse_0403L/20230720/jobNum_0/params.json   to   /media/rich/bigSSD/analysis_data/face_rhythm/mouse_0403L/dFoF_and_tqm/20230720/jobNum_0/params.json\n"
     ]
    },
    {
     "name": "stderr",
     "output_type": "stream",
     "text": [
      "0.00b [00:00, ?b/s]\n"
     ]
    },
    {
     "name": "stdout",
     "output_type": "stream",
     "text": [
      "downloading /n/data1/hms/neurobio/sabatini/rich/analysis/make_dFoF_and_tqm/mouse_0403L/20230720/jobNum_0/dFoF.npy   to   /media/rich/bigSSD/analysis_data/face_rhythm/mouse_0403L/dFoF_and_tqm/20230720/jobNum_0/dFoF.npy\n"
     ]
    },
    {
     "name": "stderr",
     "output_type": "stream",
     "text": [
      "0.00b [00:28, ?b/s]\n"
     ]
    },
    {
     "name": "stdout",
     "output_type": "stream",
     "text": [
      "downloading /n/data1/hms/neurobio/sabatini/rich/analysis/make_dFoF_and_tqm/mouse_0403L/20230720/jobNum_0/print_log_16805850.log   to   /media/rich/bigSSD/analysis_data/face_rhythm/mouse_0403L/dFoF_and_tqm/20230720/jobNum_0/print_log_16805850.log\n"
     ]
    },
    {
     "name": "stderr",
     "output_type": "stream",
     "text": [
      "0.00b [00:00, ?b/s]\n"
     ]
    },
    {
     "name": "stdout",
     "output_type": "stream",
     "text": [
      "downloading /n/data1/hms/neurobio/sabatini/rich/analysis/make_dFoF_and_tqm/mouse_0403L/20230720/jobNum_0/make_dFoF_and_tqm.py   to   /media/rich/bigSSD/analysis_data/face_rhythm/mouse_0403L/dFoF_and_tqm/20230720/jobNum_0/make_dFoF_and_tqm.py\n"
     ]
    },
    {
     "name": "stderr",
     "output_type": "stream",
     "text": [
      "0.00b [00:00, ?b/s]\n"
     ]
    },
    {
     "name": "stdout",
     "output_type": "stream",
     "text": [
      "downloading /n/data1/hms/neurobio/sabatini/rich/analysis/make_dFoF_and_tqm/mouse_0403L/20230720/jobNum_0/iscell_tqm.npy   to   /media/rich/bigSSD/analysis_data/face_rhythm/mouse_0403L/dFoF_and_tqm/20230720/jobNum_0/iscell_tqm.npy\n"
     ]
    },
    {
     "name": "stderr",
     "output_type": "stream",
     "text": [
      "0.00b [00:00, ?b/s]\n"
     ]
    },
    {
     "name": "stdout",
     "output_type": "stream",
     "text": [
      "downloading /n/data1/hms/neurobio/sabatini/rich/analysis/make_dFoF_and_tqm/mouse_0403L/20230720/jobNum_0/sbatch_config.sh   to   /media/rich/bigSSD/analysis_data/face_rhythm/mouse_0403L/dFoF_and_tqm/20230720/jobNum_0/sbatch_config.sh\n"
     ]
    },
    {
     "name": "stderr",
     "output_type": "stream",
     "text": [
      "0.00b [00:00, ?b/s]\n"
     ]
    },
    {
     "name": "stdout",
     "output_type": "stream",
     "text": [
      "downloading /n/data1/hms/neurobio/sabatini/rich/analysis/make_dFoF_and_tqm/mouse_0403L/20230720/make_dFoF_and_tqm.py   to   /media/rich/bigSSD/analysis_data/face_rhythm/mouse_0403L/dFoF_and_tqm/20230720/make_dFoF_and_tqm.py\n"
     ]
    },
    {
     "name": "stderr",
     "output_type": "stream",
     "text": [
      "0.00b [00:00, ?b/s]\n"
     ]
    },
    {
     "name": "stdout",
     "output_type": "stream",
     "text": [
      "downloading /n/data1/hms/neurobio/sabatini/rich/analysis/make_dFoF_and_tqm/mouse_0403L/20230720/dispatcher.py   to   /media/rich/bigSSD/analysis_data/face_rhythm/mouse_0403L/dFoF_and_tqm/20230720/dispatcher.py\n"
     ]
    },
    {
     "name": "stderr",
     "output_type": "stream",
     "text": [
      "0.00b [00:00, ?b/s]\n"
     ]
    },
    {
     "name": "stdout",
     "output_type": "stream",
     "text": [
      "downloading /n/data1/hms/neurobio/sabatini/rich/analysis/make_dFoF_and_tqm/mouse_0403L/20230720/notes.txt   to   /media/rich/bigSSD/analysis_data/face_rhythm/mouse_0403L/dFoF_and_tqm/20230720/notes.txt\n"
     ]
    },
    {
     "name": "stderr",
     "output_type": "stream",
     "text": [
      "0.00b [00:00, ?b/s]\n"
     ]
    },
    {
     "name": "stdout",
     "output_type": "stream",
     "text": [
      "downloading /n/data1/hms/neurobio/sabatini/rich/analysis/make_dFoF_and_tqm/mouse_0403L/20230707/parameters_batch.json   to   /media/rich/bigSSD/analysis_data/face_rhythm/mouse_0403L/dFoF_and_tqm/20230707/parameters_batch.json\n"
     ]
    },
    {
     "name": "stderr",
     "output_type": "stream",
     "text": [
      "0.00b [00:00, ?b/s]\n"
     ]
    },
    {
     "name": "stdout",
     "output_type": "stream",
     "text": [
      "downloading /n/data1/hms/neurobio/sabatini/rich/analysis/make_dFoF_and_tqm/mouse_0403L/20230707/jobNum_0/tqm.pkl   to   /media/rich/bigSSD/analysis_data/face_rhythm/mouse_0403L/dFoF_and_tqm/20230707/jobNum_0/tqm.pkl\n"
     ]
    },
    {
     "name": "stderr",
     "output_type": "stream",
     "text": [
      "0.00b [00:00, ?b/s]\n"
     ]
    },
    {
     "name": "stdout",
     "output_type": "stream",
     "text": [
      "downloading /n/data1/hms/neurobio/sabatini/rich/analysis/make_dFoF_and_tqm/mouse_0403L/20230707/jobNum_0/params.json   to   /media/rich/bigSSD/analysis_data/face_rhythm/mouse_0403L/dFoF_and_tqm/20230707/jobNum_0/params.json\n"
     ]
    },
    {
     "name": "stderr",
     "output_type": "stream",
     "text": [
      "0.00b [00:00, ?b/s]\n"
     ]
    },
    {
     "name": "stdout",
     "output_type": "stream",
     "text": [
      "downloading /n/data1/hms/neurobio/sabatini/rich/analysis/make_dFoF_and_tqm/mouse_0403L/20230707/jobNum_0/dFoF.npy   to   /media/rich/bigSSD/analysis_data/face_rhythm/mouse_0403L/dFoF_and_tqm/20230707/jobNum_0/dFoF.npy\n"
     ]
    },
    {
     "name": "stderr",
     "output_type": "stream",
     "text": [
      "0.00b [00:27, ?b/s]\n"
     ]
    },
    {
     "name": "stdout",
     "output_type": "stream",
     "text": [
      "downloading /n/data1/hms/neurobio/sabatini/rich/analysis/make_dFoF_and_tqm/mouse_0403L/20230707/jobNum_0/print_log_16805757.log   to   /media/rich/bigSSD/analysis_data/face_rhythm/mouse_0403L/dFoF_and_tqm/20230707/jobNum_0/print_log_16805757.log\n"
     ]
    },
    {
     "name": "stderr",
     "output_type": "stream",
     "text": [
      "0.00b [00:00, ?b/s]\n"
     ]
    },
    {
     "name": "stdout",
     "output_type": "stream",
     "text": [
      "downloading /n/data1/hms/neurobio/sabatini/rich/analysis/make_dFoF_and_tqm/mouse_0403L/20230707/jobNum_0/make_dFoF_and_tqm.py   to   /media/rich/bigSSD/analysis_data/face_rhythm/mouse_0403L/dFoF_and_tqm/20230707/jobNum_0/make_dFoF_and_tqm.py\n"
     ]
    },
    {
     "name": "stderr",
     "output_type": "stream",
     "text": [
      "0.00b [00:00, ?b/s]\n"
     ]
    },
    {
     "name": "stdout",
     "output_type": "stream",
     "text": [
      "downloading /n/data1/hms/neurobio/sabatini/rich/analysis/make_dFoF_and_tqm/mouse_0403L/20230707/jobNum_0/iscell_tqm.npy   to   /media/rich/bigSSD/analysis_data/face_rhythm/mouse_0403L/dFoF_and_tqm/20230707/jobNum_0/iscell_tqm.npy\n"
     ]
    },
    {
     "name": "stderr",
     "output_type": "stream",
     "text": [
      "0.00b [00:00, ?b/s]\n"
     ]
    },
    {
     "name": "stdout",
     "output_type": "stream",
     "text": [
      "downloading /n/data1/hms/neurobio/sabatini/rich/analysis/make_dFoF_and_tqm/mouse_0403L/20230707/jobNum_0/sbatch_config.sh   to   /media/rich/bigSSD/analysis_data/face_rhythm/mouse_0403L/dFoF_and_tqm/20230707/jobNum_0/sbatch_config.sh\n"
     ]
    },
    {
     "name": "stderr",
     "output_type": "stream",
     "text": [
      "0.00b [00:00, ?b/s]\n"
     ]
    },
    {
     "name": "stdout",
     "output_type": "stream",
     "text": [
      "downloading /n/data1/hms/neurobio/sabatini/rich/analysis/make_dFoF_and_tqm/mouse_0403L/20230707/make_dFoF_and_tqm.py   to   /media/rich/bigSSD/analysis_data/face_rhythm/mouse_0403L/dFoF_and_tqm/20230707/make_dFoF_and_tqm.py\n"
     ]
    },
    {
     "name": "stderr",
     "output_type": "stream",
     "text": [
      "0.00b [00:00, ?b/s]\n"
     ]
    },
    {
     "name": "stdout",
     "output_type": "stream",
     "text": [
      "downloading /n/data1/hms/neurobio/sabatini/rich/analysis/make_dFoF_and_tqm/mouse_0403L/20230707/dispatcher.py   to   /media/rich/bigSSD/analysis_data/face_rhythm/mouse_0403L/dFoF_and_tqm/20230707/dispatcher.py\n"
     ]
    },
    {
     "name": "stderr",
     "output_type": "stream",
     "text": [
      "0.00b [00:00, ?b/s]\n"
     ]
    },
    {
     "name": "stdout",
     "output_type": "stream",
     "text": [
      "downloading /n/data1/hms/neurobio/sabatini/rich/analysis/make_dFoF_and_tqm/mouse_0403L/20230707/notes.txt   to   /media/rich/bigSSD/analysis_data/face_rhythm/mouse_0403L/dFoF_and_tqm/20230707/notes.txt\n"
     ]
    },
    {
     "name": "stderr",
     "output_type": "stream",
     "text": [
      "0.00b [00:00, ?b/s]\n"
     ]
    },
    {
     "name": "stdout",
     "output_type": "stream",
     "text": [
      "downloading /n/data1/hms/neurobio/sabatini/rich/analysis/make_dFoF_and_tqm/mouse_0403L/20230719/parameters_batch.json   to   /media/rich/bigSSD/analysis_data/face_rhythm/mouse_0403L/dFoF_and_tqm/20230719/parameters_batch.json\n"
     ]
    },
    {
     "name": "stderr",
     "output_type": "stream",
     "text": [
      "0.00b [00:00, ?b/s]\n"
     ]
    },
    {
     "name": "stdout",
     "output_type": "stream",
     "text": [
      "downloading /n/data1/hms/neurobio/sabatini/rich/analysis/make_dFoF_and_tqm/mouse_0403L/20230719/jobNum_0/tqm.pkl   to   /media/rich/bigSSD/analysis_data/face_rhythm/mouse_0403L/dFoF_and_tqm/20230719/jobNum_0/tqm.pkl\n"
     ]
    },
    {
     "name": "stderr",
     "output_type": "stream",
     "text": [
      "0.00b [00:00, ?b/s]\n"
     ]
    },
    {
     "name": "stdout",
     "output_type": "stream",
     "text": [
      "downloading /n/data1/hms/neurobio/sabatini/rich/analysis/make_dFoF_and_tqm/mouse_0403L/20230719/jobNum_0/params.json   to   /media/rich/bigSSD/analysis_data/face_rhythm/mouse_0403L/dFoF_and_tqm/20230719/jobNum_0/params.json\n"
     ]
    },
    {
     "name": "stderr",
     "output_type": "stream",
     "text": [
      "0.00b [00:00, ?b/s]\n"
     ]
    },
    {
     "name": "stdout",
     "output_type": "stream",
     "text": [
      "downloading /n/data1/hms/neurobio/sabatini/rich/analysis/make_dFoF_and_tqm/mouse_0403L/20230719/jobNum_0/dFoF.npy   to   /media/rich/bigSSD/analysis_data/face_rhythm/mouse_0403L/dFoF_and_tqm/20230719/jobNum_0/dFoF.npy\n"
     ]
    },
    {
     "name": "stderr",
     "output_type": "stream",
     "text": [
      "0.00b [00:24, ?b/s]\n"
     ]
    },
    {
     "name": "stdout",
     "output_type": "stream",
     "text": [
      "downloading /n/data1/hms/neurobio/sabatini/rich/analysis/make_dFoF_and_tqm/mouse_0403L/20230719/jobNum_0/print_log_16805846.log   to   /media/rich/bigSSD/analysis_data/face_rhythm/mouse_0403L/dFoF_and_tqm/20230719/jobNum_0/print_log_16805846.log\n"
     ]
    },
    {
     "name": "stderr",
     "output_type": "stream",
     "text": [
      "0.00b [00:00, ?b/s]\n"
     ]
    },
    {
     "name": "stdout",
     "output_type": "stream",
     "text": [
      "downloading /n/data1/hms/neurobio/sabatini/rich/analysis/make_dFoF_and_tqm/mouse_0403L/20230719/jobNum_0/make_dFoF_and_tqm.py   to   /media/rich/bigSSD/analysis_data/face_rhythm/mouse_0403L/dFoF_and_tqm/20230719/jobNum_0/make_dFoF_and_tqm.py\n"
     ]
    },
    {
     "name": "stderr",
     "output_type": "stream",
     "text": [
      "0.00b [00:00, ?b/s]\n"
     ]
    },
    {
     "name": "stdout",
     "output_type": "stream",
     "text": [
      "downloading /n/data1/hms/neurobio/sabatini/rich/analysis/make_dFoF_and_tqm/mouse_0403L/20230719/jobNum_0/iscell_tqm.npy   to   /media/rich/bigSSD/analysis_data/face_rhythm/mouse_0403L/dFoF_and_tqm/20230719/jobNum_0/iscell_tqm.npy\n"
     ]
    },
    {
     "name": "stderr",
     "output_type": "stream",
     "text": [
      "0.00b [00:00, ?b/s]\n"
     ]
    },
    {
     "name": "stdout",
     "output_type": "stream",
     "text": [
      "downloading /n/data1/hms/neurobio/sabatini/rich/analysis/make_dFoF_and_tqm/mouse_0403L/20230719/jobNum_0/sbatch_config.sh   to   /media/rich/bigSSD/analysis_data/face_rhythm/mouse_0403L/dFoF_and_tqm/20230719/jobNum_0/sbatch_config.sh\n"
     ]
    },
    {
     "name": "stderr",
     "output_type": "stream",
     "text": [
      "0.00b [00:00, ?b/s]\n"
     ]
    },
    {
     "name": "stdout",
     "output_type": "stream",
     "text": [
      "downloading /n/data1/hms/neurobio/sabatini/rich/analysis/make_dFoF_and_tqm/mouse_0403L/20230719/make_dFoF_and_tqm.py   to   /media/rich/bigSSD/analysis_data/face_rhythm/mouse_0403L/dFoF_and_tqm/20230719/make_dFoF_and_tqm.py\n"
     ]
    },
    {
     "name": "stderr",
     "output_type": "stream",
     "text": [
      "0.00b [00:00, ?b/s]\n"
     ]
    },
    {
     "name": "stdout",
     "output_type": "stream",
     "text": [
      "downloading /n/data1/hms/neurobio/sabatini/rich/analysis/make_dFoF_and_tqm/mouse_0403L/20230719/dispatcher.py   to   /media/rich/bigSSD/analysis_data/face_rhythm/mouse_0403L/dFoF_and_tqm/20230719/dispatcher.py\n"
     ]
    },
    {
     "name": "stderr",
     "output_type": "stream",
     "text": [
      "0.00b [00:00, ?b/s]\n"
     ]
    },
    {
     "name": "stdout",
     "output_type": "stream",
     "text": [
      "downloading /n/data1/hms/neurobio/sabatini/rich/analysis/make_dFoF_and_tqm/mouse_0403L/20230719/notes.txt   to   /media/rich/bigSSD/analysis_data/face_rhythm/mouse_0403L/dFoF_and_tqm/20230719/notes.txt\n"
     ]
    },
    {
     "name": "stderr",
     "output_type": "stream",
     "text": [
      "0.00b [00:00, ?b/s]\n"
     ]
    },
    {
     "name": "stdout",
     "output_type": "stream",
     "text": [
      "downloading /n/data1/hms/neurobio/sabatini/rich/analysis/make_dFoF_and_tqm/mouse_0403L/20230802/parameters_batch.json   to   /media/rich/bigSSD/analysis_data/face_rhythm/mouse_0403L/dFoF_and_tqm/20230802/parameters_batch.json\n"
     ]
    },
    {
     "name": "stderr",
     "output_type": "stream",
     "text": [
      "0.00b [00:00, ?b/s]\n"
     ]
    },
    {
     "name": "stdout",
     "output_type": "stream",
     "text": [
      "downloading /n/data1/hms/neurobio/sabatini/rich/analysis/make_dFoF_and_tqm/mouse_0403L/20230802/jobNum_0/tqm.pkl   to   /media/rich/bigSSD/analysis_data/face_rhythm/mouse_0403L/dFoF_and_tqm/20230802/jobNum_0/tqm.pkl\n"
     ]
    },
    {
     "name": "stderr",
     "output_type": "stream",
     "text": [
      "0.00b [00:00, ?b/s]\n"
     ]
    },
    {
     "name": "stdout",
     "output_type": "stream",
     "text": [
      "downloading /n/data1/hms/neurobio/sabatini/rich/analysis/make_dFoF_and_tqm/mouse_0403L/20230802/jobNum_0/params.json   to   /media/rich/bigSSD/analysis_data/face_rhythm/mouse_0403L/dFoF_and_tqm/20230802/jobNum_0/params.json\n"
     ]
    },
    {
     "name": "stderr",
     "output_type": "stream",
     "text": [
      "0.00b [00:00, ?b/s]\n"
     ]
    },
    {
     "name": "stdout",
     "output_type": "stream",
     "text": [
      "downloading /n/data1/hms/neurobio/sabatini/rich/analysis/make_dFoF_and_tqm/mouse_0403L/20230802/jobNum_0/dFoF.npy   to   /media/rich/bigSSD/analysis_data/face_rhythm/mouse_0403L/dFoF_and_tqm/20230802/jobNum_0/dFoF.npy\n"
     ]
    },
    {
     "name": "stderr",
     "output_type": "stream",
     "text": [
      "0.00b [00:23, ?b/s]\n"
     ]
    },
    {
     "name": "stdout",
     "output_type": "stream",
     "text": [
      "downloading /n/data1/hms/neurobio/sabatini/rich/analysis/make_dFoF_and_tqm/mouse_0403L/20230802/jobNum_0/print_log_16805936.log   to   /media/rich/bigSSD/analysis_data/face_rhythm/mouse_0403L/dFoF_and_tqm/20230802/jobNum_0/print_log_16805936.log\n"
     ]
    },
    {
     "name": "stderr",
     "output_type": "stream",
     "text": [
      "0.00b [00:00, ?b/s]\n"
     ]
    },
    {
     "name": "stdout",
     "output_type": "stream",
     "text": [
      "downloading /n/data1/hms/neurobio/sabatini/rich/analysis/make_dFoF_and_tqm/mouse_0403L/20230802/jobNum_0/make_dFoF_and_tqm.py   to   /media/rich/bigSSD/analysis_data/face_rhythm/mouse_0403L/dFoF_and_tqm/20230802/jobNum_0/make_dFoF_and_tqm.py\n"
     ]
    },
    {
     "name": "stderr",
     "output_type": "stream",
     "text": [
      "0.00b [00:00, ?b/s]\n"
     ]
    },
    {
     "name": "stdout",
     "output_type": "stream",
     "text": [
      "downloading /n/data1/hms/neurobio/sabatini/rich/analysis/make_dFoF_and_tqm/mouse_0403L/20230802/jobNum_0/iscell_tqm.npy   to   /media/rich/bigSSD/analysis_data/face_rhythm/mouse_0403L/dFoF_and_tqm/20230802/jobNum_0/iscell_tqm.npy\n"
     ]
    },
    {
     "name": "stderr",
     "output_type": "stream",
     "text": [
      "0.00b [00:00, ?b/s]\n"
     ]
    },
    {
     "name": "stdout",
     "output_type": "stream",
     "text": [
      "downloading /n/data1/hms/neurobio/sabatini/rich/analysis/make_dFoF_and_tqm/mouse_0403L/20230802/jobNum_0/sbatch_config.sh   to   /media/rich/bigSSD/analysis_data/face_rhythm/mouse_0403L/dFoF_and_tqm/20230802/jobNum_0/sbatch_config.sh\n"
     ]
    },
    {
     "name": "stderr",
     "output_type": "stream",
     "text": [
      "0.00b [00:00, ?b/s]\n"
     ]
    },
    {
     "name": "stdout",
     "output_type": "stream",
     "text": [
      "downloading /n/data1/hms/neurobio/sabatini/rich/analysis/make_dFoF_and_tqm/mouse_0403L/20230802/make_dFoF_and_tqm.py   to   /media/rich/bigSSD/analysis_data/face_rhythm/mouse_0403L/dFoF_and_tqm/20230802/make_dFoF_and_tqm.py\n"
     ]
    },
    {
     "name": "stderr",
     "output_type": "stream",
     "text": [
      "0.00b [00:00, ?b/s]\n"
     ]
    },
    {
     "name": "stdout",
     "output_type": "stream",
     "text": [
      "downloading /n/data1/hms/neurobio/sabatini/rich/analysis/make_dFoF_and_tqm/mouse_0403L/20230802/dispatcher.py   to   /media/rich/bigSSD/analysis_data/face_rhythm/mouse_0403L/dFoF_and_tqm/20230802/dispatcher.py\n"
     ]
    },
    {
     "name": "stderr",
     "output_type": "stream",
     "text": [
      "0.00b [00:00, ?b/s]\n"
     ]
    },
    {
     "name": "stdout",
     "output_type": "stream",
     "text": [
      "downloading /n/data1/hms/neurobio/sabatini/rich/analysis/make_dFoF_and_tqm/mouse_0403L/20230802/notes.txt   to   /media/rich/bigSSD/analysis_data/face_rhythm/mouse_0403L/dFoF_and_tqm/20230802/notes.txt\n"
     ]
    },
    {
     "name": "stderr",
     "output_type": "stream",
     "text": [
      "0.00b [00:00, ?b/s]\n"
     ]
    },
    {
     "name": "stdout",
     "output_type": "stream",
     "text": [
      "downloading /n/data1/hms/neurobio/sabatini/rich/analysis/make_dFoF_and_tqm/mouse_0403L/20230715/parameters_batch.json   to   /media/rich/bigSSD/analysis_data/face_rhythm/mouse_0403L/dFoF_and_tqm/20230715/parameters_batch.json\n"
     ]
    },
    {
     "name": "stderr",
     "output_type": "stream",
     "text": [
      "0.00b [00:00, ?b/s]\n"
     ]
    },
    {
     "name": "stdout",
     "output_type": "stream",
     "text": [
      "downloading /n/data1/hms/neurobio/sabatini/rich/analysis/make_dFoF_and_tqm/mouse_0403L/20230715/jobNum_0/tqm.pkl   to   /media/rich/bigSSD/analysis_data/face_rhythm/mouse_0403L/dFoF_and_tqm/20230715/jobNum_0/tqm.pkl\n"
     ]
    },
    {
     "name": "stderr",
     "output_type": "stream",
     "text": [
      "0.00b [00:00, ?b/s]\n"
     ]
    },
    {
     "name": "stdout",
     "output_type": "stream",
     "text": [
      "downloading /n/data1/hms/neurobio/sabatini/rich/analysis/make_dFoF_and_tqm/mouse_0403L/20230715/jobNum_0/params.json   to   /media/rich/bigSSD/analysis_data/face_rhythm/mouse_0403L/dFoF_and_tqm/20230715/jobNum_0/params.json\n"
     ]
    },
    {
     "name": "stderr",
     "output_type": "stream",
     "text": [
      "0.00b [00:00, ?b/s]\n"
     ]
    },
    {
     "name": "stdout",
     "output_type": "stream",
     "text": [
      "downloading /n/data1/hms/neurobio/sabatini/rich/analysis/make_dFoF_and_tqm/mouse_0403L/20230715/jobNum_0/dFoF.npy   to   /media/rich/bigSSD/analysis_data/face_rhythm/mouse_0403L/dFoF_and_tqm/20230715/jobNum_0/dFoF.npy\n"
     ]
    },
    {
     "name": "stderr",
     "output_type": "stream",
     "text": [
      "0.00b [00:31, ?b/s]\n"
     ]
    },
    {
     "name": "stdout",
     "output_type": "stream",
     "text": [
      "downloading /n/data1/hms/neurobio/sabatini/rich/analysis/make_dFoF_and_tqm/mouse_0403L/20230715/jobNum_0/make_dFoF_and_tqm.py   to   /media/rich/bigSSD/analysis_data/face_rhythm/mouse_0403L/dFoF_and_tqm/20230715/jobNum_0/make_dFoF_and_tqm.py\n"
     ]
    },
    {
     "name": "stderr",
     "output_type": "stream",
     "text": [
      "0.00b [00:00, ?b/s]\n"
     ]
    },
    {
     "name": "stdout",
     "output_type": "stream",
     "text": [
      "downloading /n/data1/hms/neurobio/sabatini/rich/analysis/make_dFoF_and_tqm/mouse_0403L/20230715/jobNum_0/iscell_tqm.npy   to   /media/rich/bigSSD/analysis_data/face_rhythm/mouse_0403L/dFoF_and_tqm/20230715/jobNum_0/iscell_tqm.npy\n"
     ]
    },
    {
     "name": "stderr",
     "output_type": "stream",
     "text": [
      "0.00b [00:00, ?b/s]\n"
     ]
    },
    {
     "name": "stdout",
     "output_type": "stream",
     "text": [
      "downloading /n/data1/hms/neurobio/sabatini/rich/analysis/make_dFoF_and_tqm/mouse_0403L/20230715/jobNum_0/print_log_16805816.log   to   /media/rich/bigSSD/analysis_data/face_rhythm/mouse_0403L/dFoF_and_tqm/20230715/jobNum_0/print_log_16805816.log\n"
     ]
    },
    {
     "name": "stderr",
     "output_type": "stream",
     "text": [
      "0.00b [00:00, ?b/s]\n"
     ]
    },
    {
     "name": "stdout",
     "output_type": "stream",
     "text": [
      "downloading /n/data1/hms/neurobio/sabatini/rich/analysis/make_dFoF_and_tqm/mouse_0403L/20230715/jobNum_0/sbatch_config.sh   to   /media/rich/bigSSD/analysis_data/face_rhythm/mouse_0403L/dFoF_and_tqm/20230715/jobNum_0/sbatch_config.sh\n"
     ]
    },
    {
     "name": "stderr",
     "output_type": "stream",
     "text": [
      "0.00b [00:00, ?b/s]\n"
     ]
    },
    {
     "name": "stdout",
     "output_type": "stream",
     "text": [
      "downloading /n/data1/hms/neurobio/sabatini/rich/analysis/make_dFoF_and_tqm/mouse_0403L/20230715/make_dFoF_and_tqm.py   to   /media/rich/bigSSD/analysis_data/face_rhythm/mouse_0403L/dFoF_and_tqm/20230715/make_dFoF_and_tqm.py\n"
     ]
    },
    {
     "name": "stderr",
     "output_type": "stream",
     "text": [
      "0.00b [00:00, ?b/s]\n"
     ]
    },
    {
     "name": "stdout",
     "output_type": "stream",
     "text": [
      "downloading /n/data1/hms/neurobio/sabatini/rich/analysis/make_dFoF_and_tqm/mouse_0403L/20230715/dispatcher.py   to   /media/rich/bigSSD/analysis_data/face_rhythm/mouse_0403L/dFoF_and_tqm/20230715/dispatcher.py\n"
     ]
    },
    {
     "name": "stderr",
     "output_type": "stream",
     "text": [
      "0.00b [00:00, ?b/s]\n"
     ]
    },
    {
     "name": "stdout",
     "output_type": "stream",
     "text": [
      "downloading /n/data1/hms/neurobio/sabatini/rich/analysis/make_dFoF_and_tqm/mouse_0403L/20230715/notes.txt   to   /media/rich/bigSSD/analysis_data/face_rhythm/mouse_0403L/dFoF_and_tqm/20230715/notes.txt\n"
     ]
    },
    {
     "name": "stderr",
     "output_type": "stream",
     "text": [
      "0.00b [00:00, ?b/s]\n"
     ]
    },
    {
     "name": "stdout",
     "output_type": "stream",
     "text": [
      "downloading /n/data1/hms/neurobio/sabatini/rich/analysis/make_dFoF_and_tqm/mouse_0403L/20230730/parameters_batch.json   to   /media/rich/bigSSD/analysis_data/face_rhythm/mouse_0403L/dFoF_and_tqm/20230730/parameters_batch.json\n"
     ]
    },
    {
     "name": "stderr",
     "output_type": "stream",
     "text": [
      "0.00b [00:00, ?b/s]\n"
     ]
    },
    {
     "name": "stdout",
     "output_type": "stream",
     "text": [
      "downloading /n/data1/hms/neurobio/sabatini/rich/analysis/make_dFoF_and_tqm/mouse_0403L/20230730/jobNum_0/tqm.pkl   to   /media/rich/bigSSD/analysis_data/face_rhythm/mouse_0403L/dFoF_and_tqm/20230730/jobNum_0/tqm.pkl\n"
     ]
    },
    {
     "name": "stderr",
     "output_type": "stream",
     "text": [
      "0.00b [00:00, ?b/s]\n"
     ]
    },
    {
     "name": "stdout",
     "output_type": "stream",
     "text": [
      "downloading /n/data1/hms/neurobio/sabatini/rich/analysis/make_dFoF_and_tqm/mouse_0403L/20230730/jobNum_0/params.json   to   /media/rich/bigSSD/analysis_data/face_rhythm/mouse_0403L/dFoF_and_tqm/20230730/jobNum_0/params.json\n"
     ]
    },
    {
     "name": "stderr",
     "output_type": "stream",
     "text": [
      "0.00b [00:00, ?b/s]\n"
     ]
    },
    {
     "name": "stdout",
     "output_type": "stream",
     "text": [
      "downloading /n/data1/hms/neurobio/sabatini/rich/analysis/make_dFoF_and_tqm/mouse_0403L/20230730/jobNum_0/dFoF.npy   to   /media/rich/bigSSD/analysis_data/face_rhythm/mouse_0403L/dFoF_and_tqm/20230730/jobNum_0/dFoF.npy\n"
     ]
    },
    {
     "name": "stderr",
     "output_type": "stream",
     "text": [
      "0.00b [00:27, ?b/s]\n"
     ]
    },
    {
     "name": "stdout",
     "output_type": "stream",
     "text": [
      "downloading /n/data1/hms/neurobio/sabatini/rich/analysis/make_dFoF_and_tqm/mouse_0403L/20230730/jobNum_0/make_dFoF_and_tqm.py   to   /media/rich/bigSSD/analysis_data/face_rhythm/mouse_0403L/dFoF_and_tqm/20230730/jobNum_0/make_dFoF_and_tqm.py\n"
     ]
    },
    {
     "name": "stderr",
     "output_type": "stream",
     "text": [
      "0.00b [00:00, ?b/s]\n"
     ]
    },
    {
     "name": "stdout",
     "output_type": "stream",
     "text": [
      "downloading /n/data1/hms/neurobio/sabatini/rich/analysis/make_dFoF_and_tqm/mouse_0403L/20230730/jobNum_0/iscell_tqm.npy   to   /media/rich/bigSSD/analysis_data/face_rhythm/mouse_0403L/dFoF_and_tqm/20230730/jobNum_0/iscell_tqm.npy\n"
     ]
    },
    {
     "name": "stderr",
     "output_type": "stream",
     "text": [
      "0.00b [00:00, ?b/s]\n"
     ]
    },
    {
     "name": "stdout",
     "output_type": "stream",
     "text": [
      "downloading /n/data1/hms/neurobio/sabatini/rich/analysis/make_dFoF_and_tqm/mouse_0403L/20230730/jobNum_0/sbatch_config.sh   to   /media/rich/bigSSD/analysis_data/face_rhythm/mouse_0403L/dFoF_and_tqm/20230730/jobNum_0/sbatch_config.sh\n"
     ]
    },
    {
     "name": "stderr",
     "output_type": "stream",
     "text": [
      "0.00b [00:00, ?b/s]\n"
     ]
    },
    {
     "name": "stdout",
     "output_type": "stream",
     "text": [
      "downloading /n/data1/hms/neurobio/sabatini/rich/analysis/make_dFoF_and_tqm/mouse_0403L/20230730/jobNum_0/print_log_16805922.log   to   /media/rich/bigSSD/analysis_data/face_rhythm/mouse_0403L/dFoF_and_tqm/20230730/jobNum_0/print_log_16805922.log\n"
     ]
    },
    {
     "name": "stderr",
     "output_type": "stream",
     "text": [
      "0.00b [00:00, ?b/s]\n"
     ]
    },
    {
     "name": "stdout",
     "output_type": "stream",
     "text": [
      "downloading /n/data1/hms/neurobio/sabatini/rich/analysis/make_dFoF_and_tqm/mouse_0403L/20230730/make_dFoF_and_tqm.py   to   /media/rich/bigSSD/analysis_data/face_rhythm/mouse_0403L/dFoF_and_tqm/20230730/make_dFoF_and_tqm.py\n"
     ]
    },
    {
     "name": "stderr",
     "output_type": "stream",
     "text": [
      "0.00b [00:00, ?b/s]\n"
     ]
    },
    {
     "name": "stdout",
     "output_type": "stream",
     "text": [
      "downloading /n/data1/hms/neurobio/sabatini/rich/analysis/make_dFoF_and_tqm/mouse_0403L/20230730/dispatcher.py   to   /media/rich/bigSSD/analysis_data/face_rhythm/mouse_0403L/dFoF_and_tqm/20230730/dispatcher.py\n"
     ]
    },
    {
     "name": "stderr",
     "output_type": "stream",
     "text": [
      "0.00b [00:00, ?b/s]\n"
     ]
    },
    {
     "name": "stdout",
     "output_type": "stream",
     "text": [
      "downloading /n/data1/hms/neurobio/sabatini/rich/analysis/make_dFoF_and_tqm/mouse_0403L/20230730/notes.txt   to   /media/rich/bigSSD/analysis_data/face_rhythm/mouse_0403L/dFoF_and_tqm/20230730/notes.txt\n"
     ]
    },
    {
     "name": "stderr",
     "output_type": "stream",
     "text": [
      "0.00b [00:00, ?b/s]\n"
     ]
    },
    {
     "name": "stdout",
     "output_type": "stream",
     "text": [
      "downloading /n/data1/hms/neurobio/sabatini/rich/analysis/make_dFoF_and_tqm/mouse_0403L/20230805/parameters_batch.json   to   /media/rich/bigSSD/analysis_data/face_rhythm/mouse_0403L/dFoF_and_tqm/20230805/parameters_batch.json\n"
     ]
    },
    {
     "name": "stderr",
     "output_type": "stream",
     "text": [
      "0.00b [00:00, ?b/s]\n"
     ]
    },
    {
     "name": "stdout",
     "output_type": "stream",
     "text": [
      "downloading /n/data1/hms/neurobio/sabatini/rich/analysis/make_dFoF_and_tqm/mouse_0403L/20230805/jobNum_0/tqm.pkl   to   /media/rich/bigSSD/analysis_data/face_rhythm/mouse_0403L/dFoF_and_tqm/20230805/jobNum_0/tqm.pkl\n"
     ]
    },
    {
     "name": "stderr",
     "output_type": "stream",
     "text": [
      "0.00b [00:00, ?b/s]\n"
     ]
    },
    {
     "name": "stdout",
     "output_type": "stream",
     "text": [
      "downloading /n/data1/hms/neurobio/sabatini/rich/analysis/make_dFoF_and_tqm/mouse_0403L/20230805/jobNum_0/params.json   to   /media/rich/bigSSD/analysis_data/face_rhythm/mouse_0403L/dFoF_and_tqm/20230805/jobNum_0/params.json\n"
     ]
    },
    {
     "name": "stderr",
     "output_type": "stream",
     "text": [
      "0.00b [00:00, ?b/s]\n"
     ]
    },
    {
     "name": "stdout",
     "output_type": "stream",
     "text": [
      "downloading /n/data1/hms/neurobio/sabatini/rich/analysis/make_dFoF_and_tqm/mouse_0403L/20230805/jobNum_0/dFoF.npy   to   /media/rich/bigSSD/analysis_data/face_rhythm/mouse_0403L/dFoF_and_tqm/20230805/jobNum_0/dFoF.npy\n"
     ]
    },
    {
     "name": "stderr",
     "output_type": "stream",
     "text": [
      "0.00b [00:23, ?b/s]\n"
     ]
    },
    {
     "name": "stdout",
     "output_type": "stream",
     "text": [
      "downloading /n/data1/hms/neurobio/sabatini/rich/analysis/make_dFoF_and_tqm/mouse_0403L/20230805/jobNum_0/print_log_16805963.log   to   /media/rich/bigSSD/analysis_data/face_rhythm/mouse_0403L/dFoF_and_tqm/20230805/jobNum_0/print_log_16805963.log\n"
     ]
    },
    {
     "name": "stderr",
     "output_type": "stream",
     "text": [
      "0.00b [00:00, ?b/s]\n"
     ]
    },
    {
     "name": "stdout",
     "output_type": "stream",
     "text": [
      "downloading /n/data1/hms/neurobio/sabatini/rich/analysis/make_dFoF_and_tqm/mouse_0403L/20230805/jobNum_0/make_dFoF_and_tqm.py   to   /media/rich/bigSSD/analysis_data/face_rhythm/mouse_0403L/dFoF_and_tqm/20230805/jobNum_0/make_dFoF_and_tqm.py\n"
     ]
    },
    {
     "name": "stderr",
     "output_type": "stream",
     "text": [
      "0.00b [00:00, ?b/s]\n"
     ]
    },
    {
     "name": "stdout",
     "output_type": "stream",
     "text": [
      "downloading /n/data1/hms/neurobio/sabatini/rich/analysis/make_dFoF_and_tqm/mouse_0403L/20230805/jobNum_0/iscell_tqm.npy   to   /media/rich/bigSSD/analysis_data/face_rhythm/mouse_0403L/dFoF_and_tqm/20230805/jobNum_0/iscell_tqm.npy\n"
     ]
    },
    {
     "name": "stderr",
     "output_type": "stream",
     "text": [
      "0.00b [00:00, ?b/s]\n"
     ]
    },
    {
     "name": "stdout",
     "output_type": "stream",
     "text": [
      "downloading /n/data1/hms/neurobio/sabatini/rich/analysis/make_dFoF_and_tqm/mouse_0403L/20230805/jobNum_0/sbatch_config.sh   to   /media/rich/bigSSD/analysis_data/face_rhythm/mouse_0403L/dFoF_and_tqm/20230805/jobNum_0/sbatch_config.sh\n"
     ]
    },
    {
     "name": "stderr",
     "output_type": "stream",
     "text": [
      "0.00b [00:00, ?b/s]\n"
     ]
    },
    {
     "name": "stdout",
     "output_type": "stream",
     "text": [
      "downloading /n/data1/hms/neurobio/sabatini/rich/analysis/make_dFoF_and_tqm/mouse_0403L/20230805/make_dFoF_and_tqm.py   to   /media/rich/bigSSD/analysis_data/face_rhythm/mouse_0403L/dFoF_and_tqm/20230805/make_dFoF_and_tqm.py\n"
     ]
    },
    {
     "name": "stderr",
     "output_type": "stream",
     "text": [
      "0.00b [00:00, ?b/s]\n"
     ]
    },
    {
     "name": "stdout",
     "output_type": "stream",
     "text": [
      "downloading /n/data1/hms/neurobio/sabatini/rich/analysis/make_dFoF_and_tqm/mouse_0403L/20230805/dispatcher.py   to   /media/rich/bigSSD/analysis_data/face_rhythm/mouse_0403L/dFoF_and_tqm/20230805/dispatcher.py\n"
     ]
    },
    {
     "name": "stderr",
     "output_type": "stream",
     "text": [
      "0.00b [00:00, ?b/s]\n"
     ]
    },
    {
     "name": "stdout",
     "output_type": "stream",
     "text": [
      "downloading /n/data1/hms/neurobio/sabatini/rich/analysis/make_dFoF_and_tqm/mouse_0403L/20230805/notes.txt   to   /media/rich/bigSSD/analysis_data/face_rhythm/mouse_0403L/dFoF_and_tqm/20230805/notes.txt\n"
     ]
    },
    {
     "name": "stderr",
     "output_type": "stream",
     "text": [
      "0.00b [00:00, ?b/s]\n"
     ]
    },
    {
     "name": "stdout",
     "output_type": "stream",
     "text": [
      "downloading /n/data1/hms/neurobio/sabatini/rich/analysis/make_dFoF_and_tqm/mouse_0403L/20230706/parameters_batch.json   to   /media/rich/bigSSD/analysis_data/face_rhythm/mouse_0403L/dFoF_and_tqm/20230706/parameters_batch.json\n"
     ]
    },
    {
     "name": "stderr",
     "output_type": "stream",
     "text": [
      "0.00b [00:00, ?b/s]\n"
     ]
    },
    {
     "name": "stdout",
     "output_type": "stream",
     "text": [
      "downloading /n/data1/hms/neurobio/sabatini/rich/analysis/make_dFoF_and_tqm/mouse_0403L/20230706/jobNum_0/tqm.pkl   to   /media/rich/bigSSD/analysis_data/face_rhythm/mouse_0403L/dFoF_and_tqm/20230706/jobNum_0/tqm.pkl\n"
     ]
    },
    {
     "name": "stderr",
     "output_type": "stream",
     "text": [
      "0.00b [00:00, ?b/s]\n"
     ]
    },
    {
     "name": "stdout",
     "output_type": "stream",
     "text": [
      "downloading /n/data1/hms/neurobio/sabatini/rich/analysis/make_dFoF_and_tqm/mouse_0403L/20230706/jobNum_0/params.json   to   /media/rich/bigSSD/analysis_data/face_rhythm/mouse_0403L/dFoF_and_tqm/20230706/jobNum_0/params.json\n"
     ]
    },
    {
     "name": "stderr",
     "output_type": "stream",
     "text": [
      "0.00b [00:00, ?b/s]\n"
     ]
    },
    {
     "name": "stdout",
     "output_type": "stream",
     "text": [
      "downloading /n/data1/hms/neurobio/sabatini/rich/analysis/make_dFoF_and_tqm/mouse_0403L/20230706/jobNum_0/dFoF.npy   to   /media/rich/bigSSD/analysis_data/face_rhythm/mouse_0403L/dFoF_and_tqm/20230706/jobNum_0/dFoF.npy\n"
     ]
    },
    {
     "name": "stderr",
     "output_type": "stream",
     "text": [
      "0.00b [00:33, ?b/s]\n"
     ]
    },
    {
     "name": "stdout",
     "output_type": "stream",
     "text": [
      "downloading /n/data1/hms/neurobio/sabatini/rich/analysis/make_dFoF_and_tqm/mouse_0403L/20230706/jobNum_0/print_log_16805751.log   to   /media/rich/bigSSD/analysis_data/face_rhythm/mouse_0403L/dFoF_and_tqm/20230706/jobNum_0/print_log_16805751.log\n"
     ]
    },
    {
     "name": "stderr",
     "output_type": "stream",
     "text": [
      "0.00b [00:00, ?b/s]\n"
     ]
    },
    {
     "name": "stdout",
     "output_type": "stream",
     "text": [
      "downloading /n/data1/hms/neurobio/sabatini/rich/analysis/make_dFoF_and_tqm/mouse_0403L/20230706/jobNum_0/make_dFoF_and_tqm.py   to   /media/rich/bigSSD/analysis_data/face_rhythm/mouse_0403L/dFoF_and_tqm/20230706/jobNum_0/make_dFoF_and_tqm.py\n"
     ]
    },
    {
     "name": "stderr",
     "output_type": "stream",
     "text": [
      "0.00b [00:00, ?b/s]\n"
     ]
    },
    {
     "name": "stdout",
     "output_type": "stream",
     "text": [
      "downloading /n/data1/hms/neurobio/sabatini/rich/analysis/make_dFoF_and_tqm/mouse_0403L/20230706/jobNum_0/iscell_tqm.npy   to   /media/rich/bigSSD/analysis_data/face_rhythm/mouse_0403L/dFoF_and_tqm/20230706/jobNum_0/iscell_tqm.npy\n"
     ]
    },
    {
     "name": "stderr",
     "output_type": "stream",
     "text": [
      "0.00b [00:00, ?b/s]\n"
     ]
    },
    {
     "name": "stdout",
     "output_type": "stream",
     "text": [
      "downloading /n/data1/hms/neurobio/sabatini/rich/analysis/make_dFoF_and_tqm/mouse_0403L/20230706/jobNum_0/sbatch_config.sh   to   /media/rich/bigSSD/analysis_data/face_rhythm/mouse_0403L/dFoF_and_tqm/20230706/jobNum_0/sbatch_config.sh\n"
     ]
    },
    {
     "name": "stderr",
     "output_type": "stream",
     "text": [
      "0.00b [00:00, ?b/s]\n"
     ]
    },
    {
     "name": "stdout",
     "output_type": "stream",
     "text": [
      "downloading /n/data1/hms/neurobio/sabatini/rich/analysis/make_dFoF_and_tqm/mouse_0403L/20230706/make_dFoF_and_tqm.py   to   /media/rich/bigSSD/analysis_data/face_rhythm/mouse_0403L/dFoF_and_tqm/20230706/make_dFoF_and_tqm.py\n"
     ]
    },
    {
     "name": "stderr",
     "output_type": "stream",
     "text": [
      "0.00b [00:00, ?b/s]\n"
     ]
    },
    {
     "name": "stdout",
     "output_type": "stream",
     "text": [
      "downloading /n/data1/hms/neurobio/sabatini/rich/analysis/make_dFoF_and_tqm/mouse_0403L/20230706/dispatcher.py   to   /media/rich/bigSSD/analysis_data/face_rhythm/mouse_0403L/dFoF_and_tqm/20230706/dispatcher.py\n"
     ]
    },
    {
     "name": "stderr",
     "output_type": "stream",
     "text": [
      "0.00b [00:00, ?b/s]\n"
     ]
    },
    {
     "name": "stdout",
     "output_type": "stream",
     "text": [
      "downloading /n/data1/hms/neurobio/sabatini/rich/analysis/make_dFoF_and_tqm/mouse_0403L/20230706/notes.txt   to   /media/rich/bigSSD/analysis_data/face_rhythm/mouse_0403L/dFoF_and_tqm/20230706/notes.txt\n"
     ]
    },
    {
     "name": "stderr",
     "output_type": "stream",
     "text": [
      "0.00b [00:00, ?b/s]\n"
     ]
    },
    {
     "name": "stdout",
     "output_type": "stream",
     "text": [
      "downloading /n/data1/hms/neurobio/sabatini/rich/analysis/make_dFoF_and_tqm/mouse_0403L/20230807/parameters_batch.json   to   /media/rich/bigSSD/analysis_data/face_rhythm/mouse_0403L/dFoF_and_tqm/20230807/parameters_batch.json\n"
     ]
    },
    {
     "name": "stderr",
     "output_type": "stream",
     "text": [
      "0.00b [00:00, ?b/s]\n"
     ]
    },
    {
     "name": "stdout",
     "output_type": "stream",
     "text": [
      "downloading /n/data1/hms/neurobio/sabatini/rich/analysis/make_dFoF_and_tqm/mouse_0403L/20230807/jobNum_0/tqm.pkl   to   /media/rich/bigSSD/analysis_data/face_rhythm/mouse_0403L/dFoF_and_tqm/20230807/jobNum_0/tqm.pkl\n"
     ]
    },
    {
     "name": "stderr",
     "output_type": "stream",
     "text": [
      "0.00b [00:00, ?b/s]\n"
     ]
    },
    {
     "name": "stdout",
     "output_type": "stream",
     "text": [
      "downloading /n/data1/hms/neurobio/sabatini/rich/analysis/make_dFoF_and_tqm/mouse_0403L/20230807/jobNum_0/params.json   to   /media/rich/bigSSD/analysis_data/face_rhythm/mouse_0403L/dFoF_and_tqm/20230807/jobNum_0/params.json\n"
     ]
    },
    {
     "name": "stderr",
     "output_type": "stream",
     "text": [
      "0.00b [00:00, ?b/s]\n"
     ]
    },
    {
     "name": "stdout",
     "output_type": "stream",
     "text": [
      "downloading /n/data1/hms/neurobio/sabatini/rich/analysis/make_dFoF_and_tqm/mouse_0403L/20230807/jobNum_0/dFoF.npy   to   /media/rich/bigSSD/analysis_data/face_rhythm/mouse_0403L/dFoF_and_tqm/20230807/jobNum_0/dFoF.npy\n"
     ]
    },
    {
     "name": "stderr",
     "output_type": "stream",
     "text": [
      "0.00b [00:27, ?b/s]\n"
     ]
    },
    {
     "name": "stdout",
     "output_type": "stream",
     "text": [
      "downloading /n/data1/hms/neurobio/sabatini/rich/analysis/make_dFoF_and_tqm/mouse_0403L/20230807/jobNum_0/print_log_16805975.log   to   /media/rich/bigSSD/analysis_data/face_rhythm/mouse_0403L/dFoF_and_tqm/20230807/jobNum_0/print_log_16805975.log\n"
     ]
    },
    {
     "name": "stderr",
     "output_type": "stream",
     "text": [
      "0.00b [00:00, ?b/s]\n"
     ]
    },
    {
     "name": "stdout",
     "output_type": "stream",
     "text": [
      "downloading /n/data1/hms/neurobio/sabatini/rich/analysis/make_dFoF_and_tqm/mouse_0403L/20230807/jobNum_0/make_dFoF_and_tqm.py   to   /media/rich/bigSSD/analysis_data/face_rhythm/mouse_0403L/dFoF_and_tqm/20230807/jobNum_0/make_dFoF_and_tqm.py\n"
     ]
    },
    {
     "name": "stderr",
     "output_type": "stream",
     "text": [
      "0.00b [00:00, ?b/s]\n"
     ]
    },
    {
     "name": "stdout",
     "output_type": "stream",
     "text": [
      "downloading /n/data1/hms/neurobio/sabatini/rich/analysis/make_dFoF_and_tqm/mouse_0403L/20230807/jobNum_0/iscell_tqm.npy   to   /media/rich/bigSSD/analysis_data/face_rhythm/mouse_0403L/dFoF_and_tqm/20230807/jobNum_0/iscell_tqm.npy\n"
     ]
    },
    {
     "name": "stderr",
     "output_type": "stream",
     "text": [
      "0.00b [00:00, ?b/s]\n"
     ]
    },
    {
     "name": "stdout",
     "output_type": "stream",
     "text": [
      "downloading /n/data1/hms/neurobio/sabatini/rich/analysis/make_dFoF_and_tqm/mouse_0403L/20230807/jobNum_0/sbatch_config.sh   to   /media/rich/bigSSD/analysis_data/face_rhythm/mouse_0403L/dFoF_and_tqm/20230807/jobNum_0/sbatch_config.sh\n"
     ]
    },
    {
     "name": "stderr",
     "output_type": "stream",
     "text": [
      "0.00b [00:00, ?b/s]\n"
     ]
    },
    {
     "name": "stdout",
     "output_type": "stream",
     "text": [
      "downloading /n/data1/hms/neurobio/sabatini/rich/analysis/make_dFoF_and_tqm/mouse_0403L/20230807/make_dFoF_and_tqm.py   to   /media/rich/bigSSD/analysis_data/face_rhythm/mouse_0403L/dFoF_and_tqm/20230807/make_dFoF_and_tqm.py\n"
     ]
    },
    {
     "name": "stderr",
     "output_type": "stream",
     "text": [
      "0.00b [00:00, ?b/s]\n"
     ]
    },
    {
     "name": "stdout",
     "output_type": "stream",
     "text": [
      "downloading /n/data1/hms/neurobio/sabatini/rich/analysis/make_dFoF_and_tqm/mouse_0403L/20230807/dispatcher.py   to   /media/rich/bigSSD/analysis_data/face_rhythm/mouse_0403L/dFoF_and_tqm/20230807/dispatcher.py\n"
     ]
    },
    {
     "name": "stderr",
     "output_type": "stream",
     "text": [
      "0.00b [00:00, ?b/s]\n"
     ]
    },
    {
     "name": "stdout",
     "output_type": "stream",
     "text": [
      "downloading /n/data1/hms/neurobio/sabatini/rich/analysis/make_dFoF_and_tqm/mouse_0403L/20230807/notes.txt   to   /media/rich/bigSSD/analysis_data/face_rhythm/mouse_0403L/dFoF_and_tqm/20230807/notes.txt\n"
     ]
    },
    {
     "name": "stderr",
     "output_type": "stream",
     "text": [
      "0.00b [00:00, ?b/s]\n"
     ]
    },
    {
     "name": "stdout",
     "output_type": "stream",
     "text": [
      "downloading /n/data1/hms/neurobio/sabatini/rich/analysis/make_dFoF_and_tqm/mouse_0403L/20230803/parameters_batch.json   to   /media/rich/bigSSD/analysis_data/face_rhythm/mouse_0403L/dFoF_and_tqm/20230803/parameters_batch.json\n"
     ]
    },
    {
     "name": "stderr",
     "output_type": "stream",
     "text": [
      "0.00b [00:00, ?b/s]\n"
     ]
    },
    {
     "name": "stdout",
     "output_type": "stream",
     "text": [
      "downloading /n/data1/hms/neurobio/sabatini/rich/analysis/make_dFoF_and_tqm/mouse_0403L/20230803/jobNum_0/tqm.pkl   to   /media/rich/bigSSD/analysis_data/face_rhythm/mouse_0403L/dFoF_and_tqm/20230803/jobNum_0/tqm.pkl\n"
     ]
    },
    {
     "name": "stderr",
     "output_type": "stream",
     "text": [
      "0.00b [00:00, ?b/s]\n"
     ]
    },
    {
     "name": "stdout",
     "output_type": "stream",
     "text": [
      "downloading /n/data1/hms/neurobio/sabatini/rich/analysis/make_dFoF_and_tqm/mouse_0403L/20230803/jobNum_0/print_log_16805951.log   to   /media/rich/bigSSD/analysis_data/face_rhythm/mouse_0403L/dFoF_and_tqm/20230803/jobNum_0/print_log_16805951.log\n"
     ]
    },
    {
     "name": "stderr",
     "output_type": "stream",
     "text": [
      "0.00b [00:00, ?b/s]\n"
     ]
    },
    {
     "name": "stdout",
     "output_type": "stream",
     "text": [
      "downloading /n/data1/hms/neurobio/sabatini/rich/analysis/make_dFoF_and_tqm/mouse_0403L/20230803/jobNum_0/params.json   to   /media/rich/bigSSD/analysis_data/face_rhythm/mouse_0403L/dFoF_and_tqm/20230803/jobNum_0/params.json\n"
     ]
    },
    {
     "name": "stderr",
     "output_type": "stream",
     "text": [
      "0.00b [00:00, ?b/s]\n"
     ]
    },
    {
     "name": "stdout",
     "output_type": "stream",
     "text": [
      "downloading /n/data1/hms/neurobio/sabatini/rich/analysis/make_dFoF_and_tqm/mouse_0403L/20230803/jobNum_0/dFoF.npy   to   /media/rich/bigSSD/analysis_data/face_rhythm/mouse_0403L/dFoF_and_tqm/20230803/jobNum_0/dFoF.npy\n"
     ]
    },
    {
     "name": "stderr",
     "output_type": "stream",
     "text": [
      "0.00b [00:26, ?b/s]\n"
     ]
    },
    {
     "name": "stdout",
     "output_type": "stream",
     "text": [
      "downloading /n/data1/hms/neurobio/sabatini/rich/analysis/make_dFoF_and_tqm/mouse_0403L/20230803/jobNum_0/make_dFoF_and_tqm.py   to   /media/rich/bigSSD/analysis_data/face_rhythm/mouse_0403L/dFoF_and_tqm/20230803/jobNum_0/make_dFoF_and_tqm.py\n"
     ]
    },
    {
     "name": "stderr",
     "output_type": "stream",
     "text": [
      "0.00b [00:00, ?b/s]\n"
     ]
    },
    {
     "name": "stdout",
     "output_type": "stream",
     "text": [
      "downloading /n/data1/hms/neurobio/sabatini/rich/analysis/make_dFoF_and_tqm/mouse_0403L/20230803/jobNum_0/iscell_tqm.npy   to   /media/rich/bigSSD/analysis_data/face_rhythm/mouse_0403L/dFoF_and_tqm/20230803/jobNum_0/iscell_tqm.npy\n"
     ]
    },
    {
     "name": "stderr",
     "output_type": "stream",
     "text": [
      "0.00b [00:00, ?b/s]\n"
     ]
    },
    {
     "name": "stdout",
     "output_type": "stream",
     "text": [
      "downloading /n/data1/hms/neurobio/sabatini/rich/analysis/make_dFoF_and_tqm/mouse_0403L/20230803/jobNum_0/sbatch_config.sh   to   /media/rich/bigSSD/analysis_data/face_rhythm/mouse_0403L/dFoF_and_tqm/20230803/jobNum_0/sbatch_config.sh\n"
     ]
    },
    {
     "name": "stderr",
     "output_type": "stream",
     "text": [
      "0.00b [00:00, ?b/s]\n"
     ]
    },
    {
     "name": "stdout",
     "output_type": "stream",
     "text": [
      "downloading /n/data1/hms/neurobio/sabatini/rich/analysis/make_dFoF_and_tqm/mouse_0403L/20230803/make_dFoF_and_tqm.py   to   /media/rich/bigSSD/analysis_data/face_rhythm/mouse_0403L/dFoF_and_tqm/20230803/make_dFoF_and_tqm.py\n"
     ]
    },
    {
     "name": "stderr",
     "output_type": "stream",
     "text": [
      "0.00b [00:00, ?b/s]\n"
     ]
    },
    {
     "name": "stdout",
     "output_type": "stream",
     "text": [
      "downloading /n/data1/hms/neurobio/sabatini/rich/analysis/make_dFoF_and_tqm/mouse_0403L/20230803/dispatcher.py   to   /media/rich/bigSSD/analysis_data/face_rhythm/mouse_0403L/dFoF_and_tqm/20230803/dispatcher.py\n"
     ]
    },
    {
     "name": "stderr",
     "output_type": "stream",
     "text": [
      "0.00b [00:00, ?b/s]\n"
     ]
    },
    {
     "name": "stdout",
     "output_type": "stream",
     "text": [
      "downloading /n/data1/hms/neurobio/sabatini/rich/analysis/make_dFoF_and_tqm/mouse_0403L/20230803/notes.txt   to   /media/rich/bigSSD/analysis_data/face_rhythm/mouse_0403L/dFoF_and_tqm/20230803/notes.txt\n"
     ]
    },
    {
     "name": "stderr",
     "output_type": "stream",
     "text": [
      "0.00b [00:00, ?b/s]\n"
     ]
    },
    {
     "name": "stdout",
     "output_type": "stream",
     "text": [
      "downloading /n/data1/hms/neurobio/sabatini/rich/analysis/make_dFoF_and_tqm/mouse_0403L/20230712/parameters_batch.json   to   /media/rich/bigSSD/analysis_data/face_rhythm/mouse_0403L/dFoF_and_tqm/20230712/parameters_batch.json\n"
     ]
    },
    {
     "name": "stderr",
     "output_type": "stream",
     "text": [
      "0.00b [00:00, ?b/s]\n"
     ]
    },
    {
     "name": "stdout",
     "output_type": "stream",
     "text": [
      "downloading /n/data1/hms/neurobio/sabatini/rich/analysis/make_dFoF_and_tqm/mouse_0403L/20230712/jobNum_0/tqm.pkl   to   /media/rich/bigSSD/analysis_data/face_rhythm/mouse_0403L/dFoF_and_tqm/20230712/jobNum_0/tqm.pkl\n"
     ]
    },
    {
     "name": "stderr",
     "output_type": "stream",
     "text": [
      "0.00b [00:00, ?b/s]\n"
     ]
    },
    {
     "name": "stdout",
     "output_type": "stream",
     "text": [
      "downloading /n/data1/hms/neurobio/sabatini/rich/analysis/make_dFoF_and_tqm/mouse_0403L/20230712/jobNum_0/params.json   to   /media/rich/bigSSD/analysis_data/face_rhythm/mouse_0403L/dFoF_and_tqm/20230712/jobNum_0/params.json\n"
     ]
    },
    {
     "name": "stderr",
     "output_type": "stream",
     "text": [
      "0.00b [00:00, ?b/s]\n"
     ]
    },
    {
     "name": "stdout",
     "output_type": "stream",
     "text": [
      "downloading /n/data1/hms/neurobio/sabatini/rich/analysis/make_dFoF_and_tqm/mouse_0403L/20230712/jobNum_0/dFoF.npy   to   /media/rich/bigSSD/analysis_data/face_rhythm/mouse_0403L/dFoF_and_tqm/20230712/jobNum_0/dFoF.npy\n"
     ]
    },
    {
     "name": "stderr",
     "output_type": "stream",
     "text": [
      "0.00b [00:25, ?b/s]\n"
     ]
    },
    {
     "name": "stdout",
     "output_type": "stream",
     "text": [
      "downloading /n/data1/hms/neurobio/sabatini/rich/analysis/make_dFoF_and_tqm/mouse_0403L/20230712/jobNum_0/print_log_16805796.log   to   /media/rich/bigSSD/analysis_data/face_rhythm/mouse_0403L/dFoF_and_tqm/20230712/jobNum_0/print_log_16805796.log\n"
     ]
    },
    {
     "name": "stderr",
     "output_type": "stream",
     "text": [
      "0.00b [00:00, ?b/s]\n"
     ]
    },
    {
     "name": "stdout",
     "output_type": "stream",
     "text": [
      "downloading /n/data1/hms/neurobio/sabatini/rich/analysis/make_dFoF_and_tqm/mouse_0403L/20230712/jobNum_0/make_dFoF_and_tqm.py   to   /media/rich/bigSSD/analysis_data/face_rhythm/mouse_0403L/dFoF_and_tqm/20230712/jobNum_0/make_dFoF_and_tqm.py\n"
     ]
    },
    {
     "name": "stderr",
     "output_type": "stream",
     "text": [
      "0.00b [00:00, ?b/s]\n"
     ]
    },
    {
     "name": "stdout",
     "output_type": "stream",
     "text": [
      "downloading /n/data1/hms/neurobio/sabatini/rich/analysis/make_dFoF_and_tqm/mouse_0403L/20230712/jobNum_0/iscell_tqm.npy   to   /media/rich/bigSSD/analysis_data/face_rhythm/mouse_0403L/dFoF_and_tqm/20230712/jobNum_0/iscell_tqm.npy\n"
     ]
    },
    {
     "name": "stderr",
     "output_type": "stream",
     "text": [
      "0.00b [00:00, ?b/s]\n"
     ]
    },
    {
     "name": "stdout",
     "output_type": "stream",
     "text": [
      "downloading /n/data1/hms/neurobio/sabatini/rich/analysis/make_dFoF_and_tqm/mouse_0403L/20230712/jobNum_0/sbatch_config.sh   to   /media/rich/bigSSD/analysis_data/face_rhythm/mouse_0403L/dFoF_and_tqm/20230712/jobNum_0/sbatch_config.sh\n"
     ]
    },
    {
     "name": "stderr",
     "output_type": "stream",
     "text": [
      "0.00b [00:00, ?b/s]\n"
     ]
    },
    {
     "name": "stdout",
     "output_type": "stream",
     "text": [
      "downloading /n/data1/hms/neurobio/sabatini/rich/analysis/make_dFoF_and_tqm/mouse_0403L/20230712/make_dFoF_and_tqm.py   to   /media/rich/bigSSD/analysis_data/face_rhythm/mouse_0403L/dFoF_and_tqm/20230712/make_dFoF_and_tqm.py\n"
     ]
    },
    {
     "name": "stderr",
     "output_type": "stream",
     "text": [
      "0.00b [00:00, ?b/s]\n"
     ]
    },
    {
     "name": "stdout",
     "output_type": "stream",
     "text": [
      "downloading /n/data1/hms/neurobio/sabatini/rich/analysis/make_dFoF_and_tqm/mouse_0403L/20230712/dispatcher.py   to   /media/rich/bigSSD/analysis_data/face_rhythm/mouse_0403L/dFoF_and_tqm/20230712/dispatcher.py\n"
     ]
    },
    {
     "name": "stderr",
     "output_type": "stream",
     "text": [
      "0.00b [00:00, ?b/s]\n"
     ]
    },
    {
     "name": "stdout",
     "output_type": "stream",
     "text": [
      "downloading /n/data1/hms/neurobio/sabatini/rich/analysis/make_dFoF_and_tqm/mouse_0403L/20230712/notes.txt   to   /media/rich/bigSSD/analysis_data/face_rhythm/mouse_0403L/dFoF_and_tqm/20230712/notes.txt\n"
     ]
    },
    {
     "name": "stderr",
     "output_type": "stream",
     "text": [
      "0.00b [00:00, ?b/s]\n"
     ]
    },
    {
     "name": "stdout",
     "output_type": "stream",
     "text": [
      "downloading /n/data1/hms/neurobio/sabatini/rich/analysis/make_dFoF_and_tqm/mouse_0403L/20230714/parameters_batch.json   to   /media/rich/bigSSD/analysis_data/face_rhythm/mouse_0403L/dFoF_and_tqm/20230714/parameters_batch.json\n"
     ]
    },
    {
     "name": "stderr",
     "output_type": "stream",
     "text": [
      "0.00b [00:00, ?b/s]\n"
     ]
    },
    {
     "name": "stdout",
     "output_type": "stream",
     "text": [
      "downloading /n/data1/hms/neurobio/sabatini/rich/analysis/make_dFoF_and_tqm/mouse_0403L/20230714/jobNum_0/tqm.pkl   to   /media/rich/bigSSD/analysis_data/face_rhythm/mouse_0403L/dFoF_and_tqm/20230714/jobNum_0/tqm.pkl\n"
     ]
    },
    {
     "name": "stderr",
     "output_type": "stream",
     "text": [
      "0.00b [00:00, ?b/s]\n"
     ]
    },
    {
     "name": "stdout",
     "output_type": "stream",
     "text": [
      "downloading /n/data1/hms/neurobio/sabatini/rich/analysis/make_dFoF_and_tqm/mouse_0403L/20230714/jobNum_0/params.json   to   /media/rich/bigSSD/analysis_data/face_rhythm/mouse_0403L/dFoF_and_tqm/20230714/jobNum_0/params.json\n"
     ]
    },
    {
     "name": "stderr",
     "output_type": "stream",
     "text": [
      "0.00b [00:00, ?b/s]\n"
     ]
    },
    {
     "name": "stdout",
     "output_type": "stream",
     "text": [
      "downloading /n/data1/hms/neurobio/sabatini/rich/analysis/make_dFoF_and_tqm/mouse_0403L/20230714/jobNum_0/dFoF.npy   to   /media/rich/bigSSD/analysis_data/face_rhythm/mouse_0403L/dFoF_and_tqm/20230714/jobNum_0/dFoF.npy\n"
     ]
    },
    {
     "name": "stderr",
     "output_type": "stream",
     "text": [
      "0.00b [00:27, ?b/s]\n"
     ]
    },
    {
     "name": "stdout",
     "output_type": "stream",
     "text": [
      "downloading /n/data1/hms/neurobio/sabatini/rich/analysis/make_dFoF_and_tqm/mouse_0403L/20230714/jobNum_0/make_dFoF_and_tqm.py   to   /media/rich/bigSSD/analysis_data/face_rhythm/mouse_0403L/dFoF_and_tqm/20230714/jobNum_0/make_dFoF_and_tqm.py\n"
     ]
    },
    {
     "name": "stderr",
     "output_type": "stream",
     "text": [
      "0.00b [00:00, ?b/s]\n"
     ]
    },
    {
     "name": "stdout",
     "output_type": "stream",
     "text": [
      "downloading /n/data1/hms/neurobio/sabatini/rich/analysis/make_dFoF_and_tqm/mouse_0403L/20230714/jobNum_0/iscell_tqm.npy   to   /media/rich/bigSSD/analysis_data/face_rhythm/mouse_0403L/dFoF_and_tqm/20230714/jobNum_0/iscell_tqm.npy\n"
     ]
    },
    {
     "name": "stderr",
     "output_type": "stream",
     "text": [
      "0.00b [00:00, ?b/s]\n"
     ]
    },
    {
     "name": "stdout",
     "output_type": "stream",
     "text": [
      "downloading /n/data1/hms/neurobio/sabatini/rich/analysis/make_dFoF_and_tqm/mouse_0403L/20230714/jobNum_0/sbatch_config.sh   to   /media/rich/bigSSD/analysis_data/face_rhythm/mouse_0403L/dFoF_and_tqm/20230714/jobNum_0/sbatch_config.sh\n"
     ]
    },
    {
     "name": "stderr",
     "output_type": "stream",
     "text": [
      "0.00b [00:00, ?b/s]\n"
     ]
    },
    {
     "name": "stdout",
     "output_type": "stream",
     "text": [
      "downloading /n/data1/hms/neurobio/sabatini/rich/analysis/make_dFoF_and_tqm/mouse_0403L/20230714/jobNum_0/print_log_16805814.log   to   /media/rich/bigSSD/analysis_data/face_rhythm/mouse_0403L/dFoF_and_tqm/20230714/jobNum_0/print_log_16805814.log\n"
     ]
    },
    {
     "name": "stderr",
     "output_type": "stream",
     "text": [
      "0.00b [00:00, ?b/s]\n"
     ]
    },
    {
     "name": "stdout",
     "output_type": "stream",
     "text": [
      "downloading /n/data1/hms/neurobio/sabatini/rich/analysis/make_dFoF_and_tqm/mouse_0403L/20230714/make_dFoF_and_tqm.py   to   /media/rich/bigSSD/analysis_data/face_rhythm/mouse_0403L/dFoF_and_tqm/20230714/make_dFoF_and_tqm.py\n"
     ]
    },
    {
     "name": "stderr",
     "output_type": "stream",
     "text": [
      "0.00b [00:00, ?b/s]\n"
     ]
    },
    {
     "name": "stdout",
     "output_type": "stream",
     "text": [
      "downloading /n/data1/hms/neurobio/sabatini/rich/analysis/make_dFoF_and_tqm/mouse_0403L/20230714/dispatcher.py   to   /media/rich/bigSSD/analysis_data/face_rhythm/mouse_0403L/dFoF_and_tqm/20230714/dispatcher.py\n"
     ]
    },
    {
     "name": "stderr",
     "output_type": "stream",
     "text": [
      "0.00b [00:00, ?b/s]\n"
     ]
    },
    {
     "name": "stdout",
     "output_type": "stream",
     "text": [
      "downloading /n/data1/hms/neurobio/sabatini/rich/analysis/make_dFoF_and_tqm/mouse_0403L/20230714/notes.txt   to   /media/rich/bigSSD/analysis_data/face_rhythm/mouse_0403L/dFoF_and_tqm/20230714/notes.txt\n"
     ]
    },
    {
     "name": "stderr",
     "output_type": "stream",
     "text": [
      "0.00b [00:00, ?b/s]\n"
     ]
    },
    {
     "name": "stdout",
     "output_type": "stream",
     "text": [
      "downloading /n/data1/hms/neurobio/sabatini/rich/analysis/make_dFoF_and_tqm/mouse_0403L/20230729/parameters_batch.json   to   /media/rich/bigSSD/analysis_data/face_rhythm/mouse_0403L/dFoF_and_tqm/20230729/parameters_batch.json\n"
     ]
    },
    {
     "name": "stderr",
     "output_type": "stream",
     "text": [
      "0.00b [00:00, ?b/s]\n"
     ]
    },
    {
     "name": "stdout",
     "output_type": "stream",
     "text": [
      "downloading /n/data1/hms/neurobio/sabatini/rich/analysis/make_dFoF_and_tqm/mouse_0403L/20230729/jobNum_0/tqm.pkl   to   /media/rich/bigSSD/analysis_data/face_rhythm/mouse_0403L/dFoF_and_tqm/20230729/jobNum_0/tqm.pkl\n"
     ]
    },
    {
     "name": "stderr",
     "output_type": "stream",
     "text": [
      "0.00b [00:00, ?b/s]\n"
     ]
    },
    {
     "name": "stdout",
     "output_type": "stream",
     "text": [
      "downloading /n/data1/hms/neurobio/sabatini/rich/analysis/make_dFoF_and_tqm/mouse_0403L/20230729/jobNum_0/params.json   to   /media/rich/bigSSD/analysis_data/face_rhythm/mouse_0403L/dFoF_and_tqm/20230729/jobNum_0/params.json\n"
     ]
    },
    {
     "name": "stderr",
     "output_type": "stream",
     "text": [
      "0.00b [00:00, ?b/s]\n"
     ]
    },
    {
     "name": "stdout",
     "output_type": "stream",
     "text": [
      "downloading /n/data1/hms/neurobio/sabatini/rich/analysis/make_dFoF_and_tqm/mouse_0403L/20230729/jobNum_0/dFoF.npy   to   /media/rich/bigSSD/analysis_data/face_rhythm/mouse_0403L/dFoF_and_tqm/20230729/jobNum_0/dFoF.npy\n"
     ]
    },
    {
     "name": "stderr",
     "output_type": "stream",
     "text": [
      "0.00b [00:32, ?b/s]\n"
     ]
    },
    {
     "name": "stdout",
     "output_type": "stream",
     "text": [
      "downloading /n/data1/hms/neurobio/sabatini/rich/analysis/make_dFoF_and_tqm/mouse_0403L/20230729/jobNum_0/print_log_16805920.log   to   /media/rich/bigSSD/analysis_data/face_rhythm/mouse_0403L/dFoF_and_tqm/20230729/jobNum_0/print_log_16805920.log\n"
     ]
    },
    {
     "name": "stderr",
     "output_type": "stream",
     "text": [
      "0.00b [00:00, ?b/s]\n"
     ]
    },
    {
     "name": "stdout",
     "output_type": "stream",
     "text": [
      "downloading /n/data1/hms/neurobio/sabatini/rich/analysis/make_dFoF_and_tqm/mouse_0403L/20230729/jobNum_0/make_dFoF_and_tqm.py   to   /media/rich/bigSSD/analysis_data/face_rhythm/mouse_0403L/dFoF_and_tqm/20230729/jobNum_0/make_dFoF_and_tqm.py\n"
     ]
    },
    {
     "name": "stderr",
     "output_type": "stream",
     "text": [
      "0.00b [00:00, ?b/s]\n"
     ]
    },
    {
     "name": "stdout",
     "output_type": "stream",
     "text": [
      "downloading /n/data1/hms/neurobio/sabatini/rich/analysis/make_dFoF_and_tqm/mouse_0403L/20230729/jobNum_0/iscell_tqm.npy   to   /media/rich/bigSSD/analysis_data/face_rhythm/mouse_0403L/dFoF_and_tqm/20230729/jobNum_0/iscell_tqm.npy\n"
     ]
    },
    {
     "name": "stderr",
     "output_type": "stream",
     "text": [
      "0.00b [00:00, ?b/s]\n"
     ]
    },
    {
     "name": "stdout",
     "output_type": "stream",
     "text": [
      "downloading /n/data1/hms/neurobio/sabatini/rich/analysis/make_dFoF_and_tqm/mouse_0403L/20230729/jobNum_0/sbatch_config.sh   to   /media/rich/bigSSD/analysis_data/face_rhythm/mouse_0403L/dFoF_and_tqm/20230729/jobNum_0/sbatch_config.sh\n"
     ]
    },
    {
     "name": "stderr",
     "output_type": "stream",
     "text": [
      "0.00b [00:00, ?b/s]\n"
     ]
    },
    {
     "name": "stdout",
     "output_type": "stream",
     "text": [
      "downloading /n/data1/hms/neurobio/sabatini/rich/analysis/make_dFoF_and_tqm/mouse_0403L/20230729/make_dFoF_and_tqm.py   to   /media/rich/bigSSD/analysis_data/face_rhythm/mouse_0403L/dFoF_and_tqm/20230729/make_dFoF_and_tqm.py\n"
     ]
    },
    {
     "name": "stderr",
     "output_type": "stream",
     "text": [
      "0.00b [00:00, ?b/s]\n"
     ]
    },
    {
     "name": "stdout",
     "output_type": "stream",
     "text": [
      "downloading /n/data1/hms/neurobio/sabatini/rich/analysis/make_dFoF_and_tqm/mouse_0403L/20230729/dispatcher.py   to   /media/rich/bigSSD/analysis_data/face_rhythm/mouse_0403L/dFoF_and_tqm/20230729/dispatcher.py\n"
     ]
    },
    {
     "name": "stderr",
     "output_type": "stream",
     "text": [
      "0.00b [00:00, ?b/s]\n"
     ]
    },
    {
     "name": "stdout",
     "output_type": "stream",
     "text": [
      "downloading /n/data1/hms/neurobio/sabatini/rich/analysis/make_dFoF_and_tqm/mouse_0403L/20230729/notes.txt   to   /media/rich/bigSSD/analysis_data/face_rhythm/mouse_0403L/dFoF_and_tqm/20230729/notes.txt\n"
     ]
    },
    {
     "name": "stderr",
     "output_type": "stream",
     "text": [
      "0.00b [00:00, ?b/s]\n"
     ]
    }
   ],
   "source": [
    "sftp.get_dir(source=dir_dFoF_and_tqm_remote, target=directory_local_save)"
   ]
  },
  {
   "cell_type": "code",
   "execution_count": null,
   "id": "d651c49d-0e56-4deb-a3a6-adb3e4003488",
   "metadata": {},
   "outputs": [],
   "source": []
  },
  {
   "cell_type": "code",
   "execution_count": null,
   "id": "ab91f04e-1e72-4b5c-ac56-f46890fd1516",
   "metadata": {},
   "outputs": [],
   "source": [
    "paths_dFoF_remote = natsort.natsorted(sftp.search_recursive(\n",
    "    path=f'/n/data1/hms/neurobio/sabatini/rich/analysis/make_dFoF_and_tqm/{mouse}',\n",
    "    search_pattern_re=r'dFoF.npy',\n",
    "    max_depth=6,\n",
    "    find_files=True,\n",
    "    find_folders=False,\n",
    "    verbose=True,\n",
    "))"
   ]
  },
  {
   "cell_type": "code",
   "execution_count": 42,
   "id": "cbe06c45-54dc-442f-a321-7d407e0e56e3",
   "metadata": {},
   "outputs": [],
   "source": [
    "dates_dFoF_remote = [Path(p).parts[-3] for p in paths_dFoF_remote]"
   ]
  },
  {
   "cell_type": "code",
   "execution_count": 43,
   "id": "c5a002c3-88b1-4cab-8619-2440bbcc1b05",
   "metadata": {},
   "outputs": [
    {
     "data": {
      "text/plain": [
       "['20230419',\n",
       " '20230420',\n",
       " '20230424',\n",
       " '20230425',\n",
       " '20230426',\n",
       " '20230427',\n",
       " '20230428',\n",
       " '20230429',\n",
       " '20230430',\n",
       " '20230501',\n",
       " '20230502',\n",
       " '20230503',\n",
       " '20230504',\n",
       " '20230505',\n",
       " '20230506',\n",
       " '20230507',\n",
       " '20230508',\n",
       " '20230509',\n",
       " '20230511',\n",
       " '20230512',\n",
       " '20230513',\n",
       " '20230514',\n",
       " '20230515',\n",
       " '20230516',\n",
       " '20230517',\n",
       " '20230518',\n",
       " '20230519',\n",
       " '20230520',\n",
       " '20230521',\n",
       " '20230522',\n",
       " '20230523',\n",
       " '20230524',\n",
       " '20230525',\n",
       " '20230526',\n",
       " '20230527',\n",
       " '20230530',\n",
       " '20230531']"
      ]
     },
     "execution_count": 43,
     "metadata": {},
     "output_type": "execute_result"
    }
   ],
   "source": [
    "dates_dFoF_remote"
   ]
  },
  {
   "cell_type": "code",
   "execution_count": 44,
   "id": "22f095cc-8fd9-4a43-b46d-61c7af6eb868",
   "metadata": {},
   "outputs": [],
   "source": [
    "directory_local_save = f'/media/rich/bigSSD/analysis_data/face_rhythm/{mouse}/dFoF_and_tqm/'"
   ]
  },
  {
   "cell_type": "code",
   "execution_count": null,
   "id": "8f54f4d0-fc0f-4dab-b42a-25f3ba2bb2b3",
   "metadata": {},
   "outputs": [],
   "source": [
    "[sftp.get(remotepath=p_r, localpath=str(Path(directory_local_save) / date / Path(p_r).name)) for p_r, date in zip(paths_csvs_remote, dates_dFoF_remote)];"
   ]
  },
  {
   "cell_type": "code",
   "execution_count": null,
   "id": "3bae1996-2180-44d3-8115-4ebbba48d88b",
   "metadata": {},
   "outputs": [],
   "source": [
    "[sftp.get(remotepath=str(Path(p_r).parent / 'iscell_tqm.npy'), localpath=str(Path(directory_local_save) / date / 'iscell_tqm.npy')) for p_r, date in zip(paths_csvs_remote, dates_dFoF_remote)];"
   ]
  },
  {
   "cell_type": "markdown",
   "id": "77a223a2-17d0-4ef6-a7ec-bc74d4467c6f",
   "metadata": {},
   "source": [
    "## Clean up"
   ]
  },
  {
   "cell_type": "code",
   "execution_count": null,
   "id": "b31f6bcb",
   "metadata": {},
   "outputs": [],
   "source": [
    "## delete password\n",
    "del pw\n",
    "gc.collect()\n",
    "\n",
    "## close sftp\n",
    "if sftp: sftp.close()\n",
    "if transport: transport.close()\n",
    "del sftp\n",
    "del transport\n",
    "    \n",
    "## close ssh\n",
    "ssh_t.close()\n",
    "del ssh_t\n",
    "ssh_c.close()\n",
    "del ssh_c\n",
    "gc.collect()"
   ]
  },
  {
   "cell_type": "code",
   "execution_count": null,
   "id": "b1e29db0",
   "metadata": {},
   "outputs": [],
   "source": []
  },
  {
   "cell_type": "code",
   "execution_count": null,
   "id": "a2ee21fd",
   "metadata": {},
   "outputs": [],
   "source": []
  }
 ],
 "metadata": {
  "kernelspec": {
   "display_name": "Python 3 (ipykernel)",
   "language": "python",
   "name": "python3"
  },
  "language_info": {
   "codemirror_mode": {
    "name": "ipython",
    "version": 3
   },
   "file_extension": ".py",
   "mimetype": "text/x-python",
   "name": "python",
   "nbconvert_exporter": "python",
   "pygments_lexer": "ipython3",
   "version": "3.9.16"
  }
 },
 "nbformat": 4,
 "nbformat_minor": 5
}
