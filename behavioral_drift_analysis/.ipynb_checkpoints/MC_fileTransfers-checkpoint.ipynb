{
 "cells": [
  {
   "cell_type": "code",
   "execution_count": 2,
   "id": "eb297901",
   "metadata": {},
   "outputs": [
    {
     "data": {
      "text/html": [
       "<style>.container {width:95% !important; }</style>"
      ],
      "text/plain": [
       "<IPython.core.display.HTML object>"
      ]
     },
     "metadata": {},
     "output_type": "display_data"
    },
    {
     "data": {
      "text/html": [
       "<style>:root { --jp-notebook-max-width: 100% !important; }</style>"
      ],
      "text/plain": [
       "<IPython.core.display.HTML object>"
      ]
     },
     "metadata": {},
     "output_type": "display_data"
    }
   ],
   "source": [
    "# widen jupyter notebook window\n",
    "from IPython.display import display, HTML\n",
    "display(HTML(\"<style>.container {width:95% !important; }</style>\"))\n",
    "display(HTML(\"<style>:root { --jp-notebook-max-width: 100% !important; }</style>\"))"
   ]
  },
  {
   "cell_type": "markdown",
   "id": "e7ca9401",
   "metadata": {},
   "source": [
    "This requires having `bnpm`. Get it with `pip install bnpm` or here: https://github.com/RichieHakim/basic_neural_processing_modules"
   ]
  },
  {
   "cell_type": "code",
   "execution_count": 22,
   "id": "b083639c",
   "metadata": {},
   "outputs": [
    {
     "name": "stdout",
     "output_type": "stream",
     "text": [
      "The autoreload extension is already loaded. To reload it, use:\n",
      "  %reload_ext autoreload\n"
     ]
    }
   ],
   "source": [
    "%load_ext autoreload\n",
    "%autoreload 2\n",
    "from bnpm import server\n",
    "import bnpm"
   ]
  },
  {
   "cell_type": "code",
   "execution_count": 4,
   "id": "47fe1e80",
   "metadata": {},
   "outputs": [],
   "source": [
    "import os\n",
    "from pathlib import Path\n",
    "import functools\n",
    "import tempfile\n",
    "import getpass\n",
    "import gc"
   ]
  },
  {
   "cell_type": "code",
   "execution_count": 5,
   "id": "4b3fddce-51cc-49ef-8d84-4a881acc0c43",
   "metadata": {},
   "outputs": [],
   "source": [
    "from tqdm import tqdm\n",
    "import numpy as np\n",
    "import natsort"
   ]
  },
  {
   "cell_type": "markdown",
   "id": "6114afcd",
   "metadata": {},
   "source": [
    "------------\n",
    "# ==== Start ===="
   ]
  },
  {
   "cell_type": "markdown",
   "id": "ae33b435",
   "metadata": {},
   "source": [
    "## Prepare username + password"
   ]
  },
  {
   "cell_type": "code",
   "execution_count": 6,
   "id": "af73363a",
   "metadata": {},
   "outputs": [
    {
     "name": "stdin",
     "output_type": "stream",
     "text": [
      "Username:  rh183\n",
      "Password:  ········\n"
     ]
    }
   ],
   "source": [
    "remote_host_transfer = \"transfer.rc.hms.harvard.edu\"\n",
    "remote_host_compute = \"o2.hms.harvard.edu\"\n",
    "username = input('Username: ')\n",
    "\n",
    "use_localSshKey = False\n",
    "\n",
    "pw = server.pw_encode(getpass.getpass(prompt='Password: ')) if use_localSshKey==False else None\n",
    "\n",
    "path_sshKey = '/home/rich/.ssh/id_rsa' if use_localSshKey else None"
   ]
  },
  {
   "cell_type": "markdown",
   "id": "c539c815",
   "metadata": {},
   "source": [
    "## Prepare `sftp` and `ssh` objects"
   ]
  },
  {
   "cell_type": "code",
   "execution_count": 7,
   "id": "702eba22",
   "metadata": {},
   "outputs": [],
   "source": [
    "## initialize ssh_transfer\n",
    "ssh_t = server.ssh_interface(\n",
    "    nbytes_toReceive=20000,\n",
    "    recv_timeout=1,\n",
    "    verbose=True,\n",
    ")"
   ]
  },
  {
   "cell_type": "code",
   "execution_count": 8,
   "id": "fdf1e2ba",
   "metadata": {
    "scrolled": true
   },
   "outputs": [],
   "source": [
    "ssh_t.o2_connect(\n",
    "    hostname=remote_host_transfer,\n",
    "    username=username,\n",
    "    password=server.pw_decode(pw),\n",
    "    key_filename=path_sshKey,\n",
    "    look_for_keys=False,\n",
    "    passcode_method=1,\n",
    "    verbose=0,\n",
    "    skip_passcode=False,    \n",
    ")"
   ]
  },
  {
   "cell_type": "code",
   "execution_count": 9,
   "id": "fa578dd5",
   "metadata": {},
   "outputs": [],
   "source": [
    "## initialize ssh_compute\n",
    "ssh_c = server.ssh_interface(\n",
    "    nbytes_toReceive=20000,\n",
    "    recv_timeout=1,\n",
    "    verbose=True,\n",
    ")\n",
    "ssh_c.o2_connect(\n",
    "    hostname=remote_host_compute,\n",
    "    username=username,\n",
    "    password=server.pw_decode(pw),\n",
    "    key_filename=path_sshKey,\n",
    "    look_for_keys=False,\n",
    "    passcode_method=1,\n",
    "    verbose=0,\n",
    "    skip_passcode=False,    \n",
    ")"
   ]
  },
  {
   "cell_type": "code",
   "execution_count": 10,
   "id": "daea3d7a",
   "metadata": {},
   "outputs": [],
   "source": [
    "sftp = server.sftp_interface(ssh_client=ssh_t.client)"
   ]
  },
  {
   "cell_type": "code",
   "execution_count": 11,
   "id": "21af2f06",
   "metadata": {},
   "outputs": [],
   "source": [
    "prompt_snip = f'[{username}'"
   ]
  },
  {
   "cell_type": "code",
   "execution_count": 12,
   "id": "6d8554e7",
   "metadata": {},
   "outputs": [],
   "source": [
    "send_expect = functools.partial(ssh_c.send_expect, str_success=prompt_snip)"
   ]
  },
  {
   "cell_type": "markdown",
   "id": "ccf6e180",
   "metadata": {},
   "source": [
    "# Batch run"
   ]
  },
  {
   "cell_type": "code",
   "execution_count": null,
   "id": "c0c8cdc3-6553-4d12-bf8c-27cc5a113ea3",
   "metadata": {},
   "outputs": [],
   "source": [
    "paths_found = natsort.natsorted(sftp.search_recursive(\n",
    "    path='/n/data1/hms/neurobio/sabatini/gyu/analysis/suite2p_output/mouse_0322N/',\n",
    "    search_pattern_re='stat.*npy',\n",
    "    max_depth=7,\n",
    "    find_folders=False,\n",
    "    find_files=True,\n",
    "    verbose=True,\n",
    "))"
   ]
  },
  {
   "cell_type": "code",
   "execution_count": 24,
   "id": "68a55e82-df7b-4f6b-a994-4dd91aa52d4a",
   "metadata": {},
   "outputs": [],
   "source": [
    "paths_found = [p for p in paths_found if 'exp' in p]"
   ]
  },
  {
   "cell_type": "code",
   "execution_count": 26,
   "id": "67b871e4",
   "metadata": {},
   "outputs": [
    {
     "data": {
      "text/plain": [
       "['20230430',\n",
       " '20230501',\n",
       " '20230502',\n",
       " '20230503',\n",
       " '20230504',\n",
       " '20230505',\n",
       " '20230506',\n",
       " '20230507',\n",
       " '20230508',\n",
       " '20230509',\n",
       " '20230510',\n",
       " '20230511',\n",
       " '20230512',\n",
       " '20230513',\n",
       " '20230514',\n",
       " '20230515',\n",
       " '20230516',\n",
       " '20230517',\n",
       " '20230518',\n",
       " '20230520',\n",
       " '20230521',\n",
       " '20230522',\n",
       " '20230523',\n",
       " '20230524',\n",
       " '20230525',\n",
       " '20230526',\n",
       " '20230527',\n",
       " '20230528',\n",
       " '20230529',\n",
       " '20230530',\n",
       " '20230531',\n",
       " '20230601']"
      ]
     },
     "execution_count": 26,
     "metadata": {},
     "output_type": "execute_result"
    }
   ],
   "source": [
    "dates_toUse = natsort.natsorted([Path(p).parts[-7] for p in paths_found])\n",
    "dates_toUse"
   ]
  },
  {
   "cell_type": "code",
   "execution_count": 33,
   "id": "010544df-1077-4680-ba9b-f4f810be70b6",
   "metadata": {
    "scrolled": true
   },
   "outputs": [
    {
     "name": "stderr",
     "output_type": "stream",
     "text": [
      "100%|█████████████████████████████████████████████████████████████▉| 25.8M/25.8M [00:02<00:00, 11.9Mb/s]\n",
      "100%|█████████████████████████████████████████████████████████████▉| 24.4M/24.5M [00:02<00:00, 10.3Mb/s]\n",
      "100%|█████████████████████████████████████████████████████████████▉| 26.8M/26.8M [00:03<00:00, 7.40Mb/s]\n",
      "100%|█████████████████████████████████████████████████████████████▉| 27.0M/27.0M [00:03<00:00, 7.46Mb/s]\n",
      "100%|█████████████████████████████████████████████████████████████▉| 26.3M/26.3M [00:03<00:00, 8.74Mb/s]\n",
      "100%|█████████████████████████████████████████████████████████████▉| 25.3M/25.3M [00:02<00:00, 11.0Mb/s]\n",
      "100%|█████████████████████████████████████████████████████████████▉| 26.9M/26.9M [00:02<00:00, 10.3Mb/s]\n",
      "100%|█████████████████████████████████████████████████████████████▉| 26.7M/26.7M [00:03<00:00, 8.69Mb/s]\n",
      "100%|█████████████████████████████████████████████████████████████▉| 25.5M/25.5M [00:03<00:00, 7.09Mb/s]\n",
      "100%|█████████████████████████████████████████████████████████████▉| 25.0M/25.1M [00:03<00:00, 7.42Mb/s]\n",
      "100%|█████████████████████████████████████████████████████████████▉| 26.1M/26.1M [00:02<00:00, 9.04Mb/s]\n",
      "100%|█████████████████████████████████████████████████████████████▉| 26.7M/26.7M [00:02<00:00, 10.4Mb/s]\n",
      "100%|█████████████████████████████████████████████████████████████▉| 26.4M/26.4M [00:02<00:00, 11.0Mb/s]\n",
      "100%|█████████████████████████████████████████████████████████████▉| 26.2M/26.2M [00:02<00:00, 8.78Mb/s]\n",
      "100%|█████████████████████████████████████████████████████████████▉| 25.6M/25.6M [00:03<00:00, 7.12Mb/s]\n",
      "100%|█████████████████████████████████████████████████████████████▉| 27.7M/27.7M [00:02<00:00, 10.2Mb/s]\n",
      "100%|█████████████████████████████████████████████████████████████▉| 26.0M/26.0M [00:02<00:00, 11.4Mb/s]\n",
      "100%|█████████████████████████████████████████████████████████████▉| 27.7M/27.7M [00:02<00:00, 9.60Mb/s]\n",
      "100%|█████████████████████████████████████████████████████████████▉| 28.0M/28.0M [00:03<00:00, 8.68Mb/s]\n",
      "100%|█████████████████████████████████████████████████████████████▉| 28.0M/28.0M [00:03<00:00, 8.62Mb/s]\n",
      "100%|█████████████████████████████████████████████████████████████▉| 27.9M/27.9M [00:03<00:00, 8.14Mb/s]\n",
      "100%|█████████████████████████████████████████████████████████████▉| 27.9M/27.9M [00:03<00:00, 8.46Mb/s]\n",
      "100%|█████████████████████████████████████████████████████████████▉| 27.8M/27.8M [00:03<00:00, 7.06Mb/s]\n",
      "100%|█████████████████████████████████████████████████████████████▉| 27.6M/27.6M [00:03<00:00, 7.00Mb/s]\n",
      "100%|█████████████████████████████████████████████████████████████▉| 27.5M/27.5M [00:03<00:00, 8.67Mb/s]\n",
      "100%|█████████████████████████████████████████████████████████████▉| 27.0M/27.0M [00:02<00:00, 10.4Mb/s]\n",
      "100%|█████████████████████████████████████████████████████████████▉| 28.4M/28.4M [00:04<00:00, 7.09Mb/s]\n",
      "100%|█████████████████████████████████████████████████████████████▉| 28.0M/28.0M [00:02<00:00, 10.2Mb/s]\n",
      "100%|█████████████████████████████████████████████████████████████▉| 27.9M/27.9M [00:02<00:00, 12.3Mb/s]\n",
      "100%|█████████████████████████████████████████████████████████████▉| 27.1M/27.1M [00:03<00:00, 8.51Mb/s]\n"
     ]
    },
    {
     "data": {
      "text/plain": [
       "[None,\n",
       " None,\n",
       " None,\n",
       " None,\n",
       " None,\n",
       " None,\n",
       " None,\n",
       " None,\n",
       " None,\n",
       " None,\n",
       " None,\n",
       " None,\n",
       " None,\n",
       " None,\n",
       " None,\n",
       " None,\n",
       " None,\n",
       " None,\n",
       " None,\n",
       " None,\n",
       " None,\n",
       " None,\n",
       " None,\n",
       " None,\n",
       " None,\n",
       " None,\n",
       " None,\n",
       " None,\n",
       " None,\n",
       " None]"
      ]
     },
     "execution_count": 33,
     "metadata": {},
     "output_type": "execute_result"
    }
   ],
   "source": [
    "[sftp.get(str(Path(p).parent / 'stat.npy'), str(Path(r'/media/rich/bigSSD/analysis_data/face_rhythm/mouse_0322N/stat_and_ops') / Path(p).parts[-7] / 'stat.npy')) for p in paths_found[2:]]"
   ]
  },
  {
   "cell_type": "code",
   "execution_count": null,
   "id": "4e1295be-d324-40e3-8dc9-c3995933267a",
   "metadata": {},
   "outputs": [],
   "source": []
  },
  {
   "cell_type": "code",
   "execution_count": null,
   "id": "2999fb00-611b-4f2a-b680-a4c2e5bd7db2",
   "metadata": {},
   "outputs": [],
   "source": []
  },
  {
   "cell_type": "code",
   "execution_count": 17,
   "id": "2123b1d3-ab96-4d7a-a3d3-cb6d92ed9798",
   "metadata": {},
   "outputs": [
    {
     "name": "stdout",
     "output_type": "stream",
     "text": [
      "/n/files/Neurobio/MICROSCOPE/Gyu/BMI_data/cage_0322/mouse_0322N/20230531/analysis_data/logger.mat\n",
      "/n/files/Neurobio/MICROSCOPE/Gyu/BMI_data/cage_0322/mouse_0322N/20230523/analysis_data/logger.mat\n",
      "/n/files/Neurobio/MICROSCOPE/Gyu/BMI_data/cage_0322/mouse_0322N/20230517/analysis_data/logger.mat\n",
      "/n/files/Neurobio/MICROSCOPE/Gyu/BMI_data/cage_0322/mouse_0322N/20230515/analysis_data/logger.mat\n",
      "/n/files/Neurobio/MICROSCOPE/Gyu/BMI_data/cage_0322/mouse_0322N/20230430/analysis_data/logger.mat\n",
      "/n/files/Neurobio/MICROSCOPE/Gyu/BMI_data/cage_0322/mouse_0322N/20230528/analysis_data/logger.mat\n",
      "/n/files/Neurobio/MICROSCOPE/Gyu/BMI_data/cage_0322/mouse_0322N/20230601/analysis_data/logger.mat\n",
      "/n/files/Neurobio/MICROSCOPE/Gyu/BMI_data/cage_0322/mouse_0322N/20230512/analysis_data/logger.mat\n",
      "/n/files/Neurobio/MICROSCOPE/Gyu/BMI_data/cage_0322/mouse_0322N/20230510/analysis_data/logger.mat\n",
      "/n/files/Neurobio/MICROSCOPE/Gyu/BMI_data/cage_0322/mouse_0322N/20230511/analysis_data/logger.mat\n",
      "/n/files/Neurobio/MICROSCOPE/Gyu/BMI_data/cage_0322/mouse_0322N/20230514/analysis_data/logger.mat\n",
      "/n/files/Neurobio/MICROSCOPE/Gyu/BMI_data/cage_0322/mouse_0322N/20230504/analysis_data/logger.mat\n",
      "/n/files/Neurobio/MICROSCOPE/Gyu/BMI_data/cage_0322/mouse_0322N/20230507/analysis_data/logger.mat\n",
      "/n/files/Neurobio/MICROSCOPE/Gyu/BMI_data/cage_0322/mouse_0322N/20230513/analysis_data/logger.mat\n",
      "/n/files/Neurobio/MICROSCOPE/Gyu/BMI_data/cage_0322/mouse_0322N/20230525/analysis_data/logger.mat\n",
      "/n/files/Neurobio/MICROSCOPE/Gyu/BMI_data/cage_0322/mouse_0322N/20230522/analysis_data/logger.mat\n",
      "/n/files/Neurobio/MICROSCOPE/Gyu/BMI_data/cage_0322/mouse_0322N/20230526/analysis_data/logger.mat\n",
      "/n/files/Neurobio/MICROSCOPE/Gyu/BMI_data/cage_0322/mouse_0322N/20230521/analysis_data/logger.mat\n",
      "/n/files/Neurobio/MICROSCOPE/Gyu/BMI_data/cage_0322/mouse_0322N/20230518/analysis_data/logger.mat\n",
      "/n/files/Neurobio/MICROSCOPE/Gyu/BMI_data/cage_0322/mouse_0322N/20230530/analysis_data/logger.mat\n",
      "/n/files/Neurobio/MICROSCOPE/Gyu/BMI_data/cage_0322/mouse_0322N/20230520/analysis_data/logger.mat\n",
      "/n/files/Neurobio/MICROSCOPE/Gyu/BMI_data/cage_0322/mouse_0322N/20230508/analysis_data/logger.mat\n",
      "/n/files/Neurobio/MICROSCOPE/Gyu/BMI_data/cage_0322/mouse_0322N/20230506/analysis_data/logger.mat\n",
      "/n/files/Neurobio/MICROSCOPE/Gyu/BMI_data/cage_0322/mouse_0322N/20230527/analysis_data/logger.mat\n",
      "/n/files/Neurobio/MICROSCOPE/Gyu/BMI_data/cage_0322/mouse_0322N/20230519/analysis_data/logger.mat\n",
      "/n/files/Neurobio/MICROSCOPE/Gyu/BMI_data/cage_0322/mouse_0322N/20230501/analysis_data/logger.mat\n",
      "/n/files/Neurobio/MICROSCOPE/Gyu/BMI_data/cage_0322/mouse_0322N/20230505/analysis_data/logger.mat\n",
      "/n/files/Neurobio/MICROSCOPE/Gyu/BMI_data/cage_0322/mouse_0322N/20230516/analysis_data/logger.mat\n",
      "/n/files/Neurobio/MICROSCOPE/Gyu/BMI_data/cage_0322/mouse_0322N/20230509/analysis_data/logger.mat\n",
      "/n/files/Neurobio/MICROSCOPE/Gyu/BMI_data/cage_0322/mouse_0322N/20230529/analysis_data/logger.mat\n",
      "/n/files/Neurobio/MICROSCOPE/Gyu/BMI_data/cage_0322/mouse_0322N/20230503/analysis_data/logger.mat\n",
      "/n/files/Neurobio/MICROSCOPE/Gyu/BMI_data/cage_0322/mouse_0322N/20230524/analysis_data/logger.mat\n",
      "/n/files/Neurobio/MICROSCOPE/Gyu/BMI_data/cage_0322/mouse_0322N/20230502/analysis_data/logger.mat\n"
     ]
    }
   ],
   "source": [
    "paths_found = natsort.natsorted(sftp.search_recursive(\n",
    "    path='/n/files/Neurobio/MICROSCOPE/Gyu/BMI_data/cage_0322/mouse_0322N/',\n",
    "    search_pattern_re='logger\\.mat',\n",
    "    max_depth=7,\n",
    "    find_folders=False,\n",
    "    find_files=True,\n",
    "    verbose=True,\n",
    "))"
   ]
  },
  {
   "cell_type": "code",
   "execution_count": 18,
   "id": "6b810c93-7529-4b04-843f-4047e2dd4e66",
   "metadata": {},
   "outputs": [
    {
     "data": {
      "text/plain": [
       "['20230430',\n",
       " '20230501',\n",
       " '20230502',\n",
       " '20230503',\n",
       " '20230504',\n",
       " '20230505',\n",
       " '20230506',\n",
       " '20230507',\n",
       " '20230508',\n",
       " '20230509',\n",
       " '20230510',\n",
       " '20230511',\n",
       " '20230512',\n",
       " '20230513',\n",
       " '20230514',\n",
       " '20230515',\n",
       " '20230516',\n",
       " '20230517',\n",
       " '20230518',\n",
       " '20230519',\n",
       " '20230520',\n",
       " '20230521',\n",
       " '20230522',\n",
       " '20230523',\n",
       " '20230524',\n",
       " '20230525',\n",
       " '20230526',\n",
       " '20230527',\n",
       " '20230528',\n",
       " '20230529',\n",
       " '20230530',\n",
       " '20230531',\n",
       " '20230601']"
      ]
     },
     "execution_count": 18,
     "metadata": {},
     "output_type": "execute_result"
    }
   ],
   "source": [
    "dates_toUse = natsort.natsorted([Path(p).parts[-3] for p in paths_found])\n",
    "dates_toUse"
   ]
  },
  {
   "cell_type": "code",
   "execution_count": 19,
   "id": "73cc00e4-5aa2-4eae-8950-8a1d2fb34f60",
   "metadata": {
    "scrolled": true
   },
   "outputs": [
    {
     "name": "stderr",
     "output_type": "stream",
     "text": [
      "100%|████████████████████████████████████████████████████████████████████▉| 4.82M/4.82M [00:00<00:00, 8.14Mb/s]\n",
      " 99%|████████████████████████████████████████████████████████████████████▌| 4.78M/4.81M [00:00<00:00, 7.74Mb/s]\n",
      " 99%|████████████████████████████████████████████████████████████████████▋| 4.78M/4.81M [00:00<00:00, 27.0Mb/s]\n",
      "100%|████████████████████████████████████████████████████████████████████▋| 4.78M/4.80M [00:00<00:00, 24.6Mb/s]\n",
      "100%|████████████████████████████████████████████████████████████████████▋| 4.82M/4.84M [00:00<00:00, 23.3Mb/s]\n",
      "100%|████████████████████████████████████████████████████████████████████▉| 4.82M/4.82M [00:00<00:00, 22.6Mb/s]\n",
      "100%|████████████████████████████████████████████████████████████████████▉| 4.82M/4.82M [00:00<00:00, 24.1Mb/s]\n",
      "100%|████████████████████████████████████████████████████████████████████▊| 4.78M/4.79M [00:00<00:00, 25.3Mb/s]\n",
      "100%|████████████████████████████████████████████████████████████████████▊| 4.82M/4.83M [00:00<00:00, 9.86Mb/s]\n",
      "100%|████████████████████████████████████████████████████████████████████▉| 4.82M/4.82M [00:00<00:00, 21.4Mb/s]\n",
      " 99%|████████████████████████████████████████████████████████████████████▌| 4.82M/4.84M [00:00<00:00, 6.15Mb/s]\n",
      "100%|████████████████████████████████████████████████████████████████████▋| 4.78M/4.81M [00:00<00:00, 25.7Mb/s]\n",
      " 99%|████████████████████████████████████████████████████████████████████▌| 4.78M/4.81M [00:00<00:00, 24.7Mb/s]\n",
      "100%|████████████████████████████████████████████████████████████████████▉| 4.78M/4.79M [00:00<00:00, 23.4Mb/s]\n",
      "100%|████████████████████████████████████████████████████████████████████▉| 4.82M/4.82M [00:00<00:00, 24.5Mb/s]\n",
      "100%|████████████████████████████████████████████████████████████████████▋| 4.75M/4.77M [00:00<00:00, 25.4Mb/s]\n",
      " 99%|████████████████████████████████████████████████████████████████████▌| 4.78M/4.82M [00:00<00:00, 24.5Mb/s]\n",
      "100%|████████████████████████████████████████████████████████████████████▋| 4.78M/4.81M [00:00<00:00, 24.6Mb/s]\n",
      " 99%|████████████████████████████████████████████████████████████████████▌| 4.78M/4.81M [00:00<00:00, 22.3Mb/s]\n",
      "100%|████████████████████████████████████████████████████████████████████▉| 4.82M/4.82M [00:00<00:00, 26.4Mb/s]\n",
      " 99%|████████████████████████████████████████████████████████████████████▌| 4.78M/4.82M [00:00<00:00, 21.6Mb/s]\n",
      "100%|████████████████████████████████████████████████████████████████████▉| 4.82M/4.82M [00:00<00:00, 23.2Mb/s]\n",
      "100%|████████████████████████████████████████████████████████████████████▋| 4.82M/4.84M [00:00<00:00, 16.0Mb/s]\n",
      " 99%|████████████████████████████████████████████████████████████████████▋| 4.82M/4.84M [00:00<00:00, 25.5Mb/s]\n",
      "100%|████████████████████████████████████████████████████████████████████▋| 4.82M/4.84M [00:00<00:00, 22.7Mb/s]\n",
      " 99%|████████████████████████████████████████████████████████████████████▋| 4.82M/4.84M [00:00<00:00, 24.3Mb/s]\n",
      " 99%|████████████████████████████████████████████████████████████████████▌| 4.82M/4.84M [00:00<00:00, 24.2Mb/s]\n",
      "100%|████████████████████████████████████████████████████████████████████▊| 4.82M/4.83M [00:00<00:00, 14.3Mb/s]\n",
      " 99%|████████████████████████████████████████████████████████████████████▋| 4.78M/4.81M [00:00<00:00, 23.2Mb/s]\n",
      "100%|████████████████████████████████████████████████████████████████████▋| 4.78M/4.81M [00:00<00:00, 21.5Mb/s]\n",
      " 99%|████████████████████████████████████████████████████████████████████▋| 4.82M/4.84M [00:00<00:00, 23.1Mb/s]\n",
      " 99%|████████████████████████████████████████████████████████████████████▌| 4.78M/4.81M [00:00<00:00, 24.0Mb/s]\n",
      " 99%|████████████████████████████████████████████████████████████████████▋| 4.78M/4.81M [00:00<00:00, 26.4Mb/s]\n"
     ]
    },
    {
     "data": {
      "text/plain": [
       "[None,\n",
       " None,\n",
       " None,\n",
       " None,\n",
       " None,\n",
       " None,\n",
       " None,\n",
       " None,\n",
       " None,\n",
       " None,\n",
       " None,\n",
       " None,\n",
       " None,\n",
       " None,\n",
       " None,\n",
       " None,\n",
       " None,\n",
       " None,\n",
       " None,\n",
       " None,\n",
       " None,\n",
       " None,\n",
       " None,\n",
       " None,\n",
       " None,\n",
       " None,\n",
       " None,\n",
       " None,\n",
       " None,\n",
       " None,\n",
       " None,\n",
       " None,\n",
       " None]"
      ]
     },
     "execution_count": 19,
     "metadata": {},
     "output_type": "execute_result"
    }
   ],
   "source": [
    "[sftp.get(str(Path(p).parent / 'logger.mat'), str(Path(r'/media/rich/bigSSD/analysis_data/face_rhythm/mouse_0322N/loggers') / date / 'logger.mat')) for date, p in zip(dates_toUse, paths_found)]"
   ]
  },
  {
   "cell_type": "code",
   "execution_count": 21,
   "id": "d2d04d61-b22e-48a0-b351-01d67f1f9677",
   "metadata": {
    "scrolled": true
   },
   "outputs": [
    {
     "name": "stderr",
     "output_type": "stream",
     "text": [
      " 95%|██████████████████████████████████████████████████████████████████▊   | 65.5k/68.6k [00:00<00:00, 661kb/s]\n",
      " 95%|██████████████████████████████████████████████████████████████████▊   | 65.5k/68.6k [00:00<00:00, 470kb/s]\n",
      " 95%|██████████████████████████████████████████████████████████████████▊   | 65.5k/68.6k [00:00<00:00, 800kb/s]\n",
      " 95%|██████████████████████████████████████████████████████████████████▊   | 65.5k/68.6k [00:00<00:00, 740kb/s]\n",
      "100%|████████████████████████████████████████████████████████████████████▉| 6.16M/6.17M [00:00<00:00, 18.6Mb/s]\n",
      " 95%|██████████████████████████████████████████████████████████████████▊   | 65.5k/68.6k [00:00<00:00, 868kb/s]\n",
      "100%|████████████████████████████████████████████████████████████████████▋| 5.73M/5.76M [00:00<00:00, 25.6Mb/s]\n",
      " 95%|██████████████████████████████████████████████████████████████████▊   | 65.5k/68.6k [00:00<00:00, 888kb/s]\n",
      "100%|████████████████████████████████████████████████████████████████████▋| 6.13M/6.16M [00:00<00:00, 27.3Mb/s]\n",
      " 95%|██████████████████████████████████████████████████████████████████▊   | 65.5k/68.6k [00:00<00:00, 434kb/s]\n",
      "100%|████████████████████████████████████████████████████████████████████▊| 6.13M/6.14M [00:00<00:00, 28.2Mb/s]\n",
      " 95%|██████████████████████████████████████████████████████████████████▊   | 65.5k/68.6k [00:00<00:00, 541kb/s]\n",
      "100%|████████████████████████████████████████████████████████████████████▉| 6.03M/6.03M [00:00<00:00, 24.2Mb/s]\n",
      " 95%|██████████████████████████████████████████████████████████████████▊   | 65.5k/68.6k [00:00<00:00, 506kb/s]\n",
      "100%|████████████████████████████████████████████████████████████████████▉| 6.13M/6.13M [00:00<00:00, 28.5Mb/s]\n",
      " 95%|██████████████████████████████████████████████████████████████████▊   | 65.5k/68.6k [00:00<00:00, 650kb/s]\n",
      "100%|████████████████████████████████████████████████████████████████████▉| 5.70M/5.71M [00:00<00:00, 25.8Mb/s]\n",
      " 99%|████████████████████████████████████████████████████████████████████▌| 5.77M/5.80M [00:00<00:00, 27.7Mb/s]\n",
      "100%|████████████████████████████████████████████████████████████████████▊| 5.93M/5.95M [00:00<00:00, 28.4Mb/s]\n",
      "100%|████████████████████████████████████████████████████████████████████▉| 5.70M/5.70M [00:00<00:00, 29.1Mb/s]\n",
      "100%|████████████████████████████████████████████████████████████████████▉| 6.09M/6.10M [00:00<00:00, 27.1Mb/s]\n",
      "100%|████████████████████████████████████████████████████████████████████▉| 5.57M/5.58M [00:00<00:00, 26.5Mb/s]\n",
      " 99%|████████████████████████████████████████████████████████████████████▌| 5.80M/5.83M [00:00<00:00, 25.6Mb/s]\n",
      "100%|████████████████████████████████████████████████████████████████████▋| 5.80M/5.82M [00:00<00:00, 26.2Mb/s]\n",
      " 99%|████████████████████████████████████████████████████████████████████▋| 5.80M/5.83M [00:00<00:00, 20.1Mb/s]\n",
      "100%|████████████████████████████████████████████████████████████████████▋| 5.87M/5.89M [00:00<00:00, 19.4Mb/s]\n",
      "100%|████████████████████████████████████████████████████████████████████▉| 5.77M/5.78M [00:00<00:00, 20.8Mb/s]\n",
      "100%|████████████████████████████████████████████████████████████████████▊| 5.73M/5.75M [00:00<00:00, 27.7Mb/s]\n",
      " 95%|██████████████████████████████████████████████████████████████████▊   | 65.5k/68.6k [00:00<00:00, 496kb/s]\n",
      " 95%|██████████████████████████████████████████████████████████████████▊   | 65.5k/68.6k [00:00<00:00, 876kb/s]\n",
      " 95%|██████████████████████████████████████████████████████████████████▊   | 65.5k/68.6k [00:00<00:00, 833kb/s]\n",
      " 95%|██████████████████████████████████████████████████████████████████▊   | 65.5k/68.6k [00:00<00:00, 547kb/s]\n",
      " 95%|██████████████████████████████████████████████████████████████████▊   | 65.5k/68.6k [00:00<00:00, 615kb/s]\n"
     ]
    },
    {
     "data": {
      "text/plain": [
       "[None,\n",
       " None,\n",
       " None,\n",
       " None,\n",
       " None,\n",
       " None,\n",
       " None,\n",
       " None,\n",
       " None,\n",
       " None,\n",
       " None,\n",
       " None,\n",
       " None,\n",
       " None,\n",
       " None,\n",
       " None,\n",
       " None,\n",
       " None,\n",
       " None,\n",
       " None,\n",
       " None,\n",
       " None,\n",
       " None,\n",
       " None,\n",
       " None,\n",
       " None,\n",
       " None,\n",
       " None,\n",
       " None,\n",
       " None,\n",
       " None,\n",
       " None,\n",
       " None]"
      ]
     },
     "execution_count": 21,
     "metadata": {},
     "output_type": "execute_result"
    }
   ],
   "source": [
    "[sftp.get(str(Path(p).parent / 'expParams.mat'), str(Path(r'/media/rich/bigSSD/analysis_data/face_rhythm/mouse_0322N/loggers') / date / 'expParams.mat')) for date, p in zip(dates_toUse, paths_found)]"
   ]
  },
  {
   "cell_type": "markdown",
   "id": "33600579",
   "metadata": {},
   "source": [
    "## Clean up"
   ]
  },
  {
   "cell_type": "code",
   "execution_count": null,
   "id": "b31f6bcb",
   "metadata": {},
   "outputs": [],
   "source": [
    "## delete password\n",
    "del pw\n",
    "gc.collect()\n",
    "\n",
    "## close sftp\n",
    "if sftp: sftp.close()\n",
    "if transport: transport.close()\n",
    "del sftp\n",
    "del transport\n",
    "    \n",
    "## close ssh\n",
    "ssh_t.close()\n",
    "del ssh_t\n",
    "ssh_c.close()\n",
    "del ssh_c\n",
    "gc.collect()"
   ]
  },
  {
   "cell_type": "code",
   "execution_count": null,
   "id": "b1e29db0",
   "metadata": {},
   "outputs": [],
   "source": []
  },
  {
   "cell_type": "code",
   "execution_count": null,
   "id": "a2ee21fd",
   "metadata": {},
   "outputs": [],
   "source": []
  }
 ],
 "metadata": {
  "kernelspec": {
   "display_name": "Python 3 (ipykernel)",
   "language": "python",
   "name": "python3"
  },
  "language_info": {
   "codemirror_mode": {
    "name": "ipython",
    "version": 3
   },
   "file_extension": ".py",
   "mimetype": "text/x-python",
   "name": "python",
   "nbconvert_exporter": "python",
   "pygments_lexer": "ipython3",
   "version": "3.11.3"
  }
 },
 "nbformat": 4,
 "nbformat_minor": 5
}
