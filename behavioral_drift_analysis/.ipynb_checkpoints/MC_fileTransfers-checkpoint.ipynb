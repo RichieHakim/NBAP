{
 "cells": [
  {
   "cell_type": "code",
   "execution_count": 1,
   "id": "eb297901",
   "metadata": {},
   "outputs": [
    {
     "data": {
      "text/html": [
       "<style>.container {width:95% !important; }</style>"
      ],
      "text/plain": [
       "<IPython.core.display.HTML object>"
      ]
     },
     "metadata": {},
     "output_type": "display_data"
    }
   ],
   "source": [
    "# ALWAYS RUN THIS CELL\n",
    "# widen jupyter notebook window\n",
    "from IPython.display import display, HTML\n",
    "display(HTML(\"<style>.container {width:95% !important; }</style>\"))"
   ]
  },
  {
   "cell_type": "markdown",
   "id": "e7ca9401",
   "metadata": {},
   "source": [
    "This requires having `bnpm`. Get it with `pip install bnpm` or here: https://github.com/RichieHakim/basic_neural_processing_modules"
   ]
  },
  {
   "cell_type": "code",
   "execution_count": 2,
   "id": "b083639c",
   "metadata": {},
   "outputs": [],
   "source": [
    "%load_ext autoreload\n",
    "%autoreload 2\n",
    "from bnpm import server\n",
    "import bnpm"
   ]
  },
  {
   "cell_type": "code",
   "execution_count": 3,
   "id": "47fe1e80",
   "metadata": {},
   "outputs": [],
   "source": [
    "import os\n",
    "from pathlib import Path\n",
    "import functools\n",
    "import tempfile\n",
    "import getpass\n",
    "import gc"
   ]
  },
  {
   "cell_type": "code",
   "execution_count": 4,
   "id": "5393e061",
   "metadata": {},
   "outputs": [],
   "source": [
    "import numpy as np\n",
    "import natsort"
   ]
  },
  {
   "cell_type": "markdown",
   "id": "6114afcd",
   "metadata": {},
   "source": [
    "------------\n",
    "# ==== Start ===="
   ]
  },
  {
   "cell_type": "markdown",
   "id": "ae33b435",
   "metadata": {},
   "source": [
    "## Prepare username + password"
   ]
  },
  {
   "cell_type": "code",
   "execution_count": 5,
   "id": "af73363a",
   "metadata": {},
   "outputs": [
    {
     "name": "stdout",
     "output_type": "stream",
     "text": [
      "Username: rh183\n",
      "Password: ········\n"
     ]
    }
   ],
   "source": [
    "remote_host_transfer = \"transfer.rc.hms.harvard.edu\"\n",
    "remote_host_compute = \"o2.hms.harvard.edu\"\n",
    "username = input('Username: ')\n",
    "\n",
    "use_localSshKey = False\n",
    "\n",
    "pw = server.pw_encode(getpass.getpass(prompt='Password: ')) if use_localSshKey==False else None\n",
    "\n",
    "path_sshKey = '/home/rich/.ssh/id_rsa' if use_localSshKey else None"
   ]
  },
  {
   "cell_type": "markdown",
   "id": "c539c815",
   "metadata": {},
   "source": [
    "## Prepare `sftp` and `ssh` objects"
   ]
  },
  {
   "cell_type": "code",
   "execution_count": 6,
   "id": "702eba22",
   "metadata": {},
   "outputs": [],
   "source": [
    "## initialize ssh_transfer\n",
    "ssh_t = server.ssh_interface(\n",
    "    nbytes_toReceive=20000,\n",
    "    recv_timeout=1,\n",
    "    verbose=True,\n",
    ")"
   ]
  },
  {
   "cell_type": "code",
   "execution_count": 7,
   "id": "fdf1e2ba",
   "metadata": {
    "scrolled": true
   },
   "outputs": [],
   "source": [
    "ssh_t.o2_connect(\n",
    "    hostname=remote_host_transfer,\n",
    "    username=username,\n",
    "    password=server.pw_decode(pw),\n",
    "    key_filename=path_sshKey,\n",
    "    look_for_keys=False,\n",
    "    passcode_method=1,\n",
    "    verbose=0,\n",
    "    skip_passcode=False,    \n",
    ")"
   ]
  },
  {
   "cell_type": "code",
   "execution_count": 8,
   "id": "fa578dd5",
   "metadata": {},
   "outputs": [],
   "source": [
    "## initialize ssh_compute\n",
    "ssh_c = server.ssh_interface(\n",
    "    nbytes_toReceive=20000,\n",
    "    recv_timeout=1,\n",
    "    verbose=True,\n",
    ")\n",
    "ssh_c.o2_connect(\n",
    "    hostname=remote_host_compute,\n",
    "    username=username,\n",
    "    password=server.pw_decode(pw),\n",
    "    key_filename=path_sshKey,\n",
    "    look_for_keys=False,\n",
    "    passcode_method=1,\n",
    "    verbose=0,\n",
    "    skip_passcode=False,    \n",
    ")"
   ]
  },
  {
   "cell_type": "code",
   "execution_count": 9,
   "id": "daea3d7a",
   "metadata": {},
   "outputs": [],
   "source": [
    "sftp = server.sftp_interface(ssh_client=ssh_t.client)"
   ]
  },
  {
   "cell_type": "code",
   "execution_count": 10,
   "id": "21af2f06",
   "metadata": {},
   "outputs": [],
   "source": [
    "prompt_snip = f'[{username}'"
   ]
  },
  {
   "cell_type": "code",
   "execution_count": 11,
   "id": "6d8554e7",
   "metadata": {},
   "outputs": [],
   "source": [
    "send_expect = functools.partial(ssh_c.send_expect, str_success=prompt_snip)"
   ]
  },
  {
   "cell_type": "markdown",
   "id": "ccf6e180",
   "metadata": {},
   "source": [
    "# Batch run"
   ]
  },
  {
   "cell_type": "code",
   "execution_count": 62,
   "id": "3d4b6a6d",
   "metadata": {},
   "outputs": [
    {
     "name": "stdout",
     "output_type": "stream",
     "text": [
      "/n/data1/hms/neurobio/sabatini/gyu/data/full_data/mouse_0322R/20230531/camera_data/exp/cam4/cam42023-05-31T11_30_01.avi\n",
      "/n/data1/hms/neurobio/sabatini/gyu/data/full_data/mouse_0322R/20230420/camera_data/exp/cam4/cam42023-04-20T13_51_20.avi\n",
      "/n/data1/hms/neurobio/sabatini/gyu/data/full_data/mouse_0322R/20230523/camera_data/exp/cam4/cam42023-05-23T10_56_37.avi\n",
      "/n/data1/hms/neurobio/sabatini/gyu/data/full_data/mouse_0322R/20230517/camera_data/exp/cam4/cam42023-05-17T11_43_30.avi\n",
      "/n/data1/hms/neurobio/sabatini/gyu/data/full_data/mouse_0322R/20230515/camera_data/exp/cam4/cam42023-05-15T13_15_45.avi\n",
      "/n/data1/hms/neurobio/sabatini/gyu/data/full_data/mouse_0322R/20230430/camera_data/exp/cam4/cam42023-04-30T10_49_53.avi\n",
      "/n/data1/hms/neurobio/sabatini/gyu/data/full_data/mouse_0322R/20230512/camera_data/exp/cam4/cam42023-05-12T11_12_36.avi\n",
      "/n/data1/hms/neurobio/sabatini/gyu/data/full_data/mouse_0322R/20230511/camera_data/exp/cam4/cam42023-05-11T13_24_25.avi\n",
      "/n/data1/hms/neurobio/sabatini/gyu/data/full_data/mouse_0322R/20230514/camera_data/exp/cam4/cam42023-05-14T12_01_45.avi\n",
      "/n/data1/hms/neurobio/sabatini/gyu/data/full_data/mouse_0322R/20230504/camera_data/exp/cam4/cam42023-05-04T12_09_41.avi\n",
      "/n/data1/hms/neurobio/sabatini/gyu/data/full_data/mouse_0322R/20230507/camera_data/exp/cam4/cam42023-05-07T13_59_55.avi\n",
      "/n/data1/hms/neurobio/sabatini/gyu/data/full_data/mouse_0322R/20230513/camera_data/exp/cam4/cam42023-05-13T13_10_24.avi\n",
      "/n/data1/hms/neurobio/sabatini/gyu/data/full_data/mouse_0322R/20230525/camera_data/exp/cam4/cam42023-05-25T12_04_08.avi\n",
      "/n/data1/hms/neurobio/sabatini/gyu/data/full_data/mouse_0322R/20230522/camera_data/exp/cam4/cam42023-05-22T11_22_17.avi\n",
      "/n/data1/hms/neurobio/sabatini/gyu/data/full_data/mouse_0322R/20230526/camera_data/exp/cam4/cam42023-05-26T11_23_18.avi\n",
      "/n/data1/hms/neurobio/sabatini/gyu/data/full_data/mouse_0322R/20230424/camera_data/exp/cam4/cam42023-04-24T16_48_58.avi\n",
      "/n/data1/hms/neurobio/sabatini/gyu/data/full_data/mouse_0322R/20230426/camera_data/exp/cam4/cam42023-04-26T16_00_22.avi\n",
      "/n/data1/hms/neurobio/sabatini/gyu/data/full_data/mouse_0322R/20230521/camera_data/exp/cam4/cam42023-05-21T11_46_08.avi\n",
      "/n/data1/hms/neurobio/sabatini/gyu/data/full_data/mouse_0322R/20230518/camera_data/exp/cam4/cam42023-05-18T09_51_54.avi\n",
      "/n/data1/hms/neurobio/sabatini/gyu/data/full_data/mouse_0322R/20230530/camera_data/exp/cam4/cam42023-05-30T11_36_51.avi\n",
      "/n/data1/hms/neurobio/sabatini/gyu/data/full_data/mouse_0322R/20230520/camera_data/exp/cam4/cam42023-05-20T11_58_27.avi\n",
      "/n/data1/hms/neurobio/sabatini/gyu/data/full_data/mouse_0322R/20230508/camera_data/exp/cam4/cam42023-05-08T11_56_09.avi\n",
      "/n/data1/hms/neurobio/sabatini/gyu/data/full_data/mouse_0322R/20230428/camera_data/exp/cam4/cam42023-04-28T10_42_45.avi\n",
      "/n/data1/hms/neurobio/sabatini/gyu/data/full_data/mouse_0322R/20230506/camera_data/exp/cam4/cam42023-05-06T11_45_37.avi\n",
      "/n/data1/hms/neurobio/sabatini/gyu/data/full_data/mouse_0322R/20230527/camera_data/exp/cam4/cam42023-05-27T10_41_24.avi\n",
      "/n/data1/hms/neurobio/sabatini/gyu/data/full_data/mouse_0322R/20230510_badExpDay/camera_data/exp/cam4/cam42023-05-10T11_55_49.avi\n",
      "/n/data1/hms/neurobio/sabatini/gyu/data/full_data/mouse_0322R/20230425/camera_data/exp/cam4/cam42023-04-25T11_06_59.avi\n",
      "/n/data1/hms/neurobio/sabatini/gyu/data/full_data/mouse_0322R/20230419/camera_data/exp/cam4/cam42023-04-19T15_19_37.avi\n",
      "/n/data1/hms/neurobio/sabatini/gyu/data/full_data/mouse_0322R/20230519/camera_data/exp/cam4/cam42023-05-19T11_17_08.avi\n",
      "/n/data1/hms/neurobio/sabatini/gyu/data/full_data/mouse_0322R/20230429/camera_data/exp/cam4/cam42023-04-29T10_50_13.avi\n",
      "/n/data1/hms/neurobio/sabatini/gyu/data/full_data/mouse_0322R/20230501/camera_data/exp/cam4/cam42023-05-01T13_10_56.avi\n",
      "/n/data1/hms/neurobio/sabatini/gyu/data/full_data/mouse_0322R/20230505/camera_data/exp/cam4/cam42023-05-05T12_29_36.avi\n",
      "/n/data1/hms/neurobio/sabatini/gyu/data/full_data/mouse_0322R/20230427/camera_data/exp/cam4/cam42023-04-27T11_29_15.avi\n",
      "/n/data1/hms/neurobio/sabatini/gyu/data/full_data/mouse_0322R/20230516/camera_data/exp/cam4/cam42023-05-16T11_09_06.avi\n",
      "/n/data1/hms/neurobio/sabatini/gyu/data/full_data/mouse_0322R/20230509/camera_data/exp/cam4/cam42023-05-09T13_45_35.avi\n",
      "/n/data1/hms/neurobio/sabatini/gyu/data/full_data/mouse_0322R/20230503/camera_data/exp/cam4/cam42023-05-03T13_27_58.avi\n",
      "/n/data1/hms/neurobio/sabatini/gyu/data/full_data/mouse_0322R/20230524/camera_data/exp/cam4/cam42023-05-24T11_12_43.avi\n",
      "/n/data1/hms/neurobio/sabatini/gyu/data/full_data/mouse_0322R/20230502/camera_data/exp/cam4/cam42023-05-02T10_36_26.avi\n"
     ]
    }
   ],
   "source": [
    "paths_found = natsort.natsorted(sftp.search_recursive(\n",
    "    path='/n/data1/hms/neurobio/sabatini/gyu/data/full_data/mouse_0322R/',\n",
    "    search_pattern_re='cam4.*avi',\n",
    "    max_depth=5,\n",
    "    find_folders=False,\n",
    "    find_files=True,\n",
    "))"
   ]
  },
  {
   "cell_type": "code",
   "execution_count": 63,
   "id": "67b871e4",
   "metadata": {},
   "outputs": [
    {
     "data": {
      "text/plain": [
       "['20230419',\n",
       " '20230420',\n",
       " '20230424',\n",
       " '20230425',\n",
       " '20230426',\n",
       " '20230427',\n",
       " '20230428',\n",
       " '20230429',\n",
       " '20230430',\n",
       " '20230501',\n",
       " '20230502',\n",
       " '20230503',\n",
       " '20230504',\n",
       " '20230505',\n",
       " '20230506',\n",
       " '20230507',\n",
       " '20230508',\n",
       " '20230509',\n",
       " '20230510_badExpDay',\n",
       " '20230511',\n",
       " '20230512',\n",
       " '20230513',\n",
       " '20230514',\n",
       " '20230515',\n",
       " '20230516',\n",
       " '20230517',\n",
       " '20230518',\n",
       " '20230519',\n",
       " '20230520',\n",
       " '20230521',\n",
       " '20230522',\n",
       " '20230523',\n",
       " '20230524',\n",
       " '20230525',\n",
       " '20230526',\n",
       " '20230527',\n",
       " '20230530',\n",
       " '20230531']"
      ]
     },
     "execution_count": 63,
     "metadata": {},
     "output_type": "execute_result"
    }
   ],
   "source": [
    "dates_toUse = natsort.natsorted([Path(p).parts[-5] for p in paths_found])\n",
    "dates_toUse"
   ]
  },
  {
   "cell_type": "raw",
   "id": "174d1b98",
   "metadata": {},
   "source": [
    "dates_toUse = [\n",
    "    '20230430',\n",
    "#     '20230501',\n",
    "#     '20230502',\n",
    "#     '20230503',\n",
    "#     '20230504',\n",
    "#     '20230505',\n",
    "#     '20230506',\n",
    "#     '20230507',\n",
    "#     '20230508',\n",
    "#     '20230509',\n",
    "#     '20230510',\n",
    "#     '20230511',\n",
    "#     '20230512',\n",
    "#     '20230514',\n",
    "#     '20230515',\n",
    "#     '20230516',\n",
    "#     '20230517',\n",
    "#     '20230518',\n",
    "#     '20230519',\n",
    "#     '20230520',\n",
    "#     '20230521',\n",
    "#     '20230522',\n",
    "#     '20230523',\n",
    "#     '20230524',\n",
    "#     '20230525',\n",
    "#     '20230526',\n",
    "#     '20230527',\n",
    "#     '20230528',\n",
    "#     '20230529',\n",
    "#     '20230530',\n",
    "#     '20230531',\n",
    "#     '20230601',\n",
    "]"
   ]
  },
  {
   "cell_type": "code",
   "execution_count": 64,
   "id": "a47ac9c3",
   "metadata": {},
   "outputs": [],
   "source": [
    "paths_vids = {d: v for d, v in zip(dates_toUse, paths_found)}"
   ]
  },
  {
   "cell_type": "markdown",
   "id": "f7e4fe93",
   "metadata": {},
   "source": [
    "## Start a small interactive node"
   ]
  },
  {
   "cell_type": "code",
   "execution_count": 65,
   "id": "55034700",
   "metadata": {},
   "outputs": [
    {
     "name": "stdout",
     "output_type": "stream",
     "text": [
      "slurmstepd: error: *** STEP 13712666.0 ON compute-e-16-233 CANCELLED AT 2023-07-26T16:37:43 DUE TO TIME LIMIT ***\r\n",
      "srun: Job step aborted: Waiting up to 62 seconds for job step to finish.\r\n",
      "srun: error: compute-e-16-233: task 0: Killed\r\n",
      "(base) [rh183@login01 ~]$ \n"
     ]
    }
   ],
   "source": [
    "send_expect(f'srun --pty -p interactive -t 0-00:30:00 --mem=4G /bin/bash');"
   ]
  },
  {
   "cell_type": "markdown",
   "id": "0cd3c682",
   "metadata": {},
   "source": [
    "## Pull/update repo"
   ]
  },
  {
   "cell_type": "code",
   "execution_count": 67,
   "id": "7c1dd354",
   "metadata": {},
   "outputs": [
    {
     "name": "stdout",
     "output_type": "stream",
     "text": [
      "srun: job 13713971 has been allocated resources\n",
      "cd /n/data1/hms/neurobio/sabatini/rich/github_repos/NBAP\n",
      "\n",
      "cd /n/data1/hms/neurobio/sabatini/rich/github_repos/NBAP\n",
      "\n",
      "(base) [rh183@compute-a-16-169 ~]$ cd /n/d\n",
      "_repos/NBAPurobio/sabatini/rich/github \n",
      "hub_repos/NBAPcompute-a-16-169 NBAP]$ cd /n/data1/hms/neurobio/sabatini/rich/git \n",
      "(base) [rh183@compute-a-16-169 NBAP]$ \n"
     ]
    }
   ],
   "source": [
    "send_expect('cd /n/data1/hms/neurobio/sabatini/rich/github_repos/NBAP')\n",
    "send_expect('git pull');"
   ]
  },
  {
   "cell_type": "markdown",
   "id": "4ef493c1",
   "metadata": {},
   "source": [
    "## Activate environment"
   ]
  },
  {
   "cell_type": "code",
   "execution_count": 68,
   "id": "be246a7a",
   "metadata": {},
   "outputs": [
    {
     "name": "stdout",
     "output_type": "stream",
     "text": [
      "git pull\r\n",
      "Already up-to-date.\r\n",
      "(base) [rh183@compute-a-16-169 NBAP]$ \n"
     ]
    }
   ],
   "source": [
    "name_env = '/n/data1/hms/neurobio/sabatini/rich/virtual_envs/FR'\n",
    "\n",
    "send_expect(f'conda activate {name_env}');"
   ]
  },
  {
   "cell_type": "markdown",
   "id": "31ce097b",
   "metadata": {},
   "source": [
    "## Prepare commands"
   ]
  },
  {
   "cell_type": "code",
   "execution_count": null,
   "id": "90bfacae",
   "metadata": {},
   "outputs": [],
   "source": [
    "# for path_vid in paths_found[:]:\n",
    "for path_vid in [\n",
    "    '/n/data1/hms/neurobio/sabatini/gyu/data/full_data/mouse_0322R/20230419/camera_data/exp/cam4/cam42023-04-19T15_19_37.avi',\n",
    "    '/n/data1/hms/neurobio/sabatini/gyu/data/full_data/mouse_0322R/20230429/camera_data/exp/cam4/cam42023-04-29T10_50_13.avi',\n",
    "    '/n/data1/hms/neurobio/sabatini/gyu/data/full_data/mouse_0322R/20230519/camera_data/exp/cam4/cam42023-05-19T11_17_08.avi',\n",
    "    '/n/data1/hms/neurobio/sabatini/gyu/data/full_data/mouse_0322R/20230520/camera_data/exp/cam4/cam42023-05-20T11_58_27.avi',\n",
    "]:\n",
    "\n",
    "    mouse = Path(path_vid).parent.parent.parent.parent.parent.name\n",
    "    date = Path(path_vid).parent.parent.parent.parent.name\n",
    "    \n",
    "    name_slurm = mouse[-3:] + '_' + date[-4:]\n",
    "\n",
    "    path_vid = path_vid\n",
    "    path_mask = str(Path('/n/data1/hms/neurobio/sabatini/rich/analysis/eye_laser_trace_extraction') / mouse / date / ('mask_' + Path(path_vid).stem + '.npy') )\n",
    "\n",
    "    dir_saveOutputs = str(Path('/n/data1/hms/neurobio/sabatini/rich/analysis/eye_laser_trace_extraction') / mouse / date )\n",
    "\n",
    "    name_job = 'jobNum_'\n",
    "\n",
    "\n",
    "    path_script_remote      = str(Path(r'/n/data1/hms/neurobio/sabatini/rich/github_repos/NBAP/behavioral_drift_analysis/align_to_eye_laser/extract_eye_brightness_trace.py'))  ## path to a copy of the script (.py) file to run within the repo on the server\n",
    "\n",
    "    path_dispatcher_local   = str(Path(r'/media/rich/Home_Linux_partition/github_repos/NBAP/behavioral_drift_analysis/align_to_eye_laser/').resolve() / 'dispatcher.py')  ## path to the dispatcher.py file on local computer\n",
    "    path_dispatcher_remote  = (Path(dir_saveOutputs) / 'dispatcher.py').as_posix()  ## path to where you want the dispatcher.py file to be copied onto the server\n",
    "\n",
    "    ## Expectation for dispatch args: \n",
    "    # path_script, dir_save, dir_videos, dir_ROIs, name_job, name_slurm, name_env\n",
    "\n",
    "\n",
    "    commands = {\n",
    "    #     'make_dir': f\"mkdir -p {dir_data_remote}\",\n",
    "    #     'copy': f\"cp -r {dir_s2p_MICROSCOPE} {dir_data_remote}\",\n",
    "    #     'dispatch': f\"python {str(path_dispatcher_remote)} {dir_saveOutputs} {path_script_remote} {name_job} {name_slurm} {dir_videos}\",  ## dispatcher expecting these args as inputs\n",
    "    'dispatch': f\"\\\n",
    "    python3 \\\n",
    "    {path_dispatcher_remote} \\\n",
    "    {path_script_remote} \\\n",
    "    {dir_saveOutputs} \\\n",
    "    {path_vid} \\\n",
    "    {path_mask} \\\n",
    "    {name_job} \\\n",
    "    {name_slurm} \\\n",
    "    {name_env}\",\n",
    "    }\n",
    "    display(commands)\n",
    "    \n",
    "    sftp.mkdir_p(str(Path(path_dispatcher_remote).parent))\n",
    "    sftp.sftp.put(str(path_dispatcher_local), str(path_dispatcher_remote));\n",
    "    \n",
    "    send_expect(commands['dispatch']);"
   ]
  },
  {
   "cell_type": "markdown",
   "id": "9feac88c",
   "metadata": {},
   "source": [
    "### check on job"
   ]
  },
  {
   "cell_type": "raw",
   "id": "fb31fbe8",
   "metadata": {
    "scrolled": true
   },
   "source": [
    "ssh_c.send_expect(f'squeue -u {username} --Format=jobid,name,partition,state,timeused,starttime,timelimit,reasonlist,minmemory,mincpus,gres');"
   ]
  },
  {
   "cell_type": "code",
   "execution_count": null,
   "id": "b5133530",
   "metadata": {},
   "outputs": [],
   "source": []
  },
  {
   "cell_type": "markdown",
   "id": "442ab705",
   "metadata": {},
   "source": [
    "### Check if it worked"
   ]
  },
  {
   "cell_type": "code",
   "execution_count": 85,
   "id": "cc4de36b",
   "metadata": {},
   "outputs": [
    {
     "name": "stdout",
     "output_type": "stream",
     "text": [
      "/n/data1/hms/neurobio/sabatini/rich/analysis/eye_laser_trace_extraction/mouse_0322R/20230531/jobNum_0/idx_eye_laser.pkl\n",
      "/n/data1/hms/neurobio/sabatini/rich/analysis/eye_laser_trace_extraction/mouse_0322R/20230420/jobNum_0/idx_eye_laser.pkl\n",
      "/n/data1/hms/neurobio/sabatini/rich/analysis/eye_laser_trace_extraction/mouse_0322R/20230523/jobNum_0/idx_eye_laser.pkl\n",
      "/n/data1/hms/neurobio/sabatini/rich/analysis/eye_laser_trace_extraction/mouse_0322R/20230517/jobNum_0/idx_eye_laser.pkl\n",
      "/n/data1/hms/neurobio/sabatini/rich/analysis/eye_laser_trace_extraction/mouse_0322R/20230515/jobNum_0/idx_eye_laser.pkl\n",
      "/n/data1/hms/neurobio/sabatini/rich/analysis/eye_laser_trace_extraction/mouse_0322R/20230430/jobNum_0/idx_eye_laser.pkl\n",
      "/n/data1/hms/neurobio/sabatini/rich/analysis/eye_laser_trace_extraction/mouse_0322R/20230512/jobNum_0/idx_eye_laser.pkl\n",
      "/n/data1/hms/neurobio/sabatini/rich/analysis/eye_laser_trace_extraction/mouse_0322R/20230511/jobNum_0/idx_eye_laser.pkl\n",
      "/n/data1/hms/neurobio/sabatini/rich/analysis/eye_laser_trace_extraction/mouse_0322R/20230514/jobNum_0/idx_eye_laser.pkl\n",
      "/n/data1/hms/neurobio/sabatini/rich/analysis/eye_laser_trace_extraction/mouse_0322R/20230504/jobNum_0/idx_eye_laser.pkl\n",
      "/n/data1/hms/neurobio/sabatini/rich/analysis/eye_laser_trace_extraction/mouse_0322R/20230507/jobNum_0/idx_eye_laser.pkl\n",
      "/n/data1/hms/neurobio/sabatini/rich/analysis/eye_laser_trace_extraction/mouse_0322R/20230513/jobNum_0/idx_eye_laser.pkl\n",
      "/n/data1/hms/neurobio/sabatini/rich/analysis/eye_laser_trace_extraction/mouse_0322R/20230525/jobNum_0/idx_eye_laser.pkl\n",
      "/n/data1/hms/neurobio/sabatini/rich/analysis/eye_laser_trace_extraction/mouse_0322R/20230522/jobNum_0/idx_eye_laser.pkl\n",
      "/n/data1/hms/neurobio/sabatini/rich/analysis/eye_laser_trace_extraction/mouse_0322R/20230526/jobNum_0/idx_eye_laser.pkl\n",
      "/n/data1/hms/neurobio/sabatini/rich/analysis/eye_laser_trace_extraction/mouse_0322R/20230424/jobNum_0/idx_eye_laser.pkl\n",
      "/n/data1/hms/neurobio/sabatini/rich/analysis/eye_laser_trace_extraction/mouse_0322R/20230426/jobNum_0/idx_eye_laser.pkl\n",
      "/n/data1/hms/neurobio/sabatini/rich/analysis/eye_laser_trace_extraction/mouse_0322R/20230521/jobNum_0/idx_eye_laser.pkl\n",
      "/n/data1/hms/neurobio/sabatini/rich/analysis/eye_laser_trace_extraction/mouse_0322R/20230518/jobNum_0/idx_eye_laser.pkl\n",
      "/n/data1/hms/neurobio/sabatini/rich/analysis/eye_laser_trace_extraction/mouse_0322R/20230530/jobNum_0/idx_eye_laser.pkl\n",
      "/n/data1/hms/neurobio/sabatini/rich/analysis/eye_laser_trace_extraction/mouse_0322R/20230520/jobNum_0/idx_eye_laser.pkl\n",
      "/n/data1/hms/neurobio/sabatini/rich/analysis/eye_laser_trace_extraction/mouse_0322R/20230508/jobNum_0/idx_eye_laser.pkl\n",
      "/n/data1/hms/neurobio/sabatini/rich/analysis/eye_laser_trace_extraction/mouse_0322R/20230428/jobNum_0/idx_eye_laser.pkl\n",
      "/n/data1/hms/neurobio/sabatini/rich/analysis/eye_laser_trace_extraction/mouse_0322R/20230506/jobNum_0/idx_eye_laser.pkl\n",
      "/n/data1/hms/neurobio/sabatini/rich/analysis/eye_laser_trace_extraction/mouse_0322R/20230527/jobNum_0/idx_eye_laser.pkl\n",
      "/n/data1/hms/neurobio/sabatini/rich/analysis/eye_laser_trace_extraction/mouse_0322R/20230425/jobNum_0/idx_eye_laser.pkl\n",
      "/n/data1/hms/neurobio/sabatini/rich/analysis/eye_laser_trace_extraction/mouse_0322R/20230419/jobNum_0/idx_eye_laser.pkl\n",
      "/n/data1/hms/neurobio/sabatini/rich/analysis/eye_laser_trace_extraction/mouse_0322R/20230519/jobNum_0/idx_eye_laser.pkl\n",
      "/n/data1/hms/neurobio/sabatini/rich/analysis/eye_laser_trace_extraction/mouse_0322R/20230429/jobNum_0/idx_eye_laser.pkl\n",
      "/n/data1/hms/neurobio/sabatini/rich/analysis/eye_laser_trace_extraction/mouse_0322R/20230501/jobNum_0/idx_eye_laser.pkl\n",
      "/n/data1/hms/neurobio/sabatini/rich/analysis/eye_laser_trace_extraction/mouse_0322R/20230505/jobNum_0/idx_eye_laser.pkl\n",
      "/n/data1/hms/neurobio/sabatini/rich/analysis/eye_laser_trace_extraction/mouse_0322R/20230427/jobNum_0/idx_eye_laser.pkl\n",
      "/n/data1/hms/neurobio/sabatini/rich/analysis/eye_laser_trace_extraction/mouse_0322R/20230516/jobNum_0/idx_eye_laser.pkl\n",
      "/n/data1/hms/neurobio/sabatini/rich/analysis/eye_laser_trace_extraction/mouse_0322R/20230509/jobNum_0/idx_eye_laser.pkl\n",
      "/n/data1/hms/neurobio/sabatini/rich/analysis/eye_laser_trace_extraction/mouse_0322R/20230503/jobNum_0/idx_eye_laser.pkl\n",
      "/n/data1/hms/neurobio/sabatini/rich/analysis/eye_laser_trace_extraction/mouse_0322R/20230524/jobNum_0/idx_eye_laser.pkl\n",
      "/n/data1/hms/neurobio/sabatini/rich/analysis/eye_laser_trace_extraction/mouse_0322R/20230502/jobNum_0/idx_eye_laser.pkl\n"
     ]
    },
    {
     "data": {
      "text/plain": [
       "['/n/data1/hms/neurobio/sabatini/rich/analysis/eye_laser_trace_extraction/mouse_0322R/20230419/jobNum_0/idx_eye_laser.pkl',\n",
       " '/n/data1/hms/neurobio/sabatini/rich/analysis/eye_laser_trace_extraction/mouse_0322R/20230420/jobNum_0/idx_eye_laser.pkl',\n",
       " '/n/data1/hms/neurobio/sabatini/rich/analysis/eye_laser_trace_extraction/mouse_0322R/20230424/jobNum_0/idx_eye_laser.pkl',\n",
       " '/n/data1/hms/neurobio/sabatini/rich/analysis/eye_laser_trace_extraction/mouse_0322R/20230425/jobNum_0/idx_eye_laser.pkl',\n",
       " '/n/data1/hms/neurobio/sabatini/rich/analysis/eye_laser_trace_extraction/mouse_0322R/20230426/jobNum_0/idx_eye_laser.pkl',\n",
       " '/n/data1/hms/neurobio/sabatini/rich/analysis/eye_laser_trace_extraction/mouse_0322R/20230427/jobNum_0/idx_eye_laser.pkl',\n",
       " '/n/data1/hms/neurobio/sabatini/rich/analysis/eye_laser_trace_extraction/mouse_0322R/20230428/jobNum_0/idx_eye_laser.pkl',\n",
       " '/n/data1/hms/neurobio/sabatini/rich/analysis/eye_laser_trace_extraction/mouse_0322R/20230429/jobNum_0/idx_eye_laser.pkl',\n",
       " '/n/data1/hms/neurobio/sabatini/rich/analysis/eye_laser_trace_extraction/mouse_0322R/20230430/jobNum_0/idx_eye_laser.pkl',\n",
       " '/n/data1/hms/neurobio/sabatini/rich/analysis/eye_laser_trace_extraction/mouse_0322R/20230501/jobNum_0/idx_eye_laser.pkl',\n",
       " '/n/data1/hms/neurobio/sabatini/rich/analysis/eye_laser_trace_extraction/mouse_0322R/20230502/jobNum_0/idx_eye_laser.pkl',\n",
       " '/n/data1/hms/neurobio/sabatini/rich/analysis/eye_laser_trace_extraction/mouse_0322R/20230503/jobNum_0/idx_eye_laser.pkl',\n",
       " '/n/data1/hms/neurobio/sabatini/rich/analysis/eye_laser_trace_extraction/mouse_0322R/20230504/jobNum_0/idx_eye_laser.pkl',\n",
       " '/n/data1/hms/neurobio/sabatini/rich/analysis/eye_laser_trace_extraction/mouse_0322R/20230505/jobNum_0/idx_eye_laser.pkl',\n",
       " '/n/data1/hms/neurobio/sabatini/rich/analysis/eye_laser_trace_extraction/mouse_0322R/20230506/jobNum_0/idx_eye_laser.pkl',\n",
       " '/n/data1/hms/neurobio/sabatini/rich/analysis/eye_laser_trace_extraction/mouse_0322R/20230507/jobNum_0/idx_eye_laser.pkl',\n",
       " '/n/data1/hms/neurobio/sabatini/rich/analysis/eye_laser_trace_extraction/mouse_0322R/20230508/jobNum_0/idx_eye_laser.pkl',\n",
       " '/n/data1/hms/neurobio/sabatini/rich/analysis/eye_laser_trace_extraction/mouse_0322R/20230509/jobNum_0/idx_eye_laser.pkl',\n",
       " '/n/data1/hms/neurobio/sabatini/rich/analysis/eye_laser_trace_extraction/mouse_0322R/20230511/jobNum_0/idx_eye_laser.pkl',\n",
       " '/n/data1/hms/neurobio/sabatini/rich/analysis/eye_laser_trace_extraction/mouse_0322R/20230512/jobNum_0/idx_eye_laser.pkl',\n",
       " '/n/data1/hms/neurobio/sabatini/rich/analysis/eye_laser_trace_extraction/mouse_0322R/20230513/jobNum_0/idx_eye_laser.pkl',\n",
       " '/n/data1/hms/neurobio/sabatini/rich/analysis/eye_laser_trace_extraction/mouse_0322R/20230514/jobNum_0/idx_eye_laser.pkl',\n",
       " '/n/data1/hms/neurobio/sabatini/rich/analysis/eye_laser_trace_extraction/mouse_0322R/20230515/jobNum_0/idx_eye_laser.pkl',\n",
       " '/n/data1/hms/neurobio/sabatini/rich/analysis/eye_laser_trace_extraction/mouse_0322R/20230516/jobNum_0/idx_eye_laser.pkl',\n",
       " '/n/data1/hms/neurobio/sabatini/rich/analysis/eye_laser_trace_extraction/mouse_0322R/20230517/jobNum_0/idx_eye_laser.pkl',\n",
       " '/n/data1/hms/neurobio/sabatini/rich/analysis/eye_laser_trace_extraction/mouse_0322R/20230518/jobNum_0/idx_eye_laser.pkl',\n",
       " '/n/data1/hms/neurobio/sabatini/rich/analysis/eye_laser_trace_extraction/mouse_0322R/20230519/jobNum_0/idx_eye_laser.pkl',\n",
       " '/n/data1/hms/neurobio/sabatini/rich/analysis/eye_laser_trace_extraction/mouse_0322R/20230520/jobNum_0/idx_eye_laser.pkl',\n",
       " '/n/data1/hms/neurobio/sabatini/rich/analysis/eye_laser_trace_extraction/mouse_0322R/20230521/jobNum_0/idx_eye_laser.pkl',\n",
       " '/n/data1/hms/neurobio/sabatini/rich/analysis/eye_laser_trace_extraction/mouse_0322R/20230522/jobNum_0/idx_eye_laser.pkl',\n",
       " '/n/data1/hms/neurobio/sabatini/rich/analysis/eye_laser_trace_extraction/mouse_0322R/20230523/jobNum_0/idx_eye_laser.pkl',\n",
       " '/n/data1/hms/neurobio/sabatini/rich/analysis/eye_laser_trace_extraction/mouse_0322R/20230524/jobNum_0/idx_eye_laser.pkl',\n",
       " '/n/data1/hms/neurobio/sabatini/rich/analysis/eye_laser_trace_extraction/mouse_0322R/20230525/jobNum_0/idx_eye_laser.pkl',\n",
       " '/n/data1/hms/neurobio/sabatini/rich/analysis/eye_laser_trace_extraction/mouse_0322R/20230526/jobNum_0/idx_eye_laser.pkl',\n",
       " '/n/data1/hms/neurobio/sabatini/rich/analysis/eye_laser_trace_extraction/mouse_0322R/20230527/jobNum_0/idx_eye_laser.pkl',\n",
       " '/n/data1/hms/neurobio/sabatini/rich/analysis/eye_laser_trace_extraction/mouse_0322R/20230530/jobNum_0/idx_eye_laser.pkl',\n",
       " '/n/data1/hms/neurobio/sabatini/rich/analysis/eye_laser_trace_extraction/mouse_0322R/20230531/jobNum_0/idx_eye_laser.pkl']"
      ]
     },
     "metadata": {},
     "output_type": "display_data"
    }
   ],
   "source": [
    "test = natsort.natsorted(sftp.search_recursive(\n",
    "    path=r'/n/data1/hms/neurobio/sabatini/rich/analysis/eye_laser_trace_extraction/mouse_0322R',\n",
    "    search_pattern_re=r'idx_eye_laser.pkl',\n",
    "))\n",
    "display(test)"
   ]
  },
  {
   "cell_type": "code",
   "execution_count": 86,
   "id": "085cfdd0",
   "metadata": {},
   "outputs": [
    {
     "data": {
      "text/plain": [
       "37"
      ]
     },
     "execution_count": 86,
     "metadata": {},
     "output_type": "execute_result"
    }
   ],
   "source": [
    "len(test)"
   ]
  },
  {
   "cell_type": "code",
   "execution_count": 73,
   "id": "369a6d09",
   "metadata": {},
   "outputs": [
    {
     "data": {
      "text/plain": [
       "38"
      ]
     },
     "execution_count": 73,
     "metadata": {},
     "output_type": "execute_result"
    }
   ],
   "source": [
    "len(paths_found)"
   ]
  },
  {
   "cell_type": "markdown",
   "id": "33600579",
   "metadata": {},
   "source": [
    "## Clean up"
   ]
  },
  {
   "cell_type": "code",
   "execution_count": null,
   "id": "b31f6bcb",
   "metadata": {},
   "outputs": [],
   "source": [
    "## delete password\n",
    "del pw\n",
    "gc.collect()\n",
    "\n",
    "## close sftp\n",
    "if sftp: sftp.close()\n",
    "if transport: transport.close()\n",
    "del sftp\n",
    "del transport\n",
    "    \n",
    "## close ssh\n",
    "ssh_t.close()\n",
    "del ssh_t\n",
    "ssh_c.close()\n",
    "del ssh_c\n",
    "gc.collect()"
   ]
  },
  {
   "cell_type": "code",
   "execution_count": null,
   "id": "b1e29db0",
   "metadata": {},
   "outputs": [],
   "source": []
  },
  {
   "cell_type": "code",
   "execution_count": null,
   "id": "a2ee21fd",
   "metadata": {},
   "outputs": [],
   "source": []
  }
 ],
 "metadata": {
  "kernelspec": {
   "display_name": "Python 3 (ipykernel)",
   "language": "python",
   "name": "python3"
  },
  "language_info": {
   "codemirror_mode": {
    "name": "ipython",
    "version": 3
   },
   "file_extension": ".py",
   "mimetype": "text/x-python",
   "name": "python",
   "nbconvert_exporter": "python",
   "pygments_lexer": "ipython3",
   "version": "3.11.3"
  }
 },
 "nbformat": 4,
 "nbformat_minor": 5
}
