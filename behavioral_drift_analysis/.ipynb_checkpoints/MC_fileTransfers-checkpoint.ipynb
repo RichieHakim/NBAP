{
 "cells": [
  {
   "cell_type": "code",
   "execution_count": 1,
   "id": "eb297901",
   "metadata": {},
   "outputs": [
    {
     "data": {
      "text/html": [
       "<style>.container {width:95% !important; }</style>"
      ],
      "text/plain": [
       "<IPython.core.display.HTML object>"
      ]
     },
     "metadata": {},
     "output_type": "display_data"
    },
    {
     "data": {
      "text/html": [
       "<style>:root { --jp-notebook-max-width: 100% !important; }</style>"
      ],
      "text/plain": [
       "<IPython.core.display.HTML object>"
      ]
     },
     "metadata": {},
     "output_type": "display_data"
    }
   ],
   "source": [
    "# widen jupyter notebook window\n",
    "from IPython.display import display, HTML\n",
    "display(HTML(\"<style>.container {width:95% !important; }</style>\"))\n",
    "display(HTML(\"<style>:root { --jp-notebook-max-width: 100% !important; }</style>\"))"
   ]
  },
  {
   "cell_type": "markdown",
   "id": "e7ca9401",
   "metadata": {},
   "source": [
    "This requires having `bnpm`. Get it with `pip install bnpm` or here: https://github.com/RichieHakim/basic_neural_processing_modules"
   ]
  },
  {
   "cell_type": "code",
   "execution_count": 2,
   "id": "b083639c",
   "metadata": {},
   "outputs": [],
   "source": [
    "%load_ext autoreload\n",
    "%autoreload 2\n",
    "from bnpm import server\n",
    "import bnpm"
   ]
  },
  {
   "cell_type": "code",
   "execution_count": 3,
   "id": "47fe1e80",
   "metadata": {},
   "outputs": [],
   "source": [
    "import os\n",
    "from pathlib import Path\n",
    "import functools\n",
    "import tempfile\n",
    "import getpass\n",
    "import gc"
   ]
  },
  {
   "cell_type": "code",
   "execution_count": 4,
   "id": "4b3fddce-51cc-49ef-8d84-4a881acc0c43",
   "metadata": {},
   "outputs": [],
   "source": [
    "from tqdm import tqdm\n",
    "import numpy as np\n",
    "import natsort"
   ]
  },
  {
   "cell_type": "markdown",
   "id": "6114afcd",
   "metadata": {},
   "source": [
    "------------\n",
    "# ==== Start ===="
   ]
  },
  {
   "cell_type": "markdown",
   "id": "ae33b435",
   "metadata": {},
   "source": [
    "## Prepare username + password"
   ]
  },
  {
   "cell_type": "code",
   "execution_count": null,
   "id": "af73363a",
   "metadata": {},
   "outputs": [],
   "source": [
    "remote_host_transfer = \"transfer.rc.hms.harvard.edu\"\n",
    "remote_host_compute = \"o2.hms.harvard.edu\"\n",
    "username = input('Username: ')\n",
    "\n",
    "use_localSshKey = False\n",
    "\n",
    "pw = server.pw_encode(getpass.getpass(prompt='Password: ')) if use_localSshKey==False else None\n",
    "\n",
    "path_sshKey = '/home/rich/.ssh/id_rsa' if use_localSshKey else None"
   ]
  },
  {
   "cell_type": "markdown",
   "id": "c539c815",
   "metadata": {},
   "source": [
    "## Prepare `sftp` and `ssh` objects"
   ]
  },
  {
   "cell_type": "code",
   "execution_count": 6,
   "id": "702eba22",
   "metadata": {},
   "outputs": [],
   "source": [
    "## initialize ssh_transfer\n",
    "ssh_t = server.ssh_interface(\n",
    "    nbytes_toReceive=20000,\n",
    "    recv_timeout=1,\n",
    "    verbose=True,\n",
    ")"
   ]
  },
  {
   "cell_type": "code",
   "execution_count": 7,
   "id": "fdf1e2ba",
   "metadata": {
    "scrolled": true
   },
   "outputs": [],
   "source": [
    "ssh_t.o2_connect(\n",
    "    hostname=remote_host_transfer,\n",
    "    username=username,\n",
    "    password=server.pw_decode(pw),\n",
    "    key_filename=path_sshKey,\n",
    "    look_for_keys=False,\n",
    "    passcode_method=1,\n",
    "    verbose=0,\n",
    "    skip_passcode=False,    \n",
    ")"
   ]
  },
  {
   "cell_type": "code",
   "execution_count": 8,
   "id": "fa578dd5",
   "metadata": {},
   "outputs": [],
   "source": [
    "# ## initialize ssh_compute\n",
    "# ssh_c = server.ssh_interface(\n",
    "#     nbytes_toReceive=20000,\n",
    "#     recv_timeout=1,\n",
    "#     verbose=True,\n",
    "# )\n",
    "# ssh_c.o2_connect(\n",
    "#     hostname=remote_host_compute,\n",
    "#     username=username,\n",
    "#     password=server.pw_decode(pw),\n",
    "#     key_filename=path_sshKey,\n",
    "#     look_for_keys=False,\n",
    "#     passcode_method=1,\n",
    "#     verbose=0,\n",
    "#     skip_passcode=False,    \n",
    "# )"
   ]
  },
  {
   "cell_type": "code",
   "execution_count": 9,
   "id": "daea3d7a",
   "metadata": {},
   "outputs": [],
   "source": [
    "sftp = server.sftp_interface(ssh_client=ssh_t.client)"
   ]
  },
  {
   "cell_type": "code",
   "execution_count": 10,
   "id": "21af2f06",
   "metadata": {},
   "outputs": [],
   "source": [
    "prompt_snip = f'[{username}'"
   ]
  },
  {
   "cell_type": "code",
   "execution_count": 11,
   "id": "6d8554e7",
   "metadata": {},
   "outputs": [],
   "source": [
    "# send_expect = functools.partial(ssh_c.send_expect, str_success=prompt_snip)"
   ]
  },
  {
   "cell_type": "code",
   "execution_count": null,
   "id": "06f78ed9-095e-4ab1-a776-080d0ab03844",
   "metadata": {},
   "outputs": [],
   "source": []
  },
  {
   "cell_type": "markdown",
   "id": "813123b7-071f-419c-885a-954ba78ae030",
   "metadata": {},
   "source": [
    "# Download stat and ops files"
   ]
  },
  {
   "cell_type": "code",
   "execution_count": 12,
   "id": "c0c8cdc3-6553-4d12-bf8c-27cc5a113ea3",
   "metadata": {},
   "outputs": [
    {
     "name": "stdout",
     "output_type": "stream",
     "text": [
      "/n/data1/hms/neurobio/sabatini/gyu/analysis/suite2p_output/mouse_0322R/20230531/scanimage_data/exp/jobNum_0/suite2p/plane0/stat.npy\n",
      "/n/data1/hms/neurobio/sabatini/gyu/analysis/suite2p_output/mouse_0322R/20230531/scanimage_data/zstack/jobNum_0/suite2p/plane0/stat.npy\n",
      "/n/data1/hms/neurobio/sabatini/gyu/analysis/suite2p_output/mouse_0322R/20230420/scanimage_data/exp/jobNum_0/suite2p/plane0/stat.npy\n",
      "/n/data1/hms/neurobio/sabatini/gyu/analysis/suite2p_output/mouse_0322R/20230523/scanimage_data/baseline/jobNum_0/suite2p/plane0/stat.npy\n",
      "/n/data1/hms/neurobio/sabatini/gyu/analysis/suite2p_output/mouse_0322R/20230523/scanimage_data/exp/jobNum_0/suite2p/plane0/stat.npy\n",
      "/n/data1/hms/neurobio/sabatini/gyu/analysis/suite2p_output/mouse_0322R/20230523/scanimage_data/zstack/jobNum_0/suite2p/plane0/stat.npy\n",
      "/n/data1/hms/neurobio/sabatini/gyu/analysis/suite2p_output/mouse_0322R/20230517/scanimage_data/baseline/jobNum_0/suite2p/plane0/stat.npy\n",
      "/n/data1/hms/neurobio/sabatini/gyu/analysis/suite2p_output/mouse_0322R/20230517/scanimage_data/exp/jobNum_0/suite2p/plane0/stat.npy\n",
      "/n/data1/hms/neurobio/sabatini/gyu/analysis/suite2p_output/mouse_0322R/20230517/scanimage_data/zstack/jobNum_0/suite2p/plane0/stat.npy\n",
      "/n/data1/hms/neurobio/sabatini/gyu/analysis/suite2p_output/mouse_0322R/20230515/scanimage_data/baseline/jobNum_0/suite2p/plane0/stat.npy\n",
      "/n/data1/hms/neurobio/sabatini/gyu/analysis/suite2p_output/mouse_0322R/20230515/scanimage_data/exp/jobNum_0/suite2p/plane0/stat.npy\n",
      "/n/data1/hms/neurobio/sabatini/gyu/analysis/suite2p_output/mouse_0322R/20230515/scanimage_data/zstack/jobNum_0/suite2p/plane0/stat.npy\n",
      "/n/data1/hms/neurobio/sabatini/gyu/analysis/suite2p_output/mouse_0322R/20230430/scanimage_data/baseline/jobNum_0/suite2p/plane0/stat.npy\n",
      "/n/data1/hms/neurobio/sabatini/gyu/analysis/suite2p_output/mouse_0322R/20230430/scanimage_data/exp/jobNum_0/suite2p/plane0/stat.npy\n",
      "/n/data1/hms/neurobio/sabatini/gyu/analysis/suite2p_output/mouse_0322R/20230430/scanimage_data/zstack/jobNum_0/suite2p/plane0/stat.npy\n",
      "/n/data1/hms/neurobio/sabatini/gyu/analysis/suite2p_output/mouse_0322R/20230512/scanimage_data/baseline/jobNum_0/suite2p/plane0/stat.npy\n",
      "/n/data1/hms/neurobio/sabatini/gyu/analysis/suite2p_output/mouse_0322R/20230512/scanimage_data/exp/jobNum_0/suite2p/plane0/stat.npy\n",
      "/n/data1/hms/neurobio/sabatini/gyu/analysis/suite2p_output/mouse_0322R/20230512/scanimage_data/zstack/jobNum_0/suite2p/plane0/stat.npy\n",
      "/n/data1/hms/neurobio/sabatini/gyu/analysis/suite2p_output/mouse_0322R/20230511/scanimage_data/baseline/jobNum_0/suite2p/plane0/stat.npy\n",
      "/n/data1/hms/neurobio/sabatini/gyu/analysis/suite2p_output/mouse_0322R/20230511/scanimage_data/exp/jobNum_0/suite2p/plane0/stat.npy\n",
      "/n/data1/hms/neurobio/sabatini/gyu/analysis/suite2p_output/mouse_0322R/20230511/scanimage_data/zstack/jobNum_0/suite2p/plane0/stat.npy\n",
      "/n/data1/hms/neurobio/sabatini/gyu/analysis/suite2p_output/mouse_0322R/20230514/scanimage_data/baseline/jobNum_0/suite2p/plane0/stat.npy\n",
      "/n/data1/hms/neurobio/sabatini/gyu/analysis/suite2p_output/mouse_0322R/20230514/scanimage_data/exp/jobNum_0/suite2p/plane0/stat.npy\n",
      "/n/data1/hms/neurobio/sabatini/gyu/analysis/suite2p_output/mouse_0322R/20230514/scanimage_data/zstack/jobNum_0/suite2p/plane0/stat.npy\n",
      "/n/data1/hms/neurobio/sabatini/gyu/analysis/suite2p_output/mouse_0322R/20230504/scanimage_data/baseline/jobNum_0/suite2p/plane0/stat.npy\n",
      "/n/data1/hms/neurobio/sabatini/gyu/analysis/suite2p_output/mouse_0322R/20230504/scanimage_data/exp/jobNum_0/suite2p/plane0/stat.npy\n",
      "/n/data1/hms/neurobio/sabatini/gyu/analysis/suite2p_output/mouse_0322R/20230504/scanimage_data/zstack/jobNum_0/suite2p/plane0/stat.npy\n",
      "/n/data1/hms/neurobio/sabatini/gyu/analysis/suite2p_output/mouse_0322R/20230507/scanimage_data/baseline/jobNum_0/suite2p/plane0/stat.npy\n",
      "/n/data1/hms/neurobio/sabatini/gyu/analysis/suite2p_output/mouse_0322R/20230507/scanimage_data/exp/jobNum_0/suite2p/plane0/stat.npy\n",
      "/n/data1/hms/neurobio/sabatini/gyu/analysis/suite2p_output/mouse_0322R/20230507/scanimage_data/zstack/jobNum_0/suite2p/plane0/stat.npy\n",
      "/n/data1/hms/neurobio/sabatini/gyu/analysis/suite2p_output/mouse_0322R/20230513/scanimage_data/baseline/jobNum_0/suite2p/plane0/stat.npy\n",
      "/n/data1/hms/neurobio/sabatini/gyu/analysis/suite2p_output/mouse_0322R/20230513/scanimage_data/exp/jobNum_0/suite2p/plane0/stat.npy\n",
      "/n/data1/hms/neurobio/sabatini/gyu/analysis/suite2p_output/mouse_0322R/20230513/scanimage_data/zstack/jobNum_0/suite2p/plane0/stat.npy\n",
      "/n/data1/hms/neurobio/sabatini/gyu/analysis/suite2p_output/mouse_0322R/20230525/scanimage_data/baseline/jobNum_0/suite2p/plane0/stat.npy\n",
      "/n/data1/hms/neurobio/sabatini/gyu/analysis/suite2p_output/mouse_0322R/20230525/scanimage_data/exp/jobNum_0/suite2p/plane0/stat.npy\n",
      "/n/data1/hms/neurobio/sabatini/gyu/analysis/suite2p_output/mouse_0322R/20230525/scanimage_data/zstack/jobNum_0/suite2p/plane0/stat.npy\n",
      "/n/data1/hms/neurobio/sabatini/gyu/analysis/suite2p_output/mouse_0322R/20230522/scanimage_data/baseline/jobNum_0/suite2p/plane0/stat.npy\n",
      "/n/data1/hms/neurobio/sabatini/gyu/analysis/suite2p_output/mouse_0322R/20230522/scanimage_data/exp/jobNum_0/suite2p/plane0/stat.npy\n",
      "/n/data1/hms/neurobio/sabatini/gyu/analysis/suite2p_output/mouse_0322R/20230522/scanimage_data/zstack/jobNum_0/suite2p/plane0/stat.npy\n",
      "/n/data1/hms/neurobio/sabatini/gyu/analysis/suite2p_output/mouse_0322R/20230526/scanimage_data/baseline/jobNum_0/suite2p/plane0/stat.npy\n",
      "/n/data1/hms/neurobio/sabatini/gyu/analysis/suite2p_output/mouse_0322R/20230526/scanimage_data/exp/jobNum_0/suite2p/plane0/stat.npy\n",
      "/n/data1/hms/neurobio/sabatini/gyu/analysis/suite2p_output/mouse_0322R/20230526/scanimage_data/zstack/jobNum_0/suite2p/plane0/stat.npy\n",
      "/n/data1/hms/neurobio/sabatini/gyu/analysis/suite2p_output/mouse_0322R/20230424/scanimage_data/exp/jobNum_0/suite2p/plane0/stat.npy\n",
      "/n/data1/hms/neurobio/sabatini/gyu/analysis/suite2p_output/mouse_0322R/20230424/scanimage_data/zstack/jobNum_0/suite2p/plane0/stat.npy\n",
      "/n/data1/hms/neurobio/sabatini/gyu/analysis/suite2p_output/mouse_0322R/20230426/scanimage_data/baseline/jobNum_0/suite2p/plane0/stat.npy\n",
      "/n/data1/hms/neurobio/sabatini/gyu/analysis/suite2p_output/mouse_0322R/20230426/scanimage_data/exp/jobNum_0/suite2p/plane0/stat.npy\n",
      "/n/data1/hms/neurobio/sabatini/gyu/analysis/suite2p_output/mouse_0322R/20230426/scanimage_data/zstack/jobNum_0/suite2p/plane0/stat.npy\n",
      "/n/data1/hms/neurobio/sabatini/gyu/analysis/suite2p_output/mouse_0322R/20230521/scanimage_data/baseline/jobNum_0/suite2p/plane0/stat.npy\n",
      "/n/data1/hms/neurobio/sabatini/gyu/analysis/suite2p_output/mouse_0322R/20230521/scanimage_data/exp/jobNum_0/suite2p/plane0/stat.npy\n",
      "/n/data1/hms/neurobio/sabatini/gyu/analysis/suite2p_output/mouse_0322R/20230521/scanimage_data/zstack/jobNum_0/suite2p/plane0/stat.npy\n",
      "/n/data1/hms/neurobio/sabatini/gyu/analysis/suite2p_output/mouse_0322R/20230518/scanimage_data/baseline/jobNum_0/suite2p/plane0/stat.npy\n",
      "/n/data1/hms/neurobio/sabatini/gyu/analysis/suite2p_output/mouse_0322R/20230518/scanimage_data/exp/jobNum_0/suite2p/plane0/stat.npy\n",
      "/n/data1/hms/neurobio/sabatini/gyu/analysis/suite2p_output/mouse_0322R/20230518/scanimage_data/zstack/jobNum_0/suite2p/plane0/stat.npy\n",
      "/n/data1/hms/neurobio/sabatini/gyu/analysis/suite2p_output/mouse_0322R/20230530/scanimage_data/exp/jobNum_0/suite2p/plane0/stat.npy\n",
      "/n/data1/hms/neurobio/sabatini/gyu/analysis/suite2p_output/mouse_0322R/20230530/scanimage_data/zstack/jobNum_0/suite2p/plane0/stat.npy\n",
      "/n/data1/hms/neurobio/sabatini/gyu/analysis/suite2p_output/mouse_0322R/20230520/scanimage_data/baseline/jobNum_0/suite2p/plane0/stat.npy\n",
      "/n/data1/hms/neurobio/sabatini/gyu/analysis/suite2p_output/mouse_0322R/20230520/scanimage_data/exp/jobNum_0/suite2p/plane0/stat.npy\n",
      "/n/data1/hms/neurobio/sabatini/gyu/analysis/suite2p_output/mouse_0322R/20230520/scanimage_data/zstack/jobNum_0/suite2p/plane0/stat.npy\n",
      "/n/data1/hms/neurobio/sabatini/gyu/analysis/suite2p_output/mouse_0322R/20230508/scanimage_data/baseline/jobNum_0/suite2p/plane0/stat.npy\n",
      "/n/data1/hms/neurobio/sabatini/gyu/analysis/suite2p_output/mouse_0322R/20230508/scanimage_data/exp/jobNum_0/suite2p/plane0/stat.npy\n",
      "/n/data1/hms/neurobio/sabatini/gyu/analysis/suite2p_output/mouse_0322R/20230508/scanimage_data/zstack/jobNum_0/suite2p/plane0/stat.npy\n",
      "/n/data1/hms/neurobio/sabatini/gyu/analysis/suite2p_output/mouse_0322R/20230428/scanimage_data/baseline/jobNum_0/suite2p/plane0/stat.npy\n",
      "/n/data1/hms/neurobio/sabatini/gyu/analysis/suite2p_output/mouse_0322R/20230428/scanimage_data/exp/jobNum_0/suite2p/plane0/stat.npy\n",
      "/n/data1/hms/neurobio/sabatini/gyu/analysis/suite2p_output/mouse_0322R/20230428/scanimage_data/zstack/jobNum_0/suite2p/plane0/stat.npy\n",
      "/n/data1/hms/neurobio/sabatini/gyu/analysis/suite2p_output/mouse_0322R/20230506/scanimage_data/baseline/jobNum_0/suite2p/plane0/stat.npy\n",
      "/n/data1/hms/neurobio/sabatini/gyu/analysis/suite2p_output/mouse_0322R/20230506/scanimage_data/exp/jobNum_0/suite2p/plane0/stat.npy\n",
      "/n/data1/hms/neurobio/sabatini/gyu/analysis/suite2p_output/mouse_0322R/20230506/scanimage_data/zstack/jobNum_0/suite2p/plane0/stat.npy\n",
      "/n/data1/hms/neurobio/sabatini/gyu/analysis/suite2p_output/mouse_0322R/20230527/scanimage_data/baseline/jobNum_0/suite2p/plane0/stat.npy\n",
      "/n/data1/hms/neurobio/sabatini/gyu/analysis/suite2p_output/mouse_0322R/20230527/scanimage_data/exp/jobNum_0/suite2p/plane0/stat.npy\n",
      "/n/data1/hms/neurobio/sabatini/gyu/analysis/suite2p_output/mouse_0322R/20230527/scanimage_data/zstack/jobNum_0/suite2p/plane0/stat.npy\n",
      "/n/data1/hms/neurobio/sabatini/gyu/analysis/suite2p_output/mouse_0322R/20230425/scanimage_data/exp/jobNum_0/suite2p/plane0/stat.npy\n",
      "/n/data1/hms/neurobio/sabatini/gyu/analysis/suite2p_output/mouse_0322R/20230425/scanimage_data/zstack/jobNum_0/suite2p/plane0/stat.npy\n",
      "/n/data1/hms/neurobio/sabatini/gyu/analysis/suite2p_output/mouse_0322R/20230419/scanimage_data/exp/jobNum_0/suite2p/plane0/stat.npy\n",
      "/n/data1/hms/neurobio/sabatini/gyu/analysis/suite2p_output/mouse_0322R/20230419/scanimage_data/zstack/jobNum_0/suite2p/plane0/stat.npy\n",
      "/n/data1/hms/neurobio/sabatini/gyu/analysis/suite2p_output/mouse_0322R/20230519/scanimage_data/baseline/jobNum_0/suite2p/plane0/stat.npy\n",
      "/n/data1/hms/neurobio/sabatini/gyu/analysis/suite2p_output/mouse_0322R/20230519/scanimage_data/exp/jobNum_0/suite2p/plane0/stat.npy\n",
      "/n/data1/hms/neurobio/sabatini/gyu/analysis/suite2p_output/mouse_0322R/20230519/scanimage_data/zstack/jobNum_0/suite2p/plane0/stat.npy\n",
      "/n/data1/hms/neurobio/sabatini/gyu/analysis/suite2p_output/mouse_0322R/20230429/scanimage_data/baseline/jobNum_0/suite2p/plane0/stat.npy\n",
      "/n/data1/hms/neurobio/sabatini/gyu/analysis/suite2p_output/mouse_0322R/20230429/scanimage_data/exp/jobNum_0/suite2p/plane0/stat.npy\n",
      "/n/data1/hms/neurobio/sabatini/gyu/analysis/suite2p_output/mouse_0322R/20230429/scanimage_data/zstack/jobNum_0/suite2p/plane0/stat.npy\n",
      "/n/data1/hms/neurobio/sabatini/gyu/analysis/suite2p_output/mouse_0322R/20230501/scanimage_data/baseline/jobNum_0/suite2p/plane0/stat.npy\n",
      "/n/data1/hms/neurobio/sabatini/gyu/analysis/suite2p_output/mouse_0322R/20230501/scanimage_data/exp/jobNum_0/suite2p/plane0/stat.npy\n",
      "/n/data1/hms/neurobio/sabatini/gyu/analysis/suite2p_output/mouse_0322R/20230501/scanimage_data/zstack/jobNum_0/suite2p/plane0/stat.npy\n",
      "/n/data1/hms/neurobio/sabatini/gyu/analysis/suite2p_output/mouse_0322R/20230505/scanimage_data/baseline/jobNum_0/suite2p/plane0/stat.npy\n",
      "/n/data1/hms/neurobio/sabatini/gyu/analysis/suite2p_output/mouse_0322R/20230505/scanimage_data/exp/jobNum_0/suite2p/plane0/stat.npy\n",
      "/n/data1/hms/neurobio/sabatini/gyu/analysis/suite2p_output/mouse_0322R/20230505/scanimage_data/zstack/jobNum_0/suite2p/plane0/stat.npy\n",
      "/n/data1/hms/neurobio/sabatini/gyu/analysis/suite2p_output/mouse_0322R/20230427/scanimage_data/baseline/jobNum_0/suite2p/plane0/stat.npy\n",
      "/n/data1/hms/neurobio/sabatini/gyu/analysis/suite2p_output/mouse_0322R/20230427/scanimage_data/exp/jobNum_0/suite2p/plane0/stat.npy\n",
      "/n/data1/hms/neurobio/sabatini/gyu/analysis/suite2p_output/mouse_0322R/20230427/scanimage_data/zstack/jobNum_0/suite2p/plane0/stat.npy\n",
      "/n/data1/hms/neurobio/sabatini/gyu/analysis/suite2p_output/mouse_0322R/20230516/scanimage_data/baseline/jobNum_0/suite2p/plane0/stat.npy\n",
      "/n/data1/hms/neurobio/sabatini/gyu/analysis/suite2p_output/mouse_0322R/20230516/scanimage_data/exp/jobNum_0/suite2p/plane0/stat.npy\n",
      "/n/data1/hms/neurobio/sabatini/gyu/analysis/suite2p_output/mouse_0322R/20230516/scanimage_data/zstack/jobNum_0/suite2p/plane0/stat.npy\n",
      "/n/data1/hms/neurobio/sabatini/gyu/analysis/suite2p_output/mouse_0322R/20230509/scanimage_data/baseline/jobNum_0/suite2p/plane0/stat.npy\n",
      "/n/data1/hms/neurobio/sabatini/gyu/analysis/suite2p_output/mouse_0322R/20230509/scanimage_data/exp/jobNum_0/suite2p/plane0/stat.npy\n",
      "/n/data1/hms/neurobio/sabatini/gyu/analysis/suite2p_output/mouse_0322R/20230509/scanimage_data/zstack/jobNum_0/suite2p/plane0/stat.npy\n",
      "/n/data1/hms/neurobio/sabatini/gyu/analysis/suite2p_output/mouse_0322R/20230503/scanimage_data/baseline/jobNum_0/suite2p/plane0/stat.npy\n",
      "/n/data1/hms/neurobio/sabatini/gyu/analysis/suite2p_output/mouse_0322R/20230503/scanimage_data/exp/jobNum_0/suite2p/plane0/stat.npy\n",
      "/n/data1/hms/neurobio/sabatini/gyu/analysis/suite2p_output/mouse_0322R/20230503/scanimage_data/zstack/jobNum_0/suite2p/plane0/stat.npy\n",
      "/n/data1/hms/neurobio/sabatini/gyu/analysis/suite2p_output/mouse_0322R/20230524/scanimage_data/baseline/jobNum_0/suite2p/plane0/stat.npy\n",
      "/n/data1/hms/neurobio/sabatini/gyu/analysis/suite2p_output/mouse_0322R/20230524/scanimage_data/exp/jobNum_0/suite2p/plane0/stat.npy\n",
      "/n/data1/hms/neurobio/sabatini/gyu/analysis/suite2p_output/mouse_0322R/20230524/scanimage_data/zstack/jobNum_0/suite2p/plane0/stat.npy\n",
      "/n/data1/hms/neurobio/sabatini/gyu/analysis/suite2p_output/mouse_0322R/20230502/scanimage_data/exp/jobNum_0/suite2p/plane0/stat.npy\n",
      "/n/data1/hms/neurobio/sabatini/gyu/analysis/suite2p_output/mouse_0322R/20230502/scanimage_data/zstack/jobNum_0/suite2p/plane0/stat.npy\n"
     ]
    }
   ],
   "source": [
    "paths_found = natsort.natsorted(sftp.search_recursive(\n",
    "    path='/n/data1/hms/neurobio/sabatini/gyu/analysis/suite2p_output/mouse_0322R/',\n",
    "    search_pattern_re='stat.*npy',\n",
    "    max_depth=7,\n",
    "    find_folders=False,\n",
    "    find_files=True,\n",
    "    verbose=True,\n",
    "))"
   ]
  },
  {
   "cell_type": "code",
   "execution_count": 13,
   "id": "68a55e82-df7b-4f6b-a994-4dd91aa52d4a",
   "metadata": {},
   "outputs": [],
   "source": [
    "paths_found = [p for p in paths_found if 'exp' in p]"
   ]
  },
  {
   "cell_type": "code",
   "execution_count": 14,
   "id": "67b871e4",
   "metadata": {},
   "outputs": [
    {
     "data": {
      "text/plain": [
       "['20230419',\n",
       " '20230420',\n",
       " '20230424',\n",
       " '20230425',\n",
       " '20230426',\n",
       " '20230427',\n",
       " '20230428',\n",
       " '20230429',\n",
       " '20230430',\n",
       " '20230501',\n",
       " '20230502',\n",
       " '20230503',\n",
       " '20230504',\n",
       " '20230505',\n",
       " '20230506',\n",
       " '20230507',\n",
       " '20230508',\n",
       " '20230509',\n",
       " '20230511',\n",
       " '20230512',\n",
       " '20230513',\n",
       " '20230514',\n",
       " '20230515',\n",
       " '20230516',\n",
       " '20230517',\n",
       " '20230518',\n",
       " '20230519',\n",
       " '20230520',\n",
       " '20230521',\n",
       " '20230522',\n",
       " '20230523',\n",
       " '20230524',\n",
       " '20230525',\n",
       " '20230526',\n",
       " '20230527',\n",
       " '20230530',\n",
       " '20230531']"
      ]
     },
     "execution_count": 14,
     "metadata": {},
     "output_type": "execute_result"
    }
   ],
   "source": [
    "dates_toUse = natsort.natsorted([Path(p).parts[-7] for p in paths_found])\n",
    "dates_toUse"
   ]
  },
  {
   "cell_type": "code",
   "execution_count": 18,
   "id": "010544df-1077-4680-ba9b-f4f810be70b6",
   "metadata": {
    "scrolled": true
   },
   "outputs": [
    {
     "name": "stderr",
     "output_type": "stream",
     "text": [
      "100%|████████████████████████████████████████████████████████████████████████▉| 19.9M/19.9M [00:02<00:00, 8.20Mb/s]\n",
      "100%|████████████████████████████████████████████████████████████████████████▉| 18.9M/18.9M [00:00<00:00, 20.5Mb/s]\n",
      "100%|████████████████████████████████████████████████████████████████████████▉| 17.8M/17.8M [00:00<00:00, 20.7Mb/s]\n",
      "100%|████████████████████████████████████████████████████████████████████████▉| 17.5M/17.5M [00:00<00:00, 28.5Mb/s]\n",
      "100%|████████████████████████████████████████████████████████████████████████▉| 19.9M/19.9M [00:00<00:00, 32.2Mb/s]\n",
      "100%|████████████████████████████████████████████████████████████████████████▉| 20.8M/20.9M [00:00<00:00, 35.9Mb/s]\n",
      "100%|████████████████████████████████████████████████████████████████████████▉| 19.8M/19.8M [00:00<00:00, 37.3Mb/s]\n",
      "100%|████████████████████████████████████████████████████████████████████████▉| 20.8M/20.8M [00:00<00:00, 40.2Mb/s]\n",
      "100%|████████████████████████████████████████████████████████████████████████▉| 17.8M/17.8M [00:00<00:00, 40.4Mb/s]\n",
      "100%|████████████████████████████████████████████████████████████████████████▉| 18.2M/18.2M [00:00<00:00, 42.1Mb/s]\n",
      "100%|████████████████████████████████████████████████████████████████████████▉| 18.4M/18.4M [00:00<00:00, 44.2Mb/s]\n",
      "100%|████████████████████████████████████████████████████████████████████████▉| 19.2M/19.2M [00:00<00:00, 47.1Mb/s]\n",
      "100%|████████████████████████████████████████████████████████████████████████▉| 16.9M/16.9M [00:00<00:00, 44.4Mb/s]\n",
      "100%|████████████████████████████████████████████████████████████████████████▉| 19.2M/19.2M [00:00<00:00, 45.7Mb/s]\n",
      "100%|████████████████████████████████████████████████████████████████████████▉| 17.1M/17.1M [00:00<00:00, 48.2Mb/s]\n",
      "100%|████████████████████████████████████████████████████████████████████████▉| 18.6M/18.7M [00:00<00:00, 48.8Mb/s]\n",
      "100%|████████████████████████████████████████████████████████████████████████▉| 18.5M/18.6M [00:00<00:00, 48.2Mb/s]\n",
      "100%|████████████████████████████████████████████████████████████████████████▉| 17.6M/17.6M [00:00<00:00, 50.6Mb/s]\n",
      "100%|████████████████████████████████████████████████████████████████████████▉| 18.9M/19.0M [00:00<00:00, 50.7Mb/s]\n",
      "100%|████████████████████████████████████████████████████████████████████████▉| 19.1M/19.2M [00:00<00:00, 50.4Mb/s]\n",
      "100%|████████████████████████████████████████████████████████████████████████▉| 18.0M/18.0M [00:00<00:00, 49.2Mb/s]\n",
      "100%|████████████████████████████████████████████████████████████████████████▉| 17.4M/17.4M [00:00<00:00, 47.7Mb/s]\n",
      "100%|████████████████████████████████████████████████████████████████████████▉| 19.3M/19.3M [00:00<00:00, 50.8Mb/s]\n",
      "100%|████████████████████████████████████████████████████████████████████████▉| 17.6M/17.6M [00:00<00:00, 48.6Mb/s]\n",
      "100%|████████████████████████████████████████████████████████████████████████▉| 15.9M/15.9M [00:00<00:00, 47.2Mb/s]\n",
      "100%|████████████████████████████████████████████████████████████████████████▉| 18.1M/18.1M [00:00<00:00, 48.9Mb/s]\n",
      "100%|████████████████████████████████████████████████████████████████████████▉| 17.5M/17.5M [00:00<00:00, 47.7Mb/s]\n",
      "100%|████████████████████████████████████████████████████████████████████████▉| 19.2M/19.2M [00:02<00:00, 8.68Mb/s]\n",
      "100%|████████████████████████████████████████████████████████████████████████▉| 19.2M/19.2M [00:00<00:00, 44.7Mb/s]\n",
      "100%|████████████████████████████████████████████████████████████████████████▉| 19.9M/19.9M [00:00<00:00, 48.9Mb/s]\n",
      "100%|████████████████████████████████████████████████████████████████████████▉| 19.0M/19.0M [00:00<00:00, 47.2Mb/s]\n",
      "100%|████████████████████████████████████████████████████████████████████████▉| 19.2M/19.2M [00:00<00:00, 48.5Mb/s]\n",
      "100%|████████████████████████████████████████████████████████████████████████▉| 20.7M/20.7M [00:00<00:00, 35.5Mb/s]\n",
      "100%|████████████████████████████████████████████████████████████████████████▉| 18.6M/18.6M [00:00<00:00, 44.1Mb/s]\n",
      "100%|████████████████████████████████████████████████████████████████████████▉| 19.8M/19.8M [00:00<00:00, 42.5Mb/s]\n"
     ]
    },
    {
     "data": {
      "text/plain": [
       "[None,\n",
       " None,\n",
       " None,\n",
       " None,\n",
       " None,\n",
       " None,\n",
       " None,\n",
       " None,\n",
       " None,\n",
       " None,\n",
       " None,\n",
       " None,\n",
       " None,\n",
       " None,\n",
       " None,\n",
       " None,\n",
       " None,\n",
       " None,\n",
       " None,\n",
       " None,\n",
       " None,\n",
       " None,\n",
       " None,\n",
       " None,\n",
       " None,\n",
       " None,\n",
       " None,\n",
       " None,\n",
       " None,\n",
       " None,\n",
       " None,\n",
       " None,\n",
       " None,\n",
       " None,\n",
       " None]"
      ]
     },
     "execution_count": 18,
     "metadata": {},
     "output_type": "execute_result"
    }
   ],
   "source": [
    "[sftp.get(str(Path(p).parent / 'stat.npy'), str(Path(r'/media/rich/bigSSD/analysis_data/face_rhythm/mouse_0322R/stat_and_ops') / Path(p).parts[-7] / 'stat.npy')) for p in paths_found[2:]];"
   ]
  },
  {
   "cell_type": "code",
   "execution_count": 15,
   "id": "10fda52e-dfc3-435a-8d63-c405233dee4a",
   "metadata": {
    "scrolled": true
   },
   "outputs": [
    {
     "name": "stderr",
     "output_type": "stream",
     "text": [
      "100%|██████████████████████████████████████████████████████████████████████████▉| 231M/231M [00:07<00:00, 29.2Mb/s]\n",
      "100%|██████████████████████████████████████████████████████████████████████████▉| 232M/232M [00:03<00:00, 60.5Mb/s]\n",
      "100%|██████████████████████████████████████████████████████████████████████████▉| 232M/232M [00:04<00:00, 56.6Mb/s]\n",
      "100%|██████████████████████████████████████████████████████████████████████████▉| 231M/231M [00:04<00:00, 56.3Mb/s]\n",
      "100%|██████████████████████████████████████████████████████████████████████████▉| 232M/232M [00:04<00:00, 56.9Mb/s]\n",
      "100%|██████████████████████████████████████████████████████████████████████████▉| 231M/231M [00:04<00:00, 57.1Mb/s]\n",
      "100%|██████████████████████████████████████████████████████████████████████████▉| 233M/233M [00:04<00:00, 54.8Mb/s]\n",
      "100%|██████████████████████████████████████████████████████████████████████████▉| 232M/232M [00:05<00:00, 46.2Mb/s]\n",
      "100%|██████████████████████████████████████████████████████████████████████████▉| 232M/232M [00:04<00:00, 57.5Mb/s]\n",
      "100%|██████████████████████████████████████████████████████████████████████████▉| 231M/231M [00:04<00:00, 56.9Mb/s]\n",
      "100%|██████████████████████████████████████████████████████████████████████████▉| 231M/231M [00:04<00:00, 55.9Mb/s]\n",
      "100%|██████████████████████████████████████████████████████████████████████████▉| 231M/231M [00:04<00:00, 52.3Mb/s]\n",
      "100%|██████████████████████████████████████████████████████████████████████████▉| 231M/231M [00:04<00:00, 56.7Mb/s]\n",
      "100%|██████████████████████████████████████████████████████████████████████████▉| 231M/231M [00:04<00:00, 56.5Mb/s]\n",
      "100%|██████████████████████████████████████████████████████████████████████████▉| 231M/231M [00:04<00:00, 56.3Mb/s]\n",
      "100%|██████████████████████████████████████████████████████████████████████████▉| 232M/232M [00:04<00:00, 55.3Mb/s]\n",
      "100%|██████████████████████████████████████████████████████████████████████████▉| 230M/230M [00:04<00:00, 53.9Mb/s]\n",
      "100%|██████████████████████████████████████████████████████████████████████████▉| 233M/233M [00:04<00:00, 54.4Mb/s]\n",
      "100%|██████████████████████████████████████████████████████████████████████████▉| 231M/231M [00:04<00:00, 55.3Mb/s]\n",
      "100%|██████████████████████████████████████████████████████████████████████████▉| 232M/232M [00:03<00:00, 58.3Mb/s]\n",
      "100%|██████████████████████████████████████████████████████████████████████████▉| 232M/232M [00:04<00:00, 55.5Mb/s]\n",
      "100%|██████████████████████████████████████████████████████████████████████████▉| 233M/233M [00:04<00:00, 56.0Mb/s]\n",
      "100%|██████████████████████████████████████████████████████████████████████████▉| 233M/233M [00:04<00:00, 56.0Mb/s]\n",
      "100%|██████████████████████████████████████████████████████████████████████████▉| 233M/233M [00:04<00:00, 54.7Mb/s]\n",
      "100%|██████████████████████████████████████████████████████████████████████████▉| 233M/233M [00:04<00:00, 57.1Mb/s]\n",
      "100%|██████████████████████████████████████████████████████████████████████████▉| 233M/233M [00:04<00:00, 54.9Mb/s]\n",
      "100%|██████████████████████████████████████████████████████████████████████████▉| 232M/232M [00:04<00:00, 54.5Mb/s]\n",
      "100%|██████████████████████████████████████████████████████████████████████████▉| 232M/232M [00:04<00:00, 55.6Mb/s]\n",
      "100%|██████████████████████████████████████████████████████████████████████████▉| 232M/232M [00:04<00:00, 57.2Mb/s]\n",
      "100%|██████████████████████████████████████████████████████████████████████████▉| 232M/232M [00:04<00:00, 55.2Mb/s]\n",
      "100%|██████████████████████████████████████████████████████████████████████████▉| 232M/232M [00:04<00:00, 53.9Mb/s]\n",
      "100%|██████████████████████████████████████████████████████████████████████████▉| 232M/232M [00:04<00:00, 55.2Mb/s]\n",
      "100%|██████████████████████████████████████████████████████████████████████████▉| 232M/232M [00:04<00:00, 56.5Mb/s]\n",
      "100%|██████████████████████████████████████████████████████████████████████████▉| 231M/231M [00:04<00:00, 56.5Mb/s]\n",
      "100%|██████████████████████████████████████████████████████████████████████████▉| 231M/231M [00:04<00:00, 55.2Mb/s]\n"
     ]
    }
   ],
   "source": [
    "[sftp.get(str(Path(p).parent / 'ops.npy'), str(Path(r'/media/rich/bigSSD/analysis_data/face_rhythm/mouse_0322R/stat_and_ops') / Path(p).parts[-7] / 'ops.npy')) for p in paths_found[2:]];"
   ]
  },
  {
   "cell_type": "code",
   "execution_count": null,
   "id": "4e1295be-d324-40e3-8dc9-c3995933267a",
   "metadata": {},
   "outputs": [],
   "source": []
  },
  {
   "cell_type": "code",
   "execution_count": null,
   "id": "2999fb00-611b-4f2a-b680-a4c2e5bd7db2",
   "metadata": {},
   "outputs": [],
   "source": []
  },
  {
   "cell_type": "markdown",
   "id": "c181b7a8-eba3-4252-908b-9a0849d7c618",
   "metadata": {},
   "source": [
    "# Download logger files"
   ]
  },
  {
   "cell_type": "code",
   "execution_count": 19,
   "id": "2123b1d3-ab96-4d7a-a3d3-cb6d92ed9798",
   "metadata": {},
   "outputs": [
    {
     "name": "stdout",
     "output_type": "stream",
     "text": [
      "/n/files/Neurobio/MICROSCOPE/Gyu/BMI_data/cage_0322/mouse_0322R/20230531/analysis_data/logger.mat\n",
      "/n/files/Neurobio/MICROSCOPE/Gyu/BMI_data/cage_0322/mouse_0322R/20230420/analysis_data/logger.mat\n",
      "/n/files/Neurobio/MICROSCOPE/Gyu/BMI_data/cage_0322/mouse_0322R/20230523/analysis_data/logger.mat\n",
      "/n/files/Neurobio/MICROSCOPE/Gyu/BMI_data/cage_0322/mouse_0322R/20230517/analysis_data/logger.mat\n",
      "/n/files/Neurobio/MICROSCOPE/Gyu/BMI_data/cage_0322/mouse_0322R/20230515/analysis_data/logger.mat\n",
      "/n/files/Neurobio/MICROSCOPE/Gyu/BMI_data/cage_0322/mouse_0322R/20230430/analysis_data/logger.mat\n",
      "/n/files/Neurobio/MICROSCOPE/Gyu/BMI_data/cage_0322/mouse_0322R/20230512/analysis_data/logger.mat\n",
      "/n/files/Neurobio/MICROSCOPE/Gyu/BMI_data/cage_0322/mouse_0322R/20230511/analysis_data/logger.mat\n",
      "/n/files/Neurobio/MICROSCOPE/Gyu/BMI_data/cage_0322/mouse_0322R/20230514/analysis_data/logger.mat\n",
      "/n/files/Neurobio/MICROSCOPE/Gyu/BMI_data/cage_0322/mouse_0322R/20230504/analysis_data/logger.mat\n",
      "/n/files/Neurobio/MICROSCOPE/Gyu/BMI_data/cage_0322/mouse_0322R/20230507/analysis_data/logger.mat\n",
      "/n/files/Neurobio/MICROSCOPE/Gyu/BMI_data/cage_0322/mouse_0322R/20230513/analysis_data/logger.mat\n",
      "/n/files/Neurobio/MICROSCOPE/Gyu/BMI_data/cage_0322/mouse_0322R/20230525/analysis_data/logger.mat\n",
      "/n/files/Neurobio/MICROSCOPE/Gyu/BMI_data/cage_0322/mouse_0322R/20230522/analysis_data/logger.mat\n",
      "/n/files/Neurobio/MICROSCOPE/Gyu/BMI_data/cage_0322/mouse_0322R/20230526/analysis_data/logger.mat\n",
      "/n/files/Neurobio/MICROSCOPE/Gyu/BMI_data/cage_0322/mouse_0322R/20230424/analysis_data/logger.mat\n",
      "/n/files/Neurobio/MICROSCOPE/Gyu/BMI_data/cage_0322/mouse_0322R/20230426/analysis_data/logger.mat\n",
      "/n/files/Neurobio/MICROSCOPE/Gyu/BMI_data/cage_0322/mouse_0322R/20230521/analysis_data/logger.mat\n",
      "/n/files/Neurobio/MICROSCOPE/Gyu/BMI_data/cage_0322/mouse_0322R/20230518/analysis_data/logger.mat\n",
      "/n/files/Neurobio/MICROSCOPE/Gyu/BMI_data/cage_0322/mouse_0322R/20230530/analysis_data/logger.mat\n",
      "/n/files/Neurobio/MICROSCOPE/Gyu/BMI_data/cage_0322/mouse_0322R/20230520/analysis_data/logger.mat\n",
      "/n/files/Neurobio/MICROSCOPE/Gyu/BMI_data/cage_0322/mouse_0322R/20230508/analysis_data/logger.mat\n",
      "/n/files/Neurobio/MICROSCOPE/Gyu/BMI_data/cage_0322/mouse_0322R/20230428/analysis_data/logger.mat\n",
      "/n/files/Neurobio/MICROSCOPE/Gyu/BMI_data/cage_0322/mouse_0322R/20230506/analysis_data/logger.mat\n",
      "/n/files/Neurobio/MICROSCOPE/Gyu/BMI_data/cage_0322/mouse_0322R/20230527/analysis_data/logger.mat\n",
      "/n/files/Neurobio/MICROSCOPE/Gyu/BMI_data/cage_0322/mouse_0322R/20230425/analysis_data/logger.mat\n",
      "/n/files/Neurobio/MICROSCOPE/Gyu/BMI_data/cage_0322/mouse_0322R/20230419/analysis_data/logger.mat\n",
      "/n/files/Neurobio/MICROSCOPE/Gyu/BMI_data/cage_0322/mouse_0322R/20230519/analysis_data/logger.mat\n",
      "/n/files/Neurobio/MICROSCOPE/Gyu/BMI_data/cage_0322/mouse_0322R/20230429/analysis_data/logger.mat\n",
      "/n/files/Neurobio/MICROSCOPE/Gyu/BMI_data/cage_0322/mouse_0322R/20230501/analysis_data/logger.mat\n",
      "/n/files/Neurobio/MICROSCOPE/Gyu/BMI_data/cage_0322/mouse_0322R/20230505/analysis_data/logger.mat\n",
      "/n/files/Neurobio/MICROSCOPE/Gyu/BMI_data/cage_0322/mouse_0322R/20230427/analysis_data/logger.mat\n",
      "/n/files/Neurobio/MICROSCOPE/Gyu/BMI_data/cage_0322/mouse_0322R/20230516/analysis_data/logger.mat\n",
      "/n/files/Neurobio/MICROSCOPE/Gyu/BMI_data/cage_0322/mouse_0322R/20230509/analysis_data/logger.mat\n",
      "/n/files/Neurobio/MICROSCOPE/Gyu/BMI_data/cage_0322/mouse_0322R/20230503/analysis_data/logger.mat\n",
      "/n/files/Neurobio/MICROSCOPE/Gyu/BMI_data/cage_0322/mouse_0322R/20230524/analysis_data/logger.mat\n",
      "/n/files/Neurobio/MICROSCOPE/Gyu/BMI_data/cage_0322/mouse_0322R/20230502/analysis_data/logger.mat\n"
     ]
    }
   ],
   "source": [
    "paths_found = natsort.natsorted(sftp.search_recursive(\n",
    "    path='/n/files/Neurobio/MICROSCOPE/Gyu/BMI_data/cage_0322/mouse_0322R/',\n",
    "    search_pattern_re='logger\\.mat',\n",
    "    max_depth=7,\n",
    "    find_folders=False,\n",
    "    find_files=True,\n",
    "    verbose=True,\n",
    "))"
   ]
  },
  {
   "cell_type": "code",
   "execution_count": 20,
   "id": "6b810c93-7529-4b04-843f-4047e2dd4e66",
   "metadata": {},
   "outputs": [
    {
     "data": {
      "text/plain": [
       "['20230419',\n",
       " '20230420',\n",
       " '20230424',\n",
       " '20230425',\n",
       " '20230426',\n",
       " '20230427',\n",
       " '20230428',\n",
       " '20230429',\n",
       " '20230430',\n",
       " '20230501',\n",
       " '20230502',\n",
       " '20230503',\n",
       " '20230504',\n",
       " '20230505',\n",
       " '20230506',\n",
       " '20230507',\n",
       " '20230508',\n",
       " '20230509',\n",
       " '20230511',\n",
       " '20230512',\n",
       " '20230513',\n",
       " '20230514',\n",
       " '20230515',\n",
       " '20230516',\n",
       " '20230517',\n",
       " '20230518',\n",
       " '20230519',\n",
       " '20230520',\n",
       " '20230521',\n",
       " '20230522',\n",
       " '20230523',\n",
       " '20230524',\n",
       " '20230525',\n",
       " '20230526',\n",
       " '20230527',\n",
       " '20230530',\n",
       " '20230531']"
      ]
     },
     "execution_count": 20,
     "metadata": {},
     "output_type": "execute_result"
    }
   ],
   "source": [
    "dates_toUse = natsort.natsorted([Path(p).parts[-3] for p in paths_found])\n",
    "dates_toUse"
   ]
  },
  {
   "cell_type": "code",
   "execution_count": 21,
   "id": "73cc00e4-5aa2-4eae-8950-8a1d2fb34f60",
   "metadata": {
    "scrolled": true
   },
   "outputs": [
    {
     "name": "stderr",
     "output_type": "stream",
     "text": [
      "100%|████████████████████████████████████████████████████████████████████████▋| 4.82M/4.84M [00:01<00:00, 4.40Mb/s]\n",
      "100%|████████████████████████████████████████████████████████████████████████▊| 4.82M/4.83M [00:00<00:00, 8.48Mb/s]\n",
      "100%|████████████████████████████████████████████████████████████████████████▋| 4.78M/4.80M [00:00<00:00, 11.9Mb/s]\n",
      " 99%|████████████████████████████████████████████████████████████████████████▌| 4.82M/4.85M [00:00<00:00, 11.6Mb/s]\n",
      "100%|████████████████████████████████████████████████████████████████████████▊| 13.4M/13.5M [00:00<00:00, 16.0Mb/s]\n",
      "100%|████████████████████████████████████████████████████████████████████████▉| 13.4M/13.4M [00:00<00:00, 21.9Mb/s]\n",
      "100%|████████████████████████████████████████████████████████████████████████▉| 13.5M/13.5M [00:00<00:00, 23.3Mb/s]\n",
      "100%|████████████████████████████████████████████████████████████████████████▊| 13.5M/13.5M [00:00<00:00, 26.5Mb/s]\n",
      "100%|████████████████████████████████████████████████████████████████████████▊| 13.4M/13.5M [00:00<00:00, 26.0Mb/s]\n",
      "100%|████████████████████████████████████████████████████████████████████████▉| 13.5M/13.5M [00:00<00:00, 22.8Mb/s]\n",
      " 99%|████████████████████████████████████████████████████████████████████████▌| 4.85M/4.88M [00:00<00:00, 21.5Mb/s]\n",
      "100%|████████████████████████████████████████████████████████████████████████▉| 17.8M/17.8M [00:00<00:00, 32.5Mb/s]\n",
      "100%|████████████████████████████████████████████████████████████████████████▉| 17.8M/17.8M [00:00<00:00, 32.1Mb/s]\n",
      "100%|████████████████████████████████████████████████████████████████████████▉| 17.8M/17.8M [00:00<00:00, 34.2Mb/s]\n",
      "100%|████████████████████████████████████████████████████████████████████████▉| 17.9M/17.9M [00:00<00:00, 33.4Mb/s]\n",
      "100%|████████████████████████████████████████████████████████████████████████▉| 17.9M/17.9M [00:00<00:00, 39.4Mb/s]\n",
      "100%|████████████████████████████████████████████████████████████████████████▉| 17.8M/17.8M [00:00<00:00, 28.5Mb/s]\n",
      "100%|████████████████████████████████████████████████████████████████████████▉| 17.9M/17.9M [00:00<00:00, 40.1Mb/s]\n",
      "100%|████████████████████████████████████████████████████████████████████████▉| 17.8M/17.8M [00:00<00:00, 34.1Mb/s]\n",
      "100%|████████████████████████████████████████████████████████████████████████▉| 17.9M/17.9M [00:00<00:00, 38.4Mb/s]\n",
      "100%|████████████████████████████████████████████████████████████████████████▉| 17.8M/17.8M [00:00<00:00, 41.4Mb/s]\n",
      "100%|████████████████████████████████████████████████████████████████████████▉| 17.8M/17.8M [00:00<00:00, 26.7Mb/s]\n",
      "100%|████████████████████████████████████████████████████████████████████████▉| 17.8M/17.8M [00:00<00:00, 36.9Mb/s]\n",
      "100%|████████████████████████████████████████████████████████████████████████▉| 17.9M/17.9M [00:00<00:00, 38.5Mb/s]\n",
      "100%|████████████████████████████████████████████████████████████████████████▉| 17.8M/17.9M [00:00<00:00, 37.0Mb/s]\n",
      "100%|████████████████████████████████████████████████████████████████████████▊| 17.8M/17.9M [00:00<00:00, 35.0Mb/s]\n",
      "100%|████████████████████████████████████████████████████████████████████████▉| 18.0M/18.0M [00:00<00:00, 32.1Mb/s]\n",
      "100%|████████████████████████████████████████████████████████████████████████▉| 17.9M/17.9M [00:00<00:00, 37.1Mb/s]\n",
      "100%|████████████████████████████████████████████████████████████████████████▊| 17.9M/18.0M [00:00<00:00, 35.1Mb/s]\n",
      "100%|████████████████████████████████████████████████████████████████████████▉| 18.0M/18.0M [00:00<00:00, 38.4Mb/s]\n",
      "100%|████████████████████████████████████████████████████████████████████████▉| 18.0M/18.0M [00:00<00:00, 30.2Mb/s]\n",
      "100%|████████████████████████████████████████████████████████████████████████▉| 17.9M/17.9M [00:00<00:00, 40.9Mb/s]\n",
      "100%|████████████████████████████████████████████████████████████████████████▉| 18.0M/18.0M [00:00<00:00, 41.3Mb/s]\n",
      "100%|████████████████████████████████████████████████████████████████████████▉| 18.0M/18.0M [00:00<00:00, 42.9Mb/s]\n",
      "100%|████████████████████████████████████████████████████████████████████████▉| 17.9M/17.9M [00:00<00:00, 36.1Mb/s]\n",
      "100%|████████████████████████████████████████████████████████████████████████▋| 4.85M/4.87M [00:00<00:00, 22.7Mb/s]\n",
      "100%|████████████████████████████████████████████████████████████████████████▉| 4.85M/4.85M [00:00<00:00, 24.2Mb/s]\n"
     ]
    }
   ],
   "source": [
    "[sftp.get(str(Path(p).parent / 'logger.mat'), str(Path(r'/media/rich/bigSSD/analysis_data/face_rhythm/mouse_0322R/loggers') / date / 'logger.mat')) for date, p in zip(dates_toUse, paths_found)];"
   ]
  },
  {
   "cell_type": "code",
   "execution_count": 22,
   "id": "d2d04d61-b22e-48a0-b351-01d67f1f9677",
   "metadata": {
    "scrolled": true
   },
   "outputs": [
    {
     "name": "stderr",
     "output_type": "stream",
     "text": [
      "100%|████████████████████████████████████████████████████████████████████████▉| 39.1M/39.1M [00:00<00:00, 53.0Mb/s]\n",
      "100%|████████████████████████████████████████████████████████████████████████▉| 39.0M/39.0M [00:00<00:00, 47.4Mb/s]\n",
      " 95%|██████████████████████████████████████████████████████████████████████▋   | 65.5k/68.6k [00:00<00:00, 980kb/s]\n",
      " 95%|██████████████████████████████████████████████████████████████████████▍   | 65.5k/68.8k [00:00<00:00, 565kb/s]\n",
      " 99%|████████████████████████████████████████████████████████████████████████▌| 4.13M/4.15M [00:00<00:00, 21.0Mb/s]\n",
      " 99%|████████████████████████████████████████████████████████████████████████▍| 4.29M/4.32M [00:00<00:00, 20.8Mb/s]\n",
      " 99%|████████████████████████████████████████████████████████████████████████▌| 4.10M/4.12M [00:00<00:00, 15.9Mb/s]\n",
      " 99%|████████████████████████████████████████████████████████████████████████▌| 4.10M/4.12M [00:00<00:00, 21.5Mb/s]\n",
      "100%|████████████████████████████████████████████████████████████████████████▊| 4.06M/4.08M [00:00<00:00, 19.7Mb/s]\n",
      "100%|████████████████████████████████████████████████████████████████████████▊| 3.47M/3.48M [00:00<00:00, 17.5Mb/s]\n",
      " 95%|██████████████████████████████████████████████████████████████████████▍   | 65.5k/68.8k [00:00<00:00, 601kb/s]\n",
      "100%|████████████████████████████████████████████████████████████████████████▉| 6.13M/6.14M [00:00<00:00, 24.7Mb/s]\n",
      "100%|████████████████████████████████████████████████████████████████████████▉| 6.16M/6.17M [00:00<00:00, 15.9Mb/s]\n",
      "100%|████████████████████████████████████████████████████████████████████████▊| 5.77M/5.78M [00:00<00:00, 26.0Mb/s]\n",
      "100%|████████████████████████████████████████████████████████████████████████▋| 5.73M/5.76M [00:00<00:00, 23.8Mb/s]\n",
      "100%|████████████████████████████████████████████████████████████████████████▋| 5.83M/5.86M [00:00<00:00, 24.5Mb/s]\n",
      "100%|████████████████████████████████████████████████████████████████████████▋| 6.13M/6.16M [00:00<00:00, 26.4Mb/s]\n",
      "100%|████████████████████████████████████████████████████████████████████████▋| 5.80M/5.82M [00:00<00:00, 26.5Mb/s]\n",
      "100%|████████████████████████████████████████████████████████████████████████▉| 6.13M/6.13M [00:00<00:00, 22.7Mb/s]\n",
      "100%|████████████████████████████████████████████████████████████████████████▉| 6.03M/6.03M [00:00<00:00, 26.1Mb/s]\n",
      "100%|████████████████████████████████████████████████████████████████████████▋| 6.13M/6.15M [00:00<00:00, 26.2Mb/s]\n",
      "100%|████████████████████████████████████████████████████████████████████████▉| 6.13M/6.13M [00:00<00:00, 28.4Mb/s]\n",
      "100%|████████████████████████████████████████████████████████████████████████▋| 5.83M/5.86M [00:00<00:00, 23.8Mb/s]\n",
      "100%|████████████████████████████████████████████████████████████████████████▉| 5.70M/5.71M [00:00<00:00, 22.2Mb/s]\n",
      " 99%|████████████████████████████████████████████████████████████████████████▌| 5.77M/5.80M [00:00<00:00, 19.8Mb/s]\n",
      "100%|████████████████████████████████████████████████████████████████████████▊| 5.93M/5.95M [00:00<00:00, 25.3Mb/s]\n",
      "100%|████████████████████████████████████████████████████████████████████████▉| 5.70M/5.70M [00:00<00:00, 27.3Mb/s]\n",
      "100%|████████████████████████████████████████████████████████████████████████▉| 6.09M/6.10M [00:00<00:00, 29.8Mb/s]\n",
      "100%|████████████████████████████████████████████████████████████████████████▉| 5.57M/5.58M [00:00<00:00, 27.9Mb/s]\n",
      " 99%|████████████████████████████████████████████████████████████████████████▌| 5.80M/5.83M [00:00<00:00, 15.5Mb/s]\n",
      "100%|████████████████████████████████████████████████████████████████████████▋| 5.80M/5.82M [00:00<00:00, 26.7Mb/s]\n",
      " 99%|████████████████████████████████████████████████████████████████████████▋| 5.80M/5.83M [00:00<00:00, 26.4Mb/s]\n",
      "100%|████████████████████████████████████████████████████████████████████████▋| 5.87M/5.89M [00:00<00:00, 23.0Mb/s]\n",
      "100%|████████████████████████████████████████████████████████████████████████▉| 5.77M/5.78M [00:00<00:00, 24.6Mb/s]\n",
      "100%|████████████████████████████████████████████████████████████████████████▊| 5.73M/5.75M [00:00<00:00, 17.5Mb/s]\n",
      " 95%|██████████████████████████████████████████████████████████████████████▋   | 65.5k/68.6k [00:00<00:00, 913kb/s]\n",
      " 95%|█████████████████████████████████████████████████████████████████████▋   | 65.5k/68.6k [00:00<00:00, 1.00Mb/s]\n"
     ]
    }
   ],
   "source": [
    "[sftp.get(str(Path(p).parent / 'expParams.mat'), str(Path(r'/media/rich/bigSSD/analysis_data/face_rhythm/mouse_0322R/loggers') / date / 'expParams.mat')) for date, p in zip(dates_toUse, paths_found)];"
   ]
  },
  {
   "cell_type": "code",
   "execution_count": null,
   "id": "32d48bc9-3135-4506-bbdc-bdeae5cdd328",
   "metadata": {},
   "outputs": [],
   "source": []
  },
  {
   "cell_type": "markdown",
   "id": "ef934a83-e3e4-4bdc-b898-ca7607c001be",
   "metadata": {},
   "source": [
    "# Download wavesurfer files"
   ]
  },
  {
   "cell_type": "code",
   "execution_count": null,
   "id": "bb2de0c6-a350-41c4-b34b-e3f2a3303e47",
   "metadata": {},
   "outputs": [],
   "source": [
    "paths_files_remote = sftp.search_recursive(\n",
    "    path=r'/n/files/Neurobio/MICROSCOPE/Gyu/BMI_data/cage_0322/mouse_0322R/',\n",
    "    search_pattern_re=r'.*exp.*h5',\n",
    "    max_depth=6,\n",
    "    find_files=True,\n",
    "    find_folders=False,\n",
    "    verbose=True,\n",
    ")\n",
    "\n",
    "paths_files_remote = natsort.natsorted(paths_files_remote)"
   ]
  },
  {
   "cell_type": "code",
   "execution_count": null,
   "id": "9904a6aa-375c-4827-b676-55bb195cda56",
   "metadata": {},
   "outputs": [],
   "source": [
    "dates_files_remote = [Path(p).parent.parent.name for p in paths_files_remote]"
   ]
  },
  {
   "cell_type": "code",
   "execution_count": null,
   "id": "3aa95e07-f73e-48c9-99f1-f0282be8bb1c",
   "metadata": {},
   "outputs": [],
   "source": [
    "dates_files_remote"
   ]
  },
  {
   "cell_type": "code",
   "execution_count": null,
   "id": "fa8f2f34-6a29-4ef9-8cb9-e33771b41aa1",
   "metadata": {},
   "outputs": [],
   "source": [
    "directory_local_save = r'/media/rich/bigSSD/analysis_data/face_rhythm/mouse_0322R/wavesurfer_files/'"
   ]
  },
  {
   "cell_type": "code",
   "execution_count": null,
   "id": "6b75bba8-d286-4830-b7f9-95e38431aace",
   "metadata": {},
   "outputs": [],
   "source": [
    "[sftp.get(remotepath=p_r, localpath=str(Path(directory_local_save) / date / Path(p_r).name)) for p_r, date in zip(paths_files_remote, dates_files_remote)]"
   ]
  },
  {
   "cell_type": "markdown",
   "id": "aa9efe38-41ed-4978-beff-6a0abbf7a3ea",
   "metadata": {},
   "source": [
    "# Download camera CSV files"
   ]
  },
  {
   "cell_type": "code",
   "execution_count": null,
   "id": "b2dabe8c-c962-4726-a0aa-4b2d51675df4",
   "metadata": {},
   "outputs": [],
   "source": [
    "paths_csvs_remote = sftp.search_recursive(\n",
    "    path=r'/n/files/Neurobio/MICROSCOPE/Gyu/BMI_data/cage_0322/mouse_0322R/',\n",
    "    search_pattern_re=r'.*cam4.*csv',\n",
    "    max_depth=6,\n",
    "    find_files=True,\n",
    "    find_folders=False,\n",
    "    verbose=True,\n",
    ")\n",
    "\n",
    "paths_csvs_remote = natsort.natsorted(paths_csvs_remote)"
   ]
  },
  {
   "cell_type": "code",
   "execution_count": null,
   "id": "e7a5181b-8b14-49ca-ba45-253faf7d465e",
   "metadata": {},
   "outputs": [],
   "source": [
    "dates_csvs_remote = [Path(p).parent.parent.parent.parent.name for p in paths_csvs_remote]"
   ]
  },
  {
   "cell_type": "code",
   "execution_count": null,
   "id": "1455ee50-9279-4260-adef-dd09126cf0eb",
   "metadata": {},
   "outputs": [],
   "source": [
    "directory_local_save = r'/media/rich/bigSSD/analysis_data/face_rhythm/mouse_0322R/cam4_CSVs/'"
   ]
  },
  {
   "cell_type": "code",
   "execution_count": null,
   "id": "cb52e5f9-7d9e-4330-90cd-d88b0e7122ef",
   "metadata": {},
   "outputs": [],
   "source": [
    "[sftp.get(remotepath=p_r, localpath=str(Path(directory_local_save) / date / Path(p_r).name)) for p_r, date in zip(paths_csvs_remote, dates_csvs_remote)]"
   ]
  },
  {
   "cell_type": "code",
   "execution_count": null,
   "id": "77ee13e0-0f67-4162-b679-2f3b824dae85",
   "metadata": {},
   "outputs": [],
   "source": []
  },
  {
   "cell_type": "markdown",
   "id": "0289626a-4cfc-4497-a27f-0c3bcac4d507",
   "metadata": {},
   "source": [
    "# Download face-rhythm files"
   ]
  },
  {
   "cell_type": "code",
   "execution_count": 11,
   "id": "7d53c9cf-9aa2-402d-bd6f-a93a63da3d84",
   "metadata": {},
   "outputs": [
    {
     "name": "stdout",
     "output_type": "stream",
     "text": [
      "/n/data1/hms/neurobio/sabatini/rich/analysis/faceRhythm/mouse_0322R/run_20230701/20230531/jobNum_0/analysis_files/VQT_Analyzer.h5\n",
      "/n/data1/hms/neurobio/sabatini/rich/analysis/faceRhythm/mouse_0322R/run_20230701/20230420/jobNum_0/analysis_files/VQT_Analyzer.h5\n",
      "/n/data1/hms/neurobio/sabatini/rich/analysis/faceRhythm/mouse_0322R/run_20230701/20230523/jobNum_0/analysis_files/VQT_Analyzer.h5\n",
      "/n/data1/hms/neurobio/sabatini/rich/analysis/faceRhythm/mouse_0322R/run_20230701/20230517/jobNum_0/analysis_files/VQT_Analyzer.h5\n",
      "/n/data1/hms/neurobio/sabatini/rich/analysis/faceRhythm/mouse_0322R/run_20230701/20230515/jobNum_0/analysis_files/VQT_Analyzer.h5\n",
      "/n/data1/hms/neurobio/sabatini/rich/analysis/faceRhythm/mouse_0322R/run_20230701/20230430/jobNum_0/analysis_files/VQT_Analyzer.h5\n",
      "/n/data1/hms/neurobio/sabatini/rich/analysis/faceRhythm/mouse_0322R/run_20230701/20230512/jobNum_0/analysis_files/VQT_Analyzer.h5\n",
      "/n/data1/hms/neurobio/sabatini/rich/analysis/faceRhythm/mouse_0322R/run_20230701/20230511/jobNum_0/analysis_files/VQT_Analyzer.h5\n",
      "/n/data1/hms/neurobio/sabatini/rich/analysis/faceRhythm/mouse_0322R/run_20230701/20230514/jobNum_0/analysis_files/VQT_Analyzer.h5\n",
      "/n/data1/hms/neurobio/sabatini/rich/analysis/faceRhythm/mouse_0322R/run_20230701/20230504/jobNum_0/analysis_files/VQT_Analyzer.h5\n",
      "/n/data1/hms/neurobio/sabatini/rich/analysis/faceRhythm/mouse_0322R/run_20230701/20230507/jobNum_0/analysis_files/VQT_Analyzer.h5\n",
      "/n/data1/hms/neurobio/sabatini/rich/analysis/faceRhythm/mouse_0322R/run_20230701/20230513/jobNum_0/analysis_files/VQT_Analyzer.h5\n",
      "/n/data1/hms/neurobio/sabatini/rich/analysis/faceRhythm/mouse_0322R/run_20230701/20230525/jobNum_0/analysis_files/VQT_Analyzer.h5\n",
      "/n/data1/hms/neurobio/sabatini/rich/analysis/faceRhythm/mouse_0322R/run_20230701/20230522/jobNum_0/analysis_files/VQT_Analyzer.h5\n",
      "/n/data1/hms/neurobio/sabatini/rich/analysis/faceRhythm/mouse_0322R/run_20230701/20230526/jobNum_0/analysis_files/VQT_Analyzer.h5\n",
      "/n/data1/hms/neurobio/sabatini/rich/analysis/faceRhythm/mouse_0322R/run_20230701/20230424/jobNum_0/analysis_files/VQT_Analyzer.h5\n",
      "/n/data1/hms/neurobio/sabatini/rich/analysis/faceRhythm/mouse_0322R/run_20230701/20230426/jobNum_0/analysis_files/VQT_Analyzer.h5\n",
      "/n/data1/hms/neurobio/sabatini/rich/analysis/faceRhythm/mouse_0322R/run_20230701/20230521/jobNum_0/analysis_files/VQT_Analyzer.h5\n",
      "/n/data1/hms/neurobio/sabatini/rich/analysis/faceRhythm/mouse_0322R/run_20230701/20230518/jobNum_0/analysis_files/VQT_Analyzer.h5\n",
      "/n/data1/hms/neurobio/sabatini/rich/analysis/faceRhythm/mouse_0322R/run_20230701/20230530/jobNum_0/analysis_files/VQT_Analyzer.h5\n",
      "/n/data1/hms/neurobio/sabatini/rich/analysis/faceRhythm/mouse_0322R/run_20230701/20230520/jobNum_0/analysis_files/VQT_Analyzer.h5\n",
      "/n/data1/hms/neurobio/sabatini/rich/analysis/faceRhythm/mouse_0322R/run_20230701/20230508/jobNum_0/analysis_files/VQT_Analyzer.h5\n",
      "/n/data1/hms/neurobio/sabatini/rich/analysis/faceRhythm/mouse_0322R/run_20230701/20230428/jobNum_0/analysis_files/VQT_Analyzer.h5\n",
      "/n/data1/hms/neurobio/sabatini/rich/analysis/faceRhythm/mouse_0322R/run_20230701/20230506/jobNum_0/analysis_files/VQT_Analyzer.h5\n",
      "/n/data1/hms/neurobio/sabatini/rich/analysis/faceRhythm/mouse_0322R/run_20230701/20230527/jobNum_0/analysis_files/VQT_Analyzer.h5\n",
      "/n/data1/hms/neurobio/sabatini/rich/analysis/faceRhythm/mouse_0322R/run_20230701/20230510_badExpDay/jobNum_0/analysis_files/VQT_Analyzer.h5\n",
      "/n/data1/hms/neurobio/sabatini/rich/analysis/faceRhythm/mouse_0322R/run_20230701/20230425/jobNum_0/analysis_files/VQT_Analyzer.h5\n",
      "/n/data1/hms/neurobio/sabatini/rich/analysis/faceRhythm/mouse_0322R/run_20230701/20230519/jobNum_0/analysis_files/VQT_Analyzer.h5\n",
      "/n/data1/hms/neurobio/sabatini/rich/analysis/faceRhythm/mouse_0322R/run_20230701/20230501/jobNum_0/analysis_files/VQT_Analyzer.h5\n",
      "/n/data1/hms/neurobio/sabatini/rich/analysis/faceRhythm/mouse_0322R/run_20230701/20230505/jobNum_0/analysis_files/VQT_Analyzer.h5\n",
      "/n/data1/hms/neurobio/sabatini/rich/analysis/faceRhythm/mouse_0322R/run_20230701/20230427/jobNum_0/analysis_files/VQT_Analyzer.h5\n",
      "/n/data1/hms/neurobio/sabatini/rich/analysis/faceRhythm/mouse_0322R/run_20230701/20230516/jobNum_0/analysis_files/VQT_Analyzer.h5\n",
      "/n/data1/hms/neurobio/sabatini/rich/analysis/faceRhythm/mouse_0322R/run_20230701/20230509/jobNum_0/analysis_files/VQT_Analyzer.h5\n",
      "/n/data1/hms/neurobio/sabatini/rich/analysis/faceRhythm/mouse_0322R/run_20230701/20230503/jobNum_0/analysis_files/VQT_Analyzer.h5\n",
      "/n/data1/hms/neurobio/sabatini/rich/analysis/faceRhythm/mouse_0322R/run_20230701/20230524/jobNum_0/analysis_files/VQT_Analyzer.h5\n",
      "/n/data1/hms/neurobio/sabatini/rich/analysis/faceRhythm/mouse_0322R/run_20230701/20230502/jobNum_0/analysis_files/VQT_Analyzer.h5\n"
     ]
    }
   ],
   "source": [
    "paths_fr_remote = natsort.natsorted(sftp.search_recursive(\n",
    "    path=r'/n/data1/hms/neurobio/sabatini/rich/analysis/faceRhythm/mouse_0322R/run_20230701',\n",
    "    search_pattern_re=r'VQT_Analyzer.h5',\n",
    "    max_depth=6,\n",
    "    find_files=True,\n",
    "    find_folders=False,\n",
    "    verbose=True,\n",
    "))"
   ]
  },
  {
   "cell_type": "code",
   "execution_count": 12,
   "id": "344c757b-f0ec-4f66-9b10-52f735842a0b",
   "metadata": {},
   "outputs": [
    {
     "data": {
      "text/plain": [
       "['20230420',\n",
       " '20230424',\n",
       " '20230425',\n",
       " '20230426',\n",
       " '20230427',\n",
       " '20230428',\n",
       " '20230430',\n",
       " '20230501',\n",
       " '20230502',\n",
       " '20230503',\n",
       " '20230504',\n",
       " '20230505',\n",
       " '20230506',\n",
       " '20230507',\n",
       " '20230508',\n",
       " '20230509',\n",
       " '20230510_badExpDay',\n",
       " '20230511',\n",
       " '20230512',\n",
       " '20230513',\n",
       " '20230514',\n",
       " '20230515',\n",
       " '20230516',\n",
       " '20230517',\n",
       " '20230518',\n",
       " '20230519',\n",
       " '20230520',\n",
       " '20230521',\n",
       " '20230522',\n",
       " '20230523',\n",
       " '20230524',\n",
       " '20230525',\n",
       " '20230526',\n",
       " '20230527',\n",
       " '20230530',\n",
       " '20230531']"
      ]
     },
     "execution_count": 12,
     "metadata": {},
     "output_type": "execute_result"
    }
   ],
   "source": [
    "dates_fr_remote = [Path(p).parts[-4] for p in paths_fr_remote]\n",
    "dates_fr_remote"
   ]
  },
  {
   "cell_type": "code",
   "execution_count": 14,
   "id": "ab7e4b5f-5631-41c6-a869-1bb8a8976a4f",
   "metadata": {},
   "outputs": [
    {
     "data": {
      "text/plain": [
       "['/n/data1/hms/neurobio/sabatini/rich/analysis/faceRhythm/mouse_0322R/run_20230701/20230420',\n",
       " '/n/data1/hms/neurobio/sabatini/rich/analysis/faceRhythm/mouse_0322R/run_20230701/20230424',\n",
       " '/n/data1/hms/neurobio/sabatini/rich/analysis/faceRhythm/mouse_0322R/run_20230701/20230425',\n",
       " '/n/data1/hms/neurobio/sabatini/rich/analysis/faceRhythm/mouse_0322R/run_20230701/20230426',\n",
       " '/n/data1/hms/neurobio/sabatini/rich/analysis/faceRhythm/mouse_0322R/run_20230701/20230427',\n",
       " '/n/data1/hms/neurobio/sabatini/rich/analysis/faceRhythm/mouse_0322R/run_20230701/20230428',\n",
       " '/n/data1/hms/neurobio/sabatini/rich/analysis/faceRhythm/mouse_0322R/run_20230701/20230430',\n",
       " '/n/data1/hms/neurobio/sabatini/rich/analysis/faceRhythm/mouse_0322R/run_20230701/20230501',\n",
       " '/n/data1/hms/neurobio/sabatini/rich/analysis/faceRhythm/mouse_0322R/run_20230701/20230502',\n",
       " '/n/data1/hms/neurobio/sabatini/rich/analysis/faceRhythm/mouse_0322R/run_20230701/20230503',\n",
       " '/n/data1/hms/neurobio/sabatini/rich/analysis/faceRhythm/mouse_0322R/run_20230701/20230504',\n",
       " '/n/data1/hms/neurobio/sabatini/rich/analysis/faceRhythm/mouse_0322R/run_20230701/20230505',\n",
       " '/n/data1/hms/neurobio/sabatini/rich/analysis/faceRhythm/mouse_0322R/run_20230701/20230506',\n",
       " '/n/data1/hms/neurobio/sabatini/rich/analysis/faceRhythm/mouse_0322R/run_20230701/20230507',\n",
       " '/n/data1/hms/neurobio/sabatini/rich/analysis/faceRhythm/mouse_0322R/run_20230701/20230508',\n",
       " '/n/data1/hms/neurobio/sabatini/rich/analysis/faceRhythm/mouse_0322R/run_20230701/20230509',\n",
       " '/n/data1/hms/neurobio/sabatini/rich/analysis/faceRhythm/mouse_0322R/run_20230701/20230510_badExpDay',\n",
       " '/n/data1/hms/neurobio/sabatini/rich/analysis/faceRhythm/mouse_0322R/run_20230701/20230511',\n",
       " '/n/data1/hms/neurobio/sabatini/rich/analysis/faceRhythm/mouse_0322R/run_20230701/20230512',\n",
       " '/n/data1/hms/neurobio/sabatini/rich/analysis/faceRhythm/mouse_0322R/run_20230701/20230513',\n",
       " '/n/data1/hms/neurobio/sabatini/rich/analysis/faceRhythm/mouse_0322R/run_20230701/20230514',\n",
       " '/n/data1/hms/neurobio/sabatini/rich/analysis/faceRhythm/mouse_0322R/run_20230701/20230515',\n",
       " '/n/data1/hms/neurobio/sabatini/rich/analysis/faceRhythm/mouse_0322R/run_20230701/20230516',\n",
       " '/n/data1/hms/neurobio/sabatini/rich/analysis/faceRhythm/mouse_0322R/run_20230701/20230517',\n",
       " '/n/data1/hms/neurobio/sabatini/rich/analysis/faceRhythm/mouse_0322R/run_20230701/20230518',\n",
       " '/n/data1/hms/neurobio/sabatini/rich/analysis/faceRhythm/mouse_0322R/run_20230701/20230519',\n",
       " '/n/data1/hms/neurobio/sabatini/rich/analysis/faceRhythm/mouse_0322R/run_20230701/20230520',\n",
       " '/n/data1/hms/neurobio/sabatini/rich/analysis/faceRhythm/mouse_0322R/run_20230701/20230521',\n",
       " '/n/data1/hms/neurobio/sabatini/rich/analysis/faceRhythm/mouse_0322R/run_20230701/20230522',\n",
       " '/n/data1/hms/neurobio/sabatini/rich/analysis/faceRhythm/mouse_0322R/run_20230701/20230523',\n",
       " '/n/data1/hms/neurobio/sabatini/rich/analysis/faceRhythm/mouse_0322R/run_20230701/20230524',\n",
       " '/n/data1/hms/neurobio/sabatini/rich/analysis/faceRhythm/mouse_0322R/run_20230701/20230525',\n",
       " '/n/data1/hms/neurobio/sabatini/rich/analysis/faceRhythm/mouse_0322R/run_20230701/20230526',\n",
       " '/n/data1/hms/neurobio/sabatini/rich/analysis/faceRhythm/mouse_0322R/run_20230701/20230527',\n",
       " '/n/data1/hms/neurobio/sabatini/rich/analysis/faceRhythm/mouse_0322R/run_20230701/20230530',\n",
       " '/n/data1/hms/neurobio/sabatini/rich/analysis/faceRhythm/mouse_0322R/run_20230701/20230531']"
      ]
     },
     "execution_count": 14,
     "metadata": {},
     "output_type": "execute_result"
    }
   ],
   "source": [
    "dirsToDownload_fr_remote = [str(Path(p).parent.parent.parent) for p in paths_fr_remote]\n",
    "dirsToDownload_fr_remote"
   ]
  },
  {
   "cell_type": "code",
   "execution_count": 15,
   "id": "a2557c05-177d-4ded-8afc-882153e073a1",
   "metadata": {},
   "outputs": [],
   "source": [
    "directory_local_save = r'/media/rich/bigSSD/analysis_data/face_rhythm/mouse_0322R/fr_run'"
   ]
  },
  {
   "cell_type": "code",
   "execution_count": null,
   "id": "10d275ff-3f60-4cfe-830b-c1990b029bd4",
   "metadata": {},
   "outputs": [],
   "source": [
    "directory_local_save"
   ]
  },
  {
   "cell_type": "code",
   "execution_count": null,
   "id": "4ee64ebf-4908-4571-864b-f97e84d4f4db",
   "metadata": {
    "scrolled": true
   },
   "outputs": [],
   "source": [
    "sftp.get_dir(source=Path(p_r).parent.parent.parent.parent, target=directory_local_save)"
   ]
  },
  {
   "cell_type": "code",
   "execution_count": null,
   "id": "1c6dabfa-550d-4f43-ab94-ab621606491e",
   "metadata": {},
   "outputs": [],
   "source": []
  },
  {
   "cell_type": "code",
   "execution_count": null,
   "id": "bf6dd342-0122-427c-8774-2efe0f036557",
   "metadata": {},
   "outputs": [],
   "source": []
  },
  {
   "cell_type": "markdown",
   "id": "b96e1f7f-1357-424d-a617-cf31f3c34451",
   "metadata": {},
   "source": [
    "# Download dFoF and tqm files"
   ]
  },
  {
   "cell_type": "code",
   "execution_count": 12,
   "id": "f5d90000-ea5e-450d-a21b-0a45a4b84aad",
   "metadata": {},
   "outputs": [],
   "source": [
    "dir_dFoF_and_tqm_remote = r'/n/data1/hms/neurobio/sabatini/rich/analysis/make_dFoF_and_tqm/mouse_0322R'\n",
    "directory_local_save = r'/media/rich/bigSSD/analysis_data/face_rhythm/mouse_0322R/dFoF_and_tqm/'"
   ]
  },
  {
   "cell_type": "code",
   "execution_count": 13,
   "id": "7562e2ca-ca0a-44e7-9347-c74d3534709b",
   "metadata": {
    "scrolled": true
   },
   "outputs": [
    {
     "name": "stdout",
     "output_type": "stream",
     "text": [
      "downloading /n/data1/hms/neurobio/sabatini/rich/analysis/make_dFoF_and_tqm/mouse_0322R/20230531/parameters_batch.json   to   /media/rich/bigSSD/analysis_data/face_rhythm/mouse_0322R/dFoF_and_tqm/20230531/parameters_batch.json\n"
     ]
    },
    {
     "name": "stderr",
     "output_type": "stream",
     "text": [
      "0.00b [00:00, ?b/s]\n"
     ]
    },
    {
     "name": "stdout",
     "output_type": "stream",
     "text": [
      "downloading /n/data1/hms/neurobio/sabatini/rich/analysis/make_dFoF_and_tqm/mouse_0322R/20230531/jobNum_0/tqm.pkl   to   /media/rich/bigSSD/analysis_data/face_rhythm/mouse_0322R/dFoF_and_tqm/20230531/jobNum_0/tqm.pkl\n"
     ]
    },
    {
     "name": "stderr",
     "output_type": "stream",
     "text": [
      "0.00b [00:00, ?b/s]\n"
     ]
    },
    {
     "name": "stdout",
     "output_type": "stream",
     "text": [
      "downloading /n/data1/hms/neurobio/sabatini/rich/analysis/make_dFoF_and_tqm/mouse_0322R/20230531/jobNum_0/params.json   to   /media/rich/bigSSD/analysis_data/face_rhythm/mouse_0322R/dFoF_and_tqm/20230531/jobNum_0/params.json\n"
     ]
    },
    {
     "name": "stderr",
     "output_type": "stream",
     "text": [
      "0.00b [00:00, ?b/s]\n"
     ]
    },
    {
     "name": "stdout",
     "output_type": "stream",
     "text": [
      "downloading /n/data1/hms/neurobio/sabatini/rich/analysis/make_dFoF_and_tqm/mouse_0322R/20230531/jobNum_0/dFoF.npy   to   /media/rich/bigSSD/analysis_data/face_rhythm/mouse_0322R/dFoF_and_tqm/20230531/jobNum_0/dFoF.npy\n"
     ]
    },
    {
     "name": "stderr",
     "output_type": "stream",
     "text": [
      "0.00b [00:19, ?b/s]\n"
     ]
    },
    {
     "name": "stdout",
     "output_type": "stream",
     "text": [
      "downloading /n/data1/hms/neurobio/sabatini/rich/analysis/make_dFoF_and_tqm/mouse_0322R/20230531/jobNum_0/print_log_15082492.log   to   /media/rich/bigSSD/analysis_data/face_rhythm/mouse_0322R/dFoF_and_tqm/20230531/jobNum_0/print_log_15082492.log\n"
     ]
    },
    {
     "name": "stderr",
     "output_type": "stream",
     "text": [
      "0.00b [00:00, ?b/s]\n"
     ]
    },
    {
     "name": "stdout",
     "output_type": "stream",
     "text": [
      "downloading /n/data1/hms/neurobio/sabatini/rich/analysis/make_dFoF_and_tqm/mouse_0322R/20230531/jobNum_0/make_dFoF_and_tqm.py   to   /media/rich/bigSSD/analysis_data/face_rhythm/mouse_0322R/dFoF_and_tqm/20230531/jobNum_0/make_dFoF_and_tqm.py\n"
     ]
    },
    {
     "name": "stderr",
     "output_type": "stream",
     "text": [
      "0.00b [00:00, ?b/s]\n"
     ]
    },
    {
     "name": "stdout",
     "output_type": "stream",
     "text": [
      "downloading /n/data1/hms/neurobio/sabatini/rich/analysis/make_dFoF_and_tqm/mouse_0322R/20230531/jobNum_0/iscell_tqm.npy   to   /media/rich/bigSSD/analysis_data/face_rhythm/mouse_0322R/dFoF_and_tqm/20230531/jobNum_0/iscell_tqm.npy\n"
     ]
    },
    {
     "name": "stderr",
     "output_type": "stream",
     "text": [
      "0.00b [00:00, ?b/s]\n"
     ]
    },
    {
     "name": "stdout",
     "output_type": "stream",
     "text": [
      "downloading /n/data1/hms/neurobio/sabatini/rich/analysis/make_dFoF_and_tqm/mouse_0322R/20230531/jobNum_0/sbatch_config.sh   to   /media/rich/bigSSD/analysis_data/face_rhythm/mouse_0322R/dFoF_and_tqm/20230531/jobNum_0/sbatch_config.sh\n"
     ]
    },
    {
     "name": "stderr",
     "output_type": "stream",
     "text": [
      "0.00b [00:00, ?b/s]\n"
     ]
    },
    {
     "name": "stdout",
     "output_type": "stream",
     "text": [
      "downloading /n/data1/hms/neurobio/sabatini/rich/analysis/make_dFoF_and_tqm/mouse_0322R/20230531/make_dFoF_and_tqm.py   to   /media/rich/bigSSD/analysis_data/face_rhythm/mouse_0322R/dFoF_and_tqm/20230531/make_dFoF_and_tqm.py\n"
     ]
    },
    {
     "name": "stderr",
     "output_type": "stream",
     "text": [
      "0.00b [00:00, ?b/s]\n"
     ]
    },
    {
     "name": "stdout",
     "output_type": "stream",
     "text": [
      "downloading /n/data1/hms/neurobio/sabatini/rich/analysis/make_dFoF_and_tqm/mouse_0322R/20230531/dispatcher.py   to   /media/rich/bigSSD/analysis_data/face_rhythm/mouse_0322R/dFoF_and_tqm/20230531/dispatcher.py\n"
     ]
    },
    {
     "name": "stderr",
     "output_type": "stream",
     "text": [
      "0.00b [00:00, ?b/s]\n"
     ]
    },
    {
     "name": "stdout",
     "output_type": "stream",
     "text": [
      "downloading /n/data1/hms/neurobio/sabatini/rich/analysis/make_dFoF_and_tqm/mouse_0322R/20230531/notes.txt   to   /media/rich/bigSSD/analysis_data/face_rhythm/mouse_0322R/dFoF_and_tqm/20230531/notes.txt\n"
     ]
    },
    {
     "name": "stderr",
     "output_type": "stream",
     "text": [
      "0.00b [00:00, ?b/s]\n"
     ]
    },
    {
     "name": "stdout",
     "output_type": "stream",
     "text": [
      "downloading /n/data1/hms/neurobio/sabatini/rich/analysis/make_dFoF_and_tqm/mouse_0322R/20230420/parameters_batch.json   to   /media/rich/bigSSD/analysis_data/face_rhythm/mouse_0322R/dFoF_and_tqm/20230420/parameters_batch.json\n"
     ]
    },
    {
     "name": "stderr",
     "output_type": "stream",
     "text": [
      "0.00b [00:00, ?b/s]\n"
     ]
    },
    {
     "name": "stdout",
     "output_type": "stream",
     "text": [
      "downloading /n/data1/hms/neurobio/sabatini/rich/analysis/make_dFoF_and_tqm/mouse_0322R/20230420/jobNum_0/tqm.pkl   to   /media/rich/bigSSD/analysis_data/face_rhythm/mouse_0322R/dFoF_and_tqm/20230420/jobNum_0/tqm.pkl\n"
     ]
    },
    {
     "name": "stderr",
     "output_type": "stream",
     "text": [
      "0.00b [00:00, ?b/s]\n"
     ]
    },
    {
     "name": "stdout",
     "output_type": "stream",
     "text": [
      "downloading /n/data1/hms/neurobio/sabatini/rich/analysis/make_dFoF_and_tqm/mouse_0322R/20230420/jobNum_0/params.json   to   /media/rich/bigSSD/analysis_data/face_rhythm/mouse_0322R/dFoF_and_tqm/20230420/jobNum_0/params.json\n"
     ]
    },
    {
     "name": "stderr",
     "output_type": "stream",
     "text": [
      "0.00b [00:00, ?b/s]\n"
     ]
    },
    {
     "name": "stdout",
     "output_type": "stream",
     "text": [
      "downloading /n/data1/hms/neurobio/sabatini/rich/analysis/make_dFoF_and_tqm/mouse_0322R/20230420/jobNum_0/dFoF.npy   to   /media/rich/bigSSD/analysis_data/face_rhythm/mouse_0322R/dFoF_and_tqm/20230420/jobNum_0/dFoF.npy\n"
     ]
    },
    {
     "name": "stderr",
     "output_type": "stream",
     "text": [
      "0.00b [00:17, ?b/s]\n"
     ]
    },
    {
     "name": "stdout",
     "output_type": "stream",
     "text": [
      "downloading /n/data1/hms/neurobio/sabatini/rich/analysis/make_dFoF_and_tqm/mouse_0322R/20230420/jobNum_0/make_dFoF_and_tqm.py   to   /media/rich/bigSSD/analysis_data/face_rhythm/mouse_0322R/dFoF_and_tqm/20230420/jobNum_0/make_dFoF_and_tqm.py\n"
     ]
    },
    {
     "name": "stderr",
     "output_type": "stream",
     "text": [
      "0.00b [00:00, ?b/s]\n"
     ]
    },
    {
     "name": "stdout",
     "output_type": "stream",
     "text": [
      "downloading /n/data1/hms/neurobio/sabatini/rich/analysis/make_dFoF_and_tqm/mouse_0322R/20230420/jobNum_0/iscell_tqm.npy   to   /media/rich/bigSSD/analysis_data/face_rhythm/mouse_0322R/dFoF_and_tqm/20230420/jobNum_0/iscell_tqm.npy\n"
     ]
    },
    {
     "name": "stderr",
     "output_type": "stream",
     "text": [
      "0.00b [00:00, ?b/s]\n"
     ]
    },
    {
     "name": "stdout",
     "output_type": "stream",
     "text": [
      "downloading /n/data1/hms/neurobio/sabatini/rich/analysis/make_dFoF_and_tqm/mouse_0322R/20230420/jobNum_0/print_log_15082149.log   to   /media/rich/bigSSD/analysis_data/face_rhythm/mouse_0322R/dFoF_and_tqm/20230420/jobNum_0/print_log_15082149.log\n"
     ]
    },
    {
     "name": "stderr",
     "output_type": "stream",
     "text": [
      "0.00b [00:00, ?b/s]\n"
     ]
    },
    {
     "name": "stdout",
     "output_type": "stream",
     "text": [
      "downloading /n/data1/hms/neurobio/sabatini/rich/analysis/make_dFoF_and_tqm/mouse_0322R/20230420/jobNum_0/sbatch_config.sh   to   /media/rich/bigSSD/analysis_data/face_rhythm/mouse_0322R/dFoF_and_tqm/20230420/jobNum_0/sbatch_config.sh\n"
     ]
    },
    {
     "name": "stderr",
     "output_type": "stream",
     "text": [
      "0.00b [00:00, ?b/s]\n"
     ]
    },
    {
     "name": "stdout",
     "output_type": "stream",
     "text": [
      "downloading /n/data1/hms/neurobio/sabatini/rich/analysis/make_dFoF_and_tqm/mouse_0322R/20230420/make_dFoF_and_tqm.py   to   /media/rich/bigSSD/analysis_data/face_rhythm/mouse_0322R/dFoF_and_tqm/20230420/make_dFoF_and_tqm.py\n"
     ]
    },
    {
     "name": "stderr",
     "output_type": "stream",
     "text": [
      "0.00b [00:00, ?b/s]\n"
     ]
    },
    {
     "name": "stdout",
     "output_type": "stream",
     "text": [
      "downloading /n/data1/hms/neurobio/sabatini/rich/analysis/make_dFoF_and_tqm/mouse_0322R/20230420/dispatcher.py   to   /media/rich/bigSSD/analysis_data/face_rhythm/mouse_0322R/dFoF_and_tqm/20230420/dispatcher.py\n"
     ]
    },
    {
     "name": "stderr",
     "output_type": "stream",
     "text": [
      "0.00b [00:00, ?b/s]\n"
     ]
    },
    {
     "name": "stdout",
     "output_type": "stream",
     "text": [
      "downloading /n/data1/hms/neurobio/sabatini/rich/analysis/make_dFoF_and_tqm/mouse_0322R/20230420/notes.txt   to   /media/rich/bigSSD/analysis_data/face_rhythm/mouse_0322R/dFoF_and_tqm/20230420/notes.txt\n"
     ]
    },
    {
     "name": "stderr",
     "output_type": "stream",
     "text": [
      "0.00b [00:00, ?b/s]\n"
     ]
    },
    {
     "name": "stdout",
     "output_type": "stream",
     "text": [
      "downloading /n/data1/hms/neurobio/sabatini/rich/analysis/make_dFoF_and_tqm/mouse_0322R/20230523/parameters_batch.json   to   /media/rich/bigSSD/analysis_data/face_rhythm/mouse_0322R/dFoF_and_tqm/20230523/parameters_batch.json\n"
     ]
    },
    {
     "name": "stderr",
     "output_type": "stream",
     "text": [
      "0.00b [00:00, ?b/s]\n"
     ]
    },
    {
     "name": "stdout",
     "output_type": "stream",
     "text": [
      "downloading /n/data1/hms/neurobio/sabatini/rich/analysis/make_dFoF_and_tqm/mouse_0322R/20230523/jobNum_0/tqm.pkl   to   /media/rich/bigSSD/analysis_data/face_rhythm/mouse_0322R/dFoF_and_tqm/20230523/jobNum_0/tqm.pkl\n"
     ]
    },
    {
     "name": "stderr",
     "output_type": "stream",
     "text": [
      "0.00b [00:00, ?b/s]\n"
     ]
    },
    {
     "name": "stdout",
     "output_type": "stream",
     "text": [
      "downloading /n/data1/hms/neurobio/sabatini/rich/analysis/make_dFoF_and_tqm/mouse_0322R/20230523/jobNum_0/params.json   to   /media/rich/bigSSD/analysis_data/face_rhythm/mouse_0322R/dFoF_and_tqm/20230523/jobNum_0/params.json\n"
     ]
    },
    {
     "name": "stderr",
     "output_type": "stream",
     "text": [
      "0.00b [00:00, ?b/s]\n"
     ]
    },
    {
     "name": "stdout",
     "output_type": "stream",
     "text": [
      "downloading /n/data1/hms/neurobio/sabatini/rich/analysis/make_dFoF_and_tqm/mouse_0322R/20230523/jobNum_0/dFoF.npy   to   /media/rich/bigSSD/analysis_data/face_rhythm/mouse_0322R/dFoF_and_tqm/20230523/jobNum_0/dFoF.npy\n"
     ]
    },
    {
     "name": "stderr",
     "output_type": "stream",
     "text": [
      "0.00b [00:25, ?b/s]\n"
     ]
    },
    {
     "name": "stdout",
     "output_type": "stream",
     "text": [
      "downloading /n/data1/hms/neurobio/sabatini/rich/analysis/make_dFoF_and_tqm/mouse_0322R/20230523/jobNum_0/print_log_15082427.log   to   /media/rich/bigSSD/analysis_data/face_rhythm/mouse_0322R/dFoF_and_tqm/20230523/jobNum_0/print_log_15082427.log\n"
     ]
    },
    {
     "name": "stderr",
     "output_type": "stream",
     "text": [
      "0.00b [00:00, ?b/s]\n"
     ]
    },
    {
     "name": "stdout",
     "output_type": "stream",
     "text": [
      "downloading /n/data1/hms/neurobio/sabatini/rich/analysis/make_dFoF_and_tqm/mouse_0322R/20230523/jobNum_0/make_dFoF_and_tqm.py   to   /media/rich/bigSSD/analysis_data/face_rhythm/mouse_0322R/dFoF_and_tqm/20230523/jobNum_0/make_dFoF_and_tqm.py\n"
     ]
    },
    {
     "name": "stderr",
     "output_type": "stream",
     "text": [
      "0.00b [00:00, ?b/s]\n"
     ]
    },
    {
     "name": "stdout",
     "output_type": "stream",
     "text": [
      "downloading /n/data1/hms/neurobio/sabatini/rich/analysis/make_dFoF_and_tqm/mouse_0322R/20230523/jobNum_0/iscell_tqm.npy   to   /media/rich/bigSSD/analysis_data/face_rhythm/mouse_0322R/dFoF_and_tqm/20230523/jobNum_0/iscell_tqm.npy\n"
     ]
    },
    {
     "name": "stderr",
     "output_type": "stream",
     "text": [
      "0.00b [00:00, ?b/s]\n"
     ]
    },
    {
     "name": "stdout",
     "output_type": "stream",
     "text": [
      "downloading /n/data1/hms/neurobio/sabatini/rich/analysis/make_dFoF_and_tqm/mouse_0322R/20230523/jobNum_0/sbatch_config.sh   to   /media/rich/bigSSD/analysis_data/face_rhythm/mouse_0322R/dFoF_and_tqm/20230523/jobNum_0/sbatch_config.sh\n"
     ]
    },
    {
     "name": "stderr",
     "output_type": "stream",
     "text": [
      "0.00b [00:00, ?b/s]\n"
     ]
    },
    {
     "name": "stdout",
     "output_type": "stream",
     "text": [
      "downloading /n/data1/hms/neurobio/sabatini/rich/analysis/make_dFoF_and_tqm/mouse_0322R/20230523/make_dFoF_and_tqm.py   to   /media/rich/bigSSD/analysis_data/face_rhythm/mouse_0322R/dFoF_and_tqm/20230523/make_dFoF_and_tqm.py\n"
     ]
    },
    {
     "name": "stderr",
     "output_type": "stream",
     "text": [
      "0.00b [00:00, ?b/s]\n"
     ]
    },
    {
     "name": "stdout",
     "output_type": "stream",
     "text": [
      "downloading /n/data1/hms/neurobio/sabatini/rich/analysis/make_dFoF_and_tqm/mouse_0322R/20230523/dispatcher.py   to   /media/rich/bigSSD/analysis_data/face_rhythm/mouse_0322R/dFoF_and_tqm/20230523/dispatcher.py\n"
     ]
    },
    {
     "name": "stderr",
     "output_type": "stream",
     "text": [
      "0.00b [00:00, ?b/s]\n"
     ]
    },
    {
     "name": "stdout",
     "output_type": "stream",
     "text": [
      "downloading /n/data1/hms/neurobio/sabatini/rich/analysis/make_dFoF_and_tqm/mouse_0322R/20230523/notes.txt   to   /media/rich/bigSSD/analysis_data/face_rhythm/mouse_0322R/dFoF_and_tqm/20230523/notes.txt\n"
     ]
    },
    {
     "name": "stderr",
     "output_type": "stream",
     "text": [
      "0.00b [00:00, ?b/s]\n"
     ]
    },
    {
     "name": "stdout",
     "output_type": "stream",
     "text": [
      "downloading /n/data1/hms/neurobio/sabatini/rich/analysis/make_dFoF_and_tqm/mouse_0322R/20230517/parameters_batch.json   to   /media/rich/bigSSD/analysis_data/face_rhythm/mouse_0322R/dFoF_and_tqm/20230517/parameters_batch.json\n"
     ]
    },
    {
     "name": "stderr",
     "output_type": "stream",
     "text": [
      "0.00b [00:00, ?b/s]\n"
     ]
    },
    {
     "name": "stdout",
     "output_type": "stream",
     "text": [
      "downloading /n/data1/hms/neurobio/sabatini/rich/analysis/make_dFoF_and_tqm/mouse_0322R/20230517/jobNum_0/tqm.pkl   to   /media/rich/bigSSD/analysis_data/face_rhythm/mouse_0322R/dFoF_and_tqm/20230517/jobNum_0/tqm.pkl\n"
     ]
    },
    {
     "name": "stderr",
     "output_type": "stream",
     "text": [
      "0.00b [00:00, ?b/s]\n"
     ]
    },
    {
     "name": "stdout",
     "output_type": "stream",
     "text": [
      "downloading /n/data1/hms/neurobio/sabatini/rich/analysis/make_dFoF_and_tqm/mouse_0322R/20230517/jobNum_0/params.json   to   /media/rich/bigSSD/analysis_data/face_rhythm/mouse_0322R/dFoF_and_tqm/20230517/jobNum_0/params.json\n"
     ]
    },
    {
     "name": "stderr",
     "output_type": "stream",
     "text": [
      "0.00b [00:00, ?b/s]\n"
     ]
    },
    {
     "name": "stdout",
     "output_type": "stream",
     "text": [
      "downloading /n/data1/hms/neurobio/sabatini/rich/analysis/make_dFoF_and_tqm/mouse_0322R/20230517/jobNum_0/dFoF.npy   to   /media/rich/bigSSD/analysis_data/face_rhythm/mouse_0322R/dFoF_and_tqm/20230517/jobNum_0/dFoF.npy\n"
     ]
    },
    {
     "name": "stderr",
     "output_type": "stream",
     "text": [
      "0.00b [00:20, ?b/s]\n"
     ]
    },
    {
     "name": "stdout",
     "output_type": "stream",
     "text": [
      "downloading /n/data1/hms/neurobio/sabatini/rich/analysis/make_dFoF_and_tqm/mouse_0322R/20230517/jobNum_0/print_log_15082382.log   to   /media/rich/bigSSD/analysis_data/face_rhythm/mouse_0322R/dFoF_and_tqm/20230517/jobNum_0/print_log_15082382.log\n"
     ]
    },
    {
     "name": "stderr",
     "output_type": "stream",
     "text": [
      "0.00b [00:00, ?b/s]\n"
     ]
    },
    {
     "name": "stdout",
     "output_type": "stream",
     "text": [
      "downloading /n/data1/hms/neurobio/sabatini/rich/analysis/make_dFoF_and_tqm/mouse_0322R/20230517/jobNum_0/make_dFoF_and_tqm.py   to   /media/rich/bigSSD/analysis_data/face_rhythm/mouse_0322R/dFoF_and_tqm/20230517/jobNum_0/make_dFoF_and_tqm.py\n"
     ]
    },
    {
     "name": "stderr",
     "output_type": "stream",
     "text": [
      "0.00b [00:00, ?b/s]\n"
     ]
    },
    {
     "name": "stdout",
     "output_type": "stream",
     "text": [
      "downloading /n/data1/hms/neurobio/sabatini/rich/analysis/make_dFoF_and_tqm/mouse_0322R/20230517/jobNum_0/iscell_tqm.npy   to   /media/rich/bigSSD/analysis_data/face_rhythm/mouse_0322R/dFoF_and_tqm/20230517/jobNum_0/iscell_tqm.npy\n"
     ]
    },
    {
     "name": "stderr",
     "output_type": "stream",
     "text": [
      "0.00b [00:00, ?b/s]\n"
     ]
    },
    {
     "name": "stdout",
     "output_type": "stream",
     "text": [
      "downloading /n/data1/hms/neurobio/sabatini/rich/analysis/make_dFoF_and_tqm/mouse_0322R/20230517/jobNum_0/sbatch_config.sh   to   /media/rich/bigSSD/analysis_data/face_rhythm/mouse_0322R/dFoF_and_tqm/20230517/jobNum_0/sbatch_config.sh\n"
     ]
    },
    {
     "name": "stderr",
     "output_type": "stream",
     "text": [
      "0.00b [00:00, ?b/s]\n"
     ]
    },
    {
     "name": "stdout",
     "output_type": "stream",
     "text": [
      "downloading /n/data1/hms/neurobio/sabatini/rich/analysis/make_dFoF_and_tqm/mouse_0322R/20230517/make_dFoF_and_tqm.py   to   /media/rich/bigSSD/analysis_data/face_rhythm/mouse_0322R/dFoF_and_tqm/20230517/make_dFoF_and_tqm.py\n"
     ]
    },
    {
     "name": "stderr",
     "output_type": "stream",
     "text": [
      "0.00b [00:00, ?b/s]\n"
     ]
    },
    {
     "name": "stdout",
     "output_type": "stream",
     "text": [
      "downloading /n/data1/hms/neurobio/sabatini/rich/analysis/make_dFoF_and_tqm/mouse_0322R/20230517/dispatcher.py   to   /media/rich/bigSSD/analysis_data/face_rhythm/mouse_0322R/dFoF_and_tqm/20230517/dispatcher.py\n"
     ]
    },
    {
     "name": "stderr",
     "output_type": "stream",
     "text": [
      "0.00b [00:00, ?b/s]\n"
     ]
    },
    {
     "name": "stdout",
     "output_type": "stream",
     "text": [
      "downloading /n/data1/hms/neurobio/sabatini/rich/analysis/make_dFoF_and_tqm/mouse_0322R/20230517/notes.txt   to   /media/rich/bigSSD/analysis_data/face_rhythm/mouse_0322R/dFoF_and_tqm/20230517/notes.txt\n"
     ]
    },
    {
     "name": "stderr",
     "output_type": "stream",
     "text": [
      "0.00b [00:00, ?b/s]\n"
     ]
    },
    {
     "name": "stdout",
     "output_type": "stream",
     "text": [
      "downloading /n/data1/hms/neurobio/sabatini/rich/analysis/make_dFoF_and_tqm/mouse_0322R/20230515/parameters_batch.json   to   /media/rich/bigSSD/analysis_data/face_rhythm/mouse_0322R/dFoF_and_tqm/20230515/parameters_batch.json\n"
     ]
    },
    {
     "name": "stderr",
     "output_type": "stream",
     "text": [
      "0.00b [00:00, ?b/s]\n"
     ]
    },
    {
     "name": "stdout",
     "output_type": "stream",
     "text": [
      "downloading /n/data1/hms/neurobio/sabatini/rich/analysis/make_dFoF_and_tqm/mouse_0322R/20230515/jobNum_0/tqm.pkl   to   /media/rich/bigSSD/analysis_data/face_rhythm/mouse_0322R/dFoF_and_tqm/20230515/jobNum_0/tqm.pkl\n"
     ]
    },
    {
     "name": "stderr",
     "output_type": "stream",
     "text": [
      "0.00b [00:00, ?b/s]\n"
     ]
    },
    {
     "name": "stdout",
     "output_type": "stream",
     "text": [
      "downloading /n/data1/hms/neurobio/sabatini/rich/analysis/make_dFoF_and_tqm/mouse_0322R/20230515/jobNum_0/params.json   to   /media/rich/bigSSD/analysis_data/face_rhythm/mouse_0322R/dFoF_and_tqm/20230515/jobNum_0/params.json\n"
     ]
    },
    {
     "name": "stderr",
     "output_type": "stream",
     "text": [
      "0.00b [00:00, ?b/s]"
     ]
    },
    {
     "name": "stdout",
     "output_type": "stream",
     "text": [
      "downloading /n/data1/hms/neurobio/sabatini/rich/analysis/make_dFoF_and_tqm/mouse_0322R/20230515/jobNum_0/dFoF.npy   to   /media/rich/bigSSD/analysis_data/face_rhythm/mouse_0322R/dFoF_and_tqm/20230515/jobNum_0/dFoF.npy\n"
     ]
    },
    {
     "name": "stderr",
     "output_type": "stream",
     "text": [
      "\n",
      "0.00b [00:18, ?b/s]\n"
     ]
    },
    {
     "name": "stdout",
     "output_type": "stream",
     "text": [
      "downloading /n/data1/hms/neurobio/sabatini/rich/analysis/make_dFoF_and_tqm/mouse_0322R/20230515/jobNum_0/print_log_15082375.log   to   /media/rich/bigSSD/analysis_data/face_rhythm/mouse_0322R/dFoF_and_tqm/20230515/jobNum_0/print_log_15082375.log\n"
     ]
    },
    {
     "name": "stderr",
     "output_type": "stream",
     "text": [
      "0.00b [00:00, ?b/s]\n"
     ]
    },
    {
     "name": "stdout",
     "output_type": "stream",
     "text": [
      "downloading /n/data1/hms/neurobio/sabatini/rich/analysis/make_dFoF_and_tqm/mouse_0322R/20230515/jobNum_0/make_dFoF_and_tqm.py   to   /media/rich/bigSSD/analysis_data/face_rhythm/mouse_0322R/dFoF_and_tqm/20230515/jobNum_0/make_dFoF_and_tqm.py\n"
     ]
    },
    {
     "name": "stderr",
     "output_type": "stream",
     "text": [
      "0.00b [00:00, ?b/s]\n"
     ]
    },
    {
     "name": "stdout",
     "output_type": "stream",
     "text": [
      "downloading /n/data1/hms/neurobio/sabatini/rich/analysis/make_dFoF_and_tqm/mouse_0322R/20230515/jobNum_0/iscell_tqm.npy   to   /media/rich/bigSSD/analysis_data/face_rhythm/mouse_0322R/dFoF_and_tqm/20230515/jobNum_0/iscell_tqm.npy\n"
     ]
    },
    {
     "name": "stderr",
     "output_type": "stream",
     "text": [
      "0.00b [00:00, ?b/s]\n"
     ]
    },
    {
     "name": "stdout",
     "output_type": "stream",
     "text": [
      "downloading /n/data1/hms/neurobio/sabatini/rich/analysis/make_dFoF_and_tqm/mouse_0322R/20230515/jobNum_0/sbatch_config.sh   to   /media/rich/bigSSD/analysis_data/face_rhythm/mouse_0322R/dFoF_and_tqm/20230515/jobNum_0/sbatch_config.sh\n"
     ]
    },
    {
     "name": "stderr",
     "output_type": "stream",
     "text": [
      "0.00b [00:00, ?b/s]\n"
     ]
    },
    {
     "name": "stdout",
     "output_type": "stream",
     "text": [
      "downloading /n/data1/hms/neurobio/sabatini/rich/analysis/make_dFoF_and_tqm/mouse_0322R/20230515/make_dFoF_and_tqm.py   to   /media/rich/bigSSD/analysis_data/face_rhythm/mouse_0322R/dFoF_and_tqm/20230515/make_dFoF_and_tqm.py\n"
     ]
    },
    {
     "name": "stderr",
     "output_type": "stream",
     "text": [
      "0.00b [00:00, ?b/s]\n"
     ]
    },
    {
     "name": "stdout",
     "output_type": "stream",
     "text": [
      "downloading /n/data1/hms/neurobio/sabatini/rich/analysis/make_dFoF_and_tqm/mouse_0322R/20230515/dispatcher.py   to   /media/rich/bigSSD/analysis_data/face_rhythm/mouse_0322R/dFoF_and_tqm/20230515/dispatcher.py\n"
     ]
    },
    {
     "name": "stderr",
     "output_type": "stream",
     "text": [
      "0.00b [00:00, ?b/s]\n"
     ]
    },
    {
     "name": "stdout",
     "output_type": "stream",
     "text": [
      "downloading /n/data1/hms/neurobio/sabatini/rich/analysis/make_dFoF_and_tqm/mouse_0322R/20230515/notes.txt   to   /media/rich/bigSSD/analysis_data/face_rhythm/mouse_0322R/dFoF_and_tqm/20230515/notes.txt\n"
     ]
    },
    {
     "name": "stderr",
     "output_type": "stream",
     "text": [
      "0.00b [00:00, ?b/s]\n"
     ]
    },
    {
     "name": "stdout",
     "output_type": "stream",
     "text": [
      "downloading /n/data1/hms/neurobio/sabatini/rich/analysis/make_dFoF_and_tqm/mouse_0322R/20230430/parameters_batch.json   to   /media/rich/bigSSD/analysis_data/face_rhythm/mouse_0322R/dFoF_and_tqm/20230430/parameters_batch.json\n"
     ]
    },
    {
     "name": "stderr",
     "output_type": "stream",
     "text": [
      "0.00b [00:00, ?b/s]\n"
     ]
    },
    {
     "name": "stdout",
     "output_type": "stream",
     "text": [
      "downloading /n/data1/hms/neurobio/sabatini/rich/analysis/make_dFoF_and_tqm/mouse_0322R/20230430/jobNum_0/tqm.pkl   to   /media/rich/bigSSD/analysis_data/face_rhythm/mouse_0322R/dFoF_and_tqm/20230430/jobNum_0/tqm.pkl\n"
     ]
    },
    {
     "name": "stderr",
     "output_type": "stream",
     "text": [
      "0.00b [00:00, ?b/s]\n"
     ]
    },
    {
     "name": "stdout",
     "output_type": "stream",
     "text": [
      "downloading /n/data1/hms/neurobio/sabatini/rich/analysis/make_dFoF_and_tqm/mouse_0322R/20230430/jobNum_0/params.json   to   /media/rich/bigSSD/analysis_data/face_rhythm/mouse_0322R/dFoF_and_tqm/20230430/jobNum_0/params.json\n"
     ]
    },
    {
     "name": "stderr",
     "output_type": "stream",
     "text": [
      "0.00b [00:00, ?b/s]\n"
     ]
    },
    {
     "name": "stdout",
     "output_type": "stream",
     "text": [
      "downloading /n/data1/hms/neurobio/sabatini/rich/analysis/make_dFoF_and_tqm/mouse_0322R/20230430/jobNum_0/dFoF.npy   to   /media/rich/bigSSD/analysis_data/face_rhythm/mouse_0322R/dFoF_and_tqm/20230430/jobNum_0/dFoF.npy\n"
     ]
    },
    {
     "name": "stderr",
     "output_type": "stream",
     "text": [
      "0.00b [00:23, ?b/s]\n"
     ]
    },
    {
     "name": "stdout",
     "output_type": "stream",
     "text": [
      "downloading /n/data1/hms/neurobio/sabatini/rich/analysis/make_dFoF_and_tqm/mouse_0322R/20230430/jobNum_0/print_log_15082217.log   to   /media/rich/bigSSD/analysis_data/face_rhythm/mouse_0322R/dFoF_and_tqm/20230430/jobNum_0/print_log_15082217.log\n"
     ]
    },
    {
     "name": "stderr",
     "output_type": "stream",
     "text": [
      "0.00b [00:00, ?b/s]\n"
     ]
    },
    {
     "name": "stdout",
     "output_type": "stream",
     "text": [
      "downloading /n/data1/hms/neurobio/sabatini/rich/analysis/make_dFoF_and_tqm/mouse_0322R/20230430/jobNum_0/make_dFoF_and_tqm.py   to   /media/rich/bigSSD/analysis_data/face_rhythm/mouse_0322R/dFoF_and_tqm/20230430/jobNum_0/make_dFoF_and_tqm.py\n"
     ]
    },
    {
     "name": "stderr",
     "output_type": "stream",
     "text": [
      "0.00b [00:00, ?b/s]\n"
     ]
    },
    {
     "name": "stdout",
     "output_type": "stream",
     "text": [
      "downloading /n/data1/hms/neurobio/sabatini/rich/analysis/make_dFoF_and_tqm/mouse_0322R/20230430/jobNum_0/iscell_tqm.npy   to   /media/rich/bigSSD/analysis_data/face_rhythm/mouse_0322R/dFoF_and_tqm/20230430/jobNum_0/iscell_tqm.npy\n"
     ]
    },
    {
     "name": "stderr",
     "output_type": "stream",
     "text": [
      "0.00b [00:00, ?b/s]\n"
     ]
    },
    {
     "name": "stdout",
     "output_type": "stream",
     "text": [
      "downloading /n/data1/hms/neurobio/sabatini/rich/analysis/make_dFoF_and_tqm/mouse_0322R/20230430/jobNum_0/sbatch_config.sh   to   /media/rich/bigSSD/analysis_data/face_rhythm/mouse_0322R/dFoF_and_tqm/20230430/jobNum_0/sbatch_config.sh\n"
     ]
    },
    {
     "name": "stderr",
     "output_type": "stream",
     "text": [
      "0.00b [00:00, ?b/s]\n"
     ]
    },
    {
     "name": "stdout",
     "output_type": "stream",
     "text": [
      "downloading /n/data1/hms/neurobio/sabatini/rich/analysis/make_dFoF_and_tqm/mouse_0322R/20230430/make_dFoF_and_tqm.py   to   /media/rich/bigSSD/analysis_data/face_rhythm/mouse_0322R/dFoF_and_tqm/20230430/make_dFoF_and_tqm.py\n"
     ]
    },
    {
     "name": "stderr",
     "output_type": "stream",
     "text": [
      "0.00b [00:00, ?b/s]\n"
     ]
    },
    {
     "name": "stdout",
     "output_type": "stream",
     "text": [
      "downloading /n/data1/hms/neurobio/sabatini/rich/analysis/make_dFoF_and_tqm/mouse_0322R/20230430/dispatcher.py   to   /media/rich/bigSSD/analysis_data/face_rhythm/mouse_0322R/dFoF_and_tqm/20230430/dispatcher.py\n"
     ]
    },
    {
     "name": "stderr",
     "output_type": "stream",
     "text": [
      "0.00b [00:00, ?b/s]\n"
     ]
    },
    {
     "name": "stdout",
     "output_type": "stream",
     "text": [
      "downloading /n/data1/hms/neurobio/sabatini/rich/analysis/make_dFoF_and_tqm/mouse_0322R/20230430/notes.txt   to   /media/rich/bigSSD/analysis_data/face_rhythm/mouse_0322R/dFoF_and_tqm/20230430/notes.txt\n"
     ]
    },
    {
     "name": "stderr",
     "output_type": "stream",
     "text": [
      "0.00b [00:00, ?b/s]\n"
     ]
    },
    {
     "name": "stdout",
     "output_type": "stream",
     "text": [
      "downloading /n/data1/hms/neurobio/sabatini/rich/analysis/make_dFoF_and_tqm/mouse_0322R/20230512/parameters_batch.json   to   /media/rich/bigSSD/analysis_data/face_rhythm/mouse_0322R/dFoF_and_tqm/20230512/parameters_batch.json\n"
     ]
    },
    {
     "name": "stderr",
     "output_type": "stream",
     "text": [
      "0.00b [00:00, ?b/s]\n"
     ]
    },
    {
     "name": "stdout",
     "output_type": "stream",
     "text": [
      "downloading /n/data1/hms/neurobio/sabatini/rich/analysis/make_dFoF_and_tqm/mouse_0322R/20230512/jobNum_0/tqm.pkl   to   /media/rich/bigSSD/analysis_data/face_rhythm/mouse_0322R/dFoF_and_tqm/20230512/jobNum_0/tqm.pkl\n"
     ]
    },
    {
     "name": "stderr",
     "output_type": "stream",
     "text": [
      "0.00b [00:00, ?b/s]\n"
     ]
    },
    {
     "name": "stdout",
     "output_type": "stream",
     "text": [
      "downloading /n/data1/hms/neurobio/sabatini/rich/analysis/make_dFoF_and_tqm/mouse_0322R/20230512/jobNum_0/params.json   to   /media/rich/bigSSD/analysis_data/face_rhythm/mouse_0322R/dFoF_and_tqm/20230512/jobNum_0/params.json\n"
     ]
    },
    {
     "name": "stderr",
     "output_type": "stream",
     "text": [
      "0.00b [00:00, ?b/s]\n"
     ]
    },
    {
     "name": "stdout",
     "output_type": "stream",
     "text": [
      "downloading /n/data1/hms/neurobio/sabatini/rich/analysis/make_dFoF_and_tqm/mouse_0322R/20230512/jobNum_0/dFoF.npy   to   /media/rich/bigSSD/analysis_data/face_rhythm/mouse_0322R/dFoF_and_tqm/20230512/jobNum_0/dFoF.npy\n"
     ]
    },
    {
     "name": "stderr",
     "output_type": "stream",
     "text": [
      "0.00b [00:21, ?b/s]\n"
     ]
    },
    {
     "name": "stdout",
     "output_type": "stream",
     "text": [
      "downloading /n/data1/hms/neurobio/sabatini/rich/analysis/make_dFoF_and_tqm/mouse_0322R/20230512/jobNum_0/print_log_15082350.log   to   /media/rich/bigSSD/analysis_data/face_rhythm/mouse_0322R/dFoF_and_tqm/20230512/jobNum_0/print_log_15082350.log\n"
     ]
    },
    {
     "name": "stderr",
     "output_type": "stream",
     "text": [
      "0.00b [00:00, ?b/s]\n"
     ]
    },
    {
     "name": "stdout",
     "output_type": "stream",
     "text": [
      "downloading /n/data1/hms/neurobio/sabatini/rich/analysis/make_dFoF_and_tqm/mouse_0322R/20230512/jobNum_0/make_dFoF_and_tqm.py   to   /media/rich/bigSSD/analysis_data/face_rhythm/mouse_0322R/dFoF_and_tqm/20230512/jobNum_0/make_dFoF_and_tqm.py\n"
     ]
    },
    {
     "name": "stderr",
     "output_type": "stream",
     "text": [
      "0.00b [00:00, ?b/s]\n"
     ]
    },
    {
     "name": "stdout",
     "output_type": "stream",
     "text": [
      "downloading /n/data1/hms/neurobio/sabatini/rich/analysis/make_dFoF_and_tqm/mouse_0322R/20230512/jobNum_0/iscell_tqm.npy   to   /media/rich/bigSSD/analysis_data/face_rhythm/mouse_0322R/dFoF_and_tqm/20230512/jobNum_0/iscell_tqm.npy\n"
     ]
    },
    {
     "name": "stderr",
     "output_type": "stream",
     "text": [
      "0.00b [00:00, ?b/s]\n"
     ]
    },
    {
     "name": "stdout",
     "output_type": "stream",
     "text": [
      "downloading /n/data1/hms/neurobio/sabatini/rich/analysis/make_dFoF_and_tqm/mouse_0322R/20230512/jobNum_0/sbatch_config.sh   to   /media/rich/bigSSD/analysis_data/face_rhythm/mouse_0322R/dFoF_and_tqm/20230512/jobNum_0/sbatch_config.sh\n"
     ]
    },
    {
     "name": "stderr",
     "output_type": "stream",
     "text": [
      "0.00b [00:00, ?b/s]\n"
     ]
    },
    {
     "name": "stdout",
     "output_type": "stream",
     "text": [
      "downloading /n/data1/hms/neurobio/sabatini/rich/analysis/make_dFoF_and_tqm/mouse_0322R/20230512/make_dFoF_and_tqm.py   to   /media/rich/bigSSD/analysis_data/face_rhythm/mouse_0322R/dFoF_and_tqm/20230512/make_dFoF_and_tqm.py\n"
     ]
    },
    {
     "name": "stderr",
     "output_type": "stream",
     "text": [
      "0.00b [00:00, ?b/s]\n"
     ]
    },
    {
     "name": "stdout",
     "output_type": "stream",
     "text": [
      "downloading /n/data1/hms/neurobio/sabatini/rich/analysis/make_dFoF_and_tqm/mouse_0322R/20230512/dispatcher.py   to   /media/rich/bigSSD/analysis_data/face_rhythm/mouse_0322R/dFoF_and_tqm/20230512/dispatcher.py\n"
     ]
    },
    {
     "name": "stderr",
     "output_type": "stream",
     "text": [
      "0.00b [00:00, ?b/s]\n"
     ]
    },
    {
     "name": "stdout",
     "output_type": "stream",
     "text": [
      "downloading /n/data1/hms/neurobio/sabatini/rich/analysis/make_dFoF_and_tqm/mouse_0322R/20230512/notes.txt   to   /media/rich/bigSSD/analysis_data/face_rhythm/mouse_0322R/dFoF_and_tqm/20230512/notes.txt\n"
     ]
    },
    {
     "name": "stderr",
     "output_type": "stream",
     "text": [
      "0.00b [00:00, ?b/s]\n"
     ]
    },
    {
     "name": "stdout",
     "output_type": "stream",
     "text": [
      "downloading /n/data1/hms/neurobio/sabatini/rich/analysis/make_dFoF_and_tqm/mouse_0322R/20230511/parameters_batch.json   to   /media/rich/bigSSD/analysis_data/face_rhythm/mouse_0322R/dFoF_and_tqm/20230511/parameters_batch.json\n"
     ]
    },
    {
     "name": "stderr",
     "output_type": "stream",
     "text": [
      "0.00b [00:00, ?b/s]\n"
     ]
    },
    {
     "name": "stdout",
     "output_type": "stream",
     "text": [
      "downloading /n/data1/hms/neurobio/sabatini/rich/analysis/make_dFoF_and_tqm/mouse_0322R/20230511/jobNum_0/print_log_15082340.log   to   /media/rich/bigSSD/analysis_data/face_rhythm/mouse_0322R/dFoF_and_tqm/20230511/jobNum_0/print_log_15082340.log\n"
     ]
    },
    {
     "name": "stderr",
     "output_type": "stream",
     "text": [
      "0.00b [00:00, ?b/s]\n"
     ]
    },
    {
     "name": "stdout",
     "output_type": "stream",
     "text": [
      "downloading /n/data1/hms/neurobio/sabatini/rich/analysis/make_dFoF_and_tqm/mouse_0322R/20230511/jobNum_0/tqm.pkl   to   /media/rich/bigSSD/analysis_data/face_rhythm/mouse_0322R/dFoF_and_tqm/20230511/jobNum_0/tqm.pkl\n"
     ]
    },
    {
     "name": "stderr",
     "output_type": "stream",
     "text": [
      "0.00b [00:00, ?b/s]\n"
     ]
    },
    {
     "name": "stdout",
     "output_type": "stream",
     "text": [
      "downloading /n/data1/hms/neurobio/sabatini/rich/analysis/make_dFoF_and_tqm/mouse_0322R/20230511/jobNum_0/params.json   to   /media/rich/bigSSD/analysis_data/face_rhythm/mouse_0322R/dFoF_and_tqm/20230511/jobNum_0/params.json\n"
     ]
    },
    {
     "name": "stderr",
     "output_type": "stream",
     "text": [
      "0.00b [00:00, ?b/s]\n"
     ]
    },
    {
     "name": "stdout",
     "output_type": "stream",
     "text": [
      "downloading /n/data1/hms/neurobio/sabatini/rich/analysis/make_dFoF_and_tqm/mouse_0322R/20230511/jobNum_0/dFoF.npy   to   /media/rich/bigSSD/analysis_data/face_rhythm/mouse_0322R/dFoF_and_tqm/20230511/jobNum_0/dFoF.npy\n"
     ]
    },
    {
     "name": "stderr",
     "output_type": "stream",
     "text": [
      "0.00b [00:19, ?b/s]\n"
     ]
    },
    {
     "name": "stdout",
     "output_type": "stream",
     "text": [
      "downloading /n/data1/hms/neurobio/sabatini/rich/analysis/make_dFoF_and_tqm/mouse_0322R/20230511/jobNum_0/make_dFoF_and_tqm.py   to   /media/rich/bigSSD/analysis_data/face_rhythm/mouse_0322R/dFoF_and_tqm/20230511/jobNum_0/make_dFoF_and_tqm.py\n"
     ]
    },
    {
     "name": "stderr",
     "output_type": "stream",
     "text": [
      "0.00b [00:00, ?b/s]\n"
     ]
    },
    {
     "name": "stdout",
     "output_type": "stream",
     "text": [
      "downloading /n/data1/hms/neurobio/sabatini/rich/analysis/make_dFoF_and_tqm/mouse_0322R/20230511/jobNum_0/iscell_tqm.npy   to   /media/rich/bigSSD/analysis_data/face_rhythm/mouse_0322R/dFoF_and_tqm/20230511/jobNum_0/iscell_tqm.npy\n"
     ]
    },
    {
     "name": "stderr",
     "output_type": "stream",
     "text": [
      "0.00b [00:00, ?b/s]\n"
     ]
    },
    {
     "name": "stdout",
     "output_type": "stream",
     "text": [
      "downloading /n/data1/hms/neurobio/sabatini/rich/analysis/make_dFoF_and_tqm/mouse_0322R/20230511/jobNum_0/sbatch_config.sh   to   /media/rich/bigSSD/analysis_data/face_rhythm/mouse_0322R/dFoF_and_tqm/20230511/jobNum_0/sbatch_config.sh\n"
     ]
    },
    {
     "name": "stderr",
     "output_type": "stream",
     "text": [
      "0.00b [00:00, ?b/s]\n"
     ]
    },
    {
     "name": "stdout",
     "output_type": "stream",
     "text": [
      "downloading /n/data1/hms/neurobio/sabatini/rich/analysis/make_dFoF_and_tqm/mouse_0322R/20230511/make_dFoF_and_tqm.py   to   /media/rich/bigSSD/analysis_data/face_rhythm/mouse_0322R/dFoF_and_tqm/20230511/make_dFoF_and_tqm.py\n"
     ]
    },
    {
     "name": "stderr",
     "output_type": "stream",
     "text": [
      "0.00b [00:00, ?b/s]\n"
     ]
    },
    {
     "name": "stdout",
     "output_type": "stream",
     "text": [
      "downloading /n/data1/hms/neurobio/sabatini/rich/analysis/make_dFoF_and_tqm/mouse_0322R/20230511/dispatcher.py   to   /media/rich/bigSSD/analysis_data/face_rhythm/mouse_0322R/dFoF_and_tqm/20230511/dispatcher.py\n"
     ]
    },
    {
     "name": "stderr",
     "output_type": "stream",
     "text": [
      "0.00b [00:00, ?b/s]\n"
     ]
    },
    {
     "name": "stdout",
     "output_type": "stream",
     "text": [
      "downloading /n/data1/hms/neurobio/sabatini/rich/analysis/make_dFoF_and_tqm/mouse_0322R/20230511/notes.txt   to   /media/rich/bigSSD/analysis_data/face_rhythm/mouse_0322R/dFoF_and_tqm/20230511/notes.txt\n"
     ]
    },
    {
     "name": "stderr",
     "output_type": "stream",
     "text": [
      "0.00b [00:00, ?b/s]\n"
     ]
    },
    {
     "name": "stdout",
     "output_type": "stream",
     "text": [
      "downloading /n/data1/hms/neurobio/sabatini/rich/analysis/make_dFoF_and_tqm/mouse_0322R/20230514/parameters_batch.json   to   /media/rich/bigSSD/analysis_data/face_rhythm/mouse_0322R/dFoF_and_tqm/20230514/parameters_batch.json\n"
     ]
    },
    {
     "name": "stderr",
     "output_type": "stream",
     "text": [
      "0.00b [00:00, ?b/s]\n"
     ]
    },
    {
     "name": "stdout",
     "output_type": "stream",
     "text": [
      "downloading /n/data1/hms/neurobio/sabatini/rich/analysis/make_dFoF_and_tqm/mouse_0322R/20230514/jobNum_0/tqm.pkl   to   /media/rich/bigSSD/analysis_data/face_rhythm/mouse_0322R/dFoF_and_tqm/20230514/jobNum_0/tqm.pkl\n"
     ]
    },
    {
     "name": "stderr",
     "output_type": "stream",
     "text": [
      "0.00b [00:00, ?b/s]\n"
     ]
    },
    {
     "name": "stdout",
     "output_type": "stream",
     "text": [
      "downloading /n/data1/hms/neurobio/sabatini/rich/analysis/make_dFoF_and_tqm/mouse_0322R/20230514/jobNum_0/params.json   to   /media/rich/bigSSD/analysis_data/face_rhythm/mouse_0322R/dFoF_and_tqm/20230514/jobNum_0/params.json\n"
     ]
    },
    {
     "name": "stderr",
     "output_type": "stream",
     "text": [
      "0.00b [00:00, ?b/s]\n"
     ]
    },
    {
     "name": "stdout",
     "output_type": "stream",
     "text": [
      "downloading /n/data1/hms/neurobio/sabatini/rich/analysis/make_dFoF_and_tqm/mouse_0322R/20230514/jobNum_0/dFoF.npy   to   /media/rich/bigSSD/analysis_data/face_rhythm/mouse_0322R/dFoF_and_tqm/20230514/jobNum_0/dFoF.npy\n"
     ]
    },
    {
     "name": "stderr",
     "output_type": "stream",
     "text": [
      "0.00b [00:18, ?b/s]\n"
     ]
    },
    {
     "name": "stdout",
     "output_type": "stream",
     "text": [
      "downloading /n/data1/hms/neurobio/sabatini/rich/analysis/make_dFoF_and_tqm/mouse_0322R/20230514/jobNum_0/make_dFoF_and_tqm.py   to   /media/rich/bigSSD/analysis_data/face_rhythm/mouse_0322R/dFoF_and_tqm/20230514/jobNum_0/make_dFoF_and_tqm.py\n"
     ]
    },
    {
     "name": "stderr",
     "output_type": "stream",
     "text": [
      "0.00b [00:00, ?b/s]\n"
     ]
    },
    {
     "name": "stdout",
     "output_type": "stream",
     "text": [
      "downloading /n/data1/hms/neurobio/sabatini/rich/analysis/make_dFoF_and_tqm/mouse_0322R/20230514/jobNum_0/iscell_tqm.npy   to   /media/rich/bigSSD/analysis_data/face_rhythm/mouse_0322R/dFoF_and_tqm/20230514/jobNum_0/iscell_tqm.npy\n"
     ]
    },
    {
     "name": "stderr",
     "output_type": "stream",
     "text": [
      "0.00b [00:00, ?b/s]\n"
     ]
    },
    {
     "name": "stdout",
     "output_type": "stream",
     "text": [
      "downloading /n/data1/hms/neurobio/sabatini/rich/analysis/make_dFoF_and_tqm/mouse_0322R/20230514/jobNum_0/sbatch_config.sh   to   /media/rich/bigSSD/analysis_data/face_rhythm/mouse_0322R/dFoF_and_tqm/20230514/jobNum_0/sbatch_config.sh\n"
     ]
    },
    {
     "name": "stderr",
     "output_type": "stream",
     "text": [
      "0.00b [00:00, ?b/s]\n"
     ]
    },
    {
     "name": "stdout",
     "output_type": "stream",
     "text": [
      "downloading /n/data1/hms/neurobio/sabatini/rich/analysis/make_dFoF_and_tqm/mouse_0322R/20230514/jobNum_0/print_log_15082366.log   to   /media/rich/bigSSD/analysis_data/face_rhythm/mouse_0322R/dFoF_and_tqm/20230514/jobNum_0/print_log_15082366.log\n"
     ]
    },
    {
     "name": "stderr",
     "output_type": "stream",
     "text": [
      "0.00b [00:00, ?b/s]\n"
     ]
    },
    {
     "name": "stdout",
     "output_type": "stream",
     "text": [
      "downloading /n/data1/hms/neurobio/sabatini/rich/analysis/make_dFoF_and_tqm/mouse_0322R/20230514/make_dFoF_and_tqm.py   to   /media/rich/bigSSD/analysis_data/face_rhythm/mouse_0322R/dFoF_and_tqm/20230514/make_dFoF_and_tqm.py\n"
     ]
    },
    {
     "name": "stderr",
     "output_type": "stream",
     "text": [
      "0.00b [00:00, ?b/s]\n"
     ]
    },
    {
     "name": "stdout",
     "output_type": "stream",
     "text": [
      "downloading /n/data1/hms/neurobio/sabatini/rich/analysis/make_dFoF_and_tqm/mouse_0322R/20230514/dispatcher.py   to   /media/rich/bigSSD/analysis_data/face_rhythm/mouse_0322R/dFoF_and_tqm/20230514/dispatcher.py\n"
     ]
    },
    {
     "name": "stderr",
     "output_type": "stream",
     "text": [
      "0.00b [00:00, ?b/s]\n"
     ]
    },
    {
     "name": "stdout",
     "output_type": "stream",
     "text": [
      "downloading /n/data1/hms/neurobio/sabatini/rich/analysis/make_dFoF_and_tqm/mouse_0322R/20230514/notes.txt   to   /media/rich/bigSSD/analysis_data/face_rhythm/mouse_0322R/dFoF_and_tqm/20230514/notes.txt\n"
     ]
    },
    {
     "name": "stderr",
     "output_type": "stream",
     "text": [
      "0.00b [00:00, ?b/s]\n"
     ]
    },
    {
     "name": "stdout",
     "output_type": "stream",
     "text": [
      "downloading /n/data1/hms/neurobio/sabatini/rich/analysis/make_dFoF_and_tqm/mouse_0322R/20230504/parameters_batch.json   to   /media/rich/bigSSD/analysis_data/face_rhythm/mouse_0322R/dFoF_and_tqm/20230504/parameters_batch.json\n"
     ]
    },
    {
     "name": "stderr",
     "output_type": "stream",
     "text": [
      "0.00b [00:00, ?b/s]\n"
     ]
    },
    {
     "name": "stdout",
     "output_type": "stream",
     "text": [
      "downloading /n/data1/hms/neurobio/sabatini/rich/analysis/make_dFoF_and_tqm/mouse_0322R/20230504/jobNum_0/tqm.pkl   to   /media/rich/bigSSD/analysis_data/face_rhythm/mouse_0322R/dFoF_and_tqm/20230504/jobNum_0/tqm.pkl\n"
     ]
    },
    {
     "name": "stderr",
     "output_type": "stream",
     "text": [
      "0.00b [00:00, ?b/s]\n"
     ]
    },
    {
     "name": "stdout",
     "output_type": "stream",
     "text": [
      "downloading /n/data1/hms/neurobio/sabatini/rich/analysis/make_dFoF_and_tqm/mouse_0322R/20230504/jobNum_0/params.json   to   /media/rich/bigSSD/analysis_data/face_rhythm/mouse_0322R/dFoF_and_tqm/20230504/jobNum_0/params.json\n"
     ]
    },
    {
     "name": "stderr",
     "output_type": "stream",
     "text": [
      "0.00b [00:00, ?b/s]\n"
     ]
    },
    {
     "name": "stdout",
     "output_type": "stream",
     "text": [
      "downloading /n/data1/hms/neurobio/sabatini/rich/analysis/make_dFoF_and_tqm/mouse_0322R/20230504/jobNum_0/dFoF.npy   to   /media/rich/bigSSD/analysis_data/face_rhythm/mouse_0322R/dFoF_and_tqm/20230504/jobNum_0/dFoF.npy\n"
     ]
    },
    {
     "name": "stderr",
     "output_type": "stream",
     "text": [
      "0.00b [00:25, ?b/s]\n"
     ]
    },
    {
     "name": "stdout",
     "output_type": "stream",
     "text": [
      "downloading /n/data1/hms/neurobio/sabatini/rich/analysis/make_dFoF_and_tqm/mouse_0322R/20230504/jobNum_0/print_log_15082246.log   to   /media/rich/bigSSD/analysis_data/face_rhythm/mouse_0322R/dFoF_and_tqm/20230504/jobNum_0/print_log_15082246.log\n"
     ]
    },
    {
     "name": "stderr",
     "output_type": "stream",
     "text": [
      "0.00b [00:00, ?b/s]\n"
     ]
    },
    {
     "name": "stdout",
     "output_type": "stream",
     "text": [
      "downloading /n/data1/hms/neurobio/sabatini/rich/analysis/make_dFoF_and_tqm/mouse_0322R/20230504/jobNum_0/make_dFoF_and_tqm.py   to   /media/rich/bigSSD/analysis_data/face_rhythm/mouse_0322R/dFoF_and_tqm/20230504/jobNum_0/make_dFoF_and_tqm.py\n"
     ]
    },
    {
     "name": "stderr",
     "output_type": "stream",
     "text": [
      "0.00b [00:00, ?b/s]\n"
     ]
    },
    {
     "name": "stdout",
     "output_type": "stream",
     "text": [
      "downloading /n/data1/hms/neurobio/sabatini/rich/analysis/make_dFoF_and_tqm/mouse_0322R/20230504/jobNum_0/iscell_tqm.npy   to   /media/rich/bigSSD/analysis_data/face_rhythm/mouse_0322R/dFoF_and_tqm/20230504/jobNum_0/iscell_tqm.npy\n"
     ]
    },
    {
     "name": "stderr",
     "output_type": "stream",
     "text": [
      "0.00b [00:00, ?b/s]\n"
     ]
    },
    {
     "name": "stdout",
     "output_type": "stream",
     "text": [
      "downloading /n/data1/hms/neurobio/sabatini/rich/analysis/make_dFoF_and_tqm/mouse_0322R/20230504/jobNum_0/sbatch_config.sh   to   /media/rich/bigSSD/analysis_data/face_rhythm/mouse_0322R/dFoF_and_tqm/20230504/jobNum_0/sbatch_config.sh\n"
     ]
    },
    {
     "name": "stderr",
     "output_type": "stream",
     "text": [
      "0.00b [00:00, ?b/s]\n"
     ]
    },
    {
     "name": "stdout",
     "output_type": "stream",
     "text": [
      "downloading /n/data1/hms/neurobio/sabatini/rich/analysis/make_dFoF_and_tqm/mouse_0322R/20230504/make_dFoF_and_tqm.py   to   /media/rich/bigSSD/analysis_data/face_rhythm/mouse_0322R/dFoF_and_tqm/20230504/make_dFoF_and_tqm.py\n"
     ]
    },
    {
     "name": "stderr",
     "output_type": "stream",
     "text": [
      "0.00b [00:00, ?b/s]\n"
     ]
    },
    {
     "name": "stdout",
     "output_type": "stream",
     "text": [
      "downloading /n/data1/hms/neurobio/sabatini/rich/analysis/make_dFoF_and_tqm/mouse_0322R/20230504/dispatcher.py   to   /media/rich/bigSSD/analysis_data/face_rhythm/mouse_0322R/dFoF_and_tqm/20230504/dispatcher.py\n"
     ]
    },
    {
     "name": "stderr",
     "output_type": "stream",
     "text": [
      "0.00b [00:00, ?b/s]\n"
     ]
    },
    {
     "name": "stdout",
     "output_type": "stream",
     "text": [
      "downloading /n/data1/hms/neurobio/sabatini/rich/analysis/make_dFoF_and_tqm/mouse_0322R/20230504/notes.txt   to   /media/rich/bigSSD/analysis_data/face_rhythm/mouse_0322R/dFoF_and_tqm/20230504/notes.txt\n"
     ]
    },
    {
     "name": "stderr",
     "output_type": "stream",
     "text": [
      "0.00b [00:00, ?b/s]\n"
     ]
    },
    {
     "name": "stdout",
     "output_type": "stream",
     "text": [
      "downloading /n/data1/hms/neurobio/sabatini/rich/analysis/make_dFoF_and_tqm/mouse_0322R/20230507/parameters_batch.json   to   /media/rich/bigSSD/analysis_data/face_rhythm/mouse_0322R/dFoF_and_tqm/20230507/parameters_batch.json\n"
     ]
    },
    {
     "name": "stderr",
     "output_type": "stream",
     "text": [
      "0.00b [00:00, ?b/s]\n"
     ]
    },
    {
     "name": "stdout",
     "output_type": "stream",
     "text": [
      "downloading /n/data1/hms/neurobio/sabatini/rich/analysis/make_dFoF_and_tqm/mouse_0322R/20230507/jobNum_0/tqm.pkl   to   /media/rich/bigSSD/analysis_data/face_rhythm/mouse_0322R/dFoF_and_tqm/20230507/jobNum_0/tqm.pkl\n"
     ]
    },
    {
     "name": "stderr",
     "output_type": "stream",
     "text": [
      "0.00b [00:00, ?b/s]\n"
     ]
    },
    {
     "name": "stdout",
     "output_type": "stream",
     "text": [
      "downloading /n/data1/hms/neurobio/sabatini/rich/analysis/make_dFoF_and_tqm/mouse_0322R/20230507/jobNum_0/params.json   to   /media/rich/bigSSD/analysis_data/face_rhythm/mouse_0322R/dFoF_and_tqm/20230507/jobNum_0/params.json\n"
     ]
    },
    {
     "name": "stderr",
     "output_type": "stream",
     "text": [
      "0.00b [00:00, ?b/s]\n"
     ]
    },
    {
     "name": "stdout",
     "output_type": "stream",
     "text": [
      "downloading /n/data1/hms/neurobio/sabatini/rich/analysis/make_dFoF_and_tqm/mouse_0322R/20230507/jobNum_0/dFoF.npy   to   /media/rich/bigSSD/analysis_data/face_rhythm/mouse_0322R/dFoF_and_tqm/20230507/jobNum_0/dFoF.npy\n"
     ]
    },
    {
     "name": "stderr",
     "output_type": "stream",
     "text": [
      "0.00b [00:22, ?b/s]\n"
     ]
    },
    {
     "name": "stdout",
     "output_type": "stream",
     "text": [
      "downloading /n/data1/hms/neurobio/sabatini/rich/analysis/make_dFoF_and_tqm/mouse_0322R/20230507/jobNum_0/print_log_15082322.log   to   /media/rich/bigSSD/analysis_data/face_rhythm/mouse_0322R/dFoF_and_tqm/20230507/jobNum_0/print_log_15082322.log\n"
     ]
    },
    {
     "name": "stderr",
     "output_type": "stream",
     "text": [
      "0.00b [00:00, ?b/s]\n"
     ]
    },
    {
     "name": "stdout",
     "output_type": "stream",
     "text": [
      "downloading /n/data1/hms/neurobio/sabatini/rich/analysis/make_dFoF_and_tqm/mouse_0322R/20230507/jobNum_0/make_dFoF_and_tqm.py   to   /media/rich/bigSSD/analysis_data/face_rhythm/mouse_0322R/dFoF_and_tqm/20230507/jobNum_0/make_dFoF_and_tqm.py\n"
     ]
    },
    {
     "name": "stderr",
     "output_type": "stream",
     "text": [
      "0.00b [00:00, ?b/s]\n"
     ]
    },
    {
     "name": "stdout",
     "output_type": "stream",
     "text": [
      "downloading /n/data1/hms/neurobio/sabatini/rich/analysis/make_dFoF_and_tqm/mouse_0322R/20230507/jobNum_0/iscell_tqm.npy   to   /media/rich/bigSSD/analysis_data/face_rhythm/mouse_0322R/dFoF_and_tqm/20230507/jobNum_0/iscell_tqm.npy\n"
     ]
    },
    {
     "name": "stderr",
     "output_type": "stream",
     "text": [
      "0.00b [00:00, ?b/s]\n"
     ]
    },
    {
     "name": "stdout",
     "output_type": "stream",
     "text": [
      "downloading /n/data1/hms/neurobio/sabatini/rich/analysis/make_dFoF_and_tqm/mouse_0322R/20230507/jobNum_0/sbatch_config.sh   to   /media/rich/bigSSD/analysis_data/face_rhythm/mouse_0322R/dFoF_and_tqm/20230507/jobNum_0/sbatch_config.sh\n"
     ]
    },
    {
     "name": "stderr",
     "output_type": "stream",
     "text": [
      "0.00b [00:00, ?b/s]\n"
     ]
    },
    {
     "name": "stdout",
     "output_type": "stream",
     "text": [
      "downloading /n/data1/hms/neurobio/sabatini/rich/analysis/make_dFoF_and_tqm/mouse_0322R/20230507/make_dFoF_and_tqm.py   to   /media/rich/bigSSD/analysis_data/face_rhythm/mouse_0322R/dFoF_and_tqm/20230507/make_dFoF_and_tqm.py\n"
     ]
    },
    {
     "name": "stderr",
     "output_type": "stream",
     "text": [
      "0.00b [00:00, ?b/s]\n"
     ]
    },
    {
     "name": "stdout",
     "output_type": "stream",
     "text": [
      "downloading /n/data1/hms/neurobio/sabatini/rich/analysis/make_dFoF_and_tqm/mouse_0322R/20230507/dispatcher.py   to   /media/rich/bigSSD/analysis_data/face_rhythm/mouse_0322R/dFoF_and_tqm/20230507/dispatcher.py\n"
     ]
    },
    {
     "name": "stderr",
     "output_type": "stream",
     "text": [
      "0.00b [00:00, ?b/s]\n"
     ]
    },
    {
     "name": "stdout",
     "output_type": "stream",
     "text": [
      "downloading /n/data1/hms/neurobio/sabatini/rich/analysis/make_dFoF_and_tqm/mouse_0322R/20230507/notes.txt   to   /media/rich/bigSSD/analysis_data/face_rhythm/mouse_0322R/dFoF_and_tqm/20230507/notes.txt\n"
     ]
    },
    {
     "name": "stderr",
     "output_type": "stream",
     "text": [
      "0.00b [00:00, ?b/s]\n"
     ]
    },
    {
     "name": "stdout",
     "output_type": "stream",
     "text": [
      "downloading /n/data1/hms/neurobio/sabatini/rich/analysis/make_dFoF_and_tqm/mouse_0322R/20230513/parameters_batch.json   to   /media/rich/bigSSD/analysis_data/face_rhythm/mouse_0322R/dFoF_and_tqm/20230513/parameters_batch.json\n"
     ]
    },
    {
     "name": "stderr",
     "output_type": "stream",
     "text": [
      "0.00b [00:00, ?b/s]\n"
     ]
    },
    {
     "name": "stdout",
     "output_type": "stream",
     "text": [
      "downloading /n/data1/hms/neurobio/sabatini/rich/analysis/make_dFoF_and_tqm/mouse_0322R/20230513/jobNum_0/tqm.pkl   to   /media/rich/bigSSD/analysis_data/face_rhythm/mouse_0322R/dFoF_and_tqm/20230513/jobNum_0/tqm.pkl\n"
     ]
    },
    {
     "name": "stderr",
     "output_type": "stream",
     "text": [
      "0.00b [00:00, ?b/s]\n"
     ]
    },
    {
     "name": "stdout",
     "output_type": "stream",
     "text": [
      "downloading /n/data1/hms/neurobio/sabatini/rich/analysis/make_dFoF_and_tqm/mouse_0322R/20230513/jobNum_0/params.json   to   /media/rich/bigSSD/analysis_data/face_rhythm/mouse_0322R/dFoF_and_tqm/20230513/jobNum_0/params.json\n"
     ]
    },
    {
     "name": "stderr",
     "output_type": "stream",
     "text": [
      "0.00b [00:00, ?b/s]\n"
     ]
    },
    {
     "name": "stdout",
     "output_type": "stream",
     "text": [
      "downloading /n/data1/hms/neurobio/sabatini/rich/analysis/make_dFoF_and_tqm/mouse_0322R/20230513/jobNum_0/dFoF.npy   to   /media/rich/bigSSD/analysis_data/face_rhythm/mouse_0322R/dFoF_and_tqm/20230513/jobNum_0/dFoF.npy\n"
     ]
    },
    {
     "name": "stderr",
     "output_type": "stream",
     "text": [
      "0.00b [00:24, ?b/s]\n"
     ]
    },
    {
     "name": "stdout",
     "output_type": "stream",
     "text": [
      "downloading /n/data1/hms/neurobio/sabatini/rich/analysis/make_dFoF_and_tqm/mouse_0322R/20230513/jobNum_0/make_dFoF_and_tqm.py   to   /media/rich/bigSSD/analysis_data/face_rhythm/mouse_0322R/dFoF_and_tqm/20230513/jobNum_0/make_dFoF_and_tqm.py\n"
     ]
    },
    {
     "name": "stderr",
     "output_type": "stream",
     "text": [
      "0.00b [00:00, ?b/s]\n"
     ]
    },
    {
     "name": "stdout",
     "output_type": "stream",
     "text": [
      "downloading /n/data1/hms/neurobio/sabatini/rich/analysis/make_dFoF_and_tqm/mouse_0322R/20230513/jobNum_0/iscell_tqm.npy   to   /media/rich/bigSSD/analysis_data/face_rhythm/mouse_0322R/dFoF_and_tqm/20230513/jobNum_0/iscell_tqm.npy\n"
     ]
    },
    {
     "name": "stderr",
     "output_type": "stream",
     "text": [
      "0.00b [00:00, ?b/s]\n"
     ]
    },
    {
     "name": "stdout",
     "output_type": "stream",
     "text": [
      "downloading /n/data1/hms/neurobio/sabatini/rich/analysis/make_dFoF_and_tqm/mouse_0322R/20230513/jobNum_0/sbatch_config.sh   to   /media/rich/bigSSD/analysis_data/face_rhythm/mouse_0322R/dFoF_and_tqm/20230513/jobNum_0/sbatch_config.sh\n"
     ]
    },
    {
     "name": "stderr",
     "output_type": "stream",
     "text": [
      "0.00b [00:00, ?b/s]\n"
     ]
    },
    {
     "name": "stdout",
     "output_type": "stream",
     "text": [
      "downloading /n/data1/hms/neurobio/sabatini/rich/analysis/make_dFoF_and_tqm/mouse_0322R/20230513/jobNum_0/print_log_15082358.log   to   /media/rich/bigSSD/analysis_data/face_rhythm/mouse_0322R/dFoF_and_tqm/20230513/jobNum_0/print_log_15082358.log\n"
     ]
    },
    {
     "name": "stderr",
     "output_type": "stream",
     "text": [
      "0.00b [00:00, ?b/s]\n"
     ]
    },
    {
     "name": "stdout",
     "output_type": "stream",
     "text": [
      "downloading /n/data1/hms/neurobio/sabatini/rich/analysis/make_dFoF_and_tqm/mouse_0322R/20230513/make_dFoF_and_tqm.py   to   /media/rich/bigSSD/analysis_data/face_rhythm/mouse_0322R/dFoF_and_tqm/20230513/make_dFoF_and_tqm.py\n"
     ]
    },
    {
     "name": "stderr",
     "output_type": "stream",
     "text": [
      "0.00b [00:00, ?b/s]\n"
     ]
    },
    {
     "name": "stdout",
     "output_type": "stream",
     "text": [
      "downloading /n/data1/hms/neurobio/sabatini/rich/analysis/make_dFoF_and_tqm/mouse_0322R/20230513/dispatcher.py   to   /media/rich/bigSSD/analysis_data/face_rhythm/mouse_0322R/dFoF_and_tqm/20230513/dispatcher.py\n"
     ]
    },
    {
     "name": "stderr",
     "output_type": "stream",
     "text": [
      "0.00b [00:00, ?b/s]\n"
     ]
    },
    {
     "name": "stdout",
     "output_type": "stream",
     "text": [
      "downloading /n/data1/hms/neurobio/sabatini/rich/analysis/make_dFoF_and_tqm/mouse_0322R/20230513/notes.txt   to   /media/rich/bigSSD/analysis_data/face_rhythm/mouse_0322R/dFoF_and_tqm/20230513/notes.txt\n"
     ]
    },
    {
     "name": "stderr",
     "output_type": "stream",
     "text": [
      "0.00b [00:00, ?b/s]\n"
     ]
    },
    {
     "name": "stdout",
     "output_type": "stream",
     "text": [
      "downloading /n/data1/hms/neurobio/sabatini/rich/analysis/make_dFoF_and_tqm/mouse_0322R/20230525/parameters_batch.json   to   /media/rich/bigSSD/analysis_data/face_rhythm/mouse_0322R/dFoF_and_tqm/20230525/parameters_batch.json\n"
     ]
    },
    {
     "name": "stderr",
     "output_type": "stream",
     "text": [
      "0.00b [00:01, ?b/s]\n"
     ]
    },
    {
     "name": "stdout",
     "output_type": "stream",
     "text": [
      "downloading /n/data1/hms/neurobio/sabatini/rich/analysis/make_dFoF_and_tqm/mouse_0322R/20230525/jobNum_0/tqm.pkl   to   /media/rich/bigSSD/analysis_data/face_rhythm/mouse_0322R/dFoF_and_tqm/20230525/jobNum_0/tqm.pkl\n"
     ]
    },
    {
     "name": "stderr",
     "output_type": "stream",
     "text": [
      "0.00b [00:00, ?b/s]\n"
     ]
    },
    {
     "name": "stdout",
     "output_type": "stream",
     "text": [
      "downloading /n/data1/hms/neurobio/sabatini/rich/analysis/make_dFoF_and_tqm/mouse_0322R/20230525/jobNum_0/params.json   to   /media/rich/bigSSD/analysis_data/face_rhythm/mouse_0322R/dFoF_and_tqm/20230525/jobNum_0/params.json\n"
     ]
    },
    {
     "name": "stderr",
     "output_type": "stream",
     "text": [
      "0.00b [00:00, ?b/s]\n"
     ]
    },
    {
     "name": "stdout",
     "output_type": "stream",
     "text": [
      "downloading /n/data1/hms/neurobio/sabatini/rich/analysis/make_dFoF_and_tqm/mouse_0322R/20230525/jobNum_0/dFoF.npy   to   /media/rich/bigSSD/analysis_data/face_rhythm/mouse_0322R/dFoF_and_tqm/20230525/jobNum_0/dFoF.npy\n"
     ]
    },
    {
     "name": "stderr",
     "output_type": "stream",
     "text": [
      "0.00b [00:20, ?b/s]\n"
     ]
    },
    {
     "name": "stdout",
     "output_type": "stream",
     "text": [
      "downloading /n/data1/hms/neurobio/sabatini/rich/analysis/make_dFoF_and_tqm/mouse_0322R/20230525/jobNum_0/print_log_15082454.log   to   /media/rich/bigSSD/analysis_data/face_rhythm/mouse_0322R/dFoF_and_tqm/20230525/jobNum_0/print_log_15082454.log\n"
     ]
    },
    {
     "name": "stderr",
     "output_type": "stream",
     "text": [
      "0.00b [00:00, ?b/s]\n"
     ]
    },
    {
     "name": "stdout",
     "output_type": "stream",
     "text": [
      "downloading /n/data1/hms/neurobio/sabatini/rich/analysis/make_dFoF_and_tqm/mouse_0322R/20230525/jobNum_0/make_dFoF_and_tqm.py   to   /media/rich/bigSSD/analysis_data/face_rhythm/mouse_0322R/dFoF_and_tqm/20230525/jobNum_0/make_dFoF_and_tqm.py\n"
     ]
    },
    {
     "name": "stderr",
     "output_type": "stream",
     "text": [
      "0.00b [00:00, ?b/s]\n"
     ]
    },
    {
     "name": "stdout",
     "output_type": "stream",
     "text": [
      "downloading /n/data1/hms/neurobio/sabatini/rich/analysis/make_dFoF_and_tqm/mouse_0322R/20230525/jobNum_0/iscell_tqm.npy   to   /media/rich/bigSSD/analysis_data/face_rhythm/mouse_0322R/dFoF_and_tqm/20230525/jobNum_0/iscell_tqm.npy\n"
     ]
    },
    {
     "name": "stderr",
     "output_type": "stream",
     "text": [
      "0.00b [00:00, ?b/s]\n"
     ]
    },
    {
     "name": "stdout",
     "output_type": "stream",
     "text": [
      "downloading /n/data1/hms/neurobio/sabatini/rich/analysis/make_dFoF_and_tqm/mouse_0322R/20230525/jobNum_0/sbatch_config.sh   to   /media/rich/bigSSD/analysis_data/face_rhythm/mouse_0322R/dFoF_and_tqm/20230525/jobNum_0/sbatch_config.sh\n"
     ]
    },
    {
     "name": "stderr",
     "output_type": "stream",
     "text": [
      "0.00b [00:00, ?b/s]\n"
     ]
    },
    {
     "name": "stdout",
     "output_type": "stream",
     "text": [
      "downloading /n/data1/hms/neurobio/sabatini/rich/analysis/make_dFoF_and_tqm/mouse_0322R/20230525/make_dFoF_and_tqm.py   to   /media/rich/bigSSD/analysis_data/face_rhythm/mouse_0322R/dFoF_and_tqm/20230525/make_dFoF_and_tqm.py\n"
     ]
    },
    {
     "name": "stderr",
     "output_type": "stream",
     "text": [
      "0.00b [00:00, ?b/s]\n"
     ]
    },
    {
     "name": "stdout",
     "output_type": "stream",
     "text": [
      "downloading /n/data1/hms/neurobio/sabatini/rich/analysis/make_dFoF_and_tqm/mouse_0322R/20230525/dispatcher.py   to   /media/rich/bigSSD/analysis_data/face_rhythm/mouse_0322R/dFoF_and_tqm/20230525/dispatcher.py\n"
     ]
    },
    {
     "name": "stderr",
     "output_type": "stream",
     "text": [
      "0.00b [00:00, ?b/s]\n"
     ]
    },
    {
     "name": "stdout",
     "output_type": "stream",
     "text": [
      "downloading /n/data1/hms/neurobio/sabatini/rich/analysis/make_dFoF_and_tqm/mouse_0322R/20230525/notes.txt   to   /media/rich/bigSSD/analysis_data/face_rhythm/mouse_0322R/dFoF_and_tqm/20230525/notes.txt\n"
     ]
    },
    {
     "name": "stderr",
     "output_type": "stream",
     "text": [
      "0.00b [00:00, ?b/s]\n"
     ]
    },
    {
     "name": "stdout",
     "output_type": "stream",
     "text": [
      "downloading /n/data1/hms/neurobio/sabatini/rich/analysis/make_dFoF_and_tqm/mouse_0322R/20230522/parameters_batch.json   to   /media/rich/bigSSD/analysis_data/face_rhythm/mouse_0322R/dFoF_and_tqm/20230522/parameters_batch.json\n"
     ]
    },
    {
     "name": "stderr",
     "output_type": "stream",
     "text": [
      "0.00b [00:00, ?b/s]\n"
     ]
    },
    {
     "name": "stdout",
     "output_type": "stream",
     "text": [
      "downloading /n/data1/hms/neurobio/sabatini/rich/analysis/make_dFoF_and_tqm/mouse_0322R/20230522/jobNum_0/tqm.pkl   to   /media/rich/bigSSD/analysis_data/face_rhythm/mouse_0322R/dFoF_and_tqm/20230522/jobNum_0/tqm.pkl\n"
     ]
    },
    {
     "name": "stderr",
     "output_type": "stream",
     "text": [
      "0.00b [00:00, ?b/s]\n"
     ]
    },
    {
     "name": "stdout",
     "output_type": "stream",
     "text": [
      "downloading /n/data1/hms/neurobio/sabatini/rich/analysis/make_dFoF_and_tqm/mouse_0322R/20230522/jobNum_0/params.json   to   /media/rich/bigSSD/analysis_data/face_rhythm/mouse_0322R/dFoF_and_tqm/20230522/jobNum_0/params.json\n"
     ]
    },
    {
     "name": "stderr",
     "output_type": "stream",
     "text": [
      "0.00b [00:00, ?b/s]\n"
     ]
    },
    {
     "name": "stdout",
     "output_type": "stream",
     "text": [
      "downloading /n/data1/hms/neurobio/sabatini/rich/analysis/make_dFoF_and_tqm/mouse_0322R/20230522/jobNum_0/dFoF.npy   to   /media/rich/bigSSD/analysis_data/face_rhythm/mouse_0322R/dFoF_and_tqm/20230522/jobNum_0/dFoF.npy\n"
     ]
    },
    {
     "name": "stderr",
     "output_type": "stream",
     "text": [
      "0.00b [00:20, ?b/s]\n"
     ]
    },
    {
     "name": "stdout",
     "output_type": "stream",
     "text": [
      "downloading /n/data1/hms/neurobio/sabatini/rich/analysis/make_dFoF_and_tqm/mouse_0322R/20230522/jobNum_0/make_dFoF_and_tqm.py   to   /media/rich/bigSSD/analysis_data/face_rhythm/mouse_0322R/dFoF_and_tqm/20230522/jobNum_0/make_dFoF_and_tqm.py\n"
     ]
    },
    {
     "name": "stderr",
     "output_type": "stream",
     "text": [
      "0.00b [00:00, ?b/s]\n"
     ]
    },
    {
     "name": "stdout",
     "output_type": "stream",
     "text": [
      "downloading /n/data1/hms/neurobio/sabatini/rich/analysis/make_dFoF_and_tqm/mouse_0322R/20230522/jobNum_0/iscell_tqm.npy   to   /media/rich/bigSSD/analysis_data/face_rhythm/mouse_0322R/dFoF_and_tqm/20230522/jobNum_0/iscell_tqm.npy\n"
     ]
    },
    {
     "name": "stderr",
     "output_type": "stream",
     "text": [
      "0.00b [00:00, ?b/s]\n"
     ]
    },
    {
     "name": "stdout",
     "output_type": "stream",
     "text": [
      "downloading /n/data1/hms/neurobio/sabatini/rich/analysis/make_dFoF_and_tqm/mouse_0322R/20230522/jobNum_0/print_log_15082420.log   to   /media/rich/bigSSD/analysis_data/face_rhythm/mouse_0322R/dFoF_and_tqm/20230522/jobNum_0/print_log_15082420.log\n"
     ]
    },
    {
     "name": "stderr",
     "output_type": "stream",
     "text": [
      "0.00b [00:00, ?b/s]\n"
     ]
    },
    {
     "name": "stdout",
     "output_type": "stream",
     "text": [
      "downloading /n/data1/hms/neurobio/sabatini/rich/analysis/make_dFoF_and_tqm/mouse_0322R/20230522/jobNum_0/sbatch_config.sh   to   /media/rich/bigSSD/analysis_data/face_rhythm/mouse_0322R/dFoF_and_tqm/20230522/jobNum_0/sbatch_config.sh\n"
     ]
    },
    {
     "name": "stderr",
     "output_type": "stream",
     "text": [
      "0.00b [00:00, ?b/s]\n"
     ]
    },
    {
     "name": "stdout",
     "output_type": "stream",
     "text": [
      "downloading /n/data1/hms/neurobio/sabatini/rich/analysis/make_dFoF_and_tqm/mouse_0322R/20230522/make_dFoF_and_tqm.py   to   /media/rich/bigSSD/analysis_data/face_rhythm/mouse_0322R/dFoF_and_tqm/20230522/make_dFoF_and_tqm.py\n"
     ]
    },
    {
     "name": "stderr",
     "output_type": "stream",
     "text": [
      "0.00b [00:00, ?b/s]\n"
     ]
    },
    {
     "name": "stdout",
     "output_type": "stream",
     "text": [
      "downloading /n/data1/hms/neurobio/sabatini/rich/analysis/make_dFoF_and_tqm/mouse_0322R/20230522/dispatcher.py   to   /media/rich/bigSSD/analysis_data/face_rhythm/mouse_0322R/dFoF_and_tqm/20230522/dispatcher.py\n"
     ]
    },
    {
     "name": "stderr",
     "output_type": "stream",
     "text": [
      "0.00b [00:00, ?b/s]\n"
     ]
    },
    {
     "name": "stdout",
     "output_type": "stream",
     "text": [
      "downloading /n/data1/hms/neurobio/sabatini/rich/analysis/make_dFoF_and_tqm/mouse_0322R/20230522/notes.txt   to   /media/rich/bigSSD/analysis_data/face_rhythm/mouse_0322R/dFoF_and_tqm/20230522/notes.txt\n"
     ]
    },
    {
     "name": "stderr",
     "output_type": "stream",
     "text": [
      "0.00b [00:00, ?b/s]\n"
     ]
    },
    {
     "name": "stdout",
     "output_type": "stream",
     "text": [
      "downloading /n/data1/hms/neurobio/sabatini/rich/analysis/make_dFoF_and_tqm/mouse_0322R/20230526/parameters_batch.json   to   /media/rich/bigSSD/analysis_data/face_rhythm/mouse_0322R/dFoF_and_tqm/20230526/parameters_batch.json\n"
     ]
    },
    {
     "name": "stderr",
     "output_type": "stream",
     "text": [
      "0.00b [00:00, ?b/s]\n"
     ]
    },
    {
     "name": "stdout",
     "output_type": "stream",
     "text": [
      "downloading /n/data1/hms/neurobio/sabatini/rich/analysis/make_dFoF_and_tqm/mouse_0322R/20230526/jobNum_0/tqm.pkl   to   /media/rich/bigSSD/analysis_data/face_rhythm/mouse_0322R/dFoF_and_tqm/20230526/jobNum_0/tqm.pkl\n"
     ]
    },
    {
     "name": "stderr",
     "output_type": "stream",
     "text": [
      "0.00b [00:00, ?b/s]\n"
     ]
    },
    {
     "name": "stdout",
     "output_type": "stream",
     "text": [
      "downloading /n/data1/hms/neurobio/sabatini/rich/analysis/make_dFoF_and_tqm/mouse_0322R/20230526/jobNum_0/params.json   to   /media/rich/bigSSD/analysis_data/face_rhythm/mouse_0322R/dFoF_and_tqm/20230526/jobNum_0/params.json\n"
     ]
    },
    {
     "name": "stderr",
     "output_type": "stream",
     "text": [
      "0.00b [00:00, ?b/s]\n"
     ]
    },
    {
     "name": "stdout",
     "output_type": "stream",
     "text": [
      "downloading /n/data1/hms/neurobio/sabatini/rich/analysis/make_dFoF_and_tqm/mouse_0322R/20230526/jobNum_0/dFoF.npy   to   /media/rich/bigSSD/analysis_data/face_rhythm/mouse_0322R/dFoF_and_tqm/20230526/jobNum_0/dFoF.npy\n"
     ]
    },
    {
     "name": "stderr",
     "output_type": "stream",
     "text": [
      "0.00b [00:19, ?b/s]\n"
     ]
    },
    {
     "name": "stdout",
     "output_type": "stream",
     "text": [
      "downloading /n/data1/hms/neurobio/sabatini/rich/analysis/make_dFoF_and_tqm/mouse_0322R/20230526/jobNum_0/print_log_15082464.log   to   /media/rich/bigSSD/analysis_data/face_rhythm/mouse_0322R/dFoF_and_tqm/20230526/jobNum_0/print_log_15082464.log\n"
     ]
    },
    {
     "name": "stderr",
     "output_type": "stream",
     "text": [
      "0.00b [00:00, ?b/s]\n"
     ]
    },
    {
     "name": "stdout",
     "output_type": "stream",
     "text": [
      "downloading /n/data1/hms/neurobio/sabatini/rich/analysis/make_dFoF_and_tqm/mouse_0322R/20230526/jobNum_0/make_dFoF_and_tqm.py   to   /media/rich/bigSSD/analysis_data/face_rhythm/mouse_0322R/dFoF_and_tqm/20230526/jobNum_0/make_dFoF_and_tqm.py\n"
     ]
    },
    {
     "name": "stderr",
     "output_type": "stream",
     "text": [
      "0.00b [00:00, ?b/s]\n"
     ]
    },
    {
     "name": "stdout",
     "output_type": "stream",
     "text": [
      "downloading /n/data1/hms/neurobio/sabatini/rich/analysis/make_dFoF_and_tqm/mouse_0322R/20230526/jobNum_0/iscell_tqm.npy   to   /media/rich/bigSSD/analysis_data/face_rhythm/mouse_0322R/dFoF_and_tqm/20230526/jobNum_0/iscell_tqm.npy\n"
     ]
    },
    {
     "name": "stderr",
     "output_type": "stream",
     "text": [
      "0.00b [00:00, ?b/s]\n"
     ]
    },
    {
     "name": "stdout",
     "output_type": "stream",
     "text": [
      "downloading /n/data1/hms/neurobio/sabatini/rich/analysis/make_dFoF_and_tqm/mouse_0322R/20230526/jobNum_0/sbatch_config.sh   to   /media/rich/bigSSD/analysis_data/face_rhythm/mouse_0322R/dFoF_and_tqm/20230526/jobNum_0/sbatch_config.sh\n"
     ]
    },
    {
     "name": "stderr",
     "output_type": "stream",
     "text": [
      "0.00b [00:00, ?b/s]\n"
     ]
    },
    {
     "name": "stdout",
     "output_type": "stream",
     "text": [
      "downloading /n/data1/hms/neurobio/sabatini/rich/analysis/make_dFoF_and_tqm/mouse_0322R/20230526/make_dFoF_and_tqm.py   to   /media/rich/bigSSD/analysis_data/face_rhythm/mouse_0322R/dFoF_and_tqm/20230526/make_dFoF_and_tqm.py\n"
     ]
    },
    {
     "name": "stderr",
     "output_type": "stream",
     "text": [
      "0.00b [00:00, ?b/s]\n"
     ]
    },
    {
     "name": "stdout",
     "output_type": "stream",
     "text": [
      "downloading /n/data1/hms/neurobio/sabatini/rich/analysis/make_dFoF_and_tqm/mouse_0322R/20230526/dispatcher.py   to   /media/rich/bigSSD/analysis_data/face_rhythm/mouse_0322R/dFoF_and_tqm/20230526/dispatcher.py\n"
     ]
    },
    {
     "name": "stderr",
     "output_type": "stream",
     "text": [
      "0.00b [00:00, ?b/s]\n"
     ]
    },
    {
     "name": "stdout",
     "output_type": "stream",
     "text": [
      "downloading /n/data1/hms/neurobio/sabatini/rich/analysis/make_dFoF_and_tqm/mouse_0322R/20230526/notes.txt   to   /media/rich/bigSSD/analysis_data/face_rhythm/mouse_0322R/dFoF_and_tqm/20230526/notes.txt\n"
     ]
    },
    {
     "name": "stderr",
     "output_type": "stream",
     "text": [
      "0.00b [00:00, ?b/s]\n"
     ]
    },
    {
     "name": "stdout",
     "output_type": "stream",
     "text": [
      "downloading /n/data1/hms/neurobio/sabatini/rich/analysis/make_dFoF_and_tqm/mouse_0322R/20230424/parameters_batch.json   to   /media/rich/bigSSD/analysis_data/face_rhythm/mouse_0322R/dFoF_and_tqm/20230424/parameters_batch.json\n"
     ]
    },
    {
     "name": "stderr",
     "output_type": "stream",
     "text": [
      "0.00b [00:00, ?b/s]\n"
     ]
    },
    {
     "name": "stdout",
     "output_type": "stream",
     "text": [
      "downloading /n/data1/hms/neurobio/sabatini/rich/analysis/make_dFoF_and_tqm/mouse_0322R/20230424/jobNum_0/tqm.pkl   to   /media/rich/bigSSD/analysis_data/face_rhythm/mouse_0322R/dFoF_and_tqm/20230424/jobNum_0/tqm.pkl\n"
     ]
    },
    {
     "name": "stderr",
     "output_type": "stream",
     "text": [
      "0.00b [00:00, ?b/s]\n"
     ]
    },
    {
     "name": "stdout",
     "output_type": "stream",
     "text": [
      "downloading /n/data1/hms/neurobio/sabatini/rich/analysis/make_dFoF_and_tqm/mouse_0322R/20230424/jobNum_0/params.json   to   /media/rich/bigSSD/analysis_data/face_rhythm/mouse_0322R/dFoF_and_tqm/20230424/jobNum_0/params.json\n"
     ]
    },
    {
     "name": "stderr",
     "output_type": "stream",
     "text": [
      "0.00b [00:00, ?b/s]\n"
     ]
    },
    {
     "name": "stdout",
     "output_type": "stream",
     "text": [
      "downloading /n/data1/hms/neurobio/sabatini/rich/analysis/make_dFoF_and_tqm/mouse_0322R/20230424/jobNum_0/dFoF.npy   to   /media/rich/bigSSD/analysis_data/face_rhythm/mouse_0322R/dFoF_and_tqm/20230424/jobNum_0/dFoF.npy\n"
     ]
    },
    {
     "name": "stderr",
     "output_type": "stream",
     "text": [
      "0.00b [00:26, ?b/s]\n"
     ]
    },
    {
     "name": "stdout",
     "output_type": "stream",
     "text": [
      "downloading /n/data1/hms/neurobio/sabatini/rich/analysis/make_dFoF_and_tqm/mouse_0322R/20230424/jobNum_0/make_dFoF_and_tqm.py   to   /media/rich/bigSSD/analysis_data/face_rhythm/mouse_0322R/dFoF_and_tqm/20230424/jobNum_0/make_dFoF_and_tqm.py\n"
     ]
    },
    {
     "name": "stderr",
     "output_type": "stream",
     "text": [
      "0.00b [00:00, ?b/s]\n"
     ]
    },
    {
     "name": "stdout",
     "output_type": "stream",
     "text": [
      "downloading /n/data1/hms/neurobio/sabatini/rich/analysis/make_dFoF_and_tqm/mouse_0322R/20230424/jobNum_0/iscell_tqm.npy   to   /media/rich/bigSSD/analysis_data/face_rhythm/mouse_0322R/dFoF_and_tqm/20230424/jobNum_0/iscell_tqm.npy\n"
     ]
    },
    {
     "name": "stderr",
     "output_type": "stream",
     "text": [
      "0.00b [00:00, ?b/s]\n"
     ]
    },
    {
     "name": "stdout",
     "output_type": "stream",
     "text": [
      "downloading /n/data1/hms/neurobio/sabatini/rich/analysis/make_dFoF_and_tqm/mouse_0322R/20230424/jobNum_0/sbatch_config.sh   to   /media/rich/bigSSD/analysis_data/face_rhythm/mouse_0322R/dFoF_and_tqm/20230424/jobNum_0/sbatch_config.sh\n"
     ]
    },
    {
     "name": "stderr",
     "output_type": "stream",
     "text": [
      "0.00b [00:00, ?b/s]\n"
     ]
    },
    {
     "name": "stdout",
     "output_type": "stream",
     "text": [
      "downloading /n/data1/hms/neurobio/sabatini/rich/analysis/make_dFoF_and_tqm/mouse_0322R/20230424/jobNum_0/print_log_15082167.log   to   /media/rich/bigSSD/analysis_data/face_rhythm/mouse_0322R/dFoF_and_tqm/20230424/jobNum_0/print_log_15082167.log\n"
     ]
    },
    {
     "name": "stderr",
     "output_type": "stream",
     "text": [
      "0.00b [00:00, ?b/s]\n"
     ]
    },
    {
     "name": "stdout",
     "output_type": "stream",
     "text": [
      "downloading /n/data1/hms/neurobio/sabatini/rich/analysis/make_dFoF_and_tqm/mouse_0322R/20230424/make_dFoF_and_tqm.py   to   /media/rich/bigSSD/analysis_data/face_rhythm/mouse_0322R/dFoF_and_tqm/20230424/make_dFoF_and_tqm.py\n"
     ]
    },
    {
     "name": "stderr",
     "output_type": "stream",
     "text": [
      "0.00b [00:00, ?b/s]\n"
     ]
    },
    {
     "name": "stdout",
     "output_type": "stream",
     "text": [
      "downloading /n/data1/hms/neurobio/sabatini/rich/analysis/make_dFoF_and_tqm/mouse_0322R/20230424/dispatcher.py   to   /media/rich/bigSSD/analysis_data/face_rhythm/mouse_0322R/dFoF_and_tqm/20230424/dispatcher.py\n"
     ]
    },
    {
     "name": "stderr",
     "output_type": "stream",
     "text": [
      "0.00b [00:00, ?b/s]\n"
     ]
    },
    {
     "name": "stdout",
     "output_type": "stream",
     "text": [
      "downloading /n/data1/hms/neurobio/sabatini/rich/analysis/make_dFoF_and_tqm/mouse_0322R/20230424/notes.txt   to   /media/rich/bigSSD/analysis_data/face_rhythm/mouse_0322R/dFoF_and_tqm/20230424/notes.txt\n"
     ]
    },
    {
     "name": "stderr",
     "output_type": "stream",
     "text": [
      "0.00b [00:00, ?b/s]\n"
     ]
    },
    {
     "name": "stdout",
     "output_type": "stream",
     "text": [
      "downloading /n/data1/hms/neurobio/sabatini/rich/analysis/make_dFoF_and_tqm/mouse_0322R/20230426/parameters_batch.json   to   /media/rich/bigSSD/analysis_data/face_rhythm/mouse_0322R/dFoF_and_tqm/20230426/parameters_batch.json\n"
     ]
    },
    {
     "name": "stderr",
     "output_type": "stream",
     "text": [
      "0.00b [00:00, ?b/s]\n"
     ]
    },
    {
     "name": "stdout",
     "output_type": "stream",
     "text": [
      "downloading /n/data1/hms/neurobio/sabatini/rich/analysis/make_dFoF_and_tqm/mouse_0322R/20230426/jobNum_0/tqm.pkl   to   /media/rich/bigSSD/analysis_data/face_rhythm/mouse_0322R/dFoF_and_tqm/20230426/jobNum_0/tqm.pkl\n"
     ]
    },
    {
     "name": "stderr",
     "output_type": "stream",
     "text": [
      "0.00b [00:00, ?b/s]\n"
     ]
    },
    {
     "name": "stdout",
     "output_type": "stream",
     "text": [
      "downloading /n/data1/hms/neurobio/sabatini/rich/analysis/make_dFoF_and_tqm/mouse_0322R/20230426/jobNum_0/params.json   to   /media/rich/bigSSD/analysis_data/face_rhythm/mouse_0322R/dFoF_and_tqm/20230426/jobNum_0/params.json\n"
     ]
    },
    {
     "name": "stderr",
     "output_type": "stream",
     "text": [
      "0.00b [00:00, ?b/s]\n"
     ]
    },
    {
     "name": "stdout",
     "output_type": "stream",
     "text": [
      "downloading /n/data1/hms/neurobio/sabatini/rich/analysis/make_dFoF_and_tqm/mouse_0322R/20230426/jobNum_0/dFoF.npy   to   /media/rich/bigSSD/analysis_data/face_rhythm/mouse_0322R/dFoF_and_tqm/20230426/jobNum_0/dFoF.npy\n"
     ]
    },
    {
     "name": "stderr",
     "output_type": "stream",
     "text": [
      "0.00b [00:20, ?b/s]\n"
     ]
    },
    {
     "name": "stdout",
     "output_type": "stream",
     "text": [
      "downloading /n/data1/hms/neurobio/sabatini/rich/analysis/make_dFoF_and_tqm/mouse_0322R/20230426/jobNum_0/make_dFoF_and_tqm.py   to   /media/rich/bigSSD/analysis_data/face_rhythm/mouse_0322R/dFoF_and_tqm/20230426/jobNum_0/make_dFoF_and_tqm.py\n"
     ]
    },
    {
     "name": "stderr",
     "output_type": "stream",
     "text": [
      "0.00b [00:00, ?b/s]\n"
     ]
    },
    {
     "name": "stdout",
     "output_type": "stream",
     "text": [
      "downloading /n/data1/hms/neurobio/sabatini/rich/analysis/make_dFoF_and_tqm/mouse_0322R/20230426/jobNum_0/iscell_tqm.npy   to   /media/rich/bigSSD/analysis_data/face_rhythm/mouse_0322R/dFoF_and_tqm/20230426/jobNum_0/iscell_tqm.npy\n"
     ]
    },
    {
     "name": "stderr",
     "output_type": "stream",
     "text": [
      "0.00b [00:00, ?b/s]\n"
     ]
    },
    {
     "name": "stdout",
     "output_type": "stream",
     "text": [
      "downloading /n/data1/hms/neurobio/sabatini/rich/analysis/make_dFoF_and_tqm/mouse_0322R/20230426/jobNum_0/sbatch_config.sh   to   /media/rich/bigSSD/analysis_data/face_rhythm/mouse_0322R/dFoF_and_tqm/20230426/jobNum_0/sbatch_config.sh\n"
     ]
    },
    {
     "name": "stderr",
     "output_type": "stream",
     "text": [
      "0.00b [00:00, ?b/s]\n"
     ]
    },
    {
     "name": "stdout",
     "output_type": "stream",
     "text": [
      "downloading /n/data1/hms/neurobio/sabatini/rich/analysis/make_dFoF_and_tqm/mouse_0322R/20230426/jobNum_0/print_log_15082190.log   to   /media/rich/bigSSD/analysis_data/face_rhythm/mouse_0322R/dFoF_and_tqm/20230426/jobNum_0/print_log_15082190.log\n"
     ]
    },
    {
     "name": "stderr",
     "output_type": "stream",
     "text": [
      "0.00b [00:00, ?b/s]\n"
     ]
    },
    {
     "name": "stdout",
     "output_type": "stream",
     "text": [
      "downloading /n/data1/hms/neurobio/sabatini/rich/analysis/make_dFoF_and_tqm/mouse_0322R/20230426/make_dFoF_and_tqm.py   to   /media/rich/bigSSD/analysis_data/face_rhythm/mouse_0322R/dFoF_and_tqm/20230426/make_dFoF_and_tqm.py\n"
     ]
    },
    {
     "name": "stderr",
     "output_type": "stream",
     "text": [
      "0.00b [00:00, ?b/s]\n"
     ]
    },
    {
     "name": "stdout",
     "output_type": "stream",
     "text": [
      "downloading /n/data1/hms/neurobio/sabatini/rich/analysis/make_dFoF_and_tqm/mouse_0322R/20230426/dispatcher.py   to   /media/rich/bigSSD/analysis_data/face_rhythm/mouse_0322R/dFoF_and_tqm/20230426/dispatcher.py\n"
     ]
    },
    {
     "name": "stderr",
     "output_type": "stream",
     "text": [
      "0.00b [00:00, ?b/s]\n"
     ]
    },
    {
     "name": "stdout",
     "output_type": "stream",
     "text": [
      "downloading /n/data1/hms/neurobio/sabatini/rich/analysis/make_dFoF_and_tqm/mouse_0322R/20230426/notes.txt   to   /media/rich/bigSSD/analysis_data/face_rhythm/mouse_0322R/dFoF_and_tqm/20230426/notes.txt\n"
     ]
    },
    {
     "name": "stderr",
     "output_type": "stream",
     "text": [
      "0.00b [00:00, ?b/s]\n"
     ]
    },
    {
     "name": "stdout",
     "output_type": "stream",
     "text": [
      "downloading /n/data1/hms/neurobio/sabatini/rich/analysis/make_dFoF_and_tqm/mouse_0322R/20230521/parameters_batch.json   to   /media/rich/bigSSD/analysis_data/face_rhythm/mouse_0322R/dFoF_and_tqm/20230521/parameters_batch.json\n"
     ]
    },
    {
     "name": "stderr",
     "output_type": "stream",
     "text": [
      "0.00b [00:00, ?b/s]\n"
     ]
    },
    {
     "name": "stdout",
     "output_type": "stream",
     "text": [
      "downloading /n/data1/hms/neurobio/sabatini/rich/analysis/make_dFoF_and_tqm/mouse_0322R/20230521/jobNum_0/tqm.pkl   to   /media/rich/bigSSD/analysis_data/face_rhythm/mouse_0322R/dFoF_and_tqm/20230521/jobNum_0/tqm.pkl\n"
     ]
    },
    {
     "name": "stderr",
     "output_type": "stream",
     "text": [
      "0.00b [00:00, ?b/s]\n"
     ]
    },
    {
     "name": "stdout",
     "output_type": "stream",
     "text": [
      "downloading /n/data1/hms/neurobio/sabatini/rich/analysis/make_dFoF_and_tqm/mouse_0322R/20230521/jobNum_0/params.json   to   /media/rich/bigSSD/analysis_data/face_rhythm/mouse_0322R/dFoF_and_tqm/20230521/jobNum_0/params.json\n"
     ]
    },
    {
     "name": "stderr",
     "output_type": "stream",
     "text": [
      "0.00b [00:00, ?b/s]\n"
     ]
    },
    {
     "name": "stdout",
     "output_type": "stream",
     "text": [
      "downloading /n/data1/hms/neurobio/sabatini/rich/analysis/make_dFoF_and_tqm/mouse_0322R/20230521/jobNum_0/dFoF.npy   to   /media/rich/bigSSD/analysis_data/face_rhythm/mouse_0322R/dFoF_and_tqm/20230521/jobNum_0/dFoF.npy\n"
     ]
    },
    {
     "name": "stderr",
     "output_type": "stream",
     "text": [
      "0.00b [00:22, ?b/s]\n"
     ]
    },
    {
     "name": "stdout",
     "output_type": "stream",
     "text": [
      "downloading /n/data1/hms/neurobio/sabatini/rich/analysis/make_dFoF_and_tqm/mouse_0322R/20230521/jobNum_0/make_dFoF_and_tqm.py   to   /media/rich/bigSSD/analysis_data/face_rhythm/mouse_0322R/dFoF_and_tqm/20230521/jobNum_0/make_dFoF_and_tqm.py\n"
     ]
    },
    {
     "name": "stderr",
     "output_type": "stream",
     "text": [
      "0.00b [00:00, ?b/s]\n"
     ]
    },
    {
     "name": "stdout",
     "output_type": "stream",
     "text": [
      "downloading /n/data1/hms/neurobio/sabatini/rich/analysis/make_dFoF_and_tqm/mouse_0322R/20230521/jobNum_0/iscell_tqm.npy   to   /media/rich/bigSSD/analysis_data/face_rhythm/mouse_0322R/dFoF_and_tqm/20230521/jobNum_0/iscell_tqm.npy\n"
     ]
    },
    {
     "name": "stderr",
     "output_type": "stream",
     "text": [
      "0.00b [00:00, ?b/s]\n"
     ]
    },
    {
     "name": "stdout",
     "output_type": "stream",
     "text": [
      "downloading /n/data1/hms/neurobio/sabatini/rich/analysis/make_dFoF_and_tqm/mouse_0322R/20230521/jobNum_0/sbatch_config.sh   to   /media/rich/bigSSD/analysis_data/face_rhythm/mouse_0322R/dFoF_and_tqm/20230521/jobNum_0/sbatch_config.sh\n"
     ]
    },
    {
     "name": "stderr",
     "output_type": "stream",
     "text": [
      "0.00b [00:00, ?b/s]\n"
     ]
    },
    {
     "name": "stdout",
     "output_type": "stream",
     "text": [
      "downloading /n/data1/hms/neurobio/sabatini/rich/analysis/make_dFoF_and_tqm/mouse_0322R/20230521/jobNum_0/print_log_15082412.log   to   /media/rich/bigSSD/analysis_data/face_rhythm/mouse_0322R/dFoF_and_tqm/20230521/jobNum_0/print_log_15082412.log\n"
     ]
    },
    {
     "name": "stderr",
     "output_type": "stream",
     "text": [
      "0.00b [00:00, ?b/s]\n"
     ]
    },
    {
     "name": "stdout",
     "output_type": "stream",
     "text": [
      "downloading /n/data1/hms/neurobio/sabatini/rich/analysis/make_dFoF_and_tqm/mouse_0322R/20230521/make_dFoF_and_tqm.py   to   /media/rich/bigSSD/analysis_data/face_rhythm/mouse_0322R/dFoF_and_tqm/20230521/make_dFoF_and_tqm.py\n"
     ]
    },
    {
     "name": "stderr",
     "output_type": "stream",
     "text": [
      "0.00b [00:00, ?b/s]\n"
     ]
    },
    {
     "name": "stdout",
     "output_type": "stream",
     "text": [
      "downloading /n/data1/hms/neurobio/sabatini/rich/analysis/make_dFoF_and_tqm/mouse_0322R/20230521/dispatcher.py   to   /media/rich/bigSSD/analysis_data/face_rhythm/mouse_0322R/dFoF_and_tqm/20230521/dispatcher.py\n"
     ]
    },
    {
     "name": "stderr",
     "output_type": "stream",
     "text": [
      "0.00b [00:00, ?b/s]\n"
     ]
    },
    {
     "name": "stdout",
     "output_type": "stream",
     "text": [
      "downloading /n/data1/hms/neurobio/sabatini/rich/analysis/make_dFoF_and_tqm/mouse_0322R/20230521/notes.txt   to   /media/rich/bigSSD/analysis_data/face_rhythm/mouse_0322R/dFoF_and_tqm/20230521/notes.txt\n"
     ]
    },
    {
     "name": "stderr",
     "output_type": "stream",
     "text": [
      "0.00b [00:00, ?b/s]\n"
     ]
    },
    {
     "name": "stdout",
     "output_type": "stream",
     "text": [
      "downloading /n/data1/hms/neurobio/sabatini/rich/analysis/make_dFoF_and_tqm/mouse_0322R/20230518/parameters_batch.json   to   /media/rich/bigSSD/analysis_data/face_rhythm/mouse_0322R/dFoF_and_tqm/20230518/parameters_batch.json\n"
     ]
    },
    {
     "name": "stderr",
     "output_type": "stream",
     "text": [
      "0.00b [00:00, ?b/s]\n"
     ]
    },
    {
     "name": "stdout",
     "output_type": "stream",
     "text": [
      "downloading /n/data1/hms/neurobio/sabatini/rich/analysis/make_dFoF_and_tqm/mouse_0322R/20230518/jobNum_0/tqm.pkl   to   /media/rich/bigSSD/analysis_data/face_rhythm/mouse_0322R/dFoF_and_tqm/20230518/jobNum_0/tqm.pkl\n"
     ]
    },
    {
     "name": "stderr",
     "output_type": "stream",
     "text": [
      "0.00b [00:00, ?b/s]\n"
     ]
    },
    {
     "name": "stdout",
     "output_type": "stream",
     "text": [
      "downloading /n/data1/hms/neurobio/sabatini/rich/analysis/make_dFoF_and_tqm/mouse_0322R/20230518/jobNum_0/params.json   to   /media/rich/bigSSD/analysis_data/face_rhythm/mouse_0322R/dFoF_and_tqm/20230518/jobNum_0/params.json\n"
     ]
    },
    {
     "name": "stderr",
     "output_type": "stream",
     "text": [
      "0.00b [00:00, ?b/s]\n"
     ]
    },
    {
     "name": "stdout",
     "output_type": "stream",
     "text": [
      "downloading /n/data1/hms/neurobio/sabatini/rich/analysis/make_dFoF_and_tqm/mouse_0322R/20230518/jobNum_0/dFoF.npy   to   /media/rich/bigSSD/analysis_data/face_rhythm/mouse_0322R/dFoF_and_tqm/20230518/jobNum_0/dFoF.npy\n"
     ]
    },
    {
     "name": "stderr",
     "output_type": "stream",
     "text": [
      "0.00b [00:25, ?b/s]\n"
     ]
    },
    {
     "name": "stdout",
     "output_type": "stream",
     "text": [
      "downloading /n/data1/hms/neurobio/sabatini/rich/analysis/make_dFoF_and_tqm/mouse_0322R/20230518/jobNum_0/make_dFoF_and_tqm.py   to   /media/rich/bigSSD/analysis_data/face_rhythm/mouse_0322R/dFoF_and_tqm/20230518/jobNum_0/make_dFoF_and_tqm.py\n"
     ]
    },
    {
     "name": "stderr",
     "output_type": "stream",
     "text": [
      "0.00b [00:00, ?b/s]\n"
     ]
    },
    {
     "name": "stdout",
     "output_type": "stream",
     "text": [
      "downloading /n/data1/hms/neurobio/sabatini/rich/analysis/make_dFoF_and_tqm/mouse_0322R/20230518/jobNum_0/print_log_15082388.log   to   /media/rich/bigSSD/analysis_data/face_rhythm/mouse_0322R/dFoF_and_tqm/20230518/jobNum_0/print_log_15082388.log\n"
     ]
    },
    {
     "name": "stderr",
     "output_type": "stream",
     "text": [
      "0.00b [00:00, ?b/s]\n"
     ]
    },
    {
     "name": "stdout",
     "output_type": "stream",
     "text": [
      "downloading /n/data1/hms/neurobio/sabatini/rich/analysis/make_dFoF_and_tqm/mouse_0322R/20230518/jobNum_0/iscell_tqm.npy   to   /media/rich/bigSSD/analysis_data/face_rhythm/mouse_0322R/dFoF_and_tqm/20230518/jobNum_0/iscell_tqm.npy\n"
     ]
    },
    {
     "name": "stderr",
     "output_type": "stream",
     "text": [
      "0.00b [00:00, ?b/s]\n"
     ]
    },
    {
     "name": "stdout",
     "output_type": "stream",
     "text": [
      "downloading /n/data1/hms/neurobio/sabatini/rich/analysis/make_dFoF_and_tqm/mouse_0322R/20230518/jobNum_0/sbatch_config.sh   to   /media/rich/bigSSD/analysis_data/face_rhythm/mouse_0322R/dFoF_and_tqm/20230518/jobNum_0/sbatch_config.sh\n"
     ]
    },
    {
     "name": "stderr",
     "output_type": "stream",
     "text": [
      "0.00b [00:00, ?b/s]\n"
     ]
    },
    {
     "name": "stdout",
     "output_type": "stream",
     "text": [
      "downloading /n/data1/hms/neurobio/sabatini/rich/analysis/make_dFoF_and_tqm/mouse_0322R/20230518/make_dFoF_and_tqm.py   to   /media/rich/bigSSD/analysis_data/face_rhythm/mouse_0322R/dFoF_and_tqm/20230518/make_dFoF_and_tqm.py\n"
     ]
    },
    {
     "name": "stderr",
     "output_type": "stream",
     "text": [
      "0.00b [00:00, ?b/s]\n"
     ]
    },
    {
     "name": "stdout",
     "output_type": "stream",
     "text": [
      "downloading /n/data1/hms/neurobio/sabatini/rich/analysis/make_dFoF_and_tqm/mouse_0322R/20230518/dispatcher.py   to   /media/rich/bigSSD/analysis_data/face_rhythm/mouse_0322R/dFoF_and_tqm/20230518/dispatcher.py\n"
     ]
    },
    {
     "name": "stderr",
     "output_type": "stream",
     "text": [
      "0.00b [00:00, ?b/s]\n"
     ]
    },
    {
     "name": "stdout",
     "output_type": "stream",
     "text": [
      "downloading /n/data1/hms/neurobio/sabatini/rich/analysis/make_dFoF_and_tqm/mouse_0322R/20230518/notes.txt   to   /media/rich/bigSSD/analysis_data/face_rhythm/mouse_0322R/dFoF_and_tqm/20230518/notes.txt\n"
     ]
    },
    {
     "name": "stderr",
     "output_type": "stream",
     "text": [
      "0.00b [00:00, ?b/s]\n"
     ]
    },
    {
     "name": "stdout",
     "output_type": "stream",
     "text": [
      "downloading /n/data1/hms/neurobio/sabatini/rich/analysis/make_dFoF_and_tqm/mouse_0322R/20230530/parameters_batch.json   to   /media/rich/bigSSD/analysis_data/face_rhythm/mouse_0322R/dFoF_and_tqm/20230530/parameters_batch.json\n"
     ]
    },
    {
     "name": "stderr",
     "output_type": "stream",
     "text": [
      "0.00b [00:00, ?b/s]\n"
     ]
    },
    {
     "name": "stdout",
     "output_type": "stream",
     "text": [
      "downloading /n/data1/hms/neurobio/sabatini/rich/analysis/make_dFoF_and_tqm/mouse_0322R/20230530/jobNum_0/tqm.pkl   to   /media/rich/bigSSD/analysis_data/face_rhythm/mouse_0322R/dFoF_and_tqm/20230530/jobNum_0/tqm.pkl\n"
     ]
    },
    {
     "name": "stderr",
     "output_type": "stream",
     "text": [
      "0.00b [00:00, ?b/s]\n"
     ]
    },
    {
     "name": "stdout",
     "output_type": "stream",
     "text": [
      "downloading /n/data1/hms/neurobio/sabatini/rich/analysis/make_dFoF_and_tqm/mouse_0322R/20230530/jobNum_0/params.json   to   /media/rich/bigSSD/analysis_data/face_rhythm/mouse_0322R/dFoF_and_tqm/20230530/jobNum_0/params.json\n"
     ]
    },
    {
     "name": "stderr",
     "output_type": "stream",
     "text": [
      "0.00b [00:00, ?b/s]\n"
     ]
    },
    {
     "name": "stdout",
     "output_type": "stream",
     "text": [
      "downloading /n/data1/hms/neurobio/sabatini/rich/analysis/make_dFoF_and_tqm/mouse_0322R/20230530/jobNum_0/dFoF.npy   to   /media/rich/bigSSD/analysis_data/face_rhythm/mouse_0322R/dFoF_and_tqm/20230530/jobNum_0/dFoF.npy\n"
     ]
    },
    {
     "name": "stderr",
     "output_type": "stream",
     "text": [
      "0.00b [00:19, ?b/s]\n"
     ]
    },
    {
     "name": "stdout",
     "output_type": "stream",
     "text": [
      "downloading /n/data1/hms/neurobio/sabatini/rich/analysis/make_dFoF_and_tqm/mouse_0322R/20230530/jobNum_0/print_log_15082486.log   to   /media/rich/bigSSD/analysis_data/face_rhythm/mouse_0322R/dFoF_and_tqm/20230530/jobNum_0/print_log_15082486.log\n"
     ]
    },
    {
     "name": "stderr",
     "output_type": "stream",
     "text": [
      "0.00b [00:00, ?b/s]\n"
     ]
    },
    {
     "name": "stdout",
     "output_type": "stream",
     "text": [
      "downloading /n/data1/hms/neurobio/sabatini/rich/analysis/make_dFoF_and_tqm/mouse_0322R/20230530/jobNum_0/make_dFoF_and_tqm.py   to   /media/rich/bigSSD/analysis_data/face_rhythm/mouse_0322R/dFoF_and_tqm/20230530/jobNum_0/make_dFoF_and_tqm.py\n"
     ]
    },
    {
     "name": "stderr",
     "output_type": "stream",
     "text": [
      "0.00b [00:00, ?b/s]\n"
     ]
    },
    {
     "name": "stdout",
     "output_type": "stream",
     "text": [
      "downloading /n/data1/hms/neurobio/sabatini/rich/analysis/make_dFoF_and_tqm/mouse_0322R/20230530/jobNum_0/iscell_tqm.npy   to   /media/rich/bigSSD/analysis_data/face_rhythm/mouse_0322R/dFoF_and_tqm/20230530/jobNum_0/iscell_tqm.npy\n"
     ]
    },
    {
     "name": "stderr",
     "output_type": "stream",
     "text": [
      "0.00b [00:00, ?b/s]\n"
     ]
    },
    {
     "name": "stdout",
     "output_type": "stream",
     "text": [
      "downloading /n/data1/hms/neurobio/sabatini/rich/analysis/make_dFoF_and_tqm/mouse_0322R/20230530/jobNum_0/sbatch_config.sh   to   /media/rich/bigSSD/analysis_data/face_rhythm/mouse_0322R/dFoF_and_tqm/20230530/jobNum_0/sbatch_config.sh\n"
     ]
    },
    {
     "name": "stderr",
     "output_type": "stream",
     "text": [
      "0.00b [00:00, ?b/s]\n"
     ]
    },
    {
     "name": "stdout",
     "output_type": "stream",
     "text": [
      "downloading /n/data1/hms/neurobio/sabatini/rich/analysis/make_dFoF_and_tqm/mouse_0322R/20230530/make_dFoF_and_tqm.py   to   /media/rich/bigSSD/analysis_data/face_rhythm/mouse_0322R/dFoF_and_tqm/20230530/make_dFoF_and_tqm.py\n"
     ]
    },
    {
     "name": "stderr",
     "output_type": "stream",
     "text": [
      "0.00b [00:00, ?b/s]\n"
     ]
    },
    {
     "name": "stdout",
     "output_type": "stream",
     "text": [
      "downloading /n/data1/hms/neurobio/sabatini/rich/analysis/make_dFoF_and_tqm/mouse_0322R/20230530/dispatcher.py   to   /media/rich/bigSSD/analysis_data/face_rhythm/mouse_0322R/dFoF_and_tqm/20230530/dispatcher.py\n"
     ]
    },
    {
     "name": "stderr",
     "output_type": "stream",
     "text": [
      "0.00b [00:00, ?b/s]\n"
     ]
    },
    {
     "name": "stdout",
     "output_type": "stream",
     "text": [
      "downloading /n/data1/hms/neurobio/sabatini/rich/analysis/make_dFoF_and_tqm/mouse_0322R/20230530/notes.txt   to   /media/rich/bigSSD/analysis_data/face_rhythm/mouse_0322R/dFoF_and_tqm/20230530/notes.txt\n"
     ]
    },
    {
     "name": "stderr",
     "output_type": "stream",
     "text": [
      "0.00b [00:00, ?b/s]\n"
     ]
    },
    {
     "name": "stdout",
     "output_type": "stream",
     "text": [
      "downloading /n/data1/hms/neurobio/sabatini/rich/analysis/make_dFoF_and_tqm/mouse_0322R/20230520/parameters_batch.json   to   /media/rich/bigSSD/analysis_data/face_rhythm/mouse_0322R/dFoF_and_tqm/20230520/parameters_batch.json\n"
     ]
    },
    {
     "name": "stderr",
     "output_type": "stream",
     "text": [
      "0.00b [00:00, ?b/s]\n"
     ]
    },
    {
     "name": "stdout",
     "output_type": "stream",
     "text": [
      "downloading /n/data1/hms/neurobio/sabatini/rich/analysis/make_dFoF_and_tqm/mouse_0322R/20230520/jobNum_0/tqm.pkl   to   /media/rich/bigSSD/analysis_data/face_rhythm/mouse_0322R/dFoF_and_tqm/20230520/jobNum_0/tqm.pkl\n"
     ]
    },
    {
     "name": "stderr",
     "output_type": "stream",
     "text": [
      "0.00b [00:00, ?b/s]\n"
     ]
    },
    {
     "name": "stdout",
     "output_type": "stream",
     "text": [
      "downloading /n/data1/hms/neurobio/sabatini/rich/analysis/make_dFoF_and_tqm/mouse_0322R/20230520/jobNum_0/params.json   to   /media/rich/bigSSD/analysis_data/face_rhythm/mouse_0322R/dFoF_and_tqm/20230520/jobNum_0/params.json\n"
     ]
    },
    {
     "name": "stderr",
     "output_type": "stream",
     "text": [
      "0.00b [00:00, ?b/s]\n"
     ]
    },
    {
     "name": "stdout",
     "output_type": "stream",
     "text": [
      "downloading /n/data1/hms/neurobio/sabatini/rich/analysis/make_dFoF_and_tqm/mouse_0322R/20230520/jobNum_0/dFoF.npy   to   /media/rich/bigSSD/analysis_data/face_rhythm/mouse_0322R/dFoF_and_tqm/20230520/jobNum_0/dFoF.npy\n"
     ]
    },
    {
     "name": "stderr",
     "output_type": "stream",
     "text": [
      "0.00b [00:23, ?b/s]\n"
     ]
    },
    {
     "name": "stdout",
     "output_type": "stream",
     "text": [
      "downloading /n/data1/hms/neurobio/sabatini/rich/analysis/make_dFoF_and_tqm/mouse_0322R/20230520/jobNum_0/print_log_15082404.log   to   /media/rich/bigSSD/analysis_data/face_rhythm/mouse_0322R/dFoF_and_tqm/20230520/jobNum_0/print_log_15082404.log\n"
     ]
    },
    {
     "name": "stderr",
     "output_type": "stream",
     "text": [
      "0.00b [00:00, ?b/s]\n"
     ]
    },
    {
     "name": "stdout",
     "output_type": "stream",
     "text": [
      "downloading /n/data1/hms/neurobio/sabatini/rich/analysis/make_dFoF_and_tqm/mouse_0322R/20230520/jobNum_0/make_dFoF_and_tqm.py   to   /media/rich/bigSSD/analysis_data/face_rhythm/mouse_0322R/dFoF_and_tqm/20230520/jobNum_0/make_dFoF_and_tqm.py\n"
     ]
    },
    {
     "name": "stderr",
     "output_type": "stream",
     "text": [
      "0.00b [00:00, ?b/s]\n"
     ]
    },
    {
     "name": "stdout",
     "output_type": "stream",
     "text": [
      "downloading /n/data1/hms/neurobio/sabatini/rich/analysis/make_dFoF_and_tqm/mouse_0322R/20230520/jobNum_0/iscell_tqm.npy   to   /media/rich/bigSSD/analysis_data/face_rhythm/mouse_0322R/dFoF_and_tqm/20230520/jobNum_0/iscell_tqm.npy\n"
     ]
    },
    {
     "name": "stderr",
     "output_type": "stream",
     "text": [
      "0.00b [00:00, ?b/s]\n"
     ]
    },
    {
     "name": "stdout",
     "output_type": "stream",
     "text": [
      "downloading /n/data1/hms/neurobio/sabatini/rich/analysis/make_dFoF_and_tqm/mouse_0322R/20230520/jobNum_0/sbatch_config.sh   to   /media/rich/bigSSD/analysis_data/face_rhythm/mouse_0322R/dFoF_and_tqm/20230520/jobNum_0/sbatch_config.sh\n"
     ]
    },
    {
     "name": "stderr",
     "output_type": "stream",
     "text": [
      "0.00b [00:00, ?b/s]\n"
     ]
    },
    {
     "name": "stdout",
     "output_type": "stream",
     "text": [
      "downloading /n/data1/hms/neurobio/sabatini/rich/analysis/make_dFoF_and_tqm/mouse_0322R/20230520/make_dFoF_and_tqm.py   to   /media/rich/bigSSD/analysis_data/face_rhythm/mouse_0322R/dFoF_and_tqm/20230520/make_dFoF_and_tqm.py\n"
     ]
    },
    {
     "name": "stderr",
     "output_type": "stream",
     "text": [
      "0.00b [00:00, ?b/s]\n"
     ]
    },
    {
     "name": "stdout",
     "output_type": "stream",
     "text": [
      "downloading /n/data1/hms/neurobio/sabatini/rich/analysis/make_dFoF_and_tqm/mouse_0322R/20230520/dispatcher.py   to   /media/rich/bigSSD/analysis_data/face_rhythm/mouse_0322R/dFoF_and_tqm/20230520/dispatcher.py\n"
     ]
    },
    {
     "name": "stderr",
     "output_type": "stream",
     "text": [
      "0.00b [00:00, ?b/s]\n"
     ]
    },
    {
     "name": "stdout",
     "output_type": "stream",
     "text": [
      "downloading /n/data1/hms/neurobio/sabatini/rich/analysis/make_dFoF_and_tqm/mouse_0322R/20230520/notes.txt   to   /media/rich/bigSSD/analysis_data/face_rhythm/mouse_0322R/dFoF_and_tqm/20230520/notes.txt\n"
     ]
    },
    {
     "name": "stderr",
     "output_type": "stream",
     "text": [
      "0.00b [00:00, ?b/s]\n"
     ]
    },
    {
     "name": "stdout",
     "output_type": "stream",
     "text": [
      "downloading /n/data1/hms/neurobio/sabatini/rich/analysis/make_dFoF_and_tqm/mouse_0322R/20230508/parameters_batch.json   to   /media/rich/bigSSD/analysis_data/face_rhythm/mouse_0322R/dFoF_and_tqm/20230508/parameters_batch.json\n"
     ]
    },
    {
     "name": "stderr",
     "output_type": "stream",
     "text": [
      "0.00b [00:00, ?b/s]\n"
     ]
    },
    {
     "name": "stdout",
     "output_type": "stream",
     "text": [
      "downloading /n/data1/hms/neurobio/sabatini/rich/analysis/make_dFoF_and_tqm/mouse_0322R/20230508/jobNum_0/tqm.pkl   to   /media/rich/bigSSD/analysis_data/face_rhythm/mouse_0322R/dFoF_and_tqm/20230508/jobNum_0/tqm.pkl\n"
     ]
    },
    {
     "name": "stderr",
     "output_type": "stream",
     "text": [
      "0.00b [00:00, ?b/s]\n"
     ]
    },
    {
     "name": "stdout",
     "output_type": "stream",
     "text": [
      "downloading /n/data1/hms/neurobio/sabatini/rich/analysis/make_dFoF_and_tqm/mouse_0322R/20230508/jobNum_0/params.json   to   /media/rich/bigSSD/analysis_data/face_rhythm/mouse_0322R/dFoF_and_tqm/20230508/jobNum_0/params.json\n"
     ]
    },
    {
     "name": "stderr",
     "output_type": "stream",
     "text": [
      "0.00b [00:00, ?b/s]\n"
     ]
    },
    {
     "name": "stdout",
     "output_type": "stream",
     "text": [
      "downloading /n/data1/hms/neurobio/sabatini/rich/analysis/make_dFoF_and_tqm/mouse_0322R/20230508/jobNum_0/dFoF.npy   to   /media/rich/bigSSD/analysis_data/face_rhythm/mouse_0322R/dFoF_and_tqm/20230508/jobNum_0/dFoF.npy\n"
     ]
    },
    {
     "name": "stderr",
     "output_type": "stream",
     "text": [
      "0.00b [00:21, ?b/s]\n"
     ]
    },
    {
     "name": "stdout",
     "output_type": "stream",
     "text": [
      "downloading /n/data1/hms/neurobio/sabatini/rich/analysis/make_dFoF_and_tqm/mouse_0322R/20230508/jobNum_0/make_dFoF_and_tqm.py   to   /media/rich/bigSSD/analysis_data/face_rhythm/mouse_0322R/dFoF_and_tqm/20230508/jobNum_0/make_dFoF_and_tqm.py\n"
     ]
    },
    {
     "name": "stderr",
     "output_type": "stream",
     "text": [
      "0.00b [00:00, ?b/s]\n"
     ]
    },
    {
     "name": "stdout",
     "output_type": "stream",
     "text": [
      "downloading /n/data1/hms/neurobio/sabatini/rich/analysis/make_dFoF_and_tqm/mouse_0322R/20230508/jobNum_0/iscell_tqm.npy   to   /media/rich/bigSSD/analysis_data/face_rhythm/mouse_0322R/dFoF_and_tqm/20230508/jobNum_0/iscell_tqm.npy\n"
     ]
    },
    {
     "name": "stderr",
     "output_type": "stream",
     "text": [
      "0.00b [00:00, ?b/s]\n"
     ]
    },
    {
     "name": "stdout",
     "output_type": "stream",
     "text": [
      "downloading /n/data1/hms/neurobio/sabatini/rich/analysis/make_dFoF_and_tqm/mouse_0322R/20230508/jobNum_0/sbatch_config.sh   to   /media/rich/bigSSD/analysis_data/face_rhythm/mouse_0322R/dFoF_and_tqm/20230508/jobNum_0/sbatch_config.sh\n"
     ]
    },
    {
     "name": "stderr",
     "output_type": "stream",
     "text": [
      "0.00b [00:00, ?b/s]\n"
     ]
    },
    {
     "name": "stdout",
     "output_type": "stream",
     "text": [
      "downloading /n/data1/hms/neurobio/sabatini/rich/analysis/make_dFoF_and_tqm/mouse_0322R/20230508/jobNum_0/print_log_15082330.log   to   /media/rich/bigSSD/analysis_data/face_rhythm/mouse_0322R/dFoF_and_tqm/20230508/jobNum_0/print_log_15082330.log\n"
     ]
    },
    {
     "name": "stderr",
     "output_type": "stream",
     "text": [
      "0.00b [00:00, ?b/s]\n"
     ]
    },
    {
     "name": "stdout",
     "output_type": "stream",
     "text": [
      "downloading /n/data1/hms/neurobio/sabatini/rich/analysis/make_dFoF_and_tqm/mouse_0322R/20230508/make_dFoF_and_tqm.py   to   /media/rich/bigSSD/analysis_data/face_rhythm/mouse_0322R/dFoF_and_tqm/20230508/make_dFoF_and_tqm.py\n"
     ]
    },
    {
     "name": "stderr",
     "output_type": "stream",
     "text": [
      "0.00b [00:00, ?b/s]\n"
     ]
    },
    {
     "name": "stdout",
     "output_type": "stream",
     "text": [
      "downloading /n/data1/hms/neurobio/sabatini/rich/analysis/make_dFoF_and_tqm/mouse_0322R/20230508/dispatcher.py   to   /media/rich/bigSSD/analysis_data/face_rhythm/mouse_0322R/dFoF_and_tqm/20230508/dispatcher.py\n"
     ]
    },
    {
     "name": "stderr",
     "output_type": "stream",
     "text": [
      "0.00b [00:00, ?b/s]\n"
     ]
    },
    {
     "name": "stdout",
     "output_type": "stream",
     "text": [
      "downloading /n/data1/hms/neurobio/sabatini/rich/analysis/make_dFoF_and_tqm/mouse_0322R/20230508/notes.txt   to   /media/rich/bigSSD/analysis_data/face_rhythm/mouse_0322R/dFoF_and_tqm/20230508/notes.txt\n"
     ]
    },
    {
     "name": "stderr",
     "output_type": "stream",
     "text": [
      "0.00b [00:00, ?b/s]\n"
     ]
    },
    {
     "name": "stdout",
     "output_type": "stream",
     "text": [
      "downloading /n/data1/hms/neurobio/sabatini/rich/analysis/make_dFoF_and_tqm/mouse_0322R/20230428/parameters_batch.json   to   /media/rich/bigSSD/analysis_data/face_rhythm/mouse_0322R/dFoF_and_tqm/20230428/parameters_batch.json\n"
     ]
    },
    {
     "name": "stderr",
     "output_type": "stream",
     "text": [
      "0.00b [00:00, ?b/s]\n"
     ]
    },
    {
     "name": "stdout",
     "output_type": "stream",
     "text": [
      "downloading /n/data1/hms/neurobio/sabatini/rich/analysis/make_dFoF_and_tqm/mouse_0322R/20230428/jobNum_0/tqm.pkl   to   /media/rich/bigSSD/analysis_data/face_rhythm/mouse_0322R/dFoF_and_tqm/20230428/jobNum_0/tqm.pkl\n"
     ]
    },
    {
     "name": "stderr",
     "output_type": "stream",
     "text": [
      "0.00b [00:00, ?b/s]\n"
     ]
    },
    {
     "name": "stdout",
     "output_type": "stream",
     "text": [
      "downloading /n/data1/hms/neurobio/sabatini/rich/analysis/make_dFoF_and_tqm/mouse_0322R/20230428/jobNum_0/params.json   to   /media/rich/bigSSD/analysis_data/face_rhythm/mouse_0322R/dFoF_and_tqm/20230428/jobNum_0/params.json\n"
     ]
    },
    {
     "name": "stderr",
     "output_type": "stream",
     "text": [
      "0.00b [00:00, ?b/s]\n"
     ]
    },
    {
     "name": "stdout",
     "output_type": "stream",
     "text": [
      "downloading /n/data1/hms/neurobio/sabatini/rich/analysis/make_dFoF_and_tqm/mouse_0322R/20230428/jobNum_0/dFoF.npy   to   /media/rich/bigSSD/analysis_data/face_rhythm/mouse_0322R/dFoF_and_tqm/20230428/jobNum_0/dFoF.npy\n"
     ]
    },
    {
     "name": "stderr",
     "output_type": "stream",
     "text": [
      "0.00b [00:21, ?b/s]\n"
     ]
    },
    {
     "name": "stdout",
     "output_type": "stream",
     "text": [
      "downloading /n/data1/hms/neurobio/sabatini/rich/analysis/make_dFoF_and_tqm/mouse_0322R/20230428/jobNum_0/print_log_15082205.log   to   /media/rich/bigSSD/analysis_data/face_rhythm/mouse_0322R/dFoF_and_tqm/20230428/jobNum_0/print_log_15082205.log\n"
     ]
    },
    {
     "name": "stderr",
     "output_type": "stream",
     "text": [
      "0.00b [00:00, ?b/s]\n"
     ]
    },
    {
     "name": "stdout",
     "output_type": "stream",
     "text": [
      "downloading /n/data1/hms/neurobio/sabatini/rich/analysis/make_dFoF_and_tqm/mouse_0322R/20230428/jobNum_0/make_dFoF_and_tqm.py   to   /media/rich/bigSSD/analysis_data/face_rhythm/mouse_0322R/dFoF_and_tqm/20230428/jobNum_0/make_dFoF_and_tqm.py\n"
     ]
    },
    {
     "name": "stderr",
     "output_type": "stream",
     "text": [
      "0.00b [00:00, ?b/s]\n"
     ]
    },
    {
     "name": "stdout",
     "output_type": "stream",
     "text": [
      "downloading /n/data1/hms/neurobio/sabatini/rich/analysis/make_dFoF_and_tqm/mouse_0322R/20230428/jobNum_0/iscell_tqm.npy   to   /media/rich/bigSSD/analysis_data/face_rhythm/mouse_0322R/dFoF_and_tqm/20230428/jobNum_0/iscell_tqm.npy\n"
     ]
    },
    {
     "name": "stderr",
     "output_type": "stream",
     "text": [
      "0.00b [00:00, ?b/s]\n"
     ]
    },
    {
     "name": "stdout",
     "output_type": "stream",
     "text": [
      "downloading /n/data1/hms/neurobio/sabatini/rich/analysis/make_dFoF_and_tqm/mouse_0322R/20230428/jobNum_0/sbatch_config.sh   to   /media/rich/bigSSD/analysis_data/face_rhythm/mouse_0322R/dFoF_and_tqm/20230428/jobNum_0/sbatch_config.sh\n"
     ]
    },
    {
     "name": "stderr",
     "output_type": "stream",
     "text": [
      "0.00b [00:00, ?b/s]\n"
     ]
    },
    {
     "name": "stdout",
     "output_type": "stream",
     "text": [
      "downloading /n/data1/hms/neurobio/sabatini/rich/analysis/make_dFoF_and_tqm/mouse_0322R/20230428/make_dFoF_and_tqm.py   to   /media/rich/bigSSD/analysis_data/face_rhythm/mouse_0322R/dFoF_and_tqm/20230428/make_dFoF_and_tqm.py\n"
     ]
    },
    {
     "name": "stderr",
     "output_type": "stream",
     "text": [
      "0.00b [00:00, ?b/s]\n"
     ]
    },
    {
     "name": "stdout",
     "output_type": "stream",
     "text": [
      "downloading /n/data1/hms/neurobio/sabatini/rich/analysis/make_dFoF_and_tqm/mouse_0322R/20230428/dispatcher.py   to   /media/rich/bigSSD/analysis_data/face_rhythm/mouse_0322R/dFoF_and_tqm/20230428/dispatcher.py\n"
     ]
    },
    {
     "name": "stderr",
     "output_type": "stream",
     "text": [
      "0.00b [00:00, ?b/s]\n"
     ]
    },
    {
     "name": "stdout",
     "output_type": "stream",
     "text": [
      "downloading /n/data1/hms/neurobio/sabatini/rich/analysis/make_dFoF_and_tqm/mouse_0322R/20230428/notes.txt   to   /media/rich/bigSSD/analysis_data/face_rhythm/mouse_0322R/dFoF_and_tqm/20230428/notes.txt\n"
     ]
    },
    {
     "name": "stderr",
     "output_type": "stream",
     "text": [
      "0.00b [00:00, ?b/s]\n"
     ]
    },
    {
     "name": "stdout",
     "output_type": "stream",
     "text": [
      "downloading /n/data1/hms/neurobio/sabatini/rich/analysis/make_dFoF_and_tqm/mouse_0322R/20230506/parameters_batch.json   to   /media/rich/bigSSD/analysis_data/face_rhythm/mouse_0322R/dFoF_and_tqm/20230506/parameters_batch.json\n"
     ]
    },
    {
     "name": "stderr",
     "output_type": "stream",
     "text": [
      "0.00b [00:00, ?b/s]\n"
     ]
    },
    {
     "name": "stdout",
     "output_type": "stream",
     "text": [
      "downloading /n/data1/hms/neurobio/sabatini/rich/analysis/make_dFoF_and_tqm/mouse_0322R/20230506/jobNum_0/tqm.pkl   to   /media/rich/bigSSD/analysis_data/face_rhythm/mouse_0322R/dFoF_and_tqm/20230506/jobNum_0/tqm.pkl\n"
     ]
    },
    {
     "name": "stderr",
     "output_type": "stream",
     "text": [
      "0.00b [00:00, ?b/s]\n"
     ]
    },
    {
     "name": "stdout",
     "output_type": "stream",
     "text": [
      "downloading /n/data1/hms/neurobio/sabatini/rich/analysis/make_dFoF_and_tqm/mouse_0322R/20230506/jobNum_0/params.json   to   /media/rich/bigSSD/analysis_data/face_rhythm/mouse_0322R/dFoF_and_tqm/20230506/jobNum_0/params.json\n"
     ]
    },
    {
     "name": "stderr",
     "output_type": "stream",
     "text": [
      "0.00b [00:00, ?b/s]\n"
     ]
    },
    {
     "name": "stdout",
     "output_type": "stream",
     "text": [
      "downloading /n/data1/hms/neurobio/sabatini/rich/analysis/make_dFoF_and_tqm/mouse_0322R/20230506/jobNum_0/dFoF.npy   to   /media/rich/bigSSD/analysis_data/face_rhythm/mouse_0322R/dFoF_and_tqm/20230506/jobNum_0/dFoF.npy\n"
     ]
    },
    {
     "name": "stderr",
     "output_type": "stream",
     "text": [
      "0.00b [00:21, ?b/s]\n"
     ]
    },
    {
     "name": "stdout",
     "output_type": "stream",
     "text": [
      "downloading /n/data1/hms/neurobio/sabatini/rich/analysis/make_dFoF_and_tqm/mouse_0322R/20230506/jobNum_0/make_dFoF_and_tqm.py   to   /media/rich/bigSSD/analysis_data/face_rhythm/mouse_0322R/dFoF_and_tqm/20230506/jobNum_0/make_dFoF_and_tqm.py\n"
     ]
    },
    {
     "name": "stderr",
     "output_type": "stream",
     "text": [
      "0.00b [00:00, ?b/s]\n"
     ]
    },
    {
     "name": "stdout",
     "output_type": "stream",
     "text": [
      "downloading /n/data1/hms/neurobio/sabatini/rich/analysis/make_dFoF_and_tqm/mouse_0322R/20230506/jobNum_0/print_log_15082255.log   to   /media/rich/bigSSD/analysis_data/face_rhythm/mouse_0322R/dFoF_and_tqm/20230506/jobNum_0/print_log_15082255.log\n"
     ]
    },
    {
     "name": "stderr",
     "output_type": "stream",
     "text": [
      "0.00b [00:00, ?b/s]\n"
     ]
    },
    {
     "name": "stdout",
     "output_type": "stream",
     "text": [
      "downloading /n/data1/hms/neurobio/sabatini/rich/analysis/make_dFoF_and_tqm/mouse_0322R/20230506/jobNum_0/iscell_tqm.npy   to   /media/rich/bigSSD/analysis_data/face_rhythm/mouse_0322R/dFoF_and_tqm/20230506/jobNum_0/iscell_tqm.npy\n"
     ]
    },
    {
     "name": "stderr",
     "output_type": "stream",
     "text": [
      "0.00b [00:00, ?b/s]\n"
     ]
    },
    {
     "name": "stdout",
     "output_type": "stream",
     "text": [
      "downloading /n/data1/hms/neurobio/sabatini/rich/analysis/make_dFoF_and_tqm/mouse_0322R/20230506/jobNum_0/sbatch_config.sh   to   /media/rich/bigSSD/analysis_data/face_rhythm/mouse_0322R/dFoF_and_tqm/20230506/jobNum_0/sbatch_config.sh\n"
     ]
    },
    {
     "name": "stderr",
     "output_type": "stream",
     "text": [
      "0.00b [00:00, ?b/s]\n"
     ]
    },
    {
     "name": "stdout",
     "output_type": "stream",
     "text": [
      "downloading /n/data1/hms/neurobio/sabatini/rich/analysis/make_dFoF_and_tqm/mouse_0322R/20230506/make_dFoF_and_tqm.py   to   /media/rich/bigSSD/analysis_data/face_rhythm/mouse_0322R/dFoF_and_tqm/20230506/make_dFoF_and_tqm.py\n"
     ]
    },
    {
     "name": "stderr",
     "output_type": "stream",
     "text": [
      "0.00b [00:00, ?b/s]\n"
     ]
    },
    {
     "name": "stdout",
     "output_type": "stream",
     "text": [
      "downloading /n/data1/hms/neurobio/sabatini/rich/analysis/make_dFoF_and_tqm/mouse_0322R/20230506/dispatcher.py   to   /media/rich/bigSSD/analysis_data/face_rhythm/mouse_0322R/dFoF_and_tqm/20230506/dispatcher.py\n"
     ]
    },
    {
     "name": "stderr",
     "output_type": "stream",
     "text": [
      "0.00b [00:00, ?b/s]\n"
     ]
    },
    {
     "name": "stdout",
     "output_type": "stream",
     "text": [
      "downloading /n/data1/hms/neurobio/sabatini/rich/analysis/make_dFoF_and_tqm/mouse_0322R/20230506/notes.txt   to   /media/rich/bigSSD/analysis_data/face_rhythm/mouse_0322R/dFoF_and_tqm/20230506/notes.txt\n"
     ]
    },
    {
     "name": "stderr",
     "output_type": "stream",
     "text": [
      "0.00b [00:00, ?b/s]\n"
     ]
    },
    {
     "name": "stdout",
     "output_type": "stream",
     "text": [
      "downloading /n/data1/hms/neurobio/sabatini/rich/analysis/make_dFoF_and_tqm/mouse_0322R/20230527/parameters_batch.json   to   /media/rich/bigSSD/analysis_data/face_rhythm/mouse_0322R/dFoF_and_tqm/20230527/parameters_batch.json\n"
     ]
    },
    {
     "name": "stderr",
     "output_type": "stream",
     "text": [
      "0.00b [00:00, ?b/s]\n"
     ]
    },
    {
     "name": "stdout",
     "output_type": "stream",
     "text": [
      "downloading /n/data1/hms/neurobio/sabatini/rich/analysis/make_dFoF_and_tqm/mouse_0322R/20230527/jobNum_0/tqm.pkl   to   /media/rich/bigSSD/analysis_data/face_rhythm/mouse_0322R/dFoF_and_tqm/20230527/jobNum_0/tqm.pkl\n"
     ]
    },
    {
     "name": "stderr",
     "output_type": "stream",
     "text": [
      "0.00b [00:00, ?b/s]\n"
     ]
    },
    {
     "name": "stdout",
     "output_type": "stream",
     "text": [
      "downloading /n/data1/hms/neurobio/sabatini/rich/analysis/make_dFoF_and_tqm/mouse_0322R/20230527/jobNum_0/params.json   to   /media/rich/bigSSD/analysis_data/face_rhythm/mouse_0322R/dFoF_and_tqm/20230527/jobNum_0/params.json\n"
     ]
    },
    {
     "name": "stderr",
     "output_type": "stream",
     "text": [
      "0.00b [00:00, ?b/s]\n"
     ]
    },
    {
     "name": "stdout",
     "output_type": "stream",
     "text": [
      "downloading /n/data1/hms/neurobio/sabatini/rich/analysis/make_dFoF_and_tqm/mouse_0322R/20230527/jobNum_0/dFoF.npy   to   /media/rich/bigSSD/analysis_data/face_rhythm/mouse_0322R/dFoF_and_tqm/20230527/jobNum_0/dFoF.npy\n"
     ]
    },
    {
     "name": "stderr",
     "output_type": "stream",
     "text": [
      "0.00b [00:27, ?b/s]\n"
     ]
    },
    {
     "name": "stdout",
     "output_type": "stream",
     "text": [
      "downloading /n/data1/hms/neurobio/sabatini/rich/analysis/make_dFoF_and_tqm/mouse_0322R/20230527/jobNum_0/print_log_15082477.log   to   /media/rich/bigSSD/analysis_data/face_rhythm/mouse_0322R/dFoF_and_tqm/20230527/jobNum_0/print_log_15082477.log\n"
     ]
    },
    {
     "name": "stderr",
     "output_type": "stream",
     "text": [
      "0.00b [00:02, ?b/s]\n"
     ]
    },
    {
     "name": "stdout",
     "output_type": "stream",
     "text": [
      "downloading /n/data1/hms/neurobio/sabatini/rich/analysis/make_dFoF_and_tqm/mouse_0322R/20230527/jobNum_0/make_dFoF_and_tqm.py   to   /media/rich/bigSSD/analysis_data/face_rhythm/mouse_0322R/dFoF_and_tqm/20230527/jobNum_0/make_dFoF_and_tqm.py\n"
     ]
    },
    {
     "name": "stderr",
     "output_type": "stream",
     "text": [
      "0.00b [00:00, ?b/s]\n"
     ]
    },
    {
     "name": "stdout",
     "output_type": "stream",
     "text": [
      "downloading /n/data1/hms/neurobio/sabatini/rich/analysis/make_dFoF_and_tqm/mouse_0322R/20230527/jobNum_0/iscell_tqm.npy   to   /media/rich/bigSSD/analysis_data/face_rhythm/mouse_0322R/dFoF_and_tqm/20230527/jobNum_0/iscell_tqm.npy\n"
     ]
    },
    {
     "name": "stderr",
     "output_type": "stream",
     "text": [
      "0.00b [00:00, ?b/s]\n"
     ]
    },
    {
     "name": "stdout",
     "output_type": "stream",
     "text": [
      "downloading /n/data1/hms/neurobio/sabatini/rich/analysis/make_dFoF_and_tqm/mouse_0322R/20230527/jobNum_0/sbatch_config.sh   to   /media/rich/bigSSD/analysis_data/face_rhythm/mouse_0322R/dFoF_and_tqm/20230527/jobNum_0/sbatch_config.sh\n"
     ]
    },
    {
     "name": "stderr",
     "output_type": "stream",
     "text": [
      "0.00b [00:00, ?b/s]\n"
     ]
    },
    {
     "name": "stdout",
     "output_type": "stream",
     "text": [
      "downloading /n/data1/hms/neurobio/sabatini/rich/analysis/make_dFoF_and_tqm/mouse_0322R/20230527/make_dFoF_and_tqm.py   to   /media/rich/bigSSD/analysis_data/face_rhythm/mouse_0322R/dFoF_and_tqm/20230527/make_dFoF_and_tqm.py\n"
     ]
    },
    {
     "name": "stderr",
     "output_type": "stream",
     "text": [
      "0.00b [00:00, ?b/s]\n"
     ]
    },
    {
     "name": "stdout",
     "output_type": "stream",
     "text": [
      "downloading /n/data1/hms/neurobio/sabatini/rich/analysis/make_dFoF_and_tqm/mouse_0322R/20230527/dispatcher.py   to   /media/rich/bigSSD/analysis_data/face_rhythm/mouse_0322R/dFoF_and_tqm/20230527/dispatcher.py\n"
     ]
    },
    {
     "name": "stderr",
     "output_type": "stream",
     "text": [
      "0.00b [00:00, ?b/s]\n"
     ]
    },
    {
     "name": "stdout",
     "output_type": "stream",
     "text": [
      "downloading /n/data1/hms/neurobio/sabatini/rich/analysis/make_dFoF_and_tqm/mouse_0322R/20230527/notes.txt   to   /media/rich/bigSSD/analysis_data/face_rhythm/mouse_0322R/dFoF_and_tqm/20230527/notes.txt\n"
     ]
    },
    {
     "name": "stderr",
     "output_type": "stream",
     "text": [
      "0.00b [00:00, ?b/s]\n"
     ]
    },
    {
     "name": "stdout",
     "output_type": "stream",
     "text": [
      "downloading /n/data1/hms/neurobio/sabatini/rich/analysis/make_dFoF_and_tqm/mouse_0322R/20230425/parameters_batch.json   to   /media/rich/bigSSD/analysis_data/face_rhythm/mouse_0322R/dFoF_and_tqm/20230425/parameters_batch.json\n"
     ]
    },
    {
     "name": "stderr",
     "output_type": "stream",
     "text": [
      "0.00b [00:00, ?b/s]\n"
     ]
    },
    {
     "name": "stdout",
     "output_type": "stream",
     "text": [
      "downloading /n/data1/hms/neurobio/sabatini/rich/analysis/make_dFoF_and_tqm/mouse_0322R/20230425/jobNum_0/tqm.pkl   to   /media/rich/bigSSD/analysis_data/face_rhythm/mouse_0322R/dFoF_and_tqm/20230425/jobNum_0/tqm.pkl\n"
     ]
    },
    {
     "name": "stderr",
     "output_type": "stream",
     "text": [
      "0.00b [00:00, ?b/s]\n"
     ]
    },
    {
     "name": "stdout",
     "output_type": "stream",
     "text": [
      "downloading /n/data1/hms/neurobio/sabatini/rich/analysis/make_dFoF_and_tqm/mouse_0322R/20230425/jobNum_0/params.json   to   /media/rich/bigSSD/analysis_data/face_rhythm/mouse_0322R/dFoF_and_tqm/20230425/jobNum_0/params.json\n"
     ]
    },
    {
     "name": "stderr",
     "output_type": "stream",
     "text": [
      "0.00b [00:00, ?b/s]\n"
     ]
    },
    {
     "name": "stdout",
     "output_type": "stream",
     "text": [
      "downloading /n/data1/hms/neurobio/sabatini/rich/analysis/make_dFoF_and_tqm/mouse_0322R/20230425/jobNum_0/dFoF.npy   to   /media/rich/bigSSD/analysis_data/face_rhythm/mouse_0322R/dFoF_and_tqm/20230425/jobNum_0/dFoF.npy\n"
     ]
    },
    {
     "name": "stderr",
     "output_type": "stream",
     "text": [
      "0.00b [00:19, ?b/s]\n"
     ]
    },
    {
     "name": "stdout",
     "output_type": "stream",
     "text": [
      "downloading /n/data1/hms/neurobio/sabatini/rich/analysis/make_dFoF_and_tqm/mouse_0322R/20230425/jobNum_0/make_dFoF_and_tqm.py   to   /media/rich/bigSSD/analysis_data/face_rhythm/mouse_0322R/dFoF_and_tqm/20230425/jobNum_0/make_dFoF_and_tqm.py\n"
     ]
    },
    {
     "name": "stderr",
     "output_type": "stream",
     "text": [
      "0.00b [00:00, ?b/s]\n"
     ]
    },
    {
     "name": "stdout",
     "output_type": "stream",
     "text": [
      "downloading /n/data1/hms/neurobio/sabatini/rich/analysis/make_dFoF_and_tqm/mouse_0322R/20230425/jobNum_0/iscell_tqm.npy   to   /media/rich/bigSSD/analysis_data/face_rhythm/mouse_0322R/dFoF_and_tqm/20230425/jobNum_0/iscell_tqm.npy\n"
     ]
    },
    {
     "name": "stderr",
     "output_type": "stream",
     "text": [
      "0.00b [00:00, ?b/s]\n"
     ]
    },
    {
     "name": "stdout",
     "output_type": "stream",
     "text": [
      "downloading /n/data1/hms/neurobio/sabatini/rich/analysis/make_dFoF_and_tqm/mouse_0322R/20230425/jobNum_0/sbatch_config.sh   to   /media/rich/bigSSD/analysis_data/face_rhythm/mouse_0322R/dFoF_and_tqm/20230425/jobNum_0/sbatch_config.sh\n"
     ]
    },
    {
     "name": "stderr",
     "output_type": "stream",
     "text": [
      "0.00b [00:00, ?b/s]\n"
     ]
    },
    {
     "name": "stdout",
     "output_type": "stream",
     "text": [
      "downloading /n/data1/hms/neurobio/sabatini/rich/analysis/make_dFoF_and_tqm/mouse_0322R/20230425/jobNum_0/print_log_15082175.log   to   /media/rich/bigSSD/analysis_data/face_rhythm/mouse_0322R/dFoF_and_tqm/20230425/jobNum_0/print_log_15082175.log\n"
     ]
    },
    {
     "name": "stderr",
     "output_type": "stream",
     "text": [
      "0.00b [00:00, ?b/s]\n"
     ]
    },
    {
     "name": "stdout",
     "output_type": "stream",
     "text": [
      "downloading /n/data1/hms/neurobio/sabatini/rich/analysis/make_dFoF_and_tqm/mouse_0322R/20230425/make_dFoF_and_tqm.py   to   /media/rich/bigSSD/analysis_data/face_rhythm/mouse_0322R/dFoF_and_tqm/20230425/make_dFoF_and_tqm.py\n"
     ]
    },
    {
     "name": "stderr",
     "output_type": "stream",
     "text": [
      "0.00b [00:00, ?b/s]\n"
     ]
    },
    {
     "name": "stdout",
     "output_type": "stream",
     "text": [
      "downloading /n/data1/hms/neurobio/sabatini/rich/analysis/make_dFoF_and_tqm/mouse_0322R/20230425/dispatcher.py   to   /media/rich/bigSSD/analysis_data/face_rhythm/mouse_0322R/dFoF_and_tqm/20230425/dispatcher.py\n"
     ]
    },
    {
     "name": "stderr",
     "output_type": "stream",
     "text": [
      "0.00b [00:00, ?b/s]\n"
     ]
    },
    {
     "name": "stdout",
     "output_type": "stream",
     "text": [
      "downloading /n/data1/hms/neurobio/sabatini/rich/analysis/make_dFoF_and_tqm/mouse_0322R/20230425/notes.txt   to   /media/rich/bigSSD/analysis_data/face_rhythm/mouse_0322R/dFoF_and_tqm/20230425/notes.txt\n"
     ]
    },
    {
     "name": "stderr",
     "output_type": "stream",
     "text": [
      "0.00b [00:00, ?b/s]\n"
     ]
    },
    {
     "name": "stdout",
     "output_type": "stream",
     "text": [
      "downloading /n/data1/hms/neurobio/sabatini/rich/analysis/make_dFoF_and_tqm/mouse_0322R/20230419/parameters_batch.json   to   /media/rich/bigSSD/analysis_data/face_rhythm/mouse_0322R/dFoF_and_tqm/20230419/parameters_batch.json\n"
     ]
    },
    {
     "name": "stderr",
     "output_type": "stream",
     "text": [
      "0.00b [00:00, ?b/s]\n"
     ]
    },
    {
     "name": "stdout",
     "output_type": "stream",
     "text": [
      "downloading /n/data1/hms/neurobio/sabatini/rich/analysis/make_dFoF_and_tqm/mouse_0322R/20230419/jobNum_0/tqm.pkl   to   /media/rich/bigSSD/analysis_data/face_rhythm/mouse_0322R/dFoF_and_tqm/20230419/jobNum_0/tqm.pkl\n"
     ]
    },
    {
     "name": "stderr",
     "output_type": "stream",
     "text": [
      "0.00b [00:00, ?b/s]\n"
     ]
    },
    {
     "name": "stdout",
     "output_type": "stream",
     "text": [
      "downloading /n/data1/hms/neurobio/sabatini/rich/analysis/make_dFoF_and_tqm/mouse_0322R/20230419/jobNum_0/params.json   to   /media/rich/bigSSD/analysis_data/face_rhythm/mouse_0322R/dFoF_and_tqm/20230419/jobNum_0/params.json\n"
     ]
    },
    {
     "name": "stderr",
     "output_type": "stream",
     "text": [
      "0.00b [00:00, ?b/s]\n"
     ]
    },
    {
     "name": "stdout",
     "output_type": "stream",
     "text": [
      "downloading /n/data1/hms/neurobio/sabatini/rich/analysis/make_dFoF_and_tqm/mouse_0322R/20230419/jobNum_0/dFoF.npy   to   /media/rich/bigSSD/analysis_data/face_rhythm/mouse_0322R/dFoF_and_tqm/20230419/jobNum_0/dFoF.npy\n"
     ]
    },
    {
     "name": "stderr",
     "output_type": "stream",
     "text": [
      "0.00b [00:21, ?b/s]\n"
     ]
    },
    {
     "name": "stdout",
     "output_type": "stream",
     "text": [
      "downloading /n/data1/hms/neurobio/sabatini/rich/analysis/make_dFoF_and_tqm/mouse_0322R/20230419/jobNum_0/print_log_15082143.log   to   /media/rich/bigSSD/analysis_data/face_rhythm/mouse_0322R/dFoF_and_tqm/20230419/jobNum_0/print_log_15082143.log\n"
     ]
    },
    {
     "name": "stderr",
     "output_type": "stream",
     "text": [
      "0.00b [00:00, ?b/s]\n"
     ]
    },
    {
     "name": "stdout",
     "output_type": "stream",
     "text": [
      "downloading /n/data1/hms/neurobio/sabatini/rich/analysis/make_dFoF_and_tqm/mouse_0322R/20230419/jobNum_0/make_dFoF_and_tqm.py   to   /media/rich/bigSSD/analysis_data/face_rhythm/mouse_0322R/dFoF_and_tqm/20230419/jobNum_0/make_dFoF_and_tqm.py\n"
     ]
    },
    {
     "name": "stderr",
     "output_type": "stream",
     "text": [
      "0.00b [00:00, ?b/s]\n"
     ]
    },
    {
     "name": "stdout",
     "output_type": "stream",
     "text": [
      "downloading /n/data1/hms/neurobio/sabatini/rich/analysis/make_dFoF_and_tqm/mouse_0322R/20230419/jobNum_0/iscell_tqm.npy   to   /media/rich/bigSSD/analysis_data/face_rhythm/mouse_0322R/dFoF_and_tqm/20230419/jobNum_0/iscell_tqm.npy\n"
     ]
    },
    {
     "name": "stderr",
     "output_type": "stream",
     "text": [
      "0.00b [00:00, ?b/s]\n"
     ]
    },
    {
     "name": "stdout",
     "output_type": "stream",
     "text": [
      "downloading /n/data1/hms/neurobio/sabatini/rich/analysis/make_dFoF_and_tqm/mouse_0322R/20230419/jobNum_0/sbatch_config.sh   to   /media/rich/bigSSD/analysis_data/face_rhythm/mouse_0322R/dFoF_and_tqm/20230419/jobNum_0/sbatch_config.sh\n"
     ]
    },
    {
     "name": "stderr",
     "output_type": "stream",
     "text": [
      "0.00b [00:00, ?b/s]\n"
     ]
    },
    {
     "name": "stdout",
     "output_type": "stream",
     "text": [
      "downloading /n/data1/hms/neurobio/sabatini/rich/analysis/make_dFoF_and_tqm/mouse_0322R/20230419/make_dFoF_and_tqm.py   to   /media/rich/bigSSD/analysis_data/face_rhythm/mouse_0322R/dFoF_and_tqm/20230419/make_dFoF_and_tqm.py\n"
     ]
    },
    {
     "name": "stderr",
     "output_type": "stream",
     "text": [
      "0.00b [00:00, ?b/s]\n"
     ]
    },
    {
     "name": "stdout",
     "output_type": "stream",
     "text": [
      "downloading /n/data1/hms/neurobio/sabatini/rich/analysis/make_dFoF_and_tqm/mouse_0322R/20230419/dispatcher.py   to   /media/rich/bigSSD/analysis_data/face_rhythm/mouse_0322R/dFoF_and_tqm/20230419/dispatcher.py\n"
     ]
    },
    {
     "name": "stderr",
     "output_type": "stream",
     "text": [
      "0.00b [00:00, ?b/s]\n"
     ]
    },
    {
     "name": "stdout",
     "output_type": "stream",
     "text": [
      "downloading /n/data1/hms/neurobio/sabatini/rich/analysis/make_dFoF_and_tqm/mouse_0322R/20230419/notes.txt   to   /media/rich/bigSSD/analysis_data/face_rhythm/mouse_0322R/dFoF_and_tqm/20230419/notes.txt\n"
     ]
    },
    {
     "name": "stderr",
     "output_type": "stream",
     "text": [
      "0.00b [00:00, ?b/s]\n"
     ]
    },
    {
     "name": "stdout",
     "output_type": "stream",
     "text": [
      "downloading /n/data1/hms/neurobio/sabatini/rich/analysis/make_dFoF_and_tqm/mouse_0322R/20230519/parameters_batch.json   to   /media/rich/bigSSD/analysis_data/face_rhythm/mouse_0322R/dFoF_and_tqm/20230519/parameters_batch.json\n"
     ]
    },
    {
     "name": "stderr",
     "output_type": "stream",
     "text": [
      "0.00b [00:00, ?b/s]\n"
     ]
    },
    {
     "name": "stdout",
     "output_type": "stream",
     "text": [
      "downloading /n/data1/hms/neurobio/sabatini/rich/analysis/make_dFoF_and_tqm/mouse_0322R/20230519/jobNum_0/tqm.pkl   to   /media/rich/bigSSD/analysis_data/face_rhythm/mouse_0322R/dFoF_and_tqm/20230519/jobNum_0/tqm.pkl\n"
     ]
    },
    {
     "name": "stderr",
     "output_type": "stream",
     "text": [
      "0.00b [00:00, ?b/s]\n"
     ]
    },
    {
     "name": "stdout",
     "output_type": "stream",
     "text": [
      "downloading /n/data1/hms/neurobio/sabatini/rich/analysis/make_dFoF_and_tqm/mouse_0322R/20230519/jobNum_0/params.json   to   /media/rich/bigSSD/analysis_data/face_rhythm/mouse_0322R/dFoF_and_tqm/20230519/jobNum_0/params.json\n"
     ]
    },
    {
     "name": "stderr",
     "output_type": "stream",
     "text": [
      "0.00b [00:00, ?b/s]\n"
     ]
    },
    {
     "name": "stdout",
     "output_type": "stream",
     "text": [
      "downloading /n/data1/hms/neurobio/sabatini/rich/analysis/make_dFoF_and_tqm/mouse_0322R/20230519/jobNum_0/dFoF.npy   to   /media/rich/bigSSD/analysis_data/face_rhythm/mouse_0322R/dFoF_and_tqm/20230519/jobNum_0/dFoF.npy\n"
     ]
    },
    {
     "name": "stderr",
     "output_type": "stream",
     "text": [
      "0.00b [00:19, ?b/s]\n"
     ]
    },
    {
     "name": "stdout",
     "output_type": "stream",
     "text": [
      "downloading /n/data1/hms/neurobio/sabatini/rich/analysis/make_dFoF_and_tqm/mouse_0322R/20230519/jobNum_0/print_log_15082396.log   to   /media/rich/bigSSD/analysis_data/face_rhythm/mouse_0322R/dFoF_and_tqm/20230519/jobNum_0/print_log_15082396.log\n"
     ]
    },
    {
     "name": "stderr",
     "output_type": "stream",
     "text": [
      "0.00b [00:00, ?b/s]\n"
     ]
    },
    {
     "name": "stdout",
     "output_type": "stream",
     "text": [
      "downloading /n/data1/hms/neurobio/sabatini/rich/analysis/make_dFoF_and_tqm/mouse_0322R/20230519/jobNum_0/make_dFoF_and_tqm.py   to   /media/rich/bigSSD/analysis_data/face_rhythm/mouse_0322R/dFoF_and_tqm/20230519/jobNum_0/make_dFoF_and_tqm.py\n"
     ]
    },
    {
     "name": "stderr",
     "output_type": "stream",
     "text": [
      "0.00b [00:00, ?b/s]\n"
     ]
    },
    {
     "name": "stdout",
     "output_type": "stream",
     "text": [
      "downloading /n/data1/hms/neurobio/sabatini/rich/analysis/make_dFoF_and_tqm/mouse_0322R/20230519/jobNum_0/iscell_tqm.npy   to   /media/rich/bigSSD/analysis_data/face_rhythm/mouse_0322R/dFoF_and_tqm/20230519/jobNum_0/iscell_tqm.npy\n"
     ]
    },
    {
     "name": "stderr",
     "output_type": "stream",
     "text": [
      "0.00b [00:00, ?b/s]\n"
     ]
    },
    {
     "name": "stdout",
     "output_type": "stream",
     "text": [
      "downloading /n/data1/hms/neurobio/sabatini/rich/analysis/make_dFoF_and_tqm/mouse_0322R/20230519/jobNum_0/sbatch_config.sh   to   /media/rich/bigSSD/analysis_data/face_rhythm/mouse_0322R/dFoF_and_tqm/20230519/jobNum_0/sbatch_config.sh\n"
     ]
    },
    {
     "name": "stderr",
     "output_type": "stream",
     "text": [
      "0.00b [00:00, ?b/s]\n"
     ]
    },
    {
     "name": "stdout",
     "output_type": "stream",
     "text": [
      "downloading /n/data1/hms/neurobio/sabatini/rich/analysis/make_dFoF_and_tqm/mouse_0322R/20230519/make_dFoF_and_tqm.py   to   /media/rich/bigSSD/analysis_data/face_rhythm/mouse_0322R/dFoF_and_tqm/20230519/make_dFoF_and_tqm.py\n"
     ]
    },
    {
     "name": "stderr",
     "output_type": "stream",
     "text": [
      "0.00b [00:00, ?b/s]\n"
     ]
    },
    {
     "name": "stdout",
     "output_type": "stream",
     "text": [
      "downloading /n/data1/hms/neurobio/sabatini/rich/analysis/make_dFoF_and_tqm/mouse_0322R/20230519/dispatcher.py   to   /media/rich/bigSSD/analysis_data/face_rhythm/mouse_0322R/dFoF_and_tqm/20230519/dispatcher.py\n"
     ]
    },
    {
     "name": "stderr",
     "output_type": "stream",
     "text": [
      "0.00b [00:00, ?b/s]\n"
     ]
    },
    {
     "name": "stdout",
     "output_type": "stream",
     "text": [
      "downloading /n/data1/hms/neurobio/sabatini/rich/analysis/make_dFoF_and_tqm/mouse_0322R/20230519/notes.txt   to   /media/rich/bigSSD/analysis_data/face_rhythm/mouse_0322R/dFoF_and_tqm/20230519/notes.txt\n"
     ]
    },
    {
     "name": "stderr",
     "output_type": "stream",
     "text": [
      "0.00b [00:00, ?b/s]\n"
     ]
    },
    {
     "name": "stdout",
     "output_type": "stream",
     "text": [
      "downloading /n/data1/hms/neurobio/sabatini/rich/analysis/make_dFoF_and_tqm/mouse_0322R/20230429/parameters_batch.json   to   /media/rich/bigSSD/analysis_data/face_rhythm/mouse_0322R/dFoF_and_tqm/20230429/parameters_batch.json\n"
     ]
    },
    {
     "name": "stderr",
     "output_type": "stream",
     "text": [
      "0.00b [00:00, ?b/s]\n"
     ]
    },
    {
     "name": "stdout",
     "output_type": "stream",
     "text": [
      "downloading /n/data1/hms/neurobio/sabatini/rich/analysis/make_dFoF_and_tqm/mouse_0322R/20230429/jobNum_0/tqm.pkl   to   /media/rich/bigSSD/analysis_data/face_rhythm/mouse_0322R/dFoF_and_tqm/20230429/jobNum_0/tqm.pkl\n"
     ]
    },
    {
     "name": "stderr",
     "output_type": "stream",
     "text": [
      "0.00b [00:00, ?b/s]\n"
     ]
    },
    {
     "name": "stdout",
     "output_type": "stream",
     "text": [
      "downloading /n/data1/hms/neurobio/sabatini/rich/analysis/make_dFoF_and_tqm/mouse_0322R/20230429/jobNum_0/params.json   to   /media/rich/bigSSD/analysis_data/face_rhythm/mouse_0322R/dFoF_and_tqm/20230429/jobNum_0/params.json\n"
     ]
    },
    {
     "name": "stderr",
     "output_type": "stream",
     "text": [
      "0.00b [00:00, ?b/s]\n"
     ]
    },
    {
     "name": "stdout",
     "output_type": "stream",
     "text": [
      "downloading /n/data1/hms/neurobio/sabatini/rich/analysis/make_dFoF_and_tqm/mouse_0322R/20230429/jobNum_0/print_log_15082208.log   to   /media/rich/bigSSD/analysis_data/face_rhythm/mouse_0322R/dFoF_and_tqm/20230429/jobNum_0/print_log_15082208.log\n"
     ]
    },
    {
     "name": "stderr",
     "output_type": "stream",
     "text": [
      "0.00b [00:00, ?b/s]\n"
     ]
    },
    {
     "name": "stdout",
     "output_type": "stream",
     "text": [
      "downloading /n/data1/hms/neurobio/sabatini/rich/analysis/make_dFoF_and_tqm/mouse_0322R/20230429/jobNum_0/dFoF.npy   to   /media/rich/bigSSD/analysis_data/face_rhythm/mouse_0322R/dFoF_and_tqm/20230429/jobNum_0/dFoF.npy\n"
     ]
    },
    {
     "name": "stderr",
     "output_type": "stream",
     "text": [
      "0.00b [00:27, ?b/s]\n"
     ]
    },
    {
     "name": "stdout",
     "output_type": "stream",
     "text": [
      "downloading /n/data1/hms/neurobio/sabatini/rich/analysis/make_dFoF_and_tqm/mouse_0322R/20230429/jobNum_0/make_dFoF_and_tqm.py   to   /media/rich/bigSSD/analysis_data/face_rhythm/mouse_0322R/dFoF_and_tqm/20230429/jobNum_0/make_dFoF_and_tqm.py\n"
     ]
    },
    {
     "name": "stderr",
     "output_type": "stream",
     "text": [
      "0.00b [00:00, ?b/s]\n"
     ]
    },
    {
     "name": "stdout",
     "output_type": "stream",
     "text": [
      "downloading /n/data1/hms/neurobio/sabatini/rich/analysis/make_dFoF_and_tqm/mouse_0322R/20230429/jobNum_0/iscell_tqm.npy   to   /media/rich/bigSSD/analysis_data/face_rhythm/mouse_0322R/dFoF_and_tqm/20230429/jobNum_0/iscell_tqm.npy\n"
     ]
    },
    {
     "name": "stderr",
     "output_type": "stream",
     "text": [
      "0.00b [00:00, ?b/s]\n"
     ]
    },
    {
     "name": "stdout",
     "output_type": "stream",
     "text": [
      "downloading /n/data1/hms/neurobio/sabatini/rich/analysis/make_dFoF_and_tqm/mouse_0322R/20230429/jobNum_0/sbatch_config.sh   to   /media/rich/bigSSD/analysis_data/face_rhythm/mouse_0322R/dFoF_and_tqm/20230429/jobNum_0/sbatch_config.sh\n"
     ]
    },
    {
     "name": "stderr",
     "output_type": "stream",
     "text": [
      "0.00b [00:00, ?b/s]\n"
     ]
    },
    {
     "name": "stdout",
     "output_type": "stream",
     "text": [
      "downloading /n/data1/hms/neurobio/sabatini/rich/analysis/make_dFoF_and_tqm/mouse_0322R/20230429/make_dFoF_and_tqm.py   to   /media/rich/bigSSD/analysis_data/face_rhythm/mouse_0322R/dFoF_and_tqm/20230429/make_dFoF_and_tqm.py\n"
     ]
    },
    {
     "name": "stderr",
     "output_type": "stream",
     "text": [
      "0.00b [00:00, ?b/s]\n"
     ]
    },
    {
     "name": "stdout",
     "output_type": "stream",
     "text": [
      "downloading /n/data1/hms/neurobio/sabatini/rich/analysis/make_dFoF_and_tqm/mouse_0322R/20230429/dispatcher.py   to   /media/rich/bigSSD/analysis_data/face_rhythm/mouse_0322R/dFoF_and_tqm/20230429/dispatcher.py\n"
     ]
    },
    {
     "name": "stderr",
     "output_type": "stream",
     "text": [
      "0.00b [00:00, ?b/s]\n"
     ]
    },
    {
     "name": "stdout",
     "output_type": "stream",
     "text": [
      "downloading /n/data1/hms/neurobio/sabatini/rich/analysis/make_dFoF_and_tqm/mouse_0322R/20230429/notes.txt   to   /media/rich/bigSSD/analysis_data/face_rhythm/mouse_0322R/dFoF_and_tqm/20230429/notes.txt\n"
     ]
    },
    {
     "name": "stderr",
     "output_type": "stream",
     "text": [
      "0.00b [00:00, ?b/s]\n"
     ]
    },
    {
     "name": "stdout",
     "output_type": "stream",
     "text": [
      "downloading /n/data1/hms/neurobio/sabatini/rich/analysis/make_dFoF_and_tqm/mouse_0322R/20230501/parameters_batch.json   to   /media/rich/bigSSD/analysis_data/face_rhythm/mouse_0322R/dFoF_and_tqm/20230501/parameters_batch.json\n"
     ]
    },
    {
     "name": "stderr",
     "output_type": "stream",
     "text": [
      "0.00b [00:00, ?b/s]\n"
     ]
    },
    {
     "name": "stdout",
     "output_type": "stream",
     "text": [
      "downloading /n/data1/hms/neurobio/sabatini/rich/analysis/make_dFoF_and_tqm/mouse_0322R/20230501/jobNum_0/print_log_15082229.log   to   /media/rich/bigSSD/analysis_data/face_rhythm/mouse_0322R/dFoF_and_tqm/20230501/jobNum_0/print_log_15082229.log\n"
     ]
    },
    {
     "name": "stderr",
     "output_type": "stream",
     "text": [
      "0.00b [00:00, ?b/s]\n"
     ]
    },
    {
     "name": "stdout",
     "output_type": "stream",
     "text": [
      "downloading /n/data1/hms/neurobio/sabatini/rich/analysis/make_dFoF_and_tqm/mouse_0322R/20230501/jobNum_0/tqm.pkl   to   /media/rich/bigSSD/analysis_data/face_rhythm/mouse_0322R/dFoF_and_tqm/20230501/jobNum_0/tqm.pkl\n"
     ]
    },
    {
     "name": "stderr",
     "output_type": "stream",
     "text": [
      "0.00b [00:00, ?b/s]\n"
     ]
    },
    {
     "name": "stdout",
     "output_type": "stream",
     "text": [
      "downloading /n/data1/hms/neurobio/sabatini/rich/analysis/make_dFoF_and_tqm/mouse_0322R/20230501/jobNum_0/params.json   to   /media/rich/bigSSD/analysis_data/face_rhythm/mouse_0322R/dFoF_and_tqm/20230501/jobNum_0/params.json\n"
     ]
    },
    {
     "name": "stderr",
     "output_type": "stream",
     "text": [
      "0.00b [00:00, ?b/s]\n"
     ]
    },
    {
     "name": "stdout",
     "output_type": "stream",
     "text": [
      "downloading /n/data1/hms/neurobio/sabatini/rich/analysis/make_dFoF_and_tqm/mouse_0322R/20230501/jobNum_0/dFoF.npy   to   /media/rich/bigSSD/analysis_data/face_rhythm/mouse_0322R/dFoF_and_tqm/20230501/jobNum_0/dFoF.npy\n"
     ]
    },
    {
     "name": "stderr",
     "output_type": "stream",
     "text": [
      "0.00b [00:26, ?b/s]\n"
     ]
    },
    {
     "name": "stdout",
     "output_type": "stream",
     "text": [
      "downloading /n/data1/hms/neurobio/sabatini/rich/analysis/make_dFoF_and_tqm/mouse_0322R/20230501/jobNum_0/make_dFoF_and_tqm.py   to   /media/rich/bigSSD/analysis_data/face_rhythm/mouse_0322R/dFoF_and_tqm/20230501/jobNum_0/make_dFoF_and_tqm.py\n"
     ]
    },
    {
     "name": "stderr",
     "output_type": "stream",
     "text": [
      "0.00b [00:00, ?b/s]\n"
     ]
    },
    {
     "name": "stdout",
     "output_type": "stream",
     "text": [
      "downloading /n/data1/hms/neurobio/sabatini/rich/analysis/make_dFoF_and_tqm/mouse_0322R/20230501/jobNum_0/iscell_tqm.npy   to   /media/rich/bigSSD/analysis_data/face_rhythm/mouse_0322R/dFoF_and_tqm/20230501/jobNum_0/iscell_tqm.npy\n"
     ]
    },
    {
     "name": "stderr",
     "output_type": "stream",
     "text": [
      "0.00b [00:00, ?b/s]\n"
     ]
    },
    {
     "name": "stdout",
     "output_type": "stream",
     "text": [
      "downloading /n/data1/hms/neurobio/sabatini/rich/analysis/make_dFoF_and_tqm/mouse_0322R/20230501/jobNum_0/sbatch_config.sh   to   /media/rich/bigSSD/analysis_data/face_rhythm/mouse_0322R/dFoF_and_tqm/20230501/jobNum_0/sbatch_config.sh\n"
     ]
    },
    {
     "name": "stderr",
     "output_type": "stream",
     "text": [
      "0.00b [00:00, ?b/s]\n"
     ]
    },
    {
     "name": "stdout",
     "output_type": "stream",
     "text": [
      "downloading /n/data1/hms/neurobio/sabatini/rich/analysis/make_dFoF_and_tqm/mouse_0322R/20230501/make_dFoF_and_tqm.py   to   /media/rich/bigSSD/analysis_data/face_rhythm/mouse_0322R/dFoF_and_tqm/20230501/make_dFoF_and_tqm.py\n"
     ]
    },
    {
     "name": "stderr",
     "output_type": "stream",
     "text": [
      "0.00b [00:00, ?b/s]\n"
     ]
    },
    {
     "name": "stdout",
     "output_type": "stream",
     "text": [
      "downloading /n/data1/hms/neurobio/sabatini/rich/analysis/make_dFoF_and_tqm/mouse_0322R/20230501/dispatcher.py   to   /media/rich/bigSSD/analysis_data/face_rhythm/mouse_0322R/dFoF_and_tqm/20230501/dispatcher.py\n"
     ]
    },
    {
     "name": "stderr",
     "output_type": "stream",
     "text": [
      "0.00b [00:00, ?b/s]\n"
     ]
    },
    {
     "name": "stdout",
     "output_type": "stream",
     "text": [
      "downloading /n/data1/hms/neurobio/sabatini/rich/analysis/make_dFoF_and_tqm/mouse_0322R/20230501/notes.txt   to   /media/rich/bigSSD/analysis_data/face_rhythm/mouse_0322R/dFoF_and_tqm/20230501/notes.txt\n"
     ]
    },
    {
     "name": "stderr",
     "output_type": "stream",
     "text": [
      "0.00b [00:00, ?b/s]\n"
     ]
    },
    {
     "name": "stdout",
     "output_type": "stream",
     "text": [
      "downloading /n/data1/hms/neurobio/sabatini/rich/analysis/make_dFoF_and_tqm/mouse_0322R/20230505/parameters_batch.json   to   /media/rich/bigSSD/analysis_data/face_rhythm/mouse_0322R/dFoF_and_tqm/20230505/parameters_batch.json\n"
     ]
    },
    {
     "name": "stderr",
     "output_type": "stream",
     "text": [
      "0.00b [00:00, ?b/s]\n"
     ]
    },
    {
     "name": "stdout",
     "output_type": "stream",
     "text": [
      "downloading /n/data1/hms/neurobio/sabatini/rich/analysis/make_dFoF_and_tqm/mouse_0322R/20230505/jobNum_0/tqm.pkl   to   /media/rich/bigSSD/analysis_data/face_rhythm/mouse_0322R/dFoF_and_tqm/20230505/jobNum_0/tqm.pkl\n"
     ]
    },
    {
     "name": "stderr",
     "output_type": "stream",
     "text": [
      "0.00b [00:00, ?b/s]\n"
     ]
    },
    {
     "name": "stdout",
     "output_type": "stream",
     "text": [
      "downloading /n/data1/hms/neurobio/sabatini/rich/analysis/make_dFoF_and_tqm/mouse_0322R/20230505/jobNum_0/params.json   to   /media/rich/bigSSD/analysis_data/face_rhythm/mouse_0322R/dFoF_and_tqm/20230505/jobNum_0/params.json\n"
     ]
    },
    {
     "name": "stderr",
     "output_type": "stream",
     "text": [
      "0.00b [00:00, ?b/s]\n"
     ]
    },
    {
     "name": "stdout",
     "output_type": "stream",
     "text": [
      "downloading /n/data1/hms/neurobio/sabatini/rich/analysis/make_dFoF_and_tqm/mouse_0322R/20230505/jobNum_0/dFoF.npy   to   /media/rich/bigSSD/analysis_data/face_rhythm/mouse_0322R/dFoF_and_tqm/20230505/jobNum_0/dFoF.npy\n"
     ]
    },
    {
     "name": "stderr",
     "output_type": "stream",
     "text": [
      "0.00b [00:23, ?b/s]\n"
     ]
    },
    {
     "name": "stdout",
     "output_type": "stream",
     "text": [
      "downloading /n/data1/hms/neurobio/sabatini/rich/analysis/make_dFoF_and_tqm/mouse_0322R/20230505/jobNum_0/make_dFoF_and_tqm.py   to   /media/rich/bigSSD/analysis_data/face_rhythm/mouse_0322R/dFoF_and_tqm/20230505/jobNum_0/make_dFoF_and_tqm.py\n"
     ]
    },
    {
     "name": "stderr",
     "output_type": "stream",
     "text": [
      "0.00b [00:00, ?b/s]\n"
     ]
    },
    {
     "name": "stdout",
     "output_type": "stream",
     "text": [
      "downloading /n/data1/hms/neurobio/sabatini/rich/analysis/make_dFoF_and_tqm/mouse_0322R/20230505/jobNum_0/iscell_tqm.npy   to   /media/rich/bigSSD/analysis_data/face_rhythm/mouse_0322R/dFoF_and_tqm/20230505/jobNum_0/iscell_tqm.npy\n"
     ]
    },
    {
     "name": "stderr",
     "output_type": "stream",
     "text": [
      "0.00b [00:00, ?b/s]\n"
     ]
    },
    {
     "name": "stdout",
     "output_type": "stream",
     "text": [
      "downloading /n/data1/hms/neurobio/sabatini/rich/analysis/make_dFoF_and_tqm/mouse_0322R/20230505/jobNum_0/sbatch_config.sh   to   /media/rich/bigSSD/analysis_data/face_rhythm/mouse_0322R/dFoF_and_tqm/20230505/jobNum_0/sbatch_config.sh\n"
     ]
    },
    {
     "name": "stderr",
     "output_type": "stream",
     "text": [
      "0.00b [00:00, ?b/s]\n"
     ]
    },
    {
     "name": "stdout",
     "output_type": "stream",
     "text": [
      "downloading /n/data1/hms/neurobio/sabatini/rich/analysis/make_dFoF_and_tqm/mouse_0322R/20230505/jobNum_0/print_log_15082250.log   to   /media/rich/bigSSD/analysis_data/face_rhythm/mouse_0322R/dFoF_and_tqm/20230505/jobNum_0/print_log_15082250.log\n"
     ]
    },
    {
     "name": "stderr",
     "output_type": "stream",
     "text": [
      "0.00b [00:00, ?b/s]\n"
     ]
    },
    {
     "name": "stdout",
     "output_type": "stream",
     "text": [
      "downloading /n/data1/hms/neurobio/sabatini/rich/analysis/make_dFoF_and_tqm/mouse_0322R/20230505/make_dFoF_and_tqm.py   to   /media/rich/bigSSD/analysis_data/face_rhythm/mouse_0322R/dFoF_and_tqm/20230505/make_dFoF_and_tqm.py\n"
     ]
    },
    {
     "name": "stderr",
     "output_type": "stream",
     "text": [
      "0.00b [00:00, ?b/s]\n"
     ]
    },
    {
     "name": "stdout",
     "output_type": "stream",
     "text": [
      "downloading /n/data1/hms/neurobio/sabatini/rich/analysis/make_dFoF_and_tqm/mouse_0322R/20230505/dispatcher.py   to   /media/rich/bigSSD/analysis_data/face_rhythm/mouse_0322R/dFoF_and_tqm/20230505/dispatcher.py\n"
     ]
    },
    {
     "name": "stderr",
     "output_type": "stream",
     "text": [
      "0.00b [00:00, ?b/s]\n"
     ]
    },
    {
     "name": "stdout",
     "output_type": "stream",
     "text": [
      "downloading /n/data1/hms/neurobio/sabatini/rich/analysis/make_dFoF_and_tqm/mouse_0322R/20230505/notes.txt   to   /media/rich/bigSSD/analysis_data/face_rhythm/mouse_0322R/dFoF_and_tqm/20230505/notes.txt\n"
     ]
    },
    {
     "name": "stderr",
     "output_type": "stream",
     "text": [
      "0.00b [00:00, ?b/s]\n"
     ]
    },
    {
     "name": "stdout",
     "output_type": "stream",
     "text": [
      "downloading /n/data1/hms/neurobio/sabatini/rich/analysis/make_dFoF_and_tqm/mouse_0322R/20230427/parameters_batch.json   to   /media/rich/bigSSD/analysis_data/face_rhythm/mouse_0322R/dFoF_and_tqm/20230427/parameters_batch.json\n"
     ]
    },
    {
     "name": "stderr",
     "output_type": "stream",
     "text": [
      "0.00b [00:00, ?b/s]\n"
     ]
    },
    {
     "name": "stdout",
     "output_type": "stream",
     "text": [
      "downloading /n/data1/hms/neurobio/sabatini/rich/analysis/make_dFoF_and_tqm/mouse_0322R/20230427/jobNum_0/tqm.pkl   to   /media/rich/bigSSD/analysis_data/face_rhythm/mouse_0322R/dFoF_and_tqm/20230427/jobNum_0/tqm.pkl\n"
     ]
    },
    {
     "name": "stderr",
     "output_type": "stream",
     "text": [
      "0.00b [00:00, ?b/s]\n"
     ]
    },
    {
     "name": "stdout",
     "output_type": "stream",
     "text": [
      "downloading /n/data1/hms/neurobio/sabatini/rich/analysis/make_dFoF_and_tqm/mouse_0322R/20230427/jobNum_0/params.json   to   /media/rich/bigSSD/analysis_data/face_rhythm/mouse_0322R/dFoF_and_tqm/20230427/jobNum_0/params.json\n"
     ]
    },
    {
     "name": "stderr",
     "output_type": "stream",
     "text": [
      "0.00b [00:00, ?b/s]\n"
     ]
    },
    {
     "name": "stdout",
     "output_type": "stream",
     "text": [
      "downloading /n/data1/hms/neurobio/sabatini/rich/analysis/make_dFoF_and_tqm/mouse_0322R/20230427/jobNum_0/dFoF.npy   to   /media/rich/bigSSD/analysis_data/face_rhythm/mouse_0322R/dFoF_and_tqm/20230427/jobNum_0/dFoF.npy\n"
     ]
    },
    {
     "name": "stderr",
     "output_type": "stream",
     "text": [
      "0.00b [00:19, ?b/s]\n"
     ]
    },
    {
     "name": "stdout",
     "output_type": "stream",
     "text": [
      "downloading /n/data1/hms/neurobio/sabatini/rich/analysis/make_dFoF_and_tqm/mouse_0322R/20230427/jobNum_0/make_dFoF_and_tqm.py   to   /media/rich/bigSSD/analysis_data/face_rhythm/mouse_0322R/dFoF_and_tqm/20230427/jobNum_0/make_dFoF_and_tqm.py\n"
     ]
    },
    {
     "name": "stderr",
     "output_type": "stream",
     "text": [
      "0.00b [00:00, ?b/s]\n"
     ]
    },
    {
     "name": "stdout",
     "output_type": "stream",
     "text": [
      "downloading /n/data1/hms/neurobio/sabatini/rich/analysis/make_dFoF_and_tqm/mouse_0322R/20230427/jobNum_0/iscell_tqm.npy   to   /media/rich/bigSSD/analysis_data/face_rhythm/mouse_0322R/dFoF_and_tqm/20230427/jobNum_0/iscell_tqm.npy\n"
     ]
    },
    {
     "name": "stderr",
     "output_type": "stream",
     "text": [
      "0.00b [00:00, ?b/s]\n"
     ]
    },
    {
     "name": "stdout",
     "output_type": "stream",
     "text": [
      "downloading /n/data1/hms/neurobio/sabatini/rich/analysis/make_dFoF_and_tqm/mouse_0322R/20230427/jobNum_0/sbatch_config.sh   to   /media/rich/bigSSD/analysis_data/face_rhythm/mouse_0322R/dFoF_and_tqm/20230427/jobNum_0/sbatch_config.sh\n"
     ]
    },
    {
     "name": "stderr",
     "output_type": "stream",
     "text": [
      "0.00b [00:00, ?b/s]\n"
     ]
    },
    {
     "name": "stdout",
     "output_type": "stream",
     "text": [
      "downloading /n/data1/hms/neurobio/sabatini/rich/analysis/make_dFoF_and_tqm/mouse_0322R/20230427/jobNum_0/print_log_15082195.log   to   /media/rich/bigSSD/analysis_data/face_rhythm/mouse_0322R/dFoF_and_tqm/20230427/jobNum_0/print_log_15082195.log\n"
     ]
    },
    {
     "name": "stderr",
     "output_type": "stream",
     "text": [
      "0.00b [00:00, ?b/s]\n"
     ]
    },
    {
     "name": "stdout",
     "output_type": "stream",
     "text": [
      "downloading /n/data1/hms/neurobio/sabatini/rich/analysis/make_dFoF_and_tqm/mouse_0322R/20230427/make_dFoF_and_tqm.py   to   /media/rich/bigSSD/analysis_data/face_rhythm/mouse_0322R/dFoF_and_tqm/20230427/make_dFoF_and_tqm.py\n"
     ]
    },
    {
     "name": "stderr",
     "output_type": "stream",
     "text": [
      "0.00b [00:00, ?b/s]\n"
     ]
    },
    {
     "name": "stdout",
     "output_type": "stream",
     "text": [
      "downloading /n/data1/hms/neurobio/sabatini/rich/analysis/make_dFoF_and_tqm/mouse_0322R/20230427/dispatcher.py   to   /media/rich/bigSSD/analysis_data/face_rhythm/mouse_0322R/dFoF_and_tqm/20230427/dispatcher.py\n"
     ]
    },
    {
     "name": "stderr",
     "output_type": "stream",
     "text": [
      "0.00b [00:00, ?b/s]\n"
     ]
    },
    {
     "name": "stdout",
     "output_type": "stream",
     "text": [
      "downloading /n/data1/hms/neurobio/sabatini/rich/analysis/make_dFoF_and_tqm/mouse_0322R/20230427/notes.txt   to   /media/rich/bigSSD/analysis_data/face_rhythm/mouse_0322R/dFoF_and_tqm/20230427/notes.txt\n"
     ]
    },
    {
     "name": "stderr",
     "output_type": "stream",
     "text": [
      "0.00b [00:00, ?b/s]\n"
     ]
    },
    {
     "name": "stdout",
     "output_type": "stream",
     "text": [
      "downloading /n/data1/hms/neurobio/sabatini/rich/analysis/make_dFoF_and_tqm/mouse_0322R/20230516/parameters_batch.json   to   /media/rich/bigSSD/analysis_data/face_rhythm/mouse_0322R/dFoF_and_tqm/20230516/parameters_batch.json\n"
     ]
    },
    {
     "name": "stderr",
     "output_type": "stream",
     "text": [
      "0.00b [00:00, ?b/s]\n"
     ]
    },
    {
     "name": "stdout",
     "output_type": "stream",
     "text": [
      "downloading /n/data1/hms/neurobio/sabatini/rich/analysis/make_dFoF_and_tqm/mouse_0322R/20230516/jobNum_0/tqm.pkl   to   /media/rich/bigSSD/analysis_data/face_rhythm/mouse_0322R/dFoF_and_tqm/20230516/jobNum_0/tqm.pkl\n"
     ]
    },
    {
     "name": "stderr",
     "output_type": "stream",
     "text": [
      "0.00b [00:00, ?b/s]\n"
     ]
    },
    {
     "name": "stdout",
     "output_type": "stream",
     "text": [
      "downloading /n/data1/hms/neurobio/sabatini/rich/analysis/make_dFoF_and_tqm/mouse_0322R/20230516/jobNum_0/params.json   to   /media/rich/bigSSD/analysis_data/face_rhythm/mouse_0322R/dFoF_and_tqm/20230516/jobNum_0/params.json\n"
     ]
    },
    {
     "name": "stderr",
     "output_type": "stream",
     "text": [
      "0.00b [00:00, ?b/s]\n"
     ]
    },
    {
     "name": "stdout",
     "output_type": "stream",
     "text": [
      "downloading /n/data1/hms/neurobio/sabatini/rich/analysis/make_dFoF_and_tqm/mouse_0322R/20230516/jobNum_0/dFoF.npy   to   /media/rich/bigSSD/analysis_data/face_rhythm/mouse_0322R/dFoF_and_tqm/20230516/jobNum_0/dFoF.npy\n"
     ]
    },
    {
     "name": "stderr",
     "output_type": "stream",
     "text": [
      "0.00b [00:22, ?b/s]\n"
     ]
    },
    {
     "name": "stdout",
     "output_type": "stream",
     "text": [
      "downloading /n/data1/hms/neurobio/sabatini/rich/analysis/make_dFoF_and_tqm/mouse_0322R/20230516/jobNum_0/make_dFoF_and_tqm.py   to   /media/rich/bigSSD/analysis_data/face_rhythm/mouse_0322R/dFoF_and_tqm/20230516/jobNum_0/make_dFoF_and_tqm.py\n"
     ]
    },
    {
     "name": "stderr",
     "output_type": "stream",
     "text": [
      "0.00b [00:00, ?b/s]\n"
     ]
    },
    {
     "name": "stdout",
     "output_type": "stream",
     "text": [
      "downloading /n/data1/hms/neurobio/sabatini/rich/analysis/make_dFoF_and_tqm/mouse_0322R/20230516/jobNum_0/iscell_tqm.npy   to   /media/rich/bigSSD/analysis_data/face_rhythm/mouse_0322R/dFoF_and_tqm/20230516/jobNum_0/iscell_tqm.npy\n"
     ]
    },
    {
     "name": "stderr",
     "output_type": "stream",
     "text": [
      "0.00b [00:00, ?b/s]\n"
     ]
    },
    {
     "name": "stdout",
     "output_type": "stream",
     "text": [
      "downloading /n/data1/hms/neurobio/sabatini/rich/analysis/make_dFoF_and_tqm/mouse_0322R/20230516/jobNum_0/sbatch_config.sh   to   /media/rich/bigSSD/analysis_data/face_rhythm/mouse_0322R/dFoF_and_tqm/20230516/jobNum_0/sbatch_config.sh\n"
     ]
    },
    {
     "name": "stderr",
     "output_type": "stream",
     "text": [
      "0.00b [00:00, ?b/s]\n"
     ]
    },
    {
     "name": "stdout",
     "output_type": "stream",
     "text": [
      "downloading /n/data1/hms/neurobio/sabatini/rich/analysis/make_dFoF_and_tqm/mouse_0322R/20230516/jobNum_0/print_log_15082381.log   to   /media/rich/bigSSD/analysis_data/face_rhythm/mouse_0322R/dFoF_and_tqm/20230516/jobNum_0/print_log_15082381.log\n"
     ]
    },
    {
     "name": "stderr",
     "output_type": "stream",
     "text": [
      "0.00b [00:00, ?b/s]\n"
     ]
    },
    {
     "name": "stdout",
     "output_type": "stream",
     "text": [
      "downloading /n/data1/hms/neurobio/sabatini/rich/analysis/make_dFoF_and_tqm/mouse_0322R/20230516/make_dFoF_and_tqm.py   to   /media/rich/bigSSD/analysis_data/face_rhythm/mouse_0322R/dFoF_and_tqm/20230516/make_dFoF_and_tqm.py\n"
     ]
    },
    {
     "name": "stderr",
     "output_type": "stream",
     "text": [
      "0.00b [00:00, ?b/s]\n"
     ]
    },
    {
     "name": "stdout",
     "output_type": "stream",
     "text": [
      "downloading /n/data1/hms/neurobio/sabatini/rich/analysis/make_dFoF_and_tqm/mouse_0322R/20230516/dispatcher.py   to   /media/rich/bigSSD/analysis_data/face_rhythm/mouse_0322R/dFoF_and_tqm/20230516/dispatcher.py\n"
     ]
    },
    {
     "name": "stderr",
     "output_type": "stream",
     "text": [
      "0.00b [00:00, ?b/s]\n"
     ]
    },
    {
     "name": "stdout",
     "output_type": "stream",
     "text": [
      "downloading /n/data1/hms/neurobio/sabatini/rich/analysis/make_dFoF_and_tqm/mouse_0322R/20230516/notes.txt   to   /media/rich/bigSSD/analysis_data/face_rhythm/mouse_0322R/dFoF_and_tqm/20230516/notes.txt\n"
     ]
    },
    {
     "name": "stderr",
     "output_type": "stream",
     "text": [
      "0.00b [00:00, ?b/s]\n"
     ]
    },
    {
     "name": "stdout",
     "output_type": "stream",
     "text": [
      "downloading /n/data1/hms/neurobio/sabatini/rich/analysis/make_dFoF_and_tqm/mouse_0322R/20230509/parameters_batch.json   to   /media/rich/bigSSD/analysis_data/face_rhythm/mouse_0322R/dFoF_and_tqm/20230509/parameters_batch.json\n"
     ]
    },
    {
     "name": "stderr",
     "output_type": "stream",
     "text": [
      "0.00b [00:00, ?b/s]\n"
     ]
    },
    {
     "name": "stdout",
     "output_type": "stream",
     "text": [
      "downloading /n/data1/hms/neurobio/sabatini/rich/analysis/make_dFoF_and_tqm/mouse_0322R/20230509/jobNum_0/tqm.pkl   to   /media/rich/bigSSD/analysis_data/face_rhythm/mouse_0322R/dFoF_and_tqm/20230509/jobNum_0/tqm.pkl\n"
     ]
    },
    {
     "name": "stderr",
     "output_type": "stream",
     "text": [
      "0.00b [00:00, ?b/s]\n"
     ]
    },
    {
     "name": "stdout",
     "output_type": "stream",
     "text": [
      "downloading /n/data1/hms/neurobio/sabatini/rich/analysis/make_dFoF_and_tqm/mouse_0322R/20230509/jobNum_0/params.json   to   /media/rich/bigSSD/analysis_data/face_rhythm/mouse_0322R/dFoF_and_tqm/20230509/jobNum_0/params.json\n"
     ]
    },
    {
     "name": "stderr",
     "output_type": "stream",
     "text": [
      "0.00b [00:00, ?b/s]\n"
     ]
    },
    {
     "name": "stdout",
     "output_type": "stream",
     "text": [
      "downloading /n/data1/hms/neurobio/sabatini/rich/analysis/make_dFoF_and_tqm/mouse_0322R/20230509/jobNum_0/dFoF.npy   to   /media/rich/bigSSD/analysis_data/face_rhythm/mouse_0322R/dFoF_and_tqm/20230509/jobNum_0/dFoF.npy\n"
     ]
    },
    {
     "name": "stderr",
     "output_type": "stream",
     "text": [
      "0.00b [00:20, ?b/s]\n"
     ]
    },
    {
     "name": "stdout",
     "output_type": "stream",
     "text": [
      "downloading /n/data1/hms/neurobio/sabatini/rich/analysis/make_dFoF_and_tqm/mouse_0322R/20230509/jobNum_0/print_log_15082335.log   to   /media/rich/bigSSD/analysis_data/face_rhythm/mouse_0322R/dFoF_and_tqm/20230509/jobNum_0/print_log_15082335.log\n"
     ]
    },
    {
     "name": "stderr",
     "output_type": "stream",
     "text": [
      "0.00b [00:00, ?b/s]\n"
     ]
    },
    {
     "name": "stdout",
     "output_type": "stream",
     "text": [
      "downloading /n/data1/hms/neurobio/sabatini/rich/analysis/make_dFoF_and_tqm/mouse_0322R/20230509/jobNum_0/make_dFoF_and_tqm.py   to   /media/rich/bigSSD/analysis_data/face_rhythm/mouse_0322R/dFoF_and_tqm/20230509/jobNum_0/make_dFoF_and_tqm.py\n"
     ]
    },
    {
     "name": "stderr",
     "output_type": "stream",
     "text": [
      "0.00b [00:00, ?b/s]\n"
     ]
    },
    {
     "name": "stdout",
     "output_type": "stream",
     "text": [
      "downloading /n/data1/hms/neurobio/sabatini/rich/analysis/make_dFoF_and_tqm/mouse_0322R/20230509/jobNum_0/iscell_tqm.npy   to   /media/rich/bigSSD/analysis_data/face_rhythm/mouse_0322R/dFoF_and_tqm/20230509/jobNum_0/iscell_tqm.npy\n"
     ]
    },
    {
     "name": "stderr",
     "output_type": "stream",
     "text": [
      "0.00b [00:00, ?b/s]\n"
     ]
    },
    {
     "name": "stdout",
     "output_type": "stream",
     "text": [
      "downloading /n/data1/hms/neurobio/sabatini/rich/analysis/make_dFoF_and_tqm/mouse_0322R/20230509/jobNum_0/sbatch_config.sh   to   /media/rich/bigSSD/analysis_data/face_rhythm/mouse_0322R/dFoF_and_tqm/20230509/jobNum_0/sbatch_config.sh\n"
     ]
    },
    {
     "name": "stderr",
     "output_type": "stream",
     "text": [
      "0.00b [00:00, ?b/s]\n"
     ]
    },
    {
     "name": "stdout",
     "output_type": "stream",
     "text": [
      "downloading /n/data1/hms/neurobio/sabatini/rich/analysis/make_dFoF_and_tqm/mouse_0322R/20230509/make_dFoF_and_tqm.py   to   /media/rich/bigSSD/analysis_data/face_rhythm/mouse_0322R/dFoF_and_tqm/20230509/make_dFoF_and_tqm.py\n"
     ]
    },
    {
     "name": "stderr",
     "output_type": "stream",
     "text": [
      "0.00b [00:00, ?b/s]\n"
     ]
    },
    {
     "name": "stdout",
     "output_type": "stream",
     "text": [
      "downloading /n/data1/hms/neurobio/sabatini/rich/analysis/make_dFoF_and_tqm/mouse_0322R/20230509/dispatcher.py   to   /media/rich/bigSSD/analysis_data/face_rhythm/mouse_0322R/dFoF_and_tqm/20230509/dispatcher.py\n"
     ]
    },
    {
     "name": "stderr",
     "output_type": "stream",
     "text": [
      "0.00b [00:00, ?b/s]\n"
     ]
    },
    {
     "name": "stdout",
     "output_type": "stream",
     "text": [
      "downloading /n/data1/hms/neurobio/sabatini/rich/analysis/make_dFoF_and_tqm/mouse_0322R/20230509/notes.txt   to   /media/rich/bigSSD/analysis_data/face_rhythm/mouse_0322R/dFoF_and_tqm/20230509/notes.txt\n"
     ]
    },
    {
     "name": "stderr",
     "output_type": "stream",
     "text": [
      "0.00b [00:00, ?b/s]\n"
     ]
    },
    {
     "name": "stdout",
     "output_type": "stream",
     "text": [
      "downloading /n/data1/hms/neurobio/sabatini/rich/analysis/make_dFoF_and_tqm/mouse_0322R/20230503/parameters_batch.json   to   /media/rich/bigSSD/analysis_data/face_rhythm/mouse_0322R/dFoF_and_tqm/20230503/parameters_batch.json\n"
     ]
    },
    {
     "name": "stderr",
     "output_type": "stream",
     "text": [
      "0.00b [00:00, ?b/s]\n"
     ]
    },
    {
     "name": "stdout",
     "output_type": "stream",
     "text": [
      "downloading /n/data1/hms/neurobio/sabatini/rich/analysis/make_dFoF_and_tqm/mouse_0322R/20230503/jobNum_0/tqm.pkl   to   /media/rich/bigSSD/analysis_data/face_rhythm/mouse_0322R/dFoF_and_tqm/20230503/jobNum_0/tqm.pkl\n"
     ]
    },
    {
     "name": "stderr",
     "output_type": "stream",
     "text": [
      "0.00b [00:00, ?b/s]\n"
     ]
    },
    {
     "name": "stdout",
     "output_type": "stream",
     "text": [
      "downloading /n/data1/hms/neurobio/sabatini/rich/analysis/make_dFoF_and_tqm/mouse_0322R/20230503/jobNum_0/params.json   to   /media/rich/bigSSD/analysis_data/face_rhythm/mouse_0322R/dFoF_and_tqm/20230503/jobNum_0/params.json\n"
     ]
    },
    {
     "name": "stderr",
     "output_type": "stream",
     "text": [
      "0.00b [00:00, ?b/s]\n"
     ]
    },
    {
     "name": "stdout",
     "output_type": "stream",
     "text": [
      "downloading /n/data1/hms/neurobio/sabatini/rich/analysis/make_dFoF_and_tqm/mouse_0322R/20230503/jobNum_0/dFoF.npy   to   /media/rich/bigSSD/analysis_data/face_rhythm/mouse_0322R/dFoF_and_tqm/20230503/jobNum_0/dFoF.npy\n"
     ]
    },
    {
     "name": "stderr",
     "output_type": "stream",
     "text": [
      "0.00b [00:26, ?b/s]\n"
     ]
    },
    {
     "name": "stdout",
     "output_type": "stream",
     "text": [
      "downloading /n/data1/hms/neurobio/sabatini/rich/analysis/make_dFoF_and_tqm/mouse_0322R/20230503/jobNum_0/print_log_15082239.log   to   /media/rich/bigSSD/analysis_data/face_rhythm/mouse_0322R/dFoF_and_tqm/20230503/jobNum_0/print_log_15082239.log\n"
     ]
    },
    {
     "name": "stderr",
     "output_type": "stream",
     "text": [
      "0.00b [00:00, ?b/s]\n"
     ]
    },
    {
     "name": "stdout",
     "output_type": "stream",
     "text": [
      "downloading /n/data1/hms/neurobio/sabatini/rich/analysis/make_dFoF_and_tqm/mouse_0322R/20230503/jobNum_0/make_dFoF_and_tqm.py   to   /media/rich/bigSSD/analysis_data/face_rhythm/mouse_0322R/dFoF_and_tqm/20230503/jobNum_0/make_dFoF_and_tqm.py\n"
     ]
    },
    {
     "name": "stderr",
     "output_type": "stream",
     "text": [
      "0.00b [00:00, ?b/s]\n"
     ]
    },
    {
     "name": "stdout",
     "output_type": "stream",
     "text": [
      "downloading /n/data1/hms/neurobio/sabatini/rich/analysis/make_dFoF_and_tqm/mouse_0322R/20230503/jobNum_0/iscell_tqm.npy   to   /media/rich/bigSSD/analysis_data/face_rhythm/mouse_0322R/dFoF_and_tqm/20230503/jobNum_0/iscell_tqm.npy\n"
     ]
    },
    {
     "name": "stderr",
     "output_type": "stream",
     "text": [
      "0.00b [00:00, ?b/s]\n"
     ]
    },
    {
     "name": "stdout",
     "output_type": "stream",
     "text": [
      "downloading /n/data1/hms/neurobio/sabatini/rich/analysis/make_dFoF_and_tqm/mouse_0322R/20230503/jobNum_0/sbatch_config.sh   to   /media/rich/bigSSD/analysis_data/face_rhythm/mouse_0322R/dFoF_and_tqm/20230503/jobNum_0/sbatch_config.sh\n"
     ]
    },
    {
     "name": "stderr",
     "output_type": "stream",
     "text": [
      "0.00b [00:00, ?b/s]\n"
     ]
    },
    {
     "name": "stdout",
     "output_type": "stream",
     "text": [
      "downloading /n/data1/hms/neurobio/sabatini/rich/analysis/make_dFoF_and_tqm/mouse_0322R/20230503/make_dFoF_and_tqm.py   to   /media/rich/bigSSD/analysis_data/face_rhythm/mouse_0322R/dFoF_and_tqm/20230503/make_dFoF_and_tqm.py\n"
     ]
    },
    {
     "name": "stderr",
     "output_type": "stream",
     "text": [
      "0.00b [00:00, ?b/s]\n"
     ]
    },
    {
     "name": "stdout",
     "output_type": "stream",
     "text": [
      "downloading /n/data1/hms/neurobio/sabatini/rich/analysis/make_dFoF_and_tqm/mouse_0322R/20230503/dispatcher.py   to   /media/rich/bigSSD/analysis_data/face_rhythm/mouse_0322R/dFoF_and_tqm/20230503/dispatcher.py\n"
     ]
    },
    {
     "name": "stderr",
     "output_type": "stream",
     "text": [
      "0.00b [00:00, ?b/s]\n"
     ]
    },
    {
     "name": "stdout",
     "output_type": "stream",
     "text": [
      "downloading /n/data1/hms/neurobio/sabatini/rich/analysis/make_dFoF_and_tqm/mouse_0322R/20230503/notes.txt   to   /media/rich/bigSSD/analysis_data/face_rhythm/mouse_0322R/dFoF_and_tqm/20230503/notes.txt\n"
     ]
    },
    {
     "name": "stderr",
     "output_type": "stream",
     "text": [
      "0.00b [00:00, ?b/s]\n"
     ]
    },
    {
     "name": "stdout",
     "output_type": "stream",
     "text": [
      "downloading /n/data1/hms/neurobio/sabatini/rich/analysis/make_dFoF_and_tqm/mouse_0322R/20230524/parameters_batch.json   to   /media/rich/bigSSD/analysis_data/face_rhythm/mouse_0322R/dFoF_and_tqm/20230524/parameters_batch.json\n"
     ]
    },
    {
     "name": "stderr",
     "output_type": "stream",
     "text": [
      "0.00b [00:00, ?b/s]\n"
     ]
    },
    {
     "name": "stdout",
     "output_type": "stream",
     "text": [
      "downloading /n/data1/hms/neurobio/sabatini/rich/analysis/make_dFoF_and_tqm/mouse_0322R/20230524/jobNum_0/tqm.pkl   to   /media/rich/bigSSD/analysis_data/face_rhythm/mouse_0322R/dFoF_and_tqm/20230524/jobNum_0/tqm.pkl\n"
     ]
    },
    {
     "name": "stderr",
     "output_type": "stream",
     "text": [
      "0.00b [00:00, ?b/s]\n"
     ]
    },
    {
     "name": "stdout",
     "output_type": "stream",
     "text": [
      "downloading /n/data1/hms/neurobio/sabatini/rich/analysis/make_dFoF_and_tqm/mouse_0322R/20230524/jobNum_0/params.json   to   /media/rich/bigSSD/analysis_data/face_rhythm/mouse_0322R/dFoF_and_tqm/20230524/jobNum_0/params.json\n"
     ]
    },
    {
     "name": "stderr",
     "output_type": "stream",
     "text": [
      "0.00b [00:00, ?b/s]\n"
     ]
    },
    {
     "name": "stdout",
     "output_type": "stream",
     "text": [
      "downloading /n/data1/hms/neurobio/sabatini/rich/analysis/make_dFoF_and_tqm/mouse_0322R/20230524/jobNum_0/dFoF.npy   to   /media/rich/bigSSD/analysis_data/face_rhythm/mouse_0322R/dFoF_and_tqm/20230524/jobNum_0/dFoF.npy\n"
     ]
    },
    {
     "name": "stderr",
     "output_type": "stream",
     "text": [
      "0.00b [00:21, ?b/s]\n"
     ]
    },
    {
     "name": "stdout",
     "output_type": "stream",
     "text": [
      "downloading /n/data1/hms/neurobio/sabatini/rich/analysis/make_dFoF_and_tqm/mouse_0322R/20230524/jobNum_0/print_log_15082445.log   to   /media/rich/bigSSD/analysis_data/face_rhythm/mouse_0322R/dFoF_and_tqm/20230524/jobNum_0/print_log_15082445.log\n"
     ]
    },
    {
     "name": "stderr",
     "output_type": "stream",
     "text": [
      "0.00b [00:00, ?b/s]\n"
     ]
    },
    {
     "name": "stdout",
     "output_type": "stream",
     "text": [
      "downloading /n/data1/hms/neurobio/sabatini/rich/analysis/make_dFoF_and_tqm/mouse_0322R/20230524/jobNum_0/make_dFoF_and_tqm.py   to   /media/rich/bigSSD/analysis_data/face_rhythm/mouse_0322R/dFoF_and_tqm/20230524/jobNum_0/make_dFoF_and_tqm.py\n"
     ]
    },
    {
     "name": "stderr",
     "output_type": "stream",
     "text": [
      "0.00b [00:00, ?b/s]\n"
     ]
    },
    {
     "name": "stdout",
     "output_type": "stream",
     "text": [
      "downloading /n/data1/hms/neurobio/sabatini/rich/analysis/make_dFoF_and_tqm/mouse_0322R/20230524/jobNum_0/iscell_tqm.npy   to   /media/rich/bigSSD/analysis_data/face_rhythm/mouse_0322R/dFoF_and_tqm/20230524/jobNum_0/iscell_tqm.npy\n"
     ]
    },
    {
     "name": "stderr",
     "output_type": "stream",
     "text": [
      "0.00b [00:00, ?b/s]\n"
     ]
    },
    {
     "name": "stdout",
     "output_type": "stream",
     "text": [
      "downloading /n/data1/hms/neurobio/sabatini/rich/analysis/make_dFoF_and_tqm/mouse_0322R/20230524/jobNum_0/sbatch_config.sh   to   /media/rich/bigSSD/analysis_data/face_rhythm/mouse_0322R/dFoF_and_tqm/20230524/jobNum_0/sbatch_config.sh\n"
     ]
    },
    {
     "name": "stderr",
     "output_type": "stream",
     "text": [
      "0.00b [00:00, ?b/s]\n"
     ]
    },
    {
     "name": "stdout",
     "output_type": "stream",
     "text": [
      "downloading /n/data1/hms/neurobio/sabatini/rich/analysis/make_dFoF_and_tqm/mouse_0322R/20230524/make_dFoF_and_tqm.py   to   /media/rich/bigSSD/analysis_data/face_rhythm/mouse_0322R/dFoF_and_tqm/20230524/make_dFoF_and_tqm.py\n"
     ]
    },
    {
     "name": "stderr",
     "output_type": "stream",
     "text": [
      "0.00b [00:00, ?b/s]\n"
     ]
    },
    {
     "name": "stdout",
     "output_type": "stream",
     "text": [
      "downloading /n/data1/hms/neurobio/sabatini/rich/analysis/make_dFoF_and_tqm/mouse_0322R/20230524/dispatcher.py   to   /media/rich/bigSSD/analysis_data/face_rhythm/mouse_0322R/dFoF_and_tqm/20230524/dispatcher.py\n"
     ]
    },
    {
     "name": "stderr",
     "output_type": "stream",
     "text": [
      "0.00b [00:00, ?b/s]\n"
     ]
    },
    {
     "name": "stdout",
     "output_type": "stream",
     "text": [
      "downloading /n/data1/hms/neurobio/sabatini/rich/analysis/make_dFoF_and_tqm/mouse_0322R/20230524/notes.txt   to   /media/rich/bigSSD/analysis_data/face_rhythm/mouse_0322R/dFoF_and_tqm/20230524/notes.txt\n"
     ]
    },
    {
     "name": "stderr",
     "output_type": "stream",
     "text": [
      "0.00b [00:00, ?b/s]\n"
     ]
    },
    {
     "name": "stdout",
     "output_type": "stream",
     "text": [
      "downloading /n/data1/hms/neurobio/sabatini/rich/analysis/make_dFoF_and_tqm/mouse_0322R/20230502/parameters_batch.json   to   /media/rich/bigSSD/analysis_data/face_rhythm/mouse_0322R/dFoF_and_tqm/20230502/parameters_batch.json\n"
     ]
    },
    {
     "name": "stderr",
     "output_type": "stream",
     "text": [
      "0.00b [00:00, ?b/s]\n"
     ]
    },
    {
     "name": "stdout",
     "output_type": "stream",
     "text": [
      "downloading /n/data1/hms/neurobio/sabatini/rich/analysis/make_dFoF_and_tqm/mouse_0322R/20230502/jobNum_0/tqm.pkl   to   /media/rich/bigSSD/analysis_data/face_rhythm/mouse_0322R/dFoF_and_tqm/20230502/jobNum_0/tqm.pkl\n"
     ]
    },
    {
     "name": "stderr",
     "output_type": "stream",
     "text": [
      "0.00b [00:00, ?b/s]\n"
     ]
    },
    {
     "name": "stdout",
     "output_type": "stream",
     "text": [
      "downloading /n/data1/hms/neurobio/sabatini/rich/analysis/make_dFoF_and_tqm/mouse_0322R/20230502/jobNum_0/params.json   to   /media/rich/bigSSD/analysis_data/face_rhythm/mouse_0322R/dFoF_and_tqm/20230502/jobNum_0/params.json\n"
     ]
    },
    {
     "name": "stderr",
     "output_type": "stream",
     "text": [
      "0.00b [00:00, ?b/s]\n"
     ]
    },
    {
     "name": "stdout",
     "output_type": "stream",
     "text": [
      "downloading /n/data1/hms/neurobio/sabatini/rich/analysis/make_dFoF_and_tqm/mouse_0322R/20230502/jobNum_0/dFoF.npy   to   /media/rich/bigSSD/analysis_data/face_rhythm/mouse_0322R/dFoF_and_tqm/20230502/jobNum_0/dFoF.npy\n"
     ]
    },
    {
     "name": "stderr",
     "output_type": "stream",
     "text": [
      "0.00b [00:20, ?b/s]\n"
     ]
    },
    {
     "name": "stdout",
     "output_type": "stream",
     "text": [
      "downloading /n/data1/hms/neurobio/sabatini/rich/analysis/make_dFoF_and_tqm/mouse_0322R/20230502/jobNum_0/print_log_15082232.log   to   /media/rich/bigSSD/analysis_data/face_rhythm/mouse_0322R/dFoF_and_tqm/20230502/jobNum_0/print_log_15082232.log\n"
     ]
    },
    {
     "name": "stderr",
     "output_type": "stream",
     "text": [
      "0.00b [00:00, ?b/s]\n"
     ]
    },
    {
     "name": "stdout",
     "output_type": "stream",
     "text": [
      "downloading /n/data1/hms/neurobio/sabatini/rich/analysis/make_dFoF_and_tqm/mouse_0322R/20230502/jobNum_0/make_dFoF_and_tqm.py   to   /media/rich/bigSSD/analysis_data/face_rhythm/mouse_0322R/dFoF_and_tqm/20230502/jobNum_0/make_dFoF_and_tqm.py\n"
     ]
    },
    {
     "name": "stderr",
     "output_type": "stream",
     "text": [
      "0.00b [00:00, ?b/s]\n"
     ]
    },
    {
     "name": "stdout",
     "output_type": "stream",
     "text": [
      "downloading /n/data1/hms/neurobio/sabatini/rich/analysis/make_dFoF_and_tqm/mouse_0322R/20230502/jobNum_0/iscell_tqm.npy   to   /media/rich/bigSSD/analysis_data/face_rhythm/mouse_0322R/dFoF_and_tqm/20230502/jobNum_0/iscell_tqm.npy\n"
     ]
    },
    {
     "name": "stderr",
     "output_type": "stream",
     "text": [
      "0.00b [00:00, ?b/s]\n"
     ]
    },
    {
     "name": "stdout",
     "output_type": "stream",
     "text": [
      "downloading /n/data1/hms/neurobio/sabatini/rich/analysis/make_dFoF_and_tqm/mouse_0322R/20230502/jobNum_0/sbatch_config.sh   to   /media/rich/bigSSD/analysis_data/face_rhythm/mouse_0322R/dFoF_and_tqm/20230502/jobNum_0/sbatch_config.sh\n"
     ]
    },
    {
     "name": "stderr",
     "output_type": "stream",
     "text": [
      "0.00b [00:00, ?b/s]\n"
     ]
    },
    {
     "name": "stdout",
     "output_type": "stream",
     "text": [
      "downloading /n/data1/hms/neurobio/sabatini/rich/analysis/make_dFoF_and_tqm/mouse_0322R/20230502/make_dFoF_and_tqm.py   to   /media/rich/bigSSD/analysis_data/face_rhythm/mouse_0322R/dFoF_and_tqm/20230502/make_dFoF_and_tqm.py\n"
     ]
    },
    {
     "name": "stderr",
     "output_type": "stream",
     "text": [
      "0.00b [00:00, ?b/s]\n"
     ]
    },
    {
     "name": "stdout",
     "output_type": "stream",
     "text": [
      "downloading /n/data1/hms/neurobio/sabatini/rich/analysis/make_dFoF_and_tqm/mouse_0322R/20230502/dispatcher.py   to   /media/rich/bigSSD/analysis_data/face_rhythm/mouse_0322R/dFoF_and_tqm/20230502/dispatcher.py\n"
     ]
    },
    {
     "name": "stderr",
     "output_type": "stream",
     "text": [
      "0.00b [00:00, ?b/s]\n"
     ]
    },
    {
     "name": "stdout",
     "output_type": "stream",
     "text": [
      "downloading /n/data1/hms/neurobio/sabatini/rich/analysis/make_dFoF_and_tqm/mouse_0322R/20230502/notes.txt   to   /media/rich/bigSSD/analysis_data/face_rhythm/mouse_0322R/dFoF_and_tqm/20230502/notes.txt\n"
     ]
    },
    {
     "name": "stderr",
     "output_type": "stream",
     "text": [
      "0.00b [00:00, ?b/s]\n"
     ]
    }
   ],
   "source": [
    "sftp.get_dir(source=dir_dFoF_and_tqm_remote, target=directory_local_save)"
   ]
  },
  {
   "cell_type": "code",
   "execution_count": null,
   "id": "d651c49d-0e56-4deb-a3a6-adb3e4003488",
   "metadata": {},
   "outputs": [],
   "source": []
  },
  {
   "cell_type": "code",
   "execution_count": null,
   "id": "ab91f04e-1e72-4b5c-ac56-f46890fd1516",
   "metadata": {},
   "outputs": [],
   "source": [
    "paths_dFoF_remote = natsort.natsorted(sftp.search_recursive(\n",
    "    path=r'/n/data1/hms/neurobio/sabatini/rich/analysis/make_dFoF_and_tqm/mouse_0322R',\n",
    "    search_pattern_re=r'dFoF.npy',\n",
    "    max_depth=6,\n",
    "    find_files=True,\n",
    "    find_folders=False,\n",
    "    verbose=True,\n",
    "))"
   ]
  },
  {
   "cell_type": "code",
   "execution_count": 42,
   "id": "cbe06c45-54dc-442f-a321-7d407e0e56e3",
   "metadata": {},
   "outputs": [],
   "source": [
    "dates_dFoF_remote = [Path(p).parts[-3] for p in paths_dFoF_remote]"
   ]
  },
  {
   "cell_type": "code",
   "execution_count": 43,
   "id": "c5a002c3-88b1-4cab-8619-2440bbcc1b05",
   "metadata": {},
   "outputs": [
    {
     "data": {
      "text/plain": [
       "['20230419',\n",
       " '20230420',\n",
       " '20230424',\n",
       " '20230425',\n",
       " '20230426',\n",
       " '20230427',\n",
       " '20230428',\n",
       " '20230429',\n",
       " '20230430',\n",
       " '20230501',\n",
       " '20230502',\n",
       " '20230503',\n",
       " '20230504',\n",
       " '20230505',\n",
       " '20230506',\n",
       " '20230507',\n",
       " '20230508',\n",
       " '20230509',\n",
       " '20230511',\n",
       " '20230512',\n",
       " '20230513',\n",
       " '20230514',\n",
       " '20230515',\n",
       " '20230516',\n",
       " '20230517',\n",
       " '20230518',\n",
       " '20230519',\n",
       " '20230520',\n",
       " '20230521',\n",
       " '20230522',\n",
       " '20230523',\n",
       " '20230524',\n",
       " '20230525',\n",
       " '20230526',\n",
       " '20230527',\n",
       " '20230530',\n",
       " '20230531']"
      ]
     },
     "execution_count": 43,
     "metadata": {},
     "output_type": "execute_result"
    }
   ],
   "source": [
    "dates_dFoF_remote"
   ]
  },
  {
   "cell_type": "code",
   "execution_count": 44,
   "id": "22f095cc-8fd9-4a43-b46d-61c7af6eb868",
   "metadata": {},
   "outputs": [],
   "source": [
    "directory_local_save = r'/media/rich/bigSSD/analysis_data/face_rhythm/mouse_0322R/dFoF_and_tqm/'"
   ]
  },
  {
   "cell_type": "code",
   "execution_count": null,
   "id": "8f54f4d0-fc0f-4dab-b42a-25f3ba2bb2b3",
   "metadata": {},
   "outputs": [],
   "source": [
    "[sftp.get(remotepath=p_r, localpath=str(Path(directory_local_save) / date / Path(p_r).name)) for p_r, date in zip(paths_csvs_remote, dates_dFoF_remote)];"
   ]
  },
  {
   "cell_type": "code",
   "execution_count": null,
   "id": "3bae1996-2180-44d3-8115-4ebbba48d88b",
   "metadata": {},
   "outputs": [],
   "source": [
    "[sftp.get(remotepath=str(Path(p_r).parent / 'iscell_tqm.npy'), localpath=str(Path(directory_local_save) / date / 'iscell_tqm.npy')) for p_r, date in zip(paths_csvs_remote, dates_dFoF_remote)];"
   ]
  },
  {
   "cell_type": "markdown",
   "id": "77a223a2-17d0-4ef6-a7ec-bc74d4467c6f",
   "metadata": {},
   "source": [
    "## Clean up"
   ]
  },
  {
   "cell_type": "code",
   "execution_count": null,
   "id": "b31f6bcb",
   "metadata": {},
   "outputs": [],
   "source": [
    "## delete password\n",
    "del pw\n",
    "gc.collect()\n",
    "\n",
    "## close sftp\n",
    "if sftp: sftp.close()\n",
    "if transport: transport.close()\n",
    "del sftp\n",
    "del transport\n",
    "    \n",
    "## close ssh\n",
    "ssh_t.close()\n",
    "del ssh_t\n",
    "ssh_c.close()\n",
    "del ssh_c\n",
    "gc.collect()"
   ]
  },
  {
   "cell_type": "code",
   "execution_count": null,
   "id": "b1e29db0",
   "metadata": {},
   "outputs": [],
   "source": []
  },
  {
   "cell_type": "code",
   "execution_count": null,
   "id": "a2ee21fd",
   "metadata": {},
   "outputs": [],
   "source": []
  }
 ],
 "metadata": {
  "kernelspec": {
   "display_name": "Python 3 (ipykernel)",
   "language": "python",
   "name": "python3"
  },
  "language_info": {
   "codemirror_mode": {
    "name": "ipython",
    "version": 3
   },
   "file_extension": ".py",
   "mimetype": "text/x-python",
   "name": "python",
   "nbconvert_exporter": "python",
   "pygments_lexer": "ipython3",
   "version": "3.11.3"
  }
 },
 "nbformat": 4,
 "nbformat_minor": 5
}
