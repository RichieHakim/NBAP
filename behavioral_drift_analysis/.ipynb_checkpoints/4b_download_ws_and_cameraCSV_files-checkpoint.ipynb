{
 "cells": [
  {
   "cell_type": "code",
   "execution_count": 1,
   "id": "659978f8",
   "metadata": {},
   "outputs": [
    {
     "data": {
      "text/html": [
       "<style>.container {width:100% !important; }</style>"
      ],
      "text/plain": [
       "<IPython.core.display.HTML object>"
      ]
     },
     "metadata": {},
     "output_type": "display_data"
    },
    {
     "name": "stdout",
     "output_type": "stream",
     "text": [
      "Conda Environment: roicat\n"
     ]
    }
   ],
   "source": [
    "# widen jupyter notebook window\n",
    "from IPython.display import display, HTML\n",
    "display(HTML(\"<style>.container {width:100% !important; }</style>\"))\n",
    "\n",
    "# check environment\n",
    "import os\n",
    "print(f'Conda Environment: ' + os.environ['CONDA_DEFAULT_ENV'])"
   ]
  },
  {
   "cell_type": "code",
   "execution_count": 2,
   "id": "e839eafa",
   "metadata": {},
   "outputs": [],
   "source": [
    "from pathlib import Path\n",
    "\n",
    "import natsort"
   ]
  },
  {
   "cell_type": "code",
   "execution_count": 3,
   "id": "3d5dd597",
   "metadata": {},
   "outputs": [],
   "source": [
    "%load_ext autoreload\n",
    "%autoreload 2\n",
    "import bnpm"
   ]
  },
  {
   "cell_type": "code",
   "execution_count": 4,
   "id": "0c01ec5a",
   "metadata": {},
   "outputs": [],
   "source": [
    "ssh_t = bnpm.server.ssh_interface()"
   ]
  },
  {
   "cell_type": "code",
   "execution_count": 6,
   "id": "32779def",
   "metadata": {},
   "outputs": [
    {
     "name": "stdout",
     "output_type": "stream",
     "text": [
      "Duo two-factor login for rh183\n",
      "\n",
      "Enter a passcode or select one of the following options:\n",
      "\n",
      " 1. Duo Push to XXX-XXX-4151\n",
      " 2. Duo Push to Android\n",
      " 3. Phone call to XXX-XXX-4151\n",
      " 4. SMS passcodes to XXX-XXX-4151\n",
      "\n",
      "Passcode or option (1-4): \n",
      "1\n",
      "\n",
      "\n",
      "\n",
      "Pushed a login request to your device...\n",
      "\n",
      "Success. Logging you in...\n",
      "\n",
      "Welcome to O2 (Orchestra 2)!\n",
      "\u001b[32m\n",
      "   ___    ____\n",
      "  / _ \\  |___ \\\n",
      " | | | |   __) |\n",
      " | |_| |  / __/\n",
      "  \\___/  |_____|\n",
      "\n",
      "\u001b[0m\n",
      "You've landed on \u001b[33mtransfer06\u001b[0m which is a\n",
      "\u001b[33m4\u001b[0m core system with \u001b[33m7.64 GiB\u001b[0m memory\n",
      "running kernel \u001b[33m3.10.0\u001b[0m born on \u001b[33m2020-08-11\u001b[0m\n",
      "\n",
      "==== O2 ===================================================================\n",
      "\n",
      "  \u001b[31mNews (July 16 2023)\u001b[0m\n",
      "  \u001b[37m\n",
      "\n",
      "  +-------------------------------------------------------------------------------+\n",
      "  | ##########################  -> O2 Status <-   ############################### |\n",
      "  |                                                                               |\n",
      "  | * O2 Slurm maintenance in July was completed successful.\n",
      "  |   However, the filesystem /n/groups is not available at this time, all   |\n",
      "  |   other filesystems are available.                                            |\n",
      "  |                                                                               |\n",
      "  | * Any jobs submitted to O2 that requires the /n/groups filesystem will fail.  |\n",
      "  |   Please do not submit new jobs requiring access to /n/groups.                |\n",
      "  |   We are working to get /n/groups online ASAP. See our O2 Status page for     |\n",
      "  |   more information:                                                           |\n",
      "  |   - https://harvardmed.atlassian.net/wiki/x/KgBoXw                            |\n",
      "  |                                                                               |\n",
      "  | ########################  -> Try O2 Portal! <-  ############################# |\n",
      "  |                                                                               |\n",
      "  | * Access O2 via the web! Just point your web browser to the O2 Portal:        |\n",
      "  |   o2portal.rc.hms.harvard.edu and login with your O2 credentials.             |\n",
      "  |                                                                               |\n",
      "  | ** File browsing, editing, & transfer with only 1 DUO check per session       |\n",
      "  | ** Open multiple O2 terminals or even a full Linux desktop in your browser.   |\n",
      "  | ** Better support for graphical tools like Jupyter, RStudio, MATLAB, IGV      |\n",
      "  | More details at:                                                              |\n",
      "  | - https://harvardmed.atlassian.net/l/cp/YaiQpZKC                              |\n",
      "  +-------------------------------------------------------------------------------+\n",
      "\n",
      "  ------------------------------\n",
      "  Contact HMS Research Computing:\n",
      "\n",
      "  E-mail      rchelp@hms.harvard.edu\n",
      "  Web         it.hms.harvard.edu/rc\n",
      "  Twitter     @hms_rc\n",
      "\n",
      "===========================================================================\n",
      "\n",
      "\u001b[0m\n",
      "\n",
      "(base) [rh183@transfer06 ~]$ \n"
     ]
    }
   ],
   "source": [
    "ssh_t.o2_connect(password='')"
   ]
  },
  {
   "cell_type": "code",
   "execution_count": 7,
   "id": "34dad649",
   "metadata": {},
   "outputs": [],
   "source": [
    "sftp_t = bnpm.server.sftp_interface(ssh_client=ssh_t)"
   ]
  },
  {
   "cell_type": "code",
   "execution_count": null,
   "id": "ec58c832",
   "metadata": {},
   "outputs": [],
   "source": []
  },
  {
   "cell_type": "markdown",
   "id": "218451ac",
   "metadata": {},
   "source": [
    "# Download wavesurfer files"
   ]
  },
  {
   "cell_type": "code",
   "execution_count": null,
   "id": "b4ae3664",
   "metadata": {},
   "outputs": [],
   "source": []
  },
  {
   "cell_type": "code",
   "execution_count": 8,
   "id": "070d4942",
   "metadata": {},
   "outputs": [
    {
     "name": "stdout",
     "output_type": "stream",
     "text": [
      "/n/files/Neurobio/MICROSCOPE/Gyu/BMI_data/cage_0322/mouse_0322R/20230531/wavesurfer_data/exp_0001.h5\n",
      "/n/files/Neurobio/MICROSCOPE/Gyu/BMI_data/cage_0322/mouse_0322R/20230420/wavesurfer_data/exp_0001.h5\n",
      "/n/files/Neurobio/MICROSCOPE/Gyu/BMI_data/cage_0322/mouse_0322R/20230523/wavesurfer_data/exp_0001.h5\n",
      "/n/files/Neurobio/MICROSCOPE/Gyu/BMI_data/cage_0322/mouse_0322R/20230517/wavesurfer_data/exp_0001.h5\n",
      "/n/files/Neurobio/MICROSCOPE/Gyu/BMI_data/cage_0322/mouse_0322R/20230515/wavesurfer_data/exp_0001.h5\n",
      "/n/files/Neurobio/MICROSCOPE/Gyu/BMI_data/cage_0322/mouse_0322R/20230430/wavesurfer_data/exp_0001.h5\n",
      "/n/files/Neurobio/MICROSCOPE/Gyu/BMI_data/cage_0322/mouse_0322R/20230512/wavesurfer_data/exp_0001.h5\n",
      "/n/files/Neurobio/MICROSCOPE/Gyu/BMI_data/cage_0322/mouse_0322R/20230511/wavesurfer_data/exp_0001.h5\n",
      "/n/files/Neurobio/MICROSCOPE/Gyu/BMI_data/cage_0322/mouse_0322R/20230514/wavesurfer_data/exp_0001.h5\n",
      "/n/files/Neurobio/MICROSCOPE/Gyu/BMI_data/cage_0322/mouse_0322R/20230504/wavesurfer_data/exp_0001.h5\n",
      "/n/files/Neurobio/MICROSCOPE/Gyu/BMI_data/cage_0322/mouse_0322R/20230507/wavesurfer_data/exp_0001.h5\n",
      "/n/files/Neurobio/MICROSCOPE/Gyu/BMI_data/cage_0322/mouse_0322R/20230513/wavesurfer_data/exp_0001.h5\n",
      "/n/files/Neurobio/MICROSCOPE/Gyu/BMI_data/cage_0322/mouse_0322R/20230525/wavesurfer_data/exp_0001.h5\n",
      "/n/files/Neurobio/MICROSCOPE/Gyu/BMI_data/cage_0322/mouse_0322R/20230522/wavesurfer_data/exp_0001.h5\n",
      "/n/files/Neurobio/MICROSCOPE/Gyu/BMI_data/cage_0322/mouse_0322R/20230526/wavesurfer_data/exp_0001.h5\n",
      "/n/files/Neurobio/MICROSCOPE/Gyu/BMI_data/cage_0322/mouse_0322R/20230424/wavesurfer_data/exp_0001.h5\n",
      "/n/files/Neurobio/MICROSCOPE/Gyu/BMI_data/cage_0322/mouse_0322R/20230426/wavesurfer_data/exp_0001.h5\n",
      "/n/files/Neurobio/MICROSCOPE/Gyu/BMI_data/cage_0322/mouse_0322R/20230521/wavesurfer_data/exp_0001.h5\n",
      "/n/files/Neurobio/MICROSCOPE/Gyu/BMI_data/cage_0322/mouse_0322R/20230518/wavesurfer_data/exp_0001.h5\n",
      "/n/files/Neurobio/MICROSCOPE/Gyu/BMI_data/cage_0322/mouse_0322R/20230530/wavesurfer_data/exp_0001.h5\n",
      "/n/files/Neurobio/MICROSCOPE/Gyu/BMI_data/cage_0322/mouse_0322R/20230520/wavesurfer_data/exp_0001.h5\n",
      "/n/files/Neurobio/MICROSCOPE/Gyu/BMI_data/cage_0322/mouse_0322R/20230508/wavesurfer_data/exp_0001.h5\n",
      "/n/files/Neurobio/MICROSCOPE/Gyu/BMI_data/cage_0322/mouse_0322R/20230428/wavesurfer_data/exp_0001.h5\n",
      "/n/files/Neurobio/MICROSCOPE/Gyu/BMI_data/cage_0322/mouse_0322R/20230527/wavesurfer_data/exp_0001.h5\n",
      "/n/files/Neurobio/MICROSCOPE/Gyu/BMI_data/cage_0322/mouse_0322R/20230510_badExpDay/wavesurfer_data/exp_0001.h5\n",
      "/n/files/Neurobio/MICROSCOPE/Gyu/BMI_data/cage_0322/mouse_0322R/20230425/wavesurfer_data/exp_0001.h5\n",
      "/n/files/Neurobio/MICROSCOPE/Gyu/BMI_data/cage_0322/mouse_0322R/20230419/wavesurfer_data/exp_0001.h5\n",
      "/n/files/Neurobio/MICROSCOPE/Gyu/BMI_data/cage_0322/mouse_0322R/20230519/wavesurfer_data/exp_0001.h5\n",
      "/n/files/Neurobio/MICROSCOPE/Gyu/BMI_data/cage_0322/mouse_0322R/20230429/wavesurfer_data/exp_0001.h5\n",
      "/n/files/Neurobio/MICROSCOPE/Gyu/BMI_data/cage_0322/mouse_0322R/20230501/wavesurfer_data/exp_0001.h5\n",
      "/n/files/Neurobio/MICROSCOPE/Gyu/BMI_data/cage_0322/mouse_0322R/20230505/wavesurfer_data/exp_0001.h5\n",
      "/n/files/Neurobio/MICROSCOPE/Gyu/BMI_data/cage_0322/mouse_0322R/20230427/wavesurfer_data/exp_0001.h5\n",
      "/n/files/Neurobio/MICROSCOPE/Gyu/BMI_data/cage_0322/mouse_0322R/20230516/wavesurfer_data/exp_0001.h5\n",
      "/n/files/Neurobio/MICROSCOPE/Gyu/BMI_data/cage_0322/mouse_0322R/20230509/wavesurfer_data/exp_0001.h5\n",
      "/n/files/Neurobio/MICROSCOPE/Gyu/BMI_data/cage_0322/mouse_0322R/20230503/wavesurfer_data/exp_0001.h5\n",
      "/n/files/Neurobio/MICROSCOPE/Gyu/BMI_data/cage_0322/mouse_0322R/20230524/wavesurfer_data/exp_0001.h5\n",
      "/n/files/Neurobio/MICROSCOPE/Gyu/BMI_data/cage_0322/mouse_0322R/20230502/wavesurfer_data/exp_0001.h5\n"
     ]
    }
   ],
   "source": [
    "paths_files_remote = sftp_t.search_recursive(\n",
    "    path=r'/n/files/Neurobio/MICROSCOPE/Gyu/BMI_data/cage_0322/mouse_0322R/',\n",
    "    search_pattern_re=r'.*exp.*h5',\n",
    "    max_depth=6,\n",
    "    find_files=True,\n",
    "    find_folders=False,\n",
    "    verbose=True,\n",
    ")\n",
    "\n",
    "paths_files_remote = natsort.natsorted(paths_files_remote)"
   ]
  },
  {
   "cell_type": "code",
   "execution_count": 9,
   "id": "cb7867f2",
   "metadata": {},
   "outputs": [],
   "source": [
    "dates_files_remote = [Path(p).parent.parent.name for p in paths_files_remote]"
   ]
  },
  {
   "cell_type": "code",
   "execution_count": 10,
   "id": "80c10f80",
   "metadata": {},
   "outputs": [
    {
     "data": {
      "text/plain": [
       "['20230419',\n",
       " '20230420',\n",
       " '20230424',\n",
       " '20230425',\n",
       " '20230426',\n",
       " '20230427',\n",
       " '20230428',\n",
       " '20230429',\n",
       " '20230430',\n",
       " '20230501',\n",
       " '20230502',\n",
       " '20230503',\n",
       " '20230504',\n",
       " '20230505',\n",
       " '20230507',\n",
       " '20230508',\n",
       " '20230509',\n",
       " '20230510_badExpDay',\n",
       " '20230511',\n",
       " '20230512',\n",
       " '20230513',\n",
       " '20230514',\n",
       " '20230515',\n",
       " '20230516',\n",
       " '20230517',\n",
       " '20230518',\n",
       " '20230519',\n",
       " '20230520',\n",
       " '20230521',\n",
       " '20230522',\n",
       " '20230523',\n",
       " '20230524',\n",
       " '20230525',\n",
       " '20230526',\n",
       " '20230527',\n",
       " '20230530',\n",
       " '20230531']"
      ]
     },
     "execution_count": 10,
     "metadata": {},
     "output_type": "execute_result"
    }
   ],
   "source": [
    "dates_files_remote"
   ]
  },
  {
   "cell_type": "code",
   "execution_count": 11,
   "id": "f9deea8d",
   "metadata": {},
   "outputs": [],
   "source": [
    "directory_local_save = r'/media/rich/bigSSD/analysis_data/face_rhythm/mouse_0322R/wavesurfer_files/'"
   ]
  },
  {
   "cell_type": "code",
   "execution_count": 12,
   "id": "69d5d717",
   "metadata": {},
   "outputs": [
    {
     "name": "stderr",
     "output_type": "stream",
     "text": [
      "100%|██████████████████████████████████████▉| 50.7M/50.7M [00:03<00:00, 13.9Mb/s]\n",
      "100%|██████████████████████████████████████▉| 50.7M/50.7M [00:01<00:00, 29.6Mb/s]\n",
      "100%|██████████████████████████████████████▉| 50.7M/50.7M [00:01<00:00, 38.0Mb/s]\n",
      "100%|██████████████████████████████████████▉| 50.7M/50.7M [00:01<00:00, 39.5Mb/s]\n",
      "100%|██████████████████████████████████████▉| 50.7M/50.7M [00:01<00:00, 45.3Mb/s]\n",
      "100%|██████████████████████████████████████▉| 50.7M/50.7M [00:01<00:00, 48.8Mb/s]\n",
      "100%|██████████████████████████████████████▉| 50.7M/50.7M [00:00<00:00, 51.0Mb/s]\n",
      "100%|██████████████████████████████████████▉| 50.7M/50.7M [00:00<00:00, 53.9Mb/s]\n",
      "100%|██████████████████████████████████████▉| 50.7M/50.7M [00:00<00:00, 52.7Mb/s]\n",
      "100%|██████████████████████████████████████▉| 50.7M/50.7M [00:00<00:00, 52.5Mb/s]\n",
      "100%|██████████████████████████████████████▉| 50.7M/50.7M [00:00<00:00, 54.1Mb/s]\n",
      "100%|██████████████████████████████████████▉| 50.7M/50.7M [00:00<00:00, 51.6Mb/s]\n",
      "100%|██████████████████████████████████████▉| 50.7M/50.7M [00:00<00:00, 56.9Mb/s]\n",
      "100%|██████████████████████████████████████▉| 50.7M/50.7M [00:01<00:00, 49.6Mb/s]\n",
      "100%|██████████████████████████████████████▉| 50.7M/50.7M [00:00<00:00, 55.1Mb/s]\n",
      "100%|██████████████████████████████████████▉| 50.7M/50.7M [00:00<00:00, 54.4Mb/s]\n",
      "100%|██████████████████████████████████████▉| 50.7M/50.7M [00:01<00:00, 50.6Mb/s]\n",
      "100%|██████████████████████████████████████▉| 50.7M/50.7M [00:00<00:00, 56.9Mb/s]\n",
      "100%|██████████████████████████████████████▉| 50.7M/50.7M [00:00<00:00, 57.9Mb/s]\n",
      "100%|██████████████████████████████████████▉| 50.7M/50.7M [00:00<00:00, 52.9Mb/s]\n",
      "100%|██████████████████████████████████████▉| 50.7M/50.7M [00:01<00:00, 31.3Mb/s]\n",
      "100%|██████████████████████████████████████▉| 50.7M/50.7M [00:00<00:00, 54.6Mb/s]\n",
      "100%|██████████████████████████████████████▉| 50.7M/50.7M [00:02<00:00, 20.9Mb/s]\n",
      "100%|██████████████████████████████████████▉| 50.7M/50.7M [00:00<00:00, 54.2Mb/s]\n",
      "100%|██████████████████████████████████████▉| 50.7M/50.7M [00:00<00:00, 57.0Mb/s]\n",
      "100%|██████████████████████████████████████▉| 50.7M/50.7M [00:00<00:00, 58.2Mb/s]\n",
      "100%|██████████████████████████████████████▉| 50.7M/50.7M [00:00<00:00, 57.5Mb/s]\n",
      "100%|██████████████████████████████████████▉| 50.7M/50.7M [00:00<00:00, 53.9Mb/s]\n",
      "100%|██████████████████████████████████████▉| 50.7M/50.7M [00:00<00:00, 56.0Mb/s]\n",
      "100%|██████████████████████████████████████▉| 50.7M/50.7M [00:00<00:00, 57.1Mb/s]\n",
      "100%|██████████████████████████████████████▉| 50.7M/50.7M [00:00<00:00, 58.0Mb/s]\n",
      "100%|██████████████████████████████████████▉| 50.7M/50.7M [00:00<00:00, 55.5Mb/s]\n",
      "100%|██████████████████████████████████████▉| 50.7M/50.7M [00:01<00:00, 35.6Mb/s]\n",
      "100%|██████████████████████████████████████▉| 50.7M/50.7M [00:00<00:00, 54.5Mb/s]\n",
      "100%|██████████████████████████████████████▉| 50.7M/50.7M [00:00<00:00, 52.9Mb/s]\n",
      "100%|██████████████████████████████████████▉| 50.7M/50.7M [00:00<00:00, 55.1Mb/s]\n",
      "100%|██████████████████████████████████████▉| 50.7M/50.7M [00:01<00:00, 40.5Mb/s]\n"
     ]
    },
    {
     "data": {
      "text/plain": [
       "[None,\n",
       " None,\n",
       " None,\n",
       " None,\n",
       " None,\n",
       " None,\n",
       " None,\n",
       " None,\n",
       " None,\n",
       " None,\n",
       " None,\n",
       " None,\n",
       " None,\n",
       " None,\n",
       " None,\n",
       " None,\n",
       " None,\n",
       " None,\n",
       " None,\n",
       " None,\n",
       " None,\n",
       " None,\n",
       " None,\n",
       " None,\n",
       " None,\n",
       " None,\n",
       " None,\n",
       " None,\n",
       " None,\n",
       " None,\n",
       " None,\n",
       " None,\n",
       " None,\n",
       " None,\n",
       " None,\n",
       " None,\n",
       " None]"
      ]
     },
     "execution_count": 12,
     "metadata": {},
     "output_type": "execute_result"
    }
   ],
   "source": [
    "[sftp_t.get(remotepath=p_r, localpath=str(Path(directory_local_save) / date / Path(p_r).name)) for p_r, date in zip(paths_files_remote, dates_files_remote)]"
   ]
  },
  {
   "cell_type": "raw",
   "id": "39ef07dc",
   "metadata": {},
   "source": [
    "sftp_t.get(\n",
    "    remotepath=r'/n/files/Neurobio/MICROSCOPE/Gyu/BMI_data/cage_0322/mouse_0322N/20230501/camera_data/exp/cam4/cam42023-05-01T10_48_48.avi',\n",
    "    localpath=r'/media/rich/bigSSD/analysis_data/face_rhythm/mouse_0322N/cam42023-05-01T10_48_48.avi',\n",
    ")"
   ]
  },
  {
   "cell_type": "code",
   "execution_count": null,
   "id": "eb6ac783",
   "metadata": {},
   "outputs": [],
   "source": []
  },
  {
   "cell_type": "code",
   "execution_count": null,
   "id": "ef4e9c34",
   "metadata": {},
   "outputs": [],
   "source": []
  },
  {
   "cell_type": "code",
   "execution_count": null,
   "id": "4cd68f0f",
   "metadata": {},
   "outputs": [],
   "source": []
  },
  {
   "cell_type": "code",
   "execution_count": null,
   "id": "6a7cf907",
   "metadata": {},
   "outputs": [],
   "source": []
  },
  {
   "cell_type": "markdown",
   "id": "1522ecde",
   "metadata": {},
   "source": [
    "# Download camera CSV files"
   ]
  },
  {
   "cell_type": "code",
   "execution_count": null,
   "id": "27381ebf",
   "metadata": {},
   "outputs": [],
   "source": []
  },
  {
   "cell_type": "code",
   "execution_count": 13,
   "id": "6d51bf89",
   "metadata": {},
   "outputs": [
    {
     "name": "stdout",
     "output_type": "stream",
     "text": [
      "/n/files/Neurobio/MICROSCOPE/Gyu/BMI_data/cage_0322/mouse_0322R/20230531/camera_data/exp/cam4/times_cam42023-05-31T11_30_00.csv\n",
      "/n/files/Neurobio/MICROSCOPE/Gyu/BMI_data/cage_0322/mouse_0322R/20230420/camera_data/exp/cam4/times_cam42023-04-20T13_51_20.csv\n",
      "/n/files/Neurobio/MICROSCOPE/Gyu/BMI_data/cage_0322/mouse_0322R/20230523/camera_data/exp/cam4/times_cam42023-05-23T10_56_37.csv\n",
      "/n/files/Neurobio/MICROSCOPE/Gyu/BMI_data/cage_0322/mouse_0322R/20230517/camera_data/exp/cam4/times_cam42023-05-17T11_43_30.csv\n",
      "/n/files/Neurobio/MICROSCOPE/Gyu/BMI_data/cage_0322/mouse_0322R/20230515/camera_data/exp/cam4/times_cam42023-05-15T13_15_44.csv\n",
      "/n/files/Neurobio/MICROSCOPE/Gyu/BMI_data/cage_0322/mouse_0322R/20230430/camera_data/exp/cam4/times_cam42023-04-30T10_49_53.csv\n",
      "/n/files/Neurobio/MICROSCOPE/Gyu/BMI_data/cage_0322/mouse_0322R/20230512/camera_data/exp/cam4/times_cam42023-05-12T11_12_35.csv\n",
      "/n/files/Neurobio/MICROSCOPE/Gyu/BMI_data/cage_0322/mouse_0322R/20230511/camera_data/exp/cam4/times_cam42023-05-11T13_24_25.csv\n",
      "/n/files/Neurobio/MICROSCOPE/Gyu/BMI_data/cage_0322/mouse_0322R/20230514/camera_data/exp/cam4/times_cam42023-05-14T12_01_44.csv\n",
      "/n/files/Neurobio/MICROSCOPE/Gyu/BMI_data/cage_0322/mouse_0322R/20230504/camera_data/exp/cam4/times_cam42023-05-04T12_09_41.csv\n",
      "/n/files/Neurobio/MICROSCOPE/Gyu/BMI_data/cage_0322/mouse_0322R/20230507/camera_data/exp/cam4/times_cam42023-05-07T13_59_55.csv\n",
      "/n/files/Neurobio/MICROSCOPE/Gyu/BMI_data/cage_0322/mouse_0322R/20230513/camera_data/exp/cam4/times_cam42023-05-13T13_10_24.csv\n",
      "/n/files/Neurobio/MICROSCOPE/Gyu/BMI_data/cage_0322/mouse_0322R/20230525/camera_data/exp/cam4/times_cam42023-05-25T12_04_07.csv\n",
      "/n/files/Neurobio/MICROSCOPE/Gyu/BMI_data/cage_0322/mouse_0322R/20230522/camera_data/exp/cam4/times_cam42023-05-22T11_22_17.csv\n",
      "/n/files/Neurobio/MICROSCOPE/Gyu/BMI_data/cage_0322/mouse_0322R/20230526/camera_data/exp/cam4/times_cam42023-05-26T11_23_17.csv\n",
      "/n/files/Neurobio/MICROSCOPE/Gyu/BMI_data/cage_0322/mouse_0322R/20230424/camera_data/exp/cam4/times_cam42023-04-24T16_48_58.csv\n",
      "/n/files/Neurobio/MICROSCOPE/Gyu/BMI_data/cage_0322/mouse_0322R/20230426/camera_data/exp/cam4/times_cam42023-04-26T16_00_22.csv\n",
      "/n/files/Neurobio/MICROSCOPE/Gyu/BMI_data/cage_0322/mouse_0322R/20230521/camera_data/exp/cam4/times_cam42023-05-21T11_46_08.csv\n",
      "/n/files/Neurobio/MICROSCOPE/Gyu/BMI_data/cage_0322/mouse_0322R/20230518/camera_data/exp/cam4/times_cam42023-05-18T09_51_54.csv\n",
      "/n/files/Neurobio/MICROSCOPE/Gyu/BMI_data/cage_0322/mouse_0322R/20230530/camera_data/exp/cam4/times_cam42023-05-30T11_36_50.csv\n",
      "/n/files/Neurobio/MICROSCOPE/Gyu/BMI_data/cage_0322/mouse_0322R/20230520/camera_data/exp/cam4/times_cam42023-05-20T11_58_26.csv\n",
      "/n/files/Neurobio/MICROSCOPE/Gyu/BMI_data/cage_0322/mouse_0322R/20230508/camera_data/exp/cam4/times_cam42023-05-08T11_56_09.csv\n",
      "/n/files/Neurobio/MICROSCOPE/Gyu/BMI_data/cage_0322/mouse_0322R/20230428/camera_data/exp/cam4/times_cam42023-04-28T10_42_45.csv\n",
      "/n/files/Neurobio/MICROSCOPE/Gyu/BMI_data/cage_0322/mouse_0322R/20230506/camera_data/exp/cam4/times_cam42023-05-06T11_45_37.csv\n",
      "/n/files/Neurobio/MICROSCOPE/Gyu/BMI_data/cage_0322/mouse_0322R/20230527/camera_data/exp/cam4/times_cam42023-05-27T10_41_24.csv\n",
      "/n/files/Neurobio/MICROSCOPE/Gyu/BMI_data/cage_0322/mouse_0322R/20230510_badExpDay/camera_data/exp/cam4/times_cam42023-05-10T11_55_48.csv\n",
      "/n/files/Neurobio/MICROSCOPE/Gyu/BMI_data/cage_0322/mouse_0322R/20230425/camera_data/exp/cam4/times_cam42023-04-25T11_06_59.csv\n",
      "/n/files/Neurobio/MICROSCOPE/Gyu/BMI_data/cage_0322/mouse_0322R/20230419/camera_data/exp/cam4/times_cam42023-04-19T15_19_36.csv\n",
      "/n/files/Neurobio/MICROSCOPE/Gyu/BMI_data/cage_0322/mouse_0322R/20230519/camera_data/exp/cam4/times_cam42023-05-19T11_17_07.csv\n",
      "/n/files/Neurobio/MICROSCOPE/Gyu/BMI_data/cage_0322/mouse_0322R/20230429/camera_data/exp/cam4/times_cam42023-04-29T10_50_12.csv\n",
      "/n/files/Neurobio/MICROSCOPE/Gyu/BMI_data/cage_0322/mouse_0322R/20230501/camera_data/exp/cam4/times_cam42023-05-01T13_10_55.csv\n",
      "/n/files/Neurobio/MICROSCOPE/Gyu/BMI_data/cage_0322/mouse_0322R/20230505/camera_data/exp/cam4/times_cam42023-05-05T12_29_36.csv\n",
      "/n/files/Neurobio/MICROSCOPE/Gyu/BMI_data/cage_0322/mouse_0322R/20230427/camera_data/exp/cam4/times_cam42023-04-27T11_29_15.csv\n",
      "/n/files/Neurobio/MICROSCOPE/Gyu/BMI_data/cage_0322/mouse_0322R/20230516/camera_data/exp/cam4/times_cam42023-05-16T11_09_05.csv\n",
      "/n/files/Neurobio/MICROSCOPE/Gyu/BMI_data/cage_0322/mouse_0322R/20230509/camera_data/exp/cam4/times_cam42023-05-09T13_45_34.csv\n",
      "/n/files/Neurobio/MICROSCOPE/Gyu/BMI_data/cage_0322/mouse_0322R/20230503/camera_data/exp/cam4/times_cam42023-05-03T13_27_58.csv\n",
      "/n/files/Neurobio/MICROSCOPE/Gyu/BMI_data/cage_0322/mouse_0322R/20230524/camera_data/exp/cam4/times_cam42023-05-24T11_12_43.csv\n",
      "/n/files/Neurobio/MICROSCOPE/Gyu/BMI_data/cage_0322/mouse_0322R/20230502/camera_data/exp/cam4/times_cam42023-05-02T10_36_25.csv\n"
     ]
    }
   ],
   "source": [
    "paths_csvs_remote = sftp_t.search_recursive(\n",
    "    path=r'/n/files/Neurobio/MICROSCOPE/Gyu/BMI_data/cage_0322/mouse_0322R/',\n",
    "    search_pattern_re=r'.*cam4.*csv',\n",
    "    max_depth=6,\n",
    "    find_files=True,\n",
    "    find_folders=False,\n",
    "    verbose=True,\n",
    ")\n",
    "\n",
    "paths_csvs_remote = natsort.natsorted(paths_csvs_remote)"
   ]
  },
  {
   "cell_type": "code",
   "execution_count": 14,
   "id": "17c4b006",
   "metadata": {},
   "outputs": [],
   "source": [
    "dates_csvs_remote = [Path(p).parent.parent.parent.parent.name for p in paths_csvs_remote]"
   ]
  },
  {
   "cell_type": "code",
   "execution_count": 15,
   "id": "a7f2d71c",
   "metadata": {},
   "outputs": [],
   "source": [
    "directory_local_save = r'/media/rich/bigSSD/analysis_data/face_rhythm/mouse_0322R/cam4_CSVs/'"
   ]
  },
  {
   "cell_type": "code",
   "execution_count": 16,
   "id": "9d025b55",
   "metadata": {},
   "outputs": [
    {
     "name": "stderr",
     "output_type": "stream",
     "text": [
      "100%|██████████████████████████████████████▉| 41.8M/41.8M [00:00<00:00, 47.7Mb/s]\n",
      "100%|██████████████████████████████████████▉| 33.9M/33.9M [00:00<00:00, 51.6Mb/s]\n",
      "100%|██████████████████████████████████████▉| 31.9M/31.9M [00:01<00:00, 19.3Mb/s]\n",
      "100%|██████████████████████████████████████▉| 31.9M/31.9M [00:00<00:00, 49.0Mb/s]\n",
      "100%|██████████████████████████████████████▉| 31.5M/31.5M [00:00<00:00, 48.8Mb/s]\n",
      "100%|██████████████████████████████████████▉| 31.1M/31.1M [00:00<00:00, 50.1Mb/s]\n",
      "100%|██████████████████████████████████████▉| 31.2M/31.2M [00:00<00:00, 50.4Mb/s]\n",
      "100%|██████████████████████████████████████▉| 48.8M/48.8M [00:00<00:00, 55.2Mb/s]\n",
      "100%|██████████████████████████████████████▉| 31.4M/31.4M [00:00<00:00, 45.3Mb/s]\n",
      "100%|██████████████████████████████████████▉| 31.1M/31.1M [00:00<00:00, 44.6Mb/s]\n",
      "100%|██████████████████████████████████████▉| 31.3M/31.3M [00:00<00:00, 49.9Mb/s]\n",
      "100%|██████████████████████████████████████▉| 31.3M/31.3M [00:00<00:00, 49.7Mb/s]\n",
      "100%|██████████████████████████████████████▉| 31.6M/31.6M [00:00<00:00, 50.9Mb/s]\n",
      "100%|██████████████████████████████████████▉| 31.1M/31.1M [00:00<00:00, 31.1Mb/s]\n",
      "100%|██████████████████████████████████████▉| 31.1M/31.2M [00:00<00:00, 49.9Mb/s]\n",
      "100%|██████████████████████████████████████▉| 30.7M/30.7M [00:00<00:00, 48.4Mb/s]\n",
      "100%|██████████████████████████████████████▉| 31.1M/31.1M [00:00<00:00, 51.0Mb/s]\n",
      "100%|██████████████████████████████████████▉| 31.0M/31.0M [00:00<00:00, 48.3Mb/s]\n",
      "100%|██████████████████████████████████████▉| 13.4M/13.4M [00:00<00:00, 35.7Mb/s]\n",
      "100%|██████████████████████████████████████▉| 31.1M/31.1M [00:00<00:00, 49.6Mb/s]\n",
      "100%|██████████████████████████████████████▉| 31.4M/31.4M [00:00<00:00, 50.8Mb/s]\n",
      "100%|██████████████████████████████████████▉| 31.1M/31.1M [00:00<00:00, 36.3Mb/s]\n",
      "100%|██████████████████████████████████████▉| 31.2M/31.2M [00:00<00:00, 52.4Mb/s]\n",
      "100%|██████████████████████████████████████▉| 31.0M/31.0M [00:00<00:00, 52.0Mb/s]\n",
      "100%|██████████████████████████████████████▉| 31.1M/31.1M [00:00<00:00, 52.0Mb/s]\n",
      "100%|██████████████████████████████████████▉| 31.0M/31.0M [00:00<00:00, 45.9Mb/s]\n",
      "100%|██████████████████████████████████████▉| 31.1M/31.1M [00:00<00:00, 47.2Mb/s]\n",
      "100%|██████████████████████████████████████▉| 31.1M/31.1M [00:00<00:00, 51.1Mb/s]\n",
      "100%|██████████████████████████████████████▉| 31.1M/31.1M [00:00<00:00, 46.3Mb/s]\n",
      "100%|██████████████████████████████████████▉| 31.1M/31.1M [00:00<00:00, 49.1Mb/s]\n",
      "100%|██████████████████████████████████████▉| 31.1M/31.1M [00:00<00:00, 48.2Mb/s]\n",
      "100%|██████████████████████████████████████▉| 31.6M/31.6M [00:00<00:00, 42.3Mb/s]\n",
      "100%|██████████████████████████████████████▉| 31.1M/31.1M [00:00<00:00, 49.2Mb/s]\n",
      "100%|██████████████████████████████████████▉| 31.1M/31.1M [00:00<00:00, 49.1Mb/s]\n",
      "100%|██████████████████████████████████████▉| 31.5M/31.5M [00:00<00:00, 49.9Mb/s]\n",
      "100%|██████████████████████████████████████▉| 31.1M/31.1M [00:00<00:00, 52.3Mb/s]\n",
      "100%|██████████████████████████████████████▉| 31.1M/31.1M [00:01<00:00, 17.8Mb/s]\n",
      "100%|██████████████████████████████████████▉| 31.2M/31.2M [00:00<00:00, 47.8Mb/s]\n"
     ]
    },
    {
     "data": {
      "text/plain": [
       "[None,\n",
       " None,\n",
       " None,\n",
       " None,\n",
       " None,\n",
       " None,\n",
       " None,\n",
       " None,\n",
       " None,\n",
       " None,\n",
       " None,\n",
       " None,\n",
       " None,\n",
       " None,\n",
       " None,\n",
       " None,\n",
       " None,\n",
       " None,\n",
       " None,\n",
       " None,\n",
       " None,\n",
       " None,\n",
       " None,\n",
       " None,\n",
       " None,\n",
       " None,\n",
       " None,\n",
       " None,\n",
       " None,\n",
       " None,\n",
       " None,\n",
       " None,\n",
       " None,\n",
       " None,\n",
       " None,\n",
       " None,\n",
       " None,\n",
       " None]"
      ]
     },
     "execution_count": 16,
     "metadata": {},
     "output_type": "execute_result"
    }
   ],
   "source": [
    "[sftp_t.get(remotepath=p_r, localpath=str(Path(directory_local_save) / date / Path(p_r).name)) for p_r, date in zip(paths_csvs_remote, dates_csvs_remote)]"
   ]
  },
  {
   "cell_type": "code",
   "execution_count": null,
   "id": "2f70dadd",
   "metadata": {},
   "outputs": [],
   "source": []
  },
  {
   "cell_type": "code",
   "execution_count": null,
   "id": "6cbfc8d0",
   "metadata": {},
   "outputs": [],
   "source": []
  },
  {
   "cell_type": "code",
   "execution_count": null,
   "id": "7b0752d2",
   "metadata": {},
   "outputs": [],
   "source": []
  },
  {
   "cell_type": "code",
   "execution_count": null,
   "id": "c103f1e2",
   "metadata": {},
   "outputs": [],
   "source": []
  },
  {
   "cell_type": "code",
   "execution_count": null,
   "id": "df2cecbe",
   "metadata": {},
   "outputs": [],
   "source": []
  },
  {
   "cell_type": "code",
   "execution_count": null,
   "id": "f338bbab",
   "metadata": {},
   "outputs": [],
   "source": []
  },
  {
   "cell_type": "markdown",
   "id": "ea7a03ee",
   "metadata": {},
   "source": [
    "# Download VQT files"
   ]
  },
  {
   "cell_type": "code",
   "execution_count": null,
   "id": "21aed072",
   "metadata": {},
   "outputs": [],
   "source": []
  },
  {
   "cell_type": "code",
   "execution_count": 13,
   "id": "1ce74bd5",
   "metadata": {},
   "outputs": [
    {
     "name": "stdout",
     "output_type": "stream",
     "text": [
      "/n/files/Neurobio/MICROSCOPE/Gyu/BMI_data/cage_0322/mouse_0322R/20230531/camera_data/exp/cam4/times_cam42023-05-31T11_30_00.csv\n",
      "/n/files/Neurobio/MICROSCOPE/Gyu/BMI_data/cage_0322/mouse_0322R/20230420/camera_data/exp/cam4/times_cam42023-04-20T13_51_20.csv\n",
      "/n/files/Neurobio/MICROSCOPE/Gyu/BMI_data/cage_0322/mouse_0322R/20230523/camera_data/exp/cam4/times_cam42023-05-23T10_56_37.csv\n",
      "/n/files/Neurobio/MICROSCOPE/Gyu/BMI_data/cage_0322/mouse_0322R/20230517/camera_data/exp/cam4/times_cam42023-05-17T11_43_30.csv\n",
      "/n/files/Neurobio/MICROSCOPE/Gyu/BMI_data/cage_0322/mouse_0322R/20230515/camera_data/exp/cam4/times_cam42023-05-15T13_15_44.csv\n",
      "/n/files/Neurobio/MICROSCOPE/Gyu/BMI_data/cage_0322/mouse_0322R/20230430/camera_data/exp/cam4/times_cam42023-04-30T10_49_53.csv\n",
      "/n/files/Neurobio/MICROSCOPE/Gyu/BMI_data/cage_0322/mouse_0322R/20230512/camera_data/exp/cam4/times_cam42023-05-12T11_12_35.csv\n",
      "/n/files/Neurobio/MICROSCOPE/Gyu/BMI_data/cage_0322/mouse_0322R/20230511/camera_data/exp/cam4/times_cam42023-05-11T13_24_25.csv\n",
      "/n/files/Neurobio/MICROSCOPE/Gyu/BMI_data/cage_0322/mouse_0322R/20230514/camera_data/exp/cam4/times_cam42023-05-14T12_01_44.csv\n",
      "/n/files/Neurobio/MICROSCOPE/Gyu/BMI_data/cage_0322/mouse_0322R/20230504/camera_data/exp/cam4/times_cam42023-05-04T12_09_41.csv\n",
      "/n/files/Neurobio/MICROSCOPE/Gyu/BMI_data/cage_0322/mouse_0322R/20230507/camera_data/exp/cam4/times_cam42023-05-07T13_59_55.csv\n",
      "/n/files/Neurobio/MICROSCOPE/Gyu/BMI_data/cage_0322/mouse_0322R/20230513/camera_data/exp/cam4/times_cam42023-05-13T13_10_24.csv\n",
      "/n/files/Neurobio/MICROSCOPE/Gyu/BMI_data/cage_0322/mouse_0322R/20230525/camera_data/exp/cam4/times_cam42023-05-25T12_04_07.csv\n",
      "/n/files/Neurobio/MICROSCOPE/Gyu/BMI_data/cage_0322/mouse_0322R/20230522/camera_data/exp/cam4/times_cam42023-05-22T11_22_17.csv\n",
      "/n/files/Neurobio/MICROSCOPE/Gyu/BMI_data/cage_0322/mouse_0322R/20230526/camera_data/exp/cam4/times_cam42023-05-26T11_23_17.csv\n",
      "/n/files/Neurobio/MICROSCOPE/Gyu/BMI_data/cage_0322/mouse_0322R/20230424/camera_data/exp/cam4/times_cam42023-04-24T16_48_58.csv\n",
      "/n/files/Neurobio/MICROSCOPE/Gyu/BMI_data/cage_0322/mouse_0322R/20230426/camera_data/exp/cam4/times_cam42023-04-26T16_00_22.csv\n",
      "/n/files/Neurobio/MICROSCOPE/Gyu/BMI_data/cage_0322/mouse_0322R/20230521/camera_data/exp/cam4/times_cam42023-05-21T11_46_08.csv\n",
      "/n/files/Neurobio/MICROSCOPE/Gyu/BMI_data/cage_0322/mouse_0322R/20230518/camera_data/exp/cam4/times_cam42023-05-18T09_51_54.csv\n",
      "/n/files/Neurobio/MICROSCOPE/Gyu/BMI_data/cage_0322/mouse_0322R/20230530/camera_data/exp/cam4/times_cam42023-05-30T11_36_50.csv\n",
      "/n/files/Neurobio/MICROSCOPE/Gyu/BMI_data/cage_0322/mouse_0322R/20230520/camera_data/exp/cam4/times_cam42023-05-20T11_58_26.csv\n",
      "/n/files/Neurobio/MICROSCOPE/Gyu/BMI_data/cage_0322/mouse_0322R/20230508/camera_data/exp/cam4/times_cam42023-05-08T11_56_09.csv\n",
      "/n/files/Neurobio/MICROSCOPE/Gyu/BMI_data/cage_0322/mouse_0322R/20230428/camera_data/exp/cam4/times_cam42023-04-28T10_42_45.csv\n",
      "/n/files/Neurobio/MICROSCOPE/Gyu/BMI_data/cage_0322/mouse_0322R/20230506/camera_data/exp/cam4/times_cam42023-05-06T11_45_37.csv\n",
      "/n/files/Neurobio/MICROSCOPE/Gyu/BMI_data/cage_0322/mouse_0322R/20230527/camera_data/exp/cam4/times_cam42023-05-27T10_41_24.csv\n",
      "/n/files/Neurobio/MICROSCOPE/Gyu/BMI_data/cage_0322/mouse_0322R/20230510_badExpDay/camera_data/exp/cam4/times_cam42023-05-10T11_55_48.csv\n",
      "/n/files/Neurobio/MICROSCOPE/Gyu/BMI_data/cage_0322/mouse_0322R/20230425/camera_data/exp/cam4/times_cam42023-04-25T11_06_59.csv\n",
      "/n/files/Neurobio/MICROSCOPE/Gyu/BMI_data/cage_0322/mouse_0322R/20230419/camera_data/exp/cam4/times_cam42023-04-19T15_19_36.csv\n",
      "/n/files/Neurobio/MICROSCOPE/Gyu/BMI_data/cage_0322/mouse_0322R/20230519/camera_data/exp/cam4/times_cam42023-05-19T11_17_07.csv\n",
      "/n/files/Neurobio/MICROSCOPE/Gyu/BMI_data/cage_0322/mouse_0322R/20230429/camera_data/exp/cam4/times_cam42023-04-29T10_50_12.csv\n",
      "/n/files/Neurobio/MICROSCOPE/Gyu/BMI_data/cage_0322/mouse_0322R/20230501/camera_data/exp/cam4/times_cam42023-05-01T13_10_55.csv\n",
      "/n/files/Neurobio/MICROSCOPE/Gyu/BMI_data/cage_0322/mouse_0322R/20230505/camera_data/exp/cam4/times_cam42023-05-05T12_29_36.csv\n",
      "/n/files/Neurobio/MICROSCOPE/Gyu/BMI_data/cage_0322/mouse_0322R/20230427/camera_data/exp/cam4/times_cam42023-04-27T11_29_15.csv\n",
      "/n/files/Neurobio/MICROSCOPE/Gyu/BMI_data/cage_0322/mouse_0322R/20230516/camera_data/exp/cam4/times_cam42023-05-16T11_09_05.csv\n",
      "/n/files/Neurobio/MICROSCOPE/Gyu/BMI_data/cage_0322/mouse_0322R/20230509/camera_data/exp/cam4/times_cam42023-05-09T13_45_34.csv\n",
      "/n/files/Neurobio/MICROSCOPE/Gyu/BMI_data/cage_0322/mouse_0322R/20230503/camera_data/exp/cam4/times_cam42023-05-03T13_27_58.csv\n",
      "/n/files/Neurobio/MICROSCOPE/Gyu/BMI_data/cage_0322/mouse_0322R/20230524/camera_data/exp/cam4/times_cam42023-05-24T11_12_43.csv\n",
      "/n/files/Neurobio/MICROSCOPE/Gyu/BMI_data/cage_0322/mouse_0322R/20230502/camera_data/exp/cam4/times_cam42023-05-02T10_36_25.csv\n"
     ]
    }
   ],
   "source": [
    "paths_csvs_remote = sftp_t.search_recursive(\n",
    "    path=r'/n/data1/hms/neurobio/sabatini/rich/analysis/faceRhythm/',\n",
    "    search_pattern_re=r'.*cam4.*csv',\n",
    "    max_depth=6,\n",
    "    find_files=True,\n",
    "    find_folders=False,\n",
    "    verbose=True,\n",
    ")\n",
    "\n",
    "paths_csvs_remote = natsort.natsorted(paths_csvs_remote)"
   ]
  },
  {
   "cell_type": "code",
   "execution_count": 14,
   "id": "019a90c3",
   "metadata": {},
   "outputs": [],
   "source": [
    "dates_csvs_remote = [Path(p).parent.parent.parent.parent.name for p in paths_csvs_remote]"
   ]
  },
  {
   "cell_type": "code",
   "execution_count": 15,
   "id": "b5f9bda6",
   "metadata": {},
   "outputs": [],
   "source": [
    "directory_local_save = r'/media/rich/bigSSD/analysis_data/face_rhythm/mouse_0322R/cam4_CSVs/'"
   ]
  },
  {
   "cell_type": "code",
   "execution_count": 16,
   "id": "63fcb3d4",
   "metadata": {},
   "outputs": [
    {
     "name": "stderr",
     "output_type": "stream",
     "text": [
      "100%|██████████████████████████████████████▉| 41.8M/41.8M [00:00<00:00, 47.7Mb/s]\n",
      "100%|██████████████████████████████████████▉| 33.9M/33.9M [00:00<00:00, 51.6Mb/s]\n",
      "100%|██████████████████████████████████████▉| 31.9M/31.9M [00:01<00:00, 19.3Mb/s]\n",
      "100%|██████████████████████████████████████▉| 31.9M/31.9M [00:00<00:00, 49.0Mb/s]\n",
      "100%|██████████████████████████████████████▉| 31.5M/31.5M [00:00<00:00, 48.8Mb/s]\n",
      "100%|██████████████████████████████████████▉| 31.1M/31.1M [00:00<00:00, 50.1Mb/s]\n",
      "100%|██████████████████████████████████████▉| 31.2M/31.2M [00:00<00:00, 50.4Mb/s]\n",
      "100%|██████████████████████████████████████▉| 48.8M/48.8M [00:00<00:00, 55.2Mb/s]\n",
      "100%|██████████████████████████████████████▉| 31.4M/31.4M [00:00<00:00, 45.3Mb/s]\n",
      "100%|██████████████████████████████████████▉| 31.1M/31.1M [00:00<00:00, 44.6Mb/s]\n",
      "100%|██████████████████████████████████████▉| 31.3M/31.3M [00:00<00:00, 49.9Mb/s]\n",
      "100%|██████████████████████████████████████▉| 31.3M/31.3M [00:00<00:00, 49.7Mb/s]\n",
      "100%|██████████████████████████████████████▉| 31.6M/31.6M [00:00<00:00, 50.9Mb/s]\n",
      "100%|██████████████████████████████████████▉| 31.1M/31.1M [00:00<00:00, 31.1Mb/s]\n",
      "100%|██████████████████████████████████████▉| 31.1M/31.2M [00:00<00:00, 49.9Mb/s]\n",
      "100%|██████████████████████████████████████▉| 30.7M/30.7M [00:00<00:00, 48.4Mb/s]\n",
      "100%|██████████████████████████████████████▉| 31.1M/31.1M [00:00<00:00, 51.0Mb/s]\n",
      "100%|██████████████████████████████████████▉| 31.0M/31.0M [00:00<00:00, 48.3Mb/s]\n",
      "100%|██████████████████████████████████████▉| 13.4M/13.4M [00:00<00:00, 35.7Mb/s]\n",
      "100%|██████████████████████████████████████▉| 31.1M/31.1M [00:00<00:00, 49.6Mb/s]\n",
      "100%|██████████████████████████████████████▉| 31.4M/31.4M [00:00<00:00, 50.8Mb/s]\n",
      "100%|██████████████████████████████████████▉| 31.1M/31.1M [00:00<00:00, 36.3Mb/s]\n",
      "100%|██████████████████████████████████████▉| 31.2M/31.2M [00:00<00:00, 52.4Mb/s]\n",
      "100%|██████████████████████████████████████▉| 31.0M/31.0M [00:00<00:00, 52.0Mb/s]\n",
      "100%|██████████████████████████████████████▉| 31.1M/31.1M [00:00<00:00, 52.0Mb/s]\n",
      "100%|██████████████████████████████████████▉| 31.0M/31.0M [00:00<00:00, 45.9Mb/s]\n",
      "100%|██████████████████████████████████████▉| 31.1M/31.1M [00:00<00:00, 47.2Mb/s]\n",
      "100%|██████████████████████████████████████▉| 31.1M/31.1M [00:00<00:00, 51.1Mb/s]\n",
      "100%|██████████████████████████████████████▉| 31.1M/31.1M [00:00<00:00, 46.3Mb/s]\n",
      "100%|██████████████████████████████████████▉| 31.1M/31.1M [00:00<00:00, 49.1Mb/s]\n",
      "100%|██████████████████████████████████████▉| 31.1M/31.1M [00:00<00:00, 48.2Mb/s]\n",
      "100%|██████████████████████████████████████▉| 31.6M/31.6M [00:00<00:00, 42.3Mb/s]\n",
      "100%|██████████████████████████████████████▉| 31.1M/31.1M [00:00<00:00, 49.2Mb/s]\n",
      "100%|██████████████████████████████████████▉| 31.1M/31.1M [00:00<00:00, 49.1Mb/s]\n",
      "100%|██████████████████████████████████████▉| 31.5M/31.5M [00:00<00:00, 49.9Mb/s]\n",
      "100%|██████████████████████████████████████▉| 31.1M/31.1M [00:00<00:00, 52.3Mb/s]\n",
      "100%|██████████████████████████████████████▉| 31.1M/31.1M [00:01<00:00, 17.8Mb/s]\n",
      "100%|██████████████████████████████████████▉| 31.2M/31.2M [00:00<00:00, 47.8Mb/s]\n"
     ]
    },
    {
     "data": {
      "text/plain": [
       "[None,\n",
       " None,\n",
       " None,\n",
       " None,\n",
       " None,\n",
       " None,\n",
       " None,\n",
       " None,\n",
       " None,\n",
       " None,\n",
       " None,\n",
       " None,\n",
       " None,\n",
       " None,\n",
       " None,\n",
       " None,\n",
       " None,\n",
       " None,\n",
       " None,\n",
       " None,\n",
       " None,\n",
       " None,\n",
       " None,\n",
       " None,\n",
       " None,\n",
       " None,\n",
       " None,\n",
       " None,\n",
       " None,\n",
       " None,\n",
       " None,\n",
       " None,\n",
       " None,\n",
       " None,\n",
       " None,\n",
       " None,\n",
       " None,\n",
       " None]"
      ]
     },
     "execution_count": 16,
     "metadata": {},
     "output_type": "execute_result"
    }
   ],
   "source": [
    "[sftp_t.get(remotepath=p_r, localpath=str(Path(directory_local_save) / date / Path(p_r).name)) for p_r, date in zip(paths_csvs_remote, dates_csvs_remote)]"
   ]
  },
  {
   "cell_type": "code",
   "execution_count": null,
   "id": "d8a3717e",
   "metadata": {},
   "outputs": [],
   "source": []
  },
  {
   "cell_type": "code",
   "execution_count": null,
   "id": "f45f9698",
   "metadata": {},
   "outputs": [],
   "source": []
  },
  {
   "cell_type": "code",
   "execution_count": null,
   "id": "1eda7282",
   "metadata": {},
   "outputs": [],
   "source": []
  },
  {
   "cell_type": "code",
   "execution_count": null,
   "id": "d15d8a0b",
   "metadata": {},
   "outputs": [],
   "source": []
  },
  {
   "cell_type": "code",
   "execution_count": null,
   "id": "96623f2a",
   "metadata": {},
   "outputs": [],
   "source": []
  },
  {
   "cell_type": "code",
   "execution_count": null,
   "id": "0586724c",
   "metadata": {},
   "outputs": [],
   "source": []
  },
  {
   "cell_type": "code",
   "execution_count": null,
   "id": "966b4383",
   "metadata": {},
   "outputs": [],
   "source": []
  },
  {
   "cell_type": "code",
   "execution_count": null,
   "id": "fa5dd7a9",
   "metadata": {},
   "outputs": [],
   "source": []
  },
  {
   "cell_type": "code",
   "execution_count": null,
   "id": "4d9ec9b8",
   "metadata": {},
   "outputs": [],
   "source": []
  }
 ],
 "metadata": {
  "kernelspec": {
   "display_name": "Python 3 (ipykernel)",
   "language": "python",
   "name": "python3"
  },
  "language_info": {
   "codemirror_mode": {
    "name": "ipython",
    "version": 3
   },
   "file_extension": ".py",
   "mimetype": "text/x-python",
   "name": "python",
   "nbconvert_exporter": "python",
   "pygments_lexer": "ipython3",
   "version": "3.11.3"
  }
 },
 "nbformat": 4,
 "nbformat_minor": 5
}
