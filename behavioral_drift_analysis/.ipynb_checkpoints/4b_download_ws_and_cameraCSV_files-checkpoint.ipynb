{
 "cells": [
  {
   "cell_type": "code",
   "execution_count": 1,
   "id": "659978f8",
   "metadata": {},
   "outputs": [
    {
     "data": {
      "text/html": [
       "<style>:root { --jp-notebook-max-width: 100% !important; }</style>"
      ],
      "text/plain": [
       "<IPython.core.display.HTML object>"
      ]
     },
     "metadata": {},
     "output_type": "display_data"
    },
    {
     "data": {
      "text/html": [
       "<style>.container {width:100% !important; }</style>"
      ],
      "text/plain": [
       "<IPython.core.display.HTML object>"
      ]
     },
     "metadata": {},
     "output_type": "display_data"
    },
    {
     "name": "stdout",
     "output_type": "stream",
     "text": [
      "Conda Environment: FR\n"
     ]
    }
   ],
   "source": [
    "# ALWAYS RUN THIS CELL\n",
    "# widen jupyter notebook window\n",
    "from IPython.display import display, HTML\n",
    "display(HTML(\"<style>:root { --jp-notebook-max-width: 100% !important; }</style>\"))\n",
    "display(HTML(\"<style>.container {width:100% !important; }</style>\"))\n",
    "\n",
    "# check environment\n",
    "import os\n",
    "print(f'Conda Environment: ' + os.environ['CONDA_DEFAULT_ENV'])"
   ]
  },
  {
   "cell_type": "code",
   "execution_count": 2,
   "id": "e839eafa",
   "metadata": {},
   "outputs": [],
   "source": [
    "from pathlib import Path\n",
    "\n",
    "import natsort"
   ]
  },
  {
   "cell_type": "code",
   "execution_count": 7,
   "id": "3d5dd597",
   "metadata": {},
   "outputs": [
    {
     "name": "stdout",
     "output_type": "stream",
     "text": [
      "The autoreload extension is already loaded. To reload it, use:\n",
      "  %reload_ext autoreload\n"
     ]
    }
   ],
   "source": [
    "%load_ext autoreload\n",
    "%autoreload 2\n",
    "import bnpm\n",
    "\n",
    "import getpass\n",
    "import functools\n",
    "from pathlib import Path\n",
    "import time\n",
    "\n",
    "import natsort\n",
    "from tqdm import tqdm"
   ]
  },
  {
   "cell_type": "code",
   "execution_count": 8,
   "id": "2abea1ac",
   "metadata": {},
   "outputs": [
    {
     "name": "stdout",
     "output_type": "stream",
     "text": [
      "Username: rh183\n",
      "Password: ········\n"
     ]
    }
   ],
   "source": [
    "remote_host_transfer = \"transfer.rc.hms.harvard.edu\"\n",
    "remote_host_compute = \"o2.hms.harvard.edu\"\n",
    "username = input('Username: ')\n",
    "\n",
    "use_localSshKey = False\n",
    "\n",
    "pw = bnpm.server.pw_encode(getpass.getpass(prompt='Password: ')) if use_localSshKey==False else None\n",
    "\n",
    "path_sshKey = '/home/rich/.ssh/id_rsa' if use_localSshKey else None"
   ]
  },
  {
   "cell_type": "code",
   "execution_count": 9,
   "id": "0c01ec5a",
   "metadata": {},
   "outputs": [],
   "source": [
    "## initialize ssh_transfer\n",
    "ssh_t = bnpm.server.ssh_interface(\n",
    "    nbytes_toReceive=20000,\n",
    "    recv_timeout=1,\n",
    "    verbose=True,\n",
    ")\n",
    "ssh_t.o2_connect(\n",
    "    hostname=remote_host_transfer,\n",
    "    username=username,\n",
    "    password=bnpm.server.pw_decode(pw),\n",
    "    key_filename=path_sshKey,\n",
    "    look_for_keys=False,\n",
    "    passcode_method=1,\n",
    "    verbose=0,\n",
    "    skip_passcode=False,    \n",
    ")"
   ]
  },
  {
   "cell_type": "code",
   "execution_count": 10,
   "id": "34dad649",
   "metadata": {},
   "outputs": [],
   "source": [
    "sftp_t = bnpm.server.sftp_interface(ssh_client=ssh_t.client)"
   ]
  },
  {
   "cell_type": "code",
   "execution_count": 11,
   "id": "5e247232",
   "metadata": {},
   "outputs": [],
   "source": [
    "prompt_snip = f'[{username}'\n",
    "\n",
    "send_expect = functools.partial(ssh_t.send_expect, str_success=prompt_snip)"
   ]
  },
  {
   "cell_type": "code",
   "execution_count": null,
   "id": "ec58c832",
   "metadata": {},
   "outputs": [],
   "source": []
  },
  {
   "cell_type": "markdown",
   "id": "218451ac",
   "metadata": {},
   "source": [
    "# Download wavesurfer files"
   ]
  },
  {
   "cell_type": "code",
   "execution_count": null,
   "id": "b4ae3664",
   "metadata": {},
   "outputs": [],
   "source": []
  },
  {
   "cell_type": "code",
   "execution_count": 12,
   "id": "070d4942",
   "metadata": {},
   "outputs": [
    {
     "name": "stdout",
     "output_type": "stream",
     "text": [
      "/n/files/Neurobio/MICROSCOPE/Gyu/BMI_data/cage_0916/mouse_0916N/20231029/wavesurfer_data/exp_0001.h5\n",
      "/n/files/Neurobio/MICROSCOPE/Gyu/BMI_data/cage_0916/mouse_0916N/20231024/wavesurfer_data/exp_0001.h5\n",
      "/n/files/Neurobio/MICROSCOPE/Gyu/BMI_data/cage_0916/mouse_0916N/20231021/wavesurfer_data/exp_0001.h5\n",
      "/n/files/Neurobio/MICROSCOPE/Gyu/BMI_data/cage_0916/mouse_0916N/20231025/wavesurfer_data/exp_0001.h5\n",
      "/n/files/Neurobio/MICROSCOPE/Gyu/BMI_data/cage_0916/mouse_0916N/20231106/wavesurfer_data/exp_0001.h5\n",
      "/n/files/Neurobio/MICROSCOPE/Gyu/BMI_data/cage_0916/mouse_0916N/20231023/wavesurfer_data/exp_0001.h5\n",
      "/n/files/Neurobio/MICROSCOPE/Gyu/BMI_data/cage_0916/mouse_0916N/20231022/wavesurfer_data/exp_0001.h5\n",
      "/n/files/Neurobio/MICROSCOPE/Gyu/BMI_data/cage_0916/mouse_0916N/20231031/wavesurfer_data/exp_0001.h5\n",
      "/n/files/Neurobio/MICROSCOPE/Gyu/BMI_data/cage_0916/mouse_0916N/20231027/wavesurfer_data/exp_0001.h5\n",
      "/n/files/Neurobio/MICROSCOPE/Gyu/BMI_data/cage_0916/mouse_0916N/20231102/wavesurfer_data/exp_0001.h5\n",
      "/n/files/Neurobio/MICROSCOPE/Gyu/BMI_data/cage_0916/mouse_0916N/20231105/wavesurfer_data/exp_0001.h5\n",
      "/n/files/Neurobio/MICROSCOPE/Gyu/BMI_data/cage_0916/mouse_0916N/20231026/wavesurfer_data/exp_0001.h5\n",
      "/n/files/Neurobio/MICROSCOPE/Gyu/BMI_data/cage_0916/mouse_0916N/20231028/wavesurfer_data/exp_0001.h5\n",
      "/n/files/Neurobio/MICROSCOPE/Gyu/BMI_data/cage_0916/mouse_0916N/20231104/wavesurfer_data/exp_0001.h5\n",
      "/n/files/Neurobio/MICROSCOPE/Gyu/BMI_data/cage_0916/mouse_0916N/20231030/wavesurfer_data/exp_0001.h5\n",
      "/n/files/Neurobio/MICROSCOPE/Gyu/BMI_data/cage_0916/mouse_0916N/20231103/wavesurfer_data/exp_0001.h5\n",
      "/n/files/Neurobio/MICROSCOPE/Gyu/BMI_data/cage_0916/mouse_0916N/20231101/wavesurfer_data/exp_0001.h5\n"
     ]
    }
   ],
   "source": [
    "paths_files_remote = sftp_t.search_recursive(\n",
    "    path=r'/n/files/Neurobio/MICROSCOPE/Gyu/BMI_data/cage_0916/mouse_0916N/',\n",
    "    search_pattern_re=r'.*exp.*h5',\n",
    "    max_depth=6,\n",
    "    find_files=True,\n",
    "    find_folders=False,\n",
    "    verbose=True,\n",
    ")\n",
    "\n",
    "paths_files_remote = natsort.natsorted(paths_files_remote)"
   ]
  },
  {
   "cell_type": "code",
   "execution_count": 25,
   "id": "cb7867f2",
   "metadata": {},
   "outputs": [],
   "source": [
    "dates_files_remote = [Path(p).parts[-3] for p in paths_files_remote]"
   ]
  },
  {
   "cell_type": "code",
   "execution_count": 26,
   "id": "80c10f80",
   "metadata": {},
   "outputs": [
    {
     "data": {
      "text/plain": [
       "['20231021',\n",
       " '20231022',\n",
       " '20231023',\n",
       " '20231024',\n",
       " '20231025',\n",
       " '20231026',\n",
       " '20231027',\n",
       " '20231028',\n",
       " '20231029',\n",
       " '20231030',\n",
       " '20231031',\n",
       " '20231101',\n",
       " '20231102',\n",
       " '20231103',\n",
       " '20231104',\n",
       " '20231105',\n",
       " '20231106']"
      ]
     },
     "execution_count": 26,
     "metadata": {},
     "output_type": "execute_result"
    }
   ],
   "source": [
    "dates_files_remote"
   ]
  },
  {
   "cell_type": "code",
   "execution_count": 15,
   "id": "f9deea8d",
   "metadata": {},
   "outputs": [],
   "source": [
    "directory_local_save = r'/media/rich/bigSSD/analysis_data/face_rhythm/mouse_0916N/wavesurfer_files/'"
   ]
  },
  {
   "cell_type": "code",
   "execution_count": 16,
   "id": "69d5d717",
   "metadata": {},
   "outputs": [
    {
     "name": "stderr",
     "output_type": "stream",
     "text": [
      "100%|█████████████████████████████████████████████████████████████████████▉| 50.7M/50.7M [00:00<00:00, 51.5Mb/s]\n",
      "100%|█████████████████████████████████████████████████████████████████████▉| 50.7M/50.7M [00:00<00:00, 55.8Mb/s]\n",
      "100%|█████████████████████████████████████████████████████████████████████▉| 50.7M/50.7M [00:00<00:00, 56.0Mb/s]\n",
      "100%|█████████████████████████████████████████████████████████████████████▉| 50.7M/50.7M [00:00<00:00, 55.7Mb/s]\n",
      "100%|█████████████████████████████████████████████████████████████████████▉| 50.7M/50.7M [00:00<00:00, 56.9Mb/s]\n",
      "100%|█████████████████████████████████████████████████████████████████████▉| 50.7M/50.7M [00:00<00:00, 56.7Mb/s]\n",
      "100%|█████████████████████████████████████████████████████████████████████▉| 50.7M/50.7M [00:00<00:00, 56.5Mb/s]\n",
      "100%|█████████████████████████████████████████████████████████████████████▉| 50.7M/50.7M [00:01<00:00, 50.0Mb/s]\n",
      "100%|█████████████████████████████████████████████████████████████████████▉| 50.7M/50.7M [00:00<00:00, 55.3Mb/s]\n",
      "100%|█████████████████████████████████████████████████████████████████████▉| 50.7M/50.7M [00:00<00:00, 54.5Mb/s]\n",
      "100%|█████████████████████████████████████████████████████████████████████▉| 50.7M/50.7M [00:00<00:00, 54.3Mb/s]\n",
      "100%|█████████████████████████████████████████████████████████████████████▉| 50.7M/50.7M [00:00<00:00, 54.1Mb/s]\n",
      "100%|█████████████████████████████████████████████████████████████████████▉| 50.7M/50.7M [00:00<00:00, 54.3Mb/s]\n",
      "100%|█████████████████████████████████████████████████████████████████████▉| 50.7M/50.7M [00:00<00:00, 55.8Mb/s]\n",
      "100%|█████████████████████████████████████████████████████████████████████▉| 50.7M/50.7M [00:00<00:00, 56.8Mb/s]\n",
      "100%|█████████████████████████████████████████████████████████████████████▉| 50.7M/50.7M [00:00<00:00, 56.5Mb/s]\n",
      "100%|█████████████████████████████████████████████████████████████████████▉| 50.7M/50.7M [00:00<00:00, 55.7Mb/s]\n"
     ]
    },
    {
     "data": {
      "text/plain": [
       "[None,\n",
       " None,\n",
       " None,\n",
       " None,\n",
       " None,\n",
       " None,\n",
       " None,\n",
       " None,\n",
       " None,\n",
       " None,\n",
       " None,\n",
       " None,\n",
       " None,\n",
       " None,\n",
       " None,\n",
       " None,\n",
       " None]"
      ]
     },
     "execution_count": 16,
     "metadata": {},
     "output_type": "execute_result"
    }
   ],
   "source": [
    "[sftp_t.get(remotepath=p_r, localpath=str(Path(directory_local_save) / date / Path(p_r).name)) for p_r, date in zip(paths_files_remote, dates_files_remote)]"
   ]
  },
  {
   "cell_type": "code",
   "execution_count": null,
   "id": "eb6ac783",
   "metadata": {},
   "outputs": [],
   "source": []
  },
  {
   "cell_type": "code",
   "execution_count": null,
   "id": "ef4e9c34",
   "metadata": {},
   "outputs": [],
   "source": []
  },
  {
   "cell_type": "code",
   "execution_count": null,
   "id": "4cd68f0f",
   "metadata": {},
   "outputs": [],
   "source": []
  },
  {
   "cell_type": "code",
   "execution_count": null,
   "id": "6a7cf907",
   "metadata": {},
   "outputs": [],
   "source": []
  },
  {
   "cell_type": "markdown",
   "id": "1522ecde",
   "metadata": {},
   "source": [
    "# Download camera CSV files"
   ]
  },
  {
   "cell_type": "code",
   "execution_count": null,
   "id": "27381ebf",
   "metadata": {},
   "outputs": [],
   "source": []
  },
  {
   "cell_type": "code",
   "execution_count": 18,
   "id": "6d51bf89",
   "metadata": {},
   "outputs": [
    {
     "name": "stdout",
     "output_type": "stream",
     "text": [
      "/n/files/Neurobio/MICROSCOPE/Gyu/BMI_data/cage_0916/mouse_0916N/20231029/camera_data/exp/cam4/times_cam42023-10-29T10_23_54.csv\n",
      "/n/files/Neurobio/MICROSCOPE/Gyu/BMI_data/cage_0916/mouse_0916N/20231024/camera_data/exp/cam4/times_cam42023-10-24T13_56_05.csv\n",
      "/n/files/Neurobio/MICROSCOPE/Gyu/BMI_data/cage_0916/mouse_0916N/20231025/camera_data/exp/cam4/times_cam42023-10-25T12_51_29.csv\n",
      "/n/files/Neurobio/MICROSCOPE/Gyu/BMI_data/cage_0916/mouse_0916N/20231106/camera_data/exp/cam4/times_cam42023-11-06T13_49_29.csv\n",
      "/n/files/Neurobio/MICROSCOPE/Gyu/BMI_data/cage_0916/mouse_0916N/20231023/camera_data/exp/cam4/times_cam42023-10-23T11_36_48.csv\n",
      "/n/files/Neurobio/MICROSCOPE/Gyu/BMI_data/cage_0916/mouse_0916N/20231022/camera_data/exp/cam4/times_cam42023-10-22T12_05_55.csv\n",
      "/n/files/Neurobio/MICROSCOPE/Gyu/BMI_data/cage_0916/mouse_0916N/20231031/camera_data/exp/cam4/times_cam42023-10-31T11_52_06.csv\n",
      "/n/files/Neurobio/MICROSCOPE/Gyu/BMI_data/cage_0916/mouse_0916N/20231027/camera_data/exp/cam4/times_cam42023-10-27T12_09_43.csv\n",
      "/n/files/Neurobio/MICROSCOPE/Gyu/BMI_data/cage_0916/mouse_0916N/20231102/camera_data/exp/cam4/times_cam42023-11-02T14_07_05.csv\n",
      "/n/files/Neurobio/MICROSCOPE/Gyu/BMI_data/cage_0916/mouse_0916N/20231105/camera_data/exp/cam4/times_cam42023-11-05T12_56_50.csv\n",
      "/n/files/Neurobio/MICROSCOPE/Gyu/BMI_data/cage_0916/mouse_0916N/20231026/camera_data/exp/cam4/times_cam42023-10-26T12_02_14.csv\n",
      "/n/files/Neurobio/MICROSCOPE/Gyu/BMI_data/cage_0916/mouse_0916N/20231028/camera_data/exp/cam4/times_cam42023-10-28T12_24_57.csv\n",
      "/n/files/Neurobio/MICROSCOPE/Gyu/BMI_data/cage_0916/mouse_0916N/20231104/camera_data/exp/cam4/times_cam42023-11-04T13_19_18.csv\n",
      "/n/files/Neurobio/MICROSCOPE/Gyu/BMI_data/cage_0916/mouse_0916N/20231030/camera_data/exp/cam4/times_cam42023-10-30T11_41_08.csv\n",
      "/n/files/Neurobio/MICROSCOPE/Gyu/BMI_data/cage_0916/mouse_0916N/20231103/camera_data/exp/cam4/times_cam42023-11-03T12_43_43.csv\n",
      "/n/files/Neurobio/MICROSCOPE/Gyu/BMI_data/cage_0916/mouse_0916N/20231101/camera_data/exp/cam4/times_cam42023-11-01T11_37_02.csv\n"
     ]
    }
   ],
   "source": [
    "paths_csvs_remote = sftp_t.search_recursive(\n",
    "    path=r'/n/files/Neurobio/MICROSCOPE/Gyu/BMI_data/cage_0916/mouse_0916N/',\n",
    "    search_pattern_re=r'.*cam4.*csv',\n",
    "    max_depth=6,\n",
    "    find_files=True,\n",
    "    find_folders=False,\n",
    "    verbose=True,\n",
    ")\n",
    "\n",
    "paths_csvs_remote = natsort.natsorted(paths_csvs_remote)"
   ]
  },
  {
   "cell_type": "code",
   "execution_count": 23,
   "id": "17c4b006",
   "metadata": {},
   "outputs": [],
   "source": [
    "dates_csvs_remote = [Path(p).parts[-5] for p in paths_csvs_remote]"
   ]
  },
  {
   "cell_type": "code",
   "execution_count": 24,
   "id": "e98e7c0c",
   "metadata": {},
   "outputs": [
    {
     "data": {
      "text/plain": [
       "['20231022',\n",
       " '20231023',\n",
       " '20231024',\n",
       " '20231025',\n",
       " '20231026',\n",
       " '20231027',\n",
       " '20231028',\n",
       " '20231029',\n",
       " '20231030',\n",
       " '20231031',\n",
       " '20231101',\n",
       " '20231102',\n",
       " '20231103',\n",
       " '20231104',\n",
       " '20231105',\n",
       " '20231106']"
      ]
     },
     "execution_count": 24,
     "metadata": {},
     "output_type": "execute_result"
    }
   ],
   "source": [
    "dates_csvs_remote"
   ]
  },
  {
   "cell_type": "code",
   "execution_count": 27,
   "id": "a7f2d71c",
   "metadata": {},
   "outputs": [],
   "source": [
    "directory_local_save = r'/media/rich/bigSSD/analysis_data/face_rhythm/mouse_0916N/cam4_CSVs/'"
   ]
  },
  {
   "cell_type": "code",
   "execution_count": 28,
   "id": "9d025b55",
   "metadata": {},
   "outputs": [
    {
     "name": "stderr",
     "output_type": "stream",
     "text": [
      "100%|█████████████████████████████████████████████████████████████████████▉| 31.1M/31.1M [00:00<00:00, 44.7Mb/s]\n",
      "100%|█████████████████████████████████████████████████████████████████████▉| 31.1M/31.1M [00:00<00:00, 54.1Mb/s]\n",
      "100%|█████████████████████████████████████████████████████████████████████▉| 31.2M/31.2M [00:00<00:00, 49.3Mb/s]\n",
      "100%|█████████████████████████████████████████████████████████████████████▉| 31.1M/31.1M [00:00<00:00, 52.1Mb/s]\n",
      "100%|█████████████████████████████████████████████████████████████████████▉| 31.0M/31.0M [00:00<00:00, 52.0Mb/s]\n",
      "100%|█████████████████████████████████████████████████████████████████████▉| 31.1M/31.2M [00:00<00:00, 51.8Mb/s]\n",
      "100%|█████████████████████████████████████████████████████████████████████▉| 31.3M/31.3M [00:00<00:00, 45.6Mb/s]\n",
      "100%|█████████████████████████████████████████████████████████████████████▉| 31.2M/31.2M [00:00<00:00, 50.6Mb/s]\n",
      "100%|█████████████████████████████████████████████████████████████████████▉| 31.1M/31.1M [00:00<00:00, 47.8Mb/s]\n",
      "100%|█████████████████████████████████████████████████████████████████████▉| 31.1M/31.1M [00:00<00:00, 48.2Mb/s]\n",
      "100%|█████████████████████████████████████████████████████████████████████▉| 31.1M/31.1M [00:00<00:00, 46.8Mb/s]\n",
      "100%|█████████████████████████████████████████████████████████████████████▉| 31.1M/31.1M [00:00<00:00, 44.2Mb/s]\n",
      "100%|█████████████████████████████████████████████████████████████████████▉| 33.4M/33.4M [00:00<00:00, 43.1Mb/s]\n",
      "100%|█████████████████████████████████████████████████████████████████████▉| 31.1M/31.1M [00:00<00:00, 49.8Mb/s]\n",
      "100%|█████████████████████████████████████████████████████████████████████▉| 31.0M/31.1M [00:00<00:00, 48.4Mb/s]\n",
      "100%|█████████████████████████████████████████████████████████████████████▉| 31.1M/31.1M [00:00<00:00, 51.2Mb/s]\n"
     ]
    },
    {
     "data": {
      "text/plain": [
       "[None,\n",
       " None,\n",
       " None,\n",
       " None,\n",
       " None,\n",
       " None,\n",
       " None,\n",
       " None,\n",
       " None,\n",
       " None,\n",
       " None,\n",
       " None,\n",
       " None,\n",
       " None,\n",
       " None,\n",
       " None]"
      ]
     },
     "execution_count": 28,
     "metadata": {},
     "output_type": "execute_result"
    }
   ],
   "source": [
    "[sftp_t.get(remotepath=p_r, localpath=str(Path(directory_local_save) / date / Path(p_r).name)) for p_r, date in zip(paths_csvs_remote, dates_csvs_remote)]"
   ]
  },
  {
   "cell_type": "code",
   "execution_count": null,
   "id": "2f70dadd",
   "metadata": {},
   "outputs": [],
   "source": []
  },
  {
   "cell_type": "code",
   "execution_count": null,
   "id": "6cbfc8d0",
   "metadata": {},
   "outputs": [],
   "source": []
  },
  {
   "cell_type": "code",
   "execution_count": null,
   "id": "7b0752d2",
   "metadata": {},
   "outputs": [],
   "source": []
  },
  {
   "cell_type": "code",
   "execution_count": null,
   "id": "c103f1e2",
   "metadata": {},
   "outputs": [],
   "source": []
  },
  {
   "cell_type": "code",
   "execution_count": null,
   "id": "df2cecbe",
   "metadata": {},
   "outputs": [],
   "source": []
  },
  {
   "cell_type": "code",
   "execution_count": null,
   "id": "f338bbab",
   "metadata": {},
   "outputs": [],
   "source": []
  },
  {
   "cell_type": "markdown",
   "id": "ea7a03ee",
   "metadata": {},
   "source": [
    "# Download FR run files"
   ]
  },
  {
   "cell_type": "code",
   "execution_count": null,
   "id": "21aed072",
   "metadata": {},
   "outputs": [],
   "source": []
  },
  {
   "cell_type": "code",
   "execution_count": null,
   "id": "f326bb65",
   "metadata": {},
   "outputs": [],
   "source": [
    "sftp_t.get_dir(\n",
    "    source='/n/data1/hms/neurobio/sabatini/rich/analysis/faceRhythm/mouse_0916N/run_20240131/',\n",
    "    target='/media/rich/bigSSD/analysis_data/face_rhythm/mouse_0916N/fr_run/run_20240131/',\n",
    "    verbose=True,\n",
    "    prog_bars=True,\n",
    ")"
   ]
  },
  {
   "cell_type": "code",
   "execution_count": null,
   "id": "d8a3717e",
   "metadata": {},
   "outputs": [],
   "source": []
  },
  {
   "cell_type": "code",
   "execution_count": null,
   "id": "f45f9698",
   "metadata": {},
   "outputs": [],
   "source": []
  },
  {
   "cell_type": "code",
   "execution_count": null,
   "id": "1eda7282",
   "metadata": {},
   "outputs": [],
   "source": []
  },
  {
   "cell_type": "code",
   "execution_count": null,
   "id": "d15d8a0b",
   "metadata": {},
   "outputs": [],
   "source": []
  },
  {
   "cell_type": "code",
   "execution_count": null,
   "id": "96623f2a",
   "metadata": {},
   "outputs": [],
   "source": []
  },
  {
   "cell_type": "code",
   "execution_count": null,
   "id": "0586724c",
   "metadata": {},
   "outputs": [],
   "source": []
  },
  {
   "cell_type": "code",
   "execution_count": null,
   "id": "966b4383",
   "metadata": {},
   "outputs": [],
   "source": []
  },
  {
   "cell_type": "code",
   "execution_count": null,
   "id": "fa5dd7a9",
   "metadata": {},
   "outputs": [],
   "source": []
  },
  {
   "cell_type": "code",
   "execution_count": null,
   "id": "4d9ec9b8",
   "metadata": {},
   "outputs": [],
   "source": []
  }
 ],
 "metadata": {
  "kernelspec": {
   "display_name": "Python 3 (ipykernel)",
   "language": "python",
   "name": "python3"
  },
  "language_info": {
   "codemirror_mode": {
    "name": "ipython",
    "version": 3
   },
   "file_extension": ".py",
   "mimetype": "text/x-python",
   "name": "python",
   "nbconvert_exporter": "python",
   "pygments_lexer": "ipython3",
   "version": "3.9.16"
  }
 },
 "nbformat": 4,
 "nbformat_minor": 5
}
