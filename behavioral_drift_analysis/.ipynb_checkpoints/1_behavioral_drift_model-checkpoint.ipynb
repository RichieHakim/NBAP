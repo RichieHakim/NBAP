{
 "cells": [
  {
   "cell_type": "code",
   "execution_count": 2,
   "id": "e4772327",
   "metadata": {
    "scrolled": true
   },
   "outputs": [
    {
     "data": {
      "text/html": [
       "<style>.container {width:100% !important; }</style>"
      ],
      "text/plain": [
       "<IPython.core.display.HTML object>"
      ]
     },
     "metadata": {},
     "output_type": "display_data"
    },
    {
     "name": "stdout",
     "output_type": "stream",
     "text": [
      "Conda Environment: roicat\n"
     ]
    }
   ],
   "source": [
    "# widen jupyter notebook window\n",
    "from IPython.display import display, HTML\n",
    "display(HTML(\"<style>.container {width:100% !important; }</style>\"))\n",
    "\n",
    "# check environment\n",
    "import os\n",
    "print(f'Conda Environment: ' + os.environ['CONDA_DEFAULT_ENV'])"
   ]
  },
  {
   "cell_type": "code",
   "execution_count": 3,
   "id": "8329947e",
   "metadata": {},
   "outputs": [],
   "source": [
    "import copy\n",
    "from pathlib import Path"
   ]
  },
  {
   "cell_type": "code",
   "execution_count": 4,
   "id": "3568ca59",
   "metadata": {},
   "outputs": [],
   "source": [
    "import numpy as np\n",
    "import torch\n",
    "import matplotlib.pyplot as plt\n",
    "import tensorly as tl"
   ]
  },
  {
   "cell_type": "code",
   "execution_count": 5,
   "id": "c60fa0a3",
   "metadata": {},
   "outputs": [],
   "source": [
    "%load_ext autoreload\n",
    "%autoreload 2\n",
    "import bnpm"
   ]
  },
  {
   "cell_type": "code",
   "execution_count": 6,
   "id": "91582396",
   "metadata": {},
   "outputs": [],
   "source": [
    "tl.set_backend('pytorch')"
   ]
  },
  {
   "cell_type": "markdown",
   "id": "77de99bc",
   "metadata": {},
   "source": [
    "Import face_rhythm TCA factors and spectrogram tensor"
   ]
  },
  {
   "cell_type": "code",
   "execution_count": 7,
   "id": "5d07823d",
   "metadata": {},
   "outputs": [],
   "source": [
    "directory_FR_template = r'/media/rich/bigSSD/analysis_data/face_rhythm/mouse_0322N/20230430/run_from_o2'\n",
    "directory_FR_current = r'/media/rich/bigSSD/analysis_data/face_rhythm/mouse_0322N/20230502//jobNum_0'"
   ]
  },
  {
   "cell_type": "code",
   "execution_count": 8,
   "id": "3bbf38f4",
   "metadata": {},
   "outputs": [],
   "source": [
    "tca_template = bnpm.h5_handling.simple_load(str(Path(directory_FR_template) / 'analysis_files' / 'TCA.h5'))"
   ]
  },
  {
   "cell_type": "code",
   "execution_count": 9,
   "id": "9749e98b",
   "metadata": {},
   "outputs": [],
   "source": [
    "tca_current = bnpm.h5_handling.simple_load(str(Path(directory_FR_current) / 'analysis_files' / 'TCA.h5'))"
   ]
  },
  {
   "cell_type": "code",
   "execution_count": 10,
   "id": "20335165",
   "metadata": {},
   "outputs": [],
   "source": [
    "params_template = bnpm.file_helpers.json_load(str(Path(directory_FR_template) / 'params.json'))"
   ]
  },
  {
   "cell_type": "code",
   "execution_count": 11,
   "id": "74392ce5",
   "metadata": {},
   "outputs": [
    {
     "name": "stdout",
     "output_type": "stream",
     "text": [
      "device: 'cpu'\n"
     ]
    }
   ],
   "source": [
    "DEVICE_data = bnpm.torch_helpers.set_device(use_GPU=False)"
   ]
  },
  {
   "cell_type": "code",
   "execution_count": 12,
   "id": "09f6fe53",
   "metadata": {},
   "outputs": [],
   "source": [
    "def cp_dict_to_cp_tensor(cp_dict, device='cpu'):\n",
    "    \"\"\"A function for converting a raw list of factor matrices into tensorly's CPTensor format\"\"\"\n",
    "    return tl.cp_tensor.CPTensor((None, [torch.as_tensor(v, dtype=torch.float32, device=device) for v in cp_dict.values()]))"
   ]
  },
  {
   "cell_type": "code",
   "execution_count": 13,
   "id": "381a3c76",
   "metadata": {},
   "outputs": [],
   "source": [
    "def make_cp_init(k_tensor, shape_dense_tensor, modes_fixed=[0,1,], device='cpu'):\n",
    "    \"\"\"Makes a CPTensor for initializing a TCA run. The k_tensor matrices will be used for each of the fixed modes and will be shuffle permuted for each of the non-fixed modes.\"\"\"\n",
    "    import copy\n",
    "    n_modes = len(k_tensor)\n",
    "    kt = [None]*n_modes\n",
    "    for i_mode in range(len(kt)):\n",
    "        if i_mode in modes_fixed:\n",
    "            kt[i_mode] = torch.as_tensor(k_tensor[i_mode], dtype=torch.float32, device=device)\n",
    "        else:\n",
    "            perm = torch.randperm(shape_dense_tensor[i_mode])\n",
    "            kt[i_mode] = torch.as_tensor(k_tensor[i_mode], dtype=torch.float32, device=device)[perm]\n",
    "        \n",
    "    return tl.cp_tensor.CPTensor((None, kt))"
   ]
  },
  {
   "cell_type": "code",
   "execution_count": 14,
   "id": "145e94f1",
   "metadata": {},
   "outputs": [],
   "source": [
    "def reconstruction_EV(tensor, cp):\n",
    "#     tensor_rec = tl.cp_to_tensor(cp).cpu()\n",
    "    tensor_rec = bnpm.indexing.kruskal_to_dense(cp.factors).cpu()\n",
    "    ev = 1 - (torch.var(tensor - tensor_rec) / torch.var(tensor))\n",
    "    return ev"
   ]
  },
  {
   "cell_type": "markdown",
   "id": "c4747583",
   "metadata": {},
   "source": [
    "make model"
   ]
  },
  {
   "cell_type": "code",
   "execution_count": 15,
   "id": "ad2581a4",
   "metadata": {},
   "outputs": [],
   "source": [
    "spec_current = bnpm.h5_handling.simple_load(str(Path(directory_FR_current) / 'analysis_files' / 'VQT_Analyzer.h5'))"
   ]
  },
  {
   "cell_type": "code",
   "execution_count": 16,
   "id": "f4615e4e",
   "metadata": {},
   "outputs": [],
   "source": [
    "## Prepare the current session spectrogram for refitting\n",
    "### flatten the (xy points) dimension\n",
    "s = spec_current['spectrograms']['0'].copy()\n",
    "s = s.transpose(2,3,0,1)\n",
    "s = s.reshape(s.shape[0], s.shape[1], -1)\n",
    "s = s.transpose(2,0,1)\n",
    "s = torch.as_tensor(s, dtype=torch.float32, device=DEVICE_data)"
   ]
  },
  {
   "cell_type": "code",
   "execution_count": 17,
   "id": "5dc56980",
   "metadata": {},
   "outputs": [],
   "source": [
    "## prepare tca factors into a tensorly CPTensor\n",
    "cp_template = cp_dict_to_cp_tensor(tca_template['factors_rearranged']['0'], device=DEVICE_data)\n",
    "cp_current = cp_dict_to_cp_tensor(tca_current['factors_rearranged']['0'], device=DEVICE_data)"
   ]
  },
  {
   "cell_type": "code",
   "execution_count": null,
   "id": "b2d63c21",
   "metadata": {},
   "outputs": [],
   "source": []
  },
  {
   "cell_type": "code",
   "execution_count": 18,
   "id": "ac7873a6",
   "metadata": {},
   "outputs": [
    {
     "name": "stdout",
     "output_type": "stream",
     "text": [
      "device: 'cpu'\n"
     ]
    }
   ],
   "source": [
    "DEVICE_tca = bnpm.torch_helpers.set_device(use_GPU=False)"
   ]
  },
  {
   "cell_type": "code",
   "execution_count": 19,
   "id": "19cee488",
   "metadata": {},
   "outputs": [],
   "source": [
    "modes_fixed = [0,1,]"
   ]
  },
  {
   "cell_type": "code",
   "execution_count": 20,
   "id": "997bb016",
   "metadata": {},
   "outputs": [],
   "source": [
    "cp_init = make_cp_init(cp_template.factors, s.shape, modes_fixed=modes_fixed, device=DEVICE_tca)"
   ]
  },
  {
   "cell_type": "code",
   "execution_count": 21,
   "id": "80e41cb1",
   "metadata": {},
   "outputs": [],
   "source": [
    "params_tca = copy.deepcopy(params_template['TCA']['fit']['params_method'])"
   ]
  },
  {
   "cell_type": "code",
   "execution_count": 22,
   "id": "f046e2b5",
   "metadata": {},
   "outputs": [],
   "source": [
    "# params_tca['n_iter_max'] = 40\n",
    "params_tca['init'] = cp_init"
   ]
  },
  {
   "cell_type": "code",
   "execution_count": 23,
   "id": "24df9d1b",
   "metadata": {},
   "outputs": [],
   "source": [
    "model_tca = tl.decomposition.CP_NN_HALS(\n",
    "    **params_tca,\n",
    "    fixed_modes=modes_fixed,\n",
    ")"
   ]
  },
  {
   "cell_type": "code",
   "execution_count": 24,
   "id": "a1f7bb9c",
   "metadata": {},
   "outputs": [
    {
     "name": "stderr",
     "output_type": "stream",
     "text": [
      "/media/rich/OS/Users/Richard/Linux_stuff_on_OS/conda_envs/envs/roicat/lib/python3.11/site-packages/tensorly/backend/pytorch_backend.py:39: UserWarning: To copy construct from a tensor, it is recommended to use sourceTensor.clone().detach() or sourceTensor.clone().detach().requires_grad_(True), rather than torch.tensor(sourceTensor).\n",
      "  return torch.tensor(\n"
     ]
    },
    {
     "name": "stdout",
     "output_type": "stream",
     "text": [
      "reconstruction error=0.3259415030479431\n",
      "iteration 1, reconstruction error: 0.3259415030479431, decrease = 0.0\n",
      "PARAFAC converged after 1 iterations\n"
     ]
    },
    {
     "data": {
      "text/plain": [
       "Rank-12 Non-Negative CP decomposition."
      ]
     },
     "execution_count": 24,
     "metadata": {},
     "output_type": "execute_result"
    }
   ],
   "source": [
    "model_tca.fit(s.to(DEVICE_tca))"
   ]
  },
  {
   "cell_type": "code",
   "execution_count": 25,
   "id": "5bae9a7b",
   "metadata": {},
   "outputs": [],
   "source": [
    "cp_refit = model_tca.decomposition_\n",
    "cp_refit = tl.cp_tensor.CPTensor((cp_refit.weights.cpu(), [f.cpu() for f in cp_refit.factors]))"
   ]
  },
  {
   "cell_type": "code",
   "execution_count": 26,
   "id": "8f6ef42d",
   "metadata": {},
   "outputs": [],
   "source": [
    "EV_rec_refit = bnpm.similarity.cp_reconstruction_EV(\n",
    "    tensor_dense=s,\n",
    "    tensor_CP=cp_refit.factors,\n",
    ")"
   ]
  },
  {
   "cell_type": "code",
   "execution_count": 27,
   "id": "24cbac41",
   "metadata": {},
   "outputs": [],
   "source": [
    "EV_rec_original = bnpm.similarity.cp_reconstruction_EV(\n",
    "    tensor_dense=s,\n",
    "    tensor_CP=cp_current.factors,\n",
    ")"
   ]
  },
  {
   "cell_type": "code",
   "execution_count": 28,
   "id": "f3d6b770",
   "metadata": {
    "scrolled": true
   },
   "outputs": [
    {
     "data": {
      "text/plain": [
       "tensor(0.7478)"
      ]
     },
     "execution_count": 28,
     "metadata": {},
     "output_type": "execute_result"
    }
   ],
   "source": [
    "EV_rec_original"
   ]
  },
  {
   "cell_type": "code",
   "execution_count": 29,
   "id": "71bf3fa3",
   "metadata": {
    "scrolled": true
   },
   "outputs": [
    {
     "data": {
      "text/plain": [
       "tensor(0.7047)"
      ]
     },
     "execution_count": 29,
     "metadata": {},
     "output_type": "execute_result"
    }
   ],
   "source": [
    "EV_rec_refit"
   ]
  },
  {
   "cell_type": "code",
   "execution_count": 38,
   "id": "22fce5bd",
   "metadata": {},
   "outputs": [],
   "source": [
    "tca_refit = {\n",
    "    'factors_refit': {key: val for key, val in zip(tca_template['factors_rearranged']['0'].keys(), cp_refit.factors)},\n",
    "    'modes_fixed': modes_fixed,\n",
    "    'EV_rec_original': EV_rec_original,\n",
    "    'EV_rec_refit': EV_rec_refit,\n",
    "    'directory_template': directory_FR_template,\n",
    "    'directory_current':directory_FR_current,\n",
    "}"
   ]
  },
  {
   "cell_type": "code",
   "execution_count": null,
   "id": "ae9a2622",
   "metadata": {},
   "outputs": [],
   "source": [
    "bnpm.h5_handling.simple_save(\n",
    "    dict_to_save=tca_refit,\n",
    "    path=str(Path(dir_save) / 'tca_refit.h5')\n",
    ")"
   ]
  },
  {
   "cell_type": "code",
   "execution_count": null,
   "id": "c13a5986",
   "metadata": {},
   "outputs": [],
   "source": []
  },
  {
   "cell_type": "code",
   "execution_count": null,
   "id": "75bb77ee",
   "metadata": {},
   "outputs": [],
   "source": []
  }
 ],
 "metadata": {
  "kernelspec": {
   "display_name": "Python 3 (ipykernel)",
   "language": "python",
   "name": "python3"
  },
  "language_info": {
   "codemirror_mode": {
    "name": "ipython",
    "version": 3
   },
   "file_extension": ".py",
   "mimetype": "text/x-python",
   "name": "python",
   "nbconvert_exporter": "python",
   "pygments_lexer": "ipython3",
   "version": "3.11.3"
  }
 },
 "nbformat": 4,
 "nbformat_minor": 5
}
