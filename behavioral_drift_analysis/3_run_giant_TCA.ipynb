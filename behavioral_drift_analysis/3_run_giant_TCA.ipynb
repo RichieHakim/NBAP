{
 "cells": [
  {
   "cell_type": "code",
   "execution_count": 1,
   "id": "9ac92c13",
   "metadata": {},
   "outputs": [
    {
     "data": {
      "text/html": [
       "<style>.container {width:95% !important; }</style>"
      ],
      "text/plain": [
       "<IPython.core.display.HTML object>"
      ]
     },
     "metadata": {},
     "output_type": "display_data"
    }
   ],
   "source": [
    "# ALWAYS RUN THIS CELL\n",
    "# widen jupyter notebook window\n",
    "from IPython.display import display, HTML\n",
    "display(HTML(\"<style>.container {width:95% !important; }</style>\"))"
   ]
  },
  {
   "cell_type": "code",
   "execution_count": 2,
   "id": "4ecf63fb",
   "metadata": {},
   "outputs": [],
   "source": [
    "from pathlib import Path\n",
    "\n",
    "import matplotlib.pyplot as plt\n",
    "from tqdm.notebook import tqdm\n",
    "\n",
    "import torch\n",
    "import numpy as np\n",
    "\n",
    "import tensorly as tl"
   ]
  },
  {
   "cell_type": "code",
   "execution_count": 3,
   "id": "d1d9fcec",
   "metadata": {},
   "outputs": [],
   "source": [
    "%load_ext autoreload\n",
    "%autoreload 2\n",
    "import bnpm"
   ]
  },
  {
   "cell_type": "markdown",
   "id": "ae48f7e6",
   "metadata": {},
   "source": [
    "Import data"
   ]
  },
  {
   "cell_type": "code",
   "execution_count": 4,
   "id": "ffec2f71",
   "metadata": {},
   "outputs": [],
   "source": [
    "directory_data_tca = r'/media/rich/bigSSD/analysis_data/face_rhythm/mouse_0322N/run_20230701/'"
   ]
  },
  {
   "cell_type": "code",
   "execution_count": 5,
   "id": "d39a76d6",
   "metadata": {},
   "outputs": [
    {
     "data": {
      "text/plain": [
       "['20230430',\n",
       " '20230501',\n",
       " '20230502',\n",
       " '20230503',\n",
       " '20230504',\n",
       " '20230505',\n",
       " '20230506',\n",
       " '20230507',\n",
       " '20230508',\n",
       " '20230509',\n",
       " '20230510',\n",
       " '20230511',\n",
       " '20230512',\n",
       " '20230514',\n",
       " '20230515',\n",
       " '20230516',\n",
       " '20230517',\n",
       " '20230518',\n",
       " '20230519',\n",
       " '20230520',\n",
       " '20230521',\n",
       " '20230522',\n",
       " '20230523',\n",
       " '20230524',\n",
       " '20230525',\n",
       " '20230526',\n",
       " '20230527',\n",
       " '20230528',\n",
       " '20230529',\n",
       " '20230530',\n",
       " '20230531',\n",
       " '20230601']"
      ]
     },
     "execution_count": 5,
     "metadata": {},
     "output_type": "execute_result"
    }
   ],
   "source": [
    "paths_data_tca = bnpm.path_helpers.find_paths(\n",
    "    dir_outer=directory_data_tca,\n",
    "    reMatch='VQT_Analyzer.h5',\n",
    "    depth=3,\n",
    "    natsorted=True,\n",
    ")\n",
    "dates_data_tca = [Path(p).parts[-4] for p in paths_data_tca]\n",
    "\n",
    "dates_data_tca"
   ]
  },
  {
   "cell_type": "code",
   "execution_count": 6,
   "id": "c84d89b9",
   "metadata": {},
   "outputs": [
    {
     "data": {
      "application/vnd.jupyter.widget-view+json": {
       "model_id": "e04d566a13ce4d7bba57a74e58eb0081",
       "version_major": 2,
       "version_minor": 0
      },
      "text/plain": [
       "0it [00:00, ?it/s]"
      ]
     },
     "metadata": {},
     "output_type": "display_data"
    }
   ],
   "source": [
    "data_tca = {d: bnpm.h5_handling.simple_load(p, return_dict=False,) for d,p in tqdm(zip(dates_data_tca, paths_data_tca))}"
   ]
  },
  {
   "cell_type": "markdown",
   "id": "ebce31d6",
   "metadata": {},
   "source": [
    "make a subsampled and concatenated version"
   ]
  },
  {
   "cell_type": "code",
   "execution_count": 13,
   "id": "a0229db8",
   "metadata": {},
   "outputs": [
    {
     "data": {
      "application/vnd.jupyter.widget-view+json": {
       "model_id": "5062e44f92a24c169491f127974bc901",
       "version_major": 2,
       "version_minor": 0
      },
      "text/plain": [
       "  0%|          | 0/32 [00:00<?, ?it/s]"
      ]
     },
     "metadata": {},
     "output_type": "display_data"
    }
   ],
   "source": [
    "n_samples_per_session = 2000\n",
    "\n",
    "spectrograms_subsampled = {}\n",
    "\n",
    "for date, data in tqdm(data_tca.items()):\n",
    "    idx = np.sort(np.random.choice(np.arange(data['spectrograms']['0'].shape[-1]), size=min(n_samples_per_session, data['spectrograms']['0'].shape[-1]), replace=False))\n",
    "\n",
    "    spectrograms_subsampled[date] = data['spectrograms']['0'][..., idx]"
   ]
  },
  {
   "cell_type": "code",
   "execution_count": null,
   "id": "21e7ea86",
   "metadata": {},
   "outputs": [],
   "source": []
  },
  {
   "cell_type": "code",
   "execution_count": 37,
   "id": "9baef990",
   "metadata": {},
   "outputs": [
    {
     "name": "stdout",
     "output_type": "stream",
     "text": [
      "device: 'cpu'\n"
     ]
    }
   ],
   "source": [
    "DEVICE_bigTCA = bnpm.torch_helpers.set_device(use_GPU=False)"
   ]
  },
  {
   "cell_type": "code",
   "execution_count": 18,
   "id": "0f31d5f2",
   "metadata": {},
   "outputs": [],
   "source": [
    "spectrograms_cat = np.concatenate(list(spectrograms_subsampled.values()), axis=-1)"
   ]
  },
  {
   "cell_type": "code",
   "execution_count": 19,
   "id": "f7d1e794",
   "metadata": {},
   "outputs": [],
   "source": [
    "spectrograms_cat = spectrograms_cat.transpose(-1, 2, 0, 1)\n",
    "spectrograms_cat = spectrograms_cat.reshape(spectrograms_cat.shape[0], spectrograms_cat.shape[1], -1)\n",
    "spectrograms_cat = torch.as_tensor(spectrograms_cat, dtype=torch.float32, device=DEVICE_bigTCA)"
   ]
  },
  {
   "cell_type": "code",
   "execution_count": null,
   "id": "82648334",
   "metadata": {},
   "outputs": [],
   "source": []
  },
  {
   "cell_type": "code",
   "execution_count": 29,
   "id": "ff5705ac",
   "metadata": {},
   "outputs": [],
   "source": [
    "# np.save('/media/rich/bigSSD/downloads_tmp/spec_cat.npy', spectrograms_cat.numpy())"
   ]
  },
  {
   "cell_type": "code",
   "execution_count": 30,
   "id": "265eac7f",
   "metadata": {},
   "outputs": [],
   "source": [
    "# spectrograms_cat = np.load('/media/rich/bigSSD/downloads_tmp/spec_cat.npy')"
   ]
  },
  {
   "cell_type": "code",
   "execution_count": null,
   "id": "47da5926",
   "metadata": {},
   "outputs": [],
   "source": []
  },
  {
   "cell_type": "code",
   "execution_count": 20,
   "id": "e15f263e",
   "metadata": {},
   "outputs": [
    {
     "data": {
      "text/plain": [
       "17.252352"
      ]
     },
     "execution_count": 20,
     "metadata": {},
     "output_type": "execute_result"
    }
   ],
   "source": [
    "bnpm.misc.estimate_array_size(spectrograms_cat)"
   ]
  },
  {
   "cell_type": "code",
   "execution_count": 21,
   "id": "e00cd3c6",
   "metadata": {},
   "outputs": [],
   "source": [
    "bnpm.torch_helpers.clear_cuda_cache()"
   ]
  },
  {
   "cell_type": "code",
   "execution_count": 23,
   "id": "a85bdeba",
   "metadata": {},
   "outputs": [],
   "source": [
    "tl.set_backend('pytorch')"
   ]
  },
  {
   "cell_type": "code",
   "execution_count": 24,
   "id": "b494c00f",
   "metadata": {},
   "outputs": [],
   "source": [
    "model = tl.decomposition.CP_NN_HALS(\n",
    "    rank=10,\n",
    "    n_iter_max=100,\n",
    "    init='random',\n",
    "    svd='truncated_svd',\n",
    "    tol=1e-07,\n",
    "    sparsity_coefficients=None,\n",
    "    fixed_modes=None,\n",
    "    nn_modes='all',\n",
    "    exact=False,\n",
    "    verbose=True,\n",
    "#     normalize_factors=False,\n",
    "#     cvg_criterion='abs_rec_error',\n",
    "#     random_state=None,\n",
    ")"
   ]
  },
  {
   "cell_type": "code",
   "execution_count": 25,
   "id": "61fbe03a",
   "metadata": {},
   "outputs": [
    {
     "name": "stderr",
     "output_type": "stream",
     "text": [
      "/media/rich/OS/Users/Richard/Linux_stuff_on_OS/conda_envs/envs/roicat/lib/python3.11/site-packages/tensorly/backend/pytorch_backend.py:39: UserWarning: To copy construct from a tensor, it is recommended to use sourceTensor.clone().detach() or sourceTensor.clone().detach().requires_grad_(True), rather than torch.tensor(sourceTensor).\n",
      "  return torch.tensor(\n"
     ]
    },
    {
     "name": "stdout",
     "output_type": "stream",
     "text": [
      "reconstruction error=0.32663604617118835\n",
      "iteration 1, reconstruction error: 0.5896908640861511, decrease = -0.26305481791496277\n",
      "iteration 2, reconstruction error: 0.6161264181137085, decrease = -0.026435554027557373\n",
      "iteration 3, reconstruction error: 0.6261373162269592, decrease = -0.010010898113250732\n",
      "iteration 4, reconstruction error: 0.6309921741485596, decrease = -0.004854857921600342\n",
      "iteration 5, reconstruction error: 0.6339074969291687, decrease = -0.002915322780609131\n",
      "iteration 6, reconstruction error: 0.6359459757804871, decrease = -0.0020384788513183594\n",
      "iteration 7, reconstruction error: 0.6377460360527039, decrease = -0.0018000602722167969\n",
      "iteration 8, reconstruction error: 0.6394460201263428, decrease = -0.001699984073638916\n",
      "iteration 9, reconstruction error: 0.6408548355102539, decrease = -0.0014088153839111328\n",
      "iteration 10, reconstruction error: 0.6418330669403076, decrease = -0.000978231430053711\n",
      "iteration 11, reconstruction error: 0.6424534320831299, decrease = -0.0006203651428222656\n",
      "iteration 12, reconstruction error: 0.6428468227386475, decrease = -0.0003933906555175781\n",
      "iteration 13, reconstruction error: 0.6431111693382263, decrease = -0.0002643465995788574\n",
      "iteration 14, reconstruction error: 0.6433044672012329, decrease = -0.0001932978630065918\n",
      "iteration 15, reconstruction error: 0.6434597969055176, decrease = -0.00015532970428466797\n",
      "iteration 16, reconstruction error: 0.6435940861701965, decrease = -0.00013428926467895508\n",
      "iteration 17, reconstruction error: 0.6437149047851562, decrease = -0.0001208186149597168\n",
      "iteration 18, reconstruction error: 0.6438254714012146, decrease = -0.00011056661605834961\n",
      "iteration 19, reconstruction error: 0.6439288854598999, decrease = -0.00010341405868530273\n",
      "iteration 20, reconstruction error: 0.6440246105194092, decrease = -9.572505950927734e-05\n",
      "iteration 21, reconstruction error: 0.6441138982772827, decrease = -8.928775787353516e-05\n",
      "iteration 22, reconstruction error: 0.6441976428031921, decrease = -8.374452590942383e-05\n",
      "iteration 23, reconstruction error: 0.6442745923995972, decrease = -7.69495964050293e-05\n",
      "iteration 24, reconstruction error: 0.6443461179733276, decrease = -7.152557373046875e-05\n",
      "iteration 25, reconstruction error: 0.6444108486175537, decrease = -6.473064422607422e-05\n",
      "iteration 26, reconstruction error: 0.6444705128669739, decrease = -5.9664249420166016e-05\n",
      "iteration 27, reconstruction error: 0.6445243954658508, decrease = -5.3882598876953125e-05\n",
      "iteration 28, reconstruction error: 0.6445744037628174, decrease = -5.0008296966552734e-05\n",
      "iteration 29, reconstruction error: 0.6446205377578735, decrease = -4.6133995056152344e-05\n",
      "iteration 30, reconstruction error: 0.6446634531021118, decrease = -4.291534423828125e-05\n",
      "iteration 31, reconstruction error: 0.6447038650512695, decrease = -4.0411949157714844e-05\n",
      "iteration 32, reconstruction error: 0.6447420716285706, decrease = -3.820657730102539e-05\n",
      "iteration 33, reconstruction error: 0.6447782516479492, decrease = -3.618001937866211e-05\n",
      "iteration 34, reconstruction error: 0.6448131799697876, decrease = -3.4928321838378906e-05\n",
      "iteration 35, reconstruction error: 0.6448465585708618, decrease = -3.337860107421875e-05\n",
      "iteration 36, reconstruction error: 0.644878625869751, decrease = -3.2067298889160156e-05\n",
      "iteration 37, reconstruction error: 0.6449090838432312, decrease = -3.045797348022461e-05\n",
      "iteration 38, reconstruction error: 0.6449372172355652, decrease = -2.8133392333984375e-05\n",
      "iteration 39, reconstruction error: 0.6449644565582275, decrease = -2.7239322662353516e-05\n",
      "iteration 40, reconstruction error: 0.6449892520904541, decrease = -2.47955322265625e-05\n",
      "iteration 41, reconstruction error: 0.645013153553009, decrease = -2.390146255493164e-05\n",
      "iteration 42, reconstruction error: 0.6450352668762207, decrease = -2.2113323211669922e-05\n",
      "iteration 43, reconstruction error: 0.6450554728507996, decrease = -2.0205974578857422e-05\n",
      "iteration 44, reconstruction error: 0.6450740098953247, decrease = -1.8537044525146484e-05\n",
      "iteration 45, reconstruction error: 0.6450918912887573, decrease = -1.7881393432617188e-05\n",
      "iteration 46, reconstruction error: 0.6451082825660706, decrease = -1.6391277313232422e-05\n",
      "iteration 47, reconstruction error: 0.6451232433319092, decrease = -1.4960765838623047e-05\n",
      "iteration 48, reconstruction error: 0.6451365351676941, decrease = -1.329183578491211e-05\n",
      "iteration 49, reconstruction error: 0.6451488137245178, decrease = -1.2278556823730469e-05\n",
      "iteration 50, reconstruction error: 0.645159900188446, decrease = -1.1086463928222656e-05\n",
      "iteration 51, reconstruction error: 0.645170271396637, decrease = -1.0371208190917969e-05\n",
      "iteration 52, reconstruction error: 0.6451787948608398, decrease = -8.52346420288086e-06\n",
      "iteration 53, reconstruction error: 0.6451855897903442, decrease = -6.794929504394531e-06\n",
      "iteration 54, reconstruction error: 0.6451923847198486, decrease = -6.794929504394531e-06\n",
      "iteration 55, reconstruction error: 0.6451972723007202, decrease = -4.887580871582031e-06\n",
      "iteration 56, reconstruction error: 0.645202100276947, decrease = -4.827976226806641e-06\n",
      "iteration 57, reconstruction error: 0.6452054977416992, decrease = -3.3974647521972656e-06\n",
      "iteration 58, reconstruction error: 0.6452090740203857, decrease = -3.5762786865234375e-06\n",
      "iteration 59, reconstruction error: 0.6452118158340454, decrease = -2.7418136596679688e-06\n",
      "iteration 60, reconstruction error: 0.6452142596244812, decrease = -2.4437904357910156e-06\n",
      "iteration 61, reconstruction error: 0.6452165246009827, decrease = -2.2649765014648438e-06\n",
      "iteration 62, reconstruction error: 0.6452180743217468, decrease = -1.5497207641601562e-06\n",
      "iteration 63, reconstruction error: 0.645219624042511, decrease = -1.5497207641601562e-06\n",
      "iteration 64, reconstruction error: 0.6452207565307617, decrease = -1.1324882507324219e-06\n",
      "iteration 65, reconstruction error: 0.6452218890190125, decrease = -1.1324882507324219e-06\n",
      "iteration 66, reconstruction error: 0.6452233195304871, decrease = -1.430511474609375e-06\n",
      "iteration 67, reconstruction error: 0.6452236771583557, decrease = -3.5762786865234375e-07\n",
      "iteration 68, reconstruction error: 0.6452245712280273, decrease = -8.940696716308594e-07\n",
      "iteration 69, reconstruction error: 0.6452252268791199, decrease = -6.556510925292969e-07\n",
      "iteration 70, reconstruction error: 0.6452255845069885, decrease = -3.5762786865234375e-07\n",
      "iteration 71, reconstruction error: 0.6452257633209229, decrease = -1.7881393432617188e-07\n",
      "iteration 72, reconstruction error: 0.6452263593673706, decrease = -5.960464477539062e-07\n",
      "iteration 73, reconstruction error: 0.6452266573905945, decrease = -2.980232238769531e-07\n",
      "iteration 74, reconstruction error: 0.6452271342277527, decrease = -4.76837158203125e-07\n",
      "iteration 75, reconstruction error: 0.645227313041687, decrease = -1.7881393432617188e-07\n",
      "iteration 76, reconstruction error: 0.6452273726463318, decrease = -5.960464477539063e-08\n",
      "PARAFAC converged after 76 iterations\n"
     ]
    },
    {
     "data": {
      "text/plain": [
       "Rank-10 Non-Negative CP decomposition."
      ]
     },
     "execution_count": 25,
     "metadata": {},
     "output_type": "execute_result"
    }
   ],
   "source": [
    "model.fit(spectrograms_cat)"
   ]
  },
  {
   "cell_type": "code",
   "execution_count": null,
   "id": "22424847",
   "metadata": {},
   "outputs": [],
   "source": []
  },
  {
   "cell_type": "code",
   "execution_count": 26,
   "id": "69b9c818",
   "metadata": {},
   "outputs": [],
   "source": [
    "factors = model.decomposition_.factors"
   ]
  },
  {
   "cell_type": "code",
   "execution_count": 27,
   "id": "e4fba3eb",
   "metadata": {},
   "outputs": [
    {
     "data": {
      "text/plain": [
       "[<matplotlib.lines.Line2D at 0x7f4e4ae83a50>,\n",
       " <matplotlib.lines.Line2D at 0x7f4e8b4da390>,\n",
       " <matplotlib.lines.Line2D at 0x7f4e49e47e10>,\n",
       " <matplotlib.lines.Line2D at 0x7f4e49d49ed0>,\n",
       " <matplotlib.lines.Line2D at 0x7f4e49d4a6d0>,\n",
       " <matplotlib.lines.Line2D at 0x7f4e49d4b650>,\n",
       " <matplotlib.lines.Line2D at 0x7f4e49e54e90>,\n",
       " <matplotlib.lines.Line2D at 0x7f4e49e56590>,\n",
       " <matplotlib.lines.Line2D at 0x7f4e49d4aa90>,\n",
       " <matplotlib.lines.Line2D at 0x7f4e49e55ad0>]"
      ]
     },
     "execution_count": 27,
     "metadata": {},
     "output_type": "execute_result"
    },
    {
     "data": {
      "image/png": "[encoded data removed]",
      "text/plain": [
       "<Figure size 640x480 with 1 Axes>"
      ]
     },
     "metadata": {},
     "output_type": "display_data"
    }
   ],
   "source": [
    "plt.figure()\n",
    "plt.plot(factors[2].cpu())"
   ]
  },
  {
   "cell_type": "code",
   "execution_count": 28,
   "id": "ab510c88",
   "metadata": {},
   "outputs": [
    {
     "data": {
      "text/plain": [
       "[<matplotlib.lines.Line2D at 0x7f4e482f4890>,\n",
       " <matplotlib.lines.Line2D at 0x7f4e482ee0d0>,\n",
       " <matplotlib.lines.Line2D at 0x7f4e48315cd0>,\n",
       " <matplotlib.lines.Line2D at 0x7f4e48316110>,\n",
       " <matplotlib.lines.Line2D at 0x7f4e48316690>,\n",
       " <matplotlib.lines.Line2D at 0x7f4e48316a10>,\n",
       " <matplotlib.lines.Line2D at 0x7f4e48316f50>,\n",
       " <matplotlib.lines.Line2D at 0x7f4e483173d0>,\n",
       " <matplotlib.lines.Line2D at 0x7f4e48316590>,\n",
       " <matplotlib.lines.Line2D at 0x7f4e48316a90>]"
      ]
     },
     "execution_count": 28,
     "metadata": {},
     "output_type": "execute_result"
    },
    {
     "data": {
      "image/png": "[encoded data removed]",
      "text/plain": [
       "<Figure size 640x480 with 1 Axes>"
      ]
     },
     "metadata": {},
     "output_type": "display_data"
    }
   ],
   "source": [
    "plt.figure()\n",
    "plt.plot(factors[1].cpu())"
   ]
  },
  {
   "cell_type": "code",
   "execution_count": null,
   "id": "7104512c",
   "metadata": {},
   "outputs": [],
   "source": []
  },
  {
   "cell_type": "markdown",
   "id": "187b8871",
   "metadata": {},
   "source": [
    "rearrange factors"
   ]
  },
  {
   "cell_type": "code",
   "execution_count": 35,
   "id": "61c8fe3c",
   "metadata": {},
   "outputs": [],
   "source": [
    "factors_named = {\n",
    "    'time': factors[0],\n",
    "    'frequency': factors[1],\n",
    "    '(points (xy))': factors[2],\n",
    "}"
   ]
  },
  {
   "cell_type": "markdown",
   "id": "38447fdd",
   "metadata": {},
   "source": [
    "Save factors"
   ]
  },
  {
   "cell_type": "code",
   "execution_count": 36,
   "id": "226ec04d",
   "metadata": {},
   "outputs": [],
   "source": [
    "bnpm.h5_handling.simple_save(\n",
    "    dict_to_save=factors_named,\n",
    "    path=r'/media/rich/bigSSD/analysis_data/face_rhythm/mouse_0322N/run_20230701/bigTCA.h5',\n",
    ")"
   ]
  },
  {
   "cell_type": "code",
   "execution_count": null,
   "id": "9a2713b8",
   "metadata": {},
   "outputs": [],
   "source": []
  },
  {
   "cell_type": "code",
   "execution_count": null,
   "id": "06f2a090",
   "metadata": {},
   "outputs": [],
   "source": []
  },
  {
   "cell_type": "markdown",
   "id": "7e336f74",
   "metadata": {},
   "source": [
    "refit temporal factor for each day"
   ]
  },
  {
   "cell_type": "code",
   "execution_count": 40,
   "id": "34485d10",
   "metadata": {},
   "outputs": [
    {
     "name": "stdout",
     "output_type": "stream",
     "text": [
      "devices available: [_CudaDeviceProperties(name='NVIDIA GeForce RTX 3090', major=8, minor=6, total_memory=24226MB, multi_processor_count=82)]\n",
      "Using device: 'cuda:0': _CudaDeviceProperties(name='NVIDIA GeForce RTX 3090', major=8, minor=6, total_memory=24226MB, multi_processor_count=82)\n"
     ]
    }
   ],
   "source": [
    "DEVICE_smallTCA = bnpm.torch_helpers.set_device(use_GPU=True)"
   ]
  },
  {
   "cell_type": "code",
   "execution_count": 75,
   "id": "8c929938",
   "metadata": {},
   "outputs": [],
   "source": [
    "init_bt = tl.cp_tensor.CPTensor((None, [torch.as_tensor(t, dtype=torch.float32, device='cpu') for t in factors[:]]))"
   ]
  },
  {
   "cell_type": "code",
   "execution_count": 74,
   "id": "58b47929",
   "metadata": {},
   "outputs": [],
   "source": [
    "import copy"
   ]
  },
  {
   "cell_type": "code",
   "execution_count": 86,
   "id": "b0315843",
   "metadata": {},
   "outputs": [],
   "source": [
    "    bnpm.torch_helpers.clear_cuda_cache()"
   ]
  },
  {
   "cell_type": "code",
   "execution_count": 113,
   "id": "351a3f22",
   "metadata": {},
   "outputs": [
    {
     "data": {
      "application/vnd.jupyter.widget-view+json": {
       "model_id": "d3915ce61a414c1aad101f4b710adcaf",
       "version_major": 2,
       "version_minor": 0
      },
      "text/plain": [
       "  0%|          | 0/32 [00:00<?, ?it/s]"
      ]
     },
     "metadata": {},
     "output_type": "display_data"
    },
    {
     "name": "stdout",
     "output_type": "stream",
     "text": [
      "reconstruction error=0.43965479731559753\n",
      "iteration 1, reconstruction error: 0.43965479731559753, decrease = 0.0\n",
      "PARAFAC converged after 1 iterations\n",
      "reconstruction error=0.4513958692550659\n",
      "iteration 1, reconstruction error: 0.451396107673645, decrease = -2.384185791015625e-07\n",
      "iteration 2, reconstruction error: 0.4513958692550659, decrease = 2.384185791015625e-07\n",
      "iteration 3, reconstruction error: 0.451396107673645, decrease = -2.384185791015625e-07\n",
      "iteration 4, reconstruction error: 0.4513958692550659, decrease = 2.384185791015625e-07\n",
      "iteration 5, reconstruction error: 0.451396107673645, decrease = -2.384185791015625e-07\n",
      "iteration 6, reconstruction error: 0.451396107673645, decrease = 0.0\n",
      "PARAFAC converged after 6 iterations\n",
      "reconstruction error=0.4457342326641083\n",
      "iteration 1, reconstruction error: 0.4457339346408844, decrease = 2.980232238769531e-07\n",
      "iteration 2, reconstruction error: 0.4457339346408844, decrease = 0.0\n",
      "PARAFAC converged after 2 iterations\n",
      "reconstruction error=0.45866596698760986\n",
      "iteration 1, reconstruction error: 0.458665668964386, decrease = 2.980232238769531e-07\n",
      "iteration 2, reconstruction error: 0.458665668964386, decrease = 0.0\n",
      "PARAFAC converged after 2 iterations\n",
      "reconstruction error=0.43835121393203735\n",
      "iteration 1, reconstruction error: 0.43835121393203735, decrease = 0.0\n",
      "PARAFAC converged after 1 iterations\n",
      "reconstruction error=0.4337213635444641\n",
      "iteration 1, reconstruction error: 0.43372151255607605, decrease = -1.4901161193847656e-07\n",
      "iteration 2, reconstruction error: 0.43372151255607605, decrease = 0.0\n",
      "PARAFAC converged after 2 iterations\n",
      "reconstruction error=0.4796205759048462\n",
      "iteration 1, reconstruction error: 0.47962045669555664, decrease = 1.1920928955078125e-07\n",
      "iteration 2, reconstruction error: 0.47962045669555664, decrease = 0.0\n",
      "PARAFAC converged after 2 iterations\n",
      "reconstruction error=0.46544402837753296\n",
      "iteration 1, reconstruction error: 0.46544402837753296, decrease = 0.0\n",
      "PARAFAC converged after 1 iterations\n",
      "reconstruction error=0.46033501625061035\n",
      "iteration 1, reconstruction error: 0.4603351950645447, decrease = -1.7881393432617188e-07\n",
      "iteration 2, reconstruction error: 0.4603351950645447, decrease = 0.0\n",
      "PARAFAC converged after 2 iterations\n",
      "reconstruction error=0.4587531089782715\n",
      "iteration 1, reconstruction error: 0.4587532579898834, decrease = -1.4901161193847656e-07\n",
      "iteration 2, reconstruction error: 0.4587532579898834, decrease = 0.0\n",
      "PARAFAC converged after 2 iterations\n",
      "reconstruction error=0.4590241312980652\n",
      "iteration 1, reconstruction error: 0.4590241312980652, decrease = 0.0\n",
      "PARAFAC converged after 1 iterations\n",
      "reconstruction error=0.4640459716320038\n",
      "iteration 1, reconstruction error: 0.4640456736087799, decrease = 2.980232238769531e-07\n",
      "iteration 2, reconstruction error: 0.4640456736087799, decrease = 0.0\n",
      "PARAFAC converged after 2 iterations\n",
      "reconstruction error=0.4635388255119324\n",
      "iteration 1, reconstruction error: 0.4635389745235443, decrease = -1.4901161193847656e-07\n",
      "iteration 2, reconstruction error: 0.4635389745235443, decrease = 0.0\n",
      "PARAFAC converged after 2 iterations\n",
      "reconstruction error=0.45527327060699463\n",
      "iteration 1, reconstruction error: 0.4552731215953827, decrease = 1.4901161193847656e-07\n",
      "iteration 2, reconstruction error: 0.4552731215953827, decrease = 0.0\n",
      "PARAFAC converged after 2 iterations\n",
      "reconstruction error=0.4575219750404358\n",
      "iteration 1, reconstruction error: 0.45752227306365967, decrease = -2.980232238769531e-07\n",
      "iteration 2, reconstruction error: 0.45752227306365967, decrease = 0.0\n",
      "PARAFAC converged after 2 iterations\n",
      "reconstruction error=0.4587729871273041\n",
      "iteration 1, reconstruction error: 0.458773136138916, decrease = -1.4901161193847656e-07\n",
      "iteration 2, reconstruction error: 0.458773136138916, decrease = 0.0\n",
      "PARAFAC converged after 2 iterations\n",
      "reconstruction error=0.4399266839027405\n",
      "iteration 1, reconstruction error: 0.4399266839027405, decrease = 0.0\n",
      "PARAFAC converged after 1 iterations\n",
      "reconstruction error=0.4624190330505371\n",
      "iteration 1, reconstruction error: 0.46241921186447144, decrease = -1.7881393432617188e-07\n",
      "iteration 2, reconstruction error: 0.46241921186447144, decrease = 0.0\n",
      "PARAFAC converged after 2 iterations\n",
      "reconstruction error=0.447404682636261\n",
      "iteration 1, reconstruction error: 0.44740450382232666, decrease = 1.7881393432617188e-07\n",
      "iteration 2, reconstruction error: 0.44740450382232666, decrease = 0.0\n",
      "PARAFAC converged after 2 iterations\n",
      "reconstruction error=0.43549400568008423\n",
      "iteration 1, reconstruction error: 0.4354938566684723, decrease = 1.4901161193847656e-07\n",
      "iteration 2, reconstruction error: 0.4354938566684723, decrease = 0.0\n",
      "PARAFAC converged after 2 iterations\n",
      "reconstruction error=0.4579080641269684\n",
      "iteration 1, reconstruction error: 0.4579080641269684, decrease = 0.0\n",
      "PARAFAC converged after 1 iterations\n",
      "reconstruction error=0.4489485025405884\n",
      "iteration 1, reconstruction error: 0.4489485025405884, decrease = 0.0\n",
      "PARAFAC converged after 1 iterations\n",
      "reconstruction error=0.46508708596229553\n",
      "iteration 1, reconstruction error: 0.46508708596229553, decrease = 0.0\n",
      "PARAFAC converged after 1 iterations\n",
      "reconstruction error=0.4455205500125885\n",
      "iteration 1, reconstruction error: 0.4455205500125885, decrease = 0.0\n",
      "PARAFAC converged after 1 iterations\n",
      "reconstruction error=0.4774802625179291\n",
      "iteration 1, reconstruction error: 0.4774802625179291, decrease = 0.0\n",
      "PARAFAC converged after 1 iterations\n",
      "reconstruction error=0.46196863055229187\n",
      "iteration 1, reconstruction error: 0.4619687795639038, decrease = -1.4901161193847656e-07\n",
      "iteration 2, reconstruction error: 0.4619685113430023, decrease = 2.682209014892578e-07\n",
      "iteration 3, reconstruction error: 0.4619685113430023, decrease = 0.0\n",
      "PARAFAC converged after 3 iterations\n",
      "reconstruction error=0.4740653336048126\n",
      "iteration 1, reconstruction error: 0.4740651547908783, decrease = 1.7881393432617188e-07\n",
      "iteration 2, reconstruction error: 0.4740651547908783, decrease = 0.0\n",
      "PARAFAC converged after 2 iterations\n",
      "reconstruction error=0.47288447618484497\n",
      "iteration 1, reconstruction error: 0.4728846549987793, decrease = -1.7881393432617188e-07\n",
      "iteration 2, reconstruction error: 0.4728846549987793, decrease = 0.0\n",
      "PARAFAC converged after 2 iterations\n",
      "reconstruction error=0.4681185781955719\n",
      "iteration 1, reconstruction error: 0.46811842918395996, decrease = 1.4901161193847656e-07\n",
      "iteration 2, reconstruction error: 0.46811842918395996, decrease = 0.0\n",
      "PARAFAC converged after 2 iterations\n",
      "reconstruction error=0.4844961166381836\n",
      "iteration 1, reconstruction error: 0.48449599742889404, decrease = 1.1920928955078125e-07\n",
      "iteration 2, reconstruction error: 0.48449599742889404, decrease = 0.0\n",
      "PARAFAC converged after 2 iterations\n",
      "reconstruction error=0.46092134714126587\n",
      "iteration 1, reconstruction error: 0.46092167496681213, decrease = -3.2782554626464844e-07\n",
      "iteration 2, reconstruction error: 0.46092167496681213, decrease = 0.0\n",
      "PARAFAC converged after 2 iterations\n",
      "reconstruction error=0.4738785922527313\n",
      "iteration 1, reconstruction error: 0.4738787114620209, decrease = -1.1920928955078125e-07\n",
      "iteration 2, reconstruction error: 0.4738787114620209, decrease = 0.0\n",
      "PARAFAC converged after 2 iterations\n"
     ]
    }
   ],
   "source": [
    "factors_refit = {}\n",
    "for date, data in tqdm(data_tca.items()):\n",
    "    data_rs = torch.as_tensor(data['spectrograms']['0'][:], dtype=torch.float32, device='cpu')\n",
    "    \n",
    "    data_rs = data_rs.permute(-1, 2, 0, 1)\n",
    "    data_rs = data_rs.reshape(data_rs.shape[0], data_rs.shape[1], -1).permute(1,2,0)\n",
    "    data_rs = data_rs.to(DEVICE_smallTCA)\n",
    "    \n",
    "    init_bt_i = copy.deepcopy(init_bt).factors\n",
    "    init_bt_i[0] = init_bt_i[0][torch.randint(low=0, high=init_bt_i[0].shape[0], size=(data_rs.shape[2],)), :]\n",
    "    init_bt_i = [torch.as_tensor(t, dtype=torch.float32, device=DEVICE_smallTCA) for t in init_bt_i]\n",
    "    init_bt_i = [init_bt_i[ii] for ii in [1,2,0]]\n",
    "\n",
    "    model = tl.decomposition.CP_NN_HALS(\n",
    "        rank=10,\n",
    "        n_iter_max=100,\n",
    "#         init='random',\n",
    "        init=tl.cp_tensor.CPTensor((None, init_bt_i)),\n",
    "        svd='truncated_svd',\n",
    "        tol=1e-07,\n",
    "        sparsity_coefficients=None,\n",
    "        fixed_modes=[0,1],\n",
    "        nn_modes='all',\n",
    "        exact=False,\n",
    "        verbose=True,\n",
    "    #     normalize_factors=False,\n",
    "    #     cvg_criterion='abs_rec_error',\n",
    "    #     random_state=None,\n",
    "    )\n",
    "    \n",
    "    model.fit(tensor=data_rs)\n",
    "    \n",
    "    factors_refit[date] = copy.deepcopy(model.decomposition_.factors)\n",
    "    \n",
    "    del data_rs\n",
    "    bnpm.torch_helpers.clear_cuda_cache()"
   ]
  },
  {
   "cell_type": "code",
   "execution_count": null,
   "id": "7de52037",
   "metadata": {},
   "outputs": [],
   "source": [
    "dict_keys(['(xy points)', 'frequency', 'time'])"
   ]
  },
  {
   "cell_type": "code",
   "execution_count": 133,
   "id": "5841fb99",
   "metadata": {},
   "outputs": [],
   "source": [
    "factors_refit_named = {date: {\n",
    "    '(xy points)': f[1].cpu().numpy(),\n",
    "    'frequency': f[0].cpu().numpy(),\n",
    "    'time': f[2].cpu().numpy(),\n",
    "} for date, f in factors_refit.items()}"
   ]
  },
  {
   "cell_type": "code",
   "execution_count": 135,
   "id": "7a224628",
   "metadata": {},
   "outputs": [],
   "source": [
    "factors_refit_separated = {date: {'factors_rearranged': {'0': f}} for date, f in factors_refit_named.items()}"
   ]
  },
  {
   "cell_type": "code",
   "execution_count": 127,
   "id": "db8248ba",
   "metadata": {},
   "outputs": [],
   "source": [
    "bnpm.h5_handling.simple_save(\n",
    "    dict_to_save=factors_refit_named,\n",
    "    path=r'/media/rich/bigSSD/analysis_data/face_rhythm/mouse_0322N/run_20230701/factors_refit_bigTCA.h5',\n",
    "    write_mode='w'\n",
    ")"
   ]
  },
  {
   "cell_type": "code",
   "execution_count": 138,
   "id": "dd60278f",
   "metadata": {},
   "outputs": [
    {
     "data": {
      "text/plain": [
       "[None,\n",
       " None,\n",
       " None,\n",
       " None,\n",
       " None,\n",
       " None,\n",
       " None,\n",
       " None,\n",
       " None,\n",
       " None,\n",
       " None,\n",
       " None,\n",
       " None,\n",
       " None,\n",
       " None,\n",
       " None,\n",
       " None,\n",
       " None,\n",
       " None,\n",
       " None,\n",
       " None,\n",
       " None,\n",
       " None,\n",
       " None,\n",
       " None,\n",
       " None,\n",
       " None,\n",
       " None,\n",
       " None,\n",
       " None,\n",
       " None,\n",
       " None]"
      ]
     },
     "execution_count": 138,
     "metadata": {},
     "output_type": "execute_result"
    }
   ],
   "source": [
    "[bnpm.h5_handling.simple_save(\n",
    "    dict_to_save=f,\n",
    "    path=f'/media/rich/bigSSD/analysis_data/face_rhythm/mouse_0322N/run_20230701/factors_refit/{date}/TCA.h5',\n",
    "    write_mode='w',\n",
    ") for date, f in factors_refit_separated.items()]"
   ]
  },
  {
   "cell_type": "code",
   "execution_count": null,
   "id": "8f9eb3f8",
   "metadata": {},
   "outputs": [],
   "source": []
  },
  {
   "cell_type": "code",
   "execution_count": null,
   "id": "f28b5900",
   "metadata": {},
   "outputs": [],
   "source": []
  },
  {
   "cell_type": "code",
   "execution_count": null,
   "id": "c3347d49",
   "metadata": {},
   "outputs": [],
   "source": []
  },
  {
   "cell_type": "code",
   "execution_count": null,
   "id": "d8ca6f81",
   "metadata": {},
   "outputs": [],
   "source": []
  },
  {
   "cell_type": "code",
   "execution_count": null,
   "id": "528fe6c3",
   "metadata": {},
   "outputs": [],
   "source": []
  },
  {
   "cell_type": "code",
   "execution_count": null,
   "id": "c1f4f7d9",
   "metadata": {},
   "outputs": [],
   "source": []
  },
  {
   "cell_type": "code",
   "execution_count": null,
   "id": "802f0d31",
   "metadata": {},
   "outputs": [],
   "source": []
  },
  {
   "cell_type": "code",
   "execution_count": null,
   "id": "46f5313d",
   "metadata": {},
   "outputs": [],
   "source": []
  },
  {
   "cell_type": "code",
   "execution_count": null,
   "id": "6897f42f",
   "metadata": {},
   "outputs": [],
   "source": []
  },
  {
   "cell_type": "code",
   "execution_count": null,
   "id": "ca948e63",
   "metadata": {},
   "outputs": [],
   "source": []
  },
  {
   "cell_type": "code",
   "execution_count": null,
   "id": "7ce81285",
   "metadata": {},
   "outputs": [],
   "source": []
  },
  {
   "cell_type": "code",
   "execution_count": null,
   "id": "8e2ef6d2",
   "metadata": {},
   "outputs": [],
   "source": []
  },
  {
   "cell_type": "code",
   "execution_count": null,
   "id": "7bbb532b",
   "metadata": {},
   "outputs": [],
   "source": []
  },
  {
   "cell_type": "code",
   "execution_count": null,
   "id": "e2f668d3",
   "metadata": {},
   "outputs": [],
   "source": []
  },
  {
   "cell_type": "code",
   "execution_count": null,
   "id": "c5d95157",
   "metadata": {},
   "outputs": [],
   "source": []
  },
  {
   "cell_type": "code",
   "execution_count": null,
   "id": "63534b25",
   "metadata": {},
   "outputs": [],
   "source": []
  },
  {
   "cell_type": "code",
   "execution_count": null,
   "id": "cdb11eda",
   "metadata": {},
   "outputs": [],
   "source": []
  },
  {
   "cell_type": "code",
   "execution_count": null,
   "id": "791692ea",
   "metadata": {},
   "outputs": [],
   "source": []
  },
  {
   "cell_type": "code",
   "execution_count": null,
   "id": "faf30fdf",
   "metadata": {},
   "outputs": [],
   "source": []
  },
  {
   "cell_type": "code",
   "execution_count": null,
   "id": "51765ee3",
   "metadata": {},
   "outputs": [],
   "source": []
  },
  {
   "cell_type": "code",
   "execution_count": null,
   "id": "d7e962a5",
   "metadata": {},
   "outputs": [],
   "source": []
  },
  {
   "cell_type": "code",
   "execution_count": null,
   "id": "e18d7b59",
   "metadata": {},
   "outputs": [],
   "source": []
  },
  {
   "cell_type": "code",
   "execution_count": null,
   "id": "7da3e3e3",
   "metadata": {},
   "outputs": [],
   "source": []
  }
 ],
 "metadata": {
  "kernelspec": {
   "display_name": "Python 3 (ipykernel)",
   "language": "python",
   "name": "python3"
  },
  "language_info": {
   "codemirror_mode": {
    "name": "ipython",
    "version": 3
   },
   "file_extension": ".py",
   "mimetype": "text/x-python",
   "name": "python",
   "nbconvert_exporter": "python",
   "pygments_lexer": "ipython3",
   "version": "3.11.3"
  }
 },
 "nbformat": 4,
 "nbformat_minor": 5
}
