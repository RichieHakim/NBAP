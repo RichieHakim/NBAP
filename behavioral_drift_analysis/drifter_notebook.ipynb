{
 "cells": [
  {
   "cell_type": "markdown",
   "id": "4aad5ddb",
   "metadata": {},
   "source": [
    "# Behavior - Factor - Neural Space Drift Analysis with Netrep"
   ]
  },
  {
   "cell_type": "markdown",
   "id": "ab439ad2",
   "metadata": {},
   "source": [
    "## Why are we doing this?\n",
    "\n",
    "In this notebook, we compare the shape of low-dimensional neural spaces (a.k.a. \"factor\" spaces) to measure drift over animal training. Specifically, we take behavioral space -> factor space mapping from each session, find optimal transformation to match those, and measure the difference. \n",
    "\n",
    "Why don't we simply dive into neural space? The answer is simple - we gain / lose cells over sessions. This creates missing datapoints in the union of neural space, which is a bit problematic to take into account. We can constraint our analysis to \"all-session\" tracked cells, but in this case we lose pretty good amount of neurons. Also, only using \"all-session\" tracked cells could be another bias that we are not sure where it would take us (although it might be fine...). \n",
    "\n",
    "This notebook tries to surrogate this problem via using factor space as a \"safer and sufficient\" choice."
   ]
  },
  {
   "cell_type": "markdown",
   "id": "fd512fba",
   "metadata": {},
   "source": [
    "Prerequisites:\n",
    "1. Per each session / day, we have a set of data: \\\n",
    "    a. Extracted behavioral timeseries data (from FaceRhythm), $T * F_{Behav}$ shape matrix: $T$ is timepoint, $F_{Behav}$ is num of behavioral factors. \\\n",
    "    b. Extracted calcium trace data, $T * N$ shape matrix: $N$ is num of neurons \\\n",
    "    c. Low-dimensional factor trace data, $T * F$ shape matrix: $F$ is num of low-dimensional factors extracted from neural space, $N \\ge F$. \n",
    "\n",
    "\n",
    "2. For each set, we can construct a mapping from behavior space to factor space: \\\n",
    "    a. Mapping matrix $\\theta_{BF}$: $B \\rightarrow F$, a simple $F_{Behav} * F$ shape matrix. \\\n",
    "    \n",
    "3. Our analysis method in factor space should be permutation-invariant, which is the reason we implement NETREP here."
   ]
  },
  {
   "cell_type": "code",
   "execution_count": 2,
   "id": "326edeea",
   "metadata": {},
   "outputs": [
    {
     "data": {
      "text/html": [
       "<style>.container {width:95% !important; }</style>"
      ],
      "text/plain": [
       "<IPython.core.display.HTML object>"
      ]
     },
     "metadata": {},
     "output_type": "display_data"
    },
    {
     "name": "stdout",
     "output_type": "stream",
     "text": [
      "Conda Environment: roicat\n",
      "python version: 3.11.3\n"
     ]
    }
   ],
   "source": [
    "# widen jupyter notebook window\n",
    "from IPython.display import display, HTML\n",
    "display(HTML(\"<style>.container {width:95% !important; }</style>\"))\n",
    "\n",
    "# check environment\n",
    "import os\n",
    "print(f'Conda Environment: ' + os.environ['CONDA_DEFAULT_ENV'])\n",
    "\n",
    "from platform import python_version\n",
    "print(f'python version: {python_version()}')"
   ]
  },
  {
   "cell_type": "code",
   "execution_count": 3,
   "id": "c66830b9",
   "metadata": {},
   "outputs": [],
   "source": [
    "from pathlib import Path\n",
    "\n",
    "import numpy as np\n",
    "import copy\n",
    "import multiprocessing as mp\n",
    "\n",
    "import natsort\n",
    "import re\n",
    "import itertools\n",
    "import datetime\n",
    "\n",
    "import matplotlib.pyplot as plt\n",
    "from tqdm import tqdm\n",
    "\n",
    "from netrep.metrics import LinearMetric"
   ]
  },
  {
   "cell_type": "markdown",
   "id": "9424517d",
   "metadata": {},
   "source": [
    "# Functions"
   ]
  },
  {
   "cell_type": "code",
   "execution_count": 92,
   "id": "faa6510d",
   "metadata": {},
   "outputs": [],
   "source": [
    "## Basic functions\n",
    "def center_mean(X, axis=0, verbose=True):\n",
    "    \"\"\"\n",
    "    Given T * N matrix, where T is the number of sample and N is the number of neurons, mean-center along T axis.\n",
    "    Flexibly modifiable by changing axis parameter.\n",
    "    \n",
    "    args:\n",
    "        X (np.ndarray): num.sample * num.feature shape matrix.\n",
    "        axis (int): mean-centering happens along this axis.\n",
    "        \n",
    "    Return:\n",
    "        mean-centered matrix\n",
    "    \"\"\"\n",
    "    \n",
    "    X_mean = np.nanmean(X, axis=axis, keepdims=True)\n",
    "    \n",
    "    if verbose:\n",
    "        print(f\"Given matrix shape: {X.shape}\")\n",
    "        print(f\"Subtract matrix shape: {X_mean.shape}\")\n",
    "    \n",
    "    return X - X_mean\n",
    "\n",
    "def compute_col_angle(X, Y, mean_center = False, verbose = False):\n",
    "    \"\"\"\n",
    "    X, Y shapes T * N matrices, where T is the number of sample and N is the number of neurons.\n",
    "    \n",
    "    args:\n",
    "        X, Y (np.ndarray): num.sample * num.feature shape matrix.\n",
    "        mean_center (bool): If True, apply mean-centering transformation\n",
    "    \n",
    "    Return:\n",
    "        angles (np.ndarray): angular difference between features. [0, np.pi]\n",
    "    \"\"\"\n",
    "    if mean_center:\n",
    "        X = center_mean(X, verbose=verbose)\n",
    "        Y = center_mean(Y, verbose=verbose)\n",
    "\n",
    "    cossim = np.sum((X * Y), axis=0) / (np.linalg.norm(X, axis=0, keepdims=True) * np.linalg.norm(Y, axis=0, keepdims=True))\n",
    "    \n",
    "    ## Change to angle (metric space) and take the mean of angles\n",
    "    cossim = np.clip(cossim, -1, 1)  # This line is necessary to prevent error\n",
    "    angles = np.arccos(cossim)\n",
    "\n",
    "    return angles\n",
    "\n",
    "def weight_transform(\n",
    "    X: np.ndarray,\n",
    "    weights: np.ndarray = None,\n",
    "    weight_method: str = \"uniform\",\n",
    ") -> np.ndarray:\n",
    "    \"\"\"\n",
    "    \n",
    "    \"\"\"\n",
    "    if weight_method == \"uniform\":\n",
    "        return X\n",
    "    elif weight_method == \"EV\":\n",
    "        feature_variance = np.var(X, axis=0) / np.sum(np.var(X, axis=0))\n",
    "        return X * feature_variance\n",
    "    elif weight_method == \"custom\":\n",
    "        return X * weights\n",
    "    else:\n",
    "        raise ValueError(\"weight_method should be 'uniform', 'EV', or 'custom'.\")"
   ]
  },
  {
   "cell_type": "code",
   "execution_count": 93,
   "id": "4f6fb3e9",
   "metadata": {},
   "outputs": [],
   "source": [
    "## drifter class\n",
    "## Should tweak netrep code a bit to work...actually, it's just 4 lines of tweak lol\n",
    "## https://github.com/gyu-heo/netrep/commit/d6b54c70094eea35bd3e84e29625e84d205e016e\n",
    "\n",
    "class drifter:\n",
    "    def __init__(\n",
    "        self,\n",
    "        netrep_alpha=1.0,\n",
    "    ):\n",
    "        \"\"\"\n",
    "        Pipeline class to analyze representational drift.\n",
    "\n",
    "        All that is neuron does not fire,\n",
    "        Not all those who DRIFT are lost.\n",
    "\n",
    "        Args:\n",
    "            netrep_alpha (float): netrep regularization parameter. 1 == procrustes, 0 == CCA.\n",
    "        \"\"\"\n",
    "        self.netrep_alpha = netrep_alpha\n",
    "\n",
    "    def fit(\n",
    "        self,\n",
    "        X: np.ndarray,\n",
    "        Y: np.ndarray,\n",
    "        weight_method: str = \"uniform\",\n",
    "        weights: np.ndarray = None,\n",
    "    ):\n",
    "        \"\"\"\n",
    "        Find the optimal rotation matrix to align X and Y. Then, return three metrics to quantify the amount of drift.\n",
    "\n",
    "        Args:\n",
    "            X (np.ndarray):\n",
    "                First reference matrix. (num.of.samples, num.of.features)\n",
    "            Y (np.ndarray):\n",
    "                Second reference matrix. (num.of.samples, num.of.features)\n",
    "            weight_method (str, optional):\n",
    "                Weights angular drift. Defaults to \"uniform\".\n",
    "                \"uniform\": Uniformly weight angular error.\n",
    "                \"EV\": Weight angular error by explained variances.\n",
    "                \"custom\": Use weights argument to scale angular error.\n",
    "            weights (np.ndarray, optional):\n",
    "                Only matters if weight_method is \"custom\".\n",
    "                Use weights to scale angular error. Defaults to None.\n",
    "\n",
    "        Returns:\n",
    "            self.aligned_dist (float):\n",
    "                Flattened angular distance between optimally aligned X and Y\n",
    "                X_aligned is optimally aligned with Y_aligned.\n",
    "            self.Frobenius_error (float):\n",
    "                Sum of Frobenius norm between pre- and post-rotation of X and Y (X - X_post, Y - Y_post).\n",
    "                Measures how big the optimal rotation is.\n",
    "                Please note that the X_post and Y_post are NOT optimally aligned each other.\n",
    "                X_post optimally aligns with Y, and vice versa.\n",
    "            self.angular_error (float):\n",
    "                Mean of angular distance between pre- and post-rotation of X and Y.\n",
    "                If weighted, use weights to scale angular error.\n",
    "        \"\"\"\n",
    "\n",
    "        metric = LinearMetric(alpha=self.netrep_alpha)\n",
    "        metric.fit(X, Y)\n",
    "\n",
    "        ## Load pre-rotation of X and Y (partially whitened)\n",
    "        ## If alpha = 1.0, then X_pre = X and Y_pre = Y\n",
    "        X_pre = (X - metric.mx_) @ metric.Zx_\n",
    "        Y_pre = (Y - metric.my_) @ metric.Zy_\n",
    "\n",
    "        ## Orthogonal Procrustes Problem\n",
    "        opt_rotation = metric.Rx_ @ metric.Ry_.T\n",
    "\n",
    "        ## Post-rotation X and Y (partially whitened)\n",
    "        X_post = X_pre @ opt_rotation\n",
    "        Y_post = Y_pre @ opt_rotation.T\n",
    "\n",
    "        ## Angular distance between best-aligned X and Y\n",
    "        self.aligned_dist = metric.score(X, Y)\n",
    "\n",
    "        ## Here we use two different metrics to measure the amount of rotation\n",
    "        ## 1. Frobenius norm of the difference between the pre- and post-rotated matrices\n",
    "        X_L2_norm = np.linalg.norm(X_pre - X_post, ord=\"fro\")\n",
    "        Y_L2_norm = np.linalg.norm(Y_pre - Y_post, ord=\"fro\")\n",
    "        self.Frobenius_error = X_L2_norm + Y_L2_norm\n",
    "\n",
    "        ## 2. Column-wise angular distance between the pre- and post-rotated matrices\n",
    "        ## Here, columns are the features (e.g. neurons)\n",
    "        ## You can weight each features by some values (e.g. variance explained)\n",
    "        X_col_angles = compute_col_angle(\n",
    "            X_pre, X_post, mean_center=False, verbose=False\n",
    "        )\n",
    "        Y_col_angles = compute_col_angle(\n",
    "            Y_pre, Y_post, mean_center=False, verbose=False\n",
    "        )\n",
    "        weighted_X_col_angles = weight_transform(\n",
    "            X_col_angles, weights, weight_method\n",
    "        )\n",
    "        weighted_Y_col_angles = weight_transform(\n",
    "            Y_col_angles, weights, weight_method\n",
    "        )\n",
    "\n",
    "        self.angular_error = np.mean((weighted_X_col_angles + weighted_Y_col_angles) / 2)\n",
    "\n",
    "        ## Track things happening under the hood\n",
    "        self.metric = {\n",
    "            \"netrep_params\": metric,\n",
    "            \"X\": X,            ## original X\n",
    "            \"X_star\": (Y_post @ np.linalg.inv(metric.Zx_)) + metric.mx_, ## reconstructed X from Y\n",
    "            \"Y\": Y,            ## original Y\n",
    "            \"Y_star\": (X_post @ np.linalg.inv(metric.Zy_)) + metric.my_, ## reconstructed Y from X\n",
    "        }\n",
    "\n",
    "        return self\n",
    "\n",
    "    def _pairwise_fit_worker(\n",
    "        self,\n",
    "        ii,\n",
    "        jj,\n",
    "        X,\n",
    "        Y,\n",
    "        weight_method,\n",
    "        weights,\n",
    "    ):\n",
    "        self.fit(X, Y, weight_method, weights)\n",
    "        return (\n",
    "            ii,\n",
    "            jj,\n",
    "            self.aligned_dist,\n",
    "            self.Frobenius_error,\n",
    "            self.angular_error,\n",
    "            self.metric,\n",
    "        )\n",
    "\n",
    "    def _pairwise_fit_batcher(self, args):\n",
    "        return self._pairwise_fit_worker(*args)\n",
    "\n",
    "    def pairwise_fit(\n",
    "        self,\n",
    "        ref_matrices: list,\n",
    "        weight_method: str = \"uniform\",\n",
    "        weights: np.ndarray = None,\n",
    "        processes: int = None,\n",
    "    ):\n",
    "        \"\"\"_summary_\n",
    "\n",
    "        Args:\n",
    "            ref_matrices (list):\n",
    "                List of reference matrices. Each matrix is in a shape of (num.of.samples, num.of.features).\n",
    "            weight_method (str, optional):\n",
    "                Weights angular drift. Defaults to \"uniform\".\n",
    "                For the details, please refer to the fit function.\n",
    "            weights (np.ndarray, optional):\n",
    "                Only matters if weight_method is \"custom\". Defaults to None.\n",
    "                For the details, please refer to the fit function.\n",
    "            processes (int, optional):\n",
    "                Number of cpu cores to use. Defaults to None.\n",
    "                If None, use all available cores.\n",
    "        Returns:\n",
    "            dict: Pooled pairwise drift analysis results, in a shape of symmetric matrices.\n",
    "        \"\"\"\n",
    "        ## Using ref_matrices that contains representative matrices to compare, multiprocess & call _fit function for each pair of sessions\n",
    "        n_networks = len(ref_matrices)\n",
    "        n_pairs = n_networks * (n_networks - 1) // 2\n",
    "\n",
    "        ## Initialize empty arrays to store results\n",
    "        pairwise_dist, pairwise_Frobenius_error, pairwise_angular_error = np.zeros(\n",
    "            (3, n_networks, n_networks)\n",
    "        )\n",
    "        pairwise_metrics = [[None] * n_networks for ii in range(n_networks)]\n",
    "\n",
    "        ## Create args to use multiprocessing module to parallelize the computation\n",
    "        iijj = itertools.combinations(\n",
    "            range(n_networks), 2\n",
    "        )  # all possible pairs of sessions\n",
    "        args = (\n",
    "            (ii, jj, ref_matrices[ii], ref_matrices[jj], weight_method, weights)\n",
    "            for ii, jj in iijj\n",
    "        )\n",
    "\n",
    "        ## Multiprocessing\n",
    "        if processes is None:\n",
    "            processes = mp.cpu_count()\n",
    "\n",
    "        with mp.Pool(processes=processes) as pool:\n",
    "            pool_results = []\n",
    "            for result in tqdm(\n",
    "                pool.imap_unordered(self._pairwise_fit_batcher, args), total=n_pairs\n",
    "            ):\n",
    "                pool_results.append(result)\n",
    "\n",
    "        ## Unpack results\n",
    "        for ii, jj, dist, Frobenius_error, angular_error, metric in pool_results:\n",
    "            pairwise_dist[ii, jj] = dist\n",
    "            pairwise_Frobenius_error[ii, jj] = Frobenius_error\n",
    "            pairwise_angular_error[ii, jj] = angular_error\n",
    "            pairwise_metrics[ii][jj] = metric\n",
    "\n",
    "        ## Create symmetric matrices\n",
    "        pairwise_dist = (\n",
    "            pairwise_dist + pairwise_dist.T - np.diag(np.diag(pairwise_dist))\n",
    "        )\n",
    "        pairwise_Frobenius_error = (\n",
    "            pairwise_Frobenius_error\n",
    "            + pairwise_Frobenius_error.T\n",
    "            - np.diag(np.diag(pairwise_Frobenius_error))\n",
    "        )\n",
    "        pairwise_angular_error = (\n",
    "            pairwise_angular_error + pairwise_angular_error.T - np.diag(np.diag(pairwise_angular_error))\n",
    "        )\n",
    "\n",
    "        ## Pack in a dictionary\n",
    "        pairwise_results = {\n",
    "            \"pairwise_dist\": pairwise_dist,\n",
    "            \"pairwise_Frobenius_error\": pairwise_Frobenius_error,\n",
    "            \"pairwise_angular_error\": pairwise_angular_error,\n",
    "            \"pairwise_metrics\": pairwise_metrics,\n",
    "        }\n",
    "\n",
    "        return pairwise_results\n"
   ]
  },
  {
   "cell_type": "markdown",
   "id": "dd9bd72d",
   "metadata": {},
   "source": [
    "# Load Data"
   ]
  },
  {
   "cell_type": "code",
   "execution_count": null,
   "id": "7be68118",
   "metadata": {},
   "outputs": [],
   "source": []
  },
  {
   "cell_type": "code",
   "execution_count": null,
   "id": "cd67a31f",
   "metadata": {},
   "outputs": [],
   "source": []
  },
  {
   "cell_type": "markdown",
   "id": "75527d8f",
   "metadata": {},
   "source": [
    "## Pass through netrep"
   ]
  },
  {
   "cell_type": "markdown",
   "id": "e11bf9b3",
   "metadata": {},
   "source": [
    "Please be careful when your input matrices are wide (more features than samples), not tall (more samples than features). If your input matrices are wide, angular error does not provide intuitive results. Please check Appendix B."
   ]
  },
  {
   "cell_type": "code",
   "execution_count": 85,
   "id": "f1fc3035",
   "metadata": {},
   "outputs": [],
   "source": [
    "## Toy example\n",
    "## These toy matrices will be, in our case, mapping matrices theta_{BF}.\n",
    "test_A = np.random.rand(8,4)\n",
    "test_B = test_A\n",
    "\n",
    "test_C = copy.deepcopy(test_A)\n",
    "test_C[:,0] = test_A[:,1]\n",
    "test_C[:,1] = test_A[:,0]\n",
    "\n",
    "test_D = np.random.rand(8,4)\n",
    "\n",
    "input_data = [test_A, test_B, test_C, test_D]"
   ]
  },
  {
   "cell_type": "code",
   "execution_count": 86,
   "id": "7ddfbd7b",
   "metadata": {},
   "outputs": [
    {
     "data": {
      "text/plain": [
       "<matplotlib.image.AxesImage at 0x7fd1986c54d0>"
      ]
     },
     "execution_count": 86,
     "metadata": {},
     "output_type": "execute_result"
    },
    {
     "data": {
      "image/png": "[encoded data removed]",
      "text/plain": [
       "<Figure size 640x480 with 1 Axes>"
      ]
     },
     "metadata": {},
     "output_type": "display_data"
    },
    {
     "data": {
      "image/png": "[encoded data removed]",
      "text/plain": [
       "<Figure size 640x480 with 1 Axes>"
      ]
     },
     "metadata": {},
     "output_type": "display_data"
    },
    {
     "data": {
      "image/png": "[encoded data removed]",
      "text/plain": [
       "<Figure size 640x480 with 1 Axes>"
      ]
     },
     "metadata": {},
     "output_type": "display_data"
    },
    {
     "data": {
      "image/png": "[encoded data removed]",
      "text/plain": [
       "<Figure size 640x480 with 1 Axes>"
      ]
     },
     "metadata": {},
     "output_type": "display_data"
    }
   ],
   "source": [
    "plt.figure()\n",
    "plt.imshow(test_A)\n",
    "plt.figure()\n",
    "plt.imshow(test_B)\n",
    "plt.figure()\n",
    "plt.imshow(test_C)\n",
    "plt.figure()\n",
    "plt.imshow(test_D)"
   ]
  },
  {
   "cell_type": "code",
   "execution_count": 94,
   "id": "c67975b2",
   "metadata": {
    "scrolled": true
   },
   "outputs": [
    {
     "name": "stderr",
     "output_type": "stream",
     "text": [
      "100%|█████████████████████████████████████████████| 6/6 [00:00<00:00, 87.96it/s]\n"
     ]
    }
   ],
   "source": [
    "model = drifter(netrep_alpha=1.0)\n",
    "pairwise_result = model.pairwise_fit(input_data)"
   ]
  },
  {
   "cell_type": "code",
   "execution_count": 95,
   "id": "0782f208",
   "metadata": {},
   "outputs": [
    {
     "data": {
      "text/plain": [
       "<matplotlib.image.AxesImage at 0x7fd1c727dd90>"
      ]
     },
     "execution_count": 95,
     "metadata": {},
     "output_type": "execute_result"
    },
    {
     "data": {
      "image/png": "[encoded data removed]",
      "text/plain": [
       "<Figure size 640x480 with 1 Axes>"
      ]
     },
     "metadata": {},
     "output_type": "display_data"
    }
   ],
   "source": [
    "## Plot factor space distance after optimal rotation\n",
    "plt.figure()\n",
    "plt.imshow(pairwise_result[\"pairwise_dist\"])"
   ]
  },
  {
   "cell_type": "code",
   "execution_count": 101,
   "id": "09f69d38",
   "metadata": {},
   "outputs": [
    {
     "data": {
      "text/plain": [
       "array([[0.00000000e+00, 2.13061623e-15, 3.46006925e+00, 5.21956411e+00],\n",
       "       [2.13061623e-15, 0.00000000e+00, 3.46006925e+00, 5.21956411e+00],\n",
       "       [3.46006925e+00, 3.46006925e+00, 0.00000000e+00, 3.86608354e+00],\n",
       "       [5.21956411e+00, 5.21956411e+00, 3.86608354e+00, 0.00000000e+00]])"
      ]
     },
     "execution_count": 101,
     "metadata": {},
     "output_type": "execute_result"
    }
   ],
   "source": [
    "pairwise_result[\"pairwise_Frobenius_error\"]"
   ]
  },
  {
   "cell_type": "code",
   "execution_count": 96,
   "id": "52a4cd25",
   "metadata": {},
   "outputs": [
    {
     "data": {
      "text/plain": [
       "<matplotlib.image.AxesImage at 0x7fd1c7129d50>"
      ]
     },
     "execution_count": 96,
     "metadata": {},
     "output_type": "execute_result"
    },
    {
     "data": {
      "image/png": "[encoded data removed]",
      "text/plain": [
       "<Figure size 640x480 with 1 Axes>"
      ]
     },
     "metadata": {},
     "output_type": "display_data"
    }
   ],
   "source": [
    "## Plot measured drift, in frobenius norm\n",
    "plt.figure()\n",
    "plt.imshow(pairwise_result[\"pairwise_Frobenius_error\"])"
   ]
  },
  {
   "cell_type": "code",
   "execution_count": 97,
   "id": "3e615f97",
   "metadata": {},
   "outputs": [
    {
     "data": {
      "text/plain": [
       "array([[0.00000000e+00, 1.86264515e-09, 8.87947691e-01, 1.60698417e+00],\n",
       "       [1.86264515e-09, 0.00000000e+00, 8.87947691e-01, 1.60698417e+00],\n",
       "       [8.87947691e-01, 8.87947691e-01, 0.00000000e+00, 1.12062132e+00],\n",
       "       [1.60698417e+00, 1.60698417e+00, 1.12062132e+00, 0.00000000e+00]])"
      ]
     },
     "execution_count": 97,
     "metadata": {},
     "output_type": "execute_result"
    }
   ],
   "source": [
    "pairwise_result[\"pairwise_angular_error\"]"
   ]
  },
  {
   "cell_type": "code",
   "execution_count": 98,
   "id": "c2c91fa1",
   "metadata": {},
   "outputs": [
    {
     "data": {
      "text/plain": [
       "<matplotlib.image.AxesImage at 0x7fd1c6f9dd90>"
      ]
     },
     "execution_count": 98,
     "metadata": {},
     "output_type": "execute_result"
    },
    {
     "data": {
      "image/png": "[encoded data removed]",
      "text/plain": [
       "<Figure size 640x480 with 1 Axes>"
      ]
     },
     "metadata": {},
     "output_type": "display_data"
    }
   ],
   "source": [
    "## Plot measured drift, in cosine similarity\n",
    "plt.figure()\n",
    "plt.imshow(np.cos(pairwise_result[\"pairwise_angular_error\"]))"
   ]
  },
  {
   "cell_type": "code",
   "execution_count": 29,
   "id": "1ec1ac47",
   "metadata": {},
   "outputs": [
    {
     "data": {
      "text/plain": [
       "dict_keys(['netrep_params', 'X', 'X_star', 'Y', 'Y_star'])"
      ]
     },
     "execution_count": 29,
     "metadata": {},
     "output_type": "execute_result"
    }
   ],
   "source": [
    "## For the detailed explanation, please check Appendix A\n",
    "pairwise_result[\"pairwise_metrics\"][0][1].keys()"
   ]
  },
  {
   "cell_type": "markdown",
   "id": "139f690e",
   "metadata": {},
   "source": [
    "## Reconstruct neural space"
   ]
  },
  {
   "cell_type": "code",
   "execution_count": null,
   "id": "0b46c316",
   "metadata": {},
   "outputs": [],
   "source": []
  },
  {
   "cell_type": "code",
   "execution_count": null,
   "id": "51514da1",
   "metadata": {},
   "outputs": [],
   "source": []
  },
  {
   "cell_type": "code",
   "execution_count": null,
   "id": "2c96b0a5",
   "metadata": {},
   "outputs": [],
   "source": []
  },
  {
   "cell_type": "markdown",
   "id": "467a2f13",
   "metadata": {},
   "source": [
    "## Appendix A. netrep: under the hood"
   ]
  },
  {
   "cell_type": "code",
   "execution_count": 51,
   "id": "ed83d1fb",
   "metadata": {},
   "outputs": [
    {
     "name": "stderr",
     "output_type": "stream",
     "text": [
      "100%|████████████████████████████████████████████| 1/1 [00:00<00:00, 444.12it/s]\n"
     ]
    }
   ],
   "source": [
    "hood_A = np.random.rand(8,4)\n",
    "hood_B = np.random.rand(8,4)\n",
    "hood_model = drifter(netrep_alpha=1.0)\n",
    "hood_pairwise_result = hood_model.pairwise_fit([hood_A, hood_B])"
   ]
  },
  {
   "cell_type": "code",
   "execution_count": 66,
   "id": "c0efcc00",
   "metadata": {},
   "outputs": [
    {
     "name": "stdout",
     "output_type": "stream",
     "text": [
      "[ 6.93889390e-18  4.16333634e-17 -4.16333634e-17  0.00000000e+00]\n",
      "[ 0.00000000e+00 -2.77555756e-17  1.38777878e-17  2.77555756e-17]\n"
     ]
    }
   ],
   "source": [
    "## First, netrep mean-centers input data. mean-center vector is saved as model.mx_ and model.my_.\n",
    "hood_params = hood_pairwise_result['pairwise_metrics'][0][1][\"netrep_params\"]\n",
    "\n",
    "hood_A_ms = hood_A - hood_params.mx_\n",
    "hood_B_ms = hood_B - hood_params.my_\n",
    "\n",
    "print(np.mean(hood_A_ms, axis=0))\n",
    "print(np.mean(hood_B_ms, axis=0))"
   ]
  },
  {
   "cell_type": "code",
   "execution_count": 67,
   "id": "ee345234",
   "metadata": {},
   "outputs": [
    {
     "name": "stdout",
     "output_type": "stream",
     "text": [
      "[[1. 0. 0. 0.]\n",
      " [0. 1. 0. 0.]\n",
      " [0. 0. 1. 0.]\n",
      " [0. 0. 0. 1.]]\n",
      "[[1. 0. 0. 0.]\n",
      " [0. 1. 0. 0.]\n",
      " [0. 0. 1. 0.]\n",
      " [0. 0. 0. 1.]]\n"
     ]
    }
   ],
   "source": [
    "## Then, netrep whitens your input matrix. Please note that if your netrep_alpha = 1.0, whitening matrix is just an identity matrix.\n",
    "hood_A_ms_whiten = hood_A_ms @ hood_params.Zx_\n",
    "hood_B_ms_whiten = hood_B_ms @ hood_params.Zy_\n",
    "\n",
    "print(hood_params.Zx_)\n",
    "print(hood_params.Zy_)"
   ]
  },
  {
   "cell_type": "code",
   "execution_count": 70,
   "id": "8230f990",
   "metadata": {},
   "outputs": [
    {
     "name": "stdout",
     "output_type": "stream",
     "text": [
      "True\n",
      "True\n"
     ]
    }
   ],
   "source": [
    "## Finally, netrep provides you an optimal rotation matrix for both A and B.\n",
    "hood_A_shared = hood_A_ms_whiten @ hood_params.Rx_\n",
    "hood_B_shared = hood_B_ms_whiten @ hood_params.Ry_\n",
    "\n",
    "hood_test_model = LinearMetric(alpha=1.0)\n",
    "hood_test_model.fit(hood_A, hood_B)\n",
    "netrep_A, netrep_B = hood_test_model.transform(hood_A, hood_B)\n",
    "\n",
    "print(np.any(hood_A_shared == netrep_A))\n",
    "print(np.any(hood_B_shared == netrep_B))"
   ]
  },
  {
   "cell_type": "code",
   "execution_count": 73,
   "id": "c05756fe",
   "metadata": {},
   "outputs": [],
   "source": [
    "## This means that, you can reconstruct A from B. Here we call this A_star.\n",
    "\n",
    "hood_A_star = hood_B_shared @ hood_params.Rx_.T @ np.linalg.inv(hood_params.Zx_) + hood_params.mx_\n",
    "hood_B_star = hood_A_shared @ hood_params.Ry_.T @ np.linalg.inv(hood_params.Zy_) + hood_params.my_"
   ]
  },
  {
   "cell_type": "markdown",
   "id": "bfa6dadc",
   "metadata": {},
   "source": [
    "## Appendix B. tall vs wide matrices"
   ]
  },
  {
   "cell_type": "markdown",
   "id": "d32921e0",
   "metadata": {},
   "source": [
    "netrep algorithm - orthogonal procrustes problem, or CCA, could create weird result when you have wide matrices. This comes from the rank of covariance matrix.\n",
    "\n",
    "Let's start with a toy example. First, here is a simple tall matrices:"
   ]
  },
  {
   "cell_type": "code",
   "execution_count": 33,
   "id": "2e1b4a5c",
   "metadata": {},
   "outputs": [],
   "source": [
    "tall_A = np.random.rand(8,4)\n",
    "tall_B = tall_A\n",
    "\n",
    "tall_C = copy.deepcopy(tall_A)\n",
    "tall_C[:,0] = tall_A[:,1]\n",
    "tall_C[:,1] = tall_A[:,0]\n",
    "\n",
    "tall_D = np.random.rand(8,4)\n",
    "\n",
    "tall_data = [tall_A, tall_B, tall_C, tall_D]"
   ]
  },
  {
   "cell_type": "markdown",
   "id": "aa261a41",
   "metadata": {},
   "source": [
    "Here, test_A and test_B are equal. test_C is just one permutation away. test_D is totally different one.\n",
    "netrep has no problem in this case:"
   ]
  },
  {
   "cell_type": "code",
   "execution_count": 34,
   "id": "5c6df363",
   "metadata": {},
   "outputs": [
    {
     "name": "stderr",
     "output_type": "stream",
     "text": [
      "100%|████████████████████████████████████████████| 6/6 [00:00<00:00, 147.36it/s]\n"
     ]
    }
   ],
   "source": [
    "tall_model = drifter(netrep_alpha=1.0)\n",
    "tall_pairwise_result = tall_model.pairwise_fit(tall_data)"
   ]
  },
  {
   "cell_type": "code",
   "execution_count": 35,
   "id": "f32a332e",
   "metadata": {},
   "outputs": [
    {
     "data": {
      "text/plain": [
       "<matplotlib.image.AxesImage at 0x7fd198e9ac50>"
      ]
     },
     "execution_count": 35,
     "metadata": {},
     "output_type": "execute_result"
    },
    {
     "data": {
      "image/png": "[encoded data removed]",
      "text/plain": [
       "<Figure size 640x480 with 1 Axes>"
      ]
     },
     "metadata": {},
     "output_type": "display_data"
    },
    {
     "data": {
      "image/png": "[encoded data removed]",
      "text/plain": [
       "<Figure size 640x480 with 1 Axes>"
      ]
     },
     "metadata": {},
     "output_type": "display_data"
    },
    {
     "data": {
      "image/png": "[encoded data removed]",
      "text/plain": [
       "<Figure size 640x480 with 1 Axes>"
      ]
     },
     "metadata": {},
     "output_type": "display_data"
    }
   ],
   "source": [
    "plt.figure()\n",
    "plt.imshow(tall_pairwise_result[\"pairwise_dist\"])\n",
    "plt.figure()\n",
    "plt.imshow(tall_pairwise_result[\"pairwise_Frobenius_error\"])\n",
    "plt.figure()\n",
    "plt.imshow(np.cos(tall_pairwise_result[\"pairwise_angular_error\"]))"
   ]
  },
  {
   "cell_type": "markdown",
   "id": "b1858031",
   "metadata": {},
   "source": [
    "Now let's see wide case:"
   ]
  },
  {
   "cell_type": "code",
   "execution_count": 39,
   "id": "1c822c85",
   "metadata": {},
   "outputs": [
    {
     "data": {
      "text/plain": [
       "(4, 8)"
      ]
     },
     "execution_count": 39,
     "metadata": {},
     "output_type": "execute_result"
    }
   ],
   "source": [
    "wide_data[0].shape"
   ]
  },
  {
   "cell_type": "code",
   "execution_count": null,
   "id": "38e10777",
   "metadata": {},
   "outputs": [],
   "source": [
    "wide_pairwise_result"
   ]
  },
  {
   "cell_type": "code",
   "execution_count": 37,
   "id": "04f6b6eb",
   "metadata": {},
   "outputs": [
    {
     "name": "stderr",
     "output_type": "stream",
     "text": [
      "100%|████████████████████████████████████████████| 6/6 [00:00<00:00, 111.90it/s]\n"
     ]
    }
   ],
   "source": [
    "wide_data = [tall_A.T, tall_B.T, tall_C.T, tall_D.T]\n",
    "wide_model = drifter(netrep_alpha=1.0)\n",
    "wide_pairwise_result = wide_model.pairwise_fit(wide_data)"
   ]
  },
  {
   "cell_type": "code",
   "execution_count": 38,
   "id": "cfa023de",
   "metadata": {},
   "outputs": [
    {
     "data": {
      "text/plain": [
       "<matplotlib.image.AxesImage at 0x7fd198c75d90>"
      ]
     },
     "execution_count": 38,
     "metadata": {},
     "output_type": "execute_result"
    },
    {
     "data": {
      "image/png": "[encoded data removed]",
      "text/plain": [
       "<Figure size 640x480 with 1 Axes>"
      ]
     },
     "metadata": {},
     "output_type": "display_data"
    },
    {
     "data": {
      "image/png": "[encoded data removed]",
      "text/plain": [
       "<Figure size 640x480 with 1 Axes>"
      ]
     },
     "metadata": {},
     "output_type": "display_data"
    },
    {
     "data": {
      "image/png": "[encoded data removed]",
      "text/plain": [
       "<Figure size 640x480 with 1 Axes>"
      ]
     },
     "metadata": {},
     "output_type": "display_data"
    }
   ],
   "source": [
    "plt.figure()\n",
    "plt.imshow(wide_pairwise_result[\"pairwise_dist\"])\n",
    "plt.figure()\n",
    "plt.imshow(wide_pairwise_result[\"pairwise_Frobenius_error\"])\n",
    "plt.figure()\n",
    "plt.imshow(np.cos(wide_pairwise_result[\"pairwise_angular_error\"]))"
   ]
  },
  {
   "cell_type": "markdown",
   "id": "ada8105b",
   "metadata": {},
   "source": [
    "Surprisingly, the angular error between wide_A and wide_B is nonzero. This is counterintuitive as wide_A = wide_B, so optimal rotation between them should be just $I$, an identity matrix. However, the measurement shows that the netrep algorithm finds non-identity matrix as an optimal rotation matrix.\n",
    "\n",
    "This happens because the covariance matrix $C_{tall}$ is (potentially) full-rank, while $C_{wide}$ is guaranteed to be low-rank. Let's look into this."
   ]
  },
  {
   "cell_type": "code",
   "execution_count": 42,
   "id": "ddc4b3fb",
   "metadata": {},
   "outputs": [
    {
     "data": {
      "text/plain": [
       "{'netrep_params': LinearMetric(),\n",
       " 'X': array([[0.50432686, 0.69267423, 0.53398294, 0.26392583],\n",
       "        [0.92185088, 0.4313675 , 0.41605106, 0.61542559],\n",
       "        [0.02879329, 0.41745965, 0.33731163, 0.40419877],\n",
       "        [0.14923424, 0.93324659, 0.71767244, 0.593785  ],\n",
       "        [0.81369417, 0.53860309, 0.86168002, 0.85449202],\n",
       "        [0.08965817, 0.7410355 , 0.80969344, 0.21376745],\n",
       "        [0.84154802, 0.14568286, 0.69774281, 0.42506424],\n",
       "        [0.72613252, 0.61107602, 0.16175728, 0.03307458]]),\n",
       " 'X_star': array([[0.50432686, 0.69267423, 0.53398294, 0.26392583],\n",
       "        [0.92185088, 0.4313675 , 0.41605106, 0.61542559],\n",
       "        [0.02879329, 0.41745965, 0.33731163, 0.40419877],\n",
       "        [0.14923424, 0.93324659, 0.71767244, 0.593785  ],\n",
       "        [0.81369417, 0.53860309, 0.86168002, 0.85449202],\n",
       "        [0.08965817, 0.7410355 , 0.80969344, 0.21376745],\n",
       "        [0.84154802, 0.14568286, 0.69774281, 0.42506424],\n",
       "        [0.72613252, 0.61107602, 0.16175728, 0.03307458]]),\n",
       " 'Y': array([[0.50432686, 0.69267423, 0.53398294, 0.26392583],\n",
       "        [0.92185088, 0.4313675 , 0.41605106, 0.61542559],\n",
       "        [0.02879329, 0.41745965, 0.33731163, 0.40419877],\n",
       "        [0.14923424, 0.93324659, 0.71767244, 0.593785  ],\n",
       "        [0.81369417, 0.53860309, 0.86168002, 0.85449202],\n",
       "        [0.08965817, 0.7410355 , 0.80969344, 0.21376745],\n",
       "        [0.84154802, 0.14568286, 0.69774281, 0.42506424],\n",
       "        [0.72613252, 0.61107602, 0.16175728, 0.03307458]]),\n",
       " 'Y_star': array([[0.50432686, 0.69267423, 0.53398294, 0.26392583],\n",
       "        [0.92185088, 0.4313675 , 0.41605106, 0.61542559],\n",
       "        [0.02879329, 0.41745965, 0.33731163, 0.40419877],\n",
       "        [0.14923424, 0.93324659, 0.71767244, 0.593785  ],\n",
       "        [0.81369417, 0.53860309, 0.86168002, 0.85449202],\n",
       "        [0.08965817, 0.7410355 , 0.80969344, 0.21376745],\n",
       "        [0.84154802, 0.14568286, 0.69774281, 0.42506424],\n",
       "        [0.72613252, 0.61107602, 0.16175728, 0.03307458]])}"
      ]
     },
     "execution_count": 42,
     "metadata": {},
     "output_type": "execute_result"
    }
   ],
   "source": [
    "tall_pairwise_result['pairwise_metrics'][0][1]"
   ]
  },
  {
   "cell_type": "code",
   "execution_count": 46,
   "id": "79ed781b",
   "metadata": {},
   "outputs": [
    {
     "data": {
      "text/plain": [
       "<matplotlib.image.AxesImage at 0x7fd1c68fb8d0>"
      ]
     },
     "execution_count": 46,
     "metadata": {},
     "output_type": "execute_result"
    },
    {
     "data": {
      "image/png": "[encoded data removed]",
      "text/plain": [
       "<Figure size 640x480 with 1 Axes>"
      ]
     },
     "metadata": {},
     "output_type": "display_data"
    }
   ],
   "source": [
    "## mean-center\n",
    "tall_A_ms = tall_A - tall_pairwise_result['pairwise_metrics'][0][1][\"netrep_params\"].mx_\n",
    "tall_B_ms = tall_B - tall_pairwise_result['pairwise_metrics'][0][1][\"netrep_params\"].my_\n",
    "\n",
    "## SVD covariance matrix\n",
    "## Check appendix A: tall_U = tall_pairwise_result['pairwise_metrics'][0][1][\"netrep_params\"].Rx_\n",
    "tall_U, tall_S, tall_Vt = np.linalg.svd(tall_A_ms.T @ tall_B_ms)\n",
    "\n",
    "tall_rotation = tall_U @ tall_Vt\n",
    "\n",
    "plt.figure()\n",
    "plt.imshow(tall_rotation)"
   ]
  },
  {
   "cell_type": "markdown",
   "id": "1b8e626a",
   "metadata": {},
   "source": [
    "As you just saw, if $C$ is full-rank, SVD is just a generalization of eigendecomposition, and $U @ Vt = P @ Pt = I$ (as eigenvectors in this case should be orthonormal).\n",
    "\n",
    "However, if $C$ is low-rank, this does not work. $U @ Vt$ is not $I$ anymore."
   ]
  },
  {
   "cell_type": "code",
   "execution_count": 50,
   "id": "5c2093d4",
   "metadata": {},
   "outputs": [
    {
     "data": {
      "text/plain": [
       "<matplotlib.image.AxesImage at 0x7fd1c6ac0590>"
      ]
     },
     "execution_count": 50,
     "metadata": {},
     "output_type": "execute_result"
    },
    {
     "data": {
      "image/png": "[encoded data removed]",
      "text/plain": [
       "<Figure size 640x480 with 1 Axes>"
      ]
     },
     "metadata": {},
     "output_type": "display_data"
    }
   ],
   "source": [
    "## mean-center\n",
    "wide_A_ms = tall_A.T - wide_pairwise_result['pairwise_metrics'][0][1][\"netrep_params\"].mx_\n",
    "wide_B_ms = tall_B.T - wide_pairwise_result['pairwise_metrics'][0][1][\"netrep_params\"].my_\n",
    "\n",
    "## SVD covariance matrix\n",
    "wide_U, wide_S, wide_Vt = np.linalg.svd(wide_A_ms.T @ wide_B_ms)\n",
    "\n",
    "wide_rotation = wide_U @ wide_Vt\n",
    "\n",
    "plt.figure()\n",
    "plt.imshow(wide_rotation)"
   ]
  },
  {
   "cell_type": "markdown",
   "id": "44c52164",
   "metadata": {},
   "source": [
    "Therefore, even if two input matrices are same, algorithm finds \"optimal rotation\" matrix which is not an identity matrix."
   ]
  }
 ],
 "metadata": {
  "kernelspec": {
   "display_name": "Python 3 (ipykernel)",
   "language": "python",
   "name": "python3"
  },
  "language_info": {
   "codemirror_mode": {
    "name": "ipython",
    "version": 3
   },
   "file_extension": ".py",
   "mimetype": "text/x-python",
   "name": "python",
   "nbconvert_exporter": "python",
   "pygments_lexer": "ipython3",
   "version": "3.11.3"
  }
 },
 "nbformat": 4,
 "nbformat_minor": 5
}
