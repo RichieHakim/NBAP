{
 "cells": [
  {
   "cell_type": "code",
   "execution_count": 1,
   "id": "eb297901",
   "metadata": {},
   "outputs": [
    {
     "data": {
      "text/html": [
       "<style>.container {width:95% !important; }</style>"
      ],
      "text/plain": [
       "<IPython.core.display.HTML object>"
      ]
     },
     "metadata": {},
     "output_type": "display_data"
    }
   ],
   "source": [
    "# ALWAYS RUN THIS CELL\n",
    "# widen jupyter notebook window\n",
    "from IPython.display import display, HTML\n",
    "display(HTML(\"<style>.container {width:95% !important; }</style>\"))"
   ]
  },
  {
   "cell_type": "markdown",
   "id": "e7ca9401",
   "metadata": {},
   "source": [
    "This requires having `bnpm`. Get it with `pip install bnpm` or here: https://github.com/RichieHakim/basic_neural_processing_modules"
   ]
  },
  {
   "cell_type": "code",
   "execution_count": 2,
   "id": "b083639c",
   "metadata": {},
   "outputs": [],
   "source": [
    "%load_ext autoreload\n",
    "%autoreload 2\n",
    "from bnpm import server"
   ]
  },
  {
   "cell_type": "code",
   "execution_count": 3,
   "id": "47fe1e80",
   "metadata": {},
   "outputs": [],
   "source": [
    "import os\n",
    "from pathlib import Path\n",
    "import functools\n",
    "import tempfile\n",
    "import getpass\n",
    "import gc"
   ]
  },
  {
   "cell_type": "code",
   "execution_count": 57,
   "id": "31af84b7",
   "metadata": {},
   "outputs": [],
   "source": [
    "import numpy as np\n",
    "import natsort"
   ]
  },
  {
   "cell_type": "markdown",
   "id": "6114afcd",
   "metadata": {},
   "source": [
    "------------\n",
    "# ==== Start ===="
   ]
  },
  {
   "cell_type": "markdown",
   "id": "ae33b435",
   "metadata": {},
   "source": [
    "## Prepare username + password"
   ]
  },
  {
   "cell_type": "code",
   "execution_count": 4,
   "id": "af73363a",
   "metadata": {},
   "outputs": [
    {
     "name": "stdout",
     "output_type": "stream",
     "text": [
      "Username: rh183\n",
      "Password: ········\n"
     ]
    }
   ],
   "source": [
    "remote_host_transfer = \"transfer.rc.hms.harvard.edu\"\n",
    "remote_host_compute = \"o2.hms.harvard.edu\"\n",
    "username = input('Username: ')\n",
    "\n",
    "use_localSshKey = False\n",
    "\n",
    "pw = server.pw_encode(getpass.getpass(prompt='Password: ')) if use_localSshKey==False else None\n",
    "\n",
    "path_sshKey = '/home/rich/.ssh/id_rsa' if use_localSshKey else None"
   ]
  },
  {
   "cell_type": "markdown",
   "id": "56c846db",
   "metadata": {},
   "source": [
    "## Prepare `sftp` and `ssh` objects"
   ]
  },
  {
   "cell_type": "code",
   "execution_count": 5,
   "id": "2cf1997f",
   "metadata": {},
   "outputs": [],
   "source": [
    "## initialize ssh_transfer\n",
    "ssh_t = server.ssh_interface(\n",
    "    nbytes_toReceive=20000,\n",
    "    recv_timeout=1,\n",
    "    verbose=True,\n",
    ")"
   ]
  },
  {
   "cell_type": "code",
   "execution_count": 6,
   "id": "fdf1e2ba",
   "metadata": {
    "scrolled": true
   },
   "outputs": [],
   "source": [
    "ssh_t.o2_connect(\n",
    "    hostname=remote_host_transfer,\n",
    "    username=username,\n",
    "    password=server.pw_decode(pw),\n",
    "    key_filename=path_sshKey,\n",
    "    look_for_keys=False,\n",
    "    passcode_method=1,\n",
    "    verbose=0,\n",
    "    skip_passcode=False,    \n",
    ")"
   ]
  },
  {
   "cell_type": "code",
   "execution_count": 7,
   "id": "fa578dd5",
   "metadata": {},
   "outputs": [],
   "source": [
    "## initialize ssh_compute\n",
    "ssh_c = server.ssh_interface(\n",
    "    nbytes_toReceive=20000,\n",
    "    recv_timeout=1,\n",
    "    verbose=True,\n",
    ")\n",
    "ssh_c.o2_connect(\n",
    "    hostname=remote_host_compute,\n",
    "    username=username,\n",
    "    password=server.pw_decode(pw),\n",
    "    key_filename=path_sshKey,\n",
    "    look_for_keys=False,\n",
    "    passcode_method=1,\n",
    "    verbose=0,\n",
    "    skip_passcode=False,    \n",
    ")"
   ]
  },
  {
   "cell_type": "code",
   "execution_count": 8,
   "id": "daea3d7a",
   "metadata": {},
   "outputs": [],
   "source": [
    "sftp = server.sftp_interface(ssh_client=ssh_t.client)"
   ]
  },
  {
   "cell_type": "code",
   "execution_count": 9,
   "id": "21af2f06",
   "metadata": {},
   "outputs": [],
   "source": [
    "prompt_snip = f'[{username}'"
   ]
  },
  {
   "cell_type": "code",
   "execution_count": 10,
   "id": "6d8554e7",
   "metadata": {},
   "outputs": [],
   "source": [
    "send_expect = functools.partial(ssh_c.send_expect, str_success=prompt_snip)"
   ]
  },
  {
   "cell_type": "markdown",
   "id": "4df788fe",
   "metadata": {},
   "source": [
    "# Batch run"
   ]
  },
  {
   "cell_type": "code",
   "execution_count": 16,
   "id": "3d4b6a6d",
   "metadata": {},
   "outputs": [
    {
     "name": "stdout",
     "output_type": "stream",
     "text": [
      "/n/data1/hms/neurobio/sabatini/rich/analysis/faceRhythm/mouse_0322N/run_20230701/20230531/jobNum_0/analysis_files/TCA.h5\n",
      "/n/data1/hms/neurobio/sabatini/rich/analysis/faceRhythm/mouse_0322N/run_20230701/20230523/jobNum_0/analysis_files/TCA.h5\n",
      "/n/data1/hms/neurobio/sabatini/rich/analysis/faceRhythm/mouse_0322N/run_20230701/20230517/jobNum_0/analysis_files/TCA.h5\n",
      "/n/data1/hms/neurobio/sabatini/rich/analysis/faceRhythm/mouse_0322N/run_20230701/20230515/jobNum_0/analysis_files/TCA.h5\n",
      "/n/data1/hms/neurobio/sabatini/rich/analysis/faceRhythm/mouse_0322N/run_20230701/20230430/jobNum_0/analysis_files/TCA.h5\n",
      "/n/data1/hms/neurobio/sabatini/rich/analysis/faceRhythm/mouse_0322N/run_20230701/20230528/jobNum_0/analysis_files/TCA.h5\n",
      "/n/data1/hms/neurobio/sabatini/rich/analysis/faceRhythm/mouse_0322N/run_20230701/20230601/jobNum_0/analysis_files/TCA.h5\n",
      "/n/data1/hms/neurobio/sabatini/rich/analysis/faceRhythm/mouse_0322N/run_20230701/20230512/jobNum_0/analysis_files/TCA.h5\n",
      "/n/data1/hms/neurobio/sabatini/rich/analysis/faceRhythm/mouse_0322N/run_20230701/20230510/jobNum_0/analysis_files/TCA.h5\n",
      "/n/data1/hms/neurobio/sabatini/rich/analysis/faceRhythm/mouse_0322N/run_20230701/20230511/jobNum_0/analysis_files/TCA.h5\n",
      "/n/data1/hms/neurobio/sabatini/rich/analysis/faceRhythm/mouse_0322N/run_20230701/20230514/jobNum_0/analysis_files/TCA.h5\n",
      "/n/data1/hms/neurobio/sabatini/rich/analysis/faceRhythm/mouse_0322N/run_20230701/20230504/jobNum_0/analysis_files/TCA.h5\n",
      "/n/data1/hms/neurobio/sabatini/rich/analysis/faceRhythm/mouse_0322N/run_20230701/20230507/jobNum_0/analysis_files/TCA.h5\n",
      "/n/data1/hms/neurobio/sabatini/rich/analysis/faceRhythm/mouse_0322N/run_20230701/20230525/jobNum_0/analysis_files/TCA.h5\n",
      "/n/data1/hms/neurobio/sabatini/rich/analysis/faceRhythm/mouse_0322N/run_20230701/20230522/jobNum_0/analysis_files/TCA.h5\n",
      "/n/data1/hms/neurobio/sabatini/rich/analysis/faceRhythm/mouse_0322N/run_20230701/20230526/jobNum_0/analysis_files/TCA.h5\n",
      "/n/data1/hms/neurobio/sabatini/rich/analysis/faceRhythm/mouse_0322N/run_20230701/20230521/jobNum_0/analysis_files/TCA.h5\n",
      "/n/data1/hms/neurobio/sabatini/rich/analysis/faceRhythm/mouse_0322N/run_20230701/20230518/jobNum_0/analysis_files/TCA.h5\n",
      "/n/data1/hms/neurobio/sabatini/rich/analysis/faceRhythm/mouse_0322N/run_20230701/20230530/jobNum_0/analysis_files/TCA.h5\n",
      "/n/data1/hms/neurobio/sabatini/rich/analysis/faceRhythm/mouse_0322N/run_20230701/20230520/jobNum_0/analysis_files/TCA.h5\n",
      "/n/data1/hms/neurobio/sabatini/rich/analysis/faceRhythm/mouse_0322N/run_20230701/20230508/jobNum_0/analysis_files/TCA.h5\n",
      "/n/data1/hms/neurobio/sabatini/rich/analysis/faceRhythm/mouse_0322N/run_20230701/20230506/jobNum_0/analysis_files/TCA.h5\n",
      "/n/data1/hms/neurobio/sabatini/rich/analysis/faceRhythm/mouse_0322N/run_20230701/20230527/jobNum_0/analysis_files/TCA.h5\n",
      "/n/data1/hms/neurobio/sabatini/rich/analysis/faceRhythm/mouse_0322N/run_20230701/20230519/jobNum_0/analysis_files/TCA.h5\n",
      "/n/data1/hms/neurobio/sabatini/rich/analysis/faceRhythm/mouse_0322N/run_20230701/20230501/jobNum_0/analysis_files/TCA.h5\n",
      "/n/data1/hms/neurobio/sabatini/rich/analysis/faceRhythm/mouse_0322N/run_20230701/20230505/jobNum_0/analysis_files/TCA.h5\n",
      "/n/data1/hms/neurobio/sabatini/rich/analysis/faceRhythm/mouse_0322N/run_20230701/20230516/jobNum_0/analysis_files/TCA.h5\n",
      "/n/data1/hms/neurobio/sabatini/rich/analysis/faceRhythm/mouse_0322N/run_20230701/20230509/jobNum_0/analysis_files/TCA.h5\n",
      "/n/data1/hms/neurobio/sabatini/rich/analysis/faceRhythm/mouse_0322N/run_20230701/20230529/jobNum_0/analysis_files/TCA.h5\n",
      "/n/data1/hms/neurobio/sabatini/rich/analysis/faceRhythm/mouse_0322N/run_20230701/20230503/jobNum_0/analysis_files/TCA.h5\n",
      "/n/data1/hms/neurobio/sabatini/rich/analysis/faceRhythm/mouse_0322N/run_20230701/20230524/jobNum_0/analysis_files/TCA.h5\n",
      "/n/data1/hms/neurobio/sabatini/rich/analysis/faceRhythm/mouse_0322N/run_20230701/20230502/jobNum_0/analysis_files/TCA.h5\n"
     ]
    }
   ],
   "source": [
    "paths_found = sftp.search_recursive(\n",
    "    path='/n/data1/hms/neurobio/sabatini/rich/analysis/faceRhythm/mouse_0322N/run_20230701',\n",
    "    search_pattern_re='TCA.h5',\n",
    "    max_depth=5,\n",
    "    find_folders=False,\n",
    "    find_files=True,\n",
    ")"
   ]
  },
  {
   "cell_type": "code",
   "execution_count": 69,
   "id": "b157aaac",
   "metadata": {},
   "outputs": [
    {
     "name": "stdout",
     "output_type": "stream",
     "text": [
      "/n/data1/hms/neurobio/sabatini/rich/analysis/faceRhythm/mouse_0322N/run_20230701/20230531/aligned_TCA/jobNum_0/tca_refit.h5\n",
      "/n/data1/hms/neurobio/sabatini/rich/analysis/faceRhythm/mouse_0322N/run_20230701/20230517/aligned_TCA/jobNum_0/tca_refit.h5\n",
      "/n/data1/hms/neurobio/sabatini/rich/analysis/faceRhythm/mouse_0322N/run_20230701/20230515/aligned_TCA/jobNum_0/tca_refit.h5\n",
      "/n/data1/hms/neurobio/sabatini/rich/analysis/faceRhythm/mouse_0322N/run_20230701/20230430/aligned_TCA/jobNum_0/tca_refit.h5\n",
      "/n/data1/hms/neurobio/sabatini/rich/analysis/faceRhythm/mouse_0322N/run_20230701/20230528/aligned_TCA/jobNum_0/tca_refit.h5\n",
      "/n/data1/hms/neurobio/sabatini/rich/analysis/faceRhythm/mouse_0322N/run_20230701/20230601/aligned_TCA/jobNum_0/tca_refit.h5\n",
      "/n/data1/hms/neurobio/sabatini/rich/analysis/faceRhythm/mouse_0322N/run_20230701/20230511/aligned_TCA/jobNum_0/tca_refit.h5\n",
      "/n/data1/hms/neurobio/sabatini/rich/analysis/faceRhythm/mouse_0322N/run_20230701/20230514/aligned_TCA/jobNum_0/tca_refit.h5\n",
      "/n/data1/hms/neurobio/sabatini/rich/analysis/faceRhythm/mouse_0322N/run_20230701/20230504/aligned_TCA/jobNum_0/tca_refit.h5\n",
      "/n/data1/hms/neurobio/sabatini/rich/analysis/faceRhythm/mouse_0322N/run_20230701/20230507/aligned_TCA/jobNum_0/tca_refit.h5\n",
      "/n/data1/hms/neurobio/sabatini/rich/analysis/faceRhythm/mouse_0322N/run_20230701/20230522/aligned_TCA/jobNum_0/tca_refit.h5\n",
      "/n/data1/hms/neurobio/sabatini/rich/analysis/faceRhythm/mouse_0322N/run_20230701/20230521/aligned_TCA/jobNum_0/tca_refit.h5\n",
      "/n/data1/hms/neurobio/sabatini/rich/analysis/faceRhythm/mouse_0322N/run_20230701/20230518/aligned_TCA/jobNum_0/tca_refit.h5\n",
      "/n/data1/hms/neurobio/sabatini/rich/analysis/faceRhythm/mouse_0322N/run_20230701/20230520/aligned_TCA/jobNum_0/tca_refit.h5\n",
      "/n/data1/hms/neurobio/sabatini/rich/analysis/faceRhythm/mouse_0322N/run_20230701/20230508/aligned_TCA/jobNum_0/tca_refit.h5\n",
      "/n/data1/hms/neurobio/sabatini/rich/analysis/faceRhythm/mouse_0322N/run_20230701/20230527/aligned_TCA/jobNum_0/tca_refit.h5\n",
      "/n/data1/hms/neurobio/sabatini/rich/analysis/faceRhythm/mouse_0322N/run_20230701/20230519/aligned_TCA/jobNum_0/tca_refit.h5\n",
      "/n/data1/hms/neurobio/sabatini/rich/analysis/faceRhythm/mouse_0322N/run_20230701/20230501/aligned_TCA/jobNum_0/tca_refit.h5\n",
      "/n/data1/hms/neurobio/sabatini/rich/analysis/faceRhythm/mouse_0322N/run_20230701/20230509/aligned_TCA/jobNum_0/tca_refit.h5\n",
      "/n/data1/hms/neurobio/sabatini/rich/analysis/faceRhythm/mouse_0322N/run_20230701/20230529/aligned_TCA/jobNum_0/tca_refit.h5\n",
      "/n/data1/hms/neurobio/sabatini/rich/analysis/faceRhythm/mouse_0322N/run_20230701/20230502/aligned_TCA/jobNum_0/tca_refit.h5\n"
     ]
    }
   ],
   "source": [
    "paths_found = sftp.search_recursive(\n",
    "    path='/n/data1/hms/neurobio/sabatini/rich/analysis/faceRhythm/mouse_0322N/run_20230701',\n",
    "    search_pattern_re='tca_refit.h5',\n",
    "    max_depth=5,\n",
    "    find_folders=False,\n",
    "    find_files=True,\n",
    ")"
   ]
  },
  {
   "cell_type": "code",
   "execution_count": 58,
   "id": "933f7a8c",
   "metadata": {},
   "outputs": [
    {
     "data": {
      "text/plain": [
       "['/n/data1/hms/neurobio/sabatini/rich/analysis/faceRhythm/mouse_0322N/run_20230701/20230430/aligned_TCA/jobNum_0/tca_refit.h5',\n",
       " '/n/data1/hms/neurobio/sabatini/rich/analysis/faceRhythm/mouse_0322N/run_20230701/20230501/aligned_TCA/jobNum_0/tca_refit.h5',\n",
       " '/n/data1/hms/neurobio/sabatini/rich/analysis/faceRhythm/mouse_0322N/run_20230701/20230502/aligned_TCA/jobNum_0/tca_refit.h5',\n",
       " '/n/data1/hms/neurobio/sabatini/rich/analysis/faceRhythm/mouse_0322N/run_20230701/20230504/aligned_TCA/jobNum_0/tca_refit.h5',\n",
       " '/n/data1/hms/neurobio/sabatini/rich/analysis/faceRhythm/mouse_0322N/run_20230701/20230507/aligned_TCA/jobNum_0/tca_refit.h5',\n",
       " '/n/data1/hms/neurobio/sabatini/rich/analysis/faceRhythm/mouse_0322N/run_20230701/20230508/aligned_TCA/jobNum_0/tca_refit.h5',\n",
       " '/n/data1/hms/neurobio/sabatini/rich/analysis/faceRhythm/mouse_0322N/run_20230701/20230509/aligned_TCA/jobNum_0/tca_refit.h5',\n",
       " '/n/data1/hms/neurobio/sabatini/rich/analysis/faceRhythm/mouse_0322N/run_20230701/20230511/aligned_TCA/jobNum_0/tca_refit.h5',\n",
       " '/n/data1/hms/neurobio/sabatini/rich/analysis/faceRhythm/mouse_0322N/run_20230701/20230514/aligned_TCA/jobNum_0/tca_refit.h5',\n",
       " '/n/data1/hms/neurobio/sabatini/rich/analysis/faceRhythm/mouse_0322N/run_20230701/20230515/aligned_TCA/jobNum_0/tca_refit.h5',\n",
       " '/n/data1/hms/neurobio/sabatini/rich/analysis/faceRhythm/mouse_0322N/run_20230701/20230517/aligned_TCA/jobNum_0/tca_refit.h5',\n",
       " '/n/data1/hms/neurobio/sabatini/rich/analysis/faceRhythm/mouse_0322N/run_20230701/20230518/aligned_TCA/jobNum_0/tca_refit.h5',\n",
       " '/n/data1/hms/neurobio/sabatini/rich/analysis/faceRhythm/mouse_0322N/run_20230701/20230519/aligned_TCA/jobNum_0/tca_refit.h5',\n",
       " '/n/data1/hms/neurobio/sabatini/rich/analysis/faceRhythm/mouse_0322N/run_20230701/20230520/aligned_TCA/jobNum_0/tca_refit.h5',\n",
       " '/n/data1/hms/neurobio/sabatini/rich/analysis/faceRhythm/mouse_0322N/run_20230701/20230521/aligned_TCA/jobNum_0/tca_refit.h5',\n",
       " '/n/data1/hms/neurobio/sabatini/rich/analysis/faceRhythm/mouse_0322N/run_20230701/20230522/aligned_TCA/jobNum_0/tca_refit.h5',\n",
       " '/n/data1/hms/neurobio/sabatini/rich/analysis/faceRhythm/mouse_0322N/run_20230701/20230527/aligned_TCA/jobNum_0/tca_refit.h5',\n",
       " '/n/data1/hms/neurobio/sabatini/rich/analysis/faceRhythm/mouse_0322N/run_20230701/20230528/aligned_TCA/jobNum_0/tca_refit.h5',\n",
       " '/n/data1/hms/neurobio/sabatini/rich/analysis/faceRhythm/mouse_0322N/run_20230701/20230529/aligned_TCA/jobNum_0/tca_refit.h5',\n",
       " '/n/data1/hms/neurobio/sabatini/rich/analysis/faceRhythm/mouse_0322N/run_20230701/20230531/aligned_TCA/jobNum_0/tca_refit.h5',\n",
       " '/n/data1/hms/neurobio/sabatini/rich/analysis/faceRhythm/mouse_0322N/run_20230701/20230601/aligned_TCA/jobNum_0/tca_refit.h5']"
      ]
     },
     "execution_count": 58,
     "metadata": {},
     "output_type": "execute_result"
    }
   ],
   "source": [
    "natsort.natsorted(paths_found)"
   ]
  },
  {
   "cell_type": "code",
   "execution_count": 20,
   "id": "3f5417f7",
   "metadata": {},
   "outputs": [
    {
     "data": {
      "text/plain": [
       "['20230430',\n",
       " '20230501',\n",
       " '20230502',\n",
       " '20230503',\n",
       " '20230504',\n",
       " '20230505',\n",
       " '20230506',\n",
       " '20230507',\n",
       " '20230508',\n",
       " '20230509',\n",
       " '20230510',\n",
       " '20230511',\n",
       " '20230512',\n",
       " '20230514',\n",
       " '20230515',\n",
       " '20230516',\n",
       " '20230517',\n",
       " '20230518',\n",
       " '20230519',\n",
       " '20230520',\n",
       " '20230521',\n",
       " '20230522',\n",
       " '20230523',\n",
       " '20230524',\n",
       " '20230525',\n",
       " '20230526',\n",
       " '20230527',\n",
       " '20230528',\n",
       " '20230529',\n",
       " '20230530',\n",
       " '20230531',\n",
       " '20230601']"
      ]
     },
     "execution_count": 20,
     "metadata": {},
     "output_type": "execute_result"
    }
   ],
   "source": [
    "dates_toUse = natsort.natsorted([Path(p).parts[-4] for p in paths_found])\n",
    "dates_toUse"
   ]
  },
  {
   "cell_type": "code",
   "execution_count": 59,
   "id": "c042f6c7",
   "metadata": {},
   "outputs": [],
   "source": [
    "dates_toUse = [\n",
    "#     '20230430',\n",
    "#     '20230501',\n",
    "#     '20230502',\n",
    "    '20230503',\n",
    "#     '20230504',\n",
    "    '20230505',\n",
    "    '20230506',\n",
    "#     '20230507',\n",
    "#     '20230508',\n",
    "#     '20230509',\n",
    "    '20230510',\n",
    "#     '20230511',\n",
    "    '20230512',\n",
    "#     '20230514',\n",
    "#     '20230515',\n",
    "    '20230516',\n",
    "#     '20230517',\n",
    "#     '20230518',\n",
    "#     '20230519',\n",
    "#     '20230520',\n",
    "#     '20230521',\n",
    "#     '20230522',\n",
    "    '20230523',\n",
    "    '20230524',\n",
    "    '20230525',\n",
    "    '20230526',\n",
    "#     '20230527',\n",
    "#     '20230528',\n",
    "#     '20230529',\n",
    "    '20230530',\n",
    "#     '20230531',\n",
    "#     '20230601',\n",
    "]"
   ]
  },
  {
   "cell_type": "markdown",
   "id": "25d75ecf",
   "metadata": {},
   "source": [
    "## Start a small interactive node"
   ]
  },
  {
   "cell_type": "code",
   "execution_count": 66,
   "id": "55034700",
   "metadata": {},
   "outputs": [
    {
     "name": "stdout",
     "output_type": "stream",
     "text": [
      "remote: Enumerating objects: 7, done.\u001b[K\r\n",
      "remote: Counting objects:  14% (1/7)\u001b[K\r",
      "remote: Counting objects:  28% (2/7)\u001b[K\r",
      "remote: Counting objects:  42% (3/7)\u001b[K\r",
      "remote: Counting objects:  57% (4/7)\u001b[K\r",
      "remote: Counting objects:  71% (5/7)\u001b[K\r",
      "remote: Counting objects:  85% (6/7)\u001b[K\r",
      "remote: Counting objects: 100% (7/7)\u001b[K\r",
      "remote: Counting objects: 100% (7/7), done.\u001b[K\r\n",
      "remote: Compressing objects: 100% (1/1)\u001b[K\r",
      "remote: Compressing objects: 100% (1/1), done.\u001b[K\r\n",
      "remote: Total 4 (delta 3), reused 4 (delta 3), pack-reused 0\u001b[K\r\n",
      "Unpacking objects:  25% (1/4)   \r",
      "Unpacking objects:  50% (2/4)   \r",
      "Unpacking objects:  75% (3/4)   \r",
      "Unpacking objects: 100% (4/4)   \r",
      "Unpacking objects: 100% (4/4), done.\r\n",
      "From https://github.com/RichieHakim/NBAP\r\n",
      "   f197eeb..e767517  main       -> origin/main\r\n",
      "Updating f197eeb..e767517\r\n",
      "Fast-forward\r\n",
      " behavioral_drift_analysis/1_make_consistent_fr_factors.py | 2 +-\r\n",
      " 1 file changed, 1 insertion(+), 1 deletion(-)\r\n",
      "(base) [rh183@login03 NBAP]$ \n"
     ]
    }
   ],
   "source": [
    "send_expect(f'srun --pty -p interactive -t 0-00:30:00 --mem=4G /bin/bash');"
   ]
  },
  {
   "cell_type": "markdown",
   "id": "0cd3c682",
   "metadata": {},
   "source": [
    "## Pull/update repo"
   ]
  },
  {
   "cell_type": "code",
   "execution_count": 65,
   "id": "3dd85431",
   "metadata": {},
   "outputs": [
    {
     "name": "stdout",
     "output_type": "stream",
     "text": [
      "rtual_envs/FRum_     mouse_0322N_0530     /n/data1/hms/neurobio/sabatini/rich/vi \n",
      "dispatcher environment: /n/data1/hms/neurobio/sabatini/rich/virtual_envs/FR\n",
      "Copying /n/data1/hms/neurobio/sabatini/rich/github_repos/NBAP/behavioral_drift_analysis/1_make_consistent_fr_factors.py to /n/data1/hms/neurobio/sabatini/rich/analysis/faceRhythm/mouse_0322N/run_20230701/20230530/aligned_TCA/1_make_consistent_fr_factors.py\n",
      "Submitting job: jobNum_ 0\n",
      "Submitted batch job 12686423\n",
      "AP]$ srun: Force Terminated job 12686091tual_envs/FR) [rh183@compute-e-16-233 NBA\n",
      "slurmstepd: error: *** STEP 12686091.0 ON compute-e-16-233 CANCELLED AT 2023-07-11T18:30:33 DUE TO TIME LIMIT ***\n",
      "srun: Job step aborted: Waiting up to 62 seconds for job step to finish.\n",
      "srun: error: compute-e-16-233: task 0: Killed\n",
      "(base) [rh183@login03 ~]$ \n",
      "AP /n/data1/hms/neurobio/sabatini/rich/github_repos/NB \n",
      "\n",
      "git pull\n",
      "(base) [rh183@login03 NBAP]$ git pull\n",
      "\n"
     ]
    }
   ],
   "source": [
    "send_expect('cd /n/data1/hms/neurobio/sabatini/rich/github_repos/NBAP')\n",
    "send_expect('git pull');"
   ]
  },
  {
   "cell_type": "markdown",
   "id": "4ef493c1",
   "metadata": {},
   "source": [
    "## Activate environment"
   ]
  },
  {
   "cell_type": "code",
   "execution_count": 67,
   "id": "be246a7a",
   "metadata": {},
   "outputs": [
    {
     "name": "stdout",
     "output_type": "stream",
     "text": [
      "in/bashpty -p interactive -t 0-00:30:00 --mem=4G /b \n",
      "\n",
      "conda activate /n/data1/hms/neurobio/sabatini/rich/virtual_envs/FR\n",
      "\n",
      "srun: job 12693310 queued and waiting for resources\n",
      "\n",
      "srun: job 12693310 has been allocated resources\n",
      "\n",
      "conda activate /n/data1/hms/neurobio/sabatini/rich/virtual_envs/FR\n",
      "\n",
      "(base) [rh183@compute-a-16-161 NBAP]$ \n"
     ]
    }
   ],
   "source": [
    "name_env = '/n/data1/hms/neurobio/sabatini/rich/virtual_envs/FR'\n",
    "\n",
    "send_expect(f'conda activate {name_env}');"
   ]
  },
  {
   "cell_type": "markdown",
   "id": "31ce097b",
   "metadata": {},
   "source": [
    "## Prepare commands"
   ]
  },
  {
   "cell_type": "code",
   "execution_count": 68,
   "id": "bea9dd44",
   "metadata": {},
   "outputs": [
    {
     "data": {
      "text/plain": [
       "{'dispatch': '    python3     /n/data1/hms/neurobio/sabatini/rich/analysis/faceRhythm/mouse_0322N/run_20230701/20230503/aligned_TCA/dispatcher.py     /n/data1/hms/neurobio/sabatini/rich/github_repos/NBAP/behavioral_drift_analysis/1_make_consistent_fr_factors.py     /n/data1/hms/neurobio/sabatini/rich/analysis/faceRhythm/mouse_0322N/run_20230701/20230503/aligned_TCA     /n/data1/hms/neurobio/sabatini/rich/analysis/faceRhythm/mouse_0322N/run_20230701/20230430/jobNum_0     /n/data1/hms/neurobio/sabatini/rich/analysis/faceRhythm/mouse_0322N/run_20230701/20230503/jobNum_0     jobNum_     mouse_0322N_0503     /n/data1/hms/neurobio/sabatini/rich/virtual_envs/FR'}"
      ]
     },
     "metadata": {},
     "output_type": "display_data"
    },
    {
     "name": "stdout",
     "output_type": "stream",
     "text": [
      "conda activate /n/data1/hms/neurobio/sabat \r",
      "ini/rich/virtual_envs/FR\r\n",
      "(/n/data1/hms/neurobio/sabatini/rich/virtual_envs/FR) [rh183@compute-a-16-161 NBA\r",
      "AP]$ \n"
     ]
    },
    {
     "data": {
      "text/plain": [
       "{'dispatch': '    python3     /n/data1/hms/neurobio/sabatini/rich/analysis/faceRhythm/mouse_0322N/run_20230701/20230505/aligned_TCA/dispatcher.py     /n/data1/hms/neurobio/sabatini/rich/github_repos/NBAP/behavioral_drift_analysis/1_make_consistent_fr_factors.py     /n/data1/hms/neurobio/sabatini/rich/analysis/faceRhythm/mouse_0322N/run_20230701/20230505/aligned_TCA     /n/data1/hms/neurobio/sabatini/rich/analysis/faceRhythm/mouse_0322N/run_20230701/20230430/jobNum_0     /n/data1/hms/neurobio/sabatini/rich/analysis/faceRhythm/mouse_0322N/run_20230701/20230505/jobNum_0     jobNum_     mouse_0322N_0505     /n/data1/hms/neurobio/sabatini/rich/virtual_envs/FR'}"
      ]
     },
     "metadata": {},
     "output_type": "display_data"
    },
    {
     "name": "stdout",
     "output_type": "stream",
     "text": [
      "rtual_envs/FRum_     mouse_0322N_0503     /n/data1/hms/neurobio/sabatini/rich/vi \n",
      "\n",
      "    python3     /n/data1/hms/neurobio/sabatini/rich/analysis/faceRhythm/mouse_0322N/run_20230701/20230505/aligned_TCA/dispatcher.py     /n/data1/hms/neurobio/sabatini/rich/github_repos/NBAP/behavioral_drift_analysis/1_make_consistent_fr_factors.py     /n/data1/hms/neurobio/sabatini/rich/analysis/faceRhythm/mouse_0322N/run_20230701/20230505/aligned_TCA     /n/data1/hms/neurobio/sabatini/rich/analysis/faceRhythm/mouse_0322N/run_20230701/20230430/jobNum_0     /n/data1/hms/neurobio/sabatini/rich/analysis/faceRhythm/mouse_0322N/run_20230701/20230505/jobNum_0     jobNum_     mouse_0322N_0505     /n/data1/hms/neurobio/sabatini/rich/virtual_envs/FR\n",
      "\n",
      "dispatcher environment: /n/data1/hms/neurobio/sabatini/rich/virtual_envs/FR\n",
      "\n",
      "Copying /n/data1/hms/neurobio/sabatini/rich/github_repos/NBAP/behavioral_drift_analysis/1_make_consistent_fr_factors.py to /n/data1/hms/neurobio/sabatini/rich/analysis/faceRhythm/mouse_0322N/run_20230701/20230503/aligned_TCA/1_make_consistent_fr_factors.py\n",
      "Submitting job: jobNum_ 0\n",
      "\n",
      "Submitted batch job 12693311\n",
      "\n",
      "AP]$     pyts/neurobio/sabatini/rich/virtual_envs/FR) [rh183@compute-a-16-161 NBA\n"
     ]
    },
    {
     "data": {
      "text/plain": [
       "{'dispatch': '    python3     /n/data1/hms/neurobio/sabatini/rich/analysis/faceRhythm/mouse_0322N/run_20230701/20230506/aligned_TCA/dispatcher.py     /n/data1/hms/neurobio/sabatini/rich/github_repos/NBAP/behavioral_drift_analysis/1_make_consistent_fr_factors.py     /n/data1/hms/neurobio/sabatini/rich/analysis/faceRhythm/mouse_0322N/run_20230701/20230506/aligned_TCA     /n/data1/hms/neurobio/sabatini/rich/analysis/faceRhythm/mouse_0322N/run_20230701/20230430/jobNum_0     /n/data1/hms/neurobio/sabatini/rich/analysis/faceRhythm/mouse_0322N/run_20230701/20230506/jobNum_0     jobNum_     mouse_0322N_0506     /n/data1/hms/neurobio/sabatini/rich/virtual_envs/FR'}"
      ]
     },
     "metadata": {},
     "output_type": "display_data"
    },
    {
     "name": "stdout",
     "output_type": "stream",
     "text": [
      "rtual_envs/FRum_     mouse_0322N_0505     /n/data1/hms/neurobio/sabatini/rich/vi \n",
      "dispatcher environment: /n/data1/hms/neurobio/sabatini/rich/virtual_envs/FR\n",
      "\n",
      "    python3     /n/data1/hms/neurobio/sabatini/rich/analysis/faceRhythm/mouse_0322N/run_20230701/20230506/aligned_TCA/dispatcher.py     /n/data1/hms/neurobio/sabatini/rich/github_repos/NBAP/behavioral_drift_analysis/1_make_consistent_fr_factors.py     /n/data1/hms/neurobio/sabatini/rich/analysis/faceRhythm/mouse_0322N/run_20230701/20230506/aligned_TCA     /n/data1/hms/neurobio/sabatini/rich/analysis/faceRhythm/mouse_0322N/run_20230701/20230430/jobNum_0     /n/data1/hms/neurobio/sabatini/rich/analysis/faceRhythm/mouse_0322N/run_20230701/20230506/jobNum_0     jobNum_     mouse_0322N_0506     /n/data1/hms/neurobio/sabatini/rich/virtual_envs/FR\n",
      "\n",
      "Copying /n/data1/hms/neurobio/sabatini/rich/github_repos/NBAP/behavioral_drift_analysis/1_make_consistent_fr_factors.py to /n/data1/hms/neurobio/sabatini/rich/analysis/faceRhythm/mouse_0322N/run_20230701/20230505/aligned_TCA/1_make_consistent_fr_factors.py\n",
      "\n",
      "Submitting job: jobNum_ 0\n",
      "\n",
      "Submitted batch job 12693312\n",
      "\n",
      "rtual_envs/FRum_     mouse_0322N_0506     /n/data1/hms/neurobio/sabatini/rich/vi \n",
      "\n"
     ]
    },
    {
     "data": {
      "text/plain": [
       "{'dispatch': '    python3     /n/data1/hms/neurobio/sabatini/rich/analysis/faceRhythm/mouse_0322N/run_20230701/20230510/aligned_TCA/dispatcher.py     /n/data1/hms/neurobio/sabatini/rich/github_repos/NBAP/behavioral_drift_analysis/1_make_consistent_fr_factors.py     /n/data1/hms/neurobio/sabatini/rich/analysis/faceRhythm/mouse_0322N/run_20230701/20230510/aligned_TCA     /n/data1/hms/neurobio/sabatini/rich/analysis/faceRhythm/mouse_0322N/run_20230701/20230430/jobNum_0     /n/data1/hms/neurobio/sabatini/rich/analysis/faceRhythm/mouse_0322N/run_20230701/20230510/jobNum_0     jobNum_     mouse_0322N_0510     /n/data1/hms/neurobio/sabatini/rich/virtual_envs/FR'}"
      ]
     },
     "metadata": {},
     "output_type": "display_data"
    },
    {
     "name": "stdout",
     "output_type": "stream",
     "text": [
      "dispatcher environment: /n/data1/hms/neurobio/sabatini/rich/virtual_envs/FR\n",
      "\n",
      "    python3     /n/data1/hms/neurobio/sabatini/rich/analysis/faceRhythm/mouse_0322N/run_20230701/20230510/aligned_TCA/dispatcher.py     /n/data1/hms/neurobio/sabatini/rich/github_repos/NBAP/behavioral_drift_analysis/1_make_consistent_fr_factors.py     /n/data1/hms/neurobio/sabatini/rich/analysis/faceRhythm/mouse_0322N/run_20230701/20230510/aligned_TCA     /n/data1/hms/neurobio/sabatini/rich/analysis/faceRhythm/mouse_0322N/run_20230701/20230430/jobNum_0     /n/data1/hms/neurobio/sabatini/rich/analysis/faceRhythm/mouse_0322N/run_20230701/20230510/jobNum_0     jobNum_     mouse_0322N_0510     /n/data1/hms/neurobio/sabatini/rich/virtual_envs/FR\n",
      "\n",
      "Copying /n/data1/hms/neurobio/sabatini/rich/github_repos/NBAP/behavioral_drift_analysis/1_make_consistent_fr_factors.py to /n/data1/hms/neurobio/sabatini/rich/analysis/faceRhythm/mouse_0322N/run_20230701/20230506/aligned_TCA/1_make_consistent_fr_factors.py\n",
      "\n",
      "Submitting job: jobNum_ 0\n",
      "\n",
      "Submitted batch job 12693364\n",
      "\n",
      "rtual_envs/FRum_     mouse_0322N_0510     /n/data1/hms/neurobio/sabatini/rich/vi \n",
      "\n"
     ]
    },
    {
     "data": {
      "text/plain": [
       "{'dispatch': '    python3     /n/data1/hms/neurobio/sabatini/rich/analysis/faceRhythm/mouse_0322N/run_20230701/20230512/aligned_TCA/dispatcher.py     /n/data1/hms/neurobio/sabatini/rich/github_repos/NBAP/behavioral_drift_analysis/1_make_consistent_fr_factors.py     /n/data1/hms/neurobio/sabatini/rich/analysis/faceRhythm/mouse_0322N/run_20230701/20230512/aligned_TCA     /n/data1/hms/neurobio/sabatini/rich/analysis/faceRhythm/mouse_0322N/run_20230701/20230430/jobNum_0     /n/data1/hms/neurobio/sabatini/rich/analysis/faceRhythm/mouse_0322N/run_20230701/20230512/jobNum_0     jobNum_     mouse_0322N_0512     /n/data1/hms/neurobio/sabatini/rich/virtual_envs/FR'}"
      ]
     },
     "metadata": {},
     "output_type": "display_data"
    },
    {
     "name": "stdout",
     "output_type": "stream",
     "text": [
      "dispatcher environment: /n/data1/hms/neurobio/sabatini/rich/virtual_envs/FR\n",
      "\n",
      "    python3     /n/data1/hms/neurobio/sabatini/rich/analysis/faceRhythm/mouse_0322N/run_20230701/20230512/aligned_TCA/dispatcher.py     /n/data1/hms/neurobio/sabatini/rich/github_repos/NBAP/behavioral_drift_analysis/1_make_consistent_fr_factors.py     /n/data1/hms/neurobio/sabatini/rich/analysis/faceRhythm/mouse_0322N/run_20230701/20230512/aligned_TCA     /n/data1/hms/neurobio/sabatini/rich/analysis/faceRhythm/mouse_0322N/run_20230701/20230430/jobNum_0     /n/data1/hms/neurobio/sabatini/rich/analysis/faceRhythm/mouse_0322N/run_20230701/20230512/jobNum_0     jobNum_     mouse_0322N_0512     /n/data1/hms/neurobio/sabatini/rich/virtual_envs/FR\n",
      "\n",
      "Copying /n/data1/hms/neurobio/sabatini/rich/github_repos/NBAP/behavioral_drift_analysis/1_make_consistent_fr_factors.py to /n/data1/hms/neurobio/sabatini/rich/analysis/faceRhythm/mouse_0322N/run_20230701/20230510/aligned_TCA/1_make_consistent_fr_factors.py\n",
      "Submitting job: jobNum_ 0\n",
      "\n",
      "Submitted batch job 12693365\n",
      "\n",
      "rtual_envs/FRum_     mouse_0322N_0512     /n/data1/hms/neurobio/sabatini/rich/vi \n",
      "\n"
     ]
    },
    {
     "data": {
      "text/plain": [
       "{'dispatch': '    python3     /n/data1/hms/neurobio/sabatini/rich/analysis/faceRhythm/mouse_0322N/run_20230701/20230516/aligned_TCA/dispatcher.py     /n/data1/hms/neurobio/sabatini/rich/github_repos/NBAP/behavioral_drift_analysis/1_make_consistent_fr_factors.py     /n/data1/hms/neurobio/sabatini/rich/analysis/faceRhythm/mouse_0322N/run_20230701/20230516/aligned_TCA     /n/data1/hms/neurobio/sabatini/rich/analysis/faceRhythm/mouse_0322N/run_20230701/20230430/jobNum_0     /n/data1/hms/neurobio/sabatini/rich/analysis/faceRhythm/mouse_0322N/run_20230701/20230516/jobNum_0     jobNum_     mouse_0322N_0516     /n/data1/hms/neurobio/sabatini/rich/virtual_envs/FR'}"
      ]
     },
     "metadata": {},
     "output_type": "display_data"
    },
    {
     "name": "stdout",
     "output_type": "stream",
     "text": [
      "dispatcher environment: /n/data1/hms/neurobio/sabatini/rich/virtual_envs/FR\n",
      "\n",
      "    python3     /n/data1/hms/neurobio/sabatini/rich/analysis/faceRhythm/mouse_0322N/run_20230701/20230516/aligned_TCA/dispatcher.py     /n/data1/hms/neurobio/sabatini/rich/github_repos/NBAP/behavioral_drift_analysis/1_make_consistent_fr_factors.py     /n/data1/hms/neurobio/sabatini/rich/analysis/faceRhythm/mouse_0322N/run_20230701/20230516/aligned_TCA     /n/data1/hms/neurobio/sabatini/rich/analysis/faceRhythm/mouse_0322N/run_20230701/20230430/jobNum_0     /n/data1/hms/neurobio/sabatini/rich/analysis/faceRhythm/mouse_0322N/run_20230701/20230516/jobNum_0     jobNum_     mouse_0322N_0516     /n/data1/hms/neurobio/sabatini/rich/virtual_envs/FR\n",
      "\n",
      "Copying /n/data1/hms/neurobio/sabatini/rich/github_repos/NBAP/behavioral_drift_analysis/1_make_consistent_fr_factors.py to /n/data1/hms/neurobio/sabatini/rich/analysis/faceRhythm/mouse_0322N/run_20230701/20230512/aligned_TCA/1_make_consistent_fr_factors.py\n",
      "\n",
      "Submitting job: jobNum_ 0\n",
      "\n",
      "Submitted batch job 12693366\n",
      "\n",
      "rtual_envs/FRum_     mouse_0322N_0516     /n/data1/hms/neurobio/sabatini/rich/vi \n",
      "\n"
     ]
    },
    {
     "data": {
      "text/plain": [
       "{'dispatch': '    python3     /n/data1/hms/neurobio/sabatini/rich/analysis/faceRhythm/mouse_0322N/run_20230701/20230523/aligned_TCA/dispatcher.py     /n/data1/hms/neurobio/sabatini/rich/github_repos/NBAP/behavioral_drift_analysis/1_make_consistent_fr_factors.py     /n/data1/hms/neurobio/sabatini/rich/analysis/faceRhythm/mouse_0322N/run_20230701/20230523/aligned_TCA     /n/data1/hms/neurobio/sabatini/rich/analysis/faceRhythm/mouse_0322N/run_20230701/20230430/jobNum_0     /n/data1/hms/neurobio/sabatini/rich/analysis/faceRhythm/mouse_0322N/run_20230701/20230523/jobNum_0     jobNum_     mouse_0322N_0523     /n/data1/hms/neurobio/sabatini/rich/virtual_envs/FR'}"
      ]
     },
     "metadata": {},
     "output_type": "display_data"
    },
    {
     "name": "stdout",
     "output_type": "stream",
     "text": [
      "dispatcher environment: /n/data1/hms/neurobio/sabatini/rich/virtual_envs/FR\n",
      "\n",
      "    python3     /n/data1/hms/neurobio/sabatini/rich/analysis/faceRhythm/mouse_0322N/run_20230701/20230523/aligned_TCA/dispatcher.py     /n/data1/hms/neurobio/sabatini/rich/github_repos/NBAP/behavioral_drift_analysis/1_make_consistent_fr_factors.py     /n/data1/hms/neurobio/sabatini/rich/analysis/faceRhythm/mouse_0322N/run_20230701/20230523/aligned_TCA     /n/data1/hms/neurobio/sabatini/rich/analysis/faceRhythm/mouse_0322N/run_20230701/20230430/jobNum_0     /n/data1/hms/neurobio/sabatini/rich/analysis/faceRhythm/mouse_0322N/run_20230701/20230523/jobNum_0     jobNum_     mouse_0322N_0523     /n/data1/hms/neurobio/sabatini/rich/virtual_envs/FR\n",
      "\n",
      "Copying /n/data1/hms/neurobio/sabatini/rich/github_repos/NBAP/behavioral_drift_analysis/1_make_consistent_fr_factors.py to /n/data1/hms/neurobio/sabatini/rich/analysis/faceRhythm/mouse_0322N/run_20230701/20230516/aligned_TCA/1_make_consistent_fr_factors.py\n",
      "\n",
      "Submitting job: jobNum_ 0\n",
      "\n",
      "Submitted batch job 12693367\n",
      "\n",
      "rtual_envs/FRum_     mouse_0322N_0523     /n/data1/hms/neurobio/sabatini/rich/vi \n",
      "\n"
     ]
    },
    {
     "data": {
      "text/plain": [
       "{'dispatch': '    python3     /n/data1/hms/neurobio/sabatini/rich/analysis/faceRhythm/mouse_0322N/run_20230701/20230524/aligned_TCA/dispatcher.py     /n/data1/hms/neurobio/sabatini/rich/github_repos/NBAP/behavioral_drift_analysis/1_make_consistent_fr_factors.py     /n/data1/hms/neurobio/sabatini/rich/analysis/faceRhythm/mouse_0322N/run_20230701/20230524/aligned_TCA     /n/data1/hms/neurobio/sabatini/rich/analysis/faceRhythm/mouse_0322N/run_20230701/20230430/jobNum_0     /n/data1/hms/neurobio/sabatini/rich/analysis/faceRhythm/mouse_0322N/run_20230701/20230524/jobNum_0     jobNum_     mouse_0322N_0524     /n/data1/hms/neurobio/sabatini/rich/virtual_envs/FR'}"
      ]
     },
     "metadata": {},
     "output_type": "display_data"
    },
    {
     "name": "stdout",
     "output_type": "stream",
     "text": [
      "dispatcher environment: /n/data1/hms/neurobio/sabatini/rich/virtual_envs/FR\n",
      "\n",
      "    python3     /n/data1/hms/neurobio/sabatini/rich/analysis/faceRhythm/mouse_0322N/run_20230701/20230524/aligned_TCA/dispatcher.py     /n/data1/hms/neurobio/sabatini/rich/github_repos/NBAP/behavioral_drift_analysis/1_make_consistent_fr_factors.py     /n/data1/hms/neurobio/sabatini/rich/analysis/faceRhythm/mouse_0322N/run_20230701/20230524/aligned_TCA     /n/data1/hms/neurobio/sabatini/rich/analysis/faceRhythm/mouse_0322N/run_20230701/20230430/jobNum_0     /n/data1/hms/neurobio/sabatini/rich/analysis/faceRhythm/mouse_0322N/run_20230701/20230524/jobNum_0     jobNum_     mouse_0322N_0524     /n/data1/hms/neurobio/sabatini/rich/virtual_envs/FR\n",
      "\n",
      "Copying /n/data1/hms/neurobio/sabatini/rich/github_repos/NBAP/behavioral_drift_analysis/1_make_consistent_fr_factors.py to /n/data1/hms/neurobio/sabatini/rich/analysis/faceRhythm/mouse_0322N/run_20230701/20230523/aligned_TCA/1_make_consistent_fr_factors.py\n",
      "Submitting job: jobNum_ 0\n",
      "\n",
      "Submitted batch job 12693368\n",
      "\n",
      "rtual_envs/FRum_     mouse_0322N_0524     /n/data1/hms/neurobio/sabatini/rich/vi \n",
      "\n"
     ]
    },
    {
     "data": {
      "text/plain": [
       "{'dispatch': '    python3     /n/data1/hms/neurobio/sabatini/rich/analysis/faceRhythm/mouse_0322N/run_20230701/20230525/aligned_TCA/dispatcher.py     /n/data1/hms/neurobio/sabatini/rich/github_repos/NBAP/behavioral_drift_analysis/1_make_consistent_fr_factors.py     /n/data1/hms/neurobio/sabatini/rich/analysis/faceRhythm/mouse_0322N/run_20230701/20230525/aligned_TCA     /n/data1/hms/neurobio/sabatini/rich/analysis/faceRhythm/mouse_0322N/run_20230701/20230430/jobNum_0     /n/data1/hms/neurobio/sabatini/rich/analysis/faceRhythm/mouse_0322N/run_20230701/20230525/jobNum_0     jobNum_     mouse_0322N_0525     /n/data1/hms/neurobio/sabatini/rich/virtual_envs/FR'}"
      ]
     },
     "metadata": {},
     "output_type": "display_data"
    },
    {
     "name": "stdout",
     "output_type": "stream",
     "text": [
      "dispatcher environment: /n/data1/hms/neurobio/sabatini/rich/virtual_envs/FR\n",
      "\n",
      "    python3     /n/data1/hms/neurobio/sabatini/rich/analysis/faceRhythm/mouse_0322N/run_20230701/20230525/aligned_TCA/dispatcher.py     /n/data1/hms/neurobio/sabatini/rich/github_repos/NBAP/behavioral_drift_analysis/1_make_consistent_fr_factors.py     /n/data1/hms/neurobio/sabatini/rich/analysis/faceRhythm/mouse_0322N/run_20230701/20230525/aligned_TCA     /n/data1/hms/neurobio/sabatini/rich/analysis/faceRhythm/mouse_0322N/run_20230701/20230430/jobNum_0     /n/data1/hms/neurobio/sabatini/rich/analysis/faceRhythm/mouse_0322N/run_20230701/20230525/jobNum_0     jobNum_     mouse_0322N_0525     /n/data1/hms/neurobio/sabatini/rich/virtual_envs/FR\n",
      "\n",
      "Copying /n/data1/hms/neurobio/sabatini/rich/github_repos/NBAP/behavioral_drift_analysis/1_make_consistent_fr_factors.py to /n/data1/hms/neurobio/sabatini/rich/analysis/faceRhythm/mouse_0322N/run_20230701/20230524/aligned_TCA/1_make_consistent_fr_factors.py\n",
      "\n",
      "Submitting job: jobNum_ 0\n",
      "\n",
      "Submitted batch job 12693370\n",
      "\n",
      "AP]$     pyth/neurobio/sabatini/rich/virtual_envs/FR) [rh183@compute-a-16-161 NBA\n"
     ]
    },
    {
     "data": {
      "text/plain": [
       "{'dispatch': '    python3     /n/data1/hms/neurobio/sabatini/rich/analysis/faceRhythm/mouse_0322N/run_20230701/20230526/aligned_TCA/dispatcher.py     /n/data1/hms/neurobio/sabatini/rich/github_repos/NBAP/behavioral_drift_analysis/1_make_consistent_fr_factors.py     /n/data1/hms/neurobio/sabatini/rich/analysis/faceRhythm/mouse_0322N/run_20230701/20230526/aligned_TCA     /n/data1/hms/neurobio/sabatini/rich/analysis/faceRhythm/mouse_0322N/run_20230701/20230430/jobNum_0     /n/data1/hms/neurobio/sabatini/rich/analysis/faceRhythm/mouse_0322N/run_20230701/20230526/jobNum_0     jobNum_     mouse_0322N_0526     /n/data1/hms/neurobio/sabatini/rich/virtual_envs/FR'}"
      ]
     },
     "metadata": {},
     "output_type": "display_data"
    },
    {
     "name": "stdout",
     "output_type": "stream",
     "text": [
      "rtual_envs/FRum_     mouse_0322N_0525     /n/data1/hms/neurobio/sabatini/rich/vi \n",
      "dispatcher environment: /n/data1/hms/neurobio/sabatini/rich/virtual_envs/FR\n",
      "\n",
      "    python3     /n/data1/hms/neurobio/sabatini/rich/analysis/faceRhythm/mouse_0322N/run_20230701/20230526/aligned_TCA/dispatcher.py     /n/data1/hms/neurobio/sabatini/rich/github_repos/NBAP/behavioral_drift_analysis/1_make_consistent_fr_factors.py     /n/data1/hms/neurobio/sabatini/rich/analysis/faceRhythm/mouse_0322N/run_20230701/20230526/aligned_TCA     /n/data1/hms/neurobio/sabatini/rich/analysis/faceRhythm/mouse_0322N/run_20230701/20230430/jobNum_0     /n/data1/hms/neurobio/sabatini/rich/analysis/faceRhythm/mouse_0322N/run_20230701/20230526/jobNum_0     jobNum_     mouse_0322N_0526     /n/data1/hms/neurobio/sabatini/rich/virtual_envs/FR\n",
      "\n",
      "Copying /n/data1/hms/neurobio/sabatini/rich/github_repos/NBAP/behavioral_drift_analysis/1_make_consistent_fr_factors.py to /n/data1/hms/neurobio/sabatini/rich/analysis/faceRhythm/mouse_0322N/run_20230701/20230525/aligned_TCA/1_make_consistent_fr_factors.py\n",
      "\n",
      "Submitting job: jobNum_ 0\n",
      "\n",
      "Submitted batch job 12693371\n",
      "\n",
      "AP]$     pythoneurobio/sabatini/rich/virtual_envs/FR) [rh183@compute-a-16-161 NBA\n"
     ]
    },
    {
     "data": {
      "text/plain": [
       "{'dispatch': '    python3     /n/data1/hms/neurobio/sabatini/rich/analysis/faceRhythm/mouse_0322N/run_20230701/20230530/aligned_TCA/dispatcher.py     /n/data1/hms/neurobio/sabatini/rich/github_repos/NBAP/behavioral_drift_analysis/1_make_consistent_fr_factors.py     /n/data1/hms/neurobio/sabatini/rich/analysis/faceRhythm/mouse_0322N/run_20230701/20230530/aligned_TCA     /n/data1/hms/neurobio/sabatini/rich/analysis/faceRhythm/mouse_0322N/run_20230701/20230430/jobNum_0     /n/data1/hms/neurobio/sabatini/rich/analysis/faceRhythm/mouse_0322N/run_20230701/20230530/jobNum_0     jobNum_     mouse_0322N_0530     /n/data1/hms/neurobio/sabatini/rich/virtual_envs/FR'}"
      ]
     },
     "metadata": {},
     "output_type": "display_data"
    },
    {
     "name": "stdout",
     "output_type": "stream",
     "text": [
      "rtual_envs/FRum_     mouse_0322N_0526     /n/data1/hms/neurobio/sabatini/rich/vi \n",
      "dispatcher environment: /n/data1/hms/neurobio/sabatini/rich/virtual_envs/FR\n",
      "\n",
      "    python3     /n/data1/hms/neurobio/sabatini/rich/analysis/faceRhythm/mouse_0322N/run_20230701/20230530/aligned_TCA/dispatcher.py     /n/data1/hms/neurobio/sabatini/rich/github_repos/NBAP/behavioral_drift_analysis/1_make_consistent_fr_factors.py     /n/data1/hms/neurobio/sabatini/rich/analysis/faceRhythm/mouse_0322N/run_20230701/20230530/aligned_TCA     /n/data1/hms/neurobio/sabatini/rich/analysis/faceRhythm/mouse_0322N/run_20230701/20230430/jobNum_0     /n/data1/hms/neurobio/sabatini/rich/analysis/faceRhythm/mouse_0322N/run_20230701/20230530/jobNum_0     jobNum_     mouse_0322N_0530     /n/data1/hms/neurobio/sabatini/rich/virtual_envs/FR\n",
      "\n",
      "Copying /n/data1/hms/neurobio/sabatini/rich/github_repos/NBAP/behavioral_drift_analysis/1_make_consistent_fr_factors.py to /n/data1/hms/neurobio/sabatini/rich/analysis/faceRhythm/mouse_0322N/run_20230701/20230526/aligned_TCA/1_make_consistent_fr_factors.py\n",
      "Submitting job: jobNum_ 0\n",
      "\n",
      "Submitted batch job 12693372\n",
      "\n",
      "rtual_envs/FRum_     mouse_0322N_0530     /n/data1/hms/neurobio/sabatini/rich/vi \n",
      "\n"
     ]
    }
   ],
   "source": [
    "for date in dates_toUse:\n",
    "\n",
    "    mouse = 'mouse_0322N'\n",
    "    # date = '20230501'\n",
    "\n",
    "    name_slurm = mouse + '_' + date[-4:]\n",
    "\n",
    "    dir_FR_template       = str(Path('/n/data1/hms/neurobio/sabatini/rich/analysis/faceRhythm') / mouse / 'run_20230701' / '20230430' / 'jobNum_0')\n",
    "    dir_FR_current        = str(Path('/n/data1/hms/neurobio/sabatini/rich/analysis/faceRhythm') / mouse / 'run_20230701' /  date / 'jobNum_0')\n",
    "\n",
    "    dir_saveOutputs = str(Path('/n/data1/hms/neurobio/sabatini/rich/analysis/faceRhythm') / mouse / 'run_20230701' / date / 'aligned_TCA')\n",
    "\n",
    "\n",
    "    name_job = 'jobNum_'\n",
    "\n",
    "\n",
    "    path_script_remote      = str(Path(r'/n/data1/hms/neurobio/sabatini/rich/github_repos/NBAP/behavioral_drift_analysis/1_make_consistent_fr_factors.py'))  ## path to a copy of the script (.py) file to run within the repo on the server\n",
    "\n",
    "    path_dispatcher_local   = str(Path(r'/media/rich/Home_Linux_partition/github_repos/NBAP/behavioral_drift_analysis/').resolve() / 'dispatcher.py')  ## path to the dispatcher.py file on local computer\n",
    "    path_dispatcher_remote  = (Path(dir_saveOutputs) / 'dispatcher.py').as_posix()  ## path to where you want the dispatcher.py file to be copied onto the server\n",
    "\n",
    "    ## Expectation for dispatch args: \n",
    "    # path_script, dir_save, dir_videos, dir_ROIs, name_job, name_slurm, name_env\n",
    "\n",
    "\n",
    "    commands = {\n",
    "    #     'make_dir': f\"mkdir -p {dir_data_remote}\",\n",
    "    #     'copy': f\"cp -r {dir_s2p_MICROSCOPE} {dir_data_remote}\",\n",
    "    #     'dispatch': f\"python {str(path_dispatcher_remote)} {dir_saveOutputs} {path_script_remote} {name_job} {name_slurm} {dir_videos}\",  ## dispatcher expecting these args as inputs\n",
    "    'dispatch': f\"\\\n",
    "    python3 \\\n",
    "    {path_dispatcher_remote} \\\n",
    "    {path_script_remote} \\\n",
    "    {dir_saveOutputs} \\\n",
    "    {dir_FR_template} \\\n",
    "    {dir_FR_current} \\\n",
    "    {name_job} \\\n",
    "    {name_slurm} \\\n",
    "    {name_env}\",\n",
    "    }\n",
    "    display(commands)\n",
    "    \n",
    "    sftp.mkdir_p(str(Path(path_dispatcher_remote).parent))\n",
    "    sftp.sftp.put(str(path_dispatcher_local), str(path_dispatcher_remote));\n",
    "    \n",
    "    send_expect(commands['dispatch']);"
   ]
  },
  {
   "cell_type": "code",
   "execution_count": null,
   "id": "db820236",
   "metadata": {},
   "outputs": [],
   "source": []
  },
  {
   "cell_type": "markdown",
   "id": "69017000",
   "metadata": {},
   "source": [
    "## Run with serverteeny"
   ]
  },
  {
   "cell_type": "raw",
   "id": "0742b985",
   "metadata": {},
   "source": [
    "send_expect(f\"chmod 777 {path_dispatcher_remote}\")"
   ]
  },
  {
   "cell_type": "code",
   "execution_count": 257,
   "id": "fe20f01d",
   "metadata": {},
   "outputs": [],
   "source": [
    "run_file = {\n",
    "    \"name\": \"Rich\",\n",
    "    \"o2_acct\": \"shl143\",\n",
    "    \"notes\": \"testing serverteeny for FR\",\n",
    "    \"command\": f\"sbatch /n/data1/hms/neurobio/sabatini/rich/serverteeny_submitter.sh {commands['dispatch']}\",\n",
    "}"
   ]
  },
  {
   "cell_type": "code",
   "execution_count": 258,
   "id": "1430b34a",
   "metadata": {},
   "outputs": [],
   "source": [
    "path_temp = str(Path(tempfile.gettempdir()) / 'run.json')\n",
    "bnpm.file_helpers.json_save(\n",
    "    obj=run_file,\n",
    "    filepath=path_temp,\n",
    ")"
   ]
  },
  {
   "cell_type": "code",
   "execution_count": 259,
   "id": "5ffdaff6",
   "metadata": {},
   "outputs": [],
   "source": [
    "sftp.sftp.put(\n",
    "    localpath=path_temp,\n",
    "    remotepath=str(Path('/n/data1/hms/neurobio/sabatini/serverteeny/run') / Path(path_temp).name),\n",
    ");"
   ]
  },
  {
   "cell_type": "markdown",
   "id": "e6ea7494",
   "metadata": {},
   "source": [
    "### check on job"
   ]
  },
  {
   "cell_type": "raw",
   "id": "90c33075",
   "metadata": {
    "scrolled": true
   },
   "source": [
    "ssh_c.send_expect(f'squeue -u {username} --Format=jobid,name,partition,state,timeused,starttime,timelimit,reasonlist,minmemory,mincpus,gres');"
   ]
  },
  {
   "cell_type": "markdown",
   "id": "33600579",
   "metadata": {},
   "source": [
    "## Clean up"
   ]
  },
  {
   "cell_type": "code",
   "execution_count": null,
   "id": "b31f6bcb",
   "metadata": {},
   "outputs": [],
   "source": [
    "## delete password\n",
    "del pw\n",
    "gc.collect()\n",
    "\n",
    "## close sftp\n",
    "if sftp: sftp.close()\n",
    "if transport: transport.close()\n",
    "del sftp\n",
    "del transport\n",
    "    \n",
    "## close ssh\n",
    "ssh_t.close()\n",
    "del ssh_t\n",
    "ssh_c.close()\n",
    "del ssh_c\n",
    "gc.collect()"
   ]
  },
  {
   "cell_type": "code",
   "execution_count": null,
   "id": "b1e29db0",
   "metadata": {},
   "outputs": [],
   "source": []
  },
  {
   "cell_type": "code",
   "execution_count": null,
   "id": "a2ee21fd",
   "metadata": {},
   "outputs": [],
   "source": []
  }
 ],
 "metadata": {
  "kernelspec": {
   "display_name": "Python 3 (ipykernel)",
   "language": "python",
   "name": "python3"
  },
  "language_info": {
   "codemirror_mode": {
    "name": "ipython",
    "version": 3
   },
   "file_extension": ".py",
   "mimetype": "text/x-python",
   "name": "python",
   "nbconvert_exporter": "python",
   "pygments_lexer": "ipython3",
   "version": "3.11.3"
  }
 },
 "nbformat": 4,
 "nbformat_minor": 5
}
