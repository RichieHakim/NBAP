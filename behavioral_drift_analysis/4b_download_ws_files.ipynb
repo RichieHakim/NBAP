{
 "cells": [
  {
   "cell_type": "code",
   "execution_count": 1,
   "id": "659978f8",
   "metadata": {},
   "outputs": [
    {
     "data": {
      "text/html": [
       "<style>.container {width:100% !important; }</style>"
      ],
      "text/plain": [
       "<IPython.core.display.HTML object>"
      ]
     },
     "metadata": {},
     "output_type": "display_data"
    },
    {
     "name": "stdout",
     "output_type": "stream",
     "text": [
      "Conda Environment: roicat\n"
     ]
    }
   ],
   "source": [
    "# widen jupyter notebook window\n",
    "from IPython.display import display, HTML\n",
    "display(HTML(\"<style>.container {width:100% !important; }</style>\"))\n",
    "\n",
    "# check environment\n",
    "import os\n",
    "print(f'Conda Environment: ' + os.environ['CONDA_DEFAULT_ENV'])"
   ]
  },
  {
   "cell_type": "code",
   "execution_count": 2,
   "id": "e839eafa",
   "metadata": {},
   "outputs": [],
   "source": [
    "from pathlib import Path\n",
    "\n",
    "import natsort"
   ]
  },
  {
   "cell_type": "code",
   "execution_count": 3,
   "id": "3d5dd597",
   "metadata": {},
   "outputs": [],
   "source": [
    "%load_ext autoreload\n",
    "%autoreload 2\n",
    "import bnpm"
   ]
  },
  {
   "cell_type": "code",
   "execution_count": 4,
   "id": "0c01ec5a",
   "metadata": {},
   "outputs": [],
   "source": [
    "ssh_t = bnpm.server.ssh_interface()"
   ]
  },
  {
   "cell_type": "code",
   "execution_count": 6,
   "id": "32779def",
   "metadata": {},
   "outputs": [
    {
     "name": "stdout",
     "output_type": "stream",
     "text": [
      "Duo two-factor login for rh183\n",
      "\n",
      "Enter a passcode or select one of the following options:\n",
      "\n",
      " 1. Duo Push to XXX-XXX-4151\n",
      " 2. Duo Push to Android\n",
      " 3. Phone call to XXX-XXX-4151\n",
      " 4. SMS passcodes to XXX-XXX-4151\n",
      "\n",
      "Passcode or option (1-4): \n",
      "1\n",
      "\n",
      "\n",
      "\n",
      "Pushed a login request to your device...\n",
      "\n",
      "Please open Duo Mobile and check for Duo Push requests manually.\n",
      "\n",
      "Success. Logging you in...\n",
      "\n",
      "Welcome to O2 (Orchestra 2)!\n",
      "\u001b[32m\n",
      "   ___    ____\n",
      "  / _ \\  |___ \\\n",
      " | | | |   __) |\n",
      " | |_| |  / __/\n",
      "  \\___/  |_____|\n",
      "\n",
      "\u001b[0m\n",
      "You've landed on \u001b[33mtransfer05\u001b[0m which is a\n",
      "\u001b[33m4\u001b[0m core system with \u001b[33m7.62 GiB\u001b[0m memory\n",
      "running kernel \u001b[33m3.10.0\u001b[0m born on \u001b[33m2020-07-28\u001b[0m\n",
      "\n",
      "==== O2 ===================================================================\n",
      "\n",
      "  \u001b[31mNews (July 16 2023)\u001b[0m\n",
      "  \u001b[37m\n",
      "\n",
      "  +-------------------------------------------------------------------------------+\n",
      "  | ##########################  -> O2 Status <-   ############################### |\n",
      "  |                                                                               |\n",
      "  | * O2 Slurm maintenance in July was completed successful.\n",
      "  |   However, the filesystem /n/groups is not available at this time, all   |\n",
      "  |   other filesystems are available.                                            |\n",
      "  |                                                                               |\n",
      "  | * Any jobs submitted to O2 that requires the /n/groups filesystem will fail.  |\n",
      "  |   Please do not submit new jobs requiring access to /n/groups.                |\n",
      "  |   We are working to get /n/groups online ASAP. See our O2 Status page for     |\n",
      "  |   more information:                                                           |\n",
      "  |   - https://harvardmed.atlassian.net/wiki/x/KgBoXw                            |\n",
      "  |                                                                               |\n",
      "  | ########################  -> Try O2 Portal! <-  ############################# |\n",
      "  |                                                                               |\n",
      "  | * Access O2 via the web! Just point your web browser to the O2 Portal:        |\n",
      "  |   o2portal.rc.hms.harvard.edu and login with your O2 credentials.             |\n",
      "  |                                                                               |\n",
      "  | ** File browsing, editing, & transfer with only 1 DUO check per session       |\n",
      "  | ** Open multiple O2 terminals or even a full Linux desktop in your browser.   |\n",
      "  | ** Better support for graphical tools like Jupyter, RStudio, MATLAB, IGV      |\n",
      "  | More details at:                                                              |\n",
      "  | - https://harvardmed.atlassian.net/l/cp/YaiQpZKC                              |\n",
      "  +-------------------------------------------------------------------------------+\n",
      "\n",
      "  ------------------------------\n",
      "  Contact HMS Research Computing:\n",
      "\n",
      "  E-mail      rchelp@hms.harvard.edu\n",
      "  Web         it.hms.harvard.edu/rc\n",
      "  Twitter     @hms_rc\n",
      "\n",
      "===========================================================================\n",
      "\n",
      "\u001b[0m\n",
      "\n",
      "(base) [rh183@transfer05 ~]$ \n"
     ]
    }
   ],
   "source": [
    "ssh_t.o2_connect(password='')"
   ]
  },
  {
   "cell_type": "code",
   "execution_count": 7,
   "id": "34dad649",
   "metadata": {},
   "outputs": [],
   "source": [
    "sftp_t = bnpm.server.sftp_interface(ssh_client=ssh_t)"
   ]
  },
  {
   "cell_type": "code",
   "execution_count": 7,
   "id": "070d4942",
   "metadata": {},
   "outputs": [
    {
     "name": "stdout",
     "output_type": "stream",
     "text": [
      "/n/files/Neurobio/MICROSCOPE/Gyu/BMI_data/cage_0322/mouse_0322N/20230531/wavesurfer_data/exp_0001.h5\n",
      "/n/files/Neurobio/MICROSCOPE/Gyu/BMI_data/cage_0322/mouse_0322N/20230523/wavesurfer_data/exp_0001.h5\n",
      "/n/files/Neurobio/MICROSCOPE/Gyu/BMI_data/cage_0322/mouse_0322N/20230517/wavesurfer_data/exp_0001.h5\n",
      "/n/files/Neurobio/MICROSCOPE/Gyu/BMI_data/cage_0322/mouse_0322N/20230515/wavesurfer_data/exp_0001.h5\n",
      "/n/files/Neurobio/MICROSCOPE/Gyu/BMI_data/cage_0322/mouse_0322N/20230430/wavesurfer_data/exp_0001.h5\n",
      "/n/files/Neurobio/MICROSCOPE/Gyu/BMI_data/cage_0322/mouse_0322N/20230528/wavesurfer_data/exp_0001.h5\n",
      "/n/files/Neurobio/MICROSCOPE/Gyu/BMI_data/cage_0322/mouse_0322N/20230601/wavesurfer_data/exp_0001.h5\n",
      "/n/files/Neurobio/MICROSCOPE/Gyu/BMI_data/cage_0322/mouse_0322N/20230512/wavesurfer_data/exp_0001.h5\n",
      "/n/files/Neurobio/MICROSCOPE/Gyu/BMI_data/cage_0322/mouse_0322N/20230510/wavesurfer_data/exp_0001.h5\n",
      "/n/files/Neurobio/MICROSCOPE/Gyu/BMI_data/cage_0322/mouse_0322N/20230511/wavesurfer_data/exp_0001.h5\n",
      "/n/files/Neurobio/MICROSCOPE/Gyu/BMI_data/cage_0322/mouse_0322N/20230514/wavesurfer_data/exp_0001.h5\n",
      "/n/files/Neurobio/MICROSCOPE/Gyu/BMI_data/cage_0322/mouse_0322N/20230504/wavesurfer_data/exp_0001.h5\n",
      "/n/files/Neurobio/MICROSCOPE/Gyu/BMI_data/cage_0322/mouse_0322N/20230507/wavesurfer_data/exp_0001.h5\n",
      "/n/files/Neurobio/MICROSCOPE/Gyu/BMI_data/cage_0322/mouse_0322N/20230513/wavesurfer_data/exp_0001.h5\n",
      "/n/files/Neurobio/MICROSCOPE/Gyu/BMI_data/cage_0322/mouse_0322N/20230525/wavesurfer_data/exp_0002.h5\n",
      "/n/files/Neurobio/MICROSCOPE/Gyu/BMI_data/cage_0322/mouse_0322N/20230522/wavesurfer_data/exp_0001.h5\n",
      "/n/files/Neurobio/MICROSCOPE/Gyu/BMI_data/cage_0322/mouse_0322N/20230526/wavesurfer_data/exp_0001.h5\n",
      "/n/files/Neurobio/MICROSCOPE/Gyu/BMI_data/cage_0322/mouse_0322N/20230521/wavesurfer_data/exp_0001.h5\n",
      "/n/files/Neurobio/MICROSCOPE/Gyu/BMI_data/cage_0322/mouse_0322N/20230518/wavesurfer_data/exp_0001.h5\n",
      "/n/files/Neurobio/MICROSCOPE/Gyu/BMI_data/cage_0322/mouse_0322N/20230530/wavesurfer_data/exp_0001.h5\n",
      "/n/files/Neurobio/MICROSCOPE/Gyu/BMI_data/cage_0322/mouse_0322N/20230520/wavesurfer_data/exp_0001.h5\n",
      "/n/files/Neurobio/MICROSCOPE/Gyu/BMI_data/cage_0322/mouse_0322N/20230508/wavesurfer_data/exp_0001.h5\n",
      "/n/files/Neurobio/MICROSCOPE/Gyu/BMI_data/cage_0322/mouse_0322N/20230506/wavesurfer_data/exp_0001.h5\n",
      "/n/files/Neurobio/MICROSCOPE/Gyu/BMI_data/cage_0322/mouse_0322N/20230527/wavesurfer_data/exp_0001.h5\n",
      "/n/files/Neurobio/MICROSCOPE/Gyu/BMI_data/cage_0322/mouse_0322N/20230519/wavesurfer_data/exp_0001.h5\n",
      "/n/files/Neurobio/MICROSCOPE/Gyu/BMI_data/cage_0322/mouse_0322N/20230501/wavesurfer_data/exp_0001.h5\n",
      "/n/files/Neurobio/MICROSCOPE/Gyu/BMI_data/cage_0322/mouse_0322N/20230505/wavesurfer_data/exp_0001.h5\n",
      "/n/files/Neurobio/MICROSCOPE/Gyu/BMI_data/cage_0322/mouse_0322N/20230509/wavesurfer_data/exp_0001.h5\n",
      "/n/files/Neurobio/MICROSCOPE/Gyu/BMI_data/cage_0322/mouse_0322N/20230529/wavesurfer_data/exp_0001.h5\n",
      "/n/files/Neurobio/MICROSCOPE/Gyu/BMI_data/cage_0322/mouse_0322N/20230503/wavesurfer_data/exp_0001.h5\n",
      "/n/files/Neurobio/MICROSCOPE/Gyu/BMI_data/cage_0322/mouse_0322N/20230524/wavesurfer_data/exp_0001.h5\n",
      "/n/files/Neurobio/MICROSCOPE/Gyu/BMI_data/cage_0322/mouse_0322N/20230502/wavesurfer_data/exp_0001.h5\n"
     ]
    }
   ],
   "source": [
    "paths_files_remote = sftp_t.search_recursive(\n",
    "    path=r'/n/files/Neurobio/MICROSCOPE/Gyu/BMI_data/cage_0322/mouse_0322N/',\n",
    "    search_pattern_re=r'.*exp.*h5',\n",
    "    max_depth=6,\n",
    "    find_files=True,\n",
    "    find_folders=False,\n",
    "    verbose=True,\n",
    ")\n",
    "\n",
    "paths_files_remote = natsort.natsorted(paths_files_remote)"
   ]
  },
  {
   "cell_type": "code",
   "execution_count": 18,
   "id": "cb7867f2",
   "metadata": {},
   "outputs": [],
   "source": [
    "dates_files_remote = [Path(p).parent.parent.name for p in paths_files_remote]"
   ]
  },
  {
   "cell_type": "code",
   "execution_count": 19,
   "id": "80c10f80",
   "metadata": {},
   "outputs": [
    {
     "data": {
      "text/plain": [
       "['20230430',\n",
       " '20230501',\n",
       " '20230502',\n",
       " '20230503',\n",
       " '20230504',\n",
       " '20230505',\n",
       " '20230506',\n",
       " '20230507',\n",
       " '20230508',\n",
       " '20230509',\n",
       " '20230510',\n",
       " '20230511',\n",
       " '20230512',\n",
       " '20230513',\n",
       " '20230514',\n",
       " '20230515',\n",
       " '20230517',\n",
       " '20230518',\n",
       " '20230519',\n",
       " '20230520',\n",
       " '20230521',\n",
       " '20230522',\n",
       " '20230523',\n",
       " '20230524',\n",
       " '20230525',\n",
       " '20230526',\n",
       " '20230527',\n",
       " '20230528',\n",
       " '20230529',\n",
       " '20230530',\n",
       " '20230531',\n",
       " '20230601']"
      ]
     },
     "execution_count": 19,
     "metadata": {},
     "output_type": "execute_result"
    }
   ],
   "source": [
    "dates_files_remote"
   ]
  },
  {
   "cell_type": "code",
   "execution_count": 20,
   "id": "f9deea8d",
   "metadata": {},
   "outputs": [],
   "source": [
    "directory_local_save = r'/media/rich/bigSSD/analysis_data/face_rhythm/mouse_0322N/wavesurfer_files/'"
   ]
  },
  {
   "cell_type": "code",
   "execution_count": 21,
   "id": "69d5d717",
   "metadata": {},
   "outputs": [
    {
     "name": "stderr",
     "output_type": "stream",
     "text": [
      "100%|██████████████████████████████████████▉| 50.7M/50.7M [00:00<00:00, 51.2Mb/s]\n",
      "100%|██████████████████████████████████████▉| 50.7M/50.7M [00:01<00:00, 45.1Mb/s]\n",
      "100%|██████████████████████████████████████▉| 50.7M/50.7M [00:01<00:00, 36.7Mb/s]\n",
      "100%|██████████████████████████████████████▉| 50.7M/50.7M [00:01<00:00, 43.1Mb/s]\n",
      "100%|██████████████████████████████████████▉| 50.7M/50.7M [00:01<00:00, 48.3Mb/s]\n",
      "100%|██████████████████████████████████████▉| 50.7M/50.7M [00:00<00:00, 52.9Mb/s]\n",
      "100%|██████████████████████████████████████▉| 50.7M/50.7M [00:00<00:00, 57.4Mb/s]\n",
      "100%|██████████████████████████████████████▉| 50.7M/50.7M [00:00<00:00, 60.1Mb/s]\n",
      "100%|██████████████████████████████████████▉| 50.7M/50.7M [00:00<00:00, 62.1Mb/s]\n",
      "100%|██████████████████████████████████████▉| 50.7M/50.7M [00:00<00:00, 61.1Mb/s]\n",
      "100%|██████████████████████████████████████▉| 50.7M/50.7M [00:00<00:00, 57.7Mb/s]\n",
      "100%|██████████████████████████████████████▉| 50.7M/50.7M [00:00<00:00, 61.2Mb/s]\n",
      "100%|██████████████████████████████████████▉| 50.7M/50.7M [00:00<00:00, 63.1Mb/s]\n",
      "100%|██████████████████████████████████████▉| 50.7M/50.7M [00:00<00:00, 62.3Mb/s]\n",
      "100%|██████████████████████████████████████▉| 50.7M/50.7M [00:00<00:00, 61.4Mb/s]\n",
      "100%|██████████████████████████████████████▉| 50.7M/50.7M [00:00<00:00, 62.7Mb/s]\n",
      "100%|██████████████████████████████████████▉| 50.7M/50.7M [00:00<00:00, 61.5Mb/s]\n",
      "100%|██████████████████████████████████████▉| 50.7M/50.7M [00:00<00:00, 62.1Mb/s]\n",
      "100%|██████████████████████████████████████▉| 50.7M/50.7M [00:00<00:00, 63.0Mb/s]\n",
      "100%|██████████████████████████████████████▉| 50.7M/50.7M [00:00<00:00, 61.0Mb/s]\n",
      "100%|██████████████████████████████████████▉| 50.7M/50.7M [00:01<00:00, 46.9Mb/s]\n",
      "100%|██████████████████████████████████████▉| 50.7M/50.7M [00:00<00:00, 61.9Mb/s]\n",
      "100%|██████████████████████████████████████▉| 50.7M/50.7M [00:00<00:00, 61.4Mb/s]\n",
      "100%|██████████████████████████████████████▉| 50.7M/50.7M [00:00<00:00, 61.8Mb/s]\n",
      "100%|██████████████████████████████████████▉| 50.7M/50.7M [00:00<00:00, 62.1Mb/s]\n",
      "100%|██████████████████████████████████████▉| 50.7M/50.7M [00:00<00:00, 62.9Mb/s]\n",
      "100%|██████████████████████████████████████▉| 50.7M/50.7M [00:00<00:00, 62.9Mb/s]\n",
      "100%|██████████████████████████████████████▉| 50.7M/50.7M [00:00<00:00, 60.5Mb/s]\n",
      "100%|██████████████████████████████████████▉| 50.7M/50.7M [00:00<00:00, 61.7Mb/s]\n",
      "100%|██████████████████████████████████████▉| 50.7M/50.7M [00:00<00:00, 62.8Mb/s]\n",
      "100%|██████████████████████████████████████▉| 50.7M/50.7M [00:00<00:00, 62.2Mb/s]\n",
      "100%|██████████████████████████████████████▉| 50.7M/50.7M [00:00<00:00, 60.2Mb/s]\n"
     ]
    },
    {
     "data": {
      "text/plain": [
       "[None,\n",
       " None,\n",
       " None,\n",
       " None,\n",
       " None,\n",
       " None,\n",
       " None,\n",
       " None,\n",
       " None,\n",
       " None,\n",
       " None,\n",
       " None,\n",
       " None,\n",
       " None,\n",
       " None,\n",
       " None,\n",
       " None,\n",
       " None,\n",
       " None,\n",
       " None,\n",
       " None,\n",
       " None,\n",
       " None,\n",
       " None,\n",
       " None,\n",
       " None,\n",
       " None,\n",
       " None,\n",
       " None,\n",
       " None,\n",
       " None,\n",
       " None]"
      ]
     },
     "execution_count": 21,
     "metadata": {},
     "output_type": "execute_result"
    }
   ],
   "source": [
    "[sftp_t.get(remotepath=p_r, localpath=str(Path(directory_local_save) / date / Path(p_r).name)) for p_r, date in zip(paths_files_remote, dates_files_remote)]"
   ]
  },
  {
   "cell_type": "code",
   "execution_count": 9,
   "id": "f73c4c7c",
   "metadata": {},
   "outputs": [
    {
     "name": "stderr",
     "output_type": "stream",
     "text": [
      "100%|██████████████████████████████████████▉| 33.7G/33.7G [08:56<00:00, 62.7Mb/s]\n"
     ]
    }
   ],
   "source": [
    "sftp_t.get(\n",
    "    remotepath=r'/n/files/Neurobio/MICROSCOPE/Gyu/BMI_data/cage_0322/mouse_0322N/20230501/camera_data/exp/cam4/cam42023-05-01T10_48_48.avi',\n",
    "    localpath=r'/media/rich/bigSSD/analysis_data/face_rhythm/mouse_0322N/cam42023-05-01T10_48_48.avi',\n",
    ")"
   ]
  },
  {
   "cell_type": "code",
   "execution_count": null,
   "id": "4d9ec9b8",
   "metadata": {},
   "outputs": [],
   "source": []
  }
 ],
 "metadata": {
  "kernelspec": {
   "display_name": "Python 3 (ipykernel)",
   "language": "python",
   "name": "python3"
  },
  "language_info": {
   "codemirror_mode": {
    "name": "ipython",
    "version": 3
   },
   "file_extension": ".py",
   "mimetype": "text/x-python",
   "name": "python",
   "nbconvert_exporter": "python",
   "pygments_lexer": "ipython3",
   "version": "3.11.3"
  }
 },
 "nbformat": 4,
 "nbformat_minor": 5
}
