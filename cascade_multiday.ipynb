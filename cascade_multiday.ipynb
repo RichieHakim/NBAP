{
 "cells": [
  {
   "cell_type": "code",
   "execution_count": 1,
   "id": "0b26f2ec",
   "metadata": {},
   "outputs": [
    {
     "data": {
      "text/html": [
       "<style>.container {width:95% !important; }</style>"
      ],
      "text/plain": [
       "<IPython.core.display.HTML object>"
      ]
     },
     "metadata": {},
     "output_type": "display_data"
    },
    {
     "name": "stdout",
     "output_type": "stream",
     "text": [
      "Conda Environment: fr_env\n"
     ]
    }
   ],
   "source": [
    "# widen jupyter notebook window\n",
    "from IPython.core.display import display, HTML\n",
    "display(HTML(\"<style>.container {width:95% !important; }</style>\"))\n",
    "\n",
    "# check environment\n",
    "import os\n",
    "print(f'Conda Environment: ' + os.environ['CONDA_DEFAULT_ENV'])"
   ]
  },
  {
   "cell_type": "code",
   "execution_count": 2,
   "id": "dfd72f17",
   "metadata": {},
   "outputs": [],
   "source": [
    "import matplotlib.pyplot as plt\n",
    "\n",
    "import numpy as np\n",
    "import torch\n",
    "\n",
    "import scipy.io\n",
    "import scipy.interpolate\n",
    "\n",
    "import sklearn\n",
    "\n",
    "from tqdm.notebook import tqdm\n",
    "\n",
    "import copy\n",
    "import time\n",
    "import gc"
   ]
  },
  {
   "cell_type": "code",
   "execution_count": 3,
   "id": "956fd899",
   "metadata": {},
   "outputs": [
    {
     "name": "stdout",
     "output_type": "stream",
     "text": [
      "The autoreload extension is already loaded. To reload it, use:\n",
      "  %reload_ext autoreload\n"
     ]
    }
   ],
   "source": [
    "import sys\n",
    "sys.path.append('/n/data1/hms/neurobio/sabatini/rich/github_repos/')\n",
    "\n",
    "%load_ext autoreload\n",
    "%autoreload 2\n",
    "from basic_neural_processing_modules import *\n",
    "\n",
    "%load_ext autoreload\n",
    "%autoreload 2\n",
    "from NBAP import import_data, align_data"
   ]
  },
  {
   "cell_type": "code",
   "execution_count": 4,
   "id": "ca8928eb",
   "metadata": {},
   "outputs": [
    {
     "name": "stdout",
     "output_type": "stream",
     "text": [
      "\tYAML reader installed (version 0.17.19).\n"
     ]
    },
    {
     "name": "stderr",
     "output_type": "stream",
     "text": [
      "Using TensorFlow backend.\n",
      "2021-12-29 03:42:38.934846: W tensorflow/stream_executor/platform/default/dso_loader.cc:59] Could not load dynamic library 'libcudart.so.10.1'; dlerror: libcudart.so.10.1: cannot open shared object file: No such file or directory; LD_LIBRARY_PATH: /home/rh183/miniconda3/envs/fr_env/lib/python3.8/site-packages/cv2/../../lib64:\n",
      "2021-12-29 03:42:38.934873: I tensorflow/stream_executor/cuda/cudart_stub.cc:29] Ignore above cudart dlerror if you do not have a GPU set up on your machine.\n"
     ]
    },
    {
     "name": "stdout",
     "output_type": "stream",
     "text": [
      "\tKeras installed (version 2.3.1).\n",
      "\tTensorflow installed (version 2.3.0).\n"
     ]
    }
   ],
   "source": [
    "import cascade2p\n",
    "from cascade2p import checks\n",
    "checks.check_packages()\n",
    "from cascade2p import cascade # local folder\n",
    "from cascade2p.utils import plot_dFF_traces, plot_noise_level_distribution, plot_noise_matched_ground_truth"
   ]
  },
  {
   "cell_type": "code",
   "execution_count": 5,
   "id": "58a8cfda",
   "metadata": {},
   "outputs": [],
   "source": [
    "import torchinterp1d"
   ]
  },
  {
   "cell_type": "raw",
   "id": "90a8fa72",
   "metadata": {},
   "source": [
    "import all the s2p outputs\n",
    "preprocess them (cascade)\n",
    "quality check them\n",
    "\n",
    "import all the wavesurfer files\n",
    "get ws_times for all frames (assume you can trust first and last edges of pulses)\n",
    "get ws_times of all experiment events\n",
    "\n",
    "import experiment file\n",
    "get event types\n",
    "save metadata on event durations and types etc."
   ]
  },
  {
   "cell_type": "code",
   "execution_count": 6,
   "id": "5a4eba4a",
   "metadata": {},
   "outputs": [],
   "source": [
    "from pathlib import Path\n",
    "\n",
    "dir_S2p = Path(r'/n/data1/hms/neurobio/sabatini/rich/data/res2p/round_5_experiments/mouse_2_6/scanimage/20210409/baseline/suite2p/plane0/')"
   ]
  },
  {
   "cell_type": "code",
   "execution_count": 1,
   "id": "5ff6e222",
   "metadata": {},
   "outputs": [],
   "source": [
    "dir_batch = ['/n/data1/hms/neurobio/sabatini/rich/data/res2p/round_5_experiments/mouse_2_6/scanimage/20210409/baseline/suite2p/plane0/',\n",
    "             '/n/data1/hms/neurobio/sabatini/rich/data/res2p/round_5_experiments/mouse_2_6/scanimage/20210410/exp/suite2p/plane0/',\n",
    "             '/n/data1/hms/neurobio/sabatini/rich/data/res2p/round_5_experiments/mouse_2_6/scanimage/20210411/exp/suite2p/plane0/',\n",
    "             '/n/data1/hms/neurobio/sabatini/rich/data/res2p/round_5_experiments/mouse_2_6/scanimage/20210412/exp/suite2p/plane0/',\n",
    "             '/n/data1/hms/neurobio/sabatini/rich/data/res2p/round_5_experiments/mouse_2_6/scanimage/20210413/exp/suite2p/plane0/',\n",
    "             '/n/data1/hms/neurobio/sabatini/rich/data/res2p/round_5_experiments/mouse_2_6/scanimage/20210414/exp/suite2p/plane0/',\n",
    "             '/n/data1/hms/neurobio/sabatini/rich/data/res2p/round_5_experiments/mouse_2_6/scanimage/20210415/exp/suite2p/plane0/',\n",
    "             '/n/data1/hms/neurobio/sabatini/rich/data/res2p/round_5_experiments/mouse_2_6/scanimage/20210416/exp/suite2p/plane0/',\n",
    "             '/n/data1/hms/neurobio/sabatini/rich/data/res2p/round_5_experiments/mouse_2_6/scanimage/20210417/exp/suite2p/plane0/',\n",
    "            ]"
   ]
  },
  {
   "cell_type": "raw",
   "id": "6a4d94a1",
   "metadata": {},
   "source": [
    "import pickle\n",
    "import json\n",
    "with open('/n/data1/hms/neurobio/sabatini/rich/analysis/mouse_2_6/neural_data/spike_prob_dayNames.json', 'w') as f:\n",
    "    json.dump(dir_batch, f)"
   ]
  },
  {
   "cell_type": "raw",
   "id": "229157e8",
   "metadata": {},
   "source": [
    "with open('/n/data1/hms/neurobio/sabatini/rich/analysis/mouse_2_6/neural_data/spike_prob_dayNames.json', 'r') as f:\n",
    "    test = json.load(f)"
   ]
  },
  {
   "cell_type": "code",
   "execution_count": null,
   "id": "0c237c29",
   "metadata": {},
   "outputs": [],
   "source": [
    "spike_prob_all = []\n",
    "for iter_day,dir_S2p in enumerate(dir_batch):\n",
    "\n",
    "    F , Fneu , iscell , ops , spks , stat , num_frames_S2p = import_data.import_S2p(dir_S2p)\n",
    "\n",
    "    channelOffset_correction = 150\n",
    "    percentile_baseline = 10\n",
    "\n",
    "    dFoF , dF , F_neuSub , F_baseline = ca2p_preprocessing.make_dFoF(   F=F + channelOffset_correction,\n",
    "                                                                        Fneu=Fneu + channelOffset_correction,\n",
    "                                                                        neuropil_fraction=0.7,\n",
    "                                                                        percentile_baseline=percentile_baseline,\n",
    "                                                                        multicore_pref=True,\n",
    "                                                                        verbose=True)\n",
    "\n",
    "    dFoF_smooth = timeSeries.convolve_along_axis(dFoF,\n",
    "                                                kernel=math_functions.gaussian(np.arange(-15,15), 0, sig=50/30, plot_pref=False)[0],\n",
    "                                                axis=1,\n",
    "                                                mode='same',\n",
    "                                                multicore_pref=True,\n",
    "                                                verbose=True)\n",
    "\n",
    "    spike_prob = np.concatenate([cascade.predict(model_name='Global_EXC_30Hz_smoothing50ms_causalkernel',\n",
    "                                                 traces=batch, \n",
    "                                                 model_folder='/n/data1/hms/neurobio/sabatini/rich/github_repos/Cascade/Pretrained_models', \n",
    "                                                 padding=0\n",
    "                                                ) for batch in indexing.make_batches(dFoF_smooth, num_batches=20)], axis=0)\n",
    "\n",
    "    np.save(f'/n/data1/hms/neurobio/sabatini/rich/spike_prob_{iter_day}.npy', np.single(spike_prob))\n",
    "    spike_prob_all.append(np.single(spike_prob))"
   ]
  },
  {
   "cell_type": "code",
   "execution_count": 9,
   "id": "7caf6357",
   "metadata": {},
   "outputs": [],
   "source": [
    "np.save(f'/n/data1/hms/neurobio/sabatini/rich/spike_prob_all.npy', spike_prob_all)"
   ]
  },
  {
   "cell_type": "raw",
   "id": "2dc60bf3",
   "metadata": {},
   "source": [
    "spike_prob = np.load('/n/data1/hms/neurobio/sabatini/rich/spike_prob.npy')"
   ]
  },
  {
   "cell_type": "raw",
   "id": "9e92c446",
   "metadata": {},
   "source": [
    "%matplotlib notebook\n",
    "plt.figure()\n",
    "plt.plot(dFoF_smooth[3].T)\n",
    "plt.plot(spike_prob[3].T)"
   ]
  },
  {
   "cell_type": "code",
   "execution_count": null,
   "id": "8924c0a5",
   "metadata": {},
   "outputs": [],
   "source": []
  },
  {
   "cell_type": "code",
   "execution_count": null,
   "id": "c87c1d30",
   "metadata": {},
   "outputs": [],
   "source": []
  },
  {
   "cell_type": "code",
   "execution_count": null,
   "id": "97d06632",
   "metadata": {},
   "outputs": [],
   "source": []
  },
  {
   "cell_type": "code",
   "execution_count": null,
   "id": "21fc4ddf",
   "metadata": {},
   "outputs": [],
   "source": []
  },
  {
   "cell_type": "code",
   "execution_count": null,
   "id": "153a856d",
   "metadata": {},
   "outputs": [],
   "source": []
  },
  {
   "cell_type": "code",
   "execution_count": null,
   "id": "7aad3379",
   "metadata": {},
   "outputs": [],
   "source": []
  }
 ],
 "metadata": {
  "kernelspec": {
   "display_name": "Python 3 (ipykernel)",
   "language": "python",
   "name": "python3"
  },
  "language_info": {
   "codemirror_mode": {
    "name": "ipython",
    "version": 3
   },
   "file_extension": ".py",
   "mimetype": "text/x-python",
   "name": "python",
   "nbconvert_exporter": "python",
   "pygments_lexer": "ipython3",
   "version": "3.8.12"
  }
 },
 "nbformat": 4,
 "nbformat_minor": 5
}
